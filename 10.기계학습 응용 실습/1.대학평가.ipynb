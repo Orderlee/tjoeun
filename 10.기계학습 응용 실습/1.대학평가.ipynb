{
 "cells": [
  {
   "cell_type": "code",
   "execution_count": 1,
   "metadata": {},
   "outputs": [
    {
     "data": {
      "text/html": [
       "<div>\n",
       "<style scoped>\n",
       "    .dataframe tbody tr th:only-of-type {\n",
       "        vertical-align: middle;\n",
       "    }\n",
       "\n",
       "    .dataframe tbody tr th {\n",
       "        vertical-align: top;\n",
       "    }\n",
       "\n",
       "    .dataframe thead th {\n",
       "        text-align: right;\n",
       "    }\n",
       "</style>\n",
       "<table border=\"1\" class=\"dataframe\">\n",
       "  <thead>\n",
       "    <tr style=\"text-align: right;\">\n",
       "      <th></th>\n",
       "      <th>quality_of_education</th>\n",
       "      <th>alumni_employment</th>\n",
       "      <th>quality_of_faculty</th>\n",
       "      <th>publications</th>\n",
       "      <th>influence</th>\n",
       "      <th>citations</th>\n",
       "      <th>patents</th>\n",
       "      <th>score</th>\n",
       "      <th>class</th>\n",
       "    </tr>\n",
       "  </thead>\n",
       "  <tbody>\n",
       "    <tr>\n",
       "      <td>0</td>\n",
       "      <td>7</td>\n",
       "      <td>9</td>\n",
       "      <td>1</td>\n",
       "      <td>1</td>\n",
       "      <td>1</td>\n",
       "      <td>1</td>\n",
       "      <td>5</td>\n",
       "      <td>100.00</td>\n",
       "      <td>1</td>\n",
       "    </tr>\n",
       "    <tr>\n",
       "      <td>1</td>\n",
       "      <td>9</td>\n",
       "      <td>17</td>\n",
       "      <td>3</td>\n",
       "      <td>12</td>\n",
       "      <td>4</td>\n",
       "      <td>4</td>\n",
       "      <td>1</td>\n",
       "      <td>91.67</td>\n",
       "      <td>1</td>\n",
       "    </tr>\n",
       "    <tr>\n",
       "      <td>2</td>\n",
       "      <td>17</td>\n",
       "      <td>11</td>\n",
       "      <td>5</td>\n",
       "      <td>4</td>\n",
       "      <td>2</td>\n",
       "      <td>2</td>\n",
       "      <td>15</td>\n",
       "      <td>89.50</td>\n",
       "      <td>1</td>\n",
       "    </tr>\n",
       "    <tr>\n",
       "      <td>3</td>\n",
       "      <td>10</td>\n",
       "      <td>24</td>\n",
       "      <td>4</td>\n",
       "      <td>16</td>\n",
       "      <td>16</td>\n",
       "      <td>11</td>\n",
       "      <td>50</td>\n",
       "      <td>86.17</td>\n",
       "      <td>1</td>\n",
       "    </tr>\n",
       "    <tr>\n",
       "      <td>4</td>\n",
       "      <td>2</td>\n",
       "      <td>29</td>\n",
       "      <td>7</td>\n",
       "      <td>37</td>\n",
       "      <td>22</td>\n",
       "      <td>22</td>\n",
       "      <td>18</td>\n",
       "      <td>85.21</td>\n",
       "      <td>1</td>\n",
       "    </tr>\n",
       "  </tbody>\n",
       "</table>\n",
       "</div>"
      ],
      "text/plain": [
       "   quality_of_education  alumni_employment  quality_of_faculty  publications  \\\n",
       "0                     7                  9                   1             1   \n",
       "1                     9                 17                   3            12   \n",
       "2                    17                 11                   5             4   \n",
       "3                    10                 24                   4            16   \n",
       "4                     2                 29                   7            37   \n",
       "\n",
       "   influence  citations  patents   score  class  \n",
       "0          1          1        5  100.00      1  \n",
       "1          4          4        1   91.67      1  \n",
       "2          2          2       15   89.50      1  \n",
       "3         16         11       50   86.17      1  \n",
       "4         22         22       18   85.21      1  "
      ]
     },
     "execution_count": 1,
     "metadata": {},
     "output_type": "execute_result"
    }
   ],
   "source": [
    "import pandas as pd\n",
    "df=pd.read_csv('d:/data/university/data.csv')\n",
    "df.head()"
   ]
  },
  {
   "cell_type": "code",
   "execution_count": 2,
   "metadata": {},
   "outputs": [
    {
     "data": {
      "text/html": [
       "<div>\n",
       "<style scoped>\n",
       "    .dataframe tbody tr th:only-of-type {\n",
       "        vertical-align: middle;\n",
       "    }\n",
       "\n",
       "    .dataframe tbody tr th {\n",
       "        vertical-align: top;\n",
       "    }\n",
       "\n",
       "    .dataframe thead th {\n",
       "        text-align: right;\n",
       "    }\n",
       "</style>\n",
       "<table border=\"1\" class=\"dataframe\">\n",
       "  <thead>\n",
       "    <tr style=\"text-align: right;\">\n",
       "      <th></th>\n",
       "      <th>quality_of_education</th>\n",
       "      <th>alumni_employment</th>\n",
       "      <th>quality_of_faculty</th>\n",
       "      <th>publications</th>\n",
       "      <th>influence</th>\n",
       "      <th>citations</th>\n",
       "      <th>patents</th>\n",
       "      <th>score</th>\n",
       "      <th>class</th>\n",
       "    </tr>\n",
       "  </thead>\n",
       "  <tbody>\n",
       "    <tr>\n",
       "      <td>0</td>\n",
       "      <td>7</td>\n",
       "      <td>9</td>\n",
       "      <td>1</td>\n",
       "      <td>1</td>\n",
       "      <td>1</td>\n",
       "      <td>1</td>\n",
       "      <td>5</td>\n",
       "      <td>100.00</td>\n",
       "      <td>1</td>\n",
       "    </tr>\n",
       "    <tr>\n",
       "      <td>1</td>\n",
       "      <td>9</td>\n",
       "      <td>17</td>\n",
       "      <td>3</td>\n",
       "      <td>12</td>\n",
       "      <td>4</td>\n",
       "      <td>4</td>\n",
       "      <td>1</td>\n",
       "      <td>91.67</td>\n",
       "      <td>1</td>\n",
       "    </tr>\n",
       "    <tr>\n",
       "      <td>2</td>\n",
       "      <td>17</td>\n",
       "      <td>11</td>\n",
       "      <td>5</td>\n",
       "      <td>4</td>\n",
       "      <td>2</td>\n",
       "      <td>2</td>\n",
       "      <td>15</td>\n",
       "      <td>89.50</td>\n",
       "      <td>1</td>\n",
       "    </tr>\n",
       "    <tr>\n",
       "      <td>3</td>\n",
       "      <td>10</td>\n",
       "      <td>24</td>\n",
       "      <td>4</td>\n",
       "      <td>16</td>\n",
       "      <td>16</td>\n",
       "      <td>11</td>\n",
       "      <td>50</td>\n",
       "      <td>86.17</td>\n",
       "      <td>1</td>\n",
       "    </tr>\n",
       "    <tr>\n",
       "      <td>4</td>\n",
       "      <td>2</td>\n",
       "      <td>29</td>\n",
       "      <td>7</td>\n",
       "      <td>37</td>\n",
       "      <td>22</td>\n",
       "      <td>22</td>\n",
       "      <td>18</td>\n",
       "      <td>85.21</td>\n",
       "      <td>1</td>\n",
       "    </tr>\n",
       "  </tbody>\n",
       "</table>\n",
       "</div>"
      ],
      "text/plain": [
       "   quality_of_education  alumni_employment  quality_of_faculty  publications  \\\n",
       "0                     7                  9                   1             1   \n",
       "1                     9                 17                   3            12   \n",
       "2                    17                 11                   5             4   \n",
       "3                    10                 24                   4            16   \n",
       "4                     2                 29                   7            37   \n",
       "\n",
       "   influence  citations  patents   score  class  \n",
       "0          1          1        5  100.00      1  \n",
       "1          4          4        1   91.67      1  \n",
       "2          2          2       15   89.50      1  \n",
       "3         16         11       50   86.17      1  \n",
       "4         22         22       18   85.21      1  "
      ]
     },
     "execution_count": 2,
     "metadata": {},
     "output_type": "execute_result"
    }
   ],
   "source": [
    "train_cols=df.columns[0:8]\n",
    "X=df[train_cols] #독립변수\n",
    "y=df['class'] #종속변수\n",
    "df.head()"
   ]
  },
  {
   "cell_type": "code",
   "execution_count": 3,
   "metadata": {},
   "outputs": [
    {
     "name": "stdout",
     "output_type": "stream",
     "text": [
      "Optimization terminated successfully.\n",
      "         Current function value: 0.188005\n",
      "         Iterations 9\n",
      "                           Results: Logit\n",
      "====================================================================\n",
      "Model:                 Logit             Pseudo R-squared:  0.654   \n",
      "Dependent Variable:    class             AIC:               843.2218\n",
      "Date:                  2020-03-17 14:16  BIC:               888.7915\n",
      "No. Observations:      2200              Log-Likelihood:    -413.61 \n",
      "Df Model:              7                 LL-Null:           -1196.0 \n",
      "Df Residuals:          2192              LLR p-value:       0.0000  \n",
      "Converged:             1.0000            Scale:             1.0000  \n",
      "No. Iterations:        9.0000                                       \n",
      "--------------------------------------------------------------------\n",
      "                      Coef.  Std.Err.    z    P>|z|   [0.025  0.975]\n",
      "--------------------------------------------------------------------\n",
      "quality_of_education -0.0004   0.0010 -0.3846 0.7005 -0.0023  0.0016\n",
      "alumni_employment    -0.0020   0.0006 -3.6520 0.0003 -0.0031 -0.0009\n",
      "quality_of_faculty   -0.0039   0.0018 -2.1705 0.0300 -0.0074 -0.0004\n",
      "publications         -0.0048   0.0012 -3.9896 0.0001 -0.0072 -0.0024\n",
      "influence            -0.0036   0.0013 -2.8797 0.0040 -0.0061 -0.0012\n",
      "citations            -0.0031   0.0011 -2.7247 0.0064 -0.0053 -0.0009\n",
      "patents              -0.0005   0.0005 -1.0228 0.3064 -0.0014  0.0004\n",
      "score                 0.0693   0.0047 14.7323 0.0000  0.0601  0.0785\n",
      "====================================================================\n",
      "\n"
     ]
    }
   ],
   "source": [
    "#로지스틱 회귀분석\n",
    "import statsmodels.api as sm\n",
    "model=sm.Logit(y,X)\n",
    "result=model.fit()\n",
    "print(result.summary2()) #요약정보\n",
    "#모형의 설명력: 65.4%\n",
    "#유의하지 않은 변수들\n",
    "#"
   ]
  },
  {
   "cell_type": "code",
   "execution_count": 4,
   "metadata": {},
   "outputs": [
    {
     "data": {
      "text/plain": [
       "Index(['quality_of_education', 'alumni_employment', 'quality_of_faculty',\n",
       "       'publications', 'influence', 'citations', 'patents', 'score', 'class'],\n",
       "      dtype='object')"
      ]
     },
     "execution_count": 4,
     "metadata": {},
     "output_type": "execute_result"
    }
   ],
   "source": [
    "df.columns"
   ]
  },
  {
   "cell_type": "code",
   "execution_count": 5,
   "metadata": {},
   "outputs": [
    {
     "name": "stdout",
     "output_type": "stream",
     "text": [
      "Warning: Maximum number of iterations has been exceeded.\n",
      "         Current function value: 0.000000\n",
      "         Iterations: 35\n",
      "                              Results: Logit\n",
      "==========================================================================\n",
      "Model:                  Logit              Pseudo R-squared:   1.000      \n",
      "Dependent Variable:     class              AIC:                16.0000    \n",
      "Date:                   2020-03-17 14:16   BIC:                61.5697    \n",
      "No. Observations:       2200               Log-Likelihood:     -5.5556e-06\n",
      "Df Model:               7                  LL-Null:            -1196.0    \n",
      "Df Residuals:           2192               LLR p-value:        0.0000     \n",
      "Converged:              0.0000             Scale:              1.0000     \n",
      "No. Iterations:         35.0000                                           \n",
      "--------------------------------------------------------------------------\n",
      "                    Coef.   Std.Err.    z    P>|z|     [0.025     0.975]  \n",
      "--------------------------------------------------------------------------\n",
      "alumni_employment  -0.0146    7.1292 -0.0021 0.9984    -13.9877    13.9584\n",
      "quality_of_faculty -0.0717   43.1462 -0.0017 0.9987    -84.6368    84.4934\n",
      "publications       -0.0187   12.5178 -0.0015 0.9988    -24.5531    24.5158\n",
      "influence           0.0156   10.4827  0.0015 0.9988    -20.5301    20.5613\n",
      "citations           0.0013   10.2863  0.0001 0.9999    -20.1594    20.1620\n",
      "patents            -0.0025    3.4677 -0.0007 0.9994     -6.7990     6.7941\n",
      "score              -0.3090   81.6415 -0.0038 0.9970   -160.3234   159.7055\n",
      "class              54.9565 8485.9663  0.0065 0.9948 -16577.2319 16687.1449\n",
      "==========================================================================\n",
      "\n"
     ]
    },
    {
     "name": "stderr",
     "output_type": "stream",
     "text": [
      "C:\\Anaconda\\lib\\site-packages\\statsmodels\\base\\model.py:512: ConvergenceWarning: Maximum Likelihood optimization failed to converge. Check mle_retvals\n",
      "  \"Check mle_retvals\", ConvergenceWarning)\n"
     ]
    }
   ],
   "source": [
    "# quality_of_education 제거\n",
    "X=df[['alumni_employment', 'quality_of_faculty',\n",
    "       'publications', 'influence', 'citations', 'patents', 'score', 'class']]\n",
    "y=df['class'] #종속변수\n",
    "\n",
    "model=sm.Logit(y,X)\n",
    "result=model.fit()\n",
    "print(result.summary2())"
   ]
  },
  {
   "cell_type": "code",
   "execution_count": 6,
   "metadata": {},
   "outputs": [
    {
     "name": "stdout",
     "output_type": "stream",
     "text": [
      "Warning: Maximum number of iterations has been exceeded.\n",
      "         Current function value: 0.000000\n",
      "         Iterations: 35\n",
      "                              Results: Logit\n",
      "==========================================================================\n",
      "Model:                  Logit              Pseudo R-squared:   1.000      \n",
      "Dependent Variable:     class              AIC:                16.0000    \n",
      "Date:                   2020-03-17 14:16   BIC:                61.5697    \n",
      "No. Observations:       2200               Log-Likelihood:     -5.5556e-06\n",
      "Df Model:               7                  LL-Null:            -1196.0    \n",
      "Df Residuals:           2192               LLR p-value:        0.0000     \n",
      "Converged:              0.0000             Scale:              1.0000     \n",
      "No. Iterations:         35.0000                                           \n",
      "--------------------------------------------------------------------------\n",
      "                    Coef.   Std.Err.    z    P>|z|     [0.025     0.975]  \n",
      "--------------------------------------------------------------------------\n",
      "alumni_employment  -0.0146    7.1292 -0.0021 0.9984    -13.9877    13.9584\n",
      "quality_of_faculty -0.0717   43.1462 -0.0017 0.9987    -84.6368    84.4934\n",
      "publications       -0.0187   12.5178 -0.0015 0.9988    -24.5531    24.5158\n",
      "influence           0.0156   10.4827  0.0015 0.9988    -20.5301    20.5613\n",
      "citations           0.0013   10.2863  0.0001 0.9999    -20.1594    20.1620\n",
      "patents            -0.0025    3.4677 -0.0007 0.9994     -6.7990     6.7941\n",
      "score              -0.3090   81.6415 -0.0038 0.9970   -160.3234   159.7055\n",
      "class              54.9565 8485.9663  0.0065 0.9948 -16577.2319 16687.1449\n",
      "==========================================================================\n",
      "\n"
     ]
    },
    {
     "name": "stderr",
     "output_type": "stream",
     "text": [
      "C:\\Anaconda\\lib\\site-packages\\statsmodels\\base\\model.py:512: ConvergenceWarning: Maximum Likelihood optimization failed to converge. Check mle_retvals\n",
      "  \"Check mle_retvals\", ConvergenceWarning)\n"
     ]
    }
   ],
   "source": [
    "# quality_of_education, 제거\n",
    "X=df[['alumni_employment', 'quality_of_faculty',\n",
    "       'publications', 'influence', 'citations', 'patents', 'score', 'class']]\n",
    "y=df['class'] #종속변수\n",
    "\n",
    "model=sm.Logit(y,X)\n",
    "result=model.fit()\n",
    "print(result.summary2())"
   ]
  },
  {
   "cell_type": "code",
   "execution_count": 19,
   "metadata": {},
   "outputs": [],
   "source": [
    "#최종적으로 선택한 독립변수\n",
    "train_cols=[]"
   ]
  },
  {
   "cell_type": "code",
   "execution_count": 20,
   "metadata": {},
   "outputs": [
    {
     "data": {
      "text/plain": [
       "0    1686\n",
       "1     514\n",
       "Name: class, dtype: int64"
      ]
     },
     "execution_count": 20,
     "metadata": {},
     "output_type": "execute_result"
    }
   ],
   "source": [
    "#샘플링 작업(0,1)\n",
    "df['class'].value_counts()"
   ]
  },
  {
   "cell_type": "code",
   "execution_count": 21,
   "metadata": {},
   "outputs": [
    {
     "ename": "ValueError",
     "evalue": "at least one array or dtype is required",
     "output_type": "error",
     "traceback": [
      "\u001b[1;31m---------------------------------------------------------------------------\u001b[0m",
      "\u001b[1;31mValueError\u001b[0m                                Traceback (most recent call last)",
      "\u001b[1;32m<ipython-input-21-af23e858d713>\u001b[0m in \u001b[0;36m<module>\u001b[1;34m\u001b[0m\n\u001b[0;32m      1\u001b[0m \u001b[1;31m#언더샘플링\u001b[0m\u001b[1;33m\u001b[0m\u001b[1;33m\u001b[0m\u001b[1;33m\u001b[0m\u001b[0m\n\u001b[0;32m      2\u001b[0m \u001b[1;32mfrom\u001b[0m \u001b[0mimblearn\u001b[0m\u001b[1;33m.\u001b[0m\u001b[0munder_sampling\u001b[0m \u001b[1;32mimport\u001b[0m \u001b[0mRandomUnderSampler\u001b[0m\u001b[1;33m\u001b[0m\u001b[1;33m\u001b[0m\u001b[0m\n\u001b[1;32m----> 3\u001b[1;33m \u001b[0mX_sample\u001b[0m\u001b[1;33m,\u001b[0m\u001b[0my_sample\u001b[0m\u001b[1;33m=\u001b[0m\u001b[0mRandomUnderSampler\u001b[0m\u001b[1;33m(\u001b[0m\u001b[0mrandom_state\u001b[0m\u001b[1;33m=\u001b[0m\u001b[1;36m0\u001b[0m\u001b[1;33m)\u001b[0m\u001b[1;33m.\u001b[0m\u001b[0mfit_sample\u001b[0m\u001b[1;33m(\u001b[0m\u001b[0mX\u001b[0m\u001b[1;33m,\u001b[0m\u001b[0my\u001b[0m\u001b[1;33m)\u001b[0m\u001b[1;33m\u001b[0m\u001b[1;33m\u001b[0m\u001b[0m\n\u001b[0m\u001b[0;32m      4\u001b[0m \u001b[0mX_samp\u001b[0m\u001b[1;33m=\u001b[0m\u001b[0mpd\u001b[0m\u001b[1;33m.\u001b[0m\u001b[0mDataFrame\u001b[0m\u001b[1;33m(\u001b[0m\u001b[0mdata\u001b[0m\u001b[1;33m=\u001b[0m\u001b[0mX_sample\u001b[0m\u001b[1;33m,\u001b[0m\u001b[0mcolumns\u001b[0m\u001b[1;33m=\u001b[0m\u001b[0mtrain_cols\u001b[0m\u001b[1;33m)\u001b[0m\u001b[1;33m\u001b[0m\u001b[1;33m\u001b[0m\u001b[0m\n\u001b[0;32m      5\u001b[0m \u001b[0my_samp\u001b[0m\u001b[1;33m=\u001b[0m\u001b[0mpd\u001b[0m\u001b[1;33m.\u001b[0m\u001b[0mDataFrame\u001b[0m\u001b[1;33m(\u001b[0m\u001b[0mdata\u001b[0m\u001b[1;33m=\u001b[0m\u001b[0my_sample\u001b[0m\u001b[1;33m,\u001b[0m\u001b[0mcolumns\u001b[0m\u001b[1;33m=\u001b[0m\u001b[1;33m[\u001b[0m\u001b[1;34m'class'\u001b[0m\u001b[1;33m]\u001b[0m\u001b[1;33m)\u001b[0m\u001b[1;33m\u001b[0m\u001b[1;33m\u001b[0m\u001b[0m\n",
      "\u001b[1;32mC:\\Anaconda\\lib\\site-packages\\imblearn\\base.py\u001b[0m in \u001b[0;36mfit_resample\u001b[1;34m(self, X, y)\u001b[0m\n\u001b[0;32m     75\u001b[0m         \u001b[0mcheck_classification_targets\u001b[0m\u001b[1;33m(\u001b[0m\u001b[0my\u001b[0m\u001b[1;33m)\u001b[0m\u001b[1;33m\u001b[0m\u001b[1;33m\u001b[0m\u001b[0m\n\u001b[0;32m     76\u001b[0m         \u001b[0marrays_transformer\u001b[0m \u001b[1;33m=\u001b[0m \u001b[0mArraysTransformer\u001b[0m\u001b[1;33m(\u001b[0m\u001b[0mX\u001b[0m\u001b[1;33m,\u001b[0m \u001b[0my\u001b[0m\u001b[1;33m)\u001b[0m\u001b[1;33m\u001b[0m\u001b[1;33m\u001b[0m\u001b[0m\n\u001b[1;32m---> 77\u001b[1;33m         \u001b[0mX\u001b[0m\u001b[1;33m,\u001b[0m \u001b[0my\u001b[0m\u001b[1;33m,\u001b[0m \u001b[0mbinarize_y\u001b[0m \u001b[1;33m=\u001b[0m \u001b[0mself\u001b[0m\u001b[1;33m.\u001b[0m\u001b[0m_check_X_y\u001b[0m\u001b[1;33m(\u001b[0m\u001b[0mX\u001b[0m\u001b[1;33m,\u001b[0m \u001b[0my\u001b[0m\u001b[1;33m)\u001b[0m\u001b[1;33m\u001b[0m\u001b[1;33m\u001b[0m\u001b[0m\n\u001b[0m\u001b[0;32m     78\u001b[0m \u001b[1;33m\u001b[0m\u001b[0m\n\u001b[0;32m     79\u001b[0m         self.sampling_strategy_ = check_sampling_strategy(\n",
      "\u001b[1;32mC:\\Anaconda\\lib\\site-packages\\imblearn\\under_sampling\\_prototype_selection\\_random_under_sampler.py\u001b[0m in \u001b[0;36m_check_X_y\u001b[1;34m(self, X, y)\u001b[0m\n\u001b[0;32m     84\u001b[0m         \u001b[0my\u001b[0m\u001b[1;33m,\u001b[0m \u001b[0mbinarize_y\u001b[0m \u001b[1;33m=\u001b[0m \u001b[0mcheck_target_type\u001b[0m\u001b[1;33m(\u001b[0m\u001b[0my\u001b[0m\u001b[1;33m,\u001b[0m \u001b[0mindicate_one_vs_all\u001b[0m\u001b[1;33m=\u001b[0m\u001b[1;32mTrue\u001b[0m\u001b[1;33m)\u001b[0m\u001b[1;33m\u001b[0m\u001b[1;33m\u001b[0m\u001b[0m\n\u001b[0;32m     85\u001b[0m         X = check_array(X, accept_sparse=[\"csr\", \"csc\"], dtype=None,\n\u001b[1;32m---> 86\u001b[1;33m                         force_all_finite=False)\n\u001b[0m\u001b[0;32m     87\u001b[0m         y = check_array(\n\u001b[0;32m     88\u001b[0m             \u001b[0my\u001b[0m\u001b[1;33m,\u001b[0m \u001b[0maccept_sparse\u001b[0m\u001b[1;33m=\u001b[0m\u001b[1;33m[\u001b[0m\u001b[1;34m\"csr\"\u001b[0m\u001b[1;33m,\u001b[0m \u001b[1;34m\"csc\"\u001b[0m\u001b[1;33m]\u001b[0m\u001b[1;33m,\u001b[0m \u001b[0mdtype\u001b[0m\u001b[1;33m=\u001b[0m\u001b[1;32mNone\u001b[0m\u001b[1;33m,\u001b[0m \u001b[0mensure_2d\u001b[0m\u001b[1;33m=\u001b[0m\u001b[1;32mFalse\u001b[0m\u001b[1;33m\u001b[0m\u001b[1;33m\u001b[0m\u001b[0m\n",
      "\u001b[1;32mC:\\Anaconda\\lib\\site-packages\\sklearn\\utils\\validation.py\u001b[0m in \u001b[0;36mcheck_array\u001b[1;34m(array, accept_sparse, accept_large_sparse, dtype, order, copy, force_all_finite, ensure_2d, allow_nd, ensure_min_samples, ensure_min_features, warn_on_dtype, estimator)\u001b[0m\n\u001b[0;32m    473\u001b[0m \u001b[1;33m\u001b[0m\u001b[0m\n\u001b[0;32m    474\u001b[0m         \u001b[1;32mif\u001b[0m \u001b[0mall\u001b[0m\u001b[1;33m(\u001b[0m\u001b[0misinstance\u001b[0m\u001b[1;33m(\u001b[0m\u001b[0mdtype\u001b[0m\u001b[1;33m,\u001b[0m \u001b[0mnp\u001b[0m\u001b[1;33m.\u001b[0m\u001b[0mdtype\u001b[0m\u001b[1;33m)\u001b[0m \u001b[1;32mfor\u001b[0m \u001b[0mdtype\u001b[0m \u001b[1;32min\u001b[0m \u001b[0mdtypes_orig\u001b[0m\u001b[1;33m)\u001b[0m\u001b[1;33m:\u001b[0m\u001b[1;33m\u001b[0m\u001b[1;33m\u001b[0m\u001b[0m\n\u001b[1;32m--> 475\u001b[1;33m             \u001b[0mdtype_orig\u001b[0m \u001b[1;33m=\u001b[0m \u001b[0mnp\u001b[0m\u001b[1;33m.\u001b[0m\u001b[0mresult_type\u001b[0m\u001b[1;33m(\u001b[0m\u001b[1;33m*\u001b[0m\u001b[0mdtypes_orig\u001b[0m\u001b[1;33m)\u001b[0m\u001b[1;33m\u001b[0m\u001b[1;33m\u001b[0m\u001b[0m\n\u001b[0m\u001b[0;32m    476\u001b[0m \u001b[1;33m\u001b[0m\u001b[0m\n\u001b[0;32m    477\u001b[0m     \u001b[1;32mif\u001b[0m \u001b[0mdtype_numeric\u001b[0m\u001b[1;33m:\u001b[0m\u001b[1;33m\u001b[0m\u001b[1;33m\u001b[0m\u001b[0m\n",
      "\u001b[1;31mValueError\u001b[0m: at least one array or dtype is required"
     ]
    }
   ],
   "source": [
    "#언더샘플링\n",
    "from imblearn.under_sampling import RandomUnderSampler\n",
    "X_sample,y_sample=RandomUnderSampler(random_state=0).fit_sample(X,y)\n",
    "X_samp=pd.DataFrame(data=X_sample,columns=train_cols)\n",
    "y_samp=pd.DataFrame(data=y_sample,columns=['class'])\n",
    "df_samp=pd.concat([X_samp,y_samp],axis=1)"
   ]
  },
  {
   "cell_type": "code",
   "execution_count": 10,
   "metadata": {},
   "outputs": [
    {
     "data": {
      "text/plain": [
       "1    514\n",
       "0    514\n",
       "Name: class, dtype: int64"
      ]
     },
     "execution_count": 10,
     "metadata": {},
     "output_type": "execute_result"
    }
   ],
   "source": [
    "df_samp['class'].value_counts() #샘플링 후의 0,1 분포"
   ]
  },
  {
   "cell_type": "code",
   "execution_count": 11,
   "metadata": {},
   "outputs": [],
   "source": [
    "#샘플링 데이터셋에서 X,y 선택\n",
    "X=X_samp[train_cols]\n",
    "y=y_samp['class']"
   ]
  },
  {
   "cell_type": "code",
   "execution_count": 17,
   "metadata": {},
   "outputs": [],
   "source": [
    "#학습용:검증용 8:2로 구분\n",
    "from sklearn.model_selection import train_test_split\n",
    "X_train,X_test,y_train,y_test=train_test_split(X,y,test_size=0.2,\n",
    "                                              stratify=y,random_state=10)"
   ]
  },
  {
   "cell_type": "code",
   "execution_count": 18,
   "metadata": {},
   "outputs": [
    {
     "ename": "ValueError",
     "evalue": "at least one array or dtype is required",
     "output_type": "error",
     "traceback": [
      "\u001b[1;31m---------------------------------------------------------------------------\u001b[0m",
      "\u001b[1;31mValueError\u001b[0m                                Traceback (most recent call last)",
      "\u001b[1;32m<ipython-input-18-2fa93deed9e5>\u001b[0m in \u001b[0;36m<module>\u001b[1;34m\u001b[0m\n\u001b[0;32m      2\u001b[0m \u001b[1;32mfrom\u001b[0m \u001b[0msklearn\u001b[0m\u001b[1;33m.\u001b[0m\u001b[0mlinear_model\u001b[0m \u001b[1;32mimport\u001b[0m \u001b[0mLogisticRegression\u001b[0m\u001b[1;33m\u001b[0m\u001b[1;33m\u001b[0m\u001b[0m\n\u001b[0;32m      3\u001b[0m \u001b[0mlogit\u001b[0m\u001b[1;33m=\u001b[0m\u001b[0mLogisticRegression\u001b[0m\u001b[1;33m(\u001b[0m\u001b[0mrandom_state\u001b[0m\u001b[1;33m=\u001b[0m\u001b[1;36m10\u001b[0m\u001b[1;33m,\u001b[0m \u001b[0mmax_iter\u001b[0m\u001b[1;33m=\u001b[0m\u001b[1;36m5000\u001b[0m\u001b[1;33m)\u001b[0m\u001b[1;33m\u001b[0m\u001b[1;33m\u001b[0m\u001b[0m\n\u001b[1;32m----> 4\u001b[1;33m \u001b[0mlogit\u001b[0m\u001b[1;33m.\u001b[0m\u001b[0mfit\u001b[0m\u001b[1;33m(\u001b[0m\u001b[0mX_train\u001b[0m\u001b[1;33m,\u001b[0m\u001b[0my_train\u001b[0m\u001b[1;33m)\u001b[0m\u001b[1;33m\u001b[0m\u001b[1;33m\u001b[0m\u001b[0m\n\u001b[0m",
      "\u001b[1;32mC:\\Anaconda\\lib\\site-packages\\sklearn\\linear_model\\_logistic.py\u001b[0m in \u001b[0;36mfit\u001b[1;34m(self, X, y, sample_weight)\u001b[0m\n\u001b[0;32m   1525\u001b[0m \u001b[1;33m\u001b[0m\u001b[0m\n\u001b[0;32m   1526\u001b[0m         X, y = check_X_y(X, y, accept_sparse='csr', dtype=_dtype, order=\"C\",\n\u001b[1;32m-> 1527\u001b[1;33m                          accept_large_sparse=solver != 'liblinear')\n\u001b[0m\u001b[0;32m   1528\u001b[0m         \u001b[0mcheck_classification_targets\u001b[0m\u001b[1;33m(\u001b[0m\u001b[0my\u001b[0m\u001b[1;33m)\u001b[0m\u001b[1;33m\u001b[0m\u001b[1;33m\u001b[0m\u001b[0m\n\u001b[0;32m   1529\u001b[0m         \u001b[0mself\u001b[0m\u001b[1;33m.\u001b[0m\u001b[0mclasses_\u001b[0m \u001b[1;33m=\u001b[0m \u001b[0mnp\u001b[0m\u001b[1;33m.\u001b[0m\u001b[0munique\u001b[0m\u001b[1;33m(\u001b[0m\u001b[0my\u001b[0m\u001b[1;33m)\u001b[0m\u001b[1;33m\u001b[0m\u001b[1;33m\u001b[0m\u001b[0m\n",
      "\u001b[1;32mC:\\Anaconda\\lib\\site-packages\\sklearn\\utils\\validation.py\u001b[0m in \u001b[0;36mcheck_X_y\u001b[1;34m(X, y, accept_sparse, accept_large_sparse, dtype, order, copy, force_all_finite, ensure_2d, allow_nd, multi_output, ensure_min_samples, ensure_min_features, y_numeric, warn_on_dtype, estimator)\u001b[0m\n\u001b[0;32m    753\u001b[0m                     \u001b[0mensure_min_features\u001b[0m\u001b[1;33m=\u001b[0m\u001b[0mensure_min_features\u001b[0m\u001b[1;33m,\u001b[0m\u001b[1;33m\u001b[0m\u001b[1;33m\u001b[0m\u001b[0m\n\u001b[0;32m    754\u001b[0m                     \u001b[0mwarn_on_dtype\u001b[0m\u001b[1;33m=\u001b[0m\u001b[0mwarn_on_dtype\u001b[0m\u001b[1;33m,\u001b[0m\u001b[1;33m\u001b[0m\u001b[1;33m\u001b[0m\u001b[0m\n\u001b[1;32m--> 755\u001b[1;33m                     estimator=estimator)\n\u001b[0m\u001b[0;32m    756\u001b[0m     \u001b[1;32mif\u001b[0m \u001b[0mmulti_output\u001b[0m\u001b[1;33m:\u001b[0m\u001b[1;33m\u001b[0m\u001b[1;33m\u001b[0m\u001b[0m\n\u001b[0;32m    757\u001b[0m         y = check_array(y, 'csr', force_all_finite=True, ensure_2d=False,\n",
      "\u001b[1;32mC:\\Anaconda\\lib\\site-packages\\sklearn\\utils\\validation.py\u001b[0m in \u001b[0;36mcheck_array\u001b[1;34m(array, accept_sparse, accept_large_sparse, dtype, order, copy, force_all_finite, ensure_2d, allow_nd, ensure_min_samples, ensure_min_features, warn_on_dtype, estimator)\u001b[0m\n\u001b[0;32m    473\u001b[0m \u001b[1;33m\u001b[0m\u001b[0m\n\u001b[0;32m    474\u001b[0m         \u001b[1;32mif\u001b[0m \u001b[0mall\u001b[0m\u001b[1;33m(\u001b[0m\u001b[0misinstance\u001b[0m\u001b[1;33m(\u001b[0m\u001b[0mdtype\u001b[0m\u001b[1;33m,\u001b[0m \u001b[0mnp\u001b[0m\u001b[1;33m.\u001b[0m\u001b[0mdtype\u001b[0m\u001b[1;33m)\u001b[0m \u001b[1;32mfor\u001b[0m \u001b[0mdtype\u001b[0m \u001b[1;32min\u001b[0m \u001b[0mdtypes_orig\u001b[0m\u001b[1;33m)\u001b[0m\u001b[1;33m:\u001b[0m\u001b[1;33m\u001b[0m\u001b[1;33m\u001b[0m\u001b[0m\n\u001b[1;32m--> 475\u001b[1;33m             \u001b[0mdtype_orig\u001b[0m \u001b[1;33m=\u001b[0m \u001b[0mnp\u001b[0m\u001b[1;33m.\u001b[0m\u001b[0mresult_type\u001b[0m\u001b[1;33m(\u001b[0m\u001b[1;33m*\u001b[0m\u001b[0mdtypes_orig\u001b[0m\u001b[1;33m)\u001b[0m\u001b[1;33m\u001b[0m\u001b[1;33m\u001b[0m\u001b[0m\n\u001b[0m\u001b[0;32m    476\u001b[0m \u001b[1;33m\u001b[0m\u001b[0m\n\u001b[0;32m    477\u001b[0m     \u001b[1;32mif\u001b[0m \u001b[0mdtype_numeric\u001b[0m\u001b[1;33m:\u001b[0m\u001b[1;33m\u001b[0m\u001b[1;33m\u001b[0m\u001b[0m\n",
      "\u001b[1;31mValueError\u001b[0m: at least one array or dtype is required"
     ]
    }
   ],
   "source": [
    "#로지스틱 회귀분석 모형\n",
    "from sklearn.linear_model import LogisticRegression\n",
    "logit=LogisticRegression(random_state=10, max_iter=5000)\n",
    "logit.fit(X_train,y_train)"
   ]
  },
  {
   "cell_type": "code",
   "execution_count": null,
   "metadata": {},
   "outputs": [],
   "source": [
    "#모형의 예측 정확도\n",
    "print(logit.score(X_train,y_train))\n",
    "print(logit.score(X_test,y_test))"
   ]
  },
  {
   "cell_type": "code",
   "execution_count": null,
   "metadata": {},
   "outputs": [],
   "source": [
    "#박스플롯\n",
    "%matplotlib inline\n",
    "X_train.boxplot()"
   ]
  },
  {
   "cell_type": "code",
   "execution_count": null,
   "metadata": {},
   "outputs": [],
   "source": [
    "#0~1정규화\n",
    "min_on_tr=X_train.min(axis=0) #최소값\n",
    "range_on_tr=(X_train-min_on_tr).max(axis=0)\n",
    "X_train_scaled=(X_train-min_on_tr)/range_on_tr\n",
    "X_test_scaled=(X_test-min_on_tr)/range_on_tr"
   ]
  },
  {
   "cell_type": "code",
   "execution_count": null,
   "metadata": {},
   "outputs": [],
   "source": [
    "X_train_scaled.boxplot() #정규화 이후의 박스플롯"
   ]
  },
  {
   "cell_type": "code",
   "execution_count": null,
   "metadata": {},
   "outputs": [],
   "source": [
    "#정확도를 저장할 리스트\n",
    "result_tr=[]\n",
    "result_te=[]"
   ]
  },
  {
   "cell_type": "code",
   "execution_count": null,
   "metadata": {},
   "outputs": [],
   "source": [
    "logit=LogisticRegression(random_state=10)\n",
    "logit.fit(X_train_scaled,y_train)"
   ]
  },
  {
   "cell_type": "code",
   "execution_count": null,
   "metadata": {},
   "outputs": [],
   "source": [
    "#정확도를 리스트에 저장\n",
    "score_tr=logit.score(X_train_scaled,y_train)\n",
    "score_te=logit.score(X_test_scaled,y_test)\n",
    "result_tr.append(score_tr)\n",
    "result_te.append(score_te)\n",
    "print('학습용:{:6.2f}%'.format(score_tr*100))\n",
    "print('검증용:{:6.2f}%'.format(score_te*100))"
   ]
  },
  {
   "cell_type": "code",
   "execution_count": null,
   "metadata": {},
   "outputs": [],
   "source": [
    "#의사결정나무 모형\n",
    "from sklearn.tree import DecisionTreeClassifier\n",
    "tree = DecisionTreeClassifier(random_state=10)\n",
    "tree.fit(X_train_scaled,y_train)\n",
    "print('학습용:{:6.2f}%'.format(tree.score(X_train_scaled,y_train)*100))\n",
    "print('검증용:{:6.2f}%'.format(tree.score(X_test_scaled,y_test)*100))"
   ]
  },
  {
   "cell_type": "code",
   "execution_count": null,
   "metadata": {},
   "outputs": [],
   "source": [
    "#최대질문단계를 4로 설정(가지치기) ,과적합 해소\n",
    "tree=DecisionTreeClassifier(random_state=10,max_depth=4)\n",
    "tree.fit(X_train_scaled,y_train)\n",
    "print('학습용:{:6.2f}%'.format(tree.score(X_train_scaled,y_train)*100))\n",
    "print('검증용:{:6.2f}%'.format(tree.score(X_test_scaled,y_test)*100))"
   ]
  },
  {
   "cell_type": "code",
   "execution_count": null,
   "metadata": {},
   "outputs": [],
   "source": [
    "#점수를 리스트에 추가\n",
    "result_tr.append(tree.score(X_train_scaled,y_train))\n",
    "result_te.append(tree.score(X_test_scaled,y_test))\n",
    "print(result_tr)\n",
    "print(result_te)"
   ]
  },
  {
   "cell_type": "code",
   "execution_count": null,
   "metadata": {},
   "outputs": [],
   "source": [
    "#트리그래프\n",
    "from sklearn.tree import export_graphviz\n",
    "import pydotplus\n",
    "import graphviz\n",
    "from IPython.display import Image\n",
    "dot_data=export_graphviz(tree,out_file=None,\n",
    "                         feature_names=train_cols,class_names=['0','1'],filled=True,\n",
    "                         rounded=True,special_characters=True)\n",
    "graph=pydotplus.graph_from_dot_data(dot_data)\n",
    "Image(graph.create_png())\n",
    "#그래프를 해석, 몇가지 규칙 정리"
   ]
  },
  {
   "cell_type": "code",
   "execution_count": null,
   "metadata": {},
   "outputs": [],
   "source": [
    "#트리의 특성 중요도 그래프\n",
    "import numpy as np\n",
    "import matplotlib.pyplot as plt\n",
    "\n",
    "def plot_tree(model):\n",
    "    n_features=X.shape[1] #독립변수의 갯수\n",
    "    plt.rcParams['figure.figsize']=(16,9)\n",
    "    plt.barh(range(n_features),model.feature_importances_,\n",
    "            align='center') #수평막대그래프\n",
    "    #print(model.feature_importances_)\n",
    "    plt.yticks(np.arange(n_features),train_cols)\n",
    "    plt.xlabel('importance')\n",
    "    plt.ylabel('variables')\n",
    "    plt.ylim(-1,n_features)\n",
    "    \n",
    "plot_tree(tree)\n",
    "#트리를 만드는데 기여도가 높은 변수를 정리"
   ]
  },
  {
   "cell_type": "code",
   "execution_count": null,
   "metadata": {},
   "outputs": [],
   "source": [
    "#랜덤 포레스트 \n",
    "from sklearn.ensemble import RandomForestClassifier\n",
    "\n",
    "forest=RandomForestClassifier(n_estimators=100,\n",
    "                              max_depth=5,random_state=10)\n",
    "forest.fit(X_train_scaled, y_train)\n"
   ]
  },
  {
   "cell_type": "code",
   "execution_count": null,
   "metadata": {},
   "outputs": [],
   "source": [
    "score_tr=forest.score(X_train_scaled,y_train)\n",
    "score_te=forest.score(X_test_scaled,y_test)\n",
    "print('학습용:',score_tr)\n",
    "print('검증용:',score_te)"
   ]
  },
  {
   "cell_type": "code",
   "execution_count": null,
   "metadata": {},
   "outputs": [],
   "source": [
    "#결과리스트에 저장\n",
    "result_tr.append(score_tr)\n",
    "result_te.append(score_te)\n",
    "print(result_tr)\n",
    "print(result_te)"
   ]
  },
  {
   "cell_type": "code",
   "execution_count": null,
   "metadata": {},
   "outputs": [],
   "source": [
    "#랜덤 포레스트 모형의 특성 중요도 그래프\n",
    "plot_tree(forest)\n",
    "#중요한 특성들 정리\n"
   ]
  },
  {
   "cell_type": "code",
   "execution_count": null,
   "metadata": {},
   "outputs": [],
   "source": [
    "#knn 모형, 최적의 k값을 구하는 과정\n",
    "from sklearn.neighbors import KNeighborsClassifier\n",
    "import numpy as np\n",
    "train_rate=[] #학습용 정확도를 저장할 리스트\n",
    "test_rate=[] #검증용 정확도를 저장할 리스트\n",
    "neighbors=range(1,11) #이웃의 갯수 1~10\n",
    "for n in neighbors:\n",
    "    knn=KNeighborsClassifier(n_neighbors=n) #knn 모형\n",
    "    knn.fit(X_train_scaled, y_train) #학습\n",
    "    train_rate.append(knn.score(X_train_scaled,y_train))\n",
    "    test_rate.append(knn.score(X_test_scaled,y_test))\n",
    "    \n",
    "test_arr=np.array(test_rate) #리스트를 넘파이배열로 변환\n",
    "max_rate=np.max(test_arr) #최대값\n",
    "idx=np.where(test_arr==max_rate)[0][0] #최대값의 인덱스를 구함\n",
    "print('최적의 k:',neighbors[idx])\n",
    "print('최적의 정확도:',test_rate[idx])\n",
    "plt.rcParams['font.size']=15\n",
    "plt.plot(neighbors,train_rate,label='Train')\n",
    "plt.plot(neighbors,test_rate,label='Test')\n",
    "plt.ylabel('Accuracy')\n",
    "plt.xlabel('k')\n",
    "plt.legend()"
   ]
  },
  {
   "cell_type": "code",
   "execution_count": null,
   "metadata": {},
   "outputs": [],
   "source": [
    "#실험을 통해 얻은 k값으로 만든 knn 모형\n",
    "knn=KNeighborsClassifier(n_neighbors=8)\n",
    "knn.fit(X_train_scaled,y_train)"
   ]
  },
  {
   "cell_type": "code",
   "execution_count": null,
   "metadata": {},
   "outputs": [],
   "source": [
    "#예측정확도\n",
    "score_tr=knn.score(X_train_scaled,y_train)\n",
    "score_te=knn.score(X_test_scaled,y_test)\n",
    "print('학습용:',score_tr)\n",
    "print('검증용:',score_te)"
   ]
  },
  {
   "cell_type": "code",
   "execution_count": 65,
   "metadata": {},
   "outputs": [
    {
     "name": "stdout",
     "output_type": "stream",
     "text": [
      "[0.927007299270073, 1.0, 1.0, 0.9537712895377128]\n",
      "[0.941747572815534, 1.0, 1.0, 0.9514563106796117]\n"
     ]
    }
   ],
   "source": [
    "#결과리스트에 저장\n",
    "result_tr.append(score_tr)\n",
    "result_te.append(score_te)\n",
    "print(result_tr)\n",
    "print(result_te)"
   ]
  },
  {
   "cell_type": "code",
   "execution_count": 66,
   "metadata": {},
   "outputs": [
    {
     "name": "stdout",
     "output_type": "stream",
     "text": [
      "최적의 k: 3\n",
      "최적의 정확도: 0.9805825242718447\n",
      "100 300\n"
     ]
    },
    {
     "data": {
      "image/png": "[encoded data removed]",
      "text/plain": [
       "<Figure size 1152x648 with 1 Axes>"
      ]
     },
     "metadata": {
      "needs_background": "light"
     },
     "output_type": "display_data"
    }
   ],
   "source": [
    "#인공신경망에서 최적의 은닉노드갯수를 결정하기 위한 실험\n",
    "from sklearn.neural_network import MLPClassifier\n",
    "import numpy as np\n",
    "import matplotlib.pyplot as plt\n",
    "train_rate=[]\n",
    "test_rate=[]\n",
    "for i in range(100,501,100): #첫번째 은닉층의 노드수 100~500\n",
    "    for j in range(100,501,100): #두번째 은닉층의 노드수 100~500\n",
    "        model=MLPClassifier(random_state=100,\n",
    "                           hidden_layer_sizes=[i,j],max_iter=5000)\n",
    "        model.fit(X_train_scaled,y_train)\n",
    "        train_rate.append(model.score(X_train_scaled,y_train))\n",
    "        test_rate.append(model.score(X_test_scaled,y_test))\n",
    "        \n",
    "plt.rcParams['font.size']=15\n",
    "plt.plot(range(1,26),train_rate,label='Train')\n",
    "plt.plot(range(1,26),test_rate,label='Test')\n",
    "plt.ylabel('Accuracy')\n",
    "plt.xlabel('count')\n",
    "plt.legend()\n",
    "\n",
    "max_rate=max(test_rate) #최대값\n",
    "idx=np.where(test_rate == max_rate)[0][0] #최대값의 인덱스값\n",
    "print('최적의 k:',idx+1)\n",
    "print('최적의 정확도:',max_rate)\n",
    "cnt=0\n",
    "for i in range(100,501,100):\n",
    "    for j in range(100,501,100):\n",
    "        if cnt == idx:\n",
    "            print(i,j)\n",
    "        cnt+=1"
   ]
  },
  {
   "cell_type": "code",
   "execution_count": 68,
   "metadata": {},
   "outputs": [
    {
     "data": {
      "text/plain": [
       "MLPClassifier(activation='relu', alpha=0.0001, batch_size='auto', beta_1=0.9,\n",
       "              beta_2=0.999, early_stopping=False, epsilon=1e-08,\n",
       "              hidden_layer_sizes=[100, 300], learning_rate='constant',\n",
       "              learning_rate_init=0.001, max_fun=15000, max_iter=5000,\n",
       "              momentum=0.9, n_iter_no_change=10, nesterovs_momentum=True,\n",
       "              power_t=0.5, random_state=100, shuffle=True, solver='adam',\n",
       "              tol=0.0001, validation_fraction=0.1, verbose=False,\n",
       "              warm_start=False)"
      ]
     },
     "execution_count": 68,
     "metadata": {},
     "output_type": "execute_result"
    }
   ],
   "source": [
    "#최적의 은닉노드를 적용한 인공신경망 모형\n",
    "mlp=MLPClassifier(max_iter=5000,hidden_layer_sizes=[100,300],\n",
    "                 random_state=100)\n",
    "mlp.fit(X_train_scaled,y_train)"
   ]
  },
  {
   "cell_type": "code",
   "execution_count": 69,
   "metadata": {},
   "outputs": [
    {
     "name": "stdout",
     "output_type": "stream",
     "text": [
      "학습용: 0.9902676399026764\n",
      "검증용: 0.9805825242718447\n"
     ]
    }
   ],
   "source": [
    "#예측정확도\n",
    "score_tr=mlp.score(X_train_scaled,y_train)\n",
    "score_te=mlp.score(X_test_scaled,y_test)\n",
    "print('학습용:',score_tr)\n",
    "print('검증용:',score_te)"
   ]
  },
  {
   "cell_type": "code",
   "execution_count": 70,
   "metadata": {},
   "outputs": [
    {
     "name": "stdout",
     "output_type": "stream",
     "text": [
      "[0.927007299270073, 1.0, 1.0, 0.9537712895377128, 0.9902676399026764]\n",
      "[0.941747572815534, 1.0, 1.0, 0.9514563106796117, 0.9805825242718447]\n"
     ]
    }
   ],
   "source": [
    "#결과리스트에 저장\n",
    "result_tr.append(score_tr)\n",
    "result_te.append(score_te)\n",
    "print(result_tr)\n",
    "print(result_te)"
   ]
  },
  {
   "cell_type": "code",
   "execution_count": 15,
   "metadata": {},
   "outputs": [
    {
     "ename": "NameError",
     "evalue": "name 'X_train_scaled' is not defined",
     "output_type": "error",
     "traceback": [
      "\u001b[1;31m---------------------------------------------------------------------------\u001b[0m",
      "\u001b[1;31mNameError\u001b[0m                                 Traceback (most recent call last)",
      "\u001b[1;32m<ipython-input-15-a73e03f38afc>\u001b[0m in \u001b[0;36m<module>\u001b[1;34m\u001b[0m\n\u001b[0;32m      8\u001b[0m     \u001b[1;32mfor\u001b[0m \u001b[0mg\u001b[0m \u001b[1;32min\u001b[0m \u001b[0mg_values\u001b[0m\u001b[1;33m:\u001b[0m\u001b[1;33m\u001b[0m\u001b[1;33m\u001b[0m\u001b[0m\n\u001b[0;32m      9\u001b[0m         \u001b[0msvm\u001b[0m\u001b[1;33m=\u001b[0m\u001b[0mSVC\u001b[0m\u001b[1;33m(\u001b[0m\u001b[0mC\u001b[0m\u001b[1;33m=\u001b[0m\u001b[0mn\u001b[0m\u001b[1;33m,\u001b[0m\u001b[0mgamma\u001b[0m\u001b[1;33m=\u001b[0m\u001b[0mg\u001b[0m\u001b[1;33m,\u001b[0m\u001b[0mrandom_state\u001b[0m\u001b[1;33m=\u001b[0m\u001b[1;36m10\u001b[0m\u001b[1;33m)\u001b[0m\u001b[1;33m\u001b[0m\u001b[1;33m\u001b[0m\u001b[0m\n\u001b[1;32m---> 10\u001b[1;33m         \u001b[0msvm\u001b[0m\u001b[1;33m.\u001b[0m\u001b[0mfit\u001b[0m\u001b[1;33m(\u001b[0m\u001b[0mX_train_scaled\u001b[0m\u001b[1;33m,\u001b[0m\u001b[0my_train\u001b[0m\u001b[1;33m)\u001b[0m\u001b[1;33m\u001b[0m\u001b[1;33m\u001b[0m\u001b[0m\n\u001b[0m\u001b[0;32m     11\u001b[0m         \u001b[0mtrain_rate\u001b[0m\u001b[1;33m.\u001b[0m\u001b[0mappend\u001b[0m\u001b[1;33m(\u001b[0m\u001b[1;33m[\u001b[0m\u001b[0mn\u001b[0m\u001b[1;33m,\u001b[0m\u001b[0mg\u001b[0m\u001b[1;33m,\u001b[0m\u001b[0msvm\u001b[0m\u001b[1;33m.\u001b[0m\u001b[0mscore\u001b[0m\u001b[1;33m(\u001b[0m\u001b[0mX_train_scaled\u001b[0m\u001b[1;33m,\u001b[0m\u001b[0my_train\u001b[0m\u001b[1;33m)\u001b[0m\u001b[1;33m]\u001b[0m\u001b[1;33m)\u001b[0m\u001b[1;33m\u001b[0m\u001b[1;33m\u001b[0m\u001b[0m\n\u001b[0;32m     12\u001b[0m         \u001b[0mtest_rate\u001b[0m\u001b[1;33m.\u001b[0m\u001b[0mappend\u001b[0m\u001b[1;33m(\u001b[0m\u001b[1;33m[\u001b[0m\u001b[0mn\u001b[0m\u001b[1;33m,\u001b[0m\u001b[0mg\u001b[0m\u001b[1;33m,\u001b[0m\u001b[0msvm\u001b[0m\u001b[1;33m.\u001b[0m\u001b[0mscore\u001b[0m\u001b[1;33m(\u001b[0m\u001b[0mX_test_scaled\u001b[0m\u001b[1;33m,\u001b[0m\u001b[0my_test\u001b[0m\u001b[1;33m)\u001b[0m\u001b[1;33m]\u001b[0m\u001b[1;33m)\u001b[0m\u001b[1;33m\u001b[0m\u001b[1;33m\u001b[0m\u001b[0m\n",
      "\u001b[1;31mNameError\u001b[0m: name 'X_train_scaled' is not defined"
     ]
    }
   ],
   "source": [
    "#svm 모형의 최적의 C,gamma value를 찾는 과정\n",
    "from sklearn.svm import SVC\n",
    "train_rate=[]\n",
    "test_rate=[]\n",
    "c_values=[0.001,0.01,0.1,1,10,100,1000]\n",
    "g_values=[0.0001,0.001,0.01,0.1]\n",
    "for n in c_values:\n",
    "    for g in g_values:\n",
    "        svm=SVC(C=n,gamma=g,random_state=10)\n",
    "        svm.fit(X_train_scaled,y_train)\n",
    "        train_rate.append([n,g,svm.score(X_train_scaled,y_train)])\n",
    "        test_rate.append([n,g,svm.score(X_test_scaled,y_test)])\n",
    "        \n",
    "train_arr=np.array(train_rate)\n",
    "test_arr=np.array(test_rate)\n",
    "max_rate=np.max(test_arr[:,2])\n",
    "idx=np.where(test_arr[:,2]==max_rate)[0][0]\n",
    "print('최적의 c:',test_rate[idx][0])\n",
    "print('최적의 gamma:',test_rate[idx][1])\n",
    "print('최적의 정확도:',test_rate[idx][2])\n",
    "\n",
    "plt.rcParams['font.size']=15\n",
    "plt.plot(range(len(train_rate)),train_arr[:,2],label='Train')\n",
    "plt.plot(range(len(test_rate)),test_arr[:,2],label='Test')\n",
    "plt.ylabel('Accuracy')\n",
    "plt.legend()"
   ]
  },
  {
   "cell_type": "code",
   "execution_count": 72,
   "metadata": {},
   "outputs": [
    {
     "data": {
      "text/plain": [
       "SVC(C=100, break_ties=False, cache_size=200, class_weight=None, coef0=0.0,\n",
       "    decision_function_shape='ovr', degree=3, gamma=0.1, kernel='rbf',\n",
       "    max_iter=-1, probability=False, random_state=10, shrinking=True, tol=0.001,\n",
       "    verbose=False)"
      ]
     },
     "execution_count": 72,
     "metadata": {},
     "output_type": "execute_result"
    }
   ],
   "source": [
    "#최적의 c: 100, 최적의 gamma:0.1 로 만든 svm 모형\n",
    "svm=SVC(C=100,gamma=0.1,random_state=10)\n",
    "svm.fit(X_train_scaled,y_train)"
   ]
  },
  {
   "cell_type": "code",
   "execution_count": 73,
   "metadata": {},
   "outputs": [
    {
     "name": "stdout",
     "output_type": "stream",
     "text": [
      "학습용: 0.9793187347931873\n",
      "검증용: 0.9757281553398058\n"
     ]
    }
   ],
   "source": [
    "#예측정확도\n",
    "score_tr=svm.score(X_train_scaled,y_train)\n",
    "score_te=svm.score(X_test_scaled,y_test)\n",
    "print('학습용:',score_tr)\n",
    "print('검증용:',score_te)"
   ]
  },
  {
   "cell_type": "code",
   "execution_count": 74,
   "metadata": {},
   "outputs": [
    {
     "name": "stdout",
     "output_type": "stream",
     "text": [
      "[0.927007299270073, 1.0, 1.0, 0.9537712895377128, 0.9902676399026764, 0.9793187347931873]\n",
      "[0.941747572815534, 1.0, 1.0, 0.9514563106796117, 0.9805825242718447, 0.9757281553398058]\n"
     ]
    }
   ],
   "source": [
    "#결과리스트에 저장\n",
    "result_tr.append(score_tr)\n",
    "result_te.append(score_te)\n",
    "print(result_tr)\n",
    "print(result_te)"
   ]
  },
  {
   "cell_type": "code",
   "execution_count": 76,
   "metadata": {},
   "outputs": [
    {
     "name": "stderr",
     "output_type": "stream",
     "text": [
      "No handles with labels found to put in legend.\n"
     ]
    },
    {
     "data": {
      "text/plain": [
       "<matplotlib.legend.Legend at 0x16416e364c8>"
      ]
     },
     "execution_count": 76,
     "metadata": {},
     "output_type": "execute_result"
    },
    {
     "data": {
      "image/png": "[encoded data removed]",
      "text/plain": [
       "<Figure size 1152x648 with 1 Axes>"
      ]
     },
     "metadata": {
      "needs_background": "light"
     },
     "output_type": "display_data"
    }
   ],
   "source": [
    "# KMeans 군집화를 위하여 최적의 중앙좌표 갯수를 구하는 코드\n",
    "from sklearn.cluster import KMeans\n",
    "clusters=range(2,11)\n",
    "inertias=[]\n",
    "for n in clusters:\n",
    "    km=KMeans(n_clusters=n,random_state=10)\n",
    "    km.fit(X_train_scaled)\n",
    "    inertias.append(km.inertia_)\n",
    "    \n",
    "plt.rcParams['font.size']=15\n",
    "plt.plot(clusters,inertias,'-o')\n",
    "plt.ylabel('inertia')\n",
    "plt.xlabel('number of clusters')\n",
    "plt.legend()\n",
    "#엘보우 포인트 확인: "
   ]
  },
  {
   "cell_type": "code",
   "execution_count": 78,
   "metadata": {},
   "outputs": [],
   "source": [
    "#군집갯수 3개인 KMeans 모형\n",
    "km=KMeans(n_clusters=3, random_state=10)\n",
    "km.fit(X_train_scaled)\n",
    "pred_tr=km.predict(X_train_scaled)\n",
    "pred_te=km.predict(X_test_scaled)"
   ]
  },
  {
   "cell_type": "code",
   "execution_count": 79,
   "metadata": {},
   "outputs": [
    {
     "name": "stdout",
     "output_type": "stream",
     "text": [
      "학습용: 0.3949080879999128\n",
      "검증용: 0.9757281553398058\n"
     ]
    }
   ],
   "source": [
    "#실루엣포인트: 군집화 지수\n",
    "from sklearn.metrics import silhouette_score\n",
    "score_tr=silhouette_score(X_train_scaled,pred_tr)\n",
    "score_tr=silhouette_score(X_test_scaled,pred_te)\n",
    "print('학습용:',score_tr)\n",
    "print('검증용:',score_te)\n"
   ]
  },
  {
   "cell_type": "code",
   "execution_count": 80,
   "metadata": {},
   "outputs": [
    {
     "name": "stdout",
     "output_type": "stream",
     "text": [
      "[0.927007299270073, 1.0, 1.0, 0.9537712895377128, 0.9902676399026764, 0.9793187347931873, 0.3949080879999128]\n",
      "[0.941747572815534, 1.0, 1.0, 0.9514563106796117, 0.9805825242718447, 0.9757281553398058, 0.9757281553398058]\n"
     ]
    }
   ],
   "source": [
    "#결과리스트에 추가\n",
    "result_tr.append(score_tr)\n",
    "result_te.append(score_te)\n",
    "print(result_tr)\n",
    "print(result_te)"
   ]
  },
  {
   "cell_type": "code",
   "execution_count": 84,
   "metadata": {},
   "outputs": [
    {
     "name": "stdout",
     "output_type": "stream",
     "text": [
      "최적의 알고리즘(학습용): TREE\n",
      "최적의 정확도(학습용): 1.0\n",
      "최적의 알고리즘(검증용): TREE\n",
      "최적의 정확도(검증용): 1.0\n"
     ]
    },
    {
     "data": {
      "text/plain": [
       "<matplotlib.legend.Legend at 0x16416deba08>"
      ]
     },
     "execution_count": 84,
     "metadata": {},
     "output_type": "execute_result"
    },
    {
     "data": {
      "image/png": "[encoded data removed]",
      "text/plain": [
       "<Figure size 1152x648 with 1 Axes>"
      ]
     },
     "metadata": {
      "needs_background": "light"
     },
     "output_type": "display_data"
    }
   ],
   "source": [
    "#알고리즘별 예측정확도 그래프\n",
    "methods=['LOGIT','TREE','RF','KNN','ANN','SVM','KMeans']\n",
    "#학습용 정확도\n",
    "result_tr_arr=np.array(result_tr)\n",
    "max_rate_tr=np.max(result_tr_arr)\n",
    "idx_tr=np.where(result_tr_arr == max_rate_tr)[0][0]\n",
    "\n",
    "result_te_arr=np.array(result_te)\n",
    "max_rate_te=np.max(result_te_arr)\n",
    "idx_te=np.where(result_te_arr == max_rate_te)[0][0]\n",
    "\n",
    "print('최적의 알고리즘(학습용):',methods[idx_tr])\n",
    "print('최적의 정확도(학습용):',max_rate_tr)\n",
    "print('최적의 알고리즘(검증용):',methods[idx_te])\n",
    "print('최적의 정확도(검증용):',max_rate_te)\n",
    "\n",
    "plt.rcParams['font.size']=15\n",
    "plt.plot(methods[:-1],result_tr_arr[:-1],label='Train')\n",
    "plt.plot(methods[:-1],result_te_arr[:-1],label='Test')\n",
    "plt.xlabel('Methods')\n",
    "plt.ylabel('Accuracy')\n",
    "plt.legend()"
   ]
  },
  {
   "cell_type": "code",
   "execution_count": null,
   "metadata": {},
   "outputs": [],
   "source": []
  },
  {
   "cell_type": "code",
   "execution_count": null,
   "metadata": {},
   "outputs": [],
   "source": []
  },
  {
   "cell_type": "code",
   "execution_count": null,
   "metadata": {},
   "outputs": [],
   "source": []
  },
  {
   "cell_type": "code",
   "execution_count": null,
   "metadata": {},
   "outputs": [],
   "source": []
  },
  {
   "cell_type": "code",
   "execution_count": null,
   "metadata": {},
   "outputs": [],
   "source": []
  },
  {
   "cell_type": "code",
   "execution_count": null,
   "metadata": {},
   "outputs": [],
   "source": []
  },
  {
   "cell_type": "code",
   "execution_count": null,
   "metadata": {},
   "outputs": [],
   "source": []
  },
  {
   "cell_type": "code",
   "execution_count": null,
   "metadata": {},
   "outputs": [],
   "source": []
  }
 ],
 "metadata": {
  "kernelspec": {
   "display_name": "Python 3",
   "language": "python",
   "name": "python3"
  },
  "language_info": {
   "codemirror_mode": {
    "name": "ipython",
    "version": 3
   },
   "file_extension": ".py",
   "mimetype": "text/x-python",
   "name": "python",
   "nbconvert_exporter": "python",
   "pygments_lexer": "ipython3",
   "version": "3.7.4"
  }
 },
 "nbformat": 4,
 "nbformat_minor": 2
}
