{
 "cells": [
  {
   "cell_type": "code",
   "execution_count": null,
   "metadata": {},
   "outputs": [],
   "source": [
    "from sklearn.svm import LinearSVC\n",
    "from sklearn.metrics import accuracy_score\n",
    "\n",
    "learn_data =[[0,0],[1,0],[0,1],[1,1]] #학습용 X\n",
    "learn_label = [0,0,0,1] #학습용 y\n",
    "\n",
    "svm = LinearSVC() #선형 svm 모형\n",
    "svm.fit(learn_data, learn_label) #학습\n",
    "\n",
    "X_test =[[0,0],[1,0],[0,1],[1,1]] #검증용 X\n",
    "pred=svm.predict(X_test) #모형이 분류한 값\n",
    "\n",
    "print(X_test) #입력값\n",
    "print(pred) #예측값\n",
    "print(accuracy_score([0,0,0,1],pred)) #예측정확도\n",
    "print(svm.score(X_test,pred))"
   ]
  },
  {
   "cell_type": "code",
   "execution_count": null,
   "metadata": {},
   "outputs": [],
   "source": [
    "#xor 문제\n",
    "from sklearn.svm import LinearSVC\n",
    "from sklearn.svm import SVC\n",
    "from sklearn.metrics import accuracy_score\n",
    "\n",
    "learn_data =[[0,0],[1,0],[0,1],[1,1]] #학습용 X\n",
    "learn_label = [0,1,1,0] #학습용 y\n",
    "\n",
    "#svm2 = LinearSVC() #선형 svm 모형\n",
    "svm2=SVC(kernel='rbf') #비선형 svm 모형(기본값)\n",
    "#svm2=SVC(kernel='linear') #선형 svm 모형\n",
    "svm2.fit(learn_data, learn_label) #학습\n",
    "\n",
    "X_test =[[0,0],[1,0],[0,1],[1,1]] #검증용 X\n",
    "pred=svm2.predict(X_test) #모형이 분류한 값\n",
    "\n",
    "print(X_test) #입력값\n",
    "print(pred) #예측값\n",
    "print(accuracy_score([0,1,1,0],pred)) #예측정확도\n"
   ]
  },
  {
   "cell_type": "markdown",
   "metadata": {},
   "source": [
    "교차검증"
   ]
  },
  {
   "cell_type": "code",
   "execution_count": 1,
   "metadata": {},
   "outputs": [
    {
     "data": {
      "text/html": [
       "<div>\n",
       "<style scoped>\n",
       "    .dataframe tbody tr th:only-of-type {\n",
       "        vertical-align: middle;\n",
       "    }\n",
       "\n",
       "    .dataframe tbody tr th {\n",
       "        vertical-align: top;\n",
       "    }\n",
       "\n",
       "    .dataframe thead th {\n",
       "        text-align: right;\n",
       "    }\n",
       "</style>\n",
       "<table border=\"1\" class=\"dataframe\">\n",
       "  <thead>\n",
       "    <tr style=\"text-align: right;\">\n",
       "      <th></th>\n",
       "      <th>sepal length (cm)</th>\n",
       "      <th>sepal width (cm)</th>\n",
       "      <th>petal length (cm)</th>\n",
       "      <th>petal width (cm)</th>\n",
       "      <th>target</th>\n",
       "      <th>Result</th>\n",
       "    </tr>\n",
       "  </thead>\n",
       "  <tbody>\n",
       "    <tr>\n",
       "      <td>0</td>\n",
       "      <td>5.1</td>\n",
       "      <td>3.5</td>\n",
       "      <td>1.4</td>\n",
       "      <td>0.2</td>\n",
       "      <td>setosa</td>\n",
       "      <td>0</td>\n",
       "    </tr>\n",
       "    <tr>\n",
       "      <td>1</td>\n",
       "      <td>4.9</td>\n",
       "      <td>3.0</td>\n",
       "      <td>1.4</td>\n",
       "      <td>0.2</td>\n",
       "      <td>setosa</td>\n",
       "      <td>0</td>\n",
       "    </tr>\n",
       "    <tr>\n",
       "      <td>2</td>\n",
       "      <td>4.7</td>\n",
       "      <td>3.2</td>\n",
       "      <td>1.3</td>\n",
       "      <td>0.2</td>\n",
       "      <td>setosa</td>\n",
       "      <td>0</td>\n",
       "    </tr>\n",
       "    <tr>\n",
       "      <td>3</td>\n",
       "      <td>4.6</td>\n",
       "      <td>3.1</td>\n",
       "      <td>1.5</td>\n",
       "      <td>0.2</td>\n",
       "      <td>setosa</td>\n",
       "      <td>0</td>\n",
       "    </tr>\n",
       "    <tr>\n",
       "      <td>4</td>\n",
       "      <td>5.0</td>\n",
       "      <td>3.6</td>\n",
       "      <td>1.4</td>\n",
       "      <td>0.2</td>\n",
       "      <td>setosa</td>\n",
       "      <td>0</td>\n",
       "    </tr>\n",
       "  </tbody>\n",
       "</table>\n",
       "</div>"
      ],
      "text/plain": [
       "   sepal length (cm)  sepal width (cm)  petal length (cm)  petal width (cm)  \\\n",
       "0                5.1               3.5                1.4               0.2   \n",
       "1                4.9               3.0                1.4               0.2   \n",
       "2                4.7               3.2                1.3               0.2   \n",
       "3                4.6               3.1                1.5               0.2   \n",
       "4                5.0               3.6                1.4               0.2   \n",
       "\n",
       "   target  Result  \n",
       "0  setosa       0  \n",
       "1  setosa       0  \n",
       "2  setosa       0  \n",
       "3  setosa       0  \n",
       "4  setosa       0  "
      ]
     },
     "execution_count": 1,
     "metadata": {},
     "output_type": "execute_result"
    }
   ],
   "source": [
    "import pandas as pd\n",
    "df=pd.read_csv('d:/data/iris/iris2.csv')\n",
    "df.head()"
   ]
  },
  {
   "cell_type": "code",
   "execution_count": 2,
   "metadata": {},
   "outputs": [
    {
     "data": {
      "text/plain": [
       "Index(['sepal length (cm)', 'sepal width (cm)', 'petal length (cm)',\n",
       "       'petal width (cm)', 'target', 'Result'],\n",
       "      dtype='object')"
      ]
     },
     "execution_count": 2,
     "metadata": {},
     "output_type": "execute_result"
    }
   ],
   "source": [
    "df.columns"
   ]
  },
  {
   "cell_type": "code",
   "execution_count": 14,
   "metadata": {},
   "outputs": [
    {
     "name": "stdout",
     "output_type": "stream",
     "text": [
      "1 fold\n",
      "0.9666666666666667\n",
      "1.0\n",
      "2 fold\n",
      "0.9583333333333334\n",
      "1.0\n",
      "3 fold\n",
      "0.975\n",
      "0.9333333333333333\n",
      "4 fold\n",
      "0.9833333333333333\n",
      "0.9333333333333333\n",
      "5 fold\n",
      "0.9666666666666667\n",
      "1.0\n",
      "0.97\n",
      "0.9733333333333334\n"
     ]
    }
   ],
   "source": [
    "import numpy as np\n",
    "from sklearn.svm import SVC\n",
    "from sklearn.model_selection import StratifiedKFold\n",
    "\n",
    "cols=['sepal length (cm)', 'sepal width (cm)', 'petal length (cm)',\n",
    "       'petal width (cm)']\n",
    "\n",
    "X=df[cols]\n",
    "y=df['Result']\n",
    "\n",
    "#n_splits=5 5-fold 교차검증, shuffle 샘플선택순서 랜덤\n",
    "skf=StratifiedKFold(n_splits=5, shuffle=True, random_state=10)\n",
    "i=1\n",
    "train_scores=[]\n",
    "test_scores=[]\n",
    "\n",
    "for train_index, test_index in skf.split(X,y):\n",
    "    print(i,'fold')\n",
    "    X_train,X_test=X.iloc[train_index,], X.iloc[test_index,] #ㅌ\n",
    "    y_train,y_test=y[train_index], y[test_index] #y\n",
    "    model=SVC(random_state=10) #SVM 모형\n",
    "    model.fit(X_train, y_train) #학습\n",
    "    score=model.score(X_train,y_train) #학습용 점수\n",
    "    print(score)\n",
    "    train_scores.append(score)\n",
    "    score=model.score(X_test,y_test) #검증용 점수\n",
    "    print(score)\n",
    "    test_scores.append(score)\n",
    "    i+=1\n",
    "    \n",
    "print(np.mean(train_scores)) #5-fold 교차검증의 평균값\n",
    "print(np.mean(test_scores))\n",
    "    \n",
    "\n"
   ]
  },
  {
   "cell_type": "code",
   "execution_count": 15,
   "metadata": {},
   "outputs": [
    {
     "data": {
      "text/plain": [
       "[(array([  0,   1,   2,   3,   4,   5,   7,  10,  12,  13,  14,  15,  16,\n",
       "          17,  18,  19,  21,  22,  23,  24,  26,  27,  28,  29,  30,  32,\n",
       "          33,  34,  35,  36,  37,  38,  39,  40,  42,  43,  44,  45,  47,\n",
       "          48,  50,  51,  52,  53,  54,  55,  56,  57,  58,  60,  62,  63,\n",
       "          64,  66,  67,  69,  70,  71,  73,  74,  75,  76,  77,  79,  80,\n",
       "          81,  82,  83,  84,  86,  87,  88,  89,  90,  91,  92,  93,  97,\n",
       "          98,  99, 101, 102, 104, 105, 106, 107, 108, 109, 110, 112, 114,\n",
       "         115, 117, 118, 119, 120, 121, 122, 123, 126, 127, 129, 130, 131,\n",
       "         133, 135, 136, 137, 138, 139, 140, 141, 142, 143, 144, 145, 146,\n",
       "         147, 148, 149]),\n",
       "  array([  6,   8,   9,  11,  20,  25,  31,  41,  46,  49,  59,  61,  65,\n",
       "          68,  72,  78,  85,  94,  95,  96, 100, 103, 111, 113, 116, 124,\n",
       "         125, 128, 132, 134])),\n",
       " (array([  0,   1,   2,   3,   4,   5,   6,   7,   8,   9,  10,  11,  12,\n",
       "          13,  15,  16,  17,  19,  20,  22,  23,  24,  25,  27,  31,  32,\n",
       "          33,  34,  36,  38,  39,  40,  41,  42,  43,  44,  45,  46,  48,\n",
       "          49,  50,  51,  53,  55,  57,  58,  59,  60,  61,  62,  63,  64,\n",
       "          65,  66,  67,  68,  69,  70,  72,  73,  74,  76,  77,  78,  79,\n",
       "          83,  84,  85,  86,  87,  90,  91,  92,  93,  94,  95,  96,  97,\n",
       "          98,  99, 100, 101, 103, 104, 105, 106, 107, 108, 110, 111, 113,\n",
       "         115, 116, 117, 118, 119, 123, 124, 125, 126, 127, 128, 129, 130,\n",
       "         131, 132, 133, 134, 135, 136, 137, 138, 140, 141, 143, 144, 145,\n",
       "         147, 148, 149]),\n",
       "  array([ 14,  18,  21,  26,  28,  29,  30,  35,  37,  47,  52,  54,  56,\n",
       "          71,  75,  80,  81,  82,  88,  89, 102, 109, 112, 114, 120, 121,\n",
       "         122, 139, 142, 146])),\n",
       " (array([  0,   2,   3,   4,   6,   7,   8,   9,  10,  11,  12,  13,  14,\n",
       "          16,  18,  19,  20,  21,  22,  23,  25,  26,  28,  29,  30,  31,\n",
       "          32,  33,  35,  36,  37,  38,  39,  40,  41,  42,  46,  47,  48,\n",
       "          49,  50,  52,  53,  54,  55,  56,  57,  59,  60,  61,  63,  64,\n",
       "          65,  68,  69,  70,  71,  72,  73,  74,  75,  77,  78,  80,  81,\n",
       "          82,  85,  86,  87,  88,  89,  90,  91,  92,  93,  94,  95,  96,\n",
       "          97,  99, 100, 102, 103, 104, 107, 108, 109, 110, 111, 112, 113,\n",
       "         114, 115, 116, 117, 119, 120, 121, 122, 124, 125, 126, 128, 131,\n",
       "         132, 133, 134, 135, 136, 137, 138, 139, 141, 142, 143, 144, 145,\n",
       "         146, 147, 148]),\n",
       "  array([  1,   5,  15,  17,  24,  27,  34,  43,  44,  45,  51,  58,  62,\n",
       "          66,  67,  76,  79,  83,  84,  98, 101, 105, 106, 118, 123, 127,\n",
       "         129, 130, 140, 149])),\n",
       " (array([  1,   2,   3,   4,   5,   6,   8,   9,  11,  12,  14,  15,  17,\n",
       "          18,  20,  21,  23,  24,  25,  26,  27,  28,  29,  30,  31,  32,\n",
       "          34,  35,  37,  38,  39,  40,  41,  42,  43,  44,  45,  46,  47,\n",
       "          49,  51,  52,  53,  54,  56,  57,  58,  59,  60,  61,  62,  63,\n",
       "          65,  66,  67,  68,  69,  71,  72,  75,  76,  78,  79,  80,  81,\n",
       "          82,  83,  84,  85,  87,  88,  89,  90,  92,  93,  94,  95,  96,\n",
       "          97,  98, 100, 101, 102, 103, 104, 105, 106, 107, 109, 110, 111,\n",
       "         112, 113, 114, 116, 118, 120, 121, 122, 123, 124, 125, 127, 128,\n",
       "         129, 130, 132, 134, 135, 137, 139, 140, 141, 142, 143, 144, 146,\n",
       "         147, 148, 149]),\n",
       "  array([  0,   7,  10,  13,  16,  19,  22,  33,  36,  48,  50,  55,  64,\n",
       "          70,  73,  74,  77,  86,  91,  99, 108, 115, 117, 119, 126, 131,\n",
       "         133, 136, 138, 145])),\n",
       " (array([  0,   1,   5,   6,   7,   8,   9,  10,  11,  13,  14,  15,  16,\n",
       "          17,  18,  19,  20,  21,  22,  24,  25,  26,  27,  28,  29,  30,\n",
       "          31,  33,  34,  35,  36,  37,  41,  43,  44,  45,  46,  47,  48,\n",
       "          49,  50,  51,  52,  54,  55,  56,  58,  59,  61,  62,  64,  65,\n",
       "          66,  67,  68,  70,  71,  72,  73,  74,  75,  76,  77,  78,  79,\n",
       "          80,  81,  82,  83,  84,  85,  86,  88,  89,  91,  94,  95,  96,\n",
       "          98,  99, 100, 101, 102, 103, 105, 106, 108, 109, 111, 112, 113,\n",
       "         114, 115, 116, 117, 118, 119, 120, 121, 122, 123, 124, 125, 126,\n",
       "         127, 128, 129, 130, 131, 132, 133, 134, 136, 138, 139, 140, 142,\n",
       "         145, 146, 149]),\n",
       "  array([  2,   3,   4,  12,  23,  32,  38,  39,  40,  42,  53,  57,  60,\n",
       "          63,  69,  87,  90,  92,  93,  97, 104, 107, 110, 135, 137, 141,\n",
       "         143, 144, 147, 148]))]"
      ]
     },
     "execution_count": 15,
     "metadata": {},
     "output_type": "execute_result"
    }
   ],
   "source": [
    "list(skf.split(X,y))"
   ]
  },
  {
   "cell_type": "code",
   "execution_count": 16,
   "metadata": {},
   "outputs": [
    {
     "name": "stdout",
     "output_type": "stream",
     "text": [
      "train K:1, mean 0.973333\n",
      "test K:1, mean 0.960000\n",
      "train K:2, mean 0.946667\n",
      "test K:2, mean 0.946667\n",
      "train K:3, mean 0.960000\n",
      "test K:3, mean 0.960000\n",
      "train K:4, mean 0.960000\n",
      "test K:4, mean 0.960000\n",
      "train K:5, mean 0.953333\n",
      "test K:5, mean 0.953333\n",
      "train K:6, mean 0.960000\n",
      "test K:6, mean 0.960000\n",
      "train K:7, mean 0.960000\n",
      "test K:7, mean 0.960000\n",
      "train K:8, mean 0.966667\n",
      "test K:8, mean 0.966667\n",
      "train K:9, mean 0.966667\n",
      "test K:9, mean 0.960000\n",
      "train K:10, mean 0.960000\n",
      "test K:10, mean 0.966667\n",
      "최고 정확도: 0.9666666666666668\n",
      "최적의 k: 8\n"
     ]
    },
    {
     "data": {
      "text/plain": [
       "<matplotlib.legend.Legend at 0x29791910508>"
      ]
     },
     "execution_count": 16,
     "metadata": {},
     "output_type": "execute_result"
    },
    {
     "data": {
      "image/png": "[encoded data removed]",
      "text/plain": [
       "<Figure size 432x288 with 1 Axes>"
      ]
     },
     "metadata": {
      "needs_background": "light"
     },
     "output_type": "display_data"
    }
   ],
   "source": [
    "%matplotlib inline\n",
    "import matplotlib.pyplot as plt\n",
    "from sklearn.neighbors import KNeighborsClassifier\n",
    "from sklearn.model_selection import StratifiedKFold\n",
    "\n",
    "kf=StratifiedKFold(5, shuffle=True, random_state=0)#5-fold 교차검증\n",
    "k_range = list(range(1,11))\n",
    "means_tr=[] #학습용 정확도\n",
    "means_te=[] #검증용 정확도\n",
    "for k in k_range:\n",
    "    train_scores = []\n",
    "    test_scores = []\n",
    "    knn = KNeighborsClassifier(n_neighbors=k) #knn 모형\n",
    "    for train, test in kf.split(X,y): #학습용, 검증용 구분\n",
    "        X_train, X_test = X.iloc[train,],X.iloc[test,] #학습용 \n",
    "        y_train, y_test = y[train],y[test] # 검증용\n",
    "        knn.fit(X_train, y_train)#학습\n",
    "        socre = knn.score(X_train, y_train) #학습용 점수\n",
    "        train_scores.append(score)\n",
    "        score=knn.score(X_test,y_test) #검증용 점수\n",
    "        test_scores.append(score)\n",
    "    mean_tr=np.mean(train_scores) #평균값 계산\n",
    "    mean_te=np.mean(test_scores)\n",
    "    print('train K:%d, mean %f' % (k,mean_tr))\n",
    "    print('test K:%d, mean %F' % (k,mean_te))\n",
    "    means_tr.append(mean_tr)\n",
    "    means_te.append(mean_te)\n",
    "    \n",
    "max_score=max(means_te)\n",
    "print('최고 정확도:',max_score)\n",
    "idx=np.where(means_te == max_score)[0][0]\n",
    "print('최적의 k:', k_range[idx])\n",
    "plt.plot(k_range, means_tr, label='Train')\n",
    "plt.plot(k_range, means_te, label='Test')\n",
    "plt.ylabel('Accuracy')\n",
    "plt.xlabel('k')\n",
    "plt.legend()"
   ]
  },
  {
   "cell_type": "code",
   "execution_count": 17,
   "metadata": {},
   "outputs": [
    {
     "name": "stdout",
     "output_type": "stream",
     "text": [
      "[0.93333333 1.         0.96666667 0.93333333 1.        ]\n",
      "96.66666666666666\n"
     ]
    }
   ],
   "source": [
    "from sklearn.neural_network import MLPClassifier\n",
    "from sklearn.model_selection import cross_val_score\n",
    "\n",
    "#5-fold 교차검증\n",
    "skf=StratifiedKFold(n_splits=5, shuffle=True, random_state=10)\n",
    "# 인공신경망 모형\n",
    "ann=MLPClassifier(random_state=10, max_iter=1000)\n",
    "#교차검증을 수행하고 점수를 리턴함\n",
    "result=cross_val_score(ann,X,y,cv=skf)\n",
    "print(result)\n",
    "#교차검증의 평균값을 결과값으로 제시\n",
    "print(np.mean(result)*100)"
   ]
  },
  {
   "cell_type": "markdown",
   "metadata": {},
   "source": [
    "파라미터 튜닝"
   ]
  },
  {
   "cell_type": "code",
   "execution_count": 38,
   "metadata": {},
   "outputs": [
    {
     "data": {
      "text/html": [
       "<div>\n",
       "<style scoped>\n",
       "    .dataframe tbody tr th:only-of-type {\n",
       "        vertical-align: middle;\n",
       "    }\n",
       "\n",
       "    .dataframe tbody tr th {\n",
       "        vertical-align: top;\n",
       "    }\n",
       "\n",
       "    .dataframe thead th {\n",
       "        text-align: right;\n",
       "    }\n",
       "</style>\n",
       "<table border=\"1\" class=\"dataframe\">\n",
       "  <thead>\n",
       "    <tr style=\"text-align: right;\">\n",
       "      <th></th>\n",
       "      <th>sepal length (cm)</th>\n",
       "      <th>sepal width (cm)</th>\n",
       "      <th>petal length (cm)</th>\n",
       "      <th>petal width (cm)</th>\n",
       "      <th>target</th>\n",
       "      <th>Result</th>\n",
       "    </tr>\n",
       "  </thead>\n",
       "  <tbody>\n",
       "    <tr>\n",
       "      <td>0</td>\n",
       "      <td>5.1</td>\n",
       "      <td>3.5</td>\n",
       "      <td>1.4</td>\n",
       "      <td>0.2</td>\n",
       "      <td>setosa</td>\n",
       "      <td>0</td>\n",
       "    </tr>\n",
       "    <tr>\n",
       "      <td>1</td>\n",
       "      <td>4.9</td>\n",
       "      <td>3.0</td>\n",
       "      <td>1.4</td>\n",
       "      <td>0.2</td>\n",
       "      <td>setosa</td>\n",
       "      <td>0</td>\n",
       "    </tr>\n",
       "    <tr>\n",
       "      <td>2</td>\n",
       "      <td>4.7</td>\n",
       "      <td>3.2</td>\n",
       "      <td>1.3</td>\n",
       "      <td>0.2</td>\n",
       "      <td>setosa</td>\n",
       "      <td>0</td>\n",
       "    </tr>\n",
       "    <tr>\n",
       "      <td>3</td>\n",
       "      <td>4.6</td>\n",
       "      <td>3.1</td>\n",
       "      <td>1.5</td>\n",
       "      <td>0.2</td>\n",
       "      <td>setosa</td>\n",
       "      <td>0</td>\n",
       "    </tr>\n",
       "    <tr>\n",
       "      <td>4</td>\n",
       "      <td>5.0</td>\n",
       "      <td>3.6</td>\n",
       "      <td>1.4</td>\n",
       "      <td>0.2</td>\n",
       "      <td>setosa</td>\n",
       "      <td>0</td>\n",
       "    </tr>\n",
       "  </tbody>\n",
       "</table>\n",
       "</div>"
      ],
      "text/plain": [
       "   sepal length (cm)  sepal width (cm)  petal length (cm)  petal width (cm)  \\\n",
       "0                5.1               3.5                1.4               0.2   \n",
       "1                4.9               3.0                1.4               0.2   \n",
       "2                4.7               3.2                1.3               0.2   \n",
       "3                4.6               3.1                1.5               0.2   \n",
       "4                5.0               3.6                1.4               0.2   \n",
       "\n",
       "   target  Result  \n",
       "0  setosa       0  \n",
       "1  setosa       0  \n",
       "2  setosa       0  \n",
       "3  setosa       0  \n",
       "4  setosa       0  "
      ]
     },
     "execution_count": 38,
     "metadata": {},
     "output_type": "execute_result"
    }
   ],
   "source": [
    "import pandas as pd\n",
    "df=pd.read_csv('d:/data/iris/iris2.csv')\n",
    "df.head()"
   ]
  },
  {
   "cell_type": "code",
   "execution_count": 39,
   "metadata": {},
   "outputs": [
    {
     "data": {
      "text/plain": [
       "Index(['sepal length (cm)', 'sepal width (cm)', 'petal length (cm)',\n",
       "       'petal width (cm)', 'target', 'Result'],\n",
       "      dtype='object')"
      ]
     },
     "execution_count": 39,
     "metadata": {},
     "output_type": "execute_result"
    }
   ],
   "source": [
    "df.columns"
   ]
  },
  {
   "cell_type": "code",
   "execution_count": 40,
   "metadata": {},
   "outputs": [],
   "source": [
    "cols=['sepal length (cm)', 'sepal width (cm)', 'petal length (cm)',\n",
    "       'petal width (cm)']\n",
    "x=df[cols]\n",
    "y=df['Result']"
   ]
  },
  {
   "cell_type": "code",
   "execution_count": 41,
   "metadata": {},
   "outputs": [],
   "source": [
    "from sklearn.model_selection import train_test_split\n",
    "X_train,X_test,y_train,y_test = train_test_split(X,y,test_size=0.2,\n",
    "                                                stratify=y,random_state=10)\n"
   ]
  },
  {
   "cell_type": "code",
   "execution_count": 42,
   "metadata": {},
   "outputs": [],
   "source": [
    "from sklearn.pipeline import Pipeline\n",
    "from sklearn.preprocessing import StandardScaler\n",
    "from sklearn.svm import SVC\n",
    "#표준화함수, 기계학습모형\n",
    "pipe_svc=Pipeline([('scl',StandardScaler()),\n",
    "                  ('clf',SVC(random_state=1))])\n",
    "#학습에 사용할 파라미터 정의\n",
    "param_range=[0.0001,0.001,0.01,0.1,1.0,10,100,1000]\n",
    "params=[\n",
    "    {'clf__C':param_range, 'clf__kernel':['linear','rbf'],\n",
    "    'clf__gamma':param_range},\n",
    "    {'clf__C':param_range, 'clf__gamma':param_range,\n",
    "    'clf__kernel':['linear','rbf']}\n",
    "]\n",
    "\n",
    "\n"
   ]
  },
  {
   "cell_type": "code",
   "execution_count": 43,
   "metadata": {},
   "outputs": [
    {
     "name": "stdout",
     "output_type": "stream",
     "text": [
      "Wall time: 11.6 s\n"
     ]
    }
   ],
   "source": [
    "from sklearn.model_selection import GridSearchCV\n",
    "#기계학습모형과 파라미터를 입력하여 10회 교차검증 수행\n",
    "gs=GridSearchCV(estimator=pipe_svc, param_grid=params,\n",
    "               scoring='accuracy',cv=10)\n",
    "%time gs=gs.fit(X_train, y_train)"
   ]
  },
  {
   "cell_type": "code",
   "execution_count": 44,
   "metadata": {},
   "outputs": [
    {
     "name": "stdout",
     "output_type": "stream",
     "text": [
      "GridSearchCV(cv=10, error_score=nan,\n",
      "             estimator=Pipeline(memory=None,\n",
      "                                steps=[('scl',\n",
      "                                        StandardScaler(copy=True,\n",
      "                                                       with_mean=True,\n",
      "                                                       with_std=True)),\n",
      "                                       ('clf',\n",
      "                                        SVC(C=1.0, break_ties=False,\n",
      "                                            cache_size=200, class_weight=None,\n",
      "                                            coef0=0.0,\n",
      "                                            decision_function_shape='ovr',\n",
      "                                            degree=3, gamma='scale',\n",
      "                                            kernel='rbf', max_iter=-1,\n",
      "                                            probability=False, random_state=1,\n",
      "                                            shrinking=True, tol=0.001,\n",
      "                                            v...\n",
      "             param_grid=[{'clf__C': [0.0001, 0.001, 0.01, 0.1, 1.0, 10, 100,\n",
      "                                     1000],\n",
      "                          'clf__gamma': [0.0001, 0.001, 0.01, 0.1, 1.0, 10, 100,\n",
      "                                         1000],\n",
      "                          'clf__kernel': ['linear', 'rbf']},\n",
      "                         {'clf__C': [0.0001, 0.001, 0.01, 0.1, 1.0, 10, 100,\n",
      "                                     1000],\n",
      "                          'clf__gamma': [0.0001, 0.001, 0.01, 0.1, 1.0, 10, 100,\n",
      "                                         1000],\n",
      "                          'clf__kernel': ['linear', 'rbf']}],\n",
      "             pre_dispatch='2*n_jobs', refit=True, return_train_score=False,\n",
      "             scoring='accuracy', verbose=0)\n"
     ]
    }
   ],
   "source": [
    "print(gs)"
   ]
  },
  {
   "cell_type": "code",
   "execution_count": 45,
   "metadata": {},
   "outputs": [
    {
     "name": "stdout",
     "output_type": "stream",
     "text": [
      "{'clf__C': 0.1, 'clf__gamma': 0.0001, 'clf__kernel': 'linear'}\n"
     ]
    }
   ],
   "source": [
    "#최적의 파라미터\n",
    "print(gs.best_params_)"
   ]
  },
  {
   "cell_type": "code",
   "execution_count": 53,
   "metadata": {},
   "outputs": [
    {
     "name": "stdout",
     "output_type": "stream",
     "text": [
      "0.9666666666666667\n",
      "1.0\n"
     ]
    }
   ],
   "source": [
    "from sklearn.metrics import accuracy_score\n",
    "y_pred = gs.predict(X_train) #예측값\n",
    "print(accuracy_score(y_train,y_pred)) #예측정확도\n",
    "y_pred=gs.predict(X_test) #예측값\n",
    "print(accuracy_score(y_test,y_pred))#예측정확도"
   ]
  },
  {
   "cell_type": "code",
   "execution_count": 51,
   "metadata": {},
   "outputs": [
    {
     "name": "stdout",
     "output_type": "stream",
     "text": [
      "[1.         1.         1.         1.         0.86666667 1.\n",
      " 0.93333333 0.93333333 1.         1.        ]\n",
      "97.33333333333334\n"
     ]
    }
   ],
   "source": [
    "#최적의 파라미터로 만든 모형\n",
    "from sklearn.model_selection import cross_val_score\n",
    "import numpy as np\n",
    "from sklearn.model_selection import StratifiedKFold\n",
    "\n",
    "\n",
    "model=SVC(random_state=1,C=0.1,gamma=0.0001,kernel='linear')\n",
    "skf=StratifiedKFold(n_splits=10,shuffle=True,random_state=10)\n",
    "result=cross_val_score(model,X,y,cv=skf)\n",
    "print(result)\n",
    "print(np.mean(result)*100)"
   ]
  },
  {
   "cell_type": "code",
   "execution_count": null,
   "metadata": {},
   "outputs": [],
   "source": []
  }
 ],
 "metadata": {
  "kernelspec": {
   "display_name": "Python 3",
   "language": "python",
   "name": "python3"
  },
  "language_info": {
   "codemirror_mode": {
    "name": "ipython",
    "version": 3
   },
   "file_extension": ".py",
   "mimetype": "text/x-python",
   "name": "python",
   "nbconvert_exporter": "python",
   "pygments_lexer": "ipython3",
   "version": "3.7.4"
  }
 },
 "nbformat": 4,
 "nbformat_minor": 2
}
