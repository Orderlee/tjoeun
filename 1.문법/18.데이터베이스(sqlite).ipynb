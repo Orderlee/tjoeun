{
 "cells": [
  {
   "cell_type": "code",
   "execution_count": null,
   "metadata": {},
   "outputs": [],
   "source": [
    "import sqlite3"
   ]
  },
  {
   "cell_type": "code",
   "execution_count": null,
   "metadata": {},
   "outputs": [],
   "source": [
    "print(sqlite3.version) #파이썬 sqlite 패키지버전\n",
    "print(sqlite3.sqlite_version) #sqlite 프로그램의 버전"
   ]
  },
  {
   "cell_type": "code",
   "execution_count": null,
   "metadata": {},
   "outputs": [],
   "source": [
    "def create_table():\n",
    "    # sqlite 데이터베이스에 접속\n",
    "    # db 파일이 없으면 새로 만들어짐\n",
    "    conn=sqlite3.connect('d:/data/db/my_books.db')\n",
    "    # 커서 생성\n",
    "    cursor=conn.cursor()\n",
    "    # sql 명령어 실행\n",
    "    cursor.execute(''' create table if not exists books( title text, published_date text,\n",
    "    publisher text, pages integer, recommend integer)''')\n",
    "    #db 접속 종료\n",
    "    conn.close()\n",
    "\n",
    "create_table()"
   ]
  },
  {
   "cell_type": "code",
   "execution_count": null,
   "metadata": {},
   "outputs": [],
   "source": [
    "#레코드 입력\n",
    "def insert_books():\n",
    "    #sqlite 데이터베이스 파일 열기(없으면 새로 생성됨)\n",
    "    conn=sqlite3.connect('d:/data/db/my_books.db')\n",
    "    #커서 생성(sql 명령어를 실행하고 실행결과셋을 탐색하는 객체)\n",
    "    cursor=conn.cursor()\n",
    "    #sql 명령어를 실행시킴\n",
    "    cursor.execute('''insert into books values('python','2019-01-01','길벗',500,10)''')\n",
    "\n",
    "    #insert 명령어 확정\n",
    "    conn.commit()\n",
    "    print('레코드가 추가되었습니다.')\n",
    "    #db접속 종료\n",
    "    conn.close()\n",
    "insert_books()"
   ]
  },
  {
   "cell_type": "code",
   "execution_count": null,
   "metadata": {},
   "outputs": [],
   "source": [
    "#레코드 입력\n",
    "def insert_books():\n",
    "    #sqlite 데이터베이스 파일 열기(없으면 새로 생성됨)\n",
    "    conn=sqlite3.connect('d:/data/db/my_books.db')\n",
    "    #커서 생성(sql 명령어를 실행하고 실행결과셋을 탐색하는 객체)\n",
    "    cursor=conn.cursor()\n",
    "    #sql 명령어를 실행시킴\n",
    "  \n",
    "    #완성되지 않은 sql 문장에 튜플을 이용하여 명령어를 실행시는 방식\n",
    "    sql='insert into books values (?,?,?,?,?)'\n",
    "    cursor.execute(sql,('python','2018-03-04','한빛',584,20))\n",
    "    \n",
    "    \n",
    "    #insert 명령어 확정\n",
    "    conn.commit()\n",
    "    print('레코드가 추가되었습니다.')\n",
    "    #db접속 종료\n",
    "    conn.close()\n",
    "insert_books()"
   ]
  },
  {
   "cell_type": "code",
   "execution_count": null,
   "metadata": {},
   "outputs": [],
   "source": [
    "#레코드 입력\n",
    "def insert_books():\n",
    "    #sqlite 데이터베이스 파일 열기(없으면 새로 생성됨)\n",
    "    conn=sqlite3.connect('d:/data/db/my_books.db')\n",
    "    #커서 생성(sql 명령어를 실행하고 실행결과셋을 탐색하는 객체)\n",
    "    cursor=conn.cursor()\n",
    "    #sql 명령어를 실행시킴\n",
    "    sql='insert into books values(?,?,?,?,?)' \n",
    "    \n",
    "    items=[('빅데이터','2014-07-02','삼성',296,11),\n",
    "          ('안드로이드','2015-07-02','영진',526,20),\n",
    "          ('python','2016-07-02','에이콘',248,15)]\n",
    "    cursor.executemany(sql,items) #일괄처리\n",
    "    \n",
    "    #insert 명령어 확정\n",
    "    conn.commit()\n",
    "    print('레코드가 추가되었습니다.')\n",
    "    #db접속 종료\n",
    "    conn.close()\n",
    "insert_books()"
   ]
  },
  {
   "cell_type": "code",
   "execution_count": null,
   "metadata": {},
   "outputs": [],
   "source": [
    "import sqlite3\n",
    "\n",
    "def all_books():\n",
    "    #sqlite 접속\n",
    "    conn = sqlite3.connect('d:/data/db/my_books.db')\n",
    "    #sql 실행을 위한 커서 생성\n",
    "    cursor = conn.cursor()\n",
    "    #sql 명령어 실행\n",
    "    cursor.execute('select *from books')\n",
    "    #결과셋을 리스트로 저장\n",
    "    books=cursor.fetchall()\n",
    "#     print(books)\n",
    "    for book in books:\n",
    "        print(book)\n",
    "    #db접속 종료\n",
    "    conn.close()\n",
    "\n",
    "all_books()"
   ]
  },
  {
   "cell_type": "code",
   "execution_count": null,
   "metadata": {},
   "outputs": [],
   "source": [
    "import sqlite3\n",
    "\n",
    "def some_books(number):\n",
    "    #sqlite 접속\n",
    "    conn = sqlite3.connect('d:/data/db/my_books.db')\n",
    "    #sql 실행을 위한 커서 생성\n",
    "    cursor = conn.cursor()\n",
    "    #sql 명령어 실행\n",
    "    cursor.execute('select *from books')\n",
    "    #결과셋을 리스트로 저장(레코드 갯수 지정)\n",
    "    books=cursor.fetchmany(number)\n",
    "#     print(books)\n",
    "    for book in books:\n",
    "        print(book)\n",
    "    #db접속 종료\n",
    "    conn.close()\n",
    "\n",
    "some_books(3)"
   ]
  },
  {
   "cell_type": "code",
   "execution_count": null,
   "metadata": {},
   "outputs": [],
   "source": [
    "import sqlite3\n",
    "\n",
    "def one_book():\n",
    "    #sqlite 접속\n",
    "    conn = sqlite3.connect('d:/data/db/my_books.db')\n",
    "    #sql 실행을 위한 커서 생성\n",
    "    cursor = conn.cursor()\n",
    "    #sql 명령어 실행\n",
    "    cursor.execute(\"select *from books where title='python'\")\n",
    "    #결과셋을 리스트로 저장(레코드 갯수 지정)\n",
    "    book=cursor.fetchone()\n",
    "#     print(books)\n",
    "    print(book)\n",
    "    #db접속 종료\n",
    "    conn.close()\n",
    "\n",
    "one_book()"
   ]
  },
  {
   "cell_type": "code",
   "execution_count": null,
   "metadata": {},
   "outputs": [],
   "source": [
    "def update_books():\n",
    "    conn = sqlite3.connect('d:/data/db/my_books.db')\n",
    "    cursor=conn.cursor()\n",
    "    #완성되지 않은 sql 명령어, ? 자리에 값이 입력됨\n",
    "    sql='update books set recommend=? where title=?'\n",
    "    #?의 갯수와 자료형에 맞게 입력\n",
    "    cursor.execute(sql,(100,'python'))\n",
    "    #update 명령어가 확정됨\n",
    "    conn.commit()\n",
    "    conn.close()\n",
    "\n",
    "update_books()\n",
    "one_book()"
   ]
  },
  {
   "cell_type": "code",
   "execution_count": null,
   "metadata": {},
   "outputs": [],
   "source": [
    "import sqlite3\n",
    "\n",
    "def delete_books():\n",
    "    #sqlite db에 접속\n",
    "    conn = sqlite3.connect('d:/data/db/my_books.db')\n",
    "    #sql을 실행시키는 커서 객체 생성\n",
    "    cursor=conn.cursor()\n",
    "    #sql 명령어 작성\n",
    "    sql=\"delete from books where publisher='삼성'\"\n",
    "    #sql 명령어 실행\n",
    "    cursor.execute(sql)\n",
    "    #delete 명령어 확정\n",
    "    conn.commit()\n",
    "    #db 접속 해제\n",
    "    conn.close()\n",
    "    \n",
    "delete_books()\n",
    "all_books()"
   ]
  },
  {
   "cell_type": "code",
   "execution_count": null,
   "metadata": {},
   "outputs": [],
   "source": [
    "import sqlite3\n",
    "\n",
    "#파일에 저장하지 않고 메모리에만 저장하는 db (in-memory db)\n",
    "# conn = sqlite3.connect(':memory:')\n",
    "conn = sqlite3.connect('d:/data/db/sales.db') #파일에 저장\n",
    "sql='''\n",
    "create table if not exists sales(\n",
    "    customer varchar(20),\n",
    "    product varchar(50),\n",
    "    price float,\n",
    "    date date\n",
    ")\n",
    "'''\n",
    "\n",
    "conn.execute(sql)\n",
    "print('테이블이 생성되었습니다.')\n",
    "\n",
    "#레코드 추가\n",
    "data=[('김철수','배',10000,'2018-01-02'),\n",
    "     ('김현수','포도',15000,'2018-02-03'),\n",
    "     ('한민호','자두',30000,'2018-02-20')]\n",
    "sql='insert into sales values (?,?,?,?)'\n",
    "conn.executemany(sql,data)\n",
    "conn.commit()\n",
    "print('레코드가 추가되었습니다.')\n",
    "conn.close()\n"
   ]
  },
  {
   "cell_type": "code",
   "execution_count": null,
   "metadata": {},
   "outputs": [],
   "source": [
    "import sqlite3\n",
    "\n",
    "#db 커넥션 생성\n",
    "conn = sqlite3.connect('d:/data/db/sales.db')\n",
    "#커서 생성(sql명령어 실행+결과셋탐색)\n",
    "cursor=conn.cursor()\n",
    "\n",
    "sql='select * from sales'\n",
    "#sql 명령어 실행\n",
    "cursor.execute(sql)\n",
    "#결과셋을 리스트로 저장\n",
    "rows=cursor.fetchall()\n",
    "count=0\n",
    "for row in rows:\n",
    "    print(row)\n",
    "    count += 1\n",
    "    \n",
    "print('row:{}'.format(count))\n",
    "#커서가 점유하고 있는 자원을 반납\n",
    "cursor.close()\n",
    "#db커넥션 닫기\n",
    "conn.close()"
   ]
  },
  {
   "cell_type": "code",
   "execution_count": null,
   "metadata": {},
   "outputs": [],
   "source": [
    "import csv\n",
    "import sqlite3\n",
    "input_file = 'd:/data/db/input.csv'\n",
    "#sqlite db open or create\n",
    "conn=sqlite3.connect('d:/data/db/suppliers.db')\n",
    "#커서 생성\n",
    "cursor=conn.cursor()\n",
    "#sql 명령어 작성\n",
    "sql='''\n",
    "create table if not exists suppliers(\n",
    "dupplier_name varchar(20),\n",
    "invoice_number varchar(20),\n",
    "part_number varchar(20),\n",
    "cost float,\n",
    "purchase_date date\n",
    ")\n",
    "'''\n",
    "#sql 명령어 실행\n",
    "cursor.execute(sql)\n",
    "print('테이블이 생성되었습니다.')\n",
    "#리소스 정리\n",
    "cursor.close()\n",
    "conn.close()"
   ]
  },
  {
   "cell_type": "code",
   "execution_count": null,
   "metadata": {},
   "outputs": [],
   "source": [
    "import csv\n",
    "import sqlite3\n",
    "\n",
    "input_file='d:/data/db/input.csv'\n",
    "conn=sqlite3.connect('d:/data/db/suppliers.db')\n",
    "cursor=conn.cursor()\n",
    "#csv 파일 리더 객체\n",
    "\n",
    "file_reader=csv.reader(open(input_file))\n",
    "#첫행은 필드명이므로 건너뜀\n",
    "header=next(file_reader)\n",
    "#2행부터 끝까지 반복 처리\n",
    "for row in file_reader:\n",
    "    data=[] #1개의 행을 저장할 리스트\n",
    "    for idx in range(len(header)):\n",
    "        data.append(row[idx]) #리스트에 필드값들이 추가됨\n",
    "    #1개의 레코드를 저장\n",
    "    cursor.execute('insert into suppliers values(?,?,?,?,?)',data)\n",
    "#insert 명령어 확정\n",
    "conn.commit()\n",
    "print('csv 자료 import 완료...')\n",
    "#리소스 정리\n",
    "cursor.close()\n",
    "conn.close()"
   ]
  },
  {
   "cell_type": "code",
   "execution_count": null,
   "metadata": {},
   "outputs": [],
   "source": [
    "import sqlite3\n",
    "\n",
    "conn=sqlite3.connect('d:/data/db/suppliers.db')\n",
    "cursor=conn.cursor()\n",
    "#커서로 sql 명령어를 실행하고 결과셋의 시작번지값을 rs에 전달\n",
    "rs=cursor.execute('select * from suppliers')\n",
    "#rs가 가리키는 메모리의 전체 내용을 저장\n",
    "rows=rs.fetchall()\n",
    "for row in rows:\n",
    "    output=[]\n",
    "    for idx in range(len(row)):\n",
    "        output.append(row[idx])\n",
    "    print(output)\n",
    "    \n",
    "cursor.close()\n",
    "conn.close()"
   ]
  },
  {
   "cell_type": "markdown",
   "metadata": {},
   "source": [
    "# 퀴즈\n",
    " ### 1.d:/data/emp/emp.csv \n",
    " ### mysql로 import\n",
    " ### 데이터베이스: web\n",
    " ### 테이블 이름: emp\n",
    " ### 2. emp 테이블을 읽어서 화면에 출력"
   ]
  },
  {
   "cell_type": "code",
   "execution_count": 5,
   "metadata": {},
   "outputs": [
    {
     "name": "stdout",
     "output_type": "stream",
     "text": [
      "테이블이 생성되었습니다.\n"
     ]
    }
   ],
   "source": [
    "import csv\n",
    "import MySQLdb\n",
    "from datetime import datetime, date\n",
    "\n",
    "input_file = 'd:/data/emp/uemp.csv'\n",
    "conn = MySQLdb.connect(host='localhost', port=3306, db='web',user='web',passwd='1234',\n",
    "                      charset='utf8')\n",
    "cursor = conn.cursor()\n",
    "sql='''\n",
    "create table if not exists emp(\n",
    "empno varchar(20),\n",
    "ename varchar(20),\n",
    "job varchar(20),\n",
    "mgr varchar(20),\n",
    "hiredate date,\n",
    "sal float,\n",
    "comm float,\n",
    "deptno varchar(20)\n",
    ")'''\n",
    "cursor.execute(sql)\n",
    "print('테이블이 생성되었습니다.')\n",
    "cursor.close()\n",
    "conn.close()"
   ]
  },
  {
   "cell_type": "code",
   "execution_count": 6,
   "metadata": {},
   "outputs": [
    {
     "name": "stdout",
     "output_type": "stream",
     "text": [
      "['7369', '김철수', '사원', '7902', '2000-12-17', '200', '0', '20']\n",
      "['7499', '이찬수', '주임', '7698', '2001-02-20', '260', '300', '30']\n",
      "['7521', '박종수', '주임', '7698', '2002-02-22', '325', '500', '30']\n",
      "['7566', '임채호', '과장', '7839', '2001-04-02', '497', '0', '20']\n",
      "['7654', '나대호', '주임', '7698', '2001-09-28', '325', '1400', '30']\n",
      "['7698', '박지성', '과장', '7839', '2001-05-01', '485', '0', '30']\n",
      "['7782', '구자철', '과장', '7839', '2001-06-09', '445', '0', '10']\n",
      "['7788', '송기성', '부장', '7566', '1997-04-17', '500', '0', '20']\n",
      "['7839', '김철호', '대표', '0', '2001-11-17', '800', '0', '10']\n",
      "['7844', '성명준', '주임', '7698', '2001-09-08', '350', '0', '30']\n",
      "['7876', '황인태', '사원', '7788', '2007-05-23', '210', '0', '20']\n",
      "['7900', '박민성', '사원', '7698', '2001-12-03', '295', '0', '30']\n",
      "['7902', '박진성', '부장', '7566', '2001-12-03', '600', '0', '20']\n",
      "['7934', '최철호', '사원', '7782', '2012-01-23', '230', '0', '10']\n"
     ]
    }
   ],
   "source": [
    "import csv\n",
    "import MySQLdb\n",
    "\n",
    "input_file='d:/data/emp/uemp.csv'\n",
    "conn = MySQLdb.connect(host='localhost',port=3306,db='web',user='web',passwd='1234',\n",
    "                      charset='utf8')\n",
    "cursor = conn.cursor()\n",
    "\n",
    "file_reader=csv.reader(open(input_file,'r'))\n",
    "header = next(file_reader)\n",
    "for row in file_reader:\n",
    "    data=[]\n",
    "    for idx in range(len(header)):\n",
    "        if idx<8:\n",
    "            data.append(str(row[idx]).replace(',','').strip())\n",
    "        else:\n",
    "            break\n",
    "    print(data)\n",
    "    cursor.execute('insert into emp values(%s,%s,%s,%s,%s,%s,%s,%s)',data)\n",
    "conn.commit()                  "
   ]
  },
  {
   "cell_type": "code",
   "execution_count": 7,
   "metadata": {},
   "outputs": [
    {
     "name": "stdout",
     "output_type": "stream",
     "text": [
      "['7369', '김철수', '사원', '7902', '2000-12-17', '200.0', '0.0', '20']\n",
      "['7499', '이찬수', '주임', '7698', '2001-02-20', '260.0', '300.0', '30']\n",
      "['7521', '박종수', '주임', '7698', '2002-02-22', '325.0', '500.0', '30']\n",
      "['7566', '임채호', '과장', '7839', '2001-04-02', '497.0', '0.0', '20']\n",
      "['7654', '나대호', '주임', '7698', '2001-09-28', '325.0', '1400.0', '30']\n",
      "['7698', '박지성', '과장', '7839', '2001-05-01', '485.0', '0.0', '30']\n",
      "['7782', '구자철', '과장', '7839', '2001-06-09', '445.0', '0.0', '10']\n",
      "['7788', '송기성', '부장', '7566', '1997-04-17', '500.0', '0.0', '20']\n",
      "['7839', '김철호', '대표', '0', '2001-11-17', '800.0', '0.0', '10']\n",
      "['7844', '성명준', '주임', '7698', '2001-09-08', '350.0', '0.0', '30']\n",
      "['7876', '황인태', '사원', '7788', '2007-05-23', '210.0', '0.0', '20']\n",
      "['7900', '박민성', '사원', '7698', '2001-12-03', '295.0', '0.0', '30']\n",
      "['7902', '박진성', '부장', '7566', '2001-12-03', '600.0', '0.0', '20']\n",
      "['7934', '최철호', '사원', '7782', '2012-01-23', '230.0', '0.0', '10']\n"
     ]
    }
   ],
   "source": [
    "cursor.execute('select * from emp')\n",
    "rows = cursor.fetchall()\n",
    "for row in rows:\n",
    "    output=[]\n",
    "    for idx in range(len(row)):\n",
    "        output.append(str(row[idx]))\n",
    "    print(output)"
   ]
  },
  {
   "cell_type": "code",
   "execution_count": null,
   "metadata": {},
   "outputs": [],
   "source": []
  },
  {
   "cell_type": "code",
   "execution_count": null,
   "metadata": {},
   "outputs": [],
   "source": []
  },
  {
   "cell_type": "code",
   "execution_count": null,
   "metadata": {},
   "outputs": [],
   "source": []
  },
  {
   "cell_type": "code",
   "execution_count": null,
   "metadata": {},
   "outputs": [],
   "source": []
  },
  {
   "cell_type": "code",
   "execution_count": null,
   "metadata": {},
   "outputs": [],
   "source": []
  },
  {
   "cell_type": "code",
   "execution_count": null,
   "metadata": {},
   "outputs": [],
   "source": []
  },
  {
   "cell_type": "code",
   "execution_count": null,
   "metadata": {},
   "outputs": [],
   "source": []
  },
  {
   "cell_type": "code",
   "execution_count": null,
   "metadata": {},
   "outputs": [],
   "source": []
  },
  {
   "cell_type": "code",
   "execution_count": null,
   "metadata": {},
   "outputs": [],
   "source": []
  },
  {
   "cell_type": "code",
   "execution_count": null,
   "metadata": {},
   "outputs": [],
   "source": []
  },
  {
   "cell_type": "code",
   "execution_count": null,
   "metadata": {},
   "outputs": [],
   "source": []
  },
  {
   "cell_type": "code",
   "execution_count": null,
   "metadata": {},
   "outputs": [],
   "source": []
  },
  {
   "cell_type": "code",
   "execution_count": null,
   "metadata": {},
   "outputs": [],
   "source": []
  },
  {
   "cell_type": "code",
   "execution_count": null,
   "metadata": {},
   "outputs": [],
   "source": []
  },
  {
   "cell_type": "code",
   "execution_count": null,
   "metadata": {},
   "outputs": [],
   "source": []
  },
  {
   "cell_type": "code",
   "execution_count": null,
   "metadata": {},
   "outputs": [],
   "source": []
  },
  {
   "cell_type": "code",
   "execution_count": null,
   "metadata": {},
   "outputs": [],
   "source": []
  }
 ],
 "metadata": {
  "kernelspec": {
   "display_name": "Python 3",
   "language": "python",
   "name": "python3"
  },
  "language_info": {
   "codemirror_mode": {
    "name": "ipython",
    "version": 3
   },
   "file_extension": ".py",
   "mimetype": "text/x-python",
   "name": "python",
   "nbconvert_exporter": "python",
   "pygments_lexer": "ipython3",
   "version": "3.7.4"
  }
 },
 "nbformat": 4,
 "nbformat_minor": 2
}
