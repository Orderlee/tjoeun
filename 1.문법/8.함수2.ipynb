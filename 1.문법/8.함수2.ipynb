{
 "cells": [
  {
   "cell_type": "code",
   "execution_count": null,
   "metadata": {},
   "outputs": [],
   "source": [
    "print(ord('A'))\n",
    "print(ord('1'))\n",
    "print(ord(' '))"
   ]
  },
  {
   "cell_type": "code",
   "execution_count": null,
   "metadata": {},
   "outputs": [],
   "source": [
    "c = 'kim'\n",
    "print(c)\n",
    "#print(ord(c)) #문자코드는 한글자씩 출력해야 함\n",
    "\n",
    "b = 'hello python'\n",
    "for i in b:\n",
    "    print('{}==>{}'.format(i,ord(i)))"
   ]
  },
  {
   "cell_type": "code",
   "execution_count": null,
   "metadata": {},
   "outputs": [],
   "source": [
    "a = max([1,2,3]) # 가장 큰 값\n",
    "print(a)\n",
    "b = max('python') # 문자코드가 가장 큰 값\n",
    "print(b)"
   ]
  },
  {
   "cell_type": "code",
   "execution_count": null,
   "metadata": {},
   "outputs": [],
   "source": [
    "a = min([1,2,3]) # 가장 작은 값\n",
    "print(a)\n",
    "b = min('python') # 문자코드가 가장 작은 값\n",
    "print(b)"
   ]
  },
  {
   "cell_type": "code",
   "execution_count": null,
   "metadata": {},
   "outputs": [],
   "source": [
    "a = pow(2,4) #2의 4승, 2x2x2x2\n",
    "print(a)\n",
    "b = pow(3,3) #3의 3승, 3x3x3\n",
    "print(b)"
   ]
  },
  {
   "cell_type": "code",
   "execution_count": null,
   "metadata": {},
   "outputs": [],
   "source": [
    "def mypow(a,b):\n",
    "    result=1\n",
    "    for i in range(1,b+1):\n",
    "        result = result * a\n",
    "    return result\n",
    "\n",
    "print(mypow(2,4))\n",
    "print(mypow(3,3))\n",
    "print(mypow(10,4))"
   ]
  },
  {
   "cell_type": "code",
   "execution_count": null,
   "metadata": {},
   "outputs": [],
   "source": [
    "def mypow(a,b):\n",
    "    result=1\n",
    "    for i in range(b):\n",
    "        result = result * a\n",
    "    return result\n",
    "\n",
    "print(mypow(2,4))\n",
    "print(mypow(3,3))\n",
    "print(mypow(10,4))"
   ]
  },
  {
   "cell_type": "code",
   "execution_count": null,
   "metadata": {},
   "outputs": [],
   "source": [
    "a = 2**4\n",
    "print(a)\n",
    "b = 3**3\n",
    "print(b)"
   ]
  },
  {
   "cell_type": "code",
   "execution_count": null,
   "metadata": {},
   "outputs": [],
   "source": [
    "a = list(range(5)) # 0~4\n",
    "print(a)\n",
    "b = list(range(5,10)) # 5~9\n",
    "print(b)\n",
    "c = list(range(1,10,20)) # start,end-1,step\n",
    "print(c)\n",
    "d = list(range(0,-10,-1))\n",
    "print(d)"
   ]
  },
  {
   "cell_type": "code",
   "execution_count": null,
   "metadata": {},
   "outputs": [],
   "source": [
    "# sorted 정렬한 후 결과값을 좌변의 변수에 전달\n",
    "a = sorted([3,1,2])\n",
    "print(a)\n",
    "b = sorted(['a','c','b']) #알파벳순으로 정렬\n",
    "print(b)\n",
    "c = sorted('zero')\n",
    "print(c)"
   ]
  },
  {
   "cell_type": "code",
   "execution_count": null,
   "metadata": {},
   "outputs": [],
   "source": [
    "items = [3,1,2]\n",
    "items.sort()\n",
    "print(items)\n",
    "a = items.sort() #sort()함수는 리턴값이 없음\n",
    "print(a) #리턴값이 없으므로 None이 출력됨"
   ]
  },
  {
   "cell_type": "code",
   "execution_count": null,
   "metadata": {},
   "outputs": [],
   "source": [
    "a = [5,4,3,2,1]\n",
    "b = sorted(a) #정렬된 결과값은 b에 전달됨\n",
    "print(a) #원본은 정렬되지 않음\n",
    "print(b)"
   ]
  },
  {
   "cell_type": "code",
   "execution_count": null,
   "metadata": {},
   "outputs": [],
   "source": [
    "a = [5,4,3,2,1,]\n",
    "a.sort()\n",
    "print(a) #원본 리스트가 정렬됨"
   ]
  },
  {
   "cell_type": "code",
   "execution_count": null,
   "metadata": {},
   "outputs": [],
   "source": [
    "#리턴값(반환값)이 없는 함수\n",
    "def myfunc(): #함수 선언(정의)\n",
    "    print('hello')\n",
    "\n",
    "a = myfunc() #함수 호출\n",
    "print(a)"
   ]
  },
  {
   "cell_type": "code",
   "execution_count": null,
   "metadata": {},
   "outputs": [],
   "source": [
    "def mysum(a,b):\n",
    "    return a+b #리턴값이 있는 함수\n",
    "\n",
    "a = mysum(10,20)\n",
    "print(a)"
   ]
  },
  {
   "cell_type": "code",
   "execution_count": null,
   "metadata": {},
   "outputs": [],
   "source": [
    "a = '사과,포도,배,복숭아,자두'\n",
    "fruits = a.split(',') # 하나의 문자열을 컴머 단위로 나누어 리스트로 저장\n",
    "print(fruits)\n",
    "b = ','.join(fruits) #리스트를 합쳐서 하나의 문자열로 만드는 함수\n",
    "print(b)"
   ]
  },
  {
   "cell_type": "code",
   "execution_count": null,
   "metadata": {},
   "outputs": [],
   "source": [
    "a = '      hi      '\n",
    "print(a)\n",
    "b=a.strip() #좌우 공백 제거\n",
    "print(b)\n",
    "c=a.lstrip() #좌측 공백 제거\n",
    "print(c)\n",
    "d=a.rstrip() #우측 공백 제거\n",
    "print(d)"
   ]
  },
  {
   "cell_type": "code",
   "execution_count": null,
   "metadata": {
    "scrolled": true
   },
   "outputs": [],
   "source": [
    "# \\n 개행문자,줄바꿈      \\t 탭\n",
    "a = '\\n\\t      hi  \\t\\n\\t    '\n",
    "print(a)\n",
    "b=a.strip() #좌우 공백 제거\n",
    "print(b)\n",
    "c=a.lstrip() #좌측 공백 제거\n",
    "print(c)\n",
    "d=a.rstrip() #우측 공백 제거\n",
    "print(d)"
   ]
  },
  {
   "cell_type": "code",
   "execution_count": null,
   "metadata": {},
   "outputs": [],
   "source": [
    "name = ['김철수','홍철수','박민영']\n",
    "age = [20,25,30]\n",
    "height = [170.5, 180.5, 175.5]\n",
    "blood = ['A','B','O']\n",
    "# 같은 인덱스끼리 결합하여 리스트를 생성함\n",
    "a = list(zip(name,age,height,blood))\n",
    "print(a)"
   ]
  },
  {
   "cell_type": "code",
   "execution_count": null,
   "metadata": {},
   "outputs": [],
   "source": [
    "a = []\n",
    "for i in range(3):\n",
    "    a.append((name[i],age[i],height[i],blood[i]))\n",
    "    \n",
    "print(a)"
   ]
  },
  {
   "cell_type": "code",
   "execution_count": null,
   "metadata": {},
   "outputs": [],
   "source": [
    "#입력값도 없고 리턴값도 없는 함수\n",
    "def say(): #함수 정의\n",
    "    print('Hi')\n",
    "say() #함수 호출"
   ]
  },
  {
   "cell_type": "code",
   "execution_count": null,
   "metadata": {},
   "outputs": [],
   "source": [
    "def hello(name): #입력매개변수에 값이 전달됨\n",
    "    print('Hello,',name)\n",
    "    \n",
    "hello('kim')\n",
    "a = hello('park') #리턴값이 없으므로 None이 출력됨\n",
    "print(a)\n",
    "\n",
    "hello()"
   ]
  },
  {
   "cell_type": "code",
   "execution_count": null,
   "metadata": {},
   "outputs": [],
   "source": [
    "# name=None 기본값을 None으로 선정\n",
    "def hello2(name=None): #입력매개변수에 값이 전달됨\n",
    "    if name==None: #전달된 값이 없으면\n",
    "        print('이름을 입력하세요') #메시지를 출력하고\n",
    "        return #종료(리턴값이 없으면 함수가 종료됨)\n",
    "    #전달된 값이 있으면 정상적으로 실행됨\n",
    "    print('Hello,',name)\n",
    "    \n",
    "hello2()\n",
    "hello2('kim')"
   ]
  },
  {
   "cell_type": "code",
   "execution_count": null,
   "metadata": {},
   "outputs": [],
   "source": [
    "#입력값은 없지만 리턴값이 있는 함수\n",
    "def hello():\n",
    "    return '안녕'\n",
    "\n",
    "a = hello()\n",
    "print(a)"
   ]
  },
  {
   "cell_type": "code",
   "execution_count": null,
   "metadata": {},
   "outputs": [],
   "source": [
    "#입력값은 있고 리턴값이 없는 함수\n",
    "def mysum(a,b): #입력매개변수 (parameter,argument)\n",
    "    print('%d + %d = %d' % (a,b,a+b))\n",
    "    \n",
    "mysum(3,4) # 3이 a에, 4가 b에 전달됨"
   ]
  },
  {
   "cell_type": "code",
   "execution_count": null,
   "metadata": {},
   "outputs": [],
   "source": [
    "#입력값과 리턴값이 있는 함수\n",
    "def mysum(a,b):\n",
    "    return a+b # 삼수를 호출한 곳으로 값을 되돌려 줌\n",
    "\n",
    "a = 3\n",
    "b = 4\n",
    "c = mysum(a,b)\n",
    "print(c)"
   ]
  },
  {
   "cell_type": "code",
   "execution_count": null,
   "metadata": {},
   "outputs": [],
   "source": [
    "# 내장함수 sum(리스트) 리스트의 모든 원소의 합계\n",
    "print(sum([10,20,30,40,50]))"
   ]
  },
  {
   "cell_type": "code",
   "execution_count": null,
   "metadata": {},
   "outputs": [],
   "source": [
    "def mysum(a,b):\n",
    "    return a+b\n",
    "\n",
    "def mysum2(a,b,c):\n",
    "    return a+b+c\n",
    "\n",
    "def mysum3(a,b,c,d):\n",
    "    return a+b+c+d\n",
    "\n",
    "print(mysum(10,20))\n",
    "print(mysum2(10,20,30))\n",
    "print(mysum3(10,20,30,40))"
   ]
  },
  {
   "cell_type": "code",
   "execution_count": null,
   "metadata": {},
   "outputs": [],
   "source": [
    "def mysum(*args):\n",
    "    print(args)\n",
    "    result = 0\n",
    "    for i in args:\n",
    "        result = result + i\n",
    "    return result\n",
    "\n",
    "result = mysum(1,2,3)\n",
    "print(result)\n",
    "result = mysum(1,2,3,4,5,6,7,8,9,10)\n",
    "print(result)"
   ]
  },
  {
   "cell_type": "code",
   "execution_count": null,
   "metadata": {},
   "outputs": [],
   "source": [
    "#가변사이즈 매개변수\n",
    "#*변수 => 전달된 값들을 튜플로 저장함\n",
    "def mysum(*args):\n",
    "    print(*args)\n",
    "    result = 0\n",
    "    for i in args:\n",
    "        result = result + i\n",
    "    return result\n",
    "\n",
    "print(mysum(10,20))\n",
    "print(mysum(10,20,30))\n",
    "print(mysum(10,20,30,40))\n",
    "print(mysum(10,20,30,40,50))"
   ]
  },
  {
   "cell_type": "code",
   "execution_count": null,
   "metadata": {},
   "outputs": [],
   "source": [
    "print('1','2')\n",
    "print('1','2','3')\n",
    "print('1','2','3','4')"
   ]
  },
  {
   "cell_type": "code",
   "execution_count": null,
   "metadata": {},
   "outputs": [],
   "source": [
    "print('{}'.format(10))\n",
    "print('{} {}'.format(10,20))\n",
    "print('{} {} {}'.format(10,30,20))"
   ]
  },
  {
   "cell_type": "code",
   "execution_count": null,
   "metadata": {},
   "outputs": [],
   "source": [
    "a = ['a','b','c','d','e']\n",
    "b = ','.join(a)\n",
    "print(b)"
   ]
  },
  {
   "cell_type": "code",
   "execution_count": null,
   "metadata": {},
   "outputs": [],
   "source": [
    "def myjoin(a,*values):\n",
    "    result=''\n",
    "    for value in values:\n",
    "        result=result+value+a\n",
    "    return result[:-1]\n",
    "\n",
    "print(myjoin(',','a'))\n",
    "print(myjoin(',','a','b',))\n",
    "print(myjoin(',','a','b','c'))\n",
    "print(myjoin(',','a','b','c','d'))\n",
    "print(myjoin(',','a','b','c','d','e'))"
   ]
  },
  {
   "cell_type": "code",
   "execution_count": null,
   "metadata": {},
   "outputs": [],
   "source": [
    "# *변수 : 가변사이즈 매개변수(매개변수의 갯수에 관계없이 처리 가능)\n",
    "# end='' 줄바꿈 문자를 사용하지 않음\n",
    "def order(size, *toppings):\n",
    "    print('\\n'+size+' 피자를 주문하였습니다.\\n토핑:',end='')\n",
    "    print(type(toppings))\n",
    "    for topping in toppings:\n",
    "        print(topping+',',end='')\n",
    "\n",
    "order('large','더블크러스트')\n",
    "order('medium','파인애플','버섯')\n",
    "order('mudium','파인애플','버섯','토마토')"
   ]
  },
  {
   "cell_type": "code",
   "execution_count": null,
   "metadata": {},
   "outputs": [],
   "source": [
    "def mya():\n",
    "    return 1 #리턴값은 1개\n",
    "\n",
    "a=mya()\n",
    "print(a)"
   ]
  },
  {
   "cell_type": "code",
   "execution_count": null,
   "metadata": {},
   "outputs": [],
   "source": [
    "def mya():\n",
    "    return 1,2\n",
    "\n",
    "a=mya()\n",
    "print(a)\n",
    "\n",
    "(v1,v2)=mya()\n",
    "print(v1,v2)"
   ]
  },
  {
   "cell_type": "code",
   "execution_count": null,
   "metadata": {},
   "outputs": [],
   "source": [
    "a = 1\n",
    "b = 2\n",
    "c = a,b #()있다고 생각하면 됨\n",
    "print(c)"
   ]
  },
  {
   "cell_type": "code",
   "execution_count": null,
   "metadata": {},
   "outputs": [],
   "source": [
    "(a,b)=2,3\n",
    "print(a,b)"
   ]
  },
  {
   "cell_type": "code",
   "execution_count": null,
   "metadata": {},
   "outputs": [],
   "source": [
    "print(divmod(7,3))"
   ]
  },
  {
   "cell_type": "code",
   "execution_count": null,
   "metadata": {},
   "outputs": [],
   "source": [
    "# 리턴값은 1개가 전달됨\n",
    "# 컴머로 구분한 경우 튜플로 묶여서 1개가 전달됨\n",
    "def mydivmod(a,b):\n",
    "    return a//b, a%b\n",
    "\n",
    "print(mydivmod(7,3))\n",
    "v1,v2 = mydivmod(7,3)\n",
    "print('몫:{}, 나머지:{}'.format(v1,v2))"
   ]
  },
  {
   "cell_type": "code",
   "execution_count": 11,
   "metadata": {},
   "outputs": [
    {
     "name": "stdout",
     "output_type": "stream",
     "text": [
      "제품명\t단가\t수량\t금액\t포인트\n",
      "냉장고\t500000\t10\t5000000\tpoint\n",
      "TV\t300000\t50\t15000000\tpoint\n",
      "세탁기\t400000\t20\t8000000\tpoint\n"
     ]
    }
   ],
   "source": [
    "a = [{'product':'냉장고','price':500000,'amount':10},\n",
    "    {'product':'TV','price':300000,'amount':50},\n",
    "    {'product':'세탁기','price':400000,'amount':20}]\n",
    "\n",
    "# 판매금액 : price x amount\n",
    "# 포인트 :  판매금액이 1000만원 미만 => 판매금액의 1%\n",
    "#           판매금액이 1000만원~2000만원 미만=> 판매금액의 3%\n",
    "#           판매금액이 2000만원 이상 => 판매금액의 5%\n",
    "\n",
    "print('제품명\\t단가\\t수량\\t금액\\t포인트')\n",
    "\n",
    "for item in a:\n",
    "    item['money']=item['price']*item['amount']\n",
    "    \n",
    "    print('{}\\t{}\\t{}\\t{}\\t{}'.format(item['product'],item['price'],item['amount'],item['money'],'point'))"
   ]
  },
  {
   "cell_type": "code",
   "execution_count": null,
   "metadata": {},
   "outputs": [],
   "source": [
    "#리턴값이 2개 이상인 경우 튜플로 묶어서 1개가 전달됨\n",
    "def sum_and_mul(a,b):\n",
    "    return a+b, a*b\n",
    "result=sum_and_mul(2,3)\n",
    "print(result)"
   ]
  },
  {
   "cell_type": "code",
   "execution_count": null,
   "metadata": {},
   "outputs": [],
   "source": [
    "# return 문장은 한번만 실행됨\n",
    "def sum_and_mul(a,b):\n",
    "    return a+b\n",
    "    return a*b\n",
    "result=sum_and_mul(2,3)\n",
    "print(result)"
   ]
  },
  {
   "cell_type": "code",
   "execution_count": null,
   "metadata": {},
   "outputs": [],
   "source": [
    "# 디폴트 매개변수\n",
    "def say(name='무명',age='0'):\n",
    "    print('이름:',name,end='')\n",
    "    print(',나이:',age)\n",
    "    \n",
    "say('kim',20)\n",
    "say('kim') #두번째 값은 기본값으로 처리됨\n",
    "say(20)\n",
    "say()"
   ]
  },
  {
   "cell_type": "code",
   "execution_count": null,
   "metadata": {},
   "outputs": [],
   "source": [
    "#디폴트 매개변수(오른쪽부터 작성)\n",
    "def say(name='무명',age=0):\n",
    "    print('이름:',name,end='')\n",
    "    print(',나이:',age)\n",
    "    \n",
    "say('kim',20)\n",
    "say('kim')\n",
    "say(20)\n",
    "say()"
   ]
  },
  {
   "cell_type": "code",
   "execution_count": null,
   "metadata": {},
   "outputs": [],
   "source": [
    "# 디폴트 매개변수\n",
    "def say(name='무명',age):\n",
    "    print('이름:',name,end='')\n",
    "    print(',나이:',age)\n",
    "    \n",
    "say('kim',20)\n",
    "say('kim') #두번째 값은 기본값으로 처리됨\n",
    "say(20)\n",
    "say()"
   ]
  },
  {
   "cell_type": "markdown",
   "metadata": {},
   "source": [
    "### 시험문제"
   ]
  },
  {
   "cell_type": "code",
   "execution_count": 19,
   "metadata": {},
   "outputs": [
    {
     "name": "stdout",
     "output_type": "stream",
     "text": [
      "도서명\t단가\t수량\t금액\t인세\n",
      "==================================================\n",
      "java\t50000\t1000\t50000000\t1500000.0\n",
      "c\t45000\t3000\t135000000\t6750000.0\n",
      "python\t35000\t5000\t175000000\t17500000.0\n"
     ]
    }
   ],
   "source": [
    "orders=[{'name':'java','price':50000,'amount':1000}, {'name':'c','price':45000,'amount':3000}, {'name':'python','price':35000,'amount':5000}]\n",
    "\n",
    "print('도서명\\t단가\\t수량\\t금액\\t인세')\n",
    "print('='*50)\n",
    "\n",
    "for a in orders:\n",
    "    a['money']=a['price']*a['amount']\n",
    "    \n",
    "    if 1<a['amount']<=1000:\n",
    "        a['royalty']=a['money']*0.03\n",
    "    \n",
    "    elif 1001<a['amount']<=3000:\n",
    "        a['royalty']=a['money']*0.05\n",
    "    \n",
    "    else:\n",
    "        a['royalty']=a['money']*0.1\n",
    "\n",
    "        \n",
    "    print('{}\\t{}\\t{}\\t{}\\t{}'.format(a['name'],a['price'],a['amount'],a['money'],a['royalty']))"
   ]
  },
  {
   "cell_type": "code",
   "execution_count": 21,
   "metadata": {},
   "outputs": [
    {
     "name": "stdout",
     "output_type": "stream",
     "text": [
      "1\n"
     ]
    }
   ],
   "source": [
    "a = 1 #전역변수(프로그램 전체에서 사용하는 변수)\n",
    "\n",
    "def test(a): #지역변수(함수 안에서만 사용하는 변수)\n",
    "    a=a+1\n",
    "    \n",
    "test(a)\n",
    "print(a)"
   ]
  },
  {
   "cell_type": "code",
   "execution_count": 23,
   "metadata": {},
   "outputs": [
    {
     "name": "stdout",
     "output_type": "stream",
     "text": [
      "20\n",
      "2\n"
     ]
    }
   ],
   "source": [
    "# 변수 a는 test2() 함수 내부에서만 사용이 가능한 지역변수(로컬변수)\n",
    "# 함수의 실행이 끝나면 함수 안에서 사용한 변수도 메모리에서 삭제됨\n",
    "def test2(a): \n",
    "    \n",
    "    a=a+10\n",
    "    print(a)\n",
    "\n",
    "test2(10)\n",
    "print(a)"
   ]
  },
  {
   "cell_type": "code",
   "execution_count": 22,
   "metadata": {},
   "outputs": [
    {
     "name": "stdout",
     "output_type": "stream",
     "text": [
      "2\n"
     ]
    }
   ],
   "source": [
    "a = 1\n",
    "def test():\n",
    "    global a #전역변수 a를 사용하겠다.\n",
    "    a=a+1\n",
    "    \n",
    "test()\n",
    "print(a)"
   ]
  },
  {
   "cell_type": "code",
   "execution_count": 30,
   "metadata": {},
   "outputs": [
    {
     "name": "stdout",
     "output_type": "stream",
     "text": [
      "{'name': '김철수', 'job': '작가', 'age': 27}\n",
      "{'name': '김철수', 'job': '작가'}\n"
     ]
    }
   ],
   "source": [
    "#리턴값이 딕셔너리인 함수\n",
    "def set_person(name,job,age=''):\n",
    "    person={'name':name,'job':job}\n",
    "    if age: # age가 반문자열이나 0이 아니면 True\n",
    "        person['age']=age\n",
    "    return person\n",
    "\n",
    "writer = set_person('김철수','작가',27)\n",
    "print(writer)\n",
    "writer = set_person('김철수','작가')\n",
    "print(writer)"
   ]
  },
  {
   "cell_type": "code",
   "execution_count": 28,
   "metadata": {},
   "outputs": [
    {
     "name": "stdout",
     "output_type": "stream",
     "text": [
      "김철호님 환영합니다.\n",
      "나대호님 환영합니다.\n",
      "송민수님 환영합니다.\n"
     ]
    }
   ],
   "source": [
    "def greet(names): #함수의 매개변수에 리스트가 전달됨\n",
    "    for name in names:\n",
    "        msg=name+'님 환영합니다.'\n",
    "        print(msg)\n",
    "        \n",
    "names=['김철호','나대호','송민수']\n",
    "greet(names)"
   ]
  },
  {
   "cell_type": "code",
   "execution_count": 32,
   "metadata": {},
   "outputs": [
    {
     "name": "stdout",
     "output_type": "stream",
     "text": [
      "나이:24, 성별:male\n"
     ]
    }
   ],
   "source": [
    "jumin='95121111124567'\n",
    "\n",
    "#주민등록번호를 입력받아서 나이와 성별을 리턴하는 함수\n",
    "\n",
    "def myinfo(j):\n",
    "    age=2019-(1900+int(j[0:2])) #0,1\n",
    "    if j[6]=='1': #인덱스 6번\n",
    "        gender='male'\n",
    "    elif j[6]=='2':\n",
    "        gender='female'\n",
    "    return age,gender #리턴값은 1개이므로 튜프롤 묶어서 보냄\n",
    "\n",
    "age,gender=myinfo(jumin)\n",
    "print('나이:{}, 성별:{}'.format(age,gender))"
   ]
  },
  {
   "cell_type": "code",
   "execution_count": 5,
   "metadata": {},
   "outputs": [
    {
     "ename": "TypeError",
     "evalue": "int() argument must be a string, a bytes-like object or a number, not 'list'",
     "output_type": "error",
     "traceback": [
      "\u001b[1;31m---------------------------------------------------------------------------\u001b[0m",
      "\u001b[1;31mTypeError\u001b[0m                                 Traceback (most recent call last)",
      "\u001b[1;32m<ipython-input-5-c24a3ad6c4fa>\u001b[0m in \u001b[0;36m<module>\u001b[1;34m\u001b[0m\n\u001b[0;32m     11\u001b[0m         \u001b[0mprint\u001b[0m\u001b[1;33m(\u001b[0m\u001b[1;34m'나이:{},성별:{}'\u001b[0m\u001b[1;33m.\u001b[0m\u001b[0mformat\u001b[0m\u001b[1;33m(\u001b[0m\u001b[0mage\u001b[0m\u001b[1;33m,\u001b[0m\u001b[0mgender\u001b[0m\u001b[1;33m)\u001b[0m\u001b[1;33m)\u001b[0m\u001b[1;33m\u001b[0m\u001b[1;33m\u001b[0m\u001b[0m\n\u001b[0;32m     12\u001b[0m \u001b[1;33m\u001b[0m\u001b[0m\n\u001b[1;32m---> 13\u001b[1;33m \u001b[0mmyinfo\u001b[0m\u001b[1;33m(\u001b[0m\u001b[0mjumins\u001b[0m\u001b[1;33m)\u001b[0m   \u001b[1;31m#함수 호출\u001b[0m\u001b[1;33m\u001b[0m\u001b[1;33m\u001b[0m\u001b[0m\n\u001b[0m",
      "\u001b[1;32m<ipython-input-5-c24a3ad6c4fa>\u001b[0m in \u001b[0;36mmyinfo\u001b[1;34m(a)\u001b[0m\n\u001b[0;32m      4\u001b[0m \u001b[1;32mdef\u001b[0m \u001b[0mmyinfo\u001b[0m\u001b[1;33m(\u001b[0m\u001b[0ma\u001b[0m\u001b[1;33m)\u001b[0m\u001b[1;33m:\u001b[0m\u001b[1;33m\u001b[0m\u001b[1;33m\u001b[0m\u001b[0m\n\u001b[0;32m      5\u001b[0m     \u001b[1;32mfor\u001b[0m \u001b[0mi\u001b[0m \u001b[1;32min\u001b[0m \u001b[0ma\u001b[0m\u001b[1;33m:\u001b[0m\u001b[1;33m\u001b[0m\u001b[1;33m\u001b[0m\u001b[0m\n\u001b[1;32m----> 6\u001b[1;33m         \u001b[0mage\u001b[0m\u001b[1;33m=\u001b[0m\u001b[1;36m2019\u001b[0m\u001b[1;33m-\u001b[0m\u001b[1;33m(\u001b[0m\u001b[1;36m1900\u001b[0m\u001b[1;33m+\u001b[0m\u001b[0mint\u001b[0m\u001b[1;33m(\u001b[0m\u001b[0ma\u001b[0m\u001b[1;33m[\u001b[0m\u001b[1;36m0\u001b[0m\u001b[1;33m:\u001b[0m\u001b[1;36m2\u001b[0m\u001b[1;33m]\u001b[0m\u001b[1;33m)\u001b[0m\u001b[1;33m)\u001b[0m \u001b[1;31m#0,1\u001b[0m\u001b[1;33m\u001b[0m\u001b[1;33m\u001b[0m\u001b[0m\n\u001b[0m\u001b[0;32m      7\u001b[0m         \u001b[1;32mif\u001b[0m \u001b[0ma\u001b[0m\u001b[1;33m[\u001b[0m\u001b[1;36m6\u001b[0m\u001b[1;33m]\u001b[0m\u001b[1;33m==\u001b[0m\u001b[1;34m'1'\u001b[0m\u001b[1;33m:\u001b[0m \u001b[1;31m#인덱스 6번\u001b[0m\u001b[1;33m\u001b[0m\u001b[1;33m\u001b[0m\u001b[0m\n\u001b[0;32m      8\u001b[0m             \u001b[0mgender\u001b[0m\u001b[1;33m=\u001b[0m\u001b[1;34m'male'\u001b[0m\u001b[1;33m\u001b[0m\u001b[1;33m\u001b[0m\u001b[0m\n",
      "\u001b[1;31mTypeError\u001b[0m: int() argument must be a string, a bytes-like object or a number, not 'list'"
     ]
    }
   ],
   "source": [
    "#리스트를 전달받아 출력할 수 있도록 함수 수정\n",
    "jumins=['900130154479','9521312589764','8812112154789']\n",
    "\n",
    "def myinfo(a):\n",
    "    for i in a:\n",
    "        age=2019-(1900+int(a[0:2])) #0,1\n",
    "        if a[6]=='1': #인덱스 6번\n",
    "            gender='male'\n",
    "        elif a[6]=='2':\n",
    "            gender='female'\n",
    "        print('나이:{},성별:{}'.format(age,gender))\n",
    "    \n",
    "myinfo(jumins)   #함수 호출"
   ]
  },
  {
   "cell_type": "code",
   "execution_count": 40,
   "metadata": {},
   "outputs": [
    {
     "name": "stdout",
     "output_type": "stream",
     "text": [
      "둘레:62.83, 넓이:314.16\n"
     ]
    }
   ],
   "source": [
    "#입력값 : 반지름\n",
    "#출력값 : 원의 둘레와 넓이\n",
    "import math\n",
    "\n",
    "def mycircle(r):\n",
    "    a=2*math.pi*r\n",
    "    b=math.pi*r*r\n",
    "    return a,b\n",
    "\n",
    "a,b=mycircle(10)\n",
    "print('둘레:{:.2f}, 넓이:{:.2f}'.format(a,b))"
   ]
  },
  {
   "cell_type": "code",
   "execution_count": 45,
   "metadata": {},
   "outputs": [
    {
     "name": "stdout",
     "output_type": "stream",
     "text": [
      "5050\n",
      "55\n"
     ]
    }
   ],
   "source": [
    "# 1~n까지의 합계를 구하여 리턴하는 함수\n",
    "def mysum(n):\n",
    "    result=0\n",
    "    for i in range(1,n+1):\n",
    "        result += i\n",
    "    return result\n",
    "    \n",
    "print(mysum(100))\n",
    "print(mysum(10))"
   ]
  },
  {
   "cell_type": "code",
   "execution_count": 50,
   "metadata": {},
   "outputs": [
    {
     "name": "stdout",
     "output_type": "stream",
     "text": [
      "1996년생은 쥐띠입니다.\n"
     ]
    }
   ],
   "source": [
    "def zodiac(y):\n",
    "    animals=['원숭이','닭','개','돼지','쥐','소','범','토끼','용','뱀','말','양']\n",
    "    return animals[y%12]\n",
    "\n",
    "y=1996\n",
    "a=zodiac(y)\n",
    "print('{}년생은 {}띠입니다.'.format(y,a))"
   ]
  },
  {
   "cell_type": "code",
   "execution_count": 48,
   "metadata": {},
   "outputs": [
    {
     "name": "stdout",
     "output_type": "stream",
     "text": [
      "1996년생은 쥐띠입니다.\n"
     ]
    }
   ],
   "source": [
    "def zodiac(y):\n",
    "    if y %12==0:\n",
    "        result='원숭이'\n",
    "    if y %12==1:\n",
    "        result='닭'\n",
    "    if y %12==2:\n",
    "        result='개'\n",
    "    if y %12==3:\n",
    "        result='돼지'\n",
    "    if y %12==4:\n",
    "        result='쥐'\n",
    "    if y %12==5:\n",
    "        result='소'\n",
    "    if y %12==6:\n",
    "        result='범'\n",
    "    if y %12==7:\n",
    "        result='토끼'\n",
    "    if y %12==8:\n",
    "        result='용'\n",
    "    if y %12==9:\n",
    "        result='뱀'\n",
    "    if y %12==10:\n",
    "        result='말'\n",
    "    if y %12==11:\n",
    "        result='양'\n",
    "    return result\n",
    "\n",
    "y=1996\n",
    "a=zodiac(y)\n",
    "print('{}년생은 {}띠입니다.'.format(y,a))\n",
    "        "
   ]
  },
  {
   "cell_type": "markdown",
   "metadata": {},
   "source": [
    "### 택시요금 계산\n",
    "#운행거리 2km까지는 기본요금 3000원\n",
    "#운행거리가 2km초과하면 140m마다 150원씩 계산"
   ]
  },
  {
   "cell_type": "code",
   "execution_count": 62,
   "metadata": {},
   "outputs": [
    {
     "name": "stdout",
     "output_type": "stream",
     "text": [
      "운행거리를 입력하세요:2\n",
      "3000\n"
     ]
    }
   ],
   "source": [
    "import math\n",
    "# math.ceil 올림함수\n",
    "\n",
    "def taxi(km):\n",
    "    fee=0\n",
    "    m=km*1000 #미터로 변환\n",
    "    if m<=2000: #기본요금 적용옵션\n",
    "        fee=3000\n",
    "    else:\n",
    "        fee=3000+math.ceil((m-2000)/140)*150\n",
    "    return fee\n",
    "\n",
    "km=float(input('운행거리를 입력하세요:'))\n",
    "print(taxi(km))"
   ]
  },
  {
   "cell_type": "code",
   "execution_count": 66,
   "metadata": {},
   "outputs": [
    {
     "name": "stdout",
     "output_type": "stream",
     "text": [
      "kim님은 정상입니다.\n"
     ]
    }
   ],
   "source": [
    "# 입력값 :  이름, 나이, 신장, 체중\n",
    "# 계산값 : 체질량지수 (kg/m^2)\n",
    "#  출력값 : 체질량지수에 따른 판정\n",
    "#     18.5 미만 저체중,\n",
    "#     18.5~22.9 정상\n",
    "#     23.0~24.9 과체중\n",
    "#     25.0 이상 비만\n",
    "    \n",
    "#     80.5\n",
    "#     ===========\n",
    "#     1.709의 제곱\n",
    "\n",
    "def bmi(info):\n",
    "    m=info['height']/100\n",
    "    b=info['weight']/(m*m) #체질량지수 (bmi 지수)\n",
    "    if b<18.5:\n",
    "        result='저체중'\n",
    "    elif 18.5<=b<22.9:\n",
    "        result='정상'\n",
    "    elif 23.0<=b<24.9:\n",
    "        result='과체중'\n",
    "    else:\n",
    "        result='비만'\n",
    "    return result\n",
    "  \n",
    "person={'name':'kim','age':20,'height':170.9,'weight':65.5}\n",
    "r=bmi(person)\n",
    "print('{}님은 {}입니다.'.format(person['name'],r))\n"
   ]
  },
  {
   "cell_type": "code",
   "execution_count": null,
   "metadata": {},
   "outputs": [],
   "source": []
  },
  {
   "cell_type": "code",
   "execution_count": null,
   "metadata": {},
   "outputs": [],
   "source": []
  },
  {
   "cell_type": "code",
   "execution_count": null,
   "metadata": {},
   "outputs": [],
   "source": []
  },
  {
   "cell_type": "code",
   "execution_count": null,
   "metadata": {},
   "outputs": [],
   "source": []
  },
  {
   "cell_type": "code",
   "execution_count": null,
   "metadata": {},
   "outputs": [],
   "source": []
  },
  {
   "cell_type": "code",
   "execution_count": null,
   "metadata": {},
   "outputs": [],
   "source": []
  },
  {
   "cell_type": "code",
   "execution_count": null,
   "metadata": {},
   "outputs": [],
   "source": []
  },
  {
   "cell_type": "code",
   "execution_count": null,
   "metadata": {},
   "outputs": [],
   "source": []
  },
  {
   "cell_type": "code",
   "execution_count": null,
   "metadata": {},
   "outputs": [],
   "source": []
  }
 ],
 "metadata": {
  "kernelspec": {
   "display_name": "Python 3",
   "language": "python",
   "name": "python3"
  },
  "language_info": {
   "codemirror_mode": {
    "name": "ipython",
    "version": 3
   },
   "file_extension": ".py",
   "mimetype": "text/x-python",
   "name": "python",
   "nbconvert_exporter": "python",
   "pygments_lexer": "ipython3",
   "version": "3.7.4"
  }
 },
 "nbformat": 4,
 "nbformat_minor": 2
}
