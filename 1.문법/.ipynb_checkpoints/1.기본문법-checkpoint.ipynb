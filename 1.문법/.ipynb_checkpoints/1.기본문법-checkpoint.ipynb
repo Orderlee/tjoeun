{
 "cells": [
  {
   "cell_type": "code",
   "execution_count": 1,
   "metadata": {},
   "outputs": [
    {
     "name": "stdout",
     "output_type": "stream",
     "text": [
      "['False', 'None', 'True', 'and', 'as', 'assert', 'async', 'await', 'break', 'class', 'continue', 'def', 'del', 'elif', 'else', 'except', 'finally', 'for', 'from', 'global', 'if', 'import', 'in', 'is', 'lambda', 'nonlocal', 'not', 'or', 'pass', 'raise', 'return', 'try', 'while', 'with', 'yield']\n",
      "35\n"
     ]
    }
   ],
   "source": [
    "#모듈을 불러오는 코드\n",
    "import keyword\n",
    "#파이썬의 예약어 목록\n",
    "print(keyword.kwlist)\n",
    "#len() 갯수 계산\n",
    "print(len(keyword.kwlist))"
   ]
  },
  {
   "cell_type": "code",
   "execution_count": 2,
   "metadata": {},
   "outputs": [
    {
     "data": {
      "text/plain": [
       "3"
      ]
     },
     "execution_count": 2,
     "metadata": {},
     "output_type": "execute_result"
    }
   ],
   "source": [
    "1+2 #덧셈"
   ]
  },
  {
   "cell_type": "code",
   "execution_count": 3,
   "metadata": {},
   "outputs": [
    {
     "data": {
      "text/plain": [
       "1.25"
      ]
     },
     "execution_count": 3,
     "metadata": {},
     "output_type": "execute_result"
    }
   ],
   "source": [
    "3/2.4 #나눗셈(실수몫)"
   ]
  },
  {
   "cell_type": "code",
   "execution_count": 4,
   "metadata": {},
   "outputs": [
    {
     "data": {
      "text/plain": [
       "1.0"
      ]
     },
     "execution_count": 4,
     "metadata": {},
     "output_type": "execute_result"
    }
   ],
   "source": [
    "3//2.4 #나눗셈(실수몫)"
   ]
  },
  {
   "cell_type": "code",
   "execution_count": 5,
   "metadata": {},
   "outputs": [
    {
     "data": {
      "text/plain": [
       "27"
      ]
     },
     "execution_count": 5,
     "metadata": {},
     "output_type": "execute_result"
    }
   ],
   "source": [
    "3*9 #곱셈"
   ]
  },
  {
   "cell_type": "code",
   "execution_count": 6,
   "metadata": {},
   "outputs": [
    {
     "name": "stdout",
     "output_type": "stream",
     "text": [
      "<class 'int'>\n"
     ]
    }
   ],
   "source": [
    "#변수는 좌변에 위치\n",
    "#상수는 우변에 위치\n",
    "count=10\n",
    "count=20\n",
    "print(type(count))"
   ]
  },
  {
   "cell_type": "code",
   "execution_count": 7,
   "metadata": {},
   "outputs": [
    {
     "data": {
      "text/plain": [
       "20"
      ]
     },
     "execution_count": 7,
     "metadata": {},
     "output_type": "execute_result"
    }
   ],
   "source": [
    "count"
   ]
  },
  {
   "cell_type": "code",
   "execution_count": 8,
   "metadata": {},
   "outputs": [
    {
     "name": "stdout",
     "output_type": "stream",
     "text": [
      "A\n",
      "<class 'str'>\n"
     ]
    }
   ],
   "source": [
    "#가변자료형, 우변의 값에 따라 자료형이 바뀔 수 있음\n",
    "count='A'\n",
    "print(count)\n",
    "print(type(count))"
   ]
  },
  {
   "cell_type": "code",
   "execution_count": 9,
   "metadata": {},
   "outputs": [
    {
     "name": "stdout",
     "output_type": "stream",
     "text": [
      "a\n",
      "<class 'str'>\n"
     ]
    }
   ],
   "source": [
    "count='a'\n",
    "print(count)\n",
    "print(type(count))"
   ]
  },
  {
   "cell_type": "code",
   "execution_count": 10,
   "metadata": {},
   "outputs": [
    {
     "name": "stdout",
     "output_type": "stream",
     "text": [
      "10.5\n",
      "<class 'float'>\n"
     ]
    }
   ],
   "source": [
    "count=10.5\n",
    "print(count)\n",
    "print(type(count)) #실수형"
   ]
  },
  {
   "cell_type": "code",
   "execution_count": 11,
   "metadata": {},
   "outputs": [
    {
     "name": "stdout",
     "output_type": "stream",
     "text": [
      "True\n",
      "<class 'bool'>\n"
     ]
    }
   ],
   "source": [
    "count=True\n",
    "print(count)\n",
    "print(type(count)) #논리형(참,거짓)"
   ]
  },
  {
   "cell_type": "code",
   "execution_count": 12,
   "metadata": {},
   "outputs": [],
   "source": [
    "a=10\n",
    "b=20\n",
    "c=30"
   ]
  },
  {
   "cell_type": "code",
   "execution_count": 13,
   "metadata": {},
   "outputs": [
    {
     "data": {
      "text/plain": [
       "30"
      ]
     },
     "execution_count": 13,
     "metadata": {},
     "output_type": "execute_result"
    }
   ],
   "source": [
    "#셀에서 1개만 출력\n",
    "a\n",
    "b\n",
    "c\n"
   ]
  },
  {
   "cell_type": "code",
   "execution_count": 14,
   "metadata": {},
   "outputs": [
    {
     "name": "stdout",
     "output_type": "stream",
     "text": [
      "10\n",
      "20\n",
      "30\n"
     ]
    }
   ],
   "source": [
    "print(a)\n",
    "print(b)\n",
    "print(c)"
   ]
  },
  {
   "cell_type": "code",
   "execution_count": 15,
   "metadata": {},
   "outputs": [
    {
     "name": "stdout",
     "output_type": "stream",
     "text": [
      "11\n",
      "16\n"
     ]
    }
   ],
   "source": [
    "a=10\n",
    "a+=1 #a=a+1\n",
    "print(a)\n",
    "a+=5\n",
    "print(a)"
   ]
  },
  {
   "cell_type": "code",
   "execution_count": 16,
   "metadata": {},
   "outputs": [
    {
     "name": "stdout",
     "output_type": "stream",
     "text": [
      "9\n"
     ]
    }
   ],
   "source": [
    "a=10\n",
    "a-=1 #a=a-1\n",
    "print(a)"
   ]
  },
  {
   "cell_type": "code",
   "execution_count": 17,
   "metadata": {},
   "outputs": [
    {
     "ename": "SyntaxError",
     "evalue": "invalid syntax (<ipython-input-17-88b860e501a1>, line 2)",
     "output_type": "error",
     "traceback": [
      "\u001b[1;36m  File \u001b[1;32m\"<ipython-input-17-88b860e501a1>\"\u001b[1;36m, line \u001b[1;32m2\u001b[0m\n\u001b[1;33m    a++ #에러\u001b[0m\n\u001b[1;37m           ^\u001b[0m\n\u001b[1;31mSyntaxError\u001b[0m\u001b[1;31m:\u001b[0m invalid syntax\n"
     ]
    }
   ],
   "source": [
    "a=10\n",
    "a++ #에러\n",
    "print(a)"
   ]
  },
  {
   "cell_type": "code",
   "execution_count": 18,
   "metadata": {},
   "outputs": [
    {
     "name": "stdout",
     "output_type": "stream",
     "text": [
      "파이썬\n"
     ]
    }
   ],
   "source": [
    "a=\"파이썬\" #문자열은 작은따옴표 또는 큰따옴표로 묶음\n",
    "print(a)"
   ]
  },
  {
   "cell_type": "code",
   "execution_count": 19,
   "metadata": {},
   "outputs": [
    {
     "name": "stdout",
     "output_type": "stream",
     "text": [
      "python\n"
     ]
    }
   ],
   "source": [
    "a='python'\n",
    "print(a)"
   ]
  },
  {
   "cell_type": "code",
   "execution_count": 20,
   "metadata": {},
   "outputs": [
    {
     "data": {
      "text/plain": [
       "81"
      ]
     },
     "execution_count": 20,
     "metadata": {},
     "output_type": "execute_result"
    }
   ],
   "source": [
    "#자료형이 없음 (가변자료형)\n",
    "a=3\n",
    "b=4\n",
    "a**b #3의 4승"
   ]
  },
  {
   "cell_type": "code",
   "execution_count": 21,
   "metadata": {},
   "outputs": [
    {
     "name": "stdout",
     "output_type": "stream",
     "text": [
      "10 20\n"
     ]
    }
   ],
   "source": [
    "#여러개 변수 할당 가능\n",
    "a,b = 10,20\n",
    "print(a,b)"
   ]
  },
  {
   "cell_type": "code",
   "execution_count": 22,
   "metadata": {},
   "outputs": [
    {
     "name": "stdout",
     "output_type": "stream",
     "text": [
      "10 10 10\n"
     ]
    }
   ],
   "source": [
    "i=j=k=10\n",
    "print(i,j,k)"
   ]
  },
  {
   "cell_type": "code",
   "execution_count": 23,
   "metadata": {},
   "outputs": [
    {
     "name": "stdout",
     "output_type": "stream",
     "text": [
      "10 20\n"
     ]
    }
   ],
   "source": [
    "a,b = 10,20\n",
    "print(a,b)"
   ]
  },
  {
   "cell_type": "code",
   "execution_count": 24,
   "metadata": {},
   "outputs": [
    {
     "name": "stdout",
     "output_type": "stream",
     "text": [
      "20 10\n"
     ]
    }
   ],
   "source": [
    "a,b=b,a\n",
    "print(a,b)"
   ]
  },
  {
   "cell_type": "code",
   "execution_count": 25,
   "metadata": {},
   "outputs": [
    {
     "name": "stdout",
     "output_type": "stream",
     "text": [
      "10 20\n",
      "20 10\n"
     ]
    }
   ],
   "source": [
    "a=10\n",
    "b=20\n",
    "temp=0 #백업용 임시변수\n",
    "print(a,b)\n",
    "temp=b\n",
    "b=a\n",
    "a=temp\n",
    "print(a,b)"
   ]
  },
  {
   "cell_type": "code",
   "execution_count": 26,
   "metadata": {},
   "outputs": [
    {
     "name": "stdout",
     "output_type": "stream",
     "text": [
      "2\n"
     ]
    },
    {
     "ename": "NameError",
     "evalue": "name 'b' is not defined",
     "output_type": "error",
     "traceback": [
      "\u001b[1;31m---------------------------------------------------------------------------\u001b[0m",
      "\u001b[1;31mNameError\u001b[0m                                 Traceback (most recent call last)",
      "\u001b[1;32m<ipython-input-26-20e5600e6955>\u001b[0m in \u001b[0;36m<module>\u001b[1;34m\u001b[0m\n\u001b[0;32m      2\u001b[0m \u001b[0mprint\u001b[0m\u001b[1;33m(\u001b[0m\u001b[0mb\u001b[0m\u001b[1;33m)\u001b[0m\u001b[1;33m\u001b[0m\u001b[1;33m\u001b[0m\u001b[0m\n\u001b[0;32m      3\u001b[0m \u001b[1;32mdel\u001b[0m \u001b[0mb\u001b[0m \u001b[1;31m#변수 b를 삭제함\u001b[0m\u001b[1;33m\u001b[0m\u001b[1;33m\u001b[0m\u001b[0m\n\u001b[1;32m----> 4\u001b[1;33m \u001b[0mprint\u001b[0m\u001b[1;33m(\u001b[0m\u001b[0mb\u001b[0m\u001b[1;33m)\u001b[0m \u001b[1;31m#존재하지 않는 변수\u001b[0m\u001b[1;33m\u001b[0m\u001b[1;33m\u001b[0m\u001b[0m\n\u001b[0m",
      "\u001b[1;31mNameError\u001b[0m: name 'b' is not defined"
     ]
    }
   ],
   "source": [
    "b = 2\n",
    "print(b)\n",
    "del b #변수 b를 삭제함\n",
    "print(b) #존재하지 않는 변수"
   ]
  },
  {
   "cell_type": "code",
   "execution_count": 27,
   "metadata": {},
   "outputs": [
    {
     "name": "stdout",
     "output_type": "stream",
     "text": [
      "1\n"
     ]
    }
   ],
   "source": [
    "print(7%3) #7을 3으로 나눈 나머지"
   ]
  },
  {
   "cell_type": "code",
   "execution_count": 28,
   "metadata": {},
   "outputs": [
    {
     "name": "stdout",
     "output_type": "stream",
     "text": [
      "1.75\n"
     ]
    }
   ],
   "source": [
    "print(7/4) #7을 4로 나눈 실수몫"
   ]
  },
  {
   "cell_type": "code",
   "execution_count": 29,
   "metadata": {},
   "outputs": [
    {
     "name": "stdout",
     "output_type": "stream",
     "text": [
      "1\n"
     ]
    }
   ],
   "source": [
    "print(7//4) #7을 4로 나눈 정수몫"
   ]
  },
  {
   "cell_type": "code",
   "execution_count": 30,
   "metadata": {},
   "outputs": [
    {
     "name": "stdout",
     "output_type": "stream",
     "text": [
      "정수 1: 9\n",
      "정수 2: 81\n",
      "정수 3: 4.0\n"
     ]
    }
   ],
   "source": [
    "#다양한 출려형식을 만드는 방법\n",
    "#\"문자열 {번호}\".format(값)\n",
    "x=9\n",
    "print(\"정수 1: {0}\".format(x))\n",
    "print(\"정수 2: {0}\".format(3**4)) #제곱\n",
    "print(\"정수 3: {0}\".format((int(8.3)/int(2.7)))) #강제형변환"
   ]
  },
  {
   "cell_type": "code",
   "execution_count": 31,
   "metadata": {},
   "outputs": [
    {
     "name": "stdout",
     "output_type": "stream",
     "text": [
      "정수 1: 9\n",
      "정수 2: 81\n",
      "정수 3: 3.074074074074074\n",
      "정수 3: 4.0\n"
     ]
    }
   ],
   "source": [
    "x=9\n",
    "#print 함수에서 쉼표는 띄어쓰기\n",
    "print(\"정수 1:\",x)\n",
    "print(\"정수 2:\",3**4) #거듭제곱\n",
    "print(\"정수 3:\", 8.3/2.7)\n",
    "#int(실수) 실수를 정수로\n",
    "print(\"정수 3:\",int(8.3)/int(2.7))"
   ]
  },
  {
   "cell_type": "code",
   "execution_count": 32,
   "metadata": {},
   "outputs": [
    {
     "name": "stdout",
     "output_type": "stream",
     "text": [
      "정수1 : 9 정수 2: 81 정수 3: 4.0\n"
     ]
    }
   ],
   "source": [
    "#변수의 인덱스(index) 순번은 0부터\n",
    "print(\"정수1 : {0} 정수 2: {1} 정수 3: {2}\".format(x,3**4,8/2))"
   ]
  },
  {
   "cell_type": "code",
   "execution_count": 33,
   "metadata": {},
   "outputs": [
    {
     "name": "stdout",
     "output_type": "stream",
     "text": [
      "실수1: 3.074074074074074\n",
      "실수2: 3.074\n",
      "실수3: 12.0\n",
      "실수4: 2.67\n"
     ]
    }
   ],
   "source": [
    "#기본옵션:소수 이하의 모든 값이 출력됨\n",
    "print(\"실수1: {0}\".format(8.3/2.7))\n",
    "#.소수 이하 자리f f float(부동소수점 형식)\n",
    "print(\"실수2: {0:.3f}\".format(8.3/2.7))\n",
    "y=2.5*4.8\n",
    "#소수 이하 1자리만 출력\n",
    "print(\"실수3: {0:.1f}\".format(y))\n",
    "#정수3을 실수형으로 변경\n",
    "r=8/float(3)\n",
    "#소수 이하 2자리만 출력\n",
    "print(\"실수4: {0:.2f}\".format(r))"
   ]
  },
  {
   "cell_type": "code",
   "execution_count": 34,
   "metadata": {},
   "outputs": [
    {
     "name": "stdout",
     "output_type": "stream",
     "text": [
      "<class 'int'> 10\n",
      "<class 'float'> 10.0\n"
     ]
    }
   ],
   "source": [
    "a=10\n",
    "print(type(a),a)\n",
    "#자료형 변형\n",
    "a=float(a)\n",
    "print(type(a),a)"
   ]
  },
  {
   "cell_type": "code",
   "execution_count": 35,
   "metadata": {},
   "outputs": [
    {
     "name": "stdout",
     "output_type": "stream",
     "text": [
      "<class 'float'>\n",
      "10.5\n",
      "<class 'int'> 10\n"
     ]
    }
   ],
   "source": [
    "a=10.5\n",
    "print(type(a)) #자료형\n",
    "print(a) #값\n",
    "#자료형 변환\n",
    "a=int(a)\n",
    "print(type(a),a)"
   ]
  },
  {
   "cell_type": "code",
   "execution_count": 36,
   "metadata": {},
   "outputs": [
    {
     "name": "stdout",
     "output_type": "stream",
     "text": [
      "<class 'int'>\n",
      "11.0\n",
      "10.5\n",
      "10.526\n",
      "10\n"
     ]
    }
   ],
   "source": [
    "import math #math 모듈 로딩\n",
    "\n",
    "a=10.3\n",
    "print(type(math.ceil(a))) #올림\n",
    "\n",
    "a=10.5256\n",
    "print(round(a,0)) #반올림\n",
    "print(round(a,1)) #반올림\n",
    "print(round(a,3)) #반올림\n",
    "\n",
    "a=10.3\n",
    "print(math.floor(a)) #버림\n"
   ]
  },
  {
   "cell_type": "code",
   "execution_count": 37,
   "metadata": {},
   "outputs": [
    {
     "name": "stdout",
     "output_type": "stream",
     "text": [
      "<class 'int'>\n",
      "<class 'float'>\n",
      "<class 'str'>\n"
     ]
    }
   ],
   "source": [
    "#type(변수 또는 상수) 자료형을 출력하는 함수\n",
    "print(type(10)) #정수형\n",
    "print(type(10.5)) #실수형\n",
    "print(type(\"hello\")) #문자열"
   ]
  },
  {
   "cell_type": "code",
   "execution_count": 38,
   "metadata": {},
   "outputs": [
    {
     "name": "stdout",
     "output_type": "stream",
     "text": [
      "<class 'bool'>\n",
      "True\n",
      "False\n",
      "False\n",
      "True\n"
     ]
    }
   ],
   "source": [
    "#논리형\n",
    "hungry=True\n",
    "sleepy=False\n",
    "print(type(hungry)) #논리형\n",
    "print(hungry)\n",
    "print(not hungry) #논리부정\n",
    "#hungry=not hungry\n",
    "print(hungry and sleepy) # A and B : A,B 모두 True 일 때만 True\n",
    "print(hungry or sleepy) # A or B : A,B 중 한개 이상이 true이면 true"
   ]
  },
  {
   "cell_type": "code",
   "execution_count": 39,
   "metadata": {},
   "outputs": [
    {
     "name": "stdout",
     "output_type": "stream",
     "text": [
      "<class 'str'>\n",
      "<class 'bool'>\n",
      "0\n",
      "1\n"
     ]
    }
   ],
   "source": [
    "a='True' #문자열\n",
    "b=True\n",
    "print(type(a))\n",
    "print(type(b))\n",
    "print(1 and 0) #1 은 true 0 은 False\n",
    "print(1 or 0)"
   ]
  },
  {
   "cell_type": "code",
   "execution_count": 40,
   "metadata": {},
   "outputs": [
    {
     "name": "stdout",
     "output_type": "stream",
     "text": [
      "False\n"
     ]
    }
   ],
   "source": [
    "a=10\n",
    "b=20\n",
    "print(a==b) "
   ]
  },
  {
   "cell_type": "code",
   "execution_count": 41,
   "metadata": {},
   "outputs": [
    {
     "name": "stdout",
     "output_type": "stream",
     "text": [
      "True\n"
     ]
    }
   ],
   "source": [
    "a=10\n",
    "b=10\n",
    "print(a==b)"
   ]
  },
  {
   "cell_type": "code",
   "execution_count": 42,
   "metadata": {},
   "outputs": [
    {
     "name": "stdout",
     "output_type": "stream",
     "text": [
      "True\n"
     ]
    }
   ],
   "source": [
    "a=10\n",
    "b=20\n",
    "print(a!=b) #같지 않다"
   ]
  },
  {
   "cell_type": "code",
   "execution_count": 43,
   "metadata": {},
   "outputs": [
    {
     "ename": "TypeError",
     "evalue": "'a' is an invalid keyword argument for print()",
     "output_type": "error",
     "traceback": [
      "\u001b[1;31m---------------------------------------------------------------------------\u001b[0m",
      "\u001b[1;31mTypeError\u001b[0m                                 Traceback (most recent call last)",
      "\u001b[1;32m<ipython-input-43-c68e7086e6f2>\u001b[0m in \u001b[0;36m<module>\u001b[1;34m\u001b[0m\n\u001b[0;32m      1\u001b[0m \u001b[0ma\u001b[0m\u001b[1;33m=\u001b[0m\u001b[1;36m10\u001b[0m\u001b[1;33m\u001b[0m\u001b[1;33m\u001b[0m\u001b[0m\n\u001b[0;32m      2\u001b[0m \u001b[0mb\u001b[0m\u001b[1;33m=\u001b[0m\u001b[1;36m20\u001b[0m\u001b[1;33m\u001b[0m\u001b[1;33m\u001b[0m\u001b[0m\n\u001b[1;32m----> 3\u001b[1;33m \u001b[0mprint\u001b[0m\u001b[1;33m(\u001b[0m\u001b[0ma\u001b[0m\u001b[1;33m=\u001b[0m\u001b[0mb\u001b[0m\u001b[1;33m)\u001b[0m\u001b[1;33m\u001b[0m\u001b[1;33m\u001b[0m\u001b[0m\n\u001b[0m",
      "\u001b[1;31mTypeError\u001b[0m: 'a' is an invalid keyword argument for print()"
     ]
    }
   ],
   "source": [
    "a=10\n",
    "b=20\n",
    "print(a=b) # = 대입, == 비교 "
   ]
  },
  {
   "cell_type": "code",
   "execution_count": 44,
   "metadata": {},
   "outputs": [
    {
     "name": "stdout",
     "output_type": "stream",
     "text": [
      "ok\n",
      "ok\n"
     ]
    }
   ],
   "source": [
    "a=1\n",
    "b=3\n",
    "# if 조건식\n",
    "if a==1 and b==3: #조건식이 True이면 실행됨\n",
    "    print(\"ok\")\n",
    "#한 줄에 다 쓰지 못할 경우 \\ 로 연결\n",
    "if a==1 and \\\n",
    "        b==3:\n",
    "    print(\"ok\")"
   ]
  },
  {
   "cell_type": "code",
   "execution_count": 45,
   "metadata": {},
   "outputs": [
    {
     "name": "stdout",
     "output_type": "stream",
     "text": [
      "Hello\n",
      "Python\n",
      "Hello\n",
      "python\n"
     ]
    }
   ],
   "source": [
    "#\\n 줄바꿈문자, 개행문자 new line\n",
    "multiline = \"Hello\\nPython\"\n",
    "print(multiline)\n",
    "\n",
    "#작은따옴표(큰따옴표) 3개\n",
    "multiline = \"\"\"Hello\n",
    "python\"\"\"\n",
    "print(multiline)"
   ]
  },
  {
   "cell_type": "code",
   "execution_count": 46,
   "metadata": {},
   "outputs": [
    {
     "name": "stdout",
     "output_type": "stream",
     "text": [
      "파이썬은 재미있다.\n"
     ]
    }
   ],
   "source": [
    "head = \"파이썬은 \"\n",
    "tail = \"재미있다.\"\n",
    "# + 연산자는 덧셈 연산자\n",
    "# 문자열 + 문자열 => 문자열 연결\n",
    "print(head + tail)"
   ]
  },
  {
   "cell_type": "code",
   "execution_count": 47,
   "metadata": {},
   "outputs": [
    {
     "name": "stdout",
     "output_type": "stream",
     "text": [
      "이름:김철수,나이:20\n"
     ]
    }
   ],
   "source": [
    "name = \"김철수\"\n",
    "age  = 20\n",
    "#print(\"이름:\"+ name + \"나이:\" + age) #에러남\n",
    "\n",
    "#str(숫자) : 숫자를 문자열로 변환\n",
    "print(\"이름:\"+name+\",나이:\"+str(age))"
   ]
  },
  {
   "cell_type": "code",
   "execution_count": 48,
   "metadata": {},
   "outputs": [
    {
     "name": "stdout",
     "output_type": "stream",
     "text": [
      "파이썬파이썬\n",
      "파이썬파이썬파이썬\n",
      "==================================================\n",
      "My Program\n",
      "==================================================\n"
     ]
    }
   ],
   "source": [
    "a=\"파이썬\"\n",
    "print(a*2) # a 문자열의 내용이 2회 반복됨\n",
    "print(a*3) # a 문자열의 내용이 3회 반복됨\n",
    "\n",
    "print(\"=\"*50)\n",
    "print(\"My Program\")\n",
    "print(\"=\"*50)"
   ]
  },
  {
   "cell_type": "code",
   "execution_count": 49,
   "metadata": {},
   "outputs": [
    {
     "name": "stdout",
     "output_type": "stream",
     "text": [
      "<class 'range'>\n",
      "range(0, 10)\n"
     ]
    }
   ],
   "source": [
    "a = range(10) #0~9\n",
    "print(type(a)) #자료형\n",
    "print(a) #실제값이 나오지는 않음"
   ]
  },
  {
   "cell_type": "code",
   "execution_count": 50,
   "metadata": {},
   "outputs": [
    {
     "name": "stdout",
     "output_type": "stream",
     "text": [
      "<class 'list'>\n",
      "[0, 1, 2, 3, 4, 5, 6, 7, 8, 9]\n"
     ]
    }
   ],
   "source": [
    "a = list(range(10)) # range 함수의 결과값을 리스트로 저장\n",
    "print(type(a)) #리스트 자료형\n",
    "print(a)"
   ]
  },
  {
   "cell_type": "code",
   "execution_count": 51,
   "metadata": {},
   "outputs": [
    {
     "name": "stdout",
     "output_type": "stream",
     "text": [
      "[10, 11, 12, 13, 14, 15, 16, 17, 18, 19]\n"
     ]
    }
   ],
   "source": [
    "a = list(range(10,20)) #10~19\n",
    "print(a)"
   ]
  },
  {
   "cell_type": "code",
   "execution_count": 52,
   "metadata": {},
   "outputs": [
    {
     "name": "stdout",
     "output_type": "stream",
     "text": [
      "[10, 15, 20, 25, 30, 35, 40, 45, 50, 55, 60, 65, 70, 75, 80, 85, 90, 95]\n"
     ]
    }
   ],
   "source": [
    "# range(start,end-1,step)\n",
    "a = list(range(10,100,5)) #10~99까지 5씩 증가\n",
    "print(a)"
   ]
  },
  {
   "cell_type": "code",
   "execution_count": 53,
   "metadata": {},
   "outputs": [
    {
     "name": "stdout",
     "output_type": "stream",
     "text": [
      "<class 'list'>\n",
      "[1, 2, 3, 4, 5]\n",
      "1\n",
      "2\n",
      "3\n",
      "4\n",
      "5\n",
      "1 2 3 4 5 "
     ]
    }
   ],
   "source": [
    "#리스트 자료형\n",
    "# ()소괄호, {} 중괄호, []대괄호\n",
    "a=[1,2,3,4,5]\n",
    "print(type(a)) #자료형\n",
    "print(a) # a 변수에 저장된 값\n",
    "\n",
    "#리스트[인덱스] => 인덱싱\n",
    "# print(a[0]) #리스트 a의 첫번째 값\n",
    "# print(a[1])\n",
    "# print(a[2])\n",
    "# print(a[3])\n",
    "# print(a[4])\n",
    "#print(a[5]) #에러\n",
    "\n",
    "# 반복문\n",
    "# for 개별값 in 집합\n",
    "for i in a:\n",
    "    print(i)\n",
    "    \n",
    "for i in a:\n",
    "    print(i,end=' ') #end=' ' 줄바꿈을 무시하고 공백이 출력됨"
   ]
  },
  {
   "cell_type": "code",
   "execution_count": 54,
   "metadata": {},
   "outputs": [
    {
     "name": "stdout",
     "output_type": "stream",
     "text": [
      "=================================================="
     ]
    }
   ],
   "source": [
    "# range(start,end-1,step)\n",
    "for i in range(1,51): # 1~50\n",
    "    print(\"=\",end=\"\") # end=\"\" 줄바꿈 문자를 무시함"
   ]
  },
  {
   "cell_type": "code",
   "execution_count": 55,
   "metadata": {},
   "outputs": [
    {
     "name": "stdout",
     "output_type": "stream",
     "text": [
      "[1, 2, 3, 4, 5, 6, 7, 8, 9, 10]\n"
     ]
    }
   ],
   "source": [
    "a = list(range(1,11))\n",
    "print(a)"
   ]
  },
  {
   "cell_type": "code",
   "execution_count": 56,
   "metadata": {},
   "outputs": [
    {
     "name": "stdout",
     "output_type": "stream",
     "text": [
      "10\n",
      "10\n",
      "[1, 2, 3, 4, 5, 6, 7, 8, 9, 10]\n",
      "[1, 2, 3, 4]\n",
      "[6, 7, 8, 9, 10]\n",
      "[1, 3, 5, 7, 9]\n",
      "[1, 3, 5, 7, 9]\n",
      "[5, 6, 7, 8, 9]\n",
      "[5, 6, 7, 8, 9, 10]\n"
     ]
    }
   ],
   "source": [
    "# 리스트의 인덱싱\n",
    "print(a[9]) #10번째 값\n",
    "print(a[-1]) #뒤에서 첫번째 값\n",
    "\n",
    "# 리스트의 슬라이싱 (일부분을 잘라내는 방법)\n",
    "# start:end\n",
    "print(a[:]) #처음부터 끝까지\n",
    "print(a[:4]) #0부터 3까지\n",
    "print(a[5:]) #5부터 끝까지\n",
    "print(a[0:9:2]) #0부터 9까지, 간격 2\n",
    "print(a[::2])\n",
    "print(a[4:-1])\n",
    "print(a[4:11])"
   ]
  },
  {
   "cell_type": "code",
   "execution_count": 57,
   "metadata": {},
   "outputs": [
    {
     "name": "stdout",
     "output_type": "stream",
     "text": [
      "life is too short\n",
      "<class 'str'>\n",
      "e\n",
      "r\n",
      "life\n",
      "is too short\n",
      "life is too short\n"
     ]
    }
   ],
   "source": [
    "# 문자열은 문자들의 집합\n",
    "a = \"life is too short\"\n",
    "print(a)\n",
    "print(type(a))\n",
    "print(a[3]) #문자열의 네번째값\n",
    "print(a[-2]) #문자열의 뒤에서 두번째값\n",
    "print(a[0:4]) # 0,1,2,3\n",
    "print(a[5:]) #5~끝까지\n",
    "print(a[:])# 전체"
   ]
  },
  {
   "cell_type": "code",
   "execution_count": 58,
   "metadata": {},
   "outputs": [
    {
     "name": "stdout",
     "output_type": "stream",
     "text": [
      "['kim', 'park', 'hong']\n",
      "[10, 100.5, True, 'kim']\n",
      "[1000, 100.5, True, 'kim']\n"
     ]
    }
   ],
   "source": [
    "a = [\"kim\",\"park\",\"hong\"]\n",
    "print(a)\n",
    "a = [10,100.5,True,\"kim\"] #리스트의 요소는 다양한 자료형 사용가능\n",
    "print(a)\n",
    "a[0]=1000\n",
    "print(a)"
   ]
  },
  {
   "cell_type": "code",
   "execution_count": 59,
   "metadata": {},
   "outputs": [
    {
     "name": "stdout",
     "output_type": "stream",
     "text": [
      "<class 'bool'>\n",
      "True\n",
      "<class 'str'>\n",
      "True\n",
      "kim\n"
     ]
    }
   ],
   "source": [
    "# True,False 논리형, 예약어\n",
    "a=True\n",
    "print(type(a)) #bool 논리형\n",
    "print(a)\n",
    "a=\"True\"\n",
    "print(type(a)) #문자열\n",
    "print(a)\n",
    "a='kim'\n",
    "print(a)"
   ]
  },
  {
   "cell_type": "code",
   "execution_count": 60,
   "metadata": {},
   "outputs": [
    {
     "name": "stdout",
     "output_type": "stream",
     "text": [
      "10회 반복\n"
     ]
    }
   ],
   "source": [
    "# str=\"hello world\"\n",
    "# print(str)\n",
    "\n",
    "a=10\n",
    "b=\"회 반복\"\n",
    "#print(a+b)\n",
    "print(str(a)+b)  #위에있는 str을 주석으로 처리후 재시작해도 되지않음 그럴땐 kernel에서 클리어 후 재시작"
   ]
  },
  {
   "cell_type": "code",
   "execution_count": 61,
   "metadata": {},
   "outputs": [
    {
     "name": "stdout",
     "output_type": "stream",
     "text": [
      "hello world\n",
      "True\n",
      "False\n"
     ]
    }
   ],
   "source": [
    "a = \"hello world\"\n",
    "print(a)\n",
    "# A in B : B안에 A가 포함되어 있으면 True\n",
    "# A not in B 안에 A가 포함되어 있지 않으면 True\n",
    "print(\"world\" in a) #대소문자도 구분함\n",
    "print(\"world\" not in a)"
   ]
  },
  {
   "cell_type": "code",
   "execution_count": 62,
   "metadata": {},
   "outputs": [
    {
     "name": "stdout",
     "output_type": "stream",
     "text": [
      "[10, 20, 30, 40, 50]\n",
      "True\n",
      "False\n",
      "False\n",
      "True\n"
     ]
    }
   ],
   "source": [
    "a = [10,20,30,40,50]\n",
    "print(a)\n",
    "print(20 in a) #리스트 a에 20이 포함되어 있는지?\n",
    "print(25 in a)\n",
    "print(20 not in a) #리스트 a에 20이 포함되어 있지 않은지?\n",
    "print(25 not in a)"
   ]
  },
  {
   "cell_type": "code",
   "execution_count": 63,
   "metadata": {},
   "outputs": [
    {
     "name": "stdout",
     "output_type": "stream",
     "text": [
      "10 20 30 40 50 \n",
      "10 20 "
     ]
    }
   ],
   "source": [
    "a = [10,20,30,40,50]\n",
    "for i in a:\n",
    "    print(i,end=' ') #줄바꿈 대신 공백으로\n",
    "    \n",
    "print()   #내용이 없으면 줄바꿈만\n",
    "for i in a:\n",
    "    print(i,end=' ')\n",
    "    if i==20:\n",
    "        break #반복문을 더이상 실행하지 않고 종료함"
   ]
  },
  {
   "cell_type": "code",
   "execution_count": 64,
   "metadata": {},
   "outputs": [
    {
     "name": "stdout",
     "output_type": "stream",
     "text": [
      "20 을 찾았습니다.\n"
     ]
    }
   ],
   "source": [
    "a = [10,20,30,40,50]\n",
    "n = 20 #찾는 값\n",
    "flag=False #상태변수\n",
    "for i in a:\n",
    "    if i==n: #찾는 값과 같으면\n",
    "        flag=True #상태변수를 True로 변경\n",
    "        break #반복문을 종료함\n",
    "\n",
    "if flag==True: #조건식이 True이면\n",
    "    print(n,\"을 찾았습니다.\")\n",
    "else: #조건식이 False이면\n",
    "    print(n,\"을 찾지 못했습니다.\")"
   ]
  },
  {
   "cell_type": "code",
   "execution_count": 65,
   "metadata": {},
   "outputs": [
    {
     "name": "stdout",
     "output_type": "stream",
     "text": [
      "[10, 20, 30, 40, 50]\n",
      "20\n",
      "200\n",
      "[10, 200, 30, 40, 50]\n"
     ]
    }
   ],
   "source": [
    "#리스트 : 다양한 자료형을 사용할 수 있고 변경이 가능함\n",
    "a = [10,20,30,40,50]\n",
    "print(a)\n",
    "print(a[1]) #리스트 a의 두번째 값\n",
    "a[1]=200 #두번째 값을 200으로 변경\n",
    "print(a[1])\n",
    "print(a)"
   ]
  },
  {
   "cell_type": "code",
   "execution_count": 66,
   "metadata": {},
   "outputs": [
    {
     "name": "stdout",
     "output_type": "stream",
     "text": [
      "당신의 나이는 20세입니다.\n",
      "당신의 나이는 20.000000세입니다.\n",
      "당신의 나이는 20.00세입니다.\n",
      "당신의 나이는 20 세입니다.\n"
     ]
    }
   ],
   "source": [
    "age = 20\n",
    "# %s 스트링 형식, %d 정수, %f 실수\n",
    "# \"문자열\" % (출력할 값)\n",
    "print(\"당신의 나이는 %s세입니다.\" % age)\n",
    "print(\"당신의 나이는 %f세입니다.\" % age)\n",
    "print(\"당신의 나이는 %.2f세입니다.\" % age)\n",
    "print(\"당신의 나이는\",age,\"세입니다.\")"
   ]
  },
  {
   "cell_type": "code",
   "execution_count": 67,
   "metadata": {},
   "outputs": [
    {
     "name": "stdout",
     "output_type": "stream",
     "text": [
      "김철수 님의 나이는 20 세입니다.\n",
      "김철수님의 나이는 20세입니다.\n"
     ]
    }
   ],
   "source": [
    "age = 20\n",
    "name = \"김철수\"\n",
    "print(name,\"님의 나이는\",age,\"세입니다.\")\n",
    "print(\"%s님의 나이는 %d세입니다.\"% (name,age))"
   ]
  },
  {
   "cell_type": "code",
   "execution_count": 68,
   "metadata": {},
   "outputs": [
    {
     "name": "stdout",
     "output_type": "stream",
     "text": [
      "김철수님의 나이는 20세입니다.\n"
     ]
    }
   ],
   "source": [
    "age = 20\n",
    "name = \"김철수\"\n",
    "# name=>{0}. age=>{1}\n",
    "print(\"{0}님의 나이는 {1}세입니다.\".format(name,age))"
   ]
  },
  {
   "cell_type": "code",
   "execution_count": 69,
   "metadata": {},
   "outputs": [
    {
     "name": "stdout",
     "output_type": "stream",
     "text": [
      "당신의 나이는 20\n"
     ]
    }
   ],
   "source": [
    "# format 함수를 사용하는 방법\n",
    "age = 20\n",
    "# 문자열.format(출력할 값)\n",
    "print(\"당신의 나이는 {0}\".format(age))"
   ]
  },
  {
   "cell_type": "code",
   "execution_count": 70,
   "metadata": {},
   "outputs": [
    {
     "name": "stdout",
     "output_type": "stream",
     "text": [
      "나는 사과를 좋아합니다.\n"
     ]
    }
   ],
   "source": [
    "fruit = \"사과\"\n",
    "# fruit변수에 저장된 값이 스트링 형식으로 출력됨\n",
    "print(\"나는 %s를 좋아합니다.\" % fruit)"
   ]
  },
  {
   "cell_type": "code",
   "execution_count": 71,
   "metadata": {},
   "outputs": [
    {
     "name": "stdout",
     "output_type": "stream",
     "text": [
      "나는 사과를 좋아합니다.\n"
     ]
    }
   ],
   "source": [
    "fruit = \"사과\"\n",
    "#변수의 인덱스를 생략할 수 있음\n",
    "print(\"나는 {}를 좋아합니다.\".format(fruit))"
   ]
  },
  {
   "cell_type": "code",
   "execution_count": 76,
   "metadata": {},
   "outputs": [
    {
     "name": "stdout",
     "output_type": "stream",
     "text": [
      "정확도: 98%\n"
     ]
    }
   ],
   "source": [
    "rate = 98\n",
    "print(\"정확도: %d%%\" % rate)\n",
    "# 문자열 내부에 %를 쓰고 싶을 때 : %%"
   ]
  },
  {
   "cell_type": "code",
   "execution_count": 80,
   "metadata": {},
   "outputs": [
    {
     "name": "stdout",
     "output_type": "stream",
     "text": [
      "원주율: 3.141592\n",
      "원주율:      3.142\n",
      "원주율:    3.14\n",
      "원주율: 3.1415920\n"
     ]
    }
   ],
   "source": [
    "point = 3.141592\n",
    "print(\"원주율: %f\" % point)\n",
    "#전체자리수. 소수이하자리수, 전체자리수에는 소수점도 포함됨\n",
    "print(\"원주율: %10.3f\" % point)\n",
    "print(\"원주율: %7.2f\" % point)\n",
    "print(\"원주율: %3.7f\" % point)"
   ]
  },
  {
   "cell_type": "code",
   "execution_count": 86,
   "metadata": {},
   "outputs": [
    {
     "name": "stdout",
     "output_type": "stream",
     "text": [
      "원주율:3.141593\n",
      "원주율:3.1415926535897931159979634685441851615905761718750000000000000000000000000000000000000000000000000000\n"
     ]
    }
   ],
   "source": [
    "import math\n",
    "print(\"원주율:%f\" % math.pi) #소수 이하 6자리\n",
    "print(\"원주율:%.100f\" % math.pi)"
   ]
  },
  {
   "cell_type": "code",
   "execution_count": 85,
   "metadata": {},
   "outputs": [
    {
     "name": "stdout",
     "output_type": "stream",
     "text": [
      "<class 'int'>\n",
      "금액:183759182847\n",
      "<class 'str'>\n",
      "금액:183,759,182,847\n"
     ]
    }
   ],
   "source": [
    "money=183759182847\n",
    "print(type(money))\n",
    "print(\"금액:%d\" % money) #정수 형식\n",
    "money=format(money,',')\n",
    "print(type(money))\n",
    "print(\"금액:%s\" % money) #스트링 형식"
   ]
  },
  {
   "cell_type": "code",
   "execution_count": 88,
   "metadata": {},
   "outputs": [
    {
     "name": "stdout",
     "output_type": "stream",
     "text": [
      "<class 'float'>\n",
      "100.234567\n",
      "<class 'str'>\n",
      "100.2\n"
     ]
    }
   ],
   "source": [
    "a = 100.234567\n",
    "print(type(a))\n",
    "print(a)\n",
    "#포메팅을 한 후의 값은 스트링\n",
    "# 전체자리수 5, 소수이하자리 1\n",
    "b=\"%5.1f\" % a\n",
    "print(type(b))\n",
    "print(b)"
   ]
  },
  {
   "cell_type": "code",
   "execution_count": 99,
   "metadata": {},
   "outputs": [
    {
     "name": "stdout",
     "output_type": "stream",
     "text": [
      "<class 'float'>\n",
      "123456789.234567\n",
      "123,456,789.234567\n",
      "123456789.234567\n",
      "                                123,456,789.234567\n"
     ]
    }
   ],
   "source": [
    "a = 123456789.234567\n",
    "print(type(a))\n",
    "print(a)\n",
    "#포메팅을 한 후의 값은 스트링\n",
    "# 전체자리수 5, 소수이하자리 1\n",
    "b=format(a,',') #천단위 컴머 추가\n",
    "print(b)\n",
    "c=b.replace(',','') # 컴머를 찾아서 지움\n",
    "print(c)\n",
    "d=float(c) #스트링을 실수형으로 변환\n",
    "#전체자리수 15자리, 소수이하 2자리\n",
    "e=format(\"%15.2f\" % d)\n",
    "e=format(d,',')\n",
    "print(\"{0:>50}\".format(e))"
   ]
  },
  {
   "cell_type": "code",
   "execution_count": 103,
   "metadata": {},
   "outputs": [
    {
     "name": "stdout",
     "output_type": "stream",
     "text": [
      "원주율 :       3.14\n"
     ]
    }
   ],
   "source": [
    "import math\n",
    "a = \"원주율\"\n",
    "b = math.pi\n",
    "c = \"%s : %10.2f\" % (a,b)\n",
    "print(c)"
   ]
  },
  {
   "cell_type": "code",
   "execution_count": 111,
   "metadata": {},
   "outputs": [
    {
     "name": "stdout",
     "output_type": "stream",
     "text": [
      "1234567890.1234567\n",
      "$1,234,567,890.12\n"
     ]
    }
   ],
   "source": [
    "import locale\n",
    "\n",
    "a=1234567890.12345678\n",
    "print(a)\n",
    "# grouping=True 천단위 컴머 옵션\n",
    "# locale.setlocale(locale.LC_ALL, 'ko_KR') #한국 형식\n",
    "locale.setlocale(locale.LC_ALL,'en_US') #미국 형식\n",
    "b=locale.currency(a,grouping=True)\n",
    "print(b)"
   ]
  },
  {
   "cell_type": "code",
   "execution_count": 120,
   "metadata": {},
   "outputs": [
    {
     "name": "stdout",
     "output_type": "stream",
     "text": [
      "나이 : 15세\n"
     ]
    }
   ],
   "source": [
    "age = 15\n",
    "# \"출력형식이 포함된 문자열\".format(출력할 값들)\n",
    "result = \"나이 : {0}세\".format(age)\n",
    "print(result)"
   ]
  },
  {
   "cell_type": "code",
   "execution_count": 132,
   "metadata": {},
   "outputs": [
    {
     "name": "stdout",
     "output_type": "stream",
     "text": [
      "나이 : 15세\n"
     ]
    }
   ],
   "source": [
    "age = 15\n",
    "# \"출력형식이 포함된 문자열\" % (출력할값들)\n",
    "result = \"나이 : %d세\" % (age) # %d 숫자형\n",
    "print(result)"
   ]
  },
  {
   "cell_type": "code",
   "execution_count": 135,
   "metadata": {},
   "outputs": [
    {
     "name": "stdout",
     "output_type": "stream",
     "text": [
      "나이: 100\n"
     ]
    }
   ],
   "source": [
    "age=\"100\"\n",
    "# int(문자열) 문자열을 정수로 변환\n",
    "result=\"나이: %d\" % int(age)\n",
    "print(result)"
   ]
  },
  {
   "cell_type": "code",
   "execution_count": 128,
   "metadata": {},
   "outputs": [
    {
     "name": "stdout",
     "output_type": "stream",
     "text": [
      "<class 'float'>\n",
      "15.123400\n"
     ]
    }
   ],
   "source": [
    "a = 15.1234\n",
    "print(type(a))\n",
    "b=\"%f\" % a\n",
    "print(b)"
   ]
  },
  {
   "cell_type": "code",
   "execution_count": 131,
   "metadata": {},
   "outputs": [
    {
     "ename": "TypeError",
     "evalue": "%d format: a number is required, not str",
     "output_type": "error",
     "traceback": [
      "\u001b[1;31m---------------------------------------------------------------------------\u001b[0m",
      "\u001b[1;31mTypeError\u001b[0m                                 Traceback (most recent call last)",
      "\u001b[1;32m<ipython-input-131-76a9f21c369d>\u001b[0m in \u001b[0;36m<module>\u001b[1;34m\u001b[0m\n\u001b[0;32m      1\u001b[0m \u001b[0ma\u001b[0m\u001b[1;33m=\u001b[0m\u001b[1;34m\"15세\"\u001b[0m\u001b[1;33m\u001b[0m\u001b[1;33m\u001b[0m\u001b[0m\n\u001b[1;32m----> 2\u001b[1;33m \u001b[0mb\u001b[0m\u001b[1;33m=\u001b[0m\u001b[1;34m\"%d\"\u001b[0m \u001b[1;33m%\u001b[0m \u001b[0ma\u001b[0m\u001b[1;33m\u001b[0m\u001b[1;33m\u001b[0m\u001b[0m\n\u001b[0m\u001b[0;32m      3\u001b[0m \u001b[0mprint\u001b[0m\u001b[1;33m(\u001b[0m\u001b[0mb\u001b[0m\u001b[1;33m)\u001b[0m\u001b[1;33m\u001b[0m\u001b[1;33m\u001b[0m\u001b[0m\n",
      "\u001b[1;31mTypeError\u001b[0m: %d format: a number is required, not str"
     ]
    }
   ],
   "source": [
    "a=\"15세\"\n",
    "b=\"%d\" % a  #%s를 사용해야함 ->'세' 라는 문자 때문\n",
    "print(b)"
   ]
  },
  {
   "cell_type": "code",
   "execution_count": 122,
   "metadata": {},
   "outputs": [
    {
     "name": "stdout",
     "output_type": "stream",
     "text": [
      "이름 : 김철수\n"
     ]
    }
   ],
   "source": [
    "name = \"김철수\"\n",
    "result = \"이름 : {0}\".format(name)\n",
    "print(result)"
   ]
  },
  {
   "cell_type": "code",
   "execution_count": 123,
   "metadata": {},
   "outputs": [
    {
     "name": "stdout",
     "output_type": "stream",
     "text": [
      "이름 : 김철수\n"
     ]
    }
   ],
   "source": [
    "name = \"김철수\"\n",
    "result = \"이름 : %s\" % (name) #%s 문자열\n",
    "print(result)"
   ]
  },
  {
   "cell_type": "code",
   "execution_count": 124,
   "metadata": {},
   "outputs": [
    {
     "name": "stdout",
     "output_type": "stream",
     "text": [
      "김철수님의 나이는 15세입니다.\n"
     ]
    }
   ],
   "source": [
    "# 출력할 값이 2개 이상인 경우, 인덱스는 생략가능함\n",
    "result = \"{0}님의 나이는 {1}세입니다.\".format(name,age)\n",
    "print(result)"
   ]
  },
  {
   "cell_type": "code",
   "execution_count": 127,
   "metadata": {},
   "outputs": [
    {
     "name": "stdout",
     "output_type": "stream",
     "text": [
      "김철수님의 나이는 15세 입니다.\n"
     ]
    }
   ],
   "source": [
    "result = \"%s님의 나이는 %d세 입니다.\" % (name,age)\n",
    "print(result)"
   ]
  },
  {
   "cell_type": "code",
   "execution_count": 117,
   "metadata": {},
   "outputs": [
    {
     "name": "stdout",
     "output_type": "stream",
     "text": [
      "김철수님의 나이는 20세입니다.\n"
     ]
    }
   ],
   "source": [
    "# 숫자인덱스 대신 변수명을 사용할 수 있음\n",
    "result = \"{name}님의 나이는 {age}세입니다.\".format(age=20, name=\"김철수\")\n",
    "print(result)"
   ]
  },
  {
   "cell_type": "code",
   "execution_count": 149,
   "metadata": {
    "scrolled": true
   },
   "outputs": [
    {
     "name": "stdout",
     "output_type": "stream",
     "text": [
      "hi\n",
      "2\n"
     ]
    }
   ],
   "source": [
    "#기본정렬 (왼쪽)\n",
    "result = \"{0}\".format(\"hi\")\n",
    "print(result)\n",
    "print(len(result))"
   ]
  },
  {
   "cell_type": "code",
   "execution_count": 150,
   "metadata": {},
   "outputs": [
    {
     "name": "stdout",
     "output_type": "stream",
     "text": [
      "hi        \n",
      "10\n"
     ]
    }
   ],
   "source": [
    "result = \"{0:10}\".format(\"hi\")\n",
    "print(result)\n",
    "print(len(result))"
   ]
  },
  {
   "cell_type": "code",
   "execution_count": 148,
   "metadata": {},
   "outputs": [
    {
     "name": "stdout",
     "output_type": "stream",
     "text": [
      "hi        \n",
      "10\n"
     ]
    }
   ],
   "source": [
    "#왼쪽정렬\n",
    "# :콜론, ; 세미콜론, ^햇, -하이픈, _언더스코어, #샵 \"큰따옴표 '작은따옴표 /슬래시 \\백슬래시, *애스터리스크, & 앰퍼센드, @ at\n",
    "# {인덱스:부가적인옵션}\n",
    "result = \"{0:<10}\".format(\"hi\")\n",
    "print(result)\n",
    "print(len(result))"
   ]
  },
  {
   "cell_type": "code",
   "execution_count": 151,
   "metadata": {},
   "outputs": [
    {
     "name": "stdout",
     "output_type": "stream",
     "text": [
      "        hi\n",
      "10\n"
     ]
    }
   ],
   "source": [
    "#오른쪽 정렬\n",
    "result = \"{0:>10}\".format(\"hi\")\n",
    "print(result)"
   ]
  },
  {
   "cell_type": "code",
   "execution_count": 140,
   "metadata": {},
   "outputs": [
    {
     "name": "stdout",
     "output_type": "stream",
     "text": [
      "    hi    \n"
     ]
    }
   ],
   "source": [
    "#가운데 정렬\n",
    "result = \"{0:^10}\".format(\"hi\")\n",
    "print(result)"
   ]
  },
  {
   "cell_type": "code",
   "execution_count": 142,
   "metadata": {},
   "outputs": [
    {
     "name": "stdout",
     "output_type": "stream",
     "text": [
      "====hi====\n"
     ]
    }
   ],
   "source": [
    "#가운데 정렬, 빈자리에 =채움\n",
    "result = \"{0:=^10}\".format(\"hi\")\n",
    "print(result)"
   ]
  },
  {
   "cell_type": "code",
   "execution_count": 143,
   "metadata": {},
   "outputs": [
    {
     "name": "stdout",
     "output_type": "stream",
     "text": [
      "----hi----\n"
     ]
    }
   ],
   "source": [
    "#가운데 정렬, 빈자리에 -채움\n",
    "result = \"{0:-^10}\".format(\"hi\")\n",
    "print(result)"
   ]
  },
  {
   "cell_type": "code",
   "execution_count": 152,
   "metadata": {},
   "outputs": [
    {
     "name": "stdout",
     "output_type": "stream",
     "text": [
      "[5, 4, 3, 2, 1]\n"
     ]
    }
   ],
   "source": [
    "a=[1,2,3,4,5]\n",
    "a.reverse()\n",
    "print(a)"
   ]
  },
  {
   "cell_type": "code",
   "execution_count": 5,
   "metadata": {},
   "outputs": [
    {
     "name": "stdout",
     "output_type": "stream",
     "text": [
      "1020\n"
     ]
    }
   ],
   "source": [
    "a = 10 #숫자\n",
    "b = \"20\" #문자열\n",
    "#print(a+b)\n",
    "# str(숫자) tntwkfmf answkduffh\n",
    "print(str(a)+b)"
   ]
  },
  {
   "cell_type": "code",
   "execution_count": 4,
   "metadata": {},
   "outputs": [
    {
     "name": "stdout",
     "output_type": "stream",
     "text": [
      "<class 'str'>\n",
      "hobby\n",
      "2\n"
     ]
    }
   ],
   "source": [
    "a = \"hobby\"\n",
    "print(type(a))\n",
    "print(a)\n",
    "#문자열 a에서 b가 몇개 있는지 계산\n",
    "print(a.count('b'))"
   ]
  },
  {
   "cell_type": "code",
   "execution_count": 10,
   "metadata": {},
   "outputs": [
    {
     "name": "stdout",
     "output_type": "stream",
     "text": [
      "찾은 횟수: 2\n"
     ]
    }
   ],
   "source": [
    "# a=b a에 b를 대입\n",
    "# a==b a와 b가 같은지 검사\n",
    "\n",
    "a = \"hobby\"\n",
    "c = 0 #카운트값을 저장할 변수\n",
    "for i in a:\n",
    "    #print(i)\n",
    "    if i=='b':  #비교 연산\n",
    "        c+=1   #c의 값을 1증가시킴\n",
    "        #c=c+1\n",
    "        \n",
    "print(\"찾은 횟수:\",c)"
   ]
  },
  {
   "cell_type": "code",
   "execution_count": 2,
   "metadata": {},
   "outputs": [
    {
     "name": "stdout",
     "output_type": "stream",
     "text": [
      "7\n",
      "-1\n"
     ]
    }
   ],
   "source": [
    "a = \"Have a nice day.\"\n",
    "# 문자열 a에서 nice 몇번째 위치에 있는지\n",
    "print(a.find('nice'))\n",
    "print(a.find('have')) # 찾는 내용이 없으면 -1 (대소문자구분)"
   ]
  },
  {
   "cell_type": "code",
   "execution_count": 3,
   "metadata": {},
   "outputs": [
    {
     "name": "stdout",
     "output_type": "stream",
     "text": [
      "8\n"
     ]
    },
    {
     "ename": "ValueError",
     "evalue": "substring not found",
     "output_type": "error",
     "traceback": [
      "\u001b[1;31m---------------------------------------------------------------------------\u001b[0m",
      "\u001b[1;31mValueError\u001b[0m                                Traceback (most recent call last)",
      "\u001b[1;32m<ipython-input-3-683de69174b3>\u001b[0m in \u001b[0;36m<module>\u001b[1;34m\u001b[0m\n\u001b[0;32m      1\u001b[0m \u001b[0ma\u001b[0m \u001b[1;33m=\u001b[0m \u001b[1;34m\"Life is too short\"\u001b[0m\u001b[1;33m\u001b[0m\u001b[1;33m\u001b[0m\u001b[0m\n\u001b[0;32m      2\u001b[0m \u001b[0mprint\u001b[0m\u001b[1;33m(\u001b[0m\u001b[0ma\u001b[0m\u001b[1;33m.\u001b[0m\u001b[0mindex\u001b[0m\u001b[1;33m(\u001b[0m\u001b[1;34m\"too\"\u001b[0m\u001b[1;33m)\u001b[0m\u001b[1;33m)\u001b[0m\u001b[1;33m\u001b[0m\u001b[1;33m\u001b[0m\u001b[0m\n\u001b[1;32m----> 3\u001b[1;33m \u001b[0mprint\u001b[0m\u001b[1;33m(\u001b[0m\u001b[0ma\u001b[0m\u001b[1;33m.\u001b[0m\u001b[0mindex\u001b[0m\u001b[1;33m(\u001b[0m\u001b[1;34m\"kind\"\u001b[0m\u001b[1;33m)\u001b[0m\u001b[1;33m)\u001b[0m \u001b[1;31m#찾는 내용이 없으면 에러 발생\u001b[0m\u001b[1;33m\u001b[0m\u001b[1;33m\u001b[0m\u001b[0m\n\u001b[0m",
      "\u001b[1;31mValueError\u001b[0m: substring not found"
     ]
    }
   ],
   "source": [
    "a = \"Life is too short\"\n",
    "print(a.index(\"too\"))\n",
    "print(a.index(\"kind\")) #찾는 내용+이 없으면 에러 발생"
   ]
  },
  {
   "cell_type": "code",
   "execution_count": 12,
   "metadata": {},
   "outputs": [
    {
     "name": "stdout",
     "output_type": "stream",
     "text": [
      "0 h\n",
      "1 o\n",
      "2 b\n",
      "3 b\n",
      "4 y\n",
      "찾은 횟수: 2\n"
     ]
    }
   ],
   "source": [
    "a = \"hobby\"\n",
    "c = 0\n",
    "for idx, val in enumerate(a): #인덱스,값 in enumerate(집합)\n",
    "    print(idx,val)\n",
    "    if a[idx]==\"b\":\n",
    "        c+=1\n",
    "        \n",
    "print(\"찾은 횟수:\",c)"
   ]
  },
  {
   "cell_type": "code",
   "execution_count": null,
   "metadata": {},
   "outputs": [],
   "source": []
  },
  {
   "cell_type": "code",
   "execution_count": null,
   "metadata": {},
   "outputs": [],
   "source": []
  },
  {
   "cell_type": "code",
   "execution_count": 13,
   "metadata": {},
   "outputs": [
    {
     "name": "stdout",
     "output_type": "stream",
     "text": [
      "a,b,c,d\n"
     ]
    }
   ],
   "source": [
    "a = ',' #글자 중간에 삽입할 내용\n",
    "result = a.join('abcd')\n",
    "print(result)"
   ]
  },
  {
   "cell_type": "code",
   "execution_count": 15,
   "metadata": {},
   "outputs": [
    {
     "name": "stdout",
     "output_type": "stream",
     "text": [
      "HI\n",
      "hi\n",
      "Python program\n"
     ]
    }
   ],
   "source": [
    "a = 'hi'\n",
    "result = a.upper() #소문자를 대문자로\n",
    "print(result)\n",
    "a=\"HI\"\n",
    "result=a.lower() #대문자를 소문자로\n",
    "print(result)\n",
    "a=\"python program\"\n",
    "result=a.capitalize() #첫 글자를 대문자로\n",
    "print(result)"
   ]
  },
  {
   "cell_type": "code",
   "execution_count": 16,
   "metadata": {},
   "outputs": [
    {
     "name": "stdout",
     "output_type": "stream",
     "text": [
      "        hi        \n",
      "hi        \n",
      "        hi\n",
      "hi\n"
     ]
    }
   ],
   "source": [
    "a = \"        hi        \"\n",
    "print(a)\n",
    "result=a.lstrip() #left 좌측공백 제거\n",
    "print(result)\n",
    "result=a.rstrip() #right 우측공백 제거\n",
    "print(result)\n",
    "result=a.strip() #좌우 공백 제거\n",
    "print(result)"
   ]
  },
  {
   "cell_type": "code",
   "execution_count": 18,
   "metadata": {},
   "outputs": [
    {
     "name": "stdout",
     "output_type": "stream",
     "text": [
      "경력 개발자\n"
     ]
    }
   ],
   "source": [
    "a = \"신입 개발자\"\n",
    "result = a.replace(\"신입\",\"경력\") # replace*(A,B) A를 B로 변경\n",
    "print(result)"
   ]
  },
  {
   "cell_type": "code",
   "execution_count": 21,
   "metadata": {},
   "outputs": [
    {
     "name": "stdout",
     "output_type": "stream",
     "text": [
      "['a', 'b', 'c', 'd']\n"
     ]
    }
   ],
   "source": [
    "a=\"a:b:c:d\"\n",
    "result=a.split(\":\") #구분자를 기준으로 쪼개어 리스트로 저장\n",
    "print(result)"
   ]
  },
  {
   "cell_type": "code",
   "execution_count": 23,
   "metadata": {},
   "outputs": [
    {
     "name": "stdout",
     "output_type": "stream",
     "text": [
      "['김철호', '30', '170']\n"
     ]
    }
   ],
   "source": [
    "a=\"김철호,30,170\"\n",
    "result=a.split(\",\") \n",
    "print(result)"
   ]
  },
  {
   "cell_type": "code",
   "execution_count": null,
   "metadata": {},
   "outputs": [],
   "source": []
  },
  {
   "cell_type": "code",
   "execution_count": null,
   "metadata": {},
   "outputs": [],
   "source": []
  },
  {
   "cell_type": "code",
   "execution_count": null,
   "metadata": {},
   "outputs": [],
   "source": []
  },
  {
   "cell_type": "code",
   "execution_count": null,
   "metadata": {},
   "outputs": [],
   "source": []
  },
  {
   "cell_type": "code",
   "execution_count": null,
   "metadata": {},
   "outputs": [],
   "source": []
  },
  {
   "cell_type": "code",
   "execution_count": null,
   "metadata": {},
   "outputs": [],
   "source": []
  },
  {
   "cell_type": "code",
   "execution_count": null,
   "metadata": {},
   "outputs": [],
   "source": []
  },
  {
   "cell_type": "code",
   "execution_count": null,
   "metadata": {},
   "outputs": [],
   "source": []
  },
  {
   "cell_type": "code",
   "execution_count": null,
   "metadata": {},
   "outputs": [],
   "source": []
  },
  {
   "cell_type": "code",
   "execution_count": null,
   "metadata": {},
   "outputs": [],
   "source": []
  },
  {
   "cell_type": "code",
   "execution_count": null,
   "metadata": {},
   "outputs": [],
   "source": []
  },
  {
   "cell_type": "code",
   "execution_count": null,
   "metadata": {},
   "outputs": [],
   "source": []
  },
  {
   "cell_type": "code",
   "execution_count": null,
   "metadata": {},
   "outputs": [],
   "source": []
  },
  {
   "cell_type": "code",
   "execution_count": null,
   "metadata": {},
   "outputs": [],
   "source": []
  },
  {
   "cell_type": "code",
   "execution_count": null,
   "metadata": {},
   "outputs": [],
   "source": []
  },
  {
   "cell_type": "code",
   "execution_count": null,
   "metadata": {},
   "outputs": [],
   "source": []
  },
  {
   "cell_type": "code",
   "execution_count": null,
   "metadata": {},
   "outputs": [],
   "source": []
  },
  {
   "cell_type": "code",
   "execution_count": null,
   "metadata": {},
   "outputs": [],
   "source": []
  },
  {
   "cell_type": "code",
   "execution_count": null,
   "metadata": {},
   "outputs": [],
   "source": []
  },
  {
   "cell_type": "code",
   "execution_count": null,
   "metadata": {},
   "outputs": [],
   "source": []
  },
  {
   "cell_type": "code",
   "execution_count": null,
   "metadata": {},
   "outputs": [],
   "source": []
  },
  {
   "cell_type": "code",
   "execution_count": null,
   "metadata": {},
   "outputs": [],
   "source": []
  },
  {
   "cell_type": "code",
   "execution_count": null,
   "metadata": {},
   "outputs": [],
   "source": []
  },
  {
   "cell_type": "code",
   "execution_count": null,
   "metadata": {},
   "outputs": [],
   "source": []
  },
  {
   "cell_type": "code",
   "execution_count": null,
   "metadata": {},
   "outputs": [],
   "source": []
  },
  {
   "cell_type": "code",
   "execution_count": null,
   "metadata": {},
   "outputs": [],
   "source": []
  },
  {
   "cell_type": "code",
   "execution_count": null,
   "metadata": {},
   "outputs": [],
   "source": []
  },
  {
   "cell_type": "code",
   "execution_count": null,
   "metadata": {},
   "outputs": [],
   "source": []
  },
  {
   "cell_type": "code",
   "execution_count": null,
   "metadata": {},
   "outputs": [],
   "source": []
  },
  {
   "cell_type": "code",
   "execution_count": null,
   "metadata": {},
   "outputs": [],
   "source": []
  },
  {
   "cell_type": "code",
   "execution_count": null,
   "metadata": {},
   "outputs": [],
   "source": []
  },
  {
   "cell_type": "code",
   "execution_count": null,
   "metadata": {},
   "outputs": [],
   "source": []
  },
  {
   "cell_type": "code",
   "execution_count": null,
   "metadata": {},
   "outputs": [],
   "source": []
  },
  {
   "cell_type": "code",
   "execution_count": null,
   "metadata": {},
   "outputs": [],
   "source": []
  },
  {
   "cell_type": "code",
   "execution_count": null,
   "metadata": {},
   "outputs": [],
   "source": []
  },
  {
   "cell_type": "code",
   "execution_count": null,
   "metadata": {},
   "outputs": [],
   "source": []
  },
  {
   "cell_type": "code",
   "execution_count": null,
   "metadata": {},
   "outputs": [],
   "source": []
  },
  {
   "cell_type": "code",
   "execution_count": null,
   "metadata": {},
   "outputs": [],
   "source": []
  },
  {
   "cell_type": "code",
   "execution_count": null,
   "metadata": {},
   "outputs": [],
   "source": []
  },
  {
   "cell_type": "code",
   "execution_count": null,
   "metadata": {},
   "outputs": [],
   "source": []
  },
  {
   "cell_type": "code",
   "execution_count": null,
   "metadata": {},
   "outputs": [],
   "source": []
  },
  {
   "cell_type": "code",
   "execution_count": null,
   "metadata": {},
   "outputs": [],
   "source": []
  },
  {
   "cell_type": "code",
   "execution_count": null,
   "metadata": {},
   "outputs": [],
   "source": []
  },
  {
   "cell_type": "code",
   "execution_count": null,
   "metadata": {},
   "outputs": [],
   "source": []
  },
  {
   "cell_type": "code",
   "execution_count": null,
   "metadata": {},
   "outputs": [],
   "source": []
  },
  {
   "cell_type": "code",
   "execution_count": null,
   "metadata": {},
   "outputs": [],
   "source": []
  }
 ],
 "metadata": {
  "celltoolbar": "Edit Metadata",
  "kernelspec": {
   "display_name": "Python 3",
   "language": "python",
   "name": "python3"
  },
  "language_info": {
   "codemirror_mode": {
    "name": "ipython",
    "version": 3
   },
   "file_extension": ".py",
   "mimetype": "text/x-python",
   "name": "python",
   "nbconvert_exporter": "python",
   "pygments_lexer": "ipython3",
   "version": "3.7.4"
  }
 },
 "nbformat": 4,
 "nbformat_minor": 2
}
