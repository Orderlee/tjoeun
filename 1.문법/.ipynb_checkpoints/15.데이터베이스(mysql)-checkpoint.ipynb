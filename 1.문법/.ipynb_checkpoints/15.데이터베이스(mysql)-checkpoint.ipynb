{
 "cells": [
  {
   "cell_type": "code",
   "execution_count": null,
   "metadata": {},
   "outputs": [],
   "source": [
    "#mysql과 연동하기 위한 모듈 로딩\n",
    "import MySQLdb\n"
   ]
  },
  {
   "cell_type": "code",
   "execution_count": 1,
   "metadata": {},
   "outputs": [
    {
     "name": "stdout",
     "output_type": "stream",
     "text": [
      "['A', '001-1001', '2341', '500000', '2014-01-20']\n",
      "['A', '001-1001', '2341', '500000', '2014-01-20']\n",
      "['A', '001-1001', '5467', '750000', '2014-01-20']\n",
      "['A', '001-1001', '5467', '750000', '2014-01-20']\n",
      "['B', '50-9501', '7009', '250000', '2018-01-30']\n",
      "['B', '50-9501', '7009', '250000', '2018-01-30']\n",
      "['B', '50-9505', '6650', '125000', '2017-02-03']\n",
      "['B', '50-9505', '6650', '125000', '2017-02-03']\n",
      "['C', '920-4803', '3321', '615000', '2017-02-03']\n",
      "['C', '920-4804', '3321', '615000', '2017-02-10']\n",
      "['C', '920-4805', '3321', '615000', '2017-02-17']\n",
      "['C', '920-4806', '3321', '615000', '2017-02-24']\n"
     ]
    }
   ],
   "source": [
    "import csv\n",
    "import MySQLdb\n",
    "from datetime import datetime, date\n",
    "\n",
    "input_file = 'd:/data/db/input.csv' #데이터 파일 경로\n",
    "#mysql에 접속\n",
    "conn = MySQLdb.connect(host='localhost', port=3306, db='my_suppliers',user='web',\n",
    "                      passwd='1234',charset='utf8') #한글 사용하기위해 utf8 지정\n",
    "\n",
    "#커서 생성(레코드를 탐색하는 객체)\n",
    "cursor = conn.cursor()\n",
    "\n",
    "#suppliers 테이블의 모든 레코드를 삭제함\n",
    "sql='delete from suppliers'\n",
    "cursor.execute(sql)\n",
    "conn.commit()\n",
    "\n",
    "# csv 모듈 reader() 함수를 이용하여 csv 파일을 불러옴\n",
    "file_reader=csv.reader(open(input_file,'r'))\n",
    "#다음행으로 이동(첫행은 제목이므로 건너뜀)\n",
    "header=next(file_reader)\n",
    "for row in file_reader:\n",
    "    #print(row)\n",
    "    data=[]\n",
    "    for idx in range(len(header)):\n",
    "        if idx<4: #마지막 필드가 아닌 경우 : 컴머를 지우고 좌우 공백 제거\n",
    "            data.append(str(row[idx]).replace(',','').strip())\n",
    "        else: #마지막 필드의 경우: 날짜 처리\n",
    "            a_date=datetime.date(datetime.strptime(str(row[idx]),'%Y-%m-%d'))\n",
    "            a_date=a_date.strftime('%Y-%m-%d')\n",
    "            data.append(a_date)\n",
    "    print(data)\n",
    "    #레코드가 저장됨\n",
    "    cursor.execute('insert into suppliers values (%s,%s,%s,%s,%s)',data)\n",
    "#커밋(변경사항을 db에 확정함)\n",
    "conn.commit()                       "
   ]
  },
  {
   "cell_type": "code",
   "execution_count": 10,
   "metadata": {},
   "outputs": [
    {
     "name": "stdout",
     "output_type": "stream",
     "text": [
      "['A', '001-1001', '2341', '500000.0', '2014-01-20']\n",
      "['A', '001-1001', '2341', '500000.0', '2014-01-20']\n",
      "['A', '001-1001', '5467', '750000.0', '2014-01-20']\n",
      "['A', '001-1001', '5467', '750000.0', '2014-01-20']\n",
      "['B', '50-9501', '7009', '250000.0', '2018-01-30']\n",
      "['B', '50-9501', '7009', '250000.0', '2018-01-30']\n",
      "['B', '50-9505', '6650', '125000.0', '2017-02-03']\n",
      "['B', '50-9505', '6650', '125000.0', '2017-02-03']\n",
      "['C', '920-4803', '3321', '615000.0', '2017-02-03']\n",
      "['C', '920-4804', '3321', '615000.0', '2017-02-10']\n",
      "['C', '920-4805', '3321', '615000.0', '2017-02-17']\n",
      "['C', '920-4806', '3321', '615000.0', '2017-02-24']\n"
     ]
    }
   ],
   "source": [
    "#mysql 테이블의 내용을 화면에 출력\n",
    "\n",
    "#sql 명령어를 실행시킴\n",
    "cursor.execute('select * from suppliers')\n",
    "#모든 레코드를 읽어서 rows 튜플에 저장\n",
    "rows=cursor.fetchall()\n",
    "# print(type(rows),row)\n",
    "for row in rows:\n",
    "    output=[] #1개의 레코드를 저장하는 리스트\n",
    "    for idx in range(len(row)):\n",
    "        output.append(str(row[idx]))\n",
    "    print (output)\n",
    "     "
   ]
  },
  {
   "cell_type": "code",
   "execution_count": 11,
   "metadata": {},
   "outputs": [
    {
     "name": "stdout",
     "output_type": "stream",
     "text": [
      "['A', '001-1001', '5467', '750000.0', '2014-01-20']\n",
      "['A', '001-1001', '5467', '750000.0', '2014-01-20']\n",
      "['C', '920-4803', '3321', '615000.0', '2017-02-03']\n",
      "['C', '920-4804', '3321', '615000.0', '2017-02-10']\n",
      "['C', '920-4805', '3321', '615000.0', '2017-02-17']\n",
      "['C', '920-4806', '3321', '615000.0', '2017-02-24']\n"
     ]
    }
   ],
   "source": [
    "#cost가 500000 이상인 레코드만 출력\n",
    "\n",
    "cursor.execute('select * from suppliers where cost>500000')\n",
    "rows=cursor.fetchall()\n",
    "for row in rows:\n",
    "    output=[] \n",
    "    for idx in range(len(row)):\n",
    "        output.append(str(row[idx]))\n",
    "    print (output)     "
   ]
  },
  {
   "cell_type": "code",
   "execution_count": 12,
   "metadata": {},
   "outputs": [
    {
     "name": "stdout",
     "output_type": "stream",
     "text": [
      "저장되었습니다.\n"
     ]
    }
   ],
   "source": [
    "#cost가 50만 이상인 자료를 csv 파일에 저장\n",
    "output_file='d:/data/db/mysql_output.csv'\n",
    "# writer(): csv파일에 저장하는 함수\n",
    "# newline='' 줄바꿈을 무시함\n",
    "filewriter=csv.writer(open(output_file,'w',newline=''))\n",
    "header=['제조사','송장번호','부품번호','단가','날짜']\n",
    "# 파일에 헤더를 기록\n",
    "filewriter.writerow(header)\n",
    "# sql 명령어 실행\n",
    "cursor.execute('select * from suppliers where cost>500000')\n",
    "#메모리에 저장된 2차원 테이블을 2차원 튜플 형식으로 읽어옴\n",
    "for row in rows:\n",
    "    #레코드마다 파일에 기록함\n",
    "    filewriter.writerow(row)\n",
    "    \n",
    "print('저장되었습니다.')"
   ]
  },
  {
   "cell_type": "markdown",
   "metadata": {},
   "source": [
    "### 퀴즈"
   ]
  },
  {
   "cell_type": "code",
   "execution_count": 29,
   "metadata": {},
   "outputs": [
    {
     "name": "stdout",
     "output_type": "stream",
     "text": [
      "['김철수', '88', '80', '99']\n",
      "['원유리', '99', '88', '100']\n",
      "['한동숙', '100', '30', '70']\n",
      "['전상빈', '100', '80', '70']\n"
     ]
    }
   ],
   "source": [
    "import csv\n",
    "import MySQLdb\n",
    "\n",
    "input_file = 'd:/data/point/point.csv'\n",
    "conn = MySQLdb.connect(host='localhost',port=3306,db='my_suppliers',user='web',\n",
    "                      passwd='1234',charset='utf8')\n",
    "cursor = conn.cursor()\n",
    "\n",
    "sql='delete from point'\n",
    "cursor.execute(sql)\n",
    "conn.commit()\n",
    "\n",
    "file_reader=csv.reader(open(input_file,'r'))\n",
    "header = next(file_reader)\n",
    "for row in file_reader:\n",
    "    data=[]\n",
    "    for idx in range(len(header)):\n",
    "        if idx<4:\n",
    "            data.append(str(row[idx]).replace(',','').strip())\n",
    "        else:\n",
    "            break\n",
    "    print(data)\n",
    "    cursor.execute('insert into point (name,kor,eng,mat) values (%s,%s,%s,%s)',data)\n",
    "conn.commit()   "
   ]
  },
  {
   "cell_type": "code",
   "execution_count": 32,
   "metadata": {},
   "outputs": [
    {
     "name": "stdout",
     "output_type": "stream",
     "text": [
      "저장되었습니다.\n"
     ]
    }
   ],
   "source": [
    "output_file = 'd:/data/point/mysql_result.csv'\n",
    "filewriter=csv.writer(open(output_file,'w',newline=''))\n",
    "header=['이름','국어','영어','수학','총점','평균']\n",
    "filewriter.writerow(header)\n",
    "cursor.execute('SELECT name,kor,eng,mat,kor+eng+mat total,round((kor+eng+mat)/3 ,1) average FROM POINT')\n",
    "rows=cursor.fetchall()\n",
    "for row in rows:\n",
    "    filewriter.writerow(row)\n",
    "print('저장되었습니다.')"
   ]
  },
  {
   "cell_type": "code",
   "execution_count": null,
   "metadata": {},
   "outputs": [],
   "source": []
  },
  {
   "cell_type": "code",
   "execution_count": null,
   "metadata": {},
   "outputs": [],
   "source": []
  },
  {
   "cell_type": "code",
   "execution_count": null,
   "metadata": {},
   "outputs": [],
   "source": []
  },
  {
   "cell_type": "code",
   "execution_count": null,
   "metadata": {},
   "outputs": [],
   "source": []
  },
  {
   "cell_type": "code",
   "execution_count": null,
   "metadata": {},
   "outputs": [],
   "source": []
  },
  {
   "cell_type": "code",
   "execution_count": null,
   "metadata": {},
   "outputs": [],
   "source": []
  },
  {
   "cell_type": "code",
   "execution_count": null,
   "metadata": {},
   "outputs": [],
   "source": []
  },
  {
   "cell_type": "code",
   "execution_count": null,
   "metadata": {},
   "outputs": [],
   "source": []
  },
  {
   "cell_type": "code",
   "execution_count": null,
   "metadata": {},
   "outputs": [],
   "source": []
  },
  {
   "cell_type": "code",
   "execution_count": null,
   "metadata": {},
   "outputs": [],
   "source": []
  },
  {
   "cell_type": "code",
   "execution_count": null,
   "metadata": {},
   "outputs": [],
   "source": []
  },
  {
   "cell_type": "code",
   "execution_count": null,
   "metadata": {},
   "outputs": [],
   "source": []
  },
  {
   "cell_type": "code",
   "execution_count": null,
   "metadata": {},
   "outputs": [],
   "source": []
  },
  {
   "cell_type": "code",
   "execution_count": null,
   "metadata": {},
   "outputs": [],
   "source": []
  },
  {
   "cell_type": "code",
   "execution_count": null,
   "metadata": {},
   "outputs": [],
   "source": []
  },
  {
   "cell_type": "code",
   "execution_count": null,
   "metadata": {},
   "outputs": [],
   "source": []
  },
  {
   "cell_type": "code",
   "execution_count": null,
   "metadata": {},
   "outputs": [],
   "source": []
  }
 ],
 "metadata": {
  "kernelspec": {
   "display_name": "Python 3",
   "language": "python",
   "name": "python3"
  },
  "language_info": {
   "codemirror_mode": {
    "name": "ipython",
    "version": 3
   },
   "file_extension": ".py",
   "mimetype": "text/x-python",
   "name": "python",
   "nbconvert_exporter": "python",
   "pygments_lexer": "ipython3",
   "version": "3.7.4"
  }
 },
 "nbformat": 4,
 "nbformat_minor": 2
}
