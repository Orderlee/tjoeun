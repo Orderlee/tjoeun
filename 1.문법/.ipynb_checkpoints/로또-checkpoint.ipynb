{
 "cells": [
  {
   "cell_type": "code",
   "execution_count": 4,
   "metadata": {},
   "outputs": [
    {
     "name": "stdout",
     "output_type": "stream",
     "text": [
      "[6, 13, 15]\n"
     ]
    }
   ],
   "source": [
    "import random\n",
    "\n",
    "LottoNumber = sorted(random.sample(range(1,16),3))\n",
    "print(LottoNumber)"
   ]
  },
  {
   "cell_type": "code",
   "execution_count": null,
   "metadata": {},
   "outputs": [],
   "source": [
    "import random\n",
    "def LottoChoice():\n",
    "    for i in range(int(input(\"부자가 되고싶니?\"))):\n",
    "        while True:\n",
    "            LottoNumber = sorted(random.sample(range(1,46),6))\n",
    "        break\n",
    "        \n",
    "LottoChoice()"
   ]
  },
  {
   "cell_type": "code",
   "execution_count": 2,
   "metadata": {},
   "outputs": [
    {
     "name": "stdout",
     "output_type": "stream",
     "text": [
      "[13, 23, 26, 30, 34, 40]\n"
     ]
    }
   ],
   "source": [
    "import random\n",
    "\n",
    "LottoNumber = sorted(random.sample(range(1,46),6))\n",
    "print(LottoNumber)"
   ]
  },
  {
   "cell_type": "code",
   "execution_count": null,
   "metadata": {},
   "outputs": [],
   "source": []
  }
 ],
 "metadata": {
  "kernelspec": {
   "display_name": "Python 3",
   "language": "python",
   "name": "python3"
  },
  "language_info": {
   "codemirror_mode": {
    "name": "ipython",
    "version": 3
   },
   "file_extension": ".py",
   "mimetype": "text/x-python",
   "name": "python",
   "nbconvert_exporter": "python",
   "pygments_lexer": "ipython3",
   "version": "3.7.4"
  }
 },
 "nbformat": 4,
 "nbformat_minor": 2
}
