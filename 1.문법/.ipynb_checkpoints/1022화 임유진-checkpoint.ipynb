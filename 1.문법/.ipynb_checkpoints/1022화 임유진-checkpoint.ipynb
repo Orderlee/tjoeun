{
 "cells": [
  {
   "cell_type": "code",
   "execution_count": 1,
   "metadata": {},
   "outputs": [],
   "source": [
    "# 인터프리터: 한줄 읽고 한줄 실행\n",
    "# 컴파일러: 전체를 읽고 한꺼번에 실행, 빠르다. "
   ]
  },
  {
   "cell_type": "code",
   "execution_count": 2,
   "metadata": {},
   "outputs": [
    {
     "name": "stdout",
     "output_type": "stream",
     "text": [
      "<class 'int'>\n",
      "<class 'float'>\n",
      "<class 'str'>\n"
     ]
    }
   ],
   "source": [
    "print(type(10))\n",
    "print(type(10.5))\n",
    "print(type('hello'))   # type은 자료형을 출력하는 함수"
   ]
  },
  {
   "cell_type": "code",
   "execution_count": 3,
   "metadata": {},
   "outputs": [
    {
     "name": "stdout",
     "output_type": "stream",
     "text": [
      "<class 'bool'>\n",
      "False\n",
      "False\n",
      "True\n"
     ]
    }
   ],
   "source": [
    "#논리형\n",
    "hungry=True\n",
    "sleepy=False\n",
    "print(type(hungry)) # 논리형은 bool이라고 한당\n",
    "print(not hungry) # 논리부정\n",
    "print(hungry and sleepy) # A and B 는 A와B 모두 True 일때만 True!\n",
    "print(hungry or sleepy) # A or B 는 A,B 중 한 개 이상이 True면 True!"
   ]
  },
  {
   "cell_type": "code",
   "execution_count": 20,
   "metadata": {},
   "outputs": [
    {
     "name": "stdout",
     "output_type": "stream",
     "text": [
      "False\n",
      "False\n"
     ]
    }
   ],
   "source": [
    "love=True\n",
    "fuck=False\n",
    "print(not love)\n",
    "print(love and fuck)"
   ]
  },
  {
   "cell_type": "code",
   "execution_count": 91,
   "metadata": {},
   "outputs": [
    {
     "name": "stdout",
     "output_type": "stream",
     "text": [
      "<class 'str'>\n",
      "<class 'bool'>\n"
     ]
    }
   ],
   "source": [
    "a='True' #그냥 문자임\n",
    "b=True #참 이라는 것을 의미하는 언어가됨\n",
    "print(type(a))\n",
    "print(type(b))"
   ]
  },
  {
   "cell_type": "code",
   "execution_count": 93,
   "metadata": {},
   "outputs": [
    {
     "name": "stdout",
     "output_type": "stream",
     "text": [
      "False\n"
     ]
    }
   ],
   "source": [
    "a=10\n",
    "b=20\n",
    "print(a==b) # =은 대입, ==은 같다 여부를 묻는것임!"
   ]
  },
  {
   "cell_type": "code",
   "execution_count": 6,
   "metadata": {},
   "outputs": [
    {
     "name": "stdout",
     "output_type": "stream",
     "text": [
      "False\n"
     ]
    }
   ],
   "source": [
    "a=20\n",
    "b=20\n",
    "print(a!=b) # a와b는 같지않다"
   ]
  },
  {
   "cell_type": "code",
   "execution_count": 101,
   "metadata": {},
   "outputs": [
    {
     "name": "stdout",
     "output_type": "stream",
     "text": [
      "ok\n"
     ]
    }
   ],
   "source": [
    "a=1\n",
    "b=3\n",
    "if a==1 and b==3: # if 뭐시기 :  은 조건식, 조건식이 true이면 실행된다\n",
    "    print('ok')"
   ]
  },
  {
   "cell_type": "code",
   "execution_count": 107,
   "metadata": {
    "scrolled": true
   },
   "outputs": [
    {
     "name": "stdout",
     "output_type": "stream",
     "text": [
      "Hello\n",
      "Python\n",
      "     \n",
      "Hello\n",
      "   Python\n",
      "      world\n",
      "\n",
      "pretty\n",
      "love\n",
      "yoojin\n",
      "yoojin\n",
      "\n",
      "i love you\n",
      "   so much \n",
      "       babebabeabe~~~~\n",
      "       codingcoding wow!!!!!\n",
      "\n"
     ]
    }
   ],
   "source": [
    "multiline='Hello\\nPython'    # \\n 는 줄을 바꾸라는 명령임(엔터역할)\n",
    "print(multiline)\n",
    "# 또는 따옴표 3개 안에 쓰면 그모습 그대로 출력된다\n",
    "multiline='''     \n",
    "Hello\n",
    "   Python\n",
    "      world\n",
    "'''\n",
    "print(multiline)\n",
    "\n",
    "a='pretty\\nlove\\nyoojin\\nyoojin'\n",
    "print(a)\n",
    "\n",
    "painting='''\n",
    "i love you\n",
    "   so much \n",
    "       babebabeabe~~~~\n",
    "       codingcoding wow!!!!!\n",
    "'''\n",
    "print(painting)"
   ]
  },
  {
   "cell_type": "code",
   "execution_count": 108,
   "metadata": {},
   "outputs": [
    {
     "name": "stdout",
     "output_type": "stream",
     "text": [
      "파이썬은 재미있다.\n"
     ]
    }
   ],
   "source": [
    "head='파이썬은 '\n",
    "tail='재미있다.'\n",
    "print(head+tail) #문자+문자는 문자열을 연결해준당"
   ]
  },
  {
   "cell_type": "code",
   "execution_count": 114,
   "metadata": {},
   "outputs": [
    {
     "name": "stdout",
     "output_type": "stream",
     "text": [
      "이름: 김철수, 나이: 20\n",
      "name:Yoojin Im , age:30\n",
      "Yoojin Im 30\n"
     ]
    }
   ],
   "source": [
    "name='김철수'\n",
    "age=20\n",
    "# print(\"이름: \"+name+ \", 나이:\" + age)  #문자열+숫자는 에러발생ㅠㅠ\n",
    "print(\"이름: \" + name + \", 나이: \" + str(age))  #문자열+str(숫자)로 써야함!\n",
    "\n",
    "\n",
    "name='Yoojin Im '\n",
    "age=30\n",
    "print('name:' + name + ', age:' + str(age))\n",
    "print(name+str(age))"
   ]
  },
  {
   "cell_type": "code",
   "execution_count": 135,
   "metadata": {},
   "outputs": [
    {
     "name": "stdout",
     "output_type": "stream",
     "text": [
      "파이썬 파이썬 \n",
      "파이썬 파이썬 파이썬 \n",
      "==================================================\n",
      "My Program\n",
      "==================================================\n",
      "               ♥♥♥♥♥♥♥♥♥♥♥♥♥♥♥♥♥♥♥♥               \n",
      "                    ♥♥♥♥♥♥♥♥♥♥                    \n",
      "                      ♥♥♥♥♥                       \n"
     ]
    }
   ],
   "source": [
    "a='파이썬 '\n",
    "print(a*2) #문자열*숫자 하면 문자열 내용이 숫자만큼 반복된다\n",
    "print(a*3)\n",
    "\n",
    "print('=' * 50)\n",
    "print('My Program')\n",
    "print('=' * 50)\n",
    "\n",
    "\n",
    "a='♥'*20\n",
    "a='{0:^50}'   .format(a)  #가운데정렬\n",
    "print(a)\n",
    "a='♥'*10\n",
    "a='{0:^50}'   .format(a)  \n",
    "print(a)\n",
    "a='♥'*5\n",
    "a='{0:^50}'   .format(a)  \n",
    "print(a)"
   ]
  },
  {
   "cell_type": "code",
   "execution_count": 132,
   "metadata": {},
   "outputs": [
    {
     "name": "stdout",
     "output_type": "stream",
     "text": [
      "<class 'range'>\n",
      "range(0, 10)\n"
     ]
    }
   ],
   "source": [
    "a=range(10) # 0~9 요 숫자 미만으로 나옴\n",
    "print(type(a)) # range는 자료형이예요\n",
    "print(a) # 걍 범위만 나옴. 실제값 보고싶으면 list 함수 병행!"
   ]
  },
  {
   "cell_type": "code",
   "execution_count": null,
   "metadata": {},
   "outputs": [],
   "source": [
    "a=list(range(10))  #range 함수의 결과값을 리스트로 저장\n",
    "print(type(a)) # 리스트자료형\n",
    "print(a)"
   ]
  },
  {
   "cell_type": "code",
   "execution_count": null,
   "metadata": {},
   "outputs": [],
   "source": [
    "a=list(range(10,20))\n",
    "print(a)\n",
    "\n",
    "a=list(range(10,20,2))  # range(시작숫자,마지막숫자+1,숫자간격)\n",
    "print(a)"
   ]
  },
  {
   "cell_type": "code",
   "execution_count": null,
   "metadata": {},
   "outputs": [],
   "source": [
    "for i in range(1,51) :     # 1~50\n",
    "    print('=', end='')  # end=''  줄바꿈 대신 공백이 출력됨, 즉 줄바꿈이 사라짐."
   ]
  },
  {
   "cell_type": "code",
   "execution_count": null,
   "metadata": {},
   "outputs": [],
   "source": [
    "a=[1,2,3,4,5]\n",
    "print(type(a))  # 요것도 자료형이구나\n",
    "print(a)\n",
    "\n",
    "print(a[0])   # a라는 리스트의 첫번째 값을 출력. 0부터 시작한다는걸 주의한다!!!\n",
    "print(a[1])\n",
    "print(a[2])\n",
    "print(a[3])   # a라는 리스트의 4번째 값을 출력, 이런걸 인덱싱이라 한다!\n",
    "print(a[4])\n",
    "\n",
    "for i in a :   # 위방법이 귀찮으니까 간략화한 방법임!\n",
    "    print(i)\n",
    "    \n",
    "for i in a :\n",
    "    print(i, end=' ')  # end=' ' 쓰면 줄바꿈 대신 한칸띄어쓰기로 출력됨"
   ]
  },
  {
   "cell_type": "code",
   "execution_count": null,
   "metadata": {},
   "outputs": [],
   "source": [
    "a=list(range(1,11))\n",
    "print(a)\n",
    "\n",
    "print(a[9])\n",
    "print(a[:]) # 처음부터 끝까지\n",
    "print(a[:4]) # 처음(인덱스0)부터 4번째(인덱스3) 숫자까지\n",
    "print(a[5:]) # 6번째(인덱스5) 숫자부터 끝까지\n",
    "print(a[0:9:2]) # 첫번째부터 10번째(인덱스9)까지 2간격으로\n",
    "print(a[-1]) # 마지막에서 첫번째숫자\n",
    "print(a[4:-1]) # 5번째부터 마지막에서 첫번째숫자 미만까지!!!"
   ]
  },
  {
   "cell_type": "code",
   "execution_count": null,
   "metadata": {},
   "outputs": [],
   "source": [
    "a='Life is too short'  \n",
    "print(a)\n",
    "print(a[3]) # 4번째(인덱스3번)글자 출력\n",
    "print(a[-2]) # 끝에서 두번째 글자 출력\n",
    "print(a[0:4]) # 인덱스 0,1,2,3번 (0이상 4미만) 글자 출력\n",
    "print(a[5:]) # 인덱스5번 부터 끝까지 출력\n",
    "print(a[:]) # 첨부터 끝까지 출력"
   ]
  },
  {
   "cell_type": "code",
   "execution_count": null,
   "metadata": {},
   "outputs": [],
   "source": [
    "a=[10, 50.2, True, 'Kim', 'Hong'] # 리스트의 요소는 다양한 자료형 사용 가능\n",
    "print(a)"
   ]
  },
  {
   "cell_type": "code",
   "execution_count": null,
   "metadata": {},
   "outputs": [],
   "source": [
    "a='Hello world'\n",
    "print(a)\n",
    "print('world' in a) # 'b' in a -> a 문자열 내 문자열 b가 포함되어 있으면 True\n",
    "print('world' not in a) # 'b' not in a -> a 문자열 내 b가 포함되어 있지 않으면 True\n",
    "print('World' in a) # 대소문자도 인식함!\n",
    "print('worl d' in a) # 띄어쓰기도 인식함!"
   ]
  },
  {
   "cell_type": "code",
   "execution_count": null,
   "metadata": {},
   "outputs": [],
   "source": [
    "a=[10,20,30,40,50]\n",
    "print(a)\n",
    "print(20 in a)\n",
    "print(25 in a)\n",
    "print(20 not in a)"
   ]
  },
  {
   "cell_type": "code",
   "execution_count": null,
   "metadata": {},
   "outputs": [],
   "source": [
    "# 위방법을 다른 알고리듬으로 해보자\n",
    "a=[10,20,30,40,50]\n",
    "n=20 # 찾는값\n",
    "flag=False #상태변수\n",
    "\n",
    "for i in a:\n",
    "    if i==n: # i는 a리스트의 요소이고, i가 찾는값과 같으면,\n",
    "        flag=True #상태변수를 True로 변경하고,\n",
    "        break #반복문을 종료함 (if보다 들여쓸것!)\n",
    "        \n",
    "if flag: #조건식이 True이면\n",
    "       print(n,'을 찾았습니다.')    \n",
    "else: #조건식이 True가 아니면(즉 계속 False이면)\n",
    "    print(n,'을 찾지 못했습니다.')"
   ]
  },
  {
   "cell_type": "code",
   "execution_count": null,
   "metadata": {},
   "outputs": [],
   "source": [
    "a=[10,20,30,40,50]\n",
    "for i in a:\n",
    "    print (i,end=' ')\n",
    "print() #줄바꿈 위해서 넣은것.\n",
    "for i in a:\n",
    "    print(i,end=' ')\n",
    "    if i==20:\n",
    "        break # i가 20이면 반복문을 종료함.(if보다 들여쓸것!) 인덱스1번부터 검토해서 10, 20이 나온것임."
   ]
  },
  {
   "cell_type": "code",
   "execution_count": null,
   "metadata": {},
   "outputs": [],
   "source": [
    "a=[10,20,30,40,50]\n",
    "print(a)\n",
    "print(a[1])\n",
    "a[1]=200  # a리스트의 인덱스1번을 200으로 바꿈\n",
    "print(a[1])\n",
    "print(a)"
   ]
  },
  {
   "cell_type": "code",
   "execution_count": null,
   "metadata": {},
   "outputs": [],
   "source": [
    "# %s 스트링형식, %d 정수, %f 실수  (%소문자로 작성)\n",
    "age=20\n",
    "name='김철수'\n",
    "\n",
    "print('당신의 나이는 %s세 입니다.' % age)    # '문자열' % 출력할값\n",
    "print('당신의 나이는',age,'세 입니다.')\n",
    "print('당신의 나이는 %.f세 입니다.' % age) \n",
    "print('당신의 나이는 %.2f세 입니다.' % age)   # .2f 소숫점 둘째자리까지 표기\n",
    "\n",
    "print(name,'님의 나이는',age,'세 입니다.')\n",
    "print('%s님의 나이는 %d세 입니다.' %(name, age))"
   ]
  },
  {
   "cell_type": "code",
   "execution_count": null,
   "metadata": {},
   "outputs": [],
   "source": [
    "age=20\n",
    "name='김철수'\n",
    "print('당신의 나이는 {0}세 입니다.' .format(age))  # '문자열' .format(출력할값)\n",
    "print('{0}님의 나이는 {1}세 입니다.' .format(name, age))"
   ]
  },
  {
   "cell_type": "code",
   "execution_count": null,
   "metadata": {},
   "outputs": [],
   "source": [
    "fruit='사과'\n",
    "print(\"나는 %s를 좋아합니다.\" %fruit)\n",
    "print('나는 {}를 좋아합니다.' .format(fruit)) "
   ]
  },
  {
   "cell_type": "code",
   "execution_count": null,
   "metadata": {},
   "outputs": [],
   "source": [
    "# {}안에 변수 인덱스번호를 안적으면 순서대로 나옴. \n",
    "\n",
    "product='벼'\n",
    "season='가을'\n",
    "person='농부'\n",
    "print('{}는 {}에 {}를 추수합니다' .format(product, season, person))\n",
    "print('{}는 {}에 {}를 추수합니다' .format(person, season, product))\n",
    "print('{2}는 {1}에 {0}를 추수합니다' .format(product, season, person))"
   ]
  },
  {
   "cell_type": "code",
   "execution_count": 31,
   "metadata": {},
   "outputs": [
    {
     "name": "stdout",
     "output_type": "stream",
     "text": [
      "정확도: 98\n",
      "정확도: 98.000000\n",
      "정확도: 98%\n",
      "\n",
      "원주율: 3.141590\n",
      "원주율: 3\n",
      "원주율:      3.142\n",
      "원주율:    3.14\n"
     ]
    }
   ],
   "source": [
    "rate=98\n",
    "print('정확도: %d' % rate)\n",
    "print('정확도: %f' % rate) \n",
    "print('정확도: %d%%' % rate)   # %d에 % 붙이고 싶으면 %%라고 쓴다.  \n",
    "print()\n",
    "point=3.14159\n",
    "print('원주율: %f' % point)    # %f는 소숫점이하 6자리가 기본임.\n",
    "print('원주율: %d' % point)\n",
    "print('원주율: %10.3f' % point) # %전체자리수.소수점이하자리수f -> 정수6자리+점+소수점세자리 총 10칸\n",
    "print('원주율: %7.2f' % point)"
   ]
  },
  {
   "cell_type": "code",
   "execution_count": 28,
   "metadata": {},
   "outputs": [
    {
     "name": "stdout",
     "output_type": "stream",
     "text": [
      "<class 'int'>\n",
      "금액: 1234567890\n",
      "<class 'str'>\n",
      "금액: 1,234,567,890\n"
     ]
    }
   ],
   "source": [
    "money=1234567890\n",
    "print(type(money))\n",
    "print('금액: %d' % money)\n",
    "\n",
    "\n",
    "money=format(money,',') # 요렇게 입력하면 알아서 세자리마다 콤마가 입력됨!\n",
    "print(type(money))     # format을 하고나면 스트링이 됨. \n",
    "print('금액: %s' % money) # 그래서 %d아니고 %s 라고 입력해야함.\n"
   ]
  },
  {
   "cell_type": "code",
   "execution_count": 33,
   "metadata": {},
   "outputs": [
    {
     "name": "stdout",
     "output_type": "stream",
     "text": [
      "원주율: 3.141593\n",
      "원주율: 3.1415926535897931159979634685441851615905761718750000000000000000000000000000000000000000000000000000\n"
     ]
    }
   ],
   "source": [
    "import math\n",
    "print('원주율: %f' % math.pi)  # 실수는 소숫점이하 6자리가 기본임.\n",
    "print('원주율: %.100f' % math.pi) # 어느정도 넘어서는 용량문제땜시 언어가 알아서 생략해버림ㅋㅋ"
   ]
  },
  {
   "cell_type": "code",
   "execution_count": 53,
   "metadata": {},
   "outputs": [
    {
     "name": "stdout",
     "output_type": "stream",
     "text": [
      "원주율:      3.14\n"
     ]
    }
   ],
   "source": [
    "import math\n",
    "a='원주율:'\n",
    "b=math.pi\n",
    "c='%s%10.2f' % (a,b) \n",
    "print(c)"
   ]
  },
  {
   "cell_type": "code",
   "execution_count": 46,
   "metadata": {},
   "outputs": [
    {
     "name": "stdout",
     "output_type": "stream",
     "text": [
      "금액1: 123,456,789\n",
      "금액2:  98745632\n",
      "금액: 98,745,632\n"
     ]
    }
   ],
   "source": [
    "money1=123456789\n",
    "money1=format(money1,',')\n",
    "print('금액1: %s' % money1)\n",
    "\n",
    "money2=98745632\n",
    "print('금액2: %9.0f'% money2)\n",
    "\n",
    "money2=format(money2,',')\n",
    "print('금액: %s' % money2)\n"
   ]
  },
  {
   "cell_type": "code",
   "execution_count": 48,
   "metadata": {},
   "outputs": [
    {
     "name": "stdout",
     "output_type": "stream",
     "text": [
      "<class 'float'>\n",
      "123456789.234567\n",
      "123,456,789.234567\n",
      "123456789.234567\n",
      "   123456789.23\n"
     ]
    }
   ],
   "source": [
    "a=123456789.234567\n",
    "print(type(a))\n",
    "print(a)\n",
    "\n",
    "b=format(a,',')\n",
    "print(b)\n",
    "c=b.replace(',' , '')  # 콤마를 공란으로 치환홤. 즉 콤마를지움.\n",
    "print(c)\n",
    "d=float(c)      # 스트링을 실수형(float)으로 변환\n",
    "e=format('%15.2f' % d)\n",
    "print(e)"
   ]
  },
  {
   "cell_type": "code",
   "execution_count": 63,
   "metadata": {},
   "outputs": [
    {
     "name": "stdout",
     "output_type": "stream",
     "text": [
      "1234567890.1234567\n",
      "$1,234,567,890.12\n",
      "\\1,234,567,890\n",
      "<class 'str'>\n"
     ]
    }
   ],
   "source": [
    "import locale  # 날짜, 숫자 형식을 지원하는 파이썬 모듈\n",
    "a=1234567890.12345678\n",
    "print(a)\n",
    "locale.setlocale(locale.LC_ALL, 'en_US')\n",
    "b=locale.currency(a,grouping=True)  # grouping=True는 세자리마다 콤마찍으라는 명령어.\n",
    "print(b)\n",
    "\n",
    "locale.setlocale(locale.LC_ALL, 'ko_KR')\n",
    "b=locale.currency(a,grouping=True)  # grouping=True는 세자리마다 콤마찍으라는 명령어.\n",
    "print(b)\n",
    "print(type(b))"
   ]
  },
  {
   "cell_type": "code",
   "execution_count": 74,
   "metadata": {},
   "outputs": [
    {
     "name": "stdout",
     "output_type": "stream",
     "text": [
      "나이:15세\n",
      "이름:김철수\n",
      "김철수님의 나이는 15세 입니다.\n",
      "김철수님의 나이는 15세 입니다.\n",
      "15님의 나이는 김철수세 입니다.\n"
     ]
    }
   ],
   "source": [
    "age=15\n",
    "result1='나이:{0}세' .format(age)  #중괄호안에 age를 넣으라는 명령.\n",
    "print(result)\n",
    "\n",
    "name='김철수'\n",
    "result2='이름:{0}'  .format(name)\n",
    "print(result2)\n",
    "\n",
    "result3='{}님의 나이는 {}세 입니다.'    .format(name, age) #인덱스 없으면 순차적으로 들어감.\n",
    "print(result3)\n",
    "\n",
    "result4='{0}님의 나이는 {1}세 입니다.'    .format(name, age)   #인덱스 써주는게 보기가 좋지.\n",
    "print(result4)\n",
    "\n",
    "result5='{1}님의 나이는 {0}세 입니다.'    .format(name, age)  #인덱스 지정해주는대로 들어감.\n",
    "print(result5)"
   ]
  },
  {
   "cell_type": "code",
   "execution_count": 81,
   "metadata": {},
   "outputs": [
    {
     "name": "stdout",
     "output_type": "stream",
     "text": [
      "김철수님의 나이는 15세 입니다.\n",
      "김철수님의 체지방률은 22%입니다.\n"
     ]
    }
   ],
   "source": [
    "age=15\n",
    "name='김철수'\n",
    "a='%s님의 나이는 %d세 입니다.' % (name, age)\n",
    "print(a)\n",
    "\n",
    "BFR=22\n",
    "b='%s님의 체지방률은 %d%%입니다.' %(name, BFR)\n",
    "print(b)"
   ]
  },
  {
   "cell_type": "code",
   "execution_count": 84,
   "metadata": {},
   "outputs": [
    {
     "name": "stdout",
     "output_type": "stream",
     "text": [
      "체중:100\n"
     ]
    }
   ],
   "source": [
    "weight=\"100\"\n",
    "a='체중:%d' % int(weight)\n",
    "print(a)"
   ]
  },
  {
   "cell_type": "code",
   "execution_count": 90,
   "metadata": {},
   "outputs": [
    {
     "name": "stdout",
     "output_type": "stream",
     "text": [
      "hi\n",
      "2\n",
      "hi        \n",
      "10\n",
      "        hi\n",
      "10\n",
      "    hi    \n",
      "10\n"
     ]
    }
   ],
   "source": [
    "result='{0}' .format('hi') \n",
    "print(result)\n",
    "print(len(result))\n",
    "\n",
    "result='{0:10}'   .format('hi') #글자수를 10개로 만드세요. hi빈칸빈칸빈칸빈칸...\n",
    "print(result)\n",
    "print(len(result))\n",
    "\n",
    "result='{0:>10}'   .format('hi')  #오른쪽정렬\n",
    "print(result)\n",
    "\n",
    "result='{0:^10}'   .format('hi')  #가운데정렬\n",
    "print(result)\n",
    "\n",
    "result='{0:10}'   .format('hi')  #오른쪽정렬\n",
    "print(result)\n",
    "print(len(result))"
   ]
  },
  {
   "cell_type": "code",
   "execution_count": null,
   "metadata": {},
   "outputs": [],
   "source": []
  }
 ],
 "metadata": {
  "kernelspec": {
   "display_name": "Python 3",
   "language": "python",
   "name": "python3"
  },
  "language_info": {
   "codemirror_mode": {
    "name": "ipython",
    "version": 3
   },
   "file_extension": ".py",
   "mimetype": "text/x-python",
   "name": "python",
   "nbconvert_exporter": "python",
   "pygments_lexer": "ipython3",
   "version": "3.7.4"
  }
 },
 "nbformat": 4,
 "nbformat_minor": 2
}
