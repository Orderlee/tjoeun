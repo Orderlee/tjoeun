{
 "cells": [
  {
   "cell_type": "code",
   "execution_count": 3,
   "metadata": {},
   "outputs": [
    {
     "name": "stdout",
     "output_type": "stream",
     "text": [
      "(7782, '구자철', 10, '경리팀')\n",
      "(7839, '김철호', 10, '경리팀')\n",
      "(7934, '최철호', 10, '경리팀')\n",
      "(7566, '임채호', 20, '연구팀')\n",
      "(7902, '박진성', 20, '연구팀')\n",
      "(7876, '황인태', 20, '연구팀')\n",
      "(7369, '김철수', 20, '연구팀')\n",
      "(7788, '송기성', 20, '연구팀')\n",
      "(7521, '박종수', 30, '총무팀')\n",
      "(7844, '성명준', 30, '총무팀')\n",
      "(7499, '이찬수', 30, '총무팀')\n",
      "(7900, '박민성', 30, '총무팀')\n",
      "(7698, '박지성', 30, '총무팀')\n",
      "(7654, '나대호', 30, '총무팀')\n"
     ]
    }
   ],
   "source": [
    "import cx_Oracle #오라클 접속 모듈\n",
    "#오라클 서버에 접속 아이디/비번@호스트:포트번호/sid\n",
    "conn=cx_Oracle.connect('hr/hr@localhost:1521/xe')\n",
    "#커서 오픈\n",
    "cursor=conn.cursor()\n",
    "#실행할 sql 명령어 작성\n",
    "#sql='select * from test_view'\n",
    "sql='''\n",
    "select empno,ename,e.deptno,dname\n",
    "from emp e, dept d\n",
    "where e.deptno=d.deptno\n",
    "'''\n",
    "#sql 명령어가 실행됨\n",
    "cursor.execute(sql)\n",
    "#결과셋(레코드셋)을 리스트로 저장\n",
    "rows=cursor.fetchall()\n",
    "for row in rows:\n",
    "    print(row)\n",
    "    \n",
    "#리소스 정리\n",
    "cursor.close()\n",
    "conn.close()"
   ]
  },
  {
   "cell_type": "code",
   "execution_count": null,
   "metadata": {},
   "outputs": [],
   "source": []
  }
 ],
 "metadata": {
  "kernelspec": {
   "display_name": "Python 3",
   "language": "python",
   "name": "python3"
  },
  "language_info": {
   "codemirror_mode": {
    "name": "ipython",
    "version": 3
   },
   "file_extension": ".py",
   "mimetype": "text/x-python",
   "name": "python",
   "nbconvert_exporter": "python",
   "pygments_lexer": "ipython3",
   "version": "3.7.4"
  }
 },
 "nbformat": 4,
 "nbformat_minor": 2
}
