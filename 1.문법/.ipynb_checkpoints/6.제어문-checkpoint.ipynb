{
 "cells": [
  {
   "cell_type": "code",
   "execution_count": 1,
   "metadata": {},
   "outputs": [
    {
     "name": "stdout",
     "output_type": "stream",
     "text": [
      "yes\n"
     ]
    }
   ],
   "source": [
    "a = 10\n",
    "#a = 0\n",
    "# 조건이 True =>실행, False=> 넘어감\n",
    "if a>5:\n",
    "    print(\"yes\")"
   ]
  },
  {
   "cell_type": "code",
   "execution_count": null,
   "metadata": {},
   "outputs": [],
   "source": [
    "color = input('색상을 입력하세요:')\n",
    "# 양자택일 if else\n",
    "if color =='blue':\n",
    "    print('건너가세요')\n",
    "else:\n",
    "    print('기다리세요')"
   ]
  },
  {
   "cell_type": "markdown",
   "metadata": {},
   "source": [
    "### 아래 코드를 input 함수를 사용하는 코드로 변경"
   ]
  },
  {
   "cell_type": "code",
   "execution_count": null,
   "metadata": {},
   "outputs": [],
   "source": [
    "num = 100\n",
    "if num%2 == 0: #숫자를 2로 나눈 나머지가 0이면\n",
    "    print(\"짝수입니다.\")\n",
    "else:\n",
    "    print(\"홀수입니다.\")\n",
    "    "
   ]
  },
  {
   "cell_type": "code",
   "execution_count": null,
   "metadata": {},
   "outputs": [],
   "source": [
    "for i in range(1,101):\n",
    "    if i%2 ==0:\n",
    "        print(i,'=>','짝수')\n",
    "    else:\n",
    "        print(i,'=>','홀수')"
   ]
  },
  {
   "cell_type": "code",
   "execution_count": null,
   "metadata": {},
   "outputs": [],
   "source": [
    "num = int(input(\"숫자:\"))\n",
    "if num%2 == 0:\n",
    "    print(\"짝수입니다.\")\n",
    "else:\n",
    "    print(\"홀수입니다.\")    "
   ]
  },
  {
   "cell_type": "markdown",
   "metadata": {},
   "source": [
    "### 위 코드가 5번 반복 실행하도록 변경"
   ]
  },
  {
   "cell_type": "code",
   "execution_count": null,
   "metadata": {},
   "outputs": [],
   "source": [
    "for i in range(5):\n",
    "    num = int(input(\"숫자:\"))\n",
    "    if num%2 == 0: #숫자를 2로 나눈 나머지가 0이면\n",
    "        print(\"짝수입니다.\")\n",
    "    else:\n",
    "        print(\"홀수입니다.\")"
   ]
  },
  {
   "cell_type": "code",
   "execution_count": 7,
   "metadata": {},
   "outputs": [
    {
     "name": "stdout",
     "output_type": "stream",
     "text": [
      "이름: 김철수\n",
      "나이: 29\n",
      "성별: 남\n"
     ]
    }
   ],
   "source": [
    "#주민번호 - 나이,성별 판별\n",
    "name=\"김철수\"\n",
    "a = \"951231-1234567\"\n",
    "# a[0:2] 0,1 서브스트링을 숫자로 바꿔야 함\n",
    "age=2019 - (1900+ int(a[0:2]))\n",
    "if a[7]=='1' or a[7]=='3': #성별필드\n",
    "    gender='남'\n",
    "elif a[7]=='2' or a[7]=='4':\n",
    "    gender='여'\n",
    "    \n",
    "print(\"이름:\",name)\n",
    "print(\"나이:\",age)\n",
    "print(\"성별:\",gender)"
   ]
  },
  {
   "cell_type": "code",
   "execution_count": null,
   "metadata": {},
   "outputs": [],
   "source": [
    "# 내국인\n",
    "# 2000년 이전\n",
    "# 1\n",
    "# 2\n",
    "#2000년 이후\n",
    "# 3\n",
    "# 4\n",
    "# 외국인\n",
    "# 5\n",
    "# 6"
   ]
  },
  {
   "cell_type": "code",
   "execution_count": null,
   "metadata": {},
   "outputs": [],
   "source": [
    "point=89 \n",
    "#다음조건일 경우 if~ elif~ else 사용\n",
    "if point<=point<=100:\n",
    "    print('A')\n",
    "elif 80<=point<90:\n",
    "    print('B')\n",
    "elif 70<=point<80:\n",
    "    print('C')\n",
    "elif 60<=point<70:\n",
    "    print('D')\n",
    "else:\n",
    "    print('F')"
   ]
  },
  {
   "cell_type": "markdown",
   "metadata": {},
   "source": [
    "### 퀴즈\n",
    "#### name='김철수'\n",
    "#### k=70 국어점수 \n",
    "#### e=80 영어점수\n",
    "#### m=90 수학점수\n",
    "#### 총점, 평균점수, 평균점수에 따라 등급계산(A,B,C,D,F)"
   ]
  },
  {
   "cell_type": "code",
   "execution_count": 2,
   "metadata": {},
   "outputs": [
    {
     "name": "stdout",
     "output_type": "stream",
     "text": [
      "이름:김철수,국어:70,영어:80,수학:90,총점:240,평균:80.0,등급:B\n"
     ]
    }
   ],
   "source": [
    "name = '김철수'\n",
    "k = 70\n",
    "e = 80\n",
    "m = 90\n",
    "total=k+e+m\n",
    "average=total/3\n",
    "if 90<=average<=100:\n",
    "    grade='A'\n",
    "elif 80<=average<90:\n",
    "    grade='B'\n",
    "elif 70<=average<80:\n",
    "    grade='C'\n",
    "elif 60<=average<70:\n",
    "    grade='D'\n",
    "else:\n",
    "    grade='F'\n",
    "\n",
    "print('이름:{},국어:{},영어:{},수학:{},총점:{},평균:{},등급:{}'\n",
    "      .format(name,k,e,m,total,average,grade))"
   ]
  },
  {
   "cell_type": "code",
   "execution_count": 3,
   "metadata": {},
   "outputs": [
    {
     "name": "stdout",
     "output_type": "stream",
     "text": [
      "이름:김철수,국어:70,영어:80,수학:90,총점:240,평균:80.0,등급:B\n"
     ]
    }
   ],
   "source": [
    "#딕셔너리로 변경한 코드\n",
    "a = {'name':'김철수', 'k':70,'e':80, 'm':90}\n",
    "\n",
    "total=a['k']+a['e']+a['m']\n",
    "average=total/3\n",
    "if 90<=average<=100:\n",
    "    grade='A'\n",
    "elif 80<=average<90:\n",
    "    grade='B'\n",
    "elif 70<=average<80:\n",
    "    grade='C'\n",
    "elif 60<=average<70:\n",
    "    grade='D'\n",
    "else:\n",
    "    grade='F'\n",
    "\n",
    "print('이름:{},국어:{},영어:{},수학:{},총점:{},평균:{},등급:{}'\n",
    "      .format(name,k,e,m,total,average,grade))"
   ]
  },
  {
   "cell_type": "code",
   "execution_count": 4,
   "metadata": {},
   "outputs": [
    {
     "name": "stdout",
     "output_type": "stream",
     "text": [
      "이름:김철수,국어:70,영어:80,수학:90,총점:240,평균:80.00,등급:B\n",
      "이름:김희영,국어:70,영어:80,수학:90,총점:255,평균:85.00,등급:B\n",
      "이름:이용수,국어:70,영어:80,수학:90,총점:272,평균:90.67,등급:A\n"
     ]
    }
   ],
   "source": [
    "#학생이 여러명인 경우 (딕셔너리 리스트로 처리)\n",
    "a=[{'name':'김철수','k':70,'e':80,'m':90},\n",
    "   {'name':'김희영','k':75,'e':85,'m':95},\n",
    "   {'name':'이용수','k':82,'e':92,'m':98}]\n",
    "\n",
    "for s in a:\n",
    "    total=s['k']+s['e']+s['m']\n",
    "    average=total/3\n",
    "    if 90<=average<=100:\n",
    "        grade='A'\n",
    "    elif 80<=average<90:\n",
    "        grade='B'\n",
    "    elif 70<=average<80:\n",
    "        grade='C'\n",
    "    elif 60<=average<70:\n",
    "        grade='D'\n",
    "    else: #나머지 모든 \n",
    "        grade='F'\n",
    "\n",
    "    print('이름:{},국어:{},영어:{},수학:{},총점:{},평균:{:.2f},등급:{}'\n",
    "          .format(s['name'],k,e,m,total,average,grade))"
   ]
  },
  {
   "cell_type": "code",
   "execution_count": 5,
   "metadata": {},
   "outputs": [
    {
     "name": "stdout",
     "output_type": "stream",
     "text": [
      "이름\t국어\t영어\t수학\t총점\t평균\t등급\n",
      "김철수\t70\t80\t90\t240\t80.00\tB\n",
      "김희영\t75\t85\t95\t255\t85.00\tB\n",
      "이용수\t82\t92\t98\t272\t90.67\tA\n"
     ]
    }
   ],
   "source": [
    "a=[{'name':'김철수','k':70,'e':80,'m':90},\n",
    "   {'name':'김희영','k':75,'e':85,'m':95},\n",
    "   {'name':'이용수','k':82,'e':92,'m':98}]\n",
    "# \\t 탭 (t 사용 횃수가 늘어날 수록 간격이 벌어짐)\n",
    "print('이름\\t국어\\t영어\\t수학\\t총점\\t평균\\t등급')\n",
    "\n",
    "for s in a:\n",
    "    total=s['k']+s['e']+s['m']\n",
    "    average=total/3\n",
    "    if 90<=average<=100:\n",
    "        grade='A'\n",
    "    elif 80<=average<90:\n",
    "        grade='B'\n",
    "    elif 70<=average<80:\n",
    "        grade='C'\n",
    "    elif 60<=average<70:\n",
    "        grade='D'\n",
    "    else: #나머지 모든 경우\n",
    "        grade='F'\n",
    "\n",
    "    print('{}\\t{}\\t{}\\t{}\\t{}\\t{:.2f}\\t{}'\n",
    "          .format(s['name'],s['k'],s['e'],s['m'],total,average,grade))\n"
   ]
  },
  {
   "cell_type": "code",
   "execution_count": 6,
   "metadata": {},
   "outputs": [
    {
     "name": "stdout",
     "output_type": "stream",
     "text": [
      "이름\t월급\t보너스\t연봉\t세액\t실수령액\n",
      "==================================================\n",
      "김철수\t300\t500\t4100\t205.0\t3895.0\n"
     ]
    }
   ],
   "source": [
    "name='김철수'\n",
    "salary=300 #월급\n",
    "bonus = 500 #보너스\n",
    "# 연봉=12개월 월급 + 보너스\n",
    "total=salary*12 + 500\n",
    "# 세액 : 연봉의 5%\n",
    "tax = total*0.05\n",
    "# 실수령액\n",
    "money=total-tax\n",
    "# \\t 탭\n",
    "print(\"이름\\t월급\\t보너스\\t연봉\\t세액\\t실수령액\")\n",
    "print('='*50)\n",
    "print('{}\\t{}\\t{}\\t{}\\t{}\\t{}'.format(name,salary,bonus,total,tax,money))"
   ]
  },
  {
   "cell_type": "code",
   "execution_count": 8,
   "metadata": {},
   "outputs": [
    {
     "name": "stdout",
     "output_type": "stream",
     "text": [
      "{'name': '김철수', 'salary': 250, 'bonus': 500, 'total': 3500, 'tax': 175.0, 'money': 3325.0}\n",
      "이름\t월급\t보너스\t연봉\t세액\t실수령액\n",
      "==================================================\n",
      "김철수\t250\t500\t3500\t175.0\t3325.0\n"
     ]
    }
   ],
   "source": [
    "# value가 문자열이면 따옴표로 감싸고 숫자이면 따옴표를 쓰지 않음\n",
    "a ={'name':'김철수','salary':250,'bonus':500}\n",
    "# 딕셔너리에 새로운 key를 삽입할 수 있음\n",
    "# 딕셔너리['key']        \n",
    "        \n",
    "a['total']= a['salary']*12 + a['bonus']\n",
    "\n",
    "if a ['total']<2000: # 연봉 2000미만 =>1%\n",
    "    a['tax']=a['total']*0.01\n",
    "elif 2000<=a['total']*0.01: # 연봉 2000~3000 미만 => 3%\n",
    "    a['tax']=a['total']*0.03\n",
    "else: # 연봉 4000 이상 => 5%\n",
    "    a['tax']=a['total']*0.05\n",
    "\n",
    "a['tax'] = a['total']*0.05\n",
    "a['money']=a['total']-a['tax']\n",
    "\n",
    "print(a)\n",
    "\n",
    "\n",
    "print(\"이름\\t월급\\t보너스\\t연봉\\t세액\\t실수령액\")\n",
    "print('='*50)\n",
    "print('{}\\t{}\\t{}\\t{}\\t{}\\t{}'.format(a['name'],a['salary'],a['bonus'],\n",
    "                                      a['total'],a['tax'],a['money']))"
   ]
  },
  {
   "cell_type": "code",
   "execution_count": 9,
   "metadata": {},
   "outputs": [
    {
     "name": "stdout",
     "output_type": "stream",
     "text": [
      "이름\t월급\t보너스\t연봉\t세액\t실수령액\n",
      "==================================================\n",
      "김철수\t200\t200\t2600\t130.0\t2470.0\n",
      "김희영\t350\t400\t4600\t230.0\t4370.0\n",
      "이용수\t600\t1000\t8200\t410.0\t7790.0\n"
     ]
    }
   ],
   "source": [
    "data=[{'name':'김철수','salary':200,'bonus':200},\n",
    "   {'name':'김희영','salary':350,'bonus':400},\n",
    "   {'name':'이용수','salary':600,'bonus':1000}]\n",
    "#급여계산자료를 리스트에 저장\n",
    "print(\"이름\\t월급\\t보너스\\t연봉\\t세액\\t실수령액\")\n",
    "print('='*50)\n",
    "for a in data: #딕셔너리 한개씩 꺼내서 처리\n",
    "    a['total'] = a['salary']*12 + a['bonus']\n",
    "\n",
    "    if a['total']<2000:\n",
    "        a['tax']=a['total']*0.01\n",
    "    elif 2000<=a['total']*0.01:\n",
    "        a['tax']=a['total']*0.03\n",
    "    else: \n",
    "        a['tax']=a['total']*0.05\n",
    "\n",
    "    a['money']=a['total']-a['tax']\n",
    "\n",
    "    print('{}\\t{}\\t{}\\t{}\\t{}\\t{}'.format(a['name'],a['salary'],a['bonus'],\n",
    "                                      a['total'],a['tax'],a['money']))"
   ]
  },
  {
   "cell_type": "code",
   "execution_count": 4,
   "metadata": {},
   "outputs": [
    {
     "name": "stdout",
     "output_type": "stream",
     "text": [
      "[{'name': '김철수', 'salary': 250, 'bonus': 500}, {'name': '이용직', 'salary': 350, 'bonus': 600}, {'name': '박지운', 'salary': 450, 'bonus': 700}]\n",
      "이름\t월급\t보너스\t연봉\t세액\t실수령액\n",
      "==================================================\n",
      "김철수\t250\t500\t3500\t175.0\t3325.0\n",
      "이용직\t350\t600\t4800\t240.0\t4560.0\n",
      "박지운\t450\t700\t6100\t305.0\t5795.0\n"
     ]
    }
   ],
   "source": [
    "# open('파일경로','r') 읽기 전용 파일 열기\n",
    "# f변수 : 파일을 참조하는 변수\n",
    "f = open('d:/data/salary.csv','r')\n",
    "lines=f.readlines() #모든 라인을 읽어옴\n",
    "#print(lines)\n",
    "#f.readline()\n",
    "data=[]\n",
    "for line in lines[1:]: #한 라인씩 읽음\n",
    "    #print(line,end='') #줄바꿈을 사용하지 않음\n",
    "    row = line.split(',') # 라인을 컴머 단위로 끊어서 리스트로 저장\n",
    "    bonus = row[2].replace('\\n','') #보너스 필드의 백슬래시 제거\n",
    "    data.append({'name':row[0],'salary':int(row[1]),'bonus':int(bonus)})\n",
    "    \n",
    "print(data) #완성된 데이터 리스트   \n",
    "f.close() # 파일을 다 사용한 후에는 닫아야 함\n",
    "\n",
    "print(\"이름\\t월급\\t보너스\\t연봉\\t세액\\t실수령액\")\n",
    "print('='*50)\n",
    "for a in data: #딕셔너리 한개씩 꺼내서 처리\n",
    "    a['total'] = a['salary']*12 + a['bonus']\n",
    "\n",
    "    if a ['total']<2000:\n",
    "        a['tax']=a['total']*0.01\n",
    "    elif 2000<=a['total']*0.01:\n",
    "        a['tax']=a['total']*0.03\n",
    "    else: \n",
    "        a['tax']=a['total']*0.05\n",
    "\n",
    "    a['money']=a['total']-a['tax']\n",
    "\n",
    "    print('{}\\t{}\\t{}\\t{}\\t{}\\t{}'.format(a['name'],a['salary'],a['bonus'],\n",
    "                                      a['total'],a['tax'],a['money']))"
   ]
  },
  {
   "cell_type": "code",
   "execution_count": 10,
   "metadata": {},
   "outputs": [
    {
     "name": "stdout",
     "output_type": "stream",
     "text": [
      "[{'name': '김철수', 'korean': 70, 'english': 80, 'math': 90}, {'name': '김희영', 'korean': 75, 'english': 85, 'math': 95}, {'name': '이용수', 'korean': 82, 'english': 92, 'math': 98}]\n",
      "이름\t국어\t영어\t수학\t총합\t평균\t등급\n",
      "==================================================\n",
      "김철수\t70\t80\t90\t240\t80.00\tB\n",
      "김희영\t75\t85\t95\t255\t85.00\tB\n",
      "이용수\t82\t92\t98\t272\t90.67\tA\n"
     ]
    }
   ],
   "source": [
    "f = open('d:/data/score.csv','r')\n",
    "lines = f.readlines()\n",
    "data = []\n",
    "for line in lines[1:]:\n",
    "    row = line.split(',')\n",
    "    math = row[3].replace('\\n','')\n",
    "    data.append({'name':row[0],'korean':int(row[1]),'english':int(row[2]),'math':int(math)})\n",
    "    \n",
    "print(data)\n",
    "f.close()\n",
    "\n",
    "print(\"이름\\t국어\\t영어\\t수학\\t총합\\t평균\\t등급\")\n",
    "print('='*50)\n",
    "for a in data:\n",
    "    a['total'] = a['korean']+ a['english']+ a['math']\n",
    "    a['average'] = a['total']/3\n",
    "    if 90<=a['average']<=100:\n",
    "        grade = 'A'\n",
    "    elif 80<=a['average']<90:\n",
    "        grade = 'B'\n",
    "    elif 70<=a['average']<80:\n",
    "        grade = 'C'\n",
    "    elif 60<=a['average']<70:\n",
    "        grade = 'D'\n",
    "    else:\n",
    "        grade = 'F'\n",
    "        \n",
    "    print('{}\\t{}\\t{}\\t{}\\t{}\\t{:.2f}\\t{}'.format(a['name'],a['korean'],\n",
    "                                                  a['english'],a['math'],a['total'],a['average'],grade))\n",
    "    "
   ]
  },
  {
   "cell_type": "code",
   "execution_count": null,
   "metadata": {},
   "outputs": [],
   "source": []
  },
  {
   "cell_type": "code",
   "execution_count": null,
   "metadata": {},
   "outputs": [],
   "source": []
  },
  {
   "cell_type": "code",
   "execution_count": null,
   "metadata": {},
   "outputs": [],
   "source": []
  },
  {
   "cell_type": "code",
   "execution_count": null,
   "metadata": {},
   "outputs": [],
   "source": []
  },
  {
   "cell_type": "code",
   "execution_count": null,
   "metadata": {},
   "outputs": [],
   "source": []
  },
  {
   "cell_type": "code",
   "execution_count": null,
   "metadata": {},
   "outputs": [],
   "source": []
  },
  {
   "cell_type": "code",
   "execution_count": null,
   "metadata": {},
   "outputs": [],
   "source": []
  },
  {
   "cell_type": "code",
   "execution_count": null,
   "metadata": {},
   "outputs": [],
   "source": []
  },
  {
   "cell_type": "code",
   "execution_count": null,
   "metadata": {},
   "outputs": [],
   "source": []
  },
  {
   "cell_type": "code",
   "execution_count": null,
   "metadata": {},
   "outputs": [],
   "source": []
  },
  {
   "cell_type": "code",
   "execution_count": null,
   "metadata": {},
   "outputs": [],
   "source": []
  },
  {
   "cell_type": "code",
   "execution_count": null,
   "metadata": {},
   "outputs": [],
   "source": []
  },
  {
   "cell_type": "code",
   "execution_count": null,
   "metadata": {},
   "outputs": [],
   "source": []
  }
 ],
 "metadata": {
  "kernelspec": {
   "display_name": "Python 3",
   "language": "python",
   "name": "python3"
  },
  "language_info": {
   "codemirror_mode": {
    "name": "ipython",
    "version": 3
   },
   "file_extension": ".py",
   "mimetype": "text/x-python",
   "name": "python",
   "nbconvert_exporter": "python",
   "pygments_lexer": "ipython3",
   "version": "3.7.4"
  }
 },
 "nbformat": 4,
 "nbformat_minor": 2
}
