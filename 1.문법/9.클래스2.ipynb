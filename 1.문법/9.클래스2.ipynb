{
 "cells": [
  {
   "cell_type": "code",
   "execution_count": null,
   "metadata": {},
   "outputs": [],
   "source": [
    "class foo: #클래스(사용자 정의 자료형)\n",
    "    def __init__(self): #인스턴스가 만들어질 때 자동 호출\n",
    "        print('초기화 함수 호출')\n",
    "    def func1(self): #첫번재 인수에는 self를 사용함\n",
    "        print('함수1')\n",
    "    def func2(self):\n",
    "        print('인스턴스의 주소값:', id(self)) #self는 인스턴스의 시작번지값을 가리킴\n",
    "        print('함수2')\n",
    "    def func3(): #self가 없는 함수(특별한 함수)\n",
    "        print('함수')"
   ]
  },
  {
   "cell_type": "code",
   "execution_count": null,
   "metadata": {},
   "outputs": [],
   "source": [
    "f=foo() #인스턴스가 생성됨\n",
    "f.func1()\n",
    "print(id(f)) #참조변수가 가리키는 주소값\n",
    "f.func2()"
   ]
  },
  {
   "cell_type": "code",
   "execution_count": null,
   "metadata": {},
   "outputs": [],
   "source": [
    "#f.func3() #에러가 발생함 ->위 함수에 self 가 있다면 에러가 나지 않음\n",
    "foo.func3() #클래스 이름으로 접근"
   ]
  },
  {
   "cell_type": "code",
   "execution_count": null,
   "metadata": {},
   "outputs": [],
   "source": [
    "#class = 변수 + 함수\n",
    "class Person2:\n",
    "    name=''\n",
    "    age=0\n",
    "    height=0\n",
    "    weight=0\n",
    "    #초기화 함수\n",
    "    def __init__(self, name=None, age=None, height=None, weight=None):\n",
    "        self.name = name #self. 변수 -> 멤버변수\n",
    "        self.age = age #self가 붙지 않은 변수는 지역 수\n",
    "        self.height = height\n",
    "        self.weight = weight\n",
    "        \n",
    "    def display(self):\n",
    "        print('이름:',self.name,end=' ')\n",
    "        print('나이:',self.age,end=' ')\n",
    "        print('신장:',self.height,end=' ')\n",
    "        print('체중:',self.weight,end=' ')\n",
    "        print()"
   ]
  },
  {
   "cell_type": "code",
   "execution_count": null,
   "metadata": {},
   "outputs": [],
   "source": [
    "p=Person2() #초기화함수에 잔달된 값이 없음\n",
    "p.name='김철수'\n",
    "p.age=20\n",
    "p.height=170.5\n",
    "p.weight=70.5\n",
    "p.display()\n"
   ]
  },
  {
   "cell_type": "code",
   "execution_count": null,
   "metadata": {},
   "outputs": [],
   "source": [
    "p=Person2('김철수',20,170.5,70.5) #초기화함수에 값들을 전달함 ->변수 갯수 맞춰야함(none을 작성하면 변수갯수가 맞지 않아도 none이 출력됨)\n",
    "p.display()"
   ]
  },
  {
   "cell_type": "code",
   "execution_count": null,
   "metadata": {},
   "outputs": [],
   "source": [
    "p=Person2('김철수')\n",
    "p.display()"
   ]
  },
  {
   "cell_type": "code",
   "execution_count": null,
   "metadata": {},
   "outputs": [],
   "source": [
    "p=Person2('김철수',20)\n",
    "p.display()"
   ]
  },
  {
   "cell_type": "code",
   "execution_count": null,
   "metadata": {},
   "outputs": [],
   "source": [
    "a=None # a 변수에 아무 값도 없는 상태\n",
    "b='' \n",
    "print(a==b)\n",
    "print(a==None)\n",
    "print(a is None) # a에 할당된 값이 없는가?"
   ]
  },
  {
   "cell_type": "code",
   "execution_count": null,
   "metadata": {},
   "outputs": [],
   "source": [
    "a=1\n",
    "a-int(1)\n",
    "\n",
    "print(id(a))\n",
    "\n",
    "print(type(a))"
   ]
  },
  {
   "cell_type": "code",
   "execution_count": null,
   "metadata": {},
   "outputs": [],
   "source": [
    "class Calculator:\n",
    "    def __init__(self,first=None,second=None): #초기화 함수\n",
    "        # first가 None이면 0, 아니면 입력된 값\n",
    "        self.first = 0 if first is None else first\n",
    "        self.second = 0 if second is None else second\n",
    "    def __del__(self): #소멸자(만들지 않아도 됨, 자동으로 처리됨)\n",
    "        print('소멸자 호출')\n",
    "    def setData(self,first,second): #데이터 입력 함수\n",
    "        self.first = first\n",
    "        self.second = second\n",
    "    def sum(self):\n",
    "        result = self.first+self.second\n",
    "        return result\n",
    "    def mul(self):\n",
    "        result = self.first*self.second\n",
    "        return result\n",
    "    def sub(self):\n",
    "        result=self.first-self.second\n",
    "        return result\n",
    "    def div(self):\n",
    "        if self.second==0: #분모가 0이면 0을 리턴\n",
    "            return 0\n",
    "        result=self.first / self.second\n",
    "        return result"
   ]
  },
  {
   "cell_type": "code",
   "execution_count": null,
   "metadata": {},
   "outputs": [],
   "source": [
    "a = Calculator() #클래스의 인스턴스 생성\n",
    "print(id(a))\n",
    "a.setData(10,20) #입력함수 호출\n",
    "print(a.sum())\n",
    "print(a.mul())\n",
    "print(a.sub())\n",
    "print(a.div())"
   ]
  },
  {
   "cell_type": "code",
   "execution_count": null,
   "metadata": {},
   "outputs": [],
   "source": [
    "b = Calculator(30,40) \n",
    "print(id(b)) \n",
    "print(b.sum())\n",
    "print(b.mul())\n",
    "print(b.sub())\n",
    "print(b.div())"
   ]
  },
  {
   "cell_type": "code",
   "execution_count": null,
   "metadata": {},
   "outputs": [],
   "source": [
    "# class 자식클래스(부모클래스)\n",
    "# 다중상속 가능\n",
    "class Calc2(Calculator):\n",
    "    def pow(self):\n",
    "        result=self.first**self.second\n",
    "        return result"
   ]
  },
  {
   "cell_type": "code",
   "execution_count": null,
   "metadata": {},
   "outputs": [],
   "source": [
    "a=Calc2(2,5)\n",
    "print(a.sum())\n",
    "print(a.mul())\n",
    "print(a.sub())\n",
    "print(a.div())\n",
    "print(a.pow())"
   ]
  },
  {
   "cell_type": "code",
   "execution_count": null,
   "metadata": {},
   "outputs": [],
   "source": [
    "class A:\n",
    "    def __init__(self, name=None, age=None):\n",
    "        print('A의 초기화 함수')\n",
    "        self.name=name\n",
    "        self.age=age\n",
    "    def disp(self):\n",
    "        print('A의 disp()')\n",
    "        print(self.name)\n",
    "        print(self.age)"
   ]
  },
  {
   "cell_type": "code",
   "execution_count": null,
   "metadata": {},
   "outputs": [],
   "source": [
    "class B:\n",
    "    def __init__(self, height=None, weight=None):\n",
    "        print('B의 초기화 함수')\n",
    "        self.height=height\n",
    "        self.weight=weight\n",
    "    def disp(self):\n",
    "        print('B의 disp()')\n",
    "        print(self.height)\n",
    "        print(self.weight)"
   ]
  },
  {
   "cell_type": "code",
   "execution_count": null,
   "metadata": {},
   "outputs": [],
   "source": [
    "class C(A,B):\n",
    "    pass"
   ]
  },
  {
   "cell_type": "code",
   "execution_count": null,
   "metadata": {},
   "outputs": [],
   "source": [
    "c1=C('김철수',20)\n",
    "c1.disp()"
   ]
  },
  {
   "cell_type": "code",
   "execution_count": null,
   "metadata": {},
   "outputs": [],
   "source": [
    "c2=C(177.7,65.9)\n",
    "c2.disp()"
   ]
  },
  {
   "cell_type": "code",
   "execution_count": null,
   "metadata": {},
   "outputs": [],
   "source": [
    "class Phone:\n",
    "    def call(self):\n",
    "        print('통화기능')\n",
    "        \n",
    "class Camera:\n",
    "    def picture(self):\n",
    "        print('촬영기능')\n",
    "        \n",
    "#파이썬에서는 다중상속이 가능함\n",
    "class CameraPhone(Phone,Camera):\n",
    "    def pictureCall(self):\n",
    "        print('영상통화기능')"
   ]
  },
  {
   "cell_type": "code",
   "execution_count": null,
   "metadata": {},
   "outputs": [],
   "source": [
    "#파이썬에서는 다중상속이 가능함\n",
    "class CameraPhone(Phone,Camera):\n",
    "    def call(self):\n",
    "        print('통화기능')\n",
    "    \n",
    "    def picture(self):\n",
    "        print('촬영기능')    \n",
    "   \n",
    "    def pictureCall(self):\n",
    "        print('영상통화기능')"
   ]
  },
  {
   "cell_type": "code",
   "execution_count": null,
   "metadata": {},
   "outputs": [],
   "source": [
    "p=CameraPhone()\n",
    "p.call()\n",
    "p.picture()\n",
    "p.pictureCall()"
   ]
  },
  {
   "cell_type": "code",
   "execution_count": null,
   "metadata": {},
   "outputs": [],
   "source": [
    "class BookReader:\n",
    "    #멤버변수, 인스턴스변수\n",
    "    country = 'korea'\n",
    "#     def updateCountry(self, country):\n",
    "#         self.country\n",
    "#     def getCountry(self):\n",
    "#         return self.country"
   ]
  },
  {
   "cell_type": "code",
   "execution_count": null,
   "metadata": {},
   "outputs": [],
   "source": [
    "br=BookReader() #인스턴스 생성\n",
    "br.country='한국'\n",
    "print(br.country)"
   ]
  },
  {
   "cell_type": "code",
   "execution_count": 7,
   "metadata": {},
   "outputs": [],
   "source": [
    "class BookReader:\n",
    "    #멤버변수, 인스턴스변수\n",
    "    __country = 'korea'\n",
    "#     def updateCountry(self, country):\n",
    "#         self.country\n",
    "    def getCountry(self):\n",
    "        return self.__country"
   ]
  },
  {
   "cell_type": "code",
   "execution_count": 8,
   "metadata": {},
   "outputs": [
    {
     "name": "stdout",
     "output_type": "stream",
     "text": [
      "korea\n"
     ]
    }
   ],
   "source": [
    "br=BookReader() #인스턴스 생성\n",
    "#br.__country='한국'\n",
    "#print(br.__country)\n",
    "print(br.getCountry())"
   ]
  },
  {
   "cell_type": "code",
   "execution_count": 17,
   "metadata": {},
   "outputs": [],
   "source": [
    "class Phone:\n",
    "    def __init__(self):\n",
    "        print('phone의 초기화 함수')\n",
    "        \n",
    "    def call(self):\n",
    "        print('전화기능')\n",
    "#부모클래스와 자식클래스의 함수 이름이 같은 경우\n",
    "#자식 클래스의 기능이 우선적으로 호출됨\n",
    "        \n",
    "class CameraPhone(Phone):\n",
    "    def __init__(self):\n",
    "        super().__init__() # super() 부모클래스의 기능\n",
    "        print('CameraPhone의 초기화 함수')\n",
    "        \n",
    "    def call(self):\n",
    "        super().call()\n",
    "        print('CameraPhone의 전화 기능')\n"
   ]
  },
  {
   "cell_type": "code",
   "execution_count": 18,
   "metadata": {},
   "outputs": [
    {
     "name": "stdout",
     "output_type": "stream",
     "text": [
      "phone의 초기화 함수\n",
      "CameraPhone의 초기화 함수\n",
      "전화기능\n",
      "CameraPhone의 전화 기능\n"
     ]
    }
   ],
   "source": [
    "c=CameraPhone()\n",
    "c.call()"
   ]
  },
  {
   "cell_type": "code",
   "execution_count": null,
   "metadata": {},
   "outputs": [],
   "source": []
  },
  {
   "cell_type": "code",
   "execution_count": null,
   "metadata": {},
   "outputs": [],
   "source": []
  },
  {
   "cell_type": "code",
   "execution_count": null,
   "metadata": {},
   "outputs": [],
   "source": []
  },
  {
   "cell_type": "code",
   "execution_count": null,
   "metadata": {},
   "outputs": [],
   "source": []
  },
  {
   "cell_type": "code",
   "execution_count": null,
   "metadata": {},
   "outputs": [],
   "source": []
  },
  {
   "cell_type": "code",
   "execution_count": null,
   "metadata": {},
   "outputs": [],
   "source": []
  },
  {
   "cell_type": "code",
   "execution_count": null,
   "metadata": {},
   "outputs": [],
   "source": []
  },
  {
   "cell_type": "code",
   "execution_count": null,
   "metadata": {},
   "outputs": [],
   "source": []
  },
  {
   "cell_type": "code",
   "execution_count": null,
   "metadata": {},
   "outputs": [],
   "source": []
  },
  {
   "cell_type": "code",
   "execution_count": null,
   "metadata": {},
   "outputs": [],
   "source": []
  },
  {
   "cell_type": "code",
   "execution_count": null,
   "metadata": {},
   "outputs": [],
   "source": []
  },
  {
   "cell_type": "code",
   "execution_count": null,
   "metadata": {},
   "outputs": [],
   "source": []
  },
  {
   "cell_type": "code",
   "execution_count": null,
   "metadata": {},
   "outputs": [],
   "source": []
  },
  {
   "cell_type": "code",
   "execution_count": null,
   "metadata": {},
   "outputs": [],
   "source": []
  },
  {
   "cell_type": "code",
   "execution_count": null,
   "metadata": {},
   "outputs": [],
   "source": []
  },
  {
   "cell_type": "code",
   "execution_count": null,
   "metadata": {},
   "outputs": [],
   "source": []
  },
  {
   "cell_type": "code",
   "execution_count": null,
   "metadata": {},
   "outputs": [],
   "source": []
  },
  {
   "cell_type": "code",
   "execution_count": null,
   "metadata": {},
   "outputs": [],
   "source": []
  },
  {
   "cell_type": "code",
   "execution_count": null,
   "metadata": {},
   "outputs": [],
   "source": []
  },
  {
   "cell_type": "code",
   "execution_count": null,
   "metadata": {},
   "outputs": [],
   "source": []
  },
  {
   "cell_type": "code",
   "execution_count": null,
   "metadata": {},
   "outputs": [],
   "source": []
  }
 ],
 "metadata": {
  "kernelspec": {
   "display_name": "Python 3",
   "language": "python",
   "name": "python3"
  },
  "language_info": {
   "codemirror_mode": {
    "name": "ipython",
    "version": 3
   },
   "file_extension": ".py",
   "mimetype": "text/x-python",
   "name": "python",
   "nbconvert_exporter": "python",
   "pygments_lexer": "ipython3",
   "version": "3.7.4"
  }
 },
 "nbformat": 4,
 "nbformat_minor": 2
}
