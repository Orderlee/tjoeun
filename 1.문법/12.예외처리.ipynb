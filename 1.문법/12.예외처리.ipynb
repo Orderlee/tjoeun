{
 "cells": [
  {
   "cell_type": "code",
   "execution_count": 1,
   "metadata": {},
   "outputs": [
    {
     "name": "stdout",
     "output_type": "stream",
     "text": [
      "시작\n"
     ]
    },
    {
     "ename": "ZeroDivisionError",
     "evalue": "division by zero",
     "output_type": "error",
     "traceback": [
      "\u001b[1;31m---------------------------------------------------------------------------\u001b[0m",
      "\u001b[1;31mZeroDivisionError\u001b[0m                         Traceback (most recent call last)",
      "\u001b[1;32m<ipython-input-1-2c2c79fd546c>\u001b[0m in \u001b[0;36m<module>\u001b[1;34m\u001b[0m\n\u001b[0;32m      1\u001b[0m \u001b[1;31m# 0으로 나누는 경우\u001b[0m\u001b[1;33m\u001b[0m\u001b[1;33m\u001b[0m\u001b[1;33m\u001b[0m\u001b[0m\n\u001b[0;32m      2\u001b[0m \u001b[0mprint\u001b[0m\u001b[1;33m(\u001b[0m\u001b[1;34m'시작'\u001b[0m\u001b[1;33m)\u001b[0m\u001b[1;33m\u001b[0m\u001b[1;33m\u001b[0m\u001b[0m\n\u001b[1;32m----> 3\u001b[1;33m \u001b[0mprint\u001b[0m\u001b[1;33m(\u001b[0m\u001b[1;36m4\u001b[0m\u001b[1;33m/\u001b[0m\u001b[1;36m0\u001b[0m\u001b[1;33m)\u001b[0m \u001b[1;31m# 프로그램이 비정상적으로 종료됨\u001b[0m\u001b[1;33m\u001b[0m\u001b[1;33m\u001b[0m\u001b[0m\n\u001b[0m\u001b[0;32m      4\u001b[0m \u001b[0mprint\u001b[0m\u001b[1;33m(\u001b[0m\u001b[1;34m'끝'\u001b[0m\u001b[1;33m)\u001b[0m\u001b[1;33m\u001b[0m\u001b[1;33m\u001b[0m\u001b[0m\n",
      "\u001b[1;31mZeroDivisionError\u001b[0m: division by zero"
     ]
    }
   ],
   "source": [
    "# 0으로 나누는 경우\n",
    "print('시작')\n",
    "print(4/0) # 프로그램이 비정상적으로 종료됨\n",
    "print('끝')\n"
   ]
  },
  {
   "cell_type": "code",
   "execution_count": 2,
   "metadata": {},
   "outputs": [
    {
     "name": "stdout",
     "output_type": "stream",
     "text": [
      "시작\n",
      "0으로 나눌 수 없습니다.\n",
      "끝\n"
     ]
    }
   ],
   "source": [
    "print('시작')\n",
    "t\n",
    "try:\n",
    "    print(4/0) #예외가 발생하면\n",
    "except: #예외처리\n",
    "    print('0으로 나눌 수 없습니다.')\n",
    "\n",
    "print('끝')"
   ]
  },
  {
   "cell_type": "code",
   "execution_count": 3,
   "metadata": {},
   "outputs": [
    {
     "name": "stdout",
     "output_type": "stream",
     "text": [
      "division by zero\n"
     ]
    }
   ],
   "source": [
    "# except 예외처리 클래스 as 별칭(줄이말)\n",
    "try:\n",
    "    print(4/0)\n",
    "except ZeroDivisionError as e:\n",
    "    print(e)"
   ]
  },
  {
   "cell_type": "code",
   "execution_count": 4,
   "metadata": {},
   "outputs": [
    {
     "name": "stdout",
     "output_type": "stream",
     "text": [
      "division by zero\n"
     ]
    }
   ],
   "source": [
    "# Exception 모든 예외를 처리할 수 있음\n",
    "try:\n",
    "    print(4/0)\n",
    "except Exception as e:\n",
    "    print(e)"
   ]
  },
  {
   "cell_type": "code",
   "execution_count": 5,
   "metadata": {},
   "outputs": [
    {
     "name": "stdout",
     "output_type": "stream",
     "text": [
      "종료하려면 q를 입력하세요.\n",
      "\n",
      "분자:\n",
      "분모:ㅂ\n"
     ]
    },
    {
     "ename": "ValueError",
     "evalue": "invalid literal for int() with base 10: ''",
     "output_type": "error",
     "traceback": [
      "\u001b[1;31m---------------------------------------------------------------------------\u001b[0m",
      "\u001b[1;31mValueError\u001b[0m                                Traceback (most recent call last)",
      "\u001b[1;32m<ipython-input-5-fc3aedd520f5>\u001b[0m in \u001b[0;36m<module>\u001b[1;34m\u001b[0m\n\u001b[0;32m      5\u001b[0m         \u001b[1;32mbreak\u001b[0m\u001b[1;33m\u001b[0m\u001b[1;33m\u001b[0m\u001b[0m\n\u001b[0;32m      6\u001b[0m     \u001b[0mnum2\u001b[0m\u001b[1;33m=\u001b[0m\u001b[0minput\u001b[0m\u001b[1;33m(\u001b[0m\u001b[1;34m'분모:'\u001b[0m\u001b[1;33m)\u001b[0m \u001b[1;31m#분모에 0을 입력하면 에러가 발생함\u001b[0m\u001b[1;33m\u001b[0m\u001b[1;33m\u001b[0m\u001b[0m\n\u001b[1;32m----> 7\u001b[1;33m     \u001b[0mresult\u001b[0m\u001b[1;33m=\u001b[0m\u001b[0mint\u001b[0m\u001b[1;33m(\u001b[0m\u001b[0mnum1\u001b[0m\u001b[1;33m)\u001b[0m\u001b[1;33m/\u001b[0m\u001b[0mint\u001b[0m\u001b[1;33m(\u001b[0m\u001b[0mnum2\u001b[0m\u001b[1;33m)\u001b[0m\u001b[1;33m\u001b[0m\u001b[1;33m\u001b[0m\u001b[0m\n\u001b[0m\u001b[0;32m      8\u001b[0m     \u001b[0mprint\u001b[0m\u001b[1;33m(\u001b[0m\u001b[0mresult\u001b[0m\u001b[1;33m)\u001b[0m\u001b[1;33m\u001b[0m\u001b[1;33m\u001b[0m\u001b[0m\n\u001b[0;32m      9\u001b[0m \u001b[1;33m\u001b[0m\u001b[0m\n",
      "\u001b[1;31mValueError\u001b[0m: invalid literal for int() with base 10: ''"
     ]
    }
   ],
   "source": [
    "print('종료하려면 q를 입력하세요.')\n",
    "while True:\n",
    "    num1 = input('\\n분자:')\n",
    "    if num1 =='q':#q를 입력하면 반복문을 종료함\n",
    "        break\n",
    "    num2=input('분모:') #분모에 0을 입력하면 에러가 발생함\n",
    "    result=int(num1)/int(num2)\n",
    "    print(result)\n",
    "    \n",
    "print('프로그램을 종료합니다.')"
   ]
  },
  {
   "cell_type": "code",
   "execution_count": 6,
   "metadata": {},
   "outputs": [
    {
     "name": "stdout",
     "output_type": "stream",
     "text": [
      "종료하려면 q를 입력하세요.\n",
      "\n",
      "분자:ㅂ\n",
      "분모:q\n",
      "분모에 0을 입력할 수 없습니다. 다시 입력하세요:\n",
      "분모:\n"
     ]
    },
    {
     "ename": "NameError",
     "evalue": "name 'result' is not defined",
     "output_type": "error",
     "traceback": [
      "\u001b[1;31m---------------------------------------------------------------------------\u001b[0m",
      "\u001b[1;31mNameError\u001b[0m                                 Traceback (most recent call last)",
      "\u001b[1;32m<ipython-input-6-cdf8bb0560b0>\u001b[0m in \u001b[0;36m<module>\u001b[1;34m\u001b[0m\n\u001b[0;32m     10\u001b[0m         \u001b[0mprint\u001b[0m\u001b[1;33m(\u001b[0m\u001b[1;34m'분모에 0을 입력할 수 없습니다. 다시 입력하세요:'\u001b[0m\u001b[1;33m)\u001b[0m\u001b[1;33m\u001b[0m\u001b[1;33m\u001b[0m\u001b[0m\n\u001b[0;32m     11\u001b[0m         \u001b[0mnumn2\u001b[0m\u001b[1;33m=\u001b[0m\u001b[0minput\u001b[0m\u001b[1;33m(\u001b[0m\u001b[1;34m'분모:'\u001b[0m\u001b[1;33m)\u001b[0m\u001b[1;33m\u001b[0m\u001b[1;33m\u001b[0m\u001b[0m\n\u001b[1;32m---> 12\u001b[1;33m     \u001b[0mprint\u001b[0m\u001b[1;33m(\u001b[0m\u001b[0mresult\u001b[0m\u001b[1;33m)\u001b[0m\u001b[1;33m\u001b[0m\u001b[1;33m\u001b[0m\u001b[0m\n\u001b[0m\u001b[0;32m     13\u001b[0m \u001b[1;33m\u001b[0m\u001b[0m\n\u001b[0;32m     14\u001b[0m \u001b[0mprint\u001b[0m\u001b[1;33m(\u001b[0m\u001b[1;34m'프로그램을 종료합니다.'\u001b[0m\u001b[1;33m)\u001b[0m\u001b[1;33m\u001b[0m\u001b[1;33m\u001b[0m\u001b[0m\n",
      "\u001b[1;31mNameError\u001b[0m: name 'result' is not defined"
     ]
    }
   ],
   "source": [
    "print('종료하려면 q를 입력하세요.')\n",
    "while True:\n",
    "    num1 = input('\\n분자:')\n",
    "    if num1 =='q':#q를 입력하면 반복문을 종료함\n",
    "        break\n",
    "    num2=input('분모:') #분모에 0을 입력하면 에러가 발생함\n",
    "    try: #예외가 발생할 가능성이 있는 코드\n",
    "        result=int(num1)/int(num2)\n",
    "    except: #예외가 발생했을 때 처리할 코드\n",
    "        print('분모에 0을 입력할 수 없습니다. 다시 입력하세요:')\n",
    "        numn2=input('분모:')\n",
    "    print(result)\n",
    "    \n",
    "print('프로그램을 종료합니다.')"
   ]
  },
  {
   "cell_type": "code",
   "execution_count": 7,
   "metadata": {},
   "outputs": [
    {
     "name": "stdout",
     "output_type": "stream",
     "text": [
      "start\n"
     ]
    },
    {
     "ename": "TypeError",
     "evalue": "unsupported operand type(s) for +: 'int' and 'str'",
     "output_type": "error",
     "traceback": [
      "\u001b[1;31m---------------------------------------------------------------------------\u001b[0m",
      "\u001b[1;31mTypeError\u001b[0m                                 Traceback (most recent call last)",
      "\u001b[1;32m<ipython-input-7-15977219ad46>\u001b[0m in \u001b[0;36m<module>\u001b[1;34m\u001b[0m\n\u001b[0;32m      4\u001b[0m     \u001b[0mprint\u001b[0m\u001b[1;33m(\u001b[0m\u001b[1;34m'end'\u001b[0m\u001b[1;33m)\u001b[0m\u001b[1;33m\u001b[0m\u001b[1;33m\u001b[0m\u001b[0m\n\u001b[0;32m      5\u001b[0m \u001b[1;33m\u001b[0m\u001b[0m\n\u001b[1;32m----> 6\u001b[1;33m \u001b[0mexception_test\u001b[0m\u001b[1;33m(\u001b[0m\u001b[1;33m)\u001b[0m\u001b[1;33m\u001b[0m\u001b[1;33m\u001b[0m\u001b[0m\n\u001b[0m",
      "\u001b[1;32m<ipython-input-7-15977219ad46>\u001b[0m in \u001b[0;36mexception_test\u001b[1;34m()\u001b[0m\n\u001b[0;32m      1\u001b[0m \u001b[1;32mdef\u001b[0m \u001b[0mexception_test\u001b[0m\u001b[1;33m(\u001b[0m\u001b[1;33m)\u001b[0m\u001b[1;33m:\u001b[0m\u001b[1;33m\u001b[0m\u001b[1;33m\u001b[0m\u001b[0m\n\u001b[0;32m      2\u001b[0m     \u001b[0mprint\u001b[0m\u001b[1;33m(\u001b[0m\u001b[1;34m'start'\u001b[0m\u001b[1;33m)\u001b[0m\u001b[1;33m\u001b[0m\u001b[1;33m\u001b[0m\u001b[0m\n\u001b[1;32m----> 3\u001b[1;33m     \u001b[0mprint\u001b[0m\u001b[1;33m(\u001b[0m\u001b[1;36m2\u001b[0m\u001b[1;33m+\u001b[0m\u001b[1;34m'2'\u001b[0m\u001b[1;33m)\u001b[0m \u001b[1;31m#이 부분에서 예외가 발생함\u001b[0m\u001b[1;33m\u001b[0m\u001b[1;33m\u001b[0m\u001b[0m\n\u001b[0m\u001b[0;32m      4\u001b[0m     \u001b[0mprint\u001b[0m\u001b[1;33m(\u001b[0m\u001b[1;34m'end'\u001b[0m\u001b[1;33m)\u001b[0m\u001b[1;33m\u001b[0m\u001b[1;33m\u001b[0m\u001b[0m\n\u001b[0;32m      5\u001b[0m \u001b[1;33m\u001b[0m\u001b[0m\n",
      "\u001b[1;31mTypeError\u001b[0m: unsupported operand type(s) for +: 'int' and 'str'"
     ]
    }
   ],
   "source": [
    "def exception_test():\n",
    "    print('start')\n",
    "    print(2+'2') #이 부분에서 예외가 발생함\n",
    "    print('end')\n",
    "    \n",
    "exception_test()"
   ]
  },
  {
   "cell_type": "code",
   "execution_count": 8,
   "metadata": {},
   "outputs": [
    {
     "name": "stdout",
     "output_type": "stream",
     "text": [
      "start\n",
      "에러발생\n",
      "end\n"
     ]
    }
   ],
   "source": [
    "def exception_test():\n",
    "    print('start')\n",
    "    try:\n",
    "        print(2+'2') #이 부분에서 예외가 발생함\n",
    "    except:\n",
    "        print('에러발생')\n",
    "    print('end')\n",
    "    \n",
    "exception_test()"
   ]
  },
  {
   "cell_type": "code",
   "execution_count": 9,
   "metadata": {},
   "outputs": [
    {
     "name": "stdout",
     "output_type": "stream",
     "text": [
      "start\n",
      "에러발생: unsupported operand type(s) for +: 'int' and 'str'\n",
      "end\n"
     ]
    }
   ],
   "source": [
    "def exception_test():\n",
    "    print('start')\n",
    "    try:\n",
    "        print(2+'2') #이 부분에서 예외가 발생함\n",
    "    except TypeError as e: #구체적인 에러 메시지 출력\n",
    "        print('에러발생:',e)\n",
    "    print('end')\n",
    "    \n",
    "exception_test()"
   ]
  },
  {
   "cell_type": "code",
   "execution_count": 10,
   "metadata": {},
   "outputs": [
    {
     "name": "stdout",
     "output_type": "stream",
     "text": [
      "start\n",
      "end\n"
     ]
    },
    {
     "name": "stderr",
     "output_type": "stream",
     "text": [
      "Traceback (most recent call last):\n",
      "  File \"<ipython-input-10-faea37aac0ef>\", line 5, in exception_test\n",
      "    print(2+'2')\n",
      "TypeError: unsupported operand type(s) for +: 'int' and 'str'\n"
     ]
    }
   ],
   "source": [
    "import traceback\n",
    "def exception_test():\n",
    "    print('start')\n",
    "    try:\n",
    "        print(2+'2')\n",
    "    except:\n",
    "        traceback.print_exc() #에러 메시지를 자세히 출력함\n",
    "    print('end')\n",
    "    \n",
    "exception_test()"
   ]
  },
  {
   "cell_type": "code",
   "execution_count": 35,
   "metadata": {},
   "outputs": [],
   "source": [
    "f=open('d:/python/temp/test.txt','w')\n",
    "f.write('테스트 파일')\n",
    "f.close()"
   ]
  },
  {
   "cell_type": "code",
   "execution_count": 36,
   "metadata": {},
   "outputs": [
    {
     "name": "stdout",
     "output_type": "stream",
     "text": [
      "테스트 파일"
     ]
    }
   ],
   "source": [
    "#없는 파일을 불러올 경우\n",
    "f = open('d:/python/temp/test.txt','r')\n",
    "for line in f:\n",
    "    print(line,end='')\n"
   ]
  },
  {
   "cell_type": "code",
   "execution_count": 30,
   "metadata": {},
   "outputs": [
    {
     "name": "stdout",
     "output_type": "stream",
     "text": [
      "존재하지 않는 파일입니다.\n"
     ]
    }
   ],
   "source": [
    "#없는 파일을 불러올 경우\n",
    "try: #예외가 발생할 가능성이 있는 코드\n",
    "    f = open('d:/python/temp/test.txt','r')\n",
    "except: #예외가 발생했을 때 처리할 코드\n",
    "    print('존재하지 않는 파일입니다.')\n",
    "else: #예외가 발생하지 않을 경우 처리할 코드\n",
    "    for line in f:\n",
    "        print(line,end='')"
   ]
  },
  {
   "cell_type": "code",
   "execution_count": 14,
   "metadata": {},
   "outputs": [
    {
     "name": "stdout",
     "output_type": "stream",
     "text": [
      "오존량 합계: 4887\n",
      "오존량 평균: 31.94\n"
     ]
    }
   ],
   "source": [
    "result=0\n",
    "with open('d:/data/ozone/ozone.csv','r') as f:\n",
    "    lines=f.readlines()\n",
    "    for line in lines[1:]:\n",
    "        row=line.split(',')\n",
    "        #print(row)\n",
    "        try: #예외가 발생했을때 처리할 코드\n",
    "            result += int(row[0])\n",
    "        \n",
    "        except: #예외가 발생하지 않을 경우 처리할 코드\n",
    "            pass\n",
    "        \n",
    "        \n",
    "print('오존량 합계:',result)\n",
    "print('오존량 평균: {:.2f}'.format(result/len(lines[1:])))"
   ]
  },
  {
   "cell_type": "code",
   "execution_count": 15,
   "metadata": {},
   "outputs": [
    {
     "name": "stdout",
     "output_type": "stream",
     "text": [
      "파일이름:d:/data/text/alice.txt,단어갯수:29461\n"
     ]
    }
   ],
   "source": [
    "filename = 'd:/data/text/alice.txt'\n",
    "with open(filename) as file:\n",
    "    contents=file.read() #파일 내용 전체를 변수 1개에 저장\n",
    "    words=contents.split() #공백 단위로 구분하여 리스트로 저장\n",
    "    num=len(words) #단어갯수\n",
    "    print('파일이름:'+filename+',단어갯수:'+str(num))"
   ]
  },
  {
   "cell_type": "code",
   "execution_count": 16,
   "metadata": {},
   "outputs": [
    {
     "name": "stdout",
     "output_type": "stream",
     "text": [
      "존재하지 않는 파일입니다.\n"
     ]
    }
   ],
   "source": [
    "try:\n",
    "    filename = 'd:/data/test/alice.txt'\n",
    "    with open(filename) as file:\n",
    "        contents=file.read()\n",
    "        words=contents.split()\n",
    "        num=len(words)\n",
    "        print('파일이름:'+filename+',단어갯수:'+str(num))\n",
    "except:\n",
    "    print('존재하지 않는 파일입니다.')\n",
    "    "
   ]
  },
  {
   "cell_type": "code",
   "execution_count": 17,
   "metadata": {},
   "outputs": [
    {
     "name": "stdout",
     "output_type": "stream",
     "text": [
      "파일이름:d:/data/text/little_women.txt, 단어갯수:189079\n"
     ]
    }
   ],
   "source": [
    "filename = 'd:/data/text/little_women.txt'\n",
    "with open(filename) as file:\n",
    "    contents=file.read()\n",
    "    words=contents.split()\n",
    "    num=len(words)\n",
    "    print('파일이름:'+filename+', 단어갯수:'+str(num))"
   ]
  },
  {
   "cell_type": "code",
   "execution_count": 18,
   "metadata": {},
   "outputs": [
    {
     "name": "stdout",
     "output_type": "stream",
     "text": [
      "파일이름:d:/data/text/moby_dick.txt, 단어갯수:215136\n"
     ]
    }
   ],
   "source": [
    "filename = 'd:/data/text/moby_dick.txt'\n",
    "with open(filename) as file:\n",
    "    contents=file.read()\n",
    "    words=contents.split()\n",
    "    num=len(words)\n",
    "    print('파일이름:'+filename+', 단어갯수:'+str(num))"
   ]
  },
  {
   "cell_type": "code",
   "execution_count": 21,
   "metadata": {},
   "outputs": [
    {
     "ename": "IndexError",
     "evalue": "list index out of range",
     "output_type": "error",
     "traceback": [
      "\u001b[1;31m---------------------------------------------------------------------------\u001b[0m",
      "\u001b[1;31mIndexError\u001b[0m                                Traceback (most recent call last)",
      "\u001b[1;32m<ipython-input-21-3b5fd8e0cb6b>\u001b[0m in \u001b[0;36m<module>\u001b[1;34m\u001b[0m\n\u001b[0;32m      1\u001b[0m \u001b[0ma\u001b[0m\u001b[1;33m=\u001b[0m\u001b[1;33m[\u001b[0m\u001b[1;36m1\u001b[0m\u001b[1;33m,\u001b[0m\u001b[1;36m2\u001b[0m\u001b[1;33m]\u001b[0m\u001b[1;33m\u001b[0m\u001b[1;33m\u001b[0m\u001b[0m\n\u001b[0;32m      2\u001b[0m \u001b[1;31m#print(4/0)\u001b[0m\u001b[1;33m\u001b[0m\u001b[1;33m\u001b[0m\u001b[1;33m\u001b[0m\u001b[0m\n\u001b[1;32m----> 3\u001b[1;33m \u001b[0mprint\u001b[0m\u001b[1;33m(\u001b[0m\u001b[0ma\u001b[0m\u001b[1;33m[\u001b[0m\u001b[1;36m2\u001b[0m\u001b[1;33m]\u001b[0m\u001b[1;33m)\u001b[0m\u001b[1;33m\u001b[0m\u001b[1;33m\u001b[0m\u001b[0m\n\u001b[0m",
      "\u001b[1;31mIndexError\u001b[0m: list index out of range"
     ]
    }
   ],
   "source": [
    "a=[1,2]\n",
    "#print(4/0)\n",
    "\n",
    "#IndexError\n",
    "print(a[2])"
   ]
  },
  {
   "cell_type": "code",
   "execution_count": 23,
   "metadata": {},
   "outputs": [
    {
     "name": "stdout",
     "output_type": "stream",
     "text": [
      "인덱싱 오류\n",
      "프로그램 종료\n"
     ]
    }
   ],
   "source": [
    "#여러개의 예외를 처리할 경우\n",
    "# except 절을 여러번 작성 할 수 있음\n",
    "#세부적인 예외를 위에 적고 Exception은 마지막에 작성\n",
    "# Exception : 모든 예외 처리 가능, 예외처리 최상위 클래스\n",
    "\n",
    "try:\n",
    "    a=[1,2]\n",
    "    #4/0\n",
    "    print(a[2])\n",
    "except ZeroDivisionError:\n",
    "    print('0으로 나눌 수 없습니다.')\n",
    "except IndexError:\n",
    "    print('인덱싱 오류')\n",
    "except Exception: #모든 예외 처리 가능\n",
    "    print('기타 오류')\n",
    "    \n",
    "print('프로그램 종료')"
   ]
  },
  {
   "cell_type": "code",
   "execution_count": 25,
   "metadata": {},
   "outputs": [
    {
     "name": "stdout",
     "output_type": "stream",
     "text": [
      "0으로 나눌 수 없습니다.\n",
      "인덱싱 오류\n",
      "프로그램 종료\n"
     ]
    }
   ],
   "source": [
    "try:\n",
    "    a=[1,2]\n",
    "    4/0\n",
    "except ZeroDivisionError:\n",
    "    print('0으로 나눌 수 없습니다.')\n",
    "\n",
    "try:\n",
    "    print(a[2])\n",
    "except:\n",
    "    print('인덱싱 오류')\n",
    "\n",
    "print('프로그램 종료')"
   ]
  },
  {
   "cell_type": "code",
   "execution_count": 26,
   "metadata": {},
   "outputs": [
    {
     "name": "stdout",
     "output_type": "stream",
     "text": [
      "오류가 발생했습니다.\n",
      "프로그램 종료\n"
     ]
    }
   ],
   "source": [
    "try:\n",
    "    a=[1,2]\n",
    "    4/0\n",
    "    print(a[2])\n",
    "except:\n",
    "    print('오류가 발생했습니다.')\n",
    "    \n",
    "print('프로그램 종료')"
   ]
  },
  {
   "cell_type": "code",
   "execution_count": 37,
   "metadata": {},
   "outputs": [
    {
     "name": "stdout",
     "output_type": "stream",
     "text": [
      "테스트 파일"
     ]
    },
    {
     "ename": "UnsupportedOperation",
     "evalue": "not writable",
     "output_type": "error",
     "traceback": [
      "\u001b[1;31m---------------------------------------------------------------------------\u001b[0m",
      "\u001b[1;31mUnsupportedOperation\u001b[0m                      Traceback (most recent call last)",
      "\u001b[1;32m<ipython-input-37-1611e38a3d25>\u001b[0m in \u001b[0;36m<module>\u001b[1;34m\u001b[0m\n\u001b[0;32m      6\u001b[0m     \u001b[0mprint\u001b[0m\u001b[1;33m(\u001b[0m\u001b[0mline\u001b[0m\u001b[1;33m,\u001b[0m\u001b[0mend\u001b[0m\u001b[1;33m=\u001b[0m\u001b[1;34m''\u001b[0m\u001b[1;33m)\u001b[0m\u001b[1;33m\u001b[0m\u001b[1;33m\u001b[0m\u001b[0m\n\u001b[0;32m      7\u001b[0m \u001b[1;33m\u001b[0m\u001b[0m\n\u001b[1;32m----> 8\u001b[1;33m \u001b[0mf\u001b[0m\u001b[1;33m.\u001b[0m\u001b[0mwrite\u001b[0m\u001b[1;33m(\u001b[0m\u001b[1;34m'test'\u001b[0m\u001b[1;33m)\u001b[0m \u001b[1;31m#에러발생\u001b[0m\u001b[1;33m\u001b[0m\u001b[1;33m\u001b[0m\u001b[0m\n\u001b[0m\u001b[0;32m      9\u001b[0m \u001b[0mf\u001b[0m\u001b[1;33m.\u001b[0m\u001b[0mclose\u001b[0m\u001b[1;33m(\u001b[0m\u001b[1;33m)\u001b[0m\u001b[1;33m\u001b[0m\u001b[1;33m\u001b[0m\u001b[0m\n",
      "\u001b[1;31mUnsupportedOperation\u001b[0m: not writable"
     ]
    }
   ],
   "source": [
    "f= open('d:/python/temp/test.txt','r')\n",
    "while True:\n",
    "    line = f.readline()\n",
    "    if not line:\n",
    "        break\n",
    "    print(line,end='')\n",
    "\n",
    "f.write('test') #에러발생\n",
    "f.close()"
   ]
  },
  {
   "cell_type": "code",
   "execution_count": 5,
   "metadata": {},
   "outputs": [
    {
     "name": "stdout",
     "output_type": "stream",
     "text": [
      "테스트 파일에러발생: not writable\n",
      "파일을 닫았습니다.\n",
      "프로그램 종료\n"
     ]
    }
   ],
   "source": [
    "try:\n",
    "    f= open('d:/python/temp/test.txt','r')\n",
    "    while True:\n",
    "        line = f.readline()\n",
    "        if not line:\n",
    "            break\n",
    "        print(line,end='')\n",
    "        \n",
    "    f.write('test') #에러발생\n",
    "except Exception as e: #예외가 발생했을 때 실행할 코드\n",
    "    print('에러발생:',e)\n",
    "finally: #예외 발생 여부에 관계 없이 항상 실행하는 코드\n",
    "    try:\n",
    "        f.close()\n",
    "        print('파일을 닫았습니다.')\n",
    "    except:\n",
    "        print('파일이 존재하지 않습니다.')\n",
    "\n",
    "print('프로그램 종료')"
   ]
  },
  {
   "cell_type": "code",
   "execution_count": 10,
   "metadata": {},
   "outputs": [
    {
     "name": "stdout",
     "output_type": "stream",
     "text": [
      "파일명:alice.txt,단어수:29461\n",
      "파일명:moby_dick.txt,단어수:215136\n",
      "파일명:little_women.txt,단어수:189079\n"
     ]
    }
   ],
   "source": [
    "def count_words(filename):\n",
    "    try:\n",
    "        with open('d:/data/text/'+filename) as f_obj:\n",
    "            contents=f_obj.read() #파일전체를 변수1개로 저장\n",
    "    except Exception as e: #파일을 열다가 에러가 발생할 경우\n",
    "        print('파일 작업 관련 에러...:',e)\n",
    "    else:\n",
    "        words=contents.split() #스페이스 단위로 나누어 리스트로 저장\n",
    "        #print(words[:50])\n",
    "        num_words=len(words)\n",
    "        print('파일명:'+filename+',단어수:'+str(num_words))\n",
    "        \n",
    "#파일이름을 저장한 리스트\n",
    "filenames=['alice.txt','moby_dick.txt','little_women.txt']\n",
    "#함수호출\n",
    "for filename in filenames:\n",
    "    count_words(filename)\n",
    "                  "
   ]
  },
  {
   "cell_type": "code",
   "execution_count": 11,
   "metadata": {},
   "outputs": [
    {
     "name": "stdout",
     "output_type": "stream",
     "text": [
      "파일명:alice.txt,단어수:29461\n",
      "파일명:moby_dick.txt,단어수:215136\n",
      "파일명:little_women.txt,단어수:189079\n"
     ]
    }
   ],
   "source": [
    "def count_words(filename):\n",
    "    try:\n",
    "        with open('d:/data/text/'+filename) as f_obj:\n",
    "            contents=f_obj.read() #파일전체를 변수1개로 저장\n",
    "            words=contents.split() #스페이스 단위로 나누어 리스트로 저장\n",
    "            #print(words[:50])\n",
    "            num_words=len(words)\n",
    "            print('파일명:'+filename+',단어수:'+str(num_words))\n",
    "        \n",
    "    except Exception as e: #파일을 열다가 에러가 발생할 경우\n",
    "        print('파일 작업 관련 에러...:',e)\n",
    "    #else:\n",
    "                \n",
    "#파일이름을 저장한 리스트\n",
    "filenames=['alice.txt','moby_dick.txt','little_women.txt']\n",
    "#함수호출\n",
    "for filename in filenames:\n",
    "    count_words(filename)\n",
    "                  "
   ]
  },
  {
   "cell_type": "code",
   "execution_count": 14,
   "metadata": {},
   "outputs": [
    {
     "name": "stdout",
     "output_type": "stream",
     "text": [
      "이름\t국어\t영어\t수학\t총점\t평균\t등급\n",
      "=======================================================\n",
      "김철수\t88\t80\t99\t267\t89.00\tB\n",
      "원유리\t99\t0\t100\t199\t66.33\tD\n",
      "한동숙\t100\t30\t70\t200\t66.67\tD\n",
      "전상빈\t100\t80\t70\t250\t83.33\tB\n"
     ]
    }
   ],
   "source": [
    "#파일 불러보기 & 저장\n",
    "print('이름\\t국어\\t영어\\t수학\\t총점\\t평균\\t등급')\n",
    "print('='*55)\n",
    "result=[]\n",
    "with open('d:/data/point/point.csv') as f: #auto close\n",
    "    lines=f.readlines() #모든 라인을 리스트로 저장\n",
    "    for line in lines[1:]:\n",
    "        #print(line,end='') #줄바꿈 문자 무시\n",
    "        row=line.split(',')\n",
    "        name=row[0]\n",
    "        try: #예외가 발생할 가능성이 있는 코드\n",
    "            kor=int(row[1])\n",
    "        except: #예외가 발생할 경우 실행할 코드\n",
    "            kor=0\n",
    "        try:\n",
    "            eng=int(row[2])\n",
    "        except:\n",
    "            eng=0\n",
    "        try:\n",
    "            mat=int(row[3])\n",
    "        except:\n",
    "            mat=0\n",
    "        total=kor+eng+mat\n",
    "        average=total/3\n",
    "        if average>=90:\n",
    "            grade='A'\n",
    "        elif 80<=average<90:\n",
    "            grade='B'\n",
    "        elif 70<=average<80:\n",
    "            grade='C'\n",
    "        elif 60<=average<70:\n",
    "            grade='D'\n",
    "        else:\n",
    "            grade='F'\n",
    "        \n",
    "        result.append([name,kor,eng,mat,total,average,grade])\n",
    "        print('{}\\t{}\\t{}\\t{}\\t{}\\t{:.2f}\\t{}'.format(name,kor,eng,mat,total,average,grade))"
   ]
  },
  {
   "cell_type": "code",
   "execution_count": 15,
   "metadata": {},
   "outputs": [
    {
     "data": {
      "text/plain": [
       "[['김철수', 88, 80, 99, 267, 89.0, 'B'],\n",
       " ['원유리', 99, 0, 100, 199, 66.33333333333333, 'D'],\n",
       " ['한동숙', 100, 30, 70, 200, 66.66666666666667, 'D'],\n",
       " ['전상빈', 100, 80, 70, 250, 83.33333333333333, 'B']]"
      ]
     },
     "execution_count": 15,
     "metadata": {},
     "output_type": "execute_result"
    }
   ],
   "source": [
    "result"
   ]
  },
  {
   "cell_type": "code",
   "execution_count": 19,
   "metadata": {},
   "outputs": [
    {
     "name": "stdout",
     "output_type": "stream",
     "text": [
      "저장되었습니다.\n"
     ]
    }
   ],
   "source": [
    "with open('d:/data/point/output.csv','w') as f:\n",
    "    #헤더 저장\n",
    "    f.write('이름,국어,영어,수학,총점,평균,등급\\n')\n",
    "    #데이터 저장\n",
    "    for row in result:\n",
    "        for idx in range(7): #0~6번 필드\n",
    "            if idx<6: #마지막 필드가 아니면 컴머로 연결\n",
    "                f.write(str(row[idx])+',')\n",
    "            else: #마지막 필드이면 줄바꿈 처리\n",
    "                f.write(str(row[idx])+'\\n')\n",
    "                \n",
    "print('저장되었습니다.')"
   ]
  },
  {
   "cell_type": "code",
   "execution_count": null,
   "metadata": {},
   "outputs": [],
   "source": []
  },
  {
   "cell_type": "code",
   "execution_count": null,
   "metadata": {},
   "outputs": [],
   "source": []
  },
  {
   "cell_type": "code",
   "execution_count": null,
   "metadata": {},
   "outputs": [],
   "source": []
  },
  {
   "cell_type": "code",
   "execution_count": null,
   "metadata": {},
   "outputs": [],
   "source": []
  },
  {
   "cell_type": "code",
   "execution_count": null,
   "metadata": {},
   "outputs": [],
   "source": []
  },
  {
   "cell_type": "code",
   "execution_count": null,
   "metadata": {},
   "outputs": [],
   "source": []
  },
  {
   "cell_type": "code",
   "execution_count": null,
   "metadata": {},
   "outputs": [],
   "source": []
  },
  {
   "cell_type": "code",
   "execution_count": null,
   "metadata": {},
   "outputs": [],
   "source": []
  },
  {
   "cell_type": "code",
   "execution_count": null,
   "metadata": {},
   "outputs": [],
   "source": []
  },
  {
   "cell_type": "code",
   "execution_count": null,
   "metadata": {},
   "outputs": [],
   "source": []
  },
  {
   "cell_type": "code",
   "execution_count": null,
   "metadata": {},
   "outputs": [],
   "source": []
  },
  {
   "cell_type": "code",
   "execution_count": null,
   "metadata": {},
   "outputs": [],
   "source": []
  },
  {
   "cell_type": "code",
   "execution_count": null,
   "metadata": {},
   "outputs": [],
   "source": []
  },
  {
   "cell_type": "code",
   "execution_count": null,
   "metadata": {},
   "outputs": [],
   "source": []
  }
 ],
 "metadata": {
  "kernelspec": {
   "display_name": "Python 3",
   "language": "python",
   "name": "python3"
  },
  "language_info": {
   "codemirror_mode": {
    "name": "ipython",
    "version": 3
   },
   "file_extension": ".py",
   "mimetype": "text/x-python",
   "name": "python",
   "nbconvert_exporter": "python",
   "pygments_lexer": "ipython3",
   "version": "3.7.4"
  }
 },
 "nbformat": 4,
 "nbformat_minor": 2
}
