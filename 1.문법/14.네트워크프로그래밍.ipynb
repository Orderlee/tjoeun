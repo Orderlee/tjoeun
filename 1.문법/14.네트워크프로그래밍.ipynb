{
 "cells": [
  {
   "cell_type": "code",
   "execution_count": null,
   "metadata": {},
   "outputs": [],
   "source": [
    "#메시지 서버\n",
    "import socket #소켓 모듈\n",
    "HOST='' #호스트(ip, 생략하면 내 컴퓨터)\n",
    "PORT=9009 #서비스 제공을 위한 포트번호\n",
    "\n",
    "def runServer(): #함수 선언\n",
    "    with socket.socket(socket.AF_INET, socket.SOCK_STREAM) as sock:\n",
    "        sock.bind((HOST,PORT)) #지정된 ip,port에 연결\n",
    "        sock.listen(1) #연결가능한 클라이언트수 지정(5까지 가능)\n",
    "        print('클라이언트의 연결을 기다리는 중...')\n",
    "        conn, addr= sock.accept() #접속할 때까지 대기\n",
    "        \n",
    "    with conn:\n",
    "        print('[%s]와 연결됨' % addr[0])\n",
    "        while True:\n",
    "            data=conn.recv(1024) #데이터 수신\n",
    "            if not data: #데이터가 없으면 종료\n",
    "                break\n",
    "            # decode() 바이너리 형식을 텍스트 형식으로 변환\n",
    "            print('메시지 수신:[%s]' % data.decode())\n",
    "            conn.sendall((addr[0]+'님의 방문을 환영합니다.').encode()) #클라이언트에게 전송   # conn.sendall(data)\n",
    "\n",
    "runServer() #함수호출"
   ]
  },
  {
   "cell_type": "code",
   "execution_count": null,
   "metadata": {},
   "outputs": [],
   "source": [
    "#클라이언트측 프로그램\n",
    "import socket\n",
    "HOST='localhost'\n",
    "PORT=9009\n",
    "\n",
    "with socket.socket(socket.AF_INET, socket.SOCK_STREAM) as sock:\n",
    "    sock.connect((HOST,PORT)) #서버에 접속\n",
    "    msg=input('메시지를 입력하세요:')\n",
    "    #텍스트를 바이너리 형식으로 변환하여 서버에 전달\n",
    "    sock.sendall(msg.encode())\n",
    "    #서버로부터 바이너리 형식의 데이터를 받음\n",
    "    data=sock.recv(1024)\n",
    "    \n",
    "print('서버로부터 받은 데이터:[%s]' % data.decode())\n"
   ]
  },
  {
   "cell_type": "code",
   "execution_count": null,
   "metadata": {},
   "outputs": [],
   "source": [
    "#서버2\n",
    "import socketserver\n",
    "import sys\n",
    "HOST=''\n",
    "PORT=9009\n",
    "\n",
    "class MyTcpHandler(socketserver.BaseRequestHandler):\n",
    "    def handle(self):\n",
    "        print('[%s]와 연결됨' % self.client_address[0])\n",
    "        try:\n",
    "            while True:\n",
    "                self.data=self.request.recv(1024)\n",
    "                if self.data.decode=='/quit':\n",
    "                    print('[%s] 사용자에 의해 중단' % self.client_address[0])\n",
    "                    return\n",
    "                print('[%s]' % self.data.decode())\n",
    "                \n",
    "                msg = input('메시지 입력:')\n",
    "                if msg == '/quit':\n",
    "                    self.request.sendall('/quit'.encode())\n",
    "                    print('서비스를 종료합니다.')\n",
    "                    sys.exit()\n",
    "               \n",
    "                self.request.sendall(self.data)\n",
    "        except Exception as e:\n",
    "            print(e)\n",
    "            \n",
    "def runServer():\n",
    "    print('서버 시작...')\n",
    "    print('끝내시려면 Ctrl+C를 누르세요.')\n",
    "    try:\n",
    "        server=socketserver.TCPServer((HOST,PORT), MyTcpHandler)\n",
    "        server.serve_forever() #클라이언트의 접속을 기다림\n",
    "    except KeyboardInterrupt:\n",
    "        print('서버를 종료합니다.')\n",
    "runServer()"
   ]
  },
  {
   "cell_type": "code",
   "execution_count": null,
   "metadata": {},
   "outputs": [],
   "source": [
    "#클라이언트2\n",
    "import socket\n",
    "import sys\n",
    "HOST='localhost'\n",
    "PORT=9009\n",
    "\n",
    "with socket.socket(socket.AF_INET,socket.SOCK_STREAM) as sock:\n",
    "    sock.connect((HOST,PORT)) #서버에 접속\n",
    "    while True:\n",
    "        msg = input('메시지 입력:')\n",
    "        if msg == '/quit':\n",
    "            sock.sendall(msg.encode())\n",
    "            break\n",
    "        sock.sendall(msg.encode()) #바이너리로 바꿔서 전송\n",
    "        data = sock.recv(1024)\n",
    "        if data.decode()=='/quit':\n",
    "            print('프로그램을 종료합니다.')\n",
    "            sys.exit()\n",
    "        print('서버로부터 받은 메시지: [%s]' %data.decode())\n",
    "    \n",
    "print('클라이언트 종료')"
   ]
  },
  {
   "cell_type": "code",
   "execution_count": null,
   "metadata": {},
   "outputs": [],
   "source": []
  },
  {
   "cell_type": "code",
   "execution_count": null,
   "metadata": {},
   "outputs": [],
   "source": []
  },
  {
   "cell_type": "code",
   "execution_count": null,
   "metadata": {},
   "outputs": [],
   "source": []
  },
  {
   "cell_type": "code",
   "execution_count": null,
   "metadata": {},
   "outputs": [],
   "source": []
  },
  {
   "cell_type": "code",
   "execution_count": null,
   "metadata": {},
   "outputs": [],
   "source": []
  },
  {
   "cell_type": "code",
   "execution_count": null,
   "metadata": {},
   "outputs": [],
   "source": []
  },
  {
   "cell_type": "code",
   "execution_count": null,
   "metadata": {},
   "outputs": [],
   "source": []
  },
  {
   "cell_type": "code",
   "execution_count": null,
   "metadata": {},
   "outputs": [],
   "source": []
  }
 ],
 "metadata": {
  "kernelspec": {
   "display_name": "Python 3",
   "language": "python",
   "name": "python3"
  },
  "language_info": {
   "codemirror_mode": {
    "name": "ipython",
    "version": 3
   },
   "file_extension": ".py",
   "mimetype": "text/x-python",
   "name": "python",
   "nbconvert_exporter": "python",
   "pygments_lexer": "ipython3",
   "version": "3.7.4"
  }
 },
 "nbformat": 4,
 "nbformat_minor": 2
}
