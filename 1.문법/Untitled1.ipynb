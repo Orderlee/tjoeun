{
 "cells": [
  {
   "cell_type": "code",
   "execution_count": 1,
   "metadata": {},
   "outputs": [
    {
     "name": "stdout",
     "output_type": "stream",
     "text": [
      "['a', 'a', 'a']\n",
      "['ka', 'ka', 'ka']\n",
      "['r', 'r', 'r', 'r', 'r']\n"
     ]
    }
   ],
   "source": [
    "import re\n",
    "s= 'My ID number is grrrrkakakak5585'\n",
    "a=re.findall('a',s)\n",
    "print(a)\n",
    "\n",
    "b=re.findall('ka',s)\n",
    "print(b)\n",
    "\n",
    "c=re.findall('r',s)\n",
    "print(c)"
   ]
  },
  {
   "cell_type": "code",
   "execution_count": 2,
   "metadata": {},
   "outputs": [
    {
     "name": "stdout",
     "output_type": "stream",
     "text": [
      "['y', 'n', 'u', 'm', 'b', 'e', 'r', 'i', 's', 'g', 'r', 'r', 'r', 'r', 'k', 'a', 'k', 'a', 'k', 'a', 'k']\n",
      "['y', 'number', 'is', 'grrrrkakakak']\n",
      "['M', 'I', 'D']\n",
      "['M', 'ID']\n",
      "['5', '5', '8', '5']\n",
      "['5585']\n"
     ]
    }
   ],
   "source": [
    "s= 'My ID number is grrrrkakakak5585'\n",
    "a=re.findall('[a-z]',s)\n",
    "print(a)\n",
    "\n",
    "b=re.findall('[a-z]+',s)\n",
    "print(b)\n",
    "\n",
    "c=re.findall('[A-Z]',s)\n",
    "print(c)\n",
    "\n",
    "d=re.findall('[A-Z]+',s)\n",
    "print(d)\n",
    "\n",
    "e=re.findall('[0-9]',s)\n",
    "print(e)\n",
    "\n",
    "f=re.findall('[0-9]+',s)\n",
    "print(f)"
   ]
  },
  {
   "cell_type": "code",
   "execution_count": 7,
   "metadata": {},
   "outputs": [
    {
     "name": "stdout",
     "output_type": "stream",
     "text": [
      "['M', 'y', 'I', 'D', 'n', 'u', 'm', 'b', 'e', 'r', 'i', 's', 'g', 'r', 'r', 'r', 'r', 'k', 'a', 'k', 'a', 'k', 'a', 'k', '5', '5', '8', '5']\n",
      "['My', 'ID', 'number', 'is', 'grrrrkakakak', '5585']\n",
      "[' ', ' ', ' ', ' ', '_', '%', '&', '$', '%', '^']\n",
      "['M', 'y', 'I', 'D', 'n', 'u', 'm', 'b', 'e', 'r', 'i', 's', 'g', 'r', 'r', 'r', 'r', 'k', 'a', 'k', 'a', 'k', 'a', 'k', '_', '5', '5', '8', '5']\n",
      "['My', 'ID', 'number', 'is', 'grrrrkakakak_', '5585']\n",
      "[' ', ' ', ' ', ' ', '%', '&', '$', '%', '^']\n",
      "[' ', ' ', ' ', ' ', '%&$%^']\n"
     ]
    }
   ],
   "source": [
    "s= 'My ID number is grrrrkakakak_%&$%^5585'\n",
    "a=re.findall('[a-zA-Z0-9]',s)\n",
    "print(a)\n",
    "\n",
    "b=re.findall('[a-zA-Z0-9]+',s)\n",
    "print(b)\n",
    "\n",
    "c=re.findall('[^a-zA-Z0-9]',s)\n",
    "print(c)\n",
    "\n",
    "d=re.findall('[\\w]',s)\n",
    "print(d)\n",
    "\n",
    "e=re.findall('[\\w]+',s)\n",
    "print(e)\n",
    "\n",
    "f=re.findall('[\\W]',s)\n",
    "print(f)\n",
    "\n",
    "g=re.findall('[\\W]+',s)\n",
    "print(g)"
   ]
  },
  {
   "cell_type": "code",
   "execution_count": 18,
   "metadata": {},
   "outputs": [
    {
     "name": "stdout",
     "output_type": "stream",
     "text": [
      "434ad 의 길이가 적당하지 않습니다.\n",
      "1234567890abcdef 의 길이가 적당하지 않습니다.\n",
      "1234abc$ ==> 숫자와 영문자로만 구성되어야 합니다.\n",
      "123AAAdfA ==> 올바른 비밀 번호입니다.\n"
     ]
    },
    {
     "data": {
      "text/plain": [
       "True"
      ]
     },
     "execution_count": 18,
     "metadata": {},
     "output_type": "execute_result"
    }
   ],
   "source": [
    "import re\n",
    "def pwd_check(pwd):\n",
    "    if len(pwd) <6 or len(pwd) >15:\n",
    "        print(pwd, '의 길이가 적당하지 않습니다.')\n",
    "        return False\n",
    "    if re.findall('[a-zA-Z0-9]+',pwd)[0] != pwd:\n",
    "        print(pwd, '==> 숫자와 영문자로만 구성되어야 합니다.')\n",
    "        return False\n",
    "    if len(re.findall('[a-z]',pwd))==0 or len(re.findall('[A-Z]',pwd))==0 or len(re.findall('[0-9]',pwd))==0:\n",
    "        print(pwd, '==> 대문자,소문자와 숫자 모두 필요합니다.')\n",
    "        return False\n",
    "    print(pwd, '==> 올바른 비밀 번호입니다.')\n",
    "    return True\n",
    "\n",
    "pwd_check('434ad')\n",
    "pwd_check('1234567890abcdef')\n",
    "pwd_check('1234abc$')\n",
    "pwd_check('123AAAdfA')"
   ]
  },
  {
   "cell_type": "code",
   "execution_count": 3,
   "metadata": {},
   "outputs": [
    {
     "name": "stdout",
     "output_type": "stream",
     "text": [
      "16\n",
      "27\n",
      "95367431640625\n"
     ]
    }
   ],
   "source": [
    "a = pow(2,4)\n",
    "print(a)\n",
    "b=pow(3,3)\n",
    "print(b)\n",
    "c=pow(5,20)\n",
    "print(c)"
   ]
  },
  {
   "cell_type": "code",
   "execution_count": 16,
   "metadata": {},
   "outputs": [
    {
     "name": "stdout",
     "output_type": "stream",
     "text": [
      "[0]\n",
      "[0, 1, 2, 3, 4, 5, 6, 7, 8, 9, 10, 11, 12, 13, 14, 15, 16, 17, 18, 19, 20, 21, 22, 23, 24, 25, 26, 27, 28, 29, 30, 31, 32, 33, 34, 35, 36, 37, 38, 39, 40, 41, 42, 43, 44, 45, 46, 47, 48, 49, 50, 51, 52, 53, 54, 55, 56, 57, 58, 59, 60, 61, 62, 63, 64, 65, 66, 67, 68, 69, 70, 71, 72, 73, 74, 75, 76, 77, 78, 79, 80, 81, 82, 83, 84, 85, 86, 87, 88, 89]\n",
      "[20, 21, 22, 23, 24, 25, 26, 27, 28, 29, 30, 31, 32, 33, 34, 35, 36, 37, 38, 39, 40, 41, 42, 43, 44, 45, 46, 47, 48, 49, 50, 51, 52, 53, 54, 55, 56, 57, 58, 59, 60, 61, 62, 63, 64, 65, 66, 67, 68, 69, 70, 71, 72, 73, 74, 75, 76, 77, 78, 79, 80, 81, 82, 83, 84, 85, 86, 87, 88, 89, 90, 91, 92, 93, 94, 95, 96, 97, 98, 99]\n",
      "[10, 11, 12, 13, 14, 15, 16, 17, 18, 19, 20, 21, 22, 23, 24, 25, 26, 27, 28, 29]\n",
      "[0, 20, 40, 60, 80]\n",
      "[0, -1, -2, -3, -4, -5, -6, -7, -8, -9, -10, -11, -12, -13, -14, -15, -16, -17, -18, -19, -20, -21, -22, -23, -24, -25, -26, -27, -28, -29]\n"
     ]
    }
   ],
   "source": [
    "a = list(range(1))\n",
    "print(a)\n",
    "a = list(range(90))\n",
    "print(a)\n",
    "b = list(range(20,100))\n",
    "print(b)\n",
    "c= list(range(10,30))\n",
    "print(c)\n",
    "d = list(range(0,100,20))\n",
    "print(d)\n",
    "e=list(range(0,-30,-1))\n",
    "print(e)"
   ]
  },
  {
   "cell_type": "code",
   "execution_count": 1,
   "metadata": {},
   "outputs": [
    {
     "name": "stdout",
     "output_type": "stream",
     "text": [
      "색상을 입력하세요.blue\n",
      "건너가세요.\n"
     ]
    }
   ],
   "source": [
    "color = input('색상을 입력하세요.')\n",
    "if color == 'blue':\n",
    "    print('건너가세요.')\n",
    "else:\n",
    "    print('기다리세요.')"
   ]
  },
  {
   "cell_type": "code",
   "execution_count": 2,
   "metadata": {},
   "outputs": [
    {
     "name": "stdout",
     "output_type": "stream",
     "text": [
      "짝수입니다.\n"
     ]
    }
   ],
   "source": [
    "num = 100\n",
    "if num %2 ==0:\n",
    "    print('짝수입니다.')\n",
    "else:\n",
    "    print('홀수입니다.')"
   ]
  },
  {
   "cell_type": "code",
   "execution_count": 3,
   "metadata": {},
   "outputs": [
    {
     "name": "stdout",
     "output_type": "stream",
     "text": [
      "홀수입니다.\n"
     ]
    }
   ],
   "source": [
    "num = 101\n",
    "if num %2==0:\n",
    "    print('짝수입니다.')\n",
    "else: \n",
    "    print('홀수입니다.')"
   ]
  },
  {
   "cell_type": "code",
   "execution_count": 5,
   "metadata": {},
   "outputs": [
    {
     "name": "stdout",
     "output_type": "stream",
     "text": [
      "택시를\n",
      "타고\n",
      "간다.\n"
     ]
    }
   ],
   "source": [
    "money = 10000\n",
    "if money:\n",
    "    print(\"택시를\")\n",
    "    print('타고')\n",
    "    print('간다.')"
   ]
  },
  {
   "cell_type": "code",
   "execution_count": 7,
   "metadata": {},
   "outputs": [
    {
     "name": "stdout",
     "output_type": "stream",
     "text": [
      "[2, 4, 6, 8]\n",
      "[2, 3, 4, 5, 6]\n"
     ]
    }
   ],
   "source": [
    "def calc(x):\n",
    "    return x*2\n",
    "a=list(map(calc,[1,2,3,4]))\n",
    "print(a)\n",
    "\n",
    "def plus(x):\n",
    "    return x+1\n",
    "print(list(map(plus,[1,2,3,4,5])))"
   ]
  },
  {
   "cell_type": "code",
   "execution_count": 3,
   "metadata": {},
   "outputs": [
    {
     "name": "stdout",
     "output_type": "stream",
     "text": [
      "Hello World!\n"
     ]
    }
   ],
   "source": [
    "print('Hello World!')"
   ]
  },
  {
   "cell_type": "code",
   "execution_count": 4,
   "metadata": {},
   "outputs": [
    {
     "name": "stdout",
     "output_type": "stream",
     "text": [
      "토끼야 안녕!\n"
     ]
    }
   ],
   "source": [
    "print('토끼야 안녕!')"
   ]
  },
  {
   "cell_type": "code",
   "execution_count": null,
   "metadata": {},
   "outputs": [],
   "source": []
  },
  {
   "cell_type": "code",
   "execution_count": null,
   "metadata": {},
   "outputs": [],
   "source": []
  },
  {
   "cell_type": "code",
   "execution_count": null,
   "metadata": {},
   "outputs": [],
   "source": []
  },
  {
   "cell_type": "code",
   "execution_count": null,
   "metadata": {},
   "outputs": [],
   "source": []
  },
  {
   "cell_type": "code",
   "execution_count": null,
   "metadata": {},
   "outputs": [],
   "source": []
  },
  {
   "cell_type": "code",
   "execution_count": null,
   "metadata": {},
   "outputs": [],
   "source": []
  },
  {
   "cell_type": "code",
   "execution_count": null,
   "metadata": {},
   "outputs": [],
   "source": []
  },
  {
   "cell_type": "code",
   "execution_count": null,
   "metadata": {},
   "outputs": [],
   "source": []
  },
  {
   "cell_type": "code",
   "execution_count": null,
   "metadata": {},
   "outputs": [],
   "source": []
  },
  {
   "cell_type": "code",
   "execution_count": null,
   "metadata": {},
   "outputs": [],
   "source": []
  },
  {
   "cell_type": "code",
   "execution_count": null,
   "metadata": {},
   "outputs": [],
   "source": []
  },
  {
   "cell_type": "code",
   "execution_count": null,
   "metadata": {},
   "outputs": [],
   "source": []
  },
  {
   "cell_type": "code",
   "execution_count": null,
   "metadata": {},
   "outputs": [],
   "source": []
  }
 ],
 "metadata": {
  "kernelspec": {
   "display_name": "Python 3",
   "language": "python",
   "name": "python3"
  },
  "language_info": {
   "codemirror_mode": {
    "name": "ipython",
    "version": 3
   },
   "file_extension": ".py",
   "mimetype": "text/x-python",
   "name": "python",
   "nbconvert_exporter": "python",
   "pygments_lexer": "ipython3",
   "version": "3.7.4"
  }
 },
 "nbformat": 4,
 "nbformat_minor": 2
}
