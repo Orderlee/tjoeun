{
 "cells": [
  {
   "cell_type": "code",
   "execution_count": null,
   "metadata": {},
   "outputs": [],
   "source": [
    "import tkinter as tk\n",
    "\n",
    "main=tk.Tk() #프레임 생성\n",
    "main.mainloop() #프로그램 시작"
   ]
  },
  {
   "cell_type": "code",
   "execution_count": null,
   "metadata": {},
   "outputs": [],
   "source": [
    "import tkinter as tk\n",
    "\n",
    "main=tk.Tk()\n",
    "main.title('gui 테스트') #프레임의 타이틀\n",
    "main.geometry('240x120') #프레임의 사이즈 설정\n",
    "main.mainloop()"
   ]
  },
  {
   "cell_type": "code",
   "execution_count": null,
   "metadata": {},
   "outputs": [],
   "source": [
    "import tkinter as tk\n",
    "\n",
    "main=tk.Tk()\n",
    "main.title('gui 테스트') #프레임의 타이틀\n",
    "main.geometry('240x120') #프레임의 사이즈 설정\n",
    "main.resizable(False,False) #프레임 사이즈 변경 금지\n",
    "#버튼 생성, width height 가로세로 크기\n",
    "button=tk.Button(main, text='버튼1',width=30,height=5)\n",
    "#버튼 크기에 맞게 화면에 배치\n",
    "button.pack()\n",
    "\n",
    "main.mainloop()#프로그램 시작"
   ]
  },
  {
   "cell_type": "code",
   "execution_count": null,
   "metadata": {},
   "outputs": [],
   "source": [
    "import tkinter as tk\n",
    "\n",
    "main=tk.Tk()\n",
    "main.title('gui 테스트') #프레임의 타이틀\n",
    "main.geometry('240x120') #프레임의 사이즈 설정\n",
    "main.resizable(False,False) #프레임 사이즈 변경 금지\n",
    "#버튼 생성, width height 가로세로 크기\n",
    "button=tk.Button(main, text='버튼1',width=30,height=5,background='blue',\n",
    "                foreground='red')\n",
    "#버튼 크기에 맞게 화면에 배치\n",
    "button.pack()\n",
    "\n",
    "main.mainloop()#프로그램 시작"
   ]
  },
  {
   "cell_type": "code",
   "execution_count": null,
   "metadata": {},
   "outputs": [],
   "source": [
    "import tkinter as tk\n",
    "\n",
    "main=tk.Tk()\n",
    "main.title('gui 테스트') #프레임의 타이틀\n",
    "main.geometry('240x120') #프레임의 사이즈 설정\n",
    "main.resizable(False,False) #프레임 사이즈 변경 금지\n",
    "#버튼 생성, width height 가로세로 크기\n",
    "button=tk.Button(main, text='버튼1',background='blue',\n",
    "                foreground='red')\n",
    "# x,y좌표에 width,height 사이즈로 배치\n",
    "button.place(x=200,y=100,height=50,width=100)\n",
    "#버튼 크기에 맞게 화면에 배치\n",
    "button.pack()\n",
    "\n",
    "main.mainloop()#프로그램 시작"
   ]
  },
  {
   "cell_type": "code",
   "execution_count": 6,
   "metadata": {},
   "outputs": [],
   "source": [
    "import tkinter as tk\n",
    "root=tk.Tk()\n",
    "root.title('버튼 클릭 이벤트')\n",
    "root.geometry('240x120')\n",
    "\n",
    "\n",
    "txt=tk.StringVar() #스트링 변수\n",
    "#한줄 입력 테스트 상자\n",
    "entry=tk.Entry(root,textvariable=txt)\n",
    "entry.pack()\n",
    "\n",
    "def hello():\n",
    "    #label.config(text='안녕하세요')\n",
    "    #label.config(text=txt.get())\n",
    "    label['text']=txt.get()\n",
    "\n",
    "    #버튼을 누르면 hello 함수가 실행됨    \n",
    "button=tk.Button(root,text='hello',command=hello)\n",
    "button.pack()\n",
    "#라벨(화면에 표시되는 문자열)\n",
    "label=tk.Label(root)\n",
    "label.pack()\n",
    "\n",
    "root.mainloop()"
   ]
  },
  {
   "cell_type": "code",
   "execution_count": 5,
   "metadata": {},
   "outputs": [],
   "source": [
    "import tkinter as tk\n",
    "root=tk.Tk()\n",
    "root.title('구구단 계산')\n",
    "root.geometry('240x120')\n",
    "\n",
    "\n",
    "txt=tk.StringVar() #스트링 변수\n",
    "#한줄 입력 테스트 상자\n",
    "entry=tk.Entry(root,textvariable=txt)\n",
    "entry.pack()\n",
    "\n",
    "def hello():\n",
    "    dan=int(txt.get()) #스트링을 숫자로 변환\n",
    "    if 2<= dan<=9:\n",
    "        label['text']='{}단\\n'.format(dan)\n",
    "        result=''\n",
    "        for i in range(1,10):\n",
    "            result += '{}x{}={}\\n'.format(dan,i,dan*i)\n",
    "\n",
    "        label['text'] += result\n",
    "    else:\n",
    "        label['text']='2~9단만 가능합니다.'\n",
    "\n",
    "    \n",
    "button=tk.Button(root,text='계산',command=hello)\n",
    "button.pack()\n",
    "label=tk.Label(root)\n",
    "label.pack()\n",
    "\n",
    "root.mainloop()"
   ]
  },
  {
   "cell_type": "code",
   "execution_count": null,
   "metadata": {},
   "outputs": [],
   "source": []
  }
 ],
 "metadata": {
  "kernelspec": {
   "display_name": "Python 3",
   "language": "python",
   "name": "python3"
  },
  "language_info": {
   "codemirror_mode": {
    "name": "ipython",
    "version": 3
   },
   "file_extension": ".py",
   "mimetype": "text/x-python",
   "name": "python",
   "nbconvert_exporter": "python",
   "pygments_lexer": "ipython3",
   "version": "3.7.4"
  }
 },
 "nbformat": 4,
 "nbformat_minor": 2
}
