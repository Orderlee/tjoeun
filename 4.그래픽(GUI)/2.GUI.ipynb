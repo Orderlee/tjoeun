{
 "cells": [
  {
   "cell_type": "code",
   "execution_count": null,
   "metadata": {},
   "outputs": [],
   "source": [
    "import wx\n",
    "\n",
    "app= wx.App() #애플리케이션 생성\n",
    "frame = wx.Frame(None) #프레임 생성 Frame(부모창) None 부모창 없음\n",
    "frame.SetTitle('프레임 테스트') #타이틀 변경\n",
    "frame.Show(True) #프레임을 화면에 표시\n",
    "app.MainLoop() #애플리케이션 시작"
   ]
  },
  {
   "cell_type": "code",
   "execution_count": null,
   "metadata": {},
   "outputs": [],
   "source": [
    "import wx\n",
    "\n",
    "#class 클래스 이름(부모클래스)\n",
    "class MyApp(wx.App):\n",
    "    #애플리케이션을 초기화시키는 함수(MainLoop()를 호출하면 OnInit이 호출됨)\n",
    "    def OnInit(self):\n",
    "        #프레임 생성\n",
    "        frame = wx.Frame(None)\n",
    "        frame.SetTitle('임시창')  \n",
    "        #프레임을 화면에 표시\n",
    "        frame.Show(True)\n",
    "        return True\n",
    "    \n",
    "app=MyApp()\n",
    "app.MainLoop()"
   ]
  },
  {
   "cell_type": "code",
   "execution_count": 4,
   "metadata": {},
   "outputs": [
    {
     "data": {
      "text/plain": [
       "0"
      ]
     },
     "execution_count": 4,
     "metadata": {},
     "output_type": "execute_result"
    }
   ],
   "source": [
    "import wx\n",
    "\n",
    "app=wx.App() #애플리케이션 생성\n",
    "frame=wx.Frame(None) #프레임 생성\n",
    "\n",
    "size=wx.Size(600,400) #가로,세로 사이즈\n",
    "frame.SetSize(size) #프레임 사이즈 설정\n",
    "pos=wx.Point(100,100) #좌표\n",
    "frame.SetPosition(pos) #출력좌표 설정\n",
    "color=wx.Colour(70,86,60,0) #색상 red,green,blue,Alpha 투명도\n",
    "frame.SetBackgroundColour(color) #배경색상설정\n",
    "frame.SetTitle('파이썬으로 만든 윈도우') #프레임 타이틀\n",
    "#기본스타일 + 크기조절금지\n",
    "frame.SetWindowStyle(wx.DEFAULT_FRAME_STYLE & ~wx.RESIZE_BORDER)\n",
    "\n",
    "frame.Show(True) #프레임을 화며에 표시\n",
    "app.MainLoop() #응용 프로그램 시작"
   ]
  },
  {
   "cell_type": "code",
   "execution_count": null,
   "metadata": {},
   "outputs": [],
   "source": [
    "#위젯: 버튼,체크박스,콤보박스,텍스트박스\n",
    "#컨테이너 : 컴포넌트를 담을 수 있는 그릇 역할\n",
    "#컴포넌트 : 화면 구성 요소\n",
    "\n",
    "import wx\n",
    "app=wx.App()\n",
    "frame=wx.Frame(None, title=\"wxPython\")\n",
    "#버튼 생성 Button(컨테이너,label='텍스트')\n",
    "btn=wx.Button(frame, label=\"Click\")\n",
    "def OnClick(event):\n",
    "    wx.MessageBox(\"버튼을 클릭하였습니다.\",\"알림\",wx.OK)\n",
    "\n",
    "#EVT_BUTTON 버튼 클릭 이벤트 연결    \n",
    "btn.Bind(wx.EVT_BUTTON, OnClick)\n",
    "\n",
    "frame.Show(True)\n",
    "app.MainLoop()"
   ]
  },
  {
   "cell_type": "code",
   "execution_count": null,
   "metadata": {},
   "outputs": [],
   "source": [
    "import wx\n",
    "\n",
    "app=wx.App()\n",
    "frame=wx.Frame(None, title='버튼 테스트')\n",
    "\n",
    "btn=wx.Button(frame, label='클릭하세요.',size=(250,200))\n",
    "def OnClick(event):\n",
    "    wx.MessageBox('버튼을 클릭하엿습니다.','알림',wx.OK)\n",
    "    exit()\n",
    "btn.Bind(wx.EVT_BUTTON, OnClick)\n",
    "#StaticText 입력용이 아닌 정적인 텍스트\n",
    "lbl=wx.StaticText(frame, label='Text')\n",
    "#위젯(컴포넌트)의 좌표값 지정\n",
    "btn.SetPosition(wx.Point(150,100))\n",
    "lbl.SetPosition(wx.Point(180,60))\n",
    "\n",
    "frame.Show(True)\n",
    "app.MainLoop()"
   ]
  },
  {
   "cell_type": "code",
   "execution_count": null,
   "metadata": {},
   "outputs": [],
   "source": [
    "import wx\n",
    "\n",
    "app=wx.App()\n",
    "frame=wx.Frame(None, title='배치방법')\n",
    "# size=(width,height) 가로세로 사이즈\n",
    "btn1=wx.Button(frame, label=\"Button1\",size=(50,50_))\n",
    "btn2=wx.Button(frame, label=\"Button2\",size=(150,150))\n",
    "btn3=wx.Button(frame, label=\"Button3\",size=(50,50))\n",
    "#박스사이저: 여러 위젯을 묶어서 배치하는 위젯\n",
    "box=wx.BoxSizer(wx.VERTICAL) #세로방향 배치\n",
    "#box=wx.BoxSizer(wx.HORIZONTAL)  #가로방향 배치\n",
    "frame.SetSizer(box)\n",
    "box.Add(btn1) #박스사이저에 버튼 3개를 붙임\n",
    "box.Add(btn2)\n",
    "box.Add(btn3)\n",
    "\n",
    "frame.Show(True)\n",
    "app.MainLoop()"
   ]
  },
  {
   "cell_type": "code",
   "execution_count": 1,
   "metadata": {},
   "outputs": [
    {
     "data": {
      "text/plain": [
       "0"
      ]
     },
     "execution_count": 1,
     "metadata": {},
     "output_type": "execute_result"
    }
   ],
   "source": [
    "import wx\n",
    "\n",
    "app=wx.App()\n",
    "frame = wx.Frame(None, title='wxPython')\n",
    "#size=(width,height) 가로세로 사이즈\n",
    "#             크기,글씨체,이탤릭체,볼드체\n",
    "font=wx.Font(20,wx.ROMAN,wx.NORMAL,wx.NORMAL)\n",
    "btn1=wx.Button(frame, label=\"Button1\")\n",
    "btn2=wx.Button(frame, label='Button2')\n",
    "btn3=wx.Button(frame, label='Button3')\n",
    "btn1.SetFont(font)\n",
    "#박스사이저: 여러 위젯을 묶어서 배치하는 위젯\n",
    "\n",
    "#box= wx.BoxSizer(wx.VERTICAL) #세로방향 배치\n",
    "box= wx.BoxSizer(wx.HORIZONTAL) #가로방향 배치\n",
    "frame.SetSizer(box)\n",
    "box.Add(btn1, proportion=3) #박스사이저에 버튼 3개를 붙임\n",
    "box.Add(btn2, proportion=1)\n",
    "box.Add(btn3, proportion=3)\n",
    "\n",
    "frame.Show(True)\n",
    "app.MainLoop()"
   ]
  },
  {
   "cell_type": "code",
   "execution_count": null,
   "metadata": {},
   "outputs": [],
   "source": []
  },
  {
   "cell_type": "code",
   "execution_count": null,
   "metadata": {},
   "outputs": [],
   "source": []
  },
  {
   "cell_type": "code",
   "execution_count": null,
   "metadata": {},
   "outputs": [],
   "source": []
  },
  {
   "cell_type": "code",
   "execution_count": null,
   "metadata": {},
   "outputs": [],
   "source": []
  },
  {
   "cell_type": "code",
   "execution_count": null,
   "metadata": {},
   "outputs": [],
   "source": []
  },
  {
   "cell_type": "code",
   "execution_count": null,
   "metadata": {},
   "outputs": [],
   "source": []
  },
  {
   "cell_type": "code",
   "execution_count": null,
   "metadata": {},
   "outputs": [],
   "source": []
  },
  {
   "cell_type": "code",
   "execution_count": null,
   "metadata": {},
   "outputs": [],
   "source": []
  },
  {
   "cell_type": "code",
   "execution_count": null,
   "metadata": {},
   "outputs": [],
   "source": []
  },
  {
   "cell_type": "code",
   "execution_count": null,
   "metadata": {},
   "outputs": [],
   "source": []
  },
  {
   "cell_type": "code",
   "execution_count": null,
   "metadata": {},
   "outputs": [],
   "source": []
  },
  {
   "cell_type": "code",
   "execution_count": null,
   "metadata": {},
   "outputs": [],
   "source": []
  }
 ],
 "metadata": {
  "kernelspec": {
   "display_name": "Python 3",
   "language": "python",
   "name": "python3"
  },
  "language_info": {
   "codemirror_mode": {
    "name": "ipython",
    "version": 3
   },
   "file_extension": ".py",
   "mimetype": "text/x-python",
   "name": "python",
   "nbconvert_exporter": "python",
   "pygments_lexer": "ipython3",
   "version": "3.7.4"
  }
 },
 "nbformat": 4,
 "nbformat_minor": 2
}
