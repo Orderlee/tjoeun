{
 "cells": [
  {
   "cell_type": "code",
   "execution_count": null,
   "metadata": {},
   "outputs": [],
   "source": [
    "#터틀 그래픽 패키지 로딩\n",
    "from turtle import *\n",
    "\n",
    "shape(\"turtle\") #커서 타입 선정: 거북이 모양\n",
    "forward(100)\n",
    "right(90)\n",
    "forward(100)\n",
    "done()"
   ]
  },
  {
   "cell_type": "code",
   "execution_count": null,
   "metadata": {},
   "outputs": [],
   "source": [
    "from turtle import *\n",
    "#shape(\"turtle\")\n",
    "#shape(\"classic\")\n",
    "#shape(\"triangle\")\n",
    "#shape(\"arrow\")\n",
    "#shape(\"square\")\n",
    "shape(\"circle\")\n",
    "forward(100)\n",
    "right(65)\n",
    "forward(100)\n",
    "done()"
   ]
  },
  {
   "cell_type": "code",
   "execution_count": null,
   "metadata": {},
   "outputs": [],
   "source": [
    "shape(\"turtle\")\n",
    "\n",
    "right(60)\n",
    "forward(100)\n",
    "right(120)\n",
    "# forward(100)\n",
    "# right(120)\n",
    "# forward(100)\n",
    "\n",
    "done()\n"
   ]
  },
  {
   "cell_type": "code",
   "execution_count": null,
   "metadata": {},
   "outputs": [],
   "source": [
    "shape(\"turtle\")\n",
    "\n",
    "speed(1) #이동속도\n",
    "forward(100)\n",
    "up() #꼬리를 올리고\n",
    "forward(100)\n",
    "down() #고리를 내림\n",
    "forward(100)\n",
    "done()"
   ]
  },
  {
   "cell_type": "code",
   "execution_count": null,
   "metadata": {},
   "outputs": [],
   "source": [
    "#원그리기\n",
    "shape(\"turtle\")\n",
    "\n",
    "pensize(2) #펜 굵기\n",
    "color(\"red\") #펜 색상\n",
    "bgcolor(\"purple\") #배경색상\n",
    "fillcolor(\"yellow\") #채우기 색상\n",
    "begin_fill() #채우기 시작\n",
    "circle(50) #원그리기(반지름 100)\n",
    "end_fill() #채우기 끝\n",
    "done() #그래픽 처리 종료"
   ]
  },
  {
   "cell_type": "code",
   "execution_count": null,
   "metadata": {},
   "outputs": [],
   "source": [
    "#별그리기\n",
    "\n",
    "shape(\"turtle\")\n",
    "\n",
    "for a in range(5):\n",
    "    forward(150)\n",
    "    right(144)\n",
    "done()"
   ]
  },
  {
   "cell_type": "code",
   "execution_count": null,
   "metadata": {},
   "outputs": [],
   "source": [
    "#삼각함수\n",
    "import math\n",
    "\n",
    "penup()\n",
    "goto(-500,0) #좌표 이동 goto(x,y)\n",
    "pendown()\n",
    "\n",
    "for x in range(-500,500):\n",
    "    y=math.sin(math.radians(x))*100\n",
    "    goto(x,y) #좌표 이동하면서 선이 그려짐\n",
    "    print(x,y)\n",
    "    \n",
    "done()"
   ]
  },
  {
   "cell_type": "code",
   "execution_count": null,
   "metadata": {},
   "outputs": [],
   "source": [
    "from turtle import*\n",
    "\n",
    "circle(50) #반지름 50\n",
    "circle(100,extent=180) #반지름 100, 반원\n",
    "circle(100,steps=3) #삼각형 \n",
    "circle(100,steps=4) #사각형\n",
    "circle(50,steps=5) #오각형\n",
    "done()"
   ]
  },
  {
   "cell_type": "code",
   "execution_count": null,
   "metadata": {},
   "outputs": [],
   "source": [
    "from turtle import*\n",
    "pencolor('red')\n",
    "fillcolor('violet')\n",
    "\n",
    "begin_fill()\n",
    "circle(100)\n",
    "end_fill()\n",
    "\n",
    "circle(80)\n",
    "\n",
    "circle(60)\n",
    "\n",
    "pencolor('black')\n",
    "circle(50)\n",
    "\n",
    "pencolor('green')\n",
    "circle(25)\n",
    "\n",
    "pencolor('purple')\n",
    "circle(12.5)\n",
    "\n",
    "done()"
   ]
  },
  {
   "cell_type": "code",
   "execution_count": 1,
   "metadata": {},
   "outputs": [],
   "source": [
    "from turtle import *\n",
    "\n",
    "def square(side_length):\n",
    "    n=0\n",
    "    while n <4:\n",
    "        forward(side_length)\n",
    "        right(90)\n",
    "        n=n+1\n",
    "        \n",
    "left(90)\n",
    "square(50)\n",
    "\n",
    "penup()\n",
    "right(90)\n",
    "forward(100)\n",
    "left(90)\n",
    "pendown()\n",
    "\n",
    "square(50)\n",
    "\n",
    "penup()\n",
    "right(90)\n",
    "forward(100)\n",
    "left(90)\n",
    "pendown()\n",
    "\n",
    "square(50)\n",
    "\n",
    "\n",
    "done()"
   ]
  },
  {
   "cell_type": "code",
   "execution_count": null,
   "metadata": {},
   "outputs": [],
   "source": [
    "from turtle import*\n",
    "\n",
    "size=50\n",
    "distance=50\n",
    "angle=20\n",
    "\n",
    "speed(10) # 0 가장빠르게, 1느리게~ 10빠르게\n",
    "\n",
    "n=0\n",
    "while n <18:\n",
    "    pendown()\n",
    "    circle(size)\n",
    "    penup()\n",
    "    forward(distance)\n",
    "    left(angle)\n",
    "    \n",
    "    n=n+1\n",
    "hideturtle()\n",
    "done()\n"
   ]
  },
  {
   "cell_type": "code",
   "execution_count": null,
   "metadata": {},
   "outputs": [],
   "source": [
    "from turtle import*\n",
    "\n",
    "def draw(head,dist):\n",
    "    setheading(head)\n",
    "    forward(dist)\n",
    "    \n",
    "def toleft():\n",
    "    draw(180,15)\n",
    "    \n",
    "def toright():\n",
    "    draw(0,15)\n",
    "    \n",
    "def toup():\n",
    "    draw(90,15)\n",
    "    \n",
    "def todown():\n",
    "    draw(270,15)\n",
    "    \n",
    "def move(x,y):\n",
    "    up()\n",
    "    setpos(x,y)\n",
    "    down()\n",
    "    \n",
    "shape(\"turtle\") #커서 모양 설정\n",
    "speed(0) #가장 빠른 스피드\n",
    "onkeypress(toleft, \"Left\") # left key를 누르면 toleft()함수가 실행됨\n",
    "onkeypress(toright, \"Right\")\n",
    "onkeypress(toup, \"Up\")\n",
    "onkeypress(todown, \"Down\")\n",
    "onscreenclick(move) # 마우스 클릭하면 move() 함수가 실행됨\n",
    "listen() #캔버스에 입력포커스 설정(키보드.마우스 이벤트 호출이 가능한 상태)\n",
    "done()"
   ]
  },
  {
   "cell_type": "code",
   "execution_count": null,
   "metadata": {},
   "outputs": [],
   "source": [
    "def draw(x,y):\n",
    "    setpos(x,y) #x,y 좌표로 이동\n",
    "    \n",
    "def move(x,y):\n",
    "    up()\n",
    "    setpos(x,y)\n",
    "    down()\n",
    "    \n",
    "shape(\"turtle\") #커서 모양\n",
    "speed(1) #가장 빠른 속도\n",
    "pensize(3) #펜 사이즈\n",
    "onscreenclick(draw) # 마우스 클릭하면 draw() 함수 호출\n",
    "onscreenclick(move,3) # 마우스 우클릭 하면 move() 호출\n",
    "# onkeypress(함수,'키')\n",
    "onkeypress(lambda:color(\"red\"),'r')\n",
    "onkeypress(lambda:color('green'),'g')\n",
    "onkeypress(lambda:color('blue'),'b')\n",
    "onkeypress(lambda:color('black'),'k')\n",
    "onkeypress(lambda:color('purple'),'p')\n",
    "onkeypress(lambda:pensize(1),'1')\n",
    "onkeypress(lambda:pensize(3),'3')\n",
    "onkeypress(lambda:pensize(5),'5')\n",
    "listen() # 키입력 가능한 상태로 설정\n",
    "done()  #그래픽 종료"
   ]
  },
  {
   "cell_type": "code",
   "execution_count": null,
   "metadata": {},
   "outputs": [],
   "source": [
    "# pip install wxPython\n",
    "import wx\n",
    "\n",
    "app= wx.App() #애플리케이션 생성\n",
    "frame = wx.Frame(None) #프레임\n",
    "\n",
    "def OnLeftDown(event):\n",
    "    # event.x event.y 마우스 클릭 좌표값\n",
    "    message=\"(%d,%d)를 클릭했습니다.\"%(event.x,event.y)\n",
    "    # 메세지 박스 출력\n",
    "    wx.MessageBox(message, \"알림\", wx.OK)\n",
    "\n",
    "# 마우스 좌클릭과 OnLeftDown 함수 연결\n",
    "frame.Bind(wx.EVT_LEFT_DOWN, OnLeftDown)\n",
    "\n",
    "def OnKeyDown(event):\n",
    "    message='%d 키를 눌렀습니다.' % event.KeyCode\n",
    "    wx.MessageBox(message,\"알림\",wx.OK)\n",
    "\n",
    "# 키입력과 OnKeyDown 함수 연결    \n",
    "frame.Bind(wx.EVT_KEY_DOWN, OnKeyDown)\n",
    "#프레임을 화면에 표시\n",
    "frame.Show(True)\n",
    "#애플리케이션을 실행시킴\n",
    "app.MainLoop()"
   ]
  },
  {
   "cell_type": "code",
   "execution_count": null,
   "metadata": {},
   "outputs": [],
   "source": [
    " "
   ]
  },
  {
   "cell_type": "code",
   "execution_count": null,
   "metadata": {},
   "outputs": [],
   "source": []
  },
  {
   "cell_type": "code",
   "execution_count": null,
   "metadata": {},
   "outputs": [],
   "source": []
  },
  {
   "cell_type": "code",
   "execution_count": null,
   "metadata": {},
   "outputs": [],
   "source": []
  },
  {
   "cell_type": "code",
   "execution_count": null,
   "metadata": {},
   "outputs": [],
   "source": []
  },
  {
   "cell_type": "code",
   "execution_count": null,
   "metadata": {},
   "outputs": [],
   "source": []
  },
  {
   "cell_type": "code",
   "execution_count": null,
   "metadata": {},
   "outputs": [],
   "source": []
  }
 ],
 "metadata": {
  "kernelspec": {
   "display_name": "Python 3",
   "language": "python",
   "name": "python3"
  },
  "language_info": {
   "codemirror_mode": {
    "name": "ipython",
    "version": 3
   },
   "file_extension": ".py",
   "mimetype": "text/x-python",
   "name": "python",
   "nbconvert_exporter": "python",
   "pygments_lexer": "ipython3",
   "version": "3.7.4"
  }
 },
 "nbformat": 4,
 "nbformat_minor": 2
}
