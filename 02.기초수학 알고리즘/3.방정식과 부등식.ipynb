{
 "cells": [
  {
   "cell_type": "code",
   "execution_count": 7,
   "metadata": {},
   "outputs": [
    {
     "name": "stdout",
     "output_type": "stream",
     "text": [
      "[1, 2, 3, 4, 5]\n",
      "6 7 8 9 10 "
     ]
    }
   ],
   "source": [
    "a=[1,2,3,4,5]\n",
    "print(a)\n",
    "#print(a+5)\n",
    "for i in a:\n",
    "    print(i+5,end=' ')"
   ]
  },
  {
   "cell_type": "code",
   "execution_count": 9,
   "metadata": {},
   "outputs": [
    {
     "name": "stdout",
     "output_type": "stream",
     "text": [
      "[1 2 3 4 5] <class 'numpy.ndarray'>\n",
      "[ 6  7  8  9 10]\n",
      "[ 5 10 15 20 25]\n"
     ]
    }
   ],
   "source": [
    "import numpy as np\n",
    "\n",
    "a=np.array([1,2,3,4,5])\n",
    "print(a,type(a))\n",
    "print(a+5)\n",
    "print(a*5)"
   ]
  },
  {
   "cell_type": "code",
   "execution_count": 2,
   "metadata": {},
   "outputs": [
    {
     "name": "stdout",
     "output_type": "stream",
     "text": [
      "12\n",
      "[ 6  7  8  9 10]\n"
     ]
    }
   ],
   "source": [
    "import numpy as np\n",
    "def plus(x):\n",
    "    return x+5\n",
    "\n",
    "print(plus(7))\n",
    "#리스트는 반복문으로 처리해야 함\n",
    "#print(plus([1,2,3,4,5])) #에러가 발생함\n",
    "#np.array(리스트) 리스트를 넘파이 배열로 변환\n",
    "#넘파이 배열은 내부적으로 반복문 처리가 구현되어 있음\n",
    "print(plus(np.array([1,2,3,4,5])))"
   ]
  },
  {
   "cell_type": "code",
   "execution_count": 3,
   "metadata": {},
   "outputs": [
    {
     "name": "stdout",
     "output_type": "stream",
     "text": [
      "[1 2 3 4 5]\n",
      "[ 6  7  8  9 10]\n"
     ]
    }
   ],
   "source": [
    "# y=+5 일차방정식\n",
    "x=np.array([1,2,3,4,5])\n",
    "y=plus(x)\n",
    "print(x)\n",
    "print(y)"
   ]
  },
  {
   "cell_type": "code",
   "execution_count": 11,
   "metadata": {},
   "outputs": [
    {
     "data": {
      "image/png": "[encoded data removed]",
      "text/plain": [
       "<Figure size 432x288 with 1 Axes>"
      ]
     },
     "metadata": {
      "needs_background": "light"
     },
     "output_type": "display_data"
    }
   ],
   "source": [
    "#그래프 출력 옵션\n",
    "%matplotlib inline \n",
    "import matplotlib.pyplot as plt\n",
    "\n",
    "plt.plot(x,y)\n",
    "plt.grid()"
   ]
  },
  {
   "cell_type": "code",
   "execution_count": 13,
   "metadata": {},
   "outputs": [
    {
     "name": "stdout",
     "output_type": "stream",
     "text": [
      "12\n",
      "[ 6  7  8  9 10]\n",
      "8\n"
     ]
    }
   ],
   "source": [
    "#위에서 작성한 plus 함수를 람다식으로 표현\n",
    "#lambda 입력 : 출력\n",
    "plus = lambda x: x+5\n",
    "print(plus(7))\n",
    "print(plus(np.array([1,2,3,4,5])))\n",
    "\n",
    "a = lambda x, y: x+y\n",
    "print(a(2,6))"
   ]
  },
  {
   "cell_type": "code",
   "execution_count": 23,
   "metadata": {},
   "outputs": [
    {
     "data": {
      "text/plain": [
       "22.20408163265306"
      ]
     },
     "execution_count": 23,
     "metadata": {},
     "output_type": "execute_result"
    }
   ],
   "source": [
    "#체질량 지수 계산 람다식\n",
    "bmi = lambda weight, height : weight / (height)**2\n",
    "bmi(68,1.75) #체중 kg, 신장 m"
   ]
  },
  {
   "cell_type": "code",
   "execution_count": 25,
   "metadata": {},
   "outputs": [
    {
     "name": "stdout",
     "output_type": "stream",
     "text": [
      "22.20408163265306\n",
      "bmi: 22.20408163265306\n",
      "정상입니다.\n"
     ]
    }
   ],
   "source": [
    "def fat_or_not(weight,height):\n",
    "    a = bmi(weight,height) #람다식 호출\n",
    "    print(a)\n",
    "    print(\"bmi:\",a)\n",
    "    if a > 35:\n",
    "        print('고도비만입니다.')\n",
    "    elif 30<= a <35:\n",
    "        print('중등도비만입니다.')\n",
    "    elif 25 <= a <30:\n",
    "        print('경도비만입니다.')\n",
    "    elif 23<= a < 25:\n",
    "        print('과체중입니다.')\n",
    "    elif 18.5 <= a <23:\n",
    "        print('정상입니다.')\n",
    "    else:\n",
    "        print('저체중입니다.')\n",
    "        \n",
    "        \n",
    "fat_or_not(68,1.75)"
   ]
  },
  {
   "cell_type": "code",
   "execution_count": 2,
   "metadata": {},
   "outputs": [
    {
     "name": "stdout",
     "output_type": "stream",
     "text": [
      "True\n",
      "False\n",
      "[[False  True False  True False  True False  True False  True]]\n",
      "[2, 4, 6, 8, 10]\n"
     ]
    }
   ],
   "source": [
    "import numpy as np\n",
    "\n",
    "# lamdba 입력값 : 출력값\n",
    "even = lambda x: x%2==0\n",
    "\n",
    "print(even(10))\n",
    "print(even(11))\n",
    "\n",
    "#리스트 대신 넘파이 배열 사용\n",
    "#print(even([range(1,11)]))\n",
    "print(even(np.array([range(1,11)])))\n",
    "# filter(함수이름, 입력할 값들) 리턴값이 True인 값들만 선택\n",
    "print(list(filter(even,range(1,11))))"
   ]
  },
  {
   "cell_type": "code",
   "execution_count": 5,
   "metadata": {},
   "outputs": [
    {
     "name": "stdout",
     "output_type": "stream",
     "text": [
      "[6, 10, 12, 16, 18]\n"
     ]
    }
   ],
   "source": [
    "#반복문이 포함된 리스트\n",
    "#반복문이 먼저 실행되면서 리스트의 요소가 만들어짐\n",
    "a = [2*x for x in [3,5,6,8,9,]]\n",
    "print(a)"
   ]
  },
  {
   "cell_type": "code",
   "execution_count": 6,
   "metadata": {},
   "outputs": [
    {
     "name": "stdout",
     "output_type": "stream",
     "text": [
      "[6, 10, 12, 14, 16, 18]\n"
     ]
    }
   ],
   "source": [
    "a=[]\n",
    "\n",
    "for x in [3,5,6,7,8,9]:\n",
    "    a.append(2*x)\n",
    "    \n",
    "print(a)"
   ]
  },
  {
   "cell_type": "code",
   "execution_count": 4,
   "metadata": {},
   "outputs": [
    {
     "name": "stdout",
     "output_type": "stream",
     "text": [
      "[1, 2, 0, 1, 2, 0, 1, 2, 0, 1]\n"
     ]
    }
   ],
   "source": [
    "b = [x%3 for x in range(1,11)]\n",
    "print(b)"
   ]
  },
  {
   "cell_type": "code",
   "execution_count": 8,
   "metadata": {},
   "outputs": [
    {
     "name": "stdout",
     "output_type": "stream",
     "text": [
      "[1, 2, 0, 1, 2, 0, 1, 2, 0, 1]\n"
     ]
    }
   ],
   "source": [
    "b=[]\n",
    "for x in range(1,11):\n",
    "    b.append(x%3)\n",
    "    \n",
    "print(b)"
   ]
  },
  {
   "cell_type": "code",
   "execution_count": 9,
   "metadata": {},
   "outputs": [
    {
     "name": "stdout",
     "output_type": "stream",
     "text": [
      "[1, 2, 5, 10]\n",
      "[1, 2, 7, 14]\n"
     ]
    }
   ],
   "source": [
    "def factor_nums(a):\n",
    "    nums=[]\n",
    "    for i in range(1,a):\n",
    "        if a%i ==0: #a를 i로 나눈 나머지가 0이면 추가 (약수)\n",
    "            nums.append(i)\n",
    "            \n",
    "    nums.append(a)\n",
    "    return nums #약수 리스트를 리턴\n",
    "\n",
    "print(factor_nums(10))\n",
    "print(factor_nums(14))"
   ]
  },
  {
   "cell_type": "code",
   "execution_count": 10,
   "metadata": {},
   "outputs": [
    {
     "name": "stdout",
     "output_type": "stream",
     "text": [
      "5\n",
      "4\n"
     ]
    }
   ],
   "source": [
    "#교집합 함수\n",
    "def intersection(a,b):\n",
    "    c=[]\n",
    "    for i in a:\n",
    "        if i in b: # i가 b집합의 원소이면 추가\n",
    "            c.append(i)\n",
    "    return c\n",
    "\n",
    "#최대 공약수\n",
    "def max_common_factor(a,b):\n",
    "    c=factor_nums(a) #a의 약수\n",
    "    d=factor_nums(b) #b의 약수\n",
    "    #print(c)\n",
    "    #print(d)\n",
    "    \n",
    "    e=intersection(c,d) #공약수\n",
    "    #print(e) \n",
    "    return max(e) #가장 큰값 리턴\n",
    "\n",
    "print(max_common_factor(10,15))\n",
    "print(max_common_factor(8,20))"
   ]
  },
  {
   "cell_type": "code",
   "execution_count": 13,
   "metadata": {},
   "outputs": [
    {
     "data": {
      "text/plain": [
       "[(10, 5), (12, 3), (14, 1), (16, 1), (18, 3), (20, 5)]"
      ]
     },
     "execution_count": 13,
     "metadata": {},
     "output_type": "execute_result"
    }
   ],
   "source": [
    "# range(10,21,2) 10~20 2씩 증가 10,12,14,16,18,20\n",
    "# (10,(10,15)의 최대 공약수)\n",
    "# (12,(10,15)의 최대 공약수)\n",
    "# (14,(10,15)의 최대 공약수)\n",
    "# (16,(10,15)의 최대 공약수)\n",
    "# (18,(10,15)의 최대 공약수)\n",
    "# (20,(10,15)의 최대 공약수)\n",
    "\n",
    "c= [(x,max_common_factor(x,15)) for x in range(10,21,2)]\n",
    "c"
   ]
  },
  {
   "cell_type": "code",
   "execution_count": 15,
   "metadata": {},
   "outputs": [
    {
     "name": "stdout",
     "output_type": "stream",
     "text": [
      "[(10, 5), (12, 3), (14, 1), (16, 1), (18, 3), (20, 5)]\n"
     ]
    }
   ],
   "source": [
    "c=[]\n",
    "for x in range(10,21,2):\n",
    "    c.append((x,max_common_factor(x,15)))\n",
    "\n",
    "print(c)"
   ]
  },
  {
   "cell_type": "code",
   "execution_count": 16,
   "metadata": {},
   "outputs": [
    {
     "data": {
      "text/plain": [
       "[4, 8, 12, 16, 20]"
      ]
     },
     "execution_count": 16,
     "metadata": {},
     "output_type": "execute_result"
    }
   ],
   "source": [
    "#1~10 짝수에 2를 곱한 리스트\n",
    "a =[2*x for x in range(1,11) if x%2 == 0]\n",
    "a"
   ]
  },
  {
   "cell_type": "code",
   "execution_count": 17,
   "metadata": {},
   "outputs": [
    {
     "name": "stdout",
     "output_type": "stream",
     "text": [
      "[4, 8, 12, 16, 20]\n"
     ]
    }
   ],
   "source": [
    "a=[]\n",
    "for x in range(1,11):\n",
    "    if x%2 ==0:\n",
    "        a.append(2*x)\n",
    "        \n",
    "print(a)"
   ]
  },
  {
   "cell_type": "code",
   "execution_count": 19,
   "metadata": {},
   "outputs": [
    {
     "data": {
      "text/plain": [
       "25.0"
      ]
     },
     "execution_count": 19,
     "metadata": {},
     "output_type": "execute_result"
    }
   ],
   "source": [
    "#삼각형의 넓이를 구하는 함수\n",
    "def triangle_area(a,h):\n",
    "    return 1/2*a*h\n",
    "\n",
    "triangle_area(5,10)"
   ]
  },
  {
   "cell_type": "code",
   "execution_count": null,
   "metadata": {},
   "outputs": [],
   "source": [
    "a=list(range(1,6))\n",
    "b=list(range(1,6))\n",
    "area=[]\n",
    "for i in a:\n",
    "    for j in h:\n",
    "        area[i-1,j-1]"
   ]
  },
  {
   "cell_type": "code",
   "execution_count": 20,
   "metadata": {},
   "outputs": [
    {
     "name": "stdout",
     "output_type": "stream",
     "text": [
      "(5, 5)\n"
     ]
    },
    {
     "data": {
      "text/plain": [
       "array([[ 0.5,  1. ,  1.5,  2. ,  2.5],\n",
       "       [ 1. ,  2. ,  3. ,  4. ,  5. ],\n",
       "       [ 1.5,  3. ,  4.5,  6. ,  7.5],\n",
       "       [ 2. ,  4. ,  6. ,  8. , 10. ],\n",
       "       [ 2.5,  5. ,  7.5, 10. , 12.5]])"
      ]
     },
     "execution_count": 20,
     "metadata": {},
     "output_type": "execute_result"
    }
   ],
   "source": [
    "a = np.array(range(1,6)) #1~5 넘파이 배열\n",
    "h = np.array(range(1,6))\n",
    "#np.zero(5,5) 5행 5열의 2차원 배열을 만들고 0으로 채움\n",
    "area = np.zeros((len(a), len(h)))\n",
    "#배열의 차원\n",
    "print(area.shape)\n",
    "\n",
    "for i in a:\n",
    "    for j in h:\n",
    "        # 2차원배열 [행인덱스.열인덱스]\n",
    "        area[i-1,j-1] = triangle_area(i,j)\n",
    "        \n",
    "area"
   ]
  },
  {
   "cell_type": "code",
   "execution_count": 29,
   "metadata": {},
   "outputs": [
    {
     "name": "stdout",
     "output_type": "stream",
     "text": [
      "[1, '김철수', 80, 90, 100, 0, 0]\n",
      "[2, '박민호', 88, 99, 100, 0, 0]\n"
     ]
    }
   ],
   "source": [
    "a=[1,'김철수',80,90,100,0,0]\n",
    "print(a)\n",
    "\n",
    "b=[2,'박민호',88,99,100,0,0]\n",
    "\n",
    "print(b)\n"
   ]
  },
  {
   "cell_type": "code",
   "execution_count": 66,
   "metadata": {},
   "outputs": [
    {
     "name": "stdout",
     "output_type": "stream",
     "text": [
      "[[1, '김철수', 80, 90, 100, 0, 0], [2, '박민호', 88, 99, 100, 0, 0], [3, '최승희', 77, 88, 100, 0, 0]]\n",
      "1\n",
      "김철수\n",
      "80\n",
      "90\n",
      "100\n",
      "270\n",
      "90.0\n",
      "2\n",
      "박민호\n",
      "88\n",
      "99\n",
      "100\n"
     ]
    }
   ],
   "source": [
    "#2차원 리스트 (3행 7열)\n",
    "a=[\n",
    "    [1,'김철수',80,90,100,0,0],\n",
    "    [2,'박민호',88,99,100,0,0],\n",
    "    [3,'최승희',77,88,100,0,0]\n",
    "]\n",
    "\n",
    "\n",
    "print(a)\n",
    "print(a[0][0]) #0행 0열\n",
    "print(a[0][1]) #0행 1열\n",
    "print(a[0][2]) #0행 2열\n",
    "print(a[0][3]) \n",
    "print(a[0][4])\n",
    "a[0][5]=a[0][2]+a[0][3]+a[0][4]\n",
    "print(a[0][5]) #총점\n",
    "a[0][6]=a[0][5]/3\n",
    "print(a[0][6]) #평균\n",
    "print(a[1][0]) #1행 0열\n",
    "print(a[1][1]) #1행 1열\n",
    "print(a[1][2])\n",
    "print(a[1][3])\n",
    "print(a[1][4])\n"
   ]
  },
  {
   "cell_type": "code",
   "execution_count": 35,
   "metadata": {},
   "outputs": [
    {
     "name": "stdout",
     "output_type": "stream",
     "text": [
      "[[1, '김철수', 80, 90, 100, 270, 90.0], [2, '박민호', 88, 99, 100, 287, 95.66666666666667], [3, '최승희', 77, 88, 100, 265, 88.33333333333333]]\n"
     ]
    }
   ],
   "source": [
    "a=[[1,'김철수',80,90,100,0,0],\n",
    "  [2,'박민호',88,99,100,0,0],\n",
    "  [3,'최승희',77,88,100,0,0]]\n",
    "\n",
    "for i in range(3): #0행~2행\n",
    "    #print(a[i][j]) #0행 0열\n",
    "    a[i][5]=a[i][2]+a[i][3]+a[i][4]\n",
    "    #print(a[i][5]) #총점\n",
    "    a[i][6]=a[i][5]/3\n",
    "        \n",
    "print(a)\n"
   ]
  },
  {
   "cell_type": "code",
   "execution_count": 37,
   "metadata": {},
   "outputs": [
    {
     "name": "stdout",
     "output_type": "stream",
     "text": [
      "(3, 7)\n",
      "[['1' '김철수' '80' '90' '100' '270' '90.0']\n",
      " ['2' '박민호' '88' '99' '100' '287' '95.66666666666667']\n",
      " ['3' '최승희' '77' '88' '100' '265' '88.33333333333333']]\n",
      "1\n",
      "김철수\n",
      "1\n",
      "김철수\n"
     ]
    }
   ],
   "source": [
    "import numpy as np\n",
    "#리스트를 넘파이배열로 변환\n",
    "b=np.array(a)\n",
    "print(b.shape) #3g행 7열의 2차원 넘파이 배열\n",
    "print(b)\n",
    "print(b[0][0]) # [행][열]\n",
    "print(b[0][1])\n",
    "print(b[0,0]) #[행,열]\n",
    "print(b[0,1])\n"
   ]
  },
  {
   "cell_type": "code",
   "execution_count": 38,
   "metadata": {},
   "outputs": [
    {
     "data": {
      "text/plain": [
       "18.0"
      ]
     },
     "execution_count": 38,
     "metadata": {},
     "output_type": "execute_result"
    }
   ],
   "source": [
    "temp = 38-1 *(2000/100)\n",
    "temp"
   ]
  },
  {
   "cell_type": "code",
   "execution_count": 39,
   "metadata": {},
   "outputs": [
    {
     "data": {
      "text/plain": [
       "[True, True, False, False]"
      ]
     },
     "execution_count": 39,
     "metadata": {},
     "output_type": "execute_result"
    }
   ],
   "source": [
    "x=[2,3,5,7]\n",
    "a=[]\n",
    "for i in x:\n",
    "    if 3*i +2 <=11:\n",
    "        a.append(True)\n",
    "    else:\n",
    "        a.append(False)\n",
    "        \n",
    "a"
   ]
  },
  {
   "cell_type": "code",
   "execution_count": 40,
   "metadata": {},
   "outputs": [
    {
     "name": "stdout",
     "output_type": "stream",
     "text": [
      "[5, 7]\n"
     ]
    }
   ],
   "source": [
    "# 4x-5>13 을 만족하는 x값을 구하는 문제\n",
    "x=[2,3,5,7]\n",
    "a=[i for i in x if 4*i -5 >13]\n",
    "print(a)"
   ]
  },
  {
   "cell_type": "code",
   "execution_count": 41,
   "metadata": {},
   "outputs": [
    {
     "name": "stdout",
     "output_type": "stream",
     "text": [
      "[5, 7]\n"
     ]
    }
   ],
   "source": [
    "x=[2,3,5,7]\n",
    "a=[]\n",
    "for i in x:\n",
    "    if 4*i -5 >13:\n",
    "        a.append(i)\n",
    "        \n",
    "print(a)"
   ]
  },
  {
   "cell_type": "code",
   "execution_count": 45,
   "metadata": {},
   "outputs": [
    {
     "name": "stdout",
     "output_type": "stream",
     "text": [
      "[0, 1, 2]\n",
      "range(1, 10)\n",
      "range(1, 10, 2)\n"
     ]
    }
   ],
   "source": [
    "a=list(range(3)) \n",
    "print(a)\n",
    "b=range(1,10) \n",
    "print(b)\n",
    "c=range(1,10,2)\n",
    "print(c)"
   ]
  },
  {
   "cell_type": "code",
   "execution_count": 42,
   "metadata": {},
   "outputs": [
    {
     "name": "stdout",
     "output_type": "stream",
     "text": [
      "[0 1 2]\n",
      "[1 2 3 4 5 6 7 8 9]\n",
      "[1 3 5 7 9]\n"
     ]
    }
   ],
   "source": [
    "#기본 함수 range() 와 비슷한 함수\n",
    "#np.arange(start,stop,step)\n",
    "a=np.arange(3) #0~2\n",
    "print(a)\n",
    "b=np.arange(1,10) #1~9\n",
    "print(b)\n",
    "c=np.arange(1,10,2) #1~9 2씩 증가\n",
    "print(c)"
   ]
  },
  {
   "cell_type": "code",
   "execution_count": 46,
   "metadata": {},
   "outputs": [
    {
     "name": "stdout",
     "output_type": "stream",
     "text": [
      "[-5 -4 -3 -2 -1  0  1  2  3  4  5]\n",
      "[False False False False  True  True  True  True  True  True  True]\n",
      "[-1, 0, 1, 2, 3, 4, 5]\n"
     ]
    }
   ],
   "source": [
    "# x+5 >= 4 부등식\n",
    "x=np.arange(-5,6) #-5~5\n",
    "print(x)\n",
    "b=lambda a: a+5 >= 4\n",
    "print(b(x))\n",
    "\n",
    "c=list(filter(b,x)) #True인 값들만 저장\n",
    "print(c)"
   ]
  },
  {
   "cell_type": "code",
   "execution_count": 63,
   "metadata": {},
   "outputs": [
    {
     "name": "stdout",
     "output_type": "stream",
     "text": [
      "정상금액:180000원\n",
      "단체금액:125999.99999999999원\n",
      "할인금액:54000.0원\n",
      "인원:21, 정상금액:126000, 차액:1.4551915228366852e-11\n",
      "인원:22, 정상금액:132000, 차액:6000.000000000015\n",
      "인원:23, 정상금액:138000, 차액:12000.000000000015\n",
      "인원:24, 정상금액:144000, 차액:18000.000000000015\n",
      "인원:25, 정상금액:150000, 차액:24000.000000000015\n",
      "인원:26, 정상금액:156000, 차액:30000.000000000015\n",
      "인원:27, 정상금액:162000, 차액:36000.000000000015\n",
      "인원:28, 정상금액:168000, 차액:42000.000000000015\n",
      "인원:29, 정상금액:174000, 차액:48000.000000000015\n",
      "인원:30, 정상금액:180000, 차액:54000.000000000015\n",
      "[(21, 126000), (22, 132000), (23, 138000), (24, 144000), (25, 150000), (26, 156000), (27, 162000), (28, 168000), (29, 174000), (30, 180000)]\n",
      "(21, 126000)\n"
     ]
    }
   ],
   "source": [
    "a=[]\n",
    "x=np.arange(1,31) #1~30명\n",
    "price=6000*30 #30명 기준의 정상금액\n",
    "price2=6000*30*0.7 #단체금액\n",
    "discount=6000*30*0.3 #할인금액\n",
    "print('정상금액:{}원'.format(price))\n",
    "print('단체금액:{}원'.format(price2))\n",
    "print('할인금액:{}원'.format(discount))\n",
    "for i in x:\n",
    "    if i*6000> price2: #정상금액이 단체금액보다 크면\n",
    "        #정상가격, 할인가격과의 차액\n",
    "        print('인원:{}, 정상금액:{}, 차액:{}'.format(i, i*6000, i*6000-price2))\n",
    "        a.append((i,i*6000))\n",
    "        \n",
    "print(a)\n",
    "print(min(a))"
   ]
  },
  {
   "cell_type": "code",
   "execution_count": 51,
   "metadata": {},
   "outputs": [
    {
     "name": "stdout",
     "output_type": "stream",
     "text": [
      "[-10, -9, -8, -7, -6, -5, -4, -3, -2, -1, 0, 1, 2, 3, 4, 5, 6]\n",
      "[6, 7, 8, 9, 10]\n"
     ]
    },
    {
     "data": {
      "text/plain": [
       "[6]"
      ]
     },
     "execution_count": 51,
     "metadata": {},
     "output_type": "execute_result"
    }
   ],
   "source": [
    "def intersection(a,b):\n",
    "    c=[]\n",
    "    for i in a:\n",
    "        if i in b:\n",
    "            c.append(i)\n",
    "    c.sort()\n",
    "    return c\n",
    "\n",
    "\n",
    "\n",
    "#연립부등식\n",
    "#2x-3<11\n",
    "#3x-6>9\n",
    "#x값의 범위 : -10~10\n",
    "\n",
    "x1=list(filter(lambda a: 2*a -3 <11, np.arange(-10,11,1)))\n",
    "x2=list(filter(lambda a: 3*a -6>9, np.arange(-10,11,1)))\n",
    "\n",
    "print(x1)\n",
    "print(x2)\n",
    "\n",
    "intersection(x1,x2)"
   ]
  },
  {
   "cell_type": "code",
   "execution_count": 55,
   "metadata": {},
   "outputs": [
    {
     "name": "stdout",
     "output_type": "stream",
     "text": [
      "[-10  -9  -8  -7  -6  -5  -4  -3  -2  -1   0   1   2   3   4   5   6   7\n",
      "   8   9  10]\n",
      "[ True  True  True  True  True  True  True  True  True  True  True  True\n",
      "  True  True  True  True  True False False False False]\n",
      "[False False False False False False False False False False False False\n",
      " False False False False  True  True  True  True  True]\n",
      "[-10, -9, -8, -7, -6, -5, -4, -3, -2, -1, 0, 1, 2, 3, 4, 5, 6]\n",
      "[6, 7, 8, 9, 10]\n"
     ]
    },
    {
     "data": {
      "text/plain": [
       "[6]"
      ]
     },
     "execution_count": 55,
     "metadata": {},
     "output_type": "execute_result"
    }
   ],
   "source": [
    "import numpy as np\n",
    "nums=np.arange(-10,11)\n",
    "print(nums)\n",
    "\n",
    "f1=lambda a: 2*a -3 <11\n",
    "r1=f1(nums)\n",
    "print(r1)\n",
    "\n",
    "f2=lambda a: 3*a -6 >9\n",
    "r2=f2(nums)\n",
    "print(r2)\n",
    "\n",
    "\n",
    "\n",
    "x1=list(filter(f1, nums))\n",
    "x2=list(filter(f2, nums))\n",
    "\n",
    "print(x1)\n",
    "print(x2)\n",
    "\n",
    "intersection(x1,x2)"
   ]
  },
  {
   "cell_type": "code",
   "execution_count": null,
   "metadata": {},
   "outputs": [],
   "source": []
  },
  {
   "cell_type": "code",
   "execution_count": null,
   "metadata": {},
   "outputs": [],
   "source": []
  },
  {
   "cell_type": "code",
   "execution_count": null,
   "metadata": {},
   "outputs": [],
   "source": []
  }
 ],
 "metadata": {
  "kernelspec": {
   "display_name": "Python 3",
   "language": "python",
   "name": "python3"
  },
  "language_info": {
   "codemirror_mode": {
    "name": "ipython",
    "version": 3
   },
   "file_extension": ".py",
   "mimetype": "text/x-python",
   "name": "python",
   "nbconvert_exporter": "python",
   "pygments_lexer": "ipython3",
   "version": "3.7.4"
  }
 },
 "nbformat": 4,
 "nbformat_minor": 2
}
