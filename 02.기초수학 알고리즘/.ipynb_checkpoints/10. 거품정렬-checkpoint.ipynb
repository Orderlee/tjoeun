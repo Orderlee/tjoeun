{
 "cells": [
  {
   "cell_type": "code",
   "execution_count": 8,
   "metadata": {},
   "outputs": [
    {
     "name": "stdout",
     "output_type": "stream",
     "text": [
      "[10, 9, 8, 5, 15, 20]\n",
      "[5, 8, 9, 10, 15, 20]\n",
      "[20, 15, 10, 9, 8, 5]\n",
      "None\n"
     ]
    }
   ],
   "source": [
    "a=[10,9,8,5,15,20]\n",
    "b=sorted(a) # a를 정렬하여 b로 저장\n",
    "print(a) # a는 그대로\n",
    "print(b) # b는 정렬됨\n",
    "b.reverse() #역순으로 저장\n",
    "print(b)\n",
    "print(b.reverse()) #리턴값이 없어서 None 라고 출력"
   ]
  },
  {
   "cell_type": "code",
   "execution_count": 10,
   "metadata": {},
   "outputs": [
    {
     "name": "stdout",
     "output_type": "stream",
     "text": [
      "[5, 8, 9, 10, 15, 20]\n",
      "None\n"
     ]
    }
   ],
   "source": [
    "a=[10,9,8,5,15,20]\n",
    "b=a.sort() # a를 정렬함\n",
    "print(a)\n",
    "print(b)"
   ]
  },
  {
   "cell_type": "code",
   "execution_count": 14,
   "metadata": {},
   "outputs": [
    {
     "name": "stdout",
     "output_type": "stream",
     "text": [
      "카운트횟수: 21\n",
      "[-100, 10, 20, 55, 60, 70, 77]\n",
      "[77, 70, 60, 55, 20, 10, -100]\n"
     ]
    }
   ],
   "source": [
    "#거품정렬\n",
    "def bubble_sort(a):\n",
    "    cnt=0\n",
    "    for i in range(0,len(a)):\n",
    "        for j in range(i+1, len(a)):\n",
    "            cnt+=1\n",
    "            if a[i]>a[j]: #더 큰 값이 있으면\n",
    "                a[i],a[j]=a[j],a[i] # 자리를 바꿈\n",
    "    \n",
    "    print('카운트횟수:',cnt)            \n",
    "    return a\n",
    "\n",
    "a=[10,20,-100,70,60,55,77]\n",
    "print(bubble_sort(a))\n",
    "a.reverse()\n",
    "print(a)"
   ]
  },
  {
   "cell_type": "code",
   "execution_count": 21,
   "metadata": {},
   "outputs": [
    {
     "name": "stdout",
     "output_type": "stream",
     "text": [
      "[10, 20, 30, 40]\n",
      "50\n",
      "[10, 20, 30]\n",
      "40\n",
      "[10, 20]\n",
      "30\n",
      "[10]\n",
      "20\n"
     ]
    }
   ],
   "source": [
    "a=[10,20,30,40,50]\n",
    "b=a.pop()\n",
    "print(a)\n",
    "print(b)\n",
    "\n",
    "b=a.pop()\n",
    "print(a)\n",
    "print(b)\n",
    "\n",
    "b=a.pop()\n",
    "print(a)\n",
    "print(b)\n",
    "\n",
    "b=a.pop()\n",
    "print(a)\n",
    "print(b)"
   ]
  },
  {
   "cell_type": "code",
   "execution_count": 18,
   "metadata": {},
   "outputs": [
    {
     "name": "stdout",
     "output_type": "stream",
     "text": [
      "[-10, 5, 9, 10, 20, 77, 88]\n"
     ]
    }
   ],
   "source": [
    "#선택정렬\n",
    "def find_min_idx(a): #리스트에서 가장 작은 값을 찾는 함수\n",
    "    n=len(a)\n",
    "    min_idx=0\n",
    "    for i in range(1,n):\n",
    "        if a[i]<a[min_idx]: #더 작은 값이면\n",
    "            min_idx=i #인덱스를 min_idx에 저장\n",
    "    return min_idx #가장 작은 값의 인덱스 리턴\n",
    "\n",
    "def sel_sort(a):\n",
    "    result=[]\n",
    "    while a:\n",
    "        min_idx=find_min_idx(a) #가장 작은 값의 인덱스를 선택 \n",
    "        value=a.pop(min_idx) #뽑아냄(리스트에서 제거됨)\n",
    "        result.append(value) #겨로가 리스트에 추가\n",
    "        \n",
    "    return result\n",
    "\n",
    "v=[10,5,-10,20,77,88,9]\n",
    "print(sel_sort(v))"
   ]
  },
  {
   "cell_type": "code",
   "execution_count": 19,
   "metadata": {},
   "outputs": [
    {
     "name": "stdout",
     "output_type": "stream",
     "text": [
      "2\n",
      "5\n"
     ]
    }
   ],
   "source": [
    "import numpy as np\n",
    "v=[10,5,-10,20,77,88,9]\n",
    "print(np.argmin(v)) #리스트 중에서 가장 작은 값의 인덱스\n",
    "print(np.argmax(v)) #리스트 중에서 가장 큰 값으 인덱스"
   ]
  },
  {
   "cell_type": "code",
   "execution_count": 29,
   "metadata": {},
   "outputs": [
    {
     "name": "stdout",
     "output_type": "stream",
     "text": [
      "7\n",
      "i: 0 min_idx: 2 a: [-10, 5, 10, 20, 77, 88, 9]\n",
      "i: 1 min_idx: 1 a: [-10, 5, 10, 20, 77, 88, 9]\n",
      "i: 2 min_idx: 6 a: [-10, 5, 9, 20, 77, 88, 10]\n",
      "i: 3 min_idx: 6 a: [-10, 5, 9, 10, 77, 88, 20]\n",
      "i: 4 min_idx: 6 a: [-10, 5, 9, 10, 20, 88, 77]\n",
      "i: 5 min_idx: 6 a: [-10, 5, 9, 10, 20, 77, 88]\n",
      "[-10, 5, 9, 10, 20, 77, 88]\n"
     ]
    }
   ],
   "source": [
    "#일반적인 선택정렬\n",
    "def sel_sort(a):\n",
    "    n=len(a)\n",
    "    print(n)\n",
    "    for i in range(0,n-1): #0 ~ n-2\n",
    "        min_idx=i #최소값의 인덱스\n",
    "        for j in range(i+1,n): #i+1 ~n-1\n",
    "            if a[j] < a[min_idx]: # 더 작은 값이면 #부등호와 max 바뀌면 차순이 바뀜\n",
    "                min_idx=j # 최소값의 인덱스 변경\n",
    "            #print(i,j,a)\n",
    "        a[i],a[min_idx]=a[min_idx],a[i]\n",
    "        print('i:',i,'min_idx:',min_idx,'a:',a)\n",
    "        #print(i,j,a)\n",
    "    \n",
    "v=[10,5,-10,20,77,88,9]\n",
    "sel_sort(v)\n",
    "print(v)"
   ]
  },
  {
   "cell_type": "code",
   "execution_count": 33,
   "metadata": {},
   "outputs": [
    {
     "name": "stdout",
     "output_type": "stream",
     "text": [
      "[1, 2, 3, 4, 5, 6]\n",
      "[1, 2, 3, 3.5, 4, 5, 6]\n"
     ]
    }
   ],
   "source": [
    "a=[1,2,3,4,5]\n",
    "a.append(6) #끝에 추가\n",
    "print(a)\n",
    "a.insert(3,3.5) #insert (삽입위치,값)\n",
    "print(a)"
   ]
  },
  {
   "cell_type": "code",
   "execution_count": 30,
   "metadata": {},
   "outputs": [
    {
     "name": "stdout",
     "output_type": "stream",
     "text": [
      "[1, 2, 3, 4, 5]\n"
     ]
    }
   ],
   "source": [
    "#삽입정렬\n",
    "def find_ins_idx(r,v): #리스트 r에서 v가 삽입될 위치를 리턴하는 함수\n",
    "    for i in range(0,len(r)):\n",
    "        if v<r[i]:\n",
    "            return i # 더 작은 값의 인덱스 리턴\n",
    "    return len(r) #맨 마지막 인덱스 리턴\n",
    "\n",
    "def ins_sort(a):\n",
    "    result=[] # 정렬 결과 리스트\n",
    "    while a:\n",
    "        value=a.pop(0) #첫번째 값을 뽑아서\n",
    "        ins_idx=find_ins_idx(result,value)\n",
    "        result.insert(ins_idx,value) #찾은 위치에 삽입\n",
    "    return result\n",
    "\n",
    "d=[2,4,5,1,3]\n",
    "print(ins_sort(d))"
   ]
  },
  {
   "cell_type": "code",
   "execution_count": 39,
   "metadata": {},
   "outputs": [
    {
     "name": "stdout",
     "output_type": "stream",
     "text": [
      "i: 1 key: 1 a: [5, 1, 3, 2, 4]\n",
      "i: 2 key: 3 a: [5, 3, 1, 2, 4]\n",
      "i: 3 key: 2 a: [5, 3, 2, 1, 4]\n",
      "i: 4 key: 4 a: [5, 4, 3, 2, 1]\n",
      "[5, 4, 3, 2, 1]\n"
     ]
    }
   ],
   "source": [
    "#삽입정렬(일반적인 코드)\n",
    "def ins_sort(a):\n",
    "    n=len(a)\n",
    "    for i in range(1,n):\n",
    "        key=a[i] #i값을 key로 저장\n",
    "        j=i-1\n",
    "        #while j>=0 and a[j]>key: #삽입할 값보다 더 작으면\n",
    "        while j>=0 and a[j]<key: #내림차순    \n",
    "            a[j+1] =a[j] #값을 오른쪽으로 이동\n",
    "            j-=1 #인덱스 감소\n",
    "        a[j+1]=key #삽입할 값을 저장\n",
    "        \n",
    "        print('i:',i,'key:',key,'a:',a)\n",
    "\n",
    "v=[5,1,3,2,4]\n",
    "ins_sort(v)\n",
    "print(v)"
   ]
  },
  {
   "cell_type": "code",
   "execution_count": 43,
   "metadata": {},
   "outputs": [
    {
     "name": "stdout",
     "output_type": "stream",
     "text": [
      "10\n",
      "10\n"
     ]
    }
   ],
   "source": [
    "#일반적인 방식의 합계 계산\n",
    "def mysum(arr):\n",
    "    total = 0\n",
    "    for x in arr:\n",
    "        total += x\n",
    "    return total\n",
    "\n",
    "print(mysum([1,2,3,4])) #사용자정의함수\n",
    "print(sum([1,2,3,4])) #기본함수"
   ]
  },
  {
   "cell_type": "code",
   "execution_count": 45,
   "metadata": {},
   "outputs": [
    {
     "data": {
      "text/plain": [
       "10"
      ]
     },
     "execution_count": 45,
     "metadata": {},
     "output_type": "execute_result"
    }
   ],
   "source": [
    "#재귀호출을 사용한 합계 계산\n",
    "def mysum(items):\n",
    "    if items==[]: #빈 리스트이면 0을 리턴\n",
    "        return 0\n",
    "    return items[0]+mysum(items[1:]) #재귀호출\n",
    "\n",
    "mysum([1,2,3,4])"
   ]
  },
  {
   "cell_type": "code",
   "execution_count": 51,
   "metadata": {},
   "outputs": [
    {
     "name": "stdout",
     "output_type": "stream",
     "text": [
      "5\n",
      "5\n"
     ]
    }
   ],
   "source": [
    "#리스트의 원소 갯수 세기(재귀호출 방식)\n",
    "def mycount(items):\n",
    "    if items==[]:\n",
    "        return 0\n",
    "    return 1 + mycount(items[1:])\n",
    "\n",
    "print(mycount([1,2,3,4,5]))\n",
    "print(len([1,2,3,4,5]))"
   ]
  },
  {
   "cell_type": "code",
   "execution_count": 56,
   "metadata": {},
   "outputs": [
    {
     "name": "stdout",
     "output_type": "stream",
     "text": [
      "[1, 2, 3, 4, 5, 6, 7, 8, 9, 10]\n",
      "[2, 4, 6, 8, 10]\n",
      "[1, 3, 5, 7, 9]\n"
     ]
    }
   ],
   "source": [
    "a = list(range(1,11))\n",
    "print(a)\n",
    "even=[i for i in a if i%2==0]\n",
    "print(even)\n",
    "odd=[i for i in a if i%2==1]\n",
    "print(odd)"
   ]
  },
  {
   "cell_type": "code",
   "execution_count": 53,
   "metadata": {},
   "outputs": [
    {
     "data": {
      "text/plain": [
       "[-10, 1, 3, 5, 7, 9]"
      ]
     },
     "execution_count": 53,
     "metadata": {},
     "output_type": "execute_result"
    }
   ],
   "source": [
    "def quicksort(array):\n",
    "    if len(array)<2: #사이즈가 2보다 작으면 그대로 리턴\n",
    "        return array\n",
    "    else:\n",
    "        pivot=array[0] #첫번째값을 피벗(기준값으로 설정)\n",
    "        #피벗보다 작은 값들\n",
    "        less=[i for i in array[1:] if i<=pivot]\n",
    "        #피벗보다 큰 값들\n",
    "        greater=[i for i in array[1:] if i>pivot]\n",
    "        #작은값들 +피벗 + 큰값들로 새로운 리스트를 생성\n",
    "        return quicksort(less) +[pivot]+quicksort(greater)\n",
    "\n",
    "quicksort([-10,5,7,3,1,9])"
   ]
  },
  {
   "cell_type": "code",
   "execution_count": null,
   "metadata": {},
   "outputs": [],
   "source": []
  },
  {
   "cell_type": "code",
   "execution_count": null,
   "metadata": {},
   "outputs": [],
   "source": []
  },
  {
   "cell_type": "code",
   "execution_count": null,
   "metadata": {},
   "outputs": [],
   "source": []
  },
  {
   "cell_type": "code",
   "execution_count": null,
   "metadata": {},
   "outputs": [],
   "source": []
  },
  {
   "cell_type": "code",
   "execution_count": null,
   "metadata": {},
   "outputs": [],
   "source": []
  },
  {
   "cell_type": "code",
   "execution_count": null,
   "metadata": {},
   "outputs": [],
   "source": []
  },
  {
   "cell_type": "code",
   "execution_count": null,
   "metadata": {},
   "outputs": [],
   "source": []
  },
  {
   "cell_type": "code",
   "execution_count": null,
   "metadata": {},
   "outputs": [],
   "source": []
  }
 ],
 "metadata": {
  "kernelspec": {
   "display_name": "Python 3",
   "language": "python",
   "name": "python3"
  },
  "language_info": {
   "codemirror_mode": {
    "name": "ipython",
    "version": 3
   },
   "file_extension": ".py",
   "mimetype": "text/x-python",
   "name": "python",
   "nbconvert_exporter": "python",
   "pygments_lexer": "ipython3",
   "version": "3.7.4"
  }
 },
 "nbformat": 4,
 "nbformat_minor": 2
}
