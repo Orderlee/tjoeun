{
 "cells": [
  {
   "cell_type": "code",
   "execution_count": 1,
   "metadata": {},
   "outputs": [
    {
     "name": "stdout",
     "output_type": "stream",
     "text": [
      "True\n",
      "False\n",
      "False\n",
      "True\n"
     ]
    }
   ],
   "source": [
    "a=[3,1,6,4,9]\n",
    "# 리스트 a안에 1이 있으면 True\n",
    "print(1 in a)\n",
    "# 리스트 a안에 0이 있으면 True\n",
    "print(0 in a)\n",
    "#리스트 a안에 1이 없으면 True\n",
    "print(1 not in a)\n",
    "#리스트 a 안에 0 이 없으면 True\n",
    "print(0 not in a)"
   ]
  },
  {
   "cell_type": "code",
   "execution_count": 3,
   "metadata": {},
   "outputs": [
    {
     "name": "stdout",
     "output_type": "stream",
     "text": [
      "True\n",
      "False\n"
     ]
    }
   ],
   "source": [
    "def myin(a,n):\n",
    "    result=False\n",
    "    for i in a:\n",
    "        if n==i: #찾는 값이 있으면 True로 설정하고 반복문 종료\n",
    "            result=True\n",
    "            break\n",
    "    return result\n",
    "\n",
    "print(myin([1,2,3,4,5],3))\n",
    "print(myin([1,2,3,4,5],0))"
   ]
  },
  {
   "cell_type": "code",
   "execution_count": 4,
   "metadata": {},
   "outputs": [
    {
     "name": "stdout",
     "output_type": "stream",
     "text": [
      "[1, 2, 3, 4, 5, 6]\n"
     ]
    }
   ],
   "source": [
    "a=[1,2,3]\n",
    "b=[4,5,6]\n",
    "c=a+b #리스트를 연결시킴\n",
    "print(c)"
   ]
  },
  {
   "cell_type": "code",
   "execution_count": 5,
   "metadata": {},
   "outputs": [
    {
     "name": "stdout",
     "output_type": "stream",
     "text": [
      "[1, 2, 3, 3, 4, 5]\n"
     ]
    }
   ],
   "source": [
    "a=[1,2,3]\n",
    "b=[3,4,5]\n",
    "c=a+b #중복값이 발생함\n",
    "print(c)"
   ]
  },
  {
   "cell_type": "code",
   "execution_count": 6,
   "metadata": {},
   "outputs": [
    {
     "name": "stdout",
     "output_type": "stream",
     "text": [
      "[1, 2, 3, 4, 5]\n"
     ]
    }
   ],
   "source": [
    "#중복값을 제거하는 코드\n",
    "c=[]\n",
    "for i in a:\n",
    "    if i not in b: #i가 b집합에 없으면 추가\n",
    "        c.append(i)\n",
    "        \n",
    "c=c+b\n",
    "print(c)"
   ]
  },
  {
   "cell_type": "code",
   "execution_count": 7,
   "metadata": {},
   "outputs": [
    {
     "name": "stdout",
     "output_type": "stream",
     "text": [
      "{1, 2, 3, 4, 5}\n"
     ]
    }
   ],
   "source": [
    "a=[1,2,3]\n",
    "b=[3,4,5]\n",
    "c=set() # 집합 자료형\n",
    "for i in a:\n",
    "    c.add(i) #집합에 새로운 값을 추가\n",
    "for i in b:\n",
    "    c.add(i) #중복값은 skip\n",
    "print(c)"
   ]
  },
  {
   "cell_type": "code",
   "execution_count": 11,
   "metadata": {},
   "outputs": [
    {
     "name": "stdout",
     "output_type": "stream",
     "text": [
      "[3]\n"
     ]
    }
   ],
   "source": [
    "a=[1,2,3]\n",
    "b=[3,4,5]\n",
    "c=[] #결과 집합\n",
    "for i in b:\n",
    "    if i in a: #i가 b집합의 원소이면 추가\n",
    "        c.append(i)\n",
    "print(c)"
   ]
  },
  {
   "cell_type": "code",
   "execution_count": 14,
   "metadata": {},
   "outputs": [
    {
     "name": "stdout",
     "output_type": "stream",
     "text": [
      "[1, 2]\n",
      "[1, 2]\n",
      "2056277559176 2056277559176\n"
     ]
    }
   ],
   "source": [
    "#차집합\n",
    "a = [1,2,3]\n",
    "b = [3,4,5]\n",
    "c = a # a가 가리키는 리스트의 시작번지값을 c에 복사(얕은 복사)\n",
    "for i in b:\n",
    "    if i in a:\n",
    "        c.remove(i) #리스트에서 i값을 제거\n",
    "        \n",
    "        #a와C가 같은 리스트를 가리키고 있음\n",
    "print(c)\n",
    "print(a)\n",
    "# id(변수) 변수의 주소값\n",
    "print(id(c),id(a)) #같은 주소를 가리키고 있음"
   ]
  },
  {
   "cell_type": "code",
   "execution_count": 16,
   "metadata": {},
   "outputs": [
    {
     "name": "stdout",
     "output_type": "stream",
     "text": [
      "[1, 2]\n",
      "[1, 2, 3]\n",
      "2056276249864 2056276249480\n"
     ]
    }
   ],
   "source": [
    "#차집합\n",
    "a=[1,2,3]\n",
    "b=[3,4,5]\n",
    "c=a+[] #깊은 복사\n",
    "for i in b:\n",
    "    if i in a:\n",
    "        c.remove(i) #리스트에 i값을 제거\n",
    "print(c) # c는 차집합\n",
    "print(a) # a는 그대로\n",
    "print(id(c),id(a))"
   ]
  },
  {
   "cell_type": "code",
   "execution_count": 20,
   "metadata": {},
   "outputs": [
    {
     "name": "stdout",
     "output_type": "stream",
     "text": [
      "[0, 1, 2, 3, 4, 5, 6, 7, 8, 9]\n",
      "[1, 3, 5, 7, 9]\n",
      "[0, 2, 4, 6, 8]\n"
     ]
    }
   ],
   "source": [
    "#여집합\n",
    "# a 전체집합 b의 여집합\n",
    "# a=[0,1,2,3,4,5,6,7,8,9]\n",
    "a = list(range(10))\n",
    "b=[1,3,5,7,9]\n",
    "print(a)\n",
    "print(b)\n",
    "result = a +[] #집합 a를 깊은 복사\n",
    "for i in b:\n",
    "    if i in a:\n",
    "        result.remove(i)\n",
    "        \n",
    "print(result)"
   ]
  },
  {
   "cell_type": "code",
   "execution_count": 22,
   "metadata": {},
   "outputs": [
    {
     "data": {
      "text/plain": [
       "[1, 2, 3, 4, 5, 6, 9]"
      ]
     },
     "execution_count": 22,
     "metadata": {},
     "output_type": "execute_result"
    }
   ],
   "source": [
    "#합집합 함수\n",
    "def union(a,b):\n",
    "    c=[] #결과를 저장할 리스트\n",
    "    for i in a: # a중에서\n",
    "        if i not in b: #b의 원소가 아닌 값들을 추가\n",
    "            c.append(i)\n",
    "    c=c+b\n",
    "    c.sort() #오름차순 정렬\n",
    "    return c\n",
    "\n",
    "a=[1,3,4,5,6]\n",
    "b=[2,1,6,3,9]\n",
    "union(a,b)"
   ]
  },
  {
   "cell_type": "code",
   "execution_count": 23,
   "metadata": {},
   "outputs": [
    {
     "data": {
      "text/plain": [
       "[1, 3, 6]"
      ]
     },
     "execution_count": 23,
     "metadata": {},
     "output_type": "execute_result"
    }
   ],
   "source": [
    "#교집합 함수\n",
    "def intersection(a,b):\n",
    "    c=[] #결과를 저장할 리스트\n",
    "    for i in a: # a중에서\n",
    "        if i in b: #b의 원소인 값들을 추가\n",
    "            c.append(i)\n",
    "    c.sort() # 오름차순 정렬\n",
    "    return c\n",
    "a=[1,3,4,5,6]\n",
    "b=[2,1,6,3,9]\n",
    "intersection(a,b)"
   ]
  },
  {
   "cell_type": "code",
   "execution_count": 24,
   "metadata": {},
   "outputs": [
    {
     "data": {
      "text/plain": [
       "[1, 2]"
      ]
     },
     "execution_count": 24,
     "metadata": {},
     "output_type": "execute_result"
    }
   ],
   "source": [
    "#차집합\n",
    "a=[1,2,3]\n",
    "b=[3,4,5]\n",
    "\n",
    "def complement(a,b):\n",
    "    c=a+[] #깊은 복사\n",
    "    for i in b:\n",
    "        if i in a:\n",
    "            c.remove(i) #리스트에서 i값을 제거\n",
    "    c.sort()\n",
    "    return c\n",
    "\n",
    "complement(a,b)"
   ]
  },
  {
   "cell_type": "code",
   "execution_count": 25,
   "metadata": {},
   "outputs": [
    {
     "name": "stdout",
     "output_type": "stream",
     "text": [
      "이름:김철수, 나이:20, 신장:170.5, 체중:77.9\n",
      "이름:박철수, 나이:23, 신장:178.5, 체중:70.9\n"
     ]
    }
   ],
   "source": [
    "class Person: #Person 클래스 선언\n",
    "    name=str()\n",
    "    age=int()\n",
    "    height=float()\n",
    "    weight=float()\n",
    "    \n",
    "p1=Person() #Person 클래스의인스턴스가 만들어짐\n",
    "p1.name='김철수'\n",
    "p1.age=20\n",
    "p1.height=170.5\n",
    "p1.weight=77.9\n",
    "print('이름:{}, 나이:{}, 신장:{}, 체중:{}'.format(p1.name,p1.age,p1.height,p1.weight))\n",
    "\n",
    "\n",
    "p2=Person() #Person 클래스의 인스턴스가 만들어짐\n",
    "p2.name='박철수'\n",
    "p2.age=23\n",
    "p2.height=178.5\n",
    "p2.weight=70.9\n",
    "print('이름:{}, 나이:{}, 신장:{}, 체중:{}'.format(p2.name,p2.age,p2.height,p2.weight))"
   ]
  },
  {
   "cell_type": "code",
   "execution_count": 27,
   "metadata": {},
   "outputs": [],
   "source": [
    "class MySet():\n",
    "    a=list()\n",
    "    b=list()\n",
    "    \n",
    "    def setdata(self,a,b): #첫번째 매개변수 자리에 self\n",
    "        self.a=a # self.변수=> 인스턴스 변수(클래스 전체에서 사용가능)\n",
    "        self.b=b # self가 붙지 않은 변수는 지역변수(함수 안에서만 사용)\n",
    "    \n",
    "    #합집합\n",
    "    def union(self):\n",
    "        result = self.b+[]\n",
    "        for i in self.a:\n",
    "            if i not in self.b:\n",
    "                result.append(i)\n",
    "        result.sort()\n",
    "        return result\n",
    "    \n",
    "    #교집합\n",
    "    def intersection(self):\n",
    "        result=[]\n",
    "        for i in self.a:\n",
    "            if i in self.b:\n",
    "                result.append(i)\n",
    "        result.sort()\n",
    "        return result\n",
    "    \n",
    "    #차집합\n",
    "    def complement(self):\n",
    "        result = self.a + []\n",
    "        for i in self.b:\n",
    "            if i in self.a:\n",
    "                result.remove(i)\n",
    "        result.sort()\n",
    "        return result\n",
    "    "
   ]
  },
  {
   "cell_type": "code",
   "execution_count": 29,
   "metadata": {},
   "outputs": [
    {
     "name": "stdout",
     "output_type": "stream",
     "text": [
      "합집합: [1, 2, 3, 4, 5, 6, 9]\n",
      "교집합: [1, 3, 6]\n",
      "차집합: [4, 5]\n"
     ]
    }
   ],
   "source": [
    "#찾보변수=클래스()\n",
    "#클래스의 새로운 인스턴스(객체)를 만들고 시작번지값을 참조변수에 전달\n",
    "c=MySet()\n",
    "a = [1,3,4,5,6]\n",
    "b = [2,1,6,3,9]\n",
    "#참조변수.함수() 참조변수가 가리키는 인스턴스의 함수가 호출됨\n",
    "c.setdata(a,b)\n",
    "print('합집합:',c.union())\n",
    "print('교집합:',c.intersection())\n",
    "print('차집합:',c.complement())"
   ]
  },
  {
   "cell_type": "code",
   "execution_count": 31,
   "metadata": {},
   "outputs": [
    {
     "name": "stdout",
     "output_type": "stream",
     "text": [
      "['건포도', '망고', '배', '복숭아', '사과', '수박', '오렌지', '포도']\n",
      "['복숭아', '사과']\n",
      "['망고', '수박', '포도']\n"
     ]
    }
   ],
   "source": [
    "d=MySet()\n",
    "a = ['사과','포도','망고','수박','복숭아']\n",
    "b = ['복숭아','건포도','오렌지','사과','배']\n",
    "#참조변수.함수() 참조변수가 가리키는 인스턴스의 함수가 호출됨\n",
    "d.setdata(a,b)\n",
    "print(d.union()) #합집합\n",
    "print(d.intersection()) #교집합\n",
    "print(d.complement()) #차집합"
   ]
  },
  {
   "cell_type": "code",
   "execution_count": 32,
   "metadata": {},
   "outputs": [
    {
     "name": "stdout",
     "output_type": "stream",
     "text": [
      "4\n",
      "2\n",
      "7\n"
     ]
    }
   ],
   "source": [
    "#숫자의 자리수 출력\n",
    "def digit(n):\n",
    "    str_number = str(n) #숫자를 스트링을 바꾸고\n",
    "    return len(str_number) #문자 갯수를 리턴\n",
    "\n",
    "print(digit(1234))\n",
    "print(digit(12))\n",
    "print(digit(1234567))"
   ]
  },
  {
   "cell_type": "code",
   "execution_count": null,
   "metadata": {},
   "outputs": [],
   "source": [
    "def intersection(self):\n",
    "        result=[]\n",
    "        for i in self.a:\n",
    "            if i in self.b:\n",
    "                result.append(i)\n",
    "        result.sort()\n",
    "        return result"
   ]
  },
  {
   "cell_type": "code",
   "execution_count": 34,
   "metadata": {},
   "outputs": [
    {
     "name": "stdout",
     "output_type": "stream",
     "text": [
      "12345 34567 <class 'str'> <class 'str'>\n",
      "['3', '4', '5']\n"
     ]
    }
   ],
   "source": [
    "# 두 숫자에 공통된 숫자를 출력\n",
    "def number_inter(a,b):\n",
    "    a1=str(a) #숫자를 문자열로 변환\n",
    "    b1=str(b)\n",
    "    #print(a1,b1,type(a1),type(b1))\n",
    "    c=[]\n",
    "    c=intersection(a1,b1) #교집합을 구하고\n",
    "    c.sort() #오름차순 정렬\n",
    "    return c #리턴\n",
    "\n",
    "a=12345\n",
    "b=34567\n",
    "c=number_inter(a,b)\n",
    "print(c)"
   ]
  },
  {
   "cell_type": "code",
   "execution_count": 36,
   "metadata": {},
   "outputs": [
    {
     "name": "stdout",
     "output_type": "stream",
     "text": [
      "0\n",
      "1\n",
      "1\n",
      "0\n"
     ]
    }
   ],
   "source": [
    "def xor(a,b):\n",
    "    if a+b==1:\n",
    "        return 1\n",
    "    else:\n",
    "        return 0\n",
    "\n",
    "print(xor(0,0))\n",
    "print(xor(1,0))\n",
    "print(xor(0,1))\n",
    "print(xor(1,1))"
   ]
  },
  {
   "cell_type": "code",
   "execution_count": 39,
   "metadata": {},
   "outputs": [
    {
     "name": "stdout",
     "output_type": "stream",
     "text": [
      "[1, 2]\n",
      "[1, 2]\n",
      "a는 b의 부분집합\n",
      "[1]\n",
      "[1, 2]\n",
      "a는 b의 부분집합이 아니다.\n"
     ]
    }
   ],
   "source": [
    "def issubset(a,b):\n",
    "    a.sort()\n",
    "    # a,b의 교집합과 a집합이 같으면\n",
    "    print(intersection(a,b))\n",
    "    print(a)\n",
    "    if intersection(a,b) == a:\n",
    "        print('a는 b의 부분집합')\n",
    "    else:\n",
    "        print('a는 b의 부분집합이 아니다.')\n",
    "        \n",
    "a=[1,2]\n",
    "b=[1,2,3,4,5]\n",
    "issubset(a,b)\n",
    "b.remove(2)\n",
    "issubset(a,b)"
   ]
  },
  {
   "cell_type": "code",
   "execution_count": 41,
   "metadata": {},
   "outputs": [
    {
     "data": {
      "text/plain": [
       "[4, 1, 2, 3]"
      ]
     },
     "execution_count": 41,
     "metadata": {},
     "output_type": "execute_result"
    }
   ],
   "source": [
    "def rotate(items):\n",
    "    result=[]\n",
    "    result.append(items[-1]) #뒤에서 첫번째 값\n",
    "    # items[:1] 마지막 값을 제외한 나머지값들\n",
    "    result = result +(items[:-1])\n",
    "    return result\n",
    "\n",
    "a=[1,2,3,4]\n",
    "rotate(a)"
   ]
  },
  {
   "cell_type": "code",
   "execution_count": null,
   "metadata": {},
   "outputs": [],
   "source": []
  },
  {
   "cell_type": "code",
   "execution_count": null,
   "metadata": {},
   "outputs": [],
   "source": []
  },
  {
   "cell_type": "code",
   "execution_count": null,
   "metadata": {},
   "outputs": [],
   "source": []
  },
  {
   "cell_type": "code",
   "execution_count": null,
   "metadata": {},
   "outputs": [],
   "source": []
  },
  {
   "cell_type": "code",
   "execution_count": null,
   "metadata": {},
   "outputs": [],
   "source": []
  },
  {
   "cell_type": "code",
   "execution_count": null,
   "metadata": {},
   "outputs": [],
   "source": []
  },
  {
   "cell_type": "code",
   "execution_count": null,
   "metadata": {},
   "outputs": [],
   "source": []
  },
  {
   "cell_type": "code",
   "execution_count": null,
   "metadata": {},
   "outputs": [],
   "source": []
  },
  {
   "cell_type": "code",
   "execution_count": null,
   "metadata": {},
   "outputs": [],
   "source": []
  },
  {
   "cell_type": "code",
   "execution_count": null,
   "metadata": {},
   "outputs": [],
   "source": []
  },
  {
   "cell_type": "code",
   "execution_count": null,
   "metadata": {},
   "outputs": [],
   "source": []
  },
  {
   "cell_type": "code",
   "execution_count": null,
   "metadata": {},
   "outputs": [],
   "source": []
  },
  {
   "cell_type": "code",
   "execution_count": null,
   "metadata": {},
   "outputs": [],
   "source": []
  },
  {
   "cell_type": "code",
   "execution_count": null,
   "metadata": {},
   "outputs": [],
   "source": []
  },
  {
   "cell_type": "code",
   "execution_count": null,
   "metadata": {},
   "outputs": [],
   "source": []
  },
  {
   "cell_type": "code",
   "execution_count": null,
   "metadata": {},
   "outputs": [],
   "source": []
  }
 ],
 "metadata": {
  "kernelspec": {
   "display_name": "Python 3",
   "language": "python",
   "name": "python3"
  },
  "language_info": {
   "codemirror_mode": {
    "name": "ipython",
    "version": 3
   },
   "file_extension": ".py",
   "mimetype": "text/x-python",
   "name": "python",
   "nbconvert_exporter": "python",
   "pygments_lexer": "ipython3",
   "version": "3.7.4"
  }
 },
 "nbformat": 4,
 "nbformat_minor": 2
}
