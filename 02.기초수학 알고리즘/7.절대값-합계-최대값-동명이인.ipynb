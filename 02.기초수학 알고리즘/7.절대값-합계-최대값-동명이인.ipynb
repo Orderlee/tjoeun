{
 "cells": [
  {
   "cell_type": "code",
   "execution_count": 1,
   "metadata": {},
   "outputs": [
    {
     "name": "stdout",
     "output_type": "stream",
     "text": [
      "7\n",
      "7\n"
     ]
    }
   ],
   "source": [
    "# abs ()절대값 계산 함수\n",
    "a=-7\n",
    "print(abs(a))\n",
    "a=7\n",
    "print(abs(a))"
   ]
  },
  {
   "cell_type": "code",
   "execution_count": 7,
   "metadata": {},
   "outputs": [
    {
     "name": "stdout",
     "output_type": "stream",
     "text": [
      "5\n",
      "3\n",
      "\n",
      "5.0\n",
      "3.0\n"
     ]
    }
   ],
   "source": [
    "import math\n",
    "\n",
    "def abs_sign(a): #양수이면 그대로, 음수이면 부호를 바ㅜ꺼서 리턴\n",
    "    if a>=0:\n",
    "        return a\n",
    "    else:\n",
    "        return -a\n",
    "\n",
    "def abs_square(a):\n",
    "    b=a*a\n",
    "    return math.sqrt(b) #제곱을 한 후 제곱근을 리턴\n",
    "\n",
    "print(abs_sign(5))\n",
    "print(abs_sign(-3))\n",
    "print()\n",
    "print(abs_square(5))\n",
    "print(abs_square(-3))\n",
    "    "
   ]
  },
  {
   "cell_type": "code",
   "execution_count": 10,
   "metadata": {},
   "outputs": [
    {
     "name": "stdout",
     "output_type": "stream",
     "text": [
      "20\n",
      "20\n"
     ]
    }
   ],
   "source": [
    "a=10\n",
    "a=a+10 #a에 10을 더한 값을 다시 a에 대입\n",
    "print(a)\n",
    "a=10\n",
    "a+=10\n",
    "print(a)"
   ]
  },
  {
   "cell_type": "code",
   "execution_count": 9,
   "metadata": {},
   "outputs": [
    {
     "name": "stdout",
     "output_type": "stream",
     "text": [
      "385\n",
      "338350\n"
     ]
    }
   ],
   "source": [
    "#1~n 숫자 제곱의 합\n",
    "#1*1 +2*2+3*3+....10+*10\n",
    "# s1\n",
    "def sum_sq(n):\n",
    "    s=0\n",
    "    for i in range(1,n+1): #1~n\n",
    "        s=s+i*i\n",
    "        #s+=i*i\n",
    "    return s\n",
    "\n",
    "print(sum_sq(10))\n",
    "print(sum_sq(100))"
   ]
  },
  {
   "cell_type": "code",
   "execution_count": 15,
   "metadata": {},
   "outputs": [
    {
     "name": "stdout",
     "output_type": "stream",
     "text": [
      "range(1, 11)\n",
      "55\n"
     ]
    }
   ],
   "source": [
    "print(range(1,11))\n",
    "a=list(range(1,11)) #1~10 리스트로 저장\n",
    "print(sum(a)) #리스트의 원소들의 합계"
   ]
  },
  {
   "cell_type": "code",
   "execution_count": 14,
   "metadata": {},
   "outputs": [
    {
     "name": "stdout",
     "output_type": "stream",
     "text": [
      "[ 1  2  3  4  5  6  7  8  9 10]\n",
      "55\n"
     ]
    }
   ],
   "source": [
    "import numpy as np #넘파이\n",
    "\n",
    "a=np.arange(1,11) #1~10 리스트 생성\n",
    "print(a)\n",
    "print(np.sum(a)) #넘파이의 합계 계산 함수"
   ]
  },
  {
   "cell_type": "code",
   "execution_count": 12,
   "metadata": {},
   "outputs": [
    {
     "name": "stdout",
     "output_type": "stream",
     "text": [
      "55\n",
      "5050\n"
     ]
    }
   ],
   "source": [
    "def sum_sq(n):\n",
    "    s=0 #합계를 저장할 변수\n",
    "    for i in range(1, n+1): #1~n\n",
    "        s=s+i #합계를 누적시켜서\n",
    "    return s #최종 결과값을 리턴\n",
    "\n",
    "print(sum_sq(10))\n",
    "print(sum_sq(100))"
   ]
  },
  {
   "cell_type": "code",
   "execution_count": 18,
   "metadata": {},
   "outputs": [
    {
     "name": "stdout",
     "output_type": "stream",
     "text": [
      "2.5\n",
      "2\n"
     ]
    }
   ],
   "source": [
    "# a/b 실수몫\n",
    "# a//b 정수몫\n",
    "print(5/2)\n",
    "print(5//2)"
   ]
  },
  {
   "cell_type": "code",
   "execution_count": 17,
   "metadata": {},
   "outputs": [
    {
     "name": "stdout",
     "output_type": "stream",
     "text": [
      "55\n",
      "5050\n"
     ]
    }
   ],
   "source": [
    "\n",
    "def sum_n(n):\n",
    "    return n*(n+1)//2 #정수몫\n",
    "\n",
    "print(sum_n(10))\n",
    "print(sum_n(100))"
   ]
  },
  {
   "cell_type": "code",
   "execution_count": 22,
   "metadata": {},
   "outputs": [
    {
     "name": "stdout",
     "output_type": "stream",
     "text": [
      "1575249403.9121242\n",
      "333333833333500000\n",
      "실행시간: 0.0848848819732666\n"
     ]
    }
   ],
   "source": [
    "import time\n",
    "start=time.time() #타임모듈\n",
    "print(start) #타임스태프(1970.1.1 기준 현재까지의 초)\n",
    "def sum_sq(n):\n",
    "    s=0\n",
    "    for i in range(1,n+1): #1~n\n",
    "        #s+=i*i\n",
    "        s=s+i*i\n",
    "    return s\n",
    "\n",
    "#print(sum_sq(10))\n",
    "print(sum_sq(1000000))\n",
    "end=time.time()\n",
    "print('실행시간:',(end-start))\n",
    "    "
   ]
  },
  {
   "cell_type": "code",
   "execution_count": 23,
   "metadata": {},
   "outputs": [
    {
     "name": "stdout",
     "output_type": "stream",
     "text": [
      "1575249412.7195218\n",
      "385\n",
      "338350\n",
      "333333833333500000\n",
      "실행시간: 0.0\n"
     ]
    }
   ],
   "source": [
    "import time\n",
    "start=time.time()\n",
    "print(start)\n",
    "def sum_a(a):\n",
    "    return a*(a+1)*(2*a+1)//6\n",
    "\n",
    "print(sum_a(10))\n",
    "print(sum_a(100))\n",
    "print(sum_a(1000000))\n",
    "end=time.time()\n",
    "print('실행시간:',(end-start))"
   ]
  },
  {
   "cell_type": "code",
   "execution_count": 25,
   "metadata": {},
   "outputs": [
    {
     "name": "stdout",
     "output_type": "stream",
     "text": [
      "100\n"
     ]
    }
   ],
   "source": [
    "a=[8,9,-5,-7,100,50,70,90,60,55]\n",
    "print(max(a)) #리스트의 원소 중에서 가장 큰 값"
   ]
  },
  {
   "cell_type": "code",
   "execution_count": 29,
   "metadata": {},
   "outputs": [
    {
     "name": "stdout",
     "output_type": "stream",
     "text": [
      "100\n"
     ]
    }
   ],
   "source": [
    "import numpy as np\n",
    "b=np.array(a) #리스트를 넘파이 배열로 변환\n",
    "print(np.max(b)) #넘파이의 최대값 함수"
   ]
  },
  {
   "cell_type": "code",
   "execution_count": 28,
   "metadata": {},
   "outputs": [
    {
     "name": "stdout",
     "output_type": "stream",
     "text": [
      "92\n"
     ]
    }
   ],
   "source": [
    "def find_max(a):\n",
    "    n=len(a) #리스트의 사이즈(원소 갯수)\n",
    "    max_v=a[0] #첫번째 값을 임시 최대값으로 지정\n",
    "    for i in range(1,n):\n",
    "        if a[i] > max_v: #더 큰 값이 나오면 max_v에 저장\n",
    "            max_v = a[i]\n",
    "    return max_v\n",
    "\n",
    "v=[17,92,18,33,58,7,33,42]\n",
    "print(find_max(v))"
   ]
  },
  {
   "cell_type": "code",
   "execution_count": 33,
   "metadata": {},
   "outputs": [
    {
     "name": "stdout",
     "output_type": "stream",
     "text": [
      "4\n",
      "100\n"
     ]
    }
   ],
   "source": [
    "#최대값의 인덱스 값\n",
    "idx=np.argmax(a)\n",
    "print(idx)\n",
    "print(a[idx])"
   ]
  },
  {
   "cell_type": "code",
   "execution_count": 37,
   "metadata": {},
   "outputs": [
    {
     "name": "stdout",
     "output_type": "stream",
     "text": [
      "8\n",
      "1\n"
     ]
    }
   ],
   "source": [
    "def find_max_idx(a):\n",
    "    n=len(a)\n",
    "    #print(n)\n",
    "    max_idx = 0 #최대값의 임시 인덱스값을 0으로 설정\n",
    "    for i in range(1,n):\n",
    "        if a[i] > a[max_idx]: #더 큰 값이면\n",
    "            max_idx = i #인덱스를 저장\n",
    "    return max_idx\n",
    "\n",
    "v=[17,92,18,33,58,7,33,42]\n",
    "print(find_max_idx(v))"
   ]
  },
  {
   "cell_type": "code",
   "execution_count": 47,
   "metadata": {},
   "outputs": [
    {
     "name": "stdout",
     "output_type": "stream",
     "text": [
      "-5\n",
      "-5\n",
      "2\n"
     ]
    }
   ],
   "source": [
    "a=[8,9,-5,7,100,50,70,90,60,55]\n",
    "print(min(a)) #최소값을 구하는 함수\n",
    "print(np.min(a)) #넘파이의 최소값 함수\n",
    "print(np.argmin(a)) #최소값의 인덱스"
   ]
  },
  {
   "cell_type": "code",
   "execution_count": 46,
   "metadata": {},
   "outputs": [
    {
     "name": "stdout",
     "output_type": "stream",
     "text": [
      "7\n"
     ]
    }
   ],
   "source": [
    "def find_min_idx(a):\n",
    "    n=len(a) #리스트의 사이즈(원소갯수)\n",
    "    #print(n)\n",
    "    min_idx = a[0] #첫번째 값을 임시 최소값으로 지정\n",
    "    for i in range(1,n):\n",
    "        if a[i] < min_idx: #더 작은 값이 나오면 min_v에 저장\n",
    "            min_idx = a[i]\n",
    "    return min_idx\n",
    "\n",
    "v=[17,92,18,33,58,7,33,42]\n",
    "print(find_min_idx(v))"
   ]
  },
  {
   "cell_type": "code",
   "execution_count": 49,
   "metadata": {},
   "outputs": [
    {
     "name": "stdout",
     "output_type": "stream",
     "text": [
      "{1, 2}\n",
      "2\n",
      "True\n",
      "True\n"
     ]
    }
   ],
   "source": [
    "s =set() #집합 자료형(순서가 중요하지 않고 중복값은 허용되지 않음)\n",
    "s.add(1) #집합에 원소 추가\n",
    "s.add(1) #중복값은 무시됨\n",
    "s.add(2)\n",
    "print(s)\n",
    "print(len(s))\n",
    "print({1,2}=={1,2})\n",
    "print({1,2}=={2,1}) #순서가 달라도 같은 집합으로 처리됨"
   ]
  },
  {
   "cell_type": "code",
   "execution_count": 51,
   "metadata": {},
   "outputs": [
    {
     "name": "stdout",
     "output_type": "stream",
     "text": [
      "{'홍수민', '김철수'}\n",
      "{'김미영'}\n"
     ]
    }
   ],
   "source": [
    "def find_same_name(a):\n",
    "    n=len(a) #리스트의 원소 갯수\n",
    "    result = set() #집합 자료형 변수 생성\n",
    "    for i in range(0,n-1): #0~n-2까지\n",
    "        for j in range(i+1,n): #i+1~n-2까지\n",
    "            if a[i]==a[j]: #내용이 같으면\n",
    "                result.add(a[i]) #결과 리스트에 추가\n",
    "    return result\n",
    "\n",
    "#중복된 값들을 출력\n",
    "name=['김철수','박철수','홍수민','김철수','김철수','홍수민']\n",
    "print(find_same_name(name))\n",
    "name=['김미영','박수진','이민주','김미영','최숙희']\n",
    "print(find_same_name(name))"
   ]
  },
  {
   "cell_type": "code",
   "execution_count": 53,
   "metadata": {},
   "outputs": [
    {
     "name": "stdout",
     "output_type": "stream",
     "text": [
      "김철수 - 박철수\n",
      "김철수 - 홍수민\n",
      "김철수 - 김철수\n",
      "김철수 - 김철수\n",
      "김철수 - 홍수민\n",
      "박철수 - 홍수민\n",
      "박철수 - 김철수\n",
      "박철수 - 김철수\n",
      "박철수 - 홍수민\n",
      "홍수민 - 김철수\n",
      "홍수민 - 김철수\n",
      "홍수민 - 홍수민\n",
      "김철수 - 김철수\n",
      "김철수 - 홍수민\n",
      "김철수 - 홍수민\n",
      "\n",
      "김미영 - 박수진\n",
      "김미영 - 이민주\n",
      "김미영 - 김미영\n",
      "김미영 - 최숙희\n",
      "박수진 - 이민주\n",
      "박수진 - 김미영\n",
      "박수진 - 최숙희\n",
      "이민주 - 김미영\n",
      "이민주 - 최숙희\n",
      "김미영 - 최숙희\n"
     ]
    }
   ],
   "source": [
    "def print_pairs(a):\n",
    "    n=len(a)\n",
    "    for i in range(0,n-1):\n",
    "        for j in range(i+1,n):\n",
    "            #if a[i] != a[j]: #이름이 다르면 출력\n",
    "            print(a[i],\"-\",a[j])\n",
    "\n",
    "name=['김철수','박철수','홍수민','김철수','김철수','홍수민']\n",
    "print_pairs(name)\n",
    "print()\n",
    "name2=['김미영','박수진','이민주','김미영','최숙희']\n",
    "print_pairs(name2)"
   ]
  },
  {
   "cell_type": "code",
   "execution_count": null,
   "metadata": {},
   "outputs": [],
   "source": []
  }
 ],
 "metadata": {
  "kernelspec": {
   "display_name": "Python 3",
   "language": "python",
   "name": "python3"
  },
  "language_info": {
   "codemirror_mode": {
    "name": "ipython",
    "version": 3
   },
   "file_extension": ".py",
   "mimetype": "text/x-python",
   "name": "python",
   "nbconvert_exporter": "python",
   "pygments_lexer": "ipython3",
   "version": "3.7.4"
  }
 },
 "nbformat": 4,
 "nbformat_minor": 2
}
