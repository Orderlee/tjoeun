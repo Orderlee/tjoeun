{
 "cells": [
  {
   "cell_type": "code",
   "execution_count": 1,
   "metadata": {},
   "outputs": [
    {
     "name": "stdout",
     "output_type": "stream",
     "text": [
      "10.0\n",
      "4.0\n",
      "2.6457513110645907\n",
      "nan\n"
     ]
    },
    {
     "name": "stderr",
     "output_type": "stream",
     "text": [
      "C:\\Anaconda\\lib\\site-packages\\ipykernel_launcher.py:8: RuntimeWarning: invalid value encountered in sqrt\n",
      "  \n"
     ]
    }
   ],
   "source": [
    "import numpy as np #넘파이 로딩\n",
    "\n",
    "#sqrt() 제곱근을 구하는 함수\n",
    "print(np.sqrt(100))\n",
    "print(np.sqrt(16))\n",
    "print(np.sqrt(7))\n",
    "# nan : not anumber 유효한 값이 아닌\n",
    "# na : not available\n",
    "# None : 리턴값이 없거나 유효한 값이 없을 때, 결측값\n",
    "print(np.sqrt(-4))"
   ]
  },
  {
   "cell_type": "code",
   "execution_count": 4,
   "metadata": {},
   "outputs": [
    {
     "name": "stdout",
     "output_type": "stream",
     "text": [
      "[1, 2, 3, 2, 4, 6]\n",
      "[1, 2, 3, 1, 2, 3, 1, 2, 3]\n"
     ]
    }
   ],
   "source": [
    "a=[1,2,3]\n",
    "b=[2,4,6]\n",
    "\n",
    "print(a+b)\n",
    "#print(a*b) 에러 발생\n",
    "print(a*3)"
   ]
  },
  {
   "cell_type": "code",
   "execution_count": 7,
   "metadata": {},
   "outputs": [
    {
     "name": "stdout",
     "output_type": "stream",
     "text": [
      "<class 'list'>\n",
      "<class 'numpy.ndarray'>\n",
      "[1 2 3]\n",
      "1\n",
      "2\n",
      "3\n",
      "[1, 2, 3]\n"
     ]
    }
   ],
   "source": [
    "print(type(a)) #리스트\n",
    "print(type(np.array(a))) #리스트를 넘파이 배열로 전환\n",
    "a1=np.array(a)\n",
    "print(a1)\n",
    "print(a1[0]) #사용법은 리스트와 비슷함\n",
    "print(a1[1])\n",
    "print(a1[2])\n",
    "a2=list(a1) #넘파이 배열을 리스트로 변환\n",
    "print(a2)"
   ]
  },
  {
   "cell_type": "code",
   "execution_count": 5,
   "metadata": {},
   "outputs": [
    {
     "name": "stdout",
     "output_type": "stream",
     "text": [
      "[ 2  8 18]\n",
      "[3 6 9]\n",
      "[ 2  8 18]\n",
      "[-1 -2 -3]\n",
      "[0.5 0.5 0.5]\n"
     ]
    }
   ],
   "source": [
    "print(np.multiply(a,b))\n",
    "print(np.array(a)+np.array(b))\n",
    "print(np.array(a)*np.array(b))\n",
    "print(np.array(a)-np.array(b))\n",
    "print(np.array(a)/np.array(b))"
   ]
  },
  {
   "cell_type": "code",
   "execution_count": 9,
   "metadata": {},
   "outputs": [
    {
     "name": "stdout",
     "output_type": "stream",
     "text": [
      "100\n",
      "-500\n",
      "100\n",
      "-45.42857142857143\n",
      "5\n",
      "6\n"
     ]
    }
   ],
   "source": [
    "a=[-5,8,9,20,50,100,-500]\n",
    "print(np.max(a)) #최대값(넘파이 함수)\n",
    "print(np.min(a)) #최소값(넘파이 함수)\n",
    "print(max(a)) #최대값(기본합수)\n",
    "print(np.average(a)) #평균값\n",
    "print(np.argmax(a)) #최대값의 인덱스\n",
    "print(np.argmin(a)) #최소값의 인덱스"
   ]
  },
  {
   "cell_type": "code",
   "execution_count": 21,
   "metadata": {},
   "outputs": [
    {
     "data": {
      "text/plain": [
       "0"
      ]
     },
     "execution_count": 21,
     "metadata": {},
     "output_type": "execute_result"
    }
   ],
   "source": [
    "#넘파이의 랜덤 함수\n",
    "import numpy as np\n",
    "#랜덤 시드 설정(랜덤의 기준값)\n",
    "#np.random.seed(100) #랜덤시드가 같으면 항상 같은 결과가 출력됨\n",
    "np.random.randint(9) #0~9 미만의 랜던값"
   ]
  },
  {
   "cell_type": "code",
   "execution_count": 22,
   "metadata": {},
   "outputs": [
    {
     "name": "stdout",
     "output_type": "stream",
     "text": [
      "[110 130 134 102 134]\n"
     ]
    }
   ],
   "source": [
    "#100~150미만의 정수난수 5개 생성\n",
    "a=np.random.randint(100,150,size=5)\n",
    "print(a)"
   ]
  },
  {
   "cell_type": "code",
   "execution_count": 23,
   "metadata": {},
   "outputs": [
    {
     "data": {
      "text/plain": [
       "[15, 35, 25, 16, 61, 59, 17, 10, 94, 87]"
      ]
     },
     "execution_count": 23,
     "metadata": {},
     "output_type": "execute_result"
    }
   ],
   "source": [
    "def make_numbers():\n",
    "    numbers=[]\n",
    "    for i in range(10):\n",
    "        num = np.random.randint(1,100)\n",
    "        if num not in numbers:\n",
    "            numbers.append(num)\n",
    "    return numbers\n",
    "\n",
    "make_numbers()"
   ]
  },
  {
   "cell_type": "code",
   "execution_count": 28,
   "metadata": {},
   "outputs": [
    {
     "data": {
      "text/plain": [
       "[3, 5, 2, 6, 4]"
      ]
     },
     "execution_count": 28,
     "metadata": {},
     "output_type": "execute_result"
    }
   ],
   "source": [
    "def make_numbers(a):\n",
    "    numbers=[]\n",
    "    while len(numbers)<a:\n",
    "        num = np.random.randint(1,10)\n",
    "        if num not in numbers:\n",
    "            numbers.append(num)\n",
    "    return numbers\n",
    "#5개의 정수 난수\n",
    "make_numbers(5)"
   ]
  },
  {
   "cell_type": "code",
   "execution_count": null,
   "metadata": {},
   "outputs": [],
   "source": []
  },
  {
   "cell_type": "code",
   "execution_count": null,
   "metadata": {},
   "outputs": [],
   "source": []
  },
  {
   "cell_type": "code",
   "execution_count": null,
   "metadata": {},
   "outputs": [],
   "source": []
  },
  {
   "cell_type": "code",
   "execution_count": null,
   "metadata": {},
   "outputs": [],
   "source": []
  },
  {
   "cell_type": "code",
   "execution_count": null,
   "metadata": {},
   "outputs": [],
   "source": []
  },
  {
   "cell_type": "code",
   "execution_count": null,
   "metadata": {},
   "outputs": [],
   "source": []
  },
  {
   "cell_type": "code",
   "execution_count": null,
   "metadata": {},
   "outputs": [],
   "source": []
  }
 ],
 "metadata": {
  "kernelspec": {
   "display_name": "Python 3",
   "language": "python",
   "name": "python3"
  },
  "language_info": {
   "codemirror_mode": {
    "name": "ipython",
    "version": 3
   },
   "file_extension": ".py",
   "mimetype": "text/x-python",
   "name": "python",
   "nbconvert_exporter": "python",
   "pygments_lexer": "ipython3",
   "version": "3.7.4"
  }
 },
 "nbformat": 4,
 "nbformat_minor": 2
}
