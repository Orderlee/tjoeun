{
 "cells": [
  {
   "cell_type": "code",
   "execution_count": 10,
   "metadata": {},
   "outputs": [
    {
     "name": "stdout",
     "output_type": "stream",
     "text": [
      "레코드가 삭제되었습니다.\n"
     ]
    }
   ],
   "source": [
    "import pymssql # SQL Server 연동 모듈\n",
    "# SQL Server에 접속\n",
    "conn=pymssql.connect(host=r'(local)',database='web',\n",
    "  user='sa',password='1234',charset='utf8')\n",
    "#커서 생성\n",
    "cursor=conn.cursor()\n",
    "sql='delete from product'\n",
    "#sql 명령어가 실행됨\n",
    "cursor.execute(sql)\n",
    "#레코드 추가,수정,삭제의 경우 커밋을 꼭 해야 함\n",
    "conn.commit() \n",
    "print('레코드가 삭제되었습니다.')\n",
    "#리소스 정리\n",
    "cursor.close()\n",
    "conn.close()"
   ]
  },
  {
   "cell_type": "code",
   "execution_count": 7,
   "metadata": {},
   "outputs": [
    {
     "name": "stdout",
     "output_type": "stream",
     "text": [
      "추가되었습니다.\n"
     ]
    }
   ],
   "source": [
    "import pymssql # SQL Server 연동 모듈\n",
    "# SQL Server에 접속\n",
    "conn=pymssql.connect(host=r'(local)',database='web',\n",
    "  user='sa',password='1234',charset='utf8')\n",
    "#커서 생성\n",
    "cursor=conn.cursor()\n",
    "\n",
    "items=[(1,'레몬',1500,'피로 회복에 좋습니다.','lomon.jpg'),\n",
    "      (2,'오렌지',6500,'맛있는 오렌지','orange.jpg'),\n",
    "      (3,'키위',5500,'맛있는 키위','kiwi.jpg'),\n",
    "      (4,'포도',4500,'맛있는 포도','grape.jpg'),\n",
    "      (5,'딸기',2500,'맛있는 딸기','strawberry.jpg'),\n",
    "      (6,'귤',3500,'맛있는 제주도 귤','tagerine.jpg') \n",
    "      ]\n",
    "for row in items:\n",
    "    sql='insert into product values (%d,%s,%d,%s,%s)'\n",
    "    cursor.execute(sql,row) #레코드 1개가 저장됨\n",
    "\n",
    "conn.commit()\n",
    "print('추가되었습니다.')\n",
    "#리소스 정리\n",
    "cursor.close()\n",
    "conn.close()"
   ]
  },
  {
   "cell_type": "code",
   "execution_count": 16,
   "metadata": {},
   "outputs": [
    {
     "name": "stdout",
     "output_type": "stream",
     "text": [
      "추가되었습니다.\n"
     ]
    }
   ],
   "source": [
    "import pymssql # SQL Server 연동 모듈\n",
    "# SQL Server에 접속\n",
    "conn=pymssql.connect(host=r'(local)',database='web',\n",
    "  user='sa',password='1234',charset='utf8')\n",
    "#커서 생성\n",
    "cursor=conn.cursor()\n",
    "\n",
    "items=[(1,'레몬',1500,'피로 회복에 좋습니다.','lomon.jpg'),\n",
    "      (2,'오렌지',6500,'맛있는 오렌지','orange.jpg'),\n",
    "      (3,'키위',5500,'맛있는 키위','kiwi.jpg'),\n",
    "      (4,'포도',4500,'맛있는 포도','grape.jpg'),\n",
    "      (5,'딸기',2500,'맛있는 딸기','strawberry.jpg'),\n",
    "      (6,'귤',3500,'맛있는 제주도 귤','tagerine.jpg') \n",
    "      ]\n",
    "\n",
    "sql='insert into product values (%s,%s,%s,%s,%s)'\n",
    "cursor.executemany(sql,items) \n",
    "\n",
    "conn.commit()\n",
    "print('추가되었습니다.')\n",
    "#리소스 정리\n",
    "cursor.close()\n",
    "conn.close()"
   ]
  },
  {
   "cell_type": "code",
   "execution_count": 12,
   "metadata": {},
   "outputs": [
    {
     "name": "stdout",
     "output_type": "stream",
     "text": [
      "상품갯수: 6\n",
      "(1, '레몬', 1500, '피로 회복에 좋습니다.', 'lomon.jpg')\n",
      "(2, '오렌지', 6500, '맛있는 오렌지', 'orange.jpg')\n",
      "(3, '키위', 5500, '맛있는 키위', 'kiwi.jpg')\n",
      "(4, '포도', 4500, '맛있는 포도', 'grape.jpg')\n",
      "(5, '딸기', 2500, '맛있는 딸기', 'strawberry.jpg')\n",
      "(6, '귤', 3500, '맛있는 제주도 귤', 'tagerine.jpg')\n"
     ]
    }
   ],
   "source": [
    "import pymssql # SQL Server 연동 모듈\n",
    "# SQL Server에 접속\n",
    "conn=pymssql.connect(host=r'(local)',database='web',\n",
    "  user='sa',password='1234',charset='utf8')\n",
    "#커서 생성\n",
    "cursor=conn.cursor()\n",
    "\n",
    "#레코드 갯수\n",
    "# 커서 => sql 실행 => 레코드셋(record set),결과셋(result set)\n",
    "sql='select count(*) from product'\n",
    "cursor.execute(sql) #sql 명령어 실행\n",
    "count=cursor.fetchone() #커서가 가리키는 레코드 1개를 인출\n",
    "print('상품갯수:',count[0])\n",
    "#전체 레코드 조회\n",
    "sql='select * from product'\n",
    "#sql이 실행되고 커서가 레코드셋의 시작번지값을 가리킴\n",
    "cursor.execute(sql) \n",
    "# cursor.fetchone()\n",
    "for row in cursor: #커서가 가리키는 레코드 1개씩을 인출함\n",
    "    print(row)\n",
    "\n",
    "#리소스 정리\n",
    "cursor.close()\n",
    "conn.close()"
   ]
  },
  {
   "cell_type": "code",
   "execution_count": 17,
   "metadata": {},
   "outputs": [
    {
     "name": "stdout",
     "output_type": "stream",
     "text": [
      "수정되었습니다.\n"
     ]
    }
   ],
   "source": [
    "import pymssql # SQL Server 연동 모듈\n",
    "# SQL Server에 접속\n",
    "conn=pymssql.connect(host=r'(local)',database='web',\n",
    "  user='sa',password='1234',charset='utf8')\n",
    "#커서 생성\n",
    "cursor=conn.cursor()\n",
    "\n",
    "#일부 레코드 삭제\n",
    "sql='delete from product where product_id=6'\n",
    "cursor.execute(sql)\n",
    "conn.commit()\n",
    "print('삭제되었습니다.')\n",
    "#일부 레코드 수정\n",
    "sql='update product set price=5500 where product_id=5'\n",
    "cursor.execute(sql)\n",
    "conn.commit()\n",
    "print('수정되었습니다.')\n",
    "#리소스 정리\n",
    "cursor.close()\n",
    "conn.close()"
   ]
  },
  {
   "cell_type": "code",
   "execution_count": 18,
   "metadata": {},
   "outputs": [
    {
     "name": "stdout",
     "output_type": "stream",
     "text": [
      "레코드가 삭제되었습니다.\n"
     ]
    }
   ],
   "source": [
    "import pymssql # SQL Server 연동 모듈\n",
    "\n",
    "def product_delete():\n",
    "    conn=pymssql.connect(host=r'(local)',database='web',\n",
    "      user='sa',password='1234',charset='utf8')\n",
    "    cursor=conn.cursor()\n",
    "    sql='delete from product'\n",
    "    cursor.execute(sql)\n",
    "    conn.commit() \n",
    "    print('레코드가 삭제되었습니다.')\n",
    "    cursor.close()\n",
    "    conn.close()    \n",
    "    \n",
    "product_delete()    "
   ]
  },
  {
   "cell_type": "code",
   "execution_count": null,
   "metadata": {},
   "outputs": [],
   "source": []
  },
  {
   "cell_type": "code",
   "execution_count": null,
   "metadata": {},
   "outputs": [],
   "source": []
  }
 ],
 "metadata": {
  "kernelspec": {
   "display_name": "Python 3",
   "language": "python",
   "name": "python3"
  },
  "language_info": {
   "codemirror_mode": {
    "name": "ipython",
    "version": 3
   },
   "file_extension": ".py",
   "mimetype": "text/x-python",
   "name": "python",
   "nbconvert_exporter": "python",
   "pygments_lexer": "ipython3",
   "version": "3.7.4"
  }
 },
 "nbformat": 4,
 "nbformat_minor": 2
}
