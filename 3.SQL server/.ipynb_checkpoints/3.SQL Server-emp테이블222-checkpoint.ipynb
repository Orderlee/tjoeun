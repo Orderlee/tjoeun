{
 "cells": [
  {
   "cell_type": "code",
   "execution_count": 1,
   "metadata": {},
   "outputs": [
    {
     "name": "stderr",
     "output_type": "stream",
     "text": [
      "C:\\Anaconda\\lib\\site-packages\\ipykernel_launcher.py:1: DeprecationWarning: Using or importing the ABCs from 'collections' instead of from 'collections.abc' is deprecated, and in 3.8 it will stop working\n",
      "  \"\"\"Entry point for launching an IPython kernel.\n"
     ]
    }
   ],
   "source": [
    "import pymssql # SQL Server 연동 모듈\n",
    "\n",
    "def emp_list():\n",
    "    # SQL Server에 접속\n",
    "    conn=pymssql.connect(host=r'(local)',database='web',\n",
    "      user='sa',password='1234',charset='utf8')\n",
    "    #커서 생성\n",
    "    cursor=conn.cursor()\n",
    "\n",
    "    sql='select * from emp'\n",
    "    cursor.execute(sql)\n",
    "    rows=cursor.fetchall()\n",
    "    print('사번\\t이름\\t직급\\t관리자\\t입사일자\\t\\t급여\\t커미션\\t연봉\\t부서')\n",
    "    print('='*80)\n",
    "    for row in rows:\n",
    "        if row[6]==None: # 필드값이 None이면 0으로 처리\n",
    "            comm=0\n",
    "        else: # None이 아니면 숫자로 바꿔서 저장\n",
    "            comm=row[6]\n",
    "        #연봉 계산\n",
    "        money=row[5]*12 + comm\n",
    "\n",
    "        #부서이름 처리\n",
    "        if row[7]==10:\n",
    "            dname='총무팀'\n",
    "        elif row[7]==20:\n",
    "            dname='경리팀'\n",
    "        elif row[7]==30:\n",
    "            dname='연구팀'\n",
    "        else:\n",
    "            dname='기타'\n",
    "\n",
    "        # {:,} 천단위 컴머 추가\n",
    "        print('{}\\t{}\\t{}\\t{}\\t{}\\t{}\\t{}\\t{:,}\\t{}'.format(\n",
    "    row[0],row[1],row[2],row[3],row[4],row[5],comm,money,dname))\n",
    "\n",
    "    #리소스 정리\n",
    "    cursor.close()\n",
    "    conn.close()"
   ]
  },
  {
   "cell_type": "code",
   "execution_count": 2,
   "metadata": {},
   "outputs": [],
   "source": [
    "import pymssql # SQL Server 연동 모듈\n",
    "def emp_delete():\n",
    "    conn=pymssql.connect(host=r'(local)',database='web',\n",
    "      user='sa',password='1234',charset='utf8')\n",
    "    cursor=conn.cursor()\n",
    "\n",
    "    sql='delete from emp'\n",
    "    cursor.execute(sql)\n",
    "    conn.commit() \n",
    "    print('처리되었습니다.')\n",
    "    cursor.close()\n",
    "    conn.close()"
   ]
  },
  {
   "cell_type": "code",
   "execution_count": 3,
   "metadata": {},
   "outputs": [],
   "source": [
    "import pymssql # SQL Server 연동 모듈\n",
    "def emp_insert():\n",
    "    conn=pymssql.connect(host=r'(local)',database='web',\n",
    "      user='sa',password='1234',charset='utf8')\n",
    "    cursor=conn.cursor()\n",
    "\n",
    "    sql='insert into emp values (%d,%s,%s,%s,%d,%d,%s,%d)'\n",
    "    items=[(7369,'김철수','사원',7902,'2000-12-17',200,None,20),\n",
    "          (7499,'이찬수','주임',7698,'2001-02-20',260,300,30),\n",
    "          (7521,'박종수','주임',7698,'2002-02-22',325,500,30),\n",
    "          (7566,'임채호','과장',7839,'2001-04-02',497,None,20),\n",
    "          (7654,'나대호','주임',7698,'2001-09-28',325,1400,30)\n",
    "          ]\n",
    "    cursor.executemany(sql,items)\n",
    "    conn.commit() \n",
    "    print('처리되었습니다.')\n",
    "    cursor.close()\n",
    "    conn.close()"
   ]
  },
  {
   "cell_type": "code",
   "execution_count": 4,
   "metadata": {},
   "outputs": [
    {
     "name": "stdout",
     "output_type": "stream",
     "text": [
      "처리되었습니다.\n",
      "처리되었습니다.\n",
      "처리되었습니다.\n",
      "사번\t이름\t직급\t관리자\t입사일자\t\t급여\t커미션\t연봉\t부서\n",
      "================================================================================\n",
      "7369\t김철수\t사원\t7902\t2000-12-17\t220\t0\t2,640\t경리팀\n",
      "7499\t이찬수\t주임\t7698\t2001-02-20\t286\t300\t3,732\t연구팀\n",
      "7521\t박종수\t주임\t7698\t2002-02-22\t357\t500\t4,784\t연구팀\n",
      "7566\t임채호\t과장\t7839\t2001-04-02\t546\t0\t6,552\t경리팀\n",
      "7654\t나대호\t주임\t7698\t2001-09-28\t357\t1400\t5,684\t연구팀\n"
     ]
    }
   ],
   "source": [
    "# 급여 인상 : 전체 직원 10% 인상\n",
    "import pymssql # SQL Server 연동 모듈\n",
    "def sal_increase():\n",
    "    conn=pymssql.connect(host=r'(local)',database='web',\n",
    "      user='sa',password='1234',charset='utf8')\n",
    "    cursor=conn.cursor()\n",
    "\n",
    "    sql='update emp set sal=sal*1.1'\n",
    "    cursor.execute(sql)\n",
    "    conn.commit() \n",
    "    print('처리되었습니다.')\n",
    "    cursor.close()\n",
    "    conn.close()\n",
    "\n",
    "emp_delete() #전체 레코드 삭제\n",
    "emp_insert() #전체 레코드 추가\n",
    "# (7369,'김철수','사원',7902,'2000-12-17',200,None,20)\n",
    "sal_increase()    \n",
    "emp_list()"
   ]
  },
  {
   "cell_type": "code",
   "execution_count": null,
   "metadata": {},
   "outputs": [],
   "source": []
  },
  {
   "cell_type": "code",
   "execution_count": null,
   "metadata": {},
   "outputs": [],
   "source": []
  },
  {
   "cell_type": "code",
   "execution_count": null,
   "metadata": {},
   "outputs": [],
   "source": []
  },
  {
   "cell_type": "code",
   "execution_count": null,
   "metadata": {},
   "outputs": [],
   "source": []
  },
  {
   "cell_type": "code",
   "execution_count": null,
   "metadata": {},
   "outputs": [],
   "source": []
  },
  {
   "cell_type": "code",
   "execution_count": null,
   "metadata": {},
   "outputs": [],
   "source": []
  },
  {
   "cell_type": "code",
   "execution_count": null,
   "metadata": {},
   "outputs": [],
   "source": []
  }
 ],
 "metadata": {
  "kernelspec": {
   "display_name": "Python 3",
   "language": "python",
   "name": "python3"
  },
  "language_info": {
   "codemirror_mode": {
    "name": "ipython",
    "version": 3
   },
   "file_extension": ".py",
   "mimetype": "text/x-python",
   "name": "python",
   "nbconvert_exporter": "python",
   "pygments_lexer": "ipython3",
   "version": "3.7.4"
  }
 },
 "nbformat": 4,
 "nbformat_minor": 2
}
