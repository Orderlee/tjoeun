{
 "cells": [
  {
   "cell_type": "code",
   "execution_count": 27,
   "metadata": {},
   "outputs": [],
   "source": [
    "import pymssql #SQL Server 연동 모듈\n",
    "\n",
    "def emp_list():\n",
    "    \n",
    "    #sql sever에 접속\n",
    "    conn=pymssql.connect(host=r'(local)',database='web',\n",
    "                        user='sa',password='1234',charset='utf8')\n",
    "    cursor=conn.cursor()\n",
    "\n",
    "    sql='select * from emp'\n",
    "    cursor.execute(sql)\n",
    "    rows=cursor.fetchall()\n",
    "    print('''\n",
    "    사번\\t이름\\t직급\\t관리자\\t입사일자\\t\\t급여\\t커미션\\t연봉\\t부서''')\n",
    "    print('='*80)\n",
    "    for row in rows: #필드값이 None이면 0으로 처리\n",
    "        if row[6]==None:\n",
    "            comm=0\n",
    "        else: #None이 아니면 숫자로 바꿔서 저장\n",
    "            comm=int(row[6])\n",
    "        #연봉 계산 \n",
    "        money=row[5]*12+comm\n",
    "        #{:,} 천단위 컴머 추가\n",
    "\n",
    "        if row[7]==10:\n",
    "            dname='총무팀'\n",
    "        elif row[7]==20:\n",
    "            dname='경리팀'\n",
    "        elif row[7]==30:\n",
    "            dname='연구팀'\n",
    "        else:\n",
    "            dname='기타'\n",
    "\n",
    "        print('{}\\t{}\\t{}\\t{}\\t{}\\t{}\\t{}\\t{:,}\\t{}'.format(row[0],\n",
    "        row[1],row[2],row[3],row[4],row[5],comm,money,dname))\n",
    "\n",
    "    cursor.close()\n",
    "    conn.close()"
   ]
  },
  {
   "cell_type": "code",
   "execution_count": 32,
   "metadata": {},
   "outputs": [],
   "source": [
    "import pymssql\n",
    "def emp_delete():\n",
    "    conn=pymssql.connect(host=r'(local)',databse='web',\n",
    "                        user='sa',password='1234',charser='utf8')\n",
    "    cursor=conn.cursor()\n",
    "    \n",
    "    sql='delete from emp'\n",
    "    cursor.execute(sql)\n",
    "    conn.commit()\n",
    "    print('처리되었습니다.')\n",
    "    conn.close()"
   ]
  },
  {
   "cell_type": "code",
   "execution_count": null,
   "metadata": {},
   "outputs": [],
   "source": [
    "import pymssql\n",
    "def emp_insert():\n",
    "    conn=pymssql.connect(host=r'(local)'),database='web',\n",
    "    user='sa',password='1234',charset='utf8')\n",
    "    cursor=conn.cursor()\n",
    "    \n",
    "    sql='insert into emp values (%d,%s,%s,%s,%d,%d,%s,%d)'\n",
    "    items=[(7369,'김철수','사원',7902,'2000-12-17',200,None,20),\n",
    "          (7499,'이찬수','주임',7698,'2001-02-20',260,300,30),\n",
    "          (7521,'박종수','주임',7698,'2002-02-22',325,500,30),\n",
    "          (7566,'임채호','과장',7839,'2001-04-02',497,None,20),\n",
    "          (7654,'나대호','주임',7698,'2001-09-28',325,1400,30)\n",
    "          ]\n",
    "    cursor.executemany(sql,items)\n",
    "    conn.commit()\n",
    "    print('처리되었습니다.')\n",
    "    cursor.close()\n",
    "    conn.close()"
   ]
  },
  {
   "cell_type": "code",
   "execution_count": 29,
   "metadata": {},
   "outputs": [
    {
     "name": "stdout",
     "output_type": "stream",
     "text": [
      "처리되었습니다.\n",
      "\n",
      "    사번\t이름\t직급\t관리자\t입사일자\t\t급여\t커미션\t연봉\t부서\n",
      "================================================================================\n",
      "7369\t김철수\t사원\t7902\t2000-12-17\t266\t0\t3,192\t경리팀\n",
      "7499\t이찬수\t주임\t7698\t2001-02-20\t345\t300\t4,440\t연구팀\n",
      "7521\t박종수\t주임\t7698\t2002-02-22\t431\t500\t5,672\t연구팀\n",
      "7566\t임채호\t과장\t7839\t2001-04-02\t660\t0\t7,920\t경리팀\n",
      "7654\t나대호\t주임\t7698\t2001-09-28\t431\t1400\t6,572\t연구팀\n",
      "7698\t박지성\t과장\t7839\t2001-05-01\t644\t0\t7,728\t연구팀\n",
      "7782\t구자철\t과장\t7839\t2001-06-09\t590\t0\t7,080\t총무팀\n",
      "7788\t송기성\t부장\t7566\t1997-04-17\t665\t0\t7,980\t경리팀\n",
      "7839\t김철호\t대표\tNone\t2001-11-17\t1064\t0\t12,768\t총무팀\n",
      "7844\t성명준\t주임\t7698\t2001-09-08\t465\t0\t5,580\t연구팀\n",
      "7876\t황인태\t사원\t7788\t2007-05-23\t279\t0\t3,348\t경리팀\n",
      "7900\t박민성\t사원\t7698\t2001-12-03\t391\t0\t4,692\t연구팀\n",
      "7902\t박진성\t부장\t7566\t2001-12-03\t798\t0\t9,576\t경리팀\n",
      "7934\t최철호\t사원\t7782\t2012-01-23\t305\t0\t3,660\t총무팀\n"
     ]
    }
   ],
   "source": [
    "#급여 인상: 전체 직원 10% 인상\n",
    "\n",
    "import pymssql\n",
    "conn=pymssql.connect(host=r'(local)',database='web',\n",
    "                    user='sa',password='1234',charset='utf8')\n",
    "cursor=conn.cursor()\n",
    "\n",
    "sql='update emp set sal=sal*1.1'\n",
    "cursor.execute(sql)\n",
    "#레코드 추가,수정,삭제 작업은 커밋 필수\n",
    "conn.commit() \n",
    "print('처리되었습니다.')\n",
    "\n",
    "cursor.close()\n",
    "conn.close()\n",
    "\n"
   ]
  },
  {
   "cell_type": "code",
   "execution_count": 30,
   "metadata": {},
   "outputs": [],
   "source": [
    "#급여 인상: 전체 직원 10% 인상\n",
    "\n",
    "import pymssql\n",
    "def sal_increase():\n",
    "    conn=pymssql.connect(host=r'(local)',database='web',\n",
    "                        user='sa',password='1234',charset='utf8')\n",
    "    cursor=conn.cursor()\n",
    "\n",
    "    sql='update emp set sal=sal*1.1'\n",
    "    cursor.execute(sql)\n",
    "    #레코드 추가,수정,삭제 작업은 커밋 필수\n",
    "    conn.commit() \n",
    "    print('처리되었습니다.')\n",
    "\n",
    "    cursor.close()\n",
    "    conn.close()\n"
   ]
  },
  {
   "cell_type": "code",
   "execution_count": 31,
   "metadata": {},
   "outputs": [
    {
     "name": "stdout",
     "output_type": "stream",
     "text": [
      "처리되었습니다.\n",
      "\n",
      "    사번\t이름\t직급\t관리자\t입사일자\t\t급여\t커미션\t연봉\t부서\n",
      "================================================================================\n",
      "7369\t김철수\t사원\t7902\t2000-12-17\t292\t0\t3,504\t경리팀\n",
      "7499\t이찬수\t주임\t7698\t2001-02-20\t379\t300\t4,848\t연구팀\n",
      "7521\t박종수\t주임\t7698\t2002-02-22\t474\t500\t6,188\t연구팀\n",
      "7566\t임채호\t과장\t7839\t2001-04-02\t726\t0\t8,712\t경리팀\n",
      "7654\t나대호\t주임\t7698\t2001-09-28\t474\t1400\t7,088\t연구팀\n",
      "7698\t박지성\t과장\t7839\t2001-05-01\t708\t0\t8,496\t연구팀\n",
      "7782\t구자철\t과장\t7839\t2001-06-09\t649\t0\t7,788\t총무팀\n",
      "7788\t송기성\t부장\t7566\t1997-04-17\t731\t0\t8,772\t경리팀\n",
      "7839\t김철호\t대표\tNone\t2001-11-17\t1170\t0\t14,040\t총무팀\n",
      "7844\t성명준\t주임\t7698\t2001-09-08\t511\t0\t6,132\t연구팀\n",
      "7876\t황인태\t사원\t7788\t2007-05-23\t306\t0\t3,672\t경리팀\n",
      "7900\t박민성\t사원\t7698\t2001-12-03\t430\t0\t5,160\t연구팀\n",
      "7902\t박진성\t부장\t7566\t2001-12-03\t877\t0\t10,524\t경리팀\n",
      "7934\t최철호\t사원\t7782\t2012-01-23\t335\t0\t4,020\t총무팀\n"
     ]
    }
   ],
   "source": [
    "sal_increase()\n",
    "emp_list()"
   ]
  },
  {
   "cell_type": "code",
   "execution_count": null,
   "metadata": {},
   "outputs": [],
   "source": [
    "emp_delete()\n",
    "emp_insert()\n",
    "sal_increase()\n",
    "emp_list()"
   ]
  },
  {
   "cell_type": "code",
   "execution_count": null,
   "metadata": {},
   "outputs": [],
   "source": []
  },
  {
   "cell_type": "code",
   "execution_count": null,
   "metadata": {},
   "outputs": [],
   "source": []
  },
  {
   "cell_type": "code",
   "execution_count": null,
   "metadata": {},
   "outputs": [],
   "source": []
  },
  {
   "cell_type": "code",
   "execution_count": null,
   "metadata": {},
   "outputs": [],
   "source": []
  },
  {
   "cell_type": "code",
   "execution_count": null,
   "metadata": {},
   "outputs": [],
   "source": []
  },
  {
   "cell_type": "code",
   "execution_count": null,
   "metadata": {},
   "outputs": [],
   "source": []
  },
  {
   "cell_type": "code",
   "execution_count": null,
   "metadata": {},
   "outputs": [],
   "source": []
  }
 ],
 "metadata": {
  "kernelspec": {
   "display_name": "Python 3",
   "language": "python",
   "name": "python3"
  },
  "language_info": {
   "codemirror_mode": {
    "name": "ipython",
    "version": 3
   },
   "file_extension": ".py",
   "mimetype": "text/x-python",
   "name": "python",
   "nbconvert_exporter": "python",
   "pygments_lexer": "ipython3",
   "version": "3.7.4"
  }
 },
 "nbformat": 4,
 "nbformat_minor": 2
}
