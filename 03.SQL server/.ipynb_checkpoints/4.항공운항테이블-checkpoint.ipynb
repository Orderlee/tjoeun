{
 "cells": [
  {
   "cell_type": "code",
   "execution_count": 2,
   "metadata": {},
   "outputs": [
    {
     "name": "stdout",
     "output_type": "stream",
     "text": [
      "('2008', '1', '3', '4', '2003', '1955', '2211', '2225', 'WN', '335', 'N712SW', '128', '150', '116', '-14', '8', 'IAD', 'TPA', '810', '4', '8', '0', '', '0', 'NA', 'NA', 'NA', 'NA', 'NA')\n",
      "('2008', '1', '3', '4', '754', '735', '1002', '1000', 'WN', '3231', 'N772SW', '128', '145', '113', '2', '19', 'IAD', 'TPA', '810', '5', '10', '0', '', '0', 'NA', 'NA', 'NA', 'NA', 'NA')\n",
      "('2008', '1', '3', '4', '628', '620', '804', '750', 'WN', '448', 'N428WN', '96', '90', '76', '14', '8', 'IND', 'BWI', '515', '3', '17', '0', '', '0', 'NA', 'NA', 'NA', 'NA', 'NA')\n",
      "('2008', '1', '3', '4', '926', '930', '1054', '1100', 'WN', '1746', 'N612SW', '88', '90', '78', '-6', '-4', 'IND', 'BWI', '515', '3', '7', '0', '', '0', 'NA', 'NA', 'NA', 'NA', 'NA')\n",
      "('2008', '1', '3', '4', '1829', '1755', '1959', '1925', 'WN', '3920', 'N464WN', '90', '90', '77', '34', '34', 'IND', 'BWI', '515', '3', '10', '0', '', '0', '2', '0', '0', '0', '32')\n"
     ]
    }
   ],
   "source": [
    "import pymssql\n",
    "\n",
    "conn=pymssql.connect(host=r'(local)', database='web', user='sa',\n",
    "                    password='1234', charset='utf8')\n",
    "cursor=conn.cursor()\n",
    "#ontime 테이블의 상위 5개 레코드 출력\n",
    "sql='select top 5 * from ontime'\n",
    "cursor.execute(sql)\n",
    "rows=cursor.fetchall()\n",
    "for row in rows:\n",
    "    print(row)\n",
    "    \n",
    "cursor.close()\n",
    "conn.close()\n"
   ]
  },
  {
   "cell_type": "code",
   "execution_count": 3,
   "metadata": {},
   "outputs": [
    {
     "name": "stdout",
     "output_type": "stream",
     "text": [
      "('B6', 12)\n",
      "('AA', 12)\n",
      "('UA', 13)\n",
      "('CO', 13)\n",
      "('HA', 0)\n",
      "('XE', 11)\n",
      "('YV', 11)\n",
      "('MQ', 10)\n",
      "('OH', 11)\n",
      "('9E', 6)\n",
      "('OO', 7)\n",
      "('DL', 7)\n",
      "('US', 5)\n",
      "('F9', 5)\n",
      "('AS', 6)\n",
      "('FL', 9)\n",
      "('NW', 6)\n",
      "('WN', 10)\n",
      "('EV', 11)\n",
      "('AQ', -1)\n"
     ]
    }
   ],
   "source": [
    "import pymssql\n",
    "\n",
    "conn=pymssql.connect(host=r'(local)', database='web', user='sa',\n",
    "                    password='1234', charset='utf8')\n",
    "cursor=conn.cursor()\n",
    "#항공사코드별 평균출발지연시간\n",
    "sql='''\n",
    "select uniquecarrier, avg(cast(depdelay as int))\n",
    "from ontime\n",
    "group by uniquecarrier\n",
    "'''\n",
    "cursor.execute(sql)\n",
    "rows=cursor.fetchall()\n",
    "for row in rows:\n",
    "    print(row)\n",
    "    \n",
    "cursor.close()\n",
    "conn.close()"
   ]
  },
  {
   "cell_type": "code",
   "execution_count": 4,
   "metadata": {},
   "outputs": [
    {
     "name": "stdout",
     "output_type": "stream",
     "text": [
      "('B6', 10)\n",
      "('AA', 12)\n",
      "('UA', 11)\n",
      "('CO', 10)\n",
      "('HA', 1)\n",
      "('XE', 10)\n",
      "('YV', 11)\n",
      "('MQ', 9)\n",
      "('OH', 11)\n",
      "('9E', 3)\n",
      "('OO', 6)\n",
      "('DL', 7)\n",
      "('US', 2)\n",
      "('F9', 6)\n",
      "('AS', 4)\n",
      "('FL', 8)\n",
      "('NW', 7)\n",
      "('WN', 5)\n",
      "('EV', 10)\n",
      "('AQ', -2)\n"
     ]
    }
   ],
   "source": [
    "import pymssql\n",
    "\n",
    "conn=pymssql.connect(host=r'(local)', database='web', user='sa',\n",
    "                    password='1234', charset='utf8')\n",
    "cursor=conn.cursor()\n",
    "#항공사코드별 평균도착지연시간\n",
    "sql='''\n",
    "select uniquecarrier, avg(cast(arrdelay as int))\n",
    "from ontime\n",
    "group by uniquecarrier\n",
    "'''\n",
    "cursor.execute(sql)\n",
    "rows=cursor.fetchall()\n",
    "for row in rows:\n",
    "    print(row)\n",
    "    \n",
    "cursor.close()\n",
    "conn.close()"
   ]
  },
  {
   "cell_type": "code",
   "execution_count": 7,
   "metadata": {},
   "outputs": [
    {
     "name": "stdout",
     "output_type": "stream",
     "text": [
      "1 279427\n",
      "2 278902\n",
      "3 294556\n",
      "4 256142\n",
      "5 254673\n",
      "6 295897\n",
      "7 264630\n",
      "8 239737\n",
      "9 169959\n",
      "10 183582\n",
      "11 181506\n",
      "12 280493\n"
     ]
    }
   ],
   "source": [
    "import pymssql\n",
    "\n",
    "conn=pymssql.connect(host=r'(local)', database='web', user='sa',\n",
    "                    password='1234', charset='utf8')\n",
    "cursor=conn.cursor()\n",
    "\n",
    "sql='''\n",
    "select month, count(*)\n",
    "from ontime\n",
    "where arrdelay >0\n",
    "group by month\n",
    "order by cast(month as int)\n",
    "'''\n",
    "cursor.execute(sql)\n",
    "rows=cursor.fetchall()\n",
    "for row in rows:\n",
    "    print(row[0],row[1])\n",
    "    \n",
    "cursor.close()\n",
    "conn.close()"
   ]
  },
  {
   "cell_type": "code",
   "execution_count": 8,
   "metadata": {},
   "outputs": [
    {
     "name": "stdout",
     "output_type": "stream",
     "text": [
      "[1, 2, 3, 4, 5, 6, 7, 8, 9, 10, 11, 12]\n",
      "[279427, 278902, 294556, 256142, 254673, 295897, 264630, 239737, 169959, 183582, 181506, 280493]\n"
     ]
    }
   ],
   "source": [
    "x=list(range(1,13)) #1~12\n",
    "y=[]\n",
    "for row in rows:\n",
    "    y.append(row[1]) # y리스트에 추가\n",
    "print(x)\n",
    "print(y)\n"
   ]
  },
  {
   "cell_type": "code",
   "execution_count": 13,
   "metadata": {},
   "outputs": [
    {
     "data": {
      "text/plain": [
       "(array([ 0,  1,  2,  3,  4,  5,  6,  7,  8,  9, 10, 11]),\n",
       " <a list of 12 Text xticklabel objects>)"
      ]
     },
     "execution_count": 13,
     "metadata": {},
     "output_type": "execute_result"
    },
    {
     "data": {
      "image/png": "[encoded data removed]",
      "text/plain": [
       "<Figure size 432x288 with 1 Axes>"
      ]
     },
     "metadata": {
      "needs_background": "light"
     },
     "output_type": "display_data"
    }
   ],
   "source": [
    "#판다스 로딩\n",
    "import pandas as pd \n",
    "#그래프 출력 옵션\n",
    "%matplotlib inline \n",
    "import matplotlib.pyplot as plt\n",
    "# 시리즈: 판다스에서 지원하는 1차원 자료형\n",
    "s1=pd.Series(y,index=x)\n",
    "s1.plot(kind='bar') #막대그래프 출력\n",
    "plt.xticks(rotation=0)"
   ]
  },
  {
   "cell_type": "code",
   "execution_count": 12,
   "metadata": {},
   "outputs": [
    {
     "data": {
      "text/plain": [
       "[<matplotlib.lines.Line2D at 0x255492fa048>]"
      ]
     },
     "execution_count": 12,
     "metadata": {},
     "output_type": "execute_result"
    },
    {
     "data": {
      "image/png": "[encoded data removed]",
      "text/plain": [
       "<Figure size 432x288 with 1 Axes>"
      ]
     },
     "metadata": {
      "needs_background": "light"
     },
     "output_type": "display_data"
    }
   ],
   "source": [
    "%matplotlib inline\n",
    "import matplotlib.pyplot as plt\n",
    "\n",
    "plt.plot(x,y)"
   ]
  },
  {
   "cell_type": "code",
   "execution_count": 11,
   "metadata": {},
   "outputs": [
    {
     "name": "stdout",
     "output_type": "stream",
     "text": [
      "1 8320958\n",
      "2 7526035\n",
      "3 6632859\n",
      "4 8512286\n",
      "5 11050619\n",
      "6 4872948\n",
      "7 9079273\n"
     ]
    }
   ],
   "source": [
    "import pymssql\n",
    "\n",
    "conn=pymssql.connect(host=r'(local)', database='web', user='sa',\n",
    "                    password='1234', charset='utf8')\n",
    "cursor=conn.cursor()\n",
    "#요일별 지연시간 합계\n",
    "sql='''\n",
    "select dayofweek,sum(cast(arrdelay as int))\n",
    "from ontime\n",
    "group by dayofweek\n",
    "order by dayofweek\n",
    "'''\n",
    "cursor.execute(sql)\n",
    "rows=cursor.fetchall()\n",
    "for row in rows:\n",
    "    print(row[0],row[1])\n",
    "    \n",
    "cursor.close()\n",
    "conn.close()"
   ]
  },
  {
   "cell_type": "code",
   "execution_count": 14,
   "metadata": {},
   "outputs": [
    {
     "name": "stdout",
     "output_type": "stream",
     "text": [
      "['월', '화', '수', '목', '금', '토', '일']\n",
      "[8320958, 7526035, 6632859, 8512286, 11050619, 4872948, 9079273]\n"
     ]
    }
   ],
   "source": [
    "x=['월','화','수','목','금','토','일']\n",
    "y=[]\n",
    "for row in rows:\n",
    "    y.append(row[1])\n",
    "\n",
    "print(x)\n",
    "print(y)"
   ]
  },
  {
   "cell_type": "code",
   "execution_count": 17,
   "metadata": {},
   "outputs": [
    {
     "data": {
      "text/plain": [
       "<BarContainer object of 7 artists>"
      ]
     },
     "execution_count": 17,
     "metadata": {},
     "output_type": "execute_result"
    },
    {
     "data": {
      "image/png": "[encoded data removed]",
      "text/plain": [
       "<Figure size 432x288 with 1 Axes>"
      ]
     },
     "metadata": {
      "needs_background": "light"
     },
     "output_type": "display_data"
    }
   ],
   "source": [
    "from matplotlib import rc, font_manager\n",
    "font_name=font_manager.FontProperties(fname='c:/windows/fonts/gulim.ttc').get_name()\n",
    "rc('font',family=font_name)\n",
    "plt.plot(x,y,color='r')\n",
    "plt.bar(x,y,color='g')"
   ]
  },
  {
   "cell_type": "code",
   "execution_count": null,
   "metadata": {},
   "outputs": [],
   "source": []
  }
 ],
 "metadata": {
  "kernelspec": {
   "display_name": "Python 3",
   "language": "python",
   "name": "python3"
  },
  "language_info": {
   "codemirror_mode": {
    "name": "ipython",
    "version": 3
   },
   "file_extension": ".py",
   "mimetype": "text/x-python",
   "name": "python",
   "nbconvert_exporter": "python",
   "pygments_lexer": "ipython3",
   "version": "3.7.4"
  }
 },
 "nbformat": 4,
 "nbformat_minor": 2
}
