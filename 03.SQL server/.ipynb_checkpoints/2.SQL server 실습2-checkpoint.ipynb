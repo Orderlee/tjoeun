{
 "cells": [
  {
   "cell_type": "code",
   "execution_count": 12,
   "metadata": {},
   "outputs": [
    {
     "name": "stdout",
     "output_type": "stream",
     "text": [
      "레코드가 삭제되었습니다.\n"
     ]
    }
   ],
   "source": [
    "import pymssql #SQL Server 연동 모듈\n",
    "#SQL Server에 접속\n",
    "\n",
    "conn=pymssql.connect(host=r'(local)',database='web',\n",
    "                    user='sa',password='1234',charset='utf8')\n",
    "#커서 생성\n",
    "cursor=conn.cursor()\n",
    "sql='delete from product'\n",
    "#sql 명령어가 실행됨\n",
    "cursor.execute(sql) \n",
    "\n",
    "#레코드 추가,수정,삭제의 경우 커밋을 꼭 해야 함\n",
    "conn.commit()\n",
    "print('레코드가 삭제되었습니다.')\n",
    "#리소스 정리\n",
    "cursor.close()\n",
    "conn.close()"
   ]
  },
  {
   "cell_type": "code",
   "execution_count": 10,
   "metadata": {},
   "outputs": [
    {
     "name": "stdout",
     "output_type": "stream",
     "text": [
      "추가되었습니다.\n"
     ]
    }
   ],
   "source": [
    "import pymssql\n",
    "conn=pymssql.connect(host=r'(local)',database='web',\n",
    "                    user='sa',password='1234',charset='utf8')\n",
    "cursor=conn.cursor()\n",
    "items=[(1,'레몬',1500,'레몬에 포함된 구연산은 피로회복에 좋습니다. 비타민 C도 풍부합니다.','lemon,jpg'),\n",
    "      (2,'오렌지',2000,'비타민 C가 풍부합니다. 생과일 주스로 마시면 좋습니다.','orange.jpg'),\n",
    "      (3,'키위',3000,'비타민 C가 매우 풍부합니다. 다이어트나 미용에 좋습니다.','kiwi,jpg'),\n",
    "      (4,'포도',5000,'폴리페놀을 다량 함유하고 있어 황산화 작용을 합니다.','grape.jpg'),\n",
    "      (5,'딸기',8000,'비타민 C나 플라보노이드를 다량 함유하고 있습니다.','strawberry.jpg'),\n",
    "      (6,'귤',7000,'시네피린을 함유하고 있어 감기 예방에 좋다고 합니다.','tangerine.jpg')\n",
    "      ]\n",
    "\n",
    "for row in items:\n",
    "    sql='insert into product values (%d,%s,%d,%s,%s)'\n",
    "    cursor.execute(sql,row) #레코드 1개가 저장됨\n",
    "    \n",
    "conn.commit()\n",
    "print('추가되었습니다.')\n",
    "#리소스 정리\n",
    "cursor.close()\n",
    "conn.close()"
   ]
  },
  {
   "cell_type": "code",
   "execution_count": 13,
   "metadata": {},
   "outputs": [
    {
     "name": "stdout",
     "output_type": "stream",
     "text": [
      "추가되었습니다.\n"
     ]
    }
   ],
   "source": [
    "import pymssql\n",
    "conn=pymssql.connect(host=r'(local)',database='web',\n",
    "                    user='sa',password='1234',charset='utf8')\n",
    "cursor=conn.cursor()\n",
    "items=[(1,'레몬',1500,'레몬에 포함된 구연산은 피로회복에 좋습니다. 비타민 C도 풍부합니다.','lemon,jpg'),\n",
    "      (2,'오렌지',2000,'비타민 C가 풍부합니다. 생과일 주스로 마시면 좋습니다.','orange.jpg'),\n",
    "      (3,'키위',3000,'비타민 C가 매우 풍부합니다. 다이어트나 미용에 좋습니다.','kiwi,jpg'),\n",
    "      (4,'포도',5000,'폴리페놀을 다량 함유하고 있어 황산화 작용을 합니다.','grape.jpg'),\n",
    "      (5,'딸기',8000,'비타민 C나 플라보노이드를 다량 함유하고 있습니다.','strawberry.jpg'),\n",
    "      (6,'귤',7000,'시네피린을 함유하고 있어 감기 예방에 좋다고 합니다.','tangerine.jpg')\n",
    "      ]\n",
    "\n",
    "sql='insert into product values (%d,%s,%d,%s,%s)'\n",
    "cursor.executemany(sql,items)\n",
    "    \n",
    "conn.commit()\n",
    "print('추가되었습니다.')\n",
    "#리소스 정리\n",
    "cursor.close()\n",
    "conn.close()"
   ]
  },
  {
   "cell_type": "code",
   "execution_count": 15,
   "metadata": {},
   "outputs": [
    {
     "name": "stdout",
     "output_type": "stream",
     "text": [
      "상품갯수: 6\n",
      "(1, '레몬', 1500, '레몬에 포함된 구연산은 피로회복에 좋습니다. 비타민 C도 풍부합니다.', 'lemon,jpg')\n",
      "(2, '오렌지', 2000, '비타민 C가 풍부합니다. 생과일 주스로 마시면 좋습니다.', 'orange.jpg')\n",
      "(3, '키위', 3000, '비타민 C가 매우 풍부합니다. 다이어트나 미용에 좋습니다.', 'kiwi,jpg')\n",
      "(4, '포도', 5000, '폴리페놀을 다량 함유하고 있어 황산화 작용을 합니다.', 'grape.jpg')\n",
      "(5, '딸기', 8000, '비타민 C나 플라보노이드를 다량 함유하고 있습니다.', 'strawberry.jpg')\n",
      "(6, '귤', 7000, '시네피린을 함유하고 있어 감기 예방에 좋다고 합니다.', 'tangerine.jpg')\n",
      "추가되었습니다.\n"
     ]
    }
   ],
   "source": [
    "import pymssql\n",
    "conn=pymssql.connect(host=r'(local)',database='web',\n",
    "                    user='sa',password='1234',charset='utf8')\n",
    "cursor=conn.cursor()\n",
    "\n",
    "#레코드 갯수\n",
    "# 커서 -> sql 실행 => 레코드셋(record set),결과셋(result set)\n",
    "sql='select count(*) from product'\n",
    "cursor.execute(sql)\n",
    "count=cursor.fetchone() #커서가 가리키는 레코드 1개를 인출\n",
    "print('상품갯수:',count[0])\n",
    "\n",
    "#전체 레코드 조회\n",
    "sql='select * from product'\n",
    "# sql이 실행되고 커서가 레코드셋의 시작번지값을 가리킴\n",
    "cursor.execute(sql)\n",
    "# cursor.fetchone() ->생략됨\n",
    "for row in cursor: #커서가 가리키는 레코드 1개씩을 인출함\n",
    "    print(row)\n",
    "\n",
    "\n",
    "\n",
    "\n",
    "\n",
    "\n",
    "conn.commit()\n",
    "print('추가되었습니다.')\n",
    "#리소스 정리\n",
    "cursor.close()\n",
    "conn.close()"
   ]
  },
  {
   "cell_type": "code",
   "execution_count": 18,
   "metadata": {},
   "outputs": [
    {
     "name": "stdout",
     "output_type": "stream",
     "text": [
      "삭제되었습니다.\n",
      "수정되었습니다.\n"
     ]
    }
   ],
   "source": [
    "import pymssql\n",
    "conn=pymssql.connect(host=r'(local)',database='web',\n",
    "                    user='sa',password='1234',charset='utf8')\n",
    "cursor=conn.cursor()\n",
    "\n",
    "#일부 레코드 삭제\n",
    "sql='delete from product where product_id=6'\n",
    "cursor.execute(sql)\n",
    "print('삭제되었습니다.')\n",
    "#일부 레코드 수정\n",
    "sql='update product set price=5500 where product_id=5'\n",
    "cursor.execute(sql)\n",
    "conn.commit()\n",
    "print('수정되었습니다.')\n",
    "#리소스 정리\n",
    "cursor.close()\n",
    "conn.close()"
   ]
  },
  {
   "cell_type": "code",
   "execution_count": null,
   "metadata": {},
   "outputs": [],
   "source": [
    "import pymssql \n",
    "\n",
    "def product_delete():\n",
    "    conn=pymssql.connect(host=r'(local)', database='web',\n",
    "                        user='sa',password='1234',charset='utf8')\n",
    "    cursor=conn.cursor()\n",
    "    sql='delete from product'\n",
    "    cursor.execute(sql)\n",
    "    conn.commint()\n",
    "    print('레코드가 삭제되었습니다.')\n",
    "    cursor.close()\n",
    "    conn.close()\n",
    "\n",
    "product_delete()"
   ]
  },
  {
   "cell_type": "code",
   "execution_count": null,
   "metadata": {},
   "outputs": [],
   "source": []
  },
  {
   "cell_type": "code",
   "execution_count": null,
   "metadata": {},
   "outputs": [],
   "source": []
  },
  {
   "cell_type": "code",
   "execution_count": null,
   "metadata": {},
   "outputs": [],
   "source": []
  },
  {
   "cell_type": "code",
   "execution_count": null,
   "metadata": {},
   "outputs": [],
   "source": []
  },
  {
   "cell_type": "code",
   "execution_count": null,
   "metadata": {},
   "outputs": [],
   "source": []
  },
  {
   "cell_type": "code",
   "execution_count": null,
   "metadata": {},
   "outputs": [],
   "source": []
  },
  {
   "cell_type": "code",
   "execution_count": null,
   "metadata": {},
   "outputs": [],
   "source": []
  },
  {
   "cell_type": "code",
   "execution_count": null,
   "metadata": {},
   "outputs": [],
   "source": []
  },
  {
   "cell_type": "code",
   "execution_count": null,
   "metadata": {},
   "outputs": [],
   "source": []
  }
 ],
 "metadata": {
  "kernelspec": {
   "display_name": "Python 3",
   "language": "python",
   "name": "python3"
  },
  "language_info": {
   "codemirror_mode": {
    "name": "ipython",
    "version": 3
   },
   "file_extension": ".py",
   "mimetype": "text/x-python",
   "name": "python",
   "nbconvert_exporter": "python",
   "pygments_lexer": "ipython3",
   "version": "3.7.4"
  }
 },
 "nbformat": 4,
 "nbformat_minor": 2
}
