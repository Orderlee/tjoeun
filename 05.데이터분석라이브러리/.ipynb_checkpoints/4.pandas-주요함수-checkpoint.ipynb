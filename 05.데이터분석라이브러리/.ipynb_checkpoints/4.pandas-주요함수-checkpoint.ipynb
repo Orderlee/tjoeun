{
 "cells": [
  {
   "cell_type": "code",
   "execution_count": 1,
   "metadata": {},
   "outputs": [
    {
     "data": {
      "text/html": [
       "<div>\n",
       "<style scoped>\n",
       "    .dataframe tbody tr th:only-of-type {\n",
       "        vertical-align: middle;\n",
       "    }\n",
       "\n",
       "    .dataframe tbody tr th {\n",
       "        vertical-align: top;\n",
       "    }\n",
       "\n",
       "    .dataframe thead th {\n",
       "        text-align: right;\n",
       "    }\n",
       "</style>\n",
       "<table border=\"1\" class=\"dataframe\">\n",
       "  <thead>\n",
       "    <tr style=\"text-align: right;\">\n",
       "      <th></th>\n",
       "      <th>호선</th>\n",
       "      <th>역번호</th>\n",
       "      <th>역      명</th>\n",
       "      <th>계</th>\n",
       "      <th>일평균</th>\n",
       "      <th>1월</th>\n",
       "      <th>2월</th>\n",
       "      <th>3월</th>\n",
       "      <th>4월</th>\n",
       "      <th>5월</th>\n",
       "      <th>6월</th>\n",
       "      <th>7월</th>\n",
       "    </tr>\n",
       "  </thead>\n",
       "  <tbody>\n",
       "    <tr>\n",
       "      <td>0</td>\n",
       "      <td>1</td>\n",
       "      <td>150</td>\n",
       "      <td>서울역(1)</td>\n",
       "      <td>19799600</td>\n",
       "      <td>93562</td>\n",
       "      <td>2823972</td>\n",
       "      <td>2542481</td>\n",
       "      <td>2885932</td>\n",
       "      <td>2918104</td>\n",
       "      <td>2993718</td>\n",
       "      <td>2770656</td>\n",
       "      <td>2864737</td>\n",
       "    </tr>\n",
       "    <tr>\n",
       "      <td>1</td>\n",
       "      <td>1</td>\n",
       "      <td>151</td>\n",
       "      <td>시청(1)</td>\n",
       "      <td>9478426</td>\n",
       "      <td>44701</td>\n",
       "      <td>1367861</td>\n",
       "      <td>1114504</td>\n",
       "      <td>1380702</td>\n",
       "      <td>1432476</td>\n",
       "      <td>1460584</td>\n",
       "      <td>1334755</td>\n",
       "      <td>1387544</td>\n",
       "    </tr>\n",
       "    <tr>\n",
       "      <td>2</td>\n",
       "      <td>1</td>\n",
       "      <td>152</td>\n",
       "      <td>종각</td>\n",
       "      <td>16783116</td>\n",
       "      <td>78856</td>\n",
       "      <td>2529090</td>\n",
       "      <td>2098588</td>\n",
       "      <td>2445715</td>\n",
       "      <td>2433679</td>\n",
       "      <td>2496189</td>\n",
       "      <td>2269648</td>\n",
       "      <td>2510207</td>\n",
       "    </tr>\n",
       "    <tr>\n",
       "      <td>3</td>\n",
       "      <td>1</td>\n",
       "      <td>153</td>\n",
       "      <td>종로3가(1)</td>\n",
       "      <td>11553939</td>\n",
       "      <td>54481</td>\n",
       "      <td>1729440</td>\n",
       "      <td>1465221</td>\n",
       "      <td>1692299</td>\n",
       "      <td>1638929</td>\n",
       "      <td>1734230</td>\n",
       "      <td>1600924</td>\n",
       "      <td>1692896</td>\n",
       "    </tr>\n",
       "    <tr>\n",
       "      <td>4</td>\n",
       "      <td>1</td>\n",
       "      <td>154</td>\n",
       "      <td>종로5가</td>\n",
       "      <td>10379864</td>\n",
       "      <td>49299</td>\n",
       "      <td>1532069</td>\n",
       "      <td>1303823</td>\n",
       "      <td>1558679</td>\n",
       "      <td>1532793</td>\n",
       "      <td>1571939</td>\n",
       "      <td>1423812</td>\n",
       "      <td>1456749</td>\n",
       "    </tr>\n",
       "  </tbody>\n",
       "</table>\n",
       "</div>"
      ],
      "text/plain": [
       "   호선  역번호 역      명         계    일평균       1월       2월       3월       4월  \\\n",
       "0   1  150   서울역(1)  19799600  93562  2823972  2542481  2885932  2918104   \n",
       "1   1  151    시청(1)   9478426  44701  1367861  1114504  1380702  1432476   \n",
       "2   1  152       종각  16783116  78856  2529090  2098588  2445715  2433679   \n",
       "3   1  153  종로3가(1)  11553939  54481  1729440  1465221  1692299  1638929   \n",
       "4   1  154     종로5가  10379864  49299  1532069  1303823  1558679  1532793   \n",
       "\n",
       "        5월       6월       7월  \n",
       "0  2993718  2770656  2864737  \n",
       "1  1460584  1334755  1387544  \n",
       "2  2496189  2269648  2510207  \n",
       "3  1734230  1600924  1692896  \n",
       "4  1571939  1423812  1456749  "
      ]
     },
     "execution_count": 1,
     "metadata": {},
     "output_type": "execute_result"
    }
   ],
   "source": [
    "import pandas as pd\n",
    "df=pd.read_csv('d:/data/traffic/data.csv',engine='python')\n",
    "df.head()"
   ]
  },
  {
   "cell_type": "code",
   "execution_count": 2,
   "metadata": {},
   "outputs": [
    {
     "data": {
      "text/html": [
       "<div>\n",
       "<style scoped>\n",
       "    .dataframe tbody tr th:only-of-type {\n",
       "        vertical-align: middle;\n",
       "    }\n",
       "\n",
       "    .dataframe tbody tr th {\n",
       "        vertical-align: top;\n",
       "    }\n",
       "\n",
       "    .dataframe thead th {\n",
       "        text-align: right;\n",
       "    }\n",
       "</style>\n",
       "<table border=\"1\" class=\"dataframe\">\n",
       "  <thead>\n",
       "    <tr style=\"text-align: right;\">\n",
       "      <th></th>\n",
       "      <th>계</th>\n",
       "      <th>일평균</th>\n",
       "      <th>1월</th>\n",
       "      <th>2월</th>\n",
       "      <th>3월</th>\n",
       "      <th>4월</th>\n",
       "      <th>5월</th>\n",
       "      <th>6월</th>\n",
       "      <th>7월</th>\n",
       "    </tr>\n",
       "  </thead>\n",
       "  <tbody>\n",
       "    <tr>\n",
       "      <td>count</td>\n",
       "      <td>2.880000e+02</td>\n",
       "      <td>288.000000</td>\n",
       "      <td>2.880000e+02</td>\n",
       "      <td>2.880000e+02</td>\n",
       "      <td>2.880000e+02</td>\n",
       "      <td>2.880000e+02</td>\n",
       "      <td>2.880000e+02</td>\n",
       "      <td>2.880000e+02</td>\n",
       "      <td>2.880000e+02</td>\n",
       "    </tr>\n",
       "    <tr>\n",
       "      <td>mean</td>\n",
       "      <td>5.491737e+06</td>\n",
       "      <td>25914.190972</td>\n",
       "      <td>7.807080e+05</td>\n",
       "      <td>6.649665e+05</td>\n",
       "      <td>8.136008e+05</td>\n",
       "      <td>8.205614e+05</td>\n",
       "      <td>8.433722e+05</td>\n",
       "      <td>7.672591e+05</td>\n",
       "      <td>8.012688e+05</td>\n",
       "    </tr>\n",
       "    <tr>\n",
       "      <td>std</td>\n",
       "      <td>4.577365e+06</td>\n",
       "      <td>21553.034548</td>\n",
       "      <td>6.739985e+05</td>\n",
       "      <td>5.781245e+05</td>\n",
       "      <td>6.723024e+05</td>\n",
       "      <td>6.665224e+05</td>\n",
       "      <td>6.855378e+05</td>\n",
       "      <td>6.304334e+05</td>\n",
       "      <td>6.776332e+05</td>\n",
       "    </tr>\n",
       "    <tr>\n",
       "      <td>min</td>\n",
       "      <td>3.072020e+05</td>\n",
       "      <td>1429.000000</td>\n",
       "      <td>3.648900e+04</td>\n",
       "      <td>3.325400e+04</td>\n",
       "      <td>4.640200e+04</td>\n",
       "      <td>4.791400e+04</td>\n",
       "      <td>4.845500e+04</td>\n",
       "      <td>4.629300e+04</td>\n",
       "      <td>4.839500e+04</td>\n",
       "    </tr>\n",
       "    <tr>\n",
       "      <td>25%</td>\n",
       "      <td>2.641664e+06</td>\n",
       "      <td>12176.250000</td>\n",
       "      <td>3.462888e+05</td>\n",
       "      <td>2.965675e+05</td>\n",
       "      <td>3.729890e+05</td>\n",
       "      <td>3.781295e+05</td>\n",
       "      <td>4.006558e+05</td>\n",
       "      <td>3.637908e+05</td>\n",
       "      <td>3.800970e+05</td>\n",
       "    </tr>\n",
       "    <tr>\n",
       "      <td>50%</td>\n",
       "      <td>4.287678e+06</td>\n",
       "      <td>20260.500000</td>\n",
       "      <td>5.955250e+05</td>\n",
       "      <td>5.089835e+05</td>\n",
       "      <td>6.450845e+05</td>\n",
       "      <td>6.564945e+05</td>\n",
       "      <td>6.791040e+05</td>\n",
       "      <td>5.981110e+05</td>\n",
       "      <td>6.103110e+05</td>\n",
       "    </tr>\n",
       "    <tr>\n",
       "      <td>75%</td>\n",
       "      <td>6.549678e+06</td>\n",
       "      <td>31115.250000</td>\n",
       "      <td>9.412722e+05</td>\n",
       "      <td>7.976460e+05</td>\n",
       "      <td>9.684600e+05</td>\n",
       "      <td>9.772028e+05</td>\n",
       "      <td>9.963918e+05</td>\n",
       "      <td>9.032735e+05</td>\n",
       "      <td>9.695805e+05</td>\n",
       "    </tr>\n",
       "    <tr>\n",
       "      <td>max</td>\n",
       "      <td>3.050288e+07</td>\n",
       "      <td>142123.000000</td>\n",
       "      <td>4.749571e+06</td>\n",
       "      <td>3.901121e+06</td>\n",
       "      <td>4.367422e+06</td>\n",
       "      <td>4.234069e+06</td>\n",
       "      <td>4.365377e+06</td>\n",
       "      <td>4.106734e+06</td>\n",
       "      <td>4.778586e+06</td>\n",
       "    </tr>\n",
       "  </tbody>\n",
       "</table>\n",
       "</div>"
      ],
      "text/plain": [
       "                  계            일평균            1월            2월            3월  \\\n",
       "count  2.880000e+02     288.000000  2.880000e+02  2.880000e+02  2.880000e+02   \n",
       "mean   5.491737e+06   25914.190972  7.807080e+05  6.649665e+05  8.136008e+05   \n",
       "std    4.577365e+06   21553.034548  6.739985e+05  5.781245e+05  6.723024e+05   \n",
       "min    3.072020e+05    1429.000000  3.648900e+04  3.325400e+04  4.640200e+04   \n",
       "25%    2.641664e+06   12176.250000  3.462888e+05  2.965675e+05  3.729890e+05   \n",
       "50%    4.287678e+06   20260.500000  5.955250e+05  5.089835e+05  6.450845e+05   \n",
       "75%    6.549678e+06   31115.250000  9.412722e+05  7.976460e+05  9.684600e+05   \n",
       "max    3.050288e+07  142123.000000  4.749571e+06  3.901121e+06  4.367422e+06   \n",
       "\n",
       "                 4월            5월            6월            7월  \n",
       "count  2.880000e+02  2.880000e+02  2.880000e+02  2.880000e+02  \n",
       "mean   8.205614e+05  8.433722e+05  7.672591e+05  8.012688e+05  \n",
       "std    6.665224e+05  6.855378e+05  6.304334e+05  6.776332e+05  \n",
       "min    4.791400e+04  4.845500e+04  4.629300e+04  4.839500e+04  \n",
       "25%    3.781295e+05  4.006558e+05  3.637908e+05  3.800970e+05  \n",
       "50%    6.564945e+05  6.791040e+05  5.981110e+05  6.103110e+05  \n",
       "75%    9.772028e+05  9.963918e+05  9.032735e+05  9.695805e+05  \n",
       "max    4.234069e+06  4.365377e+06  4.106734e+06  4.778586e+06  "
      ]
     },
     "execution_count": 2,
     "metadata": {},
     "output_type": "execute_result"
    }
   ],
   "source": [
    "df2=df.iloc[:,3:13] # 모든행, 3~12열\n",
    "df2.describe() #기초통계량\n",
    "#2.8780000e+02 288\n",
    "# count 샘플갯수\n",
    "# mean 평균\n",
    "# std 표준편차\n",
    "# min 최소값\n",
    "# 25% 1사분위수\n",
    "# 50% 2사분위수(중위수)\n",
    "# 75% 3사분위수\n",
    "# max 최대값"
   ]
  },
  {
   "cell_type": "code",
   "execution_count": 3,
   "metadata": {},
   "outputs": [
    {
     "data": {
      "text/plain": [
       "5491736.798611111"
      ]
     },
     "execution_count": 3,
     "metadata": {},
     "output_type": "execute_result"
    }
   ],
   "source": [
    "df2['계'].mean() #필드 평균"
   ]
  },
  {
   "cell_type": "code",
   "execution_count": 5,
   "metadata": {},
   "outputs": [
    {
     "data": {
      "text/plain": [
       "호선                                                       1400\n",
       "역번호                                                    502342\n",
       "역      명    서울역(1)시청(1)종각종로3가(1)종로5가동대문(1)신설동(1)제기동청량리동묘앞(...\n",
       "계                                                  1581620198\n",
       "일평균                                                   7463287\n",
       "1월                                                  224843915\n",
       "2월                                                  191510348\n",
       "3월                                                  234317028\n",
       "4월                                                  236321689\n",
       "5월                                                  242891189\n",
       "6월                                                  220970623\n",
       "7월                                                  230765406\n",
       "dtype: object"
      ]
     },
     "execution_count": 5,
     "metadata": {},
     "output_type": "execute_result"
    }
   ],
   "source": [
    "df.sum() #필드별 합계"
   ]
  },
  {
   "cell_type": "code",
   "execution_count": 4,
   "metadata": {},
   "outputs": [
    {
     "data": {
      "text/plain": [
       "계      1581620198\n",
       "일평균       7463287\n",
       "1월      224843915\n",
       "2월      191510348\n",
       "3월      234317028\n",
       "4월      236321689\n",
       "5월      242891189\n",
       "6월      220970623\n",
       "7월      230765406\n",
       "dtype: int64"
      ]
     },
     "execution_count": 4,
     "metadata": {},
     "output_type": "execute_result"
    }
   ],
   "source": [
    "df2.sum(axis=0) #세로방향 합계(열)"
   ]
  },
  {
   "cell_type": "code",
   "execution_count": 6,
   "metadata": {},
   "outputs": [
    {
     "data": {
      "text/plain": [
       "0      39692762\n",
       "1      19001553\n",
       "2      33645088\n",
       "3      23162359\n",
       "4      20809027\n",
       "         ...   \n",
       "283     2655148\n",
       "284     1386025\n",
       "285     5361301\n",
       "286      615833\n",
       "287     4957469\n",
       "Length: 288, dtype: int64"
      ]
     },
     "execution_count": 6,
     "metadata": {},
     "output_type": "execute_result"
    }
   ],
   "source": [
    "df2.sum(axis=1) #가로방향 합계(행)"
   ]
  },
  {
   "cell_type": "code",
   "execution_count": 8,
   "metadata": {},
   "outputs": [
    {
     "data": {
      "text/plain": [
       "계      2.095227e+13\n",
       "일평균    4.645333e+08\n",
       "1월     4.542740e+11\n",
       "2월     3.342279e+11\n",
       "3월     4.519905e+11\n",
       "4월     4.442520e+11\n",
       "5월     4.699620e+11\n",
       "6월     3.974462e+11\n",
       "7월     4.591867e+11\n",
       "dtype: float64"
      ]
     },
     "execution_count": 8,
     "metadata": {},
     "output_type": "execute_result"
    }
   ],
   "source": [
    "df2.var() #필드별 분산"
   ]
  },
  {
   "cell_type": "code",
   "execution_count": 7,
   "metadata": {},
   "outputs": [
    {
     "data": {
      "text/plain": [
       "20952267568970.52"
      ]
     },
     "execution_count": 7,
     "metadata": {},
     "output_type": "execute_result"
    }
   ],
   "source": [
    "df2['계'].var() #분산 "
   ]
  },
  {
   "cell_type": "code",
   "execution_count": 9,
   "metadata": {},
   "outputs": [],
   "source": [
    "# 람다식 lambda 입력값 : 출력값\n",
    "f1=lambda x : x.max() - x.min()"
   ]
  },
  {
   "cell_type": "code",
   "execution_count": 10,
   "metadata": {},
   "outputs": [
    {
     "data": {
      "text/plain": [
       "0    19799600\n",
       "1     9478426\n",
       "2    16783116\n",
       "3    11553939\n",
       "4    10379864\n",
       "Name: 계, dtype: int64"
      ]
     },
     "execution_count": 10,
     "metadata": {},
     "output_type": "execute_result"
    }
   ],
   "source": [
    "df2['계'].head()"
   ]
  },
  {
   "cell_type": "code",
   "execution_count": 11,
   "metadata": {},
   "outputs": [
    {
     "data": {
      "text/plain": [
       "계      30195678\n",
       "일평균      140694\n",
       "1월      4713082\n",
       "2월      3867867\n",
       "3월      4321020\n",
       "4월      4186155\n",
       "5월      4316922\n",
       "6월      4060441\n",
       "7월      4730191\n",
       "dtype: int64"
      ]
     },
     "execution_count": 11,
     "metadata": {},
     "output_type": "execute_result"
    }
   ],
   "source": [
    "df2.apply(f1, axis=0) # 각 열에 f1함수 적용"
   ]
  },
  {
   "cell_type": "code",
   "execution_count": 12,
   "metadata": {},
   "outputs": [
    {
     "data": {
      "text/plain": [
       "0      19706038\n",
       "1       9433725\n",
       "2      16704260\n",
       "3      11499458\n",
       "4      10330565\n",
       "         ...   \n",
       "283     1318355\n",
       "284      688169\n",
       "285     2662337\n",
       "286      305773\n",
       "287     2461600\n",
       "Length: 288, dtype: int64"
      ]
     },
     "execution_count": 12,
     "metadata": {},
     "output_type": "execute_result"
    }
   ],
   "source": [
    "df2.apply(f1,axis=1) # 각 행에 f1 함수 적용"
   ]
  },
  {
   "cell_type": "code",
   "execution_count": null,
   "metadata": {},
   "outputs": [],
   "source": []
  }
 ],
 "metadata": {
  "kernelspec": {
   "display_name": "Python 3",
   "language": "python",
   "name": "python3"
  },
  "language_info": {
   "codemirror_mode": {
    "name": "ipython",
    "version": 3
   },
   "file_extension": ".py",
   "mimetype": "text/x-python",
   "name": "python",
   "nbconvert_exporter": "python",
   "pygments_lexer": "ipython3",
   "version": "3.7.4"
  }
 },
 "nbformat": 4,
 "nbformat_minor": 2
}
