{
 "cells": [
  {
   "cell_type": "code",
   "execution_count": 4,
   "metadata": {},
   "outputs": [
    {
     "name": "stdout",
     "output_type": "stream",
     "text": [
      "[10, 20, 30, 40, 50]\n",
      "[10 20 30 40 50]\n",
      "<class 'numpy.ndarray'>\n",
      "(5,)\n"
     ]
    }
   ],
   "source": [
    "import numpy as np\n",
    "\n",
    "items = range(10,51,10) #10~50, step 10\n",
    "print(list(items))\n",
    "arr = np.array(items) #리스트를 넘파이배열로 변환\n",
    "print(arr)\n",
    "print(type(arr))\n",
    "print(arr.shape) #데이터의 차원"
   ]
  },
  {
   "cell_type": "code",
   "execution_count": 6,
   "metadata": {},
   "outputs": [
    {
     "name": "stdout",
     "output_type": "stream",
     "text": [
      "[[1, 2, 3, 4, 5], [10, 20, 30, 40, 50]]\n",
      "[[ 1  2  3  4  5]\n",
      " [10 20 30 40 50]]\n",
      "(2, 5)\n"
     ]
    }
   ],
   "source": [
    "items2=[list(range(1,6)), list(range(10,51,10))]\n",
    "print(items2)\n",
    "arr2=np.array(items2)\n",
    "print(arr2)\n",
    "print(arr2.shape) #2행 5열의 2차원 넘파이 배열"
   ]
  },
  {
   "cell_type": "code",
   "execution_count": 7,
   "metadata": {},
   "outputs": [
    {
     "name": "stdout",
     "output_type": "stream",
     "text": [
      "[[120 140]\n",
      " [265 265]]\n",
      "[[ 20  20]\n",
      " [125 105]]\n",
      "[[ 3500  4800]\n",
      " [13650 14800]]\n",
      "[[1.4        1.33333333]\n",
      " [2.78571429 2.3125    ]]\n",
      "[[1 1]\n",
      " [2 2]]\n"
     ]
    }
   ],
   "source": [
    "#넘파이 배열의 연산\n",
    "ar1 = np.array([[70,80],[195,185]]) #기본리스트로 할 경우 에러가 남\n",
    "ar2 = np.array([[50,60],[70,80]]) #ar1과 ar2의 자리수가 다를경우 에러가 남\n",
    "print(ar1+ar2) #각 자리수별로 연산 처리\n",
    "print(ar1-ar2)\n",
    "print(ar1*ar2)\n",
    "print(ar1/ar2) #실수몫\n",
    "print(ar1//ar2) #정수몫"
   ]
  },
  {
   "cell_type": "code",
   "execution_count": 8,
   "metadata": {},
   "outputs": [
    {
     "name": "stdout",
     "output_type": "stream",
     "text": [
      "[[60 70 80]\n",
      " [77 88 99]]\n"
     ]
    }
   ],
   "source": [
    "student1=[60,70,80]\n",
    "student2=[77,88,99]\n",
    "points=np.array([student1,student2])\n",
    "print(points)\n",
    "print(points.shape) #2행 3열의 넘파이 2차원 배열"
   ]
  },
  {
   "cell_type": "code",
   "execution_count": 10,
   "metadata": {},
   "outputs": [
    {
     "name": "stdout",
     "output_type": "stream",
     "text": [
      "474\n",
      "[137 158 179]\n",
      "[210 264]\n",
      "79.0\n",
      "[68.5 79.  89.5]\n",
      "[70. 88.]\n"
     ]
    }
   ],
   "source": [
    "print(points.sum()) #전체 합계\n",
    "print(points.sum(axis=0)) #열의 합계\n",
    "print(points.sum(axis=1)) #행의 합계\n",
    "print(points.mean()) #전체 평균\n",
    "print(points.mean(axis=0))\n",
    "print(points.mean(axis=1))\n"
   ]
  },
  {
   "cell_type": "code",
   "execution_count": 13,
   "metadata": {},
   "outputs": [
    {
     "name": "stdout",
     "output_type": "stream",
     "text": [
      "[ 20  10 -10  70 900 100]\n",
      "[-10  10  20  70 100 900]\n",
      "[-10  10  20  70 100 900]\n"
     ]
    }
   ],
   "source": [
    "import numpy as np\n",
    "arr=np.array([20,10,-10,70,900,100])\n",
    "print(arr)\n",
    "arr2=np.sort(arr)\n",
    "print(arr2) #오름차순 정렬\n",
    "# start:stop:step\n",
    "print(np.sort(arr[::-1])) #내림차순 정렬"
   ]
  },
  {
   "cell_type": "code",
   "execution_count": 17,
   "metadata": {},
   "outputs": [
    {
     "name": "stdout",
     "output_type": "stream",
     "text": [
      "['김철수' '이승호' '김철수' '김철수' '홍상현' '이영희' '윤동주']\n",
      "[20 35 30 33 28 29 30 31 30 40 46]\n",
      "['김철수' '윤동주' '이승호' '이영희' '홍상현']\n",
      "[20 28 29 30 31 33 35 40 46]\n"
     ]
    }
   ],
   "source": [
    "names=np.array(['김철수','이승호','김철수','김철수','홍상현','이영희','윤동주'])\n",
    "ages=np.array([20,35,30,33,28,29,30,31,30,40,46])\n",
    "print(names)\n",
    "print(ages)\n",
    "print(np.unique(names)) #중복값을 제거하는 함수\n",
    "print(np.unique(ages))"
   ]
  },
  {
   "cell_type": "code",
   "execution_count": 23,
   "metadata": {},
   "outputs": [
    {
     "name": "stdout",
     "output_type": "stream",
     "text": [
      "0     5\n",
      "1    15\n",
      "2    25\n",
      "3    35\n",
      "4    45\n",
      "dtype: int64\n",
      "a     5\n",
      "b    15\n",
      "c    25\n",
      "d    35\n",
      "e    45\n",
      "dtype: int64\n",
      "5\n",
      "a    500\n",
      "b     15\n",
      "c     25\n",
      "d     35\n",
      "e     45\n",
      "dtype: int64\n"
     ]
    }
   ],
   "source": [
    "import pandas as pd\n",
    "\n",
    "sr=pd.Series(range(5,51,10))\n",
    "print(sr)\n",
    "# index 행인덱스에 사용할 이름들\n",
    "sr=pd.Series(range(5,51,10),index=['a','b','c','d','e'])\n",
    "print(sr)\n",
    "print(sr['a']) #인덱스가 a인 값\n",
    "sr['a']=500 #값을 변경\n",
    "print(sr)"
   ]
  },
  {
   "cell_type": "code",
   "execution_count": 24,
   "metadata": {},
   "outputs": [
    {
     "name": "stdout",
     "output_type": "stream",
     "text": [
      "김철수    5000\n",
      "김철호    7000\n",
      "한상민    4000\n",
      "문대용    4500\n",
      "dtype: int64\n"
     ]
    }
   ],
   "source": [
    "#딕셔너리를 시리즈로 변환 key=>index, value=>data\n",
    "emp={'김철수':5000,'김철호':7000,'한상민':4000,'문대용':4500}\n",
    "sr=pd.Series(emp)\n",
    "print(sr)\n"
   ]
  },
  {
   "cell_type": "code",
   "execution_count": 26,
   "metadata": {},
   "outputs": [
    {
     "name": "stdout",
     "output_type": "stream",
     "text": [
      "  name  weight  height gender\n",
      "0  김철수    80.0     170      m\n",
      "1  김대희    70.4     180      m\n",
      "2  송영민    65.5     155      m\n",
      "3  이희연    45.9     143      f\n",
      "4  정미숙    51.2     154      f\n",
      "[['김철수' 80.0 170 'm']\n",
      " ['김대희' 70.4 180 'm']\n",
      " ['송영민' 65.5 155 'm']\n",
      " ['이희연' 45.9 143 'f']\n",
      " ['정미숙' 51.2 154 'f']]\n",
      "Index(['name', 'weight', 'height', 'gender'], dtype='object')\n",
      "          weight      height\n",
      "count   5.000000    5.000000\n",
      "mean   62.600000  160.400000\n",
      "std    13.971936   14.570518\n",
      "min    45.900000  143.000000\n",
      "25%    51.200000  154.000000\n",
      "50%    65.500000  155.000000\n",
      "75%    70.400000  170.000000\n",
      "max    80.000000  180.000000\n",
      "0    80.0\n",
      "1    70.4\n",
      "2    65.5\n",
      "3    45.9\n",
      "4    51.2\n",
      "Name: weight, dtype: float64\n",
      "   weight  height\n",
      "0    80.0     170\n",
      "1    70.4     180\n",
      "2    65.5     155\n",
      "3    45.9     143\n",
      "4    51.2     154\n",
      "  name  weight  height gender\n",
      "0  김철수    80.0     170      m\n",
      "1  김대희    70.4     180      m\n",
      "  name  weight  height gender\n",
      "0  김철수    80.0     170      m\n",
      "1  김대희    70.4     180      m\n",
      "2  송영민    65.5     155      m\n",
      "  name  weight  height gender\n",
      "3  이희연    45.9     143      f\n",
      "4  정미숙    51.2     154      f\n",
      "2  송영민    65.5     155      m\n",
      "0  김철수    80.0     170      m\n",
      "1  김대희    70.4     180      m\n",
      "  name  weight  height gender\n",
      "0  김철수    80.0     170      m\n",
      "1  김대희    70.4     180      m\n",
      "2  송영민    65.5     155      m\n",
      "4  정미숙    51.2     154      f\n",
      "3  이희연    45.9     143      f\n"
     ]
    }
   ],
   "source": [
    "#데이터프레임\n",
    "a=pd.DataFrame({\n",
    "    'name':['김철수','김대희','송영민','이희연','정미숙'],\n",
    "    'weight':[80,70.4,65.5,45.9,51.2],\n",
    "    'height':[170,180,155,143,154],\n",
    "    'gender':['m','m','m','f','f']\n",
    "})\n",
    "print(a)\n",
    "print(a.values) #값들\n",
    "print(a.columns) #컬럼들\n",
    "print(a.describe()) #기초 통계량\n",
    "print(a['weight']) #컬럼1개 선택\n",
    "print(a[['weight','height']]) #컬럼 여러개 선택\n",
    "print(a[a.height>= 170]) #조건에 맞는 행\n",
    "print(a[a.gender == 'm'])\n",
    "print(a.sort_values(by='height')) #오름차순\n",
    "print(a.sort_values(by='weight',ascending=False)) #내림차순"
   ]
  },
  {
   "cell_type": "code",
   "execution_count": null,
   "metadata": {},
   "outputs": [],
   "source": []
  }
 ],
 "metadata": {
  "kernelspec": {
   "display_name": "Python 3",
   "language": "python",
   "name": "python3"
  },
  "language_info": {
   "codemirror_mode": {
    "name": "ipython",
    "version": 3
   },
   "file_extension": ".py",
   "mimetype": "text/x-python",
   "name": "python",
   "nbconvert_exporter": "python",
   "pygments_lexer": "ipython3",
   "version": "3.7.4"
  }
 },
 "nbformat": 4,
 "nbformat_minor": 2
}
