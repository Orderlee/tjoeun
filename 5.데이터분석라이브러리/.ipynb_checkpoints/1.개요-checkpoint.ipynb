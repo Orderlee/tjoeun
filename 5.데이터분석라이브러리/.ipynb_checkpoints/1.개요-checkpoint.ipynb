{
 "cells": [
  {
   "cell_type": "code",
   "execution_count": 7,
   "metadata": {},
   "outputs": [
    {
     "name": "stdout",
     "output_type": "stream",
     "text": [
      "<class 'pandas.core.frame.DataFrame'>\n",
      "            Date  Benzene  CS2  Ozone  SO2  Toluene  Xylene  Wind Direction  \\\n",
      "0  10/10/15 3:15      2.5  2.5    2.5  2.5     2.50  220.61           162.0   \n",
      "1  10/10/15 2:00      2.5  2.5    2.5  2.5     2.50  184.78           158.0   \n",
      "2  10/10/15 4:30      2.5  2.5    2.5  2.5   573.36  144.61           166.0   \n",
      "3  10/10/15 1:50      2.5  2.5    2.5  2.5   537.12  125.71           154.0   \n",
      "4  10/10/15 4:20      2.5  2.5    2.5  2.5   424.89  105.50           166.0   \n",
      "\n",
      "   Wind Speed Wind Origin  \n",
      "0         6.0         SSE  \n",
      "1         7.0         SSE  \n",
      "2         5.0         SSE  \n",
      "3         8.0         SSE  \n",
      "4         5.0         SSE  \n",
      "                 Date  Benzene  CS2  Ozone  SO2  Toluene  Xylene  \\\n",
      "31637  11/18/15 23:40      2.5  2.5  20.87  2.5      2.5     2.5   \n",
      "31638  11/18/15 23:45      2.5  2.5  20.67  2.5      2.5     2.5   \n",
      "31639  11/18/15 23:50      2.5  2.5  20.61  2.5      2.5     2.5   \n",
      "31640  11/18/15 23:55      2.5  2.5  20.59  2.5      2.5     2.5   \n",
      "31641   11/19/15 0:00      2.5  2.5  20.47  2.5      2.5     2.5   \n",
      "\n",
      "       Wind Direction  Wind Speed Wind Origin  \n",
      "31637           154.0         2.0         SSE  \n",
      "31638           113.0         1.0         ESE  \n",
      "31639           107.0         2.0         ESE  \n",
      "31640           100.0         2.0           E  \n",
      "31641            86.0         2.0           E  \n",
      "            Benzene      CS2         Ozone           SO2       Toluene  \\\n",
      "count  31642.000000  31642.0  31642.000000  31642.000000  31642.000000   \n",
      "mean       2.501436      2.5     27.279164      3.546245      2.820468   \n",
      "std        0.078137      0.0     12.095794      6.921460      6.276938   \n",
      "min        2.500000      2.5      2.500000      2.500000      2.500000   \n",
      "25%        2.500000      2.5     18.750000      2.500000      2.500000   \n",
      "50%        2.500000      2.5     26.040000      2.500000      2.500000   \n",
      "75%        2.500000      2.5     34.320000      2.500000      2.500000   \n",
      "max        9.950000      2.5    396.670000    313.310000    573.360000   \n",
      "\n",
      "             Xylene  Wind Direction    Wind Speed  \n",
      "count  31642.000000    31621.000000  31621.000000  \n",
      "mean       2.554937      172.248031      6.724582  \n",
      "std        2.181794       76.077180      3.245453  \n",
      "min        2.500000        0.000000      1.000000  \n",
      "25%        2.500000      140.000000      4.000000  \n",
      "50%        2.500000      163.000000      6.000000  \n",
      "75%        2.500000      207.000000      9.000000  \n",
      "max      220.610000      359.000000     26.000000  \n"
     ]
    }
   ],
   "source": [
    "import pandas as pd\n",
    "#csv 파일 로딩\n",
    "\n",
    "df=pd.read_csv('d:/data/air/data.csv')\n",
    "print(type(df))\n",
    "#첫 5행\n",
    "print(df.head())\n",
    "#마지막 5행\n",
    "print(df.tail())\n",
    "#데이터의 기초 통계 정보\n",
    "print(df.describe())"
   ]
  },
  {
   "cell_type": "code",
   "execution_count": 4,
   "metadata": {},
   "outputs": [
    {
     "name": "stdout",
     "output_type": "stream",
     "text": [
      "0    2.5\n",
      "1    2.5\n",
      "2    2.5\n",
      "3    2.5\n",
      "4    2.5\n",
      "Name: Ozone, dtype: float64\n",
      "31637    20.87\n",
      "31638    20.67\n",
      "31639    20.61\n",
      "31640    20.59\n",
      "31641    20.47\n",
      "Name: Ozone, dtype: float64\n",
      "0    6.0\n",
      "1    7.0\n",
      "2    5.0\n",
      "3    8.0\n",
      "4    5.0\n",
      "Name: Wind Speed, dtype: float64\n",
      "31637    2.0\n",
      "31638    1.0\n",
      "31639    2.0\n",
      "31640    2.0\n",
      "31641    2.0\n",
      "Name: Wind Speed, dtype: float64\n"
     ]
    }
   ],
   "source": [
    "# Series 1차원 데이터\n",
    "# DataFrame 2차원 데이터\n",
    "# 데이터프레임['필드명']\n",
    "sr_ozone = pd.Series(df['Ozone'])\n",
    "print(sr_ozone.head())\n",
    "print(sr_ozone.tail())\n",
    "sr_speed=pd.Series(df['Wind Speed'])\n",
    "print(sr_speed.head())\n",
    "print(sr_speed.tail())"
   ]
  },
  {
   "cell_type": "code",
   "execution_count": 9,
   "metadata": {},
   "outputs": [
    {
     "name": "stdout",
     "output_type": "stream",
     "text": [
      "[1 2 3 4 5]\n",
      "[ 5 10 15 20 25]\n"
     ]
    },
    {
     "data": {
      "text/plain": [
       "[<matplotlib.lines.Line2D at 0x20941e8ddc8>]"
      ]
     },
     "execution_count": 9,
     "metadata": {},
     "output_type": "execute_result"
    },
    {
     "data": {
      "image/png": "[encoded data removed]",
      "text/plain": [
       "<Figure size 432x288 with 1 Axes>"
      ]
     },
     "metadata": {
      "needs_background": "light"
     },
     "output_type": "display_data"
    }
   ],
   "source": [
    "# 그래프 출력 매직명령어\n",
    "%matplotlib inline\n",
    "import matplotlib.pyplot as plt #시각화 패키지\n",
    "import numpy as np #계산\n",
    "\n",
    "x=np.array([1,2,3,4,5]) #넘파이 배열\n",
    "y=x*5 #배열의 각 원소에 대한 곱셈\n",
    "print(x)\n",
    "print(y)\n",
    "plt.scatter(x,y) #산점도\n",
    "plt.plot(x,y) #선 그래프"
   ]
  },
  {
   "cell_type": "code",
   "execution_count": 16,
   "metadata": {},
   "outputs": [
    {
     "name": "stdout",
     "output_type": "stream",
     "text": [
      "     Ozone  Wind Speed\n",
      "10  358.28         5.0\n",
      "11  262.24         5.0\n",
      "12  356.12         7.0\n",
      "13  194.02         7.0\n",
      "14  200.55         7.0\n",
      "15  233.17         6.0\n",
      "16  205.08         7.0\n",
      "17  200.37         8.0\n",
      "18  161.27         8.0\n",
      "19  114.62         7.0\n"
     ]
    }
   ],
   "source": [
    "# 데이터프레임.loc[행의범위, 열의범위]\n",
    "# 10:19 => 10~19행\n",
    "df2=df.loc[10:19, ['Ozone','Wind Speed']]\n",
    "print(df2)\n",
    "# print(df2.head())"
   ]
  },
  {
   "cell_type": "code",
   "execution_count": 18,
   "metadata": {},
   "outputs": [
    {
     "name": "stdout",
     "output_type": "stream",
     "text": [
      "     Ozone  Wind Speed\n",
      "10  358.28         5.0\n",
      "11  262.24         5.0\n",
      "12  356.12         7.0\n",
      "13  194.02         7.0\n",
      "14  200.55         7.0\n",
      "15  233.17         6.0\n",
      "16  205.08         7.0\n",
      "17  200.37         8.0\n",
      "18  161.27         8.0\n",
      "19  114.62         7.0\n",
      "20  114.36         7.0\n",
      "21  122.99         9.0\n",
      "22  135.78         5.0\n",
      "23  107.26         7.0\n",
      "24  127.82         5.0\n",
      "25  103.18         6.0\n",
      "26  124.01         5.0\n",
      "27  113.37         5.0\n",
      "28  119.13        11.0\n",
      "29  120.61         5.0\n"
     ]
    }
   ],
   "source": [
    "#iloc : index로 범위 선택\n",
    "#데이터프레임.iloc[행의범위,열의범위]\n",
    "#10:30 => 10~29행\n",
    "#[3,8] 3,8번 필드\n",
    "df2=df.iloc[10:30, [3,8]]\n",
    "print(df2)"
   ]
  },
  {
   "cell_type": "code",
   "execution_count": 24,
   "metadata": {},
   "outputs": [
    {
     "data": {
      "text/plain": [
       "([<matplotlib.axis.XTick at 0x20946dcbc88>,\n",
       "  <matplotlib.axis.XTick at 0x20946dcb388>,\n",
       "  <matplotlib.axis.XTick at 0x20946d93cc8>,\n",
       "  <matplotlib.axis.XTick at 0x20946e277c8>,\n",
       "  <matplotlib.axis.XTick at 0x20946e27d08>,\n",
       "  <matplotlib.axis.XTick at 0x20946e2b608>,\n",
       "  <matplotlib.axis.XTick at 0x20946e2bd08>,\n",
       "  <matplotlib.axis.XTick at 0x20946e307c8>,\n",
       "  <matplotlib.axis.XTick at 0x20946e36148>,\n",
       "  <matplotlib.axis.XTick at 0x20946e2bcc8>,\n",
       "  <matplotlib.axis.XTick at 0x20946e36848>,\n",
       "  <matplotlib.axis.XTick at 0x20946e38248>,\n",
       "  <matplotlib.axis.XTick at 0x20946e38e88>,\n",
       "  <matplotlib.axis.XTick at 0x20946e3ca08>,\n",
       "  <matplotlib.axis.XTick at 0x20946e40588>,\n",
       "  <matplotlib.axis.XTick at 0x20946e44188>,\n",
       "  <matplotlib.axis.XTick at 0x20946e44c48>,\n",
       "  <matplotlib.axis.XTick at 0x20946e477c8>,\n",
       "  <matplotlib.axis.XTick at 0x20946e476c8>,\n",
       "  <matplotlib.axis.XTick at 0x20946e36988>],\n",
       " <a list of 20 Text xticklabel objects>)"
      ]
     },
     "execution_count": 24,
     "metadata": {},
     "output_type": "execute_result"
    },
    {
     "data": {
      "image/png": "[encoded data removed]",
      "text/plain": [
       "<Figure size 432x288 with 1 Axes>"
      ]
     },
     "metadata": {
      "needs_background": "light"
     },
     "output_type": "display_data"
    }
   ],
   "source": [
    "#막대그래프 bar(x,y)\n",
    "plt.bar(range(1,len(df2)+1),df2['Ozone'])\n",
    "#x축의 눈금\n",
    "plt.xticks(range(1,len(df2)+1))"
   ]
  },
  {
   "cell_type": "code",
   "execution_count": 25,
   "metadata": {},
   "outputs": [
    {
     "data": {
      "text/plain": [
       "([<matplotlib.axis.YTick at 0x20946e90908>,\n",
       "  <matplotlib.axis.YTick at 0x20945d00bc8>,\n",
       "  <matplotlib.axis.YTick at 0x20946e88c88>,\n",
       "  <matplotlib.axis.YTick at 0x20946eed5c8>,\n",
       "  <matplotlib.axis.YTick at 0x20946eedc88>,\n",
       "  <matplotlib.axis.YTick at 0x20946eef448>,\n",
       "  <matplotlib.axis.YTick at 0x20946eefc48>,\n",
       "  <matplotlib.axis.YTick at 0x20946eeddc8>,\n",
       "  <matplotlib.axis.YTick at 0x20946ef3608>,\n",
       "  <matplotlib.axis.YTick at 0x20946ef3cc8>,\n",
       "  <matplotlib.axis.YTick at 0x20946ef8788>,\n",
       "  <matplotlib.axis.YTick at 0x20946efc388>,\n",
       "  <matplotlib.axis.YTick at 0x20946efce88>,\n",
       "  <matplotlib.axis.YTick at 0x20946f00a08>,\n",
       "  <matplotlib.axis.YTick at 0x20946f03588>,\n",
       "  <matplotlib.axis.YTick at 0x20946f09188>,\n",
       "  <matplotlib.axis.YTick at 0x20946f09a08>,\n",
       "  <matplotlib.axis.YTick at 0x20946efc248>,\n",
       "  <matplotlib.axis.YTick at 0x20946f0c248>,\n",
       "  <matplotlib.axis.YTick at 0x20946f0cc08>],\n",
       " <a list of 20 Text yticklabel objects>)"
      ]
     },
     "execution_count": 25,
     "metadata": {},
     "output_type": "execute_result"
    },
    {
     "data": {
      "image/png": "[encoded data removed]",
      "text/plain": [
       "<Figure size 432x288 with 1 Axes>"
      ]
     },
     "metadata": {
      "needs_background": "light"
     },
     "output_type": "display_data"
    }
   ],
   "source": [
    "#가로 막대그래프\n",
    "plt.barh(range(1,len(df2)+1),df2['Ozone'])\n",
    "#y축 눈금 설정\n",
    "plt.yticks(range(1,len(df2)+1))"
   ]
  },
  {
   "cell_type": "code",
   "execution_count": 28,
   "metadata": {},
   "outputs": [
    {
     "data": {
      "text/html": [
       "<div>\n",
       "<style scoped>\n",
       "    .dataframe tbody tr th:only-of-type {\n",
       "        vertical-align: middle;\n",
       "    }\n",
       "\n",
       "    .dataframe tbody tr th {\n",
       "        vertical-align: top;\n",
       "    }\n",
       "\n",
       "    .dataframe thead th {\n",
       "        text-align: right;\n",
       "    }\n",
       "</style>\n",
       "<table border=\"1\" class=\"dataframe\">\n",
       "  <thead>\n",
       "    <tr style=\"text-align: right;\">\n",
       "      <th></th>\n",
       "      <th>Ozone</th>\n",
       "      <th>Wind Speed</th>\n",
       "    </tr>\n",
       "  </thead>\n",
       "  <tbody>\n",
       "    <tr>\n",
       "      <td>10</td>\n",
       "      <td>NaN</td>\n",
       "      <td>5.0</td>\n",
       "    </tr>\n",
       "    <tr>\n",
       "      <td>11</td>\n",
       "      <td>262.24</td>\n",
       "      <td>5.0</td>\n",
       "    </tr>\n",
       "    <tr>\n",
       "      <td>12</td>\n",
       "      <td>356.12</td>\n",
       "      <td>7.0</td>\n",
       "    </tr>\n",
       "    <tr>\n",
       "      <td>13</td>\n",
       "      <td>194.02</td>\n",
       "      <td>7.0</td>\n",
       "    </tr>\n",
       "    <tr>\n",
       "      <td>14</td>\n",
       "      <td>200.55</td>\n",
       "      <td>7.0</td>\n",
       "    </tr>\n",
       "  </tbody>\n",
       "</table>\n",
       "</div>"
      ],
      "text/plain": [
       "     Ozone  Wind Speed\n",
       "10     NaN         5.0\n",
       "11  262.24         5.0\n",
       "12  356.12         7.0\n",
       "13  194.02         7.0\n",
       "14  200.55         7.0"
      ]
     },
     "execution_count": 28,
     "metadata": {},
     "output_type": "execute_result"
    }
   ],
   "source": [
    "# iloc[행의범위,열의범위]\n",
    "# None 가리키는 값이 없음, 결측값\n",
    "# NaN : Not a Number\n",
    "df2.iloc[0,0]=None\n",
    "df2.head()"
   ]
  },
  {
   "cell_type": "code",
   "execution_count": 29,
   "metadata": {},
   "outputs": [
    {
     "data": {
      "text/html": [
       "<div>\n",
       "<style scoped>\n",
       "    .dataframe tbody tr th:only-of-type {\n",
       "        vertical-align: middle;\n",
       "    }\n",
       "\n",
       "    .dataframe tbody tr th {\n",
       "        vertical-align: top;\n",
       "    }\n",
       "\n",
       "    .dataframe thead th {\n",
       "        text-align: right;\n",
       "    }\n",
       "</style>\n",
       "<table border=\"1\" class=\"dataframe\">\n",
       "  <thead>\n",
       "    <tr style=\"text-align: right;\">\n",
       "      <th></th>\n",
       "      <th>Ozone</th>\n",
       "      <th>Wind Speed</th>\n",
       "    </tr>\n",
       "  </thead>\n",
       "  <tbody>\n",
       "    <tr>\n",
       "      <td>10</td>\n",
       "      <td>0.00</td>\n",
       "      <td>5.0</td>\n",
       "    </tr>\n",
       "    <tr>\n",
       "      <td>11</td>\n",
       "      <td>262.24</td>\n",
       "      <td>5.0</td>\n",
       "    </tr>\n",
       "    <tr>\n",
       "      <td>12</td>\n",
       "      <td>356.12</td>\n",
       "      <td>7.0</td>\n",
       "    </tr>\n",
       "    <tr>\n",
       "      <td>13</td>\n",
       "      <td>194.02</td>\n",
       "      <td>7.0</td>\n",
       "    </tr>\n",
       "    <tr>\n",
       "      <td>14</td>\n",
       "      <td>200.55</td>\n",
       "      <td>7.0</td>\n",
       "    </tr>\n",
       "  </tbody>\n",
       "</table>\n",
       "</div>"
      ],
      "text/plain": [
       "     Ozone  Wind Speed\n",
       "10    0.00         5.0\n",
       "11  262.24         5.0\n",
       "12  356.12         7.0\n",
       "13  194.02         7.0\n",
       "14  200.55         7.0"
      ]
     },
     "execution_count": 29,
     "metadata": {},
     "output_type": "execute_result"
    }
   ],
   "source": [
    "df3=df2.fillna(0) #결측값을 0으로 채움\n",
    "df3.head()"
   ]
  },
  {
   "cell_type": "code",
   "execution_count": 31,
   "metadata": {},
   "outputs": [
    {
     "data": {
      "image/png": "[encoded data removed]",
      "text/plain": [
       "<Figure size 432x288 with 1 Axes>"
      ]
     },
     "metadata": {},
     "output_type": "display_data"
    }
   ],
   "source": [
    "%matplotlib inline\n",
    "import matplotlib.pyplot as plt\n",
    "#한글 폰트 관련 처리\n",
    "from matplotlib import font_manager,rc\n",
    "font_name=font_manager.FontProperties(\n",
    "fname='c:/windows/fonts/malgun.ttf').get_name()\n",
    "rc('font',family=font_name)\n",
    "\n",
    "items = ['사이다','콜라','커피','쥬스','팥빙수']\n",
    "values=[40,30,70,20,15]\n",
    "plt.pie(values, labels=items) #파이차트\n",
    "plt.show()"
   ]
  },
  {
   "cell_type": "code",
   "execution_count": null,
   "metadata": {},
   "outputs": [],
   "source": []
  }
 ],
 "metadata": {
  "kernelspec": {
   "display_name": "Python 3",
   "language": "python",
   "name": "python3"
  },
  "language_info": {
   "codemirror_mode": {
    "name": "ipython",
    "version": 3
   },
   "file_extension": ".py",
   "mimetype": "text/x-python",
   "name": "python",
   "nbconvert_exporter": "python",
   "pygments_lexer": "ipython3",
   "version": "3.7.4"
  }
 },
 "nbformat": 4,
 "nbformat_minor": 2
}
