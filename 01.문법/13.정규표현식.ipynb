{
 "cells": [
  {
   "cell_type": "code",
   "execution_count": null,
   "metadata": {},
   "outputs": [],
   "source": [
    "#유효성 검증"
   ]
  },
  {
   "cell_type": "code",
   "execution_count": 2,
   "metadata": {},
   "outputs": [
    {
     "name": "stdout",
     "output_type": "stream",
     "text": [
      "숫자를 입력하세요. 85ㅐㅜㄷ\n",
      "잘못된 값을 입력했습니다. 다시 입력하세요.\n",
      "숫자를 입력하세요.54\n",
      "합계: 1485\n"
     ]
    }
   ],
   "source": [
    "while True:\n",
    "    try:\n",
    "        n=int(input('숫자를 입력하세요.'))\n",
    "        result=0\n",
    "        for i in range(1,1+n):\n",
    "            result+= i\n",
    "        print('합계:',result)\n",
    "        \n",
    "        break\n",
    "    \n",
    "    except:\n",
    "        print('잘못된 값을 입력했습니다. 다시 입력하세요.')"
   ]
  },
  {
   "cell_type": "code",
   "execution_count": 13,
   "metadata": {},
   "outputs": [
    {
     "name": "stdout",
     "output_type": "stream",
     "text": [
      "['i', 'i', 'i']\n",
      "['kim']\n",
      "['m', 'm']\n"
     ]
    }
   ],
   "source": [
    "import re #정규표현식 모듈\n",
    "\n",
    "s='My id number is kim0902'\n",
    "# findall('찾는패턴',문자열)\n",
    "a=re.findall('i',s)\n",
    "print(a)\n",
    "\n",
    "a=re.findall('kim',s)\n",
    "print(a)\n",
    "\n",
    "a=re.findall('m',s)\n",
    "print(a)"
   ]
  },
  {
   "cell_type": "code",
   "execution_count": 11,
   "metadata": {},
   "outputs": [
    {
     "name": "stdout",
     "output_type": "stream",
     "text": [
      "['y', 'i', 'd', 'n', 'u', 'm', 'b', 'e', 'r', 'i', 's', 'k', 'i', 'm']\n"
     ]
    }
   ],
   "source": [
    "a=re.findall('[a-z]',s) #소문자들을 모두 찾음(글자 단위)\n",
    "print(a)"
   ]
  },
  {
   "cell_type": "code",
   "execution_count": 12,
   "metadata": {},
   "outputs": [
    {
     "name": "stdout",
     "output_type": "stream",
     "text": [
      "['y', 'id', 'number', 'is', 'kim']\n"
     ]
    }
   ],
   "source": [
    "b=re.findall('[a-z]+',s) # +단어 단위로 찾음\n",
    "print(b)"
   ]
  },
  {
   "cell_type": "code",
   "execution_count": 14,
   "metadata": {},
   "outputs": [
    {
     "name": "stdout",
     "output_type": "stream",
     "text": [
      "['M']\n"
     ]
    }
   ],
   "source": [
    "b=re.findall('[A-Z]+',s) # +단어 단위로 찾음\n",
    "print(b)"
   ]
  },
  {
   "cell_type": "code",
   "execution_count": 17,
   "metadata": {},
   "outputs": [
    {
     "name": "stdout",
     "output_type": "stream",
     "text": [
      "['0902']\n"
     ]
    }
   ],
   "source": [
    "b=re.findall('[0-9]+',s) # +단어 단위로 찾음\n",
    "print(b)"
   ]
  },
  {
   "cell_type": "code",
   "execution_count": 18,
   "metadata": {},
   "outputs": [
    {
     "name": "stdout",
     "output_type": "stream",
     "text": [
      "['My', 'id', 'number', 'is', 'kim0902', 'kim']\n"
     ]
    }
   ],
   "source": [
    "s='My id number is kim0902#. 나의 아이디는 kim입니다.'\n",
    "b=re.findall('[a-zA-Z0-9]+',s) # +단어 단위로 찾음\n",
    "print(b)"
   ]
  },
  {
   "cell_type": "code",
   "execution_count": 21,
   "metadata": {},
   "outputs": [
    {
     "name": "stdout",
     "output_type": "stream",
     "text": [
      "['나의', '아이디는', '입니다']\n"
     ]
    }
   ],
   "source": [
    "s='My id number is kim0902#. 나의 아이디는 kim입니다.'\n",
    "b=re.findall('[가-힣]+',s) # +단어 단위로 찾음\n",
    "print(b)"
   ]
  },
  {
   "cell_type": "code",
   "execution_count": null,
   "metadata": {},
   "outputs": [],
   "source": [
    "import re\n",
    "\n",
    "s='My id number is kim0902#. 나의 아이디는 kim입니다.'\n",
    "b=re.findall('[가-힣]+',s) # +단어 단위로 찾음\n",
    "print(b)"
   ]
  },
  {
   "cell_type": "code",
   "execution_count": 28,
   "metadata": {},
   "outputs": [
    {
     "name": "stdout",
     "output_type": "stream",
     "text": [
      "['My', 'id', 'number', 'is', 'kim', '0902', 'kim']\n"
     ]
    }
   ],
   "source": [
    "# ^ not 부정 소문자, 대문자, 숫자가 아닌 패턴들\n",
    "c=re.findall('[a-zA-Z0-9]+',s)\n",
    "print(c)"
   ]
  },
  {
   "cell_type": "code",
   "execution_count": 29,
   "metadata": {},
   "outputs": [
    {
     "name": "stdout",
     "output_type": "stream",
     "text": [
      "[' ', ' ', ' ', ' ', '_', '#$!. 나의 아이디는 ', '입니다.']\n"
     ]
    }
   ],
   "source": [
    "# ^ not 부정 소문자, 대문자, 숫자가 아닌 패턴들\n",
    "c=re.findall('[^a-zA-Z0-9]+',s)\n",
    "print(c)"
   ]
  },
  {
   "cell_type": "code",
   "execution_count": 26,
   "metadata": {},
   "outputs": [
    {
     "name": "stdout",
     "output_type": "stream",
     "text": [
      "['My', 'id', 'number', 'is', 'kim_0902', '나의', '아이디는', 'kim입니다']\n"
     ]
    }
   ],
   "source": [
    "# 영문자+숫자+밑줄\n",
    "s='My id number is kim_0902#$!. 나의 아이디는 kim입니다.'\n",
    "d=re.findall('[\\w]+',s)\n",
    "print(d)"
   ]
  },
  {
   "cell_type": "code",
   "execution_count": 27,
   "metadata": {},
   "outputs": [
    {
     "name": "stdout",
     "output_type": "stream",
     "text": [
      "[' ', ' ', ' ', ' ', '#$!. ', ' ', ' ', '.']\n"
     ]
    }
   ],
   "source": [
    "# 영문자+숫자+한글+밑줄이 아닌 패턴들 \\w의 반대\n",
    "f=re.findall('[\\W]+',s)\n",
    "print(f)"
   ]
  },
  {
   "cell_type": "code",
   "execution_count": 42,
   "metadata": {},
   "outputs": [
    {
     "name": "stdout",
     "output_type": "stream",
     "text": [
      "12abc 의 길이가 적당하지 않습니다.\n",
      "123abc ==> 대문자와 소문자,숫자가 모두 필요합니다.\n",
      "123abc% ==> 숫자와 영문자만 쓸 수 있습니다.\n",
      "123Abc ==> 올바른 형식의 비밀번호입니다.\n",
      "10Abcdef ==> 올바른 형식의 비밀번호입니다.\n",
      "Abcdef ==> 대문자와 소문자,숫자가 모두 필요합니다.\n"
     ]
    },
    {
     "data": {
      "text/plain": [
       "False"
      ]
     },
     "execution_count": 42,
     "metadata": {},
     "output_type": "execute_result"
    }
   ],
   "source": [
    "import re\n",
    "#함수 선언\n",
    "def pwd_check(pwd):\n",
    "    if len(pwd)<6 or len(pwd)>12:\n",
    "        print(pwd,'의 길이가 적당하지 않습니다.')\n",
    "        return False\n",
    "    if re.findall('[a-zA-Z0-9]+',pwd)[0] != pwd:\n",
    "        print(pwd, '==> 숫자와 영문자만 쓸 수 있습니다.')\n",
    "        return False\n",
    "    if len(re.findall('[a-z]',pwd))==0 or len(re.findall('[A-Z]',pwd))==0 or len(re.findall('[0-9]',pwd))==0:\n",
    "        print(pwd,'==> 대문자와 소문자,숫자가 모두 필요합니다.')\n",
    "        return False\n",
    "    print(pwd,'==> 올바른 형식의 비밀번호입니다.')\n",
    "    return True\n",
    "\n",
    "#함수 호출\n",
    "pwd_check('12abc') #길이 오류\n",
    "pwd_check('123abc') #대문자를 추가해야 함\n",
    "pwd_check('123abc%') #특수문자를 제외해야 함\n",
    "pwd_check('123Abc') #유효성 검증을 통과한 비밀번호\n",
    "pwd_check('10Abcdef')\n",
    "pwd_check('Abcdef')"
   ]
  },
  {
   "cell_type": "code",
   "execution_count": 43,
   "metadata": {},
   "outputs": [
    {
     "name": "stdout",
     "output_type": "stream",
     "text": [
      "비밀번호를 입력하세요.Abcdef\n",
      "Abcdef ==> 대문자와 소문자,숫자가 모두 필요합니다.\n",
      "잘못된 형식의 비밀번호입니다.\n"
     ]
    }
   ],
   "source": [
    "a=input('비밀번호를 입력하세요.')\n",
    "if pwd_check(a):\n",
    "    print('유혀성 검증 통과')\n",
    "else:\n",
    "    print('잘못된 형식의 비밀번호입니다.')"
   ]
  },
  {
   "cell_type": "code",
   "execution_count": 44,
   "metadata": {},
   "outputs": [
    {
     "name": "stdout",
     "output_type": "stream",
     "text": [
      "kim@gmail ==> 잘못된 이메일 형식입니다.\n",
      "kim_gmail.com ==> 잘못된 이메일 형식입니다.\n",
      "kim ==> 잘못된 이메일 형식입니다.\n",
      "kim@gmail.com ==>올바른 이메일 주소입니다!\n"
     ]
    }
   ],
   "source": [
    "import re\n",
    "# [^] not\n",
    "# ^[]$   ^ start,$ end\n",
    "# {2,} 2글자 이상\n",
    "def email_check(email):\n",
    "    exp=re.findall('^[a-z0-9A-Z]{2,}@[a-z0-9]{2,}\\.[a-z]{2,}$',email)\n",
    "    if len(exp) == 0:\n",
    "        print(email, '==> 잘못된 이메일 형식입니다.')\n",
    "        return false\n",
    "    \n",
    "    print(email,'==>올바른 이메일 주소입니다!')\n",
    "    return True\n",
    "\n",
    "email_check('kim@gmail')\n",
    "email_check('kim_gmail.com')\n",
    "email_check('kim')\n",
    "email_check('kim@gmail.com')    "
   ]
  },
  {
   "cell_type": "code",
   "execution_count": null,
   "metadata": {},
   "outputs": [],
   "source": [
    "a = input('이메일 주소를 입력하세요')\n",
    "if email_check(a):\n",
    "    print('유효성 검증 통과')\n",
    "else:\n",
    "    print('유효성 검증 실패')"
   ]
  },
  {
   "cell_type": "code",
   "execution_count": null,
   "metadata": {},
   "outputs": [],
   "source": []
  },
  {
   "cell_type": "code",
   "execution_count": null,
   "metadata": {},
   "outputs": [],
   "source": []
  },
  {
   "cell_type": "code",
   "execution_count": null,
   "metadata": {},
   "outputs": [],
   "source": []
  },
  {
   "cell_type": "code",
   "execution_count": null,
   "metadata": {},
   "outputs": [],
   "source": []
  },
  {
   "cell_type": "code",
   "execution_count": null,
   "metadata": {},
   "outputs": [],
   "source": []
  },
  {
   "cell_type": "code",
   "execution_count": null,
   "metadata": {},
   "outputs": [],
   "source": []
  },
  {
   "cell_type": "code",
   "execution_count": null,
   "metadata": {},
   "outputs": [],
   "source": []
  },
  {
   "cell_type": "code",
   "execution_count": null,
   "metadata": {},
   "outputs": [],
   "source": []
  }
 ],
 "metadata": {
  "kernelspec": {
   "display_name": "Python 3",
   "language": "python",
   "name": "python3"
  },
  "language_info": {
   "codemirror_mode": {
    "name": "ipython",
    "version": 3
   },
   "file_extension": ".py",
   "mimetype": "text/x-python",
   "name": "python",
   "nbconvert_exporter": "python",
   "pygments_lexer": "ipython3",
   "version": "3.7.4"
  }
 },
 "nbformat": 4,
 "nbformat_minor": 2
}
