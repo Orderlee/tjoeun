{
 "cells": [
  {
   "cell_type": "code",
   "execution_count": 4,
   "metadata": {},
   "outputs": [],
   "source": [
    "import pymongo #몽고db 패키지 로딩\n",
    "from pymongo import MongoClient\n",
    "# pip install 패키지"
   ]
  },
  {
   "cell_type": "code",
   "execution_count": 5,
   "metadata": {},
   "outputs": [
    {
     "data": {
      "text/plain": [
       "MongoClient(host=['localhost:27017'], document_class=dict, tz_aware=False, connect=True)"
      ]
     },
     "execution_count": 5,
     "metadata": {},
     "output_type": "execute_result"
    }
   ],
   "source": [
    "#비인증모드로 mongodb에 접속\n",
    "#MongoClient('호스트',포트번호) 기본포트번호 27017\n",
    "conn = MongoClient('localhost', 27017)\n",
    "conn"
   ]
  },
  {
   "cell_type": "code",
   "execution_count": 6,
   "metadata": {},
   "outputs": [
    {
     "data": {
      "text/plain": [
       "Database(MongoClient(host=['localhost:27017'], document_class=dict, tz_aware=False, connect=True), 'test_db')"
      ]
     },
     "execution_count": 6,
     "metadata": {},
     "output_type": "execute_result"
    }
   ],
   "source": [
    "#test_db 라는 이름의 데이터베이스가 만들어짐\n",
    "db=conn.test_db\n",
    "db"
   ]
  },
  {
   "cell_type": "code",
   "execution_count": 7,
   "metadata": {},
   "outputs": [
    {
     "data": {
      "text/plain": [
       "Collection(Database(MongoClient(host=['localhost:27017'], document_class=dict, tz_aware=False, connect=True), 'test_db'), 'collect')"
      ]
     },
     "execution_count": 7,
     "metadata": {},
     "output_type": "execute_result"
    }
   ],
   "source": [
    "#test_db 내부에 새로운 컬렉션(테이블에 해당됨) 생성\n",
    "# student =db.student studet 가 컬렉션\n",
    "collect=db.collect\n",
    "collect"
   ]
  },
  {
   "cell_type": "code",
   "execution_count": 12,
   "metadata": {},
   "outputs": [],
   "source": [
    "#전체 문서 삭제\n",
    "collect.drop()"
   ]
  },
  {
   "cell_type": "code",
   "execution_count": 13,
   "metadata": {},
   "outputs": [
    {
     "name": "stdout",
     "output_type": "stream",
     "text": [
      "{'_id': ObjectId('5dcb663549e8b5716f31eda1'), 'no': 1, 'name': '김철수', 'kor': 90, 'eng': 80, 'mat': 77}\n",
      "{'_id': ObjectId('5dcb663549e8b5716f31eda2'), 'no': 2, 'name': '박민성', 'kor': 95, 'eng': 83, 'mat': 76}\n",
      "{'_id': ObjectId('5dcb663549e8b5716f31eda3'), 'no': 3, 'name': '송영희', 'kor': 92, 'eng': 87, 'mat': 75}\n"
     ]
    }
   ],
   "source": [
    "#도큐먼트(레코드에 해당됨) 생성\n",
    "row1={'no':1, 'name':'김철수','kor':90,'eng':80,'mat':77}\n",
    "row2={'no':2, 'name':'박민성','kor':95,'eng':83,'mat':76}\n",
    "row3={'no':3, 'name':'송영희','kor':92,'eng':87,'mat':75}\n",
    "collect.insert_one(row1) #1개의 도큐먼트를 저장\n",
    "collect.insert_one(row2)\n",
    "collect.insert_one(row3)\n",
    "\n",
    "rows=collect.find() #전체 도큐먼트 목록을 리스트로 저장\n",
    "# _id 도큐먼트의 식별자(자동으로 만들어짐)\n",
    "for row in rows:\n",
    "    print(row)"
   ]
  },
  {
   "cell_type": "code",
   "execution_count": 14,
   "metadata": {},
   "outputs": [
    {
     "data": {
      "text/plain": [
       "<pymongo.results.DeleteResult at 0x204391c4508>"
      ]
     },
     "execution_count": 14,
     "metadata": {},
     "output_type": "execute_result"
    }
   ],
   "source": [
    "#전체 도큐먼트를 리스트로 저장\n",
    "collect.delete_one({'no':2})"
   ]
  },
  {
   "cell_type": "code",
   "execution_count": 15,
   "metadata": {},
   "outputs": [
    {
     "name": "stdout",
     "output_type": "stream",
     "text": [
      "{'_id': ObjectId('5dcb663549e8b5716f31eda1'), 'no': 1, 'name': '김철수', 'kor': 90, 'eng': 80, 'mat': 77}\n",
      "{'_id': ObjectId('5dcb663549e8b5716f31eda3'), 'no': 3, 'name': '송영희', 'kor': 92, 'eng': 87, 'mat': 75}\n"
     ]
    }
   ],
   "source": [
    "#전체 도큐먼트를 리스트로 저장\n",
    "rows=collect.find() \n",
    "for row in rows:\n",
    "    print(row)"
   ]
  },
  {
   "cell_type": "code",
   "execution_count": 16,
   "metadata": {},
   "outputs": [
    {
     "data": {
      "text/plain": [
       "<pymongo.results.UpdateResult at 0x204391b4bc8>"
      ]
     },
     "execution_count": 16,
     "metadata": {},
     "output_type": "execute_result"
    }
   ],
   "source": [
    "#도큐먼트 수정\n",
    "#컬렉션.update_one({ket:value},{''$set':{key:value}})\n",
    "collect.update_one({'no':1}, {'$set':{'kor':100,'eng':100}})"
   ]
  },
  {
   "cell_type": "code",
   "execution_count": 17,
   "metadata": {},
   "outputs": [
    {
     "name": "stdout",
     "output_type": "stream",
     "text": [
      "{'_id': ObjectId('5dcb663549e8b5716f31eda1'), 'no': 1, 'name': '김철수', 'kor': 100, 'eng': 100, 'mat': 77}\n",
      "{'_id': ObjectId('5dcb663549e8b5716f31eda3'), 'no': 3, 'name': '송영희', 'kor': 92, 'eng': 87, 'mat': 75}\n"
     ]
    }
   ],
   "source": [
    "rows=collect.find() \n",
    "for row in rows:\n",
    "    print(row)"
   ]
  },
  {
   "cell_type": "code",
   "execution_count": 21,
   "metadata": {},
   "outputs": [
    {
     "name": "stdout",
     "output_type": "stream",
     "text": [
      "{'_id': ObjectId('5dcb663549e8b5716f31eda1'), 'no': 1, 'name': '김철수', 'kor': 100, 'eng': 100, 'mat': 77, 'avg': 92.33333333333333, 'grade': 'A', 'tot': 277}\n",
      "{'_id': ObjectId('5dcb663549e8b5716f31eda3'), 'no': 3, 'name': '송영희', 'kor': 92, 'eng': 87, 'mat': 75, 'avg': 84.66666666666667, 'grade': 'B', 'tot': 254}\n"
     ]
    }
   ],
   "source": [
    "rows = collect.find() #전체 도큐먼트를 리스트로 저장\n",
    "for row in rows:\n",
    "    tot=row['kor']+row['eng']+row['mat'] #총점\n",
    "    avg=tot/3 #평균\n",
    "    #등급 계산\n",
    "    if avg>90:\n",
    "        grade='A'\n",
    "    elif 80<=avg<90:\n",
    "        grade='B'\n",
    "    elif 70<=avg<80:\n",
    "        grade='C'\n",
    "    elif 60<=avg<70:\n",
    "        grade='D'\n",
    "    else:\n",
    "        grade='F'\n",
    "    #번호에 해당하는 도큐먼트를 찾아서 업데이트\n",
    "    #새로운 필드가 추가됨\n",
    "    collect.update_one({'no':row['no']}, {'$set':{'tot':tot,'avg':avg,'grade':grade}})\n",
    "    \n",
    "rows=collect.find()\n",
    "for row in rows:\n",
    "    print(row)"
   ]
  },
  {
   "cell_type": "code",
   "execution_count": 22,
   "metadata": {},
   "outputs": [
    {
     "name": "stdout",
     "output_type": "stream",
     "text": [
      "학번\t이름\t국어\t영어\t수학\t총점\t평균\t등급\n",
      "=======================================================\n",
      "1\t김철수\t100\t100\t77\t277\t92.33\tA\n",
      "3\t송영희\t92\t87\t75\t254\t84.67\tB\n"
     ]
    }
   ],
   "source": [
    "rows=collect.find() #전체 문서 찾기\n",
    "print('학번\\t이름\\t국어\\t영어\\t수학\\t총점\\t평균\\t등급')\n",
    "print('='*55)\n",
    "for row in rows:\n",
    "    print('{}\\t{}\\t{}\\t{}\\t{}\\t{}\\t{:.2f}\\t{}'.format(row['no'],row['name'],\n",
    "                                                     row['kor'],row['eng'],row['mat'],row['tot'],row['avg'],row['grade']))"
   ]
  },
  {
   "cell_type": "code",
   "execution_count": 27,
   "metadata": {},
   "outputs": [
    {
     "name": "stdout",
     "output_type": "stream",
     "text": [
      "{'_id': ObjectId('5dcb663549e8b5716f31eda3'), 'no': 3, 'name': '송영희', 'kor': 92, 'eng': 87, 'mat': 75, 'avg': 84.66666666666667, 'grade': 'B', 'tot': 254}\n"
     ]
    }
   ],
   "source": [
    "#전체 문서가 아닌 개별 문서 찾기\n",
    "myrow=collect.find({'no':3})\n",
    "for field in myrow:\n",
    "    print(field)"
   ]
  },
  {
   "cell_type": "code",
   "execution_count": null,
   "metadata": {},
   "outputs": [],
   "source": []
  },
  {
   "cell_type": "code",
   "execution_count": null,
   "metadata": {},
   "outputs": [],
   "source": []
  },
  {
   "cell_type": "code",
   "execution_count": null,
   "metadata": {},
   "outputs": [],
   "source": []
  },
  {
   "cell_type": "code",
   "execution_count": null,
   "metadata": {},
   "outputs": [],
   "source": []
  },
  {
   "cell_type": "code",
   "execution_count": null,
   "metadata": {},
   "outputs": [],
   "source": []
  },
  {
   "cell_type": "code",
   "execution_count": null,
   "metadata": {},
   "outputs": [],
   "source": []
  },
  {
   "cell_type": "code",
   "execution_count": null,
   "metadata": {},
   "outputs": [],
   "source": []
  },
  {
   "cell_type": "code",
   "execution_count": null,
   "metadata": {},
   "outputs": [],
   "source": []
  },
  {
   "cell_type": "code",
   "execution_count": null,
   "metadata": {},
   "outputs": [],
   "source": []
  },
  {
   "cell_type": "code",
   "execution_count": null,
   "metadata": {},
   "outputs": [],
   "source": []
  },
  {
   "cell_type": "code",
   "execution_count": null,
   "metadata": {},
   "outputs": [],
   "source": []
  },
  {
   "cell_type": "code",
   "execution_count": null,
   "metadata": {},
   "outputs": [],
   "source": []
  },
  {
   "cell_type": "code",
   "execution_count": null,
   "metadata": {},
   "outputs": [],
   "source": []
  },
  {
   "cell_type": "code",
   "execution_count": null,
   "metadata": {},
   "outputs": [],
   "source": []
  },
  {
   "cell_type": "code",
   "execution_count": null,
   "metadata": {},
   "outputs": [],
   "source": []
  },
  {
   "cell_type": "code",
   "execution_count": null,
   "metadata": {},
   "outputs": [],
   "source": []
  }
 ],
 "metadata": {
  "kernelspec": {
   "display_name": "Python 3",
   "language": "python",
   "name": "python3"
  },
  "language_info": {
   "codemirror_mode": {
    "name": "ipython",
    "version": 3
   },
   "file_extension": ".py",
   "mimetype": "text/x-python",
   "name": "python",
   "nbconvert_exporter": "python",
   "pygments_lexer": "ipython3",
   "version": "3.7.4"
  }
 },
 "nbformat": 4,
 "nbformat_minor": 2
}
