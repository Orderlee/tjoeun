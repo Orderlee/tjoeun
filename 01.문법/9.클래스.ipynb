{
 "cells": [
  {
   "cell_type": "code",
   "execution_count": 26,
   "metadata": {},
   "outputs": [
    {
     "name": "stdout",
     "output_type": "stream",
     "text": [
      "<class 'int'>\n",
      "<class 'str'>\n"
     ]
    }
   ],
   "source": [
    "a = 1\n",
    "print(type(a))\n",
    "b='a'\n",
    "print(type(b))"
   ]
  },
  {
   "cell_type": "code",
   "execution_count": 27,
   "metadata": {},
   "outputs": [],
   "source": [
    "def a():\n",
    "    pass\n",
    "\n",
    "def b():\n",
    "    pass\n",
    "\n",
    "def c():\n",
    "    pass"
   ]
  },
  {
   "cell_type": "code",
   "execution_count": 28,
   "metadata": {},
   "outputs": [],
   "source": [
    "# class 클래스이름\n",
    "# 클래스의 멤버는 변수와 함수\n",
    "class Person:\n",
    "    # 첫글자 대문자로 쓰는게 관례(일반적)\n",
    "    # 멤버변수(properties): 독립적인 변수가 아닌 클래스에 소속된 변수\n",
    "    nation='한국'\n",
    "    name=''\n",
    "    age=0\n",
    "    height=0\n",
    "    weight=0\n",
    "    # 멤버함수(method)의 첫번재 인수에는 self를 사용함\n",
    "    # self: 인스턴스(객체)의 시작 주소값을 가리키는 변수\n",
    "    def __init__(self): #인스턴스를 초기화시키는 함수\n",
    "        print('초기화 함수')\n",
    "        \n",
    "    def display(self): #클래스의 멤버함수(독립적인 함수가 아님)\n",
    "        print('국적:',self.nation, end='')\n",
    "        print(', 이름:',self.name, end='')\n",
    "        print(', 나이:',self.age, end='')\n",
    "        print(', 신장:',self.height, end='')\n",
    "        print(', 체중:',self.weight, end='')"
   ]
  },
  {
   "cell_type": "code",
   "execution_count": 29,
   "metadata": {},
   "outputs": [
    {
     "name": "stdout",
     "output_type": "stream",
     "text": [
      "초기화 함수\n",
      "국적: 한국, 이름: , 나이: 0, 신장: 0, 체중: 0"
     ]
    }
   ],
   "source": [
    "# 클래스 : 설계도, 인스턴스 : 제품\n",
    "p1=Person() # person 클래스의 인스턴스(객체)를 생성\n",
    "p1.display() # p1 참조변수가 가리키는 인스턴스의 display() 함수 실행"
   ]
  },
  {
   "cell_type": "code",
   "execution_count": 30,
   "metadata": {},
   "outputs": [
    {
     "name": "stdout",
     "output_type": "stream",
     "text": [
      "초기화 함수\n",
      "2255383079944\n",
      "국적: korea, 이름: 김철수, 나이: 20, 신장: 180.5, 체중: 70.5"
     ]
    }
   ],
   "source": [
    "# Person 클래스의 새로운 인스턴스가 메모리에 만들어지고\n",
    "# 인스턴스의 주소값이 p2 변수에 전달됨\n",
    "p2=Person()\n",
    "print(id(p2))\n",
    "# p2 변수가 가리키는 인스턴스의 nation 변수값을 변경함\n",
    "\n",
    "# 참조변수.변수\n",
    "# 참조변수.함수()\n",
    "\n",
    "p2.nation='korea'\n",
    "p2.name='김철수'\n",
    "p2.age=20\n",
    "p2.height=180.5\n",
    "p2.weight=70.5\n",
    "# p2 변수가 가리키는 display() 함수를 호출함\n",
    "p2.display()"
   ]
  },
  {
   "cell_type": "code",
   "execution_count": null,
   "metadata": {},
   "outputs": [],
   "source": [
    "import math\n",
    "\n",
    "class Mycircle: #새로운 클래스(사용자정의 자료형)\n",
    "    r=0.0\n",
    "    a=0.0\n",
    "    b=0.0\n",
    "    def set_r(self,r): #반지름을 입력하는 함수\n",
    "        # self.변수 => 클래스 전체에서 사용할 수 있는 변수\n",
    "        # self가 붙지 않은 변수 => 지역 변수\n",
    "        self.r=r\n",
    "        \n",
    "    def length(self): #둘레를 계산하는 함수\n",
    "        self.a=2* math.pi * self.r\n",
    "    \n",
    "    def area(self): #넓이를 계산하는 함수\n",
    "        self.b = math.pi *self.r* self.r\n",
    "    \n",
    "    def disp(self): #출력함수\n",
    "        print('반지름:{}, 둘레:{:.2f}, 넓이:{:.2f}'. format(self.r, self.a, self.b))"
   ]
  },
  {
   "cell_type": "code",
   "execution_count": null,
   "metadata": {},
   "outputs": [],
   "source": [
    "a = Mycircle() #클래스의 인스턴스를 만들고 참조변수 a에 주소 전달\n",
    "#a.r=50\n",
    "a.set_r(50) # a 변수가 가리키는 인스턴스의 set_r 함수 호출\n",
    "a.length()\n",
    "a.area()\n",
    "a.disp()"
   ]
  },
  {
   "cell_type": "code",
   "execution_count": null,
   "metadata": {},
   "outputs": [],
   "source": [
    "#변수들만으로 구성된 클래스\n",
    "class Person:\n",
    "    name=''\n",
    "    age=0\n",
    "    height=0"
   ]
  },
  {
   "cell_type": "code",
   "execution_count": null,
   "metadata": {},
   "outputs": [],
   "source": [
    "# 클래스이름() -> 클래스의 인스턴스를 메모리에 생성\n",
    "p1=Person()\n",
    "p1.name='박지성'\n",
    "p1.age=30\n",
    "p1.height=165.5\n",
    "print('이름:{}, 나이:{}, 키:{}'.format(p1.name,p1.age,p1.height))"
   ]
  },
  {
   "cell_type": "code",
   "execution_count": null,
   "metadata": {},
   "outputs": [],
   "source": [
    "class Person:\n",
    "    name=''\n",
    "    age=0\n",
    "    height=0\n",
    "    #함수가 추가됨, 클래스의 멤버함수(method)\n",
    "    #첫번째 매개변수에는 self를 써야 함\n",
    "    #self: 현재 인스턴스의 시작번지값을 가리킴\n",
    "    #self.변수: 클래스의 멤버변수\n",
    "    \n",
    "    def disp(self):\n",
    "        print('이름:{}, 나이:{}, 키:{}'.format(self.name,self.age,self.height))"
   ]
  },
  {
   "cell_type": "code",
   "execution_count": null,
   "metadata": {},
   "outputs": [],
   "source": [
    "p2=Person()\n",
    "p2.name='박지성'\n",
    "p2.age=31\n",
    "p2.height=165.5\n",
    "p2.disp()"
   ]
  },
  {
   "cell_type": "code",
   "execution_count": null,
   "metadata": {},
   "outputs": [],
   "source": [
    "class Person:\n",
    "    name=''\n",
    "    age=0\n",
    "    height=0\n",
    " #변수에 직접 값을 입력할 경우 오류가 발생할 수 있음   \n",
    "    def set_age(self,age):\n",
    "        if age>100 or age<0:\n",
    "            print('나이를 정확히 입력하세요.')\n",
    "        else:\n",
    "            self.age=age\n",
    "            \n",
    "    def disp(self):\n",
    "        print('이름:{}, 나이:{}, 키:{}'.format(self.name,self.age,self.height))"
   ]
  },
  {
   "cell_type": "code",
   "execution_count": null,
   "metadata": {},
   "outputs": [],
   "source": [
    "p3=Person()\n",
    "p3.name='김철수'\n",
    "p3.set_age(-100)\n",
    "p3.height=166.6\n",
    "p3.disp() #함수를 호출함"
   ]
  },
  {
   "cell_type": "code",
   "execution_count": null,
   "metadata": {},
   "outputs": [],
   "source": [
    "p4=Person()\n",
    "p4.name='박지성'\n",
    "p4.set_age(31)\n",
    "p4.height=165.5\n",
    "p4.disp()"
   ]
  },
  {
   "cell_type": "code",
   "execution_count": null,
   "metadata": {},
   "outputs": [],
   "source": [
    "class Person:\n",
    "    name=''\n",
    "    age=0\n",
    "    height=0\n",
    " #변수에 직접 값을 입력할 경우 오류가 발생할 수 있음   \n",
    "    def set_age(self,age):\n",
    "        if age>100 or age<0:\n",
    "            self.age=int(input('나이를 정확히 입력하세요:'))\n",
    "        else:\n",
    "            self.age=age\n",
    "            \n",
    "    def disp(self):\n",
    "        print('이름:{}, 나이:{}, 키:{}'.format(self.name,self.age,self.height))"
   ]
  },
  {
   "cell_type": "code",
   "execution_count": null,
   "metadata": {},
   "outputs": [],
   "source": [
    "p4=Person()\n",
    "p4.name='박지성'\n",
    "p4.set_age(120)\n",
    "p4.height=165.5\n",
    "p4.disp()"
   ]
  },
  {
   "cell_type": "code",
   "execution_count": null,
   "metadata": {},
   "outputs": [],
   "source": [
    "class Emp:\n",
    "    name=''\n",
    "    salary=0\n",
    "    bonus=0"
   ]
  },
  {
   "cell_type": "code",
   "execution_count": null,
   "metadata": {},
   "outputs": [],
   "source": [
    "e1=Emp()\n",
    "e1.name='김철수'\n",
    "e1.salary=200\n",
    "e1.bonus=50\n",
    "e1.money=e1.salary*12+e1.bonus\n",
    "print('이름:{}, 급여:{}, 보너스:{}, 연봉:{}'.format(e1.name,e1.salary,e1.bonus,e1.money))"
   ]
  },
  {
   "cell_type": "code",
   "execution_count": null,
   "metadata": {},
   "outputs": [],
   "source": [
    "class Emp:\n",
    "    name=''\n",
    "    salary=0\n",
    "    bonus=0\n",
    "    money=0\n",
    "    #출력함수\n",
    "    def disp(self):\n",
    "        print('이름:{}, 급여:{}, 보너스:{}, 연봉:{}'.format(self.name,self.salary,self.bonus,self.money))"
   ]
  },
  {
   "cell_type": "code",
   "execution_count": null,
   "metadata": {},
   "outputs": [],
   "source": [
    "e2=Emp() #인스턴스 생성\n",
    "e2.name='김철수' #멤버변수에 값을 입력함\n",
    "e2.salary=200\n",
    "e2.bonus=50\n",
    "e2.money=e2.salary*12+e2.bonus\n",
    "e2.disp()"
   ]
  },
  {
   "cell_type": "code",
   "execution_count": null,
   "metadata": {},
   "outputs": [],
   "source": [
    "class Emp:\n",
    "    name=''                                                                \n",
    "    salary=0\n",
    "    bonus=0\n",
    "    money=0\n",
    "    #초기화 함수(인스턴스를 만들 때 자동으로 호출되는 함수)\n",
    "    def __init__(self,name,salary,bonus):\n",
    "        #print('초기화 함수가 호출되었습니다.')\n",
    "        self.name=name\n",
    "        self.salary=salary\n",
    "        self.bonus=bonus\n",
    "    \n",
    "    #출력함수\n",
    "    def disp(self):\n",
    "        print('이름:{}, 급여:{}, 보너스:{}, 연봉:{}'.format(self.name,self.salary,self.bonus,self.money))"
   ]
  },
  {
   "cell_type": "code",
   "execution_count": null,
   "metadata": {},
   "outputs": [],
   "source": [
    "#인스턴스 생성, 괄호 안의 값들이 init 함수에 전달됨\n",
    "e3=Emp('김철수',500,700) #인스턴스 생성\n",
    "e3.money=e3.salary*12 + e3.bonus\n",
    "e3.disp()"
   ]
  },
  {
   "cell_type": "code",
   "execution_count": null,
   "metadata": {},
   "outputs": [],
   "source": [
    "class Emp:\n",
    "    name=''\n",
    "    salary=0\n",
    "    bonus=0\n",
    "    money=0\n",
    "   \n",
    "    #초기화 함수(인스턴스를 만들 때 자동으로 호출되는 함수)\n",
    "    def __init__(self,name,salary,bonus):\n",
    "        #print('초기화 함수가 호출되었습니다.')\n",
    "        self.name=name\n",
    "        self.salary=salary\n",
    "        self.bonus=bonus\n",
    "    \n",
    "    #연봉 계산 함수\n",
    "    def calc(self):\n",
    "        self.money=self.salary*12 + self.bonus\n",
    "    \n",
    "    #출력함수\n",
    "    def disp(self):\n",
    "        print('이름:{}, 급여:{}, 보너스:{}, 연봉:{}'.format(self.name,self.salary,self.bonus,self.money))"
   ]
  },
  {
   "cell_type": "code",
   "execution_count": null,
   "metadata": {},
   "outputs": [],
   "source": [
    "e4=Emp('김철수',500,700)\n",
    "e4.calc() #계산함수 호출\n",
    "e4.disp()"
   ]
  },
  {
   "cell_type": "code",
   "execution_count": null,
   "metadata": {},
   "outputs": [],
   "source": [
    "class Point:\n",
    "    name=''\n",
    "    kor=0\n",
    "    eng=0\n",
    "    mat=0\n",
    "    tot=0\n",
    "    avg=0\n",
    "    grade=''"
   ]
  },
  {
   "cell_type": "code",
   "execution_count": null,
   "metadata": {},
   "outputs": [],
   "source": [
    "p1=Point() #인스턴스 생성\n",
    "p1.name='김철수'\n",
    "p1.kor=80\n",
    "p1.eng=90\n",
    "p1.mat=95\n",
    "p1.tot=p1.kor+p1.eng+p1.mat\n",
    "p1.avg=p1.tot/3\n",
    "if 90<=p1.avg<= 100:\n",
    "    p1.grade='A'\n",
    "elif 80<=p1.avg< 90:\n",
    "    p1.grade='B'\n",
    "elif 70<=p1.avg<80:\n",
    "    p1.grade='C'\n",
    "elif 60<=p1.avg<70:\n",
    "    p1.grade='D'\n",
    "else:\n",
    "    p1.grade='F'\n",
    "print('이름\\t국어\\t영어\\t수학\\t총점\\t평균\\t등급')\n",
    "print('{}\\t{}\\t{}\\t{}\\t{}\\t{:.1f}\\t{}'.format(p1.name,p1.kor,p1.eng,p1.mat,p1.tot,p1.avg,p1.grade))"
   ]
  },
  {
   "cell_type": "code",
   "execution_count": null,
   "metadata": {},
   "outputs": [],
   "source": [
    "class Point:\n",
    "    name=''\n",
    "    kor=0\n",
    "    eng=0\n",
    "    mat=0\n",
    "    tot=0\n",
    "    avg=0\n",
    "    grade=''\n",
    "    #초기화 함수\n",
    "    def __init__(self,name,kor,eng,mat):\n",
    "        self.name=name\n",
    "        self.kor=kor\n",
    "        self.eng=eng\n",
    "        self.mat=mat        "
   ]
  },
  {
   "cell_type": "code",
   "execution_count": null,
   "metadata": {},
   "outputs": [],
   "source": [
    "p2=Point('김철수',88,99,100)\n",
    "p2.tot=p2.kor+p2.eng+p2.mat\n",
    "p2.avg=p2.tot/3\n",
    "if 90<=p2.avg<= 100:\n",
    "    p2.grade='A'\n",
    "elif 80<=p2.avg< 90:\n",
    "    p2.grade='B'\n",
    "elif 70<=p2.avg<80:\n",
    "    p1.grade='C'\n",
    "elif 60<=p2.avg<70:\n",
    "    p2.grade='D'\n",
    "else:\n",
    "    p2.grade='F'\n",
    "print('이름\\t국어\\t영어\\t수학\\t총점\\t평균\\t등급')\n",
    "print('{}\\t{}\\t{}\\t{}\\t{}\\t{:.1f}\\t{}'.format(p2.name,p2.kor,p2.eng,p2.mat,p2.tot,p2.avg,p2.grade))"
   ]
  },
  {
   "cell_type": "code",
   "execution_count": null,
   "metadata": {},
   "outputs": [],
   "source": [
    "class Point:\n",
    "    def __init__(self,name,kor,eng,mat):\n",
    "        self.name=name\n",
    "        self.kor=kor\n",
    "        self.eng=eng\n",
    "        self.mat=mat\n",
    "    def calc(self):\n",
    "        self.tot=self.kor+self.eng+self.mat\n",
    "        self.avg=self.tot/3\n",
    "        if 90<= self.avg<=100:\n",
    "            self.grade='A'\n",
    "        elif 80<=self.avg<90:\n",
    "            self.grade='B'\n",
    "        elif 70<=self.avg<80:\n",
    "            self.grade='C'\n",
    "        elif 60<=self.avg<70:\n",
    "            self.grade='D'\n",
    "        else:\n",
    "            self.grade='F'"
   ]
  },
  {
   "cell_type": "code",
   "execution_count": null,
   "metadata": {},
   "outputs": [],
   "source": [
    "p3=Point('김철수',88,99,100)\n",
    "p3.calc()\n",
    "print('이름\\t국어\\t영어\\t수학\\t총점\\t평균\\t등급')\n",
    "print('{}\\t{}\\t{}\\t{}\\t{}\\t{:.1f}\\t{}'.format(p3.name,p3.kor,p3.eng,p3.mat,p3.tot,p3.avg,p3.grade))"
   ]
  },
  {
   "cell_type": "code",
   "execution_count": null,
   "metadata": {},
   "outputs": [],
   "source": [
    "class Point:\n",
    "   \n",
    "    def __init__(self,name,kor,eng,mat):\n",
    "        self.name=name\n",
    "        self.kor=kor\n",
    "        self.eng=eng\n",
    "        self.mat=mat\n",
    "    \n",
    "    def calc(self):\n",
    "        self.tot=self.kor+self.eng+self.mat\n",
    "        self.avg=self.tot/3\n",
    "        if 90<= self.avg<=100:\n",
    "            self.grade='A'\n",
    "        elif 80<=self.avg<90:\n",
    "            self.grade='B'\n",
    "        elif 70<=self.avg<80:\n",
    "            self.grade='C'\n",
    "        elif 60<=self.avg<70:\n",
    "            self.grade='D'\n",
    "        else:\n",
    "            self.grade='F'\n",
    "    \n",
    "    def disp(self):\n",
    "        print('이름\\t국어\\t영어\\t수학\\t총점\\t평균\\t등급')\n",
    "        print('{}\\t{}\\t{}\\t{}\\t{}\\t{:.1f}\\t{}'.format(self.name,self.kor,self.eng,self.mat,self.tot,self.avg,self.grade))"
   ]
  },
  {
   "cell_type": "code",
   "execution_count": null,
   "metadata": {},
   "outputs": [],
   "source": [
    "p4=Point('김철수',88,99,100)\n",
    "p4.calc()\n",
    "p4.disp()"
   ]
  },
  {
   "cell_type": "code",
   "execution_count": null,
   "metadata": {},
   "outputs": [],
   "source": [
    "# 입력값 :  이름, 나이, 신장, 체중\n",
    "# 계산값 : 체질량지수 (kg/m^2)\n",
    "#  출력값 : 체질량지수에 따른 판정\n",
    "#     18.5 미만 저체중,\n",
    "#     18.5~22.9 정상\n",
    "#     23.0~24.9 과체중\n",
    "#     25.0 이상 비만\n",
    "    \n",
    "#     80.5\n",
    "#     ===========\n",
    "#     1.709의 제곱\n",
    "\n",
    "def bmi(info):\n",
    "    m=info['height']/100\n",
    "    b=info['weight']/(m*m) #체질량지수 (bmi 지수)\n",
    "    if b<18.5:\n",
    "        result='저체중'\n",
    "    elif 18.5<=b<22.9:\n",
    "        result='정상'\n",
    "    elif 23.0<=b<24.9:\n",
    "        result='과체중'\n",
    "    else:\n",
    "        result='비만'\n",
    "    return result\n",
    "  \n",
    "person={'name':'kim','age':20,'height':170.9,'weight':65.5}\n",
    "r=bmi(person)\n",
    "print('{}님은 {}입니다.'.format(person['name'],r))\n"
   ]
  },
  {
   "cell_type": "code",
   "execution_count": null,
   "metadata": {},
   "outputs": [],
   "source": [
    "class Bmi():\n",
    "    name=''\n",
    "    age=0\n",
    "    height=0\n",
    "    weight=0\n",
    "    bmi=0\n",
    "    grade=''"
   ]
  },
  {
   "cell_type": "code",
   "execution_count": null,
   "metadata": {},
   "outputs": [],
   "source": [
    "b1=Bmi()\n",
    "b1.name='박지성'\n",
    "b1.age=31\n",
    "b1.height=165.5\n",
    "b1.weight=70\n",
    "\n",
    "m = b1.height/100\n",
    "b1.bmi = b1.weight/(m*m)\n",
    "\n",
    "if b1.bmi<18.5:\n",
    "    b1.grade='저체중'\n",
    "elif 18.5<=b1.bmi<22.9:\n",
    "    b1.grade='정상'\n",
    "elif 23.0<=b1.bmi<24.9:\n",
    "    b1.grade='과체중'\n",
    "else:\n",
    "    b1.grade='비만'\n",
    "print('{}님은 {}입니다.'.format(b1.name,b1.grade))    "
   ]
  },
  {
   "cell_type": "code",
   "execution_count": null,
   "metadata": {},
   "outputs": [],
   "source": [
    "class Bmi():\n",
    "    name=''\n",
    "    age=0\n",
    "    height=0\n",
    "    weight=0\n",
    "    bmi=0\n",
    "    grade=''\n",
    "    \n",
    "    def __init__(self,name,age,height,weight):\n",
    "        self.name= name\n",
    "        self.age= age\n",
    "        self.height= height\n",
    "        self.weight= weight"
   ]
  },
  {
   "cell_type": "code",
   "execution_count": null,
   "metadata": {},
   "outputs": [],
   "source": [
    "b2 = Bmi('박지성',31,165.5,70)\n",
    "\n",
    "m = b2.height/100\n",
    "b2.bmi = b2.weight/(m*m)\n",
    "\n",
    "if b2.bmi<18.5:\n",
    "    b2.grade='저체중'\n",
    "elif 18.5<=b2.bmi<22.9:\n",
    "    b2.grade='정상'\n",
    "elif 23.0<=b2.bmi<24.9:\n",
    "    b2.grade='과체중'\n",
    "else:\n",
    "    b2.grade='비만'\n",
    "print('{}님은 {}입니다.'.format(b2.name,b2.grade))    "
   ]
  },
  {
   "cell_type": "code",
   "execution_count": null,
   "metadata": {},
   "outputs": [],
   "source": [
    "class Bmi():\n",
    "    def __init__(self,name,age,height,weight):\n",
    "        self.name = name\n",
    "        self.age = age\n",
    "        self.height = height\n",
    "        self.weight = weight\n",
    "        \n",
    "    def calc(self):\n",
    "        m = self.height / 100\n",
    "        self.bmi = self.weight / (m*m) \n",
    "        if self.bmi<18.5:\n",
    "            self.grade='저체중'\n",
    "        elif 18.5<= self.bmi <22.9:\n",
    "            self.grade='정상'\n",
    "        elif 23.0<= self.bmi <24.9:\n",
    "            self.grade='과체중'\n",
    "        else:\n",
    "            self.grade='비만'\n",
    "        \n",
    "    def disp(self):\n",
    "        print('{}님은 {}입니다'.format(self.name,self.grade))"
   ]
  },
  {
   "cell_type": "code",
   "execution_count": null,
   "metadata": {},
   "outputs": [],
   "source": [
    "b3=Bmi('박지성',20,177.3,70) #인스턴스 생성\n",
    "b3.calc()\n",
    "b3.disp()"
   ]
  },
  {
   "cell_type": "code",
   "execution_count": null,
   "metadata": {},
   "outputs": [],
   "source": [
    "class Book():\n",
    "    name=''\n",
    "    price=0\n",
    "    amount=0\n",
    "    money=0"
   ]
  },
  {
   "cell_type": "code",
   "execution_count": null,
   "metadata": {},
   "outputs": [],
   "source": [
    "b=Book()\n",
    "b.name='Java'\n",
    "b.price=50000\n",
    "b.amount=1000\n",
    "b.money=b.price*b.amount\n",
    "if 1<= b.amount <=1000:\n",
    "    b.fee=b.money*0.01\n",
    "elif 1001<= b.amount <= 3000:\n",
    "    b.fee=b.money*0.03\n",
    "elif 3001<= b.amount:\n",
    "    b.fee=b.money*0.05\n",
    "print('도서명\\t단가\\t수량\\t금액\\t\\t면세')\n",
    "print('{}\\t{}\\t{}\\t{}\\t{}'.format(b.name,b.price,b.amount,b.money,b.fee))"
   ]
  },
  {
   "cell_type": "code",
   "execution_count": 14,
   "metadata": {},
   "outputs": [],
   "source": [
    "class Book():\n",
    "    name=''\n",
    "    price=0\n",
    "    amount=0\n",
    "    money=0\n",
    "    \n",
    "    def __init__(self,name,price,amount):\n",
    "        self.name=name\n",
    "        self.price=price\n",
    "        self.amount=amount"
   ]
  },
  {
   "cell_type": "code",
   "execution_count": 15,
   "metadata": {},
   "outputs": [
    {
     "name": "stdout",
     "output_type": "stream",
     "text": [
      "도서명\t단가\t수량\t금액\t\t면세\n",
      "Java\t50000\t1000\t50000000\t500000.0\n"
     ]
    }
   ],
   "source": [
    "b = Book('Java',50000,1000)\n",
    "b.money=b.price*b.amount\n",
    "\n",
    "if 1<= b.amount <=1000:\n",
    "    b.fee=b.money*0.01\n",
    "elif 1001<= b.amount <= 3000:\n",
    "    b.fee=b.money*0.03\n",
    "elif 3001<= b.amount:\n",
    "    b.fee=b.money*0.05\n",
    "print('도서명\\t단가\\t수량\\t금액\\t\\t면세')\n",
    "print('{}\\t{}\\t{}\\t{}\\t{}'.format(b.name,b.price,b.amount,b.money,b.fee))"
   ]
  },
  {
   "cell_type": "code",
   "execution_count": 16,
   "metadata": {},
   "outputs": [],
   "source": [
    "class Book():\n",
    "    name=''\n",
    "    price=0\n",
    "    amount=0\n",
    "    money=0\n",
    "    \n",
    "    def __init__(self,name,price,amount):\n",
    "        self.name=name\n",
    "        self.price=price\n",
    "        self.amount=amount\n",
    "    \n",
    "    def calc(self):\n",
    "        self.money=self.price*self.amount\n",
    "        if 1<= self.amount <=1000:\n",
    "            self.fee=self.money*0.01\n",
    "        elif 1001<= self.amount <= 3000:\n",
    "            self.fee=self.money*0.03\n",
    "        elif 3001<= b.amount:\n",
    "            self.fee=self.money*0.05"
   ]
  },
  {
   "cell_type": "code",
   "execution_count": 17,
   "metadata": {},
   "outputs": [
    {
     "name": "stdout",
     "output_type": "stream",
     "text": [
      "도서명\t단가\t수량\t금액\t\t면세\n",
      "Java\t50000\t1000\t50000000\t500000.0\n"
     ]
    }
   ],
   "source": [
    "b=Book('Java',50000,1000)\n",
    "b.calc()\n",
    "print('도서명\\t단가\\t수량\\t금액\\t\\t면세')\n",
    "print('{}\\t{}\\t{}\\t{}\\t{}'.format(b.name,b.price,b.amount,b.money,b.fee))\n"
   ]
  },
  {
   "cell_type": "code",
   "execution_count": 20,
   "metadata": {},
   "outputs": [],
   "source": [
    "class Book():\n",
    "    def __init__(self,name,price,amount):\n",
    "        self.name=name\n",
    "        self.price=price\n",
    "        self.amount=amount\n",
    "    \n",
    "    def calc(self):\n",
    "        self.money=self.price*self.amount\n",
    "        if 1<= self.amount <=1000:\n",
    "            self.fee=self.money*0.01\n",
    "        elif 1001<= self.amount <= 3000:\n",
    "            self.fee=self.money*0.03\n",
    "        elif 3001<= self.amount:\n",
    "            self.fee=self.money*0.05\n",
    "    \n",
    "    def disp(self):\n",
    "        #print('도서명\\t단가\\t수량\\t금액\\t\\t인세')\n",
    "        print('{}\\t{}\\t{}\\t{}\\t{}'.format(self.name,self.price,self.amount,self.money,self.fee))"
   ]
  },
  {
   "cell_type": "code",
   "execution_count": 21,
   "metadata": {},
   "outputs": [
    {
     "name": "stdout",
     "output_type": "stream",
     "text": [
      "java\t50000\t1000\t50000000\t500000.0\n"
     ]
    }
   ],
   "source": [
    "b=Book('java',50000,1000)\n",
    "b.calc()\n",
    "b.disp()"
   ]
  },
  {
   "cell_type": "code",
   "execution_count": 22,
   "metadata": {},
   "outputs": [],
   "source": [
    "a=[1,2,3,4,5]"
   ]
  },
  {
   "cell_type": "code",
   "execution_count": 23,
   "metadata": {},
   "outputs": [
    {
     "name": "stdout",
     "output_type": "stream",
     "text": [
      "Java\t50000\t1000\t50000000\t500000.0\n",
      "C\t40000\t2500\t100000000\t3000000.0\n",
      "Python\t35000\t3500\t122500000\t6125000.0\n"
     ]
    }
   ],
   "source": [
    "b1=Book('Java',50000,1000)\n",
    "b1.calc()\n",
    "b1.disp()\n",
    "\n",
    "b2=Book('C',40000,2500)\n",
    "b2.calc()\n",
    "b2.disp()\n",
    "\n",
    "b3=Book('Python',35000,3500)\n",
    "b3.calc()\n",
    "b3.disp()"
   ]
  },
  {
   "cell_type": "code",
   "execution_count": 25,
   "metadata": {},
   "outputs": [
    {
     "name": "stdout",
     "output_type": "stream",
     "text": [
      "도서명\t단가\t수량\t금액\t\t인세\n",
      "Java\t50000\t1000\t50000000\t500000.0\n",
      "C\t40000\t2500\t100000000\t3000000.0\n",
      "Python\t35000\t3500\t122500000\t6125000.0\n"
     ]
    }
   ],
   "source": [
    "# Book 인스턴스들을 원소로 갖는 리스트\n",
    "a=[Book('Java',50000,1000),\n",
    "  Book('C',40000,2500),\n",
    "  Book('Python',35000,3500)]\n",
    "\n",
    "# a[0].calc()\n",
    "# a[0].disp()\n",
    "\n",
    "# a[1].calc()\n",
    "# a[1].disp()\n",
    "\n",
    "# a[2].calc()\n",
    "# a[2].disp()\n",
    "\n",
    "print('도서명\\t단가\\t수량\\t금액\\t\\t인세')\n",
    "for i in a:\n",
    "    i.calc()\n",
    "    i.disp()"
   ]
  },
  {
   "cell_type": "code",
   "execution_count": null,
   "metadata": {},
   "outputs": [],
   "source": []
  },
  {
   "cell_type": "code",
   "execution_count": null,
   "metadata": {},
   "outputs": [],
   "source": []
  },
  {
   "cell_type": "code",
   "execution_count": null,
   "metadata": {},
   "outputs": [],
   "source": []
  }
 ],
 "metadata": {
  "kernelspec": {
   "display_name": "Python 3",
   "language": "python",
   "name": "python3"
  },
  "language_info": {
   "codemirror_mode": {
    "name": "ipython",
    "version": 3
   },
   "file_extension": ".py",
   "mimetype": "text/x-python",
   "name": "python",
   "nbconvert_exporter": "python",
   "pygments_lexer": "ipython3",
   "version": "3.7.4"
  }
 },
 "nbformat": 4,
 "nbformat_minor": 2
}
