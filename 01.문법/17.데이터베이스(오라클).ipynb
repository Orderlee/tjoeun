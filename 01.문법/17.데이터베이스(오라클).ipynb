{
 "cells": [
  {
   "cell_type": "code",
   "execution_count": 1,
   "metadata": {},
   "outputs": [],
   "source": [
    "import cx_Oracle\n",
    "# pip install cx_Oracle"
   ]
  },
  {
   "cell_type": "code",
   "execution_count": 24,
   "metadata": {},
   "outputs": [
    {
     "name": "stdout",
     "output_type": "stream",
     "text": [
      "삭제되었습니다.\n"
     ]
    }
   ],
   "source": [
    "conn = cx_Oracle.connect(\"hr/hr@localhost:1521/xe\")\n",
    "cursor=conn.cursor()\n",
    "#모든 레코드가 삭제됨\n",
    "sql='delete from product'\n",
    "cursor.execute(sql)\n",
    "print('삭제되었습니다.')\n",
    "conn.commit() #  insert,update,delete 명령어는 commit()을 해야 적용\n",
    "conn.close() # 데이터베이스 접속 종료"
   ]
  },
  {
   "cell_type": "code",
   "execution_count": 11,
   "metadata": {},
   "outputs": [
    {
     "name": "stdout",
     "output_type": "stream",
     "text": [
      "추가되었습니다.\n"
     ]
    }
   ],
   "source": [
    "conn = cx_Oracle.connect(\"hr/hr@localhost:1521/xe\") #오라클 서버에 접속\n",
    "cursor=conn.cursor() #커서 만들기\n",
    "items=[\n",
    "(1,'레몬',1500,\n",
    "'레몬에 포함된 구연산은 피로회복에 좋습니다','lemon.jpg'),\n",
    "(2,'오렌지',2000,\n",
    "'비타민 C가 풍부합니다.','orange.jpg'),\n",
    "(3,'키위',3000,\n",
    "'다이어트나 미용에 좋습니다.','kiwi.jpg'),\n",
    "(4,'포도',5000,\n",
    "'폴리페놀을 다량 함유하고 있습니다.','grape.jpg'),\n",
    "(5,'딸기',8000,\n",
    "'비타민 C나 플라보노이드를 다량 함유하고 있습니다.','strawberry.jpg'),\n",
    "(6,'귤',7000,\n",
    "'시네피린을 함유하고 있어 감기 예방에 좋다고 합니다.','tangerine.jpg')\n",
    "]\n",
    "for row in items: #리스트 내용을 순화하면서 반복처리\n",
    "    sql='insert into product values (:1,:2,:3,:4,:5)'\n",
    "    cursor.execute(sql,row)\n",
    "print('추가되었습니다.')\n",
    "conn.commit() #insert 명령 확정\n",
    "conn.close()"
   ]
  },
  {
   "cell_type": "code",
   "execution_count": 12,
   "metadata": {},
   "outputs": [
    {
     "name": "stdout",
     "output_type": "stream",
     "text": [
      "(6,)\n",
      "상품갯수: 6\n"
     ]
    }
   ],
   "source": [
    "import cx_Oracle\n",
    "#오라클 서버에 접속: 아이디/비번@호스트:포트/서비스아이디\n",
    "conn = cx_Oracle.connect(\"hr/hr@localhost:1521/xe\")\n",
    "#커서(레코드를 탐색하는 객체)생성\n",
    "cursor = conn.cursor()\n",
    "sql=\"select count(*) from product\"\n",
    "cursor.execute(sql) #sql 명령어 실행\n",
    "count=cursor.fetchone() #레코드 1개를 가져옴\n",
    "print(count)\n",
    "print('상품갯수:',count[0])"
   ]
  },
  {
   "cell_type": "code",
   "execution_count": 13,
   "metadata": {},
   "outputs": [
    {
     "name": "stdout",
     "output_type": "stream",
     "text": [
      "(1, '레몬', 1500, <cx_Oracle.LOB object at 0x000001DD9D4A5A80>, 'lemon.jpg')\n",
      "레몬에 포함된 구연산은 피로회복에 좋습니다\n",
      "(2, '오렌지', 2000, <cx_Oracle.LOB object at 0x000001DD9D4A55A0>, 'orange.jpg')\n",
      "비타민 C가 풍부합니다.\n",
      "(3, '키위', 3000, <cx_Oracle.LOB object at 0x000001DD9D4A5FC0>, 'kiwi.jpg')\n",
      "다이어트나 미용에 좋습니다.\n",
      "(4, '포도', 5000, <cx_Oracle.LOB object at 0x000001DD9D4A5D20>, 'grape.jpg')\n",
      "폴리페놀을 다량 함유하고 있습니다.\n",
      "(5, '딸기', 8000, <cx_Oracle.LOB object at 0x000001DD9D4A5AE0>, 'strawberry.jpg')\n",
      "비타민 C나 플라보노이드를 다량 함유하고 있습니다.\n",
      "(6, '귤', 7000, <cx_Oracle.LOB object at 0x000001DD9D4A5120>, 'tangerine.jpg')\n",
      "시네피린을 함유하고 있어 감기 예방에 좋다고 합니다.\n"
     ]
    }
   ],
   "source": [
    "sql ='select * from product'\n",
    "cursor.execute(sql) #sql 명령어 실행\n",
    "#  fetchall() 모든 레코드를 가져옴 (생략됨)\n",
    "for row in cursor:\n",
    "    print(row) #clob 필드 내용은 출력되지 않음\n",
    "    description=row[3].read() #clob 필드의 내용을 보려면 read()\n",
    "    print(description)\n",
    "conn.close() #데이터베이스 접속 종료 처리"
   ]
  },
  {
   "cell_type": "code",
   "execution_count": 18,
   "metadata": {},
   "outputs": [
    {
     "name": "stdout",
     "output_type": "stream",
     "text": [
      "삭제되었습니다.\n"
     ]
    }
   ],
   "source": [
    "import cx_Oracle\n",
    "\n",
    "conn = cx_Oracle.connect(\"hr/hr@localhost:1521/xe\") \n",
    "cursor=conn.cursor() \n",
    "#일부 레코드 삭제\n",
    "sql='delete from product where product_id=6'\n",
    "cursor.execute(sql)\n",
    "conn.commit() #delete 명령어 확정\n",
    "print('삭제되었습니다.')\n",
    "cursor.close() #커서닫기\n",
    "conn.close() #DB 접속 종료"
   ]
  },
  {
   "cell_type": "code",
   "execution_count": 25,
   "metadata": {},
   "outputs": [
    {
     "name": "stdout",
     "output_type": "stream",
     "text": [
      "추가되었습니다.\n"
     ]
    }
   ],
   "source": [
    "import cx_Oracle\n",
    "\n",
    "conn = cx_Oracle.connect(\"hr/hr@localhost:1521/xe\") \n",
    "cursor=conn.cursor() \n",
    "\n",
    "sql='insert into product values (:1,:2,:3,:4,:5)'\n",
    "\n",
    "items=[\n",
    "(1,'레몬',1500,\n",
    "'레몬에 포함된 구연산은 피로회복에 좋습니다','lemon.jpg'),\n",
    "(2,'오렌지',2000,\n",
    "'비타민 C가 풍부합니다.','orange.jpg'),\n",
    "(3,'키위',3000,\n",
    "'다이어트나 미용에 좋습니다.','kiwi.jpg'),\n",
    "(4,'포도',5000,\n",
    "'폴리페놀을 다량 함유하고 있습니다.','grape.jpg'),\n",
    "(5,'딸기',8000,\n",
    "'비타민 C나 플라보노이드를 다량 함유하고 있습니다.','strawberry.jpg'),\n",
    "(6,'귤',7000,\n",
    "'시네피린을 함유하고 있어 감기 예방에 좋다고 합니다.','tangerine.jpg')\n",
    "]\n",
    "\n",
    "cursor.bindarraysize=len(items) #일괄처리할 레코드 갯수 지정\n",
    "cursor.executemany(sql,items) #레코드 입력 일괄 처리\n",
    "conn.commit() #insert 명령어 확정\n",
    "print('추가되었습니다.')\n",
    "cursor.close()\n",
    "conn.close()"
   ]
  },
  {
   "cell_type": "code",
   "execution_count": null,
   "metadata": {},
   "outputs": [],
   "source": []
  },
  {
   "cell_type": "code",
   "execution_count": null,
   "metadata": {},
   "outputs": [],
   "source": []
  },
  {
   "cell_type": "code",
   "execution_count": null,
   "metadata": {},
   "outputs": [],
   "source": []
  },
  {
   "cell_type": "code",
   "execution_count": null,
   "metadata": {},
   "outputs": [],
   "source": []
  },
  {
   "cell_type": "code",
   "execution_count": null,
   "metadata": {},
   "outputs": [],
   "source": []
  },
  {
   "cell_type": "code",
   "execution_count": null,
   "metadata": {},
   "outputs": [],
   "source": []
  },
  {
   "cell_type": "code",
   "execution_count": null,
   "metadata": {},
   "outputs": [],
   "source": []
  },
  {
   "cell_type": "code",
   "execution_count": null,
   "metadata": {},
   "outputs": [],
   "source": []
  },
  {
   "cell_type": "code",
   "execution_count": null,
   "metadata": {},
   "outputs": [],
   "source": []
  },
  {
   "cell_type": "code",
   "execution_count": null,
   "metadata": {},
   "outputs": [],
   "source": []
  },
  {
   "cell_type": "code",
   "execution_count": null,
   "metadata": {},
   "outputs": [],
   "source": []
  },
  {
   "cell_type": "code",
   "execution_count": null,
   "metadata": {},
   "outputs": [],
   "source": []
  },
  {
   "cell_type": "code",
   "execution_count": null,
   "metadata": {},
   "outputs": [],
   "source": []
  },
  {
   "cell_type": "code",
   "execution_count": null,
   "metadata": {},
   "outputs": [],
   "source": []
  },
  {
   "cell_type": "code",
   "execution_count": null,
   "metadata": {},
   "outputs": [],
   "source": []
  },
  {
   "cell_type": "code",
   "execution_count": null,
   "metadata": {},
   "outputs": [],
   "source": []
  },
  {
   "cell_type": "code",
   "execution_count": null,
   "metadata": {},
   "outputs": [],
   "source": []
  }
 ],
 "metadata": {
  "kernelspec": {
   "display_name": "Python 3",
   "language": "python",
   "name": "python3"
  },
  "language_info": {
   "codemirror_mode": {
    "name": "ipython",
    "version": 3
   },
   "file_extension": ".py",
   "mimetype": "text/x-python",
   "name": "python",
   "nbconvert_exporter": "python",
   "pygments_lexer": "ipython3",
   "version": "3.7.4"
  }
 },
 "nbformat": 4,
 "nbformat_minor": 2
}
