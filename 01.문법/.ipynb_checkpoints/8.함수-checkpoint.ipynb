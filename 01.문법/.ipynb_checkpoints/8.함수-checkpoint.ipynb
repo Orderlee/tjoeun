{
 "cells": [
  {
   "cell_type": "code",
   "execution_count": 39,
   "metadata": {},
   "outputs": [
    {
     "name": "stdout",
     "output_type": "stream",
     "text": [
      "3\n",
      "5\n"
     ]
    }
   ],
   "source": [
    "# abs: 절대값을 출력하는 함수\n",
    "print(abs(-3))\n",
    "print(abs(5))"
   ]
  },
  {
   "cell_type": "code",
   "execution_count": 40,
   "metadata": {},
   "outputs": [
    {
     "name": "stdout",
     "output_type": "stream",
     "text": [
      "5\n"
     ]
    }
   ],
   "source": [
    "#사용자정의 함수\n",
    "def myabs(n): #함수 선언부\n",
    "    if n>0:\n",
    "        return n #그대로 n을 돌려줌\n",
    "    else:\n",
    "        return -n #n값에 -1을 곱한 값을 돌려줌\n",
    "    \n",
    "print(myabs(-5))"
   ]
  },
  {
   "cell_type": "code",
   "execution_count": 2,
   "metadata": {},
   "outputs": [
    {
     "name": "stdout",
     "output_type": "stream",
     "text": [
      "True\n",
      "False\n",
      "True\n",
      "True\n",
      "False\n"
     ]
    }
   ],
   "source": [
    "# all() 함수, 모든 요소가 True이면 True\n",
    "# True/False, 0이외의 숫자/0, ''이외의 문자/''\n",
    "print(all([True,True,True]))\n",
    "print(all([True,True,False]))\n",
    "print(all([1,2,3]))\n",
    "print(all((1,2,3,)))\n",
    "print(all([1,2,3,0]))\n"
   ]
  },
  {
   "cell_type": "code",
   "execution_count": 42,
   "metadata": {},
   "outputs": [
    {
     "name": "stdout",
     "output_type": "stream",
     "text": [
      "True\n",
      "False\n"
     ]
    }
   ],
   "source": [
    "# any() 함수, 하나 이상의 True이면 True\n",
    "print(any([0,1,2]))\n",
    "print(any([0,'']))"
   ]
  },
  {
   "cell_type": "code",
   "execution_count": 43,
   "metadata": {},
   "outputs": [
    {
     "name": "stdout",
     "output_type": "stream",
     "text": [
      "['__add__', '__class__', '__contains__', '__delattr__', '__delitem__', '__dir__', '__doc__', '__eq__', '__format__', '__ge__', '__getattribute__', '__getitem__', '__gt__', '__hash__', '__iadd__', '__imul__', '__init__', '__init_subclass__', '__iter__', '__le__', '__len__', '__lt__', '__mul__', '__ne__', '__new__', '__reduce__', '__reduce_ex__', '__repr__', '__reversed__', '__rmul__', '__setattr__', '__setitem__', '__sizeof__', '__str__', '__subclasshook__', 'append', 'clear', 'copy', 'count', 'extend', 'index', 'insert', 'pop', 'remove', 'reverse', 'sort']\n"
     ]
    }
   ],
   "source": [
    "#dir() 함수 : 변수 또는 함수 목록\n",
    "print(dir([1,2,3,]))"
   ]
  },
  {
   "cell_type": "code",
   "execution_count": 44,
   "metadata": {},
   "outputs": [
    {
     "name": "stdout",
     "output_type": "stream",
     "text": [
      "['__abs__', '__add__', '__and__', '__bool__', '__ceil__', '__class__', '__delattr__', '__dir__', '__divmod__', '__doc__', '__eq__', '__float__', '__floor__', '__floordiv__', '__format__', '__ge__', '__getattribute__', '__getnewargs__', '__gt__', '__hash__', '__index__', '__init__', '__init_subclass__', '__int__', '__invert__', '__le__', '__lshift__', '__lt__', '__mod__', '__mul__', '__ne__', '__neg__', '__new__', '__or__', '__pos__', '__pow__', '__radd__', '__rand__', '__rdivmod__', '__reduce__', '__reduce_ex__', '__repr__', '__rfloordiv__', '__rlshift__', '__rmod__', '__rmul__', '__ror__', '__round__', '__rpow__', '__rrshift__', '__rshift__', '__rsub__', '__rtruediv__', '__rxor__', '__setattr__', '__sizeof__', '__str__', '__sub__', '__subclasshook__', '__truediv__', '__trunc__', '__xor__', 'bit_length', 'conjugate', 'denominator', 'from_bytes', 'imag', 'numerator', 'real', 'to_bytes']\n"
     ]
    }
   ],
   "source": [
    "a=10\n",
    "print(dir(a))"
   ]
  },
  {
   "cell_type": "code",
   "execution_count": 45,
   "metadata": {},
   "outputs": [
    {
     "name": "stdout",
     "output_type": "stream",
     "text": [
      "['__doc__', '__loader__', '__name__', '__package__', '__spec__', 'acos', 'acosh', 'asin', 'asinh', 'atan', 'atan2', 'atanh', 'ceil', 'copysign', 'cos', 'cosh', 'degrees', 'e', 'erf', 'erfc', 'exp', 'expm1', 'fabs', 'factorial', 'floor', 'fmod', 'frexp', 'fsum', 'gamma', 'gcd', 'hypot', 'inf', 'isclose', 'isfinite', 'isinf', 'isnan', 'ldexp', 'lgamma', 'log', 'log10', 'log1p', 'log2', 'modf', 'nan', 'pi', 'pow', 'radians', 'remainder', 'sin', 'sinh', 'sqrt', 'tan', 'tanh', 'tau', 'trunc']\n",
      "10.0\n"
     ]
    }
   ],
   "source": [
    "import math\n",
    "print(dir(math))\n",
    "a=100\n",
    "print(math.sqrt(a)) #제곱근"
   ]
  },
  {
   "cell_type": "code",
   "execution_count": 46,
   "metadata": {},
   "outputs": [
    {
     "name": "stdout",
     "output_type": "stream",
     "text": [
      "(2, 1)\n",
      "2.3333333333333335\n",
      "2\n",
      "1\n"
     ]
    }
   ],
   "source": [
    "# divmod(a,b) a를 b로 나눈 몫과 나머지\n",
    "print(divmod(7,3))\n",
    "print(7 / 3) #실수몫\n",
    "print(7 // 3) #정수몫\n",
    "print(7 % 3) #나머지"
   ]
  },
  {
   "cell_type": "code",
   "execution_count": 47,
   "metadata": {},
   "outputs": [
    {
     "name": "stdout",
     "output_type": "stream",
     "text": [
      "(2, 1)\n"
     ]
    }
   ],
   "source": [
    "#def 함수이름(입력매개변수)\n",
    "def mydivmod(a,b): #함수를 정의(선언)\n",
    "    r1=a//b\n",
    "    r2=a%b\n",
    "    #리턴값은 1개만 가능함 (여기서는 튜플로 묶여서 전달함)\n",
    "    return (r1,r2) #함수를 호출한 곳으로 되돌려주는 값(리턴값, 반환값)\n",
    "\n",
    "x=mydivmod(7,3) #미리 만들어진 함수를 실행(함수 ㅗ)\n",
    "print(x)"
   ]
  },
  {
   "cell_type": "code",
   "execution_count": 48,
   "metadata": {},
   "outputs": [
    {
     "name": "stdout",
     "output_type": "stream",
     "text": [
      "[(0, 10), (1, 20), (2, 30), (3, 40), (4, 50)]\n",
      "0 10\n",
      "1 20\n",
      "2 30\n",
      "3 40\n",
      "4 50\n"
     ]
    }
   ],
   "source": [
    "# 집합데이터의 인덱스와 값을 되돌려주는 함수\n",
    "# 인덱스,값 in enumerate(집합)\n",
    "\n",
    "#숫자인덱스와 값이 튜플 형태로 묶임\n",
    "print(list(enumerate([10,20,30,40,50])))\n",
    "\n",
    "for i,num in enumerate([10,20,30,40,50]):\n",
    "    print(i,num)"
   ]
  },
  {
   "cell_type": "code",
   "execution_count": 49,
   "metadata": {},
   "outputs": [
    {
     "name": "stdout",
     "output_type": "stream",
     "text": [
      "10\n",
      "20\n",
      "30\n",
      "40\n",
      "50\n"
     ]
    }
   ],
   "source": [
    "nums=[10,20,30,40,50]\n",
    "for n in nums:\n",
    "    print(n)"
   ]
  },
  {
   "cell_type": "code",
   "execution_count": 50,
   "metadata": {
    "scrolled": true
   },
   "outputs": [
    {
     "name": "stdout",
     "output_type": "stream",
     "text": [
      "5\n",
      "0 10\n",
      "1 20\n",
      "2 30\n",
      "3 40\n",
      "4 50\n"
     ]
    }
   ],
   "source": [
    "nums = [10,20,30,40,50]\n",
    "\n",
    "print(len(nums)) #원소 갯수\n",
    "\n",
    "# len(nums) nums 리스트의 원소 갯수\n",
    "# Range(5) 0~4\n",
    "for i in range(len(nums)):\n",
    "    print(i,nums[i])"
   ]
  },
  {
   "cell_type": "code",
   "execution_count": 51,
   "metadata": {},
   "outputs": [
    {
     "name": "stdout",
     "output_type": "stream",
     "text": [
      "1+2\n",
      "divmod(4,3)\n",
      "3\n",
      "(1, 1)\n"
     ]
    }
   ],
   "source": [
    "print('1+2')\n",
    "print('divmod(4,3)')\n",
    "print(1+2)\n",
    "print(divmod(4,3))"
   ]
  },
  {
   "cell_type": "code",
   "execution_count": 52,
   "metadata": {},
   "outputs": [
    {
     "name": "stdout",
     "output_type": "stream",
     "text": [
      "3\n",
      "(1, 1)\n"
     ]
    }
   ],
   "source": [
    "#문자열의 따옴표를 제거하고 내부의 명령을 실행하는 함수\n",
    "print(eval('1+2'))\n",
    "print(eval('divmod(4,3)'))"
   ]
  },
  {
   "cell_type": "code",
   "execution_count": 53,
   "metadata": {},
   "outputs": [
    {
     "name": "stdout",
     "output_type": "stream",
     "text": [
      "140709145846224\n",
      "140709145846224\n",
      "140709145846224\n",
      "1772391373416\n",
      "1772389628296\n",
      "1772385285296\n"
     ]
    }
   ],
   "source": [
    "# id(값) 변수 또는 상수의 주소값\n",
    "a = 3\n",
    "print(id(3)) # 상수 3이 저장된 위치값(주소값)\n",
    "print(id(a)) #변수 a가 가리키는 위치값\n",
    "b = a # a가 가리키는 주소값이 b에 복사됨\n",
    "print(id(b)) # a와 b는 주소를 가리킴\n",
    "print(id(mydivmod)) #함수의 시작주소값\n",
    "x = [1,2,3,4,5]\n",
    "print(id(x)) # 리스트의 시작주소값\n",
    "print(id('hello')) #문자열의 시작주소값"
   ]
  },
  {
   "cell_type": "code",
   "execution_count": 54,
   "metadata": {},
   "outputs": [
    {
     "name": "stdout",
     "output_type": "stream",
     "text": [
      "3\n",
      "3\n",
      "15\n",
      "255\n"
     ]
    }
   ],
   "source": [
    "a = int('3') #문자열을 정수로\n",
    "print(a)\n",
    "b=int(3.4) #실수값을 정수값으로\n",
    "print(b)\n",
    "#c=int('3.5d') #문자열 내부에 숫자 형태가 아닌 값이 있으면 에러\n",
    "#print(c)\n",
    "d=int('1111',2)#2진수 1111을 10진수로\n",
    "print(d)\n",
    "e=int('ff',16) #FF를 16진수로\n",
    "print(e)"
   ]
  },
  {
   "cell_type": "code",
   "execution_count": 55,
   "metadata": {},
   "outputs": [
    {
     "name": "stdout",
     "output_type": "stream",
     "text": [
      "사과,배,수박,바나나,포도\n",
      "사과/배/수박/바나나/포도\n",
      "사과\n",
      "배\n",
      "수박\n",
      "바나나\n",
      "포도\n"
     ]
    }
   ],
   "source": [
    "fruits = ['사과','배','수박','바나나','포도']\n",
    "# '삽입할문자열'.join(리스트)\n",
    "print(','.join(fruits)) #각 원소에 컴머 삽입\n",
    "print('/'.join(fruits)) #각 원소에 / 삽입\n",
    "print('\\n'.join(fruits)) "
   ]
  },
  {
   "cell_type": "code",
   "execution_count": 56,
   "metadata": {},
   "outputs": [
    {
     "name": "stdout",
     "output_type": "stream",
     "text": [
      "사과/배/수박/바나나/포도\n"
     ]
    }
   ],
   "source": [
    "def myjoin(a,b):\n",
    "    result=''\n",
    "    for i in range(len(a)):\n",
    "        result=result+(a[i]+b)\n",
    "    return result[:len(result)-1]\n",
    "\n",
    "fruits = ['사과','배','수박','바나나','포도']\n",
    "print(myjoin(fruits,'/'))"
   ]
  },
  {
   "cell_type": "code",
   "execution_count": 57,
   "metadata": {},
   "outputs": [
    {
     "name": "stdout",
     "output_type": "stream",
     "text": [
      "[10, 20, 30, 40, 50]\n",
      "[10, 20, 30]\n",
      "[30, 40, 50]\n"
     ]
    }
   ],
   "source": [
    "a=[10,20,30,40,50]\n",
    "print(a[:]) #모두 다\n",
    "print(a[:3]) #0,1,2\n",
    "print(a[2:]) #2,3,4"
   ]
  },
  {
   "cell_type": "code",
   "execution_count": 58,
   "metadata": {},
   "outputs": [
    {
     "name": "stdout",
     "output_type": "stream",
     "text": [
      "사과/배/수박/바나나/포도\n"
     ]
    }
   ],
   "source": [
    "def myjoin(a,b):\n",
    "    result=''\n",
    "    for i in range(len(a)):\n",
    "        if i < len(a)-1:\n",
    "            result=result+(a[i]+b)\n",
    "        else:\n",
    "            result=result+a[i]\n",
    "    return result\n",
    "    \n",
    "fruits = ['사과','배','수박','바나나','포도']\n",
    "print(myjoin(fruits,'/'))"
   ]
  },
  {
   "cell_type": "code",
   "execution_count": 59,
   "metadata": {},
   "outputs": [
    {
     "name": "stdout",
     "output_type": "stream",
     "text": [
      "['사과', '배', '수박', '바나나', '포도']\n"
     ]
    }
   ],
   "source": [
    "a = '사과/배/수박/바나나/포도'\n",
    "b = a.split('/') #하나의 문자열을 구분자를 기준으로 나누어 리스트 생성\n",
    "print(b)"
   ]
  },
  {
   "cell_type": "code",
   "execution_count": 60,
   "metadata": {},
   "outputs": [
    {
     "name": "stdout",
     "output_type": "stream",
     "text": [
      "[('김철수', 37), ('박찬수', 26), ('김미영', 34), ('홍미순', 22), ('서영수', 15)]\n"
     ]
    }
   ],
   "source": [
    "a = ['김철수','박찬수','김미영','홍미순','서영수']\n",
    "b = [37,26,34,22,15]\n",
    "c = list(zip(a,b))\n",
    "print(c)"
   ]
  },
  {
   "cell_type": "code",
   "execution_count": 61,
   "metadata": {},
   "outputs": [
    {
     "name": "stdout",
     "output_type": "stream",
     "text": [
      "[2, 4, 6, 8]\n",
      "[2, 4, 6, 8]\n"
     ]
    }
   ],
   "source": [
    "def calc(x): # x 입력 매개 변수\n",
    "    return x*2 # 결과값을 되돌려줌\n",
    "x=[]\n",
    "for i in range(1,5):\n",
    "    x.append(calc(i))\n",
    "print(x)\n",
    "\n",
    "# map(함수, 리스트) 함수에 리스트의 각 원소를 입력한 값들\n",
    "# 반복문을 사용하지 않고 함수를 여러번 호출할 수 있음\n",
    "a = list(map(calc, [1,2,3,4]))\n",
    "print(a)"
   ]
  },
  {
   "cell_type": "code",
   "execution_count": 62,
   "metadata": {},
   "outputs": [
    {
     "name": "stdout",
     "output_type": "stream",
     "text": [
      "[2, 3, 4, 5, 6]\n",
      "[2, 3, 4, 5, 6]\n"
     ]
    }
   ],
   "source": [
    "def plus(x):\n",
    "    return x+1\n",
    "\n",
    "x=[] #결과를 저장할 비어있는 리스트\n",
    "for i in [1,2,3,4,5]:\n",
    "    x.append(plus(i)) #라스트 끝에 원소가 추가됨\n",
    "\n",
    "print(x)\n",
    "\n",
    "# plus 함수에 1,2,3,4,5를 입력 (5회 실행됨)\n",
    "# 반복문을 사용하지 않고 간단히 함수를 여러번 테스트하고 싶을 때 사용\n",
    "print(list(map(plus, [1,2,3,4,5])))"
   ]
  },
  {
   "cell_type": "code",
   "execution_count": 63,
   "metadata": {},
   "outputs": [
    {
     "data": {
      "text/plain": [
       "[1, 2, 3, 4, 5]"
      ]
     },
     "execution_count": 63,
     "metadata": {},
     "output_type": "execute_result"
    }
   ],
   "source": [
    "list(map(int,['1','2','3','4','5']))"
   ]
  },
  {
   "cell_type": "code",
   "execution_count": 64,
   "metadata": {},
   "outputs": [
    {
     "name": "stdout",
     "output_type": "stream",
     "text": [
      "이름\t월급\t보너스\t연봉\t세액\t실수령액\n",
      "==================================================\n",
      "김철수\t300\t500\t4100\t205.0\t3895.0\n"
     ]
    }
   ],
   "source": [
    "def get_salary(salary,bouns):\n",
    "    return salary*12 + bonus\n",
    "\n",
    "def get_tax(total):\n",
    "    return total*0.05\n",
    "\n",
    "def get_money(total,tax):\n",
    "    return total-tax\n",
    "\n",
    "name='김철수'\n",
    "salary=300 #월급\n",
    "bonus = 500 #보너스\n",
    "\n",
    "total = get_salary(salary,bonus)\n",
    "tax  = get_tax(total)\n",
    "money = get_money(total,tax)\n",
    "\n",
    "print(\"이름\\t월급\\t보너스\\t연봉\\t세액\\t실수령액\")\n",
    "print('='*50)\n",
    "print('{}\\t{}\\t{}\\t{}\\t{}\\t{}'.format(name,salary,bonus,total,tax,money))"
   ]
  },
  {
   "cell_type": "code",
   "execution_count": 65,
   "metadata": {},
   "outputs": [
    {
     "name": "stdout",
     "output_type": "stream",
     "text": [
      "이름\t국어\t영어\t수학\t총합\t평균\t등급\n",
      "==================================================\n",
      "김철수\t70\t80\t90\t240\t80.0\tB\n"
     ]
    }
   ],
   "source": [
    "def mysum(k,e,m):\n",
    "    return k+e+m\n",
    "\n",
    "def average(total):\n",
    "    return total/3\n",
    "\n",
    "def get_grade(grade):\n",
    "    if 90<=average<=100:\n",
    "        grade='A'\n",
    "    elif 80<=average<90:\n",
    "        grade='B'\n",
    "    elif 70<=average<80:\n",
    "        grade='C'\n",
    "    elif 60<=average<70:\n",
    "        grade='D'\n",
    "    else:\n",
    "        grade='F'\n",
    "        \n",
    "    return grade\n",
    "    \n",
    "name = '김철수'\n",
    "k = 70\n",
    "e = 80\n",
    "m = 90\n",
    "\n",
    "total = mysum (k,e,m)\n",
    "average = average(total)\n",
    "grade = get_grade(grade)\n",
    "\n",
    "print(\"이름\\t국어\\t영어\\t수학\\t총합\\t평균\\t등급\")\n",
    "print('='*50)\n",
    "print('{}\\t{}\\t{}\\t{}\\t{}\\t{}\\t{}'\n",
    "      .format(name,k,e,m,total,average,grade))"
   ]
  },
  {
   "cell_type": "code",
   "execution_count": null,
   "metadata": {},
   "outputs": [],
   "source": []
  },
  {
   "cell_type": "code",
   "execution_count": null,
   "metadata": {},
   "outputs": [],
   "source": []
  },
  {
   "cell_type": "code",
   "execution_count": null,
   "metadata": {},
   "outputs": [],
   "source": []
  },
  {
   "cell_type": "code",
   "execution_count": null,
   "metadata": {},
   "outputs": [],
   "source": []
  },
  {
   "cell_type": "code",
   "execution_count": null,
   "metadata": {},
   "outputs": [],
   "source": []
  },
  {
   "cell_type": "code",
   "execution_count": null,
   "metadata": {},
   "outputs": [],
   "source": []
  },
  {
   "cell_type": "code",
   "execution_count": null,
   "metadata": {},
   "outputs": [],
   "source": []
  }
 ],
 "metadata": {
  "kernelspec": {
   "display_name": "Python 3",
   "language": "python",
   "name": "python3"
  },
  "language_info": {
   "codemirror_mode": {
    "name": "ipython",
    "version": 3
   },
   "file_extension": ".py",
   "mimetype": "text/x-python",
   "name": "python",
   "nbconvert_exporter": "python",
   "pygments_lexer": "ipython3",
   "version": "3.7.4"
  }
 },
 "nbformat": 4,
 "nbformat_minor": 2
}
