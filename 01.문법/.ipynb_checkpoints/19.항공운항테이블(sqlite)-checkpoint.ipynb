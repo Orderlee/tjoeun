{
 "cells": [
  {
   "cell_type": "code",
   "execution_count": null,
   "metadata": {},
   "outputs": [],
   "source": [
    "import sqlite3 #sqlite 모듈 로딩\n",
    "#sqlite 데이터베이스에 접속\n",
    "conn=sqlite3.connect('d:/data/db/ontime.db')\n",
    "#레코드셋 탐색을 위한 커서 객체 생성\n",
    "cursor=conn.cursor()\n",
    "#sql 명령어 실행, limit 레코드수 제한\n",
    "cursor.execute('select * from ontime limit 5')\n",
    "#커서가 가리키는 모든 내용을 리스트로 저장\n",
    "rows = cursor.fetchall()\n",
    "for row in rows:\n",
    "    print(row)\n",
    "\n",
    "#커서 닫기\n",
    "cursor.close()\n",
    "#db 접속 종료\n",
    "conn.close()"
   ]
  },
  {
   "cell_type": "code",
   "execution_count": 2,
   "metadata": {},
   "outputs": [
    {
     "name": "stdout",
     "output_type": "stream",
     "text": [
      "('UA', 13.784372045426737)\n",
      "('CO', 13.023581444438861)\n",
      "('AA', 12.899916513056201)\n",
      "('B6', 12.447679903718171)\n",
      "('EV', 11.711389111645728)\n",
      "('YV', 11.572015847487545)\n",
      "('OH', 11.16054087152783)\n",
      "('XE', 11.093709113241301)\n",
      "('MQ', 10.29978622071234)\n",
      "('WN', 10.276262862449386)\n",
      "('FL', 9.183920300820837)\n",
      "('DL', 7.887967410954327)\n",
      "('OO', 7.2952999070807305)\n",
      "('AS', 6.752723325965242)\n",
      "('9E', 6.5856228642909445)\n",
      "('NW', 6.409786223004613)\n",
      "('F9', 5.901056786616821)\n",
      "('US', 5.635456327203702)\n",
      "('HA', 0.4510561899524472)\n",
      "('AQ', -1.3902564102564103)\n"
     ]
    }
   ],
   "source": [
    "import sqlite3\n",
    "#db 접속\n",
    "conn = sqlite3.connect('d:/data/db/ontime.db')\n",
    "#커서 생성\n",
    "cursor = conn.cursor()\n",
    "#sql 명령어 실행, 항공사별 출발지연시간 평균값(내림차순)\n",
    "cursor.execute('''select uniquecarrier, avg(depdelay)\n",
    "from ontime\n",
    "group by uniquecarrier\n",
    "order by avg(depdelay) desc''')\n",
    "#커서가 가리키는 모든 내용을 리스트로 저장\n",
    "rows = cursor.fetchall()\n",
    "for row in rows:\n",
    "    print(row)\n",
    "#커서 닫기\n",
    "cursor.close()\n",
    "#db 접속 해제\n",
    "conn.close()"
   ]
  },
  {
   "cell_type": "code",
   "execution_count": 38,
   "metadata": {},
   "outputs": [
    {
     "name": "stdout",
     "output_type": "stream",
     "text": [
      "('AA', 12.202853434950445)\n",
      "('OH', 11.404110178283158)\n",
      "('YV', 11.322566979170753)\n",
      "('UA', 11.001550560048052)\n",
      "('B6', 10.859381613638567)\n",
      "('CO', 10.809820575966226)\n",
      "('XE', 10.320298523403915)\n",
      "('EV', 10.00033146217589)\n",
      "('MQ', 9.496970610952266)\n",
      "('FL', 8.988157472371256)\n",
      "('DL', 7.716164635751918)\n",
      "('NW', 7.293465879672776)\n",
      "('OO', 6.43893863978179)\n",
      "('F9', 6.084135669681085)\n",
      "('WN', 5.115703380225903)\n",
      "('AS', 4.721360405553864)\n",
      "('9E', 3.987490846961191)\n",
      "('US', 2.800998260539828)\n",
      "('HA', 1.2518519716624075)\n",
      "('AQ', -2.8708974358974357)\n"
     ]
    }
   ],
   "source": [
    "conn = sqlite3.connect('d:/data/db/ontime.db')\n",
    "cursor=conn.cursor()\n",
    "cursor.execute('''\n",
    "select uniquecarrier, avg(arrdelay)\n",
    "from ontime\n",
    "group by uniquecarrier\n",
    "order by avg(arrdelay) desc''')\n",
    "rows = cursor.fetchall()\n",
    "for row in rows:\n",
    "    print(row)\n",
    "\n",
    "cursor.close()\n",
    "conn.close()"
   ]
  },
  {
   "cell_type": "code",
   "execution_count": 39,
   "metadata": {},
   "outputs": [
    {
     "name": "stdout",
     "output_type": "stream",
     "text": [
      "[1, 2, 3, 4, 5, 6, 7, 8, 9, 10, 11, 12, 13, 14, 15, 16, 17, 18, 19, 20]\n",
      "[12.202853434950445, 11.404110178283158, 11.322566979170753, 11.001550560048052, 10.859381613638567, 10.809820575966226, 10.320298523403915, 10.00033146217589, 9.496970610952266, 8.988157472371256, 7.716164635751918, 7.293465879672776, 6.43893863978179, 6.084135669681085, 5.115703380225903, 4.721360405553864, 3.987490846961191, 2.800998260539828, 1.2518519716624075, -2.8708974358974357]\n"
     ]
    }
   ],
   "source": [
    "x = list(range(1,21))\n",
    "y= []\n",
    "for row in rows:\n",
    "    y.append(row[1])\n",
    "print(x)\n",
    "print(y)"
   ]
  },
  {
   "cell_type": "code",
   "execution_count": 43,
   "metadata": {},
   "outputs": [
    {
     "name": "stdout",
     "output_type": "stream",
     "text": [
      "1     12.202853\n",
      "2     11.404110\n",
      "3     11.322567\n",
      "4     11.001551\n",
      "5     10.859382\n",
      "6     10.809821\n",
      "7     10.320299\n",
      "8     10.000331\n",
      "9      9.496971\n",
      "10     8.988157\n",
      "11     7.716165\n",
      "12     7.293466\n",
      "13     6.438939\n",
      "14     6.084136\n",
      "15     5.115703\n",
      "16     4.721360\n",
      "17     3.987491\n",
      "18     2.800998\n",
      "19     1.251852\n",
      "20    -2.870897\n",
      "dtype: float64\n"
     ]
    },
    {
     "data": {
      "text/plain": [
       "<matplotlib.axes._subplots.AxesSubplot at 0x136aebdc088>"
      ]
     },
     "execution_count": 43,
     "metadata": {},
     "output_type": "execute_result"
    },
    {
     "data": {
      "image/png": "[encoded data removed]",
      "text/plain": [
       "<Figure size 432x288 with 1 Axes>"
      ]
     },
     "metadata": {
      "needs_background": "light"
     },
     "output_type": "display_data"
    }
   ],
   "source": [
    "import pandas as pd\n",
    "%matplotlib inline\n",
    "s1=pd.Series(y, index=x)\n",
    "print(s1)\n",
    "s1.plot(kind='bar')"
   ]
  },
  {
   "cell_type": "code",
   "execution_count": 17,
   "metadata": {},
   "outputs": [
    {
     "name": "stdout",
     "output_type": "stream",
     "text": [
      "(1, 265256)\n",
      "(2, 273361)\n",
      "(3, 288152)\n",
      "(4, 231219)\n",
      "(5, 226843)\n",
      "(6, 281945)\n",
      "(7, 264230)\n",
      "(8, 241184)\n",
      "(9, 156974)\n",
      "(10, 165590)\n",
      "(11, 161485)\n",
      "(12, 280981)\n"
     ]
    }
   ],
   "source": [
    "#출발지연시간 월별 집계\n",
    "import sqlite3\n",
    "\n",
    "conn=sqlite3.connect('d:/data/db/ontime.db')\n",
    "cursor=conn.cursor()\n",
    "cursor.execute('''\n",
    "select month,count(*) from ontime\n",
    "where depdelay>0\n",
    "group by month''')\n",
    "rows=cursor.fetchall()\n",
    "for row in rows:\n",
    "    print(row)\n",
    "\n",
    "cursor.close()\n",
    "conn.close()"
   ]
  },
  {
   "cell_type": "code",
   "execution_count": 18,
   "metadata": {},
   "outputs": [
    {
     "name": "stdout",
     "output_type": "stream",
     "text": [
      "[1, 2, 3, 4, 5, 6, 7, 8, 9, 10, 11, 12]\n",
      "[265256, 273361, 288152, 231219, 226843, 281945, 264230, 241184, 156974, 165590, 161485, 280981]\n"
     ]
    }
   ],
   "source": [
    "x = list(range(1,13)) #1~12\n",
    "y = [] #지연횟수를 저장할 결과 리스트\n",
    "for row in rows:\n",
    "    y.append(row[1])\n",
    "    \n",
    "print(x)\n",
    "print(y)"
   ]
  },
  {
   "cell_type": "code",
   "execution_count": 20,
   "metadata": {},
   "outputs": [
    {
     "name": "stdout",
     "output_type": "stream",
     "text": [
      "1     265256\n",
      "2     273361\n",
      "3     288152\n",
      "4     231219\n",
      "5     226843\n",
      "6     281945\n",
      "7     264230\n",
      "8     241184\n",
      "9     156974\n",
      "10    165590\n",
      "11    161485\n",
      "12    280981\n",
      "dtype: int64\n"
     ]
    },
    {
     "data": {
      "text/plain": [
       "<matplotlib.axes._subplots.AxesSubplot at 0x136ae5f55c8>"
      ]
     },
     "execution_count": 20,
     "metadata": {},
     "output_type": "execute_result"
    },
    {
     "data": {
      "image/png": "[encoded data removed]",
      "text/plain": [
       "<Figure size 432x288 with 1 Axes>"
      ]
     },
     "metadata": {
      "needs_background": "light"
     },
     "output_type": "display_data"
    }
   ],
   "source": [
    "import pandas as pd #판다스 패키지 로딩\n",
    "#그래프 출력 옵션 활성화\n",
    "#매직명령어 - %로 시작하는 명령어\n",
    "%matplotlib inline \n",
    "# 시리즈(그래프 출력을 위한 1차원 데이터), index x축의 라벨\n",
    "s1=pd.Series(y, index=x)\n",
    "print(s1)\n",
    "s1.plot(kind='bar') #막대 그래프로 출력\n",
    "#s1.plot"
   ]
  },
  {
   "cell_type": "code",
   "execution_count": 21,
   "metadata": {},
   "outputs": [
    {
     "name": "stdout",
     "output_type": "stream",
     "text": [
      "(1, 8.030254747872275)\n",
      "(2, 7.29232332960935)\n",
      "(3, 6.379804071503802)\n",
      "(4, 8.246549198623555)\n",
      "(5, 10.675214410055972)\n",
      "(6, 5.682499626837823)\n",
      "(7, 9.294087238339747)\n"
     ]
    }
   ],
   "source": [
    "#요일별 평균지연시간\n",
    "import sqlite3\n",
    "#db 접속\n",
    "conn = sqlite3.connect('d:/data/db/ontime.db')\n",
    "#레코드셋 탐색을 위한 커서 생성\n",
    "cursor=conn.cursor()\n",
    "#sql 명령어를 실행시킴\n",
    "cursor.execute('''select dayofweek, avg(arrdelay)\n",
    "from ontime\n",
    "group by dayofweek\n",
    "''')\n",
    "#커서가 가리키는 모든 레코드셋을 리스트로 저장\n",
    "rows=cursor.fetchall()\n",
    "for row in rows:\n",
    "    print(row)\n",
    "#커서닫기, db접속 해제\n",
    "cursor.close()\n",
    "conn.close()"
   ]
  },
  {
   "cell_type": "code",
   "execution_count": 23,
   "metadata": {},
   "outputs": [
    {
     "name": "stdout",
     "output_type": "stream",
     "text": [
      "['월', '화', '수', '목', '금', '토', '일']\n",
      "[8.030254747872275, 7.29232332960935, 6.379804071503802, 8.246549198623555, 10.675214410055972, 5.682499626837823, 9.294087238339747]\n"
     ]
    }
   ],
   "source": [
    "x =['월','화','수','목','금','토','일']\n",
    "y=[]\n",
    "\n",
    "for row in rows:\n",
    "    y.append(row[1])\n",
    "    \n",
    "print(x)\n",
    "print(y)\n"
   ]
  },
  {
   "cell_type": "code",
   "execution_count": 35,
   "metadata": {
    "scrolled": true
   },
   "outputs": [
    {
     "data": {
      "text/plain": [
       "(array([0, 1, 2, 3, 4, 5, 6]), <a list of 7 Text xticklabel objects>)"
      ]
     },
     "execution_count": 35,
     "metadata": {},
     "output_type": "execute_result"
    },
    {
     "data": {
      "image/png": "[encoded data removed]",
      "text/plain": [
       "<Figure size 432x288 with 1 Axes>"
      ]
     },
     "metadata": {
      "needs_background": "light"
     },
     "output_type": "display_data"
    }
   ],
   "source": [
    "import pandas as pd\n",
    "import matplotlib.pyplot as plt\n",
    "%matplotlib inline\n",
    "\n",
    "#한글 처리\n",
    "from matplotlib import rc,font_manager\n",
    "#변경할 폰트\n",
    "font_name=font_manager.FontProperties(\n",
    "fname='c:/windows/fonts/malgun.ttf').get_name()\n",
    "#폰트 설정\n",
    "rc('font',family=font_name)\n",
    "\n",
    "\n",
    "#그래프 출력을 위핸 시리즈 타입으로 변환\n",
    "s1=pd.Series(y,index=x)\n",
    "s1.plot(kind='bar') #막대 그래프\n",
    "plt.xticks(rotation=0)"
   ]
  },
  {
   "cell_type": "code",
   "execution_count": null,
   "metadata": {},
   "outputs": [],
   "source": []
  },
  {
   "cell_type": "code",
   "execution_count": null,
   "metadata": {},
   "outputs": [],
   "source": []
  },
  {
   "cell_type": "code",
   "execution_count": null,
   "metadata": {},
   "outputs": [],
   "source": []
  },
  {
   "cell_type": "code",
   "execution_count": null,
   "metadata": {},
   "outputs": [],
   "source": []
  },
  {
   "cell_type": "code",
   "execution_count": null,
   "metadata": {},
   "outputs": [],
   "source": []
  },
  {
   "cell_type": "code",
   "execution_count": null,
   "metadata": {},
   "outputs": [],
   "source": []
  },
  {
   "cell_type": "code",
   "execution_count": null,
   "metadata": {},
   "outputs": [],
   "source": []
  },
  {
   "cell_type": "code",
   "execution_count": null,
   "metadata": {},
   "outputs": [],
   "source": []
  },
  {
   "cell_type": "code",
   "execution_count": null,
   "metadata": {},
   "outputs": [],
   "source": []
  }
 ],
 "metadata": {
  "kernelspec": {
   "display_name": "Python 3",
   "language": "python",
   "name": "python3"
  },
  "language_info": {
   "codemirror_mode": {
    "name": "ipython",
    "version": 3
   },
   "file_extension": ".py",
   "mimetype": "text/x-python",
   "name": "python",
   "nbconvert_exporter": "python",
   "pygments_lexer": "ipython3",
   "version": "3.7.4"
  }
 },
 "nbformat": 4,
 "nbformat_minor": 2
}
