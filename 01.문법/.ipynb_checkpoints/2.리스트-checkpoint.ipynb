{
 "cells": [
  {
   "cell_type": "code",
   "execution_count": null,
   "metadata": {},
   "outputs": [],
   "source": [
    "a=10\n",
    "b=20\n",
    "c=30\n",
    "d=40\n",
    "e=50\n",
    "\n",
    "result1 = a+b+c+d+e\n",
    "result2 = result1/5\n",
    "\n",
    "print(\"합계:\",result1)\n",
    "print(\"평균:\",result2)"
   ]
  },
  {
   "cell_type": "code",
   "execution_count": null,
   "metadata": {},
   "outputs": [],
   "source": [
    "a=[10,20,30,40,50] #리스트\n",
    "result1=0 #합계를 저장할 변수\n",
    "result2=0 #평균을 저장할 변수\n",
    "for i in a: #리스트의 모든 원소를 처음부터 끝까지 1개씩 읽음\n",
    "    #result1 = result1+i #합계 누적\n",
    "    result1+=i\n",
    "result2=result1/len(a) #합계 / 원소의 갯수\n",
    "\n",
    "print(\"합계:\",result1)\n",
    "print(\"평균:\",result2)"
   ]
  },
  {
   "cell_type": "code",
   "execution_count": null,
   "metadata": {},
   "outputs": [],
   "source": [
    "#리스트 : 원소가 여러개인 저장수\n",
    "a=[1,3,5,7,9,]\n",
    "print(a)\n",
    "print(a[0]) #리스트 a의 첫번째 원소\n",
    "print(a[-1]) #리스트 a의 마지막 원소\n",
    "# 리스트에는 다양한 자료형을 섞어서 사용할 수 있고\n",
    "# 서브리스트도 만들 수 있음\n",
    "a=[1,2,3,['a','b','c']]\n",
    "print(a)\n",
    "#뒤에서 첫번째 값(서브리스트)의 첫번째 값\n",
    "print(a[-1][0])"
   ]
  },
  {
   "cell_type": "code",
   "execution_count": null,
   "metadata": {},
   "outputs": [],
   "source": [
    "a=10\n",
    "print(a) #a변수의 값\n",
    "print(id(a)) #a변수의 주소값\n",
    "\n",
    "b=20\n",
    "print(b) #b변수의 값\n",
    "print(id(b)) #b변수의 주소값"
   ]
  },
  {
   "cell_type": "code",
   "execution_count": null,
   "metadata": {},
   "outputs": [],
   "source": [
    "a=[1,2,3,4,5]\n",
    "print(id(a))\n",
    "print(id(a[0]))\n",
    "print(id(a[1]))\n",
    "print(id(a[2]))\n",
    "print(id(a[3]))\n",
    "print(id(a[4]))"
   ]
  },
  {
   "cell_type": "code",
   "execution_count": null,
   "metadata": {},
   "outputs": [],
   "source": [
    "#리스트의 복사 (얕은복사)\n",
    "a = [1,2,3,4,5]\n",
    "#리스트 a의 주소값만 b에 복사\n",
    "b = a\n",
    "#a,b가 같은 주소를 가리킴 (같은 리스트를 가리키고 있음)\n",
    "print(\"a의 주소:\",id(a))\n",
    "print(\"b의 주소:\",id(b))\n",
    "b[0]=10\n",
    "print('a:',a)\n",
    "print('b:',b)"
   ]
  },
  {
   "cell_type": "code",
   "execution_count": null,
   "metadata": {},
   "outputs": [],
   "source": [
    "a=[1,2,3,4,5]\n",
    "print(a[0:3]) #0,1,2\n",
    "print(a[:3]) #생략되면 0부터\n",
    "print(a[2:]) #끝이 생략되면 끝까지 (2부터 끝까지)\n",
    "print(a[:]) #앞뒤가 생략되면 전체\n"
   ]
  },
  {
   "cell_type": "code",
   "execution_count": null,
   "metadata": {},
   "outputs": [],
   "source": [
    "#리스트의 복사(깊은복사)\n",
    "a=[1,2,3,4,5]\n",
    "b=a[:]\n",
    "#a,b가 다른 주소를 가리킴(리스트가 2개)\n",
    "print(\"a의 주소:\",id(a))\n",
    "print(\"b의 주소:\",id(b))\n",
    "b[0] = 10\n",
    "print('a:',a)\n",
    "print('b:',b)"
   ]
  },
  {
   "cell_type": "code",
   "execution_count": null,
   "metadata": {},
   "outputs": [],
   "source": [
    "a = [1,2,3]\n",
    "b = [4,5,6]\n",
    "c=a+b #리스트 연결(숫자 덧셈이 아님)\n",
    "print(c)\n",
    "print(a*3) #a리스타 3개가 연결됨(숫자 곱셈이 아님)"
   ]
  },
  {
   "cell_type": "code",
   "execution_count": null,
   "metadata": {},
   "outputs": [],
   "source": [
    "a = [1,2,3]\n",
    "#리스트 a에 4를 덧붙이려면?\n",
    "a=a+[4] #리스트+리스트 => 리스트 연결\n",
    "print(a)"
   ]
  },
  {
   "cell_type": "code",
   "execution_count": null,
   "metadata": {},
   "outputs": [],
   "source": [
    "a=[1,2,3]\n",
    "a.append(4) #리스트 a에 원소 4를 덧붙임\n",
    "print(a)"
   ]
  },
  {
   "cell_type": "code",
   "execution_count": null,
   "metadata": {},
   "outputs": [],
   "source": [
    "a=[1,2,3]\n",
    "b=[4,5,6]\n",
    "c=[] #결과값을 저장할 비어있는 리스트\n",
    "for i in range(3): #0~2\n",
    "    c.append(a[i]+b[i]) #리스트 C에 원소 추가\n",
    "    \n",
    "print(c)"
   ]
  },
  {
   "cell_type": "code",
   "execution_count": null,
   "metadata": {},
   "outputs": [],
   "source": [
    "a=[1,2,3]\n",
    "b=[4,5,6]\n",
    "c=[]\n",
    "for i in range(3):\n",
    "    c.append(a[i]*b[i])\n",
    "    \n",
    "print(c)"
   ]
  },
  {
   "cell_type": "code",
   "execution_count": null,
   "metadata": {},
   "outputs": [],
   "source": [
    "a=[1,2,3]\n",
    "# str(숫자) 숫자를 문자열로\n",
    "# int(문자열) 문자열을 숫자로\n",
    "print(str(a[2])+\"Hi\") #숫자와 문자열은 덧셈을 할 수 없음"
   ]
  },
  {
   "cell_type": "code",
   "execution_count": 42,
   "metadata": {},
   "outputs": [
    {
     "name": "stdout",
     "output_type": "stream",
     "text": [
      "[2]\n",
      "[10, 'a', 'b', 'c', 3]\n"
     ]
    }
   ],
   "source": [
    "#리스트의 수정\n",
    "a=[1,2,3]\n",
    "a[0]=10\n",
    "print(a[1:2]) #리스트의 슬라이싱(일부 잘라냄)\n",
    "a[1:2]=['a','b','c']  #인덱스 1번자리에 실제 값들이 입력됨\n",
    "print(a)"
   ]
  },
  {
   "cell_type": "code",
   "execution_count": null,
   "metadata": {},
   "outputs": [],
   "source": [
    "a=[1,2,3]\n",
    "# 좌변의 변수는 참조변수(주소값을 저장)\n",
    "a[1]=['a','b','c']\n",
    "#서브리스트로 입력됨\n",
    "print(a)"
   ]
  },
  {
   "cell_type": "code",
   "execution_count": null,
   "metadata": {},
   "outputs": [],
   "source": [
    "a='A'\n",
    "print(a)\n",
    "print(ord(a))\n",
    "#문자코드\n",
    "print(ord('a'))\n",
    "print(ord('1'))"
   ]
  },
  {
   "cell_type": "code",
   "execution_count": null,
   "metadata": {},
   "outputs": [],
   "source": [
    "ord('A') #A으 코드값"
   ]
  },
  {
   "cell_type": "code",
   "execution_count": null,
   "metadata": {},
   "outputs": [],
   "source": [
    "ord('가')"
   ]
  },
  {
   "cell_type": "code",
   "execution_count": null,
   "metadata": {},
   "outputs": [],
   "source": [
    "for i in range(44032,44132):\n",
    "    print(i,chr(i),end=' ')"
   ]
  },
  {
   "cell_type": "code",
   "execution_count": null,
   "metadata": {},
   "outputs": [],
   "source": [
    "chr(65)"
   ]
  },
  {
   "cell_type": "code",
   "execution_count": null,
   "metadata": {},
   "outputs": [],
   "source": [
    "for i in range(0,256):\n",
    "    print(i,chr(i),end=' ')"
   ]
  },
  {
   "cell_type": "code",
   "execution_count": null,
   "metadata": {},
   "outputs": [],
   "source": [
    "a = '1'\n",
    "b = 0\n",
    "if ord(a)==49:\n",
    "    b=1\n",
    "elif ord(a)==50:\n",
    "    b=2\n",
    "    \n",
    "print(b)"
   ]
  },
  {
   "cell_type": "code",
   "execution_count": null,
   "metadata": {},
   "outputs": [],
   "source": [
    "str(1)"
   ]
  },
  {
   "cell_type": "code",
   "execution_count": null,
   "metadata": {},
   "outputs": [],
   "source": [
    "a=1\n",
    "b=''\n",
    "if a==1:\n",
    "    b='1'\n",
    "print(a)"
   ]
  },
  {
   "cell_type": "code",
   "execution_count": null,
   "metadata": {},
   "outputs": [],
   "source": [
    "# 리스트 삭제\n",
    "a = [1,2,3]\n",
    "a[1:3] = [] # 인덱스 1,2 자리를 빈 값으로 (지워짐)\n",
    "print(a)"
   ]
  },
  {
   "cell_type": "code",
   "execution_count": null,
   "metadata": {},
   "outputs": [],
   "source": [
    "a = [1,2,3]\n",
    "del a[1] # a[1] 기억장소를 지움\n",
    "print(a)"
   ]
  },
  {
   "cell_type": "code",
   "execution_count": null,
   "metadata": {},
   "outputs": [],
   "source": [
    "# 리스트에 요소 추가\n",
    "a = [1,2,3]\n",
    "a.append(4) # 마지막 부분에 자료가 추가됨\n",
    "print(a)\n",
    "a.append([5,6]) # 마지막 위치에 서브리스트가 추가됨\n",
    "print(a)"
   ]
  },
  {
   "cell_type": "code",
   "execution_count": null,
   "metadata": {
    "scrolled": true
   },
   "outputs": [],
   "source": [
    "a=[1,2,3]\n",
    "a.append(4,5,6,7,8,10) #한번에 한개만 입력가능\n",
    "print(a)"
   ]
  },
  {
   "cell_type": "code",
   "execution_count": null,
   "metadata": {},
   "outputs": [],
   "source": [
    "a=range(10) #0~9\n",
    "print(a)\n",
    "#range(n) 0 ~ n-1\n",
    "a=list(range(10))\n",
    "print(a)\n",
    "#range(a,b) a ~ b-1\n",
    "b=list(range(11,21))\n",
    "print(b)\n",
    "#range(a,b,step)\n",
    "b=list(range(10,21,2))\n",
    "print(b)"
   ]
  },
  {
   "cell_type": "code",
   "execution_count": null,
   "metadata": {},
   "outputs": [],
   "source": [
    "a=[1,2,3]\n",
    "a.append(4)\n",
    "a.append(5)\n",
    "a.append(6)\n",
    "a.append(7)\n",
    "a.append(8)\n",
    "a.append(9)\n",
    "a.append(10)\n",
    "print(a)"
   ]
  },
  {
   "cell_type": "code",
   "execution_count": null,
   "metadata": {},
   "outputs": [],
   "source": [
    "a=[1,2,3]\n",
    "for i in range(4,11): #4~10\n",
    "    a.append(i)\n",
    "    \n",
    "print(a)"
   ]
  },
  {
   "cell_type": "code",
   "execution_count": null,
   "metadata": {},
   "outputs": [],
   "source": [
    "a=[]\n",
    "for i in range(1,101,2):\n",
    "    a.append(i)\n",
    "print(a)"
   ]
  },
  {
   "cell_type": "code",
   "execution_count": null,
   "metadata": {},
   "outputs": [],
   "source": [
    "#리스트의 정렬\n",
    "a = [1,4,3,2]\n",
    "a.sort() #오름차순 정렬함수\n",
    "print(a)"
   ]
  },
  {
   "cell_type": "code",
   "execution_count": null,
   "metadata": {},
   "outputs": [],
   "source": [
    "a = [1,4,3,2]\n",
    "print(a)\n",
    "a.reverse() #역순으로 저장\n",
    "print(a)"
   ]
  },
  {
   "cell_type": "code",
   "execution_count": null,
   "metadata": {},
   "outputs": [],
   "source": [
    "a = [1,4,3,2]\n",
    "a.sort() #오름차순으로 정렬\n",
    "a.reverse() #뒤집으면 내림차순 정렬\n",
    "print(a)"
   ]
  },
  {
   "cell_type": "code",
   "execution_count": null,
   "metadata": {},
   "outputs": [],
   "source": [
    "a = ['a','c','b','B','x','A']\n",
    "print(a)\n",
    "a.sort() #문자의 경우 대문자=>소문자순으로 정렬됨(문자코드순)\n",
    "print(a)"
   ]
  },
  {
   "cell_type": "code",
   "execution_count": 2,
   "metadata": {},
   "outputs": [
    {
     "name": "stdout",
     "output_type": "stream",
     "text": [
      "2\n",
      "0\n"
     ]
    },
    {
     "ename": "ValueError",
     "evalue": "0 is not in list",
     "output_type": "error",
     "traceback": [
      "\u001b[1;31m---------------------------------------------------------------------------\u001b[0m",
      "\u001b[1;31mValueError\u001b[0m                                Traceback (most recent call last)",
      "\u001b[1;32m<ipython-input-2-ac2b82ff9ef9>\u001b[0m in \u001b[0;36m<module>\u001b[1;34m\u001b[0m\n\u001b[0;32m      2\u001b[0m \u001b[0mprint\u001b[0m\u001b[1;33m(\u001b[0m\u001b[0ma\u001b[0m\u001b[1;33m.\u001b[0m\u001b[0mindex\u001b[0m\u001b[1;33m(\u001b[0m\u001b[1;36m3\u001b[0m\u001b[1;33m)\u001b[0m\u001b[1;33m)\u001b[0m \u001b[1;31m#원소 3의 인덱스는?\u001b[0m\u001b[1;33m\u001b[0m\u001b[1;33m\u001b[0m\u001b[0m\n\u001b[0;32m      3\u001b[0m \u001b[0mprint\u001b[0m\u001b[1;33m(\u001b[0m\u001b[0ma\u001b[0m\u001b[1;33m.\u001b[0m\u001b[0mindex\u001b[0m\u001b[1;33m(\u001b[0m\u001b[1;36m1\u001b[0m\u001b[1;33m)\u001b[0m\u001b[1;33m)\u001b[0m \u001b[1;31m#원소 1의 인덱스는?\u001b[0m\u001b[1;33m\u001b[0m\u001b[1;33m\u001b[0m\u001b[0m\n\u001b[1;32m----> 4\u001b[1;33m \u001b[0mprint\u001b[0m\u001b[1;33m(\u001b[0m\u001b[0ma\u001b[0m\u001b[1;33m.\u001b[0m\u001b[0mindex\u001b[0m\u001b[1;33m(\u001b[0m\u001b[1;36m0\u001b[0m\u001b[1;33m)\u001b[0m\u001b[1;33m)\u001b[0m \u001b[1;31m#원소 0의 인덱스는? 없으면 에러\u001b[0m\u001b[1;33m\u001b[0m\u001b[1;33m\u001b[0m\u001b[0m\n\u001b[0m",
      "\u001b[1;31mValueError\u001b[0m: 0 is not in list"
     ]
    }
   ],
   "source": [
    "a = [1,2,3]\n",
    "print(a.index(3)) #원소 3의 인덱스는?\n",
    "print(a.index(1)) #원소 1의 인덱스는?\n",
    "print(a.index(0)) #원소 0의 인덱스는? 없으면 에러"
   ]
  },
  {
   "cell_type": "code",
   "execution_count": 8,
   "metadata": {},
   "outputs": [
    {
     "name": "stdout",
     "output_type": "stream",
     "text": [
      "0\n",
      "1\n",
      "찾은 위치: 1\n"
     ]
    }
   ],
   "source": [
    "a = [1,2,4,63,3]\n",
    "b = 2 #찾을 값\n",
    "#위치값을 저장할 변수\n",
    "idx=0\n",
    "flag=False #처음에는 못찾은 것으로 설정\n",
    "# len(a) 리스트 a의 원소 갯수\n",
    "# range(원소갯수) 0 ~ 원소갯수-1\n",
    "for i in range(len(a)):\n",
    "    print(i)\n",
    "    if a[i]==b: #현재 값과 찾는 값이 같으면\n",
    "        flag=True #찾은 것으로 변경\n",
    "        idx=i #현재 인덱스를 저장하고\n",
    "        break #반복문을 종료함\n",
    "if flag:\n",
    "    print(\"찾은 위치:\",idx)\n",
    "else:\n",
    "    print(\"없는 숫자입니다.\")\n"
   ]
  },
  {
   "cell_type": "code",
   "execution_count": 9,
   "metadata": {},
   "outputs": [
    {
     "name": "stdout",
     "output_type": "stream",
     "text": [
      "찾은 위치: [4, 7, 8]\n"
     ]
    }
   ],
   "source": [
    "#인덱스값들을 모두 찾는 방법\n",
    "a = [1,2,4,63,3,6,5,3,3]\n",
    "b = 3 #찾을 값\n",
    "idx=[] #결과값을 저장할 리스트\n",
    "for i in range(len(a)):\n",
    "    if a[i]==b: #현재값과 찾는 값이 같으면\n",
    "        idx.append(i) #리스트에 인덱스값을 추가\n",
    "        \n",
    "print(\"찾은 위치:\",idx)"
   ]
  },
  {
   "cell_type": "code",
   "execution_count": 12,
   "metadata": {},
   "outputs": [
    {
     "name": "stdout",
     "output_type": "stream",
     "text": [
      "[1, 2, 3]\n",
      "[4, 1, 2, 3]\n",
      "[4, 1, 5, 2, 3]\n"
     ]
    }
   ],
   "source": [
    "a = [1,2,3]\n",
    "print(a)\n",
    "a.insert(0,4) #첫번째 자리에 4를 끼워넣기\n",
    "print(a)\n",
    "# 1과 2사이에 5를 끼워넣기\n",
    "a.insert(2,5)\n",
    "print(a)"
   ]
  },
  {
   "cell_type": "code",
   "execution_count": 13,
   "metadata": {},
   "outputs": [
    {
     "name": "stdout",
     "output_type": "stream",
     "text": [
      "[1, 2, 1, 2, 3]\n"
     ]
    }
   ],
   "source": [
    "#리스트의 요소 제거\n",
    "a = [1,2,3,1,2,3]\n",
    "#리스트.remove(값)\n",
    "a.remove(3) #첫번째 값만 제거됨\n",
    "print(a)"
   ]
  },
  {
   "cell_type": "code",
   "execution_count": 28,
   "metadata": {},
   "outputs": [
    {
     "name": "stdout",
     "output_type": "stream",
     "text": [
      "[1, 2, 1, 2, 0, 0]\n"
     ]
    }
   ],
   "source": [
    "#\n",
    "a = [1,2,3,1,2,3]\n",
    "b = 3 #지울값\n",
    "n = len(a)\n",
    "for i in range(n):\n",
    "    if a[i]==b:\n",
    "        a.remove(b)\n",
    "        a.append(0)\n",
    "print(a)"
   ]
  },
  {
   "cell_type": "code",
   "execution_count": 37,
   "metadata": {},
   "outputs": [
    {
     "name": "stdout",
     "output_type": "stream",
     "text": [
      "[1, 2, 1, 5, 4, 4, 23, 33]\n"
     ]
    }
   ],
   "source": [
    "a=[1,2,3,1,3,5,4,4,3,3,23,3,3,3,3,33,]\n",
    "b=3 #지울값\n",
    "n=len(a)\n",
    "result=[] #답을 저장할 리스트\n",
    "for i in range(n):\n",
    "    if a[i]!=b: #not equal 같지 않을때\n",
    "        result.append(a[i])\n",
    "print(result)"
   ]
  },
  {
   "cell_type": "code",
   "execution_count": 36,
   "metadata": {},
   "outputs": [
    {
     "name": "stdout",
     "output_type": "stream",
     "text": [
      "[1, 2, 1]\n"
     ]
    }
   ],
   "source": [
    "#6개 이상 일때 지우지 못함 \n",
    "a=[1,2,3,1,3] \n",
    "b=3\n",
    "for i in a:\n",
    "    if i==b:\n",
    "        a.remove(i)\n",
    "print(a)"
   ]
  },
  {
   "cell_type": "code",
   "execution_count": 38,
   "metadata": {},
   "outputs": [
    {
     "name": "stdout",
     "output_type": "stream",
     "text": [
      "[1, 2, 3, 4]\n",
      "5\n"
     ]
    }
   ],
   "source": [
    "a = [1,2,3,4,5]\n",
    "b=a.pop() #리스트의 마지막 원소를 꺼냄\n",
    "print(a)\n",
    "print(b)"
   ]
  },
  {
   "cell_type": "code",
   "execution_count": 16,
   "metadata": {},
   "outputs": [
    {
     "name": "stdout",
     "output_type": "stream",
     "text": [
      "2\n"
     ]
    }
   ],
   "source": [
    "a = [1,2,3,1]\n",
    "b = a.count(1) #원소 1의 갯수\n",
    "print(b)"
   ]
  },
  {
   "cell_type": "code",
   "execution_count": 39,
   "metadata": {},
   "outputs": [
    {
     "name": "stdout",
     "output_type": "stream",
     "text": [
      "[1, 2, 3, 4, 5]\n"
     ]
    }
   ],
   "source": [
    "a = [1,2,3]\n",
    "a.extend([4,5]) #리스트 a에 리스트 b를 연결함\n",
    "print(a)"
   ]
  },
  {
   "cell_type": "code",
   "execution_count": 41,
   "metadata": {},
   "outputs": [
    {
     "name": "stdout",
     "output_type": "stream",
     "text": [
      "True\n",
      "False\n"
     ]
    }
   ],
   "source": [
    "a = [1,2,3,4,5]\n",
    "result = 2 in a #a 에 2가 포함되어 있는가?\n",
    "print(result)\n",
    "\n",
    "result = 2 not in a #a 에 2가 포함되어 있지 않은가?\n",
    "print(result)"
   ]
  },
  {
   "cell_type": "code",
   "execution_count": null,
   "metadata": {},
   "outputs": [],
   "source": []
  }
 ],
 "metadata": {
  "kernelspec": {
   "display_name": "Python 3",
   "language": "python",
   "name": "python3"
  },
  "language_info": {
   "codemirror_mode": {
    "name": "ipython",
    "version": 3
   },
   "file_extension": ".py",
   "mimetype": "text/x-python",
   "name": "python",
   "nbconvert_exporter": "python",
   "pygments_lexer": "ipython3",
   "version": "3.7.4"
  }
 },
 "nbformat": 4,
 "nbformat_minor": 2
}
