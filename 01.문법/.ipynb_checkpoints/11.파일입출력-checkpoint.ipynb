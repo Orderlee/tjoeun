{
 "cells": [
  {
   "cell_type": "code",
   "execution_count": null,
   "metadata": {},
   "outputs": [],
   "source": [
    "# 파일 오픈, w 쓰기 전용\n",
    "# 디렉토리를 지정하지 않으면 현재 작업중인 디렉토리에 저장됨\n",
    "# 파일참조변수 = open('파일','모드')\n",
    "f = open('file1.txt','w')\n",
    "# 파일을 다 사용한 후에는 명시적으로 닫아주는 것이 좋음\n",
    "f.close()"
   ]
  },
  {
   "cell_type": "code",
   "execution_count": null,
   "metadata": {},
   "outputs": [],
   "source": [
    "f = open('d:/python/source/file2.txt','w')\n",
    "f.close()"
   ]
  },
  {
   "cell_type": "code",
   "execution_count": null,
   "metadata": {},
   "outputs": [],
   "source": [
    "f = open('d:/python/source/file3.txt','w')\n",
    "for i in range(1,11):\n",
    "    data = '%d번째 라인입니다.\\n' % i\n",
    "    #파일에 내용을 기록\n",
    "    f.write(data)\n",
    "    \n",
    "#파일 사용이 끝나면 닫아줌, 닫지 않으면 파일이 생성되어도 안에 내용이 없음  \n",
    "f.close()"
   ]
  },
  {
   "cell_type": "code",
   "execution_count": null,
   "metadata": {},
   "outputs": [],
   "source": [
    "#파일을 읽기 전용 모드로 오픈\n",
    "f = open('d:/python/source/file3.txt','r')\n",
    "while True: #무한반복\n",
    "    line = f.readline() #파일참조변수가 가리키는 한 라인을 읽음\n",
    "    if not line: #읽은 내용이 빈값이면(더이상 내용이 없으면)\n",
    "        break #반복문 종료\n",
    "    print(line,end='') #한 라인 출력\n",
    "    \n",
    "f.close() #파일 닫기"
   ]
  },
  {
   "cell_type": "code",
   "execution_count": null,
   "metadata": {},
   "outputs": [],
   "source": [
    "nums = [0,1,2,3,4,5,6,7,8,9,]\n",
    "count = len(nums) #원소의 갯수\n",
    "output_file = 'd:/python/source/result.csv'\n",
    "f = open(output_file,'a') #추가 모드 append\n",
    "for idx in range(count):\n",
    "    if idx < (count-1): #마지막 원소가 아니면 컴머를 추가\n",
    "        f.write(str(nums[idx])+',') \n",
    "    else: #마지막 원소이면 줄바꿈\n",
    "        f.write(str(nums[idx])+'\\n')\n",
    "f.close() #파일 닫기(파일 내용이 디스크에 저장됨)\n",
    "print('추가되었습니다.')"
   ]
  },
  {
   "cell_type": "code",
   "execution_count": null,
   "metadata": {},
   "outputs": [],
   "source": [
    "nums = [0,1,2,3,4,5,6,7,8,9,]\n",
    "count = len(nums) #원소의 갯수\n",
    "output_file = 'd:/python/source/result.csv'\n",
    "f = open(output_file,'w') #추가 모드 append\n",
    "for idx in range(count):\n",
    "    if idx < (count-1): #마지막 원소가 아니면 컴머를 추가\n",
    "        f.write(str(nums[idx])+',') \n",
    "    else: #마지막 원소이면 줄바꿈\n",
    "        f.write(str(nums[idx])+'\\n')\n",
    "f.close() #파일 닫기(파일 내용이 디스크에 저장됨)\n",
    "print('추가되었습니다.')"
   ]
  },
  {
   "cell_type": "code",
   "execution_count": null,
   "metadata": {},
   "outputs": [],
   "source": [
    "f = open('d:/python/source/file3.txt','r')\n",
    "lines = f.readlines() #모든 라인을 읽어서 리스트로 저장\n",
    "print(lines)\n",
    "for line in lines: #한 라인씩 처리\n",
    "    print(line,end='') #줄바꿈때문에 end를 지우면 두번 줄바꿈\n",
    "    \n",
    "f.close()"
   ]
  },
  {
   "cell_type": "code",
   "execution_count": null,
   "metadata": {},
   "outputs": [],
   "source": [
    "f = open('d:/python/source/file3.txt','r')\n",
    "lines=[] #비어있는 리스트\n",
    "while True: #무한반복\n",
    "    line = f.readline()    \n",
    "    if not line: \n",
    "        break \n",
    "    lines.append(line) #리스트에 한 라인 추가    \n",
    "    \n",
    "    \n",
    "f.close() #파일 닫기\n",
    "print(lines)"
   ]
  },
  {
   "cell_type": "code",
   "execution_count": null,
   "metadata": {},
   "outputs": [],
   "source": [
    "f = open('d:/python/source/file3.txt','r')\n",
    "data = f.read() #파일의 전체내용을 문자열 1개로 저장\n",
    "print(data)\n",
    "print(type(data))\n",
    "f.close()"
   ]
  },
  {
   "cell_type": "code",
   "execution_count": null,
   "metadata": {},
   "outputs": [],
   "source": [
    "f = open('d:/python/source/file3.txt','r')\n",
    "#파일참조변수(파일포인터)가 가리키는 한 라인을 읽음\n",
    "# readline() 함수가 생략된 코드\n",
    "for line in f: #f.readline()\n",
    "    print(line,end='')\n",
    "    \n",
    "f.close()"
   ]
  },
  {
   "cell_type": "code",
   "execution_count": null,
   "metadata": {},
   "outputs": [],
   "source": [
    "# with 문장으로 파일을 열면 close()가 자동으로 처리된다.\n",
    "with open('d:/python/source/file4.txt','w') as f:\n",
    "    f.write('hello python')"
   ]
  },
  {
   "cell_type": "code",
   "execution_count": null,
   "metadata": {},
   "outputs": [],
   "source": [
    "f = open('d:/data/2008.csv','r')\n",
    "#lines=[]\n",
    "while True:\n",
    "    line = f.readline()\n",
    "    print(line)\n",
    "    if not line:\n",
    "        break\n",
    "#         lines.append(line)\n",
    "#         if len(lines)>10000: #라인수 제한\n",
    "#             break\n",
    "            \n",
    "f.close()\n",
    "#print(lines)"
   ]
  },
  {
   "cell_type": "code",
   "execution_count": null,
   "metadata": {},
   "outputs": [],
   "source": [
    "import pandas as pd\n",
    "\n",
    "df=pd.read_csv('d:/data/2008.csv',sep=',')\n",
    "df.head()\n",
    "#print(df.head())"
   ]
  },
  {
   "cell_type": "code",
   "execution_count": null,
   "metadata": {},
   "outputs": [],
   "source": [
    "#순차적 접근 파일\n",
    "#비순차적 접근 파일"
   ]
  },
  {
   "cell_type": "code",
   "execution_count": null,
   "metadata": {},
   "outputs": [],
   "source": [
    "f = open('d:/python/source/file3.txt','r')\n",
    "#첫 라인부터 마지막 라인까지 순차적으로 읽어들이는 방법\n",
    "for line in f:\n",
    "    print(line, end='')\n",
    "\n",
    "#파일의 시작 위치로 이동\n",
    "f.seek(0,0)\n",
    "line=f.readline() #한 라인을 읽음\n",
    "print(line)\n",
    "print(f.tell()) #파일포인터의 위치 \n",
    "f.close()"
   ]
  },
  {
   "cell_type": "code",
   "execution_count": null,
   "metadata": {},
   "outputs": [],
   "source": [
    "f = open(\"d:/python/source/file3.txt\",'r')\n",
    "f_list=list(f)\n",
    "print(f_list)\n",
    "f.close()"
   ]
  },
  {
   "cell_type": "code",
   "execution_count": null,
   "metadata": {},
   "outputs": [],
   "source": [
    "filename='d:/data/text/pi.txt'\n",
    "with open(filename) as f1: # auto close\n",
    "    lines=f1.readlines() #라인별 리스트로 저장\n",
    "    \n",
    "for line in lines:\n",
    "    print(line.strip()) #좌우 공백 제거"
   ]
  },
  {
   "cell_type": "code",
   "execution_count": null,
   "metadata": {},
   "outputs": [],
   "source": [
    "a = 'i love you, you love me'\n",
    "count=a.count('you') #문자열에서 키워드를 찾은 횟수\n",
    "print(count)"
   ]
  },
  {
   "cell_type": "code",
   "execution_count": null,
   "metadata": {},
   "outputs": [],
   "source": [
    "filename='d:/data/text/pi.txt'\n",
    "with open(filename) as f: # with 블록으로 파일 오픈하면 auto close\n",
    "    lines=f.readlines() #라인별로 나눠스 리스트로 저장\n",
    "\n",
    "print(len(lines)) #라인수\n",
    "print(lines[0]) #첫번째 라인의 내용\n",
    "pi_string=''\n",
    "for line in lines:\n",
    "    pi_string += line.strip() #전체 스트링을 하나의 문자열로 연결\n",
    "\n",
    "num=input('숫자를 입력하세요:')\n",
    "if num in pi_string: # A in B : B에 A가 있으면 True\n",
    "    print(num,'숫자를 찾았습니다.')\n",
    "    total=pi_string.count(num)\n",
    "    print('찾은 횟수:', total)\n",
    "else:\n",
    "    print(num, '숫자를 찾지 못했습니다.')"
   ]
  },
  {
   "cell_type": "code",
   "execution_count": null,
   "metadata": {},
   "outputs": [],
   "source": [
    "filename = 'd:/data/2008.csv'\n",
    "subsize = 80*1024*1024 #100MB\n",
    "suffix=0\n",
    "\n",
    "with open(filename,'rb') as f: #binary read only 이진파일 읽기전용\n",
    "    buf = f.read(subsize) #지정된 사이즈만큼 읽음\n",
    "    while buf: #사이즈가 0이 아니면\n",
    "        #파일 이름\n",
    "        subfilename=filename+'_'+str(suffix)+'.csv'\n",
    "        #쓰기 모드로 오픈\n",
    "        with open(subfilename,'wb') as h:\n",
    "            h.write(buf) #사이즈만큼 저장\n",
    "            print('[%s] 완료' % subfilename)\n",
    "            \n",
    "        buf=f.read(subsize) #다음 내용읽음\n",
    "        suffix += 1 #파일번호 증가 처리"
   ]
  },
  {
   "cell_type": "code",
   "execution_count": null,
   "metadata": {},
   "outputs": [],
   "source": [
    "from zipfile import * #파일 압축 패키지 로딩\n",
    "\n",
    "def compressZip(zipname, filename):\n",
    "    print('[%s] -> [%s] 압축...' %(filename,zipname))\n",
    "    with ZipFile(zipname,'w') as ziph:\n",
    "        ziph.write(filename,compress_type=ZIP_DEFLATED) #파일내용\n",
    "    print('압축이 끝났습니다.')\n",
    "\n",
    "#filename='d:/data/images/Tulips.jpg'\n",
    "filename='d:/data/2008.csv'\n",
    "zipname = filename +'.zip'\n",
    "compressZip(zipname,filename)"
   ]
  },
  {
   "cell_type": "code",
   "execution_count": null,
   "metadata": {},
   "outputs": [],
   "source": [
    "import os\n",
    "a = os.walk('d:/temp') #디렉토리 탐색함수\n",
    "print(list(a))\n",
    "# (디렉토리이름, 하위디렉토리리스트, 파일리스트)"
   ]
  },
  {
   "cell_type": "code",
   "execution_count": null,
   "metadata": {},
   "outputs": [],
   "source": [
    "a=os.path.join('d:\\\\temp','test.txt')\n",
    "print(a)"
   ]
  },
  {
   "cell_type": "code",
   "execution_count": null,
   "metadata": {},
   "outputs": [],
   "source": [
    "from zipfile import *\n",
    "import os\n",
    "\n",
    "def compressAll(zipname, folder):\n",
    "    print('[%s] -> [%s] 압축...' % (folder,zipname))\n",
    "    with ZipFile(zipname,'w') as ziph:\n",
    "        #디렉토리 탐색\n",
    "        for dirname, subdirs, files in os.walk(folder):\n",
    "            print(dirname,subdirs,files)\n",
    "            for file in files:\n",
    "                #파일 압축\n",
    "#os.path.join(디렉토리,파일이름): 디렉토리와 파일이름 연결\n",
    "                ziph.write(os.path.join(dirname,file),compress_type=ZIP_DEFLATED)\n",
    "folder='d:/temp' #압축할 디렉토리\n",
    "zipname=folder+'.zip' #압축파일 이름\n",
    "compressAll(zipname,folder)"
   ]
  },
  {
   "cell_type": "code",
   "execution_count": null,
   "metadata": {},
   "outputs": [],
   "source": [
    "#압축 풀기\n",
    "from zipfile import*\n",
    "import os # os 모듈 로딩\n",
    "\n",
    "#작업중인 디렉토리 변경\n",
    "os.chdir('d:/python/source')\n",
    "\n",
    "def extracZip(zipname):\n",
    "    with ZipFile(zipname,'r') as ziph:\n",
    "        ziph.extractall() #현재 작업중인 디렉토리에 압축이 풀림\n",
    "        print('[%s]가 성공적으로 추출되었습니다.' % zipname)\n",
    "\n",
    "extracZip('d:/temp.zip')"
   ]
  },
  {
   "cell_type": "code",
   "execution_count": null,
   "metadata": {},
   "outputs": [],
   "source": [
    "#웹서버 로그\n",
    "pageviews=0\n",
    "with open('d:/data/network/access_log','r') as f:\n",
    "    logs=f.readlines() #라인별로 읽어서 리스트로 저장\n",
    "    for log in logs:\n",
    "        log = log.split() #공백 단위로 분리\n",
    "        status = log[8] #9번째\n",
    "        if status=='200': #상태코드가 200이면(정상처리 상태)\n",
    "            pageviews += 1\n",
    "            \n",
    "print('총 페이지뷰:[%d]' % pageviews)"
   ]
  },
  {
   "cell_type": "code",
   "execution_count": null,
   "metadata": {},
   "outputs": [],
   "source": [
    "# d:/data/emp/emp.csv 파일을 읽어서\n",
    "# 사번/이름/직급/상급자사번/입사일자/월급/보너스/연봉/부서코드\n",
    "\n",
    "#a='7369,\"김철수\",\"사원\",7902,00/12/17,200,,20'\n",
    "a='7654,\"나대호\",\"주임\",7698,01/09/28,325,1400,30'\n",
    "print(a)\n",
    "b=a.split(',')\n",
    "print(b)\n",
    "print(b[1])\n",
    "print(b[1].strip('\"\"'))"
   ]
  },
  {
   "cell_type": "code",
   "execution_count": null,
   "metadata": {},
   "outputs": [],
   "source": [
    "sal=int(b[5])\n",
    "#comm=int(b[6])\n",
    "if not b[6]:\n",
    "    comm=0\n",
    "else: \n",
    "    comm=b[6]\n",
    "print(sal)\n",
    "print(comm)"
   ]
  },
  {
   "cell_type": "code",
   "execution_count": 7,
   "metadata": {},
   "outputs": [
    {
     "name": "stdout",
     "output_type": "stream",
     "text": [
      "사번\t이름\t직급\t관리자\t입사일자\t월급\t보너스\t연봉\t부서코드\n",
      "================================================================================\n",
      "7369\t김철수\t사원\t7902\t00/12/17\t200\t\t2400\t20\n",
      "7499\t이찬수\t주임\t7698\t01/02/20\t260\t300\t3420\t30\n",
      "7521\t박종수\t주임\t7698\t02/02/22\t325\t500\t4400\t30\n",
      "7566\t임채호\t과장\t7839\t01/04/02\t497\t\t5964\t20\n",
      "7654\t나대호\t주임\t7698\t01/09/28\t325\t1400\t5300\t30\n",
      "7698\t박지성\t과장\t7839\t01/05/01\t485\t\t5820\t30\n",
      "7782\t구자철\t과장\t7839\t01/06/09\t445\t\t5340\t10\n",
      "7788\t송기성\t부장\t7566\t97/04/17\t500\t\t6000\t20\n",
      "7839\t김철호\t대표\t\t01/11/17\t800\t\t9600\t10\n",
      "7844\t성명준\t주임\t7698\t01/09/08\t350\t0\t4200\t30\n",
      "7876\t황인태\t사원\t7788\t07/05/23\t210\t\t2520\t20\n",
      "7900\t박민성\t사원\t7698\t01/12/03\t295\t\t3540\t30\n",
      "7902\t박진성\t부장\t7566\t01/12/03\t600\t\t7200\t20\n",
      "7934\t최철호\t사원\t7782\t12/01/23\t230\t\t2760\t10\n"
     ]
    }
   ],
   "source": [
    "with open ('d:/data/emp/emp.csv') as f:\n",
    "    lines=f.readlines()\n",
    "    \n",
    "print('사번\\t이름\\t직급\\t관리자\\t입사일자\\t월급\\t보너스\\t연봉\\t부서코드')\n",
    "print('='*80)\n",
    "for line in lines[1:]:\n",
    "    row = line.split(',')\n",
    "    empno=row[0]\n",
    "    ename=row[1].strip('\"')\n",
    "    job=row[2].strip('\"')\n",
    "    mgr=row[3]\n",
    "    hiredate=row[4]\n",
    "    sal=row[5]\n",
    "    comm=row[6]\n",
    "    deptno=row[7]\n",
    "    if comm:\n",
    "        money=int(sal)*12+int(comm)\n",
    "    else:\n",
    "        money=int(sal)*12\n",
    "    print('{}\\t{}\\t{}\\t{}\\t{}\\t{}\\t{}\\t{}\\t{}'.format(empno,ename,job,mgr,hiredate,sal,comm,money,deptno),end='')"
   ]
  },
  {
   "cell_type": "code",
   "execution_count": 12,
   "metadata": {},
   "outputs": [
    {
     "name": "stdout",
     "output_type": "stream",
     "text": [
      "사번\t이름\t직급\t관리자\t입사일자\t\t월급\t보너스\t연봉\t부서코드\n",
      "================================================================================\n",
      "7369\t김철수\t사원\t7902\t00/12/17\t200\t\t2400\t20\n",
      "7499\t이찬수\t주임\t7698\t01/02/20\t260\t300\t3420\t30\n",
      "7521\t박종수\t주임\t7698\t02/02/22\t325\t500\t4400\t30\n",
      "7566\t임채호\t과장\t7839\t01/04/02\t497\t\t5964\t20\n",
      "7654\t나대호\t주임\t7698\t01/09/28\t325\t1400\t5300\t30\n",
      "7698\t박지성\t과장\t7839\t01/05/01\t485\t\t5820\t30\n",
      "7782\t구자철\t과장\t7839\t01/06/09\t445\t\t5340\t10\n",
      "7788\t송기성\t부장\t7566\t97/04/17\t500\t\t6000\t20\n",
      "7839\t김철호\t대표\t\t01/11/17\t800\t\t9600\t10\n",
      "7844\t성명준\t주임\t7698\t01/09/08\t350\t0\t4200\t30\n",
      "7876\t황인태\t사원\t7788\t07/05/23\t210\t\t2520\t20\n",
      "7900\t박민성\t사원\t7698\t01/12/03\t295\t\t3540\t30\n",
      "7902\t박진성\t부장\t7566\t01/12/03\t600\t\t7200\t20\n",
      "7934\t최철호\t사원\t7782\t12/01/23\t230\t\t2760\t10\n"
     ]
    }
   ],
   "source": [
    "with open ('d:/data/emp/emp.csv') as f:\n",
    "    lines=f.readlines()\n",
    "    \n",
    "print('사번\\t이름\\t직급\\t관리자\\t입사일자\\t\\t월급\\t보너스\\t연봉\\t부서코드')\n",
    "print('='*80)\n",
    "result=[]\n",
    "for line in lines[1:]:\n",
    "    row = line.split(',')\n",
    "    empno=row[0]\n",
    "    ename=row[1].strip('\"')\n",
    "    job=row[2].strip('\"')\n",
    "    mgr=row[3]\n",
    "    hiredate=row[4]\n",
    "    sal=row[5]\n",
    "    comm=row[6]\n",
    "    deptno=row[7]\n",
    "    if comm:\n",
    "        money=int(sal)*12+int(comm)\n",
    "    else:\n",
    "        money=int(sal)*12\n",
    "    result.append([empno,ename,job,mgr,hiredate,sal,comm,money,deptno])\n",
    "    print('{}\\t{}\\t{}\\t{}\\t{}\\t{}\\t{}\\t{}\\t{}'.format(empno,ename,job,mgr,hiredate,sal,comm,money,deptno),end='')"
   ]
  },
  {
   "cell_type": "code",
   "execution_count": 15,
   "metadata": {},
   "outputs": [
    {
     "name": "stdout",
     "output_type": "stream",
     "text": [
      "파일 저장이 완료되었습니다.\n"
     ]
    }
   ],
   "source": [
    "with open('d:/data/emp/emp2.csv','w') as f:\n",
    "    f.write('사번,이름,직급,관리자,입사일자,월급,보너스,연봉,부서코드\\n')\n",
    "    for row in result:\n",
    "        line=''\n",
    "        for field in row:\n",
    "            line += str(field)+','\n",
    "        f.write(line[:-1]+'\\n')\n",
    "        \n",
    "print('파일 저장이 완료되었습니다.')            "
   ]
  },
  {
   "cell_type": "code",
   "execution_count": null,
   "metadata": {},
   "outputs": [],
   "source": []
  },
  {
   "cell_type": "code",
   "execution_count": null,
   "metadata": {},
   "outputs": [],
   "source": []
  },
  {
   "cell_type": "code",
   "execution_count": null,
   "metadata": {},
   "outputs": [],
   "source": []
  },
  {
   "cell_type": "code",
   "execution_count": null,
   "metadata": {},
   "outputs": [],
   "source": []
  },
  {
   "cell_type": "code",
   "execution_count": null,
   "metadata": {},
   "outputs": [],
   "source": []
  },
  {
   "cell_type": "code",
   "execution_count": null,
   "metadata": {},
   "outputs": [],
   "source": []
  },
  {
   "cell_type": "code",
   "execution_count": null,
   "metadata": {},
   "outputs": [],
   "source": []
  },
  {
   "cell_type": "code",
   "execution_count": null,
   "metadata": {},
   "outputs": [],
   "source": []
  },
  {
   "cell_type": "code",
   "execution_count": null,
   "metadata": {},
   "outputs": [],
   "source": []
  },
  {
   "cell_type": "code",
   "execution_count": null,
   "metadata": {},
   "outputs": [],
   "source": []
  },
  {
   "cell_type": "code",
   "execution_count": null,
   "metadata": {},
   "outputs": [],
   "source": []
  },
  {
   "cell_type": "code",
   "execution_count": null,
   "metadata": {},
   "outputs": [],
   "source": []
  },
  {
   "cell_type": "code",
   "execution_count": null,
   "metadata": {},
   "outputs": [],
   "source": []
  },
  {
   "cell_type": "code",
   "execution_count": null,
   "metadata": {},
   "outputs": [],
   "source": []
  },
  {
   "cell_type": "code",
   "execution_count": null,
   "metadata": {},
   "outputs": [],
   "source": []
  },
  {
   "cell_type": "code",
   "execution_count": null,
   "metadata": {},
   "outputs": [],
   "source": []
  },
  {
   "cell_type": "code",
   "execution_count": null,
   "metadata": {},
   "outputs": [],
   "source": []
  },
  {
   "cell_type": "code",
   "execution_count": null,
   "metadata": {},
   "outputs": [],
   "source": []
  },
  {
   "cell_type": "code",
   "execution_count": null,
   "metadata": {},
   "outputs": [],
   "source": []
  },
  {
   "cell_type": "code",
   "execution_count": null,
   "metadata": {},
   "outputs": [],
   "source": []
  },
  {
   "cell_type": "code",
   "execution_count": null,
   "metadata": {},
   "outputs": [],
   "source": []
  },
  {
   "cell_type": "code",
   "execution_count": null,
   "metadata": {},
   "outputs": [],
   "source": []
  },
  {
   "cell_type": "code",
   "execution_count": null,
   "metadata": {},
   "outputs": [],
   "source": []
  },
  {
   "cell_type": "code",
   "execution_count": null,
   "metadata": {},
   "outputs": [],
   "source": []
  },
  {
   "cell_type": "code",
   "execution_count": null,
   "metadata": {},
   "outputs": [],
   "source": []
  },
  {
   "cell_type": "code",
   "execution_count": null,
   "metadata": {},
   "outputs": [],
   "source": []
  },
  {
   "cell_type": "code",
   "execution_count": null,
   "metadata": {},
   "outputs": [],
   "source": []
  },
  {
   "cell_type": "code",
   "execution_count": null,
   "metadata": {},
   "outputs": [],
   "source": []
  }
 ],
 "metadata": {
  "kernelspec": {
   "display_name": "Python 3",
   "language": "python",
   "name": "python3"
  },
  "language_info": {
   "codemirror_mode": {
    "name": "ipython",
    "version": 3
   },
   "file_extension": ".py",
   "mimetype": "text/x-python",
   "name": "python",
   "nbconvert_exporter": "python",
   "pygments_lexer": "ipython3",
   "version": "3.7.4"
  }
 },
 "nbformat": 4,
 "nbformat_minor": 2
}
