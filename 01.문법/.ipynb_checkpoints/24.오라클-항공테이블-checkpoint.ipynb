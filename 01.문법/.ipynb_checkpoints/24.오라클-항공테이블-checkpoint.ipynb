{
 "cells": [
  {
   "cell_type": "code",
   "execution_count": 7,
   "metadata": {},
   "outputs": [
    {
     "name": "stdout",
     "output_type": "stream",
     "text": [
      "(2008, 1, 3, 4, '2003', 1955, '2211', 2225, 'WN', '335', 'N712SW', '128', '150', '116', '-14', '8', 'IAD', 'TPA', '810', '4', '8', '0', None, '0', 'NA', 'NA', 'NA', 'NA', 'NA')\n",
      "(2008, 1, 3, 4, '754', 735, '1002', 1000, 'WN', '3231', 'N772SW', '128', '145', '113', '2', '19', 'IAD', 'TPA', '810', '5', '10', '0', None, '0', 'NA', 'NA', 'NA', 'NA', 'NA')\n",
      "(2008, 1, 3, 4, '628', 620, '804', 750, 'WN', '448', 'N428WN', '96', '90', '76', '14', '8', 'IND', 'BWI', '515', '3', '17', '0', None, '0', 'NA', 'NA', 'NA', 'NA', 'NA')\n",
      "(2008, 1, 3, 4, '926', 930, '1054', 1100, 'WN', '1746', 'N612SW', '88', '90', '78', '-6', '-4', 'IND', 'BWI', '515', '3', '7', '0', None, '0', 'NA', 'NA', 'NA', 'NA', 'NA')\n"
     ]
    }
   ],
   "source": [
    "import cx_Oracle #오라클 연동 모듈\n",
    "#오라클 서버에 접속 :     아이디/비번@호스트:포트번호/sid\n",
    "conn= cx_Oracle.connect(\"hr/hr@localhost:1521/xe\")\n",
    "#커서 생성\n",
    "cursor = conn.cursor()\n",
    "#sql 명령어 실행\n",
    "# rownum : 결과셋의 레코드 출력 순번\n",
    "cursor.execute('select * from ontime where rownum < 5')\n",
    "#결과셋을 리스트로 저장\n",
    "rows = cursor.fetchall()\n",
    "for row in rows:\n",
    "    print(row)\n",
    "# 리소스 정리\n",
    "cursor.close()\n",
    "conn.close()"
   ]
  },
  {
   "cell_type": "code",
   "execution_count": 8,
   "metadata": {},
   "outputs": [
    {
     "name": "stdout",
     "output_type": "stream",
     "text": [
      "('AQ', -1.3902564102564103)\n",
      "('HA', 0.4510561899524472)\n",
      "('US', 5.635456327203702)\n",
      "('F9', 5.901056786616821)\n",
      "('NW', 6.409786223004613)\n",
      "('9E', 6.5856228642909445)\n",
      "('AS', 6.752723325965242)\n",
      "('OO', 7.2952999070807305)\n",
      "('DL', 7.887967410954327)\n",
      "('FL', 9.183920300820837)\n",
      "('WN', 10.276262862449386)\n",
      "('MQ', 10.29978622071234)\n",
      "('XE', 11.093709113241301)\n",
      "('OH', 11.16054087152783)\n",
      "('YV', 11.572015847487545)\n",
      "('EV', 11.711389111645728)\n",
      "('B6', 12.447679903718171)\n",
      "('AA', 12.899916513056201)\n",
      "('CO', 13.023581444438861)\n",
      "('UA', 13.784372045426737)\n"
     ]
    }
   ],
   "source": [
    "import cx_Oracle\n",
    "conn = cx_Oracle.connect(\"hr/hr@localhost:1521/xe\")\n",
    "\n",
    "cursor = conn.cursor()\n",
    "#항공사코드별 평균출발지연시간\n",
    "cursor.execute('''select uniquecarrier, avg(depdelay)\n",
    "from ontime\n",
    "group by uniquecarrier\n",
    "order by avg(depdelay)''')\n",
    "rows = cursor.fetchall()\n",
    "for row in rows:\n",
    "    print(row) #print('{}\\t{}'.format(row[0],row[1]))\n",
    "    \n",
    "cursor.close()\n",
    "conn.close()"
   ]
  },
  {
   "cell_type": "code",
   "execution_count": 9,
   "metadata": {},
   "outputs": [
    {
     "name": "stdout",
     "output_type": "stream",
     "text": [
      "('AA', 'American Airlines Inc.', 12.202853434950445)\n",
      "('OH', 'Comair Inc.', 11.404110178283158)\n",
      "('YV', 'Mesa Airlines Inc.', 11.322566979170753)\n",
      "('UA', 'United Air Lines Inc.', 11.001550560048052)\n",
      "('B6', 'JetBlue Airways', 10.859381613638567)\n",
      "('CO', 'Continental Air Lines Inc.', 10.809820575966226)\n",
      "('XE', 'Expressjet Airlines Inc.', 10.320298523403915)\n",
      "('EV', 'Atlantic Southeast Airlines', 10.00033146217589)\n",
      "('MQ', 'American Eagle Airlines Inc.', 9.496970610952266)\n",
      "('FL', 'AirTran Airways Corporation', 8.988157472371256)\n",
      "('DL', 'Delta Air Lines Inc.', 7.716164635751918)\n",
      "('NW', 'Northwest Airlines Inc.', 7.293465879672776)\n",
      "('OO', 'Skywest Airlines Inc.', 6.43893863978179)\n",
      "('F9', 'Frontier Airlines Inc.', 6.084135669681085)\n",
      "('WN', 'Southwest Airlines Co.', 5.115703380225903)\n",
      "('AS', 'Alaska Airlines Inc.', 4.721360405553864)\n",
      "('9E', 'Pinnacle Airlines Inc.', 3.987490846961191)\n",
      "('US', 'US Airways Inc. (Merged with America West 9/05. Reporting for both starting 10/07.)', 2.800998260539828)\n",
      "('HA', 'Hawaiian Airlines Inc.', 1.2518519716624075)\n",
      "('AQ', 'Aloha Airlines Inc.', -2.8708974358974357)\n"
     ]
    }
   ],
   "source": [
    "import cx_Oracle\n",
    "conn = cx_Oracle.connect(\"hr/hr@localhost:1521/xe\")\n",
    "\n",
    "cursor = conn.cursor()\n",
    "# 항공사 평균도착지연시간\n",
    "cursor.execute('''select uniquecarrier,description, avg(arrdelay) delay\n",
    "from ontime o , carrier c\n",
    "where uniquecarrier = c.code\n",
    "group by uniquecarrier,description\n",
    "order by delay desc''')\n",
    "rows = cursor.fetchall()\n",
    "for row in rows:\n",
    "    print(row)\n",
    "cursor.close()\n",
    "conn.close()"
   ]
  },
  {
   "cell_type": "code",
   "execution_count": 10,
   "metadata": {},
   "outputs": [
    {
     "name": "stdout",
     "output_type": "stream",
     "text": [
      "(1, 279427)\n",
      "(2, 278902)\n",
      "(3, 294556)\n",
      "(4, 256142)\n",
      "(5, 254673)\n",
      "(6, 295897)\n",
      "(7, 264630)\n",
      "(8, 239737)\n",
      "(9, 169959)\n",
      "(10, 183582)\n",
      "(11, 181506)\n",
      "(12, 280493)\n"
     ]
    }
   ],
   "source": [
    "import cx_Oracle\n",
    "conn = cx_Oracle.connect(\"hr/hr@localhost:1521/xe\")\n",
    "\n",
    "cursor = conn.cursor()\n",
    "cursor.execute('''\n",
    "select month,count(*)\n",
    "from ontime\n",
    "where arrdelay>0\n",
    "group by month\n",
    "order by month\n",
    "''')\n",
    "rows = cursor.fetchall()\n",
    "for row in rows:\n",
    "    print(row)\n",
    "    \n",
    "cursor.close()\n",
    "conn.close()"
   ]
  },
  {
   "cell_type": "code",
   "execution_count": 11,
   "metadata": {},
   "outputs": [
    {
     "name": "stdout",
     "output_type": "stream",
     "text": [
      "[1, 2, 3, 4, 5, 6, 7, 8, 9, 10, 11, 12]\n",
      "[279427, 278902, 294556, 256142, 254673, 295897, 264630, 239737, 169959, 183582, 181506, 280493]\n"
     ]
    }
   ],
   "source": [
    "x = list(range(1,13)) #1~12\n",
    "y=[]\n",
    "for row in rows:\n",
    "    y.append(row[1]) # y리스트에 자료 추가\n",
    "    \n",
    "print(x)\n",
    "print(y)"
   ]
  },
  {
   "cell_type": "code",
   "execution_count": 12,
   "metadata": {},
   "outputs": [
    {
     "data": {
      "text/plain": [
       "<matplotlib.axes._subplots.AxesSubplot at 0x2915b1d8e48>"
      ]
     },
     "execution_count": 12,
     "metadata": {},
     "output_type": "execute_result"
    },
    {
     "data": {
      "image/png": "[encoded data removed]",
      "text/plain": [
       "<Figure size 432x288 with 1 Axes>"
      ]
     },
     "metadata": {
      "needs_background": "light"
     },
     "output_type": "display_data"
    }
   ],
   "source": [
    "import pandas as pd #판다스 패키지 로딩\n",
    "#그래프 출력 옵션\n",
    "%matplotlib inline \n",
    "\n",
    "s1=pd.Series(y,index=x) #시리즈 타입으로 변환\n",
    "s1.plot(kind='bar') #막대 그래프 출력"
   ]
  },
  {
   "cell_type": "code",
   "execution_count": 13,
   "metadata": {},
   "outputs": [
    {
     "data": {
      "text/plain": [
       "<matplotlib.axes._subplots.AxesSubplot at 0x2915b1e5a88>"
      ]
     },
     "execution_count": 13,
     "metadata": {},
     "output_type": "execute_result"
    },
    {
     "data": {
      "image/png": "[encoded data removed]",
      "text/plain": [
       "<Figure size 432x288 with 1 Axes>"
      ]
     },
     "metadata": {
      "needs_background": "light"
     },
     "output_type": "display_data"
    }
   ],
   "source": [
    "s1.plot(kind='barh')"
   ]
  },
  {
   "cell_type": "code",
   "execution_count": 14,
   "metadata": {},
   "outputs": [
    {
     "data": {
      "text/plain": [
       "<matplotlib.axes._subplots.AxesSubplot at 0x2915b28df88>"
      ]
     },
     "execution_count": 14,
     "metadata": {},
     "output_type": "execute_result"
    },
    {
     "data": {
      "image/png": "[encoded data removed]",
      "text/plain": [
       "<Figure size 432x288 with 1 Axes>"
      ]
     },
     "metadata": {},
     "output_type": "display_data"
    }
   ],
   "source": [
    "s1.plot(kind='pie')"
   ]
  },
  {
   "cell_type": "code",
   "execution_count": 15,
   "metadata": {},
   "outputs": [
    {
     "name": "stdout",
     "output_type": "stream",
     "text": [
      "(1, 8.030254747872275)\n",
      "(2, 7.29232332960935)\n",
      "(3, 6.379804071503802)\n",
      "(4, 8.246549198623555)\n",
      "(5, 10.675214410055972)\n",
      "(6, 5.682499626837823)\n",
      "(7, 9.294087238339747)\n"
     ]
    }
   ],
   "source": [
    "import cx_Oracle\n",
    "conn = cx_Oracle.connect('hr/hr@localhost:1521/xe')\n",
    "\n",
    "cursor = conn.cursor()\n",
    "cursor.execute('''select dayofweek, avg(arrdelay)\n",
    "from ontime\n",
    "group by dayofweek\n",
    "order by dayofweek''')\n",
    "rows=cursor.fetchall()\n",
    "for row in rows:\n",
    "    print(row)\n",
    "\n",
    "cursor.close()\n",
    "conn.close()"
   ]
  },
  {
   "cell_type": "code",
   "execution_count": 16,
   "metadata": {},
   "outputs": [
    {
     "name": "stdout",
     "output_type": "stream",
     "text": [
      "[8.030254747872275, 7.29232332960935, 6.379804071503802, 8.246549198623555, 10.675214410055972, 5.682499626837823, 9.294087238339747]\n"
     ]
    }
   ],
   "source": [
    "# x =['월','화','수','목','금','토','일']\n",
    "y = []\n",
    "for row in rows:\n",
    "    y.append(row[1])\n",
    "#print(x)\n",
    "print(y)"
   ]
  },
  {
   "cell_type": "code",
   "execution_count": 17,
   "metadata": {},
   "outputs": [
    {
     "data": {
      "text/plain": [
       "Text(0.5, 1.0, '요일별 통계')"
      ]
     },
     "execution_count": 17,
     "metadata": {},
     "output_type": "execute_result"
    },
    {
     "data": {
      "image/png": "[encoded data removed]",
      "text/plain": [
       "<Figure size 432x288 with 1 Axes>"
      ]
     },
     "metadata": {
      "needs_background": "light"
     },
     "output_type": "display_data"
    }
   ],
   "source": [
    "import pandas as pd\n",
    "import matplotlib.pyplot as plt\n",
    "%matplotlib inline\n",
    "from matplotlib import rc, font_manager\n",
    "#한글 폰트 설정\n",
    "font_name=font_manager.FontProperties(\n",
    "fname='c:/windows/fonts/gulim.ttc').get_name()\n",
    "rc('font',family=font_name)\n",
    "s1=pd.Series(y,index=['월','화','수','목','금','토','일'])\n",
    "s1.plot(kind='barh') #가로막대 그래프\n",
    "plt.title('요일별 통계') #그래프 제목"
   ]
  },
  {
   "cell_type": "code",
   "execution_count": 22,
   "metadata": {},
   "outputs": [
    {
     "name": "stdout",
     "output_type": "stream",
     "text": [
      "(2202, -28)\n",
      "(2216, -22.25)\n",
      "(1807, -20)\n",
      "(2154, -17.666666666666668)\n",
      "(1948, -16)\n"
     ]
    }
   ],
   "source": [
    "import cx_Oracle\n",
    "conn = cx_Oracle.connect(\"hr/hr@localhost:1521/xe\")\n",
    "\n",
    "cursor = conn.cursor()\n",
    "#10월, 월요일 중에서 가장 좋은 시간대\n",
    "cursor.execute('''select CRSDepTime, avg(arrdelay) delay\n",
    "from ontime\n",
    "where month=10 and dayofweek=1 \n",
    "group by CRSDepTime\n",
    "order by delay\n",
    "''')\n",
    "rows = cursor.fetchall()\n",
    "for row in rows[:5]:\n",
    "    print(row)\n",
    "    \n",
    "cursor.close()\n",
    "conn.close()"
   ]
  },
  {
   "cell_type": "code",
   "execution_count": 25,
   "metadata": {},
   "outputs": [
    {
     "name": "stdout",
     "output_type": "stream",
     "text": [
      "(1, 2202, -28)\n",
      "(2, 2216, -22.25)\n",
      "(3, 1807, -20)\n",
      "(4, 2154, -17.666666666666668)\n",
      "(5, 1948, -16)\n",
      "(6, 2253, -15.75)\n",
      "(7, 2148, -15.571428571428571)\n",
      "(8, 551, -15.5)\n",
      "(9, 2212, -15.4)\n",
      "(10, 2104, -15.375)\n"
     ]
    }
   ],
   "source": [
    "import cx_Oracle\n",
    "conn = cx_Oracle.connect(\"hr/hr@localhost:1521/xe\")\n",
    "\n",
    "cursor = conn.cursor()\n",
    "#10월, 월요일 중에서 가장 좋은 시간대\n",
    "# rownum : order by 전까지의 출력순번\n",
    "# order by 명령어가 실행되면 rownum이 바뀌게됨\n",
    "# rownum을 매기기 전에 먼저 정렬을 하고 rownum을 부여하는 방식\n",
    "# 서브쿼리\n",
    "# A* A테이블의 모든 필드\n",
    "cursor.execute('''\n",
    "select*\n",
    "from(\n",
    "    select rownum as rn, A.*\n",
    "    from (\n",
    "        select CRSDepTime, avg(arrdelay) delay\n",
    "        from ontime\n",
    "        where month=10 and dayofweek=1\n",
    "        group by CRSDepTime\n",
    "        order by delay\n",
    "    ) A\n",
    ") where rn between 1 and 10\n",
    "''')\n",
    "rows = cursor.fetchall()\n",
    "for row in rows:\n",
    "    print(row)\n",
    "    \n",
    "cursor.close()\n",
    "conn.close()"
   ]
  },
  {
   "cell_type": "code",
   "execution_count": null,
   "metadata": {},
   "outputs": [],
   "source": []
  },
  {
   "cell_type": "code",
   "execution_count": null,
   "metadata": {},
   "outputs": [],
   "source": []
  },
  {
   "cell_type": "code",
   "execution_count": null,
   "metadata": {},
   "outputs": [],
   "source": []
  },
  {
   "cell_type": "code",
   "execution_count": null,
   "metadata": {},
   "outputs": [],
   "source": []
  },
  {
   "cell_type": "code",
   "execution_count": null,
   "metadata": {},
   "outputs": [],
   "source": []
  },
  {
   "cell_type": "code",
   "execution_count": null,
   "metadata": {},
   "outputs": [],
   "source": []
  },
  {
   "cell_type": "code",
   "execution_count": null,
   "metadata": {},
   "outputs": [],
   "source": []
  },
  {
   "cell_type": "code",
   "execution_count": null,
   "metadata": {},
   "outputs": [],
   "source": []
  },
  {
   "cell_type": "code",
   "execution_count": null,
   "metadata": {},
   "outputs": [],
   "source": []
  },
  {
   "cell_type": "code",
   "execution_count": null,
   "metadata": {},
   "outputs": [],
   "source": []
  },
  {
   "cell_type": "code",
   "execution_count": null,
   "metadata": {},
   "outputs": [],
   "source": []
  },
  {
   "cell_type": "code",
   "execution_count": null,
   "metadata": {},
   "outputs": [],
   "source": []
  },
  {
   "cell_type": "code",
   "execution_count": null,
   "metadata": {},
   "outputs": [],
   "source": []
  },
  {
   "cell_type": "code",
   "execution_count": null,
   "metadata": {},
   "outputs": [],
   "source": []
  },
  {
   "cell_type": "code",
   "execution_count": null,
   "metadata": {},
   "outputs": [],
   "source": []
  },
  {
   "cell_type": "code",
   "execution_count": null,
   "metadata": {},
   "outputs": [],
   "source": []
  },
  {
   "cell_type": "code",
   "execution_count": null,
   "metadata": {},
   "outputs": [],
   "source": []
  },
  {
   "cell_type": "code",
   "execution_count": null,
   "metadata": {},
   "outputs": [],
   "source": []
  },
  {
   "cell_type": "code",
   "execution_count": null,
   "metadata": {},
   "outputs": [],
   "source": []
  },
  {
   "cell_type": "code",
   "execution_count": null,
   "metadata": {},
   "outputs": [],
   "source": []
  },
  {
   "cell_type": "code",
   "execution_count": null,
   "metadata": {},
   "outputs": [],
   "source": []
  },
  {
   "cell_type": "code",
   "execution_count": null,
   "metadata": {},
   "outputs": [],
   "source": []
  },
  {
   "cell_type": "code",
   "execution_count": null,
   "metadata": {},
   "outputs": [],
   "source": []
  },
  {
   "cell_type": "code",
   "execution_count": null,
   "metadata": {},
   "outputs": [],
   "source": []
  },
  {
   "cell_type": "code",
   "execution_count": null,
   "metadata": {},
   "outputs": [],
   "source": []
  }
 ],
 "metadata": {
  "kernelspec": {
   "display_name": "Python 3",
   "language": "python",
   "name": "python3"
  },
  "language_info": {
   "codemirror_mode": {
    "name": "ipython",
    "version": 3
   },
   "file_extension": ".py",
   "mimetype": "text/x-python",
   "name": "python",
   "nbconvert_exporter": "python",
   "pygments_lexer": "ipython3",
   "version": "3.7.4"
  }
 },
 "nbformat": 4,
 "nbformat_minor": 2
}
