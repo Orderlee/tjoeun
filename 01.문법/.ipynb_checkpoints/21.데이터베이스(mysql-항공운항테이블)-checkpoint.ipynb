{
 "cells": [
  {
   "cell_type": "code",
   "execution_count": 8,
   "metadata": {},
   "outputs": [
    {
     "name": "stdout",
     "output_type": "stream",
     "text": [
      "(2008, 1, 3, 4, 2003, 1955, 2211, 2225, 'WN', 335, 'N712SW', 128, 150, 116, -14, 8, 'IAD', 'TPA', 810, 4, 8, 0, '', '0', 0, 0, 0, 0, 0)\n",
      "(2008, 1, 3, 4, 754, 735, 1002, 1000, 'WN', 3231, 'N772SW', 128, 145, 113, 2, 19, 'IAD', 'TPA', 810, 5, 10, 0, '', '0', 0, 0, 0, 0, 0)\n",
      "(2008, 1, 3, 4, 628, 620, 804, 750, 'WN', 448, 'N428WN', 96, 90, 76, 14, 8, 'IND', 'BWI', 515, 3, 17, 0, '', '0', 0, 0, 0, 0, 0)\n",
      "(2008, 1, 3, 4, 926, 930, 1054, 1100, 'WN', 1746, 'N612SW', 88, 90, 78, -6, -4, 'IND', 'BWI', 515, 3, 7, 0, '', '0', 0, 0, 0, 0, 0)\n",
      "(2008, 1, 3, 4, 1829, 1755, 1959, 1925, 'WN', 3920, 'N464WN', 90, 90, 77, 34, 34, 'IND', 'BWI', 515, 3, 10, 0, '', '0', 2, 0, 0, 0, 32)\n"
     ]
    }
   ],
   "source": [
    "import MySQLdb #mysql 패키지 로딩\n",
    "#mysql 서버에 접속\n",
    "conn = MySQLdb.connect(host='localhost', port=3306, db='ontime',\n",
    "                      user='web',passwd='1234')\n",
    "#sql 실행+레코드셋 탐색을 위한 커서 생성\n",
    "cursor = conn.cursor()\n",
    "#sql 명령어 실행\n",
    "cursor.execute('select * from ontime limit 5')\n",
    "#커서가 가리키는 메모리 전체 영역을 리스트로 저장\n",
    "rows = cursor.fetchall()\n",
    "for row in rows:\n",
    "    print(row)\n",
    "\n",
    "#리소스 정리\n",
    "cursor.close()\n",
    "conn.close()"
   ]
  },
  {
   "cell_type": "code",
   "execution_count": 9,
   "metadata": {},
   "outputs": [
    {
     "name": "stdout",
     "output_type": "stream",
     "text": [
      "UA\t13.7844\n",
      "CO\t13.0236\n",
      "AA\t12.8999\n",
      "B6\t12.4477\n",
      "EV\t11.7114\n",
      "YV\t11.5720\n",
      "OH\t11.1605\n",
      "XE\t11.0937\n",
      "MQ\t10.2998\n",
      "WN\t10.2763\n",
      "FL\t9.1839\n",
      "DL\t7.8880\n",
      "OO\t7.2953\n",
      "AS\t6.7527\n",
      "9E\t6.5856\n",
      "NW\t6.4098\n",
      "F9\t5.9011\n",
      "US\t5.6355\n",
      "HA\t0.4511\n",
      "AQ\t-1.3903\n"
     ]
    }
   ],
   "source": [
    "import MySQLdb\n",
    "conn = MySQLdb.connect(host='localhost', port=3306, db='ontime',\n",
    "                       user='web', passwd='1234')\n",
    "cursor = conn.cursor()\n",
    "#항공사별 출발지연 시간 평균\n",
    "cursor.execute('''select uniquecarrier, avg(depdelay)\n",
    "from ontime\n",
    "group by uniquecarrier\n",
    "order by avg(depdelay) desc''')\n",
    "rows = cursor.fetchall()\n",
    "    print('{}\\t{}'.format(row[0],row[1]))\n",
    "    \n",
    "cursor.close()\n",
    "conn.close()"
   ]
  },
  {
   "cell_type": "code",
   "execution_count": 10,
   "metadata": {},
   "outputs": [
    {
     "name": "stdout",
     "output_type": "stream",
     "text": [
      "UA\tUnited Air Lines Inc.\t13.7844\n",
      "CO\tContinental Air Lines Inc.\t13.0236\n",
      "AA\tAmerican Airlines Inc.\t12.8999\n",
      "B6\tJetBlue Airways\t12.4477\n",
      "EV\tAtlantic Southeast Airlines\t11.7114\n",
      "YV\tMesa Airlines Inc.\t11.5720\n",
      "OH\tComair Inc.\t11.1605\n",
      "XE\tExpressjet Airlines Inc.\t11.0937\n",
      "MQ\tAmerican Eagle Airlines Inc.\t10.2998\n",
      "WN\tSouthwest Airlines Co.\t10.2763\n",
      "FL\tAirTran Airways Corporation\t9.1839\n",
      "DL\tDelta Air Lines Inc.\t7.8880\n",
      "OO\tSkywest Airlines Inc.\t7.2953\n",
      "AS\tAlaska Airlines Inc.\t6.7527\n",
      "9E\tPinnacle Airlines Inc.\t6.5856\n",
      "NW\tNorthwest Airlines Inc.\t6.4098\n",
      "F9\tFrontier Airlines Inc.\t5.9011\n",
      "US\tUS Airways Inc. (Merged with America West 9/05. Reporting for both starting 10/07.)\t5.6355\n",
      "HA\tHawaiian Airlines Inc.\t0.4511\n",
      "AQ\tAloha Airlines Inc.\t-1.3903\n"
     ]
    }
   ],
   "source": [
    "import MySQLdb\n",
    "conn = MySQLdb.connect(host='localhost', port=3306, db='ontime',\n",
    "                      user='web', passwd='1234')\n",
    "\n",
    "cursor = conn.cursor()\n",
    "#항공사별 출발지연 시간\n",
    "cursor.execute('''select uniquecarrier,description, avg(depdelay)\n",
    "from ontime o, carrier c\n",
    "where o.uniquecarrier =c.code \n",
    "group by uniquecarrier, description\n",
    "order by avg(depdelay) desc''')\n",
    "rows=cursor.fetchall()\n",
    "for row in rows:\n",
    "    print('{}\\t{}\\t{}'.format(row[0],row[1],row[2]))\n",
    "cursor.close()\n",
    "conn.close()"
   ]
  },
  {
   "cell_type": "code",
   "execution_count": 11,
   "metadata": {},
   "outputs": [
    {
     "name": "stdout",
     "output_type": "stream",
     "text": [
      "1\t279427\n",
      "2\t278902\n",
      "3\t294556\n",
      "4\t256142\n",
      "5\t254673\n",
      "6\t295897\n",
      "7\t264630\n",
      "8\t239737\n",
      "9\t169959\n",
      "10\t183582\n",
      "11\t181506\n",
      "12\t280493\n"
     ]
    }
   ],
   "source": [
    "import MySQLdb\n",
    "conn = MySQLdb.connect(host='localhost',port=3306, db='ontime',\n",
    "                      user='web',passwd='1234')\n",
    "cursor=conn.cursor()\n",
    "#월별 도착지연횟수\n",
    "cursor.execute('''select month,count(*) from ontime\n",
    "where arrdelay>0\n",
    "group by month''')\n",
    "rows=cursor.fetchall()\n",
    "for row in rows:\n",
    "    print('{}\\t{}'.format(row[0],row[1]))\n",
    "cursor.close()\n",
    "conn.close()"
   ]
  },
  {
   "cell_type": "code",
   "execution_count": 12,
   "metadata": {},
   "outputs": [
    {
     "name": "stdout",
     "output_type": "stream",
     "text": [
      "[1, 2, 3, 4, 5, 6, 7, 8, 9, 10, 11, 12]\n",
      "[279427, 278902, 294556, 256142, 254673, 295897, 264630, 239737, 169959, 183582, 181506, 280493]\n"
     ]
    }
   ],
   "source": [
    "x = list(range(1,13)) #1~12\n",
    "y=[]\n",
    "for row in rows:\n",
    "    y.append(row[1])\n",
    "print(x)\n",
    "print(y)\n"
   ]
  },
  {
   "cell_type": "code",
   "execution_count": 13,
   "metadata": {},
   "outputs": [
    {
     "data": {
      "text/plain": [
       "<matplotlib.axes._subplots.AxesSubplot at 0x212cfbedf08>"
      ]
     },
     "execution_count": 13,
     "metadata": {},
     "output_type": "execute_result"
    },
    {
     "data": {
      "image/png": "[encoded data removed]",
      "text/plain": [
       "<Figure size 432x288 with 1 Axes>"
      ]
     },
     "metadata": {
      "needs_background": "light"
     },
     "output_type": "display_data"
    }
   ],
   "source": [
    "import pandas as pd #판다스 로딩\n",
    "#그래프 출력 옵션\n",
    "%matplotlib inline \n",
    "#그래프 출력을 위해 시리즈(1차원 자료형) 타입으로 변환\n",
    "s1=pd.Series(y, index=x)\n",
    "#막대 그래프 출력\n",
    "s1.plot(kind='bar')"
   ]
  },
  {
   "cell_type": "code",
   "execution_count": 16,
   "metadata": {},
   "outputs": [
    {
     "name": "stdout",
     "output_type": "stream",
     "text": [
      "1\t8.0303\n",
      "2\t7.2923\n",
      "3\t6.3798\n",
      "4\t8.2465\n",
      "5\t10.6752\n",
      "6\t5.6825\n",
      "7\t9.2941\n"
     ]
    }
   ],
   "source": [
    "import MySQLdb\n",
    "conn = MySQLdb.connect(host='localhost', port=3306, db='ontime',\n",
    "                      user='web', passwd='1234')\n",
    "cursor = conn.cursor()\n",
    "#요일별 평균도착 지연 시간\n",
    "cursor.execute('''select dayofweek, avg(arrdelay)\n",
    "from ontime\n",
    "group by dayofweek''')\n",
    "rows=cursor.fetchall()\n",
    "for row in rows:\n",
    "    print('{}\\t{}'.format(row[0],row[1]))\n",
    "cursor.close()\n",
    "conn.close()"
   ]
  },
  {
   "cell_type": "code",
   "execution_count": 22,
   "metadata": {},
   "outputs": [
    {
     "name": "stdout",
     "output_type": "stream",
     "text": [
      "['월', '화', '수', '목', '금', '토', '일']\n",
      "[8.0303, 7.2923, 6.3798, 8.2465, 10.6752, 5.6825, 9.2941]\n"
     ]
    }
   ],
   "source": [
    "x=['월','화','수','목','금','토','일']\n",
    "y=[]\n",
    "for row in rows:\n",
    "    y.append(float(row[1])) #float 자료형으로 변환\n",
    "print(x) \n",
    "print(y)"
   ]
  },
  {
   "cell_type": "code",
   "execution_count": 18,
   "metadata": {},
   "outputs": [
    {
     "data": {
      "text/plain": [
       "(array([ 0,  1,  2,  3,  4,  5,  6,  7,  8,  9, 10, 11]),\n",
       " <a list of 12 Text xticklabel objects>)"
      ]
     },
     "execution_count": 18,
     "metadata": {},
     "output_type": "execute_result"
    },
    {
     "data": {
      "image/png": "[encoded data removed]",
      "text/plain": [
       "<Figure size 432x288 with 1 Axes>"
      ]
     },
     "metadata": {
      "needs_background": "light"
     },
     "output_type": "display_data"
    }
   ],
   "source": [
    "import pandas as pd\n",
    "import matplotlib.pyplot as plt\n",
    "%matplotlib inline\n",
    "from matplotlib import rc,font_manager\n",
    "font_name=font_manager.FontProperties(\n",
    "fname='c:/windows/fonts/gulim.ttc').get_name()\n",
    "rc('font',family=font_name) #한글이 지원되는 포트로 변경\n",
    "\n",
    "s1=pd.Series(y, index=x) #시리즈 타입으로 변환\n",
    "s1.plot(kind='bar')\n",
    "plt.title('요일별 도착 지연시간 평균값')#그래프의 제목\n",
    "plt.xticks(rotation=0) #x축 value의 회전각도를 0으로 설정"
   ]
  },
  {
   "cell_type": "code",
   "execution_count": 28,
   "metadata": {},
   "outputs": [
    {
     "name": "stdout",
     "output_type": "stream",
     "text": [
      "2202\t-28.0000\n",
      "2216\t-22.2500\n",
      "1807\t-20.0000\n",
      "2154\t-17.6667\n",
      "1948\t-16.0000\n",
      "2253\t-15.7500\n",
      "2148\t-15.5714\n",
      "551\t-15.5000\n",
      "2212\t-15.4000\n",
      "2104\t-15.3750\n"
     ]
    }
   ],
   "source": [
    "import MySQLdb\n",
    "conn=MySQLdb.connect(host='localhost', port=3306, db='ontime',\n",
    "                    user='web', passwd='1234')\n",
    "cursor=conn.cursor()\n",
    "#10월 월요일에 출발할 때 도착지연이 가장 적은 시간대는?\n",
    "cursor.execute('''select CRSDepTime,avg(arrdelay)\n",
    "from ontime\n",
    "where month=10 and dayofweek=1\n",
    "group by CRSDepTime\n",
    "order by avg(arrdelay)\n",
    "limit 10''')\n",
    "rows = cursor.fetchall()\n",
    "for row in rows:\n",
    "    print('{}\\t{}'.format(row[0],row[1]))\n",
    "cursor.close()\n",
    "conn.close()"
   ]
  },
  {
   "cell_type": "code",
   "execution_count": null,
   "metadata": {},
   "outputs": [],
   "source": []
  },
  {
   "cell_type": "code",
   "execution_count": null,
   "metadata": {},
   "outputs": [],
   "source": []
  },
  {
   "cell_type": "code",
   "execution_count": null,
   "metadata": {},
   "outputs": [],
   "source": []
  },
  {
   "cell_type": "code",
   "execution_count": null,
   "metadata": {},
   "outputs": [],
   "source": []
  },
  {
   "cell_type": "code",
   "execution_count": null,
   "metadata": {},
   "outputs": [],
   "source": []
  },
  {
   "cell_type": "code",
   "execution_count": null,
   "metadata": {},
   "outputs": [],
   "source": []
  },
  {
   "cell_type": "code",
   "execution_count": null,
   "metadata": {},
   "outputs": [],
   "source": []
  },
  {
   "cell_type": "code",
   "execution_count": null,
   "metadata": {},
   "outputs": [],
   "source": []
  },
  {
   "cell_type": "code",
   "execution_count": null,
   "metadata": {},
   "outputs": [],
   "source": []
  },
  {
   "cell_type": "code",
   "execution_count": null,
   "metadata": {},
   "outputs": [],
   "source": []
  },
  {
   "cell_type": "code",
   "execution_count": null,
   "metadata": {},
   "outputs": [],
   "source": []
  },
  {
   "cell_type": "code",
   "execution_count": null,
   "metadata": {},
   "outputs": [],
   "source": []
  },
  {
   "cell_type": "code",
   "execution_count": null,
   "metadata": {},
   "outputs": [],
   "source": []
  },
  {
   "cell_type": "code",
   "execution_count": null,
   "metadata": {},
   "outputs": [],
   "source": []
  }
 ],
 "metadata": {
  "kernelspec": {
   "display_name": "Python 3",
   "language": "python",
   "name": "python3"
  },
  "language_info": {
   "codemirror_mode": {
    "name": "ipython",
    "version": 3
   },
   "file_extension": ".py",
   "mimetype": "text/x-python",
   "name": "python",
   "nbconvert_exporter": "python",
   "pygments_lexer": "ipython3",
   "version": "3.7.4"
  }
 },
 "nbformat": 4,
 "nbformat_minor": 2
}
