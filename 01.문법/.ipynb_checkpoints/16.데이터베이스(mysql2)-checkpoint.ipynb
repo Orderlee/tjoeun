{
 "cells": [
  {
   "cell_type": "code",
   "execution_count": 2,
   "metadata": {},
   "outputs": [
    {
     "name": "stdout",
     "output_type": "stream",
     "text": [
      "['A', '001-1001', '2341', '1000.0', '2019-01-20']\n",
      "['A', '001-1001', '2341', '1000.0', '2019-01-20']\n",
      "['A', '001-1001', '5467', '1000.0', '2019-01-20']\n",
      "['A', '001-1001', '5467', '1000.0', '2019-01-20']\n",
      "['B', '50-9501', '7009', '250000.0', '2018-01-30']\n",
      "['B', '50-9501', '7009', '250000.0', '2018-01-30']\n",
      "['B', '50-9505', '6650', '125000.0', '2017-02-03']\n",
      "['B', '50-9505', '6650', '125000.0', '2017-02-03']\n",
      "['C', '920-4803', '3321', '615000.0', '2017-02-03']\n",
      "['C', '920-4804', '3321', '615000.0', '2017-02-10']\n",
      "['C', '920-4805', '3321', '615000.0', '2017-02-17']\n",
      "['C', '920-4806', '3321', '615000.0', '2017-02-24']\n"
     ]
    }
   ],
   "source": [
    "import MySQLdb # mysql 모듈\n",
    "#mysql에 접속\n",
    "conn=MySQLdb.connect(host='localhost',port=3306,db='my_suppliers',user='web',passwd='1234')\n",
    "#커서 생성(레코드를 탐색하는 객체)\n",
    "cursor=conn.cursor()\n",
    "# 따옴표 3개 - 여러줄 작성 가능\n",
    "sql='''update suppliers set cost=%s, purchase_date=%s where supplier_name=%s'''\n",
    "#sql 명령어를 실행함\n",
    "cursor.execute(sql, (1000,'2019-01-20','A'))\n",
    "#insert,update,delete의 경우 commit()을 해야 확정됨\n",
    "conn.commit()\n",
    "cursor.execute('select * from suppliers')\n",
    "#모든 레코드를 2차원 튜플로 저장\n",
    "rows=cursor.fetchall()\n",
    "for row in rows:\n",
    "    output=[]\n",
    "    for idx in range(len(row)):\n",
    "        output.append(str(row[idx]))\n",
    "    print(output)\n",
    "#db 접속 종료    \n",
    "conn.close()"
   ]
  },
  {
   "cell_type": "code",
   "execution_count": null,
   "metadata": {},
   "outputs": [],
   "source": []
  },
  {
   "cell_type": "code",
   "execution_count": null,
   "metadata": {},
   "outputs": [],
   "source": []
  }
 ],
 "metadata": {
  "kernelspec": {
   "display_name": "Python 3",
   "language": "python",
   "name": "python3"
  },
  "language_info": {
   "codemirror_mode": {
    "name": "ipython",
    "version": 3
   },
   "file_extension": ".py",
   "mimetype": "text/x-python",
   "name": "python",
   "nbconvert_exporter": "python",
   "pygments_lexer": "ipython3",
   "version": "3.7.4"
  }
 },
 "nbformat": 4,
 "nbformat_minor": 2
}
