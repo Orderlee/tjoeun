{
 "cells": [
  {
   "cell_type": "code",
   "execution_count": 24,
   "metadata": {},
   "outputs": [
    {
     "name": "stdout",
     "output_type": "stream",
     "text": [
      "학번\t학과명\t\t이름\t과목명\t\t담당교수\t학점\t등급\t평점\n",
      "================================================================================\n",
      "9411\t컴퓨터공학과\t서진수\tpython    \t조인형\t3\tA+\n",
      "9411\t컴퓨터공학과\t서진수\t데이터베이스    \t박승곤\t2\tB+\n",
      "9412\t멀티미디어공학과\t서재수\t빅데이터      \t송도권\t3\tC0\n",
      "9413\t소프트웨어공학과\t이미경\tpython    \t조인형\t3\tA0\n",
      "9413\t소프트웨어공학과\t이미경\t데이터베이스    \t박승곤\t2\tF\n"
     ]
    }
   ],
   "source": [
    "import cx_Oracle #오라클 연동 모듈 로딩\n",
    "#오라클 서버에 접속        아이디/비번@호스트:포트번호/sid\n",
    "conn = cx_Oracle.connect('hr/hr@localhost:1521/xe')\n",
    "#커서 오픈\n",
    "cursor=conn.cursor()\n",
    "#sql 명령어 작성\n",
    "sql='select * from lecture_v'\n",
    "#sql 명령어가 실행됨\n",
    "cursor.execute(sql)\n",
    "#커서를 이용하여 전체 레코드셋을 리스트로 저장\n",
    "rows=cursor.fetchall()\n",
    "print('학번\\t학과명\\t\\t이름\\t과목명\\t\\t담당교수\\t학점\\t등급\\t평점')\n",
    "print('='*80)\n",
    "#평점 추가 A+부터 F까지 4.5,4.0,3.5,3.0,2.5,2.0...\n",
    "for row in rows:\n",
    "    print('{}\\t{}\\t{}\\t{:10s}\\t{}\\t{}\\t{}'.format(\n",
    "        row[0],row[1],row[2],row[3],row[4],row[5],row[6]))\n",
    "\n",
    "cursor.close()\n",
    "conn.close()"
   ]
  },
  {
   "cell_type": "code",
   "execution_count": 111,
   "metadata": {},
   "outputs": [
    {
     "name": "stdout",
     "output_type": "stream",
     "text": [
      "학번\t학과명\t\t이름\t과목명\t\t담당교수\t학점\t등급\t평점\n",
      "================================================================================\n"
     ]
    },
    {
     "ename": "TypeError",
     "evalue": "'tuple' object does not support item assignment",
     "output_type": "error",
     "traceback": [
      "\u001b[1;31m---------------------------------------------------------------------------\u001b[0m",
      "\u001b[1;31mTypeError\u001b[0m                                 Traceback (most recent call last)",
      "\u001b[1;32m<ipython-input-111-6dbfc73825da>\u001b[0m in \u001b[0;36m<module>\u001b[1;34m\u001b[0m\n\u001b[0;32m     27\u001b[0m         \u001b[0mrow\u001b[0m\u001b[1;33m[\u001b[0m\u001b[1;36m6\u001b[0m\u001b[1;33m]\u001b[0m\u001b[1;33m==\u001b[0m\u001b[1;36m2.5\u001b[0m\u001b[1;33m\u001b[0m\u001b[1;33m\u001b[0m\u001b[0m\n\u001b[0;32m     28\u001b[0m     \u001b[1;32melse\u001b[0m\u001b[1;33m:\u001b[0m\u001b[1;33m\u001b[0m\u001b[1;33m\u001b[0m\u001b[0m\n\u001b[1;32m---> 29\u001b[1;33m         \u001b[0mrow\u001b[0m\u001b[1;33m[\u001b[0m\u001b[1;36m6\u001b[0m\u001b[1;33m]\u001b[0m\u001b[1;33m=\u001b[0m\u001b[1;36m1.0\u001b[0m\u001b[1;33m\u001b[0m\u001b[1;33m\u001b[0m\u001b[0m\n\u001b[0m\u001b[0;32m     30\u001b[0m     \u001b[1;32mbreak\u001b[0m\u001b[1;33m\u001b[0m\u001b[1;33m\u001b[0m\u001b[0m\n\u001b[0;32m     31\u001b[0m \u001b[1;33m\u001b[0m\u001b[0m\n",
      "\u001b[1;31mTypeError\u001b[0m: 'tuple' object does not support item assignment"
     ]
    }
   ],
   "source": [
    "import cx_Oracle #오라클 연동 모듈 로딩\n",
    "#오라클 서버에 접속        아이디/비번@호스트:포트번호/sid\n",
    "conn = cx_Oracle.connect('hr/hr@localhost:1521/xe')\n",
    "#커서 오픈\n",
    "cursor=conn.cursor()\n",
    "#sql 명령어 작성\n",
    "sql='select * from lecture_v'\n",
    "#sql 명령어가 실행됨\n",
    "cursor.execute(sql)\n",
    "#커서를 이용하여 전체 레코드셋을 리스트로 저장\n",
    "rows=cursor.fetchall()\n",
    "print('학번\\t학과명\\t\\t이름\\t과목명\\t\\t담당교수\\t학점\\t등급\\t평점')\n",
    "print('='*80)\n",
    "#평점 추가 A+부터 F까지 4.5,4.0,3.5,3.0,2.5,2.0...\n",
    "#최종출력결과물을 d:/data/student 폴더 만들고\n",
    "# d:/data/student/lecture.csv로 저장\n",
    "\n",
    "for row in rows:\n",
    "    \n",
    "    if row[5] == 'A+':\n",
    "        row[6]=4.5\n",
    "    elif row[5] =='A0':\n",
    "        row[6]=4.0\n",
    "    elif row[5]== 'B+':\n",
    "        row[6]=3.5\n",
    "    elif row[5] =='C0':\n",
    "        row[6]==2.5\n",
    "    else:\n",
    "        row[6]=1.0\n",
    "    break\n",
    "              \n",
    "   \n",
    "    print('{}\\t{}\\t{}\\t{:10s}\\t{}\\t{}\\t{}'.format(\n",
    "        row[0],row[1],row[2],row[3],row[4],row[5],row[6]))\n",
    "\n",
    "cursor.close()\n",
    "conn.close()"
   ]
  },
  {
   "cell_type": "code",
   "execution_count": null,
   "metadata": {},
   "outputs": [],
   "source": []
  },
  {
   "cell_type": "code",
   "execution_count": null,
   "metadata": {},
   "outputs": [],
   "source": []
  }
 ],
 "metadata": {
  "kernelspec": {
   "display_name": "Python 3",
   "language": "python",
   "name": "python3"
  },
  "language_info": {
   "codemirror_mode": {
    "name": "ipython",
    "version": 3
   },
   "file_extension": ".py",
   "mimetype": "text/x-python",
   "name": "python",
   "nbconvert_exporter": "python",
   "pygments_lexer": "ipython3",
   "version": "3.7.4"
  }
 },
 "nbformat": 4,
 "nbformat_minor": 2
}
