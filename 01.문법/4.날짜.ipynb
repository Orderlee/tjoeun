{
 "cells": [
  {
   "cell_type": "code",
   "execution_count": 2,
   "metadata": {},
   "outputs": [
    {
     "name": "stdout",
     "output_type": "stream",
     "text": [
      "3.141592653589793\n"
     ]
    }
   ],
   "source": [
    "import math #math 모듈을 불러옴\n",
    "\n",
    "print(math.pi)"
   ]
  },
  {
   "cell_type": "code",
   "execution_count": 4,
   "metadata": {},
   "outputs": [
    {
     "name": "stdout",
     "output_type": "stream",
     "text": [
      "2019-10-24\n",
      "연도: 2019\n",
      "월: 10\n",
      "일: 24\n",
      "2019-10-24 14:42:17.834896\n"
     ]
    }
   ],
   "source": [
    "# datetime 모듈에서 date\n",
    "from datetime import date\n",
    "\n",
    "today=date.today() #시스템의 현재 날짜\n",
    "print(today)\n",
    "print(\"연도:\",today.year) #연도\n",
    "print(\"월:\",today.month) #월\n",
    "print(\"일:\",today.day) #일"
   ]
  },
  {
   "cell_type": "code",
   "execution_count": 7,
   "metadata": {},
   "outputs": [
    {
     "name": "stdout",
     "output_type": "stream",
     "text": [
      "2019-10-24 14:45:41.053128\n"
     ]
    }
   ],
   "source": [
    "#날짜와 시간을 함께 보고 싶을 경우\n",
    "from datetime import datetime\n",
    "print(datetime.today())"
   ]
  },
  {
   "cell_type": "code",
   "execution_count": 8,
   "metadata": {},
   "outputs": [
    {
     "name": "stdout",
     "output_type": "stream",
     "text": [
      "2019-10-24 14:48:09.387453\n"
     ]
    }
   ],
   "source": [
    "import datetime\n",
    "print(datetime.datetime.today())"
   ]
  },
  {
   "cell_type": "code",
   "execution_count": 22,
   "metadata": {},
   "outputs": [
    {
     "name": "stdout",
     "output_type": "stream",
     "text": [
      "2019-10-24 15:02:47.009915\n",
      "1571896967.009915\n"
     ]
    }
   ],
   "source": [
    "from datetime import datetime\n",
    "\n",
    "current = datetime.now() #현재 날짜/시각\n",
    "print(current)\n",
    "print(current.timestamp()) #타임스탬프\n",
    "#1970년 1월 1일 자정을 0.0으로 기준하여 특정 시점까지의 초"
   ]
  },
  {
   "cell_type": "code",
   "execution_count": 18,
   "metadata": {},
   "outputs": [
    {
     "name": "stdout",
     "output_type": "stream",
     "text": [
      "2019-10-23 14:58:49.163749\n",
      "2019-10-17 14:58:49.163749\n",
      "2019-09-24 14:58:49.163749\n",
      "2019-09-24 14:58:49.163749\n"
     ]
    }
   ],
   "source": [
    "from datetime import timedelta\n",
    "days=timedelta(days=-1) #하루전\n",
    "print(today+days)\n",
    "\n",
    "days=timedelta(days=-7) #7일 전\n",
    "print(today+days)\n",
    "\n",
    "days=timedelta(days=-30) #30일 전\n",
    "print(today+days)\n",
    "\n",
    "hours=timedelta(hours=-8) #8시간 전\n",
    "print(today+days)"
   ]
  },
  {
   "cell_type": "code",
   "execution_count": 17,
   "metadata": {},
   "outputs": [
    {
     "name": "stdout",
     "output_type": "stream",
     "text": [
      "10/24/2019\n",
      "2019-10-24 14:58:49\n",
      "19-10-24 02:58:49\n"
     ]
    }
   ],
   "source": [
    "# string format time 날짜를 스트링 형식으로 변환하는 함수\n",
    "from datetime import datetime\n",
    "today=datetime.today()\n",
    "print(today.strftime(\"%m/%d/%Y\")) #Y 4자리 연도\n",
    "print(today.strftime(\"%Y-%m-%d %H:%M:%S\")) # H 24시간제\n",
    "print(today.strftime(\"%y-%m-%d %I:%M:%S\")) # I 12시간제"
   ]
  },
  {
   "cell_type": "code",
   "execution_count": 30,
   "metadata": {},
   "outputs": [
    {
     "ename": "TypeError",
     "evalue": "can only concatenate str (not \"datetime.timedelta\") to str",
     "output_type": "error",
     "traceback": [
      "\u001b[1;31m---------------------------------------------------------------------------\u001b[0m",
      "\u001b[1;31mTypeError\u001b[0m                                 Traceback (most recent call last)",
      "\u001b[1;32m<ipython-input-30-239ff440d7d0>\u001b[0m in \u001b[0;36m<module>\u001b[1;34m\u001b[0m\n\u001b[0;32m      1\u001b[0m \u001b[0mdateStr\u001b[0m\u001b[1;33m=\u001b[0m\u001b[1;34m'2019-10-24 15:08:25'\u001b[0m \u001b[1;31m#문자열\u001b[0m\u001b[1;33m\u001b[0m\u001b[1;33m\u001b[0m\u001b[0m\n\u001b[0;32m      2\u001b[0m \u001b[0mdays\u001b[0m\u001b[1;33m=\u001b[0m\u001b[0mtimedelta\u001b[0m\u001b[1;33m(\u001b[0m\u001b[0mdays\u001b[0m\u001b[1;33m=\u001b[0m\u001b[1;33m-\u001b[0m\u001b[1;36m1\u001b[0m\u001b[1;33m)\u001b[0m \u001b[1;31m#하루전\u001b[0m\u001b[1;33m\u001b[0m\u001b[1;33m\u001b[0m\u001b[0m\n\u001b[1;32m----> 3\u001b[1;33m \u001b[0mprint\u001b[0m\u001b[1;33m(\u001b[0m\u001b[0mdateStr\u001b[0m \u001b[1;33m+\u001b[0m \u001b[0mdays\u001b[0m\u001b[1;33m)\u001b[0m \u001b[1;31m#스트링과 날짜형은 연산할 수 없음\u001b[0m\u001b[1;33m\u001b[0m\u001b[1;33m\u001b[0m\u001b[0m\n\u001b[0m",
      "\u001b[1;31mTypeError\u001b[0m: can only concatenate str (not \"datetime.timedelta\") to str"
     ]
    }
   ],
   "source": [
    "datestr='2019-10-24 15:08:25' #문자열\n",
    "days=timedelta(days=-1) #하루전\n",
    "print(datestr + days) #스트링과 날짜형은 연산할 수 없음"
   ]
  },
  {
   "cell_type": "code",
   "execution_count": 34,
   "metadata": {},
   "outputs": [
    {
     "name": "stdout",
     "output_type": "stream",
     "text": [
      "2019-10-24 15:08:25\n",
      "<class 'datetime.datetime'>\n",
      "2019-10-23 15:08:25\n"
     ]
    }
   ],
   "source": [
    "from datetime import datetime\n",
    "# strptime(스트링, 날짜형식) 스트링을 날짜로 변환\n",
    "myDate=datetime.strptime(datestr, '%Y-%m-%d %H:%M:%S')\n",
    "print(myDate)\n",
    "print(type(myDate))\n",
    "print(myDate + days)"
   ]
  },
  {
   "cell_type": "code",
   "execution_count": 44,
   "metadata": {},
   "outputs": [
    {
     "name": "stdout",
     "output_type": "stream",
     "text": [
      "2019-10-24 15:39:33.963894 1571899173.963894\n",
      "2019-10-24 15:39:34.976791 1571899174.976791\n",
      "2019-10-24 15:39:35.990390 1571899175.99039\n",
      "2019-10-24 15:39:37.005887 1571899177.005887\n",
      "2019-10-24 15:39:38.018353 1571899178.018353\n",
      "2019-10-24 15:39:39.033360 1571899179.03336\n",
      "2019-10-24 15:39:40.044627 1571899180.044627\n",
      "2019-10-24 15:39:41.055834 1571899181.055834\n",
      "2019-10-24 15:39:42.068781 1571899182.068781\n",
      "2019-10-24 15:39:43.081378 1571899183.081378\n"
     ]
    }
   ],
   "source": [
    "from datetime import datetime\n",
    "import time #time 모듈 로딩\n",
    "\n",
    "for i in range(10):\n",
    "    a=datetime.now() #시스템의 현재 시각\n",
    "    print(a, a.timestamp()) #현재시각과 타임스탬프\n",
    "    time.sleep(1) #1초간 멈춤"
   ]
  },
  {
   "cell_type": "code",
   "execution_count": 46,
   "metadata": {},
   "outputs": [
    {
     "name": "stdout",
     "output_type": "stream",
     "text": [
      "0 1 2 3 4 5 6 7 8 9 10 11 12 13 14 15 16 17 18 19 20 21 22 23 24 25 26 27 28 29 30 31 32 33 34 35 36 37 38 39 40 41 42 43 44 45 46 47 48 49 50 51 52 53 54 55 56 57 58 59 60 61 62 63 64 65 66 67 68 69 70 71 72 73 74 75 76 77 78 79 80 81 82 83 84 85 86 87 88 89 90 91 92 93 94 95 96 97 98 99 100 101 102 103 104 105 106 107 108 109 110 111 112 113 114 115 116 117 118 119 120 121 122 123 124 125 126 127 128 129 130 131 132 133 134 135 136 137 138 139 140 141 142 143 144 145 146 147 148 149 150 151 152 153 154 155 156 157 158 159 160 161 162 163 164 165 166 167 168 169 170 171 172 173 174 175 176 177 178 179 180 181 182 183 184 185 186 187 188 189 190 191 192 193 194 195 196 197 198 199 200 201 202 203 204 205 206 207 208 209 210 211 212 213 214 215 216 217 218 219 220 221 222 223 224 225 226 227 228 229 230 231 232 233 234 235 236 237 238 239 240 241 242 243 244 245 246 247 248 249 250 251 252 253 254 255 256 257 258 259 260 261 262 263 264 265 266 267 268 269 270 271 272 273 274 275 276 277 278 279 280 281 282 283 284 285 286 287 288 289 290 291 292 293 294 295 296 297 298 299 300 301 302 303 304 305 306 307 308 309 310 311 312 313 314 315 316 317 318 319 320 321 322 323 324 325 326 327 328 329 330 331 332 333 334 335 336 337 338 339 340 341 342 343 344 345 346 347 348 349 350 351 352 353 354 355 356 357 358 359 360 361 362 363 364 365 366 367 368 369 370 371 372 373 374 375 376 377 378 379 380 381 382 383 384 385 386 387 388 389 390 391 392 393 394 395 396 397 398 399 400 401 402 403 404 405 406 407 408 409 410 411 412 413 414 415 416 417 418 419 420 421 422 423 424 425 426 427 428 429 430 431 432 433 434 435 436 437 438 439 440 441 442 443 444 445 446 447 448 449 450 451 452 453 454 455 456 457 458 459 460 461 462 463 464 465 466 467 468 469 470 471 472 473 474 475 476 477 478 479 480 481 482 483 484 485 486 487 488 489 490 491 492 493 494 495 496 497 498 499 500 501 502 503 504 505 506 507 508 509 510 511 512 513 514 515 516 517 518 519 520 521 522 523 524 525 526 527 528 529 530 531 532 533 534 535 536 537 538 539 540 541 542 543 544 545 546 547 548 549 550 551 552 553 554 555 556 557 558 559 560 561 562 563 564 565 566 567 568 569 570 571 572 573 574 575 576 577 578 579 580 581 582 583 584 585 586 587 588 589 590 591 592 593 594 595 596 597 598 599 600 601 602 603 604 605 606 607 608 609 610 611 612 613 614 615 616 617 618 619 620 621 622 623 624 625 626 627 628 629 630 631 632 633 634 635 636 637 638 639 640 641 642 643 644 645 646 647 648 649 650 651 652 653 654 655 656 657 658 659 660 661 662 663 664 665 666 667 668 669 670 671 672 673 674 675 676 677 678 679 680 681 682 683 684 685 686 687 688 689 690 691 692 693 694 695 696 697 698 699 700 701 702 703 704 705 706 707 708 709 710 711 712 713 714 715 716 717 718 719 720 721 722 723 724 725 726 727 728 729 730 731 732 733 734 735 736 737 738 739 740 741 742 743 744 745 746 747 748 749 750 751 752 753 754 755 756 757 758 759 760 761 762 763 764 765 766 767 768 769 770 771 772 773 774 775 776 777 778 779 780 781 782 783 784 785 786 787 788 789 790 791 792 793 794 795 796 797 798 799 800 801 802 803 804 805 806 807 808 809 810 811 812 813 814 815 816 817 818 819 820 821 822 823 824 825 826 827 828 829 830 831 832 833 834 835 836 837 838 839 840 841 842 843 844 845 846 847 848 849 850 851 852 853 854 855 856 857 858 859 860 861 862 863 864 865 866 867 868 869 870 871 872 873 874 875 876 877 878 879 880 881 882 883 884 885 886 887 888 889 890 891 892 893 894 895 896 897 898 899 900 901 902 903 904 905 906 907 908 909 910 911 912 913 914 915 916 917 918 919 920 921 922 923 924 925 926 927 928 929 930 931 932 933 934 935 936 937 938 939 940 941 942 943 944 945 946 947 948 949 950 951 952 953 954 955 956 957 958 959 960 961 962 963 964 965 966 967 968 969 970 971 972 973 974 975 976 977 978 979 980 981 982 983 984 985 986 987 988 989 990 991 992 993 994 995 996 997 998 999 \n",
      "0.046849966049194336\n"
     ]
    }
   ],
   "source": [
    "#실행시간 측정\n",
    "import time #time 모듈 로딩\n",
    "start = time.time() #실행전 시간\n",
    "for a in range(1000):\n",
    "    print(a,end=' ')\n",
    "end = time.time() #실행후 시간\n",
    "print()\n",
    "print(end - start) #실행에 걸린 시간"
   ]
  },
  {
   "cell_type": "code",
   "execution_count": 50,
   "metadata": {},
   "outputs": [
    {
     "name": "stdout",
     "output_type": "stream",
     "text": [
      "start: 1571899619.5587049\n",
      "end: 1571899654.5677278\n",
      "\n",
      "35.0090229511261\n"
     ]
    }
   ],
   "source": [
    "#실행시간 측정\n",
    "import time #time 모듈 로딩\n",
    "start = time.time() #실행전 시간\n",
    "print(\"start:\",start)\n",
    "for a in range(100000000):\n",
    "    pass\n",
    "    #print(a,end=' ')\n",
    "end = time.time() #실행후 시간\n",
    "print(\"end:\",end)\n",
    "print()\n",
    "print(end - start) #실행에 걸린 시간"
   ]
  },
  {
   "cell_type": "code",
   "execution_count": 66,
   "metadata": {},
   "outputs": [
    {
     "name": "stdout",
     "output_type": "stream",
     "text": [
      "598 X 1 = 598\n",
      "598 X 2 = 1196\n",
      "598 X 3 = 1794\n",
      "598 X 4 = 2392\n",
      "598 X 5 = 2990\n",
      "598 X 6 = 3588\n",
      "598 X 7 = 4186\n",
      "598 X 8 = 4784\n",
      "598 X 9 = 5382\n",
      "실행시간: 9.096303939819336\n"
     ]
    }
   ],
   "source": [
    "#구구단 출력하지\n",
    "import time\n",
    "n = 598\n",
    "start = time.time() #실행 전 시간\n",
    "for i in range(1,10):\n",
    "    print('{} X {} = {}'.format(n,i,n*i))\n",
    "    time.sleep(1)\n",
    "end = time.time() #실행 후 시간\n",
    "print(\"실행시간:\" ,(end-start))"
   ]
  },
  {
   "cell_type": "code",
   "execution_count": 72,
   "metadata": {},
   "outputs": [
    {
     "data": {
      "text/plain": [
       "'    October 2019\\nMo Tu We Th Fr Sa Su\\n    1  2  3  4  5  6\\n 7  8  9 10 11 12 13\\n14 15 16 17 18 19 20\\n21 22 23 24 25 26 27\\n28 29 30 31\\n'"
      ]
     },
     "execution_count": 72,
     "metadata": {},
     "output_type": "execute_result"
    }
   ],
   "source": [
    "import calendar #캘린더 모듈\n",
    "#print(calendar.calendar(2019)) #달력이 출력됨\n",
    "#print(calendar.month(2019,10)) #원하는 월 출력\n",
    "calendar.month(2019,10)"
   ]
  },
  {
   "cell_type": "code",
   "execution_count": 74,
   "metadata": {},
   "outputs": [
    {
     "name": "stdout",
     "output_type": "stream",
     "text": [
      "    October 2019\n",
      "Mo Tu We Th Fr Sa Su\n",
      "    1  2  3  4  5  6\n",
      " 7  8  9 10 11 12 13\n",
      "14 15 16 17 18 19 20\n",
      "21 22 23 24 25 26 27\n",
      "28 29 30 31\n"
     ]
    }
   ],
   "source": [
    "# print() 함수 없이도 출력됨\n",
    "#calendar.prcal(2019)\n",
    "calendar.prmonth(2019,10)"
   ]
  },
  {
   "cell_type": "code",
   "execution_count": 75,
   "metadata": {},
   "outputs": [
    {
     "name": "stdout",
     "output_type": "stream",
     "text": [
      "3\n"
     ]
    }
   ],
   "source": [
    "day=calendar.weekday(2019,10,24)\n",
    "print(day) #월요일 기준"
   ]
  },
  {
   "cell_type": "code",
   "execution_count": 87,
   "metadata": {},
   "outputs": [
    {
     "name": "stdout",
     "output_type": "stream",
     "text": [
      "1\n",
      "수료일자: 화요일 입니다.\n"
     ]
    }
   ],
   "source": [
    "yoil = ['월','화','수','목','금','토','일']\n",
    "#day = calendar.weekday(2020,8,15)\n",
    "#print(day)\n",
    "#day = calendar.weekday(2020,1,1)\n",
    "#print(day)\n",
    "day = calendar.weekday(2020,3,31)\n",
    "print(day)\n",
    "#print(\"광복절은\",yoil[day]+\"요일 입니다.\")\n",
    "#print(\"내년 신정은\",yoil[day]+\"요일 입니다.\")\n",
    "print(\"수료일자:\",yoil[day]+\"요일 입니다.\")"
   ]
  },
  {
   "cell_type": "code",
   "execution_count": 83,
   "metadata": {},
   "outputs": [
    {
     "name": "stdout",
     "output_type": "stream",
     "text": [
      "월\n",
      "수\n",
      "토\n"
     ]
    }
   ],
   "source": [
    "print(yoil[0])\n",
    "print(yoil[2])\n",
    "print(yoil[5])"
   ]
  },
  {
   "cell_type": "code",
   "execution_count": null,
   "metadata": {},
   "outputs": [],
   "source": []
  },
  {
   "cell_type": "code",
   "execution_count": null,
   "metadata": {},
   "outputs": [],
   "source": []
  },
  {
   "cell_type": "code",
   "execution_count": null,
   "metadata": {},
   "outputs": [],
   "source": []
  },
  {
   "cell_type": "code",
   "execution_count": null,
   "metadata": {},
   "outputs": [],
   "source": []
  },
  {
   "cell_type": "code",
   "execution_count": null,
   "metadata": {},
   "outputs": [],
   "source": []
  },
  {
   "cell_type": "code",
   "execution_count": null,
   "metadata": {},
   "outputs": [],
   "source": []
  },
  {
   "cell_type": "code",
   "execution_count": null,
   "metadata": {},
   "outputs": [],
   "source": []
  },
  {
   "cell_type": "code",
   "execution_count": null,
   "metadata": {},
   "outputs": [],
   "source": []
  },
  {
   "cell_type": "code",
   "execution_count": null,
   "metadata": {},
   "outputs": [],
   "source": []
  },
  {
   "cell_type": "code",
   "execution_count": null,
   "metadata": {},
   "outputs": [],
   "source": []
  },
  {
   "cell_type": "code",
   "execution_count": null,
   "metadata": {},
   "outputs": [],
   "source": []
  },
  {
   "cell_type": "code",
   "execution_count": null,
   "metadata": {},
   "outputs": [],
   "source": []
  },
  {
   "cell_type": "code",
   "execution_count": null,
   "metadata": {},
   "outputs": [],
   "source": []
  },
  {
   "cell_type": "code",
   "execution_count": null,
   "metadata": {},
   "outputs": [],
   "source": []
  },
  {
   "cell_type": "code",
   "execution_count": null,
   "metadata": {},
   "outputs": [],
   "source": []
  },
  {
   "cell_type": "code",
   "execution_count": null,
   "metadata": {},
   "outputs": [],
   "source": []
  },
  {
   "cell_type": "code",
   "execution_count": null,
   "metadata": {},
   "outputs": [],
   "source": []
  },
  {
   "cell_type": "code",
   "execution_count": null,
   "metadata": {},
   "outputs": [],
   "source": []
  },
  {
   "cell_type": "code",
   "execution_count": null,
   "metadata": {},
   "outputs": [],
   "source": []
  },
  {
   "cell_type": "code",
   "execution_count": null,
   "metadata": {},
   "outputs": [],
   "source": []
  },
  {
   "cell_type": "code",
   "execution_count": null,
   "metadata": {},
   "outputs": [],
   "source": []
  },
  {
   "cell_type": "code",
   "execution_count": null,
   "metadata": {},
   "outputs": [],
   "source": []
  }
 ],
 "metadata": {
  "kernelspec": {
   "display_name": "Python 3",
   "language": "python",
   "name": "python3"
  },
  "language_info": {
   "codemirror_mode": {
    "name": "ipython",
    "version": 3
   },
   "file_extension": ".py",
   "mimetype": "text/x-python",
   "name": "python",
   "nbconvert_exporter": "python",
   "pygments_lexer": "ipython3",
   "version": "3.7.4"
  }
 },
 "nbformat": 4,
 "nbformat_minor": 2
}
