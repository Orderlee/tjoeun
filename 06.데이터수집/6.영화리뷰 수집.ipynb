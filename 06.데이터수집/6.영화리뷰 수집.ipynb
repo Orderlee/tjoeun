{
 "cells": [
  {
   "cell_type": "code",
   "execution_count": 6,
   "metadata": {},
   "outputs": [
    {
     "name": "stdout",
     "output_type": "stream",
     "text": [
      "완료되었습니다.\n"
     ]
    }
   ],
   "source": [
    "from urllib.request import urlopen\n",
    "from bs4 import BeautifulSoup\n",
    "\n",
    "file=open('d:/data/movie/두리틀.txt','w',encoding='utf-8')\n",
    "review_list=[]\n",
    "url='https://movie.daum.net/moviedb/grade?movieId=126072&type=netizen&page=1'\n",
    "webpage=urlopen(url)\n",
    "source=BeautifulSoup(webpage)\n",
    "reviews=source.select('#mArticle > div.detail_movie.detail_rating > div.movie_detail > div.main_detail > ul > li > div > p')\n",
    "review_list=[]\n",
    "for review in reviews:\n",
    "    a=review.text.strip()\n",
    "    review_list.append(a)\n",
    "    \n",
    "for review in review_list:\n",
    "    file.write(review+'\\n')\n",
    "\n",
    "file.close()\n",
    "print('완료되었습니다.')"
   ]
  },
  {
   "cell_type": "code",
   "execution_count": 3,
   "metadata": {},
   "outputs": [
    {
     "name": "stdout",
     "output_type": "stream",
     "text": [
      "https://movie.daum.net/moviedb/grade?movieId=126072&type=netizen&page=1\n",
      "10\n",
      "https://movie.daum.net/moviedb/grade?movieId=126072&type=netizen&page=2\n",
      "10\n",
      "https://movie.daum.net/moviedb/grade?movieId=126072&type=netizen&page=3\n",
      "10\n",
      "https://movie.daum.net/moviedb/grade?movieId=126072&type=netizen&page=4\n",
      "10\n",
      "https://movie.daum.net/moviedb/grade?movieId=126072&type=netizen&page=5\n",
      "10\n",
      "https://movie.daum.net/moviedb/grade?movieId=126072&type=netizen&page=6\n",
      "10\n",
      "https://movie.daum.net/moviedb/grade?movieId=126072&type=netizen&page=7\n",
      "9\n",
      "https://movie.daum.net/moviedb/grade?movieId=126072&type=netizen&page=8\n",
      "0\n",
      "완료되었습니다.\n"
     ]
    }
   ],
   "source": [
    "from urllib.request import urlopen\n",
    "from bs4 import BeautifulSoup\n",
    "\n",
    "file=open('d:/data/movie/두리틀.txt','w',encoding='utf-8')\n",
    "\n",
    "review_list=[] #결과 리스트\n",
    "for n in range(1,101):\n",
    "    url='https://movie.daum.net/moviedb/grade?movieId=126072&type=netizen&page={}'.format(n)\n",
    "    print(url)\n",
    "    webpage=urlopen(url) #url 접속\n",
    "    source=BeautifulSoup(webpage) #html 해석\n",
    "    #찾을 패턴\n",
    "    reviews=source.select('#mArticle > div.detail_movie.detail_rating > div.movie_detail > div.main_detail > ul > li > div > p')\n",
    "    print(len(reviews))\n",
    "    if len(reviews) == 0: break\n",
    "    for review in reviews:\n",
    "        a=review.text.strip() #좌우 공백 제거\n",
    "        review_list.append(a) #결과 리스트에 추가\n",
    "    \n",
    "for review in review_list:\n",
    "    file.write(review+'\\n')\n",
    "\n",
    "file.close()\n",
    "print('완료되었습니다.')"
   ]
  },
  {
   "cell_type": "code",
   "execution_count": 9,
   "metadata": {},
   "outputs": [
    {
     "name": "stdout",
     "output_type": "stream",
     "text": [
      "https://movie.daum.net/moviedb/grade?movieId=126072&type=netizen&page=1\n",
      "10\n",
      "https://movie.daum.net/moviedb/grade?movieId=126072&type=netizen&page=2\n",
      "10\n",
      "https://movie.daum.net/moviedb/grade?movieId=126072&type=netizen&page=3\n",
      "10\n",
      "https://movie.daum.net/moviedb/grade?movieId=126072&type=netizen&page=4\n",
      "10\n",
      "https://movie.daum.net/moviedb/grade?movieId=126072&type=netizen&page=5\n",
      "10\n",
      "완료되었습니다.\n"
     ]
    }
   ],
   "source": [
    "from urllib.request import urlopen\n",
    "from bs4 import BeautifulSoup\n",
    "\n",
    "file=open('d:/data/movie/두리틀.csv','w',encoding='utf-8')\n",
    "\n",
    "review_list=[] #리뷰 리스트\n",
    "point_list=[] #점수 리스트\n",
    "for n in range(1,6):\n",
    "    url='https://movie.daum.net/moviedb/grade?movieId=126072&type=netizen&page={}'.format(n)\n",
    "    print(url)\n",
    "    webpage=urlopen(url) #url 접속\n",
    "    source=BeautifulSoup(webpage) #html 해석\n",
    "    #찾을 패턴\n",
    "    reviews=source.select('#mArticle > div.detail_movie.detail_rating > div.movie_detail > div.main_detail > ul > li > div > p')\n",
    "    print(len(reviews))\n",
    "    points=source.select('#mArticle > div.detail_movie.detail_rating > div.movie_detail > div.main_detail > ul > li > div > div.raking_grade > em')\n",
    "    if len(reviews) == 0: break\n",
    "    for review in reviews:\n",
    "        a=review.text.strip() #좌우 공백 제거\n",
    "        review_list.append(a) #결과 리스트에 추가\n",
    "    for point in points:\n",
    "        point_list.append(point.text.strip())\n",
    "        \n",
    "result=zip(review_list,point_list)\n",
    "    \n",
    "for review in result:\n",
    "    if review[1]=='':\n",
    "        file.write('\"'+review[0].replace('\\n','')+'\",'+'0\\n')\n",
    "        \n",
    "    else:\n",
    "        file.write('\"'+review[0]+'\",'+review[1]+'\\n')\n",
    "\n",
    "file.close()\n",
    "print('완료되었습니다.')"
   ]
  },
  {
   "cell_type": "code",
   "execution_count": null,
   "metadata": {},
   "outputs": [],
   "source": []
  }
 ],
 "metadata": {
  "kernelspec": {
   "display_name": "Python 3",
   "language": "python",
   "name": "python3"
  },
  "language_info": {
   "codemirror_mode": {
    "name": "ipython",
    "version": 3
   },
   "file_extension": ".py",
   "mimetype": "text/x-python",
   "name": "python",
   "nbconvert_exporter": "python",
   "pygments_lexer": "ipython3",
   "version": "3.7.4"
  }
 },
 "nbformat": 4,
 "nbformat_minor": 2
}
