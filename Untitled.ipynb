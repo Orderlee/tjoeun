{
 "cells": [
  {
   "cell_type": "code",
   "execution_count": 5,
   "metadata": {},
   "outputs": [
    {
     "name": "stdout",
     "output_type": "stream",
     "text": [
      "2600 년은 윤년이 아닙니다.\n"
     ]
    }
   ],
   "source": [
    "year =2600\n",
    "if year % 400 ==0:\n",
    "    print(year, '년은 윤년입니다.')\n",
    "elif year % 4 ==0 and year%100 !=0:\n",
    "    print(year, '년은 윤년입니다.')\n",
    "else:\n",
    "    print(year, '년은 윤년이 아닙니다.')"
   ]
  },
  {
   "cell_type": "code",
   "execution_count": 3,
   "metadata": {},
   "outputs": [
    {
     "name": "stdout",
     "output_type": "stream",
     "text": [
      "{'나이': 27, '직업': '병사'}\n",
      "{'나이': 27, '직업': '병사', '번호': 9}\n"
     ]
    }
   ],
   "source": [
    "clover = {'나이':27,'직업':'병사'}\n",
    "print(clover)\n",
    "clover['번호']=9\n",
    "print(clover)"
   ]
  },
  {
   "cell_type": "code",
   "execution_count": 6,
   "metadata": {},
   "outputs": [
    {
     "name": "stdout",
     "output_type": "stream",
     "text": [
      "9\n",
      "6\n",
      "6\n"
     ]
    }
   ],
   "source": [
    "clover={'나이':27,'직업':'병사','번호':9}\n",
    "print(clover['번호'])\n",
    "clover['번호']=6\n",
    "print(clover['번호'])\n",
    "print(clover.get('번호'))"
   ]
  },
  {
   "cell_type": "code",
   "execution_count": 8,
   "metadata": {},
   "outputs": [
    {
     "name": "stdout",
     "output_type": "stream",
     "text": [
      "{'스페이드1': '비빔라면', '다이아2': '매운라면'}\n",
      "{'스페이드1': '비빔라면', '다이아2': '매운라면', '클로버3': '카레라면'}\n",
      "{'다이아2': '짜장라면', '클로버3': '카레라면'}\n"
     ]
    }
   ],
   "source": [
    "order={'스페이드1': '비빔라면','다이아2':'매운라면'}\n",
    "print(order)\n",
    "order['클로버3']='카레라면'\n",
    "print(order)\n",
    "order['다이아2']='짜장라면'\n",
    "del order['스페이드1']\n",
    "print(order)"
   ]
  },
  {
   "cell_type": "code",
   "execution_count": 11,
   "metadata": {},
   "outputs": [
    {
     "name": "stdout",
     "output_type": "stream",
     "text": [
      "{}\n",
      "{0: 1, 1: -2, 2: 3.14}\n"
     ]
    }
   ],
   "source": [
    "my_dict1={}\n",
    "print(my_dict1)\n",
    "\n",
    "my_dict2={0: 1, 1:-2, 2: 3.14}\n",
    "print(my_dict2)"
   ]
  },
  {
   "cell_type": "code",
   "execution_count": 13,
   "metadata": {},
   "outputs": [
    {
     "name": "stdout",
     "output_type": "stream",
     "text": [
      "{'나이': 27, '직업': '병사'}\n",
      "{'나이': 27, '직업': '병사', '번호': 9}\n"
     ]
    }
   ],
   "source": [
    "clover={'나이':27,'직업':'병사'}\n",
    "print(clover)\n",
    "clover['번호']=9\n",
    "print(clover)"
   ]
  },
  {
   "cell_type": "code",
   "execution_count": 19,
   "metadata": {},
   "outputs": [
    {
     "name": "stdout",
     "output_type": "stream",
     "text": [
      "9\n",
      "6\n",
      "6\n"
     ]
    }
   ],
   "source": [
    "clover={'나이':27, '직업':'병사', '번호':9}\n",
    "print(clover['번호'])\n",
    "clover['번호']=6\n",
    "print(clover['번호'])\n",
    "print(clover.get('번호'))"
   ]
  },
  {
   "cell_type": "code",
   "execution_count": 21,
   "metadata": {},
   "outputs": [
    {
     "name": "stdout",
     "output_type": "stream",
     "text": [
      "{'나이': 27, '직업': '병사', '번호': 6}\n",
      "{'직업': '병사', '번호': 6}\n"
     ]
    }
   ],
   "source": [
    "clover={'나이':27,'직업':'병사','번호':6}\n",
    "print(clover)\n",
    "del clover['나이']\n",
    "print(clover)"
   ]
  },
  {
   "cell_type": "code",
   "execution_count": 23,
   "metadata": {},
   "outputs": [
    {
     "name": "stdout",
     "output_type": "stream",
     "text": [
      "가위/바위/보/끝:보\n",
      "보 가위\n",
      "졌어요!\n",
      "가위/바위/보/끝:가위\n",
      "가위 바위\n",
      "졌어요!\n",
      "가위/바위/보/끝:바위\n",
      "바위 보\n",
      "졌어요!\n",
      "가위/바위/보/끝:바위\n",
      "바위 바위\n",
      "비겼어요!\n",
      "가위/바위/보/끝:가위\n",
      "가위 보\n",
      "이겼어요!\n",
      "가위/바위/보/끝:끝\n"
     ]
    }
   ],
   "source": [
    "import random\n",
    "\n",
    "rps=['가위','바위','보']\n",
    "\n",
    "result={\n",
    "    ('가위','보'):True,\n",
    "    ('가위','바위'):False,\n",
    "    ('바위','가위'):True,\n",
    "    ('바위','보'):False,\n",
    "    ('보','바위'):True,\n",
    "    ('보','가위'):False\n",
    "    }\n",
    "\n",
    "while True:\n",
    "    player =input('가위/바위/보/끝:')\n",
    "    computer = random.choice(rps)\n",
    "    \n",
    "    if player =='끝':\n",
    "        break\n",
    "        \n",
    "    print(player,computer)\n",
    "    \n",
    "    if player == computer:\n",
    "        print('비겼어요!')\n",
    "    elif result[(player,computer)]:\n",
    "        print('이겼어요!')\n",
    "    else:\n",
    "        print('졌어요!')"
   ]
  },
  {
   "cell_type": "code",
   "execution_count": 2,
   "metadata": {},
   "outputs": [
    {
     "name": "stdout",
     "output_type": "stream",
     "text": [
      "8\n",
      "18\n",
      "16\n",
      "4\n"
     ]
    }
   ],
   "source": [
    "print(3+5)\n",
    "print(6*3)\n",
    "print(4**2)\n",
    "print(9%5)"
   ]
  },
  {
   "cell_type": "code",
   "execution_count": 3,
   "metadata": {},
   "outputs": [
    {
     "name": "stdout",
     "output_type": "stream",
     "text": [
      "'저건뭐지?' 하고 앨리스가 생각했어요.\n",
      "앨리스가 흰 토끼에게 말했어요. \"안녕!\"\n"
     ]
    }
   ],
   "source": [
    "print(\"'저건뭐지?' 하고 앨리스가 생각했어요.\")\n",
    "print('앨리스가 흰 토끼에게 말했어요. \"안녕!\"')"
   ]
  },
  {
   "cell_type": "code",
   "execution_count": 4,
   "metadata": {},
   "outputs": [
    {
     "name": "stdout",
     "output_type": "stream",
     "text": [
      "빨주노초파남보\n"
     ]
    }
   ],
   "source": [
    "print('빨'+'주'+'노'+'초'+'파'+'남'+'보')"
   ]
  },
  {
   "cell_type": "code",
   "execution_count": 7,
   "metadata": {},
   "outputs": [
    {
     "name": "stdout",
     "output_type": "stream",
     "text": [
      "0\n",
      "1\n",
      "2\n"
     ]
    }
   ],
   "source": [
    "count=0\n",
    "print(count)\n",
    "count=1\n",
    "print(count)\n",
    "count=count+1\n",
    "print(count)"
   ]
  },
  {
   "cell_type": "code",
   "execution_count": 10,
   "metadata": {},
   "outputs": [
    {
     "name": "stdout",
     "output_type": "stream",
     "text": [
      "25400\n",
      "41900\n",
      "16500\n"
     ]
    }
   ],
   "source": [
    "coffee=4100\n",
    "juice=4600\n",
    "tea=3900\n",
    "print(coffee*3+juice*2+tea)\n",
    "print(coffee*4+juice*3+tea*3)\n",
    "print(coffee+juice+tea*2)"
   ]
  },
  {
   "cell_type": "code",
   "execution_count": 3,
   "metadata": {},
   "outputs": [
    {
     "name": "stdout",
     "output_type": "stream",
     "text": [
      "['클로버1']\n",
      "['클로버1', '하트2']\n",
      "['클로버1', '하트2', '클로버3']\n"
     ]
    }
   ],
   "source": [
    "clovers=[]\n",
    "clovers.append('클로버1')\n",
    "print(clovers)\n",
    "\n",
    "clovers.append('하트2')\n",
    "print(clovers)\n",
    "\n",
    "clovers.append('클로버3')\n",
    "print(clovers)"
   ]
  },
  {
   "cell_type": "code",
   "execution_count": 8,
   "metadata": {},
   "outputs": [
    {
     "name": "stdout",
     "output_type": "stream",
     "text": [
      "['클로버1', '클로버3']\n",
      "['클로버1', '클로버2', '클로버3']\n",
      "['클로버1', '클로버2', '클로버3', '클로버4']\n"
     ]
    }
   ],
   "source": [
    "clovers=['클로버1','클로버3']\n",
    "print(clovers)\n",
    "clovers.insert(1,'클로버2')\n",
    "print(clovers)\n",
    "clovers.insert(3,'클로버4')\n",
    "print(clovers)"
   ]
  },
  {
   "cell_type": "code",
   "execution_count": 11,
   "metadata": {},
   "outputs": [
    {
     "name": "stdout",
     "output_type": "stream",
     "text": [
      "하트2\n",
      "클로버2\n"
     ]
    }
   ],
   "source": [
    "clovers=['클로버1','하트2','클로버3']\n",
    "print(clovers[1])\n",
    "clovers[1]='클로버2'\n",
    "print(clovers[1])"
   ]
  },
  {
   "cell_type": "code",
   "execution_count": 16,
   "metadata": {},
   "outputs": [
    {
     "name": "stdout",
     "output_type": "stream",
     "text": [
      "클로버3\n",
      "하트2\n",
      "클로버1\n",
      "클로버4\n"
     ]
    }
   ],
   "source": [
    "clovers=['클로버1','하트2','클로버3']\n",
    "print(clovers[-1])\n",
    "print(clovers[-2])\n",
    "print(clovers[-3])\n",
    "clovers[-3]='클로버4'\n",
    "print(clovers[-3])"
   ]
  },
  {
   "cell_type": "code",
   "execution_count": 22,
   "metadata": {},
   "outputs": [
    {
     "name": "stdout",
     "output_type": "stream",
     "text": [
      "클로버2\n",
      "['클로버1', '클로버3', '클로버4']\n",
      "클로버3\n"
     ]
    }
   ],
   "source": [
    "clovers=['클로버1','클로버2','클로버3','클로버4']\n",
    "print(clovers[1])\n",
    "del clovers[1]\n",
    "print(clovers)\n",
    "print(clovers[1])\n"
   ]
  },
  {
   "cell_type": "code",
   "execution_count": 25,
   "metadata": {},
   "outputs": [
    {
     "name": "stdout",
     "output_type": "stream",
     "text": [
      "['딸기맛', '레몬맛', '수박맛', '박하맛', '우유맛']\n",
      "['딸기맛', '레몬맛', '수박맛', '박하맛', '우유맛', '콜라맛', '포도맛']\n",
      "['딸기맛', '레몬맛', '수박맛', '우유맛', '콜라맛', '포도맛']\n"
     ]
    }
   ],
   "source": [
    "candies=['딸기맛','레몬맛','수박맛','박하맛','우유맛']\n",
    "print(candies)\n",
    "\n",
    "candies.append('콜라맛')\n",
    "candies.append('포도맛')\n",
    "print(candies)\n",
    "\n",
    "del candies[3]\n",
    "print(candies)"
   ]
  },
  {
   "cell_type": "code",
   "execution_count": 28,
   "metadata": {},
   "outputs": [
    {
     "name": "stdout",
     "output_type": "stream",
     "text": [
      "['월', '화', '수', '목', '금', '토', '일']\n",
      "['수', '목', '금']\n",
      "['월', '화', '수', '목', '금', '토', '일']\n"
     ]
    }
   ],
   "source": [
    "week=['월','화','수','목','금','토','일']\n",
    "print(week)\n",
    "\n",
    "print(week[2:5])\n",
    "print(week)"
   ]
  },
  {
   "cell_type": "code",
   "execution_count": 34,
   "metadata": {},
   "outputs": [
    {
     "name": "stdout",
     "output_type": "stream",
     "text": [
      "체셔고양이에게는 딸기맛 사탕을 줘요\n",
      "오리에게는 레몬맛 사탕을 줘요.\n",
      "도도새에게는 ['우유맛', '콜라맛', '포도맛'] 사탕을 줘요.\n"
     ]
    }
   ],
   "source": [
    "candies=['딸기맛','레몬맛','수박맛','우유맛','콜라맛','포도맛']\n",
    "cat_candy=candies[0]\n",
    "print('체셔고양이에게는',cat_candy,'사탕을 줘요')\n",
    "duck_candy=candies[1]\n",
    "print('오리에게는',duck_candy,'사탕을 줘요.')\n",
    "dodo_candy=candies[3:6]\n",
    "print('도도새에게는',dodo_candy,'사탕을 줘요.')\n"
   ]
  },
  {
   "cell_type": "code",
   "execution_count": 5,
   "metadata": {},
   "outputs": [
    {
     "name": "stdout",
     "output_type": "stream",
     "text": [
      "['도도새', '오리', '체셔고양이']\n",
      "['체셔고양이', '오리', '도도새']\n"
     ]
    }
   ],
   "source": [
    "animals=['체셔고양이','오리','도도새']\n",
    "animals.sort()\n",
    "print(animals)\n",
    "animals.sort(reverse=True)\n",
    "print(animals)"
   ]
  },
  {
   "cell_type": "code",
   "execution_count": 9,
   "metadata": {},
   "outputs": [
    {
     "name": "stdout",
     "output_type": "stream",
     "text": [
      "앨리스 도도새 3월토끼 "
     ]
    }
   ],
   "source": [
    "characters=['앨리스','도도새','3월토끼']\n",
    "for character in characters:\n",
    "    print(character,end=' ')"
   ]
  },
  {
   "cell_type": "code",
   "execution_count": 13,
   "metadata": {},
   "outputs": [
    {
     "name": "stdout",
     "output_type": "stream",
     "text": [
      "공작부인 퇴장!\n",
      "흰토끼 퇴장!\n",
      "하트잭 퇴장!\n",
      "모자장수 퇴장!\n"
     ]
    }
   ],
   "source": [
    "players=['공작부인','흰토끼','하트잭','모자장수']\n",
    "for player in players:\n",
    "    print(player,'퇴장!')"
   ]
  },
  {
   "cell_type": "code",
   "execution_count": 14,
   "metadata": {},
   "outputs": [
    {
     "name": "stdout",
     "output_type": "stream",
     "text": [
      "체\n",
      "셔\n",
      "고\n",
      "양\n",
      "이\n"
     ]
    }
   ],
   "source": [
    "for letter in '체셔고양이':\n",
    "    print(letter)"
   ]
  },
  {
   "cell_type": "code",
   "execution_count": 15,
   "metadata": {},
   "outputs": [
    {
     "name": "stdout",
     "output_type": "stream",
     "text": [
      "['빨간장미', '빨간장미', '빨간장미']\n"
     ]
    }
   ],
   "source": [
    "roses=['하얀장미','하얀장미','하얀장미']\n",
    "for i in range(3):\n",
    "    roses[i] = '빨간장미'\n",
    "print(roses)"
   ]
  },
  {
   "cell_type": "code",
   "execution_count": null,
   "metadata": {},
   "outputs": [],
   "source": []
  },
  {
   "cell_type": "code",
   "execution_count": null,
   "metadata": {},
   "outputs": [],
   "source": []
  },
  {
   "cell_type": "code",
   "execution_count": null,
   "metadata": {},
   "outputs": [],
   "source": []
  },
  {
   "cell_type": "code",
   "execution_count": null,
   "metadata": {},
   "outputs": [],
   "source": []
  },
  {
   "cell_type": "code",
   "execution_count": null,
   "metadata": {},
   "outputs": [],
   "source": []
  }
 ],
 "metadata": {
  "kernelspec": {
   "display_name": "Python 3",
   "language": "python",
   "name": "python3"
  },
  "language_info": {
   "codemirror_mode": {
    "name": "ipython",
    "version": 3
   },
   "file_extension": ".py",
   "mimetype": "text/x-python",
   "name": "python",
   "nbconvert_exporter": "python",
   "pygments_lexer": "ipython3",
   "version": "3.7.4"
  }
 },
 "nbformat": 4,
 "nbformat_minor": 2
}
