{
 "cells": [
  {
   "cell_type": "code",
   "execution_count": 3,
   "metadata": {},
   "outputs": [
    {
     "name": "stdout",
     "output_type": "stream",
     "text": [
      "이름\t국어\t영어\t수학\t총점\t평균\t등급\n",
      "kim\t90\t80\t70\t240\t80\tB\n",
      "park\t88\t77\t66\t231\t77\tC\n",
      "hong\t95\t84\t54\t233\t77.67\tC\n",
      "choi\t87\t66\t99\t252\t84\tB\n"
     ]
    }
   ],
   "source": [
    "import cx_Oracle #오라클 접속 모듈 로딩\n",
    "#오라클 서버에 접속 '아이디/비번@호스트:포트번호/sid'\n",
    "conn=cx_Oracle.connect('hr/hr@localhost:1521/xe')\n",
    "cursor=conn.cursor() #커서생성\n",
    "sql='''\n",
    "select name, kor, eng, mat, kor+eng+mat 총점,\n",
    "round((kor+eng+mat)/3,2) 평균,\n",
    "case \n",
    "when (kor+eng+mat)/3 >= 90 then 'A'\n",
    "when (kor+eng+mat)/3 >= 80 then 'B'\n",
    "when (kor+eng+mat)/3 >= 70 then 'C'\n",
    "when (kor+eng+mat)/3 >= 60 then 'D'\n",
    "else 'F'\n",
    "end 등급\n",
    "from score\n",
    "'''\n",
    "cursor.execute(sql) #sql 명령어 실행\n",
    "rows=cursor.fetchall() #결과셋을 리스트로 저장\n",
    "print('이름\\t국어\\t영어\\t수학\\t총점\\t평균\\t등급')\n",
    "for row in rows:\n",
    "    print('{}\\t{}\\t{}\\t{}\\t{}\\t{}\\t{}'.format(row[0],row[1],row[2],row[3],\n",
    "                                             row[4],row[5],row[6]))\n",
    "#데이터베이스 관련 리소스 정리\n",
    "cursor.close()\n",
    "conn.close()"
   ]
  },
  {
   "cell_type": "code",
   "execution_count": 6,
   "metadata": {},
   "outputs": [
    {
     "name": "stdout",
     "output_type": "stream",
     "text": [
      "이름\t국어\t영어\t수학\t총점\t평균\t등급\n",
      "kim\t90\t80\t70\t240\t80\tB\n",
      "park\t88\t77\t66\t231\t77\tC\n",
      "hong\t95\t84\t54\t233\t77.67\tC\n",
      "choi\t87\t66\t99\t252\t84\tB\n"
     ]
    }
   ],
   "source": [
    "import cx_Oracle #오라클 접속 모듈 로딩\n",
    "#오라클 서버에 접속 '아이디/비번@호스트:포트번호/sid'\n",
    "conn=cx_Oracle.connect('hr/hr@localhost:1521/xe')\n",
    "cursor=conn.cursor() #커서생성\n",
    "sql='''\n",
    "select * from score_v\n",
    "'''\n",
    "cursor.execute(sql) #sql 명령어 실행\n",
    "rows=cursor.fetchall() #결과셋을 리스트로 저장\n",
    "print('이름\\t국어\\t영어\\t수학\\t총점\\t평균\\t등급')\n",
    "for row in rows:\n",
    "    print('{}\\t{}\\t{}\\t{}\\t{}\\t{}\\t{}'.format(row[0],row[1],row[2],row[3],\n",
    "                                             row[4],row[5],row[6]))\n",
    "#데이터베이스 관련 리소스 정리\n",
    "cursor.close()\n",
    "conn.close()"
   ]
  },
  {
   "cell_type": "code",
   "execution_count": 19,
   "metadata": {},
   "outputs": [
    {
     "name": "stdout",
     "output_type": "stream",
     "text": [
      "사번\t이름\t코드\t부서명\n",
      "==============================\n",
      "7782\t구자철\t10\t경리팀\n",
      "7369\t김철수\t20\t연구팀\n",
      "7839\t김철호\t10\t경리팀\n",
      "7654\t나대호\t30\t총무팀\n",
      "7900\t박민성\t30\t총무팀\n",
      "7521\t박종수\t30\t총무팀\n",
      "7698\t박지성\t30\t총무팀\n",
      "7902\t박진성\t20\t연구팀\n",
      "7844\t성명준\t30\t총무팀\n",
      "7788\t송기성\t20\t연구팀\n",
      "7499\t이찬수\t30\t총무팀\n",
      "7566\t임채호\t20\t연구팀\n",
      "7934\t최철호\t10\t경리팀\n",
      "7876\t황인태\t20\t연구팀\n"
     ]
    }
   ],
   "source": [
    "import cx_Oracle #오라클 접속 모듈 로딩\n",
    "#오라클 서버에 접속 '아이디/비번@호스트:포트번호/sid'\n",
    "conn=cx_Oracle.connect('hr/hr@localhost:1521/xe')\n",
    "cursor=conn.cursor() #커서생성\n",
    "sql='''\n",
    "select empno,ename,deptno,\n",
    "case when deptno = 10 then '경리팀'\n",
    "when deptno = 20 then '연구팀'\n",
    "when deptno = 30 then '총무팀'\n",
    "when deptno = 40 then '전산팀'\n",
    "end 부서명\n",
    "from emp\n",
    "order by ename\n",
    "'''\n",
    "cursor.execute(sql) #sql 명령어 실행\n",
    "rows=cursor.fetchall() #결과셋을 리스트로 저장\n",
    "print('사번\\t이름\\t코드\\t부서명')\n",
    "print('='*30)\n",
    "for row in rows:\n",
    "    print('{}\\t{}\\t{}\\t{}'.format(row[0],row[1],row[2],row[3]))\n",
    "#데이터베이스 관련 리소스 정리\n",
    "cursor.close()\n",
    "conn.close()"
   ]
  },
  {
   "cell_type": "code",
   "execution_count": 20,
   "metadata": {},
   "outputs": [
    {
     "name": "stdout",
     "output_type": "stream",
     "text": [
      "사번\t이름\t코드\t부서명\n",
      "==============================\n",
      "7782\t구자철\t10\t경리팀\n",
      "7369\t김철수\t20\t연구팀\n",
      "7839\t김철호\t10\t경리팀\n",
      "7654\t나대호\t30\t총무팀\n",
      "7900\t박민성\t30\t총무팀\n",
      "7521\t박종수\t30\t총무팀\n",
      "7698\t박지성\t30\t총무팀\n",
      "7902\t박진성\t20\t연구팀\n",
      "7844\t성명준\t30\t총무팀\n",
      "7788\t송기성\t20\t연구팀\n",
      "7499\t이찬수\t30\t총무팀\n",
      "7566\t임채호\t20\t연구팀\n",
      "7934\t최철호\t10\t경리팀\n",
      "7876\t황인태\t20\t연구팀\n"
     ]
    }
   ],
   "source": [
    "import cx_Oracle #오라클 접속 모듈 로딩\n",
    "#오라클 서버에 접속 '아이디/비번@호스트:포트번호/sid'\n",
    "conn=cx_Oracle.connect('hr/hr@localhost:1521/xe')\n",
    "cursor=conn.cursor() #커서생성\n",
    "sql='''\n",
    "select * from emp2_v\n",
    "'''\n",
    "cursor.execute(sql) #sql 명령어 실행\n",
    "rows=cursor.fetchall() #결과셋을 리스트로 저장\n",
    "print('사번\\t이름\\t코드\\t부서명')\n",
    "print('='*30)\n",
    "for row in rows:\n",
    "    print('{}\\t{}\\t{}\\t{}'.format(row[0],row[1],row[2],row[3]))\n",
    "#데이터베이스 관련 리소스 정리\n",
    "cursor.close()\n",
    "conn.close()"
   ]
  },
  {
   "cell_type": "code",
   "execution_count": 22,
   "metadata": {},
   "outputs": [],
   "source": [
    "#저장프로시저 호출\n",
    "import cx_Oracle \n",
    "\n",
    "conn=cx_Oracle.connect('hr/hr@localhost:1521/xe')\n",
    "cursor=conn.cursor() \n",
    "#커서.callproc('프로시저이름',[전달할값])\n",
    "cursor.callproc('update_sal',[7788])\n",
    "#레코드가 변경될 경우 커밋을 해야함\n",
    "conn.commit()\n",
    "print('처리되었습니다.')\n",
    "cursor.close()\n",
    "conn.close()"
   ]
  },
  {
   "cell_type": "code",
   "execution_count": 34,
   "metadata": {},
   "outputs": [
    {
     "name": "stdout",
     "output_type": "stream",
     "text": [
      "사번\t이름\t급여\n",
      "====================\n",
      "7369\t김철수\t242.0\n",
      "7499\t이찬수\t260.0\n",
      "7521\t박종수\t325.0\n",
      "7566\t임채호\t497.0\n",
      "7654\t나대호\t325.0\n",
      "7698\t박지성\t485.0\n",
      "7782\t구자철\t445.0\n",
      "7788\t송기성\t550.0\n",
      "7839\t김철호\t800.0\n",
      "7844\t성명준\t350.0\n",
      "7876\t황인태\t210.0\n",
      "7900\t박민성\t295.0\n",
      "7902\t박진성\t600.0\n",
      "7934\t최철호\t230.0\n"
     ]
    }
   ],
   "source": [
    "import cx_Oracle #오라클 접속 모듈 로딩\n",
    "#오라클 서버에 접속 '아이디/비번@호스트:포트번호/sid'\n",
    "conn=cx_Oracle.connect('hr/hr@localhost:1521/xe')\n",
    "cursor=conn.cursor() #커서생성\n",
    "sql='''\n",
    "select empno,ename,sal from emp\n",
    "'''\n",
    "cursor.execute(sql) #sql 명령어 실행\n",
    "rows=cursor.fetchall() #결과셋을 리스트로 저장\n",
    "print('사번\\t이름\\t급여')\n",
    "print('='*20)\n",
    "for row in rows:\n",
    "    print('{}\\t{}\\t{}'.format(row[0],row[1],row[2]))\n",
    "#데이터베이스 관련 리소스 정리\n",
    "cursor.close()\n",
    "conn.close()"
   ]
  },
  {
   "cell_type": "code",
   "execution_count": 35,
   "metadata": {},
   "outputs": [
    {
     "name": "stdout",
     "output_type": "stream",
     "text": [
      "처리되었습니다.\n"
     ]
    }
   ],
   "source": [
    "import cx_Oracle \n",
    "\n",
    "conn=cx_Oracle.connect('hr/hr@localhost:1521/xe')\n",
    "cursor=conn.cursor() \n",
    "#커서.callproc('프로시저이름',[전달할값])\n",
    "cursor.callproc('update_comm',[7698,350])\n",
    "#레코드가 변경될 경우 커밋을 해야함\n",
    "conn.commit()\n",
    "print('처리되었습니다.')\n",
    "cursor.close()\n",
    "conn.close()"
   ]
  },
  {
   "cell_type": "code",
   "execution_count": 36,
   "metadata": {},
   "outputs": [
    {
     "name": "stdout",
     "output_type": "stream",
     "text": [
      "사번\t이름\t급여\t보너스\n",
      "==============================\n",
      "7369\t김철수\t242.0\t500.0\n",
      "7499\t이찬수\t260.0\t300.0\n",
      "7521\t박종수\t325.0\t500.0\n",
      "7566\t임채호\t497.0\t200.0\n",
      "7654\t나대호\t325.0\t1400.0\n",
      "7698\t박지성\t485.0\t350.0\n",
      "7782\t구자철\t445.0\tNone\n",
      "7788\t송기성\t550.0\tNone\n",
      "7839\t김철호\t800.0\tNone\n",
      "7844\t성명준\t350.0\t0.0\n",
      "7876\t황인태\t210.0\tNone\n",
      "7900\t박민성\t295.0\tNone\n",
      "7902\t박진성\t600.0\tNone\n",
      "7934\t최철호\t230.0\tNone\n"
     ]
    }
   ],
   "source": [
    "import cx_Oracle #오라클 접속 모듈 로딩\n",
    "#오라클 서버에 접속 '아이디/비번@호스트:포트번호/sid'\n",
    "conn=cx_Oracle.connect('hr/hr@localhost:1521/xe')\n",
    "cursor=conn.cursor() #커서생성\n",
    "sql='''\n",
    "select empno,ename,sal,comm from emp_copy\n",
    "'''\n",
    "cursor.execute(sql) #sql 명령어 실행\n",
    "rows=cursor.fetchall() #결과셋을 리스트로 저장\n",
    "print('사번\\t이름\\t급여\\t보너스')\n",
    "print('='*30)\n",
    "for row in rows:\n",
    "    print('{}\\t{}\\t{}\\t{}'.format(row[0],row[1],row[2],row[3]))\n",
    "#데이터베이스 관련 리소스 정리\n",
    "cursor.close()\n",
    "conn.close()"
   ]
  },
  {
   "cell_type": "code",
   "execution_count": null,
   "metadata": {},
   "outputs": [],
   "source": []
  },
  {
   "cell_type": "code",
   "execution_count": null,
   "metadata": {},
   "outputs": [],
   "source": []
  },
  {
   "cell_type": "code",
   "execution_count": null,
   "metadata": {},
   "outputs": [],
   "source": []
  },
  {
   "cell_type": "code",
   "execution_count": null,
   "metadata": {},
   "outputs": [],
   "source": []
  },
  {
   "cell_type": "code",
   "execution_count": null,
   "metadata": {},
   "outputs": [],
   "source": []
  },
  {
   "cell_type": "code",
   "execution_count": null,
   "metadata": {},
   "outputs": [],
   "source": []
  },
  {
   "cell_type": "code",
   "execution_count": null,
   "metadata": {},
   "outputs": [],
   "source": []
  },
  {
   "cell_type": "code",
   "execution_count": null,
   "metadata": {},
   "outputs": [],
   "source": []
  },
  {
   "cell_type": "code",
   "execution_count": null,
   "metadata": {},
   "outputs": [],
   "source": []
  },
  {
   "cell_type": "code",
   "execution_count": null,
   "metadata": {},
   "outputs": [],
   "source": []
  },
  {
   "cell_type": "code",
   "execution_count": null,
   "metadata": {},
   "outputs": [],
   "source": []
  },
  {
   "cell_type": "code",
   "execution_count": null,
   "metadata": {},
   "outputs": [],
   "source": []
  },
  {
   "cell_type": "code",
   "execution_count": null,
   "metadata": {},
   "outputs": [],
   "source": []
  },
  {
   "cell_type": "code",
   "execution_count": null,
   "metadata": {},
   "outputs": [],
   "source": []
  },
  {
   "cell_type": "code",
   "execution_count": null,
   "metadata": {},
   "outputs": [],
   "source": []
  },
  {
   "cell_type": "code",
   "execution_count": null,
   "metadata": {},
   "outputs": [],
   "source": []
  }
 ],
 "metadata": {
  "kernelspec": {
   "display_name": "Python 3",
   "language": "python",
   "name": "python3"
  },
  "language_info": {
   "codemirror_mode": {
    "name": "ipython",
    "version": 3
   },
   "file_extension": ".py",
   "mimetype": "text/x-python",
   "name": "python",
   "nbconvert_exporter": "python",
   "pygments_lexer": "ipython3",
   "version": "3.7.4"
  }
 },
 "nbformat": 4,
 "nbformat_minor": 2
}
