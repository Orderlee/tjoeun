{
 "cells": [
  {
   "cell_type": "code",
   "execution_count": 1,
   "metadata": {},
   "outputs": [
    {
     "data": {
      "text/html": [
       "<div>\n",
       "<style scoped>\n",
       "    .dataframe tbody tr th:only-of-type {\n",
       "        vertical-align: middle;\n",
       "    }\n",
       "\n",
       "    .dataframe tbody tr th {\n",
       "        vertical-align: top;\n",
       "    }\n",
       "\n",
       "    .dataframe thead th {\n",
       "        text-align: right;\n",
       "    }\n",
       "</style>\n",
       "<table border=\"1\" class=\"dataframe\">\n",
       "  <thead>\n",
       "    <tr style=\"text-align: right;\">\n",
       "      <th></th>\n",
       "      <th>mean radius</th>\n",
       "      <th>mean texture</th>\n",
       "      <th>mean perimeter</th>\n",
       "      <th>mean area</th>\n",
       "      <th>mean smoothness</th>\n",
       "      <th>mean compactness</th>\n",
       "      <th>mean concavity</th>\n",
       "      <th>mean concave points</th>\n",
       "      <th>mean symmetry</th>\n",
       "      <th>mean fractal dimension</th>\n",
       "      <th>...</th>\n",
       "      <th>worst texture</th>\n",
       "      <th>worst perimeter</th>\n",
       "      <th>worst area</th>\n",
       "      <th>worst smoothness</th>\n",
       "      <th>worst compactness</th>\n",
       "      <th>worst concavity</th>\n",
       "      <th>worst concave points</th>\n",
       "      <th>worst symmetry</th>\n",
       "      <th>worst fractal dimension</th>\n",
       "      <th>target</th>\n",
       "    </tr>\n",
       "  </thead>\n",
       "  <tbody>\n",
       "    <tr>\n",
       "      <td>0</td>\n",
       "      <td>17.99</td>\n",
       "      <td>10.38</td>\n",
       "      <td>122.80</td>\n",
       "      <td>1001.0</td>\n",
       "      <td>0.11840</td>\n",
       "      <td>0.27760</td>\n",
       "      <td>0.3001</td>\n",
       "      <td>0.14710</td>\n",
       "      <td>0.2419</td>\n",
       "      <td>0.07871</td>\n",
       "      <td>...</td>\n",
       "      <td>17.33</td>\n",
       "      <td>184.60</td>\n",
       "      <td>2019.0</td>\n",
       "      <td>0.1622</td>\n",
       "      <td>0.6656</td>\n",
       "      <td>0.7119</td>\n",
       "      <td>0.2654</td>\n",
       "      <td>0.4601</td>\n",
       "      <td>0.11890</td>\n",
       "      <td>0.0</td>\n",
       "    </tr>\n",
       "    <tr>\n",
       "      <td>1</td>\n",
       "      <td>20.57</td>\n",
       "      <td>17.77</td>\n",
       "      <td>132.90</td>\n",
       "      <td>1326.0</td>\n",
       "      <td>0.08474</td>\n",
       "      <td>0.07864</td>\n",
       "      <td>0.0869</td>\n",
       "      <td>0.07017</td>\n",
       "      <td>0.1812</td>\n",
       "      <td>0.05667</td>\n",
       "      <td>...</td>\n",
       "      <td>23.41</td>\n",
       "      <td>158.80</td>\n",
       "      <td>1956.0</td>\n",
       "      <td>0.1238</td>\n",
       "      <td>0.1866</td>\n",
       "      <td>0.2416</td>\n",
       "      <td>0.1860</td>\n",
       "      <td>0.2750</td>\n",
       "      <td>0.08902</td>\n",
       "      <td>0.0</td>\n",
       "    </tr>\n",
       "    <tr>\n",
       "      <td>2</td>\n",
       "      <td>19.69</td>\n",
       "      <td>21.25</td>\n",
       "      <td>130.00</td>\n",
       "      <td>1203.0</td>\n",
       "      <td>0.10960</td>\n",
       "      <td>0.15990</td>\n",
       "      <td>0.1974</td>\n",
       "      <td>0.12790</td>\n",
       "      <td>0.2069</td>\n",
       "      <td>0.05999</td>\n",
       "      <td>...</td>\n",
       "      <td>25.53</td>\n",
       "      <td>152.50</td>\n",
       "      <td>1709.0</td>\n",
       "      <td>0.1444</td>\n",
       "      <td>0.4245</td>\n",
       "      <td>0.4504</td>\n",
       "      <td>0.2430</td>\n",
       "      <td>0.3613</td>\n",
       "      <td>0.08758</td>\n",
       "      <td>0.0</td>\n",
       "    </tr>\n",
       "    <tr>\n",
       "      <td>3</td>\n",
       "      <td>11.42</td>\n",
       "      <td>20.38</td>\n",
       "      <td>77.58</td>\n",
       "      <td>386.1</td>\n",
       "      <td>0.14250</td>\n",
       "      <td>0.28390</td>\n",
       "      <td>0.2414</td>\n",
       "      <td>0.10520</td>\n",
       "      <td>0.2597</td>\n",
       "      <td>0.09744</td>\n",
       "      <td>...</td>\n",
       "      <td>26.50</td>\n",
       "      <td>98.87</td>\n",
       "      <td>567.7</td>\n",
       "      <td>0.2098</td>\n",
       "      <td>0.8663</td>\n",
       "      <td>0.6869</td>\n",
       "      <td>0.2575</td>\n",
       "      <td>0.6638</td>\n",
       "      <td>0.17300</td>\n",
       "      <td>0.0</td>\n",
       "    </tr>\n",
       "    <tr>\n",
       "      <td>4</td>\n",
       "      <td>20.29</td>\n",
       "      <td>14.34</td>\n",
       "      <td>135.10</td>\n",
       "      <td>1297.0</td>\n",
       "      <td>0.10030</td>\n",
       "      <td>0.13280</td>\n",
       "      <td>0.1980</td>\n",
       "      <td>0.10430</td>\n",
       "      <td>0.1809</td>\n",
       "      <td>0.05883</td>\n",
       "      <td>...</td>\n",
       "      <td>16.67</td>\n",
       "      <td>152.20</td>\n",
       "      <td>1575.0</td>\n",
       "      <td>0.1374</td>\n",
       "      <td>0.2050</td>\n",
       "      <td>0.4000</td>\n",
       "      <td>0.1625</td>\n",
       "      <td>0.2364</td>\n",
       "      <td>0.07678</td>\n",
       "      <td>0.0</td>\n",
       "    </tr>\n",
       "  </tbody>\n",
       "</table>\n",
       "<p>5 rows × 31 columns</p>\n",
       "</div>"
      ],
      "text/plain": [
       "   mean radius  mean texture  mean perimeter  mean area  mean smoothness  \\\n",
       "0        17.99         10.38          122.80     1001.0          0.11840   \n",
       "1        20.57         17.77          132.90     1326.0          0.08474   \n",
       "2        19.69         21.25          130.00     1203.0          0.10960   \n",
       "3        11.42         20.38           77.58      386.1          0.14250   \n",
       "4        20.29         14.34          135.10     1297.0          0.10030   \n",
       "\n",
       "   mean compactness  mean concavity  mean concave points  mean symmetry  \\\n",
       "0           0.27760          0.3001              0.14710         0.2419   \n",
       "1           0.07864          0.0869              0.07017         0.1812   \n",
       "2           0.15990          0.1974              0.12790         0.2069   \n",
       "3           0.28390          0.2414              0.10520         0.2597   \n",
       "4           0.13280          0.1980              0.10430         0.1809   \n",
       "\n",
       "   mean fractal dimension  ...  worst texture  worst perimeter  worst area  \\\n",
       "0                 0.07871  ...          17.33           184.60      2019.0   \n",
       "1                 0.05667  ...          23.41           158.80      1956.0   \n",
       "2                 0.05999  ...          25.53           152.50      1709.0   \n",
       "3                 0.09744  ...          26.50            98.87       567.7   \n",
       "4                 0.05883  ...          16.67           152.20      1575.0   \n",
       "\n",
       "   worst smoothness  worst compactness  worst concavity  worst concave points  \\\n",
       "0            0.1622             0.6656           0.7119                0.2654   \n",
       "1            0.1238             0.1866           0.2416                0.1860   \n",
       "2            0.1444             0.4245           0.4504                0.2430   \n",
       "3            0.2098             0.8663           0.6869                0.2575   \n",
       "4            0.1374             0.2050           0.4000                0.1625   \n",
       "\n",
       "   worst symmetry  worst fractal dimension  target  \n",
       "0          0.4601                  0.11890     0.0  \n",
       "1          0.2750                  0.08902     0.0  \n",
       "2          0.3613                  0.08758     0.0  \n",
       "3          0.6638                  0.17300     0.0  \n",
       "4          0.2364                  0.07678     0.0  \n",
       "\n",
       "[5 rows x 31 columns]"
      ]
     },
     "execution_count": 1,
     "metadata": {},
     "output_type": "execute_result"
    }
   ],
   "source": [
    "import pandas as pd\n",
    "from sklearn.datasets import load_breast_cancer\n",
    "import numpy as np\n",
    "\n",
    "cancer=load_breast_cancer()\n",
    "#print(cancer)\n",
    "#np.c_[A,B] A,B 배열 연결 함수 np.append(A,B) 배열 연결\n",
    "df=pd.DataFrame(np.c_[cancer['data'],cancer['target']],\n",
    "               columns=np.append(cancer['feature_names'],['target']))\n",
    "df.head()"
   ]
  },
  {
   "cell_type": "code",
   "execution_count": 2,
   "metadata": {},
   "outputs": [
    {
     "data": {
      "text/plain": [
       "1.0    357\n",
       "0.0    212\n",
       "Name: target, dtype: int64"
      ]
     },
     "execution_count": 2,
     "metadata": {},
     "output_type": "execute_result"
    }
   ],
   "source": [
    "df['target'].value_counts() #0 악성 212, 1양성 357"
   ]
  },
  {
   "cell_type": "code",
   "execution_count": 3,
   "metadata": {},
   "outputs": [],
   "source": [
    "from sklearn.model_selection import train_test_split\n",
    "train_cols=df.columns[0:27]\n",
    "X=df[train_cols]#독립변수\n",
    "y=df['target']#종속변수"
   ]
  },
  {
   "cell_type": "code",
   "execution_count": 4,
   "metadata": {},
   "outputs": [
    {
     "name": "stderr",
     "output_type": "stream",
     "text": [
      "Using TensorFlow backend.\n"
     ]
    }
   ],
   "source": [
    "#언더샘플링\n",
    "from imblearn.under_sampling import RandomUnderSampler\n",
    "X_sample,y_sample=RandomUnderSampler(random_state=0).fit_sample(X,y)\n",
    "X_samp=pd.DataFrame(data=X_sample,columns=train_cols)\n",
    "y_samp=pd.DataFrame(data=y_sample,columns=['target'])\n",
    "df2=pd.concat([X_samp,y_samp],axis=1)"
   ]
  },
  {
   "cell_type": "code",
   "execution_count": 5,
   "metadata": {},
   "outputs": [
    {
     "data": {
      "text/plain": [
       "1.0    212\n",
       "0.0    212\n",
       "Name: target, dtype: int64"
      ]
     },
     "execution_count": 5,
     "metadata": {},
     "output_type": "execute_result"
    }
   ],
   "source": [
    "df2['target'].value_counts() "
   ]
  },
  {
   "cell_type": "code",
   "execution_count": 6,
   "metadata": {},
   "outputs": [
    {
     "name": "stdout",
     "output_type": "stream",
     "text": [
      "Optimization terminated successfully.\n",
      "         Current function value: 0.032979\n",
      "         Iterations 27\n"
     ]
    },
    {
     "data": {
      "text/html": [
       "<table class=\"simpletable\">\n",
       "<tr>\n",
       "        <td>Model:</td>              <td>Logit</td>      <td>Pseudo R-squared:</td>    <td>0.950</td>   \n",
       "</tr>\n",
       "<tr>\n",
       "  <td>Dependent Variable:</td>      <td>target</td>            <td>AIC:</td>          <td>91.5301</td>  \n",
       "</tr>\n",
       "<tr>\n",
       "         <td>Date:</td>        <td>2020-02-19 11:31</td>       <td>BIC:</td>         <td>208.8149</td>  \n",
       "</tr>\n",
       "<tr>\n",
       "   <td>No. Observations:</td>         <td>569</td>        <td>Log-Likelihood:</td>    <td>-18.765</td>  \n",
       "</tr>\n",
       "<tr>\n",
       "       <td>Df Model:</td>             <td>26</td>            <td>LL-Null:</td>        <td>-375.72</td>  \n",
       "</tr>\n",
       "<tr>\n",
       "     <td>Df Residuals:</td>           <td>542</td>         <td>LLR p-value:</td>    <td>8.7553e-134</td>\n",
       "</tr>\n",
       "<tr>\n",
       "      <td>Converged:</td>           <td>1.0000</td>           <td>Scale:</td>         <td>1.0000</td>   \n",
       "</tr>\n",
       "<tr>\n",
       "    <td>No. Iterations:</td>        <td>27.0000</td>             <td></td>               <td></td>      \n",
       "</tr>\n",
       "</table>\n",
       "<table class=\"simpletable\">\n",
       "<tr>\n",
       "             <td></td>                <th>Coef.</th>   <th>Std.Err.</th>     <th>z</th>     <th>P>|z|</th>   <th>[0.025</th>    <th>0.975]</th>  \n",
       "</tr>\n",
       "<tr>\n",
       "  <th>mean radius</th>               <td>25.0893</td>   <td>23.3344</td>  <td>1.0752</td>  <td>0.2823</td>  <td>-20.6453</td>   <td>70.8239</td> \n",
       "</tr>\n",
       "<tr>\n",
       "  <th>mean texture</th>              <td>-0.2658</td>   <td>0.4726</td>   <td>-0.5624</td> <td>0.5738</td>   <td>-1.1922</td>   <td>0.6605</td>  \n",
       "</tr>\n",
       "<tr>\n",
       "  <th>mean perimeter</th>            <td>0.4044</td>    <td>2.5619</td>   <td>0.1578</td>  <td>0.8746</td>   <td>-4.6168</td>   <td>5.4255</td>  \n",
       "</tr>\n",
       "<tr>\n",
       "  <th>mean area</th>                 <td>-0.2417</td>   <td>0.1180</td>   <td>-2.0484</td> <td>0.0405</td>   <td>-0.4730</td>   <td>-0.0104</td> \n",
       "</tr>\n",
       "<tr>\n",
       "  <th>mean smoothness</th>          <td>-167.4376</td> <td>156.9789</td>  <td>-1.0666</td> <td>0.2861</td>  <td>-475.1106</td> <td>140.2354</td> \n",
       "</tr>\n",
       "<tr>\n",
       "  <th>mean compactness</th>         <td>256.3606</td>  <td>164.3358</td>  <td>1.5600</td>  <td>0.1188</td>  <td>-65.7316</td>  <td>578.4528</td> \n",
       "</tr>\n",
       "<tr>\n",
       "  <th>mean concavity</th>           <td>-62.8870</td>  <td>107.1243</td>  <td>-0.5870</td> <td>0.5572</td>  <td>-272.8468</td> <td>147.0727</td> \n",
       "</tr>\n",
       "<tr>\n",
       "  <th>mean concave points</th>      <td>-229.4027</td> <td>164.6296</td>  <td>-1.3934</td> <td>0.1635</td>  <td>-552.0708</td>  <td>93.2653</td> \n",
       "</tr>\n",
       "<tr>\n",
       "  <th>mean symmetry</th>            <td>-32.0571</td>   <td>40.8882</td>  <td>-0.7840</td> <td>0.4330</td>  <td>-112.1965</td>  <td>48.0823</td> \n",
       "</tr>\n",
       "<tr>\n",
       "  <th>mean fractal dimension</th>   <td>-585.0633</td> <td>365.4793</td>  <td>-1.6008</td> <td>0.1094</td> <td>-1301.3895</td> <td>131.2630</td> \n",
       "</tr>\n",
       "<tr>\n",
       "  <th>radius error</th>             <td>-17.0947</td>   <td>53.1888</td>  <td>-0.3214</td> <td>0.7479</td>  <td>-121.3428</td>  <td>87.1533</td> \n",
       "</tr>\n",
       "<tr>\n",
       "  <th>texture error</th>             <td>3.5445</td>    <td>3.2108</td>   <td>1.1039</td>  <td>0.2696</td>   <td>-2.7486</td>   <td>9.8375</td>  \n",
       "</tr>\n",
       "<tr>\n",
       "  <th>perimeter error</th>           <td>6.6437</td>    <td>5.4743</td>   <td>1.2136</td>  <td>0.2249</td>   <td>-4.0857</td>   <td>17.3731</td> \n",
       "</tr>\n",
       "<tr>\n",
       "  <th>area error</th>                <td>-0.5418</td>   <td>0.4622</td>   <td>-1.1721</td> <td>0.2412</td>   <td>-1.4477</td>   <td>0.3642</td>  \n",
       "</tr>\n",
       "<tr>\n",
       "  <th>smoothness error</th>         <td>149.5700</td>  <td>514.1261</td>  <td>0.2909</td>  <td>0.7711</td>  <td>-858.0987</td> <td>1157.2386</td>\n",
       "</tr>\n",
       "<tr>\n",
       "  <th>compactness error</th>        <td>-25.7115</td>  <td>230.8092</td>  <td>-0.1114</td> <td>0.9113</td>  <td>-478.0891</td> <td>426.6662</td> \n",
       "</tr>\n",
       "<tr>\n",
       "  <th>concavity error</th>          <td>284.4186</td>  <td>144.8002</td>  <td>1.9642</td>  <td>0.0495</td>   <td>0.6154</td>   <td>568.2218</td> \n",
       "</tr>\n",
       "<tr>\n",
       "  <th>concave points error</th>    <td>-1615.5854</td> <td>712.9389</td>  <td>-2.2661</td> <td>0.0234</td> <td>-3012.9200</td> <td>-218.2509</td>\n",
       "</tr>\n",
       "<tr>\n",
       "  <th>symmetry error</th>            <td>31.9596</td>  <td>207.9074</td>  <td>0.1537</td>  <td>0.8778</td>  <td>-375.5313</td> <td>439.4506</td> \n",
       "</tr>\n",
       "<tr>\n",
       "  <th>fractal dimension error</th>  <td>2469.1766</td> <td>1938.6587</td> <td>1.2737</td>  <td>0.2028</td> <td>-1330.5247</td> <td>6268.8778</td>\n",
       "</tr>\n",
       "<tr>\n",
       "  <th>worst radius</th>              <td>-5.2879</td>   <td>6.7781</td>   <td>-0.7801</td> <td>0.4353</td>  <td>-18.5726</td>   <td>7.9969</td>  \n",
       "</tr>\n",
       "<tr>\n",
       "  <th>worst texture</th>             <td>-1.0024</td>   <td>0.5092</td>   <td>-1.9685</td> <td>0.0490</td>   <td>-2.0004</td>   <td>-0.0044</td> \n",
       "</tr>\n",
       "<tr>\n",
       "  <th>worst perimeter</th>           <td>-0.6002</td>   <td>0.7263</td>   <td>-0.8264</td> <td>0.4086</td>   <td>-2.0237</td>   <td>0.8233</td>  \n",
       "</tr>\n",
       "<tr>\n",
       "  <th>worst area</th>                <td>0.0162</td>    <td>0.0574</td>   <td>0.2831</td>  <td>0.7771</td>   <td>-0.0962</td>   <td>0.1287</td>  \n",
       "</tr>\n",
       "<tr>\n",
       "  <th>worst smoothness</th>         <td>-28.2419</td>   <td>85.5548</td>  <td>-0.3301</td> <td>0.7413</td>  <td>-195.9263</td> <td>139.4425</td> \n",
       "</tr>\n",
       "<tr>\n",
       "  <th>worst compactness</th>        <td>-37.6006</td>   <td>47.0076</td>  <td>-0.7999</td> <td>0.4238</td>  <td>-129.7339</td>  <td>54.5326</td> \n",
       "</tr>\n",
       "<tr>\n",
       "  <th>worst concavity</th>          <td>-35.0567</td>   <td>33.5473</td>  <td>-1.0450</td> <td>0.2960</td>  <td>-100.8082</td>  <td>30.6948</td> \n",
       "</tr>\n",
       "</table>"
      ],
      "text/plain": [
       "<class 'statsmodels.iolib.summary2.Summary'>\n",
       "\"\"\"\n",
       "                                 Results: Logit\n",
       "================================================================================\n",
       "Model:                    Logit                Pseudo R-squared:     0.950      \n",
       "Dependent Variable:       target               AIC:                  91.5301    \n",
       "Date:                     2020-02-19 11:31     BIC:                  208.8149   \n",
       "No. Observations:         569                  Log-Likelihood:       -18.765    \n",
       "Df Model:                 26                   LL-Null:              -375.72    \n",
       "Df Residuals:             542                  LLR p-value:          8.7553e-134\n",
       "Converged:                1.0000               Scale:                1.0000     \n",
       "No. Iterations:           27.0000                                               \n",
       "--------------------------------------------------------------------------------\n",
       "                          Coef.     Std.Err.    z    P>|z|    [0.025     0.975] \n",
       "--------------------------------------------------------------------------------\n",
       "mean radius                25.0893   23.3344  1.0752 0.2823   -20.6453   70.8239\n",
       "mean texture               -0.2658    0.4726 -0.5624 0.5738    -1.1922    0.6605\n",
       "mean perimeter              0.4044    2.5619  0.1578 0.8746    -4.6168    5.4255\n",
       "mean area                  -0.2417    0.1180 -2.0484 0.0405    -0.4730   -0.0104\n",
       "mean smoothness          -167.4376  156.9789 -1.0666 0.2861  -475.1106  140.2354\n",
       "mean compactness          256.3606  164.3358  1.5600 0.1188   -65.7316  578.4528\n",
       "mean concavity            -62.8870  107.1243 -0.5870 0.5572  -272.8468  147.0727\n",
       "mean concave points      -229.4027  164.6296 -1.3934 0.1635  -552.0708   93.2653\n",
       "mean symmetry             -32.0571   40.8882 -0.7840 0.4330  -112.1965   48.0823\n",
       "mean fractal dimension   -585.0633  365.4793 -1.6008 0.1094 -1301.3895  131.2630\n",
       "radius error              -17.0947   53.1888 -0.3214 0.7479  -121.3428   87.1533\n",
       "texture error               3.5445    3.2108  1.1039 0.2696    -2.7486    9.8375\n",
       "perimeter error             6.6437    5.4743  1.2136 0.2249    -4.0857   17.3731\n",
       "area error                 -0.5418    0.4622 -1.1721 0.2412    -1.4477    0.3642\n",
       "smoothness error          149.5700  514.1261  0.2909 0.7711  -858.0987 1157.2386\n",
       "compactness error         -25.7115  230.8092 -0.1114 0.9113  -478.0891  426.6662\n",
       "concavity error           284.4186  144.8002  1.9642 0.0495     0.6154  568.2218\n",
       "concave points error    -1615.5854  712.9389 -2.2661 0.0234 -3012.9200 -218.2509\n",
       "symmetry error             31.9596  207.9074  0.1537 0.8778  -375.5313  439.4506\n",
       "fractal dimension error  2469.1766 1938.6587  1.2737 0.2028 -1330.5247 6268.8778\n",
       "worst radius               -5.2879    6.7781 -0.7801 0.4353   -18.5726    7.9969\n",
       "worst texture              -1.0024    0.5092 -1.9685 0.0490    -2.0004   -0.0044\n",
       "worst perimeter            -0.6002    0.7263 -0.8264 0.4086    -2.0237    0.8233\n",
       "worst area                  0.0162    0.0574  0.2831 0.7771    -0.0962    0.1287\n",
       "worst smoothness          -28.2419   85.5548 -0.3301 0.7413  -195.9263  139.4425\n",
       "worst compactness         -37.6006   47.0076 -0.7999 0.4238  -129.7339   54.5326\n",
       "worst concavity           -35.0567   33.5473 -1.0450 0.2960  -100.8082   30.6948\n",
       "================================================================================\n",
       "\n",
       "\"\"\""
      ]
     },
     "execution_count": 6,
     "metadata": {},
     "output_type": "execute_result"
    }
   ],
   "source": [
    "import statsmodels.api as sm\n",
    "model=sm.Logit(y,X)\n",
    "result=model.fit()\n",
    "result.summary2()"
   ]
  },
  {
   "cell_type": "code",
   "execution_count": 10,
   "metadata": {},
   "outputs": [
    {
     "name": "stderr",
     "output_type": "stream",
     "text": [
      "C:\\Anaconda\\lib\\site-packages\\sklearn\\linear_model\\_logistic.py:940: ConvergenceWarning: lbfgs failed to converge (status=1):\n",
      "STOP: TOTAL NO. of ITERATIONS REACHED LIMIT.\n",
      "\n",
      "Increase the number of iterations (max_iter) or scale the data as shown in:\n",
      "    https://scikit-learn.org/stable/modules/preprocessing.html\n",
      "Please also refer to the documentation for alternative solver options:\n",
      "    https://scikit-learn.org/stable/modules/linear_model.html#logistic-regression\n",
      "  extra_warning_msg=_LOGISTIC_SOLVER_CONVERGENCE_MSG)\n"
     ]
    },
    {
     "data": {
      "text/plain": [
       "LogisticRegression(C=1.0, class_weight=None, dual=False, fit_intercept=True,\n",
       "                   intercept_scaling=1, l1_ratio=None, max_iter=100,\n",
       "                   multi_class='auto', n_jobs=None, penalty='l2',\n",
       "                   random_state=None, solver='lbfgs', tol=0.0001, verbose=0,\n",
       "                   warm_start=False)"
      ]
     },
     "execution_count": 10,
     "metadata": {},
     "output_type": "execute_result"
    }
   ],
   "source": [
    "from sklearn.model_selection import train_test_split\n",
    "from sklearn.linear_model import LogisticRegression\n",
    "\n",
    "X_train,X_test,y_train,y_test = train_test_split(X,y,test_size=0.2,\n",
    "                                                random_state=0)\n",
    "model=LogisticRegression()\n",
    "model.fit(X_train,y_train)"
   ]
  },
  {
   "cell_type": "code",
   "execution_count": 11,
   "metadata": {},
   "outputs": [
    {
     "name": "stdout",
     "output_type": "stream",
     "text": [
      "0.9560439560439561\n",
      "0.9473684210526315\n"
     ]
    }
   ],
   "source": [
    "print(model.score(X_train,y_train)) #학습용 정확도\n",
    "print(model.score(X_test,y_test)) #검증용 정확도"
   ]
  },
  {
   "cell_type": "code",
   "execution_count": 12,
   "metadata": {},
   "outputs": [
    {
     "data": {
      "text/plain": [
       "array([[45,  2],\n",
       "       [ 4, 63]], dtype=int64)"
      ]
     },
     "execution_count": 12,
     "metadata": {},
     "output_type": "execute_result"
    }
   ],
   "source": [
    "from sklearn.metrics import confusion_matrix\n",
    "pred=model.predict(X_test) #모형이 예측한 값\n",
    "cm=confusion_matrix(y_test,pred) #실제값과 예측값 비교\n",
    "cm"
   ]
  },
  {
   "cell_type": "code",
   "execution_count": 13,
   "metadata": {},
   "outputs": [
    {
     "data": {
      "text/html": [
       "<div>\n",
       "<style scoped>\n",
       "    .dataframe tbody tr th:only-of-type {\n",
       "        vertical-align: middle;\n",
       "    }\n",
       "\n",
       "    .dataframe tbody tr th {\n",
       "        vertical-align: top;\n",
       "    }\n",
       "\n",
       "    .dataframe thead th {\n",
       "        text-align: right;\n",
       "    }\n",
       "</style>\n",
       "<table border=\"1\" class=\"dataframe\">\n",
       "  <thead>\n",
       "    <tr style=\"text-align: right;\">\n",
       "      <th></th>\n",
       "      <th>악성</th>\n",
       "      <th>양성</th>\n",
       "    </tr>\n",
       "  </thead>\n",
       "  <tbody>\n",
       "    <tr>\n",
       "      <td>악성</td>\n",
       "      <td>45</td>\n",
       "      <td>2</td>\n",
       "    </tr>\n",
       "    <tr>\n",
       "      <td>양성</td>\n",
       "      <td>4</td>\n",
       "      <td>63</td>\n",
       "    </tr>\n",
       "  </tbody>\n",
       "</table>\n",
       "</div>"
      ],
      "text/plain": [
       "    악성  양성\n",
       "악성  45   2\n",
       "양성   4  63"
      ]
     },
     "execution_count": 13,
     "metadata": {},
     "output_type": "execute_result"
    }
   ],
   "source": [
    "df_cm=pd.DataFrame(cm,index=['악성','양성'],columns=['악성','양성'])\n",
    "df_cm"
   ]
  },
  {
   "cell_type": "code",
   "execution_count": null,
   "metadata": {},
   "outputs": [],
   "source": []
  },
  {
   "cell_type": "code",
   "execution_count": null,
   "metadata": {},
   "outputs": [],
   "source": []
  },
  {
   "cell_type": "code",
   "execution_count": null,
   "metadata": {},
   "outputs": [],
   "source": []
  },
  {
   "cell_type": "code",
   "execution_count": null,
   "metadata": {},
   "outputs": [],
   "source": []
  }
 ],
 "metadata": {
  "kernelspec": {
   "display_name": "Python 3",
   "language": "python",
   "name": "python3"
  },
  "language_info": {
   "codemirror_mode": {
    "name": "ipython",
    "version": 3
   },
   "file_extension": ".py",
   "mimetype": "text/x-python",
   "name": "python",
   "nbconvert_exporter": "python",
   "pygments_lexer": "ipython3",
   "version": "3.7.4"
  }
 },
 "nbformat": 4,
 "nbformat_minor": 2
}
