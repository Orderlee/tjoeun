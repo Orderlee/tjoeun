{
 "cells": [
  {
   "cell_type": "code",
   "execution_count": 2,
   "metadata": {},
   "outputs": [
    {
     "data": {
      "text/html": [
       "<div>\n",
       "<style scoped>\n",
       "    .dataframe tbody tr th:only-of-type {\n",
       "        vertical-align: middle;\n",
       "    }\n",
       "\n",
       "    .dataframe tbody tr th {\n",
       "        vertical-align: top;\n",
       "    }\n",
       "\n",
       "    .dataframe thead th {\n",
       "        text-align: right;\n",
       "    }\n",
       "</style>\n",
       "<table border=\"1\" class=\"dataframe\">\n",
       "  <thead>\n",
       "    <tr style=\"text-align: right;\">\n",
       "      <th></th>\n",
       "      <th>Time</th>\n",
       "      <th>V1</th>\n",
       "      <th>V2</th>\n",
       "      <th>V3</th>\n",
       "      <th>V4</th>\n",
       "      <th>V5</th>\n",
       "      <th>V6</th>\n",
       "      <th>V7</th>\n",
       "      <th>V8</th>\n",
       "      <th>V9</th>\n",
       "      <th>...</th>\n",
       "      <th>V21</th>\n",
       "      <th>V22</th>\n",
       "      <th>V23</th>\n",
       "      <th>V24</th>\n",
       "      <th>V25</th>\n",
       "      <th>V26</th>\n",
       "      <th>V27</th>\n",
       "      <th>V28</th>\n",
       "      <th>Amount</th>\n",
       "      <th>Class</th>\n",
       "    </tr>\n",
       "  </thead>\n",
       "  <tbody>\n",
       "    <tr>\n",
       "      <td>0</td>\n",
       "      <td>0.0</td>\n",
       "      <td>-1.359807</td>\n",
       "      <td>-0.072781</td>\n",
       "      <td>2.536347</td>\n",
       "      <td>1.378155</td>\n",
       "      <td>-0.338321</td>\n",
       "      <td>0.462388</td>\n",
       "      <td>0.239599</td>\n",
       "      <td>0.098698</td>\n",
       "      <td>0.363787</td>\n",
       "      <td>...</td>\n",
       "      <td>-0.018307</td>\n",
       "      <td>0.277838</td>\n",
       "      <td>-0.110474</td>\n",
       "      <td>0.066928</td>\n",
       "      <td>0.128539</td>\n",
       "      <td>-0.189115</td>\n",
       "      <td>0.133558</td>\n",
       "      <td>-0.021053</td>\n",
       "      <td>149.62</td>\n",
       "      <td>0</td>\n",
       "    </tr>\n",
       "    <tr>\n",
       "      <td>1</td>\n",
       "      <td>0.0</td>\n",
       "      <td>1.191857</td>\n",
       "      <td>0.266151</td>\n",
       "      <td>0.166480</td>\n",
       "      <td>0.448154</td>\n",
       "      <td>0.060018</td>\n",
       "      <td>-0.082361</td>\n",
       "      <td>-0.078803</td>\n",
       "      <td>0.085102</td>\n",
       "      <td>-0.255425</td>\n",
       "      <td>...</td>\n",
       "      <td>-0.225775</td>\n",
       "      <td>-0.638672</td>\n",
       "      <td>0.101288</td>\n",
       "      <td>-0.339846</td>\n",
       "      <td>0.167170</td>\n",
       "      <td>0.125895</td>\n",
       "      <td>-0.008983</td>\n",
       "      <td>0.014724</td>\n",
       "      <td>2.69</td>\n",
       "      <td>0</td>\n",
       "    </tr>\n",
       "    <tr>\n",
       "      <td>2</td>\n",
       "      <td>1.0</td>\n",
       "      <td>-1.358354</td>\n",
       "      <td>-1.340163</td>\n",
       "      <td>1.773209</td>\n",
       "      <td>0.379780</td>\n",
       "      <td>-0.503198</td>\n",
       "      <td>1.800499</td>\n",
       "      <td>0.791461</td>\n",
       "      <td>0.247676</td>\n",
       "      <td>-1.514654</td>\n",
       "      <td>...</td>\n",
       "      <td>0.247998</td>\n",
       "      <td>0.771679</td>\n",
       "      <td>0.909412</td>\n",
       "      <td>-0.689281</td>\n",
       "      <td>-0.327642</td>\n",
       "      <td>-0.139097</td>\n",
       "      <td>-0.055353</td>\n",
       "      <td>-0.059752</td>\n",
       "      <td>378.66</td>\n",
       "      <td>0</td>\n",
       "    </tr>\n",
       "    <tr>\n",
       "      <td>3</td>\n",
       "      <td>1.0</td>\n",
       "      <td>-0.966272</td>\n",
       "      <td>-0.185226</td>\n",
       "      <td>1.792993</td>\n",
       "      <td>-0.863291</td>\n",
       "      <td>-0.010309</td>\n",
       "      <td>1.247203</td>\n",
       "      <td>0.237609</td>\n",
       "      <td>0.377436</td>\n",
       "      <td>-1.387024</td>\n",
       "      <td>...</td>\n",
       "      <td>-0.108300</td>\n",
       "      <td>0.005274</td>\n",
       "      <td>-0.190321</td>\n",
       "      <td>-1.175575</td>\n",
       "      <td>0.647376</td>\n",
       "      <td>-0.221929</td>\n",
       "      <td>0.062723</td>\n",
       "      <td>0.061458</td>\n",
       "      <td>123.50</td>\n",
       "      <td>0</td>\n",
       "    </tr>\n",
       "    <tr>\n",
       "      <td>4</td>\n",
       "      <td>2.0</td>\n",
       "      <td>-1.158233</td>\n",
       "      <td>0.877737</td>\n",
       "      <td>1.548718</td>\n",
       "      <td>0.403034</td>\n",
       "      <td>-0.407193</td>\n",
       "      <td>0.095921</td>\n",
       "      <td>0.592941</td>\n",
       "      <td>-0.270533</td>\n",
       "      <td>0.817739</td>\n",
       "      <td>...</td>\n",
       "      <td>-0.009431</td>\n",
       "      <td>0.798278</td>\n",
       "      <td>-0.137458</td>\n",
       "      <td>0.141267</td>\n",
       "      <td>-0.206010</td>\n",
       "      <td>0.502292</td>\n",
       "      <td>0.219422</td>\n",
       "      <td>0.215153</td>\n",
       "      <td>69.99</td>\n",
       "      <td>0</td>\n",
       "    </tr>\n",
       "  </tbody>\n",
       "</table>\n",
       "<p>5 rows × 31 columns</p>\n",
       "</div>"
      ],
      "text/plain": [
       "   Time        V1        V2        V3        V4        V5        V6        V7  \\\n",
       "0   0.0 -1.359807 -0.072781  2.536347  1.378155 -0.338321  0.462388  0.239599   \n",
       "1   0.0  1.191857  0.266151  0.166480  0.448154  0.060018 -0.082361 -0.078803   \n",
       "2   1.0 -1.358354 -1.340163  1.773209  0.379780 -0.503198  1.800499  0.791461   \n",
       "3   1.0 -0.966272 -0.185226  1.792993 -0.863291 -0.010309  1.247203  0.237609   \n",
       "4   2.0 -1.158233  0.877737  1.548718  0.403034 -0.407193  0.095921  0.592941   \n",
       "\n",
       "         V8        V9  ...       V21       V22       V23       V24       V25  \\\n",
       "0  0.098698  0.363787  ... -0.018307  0.277838 -0.110474  0.066928  0.128539   \n",
       "1  0.085102 -0.255425  ... -0.225775 -0.638672  0.101288 -0.339846  0.167170   \n",
       "2  0.247676 -1.514654  ...  0.247998  0.771679  0.909412 -0.689281 -0.327642   \n",
       "3  0.377436 -1.387024  ... -0.108300  0.005274 -0.190321 -1.175575  0.647376   \n",
       "4 -0.270533  0.817739  ... -0.009431  0.798278 -0.137458  0.141267 -0.206010   \n",
       "\n",
       "        V26       V27       V28  Amount  Class  \n",
       "0 -0.189115  0.133558 -0.021053  149.62      0  \n",
       "1  0.125895 -0.008983  0.014724    2.69      0  \n",
       "2 -0.139097 -0.055353 -0.059752  378.66      0  \n",
       "3 -0.221929  0.062723  0.061458  123.50      0  \n",
       "4  0.502292  0.219422  0.215153   69.99      0  \n",
       "\n",
       "[5 rows x 31 columns]"
      ]
     },
     "execution_count": 2,
     "metadata": {},
     "output_type": "execute_result"
    }
   ],
   "source": [
    "import pandas as pd\n",
    "df=pd.read_csv('d:/data/creditcard/creditcard.csv')\n",
    "df.head()"
   ]
  },
  {
   "cell_type": "code",
   "execution_count": 3,
   "metadata": {},
   "outputs": [
    {
     "data": {
      "text/plain": [
       "<matplotlib.axes._subplots.AxesSubplot at 0x23292473d88>"
      ]
     },
     "execution_count": 3,
     "metadata": {},
     "output_type": "execute_result"
    },
    {
     "data": {
      "image/png": "[encoded data removed]",
      "text/plain": [
       "<Figure size 432x288 with 1 Axes>"
      ]
     },
     "metadata": {
      "needs_background": "light"
     },
     "output_type": "display_data"
    }
   ],
   "source": [
    "%matplotlib inline\n",
    "import seaborn as sns\n",
    "import matplotlib.pyplot as plt\n",
    "colors=['yellow','red']\n",
    "sns.countplot('Class',data=df,palette=colors) #카운트 플롯"
   ]
  },
  {
   "cell_type": "code",
   "execution_count": 4,
   "metadata": {},
   "outputs": [
    {
     "name": "stdout",
     "output_type": "stream",
     "text": [
      "count     492.000000\n",
      "mean      122.211321\n",
      "std       256.683288\n",
      "min         0.000000\n",
      "25%         1.000000\n",
      "50%         9.250000\n",
      "75%       105.890000\n",
      "max      2125.870000\n",
      "Name: Amount, dtype: float64\n",
      "count    284315.000000\n",
      "mean         88.291022\n",
      "std         250.105092\n",
      "min           0.000000\n",
      "25%           5.650000\n",
      "50%          22.000000\n",
      "75%          77.050000\n",
      "max       25691.160000\n",
      "Name: Amount, dtype: float64\n"
     ]
    }
   ],
   "source": [
    "print(df.Amount[df.Class==1].describe()) #사기거래\n",
    "print(df.Amount[df.Class==0].describe()) #정상거래"
   ]
  },
  {
   "cell_type": "code",
   "execution_count": 19,
   "metadata": {},
   "outputs": [
    {
     "name": "stdout",
     "output_type": "stream",
     "text": [
      "Index(['V1', 'V2', 'V3', 'V4', 'V5', 'V6', 'V7', 'V8', 'V9', 'V10', 'V11',\n",
      "       'V12', 'V13', 'V14', 'V15', 'V16', 'V17', 'V18', 'V19', 'V20', 'V21',\n",
      "       'V22', 'V23', 'V24', 'V25', 'V26', 'V27', 'V28'],\n",
      "      dtype='object')\n"
     ]
    }
   ],
   "source": [
    "train_cols=df.columns[1:29] #독립변수 (V1~V28)\n",
    "print(train_cols)\n",
    "X=df[train_cols]\n",
    "y=df['Amount'] #종속변수"
   ]
  },
  {
   "cell_type": "code",
   "execution_count": 15,
   "metadata": {},
   "outputs": [
    {
     "name": "stdout",
     "output_type": "stream",
     "text": [
      "                                 OLS Regression Results                                \n",
      "=======================================================================================\n",
      "Dep. Variable:                 Amount   R-squared (uncentered):                   0.816\n",
      "Model:                            OLS   Adj. R-squared (uncentered):              0.816\n",
      "Method:                 Least Squares   F-statistic:                          4.501e+04\n",
      "Date:                Tue, 18 Feb 2020   Prob (F-statistic):                        0.00\n",
      "Time:                        10:31:03   Log-Likelihood:                     -1.7527e+06\n",
      "No. Observations:              284807   AIC:                                  3.506e+06\n",
      "Df Residuals:                  284779   BIC:                                  3.506e+06\n",
      "Df Model:                          28                                                  \n",
      "Covariance Type:            nonrobust                                                  \n",
      "==============================================================================\n",
      "                 coef    std err          t      P>|t|      [0.025      0.975]\n",
      "------------------------------------------------------------------------------\n",
      "V1           -29.0778      0.109   -266.886      0.000     -29.291     -28.864\n",
      "V2           -80.4914      0.129   -622.837      0.000     -80.745     -80.238\n",
      "V3           -34.7867      0.141   -247.162      0.000     -35.063     -34.511\n",
      "V4            17.4414      0.151    115.718      0.000      17.146      17.737\n",
      "V5           -70.0132      0.155   -452.828      0.000     -70.316     -69.710\n",
      "V6            40.5482      0.160    253.140      0.000      40.234      40.862\n",
      "V7            80.3298      0.173    465.668      0.000      79.992      80.668\n",
      "V8           -21.5867      0.179   -120.814      0.000     -21.937     -21.237\n",
      "V9           -10.0732      0.194    -51.858      0.000     -10.454      -9.692\n",
      "V10          -23.3161      0.196   -118.965      0.000     -23.700     -22.932\n",
      "V11            0.0255      0.209      0.122      0.903      -0.384       0.435\n",
      "V12           -2.3885      0.214    -11.183      0.000      -2.807      -1.970\n",
      "V13            1.3303      0.214      6.204      0.000       0.910       1.751\n",
      "V14            8.8065      0.223     39.558      0.000       8.370       9.243\n",
      "V15           -0.8159      0.233     -3.500      0.000      -1.273      -0.359\n",
      "V16           -1.1159      0.244     -4.582      0.000      -1.593      -0.639\n",
      "V17            2.1524      0.251      8.567      0.000       1.660       2.645\n",
      "V18           10.6384      0.255     41.784      0.000      10.139      11.137\n",
      "V19          -17.2528      0.262    -65.811      0.000     -17.767     -16.739\n",
      "V20          110.1166      0.277    397.797      0.000     109.574     110.659\n",
      "V21           36.0948      0.291    124.236      0.000      35.525      36.664\n",
      "V22          -22.3342      0.294    -75.950      0.000     -22.911     -21.758\n",
      "V23          -45.1136      0.342   -132.011      0.000     -45.783     -44.444\n",
      "V24            2.1253      0.352      6.032      0.000       1.435       2.816\n",
      "V25          -22.9531      0.409    -56.067      0.000     -23.756     -22.151\n",
      "V26           -1.6639      0.443     -3.760      0.000      -2.531      -0.797\n",
      "V27           17.8624      0.529     33.785      0.000      16.826      18.899\n",
      "V28            7.7731      0.647     12.023      0.000       6.506       9.040\n",
      "==============================================================================\n",
      "Omnibus:                   475780.388   Durbin-Watson:                   0.777\n",
      "Prob(Omnibus):                  0.000   Jarque-Bera (JB):      14550861272.517\n",
      "Skew:                         -10.000   Prob(JB):                         0.00\n",
      "Kurtosis:                    1110.143   Cond. No.                         5.93\n",
      "==============================================================================\n",
      "\n",
      "Warnings:\n",
      "[1] Standard Errors assume that the covariance matrix of the errors is correctly specified.\n"
     ]
    }
   ],
   "source": [
    "import statsmodels.api as sm\n",
    "model=sm.OLS(y,X) #다중회귀분석 모형\n",
    "result = model.fit() #학습\n",
    "print(result.summary()) #모형 요약\n",
    "#R-squared (uncentered): 0.816 81.6%"
   ]
  },
  {
   "cell_type": "code",
   "execution_count": 20,
   "metadata": {},
   "outputs": [
    {
     "name": "stdout",
     "output_type": "stream",
     "text": [
      "                                 OLS Regression Results                                \n",
      "=======================================================================================\n",
      "Dep. Variable:                 Amount   R-squared (uncentered):                   0.816\n",
      "Model:                            OLS   Adj. R-squared (uncentered):              0.816\n",
      "Method:                 Least Squares   F-statistic:                          4.668e+04\n",
      "Date:                Tue, 18 Feb 2020   Prob (F-statistic):                        0.00\n",
      "Time:                        10:35:12   Log-Likelihood:                     -1.7527e+06\n",
      "No. Observations:              284807   AIC:                                  3.506e+06\n",
      "Df Residuals:                  284780   BIC:                                  3.506e+06\n",
      "Df Model:                          27                                                  \n",
      "Covariance Type:            nonrobust                                                  \n",
      "==============================================================================\n",
      "                 coef    std err          t      P>|t|      [0.025      0.975]\n",
      "------------------------------------------------------------------------------\n",
      "V1           -29.0778      0.109   -266.886      0.000     -29.291     -28.864\n",
      "V2           -80.4914      0.129   -622.838      0.000     -80.745     -80.238\n",
      "V3           -34.7867      0.141   -247.163      0.000     -35.063     -34.511\n",
      "V4            17.4414      0.151    115.719      0.000      17.146      17.737\n",
      "V5           -70.0132      0.155   -452.829      0.000     -70.316     -69.710\n",
      "V6            40.5482      0.160    253.141      0.000      40.234      40.862\n",
      "V7            80.3298      0.173    465.669      0.000      79.992      80.668\n",
      "V8           -21.5867      0.179   -120.814      0.000     -21.937     -21.237\n",
      "V9           -10.0732      0.194    -51.858      0.000     -10.454      -9.692\n",
      "V10          -23.3161      0.196   -118.966      0.000     -23.700     -22.932\n",
      "V12           -2.3885      0.214    -11.183      0.000      -2.807      -1.970\n",
      "V13            1.3303      0.214      6.204      0.000       0.910       1.751\n",
      "V14            8.8065      0.223     39.558      0.000       8.370       9.243\n",
      "V15           -0.8159      0.233     -3.500      0.000      -1.273      -0.359\n",
      "V16           -1.1159      0.244     -4.582      0.000      -1.593      -0.639\n",
      "V17            2.1524      0.251      8.567      0.000       1.660       2.645\n",
      "V18           10.6384      0.255     41.784      0.000      10.139      11.137\n",
      "V19          -17.2528      0.262    -65.812      0.000     -17.767     -16.739\n",
      "V20          110.1166      0.277    397.798      0.000     109.574     110.659\n",
      "V21           36.0948      0.291    124.236      0.000      35.525      36.664\n",
      "V22          -22.3342      0.294    -75.950      0.000     -22.911     -21.758\n",
      "V23          -45.1136      0.342   -132.011      0.000     -45.783     -44.444\n",
      "V24            2.1253      0.352      6.032      0.000       1.435       2.816\n",
      "V25          -22.9531      0.409    -56.067      0.000     -23.756     -22.151\n",
      "V26           -1.6639      0.443     -3.760      0.000      -2.531      -0.797\n",
      "V27           17.8624      0.529     33.785      0.000      16.826      18.899\n",
      "V28            7.7731      0.647     12.023      0.000       6.506       9.040\n",
      "==============================================================================\n",
      "Omnibus:                   475763.237   Durbin-Watson:                   0.777\n",
      "Prob(Omnibus):                  0.000   Jarque-Bera (JB):      14550061106.294\n",
      "Skew:                          -9.999   Prob(JB):                         0.00\n",
      "Kurtosis:                    1110.113   Cond. No.                         5.93\n",
      "==============================================================================\n",
      "\n",
      "Warnings:\n",
      "[1] Standard Errors assume that the covariance matrix of the errors is correctly specified.\n"
     ]
    }
   ],
   "source": [
    "#유이하지 않은 V11 변수를 제외한 모형\n",
    "X=df[['V1', 'V2', 'V3', 'V4', 'V5', 'V6', 'V7', 'V8', 'V9', 'V10',\n",
    "       'V12', 'V13', 'V14', 'V15', 'V16', 'V17', 'V18', 'V19', 'V20', 'V21',\n",
    "       'V22', 'V23', 'V24', 'V25', 'V26', 'V27', 'V28']]\n",
    "model=sm.OLS(y,X) #다중회귀분석 모형\n",
    "result = model.fit() #학습\n",
    "print(result.summary())"
   ]
  },
  {
   "cell_type": "code",
   "execution_count": 21,
   "metadata": {},
   "outputs": [],
   "source": [
    "from sklearn.model_selection import train_test_split\n",
    "from sklearn.linear_model import LinearRegression\n",
    "#학습용:검증용 8:2로 구분\n",
    "X_train,X_test,y_train,y_test=train_test_split(X,y,test_size=0.2,\n",
    "                                              random_state=10)\n",
    "model=LinearRegression().fit(X_train,y_train) #기계학습"
   ]
  },
  {
   "cell_type": "code",
   "execution_count": 22,
   "metadata": {},
   "outputs": [
    {
     "name": "stdout",
     "output_type": "stream",
     "text": [
      "0.9166678956839781\n",
      "0.9202406775176498\n"
     ]
    }
   ],
   "source": [
    "print(model.score(X_train,y_train)) #학습용 데이터셋의 예측 정확도\n",
    "print(model.score(X_test,y_test)) #검증용 데이터셋의 예측 정확도"
   ]
  },
  {
   "cell_type": "code",
   "execution_count": null,
   "metadata": {},
   "outputs": [],
   "source": []
  }
 ],
 "metadata": {
  "kernelspec": {
   "display_name": "Python 3",
   "language": "python",
   "name": "python3"
  },
  "language_info": {
   "codemirror_mode": {
    "name": "ipython",
    "version": 3
   },
   "file_extension": ".py",
   "mimetype": "text/x-python",
   "name": "python",
   "nbconvert_exporter": "python",
   "pygments_lexer": "ipython3",
   "version": "3.7.4"
  }
 },
 "nbformat": 4,
 "nbformat_minor": 2
}
