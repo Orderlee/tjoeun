{
 "cells": [
  {
   "cell_type": "code",
   "execution_count": 2,
   "metadata": {},
   "outputs": [
    {
     "data": {
      "text/html": [
       "<div>\n",
       "<style scoped>\n",
       "    .dataframe tbody tr th:only-of-type {\n",
       "        vertical-align: middle;\n",
       "    }\n",
       "\n",
       "    .dataframe tbody tr th {\n",
       "        vertical-align: top;\n",
       "    }\n",
       "\n",
       "    .dataframe thead th {\n",
       "        text-align: right;\n",
       "    }\n",
       "</style>\n",
       "<table border=\"1\" class=\"dataframe\">\n",
       "  <thead>\n",
       "    <tr style=\"text-align: right;\">\n",
       "      <th></th>\n",
       "      <th>Life expectancy at birth</th>\n",
       "      <th>Mean years of schooling</th>\n",
       "      <th>Expected years of schooling</th>\n",
       "      <th>GNI</th>\n",
       "      <th>Export</th>\n",
       "      <th>HDI</th>\n",
       "    </tr>\n",
       "  </thead>\n",
       "  <tbody>\n",
       "    <tr>\n",
       "      <td>0</td>\n",
       "      <td>48.4</td>\n",
       "      <td>3.5</td>\n",
       "      <td>8.2</td>\n",
       "      <td>280</td>\n",
       "      <td>85.119671</td>\n",
       "      <td>0.286</td>\n",
       "    </tr>\n",
       "    <tr>\n",
       "      <td>1</td>\n",
       "      <td>54.7</td>\n",
       "      <td>1.4</td>\n",
       "      <td>4.9</td>\n",
       "      <td>641</td>\n",
       "      <td>42.473864</td>\n",
       "      <td>0.295</td>\n",
       "    </tr>\n",
       "    <tr>\n",
       "      <td>2</td>\n",
       "      <td>50.4</td>\n",
       "      <td>2.7</td>\n",
       "      <td>10.5</td>\n",
       "      <td>368</td>\n",
       "      <td>42.473864</td>\n",
       "      <td>0.316</td>\n",
       "    </tr>\n",
       "    <tr>\n",
       "      <td>3</td>\n",
       "      <td>50.2</td>\n",
       "      <td>1.2</td>\n",
       "      <td>9.2</td>\n",
       "      <td>898</td>\n",
       "      <td>25.251291</td>\n",
       "      <td>0.322</td>\n",
       "    </tr>\n",
       "    <tr>\n",
       "      <td>4</td>\n",
       "      <td>49.6</td>\n",
       "      <td>1.5</td>\n",
       "      <td>7.2</td>\n",
       "      <td>1105</td>\n",
       "      <td>43.900000</td>\n",
       "      <td>0.328</td>\n",
       "    </tr>\n",
       "  </tbody>\n",
       "</table>\n",
       "</div>"
      ],
      "text/plain": [
       "   Life expectancy at birth  Mean years of schooling  \\\n",
       "0                      48.4                      3.5   \n",
       "1                      54.7                      1.4   \n",
       "2                      50.4                      2.7   \n",
       "3                      50.2                      1.2   \n",
       "4                      49.6                      1.5   \n",
       "\n",
       "   Expected years of schooling   GNI     Export    HDI  \n",
       "0                          8.2   280  85.119671  0.286  \n",
       "1                          4.9   641  42.473864  0.295  \n",
       "2                         10.5   368  42.473864  0.316  \n",
       "3                          9.2   898  25.251291  0.322  \n",
       "4                          7.2  1105  43.900000  0.328  "
      ]
     },
     "execution_count": 2,
     "metadata": {},
     "output_type": "execute_result"
    }
   ],
   "source": [
    "import pandas as pd\n",
    "df=pd.read_csv('d:/data/hdi/hdi-data2.csv')\n",
    "df.head()"
   ]
  },
  {
   "cell_type": "code",
   "execution_count": 5,
   "metadata": {},
   "outputs": [],
   "source": [
    "train_cols=df.columns[0:5] #0~4\n",
    "X=df[train_cols] #독립변수\n",
    "y=df['HDI']  #종속변수"
   ]
  },
  {
   "cell_type": "code",
   "execution_count": 6,
   "metadata": {},
   "outputs": [
    {
     "data": {
      "text/plain": [
       "LinregressResult(slope=0.016124893707708518, intercept=-0.4599942026967768, rvalue=0.9015129749487512, pvalue=3.284775456269812e-69, stderr=0.000569086352615306)"
      ]
     },
     "execution_count": 6,
     "metadata": {},
     "output_type": "execute_result"
    }
   ],
   "source": [
    "from scipy import stats\n",
    "#단순회귀분석\n",
    "#기대수명과 hdi의 관계\n",
    "#귀무가설: 기대수명은 인간개발지수에 영향을 미치지 않는다.\n",
    "#대립가설: 기대수명은 인간개발지수에 영향을 미친다.\n",
    "x2=df['Life expectancy at birth'].values\n",
    "y2=df['HDI'].values\n",
    "result=stats.linregress(x2,y2) #회귀분석모형\n",
    "result \n",
    "#pvalue=3.284775456269812e-69 95% 신뢰수준하에서 유의\n",
    "#귀무가설 기각, 대립가설 채택\n",
    "# 결론: 기대수명은 인간개발지수에 영향을 미친다.\n",
    "# rvalue=0.9015129749487512 설명모형 90.1%"
   ]
  },
  {
   "cell_type": "code",
   "execution_count": 7,
   "metadata": {},
   "outputs": [
    {
     "data": {
      "text/plain": [
       "[<matplotlib.lines.Line2D at 0x2d2ff855288>]"
      ]
     },
     "execution_count": 7,
     "metadata": {},
     "output_type": "execute_result"
    },
    {
     "data": {
      "image/png": "[encoded data removed]",
      "text/plain": [
       "<Figure size 432x288 with 1 Axes>"
      ]
     },
     "metadata": {
      "needs_background": "light"
     },
     "output_type": "display_data"
    }
   ],
   "source": [
    "%matplotlib inline\n",
    "import matplotlib.pyplot as plt\n",
    "slope,intercept,rvalue,pvalue,stderr=stats.linregress(x2,y2)\n",
    "plt.scatter(x2,y2) #산점도\n",
    "plt.plot(x2,slope*x2+intercept,c='red') #회귀선"
   ]
  },
  {
   "cell_type": "code",
   "execution_count": 9,
   "metadata": {},
   "outputs": [
    {
     "data": {
      "text/plain": [
       "LinregressResult(slope=0.05232467201381997, intercept=0.26456717569801413, rvalue=0.9005296673824348, pvalue=7.857605621580009e-69, stderr=0.0018574055433612294)"
      ]
     },
     "execution_count": 9,
     "metadata": {},
     "output_type": "execute_result"
    }
   ],
   "source": [
    "#단순회귀분석\n",
    "#평균교육기간과 hdi의 관계\n",
    "#귀무가설: 평균교육기간은 인간개발지수에 영향을 미치지 않는다.\n",
    "#대립가설: 평균교육기간은 인간개발지수에 영향을 미친다.\n",
    "x2=df['Mean years of schooling'].values\n",
    "y2=df['HDI'].values\n",
    "result=stats.linregress(x2,y2) #회귀분석모형\n",
    "result \n",
    "#pvalue=3.284775456269812e-69 95% 신뢰수준하에서 유의\n",
    "#귀무가설 기각, 대립가설 채택\n",
    "# 결론: 기대수명은 인간개발지수에 영향을 미친다.\n",
    "# rvalue=0.9015129749487512 설명모형 90.1%"
   ]
  },
  {
   "cell_type": "code",
   "execution_count": 10,
   "metadata": {},
   "outputs": [
    {
     "data": {
      "text/plain": [
       "[<matplotlib.lines.Line2D at 0x2d2ff511c48>]"
      ]
     },
     "execution_count": 10,
     "metadata": {},
     "output_type": "execute_result"
    },
    {
     "data": {
      "image/png": "[encoded data removed]",
      "text/plain": [
       "<Figure size 432x288 with 1 Axes>"
      ]
     },
     "metadata": {
      "needs_background": "light"
     },
     "output_type": "display_data"
    }
   ],
   "source": [
    "%matplotlib inline\n",
    "import matplotlib.pyplot as plt\n",
    "slope,intercept,rvalue,pvalue,stderr=stats.linregress(x2,y2)\n",
    "plt.scatter(x2,y2) #산점도\n",
    "plt.plot(x2,slope*x2+intercept,c='red') #회귀선"
   ]
  },
  {
   "cell_type": "code",
   "execution_count": 11,
   "metadata": {},
   "outputs": [
    {
     "data": {
      "text/plain": [
       "Index(['Life expectancy at birth', 'Mean years of schooling',\n",
       "       'Expected years of schooling', 'GNI', 'Export', 'HDI'],\n",
       "      dtype='object')"
      ]
     },
     "execution_count": 11,
     "metadata": {},
     "output_type": "execute_result"
    }
   ],
   "source": [
    "df.columns"
   ]
  },
  {
   "cell_type": "code",
   "execution_count": 18,
   "metadata": {},
   "outputs": [],
   "source": [
    "#Export 변수를 제외한 모형\n",
    "X=df[['Life expectancy at birth', 'Mean years of schooling',\n",
    "       'Expected years of schooling', 'GNI']] #독립변수\n",
    "y=df['HDI'] "
   ]
  },
  {
   "cell_type": "code",
   "execution_count": 19,
   "metadata": {},
   "outputs": [
    {
     "data": {
      "text/html": [
       "<table class=\"simpletable\">\n",
       "<caption>OLS Regression Results</caption>\n",
       "<tr>\n",
       "  <th>Dep. Variable:</th>           <td>HDI</td>       <th>  R-squared (uncentered):</th>      <td>   0.998</td> \n",
       "</tr>\n",
       "<tr>\n",
       "  <th>Model:</th>                   <td>OLS</td>       <th>  Adj. R-squared (uncentered):</th> <td>   0.998</td> \n",
       "</tr>\n",
       "<tr>\n",
       "  <th>Method:</th>             <td>Least Squares</td>  <th>  F-statistic:       </th>          <td>2.135e+04</td>\n",
       "</tr>\n",
       "<tr>\n",
       "  <th>Date:</th>             <td>Tue, 18 Feb 2020</td> <th>  Prob (F-statistic):</th>          <td>4.73e-243</td>\n",
       "</tr>\n",
       "<tr>\n",
       "  <th>Time:</th>                 <td>11:01:30</td>     <th>  Log-Likelihood:    </th>          <td>  380.29</td> \n",
       "</tr>\n",
       "<tr>\n",
       "  <th>No. Observations:</th>      <td>   187</td>      <th>  AIC:               </th>          <td>  -752.6</td> \n",
       "</tr>\n",
       "<tr>\n",
       "  <th>Df Residuals:</th>          <td>   183</td>      <th>  BIC:               </th>          <td>  -739.7</td> \n",
       "</tr>\n",
       "<tr>\n",
       "  <th>Df Model:</th>              <td>     4</td>      <th>                     </th>              <td> </td>    \n",
       "</tr>\n",
       "<tr>\n",
       "  <th>Covariance Type:</th>      <td>nonrobust</td>    <th>                     </th>              <td> </td>    \n",
       "</tr>\n",
       "</table>\n",
       "<table class=\"simpletable\">\n",
       "<tr>\n",
       "               <td></td>                  <th>coef</th>     <th>std err</th>      <th>t</th>      <th>P>|t|</th>  <th>[0.025</th>    <th>0.975]</th>  \n",
       "</tr>\n",
       "<tr>\n",
       "  <th>Life expectancy at birth</th>    <td>    0.0043</td> <td>    0.000</td> <td>   19.569</td> <td> 0.000</td> <td>    0.004</td> <td>    0.005</td>\n",
       "</tr>\n",
       "<tr>\n",
       "  <th>Mean years of schooling</th>     <td>    0.0234</td> <td>    0.001</td> <td>   16.458</td> <td> 0.000</td> <td>    0.021</td> <td>    0.026</td>\n",
       "</tr>\n",
       "<tr>\n",
       "  <th>Expected years of schooling</th> <td>    0.0124</td> <td>    0.002</td> <td>    7.603</td> <td> 0.000</td> <td>    0.009</td> <td>    0.016</td>\n",
       "</tr>\n",
       "<tr>\n",
       "  <th>GNI</th>                         <td> 2.458e-06</td> <td> 1.76e-07</td> <td>   13.998</td> <td> 0.000</td> <td> 2.11e-06</td> <td>  2.8e-06</td>\n",
       "</tr>\n",
       "</table>\n",
       "<table class=\"simpletable\">\n",
       "<tr>\n",
       "  <th>Omnibus:</th>       <td>64.180</td> <th>  Durbin-Watson:     </th> <td>   1.319</td>\n",
       "</tr>\n",
       "<tr>\n",
       "  <th>Prob(Omnibus):</th> <td> 0.000</td> <th>  Jarque-Bera (JB):  </th> <td> 174.264</td>\n",
       "</tr>\n",
       "<tr>\n",
       "  <th>Skew:</th>          <td>-1.458</td> <th>  Prob(JB):          </th> <td>1.44e-38</td>\n",
       "</tr>\n",
       "<tr>\n",
       "  <th>Kurtosis:</th>      <td> 6.724</td> <th>  Cond. No.          </th> <td>1.68e+04</td>\n",
       "</tr>\n",
       "</table><br/><br/>Warnings:<br/>[1] Standard Errors assume that the covariance matrix of the errors is correctly specified.<br/>[2] The condition number is large, 1.68e+04. This might indicate that there are<br/>strong multicollinearity or other numerical problems."
      ],
      "text/plain": [
       "<class 'statsmodels.iolib.summary.Summary'>\n",
       "\"\"\"\n",
       "                                 OLS Regression Results                                \n",
       "=======================================================================================\n",
       "Dep. Variable:                    HDI   R-squared (uncentered):                   0.998\n",
       "Model:                            OLS   Adj. R-squared (uncentered):              0.998\n",
       "Method:                 Least Squares   F-statistic:                          2.135e+04\n",
       "Date:                Tue, 18 Feb 2020   Prob (F-statistic):                   4.73e-243\n",
       "Time:                        11:01:30   Log-Likelihood:                          380.29\n",
       "No. Observations:                 187   AIC:                                     -752.6\n",
       "Df Residuals:                     183   BIC:                                     -739.7\n",
       "Df Model:                           4                                                  \n",
       "Covariance Type:            nonrobust                                                  \n",
       "===============================================================================================\n",
       "                                  coef    std err          t      P>|t|      [0.025      0.975]\n",
       "-----------------------------------------------------------------------------------------------\n",
       "Life expectancy at birth        0.0043      0.000     19.569      0.000       0.004       0.005\n",
       "Mean years of schooling         0.0234      0.001     16.458      0.000       0.021       0.026\n",
       "Expected years of schooling     0.0124      0.002      7.603      0.000       0.009       0.016\n",
       "GNI                          2.458e-06   1.76e-07     13.998      0.000    2.11e-06     2.8e-06\n",
       "==============================================================================\n",
       "Omnibus:                       64.180   Durbin-Watson:                   1.319\n",
       "Prob(Omnibus):                  0.000   Jarque-Bera (JB):              174.264\n",
       "Skew:                          -1.458   Prob(JB):                     1.44e-38\n",
       "Kurtosis:                       6.724   Cond. No.                     1.68e+04\n",
       "==============================================================================\n",
       "\n",
       "Warnings:\n",
       "[1] Standard Errors assume that the covariance matrix of the errors is correctly specified.\n",
       "[2] The condition number is large, 1.68e+04. This might indicate that there are\n",
       "strong multicollinearity or other numerical problems.\n",
       "\"\"\""
      ]
     },
     "execution_count": 19,
     "metadata": {},
     "output_type": "execute_result"
    }
   ],
   "source": [
    "#다중회귀분석\n",
    "import statsmodels.api as sm\n",
    "model=sm.OLS(y,X) #다중회귀분석 모형\n",
    "result=model.fit() #기계학습\n",
    "result.summary() #모형 요약정보"
   ]
  },
  {
   "cell_type": "code",
   "execution_count": 20,
   "metadata": {},
   "outputs": [],
   "source": [
    "from sklearn.model_selection import train_test_split\n",
    "from sklearn.linear_model import LinearRegression\n",
    "#학습용:검증용 8:2로 구분\n",
    "X_train,X_test,y_train,y_test=train_test_split(X,y,test_size=0.2,\n",
    "                                              random_state=10)\n",
    "model=LinearRegression().fit(X_train,y_train) #기계학습"
   ]
  },
  {
   "cell_type": "code",
   "execution_count": 21,
   "metadata": {},
   "outputs": [
    {
     "name": "stdout",
     "output_type": "stream",
     "text": [
      "0.9795835622122138\n",
      "0.9431322148074942\n"
     ]
    }
   ],
   "source": [
    "print(model.score(X_train,y_train)) #학습용 예측 정확도\n",
    "print(model.score(X_test,y_test)) #검증용 예측 정확도"
   ]
  },
  {
   "cell_type": "code",
   "execution_count": null,
   "metadata": {},
   "outputs": [],
   "source": []
  }
 ],
 "metadata": {
  "kernelspec": {
   "display_name": "Python 3",
   "language": "python",
   "name": "python3"
  },
  "language_info": {
   "codemirror_mode": {
    "name": "ipython",
    "version": 3
   },
   "file_extension": ".py",
   "mimetype": "text/x-python",
   "name": "python",
   "nbconvert_exporter": "python",
   "pygments_lexer": "ipython3",
   "version": "3.7.4"
  }
 },
 "nbformat": 4,
 "nbformat_minor": 2
}
