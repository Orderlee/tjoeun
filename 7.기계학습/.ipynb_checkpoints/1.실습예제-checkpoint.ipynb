{
 "cells": [
  {
   "cell_type": "code",
   "execution_count": 2,
   "metadata": {},
   "outputs": [
    {
     "name": "stdout",
     "output_type": "stream",
     "text": [
      "4.333333333333333\n"
     ]
    }
   ],
   "source": [
    "import numpy as np #넘파이\n",
    "from scipy import stats #사이파이\n",
    "\n",
    "data=np.array([4,5,1,2,7,2,6,9,3]) #넘파이 배열\n",
    "a = np.mean(data) #평균값\n",
    "print(a)"
   ]
  },
  {
   "cell_type": "code",
   "execution_count": 3,
   "metadata": {},
   "outputs": [
    {
     "name": "stdout",
     "output_type": "stream",
     "text": [
      "4.0\n"
     ]
    }
   ],
   "source": [
    "#중위수(중앙값)\n",
    "b=np.median(data)\n",
    "print(b)"
   ]
  },
  {
   "cell_type": "code",
   "execution_count": 6,
   "metadata": {},
   "outputs": [
    {
     "name": "stdout",
     "output_type": "stream",
     "text": [
      "ModeResult(mode=array([2]), count=array([2]))\n",
      "2\n"
     ]
    }
   ],
   "source": [
    "c = stats.mode(data) #최빈수\n",
    "print(c)\n",
    "print(c[0][0])"
   ]
  },
  {
   "cell_type": "code",
   "execution_count": 10,
   "metadata": {},
   "outputs": [
    {
     "name": "stdout",
     "output_type": "stream",
     "text": [
      "374\n",
      "19.339079605813716\n"
     ]
    }
   ],
   "source": [
    "from statistics import variance,stdev\n",
    "points=np.array([20,80,90,95,87,89,95,99,97,100,60,70,77,88,89,89,90])\n",
    "a = variance(points) #분산\n",
    "print(a)\n",
    "b=stdev(points) #표준편차\n",
    "print(b)"
   ]
  },
  {
   "cell_type": "code",
   "execution_count": 12,
   "metadata": {},
   "outputs": [
    {
     "name": "stdout",
     "output_type": "stream",
     "text": [
      "80\n"
     ]
    }
   ],
   "source": [
    "c=np.max(points) - np.min(points) #최대값-최소값 => 범위\n",
    "print(c) "
   ]
  },
  {
   "cell_type": "code",
   "execution_count": 16,
   "metadata": {},
   "outputs": [
    {
     "name": "stdout",
     "output_type": "stream",
     "text": [
      "100 20 80\n"
     ]
    }
   ],
   "source": [
    "a =np.max(points) #최대값\n",
    "b =np.min(points) #최소값\n",
    "c=a-b\n",
    "print(a,b,c)"
   ]
  },
  {
   "cell_type": "code",
   "execution_count": 15,
   "metadata": {},
   "outputs": [
    {
     "name": "stdout",
     "output_type": "stream",
     "text": [
      "20% 77.6\n",
      "80% 95.0\n",
      "100% 100.0\n"
     ]
    }
   ],
   "source": [
    "# for 개별변수 in 컨테이너\n",
    "for val in [20,80,100]:\n",
    "    d=np.percentile(points,val) #백분위수\n",
    "    print(str(val)+'%',d)"
   ]
  },
  {
   "cell_type": "code",
   "execution_count": null,
   "metadata": {},
   "outputs": [],
   "source": [
    "a,b,c=np.percentil(points,[25,50,75])\n",
    "print(a) #25% 1사분위수\n",
    "print(b) #50% 2사분위수\n",
    "print(c) #75% 3사분위수\n",
    "print(c-a) #IQR(InterQuartile Range) 3사분위수-1사분위수"
   ]
  },
  {
   "cell_type": "code",
   "execution_count": 24,
   "metadata": {},
   "outputs": [
    {
     "data": {
      "text/plain": [
       "Power_divergenceResult(statistic=14.200000000000001, pvalue=0.014387678176921308)"
      ]
     },
     "execution_count": 24,
     "metadata": {},
     "output_type": "execute_result"
    }
   ],
   "source": [
    "#카이제곱 검정 :데이터의 차이를 분석하는 검정 방법\n",
    "#귀무가설 : 두 데이터는 차이가 없다.\n",
    "#대립가설 : 두 데이터는 차이가 있다.\n",
    "\n",
    "from scipy import stats\n",
    "data1=[4,6,17,16,8,9]\n",
    "data2=[10,10,10,10,10,10]\n",
    "chis = stats.chisquare(data1,data2)\n",
    "chis # p-value 확인\n",
    "#pvalue=0.0143876781769213 95% 신뢰수준하에서 유의\n",
    "# 귀무가설 기각, 대립가설 채택\n",
    "#결론 : 두데이터는 차이가 있다."
   ]
  },
  {
   "cell_type": "code",
   "execution_count": 35,
   "metadata": {},
   "outputs": [
    {
     "name": "stdout",
     "output_type": "stream",
     "text": [
      "Exer   Freq  None  Some\n",
      "Smoke                  \n",
      "Heavy     7     1     3\n",
      "Never    87    18    84\n",
      "Occas    12     3     4\n",
      "Regul     9     1     7\n",
      "(5.488545890584232, 0.48284216946545633, 6, array([[ 5.36016949,  1.0720339 ,  4.56779661],\n",
      "       [92.09745763, 18.41949153, 78.48305085],\n",
      "       [ 9.25847458,  1.85169492,  7.88983051],\n",
      "       [ 8.28389831,  1.65677966,  7.05932203]]))\n",
      "5.488545890584232\n",
      "0.48284216946545633\n"
     ]
    }
   ],
   "source": [
    "#귀무가설 :흡연습관과 운동횟수는 상관관계가 없다.\n",
    "#대립가설 :흡연습관과 운동횟수는 상관관계가 있다.\n",
    "\n",
    "import pandas as pd\n",
    "from scipy import stats\n",
    "#csv를 읽어서 데이터프레임으로 저장\n",
    "\n",
    "survey=pd.read_csv('d:/data/smoke/survey.csv')\n",
    "data=pd.crosstab(survey.Smoke, survey.Exer) #집계함수\n",
    "#print(survey)\n",
    "print(data)\n",
    "result = stats.chi2_contingency(observed=data) #카이제곱검정\n",
    "print(result)\n",
    "print(result[0]) #검정통계량\n",
    "print(result[1]) #p-value\n",
    "#  0.48284216946545633 => 0.05보다 크므로 유의하지 않음\n",
    "# 귀무가설을 기각 할 수 없음\n",
    "# 결론: 흡연습관과 운동횟수는 상관관계가 없다"
   ]
  },
  {
   "cell_type": "code",
   "execution_count": 41,
   "metadata": {},
   "outputs": [
    {
     "data": {
      "text/plain": [
       "2.309366341099021"
      ]
     },
     "execution_count": 41,
     "metadata": {},
     "output_type": "execute_result"
    }
   ],
   "source": [
    "np.random.normal(0,5)"
   ]
  },
  {
   "cell_type": "code",
   "execution_count": 51,
   "metadata": {},
   "outputs": [
    {
     "data": {
      "text/plain": [
       "[188.1217268183162,\n",
       " 176.94121793174963,\n",
       " 177.35914123868272,\n",
       " 174.63515688921916,\n",
       " 184.32703814662338,\n",
       " 168.49230651559859,\n",
       " 188.7240588210824,\n",
       " 176.19396549552448,\n",
       " 181.5951954802855,\n",
       " 178.75314812261294,\n",
       " 187.31053968522488,\n",
       " 169.69929645251173,\n",
       " 178.38791397993245,\n",
       " 178.07972822665792,\n",
       " 185.6688472116772,\n",
       " 174.50054366342985,\n",
       " 179.13785896224783,\n",
       " 175.61070791039313,\n",
       " 180.21106873357797,\n",
       " 182.9140760685791]"
      ]
     },
     "execution_count": 51,
     "metadata": {},
     "output_type": "execute_result"
    }
   ],
   "source": [
    "np.random.seed(1)\n",
    "[180+np.random.normal(0,5) for a in range(20)]"
   ]
  },
  {
   "cell_type": "code",
   "execution_count": 54,
   "metadata": {},
   "outputs": [
    {
     "name": "stdout",
     "output_type": "stream",
     "text": [
      "검정통계량:3.435, p-value:0.003\n"
     ]
    }
   ],
   "source": [
    "#단일표본 t검정 : 표본이 1개일 때\n",
    "#귀무가설 : 학생들의 평균키는 175cm 이다.\n",
    "#대립가설 : 학생들의 평균키는 175cm가 아니다.\n",
    "import numpy as np\n",
    "from scipy import stats\n",
    "#랜덤시드 고정\n",
    "np.random.seed(1)\n",
    "#normal (평균,표준편차) 난수발생함수\n",
    "heights=[180+np.random.normal(0,5) for a in range(20)]\n",
    "#단일표본 t검정 함수\n",
    "result = stats.ttest_1samp(heights,175)\n",
    "print('검정통계량:%.3f, p-value:%.3f' % result)\n",
    "#p-value:0.003\n",
    "# 0.05보다 작으므로 귀무가설 기각, 대립가설 채택\n",
    "#결론: 학생들의 평균키가 175cm가 아니다."
   ]
  },
  {
   "cell_type": "code",
   "execution_count": 60,
   "metadata": {},
   "outputs": [
    {
     "name": "stdout",
     "output_type": "stream",
     "text": [
      "group1 평균:169.33317681769637\n",
      "group2 평균:174.54168687322976\n",
      "검정통계량:-2.329, p-value:0.025\n",
      "검정통계량:-2.329, p-value:0.026\n"
     ]
    }
   ],
   "source": [
    "#독립표본 t검정: 표본이 2개의 그룹일 경우\n",
    "np.random.seed(1)\n",
    "group1=[170+np.random.normal(0,5) for a in range(20)]\n",
    "group2=[175+np.random.normal(0,10) for a in range(20)]\n",
    "#print(group1)\n",
    "#print(group2)\n",
    "print('group1 평균:{}'.format(np.mean(group1)))\n",
    "print('group2 평균:{}'.format(np.mean(group2)))\n",
    "#등분산 가정을 한 경우\n",
    "result1=stats.ttest_ind(group1,group2)\n",
    "print('검정통계량:%.3f, p-value:%.3f' % result1)\n",
    "result2=stats.ttest_ind(group1,group2,equal_var=False)\n",
    "print('검정통계량:%.3f, p-value:%.3f' % result2)\n",
    "#reult1=p-value:0.025, result2=p-value:0.026\n",
    "#0.05보다 작으므로 통계적으로 유의함\n",
    "#귀무가설 기각, 대립가설 채택\n",
    "#결론: 두 그룹의 학생들의 평균키는 다르다"
   ]
  },
  {
   "cell_type": "code",
   "execution_count": 64,
   "metadata": {},
   "outputs": [
    {
     "name": "stdout",
     "output_type": "stream",
     "text": [
      "10\n",
      "20\n"
     ]
    }
   ],
   "source": [
    "a=10\n",
    "print(a)\n",
    "_=20\n",
    "print(_)"
   ]
  },
  {
   "cell_type": "code",
   "execution_count": 65,
   "metadata": {},
   "outputs": [
    {
     "name": "stdout",
     "output_type": "stream",
     "text": [
      "0\n",
      "1\n",
      "2\n",
      "3\n",
      "4\n",
      "5\n",
      "6\n",
      "7\n",
      "8\n",
      "9\n",
      "10\n",
      "11\n",
      "12\n",
      "13\n",
      "14\n",
      "15\n",
      "16\n",
      "17\n",
      "18\n",
      "19\n"
     ]
    }
   ],
   "source": [
    "for _ in range(20):\n",
    "    print(_)"
   ]
  },
  {
   "cell_type": "code",
   "execution_count": 66,
   "metadata": {},
   "outputs": [
    {
     "data": {
      "text/plain": [
       "[59.04082223819193,\n",
       " 55.561855179575815,\n",
       " 56.264208531245814,\n",
       " 68.46227300513874,\n",
       " 60.25403877388015,\n",
       " 56.81502176715323,\n",
       " 60.95457742333733,\n",
       " 70.50127568239421,\n",
       " 60.60079476240814,\n",
       " 63.0860155485371,\n",
       " 61.50085159977914,\n",
       " 58.23875076753241,\n",
       " 54.2874090098893,\n",
       " 58.25328638793561,\n",
       " 58.95552883312611,\n",
       " 62.933115955910985,\n",
       " 64.19491706937252,\n",
       " 64.65551040651779,\n",
       " 61.4279366262713,\n",
       " 64.42570582135365]"
      ]
     },
     "execution_count": 66,
     "metadata": {},
     "output_type": "execute_result"
    }
   ],
   "source": [
    "[60+np.random.normal(0,5) for _ in range(20)]"
   ]
  },
  {
   "cell_type": "code",
   "execution_count": 68,
   "metadata": {},
   "outputs": [
    {
     "name": "stdout",
     "output_type": "stream",
     "text": [
      "[65.94098797171107, 57.67544499710449, 57.819839215935254, 54.63788246116392, 64.84275566541605, 47.34427263203588, 67.86790793112998, 54.58033393455883, 60.64923115285458, 58.78881770728494, 65.70631311881824, 48.80793606499072, 57.001583230054315, 56.517144665313666, 64.13055954741337, 53.94173367626836, 57.224973536332286, 55.315321289307555, 61.60772730564428, 63.218635763189475]\n",
      "[68.1217268183162, 56.94121793174962, 57.359141238682724, 54.63515688921915, 64.3270381466234, 48.492306515598585, 68.7240588210824, 56.19396549552449, 61.59519548028549, 58.75314812261295, 67.31053968522487, 49.69929645251173, 58.38791397993246, 58.07972822665792, 65.66884721167719, 54.500543663429845, 59.13785896224782, 55.61070791039314, 60.21106873357797, 62.914076068579114]\n",
      "Ttest_relResult(statistic=2.9154993563693186, pvalue=0.008871163766572827)\n",
      "검정통계량:2.915, p-value:0.009\n"
     ]
    }
   ],
   "source": [
    "#대응표본 t검정 : 동일한 표본을 before/after로 비교하는 경우\n",
    "#귀무가설: 다이어트약 복용 전후의 체중 차이가 없다.\n",
    "#대립가설: 다이어트약 복용 전후의 체중 차이가 있다.\n",
    "np.random.seed(1)\n",
    "before=[60+np.random.normal(0,5) for _ in range(20)]\n",
    "after=[w*np.random.normal(0.99,0.02) for w in before]\n",
    "print(after)\n",
    "print(before)\n",
    "result=stats.ttest_rel(before,after) #대응표본 t검정 함수\n",
    "print(result)\n",
    "print('검정통계량:{:.3f}, p-value:{:.3f}'.format(result[0],result[1]))\n",
    "#p-value:0.009 \n",
    "# 0.05보다 작으므로 95% 수준하에서 유의\n",
    "#               99% 수준하에서 유의\n",
    "#귀무가설 기각,대립가설 채택\n",
    "#결론: 다이어트약 복용 전후의 체중 차이가 있다."
   ]
  },
  {
   "cell_type": "code",
   "execution_count": 71,
   "metadata": {},
   "outputs": [
    {
     "name": "stdout",
     "output_type": "stream",
     "text": [
      "a 평균: 79.0\n",
      "b 평균: 65.375\n",
      "c 평균: 64.375\n",
      "d 평균: 69.5\n"
     ]
    },
    {
     "data": {
      "image/png": "[encoded data removed]",
      "text/plain": [
       "<Figure size 432x288 with 1 Axes>"
      ]
     },
     "metadata": {
      "needs_background": "light"
     },
     "output_type": "display_data"
    },
    {
     "name": "stdout",
     "output_type": "stream",
     "text": [
      "4.2210931159803815 0.013933707427484199\n"
     ]
    }
   ],
   "source": [
    "#아노바 분석 : 3개이상의 그룹인 경우\n",
    "#귀무가설: 4가지 교육기법의 효과가 차이가 없다.\n",
    "#대립가설: 4가지 교육기법의 효과가 차이가 있다.\n",
    "import matplotlib.pyplot as plt\n",
    "%matplotlib inline\n",
    "a=[66,74,82,75,73,97,87,78]\n",
    "b=[72,51,59,62,74,64,78,63]\n",
    "c=[61,60,57,60,81,55,70,71]\n",
    "d=[63,61,76,84,58,65,69,80]\n",
    "print('a 평균:',np.mean(a))\n",
    "print('b 평균:',np.mean(b))\n",
    "print('c 평균:',np.mean(c))\n",
    "print('d 평균:',np.mean(d))\n",
    "plot_data=[a,b,c,d]\n",
    "ax=plt.boxplot(plot_data) #상자수염그림\n",
    "plt.show()\n",
    "f,p=stats.f_oneway(a,b,c,d) #일원배치분산분석(아노바분석)\n",
    "print(f,p)\n",
    "# 0.013933707427484199 => 95% 신뢰수준하에서 유의\n",
    "# 귀무가설 기각, 대립가설 채택\n",
    "#결론: 4가지 교육기법의 효과가 차이가 있다."
   ]
  },
  {
   "cell_type": "code",
   "execution_count": 72,
   "metadata": {},
   "outputs": [
    {
     "name": "stdout",
     "output_type": "stream",
     "text": [
      "   fertilizer1  fertilizer2  fertilizer3\n",
      "0           72           54           48\n",
      "1           62           56           62\n",
      "2           90           58           92\n",
      "3           42           36           96\n",
      "4           84           72           92\n",
      "5           64           34           80\n",
      "F_onewayResult(statistic=3.7551268418654105, pvalue=0.04762461989261837)\n",
      "3.7551268418654105\n",
      "0.04762461989261837\n"
     ]
    }
   ],
   "source": [
    "#귀무가설: 3가지 비료의 수확량 차이가 없다\n",
    "#대립가설: 3가지 비료의 수확량 차이가 있다\n",
    "import pandas as pd\n",
    "from scipy import stats\n",
    "\n",
    "data=pd.read_csv(\"d:/data/anova/fertilizers.csv\")\n",
    "#일원배치분산분석(아노바분석) 함수\n",
    "print(data)\n",
    "result = stats.f_oneway(data[\"fertilizer1\"],\n",
    "                       data[\"fertilizer2\"], data[\"fertilizer3\"])\n",
    "print(result) #기초통계량, p-value\n",
    "print(result[0])\n",
    "print(result[1])\n",
    "#pvalue=0.04762461989261837 => 95% 신뢰수준하에서유의\n",
    "#귀무가설 기각, 대립가설 채택\n",
    "#결론 :  3가지 비료의 수확량 차이가 있다."
   ]
  },
  {
   "cell_type": "code",
   "execution_count": null,
   "metadata": {},
   "outputs": [],
   "source": []
  }
 ],
 "metadata": {
  "kernelspec": {
   "display_name": "Python 3",
   "language": "python",
   "name": "python3"
  },
  "language_info": {
   "codemirror_mode": {
    "name": "ipython",
    "version": 3
   },
   "file_extension": ".py",
   "mimetype": "text/x-python",
   "name": "python",
   "nbconvert_exporter": "python",
   "pygments_lexer": "ipython3",
   "version": "3.7.4"
  }
 },
 "nbformat": 4,
 "nbformat_minor": 2
}
