{
 "cells": [
  {
   "cell_type": "code",
   "execution_count": 1,
   "metadata": {},
   "outputs": [
    {
     "data": {
      "text/html": [
       "<div>\n",
       "<style scoped>\n",
       "    .dataframe tbody tr th:only-of-type {\n",
       "        vertical-align: middle;\n",
       "    }\n",
       "\n",
       "    .dataframe tbody tr th {\n",
       "        vertical-align: top;\n",
       "    }\n",
       "\n",
       "    .dataframe thead th {\n",
       "        text-align: right;\n",
       "    }\n",
       "</style>\n",
       "<table border=\"1\" class=\"dataframe\">\n",
       "  <thead>\n",
       "    <tr style=\"text-align: right;\">\n",
       "      <th></th>\n",
       "      <th>Ozone</th>\n",
       "      <th>Solar.R</th>\n",
       "      <th>Solar.R2</th>\n",
       "      <th>Wind</th>\n",
       "      <th>Temp</th>\n",
       "      <th>Month</th>\n",
       "      <th>Day</th>\n",
       "      <th>Ozone2</th>\n",
       "      <th>Result</th>\n",
       "    </tr>\n",
       "  </thead>\n",
       "  <tbody>\n",
       "    <tr>\n",
       "      <td>0</td>\n",
       "      <td>41.0</td>\n",
       "      <td>190.0</td>\n",
       "      <td>190.000000</td>\n",
       "      <td>7.4</td>\n",
       "      <td>67</td>\n",
       "      <td>5</td>\n",
       "      <td>1</td>\n",
       "      <td>41.00000</td>\n",
       "      <td>0</td>\n",
       "    </tr>\n",
       "    <tr>\n",
       "      <td>1</td>\n",
       "      <td>36.0</td>\n",
       "      <td>118.0</td>\n",
       "      <td>118.000000</td>\n",
       "      <td>8.0</td>\n",
       "      <td>72</td>\n",
       "      <td>5</td>\n",
       "      <td>2</td>\n",
       "      <td>36.00000</td>\n",
       "      <td>0</td>\n",
       "    </tr>\n",
       "    <tr>\n",
       "      <td>2</td>\n",
       "      <td>12.0</td>\n",
       "      <td>149.0</td>\n",
       "      <td>149.000000</td>\n",
       "      <td>12.6</td>\n",
       "      <td>74</td>\n",
       "      <td>5</td>\n",
       "      <td>3</td>\n",
       "      <td>12.00000</td>\n",
       "      <td>0</td>\n",
       "    </tr>\n",
       "    <tr>\n",
       "      <td>3</td>\n",
       "      <td>18.0</td>\n",
       "      <td>313.0</td>\n",
       "      <td>313.000000</td>\n",
       "      <td>11.5</td>\n",
       "      <td>62</td>\n",
       "      <td>5</td>\n",
       "      <td>4</td>\n",
       "      <td>18.00000</td>\n",
       "      <td>0</td>\n",
       "    </tr>\n",
       "    <tr>\n",
       "      <td>4</td>\n",
       "      <td>NaN</td>\n",
       "      <td>NaN</td>\n",
       "      <td>185.931507</td>\n",
       "      <td>14.3</td>\n",
       "      <td>56</td>\n",
       "      <td>5</td>\n",
       "      <td>5</td>\n",
       "      <td>42.12931</td>\n",
       "      <td>0</td>\n",
       "    </tr>\n",
       "  </tbody>\n",
       "</table>\n",
       "</div>"
      ],
      "text/plain": [
       "   Ozone  Solar.R    Solar.R2  Wind  Temp  Month  Day    Ozone2  Result\n",
       "0   41.0    190.0  190.000000   7.4    67      5    1  41.00000       0\n",
       "1   36.0    118.0  118.000000   8.0    72      5    2  36.00000       0\n",
       "2   12.0    149.0  149.000000  12.6    74      5    3  12.00000       0\n",
       "3   18.0    313.0  313.000000  11.5    62      5    4  18.00000       0\n",
       "4    NaN      NaN  185.931507  14.3    56      5    5  42.12931       0"
      ]
     },
     "execution_count": 1,
     "metadata": {},
     "output_type": "execute_result"
    }
   ],
   "source": [
    "import pandas as pd\n",
    "df=pd.read_csv('d:/data/ozone/ozone4.csv')\n",
    "df.head()"
   ]
  },
  {
   "cell_type": "code",
   "execution_count": 2,
   "metadata": {},
   "outputs": [
    {
     "data": {
      "text/plain": [
       "Index(['Ozone', 'Solar.R', 'Solar.R2', 'Wind', 'Temp', 'Month', 'Day',\n",
       "       'Ozone2', 'Result'],\n",
       "      dtype='object')"
      ]
     },
     "execution_count": 2,
     "metadata": {},
     "output_type": "execute_result"
    }
   ],
   "source": [
    "df.columns#필드명"
   ]
  },
  {
   "cell_type": "code",
   "execution_count": 3,
   "metadata": {},
   "outputs": [
    {
     "data": {
      "text/plain": [
       "(153, 9)"
      ]
     },
     "execution_count": 3,
     "metadata": {},
     "output_type": "execute_result"
    }
   ],
   "source": [
    "df.shape #데이터의 차원"
   ]
  },
  {
   "cell_type": "code",
   "execution_count": 4,
   "metadata": {},
   "outputs": [
    {
     "data": {
      "text/html": [
       "<div>\n",
       "<style scoped>\n",
       "    .dataframe tbody tr th:only-of-type {\n",
       "        vertical-align: middle;\n",
       "    }\n",
       "\n",
       "    .dataframe tbody tr th {\n",
       "        vertical-align: top;\n",
       "    }\n",
       "\n",
       "    .dataframe thead th {\n",
       "        text-align: right;\n",
       "    }\n",
       "</style>\n",
       "<table border=\"1\" class=\"dataframe\">\n",
       "  <thead>\n",
       "    <tr style=\"text-align: right;\">\n",
       "      <th></th>\n",
       "      <th>Ozone</th>\n",
       "      <th>Solar.R</th>\n",
       "      <th>Solar.R2</th>\n",
       "      <th>Wind</th>\n",
       "      <th>Temp</th>\n",
       "      <th>Month</th>\n",
       "      <th>Day</th>\n",
       "      <th>Ozone2</th>\n",
       "      <th>Result</th>\n",
       "    </tr>\n",
       "  </thead>\n",
       "  <tbody>\n",
       "    <tr>\n",
       "      <td>count</td>\n",
       "      <td>116.000000</td>\n",
       "      <td>146.000000</td>\n",
       "      <td>153.000000</td>\n",
       "      <td>153.000000</td>\n",
       "      <td>153.000000</td>\n",
       "      <td>153.000000</td>\n",
       "      <td>153.000000</td>\n",
       "      <td>153.000000</td>\n",
       "      <td>153.000000</td>\n",
       "    </tr>\n",
       "    <tr>\n",
       "      <td>mean</td>\n",
       "      <td>42.129310</td>\n",
       "      <td>185.931507</td>\n",
       "      <td>185.931507</td>\n",
       "      <td>9.957516</td>\n",
       "      <td>77.882353</td>\n",
       "      <td>6.993464</td>\n",
       "      <td>15.803922</td>\n",
       "      <td>42.129310</td>\n",
       "      <td>0.287582</td>\n",
       "    </tr>\n",
       "    <tr>\n",
       "      <td>std</td>\n",
       "      <td>32.987885</td>\n",
       "      <td>90.058422</td>\n",
       "      <td>87.960267</td>\n",
       "      <td>3.523001</td>\n",
       "      <td>9.465270</td>\n",
       "      <td>1.416522</td>\n",
       "      <td>8.864520</td>\n",
       "      <td>28.693372</td>\n",
       "      <td>0.454122</td>\n",
       "    </tr>\n",
       "    <tr>\n",
       "      <td>min</td>\n",
       "      <td>1.000000</td>\n",
       "      <td>7.000000</td>\n",
       "      <td>7.000000</td>\n",
       "      <td>1.700000</td>\n",
       "      <td>56.000000</td>\n",
       "      <td>5.000000</td>\n",
       "      <td>1.000000</td>\n",
       "      <td>1.000000</td>\n",
       "      <td>0.000000</td>\n",
       "    </tr>\n",
       "    <tr>\n",
       "      <td>25%</td>\n",
       "      <td>18.000000</td>\n",
       "      <td>115.750000</td>\n",
       "      <td>120.000000</td>\n",
       "      <td>7.400000</td>\n",
       "      <td>72.000000</td>\n",
       "      <td>6.000000</td>\n",
       "      <td>8.000000</td>\n",
       "      <td>21.000000</td>\n",
       "      <td>0.000000</td>\n",
       "    </tr>\n",
       "    <tr>\n",
       "      <td>50%</td>\n",
       "      <td>31.500000</td>\n",
       "      <td>205.000000</td>\n",
       "      <td>194.000000</td>\n",
       "      <td>9.700000</td>\n",
       "      <td>79.000000</td>\n",
       "      <td>7.000000</td>\n",
       "      <td>16.000000</td>\n",
       "      <td>42.129310</td>\n",
       "      <td>0.000000</td>\n",
       "    </tr>\n",
       "    <tr>\n",
       "      <td>75%</td>\n",
       "      <td>63.250000</td>\n",
       "      <td>258.750000</td>\n",
       "      <td>256.000000</td>\n",
       "      <td>11.500000</td>\n",
       "      <td>85.000000</td>\n",
       "      <td>8.000000</td>\n",
       "      <td>23.000000</td>\n",
       "      <td>46.000000</td>\n",
       "      <td>1.000000</td>\n",
       "    </tr>\n",
       "    <tr>\n",
       "      <td>max</td>\n",
       "      <td>168.000000</td>\n",
       "      <td>334.000000</td>\n",
       "      <td>334.000000</td>\n",
       "      <td>20.700000</td>\n",
       "      <td>97.000000</td>\n",
       "      <td>9.000000</td>\n",
       "      <td>31.000000</td>\n",
       "      <td>168.000000</td>\n",
       "      <td>1.000000</td>\n",
       "    </tr>\n",
       "  </tbody>\n",
       "</table>\n",
       "</div>"
      ],
      "text/plain": [
       "            Ozone     Solar.R    Solar.R2        Wind        Temp       Month  \\\n",
       "count  116.000000  146.000000  153.000000  153.000000  153.000000  153.000000   \n",
       "mean    42.129310  185.931507  185.931507    9.957516   77.882353    6.993464   \n",
       "std     32.987885   90.058422   87.960267    3.523001    9.465270    1.416522   \n",
       "min      1.000000    7.000000    7.000000    1.700000   56.000000    5.000000   \n",
       "25%     18.000000  115.750000  120.000000    7.400000   72.000000    6.000000   \n",
       "50%     31.500000  205.000000  194.000000    9.700000   79.000000    7.000000   \n",
       "75%     63.250000  258.750000  256.000000   11.500000   85.000000    8.000000   \n",
       "max    168.000000  334.000000  334.000000   20.700000   97.000000    9.000000   \n",
       "\n",
       "              Day      Ozone2      Result  \n",
       "count  153.000000  153.000000  153.000000  \n",
       "mean    15.803922   42.129310    0.287582  \n",
       "std      8.864520   28.693372    0.454122  \n",
       "min      1.000000    1.000000    0.000000  \n",
       "25%      8.000000   21.000000    0.000000  \n",
       "50%     16.000000   42.129310    0.000000  \n",
       "75%     23.000000   46.000000    1.000000  \n",
       "max     31.000000  168.000000    1.000000  "
      ]
     },
     "execution_count": 4,
     "metadata": {},
     "output_type": "execute_result"
    }
   ],
   "source": [
    "df.describe() #기초통계량"
   ]
  },
  {
   "cell_type": "code",
   "execution_count": 5,
   "metadata": {},
   "outputs": [
    {
     "data": {
      "text/html": [
       "<div>\n",
       "<style scoped>\n",
       "    .dataframe tbody tr th:only-of-type {\n",
       "        vertical-align: middle;\n",
       "    }\n",
       "\n",
       "    .dataframe tbody tr th {\n",
       "        vertical-align: top;\n",
       "    }\n",
       "\n",
       "    .dataframe thead th {\n",
       "        text-align: right;\n",
       "    }\n",
       "</style>\n",
       "<table border=\"1\" class=\"dataframe\">\n",
       "  <thead>\n",
       "    <tr style=\"text-align: right;\">\n",
       "      <th></th>\n",
       "      <th>Ozone</th>\n",
       "      <th>Solar.R</th>\n",
       "      <th>Solar.R2</th>\n",
       "      <th>Wind</th>\n",
       "      <th>Temp</th>\n",
       "      <th>Month</th>\n",
       "      <th>Day</th>\n",
       "      <th>Ozone2</th>\n",
       "    </tr>\n",
       "    <tr>\n",
       "      <th>Result</th>\n",
       "      <th></th>\n",
       "      <th></th>\n",
       "      <th></th>\n",
       "      <th></th>\n",
       "      <th></th>\n",
       "      <th></th>\n",
       "      <th></th>\n",
       "      <th></th>\n",
       "    </tr>\n",
       "  </thead>\n",
       "  <tbody>\n",
       "    <tr>\n",
       "      <td>0</td>\n",
       "      <td>20.902778</td>\n",
       "      <td>173.548077</td>\n",
       "      <td>174.116124</td>\n",
       "      <td>10.926606</td>\n",
       "      <td>74.440367</td>\n",
       "      <td>6.761468</td>\n",
       "      <td>15.678899</td>\n",
       "      <td>28.108115</td>\n",
       "    </tr>\n",
       "    <tr>\n",
       "      <td>1</td>\n",
       "      <td>76.863636</td>\n",
       "      <td>216.595238</td>\n",
       "      <td>215.201432</td>\n",
       "      <td>7.556818</td>\n",
       "      <td>86.409091</td>\n",
       "      <td>7.568182</td>\n",
       "      <td>16.113636</td>\n",
       "      <td>76.863636</td>\n",
       "    </tr>\n",
       "  </tbody>\n",
       "</table>\n",
       "</div>"
      ],
      "text/plain": [
       "            Ozone     Solar.R    Solar.R2       Wind       Temp     Month  \\\n",
       "Result                                                                      \n",
       "0       20.902778  173.548077  174.116124  10.926606  74.440367  6.761468   \n",
       "1       76.863636  216.595238  215.201432   7.556818  86.409091  7.568182   \n",
       "\n",
       "              Day     Ozone2  \n",
       "Result                        \n",
       "0       15.678899  28.108115  \n",
       "1       16.113636  76.863636  "
      ]
     },
     "execution_count": 5,
     "metadata": {},
     "output_type": "execute_result"
    }
   ],
   "source": [
    "df.groupby('Result').mean() #0,1 클래스별 평균값"
   ]
  },
  {
   "cell_type": "code",
   "execution_count": 6,
   "metadata": {},
   "outputs": [
    {
     "data": {
      "text/plain": [
       "<matplotlib.axes._subplots.AxesSubplot at 0x2e328d11748>"
      ]
     },
     "execution_count": 6,
     "metadata": {},
     "output_type": "execute_result"
    },
    {
     "data": {
      "image/png": "[encoded data removed]",
      "text/plain": [
       "<Figure size 432x288 with 1 Axes>"
      ]
     },
     "metadata": {
      "needs_background": "light"
     },
     "output_type": "display_data"
    }
   ],
   "source": [
    "%matplotlib inline\n",
    "df['Solar.R2'].hist() #히스토그램"
   ]
  },
  {
   "cell_type": "code",
   "execution_count": 7,
   "metadata": {},
   "outputs": [
    {
     "data": {
      "text/plain": [
       "<matplotlib.axes._subplots.AxesSubplot at 0x2e32917b8c8>"
      ]
     },
     "execution_count": 7,
     "metadata": {},
     "output_type": "execute_result"
    },
    {
     "data": {
      "image/png": "[encoded data removed]",
      "text/plain": [
       "<Figure size 432x288 with 1 Axes>"
      ]
     },
     "metadata": {
      "needs_background": "light"
     },
     "output_type": "display_data"
    }
   ],
   "source": [
    "df['Wind'].hist()"
   ]
  },
  {
   "cell_type": "code",
   "execution_count": 8,
   "metadata": {},
   "outputs": [
    {
     "data": {
      "text/plain": [
       "<matplotlib.axes._subplots.AxesSubplot at 0x2e329233ec8>"
      ]
     },
     "execution_count": 8,
     "metadata": {},
     "output_type": "execute_result"
    },
    {
     "data": {
      "image/png": "[encoded data removed]",
      "text/plain": [
       "<Figure size 432x288 with 1 Axes>"
      ]
     },
     "metadata": {
      "needs_background": "light"
     },
     "output_type": "display_data"
    }
   ],
   "source": [
    "df['Temp'].hist()"
   ]
  },
  {
   "cell_type": "code",
   "execution_count": 9,
   "metadata": {},
   "outputs": [
    {
     "data": {
      "text/plain": [
       "0    109\n",
       "1     44\n",
       "Name: Result, dtype: int64"
      ]
     },
     "execution_count": 9,
     "metadata": {},
     "output_type": "execute_result"
    }
   ],
   "source": [
    "df['Result'].value_counts() #클래스별 카운트"
   ]
  },
  {
   "cell_type": "code",
   "execution_count": 10,
   "metadata": {},
   "outputs": [
    {
     "data": {
      "text/plain": [
       "<matplotlib.axes._subplots.AxesSubplot at 0x2e331366848>"
      ]
     },
     "execution_count": 10,
     "metadata": {},
     "output_type": "execute_result"
    },
    {
     "data": {
      "image/png": "[encoded data removed]",
      "text/plain": [
       "<Figure size 432x288 with 1 Axes>"
      ]
     },
     "metadata": {
      "needs_background": "light"
     },
     "output_type": "display_data"
    }
   ],
   "source": [
    "import seaborn as sns\n",
    "colors=['yellow','red']\n",
    "sns.countplot('Result',data=df, palette=colors) #카운트 플롯"
   ]
  },
  {
   "cell_type": "code",
   "execution_count": 16,
   "metadata": {},
   "outputs": [],
   "source": [
    "#언더샘플링\n",
    "from imblearn.under_sampling import RandomUnderSampler\n",
    "cols=['Solar.R2','Wind','Temp']\n",
    "X=df[cols] #독립변수\n",
    "y=df['Result'] #종속변수\n",
    "#언더샘플링 함수, random_state 값에 따라서 샘플링 결과가 바뀌게 됨\n",
    "X_sample,y_sample=RandomUnderSampler(random_state=0).fit_sample(X,y)\n",
    "X_samp=pd.DataFrame(data=X_sample,columns=cols)\n",
    "y_samp=pd.DataFrame(data=y_sample,columns=['Result'])\n",
    "#데이터프레임을 가로방향으로 연결시킴 axis=1 가로방향\n",
    "df2=pd.concat([X_samp,y_samp],axis=1)"
   ]
  },
  {
   "cell_type": "code",
   "execution_count": 17,
   "metadata": {},
   "outputs": [
    {
     "name": "stdout",
     "output_type": "stream",
     "text": [
      "1    44\n",
      "0    44\n",
      "Name: Result, dtype: int64\n"
     ]
    },
    {
     "data": {
      "text/plain": [
       "<matplotlib.axes._subplots.AxesSubplot at 0x2e337021408>"
      ]
     },
     "execution_count": 17,
     "metadata": {},
     "output_type": "execute_result"
    },
    {
     "data": {
      "image/png": "[encoded data removed]",
      "text/plain": [
       "<Figure size 432x288 with 1 Axes>"
      ]
     },
     "metadata": {
      "needs_background": "light"
     },
     "output_type": "display_data"
    }
   ],
   "source": [
    "#언더샘플링 후의 카운트 플롯\n",
    "print(df2['Result'].value_counts())\n",
    "colors=['yellow','red']\n",
    "sns.countplot('Result',data=df2,palette=colors) #카운트 플롯"
   ]
  },
  {
   "cell_type": "code",
   "execution_count": 14,
   "metadata": {},
   "outputs": [],
   "source": [
    "# #오버샘플링\n",
    "# from imblearn.over_sampling import SMOTE\n",
    "# cols=['Solar.R2','Wind','Temp']\n",
    "# X=df[cols] #독립변수\n",
    "# y=df['Result'] #종속변수\n",
    "# #언더샘플링 함수, random_state 값에 따라서 샘플링 결과가 바뀌게 됨\n",
    "# X_sample,y_sample=SMOTE(random_state=0).fit_sample(X,y)\n",
    "# X_samp=pd.DataFrame(data=X_sample,columns=cols)\n",
    "# y_samp=pd.DataFrame(data=y_sample,columns=['Result'])\n",
    "# #데이터프레임을 가로방향으로 연결시킴 axis=1 가로방향\n",
    "# df2=pd.concat([X_samp,y_samp],axis=1)"
   ]
  },
  {
   "cell_type": "code",
   "execution_count": 15,
   "metadata": {},
   "outputs": [
    {
     "name": "stdout",
     "output_type": "stream",
     "text": [
      "1    109\n",
      "0    109\n",
      "Name: Result, dtype: int64\n"
     ]
    },
    {
     "data": {
      "text/plain": [
       "<matplotlib.axes._subplots.AxesSubplot at 0x2e3380bdb88>"
      ]
     },
     "execution_count": 15,
     "metadata": {},
     "output_type": "execute_result"
    },
    {
     "data": {
      "image/png": "[encoded data removed]",
      "text/plain": [
       "<Figure size 432x288 with 1 Axes>"
      ]
     },
     "metadata": {
      "needs_background": "light"
     },
     "output_type": "display_data"
    }
   ],
   "source": [
    "# #오버샘플링 후의 카운트 플롯\n",
    "# print(df2['Result'].value_counts())\n",
    "# colors=['yellow','red']\n",
    "# sns.countplot('Result',data=df2,palette=colors) #카운트플롯"
   ]
  },
  {
   "cell_type": "code",
   "execution_count": 18,
   "metadata": {},
   "outputs": [],
   "source": [
    "#언더샘플링 데이터에서 X,y분리\n",
    "X=X_samp[cols]\n",
    "y=y_samp['Result']"
   ]
  },
  {
   "cell_type": "code",
   "execution_count": 19,
   "metadata": {},
   "outputs": [
    {
     "name": "stdout",
     "output_type": "stream",
     "text": [
      "Optimization terminated successfully.\n",
      "         Current function value: 0.494249\n",
      "         Iterations 6\n"
     ]
    },
    {
     "data": {
      "text/html": [
       "<table class=\"simpletable\">\n",
       "<tr>\n",
       "        <td>Model:</td>              <td>Logit</td>      <td>Pseudo R-squared:</td>    <td>0.287</td>  \n",
       "</tr>\n",
       "<tr>\n",
       "  <td>Dependent Variable:</td>      <td>Result</td>            <td>AIC:</td>          <td>92.9878</td> \n",
       "</tr>\n",
       "<tr>\n",
       "         <td>Date:</td>        <td>2020-02-18 15:05</td>       <td>BIC:</td>         <td>100.4198</td> \n",
       "</tr>\n",
       "<tr>\n",
       "   <td>No. Observations:</td>         <td>88</td>         <td>Log-Likelihood:</td>    <td>-43.494</td> \n",
       "</tr>\n",
       "<tr>\n",
       "       <td>Df Model:</td>              <td>2</td>            <td>LL-Null:</td>        <td>-60.997</td> \n",
       "</tr>\n",
       "<tr>\n",
       "     <td>Df Residuals:</td>           <td>85</td>          <td>LLR p-value:</td>    <td>2.5034e-08</td>\n",
       "</tr>\n",
       "<tr>\n",
       "      <td>Converged:</td>           <td>1.0000</td>           <td>Scale:</td>         <td>1.0000</td>  \n",
       "</tr>\n",
       "<tr>\n",
       "    <td>No. Iterations:</td>        <td>6.0000</td>              <td></td>               <td></td>     \n",
       "</tr>\n",
       "</table>\n",
       "<table class=\"simpletable\">\n",
       "<tr>\n",
       "      <td></td>      <th>Coef.</th>  <th>Std.Err.</th>    <th>z</th>     <th>P>|z|</th> <th>[0.025</th>  <th>0.975]</th> \n",
       "</tr>\n",
       "<tr>\n",
       "  <th>Solar.R2</th> <td>0.0046</td>   <td>0.0034</td>  <td>1.3391</td>  <td>0.1805</td> <td>-0.0021</td> <td>0.0114</td> \n",
       "</tr>\n",
       "<tr>\n",
       "  <th>Wind</th>     <td>-0.4390</td>  <td>0.0983</td>  <td>-4.4644</td> <td>0.0000</td> <td>-0.6318</td> <td>-0.2463</td>\n",
       "</tr>\n",
       "<tr>\n",
       "  <th>Temp</th>     <td>0.0388</td>   <td>0.0128</td>  <td>3.0331</td>  <td>0.0024</td> <td>0.0137</td>  <td>0.0639</td> \n",
       "</tr>\n",
       "</table>"
      ],
      "text/plain": [
       "<class 'statsmodels.iolib.summary2.Summary'>\n",
       "\"\"\"\n",
       "                         Results: Logit\n",
       "=================================================================\n",
       "Model:              Logit            Pseudo R-squared: 0.287     \n",
       "Dependent Variable: Result           AIC:              92.9878   \n",
       "Date:               2020-02-18 15:05 BIC:              100.4198  \n",
       "No. Observations:   88               Log-Likelihood:   -43.494   \n",
       "Df Model:           2                LL-Null:          -60.997   \n",
       "Df Residuals:       85               LLR p-value:      2.5034e-08\n",
       "Converged:          1.0000           Scale:            1.0000    \n",
       "No. Iterations:     6.0000                                       \n",
       "------------------------------------------------------------------\n",
       "               Coef.   Std.Err.     z     P>|z|    [0.025   0.975]\n",
       "------------------------------------------------------------------\n",
       "Solar.R2       0.0046    0.0034   1.3391  0.1805  -0.0021   0.0114\n",
       "Wind          -0.4390    0.0983  -4.4644  0.0000  -0.6318  -0.2463\n",
       "Temp           0.0388    0.0128   3.0331  0.0024   0.0137   0.0639\n",
       "=================================================================\n",
       "\n",
       "\"\"\""
      ]
     },
     "execution_count": 19,
     "metadata": {},
     "output_type": "execute_result"
    }
   ],
   "source": [
    "import statsmodels.api as sm\n",
    "model=sm.Logit(y,X) #로지스틱 회귀분석 모형\n",
    "result=model.fit() #기계학습\n",
    "result.summary2() #모형 요약\n",
    "#Pseudo R-squared:0.287 모형의 설명력 28.7%\n",
    "#Solar.R2 변수는 유의하지 않음"
   ]
  },
  {
   "cell_type": "code",
   "execution_count": 21,
   "metadata": {},
   "outputs": [
    {
     "name": "stdout",
     "output_type": "stream",
     "text": [
      "Optimization terminated successfully.\n",
      "         Current function value: 0.504742\n",
      "         Iterations 6\n"
     ]
    },
    {
     "data": {
      "text/html": [
       "<table class=\"simpletable\">\n",
       "<tr>\n",
       "        <td>Model:</td>              <td>Logit</td>      <td>Pseudo R-squared:</td>    <td>0.272</td>  \n",
       "</tr>\n",
       "<tr>\n",
       "  <td>Dependent Variable:</td>      <td>Result</td>            <td>AIC:</td>          <td>92.8345</td> \n",
       "</tr>\n",
       "<tr>\n",
       "         <td>Date:</td>        <td>2020-02-18 15:08</td>       <td>BIC:</td>          <td>97.7892</td> \n",
       "</tr>\n",
       "<tr>\n",
       "   <td>No. Observations:</td>         <td>88</td>         <td>Log-Likelihood:</td>    <td>-44.417</td> \n",
       "</tr>\n",
       "<tr>\n",
       "       <td>Df Model:</td>              <td>1</td>            <td>LL-Null:</td>        <td>-60.997</td> \n",
       "</tr>\n",
       "<tr>\n",
       "     <td>Df Residuals:</td>           <td>86</td>          <td>LLR p-value:</td>    <td>8.4907e-09</td>\n",
       "</tr>\n",
       "<tr>\n",
       "      <td>Converged:</td>           <td>1.0000</td>           <td>Scale:</td>         <td>1.0000</td>  \n",
       "</tr>\n",
       "<tr>\n",
       "    <td>No. Iterations:</td>        <td>6.0000</td>              <td></td>               <td></td>     \n",
       "</tr>\n",
       "</table>\n",
       "<table class=\"simpletable\">\n",
       "<tr>\n",
       "    <td></td>    <th>Coef.</th>  <th>Std.Err.</th>    <th>z</th>     <th>P>|z|</th> <th>[0.025</th>  <th>0.975]</th> \n",
       "</tr>\n",
       "<tr>\n",
       "  <th>Wind</th> <td>-0.4263</td>  <td>0.0954</td>  <td>-4.4705</td> <td>0.0000</td> <td>-0.6132</td> <td>-0.2394</td>\n",
       "</tr>\n",
       "<tr>\n",
       "  <th>Temp</th> <td>0.0485</td>   <td>0.0109</td>  <td>4.4368</td>  <td>0.0000</td> <td>0.0271</td>  <td>0.0700</td> \n",
       "</tr>\n",
       "</table>"
      ],
      "text/plain": [
       "<class 'statsmodels.iolib.summary2.Summary'>\n",
       "\"\"\"\n",
       "                         Results: Logit\n",
       "=================================================================\n",
       "Model:              Logit            Pseudo R-squared: 0.272     \n",
       "Dependent Variable: Result           AIC:              92.8345   \n",
       "Date:               2020-02-18 15:08 BIC:              97.7892   \n",
       "No. Observations:   88               Log-Likelihood:   -44.417   \n",
       "Df Model:           1                LL-Null:          -60.997   \n",
       "Df Residuals:       86               LLR p-value:      8.4907e-09\n",
       "Converged:          1.0000           Scale:            1.0000    \n",
       "No. Iterations:     6.0000                                       \n",
       "-------------------------------------------------------------------\n",
       "           Coef.    Std.Err.      z      P>|z|     [0.025    0.975]\n",
       "-------------------------------------------------------------------\n",
       "Wind      -0.4263     0.0954   -4.4705   0.0000   -0.6132   -0.2394\n",
       "Temp       0.0485     0.0109    4.4368   0.0000    0.0271    0.0700\n",
       "=================================================================\n",
       "\n",
       "\"\"\""
      ]
     },
     "execution_count": 21,
     "metadata": {},
     "output_type": "execute_result"
    }
   ],
   "source": [
    "#Solar.R2 변수를 제외한 모향\n",
    "X=X_samp[['Wind','Temp']]\n",
    "y=y_samp['Result']\n",
    "model=sm.Logit(y,X) #로지스틱 회귀분석 모형\n",
    "result=model.fit() #기계학습\n",
    "result.summary2()\n",
    "#Pseudo R-squared: 0.272 모형 설명력 27.2%\n",
    "#Wind -0.4263 풍량이 증가하면 오존량이 감소한다"
   ]
  },
  {
   "cell_type": "code",
   "execution_count": 25,
   "metadata": {},
   "outputs": [
    {
     "data": {
      "text/plain": [
       "LogisticRegression(C=1.0, class_weight=None, dual=False, fit_intercept=True,\n",
       "                   intercept_scaling=1, l1_ratio=None, max_iter=100,\n",
       "                   multi_class='auto', n_jobs=None, penalty='l2',\n",
       "                   random_state=None, solver='lbfgs', tol=0.0001, verbose=0,\n",
       "                   warm_start=False)"
      ]
     },
     "execution_count": 25,
     "metadata": {},
     "output_type": "execute_result"
    }
   ],
   "source": [
    "from sklearn.model_selection import train_test_split\n",
    "from sklearn.linear_model import LogisticRegression\n",
    "#학습용, 검증용 8:2로 구분\n",
    "X_train,X_test,y_train,y_test=train_test_split(X,y,test_size=0.2, random_state=0)\n",
    "model=LogisticRegression() #로지스틱 회귀분석 모형\n",
    "model.fit(X_train,y_train) #기계학습"
   ]
  },
  {
   "cell_type": "code",
   "execution_count": 26,
   "metadata": {},
   "outputs": [
    {
     "name": "stdout",
     "output_type": "stream",
     "text": [
      "0.8142857142857143\n",
      "0.6666666666666666\n"
     ]
    }
   ],
   "source": [
    "print(model.score(X_train,y_train)) #학습용\n",
    "print(model.score(X_test,y_test)) #검증용"
   ]
  },
  {
   "cell_type": "code",
   "execution_count": 29,
   "metadata": {},
   "outputs": [
    {
     "name": "stdout",
     "output_type": "stream",
     "text": [
      "[1 1 1 1 1 0 1 0 1 0 0 1 0 1 0 0 1 1]\n",
      "[0 0 1 0 1 0 1 0 1 1 0 0 0 1 0 0 0 1]\n",
      "[[6 5]\n",
      " [1 6]]\n"
     ]
    },
    {
     "data": {
      "text/plain": [
       "array([[6, 5],\n",
       "       [1, 6]], dtype=int64)"
      ]
     },
     "execution_count": 29,
     "metadata": {},
     "output_type": "execute_result"
    }
   ],
   "source": [
    "from sklearn.metrics import confusion_matrix\n",
    "pred=model.predict(X_test)\n",
    "print(pred) #모형이 예측한 값\n",
    "print(y_test.values) #실제값\n",
    "cm=confusion_matrix(y_test,pred) #오분류표\n",
    "print(cm)\n",
    "cm"
   ]
  },
  {
   "cell_type": "code",
   "execution_count": 30,
   "metadata": {},
   "outputs": [
    {
     "data": {
      "text/html": [
       "<div>\n",
       "<style scoped>\n",
       "    .dataframe tbody tr th:only-of-type {\n",
       "        vertical-align: middle;\n",
       "    }\n",
       "\n",
       "    .dataframe tbody tr th {\n",
       "        vertical-align: top;\n",
       "    }\n",
       "\n",
       "    .dataframe thead th {\n",
       "        text-align: right;\n",
       "    }\n",
       "</style>\n",
       "<table border=\"1\" class=\"dataframe\">\n",
       "  <thead>\n",
       "    <tr style=\"text-align: right;\">\n",
       "      <th></th>\n",
       "      <th>0</th>\n",
       "      <th>1</th>\n",
       "    </tr>\n",
       "  </thead>\n",
       "  <tbody>\n",
       "    <tr>\n",
       "      <td>0</td>\n",
       "      <td>6</td>\n",
       "      <td>5</td>\n",
       "    </tr>\n",
       "    <tr>\n",
       "      <td>1</td>\n",
       "      <td>1</td>\n",
       "      <td>6</td>\n",
       "    </tr>\n",
       "  </tbody>\n",
       "</table>\n",
       "</div>"
      ],
      "text/plain": [
       "   0  1\n",
       "0  6  5\n",
       "1  1  6"
      ]
     },
     "execution_count": 30,
     "metadata": {},
     "output_type": "execute_result"
    }
   ],
   "source": [
    "#인덱스와 컬럼 이름을 추가한 데이터프레임\n",
    "df_cm=pd.DataFrame(cm,index=[0,1],columns=[0,1])\n",
    "df_cm"
   ]
  },
  {
   "cell_type": "code",
   "execution_count": 31,
   "metadata": {},
   "outputs": [
    {
     "data": {
      "text/plain": [
       "<matplotlib.axes._subplots.AxesSubplot at 0x2e338a71d48>"
      ]
     },
     "execution_count": 31,
     "metadata": {},
     "output_type": "execute_result"
    },
    {
     "data": {
      "image/png": "[encoded data removed]",
      "text/plain": [
       "<Figure size 648x432 with 2 Axes>"
      ]
     },
     "metadata": {},
     "output_type": "display_data"
    }
   ],
   "source": [
    "import matplotlib.pyplot as plt\n",
    "sns.set(font_scale=1.4) #그래프의 폰트 사이즈\n",
    "plt.figure(figsize=(9,6)) #그래프의 가로,세로 사이즈\n",
    "plt.title('Confusion Matrix') #그래프의 타이틀\n",
    "sns.heatmap(df_cm, annot=True) #혼동행렬 그래프"
   ]
  },
  {
   "cell_type": "code",
   "execution_count": null,
   "metadata": {},
   "outputs": [],
   "source": []
  },
  {
   "cell_type": "code",
   "execution_count": null,
   "metadata": {},
   "outputs": [],
   "source": []
  }
 ],
 "metadata": {
  "kernelspec": {
   "display_name": "Python 3",
   "language": "python",
   "name": "python3"
  },
  "language_info": {
   "codemirror_mode": {
    "name": "ipython",
    "version": 3
   },
   "file_extension": ".py",
   "mimetype": "text/x-python",
   "name": "python",
   "nbconvert_exporter": "python",
   "pygments_lexer": "ipython3",
   "version": "3.7.4"
  }
 },
 "nbformat": 4,
 "nbformat_minor": 2
}
