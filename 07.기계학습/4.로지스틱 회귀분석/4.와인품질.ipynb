{
 "cells": [
  {
   "cell_type": "code",
   "execution_count": 1,
   "metadata": {},
   "outputs": [
    {
     "data": {
      "text/html": [
       "<div>\n",
       "<style scoped>\n",
       "    .dataframe tbody tr th:only-of-type {\n",
       "        vertical-align: middle;\n",
       "    }\n",
       "\n",
       "    .dataframe tbody tr th {\n",
       "        vertical-align: top;\n",
       "    }\n",
       "\n",
       "    .dataframe thead th {\n",
       "        text-align: right;\n",
       "    }\n",
       "</style>\n",
       "<table border=\"1\" class=\"dataframe\">\n",
       "  <thead>\n",
       "    <tr style=\"text-align: right;\">\n",
       "      <th></th>\n",
       "      <th>fixed acidity</th>\n",
       "      <th>volatile acidity</th>\n",
       "      <th>citric acid</th>\n",
       "      <th>residual sugar</th>\n",
       "      <th>chlorides</th>\n",
       "      <th>free sulfur dioxide</th>\n",
       "      <th>total sulfur dioxide</th>\n",
       "      <th>density</th>\n",
       "      <th>pH</th>\n",
       "      <th>sulphates</th>\n",
       "      <th>alcohol</th>\n",
       "      <th>quality</th>\n",
       "      <th>class</th>\n",
       "    </tr>\n",
       "  </thead>\n",
       "  <tbody>\n",
       "    <tr>\n",
       "      <td>0</td>\n",
       "      <td>7.4</td>\n",
       "      <td>0.70</td>\n",
       "      <td>0.00</td>\n",
       "      <td>1.9</td>\n",
       "      <td>0.076</td>\n",
       "      <td>11.0</td>\n",
       "      <td>34.0</td>\n",
       "      <td>0.9978</td>\n",
       "      <td>3.51</td>\n",
       "      <td>0.56</td>\n",
       "      <td>9.4</td>\n",
       "      <td>5</td>\n",
       "      <td>0</td>\n",
       "    </tr>\n",
       "    <tr>\n",
       "      <td>1</td>\n",
       "      <td>7.8</td>\n",
       "      <td>0.88</td>\n",
       "      <td>0.00</td>\n",
       "      <td>2.6</td>\n",
       "      <td>0.098</td>\n",
       "      <td>25.0</td>\n",
       "      <td>67.0</td>\n",
       "      <td>0.9968</td>\n",
       "      <td>3.20</td>\n",
       "      <td>0.68</td>\n",
       "      <td>9.8</td>\n",
       "      <td>5</td>\n",
       "      <td>0</td>\n",
       "    </tr>\n",
       "    <tr>\n",
       "      <td>2</td>\n",
       "      <td>7.8</td>\n",
       "      <td>0.76</td>\n",
       "      <td>0.04</td>\n",
       "      <td>2.3</td>\n",
       "      <td>0.092</td>\n",
       "      <td>15.0</td>\n",
       "      <td>54.0</td>\n",
       "      <td>0.9970</td>\n",
       "      <td>3.26</td>\n",
       "      <td>0.65</td>\n",
       "      <td>9.8</td>\n",
       "      <td>5</td>\n",
       "      <td>0</td>\n",
       "    </tr>\n",
       "    <tr>\n",
       "      <td>3</td>\n",
       "      <td>11.2</td>\n",
       "      <td>0.28</td>\n",
       "      <td>0.56</td>\n",
       "      <td>1.9</td>\n",
       "      <td>0.075</td>\n",
       "      <td>17.0</td>\n",
       "      <td>60.0</td>\n",
       "      <td>0.9980</td>\n",
       "      <td>3.16</td>\n",
       "      <td>0.58</td>\n",
       "      <td>9.8</td>\n",
       "      <td>6</td>\n",
       "      <td>1</td>\n",
       "    </tr>\n",
       "    <tr>\n",
       "      <td>4</td>\n",
       "      <td>7.4</td>\n",
       "      <td>0.70</td>\n",
       "      <td>0.00</td>\n",
       "      <td>1.9</td>\n",
       "      <td>0.076</td>\n",
       "      <td>11.0</td>\n",
       "      <td>34.0</td>\n",
       "      <td>0.9978</td>\n",
       "      <td>3.51</td>\n",
       "      <td>0.56</td>\n",
       "      <td>9.4</td>\n",
       "      <td>5</td>\n",
       "      <td>0</td>\n",
       "    </tr>\n",
       "  </tbody>\n",
       "</table>\n",
       "</div>"
      ],
      "text/plain": [
       "   fixed acidity  volatile acidity  citric acid  residual sugar  chlorides  \\\n",
       "0            7.4              0.70         0.00             1.9      0.076   \n",
       "1            7.8              0.88         0.00             2.6      0.098   \n",
       "2            7.8              0.76         0.04             2.3      0.092   \n",
       "3           11.2              0.28         0.56             1.9      0.075   \n",
       "4            7.4              0.70         0.00             1.9      0.076   \n",
       "\n",
       "   free sulfur dioxide  total sulfur dioxide  density    pH  sulphates  \\\n",
       "0                 11.0                  34.0   0.9978  3.51       0.56   \n",
       "1                 25.0                  67.0   0.9968  3.20       0.68   \n",
       "2                 15.0                  54.0   0.9970  3.26       0.65   \n",
       "3                 17.0                  60.0   0.9980  3.16       0.58   \n",
       "4                 11.0                  34.0   0.9978  3.51       0.56   \n",
       "\n",
       "   alcohol  quality  class  \n",
       "0      9.4        5      0  \n",
       "1      9.8        5      0  \n",
       "2      9.8        5      0  \n",
       "3      9.8        6      1  \n",
       "4      9.4        5      0  "
      ]
     },
     "execution_count": 1,
     "metadata": {},
     "output_type": "execute_result"
    }
   ],
   "source": [
    "import pandas as pd\n",
    "df=pd.read_csv('d:/data/wine/winequality-red2.csv')\n",
    "df.head()"
   ]
  },
  {
   "cell_type": "code",
   "execution_count": 2,
   "metadata": {},
   "outputs": [
    {
     "data": {
      "text/plain": [
       "1    855\n",
       "0    744\n",
       "Name: class, dtype: int64"
      ]
     },
     "execution_count": 2,
     "metadata": {},
     "output_type": "execute_result"
    }
   ],
   "source": [
    "df['class'].value_counts()"
   ]
  },
  {
   "cell_type": "code",
   "execution_count": 3,
   "metadata": {},
   "outputs": [
    {
     "data": {
      "text/plain": [
       "<matplotlib.axes._subplots.AxesSubplot at 0x26a573e5dc8>"
      ]
     },
     "execution_count": 3,
     "metadata": {},
     "output_type": "execute_result"
    },
    {
     "data": {
      "image/png": "[encoded data removed]",
      "text/plain": [
       "<Figure size 432x288 with 1 Axes>"
      ]
     },
     "metadata": {
      "needs_background": "light"
     },
     "output_type": "display_data"
    }
   ],
   "source": [
    "%matplotlib inline\n",
    "import seaborn as sns\n",
    "colors=['yellow','red']\n",
    "sns.countplot('class',data=df,palette=colors) #카운트 플롯"
   ]
  },
  {
   "cell_type": "code",
   "execution_count": 4,
   "metadata": {},
   "outputs": [],
   "source": [
    "train_cols=df.columns[0:11]\n",
    "X=df[train_cols] #독립변수\n",
    "y=df['class'] #종속변수"
   ]
  },
  {
   "cell_type": "code",
   "execution_count": 5,
   "metadata": {},
   "outputs": [
    {
     "name": "stderr",
     "output_type": "stream",
     "text": [
      "Using TensorFlow backend.\n"
     ]
    },
    {
     "name": "stdout",
     "output_type": "stream",
     "text": [
      "1    744\n",
      "0    744\n",
      "Name: class, dtype: int64\n"
     ]
    },
    {
     "data": {
      "image/png": "[encoded data removed]",
      "text/plain": [
       "<Figure size 432x288 with 1 Axes>"
      ]
     },
     "metadata": {
      "needs_background": "light"
     },
     "output_type": "display_data"
    }
   ],
   "source": [
    "#언더샘플링\n",
    "from imblearn.under_sampling import RandomUnderSampler\n",
    "X_sample,y_sample=RandomUnderSampler(random_state=0).fit_sample(X,y)\n",
    "X_samp=pd.DataFrame(data=X_sample,columns=train_cols)\n",
    "y_samp=pd.DataFrame(data=y_sample,columns=['class'])\n",
    "df2=pd.concat([X_samp,y_samp],axis=1)\n",
    "colors=['yellow','red']\n",
    "sns.countplot('class',data=df2,palette=colors)\n",
    "print(df2['class'].value_counts())"
   ]
  },
  {
   "cell_type": "code",
   "execution_count": 6,
   "metadata": {},
   "outputs": [],
   "source": [
    "X=X_samp[train_cols] #독립변수\n",
    "y=y_samp['class']"
   ]
  },
  {
   "cell_type": "code",
   "execution_count": 8,
   "metadata": {},
   "outputs": [
    {
     "name": "stdout",
     "output_type": "stream",
     "text": [
      "Optimization terminated successfully.\n",
      "         Current function value: 0.519201\n",
      "         Iterations 6\n"
     ]
    },
    {
     "data": {
      "text/html": [
       "<table class=\"simpletable\">\n",
       "<tr>\n",
       "        <td>Model:</td>              <td>Logit</td>      <td>Pseudo R-squared:</td>    <td>0.251</td>   \n",
       "</tr>\n",
       "<tr>\n",
       "  <td>Dependent Variable:</td>       <td>class</td>            <td>AIC:</td>         <td>1567.1410</td> \n",
       "</tr>\n",
       "<tr>\n",
       "         <td>Date:</td>        <td>2020-03-26 15:55</td>       <td>BIC:</td>         <td>1625.4980</td> \n",
       "</tr>\n",
       "<tr>\n",
       "   <td>No. Observations:</td>        <td>1488</td>        <td>Log-Likelihood:</td>    <td>-772.57</td>  \n",
       "</tr>\n",
       "<tr>\n",
       "       <td>Df Model:</td>             <td>10</td>            <td>LL-Null:</td>        <td>-1031.4</td>  \n",
       "</tr>\n",
       "<tr>\n",
       "     <td>Df Residuals:</td>          <td>1477</td>         <td>LLR p-value:</td>    <td>7.3971e-105</td>\n",
       "</tr>\n",
       "<tr>\n",
       "      <td>Converged:</td>           <td>1.0000</td>           <td>Scale:</td>         <td>1.0000</td>   \n",
       "</tr>\n",
       "<tr>\n",
       "    <td>No. Iterations:</td>        <td>6.0000</td>              <td></td>               <td></td>      \n",
       "</tr>\n",
       "</table>\n",
       "<table class=\"simpletable\">\n",
       "<tr>\n",
       "            <td></td>            <th>Coef.</th>  <th>Std.Err.</th>    <th>z</th>     <th>P>|z|</th>  <th>[0.025</th>  <th>0.975]</th> \n",
       "</tr>\n",
       "<tr>\n",
       "  <th>fixed acidity</th>        <td>0.0667</td>   <td>0.0654</td>  <td>1.0192</td>  <td>0.3081</td>  <td>-0.0616</td> <td>0.1950</td> \n",
       "</tr>\n",
       "<tr>\n",
       "  <th>volatile acidity</th>     <td>-3.1223</td>  <td>0.5007</td>  <td>-6.2355</td> <td>0.0000</td>  <td>-4.1036</td> <td>-2.1409</td>\n",
       "</tr>\n",
       "<tr>\n",
       "  <th>citric acid</th>          <td>-1.0057</td>  <td>0.5823</td>  <td>-1.7272</td> <td>0.0841</td>  <td>-2.1470</td> <td>0.1356</td> \n",
       "</tr>\n",
       "<tr>\n",
       "  <th>residual sugar</th>       <td>0.0202</td>   <td>0.0471</td>  <td>0.4297</td>  <td>0.6674</td>  <td>-0.0720</td> <td>0.1124</td> \n",
       "</tr>\n",
       "<tr>\n",
       "  <th>chlorides</th>            <td>-3.8639</td>  <td>1.5852</td>  <td>-2.4375</td> <td>0.0148</td>  <td>-6.9708</td> <td>-0.7570</td>\n",
       "</tr>\n",
       "<tr>\n",
       "  <th>free sulfur dioxide</th>  <td>0.0238</td>   <td>0.0086</td>  <td>2.7595</td>  <td>0.0058</td>  <td>0.0069</td>  <td>0.0406</td> \n",
       "</tr>\n",
       "<tr>\n",
       "  <th>total sulfur dioxide</th> <td>-0.0174</td>  <td>0.0030</td>  <td>-5.7611</td> <td>0.0000</td>  <td>-0.0234</td> <td>-0.0115</td>\n",
       "</tr>\n",
       "<tr>\n",
       "  <th>density</th>              <td>-6.7033</td>  <td>2.4215</td>  <td>-2.7683</td> <td>0.0056</td> <td>-11.4494</td> <td>-1.9573</td>\n",
       "</tr>\n",
       "<tr>\n",
       "  <th>pH</th>                   <td>-0.7199</td>  <td>0.6189</td>  <td>-1.1632</td> <td>0.2447</td>  <td>-1.9329</td> <td>0.4931</td> \n",
       "</tr>\n",
       "<tr>\n",
       "  <th>sulphates</th>            <td>2.7734</td>   <td>0.4470</td>  <td>6.2046</td>  <td>0.0000</td>  <td>1.8973</td>  <td>3.6495</td> \n",
       "</tr>\n",
       "<tr>\n",
       "  <th>alcohol</th>              <td>0.9043</td>   <td>0.0761</td>  <td>11.8899</td> <td>0.0000</td>  <td>0.7553</td>  <td>1.0534</td> \n",
       "</tr>\n",
       "</table>"
      ],
      "text/plain": [
       "<class 'statsmodels.iolib.summary2.Summary'>\n",
       "\"\"\"\n",
       "                           Results: Logit\n",
       "=====================================================================\n",
       "Model:               Logit             Pseudo R-squared:  0.251      \n",
       "Dependent Variable:  class             AIC:               1567.1410  \n",
       "Date:                2020-03-26 15:55  BIC:               1625.4980  \n",
       "No. Observations:    1488              Log-Likelihood:    -772.57    \n",
       "Df Model:            10                LL-Null:           -1031.4    \n",
       "Df Residuals:        1477              LLR p-value:       7.3971e-105\n",
       "Converged:           1.0000            Scale:             1.0000     \n",
       "No. Iterations:      6.0000                                          \n",
       "---------------------------------------------------------------------\n",
       "                      Coef.  Std.Err.    z    P>|z|   [0.025   0.975]\n",
       "---------------------------------------------------------------------\n",
       "fixed acidity         0.0667   0.0654  1.0192 0.3081  -0.0616  0.1950\n",
       "volatile acidity     -3.1223   0.5007 -6.2355 0.0000  -4.1036 -2.1409\n",
       "citric acid          -1.0057   0.5823 -1.7272 0.0841  -2.1470  0.1356\n",
       "residual sugar        0.0202   0.0471  0.4297 0.6674  -0.0720  0.1124\n",
       "chlorides            -3.8639   1.5852 -2.4375 0.0148  -6.9708 -0.7570\n",
       "free sulfur dioxide   0.0238   0.0086  2.7595 0.0058   0.0069  0.0406\n",
       "total sulfur dioxide -0.0174   0.0030 -5.7611 0.0000  -0.0234 -0.0115\n",
       "density              -6.7033   2.4215 -2.7683 0.0056 -11.4494 -1.9573\n",
       "pH                   -0.7199   0.6189 -1.1632 0.2447  -1.9329  0.4931\n",
       "sulphates             2.7734   0.4470  6.2046 0.0000   1.8973  3.6495\n",
       "alcohol               0.9043   0.0761 11.8899 0.0000   0.7553  1.0534\n",
       "=====================================================================\n",
       "\n",
       "\"\"\""
      ]
     },
     "execution_count": 8,
     "metadata": {},
     "output_type": "execute_result"
    }
   ],
   "source": [
    "import statsmodels.api as sm\n",
    "model=sm.Logit(y,X) #로지스틱 회귀분석 모형\n",
    "result=model.fit() #기계학습\n",
    "# print('회귀계수\\n',result.params)\n",
    "# print('r-value:\\n{:4.2f}%'.format(result.rsquared))\n",
    "# print('p-value:\\n{:4.2f}%'.format(result.pvalues))\n",
    "# print('모형요약\\n',result.summary())\n",
    "result.summary2() #모형 요약\n",
    "#Pseudo R-squared: 0.250 모형 설명력 25%\n",
    "#유의하지 않은 변수 : residual sugar > pH> fixed acidity"
   ]
  },
  {
   "cell_type": "code",
   "execution_count": null,
   "metadata": {},
   "outputs": [],
   "source": [
    "X.columns"
   ]
  },
  {
   "cell_type": "code",
   "execution_count": null,
   "metadata": {},
   "outputs": [],
   "source": [
    "#residual sugar를 제외한 모형\n",
    "X=X_samp[['fixed acidity', 'volatile acidity', 'citric acid','chlorides', 'free sulfur dioxide', 'total sulfur dioxide', 'density',\n",
    "       'pH', 'sulphates', 'alcohol']]\n",
    "model=sm.Logit(y,X) #로지스틱 회귀분석 모형\n",
    "result=model.fit() #기계학습\n",
    "result.summary2()"
   ]
  },
  {
   "cell_type": "code",
   "execution_count": null,
   "metadata": {},
   "outputs": [],
   "source": [
    "#residual sugar,fixed acidity 를 제외한 모형\n",
    "X=X_samp[['volatile acidity', 'citric acid','chlorides', 'free sulfur dioxide', 'total sulfur dioxide', 'density',\n",
    "       'pH', 'sulphates', 'alcohol']]\n",
    "model=sm.Logit(y,X) #로지스틱 회귀분석 모형\n",
    "result=model.fit() #기계학습\n",
    "result.summary2()"
   ]
  },
  {
   "cell_type": "code",
   "execution_count": null,
   "metadata": {},
   "outputs": [],
   "source": [
    "#residual sugar,fixed acidity,citric acid 를 제외한 모형\n",
    "X=X_samp[['volatile acidity',\n",
    "          'chlorides', 'free sulfur dioxide', \n",
    "          'total sulfur dioxide', 'density',\n",
    "       'pH', 'sulphates', 'alcohol']]\n",
    "model=sm.Logit(y,X) #로지스틱 회귀분석 모형\n",
    "result=model.fit() #기계학습\n",
    "result.summary2()"
   ]
  },
  {
   "cell_type": "code",
   "execution_count": null,
   "metadata": {},
   "outputs": [],
   "source": [
    "from sklearn.model_selection import train_test_split\n",
    "from sklearn.linear_model import LogisticRegression\n",
    "#학습용,검증용 8:2로 구분\n",
    "X_train,X_test,y_train,y_test=train_test_split(X,y,test_size=0.2,random_state=10)\n",
    "model=LogisticRegression()\n",
    "model.fit(X_train,y_train)"
   ]
  },
  {
   "cell_type": "code",
   "execution_count": null,
   "metadata": {},
   "outputs": [],
   "source": [
    "print(model.score(X_train,y_train)) #학습용 예측 정확도\n",
    "print(model.score(X_test,y_test)) #검증용 예측 정확도"
   ]
  },
  {
   "cell_type": "code",
   "execution_count": null,
   "metadata": {},
   "outputs": [],
   "source": []
  },
  {
   "cell_type": "code",
   "execution_count": null,
   "metadata": {},
   "outputs": [],
   "source": []
  },
  {
   "cell_type": "code",
   "execution_count": null,
   "metadata": {},
   "outputs": [],
   "source": []
  },
  {
   "cell_type": "code",
   "execution_count": null,
   "metadata": {},
   "outputs": [],
   "source": []
  }
 ],
 "metadata": {
  "kernelspec": {
   "display_name": "Python 3",
   "language": "python",
   "name": "python3"
  },
  "language_info": {
   "codemirror_mode": {
    "name": "ipython",
    "version": 3
   },
   "file_extension": ".py",
   "mimetype": "text/x-python",
   "name": "python",
   "nbconvert_exporter": "python",
   "pygments_lexer": "ipython3",
   "version": "3.7.4"
  }
 },
 "nbformat": 4,
 "nbformat_minor": 2
}
