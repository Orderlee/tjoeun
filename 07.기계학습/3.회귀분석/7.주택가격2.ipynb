{
 "cells": [
  {
   "cell_type": "code",
   "execution_count": 19,
   "metadata": {},
   "outputs": [
    {
     "data": {
      "text/plain": [
       "<bound method NDFrame.head of            Suburb               Address  Rooms Type      Price Method  \\\n",
       "0      Abbotsford         68 Studley St      2    h        NaN     SS   \n",
       "1      Abbotsford          85 Turner St      2    h  1480000.0      S   \n",
       "2      Abbotsford       25 Bloomburg St      2    h  1035000.0      S   \n",
       "3      Abbotsford    18/659 Victoria St      3    u        NaN     VB   \n",
       "4      Abbotsford          5 Charles St      3    h  1465000.0     SP   \n",
       "...           ...                   ...    ...  ...        ...    ...   \n",
       "19735     Windsor       201/152 Peel St      2    u   560000.0     PI   \n",
       "19736     Wollert       60 Saltlake Bvd      3    h   525300.0      S   \n",
       "19737  Yarraville           2 Adeney St      2    h   750000.0     SP   \n",
       "19738  Yarraville       54 Pentland Pde      6    h  2450000.0     VB   \n",
       "19739  Yarraville  10/127 Somerville Rd      3    t   645000.0     SP   \n",
       "\n",
       "             SellerG        Date  Distance  Postcode  ...  Bathroom  Car  \\\n",
       "0             Jellis   3/09/2016       2.5    3067.0  ...       1.0  1.0   \n",
       "1             Biggin   3/12/2016       2.5    3067.0  ...       1.0  1.0   \n",
       "2             Biggin   4/02/2016       2.5    3067.0  ...       1.0  0.0   \n",
       "3             Rounds   4/02/2016       2.5    3067.0  ...       2.0  1.0   \n",
       "4             Biggin   4/03/2017       2.5    3067.0  ...       2.0  0.0   \n",
       "...              ...         ...       ...       ...  ...       ...  ...   \n",
       "19735  hockingstuart  29/07/2017       4.6    3181.0  ...       1.0  1.0   \n",
       "19736      Stockdale  29/07/2017      25.5    3750.0  ...       2.0  2.0   \n",
       "19737  hockingstuart  29/07/2017       6.3    3013.0  ...       2.0  2.0   \n",
       "19738        Village  29/07/2017       6.3    3013.0  ...       2.0  1.0   \n",
       "19739            Jas  29/07/2017       6.3    3013.0  ...       1.0  1.0   \n",
       "\n",
       "       Landsize  BuildingArea  YearBuilt  CouncilArea Lattitude  Longtitude  \\\n",
       "0         126.0           NaN        NaN        Yarra -37.80140   144.99580   \n",
       "1         202.0           NaN        NaN        Yarra -37.79960   144.99840   \n",
       "2         156.0          79.0    1900.00        Yarra -37.80790   144.99340   \n",
       "3           0.0           NaN        NaN        Yarra -37.81140   145.01160   \n",
       "4         134.0         150.0    1900.00        Yarra -37.80930   144.99440   \n",
       "...         ...           ...        ...          ...       ...         ...   \n",
       "19735       NaN         585.0        NaN   Whittlesea -37.67681   145.00323   \n",
       "19736       NaN         333.0        NaN      Darebin -37.75884   145.00264   \n",
       "19737    1999.0         199.0     140.00      Darebin -37.75948   144.99615   \n",
       "19738    2011.0         238.0     118.00         Hume -37.70322   144.88236   \n",
       "19739    1980.0           0.0      66.32         Hume -37.69815   144.88019   \n",
       "\n",
       "                  Regionname Propertycount  \n",
       "0      Northern Metropolitan        4019.0  \n",
       "1      Northern Metropolitan        4019.0  \n",
       "2      Northern Metropolitan        4019.0  \n",
       "3      Northern Metropolitan        4019.0  \n",
       "4      Northern Metropolitan        4019.0  \n",
       "...                      ...           ...  \n",
       "19735  Southern Metropolitan        4380.0  \n",
       "19736  Northern Metropolitan        2940.0  \n",
       "19737   Western Metropolitan        6543.0  \n",
       "19738   Western Metropolitan        6543.0  \n",
       "19739   Western Metropolitan        6543.0  \n",
       "\n",
       "[19740 rows x 21 columns]>"
      ]
     },
     "execution_count": 19,
     "metadata": {},
     "output_type": "execute_result"
    }
   ],
   "source": [
    "import pandas as pd\n",
    "import numpy as np\n",
    "%matplotlib inline\n",
    "import seaborn as sns\n",
    "import matplotlib.pyplot as plt\n",
    "df=pd.read_csv('d:/data/house_regress/data.csv')\n",
    "df.head"
   ]
  },
  {
   "cell_type": "code",
   "execution_count": 20,
   "metadata": {},
   "outputs": [
    {
     "data": {
      "text/plain": [
       "(19740, 21)"
      ]
     },
     "execution_count": 20,
     "metadata": {},
     "output_type": "execute_result"
    }
   ],
   "source": [
    "df.shape #데이터의 차원"
   ]
  },
  {
   "cell_type": "code",
   "execution_count": 21,
   "metadata": {},
   "outputs": [
    {
     "data": {
      "text/plain": [
       "Index(['Suburb', 'Address', 'Rooms', 'Type', 'Price', 'Method', 'SellerG',\n",
       "       'Date', 'Distance', 'Postcode', 'Bedroom2', 'Bathroom', 'Car',\n",
       "       'Landsize', 'BuildingArea', 'YearBuilt', 'CouncilArea', 'Lattitude',\n",
       "       'Longtitude', 'Regionname', 'Propertycount'],\n",
       "      dtype='object')"
      ]
     },
     "execution_count": 21,
     "metadata": {},
     "output_type": "execute_result"
    }
   ],
   "source": [
    "df.columns #필드명"
   ]
  },
  {
   "cell_type": "code",
   "execution_count": 22,
   "metadata": {},
   "outputs": [
    {
     "data": {
      "text/plain": [
       "(6050, 21)"
      ]
     },
     "execution_count": 22,
     "metadata": {},
     "output_type": "execute_result"
    }
   ],
   "source": [
    "df2=df.dropna(axis=0) #결측값이 있는 행을 제거\n",
    "df2.shape"
   ]
  },
  {
   "cell_type": "code",
   "execution_count": 23,
   "metadata": {},
   "outputs": [],
   "source": [
    "# loc[행의범위,열의범위] =>필드명으로 선택\n",
    "# iloc[행의범위,열의범위] =>숫자인덱스로 선택"
   ]
  },
  {
   "cell_type": "code",
   "execution_count": 24,
   "metadata": {},
   "outputs": [],
   "source": [
    "#회귀분석에 사용할 필드 선택(독립변수, 종속변수는 연속수치형만 사용)\n",
    "X=df2.loc[:,(['Rooms','Distance','Bedroom2', 'Bathroom', 'Car',\n",
    "       'Landsize', 'BuildingArea', 'Propertycount'])]\n",
    "y=df2['Price']"
   ]
  },
  {
   "cell_type": "code",
   "execution_count": 26,
   "metadata": {},
   "outputs": [
    {
     "name": "stdout",
     "output_type": "stream",
     "text": [
      "회귀계수\n",
      " Rooms            350365.910476\n",
      "Distance         -38508.221239\n",
      "Bedroom2         -19295.129137\n",
      "Bathroom         221812.838646\n",
      "Car               53829.370843\n",
      "Landsize             11.322774\n",
      "BuildingArea         87.335647\n",
      "Propertycount         2.057677\n",
      "dtype: float64\n",
      "r-value\n",
      " 0.8368610512493388\n",
      "p-value\n",
      " Rooms            2.519686e-163\n",
      "Distance         1.076022e-197\n",
      "Bedroom2          1.527974e-01\n",
      "Bathroom          6.666483e-76\n",
      "Car               1.234279e-11\n",
      "Landsize          1.040455e-01\n",
      "BuildingArea      6.072371e-04\n",
      "Propertycount     1.116857e-01\n",
      "dtype: float64\n",
      "모형요약\n",
      "                                  OLS Regression Results                                \n",
      "=======================================================================================\n",
      "Dep. Variable:                  Price   R-squared (uncentered):                   0.837\n",
      "Model:                            OLS   Adj. R-squared (uncentered):              0.837\n",
      "Method:                 Least Squares   F-statistic:                              3874.\n",
      "Date:                Mon, 17 Feb 2020   Prob (F-statistic):                        0.00\n",
      "Time:                        15:52:39   Log-Likelihood:                         -88111.\n",
      "No. Observations:                6050   AIC:                                  1.762e+05\n",
      "Df Residuals:                    6042   BIC:                                  1.763e+05\n",
      "Df Model:                           8                                                  \n",
      "Covariance Type:            nonrobust                                                  \n",
      "=================================================================================\n",
      "                    coef    std err          t      P>|t|      [0.025      0.975]\n",
      "---------------------------------------------------------------------------------\n",
      "Rooms          3.504e+05   1.25e+04     28.094      0.000    3.26e+05    3.75e+05\n",
      "Distance      -3.851e+04   1236.196    -31.151      0.000   -4.09e+04   -3.61e+04\n",
      "Bedroom2       -1.93e+04   1.35e+04     -1.430      0.153   -4.57e+04    7158.003\n",
      "Bathroom       2.218e+05   1.19e+04     18.700      0.000    1.99e+05    2.45e+05\n",
      "Car            5.383e+04   7928.540      6.789      0.000    3.83e+04    6.94e+04\n",
      "Landsize         11.3228      6.964      1.626      0.104      -2.330      24.976\n",
      "BuildingArea     87.3356     25.461      3.430      0.001      37.423     137.248\n",
      "Propertycount     2.0577      1.293      1.591      0.112      -0.478       4.593\n",
      "==============================================================================\n",
      "Omnibus:                     3811.504   Durbin-Watson:                   1.486\n",
      "Prob(Omnibus):                  0.000   Jarque-Bera (JB):           131600.710\n",
      "Skew:                           2.478   Prob(JB):                         0.00\n",
      "Kurtosis:                      25.304   Cond. No.                     2.31e+04\n",
      "==============================================================================\n",
      "\n",
      "Warnings:\n",
      "[1] Standard Errors assume that the covariance matrix of the errors is correctly specified.\n",
      "[2] The condition number is large, 2.31e+04. This might indicate that there are\n",
      "strong multicollinearity or other numerical problems.\n"
     ]
    }
   ],
   "source": [
    "import statsmodels.api as sm\n",
    "model=sm.OLS(y,X) #OLS (종속변수,독립변수)\n",
    "result=model.fit() #다중회귀분석모형 학습\n",
    "print('회귀계수\\n',result.params)\n",
    "print('r-value\\n',result.rsquared)\n",
    "print('p-value\\n',result.pvalues)\n",
    "print('모형요약\\n',result.summary())"
   ]
  },
  {
   "cell_type": "code",
   "execution_count": null,
   "metadata": {},
   "outputs": [],
   "source": [
    "#모든 변수 투입 => 0.8368610512493388\n",
    "#후진제거법으로 변수를 하나씩 제거\n",
    "#Bedroom2 > Propertycounty > Landsize"
   ]
  },
  {
   "cell_type": "code",
   "execution_count": 27,
   "metadata": {},
   "outputs": [],
   "source": [
    "#bedroo2 제거\n",
    "X=df2.loc[:,(['Rooms','Distance','Bathroom', 'Car',\n",
    "       'Landsize', 'BuildingArea', 'Propertycount'])]\n",
    "y=df2['Price']"
   ]
  },
  {
   "cell_type": "code",
   "execution_count": 28,
   "metadata": {},
   "outputs": [
    {
     "name": "stdout",
     "output_type": "stream",
     "text": [
      "회귀계수\n",
      " Rooms            336265.719655\n",
      "Distance         -38582.159852\n",
      "Bathroom         216044.494398\n",
      "Car               51730.316716\n",
      "Landsize             11.316800\n",
      "BuildingArea         85.302299\n",
      "Propertycount         1.936675\n",
      "dtype: float64\n",
      "r-value\n",
      " 0.8368058449929137\n",
      "p-value\n",
      " Rooms             0.000000e+00\n",
      "Distance         1.104378e-198\n",
      "Bathroom          4.087878e-81\n",
      "Car               3.438345e-11\n",
      "Landsize          1.042580e-01\n",
      "BuildingArea      7.977976e-04\n",
      "Propertycount     1.335559e-01\n",
      "dtype: float64\n",
      "모형요약\n",
      "                                  OLS Regression Results                                \n",
      "=======================================================================================\n",
      "Dep. Variable:                  Price   R-squared (uncentered):                   0.837\n",
      "Model:                            OLS   Adj. R-squared (uncentered):              0.837\n",
      "Method:                 Least Squares   F-statistic:                              4427.\n",
      "Date:                Mon, 17 Feb 2020   Prob (F-statistic):                        0.00\n",
      "Time:                        15:56:43   Log-Likelihood:                         -88112.\n",
      "No. Observations:                6050   AIC:                                  1.762e+05\n",
      "Df Residuals:                    6043   BIC:                                  1.763e+05\n",
      "Df Model:                           7                                                  \n",
      "Covariance Type:            nonrobust                                                  \n",
      "=================================================================================\n",
      "                    coef    std err          t      P>|t|      [0.025      0.975]\n",
      "---------------------------------------------------------------------------------\n",
      "Rooms          3.363e+05   7635.892     44.038      0.000    3.21e+05    3.51e+05\n",
      "Distance      -3.858e+04   1235.221    -31.235      0.000    -4.1e+04   -3.62e+04\n",
      "Bathroom        2.16e+05   1.12e+04     19.366      0.000    1.94e+05    2.38e+05\n",
      "Car            5.173e+04   7792.130      6.639      0.000    3.65e+04     6.7e+04\n",
      "Landsize         11.3168      6.965      1.625      0.104      -2.337      24.971\n",
      "BuildingArea     85.3023     25.423      3.355      0.001      35.463     135.141\n",
      "Propertycount     1.9367      1.291      1.500      0.134      -0.594       4.467\n",
      "==============================================================================\n",
      "Omnibus:                     3821.805   Durbin-Watson:                   1.485\n",
      "Prob(Omnibus):                  0.000   Jarque-Bera (JB):           132838.959\n",
      "Skew:                           2.486   Prob(JB):                         0.00\n",
      "Kurtosis:                      25.411   Cond. No.                     1.64e+04\n",
      "==============================================================================\n",
      "\n",
      "Warnings:\n",
      "[1] Standard Errors assume that the covariance matrix of the errors is correctly specified.\n",
      "[2] The condition number is large, 1.64e+04. This might indicate that there are\n",
      "strong multicollinearity or other numerical problems.\n"
     ]
    }
   ],
   "source": [
    "import statsmodels.api as sm\n",
    "model=sm.OLS(y,X) #OLS (종속변수,독립변수)\n",
    "result=model.fit() #다중회귀분석모형 학습\n",
    "print('회귀계수\\n',result.params)\n",
    "print('r-value\\n',result.rsquared)\n",
    "print('p-value\\n',result.pvalues)\n",
    "print('모형요약\\n',result.summary())"
   ]
  },
  {
   "cell_type": "code",
   "execution_count": 31,
   "metadata": {},
   "outputs": [],
   "source": [
    "#Propertycounty 제거\n",
    "X=df2.loc[:,(['Rooms','Distance','Bathroom', 'Car',\n",
    "       'Landsize', 'BuildingArea'])]\n",
    "y=df2['Price']"
   ]
  },
  {
   "cell_type": "code",
   "execution_count": 32,
   "metadata": {},
   "outputs": [
    {
     "name": "stdout",
     "output_type": "stream",
     "text": [
      "회귀계수\n",
      " Rooms           338831.560664\n",
      "Distance        -38411.532118\n",
      "Bathroom        217694.556060\n",
      "Car              52375.341603\n",
      "Landsize            11.689742\n",
      "BuildingArea        84.659471\n",
      "dtype: float64\n",
      "r-value\n",
      " 0.8367450480078089\n",
      "p-value\n",
      " Rooms            0.000000e+00\n",
      "Distance        1.389816e-198\n",
      "Bathroom         4.828834e-83\n",
      "Car              1.838772e-11\n",
      "Landsize         9.315747e-02\n",
      "BuildingArea     8.733467e-04\n",
      "dtype: float64\n",
      "모형요약\n",
      "                                  OLS Regression Results                                \n",
      "=======================================================================================\n",
      "Dep. Variable:                  Price   R-squared (uncentered):                   0.837\n",
      "Model:                            OLS   Adj. R-squared (uncentered):              0.837\n",
      "Method:                 Least Squares   F-statistic:                              5163.\n",
      "Date:                Mon, 17 Feb 2020   Prob (F-statistic):                        0.00\n",
      "Time:                        15:57:47   Log-Likelihood:                         -88113.\n",
      "No. Observations:                6050   AIC:                                  1.762e+05\n",
      "Df Residuals:                    6044   BIC:                                  1.763e+05\n",
      "Df Model:                           6                                                  \n",
      "Covariance Type:            nonrobust                                                  \n",
      "================================================================================\n",
      "                   coef    std err          t      P>|t|      [0.025      0.975]\n",
      "--------------------------------------------------------------------------------\n",
      "Rooms         3.388e+05   7442.712     45.525      0.000    3.24e+05    3.53e+05\n",
      "Distance     -3.841e+04   1230.102    -31.226      0.000   -4.08e+04    -3.6e+04\n",
      "Bathroom      2.177e+05   1.11e+04     19.608      0.000    1.96e+05    2.39e+05\n",
      "Car           5.238e+04   7781.068      6.731      0.000    3.71e+04    6.76e+04\n",
      "Landsize        11.6897      6.961      1.679      0.093      -1.957      25.336\n",
      "BuildingArea    84.6595     25.422      3.330      0.001      34.822     134.497\n",
      "==============================================================================\n",
      "Omnibus:                     3801.979   Durbin-Watson:                   1.486\n",
      "Prob(Omnibus):                  0.000   Jarque-Bera (JB):           132039.913\n",
      "Skew:                           2.467   Prob(JB):                         0.00\n",
      "Kurtosis:                      25.349   Cond. No.                     2.13e+03\n",
      "==============================================================================\n",
      "\n",
      "Warnings:\n",
      "[1] Standard Errors assume that the covariance matrix of the errors is correctly specified.\n",
      "[2] The condition number is large, 2.13e+03. This might indicate that there are\n",
      "strong multicollinearity or other numerical problems.\n"
     ]
    }
   ],
   "source": [
    "import statsmodels.api as sm\n",
    "model=sm.OLS(y,X) #OLS (종속변수,독립변수)\n",
    "result=model.fit() #다중회귀분석모형 학습\n",
    "print('회귀계수\\n',result.params)\n",
    "print('r-value\\n',result.rsquared)\n",
    "print('p-value\\n',result.pvalues)\n",
    "print('모형요약\\n',result.summary())"
   ]
  },
  {
   "cell_type": "code",
   "execution_count": 36,
   "metadata": {},
   "outputs": [],
   "source": [
    "#Landsize 제거\n",
    "X=df2.loc[:,(['Rooms','Distance','Bathroom', 'Car',\n",
    "      'BuildingArea'])]\n",
    "y=df2['Price']"
   ]
  },
  {
   "cell_type": "code",
   "execution_count": 37,
   "metadata": {},
   "outputs": [
    {
     "name": "stdout",
     "output_type": "stream",
     "text": [
      "회귀계수\n",
      " Rooms           339337.634018\n",
      "Distance        -38185.738331\n",
      "Bathroom        217876.345075\n",
      "Car              53335.210644\n",
      "BuildingArea        90.088140\n",
      "dtype: float64\n",
      "r-value\n",
      " 0.836668881134639\n",
      "p-value\n",
      " Rooms            0.000000e+00\n",
      "Distance        1.424703e-198\n",
      "Bathroom         3.699844e-83\n",
      "Car              6.964921e-12\n",
      "BuildingArea     3.568797e-04\n",
      "dtype: float64\n",
      "모형요약\n",
      "                                  OLS Regression Results                                \n",
      "=======================================================================================\n",
      "Dep. Variable:                  Price   R-squared (uncentered):                   0.837\n",
      "Model:                            OLS   Adj. R-squared (uncentered):              0.837\n",
      "Method:                 Least Squares   F-statistic:                              6193.\n",
      "Date:                Mon, 17 Feb 2020   Prob (F-statistic):                        0.00\n",
      "Time:                        15:58:41   Log-Likelihood:                         -88115.\n",
      "No. Observations:                6050   AIC:                                  1.762e+05\n",
      "Df Residuals:                    6045   BIC:                                  1.763e+05\n",
      "Df Model:                           5                                                  \n",
      "Covariance Type:            nonrobust                                                  \n",
      "================================================================================\n",
      "                   coef    std err          t      P>|t|      [0.025      0.975]\n",
      "--------------------------------------------------------------------------------\n",
      "Rooms         3.393e+05   7437.727     45.624      0.000    3.25e+05    3.54e+05\n",
      "Distance     -3.819e+04   1222.915    -31.225      0.000   -4.06e+04   -3.58e+04\n",
      "Bathroom      2.179e+05   1.11e+04     19.622      0.000    1.96e+05     2.4e+05\n",
      "Car           5.334e+04   7761.211      6.872      0.000    3.81e+04    6.85e+04\n",
      "BuildingArea    90.0881     25.220      3.572      0.000      40.648     139.528\n",
      "==============================================================================\n",
      "Omnibus:                     3811.805   Durbin-Watson:                   1.488\n",
      "Prob(Omnibus):                  0.000   Jarque-Bera (JB):           133491.014\n",
      "Skew:                           2.473   Prob(JB):                         0.00\n",
      "Kurtosis:                      25.474   Cond. No.                         599.\n",
      "==============================================================================\n",
      "\n",
      "Warnings:\n",
      "[1] Standard Errors assume that the covariance matrix of the errors is correctly specified.\n"
     ]
    }
   ],
   "source": [
    "import statsmodels.api as sm\n",
    "model=sm.OLS(y,X) #OLS (종속변수,독립변수)\n",
    "result=model.fit() #다중회귀분석모형 학습\n",
    "print('회귀계수\\n',result.params)\n",
    "print('r-value\\n',result.rsquared)\n",
    "print('p-value\\n',result.pvalues)\n",
    "print('모형요약\\n',result.summary())"
   ]
  },
  {
   "cell_type": "code",
   "execution_count": 38,
   "metadata": {},
   "outputs": [],
   "source": [
    "from sklearn.model_selection import train_test_split\n",
    "from sklearn.linear_model import LinearRegression\n",
    "#학습용:검증용 8:2로 구분\n",
    "X_train,X_test,y_train,y_test = train_test_split(X,y,test_size=0.2,\n",
    "                                                random_state=10)\n",
    "#다중회귀분석 모형을 만들고 기계학습 실행\n",
    "model=LinearRegression().fit(X_train,y_train)"
   ]
  },
  {
   "cell_type": "code",
   "execution_count": 39,
   "metadata": {},
   "outputs": [
    {
     "name": "stdout",
     "output_type": "stream",
     "text": [
      "0.4252608352696168\n",
      "0.40399061826709204\n"
     ]
    }
   ],
   "source": [
    "print(model.score(X_train,y_train)) #학습용 예측정확도\n",
    "print(model.score(X_test,y_test)) #검증용 예측정확도"
   ]
  },
  {
   "cell_type": "code",
   "execution_count": null,
   "metadata": {},
   "outputs": [],
   "source": []
  }
 ],
 "metadata": {
  "kernelspec": {
   "display_name": "Python 3",
   "language": "python",
   "name": "python3"
  },
  "language_info": {
   "codemirror_mode": {
    "name": "ipython",
    "version": 3
   },
   "file_extension": ".py",
   "mimetype": "text/x-python",
   "name": "python",
   "nbconvert_exporter": "python",
   "pygments_lexer": "ipython3",
   "version": "3.7.4"
  }
 },
 "nbformat": 4,
 "nbformat_minor": 2
}
