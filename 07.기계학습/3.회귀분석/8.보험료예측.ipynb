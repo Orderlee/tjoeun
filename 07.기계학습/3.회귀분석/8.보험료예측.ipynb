{
 "cells": [
  {
   "cell_type": "code",
   "execution_count": 1,
   "metadata": {},
   "outputs": [
    {
     "data": {
      "text/html": [
       "<div>\n",
       "<style scoped>\n",
       "    .dataframe tbody tr th:only-of-type {\n",
       "        vertical-align: middle;\n",
       "    }\n",
       "\n",
       "    .dataframe tbody tr th {\n",
       "        vertical-align: top;\n",
       "    }\n",
       "\n",
       "    .dataframe thead th {\n",
       "        text-align: right;\n",
       "    }\n",
       "</style>\n",
       "<table border=\"1\" class=\"dataframe\">\n",
       "  <thead>\n",
       "    <tr style=\"text-align: right;\">\n",
       "      <th></th>\n",
       "      <th>age</th>\n",
       "      <th>sex</th>\n",
       "      <th>bmi</th>\n",
       "      <th>children</th>\n",
       "      <th>smoker</th>\n",
       "      <th>region</th>\n",
       "      <th>charges</th>\n",
       "    </tr>\n",
       "  </thead>\n",
       "  <tbody>\n",
       "    <tr>\n",
       "      <td>0</td>\n",
       "      <td>19</td>\n",
       "      <td>female</td>\n",
       "      <td>27.900</td>\n",
       "      <td>0</td>\n",
       "      <td>yes</td>\n",
       "      <td>southwest</td>\n",
       "      <td>16884.92400</td>\n",
       "    </tr>\n",
       "    <tr>\n",
       "      <td>1</td>\n",
       "      <td>18</td>\n",
       "      <td>male</td>\n",
       "      <td>33.770</td>\n",
       "      <td>1</td>\n",
       "      <td>no</td>\n",
       "      <td>southeast</td>\n",
       "      <td>1725.55230</td>\n",
       "    </tr>\n",
       "    <tr>\n",
       "      <td>2</td>\n",
       "      <td>28</td>\n",
       "      <td>male</td>\n",
       "      <td>33.000</td>\n",
       "      <td>3</td>\n",
       "      <td>no</td>\n",
       "      <td>southeast</td>\n",
       "      <td>4449.46200</td>\n",
       "    </tr>\n",
       "    <tr>\n",
       "      <td>3</td>\n",
       "      <td>33</td>\n",
       "      <td>male</td>\n",
       "      <td>22.705</td>\n",
       "      <td>0</td>\n",
       "      <td>no</td>\n",
       "      <td>northwest</td>\n",
       "      <td>21984.47061</td>\n",
       "    </tr>\n",
       "    <tr>\n",
       "      <td>4</td>\n",
       "      <td>32</td>\n",
       "      <td>male</td>\n",
       "      <td>28.880</td>\n",
       "      <td>0</td>\n",
       "      <td>no</td>\n",
       "      <td>northwest</td>\n",
       "      <td>3866.85520</td>\n",
       "    </tr>\n",
       "  </tbody>\n",
       "</table>\n",
       "</div>"
      ],
      "text/plain": [
       "   age     sex     bmi  children smoker     region      charges\n",
       "0   19  female  27.900         0    yes  southwest  16884.92400\n",
       "1   18    male  33.770         1     no  southeast   1725.55230\n",
       "2   28    male  33.000         3     no  southeast   4449.46200\n",
       "3   33    male  22.705         0     no  northwest  21984.47061\n",
       "4   32    male  28.880         0     no  northwest   3866.85520"
      ]
     },
     "execution_count": 1,
     "metadata": {},
     "output_type": "execute_result"
    }
   ],
   "source": [
    "import pandas as pd\n",
    "data=pd.read_csv('d:/data/insurance/insurance.csv')\n",
    "data.head()"
   ]
  },
  {
   "cell_type": "code",
   "execution_count": 4,
   "metadata": {},
   "outputs": [
    {
     "data": {
      "text/html": [
       "<div>\n",
       "<style scoped>\n",
       "    .dataframe tbody tr th:only-of-type {\n",
       "        vertical-align: middle;\n",
       "    }\n",
       "\n",
       "    .dataframe tbody tr th {\n",
       "        vertical-align: top;\n",
       "    }\n",
       "\n",
       "    .dataframe thead th {\n",
       "        text-align: right;\n",
       "    }\n",
       "</style>\n",
       "<table border=\"1\" class=\"dataframe\">\n",
       "  <thead>\n",
       "    <tr style=\"text-align: right;\">\n",
       "      <th></th>\n",
       "      <th>age</th>\n",
       "      <th>bmi</th>\n",
       "      <th>children</th>\n",
       "      <th>charges</th>\n",
       "    </tr>\n",
       "  </thead>\n",
       "  <tbody>\n",
       "    <tr>\n",
       "      <td>age</td>\n",
       "      <td>1.000000</td>\n",
       "      <td>0.109272</td>\n",
       "      <td>0.042469</td>\n",
       "      <td>0.299008</td>\n",
       "    </tr>\n",
       "    <tr>\n",
       "      <td>bmi</td>\n",
       "      <td>0.109272</td>\n",
       "      <td>1.000000</td>\n",
       "      <td>0.012759</td>\n",
       "      <td>0.198341</td>\n",
       "    </tr>\n",
       "    <tr>\n",
       "      <td>children</td>\n",
       "      <td>0.042469</td>\n",
       "      <td>0.012759</td>\n",
       "      <td>1.000000</td>\n",
       "      <td>0.067998</td>\n",
       "    </tr>\n",
       "    <tr>\n",
       "      <td>charges</td>\n",
       "      <td>0.299008</td>\n",
       "      <td>0.198341</td>\n",
       "      <td>0.067998</td>\n",
       "      <td>1.000000</td>\n",
       "    </tr>\n",
       "  </tbody>\n",
       "</table>\n",
       "</div>"
      ],
      "text/plain": [
       "               age       bmi  children   charges\n",
       "age       1.000000  0.109272  0.042469  0.299008\n",
       "bmi       0.109272  1.000000  0.012759  0.198341\n",
       "children  0.042469  0.012759  1.000000  0.067998\n",
       "charges   0.299008  0.198341  0.067998  1.000000"
      ]
     },
     "execution_count": 4,
     "metadata": {},
     "output_type": "execute_result"
    }
   ],
   "source": [
    "data.corr()"
   ]
  },
  {
   "cell_type": "code",
   "execution_count": 2,
   "metadata": {},
   "outputs": [
    {
     "data": {
      "text/plain": [
       "children    0.067998\n",
       "bmi         0.198341\n",
       "age         0.299008\n",
       "charges     1.000000\n",
       "Name: charges, dtype: float64"
      ]
     },
     "execution_count": 2,
     "metadata": {},
     "output_type": "execute_result"
    }
   ],
   "source": [
    "#상관계수행렬(보혐료 오름차순)\n",
    "data.corr()['charges'].sort_values()"
   ]
  },
  {
   "cell_type": "code",
   "execution_count": 6,
   "metadata": {},
   "outputs": [
    {
     "data": {
      "text/plain": [
       "LinregressResult(slope=257.7226186668955, intercept=3165.885006063025, rvalue=0.2990081933306477, pvalue=4.886693331718491e-29, stderr=22.5023892867703)"
      ]
     },
     "execution_count": 6,
     "metadata": {},
     "output_type": "execute_result"
    }
   ],
   "source": [
    "#단순회귀분석\n",
    "#귀무가설: 나이와 보험료는 관계가 없다.\n",
    "#대립가설: 나이와 보험료는 관계가 있다.\n",
    "from scipy import stats\n",
    "X=data['age'].values\n",
    "y=data['charges'].values\n",
    "result=stats.linregress(X,y)\n",
    "result #회귀분석모형\n",
    "#pvalue=4.886693331718491e-29 95%및 99% 신뢰수준 하에서 유의\n",
    "#귀무가설 기각, 대립가설 채택\n",
    "#결론: 나이와 보혐료는 관계가 있다\n",
    "#rvalue=0.2990081933306477 29.9% 설명력"
   ]
  },
  {
   "cell_type": "code",
   "execution_count": 5,
   "metadata": {},
   "outputs": [
    {
     "data": {
      "text/plain": [
       "Text(0, 0.5, 'charges')"
      ]
     },
     "execution_count": 5,
     "metadata": {},
     "output_type": "execute_result"
    },
    {
     "data": {
      "image/png": "[encoded data removed]",
      "text/plain": [
       "<Figure size 432x288 with 1 Axes>"
      ]
     },
     "metadata": {
      "needs_background": "light"
     },
     "output_type": "display_data"
    }
   ],
   "source": [
    "import matplotlib.pyplot as plt\n",
    "%matplotlib inline\n",
    "slope,intercept,rvalue,pvalue,stderr=stats.linregress(X,y)\n",
    "plt.scatter(X,y) #산점도\n",
    "plt.plot(X,slope*X+intercept,c='red') #회귀선\n",
    "plt.xlabel('age') #x축 라벨\n",
    "plt.ylabel('charges') #y 축 라벨"
   ]
  },
  {
   "cell_type": "code",
   "execution_count": 7,
   "metadata": {},
   "outputs": [
    {
     "data": {
      "text/plain": [
       "LinregressResult(slope=393.87303079739524, intercept=1192.9372089611497, rvalue=0.1983409688336289, pvalue=2.459085535116683e-13, stderr=53.25073835210321)"
      ]
     },
     "execution_count": 7,
     "metadata": {},
     "output_type": "execute_result"
    }
   ],
   "source": [
    "#bmi와 보험료의 관계\n",
    "#귀무가설: bmi와 보험료는 관계가 없다.\n",
    "#대립가설: bmi와 보험료는 관계가 있다.\n",
    "from scipy import stats\n",
    "X=data['bmi'].values\n",
    "y=data['charges'].values\n",
    "result=stats.linregress(X,y)\n",
    "result\n",
    "#pvalue=2.459085535116683e-13 95% 신뢰 수준하에서 유의\n",
    "#귀무가설 기각, 대립가설 채택\n",
    "#결론 : bmi와 보험료는 관계가 있다.ㅣ\n",
    "#모형의 설명력 rvalue=0.1983409688336289 19.8%"
   ]
  },
  {
   "cell_type": "code",
   "execution_count": 8,
   "metadata": {},
   "outputs": [
    {
     "data": {
      "text/plain": [
       "Text(0, 0.5, 'charges')"
      ]
     },
     "execution_count": 8,
     "metadata": {},
     "output_type": "execute_result"
    },
    {
     "data": {
      "image/png": "[encoded data removed]",
      "text/plain": [
       "<Figure size 432x288 with 1 Axes>"
      ]
     },
     "metadata": {
      "needs_background": "light"
     },
     "output_type": "display_data"
    }
   ],
   "source": [
    "import matplotlib.pyplot as plt\n",
    "%matplotlib inline\n",
    "slope,intercept,rvalue,pvalue,stderr=stats.linregress(X,y)\n",
    "plt.scatter(X,y) #산점도\n",
    "plt.plot(X,slope*X+intercept,c='red') #회귀선\n",
    "plt.xlabel('bmi') #x축 라벨\n",
    "plt.ylabel('charges') #y 축 라벨"
   ]
  },
  {
   "cell_type": "code",
   "execution_count": 9,
   "metadata": {},
   "outputs": [
    {
     "data": {
      "text/plain": [
       "LinregressResult(slope=683.0893824813649, intercept=12522.495549644096, rvalue=0.06799822684790487, pvalue=0.012852128520136412, stderr=274.2018326126803)"
      ]
     },
     "execution_count": 9,
     "metadata": {},
     "output_type": "execute_result"
    }
   ],
   "source": [
    "#자녀수와 보험료의 관계\n",
    "#귀무가설: 자녀수와 보험료는 관계가 없다.\n",
    "#대립가설: 자녀수와 보험료는 관계가 있다.\n",
    "from scipy import stats\n",
    "X=data['children'].values\n",
    "y=data['charges'].values\n",
    "result=stats.linregress(X,y)\n",
    "result #회귀분석모형\n",
    "#pvalue=0.012852128520136412 95% 신뢰수준 하에서 유의\n",
    "# 귀무가설 기각 대립가설 채택\n",
    "# 결론: 자녀수와 보험료는 관계가 있다.\n",
    "#모형의 설명력 6.7 % rvalue=0.06799822684790487"
   ]
  },
  {
   "cell_type": "code",
   "execution_count": 10,
   "metadata": {},
   "outputs": [
    {
     "data": {
      "text/plain": [
       "Text(0, 0.5, 'charges')"
      ]
     },
     "execution_count": 10,
     "metadata": {},
     "output_type": "execute_result"
    },
    {
     "data": {
      "image/png": "[encoded data removed]",
      "text/plain": [
       "<Figure size 432x288 with 1 Axes>"
      ]
     },
     "metadata": {
      "needs_background": "light"
     },
     "output_type": "display_data"
    }
   ],
   "source": [
    "import matplotlib.pyplot as plt\n",
    "%matplotlib inline\n",
    "slope,intercept,rvalue,pvalue,stderr=stats.linregress(X,y)\n",
    "plt.scatter(X,y) #산점도\n",
    "plt.plot(X,slope*X+intercept,c='red')\n",
    "plt.xlabel('children') #x축 라벨\n",
    "plt.ylabel('charges') #y 축 라벨"
   ]
  },
  {
   "cell_type": "code",
   "execution_count": 11,
   "metadata": {},
   "outputs": [],
   "source": [
    "#다중회귀분석\n",
    "df2=data.iloc[:,[0,2,3]] #iloc 숫자 인덱스 기반 슬라이싱\n",
    "y2=data.iloc[:,6]"
   ]
  },
  {
   "cell_type": "code",
   "execution_count": 12,
   "metadata": {},
   "outputs": [
    {
     "name": "stdout",
     "output_type": "stream",
     "text": [
      "회귀계수\n",
      " age         205.509604\n",
      "bmi         162.508428\n",
      "children    407.682683\n",
      "dtype: float64\n",
      "rvalue\n",
      " 0.5957184482734048\n",
      "pvalues\n",
      " age         1.202690e-22\n",
      "bmi         8.153462e-09\n",
      "children    1.133688e-01\n",
      "dtype: float64\n",
      "                                 OLS Regression Results                                \n",
      "=======================================================================================\n",
      "Dep. Variable:                charges   R-squared (uncentered):                   0.596\n",
      "Model:                            OLS   Adj. R-squared (uncentered):              0.595\n",
      "Method:                 Least Squares   F-statistic:                              655.7\n",
      "Date:                Tue, 18 Feb 2020   Prob (F-statistic):                   6.52e-262\n",
      "Time:                        10:03:50   Log-Likelihood:                         -14400.\n",
      "No. Observations:                1338   AIC:                                  2.881e+04\n",
      "Df Residuals:                    1335   BIC:                                  2.882e+04\n",
      "Df Model:                           3                                                  \n",
      "Covariance Type:            nonrobust                                                  \n",
      "==============================================================================\n",
      "                 coef    std err          t      P>|t|      [0.025      0.975]\n",
      "------------------------------------------------------------------------------\n",
      "age          205.5096     20.605      9.974      0.000     165.088     245.931\n",
      "bmi          162.5084     28.007      5.802      0.000     107.566     217.451\n",
      "children     407.6827    257.331      1.584      0.113     -97.135     912.501\n",
      "==============================================================================\n",
      "Omnibus:                      369.789   Durbin-Watson:                   2.018\n",
      "Prob(Omnibus):                  0.000   Jarque-Bera (JB):              750.403\n",
      "Skew:                           1.648   Prob(JB):                    1.13e-163\n",
      "Kurtosis:                       4.610   Cond. No.                         42.2\n",
      "==============================================================================\n",
      "\n",
      "Warnings:\n",
      "[1] Standard Errors assume that the covariance matrix of the errors is correctly specified.\n"
     ]
    }
   ],
   "source": [
    "import statsmodels.api as sm\n",
    "model = sm.OLS(y2,df2) #다중회귀분석 모형\n",
    "result=model.fit() #학습\n",
    "print('회귀계수\\n',result.params)\n",
    "print('rvalue\\n',result.rsquared)\n",
    "print('pvalues\\n',result.pvalues)\n",
    "print(result.summary())\n",
    "#모형의 설명력: 0.5957184482734048 59.5%"
   ]
  },
  {
   "cell_type": "code",
   "execution_count": 13,
   "metadata": {},
   "outputs": [
    {
     "name": "stdout",
     "output_type": "stream",
     "text": [
      "회귀계수\n",
      " age    208.863249\n",
      "bmi    172.394322\n",
      "dtype: float64\n",
      "rvalue\n",
      " 0.5949583640125079\n",
      "pvalues\n",
      " age    1.634082e-23\n",
      "bmi    3.773924e-10\n",
      "dtype: float64\n",
      "                                 OLS Regression Results                                \n",
      "=======================================================================================\n",
      "Dep. Variable:                charges   R-squared (uncentered):                   0.595\n",
      "Model:                            OLS   Adj. R-squared (uncentered):              0.594\n",
      "Method:                 Least Squares   F-statistic:                              981.2\n",
      "Date:                Tue, 18 Feb 2020   Prob (F-statistic):                   6.45e-263\n",
      "Time:                        10:04:50   Log-Likelihood:                         -14401.\n",
      "No. Observations:                1338   AIC:                                  2.881e+04\n",
      "Df Residuals:                    1336   BIC:                                  2.882e+04\n",
      "Df Model:                           2                                                  \n",
      "Covariance Type:            nonrobust                                                  \n",
      "==============================================================================\n",
      "                 coef    std err          t      P>|t|      [0.025      0.975]\n",
      "------------------------------------------------------------------------------\n",
      "age          208.8632     20.507     10.185      0.000     168.633     249.094\n",
      "bmi          172.3943     27.318      6.311      0.000     118.803     225.986\n",
      "==============================================================================\n",
      "Omnibus:                      364.702   Durbin-Watson:                   2.016\n",
      "Prob(Omnibus):                  0.000   Jarque-Bera (JB):              732.185\n",
      "Skew:                           1.634   Prob(JB):                    1.02e-159\n",
      "Kurtosis:                       4.567   Cond. No.                         5.51\n",
      "==============================================================================\n",
      "\n",
      "Warnings:\n",
      "[1] Standard Errors assume that the covariance matrix of the errors is correctly specified.\n"
     ]
    }
   ],
   "source": [
    "#유의하지 않은 children 변수를 제거한 모형\n",
    "df2=data.iloc[:,[0,2]]\n",
    "model=sm.OLS(y2,df2)\n",
    "result=model.fit()\n",
    "print('회귀계수\\n',result.params)\n",
    "print('rvalue\\n',result.rsquared)\n",
    "print('pvalues\\n',result.pvalues)\n",
    "print(result.summary())\n",
    "# 모형의 설명력 0.5949583640125079  59.4%"
   ]
  },
  {
   "cell_type": "code",
   "execution_count": null,
   "metadata": {},
   "outputs": [],
   "source": []
  },
  {
   "cell_type": "code",
   "execution_count": null,
   "metadata": {},
   "outputs": [],
   "source": []
  },
  {
   "cell_type": "code",
   "execution_count": null,
   "metadata": {},
   "outputs": [],
   "source": []
  },
  {
   "cell_type": "code",
   "execution_count": null,
   "metadata": {},
   "outputs": [],
   "source": []
  },
  {
   "cell_type": "code",
   "execution_count": null,
   "metadata": {},
   "outputs": [],
   "source": []
  },
  {
   "cell_type": "code",
   "execution_count": null,
   "metadata": {},
   "outputs": [],
   "source": []
  },
  {
   "cell_type": "code",
   "execution_count": null,
   "metadata": {},
   "outputs": [],
   "source": []
  },
  {
   "cell_type": "code",
   "execution_count": null,
   "metadata": {},
   "outputs": [],
   "source": []
  }
 ],
 "metadata": {
  "kernelspec": {
   "display_name": "Python 3",
   "language": "python",
   "name": "python3"
  },
  "language_info": {
   "codemirror_mode": {
    "name": "ipython",
    "version": 3
   },
   "file_extension": ".py",
   "mimetype": "text/x-python",
   "name": "python",
   "nbconvert_exporter": "python",
   "pygments_lexer": "ipython3",
   "version": "3.7.4"
  }
 },
 "nbformat": 4,
 "nbformat_minor": 2
}
