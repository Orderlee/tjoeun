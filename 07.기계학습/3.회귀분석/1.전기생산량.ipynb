{
 "cells": [
  {
   "cell_type": "code",
   "execution_count": 1,
   "metadata": {},
   "outputs": [
    {
     "data": {
      "text/plain": [
       "LinregressResult(slope=0.4956032360182905, intercept=0.9195814280689418, rvalue=0.8929235125385305, pvalue=9.238421943157891e-05, stderr=0.07901935226531728)"
      ]
     },
     "execution_count": 1,
     "metadata": {},
     "output_type": "execute_result"
    }
   ],
   "source": [
    "#귀무가설 :전기생산량과 전기사용량은 관계가 없다\n",
    "#대립가설: 전기 생산량과 전기사용량은 관계가 있다\n",
    "\n",
    "from scipy import stats\n",
    "\n",
    "#독립변수(전기생산량)\n",
    "x =[3.52,2.58,3.31,4.07,4.62,3.98,4.29,4.83,3.71,4.61,3.90,3.20]\n",
    "#종속변수(전기사용량)\n",
    "y=[2.48,2.27,2.47,2.77,2.98,3.05,3.18,3.46,3.03,3.25,2.67,2.53]\n",
    "\n",
    "#단순회귀분석\n",
    "result =stats.linregress(x,y)\n",
    "result\n",
    "\n",
    "#slope = 기울기 , intercpet= 절편, rvalue=상관계수(모형의 설명력)\n",
    "#p-value = 점근유의확률,(95% 신뢰수준 - 0.05미만, 99% 신뢰수준 0.01 미만)\n",
    "#stderr = 에러의 표준편차\n",
    "#귀무가설 기각, 대립가술 채택\n",
    "#결론 : 전기생산량과 전기사용량은 관계가 있다\n",
    "#모형의 설명력(rvalue) : 89%"
   ]
  },
  {
   "cell_type": "code",
   "execution_count": 7,
   "metadata": {},
   "outputs": [
    {
     "name": "stdout",
     "output_type": "stream",
     "text": [
      "Malgun Gothic\n"
     ]
    },
    {
     "data": {
      "text/plain": [
       "Text(0, 0.5, '전기사용량')"
      ]
     },
     "execution_count": 7,
     "metadata": {},
     "output_type": "execute_result"
    },
    {
     "data": {
      "image/png": "[encoded data removed]",
      "text/plain": [
       "<Figure size 432x288 with 1 Axes>"
      ]
     },
     "metadata": {
      "needs_background": "light"
     },
     "output_type": "display_data"
    }
   ],
   "source": [
    "import numpy as np\n",
    "%matplotlib inline\n",
    "import matplotlib.pyplot as plt\n",
    "#그래프에 한글을 사용할 수 있도록 설정\n",
    "from matplotlib import font_manager,rc\n",
    "font_name=font_manager.FontProperties(\n",
    "fname='c:/windows/fonts/malgun.ttf').get_name()\n",
    "print(font_name)\n",
    "rc('font',family=font_name)\n",
    "\n",
    "#기울기,절편,상관계수,점근유의확률,에러의표준편차\n",
    "slope,intercept,r_value,p_value,stderr=stats.linregress(x,y)\n",
    "x1=np.array(x) #리스트를 넘파이 배열로 변환\n",
    "plt.scatter(x,y) #산점도\n",
    "plt.plot(x1,slope*x1+intercept,c='red') #회귀선\n",
    "plt.xlabel('전기생산량')\n",
    "plt.ylabel('전기사용량')"
   ]
  },
  {
   "cell_type": "code",
   "execution_count": 8,
   "metadata": {},
   "outputs": [
    {
     "data": {
      "text/plain": [
       "2.901994372142104"
      ]
     },
     "execution_count": 8,
     "metadata": {},
     "output_type": "execute_result"
    }
   ],
   "source": [
    "4*slope+intercept #전기생산량이 4일 때의 전기사용량"
   ]
  },
  {
   "cell_type": "code",
   "execution_count": null,
   "metadata": {},
   "outputs": [],
   "source": []
  },
  {
   "cell_type": "code",
   "execution_count": null,
   "metadata": {},
   "outputs": [],
   "source": []
  }
 ],
 "metadata": {
  "kernelspec": {
   "display_name": "Python 3",
   "language": "python",
   "name": "python3"
  },
  "language_info": {
   "codemirror_mode": {
    "name": "ipython",
    "version": 3
   },
   "file_extension": ".py",
   "mimetype": "text/x-python",
   "name": "python",
   "nbconvert_exporter": "python",
   "pygments_lexer": "ipython3",
   "version": "3.7.4"
  }
 },
 "nbformat": 4,
 "nbformat_minor": 2
}
