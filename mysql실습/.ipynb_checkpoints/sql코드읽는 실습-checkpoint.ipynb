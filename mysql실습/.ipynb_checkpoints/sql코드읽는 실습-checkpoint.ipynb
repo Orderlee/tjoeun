{
 "cells": [
  {
   "cell_type": "code",
   "execution_count": 12,
   "metadata": {},
   "outputs": [
    {
     "name": "stdout",
     "output_type": "stream",
     "text": [
      "(('userid', 253, 4, 150, 150, 0, 0), ('passwd', 253, 4, 150, 150, 0, 0), ('name', 253, 9, 150, 150, 0, 0))\n",
      "(('kim', '1234', '김철수'), ('park', '1234', '박철호'))\n",
      "('kim', '1234', '김철수')\n",
      "kim 1234 김철수\n",
      "('park', '1234', '박철호')\n",
      "park 1234 박철호\n"
     ]
    }
   ],
   "source": [
    "#sql에서 읽어오는 코드\n",
    "# pip install mysqlclient\n",
    "import MySQLdb\n",
    "# charset='utf8' 한글처리\n",
    "conn=MySQLdb.connect(host='localhost',port=3306,db='mydb',\n",
    "                    user='web',passwd='1234',charset='utf8')\n",
    "cursor=conn.cursor() #커서(sql 실행,탐색을 위한 객체)\n",
    "cursor.execute('select userid,passwd,name from members')\n",
    "cols=cursor.description #테이블의 필듬여과 데이터 리턴\n",
    "print(cols)\n",
    "rows=cursor.fetchall() #전체 레코드 조회\n",
    "print(rows)\n",
    "for row in rows:\n",
    "    print(row)\n",
    "    print(row[0],row[1],row[2])\n",
    "    \n",
    "cursor.close()\n",
    "conn.close()"
   ]
  },
  {
   "cell_type": "code",
   "execution_count": null,
   "metadata": {},
   "outputs": [],
   "source": []
  }
 ],
 "metadata": {
  "kernelspec": {
   "display_name": "Python 3",
   "language": "python",
   "name": "python3"
  },
  "language_info": {
   "codemirror_mode": {
    "name": "ipython",
    "version": 3
   },
   "file_extension": ".py",
   "mimetype": "text/x-python",
   "name": "python",
   "nbconvert_exporter": "python",
   "pygments_lexer": "ipython3",
   "version": "3.7.4"
  }
 },
 "nbformat": 4,
 "nbformat_minor": 2
}
