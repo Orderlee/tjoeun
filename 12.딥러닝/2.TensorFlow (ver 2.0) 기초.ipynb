{
 "cells": [
  {
   "cell_type": "code",
   "execution_count": 3,
   "metadata": {},
   "outputs": [],
   "source": [
    "import tensorflow as tf #텐서플로 버전 2"
   ]
  },
  {
   "cell_type": "code",
   "execution_count": 6,
   "metadata": {},
   "outputs": [
    {
     "name": "stdout",
     "output_type": "stream",
     "text": [
      "tf.Tensor(b'Hello World', shape=(), dtype=string)\n",
      "b'Hello World'\n",
      "Hello World\n",
      "tf.Tensor(42, shape=(), dtype=int32)\n",
      "42\n"
     ]
    }
   ],
   "source": [
    "#텐서플로 2.1버전\n",
    "#session이 없음\n",
    "hello=tf.constant('Hello World')\n",
    "print(hello)\n",
    "print(hello.numpy()) #numpy() 텐서플로 상수에 저장된 값을 출력\n",
    "print(hello.numpy().decode('utf-8')) #인코딩 처리\n",
    "a=tf.constant(10)\n",
    "b=tf.constant(32)\n",
    "c=tf.add(a,b)\n",
    "c=a+b\n",
    "print(c)\n",
    "print(c.numpy())"
   ]
  },
  {
   "cell_type": "code",
   "execution_count": 8,
   "metadata": {},
   "outputs": [
    {
     "name": "stdout",
     "output_type": "stream",
     "text": [
      "tf.Tensor(7.0, shape=(), dtype=float32)\n",
      "7.0\n"
     ]
    }
   ],
   "source": [
    "node1 = tf.constant(3.0)#텐서플로 상수\n",
    "node2 = tf.constant(4.0)\n",
    "node3 = tf.add(node1,node2) #덧셈\n",
    "print(node3) #세션이 없어도 값을 사용할 수 있음\n",
    "print(node3.numpy())"
   ]
  },
  {
   "cell_type": "code",
   "execution_count": 9,
   "metadata": {},
   "outputs": [
    {
     "name": "stdout",
     "output_type": "stream",
     "text": [
      "15.0\n",
      "0.0\n",
      "[ 1.2  18.75 29.75]\n"
     ]
    }
   ],
   "source": [
    "#텐서플로2에서는 placeholder 가 없어지고 파이썬 함수로 대체됨\n",
    "#feed_dict은 함수의 매개변수로 처리\n",
    "def output(a,b):\n",
    "    return tf.multiply(a,b)\n",
    "\n",
    "print(output(3.0,5.0).numpy())\n",
    "print(output(0.0,6.0).numpy())\n",
    "print(output([0.2,2.5,3.5],[6.0,7.5,8.5]).numpy())"
   ]
  },
  {
   "cell_type": "code",
   "execution_count": 10,
   "metadata": {},
   "outputs": [
    {
     "data": {
      "text/plain": [
       "array([0.21000001, 0.36      , 0.51000005, 0.66      , 0.81000006,\n",
       "       0.96000004], dtype=float32)"
      ]
     },
     "execution_count": 10,
     "metadata": {},
     "output_type": "execute_result"
    }
   ],
   "source": [
    "#텐서플로2의 변수 사용 방법 , global_variables_initializer()\n",
    "#변수 초기화 함수가 없음\n",
    "#placeholder 대신 함수 사용\n",
    "W=tf.Variable([0.3],dtype=tf.float32)\n",
    "b=tf.Variable([-0.3],dtype=tf.float32)\n",
    "\n",
    "def linear_model(x):\n",
    "    return tf.multiply(W,tf.add(x,b))\n",
    "\n",
    "x=[1.0,1.5,2.0,2.5,3.0,3.5]\n",
    "linear_model(x).numpy()"
   ]
  },
  {
   "cell_type": "code",
   "execution_count": 14,
   "metadata": {},
   "outputs": [
    {
     "name": "stdout",
     "output_type": "stream",
     "text": [
      "[[5 8]\n",
      " [8 9]\n",
      " [3 7]]\n",
      "[[9]\n",
      " [8]]\n"
     ]
    },
    {
     "data": {
      "text/plain": [
       "array([[ 39,  56],\n",
       "       [ 86, 127]])"
      ]
     },
     "execution_count": 14,
     "metadata": {},
     "output_type": "execute_result"
    }
   ],
   "source": [
    "import numpy as np\n",
    "\n",
    "#입력값\n",
    "X=np.array([[1,2,3],[4,5,6]])\n",
    "\n",
    "#가중치(기울기) 3행 2열의 난수\n",
    "W=np.array([[np.random.randint(10) for col in range(2)] for row in range(3)])\n",
    "print(W) \n",
    "\n",
    "#절편(편향) #2행 1열의 난수\n",
    "b=np.array([[np.random.randint(10) for col in range(1)] for row in range(2)])\n",
    "print(b)\n",
    "\n",
    "def expr():\n",
    "    return tf.matmul(X,W) + b #행렬 X,W 곱셈 + b\n",
    " \n",
    "expr().numpy()"
   ]
  },
  {
   "cell_type": "code",
   "execution_count": null,
   "metadata": {},
   "outputs": [],
   "source": []
  }
 ],
 "metadata": {
  "kernelspec": {
   "display_name": "Python 3",
   "language": "python",
   "name": "python3"
  },
  "language_info": {
   "codemirror_mode": {
    "name": "ipython",
    "version": 3
   },
   "file_extension": ".py",
   "mimetype": "text/x-python",
   "name": "python",
   "nbconvert_exporter": "python",
   "pygments_lexer": "ipython3",
   "version": "3.7.4"
  }
 },
 "nbformat": 4,
 "nbformat_minor": 2
}
