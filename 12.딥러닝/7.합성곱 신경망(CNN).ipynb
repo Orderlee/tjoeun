{
 "cells": [
  {
   "cell_type": "markdown",
   "metadata": {},
   "source": [
    "실습예제"
   ]
  },
  {
   "cell_type": "code",
   "execution_count": 1,
   "metadata": {},
   "outputs": [],
   "source": [
    "#이미지 분류-mnist"
   ]
  },
  {
   "cell_type": "code",
   "execution_count": 2,
   "metadata": {
    "scrolled": true
   },
   "outputs": [
    {
     "name": "stderr",
     "output_type": "stream",
     "text": [
      "Using TensorFlow backend.\n"
     ]
    },
    {
     "name": "stdout",
     "output_type": "stream",
     "text": [
      "(60000, 28, 28)\n",
      "(10000, 28, 28)\n",
      "5\n"
     ]
    }
   ],
   "source": [
    "from keras.datasets import mnist\n",
    "from keras.utils import to_categorical\n",
    "#mnist 데이터셋을 학습용,검증용으로 구분\n",
    "(train_images, train_labels),(test_images,test_labels)=mnist.load_data()\n",
    "print(train_images.shape)\n",
    "print(test_images.shape)\n",
    "#print(train_images[0])\n",
    "#print(test_images[0])\n",
    "print(train_labels[0])\n",
    "# 데이터 차원변환 이미지 갯수x가로픽셀x세로픽셀x흑백1,컬러3\n",
    "train_images=train_images.reshape((60000,28,28,1))\n",
    "train_images=train_images.astype('float32')/255\n",
    "#print(train_images.shape)\n",
    "#print(train_images[0])\n",
    "test_images=test_images.reshape((10000,28,28,1))\n",
    "test_images=test_images.astype('float32')/255\n",
    "#print(test_images.shape)\n",
    "#print(test_images[0])\n",
    "#10개의 출력노드를 만들기 위하여 종속변수를 원핫인코딩 처리\n",
    "train_labels=to_categorical(train_labels)\n",
    "test_labels=to_categorical(test_labels)"
   ]
  },
  {
   "cell_type": "code",
   "execution_count": 3,
   "metadata": {},
   "outputs": [
    {
     "data": {
      "text/plain": [
       "array([0., 0., 0., 0., 0., 1., 0., 0., 0., 0.], dtype=float32)"
      ]
     },
     "execution_count": 3,
     "metadata": {},
     "output_type": "execute_result"
    }
   ],
   "source": [
    "train_labels[0]"
   ]
  },
  {
   "cell_type": "code",
   "execution_count": 4,
   "metadata": {},
   "outputs": [
    {
     "name": "stdout",
     "output_type": "stream",
     "text": [
      "Model: \"sequential_1\"\n",
      "_________________________________________________________________\n",
      "Layer (type)                 Output Shape              Param #   \n",
      "=================================================================\n",
      "conv2d_1 (Conv2D)            (None, 26, 26, 32)        320       \n",
      "_________________________________________________________________\n",
      "max_pooling2d_1 (MaxPooling2 (None, 13, 13, 32)        0         \n",
      "_________________________________________________________________\n",
      "conv2d_2 (Conv2D)            (None, 11, 11, 64)        18496     \n",
      "_________________________________________________________________\n",
      "max_pooling2d_2 (MaxPooling2 (None, 5, 5, 64)          0         \n",
      "_________________________________________________________________\n",
      "conv2d_3 (Conv2D)            (None, 3, 3, 64)          36928     \n",
      "_________________________________________________________________\n",
      "flatten_1 (Flatten)          (None, 576)               0         \n",
      "_________________________________________________________________\n",
      "dense_1 (Dense)              (None, 64)                36928     \n",
      "_________________________________________________________________\n",
      "dense_2 (Dense)              (None, 10)                650       \n",
      "=================================================================\n",
      "Total params: 93,322\n",
      "Trainable params: 93,322\n",
      "Non-trainable params: 0\n",
      "_________________________________________________________________\n"
     ]
    }
   ],
   "source": [
    "#keras 인공신경망 모형\n",
    "from keras import layers\n",
    "from keras import models\n",
    "model=models.Sequential()\n",
    "#Conv2D(출력노드갯수,필터사이즈,활성화함수,입력데이터의차원)\n",
    "model.add(layers.Conv2D(32,(3,3),activation='relu',\n",
    "                       input_shape=(28,28,1)))\n",
    "model.add(layers.MaxPooling2D(2,2)) #3x3->2x2로 요약\n",
    "model.add(layers.Conv2D(64,(3,3),activation='relu'))\n",
    "model.add(layers.MaxPooling2D(2,2))\n",
    "model.add(layers.Conv2D(64,(3,3),activation='relu'))\n",
    "model.add(layers.Flatten())\n",
    "model.add(layers.Dense(64,activation='relu'))\n",
    "model.add(layers.Dense(10,activation='softmax'))\n",
    "model.summary()"
   ]
  },
  {
   "cell_type": "code",
   "execution_count": 5,
   "metadata": {},
   "outputs": [
    {
     "name": "stdout",
     "output_type": "stream",
     "text": [
      "Model: \"sequential_2\"\n",
      "_________________________________________________________________\n",
      "Layer (type)                 Output Shape              Param #   \n",
      "=================================================================\n",
      "Conv2D-1 (Conv2D)            (None, 26, 26, 32)        320       \n",
      "_________________________________________________________________\n",
      "max_pooling2d_3 (MaxPooling2 (None, 13, 13, 32)        0         \n",
      "_________________________________________________________________\n",
      "Conv2D-2 (Conv2D)            (None, 11, 11, 64)        18496     \n",
      "_________________________________________________________________\n",
      "max_pooling2d_4 (MaxPooling2 (None, 5, 5, 64)          0         \n",
      "_________________________________________________________________\n",
      "Conv2D-3 (Conv2D)            (None, 3, 3, 64)          36928     \n",
      "_________________________________________________________________\n",
      "Flatten (Flatten)            (None, 576)               0         \n",
      "_________________________________________________________________\n",
      "Dense (Dense)                (None, 64)                36928     \n",
      "_________________________________________________________________\n",
      "Output (Dense)               (None, 10)                650       \n",
      "=================================================================\n",
      "Total params: 93,322\n",
      "Trainable params: 93,322\n",
      "Non-trainable params: 0\n",
      "_________________________________________________________________\n"
     ]
    }
   ],
   "source": [
    "from keras.layers import Conv2D,MaxPooling2D,Flatten,Dense\n",
    "from keras import models\n",
    "\n",
    "model=models.Sequential()\n",
    "#Conv2D(출력노드갯수,필터사이즈,활성화함수,입력데이터의차원)\n",
    "model.add(Conv2D(32,(3,3),activation='relu',input_shape=(28,28,1),name='Conv2D-1'))\n",
    "model.add(MaxPooling2D(2,2)) #3x3->2x2로 요약\n",
    "model.add(Conv2D(64,(3,3),activation='relu',name='Conv2D-2'))\n",
    "model.add(MaxPooling2D(2,2))\n",
    "model.add(Conv2D(64,(3,3),activation='relu',name='Conv2D-3'))\n",
    "\n",
    "model.add(Flatten(name='Flatten'))\n",
    "model.add(Dense(64,activation='relu',name='Dense'))\n",
    "model.add(Dense(10,activation='softmax',name='Output'))\n",
    "model.summary()"
   ]
  },
  {
   "cell_type": "code",
   "execution_count": 6,
   "metadata": {},
   "outputs": [],
   "source": [
    "#모형 컴파일\n",
    "model.compile(optimizer='rmsprop',loss='categorical_crossentropy',\n",
    "             metrics=['accuracy'])"
   ]
  },
  {
   "cell_type": "code",
   "execution_count": 7,
   "metadata": {},
   "outputs": [
    {
     "name": "stdout",
     "output_type": "stream",
     "text": [
      "Train on 48000 samples, validate on 12000 samples\n",
      "Epoch 1/5\n",
      "48000/48000 [==============================] - 23s 479us/step - loss: 0.1568 - accuracy: 0.9517 - val_loss: 0.0621 - val_accuracy: 0.9826\n",
      "Epoch 2/5\n",
      "48000/48000 [==============================] - 22s 468us/step - loss: 0.0467 - accuracy: 0.9858 - val_loss: 0.0535 - val_accuracy: 0.9839\n",
      "Epoch 3/5\n",
      "48000/48000 [==============================] - 23s 485us/step - loss: 0.0332 - accuracy: 0.9896 - val_loss: 0.0439 - val_accuracy: 0.9875\n",
      "Epoch 4/5\n",
      "48000/48000 [==============================] - 23s 480us/step - loss: 0.0254 - accuracy: 0.9927 - val_loss: 0.0464 - val_accuracy: 0.9874\n",
      "Epoch 5/5\n",
      "48000/48000 [==============================] - 23s 470us/step - loss: 0.0197 - accuracy: 0.9941 - val_loss: 0.0608 - val_accuracy: 0.9859\n"
     ]
    }
   ],
   "source": [
    "#학습과정\n",
    "hist=model.fit(train_images,train_labels,epochs=5,\n",
    "              validation_split=0.2)"
   ]
  },
  {
   "cell_type": "code",
   "execution_count": 8,
   "metadata": {},
   "outputs": [
    {
     "name": "stdout",
     "output_type": "stream",
     "text": [
      "10000/10000 [==============================] - 1s 118us/step\n",
      "0.04533291881744007 0.9882000088691711\n"
     ]
    }
   ],
   "source": [
    "#모형평가\n",
    "test_loss,test_acc=model.evaluate(test_images,test_labels)\n",
    "print(test_loss,test_acc)"
   ]
  },
  {
   "cell_type": "code",
   "execution_count": 9,
   "metadata": {},
   "outputs": [
    {
     "name": "stdout",
     "output_type": "stream",
     "text": [
      "7 ==> 7\n",
      "2 ==> 2\n",
      "1 ==> 1\n",
      "0 ==> 0\n",
      "4 ==> 4\n",
      "1 ==> 1\n",
      "4 ==> 4\n",
      "9 ==> 9\n",
      "5 ==> 5\n",
      "9 ==> 9\n"
     ]
    }
   ],
   "source": [
    "#예측\n",
    "import numpy as np\n",
    "#print(test_labels[0])#실제값\n",
    "for i in range(10):\n",
    "    print(np.argmax(test_labels[i]),'==>',end=' ')#실제값 \n",
    "    pred=model.predict_classes(test_images[i].reshape((1,28,28,1)))\n",
    "    print(pred[0])#예측값"
   ]
  },
  {
   "cell_type": "code",
   "execution_count": 10,
   "metadata": {},
   "outputs": [
    {
     "data": {
      "image/png": "[encoded data removed]",
      "text/plain": [
       "<Figure size 864x576 with 1 Axes>"
      ]
     },
     "metadata": {
      "needs_background": "light"
     },
     "output_type": "display_data"
    }
   ],
   "source": [
    "#손실률,정확도 그래프\n",
    "%matplotlib inline\n",
    "import matplotlib.pyplot as plt\n",
    "plt.figure(figsize=(12,8))\n",
    "plt.plot(hist.history['loss'])\n",
    "plt.plot(hist.history['accuracy'])\n",
    "plt.plot(hist.history['val_loss'])\n",
    "plt.plot(hist.history['val_accuracy'])\n",
    "plt.legend(['loss','accuracy','val_loss','val_accuracy'])\n",
    "plt.grid()\n",
    "plt.show()"
   ]
  },
  {
   "cell_type": "code",
   "execution_count": 11,
   "metadata": {},
   "outputs": [],
   "source": [
    "#모형저장\n",
    "model.save('d:/data/mnist/mnist_keras.model')\n",
    "model.save_weights('d:/data/mnist/mnist.weights')"
   ]
  },
  {
   "cell_type": "markdown",
   "metadata": {},
   "source": [
    "실습예제2"
   ]
  },
  {
   "cell_type": "code",
   "execution_count": 12,
   "metadata": {},
   "outputs": [],
   "source": [
    "#컬러이미지분류"
   ]
  },
  {
   "cell_type": "code",
   "execution_count": 13,
   "metadata": {},
   "outputs": [
    {
     "name": "stdout",
     "output_type": "stream",
     "text": [
      "[[6]\n",
      " [9]\n",
      " [9]\n",
      " ...\n",
      " [9]\n",
      " [1]\n",
      " [1]]\n",
      "[[0. 0. 0. ... 0. 0. 0.]\n",
      " [0. 0. 0. ... 0. 0. 1.]\n",
      " [0. 0. 0. ... 0. 0. 1.]\n",
      " ...\n",
      " [0. 0. 0. ... 0. 0. 1.]\n",
      " [0. 1. 0. ... 0. 0. 0.]\n",
      " [0. 1. 0. ... 0. 0. 0.]]\n",
      "(50000, 32, 32, 3)\n",
      "(10000, 32, 32, 3)\n"
     ]
    }
   ],
   "source": [
    "import keras\n",
    "from keras import datasets\n",
    "from keras.utils import to_categorical\n",
    "def make_data():\n",
    "    #cifar10 이미지를 다운로드하고 학습용,검증용으로 구분\n",
    "    (X_train, y_train),(X_test,y_test)=datasets.cifar10.load_data()\n",
    "    #출력노드가 10개이므로 원핫인코딩 처리\n",
    "    print(y_train)\n",
    "    y_train=keras.utils.to_categorical(y_train,10)\n",
    "    print(y_train)\n",
    "    y_test=keras.utils.to_categorical(y_test,10)\n",
    "    # 실수형으로 바꾸 고\n",
    "    X_train=X_train.astype('float32')\n",
    "    X_test=X_test.astype('float32')\n",
    "    #255로 나누어 정규화 처리\n",
    "    X_train/=255\n",
    "    X_test/=255\n",
    "    #데이터를 리턴\n",
    "    return (X_train,y_train),(X_test,y_test)   \n",
    "\n",
    "#함수 호출\n",
    "(X_train,y_train),(X_test,y_test)=make_data()\n",
    "print(X_train.shape)\n",
    "print(X_test.shape)"
   ]
  },
  {
   "cell_type": "code",
   "execution_count": 14,
   "metadata": {},
   "outputs": [],
   "source": [
    "from keras.models import Sequential\n",
    "from keras.layers import Flatten,Dropout\n",
    "from keras.layers import Conv2D,MaxPooling2D,Dense,Activation\n",
    "\n",
    "def make_model():\n",
    "    model=Sequential()\n",
    "    #padding ='same' 입력크기와 출력크기를 일치시키는 옵션\n",
    "    model.add(Conv2D(32,(3,3),padding='same',input_shape=X_train.shape[1:],activation='relu'))    \n",
    "    model.add(Conv2D(32,(3,3),activation='relu'))\n",
    "    model.add(MaxPooling2D(pool_size=(2,2))) #정보요약\n",
    "    model.add(Dropout(0.25)) #과적합 방지를 위하여 출력값을 누락시킴\n",
    "    model.add(Conv2D(64,(3,3),padding='same',activation='relu'))\n",
    "    model.add(Conv2D(64,(3,3),activation='relu'))\n",
    "    model.add(MaxPooling2D(pool_size=(2,2)))\n",
    "    model.add(Dropout(0.25))\n",
    "    model.add(Flatten()) #3차원 데이터를 1차원으로 변환\n",
    "    model.add(Dense(512))\n",
    "    model.add(Activation('relu'))\n",
    "    model.add(Dropout(0.5))\n",
    "    model.add(Dense(10)) \n",
    "    model.add(Activation('softmax')) #출력층\n",
    "    # lr 학습률, decay 학습속도를 감소시키는 옵션\n",
    "    opt=keras.optimizers.rmsprop(lr=0.0001, decay=1e-6)\n",
    "    model.compile(loss='categorical_crossentropy',\n",
    "                 optimizer=opt,metrics=['accuracy'])\n",
    "    return model"
   ]
  },
  {
   "cell_type": "code",
   "execution_count": 15,
   "metadata": {},
   "outputs": [
    {
     "name": "stdout",
     "output_type": "stream",
     "text": [
      "Model: \"sequential_3\"\n",
      "_________________________________________________________________\n",
      "Layer (type)                 Output Shape              Param #   \n",
      "=================================================================\n",
      "conv2d_4 (Conv2D)            (None, 32, 32, 32)        896       \n",
      "_________________________________________________________________\n",
      "conv2d_5 (Conv2D)            (None, 30, 30, 32)        9248      \n",
      "_________________________________________________________________\n",
      "max_pooling2d_5 (MaxPooling2 (None, 15, 15, 32)        0         \n",
      "_________________________________________________________________\n",
      "dropout_1 (Dropout)          (None, 15, 15, 32)        0         \n",
      "_________________________________________________________________\n",
      "conv2d_6 (Conv2D)            (None, 15, 15, 64)        18496     \n",
      "_________________________________________________________________\n",
      "conv2d_7 (Conv2D)            (None, 13, 13, 64)        36928     \n",
      "_________________________________________________________________\n",
      "max_pooling2d_6 (MaxPooling2 (None, 6, 6, 64)          0         \n",
      "_________________________________________________________________\n",
      "dropout_2 (Dropout)          (None, 6, 6, 64)          0         \n",
      "_________________________________________________________________\n",
      "flatten_2 (Flatten)          (None, 2304)              0         \n",
      "_________________________________________________________________\n",
      "dense_3 (Dense)              (None, 512)               1180160   \n",
      "_________________________________________________________________\n",
      "activation_1 (Activation)    (None, 512)               0         \n",
      "_________________________________________________________________\n",
      "dropout_3 (Dropout)          (None, 512)               0         \n",
      "_________________________________________________________________\n",
      "dense_4 (Dense)              (None, 10)                5130      \n",
      "_________________________________________________________________\n",
      "activation_2 (Activation)    (None, 10)                0         \n",
      "=================================================================\n",
      "Total params: 1,250,858\n",
      "Trainable params: 1,250,858\n",
      "Non-trainable params: 0\n",
      "_________________________________________________________________\n"
     ]
    }
   ],
   "source": [
    "model=make_model()\n",
    "model.summary()"
   ]
  },
  {
   "cell_type": "code",
   "execution_count": 16,
   "metadata": {},
   "outputs": [
    {
     "name": "stdout",
     "output_type": "stream",
     "text": [
      "Train on 800 samples, validate on 200 samples\n",
      "Epoch 1/10\n",
      "800/800 [==============================] - 2s 3ms/step - loss: 2.3009 - accuracy: 0.1013 - val_loss: 2.3014 - val_accuracy: 0.0950\n",
      "Epoch 2/10\n",
      "800/800 [==============================] - 2s 3ms/step - loss: 2.2857 - accuracy: 0.1325 - val_loss: 2.2960 - val_accuracy: 0.0950\n",
      "Epoch 3/10\n",
      "800/800 [==============================] - 2s 3ms/step - loss: 2.2790 - accuracy: 0.1412 - val_loss: 2.2880 - val_accuracy: 0.0900\n",
      "Epoch 4/10\n",
      "800/800 [==============================] - 2s 3ms/step - loss: 2.2537 - accuracy: 0.1562 - val_loss: 2.2608 - val_accuracy: 0.1250\n",
      "Epoch 5/10\n",
      "800/800 [==============================] - 2s 3ms/step - loss: 2.2056 - accuracy: 0.1887 - val_loss: 2.2037 - val_accuracy: 0.1900\n",
      "Epoch 6/10\n",
      "800/800 [==============================] - 2s 3ms/step - loss: 2.1310 - accuracy: 0.2212 - val_loss: 2.1495 - val_accuracy: 0.2050\n",
      "Epoch 7/10\n",
      "800/800 [==============================] - 2s 3ms/step - loss: 2.0605 - accuracy: 0.2488 - val_loss: 2.0932 - val_accuracy: 0.2000\n",
      "Epoch 8/10\n",
      "800/800 [==============================] - 2s 3ms/step - loss: 2.0298 - accuracy: 0.2262 - val_loss: 2.0648 - val_accuracy: 0.2150\n",
      "Epoch 9/10\n",
      "800/800 [==============================] - 2s 3ms/step - loss: 1.9893 - accuracy: 0.2562 - val_loss: 2.0967 - val_accuracy: 0.2000\n",
      "Epoch 10/10\n",
      "800/800 [==============================] - 2s 3ms/step - loss: 1.9825 - accuracy: 0.2512 - val_loss: 2.0183 - val_accuracy: 0.2300\n"
     ]
    }
   ],
   "source": [
    "#기계학습\n",
    "history=model.fit(X_train[:1000],y_train[:1000],epochs=10,batch_size=32,\n",
    "                 validation_split=0.2)"
   ]
  },
  {
   "cell_type": "code",
   "execution_count": 17,
   "metadata": {},
   "outputs": [
    {
     "name": "stdout",
     "output_type": "stream",
     "text": [
      "1000/1000 [==============================] - 0s 422us/step\n"
     ]
    },
    {
     "data": {
      "text/plain": [
       "[1.9974178791046142, 0.28999999165534973]"
      ]
     },
     "execution_count": 17,
     "metadata": {},
     "output_type": "execute_result"
    }
   ],
   "source": [
    "#모형평가\n",
    "performance_test=model.evaluate(X_test[:1000],y_test[:1000],batch_size=100)\n",
    "performance_test"
   ]
  },
  {
   "cell_type": "code",
   "execution_count": 18,
   "metadata": {},
   "outputs": [
    {
     "data": {
      "text/html": [
       "<div>\n",
       "<style scoped>\n",
       "    .dataframe tbody tr th:only-of-type {\n",
       "        vertical-align: middle;\n",
       "    }\n",
       "\n",
       "    .dataframe tbody tr th {\n",
       "        vertical-align: top;\n",
       "    }\n",
       "\n",
       "    .dataframe thead th {\n",
       "        text-align: right;\n",
       "    }\n",
       "</style>\n",
       "<table border=\"1\" class=\"dataframe\">\n",
       "  <thead>\n",
       "    <tr style=\"text-align: right;\">\n",
       "      <th></th>\n",
       "      <th>0</th>\n",
       "      <th>1</th>\n",
       "      <th>2</th>\n",
       "      <th>3</th>\n",
       "      <th>4</th>\n",
       "      <th>5</th>\n",
       "      <th>6</th>\n",
       "      <th>7</th>\n",
       "      <th>8</th>\n",
       "      <th>9</th>\n",
       "    </tr>\n",
       "  </thead>\n",
       "  <tbody>\n",
       "    <tr>\n",
       "      <td>0</td>\n",
       "      <td>405</td>\n",
       "      <td>41</td>\n",
       "      <td>23</td>\n",
       "      <td>17</td>\n",
       "      <td>9</td>\n",
       "      <td>3</td>\n",
       "      <td>74</td>\n",
       "      <td>35</td>\n",
       "      <td>265</td>\n",
       "      <td>128</td>\n",
       "    </tr>\n",
       "    <tr>\n",
       "      <td>1</td>\n",
       "      <td>74</td>\n",
       "      <td>253</td>\n",
       "      <td>9</td>\n",
       "      <td>29</td>\n",
       "      <td>15</td>\n",
       "      <td>8</td>\n",
       "      <td>217</td>\n",
       "      <td>33</td>\n",
       "      <td>184</td>\n",
       "      <td>178</td>\n",
       "    </tr>\n",
       "    <tr>\n",
       "      <td>2</td>\n",
       "      <td>139</td>\n",
       "      <td>35</td>\n",
       "      <td>54</td>\n",
       "      <td>28</td>\n",
       "      <td>88</td>\n",
       "      <td>11</td>\n",
       "      <td>470</td>\n",
       "      <td>63</td>\n",
       "      <td>37</td>\n",
       "      <td>75</td>\n",
       "    </tr>\n",
       "    <tr>\n",
       "      <td>3</td>\n",
       "      <td>59</td>\n",
       "      <td>22</td>\n",
       "      <td>39</td>\n",
       "      <td>50</td>\n",
       "      <td>62</td>\n",
       "      <td>17</td>\n",
       "      <td>536</td>\n",
       "      <td>119</td>\n",
       "      <td>13</td>\n",
       "      <td>83</td>\n",
       "    </tr>\n",
       "    <tr>\n",
       "      <td>4</td>\n",
       "      <td>50</td>\n",
       "      <td>8</td>\n",
       "      <td>35</td>\n",
       "      <td>23</td>\n",
       "      <td>89</td>\n",
       "      <td>8</td>\n",
       "      <td>614</td>\n",
       "      <td>68</td>\n",
       "      <td>40</td>\n",
       "      <td>65</td>\n",
       "    </tr>\n",
       "    <tr>\n",
       "      <td>5</td>\n",
       "      <td>67</td>\n",
       "      <td>28</td>\n",
       "      <td>47</td>\n",
       "      <td>90</td>\n",
       "      <td>57</td>\n",
       "      <td>27</td>\n",
       "      <td>515</td>\n",
       "      <td>96</td>\n",
       "      <td>18</td>\n",
       "      <td>55</td>\n",
       "    </tr>\n",
       "    <tr>\n",
       "      <td>6</td>\n",
       "      <td>10</td>\n",
       "      <td>6</td>\n",
       "      <td>21</td>\n",
       "      <td>13</td>\n",
       "      <td>28</td>\n",
       "      <td>1</td>\n",
       "      <td>805</td>\n",
       "      <td>71</td>\n",
       "      <td>4</td>\n",
       "      <td>41</td>\n",
       "    </tr>\n",
       "    <tr>\n",
       "      <td>7</td>\n",
       "      <td>30</td>\n",
       "      <td>49</td>\n",
       "      <td>25</td>\n",
       "      <td>15</td>\n",
       "      <td>67</td>\n",
       "      <td>10</td>\n",
       "      <td>339</td>\n",
       "      <td>243</td>\n",
       "      <td>28</td>\n",
       "      <td>194</td>\n",
       "    </tr>\n",
       "    <tr>\n",
       "      <td>8</td>\n",
       "      <td>183</td>\n",
       "      <td>52</td>\n",
       "      <td>9</td>\n",
       "      <td>30</td>\n",
       "      <td>7</td>\n",
       "      <td>3</td>\n",
       "      <td>76</td>\n",
       "      <td>16</td>\n",
       "      <td>440</td>\n",
       "      <td>184</td>\n",
       "    </tr>\n",
       "    <tr>\n",
       "      <td>9</td>\n",
       "      <td>49</td>\n",
       "      <td>81</td>\n",
       "      <td>11</td>\n",
       "      <td>13</td>\n",
       "      <td>14</td>\n",
       "      <td>4</td>\n",
       "      <td>160</td>\n",
       "      <td>62</td>\n",
       "      <td>167</td>\n",
       "      <td>439</td>\n",
       "    </tr>\n",
       "  </tbody>\n",
       "</table>\n",
       "</div>"
      ],
      "text/plain": [
       "     0    1   2   3   4   5    6    7    8    9\n",
       "0  405   41  23  17   9   3   74   35  265  128\n",
       "1   74  253   9  29  15   8  217   33  184  178\n",
       "2  139   35  54  28  88  11  470   63   37   75\n",
       "3   59   22  39  50  62  17  536  119   13   83\n",
       "4   50    8  35  23  89   8  614   68   40   65\n",
       "5   67   28  47  90  57  27  515   96   18   55\n",
       "6   10    6  21  13  28   1  805   71    4   41\n",
       "7   30   49  25  15  67  10  339  243   28  194\n",
       "8  183   52   9  30   7   3   76   16  440  184\n",
       "9   49   81  11  13  14   4  160   62  167  439"
      ]
     },
     "execution_count": 18,
     "metadata": {},
     "output_type": "execute_result"
    }
   ],
   "source": [
    "#오분류표 출력\n",
    "from sklearn.metrics import confusion_matrix\n",
    "import pandas as pd\n",
    "y_pred=model.predict(X_test)\n",
    "y_pred=np.argmax(y_pred,axis=1)\n",
    "cm=confusion_matrix(np.argmax(y_test,axis=1),y_pred)\n",
    "df_cm=pd.DataFrame(cm, range(10),range(10))\n",
    "df_cm\n"
   ]
  },
  {
   "cell_type": "code",
   "execution_count": 19,
   "metadata": {},
   "outputs": [
    {
     "name": "stdout",
     "output_type": "stream",
     "text": [
      "[6]\n",
      "6\n"
     ]
    }
   ],
   "source": [
    "#새로운 값 예측\n",
    "print(model.predict_classes(X_test[5].reshape((-1,32,32,3))))\n",
    "print(np.argmax(y_test[5]))"
   ]
  },
  {
   "cell_type": "code",
   "execution_count": 20,
   "metadata": {},
   "outputs": [
    {
     "name": "stdout",
     "output_type": "stream",
     "text": [
      "<class 'keras.callbacks.callbacks.History'>\n",
      "<class 'dict'>\n"
     ]
    }
   ],
   "source": [
    "print(type(history))\n",
    "print(type(history.history))"
   ]
  },
  {
   "cell_type": "code",
   "execution_count": 21,
   "metadata": {},
   "outputs": [
    {
     "name": "stdout",
     "output_type": "stream",
     "text": [
      "True\n",
      "False\n",
      "True\n",
      "False\n"
     ]
    }
   ],
   "source": [
    "a=isinstance(10,int)\n",
    "print(a)\n",
    "a=isinstance(10, str)\n",
    "print(a)\n",
    "print(not isinstance(history,dict))\n",
    "print(not isinstance(history.history,dict))"
   ]
  },
  {
   "cell_type": "code",
   "execution_count": 22,
   "metadata": {},
   "outputs": [],
   "source": [
    "def plot_loss(history,title=None):\n",
    "    if not isinstance(history, dict):\n",
    "        history=history.history\n",
    "    plt.plot(history['loss'])\n",
    "    plt.plot(history['val_loss'])\n",
    "    if title is not None:\n",
    "        plt.title(title)\n",
    "    plt.ylabel('loss')\n",
    "    plt.xlabel('epoch')\n",
    "    plt.legend(['Train','Validation'],loc=0)"
   ]
  },
  {
   "cell_type": "code",
   "execution_count": 23,
   "metadata": {},
   "outputs": [],
   "source": [
    "def plot_acc(history,title=None):\n",
    "    if not isinstance(history,dict):\n",
    "        history=history.history\n",
    "    plt.plot(history['accuracy'])\n",
    "    plt.plot(history['val_accuracy'])\n",
    "    if title is not None:\n",
    "        plt.title(title)\n",
    "    plt.ylabel('loss')\n",
    "    plt.xlabel('epoch')\n",
    "    plt.legend(['Train','Validation'],loc=0)\n",
    "    "
   ]
  },
  {
   "cell_type": "code",
   "execution_count": 24,
   "metadata": {},
   "outputs": [
    {
     "name": "stdout",
     "output_type": "stream",
     "text": [
      "<class 'keras.callbacks.callbacks.History'>\n",
      "['__class__', '__delattr__', '__dict__', '__dir__', '__doc__', '__eq__', '__format__', '__ge__', '__getattribute__', '__gt__', '__hash__', '__init__', '__init_subclass__', '__le__', '__lt__', '__module__', '__ne__', '__new__', '__reduce__', '__reduce_ex__', '__repr__', '__setattr__', '__sizeof__', '__str__', '__subclasshook__', '__weakref__', 'epoch', 'history', 'model', 'on_batch_begin', 'on_batch_end', 'on_epoch_begin', 'on_epoch_end', 'on_predict_batch_begin', 'on_predict_batch_end', 'on_predict_begin', 'on_predict_end', 'on_test_batch_begin', 'on_test_batch_end', 'on_test_begin', 'on_test_end', 'on_train_batch_begin', 'on_train_batch_end', 'on_train_begin', 'on_train_end', 'params', 'set_model', 'set_params', 'validation_data']\n"
     ]
    }
   ],
   "source": [
    "print(type(history))\n",
    "print(dir(history))"
   ]
  },
  {
   "cell_type": "code",
   "execution_count": 25,
   "metadata": {},
   "outputs": [
    {
     "data": {
      "image/png": "[encoded data removed]",
      "text/plain": [
       "<Figure size 432x288 with 1 Axes>"
      ]
     },
     "metadata": {
      "needs_background": "light"
     },
     "output_type": "display_data"
    }
   ],
   "source": [
    "%matplotlib inline\n",
    "import matplotlib.pyplot as plt\n",
    "plot_loss(history,'cifar10 loss')"
   ]
  },
  {
   "cell_type": "code",
   "execution_count": 26,
   "metadata": {},
   "outputs": [
    {
     "data": {
      "image/png": "[encoded data removed]",
      "text/plain": [
       "<Figure size 432x288 with 1 Axes>"
      ]
     },
     "metadata": {
      "needs_background": "light"
     },
     "output_type": "display_data"
    }
   ],
   "source": [
    "plot_acc(history)"
   ]
  },
  {
   "cell_type": "code",
   "execution_count": 27,
   "metadata": {},
   "outputs": [],
   "source": [
    "#모형저장\n",
    "model.save('d:/data/cifar/cifar_keras.model')\n",
    "model.save_weights('d:/data/cifar/cifar.weight')"
   ]
  },
  {
   "cell_type": "code",
   "execution_count": 28,
   "metadata": {},
   "outputs": [
    {
     "name": "stdout",
     "output_type": "stream",
     "text": [
      "[array([[[[ 0.00018913,  0.12399267, -0.1254973 ,  0.11099639,\n",
      "          -0.10524213, -0.03706511, -0.04282901,  0.05361557,\n",
      "           0.0180806 , -0.03460817, -0.14140543,  0.10894392,\n",
      "           0.02782324,  0.08100781,  0.01367953, -0.11833841,\n",
      "          -0.13505071, -0.10263076,  0.13032414, -0.0899317 ,\n",
      "           0.08136472,  0.09885515,  0.09455767, -0.02959446,\n",
      "           0.06853211,  0.00954522, -0.04979975, -0.0444332 ,\n",
      "          -0.1300632 , -0.03135199,  0.02450309,  0.11080651],\n",
      "         [-0.09354193, -0.08392521,  0.09156384, -0.00536111,\n",
      "          -0.08199049,  0.09503839, -0.03106205,  0.08906219,\n",
      "           0.01888754, -0.00255001,  0.0206253 ,  0.10570328,\n",
      "           0.12057082,  0.02967094, -0.08502723, -0.02657204,\n",
      "          -0.0210304 ,  0.10747059, -0.06158653, -0.04708277,\n",
      "           0.02666911, -0.12775506,  0.06256807,  0.06655806,\n",
      "          -0.11623465,  0.10122208, -0.03393759,  0.04168095,\n",
      "           0.03342802, -0.05326584,  0.10780626, -0.0026734 ],\n",
      "         [ 0.04828786,  0.05174465, -0.10319872, -0.09069166,\n",
      "          -0.07990341, -0.1354576 , -0.06311812, -0.00114256,\n",
      "           0.08409852, -0.05355834,  0.0591171 ,  0.04057259,\n",
      "           0.09441262, -0.05377202,  0.09847149,  0.12956803,\n",
      "          -0.02586909, -0.09726448,  0.08716997, -0.03020477,\n",
      "           0.06518276, -0.05191111, -0.11344532, -0.00232592,\n",
      "          -0.03437333, -0.08641134, -0.07855748, -0.03465983,\n",
      "          -0.05730334, -0.02275879,  0.02875083, -0.05896729]],\n",
      "\n",
      "        [[ 0.02339759,  0.05911677,  0.12898615,  0.04632175,\n",
      "          -0.10291196, -0.01668794, -0.12423208,  0.00763017,\n",
      "           0.06385012, -0.00391335,  0.10996666,  0.13143186,\n",
      "          -0.10335553,  0.11556989, -0.07339431,  0.12989402,\n",
      "           0.12964815, -0.05782   , -0.05577914, -0.09975962,\n",
      "          -0.02322076,  0.02679459,  0.08721311, -0.11671419,\n",
      "          -0.08821214, -0.05815686, -0.02157347, -0.02066551,\n",
      "          -0.10901667,  0.11537524,  0.04578304, -0.10502921],\n",
      "         [ 0.07426586,  0.13726923,  0.00891073, -0.06684366,\n",
      "          -0.07503249, -0.01562156,  0.07096098,  0.09038284,\n",
      "          -0.03188676, -0.01783274, -0.07615807,  0.00814053,\n",
      "           0.01678557,  0.086399  ,  0.00445468,  0.05544237,\n",
      "           0.06420365, -0.12799525, -0.12986487, -0.08010947,\n",
      "           0.08194296,  0.12718606,  0.11207037,  0.00112475,\n",
      "           0.12880011, -0.0815023 , -0.04920207,  0.02910377,\n",
      "          -0.05903297, -0.07910948,  0.12581107, -0.00633552],\n",
      "         [ 0.11605311, -0.05025516,  0.13157366,  0.11548887,\n",
      "          -0.13100325,  0.02340952, -0.08539663, -0.02041606,\n",
      "          -0.08766312,  0.10265093, -0.05676645, -0.05403877,\n",
      "           0.08708904, -0.12721004,  0.14071086, -0.13920401,\n",
      "          -0.13712639,  0.01231522,  0.08997029,  0.1006446 ,\n",
      "           0.07229716, -0.00988528, -0.11713365,  0.05021143,\n",
      "           0.05958783, -0.01440751,  0.0899135 ,  0.0316024 ,\n",
      "           0.10109353,  0.03995765,  0.11888395,  0.10507992]],\n",
      "\n",
      "        [[ 0.0207587 , -0.11163506,  0.09892475,  0.1249145 ,\n",
      "          -0.02630325,  0.0583188 ,  0.12341619,  0.12185305,\n",
      "           0.02362972,  0.10506106,  0.1213944 , -0.11389401,\n",
      "           0.13548537, -0.06252404,  0.05734209, -0.00435547,\n",
      "           0.11590725,  0.10558517, -0.09611147,  0.04108726,\n",
      "          -0.05799574, -0.11522802,  0.09148451,  0.04661746,\n",
      "          -0.02053797,  0.06564038,  0.03563086, -0.11194781,\n",
      "          -0.0313112 , -0.03254946,  0.03566627,  0.05883908],\n",
      "         [-0.01725656, -0.04749382,  0.11642348,  0.12645644,\n",
      "           0.13898572, -0.05583958, -0.10551107, -0.01187539,\n",
      "          -0.01434817,  0.04400745, -0.00388874,  0.07777646,\n",
      "           0.10924933,  0.09151508, -0.08050386, -0.12107864,\n",
      "          -0.110145  , -0.00921484, -0.05700628, -0.06242325,\n",
      "          -0.06125195,  0.09010332, -0.08277149,  0.08301583,\n",
      "           0.00622497, -0.11074615, -0.12137464, -0.05999568,\n",
      "           0.06757551,  0.03130513, -0.02095263, -0.0607732 ],\n",
      "         [-0.11349569,  0.08443757,  0.13838941,  0.01611375,\n",
      "          -0.13196376, -0.0985714 ,  0.10391023, -0.03050764,\n",
      "           0.12178829, -0.08978391, -0.02744268, -0.14179184,\n",
      "          -0.10817034, -0.06728043,  0.13917631,  0.06062471,\n",
      "           0.05393209, -0.09536109,  0.02870939, -0.13583925,\n",
      "          -0.11469364, -0.02362582,  0.01022646, -0.1262898 ,\n",
      "           0.00472704, -0.07194798,  0.12616019,  0.13469283,\n",
      "          -0.0316469 , -0.11100718,  0.09607948, -0.0153477 ]]],\n",
      "\n",
      "\n",
      "       [[[-0.01627241, -0.04231532,  0.11271134, -0.12105595,\n",
      "           0.13705708,  0.0368322 ,  0.05326131, -0.1020814 ,\n",
      "          -0.10000112, -0.0228717 ,  0.04460076,  0.12692869,\n",
      "           0.0367661 ,  0.01024363, -0.0118451 ,  0.12285994,\n",
      "           0.10920015, -0.08764017,  0.1321584 , -0.05302339,\n",
      "          -0.10795154,  0.00409756,  0.10942437,  0.06183757,\n",
      "          -0.08549291, -0.03670459,  0.04964107,  0.00558417,\n",
      "          -0.01539888, -0.08328494, -0.12405402, -0.09812085],\n",
      "         [-0.06209781, -0.10905881, -0.09812242, -0.03054448,\n",
      "           0.13088448, -0.05483875,  0.08575989,  0.1296627 ,\n",
      "           0.06821458, -0.08963416,  0.02699678, -0.05921333,\n",
      "           0.04007467,  0.13150504, -0.02878427,  0.09326932,\n",
      "           0.10576632, -0.01926643,  0.08948597, -0.13650563,\n",
      "           0.05227139, -0.01364712,  0.06358082, -0.11312463,\n",
      "           0.04139453, -0.12708697,  0.04709382, -0.08758371,\n",
      "          -0.06453629, -0.1350944 ,  0.13997896,  0.121187  ],\n",
      "         [ 0.02125943,  0.03096328, -0.09167293, -0.00666293,\n",
      "           0.08559297,  0.00718368,  0.03545814, -0.03727434,\n",
      "          -0.02066342,  0.02254709, -0.12252282, -0.07660526,\n",
      "           0.06609521,  0.0945829 ,  0.06440159, -0.0517934 ,\n",
      "          -0.05611975,  0.04929014,  0.05767855, -0.01921798,\n",
      "           0.07353216, -0.02884603,  0.06629003, -0.1088251 ,\n",
      "           0.08249302,  0.00230005,  0.11202911,  0.04380328,\n",
      "          -0.0417455 ,  0.04241083,  0.10558242, -0.08200432]],\n",
      "\n",
      "        [[-0.04256529, -0.09217147,  0.05271078,  0.07776997,\n",
      "          -0.05864675,  0.02418881, -0.06675126,  0.00622779,\n",
      "           0.12828009,  0.11852925,  0.07533206, -0.07965137,\n",
      "          -0.10005431,  0.06749798,  0.12090006,  0.07274187,\n",
      "           0.06930454,  0.05854709, -0.04087247, -0.1368381 ,\n",
      "           0.04296521, -0.06661233, -0.03958186, -0.13188955,\n",
      "          -0.03368019,  0.02683261, -0.01545489,  0.12500985,\n",
      "           0.1378507 ,  0.08388501, -0.11229678,  0.12707028],\n",
      "         [ 0.06430744, -0.05090278, -0.05084008,  0.04927935,\n",
      "           0.08463299, -0.07210546,  0.06551476,  0.12972127,\n",
      "          -0.05600074,  0.11352107, -0.13572042, -0.10036919,\n",
      "          -0.03610618,  0.05436231,  0.03197538, -0.0415113 ,\n",
      "           0.00650137,  0.00351783,  0.02400475,  0.01128825,\n",
      "          -0.05005583,  0.11156256, -0.12215886, -0.12803148,\n",
      "           0.10063928, -0.06291243, -0.10531273, -0.09579191,\n",
      "          -0.07524239, -0.06097463, -0.08458389, -0.01712715],\n",
      "         [ 0.08294693,  0.08263711, -0.04255399, -0.01453648,\n",
      "           0.12523818,  0.03564083,  0.08685933,  0.13443457,\n",
      "           0.11463484, -0.02653522,  0.027653  ,  0.0076623 ,\n",
      "           0.00388106, -0.01707656,  0.11317357,  0.00483637,\n",
      "          -0.05783651,  0.11150663,  0.09963413,  0.10724191,\n",
      "           0.01932555,  0.11697781, -0.11310205,  0.02285609,\n",
      "          -0.00726666,  0.1250979 , -0.03832471,  0.00618037,\n",
      "          -0.12702847,  0.11376297,  0.00957171,  0.02829844]],\n",
      "\n",
      "        [[ 0.11158256, -0.01470965, -0.13527988, -0.1199102 ,\n",
      "           0.11224993,  0.10647122,  0.08211212, -0.06221589,\n",
      "          -0.01585283,  0.09360691, -0.02017636, -0.01178221,\n",
      "          -0.01035864, -0.07763635, -0.09735599,  0.08294884,\n",
      "           0.09261331, -0.05000195, -0.04628481, -0.06168111,\n",
      "           0.00657663,  0.08659253, -0.06904376,  0.06154907,\n",
      "          -0.01906514, -0.11690903,  0.13797021, -0.1080957 ,\n",
      "           0.12138169,  0.10440797,  0.03279885,  0.0817689 ],\n",
      "         [-0.10907066, -0.13351656,  0.06902742, -0.04076214,\n",
      "          -0.03622719, -0.0470022 ,  0.02085432,  0.02454486,\n",
      "           0.09715719, -0.12536283,  0.08871098,  0.01768508,\n",
      "          -0.03926995,  0.01924502,  0.05586571, -0.13573405,\n",
      "          -0.00349008,  0.07276243, -0.07762588, -0.12188139,\n",
      "           0.00452503,  0.09453204, -0.12335584, -0.11970771,\n",
      "           0.09499303, -0.13705754, -0.09932557, -0.08877966,\n",
      "           0.10122158,  0.0474355 ,  0.05137502, -0.09942131],\n",
      "         [ 0.10736023, -0.11817721,  0.07776758, -0.0931197 ,\n",
      "           0.08201439,  0.10045469,  0.12807882, -0.00862958,\n",
      "          -0.06560646,  0.02148584, -0.06181109,  0.01661525,\n",
      "          -0.04085064,  0.02923016, -0.08636991,  0.01731708,\n",
      "           0.03995697,  0.08534792, -0.11723428, -0.0461906 ,\n",
      "           0.13306653, -0.13444792, -0.09240782, -0.13455832,\n",
      "          -0.03033539, -0.06105582,  0.0828676 , -0.07848906,\n",
      "          -0.04813238, -0.09071309,  0.03844266, -0.11219085]]],\n",
      "\n",
      "\n",
      "       [[[-0.08474529, -0.10936279,  0.02752805, -0.00441051,\n",
      "           0.0809819 , -0.08162495, -0.00377949,  0.06491633,\n",
      "          -0.05721939, -0.08944134,  0.03046504,  0.02986149,\n",
      "           0.02306538,  0.1046142 ,  0.02273718,  0.13917266,\n",
      "           0.00376315,  0.01365615,  0.03796224, -0.09258283,\n",
      "          -0.02144125, -0.02710542,  0.06490473,  0.09571724,\n",
      "          -0.06721328, -0.03921279, -0.06974893,  0.1069433 ,\n",
      "          -0.13564208,  0.0499175 ,  0.0072435 ,  0.06889098],\n",
      "         [-0.0665638 ,  0.09129246, -0.05581813, -0.1224776 ,\n",
      "           0.02102165, -0.10763519, -0.10247436,  0.1388857 ,\n",
      "          -0.04630628,  0.02221773,  0.0211165 ,  0.06965958,\n",
      "           0.11394453, -0.12153985, -0.00231074, -0.0784385 ,\n",
      "           0.07185493,  0.04510299,  0.13526523, -0.05887007,\n",
      "          -0.04156944, -0.02605766,  0.10233834, -0.01038983,\n",
      "           0.02789415,  0.02177204, -0.07854678,  0.07243853,\n",
      "           0.06802958, -0.09141365,  0.10610786,  0.02582221],\n",
      "         [-0.00082946, -0.01285484,  0.05310546,  0.03475437,\n",
      "          -0.12535751,  0.05877243, -0.0990426 ,  0.03778542,\n",
      "          -0.04836656,  0.00739793, -0.12450882,  0.08410485,\n",
      "           0.07866999,  0.14192463, -0.11328354, -0.11190559,\n",
      "           0.00415597, -0.05265467, -0.0464123 ,  0.1220604 ,\n",
      "           0.09039724, -0.05240123,  0.14615807, -0.05314759,\n",
      "           0.10122191,  0.03706198,  0.09875961, -0.04161473,\n",
      "          -0.06387173,  0.00586739,  0.03012506,  0.01596426]],\n",
      "\n",
      "        [[-0.03544166, -0.05330792, -0.07305945,  0.10489709,\n",
      "          -0.0052977 , -0.04789637, -0.03777673,  0.10838347,\n",
      "          -0.08423419, -0.0827581 , -0.08166444,  0.09671967,\n",
      "          -0.09343063, -0.04450625, -0.10440301,  0.09320595,\n",
      "           0.08025263, -0.00520209, -0.00606036,  0.03054919,\n",
      "           0.09660412,  0.04816787,  0.0614364 ,  0.05679603,\n",
      "           0.05355855,  0.10669284,  0.03527327, -0.02800978,\n",
      "          -0.11123823, -0.09365016,  0.0118114 , -0.1063341 ],\n",
      "         [-0.11491601,  0.07932381, -0.11504705,  0.08613798,\n",
      "           0.10165156,  0.07705004, -0.07272822,  0.04355318,\n",
      "           0.04742707, -0.08487812, -0.07294334,  0.0203713 ,\n",
      "           0.10969806, -0.04655504, -0.04667343, -0.02147905,\n",
      "          -0.11234879, -0.05718318,  0.01088404, -0.11126953,\n",
      "           0.10872088,  0.10276594,  0.03307768, -0.04077741,\n",
      "          -0.000155  , -0.01055598,  0.12333044, -0.13198471,\n",
      "          -0.11315951,  0.07016125, -0.0589689 ,  0.01209839],\n",
      "         [ 0.10882778,  0.07749057, -0.0379251 ,  0.08776053,\n",
      "           0.09858574,  0.04842598, -0.13257034, -0.0391984 ,\n",
      "          -0.06946076, -0.12574488, -0.12581341,  0.09332299,\n",
      "           0.13379647,  0.07972578,  0.12466691,  0.06096912,\n",
      "          -0.12684637, -0.08972913,  0.12231041,  0.00260063,\n",
      "           0.04725605, -0.07593007, -0.07036873,  0.1144271 ,\n",
      "          -0.05953952, -0.09503986, -0.10668692,  0.12528493,\n",
      "           0.11015334, -0.1094384 ,  0.02418056,  0.019884  ]],\n",
      "\n",
      "        [[-0.05581347,  0.01877558,  0.08724348, -0.05179161,\n",
      "           0.0664482 , -0.01952146,  0.10073593, -0.12604521,\n",
      "          -0.05057799,  0.00844408, -0.03277622,  0.05857555,\n",
      "           0.06418403, -0.05225443, -0.12335195,  0.12326317,\n",
      "          -0.05947337,  0.04400562, -0.00338453, -0.0393995 ,\n",
      "          -0.0032626 ,  0.01480178, -0.02354412, -0.07723415,\n",
      "          -0.06104795, -0.02890761, -0.09138265, -0.12374112,\n",
      "          -0.00514781, -0.09153333, -0.11877128,  0.01442124],\n",
      "         [ 0.07915139, -0.08833244, -0.09126447,  0.07834722,\n",
      "           0.00835778, -0.00628083, -0.12977634,  0.09259531,\n",
      "          -0.08508407, -0.11039899, -0.03841547, -0.11210513,\n",
      "          -0.03792769, -0.13055268,  0.0834507 ,  0.06438112,\n",
      "           0.0910653 , -0.06572002, -0.00026833,  0.00354312,\n",
      "          -0.00847007,  0.05428026, -0.06683685, -0.04439812,\n",
      "           0.12034342,  0.02993438,  0.12632321,  0.0912943 ,\n",
      "          -0.1255869 , -0.09294971,  0.04056886,  0.04172348],\n",
      "         [ 0.00809915,  0.09927512,  0.05887081, -0.13202465,\n",
      "           0.11002777,  0.12267043,  0.13252972, -0.0592574 ,\n",
      "           0.01902572,  0.07368943, -0.08078974, -0.11636116,\n",
      "          -0.09138599, -0.06217991, -0.05123249, -0.01690804,\n",
      "           0.02306106,  0.11538099, -0.04082611,  0.02861034,\n",
      "          -0.04684494,  0.04323008, -0.08719182, -0.0383997 ,\n",
      "          -0.08357445,  0.10485289,  0.07747147, -0.020309  ,\n",
      "          -0.05621424, -0.01135766,  0.0882495 , -0.01570438]]]],\n",
      "      dtype=float32), array([ 1.7790403e-03, -2.5974514e-05, -7.9531977e-03,  5.5588409e-03,\n",
      "       -2.5397572e-03,  1.6080859e-03,  8.4272111e-03, -1.0095281e-02,\n",
      "        3.4371668e-03,  4.9181920e-03, -9.1033485e-03,  3.5625645e-03,\n",
      "       -8.7376824e-03, -5.6301383e-03,  1.6315079e-03,  6.0937516e-03,\n",
      "        6.8944409e-03,  7.4729393e-03, -3.7782560e-03, -6.6467043e-04,\n",
      "       -6.5411315e-03,  3.4430467e-03,  1.4656904e-02,  3.0714169e-04,\n",
      "       -5.7656029e-03, -3.1506901e-03,  6.4079477e-03, -3.6287308e-04,\n",
      "       -1.1287809e-03, -1.2239820e-03, -5.4654786e-03,  8.9166556e-03],\n",
      "      dtype=float32)]\n"
     ]
    }
   ],
   "source": [
    "#모형의 가중치값 확인\n",
    "w=model.layers[0].get_weights()\n",
    "print(w)"
   ]
  },
  {
   "cell_type": "code",
   "execution_count": 29,
   "metadata": {},
   "outputs": [
    {
     "name": "stdout",
     "output_type": "stream",
     "text": [
      "(10000, 3072)\n",
      "(10000, 32, 32, 3)\n"
     ]
    },
    {
     "data": {
      "image/png": "[encoded data removed]",
      "text/plain": [
       "<Figure size 1080x1080 with 100 Axes>"
      ]
     },
     "metadata": {
      "needs_background": "light"
     },
     "output_type": "display_data"
    }
   ],
   "source": [
    "from six.moves import cPickle\n",
    "import numpy as np\n",
    "import matplotlib.pyplot as plt\n",
    "#이미지 압축파일 로딩\n",
    "f=open('C:/Users/tjoeun302-18/.keras/datasets/cifar-10-batches-py/data_batch_1','rb')\n",
    "\n",
    "datadict=cPickle.load(f,encoding='latin1')\n",
    "X=datadict['data']\n",
    "y=datadict['labels']\n",
    "print(X.shape)\n",
    "#2차원 데이터를 4차원으로 변환\n",
    "X=X.reshape(10000,3,32,32).transpose(0,2,3,1).astype('uint8')\n",
    "print(X.shape)\n",
    "y=np.array(y)\n",
    "#10행 10열의 서브플롯을 만들고\n",
    "fig, axes1=plt.subplots(10,10,figsize=(15,15))\n",
    "for j in range(10):\n",
    "    for k in range(10):\n",
    "        #이미지 10장을 랜덤으로 선택\n",
    "        np.random.choice(range(len(X)))\n",
    "        #그래프의 축을 표시하지 않음\n",
    "        axes1[j][k].set_axis_off()\n",
    "        #이미지를 그래프에 출력함\n",
    "        axes1[j][k].imshow(X[i:i+1][0])"
   ]
  },
  {
   "cell_type": "markdown",
   "metadata": {},
   "source": [
    "실습예제 3"
   ]
  },
  {
   "cell_type": "code",
   "execution_count": 30,
   "metadata": {},
   "outputs": [],
   "source": [
    "#텍스트 분류"
   ]
  },
  {
   "cell_type": "code",
   "execution_count": 31,
   "metadata": {},
   "outputs": [
    {
     "name": "stdout",
     "output_type": "stream",
     "text": [
      "[('아버지', 'Noun'), ('가', 'Josa'), ('방', 'Noun'), ('에', 'Josa'), ('들어가다', 'Verb')]\n"
     ]
    }
   ],
   "source": [
    "from konlpy.tag import Okt\n",
    "okt=Okt() #트위터 패키지, 최근 버전에서 이름이 Okt로 변경\n",
    "#형태서 분석\n",
    "word_list=okt.pos('아버지가 방에 들어가신다',norm=True,stem=True)\n",
    "print(word_list)"
   ]
  },
  {
   "cell_type": "code",
   "execution_count": 32,
   "metadata": {},
   "outputs": [
    {
     "name": "stdout",
     "output_type": "stream",
     "text": [
      "[('여름', 'Noun'), ('이면', 'Noun'), ('한결같이', 'Adverb'), ('생각나다', 'Verb'), ('드라마', 'Noun')]\n"
     ]
    }
   ],
   "source": [
    "word_list=okt.pos('여름이면 한결같이 생각나는 드라마',norm=True,stem=True)\n",
    "print(word_list)"
   ]
  },
  {
   "cell_type": "code",
   "execution_count": 33,
   "metadata": {},
   "outputs": [
    {
     "name": "stdout",
     "output_type": "stream",
     "text": [
      "작업 완료\n"
     ]
    }
   ],
   "source": [
    "from gensim.models import word2vec\n",
    "import codecs\n",
    "#파일 오픈\n",
    "f=open('d:/data/text/ratings.csv',encoding='ms949')\n",
    "data=f.read() #파일 전체를 변수 1개에 저장\n",
    "okt=Okt()\n",
    "lines=data.split('\\n') #\\n을 기준으로 나눠서 리스트에 저장\n",
    "result=[]\n",
    "for line in lines[:1000]:\n",
    "    r=[]\n",
    "    word_list=okt.pos(line, norm=True, stem=True) #품사 태깅\n",
    "    for (word,pumsa) in word_list:\n",
    "        #조사,어미,문장부호 등은 큰 의미가 없으므로 제외\n",
    "        if not pumsa in ['Josa','Eomi','Punctuation']:\n",
    "            r.append(word)\n",
    "        #단어 사이에 공백을 추가하고 좌우 공백은 제거\n",
    "        result.append((' '.join(r)).strip())\n",
    "        \n",
    "output=(' '.join(result)).strip()\n",
    "with open('d:/data/text/text_prepared.dat','w',encoding='utf-8') as fp:fp.write(output)\n",
    "    \n",
    "print('작업 완료')"
   ]
  },
  {
   "cell_type": "code",
   "execution_count": 34,
   "metadata": {},
   "outputs": [],
   "source": [
    "#word2vec 모형을 만드는 코드"
   ]
  },
  {
   "cell_type": "code",
   "execution_count": 35,
   "metadata": {},
   "outputs": [
    {
     "name": "stdout",
     "output_type": "stream",
     "text": [
      "word2vec 모형 생성 완료\n"
     ]
    }
   ],
   "source": [
    "#문장을 나눔\n",
    "data=word2vec.LineSentence('d:/data/text/text_prepared.dat')\n",
    "#size 벡터수,window 주변단어수, hs=1 softmax사용,\n",
    "#min_counts 단어출현빈더, sg=1 skip-gram 알고리즘 사용\n",
    "#skip-gram(중심 단어로 주변 단어를 예측하는 알고리즘)\n",
    "#sg=0 (cbow 알고리즘 사용: 주변 단어로 중심 단어 예측)\n",
    "model=word2vec.Word2Vec(data, size=100, window=10, hs=1,\n",
    "                       min_count=2, sg=1)\n",
    "# word2vec 모형 저장\n",
    "model.save('d:/data/text/text_100.model')\n",
    "print('word2vec 모형 생성 완료')"
   ]
  },
  {
   "cell_type": "code",
   "execution_count": 36,
   "metadata": {},
   "outputs": [
    {
     "name": "stdout",
     "output_type": "stream",
     "text": [
      "{'영화': 1.0, '정말': 0.6900096758587324, '진짜': 0.6199806482825351, '너무': 0.5394291243347847, '그냥': 0.3704644412191582, 'ㅋㅋ': 0.2838655055636188, '그리고': 0.21649733913884858, '영화는': 0.21504596032897919, '이런': 0.21202225447508466, '영화가': 0.19339622641509435, '내가': 0.1929124334784712, '완전': 0.1897677793904209, '영화를': 0.17597968069666184, '이거': 0.17537493952588293, '드라마': 0.1741654571843251, '이렇게': 0.1665457184325109, '역시': 0.16545718432510886, 'ㅋㅋㅋ': 0.16461054668601838, '이건': 0.16219158200290276, 'ㅠㅠ': 0.15953072085147557, '이게': 0.14211417513304306, '최고': 0.14138848572810836, '평점': 0.13945331398161587, '보고': 0.13376874697629415, 'ㅡㅡ': 0.13292210933720366, '없다': 0.13098693759071117, '스토리': 0.12203676826318335, 'ㅎㅎ': 0.12131107885824867, '하지만': 0.1204644412191582, '많이': 0.1113933236574746, '솔직히': 0.10970004837929366, '연기': 0.10933720367682633, '별로': 0.102322206095791, '그래도': 0.09869375907111756, '있는': 0.09772617319787132, '보면': 0.09675858732462506, '근데': 0.0959119496855346, '다시': 0.09446057087566521, '마지막': 0.09337203676826318, '봤는데': 0.09240445089501693, '뭔가': 0.09240445089501693, '영화다': 0.09143686502177069, '아주': 0.09083212385099178, '없는': 0.09034833091436865, '쓰레기': 0.08974358974358974, '작품': 0.0887760038703435, '같다': 0.08853410740203194, '좋다': 0.08732462506047411, '무슨': 0.08647798742138364, '영화의': 0.08623609095307208, '다른': 0.08478471214320271, '감독': 0.08405902273826803, '가장': 0.08260764392839864, '같은': 0.08212385099177552, '있다': 0.08139816158684084, '특히': 0.08006773101112724, '하고': 0.07970488630865989, '차라리': 0.07970488630865989, '하는': 0.0764392839864538, '계속': 0.07595549104983067, '보는 내내': 0.07426221577164974, '전혀': 0.07305273343009192, '스토리가': 0.07293178519593614, '감독이': 0.07172230285437832, '느낌': 0.07135945815191098, '10점': 0.07111756168359942, '마지막에': 0.07027092404450895, '나는': 0.06954523463957427, '내용이': 0.0693033381712627, '제대로': 0.06918238993710692, '어떻게': 0.06918238993710692, '명작': 0.06845670053217223, '보다가': 0.06785195936139332, '이야기': 0.06761006289308176, '재밌다': 0.06748911465892599, '지금': 0.06700532172230285, 'ㅋㅋㅋㅋ': 0.06615868408321239, '진심': 0.06579583938074504, '모두': 0.06494920174165457, '이영화': 0.06386066763425254, '나도': 0.06361877116594097, '대한': 0.06301402999516208, '액션': 0.0627721335268505, '때문에': 0.061925495887760036, '내용도': 0.061562651185292694, '최고의 영화': 0.06119980648282535, '감동': 0.06047411707789066, '아니라': 0.06035316884373488, '감독의': 0.0602322206095791, '개인적으로': 0.05999032414126754, '나름': 0.059748427672955975, 'ㅜㅜ': 0.059748427672955975, '요즘': 0.05805515239477504, '모든': 0.05805515239477504, '연기가': 0.057692307692307696, '만든': 0.057692307692307696, '아니다': 0.056966618287373004, '보다': 0.05648282535074988, '도대체': 0.05611998064828253, '하나': 0.05599903241412675, '이제': 0.05587808417997097, '보는내내': 0.05563618771165941, '끝까지': 0.055273343009192066, '아닌': 0.055152394775036286, '재미없다': 0.05478955007256894, '내용': 0.054547653604257375, '대박': 0.054547653604257375, '최고다': 0.05418480890179003, '좋은': 0.05382196419932269, '조금': 0.05358006773101113, '나오는': 0.05358006773101113, '봤다': 0.05345911949685535, '보는': 0.053217223028543786, '너무나': 0.053217223028543786, '엄청': 0.053217223028543786, '결국': 0.05297532656023222, '처음': 0.052612481857764876, '보면서': 0.052370585389453314, '오랜만에': 0.05212868892114175, '영화에': 0.05188679245283019, '최악': 0.05188679245283019, '그렇게': 0.05188679245283019, '영화로': 0.05104015481373972, '제발': 0.05091920657958394, '아니고': 0.050435413642960815, '지루하고': 0.050314465408805034, '매우': 0.050314465408805034, '아깝다': 0.05019351717464925, '영화입니다': 0.050072568940493466, '보세요': 0.049951620706337685, '주인공': 0.04970972423802612, '1점': 0.04934687953555878, '스토리도': 0.04898403483309144, '많은': 0.04898403483309144, '얼마나': 0.04862119013062409, '아직도': 0.04825834542815675, '이걸': 0.047895500725689405, '그나마': 0.047774552491533624, '좋았다': 0.04765360425737784, '그래서': 0.0472907595549105, '그저': 0.04692791485244315, '내용은': 0.04668601838413159, '아무리': 0.04656507014997581, '재밌어요': 0.04620222544750847, '아름다운': 0.045355587808417995, '좋은 영화': 0.04438800193517175, '아니': 0.04426705370101597, '배우': 0.04414610546686018, '사람이': 0.04366231253023706, '지루하다': 0.043057571359458154, '한다': 0.04281567489114659, '좋아요': 0.042573778422835024, '영화도': 0.04233188195452346, '다들': 0.04160619254958878, '한국': 0.041485244315433, '절대': 0.041243347847121435, '없음': 0.04112239961296565, '같이': 0.040638606676342524, '않고': 0.04027576197387518, '누가': 0.04027576197387518, '연기는': 0.0401548137397194, '그러나': 0.0401548137397194, '그런': 0.04003386550556362, '상당히': 0.03979196903725206, '어설픈': 0.03967102080309628, '배우들': 0.03894533139816159, '간만에': 0.038824383164005806, '진정한': 0.038824383164005806, '스토리는': 0.038824383164005806, '재밌음': 0.038582486695694244, '어떤': 0.038461538461538464, '없고': 0.0382196419932269, '최악의 영화': 0.0382196419932269, '멋진': 0.03785679729075955, '제일': 0.03785679729075955, '사람': 0.03785679729075955, '우리나라': 0.03773584905660377, '없는 영화': 0.03773584905660377, '평점이 너무': 0.03761490082244799, '연출': 0.03749395258829221, '한번': 0.03737300435413643, '영화 정말': 0.036768263183357526, '시간': 0.03664731494920174, '우리': 0.03664731494920174, '오늘': 0.03652636671504596, '여자': 0.03652636671504596, '쓰레기 영화': 0.03652636671504596, 'ㅉㅉ': 0.035921625544267054, '재미': 0.03580067731011127, '모르겠다': 0.03580067731011127, '강추': 0.03580067731011127, '추천': 0.03567972907595549, '졸작': 0.03543783260764393, '연기도': 0.03543783260764393, '결말이': 0.03543783260764393, '지루함': 0.03543783260764393, '대체': 0.0349540396710208, '사랑': 0.0349540396710208, '스릴러': 0.0349540396710208, '최고의': 0.03483309143686502}\n"
     ]
    },
    {
     "data": {
      "image/png": "[encoded data removed]",
      "text/plain": [
       "<Figure size 864x864 with 1 Axes>"
      ]
     },
     "metadata": {
      "needs_background": "light"
     },
     "output_type": "display_data"
    }
   ],
   "source": [
    "%matplotlib inline\n",
    "import matplotlib.pyplot as plt\n",
    "from wordcloud import WordCloud\n",
    "text=open('d:/data/text/ratings.csv',encoding='ms949').read()\n",
    "#워드클라우드 생성\n",
    "wordcloud=WordCloud(font_path='c:/windows/fons/malgun.ttf').generate(text)\n",
    "print(wordcloud.words_) #단어목록\n",
    "plt.figure(figsize=(12,12))\n",
    "plt.imshow(wordcloud)\n",
    "plt.axis('off')\n",
    "plt.show()"
   ]
  },
  {
   "cell_type": "code",
   "execution_count": 37,
   "metadata": {},
   "outputs": [
    {
     "name": "stdout",
     "output_type": "stream",
     "text": [
      "[('토나오다', 0.4835091829299927), ('역대', 0.4771011173725128), ('으루', 0.46738627552986145), ('수트', 0.4673757255077362), ('미남', 0.45433157682418823), ('저만', 0.45409077405929565), ('입다', 0.44838523864746094), ('일', 0.4455074071884155), ('권유', 0.4402642548084259), ('사무라이', 0.4335912764072418)]\n",
      "[('원조', 0.5090563297271729), ('애린', 0.4943076968193054), ('본분', 0.4921097755432129), ('격인', 0.48115968704223633), ('긍정', 0.4625675082206726), ('밝다', 0.46075233817100525), ('제작', 0.4464251697063446), ('다만', 0.44579505920410156), ('얼굴', 0.43269670009613037), ('홍혜정', 0.42681586742401123)]\n",
      "-0.0045095384\n",
      "드라마\n"
     ]
    },
    {
     "name": "stderr",
     "output_type": "stream",
     "text": [
      "C:\\Anaconda\\lib\\site-packages\\gensim\\models\\keyedvectors.py:877: FutureWarning: arrays to stack must be passed as a \"sequence\" type such as list or tuple. Support for non-sequence iterables such as generators is deprecated as of NumPy 1.16 and will raise an error in the future.\n",
      "  vectors = vstack(self.word_vec(word, use_norm=True) for word in used_words).astype(REAL)\n"
     ]
    }
   ],
   "source": [
    "#저장된 word2vec 모형을 불러오는 방법\n",
    "model=word2vec.Word2Vec.load('d:/data/text/text_100.model')\n",
    "#키워드와 유사한 단어\n",
    "print(model.wv.most_similar(positive=['영화']))\n",
    "print(model.wv.most_similar(positive=['드라마']))\n",
    "#A,B의 유사도\n",
    "print(model.wv.similarity('영화','드라마'))\n",
    "#어울리지 않는 키워드 검색\n",
    "print(model.wv.doesnt_match('영화 드라마 이야기 완전'.split()))\n",
    "      "
   ]
  },
  {
   "cell_type": "code",
   "execution_count": 38,
   "metadata": {},
   "outputs": [],
   "source": [
    "# CNN기반의 텍스트 분석"
   ]
  },
  {
   "cell_type": "code",
   "execution_count": 39,
   "metadata": {},
   "outputs": [],
   "source": [
    "import numpy as np\n",
    "np.random.seed(1) #랜덤 시드 고정"
   ]
  },
  {
   "cell_type": "code",
   "execution_count": 40,
   "metadata": {},
   "outputs": [],
   "source": [
    "import csv \n",
    "\n",
    "title_arr=[] #리뷰 리스트\n",
    "ctr_arr=[] #0,1 리스트\n",
    "f=open('d:/data/text/ratings_train.csv') #학습용 파일 오픈\n",
    "reader=csv.reader(f)\n",
    "max_length=0\n",
    "length=0\n",
    "max_idx=0\n",
    "count=0\n",
    "next(reader,None) #첫 행을 읽음(건너뜀)\n",
    "count_train=0\n",
    "for line in reader:\n",
    "    title_arr.append(line[0]) #리뷰 리스트에 추가\n",
    "    ctr_arr.append(int(line[1])) #0,1 리스트에 추가\n",
    "    length=len(line[0]) #단어 갯수\n",
    "    if max_length < length:\n",
    "        max_length=length\n",
    "        max_idx=count\n",
    "        \n",
    "    count+=1\n",
    "    count_train+=1\n",
    "    if count_train>=10000: break #1000 행만 사용\n",
    "        \n",
    "f.close()"
   ]
  },
  {
   "cell_type": "code",
   "execution_count": 41,
   "metadata": {},
   "outputs": [
    {
     "name": "stdout",
     "output_type": "stream",
     "text": [
      "144\n",
      "10000\n",
      "10000\n",
      "10000\n",
      "10000\n"
     ]
    }
   ],
   "source": [
    "print(max_length) #최대 안어 갯수\n",
    "print(len(title_arr)) #리뷰 리스트의 사이즈\n",
    "print(len(ctr_arr)) #0,1 리스트의 사이즈\n",
    "print(count)\n",
    "print(count_train)"
   ]
  },
  {
   "cell_type": "code",
   "execution_count": 42,
   "metadata": {},
   "outputs": [],
   "source": [
    "f2=open('d:/data/text/ratings_test.csv') #검증용 파일 오픈\n",
    "reader=csv.reader(f2)\n",
    "next(reader,None) #첫 행을 읽음(건너뜀)\n",
    "count_test=0\n",
    "for line in reader:\n",
    "    title_arr.append(line[0]) #리뷰 리스트에 추가\n",
    "    ctr_arr.append(int(line[1])) #0,1 리스트에 추가\n",
    "    length=len(line[0]) #단어 갯수\n",
    "    if max_length < length:\n",
    "        max_length=length\n",
    "        max_idx=count\n",
    "        \n",
    "    count+=1\n",
    "    count_test+=1\n",
    "    if count_test>=10000: break #10000 행만 사용\n",
    "f2.close()"
   ]
  },
  {
   "cell_type": "code",
   "execution_count": 43,
   "metadata": {},
   "outputs": [
    {
     "name": "stdout",
     "output_type": "stream",
     "text": [
      "step: 0\n",
      "step: 1000\n",
      "step: 2000\n",
      "step: 3000\n",
      "step: 4000\n",
      "step: 5000\n",
      "step: 6000\n",
      "step: 7000\n",
      "step: 8000\n",
      "step: 9000\n",
      "step: 10000\n",
      "step: 11000\n",
      "step: 12000\n",
      "step: 13000\n",
      "step: 14000\n",
      "step: 15000\n",
      "step: 16000\n",
      "step: 17000\n",
      "step: 18000\n",
      "step: 19000\n",
      "20000\n"
     ]
    }
   ],
   "source": [
    "from konlpy.tag import Okt\n",
    "twitter_nlp=Okt()\n",
    "title_noun_arr=[]\n",
    "for index,title in enumerate(title_arr):\n",
    "    if index % 1000 == 0:\n",
    "        print('step:',index)\n",
    "    #리뷰 내용 중 명사만 추출하여 리스트에 처장\n",
    "    title_noun_arr.append(twitter_nlp.nouns(title))\n",
    "    \n",
    "print(len(title_noun_arr))"
   ]
  },
  {
   "cell_type": "code",
   "execution_count": 44,
   "metadata": {},
   "outputs": [
    {
     "data": {
      "text/plain": [
       "[['더빙', '진짜', '목소리'],\n",
       " ['흠', '포스터', '보고', '초딩', '영화', '줄', '오버', '연기'],\n",
       " ['무재', '밓었', '다그', '래서', '추천'],\n",
       " ['교도소', '이야기', '구먼', '재미', '평점', '조정'],\n",
       " ['몬페', '의', '연기', '영화', '스파이더맨', '커스틴', '던스트']]"
      ]
     },
     "execution_count": 44,
     "metadata": {},
     "output_type": "execute_result"
    }
   ],
   "source": [
    "title_noun_arr[:5]"
   ]
  },
  {
   "cell_type": "code",
   "execution_count": 60,
   "metadata": {},
   "outputs": [
    {
     "name": "stdout",
     "output_type": "stream",
     "text": [
      "step: 0\n",
      "step: 1000\n",
      "step: 2000\n",
      "step: 3000\n",
      "step: 4000\n",
      "step: 5000\n"
     ]
    },
    {
     "name": "stderr",
     "output_type": "stream",
     "text": [
      "C:\\Anaconda\\lib\\site-packages\\ipykernel_launcher.py:21: DeprecationWarning: Call to deprecated `__getitem__` (Method will be removed in 4.0.0, use self.wv.__getitem__() instead).\n"
     ]
    },
    {
     "name": "stdout",
     "output_type": "stream",
     "text": [
      "step: 6000\n",
      "step: 7000\n",
      "step: 8000\n",
      "step: 9000\n",
      "step: 10000\n",
      "step: 11000\n",
      "step: 12000\n",
      "step: 13000\n",
      "step: 14000\n",
      "step: 15000\n",
      "step: 16000\n",
      "step: 17000\n",
      "step: 18000\n",
      "step: 19000\n",
      "[array([-0.83422786, -0.6616719 , -0.3067742 ,  0.3551808 ,  0.1392718 ,\n",
      "        0.33723894, -0.55715775,  0.4908997 ,  0.89757735, -0.5020665 ,\n",
      "        0.18773472,  0.5014778 ,  0.8418737 ,  0.55342436, -0.2968116 ,\n",
      "       -0.63402116, -0.6803193 , -0.61912113,  0.27143428, -0.30340114,\n",
      "        0.35103664,  0.4077629 ,  1.052439  ,  0.30695665, -0.20829993,\n",
      "       -0.57832104, -0.12902398, -0.03200287, -0.7092859 ,  0.7202382 ,\n",
      "        0.58802927,  0.26743883, -0.36596662, -0.31409937, -0.57754564,\n",
      "        0.84172773,  0.32457438, -0.12808657, -0.40617746,  0.10372555,\n",
      "        0.9053383 ,  0.60047907,  0.08946344, -0.38245943,  0.65182143,\n",
      "       -0.18212576,  0.08280428, -0.3287083 ,  0.6967199 ,  0.5382387 ,\n",
      "       -0.5141207 ,  1.4749002 ,  0.03185769, -0.5443999 , -0.0122617 ,\n",
      "        0.29969496, -0.76619196,  0.54708767,  0.20412555, -0.03577138,\n",
      "        0.62580657,  0.1508978 ,  0.9001432 , -1.2069334 , -0.0262897 ,\n",
      "        0.06060363,  0.26238248, -1.1916417 ,  0.3945272 ,  0.01809595,\n",
      "       -0.13006198, -0.45425943, -0.2891954 ,  0.79451776, -0.53081137,\n",
      "        0.45518193,  0.23458941, -0.00293466, -0.0607401 , -0.66451186,\n",
      "        0.27965188,  0.40596065,  1.1218501 , -0.18148586, -0.01543158,\n",
      "        0.13300447,  0.9647119 ,  0.31253213,  0.22593756,  0.5775715 ,\n",
      "        0.7502937 ,  0.7528526 , -0.13439596,  0.50156486, -0.6083959 ,\n",
      "        1.4290013 , -0.47174147,  0.2523212 ,  0.2809819 ,  0.00488123],\n",
      "      dtype=float32), array([ 0.59194994, -0.2180355 ,  0.17937292, -0.13467157,  0.15677544,\n",
      "       -0.39020777,  0.04658639,  0.03413103, -0.33782566,  0.19296099,\n",
      "       -0.0451218 ,  0.12317491,  0.12201302,  0.22268744, -0.41076702,\n",
      "       -0.17053369, -0.06695433, -0.16478412,  0.05861976,  0.29844943,\n",
      "        0.43848768,  0.21073554, -0.00887617,  0.3185101 , -0.2434481 ,\n",
      "        0.16692139, -0.02597825,  0.33717895,  0.2774648 ,  0.02109053,\n",
      "        0.04010736,  0.22428237, -0.32495567,  0.30726716,  0.45360485,\n",
      "       -0.1507282 ,  0.10925488, -0.268718  ,  0.22993718, -0.67230386,\n",
      "        0.04150941,  0.06962756, -0.12966365, -0.47329023,  0.4983452 ,\n",
      "        0.28928116, -0.36512348, -0.03481233, -0.4635939 ,  0.24778451,\n",
      "        0.08937255,  0.33255076, -0.5870107 , -0.79189795, -0.24403216,\n",
      "        0.01904015, -0.31160465,  0.08620863,  0.33727533, -0.39962015,\n",
      "        0.1297294 , -0.14527582,  0.08611178, -0.6536934 , -0.04921756,\n",
      "        0.23061135, -0.00500727, -0.1424153 ,  0.32063153,  0.21573602,\n",
      "       -0.06444267,  0.34637266,  0.41092294, -0.10520875, -0.49895456,\n",
      "       -0.14384517, -0.2803188 , -0.05497246, -0.32759947, -0.38105914,\n",
      "        0.29982632,  0.34606078, -0.13738903,  0.18929443,  0.19471446,\n",
      "        0.40023935,  0.4764369 ,  0.36087075,  0.287612  ,  0.6279449 ,\n",
      "        0.18287718,  0.00964689,  0.07840565,  0.29621014, -0.57056075,\n",
      "        0.3165221 , -0.27153784, -0.07076233,  0.21660724, -0.02611517],\n",
      "      dtype=float32), array([-0.5570756 , -0.4724528 ,  0.02813958,  0.29267725, -0.3441345 ,\n",
      "       -0.49093148,  0.06464875,  0.40961057, -0.07500964, -0.2701384 ,\n",
      "        0.49435785,  0.64552623,  0.6105868 , -0.48592764,  0.20939268,\n",
      "        0.34228033,  0.543496  , -0.60331476, -0.67004323, -0.42752433,\n",
      "        0.3393806 , -0.21856904,  0.98621655,  0.69769764,  0.00864974,\n",
      "       -0.057675  ,  0.12138125,  0.4024997 , -0.5653302 , -0.19705556,\n",
      "        0.7258624 ,  0.8007167 ,  0.55895597, -0.02604689,  0.7306791 ,\n",
      "        0.1973559 ,  0.4670956 ,  0.19398041,  0.20606735, -1.0879633 ,\n",
      "        0.4766491 ,  0.39095968,  0.60398656, -0.13513488, -0.11870288,\n",
      "       -0.6375957 , -0.53301895, -0.31137115, -0.3502679 ,  0.40871865,\n",
      "       -0.1689578 ,  0.14817147, -0.5638778 , -0.95978105,  0.16049592,\n",
      "       -0.29991913,  0.13323198,  0.04219965,  0.5999321 , -0.22291103,\n",
      "        0.41176838,  0.6977867 ,  0.26684526, -0.23557286, -0.19998573,\n",
      "        0.13254508,  0.5794869 , -0.7848137 , -0.15161318,  0.41171935,\n",
      "       -0.14184095, -0.31567445, -0.28725362,  0.18351726, -0.046634  ,\n",
      "        0.6166547 ,  0.11873646,  0.13796905, -0.5823873 , -0.87297785,\n",
      "        0.10740653,  1.1956252 , -0.05385653,  0.57395774, -0.01010816,\n",
      "        0.51513684, -0.11031013,  0.44333673, -0.41796094, -0.60025674,\n",
      "       -0.6423998 ,  0.6267756 , -0.7889412 , -0.44999036, -0.06553274,\n",
      "       -0.09959545, -0.14289661,  0.52392745,  0.40804815,  0.22879966],\n",
      "      dtype=float32)]\n"
     ]
    }
   ],
   "source": [
    "import gensim\n",
    "MIN_NOUN_VECTOR_VALUE=-10.0\n",
    "MAX_NOUN_VECTOR_VALUE=10.0\n",
    "NOUN_VECTOR_SIZE=100 #벡터 사이즈 (벡터의 차원)\n",
    "\n",
    "#텍스트의 길이가 짧을 경우 길이를 맞추기 위해 패딩 처리\n",
    "def generate_random_noun_vector():\n",
    "    return np.random.uniform(low=MIN_NOUN_VECTOR_VALUE,\n",
    "                            high=MAX_NOUN_VECTOR_VALUE,\n",
    "                            size=(NOUN_VECTOR_SIZE,))\n",
    "\n",
    "#word2vec 모형 불러오기\n",
    "w2v_model=gensim.models.Word2Vec.load('d:/data/text/text_100.model')\n",
    "title_noun_vector_arr=[]\n",
    "for index, title_nouns in enumerate(title_noun_arr):\n",
    "    if index % 1000 == 0:\n",
    "        print('step:' ,index)\n",
    "    noun_vector_arr=[]\n",
    "    for noun in title_nouns:\n",
    "        try: #단어별로  word2vec 모델 적용\n",
    "            noun_vector=w2v_model[noun]\n",
    "        except:\n",
    "            noun_vector=generate_random_noun_vector()\n",
    "        noun_vector_arr.append(noun_vector)\n",
    "    title_noun_vector_arr.append(noun_vector_arr)\n",
    "\n",
    "print(title_noun_vector_arr[0])"
   ]
  },
  {
   "cell_type": "code",
   "execution_count": 61,
   "metadata": {},
   "outputs": [
    {
     "name": "stdout",
     "output_type": "stream",
     "text": [
      "37\n",
      "0\n"
     ]
    }
   ],
   "source": [
    "max=0\n",
    "min=100\n",
    "avg=0\n",
    "count=0\n",
    "sum=0\n",
    "for index,title_noun_vector in enumerate(title_noun_vector_arr):\n",
    "    if len(title_noun_vector)==0: #길이가 0이면 통과\n",
    "        pass\n",
    "    sum += len(title_noun_vector) #길이 합산\n",
    "    if max < len(title_noun_vector):\n",
    "        max=len(title_noun_vector)\n",
    "    if min > len(title_noun_vector):\n",
    "        min=len(title_noun_vector)\n",
    "    count+=1\n",
    "    \n",
    "TITLE_LENGTH=max #리뷰의 최대 길이\n",
    "print(TITLE_LENGTH)\n",
    "print(min) #리뷰의 최소 길이\n",
    "\n",
    "def generate_zero_noun_vector():\n",
    "    return np.random.uniform(low=0.0, high=0.0,\n",
    "                            size=(NOUN_VECTOR_SIZE, ))"
   ]
  },
  {
   "cell_type": "code",
   "execution_count": 62,
   "metadata": {},
   "outputs": [
    {
     "name": "stdout",
     "output_type": "stream",
     "text": [
      "step: 0\n",
      "step: 1000\n",
      "step: 2000\n",
      "step: 3000\n",
      "step: 4000\n",
      "step: 5000\n",
      "step: 6000\n",
      "step: 7000\n",
      "step: 8000\n",
      "step: 9000\n",
      "step: 10000\n",
      "step: 11000\n",
      "step: 12000\n",
      "step: 13000\n",
      "step: 14000\n",
      "step: 15000\n",
      "step: 16000\n",
      "step: 17000\n",
      "step: 18000\n",
      "step: 19000\n"
     ]
    }
   ],
   "source": [
    "#벡터의 사이즈를 맞추는 작업\n",
    "for index,title_noun_vector in enumerate(title_noun_vector_arr):\n",
    "    if index % 1000 == 0:\n",
    "        print('step:', index)\n",
    "    #최대 문장 길이보다 짧은 경우\n",
    "    while len(title_noun_vector) < TITLE_LENGTH:\n",
    "        # 0으로 채움\n",
    "        title_noun_vector.append(generate_zero_noun_vector())\n",
    "    title_noun_vector=title_noun_vector[:TITLE_LENGTH]\n",
    "    "
   ]
  },
  {
   "cell_type": "code",
   "execution_count": 63,
   "metadata": {},
   "outputs": [
    {
     "data": {
      "text/plain": [
       "[0, 1, 0, 0, 1, 0, 0, 0, 1, 1]"
      ]
     },
     "execution_count": 63,
     "metadata": {},
     "output_type": "execute_result"
    }
   ],
   "source": [
    "ctr_arr[:10]"
   ]
  },
  {
   "cell_type": "code",
   "execution_count": 64,
   "metadata": {},
   "outputs": [],
   "source": [
    "NUM_CLASSES=2 #라벨의 갯수 0,1(부정,긍정)\n",
    "ctr_class_arr=[]\n",
    "ctr_class_count=[0,0]\n",
    "for index,ctr in enumerate(ctr_arr):\n",
    "    if ctr ==0: #부정 리뷰이면\n",
    "        ctr_class_arr.append(0.0) #부정 라벨 리스트에 추가\n",
    "        ctr_class_count[0]+=1 #부정 카운트 추가\n",
    "    elif ctr == 1: #긍정 리뷰이면\n",
    "        ctr_class_arr.append(1.0) #긍정 라벨 리스트에 추가\n",
    "        ctr_class_count[1]+=1 #긍정 카운트 추가"
   ]
  },
  {
   "cell_type": "code",
   "execution_count": 65,
   "metadata": {},
   "outputs": [],
   "source": [
    "#데이터 전처리 함수\n",
    "def prepare_data(arr):\n",
    "    sum1=0\n",
    "    for i in arr:\n",
    "        sum1 += i\n",
    "    arr=[float(i) / sum1 for i in arr] #각 변수의 값을 합계로 나눔\n",
    "    return arr"
   ]
  },
  {
   "cell_type": "code",
   "execution_count": 66,
   "metadata": {},
   "outputs": [],
   "source": [
    "train_data_size=count_train #학습용 데이터의 사이즈\n",
    "test_data_size=count_test  #검증용 데이터의 사이즈\n",
    "\n",
    "#학습용 데이터셋\n",
    "train_input=title_noun_vector_arr[0:train_data_size]\n",
    "train_label=ctr_class_arr[0:train_data_size]\n",
    "#검증용 데이터셋\n",
    "test_input=title_noun_vector_arr[train_data_size:]\n",
    "test_label=ctr_class_arr[train_data_size:]"
   ]
  },
  {
   "cell_type": "code",
   "execution_count": 67,
   "metadata": {},
   "outputs": [
    {
     "name": "stdout",
     "output_type": "stream",
     "text": [
      "10000\n",
      "10000\n",
      "10000\n",
      "10000\n"
     ]
    }
   ],
   "source": [
    "#학습용 검증용 데이터셋 사이즈 확인\n",
    "print(len(train_input))\n",
    "print(len(train_label))\n",
    "print(len(test_input))\n",
    "print(len(test_label))"
   ]
  },
  {
   "cell_type": "code",
   "execution_count": 68,
   "metadata": {},
   "outputs": [],
   "source": [
    "#keras 신경망 형태에 맞게 데이터 차원 변경\n",
    "train_input = np.array(train_input) #넘파이 배열로 바꾸고\n",
    "#차원 변경\n",
    "#샘플갯수, 가로사이즈, 세로 사이즈,1(흑백)/3(컬러)\n",
    "train_input=train_input.reshape(train_input.shape[0],train_input.shape[1],NOUN_VECTOR_SIZE,1)\n",
    "\n",
    "test_input=np.array(test_input)\n",
    "test_input=test_input.reshape(train_input.shape[0],train_input.shape[1],NOUN_VECTOR_SIZE,1)"
   ]
  },
  {
   "cell_type": "code",
   "execution_count": 74,
   "metadata": {},
   "outputs": [
    {
     "name": "stdout",
     "output_type": "stream",
     "text": [
      "Model: \"model_1\"\n",
      "_________________________________________________________________\n",
      "Layer (type)                 Output Shape              Param #   \n",
      "=================================================================\n",
      "input1 (InputLayer)          (None, 37, 100, 1)        0         \n",
      "_________________________________________________________________\n",
      "conv2d_10 (Conv2D)           (None, 37, 100, 1)        10        \n",
      "_________________________________________________________________\n",
      "conv2d_11 (Conv2D)           (None, 35, 98, 1)         10        \n",
      "_________________________________________________________________\n",
      "max_pooling2d_8 (MaxPooling2 (None, 17, 49, 1)         0         \n",
      "_________________________________________________________________\n",
      "dropout_6 (Dropout)          (None, 17, 49, 1)         0         \n",
      "_________________________________________________________________\n",
      "flatten_4 (Flatten)          (None, 833)               0         \n",
      "_________________________________________________________________\n",
      "dense_6 (Dense)              (None, 128)               106752    \n",
      "_________________________________________________________________\n",
      "dropout_7 (Dropout)          (None, 128)               0         \n",
      "_________________________________________________________________\n",
      "dense_result (Dense)         (None, 1)                 129       \n",
      "=================================================================\n",
      "Total params: 106,901\n",
      "Trainable params: 106,901\n",
      "Non-trainable params: 0\n",
      "_________________________________________________________________\n"
     ]
    },
    {
     "name": "stderr",
     "output_type": "stream",
     "text": [
      "C:\\Anaconda\\lib\\site-packages\\ipykernel_launcher.py:17: UserWarning: Update your `Model` call to the Keras 2 API: `Model(inputs=[<tf.Tenso..., outputs=Tensor(\"de...)`\n"
     ]
    }
   ],
   "source": [
    "from keras import optimizers\n",
    "from keras.layers import Conv2D, MaxPooling2D, Input, Dense, Dropout, Flatten\n",
    "from keras.models import Model\n",
    "#입력층 shape=(width,height,depth)\n",
    "input_a = Input(shape=(37,100,1), name=\"input1\")\n",
    "#첫번째 Conv Layer 출력1, 필터 3x3 padding='same' 출력과 같은 사이즈\n",
    "#strides 1x1씩 이동\n",
    "x=Conv2D(1,(3,3), activation='relu', padding='same',strides=(1,1))(input_a)\n",
    "x=Conv2D(1,(3,3),activation='relu')(x)\n",
    "x=MaxPooling2D(pool_size=(2,2))(x) #맥스풀링 계층\n",
    "x=Dropout(0.25)(x) #드롭아웃 계층(과적합을 방지하기 위한 계층)\n",
    "x=Flatten()(x) #자료를 1차원으로 합치는 계층\n",
    "x=Dense(128, activation='relu')(x)\n",
    "x=Dropout(0.5)(x)\n",
    "#출력층, 출력노드 1개, 활성화함수 sigmoid\n",
    "out=Dense(1, activation='sigmoid',name='dense_result')(x)\n",
    "model=Model(inputs=[input_a],output=out)\n",
    "#아담 옵티마이저의 하이퍼파라미터 설정(lr 학습률)\n",
    "adam=optimizers.Adam(lr=0.001,beta_1=0.9, beta_2=0.999,\n",
    "                    decay=0.0, amsgrad=False)\n",
    "model.compile(loss='binary_crossentropy',optimizer=adam,\n",
    "             metrics=['accuracy']) #컴파일\n",
    "model.summary() #요약\n"
   ]
  },
  {
   "cell_type": "code",
   "execution_count": 75,
   "metadata": {},
   "outputs": [
    {
     "ename": "ImportError",
     "evalue": "cannot import name 'Sequential' from 'keras.layers' (C:\\Anaconda\\lib\\site-packages\\keras\\layers\\__init__.py)",
     "output_type": "error",
     "traceback": [
      "\u001b[1;31m---------------------------------------------------------------------------\u001b[0m",
      "\u001b[1;31mImportError\u001b[0m                               Traceback (most recent call last)",
      "\u001b[1;32m<ipython-input-75-05126a6d245e>\u001b[0m in \u001b[0;36m<module>\u001b[1;34m\u001b[0m\n\u001b[1;32m----> 1\u001b[1;33m \u001b[1;32mfrom\u001b[0m \u001b[0mkeras\u001b[0m\u001b[1;33m.\u001b[0m\u001b[0mlayers\u001b[0m \u001b[1;32mimport\u001b[0m \u001b[0mSequential\u001b[0m\u001b[1;33m\u001b[0m\u001b[1;33m\u001b[0m\u001b[0m\n\u001b[0m\u001b[0;32m      2\u001b[0m \u001b[1;33m\u001b[0m\u001b[0m\n\u001b[0;32m      3\u001b[0m \u001b[0mmodel\u001b[0m\u001b[1;33m=\u001b[0m\u001b[0mSequential\u001b[0m\u001b[1;33m(\u001b[0m\u001b[1;33m)\u001b[0m\u001b[1;33m\u001b[0m\u001b[1;33m\u001b[0m\u001b[0m\n\u001b[0;32m      4\u001b[0m model.add(Conv2D(1,(3,3),actiavion='relu',padding='same',\n\u001b[0;32m      5\u001b[0m                 strides=(1,1),input_shape=(37,100,1)))\n",
      "\u001b[1;31mImportError\u001b[0m: cannot import name 'Sequential' from 'keras.layers' (C:\\Anaconda\\lib\\site-packages\\keras\\layers\\__init__.py)"
     ]
    }
   ],
   "source": [
    "from keras.layers import Sequential\n",
    "\n",
    "model=Sequential()\n",
    "model.add(Conv2D(1,(3,3),actiavion='relu',padding='same',\n",
    "                strides=(1,1),input_shape=(37,100,1)))\n",
    "\n",
    "model.add(Conv2D(1,(3,3),activation='relu'))\n",
    "model.add(MaxPooling2D(pool_size=(2,2)))\n",
    "model.add(Dropout(0.25))\n",
    "model.adD(Flatten())\n",
    "model.add(Dense(128,actiavtion='relu'))\n",
    "model.add(Dropout(0.5))\n",
    "model.add(Dense(1, activation='sigmoid',name='dense_result'))\n",
    "adam=optimizers.Adam(lr=0.001)\n",
    "model.compile(loss='binary_crossentropy',optimizer=adam,\n",
    "             metrics=['accuracy'])#컴파일\n",
    "model.summary() #요약"
   ]
  },
  {
   "cell_type": "code",
   "execution_count": 78,
   "metadata": {},
   "outputs": [
    {
     "name": "stdout",
     "output_type": "stream",
     "text": [
      "Train on 8000 samples, validate on 2000 samples\n",
      "Epoch 1/5\n",
      "8000/8000 [==============================] - 7s 849us/step - loss: 0.7815 - accuracy: 0.4915 - val_loss: 0.6960 - val_accuracy: 0.5235\n",
      "Epoch 2/5\n",
      "8000/8000 [==============================] - 6s 803us/step - loss: 0.6966 - accuracy: 0.5213 - val_loss: 0.6931 - val_accuracy: 0.5185\n",
      "Epoch 3/5\n",
      "8000/8000 [==============================] - 6s 812us/step - loss: 0.6921 - accuracy: 0.5294 - val_loss: 0.6946 - val_accuracy: 0.5055\n",
      "Epoch 4/5\n",
      "8000/8000 [==============================] - 7s 916us/step - loss: 0.6908 - accuracy: 0.5275 - val_loss: 0.6961 - val_accuracy: 0.4950\n"
     ]
    }
   ],
   "source": [
    "from keras.callbacks import EarlyStopping\n",
    "#학습을 조기에 종료시키는 콜백함수\n",
    "#patience=2 2회 이상 개선되지 않음녀 학습중지\n",
    "early_stopping=EarlyStopping(patience=2)\n",
    "hist=model.fit(x=train_input,y=np.array(train_label),\n",
    "              validation_split=0.2,batch_size=64, epochs=5,\n",
    "              verbose=1, callbacks=[early_stopping])"
   ]
  },
  {
   "cell_type": "code",
   "execution_count": 79,
   "metadata": {},
   "outputs": [
    {
     "name": "stdout",
     "output_type": "stream",
     "text": [
      "10000/10000 [==============================] - 6s 551us/step\n",
      "[0.6951363933563233, 0.5113000273704529]\n"
     ]
    }
   ],
   "source": [
    "#모형 평가\n",
    "scores=model.evaluate(np.array(test_input),\n",
    "                     np.array(test_label), batch_size=32,verbose=1)\n",
    "print(scores)"
   ]
  },
  {
   "cell_type": "code",
   "execution_count": 80,
   "metadata": {},
   "outputs": [
    {
     "name": "stderr",
     "output_type": "stream",
     "text": [
      "C:\\Anaconda\\lib\\site-packages\\ipykernel_launcher.py:3: UserWarning: Update your `Model` call to the Keras 2 API: `Model(inputs=Tensor(\"in..., outputs=Tensor(\"de...)`\n",
      "  This is separate from the ipykernel package so we can avoid doing imports until\n"
     ]
    },
    {
     "data": {
      "text/plain": [
       "array([[0.5053984 ],\n",
       "       [0.5053984 ],\n",
       "       [0.4948933 ],\n",
       "       ...,\n",
       "       [0.54160565],\n",
       "       [0.51354176],\n",
       "       [0.5010286 ]], dtype=float32)"
      ]
     },
     "execution_count": 80,
     "metadata": {},
     "output_type": "execute_result"
    }
   ],
   "source": [
    "#CNN 모형의 최종 출력값 : dense_result layer의 출력값 확인\n",
    "m2=Model(inputs=model.input,\n",
    "         output=model.get_layer('dense_result').output)\n",
    "y=m2.predict(test_input)\n",
    "y\n"
   ]
  },
  {
   "cell_type": "code",
   "execution_count": 81,
   "metadata": {},
   "outputs": [],
   "source": [
    "#모형 저장\n",
    "model.save('d:/data/text/text_cnn_keras.model')\n",
    "model.save_weights('d:/data/text/text_cnn.weights')"
   ]
  },
  {
   "cell_type": "code",
   "execution_count": 82,
   "metadata": {},
   "outputs": [
    {
     "name": "stdout",
     "output_type": "stream",
     "text": [
      "[[0.5053984]]\n",
      "1.0\n",
      "너무 좋아 우마소♡사랑스러워\n"
     ]
    }
   ],
   "source": [
    "n=911 #행번호\n",
    "print(model.predict(np.array(train_input)[n].reshape(1,37,100,1)))\n",
    "print(np.array(train_label)[n]) #0.5봐다 크면 1 , 작으면 0\n",
    "print(title_arr[10000+n]) #실제 리뷰내용"
   ]
  },
  {
   "cell_type": "code",
   "execution_count": 83,
   "metadata": {},
   "outputs": [
    {
     "name": "stdout",
     "output_type": "stream",
     "text": [
      "[[0.51354176]]\n",
      "0.0\n",
      "뜬금없는 좀비의 출현... 개연성 없는 스토리... 좀비 영화의 바이블이라기에는 개연성이 부족하다고 느껴진다. 평점 한 개도 아깝다\n"
     ]
    }
   ],
   "source": [
    "n=9998\n",
    "print(model.predict(np.array(test_input)[n].reshape(1,37,100,1)))\n",
    "print(np.array(test_label)[n])\n",
    "print(title_arr[10000+n])"
   ]
  },
  {
   "cell_type": "code",
   "execution_count": null,
   "metadata": {},
   "outputs": [],
   "source": []
  }
 ],
 "metadata": {
  "kernelspec": {
   "display_name": "Python 3",
   "language": "python",
   "name": "python3"
  },
  "language_info": {
   "codemirror_mode": {
    "name": "ipython",
    "version": 3
   },
   "file_extension": ".py",
   "mimetype": "text/x-python",
   "name": "python",
   "nbconvert_exporter": "python",
   "pygments_lexer": "ipython3",
   "version": "3.7.4"
  }
 },
 "nbformat": 4,
 "nbformat_minor": 2
}
