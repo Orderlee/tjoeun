{
 "cells": [
  {
   "cell_type": "markdown",
   "metadata": {},
   "source": [
    "실습예제"
   ]
  },
  {
   "cell_type": "code",
   "execution_count": null,
   "metadata": {},
   "outputs": [],
   "source": [
    "#구구단 계산\n",
    "#텐서플로 버전1 코드\n",
    "\n",
    "import tensorflow.compat.v1 as tf\n",
    "tf.disable_v2_behavior()\n",
    "\n",
    "def gugu(dan):\n",
    "    #플레이스 홀더(그래프의 파라미터)\n",
    "    left = tf.placeholder(tf.int32)\n",
    "    right = tf.placeholder(tf.int32)\n",
    "    #그래프를 그리는 함수\n",
    "    calc = tf.multiply(left,right)\n",
    "    #calc=left*right\n",
    "    \n",
    "    with tf.Session() as sess: #세션을 만들고(auto close)\n",
    "        for i in range(1,10):\n",
    "            #세션을 실행(그래프가 그려짐)\n",
    "            #세션.run(함수,feed_dict={변수,값})\n",
    "            result=sess.run(calc, feed_dict={left: dan, right:i})\n",
    "            print ('{}x{}={}'.format(dan,i,result))\n",
    "            \n",
    "gugu(7)"
   ]
  },
  {
   "cell_type": "code",
   "execution_count": 1,
   "metadata": {},
   "outputs": [
    {
     "name": "stdout",
     "output_type": "stream",
     "text": [
      "8x1=8\n",
      "8x2=16\n",
      "8x3=24\n",
      "8x4=32\n",
      "8x5=40\n",
      "8x6=48\n",
      "8x7=56\n",
      "8x8=64\n",
      "8x9=72\n"
     ]
    }
   ],
   "source": [
    "#구구단 (텐서플로2버전)\n",
    "import tensorflow as tf\n",
    "\n",
    "def calc (left,right):\n",
    "    return tf.multiply(left,right)\n",
    "\n",
    "def gugu(dan):\n",
    "    for i in range(1,10):\n",
    "        #그래프를 그리는 함수 호출\n",
    "        result=calc(dan,i)\n",
    "        print('{}x{}={}'.format(dan,i,result))\n",
    "        \n",
    "gugu(8)"
   ]
  },
  {
   "cell_type": "code",
   "execution_count": null,
   "metadata": {},
   "outputs": [],
   "source": []
  }
 ],
 "metadata": {
  "kernelspec": {
   "display_name": "Python 3",
   "language": "python",
   "name": "python3"
  },
  "language_info": {
   "codemirror_mode": {
    "name": "ipython",
    "version": 3
   },
   "file_extension": ".py",
   "mimetype": "text/x-python",
   "name": "python",
   "nbconvert_exporter": "python",
   "pygments_lexer": "ipython3",
   "version": "3.7.4"
  }
 },
 "nbformat": 4,
 "nbformat_minor": 2
}
