{
 "cells": [
  {
   "cell_type": "markdown",
   "metadata": {},
   "source": [
    "실습예제"
   ]
  },
  {
   "cell_type": "code",
   "execution_count": null,
   "metadata": {},
   "outputs": [],
   "source": [
    "#사인곡선"
   ]
  },
  {
   "cell_type": "code",
   "execution_count": null,
   "metadata": {},
   "outputs": [],
   "source": [
    "import numpy as np\n",
    "# arrange(start,stop,step)\n",
    "a=np.arange(0,10,0.5) #0~10까지 0.5 간격으로 값을 생성\n",
    "data=np.sin(a)\n",
    "print(a)\n",
    "print(data)"
   ]
  },
  {
   "cell_type": "code",
   "execution_count": null,
   "metadata": {},
   "outputs": [],
   "source": [
    "%matplotlib inline\n",
    "import matplotlib.pyplot as plt\n",
    "plt.plot(data)"
   ]
  },
  {
   "cell_type": "code",
   "execution_count": null,
   "metadata": {},
   "outputs": [],
   "source": [
    "timestep=3 #t-3,t-2,t-1 데이터로 t시점으 ㅣ값을 구하고자 함\n",
    "X,y=[],[]\n",
    "for i in range(timestep, len(data)):\n",
    "    print(i)\n",
    "    X.append(np.array([data[i-j] for j in range(timestep,0,-1)] ))\n",
    "    y.append(data[i])\n",
    "\n",
    "print(X[0])\n",
    "print(X[1])\n",
    "print(X[2])\n",
    "print(X[3])\n",
    "#print(y)"
   ]
  },
  {
   "cell_type": "code",
   "execution_count": null,
   "metadata": {},
   "outputs": [],
   "source": [
    "#신경망에 입력하기 위하여 차원 변경 , 신경망에 입력할려면 2차원으로 변경해야함\n",
    "X,y=np.array(X).reshape(len(X),3,1), np.array(y).reshape(len(y),1)"
   ]
  },
  {
   "cell_type": "code",
   "execution_count": null,
   "metadata": {},
   "outputs": [],
   "source": [
    "from keras.models import Sequential\n",
    "from keras.layers import SimpleRNN,Dense\n",
    "\n",
    "np.random.seed(0) #랜덤시드 고정\n",
    "\n",
    "model=Sequential()\n",
    "# 단순한 순환신경망, units 출력노드수 input_shape 입력데이터의 형태\n",
    "model.add(SimpleRNN(units=10, input_shape=(3,1)))\n",
    "model.add(Dense(5, activation='relu'))\n",
    "# 출력층, 출력노드 1개, 활성화함수 linear 값 자체를 예측하고자 할 때\n",
    "model.add(Dense(1, activation='linear'))\n",
    "model.compile(loss='mse',optimizer='sgd')\n",
    "model.summary()"
   ]
  },
  {
   "cell_type": "code",
   "execution_count": null,
   "metadata": {},
   "outputs": [],
   "source": [
    "hist=model.fit(X,y,epochs=1000,verbose=1) #학습"
   ]
  },
  {
   "cell_type": "code",
   "execution_count": null,
   "metadata": {},
   "outputs": [],
   "source": [
    "print(data[3:])\n",
    "print(model.predict(X))\n",
    "plt.plot(data[3:],'ro-',label='real value') #실제값\n",
    "plt.plot(model.predict(X), 'bo-',label='predict value') #예측값\n",
    "plt.legend()\n",
    "plt.show()"
   ]
  },
  {
   "cell_type": "code",
   "execution_count": null,
   "metadata": {},
   "outputs": [],
   "source": [
    "#단어예측"
   ]
  },
  {
   "cell_type": "code",
   "execution_count": null,
   "metadata": {},
   "outputs": [],
   "source": [
    "text=\"\"\"\n",
    "경마장에 있는 말이 뛰고 있다 \\n\n",
    "그의 말이 법이다\\n\n",
    "가는 말이 고와야 오는 말이 곱다\\n\n",
    "그런 식으로 하면 말이 안된다\\n\n",
    "새로 태어난 말이 배가 고프다\\n\n",
    "우리 집 말이 배가 고파요\\n\n",
    "\"\"\""
   ]
  },
  {
   "cell_type": "code",
   "execution_count": null,
   "metadata": {},
   "outputs": [],
   "source": [
    "from tensorflow.keras.preprocessing.text import Tokenizer\n",
    "t=Tokenizer() #단어 집합을 만들고 숫자 인덱스 부여\n",
    "t.fit_on_texts([text])\n",
    "vocab_size=len(t.word_index)+1 #단어 집합의 크기\n",
    "print(vocab_size)\n",
    "print(t.word_index)"
   ]
  },
  {
   "cell_type": "code",
   "execution_count": null,
   "metadata": {},
   "outputs": [],
   "source": [
    "sequences=list()\n",
    "for line in text.split('\\n'): #문장을 나눔\n",
    "    #단어의 인덱스로만 구성된 새로운 리스트\n",
    "    encoded=t.texts_to_sequences([line])[0]\n",
    "    for i in range(1,len(encoded)):\n",
    "        sequence=encoded[:i+1]\n",
    "        sequences.append(sequence)\n",
    "        \n",
    "print('샘플 갯수:',len(sequences))\n",
    "print(sequences)"
   ]
  },
  {
   "cell_type": "code",
   "execution_count": null,
   "metadata": {},
   "outputs": [],
   "source": [
    "max_len=max(len(l) for l in sequences)\n",
    "print(max_len) #샘플의 최대 길이"
   ]
  },
  {
   "cell_type": "code",
   "execution_count": null,
   "metadata": {},
   "outputs": [],
   "source": [
    "from tensorflow.keras.preprocessing.sequence import pad_sequences\n",
    "#샘플의 최대 길이에 맞추는 과정\n",
    "sequences=pad_sequences(sequences, maxlen= max_len, padding='pre')\n",
    "print(sequences)"
   ]
  },
  {
   "cell_type": "code",
   "execution_count": null,
   "metadata": {},
   "outputs": [],
   "source": [
    "import numpy as np\n",
    "sequences=np.array(sequences)\n",
    "X=sequences[:,:-1] #독립변수\n",
    "y=sequences[:,-1] #종속변수\n",
    "print(X)\n",
    "print(y)"
   ]
  },
  {
   "cell_type": "code",
   "execution_count": null,
   "metadata": {},
   "outputs": [],
   "source": [
    "a=[[1,2,3],[4,5],[6,7,8,9]]\n",
    "print(a)\n",
    "print(pad_sequences(a))#최대 사이즈에 맞추어 왼쪽에 0이 채워짐\n",
    "print(pad_sequences(a,padding='post')) #오른쪽에 0이 채워짐\n",
    "print(pad_sequences(a,padding='post',value=1)) #1을 채움\n",
    "print(pad_sequences(a,padding='post',maxlen=3)) #최대 사이즈 설정\n",
    "#실제크기보다 최대 사이즈가 작을 경우 오른쪽을 삭제\n",
    "print(pad_sequences(a,padding='post',maxlen=3,truncating='post'))"
   ]
  },
  {
   "cell_type": "code",
   "execution_count": null,
   "metadata": {},
   "outputs": [],
   "source": [
    "import numpy as np\n",
    "sequences=np.array(sequences)\n",
    "X=sequences[:, :-1] #독립변수\n",
    "y=sequences[:,-1] #종속변수\n",
    "print(X)\n",
    "print(y)"
   ]
  },
  {
   "cell_type": "code",
   "execution_count": null,
   "metadata": {},
   "outputs": [],
   "source": [
    "from keras.utils import np_utils\n",
    "#출력값에 대한 원핫인코딩\n",
    "y=np_utils.to_categorical(y, num_classes=vocab_size)\n",
    "print(y.shape)\n",
    "print(y)"
   ]
  },
  {
   "cell_type": "code",
   "execution_count": null,
   "metadata": {},
   "outputs": [],
   "source": [
    "from keras.models import Sequential\n",
    "from keras.layers import Dense,Embedding,SimpleRNN\n",
    "\n",
    "model=Sequential()\n",
    "#Embedding(단어갯수, 벡터크기, 입력사이즈)\n",
    "model.add(Embedding(vocab_size,10,input_length=max_len-1))\n",
    "model.add(SimpleRNN(32))\n",
    "#출력노드\n",
    "model.add(Dense(vocab_size, activation='softmax'))\n",
    "model.compile(loss='categorical_crossentropy',optimizer='adam',metrics=['accuracy'])\n",
    "model.summary()"
   ]
  },
  {
   "cell_type": "code",
   "execution_count": null,
   "metadata": {},
   "outputs": [],
   "source": [
    "words={'I':0,'am':1,'a':2,'boy':3}\n",
    "print(words.items())\n",
    "embeddings=model.layers[0].get_weights()[0]\n",
    "words_embeddings={w:embeddings[idx] for w,idx in words.items()}\n",
    "print(words_embeddings)\n",
    "print(words_embeddings['boy'])"
   ]
  },
  {
   "cell_type": "code",
   "execution_count": null,
   "metadata": {},
   "outputs": [],
   "source": [
    "model.fit(X,y,epochs=200,verbose=2)"
   ]
  },
  {
   "cell_type": "code",
   "execution_count": null,
   "metadata": {},
   "outputs": [],
   "source": [
    "def sentence_generation(model,t,current_word,n):\n",
    "    init_word=current_word\n",
    "    sentence=''\n",
    "    for _ in range(n):\n",
    "        #현재 단어데 대한 정수 인코딩\n",
    "        encoded=t.texts_to_sequences([current_word])[0]\n",
    "        #사이즈를 맞추기 위한 패딩 처리\n",
    "        encoded=pad_sequences([encoded],maxlen=max_len-1,\n",
    "                             padding='pre')\n",
    "        #입력값으로 단어를 예측하고\n",
    "        result=model.predict_classes(encoded,verbose=0)\n",
    "        for word,index in t.word_index.items():\n",
    "            #같은 단어이면\n",
    "            if index==result:\n",
    "                break\n",
    "        #현재 단어에 연결\n",
    "        current_word=current_word + ' ' + word\n",
    "        #문장에 추가\n",
    "        sentence = sentence + ' ' + word\n",
    "    sentence= init_word + sentence\n",
    "    return sentence"
   ]
  },
  {
   "cell_type": "code",
   "execution_count": null,
   "metadata": {},
   "outputs": [],
   "source": [
    "print(sentence_generation(model, t, '경마장에',4))\n",
    "print(sentence_generation(model, t, '그의',2))\n",
    "print(sentence_generation(model, t, '가는',5))\n",
    "print(sentence_generation(model, t, '그런',4))\n",
    "print(sentence_generation(model, t, '새로',4))\n",
    "print(sentence_generation(model, t, '우리',4))"
   ]
  },
  {
   "cell_type": "code",
   "execution_count": null,
   "metadata": {},
   "outputs": [],
   "source": [
    "#주가예측"
   ]
  },
  {
   "cell_type": "code",
   "execution_count": null,
   "metadata": {},
   "outputs": [],
   "source": [
    "import pandas as pd\n",
    "\n",
    "df=pd.read_csv('d:/data/time/data2.csv')\n",
    "df.head()"
   ]
  },
  {
   "cell_type": "code",
   "execution_count": null,
   "metadata": {},
   "outputs": [],
   "source": [
    "df.info()"
   ]
  },
  {
   "cell_type": "code",
   "execution_count": null,
   "metadata": {},
   "outputs": [],
   "source": [
    "%matplotlib inline\n",
    "from pandas.tseries.offsets import MonthEnd\n",
    "#날짜 필드를 날짜형으로 바꾸고 해당 월의 마지막날짜로 지정\n",
    "df['date']=pd.to_datetime(df['date'])+MonthEnd(1)\n",
    "print(df['date'])\n",
    "#날짜를 row index로 지정\n",
    "df=df.set_index('date')\n",
    "print(df)\n",
    "df.plot()"
   ]
  },
  {
   "cell_type": "code",
   "execution_count": null,
   "metadata": {},
   "outputs": [],
   "source": [
    "import matplotlib.pyplot as plt\n",
    "#기준일자 지정\n",
    "split_data=pd.Timestamp('01-01-2011') #2011년 1월 1일 기준\n",
    "train=df.loc[:split_data, ['price']] #학습용\n",
    "test=df.loc[split_data:,['price']] #검증용\n",
    "ax=train.plot()\n",
    "test.plot(ax=ax)\n",
    "plt.legend(['train','test'])"
   ]
  },
  {
   "cell_type": "code",
   "execution_count": null,
   "metadata": {},
   "outputs": [],
   "source": [
    "#0~1 정규화\n",
    "from sklearn.preprocessing import MinMaxScaler\n",
    "sc=MinMaxScaler()\n",
    "sc.fit(train) #학습\n",
    "train_sc = sc.transform(train) #변환\n",
    "test_sc = sc.transform(test)\n",
    "\n",
    "#train_sc\n",
    "print(train['price'][:10])\n",
    "print(train_sc[:10])"
   ]
  },
  {
   "cell_type": "code",
   "execution_count": null,
   "metadata": {},
   "outputs": [],
   "source": [
    "#넘파이배열을 데이터프레임으로 변환\n",
    "train_sc_df=pd.DataFrame(train_sc, columns=['Scaled'],\n",
    "                        index=train.index)\n",
    "test_sc_df=pd.DataFrame(test_sc, columns=['Scaled'],\n",
    "                       index=test.index)\n",
    "train_sc_df.head()"
   ]
  },
  {
   "cell_type": "code",
   "execution_count": null,
   "metadata": {},
   "outputs": [],
   "source": [
    "s=pd.Series([100,200,300,400,500,600,700,800,900,1000])\n",
    "# s2=s.shift(1) #오른쪽으로 1쉬프트 시킴\n",
    "# s3=s.shift(2) #오른쪽으로 2쉬프트 시킴\n",
    "# s4=s.shift(3) #오른쪽으로 3쉬프트 시킴\n",
    "s2=s.shift(-1) #왼쪽으로 1쉬프트 시킴\n",
    "s3=s.shift(-2) #왼쪽으로 2쉬프트 시킴\n",
    "s4=s.shift(-3) #왼쪽으로 3쉬프트 시킴\n",
    "print(s.values)\n",
    "print(s2.values)\n",
    "print(s3.values)\n",
    "print(s4.values)"
   ]
  },
  {
   "cell_type": "code",
   "execution_count": null,
   "metadata": {},
   "outputs": [],
   "source": [
    "#timestep을 12로 설정하여 쉬프트시킨 데이터\n",
    "for s in range(1,13):\n",
    "    train_sc_df['shift_{}'.format(s)]=train_sc_df['Scaled'].shift(s)\n",
    "    test_sc_df['shift_{}'.format(s)]=test_sc_df['Scaled'].shift(s)"
   ]
  },
  {
   "cell_type": "code",
   "execution_count": null,
   "metadata": {},
   "outputs": [],
   "source": [
    "train_sc_df.head()"
   ]
  },
  {
   "cell_type": "code",
   "execution_count": null,
   "metadata": {},
   "outputs": [],
   "source": [
    "#NAN 제거\n",
    "X_train=train_sc_df.dropna().drop('Scaled',axis=1)\n",
    "y_train=train_sc_df.dropna()[['Scaled']]\n",
    "X_test=test_sc_df.dropna().drop('Scaled',axis=1)\n",
    "y_test=test_sc_df.dropna()[['Scaled']]\n",
    "\n",
    "X_train.head()"
   ]
  },
  {
   "cell_type": "code",
   "execution_count": null,
   "metadata": {},
   "outputs": [],
   "source": [
    "#넘파이배열로 저장\n",
    "X_train=X_train.values\n",
    "X_test=X_test.values\n",
    "y_train=y_train.values\n",
    "y_test=y_test.values\n",
    "print(X_train.shape)"
   ]
  },
  {
   "cell_type": "code",
   "execution_count": null,
   "metadata": {},
   "outputs": [],
   "source": [
    "#신경망에 입력하기 위하여 3차원 데이터로 변환\n",
    "X_train_t=X_train.reshape(X_train.shape[0],12,1)\n",
    "X_test_t=X_test.reshape(X_test.shape[0],12,1)"
   ]
  },
  {
   "cell_type": "code",
   "execution_count": null,
   "metadata": {},
   "outputs": [],
   "source": [
    "#신경망 모형\n",
    "from keras.layers import LSTM,Dense\n",
    "from keras.models import Sequential\n",
    "model=Sequential()\n",
    "#Long Short Term Momory, RNN 모형의 일종\n",
    "#input_shape=(timestep,변수갯수)\n",
    "model.add(LSTM(20, input_shape=(12,1)))\n",
    "model.add(Dense(1)) #출력층, 노드수 1개\n",
    "model.compile(loss='mean_squared_error',optimizer='adam')\n",
    "model.summary()"
   ]
  },
  {
   "cell_type": "code",
   "execution_count": null,
   "metadata": {},
   "outputs": [],
   "source": [
    "#학습과정\n",
    "model.fit(X_train_t,y_train, epochs=250, batch_size=30, verbose=1)"
   ]
  },
  {
   "cell_type": "code",
   "execution_count": null,
   "metadata": {},
   "outputs": [],
   "source": [
    "y_pred=model.predict(X_test_t)\n",
    "print(y_pred.flatten()[:10])#예측값\n",
    "print(y_test.flatten()[:10])#실제값"
   ]
  },
  {
   "cell_type": "code",
   "execution_count": null,
   "metadata": {},
   "outputs": [],
   "source": [
    "#실제값 - 예측값의 평균\n",
    "import numpy as np\n",
    "np.mean(y_test.flatten() - y_pred.flatten())"
   ]
  },
  {
   "cell_type": "code",
   "execution_count": null,
   "metadata": {},
   "outputs": [],
   "source": [
    "#실제값과 예측값의 비교 그래프\n",
    "plt.plot(y_test.flatten(), 'ro-',label='real value')\n",
    "plt.plot(y_pred.flatten(), 'bo-',label='predict value')\n",
    "plt.legend()\n",
    "plt.show()"
   ]
  },
  {
   "cell_type": "code",
   "execution_count": null,
   "metadata": {},
   "outputs": [],
   "source": [
    "# imdb 영화리뷰 분류"
   ]
  },
  {
   "cell_type": "code",
   "execution_count": null,
   "metadata": {},
   "outputs": [],
   "source": [
    "import numpy as np\n",
    "from keras.datasets import imdb\n",
    "from keras.preprocessing import sequence\n",
    "\n",
    "\n",
    "np.random.seed(7) #랜덤 시드 고정\n",
    "\n",
    "top_words=5000 #상위 단어 5000개 선택\n",
    "#영화리뷰 데이터를 다운로드한 후 학습용, 검증용으로 구분\n",
    "\n",
    "(X_train,y_train),(X_test,y_test)=imdb.load_data(num_words=top_words)\n",
    "\n",
    "print(X_train.shape, y_train.shape)\n",
    "print(X_test.shape, y_test.shape)"
   ]
  },
  {
   "cell_type": "code",
   "execution_count": null,
   "metadata": {},
   "outputs": [],
   "source": [
    "for row in X_train[:50]:\n",
    "    print(len(row),end=' ')"
   ]
  },
  {
   "cell_type": "code",
   "execution_count": null,
   "metadata": {},
   "outputs": [],
   "source": [
    "max_review_length=500 #리뷰의 최대 길이를 설정\n",
    "#패딩을 추가하여 길이를 맞춤\n",
    "X_train=sequence.pad_sequences(X_train,maxlen=max_review_length)\n",
    "X_test=sequence.pad_sequences(X_test,maxlen=max_review_length)\n",
    "print(X_train.shape)\n",
    "print(X_test.shape)"
   ]
  },
  {
   "cell_type": "code",
   "execution_count": null,
   "metadata": {},
   "outputs": [],
   "source": [
    "for row in X_train[:50]:\n",
    "    print(len(row),end=' ')"
   ]
  },
  {
   "cell_type": "code",
   "execution_count": null,
   "metadata": {},
   "outputs": [],
   "source": [
    "from keras.models import Sequential\n",
    "from keras.layers.embeddings import Embedding\n",
    "from keras.layers import Dense,LSTM\n",
    "from keras.layers.convolutional import Conv1D, MaxPooling1D\n",
    "\n",
    "embedding_vector_length=32 #벡터사이즈\n",
    "model=Sequential()\n",
    "# Embedding(단어의갯수, 벡터크기,입력사이즈)\n",
    "model.add(Embedding(top_words,embedding_vector_length,\n",
    "                   input_length=max_review_length))\n",
    "#filters 필터 갯수, kernel_size 필터의 사이즈\n",
    "model.add(Conv1D(filters=32, kernel_size=3, activation='relu'))\n",
    "model.add(MaxPooling1D(pool_size=2))\n",
    "model.add(LSTM(100)) #타임스텝을 100으로 설정한 순환 레이어\n",
    "model.add(Dense(1, activation='sigmoid')) #출력층\n",
    "model.compile(loss='binary_crossentropy',optimizer='adam',\n",
    "             metrics=['accuracy'])\n",
    "model.summary()"
   ]
  },
  {
   "cell_type": "code",
   "execution_count": null,
   "metadata": {},
   "outputs": [],
   "source": [
    "#학습과정\n",
    "hist=model.fit(X_train[:1000],y_train[:1000],epochs=10,\n",
    "              batch_size=64,validation_split=0.2)"
   ]
  },
  {
   "cell_type": "code",
   "execution_count": null,
   "metadata": {},
   "outputs": [],
   "source": [
    "#모형평가\n",
    "scores=model.evaluate(X_train[:1000],y_train[:1000],verbose=1)\n",
    "print(scores)\n",
    "scores=model.evaluate(X_test[:1000],y_test[:1000],verbose=1)\n",
    "print(scores)"
   ]
  },
  {
   "cell_type": "code",
   "execution_count": null,
   "metadata": {},
   "outputs": [],
   "source": [
    "#학습과정 그래프\n",
    "%matplotlib inline\n",
    "import matplotlib.pyplot as plt\n",
    "\n",
    "plt.plot(hist.history['loss'])\n",
    "plt.plot(hist.history['accuracy'])\n",
    "plt.plot(hist.history['val_loss'])\n",
    "plt.plot(hist.history['val_accuracy'])\n",
    "plt.legend(['loss','accuracy','val_loss','val_accuracy'])\n",
    "plt.grid()\n",
    "plt.show()"
   ]
  },
  {
   "cell_type": "code",
   "execution_count": null,
   "metadata": {},
   "outputs": [],
   "source": [
    "#로이터 뉴스 분류"
   ]
  },
  {
   "cell_type": "code",
   "execution_count": null,
   "metadata": {},
   "outputs": [],
   "source": [
    "from keras.datasets import reuters\n",
    "#로이터 뉴스 데이터셋 다운로드\n",
    "#학습용 검증용 8:2로 구분, 뉴스별 최대 단어 갯수 100개로 설정\n",
    "(X_train, y_train),(X_test,y_test) = reuters.load_data(\n",
    "num_words=1000,test_split=0.2)"
   ]
  },
  {
   "cell_type": "code",
   "execution_count": null,
   "metadata": {},
   "outputs": [],
   "source": [
    "for x in X_train[:50]:\n",
    "    print(len(x),end=' ')\n",
    "    \n",
    "print(X_train[10])"
   ]
  },
  {
   "cell_type": "code",
   "execution_count": null,
   "metadata": {},
   "outputs": [],
   "source": [
    "from keras.preprocessing import sequence\n",
    "#가로 길이 50으로 설정하여 사이즈를 맞춤(공백은 0으로 채움)\n",
    "X_train=sequence.pad_sequences(X_train,maxlen=50)\n",
    "X_test=sequence.pad_sequences(X_test,maxlen=50)"
   ]
  },
  {
   "cell_type": "code",
   "execution_count": null,
   "metadata": {},
   "outputs": [],
   "source": [
    "for x in X_train[:50]:\n",
    "    print(len(x),end=' ')\n",
    "    \n",
    "print(X_train[10])"
   ]
  },
  {
   "cell_type": "code",
   "execution_count": null,
   "metadata": {},
   "outputs": [],
   "source": [
    "for i in range(50):\n",
    "    print(y_train[i], end=' ')"
   ]
  },
  {
   "cell_type": "code",
   "execution_count": null,
   "metadata": {},
   "outputs": [],
   "source": [
    "from keras.utils import np_utils\n",
    "# 뉴스 카테고리 46개, 원핫인코딩\n",
    "y_train=np_utils.to_categorical(y_train)\n",
    "y_test=np_utils.to_categorical(y_test)"
   ]
  },
  {
   "cell_type": "code",
   "execution_count": null,
   "metadata": {},
   "outputs": [],
   "source": [
    "for i in range(3):\n",
    "    print(y_train[i], end=' ')"
   ]
  },
  {
   "cell_type": "code",
   "execution_count": null,
   "metadata": {},
   "outputs": [],
   "source": [
    "from keras.models import Sequential\n",
    "from keras.layers import Dense,LSTM,Embedding\n",
    "model=Sequential()\n",
    "#임베딩 레이어, Embedding(단어갯수, 벡터사이즈, 입력사이즈)\n",
    "model.add(Embedding(1000,100,input_length=50))\n",
    "model.add(LSTM(100)) #타임스텝을 100으로 설정\n",
    "model.add(Dense(46,activation='softmax'))\n",
    "model.compile(loss='categorical_crossentropy',optimizer='adam',\n",
    "             metrics=['accuracy'])\n",
    "model.summary()"
   ]
  },
  {
   "cell_type": "code",
   "execution_count": null,
   "metadata": {},
   "outputs": [],
   "source": [
    "hist=model.fit(X_train,y_train,batch_size=100,epochs=20,\n",
    "              validation_split=0.2)"
   ]
  },
  {
   "cell_type": "code",
   "execution_count": null,
   "metadata": {},
   "outputs": [],
   "source": [
    "print(model.evaluate(X_train,y_train))\n",
    "print(model.evaluate(X_test,y_test))"
   ]
  },
  {
   "cell_type": "code",
   "execution_count": null,
   "metadata": {},
   "outputs": [],
   "source": [
    "%matplotlib inline\n",
    "import matplotlib.pyplot as plt\n",
    "\n",
    "plt.plot(hist.history['loss'])\n",
    "plt.plot(hist.history['val_loss'])\n",
    "plt.plot(hist.history['accuracy'])\n",
    "plt.plot(hist.history['val_accuracy'])\n",
    "plt.legend(['loss','val_loss','accuracy','val_accuracy'])\n",
    "plt.show()"
   ]
  },
  {
   "cell_type": "code",
   "execution_count": null,
   "metadata": {},
   "outputs": [],
   "source": [
    "#스팸메일 분류"
   ]
  },
  {
   "cell_type": "code",
   "execution_count": null,
   "metadata": {},
   "outputs": [],
   "source": [
    "import pandas as pd\n",
    "df=pd.read_csv('d:/data/spam/spam.csv', encoding='latin1')\n",
    "df.head()"
   ]
  },
  {
   "cell_type": "code",
   "execution_count": null,
   "metadata": {},
   "outputs": [],
   "source": [
    "# ham=>0 spam=>1로 저장\n",
    "df['v1']=df['v1'].replace(['ham','spam'],[0,1])\n",
    "df.head()"
   ]
  },
  {
   "cell_type": "code",
   "execution_count": null,
   "metadata": {},
   "outputs": [],
   "source": [
    "df.shape"
   ]
  },
  {
   "cell_type": "code",
   "execution_count": null,
   "metadata": {},
   "outputs": [],
   "source": [
    "%matplotlib inline\n",
    "print(df['v1'].value_counts())\n",
    "df['v1'].value_counts().plot(kind='bar')"
   ]
  },
  {
   "cell_type": "code",
   "execution_count": null,
   "metadata": {},
   "outputs": [],
   "source": [
    "X=df[['v2']] #독립변수\n",
    "y=df[['v1']] #종속변수"
   ]
  },
  {
   "cell_type": "code",
   "execution_count": null,
   "metadata": {},
   "outputs": [],
   "source": [
    "#언더샘플링\n",
    "from imblearn.under_sampling import RandomUnderSampler\n",
    "X_sample,y_sample=RandomUnderSampler(random_state=0).fit_sample(X,y)\n",
    "X_samp=pd.DataFrame(data=X_sample,columns=['v2'])\n",
    "y_samp=pd.DataFrame(data=y_sample,columns=['v1'])\n",
    "df_samp=pd.concat([X_samp,y_samp],axis=1)"
   ]
  },
  {
   "cell_type": "code",
   "execution_count": null,
   "metadata": {},
   "outputs": [],
   "source": [
    "print(df_samp['v1'].value_counts())\n",
    "df_samp['v1'].value_counts().plot(kind='bar')"
   ]
  },
  {
   "cell_type": "code",
   "execution_count": null,
   "metadata": {},
   "outputs": [],
   "source": [
    "X=df_samp['v2']\n",
    "y=df_samp['v1']"
   ]
  },
  {
   "cell_type": "code",
   "execution_count": null,
   "metadata": {},
   "outputs": [],
   "source": [
    "from tensorflow.keras.preprocessing.text import Tokenizer\n",
    "tokenizer = Tokenizer()\n",
    "# 단어집합을 만들고 단어마다 고유한 숫자 인덱스 부여\n",
    "tokenizer.fit_on_texts(X)\n",
    "# 단어의 숫자 인덱스로만 구성된 새로운 리스트로 변환\n",
    "sequences=tokenizer.texts_to_sequences(X)\n",
    "#print(sequences[:5])\n",
    "print(X[0])\n",
    "print(sequences[0])"
   ]
  },
  {
   "cell_type": "code",
   "execution_count": null,
   "metadata": {},
   "outputs": [],
   "source": [
    "#단어와 인덱스 목록\n",
    "word_to_index=tokenizer.word_index\n",
    "print(word_to_index)"
   ]
  },
  {
   "cell_type": "code",
   "execution_count": null,
   "metadata": {},
   "outputs": [],
   "source": [
    "[len(l) for l in X_data]"
   ]
  },
  {
   "cell_type": "code",
   "execution_count": null,
   "metadata": {},
   "outputs": [],
   "source": [
    "max(len(l) for l in X_data)"
   ]
  },
  {
   "cell_type": "code",
   "execution_count": null,
   "metadata": {},
   "outputs": [],
   "source": [
    "list(map(len,X_data)) #전체 갯수"
   ]
  },
  {
   "cell_type": "code",
   "execution_count": null,
   "metadata": {},
   "outputs": [],
   "source": [
    "import matplotlib.pyplot as plt\n",
    "X_data=sequences\n",
    "print('메일의 최대 길이:',max(len(l) for l in X_data))\n",
    "print('메일의 평균 길이:',(sum(map(len,X_data))/len(X_data)))\n",
    "plt.hist([len(s) for s in X_data], bins=50)\n",
    "plt.xlabel('lenght of samples')\n",
    "plt.ylabel('number of samples')\n",
    "plt.show()"
   ]
  },
  {
   "cell_type": "code",
   "execution_count": null,
   "metadata": {},
   "outputs": [],
   "source": [
    "from tensorflow.keras.preprocessing.sequence import pad_sequences\n",
    "#최대 사이즈 77에 맞추어 패딩 처리(가로 사이즈를 맞추는 작업)\n",
    "data=pad_sequences(X_data,maxlen=77)"
   ]
  },
  {
   "cell_type": "code",
   "execution_count": null,
   "metadata": {},
   "outputs": [],
   "source": [
    "#학습용:검증용 8:2로 구분\n",
    "from sklearn.model_selection import train_test_split\n",
    "X_train,X_test,y_train,y_test=train_test_split(data,y,test_size=0.2,stratify=y,random_state=10)"
   ]
  },
  {
   "cell_type": "code",
   "execution_count": null,
   "metadata": {},
   "outputs": [],
   "source": [
    "#신경망 모형\n",
    "from tensorflow.keras.layers import Embedding,Dense,LSTM,SimpleRNN\n",
    "from tensorflow.keras.models import Sequential\n",
    "model=Sequential()\n",
    "# Embdeeing(입력사이즈,출력사이즈)\n",
    "model.add(Embedding(len(word_to_index)+1,32)) #입력층\n",
    "model.add(SimpleRNN(32)) #순환층\n",
    "#model.add(LSTM(32)) #타임스텝을 32로 설정\n",
    "model.add(Dense(1, activation='sigmoid')) #출력층\n",
    "model.compile(optimizer='rmsprop',loss='binary_crossentropy',\n",
    "             metrics=['accuracy'])\n",
    "model.summary()"
   ]
  },
  {
   "cell_type": "code",
   "execution_count": null,
   "metadata": {},
   "outputs": [],
   "source": [
    "hist=model.fit(X_train,y_train.values, epochs=10,\n",
    "              batch_size=64, validation_split=0.2)"
   ]
  },
  {
   "cell_type": "code",
   "execution_count": null,
   "metadata": {},
   "outputs": [],
   "source": [
    "model.evaluate(X_test, y_test.values, verbose=0)"
   ]
  },
  {
   "cell_type": "code",
   "execution_count": null,
   "metadata": {},
   "outputs": [],
   "source": [
    "plt.plot(hist.history['loss'])\n",
    "plt.plot(hist.history['val_loss'])\n",
    "plt.plot(hist.history['accuracy'])\n",
    "plt.plot(hist.history['val_accuracy'])\n",
    "plt.legend(['loss','val_loss','accuracy','val_accuracy'])\n",
    "plt.show()"
   ]
  },
  {
   "cell_type": "code",
   "execution_count": null,
   "metadata": {},
   "outputs": [],
   "source": [
    "#한글 텍스트 분류"
   ]
  },
  {
   "cell_type": "code",
   "execution_count": 1,
   "metadata": {},
   "outputs": [
    {
     "data": {
      "text/html": [
       "<div>\n",
       "<style scoped>\n",
       "    .dataframe tbody tr th:only-of-type {\n",
       "        vertical-align: middle;\n",
       "    }\n",
       "\n",
       "    .dataframe tbody tr th {\n",
       "        vertical-align: top;\n",
       "    }\n",
       "\n",
       "    .dataframe thead th {\n",
       "        text-align: right;\n",
       "    }\n",
       "</style>\n",
       "<table border=\"1\" class=\"dataframe\">\n",
       "  <thead>\n",
       "    <tr style=\"text-align: right;\">\n",
       "      <th></th>\n",
       "      <th>document</th>\n",
       "      <th>label</th>\n",
       "    </tr>\n",
       "  </thead>\n",
       "  <tbody>\n",
       "    <tr>\n",
       "      <td>0</td>\n",
       "      <td>아 더빙.. 진짜 짜증나네요 목소리</td>\n",
       "      <td>0</td>\n",
       "    </tr>\n",
       "    <tr>\n",
       "      <td>1</td>\n",
       "      <td>흠...포스터보고 초딩영화줄....오버연기조차 가볍지 않구나</td>\n",
       "      <td>1</td>\n",
       "    </tr>\n",
       "    <tr>\n",
       "      <td>2</td>\n",
       "      <td>너무재밓었다그래서보는것을추천한다</td>\n",
       "      <td>0</td>\n",
       "    </tr>\n",
       "    <tr>\n",
       "      <td>3</td>\n",
       "      <td>교도소 이야기구먼 ..솔직히 재미는 없다..평점 조정</td>\n",
       "      <td>0</td>\n",
       "    </tr>\n",
       "    <tr>\n",
       "      <td>4</td>\n",
       "      <td>사이몬페그의 익살스런 연기가 돋보였던 영화!스파이더맨에서 늙어보이기만 했던 커스틴 ...</td>\n",
       "      <td>1</td>\n",
       "    </tr>\n",
       "  </tbody>\n",
       "</table>\n",
       "</div>"
      ],
      "text/plain": [
       "                                            document  label\n",
       "0                                아 더빙.. 진짜 짜증나네요 목소리      0\n",
       "1                  흠...포스터보고 초딩영화줄....오버연기조차 가볍지 않구나      1\n",
       "2                                  너무재밓었다그래서보는것을추천한다      0\n",
       "3                      교도소 이야기구먼 ..솔직히 재미는 없다..평점 조정      0\n",
       "4  사이몬페그의 익살스런 연기가 돋보였던 영화!스파이더맨에서 늙어보이기만 했던 커스틴 ...      1"
      ]
     },
     "execution_count": 1,
     "metadata": {},
     "output_type": "execute_result"
    }
   ],
   "source": [
    "import pandas as pd\n",
    "df=pd.read_csv('d:/data/text/ratings_all.csv',encoding='ms949')\n",
    "df.head()"
   ]
  },
  {
   "cell_type": "code",
   "execution_count": 2,
   "metadata": {},
   "outputs": [
    {
     "name": "stdout",
     "output_type": "stream",
     "text": [
      "1    100000\n",
      "0    100000\n",
      "Name: label, dtype: int64\n"
     ]
    },
    {
     "data": {
      "text/plain": [
       "<matplotlib.axes._subplots.AxesSubplot at 0x1995417ba88>"
      ]
     },
     "execution_count": 2,
     "metadata": {},
     "output_type": "execute_result"
    },
    {
     "data": {
      "image/png": "[encoded data removed]",
      "text/plain": [
       "<Figure size 432x288 with 1 Axes>"
      ]
     },
     "metadata": {
      "needs_background": "light"
     },
     "output_type": "display_data"
    }
   ],
   "source": [
    "%matplotlib inline\n",
    "print(df['label'].value_counts())\n",
    "df['label'].value_counts().plot(kind='bar')"
   ]
  },
  {
   "cell_type": "code",
   "execution_count": 3,
   "metadata": {},
   "outputs": [
    {
     "name": "stdout",
     "output_type": "stream",
     "text": [
      "I am a boy.#,:;!$!나는 소년이다.\n",
      "I am a boy \n",
      "나는소년이다\n"
     ]
    }
   ],
   "source": [
    "import re\n",
    "text='I am a boy.#,:;!$!나는 소년이다.'\n",
    "print(text)\n",
    "#정규표현식\n",
    "# [^] not\n",
    "print(re.sub('[^a-zA-Z ]','',text)) #영문자,공백만 허용\n",
    "print(re.sub('[^ㄱ-하-ㅣ가-힣]','',text)) #한글,공백만 허용\n"
   ]
  },
  {
   "cell_type": "code",
   "execution_count": 4,
   "metadata": {},
   "outputs": [
    {
     "data": {
      "text/plain": [
       "0                                         아 더빙 진짜 짜증나네요 목소리\n",
       "1                                흠포스터보고 초딩영화줄오버연기조차 가볍지 않구나\n",
       "2                                         너무재밓었다그래서보는것을추천한다\n",
       "3                                 교도소 이야기구먼 솔직히 재미는 없다평점 조정\n",
       "4         사이몬페그의 익살스런 연기가 돋보였던 영화스파이더맨에서 늙어보이기만 했던 커스틴 던...\n",
       "                                ...                        \n",
       "199995            오랜만에 평점 로긴했네ㅋㅋ 킹왕짱 쌈뽕한 영화를 만났습니다 강렬하게 육쾌함\n",
       "199996             의지 박약들이나 하는거다 탈영은 일단 주인공 김대희 닮았고 이등병 찐따 \n",
       "199997                      그림도 좋고 완성도도 높았지만 보는 내내 불안하게 만든다\n",
       "199998           절대 봐서는 안 될 영화 재미도 없고 기분만 잡치고 한 세트장에서 다 해먹네\n",
       "199999                                           마무리는 또 왜이래\n",
       "Name: document, Length: 200000, dtype: object"
      ]
     },
     "execution_count": 4,
     "metadata": {},
     "output_type": "execute_result"
    }
   ],
   "source": [
    "df['document']=df['document'].str.replace('[^ㄱ-ㅎㅏ-ㅣ가-힣 ]','')\n",
    "df['document']"
   ]
  },
  {
   "cell_type": "code",
   "execution_count": 5,
   "metadata": {},
   "outputs": [],
   "source": [
    "import numpy as np\n",
    "# '' 빈문자열을 np.nan으로 바꾸고 기존 데이터프레임 내용을 변경시킴\n",
    "df['document'].replace('',np.nan,inplace=True)"
   ]
  },
  {
   "cell_type": "code",
   "execution_count": 6,
   "metadata": {},
   "outputs": [
    {
     "data": {
      "text/html": [
       "<div>\n",
       "<style scoped>\n",
       "    .dataframe tbody tr th:only-of-type {\n",
       "        vertical-align: middle;\n",
       "    }\n",
       "\n",
       "    .dataframe tbody tr th {\n",
       "        vertical-align: top;\n",
       "    }\n",
       "\n",
       "    .dataframe thead th {\n",
       "        text-align: right;\n",
       "    }\n",
       "</style>\n",
       "<table border=\"1\" class=\"dataframe\">\n",
       "  <thead>\n",
       "    <tr style=\"text-align: right;\">\n",
       "      <th></th>\n",
       "      <th>document</th>\n",
       "      <th>label</th>\n",
       "    </tr>\n",
       "  </thead>\n",
       "  <tbody>\n",
       "    <tr>\n",
       "      <td>584</td>\n",
       "      <td>NaN</td>\n",
       "      <td>0</td>\n",
       "    </tr>\n",
       "    <tr>\n",
       "      <td>593</td>\n",
       "      <td>NaN</td>\n",
       "      <td>0</td>\n",
       "    </tr>\n",
       "    <tr>\n",
       "      <td>638</td>\n",
       "      <td>NaN</td>\n",
       "      <td>0</td>\n",
       "    </tr>\n",
       "    <tr>\n",
       "      <td>668</td>\n",
       "      <td>NaN</td>\n",
       "      <td>0</td>\n",
       "    </tr>\n",
       "    <tr>\n",
       "      <td>1058</td>\n",
       "      <td>NaN</td>\n",
       "      <td>0</td>\n",
       "    </tr>\n",
       "  </tbody>\n",
       "</table>\n",
       "</div>"
      ],
      "text/plain": [
       "     document  label\n",
       "584       NaN      0\n",
       "593       NaN      0\n",
       "638       NaN      0\n",
       "668       NaN      0\n",
       "1058      NaN      0"
      ]
     },
     "execution_count": 6,
     "metadata": {},
     "output_type": "execute_result"
    }
   ],
   "source": [
    "df.loc[df.document.isnull()][:5] #결측값 확인"
   ]
  },
  {
   "cell_type": "code",
   "execution_count": 7,
   "metadata": {},
   "outputs": [],
   "source": [
    "df=df.dropna(how='any') #결측값이 있는 행을 제거함"
   ]
  },
  {
   "cell_type": "code",
   "execution_count": 8,
   "metadata": {},
   "outputs": [
    {
     "data": {
      "text/plain": [
       "<bound method DataFrame.info of                                                  document  label\n",
       "0                                       아 더빙 진짜 짜증나네요 목소리      0\n",
       "1                              흠포스터보고 초딩영화줄오버연기조차 가볍지 않구나      1\n",
       "2                                       너무재밓었다그래서보는것을추천한다      0\n",
       "3                               교도소 이야기구먼 솔직히 재미는 없다평점 조정      0\n",
       "4       사이몬페그의 익살스런 연기가 돋보였던 영화스파이더맨에서 늙어보이기만 했던 커스틴 던...      1\n",
       "...                                                   ...    ...\n",
       "199995          오랜만에 평점 로긴했네ㅋㅋ 킹왕짱 쌈뽕한 영화를 만났습니다 강렬하게 육쾌함      1\n",
       "199996           의지 박약들이나 하는거다 탈영은 일단 주인공 김대희 닮았고 이등병 찐따       0\n",
       "199997                    그림도 좋고 완성도도 높았지만 보는 내내 불안하게 만든다      0\n",
       "199998         절대 봐서는 안 될 영화 재미도 없고 기분만 잡치고 한 세트장에서 다 해먹네      0\n",
       "199999                                         마무리는 또 왜이래      0\n",
       "\n",
       "[198884 rows x 2 columns]>"
      ]
     },
     "execution_count": 8,
     "metadata": {},
     "output_type": "execute_result"
    }
   ],
   "source": [
    "df.info"
   ]
  },
  {
   "cell_type": "code",
   "execution_count": 9,
   "metadata": {},
   "outputs": [],
   "source": [
    "X=df[['document']] #독립변수\n",
    "y=df['label'] #종속변수"
   ]
  },
  {
   "cell_type": "code",
   "execution_count": 10,
   "metadata": {},
   "outputs": [
    {
     "data": {
      "text/plain": [
       "1    99510\n",
       "0    99374\n",
       "Name: label, dtype: int64"
      ]
     },
     "execution_count": 10,
     "metadata": {},
     "output_type": "execute_result"
    }
   ],
   "source": [
    "df['label'].value_counts()"
   ]
  },
  {
   "cell_type": "code",
   "execution_count": 11,
   "metadata": {},
   "outputs": [
    {
     "name": "stderr",
     "output_type": "stream",
     "text": [
      "Using TensorFlow backend.\n"
     ]
    }
   ],
   "source": [
    "#언더샘플링\n",
    "from imblearn.under_sampling import RandomUnderSampler\n",
    "X_sample,y_sample=RandomUnderSampler(random_state=0).fit_sample(X,y)\n",
    "X_samp=pd.DataFrame(data=X_sample, columns=['documnet'])\n",
    "y_samp=pd.DataFrame(data=y_sample, columns=['label'])\n",
    "df_samp=pd.concat([X_samp,y_samp],axis=1)"
   ]
  },
  {
   "cell_type": "code",
   "execution_count": 12,
   "metadata": {},
   "outputs": [
    {
     "data": {
      "text/plain": [
       "1    99374\n",
       "0    99374\n",
       "Name: label, dtype: int64"
      ]
     },
     "execution_count": 12,
     "metadata": {},
     "output_type": "execute_result"
    }
   ],
   "source": [
    "df_samp['label'].value_counts()"
   ]
  },
  {
   "cell_type": "code",
   "execution_count": 13,
   "metadata": {},
   "outputs": [],
   "source": [
    "#불용어 사전\n",
    "stopwords=['의','가','이','은','들','을','는','좀','잘','걍','과',\n",
    "          '도','를','으로','자','에','와','한','하다','이다','였다']"
   ]
  },
  {
   "cell_type": "code",
   "execution_count": 14,
   "metadata": {},
   "outputs": [
    {
     "data": {
      "text/plain": [
       "['나', '는', '집', '에', '간다']"
      ]
     },
     "execution_count": 14,
     "metadata": {},
     "output_type": "execute_result"
    }
   ],
   "source": [
    "from konlpy.tag import Okt\n",
    "okt=Okt()\n",
    "okt.morphs('나는 집에 간다',stem=True) #형태소 분석"
   ]
  },
  {
   "cell_type": "code",
   "execution_count": 15,
   "metadata": {},
   "outputs": [
    {
     "name": "stdout",
     "output_type": "stream",
     "text": [
      "신카이 마코토의 작화와미유와 하나카나가 연기를 잘해줘서 더대박이였다\n",
      "['신카이', '마코토', '작화', '밉다', '유', '하나', '카나', '연기', '해주다', '더', '대박']\n"
     ]
    }
   ],
   "source": [
    "X=[]\n",
    "y=[]\n",
    "print(df['document'][100])\n",
    "for idx,sentence in enumerate(df['document'][:1000]):\n",
    "    temp=[]\n",
    "    temp=okt.morphs(sentence,stem=True) #문장을 토큰화\n",
    "    #불용어를 제거한 후\n",
    "    temp=[word for word in temp if not word in stopwords]\n",
    "    X.append(temp) #리뷰 내용(단어들)을 추가\n",
    "    y.append(df.iloc[idx,1]) #0,1\n",
    "print(X[100])"
   ]
  },
  {
   "cell_type": "code",
   "execution_count": 16,
   "metadata": {},
   "outputs": [],
   "source": [
    "from tensorflow.keras.preprocessing.text import Tokenizer\n",
    "tokenizer=Tokenizer()\n",
    "#단어 집합을 만들고 단어에 고유한 숫자 인덱스 부여\n",
    "tokenizer.fit_on_texts(X)"
   ]
  },
  {
   "cell_type": "code",
   "execution_count": 17,
   "metadata": {},
   "outputs": [
    {
     "data": {
      "text/plain": [
       "{'영화': 1,\n",
       " '보다': 2,\n",
       " '없다': 3,\n",
       " '있다': 4,\n",
       " '좋다': 5,\n",
       " '다': 6,\n",
       " '적': 7,\n",
       " '진짜': 8,\n",
       " '정말': 9,\n",
       " '너무': 10,\n",
       " '아니다': 11,\n",
       " '재밌다': 12,\n",
       " '만': 13,\n",
       " '되다': 14,\n",
       " '같다': 15,\n",
       " '연기': 16,\n",
       " '인': 17,\n",
       " '로': 18,\n",
       " '나오다': 19,\n",
       " '최고': 20,\n",
       " '점': 21,\n",
       " '안': 22,\n",
       " '에서': 23,\n",
       " '사람': 24,\n",
       " '내': 25,\n",
       " '않다': 26,\n",
       " '보고': 27,\n",
       " '그': 28,\n",
       " '만들다': 29,\n",
       " '것': 30,\n",
       " '왜': 31,\n",
       " '못': 32,\n",
       " '하고': 33,\n",
       " '나': 34,\n",
       " '감동': 35,\n",
       " '말': 36,\n",
       " '재미': 37,\n",
       " '아깝다': 38,\n",
       " '고': 39,\n",
       " '재미없다': 40,\n",
       " '싶다': 41,\n",
       " 'ㅋㅋ': 42,\n",
       " '재미있다': 43,\n",
       " '생각': 44,\n",
       " '내용': 45,\n",
       " '배우': 46,\n",
       " '더': 47,\n",
       " '아': 48,\n",
       " '그냥': 49,\n",
       " '드라마': 50,\n",
       " '중': 51,\n",
       " '시간': 52,\n",
       " '평점': 53,\n",
       " '때': 54,\n",
       " '스토리': 55,\n",
       " '들다': 56,\n",
       " '감독': 57,\n",
       " '알다': 58,\n",
       " '쓰레기': 59,\n",
       " '하나': 60,\n",
       " '게': 61,\n",
       " '그렇다': 62,\n",
       " '작품': 63,\n",
       " '볼': 64,\n",
       " 'ㅠㅠ': 65,\n",
       " '자다': 66,\n",
       " '완전': 67,\n",
       " '요': 68,\n",
       " '모르다': 69,\n",
       " '또': 70,\n",
       " '주인공': 71,\n",
       " '개': 72,\n",
       " '기': 73,\n",
       " '지루하다': 74,\n",
       " '정도': 75,\n",
       " '주다': 76,\n",
       " '느낌': 77,\n",
       " '거': 78,\n",
       " '년': 79,\n",
       " '네': 80,\n",
       " '듯': 81,\n",
       " '오다': 82,\n",
       " 'ㅋㅋㅋ': 83,\n",
       " '돈': 84,\n",
       " '가다': 85,\n",
       " '지': 86,\n",
       " '수': 87,\n",
       " '다시': 88,\n",
       " '일': 89,\n",
       " '뭐': 90,\n",
       " '먹다': 91,\n",
       " '이건': 92,\n",
       " 'ㅡㅡ': 93,\n",
       " '이렇다': 94,\n",
       " '라': 95,\n",
       " '냐': 96,\n",
       " '마지막': 97,\n",
       " '안되다': 98,\n",
       " '난': 99,\n",
       " '인생': 100,\n",
       " '사랑': 101,\n",
       " '속': 102,\n",
       " '명작': 103,\n",
       " '까지': 104,\n",
       " '줄': 105,\n",
       " '이야기': 106,\n",
       " '솔직하다': 107,\n",
       " '살다': 108,\n",
       " '액션': 109,\n",
       " '차다': 110,\n",
       " '하': 111,\n",
       " '저': 112,\n",
       " '별로': 113,\n",
       " 'ㅋ': 114,\n",
       " '최악': 115,\n",
       " '여': 116,\n",
       " '어떻다': 117,\n",
       " '남다': 118,\n",
       " '느끼다': 119,\n",
       " '임': 120,\n",
       " '넘다': 121,\n",
       " '버리다': 122,\n",
       " '이렇게': 123,\n",
       " '받다': 124,\n",
       " '무슨': 125,\n",
       " '전': 126,\n",
       " '에게': 127,\n",
       " '소재': 128,\n",
       " '역시': 129,\n",
       " '나다': 130,\n",
       " '괜찮다': 131,\n",
       " '연출': 132,\n",
       " '무섭다': 133,\n",
       " '많다': 134,\n",
       " '그리고': 135,\n",
       " '장면': 136,\n",
       " '남자': 137,\n",
       " '랑': 138,\n",
       " '별': 139,\n",
       " '죽다': 140,\n",
       " '서': 141,\n",
       " '인데': 142,\n",
       " '한번': 143,\n",
       " '님': 144,\n",
       " '멋지다': 145,\n",
       " '알': 146,\n",
       " '자체': 147,\n",
       " '슬프다': 148,\n",
       " '건지다': 149,\n",
       " '이고': 150,\n",
       " '기억': 151,\n",
       " '본': 152,\n",
       " '부터': 153,\n",
       " '연': 154,\n",
       " '면': 155,\n",
       " '끄다': 156,\n",
       " '이해': 157,\n",
       " '건': 158,\n",
       " '돼다': 159,\n",
       " '음악': 160,\n",
       " '아쉽다': 161,\n",
       " '전개': 162,\n",
       " '일본': 163,\n",
       " '기대': 164,\n",
       " '영': 165,\n",
       " '지금': 166,\n",
       " '인간': 167,\n",
       " '짜증나다': 168,\n",
       " '절대': 169,\n",
       " '걸': 170,\n",
       " '이네': 171,\n",
       " '이런': 172,\n",
       " '실망': 173,\n",
       " '좋아하다': 174,\n",
       " '두': 175,\n",
       " '처음': 176,\n",
       " '당시': 177,\n",
       " '성': 178,\n",
       " '보기': 179,\n",
       " '끝': 180,\n",
       " '허다': 181,\n",
       " '급': 182,\n",
       " '마음': 183,\n",
       " 'ㅎㅎ': 184,\n",
       " '시키다': 185,\n",
       " '뿐': 186,\n",
       " '작': 187,\n",
       " '보이다': 188,\n",
       " '움': 189,\n",
       " '나름': 190,\n",
       " '웃다': 191,\n",
       " '해주다': 192,\n",
       " '나가다': 193,\n",
       " '매력': 194,\n",
       " '조금': 195,\n",
       " '제일': 196,\n",
       " '끝나다': 197,\n",
       " 'ㅜㅜ': 198,\n",
       " '감정': 199,\n",
       " '유치하다': 200,\n",
       " '근데': 201,\n",
       " '설정': 202,\n",
       " '진심': 203,\n",
       " '이상하다': 204,\n",
       " '그만': 205,\n",
       " '많이': 206,\n",
       " '애': 207,\n",
       " '귀엽다': 208,\n",
       " '표현': 209,\n",
       " '높다': 210,\n",
       " '지다': 211,\n",
       " '제': 212,\n",
       " '남': 213,\n",
       " '모든': 214,\n",
       " 'ㅎ': 215,\n",
       " '라는': 216,\n",
       " '포스터': 217,\n",
       " '몇': 218,\n",
       " '꽤': 219,\n",
       " '코': 220,\n",
       " '놈': 221,\n",
       " '이라': 222,\n",
       " '인가': 223,\n",
       " '엔': 224,\n",
       " '신선하다': 225,\n",
       " '우리': 226,\n",
       " '이나': 227,\n",
       " '웃음': 228,\n",
       " '보여주다': 229,\n",
       " '대해': 230,\n",
       " '연기력': 231,\n",
       " '분': 232,\n",
       " '결말': 233,\n",
       " '화': 234,\n",
       " '눈': 235,\n",
       " '따뜻하다': 236,\n",
       " '전혀': 237,\n",
       " '여운': 238,\n",
       " '충분하다': 239,\n",
       " '막장': 240,\n",
       " '다른': 241,\n",
       " '내내': 242,\n",
       " '함': 243,\n",
       " '잇다': 244,\n",
       " '찍다': 245,\n",
       " '낮다': 246,\n",
       " '가장': 247,\n",
       " '웃기다': 248,\n",
       " '라고': 249,\n",
       " '캐스팅': 250,\n",
       " '위': 251,\n",
       " '늘다': 252,\n",
       " '야': 253,\n",
       " '력': 254,\n",
       " '이라는': 255,\n",
       " '에선': 256,\n",
       " '기분': 257,\n",
       " '노력': 258,\n",
       " '시청률': 259,\n",
       " '짜다': 260,\n",
       " '맞다': 261,\n",
       " '뭘': 262,\n",
       " '인상': 263,\n",
       " '아주': 264,\n",
       " '몰입': 265,\n",
       " '대': 266,\n",
       " '잼': 267,\n",
       " '믿다': 268,\n",
       " '자신': 269,\n",
       " '한국': 270,\n",
       " '되어다': 271,\n",
       " '요즘': 272,\n",
       " '아름답다': 273,\n",
       " '시리즈': 274,\n",
       " '예쁘다': 275,\n",
       " '현실': 276,\n",
       " '책': 277,\n",
       " '스릴러': 278,\n",
       " '영상': 279,\n",
       " '실제': 280,\n",
       " '키': 281,\n",
       " '때문': 282,\n",
       " '반전': 283,\n",
       " '추천': 284,\n",
       " '막': 285,\n",
       " '원작': 286,\n",
       " '긴장감': 287,\n",
       " '욕': 288,\n",
       " '데': 289,\n",
       " '짱': 290,\n",
       " '극': 291,\n",
       " '손': 292,\n",
       " '이라고': 293,\n",
       " '처럼': 294,\n",
       " '아직도': 295,\n",
       " '대한': 296,\n",
       " '정신': 297,\n",
       " '두다': 298,\n",
       " '잔잔하다': 299,\n",
       " '말다': 300,\n",
       " '크다': 301,\n",
       " '공감': 302,\n",
       " '초반': 303,\n",
       " '수준': 304,\n",
       " '이랑': 305,\n",
       " '작다': 306,\n",
       " '맛': 307,\n",
       " '가슴': 308,\n",
       " '혼자': 309,\n",
       " '대단하다': 310,\n",
       " '짜증': 311,\n",
       " '빨리': 312,\n",
       " '이야': 313,\n",
       " '이제': 314,\n",
       " '에도': 315,\n",
       " '한테': 316,\n",
       " '그래도': 317,\n",
       " '쓰다': 318,\n",
       " '빠지다': 319,\n",
       " '머': 320,\n",
       " '후': 321,\n",
       " '놓다': 322,\n",
       " '만들어지다': 323,\n",
       " '멀다': 324,\n",
       " '나이': 325,\n",
       " '어리다': 326,\n",
       " '코미디': 327,\n",
       " '이유': 328,\n",
       " '밖에': 329,\n",
       " '이영화': 330,\n",
       " '니까': 331,\n",
       " '없이': 332,\n",
       " '년도': 333,\n",
       " 'ㅠ': 334,\n",
       " '시': 335,\n",
       " '더럽다': 336,\n",
       " '완벽하다': 337,\n",
       " '제발': 338,\n",
       " '굿': 339,\n",
       " '뭔가': 340,\n",
       " '부족하다': 341,\n",
       " '아이': 342,\n",
       " '여자': 343,\n",
       " '울다': 344,\n",
       " '슬픔': 345,\n",
       " '비디오': 346,\n",
       " '시나리오': 347,\n",
       " '친구': 348,\n",
       " '부분': 349,\n",
       " '뭔': 350,\n",
       " '모두': 351,\n",
       " '참고': 352,\n",
       " '애니': 353,\n",
       " '더빙': 354,\n",
       " '이쁘다': 355,\n",
       " '세': 356,\n",
       " '살리다': 357,\n",
       " '인지': 358,\n",
       " '발': 359,\n",
       " '년대': 360,\n",
       " '멜로': 361,\n",
       " '드럽다': 362,\n",
       " '갈수록': 363,\n",
       " '구': 364,\n",
       " '수작': 365,\n",
       " '그래서': 366,\n",
       " '꼭': 367,\n",
       " '진부하다': 368,\n",
       " '대체': 369,\n",
       " '원': 370,\n",
       " '캐릭터': 371,\n",
       " '딱': 372,\n",
       " '잊다': 373,\n",
       " '깊다': 374,\n",
       " '그저': 375,\n",
       " '중간': 376,\n",
       " '소': 377,\n",
       " '모습': 378,\n",
       " '다큐': 379,\n",
       " '살인': 380,\n",
       " '차': 381,\n",
       " '졸작': 382,\n",
       " '어이없다': 383,\n",
       " '가요': 384,\n",
       " 'ㅋㅋㅋㅋ': 385,\n",
       " '대박': 386,\n",
       " '로맨스': 387,\n",
       " '끌': 388,\n",
       " '지만': 389,\n",
       " '현': 390,\n",
       " '실감': 391,\n",
       " '또한': 392,\n",
       " '어울리다': 393,\n",
       " '에서도': 394,\n",
       " '힘들다': 395,\n",
       " '하지만': 396,\n",
       " '답': 397,\n",
       " '어린이': 398,\n",
       " '이란': 399,\n",
       " '그리다': 400,\n",
       " '화이팅': 401,\n",
       " '알바': 402,\n",
       " '읽다': 403,\n",
       " '보지': 404,\n",
       " '티비': 405,\n",
       " '피': 406,\n",
       " '추억': 407,\n",
       " '보': 408,\n",
       " '물': 409,\n",
       " '순간': 410,\n",
       " '에는': 411,\n",
       " '가보다': 412,\n",
       " '전쟁': 413,\n",
       " '세계': 414,\n",
       " '미치다': 415,\n",
       " '개연': 416,\n",
       " '여배우': 417,\n",
       " '돌리다': 418,\n",
       " '안타깝다': 419,\n",
       " '결국': 420,\n",
       " '싸우다': 421,\n",
       " '삶': 422,\n",
       " '번': 423,\n",
       " '이후': 424,\n",
       " '재다': 425,\n",
       " '눈물': 426,\n",
       " '전작': 427,\n",
       " '점수': 428,\n",
       " '공포영화': 429,\n",
       " '좀비': 430,\n",
       " '너': 431,\n",
       " '너무나도': 432,\n",
       " '초등학교': 433,\n",
       " '해도': 434,\n",
       " '그것': 435,\n",
       " '낫다': 436,\n",
       " '가족': 437,\n",
       " '식': 438,\n",
       " '화려하다': 439,\n",
       " '절제': 440,\n",
       " '뻔': 441,\n",
       " '취향': 442,\n",
       " '극장': 443,\n",
       " '노': 444,\n",
       " '이기': 445,\n",
       " '이라도': 446,\n",
       " '도안': 447,\n",
       " '간': 448,\n",
       " '이리': 449,\n",
       " '라도': 450,\n",
       " '기대하다': 451,\n",
       " '작가': 452,\n",
       " '관객': 453,\n",
       " '명': 454,\n",
       " '방법': 455,\n",
       " '낭비': 456,\n",
       " '뛰어나다': 457,\n",
       " '상': 458,\n",
       " '다니다': 459,\n",
       " '소설': 460,\n",
       " '언제': 461,\n",
       " '그대로': 462,\n",
       " '악역': 463,\n",
       " '계속': 464,\n",
       " '우리나라': 465,\n",
       " '깊이': 466,\n",
       " '예전': 467,\n",
       " '회': 468,\n",
       " '몰입도': 469,\n",
       " '비슷하다': 470,\n",
       " '건가': 471,\n",
       " '어설프다': 472,\n",
       " '흥행': 473,\n",
       " '갈등': 474,\n",
       " '뻔하다': 475,\n",
       " '시작': 476,\n",
       " '엉망': 477,\n",
       " '때리다': 478,\n",
       " '밉다': 479,\n",
       " '유': 480,\n",
       " '인거': 481,\n",
       " '술': 482,\n",
       " '태어나다': 483,\n",
       " '짬뽕': 484,\n",
       " '특유': 485,\n",
       " '쓸다': 486,\n",
       " '떨어지다': 487,\n",
       " '스럽다': 488,\n",
       " '전부': 489,\n",
       " '점점': 490,\n",
       " '어느': 491,\n",
       " '상황': 492,\n",
       " '다르다': 493,\n",
       " '한석규': 494,\n",
       " '년전': 495,\n",
       " '서다': 496,\n",
       " '야하다': 497,\n",
       " '왠만하다': 498,\n",
       " '자극': 499,\n",
       " '지겹다': 500,\n",
       " '뜨다': 501,\n",
       " '오랜': 502,\n",
       " '조절': 503,\n",
       " '왠지': 504,\n",
       " '쯤': 505,\n",
       " '한마디': 506,\n",
       " '죽': 507,\n",
       " '예산': 508,\n",
       " '용': 509,\n",
       " '나서다': 510,\n",
       " '판': 511,\n",
       " '따다': 512,\n",
       " '류': 513,\n",
       " '나쁘다': 514,\n",
       " '개봉': 515,\n",
       " '청춘': 516,\n",
       " '아직': 517,\n",
       " '등': 518,\n",
       " '구성': 519,\n",
       " '그때': 520,\n",
       " '닿다': 521,\n",
       " '동': 522,\n",
       " '코믹': 523,\n",
       " '색다르다': 524,\n",
       " '날': 525,\n",
       " '액션영화': 526,\n",
       " '라니': 527,\n",
       " '짧다': 528,\n",
       " '적당하다': 529,\n",
       " '편이': 530,\n",
       " '이름': 531,\n",
       " '노래': 532,\n",
       " '부르다': 533,\n",
       " '장': 534,\n",
       " '질질': 535,\n",
       " '제목': 536,\n",
       " '누군가': 537,\n",
       " '그러나': 538,\n",
       " '걸다': 539,\n",
       " '주': 540,\n",
       " '이상': 541,\n",
       " '탑': 542,\n",
       " '화보': 543,\n",
       " '사회': 544,\n",
       " '사실': 545,\n",
       " '떠나다': 546,\n",
       " '레전드': 547,\n",
       " '바라다': 548,\n",
       " '이딴': 549,\n",
       " '영활': 550,\n",
       " '공부': 551,\n",
       " '여기': 552,\n",
       " '다운': 553,\n",
       " '감사하다': 554,\n",
       " '감': 555,\n",
       " '자막': 556,\n",
       " '봄': 557,\n",
       " '엉': 558,\n",
       " '약하다': 559,\n",
       " '기키': 560,\n",
       " '유럽': 561,\n",
       " '점도': 562,\n",
       " '의미': 563,\n",
       " '쓰래': 564,\n",
       " '특히': 565,\n",
       " '예고편': 566,\n",
       " '지나다': 567,\n",
       " '초딩': 568,\n",
       " '오버': 569,\n",
       " '가볍다': 570,\n",
       " '돋보이다': 571,\n",
       " '늙다': 572,\n",
       " '떼다': 573,\n",
       " '학년': 574,\n",
       " '반개': 575,\n",
       " '반복': 576,\n",
       " '엿': 577,\n",
       " '볼때': 578,\n",
       " '감성': 579,\n",
       " '신': 580,\n",
       " '노잼': 581,\n",
       " '어거지': 582,\n",
       " '냥': 583,\n",
       " '뒤': 584,\n",
       " '없어지다': 585,\n",
       " '착하다': 586,\n",
       " '음식': 587,\n",
       " '평범하다': 588,\n",
       " '주제': 589,\n",
       " '중반': 590,\n",
       " '고추': 591,\n",
       " '발연기': 592,\n",
       " '단순하다': 593,\n",
       " '맘': 594,\n",
       " '탈': 595,\n",
       " '간다': 596,\n",
       " '불가': 597,\n",
       " '대다': 598,\n",
       " '터': 599,\n",
       " '잠시': 600,\n",
       " '동화': 601,\n",
       " '콩': 602,\n",
       " '충격': 603,\n",
       " '적다': 604,\n",
       " '완전하다': 605,\n",
       " '무겁다': 606,\n",
       " '심심하다': 607,\n",
       " '바로': 608,\n",
       " '위해': 609,\n",
       " '민간인': 610,\n",
       " '학살': 611,\n",
       " '어디': 612,\n",
       " '에피소드': 613,\n",
       " '삼': 614,\n",
       " '백': 615,\n",
       " '조작': 616,\n",
       " '열리다': 617,\n",
       " '집': 618,\n",
       " '들어가다': 619,\n",
       " '걸리다': 620,\n",
       " '억지스럽다': 621,\n",
       " '매우': 622,\n",
       " '한국영': 623,\n",
       " '아햏햏': 624,\n",
       " '진정': 625,\n",
       " '내일': 626,\n",
       " '성룡': 627,\n",
       " 'ㅋㅋㅋㅋㅋ': 628,\n",
       " '에요': 629,\n",
       " '불륜': 630,\n",
       " '왕': 631,\n",
       " '너무나': 632,\n",
       " '흥미': 633,\n",
       " '도대체': 634,\n",
       " '순수하다': 635,\n",
       " '문제': 636,\n",
       " '아들': 637,\n",
       " '나라': 638,\n",
       " '이냐': 639,\n",
       " '해': 640,\n",
       " '나르다': 641,\n",
       " '혹': 642,\n",
       " '쩔다': 643,\n",
       " '질': 644,\n",
       " '개인': 645,\n",
       " '잔인하다': 646,\n",
       " '국산': 647,\n",
       " '아끼다': 648,\n",
       " '죽이다': 649,\n",
       " '오늘': 650,\n",
       " '완성': 651,\n",
       " '순': 652,\n",
       " '로써': 653,\n",
       " '사극': 654,\n",
       " '유쾌하다': 655,\n",
       " '니': 656,\n",
       " '배경': 657,\n",
       " '시종일관': 658,\n",
       " '풍': 659,\n",
       " '상당하다': 660,\n",
       " '얼마나': 661,\n",
       " '실력': 662,\n",
       " '어': 663,\n",
       " '옛날': 664,\n",
       " '사랑스럽다': 665,\n",
       " '생명': 666,\n",
       " '면서': 667,\n",
       " '래': 668,\n",
       " '여정': 669,\n",
       " '훈훈하다': 670,\n",
       " '네이버': 671,\n",
       " '언': 672,\n",
       " '대사': 673,\n",
       " '허무하다': 674,\n",
       " '조연': 675,\n",
       " '특집': 676,\n",
       " '비': 677,\n",
       " '서스펜스': 678,\n",
       " '귀신': 679,\n",
       " '댓글': 680,\n",
       " '묘사': 681,\n",
       " '극장판': 682,\n",
       " '역사': 683,\n",
       " '겁니다': 684,\n",
       " '시절': 685,\n",
       " '범죄': 686,\n",
       " '느와르': 687,\n",
       " '부': 688,\n",
       " '묻다': 689,\n",
       " '안습': 690,\n",
       " '소리': 691,\n",
       " '비추다': 692,\n",
       " '오글거리다': 693,\n",
       " '씩': 694,\n",
       " '쇼': 695,\n",
       " '언니': 696,\n",
       " '연인': 697,\n",
       " '망하다': 698,\n",
       " '시선': 699,\n",
       " '겁나다': 700,\n",
       " '해보다': 701,\n",
       " '비다': 702,\n",
       " '당신': 703,\n",
       " '세기': 704,\n",
       " '중요하다': 705,\n",
       " '거기': 706,\n",
       " '얘기': 707,\n",
       " '지루함': 708,\n",
       " '파다': 709,\n",
       " '닮다': 710,\n",
       " '내다': 711,\n",
       " '연예인': 712,\n",
       " '든': 713,\n",
       " '끼다': 714,\n",
       " '돌아가다': 715,\n",
       " '개다': 716,\n",
       " '땐': 717,\n",
       " '조폭': 718,\n",
       " '세상': 719,\n",
       " '기다': 720,\n",
       " '감다': 721,\n",
       " '둘': 722,\n",
       " '아빠': 723,\n",
       " '마저': 724,\n",
       " '의도': 725,\n",
       " '강하다': 726,\n",
       " '첨': 727,\n",
       " '탄탄하다': 728,\n",
       " '검술': 729,\n",
       " '멋있다': 730,\n",
       " '최고다': 731,\n",
       " '끌다': 732,\n",
       " '중심': 733,\n",
       " '진': 734,\n",
       " '찝찝하다': 735,\n",
       " '이지만': 736,\n",
       " '나중': 737,\n",
       " '흐르다': 738,\n",
       " '정말로': 739,\n",
       " '늦다': 740,\n",
       " '즐기다': 741,\n",
       " '도움': 742,\n",
       " '장난': 743,\n",
       " '보내다': 744,\n",
       " '잃다': 745,\n",
       " '유대인': 746,\n",
       " '필요하다': 747,\n",
       " '남기다': 748,\n",
       " '두근거리다': 749,\n",
       " '엔딩': 750,\n",
       " '영화관': 751,\n",
       " '씨': 752,\n",
       " '복수': 753,\n",
       " '일이': 754,\n",
       " '만으로도': 755,\n",
       " '편': 756,\n",
       " '평생': 757,\n",
       " '생각나다': 758,\n",
       " '짐승': 759,\n",
       " '싸구려': 760,\n",
       " '밝혀지다': 761,\n",
       " '터지다': 762,\n",
       " '아오': 763,\n",
       " '미화': 764,\n",
       " '라면': 765,\n",
       " '뭐라다': 766,\n",
       " '싫어하다': 767,\n",
       " '아저씨': 768,\n",
       " '역겹다': 769,\n",
       " '일찍': 770,\n",
       " '최근': 771,\n",
       " '스타': 772,\n",
       " '얼굴': 773,\n",
       " '느껴지다': 774,\n",
       " '께서': 775,\n",
       " '간만': 776,\n",
       " '공포': 777,\n",
       " '티': 778,\n",
       " '누구': 779,\n",
       " '짓': 780,\n",
       " '외계인': 781,\n",
       " '주온': 782,\n",
       " '존재': 783,\n",
       " '기억나다': 784,\n",
       " '차라리': 785,\n",
       " '실화': 786,\n",
       " '용도': 787,\n",
       " '분위기': 788,\n",
       " '이에요': 789,\n",
       " '끼리': 790,\n",
       " '궁금하다': 791,\n",
       " '설득': 792,\n",
       " '늑대': 793,\n",
       " '연예계': 794,\n",
       " '목소리': 795,\n",
       " '흠': 796,\n",
       " '조차': 797,\n",
       " '다그': 798,\n",
       " '사이': 799,\n",
       " '커스틴': 800,\n",
       " '제대로': 801,\n",
       " '생활': 802,\n",
       " '보단': 803,\n",
       " '모': 804,\n",
       " '헐리우드': 805,\n",
       " '마다': 806,\n",
       " '향수': 807,\n",
       " '울면': 808,\n",
       " '뛰다': 809,\n",
       " '치다': 810,\n",
       " '담백하다': 811,\n",
       " '깔끔하다': 812,\n",
       " '문': 813,\n",
       " '사': 814,\n",
       " '로만': 815,\n",
       " '자꾸': 816,\n",
       " '깔다': 817,\n",
       " '굿바이': 818,\n",
       " '깨알': 819,\n",
       " '일드': 820,\n",
       " '뜻': 821,\n",
       " '만찬': 822,\n",
       " '는걸': 823,\n",
       " '납득': 824,\n",
       " '센스': 825,\n",
       " '탁월하다': 826,\n",
       " '꽃': 827,\n",
       " '죄인': 828,\n",
       " '열정': 829,\n",
       " '안나': 830,\n",
       " '키이라': 831,\n",
       " '평가': 832,\n",
       " '은은하다': 833,\n",
       " '알바생': 834,\n",
       " 'ㅇㅇ': 835,\n",
       " 'ㅇ': 836,\n",
       " '한데': 837,\n",
       " '이민기': 838,\n",
       " '패': 839,\n",
       " '물건': 840,\n",
       " '오': 841,\n",
       " '상태': 842,\n",
       " '마이너스': 843,\n",
       " 'ㅉㅉ': 844,\n",
       " '북한': 845,\n",
       " '누': 846,\n",
       " '용이': 847,\n",
       " '다크': 848,\n",
       " '수도': 849,\n",
       " '행복하다': 850,\n",
       " '세르게이': 851,\n",
       " '맵다': 852,\n",
       " '꼬마': 853,\n",
       " '어쩌라고': 854,\n",
       " '일본인': 855,\n",
       " '당황': 856,\n",
       " '일상': 857,\n",
       " '전개도': 858,\n",
       " '느리다': 859,\n",
       " '은희': 860,\n",
       " '극적': 861,\n",
       " '맨날': 862,\n",
       " '가슴속': 863,\n",
       " '예요': 864,\n",
       " '현대': 865,\n",
       " '말로': 866,\n",
       " '이정': 867,\n",
       " '살인자': 868,\n",
       " '재탕': 869,\n",
       " '이틀': 870,\n",
       " '만에': 871,\n",
       " '안이': 872,\n",
       " '아무나': 873,\n",
       " '빨': 874,\n",
       " '라서': 875,\n",
       " '온몸': 876,\n",
       " '사진': 877,\n",
       " '단연': 878,\n",
       " '진창': 879,\n",
       " '우뢰매': 880,\n",
       " '별루': 881,\n",
       " 'ㅋㅋㅋㅋㅋㅋ': 882,\n",
       " '새롭다': 883,\n",
       " '메인': 884,\n",
       " '킬링타임': 885,\n",
       " '떠오르다': 886,\n",
       " 'ㅎㅎㅎ': 887,\n",
       " '쫌': 888,\n",
       " '망치': 889,\n",
       " '허풍': 890,\n",
       " '스스로': 891,\n",
       " '미국': 892,\n",
       " '생애': 893,\n",
       " '지난': 894,\n",
       " '헐다': 895,\n",
       " '연기자': 896,\n",
       " '따로': 897,\n",
       " '보아': 898,\n",
       " '만이라도': 899,\n",
       " '교훈': 900,\n",
       " '케이블': 901,\n",
       " '그릇': 902,\n",
       " '살짝': 903,\n",
       " '감히': 904,\n",
       " '살': 905,\n",
       " '고민': 906,\n",
       " '여전하다': 907,\n",
       " '섹시하다': 908,\n",
       " '퀄리티': 909,\n",
       " '화끈하다': 910,\n",
       " '드니': 911,\n",
       " '일품': 912,\n",
       " '지네': 913,\n",
       " '외국': 914,\n",
       " '상상': 915,\n",
       " '심하다': 916,\n",
       " '해내다': 917,\n",
       " '그녀': 918,\n",
       " '앉다': 919,\n",
       " '지키다': 920,\n",
       " '일반': 921,\n",
       " '게임': 922,\n",
       " '흥미롭다': 923,\n",
       " '거슬리다': 924,\n",
       " '힘드다': 925,\n",
       " '당하다': 926,\n",
       " '극치': 927,\n",
       " '굉장하다': 928,\n",
       " '생기다': 929,\n",
       " '듣기': 930,\n",
       " '싫다': 931,\n",
       " '화가': 932,\n",
       " '아무': 933,\n",
       " '우웩': 934,\n",
       " '잠': 935,\n",
       " '판타지': 936,\n",
       " '어린시절': 937,\n",
       " '기존': 938,\n",
       " '쏙': 939,\n",
       " '후회': 940,\n",
       " '싸이코': 941,\n",
       " '만이': 942,\n",
       " '지나가다': 943,\n",
       " '돌아오다': 944,\n",
       " '무한': 945,\n",
       " '까지도': 946,\n",
       " '후세': 947,\n",
       " '출현': 948,\n",
       " '으': 949,\n",
       " '이든': 950,\n",
       " '히': 951,\n",
       " '새벽': 952,\n",
       " '필요': 953,\n",
       " '미묘하다': 954,\n",
       " '가져오다': 955,\n",
       " '오우삼': 956,\n",
       " '제로': 957,\n",
       " '꿈': 958,\n",
       " '훌륭하다': 959,\n",
       " '미로': 960,\n",
       " '이의': 961,\n",
       " '짜임새': 962,\n",
       " '음': 963,\n",
       " '대가': 964,\n",
       " '일단': 965,\n",
       " '괴물': 966,\n",
       " '버킷리스트': 967,\n",
       " '직전': 968,\n",
       " '란': 969,\n",
       " '역': 970,\n",
       " '기도': 971,\n",
       " '답답하다': 972,\n",
       " '정치인': 973,\n",
       " '모순': 974,\n",
       " '주년': 975,\n",
       " '개그콘서트': 976,\n",
       " '없애다': 977,\n",
       " '가치': 978,\n",
       " '감각': 979,\n",
       " '바라보다': 980,\n",
       " '엄마': 981,\n",
       " '딸': 982,\n",
       " '신나다': 983,\n",
       " '어쩔': 984,\n",
       " '생생하다': 985,\n",
       " '짱짱': 986,\n",
       " '다시다': 987,\n",
       " '본인': 988,\n",
       " '피해자': 989,\n",
       " '필름': 990,\n",
       " '어디서': 991,\n",
       " '드': 992,\n",
       " '혀': 993,\n",
       " '스릴': 994,\n",
       " 'ㅜ': 995,\n",
       " '전달': 996,\n",
       " '월': 997,\n",
       " '즐겁다': 998,\n",
       " '레알': 999,\n",
       " '여자애': 1000,\n",
       " ...}"
      ]
     },
     "execution_count": 17,
     "metadata": {},
     "output_type": "execute_result"
    }
   ],
   "source": [
    "tokenizer.word_index"
   ]
  },
  {
   "cell_type": "code",
   "execution_count": 18,
   "metadata": {},
   "outputs": [
    {
     "name": "stdout",
     "output_type": "stream",
     "text": [
      "단어 집합의 크기: 3276\n",
      "희귀 단어 갯수: 2482\n",
      "희귀 단어의 비율: 75.76312576312576\n",
      "희귀 단어 출현 빈도 비율: 27.504196978175717\n"
     ]
    }
   ],
   "source": [
    "threshold=3 #희귀단어 단어수(출현 빈도수)\n",
    "total_cnt=len(tokenizer.word_index)\n",
    "rare_cnt=0\n",
    "total_freq=0\n",
    "rare_freq=0\n",
    "\n",
    "for key,value in tokenizer.word_counts.items():\n",
    "    total_freq += value\n",
    "    if value<threshold:\n",
    "        rare_cnt += 1\n",
    "        rare_freq += value\n",
    "        \n",
    "print('단어 집합의 크기:',total_cnt)\n",
    "print('희귀 단어 갯수:',rare_cnt)\n",
    "print('희귀 단어의 비율:',(rare_cnt/total_cnt)*100)\n",
    "print('희귀 단어 출현 빈도 비율:',(rare_freq/total_freq)*100)"
   ]
  },
  {
   "cell_type": "code",
   "execution_count": 19,
   "metadata": {},
   "outputs": [
    {
     "name": "stdout",
     "output_type": "stream",
     "text": [
      "795\n"
     ]
    }
   ],
   "source": [
    "#희귀단어 제거\n",
    "vocab_size=total_cnt - rare_cnt +1\n",
    "print(vocab_size)"
   ]
  },
  {
   "cell_type": "code",
   "execution_count": 20,
   "metadata": {},
   "outputs": [
    {
     "data": {
      "text/plain": [
       "['아', '더빙', '진짜', '짜증나다', '목소리']"
      ]
     },
     "execution_count": 20,
     "metadata": {},
     "output_type": "execute_result"
    }
   ],
   "source": [
    "X[0]"
   ]
  },
  {
   "cell_type": "code",
   "execution_count": 21,
   "metadata": {},
   "outputs": [],
   "source": [
    "tokenizer=Tokenizer(vocab_size) #단어갯수 설정\n",
    "tokenizer.fit_on_texts(X) #단어별 숫자 인덱스 부여"
   ]
  },
  {
   "cell_type": "code",
   "execution_count": 22,
   "metadata": {},
   "outputs": [],
   "source": [
    "X2 = tokenizer.texts_to_sequences(X) #숫자 리스트만으로 구성된 리스트"
   ]
  },
  {
   "cell_type": "code",
   "execution_count": 23,
   "metadata": {},
   "outputs": [
    {
     "data": {
      "text/plain": [
       "[48, 354, 8, 168]"
      ]
     },
     "execution_count": 23,
     "metadata": {},
     "output_type": "execute_result"
    }
   ],
   "source": [
    "X2[0]"
   ]
  },
  {
   "cell_type": "code",
   "execution_count": 24,
   "metadata": {},
   "outputs": [],
   "source": [
    "#단어가 하나도 없는 문장을 제거하기 위한 리스트\n",
    "drop_X=[index for index,sentence in enumerate(X2)\n",
    "       if len(sentence)<1]"
   ]
  },
  {
   "cell_type": "code",
   "execution_count": 25,
   "metadata": {},
   "outputs": [
    {
     "data": {
      "text/plain": [
       "[28,\n",
       " 86,\n",
       " 106,\n",
       " 166,\n",
       " 169,\n",
       " 287,\n",
       " 398,\n",
       " 404,\n",
       " 412,\n",
       " 416,\n",
       " 470,\n",
       " 489,\n",
       " 529,\n",
       " 549,\n",
       " 559,\n",
       " 565,\n",
       " 680,\n",
       " 859,\n",
       " 967,\n",
       " 968]"
      ]
     },
     "execution_count": 25,
     "metadata": {},
     "output_type": "execute_result"
    }
   ],
   "source": [
    "drop_X"
   ]
  },
  {
   "cell_type": "code",
   "execution_count": 26,
   "metadata": {},
   "outputs": [],
   "source": [
    "#단어가 전혀 없는 문장들을 제거하는 작업\n",
    "X_test=np.delete(X,drop_X,axis=0)\n",
    "X=np.delete(X2,drop_X,axis=0)\n",
    "y=np.delete(y,drop_X,axis=0)"
   ]
  },
  {
   "cell_type": "code",
   "execution_count": 27,
   "metadata": {},
   "outputs": [
    {
     "data": {
      "text/plain": [
       "[48, 354, 8, 168]"
      ]
     },
     "execution_count": 27,
     "metadata": {},
     "output_type": "execute_result"
    }
   ],
   "source": [
    "#list(map(len,X))\n",
    "X[0]"
   ]
  },
  {
   "cell_type": "code",
   "execution_count": 28,
   "metadata": {},
   "outputs": [
    {
     "name": "stdout",
     "output_type": "stream",
     "text": [
      "리뷰의 최대 길이: 38\n",
      "리뷰의 평균 길이: 7.931632653061224\n"
     ]
    },
    {
     "data": {
      "text/plain": [
       "<function matplotlib.pyplot.show(*args, **kw)>"
      ]
     },
     "execution_count": 28,
     "metadata": {},
     "output_type": "execute_result"
    },
    {
     "data": {
      "image/png": "[encoded data removed]",
      "text/plain": [
       "<Figure size 432x288 with 1 Axes>"
      ]
     },
     "metadata": {
      "needs_background": "light"
     },
     "output_type": "display_data"
    }
   ],
   "source": [
    "import matplotlib.pyplot as plt\n",
    "max_len=max(len(l) for l in X)\n",
    "print('리뷰의 최대 길이:',max_len)\n",
    "print('리뷰의 평균 길이:',sum (map(len,X))/len(X))\n",
    "plt.hist([len(s) for s in X], bins=50)\n",
    "plt.xlabel('length of samples')\n",
    "plt.ylabel('number of samples')\n",
    "plt.show"
   ]
  },
  {
   "cell_type": "code",
   "execution_count": 29,
   "metadata": {},
   "outputs": [],
   "source": [
    "#가로 길이를 맞추기 위해 패딩 처리\n",
    "from tensorflow.keras.preprocessing.sequence import pad_sequences\n",
    "X=pad_sequences(X, maxlen=max_len)"
   ]
  },
  {
   "cell_type": "code",
   "execution_count": 30,
   "metadata": {},
   "outputs": [],
   "source": [
    "#학습용:검증용 8:2로 구분\n",
    "from sklearn.model_selection import train_test_split\n",
    "X_train,X_test,y_train,y_test = train_test_split(X,y,\n",
    "                                                test_size=0.2, stratify=y, random_state=0)"
   ]
  },
  {
   "cell_type": "code",
   "execution_count": 31,
   "metadata": {},
   "outputs": [
    {
     "data": {
      "text/plain": [
       "795"
      ]
     },
     "execution_count": 31,
     "metadata": {},
     "output_type": "execute_result"
    }
   ],
   "source": [
    "vocab_size"
   ]
  },
  {
   "cell_type": "code",
   "execution_count": 32,
   "metadata": {},
   "outputs": [
    {
     "name": "stdout",
     "output_type": "stream",
     "text": [
      "Model: \"sequential\"\n",
      "_________________________________________________________________\n",
      "Layer (type)                 Output Shape              Param #   \n",
      "=================================================================\n",
      "embedding (Embedding)        (None, None, 100)         79500     \n",
      "_________________________________________________________________\n",
      "lstm (LSTM)                  (None, 128)               117248    \n",
      "_________________________________________________________________\n",
      "output (Dense)               (None, 1)                 129       \n",
      "=================================================================\n",
      "Total params: 196,877\n",
      "Trainable params: 196,877\n",
      "Non-trainable params: 0\n",
      "_________________________________________________________________\n"
     ]
    }
   ],
   "source": [
    "from tensorflow.keras.layers import Embedding,Dense,LSTM\n",
    "from tensorflow.keras.models import Sequential\n",
    "\n",
    "model=Sequential()\n",
    "# Embedding(입력사이즈,출력사이즈)\n",
    "model.add(Embedding(vocab_size, 100))\n",
    "model.add(LSTM(128)) #타임스텝을 128로 설정\n",
    "model.add(Dense(1, activation='sigmoid',name='output'))\n",
    "#출력층\n",
    "model.compile(optimizer='rmsprop',loss='binary_crossentropy',\n",
    "             metrics=['accuracy'])\n",
    "model.summary()"
   ]
  },
  {
   "cell_type": "code",
   "execution_count": 33,
   "metadata": {},
   "outputs": [
    {
     "name": "stdout",
     "output_type": "stream",
     "text": [
      "Train on 627 samples, validate on 157 samples\n",
      "Epoch 1/50\n",
      "627/627 [==============================] - 2s 3ms/sample - loss: 0.6907 - accuracy: 0.5534 - val_loss: 0.6843 - val_accuracy: 0.6115\n",
      "Epoch 2/50\n",
      "627/627 [==============================] - 0s 706us/sample - loss: 0.6334 - accuracy: 0.7257 - val_loss: 0.6482 - val_accuracy: 0.6497\n",
      "Epoch 3/50\n",
      "627/627 [==============================] - 0s 638us/sample - loss: 0.5403 - accuracy: 0.7879 - val_loss: 0.6640 - val_accuracy: 0.6624\n",
      "Epoch 4/50\n",
      "627/627 [==============================] - 0s 595us/sample - loss: 0.4510 - accuracy: 0.8788 - val_loss: 0.6460 - val_accuracy: 0.6815\n",
      "Epoch 5/50\n",
      "627/627 [==============================] - 0s 561us/sample - loss: 0.5451 - accuracy: 0.8660 - val_loss: 0.6196 - val_accuracy: 0.6624\n",
      "Epoch 6/50\n",
      "627/627 [==============================] - 0s 566us/sample - loss: 0.3209 - accuracy: 0.8995 - val_loss: 0.6618 - val_accuracy: 0.6624\n",
      "Epoch 7/50\n",
      "627/627 [==============================] - 0s 643us/sample - loss: 0.2831 - accuracy: 0.9107 - val_loss: 0.6740 - val_accuracy: 0.6752\n",
      "Epoch 8/50\n",
      "627/627 [==============================] - 0s 660us/sample - loss: 0.2400 - accuracy: 0.9219 - val_loss: 0.6946 - val_accuracy: 0.6815\n",
      "Epoch 9/50\n",
      "627/627 [==============================] - 0s 633us/sample - loss: 0.2041 - accuracy: 0.9394 - val_loss: 0.7968 - val_accuracy: 0.6497\n",
      "Epoch 10/50\n",
      "627/627 [==============================] - 0s 601us/sample - loss: 0.1894 - accuracy: 0.9394 - val_loss: 0.7892 - val_accuracy: 0.7070\n",
      "Epoch 11/50\n",
      "627/627 [==============================] - 0s 694us/sample - loss: 0.1548 - accuracy: 0.9506 - val_loss: 0.8480 - val_accuracy: 0.6815\n",
      "Epoch 12/50\n",
      "627/627 [==============================] - 0s 636us/sample - loss: 0.1316 - accuracy: 0.9537 - val_loss: 0.8806 - val_accuracy: 0.6879\n",
      "Epoch 13/50\n",
      "627/627 [==============================] - 1s 1ms/sample - loss: 0.1087 - accuracy: 0.9569 - val_loss: 1.0887 - val_accuracy: 0.6688\n",
      "Epoch 14/50\n",
      "627/627 [==============================] - 1s 1ms/sample - loss: 0.5706 - accuracy: 0.9266 - val_loss: 0.8930 - val_accuracy: 0.6624\n",
      "Epoch 15/50\n",
      "627/627 [==============================] - 1s 2ms/sample - loss: 0.0989 - accuracy: 0.9681 - val_loss: 1.0170 - val_accuracy: 0.6815\n",
      "Epoch 16/50\n",
      "627/627 [==============================] - 1s 2ms/sample - loss: 0.0792 - accuracy: 0.9777 - val_loss: 1.1062 - val_accuracy: 0.6624\n",
      "Epoch 17/50\n",
      "627/627 [==============================] - 1s 1ms/sample - loss: 0.0721 - accuracy: 0.9793 - val_loss: 1.2647 - val_accuracy: 0.6306\n",
      "Epoch 18/50\n",
      "627/627 [==============================] - 1s 1ms/sample - loss: 0.0622 - accuracy: 0.9856 - val_loss: 1.3972 - val_accuracy: 0.6561\n",
      "Epoch 19/50\n",
      "627/627 [==============================] - 1s 903us/sample - loss: 0.0570 - accuracy: 0.9809 - val_loss: 1.5494 - val_accuracy: 0.6624\n",
      "Epoch 20/50\n",
      "627/627 [==============================] - 0s 748us/sample - loss: 0.0516 - accuracy: 0.9856 - val_loss: 1.5008 - val_accuracy: 0.6369\n",
      "Epoch 21/50\n",
      "627/627 [==============================] - 0s 624us/sample - loss: 0.0647 - accuracy: 0.9745 - val_loss: 1.4455 - val_accuracy: 0.6433\n",
      "Epoch 22/50\n",
      "627/627 [==============================] - 0s 606us/sample - loss: 0.0432 - accuracy: 0.9872 - val_loss: 1.5715 - val_accuracy: 0.6433\n",
      "Epoch 23/50\n",
      "627/627 [==============================] - 0s 592us/sample - loss: 0.0400 - accuracy: 0.9888 - val_loss: 1.6747 - val_accuracy: 0.6433\n",
      "Epoch 24/50\n",
      "627/627 [==============================] - 0s 631us/sample - loss: 0.0352 - accuracy: 0.9888 - val_loss: 1.7843 - val_accuracy: 0.6497\n",
      "Epoch 25/50\n",
      "627/627 [==============================] - 0s 619us/sample - loss: 0.0352 - accuracy: 0.9904 - val_loss: 1.7899 - val_accuracy: 0.6497\n",
      "Epoch 26/50\n",
      "627/627 [==============================] - 0s 643us/sample - loss: 0.0823 - accuracy: 0.9681 - val_loss: 1.6769 - val_accuracy: 0.6242\n",
      "Epoch 27/50\n",
      "627/627 [==============================] - 0s 765us/sample - loss: 0.0320 - accuracy: 0.9904 - val_loss: 1.8007 - val_accuracy: 0.6369\n",
      "Epoch 28/50\n",
      "627/627 [==============================] - 0s 665us/sample - loss: 0.0280 - accuracy: 0.9904 - val_loss: 1.9022 - val_accuracy: 0.6242\n",
      "Epoch 29/50\n",
      "627/627 [==============================] - 0s 674us/sample - loss: 0.0255 - accuracy: 0.9936 - val_loss: 2.1354 - val_accuracy: 0.6115\n",
      "Epoch 30/50\n",
      "627/627 [==============================] - 0s 749us/sample - loss: 0.0289 - accuracy: 0.9904 - val_loss: 1.7156 - val_accuracy: 0.6115\n",
      "Epoch 31/50\n",
      "627/627 [==============================] - 0s 646us/sample - loss: 0.0259 - accuracy: 0.9936 - val_loss: 1.9870 - val_accuracy: 0.5987\n",
      "Epoch 32/50\n",
      "627/627 [==============================] - 0s 749us/sample - loss: 0.0223 - accuracy: 0.9936 - val_loss: 2.1327 - val_accuracy: 0.5796\n",
      "Epoch 33/50\n",
      "627/627 [==============================] - 0s 719us/sample - loss: 0.0214 - accuracy: 0.9952 - val_loss: 2.2503 - val_accuracy: 0.5924\n",
      "Epoch 34/50\n",
      "627/627 [==============================] - 0s 679us/sample - loss: 0.0200 - accuracy: 0.9952 - val_loss: 2.3923 - val_accuracy: 0.6051\n",
      "Epoch 35/50\n",
      "627/627 [==============================] - 1s 903us/sample - loss: 0.0175 - accuracy: 0.9952 - val_loss: 2.7230 - val_accuracy: 0.5924\n",
      "Epoch 36/50\n",
      "627/627 [==============================] - 1s 803us/sample - loss: 0.0317 - accuracy: 0.9936 - val_loss: 2.3493 - val_accuracy: 0.6178\n",
      "Epoch 37/50\n",
      "627/627 [==============================] - 0s 676us/sample - loss: 0.0160 - accuracy: 0.9952 - val_loss: 2.3537 - val_accuracy: 0.6051\n",
      "Epoch 38/50\n",
      "627/627 [==============================] - 0s 619us/sample - loss: 0.0152 - accuracy: 0.9968 - val_loss: 2.5670 - val_accuracy: 0.6051\n",
      "Epoch 39/50\n",
      "627/627 [==============================] - 0s 608us/sample - loss: 0.0127 - accuracy: 0.9968 - val_loss: 2.8429 - val_accuracy: 0.5987\n",
      "Epoch 40/50\n",
      "627/627 [==============================] - 0s 638us/sample - loss: 0.0136 - accuracy: 0.9952 - val_loss: 2.7975 - val_accuracy: 0.5987\n",
      "Epoch 41/50\n",
      "627/627 [==============================] - 0s 682us/sample - loss: 0.0193 - accuracy: 0.9952 - val_loss: 2.3882 - val_accuracy: 0.6178\n",
      "Epoch 42/50\n",
      "627/627 [==============================] - 0s 592us/sample - loss: 0.0117 - accuracy: 0.9968 - val_loss: 2.6932 - val_accuracy: 0.5987\n",
      "Epoch 43/50\n",
      "627/627 [==============================] - 0s 651us/sample - loss: 0.0096 - accuracy: 0.9968 - val_loss: 2.9111 - val_accuracy: 0.5732\n",
      "Epoch 44/50\n",
      "627/627 [==============================] - 0s 576us/sample - loss: 0.0079 - accuracy: 0.9984 - val_loss: 3.3187 - val_accuracy: 0.6115\n",
      "Epoch 45/50\n",
      "627/627 [==============================] - 0s 619us/sample - loss: 0.0085 - accuracy: 0.9984 - val_loss: 3.0975 - val_accuracy: 0.6306\n",
      "Epoch 46/50\n",
      "627/627 [==============================] - 0s 627us/sample - loss: 0.0081 - accuracy: 0.9968 - val_loss: 2.9701 - val_accuracy: 0.5987\n",
      "Epoch 47/50\n",
      "627/627 [==============================] - 0s 603us/sample - loss: 0.0050 - accuracy: 0.9984 - val_loss: 3.5566 - val_accuracy: 0.5987\n",
      "Epoch 48/50\n",
      "627/627 [==============================] - 0s 609us/sample - loss: 0.0062 - accuracy: 0.9968 - val_loss: 3.2162 - val_accuracy: 0.5987\n",
      "Epoch 49/50\n",
      "627/627 [==============================] - 0s 703us/sample - loss: 0.0079 - accuracy: 0.9968 - val_loss: 3.1396 - val_accuracy: 0.6115\n",
      "Epoch 50/50\n",
      "627/627 [==============================] - 0s 603us/sample - loss: 0.0047 - accuracy: 0.9984 - val_loss: 3.2235 - val_accuracy: 0.6115\n"
     ]
    }
   ],
   "source": [
    "#학습과정\n",
    "hist=model.fit(X_train,y_train[:X_train.shape[0]],epochs=50,\n",
    "              batch_size=60, validation_split=0.2)"
   ]
  },
  {
   "cell_type": "code",
   "execution_count": 34,
   "metadata": {},
   "outputs": [
    {
     "name": "stdout",
     "output_type": "stream",
     "text": [
      "[2.305859144853086, 0.6989796]\n"
     ]
    }
   ],
   "source": [
    "#모형의 성능 평가\n",
    "score=model.evaluate(X_test,y_test[:X_test.shape[0]],verbose=0)\n",
    "print(score)"
   ]
  },
  {
   "cell_type": "code",
   "execution_count": 35,
   "metadata": {},
   "outputs": [
    {
     "data": {
      "image/png": "[encoded data removed]",
      "text/plain": [
       "<Figure size 432x288 with 1 Axes>"
      ]
     },
     "metadata": {
      "needs_background": "light"
     },
     "output_type": "display_data"
    }
   ],
   "source": [
    "#학습과정 그래프\n",
    "plt.plot(hist.history['loss'])\n",
    "plt.plot(hist.history['accuracy'])\n",
    "plt.plot(hist.history['val_loss'])\n",
    "plt.plot(hist.history['val_accuracy'])\n",
    "plt.legend(['loss','accuracy','val_loss','val_accuracy'])\n",
    "plt.show()\n"
   ]
  },
  {
   "cell_type": "code",
   "execution_count": 38,
   "metadata": {},
   "outputs": [
    {
     "name": "stdout",
     "output_type": "stream",
     "text": [
      "[  0   0   0   0   0   0   0   0   0   0   0   0   0   0   0   0   0   0\n",
      "   0   0   0   0   0   0   0   0   0   0   0   0   0   0   0   0   0  35\n",
      " 604   5]\n",
      "[[0.96720815]]\n",
      "[ 0  0  0  0  0  0  0  0  0  0  0  0  0  0  0  0  0  0  0  0  0  0  0  0\n",
      "  0  0  0  0  0  0 59 59 59 59 59 59 59 59]\n",
      "[[5.571596e-12]]\n"
     ]
    }
   ],
   "source": [
    "n=100\n",
    "print(X_test[n])\n",
    "a=model.predict(X_test[n].reshape(1,len(X_test[n])))\n",
    "print(a) #긍정리뷰\n",
    "\n",
    "n=150\n",
    "print(X_test[n])\n",
    "a=model.predict(X_test[n].reshape(1,len(X_test[n])))\n",
    "print(a) #부정리뷰"
   ]
  },
  {
   "cell_type": "code",
   "execution_count": null,
   "metadata": {},
   "outputs": [],
   "source": [
    " "
   ]
  }
 ],
 "metadata": {
  "kernelspec": {
   "display_name": "Python 3",
   "language": "python",
   "name": "python3"
  },
  "language_info": {
   "codemirror_mode": {
    "name": "ipython",
    "version": 3
   },
   "file_extension": ".py",
   "mimetype": "text/x-python",
   "name": "python",
   "nbconvert_exporter": "python",
   "pygments_lexer": "ipython3",
   "version": "3.7.4"
  }
 },
 "nbformat": 4,
 "nbformat_minor": 2
}
