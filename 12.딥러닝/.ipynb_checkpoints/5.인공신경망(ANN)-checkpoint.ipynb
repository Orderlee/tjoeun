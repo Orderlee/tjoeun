{
 "cells": [
  {
   "cell_type": "markdown",
   "metadata": {},
   "source": [
    "실습예제1"
   ]
  },
  {
   "cell_type": "code",
   "execution_count": null,
   "metadata": {},
   "outputs": [],
   "source": [
    "#기초적인 인공신경망\n",
    "from keras.models import Sequential\n",
    "from keras.layers import Dense\n",
    "import numpy as np\n",
    "\n",
    "x=np.array([0,1,2,3,4]) #입력값\n",
    "y=x*2+1 #출력값\n",
    "print(x)\n",
    "print(y)\n",
    "model=Sequential() #신경망 객체\n",
    "# input_shape=(1,) 입력데이터의 형태(독립변수의 갯수)-1차원\n",
    "model.add(Dense(1,input_shape=(1,))) #출력노드 1개\n",
    "#모형 컴파일, SGD 확률적 경사 하강법, mse 손실함수 평균제곱오차\n",
    "model.compile('SGD','mse')\n",
    "#학습, verbose=1 학습과정이 자세히 출력되는 옵션 \n",
    "model.fit(x[:2],y[:2],epochs=500,verbose=1) #학습횟수 500"
   ]
  },
  {
   "cell_type": "code",
   "execution_count": null,
   "metadata": {},
   "outputs": [],
   "source": [
    "print('실제값:',y[:2])\n",
    "# flatten() 2차원 데이터를 1차원 데이터로 변형시키는 함수\n",
    "print('예측값:',model.predict(x[2:]).flatten())"
   ]
  },
  {
   "cell_type": "markdown",
   "metadata": {},
   "source": [
    "실습예제2 - 손글씨 이미지 분류(mnist)"
   ]
  },
  {
   "cell_type": "code",
   "execution_count": null,
   "metadata": {},
   "outputs": [],
   "source": [
    "#로지스틱 회귀분석\n",
    "#케라스에 내장된 숫자 손글씨 데이터셋\n",
    "from keras.datasets import mnist\n",
    "#데이터를 다운로드한 후 학습용, 검증용으로 구분\n",
    "(X_train,y_train),(X_test,y_test)=mnist.load_data()"
   ]
  },
  {
   "cell_type": "code",
   "execution_count": null,
   "metadata": {},
   "outputs": [],
   "source": [
    "print(X_train.shape)"
   ]
  },
  {
   "cell_type": "code",
   "execution_count": null,
   "metadata": {},
   "outputs": [],
   "source": [
    "#기계학습을 위하여 3차원 데이터를 2차원 형태로 변환시킴\n",
    "X_train=X_train.reshape(60000,784).astype('float32')/255.0\n",
    "X_test=X_test.reshape(10000,784).astype('float32')/255.0"
   ]
  },
  {
   "cell_type": "code",
   "execution_count": null,
   "metadata": {},
   "outputs": [],
   "source": [
    "from sklearn.linear_model import LogisticRegression\n",
    "model=LogisticRegression(max_iter=1000) #로지스틱 회귀분석 모형\n",
    "#학습(시간이 오래걸리므로 이미지 100장만으로 학습)\n",
    "model.fit(X_train,y_train)"
   ]
  },
  {
   "cell_type": "code",
   "execution_count": null,
   "metadata": {},
   "outputs": [],
   "source": [
    "#모형의 예측 정확도 평가\n",
    "print(model.score(X_train[:100],y_train[:100]))\n",
    "print(model.score(X_test[:100],y_test[:100]))"
   ]
  },
  {
   "cell_type": "code",
   "execution_count": null,
   "metadata": {},
   "outputs": [],
   "source": [
    "#모형 저장\n",
    "import pickle\n",
    "pickle.dump(model, open('d:/data/mnist/mnist_logit.model','wb'))"
   ]
  },
  {
   "cell_type": "code",
   "execution_count": null,
   "metadata": {},
   "outputs": [],
   "source": [
    "#모형 로딩\n",
    "model=pickle.load(open('d:/data/mnist/mnist_logit.model','rb'))\n",
    "#검증용 데이터를 입력하여 실제값과 예측값 비교\n",
    "pred=model.predict(X_test[:10])\n",
    "print('예측값:',pred[:])\n",
    "print('실제값:',y_test[:10])"
   ]
  },
  {
   "cell_type": "code",
   "execution_count": null,
   "metadata": {},
   "outputs": [],
   "source": [
    "#혼동행렬 출력\n",
    "from sklearn.metrics import confusion_matrix\n",
    "import pandas as pd\n",
    "pred=model.predict(X_test) #예측값\n",
    "\n",
    "cm=confusion_matrix(y_test, pred) #혼동행렬\n",
    "#데이터프레임으로 변환\n",
    "df_cm=pd.DataFrame(cm, index=range(10), columns=range(10))\n",
    "df_cm"
   ]
  },
  {
   "cell_type": "code",
   "execution_count": null,
   "metadata": {},
   "outputs": [],
   "source": [
    "#의사결정 나무\n",
    "from keras.datasets import mnist\n",
    "#데이터를 다운로드한 후 학습용, 검증용으로 구분\n",
    "(X_train,y_train),(X_test,y_test)=mnist.load_data()"
   ]
  },
  {
   "cell_type": "code",
   "execution_count": null,
   "metadata": {},
   "outputs": [],
   "source": [
    "#기계학습을 위하여 3차원 데이터를 2차원 형태로 변환시킴\n",
    "X_train=X_train.reshape(60000,784).astype('float32')/255.0\n",
    "X_test=X_test.reshape(10000,784).astype('float32')/255.0"
   ]
  },
  {
   "cell_type": "code",
   "execution_count": null,
   "metadata": {},
   "outputs": [],
   "source": [
    "from sklearn.tree import DecisionTreeClassifier\n",
    "model=DecisionTreeClassifier() #로지스틱 회귀분석 모형\n",
    "#학습(시간이 오래걸리므로 이미지 100장만으로 학습)\n",
    "model.fit(X_train,y_train)"
   ]
  },
  {
   "cell_type": "code",
   "execution_count": null,
   "metadata": {},
   "outputs": [],
   "source": [
    "print(model.score(X_train[:100],y_train[:100]))\n",
    "print(model.score(X_test[:100],y_test[:100]))"
   ]
  },
  {
   "cell_type": "code",
   "execution_count": null,
   "metadata": {},
   "outputs": [],
   "source": [
    "#모형 저장\n",
    "import pickle\n",
    "pickle.dump(model, open('d:/data/mnist/mnist_tree.model','wb'))"
   ]
  },
  {
   "cell_type": "code",
   "execution_count": null,
   "metadata": {},
   "outputs": [],
   "source": [
    "#모형 로딩\n",
    "model=pickle.load(open('d:/data/mnist/mnist_tree.model','rb'))\n",
    "#검증용 데이터를 입력하여 실제값과 예측값 비교\n",
    "pred=model.predict(X_test[:10])\n",
    "print('예측값:',pred[:])\n",
    "print('실제값:',y_test[:10])"
   ]
  },
  {
   "cell_type": "code",
   "execution_count": null,
   "metadata": {},
   "outputs": [],
   "source": [
    "#혼동행렬 출력\n",
    "from sklearn.metrics import confusion_matrix\n",
    "import pandas as pd\n",
    "pred=model.predict(X_test) #예측값\n",
    "\n",
    "cm=confusion_matrix(y_test, pred) #혼동행렬\n",
    "#데이터프레임으로 변환\n",
    "df_cm=pd.DataFrame(cm, index=range(10), columns=range(10))\n",
    "df_cm"
   ]
  },
  {
   "cell_type": "code",
   "execution_count": null,
   "metadata": {},
   "outputs": [],
   "source": [
    "#랜덤포레스트 모형, 트리갯수 100개\n",
    "from sklearn.ensemble import RandomForestClassifier\n",
    "forest=RandomForestClassifier(n_estimators=100,random_state=10)\n",
    "forest.fit(X_train,y_train)"
   ]
  },
  {
   "cell_type": "code",
   "execution_count": null,
   "metadata": {},
   "outputs": [],
   "source": [
    "print(forest.score(X_train,y_train))\n",
    "print(forest.score(X_test,y_test))"
   ]
  },
  {
   "cell_type": "markdown",
   "metadata": {},
   "source": [
    "사례기반추론"
   ]
  },
  {
   "cell_type": "code",
   "execution_count": null,
   "metadata": {},
   "outputs": [],
   "source": [
    "#손글씨 이미지 데이터셋 다운로드 및 학습용/검증용 구분\n",
    "from keras.datasets import mnist\n",
    "\n",
    "(X_train,y_train),(X_test,y_test) = mnist.load_data()"
   ]
  },
  {
   "cell_type": "code",
   "execution_count": null,
   "metadata": {},
   "outputs": [],
   "source": [
    "#학습용 이미지 6만장,3차원 데이터를 2차원 데이터로 변환\n",
    "X_train=X_train.reshape(60000,784).astype('float32')/255.0\n",
    "#검증용 이미지 1만장\n",
    "X_test=X_test.reshape(10000,784).astype('float32')/255.0"
   ]
  },
  {
   "cell_type": "code",
   "execution_count": null,
   "metadata": {},
   "outputs": [],
   "source": [
    "#최적의 k를 도출하기 위한 코드\n",
    "%matplotlib inline\n",
    "import matplotlib.pyplot as plt\n",
    "import numpy as np\n",
    "from sklearn.neighbors import KNeighborsClassifier\n",
    "train_rate=[]\n",
    "test_rate=[]\n",
    "neighbors=range(1,11)\n",
    "for n in neighbors:\n",
    "    knn=KNeighborsClassifier(n_neighbors=n) #n_neighbors 이웃의 수\n",
    "    knn.fit(X_train[:100],y_train[:100]) #이미지 100장만 학습\n",
    "    #정확도를 저장\n",
    "    train_rate.append(knn.score(X_train[:100],y_train[:100]))\n",
    "    test_rate.append(knn.score(X_test[:100],y_test[:100]))\n",
    "    \n",
    "plt.rcParams['font.size']=15 #그래프의 폰트 사이즈\n",
    "plt.plot(neighbors,train_rate,label='Train') #학습용 정확도\n",
    "plt.plot(neighbors,test_rate,label='Test') #검증용 정확도\n",
    "plt.ylabel('Accuracy') #y축의 라벨\n",
    "plt.xlabel('k') #x축의 라벨\n",
    "plt.legend() #범례 표시\n",
    "\n",
    "max_rate=max(test_rate) #최대값\n",
    "idx=np.argmax(test_rate) #최대값이 몇번째 인덱스에 있는지 계산\n",
    "print('최적의 k:',idx+1)\n",
    "print('최적의 정확도:',max_rate)"
   ]
  },
  {
   "cell_type": "code",
   "execution_count": null,
   "metadata": {},
   "outputs": [],
   "source": [
    "#k-1 모형\n",
    "model=KNeighborsClassifier(n_neighbors=1)\n",
    "model.fit(X_train[:1000],y_train[:1000])"
   ]
  },
  {
   "cell_type": "code",
   "execution_count": null,
   "metadata": {},
   "outputs": [],
   "source": [
    "#모형평가\n",
    "print(model.score(X_train[:1000],y_train[:1000]))\n",
    "print(model.score(X_test[:1000],y_test[:1000]))"
   ]
  },
  {
   "cell_type": "code",
   "execution_count": null,
   "metadata": {},
   "outputs": [],
   "source": [
    "#모형 저장\n",
    "import pickle\n",
    "pickle.dump(model,open('d:/data/mnist/mnist_knn.model','wb'))"
   ]
  },
  {
   "cell_type": "code",
   "execution_count": null,
   "metadata": {},
   "outputs": [],
   "source": [
    "#모형 불러오기\n",
    "model=pickle.load(open('d:/data/mnist/mnist_knn.model','rb'))\n",
    "pred=model.predict(X_test[:10])\n",
    "print('예측값:',pred)\n",
    "print('실제값:',y_test[:10])"
   ]
  },
  {
   "cell_type": "code",
   "execution_count": null,
   "metadata": {},
   "outputs": [],
   "source": [
    "#혼동행렬 출력\n",
    "from sklearn.metrics import confusion_matrix\n",
    "import pandas as pd\n",
    "pred=model.predict(X_test)\n",
    "cm=confusion_matrix(y_test,pred)\n",
    "df_cm=pd.DataFrame(cm,index=range(10),columns=range(10))\n",
    "df_cm"
   ]
  },
  {
   "cell_type": "markdown",
   "metadata": {},
   "source": [
    "인공신경망(sklearn)"
   ]
  },
  {
   "cell_type": "code",
   "execution_count": null,
   "metadata": {},
   "outputs": [],
   "source": [
    "#손글씨 이미지 데이터셋 다운로드 및 학습용/검증용 구분\n",
    "from keras.datasets import mnist\n",
    "\n",
    "(X_train,y_train),(X_test,y_test) = mnist.load_data()"
   ]
  },
  {
   "cell_type": "code",
   "execution_count": null,
   "metadata": {},
   "outputs": [],
   "source": [
    "#학습용 이미지 6만장,3차원 데이터를 2차원 데이터로 변환\n",
    "X_train=X_train.reshape(60000,784).astype('float32')/255.0\n",
    "#검증용 이미지 1만장\n",
    "X_test=X_test.reshape(10000,784).astype('float32')/255.0"
   ]
  },
  {
   "cell_type": "code",
   "execution_count": null,
   "metadata": {},
   "outputs": [],
   "source": [
    "#range(strat,stop,step)\n",
    "for i in range(100,301,100):\n",
    "    print(i)\n"
   ]
  },
  {
   "cell_type": "code",
   "execution_count": null,
   "metadata": {},
   "outputs": [],
   "source": [
    "#최적의 은닉노드 갯수를 구하는 실험\n",
    "from sklearn.neural_network import MLPClassifier\n",
    "%matplotlib inline\n",
    "import numpy as np\n",
    "import matplotlib.pyplot as plt\n",
    "train_rate=[]\n",
    "test_rate=[]\n",
    "for i in range(100,301,100):\n",
    "    for j in range(100,301,100):\n",
    "        model=MLPClassifier(random_state=100,\n",
    "                           hidden_layer_sizes=[i,j],max_iter=1000)\n",
    "        model.fit(X_train[:1000],y_train[:1000])\n",
    "        train_rate.append(model.score(X_train[:1000],y_train[:1000]))\n",
    "        test_rate.append(model.score(X_test[:1000],y_test[:1000]))\n",
    "        \n",
    "plt.rcParams['font.size']=15\n",
    "plt.plot(range(1,10),train_rate,label='Train')\n",
    "plt.plot(range(1,10),test_rate,label='Test')\n",
    "plt.ylabel('Accuracy')\n",
    "plt.xlabel('count')\n",
    "plt.legend()\n",
    "\n",
    "max_rate=max(test_rate)#최대값\n",
    "idx=np.where(test_rate == max_rate)[0][0] #최대값의 위치\n",
    "print('최적의 정확도:',max_rate)\n",
    "cnt=0\n",
    "for i in range(100,301,100):\n",
    "    for j in range(100,301,100):\n",
    "        if cnt==idx:\n",
    "            print(i,j) #값을 출력ㄱ하고\n",
    "            break\n",
    "        cnt+=1 #카운트 증가 처리"
   ]
  },
  {
   "cell_type": "code",
   "execution_count": null,
   "metadata": {},
   "outputs": [],
   "source": [
    "#실험을 통해 얻은 최적의 노드 갯수를 적용한 인공신경망 모형\n",
    "model=MLPClassifier(hidden_layer_sizes=[300,100],random_state=100)\n",
    "model.fit(X_train[:1000],y_train[:1000])"
   ]
  },
  {
   "cell_type": "code",
   "execution_count": null,
   "metadata": {},
   "outputs": [],
   "source": [
    "print(model.score(X_train[:1000],y_train[:1000]))\n",
    "print(model.score(X_test[:1000],y_test[:1000]))"
   ]
  },
  {
   "cell_type": "markdown",
   "metadata": {},
   "source": [
    "SVM"
   ]
  },
  {
   "cell_type": "code",
   "execution_count": null,
   "metadata": {},
   "outputs": [],
   "source": [
    "#손글씨 이미지 데이터셋 다운로드 및 학습용/검증용 구분\n",
    "from keras.datasets import mnist\n",
    "\n",
    "(x_train,y_train),(x_test,y_test) = mnist.load_data()"
   ]
  },
  {
   "cell_type": "code",
   "execution_count": null,
   "metadata": {},
   "outputs": [],
   "source": [
    "#학습용 이미지 6만장,3차원 데이터를 2차원 데이터로 변환\n",
    "x_train=x_train.reshape(60000,784).astype('float32')/255.0\n",
    "#검증용 이미지 1만장\n",
    "x_test=x_test.reshape(10000,784).astype('float32')/255.0"
   ]
  },
  {
   "cell_type": "code",
   "execution_count": null,
   "metadata": {},
   "outputs": [],
   "source": [
    "#최적의 cost,gamma를 도출하는 실험\n",
    "%matplotlib inline\n",
    "from sklearn.svm import SVC\n",
    "import matplotlib.pyplot as plt\n",
    "import numpy as np\n",
    "train_rate=[]\n",
    "test_rate=[]\n",
    "c_values=[0.001,0.01,0.1,1,10,100,1000]\n",
    "g_values=[0.0001,0.001,0.01,0.1]\n",
    "for n in c_values:\n",
    "    for g in g_values:\n",
    "        model=SVC(C=n,gamma=g, random_state=10)\n",
    "        model.fit(X_train[:100],y_train[:100])\n",
    "        train_rate.append(\n",
    "        [n,g,model.score(X_train[:100],y_train[:100])])\n",
    "        test_rate.append(\n",
    "        [n,g,model.score(X_test[:100],y_test[:100])])\n",
    "        \n",
    "train_arr=np.array(train_rate)\n",
    "test_arr=np.array(test_rate)\n",
    "max_rate=np.max(test_arr[:,2])\n",
    "idx=np.where(test_arr[:,2]==max_rate)[0][0]\n",
    "print('최적의 c:',test_rate[idx])\n",
    "print('최적의 gamma:',test_rate[idx][1])\n",
    "print('최적의 정확도:', test_rate[idx][2])\n",
    "plt.rcParams['font.size']=15\n",
    "plt.plot(range(len(train_rate)),train_arr[:,2],label='Train')\n",
    "plt.plot(range(len(test_rate)),test_arr[:,2],label='Test')\n",
    "plt.ylabel('Accuracy')\n",
    "plt.legend()"
   ]
  },
  {
   "cell_type": "code",
   "execution_count": null,
   "metadata": {},
   "outputs": [],
   "source": [
    "print('최적의 c:',test_rate[idx][0])"
   ]
  },
  {
   "cell_type": "code",
   "execution_count": null,
   "metadata": {},
   "outputs": [],
   "source": [
    "#최적의 파라미터를 적용한 SVM 모형\n",
    "model=SVC(C=10, gamma=0.01, random_state=10)\n",
    "model.fit(X_train[:1000],y_train[:1000])"
   ]
  },
  {
   "cell_type": "code",
   "execution_count": null,
   "metadata": {},
   "outputs": [],
   "source": [
    "print(model.score(X_train,y_train))\n",
    "print(model.score(X_test,y_test))"
   ]
  },
  {
   "cell_type": "markdown",
   "metadata": {},
   "source": [
    "인공신경망(keras)"
   ]
  },
  {
   "cell_type": "code",
   "execution_count": null,
   "metadata": {},
   "outputs": [],
   "source": [
    "#손글씨 이미지 데이터셋 다운로드 및 학습용/검증용 구분\n",
    "from keras.datasets import mnist\n",
    "\n",
    "(x_train,y_train),(x_test,y_test) = mnist.load_data()"
   ]
  },
  {
   "cell_type": "code",
   "execution_count": null,
   "metadata": {},
   "outputs": [],
   "source": [
    "#학습용 이미지 6만장,3차원 데이터를 2차원 데이터로 변환\n",
    "x_train=x_train.reshape(60000,784).astype('float32')/255.0\n",
    "#검증용 이미지 1만장\n",
    "x_test=x_test.reshape(10000,784).astype('float32')/255.0"
   ]
  },
  {
   "cell_type": "code",
   "execution_count": null,
   "metadata": {},
   "outputs": [],
   "source": [
    "y_train[:5]"
   ]
  },
  {
   "cell_type": "code",
   "execution_count": null,
   "metadata": {},
   "outputs": [],
   "source": [
    "#출력데이터의 원핫인코딩\n",
    "from keras.utils import np_utils\n",
    "y_train=np_utils.to_categorical(y_train)\n",
    "y_test=np_utils.to_categorical(y_test)"
   ]
  },
  {
   "cell_type": "code",
   "execution_count": null,
   "metadata": {},
   "outputs": [],
   "source": [
    "y_train[:5]"
   ]
  },
  {
   "cell_type": "code",
   "execution_count": null,
   "metadata": {},
   "outputs": [],
   "source": [
    "#validation 데이터\n",
    "x_val=x_train[:12600]\n",
    "x_train=x_train[12600:]\n",
    "y_val=y_train[:12600]\n",
    "y_train=y_train[12600:]"
   ]
  },
  {
   "cell_type": "code",
   "execution_count": null,
   "metadata": {},
   "outputs": [],
   "source": [
    "print(x_train.shape) #Train\n",
    "print(x_val.shape) #Validation\n",
    "print(x_test.shape) #Test"
   ]
  },
  {
   "cell_type": "code",
   "execution_count": null,
   "metadata": {},
   "outputs": [],
   "source": [
    "#신경망 모형\n",
    "from keras.models import Sequential\n",
    "from keras.layers import Dense\n",
    "model=Sequential() #인공신경망 모형 객체\n",
    "#units 출력노드 갯수, input_dim 입력값의 차원, activation 활성화 함수\n",
    "model.add(Dense(units=64, input_dim=28*28, activation='relu'))\n",
    "#출력노드수는 10개,softmax 함수(0일 확률, 1일 확률,,,)\n",
    "model.add(Dense(units=10, activation='softmax'))\n",
    "#모형 컴파일, 손실함수와 최적화함수, 측정항목 지정\n",
    "model.compile(loss='categorical_crossentropy',optimizer='sgd',\n",
    "             metrics=['accuracy'])"
   ]
  },
  {
   "cell_type": "code",
   "execution_count": null,
   "metadata": {},
   "outputs": [],
   "source": [
    "model.summary() #모형 요약"
   ]
  },
  {
   "cell_type": "code",
   "execution_count": null,
   "metadata": {},
   "outputs": [],
   "source": [
    "#학습, epochs 실험횟수, batch_size 학습할 이미지의 갯수\n",
    "#validation_data 인공신경망을 튜닝하고 파라미터를 최적화하기 위한 데이터\n",
    "hist=model.fit(x_train,y_train,epochs=5,batch_size=32,\n",
    "              validation_data=(x_val,y_val))"
   ]
  },
  {
   "cell_type": "code",
   "execution_count": null,
   "metadata": {},
   "outputs": [],
   "source": [
    "import numpy as np\n",
    "from numpy import argmax\n",
    "#모형평가\n",
    "loss_and_metrics=model.evaluate(x_test,y_test,batch_size=32,verbose=1)\n",
    "print('loss_and_metrics:' + str(loss_and_metrics))\n",
    "#랜덤으로 이미지 5장 선택\n",
    "xhat_idx=np.random.choice(x_test.shape[0],50)\n",
    "xhat=x_test[xhat_idx]\n",
    "#예측값\n",
    "yhat=model.predict_classes(xhat)\n",
    "print(yhat)\n",
    "print(y_test[i])\n",
    "print(argmax(y_test[xhat_idx[i]]))\n",
    "for i in range(50):\n",
    "    print('True:'+str(argmax(y_test[xhat_idx[i]]))+\n",
    "         ', Predict:' + str(yhat[i]))\n",
    "#모형을 파일로 저장\n",
    "model.save('d:/data/mnist/mnist_keras.model')"
   ]
  },
  {
   "cell_type": "code",
   "execution_count": null,
   "metadata": {},
   "outputs": [],
   "source": [
    "%matplotlib inline\n",
    "import matplotlib.pyplot as plt\n",
    "fig,loss_ax=plt.subplots() #서브플롯\n",
    "#서로 다른 y축을 가진 데이터를 동일한 플롯에 그래프 출력\n",
    "acc_ax=loss_ax.twinx()\n",
    "#Train 데이터셋의 손실률\n",
    "loss_ax.plot(hist.history['loss'],'y',label='train loss')\n",
    "#Validation 데이터셋의 손실률\n",
    "loss_ax.plot(hist.history['val_loss'],'r',label='val loss')\n",
    "#Train 데이터셋의 정확도\n",
    "acc_ax.plot(hist.history['accuracy'],'b',label='train acc')\n",
    "#Validation 데이터셋의 정확도\n",
    "acc_ax.plot(hist.history['val_accuracy'],'g',label='val loss')\n",
    "loss_ax.set_xlabel('epoch')\n",
    "loss_ax.set_ylabel('loss')\n",
    "acc_ax.set_ylabel('accuracy')\n",
    "loss_ax.legend(loc='upper left')\n",
    "acc_ax.legend(loc='lower left')\n",
    "plt.show()"
   ]
  },
  {
   "cell_type": "code",
   "execution_count": null,
   "metadata": {},
   "outputs": [],
   "source": [
    "from keras.models import load_model\n",
    "#평가용 이미지 50장을 랜덤으로 선택\n",
    "xhat_idx=np.random.choice(x_test.shape[0],50)\n",
    "xhat=x_test[xhat_idx]\n",
    "\n",
    "#미리 저장된 모형 불러오기\n",
    "model=load_model('d:/data/mnist/mnist_keras.model')\n",
    "\n",
    "#숫자예측\n",
    "yhat=model.predict_classes(xhat)\n",
    "for i in range(50):\n",
    "    print('True:' + str(argmax(y_test[xhat_idx[i]]))\n",
    "         +',Predict:' +str(yhat[i]))"
   ]
  },
  {
   "cell_type": "markdown",
   "metadata": {},
   "source": [
    "실습예제 3 - 당뇨병 데이터셋"
   ]
  },
  {
   "cell_type": "code",
   "execution_count": null,
   "metadata": {},
   "outputs": [],
   "source": [
    "import pandas as pd\n",
    "df=pd.read_csv('d:/data/pima/data.csv')\n",
    "df.head()"
   ]
  },
  {
   "cell_type": "code",
   "execution_count": null,
   "metadata": {},
   "outputs": [],
   "source": [
    "df.columns=[\"pregnancies\",\"glucose\",\"blood_pressure\",\"skin_thickness\",\"insulin\",\n",
    "           \"bmi\",\"Diabetes_Pedigree_Function\",\"age\",\"outcome\"]\n",
    "df.head()"
   ]
  },
  {
   "cell_type": "code",
   "execution_count": null,
   "metadata": {},
   "outputs": [],
   "source": [
    "df.groupby('outcome').mean() #샘플링 전의 카운트"
   ]
  },
  {
   "cell_type": "code",
   "execution_count": null,
   "metadata": {},
   "outputs": [],
   "source": [
    "df[\"outcome\"].value_counts()"
   ]
  },
  {
   "cell_type": "code",
   "execution_count": null,
   "metadata": {},
   "outputs": [],
   "source": [
    "train_cols=df.columns[0:8]"
   ]
  },
  {
   "cell_type": "code",
   "execution_count": null,
   "metadata": {},
   "outputs": [],
   "source": [
    "X=df[train_cols]\n",
    "y=df[\"outcome\"]"
   ]
  },
  {
   "cell_type": "code",
   "execution_count": null,
   "metadata": {},
   "outputs": [],
   "source": [
    "from imblearn.under_sampling import RandomUnderSampler\n",
    "\n",
    "X_sample, y_sample = RandomUnderSampler(random_state=0).fit_sample(X,y)\n",
    "\n",
    "X_samp=pd.DataFrame(data=X_sample,columns=train_cols)\n",
    "y_samp=pd.DataFrame(data=y_sample,columns=['outcome'])\n",
    "df_samp=pd.concat([X_samp,y_samp],axis=1)"
   ]
  },
  {
   "cell_type": "code",
   "execution_count": null,
   "metadata": {},
   "outputs": [],
   "source": [
    "df_samp[\"outcome\"].value_counts()"
   ]
  },
  {
   "cell_type": "code",
   "execution_count": null,
   "metadata": {},
   "outputs": [],
   "source": [
    "#학습용:검증용 8:2로 구분\n",
    "from sklearn.model_selection import train_test_split\n",
    "X_train,X_test,y_train,y_test=train_test_split(X,y,test_size=0.2,\n",
    "                                              stratify=y,random_state=10)"
   ]
  },
  {
   "cell_type": "code",
   "execution_count": null,
   "metadata": {},
   "outputs": [],
   "source": [
    "#인공신경망\n",
    "from keras.models import Sequential\n",
    "from keras.layers.core import Dense\n",
    "model=Sequential() #신경망 모형 객체\n",
    "#input_shape => input layer의 노드갯수=독립변수 갯수\n",
    "#Dense(출력노드갯수, activation='활성화함수')\n",
    "model.add(Dense(128,input_shape=(8,),activation='relu'))\n",
    "model.add(Dense(64, activation='relu')) #첫번째 은닉층\n",
    "model.add(Dense(32, activation='relu')) #두번째 은닉층\n",
    "#output layer, 노드수 1개, 활성화함수 sigmoid 0.0~1.0 (미분류)\n",
    "model.add(Dense(1, activation='sigmoid'))\n",
    "#모형 컴파일, 손실함수와 최적화함수, 측정할 항목 지정\n",
    "model.compile(loss='mse',optimizer='adam',metrics=['accuracy'])\n",
    "model.summary() #모형 요약"
   ]
  },
  {
   "cell_type": "code",
   "execution_count": null,
   "metadata": {},
   "outputs": [],
   "source": [
    "X_train.boxplot()"
   ]
  },
  {
   "cell_type": "code",
   "execution_count": null,
   "metadata": {},
   "outputs": [],
   "source": [
    "min_on_tr=X_train.min(axis=0)\n",
    "range_on_tr=(X_train-min_on_tr).max(axis=0)\n",
    "X_train_scaled=(X_train - min_on_tr)/ range_on_tr\n",
    "X_test_scaled=(X_test - min_on_tr) / range_on_tr"
   ]
  },
  {
   "cell_type": "code",
   "execution_count": null,
   "metadata": {},
   "outputs": [],
   "source": [
    "X_train_scaled.boxplot()"
   ]
  },
  {
   "cell_type": "code",
   "execution_count": null,
   "metadata": {},
   "outputs": [],
   "source": [
    "X_train.shape"
   ]
  },
  {
   "cell_type": "code",
   "execution_count": null,
   "metadata": {},
   "outputs": [],
   "source": [
    "#학습과정, validation_split validation 데이터의 비율\n",
    "from keras.callbacks import EarlyStopping\n",
    "import numpy as np\n",
    "\n",
    "#학습을 조기에 종료시키는 함수, 2회이상 개선이 되지 않으면 종료\n",
    "early_stopping=EarlyStopping(patience=2) \n",
    "hist=model.fit(X_train_scaled,y_train,epochs=50,\n",
    "               validation_split=0.2,callbacks=[early_stopping])\n",
    "# hist=model.fit(X_train_scaled,y_train,epochs=50,\n",
    "#                validation_split=0.2)"
   ]
  },
  {
   "cell_type": "code",
   "execution_count": null,
   "metadata": {},
   "outputs": [],
   "source": [
    "#손실률과 정확도 그래프\n",
    "%matplotlib inline\n",
    "import matplotlib.pyplot as plt\n",
    "plt.figure(figsize=(12,8))\n",
    "plt.plot(hist.history['loss'])\n",
    "plt.plot(hist.history['accuracy'])\n",
    "plt.legend(['loss','accuracy'])\n",
    "plt.grid()\n",
    "plt.show()"
   ]
  },
  {
   "cell_type": "code",
   "execution_count": null,
   "metadata": {},
   "outputs": [],
   "source": [
    "#모형의 정확도 평가\n",
    "scores=model.evaluate(X_train_scaled,y_train,verbose=1)\n",
    "print(scores)\n",
    "scores=model.evaluate(X_test_scaled,y_test,verbose=1)\n",
    "print(scores)"
   ]
  },
  {
   "cell_type": "markdown",
   "metadata": {},
   "source": [
    "실습예제4-붓꽃데이터"
   ]
  },
  {
   "cell_type": "code",
   "execution_count": 1,
   "metadata": {},
   "outputs": [
    {
     "data": {
      "text/html": [
       "<div>\n",
       "<style scoped>\n",
       "    .dataframe tbody tr th:only-of-type {\n",
       "        vertical-align: middle;\n",
       "    }\n",
       "\n",
       "    .dataframe tbody tr th {\n",
       "        vertical-align: top;\n",
       "    }\n",
       "\n",
       "    .dataframe thead th {\n",
       "        text-align: right;\n",
       "    }\n",
       "</style>\n",
       "<table border=\"1\" class=\"dataframe\">\n",
       "  <thead>\n",
       "    <tr style=\"text-align: right;\">\n",
       "      <th></th>\n",
       "      <th>sepal_length</th>\n",
       "      <th>sepal_width</th>\n",
       "      <th>petal_length</th>\n",
       "      <th>petal_width</th>\n",
       "      <th>species</th>\n",
       "    </tr>\n",
       "  </thead>\n",
       "  <tbody>\n",
       "    <tr>\n",
       "      <td>0</td>\n",
       "      <td>5.1</td>\n",
       "      <td>3.5</td>\n",
       "      <td>1.4</td>\n",
       "      <td>0.2</td>\n",
       "      <td>setosa</td>\n",
       "    </tr>\n",
       "    <tr>\n",
       "      <td>1</td>\n",
       "      <td>4.9</td>\n",
       "      <td>3.0</td>\n",
       "      <td>1.4</td>\n",
       "      <td>0.2</td>\n",
       "      <td>setosa</td>\n",
       "    </tr>\n",
       "    <tr>\n",
       "      <td>2</td>\n",
       "      <td>4.7</td>\n",
       "      <td>3.2</td>\n",
       "      <td>1.3</td>\n",
       "      <td>0.2</td>\n",
       "      <td>setosa</td>\n",
       "    </tr>\n",
       "    <tr>\n",
       "      <td>3</td>\n",
       "      <td>4.6</td>\n",
       "      <td>3.1</td>\n",
       "      <td>1.5</td>\n",
       "      <td>0.2</td>\n",
       "      <td>setosa</td>\n",
       "    </tr>\n",
       "    <tr>\n",
       "      <td>4</td>\n",
       "      <td>5.0</td>\n",
       "      <td>3.6</td>\n",
       "      <td>1.4</td>\n",
       "      <td>0.2</td>\n",
       "      <td>setosa</td>\n",
       "    </tr>\n",
       "  </tbody>\n",
       "</table>\n",
       "</div>"
      ],
      "text/plain": [
       "   sepal_length  sepal_width  petal_length  petal_width species\n",
       "0           5.1          3.5           1.4          0.2  setosa\n",
       "1           4.9          3.0           1.4          0.2  setosa\n",
       "2           4.7          3.2           1.3          0.2  setosa\n",
       "3           4.6          3.1           1.5          0.2  setosa\n",
       "4           5.0          3.6           1.4          0.2  setosa"
      ]
     },
     "execution_count": 1,
     "metadata": {},
     "output_type": "execute_result"
    }
   ],
   "source": [
    "import seaborn as sns\n",
    "#seaborn 퍄카자애 내장된 iris 데이터셋 로딩\n",
    "iris=sns.load_dataset('iris')\n",
    "iris.head()"
   ]
  },
  {
   "cell_type": "code",
   "execution_count": 2,
   "metadata": {},
   "outputs": [
    {
     "data": {
      "text/plain": [
       "array(['setosa', 'setosa', 'setosa', 'setosa', 'setosa', 'setosa',\n",
       "       'setosa', 'setosa', 'setosa', 'setosa', 'setosa', 'setosa',\n",
       "       'setosa', 'setosa', 'setosa', 'setosa', 'setosa', 'setosa',\n",
       "       'setosa', 'setosa', 'setosa', 'setosa', 'setosa', 'setosa',\n",
       "       'setosa', 'setosa', 'setosa', 'setosa', 'setosa', 'setosa',\n",
       "       'setosa', 'setosa', 'setosa', 'setosa', 'setosa', 'setosa',\n",
       "       'setosa', 'setosa', 'setosa', 'setosa', 'setosa', 'setosa',\n",
       "       'setosa', 'setosa', 'setosa', 'setosa', 'setosa', 'setosa',\n",
       "       'setosa', 'setosa', 'versicolor', 'versicolor', 'versicolor',\n",
       "       'versicolor', 'versicolor', 'versicolor', 'versicolor',\n",
       "       'versicolor', 'versicolor', 'versicolor', 'versicolor',\n",
       "       'versicolor', 'versicolor', 'versicolor', 'versicolor',\n",
       "       'versicolor', 'versicolor', 'versicolor', 'versicolor',\n",
       "       'versicolor', 'versicolor', 'versicolor', 'versicolor',\n",
       "       'versicolor', 'versicolor', 'versicolor', 'versicolor',\n",
       "       'versicolor', 'versicolor', 'versicolor', 'versicolor',\n",
       "       'versicolor', 'versicolor', 'versicolor', 'versicolor',\n",
       "       'versicolor', 'versicolor', 'versicolor', 'versicolor',\n",
       "       'versicolor', 'versicolor', 'versicolor', 'versicolor',\n",
       "       'versicolor', 'versicolor', 'versicolor', 'versicolor',\n",
       "       'versicolor', 'versicolor', 'versicolor', 'virginica', 'virginica',\n",
       "       'virginica', 'virginica', 'virginica', 'virginica', 'virginica',\n",
       "       'virginica', 'virginica', 'virginica', 'virginica', 'virginica',\n",
       "       'virginica', 'virginica', 'virginica', 'virginica', 'virginica',\n",
       "       'virginica', 'virginica', 'virginica', 'virginica', 'virginica',\n",
       "       'virginica', 'virginica', 'virginica', 'virginica', 'virginica',\n",
       "       'virginica', 'virginica', 'virginica', 'virginica', 'virginica',\n",
       "       'virginica', 'virginica', 'virginica', 'virginica', 'virginica',\n",
       "       'virginica', 'virginica', 'virginica', 'virginica', 'virginica',\n",
       "       'virginica', 'virginica', 'virginica', 'virginica', 'virginica',\n",
       "       'virginica', 'virginica', 'virginica'], dtype=object)"
      ]
     },
     "execution_count": 2,
     "metadata": {},
     "output_type": "execute_result"
    }
   ],
   "source": [
    "from sklearn.preprocessing import LabelEncoder\n",
    "import pandas as pd\n",
    "\n",
    "X=iris.iloc[:, 0:4].values #독립변수\n",
    "y=iris.iloc[:,4].values #종속변수\n",
    "y"
   ]
  },
  {
   "cell_type": "code",
   "execution_count": 3,
   "metadata": {},
   "outputs": [
    {
     "data": {
      "text/plain": [
       "array([[1, 0, 0],\n",
       "       [1, 0, 0],\n",
       "       [1, 0, 0],\n",
       "       [1, 0, 0],\n",
       "       [1, 0, 0],\n",
       "       [1, 0, 0],\n",
       "       [1, 0, 0],\n",
       "       [1, 0, 0],\n",
       "       [1, 0, 0],\n",
       "       [1, 0, 0],\n",
       "       [1, 0, 0],\n",
       "       [1, 0, 0],\n",
       "       [1, 0, 0],\n",
       "       [1, 0, 0],\n",
       "       [1, 0, 0],\n",
       "       [1, 0, 0],\n",
       "       [1, 0, 0],\n",
       "       [1, 0, 0],\n",
       "       [1, 0, 0],\n",
       "       [1, 0, 0],\n",
       "       [1, 0, 0],\n",
       "       [1, 0, 0],\n",
       "       [1, 0, 0],\n",
       "       [1, 0, 0],\n",
       "       [1, 0, 0],\n",
       "       [1, 0, 0],\n",
       "       [1, 0, 0],\n",
       "       [1, 0, 0],\n",
       "       [1, 0, 0],\n",
       "       [1, 0, 0],\n",
       "       [1, 0, 0],\n",
       "       [1, 0, 0],\n",
       "       [1, 0, 0],\n",
       "       [1, 0, 0],\n",
       "       [1, 0, 0],\n",
       "       [1, 0, 0],\n",
       "       [1, 0, 0],\n",
       "       [1, 0, 0],\n",
       "       [1, 0, 0],\n",
       "       [1, 0, 0],\n",
       "       [1, 0, 0],\n",
       "       [1, 0, 0],\n",
       "       [1, 0, 0],\n",
       "       [1, 0, 0],\n",
       "       [1, 0, 0],\n",
       "       [1, 0, 0],\n",
       "       [1, 0, 0],\n",
       "       [1, 0, 0],\n",
       "       [1, 0, 0],\n",
       "       [1, 0, 0],\n",
       "       [0, 1, 0],\n",
       "       [0, 1, 0],\n",
       "       [0, 1, 0],\n",
       "       [0, 1, 0],\n",
       "       [0, 1, 0],\n",
       "       [0, 1, 0],\n",
       "       [0, 1, 0],\n",
       "       [0, 1, 0],\n",
       "       [0, 1, 0],\n",
       "       [0, 1, 0],\n",
       "       [0, 1, 0],\n",
       "       [0, 1, 0],\n",
       "       [0, 1, 0],\n",
       "       [0, 1, 0],\n",
       "       [0, 1, 0],\n",
       "       [0, 1, 0],\n",
       "       [0, 1, 0],\n",
       "       [0, 1, 0],\n",
       "       [0, 1, 0],\n",
       "       [0, 1, 0],\n",
       "       [0, 1, 0],\n",
       "       [0, 1, 0],\n",
       "       [0, 1, 0],\n",
       "       [0, 1, 0],\n",
       "       [0, 1, 0],\n",
       "       [0, 1, 0],\n",
       "       [0, 1, 0],\n",
       "       [0, 1, 0],\n",
       "       [0, 1, 0],\n",
       "       [0, 1, 0],\n",
       "       [0, 1, 0],\n",
       "       [0, 1, 0],\n",
       "       [0, 1, 0],\n",
       "       [0, 1, 0],\n",
       "       [0, 1, 0],\n",
       "       [0, 1, 0],\n",
       "       [0, 1, 0],\n",
       "       [0, 1, 0],\n",
       "       [0, 1, 0],\n",
       "       [0, 1, 0],\n",
       "       [0, 1, 0],\n",
       "       [0, 1, 0],\n",
       "       [0, 1, 0],\n",
       "       [0, 1, 0],\n",
       "       [0, 1, 0],\n",
       "       [0, 1, 0],\n",
       "       [0, 1, 0],\n",
       "       [0, 1, 0],\n",
       "       [0, 1, 0],\n",
       "       [0, 1, 0],\n",
       "       [0, 0, 1],\n",
       "       [0, 0, 1],\n",
       "       [0, 0, 1],\n",
       "       [0, 0, 1],\n",
       "       [0, 0, 1],\n",
       "       [0, 0, 1],\n",
       "       [0, 0, 1],\n",
       "       [0, 0, 1],\n",
       "       [0, 0, 1],\n",
       "       [0, 0, 1],\n",
       "       [0, 0, 1],\n",
       "       [0, 0, 1],\n",
       "       [0, 0, 1],\n",
       "       [0, 0, 1],\n",
       "       [0, 0, 1],\n",
       "       [0, 0, 1],\n",
       "       [0, 0, 1],\n",
       "       [0, 0, 1],\n",
       "       [0, 0, 1],\n",
       "       [0, 0, 1],\n",
       "       [0, 0, 1],\n",
       "       [0, 0, 1],\n",
       "       [0, 0, 1],\n",
       "       [0, 0, 1],\n",
       "       [0, 0, 1],\n",
       "       [0, 0, 1],\n",
       "       [0, 0, 1],\n",
       "       [0, 0, 1],\n",
       "       [0, 0, 1],\n",
       "       [0, 0, 1],\n",
       "       [0, 0, 1],\n",
       "       [0, 0, 1],\n",
       "       [0, 0, 1],\n",
       "       [0, 0, 1],\n",
       "       [0, 0, 1],\n",
       "       [0, 0, 1],\n",
       "       [0, 0, 1],\n",
       "       [0, 0, 1],\n",
       "       [0, 0, 1],\n",
       "       [0, 0, 1],\n",
       "       [0, 0, 1],\n",
       "       [0, 0, 1],\n",
       "       [0, 0, 1],\n",
       "       [0, 0, 1],\n",
       "       [0, 0, 1],\n",
       "       [0, 0, 1],\n",
       "       [0, 0, 1],\n",
       "       [0, 0, 1],\n",
       "       [0, 0, 1],\n",
       "       [0, 0, 1]], dtype=uint8)"
      ]
     },
     "execution_count": 3,
     "metadata": {},
     "output_type": "execute_result"
    }
   ],
   "source": [
    "from sklearn.preprocessing import LabelEncoder\n",
    "import pandas as pd\n",
    "\n",
    "X=iris.iloc[:, 0:4].values #독립변수\n",
    "y=iris.iloc[:,4].values #종속변수\n",
    "#출력노드를 3개로 만들기 위한 원핫인코딩\n",
    "encoder=LabelEncoder()\n",
    "y1=encoder.fit_transform(y)\n",
    "y2=pd.get_dummies(y1).values\n",
    "y2"
   ]
  },
  {
   "cell_type": "code",
   "execution_count": 4,
   "metadata": {},
   "outputs": [
    {
     "data": {
      "text/plain": [
       "((120, 4), (30, 4), (120, 3), (30, 3))"
      ]
     },
     "execution_count": 4,
     "metadata": {},
     "output_type": "execute_result"
    }
   ],
   "source": [
    "#학습용:검증용 8:2로 구분\n",
    "from sklearn.model_selection import train_test_split\n",
    "X_train,X_test,y_train,y_test=train_test_split(X,y2,test_size=0.2,\n",
    "                                               stratify=y,random_state=10)\n",
    "X_train.shape,X_test.shape, y_train.shape, y_test.shape"
   ]
  },
  {
   "cell_type": "code",
   "execution_count": 5,
   "metadata": {},
   "outputs": [
    {
     "name": "stderr",
     "output_type": "stream",
     "text": [
      "Using TensorFlow backend.\n"
     ]
    },
    {
     "name": "stdout",
     "output_type": "stream",
     "text": [
      "Model: \"sequential_1\"\n",
      "_________________________________________________________________\n",
      "Layer (type)                 Output Shape              Param #   \n",
      "=================================================================\n",
      "dense_1 (Dense)              (None, 64)                320       \n",
      "_________________________________________________________________\n",
      "dense_2 (Dense)              (None, 32)                2080      \n",
      "_________________________________________________________________\n",
      "dense_3 (Dense)              (None, 3)                 99        \n",
      "=================================================================\n",
      "Total params: 2,499\n",
      "Trainable params: 2,499\n",
      "Non-trainable params: 0\n",
      "_________________________________________________________________\n"
     ]
    }
   ],
   "source": [
    "from keras.models import Sequential\n",
    "from keras.layers.core import Dense\n",
    "#인공신경망 모형\n",
    "model=Sequential()\n",
    "#입력층 input_shape 입력노드의 차원, activation 활성화 함수\n",
    "model.add(Dense(64,input_shape=(4,),activation='relu'))\n",
    "#첫번째 은닉층\n",
    "model.add(Dense(32,activation='relu'))\n",
    "#출력층, 출력노드수 3, 활성화함수 softmax\n",
    "model.add(Dense(3,activation='softmax'))\n",
    "#모형 컴파일\n",
    "model.compile(loss='categorical_crossentropy',optimizer='Adam',\n",
    "             metrics=['accuracy'])\n",
    "model.summary()"
   ]
  },
  {
   "cell_type": "code",
   "execution_count": 6,
   "metadata": {},
   "outputs": [
    {
     "name": "stdout",
     "output_type": "stream",
     "text": [
      "Train on 96 samples, validate on 24 samples\n",
      "Epoch 1/100\n",
      "96/96 [==============================] - 0s 1ms/step - loss: 1.2125 - accuracy: 0.3750 - val_loss: 1.3982 - val_accuracy: 0.1667\n",
      "Epoch 2/100\n",
      "96/96 [==============================] - 0s 62us/step - loss: 1.1030 - accuracy: 0.3750 - val_loss: 1.2378 - val_accuracy: 0.1667\n",
      "Epoch 3/100\n",
      "96/96 [==============================] - 0s 62us/step - loss: 0.9987 - accuracy: 0.3750 - val_loss: 1.1046 - val_accuracy: 0.2083\n",
      "Epoch 4/100\n",
      "96/96 [==============================] - 0s 52us/step - loss: 0.9411 - accuracy: 0.4688 - val_loss: 0.9948 - val_accuracy: 0.2917\n",
      "Epoch 5/100\n",
      "96/96 [==============================] - 0s 73us/step - loss: 0.8956 - accuracy: 0.5104 - val_loss: 0.9074 - val_accuracy: 0.5000\n",
      "Epoch 6/100\n",
      "96/96 [==============================] - 0s 73us/step - loss: 0.8593 - accuracy: 0.6979 - val_loss: 0.8381 - val_accuracy: 0.9167\n",
      "Epoch 7/100\n",
      "96/96 [==============================] - 0s 62us/step - loss: 0.8264 - accuracy: 0.7708 - val_loss: 0.7823 - val_accuracy: 0.9167\n",
      "Epoch 8/100\n",
      "96/96 [==============================] - 0s 62us/step - loss: 0.7923 - accuracy: 0.8021 - val_loss: 0.7373 - val_accuracy: 0.8750\n",
      "Epoch 9/100\n",
      "96/96 [==============================] - 0s 62us/step - loss: 0.7596 - accuracy: 0.8542 - val_loss: 0.6973 - val_accuracy: 0.7917\n",
      "Epoch 10/100\n",
      "96/96 [==============================] - 0s 62us/step - loss: 0.7262 - accuracy: 0.8854 - val_loss: 0.6604 - val_accuracy: 0.8750\n",
      "Epoch 11/100\n",
      "96/96 [==============================] - 0s 52us/step - loss: 0.6941 - accuracy: 0.9167 - val_loss: 0.6287 - val_accuracy: 0.8750\n",
      "Epoch 12/100\n",
      "96/96 [==============================] - 0s 52us/step - loss: 0.6655 - accuracy: 0.9167 - val_loss: 0.5997 - val_accuracy: 0.8750\n",
      "Epoch 13/100\n",
      "96/96 [==============================] - 0s 62us/step - loss: 0.6376 - accuracy: 0.9375 - val_loss: 0.5734 - val_accuracy: 0.9167\n",
      "Epoch 14/100\n",
      "96/96 [==============================] - 0s 62us/step - loss: 0.6142 - accuracy: 0.9167 - val_loss: 0.5432 - val_accuracy: 0.9167\n",
      "Epoch 15/100\n",
      "96/96 [==============================] - 0s 52us/step - loss: 0.5908 - accuracy: 0.9271 - val_loss: 0.5197 - val_accuracy: 0.9583\n",
      "Epoch 16/100\n",
      "96/96 [==============================] - 0s 52us/step - loss: 0.5672 - accuracy: 0.9375 - val_loss: 0.4928 - val_accuracy: 0.9583\n",
      "Epoch 17/100\n",
      "96/96 [==============================] - 0s 52us/step - loss: 0.5461 - accuracy: 0.9375 - val_loss: 0.4680 - val_accuracy: 0.9583\n",
      "Epoch 18/100\n",
      "96/96 [==============================] - 0s 62us/step - loss: 0.5269 - accuracy: 0.9375 - val_loss: 0.4459 - val_accuracy: 0.9583\n",
      "Epoch 19/100\n",
      "96/96 [==============================] - 0s 62us/step - loss: 0.5084 - accuracy: 0.9583 - val_loss: 0.4283 - val_accuracy: 0.9583\n",
      "Epoch 20/100\n",
      "96/96 [==============================] - 0s 52us/step - loss: 0.4911 - accuracy: 0.9583 - val_loss: 0.4114 - val_accuracy: 0.9583\n",
      "Epoch 21/100\n",
      "96/96 [==============================] - 0s 52us/step - loss: 0.4739 - accuracy: 0.9583 - val_loss: 0.3904 - val_accuracy: 0.9583\n",
      "Epoch 22/100\n",
      "96/96 [==============================] - 0s 52us/step - loss: 0.4585 - accuracy: 0.9479 - val_loss: 0.3752 - val_accuracy: 0.9583\n",
      "Epoch 23/100\n",
      "96/96 [==============================] - 0s 62us/step - loss: 0.4437 - accuracy: 0.9479 - val_loss: 0.3606 - val_accuracy: 1.0000\n",
      "Epoch 24/100\n",
      "96/96 [==============================] - 0s 62us/step - loss: 0.4303 - accuracy: 0.9583 - val_loss: 0.3503 - val_accuracy: 0.9583\n",
      "Epoch 25/100\n",
      "96/96 [==============================] - 0s 52us/step - loss: 0.4171 - accuracy: 0.9583 - val_loss: 0.3423 - val_accuracy: 0.9583\n",
      "Epoch 26/100\n",
      "96/96 [==============================] - 0s 52us/step - loss: 0.4074 - accuracy: 0.9583 - val_loss: 0.3273 - val_accuracy: 0.9583\n",
      "Epoch 27/100\n",
      "96/96 [==============================] - 0s 52us/step - loss: 0.3930 - accuracy: 0.9583 - val_loss: 0.3237 - val_accuracy: 0.9583\n",
      "Epoch 28/100\n",
      "96/96 [==============================] - 0s 62us/step - loss: 0.3828 - accuracy: 0.9583 - val_loss: 0.3170 - val_accuracy: 0.9583\n",
      "Epoch 29/100\n",
      "96/96 [==============================] - 0s 62us/step - loss: 0.3723 - accuracy: 0.9583 - val_loss: 0.3105 - val_accuracy: 0.9583\n",
      "Epoch 30/100\n",
      "96/96 [==============================] - 0s 52us/step - loss: 0.3620 - accuracy: 0.9583 - val_loss: 0.2990 - val_accuracy: 0.9583\n",
      "Epoch 31/100\n",
      "96/96 [==============================] - 0s 52us/step - loss: 0.3525 - accuracy: 0.9583 - val_loss: 0.2903 - val_accuracy: 0.9583\n",
      "Epoch 32/100\n",
      "96/96 [==============================] - 0s 52us/step - loss: 0.3425 - accuracy: 0.9688 - val_loss: 0.2786 - val_accuracy: 0.9583\n",
      "Epoch 33/100\n",
      "96/96 [==============================] - 0s 62us/step - loss: 0.3353 - accuracy: 0.9688 - val_loss: 0.2674 - val_accuracy: 0.9583\n",
      "Epoch 34/100\n",
      "96/96 [==============================] - 0s 73us/step - loss: 0.3264 - accuracy: 0.9688 - val_loss: 0.2666 - val_accuracy: 0.9583\n",
      "Epoch 35/100\n",
      "96/96 [==============================] - 0s 52us/step - loss: 0.3167 - accuracy: 0.9688 - val_loss: 0.2649 - val_accuracy: 0.9583\n",
      "Epoch 36/100\n",
      "96/96 [==============================] - 0s 52us/step - loss: 0.3096 - accuracy: 0.9583 - val_loss: 0.2625 - val_accuracy: 0.9583\n",
      "Epoch 37/100\n",
      "96/96 [==============================] - 0s 62us/step - loss: 0.3023 - accuracy: 0.9583 - val_loss: 0.2506 - val_accuracy: 0.9583\n",
      "Epoch 38/100\n",
      "96/96 [==============================] - 0s 52us/step - loss: 0.2937 - accuracy: 0.9583 - val_loss: 0.2427 - val_accuracy: 0.9583\n",
      "Epoch 39/100\n",
      "96/96 [==============================] - 0s 73us/step - loss: 0.2870 - accuracy: 0.9583 - val_loss: 0.2398 - val_accuracy: 0.9583\n",
      "Epoch 40/100\n",
      "96/96 [==============================] - 0s 52us/step - loss: 0.2792 - accuracy: 0.9583 - val_loss: 0.2331 - val_accuracy: 0.9583\n",
      "Epoch 41/100\n",
      "96/96 [==============================] - 0s 52us/step - loss: 0.2722 - accuracy: 0.9688 - val_loss: 0.2244 - val_accuracy: 0.9583\n",
      "Epoch 42/100\n",
      "96/96 [==============================] - 0s 52us/step - loss: 0.2655 - accuracy: 0.9688 - val_loss: 0.2187 - val_accuracy: 0.9583\n",
      "Epoch 43/100\n",
      "96/96 [==============================] - 0s 52us/step - loss: 0.2594 - accuracy: 0.9583 - val_loss: 0.2177 - val_accuracy: 0.9583\n",
      "Epoch 44/100\n",
      "96/96 [==============================] - 0s 73us/step - loss: 0.2528 - accuracy: 0.9583 - val_loss: 0.2088 - val_accuracy: 0.9583\n",
      "Epoch 45/100\n",
      "96/96 [==============================] - 0s 52us/step - loss: 0.2480 - accuracy: 0.9583 - val_loss: 0.2111 - val_accuracy: 0.9583\n",
      "Epoch 46/100\n",
      "96/96 [==============================] - 0s 62us/step - loss: 0.2412 - accuracy: 0.9583 - val_loss: 0.1999 - val_accuracy: 0.9583\n",
      "Epoch 47/100\n",
      "96/96 [==============================] - 0s 62us/step - loss: 0.2355 - accuracy: 0.9688 - val_loss: 0.1963 - val_accuracy: 0.9583\n",
      "Epoch 48/100\n",
      "96/96 [==============================] - 0s 52us/step - loss: 0.2291 - accuracy: 0.9688 - val_loss: 0.1920 - val_accuracy: 0.9583\n",
      "Epoch 49/100\n",
      "96/96 [==============================] - 0s 52us/step - loss: 0.2252 - accuracy: 0.9688 - val_loss: 0.1965 - val_accuracy: 0.9583\n",
      "Epoch 50/100\n",
      "96/96 [==============================] - 0s 73us/step - loss: 0.2197 - accuracy: 0.9688 - val_loss: 0.1841 - val_accuracy: 0.9583\n",
      "Epoch 51/100\n",
      "96/96 [==============================] - 0s 52us/step - loss: 0.2169 - accuracy: 0.9688 - val_loss: 0.1735 - val_accuracy: 1.0000\n",
      "Epoch 52/100\n",
      "96/96 [==============================] - 0s 52us/step - loss: 0.2094 - accuracy: 0.9583 - val_loss: 0.1823 - val_accuracy: 0.9583\n",
      "Epoch 53/100\n",
      "96/96 [==============================] - 0s 62us/step - loss: 0.2043 - accuracy: 0.9688 - val_loss: 0.1811 - val_accuracy: 0.9583\n",
      "Epoch 54/100\n",
      "96/96 [==============================] - 0s 62us/step - loss: 0.2021 - accuracy: 0.9688 - val_loss: 0.1794 - val_accuracy: 0.9583\n",
      "Epoch 55/100\n",
      "96/96 [==============================] - 0s 62us/step - loss: 0.1989 - accuracy: 0.9583 - val_loss: 0.1582 - val_accuracy: 1.0000\n",
      "Epoch 56/100\n",
      "96/96 [==============================] - 0s 52us/step - loss: 0.1927 - accuracy: 0.9688 - val_loss: 0.1591 - val_accuracy: 0.9583\n",
      "Epoch 57/100\n",
      "96/96 [==============================] - 0s 62us/step - loss: 0.1884 - accuracy: 0.9688 - val_loss: 0.1649 - val_accuracy: 0.9583\n",
      "Epoch 58/100\n"
     ]
    },
    {
     "name": "stdout",
     "output_type": "stream",
     "text": [
      "96/96 [==============================] - 0s 52us/step - loss: 0.1844 - accuracy: 0.9688 - val_loss: 0.1603 - val_accuracy: 0.9583\n",
      "Epoch 59/100\n",
      "96/96 [==============================] - 0s 52us/step - loss: 0.1809 - accuracy: 0.9688 - val_loss: 0.1579 - val_accuracy: 0.9583\n",
      "Epoch 60/100\n",
      "96/96 [==============================] - 0s 73us/step - loss: 0.1785 - accuracy: 0.9792 - val_loss: 0.1423 - val_accuracy: 1.0000\n",
      "Epoch 61/100\n",
      "96/96 [==============================] - 0s 62us/step - loss: 0.1746 - accuracy: 0.9792 - val_loss: 0.1474 - val_accuracy: 0.9583\n",
      "Epoch 62/100\n",
      "96/96 [==============================] - 0s 52us/step - loss: 0.1711 - accuracy: 0.9688 - val_loss: 0.1532 - val_accuracy: 0.9583\n",
      "Epoch 63/100\n",
      "96/96 [==============================] - 0s 52us/step - loss: 0.1670 - accuracy: 0.9688 - val_loss: 0.1425 - val_accuracy: 0.9583\n",
      "Epoch 64/100\n",
      "96/96 [==============================] - 0s 62us/step - loss: 0.1644 - accuracy: 0.9792 - val_loss: 0.1343 - val_accuracy: 0.9583\n",
      "Epoch 65/100\n",
      "96/96 [==============================] - 0s 62us/step - loss: 0.1613 - accuracy: 0.9792 - val_loss: 0.1344 - val_accuracy: 0.9583\n",
      "Epoch 66/100\n",
      "96/96 [==============================] - 0s 52us/step - loss: 0.1629 - accuracy: 0.9688 - val_loss: 0.1481 - val_accuracy: 0.9583\n",
      "Epoch 67/100\n",
      "96/96 [==============================] - 0s 52us/step - loss: 0.1574 - accuracy: 0.9688 - val_loss: 0.1335 - val_accuracy: 0.9583\n",
      "Epoch 68/100\n",
      "96/96 [==============================] - 0s 62us/step - loss: 0.1547 - accuracy: 0.9792 - val_loss: 0.1221 - val_accuracy: 1.0000\n",
      "Epoch 69/100\n",
      "96/96 [==============================] - 0s 52us/step - loss: 0.1507 - accuracy: 0.9792 - val_loss: 0.1272 - val_accuracy: 0.9583\n",
      "Epoch 70/100\n",
      "96/96 [==============================] - 0s 42us/step - loss: 0.1492 - accuracy: 0.9688 - val_loss: 0.1366 - val_accuracy: 0.9583\n",
      "Epoch 71/100\n",
      "96/96 [==============================] - 0s 83us/step - loss: 0.1473 - accuracy: 0.9688 - val_loss: 0.1267 - val_accuracy: 0.9583\n",
      "Epoch 72/100\n",
      "96/96 [==============================] - 0s 52us/step - loss: 0.1439 - accuracy: 0.9688 - val_loss: 0.1190 - val_accuracy: 0.9583\n",
      "Epoch 73/100\n",
      "96/96 [==============================] - 0s 52us/step - loss: 0.1421 - accuracy: 0.9688 - val_loss: 0.1241 - val_accuracy: 0.9583\n",
      "Epoch 74/100\n",
      "96/96 [==============================] - 0s 52us/step - loss: 0.1391 - accuracy: 0.9688 - val_loss: 0.1215 - val_accuracy: 0.9583\n",
      "Epoch 75/100\n",
      "96/96 [==============================] - 0s 52us/step - loss: 0.1386 - accuracy: 0.9688 - val_loss: 0.1224 - val_accuracy: 0.9583\n",
      "Epoch 76/100\n",
      "96/96 [==============================] - 0s 52us/step - loss: 0.1349 - accuracy: 0.9688 - val_loss: 0.1155 - val_accuracy: 0.9583\n",
      "Epoch 77/100\n",
      "96/96 [==============================] - 0s 52us/step - loss: 0.1330 - accuracy: 0.9688 - val_loss: 0.1099 - val_accuracy: 0.9583\n",
      "Epoch 78/100\n",
      "96/96 [==============================] - 0s 73us/step - loss: 0.1317 - accuracy: 0.9688 - val_loss: 0.1096 - val_accuracy: 0.9583\n",
      "Epoch 79/100\n",
      "96/96 [==============================] - 0s 62us/step - loss: 0.1310 - accuracy: 0.9792 - val_loss: 0.1068 - val_accuracy: 0.9583\n",
      "Epoch 80/100\n",
      "96/96 [==============================] - 0s 52us/step - loss: 0.1287 - accuracy: 0.9688 - val_loss: 0.1176 - val_accuracy: 0.9583\n",
      "Epoch 81/100\n",
      "96/96 [==============================] - 0s 62us/step - loss: 0.1276 - accuracy: 0.9688 - val_loss: 0.1176 - val_accuracy: 0.9583\n",
      "Epoch 82/100\n",
      "96/96 [==============================] - 0s 52us/step - loss: 0.1264 - accuracy: 0.9688 - val_loss: 0.1075 - val_accuracy: 0.9583\n",
      "Epoch 83/100\n",
      "96/96 [==============================] - 0s 52us/step - loss: 0.1239 - accuracy: 0.9688 - val_loss: 0.1025 - val_accuracy: 0.9583\n",
      "Epoch 84/100\n",
      "96/96 [==============================] - 0s 62us/step - loss: 0.1228 - accuracy: 0.9688 - val_loss: 0.1082 - val_accuracy: 0.9583\n",
      "Epoch 85/100\n",
      "96/96 [==============================] - 0s 52us/step - loss: 0.1219 - accuracy: 0.9688 - val_loss: 0.1100 - val_accuracy: 0.9583\n",
      "Epoch 86/100\n",
      "96/96 [==============================] - 0s 73us/step - loss: 0.1196 - accuracy: 0.9688 - val_loss: 0.1019 - val_accuracy: 0.9583\n",
      "Epoch 87/100\n",
      "96/96 [==============================] - 0s 52us/step - loss: 0.1180 - accuracy: 0.9688 - val_loss: 0.0968 - val_accuracy: 0.9583\n",
      "Epoch 88/100\n",
      "96/96 [==============================] - 0s 62us/step - loss: 0.1192 - accuracy: 0.9688 - val_loss: 0.0929 - val_accuracy: 1.0000\n",
      "Epoch 89/100\n",
      "96/96 [==============================] - 0s 52us/step - loss: 0.1154 - accuracy: 0.9792 - val_loss: 0.1047 - val_accuracy: 0.9583\n",
      "Epoch 90/100\n",
      "96/96 [==============================] - 0s 62us/step - loss: 0.1147 - accuracy: 0.9688 - val_loss: 0.1056 - val_accuracy: 0.9583\n",
      "Epoch 91/100\n",
      "96/96 [==============================] - 0s 62us/step - loss: 0.1143 - accuracy: 0.9688 - val_loss: 0.1027 - val_accuracy: 0.9583\n",
      "Epoch 92/100\n",
      "96/96 [==============================] - 0s 73us/step - loss: 0.1128 - accuracy: 0.9688 - val_loss: 0.0997 - val_accuracy: 0.9583\n",
      "Epoch 93/100\n",
      "96/96 [==============================] - 0s 52us/step - loss: 0.1121 - accuracy: 0.9688 - val_loss: 0.0950 - val_accuracy: 0.9583\n",
      "Epoch 94/100\n",
      "96/96 [==============================] - 0s 73us/step - loss: 0.1172 - accuracy: 0.9688 - val_loss: 0.0797 - val_accuracy: 1.0000\n",
      "Epoch 95/100\n",
      "96/96 [==============================] - 0s 52us/step - loss: 0.1115 - accuracy: 0.9792 - val_loss: 0.0889 - val_accuracy: 0.9583\n",
      "Epoch 96/100\n",
      "96/96 [==============================] - 0s 52us/step - loss: 0.1099 - accuracy: 0.9688 - val_loss: 0.1115 - val_accuracy: 0.9583\n",
      "Epoch 97/100\n",
      "96/96 [==============================] - 0s 52us/step - loss: 0.1120 - accuracy: 0.9688 - val_loss: 0.1027 - val_accuracy: 0.9583\n",
      "Epoch 98/100\n",
      "96/96 [==============================] - 0s 62us/step - loss: 0.1090 - accuracy: 0.9688 - val_loss: 0.0971 - val_accuracy: 0.9583\n",
      "Epoch 99/100\n",
      "96/96 [==============================] - 0s 52us/step - loss: 0.1066 - accuracy: 0.9688 - val_loss: 0.0772 - val_accuracy: 1.0000\n",
      "Epoch 100/100\n",
      "96/96 [==============================] - 0s 62us/step - loss: 0.1078 - accuracy: 0.9792 - val_loss: 0.0775 - val_accuracy: 1.0000\n"
     ]
    }
   ],
   "source": [
    "#학습,학습진행정보가 히스토리가 객체에 저장됨\n",
    "hist=model.fit(X_train,y_train,epochs=100,validation_split=0.2)"
   ]
  },
  {
   "cell_type": "code",
   "execution_count": 7,
   "metadata": {},
   "outputs": [
    {
     "data": {
      "image/png": "[encoded data removed]",
      "text/plain": [
       "<Figure size 864x576 with 1 Axes>"
      ]
     },
     "metadata": {
      "needs_background": "light"
     },
     "output_type": "display_data"
    }
   ],
   "source": [
    "%matplotlib inline\n",
    "import matplotlib.pyplot as plt\n",
    "plt.figure(figsize=(12,8))\n",
    "plt.plot(hist.history['loss']) #손실율\n",
    "plt.plot(hist.history['accuracy']) #정확도\n",
    "plt.plot(hist.history['val_loss']) #손실율\n",
    "plt.plot(hist.history['val_accuracy']) #정확도\n",
    "plt.legend(['loss','accuracy','val_loss','val_accuracy']) #범례\n",
    "plt.grid() #그리드 표시\n",
    "plt.show() #그래프 출력"
   ]
  },
  {
   "cell_type": "code",
   "execution_count": 8,
   "metadata": {},
   "outputs": [
    {
     "name": "stdout",
     "output_type": "stream",
     "text": [
      "30/30 [==============================] - 0s 0us/step\n",
      "0.10087775439023972 0.9666666388511658\n"
     ]
    }
   ],
   "source": [
    "#모형평가\n",
    "loss,accuracy=model.evaluate(X_test,y_test)\n",
    "print(loss,accuracy) #손실률과 정확도"
   ]
  },
  {
   "cell_type": "code",
   "execution_count": 9,
   "metadata": {},
   "outputs": [
    {
     "name": "stdout",
     "output_type": "stream",
     "text": [
      "[[2.7452917e-03 7.8403234e-01 2.1322237e-01]\n",
      " [9.8225349e-01 1.7741444e-02 5.0832505e-06]\n",
      " [1.5663406e-03 4.4317383e-01 5.5525982e-01]\n",
      " [5.0628383e-04 3.5815436e-01 6.4133930e-01]\n",
      " [2.4515035e-02 9.5994544e-01 1.5539530e-02]]\n",
      "[1 0 1 2 1]\n",
      "[[10  0  0]\n",
      " [ 0  9  1]\n",
      " [ 0  0 10]]\n"
     ]
    }
   ],
   "source": [
    "import numpy as np\n",
    "from sklearn.metrics import confusion_matrix\n",
    "#모형의 예측값\n",
    "pred=model.predict(X_test)\n",
    "print(pred[:5])\n",
    "#실제값\n",
    "y_test_class=np.argmax(y_test,axis=1) #최대값의 인덱스\n",
    "print(y_test_class[:5])\n",
    "#예측값\n",
    "pred_class=np.argmax(pred,axis=1)\n",
    "#혼동행렬\n",
    "print(confusion_matrix(y_test_class,pred_class))"
   ]
  },
  {
   "cell_type": "code",
   "execution_count": 10,
   "metadata": {},
   "outputs": [
    {
     "data": {
      "text/plain": [
       "array(['setosa', 'versicolor', 'virginica'], dtype=object)"
      ]
     },
     "execution_count": 10,
     "metadata": {},
     "output_type": "execute_result"
    }
   ],
   "source": [
    "iris['species'].unique()"
   ]
  },
  {
   "cell_type": "code",
   "execution_count": 11,
   "metadata": {},
   "outputs": [
    {
     "name": "stdout",
     "output_type": "stream",
     "text": [
      "[0]\n",
      "['setosa']\n"
     ]
    }
   ],
   "source": [
    "#새로운 값 예측\n",
    "test_set=np.array([[5,2.9,1,0.2]])\n",
    "print(model.predict_classes(test_set))\n",
    "print(iris['species'].unique()[model.predict_classes(test_set)])"
   ]
  },
  {
   "cell_type": "code",
   "execution_count": 12,
   "metadata": {},
   "outputs": [
    {
     "name": "stdout",
     "output_type": "stream",
     "text": [
      "['versicolor']\n"
     ]
    }
   ],
   "source": [
    "\n",
    "\n",
    "test_set=np.array([[7,3.0,5,1.4]])\n",
    "print(iris['species'].unique()[model.predict_classes(test_set)])"
   ]
  },
  {
   "cell_type": "code",
   "execution_count": 13,
   "metadata": {},
   "outputs": [],
   "source": [
    "#학습이 완료된 인공신경망 모형을 파일로 저장\n",
    "model.save('d:/data/iris/iris_keras.model')\n",
    "#학습에 사용된 가중치값들을 파일로 저장\n",
    "model.save_weights('d:/data/iris/iris_keras.weights')"
   ]
  },
  {
   "cell_type": "markdown",
   "metadata": {},
   "source": [
    "실습예제5-타이타닉 데이터셋"
   ]
  },
  {
   "cell_type": "code",
   "execution_count": null,
   "metadata": {},
   "outputs": [],
   "source": [
    "import pandas as pd\n",
    "df=pd.read_csv('d:/data/titanic/train3.csv')\n",
    "df.head()"
   ]
  },
  {
   "cell_type": "code",
   "execution_count": null,
   "metadata": {},
   "outputs": [],
   "source": [
    "%matplotlib inline\n",
    "import matplotlib.pyplot as plt\n",
    "import seaborn as sns\n",
    "#연령대 구간을 나눔, bins 구간\n",
    "df['age_cat']=pd.cut(df['Age'],bins=[0,10,20,50,100],\n",
    "                    include_lowest=True,labels=['baby','teenage','adult',\n",
    "                                               'old'])\n",
    "plt.figure(figsize=[12,8])\n",
    "plt.subplot(231) #2행 3열 중 1번 그래프\n",
    "sns.barplot('Pclass1','Survived',data=df)\n",
    "plt.subplot(232) #2행 3열 중 2번 그래프\n",
    "sns.barplot('Pclass2','Survived',data=df)\n",
    "plt.subplot(233)\n",
    "sns.barplot('Pclass3','Survived',data=df)\n",
    "plt.subplot(234)\n",
    "sns.barplot('age_cat','Survived',data=df)\n",
    "plt.subplot(235)\n",
    "sns.barplot('Sex','Survived',data=df)\n",
    "plt.subplots_adjust(top=1,bottom=0.1,left=0.1,right=1,\n",
    "                   hspace=0.5,wspace=0.5)\n",
    "plt.show"
   ]
  },
  {
   "cell_type": "code",
   "execution_count": null,
   "metadata": {},
   "outputs": [],
   "source": [
    "#연령대별 분포 곡선\n",
    "f,ax=plt.subplots(figsize=(12,6))\n",
    "#커널 밀도 그래프\n",
    "g=sns.kdeplot(df['Age'][(df['Survived']==0)],\n",
    "             ax=ax, color='Blue',shade=True)\n",
    "print(ax)\n",
    "g=sns.kdeplot(df['Age'][(df['Survived']==1)],\n",
    "             ax=ax, color='Green',shade=True)\n",
    "g.set_xlabel('Age')\n",
    "g=g.legend(['0','1'])"
   ]
  },
  {
   "cell_type": "code",
   "execution_count": null,
   "metadata": {},
   "outputs": [],
   "source": [
    "df['Survived'].value_counts() #사망/생존자 카운트"
   ]
  },
  {
   "cell_type": "code",
   "execution_count": null,
   "metadata": {},
   "outputs": [],
   "source": [
    "df.columns"
   ]
  },
  {
   "cell_type": "code",
   "execution_count": null,
   "metadata": {},
   "outputs": [],
   "source": [
    "train_cols=(['Pclass1','Pclass2','Pclass3',\n",
    "            'male','female','Age','SibSp','Parch','Fare'])"
   ]
  },
  {
   "cell_type": "code",
   "execution_count": null,
   "metadata": {},
   "outputs": [],
   "source": [
    "X=df[train_cols] #독립변수\n",
    "y=df['Survived'] #종속변수"
   ]
  },
  {
   "cell_type": "code",
   "execution_count": null,
   "metadata": {},
   "outputs": [],
   "source": [
    "#언더샘플링\n",
    "from imblearn.under_sampling import RandomUnderSampler\n",
    "X_sample,y_sample=RandomUnderSampler(random_state=0).fit_sample(X,y)\n",
    "X_samp=pd.DataFrame(data=X_sample,columns=train_cols)\n",
    "y_samp=pd.DataFrame(data=y_sample,columns=['Survived'])\n",
    "df_samp=pd.concat([X_samp,y_samp],axis=1)"
   ]
  },
  {
   "cell_type": "code",
   "execution_count": null,
   "metadata": {},
   "outputs": [],
   "source": [
    "df_samp['Survived'].value_counts() #사망/생존자 카운트"
   ]
  },
  {
   "cell_type": "code",
   "execution_count": null,
   "metadata": {},
   "outputs": [],
   "source": [
    "#학습용:검증용 8:2로 구분\n",
    "from sklearn.model_selection import train_test_split\n",
    "X_train,X_test,y_train,y_test = train_test_split(X,y,stratify=y,\n",
    "                                                test_size=0.2, random_state=10)"
   ]
  },
  {
   "cell_type": "code",
   "execution_count": null,
   "metadata": {},
   "outputs": [],
   "source": [
    "from keras.models import Sequential\n",
    "from keras.layers.core import Dense\n",
    "model=Sequential() #신경망 모형\n",
    "#input layer, input_shape  독립변수의 갯수, 출력노드 갯수 128\n",
    "model.add(Dense(128,input_shape=(len(X_train.columns),),activation='relu'))\n",
    "#hidden layer 1\n",
    "model.add(Dense(64,activation='relu'))\n",
    "#hidden layer 2\n",
    "model.add(Dense(32,activation='relu'))\n",
    "#output layer, 출력노드수 1개, sigmoid 0.0~1.0\n",
    "#model.add(dense(2,activation='softmax')) ->원핫인코딩 해야함\n",
    "model.add(Dense(1,activation='sigmoid'))\n",
    "#컴파일\n",
    "model.compile(loss='mse',optimizer='adam',metrics=['accuracy'])\n",
    "#요약\n",
    "model.summary()"
   ]
  },
  {
   "cell_type": "code",
   "execution_count": null,
   "metadata": {},
   "outputs": [],
   "source": [
    "#학습\n",
    "hist=model.fit(X_train,y_train,epochs=500, validation_split=0.2)"
   ]
  },
  {
   "cell_type": "code",
   "execution_count": null,
   "metadata": {},
   "outputs": [],
   "source": [
    "plt.figure(figsize=(12,8))\n",
    "plt.plot(hist.history['loss']) # Train 손실률\n",
    "plt.plot(hist.history['accuracy']) #Train 정확도\n",
    "plt.plot(hist.history['val_loss']) #Validation 손실률\n",
    "plt.plot(hist.history['val_accuracy']) #Validation 정확도\n",
    "plt.legend(['loss','accuracy','val_loss','val_accuracy'])\n",
    "plt.show()"
   ]
  },
  {
   "cell_type": "code",
   "execution_count": null,
   "metadata": {},
   "outputs": [],
   "source": [
    "#모형평가\n",
    "scores=model.evaluate(X_train,y_train,verbose=1) #학습용\n",
    "print(scores) #에러율, 정확도\n",
    "scores=model.evaluate(X_test, y_test, verbose=1) #검증용\n",
    "print(scores)"
   ]
  },
  {
   "cell_type": "code",
   "execution_count": null,
   "metadata": {},
   "outputs": [],
   "source": [
    "pred=model.predict(X_test)\n",
    "print(X_test[:3])\n",
    "print(y_test[:3]) #실제값\n",
    "print(pred[:3]) #예측값"
   ]
  },
  {
   "cell_type": "code",
   "execution_count": null,
   "metadata": {},
   "outputs": [],
   "source": [
    "X_train.columns"
   ]
  },
  {
   "cell_type": "code",
   "execution_count": null,
   "metadata": {},
   "outputs": [],
   "source": [
    "#새로운 값으로 확인\n",
    "import numpy as np\n",
    "#1등석,여성,19세,부모/부부2,형제자매2,요금50\n",
    "person1=np.array([1,0,0,0,1,19,2,2,50]).reshape(1,9)\n",
    "#2등석,남성, 17세,부모/부부0,형제자매1, 요금30\n",
    "person2=np.array([0,1,0,1,0,17,0,1,30]).reshape(1,9)\n",
    "#3등석 여성, 40세 부모/부부1, 형제자매0, 요금70\n",
    "person3=np.array([0,0,1,0,1,40,1,0,70]).reshape(1,9)\n",
    "print(model.predict(person1)) #생존률 99.9%\n",
    "print(model.predict(person2)) #생존률 2.2%\n",
    "print(model.predict(person3)) #생존률 99.3%"
   ]
  },
  {
   "cell_type": "code",
   "execution_count": null,
   "metadata": {},
   "outputs": [],
   "source": [
    "model.save('d:/data/titanic/titanic_keras.model')\n",
    "model.save_weights('d:/data/titanic/titanic.weights')"
   ]
  }
 ],
 "metadata": {
  "kernelspec": {
   "display_name": "Python 3",
   "language": "python",
   "name": "python3"
  },
  "language_info": {
   "codemirror_mode": {
    "name": "ipython",
    "version": 3
   },
   "file_extension": ".py",
   "mimetype": "text/x-python",
   "name": "python",
   "nbconvert_exporter": "python",
   "pygments_lexer": "ipython3",
   "version": "3.7.4"
  }
 },
 "nbformat": 4,
 "nbformat_minor": 2
}
