{
 "cells": [
  {
   "cell_type": "code",
   "execution_count": 1,
   "metadata": {},
   "outputs": [
    {
     "name": "stdout",
     "output_type": "stream",
     "text": [
      "3.7.4 (default, Aug  9 2019, 18:34:13) [MSC v.1915 64 bit (AMD64)]\n",
      "2.1.0\n"
     ]
    }
   ],
   "source": [
    "import tensorflow as tf\n",
    "import sys\n",
    "print(sys.version)\n",
    "print(tf.__version__)"
   ]
  },
  {
   "cell_type": "code",
   "execution_count": 2,
   "metadata": {},
   "outputs": [
    {
     "name": "stdout",
     "output_type": "stream",
     "text": [
      "WARNING:tensorflow:From C:\\Anaconda\\lib\\site-packages\\tensorflow_core\\python\\compat\\v2_compat.py:88: disable_resource_variables (from tensorflow.python.ops.variable_scope) is deprecated and will be removed in a future version.\n",
      "Instructions for updating:\n",
      "non-resource variables are not supported in the long term\n",
      "Tensor(\"Const:0\", shape=(), dtype=string)\n"
     ]
    }
   ],
   "source": [
    "#텐서플로 버전1을 사용하는 코드\n",
    "import tensorflow.compat.v1 as tf\n",
    "tf.disable_v2_behavior()\n",
    "hello = tf.constant('Hello World') #텐서플로 상수\n",
    "print(hello)"
   ]
  },
  {
   "cell_type": "code",
   "execution_count": 3,
   "metadata": {},
   "outputs": [
    {
     "name": "stdout",
     "output_type": "stream",
     "text": [
      "Tensor(\"add_1:0\", shape=(), dtype=int32)\n"
     ]
    }
   ],
   "source": [
    "a=tf.constant(10)\n",
    "b=tf.constant(32)\n",
    "c=tf.add(a,b)\n",
    "c=a+b\n",
    "print(c)"
   ]
  },
  {
   "cell_type": "code",
   "execution_count": 4,
   "metadata": {},
   "outputs": [],
   "source": [
    "sess = tf.Session() #세션을 생성(텐서 그래프를 실행시키는 객체)"
   ]
  },
  {
   "cell_type": "code",
   "execution_count": 5,
   "metadata": {},
   "outputs": [
    {
     "name": "stdout",
     "output_type": "stream",
     "text": [
      "b'Hello World'\n",
      "Hello World\n",
      "[10, 32, 42]\n"
     ]
    }
   ],
   "source": [
    "print(sess.run(hello)) #세션을 실행할 때 결과가 출력됨\n",
    "print(str(sess.run(hello), encoding='utf-8'))\n",
    "print(sess.run([a,b,c]))\n",
    "sess.close() #세션종료"
   ]
  },
  {
   "cell_type": "code",
   "execution_count": 6,
   "metadata": {},
   "outputs": [
    {
     "name": "stdout",
     "output_type": "stream",
     "text": [
      "node3: Tensor(\"Add_2:0\", shape=(), dtype=float32)\n",
      "sess.run(node3): 7.0\n"
     ]
    }
   ],
   "source": [
    "import tensorflow.compat.v1 as tf\n",
    "\n",
    "node1 = tf.constant(3.0)#텐서플로 상수\n",
    "node2 = tf.constant(4.0)\n",
    "node3 = tf.add(node1,node2) #덧셈\n",
    "with tf.Session() as sess: #with 구문으로 세션을 만들면 close() 생략\n",
    "    print('node3:', node3) #구조만 출력됨\n",
    "    print('sess.run(node3):',sess.run(node3)) #세션을 사용해야 값이 출력됨"
   ]
  },
  {
   "cell_type": "code",
   "execution_count": 9,
   "metadata": {},
   "outputs": [
    {
     "name": "stdout",
     "output_type": "stream",
     "text": [
      "10\n"
     ]
    }
   ],
   "source": [
    "def test(a):\n",
    "    print(a)\n",
    "    \n",
    "test(10)"
   ]
  },
  {
   "cell_type": "code",
   "execution_count": 7,
   "metadata": {},
   "outputs": [
    {
     "name": "stdout",
     "output_type": "stream",
     "text": [
      "15.0\n",
      "0.0\n",
      "[12.   18.75 29.75]\n"
     ]
    }
   ],
   "source": [
    "#플레이스홀더 : 노드에 입력될 데이터의 형태를 미리 지정하는 요소\n",
    "input01=tf.placeholder(tf.float32)\n",
    "input02=tf.placeholder(tf.float32)\n",
    "output=tf.multiply(input01, input02)\n",
    "#output=tf.multiply(input01,input02) #곱셈\n",
    "#output=input01*input02\n",
    "with tf.Session() as sess:\n",
    "    # 세션.run(실행할함수이름,feed_dict={변수명:값})\n",
    "    # feed_dict 함수에 전달할 값\n",
    "    print(sess.run(output, feed_dict={input01:3.0,input02:5.0}))\n",
    "    print(sess.run(output, feed_dict={input01:0.0,input02:6.0}))\n",
    "    print(sess.run(output, feed_dict={input01:[2.0,2.5,3.5],\n",
    "                                      input02:[6.0,7.5,8.5]}))"
   ]
  },
  {
   "cell_type": "code",
   "execution_count": 12,
   "metadata": {},
   "outputs": [
    {
     "name": "stdout",
     "output_type": "stream",
     "text": [
      "[0.21000001 0.51000005 0.81000006 1.11      ] <class 'numpy.ndarray'>\n"
     ]
    }
   ],
   "source": [
    "#텐서플로1의 변수 사용 방법\n",
    "W=tf.Variable([0.3],dtype=tf.float32)\n",
    "b=tf.Variable([-0.3],dtype=tf.float32)\n",
    "x=tf.placeholder(tf.float32)\n",
    "#그래프에서 사용할 함수\n",
    "linear_model=tf.multiply(W,tf.add(x,b))\n",
    "#변수를 초기화시키는 함수\n",
    "init=tf.global_variables_initializer()\n",
    "with tf.Session() as sess:\n",
    "    sess.run(init) #변수를 초기화시킴\n",
    "    # linear_model 함수에 x값을 전달하여 실행시킴\n",
    "    result = sess.run(linear_model, feed_dict={x:[1,2,3,4]})\n",
    "    \n",
    "print(result,type(result))"
   ]
  },
  {
   "cell_type": "code",
   "execution_count": 15,
   "metadata": {},
   "outputs": [
    {
     "name": "stdout",
     "output_type": "stream",
     "text": [
      "[[ 0.06281075 -0.6150507 ]\n",
      " [ 0.07357415  0.18420647]\n",
      " [-0.57324266 -0.46732572]]\n",
      "[[ 0.11210196]\n",
      " [-1.2340238 ]]\n",
      "[[-1.397667  -1.536513 ]\n",
      " [-4.054366  -5.5771484]]\n"
     ]
    }
   ],
   "source": [
    "#변수와 플레이스홀더의 차이점\n",
    "#플레이스홀더: 그래프 함수에 전달되는 매개변수의 자료형을 정의\n",
    "X=tf.placeholder(tf.float32, [None,3])\n",
    "\n",
    "#그래프 함수에 입력되는 값\n",
    "x_data=[[1,2,3],[4,5,6]]\n",
    "\n",
    "#변수: 그래프 함수에서 사용하는 기울기, 절편 등의 값을 저장하는 변수\n",
    "W=tf.Variable(tf.random_normal([3,2])) #3행2열\n",
    "b=tf.Variable(tf.random_normal([2,1])) #2행1열\n",
    "\n",
    "#행렬 연산 함수(matmul:matrix multiply)\n",
    "expr=tf.matmul(X,W) + b\n",
    "\n",
    "#텐서를 흘러가게 하기 위한 세션을 만들고\n",
    "sess=tf.Session()\n",
    "\n",
    "#전역변수들(W,b)을 초기화시키고\n",
    "sess.run(tf.global_variables_initializer())\n",
    "\n",
    "#텐서를 흘러가게 함\n",
    "print(sess.run(W)) #기울기값\n",
    "print(sess.run(b)) #절편값\n",
    "print(sess.run(expr, feed_dict={X:x_data}))\n",
    "\n",
    "#세션을 닫음\n",
    "sess.close()"
   ]
  },
  {
   "cell_type": "code",
   "execution_count": null,
   "metadata": {},
   "outputs": [],
   "source": []
  }
 ],
 "metadata": {
  "kernelspec": {
   "display_name": "Python 3",
   "language": "python",
   "name": "python3"
  },
  "language_info": {
   "codemirror_mode": {
    "name": "ipython",
    "version": 3
   },
   "file_extension": ".py",
   "mimetype": "text/x-python",
   "name": "python",
   "nbconvert_exporter": "python",
   "pygments_lexer": "ipython3",
   "version": "3.7.4"
  }
 },
 "nbformat": 4,
 "nbformat_minor": 2
}
