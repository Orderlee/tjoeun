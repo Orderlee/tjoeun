{
 "cells": [
  {
   "cell_type": "markdown",
   "metadata": {},
   "source": [
    "### 퍼셉트론"
   ]
  },
  {
   "cell_type": "code",
   "execution_count": null,
   "metadata": {},
   "outputs": [],
   "source": [
    "#단층 퍼셉트론\n",
    "import numpy as np\n",
    "#단층 퍼셉트론(다수의 신호를 입력받아 하나의 신호를 출력)\n",
    "def AND(x1,x2):\n",
    "    x=np.array([x1,x2]) #입력값\n",
    "    w=np.array([0.5,0.5]) #가중치(기울기)\n",
    "    b=-0.7 #절편(편향)\n",
    "    tmp=np.sum(w*x) + b # x에 가중치를 곱하고 편향을 더한 y값\n",
    "    #print(tmp)\n",
    "    if tmp <=0:\n",
    "        return 0\n",
    "    else:\n",
    "        return 1\n",
    "    \n",
    "for xs in [(0,0),(1,0),(0,1),(1,1)]:\n",
    "    y=AND(xs[0],xs[1])\n",
    "    print(str(xs)+'->'+str(y))"
   ]
  },
  {
   "cell_type": "code",
   "execution_count": null,
   "metadata": {},
   "outputs": [],
   "source": [
    "#NAND(AND의 역산)\n",
    "def NAND(x1,x2):\n",
    "    x=np.array([x1,x2]) #입력값\n",
    "    w=np.array([-0.5,-0.5]) #가중치(기울기)\n",
    "    b=0.7 #절편(편향)\n",
    "    tmp=np.sum(w*x) + b # x에 가중치를 곱하고 편향을 더한 y값\n",
    "    #print(tmp)\n",
    "    if tmp <=0:\n",
    "        return 0\n",
    "    else:\n",
    "        return 1\n",
    "    \n",
    "for xs in [(0,0),(1,0),(0,1),(1,1)]:\n",
    "    y=NAND(xs[0],xs[1])\n",
    "    print(str(xs)+'->'+str(y))"
   ]
  },
  {
   "cell_type": "code",
   "execution_count": null,
   "metadata": {},
   "outputs": [],
   "source": [
    "#OR\n",
    "def OR(x1,x2):\n",
    "    x=np.array([x1,x2]) #입력값\n",
    "    w=np.array([0.5,0.5]) #가중치(기울기)\n",
    "    b=-0.2 #절편(편향)\n",
    "    tmp=np.sum(w*x) + b # x에 가중치를 곱하고 편향을 더한 y값\n",
    "    #print(tmp)\n",
    "    if tmp <=0:\n",
    "        return 0\n",
    "    else:\n",
    "        return 1\n",
    "    \n",
    "for xs in [(0,0),(1,0),(0,1),(1,1)]:\n",
    "    y=OR(xs[0],xs[1])\n",
    "    print(str(xs)+'->'+str(y))"
   ]
  },
  {
   "cell_type": "code",
   "execution_count": null,
   "metadata": {},
   "outputs": [],
   "source": [
    "#다층 퍼셉트론\n",
    "#단층 퍼셉트론으로는 xor 무제를 풀 수 없음\n",
    "def XOR(x1,x2):\n",
    "    s1=NAND(x1,x2)\n",
    "    s2=OR(x1,x2)\n",
    "    y=AND(s1,s2) #NAND와 OR를 조합\n",
    "    return y\n",
    "\n",
    "for xs in [(0,0),(1,0),(0,1),(1,1)]:\n",
    "    y=XOR(xs[0],xs[1])\n",
    "    print(str(xs)+'->'+str(y))"
   ]
  },
  {
   "cell_type": "markdown",
   "metadata": {},
   "source": [
    "### 활성화 함수"
   ]
  },
  {
   "cell_type": "code",
   "execution_count": null,
   "metadata": {},
   "outputs": [],
   "source": [
    "#계단함수\n",
    "#활성화함수: 입력값의 총합을 출력값으로 변환하는 함수\n",
    "#계단함수(y가 0보다 크면 1, 작으면 0으로 출력하는 활성화 함수)\n",
    "import numpy as np\n",
    "import matplotlib.pyplot as plt\n",
    "%matplotlib inline\n",
    "\n",
    "def step_function(x):\n",
    "    return np.array(x>0,dtype=np.int) #dtype 데이터 타입\n",
    "\n",
    "X=np.arange(-5.0,5.0,0.1) #-5~5까지 0.1 간격으로 100개 생성\n",
    "\n",
    "y=step_function(X)\n",
    "print(len(X),X,y)\n",
    "plt.plot(X,y)\n",
    "plt.ylim(-0.1,1.1) #y축의 범위 지정\n",
    "plt.show()"
   ]
  },
  {
   "cell_type": "code",
   "execution_count": null,
   "metadata": {},
   "outputs": [],
   "source": [
    "np.e #오일러 상수"
   ]
  },
  {
   "cell_type": "code",
   "execution_count": null,
   "metadata": {},
   "outputs": [],
   "source": [
    "# 1원을 1년 저축\n",
    "#  => 원금 1원, 이자 1원\n",
    "# 6개월씩 저축하면 1+0.5\n",
    "#                 1원 이자0.5\n",
    "#                 0.5원 이자 0.25 =>2.25원\n"
   ]
  },
  {
   "cell_type": "code",
   "execution_count": 7,
   "metadata": {},
   "outputs": [
    {
     "data": {
      "text/plain": [
       "<Figure size 640x480 with 1 Axes>"
      ]
     },
     "metadata": {},
     "output_type": "display_data"
    },
    {
     "name": "stdout",
     "output_type": "stream",
     "text": [
      "[-5.00000000e+00 -4.90000000e+00 -4.80000000e+00 -4.70000000e+00\n",
      " -4.60000000e+00 -4.50000000e+00 -4.40000000e+00 -4.30000000e+00\n",
      " -4.20000000e+00 -4.10000000e+00 -4.00000000e+00 -3.90000000e+00\n",
      " -3.80000000e+00 -3.70000000e+00 -3.60000000e+00 -3.50000000e+00\n",
      " -3.40000000e+00 -3.30000000e+00 -3.20000000e+00 -3.10000000e+00\n",
      " -3.00000000e+00 -2.90000000e+00 -2.80000000e+00 -2.70000000e+00\n",
      " -2.60000000e+00 -2.50000000e+00 -2.40000000e+00 -2.30000000e+00\n",
      " -2.20000000e+00 -2.10000000e+00 -2.00000000e+00 -1.90000000e+00\n",
      " -1.80000000e+00 -1.70000000e+00 -1.60000000e+00 -1.50000000e+00\n",
      " -1.40000000e+00 -1.30000000e+00 -1.20000000e+00 -1.10000000e+00\n",
      " -1.00000000e+00 -9.00000000e-01 -8.00000000e-01 -7.00000000e-01\n",
      " -6.00000000e-01 -5.00000000e-01 -4.00000000e-01 -3.00000000e-01\n",
      " -2.00000000e-01 -1.00000000e-01 -1.77635684e-14  1.00000000e-01\n",
      "  2.00000000e-01  3.00000000e-01  4.00000000e-01  5.00000000e-01\n",
      "  6.00000000e-01  7.00000000e-01  8.00000000e-01  9.00000000e-01\n",
      "  1.00000000e+00  1.10000000e+00  1.20000000e+00  1.30000000e+00\n",
      "  1.40000000e+00  1.50000000e+00  1.60000000e+00  1.70000000e+00\n",
      "  1.80000000e+00  1.90000000e+00  2.00000000e+00  2.10000000e+00\n",
      "  2.20000000e+00  2.30000000e+00  2.40000000e+00  2.50000000e+00\n",
      "  2.60000000e+00  2.70000000e+00  2.80000000e+00  2.90000000e+00\n",
      "  3.00000000e+00  3.10000000e+00  3.20000000e+00  3.30000000e+00\n",
      "  3.40000000e+00  3.50000000e+00  3.60000000e+00  3.70000000e+00\n",
      "  3.80000000e+00  3.90000000e+00  4.00000000e+00  4.10000000e+00\n",
      "  4.20000000e+00  4.30000000e+00  4.40000000e+00  4.50000000e+00\n",
      "  4.60000000e+00  4.70000000e+00  4.80000000e+00  4.90000000e+00] [0.00669285 0.00739154 0.00816257 0.0090133  0.0099518  0.01098694\n",
      " 0.01212843 0.01338692 0.01477403 0.0163025  0.01798621 0.01984031\n",
      " 0.02188127 0.02412702 0.02659699 0.02931223 0.03229546 0.03557119\n",
      " 0.03916572 0.04310725 0.04742587 0.05215356 0.05732418 0.06297336\n",
      " 0.06913842 0.07585818 0.0831727  0.09112296 0.09975049 0.10909682\n",
      " 0.11920292 0.13010847 0.14185106 0.15446527 0.16798161 0.18242552\n",
      " 0.19781611 0.21416502 0.23147522 0.24973989 0.26894142 0.2890505\n",
      " 0.31002552 0.33181223 0.35434369 0.37754067 0.40131234 0.42555748\n",
      " 0.450166   0.47502081 0.5        0.52497919 0.549834   0.57444252\n",
      " 0.59868766 0.62245933 0.64565631 0.66818777 0.68997448 0.7109495\n",
      " 0.73105858 0.75026011 0.76852478 0.78583498 0.80218389 0.81757448\n",
      " 0.83201839 0.84553473 0.85814894 0.86989153 0.88079708 0.89090318\n",
      " 0.90024951 0.90887704 0.9168273  0.92414182 0.93086158 0.93702664\n",
      " 0.94267582 0.94784644 0.95257413 0.95689275 0.96083428 0.96442881\n",
      " 0.96770454 0.97068777 0.97340301 0.97587298 0.97811873 0.98015969\n",
      " 0.98201379 0.9836975  0.98522597 0.98661308 0.98787157 0.98901306\n",
      " 0.9900482  0.9909867  0.99183743 0.99260846]\n"
     ]
    }
   ],
   "source": [
    "#시그모이드 함수(S자 형태, 0.0~1.0 사이의 출력값)\n",
    "import numpy as np\n",
    "import matplotlib.pylab as plt\n",
    "\n",
    "def sigmoid(x):\n",
    "    return 1/(1+np.exp(-x))\n",
    "\n",
    "X=np.arange(-5,5,0.1)\n",
    "y=sigmoid(X)\n",
    "plt.plot(X,y)\n",
    "plt.ylim(-0.1,1.1)\n",
    "plt.show()\n",
    "print(X,y)"
   ]
  },
  {
   "cell_type": "code",
   "execution_count": null,
   "metadata": {},
   "outputs": [],
   "source": [
    "#ReLU(Rectified Linear Unit)\n",
    "#입력값이 0보다 크면 그대로 출력, 0 이하면 0\n",
    "def relu(x):\n",
    "    return np.maximum(0,x) #가장 큰 값 리턴\n",
    "x= np.arange(-5.0,5.0,0.1)\n",
    "y=relu(x)\n",
    "plt.plot(x,y)\n",
    "plt.ylim(-1.0,5.5)\n",
    "plt.show()\n",
    "print(x,y)"
   ]
  },
  {
   "cell_type": "code",
   "execution_count": 2,
   "metadata": {},
   "outputs": [
    {
     "name": "stdout",
     "output_type": "stream",
     "text": [
      "[[1 2]\n",
      " [3 4]]\n",
      "(2, 2)\n",
      "[[5 6]\n",
      " [7 8]]\n",
      "(2, 2)\n",
      "[[19 22]\n",
      " [43 50]]\n"
     ]
    }
   ],
   "source": [
    "#행렬의 곱셈\n",
    "import numpy as np\n",
    "a=np.array([[1,2],[3,4]])\n",
    "print(a)\n",
    "print(a.shape) #2행 2열의 행렬\n",
    "b=np.array([[5,6],[7,8]])\n",
    "print(b)\n",
    "print(b.shape)\n",
    "print(np.dot(a,b)) #행렬의 곱셈"
   ]
  },
  {
   "cell_type": "code",
   "execution_count": 4,
   "metadata": {},
   "outputs": [
    {
     "name": "stdout",
     "output_type": "stream",
     "text": [
      "(2, 3)\n",
      "(3, 2)\n",
      "[[22 28]\n",
      " [49 64]]\n"
     ]
    }
   ],
   "source": [
    "#행렬의 곱셈\n",
    "a=np.array([[1,2,3],[4,5,6]])\n",
    "print(a.shape) #2행 2열의 행렬\n",
    "b=np.array([[1,2],[3,4],[5,6]]) #3행 2열의 행렬\n",
    "print(b.shape)\n",
    "print(np.dot(a,b)) #행렬의 곱셈 2행 3열 x3행2열"
   ]
  },
  {
   "cell_type": "code",
   "execution_count": 5,
   "metadata": {},
   "outputs": [
    {
     "ename": "ValueError",
     "evalue": "shapes (2,3) and (2,2) not aligned: 3 (dim 1) != 2 (dim 0)",
     "output_type": "error",
     "traceback": [
      "\u001b[1;31m---------------------------------------------------------------------------\u001b[0m",
      "\u001b[1;31mValueError\u001b[0m                                Traceback (most recent call last)",
      "\u001b[1;32m<ipython-input-5-72b20d47d9f2>\u001b[0m in \u001b[0;36m<module>\u001b[1;34m\u001b[0m\n\u001b[0;32m      1\u001b[0m \u001b[0mc\u001b[0m\u001b[1;33m=\u001b[0m\u001b[0mnp\u001b[0m\u001b[1;33m.\u001b[0m\u001b[0marray\u001b[0m\u001b[1;33m(\u001b[0m\u001b[1;33m[\u001b[0m\u001b[1;33m[\u001b[0m\u001b[1;36m1\u001b[0m\u001b[1;33m,\u001b[0m\u001b[1;36m2\u001b[0m\u001b[1;33m]\u001b[0m\u001b[1;33m,\u001b[0m\u001b[1;33m[\u001b[0m\u001b[1;36m3\u001b[0m\u001b[1;33m,\u001b[0m\u001b[1;36m4\u001b[0m\u001b[1;33m]\u001b[0m\u001b[1;33m]\u001b[0m\u001b[1;33m)\u001b[0m\u001b[1;33m\u001b[0m\u001b[1;33m\u001b[0m\u001b[0m\n\u001b[1;32m----> 2\u001b[1;33m \u001b[0mnp\u001b[0m\u001b[1;33m.\u001b[0m\u001b[0mdot\u001b[0m\u001b[1;33m(\u001b[0m\u001b[0ma\u001b[0m\u001b[1;33m,\u001b[0m\u001b[0mc\u001b[0m\u001b[1;33m)\u001b[0m \u001b[1;31m#에러가 발생함 2행3열 x 2행2열\u001b[0m\u001b[1;33m\u001b[0m\u001b[1;33m\u001b[0m\u001b[0m\n\u001b[0m",
      "\u001b[1;31mValueError\u001b[0m: shapes (2,3) and (2,2) not aligned: 3 (dim 1) != 2 (dim 0)"
     ]
    }
   ],
   "source": [
    "c=np.array([[1,2],[3,4]])\n",
    "np.dot(a,c) #에러가 발생함 2행3열 x 2행2열"
   ]
  },
  {
   "cell_type": "code",
   "execution_count": 12,
   "metadata": {},
   "outputs": [
    {
     "name": "stdout",
     "output_type": "stream",
     "text": [
      "[[0.3 0.7 1.1]]\n",
      "[[0.57444252 0.66818777 0.75026011]]\n",
      "[[0.51615984 1.21402696]]\n",
      "[[0.62624937 0.7710107 ]]\n"
     ]
    }
   ],
   "source": [
    "x=np.array([1,0.5]) #입력값\n",
    "#첫번째 은닉층\n",
    "w1=np.array([[0.1,0.3,0.5],[0.2,0.4,0.6]])#가중치\n",
    "b1=np.array([[0.1,0.2,0.3]]) #편향(절편)\n",
    "a1=np.dot(x,w1) + b1 #첫번째 은닉층의 합계값\n",
    "print(a1)\n",
    "z1=sigmoid(a1) #시그모이드 함수를 사용하여 출력값 계산\n",
    "print(z1)\n",
    "\n",
    "#두번째 은닉층\n",
    "w2=np.array([[0.1,0.4],[0.2,0.5],[0.3,0.6]])#가중치\n",
    "b2=np.array([[0.1,0.2]]) #편향(절편)\n",
    "a2=np.dot(z1,w2) + b2 #첫번째 은닉층의 합계값\n",
    "print(a2)\n",
    "z2=sigmoid(a2) #시그모이드 함수를 사용하여 출력값 계산\n",
    "print(z2)"
   ]
  },
  {
   "cell_type": "code",
   "execution_count": 13,
   "metadata": {},
   "outputs": [
    {
     "name": "stdout",
     "output_type": "stream",
     "text": [
      "[[0.31682708 0.69627909]]\n",
      "[[0.31682708 0.69627909]]\n"
     ]
    }
   ],
   "source": [
    "#회귀분석에서는 항등함수, 분류에서는 주로 소프트맥스 함수를 사용함\n",
    "def identity_function(x): #항등함수\n",
    "    return x\n",
    "\n",
    "w3=np.array([[0.1,0.3],[0.2,0.4]])\n",
    "b3=np.array([0.1,0.2])\n",
    "a3=np.dot(z2,w3)+b3\n",
    "print(a3)\n",
    "y=identity_function(a3)\n",
    "print(y)"
   ]
  },
  {
   "cell_type": "code",
   "execution_count": null,
   "metadata": {},
   "outputs": [],
   "source": []
  },
  {
   "cell_type": "code",
   "execution_count": null,
   "metadata": {},
   "outputs": [],
   "source": [
    "#Softmax 함수"
   ]
  },
  {
   "cell_type": "code",
   "execution_count": 15,
   "metadata": {},
   "outputs": [
    {
     "name": "stdout",
     "output_type": "stream",
     "text": [
      "2.718281828459045\n",
      "0.0\n",
      "0.0\n",
      "1.0\n",
      "2.0\n"
     ]
    }
   ],
   "source": [
    "#오일러 함수\n",
    "print(np.exp(1))\n",
    "#자연로그: 밑이 e(오일러함수)인 로그\n",
    "print(np.log(1))\n",
    "#상용로그: 밑이 10인로그\n",
    "print(np.log10(1))\n",
    "print(np.log10(10))\n",
    "print(np.log10(100))"
   ]
  },
  {
   "cell_type": "code",
   "execution_count": 16,
   "metadata": {},
   "outputs": [
    {
     "name": "stdout",
     "output_type": "stream",
     "text": [
      "[ 1.34985881 18.17414537 54.59815003]\n",
      "74.1221542101633\n",
      "[0.01821127 0.24519181 0.73659691]\n"
     ]
    }
   ],
   "source": [
    "a=np.array([0.3,2.9,4.0])\n",
    "exp_a=np.exp(a)\n",
    "print(exp_a)\n",
    "sum_exp_a=np.sum(exp_a) #지수함수의 합계\n",
    "print(sum_exp_a)\n",
    "y=exp_a / sum_exp_a\n",
    "print(y)"
   ]
  },
  {
   "cell_type": "code",
   "execution_count": 20,
   "metadata": {},
   "outputs": [
    {
     "name": "stdout",
     "output_type": "stream",
     "text": [
      "[0.01821127 0.24519181 0.73659691]\n",
      "1.0\n",
      "[nan nan nan]\n"
     ]
    },
    {
     "name": "stderr",
     "output_type": "stream",
     "text": [
      "C:\\Anaconda\\lib\\site-packages\\ipykernel_launcher.py:4: RuntimeWarning: invalid value encountered in true_divide\n",
      "  after removing the cwd from sys.path.\n"
     ]
    }
   ],
   "source": [
    "def softmax(a):\n",
    "    exp_a=np.exp(a) #지수함수\n",
    "    sum_exp_a=np.sum(exp_a) #지수함수의 합계\n",
    "    y=exp_a / sum_exp_a\n",
    "    return y\n",
    "\n",
    "a=np.array([0.3, 2.9, 4.0])\n",
    "print(softmax(a))\n",
    "print(sum(softmax(a))) #소프트맥스의 합계는 1\n",
    "\n",
    "#입력값이 너무 클 경우 무한대 문제가 발생함\n",
    "a=np.array([1000,1100,1200])\n",
    "print(softmax(a))"
   ]
  },
  {
   "cell_type": "code",
   "execution_count": 23,
   "metadata": {},
   "outputs": [
    {
     "name": "stdout",
     "output_type": "stream",
     "text": [
      "[inf inf inf]\n",
      "inf\n",
      "[nan nan nan]\n",
      "1010\n",
      "[   0  -10 -110]\n",
      "[9.99954602e-01 4.53978687e-05 1.68883521e-48]\n"
     ]
    },
    {
     "name": "stderr",
     "output_type": "stream",
     "text": [
      "C:\\Anaconda\\lib\\site-packages\\ipykernel_launcher.py:4: RuntimeWarning: invalid value encountered in true_divide\n",
      "  after removing the cwd from sys.path.\n"
     ]
    }
   ],
   "source": [
    "a=np.array([1010,1000,900])\n",
    "print(np.exp(a))\n",
    "print(np.sum(np.exp(a)))\n",
    "print(np.exp(a) / np.sum(np.exp(a))) #무한대 문제가 발생\n",
    "\n",
    "c=np.max(a) #a의 최대값\n",
    "print(c)\n",
    "print(a-c) #a에서의최대값을 뺀 값\n",
    "\n",
    "#무한대 문제가 해결됨\n",
    "print(np.exp(a-c)/np.sum(np.exp(a-c)))"
   ]
  },
  {
   "cell_type": "code",
   "execution_count": 24,
   "metadata": {},
   "outputs": [
    {
     "name": "stdout",
     "output_type": "stream",
     "text": [
      "[0.01821127 0.24519181 0.73659691]\n",
      "[1.38389653e-87 3.72007598e-44 1.00000000e+00]\n"
     ]
    }
   ],
   "source": [
    "#무한대 문제를 해결한 softmax 함수\n",
    "def softmax(a):\n",
    "    c=np.max(a) #a의 최대값\n",
    "    exp_a=np.exp(a-c) #a의 최대값에서 각 값을 뺀 값\n",
    "    sum_exp_a=np.sum(exp_a) #지수함수의 합계값\n",
    "    y=exp_a / sum_exp_a\n",
    "    return y\n",
    "\n",
    "a=np.array([0.3,2.9,4.0])\n",
    "print(softmax(a))\n",
    "\n",
    "a=np.array([1000,1100,1200])\n",
    "print(softmax(a))"
   ]
  },
  {
   "cell_type": "code",
   "execution_count": 29,
   "metadata": {},
   "outputs": [
    {
     "data": {
      "text/plain": [
       "4"
      ]
     },
     "execution_count": 29,
     "metadata": {},
     "output_type": "execute_result"
    }
   ],
   "source": [
    "n=[20,10,70,-50,80]\n",
    "np.argmax(n) #가장 큰 값의 인덱스를 구하는 함수"
   ]
  },
  {
   "cell_type": "code",
   "execution_count": 28,
   "metadata": {},
   "outputs": [
    {
     "name": "stdout",
     "output_type": "stream",
     "text": [
      "[0.01821127 0.24519181 0.73659691]\n",
      "1.0\n",
      "2\n",
      "4.0\n"
     ]
    }
   ],
   "source": [
    "a=np.array([0.3,2.9,4.0])\n",
    "print(softmax(a)) #소프트맥스의 결과값은 확률\n",
    "print(sum(softmax(a))) #소프트맥스의 합계는 1\n",
    "idx=np.argmax(softmax(a)) #가장 큰 값의 인덱스\n",
    "print(idx)\n",
    "print(a[idx]) #확률이 가장 높은 값"
   ]
  },
  {
   "cell_type": "markdown",
   "metadata": {},
   "source": [
    "### 손실함수"
   ]
  },
  {
   "cell_type": "code",
   "execution_count": 32,
   "metadata": {},
   "outputs": [
    {
     "name": "stdout",
     "output_type": "stream",
     "text": [
      "0.09750000000000003\n",
      "0.5975\n"
     ]
    }
   ],
   "source": [
    "#평균제곱오차\n",
    "def mean_squeared_error(y,t):\n",
    "#평균제곱오차: (출력값-정답)의 제곱ㄱ의 합계 / 데이터의 갯수\n",
    "#이분류의 경우 0.5를 곱하게 됨\n",
    "#n class 의 경우: 1/n 을 곱함\n",
    "    return 0.5 * np.sum((y-t)**2)\n",
    "\n",
    "t=np.array([0,0,1,0,0,0,0,0,0,0])#실제값\n",
    "#예측한값\n",
    "y=np.array([0.1,0.05,0.6,0.0,0.05,0.1,0.0,0.1,0.0,0.0])\n",
    "print(mean_squeared_error(y,t))\n",
    "\n",
    "y=np.array([0.1,0.05,0.1,0.0,0.05,0.1,0.0,0.6,0.0,0.0])\n",
    "print(mean_squeared_error(y,t))"
   ]
  },
  {
   "cell_type": "code",
   "execution_count": 37,
   "metadata": {},
   "outputs": [],
   "source": [
    "#크로스엔트로피 오차\n",
    "def cross_entropy_error(y,t):\n",
    "    delta=1e-7 #무한대 또는 0이 되지 않도록 빼주는 값\n",
    "    return -np.sum(t*np.log(y+delta))"
   ]
  },
  {
   "cell_type": "code",
   "execution_count": 38,
   "metadata": {},
   "outputs": [
    {
     "name": "stdout",
     "output_type": "stream",
     "text": [
      "0.510825457099338\n",
      "2.302584092994546\n"
     ]
    }
   ],
   "source": [
    "t=np.array([0,0,1,0,0,0,0,0,0,0])#실제값\n",
    "#예측한값\n",
    "y=np.array([0.1,0.05,0.6,0.0,0.05,0.1,0.0,0.1,0.0,0.0])\n",
    "print(cross_entropy_error(y,t))\n",
    "\n",
    "y=np.array([0.1,0.05,0.1,0.0,0.05,0.1,0.0,0.6,0.0,0.0])\n",
    "print(cross_entropy_error(y,t))"
   ]
  },
  {
   "cell_type": "code",
   "execution_count": null,
   "metadata": {},
   "outputs": [],
   "source": []
  }
 ],
 "metadata": {
  "kernelspec": {
   "display_name": "Python 3",
   "language": "python",
   "name": "python3"
  },
  "language_info": {
   "codemirror_mode": {
    "name": "ipython",
    "version": 3
   },
   "file_extension": ".py",
   "mimetype": "text/x-python",
   "name": "python",
   "nbconvert_exporter": "python",
   "pygments_lexer": "ipython3",
   "version": "3.7.4"
  }
 },
 "nbformat": 4,
 "nbformat_minor": 2
}
