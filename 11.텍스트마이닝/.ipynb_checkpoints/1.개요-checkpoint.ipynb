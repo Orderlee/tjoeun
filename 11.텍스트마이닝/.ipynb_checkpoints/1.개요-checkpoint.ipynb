{
 "cells": [
  {
   "cell_type": "code",
   "execution_count": 1,
   "metadata": {},
   "outputs": [
    {
     "name": "stdout",
     "output_type": "stream",
     "text": [
      "hello world\n",
      "HELLO WORLD\n"
     ]
    }
   ],
   "source": [
    "#텍스트마이닝에서 대소문자는 큰 의미가 없으므로 일반적으로 소문자로 변경\n",
    "s='Hello world'\n",
    "print(s.lower())\n",
    "print(s.upper())"
   ]
  },
  {
   "cell_type": "code",
   "execution_count": 2,
   "metadata": {},
   "outputs": [
    {
     "name": "stdout",
     "output_type": "stream",
     "text": [
      "올해 들어 서울 지역의 부동산 가격이 % 하락했습니다.\n"
     ]
    }
   ],
   "source": [
    "#불용어 처리 (숫자,특수문자 등은 큰 의미가 없으므로 일반적으로 제거)\n",
    "import re\n",
    "p=re.compile('[0-9]+') #정규표현식: 숫자제거\n",
    "result=p.sub('','올해 들어 서울 지역의 부동산 가격이 30% 하락했습니다.')\n",
    "print(result)"
   ]
  },
  {
   "cell_type": "code",
   "execution_count": 4,
   "metadata": {},
   "outputs": [
    {
     "name": "stdout",
     "output_type": "stream",
     "text": [
      "올해 들어 서울 지역의 부동산 가격이 30% 하락했습니다 !@#_1234\n",
      "올해 들어 서울 지역의 부동산 가격이  하락했습니다 \n"
     ]
    }
   ],
   "source": [
    "def clean_text(input_data):\n",
    "    p=re.compile('[0-9_!@#$%^&*]') #숫자,특수문자 제거\n",
    "    result=p.sub('',input_data)\n",
    "    return result\n",
    "\n",
    "txt='올해 들어 서울 지역의 부동산 가격이 30% 하락했습니다 !@#_1234'\n",
    "print(txt)\n",
    "print(clean_text(txt))"
   ]
  },
  {
   "cell_type": "code",
   "execution_count": 6,
   "metadata": {},
   "outputs": [
    {
     "data": {
      "text/plain": [
       "['추석', '연휴', '민족', '대이동', '시작', '교통량', '교통사고', '특히', '자동차', '고장', '상당수']"
      ]
     },
     "execution_count": 6,
     "metadata": {},
     "output_type": "execute_result"
    }
   ],
   "source": [
    "#불용어(분석에 불필요한 의미없는 단어들)\n",
    "#한국어의 경우 불용어 사전을 직접 만들어야 함\n",
    "words=['추석','연휴','민족','대이동','시작','늘어','교통량',\n",
    "      '교통사고','특히','자동차','고장','상당수','나타','것','기자']\n",
    "stopwords=['가다','늘어','나타','것','기자']\n",
    "[i for i in words if i not in stopwords]"
   ]
  },
  {
   "cell_type": "code",
   "execution_count": 7,
   "metadata": {},
   "outputs": [
    {
     "name": "stderr",
     "output_type": "stream",
     "text": [
      "[nltk_data] Downloading package stopwords to\n",
      "[nltk_data]     C:\\Users\\tjoeun302-18\\AppData\\Roaming\\nltk_data...\n",
      "[nltk_data]   Unzipping corpora\\stopwords.zip.\n"
     ]
    },
    {
     "data": {
      "text/plain": [
       "True"
      ]
     },
     "execution_count": 7,
     "metadata": {},
     "output_type": "execute_result"
    }
   ],
   "source": [
    "#영어 텍스트마이닝 모듈\n",
    "import nltk\n",
    "nltk.download('stopwords') #불용어 다운로드 (주로 영어)"
   ]
  },
  {
   "cell_type": "code",
   "execution_count": 9,
   "metadata": {},
   "outputs": [
    {
     "name": "stdout",
     "output_type": "stream",
     "text": [
      "['chief', 'justics', 'roberts', ',', 'president', 'carter', ',', 'president', 'clinton', 'president', 'bush', 'obama', 'fellow', 'americans', 'people', 'world', 'thank']\n"
     ]
    }
   ],
   "source": [
    "from nltk.corpus import stopwords\n",
    "words=['chief','justics','roberts',',','president','carter',',','president','clinton',\n",
    "      'president','bush','obama','fellow','americans','and','people','of',\n",
    "      'the','world','thank','you']\n",
    "#불용어를 제외한 단어 리스트\n",
    "print([w for w in words if not w in stopwords.words('english')])"
   ]
  },
  {
   "cell_type": "code",
   "execution_count": 10,
   "metadata": {},
   "outputs": [
    {
     "name": "stderr",
     "output_type": "stream",
     "text": [
      "[nltk_data] Downloading package punkt to\n",
      "[nltk_data]     C:\\Users\\tjoeun302-18\\AppData\\Roaming\\nltk_data...\n",
      "[nltk_data]   Unzipping tokenizers\\punkt.zip.\n"
     ]
    },
    {
     "data": {
      "text/plain": [
       "True"
      ]
     },
     "execution_count": 10,
     "metadata": {},
     "output_type": "execute_result"
    }
   ],
   "source": [
    "#문장부호 다운로드\n",
    "nltk.download('punkt')"
   ]
  },
  {
   "cell_type": "code",
   "execution_count": 15,
   "metadata": {},
   "outputs": [
    {
     "name": "stdout",
     "output_type": "stream",
     "text": [
      "['cook', 'cooker', 'cooking', 'cooks', 'cookery']\n",
      "cook cooker cook cook cookeri "
     ]
    }
   ],
   "source": [
    "#어근 동일화 처리, 비슷한 어근 처리(stemming)\n",
    "from nltk.stem.porter import PorterStemmer\n",
    "from nltk.tokenize import word_tokenize\n",
    "stm=PorterStemmer()\n",
    "txt='cook cooker cooking cooks cookery'\n",
    "words=word_tokenize(txt) #단어 구분\n",
    "print(words)\n",
    "for w in words:\n",
    "    print(stm.stem(w),end=' ') #어근 추출"
   ]
  },
  {
   "cell_type": "code",
   "execution_count": 14,
   "metadata": {},
   "outputs": [
    {
     "name": "stdout",
     "output_type": "stream",
     "text": [
      "python python python python python "
     ]
    }
   ],
   "source": [
    "stm=PorterStemmer()\n",
    "txt='pythoning pythons Python pythoners pythoned'\n",
    "words=word_tokenize(txt)\n",
    "for w in words:\n",
    "    print(stm.stem(w),end=' ')"
   ]
  },
  {
   "cell_type": "code",
   "execution_count": 17,
   "metadata": {},
   "outputs": [
    {
     "name": "stdout",
     "output_type": "stream",
     "text": [
      "cook cook cook cook cookery "
     ]
    }
   ],
   "source": [
    "#LancansterStemmer : 좀 더 나은 성능\n",
    "from nltk.stem.lancaster import LancasterStemmer\n",
    "stm=LancasterStemmer()\n",
    "txt='cook cooker cooking cooks cookery'\n",
    "words=word_tokenize(txt)\n",
    "for w in words:\n",
    "    print(stm.stem(w),end=' ')"
   ]
  },
  {
   "cell_type": "code",
   "execution_count": 18,
   "metadata": {},
   "outputs": [
    {
     "name": "stdout",
     "output_type": "stream",
     "text": [
      "python python python python python "
     ]
    }
   ],
   "source": [
    "stm=LancasterStemmer()\n",
    "txt='pythoning pythons Python pythoners pythoned'\n",
    "words=word_tokenize(txt)\n",
    "for w in words:\n",
    "    print(stm.stem(w),end=' ')"
   ]
  },
  {
   "cell_type": "code",
   "execution_count": 19,
   "metadata": {},
   "outputs": [
    {
     "name": "stdout",
     "output_type": "stream",
     "text": [
      "cook\n",
      "cookery\n",
      "leside\n"
     ]
    }
   ],
   "source": [
    "#정규표현식을 사용하여 특정한 표현을 일괄적으로 제거하는 방법\n",
    "from nltk.stem.regexp import RegexpStemmer\n",
    "stm=RegexpStemmer('ing') #제거할 패턴\n",
    "print(stm.stem('cooking')) #ing가 제거됨\n",
    "print(stm.stem('cookery'))\n",
    "print(stm.stem('ingleside')) #ing가 제거됨"
   ]
  },
  {
   "cell_type": "code",
   "execution_count": 21,
   "metadata": {},
   "outputs": [
    {
     "name": "stdout",
     "output_type": "stream",
     "text": [
      "he el ll lo "
     ]
    }
   ],
   "source": [
    "#N-gram : n번 연이어 등장하는 단어들의 연쇄\n",
    "#2-gram(바이그램), 3-gram(트라이그램)\n",
    "txt='hello'\n",
    "for i in range(len(txt)-1):\n",
    "    print(txt[i],txt[i+1],sep='',end=' ')"
   ]
  },
  {
   "cell_type": "code",
   "execution_count": 22,
   "metadata": {},
   "outputs": [
    {
     "name": "stdout",
     "output_type": "stream",
     "text": [
      "this is\n",
      "is python\n",
      "python script\n"
     ]
    }
   ],
   "source": [
    "txt='this is python script'\n",
    "words=txt.split() #공백단위로 쪼갬\n",
    "for i in range(len(words)-1):\n",
    "    print(words[i],words[i+1])"
   ]
  },
  {
   "cell_type": "code",
   "execution_count": 27,
   "metadata": {},
   "outputs": [
    {
     "data": {
      "text/plain": [
       "[(1, 10), (2, 20), (3, 30)]"
      ]
     },
     "execution_count": 27,
     "metadata": {},
     "output_type": "execute_result"
    }
   ],
   "source": [
    "a=[1,2,3]\n",
    "b=[10,20,30]\n",
    "list(zip(a,b))"
   ]
  },
  {
   "cell_type": "code",
   "execution_count": 28,
   "metadata": {},
   "outputs": [
    {
     "data": {
      "text/plain": [
       "[('h', 'e'), ('e', 'l'), ('l', 'l'), ('l', 'o')]"
      ]
     },
     "execution_count": 28,
     "metadata": {},
     "output_type": "execute_result"
    }
   ],
   "source": [
    "a='hello'\n",
    "b='ello'\n",
    "list(zip(a,b))"
   ]
  },
  {
   "cell_type": "code",
   "execution_count": 25,
   "metadata": {},
   "outputs": [
    {
     "name": "stdout",
     "output_type": "stream",
     "text": [
      "he\n",
      "el\n",
      "ll\n",
      "lo\n"
     ]
    }
   ],
   "source": [
    "txt='hello'\n",
    "two_gram=zip(txt,txt[1:])\n",
    "for i in two_gram:\n",
    "    print(i[0],i[1],sep='')"
   ]
  },
  {
   "cell_type": "code",
   "execution_count": 29,
   "metadata": {},
   "outputs": [
    {
     "data": {
      "text/plain": [
       "[('this', 'is'), ('is', 'python'), ('python', 'script')]"
      ]
     },
     "execution_count": 29,
     "metadata": {},
     "output_type": "execute_result"
    }
   ],
   "source": [
    "a='this is python script'\n",
    "wa=a.split()\n",
    "b='is python script'\n",
    "wb=b.split()\n",
    "list(zip(wa,wb))"
   ]
  },
  {
   "cell_type": "code",
   "execution_count": 26,
   "metadata": {},
   "outputs": [
    {
     "data": {
      "text/plain": [
       "[('this', 'is'), ('is', 'python'), ('python', 'script')]"
      ]
     },
     "execution_count": 26,
     "metadata": {},
     "output_type": "execute_result"
    }
   ],
   "source": [
    "txt='this is python script'\n",
    "words=txt.split()\n",
    "list(zip(words,words[1:])) #zip 인덱스끼리 묶는 함수"
   ]
  },
  {
   "cell_type": "code",
   "execution_count": 30,
   "metadata": {},
   "outputs": [
    {
     "name": "stdout",
     "output_type": "stream",
     "text": [
      "('I', 'love') ('love', 'you.') ('you.', 'Good') ('Good', 'morning.') ('morning.', 'Good') ('Good', 'bye.') "
     ]
    }
   ],
   "source": [
    "#ngram 함수\n",
    "from nltk import ngrams\n",
    "sentence = 'I love you. Good morning. Good bye.'\n",
    "grams=ngrams(sentence.split(),2) #2-gram\n",
    "for gram in grams:\n",
    "    print(gram,end=' ')"
   ]
  },
  {
   "cell_type": "code",
   "execution_count": 31,
   "metadata": {},
   "outputs": [
    {
     "name": "stdout",
     "output_type": "stream",
     "text": [
      "('I', 'love', 'you.') ('love', 'you.', 'Good') ('you.', 'Good', 'morning.') ('Good', 'morning.', 'Good') ('morning.', 'Good', 'bye.') "
     ]
    }
   ],
   "source": [
    "sentence = 'I love you. Good morning. Good bye.'\n",
    "grams=ngrams(sentence.split(),3) #3-gram\n",
    "for gram in grams:\n",
    "    print(gram,end=' ')"
   ]
  },
  {
   "cell_type": "code",
   "execution_count": null,
   "metadata": {},
   "outputs": [],
   "source": []
  },
  {
   "cell_type": "code",
   "execution_count": 34,
   "metadata": {},
   "outputs": [
    {
     "name": "stdout",
     "output_type": "stream",
     "text": [
      "['아버지', '가', '방', '에', '들', '어', '가', '시ㄴ다']\n"
     ]
    }
   ],
   "source": [
    "#품사 분석 (POS 태깅, Part-Of-Speech)\n",
    "#한국어 지원 패키지\n",
    "from konlpy.tag import Hannanum #한나눔 패키지\n",
    "han = Hannanum()\n",
    "txt= ''' 아버지가 방에 들어가신다 '''\n",
    "print(han.morphs(txt)) #형태소 분석"
   ]
  },
  {
   "cell_type": "code",
   "execution_count": 36,
   "metadata": {},
   "outputs": [
    {
     "name": "stdout",
     "output_type": "stream",
     "text": [
      "['최다', '연승', '기록', '은', '레알', '마드리드', '가', '가', '아', '지', '고', '있', '다', '.', '1962년', '2월', '부터', '1965년', '2월', '까지', '레알', '마드리드', '는', '바르셀로나', '를', '상대', '로', '7연승', '을', '거두', '었다', '.', '최다', '연속골', '은', '바르셀로나', '가', '차', '지', '하', '었다', '.', '2011년', '4월', '부터', '2017년', '8월', '까지', '24', '경', '기', '연속골', '을', '성공', '시키', '었다', '.']\n"
     ]
    }
   ],
   "source": [
    "from konlpy.tag import Hannanum #한나눔 패키지\n",
    "han = Hannanum()\n",
    "txt= ''' 최다 연승 기록은 레알 마드리드가 가지고 있다. \n",
    "1962년 2월부터 1965년 2월까지 레알 마드리드는 바르셀로나를 \n",
    "상대로 7연승을 거뒀다. 최다 연속골은 바르셀로나가 차지했다. \n",
    "2011년 4월부터 2017년 8월까지 24경기 연속골을 성공시켰다. '''\n",
    "print(han.morphs(txt)) #형태소 분석"
   ]
  },
  {
   "cell_type": "code",
   "execution_count": 37,
   "metadata": {},
   "outputs": [
    {
     "data": {
      "text/plain": [
       "['최다',\n",
       " '연승',\n",
       " '기록',\n",
       " '레알',\n",
       " '마드리드',\n",
       " '1962년',\n",
       " '2월',\n",
       " '1965년',\n",
       " '2월',\n",
       " '레알',\n",
       " '마드리드',\n",
       " '바르셀로나',\n",
       " '상대',\n",
       " '7연승',\n",
       " '최다',\n",
       " '연속골',\n",
       " '바르셀로나',\n",
       " '2011년',\n",
       " '4월',\n",
       " '2017년',\n",
       " '8월',\n",
       " '24',\n",
       " '기',\n",
       " '연속골',\n",
       " '성공']"
      ]
     },
     "execution_count": 37,
     "metadata": {},
     "output_type": "execute_result"
    }
   ],
   "source": [
    "han.nouns(txt) #몃아추출"
   ]
  },
  {
   "cell_type": "code",
   "execution_count": 38,
   "metadata": {},
   "outputs": [
    {
     "data": {
      "text/plain": [
       "[('최다', 'N'),\n",
       " ('연승', 'N'),\n",
       " ('기록', 'N'),\n",
       " ('은', 'J'),\n",
       " ('레알', 'N'),\n",
       " ('마드리드', 'N'),\n",
       " ('가', 'J'),\n",
       " ('가', 'P'),\n",
       " ('아', 'E'),\n",
       " ('지', 'P'),\n",
       " ('고', 'E'),\n",
       " ('있', 'P'),\n",
       " ('다', 'E'),\n",
       " ('.', 'S'),\n",
       " ('1962년', 'N'),\n",
       " ('2월', 'N'),\n",
       " ('부터', 'J'),\n",
       " ('1965년', 'N'),\n",
       " ('2월', 'N'),\n",
       " ('까지', 'J'),\n",
       " ('레알', 'N'),\n",
       " ('마드리드', 'N'),\n",
       " ('는', 'J'),\n",
       " ('바르셀로나', 'N'),\n",
       " ('를', 'J'),\n",
       " ('상대', 'N'),\n",
       " ('로', 'J'),\n",
       " ('7연승', 'N'),\n",
       " ('을', 'J'),\n",
       " ('거두', 'P'),\n",
       " ('었다', 'E'),\n",
       " ('.', 'S'),\n",
       " ('최다', 'N'),\n",
       " ('연속골', 'N'),\n",
       " ('은', 'J'),\n",
       " ('바르셀로나', 'N'),\n",
       " ('가', 'J'),\n",
       " ('차', 'P'),\n",
       " ('지', 'E'),\n",
       " ('하', 'P'),\n",
       " ('었다', 'E'),\n",
       " ('.', 'S'),\n",
       " ('2011년', 'N'),\n",
       " ('4월', 'N'),\n",
       " ('부터', 'J'),\n",
       " ('2017년', 'N'),\n",
       " ('8월', 'N'),\n",
       " ('까지', 'J'),\n",
       " ('24', 'N'),\n",
       " ('경', 'X'),\n",
       " ('기', 'N'),\n",
       " ('연속골', 'N'),\n",
       " ('을', 'J'),\n",
       " ('성공', 'N'),\n",
       " ('시키', 'X'),\n",
       " ('었다', 'E'),\n",
       " ('.', 'S')]"
      ]
     },
     "execution_count": 38,
     "metadata": {},
     "output_type": "execute_result"
    }
   ],
   "source": [
    "han.pos(txt) #형태소와 품사"
   ]
  },
  {
   "cell_type": "code",
   "execution_count": 39,
   "metadata": {},
   "outputs": [
    {
     "data": {
      "text/plain": [
       "['최다',\n",
       " '연승',\n",
       " '기록',\n",
       " '은',\n",
       " '레',\n",
       " '알',\n",
       " 'ㄹ',\n",
       " '마',\n",
       " '드리',\n",
       " '드',\n",
       " '가',\n",
       " '가지',\n",
       " '고',\n",
       " '있',\n",
       " '다',\n",
       " '.',\n",
       " '1962',\n",
       " '년',\n",
       " '2',\n",
       " '월',\n",
       " '부터',\n",
       " '1965',\n",
       " '년',\n",
       " '2',\n",
       " '월',\n",
       " '까지',\n",
       " '레',\n",
       " '알',\n",
       " 'ㄹ',\n",
       " '마',\n",
       " '드리',\n",
       " '들',\n",
       " '는',\n",
       " '바',\n",
       " '르',\n",
       " '셀',\n",
       " '로',\n",
       " '나르',\n",
       " 'ㄹ',\n",
       " '상대',\n",
       " '로',\n",
       " '7',\n",
       " '연승',\n",
       " '을',\n",
       " '거두',\n",
       " '었',\n",
       " '다',\n",
       " '.',\n",
       " '최다',\n",
       " '연속',\n",
       " '골',\n",
       " '은',\n",
       " '바',\n",
       " '르',\n",
       " '셀',\n",
       " '로',\n",
       " '나',\n",
       " '가',\n",
       " '차지',\n",
       " '하',\n",
       " '었',\n",
       " '다',\n",
       " '.',\n",
       " '2011',\n",
       " '년',\n",
       " '4',\n",
       " '월',\n",
       " '부터',\n",
       " '2017',\n",
       " '년',\n",
       " '8',\n",
       " '월',\n",
       " '까지',\n",
       " '24',\n",
       " '경기',\n",
       " '연속',\n",
       " '골',\n",
       " '을',\n",
       " '성공',\n",
       " '시키',\n",
       " '었',\n",
       " '다',\n",
       " '.']"
      ]
     },
     "execution_count": 39,
     "metadata": {},
     "output_type": "execute_result"
    }
   ],
   "source": [
    "from konlpy.tag import Kkma #꼬꼬마 패키지\n",
    "kkm=Kkma()\n",
    "kkm.morphs(txt) #형태소 분석"
   ]
  },
  {
   "cell_type": "code",
   "execution_count": 40,
   "metadata": {},
   "outputs": [
    {
     "data": {
      "text/plain": [
       "['최다',\n",
       " '연승',\n",
       " '기록',\n",
       " '레',\n",
       " '마',\n",
       " '1962',\n",
       " '1962년',\n",
       " '년',\n",
       " '2',\n",
       " '2월',\n",
       " '월',\n",
       " '1965',\n",
       " '1965년',\n",
       " '바',\n",
       " '바르셀',\n",
       " '르',\n",
       " '셀',\n",
       " '상대',\n",
       " '7',\n",
       " '7연승',\n",
       " '연속',\n",
       " '연속골',\n",
       " '골',\n",
       " '나',\n",
       " '차지',\n",
       " '2011',\n",
       " '2011년',\n",
       " '4',\n",
       " '4월',\n",
       " '2017',\n",
       " '2017년',\n",
       " '8',\n",
       " '8월',\n",
       " '24',\n",
       " '24경기',\n",
       " '경기',\n",
       " '성공']"
      ]
     },
     "execution_count": 40,
     "metadata": {},
     "output_type": "execute_result"
    }
   ],
   "source": [
    "kkm.nouns(txt) #명사 추출"
   ]
  },
  {
   "cell_type": "code",
   "execution_count": 41,
   "metadata": {},
   "outputs": [
    {
     "data": {
      "text/plain": [
       "[('최다', 'NNG'),\n",
       " ('연승', 'NNG'),\n",
       " ('기록', 'NNG'),\n",
       " ('은', 'JX'),\n",
       " ('레', 'NNG'),\n",
       " ('알', 'VV'),\n",
       " ('ㄹ', 'ETD'),\n",
       " ('마', 'NNG'),\n",
       " ('드리', 'MAG'),\n",
       " ('드', 'XPN'),\n",
       " ('가', 'NNG'),\n",
       " ('가지', 'VV'),\n",
       " ('고', 'ECE'),\n",
       " ('있', 'VXV'),\n",
       " ('다', 'EFN'),\n",
       " ('.', 'SF'),\n",
       " ('1962', 'NR'),\n",
       " ('년', 'NNM'),\n",
       " ('2', 'NR'),\n",
       " ('월', 'NNM'),\n",
       " ('부터', 'JX'),\n",
       " ('1965', 'NR'),\n",
       " ('년', 'NNM'),\n",
       " ('2', 'NR'),\n",
       " ('월', 'NNM'),\n",
       " ('까지', 'JX'),\n",
       " ('레', 'NNG'),\n",
       " ('알', 'VV'),\n",
       " ('ㄹ', 'ETD'),\n",
       " ('마', 'NNG'),\n",
       " ('드리', 'MAG'),\n",
       " ('들', 'VV'),\n",
       " ('는', 'ETD'),\n",
       " ('바', 'NNG'),\n",
       " ('르', 'NNG'),\n",
       " ('셀', 'NNG'),\n",
       " ('로', 'JKM'),\n",
       " ('나르', 'VV'),\n",
       " ('ㄹ', 'ETD'),\n",
       " ('상대', 'NNG'),\n",
       " ('로', 'JKM'),\n",
       " ('7', 'NR'),\n",
       " ('연승', 'NNG'),\n",
       " ('을', 'JKO'),\n",
       " ('거두', 'VV'),\n",
       " ('었', 'EPT'),\n",
       " ('다', 'EFN'),\n",
       " ('.', 'SF'),\n",
       " ('최다', 'NNG'),\n",
       " ('연속', 'NNG'),\n",
       " ('골', 'NNG'),\n",
       " ('은', 'JX'),\n",
       " ('바', 'NNG'),\n",
       " ('르', 'NNG'),\n",
       " ('셀', 'NNG'),\n",
       " ('로', 'JKM'),\n",
       " ('나', 'NP'),\n",
       " ('가', 'JKS'),\n",
       " ('차지', 'NNG'),\n",
       " ('하', 'XSV'),\n",
       " ('었', 'EPT'),\n",
       " ('다', 'EFN'),\n",
       " ('.', 'SF'),\n",
       " ('2011', 'NR'),\n",
       " ('년', 'NNM'),\n",
       " ('4', 'NR'),\n",
       " ('월', 'NNM'),\n",
       " ('부터', 'JX'),\n",
       " ('2017', 'NR'),\n",
       " ('년', 'NNM'),\n",
       " ('8', 'NR'),\n",
       " ('월', 'NNM'),\n",
       " ('까지', 'JX'),\n",
       " ('24', 'NR'),\n",
       " ('경기', 'NNG'),\n",
       " ('연속', 'NNG'),\n",
       " ('골', 'NNG'),\n",
       " ('을', 'JKO'),\n",
       " ('성공', 'NNG'),\n",
       " ('시키', 'XSV'),\n",
       " ('었', 'EPT'),\n",
       " ('다', 'EFN'),\n",
       " ('.', 'SF')]"
      ]
     },
     "execution_count": 41,
     "metadata": {},
     "output_type": "execute_result"
    }
   ],
   "source": [
    "kkm.pos(txt) #형태소와 품사"
   ]
  },
  {
   "cell_type": "code",
   "execution_count": 43,
   "metadata": {},
   "outputs": [
    {
     "data": {
      "text/plain": [
       "['최',\n",
       " '다',\n",
       " '연승',\n",
       " '기록',\n",
       " '은',\n",
       " '레알',\n",
       " '마드리드',\n",
       " '가',\n",
       " '가지',\n",
       " '고',\n",
       " '있다',\n",
       " '.',\n",
       " '1962년',\n",
       " '2월',\n",
       " '부터',\n",
       " '1965년',\n",
       " '2월',\n",
       " '까지',\n",
       " '레알',\n",
       " '마드리드',\n",
       " '는',\n",
       " '바르셀로나',\n",
       " '를',\n",
       " '상대로',\n",
       " '7',\n",
       " '연승',\n",
       " '을',\n",
       " '거뒀다',\n",
       " '.',\n",
       " '최',\n",
       " '다',\n",
       " '연속',\n",
       " '골은',\n",
       " '바르셀로나',\n",
       " '가',\n",
       " '차지',\n",
       " '했다',\n",
       " '.',\n",
       " '2011년',\n",
       " '4월',\n",
       " '부터',\n",
       " '2017년',\n",
       " '8월',\n",
       " '까지',\n",
       " '24',\n",
       " '경기',\n",
       " '연',\n",
       " '속',\n",
       " '골',\n",
       " '을',\n",
       " '성공',\n",
       " '시켰다',\n",
       " '.']"
      ]
     },
     "execution_count": 43,
     "metadata": {},
     "output_type": "execute_result"
    }
   ],
   "source": [
    "#최근 Twitter -> Okt로 이름이 바뀜\n",
    "from konlpy.tag import Okt #트위터 패키지\n",
    "twit=Okt()\n",
    "twit.morphs(txt) #형태소 분석"
   ]
  },
  {
   "cell_type": "code",
   "execution_count": 44,
   "metadata": {},
   "outputs": [
    {
     "data": {
      "text/plain": [
       "['최',\n",
       " '연승',\n",
       " '기록',\n",
       " '레알',\n",
       " '마드리드',\n",
       " '가지',\n",
       " '레알',\n",
       " '마드리드',\n",
       " '바르셀로나',\n",
       " '상대로',\n",
       " '연승',\n",
       " '최',\n",
       " '연속',\n",
       " '바르셀로나',\n",
       " '차지',\n",
       " '경기',\n",
       " '골',\n",
       " '성공']"
      ]
     },
     "execution_count": 44,
     "metadata": {},
     "output_type": "execute_result"
    }
   ],
   "source": [
    "twit.nouns(txt) #명사 추출"
   ]
  },
  {
   "cell_type": "code",
   "execution_count": 45,
   "metadata": {},
   "outputs": [
    {
     "data": {
      "text/plain": [
       "[('최', 'Noun'),\n",
       " ('다', 'Josa'),\n",
       " ('연승', 'Noun'),\n",
       " ('기록', 'Noun'),\n",
       " ('은', 'Josa'),\n",
       " ('레알', 'Noun'),\n",
       " ('마드리드', 'Noun'),\n",
       " ('가', 'Josa'),\n",
       " ('가지', 'Noun'),\n",
       " ('고', 'Josa'),\n",
       " ('있다', 'Adjective'),\n",
       " ('.', 'Punctuation'),\n",
       " ('1962년', 'Number'),\n",
       " ('2월', 'Number'),\n",
       " ('부터', 'Foreign'),\n",
       " ('1965년', 'Number'),\n",
       " ('2월', 'Number'),\n",
       " ('까지', 'Foreign'),\n",
       " ('레알', 'Noun'),\n",
       " ('마드리드', 'Noun'),\n",
       " ('는', 'Josa'),\n",
       " ('바르셀로나', 'Noun'),\n",
       " ('를', 'Josa'),\n",
       " ('상대로', 'Noun'),\n",
       " ('7', 'Number'),\n",
       " ('연승', 'Noun'),\n",
       " ('을', 'Josa'),\n",
       " ('거뒀다', 'Verb'),\n",
       " ('.', 'Punctuation'),\n",
       " ('최', 'Noun'),\n",
       " ('다', 'Josa'),\n",
       " ('연속', 'Noun'),\n",
       " ('골은', 'Verb'),\n",
       " ('바르셀로나', 'Noun'),\n",
       " ('가', 'Josa'),\n",
       " ('차지', 'Noun'),\n",
       " ('했다', 'Verb'),\n",
       " ('.', 'Punctuation'),\n",
       " ('2011년', 'Number'),\n",
       " ('4월', 'Number'),\n",
       " ('부터', 'Foreign'),\n",
       " ('2017년', 'Number'),\n",
       " ('8월', 'Number'),\n",
       " ('까지', 'Foreign'),\n",
       " ('24', 'Number'),\n",
       " ('경기', 'Noun'),\n",
       " ('연', 'Modifier'),\n",
       " ('속', 'Modifier'),\n",
       " ('골', 'Noun'),\n",
       " ('을', 'Josa'),\n",
       " ('성공', 'Noun'),\n",
       " ('시켰다', 'Verb'),\n",
       " ('.', 'Punctuation')]"
      ]
     },
     "execution_count": 45,
     "metadata": {},
     "output_type": "execute_result"
    }
   ],
   "source": [
    "twit.pos(txt) #형태소와 품사"
   ]
  },
  {
   "cell_type": "code",
   "execution_count": 46,
   "metadata": {},
   "outputs": [
    {
     "data": {
      "text/plain": [
       "['연승',\n",
       " '연승 기록',\n",
       " '레알',\n",
       " '레알 마드리드',\n",
       " '가지',\n",
       " '1962년',\n",
       " '1962년 2월',\n",
       " '1965년',\n",
       " '1965년 2월',\n",
       " '바르셀로나',\n",
       " '상대로',\n",
       " '상대로 7연승',\n",
       " '연속',\n",
       " '연속골은 바르셀로나',\n",
       " '차지',\n",
       " '2011년',\n",
       " '2011년 4월',\n",
       " '2017년',\n",
       " '2017년 8월',\n",
       " '24경기',\n",
       " '24경기 연속골',\n",
       " '성공',\n",
       " '기록',\n",
       " '마드리드',\n",
       " '2월',\n",
       " '4월',\n",
       " '8월',\n",
       " '24',\n",
       " '경기',\n",
       " '연속골']"
      ]
     },
     "execution_count": 46,
     "metadata": {},
     "output_type": "execute_result"
    }
   ],
   "source": [
    "twit.phrases(txt) #어구 추출"
   ]
  },
  {
   "cell_type": "code",
   "execution_count": 49,
   "metadata": {},
   "outputs": [
    {
     "name": "stderr",
     "output_type": "stream",
     "text": [
      "[nltk_data] Downloading package averaged_perceptron_tagger to\n",
      "[nltk_data]     C:\\Users\\tjoeun302-18\\AppData\\Roaming\\nltk_data...\n"
     ]
    },
    {
     "name": "stdout",
     "output_type": "stream",
     "text": [
      "[('I', 'PRP'), ('love', 'VBP'), ('you.', 'RB')]\n"
     ]
    },
    {
     "name": "stderr",
     "output_type": "stream",
     "text": [
      "[nltk_data]   Unzipping taggers\\averaged_perceptron_tagger.zip.\n"
     ]
    }
   ],
   "source": [
    "#영어 품사 분석\n",
    "import nltk\n",
    "nltk.download('averaged_perceptron_tagger')\n",
    "from nltk import pos_tag\n",
    "\n",
    "a='I love you.'\n",
    "tags=pos_tag(a.split())\n",
    "print(tags)"
   ]
  },
  {
   "cell_type": "code",
   "execution_count": 55,
   "metadata": {},
   "outputs": [
    {
     "name": "stdout",
     "output_type": "stream",
     "text": [
      "['Madrid', 'CF', 'Web', 'Oficial', '*{margin:0;padding:0}.form_checkbox_field:after,.form_checkbox_field:before,.form_telephone_field:after,.form_telephone_field:before,.header_info', '.wrapper:after,.header_info', '.actions_row:after,.home_layout', '.actions_row:before,.home_layout', '.banner_row:before,.home_layout', '.content_row:after,.home_layout', '.header_row:after,.home_layout', '.navigation_dropdown_content_list:after,[role=banner].sticky', '.navigation_dropdown_content_list:before{content:\".\";display:block;height:0;overflow:hidden}.error_layout', '.main_row:after,.footer_copyright', '.wrapper:after,.footer_sitemap', '.wrapper:lang(ar):after,.form_checkbox_field:after,.form_telephone_field:after,.header_info', '.banner_row:after,.home_layout', '.navigation_dropdown_content_list:after{clear:both}.error_layout', '.main_row:after,.error_layout', '.wrapper:after,.footer_copyright', '.wrapper:before,.footer_sitemap', '.wrapper:lang(ar):after,.footer_sitemap', '.wrapper:lang(ar):before,.form_checkbox_field:after,.form_checkbox_field:before,.form_telephone_field:after,.form_telephone_field:before,.header_info', 'small,.header_corp_nav', 'img,.header_summary_description', 'em,.header_summary_description', 'time,.m_articles_col,.m_cookie_btn,.m_cup', 'div:after,.m_cup', 'img,.m_cups_wrapper', '.m_cup,.m_full_header_banner_info', '.news_banner_picture,.m_full_header_banner_info', '.news_banner_video,.m_highlighted>*,.m_highlighted_aside_section_title>*,.m_highlighted_finish_game_header', 'p>*+:before,.m_highlighted_finish_game_teams>*,.m_highlighted_next_game_header', 'p>*+:before,.m_highlighted_next_game_team:before,.m_highlighted_summary_game_header', 'p>*+:before,.m_highlights_banner_container>*,.m_highlights_banner_iconos_picture,.m_highlights_banner_iconos_video,.m_highlights_upload_content', '.slider_btn_prev,.m_highlights_upload_content', 'img,.m_highlights_upload_header_btn>*,.m_images_slider_wrapper>*,.m_inner_nav', '.navigation_search_btn,.navigation_tools', '.navlist_item>a,.navigation_tools', 'a.navigation_search_btn,.news_banner', 'img,fieldset{border:0}article,aside,audio,canvas,figcaption,figure,figure', '.original_logo{display:none}[role=banner]', '.sticky_header_logo{width:0;height:30px;overflow:hidden;position:absolute;transition:opacity', 'a{color:#fff}.header_info_description', 'cubic-bezier(.19,1,.22,1),color', '.5s', '#999;padding:0', '.navigation_dropdown', '.navigation_dropdown_content_list>li>a{transition:color', 'li', 'auto', 'auto}.direct_player_cont{width:100%;height:calc(100vw', '.5625', '.m_agenda_title', '.btn_show{position:absolute;top:0;right:0;padding:20px', '.m_collapsable_content{height:auto}.m_agenda', '.m_agenda_main{position:relative}.m_agenda', '.m_agenda_main', '.m_agenda_tickets_btn{display:none}.m_agenda', '.m_agenda_selector{padding:15px;font-size:1.2em;z-index:3;text-align:center;position:relative;background:#fff}.m_agenda', '.m_agenda_selector', '.m_agenda_filter_close{display:none}.m_agenda', '#e1e1e1}.m_agenda', '#d6d6d6;padding:0', '.m_agenda_details.active{position:absolute;top:0;left:0;width:100%;height:60%}.m_agenda', '.m_agenda_event_tournament,.m_agenda', '.m_agenda_team_abbr,.m_agenda', '.m_agenda_team_standing{display:none}.m_agenda', '.m_agenda_list', '.m_agenda_event_container,.m_agenda', '.m_agenda_share,.m_agenda', '.m_agenda_team_standing,.m_agenda', '.m_agenda_tickets_btn{display:block}.m_agenda', '.m_agenda_event_item{max-width:none;float:none}.m_agenda', '.m_agenda_event_team{width:50px;margin:0}.m_agenda', '.m_agenda_event_item', '.m_agenda_event_info,.m_agenda', '.m_agenda_teams{max-width:none}.m_agenda', '.m_agenda_event_name,.m_agenda', '.m_agenda_team_name{display:none}.m_agenda', '.m_agenda_tickets_btn{margin-bottom:15px}.m_agenda', '.m_agenda_event_time{font-size:1.4em}.m_agenda', '.m_agenda_event_place{font-size:1.1em}.m_agenda', '.m_agenda_share', '.m_agenda_share_item', '.m_agenda_share_more{display:none}.m_agenda', '.m_agenda_share_item.hide_for_desktop{display:none}.m_agenda', '.m_agenda_team_name{display:block}.m_agenda', '.m_agenda_foot', '.btn_agenda_all{border:1px', '#000,0', '-1px', '.content_rmtv', 'span.directo{display:none}.m_widget_rmtv', 'span.title{padding-top:46px;font-size:16px;border-bottom:1px', '#40a3e6;margin:0', '.download_dossier{position:absolute;right:0;padding:15px', '.download_dossier:lang(ar){right:auto;left:0;padding:15px', '#d9d9d9;width:32%;margin-left:-3px}.m_highlighted_finish_game_header,.m_highlighted_next_game_header,.m_highlighted_summary_game_header{padding-top:17px}.m_highlighted_finish_game_title,.m_highlighted_next_game_audio,.m_highlighted_next_game_title,.m_highlighted_summary_game_title{font-size:1.2em;float:left;max-width:144px;padding-left:13px;padding-right:13px}.m_highlighted_finish_game_header', 'p,.m_highlighted_next_game_header', 'p,.m_highlighted_summary_game_header', 'p>*+:before,.m_highlighted_next_game_header', 'p>*+:before,.m_highlighted_summary_game_header', '#d9d9d9;padding:12px', '.m_share_action{float:left;border:none;padding:15px', '.highlighted_row{margin-bottom:33px}.home_layout', '.main_row>.col{width:33.33333%}.home_layout', '.main_row', 'img,.m_full_header_video', 'img{margin:0', 'h2{margin:0}.m_full_header_banner_info_wrapper', '.4s}.m_highlights_banner_image', '.news_banner_enlace,.m_full_header_banner_info', 'h1,.m_full_header_banner_info', 'h2,.m_full_header_banner_info', '.m_full_header_banner_info', '.news_banner_picture', 'span,.m_full_header_banner_info', '.news_banner_video', '.news_banner_enlace', '#000}.m_highlights_banner_item', 'img.lazyload,.m_highlights_banner_image', 'cubic-bezier(.19,1,.22,1);margin-top:0}.m_highlights_banner_iconos_picture,.m_highlights_banner_iconos_video{margin:0', 'span,.m_highlights_banner_iconos_video', '#e4e4e4;border:1px', '#5da9dd}.btn_social_twitter:before{color:#5da9dd}.btn_social_facebook:hover{border:1px', '#ccc}.btn_social_twitter{border:1px', '#ccc}.btn_social_whatsapp{border:1px', '#00aced}.m_highlight_header', 'img{width:inherit;height:auto;opacity:1;transition:opacity', 'img,.m_highlight_header', 'img{width:100%;height:auto}.m_highlight_header', 'strong{display:block;padding:20px', '.m_highlight_content_title,.m_highlight_content', 'h1,.m_highlight_mobile_title', 'strong,.m_highlighted_finish_game_result', 'strong,.m_schedule_event_description_text,.m_section', 'strong,.m_slider_list', 'h1{font-weight:400;font-size:1.4em;text-transform:uppercase;color:#333;margin-bottom:5px;padding:0;display:block}.news_banner{padding-left:20px;width:100%}.news_banner', '.news_banner_picture,.news_banner', 'span,.news_banner', 'a,.m_match_actions_rel,.m_match_actions_rel', 'a,small.m_highlighted_tickets_rel,small.m_highlighted_tickets_rel', 'a{display:block}.m_highlighted_tickets_rel', 'a,.m_match_actions_rel', '.navlist_item', '#d9d9d9;width:50px;display:block;position:absolute;left:0;top:0}.mobile_menu_trigger', 'span,.mobile_menu_trigger', 'span:after,.mobile_menu_trigger', 'top;background-repeat:repeat-y}.home_layout', 'auto}.btn_social_facebook{border:1px', '#465a96}.btn_social_facebook:before{color:#465a96}.btn_social_twitter{border:1px', '#d9d9d9}}@media', '.iScrollHorizontalScrollbar.iScrollLoneScrollbar', 'h1,.m_destacados_home', 'p{margin-left:10px}.m_full_header_banner', '.m_full_header_banner_info_wrapper', '.m_dest_home_content', 'a.news_banner_picture:after,.m_destacados_home', 'a.news_banner_video{position:relative}.m_highlights_banner_container>*{width:280px;height:262px}.m_highlights_banner_item', '.m_highlights_banner_iconos_picture,.m_highlights_banner_item', '.m_highlights_banner_iconos_video,.m_highlights_banner_item', '.m_highlights_banner_info,.m_highlights_banner_item', '.m_highlights_banner_overlay,.m_highlights_banner_item', '.m_highlights_banner_rm_logo{transition:none}.m_highlights_banner_info', 'p{font-size:1.7em}.m_highlights_banner_item', '.m_highlights_banner_rm_logo{transition:none}.m_highlights_banner_item', '.m_highlights_banner_rm_logo{height:44px;margin-top:8px}.m_highlights_banner_item', '.m_highlights_banner_iconos{display:block;top:4px;position:relative}.home_layout', '.m_highlight_content{padding:0', 'strong{padding:10px', 'p{padding-bottom:8px;display:none;line-height:1.25em}.m_articles_banner', '.m_highlight', '.m_highlight_content', '.news_banner', '.news_banner_picture,.m_highlight', '.m_highlighted_next_game_team', 'img,.m_highlighted_next_game_new', 'img:lang(ar),.m_highlighted_next_game_team', 'img,.m_highlighted_next_game_team', 'strong,.m_highlighted_next_game_team', 'strong{display:inline;width:auto}.m_highlighted_next_game_info_wrapper{position:relative}.m_highlighted_next_game_info_wrapper', '.m_highlighted_next_game_info_country,.m_highlighted_next_game_info_wrapper', '.m_highlighted_weather,.m_highlighted_next_game_info_wrapper', '.m_agenda_share_item.hide_for_mobile{display:none}.m_agenda', 'auto}.grid_not_cabecera', '.section', 'var', '_comscore', '||', '[];', '_comscore.push({', 'c1:', '\"2\",', 'c2:', '\"19799691\"', '});', '(function()', 'document.createElement(\"script\"),', 'el', 'document.getElementsByTagName(\"script\")[0];', 's.async', 'true;', 's.src', '(document.location.protocol', '==', '\"https:\"', '\"https://sb\"', '\"http://b\")', '\".scorecardresearch.com/beacon.js\";', '})();', 'gads.type', 'document.location.protocol;', 'gads.src', '(useSSL', 'node', \"document.getElementsByTagName('script')[0];\", 'googletag', '{};', 'googletag.cmd', 'slotsCabecera', 'idioma', 'seccion', 'idClienteGoogleAdServer', 'idClienteGoogleAdServerSB', 'seccionVideo', 'noDfpUrl', '(seccionVideo.length==0){', '(noDfpUrl', '(seccion', 'headFutbol', 'headOtros', 'headLazo', 'false;', 'googletag.cmd.push(function()', 'patrocinadores_pie', \"='ros';\", 'subtipoNoticia', 'excluir', 'excluirPrefooterMultiple', 'key_value', 'soyNoticia', 'transversal_areavip;', 'mapa', 'googletag.sizeMapping().', 'addSize([tabletSize,', 'addSize([0,', 'build();', 'mapa_prefooter', 'mapa_transversal', 'map_medio', 'mapa_der1', 'mapa_der1_fr', 'mapa_skin_destacado_rmtv', 'mapa_detalle_sede', 'mapa_detalle_equipo', \"!='futbol/partidos'\", '&&', \"!='baloncesto/partidos'\", \"!='true'\", '){', \"gptadslots['der_pos1']=\", \"googletag.defineSlot('/'+idClienteGoogleAdServer+'/'+idioma+'/'+seccion+'/der_pos1',\", \"['der_pos1']).setTargeting('idioma',\", \"['id']).defineSizeMapping(mapa_der1).addService(googletag.pubads()));\", \"gptadslots['der_pos2']=\", \"googletag.defineSlot('/'+idClienteGoogleAdServer+'/'+idioma+'/'+seccion+'/der_pos2',\", '[idiomaOriginal]).addService(googletag.pubads());', \"gptadslots['der_pos3']=\", \"googletag.defineSlot('/'+idClienteGoogleAdServer+'/'+idioma+'/'+seccion+'/der_pos3',\", \"=='portada'){\", \"gptadslots['der_pos4']=\", \"googletag.defineSlot('/'+idClienteGoogleAdServer+'/'+idioma+'/'+seccion+'/der_pos4',\", \"gptadslots['der_pos5']=\", \"googletag.defineSlot('/'+idClienteGoogleAdServer+'/'+idioma+'/'+seccion+'/der_pos5',\", \"=='futbol/home'\", \"=='baloncesto/home'){\", \"gptadslots['der_pos6']=\", \"googletag.defineSlot('/'+idClienteGoogleAdServer+'/'+idioma+'/'+seccion+'/der_pos6',\", '((seccion', \"=='baloncesto/home'\", \"=='sobrerm/home'\", \"=='futbol/noticias'\", \"=='baloncesto/noticias'\", \"=='sobrerm/noticias'\", \"=='aficion/home'\", \"=='sobrerm/fundacion')\", '!=', \"'true'){\", \"(seccion=='socios'){\", \"!='true'){\", \"gptadslots['transversal']=\", \"googletag.defineSlot('/'+idClienteGoogleAdServer+'/'+idioma+'/'+'area_vip/home'+'/transversal',\", \"=='portada'\", \"=='baloncesto/noticias')\", \"googletag.defineSlot('/'+idClienteGoogleAdServer+'/'+idioma+'/'+seccion+'/transversal',\", \"googletag.defineSlot('/'+idClienteGoogleAdServer+'/'+idioma+'/'+'tour_bernabeu'+'/transversal',\", \"!='loginregistro'){\", \"gptadslots['prefooter_pos1']=\", \"googletag.defineSlot('/'+idClienteGoogleAdServer+'/'+idioma+'/'+seccion+'/prefooter_pos1',\", \"gptadslots['prefooter_pos2']=\", \"googletag.defineSlot('/'+idClienteGoogleAdServer+'/'+idioma+'/'+seccion+'/prefooter_pos2',\", \"gptadslots['prefooter_pos3']=\", \"googletag.defineSlot('/'+idClienteGoogleAdServer+'/'+idioma+'/'+seccion+'/prefooter_pos3',\", \"googletag.defineSlot('/'+idClienteGoogleAdServer+'/'+idioma+'/aficion/dropdown_pos1',\", \"googletag.defineSlot('/'+idClienteGoogleAdServer+'/'+idioma+'/aficion/dropdown_pos2',\", \"googletag.defineSlot('/'+idClienteGoogleAdServer+'/'+idioma+'/futbol/dropdown_pos1',\", \"googletag.defineSlot('/'+idClienteGoogleAdServer+'/'+idioma+'/futbol/dropdown_pos2',\", \"googletag.defineSlot('/'+idClienteGoogleAdServer+'/'+idioma+'/baloncesto/dropdown_pos1',\", \"googletag.defineSlot('/'+idClienteGoogleAdServer+'/'+idioma+'/baloncesto/dropdown_pos2',\", \"googletag.defineSlot('/'+idClienteGoogleAdServer+'/'+idioma+'/sobrerm/dropdown_pos1',\", \"googletag.defineSlot('/'+idClienteGoogleAdServer+'/'+idioma+'/sobrerm/dropdown_pos2',\", \"googletag.defineSlot('/'+idClienteGoogleAdServer+'/'+idioma+'/socios/dropdown_pos1',\", \"googletag.defineSlot('/'+idClienteGoogleAdServer+'/'+idioma+'/socios/dropdown_pos2',\", \"(idioma=='es'){\", \"(patrocinadores_pie!='baloncesto'){\", '}else{', \"(subtipoNoticia!=''){\", \"gptadslots['banner_superior']=\", \"gptadslots['banner_medio']=\", \"googletag.defineSlot('/'+idClienteGoogleAdServer+'/'+idioma+'/'+subtipoNoticia+'/banner_medio',\", \"gptadslots['banner_inferior']=\", \"googletag.defineSlot('/'+idClienteGoogleAdServer+'/'+idioma+'/'+subtipoNoticia+'/banner_inferior',\", \"(subtipoNoticia!=''\", \"'noticia_entrenamiento'){\", \"(seccion=='mundialito/sede'){\", \"gptadslots['detalle_sede']=\", \"(seccion=='mundialito/partido'){\", \"gptadslots['detalle_equipo']=\", \"googletag.defineSlot('/'+idClienteGoogleAdServer+'/'+idioma+'/'+seccion+'/detalle_equipo',\", \"(subtipoNoticia=='parte_medico'){\", \"gptadslots['parte_medico_skin']=\", \"googletag.defineSlot('/'+idClienteGoogleAdServer+'/'+idioma+'/'+seccion+'/parte_medico_skin',\", \"(seccion=='rmtv'){\", \"//gptadslots['banner_player']=\", \"gptadslots['sky_izq']=\", \"//gptadslots['sky_der']=\", \"gptadslots['sky_der']\", \"gptadslots['skin']\", \"(seccion=='rmtv_destacado'){\", \"gptadslots['sky_izq']\", \"googletag.defineSlot('/'+idClienteGoogleAdServer+'/'+idioma+'-video/rmtv-vid_directo',\", 'googletag.pubads().enableAsyncRendering();', '//googletag.pubads().enableSingleRequest();', 'googletag.pubads().disableInitialLoad();', 'googletag.enableServices();', 'ag_cid', 'reg_c', 'pageSection', '\"\";', 'pageType', 'cookieUsuario', 'getCookie(\"usuario\").split(\\'@\\');', '(cookieUsuario', '\"\"){', 'cookieUsuario[0]', '\"no', 'cookieUsuario[6]', 'cookieUsuario[7]', 'cookieUsuario[8]', '(cookieUsuario[0]', '\"socio\"){', \"'Oficina\", 'Atencion', \"Socio';\", 'Privada', \"Usuario';\", '}else', '\"carnetmadridista\"){', \"Madridistas';\", '\"usuarioregistrado\"){', 'dataLayer', '[{', 'pageSection,', 'pageType,', \"['<html>']\", '}];', '(function(w,d,s,l,i){', \"Date().getTime(),event:'gtm.js'});\", \"f=d.getElementsByTagName(s)[0],j=d.createElement(s),dl=l!='dataLayer'?'&l='+l:'';\", \"j.async=true;j.src='//www.googletagmanager.com/gtm.js?id='+i+dl;\", 'Close', 'La', 'LigaJornada', 'Vívelo', 'Santiago', 'BernabéuReal', 'MadridvsÉibar', 'Ver', 'Partido', 'INFO', 'DEL', 'PARTIDOLa', 'Liga,', 'Jornada', 'Bernabéu', 'mar', 'TV:Movistar', 'LaLiga', '(opción', 'Realmadrid', 'TV)Comprar', 'VIPcompartirfacebooktwitter', 'SiguienteLa', 'Ligavie,', 'mar21:00vsMás', 'VIPsiguienteAnteriorClose', 'EuroleagueJornada', 'WiZink', 'CenterReal', 'MadridvsAsvel', 'VilleurbanneVer', 'PARTIDOEuroleague,', 'Center', 'jue,', 'TV:DaznCOMPRAR', 'ENTRADAScompartirfacebooktwitter', 'SiguienteEuroleaguejue,', 'Selecciona', 'la', 'plataforma', 'que', 'tus', \"if(headOtros){document.getElementById('parcheOtros').classList.add('active');}\", '\"@context\":', '\"http://schema.org/\",', '\"@type\":', '\"Organization\",', '\"name\":', '\"Real', 'C.F.\",', '\"url\":', '\"https://www.realmadrid.com/\",', '\"image\":\"https://www.realmadrid.com/StaticFiles/RealMadridResponsive/images/header_logo.png\",', '\"sameAS\"', '\"https://www.facebook.com/realmadrid\",', '\"https://instagram.com/realmadrid\",', '\"https://www.twitter.com/realmadrid\",', '\"https://www.youtube.com/realmadrid\",', '\"https://dugout.com/RealMadrid\",', '\"https://www.snapchat.com/add/realmadrid\"', '],', '\"address\":', '\"PostalAddress\",', '\"addressLocality\":', '\"Madrid\",', '\"postalCode\":', '\"28036\",', '\"streetAddress\":', '\"Avenida', 'Concha', 'Espina,', '\"Spain\",', '\"telephone\":', 'ENTRADASFútbolCastillaBaloncestoTour', 'Únete', 'al', 'equipo', 'Palmarés', 'Fundación', 'Regístrate', 'Login', 'Área', 'privadaÁrea', 'privadaModificar', 'datosDesconectarDesconectarDesconectar', 'Idioma:ES', 'EspañolEnglishFrançaisDeutschPortuguês日本語Indonesia中文عربي', 'Entradas', 'Fútbol', 'Castilla', 'Baloncesto', 'Abonos', 'Tour', 'Partidos', 'fuera', 'FAQS', 'VIP', 'Temporada', 'Palcos', 'Butacas', 'FAQs', 'Contacto', 'Reservas', 'para', 'grupos', 'Reserva', 'tu', 'visita', 'Unidades', 'didácticas', 'Tú', 'Real', 'Preguntas', 'Madridistas', 'Tienda', 'Localizador', 'EQUIPACIONES', 'COMPRA', 'POR', 'JUGADOR', 'Gama', 'Colección', 'Regalos', 'Champions', 'Buscar', 'Inicio', 'Calendario', 'Clasificación', 'Noticias', 'Vídeos', 'Fotos', 'Plantilla', 'Cantera', 'CastillaJuvenil', 'AJuvenil', 'BJuvenil', 'CCadete', 'ACadete', 'BInfantil', 'AInfantil', 'BAlevín', 'AAlevín', 'BBenjamín', 'ABenjamín', 'BPrebenjamínPruebas', 'Veteranos', 'Pabellón', 'Virtual', 'EBAJuniorCadete', 'Historia', 'El', 'club', 'Transparencia', 'MadridOrganizaciónInformes', 'AnualesPublicacionesPatrocinadores', 'FútbolPalmarés', 'Leyendas', 'FútbolTrofeos', 'goleadoresEstadio', 'BernabéuPresidentesEntrenadoresHistoria', 'FútbolHistoria', 'BaloncestoLeyendas', 'Estadio', 'VirtualRestaurantesTiendasEventos', 'Ciudad', 'Visita', 'virtualInstalacionesConstrucciónEstadio', 'Alfredo', 'Di', 'StéfanoLa', 'Deportiva', 'Sobre', 'FundaciónNuestros', 'Patrimonio', 'HistóricoMecenas', 'de', 'FundaciónTransparenciaFormulario', 'Campus', 'Clinics', 'Escuela', 'Universitaria', 'ContactoOficina', 'Prensa', 'Socios', 'Atención', 'Socio', 'Oficina', 'SocioServicios', 'RepresentanteClub', 'Disciplina', 'SocialJunta', 'Electoral', 'Carné', 'SocioCódigo', 'PINTipos', 'TaquillasEstatutos', 'SocialesInformes', 'AnualesInsigniasDerechos', 'Abonados', 'Tarjeta', 'AbonadoTipos', 'AbonoTaquilla', 'Trámites', 'Datos', 'BancariaDuplicadosCuota', 'ReducidaBajasCesión', 'Ventajas', 'Descuentos', 'Compromisarios', 'Ganadores', 'concursos', 'Hala', 'Junior', 'Normas', 'Renovación', 'Deseo', 'RenovarNo', 'deseo', 'abono', 'abonoCambio', 'tipo', 'Afición', 'Peñas', 'Redes', 'Wallpapers', 'Publicaciones', 'Promociones', 'Zona', 'Infantil', 'RMTV', 'TV', 'directo', 'Cerrar', 'ag_pagetype', '\"Home\";', 'NoticiaEl', 'calendario', 'hasta', 'LigaVer', 'ha', 'dado', 'asistencias', 'seis', 'Remontada', 'Milán', 'puerta', 'cerradaVer', 'vídeo', 'Directo', 'Agenda', 'Filtrar', 'Todos', 'eventos', 'Primer', 'equipoFundacionReal', 'ENTRENAMIENTOCiudad', 'Puerta', 'Rueda', 'no.', 'ENTRENAMIENTO', 'mié,', '\"SportsEvent\",', '\"startDate\":', '\"endDate\":', '\"🏟️⚽️', 'ENTRENAMIENTO\",', '\"description\":', '\"Puerta', 'cerrada.\",', '\"image\":\"https://www.realmadrid.com/StaticFiles/RealMadridResponsive/images/header_logo_mobile.png\",', '\"homeTeam\":', '\"@type\":\"Thing\",', 'C.F\",', '\"image\":', '\"https://www.realmadrid.com/StaticFiles/RealMadridResponsive/images/header_logo_mobile.png\"', '},', '\"location\":', '\"Place\",', '\"Ciudad', 'Madrid\",', '\"@type\":\"PostalAddress\",', '\"streetAddress\":\"Madrid\"', '\"performer\":[', '\"@type\":\"Organization\",', '\"name\":\"Real', 'C.F\"', 'BetisVsReal', 'MadridBetisReal', 'MadridLa', 'Ligadom,', 'mar21:00HBenito', 'VillamarínPor:Movistar', 'TV)', '\"🏟⚽Betis', '\"La', 'Liga\",', '\"image\":\"https://www.realmadrid.com/StaticFiles/RealMadrid/directo/statics/competiciones/LigaSantander.png\",', '\"awayTeam\":', '\"https://www.realmadrid.com/StaticFiles/RealMadrid/directo/statics/primera/Rm_peq.png\"', '\"Betis\",', '\"https://www.realmadrid.com/StaticFiles/RealMadrid/directo/statics/primera/betis_peq.png\"', '\"Benito', 'Villamarín\",', '\"streetAddress\":\"Benito', 'Villamarín\"', '\"name\":\"Betis\"', 'Madrid\"', 'MadridVsÉibar', 'MadridÉibar', 'mar21:00HSantiago', 'BernabéuPor:Movistar', 'Éibar', '\",', '\"name\":\"Éibar', '\"https://www.realmadrid.com/StaticFiles/RealMadrid/directo/statics/primera/eibar_1718_peq.png', '\"Santiago', 'Bernabéu\",', '\"@type\":\"PostalAddress\",\"streetAddress\":\"Av.', 'Espina,1\",\"postalCode\":', '\"28036\",\"addressLocality\":', '\"Madrid\",\"addressRegion\":', '\"Madrid\",\"addressCountry\":', '{\"@type\":', '\"Country\",\"name\":', '\"Spain\"}', '\"offers\":{', '\"priceCurrency\":\"EUR\",', '\"availability\":\"yes\",', 'todo', 'NoticiasNoticiaVinicius', 'Jr.,', 'extranjero', 'más', 'joven', 'marcar', 'Clásico', 'LigaLogró', 'primer', 'con', 'años', 'días', 'superó', 'Messi,', 'lo', 'hizo', 'días.Ver', '\"https://schema.org\",', '\"NewsArticle\",', '\"headline\":', '\"Vinicius', '\"Logró', 'tanto', 'días.\",', '\"dateModified\":', '\"https://www.realmadrid.com\",', '\"sameAs\":', '\"https://twitter.com/realmadrid\",', '\"logo\":', '\"ImageObject\",', '\"mainEntityOfPage\":', '\"WebPage\",', '\"@id\":', '\"https://www.realmadrid.com\"', '\"https://www.realmadrid.com/img/horizontal_940px/_jm10220_20200301112631.jpg\"', '\"author\":', '\"speakable\":', '\"SpeakableSpecification\",', '\"cssSelector\":', '[\"speakable_title_1330677366745\",', '\"speakable_summary_1330677366745\"]', 'MadridEl', 'delantero', 'es', 'sexto', 'máximo', 'goleador', 'tantos.Ver', '\"El', 'tantos.\",', '\"https://www.realmadrid.com/img/horizontal_940px/_jm10324_h_20200302120203.jpg\"', '[\"speakable_title_1330676899087\",', '\"speakable_summary_1330676899087\"]', '}VideoIsco', 'comparte', 'su', 'hijo', 'sus', 'partidosVer', '\"Isco', 'partidos\",', '\"\",', '\"datePublished\":', '\"https://www.realmadrid.com/img/horizontal_940px/isco_web_20200302025722.jpg\"', '[\"speakable_title_1330677385261\",', '\"speakable_summary_1330677385261\"]', '\"video\":', '\"http://schema.org\",', '\"VideoObject\",', '\"Video:', 'Isco', '\"thumbnailUrl\":', '\"https://www.realmadrid.com/cs/Satellite?blobcol=urldata&blobheader=image%2Fjpeg&blobkey=id&blobtable=MungoBlobs&blobwhere=1203408936085&ssbinary=true\"', '\"uploadDate\":', '\"duration\":\"T00H00M43S\",', '\"contentUrl\":', '}VideoAsí', 'recibió', 'vestuario', 'Mariano', 'ClásicoVer', '\"Así', 'Clásico\",', '\"https://www.realmadrid.com/img/horizontal_940px/__av2863_hor_20200302025716.jpg\"', '[\"speakable_title_1330677387748\",', '\"speakable_summary_1330677387748\"]', 'Así', '\"https://www.realmadrid.com/cs/Satellite?blobcol=urldata&blobheader=image%2Fjpeg&blobkey=id&blobtable=MungoBlobs&blobwhere=1203408935994&ssbinary=true\"', '\"duration\":\"T00H00M48S\",', '}NoticiaEl', 'Corazón', 'Classic', 'Match', 'BernabéuLas', 'ver', 'partido', 'solidario', 'FC', 'Porto', 'Vintage', 'adquirirse', 'desde', 'euros.Ver', '\"Las', '\"https://www.realmadrid.com/img/horizontal_940px/ccm2020_facebook_820x360_20200128045126.jpg\"', '[\"speakable_title_1330668786993\",', '\"speakable_summary_1330668786993\"]', '}NoticiaLaso:', '“Pudimos', 'partido”“Es', 'sensación', 'diferente', 'porque', 'extraño', 'jugar', 'sin', 'público”,', 'explicó', 'Tavares.', '\"Laso:', 'partido”\",', '\"“Es', 'Tavares.\",', '\"https://www.realmadrid.com/img/horizontal_940px/_pca9756_20200303114037.jpg\"', '[\"speakable_title_1330677519981\",', '\"speakable_summary_1330677519981\"]', '}NoticiaRealmadrid.com,', 'cuarto', 'año', 'consecutivoEl', 'site', 'del', 'cerró', 'Comscore,', 'medidor', 'oficial', 'Internet.Ver', '\"Realmadrid.com,', 'consecutivo\",', 'Internet.\",', '\"2020-02-18', '\"publisher\":', '[\"speakable_title_1330672674421\",', '\"speakable_summary_1330672674421\"]', 'estadio', 'BernabéuVer', '[\"speakable_title_1330604990996\",', '\"speakable_summary_1330604990996\"]', '\"https://www.realmadrid.com/cs/Satellite?blobcol=urldata&blobheader=image%2Fjpeg&blobkey=id&blobtable=MungoBlobs&blobwhere=1203404368789&ssbinary=true\"', '\"duration\":\"T00H00M59S\",', '}NoticiaProgramación', 'TV:', '&apos;Atraco', 'Belfast&apos;,', 'hoy', 'blanco', 'emite', 'película', 'dirigida', 'por', 'Terry', 'George.Ver', '\"Programación', 'h\",', 'George.\",', '\"https://www.realmadrid.com/img/horizontal_940px/still_0_3_790x398_20191120102544.jpg\"', '[\"speakable_title_1330677502929\",', '\"speakable_summary_1330677502929\"]', '}VER', 'MÁS', 'NOTICIAS', 'VideosfutbolVer', 'Jugadores', 'EspecialesEspecial¡La', 'Decimotercera!EspecialEl', 'siglo', 'XXIEspecialAlfredo', 'Stéfano,', 'jugador', 'Supercopa', 'España!EspecialModric,', 'Balón', 'Oro', 'Copa', 'Rey!Especial¡La', 'Décima!EspecialEl', 'Mundial', 'ClubesEspecialModric,', 'Premio', 'Best', 'Duodécima!EspecialLa', 'Liga', 'Undécima!Especial¡La', 'Décima!', 'Siguiente', 'Anterior', 'PALMARÉS', 'REAL', 'MADRID', 'Trofeo', 'FIFA', 'Mejor', 'Club', 'Siglo', 'XX1', 'Copas', 'Europa13', 'Mundiales', 'Clubes7', 'Supercopas', 'Europa4', 'UEFA2', 'Ligas33', 'Rey19', 'España11', 'Liga1', 'Pequeñas', 'Mundo2', 'Latinas2', 'Campeonatos', 'Regionales18', 'Trofeos', 'Mancomunados5', 'Síguenos', 'Facebook', 'Instagram', 'Twitter', 'Youtube', 'Dugout', 'Snapchat', 'VER', 'TODOS', 'LOS', 'PATROCINADORES', 'Mapa', 'sitio', '<a', 'href=\"#\"', 'reservados', 'Aviso', 'Legal', 'Politica', 'Privacidad', 'Política', 'Cookies', 'Gestionar', 'Utilizamos', 'análisis', 'web', 'mejorar', 'Si', 'continúas', 'navegando,', 'consideramos', 'tld', \"window.location.hostname.split('.').pop();\", 'if(\"cn\"!=tld&&(\"undefined\"!=typeof', 'allcss=document.createElement(\"link\");allcss.type=\"text/css\",allcss.rel=\"stylesheet\",allcss.href=\"/StaticFiles/RealMadridResponsive/stylesheets/stylesheets.opta.css\",allcss.media=\"screen\",document.getElementsByTagName(\"head\")[0].appendChild(allcss);var', 'timezone:', '};', '/*', '_optaParams', 'custID:', 'language:', '<div', 'class=\"mfp_header\">', 'class=\"mfp_title\"></div>', '</div>', '<iframe', 'src=\"//about:blank\"', 'frameborder=\"0\"', 'allowfullscreen></iframe>', 'class=\"mfp-close\"></div>', 'class=\"mfp_actions\">', 'class=\"m_share', 'm_share_inline', '\">', '<ul', 'class=\"m_collapsable_content\">', '<li', 'class=\"m_share_facebook\"><a', 'href=\"\"', 'target=\"_blank\"><span>facebook</span></a></li>', 'class=\"m_share_twitter\"><a', 'target=\"_blank\"><span>twitter</span></a></li>', 'class=\"m_share_whatsapp\"><a', '</ul>', 'class=\"mfp_view_more\">Ver', 'vídeos</a>', 'class=\"mfp_title\">{{=title}}</div>', 'class=\"m_popup_player\">', 'm_share_inline\">', 'class=\"m_share_action\"', 'class=\"loader\"/>', 'class=\"mfp_title\">', '<span', 'class=\"av_informa_icons\">', '<img', 'src={{=title_icon}}', 'class=\"av_informa_icons_img\">', '</span>', '<h2>{{=title}}</h2>', 'id=\"av_mfp_popup\">', '{{=contenido}}', 'fotos</a>', 'id=\"m_popup_360\"></div>', '{{', 'for(var', 'i=0;', 'i<data.results.length;i++)', 'element=', 'data.results[i][device];', \"if(element.hasOwnProperty('iframe')\", '(element.iframe', '}}', 'class=\"m_ads_iframe\">{{=', 'element.iframe}}</div>', 'href=\"{{=element.href}}\"', 'src=\"{{=element.src}}\"', 'alt=\"{{=element.alt}}\">', '</a>', 'class=\"ab-head\">', '<h2></h2>', '<p></p>', 'class=\"btn', 'class=\"m_streaming_player\"></div>', 'hasVideo', 'document.querySelector(\".m_videojs_hd,', '.m_video_gallery,', '.m_videojs_stream,', '.m_videojs_logado,', '.youtube_video\");', '(typeof', 'script', \"document.createElement('script');\", \"script.type='text/javascript';\", 'script.src', 'document.body.appendChild(script);', 'function', 'createDeferElement(theNode)', 'newNode', 'document.createElement(theNode.tagName);', '(newNode.tagName', '//newNode.async', \"theNode.getAttribute('async')\", 'newNode.innerHTML', 'theNode.innerHTML;', 'newNode.type', \"theNode.getAttribute('type').replace('/defer',\", 'return', '/*Home*/', '/*!', 'Filament', 'Group,', 'Inc.', 'MIT', 'License', '*/', 'file', 'standalone', 'workflow', 'support', 'async', 'CSS', 'rel=preload', 'rel', 'preload', 'css', '(function(w)', '\"use', '//', 'test', '(!w.loadCSS)', 'w.loadCSS', 'function()', 'define', 'loadCSS', 'obj', 'rp', 'loadCSS.relpreload', 'feature', 'compat', 'ret;', 'try', 'ret', 'catch', '(e)', 'supported,', 'load', 'change', 'value', 'rp.bindMediaToggle', 'function(link)', 'state,', 'default', 'finalMedia', 'link.media', '\"all\";', 'enableStylesheet()', 'finalMedia;', 'bind', 'enableStylesheet);', '(link.attachEvent)', 'link.attachEvent(\"onload\",', 'Set', 'request', 'note:', 'timeout', 'IE', 'setTimeout(function()', 'link.rel', '\"stylesheet\";', 'onload', 'loop', 'link', 'DOM', 'check', '(rp.support())', 'return;', 'links.length;', 'i++)', 'qualify', 'attrs', '(link.rel', '===', '\"preload\"', '\"style\"', 'prevent', 'true);', 'unsupported,', 'run', 'polyfill', '(!rp.support())', 'rerun', 'poly', 'interval', 'w.addEventListener(\"load\",', 'rp.poly();', 'w.clearInterval(run);', 'commonjs', '!==', '\"undefined\")', 'loadCSS;', 'loadJS', 'function(src,', 'cb)', 'strict\";', 'ref', 'w.document.getElementsByTagName(\"script\")[0];', 'w.document.createElement(\"script\");', 'src;', 'script.async', 'ref.parentNode.insertBefore(script,', 'ref);', '(cb', 'typeof(cb)', '\"function\")', 'script.onload', 'cb;', 'script;', 'module', 'loadJS;', '}(typeof', '\"undefined\"', 'this));', 'dCSS()', 'cssobjs', 'document.querySelectorAll(\\'link[as=\"style\"]\\');', 'cssobjs.length;', 'cssobjs[i].rel', 'dTPJS()', 'objs', 'document.querySelectorAll(\\'script[type=\"text/javascript/defer\"]\\'),', 'inlineScript', 'null)', 'document.createElement(objs[i].tagName);', \"objs[i].getAttribute('type').replace('/defer',\", 'objs[i].parentNode.insertBefore(createDeferElement(objs[i]),', 'objs[i]);', 'objs[i].parentNode.removeChild(objs[i]);', '+=', 'objs[i].innerHTML;', 'inlineScript;', 'objs[objs.length', 'async(dIFR);', 'dIFR()', 'vidDefer', \"document.getElementsByTagName('iframe');\", \"vidDefer[i].setAttribute('src',\", 'dLJS()', 'loadJS(\"/StaticFiles/RealMadridResponsive/javascripts/lazysizes.min.js\",', '{});', 'loadJS(\"/StaticFiles/RealMadridResponsive/javascripts/all.fn_home.js\",', 'loadJS(\"/StaticFiles/RealMadridResponsive/javascripts/i18n.js\",', 'loadJS(\"/StaticFiles/RealMadridResponsive/javascripts/cookie_realmadrid.js\");', 'loadJS(\"/StaticFiles/RealMadridResponsive/javascripts/popups.js\");', 'loadJS(\"/StaticFiles/RealMadridResponsive/javascripts/search_results.js\");', 'loadJS(\"/StaticFiles/RealMadridResponsive/javascripts/calendar.js\");', 'loadJS(\"/StaticFiles/RealMadridResponsive/javascripts/gallery_modificado.js\");', 'loadJS(\"/StaticFiles/RealMadridResponsive/javascripts/cabecera_login_usuario.js\");', 'loadJS(\"/StaticFiles/RealMadridResponsive/javascripts/all.js\",', \"RM._execute_callbacks('load');\", '//async(dTPGPT);', 'defer()', 'dCSS(),', 'dLJS();', '(window.addEventListener)', 'window.addEventListener(\"load\",', 'defer,', 'false);', '(window.attachEvent)', 'window.attachEvent(\"onload\",', 'defer);', 'defer;', 'navegacion', 'idioma_ind', '\"castellano\";', 'false,', 'ninguna', 'true,', \"['Fútbol',\", \"'Baloncesto',\", \"exclusivas',\", 'removePopup', 'pop_p', \"document.getElementById('indiag');\", 'pop_p.outerHTML', 'createInDialog', 'get', 'tags.length', 'tags.forEach(function(tag)', '(tag.tag_id', '//Mostramos', 'popup', 'configurar', 'onIndigitallError);', 'createInDialogHTML', 'pop', \"document.createElement('div');\", 'pop.id', 'cabecera', 'pop_h', \"document.createElement('h3');\", 'pop_h.className', 'pop_h.innerHTML', '\"¡No', 'te', 'pierdas', 'Agrega', 'pop.appendChild(pop_h);', 'form', 'pop_f', \"document.createElement('form');\", 'pop_f.className', 'fieldset', 'pop_s', \"document.createElement('fieldset');\", 'pop_l', \"document.createElement('legend');\", 'pop_l.className', 'pop_l.innerHTML', '\"Selecciona', 'interesan:\";', 'span', 'pop_n', \"document.createElement('span');\", 'label', 'pop_a', \"document.createElement('label');\", 'pop_a.htmlFor', 'canal.charAt(0).toLowerCase();', 'pop_a.className', 'input', 'pop_i', \"document.createElement('input');\", 'pop_i.type', 'pop_i.id', 'if(canal.charAt(0).toLowerCase()', 'b;', 'm;', 'Evento', 'etv', 'e.target.value;', 'trg', \"Array.from(e.target.closest('fieldset').querySelectorAll('span\", '.notiflabel', '.checkbox', \"input'));\", '(etv', 'chk', 'trg.filter(function', '(obj)', 'obj.value', 'chk.forEach(function', '(el)', \"el.closest('span.checkbox').classList.remove('checked_checkbox');\", \"e.target.closest('span.checkbox').classList.add('checked_checkbox');\", 'chk.length', \"nin[0].closest('span.checkbox').classList.remove('checked_checkbox');\", 'pop_a.appendChild(pop_i);', 'Texto', 'pop_c', 'document.createTextNode(canal);', 'texto', 'pop_a.appendChild(pop_c);', 'pop_n.appendChild(pop_a);', 'pop_s.appendChild(pop_n);', 'pop_f.appendChild(pop_s);', 'btn', 'pop_b', \"document.createElement('button');\", 'pop_b.name', 'pop_b.className', 'pop_b.innerHTML', '\"Guardar\";', \"pop_b.addEventListener('click',\", 'function(e){', 'e.preventDefault();', 'subscribe(f,', 'b,', 'v,', 'm,', 'w);', \"pop_p.classList.remove('show');\", 'quito', 'pop_f.appendChild(pop_b);', 'pop.appendChild(pop_f);', 'nota', 'pop_t', \"document.createElement('p');\", 'pop_t.className', 'pop_t.innerHTML', '\"Si', 'algún', 'momento', 'deseas', 'cambiar', 'preferencias', 'pop.appendChild(pop_t);', 'docuemnto', 'document.body.appendChild(pop);', 'Custom', 'Depende', 'jQuery', 'Custom-form', 'select\");', 'inputs.custom_form();', 'Enseña', \"pop.classList.toggle('show');\", 'subscribe', 'function(f,', 'w)', '_subscribe', '(f)', \"_subscribe.push('futbol');\", '(b)', \"_subscribe.push('baloncesto');\", '(v)', \"_subscribe.push('promociones');\", '(m)', \"_subscribe.push('madridistas');\", '(n', '!(', '))', \"_subscribe.push('ninguna');\", '(w)', '_subscribe.push(', ');', '//Reset', '[\"futbol\",', '\"baloncesto\",', '\"promociones\",', '\"madridistas\",\"ninguna\",', 'idioma_ind];', 'navigator.indigitall.unsubscribe(tagIds,', 'function(){', '//Suscripción', '//LOG', '//console.log(\"Suscripción', '_subscribe);', 'idioma_temp', 'grupo', 'change_language', 'console.log(\"', 'tag', 'id', '---', 'tag.tag_id);', 'tag.tag_id;', '\"\"', 'suscribimos', 'subscribe_idioma(w);', 'si', 'viene', 'subscribe_idioma', 'function(w){', 'tag_idioma', '[idioma_temp];', 'quitamos', 'tag_idioma);', 'solo', 'hay', '_subscribe_idioma', '_subscribe_idioma.push(idioma_ind);', '_subscribe_idioma.length', '_subscribe_idioma);', \"document.addEventListener('indigitallReady',\", 'admin', 'event', 'not_adm', \"document.getElementById('notif_link');\", 'function(e)', 'Verificar', 'las', '(Notification.permission', '\"granted\"', \"!document.getElementById('indiag'))\", 'Creamos', 'tooltip', \"not_adm.classList.toggle('notif_enable');\", 'Para', 'gestionar', 'navegador', 'Crear', 'dialogo', \"(!document.getElementById('indiag'))\", 'createInDialog();', '//Carga', 'SDK', 'indigitall', 'prevPermission', 'Notification.permission;', '(prevPermission', 'Notification.permission', '\"granted\");', '//console.log(\"Nuevo', 'usuario', 'push:', 'tenemos', 'permisos', 'registramos', 'correspondiente', '//console.log(\"', '>>>', 'change_language();', \"console.error('Indigitall\", \"error:',\", 'arguments);', 'scriptIndigitall', 'scriptIndigitall.type', 'scriptIndigitall.async', 'scriptIndigitall.src', 'document.body.appendChild(scriptIndigitall);']\n"
     ]
    },
    {
     "data": {
      "image/png": "[encoded data removed]",
      "text/plain": [
       "<Figure size 1440x1152 with 1 Axes>"
      ]
     },
     "metadata": {
      "needs_background": "light"
     },
     "output_type": "display_data"
    },
    {
     "data": {
      "text/plain": [
       "<matplotlib.axes._subplots.AxesSubplot at 0x19378658108>"
      ]
     },
     "execution_count": 55,
     "metadata": {},
     "output_type": "execute_result"
    }
   ],
   "source": [
    "%matplotlib inline\n",
    "import urllib\n",
    "import re\n",
    "from bs4 import BeautifulSoup\n",
    "from nltk.corpus import stopwords\n",
    "import matplotlib.pyplot as plt\n",
    "plt.rcParams['figure.figsize']=(20,16)\n",
    "plt.rcParams['font.size']=15\n",
    "res=urllib.request.urlopen('http://realmadrid.com')\n",
    "html=res.read()\n",
    "tokens=re.split('\\W+',html.decode('utf-8'))\n",
    "clean=BeautifulSoup(html,'html.parser').get_text()\n",
    "tokens=[token for token in clean.split()]\n",
    "stop=set(stopwords.words('english')) #불용어\n",
    "#1글자 이상이고 불용어가 아닌 단어들\n",
    "clean_tokens=[token for token in tokens\n",
    "             if len(token.lower())>1 and (token.lower()\n",
    "                                         not in stop)]\n",
    "tagged=nltk.pos_tag(clean_tokens) #품사 태깅\n",
    "#보통명사, 고유명사만 추출\n",
    "allnoun=[word for word,pos in tagged if pos in ['NN','NNP']]\n",
    "freq_result=nltk.FreqDist(allnoun)\n",
    "print(list(freq_result))\n",
    "freq_result.plot(50,cumulative=False)"
   ]
  },
  {
   "cell_type": "code",
   "execution_count": null,
   "metadata": {},
   "outputs": [],
   "source": []
  },
  {
   "cell_type": "code",
   "execution_count": null,
   "metadata": {},
   "outputs": [],
   "source": []
  },
  {
   "cell_type": "code",
   "execution_count": null,
   "metadata": {},
   "outputs": [],
   "source": []
  },
  {
   "cell_type": "code",
   "execution_count": null,
   "metadata": {},
   "outputs": [],
   "source": []
  },
  {
   "cell_type": "code",
   "execution_count": null,
   "metadata": {},
   "outputs": [],
   "source": []
  },
  {
   "cell_type": "code",
   "execution_count": null,
   "metadata": {},
   "outputs": [],
   "source": []
  },
  {
   "cell_type": "code",
   "execution_count": null,
   "metadata": {},
   "outputs": [],
   "source": []
  },
  {
   "cell_type": "code",
   "execution_count": null,
   "metadata": {},
   "outputs": [],
   "source": []
  }
 ],
 "metadata": {
  "kernelspec": {
   "display_name": "Python 3",
   "language": "python",
   "name": "python3"
  },
  "language_info": {
   "codemirror_mode": {
    "name": "ipython",
    "version": 3
   },
   "file_extension": ".py",
   "mimetype": "text/x-python",
   "name": "python",
   "nbconvert_exporter": "python",
   "pygments_lexer": "ipython3",
   "version": "3.7.4"
  }
 },
 "nbformat": 4,
 "nbformat_minor": 2
}
