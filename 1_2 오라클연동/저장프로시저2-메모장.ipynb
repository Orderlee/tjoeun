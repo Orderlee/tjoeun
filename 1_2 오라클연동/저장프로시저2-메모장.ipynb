{
 "cells": [
  {
   "cell_type": "code",
   "execution_count": 11,
   "metadata": {},
   "outputs": [
    {
     "name": "stdout",
     "output_type": "stream",
     "text": [
      "처리되었습니다.\n"
     ]
    }
   ],
   "source": [
    "#메모 저장 프로시저 호출\n",
    "import cx_Oracle \n",
    "\n",
    "conn=cx_Oracle.connect('hr/hr@localhost:1521/xe')\n",
    "cursor=conn.cursor()\n",
    "\n",
    "writer='박철호'\n",
    "memo='하이'\n",
    "ip='192.168.0.101'\n",
    "#커서.callproc('프로시저이름',[전달할값])\n",
    "cursor.callproc('memo_insert',[writer,memo,ip])\n",
    "#레코드가 변경될 경우 커밋을 해야함\n",
    "conn.commit()\n",
    "print('처리되었습니다.')\n",
    "cursor.close()\n",
    "conn.close()"
   ]
  },
  {
   "cell_type": "code",
   "execution_count": 19,
   "metadata": {},
   "outputs": [
    {
     "name": "stdout",
     "output_type": "stream",
     "text": [
      "DESKTOP-L6S9JEG\n",
      "192.168.0.19\n"
     ]
    }
   ],
   "source": [
    "import socket\n",
    "print(socket.getfqdn()) #클라이언트 컴퓨터의 이름\n",
    "#socket.hethostbyname(컴퓨터이름) 컴퓨터의 ip주소\n",
    "print(socket.gethostbyname(socket.getfqdn()))"
   ]
  },
  {
   "cell_type": "code",
   "execution_count": 16,
   "metadata": {},
   "outputs": [
    {
     "name": "stdout",
     "output_type": "stream",
     "text": [
      "이름:이민석\n",
      "메모:울랄라\n",
      "처리되었습니다.\n"
     ]
    }
   ],
   "source": [
    "import cx_Oracle \n",
    "import socket\n",
    "\n",
    "conn=cx_Oracle.connect('hr/hr@localhost:1521/xe')\n",
    "cursor=conn.cursor()\n",
    "\n",
    "writer=input('이름:')\n",
    "memo=input('메모:')\n",
    "ip=socket.gethostbyname(socket.getfqdn())\n",
    "#커서.callproc('프로시저이름',[전달할값])\n",
    "cursor.callproc('memo_insert',[writer,memo,ip])\n",
    "#레코드가 변경될 경우 커밋을 해야함\n",
    "conn.commit()\n",
    "print('처리되었습니다.')\n",
    "cursor.close()\n",
    "conn.close()"
   ]
  },
  {
   "cell_type": "code",
   "execution_count": 17,
   "metadata": {},
   "outputs": [
    {
     "name": "stdout",
     "output_type": "stream",
     "text": [
      "번호\t이름\t메모\t날짜\t\t\tip\n",
      "=======================================================\n",
      "6\t이민석\t울랄라\t2019-11-26 15:55:50\t192.168.0.19\n",
      "5\t박철호\t하이\t2019-11-26 15:50:40\t192.168.0.101\n",
      "4\t김철수\t메모...\t2019-11-26 15:42:43\t192.168.0.10\n",
      "3\tsong\tmemo...\t2019-11-26 14:48:01\tNone\n",
      "2\tpark\tmemo...\t2019-11-26 14:48:00\tNone\n",
      "1\tkim\tmemo...\t2019-11-26 14:47:58\tNone\n"
     ]
    }
   ],
   "source": [
    "import cx_Oracle as ora #오라클 접속 모듈\n",
    "#오라클 서버에 접속 '아이디/비번@호스트:포트/sid'\n",
    "conn=ora.connect('hr/hr@localhost:1521/xe')\n",
    "cur=conn.cursor() #커서 생성\n",
    "sql='select * from memo order by idx desc'\n",
    "cur.execute(sql) #sql 명령어가 실행됨\n",
    "rows=cur.fetchall() #모든 레코드를 리스트로 저장\n",
    "print('번호\\t이름\\t메모\\t날짜\\t\\t\\tip')\n",
    "print('='*55)\n",
    "for row in rows:\n",
    "    print('{}\\t{}\\t{}\\t{}\\t{}'.format(row[0],row[1],row[2],row[3],row[4]))\n",
    "    \n",
    "#리소스 정리    \n",
    "cur.close()\n",
    "conn.close()"
   ]
  },
  {
   "cell_type": "code",
   "execution_count": 13,
   "metadata": {},
   "outputs": [
    {
     "name": "stdout",
     "output_type": "stream",
     "text": [
      "번호\t이름\t메모\t날짜\t\t\tip\n",
      "=======================================================\n",
      "3\tsong\tmemo...\t2019-11-26 14:48:01\tNone\n",
      "2\tpark\tmemo...\t2019-11-26 14:48:00\tNone\n",
      "1\tkim\tmemo...\t2019-11-26 14:47:58\tNone\n"
     ]
    }
   ],
   "source": [
    "import cx_Oracle as ora #오라클 접속 모듈\n",
    "#오라클 서버에 접속 '아이디/비번@호스트:포트/sid'\n",
    "conn=ora.connect('hr/hr@localhost:1521/xe')\n",
    "cur=conn.cursor() #커서 생성\n",
    "#출력매개변수의 자료형 선언\n",
    "resultset=cur.var(ora.CURSOR)\n",
    "#저장프로시저를 호출하고 레코드셋을 resultset에 전달\n",
    "cur.callproc('memo_list',[resultset])\n",
    "#커서(resultset)이 가리키는 내용을 한행씩 리스트로 저장\n",
    "rews=list(resultset.getvalue())\n",
    "\n",
    "print('번호\\t이름\\t메모\\t날짜\\t\\t\\tip')\n",
    "print('='*55)\n",
    "for row in rows:\n",
    "    print('{}\\t{}\\t{}\\t{}\\t{}'.format(row[0],row[1],row[2],row[3],row[4]))\n",
    "    \n",
    "#리소스 정리    \n",
    "cur.close()\n",
    "conn.close()"
   ]
  },
  {
   "cell_type": "code",
   "execution_count": 32,
   "metadata": {},
   "outputs": [
    {
     "name": "stdout",
     "output_type": "stream",
     "text": [
      "사번:7956\n",
      "이름:박민영\n",
      "급여:270\n",
      "처리되었습니다.\n"
     ]
    }
   ],
   "source": [
    "import cx_Oracle \n",
    "\n",
    "conn=cx_Oracle.connect('hr/hr@localhost:1521/xe')\n",
    "cursor=conn.cursor()\n",
    "\n",
    "\n",
    "empno=input('사번:')\n",
    "ename=input('이름:')\n",
    "sal=input('급여:')\n",
    "#커서.callproc('프로시저이름',[전달할값])\n",
    "cursor.callproc('emp_insert',[empno,ename,sal])\n",
    "#레코드가 변경될 경우 커밋을 해야함\n",
    "conn.commit()\n",
    "print('처리되었습니다.')\n",
    "cursor.close()\n",
    "conn.close()"
   ]
  },
  {
   "cell_type": "code",
   "execution_count": 33,
   "metadata": {},
   "outputs": [
    {
     "name": "stdout",
     "output_type": "stream",
     "text": [
      "사번\t이름\t급여\n",
      "7369\t김철수\t242.0\n",
      "7499\t이찬수\t260.0\n",
      "7521\t박종수\t325.0\n",
      "7566\t임채호\t497.0\n",
      "7654\t나대호\t325.0\n",
      "7698\t박지성\t485.0\n",
      "7782\t구자철\t445.0\n",
      "7788\t송기성\t550.0\n",
      "7839\t김철호\t800.0\n",
      "7844\t성명준\t350.0\n",
      "7876\t황인태\t210.0\n",
      "7900\t박민성\t295.0\n",
      "7902\t박진성\t600.0\n",
      "7934\t최철호\t230.0\n",
      "7131\t한지원\t300.0\n",
      "7956\t박민영\t270.0\n"
     ]
    }
   ],
   "source": [
    "import cx_Oracle as ora\n",
    "\n",
    "conn=ora.connect('hr/hr@localhost:1521/xe')\n",
    "cur=conn.cursor()\n",
    "sql='select empno,ename,sal from emp3'\n",
    "cur.execute(sql)\n",
    "rows=cur.fetchall()\n",
    "print('사번\\t이름\\t급여')\n",
    "for row in rows:\n",
    "    print('{}\\t{}\\t{}'.format(row[0],row[1],row[2]))\n",
    "    \n",
    "cur.close()\n",
    "conn.close()"
   ]
  },
  {
   "cell_type": "code",
   "execution_count": null,
   "metadata": {},
   "outputs": [],
   "source": [
    "import cx_Oracle as ora #오라클 접속 모듈\n",
    "#오라클 서버에 접속 '아이디/비번@호스트:포트/sid'\n",
    "conn=ora.connect('hr/hr@localhost:1521/xe')\n",
    "cur=conn.cursor() #커서 생성\n",
    "sql='select * from memo order by idx desc'\n",
    "cur.execute(sql) #sql 명령어가 실행됨\n",
    "rows=cur.fetchall() #모든 레코드를 리스트로 저장\n",
    "print('번호\\t이름\\t메모\\t날짜\\t\\t\\tip')\n",
    "print('='*55)\n",
    "for row in rows:\n",
    "    print('{}\\t{}\\t{}\\t{}\\t{}'.format(row[0],row[1],row[2],row[3],row[4]))\n",
    "    \n",
    "#리소스 정리    \n",
    "cur.close()\n",
    "conn.close()"
   ]
  }
 ],
 "metadata": {
  "kernelspec": {
   "display_name": "Python 3",
   "language": "python",
   "name": "python3"
  },
  "language_info": {
   "codemirror_mode": {
    "name": "ipython",
    "version": 3
   },
   "file_extension": ".py",
   "mimetype": "text/x-python",
   "name": "python",
   "nbconvert_exporter": "python",
   "pygments_lexer": "ipython3",
   "version": "3.7.4"
  }
 },
 "nbformat": 4,
 "nbformat_minor": 2
}
