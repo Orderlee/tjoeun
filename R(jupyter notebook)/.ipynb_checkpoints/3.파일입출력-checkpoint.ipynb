{
 "cells": [
  {
   "cell_type": "code",
   "execution_count": 1,
   "metadata": {},
   "outputs": [],
   "source": [
    "no <- c(1,2,3,4)\n",
    "name <- c('apple','banana','peach','berry')\n",
    "prices <- c(500,200,200,50)\n",
    "qty <- c(5,2,7,9)"
   ]
  },
  {
   "cell_type": "code",
   "execution_count": 2,
   "metadata": {},
   "outputs": [
    {
     "data": {
      "text/html": [
       "<table>\n",
       "<thead><tr><th scope=col>No</th><th scope=col>Name</th><th scope=col>Price</th><th scope=col>QTY</th></tr></thead>\n",
       "<tbody>\n",
       "\t<tr><td>1     </td><td>apple </td><td>500   </td><td>5     </td></tr>\n",
       "\t<tr><td>2     </td><td>banana</td><td>200   </td><td>2     </td></tr>\n",
       "\t<tr><td>3     </td><td>peach </td><td>200   </td><td>7     </td></tr>\n",
       "\t<tr><td>4     </td><td>berry </td><td> 50   </td><td>9     </td></tr>\n",
       "</tbody>\n",
       "</table>\n"
      ],
      "text/latex": [
       "\\begin{tabular}{r|llll}\n",
       " No & Name & Price & QTY\\\\\n",
       "\\hline\n",
       "\t 1      & apple  & 500    & 5     \\\\\n",
       "\t 2      & banana & 200    & 2     \\\\\n",
       "\t 3      & peach  & 200    & 7     \\\\\n",
       "\t 4      & berry  &  50    & 9     \\\\\n",
       "\\end{tabular}\n"
      ],
      "text/markdown": [
       "\n",
       "| No | Name | Price | QTY |\n",
       "|---|---|---|---|\n",
       "| 1      | apple  | 500    | 5      |\n",
       "| 2      | banana | 200    | 2      |\n",
       "| 3      | peach  | 200    | 7      |\n",
       "| 4      | berry  |  50    | 9      |\n",
       "\n"
      ],
      "text/plain": [
       "  No Name   Price QTY\n",
       "1 1  apple  500   5  \n",
       "2 2  banana 200   2  \n",
       "3 3  peach  200   7  \n",
       "4 4  berry   50   9  "
      ]
     },
     "metadata": {},
     "output_type": "display_data"
    }
   ],
   "source": [
    "#데이터프레임(2아원 표형식의 데이터)\n",
    "#data.frame(필드명=벡터)\n",
    "fruit <- data.frame(No=no, Name=name, Price=prices, QTY=qty)\n",
    "fruit"
   ]
  },
  {
   "cell_type": "code",
   "execution_count": 3,
   "metadata": {},
   "outputs": [
    {
     "data": {
      "text/html": [
       "<ol class=list-inline>\n",
       "\t<li>'fruit'</li>\n",
       "\t<li>'name'</li>\n",
       "\t<li>'no'</li>\n",
       "\t<li>'prices'</li>\n",
       "\t<li>'qty'</li>\n",
       "</ol>\n"
      ],
      "text/latex": [
       "\\begin{enumerate*}\n",
       "\\item 'fruit'\n",
       "\\item 'name'\n",
       "\\item 'no'\n",
       "\\item 'prices'\n",
       "\\item 'qty'\n",
       "\\end{enumerate*}\n"
      ],
      "text/markdown": [
       "1. 'fruit'\n",
       "2. 'name'\n",
       "3. 'no'\n",
       "4. 'prices'\n",
       "5. 'qty'\n",
       "\n",
       "\n"
      ],
      "text/plain": [
       "[1] \"fruit\"  \"name\"   \"no\"     \"prices\" \"qty\"   "
      ]
     },
     "metadata": {},
     "output_type": "display_data"
    }
   ],
   "source": [
    "ls() #현재 사용중인 변수 목록"
   ]
  },
  {
   "cell_type": "code",
   "execution_count": 4,
   "metadata": {},
   "outputs": [],
   "source": [
    "#파일로 저장 , 바이너리 파일\n",
    "save(no,name,fruit,file='d:/data/R/test.dat')"
   ]
  },
  {
   "cell_type": "code",
   "execution_count": 5,
   "metadata": {},
   "outputs": [
    {
     "data": {
      "text/html": [
       "<ol class=list-inline>\n",
       "\t<li>'prices'</li>\n",
       "\t<li>'qty'</li>\n",
       "</ol>\n"
      ],
      "text/latex": [
       "\\begin{enumerate*}\n",
       "\\item 'prices'\n",
       "\\item 'qty'\n",
       "\\end{enumerate*}\n"
      ],
      "text/markdown": [
       "1. 'prices'\n",
       "2. 'qty'\n",
       "\n",
       "\n"
      ],
      "text/plain": [
       "[1] \"prices\" \"qty\"   "
      ]
     },
     "metadata": {},
     "output_type": "display_data"
    },
    {
     "ename": "ERROR",
     "evalue": "Error in eval(expr, envir, enclos): 객체 'no'를 찾을 수 없습니다\n",
     "output_type": "error",
     "traceback": [
      "Error in eval(expr, envir, enclos): 객체 'no'를 찾을 수 없습니다\nTraceback:\n"
     ]
    }
   ],
   "source": [
    "rm(fruit,no,name) #변수 삭제\n",
    "ls() #변수목록\n",
    "no #에러발생\n",
    "name\n",
    "fruit"
   ]
  },
  {
   "cell_type": "code",
   "execution_count": 6,
   "metadata": {},
   "outputs": [
    {
     "data": {
      "text/html": [
       "<ol class=list-inline>\n",
       "\t<li>'fruit'</li>\n",
       "\t<li>'name'</li>\n",
       "\t<li>'no'</li>\n",
       "\t<li>'prices'</li>\n",
       "\t<li>'qty'</li>\n",
       "</ol>\n"
      ],
      "text/latex": [
       "\\begin{enumerate*}\n",
       "\\item 'fruit'\n",
       "\\item 'name'\n",
       "\\item 'no'\n",
       "\\item 'prices'\n",
       "\\item 'qty'\n",
       "\\end{enumerate*}\n"
      ],
      "text/markdown": [
       "1. 'fruit'\n",
       "2. 'name'\n",
       "3. 'no'\n",
       "4. 'prices'\n",
       "5. 'qty'\n",
       "\n",
       "\n"
      ],
      "text/plain": [
       "[1] \"fruit\"  \"name\"   \"no\"     \"prices\" \"qty\"   "
      ]
     },
     "metadata": {},
     "output_type": "display_data"
    },
    {
     "data": {
      "text/html": [
       "<ol class=list-inline>\n",
       "\t<li>1</li>\n",
       "\t<li>2</li>\n",
       "\t<li>3</li>\n",
       "\t<li>4</li>\n",
       "</ol>\n"
      ],
      "text/latex": [
       "\\begin{enumerate*}\n",
       "\\item 1\n",
       "\\item 2\n",
       "\\item 3\n",
       "\\item 4\n",
       "\\end{enumerate*}\n"
      ],
      "text/markdown": [
       "1. 1\n",
       "2. 2\n",
       "3. 3\n",
       "4. 4\n",
       "\n",
       "\n"
      ],
      "text/plain": [
       "[1] 1 2 3 4"
      ]
     },
     "metadata": {},
     "output_type": "display_data"
    },
    {
     "data": {
      "text/html": [
       "<ol class=list-inline>\n",
       "\t<li>'apple'</li>\n",
       "\t<li>'banana'</li>\n",
       "\t<li>'peach'</li>\n",
       "\t<li>'berry'</li>\n",
       "</ol>\n"
      ],
      "text/latex": [
       "\\begin{enumerate*}\n",
       "\\item 'apple'\n",
       "\\item 'banana'\n",
       "\\item 'peach'\n",
       "\\item 'berry'\n",
       "\\end{enumerate*}\n"
      ],
      "text/markdown": [
       "1. 'apple'\n",
       "2. 'banana'\n",
       "3. 'peach'\n",
       "4. 'berry'\n",
       "\n",
       "\n"
      ],
      "text/plain": [
       "[1] \"apple\"  \"banana\" \"peach\"  \"berry\" "
      ]
     },
     "metadata": {},
     "output_type": "display_data"
    },
    {
     "data": {
      "text/html": [
       "<table>\n",
       "<thead><tr><th scope=col>No</th><th scope=col>Name</th><th scope=col>Price</th><th scope=col>QTY</th></tr></thead>\n",
       "<tbody>\n",
       "\t<tr><td>1     </td><td>apple </td><td>500   </td><td>5     </td></tr>\n",
       "\t<tr><td>2     </td><td>banana</td><td>200   </td><td>2     </td></tr>\n",
       "\t<tr><td>3     </td><td>peach </td><td>200   </td><td>7     </td></tr>\n",
       "\t<tr><td>4     </td><td>berry </td><td> 50   </td><td>9     </td></tr>\n",
       "</tbody>\n",
       "</table>\n"
      ],
      "text/latex": [
       "\\begin{tabular}{r|llll}\n",
       " No & Name & Price & QTY\\\\\n",
       "\\hline\n",
       "\t 1      & apple  & 500    & 5     \\\\\n",
       "\t 2      & banana & 200    & 2     \\\\\n",
       "\t 3      & peach  & 200    & 7     \\\\\n",
       "\t 4      & berry  &  50    & 9     \\\\\n",
       "\\end{tabular}\n"
      ],
      "text/markdown": [
       "\n",
       "| No | Name | Price | QTY |\n",
       "|---|---|---|---|\n",
       "| 1      | apple  | 500    | 5      |\n",
       "| 2      | banana | 200    | 2      |\n",
       "| 3      | peach  | 200    | 7      |\n",
       "| 4      | berry  |  50    | 9      |\n",
       "\n"
      ],
      "text/plain": [
       "  No Name   Price QTY\n",
       "1 1  apple  500   5  \n",
       "2 2  banana 200   2  \n",
       "3 3  peach  200   7  \n",
       "4 4  berry   50   9  "
      ]
     },
     "metadata": {},
     "output_type": "display_data"
    }
   ],
   "source": [
    "load('d:/data/R/test.dat')\n",
    "ls() #변수 목록\n",
    "no\n",
    "name\n",
    "fruit"
   ]
  },
  {
   "cell_type": "code",
   "execution_count": 7,
   "metadata": {},
   "outputs": [
    {
     "data": {
      "text/html": [
       "<table>\n",
       "<thead><tr><th scope=col>id</th><th scope=col>name</th><th scope=col>score</th></tr></thead>\n",
       "<tbody>\n",
       "\t<tr><td>1     </td><td>김철수</td><td>80    </td></tr>\n",
       "\t<tr><td>2     </td><td>박철호</td><td>90    </td></tr>\n",
       "\t<tr><td>3     </td><td>송기성</td><td>50    </td></tr>\n",
       "</tbody>\n",
       "</table>\n"
      ],
      "text/latex": [
       "\\begin{tabular}{r|lll}\n",
       " id & name & score\\\\\n",
       "\\hline\n",
       "\t 1      & 김철수 & 80    \\\\\n",
       "\t 2      & 박철호 & 90    \\\\\n",
       "\t 3      & 송기성 & 50    \\\\\n",
       "\\end{tabular}\n"
      ],
      "text/markdown": [
       "\n",
       "| id | name | score |\n",
       "|---|---|---|\n",
       "| 1      | 김철수 | 80     |\n",
       "| 2      | 박철호 | 90     |\n",
       "| 3      | 송기성 | 50     |\n",
       "\n"
      ],
      "text/plain": [
       "  id name   score\n",
       "1 1  김철수 80   \n",
       "2 2  박철호 90   \n",
       "3 3  송기성 50   "
      ]
     },
     "metadata": {},
     "output_type": "display_data"
    }
   ],
   "source": [
    "#csv파일 읽기\n",
    "x <- read.csv('d:/data/R/a.csv')\n",
    "x\n"
   ]
  },
  {
   "cell_type": "code",
   "execution_count": 8,
   "metadata": {},
   "outputs": [
    {
     "name": "stdout",
     "output_type": "stream",
     "text": [
      "'data.frame':\t3 obs. of  3 variables:\n",
      " $ id   : int  1 2 3\n",
      " $ name : Factor w/ 3 levels \"김철수\",\"박철호\",..: 1 2 3\n",
      " $ score: int  80 90 50\n"
     ]
    }
   ],
   "source": [
    "str(x) #데이터의 구조 확인"
   ]
  },
  {
   "cell_type": "code",
   "execution_count": 9,
   "metadata": {},
   "outputs": [
    {
     "data": {
      "text/html": [
       "<table>\n",
       "<thead><tr><th scope=col>V1</th><th scope=col>V2</th><th scope=col>V3</th></tr></thead>\n",
       "<tbody>\n",
       "\t<tr><td>id    </td><td>name  </td><td>score </td></tr>\n",
       "\t<tr><td>1     </td><td>김철수</td><td>80    </td></tr>\n",
       "\t<tr><td>2     </td><td>박철호</td><td>90    </td></tr>\n",
       "\t<tr><td>3     </td><td>송기성</td><td>50    </td></tr>\n",
       "</tbody>\n",
       "</table>\n"
      ],
      "text/latex": [
       "\\begin{tabular}{r|lll}\n",
       " V1 & V2 & V3\\\\\n",
       "\\hline\n",
       "\t id     & name   & score \\\\\n",
       "\t 1      & 김철수 & 80    \\\\\n",
       "\t 2      & 박철호 & 90    \\\\\n",
       "\t 3      & 송기성 & 50    \\\\\n",
       "\\end{tabular}\n"
      ],
      "text/markdown": [
       "\n",
       "| V1 | V2 | V3 |\n",
       "|---|---|---|\n",
       "| id     | name   | score  |\n",
       "| 1      | 김철수 | 80     |\n",
       "| 2      | 박철호 | 90     |\n",
       "| 3      | 송기성 | 50     |\n",
       "\n"
      ],
      "text/plain": [
       "  V1 V2     V3   \n",
       "1 id name   score\n",
       "2 1  김철수 80   \n",
       "3 2  박철호 90   \n",
       "4 3  송기성 50   "
      ]
     },
     "metadata": {},
     "output_type": "display_data"
    },
    {
     "data": {
      "text/html": [
       "<table>\n",
       "<thead><tr><th scope=col>id</th><th scope=col>name</th><th scope=col>score</th></tr></thead>\n",
       "<tbody>\n",
       "\t<tr><td>id    </td><td>name  </td><td>score </td></tr>\n",
       "\t<tr><td>1     </td><td>김철수</td><td>80    </td></tr>\n",
       "\t<tr><td>2     </td><td>박철호</td><td>90    </td></tr>\n",
       "\t<tr><td>3     </td><td>송기성</td><td>50    </td></tr>\n",
       "</tbody>\n",
       "</table>\n"
      ],
      "text/latex": [
       "\\begin{tabular}{r|lll}\n",
       " id & name & score\\\\\n",
       "\\hline\n",
       "\t id     & name   & score \\\\\n",
       "\t 1      & 김철수 & 80    \\\\\n",
       "\t 2      & 박철호 & 90    \\\\\n",
       "\t 3      & 송기성 & 50    \\\\\n",
       "\\end{tabular}\n"
      ],
      "text/markdown": [
       "\n",
       "| id | name | score |\n",
       "|---|---|---|\n",
       "| id     | name   | score  |\n",
       "| 1      | 김철수 | 80     |\n",
       "| 2      | 박철호 | 90     |\n",
       "| 3      | 송기성 | 50     |\n",
       "\n"
      ],
      "text/plain": [
       "  id name   score\n",
       "1 id name   score\n",
       "2 1  김철수 80   \n",
       "3 2  박철호 90   \n",
       "4 3  송기성 50   "
      ]
     },
     "metadata": {},
     "output_type": "display_data"
    }
   ],
   "source": [
    "xx <-read.csv('d:/data/R/a.csv',header=F)\n",
    "xx\n",
    "names(xx)<-c('id','name','score')\n",
    "xx"
   ]
  },
  {
   "cell_type": "code",
   "execution_count": 12,
   "metadata": {},
   "outputs": [
    {
     "data": {
      "text/html": [
       "<table>\n",
       "<thead><tr><th scope=col>V1</th><th scope=col>V2</th><th scope=col>V3</th></tr></thead>\n",
       "<tbody>\n",
       "\t<tr><td>1     </td><td>김철수</td><td>80    </td></tr>\n",
       "\t<tr><td>2     </td><td>박철호</td><td>90    </td></tr>\n",
       "\t<tr><td>3     </td><td>송기성</td><td>50    </td></tr>\n",
       "</tbody>\n",
       "</table>\n"
      ],
      "text/latex": [
       "\\begin{tabular}{r|lll}\n",
       " V1 & V2 & V3\\\\\n",
       "\\hline\n",
       "\t 1      & 김철수 & 80    \\\\\n",
       "\t 2      & 박철호 & 90    \\\\\n",
       "\t 3      & 송기성 & 50    \\\\\n",
       "\\end{tabular}\n"
      ],
      "text/markdown": [
       "\n",
       "| V1 | V2 | V3 |\n",
       "|---|---|---|\n",
       "| 1      | 김철수 | 80     |\n",
       "| 2      | 박철호 | 90     |\n",
       "| 3      | 송기성 | 50     |\n",
       "\n"
      ],
      "text/plain": [
       "  V1 V2     V3\n",
       "1 1  김철수 80\n",
       "2 2  박철호 90\n",
       "3 3  송기성 50"
      ]
     },
     "metadata": {},
     "output_type": "display_data"
    },
    {
     "data": {
      "text/html": [
       "<table>\n",
       "<thead><tr><th scope=col>id</th><th scope=col>name</th><th scope=col>score</th></tr></thead>\n",
       "<tbody>\n",
       "\t<tr><td>1     </td><td>김철수</td><td>80    </td></tr>\n",
       "\t<tr><td>2     </td><td>박철호</td><td>90    </td></tr>\n",
       "\t<tr><td>3     </td><td>송기성</td><td>50    </td></tr>\n",
       "</tbody>\n",
       "</table>\n"
      ],
      "text/latex": [
       "\\begin{tabular}{r|lll}\n",
       " id & name & score\\\\\n",
       "\\hline\n",
       "\t 1      & 김철수 & 80    \\\\\n",
       "\t 2      & 박철호 & 90    \\\\\n",
       "\t 3      & 송기성 & 50    \\\\\n",
       "\\end{tabular}\n"
      ],
      "text/markdown": [
       "\n",
       "| id | name | score |\n",
       "|---|---|---|\n",
       "| 1      | 김철수 | 80     |\n",
       "| 2      | 박철호 | 90     |\n",
       "| 3      | 송기성 | 50     |\n",
       "\n"
      ],
      "text/plain": [
       "  id name   score\n",
       "1 1  김철수 80   \n",
       "2 2  박철호 90   \n",
       "3 3  송기성 50   "
      ]
     },
     "metadata": {},
     "output_type": "display_data"
    }
   ],
   "source": [
    "xx <-read.csv('d:/data/R/b.csv',header=F)\n",
    "xx\n",
    "names(xx)<-c('id','name','score')\n",
    "xx"
   ]
  },
  {
   "cell_type": "code",
   "execution_count": 13,
   "metadata": {},
   "outputs": [
    {
     "data": {
      "text/html": [
       "<table>\n",
       "<thead><tr><th scope=col>No</th><th scope=col>Name</th><th scope=col>Price</th><th scope=col>QTY</th></tr></thead>\n",
       "<tbody>\n",
       "\t<tr><td>1     </td><td>Apple </td><td>500   </td><td>5     </td></tr>\n",
       "\t<tr><td>2     </td><td>Banana</td><td>200   </td><td>2     </td></tr>\n",
       "\t<tr><td>3     </td><td>Peach </td><td>200   </td><td>7     </td></tr>\n",
       "\t<tr><td>4     </td><td>Berry </td><td> 50   </td><td>9     </td></tr>\n",
       "</tbody>\n",
       "</table>\n"
      ],
      "text/latex": [
       "\\begin{tabular}{r|llll}\n",
       " No & Name & Price & QTY\\\\\n",
       "\\hline\n",
       "\t 1      & Apple  & 500    & 5     \\\\\n",
       "\t 2      & Banana & 200    & 2     \\\\\n",
       "\t 3      & Peach  & 200    & 7     \\\\\n",
       "\t 4      & Berry  &  50    & 9     \\\\\n",
       "\\end{tabular}\n"
      ],
      "text/markdown": [
       "\n",
       "| No | Name | Price | QTY |\n",
       "|---|---|---|---|\n",
       "| 1      | Apple  | 500    | 5      |\n",
       "| 2      | Banana | 200    | 2      |\n",
       "| 3      | Peach  | 200    | 7      |\n",
       "| 4      | Berry  |  50    | 9      |\n",
       "\n"
      ],
      "text/plain": [
       "  No Name   Price QTY\n",
       "1 1  Apple  500   5  \n",
       "2 2  Banana 200   2  \n",
       "3 3  Peach  200   7  \n",
       "4 4  Berry   50   9  "
      ]
     },
     "metadata": {},
     "output_type": "display_data"
    }
   ],
   "source": [
    "no<-c(1,2,3,4)\n",
    "name<-c('Apple','Banana','Peach','Berry')\n",
    "prices<-c(500,200,200,50)\n",
    "qty<-c(5,2,7,9)\n",
    "fruit<-data.frame(No=no,Name=name,Price=prices,QTY=qty)\n",
    "fruit"
   ]
  },
  {
   "cell_type": "code",
   "execution_count": 15,
   "metadata": {},
   "outputs": [],
   "source": [
    "write.csv(fruit, file='d:/data/R/fruit.csv')"
   ]
  },
  {
   "cell_type": "code",
   "execution_count": 2,
   "metadata": {},
   "outputs": [
    {
     "data": {
      "text/html": [
       "<ol class=list-inline>\n",
       "\t<li>'no'</li>\n",
       "\t<li>'name'</li>\n",
       "\t<li>'birth'</li>\n",
       "\t<li>'11'</li>\n",
       "\t<li>'조광수'</li>\n",
       "\t<li>'1980'</li>\n",
       "\t<li>'22'</li>\n",
       "\t<li>'김철수'</li>\n",
       "\t<li>'1990'</li>\n",
       "\t<li>'33'</li>\n",
       "\t<li>'나상호'</li>\n",
       "\t<li>'2000'</li>\n",
       "</ol>\n"
      ],
      "text/latex": [
       "\\begin{enumerate*}\n",
       "\\item 'no'\n",
       "\\item 'name'\n",
       "\\item 'birth'\n",
       "\\item '11'\n",
       "\\item '조광수'\n",
       "\\item '1980'\n",
       "\\item '22'\n",
       "\\item '김철수'\n",
       "\\item '1990'\n",
       "\\item '33'\n",
       "\\item '나상호'\n",
       "\\item '2000'\n",
       "\\end{enumerate*}\n"
      ],
      "text/markdown": [
       "1. 'no'\n",
       "2. 'name'\n",
       "3. 'birth'\n",
       "4. '11'\n",
       "5. '조광수'\n",
       "6. '1980'\n",
       "7. '22'\n",
       "8. '김철수'\n",
       "9. '1990'\n",
       "10. '33'\n",
       "11. '나상호'\n",
       "12. '2000'\n",
       "\n",
       "\n"
      ],
      "text/plain": [
       " [1] \"no\"     \"name\"   \"birth\"  \"11\"     \"조광수\" \"1980\"   \"22\"     \"김철수\"\n",
       " [9] \"1990\"   \"33\"     \"나상호\" \"2000\"  "
      ]
     },
     "metadata": {},
     "output_type": "display_data"
    },
    {
     "data": {
      "text/html": [
       "'11'"
      ],
      "text/latex": [
       "'11'"
      ],
      "text/markdown": [
       "'11'"
      ],
      "text/plain": [
       "[1] \"11\""
      ]
     },
     "metadata": {},
     "output_type": "display_data"
    },
    {
     "name": "stdout",
     "output_type": "stream",
     "text": [
      " chr [1:12] \"no\" \"name\" \"birth\" \"11\" \"조광수\" \"1980\" \"22\" \"김철수\" \"1990\" ...\n"
     ]
    },
    {
     "data": {
      "text/html": [
       "<table>\n",
       "<thead><tr><th scope=col>no</th><th scope=col>name</th><th scope=col>birth</th></tr></thead>\n",
       "<tbody>\n",
       "\t<tr><td>11    </td><td>조광수</td><td>1980  </td></tr>\n",
       "\t<tr><td>22    </td><td>김철수</td><td>1990  </td></tr>\n",
       "\t<tr><td>33    </td><td>나상호</td><td>2000  </td></tr>\n",
       "</tbody>\n",
       "</table>\n"
      ],
      "text/latex": [
       "\\begin{tabular}{r|lll}\n",
       " no & name & birth\\\\\n",
       "\\hline\n",
       "\t 11     & 조광수 & 1980  \\\\\n",
       "\t 22     & 김철수 & 1990  \\\\\n",
       "\t 33     & 나상호 & 2000  \\\\\n",
       "\\end{tabular}\n"
      ],
      "text/markdown": [
       "\n",
       "| no | name | birth |\n",
       "|---|---|---|\n",
       "| 11     | 조광수 | 1980   |\n",
       "| 22     | 김철수 | 1990   |\n",
       "| 33     | 나상호 | 2000   |\n",
       "\n"
      ],
      "text/plain": [
       "  no name   birth\n",
       "1 11 조광수 1980 \n",
       "2 22 김철수 1990 \n",
       "3 33 나상호 2000 "
      ]
     },
     "metadata": {},
     "output_type": "display_data"
    }
   ],
   "source": [
    "#텍스트 파일 불러오기\n",
    "#what 다양한 자료형\n",
    "a <- scan('d:/data/R/test.txt',what='',fileEncoding='utf-8')\n",
    "a\n",
    "a[4]\n",
    "str(a)\n",
    "# 텍스트 파일을 읽어서 표 형식으로 변환, header=T 헤더 표시\n",
    "# sep 필드 구분자, 파일인코딩형식이 utf-8인 경우 fileEncoding 추가\n",
    "c<-read.table('d:/data/R/test.txt',header=T, sep=' ',fileEncoding='utf-8')\n",
    "c"
   ]
  },
  {
   "cell_type": "code",
   "execution_count": null,
   "metadata": {},
   "outputs": [],
   "source": []
  },
  {
   "cell_type": "code",
   "execution_count": null,
   "metadata": {},
   "outputs": [],
   "source": []
  }
 ],
 "metadata": {
  "kernelspec": {
   "display_name": "R",
   "language": "R",
   "name": "ir"
  },
  "language_info": {
   "codemirror_mode": "r",
   "file_extension": ".r",
   "mimetype": "text/x-r-source",
   "name": "R",
   "pygments_lexer": "r",
   "version": "3.6.1"
  }
 },
 "nbformat": 4,
 "nbformat_minor": 2
}
