{
 "cells": [
  {
   "cell_type": "code",
   "execution_count": 1,
   "metadata": {},
   "outputs": [
    {
     "data": {
      "text/html": [
       "<table>\n",
       "<thead><tr><th scope=col>Sepal.Length</th><th scope=col>Sepal.Width</th><th scope=col>Petal.Length</th><th scope=col>Petal.Width</th><th scope=col>Species</th></tr></thead>\n",
       "<tbody>\n",
       "\t<tr><td>5.1   </td><td>3.5   </td><td>1.4   </td><td>0.2   </td><td>setosa</td></tr>\n",
       "\t<tr><td>4.9   </td><td>3.0   </td><td>1.4   </td><td>0.2   </td><td>setosa</td></tr>\n",
       "\t<tr><td>4.7   </td><td>3.2   </td><td>1.3   </td><td>0.2   </td><td>setosa</td></tr>\n",
       "\t<tr><td>4.6   </td><td>3.1   </td><td>1.5   </td><td>0.2   </td><td>setosa</td></tr>\n",
       "\t<tr><td>5.0   </td><td>3.6   </td><td>1.4   </td><td>0.2   </td><td>setosa</td></tr>\n",
       "\t<tr><td>5.4   </td><td>3.9   </td><td>1.7   </td><td>0.4   </td><td>setosa</td></tr>\n",
       "</tbody>\n",
       "</table>\n"
      ],
      "text/latex": [
       "\\begin{tabular}{r|lllll}\n",
       " Sepal.Length & Sepal.Width & Petal.Length & Petal.Width & Species\\\\\n",
       "\\hline\n",
       "\t 5.1    & 3.5    & 1.4    & 0.2    & setosa\\\\\n",
       "\t 4.9    & 3.0    & 1.4    & 0.2    & setosa\\\\\n",
       "\t 4.7    & 3.2    & 1.3    & 0.2    & setosa\\\\\n",
       "\t 4.6    & 3.1    & 1.5    & 0.2    & setosa\\\\\n",
       "\t 5.0    & 3.6    & 1.4    & 0.2    & setosa\\\\\n",
       "\t 5.4    & 3.9    & 1.7    & 0.4    & setosa\\\\\n",
       "\\end{tabular}\n"
      ],
      "text/markdown": [
       "\n",
       "| Sepal.Length | Sepal.Width | Petal.Length | Petal.Width | Species |\n",
       "|---|---|---|---|---|\n",
       "| 5.1    | 3.5    | 1.4    | 0.2    | setosa |\n",
       "| 4.9    | 3.0    | 1.4    | 0.2    | setosa |\n",
       "| 4.7    | 3.2    | 1.3    | 0.2    | setosa |\n",
       "| 4.6    | 3.1    | 1.5    | 0.2    | setosa |\n",
       "| 5.0    | 3.6    | 1.4    | 0.2    | setosa |\n",
       "| 5.4    | 3.9    | 1.7    | 0.4    | setosa |\n",
       "\n"
      ],
      "text/plain": [
       "  Sepal.Length Sepal.Width Petal.Length Petal.Width Species\n",
       "1 5.1          3.5         1.4          0.2         setosa \n",
       "2 4.9          3.0         1.4          0.2         setosa \n",
       "3 4.7          3.2         1.3          0.2         setosa \n",
       "4 4.6          3.1         1.5          0.2         setosa \n",
       "5 5.0          3.6         1.4          0.2         setosa \n",
       "6 5.4          3.9         1.7          0.4         setosa "
      ]
     },
     "metadata": {},
     "output_type": "display_data"
    }
   ],
   "source": [
    "library(help=datasets)\n",
    "head(iris) #처음 6행"
   ]
  },
  {
   "cell_type": "code",
   "execution_count": 2,
   "metadata": {},
   "outputs": [
    {
     "name": "stdout",
     "output_type": "stream",
     "text": [
      "'data.frame':\t150 obs. of  5 variables:\n",
      " $ Sepal.Length: num  5.1 4.9 4.7 4.6 5 5.4 4.6 5 4.4 4.9 ...\n",
      " $ Sepal.Width : num  3.5 3 3.2 3.1 3.6 3.9 3.4 3.4 2.9 3.1 ...\n",
      " $ Petal.Length: num  1.4 1.4 1.3 1.5 1.4 1.7 1.4 1.5 1.4 1.5 ...\n",
      " $ Petal.Width : num  0.2 0.2 0.2 0.2 0.2 0.4 0.3 0.2 0.2 0.1 ...\n",
      " $ Species     : Factor w/ 3 levels \"setosa\",\"versicolor\",..: 1 1 1 1 1 1 1 1 1 1 ...\n"
     ]
    }
   ],
   "source": [
    "str(iris) #데이터셋의 특성"
   ]
  },
  {
   "cell_type": "code",
   "execution_count": null,
   "metadata": {},
   "outputs": [],
   "source": [
    "#iris[,1:4] # [행의범위, 열의범위]"
   ]
  },
  {
   "cell_type": "code",
   "execution_count": 1,
   "metadata": {},
   "outputs": [
    {
     "data": {
      "text/html": [
       "<dl class=dl-horizontal>\n",
       "\t<dt>Sepal.Length</dt>\n",
       "\t\t<dd>876.5</dd>\n",
       "\t<dt>Sepal.Width</dt>\n",
       "\t\t<dd>458.6</dd>\n",
       "\t<dt>Petal.Length</dt>\n",
       "\t\t<dd>563.7</dd>\n",
       "\t<dt>Petal.Width</dt>\n",
       "\t\t<dd>179.9</dd>\n",
       "</dl>\n"
      ],
      "text/latex": [
       "\\begin{description*}\n",
       "\\item[Sepal.Length] 876.5\n",
       "\\item[Sepal.Width] 458.6\n",
       "\\item[Petal.Length] 563.7\n",
       "\\item[Petal.Width] 179.9\n",
       "\\end{description*}\n"
      ],
      "text/markdown": [
       "Sepal.Length\n",
       ":   876.5Sepal.Width\n",
       ":   458.6Petal.Length\n",
       ":   563.7Petal.Width\n",
       ":   179.9\n",
       "\n"
      ],
      "text/plain": [
       "Sepal.Length  Sepal.Width Petal.Length  Petal.Width \n",
       "       876.5        458.6        563.7        179.9 "
      ]
     },
     "metadata": {},
     "output_type": "display_data"
    },
    {
     "data": {
      "text/html": [
       "<ol class=list-inline>\n",
       "\t<li>10.2</li>\n",
       "\t<li>9.5</li>\n",
       "\t<li>9.4</li>\n",
       "\t<li>9.4</li>\n",
       "\t<li>10.2</li>\n",
       "\t<li>11.4</li>\n",
       "\t<li>9.7</li>\n",
       "\t<li>10.1</li>\n",
       "\t<li>8.9</li>\n",
       "\t<li>9.6</li>\n",
       "\t<li>10.8</li>\n",
       "\t<li>10</li>\n",
       "\t<li>9.3</li>\n",
       "\t<li>8.5</li>\n",
       "\t<li>11.2</li>\n",
       "\t<li>12</li>\n",
       "\t<li>11</li>\n",
       "\t<li>10.3</li>\n",
       "\t<li>11.5</li>\n",
       "\t<li>10.7</li>\n",
       "\t<li>10.7</li>\n",
       "\t<li>10.7</li>\n",
       "\t<li>9.4</li>\n",
       "\t<li>10.6</li>\n",
       "\t<li>10.3</li>\n",
       "\t<li>9.8</li>\n",
       "\t<li>10.4</li>\n",
       "\t<li>10.4</li>\n",
       "\t<li>10.2</li>\n",
       "\t<li>9.7</li>\n",
       "\t<li>9.7</li>\n",
       "\t<li>10.7</li>\n",
       "\t<li>10.9</li>\n",
       "\t<li>11.3</li>\n",
       "\t<li>9.7</li>\n",
       "\t<li>9.6</li>\n",
       "\t<li>10.5</li>\n",
       "\t<li>10</li>\n",
       "\t<li>8.9</li>\n",
       "\t<li>10.2</li>\n",
       "\t<li>10.1</li>\n",
       "\t<li>8.4</li>\n",
       "\t<li>9.1</li>\n",
       "\t<li>10.7</li>\n",
       "\t<li>11.2</li>\n",
       "\t<li>9.5</li>\n",
       "\t<li>10.7</li>\n",
       "\t<li>9.4</li>\n",
       "\t<li>10.7</li>\n",
       "\t<li>9.9</li>\n",
       "\t<li>16.3</li>\n",
       "\t<li>15.6</li>\n",
       "\t<li>16.4</li>\n",
       "\t<li>13.1</li>\n",
       "\t<li>15.4</li>\n",
       "\t<li>14.3</li>\n",
       "\t<li>15.9</li>\n",
       "\t<li>11.6</li>\n",
       "\t<li>15.4</li>\n",
       "\t<li>13.2</li>\n",
       "\t<li>11.5</li>\n",
       "\t<li>14.6</li>\n",
       "\t<li>13.2</li>\n",
       "\t<li>15.1</li>\n",
       "\t<li>13.4</li>\n",
       "\t<li>15.6</li>\n",
       "\t<li>14.6</li>\n",
       "\t<li>13.6</li>\n",
       "\t<li>14.4</li>\n",
       "\t<li>13.1</li>\n",
       "\t<li>15.7</li>\n",
       "\t<li>14.2</li>\n",
       "\t<li>15.2</li>\n",
       "\t<li>14.8</li>\n",
       "\t<li>14.9</li>\n",
       "\t<li>15.4</li>\n",
       "\t<li>15.8</li>\n",
       "\t<li>16.4</li>\n",
       "\t<li>14.9</li>\n",
       "\t<li>12.8</li>\n",
       "\t<li>12.8</li>\n",
       "\t<li>12.6</li>\n",
       "\t<li>13.6</li>\n",
       "\t<li>15.4</li>\n",
       "\t<li>14.4</li>\n",
       "\t<li>15.5</li>\n",
       "\t<li>16</li>\n",
       "\t<li>14.3</li>\n",
       "\t<li>14</li>\n",
       "\t<li>13.3</li>\n",
       "\t<li>13.7</li>\n",
       "\t<li>15.1</li>\n",
       "\t<li>13.6</li>\n",
       "\t<li>11.6</li>\n",
       "\t<li>13.8</li>\n",
       "\t<li>14.1</li>\n",
       "\t<li>14.1</li>\n",
       "\t<li>14.7</li>\n",
       "\t<li>11.7</li>\n",
       "\t<li>13.9</li>\n",
       "\t<li>18.1</li>\n",
       "\t<li>15.5</li>\n",
       "\t<li>18.1</li>\n",
       "\t<li>16.6</li>\n",
       "\t<li>17.5</li>\n",
       "\t<li>19.3</li>\n",
       "\t<li>13.6</li>\n",
       "\t<li>18.3</li>\n",
       "\t<li>16.8</li>\n",
       "\t<li>19.4</li>\n",
       "\t<li>16.8</li>\n",
       "\t<li>16.3</li>\n",
       "\t<li>17.4</li>\n",
       "\t<li>15.2</li>\n",
       "\t<li>16.1</li>\n",
       "\t<li>17.2</li>\n",
       "\t<li>16.8</li>\n",
       "\t<li>20.4</li>\n",
       "\t<li>19.5</li>\n",
       "\t<li>14.7</li>\n",
       "\t<li>18.1</li>\n",
       "\t<li>15.3</li>\n",
       "\t<li>19.2</li>\n",
       "\t<li>15.7</li>\n",
       "\t<li>17.8</li>\n",
       "\t<li>18.2</li>\n",
       "\t<li>15.6</li>\n",
       "\t<li>15.8</li>\n",
       "\t<li>16.9</li>\n",
       "\t<li>17.6</li>\n",
       "\t<li>18.2</li>\n",
       "\t<li>20.1</li>\n",
       "\t<li>17</li>\n",
       "\t<li>15.7</li>\n",
       "\t<li>15.7</li>\n",
       "\t<li>19.1</li>\n",
       "\t<li>17.7</li>\n",
       "\t<li>16.8</li>\n",
       "\t<li>15.6</li>\n",
       "\t<li>17.5</li>\n",
       "\t<li>17.8</li>\n",
       "\t<li>17.4</li>\n",
       "\t<li>15.5</li>\n",
       "\t<li>18.2</li>\n",
       "\t<li>18.2</li>\n",
       "\t<li>17.2</li>\n",
       "\t<li>15.7</li>\n",
       "\t<li>16.7</li>\n",
       "\t<li>17.3</li>\n",
       "\t<li>15.8</li>\n",
       "</ol>\n"
      ],
      "text/latex": [
       "\\begin{enumerate*}\n",
       "\\item 10.2\n",
       "\\item 9.5\n",
       "\\item 9.4\n",
       "\\item 9.4\n",
       "\\item 10.2\n",
       "\\item 11.4\n",
       "\\item 9.7\n",
       "\\item 10.1\n",
       "\\item 8.9\n",
       "\\item 9.6\n",
       "\\item 10.8\n",
       "\\item 10\n",
       "\\item 9.3\n",
       "\\item 8.5\n",
       "\\item 11.2\n",
       "\\item 12\n",
       "\\item 11\n",
       "\\item 10.3\n",
       "\\item 11.5\n",
       "\\item 10.7\n",
       "\\item 10.7\n",
       "\\item 10.7\n",
       "\\item 9.4\n",
       "\\item 10.6\n",
       "\\item 10.3\n",
       "\\item 9.8\n",
       "\\item 10.4\n",
       "\\item 10.4\n",
       "\\item 10.2\n",
       "\\item 9.7\n",
       "\\item 9.7\n",
       "\\item 10.7\n",
       "\\item 10.9\n",
       "\\item 11.3\n",
       "\\item 9.7\n",
       "\\item 9.6\n",
       "\\item 10.5\n",
       "\\item 10\n",
       "\\item 8.9\n",
       "\\item 10.2\n",
       "\\item 10.1\n",
       "\\item 8.4\n",
       "\\item 9.1\n",
       "\\item 10.7\n",
       "\\item 11.2\n",
       "\\item 9.5\n",
       "\\item 10.7\n",
       "\\item 9.4\n",
       "\\item 10.7\n",
       "\\item 9.9\n",
       "\\item 16.3\n",
       "\\item 15.6\n",
       "\\item 16.4\n",
       "\\item 13.1\n",
       "\\item 15.4\n",
       "\\item 14.3\n",
       "\\item 15.9\n",
       "\\item 11.6\n",
       "\\item 15.4\n",
       "\\item 13.2\n",
       "\\item 11.5\n",
       "\\item 14.6\n",
       "\\item 13.2\n",
       "\\item 15.1\n",
       "\\item 13.4\n",
       "\\item 15.6\n",
       "\\item 14.6\n",
       "\\item 13.6\n",
       "\\item 14.4\n",
       "\\item 13.1\n",
       "\\item 15.7\n",
       "\\item 14.2\n",
       "\\item 15.2\n",
       "\\item 14.8\n",
       "\\item 14.9\n",
       "\\item 15.4\n",
       "\\item 15.8\n",
       "\\item 16.4\n",
       "\\item 14.9\n",
       "\\item 12.8\n",
       "\\item 12.8\n",
       "\\item 12.6\n",
       "\\item 13.6\n",
       "\\item 15.4\n",
       "\\item 14.4\n",
       "\\item 15.5\n",
       "\\item 16\n",
       "\\item 14.3\n",
       "\\item 14\n",
       "\\item 13.3\n",
       "\\item 13.7\n",
       "\\item 15.1\n",
       "\\item 13.6\n",
       "\\item 11.6\n",
       "\\item 13.8\n",
       "\\item 14.1\n",
       "\\item 14.1\n",
       "\\item 14.7\n",
       "\\item 11.7\n",
       "\\item 13.9\n",
       "\\item 18.1\n",
       "\\item 15.5\n",
       "\\item 18.1\n",
       "\\item 16.6\n",
       "\\item 17.5\n",
       "\\item 19.3\n",
       "\\item 13.6\n",
       "\\item 18.3\n",
       "\\item 16.8\n",
       "\\item 19.4\n",
       "\\item 16.8\n",
       "\\item 16.3\n",
       "\\item 17.4\n",
       "\\item 15.2\n",
       "\\item 16.1\n",
       "\\item 17.2\n",
       "\\item 16.8\n",
       "\\item 20.4\n",
       "\\item 19.5\n",
       "\\item 14.7\n",
       "\\item 18.1\n",
       "\\item 15.3\n",
       "\\item 19.2\n",
       "\\item 15.7\n",
       "\\item 17.8\n",
       "\\item 18.2\n",
       "\\item 15.6\n",
       "\\item 15.8\n",
       "\\item 16.9\n",
       "\\item 17.6\n",
       "\\item 18.2\n",
       "\\item 20.1\n",
       "\\item 17\n",
       "\\item 15.7\n",
       "\\item 15.7\n",
       "\\item 19.1\n",
       "\\item 17.7\n",
       "\\item 16.8\n",
       "\\item 15.6\n",
       "\\item 17.5\n",
       "\\item 17.8\n",
       "\\item 17.4\n",
       "\\item 15.5\n",
       "\\item 18.2\n",
       "\\item 18.2\n",
       "\\item 17.2\n",
       "\\item 15.7\n",
       "\\item 16.7\n",
       "\\item 17.3\n",
       "\\item 15.8\n",
       "\\end{enumerate*}\n"
      ],
      "text/markdown": [
       "1. 10.2\n",
       "2. 9.5\n",
       "3. 9.4\n",
       "4. 9.4\n",
       "5. 10.2\n",
       "6. 11.4\n",
       "7. 9.7\n",
       "8. 10.1\n",
       "9. 8.9\n",
       "10. 9.6\n",
       "11. 10.8\n",
       "12. 10\n",
       "13. 9.3\n",
       "14. 8.5\n",
       "15. 11.2\n",
       "16. 12\n",
       "17. 11\n",
       "18. 10.3\n",
       "19. 11.5\n",
       "20. 10.7\n",
       "21. 10.7\n",
       "22. 10.7\n",
       "23. 9.4\n",
       "24. 10.6\n",
       "25. 10.3\n",
       "26. 9.8\n",
       "27. 10.4\n",
       "28. 10.4\n",
       "29. 10.2\n",
       "30. 9.7\n",
       "31. 9.7\n",
       "32. 10.7\n",
       "33. 10.9\n",
       "34. 11.3\n",
       "35. 9.7\n",
       "36. 9.6\n",
       "37. 10.5\n",
       "38. 10\n",
       "39. 8.9\n",
       "40. 10.2\n",
       "41. 10.1\n",
       "42. 8.4\n",
       "43. 9.1\n",
       "44. 10.7\n",
       "45. 11.2\n",
       "46. 9.5\n",
       "47. 10.7\n",
       "48. 9.4\n",
       "49. 10.7\n",
       "50. 9.9\n",
       "51. 16.3\n",
       "52. 15.6\n",
       "53. 16.4\n",
       "54. 13.1\n",
       "55. 15.4\n",
       "56. 14.3\n",
       "57. 15.9\n",
       "58. 11.6\n",
       "59. 15.4\n",
       "60. 13.2\n",
       "61. 11.5\n",
       "62. 14.6\n",
       "63. 13.2\n",
       "64. 15.1\n",
       "65. 13.4\n",
       "66. 15.6\n",
       "67. 14.6\n",
       "68. 13.6\n",
       "69. 14.4\n",
       "70. 13.1\n",
       "71. 15.7\n",
       "72. 14.2\n",
       "73. 15.2\n",
       "74. 14.8\n",
       "75. 14.9\n",
       "76. 15.4\n",
       "77. 15.8\n",
       "78. 16.4\n",
       "79. 14.9\n",
       "80. 12.8\n",
       "81. 12.8\n",
       "82. 12.6\n",
       "83. 13.6\n",
       "84. 15.4\n",
       "85. 14.4\n",
       "86. 15.5\n",
       "87. 16\n",
       "88. 14.3\n",
       "89. 14\n",
       "90. 13.3\n",
       "91. 13.7\n",
       "92. 15.1\n",
       "93. 13.6\n",
       "94. 11.6\n",
       "95. 13.8\n",
       "96. 14.1\n",
       "97. 14.1\n",
       "98. 14.7\n",
       "99. 11.7\n",
       "100. 13.9\n",
       "101. 18.1\n",
       "102. 15.5\n",
       "103. 18.1\n",
       "104. 16.6\n",
       "105. 17.5\n",
       "106. 19.3\n",
       "107. 13.6\n",
       "108. 18.3\n",
       "109. 16.8\n",
       "110. 19.4\n",
       "111. 16.8\n",
       "112. 16.3\n",
       "113. 17.4\n",
       "114. 15.2\n",
       "115. 16.1\n",
       "116. 17.2\n",
       "117. 16.8\n",
       "118. 20.4\n",
       "119. 19.5\n",
       "120. 14.7\n",
       "121. 18.1\n",
       "122. 15.3\n",
       "123. 19.2\n",
       "124. 15.7\n",
       "125. 17.8\n",
       "126. 18.2\n",
       "127. 15.6\n",
       "128. 15.8\n",
       "129. 16.9\n",
       "130. 17.6\n",
       "131. 18.2\n",
       "132. 20.1\n",
       "133. 17\n",
       "134. 15.7\n",
       "135. 15.7\n",
       "136. 19.1\n",
       "137. 17.7\n",
       "138. 16.8\n",
       "139. 15.6\n",
       "140. 17.5\n",
       "141. 17.8\n",
       "142. 17.4\n",
       "143. 15.5\n",
       "144. 18.2\n",
       "145. 18.2\n",
       "146. 17.2\n",
       "147. 15.7\n",
       "148. 16.7\n",
       "149. 17.3\n",
       "150. 15.8\n",
       "\n",
       "\n"
      ],
      "text/plain": [
       "  [1] 10.2  9.5  9.4  9.4 10.2 11.4  9.7 10.1  8.9  9.6 10.8 10.0  9.3  8.5 11.2\n",
       " [16] 12.0 11.0 10.3 11.5 10.7 10.7 10.7  9.4 10.6 10.3  9.8 10.4 10.4 10.2  9.7\n",
       " [31]  9.7 10.7 10.9 11.3  9.7  9.6 10.5 10.0  8.9 10.2 10.1  8.4  9.1 10.7 11.2\n",
       " [46]  9.5 10.7  9.4 10.7  9.9 16.3 15.6 16.4 13.1 15.4 14.3 15.9 11.6 15.4 13.2\n",
       " [61] 11.5 14.6 13.2 15.1 13.4 15.6 14.6 13.6 14.4 13.1 15.7 14.2 15.2 14.8 14.9\n",
       " [76] 15.4 15.8 16.4 14.9 12.8 12.8 12.6 13.6 15.4 14.4 15.5 16.0 14.3 14.0 13.3\n",
       " [91] 13.7 15.1 13.6 11.6 13.8 14.1 14.1 14.7 11.7 13.9 18.1 15.5 18.1 16.6 17.5\n",
       "[106] 19.3 13.6 18.3 16.8 19.4 16.8 16.3 17.4 15.2 16.1 17.2 16.8 20.4 19.5 14.7\n",
       "[121] 18.1 15.3 19.2 15.7 17.8 18.2 15.6 15.8 16.9 17.6 18.2 20.1 17.0 15.7 15.7\n",
       "[136] 19.1 17.7 16.8 15.6 17.5 17.8 17.4 15.5 18.2 18.2 17.2 15.7 16.7 17.3 15.8"
      ]
     },
     "metadata": {},
     "output_type": "display_data"
    }
   ],
   "source": [
    "# iris[,1:4] 모든행,1~4열\n",
    "# apply (데이터셋,1-가로방향/2-세로방향,함수)\n",
    "apply(iris[,1:4],2,sum) #필드 합계\n",
    "apply(iris[,1:4],1,sum) #행 합계"
   ]
  },
  {
   "cell_type": "code",
   "execution_count": 3,
   "metadata": {},
   "outputs": [
    {
     "data": {
      "text/html": [
       "<table>\n",
       "<tbody>\n",
       "\t<tr><td>1</td><td>4</td><td>7</td></tr>\n",
       "\t<tr><td>2</td><td>5</td><td>8</td></tr>\n",
       "\t<tr><td>3</td><td>6</td><td>9</td></tr>\n",
       "</tbody>\n",
       "</table>\n"
      ],
      "text/latex": [
       "\\begin{tabular}{lll}\n",
       "\t 1 & 4 & 7\\\\\n",
       "\t 2 & 5 & 8\\\\\n",
       "\t 3 & 6 & 9\\\\\n",
       "\\end{tabular}\n"
      ],
      "text/markdown": [
       "\n",
       "| 1 | 4 | 7 |\n",
       "| 2 | 5 | 8 |\n",
       "| 3 | 6 | 9 |\n",
       "\n"
      ],
      "text/plain": [
       "     [,1] [,2] [,3]\n",
       "[1,] 1    4    7   \n",
       "[2,] 2    5    8   \n",
       "[3,] 3    6    9   "
      ]
     },
     "metadata": {},
     "output_type": "display_data"
    }
   ],
   "source": [
    "d<-matrix(1:9, ncol=3) #3x3 행렬\n",
    "d"
   ]
  },
  {
   "cell_type": "code",
   "execution_count": 4,
   "metadata": {},
   "outputs": [
    {
     "data": {
      "text/html": [
       "<ol class=list-inline>\n",
       "\t<li>12</li>\n",
       "\t<li>15</li>\n",
       "\t<li>18</li>\n",
       "</ol>\n"
      ],
      "text/latex": [
       "\\begin{enumerate*}\n",
       "\\item 12\n",
       "\\item 15\n",
       "\\item 18\n",
       "\\end{enumerate*}\n"
      ],
      "text/markdown": [
       "1. 12\n",
       "2. 15\n",
       "3. 18\n",
       "\n",
       "\n"
      ],
      "text/plain": [
       "[1] 12 15 18"
      ]
     },
     "metadata": {},
     "output_type": "display_data"
    },
    {
     "data": {
      "text/html": [
       "<ol class=list-inline>\n",
       "\t<li>6</li>\n",
       "\t<li>15</li>\n",
       "\t<li>24</li>\n",
       "</ol>\n"
      ],
      "text/latex": [
       "\\begin{enumerate*}\n",
       "\\item 6\n",
       "\\item 15\n",
       "\\item 24\n",
       "\\end{enumerate*}\n"
      ],
      "text/markdown": [
       "1. 6\n",
       "2. 15\n",
       "3. 24\n",
       "\n",
       "\n"
      ],
      "text/plain": [
       "[1]  6 15 24"
      ]
     },
     "metadata": {},
     "output_type": "display_data"
    }
   ],
   "source": [
    "apply(d,1,sum) #행렬의 가로합계\n",
    "apply(d,2,sum) #행렬의 세로합계"
   ]
  },
  {
   "cell_type": "code",
   "execution_count": 6,
   "metadata": {},
   "outputs": [
    {
     "data": {
      "text/plain": [
       "  Sepal.Length    Sepal.Width     Petal.Length    Petal.Width   \n",
       " Min.   :4.300   Min.   :2.000   Min.   :1.000   Min.   :0.100  \n",
       " 1st Qu.:5.100   1st Qu.:2.800   1st Qu.:1.600   1st Qu.:0.300  \n",
       " Median :5.800   Median :3.000   Median :4.350   Median :1.300  \n",
       " Mean   :5.843   Mean   :3.057   Mean   :3.758   Mean   :1.199  \n",
       " 3rd Qu.:6.400   3rd Qu.:3.300   3rd Qu.:5.100   3rd Qu.:1.800  \n",
       " Max.   :7.900   Max.   :4.400   Max.   :6.900   Max.   :2.500  \n",
       "       Species  \n",
       " setosa    :50  \n",
       " versicolor:50  \n",
       " virginica :50  \n",
       "                \n",
       "                \n",
       "                "
      ]
     },
     "metadata": {},
     "output_type": "display_data"
    }
   ],
   "source": [
    "summary(iris) #기초통계량"
   ]
  },
  {
   "cell_type": "code",
   "execution_count": 7,
   "metadata": {
    "scrolled": true
   },
   "outputs": [
    {
     "data": {
      "text/html": [
       "<dl class=dl-horizontal>\n",
       "\t<dt>0%</dt>\n",
       "\t\t<dd>4.3</dd>\n",
       "\t<dt>25%</dt>\n",
       "\t\t<dd>5.1</dd>\n",
       "\t<dt>50%</dt>\n",
       "\t\t<dd>5.8</dd>\n",
       "\t<dt>75%</dt>\n",
       "\t\t<dd>6.4</dd>\n",
       "\t<dt>100%</dt>\n",
       "\t\t<dd>7.9</dd>\n",
       "</dl>\n"
      ],
      "text/latex": [
       "\\begin{description*}\n",
       "\\item[0\\textbackslash{}\\%] 4.3\n",
       "\\item[25\\textbackslash{}\\%] 5.1\n",
       "\\item[50\\textbackslash{}\\%] 5.8\n",
       "\\item[75\\textbackslash{}\\%] 6.4\n",
       "\\item[100\\textbackslash{}\\%] 7.9\n",
       "\\end{description*}\n"
      ],
      "text/markdown": [
       "0%\n",
       ":   4.325%\n",
       ":   5.150%\n",
       ":   5.875%\n",
       ":   6.4100%\n",
       ":   7.9\n",
       "\n"
      ],
      "text/plain": [
       "  0%  25%  50%  75% 100% \n",
       " 4.3  5.1  5.8  6.4  7.9 "
      ]
     },
     "metadata": {},
     "output_type": "display_data"
    }
   ],
   "source": [
    "#데이터프레임$필드명\n",
    "quantile(iris$Sepal.Length) #사분위수"
   ]
  },
  {
   "cell_type": "code",
   "execution_count": 8,
   "metadata": {},
   "outputs": [
    {
     "data": {
      "text/html": [
       "<dl class=dl-horizontal>\n",
       "\t<dt>0%</dt>\n",
       "\t\t<dd>4.3</dd>\n",
       "\t<dt>10%</dt>\n",
       "\t\t<dd>4.8</dd>\n",
       "\t<dt>20%</dt>\n",
       "\t\t<dd>5</dd>\n",
       "\t<dt>30%</dt>\n",
       "\t\t<dd>5.27</dd>\n",
       "\t<dt>40%</dt>\n",
       "\t\t<dd>5.6</dd>\n",
       "\t<dt>50%</dt>\n",
       "\t\t<dd>5.8</dd>\n",
       "\t<dt>60%</dt>\n",
       "\t\t<dd>6.1</dd>\n",
       "\t<dt>70%</dt>\n",
       "\t\t<dd>6.3</dd>\n",
       "\t<dt>80%</dt>\n",
       "\t\t<dd>6.52</dd>\n",
       "\t<dt>90%</dt>\n",
       "\t\t<dd>6.9</dd>\n",
       "\t<dt>100%</dt>\n",
       "\t\t<dd>7.9</dd>\n",
       "</dl>\n"
      ],
      "text/latex": [
       "\\begin{description*}\n",
       "\\item[0\\textbackslash{}\\%] 4.3\n",
       "\\item[10\\textbackslash{}\\%] 4.8\n",
       "\\item[20\\textbackslash{}\\%] 5\n",
       "\\item[30\\textbackslash{}\\%] 5.27\n",
       "\\item[40\\textbackslash{}\\%] 5.6\n",
       "\\item[50\\textbackslash{}\\%] 5.8\n",
       "\\item[60\\textbackslash{}\\%] 6.1\n",
       "\\item[70\\textbackslash{}\\%] 6.3\n",
       "\\item[80\\textbackslash{}\\%] 6.52\n",
       "\\item[90\\textbackslash{}\\%] 6.9\n",
       "\\item[100\\textbackslash{}\\%] 7.9\n",
       "\\end{description*}\n"
      ],
      "text/markdown": [
       "0%\n",
       ":   4.310%\n",
       ":   4.820%\n",
       ":   530%\n",
       ":   5.2740%\n",
       ":   5.650%\n",
       ":   5.860%\n",
       ":   6.170%\n",
       ":   6.380%\n",
       ":   6.5290%\n",
       ":   6.9100%\n",
       ":   7.9\n",
       "\n"
      ],
      "text/plain": [
       "  0%  10%  20%  30%  40%  50%  60%  70%  80%  90% 100% \n",
       "4.30 4.80 5.00 5.27 5.60 5.80 6.10 6.30 6.52 6.90 7.90 "
      ]
     },
     "metadata": {},
     "output_type": "display_data"
    }
   ],
   "source": [
    "#seq(start,end,step)\n",
    "quantile(iris$Sepal.Length,seq(0,1,by=0.1)) #10분위수"
   ]
  },
  {
   "cell_type": "code",
   "execution_count": 9,
   "metadata": {},
   "outputs": [
    {
     "name": "stderr",
     "output_type": "stream",
     "text": [
      "also installing the dependencies 'minqa', 'nloptr', 'RcppEigen', 'lme4', 'pbkrtest', 'Deriv'\n",
      "\n"
     ]
    },
    {
     "name": "stdout",
     "output_type": "stream",
     "text": [
      "package 'minqa' successfully unpacked and MD5 sums checked\n",
      "package 'nloptr' successfully unpacked and MD5 sums checked\n",
      "package 'RcppEigen' successfully unpacked and MD5 sums checked\n",
      "package 'lme4' successfully unpacked and MD5 sums checked\n",
      "package 'pbkrtest' successfully unpacked and MD5 sums checked\n",
      "package 'Deriv' successfully unpacked and MD5 sums checked\n",
      "package 'doBy' successfully unpacked and MD5 sums checked\n",
      "\n",
      "The downloaded binary packages are in\n",
      "\tC:\\Users\\tjoeun302-18\\AppData\\Local\\Temp\\Rtmp8w7iZH\\downloaded_packages\n"
     ]
    }
   ],
   "source": [
    "#install.packages('doBy')"
   ]
  },
  {
   "cell_type": "code",
   "execution_count": 10,
   "metadata": {},
   "outputs": [
    {
     "name": "stderr",
     "output_type": "stream",
     "text": [
      "Warning message:\n",
      "\"package 'doBy' was built under R version 3.6.2\""
     ]
    }
   ],
   "source": [
    "library(doBy)"
   ]
  },
  {
   "cell_type": "code",
   "execution_count": 13,
   "metadata": {},
   "outputs": [
    {
     "data": {
      "text/html": [
       "<table>\n",
       "<thead><tr><th></th><th scope=col>Sepal.Length</th><th scope=col>Sepal.Width</th><th scope=col>Petal.Length</th><th scope=col>Petal.Width</th><th scope=col>Species</th></tr></thead>\n",
       "<tbody>\n",
       "\t<tr><th scope=row>61</th><td>5.0       </td><td>2.0       </td><td>3.5       </td><td>1.0       </td><td>versicolor</td></tr>\n",
       "\t<tr><th scope=row>63</th><td>6.0       </td><td>2.2       </td><td>4.0       </td><td>1.0       </td><td>versicolor</td></tr>\n",
       "\t<tr><th scope=row>69</th><td>6.2       </td><td>2.2       </td><td>4.5       </td><td>1.5       </td><td>versicolor</td></tr>\n",
       "\t<tr><th scope=row>120</th><td>6.0       </td><td>2.2       </td><td>5.0       </td><td>1.5       </td><td>virginica </td></tr>\n",
       "\t<tr><th scope=row>42</th><td>4.5       </td><td>2.3       </td><td>1.3       </td><td>0.3       </td><td>setosa    </td></tr>\n",
       "\t<tr><th scope=row>54</th><td>5.5       </td><td>2.3       </td><td>4.0       </td><td>1.3       </td><td>versicolor</td></tr>\n",
       "</tbody>\n",
       "</table>\n"
      ],
      "text/latex": [
       "\\begin{tabular}{r|lllll}\n",
       "  & Sepal.Length & Sepal.Width & Petal.Length & Petal.Width & Species\\\\\n",
       "\\hline\n",
       "\t61 & 5.0        & 2.0        & 3.5        & 1.0        & versicolor\\\\\n",
       "\t63 & 6.0        & 2.2        & 4.0        & 1.0        & versicolor\\\\\n",
       "\t69 & 6.2        & 2.2        & 4.5        & 1.5        & versicolor\\\\\n",
       "\t120 & 6.0        & 2.2        & 5.0        & 1.5        & virginica \\\\\n",
       "\t42 & 4.5        & 2.3        & 1.3        & 0.3        & setosa    \\\\\n",
       "\t54 & 5.5        & 2.3        & 4.0        & 1.3        & versicolor\\\\\n",
       "\\end{tabular}\n"
      ],
      "text/markdown": [
       "\n",
       "| <!--/--> | Sepal.Length | Sepal.Width | Petal.Length | Petal.Width | Species |\n",
       "|---|---|---|---|---|---|\n",
       "| 61 | 5.0        | 2.0        | 3.5        | 1.0        | versicolor |\n",
       "| 63 | 6.0        | 2.2        | 4.0        | 1.0        | versicolor |\n",
       "| 69 | 6.2        | 2.2        | 4.5        | 1.5        | versicolor |\n",
       "| 120 | 6.0        | 2.2        | 5.0        | 1.5        | virginica  |\n",
       "| 42 | 4.5        | 2.3        | 1.3        | 0.3        | setosa     |\n",
       "| 54 | 5.5        | 2.3        | 4.0        | 1.3        | versicolor |\n",
       "\n"
      ],
      "text/plain": [
       "    Sepal.Length Sepal.Width Petal.Length Petal.Width Species   \n",
       "61  5.0          2.0         3.5          1.0         versicolor\n",
       "63  6.0          2.2         4.0          1.0         versicolor\n",
       "69  6.2          2.2         4.5          1.5         versicolor\n",
       "120 6.0          2.2         5.0          1.5         virginica \n",
       "42  4.5          2.3         1.3          0.3         setosa    \n",
       "54  5.5          2.3         4.0          1.3         versicolor"
      ]
     },
     "metadata": {},
     "output_type": "display_data"
    }
   ],
   "source": [
    "#iris 데이터셋의 Sepal.Width 오름차순 정렬\n",
    "head(orderBy(~ Sepal.Width, iris))"
   ]
  },
  {
   "cell_type": "code",
   "execution_count": 14,
   "metadata": {},
   "outputs": [
    {
     "data": {
      "text/html": [
       "<table>\n",
       "<thead><tr><th></th><th scope=col>Sepal.Length</th><th scope=col>Sepal.Width</th><th scope=col>Petal.Length</th><th scope=col>Petal.Width</th><th scope=col>Species</th></tr></thead>\n",
       "<tbody>\n",
       "\t<tr><th scope=row>16</th><td>5.7   </td><td>4.4   </td><td>1.5   </td><td>0.4   </td><td>setosa</td></tr>\n",
       "\t<tr><th scope=row>34</th><td>5.5   </td><td>4.2   </td><td>1.4   </td><td>0.2   </td><td>setosa</td></tr>\n",
       "\t<tr><th scope=row>33</th><td>5.2   </td><td>4.1   </td><td>1.5   </td><td>0.1   </td><td>setosa</td></tr>\n",
       "\t<tr><th scope=row>15</th><td>5.8   </td><td>4.0   </td><td>1.2   </td><td>0.2   </td><td>setosa</td></tr>\n",
       "\t<tr><th scope=row>6</th><td>5.4   </td><td>3.9   </td><td>1.7   </td><td>0.4   </td><td>setosa</td></tr>\n",
       "\t<tr><th scope=row>17</th><td>5.4   </td><td>3.9   </td><td>1.3   </td><td>0.4   </td><td>setosa</td></tr>\n",
       "</tbody>\n",
       "</table>\n"
      ],
      "text/latex": [
       "\\begin{tabular}{r|lllll}\n",
       "  & Sepal.Length & Sepal.Width & Petal.Length & Petal.Width & Species\\\\\n",
       "\\hline\n",
       "\t16 & 5.7    & 4.4    & 1.5    & 0.4    & setosa\\\\\n",
       "\t34 & 5.5    & 4.2    & 1.4    & 0.2    & setosa\\\\\n",
       "\t33 & 5.2    & 4.1    & 1.5    & 0.1    & setosa\\\\\n",
       "\t15 & 5.8    & 4.0    & 1.2    & 0.2    & setosa\\\\\n",
       "\t6 & 5.4    & 3.9    & 1.7    & 0.4    & setosa\\\\\n",
       "\t17 & 5.4    & 3.9    & 1.3    & 0.4    & setosa\\\\\n",
       "\\end{tabular}\n"
      ],
      "text/markdown": [
       "\n",
       "| <!--/--> | Sepal.Length | Sepal.Width | Petal.Length | Petal.Width | Species |\n",
       "|---|---|---|---|---|---|\n",
       "| 16 | 5.7    | 4.4    | 1.5    | 0.4    | setosa |\n",
       "| 34 | 5.5    | 4.2    | 1.4    | 0.2    | setosa |\n",
       "| 33 | 5.2    | 4.1    | 1.5    | 0.1    | setosa |\n",
       "| 15 | 5.8    | 4.0    | 1.2    | 0.2    | setosa |\n",
       "| 6 | 5.4    | 3.9    | 1.7    | 0.4    | setosa |\n",
       "| 17 | 5.4    | 3.9    | 1.3    | 0.4    | setosa |\n",
       "\n"
      ],
      "text/plain": [
       "   Sepal.Length Sepal.Width Petal.Length Petal.Width Species\n",
       "16 5.7          4.4         1.5          0.4         setosa \n",
       "34 5.5          4.2         1.4          0.2         setosa \n",
       "33 5.2          4.1         1.5          0.1         setosa \n",
       "15 5.8          4.0         1.2          0.2         setosa \n",
       "6  5.4          3.9         1.7          0.4         setosa \n",
       "17 5.4          3.9         1.3          0.4         setosa "
      ]
     },
     "metadata": {},
     "output_type": "display_data"
    }
   ],
   "source": [
    "# 필드명 앞에 -를 붙이면 내림차순 정렬\n",
    "head(orderBy(~ -Sepal.Width, iris))"
   ]
  },
  {
   "cell_type": "code",
   "execution_count": 2,
   "metadata": {},
   "outputs": [
    {
     "data": {
      "text/html": [
       "<table>\n",
       "<thead><tr><th scope=col>Sepal.Length</th><th scope=col>Sepal.Width</th><th scope=col>Petal.Length</th><th scope=col>Petal.Width</th><th scope=col>Species</th></tr></thead>\n",
       "<tbody>\n",
       "\t<tr><td>5.1   </td><td>3.5   </td><td>1.4   </td><td>0.2   </td><td>setosa</td></tr>\n",
       "\t<tr><td>4.9   </td><td>3.0   </td><td>1.4   </td><td>0.2   </td><td>setosa</td></tr>\n",
       "\t<tr><td>4.7   </td><td>3.2   </td><td>1.3   </td><td>0.2   </td><td>setosa</td></tr>\n",
       "\t<tr><td>4.6   </td><td>3.1   </td><td>1.5   </td><td>0.2   </td><td>setosa</td></tr>\n",
       "\t<tr><td>5.0   </td><td>3.6   </td><td>1.4   </td><td>0.2   </td><td>setosa</td></tr>\n",
       "\t<tr><td>5.4   </td><td>3.9   </td><td>1.7   </td><td>0.4   </td><td>setosa</td></tr>\n",
       "\t<tr><td>4.6   </td><td>3.4   </td><td>1.4   </td><td>0.3   </td><td>setosa</td></tr>\n",
       "\t<tr><td>5.0   </td><td>3.4   </td><td>1.5   </td><td>0.2   </td><td>setosa</td></tr>\n",
       "\t<tr><td>4.4   </td><td>2.9   </td><td>1.4   </td><td>0.2   </td><td>setosa</td></tr>\n",
       "\t<tr><td>4.9   </td><td>3.1   </td><td>1.5   </td><td>0.1   </td><td>setosa</td></tr>\n",
       "\t<tr><td>5.4   </td><td>3.7   </td><td>1.5   </td><td>0.2   </td><td>setosa</td></tr>\n",
       "\t<tr><td>4.8   </td><td>3.4   </td><td>1.6   </td><td>0.2   </td><td>setosa</td></tr>\n",
       "\t<tr><td>4.8   </td><td>3.0   </td><td>1.4   </td><td>0.1   </td><td>setosa</td></tr>\n",
       "\t<tr><td>4.3   </td><td>3.0   </td><td>1.1   </td><td>0.1   </td><td>setosa</td></tr>\n",
       "\t<tr><td>5.8   </td><td>4.0   </td><td>1.2   </td><td>0.2   </td><td>setosa</td></tr>\n",
       "\t<tr><td>5.7   </td><td>4.4   </td><td>1.5   </td><td>0.4   </td><td>setosa</td></tr>\n",
       "\t<tr><td>5.4   </td><td>3.9   </td><td>1.3   </td><td>0.4   </td><td>setosa</td></tr>\n",
       "\t<tr><td>5.1   </td><td>3.5   </td><td>1.4   </td><td>0.3   </td><td>setosa</td></tr>\n",
       "\t<tr><td>5.7   </td><td>3.8   </td><td>1.7   </td><td>0.3   </td><td>setosa</td></tr>\n",
       "\t<tr><td>5.1   </td><td>3.8   </td><td>1.5   </td><td>0.3   </td><td>setosa</td></tr>\n",
       "\t<tr><td>5.4   </td><td>3.4   </td><td>1.7   </td><td>0.2   </td><td>setosa</td></tr>\n",
       "\t<tr><td>5.1   </td><td>3.7   </td><td>1.5   </td><td>0.4   </td><td>setosa</td></tr>\n",
       "\t<tr><td>4.6   </td><td>3.6   </td><td>1.0   </td><td>0.2   </td><td>setosa</td></tr>\n",
       "\t<tr><td>5.1   </td><td>3.3   </td><td>1.7   </td><td>0.5   </td><td>setosa</td></tr>\n",
       "\t<tr><td>4.8   </td><td>3.4   </td><td>1.9   </td><td>0.2   </td><td>setosa</td></tr>\n",
       "\t<tr><td>5.0   </td><td>3.0   </td><td>1.6   </td><td>0.2   </td><td>setosa</td></tr>\n",
       "\t<tr><td>5.0   </td><td>3.4   </td><td>1.6   </td><td>0.4   </td><td>setosa</td></tr>\n",
       "\t<tr><td>5.2   </td><td>3.5   </td><td>1.5   </td><td>0.2   </td><td>setosa</td></tr>\n",
       "\t<tr><td>5.2   </td><td>3.4   </td><td>1.4   </td><td>0.2   </td><td>setosa</td></tr>\n",
       "\t<tr><td>4.7   </td><td>3.2   </td><td>1.6   </td><td>0.2   </td><td>setosa</td></tr>\n",
       "\t<tr><td>...</td><td>...</td><td>...</td><td>...</td><td>...</td></tr>\n",
       "\t<tr><td>6.9      </td><td>3.2      </td><td>5.7      </td><td>2.3      </td><td>virginica</td></tr>\n",
       "\t<tr><td>5.6      </td><td>2.8      </td><td>4.9      </td><td>2.0      </td><td>virginica</td></tr>\n",
       "\t<tr><td>7.7      </td><td>2.8      </td><td>6.7      </td><td>2.0      </td><td>virginica</td></tr>\n",
       "\t<tr><td>6.3      </td><td>2.7      </td><td>4.9      </td><td>1.8      </td><td>virginica</td></tr>\n",
       "\t<tr><td>6.7      </td><td>3.3      </td><td>5.7      </td><td>2.1      </td><td>virginica</td></tr>\n",
       "\t<tr><td>7.2      </td><td>3.2      </td><td>6.0      </td><td>1.8      </td><td>virginica</td></tr>\n",
       "\t<tr><td>6.2      </td><td>2.8      </td><td>4.8      </td><td>1.8      </td><td>virginica</td></tr>\n",
       "\t<tr><td>6.1      </td><td>3.0      </td><td>4.9      </td><td>1.8      </td><td>virginica</td></tr>\n",
       "\t<tr><td>6.4      </td><td>2.8      </td><td>5.6      </td><td>2.1      </td><td>virginica</td></tr>\n",
       "\t<tr><td>7.2      </td><td>3.0      </td><td>5.8      </td><td>1.6      </td><td>virginica</td></tr>\n",
       "\t<tr><td>7.4      </td><td>2.8      </td><td>6.1      </td><td>1.9      </td><td>virginica</td></tr>\n",
       "\t<tr><td>7.9      </td><td>3.8      </td><td>6.4      </td><td>2.0      </td><td>virginica</td></tr>\n",
       "\t<tr><td>6.4      </td><td>2.8      </td><td>5.6      </td><td>2.2      </td><td>virginica</td></tr>\n",
       "\t<tr><td>6.3      </td><td>2.8      </td><td>5.1      </td><td>1.5      </td><td>virginica</td></tr>\n",
       "\t<tr><td>6.1      </td><td>2.6      </td><td>5.6      </td><td>1.4      </td><td>virginica</td></tr>\n",
       "\t<tr><td>7.7      </td><td>3.0      </td><td>6.1      </td><td>2.3      </td><td>virginica</td></tr>\n",
       "\t<tr><td>6.3      </td><td>3.4      </td><td>5.6      </td><td>2.4      </td><td>virginica</td></tr>\n",
       "\t<tr><td>6.4      </td><td>3.1      </td><td>5.5      </td><td>1.8      </td><td>virginica</td></tr>\n",
       "\t<tr><td>6.0      </td><td>3.0      </td><td>4.8      </td><td>1.8      </td><td>virginica</td></tr>\n",
       "\t<tr><td>6.9      </td><td>3.1      </td><td>5.4      </td><td>2.1      </td><td>virginica</td></tr>\n",
       "\t<tr><td>6.7      </td><td>3.1      </td><td>5.6      </td><td>2.4      </td><td>virginica</td></tr>\n",
       "\t<tr><td>6.9      </td><td>3.1      </td><td>5.1      </td><td>2.3      </td><td>virginica</td></tr>\n",
       "\t<tr><td>5.8      </td><td>2.7      </td><td>5.1      </td><td>1.9      </td><td>virginica</td></tr>\n",
       "\t<tr><td>6.8      </td><td>3.2      </td><td>5.9      </td><td>2.3      </td><td>virginica</td></tr>\n",
       "\t<tr><td>6.7      </td><td>3.3      </td><td>5.7      </td><td>2.5      </td><td>virginica</td></tr>\n",
       "\t<tr><td>6.7      </td><td>3.0      </td><td>5.2      </td><td>2.3      </td><td>virginica</td></tr>\n",
       "\t<tr><td>6.3      </td><td>2.5      </td><td>5.0      </td><td>1.9      </td><td>virginica</td></tr>\n",
       "\t<tr><td>6.5      </td><td>3.0      </td><td>5.2      </td><td>2.0      </td><td>virginica</td></tr>\n",
       "\t<tr><td>6.2      </td><td>3.4      </td><td>5.4      </td><td>2.3      </td><td>virginica</td></tr>\n",
       "\t<tr><td>5.9      </td><td>3.0      </td><td>5.1      </td><td>1.8      </td><td>virginica</td></tr>\n",
       "</tbody>\n",
       "</table>\n"
      ],
      "text/latex": [
       "\\begin{tabular}{r|lllll}\n",
       " Sepal.Length & Sepal.Width & Petal.Length & Petal.Width & Species\\\\\n",
       "\\hline\n",
       "\t 5.1    & 3.5    & 1.4    & 0.2    & setosa\\\\\n",
       "\t 4.9    & 3.0    & 1.4    & 0.2    & setosa\\\\\n",
       "\t 4.7    & 3.2    & 1.3    & 0.2    & setosa\\\\\n",
       "\t 4.6    & 3.1    & 1.5    & 0.2    & setosa\\\\\n",
       "\t 5.0    & 3.6    & 1.4    & 0.2    & setosa\\\\\n",
       "\t 5.4    & 3.9    & 1.7    & 0.4    & setosa\\\\\n",
       "\t 4.6    & 3.4    & 1.4    & 0.3    & setosa\\\\\n",
       "\t 5.0    & 3.4    & 1.5    & 0.2    & setosa\\\\\n",
       "\t 4.4    & 2.9    & 1.4    & 0.2    & setosa\\\\\n",
       "\t 4.9    & 3.1    & 1.5    & 0.1    & setosa\\\\\n",
       "\t 5.4    & 3.7    & 1.5    & 0.2    & setosa\\\\\n",
       "\t 4.8    & 3.4    & 1.6    & 0.2    & setosa\\\\\n",
       "\t 4.8    & 3.0    & 1.4    & 0.1    & setosa\\\\\n",
       "\t 4.3    & 3.0    & 1.1    & 0.1    & setosa\\\\\n",
       "\t 5.8    & 4.0    & 1.2    & 0.2    & setosa\\\\\n",
       "\t 5.7    & 4.4    & 1.5    & 0.4    & setosa\\\\\n",
       "\t 5.4    & 3.9    & 1.3    & 0.4    & setosa\\\\\n",
       "\t 5.1    & 3.5    & 1.4    & 0.3    & setosa\\\\\n",
       "\t 5.7    & 3.8    & 1.7    & 0.3    & setosa\\\\\n",
       "\t 5.1    & 3.8    & 1.5    & 0.3    & setosa\\\\\n",
       "\t 5.4    & 3.4    & 1.7    & 0.2    & setosa\\\\\n",
       "\t 5.1    & 3.7    & 1.5    & 0.4    & setosa\\\\\n",
       "\t 4.6    & 3.6    & 1.0    & 0.2    & setosa\\\\\n",
       "\t 5.1    & 3.3    & 1.7    & 0.5    & setosa\\\\\n",
       "\t 4.8    & 3.4    & 1.9    & 0.2    & setosa\\\\\n",
       "\t 5.0    & 3.0    & 1.6    & 0.2    & setosa\\\\\n",
       "\t 5.0    & 3.4    & 1.6    & 0.4    & setosa\\\\\n",
       "\t 5.2    & 3.5    & 1.5    & 0.2    & setosa\\\\\n",
       "\t 5.2    & 3.4    & 1.4    & 0.2    & setosa\\\\\n",
       "\t 4.7    & 3.2    & 1.6    & 0.2    & setosa\\\\\n",
       "\t ... & ... & ... & ... & ...\\\\\n",
       "\t 6.9       & 3.2       & 5.7       & 2.3       & virginica\\\\\n",
       "\t 5.6       & 2.8       & 4.9       & 2.0       & virginica\\\\\n",
       "\t 7.7       & 2.8       & 6.7       & 2.0       & virginica\\\\\n",
       "\t 6.3       & 2.7       & 4.9       & 1.8       & virginica\\\\\n",
       "\t 6.7       & 3.3       & 5.7       & 2.1       & virginica\\\\\n",
       "\t 7.2       & 3.2       & 6.0       & 1.8       & virginica\\\\\n",
       "\t 6.2       & 2.8       & 4.8       & 1.8       & virginica\\\\\n",
       "\t 6.1       & 3.0       & 4.9       & 1.8       & virginica\\\\\n",
       "\t 6.4       & 2.8       & 5.6       & 2.1       & virginica\\\\\n",
       "\t 7.2       & 3.0       & 5.8       & 1.6       & virginica\\\\\n",
       "\t 7.4       & 2.8       & 6.1       & 1.9       & virginica\\\\\n",
       "\t 7.9       & 3.8       & 6.4       & 2.0       & virginica\\\\\n",
       "\t 6.4       & 2.8       & 5.6       & 2.2       & virginica\\\\\n",
       "\t 6.3       & 2.8       & 5.1       & 1.5       & virginica\\\\\n",
       "\t 6.1       & 2.6       & 5.6       & 1.4       & virginica\\\\\n",
       "\t 7.7       & 3.0       & 6.1       & 2.3       & virginica\\\\\n",
       "\t 6.3       & 3.4       & 5.6       & 2.4       & virginica\\\\\n",
       "\t 6.4       & 3.1       & 5.5       & 1.8       & virginica\\\\\n",
       "\t 6.0       & 3.0       & 4.8       & 1.8       & virginica\\\\\n",
       "\t 6.9       & 3.1       & 5.4       & 2.1       & virginica\\\\\n",
       "\t 6.7       & 3.1       & 5.6       & 2.4       & virginica\\\\\n",
       "\t 6.9       & 3.1       & 5.1       & 2.3       & virginica\\\\\n",
       "\t 5.8       & 2.7       & 5.1       & 1.9       & virginica\\\\\n",
       "\t 6.8       & 3.2       & 5.9       & 2.3       & virginica\\\\\n",
       "\t 6.7       & 3.3       & 5.7       & 2.5       & virginica\\\\\n",
       "\t 6.7       & 3.0       & 5.2       & 2.3       & virginica\\\\\n",
       "\t 6.3       & 2.5       & 5.0       & 1.9       & virginica\\\\\n",
       "\t 6.5       & 3.0       & 5.2       & 2.0       & virginica\\\\\n",
       "\t 6.2       & 3.4       & 5.4       & 2.3       & virginica\\\\\n",
       "\t 5.9       & 3.0       & 5.1       & 1.8       & virginica\\\\\n",
       "\\end{tabular}\n"
      ],
      "text/markdown": [
       "\n",
       "| Sepal.Length | Sepal.Width | Petal.Length | Petal.Width | Species |\n",
       "|---|---|---|---|---|\n",
       "| 5.1    | 3.5    | 1.4    | 0.2    | setosa |\n",
       "| 4.9    | 3.0    | 1.4    | 0.2    | setosa |\n",
       "| 4.7    | 3.2    | 1.3    | 0.2    | setosa |\n",
       "| 4.6    | 3.1    | 1.5    | 0.2    | setosa |\n",
       "| 5.0    | 3.6    | 1.4    | 0.2    | setosa |\n",
       "| 5.4    | 3.9    | 1.7    | 0.4    | setosa |\n",
       "| 4.6    | 3.4    | 1.4    | 0.3    | setosa |\n",
       "| 5.0    | 3.4    | 1.5    | 0.2    | setosa |\n",
       "| 4.4    | 2.9    | 1.4    | 0.2    | setosa |\n",
       "| 4.9    | 3.1    | 1.5    | 0.1    | setosa |\n",
       "| 5.4    | 3.7    | 1.5    | 0.2    | setosa |\n",
       "| 4.8    | 3.4    | 1.6    | 0.2    | setosa |\n",
       "| 4.8    | 3.0    | 1.4    | 0.1    | setosa |\n",
       "| 4.3    | 3.0    | 1.1    | 0.1    | setosa |\n",
       "| 5.8    | 4.0    | 1.2    | 0.2    | setosa |\n",
       "| 5.7    | 4.4    | 1.5    | 0.4    | setosa |\n",
       "| 5.4    | 3.9    | 1.3    | 0.4    | setosa |\n",
       "| 5.1    | 3.5    | 1.4    | 0.3    | setosa |\n",
       "| 5.7    | 3.8    | 1.7    | 0.3    | setosa |\n",
       "| 5.1    | 3.8    | 1.5    | 0.3    | setosa |\n",
       "| 5.4    | 3.4    | 1.7    | 0.2    | setosa |\n",
       "| 5.1    | 3.7    | 1.5    | 0.4    | setosa |\n",
       "| 4.6    | 3.6    | 1.0    | 0.2    | setosa |\n",
       "| 5.1    | 3.3    | 1.7    | 0.5    | setosa |\n",
       "| 4.8    | 3.4    | 1.9    | 0.2    | setosa |\n",
       "| 5.0    | 3.0    | 1.6    | 0.2    | setosa |\n",
       "| 5.0    | 3.4    | 1.6    | 0.4    | setosa |\n",
       "| 5.2    | 3.5    | 1.5    | 0.2    | setosa |\n",
       "| 5.2    | 3.4    | 1.4    | 0.2    | setosa |\n",
       "| 4.7    | 3.2    | 1.6    | 0.2    | setosa |\n",
       "| ... | ... | ... | ... | ... |\n",
       "| 6.9       | 3.2       | 5.7       | 2.3       | virginica |\n",
       "| 5.6       | 2.8       | 4.9       | 2.0       | virginica |\n",
       "| 7.7       | 2.8       | 6.7       | 2.0       | virginica |\n",
       "| 6.3       | 2.7       | 4.9       | 1.8       | virginica |\n",
       "| 6.7       | 3.3       | 5.7       | 2.1       | virginica |\n",
       "| 7.2       | 3.2       | 6.0       | 1.8       | virginica |\n",
       "| 6.2       | 2.8       | 4.8       | 1.8       | virginica |\n",
       "| 6.1       | 3.0       | 4.9       | 1.8       | virginica |\n",
       "| 6.4       | 2.8       | 5.6       | 2.1       | virginica |\n",
       "| 7.2       | 3.0       | 5.8       | 1.6       | virginica |\n",
       "| 7.4       | 2.8       | 6.1       | 1.9       | virginica |\n",
       "| 7.9       | 3.8       | 6.4       | 2.0       | virginica |\n",
       "| 6.4       | 2.8       | 5.6       | 2.2       | virginica |\n",
       "| 6.3       | 2.8       | 5.1       | 1.5       | virginica |\n",
       "| 6.1       | 2.6       | 5.6       | 1.4       | virginica |\n",
       "| 7.7       | 3.0       | 6.1       | 2.3       | virginica |\n",
       "| 6.3       | 3.4       | 5.6       | 2.4       | virginica |\n",
       "| 6.4       | 3.1       | 5.5       | 1.8       | virginica |\n",
       "| 6.0       | 3.0       | 4.8       | 1.8       | virginica |\n",
       "| 6.9       | 3.1       | 5.4       | 2.1       | virginica |\n",
       "| 6.7       | 3.1       | 5.6       | 2.4       | virginica |\n",
       "| 6.9       | 3.1       | 5.1       | 2.3       | virginica |\n",
       "| 5.8       | 2.7       | 5.1       | 1.9       | virginica |\n",
       "| 6.8       | 3.2       | 5.9       | 2.3       | virginica |\n",
       "| 6.7       | 3.3       | 5.7       | 2.5       | virginica |\n",
       "| 6.7       | 3.0       | 5.2       | 2.3       | virginica |\n",
       "| 6.3       | 2.5       | 5.0       | 1.9       | virginica |\n",
       "| 6.5       | 3.0       | 5.2       | 2.0       | virginica |\n",
       "| 6.2       | 3.4       | 5.4       | 2.3       | virginica |\n",
       "| 5.9       | 3.0       | 5.1       | 1.8       | virginica |\n",
       "\n"
      ],
      "text/plain": [
       "    Sepal.Length Sepal.Width Petal.Length Petal.Width Species  \n",
       "1   5.1          3.5         1.4          0.2         setosa   \n",
       "2   4.9          3.0         1.4          0.2         setosa   \n",
       "3   4.7          3.2         1.3          0.2         setosa   \n",
       "4   4.6          3.1         1.5          0.2         setosa   \n",
       "5   5.0          3.6         1.4          0.2         setosa   \n",
       "6   5.4          3.9         1.7          0.4         setosa   \n",
       "7   4.6          3.4         1.4          0.3         setosa   \n",
       "8   5.0          3.4         1.5          0.2         setosa   \n",
       "9   4.4          2.9         1.4          0.2         setosa   \n",
       "10  4.9          3.1         1.5          0.1         setosa   \n",
       "11  5.4          3.7         1.5          0.2         setosa   \n",
       "12  4.8          3.4         1.6          0.2         setosa   \n",
       "13  4.8          3.0         1.4          0.1         setosa   \n",
       "14  4.3          3.0         1.1          0.1         setosa   \n",
       "15  5.8          4.0         1.2          0.2         setosa   \n",
       "16  5.7          4.4         1.5          0.4         setosa   \n",
       "17  5.4          3.9         1.3          0.4         setosa   \n",
       "18  5.1          3.5         1.4          0.3         setosa   \n",
       "19  5.7          3.8         1.7          0.3         setosa   \n",
       "20  5.1          3.8         1.5          0.3         setosa   \n",
       "21  5.4          3.4         1.7          0.2         setosa   \n",
       "22  5.1          3.7         1.5          0.4         setosa   \n",
       "23  4.6          3.6         1.0          0.2         setosa   \n",
       "24  5.1          3.3         1.7          0.5         setosa   \n",
       "25  4.8          3.4         1.9          0.2         setosa   \n",
       "26  5.0          3.0         1.6          0.2         setosa   \n",
       "27  5.0          3.4         1.6          0.4         setosa   \n",
       "28  5.2          3.5         1.5          0.2         setosa   \n",
       "29  5.2          3.4         1.4          0.2         setosa   \n",
       "30  4.7          3.2         1.6          0.2         setosa   \n",
       "... ...          ...         ...          ...         ...      \n",
       "121 6.9          3.2         5.7          2.3         virginica\n",
       "122 5.6          2.8         4.9          2.0         virginica\n",
       "123 7.7          2.8         6.7          2.0         virginica\n",
       "124 6.3          2.7         4.9          1.8         virginica\n",
       "125 6.7          3.3         5.7          2.1         virginica\n",
       "126 7.2          3.2         6.0          1.8         virginica\n",
       "127 6.2          2.8         4.8          1.8         virginica\n",
       "128 6.1          3.0         4.9          1.8         virginica\n",
       "129 6.4          2.8         5.6          2.1         virginica\n",
       "130 7.2          3.0         5.8          1.6         virginica\n",
       "131 7.4          2.8         6.1          1.9         virginica\n",
       "132 7.9          3.8         6.4          2.0         virginica\n",
       "133 6.4          2.8         5.6          2.2         virginica\n",
       "134 6.3          2.8         5.1          1.5         virginica\n",
       "135 6.1          2.6         5.6          1.4         virginica\n",
       "136 7.7          3.0         6.1          2.3         virginica\n",
       "137 6.3          3.4         5.6          2.4         virginica\n",
       "138 6.4          3.1         5.5          1.8         virginica\n",
       "139 6.0          3.0         4.8          1.8         virginica\n",
       "140 6.9          3.1         5.4          2.1         virginica\n",
       "141 6.7          3.1         5.6          2.4         virginica\n",
       "142 6.9          3.1         5.1          2.3         virginica\n",
       "143 5.8          2.7         5.1          1.9         virginica\n",
       "144 6.8          3.2         5.9          2.3         virginica\n",
       "145 6.7          3.3         5.7          2.5         virginica\n",
       "146 6.7          3.0         5.2          2.3         virginica\n",
       "147 6.3          2.5         5.0          1.9         virginica\n",
       "148 6.5          3.0         5.2          2.0         virginica\n",
       "149 6.2          3.4         5.4          2.3         virginica\n",
       "150 5.9          3.0         5.1          1.8         virginica"
      ]
     },
     "metadata": {},
     "output_type": "display_data"
    }
   ],
   "source": [
    "iris"
   ]
  },
  {
   "cell_type": "code",
   "execution_count": 11,
   "metadata": {},
   "outputs": [
    {
     "data": {
      "text/html": [
       "<table>\n",
       "<thead><tr><th></th><th scope=col>Sepal.Length</th><th scope=col>Sepal.Width</th><th scope=col>Petal.Length</th><th scope=col>Petal.Width</th><th scope=col>Species</th></tr></thead>\n",
       "<tbody>\n",
       "\t<tr><th scope=row>42</th><td>4.5   </td><td>2.3   </td><td>1.3   </td><td>0.3   </td><td>setosa</td></tr>\n",
       "\t<tr><th scope=row>9</th><td>4.4   </td><td>2.9   </td><td>1.4   </td><td>0.2   </td><td>setosa</td></tr>\n",
       "\t<tr><th scope=row>2</th><td>4.9   </td><td>3.0   </td><td>1.4   </td><td>0.2   </td><td>setosa</td></tr>\n",
       "\t<tr><th scope=row>13</th><td>4.8   </td><td>3.0   </td><td>1.4   </td><td>0.1   </td><td>setosa</td></tr>\n",
       "\t<tr><th scope=row>14</th><td>4.3   </td><td>3.0   </td><td>1.1   </td><td>0.1   </td><td>setosa</td></tr>\n",
       "\t<tr><th scope=row>26</th><td>5.0   </td><td>3.0   </td><td>1.6   </td><td>0.2   </td><td>setosa</td></tr>\n",
       "</tbody>\n",
       "</table>\n"
      ],
      "text/latex": [
       "\\begin{tabular}{r|lllll}\n",
       "  & Sepal.Length & Sepal.Width & Petal.Length & Petal.Width & Species\\\\\n",
       "\\hline\n",
       "\t42 & 4.5    & 2.3    & 1.3    & 0.3    & setosa\\\\\n",
       "\t9 & 4.4    & 2.9    & 1.4    & 0.2    & setosa\\\\\n",
       "\t2 & 4.9    & 3.0    & 1.4    & 0.2    & setosa\\\\\n",
       "\t13 & 4.8    & 3.0    & 1.4    & 0.1    & setosa\\\\\n",
       "\t14 & 4.3    & 3.0    & 1.1    & 0.1    & setosa\\\\\n",
       "\t26 & 5.0    & 3.0    & 1.6    & 0.2    & setosa\\\\\n",
       "\\end{tabular}\n"
      ],
      "text/markdown": [
       "\n",
       "| <!--/--> | Sepal.Length | Sepal.Width | Petal.Length | Petal.Width | Species |\n",
       "|---|---|---|---|---|---|\n",
       "| 42 | 4.5    | 2.3    | 1.3    | 0.3    | setosa |\n",
       "| 9 | 4.4    | 2.9    | 1.4    | 0.2    | setosa |\n",
       "| 2 | 4.9    | 3.0    | 1.4    | 0.2    | setosa |\n",
       "| 13 | 4.8    | 3.0    | 1.4    | 0.1    | setosa |\n",
       "| 14 | 4.3    | 3.0    | 1.1    | 0.1    | setosa |\n",
       "| 26 | 5.0    | 3.0    | 1.6    | 0.2    | setosa |\n",
       "\n"
      ],
      "text/plain": [
       "   Sepal.Length Sepal.Width Petal.Length Petal.Width Species\n",
       "42 4.5          2.3         1.3          0.3         setosa \n",
       "9  4.4          2.9         1.4          0.2         setosa \n",
       "2  4.9          3.0         1.4          0.2         setosa \n",
       "13 4.8          3.0         1.4          0.1         setosa \n",
       "14 4.3          3.0         1.1          0.1         setosa \n",
       "26 5.0          3.0         1.6          0.2         setosa "
      ]
     },
     "metadata": {},
     "output_type": "display_data"
    }
   ],
   "source": [
    "# Species, Sepal.Width 순으로 정렬\n",
    "head(orderBy(~ Species + Sepal.Width, iris))"
   ]
  },
  {
   "cell_type": "code",
   "execution_count": 27,
   "metadata": {
    "scrolled": true
   },
   "outputs": [
    {
     "data": {
      "text/html": [
       "<ol class=list-inline>\n",
       "\t<li>10</li>\n",
       "\t<li>7</li>\n",
       "\t<li>6</li>\n",
       "\t<li>3</li>\n",
       "\t<li>1</li>\n",
       "</ol>\n"
      ],
      "text/latex": [
       "\\begin{enumerate*}\n",
       "\\item 10\n",
       "\\item 7\n",
       "\\item 6\n",
       "\\item 3\n",
       "\\item 1\n",
       "\\end{enumerate*}\n"
      ],
      "text/markdown": [
       "1. 10\n",
       "2. 7\n",
       "3. 6\n",
       "4. 3\n",
       "5. 1\n",
       "\n",
       "\n"
      ],
      "text/plain": [
       "[1] 10  7  6  3  1"
      ]
     },
     "metadata": {},
     "output_type": "display_data"
    },
    {
     "data": {
      "text/html": [
       "<ol class=list-inline>\n",
       "\t<li>10</li>\n",
       "\t<li>7</li>\n",
       "\t<li>6</li>\n",
       "\t<li>6</li>\n",
       "\t<li>4</li>\n",
       "</ol>\n"
      ],
      "text/latex": [
       "\\begin{enumerate*}\n",
       "\\item 10\n",
       "\\item 7\n",
       "\\item 6\n",
       "\\item 6\n",
       "\\item 4\n",
       "\\end{enumerate*}\n"
      ],
      "text/markdown": [
       "1. 10\n",
       "2. 7\n",
       "3. 6\n",
       "4. 6\n",
       "5. 4\n",
       "\n",
       "\n"
      ],
      "text/plain": [
       "[1] 10  7  6  6  4"
      ]
     },
     "metadata": {},
     "output_type": "display_data"
    },
    {
     "data": {
      "text/html": [
       "<ol class=list-inline>\n",
       "\t<li>7</li>\n",
       "\t<li>6</li>\n",
       "\t<li>2</li>\n",
       "\t<li>10</li>\n",
       "\t<li>3</li>\n",
       "\t<li>8</li>\n",
       "\t<li>1</li>\n",
       "\t<li>9</li>\n",
       "\t<li>4</li>\n",
       "\t<li>5</li>\n",
       "</ol>\n"
      ],
      "text/latex": [
       "\\begin{enumerate*}\n",
       "\\item 7\n",
       "\\item 6\n",
       "\\item 2\n",
       "\\item 10\n",
       "\\item 3\n",
       "\\item 8\n",
       "\\item 1\n",
       "\\item 9\n",
       "\\item 4\n",
       "\\item 5\n",
       "\\end{enumerate*}\n"
      ],
      "text/markdown": [
       "1. 7\n",
       "2. 6\n",
       "3. 2\n",
       "4. 10\n",
       "5. 3\n",
       "6. 8\n",
       "7. 1\n",
       "8. 9\n",
       "9. 4\n",
       "10. 5\n",
       "\n",
       "\n"
      ],
      "text/plain": [
       " [1]  7  6  2 10  3  8  1  9  4  5"
      ]
     },
     "metadata": {},
     "output_type": "display_data"
    }
   ],
   "source": [
    "set.seed(100) #랜덤 시드(기준값) 고정\n",
    "sample (1:10,5) #1~10, 5개 선택\n",
    "sample (1:10,5,replace=T) #중복값을 허용\n",
    "sample (1:10,10) #10개중 10개 선택(셔플링 효과)"
   ]
  },
  {
   "cell_type": "code",
   "execution_count": 29,
   "metadata": {},
   "outputs": [
    {
     "data": {
      "text/html": [
       "<ol class=list-inline>\n",
       "\t<li>146</li>\n",
       "\t<li>25</li>\n",
       "\t<li>2</li>\n",
       "\t<li>68</li>\n",
       "\t<li>147</li>\n",
       "\t<li>48</li>\n",
       "\t<li>32</li>\n",
       "\t<li>85</li>\n",
       "\t<li>91</li>\n",
       "\t<li>121</li>\n",
       "</ol>\n"
      ],
      "text/latex": [
       "\\begin{enumerate*}\n",
       "\\item 146\n",
       "\\item 25\n",
       "\\item 2\n",
       "\\item 68\n",
       "\\item 147\n",
       "\\item 48\n",
       "\\item 32\n",
       "\\item 85\n",
       "\\item 91\n",
       "\\item 121\n",
       "\\end{enumerate*}\n"
      ],
      "text/markdown": [
       "1. 146\n",
       "2. 25\n",
       "3. 2\n",
       "4. 68\n",
       "5. 147\n",
       "6. 48\n",
       "7. 32\n",
       "8. 85\n",
       "9. 91\n",
       "10. 121\n",
       "\n",
       "\n"
      ],
      "text/plain": [
       " [1] 146  25   2  68 147  48  32  85  91 121"
      ]
     },
     "metadata": {},
     "output_type": "display_data"
    }
   ],
   "source": [
    "sample(1:150,10)"
   ]
  },
  {
   "cell_type": "code",
   "execution_count": 25,
   "metadata": {
    "scrolled": true
   },
   "outputs": [
    {
     "data": {
      "text/html": [
       "<table>\n",
       "<thead><tr><th></th><th scope=col>Sepal.Length</th><th scope=col>Sepal.Width</th><th scope=col>Petal.Length</th><th scope=col>Petal.Width</th><th scope=col>Species</th></tr></thead>\n",
       "<tbody>\n",
       "\t<tr><th scope=row>102</th><td>5.8       </td><td>2.7       </td><td>5.1       </td><td>1.9       </td><td>virginica </td></tr>\n",
       "\t<tr><th scope=row>112</th><td>6.4       </td><td>2.7       </td><td>5.3       </td><td>1.9       </td><td>virginica </td></tr>\n",
       "\t<tr><th scope=row>4</th><td>4.6       </td><td>3.1       </td><td>1.5       </td><td>0.2       </td><td>setosa    </td></tr>\n",
       "\t<tr><th scope=row>55</th><td>6.5       </td><td>2.8       </td><td>4.6       </td><td>1.5       </td><td>versicolor</td></tr>\n",
       "\t<tr><th scope=row>70</th><td>5.6       </td><td>2.5       </td><td>3.9       </td><td>1.1       </td><td>versicolor</td></tr>\n",
       "\t<tr><th scope=row>98</th><td>6.2       </td><td>2.9       </td><td>4.3       </td><td>1.3       </td><td>versicolor</td></tr>\n",
       "\t<tr><th scope=row>135</th><td>6.1       </td><td>2.6       </td><td>5.6       </td><td>1.4       </td><td>virginica </td></tr>\n",
       "\t<tr><th scope=row>7</th><td>4.6       </td><td>3.4       </td><td>1.4       </td><td>0.3       </td><td>setosa    </td></tr>\n",
       "\t<tr><th scope=row>43</th><td>4.4       </td><td>3.2       </td><td>1.3       </td><td>0.2       </td><td>setosa    </td></tr>\n",
       "\t<tr><th scope=row>140</th><td>6.9       </td><td>3.1       </td><td>5.4       </td><td>2.1       </td><td>virginica </td></tr>\n",
       "</tbody>\n",
       "</table>\n"
      ],
      "text/latex": [
       "\\begin{tabular}{r|lllll}\n",
       "  & Sepal.Length & Sepal.Width & Petal.Length & Petal.Width & Species\\\\\n",
       "\\hline\n",
       "\t102 & 5.8        & 2.7        & 5.1        & 1.9        & virginica \\\\\n",
       "\t112 & 6.4        & 2.7        & 5.3        & 1.9        & virginica \\\\\n",
       "\t4 & 4.6        & 3.1        & 1.5        & 0.2        & setosa    \\\\\n",
       "\t55 & 6.5        & 2.8        & 4.6        & 1.5        & versicolor\\\\\n",
       "\t70 & 5.6        & 2.5        & 3.9        & 1.1        & versicolor\\\\\n",
       "\t98 & 6.2        & 2.9        & 4.3        & 1.3        & versicolor\\\\\n",
       "\t135 & 6.1        & 2.6        & 5.6        & 1.4        & virginica \\\\\n",
       "\t7 & 4.6        & 3.4        & 1.4        & 0.3        & setosa    \\\\\n",
       "\t43 & 4.4        & 3.2        & 1.3        & 0.2        & setosa    \\\\\n",
       "\t140 & 6.9        & 3.1        & 5.4        & 2.1        & virginica \\\\\n",
       "\\end{tabular}\n"
      ],
      "text/markdown": [
       "\n",
       "| <!--/--> | Sepal.Length | Sepal.Width | Petal.Length | Petal.Width | Species |\n",
       "|---|---|---|---|---|---|\n",
       "| 102 | 5.8        | 2.7        | 5.1        | 1.9        | virginica  |\n",
       "| 112 | 6.4        | 2.7        | 5.3        | 1.9        | virginica  |\n",
       "| 4 | 4.6        | 3.1        | 1.5        | 0.2        | setosa     |\n",
       "| 55 | 6.5        | 2.8        | 4.6        | 1.5        | versicolor |\n",
       "| 70 | 5.6        | 2.5        | 3.9        | 1.1        | versicolor |\n",
       "| 98 | 6.2        | 2.9        | 4.3        | 1.3        | versicolor |\n",
       "| 135 | 6.1        | 2.6        | 5.6        | 1.4        | virginica  |\n",
       "| 7 | 4.6        | 3.4        | 1.4        | 0.3        | setosa     |\n",
       "| 43 | 4.4        | 3.2        | 1.3        | 0.2        | setosa     |\n",
       "| 140 | 6.9        | 3.1        | 5.4        | 2.1        | virginica  |\n",
       "\n"
      ],
      "text/plain": [
       "    Sepal.Length Sepal.Width Petal.Length Petal.Width Species   \n",
       "102 5.8          2.7         5.1          1.9         virginica \n",
       "112 6.4          2.7         5.3          1.9         virginica \n",
       "4   4.6          3.1         1.5          0.2         setosa    \n",
       "55  6.5          2.8         4.6          1.5         versicolor\n",
       "70  5.6          2.5         3.9          1.1         versicolor\n",
       "98  6.2          2.9         4.3          1.3         versicolor\n",
       "135 6.1          2.6         5.6          1.4         virginica \n",
       "7   4.6          3.4         1.4          0.3         setosa    \n",
       "43  4.4          3.2         1.3          0.2         setosa    \n",
       "140 6.9          3.1         5.4          2.1         virginica "
      ]
     },
     "metadata": {},
     "output_type": "display_data"
    }
   ],
   "source": [
    "set.seed(100) #랜덤 시드를 고정시키는 명령어(재현성)\n",
    "iris[sample(1:150,10),] #150행 중에서 10개 랜덤 샘플링"
   ]
  },
  {
   "cell_type": "code",
   "execution_count": 1,
   "metadata": {},
   "outputs": [
    {
     "name": "stderr",
     "output_type": "stream",
     "text": [
      "Warning message:\n",
      "\"package 'doBy' was built under R version 3.6.2\""
     ]
    }
   ],
   "source": [
    "library(doBy)"
   ]
  },
  {
   "cell_type": "code",
   "execution_count": 2,
   "metadata": {},
   "outputs": [
    {
     "data": {
      "text/html": [
       "<dl>\n",
       "\t<dt>$setosa</dt>\n",
       "\t\t<dd><table>\n",
       "<thead><tr><th scope=col>Sepal.Length</th><th scope=col>Sepal.Width</th><th scope=col>Petal.Length</th><th scope=col>Petal.Width</th><th scope=col>Species</th></tr></thead>\n",
       "<tbody>\n",
       "\t<tr><td>5.1   </td><td>3.5   </td><td>1.4   </td><td>0.2   </td><td>setosa</td></tr>\n",
       "\t<tr><td>4.9   </td><td>3.0   </td><td>1.4   </td><td>0.2   </td><td>setosa</td></tr>\n",
       "\t<tr><td>4.7   </td><td>3.2   </td><td>1.3   </td><td>0.2   </td><td>setosa</td></tr>\n",
       "\t<tr><td>4.6   </td><td>3.1   </td><td>1.5   </td><td>0.2   </td><td>setosa</td></tr>\n",
       "\t<tr><td>5.0   </td><td>3.6   </td><td>1.4   </td><td>0.2   </td><td>setosa</td></tr>\n",
       "\t<tr><td>5.4   </td><td>3.9   </td><td>1.7   </td><td>0.4   </td><td>setosa</td></tr>\n",
       "\t<tr><td>4.6   </td><td>3.4   </td><td>1.4   </td><td>0.3   </td><td>setosa</td></tr>\n",
       "\t<tr><td>5.0   </td><td>3.4   </td><td>1.5   </td><td>0.2   </td><td>setosa</td></tr>\n",
       "\t<tr><td>4.4   </td><td>2.9   </td><td>1.4   </td><td>0.2   </td><td>setosa</td></tr>\n",
       "\t<tr><td>4.9   </td><td>3.1   </td><td>1.5   </td><td>0.1   </td><td>setosa</td></tr>\n",
       "\t<tr><td>5.4   </td><td>3.7   </td><td>1.5   </td><td>0.2   </td><td>setosa</td></tr>\n",
       "\t<tr><td>4.8   </td><td>3.4   </td><td>1.6   </td><td>0.2   </td><td>setosa</td></tr>\n",
       "\t<tr><td>4.8   </td><td>3.0   </td><td>1.4   </td><td>0.1   </td><td>setosa</td></tr>\n",
       "\t<tr><td>4.3   </td><td>3.0   </td><td>1.1   </td><td>0.1   </td><td>setosa</td></tr>\n",
       "\t<tr><td>5.8   </td><td>4.0   </td><td>1.2   </td><td>0.2   </td><td>setosa</td></tr>\n",
       "\t<tr><td>5.7   </td><td>4.4   </td><td>1.5   </td><td>0.4   </td><td>setosa</td></tr>\n",
       "\t<tr><td>5.4   </td><td>3.9   </td><td>1.3   </td><td>0.4   </td><td>setosa</td></tr>\n",
       "\t<tr><td>5.1   </td><td>3.5   </td><td>1.4   </td><td>0.3   </td><td>setosa</td></tr>\n",
       "\t<tr><td>5.7   </td><td>3.8   </td><td>1.7   </td><td>0.3   </td><td>setosa</td></tr>\n",
       "\t<tr><td>5.1   </td><td>3.8   </td><td>1.5   </td><td>0.3   </td><td>setosa</td></tr>\n",
       "\t<tr><td>5.4   </td><td>3.4   </td><td>1.7   </td><td>0.2   </td><td>setosa</td></tr>\n",
       "\t<tr><td>5.1   </td><td>3.7   </td><td>1.5   </td><td>0.4   </td><td>setosa</td></tr>\n",
       "\t<tr><td>4.6   </td><td>3.6   </td><td>1.0   </td><td>0.2   </td><td>setosa</td></tr>\n",
       "\t<tr><td>5.1   </td><td>3.3   </td><td>1.7   </td><td>0.5   </td><td>setosa</td></tr>\n",
       "\t<tr><td>4.8   </td><td>3.4   </td><td>1.9   </td><td>0.2   </td><td>setosa</td></tr>\n",
       "\t<tr><td>5.0   </td><td>3.0   </td><td>1.6   </td><td>0.2   </td><td>setosa</td></tr>\n",
       "\t<tr><td>5.0   </td><td>3.4   </td><td>1.6   </td><td>0.4   </td><td>setosa</td></tr>\n",
       "\t<tr><td>5.2   </td><td>3.5   </td><td>1.5   </td><td>0.2   </td><td>setosa</td></tr>\n",
       "\t<tr><td>5.2   </td><td>3.4   </td><td>1.4   </td><td>0.2   </td><td>setosa</td></tr>\n",
       "\t<tr><td>4.7   </td><td>3.2   </td><td>1.6   </td><td>0.2   </td><td>setosa</td></tr>\n",
       "\t<tr><td>4.8   </td><td>3.1   </td><td>1.6   </td><td>0.2   </td><td>setosa</td></tr>\n",
       "\t<tr><td>5.4   </td><td>3.4   </td><td>1.5   </td><td>0.4   </td><td>setosa</td></tr>\n",
       "\t<tr><td>5.2   </td><td>4.1   </td><td>1.5   </td><td>0.1   </td><td>setosa</td></tr>\n",
       "\t<tr><td>5.5   </td><td>4.2   </td><td>1.4   </td><td>0.2   </td><td>setosa</td></tr>\n",
       "\t<tr><td>4.9   </td><td>3.1   </td><td>1.5   </td><td>0.2   </td><td>setosa</td></tr>\n",
       "\t<tr><td>5.0   </td><td>3.2   </td><td>1.2   </td><td>0.2   </td><td>setosa</td></tr>\n",
       "\t<tr><td>5.5   </td><td>3.5   </td><td>1.3   </td><td>0.2   </td><td>setosa</td></tr>\n",
       "\t<tr><td>4.9   </td><td>3.6   </td><td>1.4   </td><td>0.1   </td><td>setosa</td></tr>\n",
       "\t<tr><td>4.4   </td><td>3.0   </td><td>1.3   </td><td>0.2   </td><td>setosa</td></tr>\n",
       "\t<tr><td>5.1   </td><td>3.4   </td><td>1.5   </td><td>0.2   </td><td>setosa</td></tr>\n",
       "\t<tr><td>5.0   </td><td>3.5   </td><td>1.3   </td><td>0.3   </td><td>setosa</td></tr>\n",
       "\t<tr><td>4.5   </td><td>2.3   </td><td>1.3   </td><td>0.3   </td><td>setosa</td></tr>\n",
       "\t<tr><td>4.4   </td><td>3.2   </td><td>1.3   </td><td>0.2   </td><td>setosa</td></tr>\n",
       "\t<tr><td>5.0   </td><td>3.5   </td><td>1.6   </td><td>0.6   </td><td>setosa</td></tr>\n",
       "\t<tr><td>5.1   </td><td>3.8   </td><td>1.9   </td><td>0.4   </td><td>setosa</td></tr>\n",
       "\t<tr><td>4.8   </td><td>3.0   </td><td>1.4   </td><td>0.3   </td><td>setosa</td></tr>\n",
       "\t<tr><td>5.1   </td><td>3.8   </td><td>1.6   </td><td>0.2   </td><td>setosa</td></tr>\n",
       "\t<tr><td>4.6   </td><td>3.2   </td><td>1.4   </td><td>0.2   </td><td>setosa</td></tr>\n",
       "\t<tr><td>5.3   </td><td>3.7   </td><td>1.5   </td><td>0.2   </td><td>setosa</td></tr>\n",
       "\t<tr><td>5.0   </td><td>3.3   </td><td>1.4   </td><td>0.2   </td><td>setosa</td></tr>\n",
       "</tbody>\n",
       "</table>\n",
       "</dd>\n",
       "\t<dt>$versicolor</dt>\n",
       "\t\t<dd><table>\n",
       "<thead><tr><th></th><th scope=col>Sepal.Length</th><th scope=col>Sepal.Width</th><th scope=col>Petal.Length</th><th scope=col>Petal.Width</th><th scope=col>Species</th></tr></thead>\n",
       "<tbody>\n",
       "\t<tr><th scope=row>51</th><td>7.0       </td><td>3.2       </td><td>4.7       </td><td>1.4       </td><td>versicolor</td></tr>\n",
       "\t<tr><th scope=row>52</th><td>6.4       </td><td>3.2       </td><td>4.5       </td><td>1.5       </td><td>versicolor</td></tr>\n",
       "\t<tr><th scope=row>53</th><td>6.9       </td><td>3.1       </td><td>4.9       </td><td>1.5       </td><td>versicolor</td></tr>\n",
       "\t<tr><th scope=row>54</th><td>5.5       </td><td>2.3       </td><td>4.0       </td><td>1.3       </td><td>versicolor</td></tr>\n",
       "\t<tr><th scope=row>55</th><td>6.5       </td><td>2.8       </td><td>4.6       </td><td>1.5       </td><td>versicolor</td></tr>\n",
       "\t<tr><th scope=row>56</th><td>5.7       </td><td>2.8       </td><td>4.5       </td><td>1.3       </td><td>versicolor</td></tr>\n",
       "\t<tr><th scope=row>57</th><td>6.3       </td><td>3.3       </td><td>4.7       </td><td>1.6       </td><td>versicolor</td></tr>\n",
       "\t<tr><th scope=row>58</th><td>4.9       </td><td>2.4       </td><td>3.3       </td><td>1.0       </td><td>versicolor</td></tr>\n",
       "\t<tr><th scope=row>59</th><td>6.6       </td><td>2.9       </td><td>4.6       </td><td>1.3       </td><td>versicolor</td></tr>\n",
       "\t<tr><th scope=row>60</th><td>5.2       </td><td>2.7       </td><td>3.9       </td><td>1.4       </td><td>versicolor</td></tr>\n",
       "\t<tr><th scope=row>61</th><td>5.0       </td><td>2.0       </td><td>3.5       </td><td>1.0       </td><td>versicolor</td></tr>\n",
       "\t<tr><th scope=row>62</th><td>5.9       </td><td>3.0       </td><td>4.2       </td><td>1.5       </td><td>versicolor</td></tr>\n",
       "\t<tr><th scope=row>63</th><td>6.0       </td><td>2.2       </td><td>4.0       </td><td>1.0       </td><td>versicolor</td></tr>\n",
       "\t<tr><th scope=row>64</th><td>6.1       </td><td>2.9       </td><td>4.7       </td><td>1.4       </td><td>versicolor</td></tr>\n",
       "\t<tr><th scope=row>65</th><td>5.6       </td><td>2.9       </td><td>3.6       </td><td>1.3       </td><td>versicolor</td></tr>\n",
       "\t<tr><th scope=row>66</th><td>6.7       </td><td>3.1       </td><td>4.4       </td><td>1.4       </td><td>versicolor</td></tr>\n",
       "\t<tr><th scope=row>67</th><td>5.6       </td><td>3.0       </td><td>4.5       </td><td>1.5       </td><td>versicolor</td></tr>\n",
       "\t<tr><th scope=row>68</th><td>5.8       </td><td>2.7       </td><td>4.1       </td><td>1.0       </td><td>versicolor</td></tr>\n",
       "\t<tr><th scope=row>69</th><td>6.2       </td><td>2.2       </td><td>4.5       </td><td>1.5       </td><td>versicolor</td></tr>\n",
       "\t<tr><th scope=row>70</th><td>5.6       </td><td>2.5       </td><td>3.9       </td><td>1.1       </td><td>versicolor</td></tr>\n",
       "\t<tr><th scope=row>71</th><td>5.9       </td><td>3.2       </td><td>4.8       </td><td>1.8       </td><td>versicolor</td></tr>\n",
       "\t<tr><th scope=row>72</th><td>6.1       </td><td>2.8       </td><td>4.0       </td><td>1.3       </td><td>versicolor</td></tr>\n",
       "\t<tr><th scope=row>73</th><td>6.3       </td><td>2.5       </td><td>4.9       </td><td>1.5       </td><td>versicolor</td></tr>\n",
       "\t<tr><th scope=row>74</th><td>6.1       </td><td>2.8       </td><td>4.7       </td><td>1.2       </td><td>versicolor</td></tr>\n",
       "\t<tr><th scope=row>75</th><td>6.4       </td><td>2.9       </td><td>4.3       </td><td>1.3       </td><td>versicolor</td></tr>\n",
       "\t<tr><th scope=row>76</th><td>6.6       </td><td>3.0       </td><td>4.4       </td><td>1.4       </td><td>versicolor</td></tr>\n",
       "\t<tr><th scope=row>77</th><td>6.8       </td><td>2.8       </td><td>4.8       </td><td>1.4       </td><td>versicolor</td></tr>\n",
       "\t<tr><th scope=row>78</th><td>6.7       </td><td>3.0       </td><td>5.0       </td><td>1.7       </td><td>versicolor</td></tr>\n",
       "\t<tr><th scope=row>79</th><td>6.0       </td><td>2.9       </td><td>4.5       </td><td>1.5       </td><td>versicolor</td></tr>\n",
       "\t<tr><th scope=row>80</th><td>5.7       </td><td>2.6       </td><td>3.5       </td><td>1.0       </td><td>versicolor</td></tr>\n",
       "\t<tr><th scope=row>81</th><td>5.5       </td><td>2.4       </td><td>3.8       </td><td>1.1       </td><td>versicolor</td></tr>\n",
       "\t<tr><th scope=row>82</th><td>5.5       </td><td>2.4       </td><td>3.7       </td><td>1.0       </td><td>versicolor</td></tr>\n",
       "\t<tr><th scope=row>83</th><td>5.8       </td><td>2.7       </td><td>3.9       </td><td>1.2       </td><td>versicolor</td></tr>\n",
       "\t<tr><th scope=row>84</th><td>6.0       </td><td>2.7       </td><td>5.1       </td><td>1.6       </td><td>versicolor</td></tr>\n",
       "\t<tr><th scope=row>85</th><td>5.4       </td><td>3.0       </td><td>4.5       </td><td>1.5       </td><td>versicolor</td></tr>\n",
       "\t<tr><th scope=row>86</th><td>6.0       </td><td>3.4       </td><td>4.5       </td><td>1.6       </td><td>versicolor</td></tr>\n",
       "\t<tr><th scope=row>87</th><td>6.7       </td><td>3.1       </td><td>4.7       </td><td>1.5       </td><td>versicolor</td></tr>\n",
       "\t<tr><th scope=row>88</th><td>6.3       </td><td>2.3       </td><td>4.4       </td><td>1.3       </td><td>versicolor</td></tr>\n",
       "\t<tr><th scope=row>89</th><td>5.6       </td><td>3.0       </td><td>4.1       </td><td>1.3       </td><td>versicolor</td></tr>\n",
       "\t<tr><th scope=row>90</th><td>5.5       </td><td>2.5       </td><td>4.0       </td><td>1.3       </td><td>versicolor</td></tr>\n",
       "\t<tr><th scope=row>91</th><td>5.5       </td><td>2.6       </td><td>4.4       </td><td>1.2       </td><td>versicolor</td></tr>\n",
       "\t<tr><th scope=row>92</th><td>6.1       </td><td>3.0       </td><td>4.6       </td><td>1.4       </td><td>versicolor</td></tr>\n",
       "\t<tr><th scope=row>93</th><td>5.8       </td><td>2.6       </td><td>4.0       </td><td>1.2       </td><td>versicolor</td></tr>\n",
       "\t<tr><th scope=row>94</th><td>5.0       </td><td>2.3       </td><td>3.3       </td><td>1.0       </td><td>versicolor</td></tr>\n",
       "\t<tr><th scope=row>95</th><td>5.6       </td><td>2.7       </td><td>4.2       </td><td>1.3       </td><td>versicolor</td></tr>\n",
       "\t<tr><th scope=row>96</th><td>5.7       </td><td>3.0       </td><td>4.2       </td><td>1.2       </td><td>versicolor</td></tr>\n",
       "\t<tr><th scope=row>97</th><td>5.7       </td><td>2.9       </td><td>4.2       </td><td>1.3       </td><td>versicolor</td></tr>\n",
       "\t<tr><th scope=row>98</th><td>6.2       </td><td>2.9       </td><td>4.3       </td><td>1.3       </td><td>versicolor</td></tr>\n",
       "\t<tr><th scope=row>99</th><td>5.1       </td><td>2.5       </td><td>3.0       </td><td>1.1       </td><td>versicolor</td></tr>\n",
       "\t<tr><th scope=row>100</th><td>5.7       </td><td>2.8       </td><td>4.1       </td><td>1.3       </td><td>versicolor</td></tr>\n",
       "</tbody>\n",
       "</table>\n",
       "</dd>\n",
       "\t<dt>$virginica</dt>\n",
       "\t\t<dd><table>\n",
       "<thead><tr><th></th><th scope=col>Sepal.Length</th><th scope=col>Sepal.Width</th><th scope=col>Petal.Length</th><th scope=col>Petal.Width</th><th scope=col>Species</th></tr></thead>\n",
       "<tbody>\n",
       "\t<tr><th scope=row>101</th><td>6.3      </td><td>3.3      </td><td>6.0      </td><td>2.5      </td><td>virginica</td></tr>\n",
       "\t<tr><th scope=row>102</th><td>5.8      </td><td>2.7      </td><td>5.1      </td><td>1.9      </td><td>virginica</td></tr>\n",
       "\t<tr><th scope=row>103</th><td>7.1      </td><td>3.0      </td><td>5.9      </td><td>2.1      </td><td>virginica</td></tr>\n",
       "\t<tr><th scope=row>104</th><td>6.3      </td><td>2.9      </td><td>5.6      </td><td>1.8      </td><td>virginica</td></tr>\n",
       "\t<tr><th scope=row>105</th><td>6.5      </td><td>3.0      </td><td>5.8      </td><td>2.2      </td><td>virginica</td></tr>\n",
       "\t<tr><th scope=row>106</th><td>7.6      </td><td>3.0      </td><td>6.6      </td><td>2.1      </td><td>virginica</td></tr>\n",
       "\t<tr><th scope=row>107</th><td>4.9      </td><td>2.5      </td><td>4.5      </td><td>1.7      </td><td>virginica</td></tr>\n",
       "\t<tr><th scope=row>108</th><td>7.3      </td><td>2.9      </td><td>6.3      </td><td>1.8      </td><td>virginica</td></tr>\n",
       "\t<tr><th scope=row>109</th><td>6.7      </td><td>2.5      </td><td>5.8      </td><td>1.8      </td><td>virginica</td></tr>\n",
       "\t<tr><th scope=row>110</th><td>7.2      </td><td>3.6      </td><td>6.1      </td><td>2.5      </td><td>virginica</td></tr>\n",
       "\t<tr><th scope=row>111</th><td>6.5      </td><td>3.2      </td><td>5.1      </td><td>2.0      </td><td>virginica</td></tr>\n",
       "\t<tr><th scope=row>112</th><td>6.4      </td><td>2.7      </td><td>5.3      </td><td>1.9      </td><td>virginica</td></tr>\n",
       "\t<tr><th scope=row>113</th><td>6.8      </td><td>3.0      </td><td>5.5      </td><td>2.1      </td><td>virginica</td></tr>\n",
       "\t<tr><th scope=row>114</th><td>5.7      </td><td>2.5      </td><td>5.0      </td><td>2.0      </td><td>virginica</td></tr>\n",
       "\t<tr><th scope=row>115</th><td>5.8      </td><td>2.8      </td><td>5.1      </td><td>2.4      </td><td>virginica</td></tr>\n",
       "\t<tr><th scope=row>116</th><td>6.4      </td><td>3.2      </td><td>5.3      </td><td>2.3      </td><td>virginica</td></tr>\n",
       "\t<tr><th scope=row>117</th><td>6.5      </td><td>3.0      </td><td>5.5      </td><td>1.8      </td><td>virginica</td></tr>\n",
       "\t<tr><th scope=row>118</th><td>7.7      </td><td>3.8      </td><td>6.7      </td><td>2.2      </td><td>virginica</td></tr>\n",
       "\t<tr><th scope=row>119</th><td>7.7      </td><td>2.6      </td><td>6.9      </td><td>2.3      </td><td>virginica</td></tr>\n",
       "\t<tr><th scope=row>120</th><td>6.0      </td><td>2.2      </td><td>5.0      </td><td>1.5      </td><td>virginica</td></tr>\n",
       "\t<tr><th scope=row>121</th><td>6.9      </td><td>3.2      </td><td>5.7      </td><td>2.3      </td><td>virginica</td></tr>\n",
       "\t<tr><th scope=row>122</th><td>5.6      </td><td>2.8      </td><td>4.9      </td><td>2.0      </td><td>virginica</td></tr>\n",
       "\t<tr><th scope=row>123</th><td>7.7      </td><td>2.8      </td><td>6.7      </td><td>2.0      </td><td>virginica</td></tr>\n",
       "\t<tr><th scope=row>124</th><td>6.3      </td><td>2.7      </td><td>4.9      </td><td>1.8      </td><td>virginica</td></tr>\n",
       "\t<tr><th scope=row>125</th><td>6.7      </td><td>3.3      </td><td>5.7      </td><td>2.1      </td><td>virginica</td></tr>\n",
       "\t<tr><th scope=row>126</th><td>7.2      </td><td>3.2      </td><td>6.0      </td><td>1.8      </td><td>virginica</td></tr>\n",
       "\t<tr><th scope=row>127</th><td>6.2      </td><td>2.8      </td><td>4.8      </td><td>1.8      </td><td>virginica</td></tr>\n",
       "\t<tr><th scope=row>128</th><td>6.1      </td><td>3.0      </td><td>4.9      </td><td>1.8      </td><td>virginica</td></tr>\n",
       "\t<tr><th scope=row>129</th><td>6.4      </td><td>2.8      </td><td>5.6      </td><td>2.1      </td><td>virginica</td></tr>\n",
       "\t<tr><th scope=row>130</th><td>7.2      </td><td>3.0      </td><td>5.8      </td><td>1.6      </td><td>virginica</td></tr>\n",
       "\t<tr><th scope=row>131</th><td>7.4      </td><td>2.8      </td><td>6.1      </td><td>1.9      </td><td>virginica</td></tr>\n",
       "\t<tr><th scope=row>132</th><td>7.9      </td><td>3.8      </td><td>6.4      </td><td>2.0      </td><td>virginica</td></tr>\n",
       "\t<tr><th scope=row>133</th><td>6.4      </td><td>2.8      </td><td>5.6      </td><td>2.2      </td><td>virginica</td></tr>\n",
       "\t<tr><th scope=row>134</th><td>6.3      </td><td>2.8      </td><td>5.1      </td><td>1.5      </td><td>virginica</td></tr>\n",
       "\t<tr><th scope=row>135</th><td>6.1      </td><td>2.6      </td><td>5.6      </td><td>1.4      </td><td>virginica</td></tr>\n",
       "\t<tr><th scope=row>136</th><td>7.7      </td><td>3.0      </td><td>6.1      </td><td>2.3      </td><td>virginica</td></tr>\n",
       "\t<tr><th scope=row>137</th><td>6.3      </td><td>3.4      </td><td>5.6      </td><td>2.4      </td><td>virginica</td></tr>\n",
       "\t<tr><th scope=row>138</th><td>6.4      </td><td>3.1      </td><td>5.5      </td><td>1.8      </td><td>virginica</td></tr>\n",
       "\t<tr><th scope=row>139</th><td>6.0      </td><td>3.0      </td><td>4.8      </td><td>1.8      </td><td>virginica</td></tr>\n",
       "\t<tr><th scope=row>140</th><td>6.9      </td><td>3.1      </td><td>5.4      </td><td>2.1      </td><td>virginica</td></tr>\n",
       "\t<tr><th scope=row>141</th><td>6.7      </td><td>3.1      </td><td>5.6      </td><td>2.4      </td><td>virginica</td></tr>\n",
       "\t<tr><th scope=row>142</th><td>6.9      </td><td>3.1      </td><td>5.1      </td><td>2.3      </td><td>virginica</td></tr>\n",
       "\t<tr><th scope=row>143</th><td>5.8      </td><td>2.7      </td><td>5.1      </td><td>1.9      </td><td>virginica</td></tr>\n",
       "\t<tr><th scope=row>144</th><td>6.8      </td><td>3.2      </td><td>5.9      </td><td>2.3      </td><td>virginica</td></tr>\n",
       "\t<tr><th scope=row>145</th><td>6.7      </td><td>3.3      </td><td>5.7      </td><td>2.5      </td><td>virginica</td></tr>\n",
       "\t<tr><th scope=row>146</th><td>6.7      </td><td>3.0      </td><td>5.2      </td><td>2.3      </td><td>virginica</td></tr>\n",
       "\t<tr><th scope=row>147</th><td>6.3      </td><td>2.5      </td><td>5.0      </td><td>1.9      </td><td>virginica</td></tr>\n",
       "\t<tr><th scope=row>148</th><td>6.5      </td><td>3.0      </td><td>5.2      </td><td>2.0      </td><td>virginica</td></tr>\n",
       "\t<tr><th scope=row>149</th><td>6.2      </td><td>3.4      </td><td>5.4      </td><td>2.3      </td><td>virginica</td></tr>\n",
       "\t<tr><th scope=row>150</th><td>5.9      </td><td>3.0      </td><td>5.1      </td><td>1.8      </td><td>virginica</td></tr>\n",
       "</tbody>\n",
       "</table>\n",
       "</dd>\n",
       "</dl>\n"
      ],
      "text/latex": [
       "\\begin{description}\n",
       "\\item[\\$setosa] \\begin{tabular}{r|lllll}\n",
       " Sepal.Length & Sepal.Width & Petal.Length & Petal.Width & Species\\\\\n",
       "\\hline\n",
       "\t 5.1    & 3.5    & 1.4    & 0.2    & setosa\\\\\n",
       "\t 4.9    & 3.0    & 1.4    & 0.2    & setosa\\\\\n",
       "\t 4.7    & 3.2    & 1.3    & 0.2    & setosa\\\\\n",
       "\t 4.6    & 3.1    & 1.5    & 0.2    & setosa\\\\\n",
       "\t 5.0    & 3.6    & 1.4    & 0.2    & setosa\\\\\n",
       "\t 5.4    & 3.9    & 1.7    & 0.4    & setosa\\\\\n",
       "\t 4.6    & 3.4    & 1.4    & 0.3    & setosa\\\\\n",
       "\t 5.0    & 3.4    & 1.5    & 0.2    & setosa\\\\\n",
       "\t 4.4    & 2.9    & 1.4    & 0.2    & setosa\\\\\n",
       "\t 4.9    & 3.1    & 1.5    & 0.1    & setosa\\\\\n",
       "\t 5.4    & 3.7    & 1.5    & 0.2    & setosa\\\\\n",
       "\t 4.8    & 3.4    & 1.6    & 0.2    & setosa\\\\\n",
       "\t 4.8    & 3.0    & 1.4    & 0.1    & setosa\\\\\n",
       "\t 4.3    & 3.0    & 1.1    & 0.1    & setosa\\\\\n",
       "\t 5.8    & 4.0    & 1.2    & 0.2    & setosa\\\\\n",
       "\t 5.7    & 4.4    & 1.5    & 0.4    & setosa\\\\\n",
       "\t 5.4    & 3.9    & 1.3    & 0.4    & setosa\\\\\n",
       "\t 5.1    & 3.5    & 1.4    & 0.3    & setosa\\\\\n",
       "\t 5.7    & 3.8    & 1.7    & 0.3    & setosa\\\\\n",
       "\t 5.1    & 3.8    & 1.5    & 0.3    & setosa\\\\\n",
       "\t 5.4    & 3.4    & 1.7    & 0.2    & setosa\\\\\n",
       "\t 5.1    & 3.7    & 1.5    & 0.4    & setosa\\\\\n",
       "\t 4.6    & 3.6    & 1.0    & 0.2    & setosa\\\\\n",
       "\t 5.1    & 3.3    & 1.7    & 0.5    & setosa\\\\\n",
       "\t 4.8    & 3.4    & 1.9    & 0.2    & setosa\\\\\n",
       "\t 5.0    & 3.0    & 1.6    & 0.2    & setosa\\\\\n",
       "\t 5.0    & 3.4    & 1.6    & 0.4    & setosa\\\\\n",
       "\t 5.2    & 3.5    & 1.5    & 0.2    & setosa\\\\\n",
       "\t 5.2    & 3.4    & 1.4    & 0.2    & setosa\\\\\n",
       "\t 4.7    & 3.2    & 1.6    & 0.2    & setosa\\\\\n",
       "\t 4.8    & 3.1    & 1.6    & 0.2    & setosa\\\\\n",
       "\t 5.4    & 3.4    & 1.5    & 0.4    & setosa\\\\\n",
       "\t 5.2    & 4.1    & 1.5    & 0.1    & setosa\\\\\n",
       "\t 5.5    & 4.2    & 1.4    & 0.2    & setosa\\\\\n",
       "\t 4.9    & 3.1    & 1.5    & 0.2    & setosa\\\\\n",
       "\t 5.0    & 3.2    & 1.2    & 0.2    & setosa\\\\\n",
       "\t 5.5    & 3.5    & 1.3    & 0.2    & setosa\\\\\n",
       "\t 4.9    & 3.6    & 1.4    & 0.1    & setosa\\\\\n",
       "\t 4.4    & 3.0    & 1.3    & 0.2    & setosa\\\\\n",
       "\t 5.1    & 3.4    & 1.5    & 0.2    & setosa\\\\\n",
       "\t 5.0    & 3.5    & 1.3    & 0.3    & setosa\\\\\n",
       "\t 4.5    & 2.3    & 1.3    & 0.3    & setosa\\\\\n",
       "\t 4.4    & 3.2    & 1.3    & 0.2    & setosa\\\\\n",
       "\t 5.0    & 3.5    & 1.6    & 0.6    & setosa\\\\\n",
       "\t 5.1    & 3.8    & 1.9    & 0.4    & setosa\\\\\n",
       "\t 4.8    & 3.0    & 1.4    & 0.3    & setosa\\\\\n",
       "\t 5.1    & 3.8    & 1.6    & 0.2    & setosa\\\\\n",
       "\t 4.6    & 3.2    & 1.4    & 0.2    & setosa\\\\\n",
       "\t 5.3    & 3.7    & 1.5    & 0.2    & setosa\\\\\n",
       "\t 5.0    & 3.3    & 1.4    & 0.2    & setosa\\\\\n",
       "\\end{tabular}\n",
       "\n",
       "\\item[\\$versicolor] \\begin{tabular}{r|lllll}\n",
       "  & Sepal.Length & Sepal.Width & Petal.Length & Petal.Width & Species\\\\\n",
       "\\hline\n",
       "\t51 & 7.0        & 3.2        & 4.7        & 1.4        & versicolor\\\\\n",
       "\t52 & 6.4        & 3.2        & 4.5        & 1.5        & versicolor\\\\\n",
       "\t53 & 6.9        & 3.1        & 4.9        & 1.5        & versicolor\\\\\n",
       "\t54 & 5.5        & 2.3        & 4.0        & 1.3        & versicolor\\\\\n",
       "\t55 & 6.5        & 2.8        & 4.6        & 1.5        & versicolor\\\\\n",
       "\t56 & 5.7        & 2.8        & 4.5        & 1.3        & versicolor\\\\\n",
       "\t57 & 6.3        & 3.3        & 4.7        & 1.6        & versicolor\\\\\n",
       "\t58 & 4.9        & 2.4        & 3.3        & 1.0        & versicolor\\\\\n",
       "\t59 & 6.6        & 2.9        & 4.6        & 1.3        & versicolor\\\\\n",
       "\t60 & 5.2        & 2.7        & 3.9        & 1.4        & versicolor\\\\\n",
       "\t61 & 5.0        & 2.0        & 3.5        & 1.0        & versicolor\\\\\n",
       "\t62 & 5.9        & 3.0        & 4.2        & 1.5        & versicolor\\\\\n",
       "\t63 & 6.0        & 2.2        & 4.0        & 1.0        & versicolor\\\\\n",
       "\t64 & 6.1        & 2.9        & 4.7        & 1.4        & versicolor\\\\\n",
       "\t65 & 5.6        & 2.9        & 3.6        & 1.3        & versicolor\\\\\n",
       "\t66 & 6.7        & 3.1        & 4.4        & 1.4        & versicolor\\\\\n",
       "\t67 & 5.6        & 3.0        & 4.5        & 1.5        & versicolor\\\\\n",
       "\t68 & 5.8        & 2.7        & 4.1        & 1.0        & versicolor\\\\\n",
       "\t69 & 6.2        & 2.2        & 4.5        & 1.5        & versicolor\\\\\n",
       "\t70 & 5.6        & 2.5        & 3.9        & 1.1        & versicolor\\\\\n",
       "\t71 & 5.9        & 3.2        & 4.8        & 1.8        & versicolor\\\\\n",
       "\t72 & 6.1        & 2.8        & 4.0        & 1.3        & versicolor\\\\\n",
       "\t73 & 6.3        & 2.5        & 4.9        & 1.5        & versicolor\\\\\n",
       "\t74 & 6.1        & 2.8        & 4.7        & 1.2        & versicolor\\\\\n",
       "\t75 & 6.4        & 2.9        & 4.3        & 1.3        & versicolor\\\\\n",
       "\t76 & 6.6        & 3.0        & 4.4        & 1.4        & versicolor\\\\\n",
       "\t77 & 6.8        & 2.8        & 4.8        & 1.4        & versicolor\\\\\n",
       "\t78 & 6.7        & 3.0        & 5.0        & 1.7        & versicolor\\\\\n",
       "\t79 & 6.0        & 2.9        & 4.5        & 1.5        & versicolor\\\\\n",
       "\t80 & 5.7        & 2.6        & 3.5        & 1.0        & versicolor\\\\\n",
       "\t81 & 5.5        & 2.4        & 3.8        & 1.1        & versicolor\\\\\n",
       "\t82 & 5.5        & 2.4        & 3.7        & 1.0        & versicolor\\\\\n",
       "\t83 & 5.8        & 2.7        & 3.9        & 1.2        & versicolor\\\\\n",
       "\t84 & 6.0        & 2.7        & 5.1        & 1.6        & versicolor\\\\\n",
       "\t85 & 5.4        & 3.0        & 4.5        & 1.5        & versicolor\\\\\n",
       "\t86 & 6.0        & 3.4        & 4.5        & 1.6        & versicolor\\\\\n",
       "\t87 & 6.7        & 3.1        & 4.7        & 1.5        & versicolor\\\\\n",
       "\t88 & 6.3        & 2.3        & 4.4        & 1.3        & versicolor\\\\\n",
       "\t89 & 5.6        & 3.0        & 4.1        & 1.3        & versicolor\\\\\n",
       "\t90 & 5.5        & 2.5        & 4.0        & 1.3        & versicolor\\\\\n",
       "\t91 & 5.5        & 2.6        & 4.4        & 1.2        & versicolor\\\\\n",
       "\t92 & 6.1        & 3.0        & 4.6        & 1.4        & versicolor\\\\\n",
       "\t93 & 5.8        & 2.6        & 4.0        & 1.2        & versicolor\\\\\n",
       "\t94 & 5.0        & 2.3        & 3.3        & 1.0        & versicolor\\\\\n",
       "\t95 & 5.6        & 2.7        & 4.2        & 1.3        & versicolor\\\\\n",
       "\t96 & 5.7        & 3.0        & 4.2        & 1.2        & versicolor\\\\\n",
       "\t97 & 5.7        & 2.9        & 4.2        & 1.3        & versicolor\\\\\n",
       "\t98 & 6.2        & 2.9        & 4.3        & 1.3        & versicolor\\\\\n",
       "\t99 & 5.1        & 2.5        & 3.0        & 1.1        & versicolor\\\\\n",
       "\t100 & 5.7        & 2.8        & 4.1        & 1.3        & versicolor\\\\\n",
       "\\end{tabular}\n",
       "\n",
       "\\item[\\$virginica] \\begin{tabular}{r|lllll}\n",
       "  & Sepal.Length & Sepal.Width & Petal.Length & Petal.Width & Species\\\\\n",
       "\\hline\n",
       "\t101 & 6.3       & 3.3       & 6.0       & 2.5       & virginica\\\\\n",
       "\t102 & 5.8       & 2.7       & 5.1       & 1.9       & virginica\\\\\n",
       "\t103 & 7.1       & 3.0       & 5.9       & 2.1       & virginica\\\\\n",
       "\t104 & 6.3       & 2.9       & 5.6       & 1.8       & virginica\\\\\n",
       "\t105 & 6.5       & 3.0       & 5.8       & 2.2       & virginica\\\\\n",
       "\t106 & 7.6       & 3.0       & 6.6       & 2.1       & virginica\\\\\n",
       "\t107 & 4.9       & 2.5       & 4.5       & 1.7       & virginica\\\\\n",
       "\t108 & 7.3       & 2.9       & 6.3       & 1.8       & virginica\\\\\n",
       "\t109 & 6.7       & 2.5       & 5.8       & 1.8       & virginica\\\\\n",
       "\t110 & 7.2       & 3.6       & 6.1       & 2.5       & virginica\\\\\n",
       "\t111 & 6.5       & 3.2       & 5.1       & 2.0       & virginica\\\\\n",
       "\t112 & 6.4       & 2.7       & 5.3       & 1.9       & virginica\\\\\n",
       "\t113 & 6.8       & 3.0       & 5.5       & 2.1       & virginica\\\\\n",
       "\t114 & 5.7       & 2.5       & 5.0       & 2.0       & virginica\\\\\n",
       "\t115 & 5.8       & 2.8       & 5.1       & 2.4       & virginica\\\\\n",
       "\t116 & 6.4       & 3.2       & 5.3       & 2.3       & virginica\\\\\n",
       "\t117 & 6.5       & 3.0       & 5.5       & 1.8       & virginica\\\\\n",
       "\t118 & 7.7       & 3.8       & 6.7       & 2.2       & virginica\\\\\n",
       "\t119 & 7.7       & 2.6       & 6.9       & 2.3       & virginica\\\\\n",
       "\t120 & 6.0       & 2.2       & 5.0       & 1.5       & virginica\\\\\n",
       "\t121 & 6.9       & 3.2       & 5.7       & 2.3       & virginica\\\\\n",
       "\t122 & 5.6       & 2.8       & 4.9       & 2.0       & virginica\\\\\n",
       "\t123 & 7.7       & 2.8       & 6.7       & 2.0       & virginica\\\\\n",
       "\t124 & 6.3       & 2.7       & 4.9       & 1.8       & virginica\\\\\n",
       "\t125 & 6.7       & 3.3       & 5.7       & 2.1       & virginica\\\\\n",
       "\t126 & 7.2       & 3.2       & 6.0       & 1.8       & virginica\\\\\n",
       "\t127 & 6.2       & 2.8       & 4.8       & 1.8       & virginica\\\\\n",
       "\t128 & 6.1       & 3.0       & 4.9       & 1.8       & virginica\\\\\n",
       "\t129 & 6.4       & 2.8       & 5.6       & 2.1       & virginica\\\\\n",
       "\t130 & 7.2       & 3.0       & 5.8       & 1.6       & virginica\\\\\n",
       "\t131 & 7.4       & 2.8       & 6.1       & 1.9       & virginica\\\\\n",
       "\t132 & 7.9       & 3.8       & 6.4       & 2.0       & virginica\\\\\n",
       "\t133 & 6.4       & 2.8       & 5.6       & 2.2       & virginica\\\\\n",
       "\t134 & 6.3       & 2.8       & 5.1       & 1.5       & virginica\\\\\n",
       "\t135 & 6.1       & 2.6       & 5.6       & 1.4       & virginica\\\\\n",
       "\t136 & 7.7       & 3.0       & 6.1       & 2.3       & virginica\\\\\n",
       "\t137 & 6.3       & 3.4       & 5.6       & 2.4       & virginica\\\\\n",
       "\t138 & 6.4       & 3.1       & 5.5       & 1.8       & virginica\\\\\n",
       "\t139 & 6.0       & 3.0       & 4.8       & 1.8       & virginica\\\\\n",
       "\t140 & 6.9       & 3.1       & 5.4       & 2.1       & virginica\\\\\n",
       "\t141 & 6.7       & 3.1       & 5.6       & 2.4       & virginica\\\\\n",
       "\t142 & 6.9       & 3.1       & 5.1       & 2.3       & virginica\\\\\n",
       "\t143 & 5.8       & 2.7       & 5.1       & 1.9       & virginica\\\\\n",
       "\t144 & 6.8       & 3.2       & 5.9       & 2.3       & virginica\\\\\n",
       "\t145 & 6.7       & 3.3       & 5.7       & 2.5       & virginica\\\\\n",
       "\t146 & 6.7       & 3.0       & 5.2       & 2.3       & virginica\\\\\n",
       "\t147 & 6.3       & 2.5       & 5.0       & 1.9       & virginica\\\\\n",
       "\t148 & 6.5       & 3.0       & 5.2       & 2.0       & virginica\\\\\n",
       "\t149 & 6.2       & 3.4       & 5.4       & 2.3       & virginica\\\\\n",
       "\t150 & 5.9       & 3.0       & 5.1       & 1.8       & virginica\\\\\n",
       "\\end{tabular}\n",
       "\n",
       "\\end{description}\n"
      ],
      "text/markdown": [
       "$setosa\n",
       ":   \n",
       "| Sepal.Length | Sepal.Width | Petal.Length | Petal.Width | Species |\n",
       "|---|---|---|---|---|\n",
       "| 5.1    | 3.5    | 1.4    | 0.2    | setosa |\n",
       "| 4.9    | 3.0    | 1.4    | 0.2    | setosa |\n",
       "| 4.7    | 3.2    | 1.3    | 0.2    | setosa |\n",
       "| 4.6    | 3.1    | 1.5    | 0.2    | setosa |\n",
       "| 5.0    | 3.6    | 1.4    | 0.2    | setosa |\n",
       "| 5.4    | 3.9    | 1.7    | 0.4    | setosa |\n",
       "| 4.6    | 3.4    | 1.4    | 0.3    | setosa |\n",
       "| 5.0    | 3.4    | 1.5    | 0.2    | setosa |\n",
       "| 4.4    | 2.9    | 1.4    | 0.2    | setosa |\n",
       "| 4.9    | 3.1    | 1.5    | 0.1    | setosa |\n",
       "| 5.4    | 3.7    | 1.5    | 0.2    | setosa |\n",
       "| 4.8    | 3.4    | 1.6    | 0.2    | setosa |\n",
       "| 4.8    | 3.0    | 1.4    | 0.1    | setosa |\n",
       "| 4.3    | 3.0    | 1.1    | 0.1    | setosa |\n",
       "| 5.8    | 4.0    | 1.2    | 0.2    | setosa |\n",
       "| 5.7    | 4.4    | 1.5    | 0.4    | setosa |\n",
       "| 5.4    | 3.9    | 1.3    | 0.4    | setosa |\n",
       "| 5.1    | 3.5    | 1.4    | 0.3    | setosa |\n",
       "| 5.7    | 3.8    | 1.7    | 0.3    | setosa |\n",
       "| 5.1    | 3.8    | 1.5    | 0.3    | setosa |\n",
       "| 5.4    | 3.4    | 1.7    | 0.2    | setosa |\n",
       "| 5.1    | 3.7    | 1.5    | 0.4    | setosa |\n",
       "| 4.6    | 3.6    | 1.0    | 0.2    | setosa |\n",
       "| 5.1    | 3.3    | 1.7    | 0.5    | setosa |\n",
       "| 4.8    | 3.4    | 1.9    | 0.2    | setosa |\n",
       "| 5.0    | 3.0    | 1.6    | 0.2    | setosa |\n",
       "| 5.0    | 3.4    | 1.6    | 0.4    | setosa |\n",
       "| 5.2    | 3.5    | 1.5    | 0.2    | setosa |\n",
       "| 5.2    | 3.4    | 1.4    | 0.2    | setosa |\n",
       "| 4.7    | 3.2    | 1.6    | 0.2    | setosa |\n",
       "| 4.8    | 3.1    | 1.6    | 0.2    | setosa |\n",
       "| 5.4    | 3.4    | 1.5    | 0.4    | setosa |\n",
       "| 5.2    | 4.1    | 1.5    | 0.1    | setosa |\n",
       "| 5.5    | 4.2    | 1.4    | 0.2    | setosa |\n",
       "| 4.9    | 3.1    | 1.5    | 0.2    | setosa |\n",
       "| 5.0    | 3.2    | 1.2    | 0.2    | setosa |\n",
       "| 5.5    | 3.5    | 1.3    | 0.2    | setosa |\n",
       "| 4.9    | 3.6    | 1.4    | 0.1    | setosa |\n",
       "| 4.4    | 3.0    | 1.3    | 0.2    | setosa |\n",
       "| 5.1    | 3.4    | 1.5    | 0.2    | setosa |\n",
       "| 5.0    | 3.5    | 1.3    | 0.3    | setosa |\n",
       "| 4.5    | 2.3    | 1.3    | 0.3    | setosa |\n",
       "| 4.4    | 3.2    | 1.3    | 0.2    | setosa |\n",
       "| 5.0    | 3.5    | 1.6    | 0.6    | setosa |\n",
       "| 5.1    | 3.8    | 1.9    | 0.4    | setosa |\n",
       "| 4.8    | 3.0    | 1.4    | 0.3    | setosa |\n",
       "| 5.1    | 3.8    | 1.6    | 0.2    | setosa |\n",
       "| 4.6    | 3.2    | 1.4    | 0.2    | setosa |\n",
       "| 5.3    | 3.7    | 1.5    | 0.2    | setosa |\n",
       "| 5.0    | 3.3    | 1.4    | 0.2    | setosa |\n",
       "\n",
       "\n",
       "$versicolor\n",
       ":   \n",
       "| <!--/--> | Sepal.Length | Sepal.Width | Petal.Length | Petal.Width | Species |\n",
       "|---|---|---|---|---|---|\n",
       "| 51 | 7.0        | 3.2        | 4.7        | 1.4        | versicolor |\n",
       "| 52 | 6.4        | 3.2        | 4.5        | 1.5        | versicolor |\n",
       "| 53 | 6.9        | 3.1        | 4.9        | 1.5        | versicolor |\n",
       "| 54 | 5.5        | 2.3        | 4.0        | 1.3        | versicolor |\n",
       "| 55 | 6.5        | 2.8        | 4.6        | 1.5        | versicolor |\n",
       "| 56 | 5.7        | 2.8        | 4.5        | 1.3        | versicolor |\n",
       "| 57 | 6.3        | 3.3        | 4.7        | 1.6        | versicolor |\n",
       "| 58 | 4.9        | 2.4        | 3.3        | 1.0        | versicolor |\n",
       "| 59 | 6.6        | 2.9        | 4.6        | 1.3        | versicolor |\n",
       "| 60 | 5.2        | 2.7        | 3.9        | 1.4        | versicolor |\n",
       "| 61 | 5.0        | 2.0        | 3.5        | 1.0        | versicolor |\n",
       "| 62 | 5.9        | 3.0        | 4.2        | 1.5        | versicolor |\n",
       "| 63 | 6.0        | 2.2        | 4.0        | 1.0        | versicolor |\n",
       "| 64 | 6.1        | 2.9        | 4.7        | 1.4        | versicolor |\n",
       "| 65 | 5.6        | 2.9        | 3.6        | 1.3        | versicolor |\n",
       "| 66 | 6.7        | 3.1        | 4.4        | 1.4        | versicolor |\n",
       "| 67 | 5.6        | 3.0        | 4.5        | 1.5        | versicolor |\n",
       "| 68 | 5.8        | 2.7        | 4.1        | 1.0        | versicolor |\n",
       "| 69 | 6.2        | 2.2        | 4.5        | 1.5        | versicolor |\n",
       "| 70 | 5.6        | 2.5        | 3.9        | 1.1        | versicolor |\n",
       "| 71 | 5.9        | 3.2        | 4.8        | 1.8        | versicolor |\n",
       "| 72 | 6.1        | 2.8        | 4.0        | 1.3        | versicolor |\n",
       "| 73 | 6.3        | 2.5        | 4.9        | 1.5        | versicolor |\n",
       "| 74 | 6.1        | 2.8        | 4.7        | 1.2        | versicolor |\n",
       "| 75 | 6.4        | 2.9        | 4.3        | 1.3        | versicolor |\n",
       "| 76 | 6.6        | 3.0        | 4.4        | 1.4        | versicolor |\n",
       "| 77 | 6.8        | 2.8        | 4.8        | 1.4        | versicolor |\n",
       "| 78 | 6.7        | 3.0        | 5.0        | 1.7        | versicolor |\n",
       "| 79 | 6.0        | 2.9        | 4.5        | 1.5        | versicolor |\n",
       "| 80 | 5.7        | 2.6        | 3.5        | 1.0        | versicolor |\n",
       "| 81 | 5.5        | 2.4        | 3.8        | 1.1        | versicolor |\n",
       "| 82 | 5.5        | 2.4        | 3.7        | 1.0        | versicolor |\n",
       "| 83 | 5.8        | 2.7        | 3.9        | 1.2        | versicolor |\n",
       "| 84 | 6.0        | 2.7        | 5.1        | 1.6        | versicolor |\n",
       "| 85 | 5.4        | 3.0        | 4.5        | 1.5        | versicolor |\n",
       "| 86 | 6.0        | 3.4        | 4.5        | 1.6        | versicolor |\n",
       "| 87 | 6.7        | 3.1        | 4.7        | 1.5        | versicolor |\n",
       "| 88 | 6.3        | 2.3        | 4.4        | 1.3        | versicolor |\n",
       "| 89 | 5.6        | 3.0        | 4.1        | 1.3        | versicolor |\n",
       "| 90 | 5.5        | 2.5        | 4.0        | 1.3        | versicolor |\n",
       "| 91 | 5.5        | 2.6        | 4.4        | 1.2        | versicolor |\n",
       "| 92 | 6.1        | 3.0        | 4.6        | 1.4        | versicolor |\n",
       "| 93 | 5.8        | 2.6        | 4.0        | 1.2        | versicolor |\n",
       "| 94 | 5.0        | 2.3        | 3.3        | 1.0        | versicolor |\n",
       "| 95 | 5.6        | 2.7        | 4.2        | 1.3        | versicolor |\n",
       "| 96 | 5.7        | 3.0        | 4.2        | 1.2        | versicolor |\n",
       "| 97 | 5.7        | 2.9        | 4.2        | 1.3        | versicolor |\n",
       "| 98 | 6.2        | 2.9        | 4.3        | 1.3        | versicolor |\n",
       "| 99 | 5.1        | 2.5        | 3.0        | 1.1        | versicolor |\n",
       "| 100 | 5.7        | 2.8        | 4.1        | 1.3        | versicolor |\n",
       "\n",
       "\n",
       "$virginica\n",
       ":   \n",
       "| <!--/--> | Sepal.Length | Sepal.Width | Petal.Length | Petal.Width | Species |\n",
       "|---|---|---|---|---|---|\n",
       "| 101 | 6.3       | 3.3       | 6.0       | 2.5       | virginica |\n",
       "| 102 | 5.8       | 2.7       | 5.1       | 1.9       | virginica |\n",
       "| 103 | 7.1       | 3.0       | 5.9       | 2.1       | virginica |\n",
       "| 104 | 6.3       | 2.9       | 5.6       | 1.8       | virginica |\n",
       "| 105 | 6.5       | 3.0       | 5.8       | 2.2       | virginica |\n",
       "| 106 | 7.6       | 3.0       | 6.6       | 2.1       | virginica |\n",
       "| 107 | 4.9       | 2.5       | 4.5       | 1.7       | virginica |\n",
       "| 108 | 7.3       | 2.9       | 6.3       | 1.8       | virginica |\n",
       "| 109 | 6.7       | 2.5       | 5.8       | 1.8       | virginica |\n",
       "| 110 | 7.2       | 3.6       | 6.1       | 2.5       | virginica |\n",
       "| 111 | 6.5       | 3.2       | 5.1       | 2.0       | virginica |\n",
       "| 112 | 6.4       | 2.7       | 5.3       | 1.9       | virginica |\n",
       "| 113 | 6.8       | 3.0       | 5.5       | 2.1       | virginica |\n",
       "| 114 | 5.7       | 2.5       | 5.0       | 2.0       | virginica |\n",
       "| 115 | 5.8       | 2.8       | 5.1       | 2.4       | virginica |\n",
       "| 116 | 6.4       | 3.2       | 5.3       | 2.3       | virginica |\n",
       "| 117 | 6.5       | 3.0       | 5.5       | 1.8       | virginica |\n",
       "| 118 | 7.7       | 3.8       | 6.7       | 2.2       | virginica |\n",
       "| 119 | 7.7       | 2.6       | 6.9       | 2.3       | virginica |\n",
       "| 120 | 6.0       | 2.2       | 5.0       | 1.5       | virginica |\n",
       "| 121 | 6.9       | 3.2       | 5.7       | 2.3       | virginica |\n",
       "| 122 | 5.6       | 2.8       | 4.9       | 2.0       | virginica |\n",
       "| 123 | 7.7       | 2.8       | 6.7       | 2.0       | virginica |\n",
       "| 124 | 6.3       | 2.7       | 4.9       | 1.8       | virginica |\n",
       "| 125 | 6.7       | 3.3       | 5.7       | 2.1       | virginica |\n",
       "| 126 | 7.2       | 3.2       | 6.0       | 1.8       | virginica |\n",
       "| 127 | 6.2       | 2.8       | 4.8       | 1.8       | virginica |\n",
       "| 128 | 6.1       | 3.0       | 4.9       | 1.8       | virginica |\n",
       "| 129 | 6.4       | 2.8       | 5.6       | 2.1       | virginica |\n",
       "| 130 | 7.2       | 3.0       | 5.8       | 1.6       | virginica |\n",
       "| 131 | 7.4       | 2.8       | 6.1       | 1.9       | virginica |\n",
       "| 132 | 7.9       | 3.8       | 6.4       | 2.0       | virginica |\n",
       "| 133 | 6.4       | 2.8       | 5.6       | 2.2       | virginica |\n",
       "| 134 | 6.3       | 2.8       | 5.1       | 1.5       | virginica |\n",
       "| 135 | 6.1       | 2.6       | 5.6       | 1.4       | virginica |\n",
       "| 136 | 7.7       | 3.0       | 6.1       | 2.3       | virginica |\n",
       "| 137 | 6.3       | 3.4       | 5.6       | 2.4       | virginica |\n",
       "| 138 | 6.4       | 3.1       | 5.5       | 1.8       | virginica |\n",
       "| 139 | 6.0       | 3.0       | 4.8       | 1.8       | virginica |\n",
       "| 140 | 6.9       | 3.1       | 5.4       | 2.1       | virginica |\n",
       "| 141 | 6.7       | 3.1       | 5.6       | 2.4       | virginica |\n",
       "| 142 | 6.9       | 3.1       | 5.1       | 2.3       | virginica |\n",
       "| 143 | 5.8       | 2.7       | 5.1       | 1.9       | virginica |\n",
       "| 144 | 6.8       | 3.2       | 5.9       | 2.3       | virginica |\n",
       "| 145 | 6.7       | 3.3       | 5.7       | 2.5       | virginica |\n",
       "| 146 | 6.7       | 3.0       | 5.2       | 2.3       | virginica |\n",
       "| 147 | 6.3       | 2.5       | 5.0       | 1.9       | virginica |\n",
       "| 148 | 6.5       | 3.0       | 5.2       | 2.0       | virginica |\n",
       "| 149 | 6.2       | 3.4       | 5.4       | 2.3       | virginica |\n",
       "| 150 | 5.9       | 3.0       | 5.1       | 1.8       | virginica |\n",
       "\n",
       "\n",
       "\n",
       "\n"
      ],
      "text/plain": [
       "$setosa\n",
       "   Sepal.Length Sepal.Width Petal.Length Petal.Width Species\n",
       "1           5.1         3.5          1.4         0.2  setosa\n",
       "2           4.9         3.0          1.4         0.2  setosa\n",
       "3           4.7         3.2          1.3         0.2  setosa\n",
       "4           4.6         3.1          1.5         0.2  setosa\n",
       "5           5.0         3.6          1.4         0.2  setosa\n",
       "6           5.4         3.9          1.7         0.4  setosa\n",
       "7           4.6         3.4          1.4         0.3  setosa\n",
       "8           5.0         3.4          1.5         0.2  setosa\n",
       "9           4.4         2.9          1.4         0.2  setosa\n",
       "10          4.9         3.1          1.5         0.1  setosa\n",
       "11          5.4         3.7          1.5         0.2  setosa\n",
       "12          4.8         3.4          1.6         0.2  setosa\n",
       "13          4.8         3.0          1.4         0.1  setosa\n",
       "14          4.3         3.0          1.1         0.1  setosa\n",
       "15          5.8         4.0          1.2         0.2  setosa\n",
       "16          5.7         4.4          1.5         0.4  setosa\n",
       "17          5.4         3.9          1.3         0.4  setosa\n",
       "18          5.1         3.5          1.4         0.3  setosa\n",
       "19          5.7         3.8          1.7         0.3  setosa\n",
       "20          5.1         3.8          1.5         0.3  setosa\n",
       "21          5.4         3.4          1.7         0.2  setosa\n",
       "22          5.1         3.7          1.5         0.4  setosa\n",
       "23          4.6         3.6          1.0         0.2  setosa\n",
       "24          5.1         3.3          1.7         0.5  setosa\n",
       "25          4.8         3.4          1.9         0.2  setosa\n",
       "26          5.0         3.0          1.6         0.2  setosa\n",
       "27          5.0         3.4          1.6         0.4  setosa\n",
       "28          5.2         3.5          1.5         0.2  setosa\n",
       "29          5.2         3.4          1.4         0.2  setosa\n",
       "30          4.7         3.2          1.6         0.2  setosa\n",
       "31          4.8         3.1          1.6         0.2  setosa\n",
       "32          5.4         3.4          1.5         0.4  setosa\n",
       "33          5.2         4.1          1.5         0.1  setosa\n",
       "34          5.5         4.2          1.4         0.2  setosa\n",
       "35          4.9         3.1          1.5         0.2  setosa\n",
       "36          5.0         3.2          1.2         0.2  setosa\n",
       "37          5.5         3.5          1.3         0.2  setosa\n",
       "38          4.9         3.6          1.4         0.1  setosa\n",
       "39          4.4         3.0          1.3         0.2  setosa\n",
       "40          5.1         3.4          1.5         0.2  setosa\n",
       "41          5.0         3.5          1.3         0.3  setosa\n",
       "42          4.5         2.3          1.3         0.3  setosa\n",
       "43          4.4         3.2          1.3         0.2  setosa\n",
       "44          5.0         3.5          1.6         0.6  setosa\n",
       "45          5.1         3.8          1.9         0.4  setosa\n",
       "46          4.8         3.0          1.4         0.3  setosa\n",
       "47          5.1         3.8          1.6         0.2  setosa\n",
       "48          4.6         3.2          1.4         0.2  setosa\n",
       "49          5.3         3.7          1.5         0.2  setosa\n",
       "50          5.0         3.3          1.4         0.2  setosa\n",
       "\n",
       "$versicolor\n",
       "    Sepal.Length Sepal.Width Petal.Length Petal.Width    Species\n",
       "51           7.0         3.2          4.7         1.4 versicolor\n",
       "52           6.4         3.2          4.5         1.5 versicolor\n",
       "53           6.9         3.1          4.9         1.5 versicolor\n",
       "54           5.5         2.3          4.0         1.3 versicolor\n",
       "55           6.5         2.8          4.6         1.5 versicolor\n",
       "56           5.7         2.8          4.5         1.3 versicolor\n",
       "57           6.3         3.3          4.7         1.6 versicolor\n",
       "58           4.9         2.4          3.3         1.0 versicolor\n",
       "59           6.6         2.9          4.6         1.3 versicolor\n",
       "60           5.2         2.7          3.9         1.4 versicolor\n",
       "61           5.0         2.0          3.5         1.0 versicolor\n",
       "62           5.9         3.0          4.2         1.5 versicolor\n",
       "63           6.0         2.2          4.0         1.0 versicolor\n",
       "64           6.1         2.9          4.7         1.4 versicolor\n",
       "65           5.6         2.9          3.6         1.3 versicolor\n",
       "66           6.7         3.1          4.4         1.4 versicolor\n",
       "67           5.6         3.0          4.5         1.5 versicolor\n",
       "68           5.8         2.7          4.1         1.0 versicolor\n",
       "69           6.2         2.2          4.5         1.5 versicolor\n",
       "70           5.6         2.5          3.9         1.1 versicolor\n",
       "71           5.9         3.2          4.8         1.8 versicolor\n",
       "72           6.1         2.8          4.0         1.3 versicolor\n",
       "73           6.3         2.5          4.9         1.5 versicolor\n",
       "74           6.1         2.8          4.7         1.2 versicolor\n",
       "75           6.4         2.9          4.3         1.3 versicolor\n",
       "76           6.6         3.0          4.4         1.4 versicolor\n",
       "77           6.8         2.8          4.8         1.4 versicolor\n",
       "78           6.7         3.0          5.0         1.7 versicolor\n",
       "79           6.0         2.9          4.5         1.5 versicolor\n",
       "80           5.7         2.6          3.5         1.0 versicolor\n",
       "81           5.5         2.4          3.8         1.1 versicolor\n",
       "82           5.5         2.4          3.7         1.0 versicolor\n",
       "83           5.8         2.7          3.9         1.2 versicolor\n",
       "84           6.0         2.7          5.1         1.6 versicolor\n",
       "85           5.4         3.0          4.5         1.5 versicolor\n",
       "86           6.0         3.4          4.5         1.6 versicolor\n",
       "87           6.7         3.1          4.7         1.5 versicolor\n",
       "88           6.3         2.3          4.4         1.3 versicolor\n",
       "89           5.6         3.0          4.1         1.3 versicolor\n",
       "90           5.5         2.5          4.0         1.3 versicolor\n",
       "91           5.5         2.6          4.4         1.2 versicolor\n",
       "92           6.1         3.0          4.6         1.4 versicolor\n",
       "93           5.8         2.6          4.0         1.2 versicolor\n",
       "94           5.0         2.3          3.3         1.0 versicolor\n",
       "95           5.6         2.7          4.2         1.3 versicolor\n",
       "96           5.7         3.0          4.2         1.2 versicolor\n",
       "97           5.7         2.9          4.2         1.3 versicolor\n",
       "98           6.2         2.9          4.3         1.3 versicolor\n",
       "99           5.1         2.5          3.0         1.1 versicolor\n",
       "100          5.7         2.8          4.1         1.3 versicolor\n",
       "\n",
       "$virginica\n",
       "    Sepal.Length Sepal.Width Petal.Length Petal.Width   Species\n",
       "101          6.3         3.3          6.0         2.5 virginica\n",
       "102          5.8         2.7          5.1         1.9 virginica\n",
       "103          7.1         3.0          5.9         2.1 virginica\n",
       "104          6.3         2.9          5.6         1.8 virginica\n",
       "105          6.5         3.0          5.8         2.2 virginica\n",
       "106          7.6         3.0          6.6         2.1 virginica\n",
       "107          4.9         2.5          4.5         1.7 virginica\n",
       "108          7.3         2.9          6.3         1.8 virginica\n",
       "109          6.7         2.5          5.8         1.8 virginica\n",
       "110          7.2         3.6          6.1         2.5 virginica\n",
       "111          6.5         3.2          5.1         2.0 virginica\n",
       "112          6.4         2.7          5.3         1.9 virginica\n",
       "113          6.8         3.0          5.5         2.1 virginica\n",
       "114          5.7         2.5          5.0         2.0 virginica\n",
       "115          5.8         2.8          5.1         2.4 virginica\n",
       "116          6.4         3.2          5.3         2.3 virginica\n",
       "117          6.5         3.0          5.5         1.8 virginica\n",
       "118          7.7         3.8          6.7         2.2 virginica\n",
       "119          7.7         2.6          6.9         2.3 virginica\n",
       "120          6.0         2.2          5.0         1.5 virginica\n",
       "121          6.9         3.2          5.7         2.3 virginica\n",
       "122          5.6         2.8          4.9         2.0 virginica\n",
       "123          7.7         2.8          6.7         2.0 virginica\n",
       "124          6.3         2.7          4.9         1.8 virginica\n",
       "125          6.7         3.3          5.7         2.1 virginica\n",
       "126          7.2         3.2          6.0         1.8 virginica\n",
       "127          6.2         2.8          4.8         1.8 virginica\n",
       "128          6.1         3.0          4.9         1.8 virginica\n",
       "129          6.4         2.8          5.6         2.1 virginica\n",
       "130          7.2         3.0          5.8         1.6 virginica\n",
       "131          7.4         2.8          6.1         1.9 virginica\n",
       "132          7.9         3.8          6.4         2.0 virginica\n",
       "133          6.4         2.8          5.6         2.2 virginica\n",
       "134          6.3         2.8          5.1         1.5 virginica\n",
       "135          6.1         2.6          5.6         1.4 virginica\n",
       "136          7.7         3.0          6.1         2.3 virginica\n",
       "137          6.3         3.4          5.6         2.4 virginica\n",
       "138          6.4         3.1          5.5         1.8 virginica\n",
       "139          6.0         3.0          4.8         1.8 virginica\n",
       "140          6.9         3.1          5.4         2.1 virginica\n",
       "141          6.7         3.1          5.6         2.4 virginica\n",
       "142          6.9         3.1          5.1         2.3 virginica\n",
       "143          5.8         2.7          5.1         1.9 virginica\n",
       "144          6.8         3.2          5.9         2.3 virginica\n",
       "145          6.7         3.3          5.7         2.5 virginica\n",
       "146          6.7         3.0          5.2         2.3 virginica\n",
       "147          6.3         2.5          5.0         1.9 virginica\n",
       "148          6.5         3.0          5.2         2.0 virginica\n",
       "149          6.2         3.4          5.4         2.3 virginica\n",
       "150          5.9         3.0          5.1         1.8 virginica\n"
      ]
     },
     "metadata": {},
     "output_type": "display_data"
    }
   ],
   "source": [
    "split(iris,iris$Species) #품종별로 데이터셋 분리"
   ]
  },
  {
   "cell_type": "code",
   "execution_count": 3,
   "metadata": {},
   "outputs": [
    {
     "data": {
      "text/html": [
       "<table>\n",
       "<thead><tr><th scope=col>Sepal.Length</th><th scope=col>Sepal.Width</th><th scope=col>Petal.Length</th><th scope=col>Petal.Width</th><th scope=col>Species</th></tr></thead>\n",
       "<tbody>\n",
       "\t<tr><td>5.1   </td><td>3.5   </td><td>1.4   </td><td>0.2   </td><td>setosa</td></tr>\n",
       "\t<tr><td>4.9   </td><td>3.0   </td><td>1.4   </td><td>0.2   </td><td>setosa</td></tr>\n",
       "\t<tr><td>4.7   </td><td>3.2   </td><td>1.3   </td><td>0.2   </td><td>setosa</td></tr>\n",
       "\t<tr><td>4.6   </td><td>3.1   </td><td>1.5   </td><td>0.2   </td><td>setosa</td></tr>\n",
       "\t<tr><td>5.0   </td><td>3.6   </td><td>1.4   </td><td>0.2   </td><td>setosa</td></tr>\n",
       "\t<tr><td>5.4   </td><td>3.9   </td><td>1.7   </td><td>0.4   </td><td>setosa</td></tr>\n",
       "\t<tr><td>4.6   </td><td>3.4   </td><td>1.4   </td><td>0.3   </td><td>setosa</td></tr>\n",
       "\t<tr><td>5.0   </td><td>3.4   </td><td>1.5   </td><td>0.2   </td><td>setosa</td></tr>\n",
       "\t<tr><td>4.4   </td><td>2.9   </td><td>1.4   </td><td>0.2   </td><td>setosa</td></tr>\n",
       "\t<tr><td>4.9   </td><td>3.1   </td><td>1.5   </td><td>0.1   </td><td>setosa</td></tr>\n",
       "\t<tr><td>5.4   </td><td>3.7   </td><td>1.5   </td><td>0.2   </td><td>setosa</td></tr>\n",
       "\t<tr><td>4.8   </td><td>3.4   </td><td>1.6   </td><td>0.2   </td><td>setosa</td></tr>\n",
       "\t<tr><td>4.8   </td><td>3.0   </td><td>1.4   </td><td>0.1   </td><td>setosa</td></tr>\n",
       "\t<tr><td>4.3   </td><td>3.0   </td><td>1.1   </td><td>0.1   </td><td>setosa</td></tr>\n",
       "\t<tr><td>5.8   </td><td>4.0   </td><td>1.2   </td><td>0.2   </td><td>setosa</td></tr>\n",
       "\t<tr><td>5.7   </td><td>4.4   </td><td>1.5   </td><td>0.4   </td><td>setosa</td></tr>\n",
       "\t<tr><td>5.4   </td><td>3.9   </td><td>1.3   </td><td>0.4   </td><td>setosa</td></tr>\n",
       "\t<tr><td>5.1   </td><td>3.5   </td><td>1.4   </td><td>0.3   </td><td>setosa</td></tr>\n",
       "\t<tr><td>5.7   </td><td>3.8   </td><td>1.7   </td><td>0.3   </td><td>setosa</td></tr>\n",
       "\t<tr><td>5.1   </td><td>3.8   </td><td>1.5   </td><td>0.3   </td><td>setosa</td></tr>\n",
       "\t<tr><td>5.4   </td><td>3.4   </td><td>1.7   </td><td>0.2   </td><td>setosa</td></tr>\n",
       "\t<tr><td>5.1   </td><td>3.7   </td><td>1.5   </td><td>0.4   </td><td>setosa</td></tr>\n",
       "\t<tr><td>4.6   </td><td>3.6   </td><td>1.0   </td><td>0.2   </td><td>setosa</td></tr>\n",
       "\t<tr><td>5.1   </td><td>3.3   </td><td>1.7   </td><td>0.5   </td><td>setosa</td></tr>\n",
       "\t<tr><td>4.8   </td><td>3.4   </td><td>1.9   </td><td>0.2   </td><td>setosa</td></tr>\n",
       "\t<tr><td>5.0   </td><td>3.0   </td><td>1.6   </td><td>0.2   </td><td>setosa</td></tr>\n",
       "\t<tr><td>5.0   </td><td>3.4   </td><td>1.6   </td><td>0.4   </td><td>setosa</td></tr>\n",
       "\t<tr><td>5.2   </td><td>3.5   </td><td>1.5   </td><td>0.2   </td><td>setosa</td></tr>\n",
       "\t<tr><td>5.2   </td><td>3.4   </td><td>1.4   </td><td>0.2   </td><td>setosa</td></tr>\n",
       "\t<tr><td>4.7   </td><td>3.2   </td><td>1.6   </td><td>0.2   </td><td>setosa</td></tr>\n",
       "\t<tr><td>4.8   </td><td>3.1   </td><td>1.6   </td><td>0.2   </td><td>setosa</td></tr>\n",
       "\t<tr><td>5.4   </td><td>3.4   </td><td>1.5   </td><td>0.4   </td><td>setosa</td></tr>\n",
       "\t<tr><td>5.2   </td><td>4.1   </td><td>1.5   </td><td>0.1   </td><td>setosa</td></tr>\n",
       "\t<tr><td>5.5   </td><td>4.2   </td><td>1.4   </td><td>0.2   </td><td>setosa</td></tr>\n",
       "\t<tr><td>4.9   </td><td>3.1   </td><td>1.5   </td><td>0.2   </td><td>setosa</td></tr>\n",
       "\t<tr><td>5.0   </td><td>3.2   </td><td>1.2   </td><td>0.2   </td><td>setosa</td></tr>\n",
       "\t<tr><td>5.5   </td><td>3.5   </td><td>1.3   </td><td>0.2   </td><td>setosa</td></tr>\n",
       "\t<tr><td>4.9   </td><td>3.6   </td><td>1.4   </td><td>0.1   </td><td>setosa</td></tr>\n",
       "\t<tr><td>4.4   </td><td>3.0   </td><td>1.3   </td><td>0.2   </td><td>setosa</td></tr>\n",
       "\t<tr><td>5.1   </td><td>3.4   </td><td>1.5   </td><td>0.2   </td><td>setosa</td></tr>\n",
       "\t<tr><td>5.0   </td><td>3.5   </td><td>1.3   </td><td>0.3   </td><td>setosa</td></tr>\n",
       "\t<tr><td>4.5   </td><td>2.3   </td><td>1.3   </td><td>0.3   </td><td>setosa</td></tr>\n",
       "\t<tr><td>4.4   </td><td>3.2   </td><td>1.3   </td><td>0.2   </td><td>setosa</td></tr>\n",
       "\t<tr><td>5.0   </td><td>3.5   </td><td>1.6   </td><td>0.6   </td><td>setosa</td></tr>\n",
       "\t<tr><td>5.1   </td><td>3.8   </td><td>1.9   </td><td>0.4   </td><td>setosa</td></tr>\n",
       "\t<tr><td>4.8   </td><td>3.0   </td><td>1.4   </td><td>0.3   </td><td>setosa</td></tr>\n",
       "\t<tr><td>5.1   </td><td>3.8   </td><td>1.6   </td><td>0.2   </td><td>setosa</td></tr>\n",
       "\t<tr><td>4.6   </td><td>3.2   </td><td>1.4   </td><td>0.2   </td><td>setosa</td></tr>\n",
       "\t<tr><td>5.3   </td><td>3.7   </td><td>1.5   </td><td>0.2   </td><td>setosa</td></tr>\n",
       "\t<tr><td>5.0   </td><td>3.3   </td><td>1.4   </td><td>0.2   </td><td>setosa</td></tr>\n",
       "</tbody>\n",
       "</table>\n"
      ],
      "text/latex": [
       "\\begin{tabular}{r|lllll}\n",
       " Sepal.Length & Sepal.Width & Petal.Length & Petal.Width & Species\\\\\n",
       "\\hline\n",
       "\t 5.1    & 3.5    & 1.4    & 0.2    & setosa\\\\\n",
       "\t 4.9    & 3.0    & 1.4    & 0.2    & setosa\\\\\n",
       "\t 4.7    & 3.2    & 1.3    & 0.2    & setosa\\\\\n",
       "\t 4.6    & 3.1    & 1.5    & 0.2    & setosa\\\\\n",
       "\t 5.0    & 3.6    & 1.4    & 0.2    & setosa\\\\\n",
       "\t 5.4    & 3.9    & 1.7    & 0.4    & setosa\\\\\n",
       "\t 4.6    & 3.4    & 1.4    & 0.3    & setosa\\\\\n",
       "\t 5.0    & 3.4    & 1.5    & 0.2    & setosa\\\\\n",
       "\t 4.4    & 2.9    & 1.4    & 0.2    & setosa\\\\\n",
       "\t 4.9    & 3.1    & 1.5    & 0.1    & setosa\\\\\n",
       "\t 5.4    & 3.7    & 1.5    & 0.2    & setosa\\\\\n",
       "\t 4.8    & 3.4    & 1.6    & 0.2    & setosa\\\\\n",
       "\t 4.8    & 3.0    & 1.4    & 0.1    & setosa\\\\\n",
       "\t 4.3    & 3.0    & 1.1    & 0.1    & setosa\\\\\n",
       "\t 5.8    & 4.0    & 1.2    & 0.2    & setosa\\\\\n",
       "\t 5.7    & 4.4    & 1.5    & 0.4    & setosa\\\\\n",
       "\t 5.4    & 3.9    & 1.3    & 0.4    & setosa\\\\\n",
       "\t 5.1    & 3.5    & 1.4    & 0.3    & setosa\\\\\n",
       "\t 5.7    & 3.8    & 1.7    & 0.3    & setosa\\\\\n",
       "\t 5.1    & 3.8    & 1.5    & 0.3    & setosa\\\\\n",
       "\t 5.4    & 3.4    & 1.7    & 0.2    & setosa\\\\\n",
       "\t 5.1    & 3.7    & 1.5    & 0.4    & setosa\\\\\n",
       "\t 4.6    & 3.6    & 1.0    & 0.2    & setosa\\\\\n",
       "\t 5.1    & 3.3    & 1.7    & 0.5    & setosa\\\\\n",
       "\t 4.8    & 3.4    & 1.9    & 0.2    & setosa\\\\\n",
       "\t 5.0    & 3.0    & 1.6    & 0.2    & setosa\\\\\n",
       "\t 5.0    & 3.4    & 1.6    & 0.4    & setosa\\\\\n",
       "\t 5.2    & 3.5    & 1.5    & 0.2    & setosa\\\\\n",
       "\t 5.2    & 3.4    & 1.4    & 0.2    & setosa\\\\\n",
       "\t 4.7    & 3.2    & 1.6    & 0.2    & setosa\\\\\n",
       "\t 4.8    & 3.1    & 1.6    & 0.2    & setosa\\\\\n",
       "\t 5.4    & 3.4    & 1.5    & 0.4    & setosa\\\\\n",
       "\t 5.2    & 4.1    & 1.5    & 0.1    & setosa\\\\\n",
       "\t 5.5    & 4.2    & 1.4    & 0.2    & setosa\\\\\n",
       "\t 4.9    & 3.1    & 1.5    & 0.2    & setosa\\\\\n",
       "\t 5.0    & 3.2    & 1.2    & 0.2    & setosa\\\\\n",
       "\t 5.5    & 3.5    & 1.3    & 0.2    & setosa\\\\\n",
       "\t 4.9    & 3.6    & 1.4    & 0.1    & setosa\\\\\n",
       "\t 4.4    & 3.0    & 1.3    & 0.2    & setosa\\\\\n",
       "\t 5.1    & 3.4    & 1.5    & 0.2    & setosa\\\\\n",
       "\t 5.0    & 3.5    & 1.3    & 0.3    & setosa\\\\\n",
       "\t 4.5    & 2.3    & 1.3    & 0.3    & setosa\\\\\n",
       "\t 4.4    & 3.2    & 1.3    & 0.2    & setosa\\\\\n",
       "\t 5.0    & 3.5    & 1.6    & 0.6    & setosa\\\\\n",
       "\t 5.1    & 3.8    & 1.9    & 0.4    & setosa\\\\\n",
       "\t 4.8    & 3.0    & 1.4    & 0.3    & setosa\\\\\n",
       "\t 5.1    & 3.8    & 1.6    & 0.2    & setosa\\\\\n",
       "\t 4.6    & 3.2    & 1.4    & 0.2    & setosa\\\\\n",
       "\t 5.3    & 3.7    & 1.5    & 0.2    & setosa\\\\\n",
       "\t 5.0    & 3.3    & 1.4    & 0.2    & setosa\\\\\n",
       "\\end{tabular}\n"
      ],
      "text/markdown": [
       "\n",
       "| Sepal.Length | Sepal.Width | Petal.Length | Petal.Width | Species |\n",
       "|---|---|---|---|---|\n",
       "| 5.1    | 3.5    | 1.4    | 0.2    | setosa |\n",
       "| 4.9    | 3.0    | 1.4    | 0.2    | setosa |\n",
       "| 4.7    | 3.2    | 1.3    | 0.2    | setosa |\n",
       "| 4.6    | 3.1    | 1.5    | 0.2    | setosa |\n",
       "| 5.0    | 3.6    | 1.4    | 0.2    | setosa |\n",
       "| 5.4    | 3.9    | 1.7    | 0.4    | setosa |\n",
       "| 4.6    | 3.4    | 1.4    | 0.3    | setosa |\n",
       "| 5.0    | 3.4    | 1.5    | 0.2    | setosa |\n",
       "| 4.4    | 2.9    | 1.4    | 0.2    | setosa |\n",
       "| 4.9    | 3.1    | 1.5    | 0.1    | setosa |\n",
       "| 5.4    | 3.7    | 1.5    | 0.2    | setosa |\n",
       "| 4.8    | 3.4    | 1.6    | 0.2    | setosa |\n",
       "| 4.8    | 3.0    | 1.4    | 0.1    | setosa |\n",
       "| 4.3    | 3.0    | 1.1    | 0.1    | setosa |\n",
       "| 5.8    | 4.0    | 1.2    | 0.2    | setosa |\n",
       "| 5.7    | 4.4    | 1.5    | 0.4    | setosa |\n",
       "| 5.4    | 3.9    | 1.3    | 0.4    | setosa |\n",
       "| 5.1    | 3.5    | 1.4    | 0.3    | setosa |\n",
       "| 5.7    | 3.8    | 1.7    | 0.3    | setosa |\n",
       "| 5.1    | 3.8    | 1.5    | 0.3    | setosa |\n",
       "| 5.4    | 3.4    | 1.7    | 0.2    | setosa |\n",
       "| 5.1    | 3.7    | 1.5    | 0.4    | setosa |\n",
       "| 4.6    | 3.6    | 1.0    | 0.2    | setosa |\n",
       "| 5.1    | 3.3    | 1.7    | 0.5    | setosa |\n",
       "| 4.8    | 3.4    | 1.9    | 0.2    | setosa |\n",
       "| 5.0    | 3.0    | 1.6    | 0.2    | setosa |\n",
       "| 5.0    | 3.4    | 1.6    | 0.4    | setosa |\n",
       "| 5.2    | 3.5    | 1.5    | 0.2    | setosa |\n",
       "| 5.2    | 3.4    | 1.4    | 0.2    | setosa |\n",
       "| 4.7    | 3.2    | 1.6    | 0.2    | setosa |\n",
       "| 4.8    | 3.1    | 1.6    | 0.2    | setosa |\n",
       "| 5.4    | 3.4    | 1.5    | 0.4    | setosa |\n",
       "| 5.2    | 4.1    | 1.5    | 0.1    | setosa |\n",
       "| 5.5    | 4.2    | 1.4    | 0.2    | setosa |\n",
       "| 4.9    | 3.1    | 1.5    | 0.2    | setosa |\n",
       "| 5.0    | 3.2    | 1.2    | 0.2    | setosa |\n",
       "| 5.5    | 3.5    | 1.3    | 0.2    | setosa |\n",
       "| 4.9    | 3.6    | 1.4    | 0.1    | setosa |\n",
       "| 4.4    | 3.0    | 1.3    | 0.2    | setosa |\n",
       "| 5.1    | 3.4    | 1.5    | 0.2    | setosa |\n",
       "| 5.0    | 3.5    | 1.3    | 0.3    | setosa |\n",
       "| 4.5    | 2.3    | 1.3    | 0.3    | setosa |\n",
       "| 4.4    | 3.2    | 1.3    | 0.2    | setosa |\n",
       "| 5.0    | 3.5    | 1.6    | 0.6    | setosa |\n",
       "| 5.1    | 3.8    | 1.9    | 0.4    | setosa |\n",
       "| 4.8    | 3.0    | 1.4    | 0.3    | setosa |\n",
       "| 5.1    | 3.8    | 1.6    | 0.2    | setosa |\n",
       "| 4.6    | 3.2    | 1.4    | 0.2    | setosa |\n",
       "| 5.3    | 3.7    | 1.5    | 0.2    | setosa |\n",
       "| 5.0    | 3.3    | 1.4    | 0.2    | setosa |\n",
       "\n"
      ],
      "text/plain": [
       "   Sepal.Length Sepal.Width Petal.Length Petal.Width Species\n",
       "1  5.1          3.5         1.4          0.2         setosa \n",
       "2  4.9          3.0         1.4          0.2         setosa \n",
       "3  4.7          3.2         1.3          0.2         setosa \n",
       "4  4.6          3.1         1.5          0.2         setosa \n",
       "5  5.0          3.6         1.4          0.2         setosa \n",
       "6  5.4          3.9         1.7          0.4         setosa \n",
       "7  4.6          3.4         1.4          0.3         setosa \n",
       "8  5.0          3.4         1.5          0.2         setosa \n",
       "9  4.4          2.9         1.4          0.2         setosa \n",
       "10 4.9          3.1         1.5          0.1         setosa \n",
       "11 5.4          3.7         1.5          0.2         setosa \n",
       "12 4.8          3.4         1.6          0.2         setosa \n",
       "13 4.8          3.0         1.4          0.1         setosa \n",
       "14 4.3          3.0         1.1          0.1         setosa \n",
       "15 5.8          4.0         1.2          0.2         setosa \n",
       "16 5.7          4.4         1.5          0.4         setosa \n",
       "17 5.4          3.9         1.3          0.4         setosa \n",
       "18 5.1          3.5         1.4          0.3         setosa \n",
       "19 5.7          3.8         1.7          0.3         setosa \n",
       "20 5.1          3.8         1.5          0.3         setosa \n",
       "21 5.4          3.4         1.7          0.2         setosa \n",
       "22 5.1          3.7         1.5          0.4         setosa \n",
       "23 4.6          3.6         1.0          0.2         setosa \n",
       "24 5.1          3.3         1.7          0.5         setosa \n",
       "25 4.8          3.4         1.9          0.2         setosa \n",
       "26 5.0          3.0         1.6          0.2         setosa \n",
       "27 5.0          3.4         1.6          0.4         setosa \n",
       "28 5.2          3.5         1.5          0.2         setosa \n",
       "29 5.2          3.4         1.4          0.2         setosa \n",
       "30 4.7          3.2         1.6          0.2         setosa \n",
       "31 4.8          3.1         1.6          0.2         setosa \n",
       "32 5.4          3.4         1.5          0.4         setosa \n",
       "33 5.2          4.1         1.5          0.1         setosa \n",
       "34 5.5          4.2         1.4          0.2         setosa \n",
       "35 4.9          3.1         1.5          0.2         setosa \n",
       "36 5.0          3.2         1.2          0.2         setosa \n",
       "37 5.5          3.5         1.3          0.2         setosa \n",
       "38 4.9          3.6         1.4          0.1         setosa \n",
       "39 4.4          3.0         1.3          0.2         setosa \n",
       "40 5.1          3.4         1.5          0.2         setosa \n",
       "41 5.0          3.5         1.3          0.3         setosa \n",
       "42 4.5          2.3         1.3          0.3         setosa \n",
       "43 4.4          3.2         1.3          0.2         setosa \n",
       "44 5.0          3.5         1.6          0.6         setosa \n",
       "45 5.1          3.8         1.9          0.4         setosa \n",
       "46 4.8          3.0         1.4          0.3         setosa \n",
       "47 5.1          3.8         1.6          0.2         setosa \n",
       "48 4.6          3.2         1.4          0.2         setosa \n",
       "49 5.3          3.7         1.5          0.2         setosa \n",
       "50 5.0          3.3         1.4          0.2         setosa "
      ]
     },
     "metadata": {},
     "output_type": "display_data"
    }
   ],
   "source": [
    "subset(iris,Species=='setosa')"
   ]
  },
  {
   "cell_type": "code",
   "execution_count": 3,
   "metadata": {},
   "outputs": [
    {
     "data": {
      "text/html": [
       "<table>\n",
       "<thead><tr><th scope=col>Sepal.Length</th><th scope=col>Sepal.Width</th><th scope=col>Petal.Length</th><th scope=col>Petal.Width</th><th scope=col>Species</th></tr></thead>\n",
       "<tbody>\n",
       "\t<tr><td>5.1   </td><td>3.5   </td><td>1.4   </td><td>0.2   </td><td>setosa</td></tr>\n",
       "\t<tr><td>4.9   </td><td>3.0   </td><td>1.4   </td><td>0.2   </td><td>setosa</td></tr>\n",
       "\t<tr><td>4.7   </td><td>3.2   </td><td>1.3   </td><td>0.2   </td><td>setosa</td></tr>\n",
       "\t<tr><td>4.6   </td><td>3.1   </td><td>1.5   </td><td>0.2   </td><td>setosa</td></tr>\n",
       "\t<tr><td>5.0   </td><td>3.6   </td><td>1.4   </td><td>0.2   </td><td>setosa</td></tr>\n",
       "\t<tr><td>5.4   </td><td>3.9   </td><td>1.7   </td><td>0.4   </td><td>setosa</td></tr>\n",
       "</tbody>\n",
       "</table>\n"
      ],
      "text/latex": [
       "\\begin{tabular}{r|lllll}\n",
       " Sepal.Length & Sepal.Width & Petal.Length & Petal.Width & Species\\\\\n",
       "\\hline\n",
       "\t 5.1    & 3.5    & 1.4    & 0.2    & setosa\\\\\n",
       "\t 4.9    & 3.0    & 1.4    & 0.2    & setosa\\\\\n",
       "\t 4.7    & 3.2    & 1.3    & 0.2    & setosa\\\\\n",
       "\t 4.6    & 3.1    & 1.5    & 0.2    & setosa\\\\\n",
       "\t 5.0    & 3.6    & 1.4    & 0.2    & setosa\\\\\n",
       "\t 5.4    & 3.9    & 1.7    & 0.4    & setosa\\\\\n",
       "\\end{tabular}\n"
      ],
      "text/markdown": [
       "\n",
       "| Sepal.Length | Sepal.Width | Petal.Length | Petal.Width | Species |\n",
       "|---|---|---|---|---|\n",
       "| 5.1    | 3.5    | 1.4    | 0.2    | setosa |\n",
       "| 4.9    | 3.0    | 1.4    | 0.2    | setosa |\n",
       "| 4.7    | 3.2    | 1.3    | 0.2    | setosa |\n",
       "| 4.6    | 3.1    | 1.5    | 0.2    | setosa |\n",
       "| 5.0    | 3.6    | 1.4    | 0.2    | setosa |\n",
       "| 5.4    | 3.9    | 1.7    | 0.4    | setosa |\n",
       "\n"
      ],
      "text/plain": [
       "  Sepal.Length Sepal.Width Petal.Length Petal.Width Species\n",
       "1 5.1          3.5         1.4          0.2         setosa \n",
       "2 4.9          3.0         1.4          0.2         setosa \n",
       "3 4.7          3.2         1.3          0.2         setosa \n",
       "4 4.6          3.1         1.5          0.2         setosa \n",
       "5 5.0          3.6         1.4          0.2         setosa \n",
       "6 5.4          3.9         1.7          0.4         setosa "
      ]
     },
     "metadata": {},
     "output_type": "display_data"
    }
   ],
   "source": [
    "#부분집합 구하기, 품종이 setosa인 샘플만 선택\n",
    "head(subset(iris,Species=='setosa'))"
   ]
  },
  {
   "cell_type": "code",
   "execution_count": 4,
   "metadata": {},
   "outputs": [
    {
     "data": {
      "text/html": [
       "<table>\n",
       "<thead><tr><th></th><th scope=col>Sepal.Length</th><th scope=col>Sepal.Width</th><th scope=col>Petal.Length</th><th scope=col>Petal.Width</th><th scope=col>Species</th></tr></thead>\n",
       "<tbody>\n",
       "\t<tr><th scope=row>1</th><td>5.1   </td><td>3.5   </td><td>1.4   </td><td>0.2   </td><td>setosa</td></tr>\n",
       "\t<tr><th scope=row>6</th><td>5.4   </td><td>3.9   </td><td>1.7   </td><td>0.4   </td><td>setosa</td></tr>\n",
       "\t<tr><th scope=row>11</th><td>5.4   </td><td>3.7   </td><td>1.5   </td><td>0.2   </td><td>setosa</td></tr>\n",
       "\t<tr><th scope=row>15</th><td>5.8   </td><td>4.0   </td><td>1.2   </td><td>0.2   </td><td>setosa</td></tr>\n",
       "\t<tr><th scope=row>16</th><td>5.7   </td><td>4.4   </td><td>1.5   </td><td>0.4   </td><td>setosa</td></tr>\n",
       "\t<tr><th scope=row>17</th><td>5.4   </td><td>3.9   </td><td>1.3   </td><td>0.4   </td><td>setosa</td></tr>\n",
       "</tbody>\n",
       "</table>\n"
      ],
      "text/latex": [
       "\\begin{tabular}{r|lllll}\n",
       "  & Sepal.Length & Sepal.Width & Petal.Length & Petal.Width & Species\\\\\n",
       "\\hline\n",
       "\t1 & 5.1    & 3.5    & 1.4    & 0.2    & setosa\\\\\n",
       "\t6 & 5.4    & 3.9    & 1.7    & 0.4    & setosa\\\\\n",
       "\t11 & 5.4    & 3.7    & 1.5    & 0.2    & setosa\\\\\n",
       "\t15 & 5.8    & 4.0    & 1.2    & 0.2    & setosa\\\\\n",
       "\t16 & 5.7    & 4.4    & 1.5    & 0.4    & setosa\\\\\n",
       "\t17 & 5.4    & 3.9    & 1.3    & 0.4    & setosa\\\\\n",
       "\\end{tabular}\n"
      ],
      "text/markdown": [
       "\n",
       "| <!--/--> | Sepal.Length | Sepal.Width | Petal.Length | Petal.Width | Species |\n",
       "|---|---|---|---|---|---|\n",
       "| 1 | 5.1    | 3.5    | 1.4    | 0.2    | setosa |\n",
       "| 6 | 5.4    | 3.9    | 1.7    | 0.4    | setosa |\n",
       "| 11 | 5.4    | 3.7    | 1.5    | 0.2    | setosa |\n",
       "| 15 | 5.8    | 4.0    | 1.2    | 0.2    | setosa |\n",
       "| 16 | 5.7    | 4.4    | 1.5    | 0.4    | setosa |\n",
       "| 17 | 5.4    | 3.9    | 1.3    | 0.4    | setosa |\n",
       "\n"
      ],
      "text/plain": [
       "   Sepal.Length Sepal.Width Petal.Length Petal.Width Species\n",
       "1  5.1          3.5         1.4          0.2         setosa \n",
       "6  5.4          3.9         1.7          0.4         setosa \n",
       "11 5.4          3.7         1.5          0.2         setosa \n",
       "15 5.8          4.0         1.2          0.2         setosa \n",
       "16 5.7          4.4         1.5          0.4         setosa \n",
       "17 5.4          3.9         1.3          0.4         setosa "
      ]
     },
     "metadata": {},
     "output_type": "display_data"
    }
   ],
   "source": [
    "head(subset(iris,Species=='setosa' & Sepal.Length >5.0))"
   ]
  },
  {
   "cell_type": "code",
   "execution_count": 5,
   "metadata": {},
   "outputs": [
    {
     "data": {
      "text/html": [
       "<table>\n",
       "<thead><tr><th scope=col>name</th><th scope=col>math</th></tr></thead>\n",
       "<tbody>\n",
       "\t<tr><td>a</td><td>1</td></tr>\n",
       "\t<tr><td>b</td><td>2</td></tr>\n",
       "\t<tr><td>c</td><td>3</td></tr>\n",
       "</tbody>\n",
       "</table>\n"
      ],
      "text/latex": [
       "\\begin{tabular}{r|ll}\n",
       " name & math\\\\\n",
       "\\hline\n",
       "\t a & 1\\\\\n",
       "\t b & 2\\\\\n",
       "\t c & 3\\\\\n",
       "\\end{tabular}\n"
      ],
      "text/markdown": [
       "\n",
       "| name | math |\n",
       "|---|---|\n",
       "| a | 1 |\n",
       "| b | 2 |\n",
       "| c | 3 |\n",
       "\n"
      ],
      "text/plain": [
       "  name math\n",
       "1 a    1   \n",
       "2 b    2   \n",
       "3 c    3   "
      ]
     },
     "metadata": {},
     "output_type": "display_data"
    },
    {
     "data": {
      "text/html": [
       "<table>\n",
       "<thead><tr><th scope=col>name</th><th scope=col>english</th></tr></thead>\n",
       "<tbody>\n",
       "\t<tr><td>a</td><td>4</td></tr>\n",
       "\t<tr><td>b</td><td>5</td></tr>\n",
       "\t<tr><td>c</td><td>6</td></tr>\n",
       "</tbody>\n",
       "</table>\n"
      ],
      "text/latex": [
       "\\begin{tabular}{r|ll}\n",
       " name & english\\\\\n",
       "\\hline\n",
       "\t a & 4\\\\\n",
       "\t b & 5\\\\\n",
       "\t c & 6\\\\\n",
       "\\end{tabular}\n"
      ],
      "text/markdown": [
       "\n",
       "| name | english |\n",
       "|---|---|\n",
       "| a | 4 |\n",
       "| b | 5 |\n",
       "| c | 6 |\n",
       "\n"
      ],
      "text/plain": [
       "  name english\n",
       "1 a    4      \n",
       "2 b    5      \n",
       "3 c    6      "
      ]
     },
     "metadata": {},
     "output_type": "display_data"
    },
    {
     "data": {
      "text/html": [
       "<table>\n",
       "<thead><tr><th scope=col>name</th><th scope=col>math</th><th scope=col>english</th></tr></thead>\n",
       "<tbody>\n",
       "\t<tr><td>a</td><td>1</td><td>4</td></tr>\n",
       "\t<tr><td>b</td><td>2</td><td>5</td></tr>\n",
       "\t<tr><td>c</td><td>3</td><td>6</td></tr>\n",
       "</tbody>\n",
       "</table>\n"
      ],
      "text/latex": [
       "\\begin{tabular}{r|lll}\n",
       " name & math & english\\\\\n",
       "\\hline\n",
       "\t a & 1 & 4\\\\\n",
       "\t b & 2 & 5\\\\\n",
       "\t c & 3 & 6\\\\\n",
       "\\end{tabular}\n"
      ],
      "text/markdown": [
       "\n",
       "| name | math | english |\n",
       "|---|---|---|\n",
       "| a | 1 | 4 |\n",
       "| b | 2 | 5 |\n",
       "| c | 3 | 6 |\n",
       "\n"
      ],
      "text/plain": [
       "  name math english\n",
       "1 a    1    4      \n",
       "2 b    2    5      \n",
       "3 c    3    6      "
      ]
     },
     "metadata": {},
     "output_type": "display_data"
    }
   ],
   "source": [
    "#merge:sql의 join과 비슷한 명령어,\n",
    "#같은 필드를 기준으로 데이터프레임을 합치는 함수\n",
    "x <- data.frame(name=c('a','b','c'),math=c(1,2,3))\n",
    "y <- data.frame(name=c('a','b','c'),english=c(4,5,6))\n",
    "x\n",
    "y\n",
    "merge(x,y)"
   ]
  },
  {
   "cell_type": "code",
   "execution_count": 6,
   "metadata": {},
   "outputs": [
    {
     "data": {
      "text/html": [
       "<table>\n",
       "<thead><tr><th scope=col>Species</th><th scope=col>Sepal.Width</th></tr></thead>\n",
       "<tbody>\n",
       "\t<tr><td>setosa    </td><td>3.428     </td></tr>\n",
       "\t<tr><td>versicolor</td><td>2.770     </td></tr>\n",
       "\t<tr><td>virginica </td><td>2.974     </td></tr>\n",
       "</tbody>\n",
       "</table>\n"
      ],
      "text/latex": [
       "\\begin{tabular}{r|ll}\n",
       " Species & Sepal.Width\\\\\n",
       "\\hline\n",
       "\t setosa     & 3.428     \\\\\n",
       "\t versicolor & 2.770     \\\\\n",
       "\t virginica  & 2.974     \\\\\n",
       "\\end{tabular}\n"
      ],
      "text/markdown": [
       "\n",
       "| Species | Sepal.Width |\n",
       "|---|---|\n",
       "| setosa     | 3.428      |\n",
       "| versicolor | 2.770      |\n",
       "| virginica  | 2.974      |\n",
       "\n"
      ],
      "text/plain": [
       "  Species    Sepal.Width\n",
       "1 setosa     3.428      \n",
       "2 versicolor 2.770      \n",
       "3 virginica  2.974      "
      ]
     },
     "metadata": {},
     "output_type": "display_data"
    }
   ],
   "source": [
    "#그룹 연산 품종별로 Sepal.Width의 평균길이 계산\n",
    "aggregate(Sepal.Width ~ Species, iris, mean)"
   ]
  },
  {
   "cell_type": "code",
   "execution_count": 8,
   "metadata": {},
   "outputs": [
    {
     "name": "stdout",
     "output_type": "stream",
     "text": [
      "package 'rJava' successfully unpacked and MD5 sums checked\n",
      "\n",
      "The downloaded binary packages are in\n",
      "\tC:\\Users\\tjoeun302-18\\AppData\\Local\\Temp\\RtmpCC9W4V\\downloaded_packages\n",
      "package 'DBI' successfully unpacked and MD5 sums checked\n",
      "\n",
      "The downloaded binary packages are in\n",
      "\tC:\\Users\\tjoeun302-18\\AppData\\Local\\Temp\\RtmpCC9W4V\\downloaded_packages\n",
      "package 'RMySQL' successfully unpacked and MD5 sums checked\n"
     ]
    },
    {
     "name": "stderr",
     "output_type": "stream",
     "text": [
      "Warning message:\n",
      "\"cannot remove prior installation of package 'RMySQL'\"Warning message in file.copy(savedcopy, lib, recursive = TRUE):\n",
      "\"C:\\Anaconda\\Lib\\R\\library\\00LOCK\\RMySQL\\libs\\x64\\RMySQL.dll를 C:\\Anaconda\\Lib\\R\\library\\RMySQL\\libs\\x64\\RMySQL.dll로 복사하는데 문제가 발생했습니다: Permission denied\"Warning message:\n",
      "\"restored 'RMySQL'\""
     ]
    },
    {
     "name": "stdout",
     "output_type": "stream",
     "text": [
      "\n",
      "The downloaded binary packages are in\n",
      "\tC:\\Users\\tjoeun302-18\\AppData\\Local\\Temp\\RtmpCC9W4V\\downloaded_packages\n"
     ]
    }
   ],
   "source": [
    "install.packages('rJava')\n",
    "install.packages('DBI')\n",
    "install.packages('RMySQL')"
   ]
  },
  {
   "cell_type": "code",
   "execution_count": 9,
   "metadata": {},
   "outputs": [
    {
     "name": "stderr",
     "output_type": "stream",
     "text": [
      "Warning message:\n",
      "\"package 'RMySQL' was built under R version 3.6.2\"Loading required package: DBI\n",
      "Warning message:\n",
      "\"package 'DBI' was built under R version 3.6.2\""
     ]
    }
   ],
   "source": [
    "library(RMySQL)"
   ]
  },
  {
   "cell_type": "code",
   "execution_count": 10,
   "metadata": {},
   "outputs": [],
   "source": [
    "#R에서 mysql에 접속\n",
    "conn<-dbConnect(MySQL(), dbname='myweb',user='web',\n",
    "               password='1234',host='127.0.0.1')"
   ]
  },
  {
   "cell_type": "code",
   "execution_count": 11,
   "metadata": {},
   "outputs": [
    {
     "name": "stdout",
     "output_type": "stream",
     "text": [
      "[1] \"air\"      \"boston\"   \"diabetes\" \"hrd\"      \"ontime\"   \"pages\"    \"score\"   \n",
      "[8] \"weather\"  \"wine\"    \n"
     ]
    }
   ],
   "source": [
    "print(dbListTables(conn)) #테이블 목록"
   ]
  },
  {
   "cell_type": "code",
   "execution_count": 12,
   "metadata": {},
   "outputs": [
    {
     "data": {
      "text/html": [
       "<table>\n",
       "<thead><tr><th scope=col>count(*)</th></tr></thead>\n",
       "<tbody>\n",
       "\t<tr><td>5</td></tr>\n",
       "</tbody>\n",
       "</table>\n"
      ],
      "text/latex": [
       "\\begin{tabular}{r|l}\n",
       " count(*)\\\\\n",
       "\\hline\n",
       "\t 5\\\\\n",
       "\\end{tabular}\n"
      ],
      "text/markdown": [
       "\n",
       "| count(*) |\n",
       "|---|\n",
       "| 5 |\n",
       "\n"
      ],
      "text/plain": [
       "  count(*)\n",
       "1 5       "
      ]
     },
     "metadata": {},
     "output_type": "display_data"
    }
   ],
   "source": [
    "#sql 명령어를 실행\n",
    "result<-dbGetQuery(conn,'select count(*) from score')\n",
    "result"
   ]
  },
  {
   "cell_type": "code",
   "execution_count": 13,
   "metadata": {},
   "outputs": [
    {
     "data": {
      "text/html": [
       "<table>\n",
       "<thead><tr><th scope=col>student_no</th><th scope=col>kor</th><th scope=col>eng</th><th scope=col>mat</th></tr></thead>\n",
       "<tbody>\n",
       "\t<tr><td>1 </td><td>90</td><td>80</td><td>70</td></tr>\n",
       "\t<tr><td>2 </td><td>88</td><td>77</td><td>70</td></tr>\n",
       "\t<tr><td>3 </td><td>99</td><td>89</td><td>79</td></tr>\n",
       "\t<tr><td>4 </td><td>95</td><td>85</td><td>89</td></tr>\n",
       "\t<tr><td>5 </td><td>77</td><td>55</td><td>83</td></tr>\n",
       "</tbody>\n",
       "</table>\n"
      ],
      "text/latex": [
       "\\begin{tabular}{r|llll}\n",
       " student\\_no & kor & eng & mat\\\\\n",
       "\\hline\n",
       "\t 1  & 90 & 80 & 70\\\\\n",
       "\t 2  & 88 & 77 & 70\\\\\n",
       "\t 3  & 99 & 89 & 79\\\\\n",
       "\t 4  & 95 & 85 & 89\\\\\n",
       "\t 5  & 77 & 55 & 83\\\\\n",
       "\\end{tabular}\n"
      ],
      "text/markdown": [
       "\n",
       "| student_no | kor | eng | mat |\n",
       "|---|---|---|---|\n",
       "| 1  | 90 | 80 | 70 |\n",
       "| 2  | 88 | 77 | 70 |\n",
       "| 3  | 99 | 89 | 79 |\n",
       "| 4  | 95 | 85 | 89 |\n",
       "| 5  | 77 | 55 | 83 |\n",
       "\n"
      ],
      "text/plain": [
       "  student_no kor eng mat\n",
       "1 1          90  80  70 \n",
       "2 2          88  77  70 \n",
       "3 3          99  89  79 \n",
       "4 4          95  85  89 \n",
       "5 5          77  55  83 "
      ]
     },
     "metadata": {},
     "output_type": "display_data"
    }
   ],
   "source": [
    "result<-dbGetQuery(conn,'select * from score')\n",
    "result"
   ]
  },
  {
   "cell_type": "code",
   "execution_count": 14,
   "metadata": {},
   "outputs": [
    {
     "data": {
      "text/html": [
       "<ol class=list-inline>\n",
       "\t<li>'student_no'</li>\n",
       "\t<li>'kor'</li>\n",
       "\t<li>'eng'</li>\n",
       "\t<li>'mat'</li>\n",
       "</ol>\n"
      ],
      "text/latex": [
       "\\begin{enumerate*}\n",
       "\\item 'student\\_no'\n",
       "\\item 'kor'\n",
       "\\item 'eng'\n",
       "\\item 'mat'\n",
       "\\end{enumerate*}\n"
      ],
      "text/markdown": [
       "1. 'student_no'\n",
       "2. 'kor'\n",
       "3. 'eng'\n",
       "4. 'mat'\n",
       "\n",
       "\n"
      ],
      "text/plain": [
       "[1] \"student_no\" \"kor\"        \"eng\"        \"mat\"       "
      ]
     },
     "metadata": {},
     "output_type": "display_data"
    }
   ],
   "source": [
    "dbListFields(conn,'score') #테이블의 필드 목록"
   ]
  },
  {
   "cell_type": "code",
   "execution_count": 15,
   "metadata": {},
   "outputs": [
    {
     "data": {
      "text/plain": [
       "<MySQLResult:659995128,0,4>"
      ]
     },
     "metadata": {},
     "output_type": "display_data"
    }
   ],
   "source": [
    "# select 이외의 명령어\n",
    "dbSendQuery(conn, 'delete from score')"
   ]
  },
  {
   "cell_type": "code",
   "execution_count": 16,
   "metadata": {},
   "outputs": [
    {
     "data": {
      "text/plain": [
       "<MySQLResult:1919443827,0,5>"
      ]
     },
     "metadata": {},
     "output_type": "display_data"
    },
    {
     "data": {
      "text/plain": [
       "<MySQLResult:218875208,0,6>"
      ]
     },
     "metadata": {},
     "output_type": "display_data"
    },
    {
     "data": {
      "text/plain": [
       "<MySQLResult:218019904,0,7>"
      ]
     },
     "metadata": {},
     "output_type": "display_data"
    },
    {
     "data": {
      "text/plain": [
       "<MySQLResult:218827640,0,8>"
      ]
     },
     "metadata": {},
     "output_type": "display_data"
    },
    {
     "data": {
      "text/plain": [
       "<MySQLResult:2,0,9>"
      ]
     },
     "metadata": {},
     "output_type": "display_data"
    }
   ],
   "source": [
    "#레코드 추가\n",
    "dbSendQuery(conn,\"INSERT INTO score VALUES ('1',90,80,70)\")\n",
    "dbSendQuery(conn,\"INSERT INTO score VALUES ('2',88,77,70)\")\n",
    "dbSendQuery(conn,\"INSERT INTO score VALUES ('3',99,89,79)\")\n",
    "dbSendQuery(conn,\"INSERT INTO score VALUES ('4',95,85,89)\")\n",
    "dbSendQuery(conn,\"INSERT INTO score VALUES ('5',77,55,83)\")"
   ]
  },
  {
   "cell_type": "code",
   "execution_count": 17,
   "metadata": {},
   "outputs": [
    {
     "data": {
      "text/html": [
       "<table>\n",
       "<thead><tr><th scope=col>student_no</th><th scope=col>kor</th><th scope=col>eng</th><th scope=col>mat</th></tr></thead>\n",
       "<tbody>\n",
       "\t<tr><td>1 </td><td>90</td><td>80</td><td>70</td></tr>\n",
       "\t<tr><td>2 </td><td>88</td><td>77</td><td>70</td></tr>\n",
       "\t<tr><td>3 </td><td>99</td><td>89</td><td>79</td></tr>\n",
       "\t<tr><td>4 </td><td>95</td><td>85</td><td>89</td></tr>\n",
       "\t<tr><td>5 </td><td>77</td><td>55</td><td>83</td></tr>\n",
       "</tbody>\n",
       "</table>\n"
      ],
      "text/latex": [
       "\\begin{tabular}{r|llll}\n",
       " student\\_no & kor & eng & mat\\\\\n",
       "\\hline\n",
       "\t 1  & 90 & 80 & 70\\\\\n",
       "\t 2  & 88 & 77 & 70\\\\\n",
       "\t 3  & 99 & 89 & 79\\\\\n",
       "\t 4  & 95 & 85 & 89\\\\\n",
       "\t 5  & 77 & 55 & 83\\\\\n",
       "\\end{tabular}\n"
      ],
      "text/markdown": [
       "\n",
       "| student_no | kor | eng | mat |\n",
       "|---|---|---|---|\n",
       "| 1  | 90 | 80 | 70 |\n",
       "| 2  | 88 | 77 | 70 |\n",
       "| 3  | 99 | 89 | 79 |\n",
       "| 4  | 95 | 85 | 89 |\n",
       "| 5  | 77 | 55 | 83 |\n",
       "\n"
      ],
      "text/plain": [
       "  student_no kor eng mat\n",
       "1 1          90  80  70 \n",
       "2 2          88  77  70 \n",
       "3 3          99  89  79 \n",
       "4 4          95  85  89 \n",
       "5 5          77  55  83 "
      ]
     },
     "metadata": {},
     "output_type": "display_data"
    }
   ],
   "source": [
    "result<-dbGetQuery(conn, 'select * from score')\n",
    "result"
   ]
  },
  {
   "cell_type": "code",
   "execution_count": 18,
   "metadata": {},
   "outputs": [
    {
     "data": {
      "text/html": [
       "TRUE"
      ],
      "text/latex": [
       "TRUE"
      ],
      "text/markdown": [
       "TRUE"
      ],
      "text/plain": [
       "[1] TRUE"
      ]
     },
     "metadata": {},
     "output_type": "display_data"
    }
   ],
   "source": [
    "#데이터베이스 연결 종료\n",
    "dbDisconnect(conn)"
   ]
  },
  {
   "cell_type": "code",
   "execution_count": 6,
   "metadata": {},
   "outputs": [
    {
     "name": "stderr",
     "output_type": "stream",
     "text": [
      "Installing package into 'C:/Users/tjoeun302-18/Documents/R/win-library/3.6'\n",
      "(as 'lib' is unspecified)\n"
     ]
    },
    {
     "name": "stdout",
     "output_type": "stream",
     "text": [
      "package 'sqldf' successfully unpacked and MD5 sums checked\n",
      "\n",
      "The downloaded binary packages are in\n",
      "\tC:\\Users\\tjoeun302-18\\AppData\\Local\\Temp\\RtmpMFjmSr\\downloaded_packages\n"
     ]
    },
    {
     "name": "stderr",
     "output_type": "stream",
     "text": [
      "Installing package into 'C:/Users/tjoeun302-18/Documents/R/win-library/3.6'\n",
      "(as 'lib' is unspecified)\n"
     ]
    },
    {
     "name": "stdout",
     "output_type": "stream",
     "text": [
      "package 'chron' successfully unpacked and MD5 sums checked\n",
      "\n",
      "The downloaded binary packages are in\n",
      "\tC:\\Users\\tjoeun302-18\\AppData\\Local\\Temp\\RtmpMFjmSr\\downloaded_packages\n"
     ]
    },
    {
     "name": "stderr",
     "output_type": "stream",
     "text": [
      "Installing package into 'C:/Users/tjoeun302-18/Documents/R/win-library/3.6'\n",
      "(as 'lib' is unspecified)\n"
     ]
    },
    {
     "name": "stdout",
     "output_type": "stream",
     "text": [
      "package 'RSQLite' successfully unpacked and MD5 sums checked\n",
      "\n",
      "The downloaded binary packages are in\n",
      "\tC:\\Users\\tjoeun302-18\\AppData\\Local\\Temp\\RtmpMFjmSr\\downloaded_packages\n"
     ]
    }
   ],
   "source": [
    "install.packages(\"sqldf\")\n",
    "install.packages(\"chron\")\n",
    "install.packages(\"RSQLite\")"
   ]
  },
  {
   "cell_type": "code",
   "execution_count": 7,
   "metadata": {},
   "outputs": [
    {
     "name": "stderr",
     "output_type": "stream",
     "text": [
      "Warning message:\n",
      "\"package 'sqldf' was built under R version 3.6.2\"Loading required package: gsubfn\n",
      "Warning message:\n",
      "\"package 'gsubfn' was built under R version 3.6.2\"Loading required package: proto\n",
      "Warning message:\n",
      "\"package 'proto' was built under R version 3.6.2\"Loading required package: RSQLite\n",
      "Warning message:\n",
      "\"package 'RSQLite' was built under R version 3.6.2\""
     ]
    }
   ],
   "source": [
    "library(sqldf)"
   ]
  },
  {
   "cell_type": "code",
   "execution_count": 8,
   "metadata": {},
   "outputs": [
    {
     "data": {
      "text/html": [
       "<table>\n",
       "<thead><tr><th scope=col>Sepal.Length</th><th scope=col>Sepal.Width</th><th scope=col>Petal.Length</th><th scope=col>Petal.Width</th><th scope=col>Species</th></tr></thead>\n",
       "<tbody>\n",
       "\t<tr><td>5.1   </td><td>3.5   </td><td>1.4   </td><td>0.2   </td><td>setosa</td></tr>\n",
       "\t<tr><td>4.9   </td><td>3.0   </td><td>1.4   </td><td>0.2   </td><td>setosa</td></tr>\n",
       "\t<tr><td>4.7   </td><td>3.2   </td><td>1.3   </td><td>0.2   </td><td>setosa</td></tr>\n",
       "\t<tr><td>4.6   </td><td>3.1   </td><td>1.5   </td><td>0.2   </td><td>setosa</td></tr>\n",
       "\t<tr><td>5.0   </td><td>3.6   </td><td>1.4   </td><td>0.2   </td><td>setosa</td></tr>\n",
       "</tbody>\n",
       "</table>\n"
      ],
      "text/latex": [
       "\\begin{tabular}{r|lllll}\n",
       " Sepal.Length & Sepal.Width & Petal.Length & Petal.Width & Species\\\\\n",
       "\\hline\n",
       "\t 5.1    & 3.5    & 1.4    & 0.2    & setosa\\\\\n",
       "\t 4.9    & 3.0    & 1.4    & 0.2    & setosa\\\\\n",
       "\t 4.7    & 3.2    & 1.3    & 0.2    & setosa\\\\\n",
       "\t 4.6    & 3.1    & 1.5    & 0.2    & setosa\\\\\n",
       "\t 5.0    & 3.6    & 1.4    & 0.2    & setosa\\\\\n",
       "\\end{tabular}\n"
      ],
      "text/markdown": [
       "\n",
       "| Sepal.Length | Sepal.Width | Petal.Length | Petal.Width | Species |\n",
       "|---|---|---|---|---|\n",
       "| 5.1    | 3.5    | 1.4    | 0.2    | setosa |\n",
       "| 4.9    | 3.0    | 1.4    | 0.2    | setosa |\n",
       "| 4.7    | 3.2    | 1.3    | 0.2    | setosa |\n",
       "| 4.6    | 3.1    | 1.5    | 0.2    | setosa |\n",
       "| 5.0    | 3.6    | 1.4    | 0.2    | setosa |\n",
       "\n"
      ],
      "text/plain": [
       "  Sepal.Length Sepal.Width Petal.Length Petal.Width Species\n",
       "1 5.1          3.5         1.4          0.2         setosa \n",
       "2 4.9          3.0         1.4          0.2         setosa \n",
       "3 4.7          3.2         1.3          0.2         setosa \n",
       "4 4.6          3.1         1.5          0.2         setosa \n",
       "5 5.0          3.6         1.4          0.2         setosa "
      ]
     },
     "metadata": {},
     "output_type": "display_data"
    }
   ],
   "source": [
    "sqldf('select * from iris limit 5',drv='SQLite')"
   ]
  },
  {
   "cell_type": "code",
   "execution_count": 9,
   "metadata": {},
   "outputs": [
    {
     "data": {
      "text/html": [
       "<table>\n",
       "<thead><tr><th scope=col>Sepal.Length</th><th scope=col>Sepal.Width</th><th scope=col>Petal.Length</th><th scope=col>Petal.Width</th><th scope=col>Species</th></tr></thead>\n",
       "<tbody>\n",
       "\t<tr><td>4.3   </td><td>3.0   </td><td>1.1   </td><td>0.1   </td><td>setosa</td></tr>\n",
       "\t<tr><td>4.4   </td><td>2.9   </td><td>1.4   </td><td>0.2   </td><td>setosa</td></tr>\n",
       "\t<tr><td>4.4   </td><td>3.0   </td><td>1.3   </td><td>0.2   </td><td>setosa</td></tr>\n",
       "\t<tr><td>4.4   </td><td>3.2   </td><td>1.3   </td><td>0.2   </td><td>setosa</td></tr>\n",
       "\t<tr><td>4.5   </td><td>2.3   </td><td>1.3   </td><td>0.3   </td><td>setosa</td></tr>\n",
       "</tbody>\n",
       "</table>\n"
      ],
      "text/latex": [
       "\\begin{tabular}{r|lllll}\n",
       " Sepal.Length & Sepal.Width & Petal.Length & Petal.Width & Species\\\\\n",
       "\\hline\n",
       "\t 4.3    & 3.0    & 1.1    & 0.1    & setosa\\\\\n",
       "\t 4.4    & 2.9    & 1.4    & 0.2    & setosa\\\\\n",
       "\t 4.4    & 3.0    & 1.3    & 0.2    & setosa\\\\\n",
       "\t 4.4    & 3.2    & 1.3    & 0.2    & setosa\\\\\n",
       "\t 4.5    & 2.3    & 1.3    & 0.3    & setosa\\\\\n",
       "\\end{tabular}\n"
      ],
      "text/markdown": [
       "\n",
       "| Sepal.Length | Sepal.Width | Petal.Length | Petal.Width | Species |\n",
       "|---|---|---|---|---|\n",
       "| 4.3    | 3.0    | 1.1    | 0.1    | setosa |\n",
       "| 4.4    | 2.9    | 1.4    | 0.2    | setosa |\n",
       "| 4.4    | 3.0    | 1.3    | 0.2    | setosa |\n",
       "| 4.4    | 3.2    | 1.3    | 0.2    | setosa |\n",
       "| 4.5    | 2.3    | 1.3    | 0.3    | setosa |\n",
       "\n"
      ],
      "text/plain": [
       "  Sepal.Length Sepal.Width Petal.Length Petal.Width Species\n",
       "1 4.3          3.0         1.1          0.1         setosa \n",
       "2 4.4          2.9         1.4          0.2         setosa \n",
       "3 4.4          3.0         1.3          0.2         setosa \n",
       "4 4.4          3.2         1.3          0.2         setosa \n",
       "5 4.5          2.3         1.3          0.3         setosa "
      ]
     },
     "metadata": {},
     "output_type": "display_data"
    },
    {
     "data": {
      "text/html": [
       "<table>\n",
       "<thead><tr><th scope=col>sum(\"Sepal.Length\")</th></tr></thead>\n",
       "<tbody>\n",
       "\t<tr><td>876.5</td></tr>\n",
       "</tbody>\n",
       "</table>\n"
      ],
      "text/latex": [
       "\\begin{tabular}{r|l}\n",
       " sum(\"Sepal.Length\")\\\\\n",
       "\\hline\n",
       "\t 876.5\\\\\n",
       "\\end{tabular}\n"
      ],
      "text/markdown": [
       "\n",
       "| sum(\"Sepal.Length\") |\n",
       "|---|\n",
       "| 876.5 |\n",
       "\n"
      ],
      "text/plain": [
       "  sum(\"Sepal.Length\")\n",
       "1 876.5              "
      ]
     },
     "metadata": {},
     "output_type": "display_data"
    },
    {
     "data": {
      "text/html": [
       "<table>\n",
       "<thead><tr><th scope=col>max(\"Sepal.Length\")</th></tr></thead>\n",
       "<tbody>\n",
       "\t<tr><td>7.9</td></tr>\n",
       "</tbody>\n",
       "</table>\n"
      ],
      "text/latex": [
       "\\begin{tabular}{r|l}\n",
       " max(\"Sepal.Length\")\\\\\n",
       "\\hline\n",
       "\t 7.9\\\\\n",
       "\\end{tabular}\n"
      ],
      "text/markdown": [
       "\n",
       "| max(\"Sepal.Length\") |\n",
       "|---|\n",
       "| 7.9 |\n",
       "\n"
      ],
      "text/plain": [
       "  max(\"Sepal.Length\")\n",
       "1 7.9                "
      ]
     },
     "metadata": {},
     "output_type": "display_data"
    },
    {
     "data": {
      "text/html": [
       "<table>\n",
       "<thead><tr><th scope=col>min(\"Sepal.Length\")</th></tr></thead>\n",
       "<tbody>\n",
       "\t<tr><td>4.3</td></tr>\n",
       "</tbody>\n",
       "</table>\n"
      ],
      "text/latex": [
       "\\begin{tabular}{r|l}\n",
       " min(\"Sepal.Length\")\\\\\n",
       "\\hline\n",
       "\t 4.3\\\\\n",
       "\\end{tabular}\n"
      ],
      "text/markdown": [
       "\n",
       "| min(\"Sepal.Length\") |\n",
       "|---|\n",
       "| 4.3 |\n",
       "\n"
      ],
      "text/plain": [
       "  min(\"Sepal.Length\")\n",
       "1 4.3                "
      ]
     },
     "metadata": {},
     "output_type": "display_data"
    },
    {
     "data": {
      "text/html": [
       "<table>\n",
       "<thead><tr><th scope=col>avg(\"Sepal.Length\")</th></tr></thead>\n",
       "<tbody>\n",
       "\t<tr><td>5.843333</td></tr>\n",
       "</tbody>\n",
       "</table>\n"
      ],
      "text/latex": [
       "\\begin{tabular}{r|l}\n",
       " avg(\"Sepal.Length\")\\\\\n",
       "\\hline\n",
       "\t 5.843333\\\\\n",
       "\\end{tabular}\n"
      ],
      "text/markdown": [
       "\n",
       "| avg(\"Sepal.Length\") |\n",
       "|---|\n",
       "| 5.843333 |\n",
       "\n"
      ],
      "text/plain": [
       "  avg(\"Sepal.Length\")\n",
       "1 5.843333           "
      ]
     },
     "metadata": {},
     "output_type": "display_data"
    },
    {
     "data": {
      "text/html": [
       "<table>\n",
       "<thead><tr><th scope=col>Species</th></tr></thead>\n",
       "<tbody>\n",
       "\t<tr><td>setosa    </td></tr>\n",
       "\t<tr><td>versicolor</td></tr>\n",
       "\t<tr><td>virginica </td></tr>\n",
       "</tbody>\n",
       "</table>\n"
      ],
      "text/latex": [
       "\\begin{tabular}{r|l}\n",
       " Species\\\\\n",
       "\\hline\n",
       "\t setosa    \\\\\n",
       "\t versicolor\\\\\n",
       "\t virginica \\\\\n",
       "\\end{tabular}\n"
      ],
      "text/markdown": [
       "\n",
       "| Species |\n",
       "|---|\n",
       "| setosa     |\n",
       "| versicolor |\n",
       "| virginica  |\n",
       "\n"
      ],
      "text/plain": [
       "  Species   \n",
       "1 setosa    \n",
       "2 versicolor\n",
       "3 virginica "
      ]
     },
     "metadata": {},
     "output_type": "display_data"
    },
    {
     "data": {
      "text/html": [
       "<table>\n",
       "<thead><tr><th scope=col>Species</th><th scope=col>count(*)</th></tr></thead>\n",
       "<tbody>\n",
       "\t<tr><td>setosa    </td><td>50        </td></tr>\n",
       "\t<tr><td>versicolor</td><td>50        </td></tr>\n",
       "\t<tr><td>virginica </td><td>50        </td></tr>\n",
       "</tbody>\n",
       "</table>\n"
      ],
      "text/latex": [
       "\\begin{tabular}{r|ll}\n",
       " Species & count(*)\\\\\n",
       "\\hline\n",
       "\t setosa     & 50        \\\\\n",
       "\t versicolor & 50        \\\\\n",
       "\t virginica  & 50        \\\\\n",
       "\\end{tabular}\n"
      ],
      "text/markdown": [
       "\n",
       "| Species | count(*) |\n",
       "|---|---|\n",
       "| setosa     | 50         |\n",
       "| versicolor | 50         |\n",
       "| virginica  | 50         |\n",
       "\n"
      ],
      "text/plain": [
       "  Species    count(*)\n",
       "1 setosa     50      \n",
       "2 versicolor 50      \n",
       "3 virginica  50      "
      ]
     },
     "metadata": {},
     "output_type": "display_data"
    },
    {
     "data": {
      "text/html": [
       "<table>\n",
       "<thead><tr><th scope=col>avg(\"Sepal.Length\")</th></tr></thead>\n",
       "<tbody>\n",
       "\t<tr><td>5.006</td></tr>\n",
       "</tbody>\n",
       "</table>\n"
      ],
      "text/latex": [
       "\\begin{tabular}{r|l}\n",
       " avg(\"Sepal.Length\")\\\\\n",
       "\\hline\n",
       "\t 5.006\\\\\n",
       "\\end{tabular}\n"
      ],
      "text/markdown": [
       "\n",
       "| avg(\"Sepal.Length\") |\n",
       "|---|\n",
       "| 5.006 |\n",
       "\n"
      ],
      "text/plain": [
       "  avg(\"Sepal.Length\")\n",
       "1 5.006              "
      ]
     },
     "metadata": {},
     "output_type": "display_data"
    }
   ],
   "source": [
    "sqldf('select * from iris order by Species,\"Sepal.length\" limit 5',drv='SQLite')\n",
    "sqldf('select sum(\"Sepal.Length\") from iris',drv='SQLite')\n",
    "sqldf('select max(\"Sepal.Length\") from iris',drv='SQLite')\n",
    "sqldf('select min(\"Sepal.Length\") from iris',drv='SQLite')\n",
    "sqldf('select avg(\"Sepal.Length\") from iris',drv='SQLite')\n",
    "sqldf('select distinct Species from iris',drv='SQLite')\n",
    "sqldf('select Species,count(*) from iris group by Species',drv='SQLite')\n",
    "sqldf('select avg(\"Sepal.Length\") from iris where Species=\"setosa\"',drv='SQLite')\n",
    "\n"
   ]
  },
  {
   "cell_type": "code",
   "execution_count": 43,
   "metadata": {},
   "outputs": [
    {
     "name": "stderr",
     "output_type": "stream",
     "text": [
      "Warning message:\n",
      "\"package 'data.table' is in use and will not be installed\""
     ]
    }
   ],
   "source": [
    "install.packages('data.table')"
   ]
  },
  {
   "cell_type": "code",
   "execution_count": 13,
   "metadata": {},
   "outputs": [],
   "source": [
    "#데이터 테이블\n",
    "library('data.table')"
   ]
  },
  {
   "cell_type": "code",
   "execution_count": 14,
   "metadata": {},
   "outputs": [
    {
     "data": {
      "text/html": [
       "<table>\n",
       "<thead><tr><th scope=col>Sepal.Length</th><th scope=col>Sepal.Width</th><th scope=col>Petal.Length</th><th scope=col>Petal.Width</th><th scope=col>Species</th></tr></thead>\n",
       "<tbody>\n",
       "\t<tr><td>5.1   </td><td>3.5   </td><td>1.4   </td><td>0.2   </td><td>setosa</td></tr>\n",
       "\t<tr><td>4.9   </td><td>3.0   </td><td>1.4   </td><td>0.2   </td><td>setosa</td></tr>\n",
       "\t<tr><td>4.7   </td><td>3.2   </td><td>1.3   </td><td>0.2   </td><td>setosa</td></tr>\n",
       "\t<tr><td>4.6   </td><td>3.1   </td><td>1.5   </td><td>0.2   </td><td>setosa</td></tr>\n",
       "\t<tr><td>5.0   </td><td>3.6   </td><td>1.4   </td><td>0.2   </td><td>setosa</td></tr>\n",
       "\t<tr><td>5.4   </td><td>3.9   </td><td>1.7   </td><td>0.4   </td><td>setosa</td></tr>\n",
       "\t<tr><td>4.6   </td><td>3.4   </td><td>1.4   </td><td>0.3   </td><td>setosa</td></tr>\n",
       "\t<tr><td>5.0   </td><td>3.4   </td><td>1.5   </td><td>0.2   </td><td>setosa</td></tr>\n",
       "\t<tr><td>4.4   </td><td>2.9   </td><td>1.4   </td><td>0.2   </td><td>setosa</td></tr>\n",
       "\t<tr><td>4.9   </td><td>3.1   </td><td>1.5   </td><td>0.1   </td><td>setosa</td></tr>\n",
       "\t<tr><td>5.4   </td><td>3.7   </td><td>1.5   </td><td>0.2   </td><td>setosa</td></tr>\n",
       "\t<tr><td>4.8   </td><td>3.4   </td><td>1.6   </td><td>0.2   </td><td>setosa</td></tr>\n",
       "\t<tr><td>4.8   </td><td>3.0   </td><td>1.4   </td><td>0.1   </td><td>setosa</td></tr>\n",
       "\t<tr><td>4.3   </td><td>3.0   </td><td>1.1   </td><td>0.1   </td><td>setosa</td></tr>\n",
       "\t<tr><td>5.8   </td><td>4.0   </td><td>1.2   </td><td>0.2   </td><td>setosa</td></tr>\n",
       "\t<tr><td>5.7   </td><td>4.4   </td><td>1.5   </td><td>0.4   </td><td>setosa</td></tr>\n",
       "\t<tr><td>5.4   </td><td>3.9   </td><td>1.3   </td><td>0.4   </td><td>setosa</td></tr>\n",
       "\t<tr><td>5.1   </td><td>3.5   </td><td>1.4   </td><td>0.3   </td><td>setosa</td></tr>\n",
       "\t<tr><td>5.7   </td><td>3.8   </td><td>1.7   </td><td>0.3   </td><td>setosa</td></tr>\n",
       "\t<tr><td>5.1   </td><td>3.8   </td><td>1.5   </td><td>0.3   </td><td>setosa</td></tr>\n",
       "\t<tr><td>5.4   </td><td>3.4   </td><td>1.7   </td><td>0.2   </td><td>setosa</td></tr>\n",
       "\t<tr><td>5.1   </td><td>3.7   </td><td>1.5   </td><td>0.4   </td><td>setosa</td></tr>\n",
       "\t<tr><td>4.6   </td><td>3.6   </td><td>1.0   </td><td>0.2   </td><td>setosa</td></tr>\n",
       "\t<tr><td>5.1   </td><td>3.3   </td><td>1.7   </td><td>0.5   </td><td>setosa</td></tr>\n",
       "\t<tr><td>4.8   </td><td>3.4   </td><td>1.9   </td><td>0.2   </td><td>setosa</td></tr>\n",
       "\t<tr><td>5.0   </td><td>3.0   </td><td>1.6   </td><td>0.2   </td><td>setosa</td></tr>\n",
       "\t<tr><td>5.0   </td><td>3.4   </td><td>1.6   </td><td>0.4   </td><td>setosa</td></tr>\n",
       "\t<tr><td>5.2   </td><td>3.5   </td><td>1.5   </td><td>0.2   </td><td>setosa</td></tr>\n",
       "\t<tr><td>5.2   </td><td>3.4   </td><td>1.4   </td><td>0.2   </td><td>setosa</td></tr>\n",
       "\t<tr><td>4.7   </td><td>3.2   </td><td>1.6   </td><td>0.2   </td><td>setosa</td></tr>\n",
       "\t<tr><td>...</td><td>...</td><td>...</td><td>...</td><td>...</td></tr>\n",
       "\t<tr><td>6.9      </td><td>3.2      </td><td>5.7      </td><td>2.3      </td><td>virginica</td></tr>\n",
       "\t<tr><td>5.6      </td><td>2.8      </td><td>4.9      </td><td>2.0      </td><td>virginica</td></tr>\n",
       "\t<tr><td>7.7      </td><td>2.8      </td><td>6.7      </td><td>2.0      </td><td>virginica</td></tr>\n",
       "\t<tr><td>6.3      </td><td>2.7      </td><td>4.9      </td><td>1.8      </td><td>virginica</td></tr>\n",
       "\t<tr><td>6.7      </td><td>3.3      </td><td>5.7      </td><td>2.1      </td><td>virginica</td></tr>\n",
       "\t<tr><td>7.2      </td><td>3.2      </td><td>6.0      </td><td>1.8      </td><td>virginica</td></tr>\n",
       "\t<tr><td>6.2      </td><td>2.8      </td><td>4.8      </td><td>1.8      </td><td>virginica</td></tr>\n",
       "\t<tr><td>6.1      </td><td>3.0      </td><td>4.9      </td><td>1.8      </td><td>virginica</td></tr>\n",
       "\t<tr><td>6.4      </td><td>2.8      </td><td>5.6      </td><td>2.1      </td><td>virginica</td></tr>\n",
       "\t<tr><td>7.2      </td><td>3.0      </td><td>5.8      </td><td>1.6      </td><td>virginica</td></tr>\n",
       "\t<tr><td>7.4      </td><td>2.8      </td><td>6.1      </td><td>1.9      </td><td>virginica</td></tr>\n",
       "\t<tr><td>7.9      </td><td>3.8      </td><td>6.4      </td><td>2.0      </td><td>virginica</td></tr>\n",
       "\t<tr><td>6.4      </td><td>2.8      </td><td>5.6      </td><td>2.2      </td><td>virginica</td></tr>\n",
       "\t<tr><td>6.3      </td><td>2.8      </td><td>5.1      </td><td>1.5      </td><td>virginica</td></tr>\n",
       "\t<tr><td>6.1      </td><td>2.6      </td><td>5.6      </td><td>1.4      </td><td>virginica</td></tr>\n",
       "\t<tr><td>7.7      </td><td>3.0      </td><td>6.1      </td><td>2.3      </td><td>virginica</td></tr>\n",
       "\t<tr><td>6.3      </td><td>3.4      </td><td>5.6      </td><td>2.4      </td><td>virginica</td></tr>\n",
       "\t<tr><td>6.4      </td><td>3.1      </td><td>5.5      </td><td>1.8      </td><td>virginica</td></tr>\n",
       "\t<tr><td>6.0      </td><td>3.0      </td><td>4.8      </td><td>1.8      </td><td>virginica</td></tr>\n",
       "\t<tr><td>6.9      </td><td>3.1      </td><td>5.4      </td><td>2.1      </td><td>virginica</td></tr>\n",
       "\t<tr><td>6.7      </td><td>3.1      </td><td>5.6      </td><td>2.4      </td><td>virginica</td></tr>\n",
       "\t<tr><td>6.9      </td><td>3.1      </td><td>5.1      </td><td>2.3      </td><td>virginica</td></tr>\n",
       "\t<tr><td>5.8      </td><td>2.7      </td><td>5.1      </td><td>1.9      </td><td>virginica</td></tr>\n",
       "\t<tr><td>6.8      </td><td>3.2      </td><td>5.9      </td><td>2.3      </td><td>virginica</td></tr>\n",
       "\t<tr><td>6.7      </td><td>3.3      </td><td>5.7      </td><td>2.5      </td><td>virginica</td></tr>\n",
       "\t<tr><td>6.7      </td><td>3.0      </td><td>5.2      </td><td>2.3      </td><td>virginica</td></tr>\n",
       "\t<tr><td>6.3      </td><td>2.5      </td><td>5.0      </td><td>1.9      </td><td>virginica</td></tr>\n",
       "\t<tr><td>6.5      </td><td>3.0      </td><td>5.2      </td><td>2.0      </td><td>virginica</td></tr>\n",
       "\t<tr><td>6.2      </td><td>3.4      </td><td>5.4      </td><td>2.3      </td><td>virginica</td></tr>\n",
       "\t<tr><td>5.9      </td><td>3.0      </td><td>5.1      </td><td>1.8      </td><td>virginica</td></tr>\n",
       "</tbody>\n",
       "</table>\n"
      ],
      "text/latex": [
       "\\begin{tabular}{r|lllll}\n",
       " Sepal.Length & Sepal.Width & Petal.Length & Petal.Width & Species\\\\\n",
       "\\hline\n",
       "\t 5.1    & 3.5    & 1.4    & 0.2    & setosa\\\\\n",
       "\t 4.9    & 3.0    & 1.4    & 0.2    & setosa\\\\\n",
       "\t 4.7    & 3.2    & 1.3    & 0.2    & setosa\\\\\n",
       "\t 4.6    & 3.1    & 1.5    & 0.2    & setosa\\\\\n",
       "\t 5.0    & 3.6    & 1.4    & 0.2    & setosa\\\\\n",
       "\t 5.4    & 3.9    & 1.7    & 0.4    & setosa\\\\\n",
       "\t 4.6    & 3.4    & 1.4    & 0.3    & setosa\\\\\n",
       "\t 5.0    & 3.4    & 1.5    & 0.2    & setosa\\\\\n",
       "\t 4.4    & 2.9    & 1.4    & 0.2    & setosa\\\\\n",
       "\t 4.9    & 3.1    & 1.5    & 0.1    & setosa\\\\\n",
       "\t 5.4    & 3.7    & 1.5    & 0.2    & setosa\\\\\n",
       "\t 4.8    & 3.4    & 1.6    & 0.2    & setosa\\\\\n",
       "\t 4.8    & 3.0    & 1.4    & 0.1    & setosa\\\\\n",
       "\t 4.3    & 3.0    & 1.1    & 0.1    & setosa\\\\\n",
       "\t 5.8    & 4.0    & 1.2    & 0.2    & setosa\\\\\n",
       "\t 5.7    & 4.4    & 1.5    & 0.4    & setosa\\\\\n",
       "\t 5.4    & 3.9    & 1.3    & 0.4    & setosa\\\\\n",
       "\t 5.1    & 3.5    & 1.4    & 0.3    & setosa\\\\\n",
       "\t 5.7    & 3.8    & 1.7    & 0.3    & setosa\\\\\n",
       "\t 5.1    & 3.8    & 1.5    & 0.3    & setosa\\\\\n",
       "\t 5.4    & 3.4    & 1.7    & 0.2    & setosa\\\\\n",
       "\t 5.1    & 3.7    & 1.5    & 0.4    & setosa\\\\\n",
       "\t 4.6    & 3.6    & 1.0    & 0.2    & setosa\\\\\n",
       "\t 5.1    & 3.3    & 1.7    & 0.5    & setosa\\\\\n",
       "\t 4.8    & 3.4    & 1.9    & 0.2    & setosa\\\\\n",
       "\t 5.0    & 3.0    & 1.6    & 0.2    & setosa\\\\\n",
       "\t 5.0    & 3.4    & 1.6    & 0.4    & setosa\\\\\n",
       "\t 5.2    & 3.5    & 1.5    & 0.2    & setosa\\\\\n",
       "\t 5.2    & 3.4    & 1.4    & 0.2    & setosa\\\\\n",
       "\t 4.7    & 3.2    & 1.6    & 0.2    & setosa\\\\\n",
       "\t ... & ... & ... & ... & ...\\\\\n",
       "\t 6.9       & 3.2       & 5.7       & 2.3       & virginica\\\\\n",
       "\t 5.6       & 2.8       & 4.9       & 2.0       & virginica\\\\\n",
       "\t 7.7       & 2.8       & 6.7       & 2.0       & virginica\\\\\n",
       "\t 6.3       & 2.7       & 4.9       & 1.8       & virginica\\\\\n",
       "\t 6.7       & 3.3       & 5.7       & 2.1       & virginica\\\\\n",
       "\t 7.2       & 3.2       & 6.0       & 1.8       & virginica\\\\\n",
       "\t 6.2       & 2.8       & 4.8       & 1.8       & virginica\\\\\n",
       "\t 6.1       & 3.0       & 4.9       & 1.8       & virginica\\\\\n",
       "\t 6.4       & 2.8       & 5.6       & 2.1       & virginica\\\\\n",
       "\t 7.2       & 3.0       & 5.8       & 1.6       & virginica\\\\\n",
       "\t 7.4       & 2.8       & 6.1       & 1.9       & virginica\\\\\n",
       "\t 7.9       & 3.8       & 6.4       & 2.0       & virginica\\\\\n",
       "\t 6.4       & 2.8       & 5.6       & 2.2       & virginica\\\\\n",
       "\t 6.3       & 2.8       & 5.1       & 1.5       & virginica\\\\\n",
       "\t 6.1       & 2.6       & 5.6       & 1.4       & virginica\\\\\n",
       "\t 7.7       & 3.0       & 6.1       & 2.3       & virginica\\\\\n",
       "\t 6.3       & 3.4       & 5.6       & 2.4       & virginica\\\\\n",
       "\t 6.4       & 3.1       & 5.5       & 1.8       & virginica\\\\\n",
       "\t 6.0       & 3.0       & 4.8       & 1.8       & virginica\\\\\n",
       "\t 6.9       & 3.1       & 5.4       & 2.1       & virginica\\\\\n",
       "\t 6.7       & 3.1       & 5.6       & 2.4       & virginica\\\\\n",
       "\t 6.9       & 3.1       & 5.1       & 2.3       & virginica\\\\\n",
       "\t 5.8       & 2.7       & 5.1       & 1.9       & virginica\\\\\n",
       "\t 6.8       & 3.2       & 5.9       & 2.3       & virginica\\\\\n",
       "\t 6.7       & 3.3       & 5.7       & 2.5       & virginica\\\\\n",
       "\t 6.7       & 3.0       & 5.2       & 2.3       & virginica\\\\\n",
       "\t 6.3       & 2.5       & 5.0       & 1.9       & virginica\\\\\n",
       "\t 6.5       & 3.0       & 5.2       & 2.0       & virginica\\\\\n",
       "\t 6.2       & 3.4       & 5.4       & 2.3       & virginica\\\\\n",
       "\t 5.9       & 3.0       & 5.1       & 1.8       & virginica\\\\\n",
       "\\end{tabular}\n"
      ],
      "text/markdown": [
       "\n",
       "| Sepal.Length | Sepal.Width | Petal.Length | Petal.Width | Species |\n",
       "|---|---|---|---|---|\n",
       "| 5.1    | 3.5    | 1.4    | 0.2    | setosa |\n",
       "| 4.9    | 3.0    | 1.4    | 0.2    | setosa |\n",
       "| 4.7    | 3.2    | 1.3    | 0.2    | setosa |\n",
       "| 4.6    | 3.1    | 1.5    | 0.2    | setosa |\n",
       "| 5.0    | 3.6    | 1.4    | 0.2    | setosa |\n",
       "| 5.4    | 3.9    | 1.7    | 0.4    | setosa |\n",
       "| 4.6    | 3.4    | 1.4    | 0.3    | setosa |\n",
       "| 5.0    | 3.4    | 1.5    | 0.2    | setosa |\n",
       "| 4.4    | 2.9    | 1.4    | 0.2    | setosa |\n",
       "| 4.9    | 3.1    | 1.5    | 0.1    | setosa |\n",
       "| 5.4    | 3.7    | 1.5    | 0.2    | setosa |\n",
       "| 4.8    | 3.4    | 1.6    | 0.2    | setosa |\n",
       "| 4.8    | 3.0    | 1.4    | 0.1    | setosa |\n",
       "| 4.3    | 3.0    | 1.1    | 0.1    | setosa |\n",
       "| 5.8    | 4.0    | 1.2    | 0.2    | setosa |\n",
       "| 5.7    | 4.4    | 1.5    | 0.4    | setosa |\n",
       "| 5.4    | 3.9    | 1.3    | 0.4    | setosa |\n",
       "| 5.1    | 3.5    | 1.4    | 0.3    | setosa |\n",
       "| 5.7    | 3.8    | 1.7    | 0.3    | setosa |\n",
       "| 5.1    | 3.8    | 1.5    | 0.3    | setosa |\n",
       "| 5.4    | 3.4    | 1.7    | 0.2    | setosa |\n",
       "| 5.1    | 3.7    | 1.5    | 0.4    | setosa |\n",
       "| 4.6    | 3.6    | 1.0    | 0.2    | setosa |\n",
       "| 5.1    | 3.3    | 1.7    | 0.5    | setosa |\n",
       "| 4.8    | 3.4    | 1.9    | 0.2    | setosa |\n",
       "| 5.0    | 3.0    | 1.6    | 0.2    | setosa |\n",
       "| 5.0    | 3.4    | 1.6    | 0.4    | setosa |\n",
       "| 5.2    | 3.5    | 1.5    | 0.2    | setosa |\n",
       "| 5.2    | 3.4    | 1.4    | 0.2    | setosa |\n",
       "| 4.7    | 3.2    | 1.6    | 0.2    | setosa |\n",
       "| ... | ... | ... | ... | ... |\n",
       "| 6.9       | 3.2       | 5.7       | 2.3       | virginica |\n",
       "| 5.6       | 2.8       | 4.9       | 2.0       | virginica |\n",
       "| 7.7       | 2.8       | 6.7       | 2.0       | virginica |\n",
       "| 6.3       | 2.7       | 4.9       | 1.8       | virginica |\n",
       "| 6.7       | 3.3       | 5.7       | 2.1       | virginica |\n",
       "| 7.2       | 3.2       | 6.0       | 1.8       | virginica |\n",
       "| 6.2       | 2.8       | 4.8       | 1.8       | virginica |\n",
       "| 6.1       | 3.0       | 4.9       | 1.8       | virginica |\n",
       "| 6.4       | 2.8       | 5.6       | 2.1       | virginica |\n",
       "| 7.2       | 3.0       | 5.8       | 1.6       | virginica |\n",
       "| 7.4       | 2.8       | 6.1       | 1.9       | virginica |\n",
       "| 7.9       | 3.8       | 6.4       | 2.0       | virginica |\n",
       "| 6.4       | 2.8       | 5.6       | 2.2       | virginica |\n",
       "| 6.3       | 2.8       | 5.1       | 1.5       | virginica |\n",
       "| 6.1       | 2.6       | 5.6       | 1.4       | virginica |\n",
       "| 7.7       | 3.0       | 6.1       | 2.3       | virginica |\n",
       "| 6.3       | 3.4       | 5.6       | 2.4       | virginica |\n",
       "| 6.4       | 3.1       | 5.5       | 1.8       | virginica |\n",
       "| 6.0       | 3.0       | 4.8       | 1.8       | virginica |\n",
       "| 6.9       | 3.1       | 5.4       | 2.1       | virginica |\n",
       "| 6.7       | 3.1       | 5.6       | 2.4       | virginica |\n",
       "| 6.9       | 3.1       | 5.1       | 2.3       | virginica |\n",
       "| 5.8       | 2.7       | 5.1       | 1.9       | virginica |\n",
       "| 6.8       | 3.2       | 5.9       | 2.3       | virginica |\n",
       "| 6.7       | 3.3       | 5.7       | 2.5       | virginica |\n",
       "| 6.7       | 3.0       | 5.2       | 2.3       | virginica |\n",
       "| 6.3       | 2.5       | 5.0       | 1.9       | virginica |\n",
       "| 6.5       | 3.0       | 5.2       | 2.0       | virginica |\n",
       "| 6.2       | 3.4       | 5.4       | 2.3       | virginica |\n",
       "| 5.9       | 3.0       | 5.1       | 1.8       | virginica |\n",
       "\n"
      ],
      "text/plain": [
       "    Sepal.Length Sepal.Width Petal.Length Petal.Width Species  \n",
       "1   5.1          3.5         1.4          0.2         setosa   \n",
       "2   4.9          3.0         1.4          0.2         setosa   \n",
       "3   4.7          3.2         1.3          0.2         setosa   \n",
       "4   4.6          3.1         1.5          0.2         setosa   \n",
       "5   5.0          3.6         1.4          0.2         setosa   \n",
       "6   5.4          3.9         1.7          0.4         setosa   \n",
       "7   4.6          3.4         1.4          0.3         setosa   \n",
       "8   5.0          3.4         1.5          0.2         setosa   \n",
       "9   4.4          2.9         1.4          0.2         setosa   \n",
       "10  4.9          3.1         1.5          0.1         setosa   \n",
       "11  5.4          3.7         1.5          0.2         setosa   \n",
       "12  4.8          3.4         1.6          0.2         setosa   \n",
       "13  4.8          3.0         1.4          0.1         setosa   \n",
       "14  4.3          3.0         1.1          0.1         setosa   \n",
       "15  5.8          4.0         1.2          0.2         setosa   \n",
       "16  5.7          4.4         1.5          0.4         setosa   \n",
       "17  5.4          3.9         1.3          0.4         setosa   \n",
       "18  5.1          3.5         1.4          0.3         setosa   \n",
       "19  5.7          3.8         1.7          0.3         setosa   \n",
       "20  5.1          3.8         1.5          0.3         setosa   \n",
       "21  5.4          3.4         1.7          0.2         setosa   \n",
       "22  5.1          3.7         1.5          0.4         setosa   \n",
       "23  4.6          3.6         1.0          0.2         setosa   \n",
       "24  5.1          3.3         1.7          0.5         setosa   \n",
       "25  4.8          3.4         1.9          0.2         setosa   \n",
       "26  5.0          3.0         1.6          0.2         setosa   \n",
       "27  5.0          3.4         1.6          0.4         setosa   \n",
       "28  5.2          3.5         1.5          0.2         setosa   \n",
       "29  5.2          3.4         1.4          0.2         setosa   \n",
       "30  4.7          3.2         1.6          0.2         setosa   \n",
       "... ...          ...         ...          ...         ...      \n",
       "121 6.9          3.2         5.7          2.3         virginica\n",
       "122 5.6          2.8         4.9          2.0         virginica\n",
       "123 7.7          2.8         6.7          2.0         virginica\n",
       "124 6.3          2.7         4.9          1.8         virginica\n",
       "125 6.7          3.3         5.7          2.1         virginica\n",
       "126 7.2          3.2         6.0          1.8         virginica\n",
       "127 6.2          2.8         4.8          1.8         virginica\n",
       "128 6.1          3.0         4.9          1.8         virginica\n",
       "129 6.4          2.8         5.6          2.1         virginica\n",
       "130 7.2          3.0         5.8          1.6         virginica\n",
       "131 7.4          2.8         6.1          1.9         virginica\n",
       "132 7.9          3.8         6.4          2.0         virginica\n",
       "133 6.4          2.8         5.6          2.2         virginica\n",
       "134 6.3          2.8         5.1          1.5         virginica\n",
       "135 6.1          2.6         5.6          1.4         virginica\n",
       "136 7.7          3.0         6.1          2.3         virginica\n",
       "137 6.3          3.4         5.6          2.4         virginica\n",
       "138 6.4          3.1         5.5          1.8         virginica\n",
       "139 6.0          3.0         4.8          1.8         virginica\n",
       "140 6.9          3.1         5.4          2.1         virginica\n",
       "141 6.7          3.1         5.6          2.4         virginica\n",
       "142 6.9          3.1         5.1          2.3         virginica\n",
       "143 5.8          2.7         5.1          1.9         virginica\n",
       "144 6.8          3.2         5.9          2.3         virginica\n",
       "145 6.7          3.3         5.7          2.5         virginica\n",
       "146 6.7          3.0         5.2          2.3         virginica\n",
       "147 6.3          2.5         5.0          1.9         virginica\n",
       "148 6.5          3.0         5.2          2.0         virginica\n",
       "149 6.2          3.4         5.4          2.3         virginica\n",
       "150 5.9          3.0         5.1          1.8         virginica"
      ]
     },
     "metadata": {},
     "output_type": "display_data"
    }
   ],
   "source": [
    "#iris 데이터셋을 데이터 테이블로 로딩\n",
    "iris_table<-as.data.table(iris)\n",
    "iris_table"
   ]
  },
  {
   "cell_type": "code",
   "execution_count": 16,
   "metadata": {},
   "outputs": [
    {
     "name": "stdout",
     "output_type": "stream",
     "text": [
      "   x y\n",
      "1: 1 a\n",
      "2: 2 b\n",
      "3: 3 c\n"
     ]
    },
    {
     "data": {
      "text/html": [
       "<table>\n",
       "<thead><tr><th scope=col>x</th><th scope=col>y</th></tr></thead>\n",
       "<tbody>\n",
       "\t<tr><td>1</td><td>a</td></tr>\n",
       "\t<tr><td>2</td><td>b</td></tr>\n",
       "\t<tr><td>3</td><td>c</td></tr>\n",
       "</tbody>\n",
       "</table>\n"
      ],
      "text/latex": [
       "\\begin{tabular}{r|ll}\n",
       " x & y\\\\\n",
       "\\hline\n",
       "\t 1 & a\\\\\n",
       "\t 2 & b\\\\\n",
       "\t 3 & c\\\\\n",
       "\\end{tabular}\n"
      ],
      "text/markdown": [
       "\n",
       "| x | y |\n",
       "|---|---|\n",
       "| 1 | a |\n",
       "| 2 | b |\n",
       "| 3 | c |\n",
       "\n"
      ],
      "text/plain": [
       "  x y\n",
       "1 1 a\n",
       "2 2 b\n",
       "3 3 c"
      ]
     },
     "metadata": {},
     "output_type": "display_data"
    }
   ],
   "source": [
    "print(x<-data.table(x=c(1,2,3),y=c('a','b','c')))\n",
    "x"
   ]
  },
  {
   "cell_type": "code",
   "execution_count": 17,
   "metadata": {},
   "outputs": [
    {
     "name": "stdout",
     "output_type": "stream",
     "text": [
      "         NAME NROW NCOL MB\n",
      "1: iris_table  150    5  0\n",
      "2:          x    3    2  0\n",
      "                                                        COLS KEY\n",
      "1: Sepal.Length,Sepal.Width,Petal.Length,Petal.Width,Species    \n",
      "2:                                                       x,y    \n",
      "Total: 0MB\n"
     ]
    }
   ],
   "source": [
    "x<-data.table(x=c(1,2,3),y=c('a','b','c'))\n",
    "tables() #테이블 목록"
   ]
  },
  {
   "cell_type": "code",
   "execution_count": 41,
   "metadata": {},
   "outputs": [
    {
     "data": {
      "text/html": [
       "<table>\n",
       "<thead><tr><th scope=col>Sepal.Length</th><th scope=col>Sepal.Width</th><th scope=col>Petal.Length</th><th scope=col>Petal.Width</th><th scope=col>Species</th></tr></thead>\n",
       "<tbody>\n",
       "\t<tr><td>5.1   </td><td>3.5   </td><td>1.4   </td><td>0.2   </td><td>setosa</td></tr>\n",
       "</tbody>\n",
       "</table>\n"
      ],
      "text/latex": [
       "\\begin{tabular}{r|lllll}\n",
       " Sepal.Length & Sepal.Width & Petal.Length & Petal.Width & Species\\\\\n",
       "\\hline\n",
       "\t 5.1    & 3.5    & 1.4    & 0.2    & setosa\\\\\n",
       "\\end{tabular}\n"
      ],
      "text/markdown": [
       "\n",
       "| Sepal.Length | Sepal.Width | Petal.Length | Petal.Width | Species |\n",
       "|---|---|---|---|---|\n",
       "| 5.1    | 3.5    | 1.4    | 0.2    | setosa |\n",
       "\n"
      ],
      "text/plain": [
       "  Sepal.Length Sepal.Width Petal.Length Petal.Width Species\n",
       "1 5.1          3.5         1.4          0.2         setosa "
      ]
     },
     "metadata": {},
     "output_type": "display_data"
    },
    {
     "data": {
      "text/html": [
       "<table>\n",
       "<thead><tr><th scope=col>Sepal.Length</th><th scope=col>Sepal.Width</th><th scope=col>Petal.Length</th><th scope=col>Petal.Width</th><th scope=col>Species</th></tr></thead>\n",
       "<tbody>\n",
       "\t<tr><td>5.1   </td><td>3.5   </td><td>1.4   </td><td>0.2   </td><td>setosa</td></tr>\n",
       "\t<tr><td>4.9   </td><td>3.0   </td><td>1.4   </td><td>0.2   </td><td>setosa</td></tr>\n",
       "\t<tr><td>4.7   </td><td>3.2   </td><td>1.3   </td><td>0.2   </td><td>setosa</td></tr>\n",
       "\t<tr><td>4.6   </td><td>3.1   </td><td>1.5   </td><td>0.2   </td><td>setosa</td></tr>\n",
       "\t<tr><td>5.0   </td><td>3.6   </td><td>1.4   </td><td>0.2   </td><td>setosa</td></tr>\n",
       "\t<tr><td>5.4   </td><td>3.9   </td><td>1.7   </td><td>0.4   </td><td>setosa</td></tr>\n",
       "\t<tr><td>4.6   </td><td>3.4   </td><td>1.4   </td><td>0.3   </td><td>setosa</td></tr>\n",
       "\t<tr><td>5.0   </td><td>3.4   </td><td>1.5   </td><td>0.2   </td><td>setosa</td></tr>\n",
       "\t<tr><td>4.4   </td><td>2.9   </td><td>1.4   </td><td>0.2   </td><td>setosa</td></tr>\n",
       "\t<tr><td>4.9   </td><td>3.1   </td><td>1.5   </td><td>0.1   </td><td>setosa</td></tr>\n",
       "\t<tr><td>5.4   </td><td>3.7   </td><td>1.5   </td><td>0.2   </td><td>setosa</td></tr>\n",
       "\t<tr><td>4.8   </td><td>3.4   </td><td>1.6   </td><td>0.2   </td><td>setosa</td></tr>\n",
       "\t<tr><td>4.8   </td><td>3.0   </td><td>1.4   </td><td>0.1   </td><td>setosa</td></tr>\n",
       "\t<tr><td>4.3   </td><td>3.0   </td><td>1.1   </td><td>0.1   </td><td>setosa</td></tr>\n",
       "\t<tr><td>5.8   </td><td>4.0   </td><td>1.2   </td><td>0.2   </td><td>setosa</td></tr>\n",
       "\t<tr><td>5.7   </td><td>4.4   </td><td>1.5   </td><td>0.4   </td><td>setosa</td></tr>\n",
       "\t<tr><td>5.4   </td><td>3.9   </td><td>1.3   </td><td>0.4   </td><td>setosa</td></tr>\n",
       "\t<tr><td>5.1   </td><td>3.5   </td><td>1.4   </td><td>0.3   </td><td>setosa</td></tr>\n",
       "\t<tr><td>5.7   </td><td>3.8   </td><td>1.7   </td><td>0.3   </td><td>setosa</td></tr>\n",
       "\t<tr><td>5.1   </td><td>3.8   </td><td>1.5   </td><td>0.3   </td><td>setosa</td></tr>\n",
       "\t<tr><td>5.4   </td><td>3.4   </td><td>1.7   </td><td>0.2   </td><td>setosa</td></tr>\n",
       "\t<tr><td>5.1   </td><td>3.7   </td><td>1.5   </td><td>0.4   </td><td>setosa</td></tr>\n",
       "\t<tr><td>4.6   </td><td>3.6   </td><td>1.0   </td><td>0.2   </td><td>setosa</td></tr>\n",
       "\t<tr><td>5.1   </td><td>3.3   </td><td>1.7   </td><td>0.5   </td><td>setosa</td></tr>\n",
       "\t<tr><td>4.8   </td><td>3.4   </td><td>1.9   </td><td>0.2   </td><td>setosa</td></tr>\n",
       "\t<tr><td>5.0   </td><td>3.0   </td><td>1.6   </td><td>0.2   </td><td>setosa</td></tr>\n",
       "\t<tr><td>5.0   </td><td>3.4   </td><td>1.6   </td><td>0.4   </td><td>setosa</td></tr>\n",
       "\t<tr><td>5.2   </td><td>3.5   </td><td>1.5   </td><td>0.2   </td><td>setosa</td></tr>\n",
       "\t<tr><td>5.2   </td><td>3.4   </td><td>1.4   </td><td>0.2   </td><td>setosa</td></tr>\n",
       "\t<tr><td>4.7   </td><td>3.2   </td><td>1.6   </td><td>0.2   </td><td>setosa</td></tr>\n",
       "\t<tr><td>4.8   </td><td>3.1   </td><td>1.6   </td><td>0.2   </td><td>setosa</td></tr>\n",
       "\t<tr><td>5.4   </td><td>3.4   </td><td>1.5   </td><td>0.4   </td><td>setosa</td></tr>\n",
       "\t<tr><td>5.2   </td><td>4.1   </td><td>1.5   </td><td>0.1   </td><td>setosa</td></tr>\n",
       "\t<tr><td>5.5   </td><td>4.2   </td><td>1.4   </td><td>0.2   </td><td>setosa</td></tr>\n",
       "\t<tr><td>4.9   </td><td>3.1   </td><td>1.5   </td><td>0.2   </td><td>setosa</td></tr>\n",
       "\t<tr><td>5.0   </td><td>3.2   </td><td>1.2   </td><td>0.2   </td><td>setosa</td></tr>\n",
       "\t<tr><td>5.5   </td><td>3.5   </td><td>1.3   </td><td>0.2   </td><td>setosa</td></tr>\n",
       "\t<tr><td>4.9   </td><td>3.6   </td><td>1.4   </td><td>0.1   </td><td>setosa</td></tr>\n",
       "\t<tr><td>4.4   </td><td>3.0   </td><td>1.3   </td><td>0.2   </td><td>setosa</td></tr>\n",
       "\t<tr><td>5.1   </td><td>3.4   </td><td>1.5   </td><td>0.2   </td><td>setosa</td></tr>\n",
       "\t<tr><td>5.0   </td><td>3.5   </td><td>1.3   </td><td>0.3   </td><td>setosa</td></tr>\n",
       "\t<tr><td>4.5   </td><td>2.3   </td><td>1.3   </td><td>0.3   </td><td>setosa</td></tr>\n",
       "\t<tr><td>4.4   </td><td>3.2   </td><td>1.3   </td><td>0.2   </td><td>setosa</td></tr>\n",
       "\t<tr><td>5.0   </td><td>3.5   </td><td>1.6   </td><td>0.6   </td><td>setosa</td></tr>\n",
       "\t<tr><td>5.1   </td><td>3.8   </td><td>1.9   </td><td>0.4   </td><td>setosa</td></tr>\n",
       "\t<tr><td>4.8   </td><td>3.0   </td><td>1.4   </td><td>0.3   </td><td>setosa</td></tr>\n",
       "\t<tr><td>5.1   </td><td>3.8   </td><td>1.6   </td><td>0.2   </td><td>setosa</td></tr>\n",
       "\t<tr><td>4.6   </td><td>3.2   </td><td>1.4   </td><td>0.2   </td><td>setosa</td></tr>\n",
       "\t<tr><td>5.3   </td><td>3.7   </td><td>1.5   </td><td>0.2   </td><td>setosa</td></tr>\n",
       "\t<tr><td>5.0   </td><td>3.3   </td><td>1.4   </td><td>0.2   </td><td>setosa</td></tr>\n",
       "</tbody>\n",
       "</table>\n"
      ],
      "text/latex": [
       "\\begin{tabular}{r|lllll}\n",
       " Sepal.Length & Sepal.Width & Petal.Length & Petal.Width & Species\\\\\n",
       "\\hline\n",
       "\t 5.1    & 3.5    & 1.4    & 0.2    & setosa\\\\\n",
       "\t 4.9    & 3.0    & 1.4    & 0.2    & setosa\\\\\n",
       "\t 4.7    & 3.2    & 1.3    & 0.2    & setosa\\\\\n",
       "\t 4.6    & 3.1    & 1.5    & 0.2    & setosa\\\\\n",
       "\t 5.0    & 3.6    & 1.4    & 0.2    & setosa\\\\\n",
       "\t 5.4    & 3.9    & 1.7    & 0.4    & setosa\\\\\n",
       "\t 4.6    & 3.4    & 1.4    & 0.3    & setosa\\\\\n",
       "\t 5.0    & 3.4    & 1.5    & 0.2    & setosa\\\\\n",
       "\t 4.4    & 2.9    & 1.4    & 0.2    & setosa\\\\\n",
       "\t 4.9    & 3.1    & 1.5    & 0.1    & setosa\\\\\n",
       "\t 5.4    & 3.7    & 1.5    & 0.2    & setosa\\\\\n",
       "\t 4.8    & 3.4    & 1.6    & 0.2    & setosa\\\\\n",
       "\t 4.8    & 3.0    & 1.4    & 0.1    & setosa\\\\\n",
       "\t 4.3    & 3.0    & 1.1    & 0.1    & setosa\\\\\n",
       "\t 5.8    & 4.0    & 1.2    & 0.2    & setosa\\\\\n",
       "\t 5.7    & 4.4    & 1.5    & 0.4    & setosa\\\\\n",
       "\t 5.4    & 3.9    & 1.3    & 0.4    & setosa\\\\\n",
       "\t 5.1    & 3.5    & 1.4    & 0.3    & setosa\\\\\n",
       "\t 5.7    & 3.8    & 1.7    & 0.3    & setosa\\\\\n",
       "\t 5.1    & 3.8    & 1.5    & 0.3    & setosa\\\\\n",
       "\t 5.4    & 3.4    & 1.7    & 0.2    & setosa\\\\\n",
       "\t 5.1    & 3.7    & 1.5    & 0.4    & setosa\\\\\n",
       "\t 4.6    & 3.6    & 1.0    & 0.2    & setosa\\\\\n",
       "\t 5.1    & 3.3    & 1.7    & 0.5    & setosa\\\\\n",
       "\t 4.8    & 3.4    & 1.9    & 0.2    & setosa\\\\\n",
       "\t 5.0    & 3.0    & 1.6    & 0.2    & setosa\\\\\n",
       "\t 5.0    & 3.4    & 1.6    & 0.4    & setosa\\\\\n",
       "\t 5.2    & 3.5    & 1.5    & 0.2    & setosa\\\\\n",
       "\t 5.2    & 3.4    & 1.4    & 0.2    & setosa\\\\\n",
       "\t 4.7    & 3.2    & 1.6    & 0.2    & setosa\\\\\n",
       "\t 4.8    & 3.1    & 1.6    & 0.2    & setosa\\\\\n",
       "\t 5.4    & 3.4    & 1.5    & 0.4    & setosa\\\\\n",
       "\t 5.2    & 4.1    & 1.5    & 0.1    & setosa\\\\\n",
       "\t 5.5    & 4.2    & 1.4    & 0.2    & setosa\\\\\n",
       "\t 4.9    & 3.1    & 1.5    & 0.2    & setosa\\\\\n",
       "\t 5.0    & 3.2    & 1.2    & 0.2    & setosa\\\\\n",
       "\t 5.5    & 3.5    & 1.3    & 0.2    & setosa\\\\\n",
       "\t 4.9    & 3.6    & 1.4    & 0.1    & setosa\\\\\n",
       "\t 4.4    & 3.0    & 1.3    & 0.2    & setosa\\\\\n",
       "\t 5.1    & 3.4    & 1.5    & 0.2    & setosa\\\\\n",
       "\t 5.0    & 3.5    & 1.3    & 0.3    & setosa\\\\\n",
       "\t 4.5    & 2.3    & 1.3    & 0.3    & setosa\\\\\n",
       "\t 4.4    & 3.2    & 1.3    & 0.2    & setosa\\\\\n",
       "\t 5.0    & 3.5    & 1.6    & 0.6    & setosa\\\\\n",
       "\t 5.1    & 3.8    & 1.9    & 0.4    & setosa\\\\\n",
       "\t 4.8    & 3.0    & 1.4    & 0.3    & setosa\\\\\n",
       "\t 5.1    & 3.8    & 1.6    & 0.2    & setosa\\\\\n",
       "\t 4.6    & 3.2    & 1.4    & 0.2    & setosa\\\\\n",
       "\t 5.3    & 3.7    & 1.5    & 0.2    & setosa\\\\\n",
       "\t 5.0    & 3.3    & 1.4    & 0.2    & setosa\\\\\n",
       "\\end{tabular}\n"
      ],
      "text/markdown": [
       "\n",
       "| Sepal.Length | Sepal.Width | Petal.Length | Petal.Width | Species |\n",
       "|---|---|---|---|---|\n",
       "| 5.1    | 3.5    | 1.4    | 0.2    | setosa |\n",
       "| 4.9    | 3.0    | 1.4    | 0.2    | setosa |\n",
       "| 4.7    | 3.2    | 1.3    | 0.2    | setosa |\n",
       "| 4.6    | 3.1    | 1.5    | 0.2    | setosa |\n",
       "| 5.0    | 3.6    | 1.4    | 0.2    | setosa |\n",
       "| 5.4    | 3.9    | 1.7    | 0.4    | setosa |\n",
       "| 4.6    | 3.4    | 1.4    | 0.3    | setosa |\n",
       "| 5.0    | 3.4    | 1.5    | 0.2    | setosa |\n",
       "| 4.4    | 2.9    | 1.4    | 0.2    | setosa |\n",
       "| 4.9    | 3.1    | 1.5    | 0.1    | setosa |\n",
       "| 5.4    | 3.7    | 1.5    | 0.2    | setosa |\n",
       "| 4.8    | 3.4    | 1.6    | 0.2    | setosa |\n",
       "| 4.8    | 3.0    | 1.4    | 0.1    | setosa |\n",
       "| 4.3    | 3.0    | 1.1    | 0.1    | setosa |\n",
       "| 5.8    | 4.0    | 1.2    | 0.2    | setosa |\n",
       "| 5.7    | 4.4    | 1.5    | 0.4    | setosa |\n",
       "| 5.4    | 3.9    | 1.3    | 0.4    | setosa |\n",
       "| 5.1    | 3.5    | 1.4    | 0.3    | setosa |\n",
       "| 5.7    | 3.8    | 1.7    | 0.3    | setosa |\n",
       "| 5.1    | 3.8    | 1.5    | 0.3    | setosa |\n",
       "| 5.4    | 3.4    | 1.7    | 0.2    | setosa |\n",
       "| 5.1    | 3.7    | 1.5    | 0.4    | setosa |\n",
       "| 4.6    | 3.6    | 1.0    | 0.2    | setosa |\n",
       "| 5.1    | 3.3    | 1.7    | 0.5    | setosa |\n",
       "| 4.8    | 3.4    | 1.9    | 0.2    | setosa |\n",
       "| 5.0    | 3.0    | 1.6    | 0.2    | setosa |\n",
       "| 5.0    | 3.4    | 1.6    | 0.4    | setosa |\n",
       "| 5.2    | 3.5    | 1.5    | 0.2    | setosa |\n",
       "| 5.2    | 3.4    | 1.4    | 0.2    | setosa |\n",
       "| 4.7    | 3.2    | 1.6    | 0.2    | setosa |\n",
       "| 4.8    | 3.1    | 1.6    | 0.2    | setosa |\n",
       "| 5.4    | 3.4    | 1.5    | 0.4    | setosa |\n",
       "| 5.2    | 4.1    | 1.5    | 0.1    | setosa |\n",
       "| 5.5    | 4.2    | 1.4    | 0.2    | setosa |\n",
       "| 4.9    | 3.1    | 1.5    | 0.2    | setosa |\n",
       "| 5.0    | 3.2    | 1.2    | 0.2    | setosa |\n",
       "| 5.5    | 3.5    | 1.3    | 0.2    | setosa |\n",
       "| 4.9    | 3.6    | 1.4    | 0.1    | setosa |\n",
       "| 4.4    | 3.0    | 1.3    | 0.2    | setosa |\n",
       "| 5.1    | 3.4    | 1.5    | 0.2    | setosa |\n",
       "| 5.0    | 3.5    | 1.3    | 0.3    | setosa |\n",
       "| 4.5    | 2.3    | 1.3    | 0.3    | setosa |\n",
       "| 4.4    | 3.2    | 1.3    | 0.2    | setosa |\n",
       "| 5.0    | 3.5    | 1.6    | 0.6    | setosa |\n",
       "| 5.1    | 3.8    | 1.9    | 0.4    | setosa |\n",
       "| 4.8    | 3.0    | 1.4    | 0.3    | setosa |\n",
       "| 5.1    | 3.8    | 1.6    | 0.2    | setosa |\n",
       "| 4.6    | 3.2    | 1.4    | 0.2    | setosa |\n",
       "| 5.3    | 3.7    | 1.5    | 0.2    | setosa |\n",
       "| 5.0    | 3.3    | 1.4    | 0.2    | setosa |\n",
       "\n"
      ],
      "text/plain": [
       "   Sepal.Length Sepal.Width Petal.Length Petal.Width Species\n",
       "1  5.1          3.5         1.4          0.2         setosa \n",
       "2  4.9          3.0         1.4          0.2         setosa \n",
       "3  4.7          3.2         1.3          0.2         setosa \n",
       "4  4.6          3.1         1.5          0.2         setosa \n",
       "5  5.0          3.6         1.4          0.2         setosa \n",
       "6  5.4          3.9         1.7          0.4         setosa \n",
       "7  4.6          3.4         1.4          0.3         setosa \n",
       "8  5.0          3.4         1.5          0.2         setosa \n",
       "9  4.4          2.9         1.4          0.2         setosa \n",
       "10 4.9          3.1         1.5          0.1         setosa \n",
       "11 5.4          3.7         1.5          0.2         setosa \n",
       "12 4.8          3.4         1.6          0.2         setosa \n",
       "13 4.8          3.0         1.4          0.1         setosa \n",
       "14 4.3          3.0         1.1          0.1         setosa \n",
       "15 5.8          4.0         1.2          0.2         setosa \n",
       "16 5.7          4.4         1.5          0.4         setosa \n",
       "17 5.4          3.9         1.3          0.4         setosa \n",
       "18 5.1          3.5         1.4          0.3         setosa \n",
       "19 5.7          3.8         1.7          0.3         setosa \n",
       "20 5.1          3.8         1.5          0.3         setosa \n",
       "21 5.4          3.4         1.7          0.2         setosa \n",
       "22 5.1          3.7         1.5          0.4         setosa \n",
       "23 4.6          3.6         1.0          0.2         setosa \n",
       "24 5.1          3.3         1.7          0.5         setosa \n",
       "25 4.8          3.4         1.9          0.2         setosa \n",
       "26 5.0          3.0         1.6          0.2         setosa \n",
       "27 5.0          3.4         1.6          0.4         setosa \n",
       "28 5.2          3.5         1.5          0.2         setosa \n",
       "29 5.2          3.4         1.4          0.2         setosa \n",
       "30 4.7          3.2         1.6          0.2         setosa \n",
       "31 4.8          3.1         1.6          0.2         setosa \n",
       "32 5.4          3.4         1.5          0.4         setosa \n",
       "33 5.2          4.1         1.5          0.1         setosa \n",
       "34 5.5          4.2         1.4          0.2         setosa \n",
       "35 4.9          3.1         1.5          0.2         setosa \n",
       "36 5.0          3.2         1.2          0.2         setosa \n",
       "37 5.5          3.5         1.3          0.2         setosa \n",
       "38 4.9          3.6         1.4          0.1         setosa \n",
       "39 4.4          3.0         1.3          0.2         setosa \n",
       "40 5.1          3.4         1.5          0.2         setosa \n",
       "41 5.0          3.5         1.3          0.3         setosa \n",
       "42 4.5          2.3         1.3          0.3         setosa \n",
       "43 4.4          3.2         1.3          0.2         setosa \n",
       "44 5.0          3.5         1.6          0.6         setosa \n",
       "45 5.1          3.8         1.9          0.4         setosa \n",
       "46 4.8          3.0         1.4          0.3         setosa \n",
       "47 5.1          3.8         1.6          0.2         setosa \n",
       "48 4.6          3.2         1.4          0.2         setosa \n",
       "49 5.3          3.7         1.5          0.2         setosa \n",
       "50 5.0          3.3         1.4          0.2         setosa "
      ]
     },
     "metadata": {},
     "output_type": "display_data"
    }
   ],
   "source": [
    "iris_table[1,] # [행,열] 1행만 선택\n",
    "iris_table[iris_table$Species=='setosa',] #품종이 setosa인 행만 선택"
   ]
  },
  {
   "cell_type": "code",
   "execution_count": 44,
   "metadata": {},
   "outputs": [
    {
     "data": {
      "text/html": [
       "5.84333333333333"
      ],
      "text/latex": [
       "5.84333333333333"
      ],
      "text/markdown": [
       "5.84333333333333"
      ],
      "text/plain": [
       "[1] 5.843333"
      ]
     },
     "metadata": {},
     "output_type": "display_data"
    }
   ],
   "source": [
    "iris_table[,mean(Sepal.Length)] #필드의 평균값"
   ]
  },
  {
   "cell_type": "code",
   "execution_count": 46,
   "metadata": {},
   "outputs": [
    {
     "data": {
      "text/html": [
       "<table>\n",
       "<thead><tr><th scope=col>Species</th><th scope=col>V1</th></tr></thead>\n",
       "<tbody>\n",
       "\t<tr><td>setosa    </td><td>5.006     </td></tr>\n",
       "\t<tr><td>versicolor</td><td>5.936     </td></tr>\n",
       "\t<tr><td>virginica </td><td>6.588     </td></tr>\n",
       "</tbody>\n",
       "</table>\n"
      ],
      "text/latex": [
       "\\begin{tabular}{r|ll}\n",
       " Species & V1\\\\\n",
       "\\hline\n",
       "\t setosa     & 5.006     \\\\\n",
       "\t versicolor & 5.936     \\\\\n",
       "\t virginica  & 6.588     \\\\\n",
       "\\end{tabular}\n"
      ],
      "text/markdown": [
       "\n",
       "| Species | V1 |\n",
       "|---|---|\n",
       "| setosa     | 5.006      |\n",
       "| versicolor | 5.936      |\n",
       "| virginica  | 6.588      |\n",
       "\n"
      ],
      "text/plain": [
       "  Species    V1   \n",
       "1 setosa     5.006\n",
       "2 versicolor 5.936\n",
       "3 virginica  6.588"
      ]
     },
     "metadata": {},
     "output_type": "display_data"
    }
   ],
   "source": [
    "iris_table[,mean(Sepal.Length),by='Species'] #품종별로 평균 계산"
   ]
  },
  {
   "cell_type": "code",
   "execution_count": 18,
   "metadata": {},
   "outputs": [
    {
     "name": "stdout",
     "output_type": "stream",
     "text": [
      "[1] 5000050000\n"
     ]
    },
    {
     "data": {
      "text/plain": [
       "   user  system elapsed \n",
       "      0       0       0 "
      ]
     },
     "metadata": {},
     "output_type": "display_data"
    },
    {
     "name": "stdout",
     "output_type": "stream",
     "text": [
      "[1] 500000500000\n"
     ]
    },
    {
     "data": {
      "text/plain": [
       "   user  system elapsed \n",
       "   0.03    0.00    0.03 "
      ]
     },
     "metadata": {},
     "output_type": "display_data"
    },
    {
     "name": "stdout",
     "output_type": "stream",
     "text": [
      "[1] 5e+13\n"
     ]
    },
    {
     "data": {
      "text/plain": [
       "   user  system elapsed \n",
       "   0.24    0.02    0.27 "
      ]
     },
     "metadata": {},
     "output_type": "display_data"
    },
    {
     "name": "stdout",
     "output_type": "stream",
     "text": [
      "[1] 5e+15\n"
     ]
    },
    {
     "data": {
      "text/plain": [
       "   user  system elapsed \n",
       "   2.50    0.14    2.72 "
      ]
     },
     "metadata": {},
     "output_type": "display_data"
    }
   ],
   "source": [
    "#코드 실행 시간 측정\n",
    "sum_to_n <- function(n){\n",
    "    sum<-0\n",
    "    for(i in 1:n){\n",
    "        sum<-sum+i\n",
    "    }\n",
    "    print(sum)\n",
    "    return(sum)\n",
    "}\n",
    "#실행시간 측정 함수\n",
    "system.time(sum_to_n(100000))\n",
    "system.time(sum_to_n(1000000))\n",
    "system.time(sum_to_n(10000000))\n",
    "system.time(sum_to_n(100000000))"
   ]
  },
  {
   "cell_type": "code",
   "execution_count": 48,
   "metadata": {},
   "outputs": [
    {
     "data": {
      "text/html": [
       "<ol class=list-inline>\n",
       "\t<li>1000</li>\n",
       "\t<li>10000</li>\n",
       "</ol>\n"
      ],
      "text/latex": [
       "\\begin{enumerate*}\n",
       "\\item 1000\n",
       "\\item 10000\n",
       "\\end{enumerate*}\n"
      ],
      "text/markdown": [
       "1. 1000\n",
       "2. 10000\n",
       "\n",
       "\n"
      ],
      "text/plain": [
       "[1]  1000 10000"
      ]
     },
     "metadata": {},
     "output_type": "display_data"
    },
    {
     "data": {
      "text/plain": [
       "   user  system elapsed \n",
       "   5.59    0.01    6.03 "
      ]
     },
     "metadata": {},
     "output_type": "display_data"
    },
    {
     "data": {
      "text/plain": [
       "   user  system elapsed \n",
       "   0.22    0.00    0.24 "
      ]
     },
     "metadata": {},
     "output_type": "display_data"
    }
   ],
   "source": [
    "x<-matrix(1:(10000*1000),ncol=10000)\n",
    "dim(x)\n",
    "system.time(save(x,file='d:/data/R/x.RData'))\n",
    "system.time(load(file='d:/data/R/x.RData'))"
   ]
  },
  {
   "cell_type": "code",
   "execution_count": null,
   "metadata": {},
   "outputs": [],
   "source": []
  },
  {
   "cell_type": "code",
   "execution_count": null,
   "metadata": {},
   "outputs": [],
   "source": []
  },
  {
   "cell_type": "code",
   "execution_count": null,
   "metadata": {},
   "outputs": [],
   "source": []
  },
  {
   "cell_type": "code",
   "execution_count": null,
   "metadata": {},
   "outputs": [],
   "source": []
  },
  {
   "cell_type": "code",
   "execution_count": null,
   "metadata": {},
   "outputs": [],
   "source": []
  }
 ],
 "metadata": {
  "kernelspec": {
   "display_name": "R",
   "language": "R",
   "name": "ir"
  },
  "language_info": {
   "codemirror_mode": "r",
   "file_extension": ".r",
   "mimetype": "text/x-r-source",
   "name": "R",
   "pygments_lexer": "r",
   "version": "3.6.1"
  }
 },
 "nbformat": 4,
 "nbformat_minor": 2
}
