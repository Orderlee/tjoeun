{
 "cells": [
  {
   "cell_type": "code",
   "execution_count": 4,
   "metadata": {},
   "outputs": [
    {
     "data": {
      "image/png": "[encoded data removed]",
      "text/plain": [
       "Plot with title \"Histogram of total\""
      ]
     },
     "metadata": {},
     "output_type": "display_data"
    }
   ],
   "source": [
    "flour <- c(3,-2,-1,0,1,-2) #밀가루\n",
    "diet <- c(-4,1,-3,-5,-2,-8) #다이어트약\n",
    "total <- c(flour,diet)\n",
    "hist(total) #히스토그램"
   ]
  },
  {
   "cell_type": "code",
   "execution_count": 5,
   "metadata": {},
   "outputs": [
    {
     "data": {
      "image/png": "[encoded data removed]",
      "text/plain": [
       "plot without title"
      ]
     },
     "metadata": {},
     "output_type": "display_data"
    }
   ],
   "source": [
    "boxplot(flour,diet,names=c('flour','diet')) #상자수염그림"
   ]
  },
  {
   "cell_type": "code",
   "execution_count": 6,
   "metadata": {
    "scrolled": true
   },
   "outputs": [
    {
     "data": {
      "text/html": [
       "-22"
      ],
      "text/latex": [
       "-22"
      ],
      "text/markdown": [
       "-22"
      ],
      "text/plain": [
       "[1] -22"
      ]
     },
     "metadata": {},
     "output_type": "display_data"
    },
    {
     "data": {
      "text/html": [
       "<dl class=dl-horizontal>\n",
       "\t<dt>0%</dt>\n",
       "\t\t<dd>-8</dd>\n",
       "\t<dt>25%</dt>\n",
       "\t\t<dd>-3.25</dd>\n",
       "\t<dt>50%</dt>\n",
       "\t\t<dd>-2</dd>\n",
       "\t<dt>75%</dt>\n",
       "\t\t<dd>0.25</dd>\n",
       "\t<dt>100%</dt>\n",
       "\t\t<dd>3</dd>\n",
       "</dl>\n"
      ],
      "text/latex": [
       "\\begin{description*}\n",
       "\\item[0\\textbackslash{}\\%] -8\n",
       "\\item[25\\textbackslash{}\\%] -3.25\n",
       "\\item[50\\textbackslash{}\\%] -2\n",
       "\\item[75\\textbackslash{}\\%] 0.25\n",
       "\\item[100\\textbackslash{}\\%] 3\n",
       "\\end{description*}\n"
      ],
      "text/markdown": [
       "0%\n",
       ":   -825%\n",
       ":   -3.2550%\n",
       ":   -275%\n",
       ":   0.25100%\n",
       ":   3\n",
       "\n"
      ],
      "text/plain": [
       "   0%   25%   50%   75%  100% \n",
       "-8.00 -3.25 -2.00  0.25  3.00 "
      ]
     },
     "metadata": {},
     "output_type": "display_data"
    },
    {
     "data": {
      "text/html": [
       "<ol class=list-inline>\n",
       "\t<li>-8</li>\n",
       "\t<li>-3.5</li>\n",
       "\t<li>-2</li>\n",
       "\t<li>0.5</li>\n",
       "\t<li>3</li>\n",
       "</ol>\n"
      ],
      "text/latex": [
       "\\begin{enumerate*}\n",
       "\\item -8\n",
       "\\item -3.5\n",
       "\\item -2\n",
       "\\item 0.5\n",
       "\\item 3\n",
       "\\end{enumerate*}\n"
      ],
      "text/markdown": [
       "1. -8\n",
       "2. -3.5\n",
       "3. -2\n",
       "4. 0.5\n",
       "5. 3\n",
       "\n",
       "\n"
      ],
      "text/plain": [
       "[1] -8.0 -3.5 -2.0  0.5  3.0"
      ]
     },
     "metadata": {},
     "output_type": "display_data"
    },
    {
     "data": {
      "text/html": [
       "-0.0170805051030557"
      ],
      "text/latex": [
       "-0.0170805051030557"
      ],
      "text/markdown": [
       "-0.0170805051030557"
      ],
      "text/plain": [
       "[1] -0.01708051"
      ]
     },
     "metadata": {},
     "output_type": "display_data"
    },
    {
     "data": {
      "text/plain": [
       "   Min. 1st Qu.  Median    Mean 3rd Qu.    Max. \n",
       " -8.000  -3.250  -2.000  -1.833   0.250   3.000 "
      ]
     },
     "metadata": {},
     "output_type": "display_data"
    }
   ],
   "source": [
    "sum(total) #합계\n",
    "quantile(total) #사분위수\n",
    "fivenum(total) #최소값,1사분위수,중앙값,3사분위수,최대값\n",
    "cor(flour,diet) #상관계수 (-1.0~1.0)\n",
    "summary(total) #기초통계량"
   ]
  },
  {
   "cell_type": "code",
   "execution_count": 15,
   "metadata": {},
   "outputs": [
    {
     "data": {
      "text/html": [
       "<ol class=list-inline>\n",
       "\t<li>41</li>\n",
       "\t<li>33</li>\n",
       "\t<li>34</li>\n",
       "\t<li>27</li>\n",
       "\t<li>20</li>\n",
       "\t<li>23</li>\n",
       "\t<li>32</li>\n",
       "\t<li>31</li>\n",
       "\t<li>30</li>\n",
       "\t<li>27</li>\n",
       "\t<li>30</li>\n",
       "\t<li>27</li>\n",
       "\t<li>26</li>\n",
       "\t<li>24</li>\n",
       "\t<li>18</li>\n",
       "\t<li>22</li>\n",
       "\t<li>21</li>\n",
       "\t<li>28</li>\n",
       "\t<li>23</li>\n",
       "\t<li>31</li>\n",
       "\t<li>29</li>\n",
       "\t<li>48</li>\n",
       "\t<li>25</li>\n",
       "\t<li>31</li>\n",
       "\t<li>25</li>\n",
       "\t<li>35</li>\n",
       "\t<li>33</li>\n",
       "\t<li>35</li>\n",
       "\t<li>16</li>\n",
       "\t<li>24</li>\n",
       "\t<li>20</li>\n",
       "\t<li>11</li>\n",
       "\t<li>21</li>\n",
       "\t<li>8</li>\n",
       "\t<li>8</li>\n",
       "\t<li>4</li>\n",
       "\t<li>4</li>\n",
       "\t<li>3</li>\n",
       "\t<li>5</li>\n",
       "\t<li>6</li>\n",
       "\t<li>4</li>\n",
       "\t<li>13</li>\n",
       "\t<li>4</li>\n",
       "\t<li>16</li>\n",
       "\t<li>14</li>\n",
       "\t<li>10</li>\n",
       "\t<li>11</li>\n",
       "</ol>\n"
      ],
      "text/latex": [
       "\\begin{enumerate*}\n",
       "\\item 41\n",
       "\\item 33\n",
       "\\item 34\n",
       "\\item 27\n",
       "\\item 20\n",
       "\\item 23\n",
       "\\item 32\n",
       "\\item 31\n",
       "\\item 30\n",
       "\\item 27\n",
       "\\item 30\n",
       "\\item 27\n",
       "\\item 26\n",
       "\\item 24\n",
       "\\item 18\n",
       "\\item 22\n",
       "\\item 21\n",
       "\\item 28\n",
       "\\item 23\n",
       "\\item 31\n",
       "\\item 29\n",
       "\\item 48\n",
       "\\item 25\n",
       "\\item 31\n",
       "\\item 25\n",
       "\\item 35\n",
       "\\item 33\n",
       "\\item 35\n",
       "\\item 16\n",
       "\\item 24\n",
       "\\item 20\n",
       "\\item 11\n",
       "\\item 21\n",
       "\\item 8\n",
       "\\item 8\n",
       "\\item 4\n",
       "\\item 4\n",
       "\\item 3\n",
       "\\item 5\n",
       "\\item 6\n",
       "\\item 4\n",
       "\\item 13\n",
       "\\item 4\n",
       "\\item 16\n",
       "\\item 14\n",
       "\\item 10\n",
       "\\item 11\n",
       "\\end{enumerate*}\n"
      ],
      "text/markdown": [
       "1. 41\n",
       "2. 33\n",
       "3. 34\n",
       "4. 27\n",
       "5. 20\n",
       "6. 23\n",
       "7. 32\n",
       "8. 31\n",
       "9. 30\n",
       "10. 27\n",
       "11. 30\n",
       "12. 27\n",
       "13. 26\n",
       "14. 24\n",
       "15. 18\n",
       "16. 22\n",
       "17. 21\n",
       "18. 28\n",
       "19. 23\n",
       "20. 31\n",
       "21. 29\n",
       "22. 48\n",
       "23. 25\n",
       "24. 31\n",
       "25. 25\n",
       "26. 35\n",
       "27. 33\n",
       "28. 35\n",
       "29. 16\n",
       "30. 24\n",
       "31. 20\n",
       "32. 11\n",
       "33. 21\n",
       "34. 8\n",
       "35. 8\n",
       "36. 4\n",
       "37. 4\n",
       "38. 3\n",
       "39. 5\n",
       "40. 6\n",
       "41. 4\n",
       "42. 13\n",
       "43. 4\n",
       "44. 16\n",
       "45. 14\n",
       "46. 10\n",
       "47. 11\n",
       "\n",
       "\n"
      ],
      "text/plain": [
       " [1] 41 33 34 27 20 23 32 31 30 27 30 27 26 24 18 22 21 28 23 31 29 48 25 31 25\n",
       "[26] 35 33 35 16 24 20 11 21  8  8  4  4  3  5  6  4 13  4 16 14 10 11"
      ]
     },
     "metadata": {},
     "output_type": "display_data"
    },
    {
     "data": {
      "text/html": [
       "<ol class=list-inline>\n",
       "\t<li>3</li>\n",
       "\t<li>4</li>\n",
       "\t<li>4</li>\n",
       "\t<li>4</li>\n",
       "\t<li>4</li>\n",
       "\t<li>5</li>\n",
       "\t<li>6</li>\n",
       "\t<li>8</li>\n",
       "\t<li>8</li>\n",
       "\t<li>10</li>\n",
       "\t<li>11</li>\n",
       "\t<li>11</li>\n",
       "\t<li>13</li>\n",
       "\t<li>14</li>\n",
       "\t<li>16</li>\n",
       "\t<li>16</li>\n",
       "\t<li>18</li>\n",
       "\t<li>20</li>\n",
       "\t<li>20</li>\n",
       "\t<li>21</li>\n",
       "\t<li>21</li>\n",
       "\t<li>22</li>\n",
       "\t<li>23</li>\n",
       "\t<li>23</li>\n",
       "\t<li>24</li>\n",
       "\t<li>24</li>\n",
       "\t<li>25</li>\n",
       "\t<li>25</li>\n",
       "\t<li>26</li>\n",
       "\t<li>27</li>\n",
       "\t<li>27</li>\n",
       "\t<li>27</li>\n",
       "\t<li>28</li>\n",
       "\t<li>29</li>\n",
       "\t<li>30</li>\n",
       "\t<li>30</li>\n",
       "\t<li>31</li>\n",
       "\t<li>31</li>\n",
       "\t<li>31</li>\n",
       "\t<li>32</li>\n",
       "\t<li>33</li>\n",
       "\t<li>33</li>\n",
       "\t<li>34</li>\n",
       "\t<li>35</li>\n",
       "\t<li>35</li>\n",
       "\t<li>41</li>\n",
       "\t<li>48</li>\n",
       "</ol>\n"
      ],
      "text/latex": [
       "\\begin{enumerate*}\n",
       "\\item 3\n",
       "\\item 4\n",
       "\\item 4\n",
       "\\item 4\n",
       "\\item 4\n",
       "\\item 5\n",
       "\\item 6\n",
       "\\item 8\n",
       "\\item 8\n",
       "\\item 10\n",
       "\\item 11\n",
       "\\item 11\n",
       "\\item 13\n",
       "\\item 14\n",
       "\\item 16\n",
       "\\item 16\n",
       "\\item 18\n",
       "\\item 20\n",
       "\\item 20\n",
       "\\item 21\n",
       "\\item 21\n",
       "\\item 22\n",
       "\\item 23\n",
       "\\item 23\n",
       "\\item 24\n",
       "\\item 24\n",
       "\\item 25\n",
       "\\item 25\n",
       "\\item 26\n",
       "\\item 27\n",
       "\\item 27\n",
       "\\item 27\n",
       "\\item 28\n",
       "\\item 29\n",
       "\\item 30\n",
       "\\item 30\n",
       "\\item 31\n",
       "\\item 31\n",
       "\\item 31\n",
       "\\item 32\n",
       "\\item 33\n",
       "\\item 33\n",
       "\\item 34\n",
       "\\item 35\n",
       "\\item 35\n",
       "\\item 41\n",
       "\\item 48\n",
       "\\end{enumerate*}\n"
      ],
      "text/markdown": [
       "1. 3\n",
       "2. 4\n",
       "3. 4\n",
       "4. 4\n",
       "5. 4\n",
       "6. 5\n",
       "7. 6\n",
       "8. 8\n",
       "9. 8\n",
       "10. 10\n",
       "11. 11\n",
       "12. 11\n",
       "13. 13\n",
       "14. 14\n",
       "15. 16\n",
       "16. 16\n",
       "17. 18\n",
       "18. 20\n",
       "19. 20\n",
       "20. 21\n",
       "21. 21\n",
       "22. 22\n",
       "23. 23\n",
       "24. 23\n",
       "25. 24\n",
       "26. 24\n",
       "27. 25\n",
       "28. 25\n",
       "29. 26\n",
       "30. 27\n",
       "31. 27\n",
       "32. 27\n",
       "33. 28\n",
       "34. 29\n",
       "35. 30\n",
       "36. 30\n",
       "37. 31\n",
       "38. 31\n",
       "39. 31\n",
       "40. 32\n",
       "41. 33\n",
       "42. 33\n",
       "43. 34\n",
       "44. 35\n",
       "45. 35\n",
       "46. 41\n",
       "47. 48\n",
       "\n",
       "\n"
      ],
      "text/plain": [
       " [1]  3  4  4  4  4  5  6  8  8 10 11 11 13 14 16 16 18 20 20 21 21 22 23 23 24\n",
       "[26] 24 25 25 26 27 27 27 28 29 30 30 31 31 31 32 33 33 34 35 35 41 48"
      ]
     },
     "metadata": {},
     "output_type": "display_data"
    },
    {
     "data": {
      "text/html": [
       "3"
      ],
      "text/latex": [
       "3"
      ],
      "text/markdown": [
       "3"
      ],
      "text/plain": [
       "[1] 3"
      ]
     },
     "metadata": {},
     "output_type": "display_data"
    },
    {
     "data": {
      "text/html": [
       "<ol class=list-inline>\n",
       "\t<li>48</li>\n",
       "\t<li>41</li>\n",
       "\t<li>35</li>\n",
       "\t<li>35</li>\n",
       "\t<li>34</li>\n",
       "\t<li>33</li>\n",
       "\t<li>33</li>\n",
       "\t<li>32</li>\n",
       "\t<li>31</li>\n",
       "\t<li>31</li>\n",
       "\t<li>31</li>\n",
       "\t<li>30</li>\n",
       "\t<li>30</li>\n",
       "\t<li>29</li>\n",
       "\t<li>28</li>\n",
       "\t<li>27</li>\n",
       "\t<li>27</li>\n",
       "\t<li>27</li>\n",
       "\t<li>26</li>\n",
       "\t<li>25</li>\n",
       "\t<li>25</li>\n",
       "\t<li>24</li>\n",
       "\t<li>24</li>\n",
       "\t<li>23</li>\n",
       "\t<li>23</li>\n",
       "\t<li>22</li>\n",
       "\t<li>21</li>\n",
       "\t<li>21</li>\n",
       "\t<li>20</li>\n",
       "\t<li>20</li>\n",
       "\t<li>18</li>\n",
       "\t<li>16</li>\n",
       "\t<li>16</li>\n",
       "\t<li>14</li>\n",
       "\t<li>13</li>\n",
       "\t<li>11</li>\n",
       "\t<li>11</li>\n",
       "\t<li>10</li>\n",
       "\t<li>8</li>\n",
       "\t<li>8</li>\n",
       "\t<li>6</li>\n",
       "\t<li>5</li>\n",
       "\t<li>4</li>\n",
       "\t<li>4</li>\n",
       "\t<li>4</li>\n",
       "\t<li>4</li>\n",
       "\t<li>3</li>\n",
       "</ol>\n"
      ],
      "text/latex": [
       "\\begin{enumerate*}\n",
       "\\item 48\n",
       "\\item 41\n",
       "\\item 35\n",
       "\\item 35\n",
       "\\item 34\n",
       "\\item 33\n",
       "\\item 33\n",
       "\\item 32\n",
       "\\item 31\n",
       "\\item 31\n",
       "\\item 31\n",
       "\\item 30\n",
       "\\item 30\n",
       "\\item 29\n",
       "\\item 28\n",
       "\\item 27\n",
       "\\item 27\n",
       "\\item 27\n",
       "\\item 26\n",
       "\\item 25\n",
       "\\item 25\n",
       "\\item 24\n",
       "\\item 24\n",
       "\\item 23\n",
       "\\item 23\n",
       "\\item 22\n",
       "\\item 21\n",
       "\\item 21\n",
       "\\item 20\n",
       "\\item 20\n",
       "\\item 18\n",
       "\\item 16\n",
       "\\item 16\n",
       "\\item 14\n",
       "\\item 13\n",
       "\\item 11\n",
       "\\item 11\n",
       "\\item 10\n",
       "\\item 8\n",
       "\\item 8\n",
       "\\item 6\n",
       "\\item 5\n",
       "\\item 4\n",
       "\\item 4\n",
       "\\item 4\n",
       "\\item 4\n",
       "\\item 3\n",
       "\\end{enumerate*}\n"
      ],
      "text/markdown": [
       "1. 48\n",
       "2. 41\n",
       "3. 35\n",
       "4. 35\n",
       "5. 34\n",
       "6. 33\n",
       "7. 33\n",
       "8. 32\n",
       "9. 31\n",
       "10. 31\n",
       "11. 31\n",
       "12. 30\n",
       "13. 30\n",
       "14. 29\n",
       "15. 28\n",
       "16. 27\n",
       "17. 27\n",
       "18. 27\n",
       "19. 26\n",
       "20. 25\n",
       "21. 25\n",
       "22. 24\n",
       "23. 24\n",
       "24. 23\n",
       "25. 23\n",
       "26. 22\n",
       "27. 21\n",
       "28. 21\n",
       "29. 20\n",
       "30. 20\n",
       "31. 18\n",
       "32. 16\n",
       "33. 16\n",
       "34. 14\n",
       "35. 13\n",
       "36. 11\n",
       "37. 11\n",
       "38. 10\n",
       "39. 8\n",
       "40. 8\n",
       "41. 6\n",
       "42. 5\n",
       "43. 4\n",
       "44. 4\n",
       "45. 4\n",
       "46. 4\n",
       "47. 3\n",
       "\n",
       "\n"
      ],
      "text/plain": [
       " [1] 48 41 35 35 34 33 33 32 31 31 31 30 30 29 28 27 27 27 26 25 25 24 24 23 23\n",
       "[26] 22 21 21 20 20 18 16 16 14 13 11 11 10  8  8  6  5  4  4  4  4  3"
      ]
     },
     "metadata": {},
     "output_type": "display_data"
    },
    {
     "data": {
      "text/html": [
       "48"
      ],
      "text/latex": [
       "48"
      ],
      "text/markdown": [
       "48"
      ],
      "text/plain": [
       "[1] 48"
      ]
     },
     "metadata": {},
     "output_type": "display_data"
    },
    {
     "data": {
      "text/html": [
       "3"
      ],
      "text/latex": [
       "3"
      ],
      "text/markdown": [
       "3"
      ],
      "text/plain": [
       "[1] 3"
      ]
     },
     "metadata": {},
     "output_type": "display_data"
    },
    {
     "data": {
      "text/html": [
       "48"
      ],
      "text/latex": [
       "48"
      ],
      "text/markdown": [
       "48"
      ],
      "text/plain": [
       "[1] 48"
      ]
     },
     "metadata": {},
     "output_type": "display_data"
    }
   ],
   "source": [
    "cafe<-read.csv('d:/data/cafe/data.csv') #csv 파일 로딩\n",
    "cafe$Coffees\n",
    "#데이터프레임$필드\n",
    "sort(cafe$Coffees) #정렬\n",
    "sort(cafe$Coffees)[1] #벡터의 첫번째값(최소값)\n",
    "sort(cafe$Coffees, decreasing=T) #내림차순 정렬\n",
    "sort(cafe$Coffees, decreasing=T)[1] #최대값\n",
    "min(cafe$Coffees) #3\n",
    "max(cafe$Coffees) #48"
   ]
  },
  {
   "cell_type": "code",
   "execution_count": 16,
   "metadata": {},
   "outputs": [
    {
     "data": {
      "text/plain": [
       "\n",
       " [0,10) [10,20) [20,30) [30,40) [40,50) \n",
       "      9       8      17      11       2 "
      ]
     },
     "metadata": {},
     "output_type": "display_data"
    }
   ],
   "source": [
    "#최빈값\n",
    "#table 빈도수 계산 함수, breaks 구간 right=F 마지막값은 선택하지 않음\n",
    "table(cut(cafe$Coffee,breaks=seq(0,50,by=10),right=F))"
   ]
  },
  {
   "cell_type": "code",
   "execution_count": 17,
   "metadata": {},
   "outputs": [
    {
     "name": "stdout",
     "output_type": "stream",
     "text": [
      "\n",
      "  The decimal point is 1 digit(s) to the right of the |\n",
      "\n",
      "  0 | 34444\n",
      "  0 | 5688\n",
      "  1 | 01134\n",
      "  1 | 668\n",
      "  2 | 001123344\n",
      "  2 | 55677789\n",
      "  3 | 001112334\n",
      "  3 | 55\n",
      "  4 | 1\n",
      "  4 | 8\n",
      "\n"
     ]
    }
   ],
   "source": [
    "ca<-cafe$Coffees\n",
    "stem(ca) #줄기-잎 그림"
   ]
  },
  {
   "cell_type": "code",
   "execution_count": 18,
   "metadata": {},
   "outputs": [
    {
     "data": {
      "text/plain": [
       "ca\n",
       " 3  4  5  6  8 10 11 13 14 16 18 20 21 22 23 24 25 26 27 28 29 30 31 32 33 34 \n",
       " 1  4  1  1  2  1  2  1  1  2  1  2  2  1  2  2  2  1  3  1  1  2  3  1  2  1 \n",
       "35 41 48 \n",
       " 2  1  1 "
      ]
     },
     "metadata": {},
     "output_type": "display_data"
    },
    {
     "data": {
      "text/html": [
       "4"
      ],
      "text/latex": [
       "4"
      ],
      "text/markdown": [
       "4"
      ],
      "text/plain": [
       "[1] 4"
      ]
     },
     "metadata": {},
     "output_type": "display_data"
    }
   ],
   "source": [
    "table(ca)\n",
    "max(table(ca))"
   ]
  },
  {
   "cell_type": "code",
   "execution_count": 19,
   "metadata": {},
   "outputs": [
    {
     "data": {
      "text/html": [
       "21.5106382978723"
      ],
      "text/latex": [
       "21.5106382978723"
      ],
      "text/markdown": [
       "21.5106382978723"
      ],
      "text/plain": [
       "[1] 21.51064"
      ]
     },
     "metadata": {},
     "output_type": "display_data"
    },
    {
     "data": {
      "text/html": [
       "<ol class=list-inline>\n",
       "\t<li>16</li>\n",
       "\t<li>14</li>\n",
       "\t<li>10</li>\n",
       "\t<li>11</li>\n",
       "\t<li>&lt;NA&gt;</li>\n",
       "</ol>\n"
      ],
      "text/latex": [
       "\\begin{enumerate*}\n",
       "\\item 16\n",
       "\\item 14\n",
       "\\item 10\n",
       "\\item 11\n",
       "\\item <NA>\n",
       "\\end{enumerate*}\n"
      ],
      "text/markdown": [
       "1. 16\n",
       "2. 14\n",
       "3. 10\n",
       "4. 11\n",
       "5. &lt;NA&gt;\n",
       "\n",
       "\n"
      ],
      "text/plain": [
       "[1] 16 14 10 11 NA"
      ]
     },
     "metadata": {},
     "output_type": "display_data"
    },
    {
     "data": {
      "text/html": [
       "&lt;NA&gt;"
      ],
      "text/latex": [
       "<NA>"
      ],
      "text/markdown": [
       "&lt;NA&gt;"
      ],
      "text/plain": [
       "[1] NA"
      ]
     },
     "metadata": {},
     "output_type": "display_data"
    },
    {
     "data": {
      "text/html": [
       "21.5106382978723"
      ],
      "text/latex": [
       "21.5106382978723"
      ],
      "text/markdown": [
       "21.5106382978723"
      ],
      "text/plain": [
       "[1] 21.51064"
      ]
     },
     "metadata": {},
     "output_type": "display_data"
    }
   ],
   "source": [
    "mean(ca) #평균값\n",
    "ca<-c(ca,NA) #커피판매당 데이터에 NA 추가\n",
    "tail(ca,n=5) #마지막 5행\n",
    "mean(ca) #결측값이 있으므로 계산이 되지 않음\n",
    "mean(ca,na.rm=T) #결측값을 제외하고 계산"
   ]
  },
  {
   "cell_type": "code",
   "execution_count": 20,
   "metadata": {},
   "outputs": [
    {
     "data": {
      "text/html": [
       "<ol class=list-inline>\n",
       "\t<li>41</li>\n",
       "\t<li>33</li>\n",
       "\t<li>34</li>\n",
       "\t<li>27</li>\n",
       "\t<li>20</li>\n",
       "\t<li>23</li>\n",
       "\t<li>32</li>\n",
       "\t<li>31</li>\n",
       "\t<li>30</li>\n",
       "\t<li>27</li>\n",
       "\t<li>30</li>\n",
       "\t<li>27</li>\n",
       "\t<li>26</li>\n",
       "\t<li>24</li>\n",
       "\t<li>18</li>\n",
       "\t<li>22</li>\n",
       "\t<li>21</li>\n",
       "\t<li>28</li>\n",
       "\t<li>23</li>\n",
       "\t<li>31</li>\n",
       "\t<li>29</li>\n",
       "\t<li>48</li>\n",
       "\t<li>25</li>\n",
       "\t<li>31</li>\n",
       "\t<li>25</li>\n",
       "\t<li>35</li>\n",
       "\t<li>33</li>\n",
       "\t<li>35</li>\n",
       "\t<li>16</li>\n",
       "\t<li>24</li>\n",
       "\t<li>20</li>\n",
       "\t<li>11</li>\n",
       "\t<li>21</li>\n",
       "\t<li>8</li>\n",
       "\t<li>8</li>\n",
       "\t<li>4</li>\n",
       "\t<li>4</li>\n",
       "\t<li>3</li>\n",
       "\t<li>5</li>\n",
       "\t<li>6</li>\n",
       "\t<li>4</li>\n",
       "\t<li>13</li>\n",
       "\t<li>4</li>\n",
       "\t<li>16</li>\n",
       "\t<li>14</li>\n",
       "\t<li>10</li>\n",
       "\t<li>11</li>\n",
       "</ol>\n"
      ],
      "text/latex": [
       "\\begin{enumerate*}\n",
       "\\item 41\n",
       "\\item 33\n",
       "\\item 34\n",
       "\\item 27\n",
       "\\item 20\n",
       "\\item 23\n",
       "\\item 32\n",
       "\\item 31\n",
       "\\item 30\n",
       "\\item 27\n",
       "\\item 30\n",
       "\\item 27\n",
       "\\item 26\n",
       "\\item 24\n",
       "\\item 18\n",
       "\\item 22\n",
       "\\item 21\n",
       "\\item 28\n",
       "\\item 23\n",
       "\\item 31\n",
       "\\item 29\n",
       "\\item 48\n",
       "\\item 25\n",
       "\\item 31\n",
       "\\item 25\n",
       "\\item 35\n",
       "\\item 33\n",
       "\\item 35\n",
       "\\item 16\n",
       "\\item 24\n",
       "\\item 20\n",
       "\\item 11\n",
       "\\item 21\n",
       "\\item 8\n",
       "\\item 8\n",
       "\\item 4\n",
       "\\item 4\n",
       "\\item 3\n",
       "\\item 5\n",
       "\\item 6\n",
       "\\item 4\n",
       "\\item 13\n",
       "\\item 4\n",
       "\\item 16\n",
       "\\item 14\n",
       "\\item 10\n",
       "\\item 11\n",
       "\\end{enumerate*}\n"
      ],
      "text/markdown": [
       "1. 41\n",
       "2. 33\n",
       "3. 34\n",
       "4. 27\n",
       "5. 20\n",
       "6. 23\n",
       "7. 32\n",
       "8. 31\n",
       "9. 30\n",
       "10. 27\n",
       "11. 30\n",
       "12. 27\n",
       "13. 26\n",
       "14. 24\n",
       "15. 18\n",
       "16. 22\n",
       "17. 21\n",
       "18. 28\n",
       "19. 23\n",
       "20. 31\n",
       "21. 29\n",
       "22. 48\n",
       "23. 25\n",
       "24. 31\n",
       "25. 25\n",
       "26. 35\n",
       "27. 33\n",
       "28. 35\n",
       "29. 16\n",
       "30. 24\n",
       "31. 20\n",
       "32. 11\n",
       "33. 21\n",
       "34. 8\n",
       "35. 8\n",
       "36. 4\n",
       "37. 4\n",
       "38. 3\n",
       "39. 5\n",
       "40. 6\n",
       "41. 4\n",
       "42. 13\n",
       "43. 4\n",
       "44. 16\n",
       "45. 14\n",
       "46. 10\n",
       "47. 11\n",
       "\n",
       "\n"
      ],
      "text/plain": [
       " [1] 41 33 34 27 20 23 32 31 30 27 30 27 26 24 18 22 21 28 23 31 29 48 25 31 25\n",
       "[26] 35 33 35 16 24 20 11 21  8  8  4  4  3  5  6  4 13  4 16 14 10 11"
      ]
     },
     "metadata": {},
     "output_type": "display_data"
    }
   ],
   "source": [
    "#중앙값,중위수\n",
    "rc<- cafe$Coffees\n",
    "rc"
   ]
  },
  {
   "cell_type": "code",
   "execution_count": 21,
   "metadata": {},
   "outputs": [
    {
     "data": {
      "text/html": [
       "170"
      ],
      "text/latex": [
       "170"
      ],
      "text/markdown": [
       "170"
      ],
      "text/plain": [
       "[1] 170"
      ]
     },
     "metadata": {},
     "output_type": "display_data"
    },
    {
     "data": {
      "text/html": [
       "170"
      ],
      "text/latex": [
       "170"
      ],
      "text/markdown": [
       "170"
      ],
      "text/plain": [
       "[1] 170"
      ]
     },
     "metadata": {},
     "output_type": "display_data"
    }
   ],
   "source": [
    "height<-c(164,166,168,170,172,174,176)\n",
    "mean(height) #평균\n",
    "median(height) #중위수"
   ]
  },
  {
   "cell_type": "code",
   "execution_count": 22,
   "metadata": {},
   "outputs": [
    {
     "data": {
      "text/html": [
       "<ol class=list-inline>\n",
       "\t<li>-6</li>\n",
       "\t<li>-4</li>\n",
       "\t<li>-2</li>\n",
       "\t<li>0</li>\n",
       "\t<li>2</li>\n",
       "\t<li>4</li>\n",
       "\t<li>6</li>\n",
       "</ol>\n"
      ],
      "text/latex": [
       "\\begin{enumerate*}\n",
       "\\item -6\n",
       "\\item -4\n",
       "\\item -2\n",
       "\\item 0\n",
       "\\item 2\n",
       "\\item 4\n",
       "\\item 6\n",
       "\\end{enumerate*}\n"
      ],
      "text/markdown": [
       "1. -6\n",
       "2. -4\n",
       "3. -2\n",
       "4. 0\n",
       "5. 2\n",
       "6. 4\n",
       "7. 6\n",
       "\n",
       "\n"
      ],
      "text/plain": [
       "[1] -6 -4 -2  0  2  4  6"
      ]
     },
     "metadata": {},
     "output_type": "display_data"
    },
    {
     "data": {
      "text/html": [
       "0"
      ],
      "text/latex": [
       "0"
      ],
      "text/markdown": [
       "0"
      ],
      "text/plain": [
       "[1] 0"
      ]
     },
     "metadata": {},
     "output_type": "display_data"
    }
   ],
   "source": [
    "height.dev<-height - mean(height) #편차: 각 변량에서 평균을 뺀 값\n",
    "height.dev\n",
    "sum(height.dev) #편차의 합은 0"
   ]
  },
  {
   "cell_type": "code",
   "execution_count": 23,
   "metadata": {},
   "outputs": [
    {
     "data": {
      "text/html": [
       "18.6666666666667"
      ],
      "text/latex": [
       "18.6666666666667"
      ],
      "text/markdown": [
       "18.6666666666667"
      ],
      "text/plain": [
       "[1] 18.66667"
      ]
     },
     "metadata": {},
     "output_type": "display_data"
    },
    {
     "data": {
      "text/html": [
       "4.32049379893857"
      ],
      "text/latex": [
       "4.32049379893857"
      ],
      "text/markdown": [
       "4.32049379893857"
      ],
      "text/plain": [
       "[1] 4.320494"
      ]
     },
     "metadata": {},
     "output_type": "display_data"
    }
   ],
   "source": [
    "var(height) #분산\n",
    "sd(height) #표준편차"
   ]
  },
  {
   "cell_type": "code",
   "execution_count": 24,
   "metadata": {},
   "outputs": [
    {
     "name": "stdout",
     "output_type": "stream",
     "text": [
      "평균 판매량: 21.5 ,표준편차: 11.08"
     ]
    }
   ],
   "source": [
    "ca<-cafe$Coffees\n",
    "ca.m<-mean(ca) #평균\n",
    "ca.sd<-sd(ca) #표준편차\n",
    "cat('평균 판매량:',round(ca.m,1),',표준편차:',round(ca.sd,2))"
   ]
  },
  {
   "cell_type": "code",
   "execution_count": 25,
   "metadata": {},
   "outputs": [
    {
     "data": {
      "text/html": [
       "21.5106382978723"
      ],
      "text/latex": [
       "21.5106382978723"
      ],
      "text/markdown": [
       "21.5106382978723"
      ],
      "text/plain": [
       "[1] 21.51064"
      ]
     },
     "metadata": {},
     "output_type": "display_data"
    },
    {
     "data": {
      "text/html": [
       "11.080480958847"
      ],
      "text/latex": [
       "11.080480958847"
      ],
      "text/markdown": [
       "11.080480958847"
      ],
      "text/plain": [
       "[1] 11.08048"
      ]
     },
     "metadata": {},
     "output_type": "display_data"
    },
    {
     "data": {
      "text/html": [
       "4.93617021276596"
      ],
      "text/latex": [
       "4.93617021276596"
      ],
      "text/markdown": [
       "4.93617021276596"
      ],
      "text/plain": [
       "[1] 4.93617"
      ]
     },
     "metadata": {},
     "output_type": "display_data"
    },
    {
     "data": {
      "text/html": [
       "3.70313765503484"
      ],
      "text/latex": [
       "3.70313765503484"
      ],
      "text/markdown": [
       "3.70313765503484"
      ],
      "text/plain": [
       "[1] 3.703138"
      ]
     },
     "metadata": {},
     "output_type": "display_data"
    }
   ],
   "source": [
    "coffee<-cafe$Coffees\n",
    "juice<-cafe$Juices\n",
    "(coffee.m<-mean(coffee)) #커피 판매량 평균\n",
    "(coffee.sd<-sd(coffee)) #표준편차\n",
    "(juice.m<-mean(juice)) #주스 판매량 평균\n",
    "(juice.sd<-sd(juice))"
   ]
  },
  {
   "cell_type": "code",
   "execution_count": 26,
   "metadata": {},
   "outputs": [
    {
     "data": {
      "text/html": [
       "0.515"
      ],
      "text/latex": [
       "0.515"
      ],
      "text/markdown": [
       "0.515"
      ],
      "text/plain": [
       "[1] 0.515"
      ]
     },
     "metadata": {},
     "output_type": "display_data"
    }
   ],
   "source": [
    "#커피판매량의 변동계수   표준편차/평균\n",
    "(coffee.cv<-round(coffee.sd/coffee.m,3))"
   ]
  },
  {
   "cell_type": "code",
   "execution_count": 27,
   "metadata": {},
   "outputs": [
    {
     "data": {
      "text/html": [
       "0.75"
      ],
      "text/latex": [
       "0.75"
      ],
      "text/markdown": [
       "0.75"
      ],
      "text/plain": [
       "[1] 0.75"
      ]
     },
     "metadata": {},
     "output_type": "display_data"
    }
   ],
   "source": [
    "#주스판매량의 변동계수   표준편차/평균\n",
    "(juice.cv<-round(juice.sd/juice.m,3))"
   ]
  },
  {
   "cell_type": "code",
   "execution_count": 30,
   "metadata": {},
   "outputs": [
    {
     "data": {
      "text/html": [
       "<dl class=dl-horizontal>\n",
       "\t<dt>0%</dt>\n",
       "\t\t<dd>3</dd>\n",
       "\t<dt>25%</dt>\n",
       "\t\t<dd>12</dd>\n",
       "\t<dt>50%</dt>\n",
       "\t\t<dd>23</dd>\n",
       "\t<dt>75%</dt>\n",
       "\t\t<dd>30</dd>\n",
       "\t<dt>100%</dt>\n",
       "\t\t<dd>48</dd>\n",
       "</dl>\n"
      ],
      "text/latex": [
       "\\begin{description*}\n",
       "\\item[0\\textbackslash{}\\%] 3\n",
       "\\item[25\\textbackslash{}\\%] 12\n",
       "\\item[50\\textbackslash{}\\%] 23\n",
       "\\item[75\\textbackslash{}\\%] 30\n",
       "\\item[100\\textbackslash{}\\%] 48\n",
       "\\end{description*}\n"
      ],
      "text/markdown": [
       "0%\n",
       ":   325%\n",
       ":   1250%\n",
       ":   2375%\n",
       ":   30100%\n",
       ":   48\n",
       "\n"
      ],
      "text/plain": [
       "  0%  25%  50%  75% 100% \n",
       "   3   12   23   30   48 "
      ]
     },
     "metadata": {},
     "output_type": "display_data"
    },
    {
     "data": {
      "text/html": [
       "18"
      ],
      "text/latex": [
       "18"
      ],
      "text/markdown": [
       "18"
      ],
      "text/plain": [
       "[1] 18"
      ]
     },
     "metadata": {},
     "output_type": "display_data"
    },
    {
     "data": {
      "image/png": "[encoded data removed]",
      "text/plain": [
       "Plot with title \"커피 판매량\""
      ]
     },
     "metadata": {},
     "output_type": "display_data"
    }
   ],
   "source": [
    "qs<-quantile(coffee)\n",
    "qs\n",
    "IQR(coffee) #Q3-Q1\n",
    "boxplot(coffee,main='커피 판매량')"
   ]
  },
  {
   "cell_type": "code",
   "execution_count": 34,
   "metadata": {},
   "outputs": [
    {
     "data": {
      "image/png": "[encoded data removed]",
      "text/plain": [
       "plot without title"
      ]
     },
     "metadata": {},
     "output_type": "display_data"
    }
   ],
   "source": [
    "boxplot(coffee,juice,names=c('커피 판매량','주스 판매량'))"
   ]
  },
  {
   "cell_type": "code",
   "execution_count": null,
   "metadata": {},
   "outputs": [],
   "source": []
  },
  {
   "cell_type": "code",
   "execution_count": null,
   "metadata": {},
   "outputs": [],
   "source": []
  },
  {
   "cell_type": "code",
   "execution_count": null,
   "metadata": {},
   "outputs": [],
   "source": []
  },
  {
   "cell_type": "code",
   "execution_count": null,
   "metadata": {},
   "outputs": [],
   "source": []
  },
  {
   "cell_type": "code",
   "execution_count": null,
   "metadata": {},
   "outputs": [],
   "source": []
  },
  {
   "cell_type": "code",
   "execution_count": null,
   "metadata": {},
   "outputs": [],
   "source": []
  }
 ],
 "metadata": {
  "kernelspec": {
   "display_name": "R",
   "language": "R",
   "name": "ir"
  },
  "language_info": {
   "codemirror_mode": "r",
   "file_extension": ".r",
   "mimetype": "text/x-r-source",
   "name": "R",
   "pygments_lexer": "r",
   "version": "3.6.1"
  }
 },
 "nbformat": 4,
 "nbformat_minor": 2
}
