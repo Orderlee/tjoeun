{
 "cells": [
  {
   "cell_type": "code",
   "execution_count": 3,
   "metadata": {},
   "outputs": [
    {
     "data": {
      "text/html": [
       "<table>\n",
       "<thead><tr><th></th><th scope=col>child1</th><th scope=col>child2</th></tr></thead>\n",
       "<tbody>\n",
       "\t<tr><th scope=row>car</th><td> 5</td><td>4 </td></tr>\n",
       "\t<tr><th scope=row>truck</th><td>11</td><td>7 </td></tr>\n",
       "\t<tr><th scope=row>doll</th><td> 1</td><td>3 </td></tr>\n",
       "</tbody>\n",
       "</table>\n"
      ],
      "text/latex": [
       "\\begin{tabular}{r|ll}\n",
       "  & child1 & child2\\\\\n",
       "\\hline\n",
       "\tcar &  5 & 4 \\\\\n",
       "\ttruck & 11 & 7 \\\\\n",
       "\tdoll &  1 & 3 \\\\\n",
       "\\end{tabular}\n"
      ],
      "text/markdown": [
       "\n",
       "| <!--/--> | child1 | child2 |\n",
       "|---|---|---|\n",
       "| car |  5 | 4  |\n",
       "| truck | 11 | 7  |\n",
       "| doll |  1 | 3  |\n",
       "\n"
      ],
      "text/plain": [
       "      child1 child2\n",
       "car    5     4     \n",
       "truck 11     7     \n",
       "doll   1     3     "
      ]
     },
     "metadata": {},
     "output_type": "display_data"
    }
   ],
   "source": [
    "#카이제곱 검정\n",
    "#귀무가설: 두 데이터는 차이가 없다\n",
    "#대립가설: 두 데이터는 차이가 있다 (내가 주장하고 싶은 가설)\n",
    "child1<-c(5,11,1)\n",
    "child2<-c(4,7,3)\n",
    "Toy<-cbind(child1,child2)\n",
    "rownames(Toy)<-c('car','truck','doll')\n",
    "Toy"
   ]
  },
  {
   "cell_type": "code",
   "execution_count": 4,
   "metadata": {},
   "outputs": [
    {
     "name": "stderr",
     "output_type": "stream",
     "text": [
      "Warning message in chisq.test(Toy):\n",
      "\"Chi-squared approximation may be incorrect\""
     ]
    },
    {
     "data": {
      "text/plain": [
       "\n",
       "\tPearson's Chi-squared test\n",
       "\n",
       "data:  Toy\n",
       "X-squared = 1.7258, df = 2, p-value = 0.4219\n"
      ]
     },
     "metadata": {},
     "output_type": "display_data"
    }
   ],
   "source": [
    "# p-value 점근유의확률 0.05 기준, 95% 신뢰수준 하에서 유의함\n",
    "chisq.test(Toy)"
   ]
  },
  {
   "cell_type": "code",
   "execution_count": 5,
   "metadata": {},
   "outputs": [
    {
     "data": {
      "text/plain": [
       "\n",
       "\tFisher's Exact Test for Count Data\n",
       "\n",
       "data:  Toy\n",
       "p-value = 0.5165\n",
       "alternative hypothesis: two.sided\n"
      ]
     },
     "metadata": {},
     "output_type": "display_data"
    }
   ],
   "source": [
    "#피셔검정, 표본수가 적거나 데이터의 분포가 치우친 경우에 적용\n",
    "fisher.test(Toy)\n",
    "#p-value가 0.05보다 크면 귀무가설 채택, 대릭갑설 기각\n",
    "#p-value가 0.05보다 작으면 귀무가설 기각, 대립가설 채택\n",
    "# 결론: 두 데이터는 차이가 없다."
   ]
  },
  {
   "cell_type": "code",
   "execution_count": 6,
   "metadata": {},
   "outputs": [
    {
     "data": {
      "text/plain": [
       "\n",
       "\tShapiro-Wilk normality test\n",
       "\n",
       "data:  a\n",
       "W = 0.97706, p-value = 0.9469\n"
      ]
     },
     "metadata": {},
     "output_type": "display_data"
    }
   ],
   "source": [
    "#t검정(표본이 1개일 때)\n",
    "#귀무가설 : 건전지의 수명은 1000시간이다.\n",
    "#대립가설 : 건전지의 수명은 1000시간이 아니다.\n",
    "a<-c(980,1008,968,1032,1012,1002,996,1017)\n",
    "#먼저 데이터가 정규분포인지 확인하기 위한 shapiro-wilk 검정을 실시\n",
    "shapiro.test(a)\n",
    "#p-value가 0.05보다 크므로 위의 데이터는 정규분포임"
   ]
  },
  {
   "cell_type": "code",
   "execution_count": 7,
   "metadata": {},
   "outputs": [
    {
     "data": {
      "text/plain": [
       "\n",
       "\tOne Sample t-test\n",
       "\n",
       "data:  a\n",
       "t = 0.25891, df = 7, p-value = 0.8032\n",
       "alternative hypothesis: true mean is not equal to 1000\n",
       "95 percent confidence interval:\n",
       "  984.7508 1018.9992\n",
       "sample estimates:\n",
       "mean of x \n",
       " 1001.875 \n"
      ]
     },
     "metadata": {},
     "output_type": "display_data"
    }
   ],
   "source": [
    "#t검정 mu 평균값 two.sided 평균이 다르다\n",
    "t.test(a,mu=1000,alternative='two.sided')\n",
    "#p-value가 0.05보다 크므로 귀무가설 채택, 대립가설 기각\n",
    "#결론 : 건전지의 수명은 1000시간이다."
   ]
  },
  {
   "cell_type": "code",
   "execution_count": 8,
   "metadata": {},
   "outputs": [
    {
     "data": {
      "text/plain": [
       "\n",
       "\tShapiro-Wilk normality test\n",
       "\n",
       "data:  a\n",
       "W = 0.91143, p-value = 0.1058\n"
      ]
     },
     "metadata": {},
     "output_type": "display_data"
    }
   ],
   "source": [
    "#0교시 수업 시행 전 평균점수는 55점이었다.\n",
    "#귀무가설 : 0교시 수업 시행 후 학생들의 성적은 오르지 않았다.\n",
    "#대립가설 : 0교시 수업 시행 후 학생들의 성적이 올랐다.\n",
    "a<-c(58,49,39,99,32,88,62,30,55,65,44,55,57,53,88,42,39)\n",
    "# 먼저 정규분포인지 확인\n",
    "shapiro.test(a)\n",
    "#p-value가 0.05보다 크므로 위의 데이터는 정규분포임"
   ]
  },
  {
   "cell_type": "code",
   "execution_count": 9,
   "metadata": {},
   "outputs": [
    {
     "data": {
      "text/plain": [
       "\n",
       "\tOne Sample t-test\n",
       "\n",
       "data:  a\n",
       "t = 0.24546, df = 16, p-value = 0.4046\n",
       "alternative hypothesis: true mean is greater than 55\n",
       "95 percent confidence interval:\n",
       " 47.80855      Inf\n",
       "sample estimates:\n",
       "mean of x \n",
       " 56.17647 \n"
      ]
     },
     "metadata": {},
     "output_type": "display_data"
    }
   ],
   "source": [
    "t.test(a,mu=55,alternative='greater') #55점보다 높다.\n",
    "#p-value가 0.05보다 크므로 귀무가설 채택, 대립가설 기각\n",
    "#결론 : 0교시 수업 후 학생들의 성적은 오르지 않았다."
   ]
  },
  {
   "cell_type": "code",
   "execution_count": 10,
   "metadata": {},
   "outputs": [
    {
     "data": {
      "text/plain": [
       "\n",
       "\tWelch Two Sample t-test\n",
       "\n",
       "data:  pre and post\n",
       "t = -0.36891, df = 17.987, p-value = 0.7165\n",
       "alternative hypothesis: true difference in means is not equal to 0\n",
       "95 percent confidence interval:\n",
       " -2.745046  1.925046\n",
       "sample estimates:\n",
       "mean of x mean of y \n",
       "    10.63     11.04 \n"
      ]
     },
     "metadata": {},
     "output_type": "display_data"
    }
   ],
   "source": [
    "#표본이 2개인 경우의 t검정\n",
    "#귀무가설: 혈압약을 먹었을 때와 먹지 않았을 때의 혈압차이가 없다.\n",
    "#대립가설: 혈압약을 먹었을 때와 먹지 않았을 때의 혈압차이가 있다.\n",
    "pre<-c(13.2,8.2,10.9,14.3,10.7,6.6,9.5,10.8,8.8,13.3)\n",
    "post<-c(14,8.8,11.2,14.2,11.8,6.4,9.8,11.3,9.3,13.6)\n",
    "t.test(pre,post)\n",
    "#p-value가 0.05보다 크므로 귀무가설 채택, 대립가설 기각\n",
    "# 결론 : 혈압약을 먹었을 때와 먹지 않았을 때의 혈압차이가 없다."
   ]
  },
  {
   "cell_type": "code",
   "execution_count": 11,
   "metadata": {},
   "outputs": [
    {
     "data": {
      "text/html": [
       "<ol class=list-inline>\n",
       "\t<li>1</li>\n",
       "\t<li>2</li>\n",
       "\t<li>3</li>\n",
       "\t<li>4</li>\n",
       "\t<li>5</li>\n",
       "\t<li>6</li>\n",
       "\t<li>7</li>\n",
       "\t<li>8</li>\n",
       "\t<li>9</li>\n",
       "\t<li>1.09</li>\n",
       "\t<li>2.12</li>\n",
       "\t<li>2.92</li>\n",
       "\t<li>4.06</li>\n",
       "\t<li>4.9</li>\n",
       "\t<li>6.08</li>\n",
       "\t<li>7.01</li>\n",
       "\t<li>7.92</li>\n",
       "\t<li>8.94</li>\n",
       "\t<li>1.1</li>\n",
       "\t<li>1.96</li>\n",
       "\t<li>2.98</li>\n",
       "\t<li>4.09</li>\n",
       "\t<li>4.92</li>\n",
       "\t<li>6.1</li>\n",
       "\t<li>6.88</li>\n",
       "\t<li>7.97</li>\n",
       "\t<li>9.01</li>\n",
       "</ol>\n"
      ],
      "text/latex": [
       "\\begin{enumerate*}\n",
       "\\item 1\n",
       "\\item 2\n",
       "\\item 3\n",
       "\\item 4\n",
       "\\item 5\n",
       "\\item 6\n",
       "\\item 7\n",
       "\\item 8\n",
       "\\item 9\n",
       "\\item 1.09\n",
       "\\item 2.12\n",
       "\\item 2.92\n",
       "\\item 4.06\n",
       "\\item 4.9\n",
       "\\item 6.08\n",
       "\\item 7.01\n",
       "\\item 7.92\n",
       "\\item 8.94\n",
       "\\item 1.1\n",
       "\\item 1.96\n",
       "\\item 2.98\n",
       "\\item 4.09\n",
       "\\item 4.92\n",
       "\\item 6.1\n",
       "\\item 6.88\n",
       "\\item 7.97\n",
       "\\item 9.01\n",
       "\\end{enumerate*}\n"
      ],
      "text/markdown": [
       "1. 1\n",
       "2. 2\n",
       "3. 3\n",
       "4. 4\n",
       "5. 5\n",
       "6. 6\n",
       "7. 7\n",
       "8. 8\n",
       "9. 9\n",
       "10. 1.09\n",
       "11. 2.12\n",
       "12. 2.92\n",
       "13. 4.06\n",
       "14. 4.9\n",
       "15. 6.08\n",
       "16. 7.01\n",
       "17. 7.92\n",
       "18. 8.94\n",
       "19. 1.1\n",
       "20. 1.96\n",
       "21. 2.98\n",
       "22. 4.09\n",
       "23. 4.92\n",
       "24. 6.1\n",
       "25. 6.88\n",
       "26. 7.97\n",
       "27. 9.01\n",
       "\n",
       "\n"
      ],
      "text/plain": [
       " [1] 1.00 2.00 3.00 4.00 5.00 6.00 7.00 8.00 9.00 1.09 2.12 2.92 4.06 4.90 6.08\n",
       "[16] 7.01 7.92 8.94 1.10 1.96 2.98 4.09 4.92 6.10 6.88 7.97 9.01"
      ]
     },
     "metadata": {},
     "output_type": "display_data"
    },
    {
     "data": {
      "text/html": [
       "<ol class=list-inline>\n",
       "\t<li>1</li>\n",
       "\t<li>1</li>\n",
       "\t<li>1</li>\n",
       "\t<li>1</li>\n",
       "\t<li>1</li>\n",
       "\t<li>1</li>\n",
       "\t<li>1</li>\n",
       "\t<li>1</li>\n",
       "\t<li>1</li>\n",
       "\t<li>2</li>\n",
       "\t<li>2</li>\n",
       "\t<li>2</li>\n",
       "\t<li>2</li>\n",
       "\t<li>2</li>\n",
       "\t<li>2</li>\n",
       "\t<li>2</li>\n",
       "\t<li>2</li>\n",
       "\t<li>2</li>\n",
       "\t<li>3</li>\n",
       "\t<li>3</li>\n",
       "\t<li>3</li>\n",
       "\t<li>3</li>\n",
       "\t<li>3</li>\n",
       "\t<li>3</li>\n",
       "\t<li>3</li>\n",
       "\t<li>3</li>\n",
       "\t<li>3</li>\n",
       "</ol>\n"
      ],
      "text/latex": [
       "\\begin{enumerate*}\n",
       "\\item 1\n",
       "\\item 1\n",
       "\\item 1\n",
       "\\item 1\n",
       "\\item 1\n",
       "\\item 1\n",
       "\\item 1\n",
       "\\item 1\n",
       "\\item 1\n",
       "\\item 2\n",
       "\\item 2\n",
       "\\item 2\n",
       "\\item 2\n",
       "\\item 2\n",
       "\\item 2\n",
       "\\item 2\n",
       "\\item 2\n",
       "\\item 2\n",
       "\\item 3\n",
       "\\item 3\n",
       "\\item 3\n",
       "\\item 3\n",
       "\\item 3\n",
       "\\item 3\n",
       "\\item 3\n",
       "\\item 3\n",
       "\\item 3\n",
       "\\end{enumerate*}\n"
      ],
      "text/markdown": [
       "1. 1\n",
       "2. 1\n",
       "3. 1\n",
       "4. 1\n",
       "5. 1\n",
       "6. 1\n",
       "7. 1\n",
       "8. 1\n",
       "9. 1\n",
       "10. 2\n",
       "11. 2\n",
       "12. 2\n",
       "13. 2\n",
       "14. 2\n",
       "15. 2\n",
       "16. 2\n",
       "17. 2\n",
       "18. 2\n",
       "19. 3\n",
       "20. 3\n",
       "21. 3\n",
       "22. 3\n",
       "23. 3\n",
       "24. 3\n",
       "25. 3\n",
       "26. 3\n",
       "27. 3\n",
       "\n",
       "\n"
      ],
      "text/plain": [
       " [1] 1 1 1 1 1 1 1 1 1 2 2 2 2 2 2 2 2 2 3 3 3 3 3 3 3 3 3"
      ]
     },
     "metadata": {},
     "output_type": "display_data"
    },
    {
     "data": {
      "text/html": [
       "6.81041566951567"
      ],
      "text/latex": [
       "6.81041566951567"
      ],
      "text/markdown": [
       "6.81041566951567"
      ],
      "text/plain": [
       "[1] 6.810416"
      ]
     },
     "metadata": {},
     "output_type": "display_data"
    },
    {
     "data": {
      "text/html": [
       "0.692307692307692"
      ],
      "text/latex": [
       "0.692307692307692"
      ],
      "text/markdown": [
       "0.692307692307692"
      ],
      "text/plain": [
       "[1] 0.6923077"
      ]
     },
     "metadata": {},
     "output_type": "display_data"
    },
    {
     "data": {
      "text/plain": [
       "\n",
       "\tOne-way analysis of means (not assuming equal variances)\n",
       "\n",
       "data:  mydata and group\n",
       "F = 6.2966e-06, num df = 2.000, denom df = 15.999, p-value = 1\n"
      ]
     },
     "metadata": {},
     "output_type": "display_data"
    }
   ],
   "source": [
    "#ANOVA 분석(비교하고자 하는 집단이 3개 이상인 경우)\n",
    "#귀무가설 : 3개의 데이터의 평균이 같다\n",
    "#대립가설 : 3개의 데이터의 평균이 다르다.\n",
    "xx<- 1:9\n",
    "yy<- c(1.09,2.12,2.92,4.06,4.9,6.08,7.01,7.92,8.94)\n",
    "zz<- c(1.1,1.96,2.98,4.09,4.92,6.1,6.88,7.97,9.01)\n",
    "mydata<-c(xx,yy,zz)\n",
    "mydata\n",
    "group<-c(rep(1,9),rep(2,9),rep(3,9))\n",
    "group\n",
    "\n",
    "var(mydata)\n",
    "var(group)\n",
    "\n",
    "# var=F 등분산 가정(분산이 같다는 가정)을 하지 않음\n",
    "oneway.test(mydata ~ group, var=F)\n",
    "# p-value가 0.05보다 크므로 귀무가설 채택, 대립가설 기각\n",
    "# 결론: 평균이 같다."
   ]
  },
  {
   "cell_type": "code",
   "execution_count": null,
   "metadata": {},
   "outputs": [],
   "source": []
  },
  {
   "cell_type": "code",
   "execution_count": null,
   "metadata": {},
   "outputs": [],
   "source": []
  },
  {
   "cell_type": "code",
   "execution_count": null,
   "metadata": {},
   "outputs": [],
   "source": []
  },
  {
   "cell_type": "code",
   "execution_count": null,
   "metadata": {},
   "outputs": [],
   "source": []
  },
  {
   "cell_type": "code",
   "execution_count": null,
   "metadata": {},
   "outputs": [],
   "source": []
  }
 ],
 "metadata": {
  "kernelspec": {
   "display_name": "R",
   "language": "R",
   "name": "ir"
  },
  "language_info": {
   "codemirror_mode": "r",
   "file_extension": ".r",
   "mimetype": "text/x-r-source",
   "name": "R",
   "pygments_lexer": "r",
   "version": "3.6.1"
  }
 },
 "nbformat": 4,
 "nbformat_minor": 2
}
