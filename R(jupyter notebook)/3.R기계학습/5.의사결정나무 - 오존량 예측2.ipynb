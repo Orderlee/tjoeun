{
 "cells": [
  {
   "cell_type": "code",
   "execution_count": 1,
   "metadata": {},
   "outputs": [
    {
     "data": {
      "text/html": [
       "<table>\n",
       "<thead><tr><th scope=col>Ozone</th><th scope=col>Solar.R</th><th scope=col>Solar.R2</th><th scope=col>Wind</th><th scope=col>Temp</th><th scope=col>Month</th><th scope=col>Day</th><th scope=col>Ozone2</th><th scope=col>Result</th></tr></thead>\n",
       "<tbody>\n",
       "\t<tr><td> 41      </td><td>190      </td><td>190.0000 </td><td> 7.4     </td><td>67       </td><td>5        </td><td> 1       </td><td> 41.00000</td><td>0        </td></tr>\n",
       "\t<tr><td> 36      </td><td>118      </td><td>118.0000 </td><td> 8.0     </td><td>72       </td><td>5        </td><td> 2       </td><td> 36.00000</td><td>0        </td></tr>\n",
       "\t<tr><td> 12      </td><td>149      </td><td>149.0000 </td><td>12.6     </td><td>74       </td><td>5        </td><td> 3       </td><td> 12.00000</td><td>0        </td></tr>\n",
       "\t<tr><td> 18      </td><td>313      </td><td>313.0000 </td><td>11.5     </td><td>62       </td><td>5        </td><td> 4       </td><td> 18.00000</td><td>0        </td></tr>\n",
       "\t<tr><td> NA      </td><td> NA      </td><td>185.9315 </td><td>14.3     </td><td>56       </td><td>5        </td><td> 5       </td><td> 42.12931</td><td>0        </td></tr>\n",
       "\t<tr><td> 28      </td><td> NA      </td><td>185.9315 </td><td>14.9     </td><td>66       </td><td>5        </td><td> 6       </td><td> 28.00000</td><td>0        </td></tr>\n",
       "\t<tr><td> 23      </td><td>299      </td><td>299.0000 </td><td> 8.6     </td><td>65       </td><td>5        </td><td> 7       </td><td> 23.00000</td><td>0        </td></tr>\n",
       "\t<tr><td> 19      </td><td> 99      </td><td> 99.0000 </td><td>13.8     </td><td>59       </td><td>5        </td><td> 8       </td><td> 19.00000</td><td>0        </td></tr>\n",
       "\t<tr><td>  8      </td><td> 19      </td><td> 19.0000 </td><td>20.1     </td><td>61       </td><td>5        </td><td> 9       </td><td>  8.00000</td><td>0        </td></tr>\n",
       "\t<tr><td> NA      </td><td>194      </td><td>194.0000 </td><td> 8.6     </td><td>69       </td><td>5        </td><td>10       </td><td> 42.12931</td><td>0        </td></tr>\n",
       "\t<tr><td>  7      </td><td> NA      </td><td>185.9315 </td><td> 6.9     </td><td>74       </td><td>5        </td><td>11       </td><td>  7.00000</td><td>0        </td></tr>\n",
       "\t<tr><td> 16      </td><td>256      </td><td>256.0000 </td><td> 9.7     </td><td>69       </td><td>5        </td><td>12       </td><td> 16.00000</td><td>0        </td></tr>\n",
       "\t<tr><td> 11      </td><td>290      </td><td>290.0000 </td><td> 9.2     </td><td>66       </td><td>5        </td><td>13       </td><td> 11.00000</td><td>0        </td></tr>\n",
       "\t<tr><td> 14      </td><td>274      </td><td>274.0000 </td><td>10.9     </td><td>68       </td><td>5        </td><td>14       </td><td> 14.00000</td><td>0        </td></tr>\n",
       "\t<tr><td> 18      </td><td> 65      </td><td> 65.0000 </td><td>13.2     </td><td>58       </td><td>5        </td><td>15       </td><td> 18.00000</td><td>0        </td></tr>\n",
       "\t<tr><td> 14      </td><td>334      </td><td>334.0000 </td><td>11.5     </td><td>64       </td><td>5        </td><td>16       </td><td> 14.00000</td><td>0        </td></tr>\n",
       "\t<tr><td> 34      </td><td>307      </td><td>307.0000 </td><td>12.0     </td><td>66       </td><td>5        </td><td>17       </td><td> 34.00000</td><td>0        </td></tr>\n",
       "\t<tr><td>  6      </td><td> 78      </td><td> 78.0000 </td><td>18.4     </td><td>57       </td><td>5        </td><td>18       </td><td>  6.00000</td><td>0        </td></tr>\n",
       "\t<tr><td> 30      </td><td>322      </td><td>322.0000 </td><td>11.5     </td><td>68       </td><td>5        </td><td>19       </td><td> 30.00000</td><td>0        </td></tr>\n",
       "\t<tr><td> 11      </td><td> 44      </td><td> 44.0000 </td><td> 9.7     </td><td>62       </td><td>5        </td><td>20       </td><td> 11.00000</td><td>0        </td></tr>\n",
       "\t<tr><td>  1      </td><td>  8      </td><td>  8.0000 </td><td> 9.7     </td><td>59       </td><td>5        </td><td>21       </td><td>  1.00000</td><td>0        </td></tr>\n",
       "\t<tr><td> 11      </td><td>320      </td><td>320.0000 </td><td>16.6     </td><td>73       </td><td>5        </td><td>22       </td><td> 11.00000</td><td>0        </td></tr>\n",
       "\t<tr><td>  4      </td><td> 25      </td><td> 25.0000 </td><td> 9.7     </td><td>61       </td><td>5        </td><td>23       </td><td>  4.00000</td><td>0        </td></tr>\n",
       "\t<tr><td> 32      </td><td> 92      </td><td> 92.0000 </td><td>12.0     </td><td>61       </td><td>5        </td><td>24       </td><td> 32.00000</td><td>0        </td></tr>\n",
       "\t<tr><td> NA      </td><td> 66      </td><td> 66.0000 </td><td>16.6     </td><td>57       </td><td>5        </td><td>25       </td><td> 42.12931</td><td>0        </td></tr>\n",
       "\t<tr><td> NA      </td><td>266      </td><td>266.0000 </td><td>14.9     </td><td>58       </td><td>5        </td><td>26       </td><td> 42.12931</td><td>0        </td></tr>\n",
       "\t<tr><td> NA      </td><td> NA      </td><td>185.9315 </td><td> 8.0     </td><td>57       </td><td>5        </td><td>27       </td><td> 42.12931</td><td>0        </td></tr>\n",
       "\t<tr><td> 23      </td><td> 13      </td><td> 13.0000 </td><td>12.0     </td><td>67       </td><td>5        </td><td>28       </td><td> 23.00000</td><td>0        </td></tr>\n",
       "\t<tr><td> 45      </td><td>252      </td><td>252.0000 </td><td>14.9     </td><td>81       </td><td>5        </td><td>29       </td><td> 45.00000</td><td>1        </td></tr>\n",
       "\t<tr><td>115      </td><td>223      </td><td>223.0000 </td><td> 5.7     </td><td>79       </td><td>5        </td><td>30       </td><td>115.00000</td><td>1        </td></tr>\n",
       "\t<tr><td>...</td><td>...</td><td>...</td><td>...</td><td>...</td><td>...</td><td>...</td><td>...</td><td>...</td></tr>\n",
       "\t<tr><td>96      </td><td>167     </td><td>167     </td><td> 6.9    </td><td>91      </td><td>9       </td><td> 1      </td><td>96.00000</td><td>1       </td></tr>\n",
       "\t<tr><td>78      </td><td>197     </td><td>197     </td><td> 5.1    </td><td>92      </td><td>9       </td><td> 2      </td><td>78.00000</td><td>1       </td></tr>\n",
       "\t<tr><td>73      </td><td>183     </td><td>183     </td><td> 2.8    </td><td>93      </td><td>9       </td><td> 3      </td><td>73.00000</td><td>1       </td></tr>\n",
       "\t<tr><td>91      </td><td>189     </td><td>189     </td><td> 4.6    </td><td>93      </td><td>9       </td><td> 4      </td><td>91.00000</td><td>1       </td></tr>\n",
       "\t<tr><td>47      </td><td> 95     </td><td> 95     </td><td> 7.4    </td><td>87      </td><td>9       </td><td> 5      </td><td>47.00000</td><td>1       </td></tr>\n",
       "\t<tr><td>32      </td><td> 92     </td><td> 92     </td><td>15.5    </td><td>84      </td><td>9       </td><td> 6      </td><td>32.00000</td><td>0       </td></tr>\n",
       "\t<tr><td>20      </td><td>252     </td><td>252     </td><td>10.9    </td><td>80      </td><td>9       </td><td> 7      </td><td>20.00000</td><td>0       </td></tr>\n",
       "\t<tr><td>23      </td><td>220     </td><td>220     </td><td>10.3    </td><td>78      </td><td>9       </td><td> 8      </td><td>23.00000</td><td>0       </td></tr>\n",
       "\t<tr><td>21      </td><td>230     </td><td>230     </td><td>10.9    </td><td>75      </td><td>9       </td><td> 9      </td><td>21.00000</td><td>0       </td></tr>\n",
       "\t<tr><td>24      </td><td>259     </td><td>259     </td><td> 9.7    </td><td>73      </td><td>9       </td><td>10      </td><td>24.00000</td><td>0       </td></tr>\n",
       "\t<tr><td>44      </td><td>236     </td><td>236     </td><td>14.9    </td><td>81      </td><td>9       </td><td>11      </td><td>44.00000</td><td>1       </td></tr>\n",
       "\t<tr><td>21      </td><td>259     </td><td>259     </td><td>15.5    </td><td>76      </td><td>9       </td><td>12      </td><td>21.00000</td><td>0       </td></tr>\n",
       "\t<tr><td>28      </td><td>238     </td><td>238     </td><td> 6.3    </td><td>77      </td><td>9       </td><td>13      </td><td>28.00000</td><td>0       </td></tr>\n",
       "\t<tr><td> 9      </td><td> 24     </td><td> 24     </td><td>10.9    </td><td>71      </td><td>9       </td><td>14      </td><td> 9.00000</td><td>0       </td></tr>\n",
       "\t<tr><td>13      </td><td>112     </td><td>112     </td><td>11.5    </td><td>71      </td><td>9       </td><td>15      </td><td>13.00000</td><td>0       </td></tr>\n",
       "\t<tr><td>46      </td><td>237     </td><td>237     </td><td> 6.9    </td><td>78      </td><td>9       </td><td>16      </td><td>46.00000</td><td>1       </td></tr>\n",
       "\t<tr><td>18      </td><td>224     </td><td>224     </td><td>13.8    </td><td>67      </td><td>9       </td><td>17      </td><td>18.00000</td><td>0       </td></tr>\n",
       "\t<tr><td>13      </td><td> 27     </td><td> 27     </td><td>10.3    </td><td>76      </td><td>9       </td><td>18      </td><td>13.00000</td><td>0       </td></tr>\n",
       "\t<tr><td>24      </td><td>238     </td><td>238     </td><td>10.3    </td><td>68      </td><td>9       </td><td>19      </td><td>24.00000</td><td>0       </td></tr>\n",
       "\t<tr><td>16      </td><td>201     </td><td>201     </td><td> 8.0    </td><td>82      </td><td>9       </td><td>20      </td><td>16.00000</td><td>0       </td></tr>\n",
       "\t<tr><td>13      </td><td>238     </td><td>238     </td><td>12.6    </td><td>64      </td><td>9       </td><td>21      </td><td>13.00000</td><td>0       </td></tr>\n",
       "\t<tr><td>23      </td><td> 14     </td><td> 14     </td><td> 9.2    </td><td>71      </td><td>9       </td><td>22      </td><td>23.00000</td><td>0       </td></tr>\n",
       "\t<tr><td>36      </td><td>139     </td><td>139     </td><td>10.3    </td><td>81      </td><td>9       </td><td>23      </td><td>36.00000</td><td>0       </td></tr>\n",
       "\t<tr><td> 7      </td><td> 49     </td><td> 49     </td><td>10.3    </td><td>69      </td><td>9       </td><td>24      </td><td> 7.00000</td><td>0       </td></tr>\n",
       "\t<tr><td>14      </td><td> 20     </td><td> 20     </td><td>16.6    </td><td>63      </td><td>9       </td><td>25      </td><td>14.00000</td><td>0       </td></tr>\n",
       "\t<tr><td>30      </td><td>193     </td><td>193     </td><td> 6.9    </td><td>70      </td><td>9       </td><td>26      </td><td>30.00000</td><td>0       </td></tr>\n",
       "\t<tr><td>NA      </td><td>145     </td><td>145     </td><td>13.2    </td><td>77      </td><td>9       </td><td>27      </td><td>42.12931</td><td>0       </td></tr>\n",
       "\t<tr><td>14      </td><td>191     </td><td>191     </td><td>14.3    </td><td>75      </td><td>9       </td><td>28      </td><td>14.00000</td><td>0       </td></tr>\n",
       "\t<tr><td>18      </td><td>131     </td><td>131     </td><td> 8.0    </td><td>76      </td><td>9       </td><td>29      </td><td>18.00000</td><td>0       </td></tr>\n",
       "\t<tr><td>20      </td><td>223     </td><td>223     </td><td>11.5    </td><td>68      </td><td>9       </td><td>30      </td><td>20.00000</td><td>0       </td></tr>\n",
       "</tbody>\n",
       "</table>\n"
      ],
      "text/latex": [
       "\\begin{tabular}{r|lllllllll}\n",
       " Ozone & Solar.R & Solar.R2 & Wind & Temp & Month & Day & Ozone2 & Result\\\\\n",
       "\\hline\n",
       "\t  41       & 190       & 190.0000  &  7.4      & 67        & 5         &  1        &  41.00000 & 0        \\\\\n",
       "\t  36       & 118       & 118.0000  &  8.0      & 72        & 5         &  2        &  36.00000 & 0        \\\\\n",
       "\t  12       & 149       & 149.0000  & 12.6      & 74        & 5         &  3        &  12.00000 & 0        \\\\\n",
       "\t  18       & 313       & 313.0000  & 11.5      & 62        & 5         &  4        &  18.00000 & 0        \\\\\n",
       "\t  NA       &  NA       & 185.9315  & 14.3      & 56        & 5         &  5        &  42.12931 & 0        \\\\\n",
       "\t  28       &  NA       & 185.9315  & 14.9      & 66        & 5         &  6        &  28.00000 & 0        \\\\\n",
       "\t  23       & 299       & 299.0000  &  8.6      & 65        & 5         &  7        &  23.00000 & 0        \\\\\n",
       "\t  19       &  99       &  99.0000  & 13.8      & 59        & 5         &  8        &  19.00000 & 0        \\\\\n",
       "\t   8       &  19       &  19.0000  & 20.1      & 61        & 5         &  9        &   8.00000 & 0        \\\\\n",
       "\t  NA       & 194       & 194.0000  &  8.6      & 69        & 5         & 10        &  42.12931 & 0        \\\\\n",
       "\t   7       &  NA       & 185.9315  &  6.9      & 74        & 5         & 11        &   7.00000 & 0        \\\\\n",
       "\t  16       & 256       & 256.0000  &  9.7      & 69        & 5         & 12        &  16.00000 & 0        \\\\\n",
       "\t  11       & 290       & 290.0000  &  9.2      & 66        & 5         & 13        &  11.00000 & 0        \\\\\n",
       "\t  14       & 274       & 274.0000  & 10.9      & 68        & 5         & 14        &  14.00000 & 0        \\\\\n",
       "\t  18       &  65       &  65.0000  & 13.2      & 58        & 5         & 15        &  18.00000 & 0        \\\\\n",
       "\t  14       & 334       & 334.0000  & 11.5      & 64        & 5         & 16        &  14.00000 & 0        \\\\\n",
       "\t  34       & 307       & 307.0000  & 12.0      & 66        & 5         & 17        &  34.00000 & 0        \\\\\n",
       "\t   6       &  78       &  78.0000  & 18.4      & 57        & 5         & 18        &   6.00000 & 0        \\\\\n",
       "\t  30       & 322       & 322.0000  & 11.5      & 68        & 5         & 19        &  30.00000 & 0        \\\\\n",
       "\t  11       &  44       &  44.0000  &  9.7      & 62        & 5         & 20        &  11.00000 & 0        \\\\\n",
       "\t   1       &   8       &   8.0000  &  9.7      & 59        & 5         & 21        &   1.00000 & 0        \\\\\n",
       "\t  11       & 320       & 320.0000  & 16.6      & 73        & 5         & 22        &  11.00000 & 0        \\\\\n",
       "\t   4       &  25       &  25.0000  &  9.7      & 61        & 5         & 23        &   4.00000 & 0        \\\\\n",
       "\t  32       &  92       &  92.0000  & 12.0      & 61        & 5         & 24        &  32.00000 & 0        \\\\\n",
       "\t  NA       &  66       &  66.0000  & 16.6      & 57        & 5         & 25        &  42.12931 & 0        \\\\\n",
       "\t  NA       & 266       & 266.0000  & 14.9      & 58        & 5         & 26        &  42.12931 & 0        \\\\\n",
       "\t  NA       &  NA       & 185.9315  &  8.0      & 57        & 5         & 27        &  42.12931 & 0        \\\\\n",
       "\t  23       &  13       &  13.0000  & 12.0      & 67        & 5         & 28        &  23.00000 & 0        \\\\\n",
       "\t  45       & 252       & 252.0000  & 14.9      & 81        & 5         & 29        &  45.00000 & 1        \\\\\n",
       "\t 115       & 223       & 223.0000  &  5.7      & 79        & 5         & 30        & 115.00000 & 1        \\\\\n",
       "\t ... & ... & ... & ... & ... & ... & ... & ... & ...\\\\\n",
       "\t 96       & 167      & 167      &  6.9     & 91       & 9        &  1       & 96.00000 & 1       \\\\\n",
       "\t 78       & 197      & 197      &  5.1     & 92       & 9        &  2       & 78.00000 & 1       \\\\\n",
       "\t 73       & 183      & 183      &  2.8     & 93       & 9        &  3       & 73.00000 & 1       \\\\\n",
       "\t 91       & 189      & 189      &  4.6     & 93       & 9        &  4       & 91.00000 & 1       \\\\\n",
       "\t 47       &  95      &  95      &  7.4     & 87       & 9        &  5       & 47.00000 & 1       \\\\\n",
       "\t 32       &  92      &  92      & 15.5     & 84       & 9        &  6       & 32.00000 & 0       \\\\\n",
       "\t 20       & 252      & 252      & 10.9     & 80       & 9        &  7       & 20.00000 & 0       \\\\\n",
       "\t 23       & 220      & 220      & 10.3     & 78       & 9        &  8       & 23.00000 & 0       \\\\\n",
       "\t 21       & 230      & 230      & 10.9     & 75       & 9        &  9       & 21.00000 & 0       \\\\\n",
       "\t 24       & 259      & 259      &  9.7     & 73       & 9        & 10       & 24.00000 & 0       \\\\\n",
       "\t 44       & 236      & 236      & 14.9     & 81       & 9        & 11       & 44.00000 & 1       \\\\\n",
       "\t 21       & 259      & 259      & 15.5     & 76       & 9        & 12       & 21.00000 & 0       \\\\\n",
       "\t 28       & 238      & 238      &  6.3     & 77       & 9        & 13       & 28.00000 & 0       \\\\\n",
       "\t  9       &  24      &  24      & 10.9     & 71       & 9        & 14       &  9.00000 & 0       \\\\\n",
       "\t 13       & 112      & 112      & 11.5     & 71       & 9        & 15       & 13.00000 & 0       \\\\\n",
       "\t 46       & 237      & 237      &  6.9     & 78       & 9        & 16       & 46.00000 & 1       \\\\\n",
       "\t 18       & 224      & 224      & 13.8     & 67       & 9        & 17       & 18.00000 & 0       \\\\\n",
       "\t 13       &  27      &  27      & 10.3     & 76       & 9        & 18       & 13.00000 & 0       \\\\\n",
       "\t 24       & 238      & 238      & 10.3     & 68       & 9        & 19       & 24.00000 & 0       \\\\\n",
       "\t 16       & 201      & 201      &  8.0     & 82       & 9        & 20       & 16.00000 & 0       \\\\\n",
       "\t 13       & 238      & 238      & 12.6     & 64       & 9        & 21       & 13.00000 & 0       \\\\\n",
       "\t 23       &  14      &  14      &  9.2     & 71       & 9        & 22       & 23.00000 & 0       \\\\\n",
       "\t 36       & 139      & 139      & 10.3     & 81       & 9        & 23       & 36.00000 & 0       \\\\\n",
       "\t  7       &  49      &  49      & 10.3     & 69       & 9        & 24       &  7.00000 & 0       \\\\\n",
       "\t 14       &  20      &  20      & 16.6     & 63       & 9        & 25       & 14.00000 & 0       \\\\\n",
       "\t 30       & 193      & 193      &  6.9     & 70       & 9        & 26       & 30.00000 & 0       \\\\\n",
       "\t NA       & 145      & 145      & 13.2     & 77       & 9        & 27       & 42.12931 & 0       \\\\\n",
       "\t 14       & 191      & 191      & 14.3     & 75       & 9        & 28       & 14.00000 & 0       \\\\\n",
       "\t 18       & 131      & 131      &  8.0     & 76       & 9        & 29       & 18.00000 & 0       \\\\\n",
       "\t 20       & 223      & 223      & 11.5     & 68       & 9        & 30       & 20.00000 & 0       \\\\\n",
       "\\end{tabular}\n"
      ],
      "text/markdown": [
       "\n",
       "| Ozone | Solar.R | Solar.R2 | Wind | Temp | Month | Day | Ozone2 | Result |\n",
       "|---|---|---|---|---|---|---|---|---|\n",
       "|  41       | 190       | 190.0000  |  7.4      | 67        | 5         |  1        |  41.00000 | 0         |\n",
       "|  36       | 118       | 118.0000  |  8.0      | 72        | 5         |  2        |  36.00000 | 0         |\n",
       "|  12       | 149       | 149.0000  | 12.6      | 74        | 5         |  3        |  12.00000 | 0         |\n",
       "|  18       | 313       | 313.0000  | 11.5      | 62        | 5         |  4        |  18.00000 | 0         |\n",
       "|  NA       |  NA       | 185.9315  | 14.3      | 56        | 5         |  5        |  42.12931 | 0         |\n",
       "|  28       |  NA       | 185.9315  | 14.9      | 66        | 5         |  6        |  28.00000 | 0         |\n",
       "|  23       | 299       | 299.0000  |  8.6      | 65        | 5         |  7        |  23.00000 | 0         |\n",
       "|  19       |  99       |  99.0000  | 13.8      | 59        | 5         |  8        |  19.00000 | 0         |\n",
       "|   8       |  19       |  19.0000  | 20.1      | 61        | 5         |  9        |   8.00000 | 0         |\n",
       "|  NA       | 194       | 194.0000  |  8.6      | 69        | 5         | 10        |  42.12931 | 0         |\n",
       "|   7       |  NA       | 185.9315  |  6.9      | 74        | 5         | 11        |   7.00000 | 0         |\n",
       "|  16       | 256       | 256.0000  |  9.7      | 69        | 5         | 12        |  16.00000 | 0         |\n",
       "|  11       | 290       | 290.0000  |  9.2      | 66        | 5         | 13        |  11.00000 | 0         |\n",
       "|  14       | 274       | 274.0000  | 10.9      | 68        | 5         | 14        |  14.00000 | 0         |\n",
       "|  18       |  65       |  65.0000  | 13.2      | 58        | 5         | 15        |  18.00000 | 0         |\n",
       "|  14       | 334       | 334.0000  | 11.5      | 64        | 5         | 16        |  14.00000 | 0         |\n",
       "|  34       | 307       | 307.0000  | 12.0      | 66        | 5         | 17        |  34.00000 | 0         |\n",
       "|   6       |  78       |  78.0000  | 18.4      | 57        | 5         | 18        |   6.00000 | 0         |\n",
       "|  30       | 322       | 322.0000  | 11.5      | 68        | 5         | 19        |  30.00000 | 0         |\n",
       "|  11       |  44       |  44.0000  |  9.7      | 62        | 5         | 20        |  11.00000 | 0         |\n",
       "|   1       |   8       |   8.0000  |  9.7      | 59        | 5         | 21        |   1.00000 | 0         |\n",
       "|  11       | 320       | 320.0000  | 16.6      | 73        | 5         | 22        |  11.00000 | 0         |\n",
       "|   4       |  25       |  25.0000  |  9.7      | 61        | 5         | 23        |   4.00000 | 0         |\n",
       "|  32       |  92       |  92.0000  | 12.0      | 61        | 5         | 24        |  32.00000 | 0         |\n",
       "|  NA       |  66       |  66.0000  | 16.6      | 57        | 5         | 25        |  42.12931 | 0         |\n",
       "|  NA       | 266       | 266.0000  | 14.9      | 58        | 5         | 26        |  42.12931 | 0         |\n",
       "|  NA       |  NA       | 185.9315  |  8.0      | 57        | 5         | 27        |  42.12931 | 0         |\n",
       "|  23       |  13       |  13.0000  | 12.0      | 67        | 5         | 28        |  23.00000 | 0         |\n",
       "|  45       | 252       | 252.0000  | 14.9      | 81        | 5         | 29        |  45.00000 | 1         |\n",
       "| 115       | 223       | 223.0000  |  5.7      | 79        | 5         | 30        | 115.00000 | 1         |\n",
       "| ... | ... | ... | ... | ... | ... | ... | ... | ... |\n",
       "| 96       | 167      | 167      |  6.9     | 91       | 9        |  1       | 96.00000 | 1        |\n",
       "| 78       | 197      | 197      |  5.1     | 92       | 9        |  2       | 78.00000 | 1        |\n",
       "| 73       | 183      | 183      |  2.8     | 93       | 9        |  3       | 73.00000 | 1        |\n",
       "| 91       | 189      | 189      |  4.6     | 93       | 9        |  4       | 91.00000 | 1        |\n",
       "| 47       |  95      |  95      |  7.4     | 87       | 9        |  5       | 47.00000 | 1        |\n",
       "| 32       |  92      |  92      | 15.5     | 84       | 9        |  6       | 32.00000 | 0        |\n",
       "| 20       | 252      | 252      | 10.9     | 80       | 9        |  7       | 20.00000 | 0        |\n",
       "| 23       | 220      | 220      | 10.3     | 78       | 9        |  8       | 23.00000 | 0        |\n",
       "| 21       | 230      | 230      | 10.9     | 75       | 9        |  9       | 21.00000 | 0        |\n",
       "| 24       | 259      | 259      |  9.7     | 73       | 9        | 10       | 24.00000 | 0        |\n",
       "| 44       | 236      | 236      | 14.9     | 81       | 9        | 11       | 44.00000 | 1        |\n",
       "| 21       | 259      | 259      | 15.5     | 76       | 9        | 12       | 21.00000 | 0        |\n",
       "| 28       | 238      | 238      |  6.3     | 77       | 9        | 13       | 28.00000 | 0        |\n",
       "|  9       |  24      |  24      | 10.9     | 71       | 9        | 14       |  9.00000 | 0        |\n",
       "| 13       | 112      | 112      | 11.5     | 71       | 9        | 15       | 13.00000 | 0        |\n",
       "| 46       | 237      | 237      |  6.9     | 78       | 9        | 16       | 46.00000 | 1        |\n",
       "| 18       | 224      | 224      | 13.8     | 67       | 9        | 17       | 18.00000 | 0        |\n",
       "| 13       |  27      |  27      | 10.3     | 76       | 9        | 18       | 13.00000 | 0        |\n",
       "| 24       | 238      | 238      | 10.3     | 68       | 9        | 19       | 24.00000 | 0        |\n",
       "| 16       | 201      | 201      |  8.0     | 82       | 9        | 20       | 16.00000 | 0        |\n",
       "| 13       | 238      | 238      | 12.6     | 64       | 9        | 21       | 13.00000 | 0        |\n",
       "| 23       |  14      |  14      |  9.2     | 71       | 9        | 22       | 23.00000 | 0        |\n",
       "| 36       | 139      | 139      | 10.3     | 81       | 9        | 23       | 36.00000 | 0        |\n",
       "|  7       |  49      |  49      | 10.3     | 69       | 9        | 24       |  7.00000 | 0        |\n",
       "| 14       |  20      |  20      | 16.6     | 63       | 9        | 25       | 14.00000 | 0        |\n",
       "| 30       | 193      | 193      |  6.9     | 70       | 9        | 26       | 30.00000 | 0        |\n",
       "| NA       | 145      | 145      | 13.2     | 77       | 9        | 27       | 42.12931 | 0        |\n",
       "| 14       | 191      | 191      | 14.3     | 75       | 9        | 28       | 14.00000 | 0        |\n",
       "| 18       | 131      | 131      |  8.0     | 76       | 9        | 29       | 18.00000 | 0        |\n",
       "| 20       | 223      | 223      | 11.5     | 68       | 9        | 30       | 20.00000 | 0        |\n",
       "\n"
      ],
      "text/plain": [
       "    Ozone Solar.R Solar.R2 Wind Temp Month Day Ozone2    Result\n",
       "1    41   190     190.0000  7.4 67   5      1   41.00000 0     \n",
       "2    36   118     118.0000  8.0 72   5      2   36.00000 0     \n",
       "3    12   149     149.0000 12.6 74   5      3   12.00000 0     \n",
       "4    18   313     313.0000 11.5 62   5      4   18.00000 0     \n",
       "5    NA    NA     185.9315 14.3 56   5      5   42.12931 0     \n",
       "6    28    NA     185.9315 14.9 66   5      6   28.00000 0     \n",
       "7    23   299     299.0000  8.6 65   5      7   23.00000 0     \n",
       "8    19    99      99.0000 13.8 59   5      8   19.00000 0     \n",
       "9     8    19      19.0000 20.1 61   5      9    8.00000 0     \n",
       "10   NA   194     194.0000  8.6 69   5     10   42.12931 0     \n",
       "11    7    NA     185.9315  6.9 74   5     11    7.00000 0     \n",
       "12   16   256     256.0000  9.7 69   5     12   16.00000 0     \n",
       "13   11   290     290.0000  9.2 66   5     13   11.00000 0     \n",
       "14   14   274     274.0000 10.9 68   5     14   14.00000 0     \n",
       "15   18    65      65.0000 13.2 58   5     15   18.00000 0     \n",
       "16   14   334     334.0000 11.5 64   5     16   14.00000 0     \n",
       "17   34   307     307.0000 12.0 66   5     17   34.00000 0     \n",
       "18    6    78      78.0000 18.4 57   5     18    6.00000 0     \n",
       "19   30   322     322.0000 11.5 68   5     19   30.00000 0     \n",
       "20   11    44      44.0000  9.7 62   5     20   11.00000 0     \n",
       "21    1     8       8.0000  9.7 59   5     21    1.00000 0     \n",
       "22   11   320     320.0000 16.6 73   5     22   11.00000 0     \n",
       "23    4    25      25.0000  9.7 61   5     23    4.00000 0     \n",
       "24   32    92      92.0000 12.0 61   5     24   32.00000 0     \n",
       "25   NA    66      66.0000 16.6 57   5     25   42.12931 0     \n",
       "26   NA   266     266.0000 14.9 58   5     26   42.12931 0     \n",
       "27   NA    NA     185.9315  8.0 57   5     27   42.12931 0     \n",
       "28   23    13      13.0000 12.0 67   5     28   23.00000 0     \n",
       "29   45   252     252.0000 14.9 81   5     29   45.00000 1     \n",
       "30  115   223     223.0000  5.7 79   5     30  115.00000 1     \n",
       "... ...   ...     ...      ...  ...  ...   ... ...       ...   \n",
       "124 96    167     167       6.9 91   9      1  96.00000  1     \n",
       "125 78    197     197       5.1 92   9      2  78.00000  1     \n",
       "126 73    183     183       2.8 93   9      3  73.00000  1     \n",
       "127 91    189     189       4.6 93   9      4  91.00000  1     \n",
       "128 47     95      95       7.4 87   9      5  47.00000  1     \n",
       "129 32     92      92      15.5 84   9      6  32.00000  0     \n",
       "130 20    252     252      10.9 80   9      7  20.00000  0     \n",
       "131 23    220     220      10.3 78   9      8  23.00000  0     \n",
       "132 21    230     230      10.9 75   9      9  21.00000  0     \n",
       "133 24    259     259       9.7 73   9     10  24.00000  0     \n",
       "134 44    236     236      14.9 81   9     11  44.00000  1     \n",
       "135 21    259     259      15.5 76   9     12  21.00000  0     \n",
       "136 28    238     238       6.3 77   9     13  28.00000  0     \n",
       "137  9     24      24      10.9 71   9     14   9.00000  0     \n",
       "138 13    112     112      11.5 71   9     15  13.00000  0     \n",
       "139 46    237     237       6.9 78   9     16  46.00000  1     \n",
       "140 18    224     224      13.8 67   9     17  18.00000  0     \n",
       "141 13     27      27      10.3 76   9     18  13.00000  0     \n",
       "142 24    238     238      10.3 68   9     19  24.00000  0     \n",
       "143 16    201     201       8.0 82   9     20  16.00000  0     \n",
       "144 13    238     238      12.6 64   9     21  13.00000  0     \n",
       "145 23     14      14       9.2 71   9     22  23.00000  0     \n",
       "146 36    139     139      10.3 81   9     23  36.00000  0     \n",
       "147  7     49      49      10.3 69   9     24   7.00000  0     \n",
       "148 14     20      20      16.6 63   9     25  14.00000  0     \n",
       "149 30    193     193       6.9 70   9     26  30.00000  0     \n",
       "150 NA    145     145      13.2 77   9     27  42.12931  0     \n",
       "151 14    191     191      14.3 75   9     28  14.00000  0     \n",
       "152 18    131     131       8.0 76   9     29  18.00000  0     \n",
       "153 20    223     223      11.5 68   9     30  20.00000  0     "
      ]
     },
     "metadata": {},
     "output_type": "display_data"
    }
   ],
   "source": [
    "df<-read.csv('d:/data/ozone/ozone4.csv')\n",
    "df"
   ]
  },
  {
   "cell_type": "code",
   "execution_count": 2,
   "metadata": {},
   "outputs": [
    {
     "name": "stderr",
     "output_type": "stream",
     "text": [
      "Warning message:\n",
      "\"package 'dplyr' was built under R version 3.6.2\"\n",
      "Attaching package: 'dplyr'\n",
      "\n",
      "The following objects are masked from 'package:stats':\n",
      "\n",
      "    filter, lag\n",
      "\n",
      "The following objects are masked from 'package:base':\n",
      "\n",
      "    intersect, setdiff, setequal, union\n",
      "\n"
     ]
    },
    {
     "data": {
      "text/html": [
       "<table>\n",
       "<thead><tr><th scope=col>Solar.R2</th><th scope=col>Wind</th><th scope=col>Temp</th><th scope=col>Result</th></tr></thead>\n",
       "<tbody>\n",
       "\t<tr><td>190.0000</td><td> 7.4    </td><td>67      </td><td>0       </td></tr>\n",
       "\t<tr><td>118.0000</td><td> 8.0    </td><td>72      </td><td>0       </td></tr>\n",
       "\t<tr><td>149.0000</td><td>12.6    </td><td>74      </td><td>0       </td></tr>\n",
       "\t<tr><td>313.0000</td><td>11.5    </td><td>62      </td><td>0       </td></tr>\n",
       "\t<tr><td>185.9315</td><td>14.3    </td><td>56      </td><td>0       </td></tr>\n",
       "\t<tr><td>185.9315</td><td>14.9    </td><td>66      </td><td>0       </td></tr>\n",
       "</tbody>\n",
       "</table>\n"
      ],
      "text/latex": [
       "\\begin{tabular}{r|llll}\n",
       " Solar.R2 & Wind & Temp & Result\\\\\n",
       "\\hline\n",
       "\t 190.0000 &  7.4     & 67       & 0       \\\\\n",
       "\t 118.0000 &  8.0     & 72       & 0       \\\\\n",
       "\t 149.0000 & 12.6     & 74       & 0       \\\\\n",
       "\t 313.0000 & 11.5     & 62       & 0       \\\\\n",
       "\t 185.9315 & 14.3     & 56       & 0       \\\\\n",
       "\t 185.9315 & 14.9     & 66       & 0       \\\\\n",
       "\\end{tabular}\n"
      ],
      "text/markdown": [
       "\n",
       "| Solar.R2 | Wind | Temp | Result |\n",
       "|---|---|---|---|\n",
       "| 190.0000 |  7.4     | 67       | 0        |\n",
       "| 118.0000 |  8.0     | 72       | 0        |\n",
       "| 149.0000 | 12.6     | 74       | 0        |\n",
       "| 313.0000 | 11.5     | 62       | 0        |\n",
       "| 185.9315 | 14.3     | 56       | 0        |\n",
       "| 185.9315 | 14.9     | 66       | 0        |\n",
       "\n"
      ],
      "text/plain": [
       "  Solar.R2 Wind Temp Result\n",
       "1 190.0000  7.4 67   0     \n",
       "2 118.0000  8.0 72   0     \n",
       "3 149.0000 12.6 74   0     \n",
       "4 313.0000 11.5 62   0     \n",
       "5 185.9315 14.3 56   0     \n",
       "6 185.9315 14.9 66   0     "
      ]
     },
     "metadata": {},
     "output_type": "display_data"
    }
   ],
   "source": [
    "library(dplyr)\n",
    "df<-df %>% select(-Ozone,-Ozone2,-Day,-Month,-Solar.R)\n",
    "head(df)"
   ]
  },
  {
   "cell_type": "code",
   "execution_count": 3,
   "metadata": {},
   "outputs": [
    {
     "data": {
      "text/html": [
       "<ol class=list-inline>\n",
       "\t<li>153</li>\n",
       "\t<li>4</li>\n",
       "</ol>\n"
      ],
      "text/latex": [
       "\\begin{enumerate*}\n",
       "\\item 153\n",
       "\\item 4\n",
       "\\end{enumerate*}\n"
      ],
      "text/markdown": [
       "1. 153\n",
       "2. 4\n",
       "\n",
       "\n"
      ],
      "text/plain": [
       "[1] 153   4"
      ]
     },
     "metadata": {},
     "output_type": "display_data"
    }
   ],
   "source": [
    "dim(df)"
   ]
  },
  {
   "cell_type": "code",
   "execution_count": 4,
   "metadata": {},
   "outputs": [
    {
     "data": {
      "text/plain": [
       "    Solar.R2          Wind             Temp           Result      \n",
       " Min.   :  7.0   Min.   : 1.700   Min.   :56.00   Min.   :0.0000  \n",
       " 1st Qu.:120.0   1st Qu.: 7.400   1st Qu.:72.00   1st Qu.:0.0000  \n",
       " Median :194.0   Median : 9.700   Median :79.00   Median :0.0000  \n",
       " Mean   :185.9   Mean   : 9.958   Mean   :77.88   Mean   :0.2876  \n",
       " 3rd Qu.:256.0   3rd Qu.:11.500   3rd Qu.:85.00   3rd Qu.:1.0000  \n",
       " Max.   :334.0   Max.   :20.700   Max.   :97.00   Max.   :1.0000  "
      ]
     },
     "metadata": {},
     "output_type": "display_data"
    }
   ],
   "source": [
    "summary(df)"
   ]
  },
  {
   "cell_type": "code",
   "execution_count": 5,
   "metadata": {},
   "outputs": [
    {
     "data": {
      "text/plain": [
       "\n",
       "  0   1 \n",
       "109  44 "
      ]
     },
     "metadata": {},
     "output_type": "display_data"
    },
    {
     "data": {
      "image/png": "[encoded data removed]",
      "text/plain": [
       "plot without title"
      ]
     },
     "metadata": {},
     "output_type": "display_data"
    }
   ],
   "source": [
    "(tbl<-table(df$Result))\n",
    "barplot(tbl,beside=T,legend=T,col=rainbow(2)) #카운트 플롯"
   ]
  },
  {
   "cell_type": "code",
   "execution_count": 6,
   "metadata": {
    "scrolled": true
   },
   "outputs": [
    {
     "name": "stderr",
     "output_type": "stream",
     "text": [
      "Warning message:\n",
      "\"package 'ROSE' was built under R version 3.6.2\"Loaded ROSE 0.0-3\n",
      "\n"
     ]
    },
    {
     "data": {
      "text/plain": [
       "\n",
       " 0  1 \n",
       "40 44 "
      ]
     },
     "metadata": {},
     "output_type": "display_data"
    }
   ],
   "source": [
    "library(ROSE)\n",
    "#언더샘플링\n",
    "df_samp<-ovun.sample(Result ~ . , data=df, seed=1, method='under',\n",
    "                    N=42*2)$data\n",
    "(tbl<-table(df_samp$Result))"
   ]
  },
  {
   "cell_type": "code",
   "execution_count": 7,
   "metadata": {},
   "outputs": [
    {
     "data": {
      "text/plain": [
       "\n",
       "  0   1 \n",
       "109  99 "
      ]
     },
     "metadata": {},
     "output_type": "display_data"
    }
   ],
   "source": [
    "#오버샘플링\n",
    "df_samp<-ovun.sample(Result ~ . , data=df, seed=1, method='over',\n",
    "                    N=104*2)$data\n",
    "(tbl<-table(df_samp$Result))"
   ]
  },
  {
   "cell_type": "code",
   "execution_count": 8,
   "metadata": {},
   "outputs": [
    {
     "name": "stderr",
     "output_type": "stream",
     "text": [
      "Loading required package: lattice\n",
      "Warning message:\n",
      "\"package 'lattice' was built under R version 3.6.2\"Loading required package: ggplot2\n",
      "Warning message:\n",
      "\"package 'ggplot2' was built under R version 3.6.2\""
     ]
    }
   ],
   "source": [
    "library(caret)\n",
    "set.seed(123)\n",
    "#학습용 80% 검증용 20%\n",
    "idx_train<-createDataPartition(y=df_samp$Result,p=0.8,list=F)\n",
    "train<-df_samp[idx_train,] #학습용\n",
    "X_train<-train[,-4] #독립변수\n",
    "y_train<-train[,4] #종속변수\n",
    "test<-df_samp[-idx_train,] #검증용\n",
    "X_test<-test[,-4]\n",
    "y_test<-test[,4]"
   ]
  },
  {
   "cell_type": "code",
   "execution_count": 9,
   "metadata": {},
   "outputs": [
    {
     "name": "stderr",
     "output_type": "stream",
     "text": [
      "Warning message:\n",
      "\"package 'reshape' was built under R version 3.6.2\"\n",
      "Attaching package: 'reshape'\n",
      "\n",
      "The following object is masked from 'package:dplyr':\n",
      "\n",
      "    rename\n",
      "\n",
      "Using  as id variables\n"
     ]
    },
    {
     "data": {
      "image/png": "[encoded data removed]",
      "text/plain": [
       "plot without title"
      ]
     },
     "metadata": {},
     "output_type": "display_data"
    }
   ],
   "source": [
    "library(reshape)\n",
    "meltData<-melt(X_train)\n",
    "boxplot(data=meltData,value~variable) #박스플롯\n",
    "#변수마다 단위가 달라서 같은 기준으로 비교하기가 어려움"
   ]
  },
  {
   "cell_type": "code",
   "execution_count": 11,
   "metadata": {},
   "outputs": [
    {
     "data": {
      "text/html": [
       "<table>\n",
       "<thead><tr><th scope=col>Solar.R2</th><th scope=col>Wind</th><th scope=col>Temp</th></tr></thead>\n",
       "<tbody>\n",
       "\t<tr><td>190.0000</td><td> 7.4    </td><td>67      </td></tr>\n",
       "\t<tr><td>118.0000</td><td> 8.0    </td><td>72      </td></tr>\n",
       "\t<tr><td>149.0000</td><td>12.6    </td><td>74      </td></tr>\n",
       "\t<tr><td>313.0000</td><td>11.5    </td><td>62      </td></tr>\n",
       "\t<tr><td>185.9315</td><td>14.3    </td><td>56      </td></tr>\n",
       "\t<tr><td>185.9315</td><td>14.9    </td><td>66      </td></tr>\n",
       "</tbody>\n",
       "</table>\n"
      ],
      "text/latex": [
       "\\begin{tabular}{r|lll}\n",
       " Solar.R2 & Wind & Temp\\\\\n",
       "\\hline\n",
       "\t 190.0000 &  7.4     & 67      \\\\\n",
       "\t 118.0000 &  8.0     & 72      \\\\\n",
       "\t 149.0000 & 12.6     & 74      \\\\\n",
       "\t 313.0000 & 11.5     & 62      \\\\\n",
       "\t 185.9315 & 14.3     & 56      \\\\\n",
       "\t 185.9315 & 14.9     & 66      \\\\\n",
       "\\end{tabular}\n"
      ],
      "text/markdown": [
       "\n",
       "| Solar.R2 | Wind | Temp |\n",
       "|---|---|---|\n",
       "| 190.0000 |  7.4     | 67       |\n",
       "| 118.0000 |  8.0     | 72       |\n",
       "| 149.0000 | 12.6     | 74       |\n",
       "| 313.0000 | 11.5     | 62       |\n",
       "| 185.9315 | 14.3     | 56       |\n",
       "| 185.9315 | 14.9     | 66       |\n",
       "\n"
      ],
      "text/plain": [
       "  Solar.R2 Wind Temp\n",
       "1 190.0000  7.4 67  \n",
       "2 118.0000  8.0 72  \n",
       "3 149.0000 12.6 74  \n",
       "4 313.0000 11.5 62  \n",
       "5 185.9315 14.3 56  \n",
       "6 185.9315 14.9 66  "
      ]
     },
     "metadata": {},
     "output_type": "display_data"
    }
   ],
   "source": [
    "head(X_train)"
   ]
  },
  {
   "cell_type": "code",
   "execution_count": 12,
   "metadata": {},
   "outputs": [
    {
     "data": {
      "text/html": [
       "<table>\n",
       "<thead><tr><th scope=col>Solar.R2</th><th scope=col>Wind</th><th scope=col>Temp</th><th scope=col>Result</th></tr></thead>\n",
       "<tbody>\n",
       "\t<tr><td> 0.03964114</td><td>-0.5034444 </td><td>-1.3981532 </td><td>0          </td></tr>\n",
       "\t<tr><td>-0.87378355</td><td>-0.3297352 </td><td>-0.8586625 </td><td>0          </td></tr>\n",
       "\t<tr><td>-0.48050348</td><td> 1.0020346 </td><td>-0.6428662 </td><td>0          </td></tr>\n",
       "\t<tr><td> 1.60007497</td><td> 0.6835679 </td><td>-1.9376439 </td><td>0          </td></tr>\n",
       "\t<tr><td>-0.01197362</td><td> 1.4942104 </td><td>-2.5850328 </td><td>0          </td></tr>\n",
       "\t<tr><td>-0.01197362</td><td> 1.6679195 </td><td>-1.5060514 </td><td>0          </td></tr>\n",
       "</tbody>\n",
       "</table>\n"
      ],
      "text/latex": [
       "\\begin{tabular}{r|llll}\n",
       " Solar.R2 & Wind & Temp & Result\\\\\n",
       "\\hline\n",
       "\t  0.03964114 & -0.5034444  & -1.3981532  & 0          \\\\\n",
       "\t -0.87378355 & -0.3297352  & -0.8586625  & 0          \\\\\n",
       "\t -0.48050348 &  1.0020346  & -0.6428662  & 0          \\\\\n",
       "\t  1.60007497 &  0.6835679  & -1.9376439  & 0          \\\\\n",
       "\t -0.01197362 &  1.4942104  & -2.5850328  & 0          \\\\\n",
       "\t -0.01197362 &  1.6679195  & -1.5060514  & 0          \\\\\n",
       "\\end{tabular}\n"
      ],
      "text/markdown": [
       "\n",
       "| Solar.R2 | Wind | Temp | Result |\n",
       "|---|---|---|---|\n",
       "|  0.03964114 | -0.5034444  | -1.3981532  | 0           |\n",
       "| -0.87378355 | -0.3297352  | -0.8586625  | 0           |\n",
       "| -0.48050348 |  1.0020346  | -0.6428662  | 0           |\n",
       "|  1.60007497 |  0.6835679  | -1.9376439  | 0           |\n",
       "| -0.01197362 |  1.4942104  | -2.5850328  | 0           |\n",
       "| -0.01197362 |  1.6679195  | -1.5060514  | 0           |\n",
       "\n"
      ],
      "text/plain": [
       "  Solar.R2    Wind       Temp       Result\n",
       "1  0.03964114 -0.5034444 -1.3981532 0     \n",
       "2 -0.87378355 -0.3297352 -0.8586625 0     \n",
       "3 -0.48050348  1.0020346 -0.6428662 0     \n",
       "4  1.60007497  0.6835679 -1.9376439 0     \n",
       "5 -0.01197362  1.4942104 -2.5850328 0     \n",
       "6 -0.01197362  1.6679195 -1.5060514 0     "
      ]
     },
     "metadata": {},
     "output_type": "display_data"
    },
    {
     "data": {
      "text/html": [
       "<table>\n",
       "<thead><tr><th></th><th scope=col>Solar.R2</th><th scope=col>Wind</th><th scope=col>Temp</th><th scope=col>Result</th></tr></thead>\n",
       "<tbody>\n",
       "\t<tr><th scope=row>10</th><td> 0.07564584 </td><td>-0.262392608</td><td>-1.218933   </td><td>0           </td></tr>\n",
       "\t<tr><th scope=row>12</th><td> 0.81522937 </td><td> 0.008406171</td><td>-1.218933   </td><td>0           </td></tr>\n",
       "\t<tr><th scope=row>15</th><td>-1.46316505 </td><td> 0.870038647</td><td>-2.369014   </td><td>0           </td></tr>\n",
       "\t<tr><th scope=row>18</th><td>-1.30809109 </td><td> 2.150178326</td><td>-2.473567   </td><td>0           </td></tr>\n",
       "\t<tr><th scope=row>19</th><td> 1.60252796 </td><td> 0.451531444</td><td>-1.323486   </td><td>0           </td></tr>\n",
       "\t<tr><th scope=row>28</th><td>-2.08346092 </td><td> 0.574621798</td><td>-1.428039   </td><td>0           </td></tr>\n",
       "</tbody>\n",
       "</table>\n"
      ],
      "text/latex": [
       "\\begin{tabular}{r|llll}\n",
       "  & Solar.R2 & Wind & Temp & Result\\\\\n",
       "\\hline\n",
       "\t10 &  0.07564584  & -0.262392608 & -1.218933    & 0           \\\\\n",
       "\t12 &  0.81522937  &  0.008406171 & -1.218933    & 0           \\\\\n",
       "\t15 & -1.46316505  &  0.870038647 & -2.369014    & 0           \\\\\n",
       "\t18 & -1.30809109  &  2.150178326 & -2.473567    & 0           \\\\\n",
       "\t19 &  1.60252796  &  0.451531444 & -1.323486    & 0           \\\\\n",
       "\t28 & -2.08346092  &  0.574621798 & -1.428039    & 0           \\\\\n",
       "\\end{tabular}\n"
      ],
      "text/markdown": [
       "\n",
       "| <!--/--> | Solar.R2 | Wind | Temp | Result |\n",
       "|---|---|---|---|---|\n",
       "| 10 |  0.07564584  | -0.262392608 | -1.218933    | 0            |\n",
       "| 12 |  0.81522937  |  0.008406171 | -1.218933    | 0            |\n",
       "| 15 | -1.46316505  |  0.870038647 | -2.369014    | 0            |\n",
       "| 18 | -1.30809109  |  2.150178326 | -2.473567    | 0            |\n",
       "| 19 |  1.60252796  |  0.451531444 | -1.323486    | 0            |\n",
       "| 28 | -2.08346092  |  0.574621798 | -1.428039    | 0            |\n",
       "\n"
      ],
      "text/plain": [
       "   Solar.R2    Wind         Temp      Result\n",
       "10  0.07564584 -0.262392608 -1.218933 0     \n",
       "12  0.81522937  0.008406171 -1.218933 0     \n",
       "15 -1.46316505  0.870038647 -2.369014 0     \n",
       "18 -1.30809109  2.150178326 -2.473567 0     \n",
       "19  1.60252796  0.451531444 -1.323486 0     \n",
       "28 -2.08346092  0.574621798 -1.428039 0     "
      ]
     },
     "metadata": {},
     "output_type": "display_data"
    }
   ],
   "source": [
    "# scale() 정규화 함수, 단위가 다른 변수들을 비교할 수 있도록\n",
    "# 평균, 표준편차를 비슷하게 조절하는 함수\n",
    "X_train_scaled<-scale(X_train) #데이터프레임이 행렬로 변환됨\n",
    "X_test_scaled<-scale(X_test)\n",
    "# as.data.frame(행렬) 행렬을 데이터프레임으로 변환\n",
    "X_train_scaled<-as.data.frame(X_train_scaled)\n",
    "X_test_scaled<-as.data.frame(X_test_scaled)\n",
    "# 종속변수를 연결시킴\n",
    "train_scaled<-cbind(X_train_scaled,Result=y_train)\n",
    "test_scaled<-cbind(X_test_scaled,Result=y_test)\n",
    "head(train_scaled)\n",
    "head(test_scaled)"
   ]
  },
  {
   "cell_type": "code",
   "execution_count": 13,
   "metadata": {},
   "outputs": [
    {
     "name": "stderr",
     "output_type": "stream",
     "text": [
      "Using  as id variables\n"
     ]
    },
    {
     "data": {
      "image/png": "[encoded data removed]",
      "text/plain": [
       "plot without title"
      ]
     },
     "metadata": {},
     "output_type": "display_data"
    }
   ],
   "source": [
    "#정규화 처리 후의 박스플롯\n",
    "library(reshape)\n",
    "meltData<-melt(X_train_scaled)\n",
    "boxplot(data=meltData,value~variable)"
   ]
  },
  {
   "cell_type": "code",
   "execution_count": 13,
   "metadata": {},
   "outputs": [
    {
     "name": "stderr",
     "output_type": "stream",
     "text": [
      "Installing package into 'C:/Users/tjoeun302-18/Documents/R/win-library/3.6'\n",
      "(as 'lib' is unspecified)\n",
      "also installing the dependencies 'TH.data', 'libcoin', 'matrixStats', 'multcomp', 'mvtnorm', 'modeltools', 'strucchange', 'coin', 'sandwich'\n",
      "\n"
     ]
    },
    {
     "name": "stdout",
     "output_type": "stream",
     "text": [
      "\n",
      "  There is a binary version available but the source version is later:\n",
      "        binary source needs_compilation\n",
      "mvtnorm 1.0-11 1.0-12              TRUE\n",
      "\n",
      "  Binaries will be installed\n",
      "package 'TH.data' successfully unpacked and MD5 sums checked\n",
      "package 'libcoin' successfully unpacked and MD5 sums checked\n",
      "package 'matrixStats' successfully unpacked and MD5 sums checked\n",
      "package 'multcomp' successfully unpacked and MD5 sums checked\n",
      "package 'mvtnorm' successfully unpacked and MD5 sums checked\n",
      "package 'modeltools' successfully unpacked and MD5 sums checked\n",
      "package 'strucchange' successfully unpacked and MD5 sums checked\n",
      "package 'coin' successfully unpacked and MD5 sums checked\n",
      "package 'sandwich' successfully unpacked and MD5 sums checked\n",
      "package 'party' successfully unpacked and MD5 sums checked\n",
      "\n",
      "The downloaded binary packages are in\n",
      "\tC:\\Users\\tjoeun302-18\\AppData\\Local\\Temp\\Rtmp0k9zxp\\downloaded_packages\n"
     ]
    }
   ],
   "source": [
    "#install.packages('party') #패키지 설치"
   ]
  },
  {
   "cell_type": "code",
   "execution_count": 14,
   "metadata": {},
   "outputs": [
    {
     "name": "stderr",
     "output_type": "stream",
     "text": [
      "Warning message:\n",
      "\"package 'party' was built under R version 3.6.2\"Loading required package: grid\n",
      "Loading required package: mvtnorm\n",
      "Warning message:\n",
      "\"package 'mvtnorm' was built under R version 3.6.2\"Loading required package: modeltools\n",
      "Loading required package: stats4\n",
      "Loading required package: strucchange\n",
      "Warning message:\n",
      "\"package 'strucchange' was built under R version 3.6.2\"Loading required package: zoo\n",
      "Warning message:\n",
      "\"package 'zoo' was built under R version 3.6.2\"\n",
      "Attaching package: 'zoo'\n",
      "\n",
      "The following objects are masked from 'package:base':\n",
      "\n",
      "    as.Date, as.Date.numeric\n",
      "\n",
      "Loading required package: sandwich\n",
      "Warning message:\n",
      "\"package 'sandwich' was built under R version 3.6.2\""
     ]
    },
    {
     "data": {
      "text/plain": [
       "\n",
       "\t Conditional inference tree with 3 terminal nodes\n",
       "\n",
       "Response:  Result \n",
       "Inputs:  Solar.R2, Wind, Temp \n",
       "Number of observations:  167 \n",
       "\n",
       "1) Temp <= -0.3191718; criterion = 1, statistic = 68.976\n",
       "  2)*  weights = 57 \n",
       "1) Temp > -0.3191718\n",
       "  3) Wind <= -0.5034444; criterion = 1, statistic = 19.136\n",
       "    4)*  weights = 56 \n",
       "  3) Wind > -0.5034444\n",
       "    5)*  weights = 54 "
      ]
     },
     "metadata": {},
     "output_type": "display_data"
    }
   ],
   "source": [
    "library(party) #패키지 로딩\n",
    "#의사결정나무 모형 ctree(종속변수~독립변수, data=한습용데이터셋)\n",
    "model<-ctree(Result ~. , data=train_scaled)\n",
    "model"
   ]
  },
  {
   "cell_type": "code",
   "execution_count": 15,
   "metadata": {},
   "outputs": [
    {
     "data": {
      "image/png": "[encoded data removed]",
      "text/plain": [
       "plot without title"
      ]
     },
     "metadata": {},
     "output_type": "display_data"
    }
   ],
   "source": [
    "plot(model)"
   ]
  },
  {
   "cell_type": "code",
   "execution_count": 16,
   "metadata": {},
   "outputs": [
    {
     "data": {
      "text/html": [
       "<table>\n",
       "<thead><tr><th scope=col>Result</th></tr></thead>\n",
       "<tbody>\n",
       "\t<tr><td>0.0000000</td></tr>\n",
       "\t<tr><td>0.0000000</td></tr>\n",
       "\t<tr><td>0.0000000</td></tr>\n",
       "\t<tr><td>0.0000000</td></tr>\n",
       "\t<tr><td>0.0000000</td></tr>\n",
       "\t<tr><td>0.0000000</td></tr>\n",
       "\t<tr><td>0.0000000</td></tr>\n",
       "\t<tr><td>0.0000000</td></tr>\n",
       "\t<tr><td>0.0000000</td></tr>\n",
       "\t<tr><td>0.0000000</td></tr>\n",
       "\t<tr><td>0.0000000</td></tr>\n",
       "\t<tr><td>0.0000000</td></tr>\n",
       "\t<tr><td>0.0000000</td></tr>\n",
       "\t<tr><td>0.0000000</td></tr>\n",
       "\t<tr><td>0.0000000</td></tr>\n",
       "\t<tr><td>0.0000000</td></tr>\n",
       "\t<tr><td>0.0000000</td></tr>\n",
       "\t<tr><td>0.0000000</td></tr>\n",
       "\t<tr><td>0.0000000</td></tr>\n",
       "\t<tr><td>0.0000000</td></tr>\n",
       "\t<tr><td>0.0000000</td></tr>\n",
       "\t<tr><td>0.0000000</td></tr>\n",
       "\t<tr><td>0.0000000</td></tr>\n",
       "\t<tr><td>0.5000000</td></tr>\n",
       "\t<tr><td>0.0000000</td></tr>\n",
       "\t<tr><td>0.5000000</td></tr>\n",
       "\t<tr><td>0.5000000</td></tr>\n",
       "\t<tr><td>0.5000000</td></tr>\n",
       "\t<tr><td>0.9107143</td></tr>\n",
       "\t<tr><td>0.5000000</td></tr>\n",
       "\t<tr><td>...</td></tr>\n",
       "\t<tr><td>0.9107143</td></tr>\n",
       "\t<tr><td>0.9107143</td></tr>\n",
       "\t<tr><td>0.5000000</td></tr>\n",
       "\t<tr><td>0.5000000</td></tr>\n",
       "\t<tr><td>0.9107143</td></tr>\n",
       "\t<tr><td>0.9107143</td></tr>\n",
       "\t<tr><td>0.9107143</td></tr>\n",
       "\t<tr><td>0.9107143</td></tr>\n",
       "\t<tr><td>0.9107143</td></tr>\n",
       "\t<tr><td>0.9107143</td></tr>\n",
       "\t<tr><td>0.5000000</td></tr>\n",
       "\t<tr><td>0.9107143</td></tr>\n",
       "\t<tr><td>0.5000000</td></tr>\n",
       "\t<tr><td>0.5000000</td></tr>\n",
       "\t<tr><td>0.5000000</td></tr>\n",
       "\t<tr><td>0.5000000</td></tr>\n",
       "\t<tr><td>0.9107143</td></tr>\n",
       "\t<tr><td>0.9107143</td></tr>\n",
       "\t<tr><td>0.9107143</td></tr>\n",
       "\t<tr><td>0.9107143</td></tr>\n",
       "\t<tr><td>0.5000000</td></tr>\n",
       "\t<tr><td>0.5000000</td></tr>\n",
       "\t<tr><td>0.5000000</td></tr>\n",
       "\t<tr><td>0.9107143</td></tr>\n",
       "\t<tr><td>0.9107143</td></tr>\n",
       "\t<tr><td>0.9107143</td></tr>\n",
       "\t<tr><td>0.9107143</td></tr>\n",
       "\t<tr><td>0.5000000</td></tr>\n",
       "\t<tr><td>0.9107143</td></tr>\n",
       "\t<tr><td>0.5000000</td></tr>\n",
       "</tbody>\n",
       "</table>\n"
      ],
      "text/latex": [
       "\\begin{tabular}{l}\n",
       " Result\\\\\n",
       "\\hline\n",
       "\t 0.0000000\\\\\n",
       "\t 0.0000000\\\\\n",
       "\t 0.0000000\\\\\n",
       "\t 0.0000000\\\\\n",
       "\t 0.0000000\\\\\n",
       "\t 0.0000000\\\\\n",
       "\t 0.0000000\\\\\n",
       "\t 0.0000000\\\\\n",
       "\t 0.0000000\\\\\n",
       "\t 0.0000000\\\\\n",
       "\t 0.0000000\\\\\n",
       "\t 0.0000000\\\\\n",
       "\t 0.0000000\\\\\n",
       "\t 0.0000000\\\\\n",
       "\t 0.0000000\\\\\n",
       "\t 0.0000000\\\\\n",
       "\t 0.0000000\\\\\n",
       "\t 0.0000000\\\\\n",
       "\t 0.0000000\\\\\n",
       "\t 0.0000000\\\\\n",
       "\t 0.0000000\\\\\n",
       "\t 0.0000000\\\\\n",
       "\t 0.0000000\\\\\n",
       "\t 0.5000000\\\\\n",
       "\t 0.0000000\\\\\n",
       "\t 0.5000000\\\\\n",
       "\t 0.5000000\\\\\n",
       "\t 0.5000000\\\\\n",
       "\t 0.9107143\\\\\n",
       "\t 0.5000000\\\\\n",
       "\t ...\\\\\n",
       "\t 0.9107143\\\\\n",
       "\t 0.9107143\\\\\n",
       "\t 0.5000000\\\\\n",
       "\t 0.5000000\\\\\n",
       "\t 0.9107143\\\\\n",
       "\t 0.9107143\\\\\n",
       "\t 0.9107143\\\\\n",
       "\t 0.9107143\\\\\n",
       "\t 0.9107143\\\\\n",
       "\t 0.9107143\\\\\n",
       "\t 0.5000000\\\\\n",
       "\t 0.9107143\\\\\n",
       "\t 0.5000000\\\\\n",
       "\t 0.5000000\\\\\n",
       "\t 0.5000000\\\\\n",
       "\t 0.5000000\\\\\n",
       "\t 0.9107143\\\\\n",
       "\t 0.9107143\\\\\n",
       "\t 0.9107143\\\\\n",
       "\t 0.9107143\\\\\n",
       "\t 0.5000000\\\\\n",
       "\t 0.5000000\\\\\n",
       "\t 0.5000000\\\\\n",
       "\t 0.9107143\\\\\n",
       "\t 0.9107143\\\\\n",
       "\t 0.9107143\\\\\n",
       "\t 0.9107143\\\\\n",
       "\t 0.5000000\\\\\n",
       "\t 0.9107143\\\\\n",
       "\t 0.5000000\\\\\n",
       "\\end{tabular}\n"
      ],
      "text/markdown": [
       "\n",
       "| Result |\n",
       "|---|\n",
       "| 0.0000000 |\n",
       "| 0.0000000 |\n",
       "| 0.0000000 |\n",
       "| 0.0000000 |\n",
       "| 0.0000000 |\n",
       "| 0.0000000 |\n",
       "| 0.0000000 |\n",
       "| 0.0000000 |\n",
       "| 0.0000000 |\n",
       "| 0.0000000 |\n",
       "| 0.0000000 |\n",
       "| 0.0000000 |\n",
       "| 0.0000000 |\n",
       "| 0.0000000 |\n",
       "| 0.0000000 |\n",
       "| 0.0000000 |\n",
       "| 0.0000000 |\n",
       "| 0.0000000 |\n",
       "| 0.0000000 |\n",
       "| 0.0000000 |\n",
       "| 0.0000000 |\n",
       "| 0.0000000 |\n",
       "| 0.0000000 |\n",
       "| 0.5000000 |\n",
       "| 0.0000000 |\n",
       "| 0.5000000 |\n",
       "| 0.5000000 |\n",
       "| 0.5000000 |\n",
       "| 0.9107143 |\n",
       "| 0.5000000 |\n",
       "| ... |\n",
       "| 0.9107143 |\n",
       "| 0.9107143 |\n",
       "| 0.5000000 |\n",
       "| 0.5000000 |\n",
       "| 0.9107143 |\n",
       "| 0.9107143 |\n",
       "| 0.9107143 |\n",
       "| 0.9107143 |\n",
       "| 0.9107143 |\n",
       "| 0.9107143 |\n",
       "| 0.5000000 |\n",
       "| 0.9107143 |\n",
       "| 0.5000000 |\n",
       "| 0.5000000 |\n",
       "| 0.5000000 |\n",
       "| 0.5000000 |\n",
       "| 0.9107143 |\n",
       "| 0.9107143 |\n",
       "| 0.9107143 |\n",
       "| 0.9107143 |\n",
       "| 0.5000000 |\n",
       "| 0.5000000 |\n",
       "| 0.5000000 |\n",
       "| 0.9107143 |\n",
       "| 0.9107143 |\n",
       "| 0.9107143 |\n",
       "| 0.9107143 |\n",
       "| 0.5000000 |\n",
       "| 0.9107143 |\n",
       "| 0.5000000 |\n",
       "\n"
      ],
      "text/plain": [
       "      Result   \n",
       " [1,] 0.0000000\n",
       " [2,] 0.0000000\n",
       " [3,] 0.0000000\n",
       " [4,] 0.0000000\n",
       " [5,] 0.0000000\n",
       " [6,] 0.0000000\n",
       " [7,] 0.0000000\n",
       " [8,] 0.0000000\n",
       " [9,] 0.0000000\n",
       "[10,] 0.0000000\n",
       "[11,] 0.0000000\n",
       "[12,] 0.0000000\n",
       "[13,] 0.0000000\n",
       "[14,] 0.0000000\n",
       "[15,] 0.0000000\n",
       "[16,] 0.0000000\n",
       "[17,] 0.0000000\n",
       "[18,] 0.0000000\n",
       "[19,] 0.0000000\n",
       "[20,] 0.0000000\n",
       "[21,] 0.0000000\n",
       "[22,] 0.0000000\n",
       "[23,] 0.0000000\n",
       "[24,] 0.5000000\n",
       "[25,] 0.0000000\n",
       "[26,] 0.5000000\n",
       "[27,] 0.5000000\n",
       "[28,] 0.5000000\n",
       "[29,] 0.9107143\n",
       "[30,] 0.5000000\n",
       "[31,] ...      \n",
       "[32,] 0.9107143\n",
       "[33,] 0.9107143\n",
       "[34,] 0.5000000\n",
       "[35,] 0.5000000\n",
       "[36,] 0.9107143\n",
       "[37,] 0.9107143\n",
       "[38,] 0.9107143\n",
       "[39,] 0.9107143\n",
       "[40,] 0.9107143\n",
       "[41,] 0.9107143\n",
       "[42,] 0.5000000\n",
       "[43,] 0.9107143\n",
       "[44,] 0.5000000\n",
       "[45,] 0.5000000\n",
       "[46,] 0.5000000\n",
       "[47,] 0.5000000\n",
       "[48,] 0.9107143\n",
       "[49,] 0.9107143\n",
       "[50,] 0.9107143\n",
       "[51,] 0.9107143\n",
       "[52,] 0.5000000\n",
       "[53,] 0.5000000\n",
       "[54,] 0.5000000\n",
       "[55,] 0.9107143\n",
       "[56,] 0.9107143\n",
       "[57,] 0.9107143\n",
       "[58,] 0.9107143\n",
       "[59,] 0.5000000\n",
       "[60,] 0.9107143\n",
       "[61,] 0.5000000"
      ]
     },
     "metadata": {},
     "output_type": "display_data"
    },
    {
     "data": {
      "text/plain": [
       "       result\n",
       "y_train  0  1\n",
       "      0 84  5\n",
       "      1 27 51"
      ]
     },
     "metadata": {},
     "output_type": "display_data"
    },
    {
     "data": {
      "text/html": [
       "0.808383233532934"
      ],
      "text/latex": [
       "0.808383233532934"
      ],
      "text/markdown": [
       "0.808383233532934"
      ],
      "text/plain": [
       "[1] 0.8083832"
      ]
     },
     "metadata": {},
     "output_type": "display_data"
    }
   ],
   "source": [
    "#학습용 데이터셋\n",
    "pred<-predict(model,X_train_scaled)\n",
    "pred\n",
    "result<-ifelse(pred>0.5,1,0) #결과값이 0.5보다 크면 1, 아니면 0으로\n",
    "table(y_train,result) #오분류표\n",
    "mean(result==y_train) #예측정확도 80.9%"
   ]
  },
  {
   "cell_type": "code",
   "execution_count": 17,
   "metadata": {},
   "outputs": [
    {
     "data": {
      "text/plain": [
       "      result\n",
       "y_test  0  1\n",
       "     0 20  0\n",
       "     1  6 15"
      ]
     },
     "metadata": {},
     "output_type": "display_data"
    },
    {
     "data": {
      "text/html": [
       "0.853658536585366"
      ],
      "text/latex": [
       "0.853658536585366"
      ],
      "text/markdown": [
       "0.853658536585366"
      ],
      "text/plain": [
       "[1] 0.8536585"
      ]
     },
     "metadata": {},
     "output_type": "display_data"
    }
   ],
   "source": [
    "#검증용 데이터셋\n",
    "pred<-predict(model,X_test_scaled)\n",
    "result<-ifelse(pred>0.5,1,0)\n",
    "table(y_test,result)\n",
    "mean(result==y_test)"
   ]
  },
  {
   "cell_type": "code",
   "execution_count": 18,
   "metadata": {},
   "outputs": [
    {
     "name": "stderr",
     "output_type": "stream",
     "text": [
      "randomForest 4.6-14\n",
      "Type rfNews() to see new features/changes/bug fixes.\n",
      "\n",
      "Attaching package: 'randomForest'\n",
      "\n",
      "The following object is masked from 'package:ggplot2':\n",
      "\n",
      "    margin\n",
      "\n",
      "The following object is masked from 'package:dplyr':\n",
      "\n",
      "    combine\n",
      "\n",
      "Warning message in randomForest.default(m, y, ...):\n",
      "\"The response has five or fewer unique values.  Are you sure you want to do regression?\""
     ]
    },
    {
     "data": {
      "text/plain": [
       "\n",
       "Call:\n",
       " randomForest(formula = Result ~ ., data = train_scaled, mtry = floor(sqrt(ncol(train))),      ntree = 100, importance = T) \n",
       "               Type of random forest: regression\n",
       "                     Number of trees: 100\n",
       "No. of variables tried at each split: 2\n",
       "\n",
       "          Mean of squared residuals: 0.08267796\n",
       "                    % Var explained: 66.78"
      ]
     },
     "metadata": {},
     "output_type": "display_data"
    }
   ],
   "source": [
    "#랜덤포레스트 모형\n",
    "library(randomForest)\n",
    "set.seed(1)\n",
    "#mtry 변수갯수, ntree 트리갯수, importance=T 변수의 중요도로 모델생성\n",
    "model<-randomForest(Result ~. , data=train_scaled,\n",
    "                   mtry=floor(sqrt(ncol(train))),ntree=100,importance=T)\n",
    "model"
   ]
  },
  {
   "cell_type": "code",
   "execution_count": 19,
   "metadata": {},
   "outputs": [
    {
     "data": {
      "text/plain": [
       "       result\n",
       "y_train  0  1\n",
       "      0 87  2\n",
       "      1  1 77"
      ]
     },
     "metadata": {},
     "output_type": "display_data"
    },
    {
     "data": {
      "text/html": [
       "0.982035928143713"
      ],
      "text/latex": [
       "0.982035928143713"
      ],
      "text/markdown": [
       "0.982035928143713"
      ],
      "text/plain": [
       "[1] 0.9820359"
      ]
     },
     "metadata": {},
     "output_type": "display_data"
    }
   ],
   "source": [
    "#학습용 데이터셋\n",
    "pred<-predict(model,X_train_scaled)\n",
    "result<-ifelse(pred>0.5,1,0) #결과값이 0.5보다 크면 1, 아니면 0으로\n",
    "table(y_train,result) #오분류표\n",
    "mean(result==y_train) #예측정확도"
   ]
  },
  {
   "cell_type": "code",
   "execution_count": 20,
   "metadata": {},
   "outputs": [
    {
     "data": {
      "text/plain": [
       "      result\n",
       "y_test  0  1\n",
       "     0 19  1\n",
       "     1  1 20"
      ]
     },
     "metadata": {},
     "output_type": "display_data"
    },
    {
     "data": {
      "text/html": [
       "0.951219512195122"
      ],
      "text/latex": [
       "0.951219512195122"
      ],
      "text/markdown": [
       "0.951219512195122"
      ],
      "text/plain": [
       "[1] 0.9512195"
      ]
     },
     "metadata": {},
     "output_type": "display_data"
    }
   ],
   "source": [
    "#검증용 데이터셋\n",
    "pred<-predict(model,X_test_scaled)\n",
    "result<-ifelse(pred>0.5,1,0)\n",
    "table(y_test,result)\n",
    "mean(result==y_test)"
   ]
  },
  {
   "cell_type": "code",
   "execution_count": 21,
   "metadata": {},
   "outputs": [
    {
     "data": {
      "text/html": [
       "<table>\n",
       "<thead><tr><th></th><th scope=col>%IncMSE</th><th scope=col>IncNodePurity</th></tr></thead>\n",
       "<tbody>\n",
       "\t<tr><th scope=row>Solar.R2</th><td>11.87627 </td><td> 8.023297</td></tr>\n",
       "\t<tr><th scope=row>Wind</th><td>14.53625 </td><td> 8.911787</td></tr>\n",
       "\t<tr><th scope=row>Temp</th><td>30.94773 </td><td>22.193325</td></tr>\n",
       "</tbody>\n",
       "</table>\n"
      ],
      "text/latex": [
       "\\begin{tabular}{r|ll}\n",
       "  & \\%IncMSE & IncNodePurity\\\\\n",
       "\\hline\n",
       "\tSolar.R2 & 11.87627  &  8.023297\\\\\n",
       "\tWind & 14.53625  &  8.911787\\\\\n",
       "\tTemp & 30.94773  & 22.193325\\\\\n",
       "\\end{tabular}\n"
      ],
      "text/markdown": [
       "\n",
       "| <!--/--> | %IncMSE | IncNodePurity |\n",
       "|---|---|---|\n",
       "| Solar.R2 | 11.87627  |  8.023297 |\n",
       "| Wind | 14.53625  |  8.911787 |\n",
       "| Temp | 30.94773  | 22.193325 |\n",
       "\n"
      ],
      "text/plain": [
       "         %IncMSE  IncNodePurity\n",
       "Solar.R2 11.87627  8.023297    \n",
       "Wind     14.53625  8.911787    \n",
       "Temp     30.94773 22.193325    "
      ]
     },
     "metadata": {},
     "output_type": "display_data"
    }
   ],
   "source": [
    "importance(model) #특성의 중요도 %IncMSE 정확도, IncNodePurity 중요도\n",
    "#오존량에 영향을 미치는 변수 : 온도 > 풍량 > 일조량"
   ]
  },
  {
   "cell_type": "code",
   "execution_count": 22,
   "metadata": {},
   "outputs": [
    {
     "data": {
      "image/png": "[encoded data removed]",
      "text/plain": [
       "plot without title"
      ]
     },
     "metadata": {},
     "output_type": "display_data"
    }
   ],
   "source": [
    "varImpPlot(model)"
   ]
  },
  {
   "cell_type": "code",
   "execution_count": null,
   "metadata": {},
   "outputs": [],
   "source": []
  },
  {
   "cell_type": "code",
   "execution_count": null,
   "metadata": {},
   "outputs": [],
   "source": []
  },
  {
   "cell_type": "code",
   "execution_count": null,
   "metadata": {},
   "outputs": [],
   "source": []
  },
  {
   "cell_type": "code",
   "execution_count": null,
   "metadata": {},
   "outputs": [],
   "source": []
  },
  {
   "cell_type": "code",
   "execution_count": null,
   "metadata": {},
   "outputs": [],
   "source": []
  },
  {
   "cell_type": "code",
   "execution_count": null,
   "metadata": {},
   "outputs": [],
   "source": []
  },
  {
   "cell_type": "code",
   "execution_count": null,
   "metadata": {},
   "outputs": [],
   "source": []
  }
 ],
 "metadata": {
  "kernelspec": {
   "display_name": "R",
   "language": "R",
   "name": "ir"
  },
  "language_info": {
   "codemirror_mode": "r",
   "file_extension": ".r",
   "mimetype": "text/x-r-source",
   "name": "R",
   "pygments_lexer": "r",
   "version": "3.6.1"
  }
 },
 "nbformat": 4,
 "nbformat_minor": 2
}
