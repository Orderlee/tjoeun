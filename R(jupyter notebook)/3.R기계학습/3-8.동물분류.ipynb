{
 "cells": [
  {
   "cell_type": "code",
   "execution_count": 25,
   "metadata": {},
   "outputs": [
    {
     "data": {
      "text/html": [
       "<table>\n",
       "<thead><tr><th scope=col>animal_name</th><th scope=col>hair</th><th scope=col>feathers</th><th scope=col>eggs</th><th scope=col>milk</th><th scope=col>airborne</th><th scope=col>aquatic</th><th scope=col>predator</th><th scope=col>toothed</th><th scope=col>backbone</th><th scope=col>breathes</th><th scope=col>venomous</th><th scope=col>fins</th><th scope=col>legs</th><th scope=col>tail</th><th scope=col>domestic</th><th scope=col>catsize</th><th scope=col>class_type</th></tr></thead>\n",
       "<tbody>\n",
       "\t<tr><td>calf   </td><td>1      </td><td>0      </td><td>0      </td><td>1      </td><td>0      </td><td>0      </td><td>0      </td><td>1      </td><td>1      </td><td>1      </td><td>0      </td><td>0      </td><td>4      </td><td>1      </td><td>1      </td><td>1      </td><td>1      </td></tr>\n",
       "\t<tr><td>carp   </td><td>0      </td><td>0      </td><td>1      </td><td>0      </td><td>0      </td><td>1      </td><td>0      </td><td>1      </td><td>1      </td><td>0      </td><td>0      </td><td>1      </td><td>0      </td><td>1      </td><td>1      </td><td>0      </td><td>4      </td></tr>\n",
       "\t<tr><td>cavy   </td><td>1      </td><td>0      </td><td>0      </td><td>1      </td><td>0      </td><td>0      </td><td>0      </td><td>1      </td><td>1      </td><td>1      </td><td>0      </td><td>0      </td><td>4      </td><td>0      </td><td>1      </td><td>0      </td><td>1      </td></tr>\n",
       "\t<tr><td>chicken</td><td>0      </td><td>1      </td><td>1      </td><td>0      </td><td>1      </td><td>0      </td><td>0      </td><td>0      </td><td>1      </td><td>1      </td><td>0      </td><td>0      </td><td>2      </td><td>1      </td><td>1      </td><td>0      </td><td>2      </td></tr>\n",
       "\t<tr><td>dove   </td><td>0      </td><td>1      </td><td>1      </td><td>0      </td><td>1      </td><td>0      </td><td>0      </td><td>0      </td><td>1      </td><td>1      </td><td>0      </td><td>0      </td><td>2      </td><td>1      </td><td>1      </td><td>0      </td><td>2      </td></tr>\n",
       "\t<tr><td>girl   </td><td>1      </td><td>0      </td><td>0      </td><td>1      </td><td>0      </td><td>0      </td><td>1      </td><td>1      </td><td>1      </td><td>1      </td><td>0      </td><td>0      </td><td>2      </td><td>0      </td><td>1      </td><td>1      </td><td>1      </td></tr>\n",
       "</tbody>\n",
       "</table>\n"
      ],
      "text/latex": [
       "\\begin{tabular}{r|llllllllllllllllll}\n",
       " animal\\_name & hair & feathers & eggs & milk & airborne & aquatic & predator & toothed & backbone & breathes & venomous & fins & legs & tail & domestic & catsize & class\\_type\\\\\n",
       "\\hline\n",
       "\t calf    & 1       & 0       & 0       & 1       & 0       & 0       & 0       & 1       & 1       & 1       & 0       & 0       & 4       & 1       & 1       & 1       & 1      \\\\\n",
       "\t carp    & 0       & 0       & 1       & 0       & 0       & 1       & 0       & 1       & 1       & 0       & 0       & 1       & 0       & 1       & 1       & 0       & 4      \\\\\n",
       "\t cavy    & 1       & 0       & 0       & 1       & 0       & 0       & 0       & 1       & 1       & 1       & 0       & 0       & 4       & 0       & 1       & 0       & 1      \\\\\n",
       "\t chicken & 0       & 1       & 1       & 0       & 1       & 0       & 0       & 0       & 1       & 1       & 0       & 0       & 2       & 1       & 1       & 0       & 2      \\\\\n",
       "\t dove    & 0       & 1       & 1       & 0       & 1       & 0       & 0       & 0       & 1       & 1       & 0       & 0       & 2       & 1       & 1       & 0       & 2      \\\\\n",
       "\t girl    & 1       & 0       & 0       & 1       & 0       & 0       & 1       & 1       & 1       & 1       & 0       & 0       & 2       & 0       & 1       & 1       & 1      \\\\\n",
       "\\end{tabular}\n"
      ],
      "text/markdown": [
       "\n",
       "| animal_name | hair | feathers | eggs | milk | airborne | aquatic | predator | toothed | backbone | breathes | venomous | fins | legs | tail | domestic | catsize | class_type |\n",
       "|---|---|---|---|---|---|---|---|---|---|---|---|---|---|---|---|---|---|\n",
       "| calf    | 1       | 0       | 0       | 1       | 0       | 0       | 0       | 1       | 1       | 1       | 0       | 0       | 4       | 1       | 1       | 1       | 1       |\n",
       "| carp    | 0       | 0       | 1       | 0       | 0       | 1       | 0       | 1       | 1       | 0       | 0       | 1       | 0       | 1       | 1       | 0       | 4       |\n",
       "| cavy    | 1       | 0       | 0       | 1       | 0       | 0       | 0       | 1       | 1       | 1       | 0       | 0       | 4       | 0       | 1       | 0       | 1       |\n",
       "| chicken | 0       | 1       | 1       | 0       | 1       | 0       | 0       | 0       | 1       | 1       | 0       | 0       | 2       | 1       | 1       | 0       | 2       |\n",
       "| dove    | 0       | 1       | 1       | 0       | 1       | 0       | 0       | 0       | 1       | 1       | 0       | 0       | 2       | 1       | 1       | 0       | 2       |\n",
       "| girl    | 1       | 0       | 0       | 1       | 0       | 0       | 1       | 1       | 1       | 1       | 0       | 0       | 2       | 0       | 1       | 1       | 1       |\n",
       "\n"
      ],
      "text/plain": [
       "  animal_name hair feathers eggs milk airborne aquatic predator toothed\n",
       "1 calf        1    0        0    1    0        0       0        1      \n",
       "2 carp        0    0        1    0    0        1       0        1      \n",
       "3 cavy        1    0        0    1    0        0       0        1      \n",
       "4 chicken     0    1        1    0    1        0       0        0      \n",
       "5 dove        0    1        1    0    1        0       0        0      \n",
       "6 girl        1    0        0    1    0        0       1        1      \n",
       "  backbone breathes venomous fins legs tail domestic catsize class_type\n",
       "1 1        1        0        0    4    1    1        1       1         \n",
       "2 1        0        0        1    0    1    1        0       4         \n",
       "3 1        1        0        0    4    0    1        0       1         \n",
       "4 1        1        0        0    2    1    1        0       2         \n",
       "5 1        1        0        0    2    1    1        0       2         \n",
       "6 1        1        0        0    2    0    1        1       1         "
      ]
     },
     "metadata": {},
     "output_type": "display_data"
    }
   ],
   "source": [
    "df<-read.csv('d:/data/zoo/zoo.csv')\n",
    "head(df)"
   ]
  },
  {
   "cell_type": "code",
   "execution_count": 26,
   "metadata": {},
   "outputs": [
    {
     "data": {
      "text/html": [
       "<ol class=list-inline>\n",
       "\t<li>101</li>\n",
       "\t<li>17</li>\n",
       "</ol>\n"
      ],
      "text/latex": [
       "\\begin{enumerate*}\n",
       "\\item 101\n",
       "\\item 17\n",
       "\\end{enumerate*}\n"
      ],
      "text/markdown": [
       "1. 101\n",
       "2. 17\n",
       "\n",
       "\n"
      ],
      "text/plain": [
       "[1] 101  17"
      ]
     },
     "metadata": {},
     "output_type": "display_data"
    },
    {
     "data": {
      "text/plain": [
       "      hair           feathers          eggs             milk       \n",
       " Min.   :0.0000   Min.   :0.000   Min.   :0.0000   Min.   :0.0000  \n",
       " 1st Qu.:0.0000   1st Qu.:0.000   1st Qu.:0.0000   1st Qu.:0.0000  \n",
       " Median :0.0000   Median :0.000   Median :1.0000   Median :0.0000  \n",
       " Mean   :0.4257   Mean   :0.198   Mean   :0.5842   Mean   :0.4059  \n",
       " 3rd Qu.:1.0000   3rd Qu.:0.000   3rd Qu.:1.0000   3rd Qu.:1.0000  \n",
       " Max.   :1.0000   Max.   :1.000   Max.   :1.0000   Max.   :1.0000  \n",
       "    airborne         aquatic          predator         toothed     \n",
       " Min.   :0.0000   Min.   :0.0000   Min.   :0.0000   Min.   :0.000  \n",
       " 1st Qu.:0.0000   1st Qu.:0.0000   1st Qu.:0.0000   1st Qu.:0.000  \n",
       " Median :0.0000   Median :0.0000   Median :1.0000   Median :1.000  \n",
       " Mean   :0.2376   Mean   :0.3564   Mean   :0.5545   Mean   :0.604  \n",
       " 3rd Qu.:0.0000   3rd Qu.:1.0000   3rd Qu.:1.0000   3rd Qu.:1.000  \n",
       " Max.   :1.0000   Max.   :1.0000   Max.   :1.0000   Max.   :1.000  \n",
       "    backbone         breathes         venomous            fins       \n",
       " Min.   :0.0000   Min.   :0.0000   Min.   :0.00000   Min.   :0.0000  \n",
       " 1st Qu.:1.0000   1st Qu.:1.0000   1st Qu.:0.00000   1st Qu.:0.0000  \n",
       " Median :1.0000   Median :1.0000   Median :0.00000   Median :0.0000  \n",
       " Mean   :0.8218   Mean   :0.7921   Mean   :0.07921   Mean   :0.1683  \n",
       " 3rd Qu.:1.0000   3rd Qu.:1.0000   3rd Qu.:0.00000   3rd Qu.:0.0000  \n",
       " Max.   :1.0000   Max.   :1.0000   Max.   :1.00000   Max.   :1.0000  \n",
       "      legs            tail           domestic         catsize      \n",
       " Min.   :0.000   Min.   :0.0000   Min.   :0.0000   Min.   :0.0000  \n",
       " 1st Qu.:2.000   1st Qu.:0.0000   1st Qu.:0.0000   1st Qu.:0.0000  \n",
       " Median :4.000   Median :1.0000   Median :0.0000   Median :0.0000  \n",
       " Mean   :2.842   Mean   :0.7426   Mean   :0.1287   Mean   :0.4356  \n",
       " 3rd Qu.:4.000   3rd Qu.:1.0000   3rd Qu.:0.0000   3rd Qu.:1.0000  \n",
       " Max.   :8.000   Max.   :1.0000   Max.   :1.0000   Max.   :1.0000  \n",
       "   class_type   \n",
       " Min.   :1.000  \n",
       " 1st Qu.:1.000  \n",
       " Median :2.000  \n",
       " Mean   :2.832  \n",
       " 3rd Qu.:4.000  \n",
       " Max.   :7.000  "
      ]
     },
     "metadata": {},
     "output_type": "display_data"
    }
   ],
   "source": [
    "library(dplyr)\n",
    "df<-df %>% select(-animal_name) #분석에 사용하지 않을 필드 제외\n",
    "dim(df)\n",
    "summary(df)"
   ]
  },
  {
   "cell_type": "code",
   "execution_count": 27,
   "metadata": {},
   "outputs": [],
   "source": [
    "corrmatrix<-cor(df) #상관계수 행렬"
   ]
  },
  {
   "cell_type": "code",
   "execution_count": 28,
   "metadata": {},
   "outputs": [
    {
     "data": {
      "image/png": "[encoded data removed]",
      "text/plain": [
       "Plot with title \"\""
      ]
     },
     "metadata": {},
     "output_type": "display_data"
    }
   ],
   "source": [
    "library(corrplot)\n",
    "corrplot(corrmatrix,method='circle') #상관계수 플로팅"
   ]
  },
  {
   "cell_type": "code",
   "execution_count": 29,
   "metadata": {},
   "outputs": [
    {
     "data": {
      "text/plain": [
       "\n",
       " 1  2  3  4  5  6  7 \n",
       "41 20  5 13  4  8 10 "
      ]
     },
     "metadata": {},
     "output_type": "display_data"
    },
    {
     "data": {
      "image/png": "[encoded data removed]",
      "text/plain": [
       "plot without title"
      ]
     },
     "metadata": {},
     "output_type": "display_data"
    }
   ],
   "source": [
    "tbl <-table(df$class_type) #동물종류별로 카운트\n",
    "tbl\n",
    "barplot(tbl,beside=T,legend=T,col=rainbow(7)) #카운트 플롯"
   ]
  },
  {
   "cell_type": "code",
   "execution_count": 30,
   "metadata": {},
   "outputs": [],
   "source": [
    "library(caret)\n",
    "set.seed(123) #랜덤시드 고정\n",
    "#학습용 80% p=0.8\n",
    "idx_train<-createDataPartition(y=df$class_type, p=0.8, list=F)\n",
    "train<-df[idx_train,] #학습용\n",
    "X_train<-train[,-17] #17번 필드 제외\n",
    "y_train<-train[,17] #17번 필드만 석택\n",
    "test<-df[-idx_train,] #검증용\n",
    "X_test<-test[,-17]\n",
    "y_test<-test[,17]"
   ]
  },
  {
   "cell_type": "code",
   "execution_count": 31,
   "metadata": {},
   "outputs": [
    {
     "name": "stdout",
     "output_type": "stream",
     "text": [
      "# weights:  126 (102 variable)\n",
      "initial  value 159.564632 \n",
      "iter  10 value 14.639530\n",
      "iter  20 value 0.062257\n",
      "iter  30 value 0.000254\n",
      "final  value 0.000066 \n",
      "converged\n"
     ]
    },
    {
     "data": {
      "text/plain": [
       "Call:\n",
       "multinom(formula = class_type ~ ., data = train)\n",
       "\n",
       "Coefficients:\n",
       "  (Intercept)       hair    feathers      eggs      milk   airborne    aquatic\n",
       "2  -2.1196063  -9.790763  34.6726754  5.925684 -19.86862   2.757845  -6.117143\n",
       "3   0.8045264 -30.032670 -26.8386852  7.118747 -32.15749 -10.736848 -20.403973\n",
       "4  -6.4815524   2.421395   1.6694950 22.826508 -19.62531   3.137490  -8.012985\n",
       "5 -25.9392230 -17.522958  -2.1372370  6.163905 -19.41635  -2.182811  21.545224\n",
       "6  -6.5622191 -11.190649   1.8237143 14.563971 -11.48963   4.537382  -8.517531\n",
       "7  38.1273839 -16.001543  -0.2561737  5.120276 -13.83666  -3.104789  -2.526493\n",
       "    predator    toothed    backbone   breathes   venomous       fins       legs\n",
       "2   3.569612  -8.352689  -0.6318833  -9.626850  0.1032884  -0.892964  4.8401543\n",
       "3  -4.429805   6.258108  23.6754708  -8.496247 12.7723192 -26.805049  0.2990506\n",
       "4  -2.488829   3.358352   1.2919174 -25.095137  5.9170598  11.436099  2.7207158\n",
       "5  -4.728406  12.149233   8.0770318  17.347863 -4.9610265 -11.202759  4.3951756\n",
       "6 -15.209986  -4.219293  -8.3365129   6.501106 -7.4632143   8.495105  6.4315335\n",
       "7  19.391122 -11.480897 -39.4788032  -7.071123 17.4684606  -2.671947 -0.6392837\n",
       "        tail   domestic    catsize\n",
       "2  -3.894958  2.0134907  -6.571879\n",
       "3  16.686785 -4.0172487  -4.335050\n",
       "4   3.719799  0.3178114   2.084939\n",
       "5 -10.739926 -4.9741391 -13.271282\n",
       "6  -8.216402 -9.9655960 -10.806203\n",
       "7  -1.961452  5.4838334  -8.422901\n",
       "\n",
       "Std. Errors:\n",
       "  (Intercept)       hair feathers     eggs       milk    airborne  aquatic\n",
       "2    15125.02   703.0902 18184.26 14711.37   637.5451 46581.65897 37279.83\n",
       "3    28857.46 35519.9803 12018.37 33201.69 35519.9803    71.87322 74790.76\n",
       "4    29656.83 28863.8152 24284.91 78854.57 28855.4128 23773.71326 72984.28\n",
       "5    52446.16 48700.8863 41645.76 50499.52 61046.2945 39655.45305 49621.22\n",
       "6    20120.69 19345.6717 28989.19 22022.33 19357.6995 34223.37392 38277.05\n",
       "7    20281.49   394.3586 33166.13 27907.97   926.4623  2543.84930 26276.47\n",
       "  predator   toothed backbone breathes     venomous         fins     legs\n",
       "2 75989.44    481.39 18669.18 19160.82 3.738954e+00 2.641554e-01 16116.78\n",
       "3 49377.66  44283.14 28857.28 81062.13 3.402342e+04 6.348273e+04 49233.38\n",
       "4 47905.15 114213.04 27210.81 16782.79 2.404060e+04 3.242770e+04 29444.54\n",
       "5 75779.76  50671.40 59593.28 50697.25 1.309144e+03 6.163956e+04 54963.82\n",
       "6 23674.52  19357.87 21676.82 15705.57 1.503232e-03 1.166311e-02 17637.31\n",
       "7 17687.83  33572.19 27362.74 23375.26 2.174473e+04 4.269942e+04 17550.71\n",
       "       tail     domestic  catsize\n",
       "2  18352.85 4.845917e+02 65683.99\n",
       "3  29095.33 1.455421e+05 52895.72\n",
       "4  27156.28 1.256164e+05 20588.95\n",
       "5 109568.94 1.100285e+05 58436.90\n",
       "6  13693.20 1.514862e+04 67523.87\n",
       "7  27401.09 1.204503e+00 43102.41\n",
       "\n",
       "Residual Deviance: 0.0001312049 \n",
       "AIC: 204.0001 "
      ]
     },
     "metadata": {},
     "output_type": "display_data"
    }
   ],
   "source": [
    "library(nnet)\n",
    "# 3 class 이상인 경우 multinom(), 2class glm()\n",
    "model <- multinom(class_type~., data=train)\n",
    "summary(model)"
   ]
  },
  {
   "cell_type": "code",
   "execution_count": 32,
   "metadata": {},
   "outputs": [
    {
     "data": {
      "text/html": [
       "<table>\n",
       "<thead><tr><th></th><th scope=col>(Intercept)</th><th scope=col>hair</th><th scope=col>feathers</th><th scope=col>eggs</th><th scope=col>milk</th><th scope=col>airborne</th><th scope=col>aquatic</th><th scope=col>predator</th><th scope=col>toothed</th><th scope=col>backbone</th><th scope=col>breathes</th><th scope=col>venomous</th><th scope=col>fins</th><th scope=col>legs</th><th scope=col>tail</th><th scope=col>domestic</th><th scope=col>catsize</th></tr></thead>\n",
       "<tbody>\n",
       "\t<tr><th scope=row>2</th><td> -2.1196063</td><td> -9.790763 </td><td> 34.6726754</td><td> 5.925684  </td><td>-19.86862  </td><td>  2.757845 </td><td> -6.117143 </td><td>  3.569612 </td><td> -8.352689 </td><td> -0.6318833</td><td> -9.626850 </td><td> 0.1032884 </td><td> -0.892964 </td><td> 4.8401543 </td><td> -3.894958 </td><td> 2.0134907 </td><td> -6.571879 </td></tr>\n",
       "\t<tr><th scope=row>3</th><td>  0.8045264</td><td>-30.032670 </td><td>-26.8386852</td><td> 7.118747  </td><td>-32.15749  </td><td>-10.736848 </td><td>-20.403973 </td><td> -4.429805 </td><td>  6.258108 </td><td> 23.6754708</td><td> -8.496247 </td><td>12.7723192 </td><td>-26.805049 </td><td> 0.2990506 </td><td> 16.686785 </td><td>-4.0172487 </td><td> -4.335050 </td></tr>\n",
       "\t<tr><th scope=row>4</th><td> -6.4815524</td><td>  2.421395 </td><td>  1.6694950</td><td>22.826508  </td><td>-19.62531  </td><td>  3.137490 </td><td> -8.012985 </td><td> -2.488829 </td><td>  3.358352 </td><td>  1.2919174</td><td>-25.095137 </td><td> 5.9170598 </td><td> 11.436099 </td><td> 2.7207158 </td><td>  3.719799 </td><td> 0.3178114 </td><td>  2.084939 </td></tr>\n",
       "\t<tr><th scope=row>5</th><td>-25.9392230</td><td>-17.522958 </td><td> -2.1372370</td><td> 6.163905  </td><td>-19.41635  </td><td> -2.182811 </td><td> 21.545224 </td><td> -4.728406 </td><td> 12.149233 </td><td>  8.0770318</td><td> 17.347863 </td><td>-4.9610265 </td><td>-11.202759 </td><td> 4.3951756 </td><td>-10.739926 </td><td>-4.9741391 </td><td>-13.271282 </td></tr>\n",
       "\t<tr><th scope=row>6</th><td> -6.5622191</td><td>-11.190649 </td><td>  1.8237143</td><td>14.563971  </td><td>-11.48963  </td><td>  4.537382 </td><td> -8.517531 </td><td>-15.209986 </td><td> -4.219293 </td><td> -8.3365129</td><td>  6.501106 </td><td>-7.4632143 </td><td>  8.495105 </td><td> 6.4315335 </td><td> -8.216402 </td><td>-9.9655960 </td><td>-10.806203 </td></tr>\n",
       "\t<tr><th scope=row>7</th><td> 38.1273839</td><td>-16.001543 </td><td> -0.2561737</td><td> 5.120276  </td><td>-13.83666  </td><td> -3.104789 </td><td> -2.526493 </td><td> 19.391122 </td><td>-11.480897 </td><td>-39.4788032</td><td> -7.071123 </td><td>17.4684606 </td><td> -2.671947 </td><td>-0.6392837 </td><td> -1.961452 </td><td> 5.4838334 </td><td> -8.422901 </td></tr>\n",
       "</tbody>\n",
       "</table>\n"
      ],
      "text/latex": [
       "\\begin{tabular}{r|lllllllllllllllll}\n",
       "  & (Intercept) & hair & feathers & eggs & milk & airborne & aquatic & predator & toothed & backbone & breathes & venomous & fins & legs & tail & domestic & catsize\\\\\n",
       "\\hline\n",
       "\t2 &  -2.1196063 &  -9.790763  &  34.6726754 &  5.925684   & -19.86862   &   2.757845  &  -6.117143  &   3.569612  &  -8.352689  &  -0.6318833 &  -9.626850  &  0.1032884  &  -0.892964  &  4.8401543  &  -3.894958  &  2.0134907  &  -6.571879 \\\\\n",
       "\t3 &   0.8045264 & -30.032670  & -26.8386852 &  7.118747   & -32.15749   & -10.736848  & -20.403973  &  -4.429805  &   6.258108  &  23.6754708 &  -8.496247  & 12.7723192  & -26.805049  &  0.2990506  &  16.686785  & -4.0172487  &  -4.335050 \\\\\n",
       "\t4 &  -6.4815524 &   2.421395  &   1.6694950 & 22.826508   & -19.62531   &   3.137490  &  -8.012985  &  -2.488829  &   3.358352  &   1.2919174 & -25.095137  &  5.9170598  &  11.436099  &  2.7207158  &   3.719799  &  0.3178114  &   2.084939 \\\\\n",
       "\t5 & -25.9392230 & -17.522958  &  -2.1372370 &  6.163905   & -19.41635   &  -2.182811  &  21.545224  &  -4.728406  &  12.149233  &   8.0770318 &  17.347863  & -4.9610265  & -11.202759  &  4.3951756  & -10.739926  & -4.9741391  & -13.271282 \\\\\n",
       "\t6 &  -6.5622191 & -11.190649  &   1.8237143 & 14.563971   & -11.48963   &   4.537382  &  -8.517531  & -15.209986  &  -4.219293  &  -8.3365129 &   6.501106  & -7.4632143  &   8.495105  &  6.4315335  &  -8.216402  & -9.9655960  & -10.806203 \\\\\n",
       "\t7 &  38.1273839 & -16.001543  &  -0.2561737 &  5.120276   & -13.83666   &  -3.104789  &  -2.526493  &  19.391122  & -11.480897  & -39.4788032 &  -7.071123  & 17.4684606  &  -2.671947  & -0.6392837  &  -1.961452  &  5.4838334  &  -8.422901 \\\\\n",
       "\\end{tabular}\n"
      ],
      "text/markdown": [
       "\n",
       "| <!--/--> | (Intercept) | hair | feathers | eggs | milk | airborne | aquatic | predator | toothed | backbone | breathes | venomous | fins | legs | tail | domestic | catsize |\n",
       "|---|---|---|---|---|---|---|---|---|---|---|---|---|---|---|---|---|---|\n",
       "| 2 |  -2.1196063 |  -9.790763  |  34.6726754 |  5.925684   | -19.86862   |   2.757845  |  -6.117143  |   3.569612  |  -8.352689  |  -0.6318833 |  -9.626850  |  0.1032884  |  -0.892964  |  4.8401543  |  -3.894958  |  2.0134907  |  -6.571879  |\n",
       "| 3 |   0.8045264 | -30.032670  | -26.8386852 |  7.118747   | -32.15749   | -10.736848  | -20.403973  |  -4.429805  |   6.258108  |  23.6754708 |  -8.496247  | 12.7723192  | -26.805049  |  0.2990506  |  16.686785  | -4.0172487  |  -4.335050  |\n",
       "| 4 |  -6.4815524 |   2.421395  |   1.6694950 | 22.826508   | -19.62531   |   3.137490  |  -8.012985  |  -2.488829  |   3.358352  |   1.2919174 | -25.095137  |  5.9170598  |  11.436099  |  2.7207158  |   3.719799  |  0.3178114  |   2.084939  |\n",
       "| 5 | -25.9392230 | -17.522958  |  -2.1372370 |  6.163905   | -19.41635   |  -2.182811  |  21.545224  |  -4.728406  |  12.149233  |   8.0770318 |  17.347863  | -4.9610265  | -11.202759  |  4.3951756  | -10.739926  | -4.9741391  | -13.271282  |\n",
       "| 6 |  -6.5622191 | -11.190649  |   1.8237143 | 14.563971   | -11.48963   |   4.537382  |  -8.517531  | -15.209986  |  -4.219293  |  -8.3365129 |   6.501106  | -7.4632143  |   8.495105  |  6.4315335  |  -8.216402  | -9.9655960  | -10.806203  |\n",
       "| 7 |  38.1273839 | -16.001543  |  -0.2561737 |  5.120276   | -13.83666   |  -3.104789  |  -2.526493  |  19.391122  | -11.480897  | -39.4788032 |  -7.071123  | 17.4684606  |  -2.671947  | -0.6392837  |  -1.961452  |  5.4838334  |  -8.422901  |\n",
       "\n"
      ],
      "text/plain": [
       "  (Intercept) hair       feathers    eggs      milk      airborne   aquatic   \n",
       "2  -2.1196063  -9.790763  34.6726754  5.925684 -19.86862   2.757845  -6.117143\n",
       "3   0.8045264 -30.032670 -26.8386852  7.118747 -32.15749 -10.736848 -20.403973\n",
       "4  -6.4815524   2.421395   1.6694950 22.826508 -19.62531   3.137490  -8.012985\n",
       "5 -25.9392230 -17.522958  -2.1372370  6.163905 -19.41635  -2.182811  21.545224\n",
       "6  -6.5622191 -11.190649   1.8237143 14.563971 -11.48963   4.537382  -8.517531\n",
       "7  38.1273839 -16.001543  -0.2561737  5.120276 -13.83666  -3.104789  -2.526493\n",
       "  predator   toothed    backbone    breathes   venomous   fins       legs      \n",
       "2   3.569612  -8.352689  -0.6318833  -9.626850  0.1032884  -0.892964  4.8401543\n",
       "3  -4.429805   6.258108  23.6754708  -8.496247 12.7723192 -26.805049  0.2990506\n",
       "4  -2.488829   3.358352   1.2919174 -25.095137  5.9170598  11.436099  2.7207158\n",
       "5  -4.728406  12.149233   8.0770318  17.347863 -4.9610265 -11.202759  4.3951756\n",
       "6 -15.209986  -4.219293  -8.3365129   6.501106 -7.4632143   8.495105  6.4315335\n",
       "7  19.391122 -11.480897 -39.4788032  -7.071123 17.4684606  -2.671947 -0.6392837\n",
       "  tail       domestic   catsize   \n",
       "2  -3.894958  2.0134907  -6.571879\n",
       "3  16.686785 -4.0172487  -4.335050\n",
       "4   3.719799  0.3178114   2.084939\n",
       "5 -10.739926 -4.9741391 -13.271282\n",
       "6  -8.216402 -9.9655960 -10.806203\n",
       "7  -1.961452  5.4838334  -8.422901"
      ]
     },
     "metadata": {},
     "output_type": "display_data"
    }
   ],
   "source": [
    "(coef1<-coef(model)) #회귀계수"
   ]
  },
  {
   "cell_type": "code",
   "execution_count": 33,
   "metadata": {},
   "outputs": [
    {
     "data": {
      "text/html": [
       "<table>\n",
       "<thead><tr><th></th><th scope=col>1</th><th scope=col>2</th><th scope=col>3</th><th scope=col>4</th><th scope=col>5</th><th scope=col>6</th><th scope=col>7</th></tr></thead>\n",
       "<tbody>\n",
       "\t<tr><th scope=row>5</th><td>0</td><td>1</td><td>0</td><td>0</td><td>0</td><td>0</td><td>0</td></tr>\n",
       "\t<tr><th scope=row>9</th><td>0</td><td>0</td><td>0</td><td>0</td><td>0</td><td>0</td><td>1</td></tr>\n",
       "\t<tr><th scope=row>13</th><td>1</td><td>0</td><td>0</td><td>0</td><td>0</td><td>0</td><td>0</td></tr>\n",
       "\t<tr><th scope=row>19</th><td>1</td><td>0</td><td>0</td><td>0</td><td>0</td><td>0</td><td>0</td></tr>\n",
       "\t<tr><th scope=row>20</th><td>0</td><td>0</td><td>0</td><td>1</td><td>0</td><td>0</td><td>0</td></tr>\n",
       "\t<tr><th scope=row>26</th><td>0</td><td>1</td><td>0</td><td>0</td><td>0</td><td>0</td><td>0</td></tr>\n",
       "</tbody>\n",
       "</table>\n"
      ],
      "text/latex": [
       "\\begin{tabular}{r|lllllll}\n",
       "  & 1 & 2 & 3 & 4 & 5 & 6 & 7\\\\\n",
       "\\hline\n",
       "\t5 & 0 & 1 & 0 & 0 & 0 & 0 & 0\\\\\n",
       "\t9 & 0 & 0 & 0 & 0 & 0 & 0 & 1\\\\\n",
       "\t13 & 1 & 0 & 0 & 0 & 0 & 0 & 0\\\\\n",
       "\t19 & 1 & 0 & 0 & 0 & 0 & 0 & 0\\\\\n",
       "\t20 & 0 & 0 & 0 & 1 & 0 & 0 & 0\\\\\n",
       "\t26 & 0 & 1 & 0 & 0 & 0 & 0 & 0\\\\\n",
       "\\end{tabular}\n"
      ],
      "text/markdown": [
       "\n",
       "| <!--/--> | 1 | 2 | 3 | 4 | 5 | 6 | 7 |\n",
       "|---|---|---|---|---|---|---|---|\n",
       "| 5 | 0 | 1 | 0 | 0 | 0 | 0 | 0 |\n",
       "| 9 | 0 | 0 | 0 | 0 | 0 | 0 | 1 |\n",
       "| 13 | 1 | 0 | 0 | 0 | 0 | 0 | 0 |\n",
       "| 19 | 1 | 0 | 0 | 0 | 0 | 0 | 0 |\n",
       "| 20 | 0 | 0 | 0 | 1 | 0 | 0 | 0 |\n",
       "| 26 | 0 | 1 | 0 | 0 | 0 | 0 | 0 |\n",
       "\n"
      ],
      "text/plain": [
       "   1 2 3 4 5 6 7\n",
       "5  0 1 0 0 0 0 0\n",
       "9  0 0 0 0 0 0 1\n",
       "13 1 0 0 0 0 0 0\n",
       "19 1 0 0 0 0 0 0\n",
       "20 0 0 0 1 0 0 0\n",
       "26 0 1 0 0 0 0 0"
      ]
     },
     "metadata": {},
     "output_type": "display_data"
    },
    {
     "data": {
      "text/html": [
       "<ol class=list-inline>\n",
       "\t<li>2</li>\n",
       "\t<li>6</li>\n",
       "\t<li>1</li>\n",
       "\t<li>1</li>\n",
       "\t<li>4</li>\n",
       "\t<li>2</li>\n",
       "</ol>\n"
      ],
      "text/latex": [
       "\\begin{enumerate*}\n",
       "\\item 2\n",
       "\\item 6\n",
       "\\item 1\n",
       "\\item 1\n",
       "\\item 4\n",
       "\\item 2\n",
       "\\end{enumerate*}\n"
      ],
      "text/markdown": [
       "1. 2\n",
       "2. 6\n",
       "3. 1\n",
       "4. 1\n",
       "5. 4\n",
       "6. 2\n",
       "\n",
       "\n"
      ],
      "text/plain": [
       "[1] 2 6 1 1 4 2"
      ]
     },
     "metadata": {},
     "output_type": "display_data"
    }
   ],
   "source": [
    "#검증용 데이터셋을 모형에 입력하여 예측정확도 테스트\n",
    "pred<-predict(model,newdata=X_test, type='probs')\n",
    "result<-ifelse(pred>0.5,1,0) #0.5보다 크면 1, 아니면 0\n",
    "head(result) #예측값\n",
    "head(y_test) #실제값"
   ]
  },
  {
   "cell_type": "code",
   "execution_count": 34,
   "metadata": {},
   "outputs": [],
   "source": [
    "# 2차원 result를 1차원 new_result로 바꾸는 코드\n",
    "new_result=c() #비어있는 벡터\n",
    "for(i in 1:nrow(result)){ #nrow() 행의 수\n",
    "    for(j in 1:ncol(result)){ #ncol() 필드수\n",
    "        if(result[i,j]==1){ #[행,열] 값이 1이면\n",
    "            new_result[i] = j #새로운 리스트에 저장\n",
    "        }\n",
    "    }\n",
    "}"
   ]
  },
  {
   "cell_type": "code",
   "execution_count": 35,
   "metadata": {},
   "outputs": [
    {
     "data": {
      "text/html": [
       "<ol class=list-inline>\n",
       "\t<li>TRUE</li>\n",
       "\t<li>FALSE</li>\n",
       "\t<li>TRUE</li>\n",
       "\t<li>TRUE</li>\n",
       "\t<li>TRUE</li>\n",
       "\t<li>TRUE</li>\n",
       "\t<li>TRUE</li>\n",
       "\t<li>TRUE</li>\n",
       "\t<li>FALSE</li>\n",
       "\t<li>TRUE</li>\n",
       "\t<li>TRUE</li>\n",
       "\t<li>TRUE</li>\n",
       "\t<li>TRUE</li>\n",
       "\t<li>TRUE</li>\n",
       "\t<li>TRUE</li>\n",
       "\t<li>TRUE</li>\n",
       "\t<li>TRUE</li>\n",
       "\t<li>TRUE</li>\n",
       "\t<li>TRUE</li>\n",
       "</ol>\n"
      ],
      "text/latex": [
       "\\begin{enumerate*}\n",
       "\\item TRUE\n",
       "\\item FALSE\n",
       "\\item TRUE\n",
       "\\item TRUE\n",
       "\\item TRUE\n",
       "\\item TRUE\n",
       "\\item TRUE\n",
       "\\item TRUE\n",
       "\\item FALSE\n",
       "\\item TRUE\n",
       "\\item TRUE\n",
       "\\item TRUE\n",
       "\\item TRUE\n",
       "\\item TRUE\n",
       "\\item TRUE\n",
       "\\item TRUE\n",
       "\\item TRUE\n",
       "\\item TRUE\n",
       "\\item TRUE\n",
       "\\end{enumerate*}\n"
      ],
      "text/markdown": [
       "1. TRUE\n",
       "2. FALSE\n",
       "3. TRUE\n",
       "4. TRUE\n",
       "5. TRUE\n",
       "6. TRUE\n",
       "7. TRUE\n",
       "8. TRUE\n",
       "9. FALSE\n",
       "10. TRUE\n",
       "11. TRUE\n",
       "12. TRUE\n",
       "13. TRUE\n",
       "14. TRUE\n",
       "15. TRUE\n",
       "16. TRUE\n",
       "17. TRUE\n",
       "18. TRUE\n",
       "19. TRUE\n",
       "\n",
       "\n"
      ],
      "text/plain": [
       " [1]  TRUE FALSE  TRUE  TRUE  TRUE  TRUE  TRUE  TRUE FALSE  TRUE  TRUE  TRUE\n",
       "[13]  TRUE  TRUE  TRUE  TRUE  TRUE  TRUE  TRUE"
      ]
     },
     "metadata": {},
     "output_type": "display_data"
    }
   ],
   "source": [
    "y_test==new_result"
   ]
  },
  {
   "cell_type": "code",
   "execution_count": 36,
   "metadata": {},
   "outputs": [
    {
     "data": {
      "text/html": [
       "0.894736842105263"
      ],
      "text/latex": [
       "0.894736842105263"
      ],
      "text/markdown": [
       "0.894736842105263"
      ],
      "text/plain": [
       "[1] 0.8947368"
      ]
     },
     "metadata": {},
     "output_type": "display_data"
    }
   ],
   "source": [
    "mean(y_test==new_result)"
   ]
  },
  {
   "cell_type": "code",
   "execution_count": 37,
   "metadata": {},
   "outputs": [
    {
     "data": {
      "text/plain": [
       "      new_result\n",
       "y_test 1 2 3 4 5 6 7\n",
       "     1 7 0 0 0 0 0 0\n",
       "     2 0 5 0 0 0 0 0\n",
       "     3 0 0 1 0 0 0 0\n",
       "     4 0 0 0 2 0 0 0\n",
       "     5 0 0 0 0 1 0 0\n",
       "     6 0 0 0 0 0 1 2"
      ]
     },
     "metadata": {},
     "output_type": "display_data"
    }
   ],
   "source": [
    "table(y_test,new_result)"
   ]
  },
  {
   "cell_type": "code",
   "execution_count": null,
   "metadata": {},
   "outputs": [],
   "source": []
  },
  {
   "cell_type": "code",
   "execution_count": null,
   "metadata": {},
   "outputs": [],
   "source": []
  },
  {
   "cell_type": "code",
   "execution_count": null,
   "metadata": {},
   "outputs": [],
   "source": []
  },
  {
   "cell_type": "code",
   "execution_count": null,
   "metadata": {},
   "outputs": [],
   "source": []
  },
  {
   "cell_type": "code",
   "execution_count": null,
   "metadata": {},
   "outputs": [],
   "source": []
  }
 ],
 "metadata": {
  "kernelspec": {
   "display_name": "R",
   "language": "R",
   "name": "ir"
  },
  "language_info": {
   "codemirror_mode": "r",
   "file_extension": ".r",
   "mimetype": "text/x-r-source",
   "name": "R",
   "pygments_lexer": "r",
   "version": "3.6.1"
  }
 },
 "nbformat": 4,
 "nbformat_minor": 2
}
