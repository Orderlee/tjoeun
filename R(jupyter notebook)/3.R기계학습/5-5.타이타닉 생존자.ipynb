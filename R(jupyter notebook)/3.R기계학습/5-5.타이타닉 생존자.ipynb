{
 "cells": [
  {
   "cell_type": "code",
   "execution_count": 2,
   "metadata": {},
   "outputs": [
    {
     "data": {
      "text/html": [
       "<table>\n",
       "<thead><tr><th scope=col>Survived</th><th scope=col>Pclass</th><th scope=col>pclass1</th><th scope=col>plclass2</th><th scope=col>plcass3</th><th scope=col>Sex</th><th scope=col>male</th><th scope=col>female</th><th scope=col>Age</th><th scope=col>SibSp</th><th scope=col>Parch</th><th scope=col>Fare</th></tr></thead>\n",
       "<tbody>\n",
       "\t<tr><td>0      </td><td>3      </td><td>0      </td><td>0      </td><td>1      </td><td>male   </td><td>1      </td><td>0      </td><td>22     </td><td>1      </td><td>0      </td><td> 7.2500</td></tr>\n",
       "\t<tr><td>1      </td><td>1      </td><td>1      </td><td>0      </td><td>0      </td><td>female </td><td>0      </td><td>1      </td><td>38     </td><td>1      </td><td>0      </td><td>71.2833</td></tr>\n",
       "\t<tr><td>1      </td><td>3      </td><td>0      </td><td>0      </td><td>1      </td><td>female </td><td>0      </td><td>1      </td><td>26     </td><td>0      </td><td>0      </td><td> 7.9250</td></tr>\n",
       "\t<tr><td>1      </td><td>1      </td><td>1      </td><td>0      </td><td>0      </td><td>female </td><td>0      </td><td>1      </td><td>35     </td><td>1      </td><td>0      </td><td>53.1000</td></tr>\n",
       "\t<tr><td>0      </td><td>3      </td><td>0      </td><td>0      </td><td>1      </td><td>male   </td><td>1      </td><td>0      </td><td>35     </td><td>0      </td><td>0      </td><td> 8.0500</td></tr>\n",
       "\t<tr><td>0      </td><td>3      </td><td>0      </td><td>0      </td><td>1      </td><td>male   </td><td>1      </td><td>0      </td><td>30     </td><td>0      </td><td>0      </td><td> 8.4583</td></tr>\n",
       "</tbody>\n",
       "</table>\n"
      ],
      "text/latex": [
       "\\begin{tabular}{r|llllllllllll}\n",
       " Survived & Pclass & pclass1 & plclass2 & plcass3 & Sex & male & female & Age & SibSp & Parch & Fare\\\\\n",
       "\\hline\n",
       "\t 0       & 3       & 0       & 0       & 1       & male    & 1       & 0       & 22      & 1       & 0       &  7.2500\\\\\n",
       "\t 1       & 1       & 1       & 0       & 0       & female  & 0       & 1       & 38      & 1       & 0       & 71.2833\\\\\n",
       "\t 1       & 3       & 0       & 0       & 1       & female  & 0       & 1       & 26      & 0       & 0       &  7.9250\\\\\n",
       "\t 1       & 1       & 1       & 0       & 0       & female  & 0       & 1       & 35      & 1       & 0       & 53.1000\\\\\n",
       "\t 0       & 3       & 0       & 0       & 1       & male    & 1       & 0       & 35      & 0       & 0       &  8.0500\\\\\n",
       "\t 0       & 3       & 0       & 0       & 1       & male    & 1       & 0       & 30      & 0       & 0       &  8.4583\\\\\n",
       "\\end{tabular}\n"
      ],
      "text/markdown": [
       "\n",
       "| Survived | Pclass | pclass1 | plclass2 | plcass3 | Sex | male | female | Age | SibSp | Parch | Fare |\n",
       "|---|---|---|---|---|---|---|---|---|---|---|---|\n",
       "| 0       | 3       | 0       | 0       | 1       | male    | 1       | 0       | 22      | 1       | 0       |  7.2500 |\n",
       "| 1       | 1       | 1       | 0       | 0       | female  | 0       | 1       | 38      | 1       | 0       | 71.2833 |\n",
       "| 1       | 3       | 0       | 0       | 1       | female  | 0       | 1       | 26      | 0       | 0       |  7.9250 |\n",
       "| 1       | 1       | 1       | 0       | 0       | female  | 0       | 1       | 35      | 1       | 0       | 53.1000 |\n",
       "| 0       | 3       | 0       | 0       | 1       | male    | 1       | 0       | 35      | 0       | 0       |  8.0500 |\n",
       "| 0       | 3       | 0       | 0       | 1       | male    | 1       | 0       | 30      | 0       | 0       |  8.4583 |\n",
       "\n"
      ],
      "text/plain": [
       "  Survived Pclass pclass1 plclass2 plcass3 Sex    male female Age SibSp Parch\n",
       "1 0        3      0       0        1       male   1    0      22  1     0    \n",
       "2 1        1      1       0        0       female 0    1      38  1     0    \n",
       "3 1        3      0       0        1       female 0    1      26  0     0    \n",
       "4 1        1      1       0        0       female 0    1      35  1     0    \n",
       "5 0        3      0       0        1       male   1    0      35  0     0    \n",
       "6 0        3      0       0        1       male   1    0      30  0     0    \n",
       "  Fare   \n",
       "1  7.2500\n",
       "2 71.2833\n",
       "3  7.9250\n",
       "4 53.1000\n",
       "5  8.0500\n",
       "6  8.4583"
      ]
     },
     "metadata": {},
     "output_type": "display_data"
    }
   ],
   "source": [
    "df<-read.csv('d:/data/titanic/train3.csv')\n",
    "head(df)"
   ]
  },
  {
   "cell_type": "code",
   "execution_count": 3,
   "metadata": {},
   "outputs": [
    {
     "name": "stderr",
     "output_type": "stream",
     "text": [
      "Warning message:\n",
      "\"package 'dplyr' was built under R version 3.6.2\"\n",
      "Attaching package: 'dplyr'\n",
      "\n",
      "The following objects are masked from 'package:stats':\n",
      "\n",
      "    filter, lag\n",
      "\n",
      "The following objects are masked from 'package:base':\n",
      "\n",
      "    intersect, setdiff, setequal, union\n",
      "\n"
     ]
    },
    {
     "data": {
      "text/html": [
       "<ol class=list-inline>\n",
       "\t<li>891</li>\n",
       "\t<li>10</li>\n",
       "</ol>\n"
      ],
      "text/latex": [
       "\\begin{enumerate*}\n",
       "\\item 891\n",
       "\\item 10\n",
       "\\end{enumerate*}\n"
      ],
      "text/markdown": [
       "1. 891\n",
       "2. 10\n",
       "\n",
       "\n"
      ],
      "text/plain": [
       "[1] 891  10"
      ]
     },
     "metadata": {},
     "output_type": "display_data"
    },
    {
     "data": {
      "text/html": [
       "<table>\n",
       "<thead><tr><th scope=col>Survived</th><th scope=col>pclass1</th><th scope=col>plclass2</th><th scope=col>plcass3</th><th scope=col>male</th><th scope=col>female</th><th scope=col>Age</th><th scope=col>SibSp</th><th scope=col>Parch</th><th scope=col>Fare</th></tr></thead>\n",
       "<tbody>\n",
       "\t<tr><td>0      </td><td>0      </td><td>0      </td><td>1      </td><td>1      </td><td>0      </td><td>22     </td><td>1      </td><td>0      </td><td> 7.2500</td></tr>\n",
       "\t<tr><td>1      </td><td>1      </td><td>0      </td><td>0      </td><td>0      </td><td>1      </td><td>38     </td><td>1      </td><td>0      </td><td>71.2833</td></tr>\n",
       "\t<tr><td>1      </td><td>0      </td><td>0      </td><td>1      </td><td>0      </td><td>1      </td><td>26     </td><td>0      </td><td>0      </td><td> 7.9250</td></tr>\n",
       "\t<tr><td>1      </td><td>1      </td><td>0      </td><td>0      </td><td>0      </td><td>1      </td><td>35     </td><td>1      </td><td>0      </td><td>53.1000</td></tr>\n",
       "\t<tr><td>0      </td><td>0      </td><td>0      </td><td>1      </td><td>1      </td><td>0      </td><td>35     </td><td>0      </td><td>0      </td><td> 8.0500</td></tr>\n",
       "\t<tr><td>0      </td><td>0      </td><td>0      </td><td>1      </td><td>1      </td><td>0      </td><td>30     </td><td>0      </td><td>0      </td><td> 8.4583</td></tr>\n",
       "</tbody>\n",
       "</table>\n"
      ],
      "text/latex": [
       "\\begin{tabular}{r|llllllllll}\n",
       " Survived & pclass1 & plclass2 & plcass3 & male & female & Age & SibSp & Parch & Fare\\\\\n",
       "\\hline\n",
       "\t 0       & 0       & 0       & 1       & 1       & 0       & 22      & 1       & 0       &  7.2500\\\\\n",
       "\t 1       & 1       & 0       & 0       & 0       & 1       & 38      & 1       & 0       & 71.2833\\\\\n",
       "\t 1       & 0       & 0       & 1       & 0       & 1       & 26      & 0       & 0       &  7.9250\\\\\n",
       "\t 1       & 1       & 0       & 0       & 0       & 1       & 35      & 1       & 0       & 53.1000\\\\\n",
       "\t 0       & 0       & 0       & 1       & 1       & 0       & 35      & 0       & 0       &  8.0500\\\\\n",
       "\t 0       & 0       & 0       & 1       & 1       & 0       & 30      & 0       & 0       &  8.4583\\\\\n",
       "\\end{tabular}\n"
      ],
      "text/markdown": [
       "\n",
       "| Survived | pclass1 | plclass2 | plcass3 | male | female | Age | SibSp | Parch | Fare |\n",
       "|---|---|---|---|---|---|---|---|---|---|\n",
       "| 0       | 0       | 0       | 1       | 1       | 0       | 22      | 1       | 0       |  7.2500 |\n",
       "| 1       | 1       | 0       | 0       | 0       | 1       | 38      | 1       | 0       | 71.2833 |\n",
       "| 1       | 0       | 0       | 1       | 0       | 1       | 26      | 0       | 0       |  7.9250 |\n",
       "| 1       | 1       | 0       | 0       | 0       | 1       | 35      | 1       | 0       | 53.1000 |\n",
       "| 0       | 0       | 0       | 1       | 1       | 0       | 35      | 0       | 0       |  8.0500 |\n",
       "| 0       | 0       | 0       | 1       | 1       | 0       | 30      | 0       | 0       |  8.4583 |\n",
       "\n"
      ],
      "text/plain": [
       "  Survived pclass1 plclass2 plcass3 male female Age SibSp Parch Fare   \n",
       "1 0        0       0        1       1    0      22  1     0      7.2500\n",
       "2 1        1       0        0       0    1      38  1     0     71.2833\n",
       "3 1        0       0        1       0    1      26  0     0      7.9250\n",
       "4 1        1       0        0       0    1      35  1     0     53.1000\n",
       "5 0        0       0        1       1    0      35  0     0      8.0500\n",
       "6 0        0       0        1       1    0      30  0     0      8.4583"
      ]
     },
     "metadata": {},
     "output_type": "display_data"
    }
   ],
   "source": [
    "library(dplyr)\n",
    "df<-df %>% select(-Pclass,-Sex) #분석에 사용하지 않는 필드 제외\n",
    "dim(df)\n",
    "head(df)"
   ]
  },
  {
   "cell_type": "code",
   "execution_count": 4,
   "metadata": {},
   "outputs": [],
   "source": [
    "#(corrmatrix <- cor(df))"
   ]
  },
  {
   "cell_type": "code",
   "execution_count": 5,
   "metadata": {},
   "outputs": [],
   "source": [
    "#library(corrplot)\n",
    "#corrplot(cor(df),method='circle')"
   ]
  },
  {
   "cell_type": "code",
   "execution_count": 6,
   "metadata": {},
   "outputs": [
    {
     "data": {
      "text/plain": [
       "\n",
       "  0   1 \n",
       "549 342 "
      ]
     },
     "metadata": {},
     "output_type": "display_data"
    },
    {
     "data": {
      "image/png": "[encoded data removed]",
      "text/plain": [
       "plot without title"
      ]
     },
     "metadata": {},
     "output_type": "display_data"
    }
   ],
   "source": [
    "(tbl<-table(df$Survived))\n",
    "barplot(tbl,beside=T,legend=T,col=rainbow(2))"
   ]
  },
  {
   "cell_type": "code",
   "execution_count": 7,
   "metadata": {},
   "outputs": [
    {
     "name": "stderr",
     "output_type": "stream",
     "text": [
      "Warning message:\n",
      "\"package 'ROSE' was built under R version 3.6.2\"Loaded ROSE 0.0-3\n",
      "\n"
     ]
    },
    {
     "data": {
      "text/plain": [
       "\n",
       "  0   1 \n",
       "342 342 "
      ]
     },
     "metadata": {},
     "output_type": "display_data"
    }
   ],
   "source": [
    "library(ROSE)\n",
    "df_samp<-ovun.sample(Survived ~. , data=df, seed=1,\n",
    "                    method='under',N=342*2)$data\n",
    "(tbl<-table(df_samp$Survived))"
   ]
  },
  {
   "cell_type": "code",
   "execution_count": 8,
   "metadata": {},
   "outputs": [
    {
     "name": "stderr",
     "output_type": "stream",
     "text": [
      "Loading required package: lattice\n",
      "Warning message:\n",
      "\"package 'lattice' was built under R version 3.6.2\"Loading required package: ggplot2\n",
      "Warning message:\n",
      "\"package 'ggplot2' was built under R version 3.6.2\""
     ]
    }
   ],
   "source": [
    "library(caret)\n",
    "set.seed(123)\n",
    "#학습용:검증용 8:2\n",
    "idx_train<-createDataPartition(y=df_samp$Survived, p=0.8, list=F)\n",
    "train <-df_samp[idx_train,]\n",
    "X_train <- train[,-1]\n",
    "y_train<-train[,1]\n",
    "test<-df_samp[-idx_train,]\n",
    "X_test<-test[,-1]\n",
    "y_test<-test[,1]"
   ]
  },
  {
   "cell_type": "code",
   "execution_count": 9,
   "metadata": {},
   "outputs": [
    {
     "name": "stderr",
     "output_type": "stream",
     "text": [
      "Warning message:\n",
      "\"package 'party' was built under R version 3.6.2\"Loading required package: grid\n",
      "Loading required package: mvtnorm\n",
      "Warning message:\n",
      "\"package 'mvtnorm' was built under R version 3.6.2\"Loading required package: modeltools\n",
      "Loading required package: stats4\n",
      "Loading required package: strucchange\n",
      "Warning message:\n",
      "\"package 'strucchange' was built under R version 3.6.2\"Loading required package: zoo\n",
      "Warning message:\n",
      "\"package 'zoo' was built under R version 3.6.2\"\n",
      "Attaching package: 'zoo'\n",
      "\n",
      "The following objects are masked from 'package:base':\n",
      "\n",
      "    as.Date, as.Date.numeric\n",
      "\n",
      "Loading required package: sandwich\n",
      "Warning message:\n",
      "\"package 'sandwich' was built under R version 3.6.2\""
     ]
    },
    {
     "data": {
      "text/plain": [
       "\n",
       "\t Conditional inference tree with 7 terminal nodes\n",
       "\n",
       "Response:  Survived \n",
       "Inputs:  pclass1, plclass2, plcass3, male, female, Age, SibSp, Parch, Fare \n",
       "Number of observations:  548 \n",
       "\n",
       "1) male <= 0; criterion = 1, statistic = 152.851\n",
       "  2) plcass3 <= 0; criterion = 1, statistic = 34.768\n",
       "    3)*  weights = 132 \n",
       "  2) plcass3 > 0\n",
       "    4) Fare <= 23.25; criterion = 0.994, statistic = 11.541\n",
       "      5)*  weights = 76 \n",
       "    4) Fare > 23.25\n",
       "      6)*  weights = 12 \n",
       "1) male > 0\n",
       "  7) pclass1 <= 0; criterion = 1, statistic = 16.523\n",
       "    8) Age <= 12; criterion = 1, statistic = 21.691\n",
       "      9) SibSp <= 1; criterion = 1, statistic = 18.362\n",
       "        10)*  weights = 15 \n",
       "      9) SibSp > 1\n",
       "        11)*  weights = 7 \n",
       "    8) Age > 12\n",
       "      12)*  weights = 220 \n",
       "  7) pclass1 > 0\n",
       "    13)*  weights = 86 "
      ]
     },
     "metadata": {},
     "output_type": "display_data"
    }
   ],
   "source": [
    "library(party)\n",
    "model <- ctree(Survived ~ . , data=train)\n",
    "model"
   ]
  },
  {
   "cell_type": "code",
   "execution_count": 10,
   "metadata": {},
   "outputs": [
    {
     "data": {
      "image/png": "[encoded data removed]",
      "text/plain": [
       "plot without title"
      ]
     },
     "metadata": {},
     "output_type": "display_data"
    }
   ],
   "source": [
    "plot(model)"
   ]
  },
  {
   "cell_type": "code",
   "execution_count": 12,
   "metadata": {},
   "outputs": [
    {
     "data": {
      "image/png": "[encoded data removed]",
      "text/plain": [
       "plot without title"
      ]
     },
     "metadata": {},
     "output_type": "display_data"
    }
   ],
   "source": [
    "plot(model,type='simple')\n",
    "#여성 /1,2등석 ->94.7%\n",
    "#여성 /3등석 / 요금 23이하 -> 73.7% 생존\n",
    "#여성 /3등석 / 요금 23초과 -> 사망\n",
    "#남성 /1등석 -> 43% 생존\n",
    "#남성 /2,3등석 /12세 초과 -> 17%생존\n",
    "#남성 / 2,3등석 /12세 이하 -> 17%생존\n",
    "#남성 /2,3등석 /12세 이하 "
   ]
  },
  {
   "cell_type": "code",
   "execution_count": 47,
   "metadata": {},
   "outputs": [
    {
     "data": {
      "text/html": [
       "0.808394160583942"
      ],
      "text/latex": [
       "0.808394160583942"
      ],
      "text/markdown": [
       "0.808394160583942"
      ],
      "text/plain": [
       "[1] 0.8083942"
      ]
     },
     "metadata": {},
     "output_type": "display_data"
    },
    {
     "data": {
      "text/plain": [
       "       result\n",
       "y_train   0   1\n",
       "      0 247  27\n",
       "      1  78 196"
      ]
     },
     "metadata": {},
     "output_type": "display_data"
    }
   ],
   "source": [
    "#학습용 데이터셋의 예측 정확도 : 80.8%\n",
    "pred<-predict(model, newdata=X_train, type='response')\n",
    "result<-round(pred)\n",
    "mean(y_train == result)\n",
    "table(y_train, result)"
   ]
  },
  {
   "cell_type": "code",
   "execution_count": 49,
   "metadata": {},
   "outputs": [
    {
     "data": {
      "text/html": [
       "0.838235294117647"
      ],
      "text/latex": [
       "0.838235294117647"
      ],
      "text/markdown": [
       "0.838235294117647"
      ],
      "text/plain": [
       "[1] 0.8382353"
      ]
     },
     "metadata": {},
     "output_type": "display_data"
    },
    {
     "data": {
      "text/plain": [
       "      result\n",
       "y_test  0  1\n",
       "     0 64  4\n",
       "     1 18 50"
      ]
     },
     "metadata": {},
     "output_type": "display_data"
    }
   ],
   "source": [
    "#검증용 데이터셋 예측 정확도:  83.3%\n",
    "pred<-predict(model, newdata=X_test, type='response')\n",
    "result<-round(pred)\n",
    "mean(y_test == result)\n",
    "table(y_test, result)"
   ]
  },
  {
   "cell_type": "code",
   "execution_count": 51,
   "metadata": {},
   "outputs": [
    {
     "name": "stderr",
     "output_type": "stream",
     "text": [
      "randomForest 4.6-14\n",
      "Type rfNews() to see new features/changes/bug fixes.\n",
      "\n",
      "Attaching package: 'randomForest'\n",
      "\n",
      "The following object is masked from 'package:ggplot2':\n",
      "\n",
      "    margin\n",
      "\n",
      "The following object is masked from 'package:dplyr':\n",
      "\n",
      "    combine\n",
      "\n",
      "Warning message in randomForest.default(m, y, ...):\n",
      "\"The response has five or fewer unique values.  Are you sure you want to do regression?\""
     ]
    },
    {
     "data": {
      "text/plain": [
       "\n",
       "Call:\n",
       " randomForest(formula = Survived ~ ., data = train, mtry = floor(sqrt(ncol(train))),      ntree = 100, importance = T) \n",
       "               Type of random forest: regression\n",
       "                     Number of trees: 100\n",
       "No. of variables tried at each split: 3\n",
       "\n",
       "          Mean of squared residuals: 0.1398204\n",
       "                    % Var explained: 44.07"
      ]
     },
     "metadata": {},
     "output_type": "display_data"
    }
   ],
   "source": [
    "library(randomForest)\n",
    "set.seed(1)\n",
    "model<-randomForest(Survived ~ . , data=train,\n",
    "                   mtry=floor(sqrt(ncol(train))), ntree=100,\n",
    "                   importance=T)\n",
    "model"
   ]
  },
  {
   "cell_type": "code",
   "execution_count": 52,
   "metadata": {},
   "outputs": [
    {
     "data": {
      "text/html": [
       "0.89051094890511"
      ],
      "text/latex": [
       "0.89051094890511"
      ],
      "text/markdown": [
       "0.89051094890511"
      ],
      "text/plain": [
       "[1] 0.8905109"
      ]
     },
     "metadata": {},
     "output_type": "display_data"
    },
    {
     "data": {
      "text/plain": [
       "       result\n",
       "y_train   0   1\n",
       "      0 250  24\n",
       "      1  36 238"
      ]
     },
     "metadata": {},
     "output_type": "display_data"
    }
   ],
   "source": [
    "#학습용 데이터셋의 예측 정확도 : 80.8%\n",
    "pred<-predict(model, newdata=X_train, type='response')\n",
    "result<-round(pred)\n",
    "mean(y_train == result)\n",
    "table(y_train, result)"
   ]
  },
  {
   "cell_type": "code",
   "execution_count": 53,
   "metadata": {},
   "outputs": [
    {
     "data": {
      "text/html": [
       "0.830882352941177"
      ],
      "text/latex": [
       "0.830882352941177"
      ],
      "text/markdown": [
       "0.830882352941177"
      ],
      "text/plain": [
       "[1] 0.8308824"
      ]
     },
     "metadata": {},
     "output_type": "display_data"
    },
    {
     "data": {
      "text/plain": [
       "      result\n",
       "y_test  0  1\n",
       "     0 60  8\n",
       "     1 15 53"
      ]
     },
     "metadata": {},
     "output_type": "display_data"
    }
   ],
   "source": [
    "#검증용 데이터셋 예측 정확도:  83.3%\n",
    "pred<-predict(model, newdata=X_test, type='response')\n",
    "result<-round(pred)\n",
    "mean(y_test == result)\n",
    "table(y_test, result)"
   ]
  },
  {
   "cell_type": "code",
   "execution_count": 54,
   "metadata": {},
   "outputs": [
    {
     "data": {
      "text/html": [
       "<table>\n",
       "<thead><tr><th></th><th scope=col>%IncMSE</th><th scope=col>IncNodePurity</th></tr></thead>\n",
       "<tbody>\n",
       "\t<tr><th scope=row>pclass1</th><td> 6.551253</td><td> 2.724934</td></tr>\n",
       "\t<tr><th scope=row>plclass2</th><td> 6.260059</td><td> 1.296281</td></tr>\n",
       "\t<tr><th scope=row>plcass3</th><td> 9.525925</td><td> 4.818527</td></tr>\n",
       "\t<tr><th scope=row>male</th><td> 8.695620</td><td>13.319235</td></tr>\n",
       "\t<tr><th scope=row>female</th><td>13.232231</td><td>20.830229</td></tr>\n",
       "\t<tr><th scope=row>Age</th><td>13.562405</td><td>17.648028</td></tr>\n",
       "\t<tr><th scope=row>SibSp</th><td> 7.084962</td><td> 5.305426</td></tr>\n",
       "\t<tr><th scope=row>Parch</th><td> 6.577435</td><td> 3.571427</td></tr>\n",
       "\t<tr><th scope=row>Fare</th><td>13.831182</td><td>19.427403</td></tr>\n",
       "</tbody>\n",
       "</table>\n"
      ],
      "text/latex": [
       "\\begin{tabular}{r|ll}\n",
       "  & \\%IncMSE & IncNodePurity\\\\\n",
       "\\hline\n",
       "\tpclass1 &  6.551253 &  2.724934\\\\\n",
       "\tplclass2 &  6.260059 &  1.296281\\\\\n",
       "\tplcass3 &  9.525925 &  4.818527\\\\\n",
       "\tmale &  8.695620 & 13.319235\\\\\n",
       "\tfemale & 13.232231 & 20.830229\\\\\n",
       "\tAge & 13.562405 & 17.648028\\\\\n",
       "\tSibSp &  7.084962 &  5.305426\\\\\n",
       "\tParch &  6.577435 &  3.571427\\\\\n",
       "\tFare & 13.831182 & 19.427403\\\\\n",
       "\\end{tabular}\n"
      ],
      "text/markdown": [
       "\n",
       "| <!--/--> | %IncMSE | IncNodePurity |\n",
       "|---|---|---|\n",
       "| pclass1 |  6.551253 |  2.724934 |\n",
       "| plclass2 |  6.260059 |  1.296281 |\n",
       "| plcass3 |  9.525925 |  4.818527 |\n",
       "| male |  8.695620 | 13.319235 |\n",
       "| female | 13.232231 | 20.830229 |\n",
       "| Age | 13.562405 | 17.648028 |\n",
       "| SibSp |  7.084962 |  5.305426 |\n",
       "| Parch |  6.577435 |  3.571427 |\n",
       "| Fare | 13.831182 | 19.427403 |\n",
       "\n"
      ],
      "text/plain": [
       "         %IncMSE   IncNodePurity\n",
       "pclass1   6.551253  2.724934    \n",
       "plclass2  6.260059  1.296281    \n",
       "plcass3   9.525925  4.818527    \n",
       "male      8.695620 13.319235    \n",
       "female   13.232231 20.830229    \n",
       "Age      13.562405 17.648028    \n",
       "SibSp     7.084962  5.305426    \n",
       "Parch     6.577435  3.571427    \n",
       "Fare     13.831182 19.427403    "
      ]
     },
     "metadata": {},
     "output_type": "display_data"
    }
   ],
   "source": [
    "importance(model) #변수의 정확도와 중요도"
   ]
  },
  {
   "cell_type": "code",
   "execution_count": 55,
   "metadata": {},
   "outputs": [
    {
     "data": {
      "image/png": "[encoded data removed]",
      "text/plain": [
       "plot without title"
      ]
     },
     "metadata": {},
     "output_type": "display_data"
    }
   ],
   "source": [
    "varImpPlot(model)"
   ]
  },
  {
   "cell_type": "code",
   "execution_count": null,
   "metadata": {},
   "outputs": [],
   "source": []
  }
 ],
 "metadata": {
  "kernelspec": {
   "display_name": "R",
   "language": "R",
   "name": "ir"
  },
  "language_info": {
   "codemirror_mode": "r",
   "file_extension": ".r",
   "mimetype": "text/x-r-source",
   "name": "R",
   "pygments_lexer": "r",
   "version": "3.6.1"
  }
 },
 "nbformat": 4,
 "nbformat_minor": 2
}
