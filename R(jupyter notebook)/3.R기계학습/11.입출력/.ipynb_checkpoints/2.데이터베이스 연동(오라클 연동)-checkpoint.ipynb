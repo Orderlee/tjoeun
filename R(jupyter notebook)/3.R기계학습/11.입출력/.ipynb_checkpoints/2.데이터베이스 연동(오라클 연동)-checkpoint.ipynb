{
 "cells": [
  {
   "cell_type": "code",
   "execution_count": 1,
   "metadata": {},
   "outputs": [
    {
     "name": "stderr",
     "output_type": "stream",
     "text": [
      "Installing package into 'C:/Users/tjoeun302-18/Documents/R/win-library/3.6'\n",
      "(as 'lib' is unspecified)\n"
     ]
    },
    {
     "name": "stdout",
     "output_type": "stream",
     "text": [
      "package 'DBI' successfully unpacked and MD5 sums checked\n",
      "\n",
      "The downloaded binary packages are in\n",
      "\tC:\\Users\\tjoeun302-18\\AppData\\Local\\Temp\\RtmpyIprOB\\downloaded_packages\n"
     ]
    },
    {
     "name": "stderr",
     "output_type": "stream",
     "text": [
      "Installing package into 'C:/Users/tjoeun302-18/Documents/R/win-library/3.6'\n",
      "(as 'lib' is unspecified)\n"
     ]
    },
    {
     "name": "stdout",
     "output_type": "stream",
     "text": [
      "package 'RJDBC' successfully unpacked and MD5 sums checked\n",
      "\n",
      "The downloaded binary packages are in\n",
      "\tC:\\Users\\tjoeun302-18\\AppData\\Local\\Temp\\RtmpyIprOB\\downloaded_packages\n"
     ]
    }
   ],
   "source": [
    "# install.packages(\"DBI\")\n",
    "# install.packages(\"RJDBC\")"
   ]
  },
  {
   "cell_type": "code",
   "execution_count": 27,
   "metadata": {},
   "outputs": [],
   "source": [
    "library(rJava)\n",
    "library(xlsx)"
   ]
  },
  {
   "cell_type": "code",
   "execution_count": 6,
   "metadata": {},
   "outputs": [],
   "source": [
    "#패키지 로딩\n",
    "library(DBI)\n",
    "#java home directory 지정\n",
    "Sys.setenv(JAVA_HOME='C:/Program Files/Java/jre1.8.0_241')\n",
    "library(rJava)\n",
    "library(RJDBC)"
   ]
  },
  {
   "cell_type": "code",
   "execution_count": 7,
   "metadata": {},
   "outputs": [],
   "source": [
    "drv<-JDBC('oracle.jdbc.driver.OracleDriver',\n",
    "         'C:/oraclexe/app/oracle/product/11.2.0/server/jdbc/lib/ojdbc6.jar')\n"
   ]
  },
  {
   "cell_type": "code",
   "execution_count": 9,
   "metadata": {},
   "outputs": [
    {
     "data": {
      "text/html": [
       "<table>\n",
       "<thead><tr><th scope=col>TNAME</th><th scope=col>TABTYPE</th><th scope=col>CLUSTERID</th></tr></thead>\n",
       "<tbody>\n",
       "\t<tr><td>BIN$05pbGM4vQkClprOgdWIHaQ==$0</td><td>TABLE                         </td><td>NA                            </td></tr>\n",
       "\t<tr><td>BIN$1vVoEovkSAm9ITNg4oNG5w==$0</td><td>TABLE                         </td><td>NA                            </td></tr>\n",
       "\t<tr><td>BIN$CPccZdIxS/ys0dC/NWMeGw==$0</td><td>TABLE                         </td><td>NA                            </td></tr>\n",
       "\t<tr><td>BIN$D3NxNBxiRz+7J1/uqSZehg==$0</td><td>TABLE                         </td><td>NA                            </td></tr>\n",
       "\t<tr><td>BIN$E6HFxsX7RX+I6Et3JkGF2w==$0</td><td>TABLE                         </td><td>NA                            </td></tr>\n",
       "\t<tr><td>BIN$Ecdo5CWHRGegfNIm1MjqYA==$0</td><td>TABLE                         </td><td>NA                            </td></tr>\n",
       "\t<tr><td>BIN$F/0Clz1HTh20VD74el2fFw==$0</td><td>TABLE                         </td><td>NA                            </td></tr>\n",
       "\t<tr><td>BIN$F0gB39fYQRiJf1ENHNYZ5w==$0</td><td>TABLE                         </td><td>NA                            </td></tr>\n",
       "\t<tr><td>BIN$GeVE0gOURkywwdsr+uFadw==$0</td><td>TABLE                         </td><td>NA                            </td></tr>\n",
       "\t<tr><td>BIN$HLLoHhcTQg+dVZKw50rFQA==$0</td><td>TABLE                         </td><td>NA                            </td></tr>\n",
       "\t<tr><td>BIN$KEw9rSivQH+XxO3QNX+uaw==$0</td><td>TABLE                         </td><td>NA                            </td></tr>\n",
       "\t<tr><td>BIN$OBrzNfxsRA6gKvvRpzvTuA==$0</td><td>TABLE                         </td><td>NA                            </td></tr>\n",
       "\t<tr><td>BIN$PGC55lIDSEWTF/5gyTRZJg==$0</td><td>TABLE                         </td><td>NA                            </td></tr>\n",
       "\t<tr><td>BIN$PYr0/uEiTVq7KsAFUaKRAQ==$0</td><td>TABLE                         </td><td>NA                            </td></tr>\n",
       "\t<tr><td>BIN$RZYrBxyaQTuIb8pCQ/77Tw==$0</td><td>TABLE                         </td><td>NA                            </td></tr>\n",
       "\t<tr><td>BIN$TXrClk74QhKgni7MqvY3CQ==$0</td><td>TABLE                         </td><td>NA                            </td></tr>\n",
       "\t<tr><td>BIN$TqzVvxYlQJimQrSCb+DX4g==$0</td><td>TABLE                         </td><td>NA                            </td></tr>\n",
       "\t<tr><td>BIN$UANlK5A1QYWM9NSQzy2DnA==$0</td><td>TABLE                         </td><td>NA                            </td></tr>\n",
       "\t<tr><td>BIN$UWRnGrv4QXaH8KoYjQ8Fsg==$0</td><td>TABLE                         </td><td>NA                            </td></tr>\n",
       "\t<tr><td>BIN$WW7MBPaPQbOfAZZlDod0Cw==$0</td><td>TABLE                         </td><td>NA                            </td></tr>\n",
       "\t<tr><td>BIN$XHjH0gwpTX2kmU5l0nE2Pg==$0</td><td>TABLE                         </td><td>NA                            </td></tr>\n",
       "\t<tr><td>BIN$Xbd3bmr0QVKapQ9XqO21CQ==$0</td><td>TABLE                         </td><td>NA                            </td></tr>\n",
       "\t<tr><td>BIN$YMm6vPc6TDGXPmTXxEvLPA==$0</td><td>TABLE                         </td><td>NA                            </td></tr>\n",
       "\t<tr><td>BIN$bCSh0u6WQDKz1iMGFP7uBg==$0</td><td>TABLE                         </td><td>NA                            </td></tr>\n",
       "\t<tr><td>BIN$d8KMgZW4RMi8AOR1++YuHw==$0</td><td>TABLE                         </td><td>NA                            </td></tr>\n",
       "\t<tr><td>BIN$ifcXVYdzQDWyyLw9CsEOvA==$0</td><td>TABLE                         </td><td>NA                            </td></tr>\n",
       "\t<tr><td>BIN$j4/RHVMeQdyQwHshhXSvzg==$0</td><td>TABLE                         </td><td>NA                            </td></tr>\n",
       "\t<tr><td>BIN$jq0CsRnLTcqqzNCBUf6ncw==$0</td><td>TABLE                         </td><td>NA                            </td></tr>\n",
       "\t<tr><td>BIN$kNNRuV/3Qm6tINvGWmBi4Q==$0</td><td>TABLE                         </td><td>NA                            </td></tr>\n",
       "\t<tr><td>BIN$o/QblShRQ9yPPakkfdaZtQ==$0</td><td>TABLE                         </td><td>NA                            </td></tr>\n",
       "\t<tr><td>...</td><td>...</td><td>...</td></tr>\n",
       "\t<tr><td>LOCATIONS      </td><td>TABLE          </td><td>NA             </td></tr>\n",
       "\t<tr><td>MEMBER         </td><td>TABLE          </td><td>NA             </td></tr>\n",
       "\t<tr><td>MEMO           </td><td>TABLE          </td><td>NA             </td></tr>\n",
       "\t<tr><td>MYDEPT         </td><td>TABLE          </td><td>NA             </td></tr>\n",
       "\t<tr><td>MYEMP          </td><td>TABLE          </td><td>NA             </td></tr>\n",
       "\t<tr><td>PANMAE         </td><td>TABLE          </td><td>NA             </td></tr>\n",
       "\t<tr><td>POINT          </td><td>TABLE          </td><td>NA             </td></tr>\n",
       "\t<tr><td>PRODUCT        </td><td>TABLE          </td><td>NA             </td></tr>\n",
       "\t<tr><td>PRODUCT_SALES  </td><td>TABLE          </td><td>NA             </td></tr>\n",
       "\t<tr><td>PROFESSOR      </td><td>TABLE          </td><td>NA             </td></tr>\n",
       "\t<tr><td>PT_01          </td><td>TABLE          </td><td>NA             </td></tr>\n",
       "\t<tr><td>PT_02          </td><td>TABLE          </td><td>NA             </td></tr>\n",
       "\t<tr><td>P_01           </td><td>TABLE          </td><td>NA             </td></tr>\n",
       "\t<tr><td>P_02           </td><td>TABLE          </td><td>NA             </td></tr>\n",
       "\t<tr><td>P_GRADE        </td><td>TABLE          </td><td>NA             </td></tr>\n",
       "\t<tr><td>P_TOTAL        </td><td>TABLE          </td><td>NA             </td></tr>\n",
       "\t<tr><td>REGIONS        </td><td>TABLE          </td><td>NA             </td></tr>\n",
       "\t<tr><td>REG_TEST       </td><td>TABLE          </td><td>NA             </td></tr>\n",
       "\t<tr><td>SALARY         </td><td>TABLE          </td><td>NA             </td></tr>\n",
       "\t<tr><td>SCORE          </td><td>TABLE          </td><td>NA             </td></tr>\n",
       "\t<tr><td>SCORE_V        </td><td>VIEW           </td><td>NA             </td></tr>\n",
       "\t<tr><td>STUDENT        </td><td>TABLE          </td><td>NA             </td></tr>\n",
       "\t<tr><td>STUDENT_V      </td><td>VIEW           </td><td>NA             </td></tr>\n",
       "\t<tr><td>SUBJECT        </td><td>TABLE          </td><td>NA             </td></tr>\n",
       "\t<tr><td>T1             </td><td>TABLE          </td><td>NA             </td></tr>\n",
       "\t<tr><td>TEST_ENABLE    </td><td>TABLE          </td><td>NA             </td></tr>\n",
       "\t<tr><td>TEST_NOVALIDATE</td><td>TABLE          </td><td>NA             </td></tr>\n",
       "\t<tr><td>TEST_VALIDATE  </td><td>TABLE          </td><td>NA             </td></tr>\n",
       "\t<tr><td>TEST_VIEW      </td><td>VIEW           </td><td>NA             </td></tr>\n",
       "\t<tr><td>T_EMP          </td><td>TABLE          </td><td>NA             </td></tr>\n",
       "</tbody>\n",
       "</table>\n"
      ],
      "text/latex": [
       "\\begin{tabular}{r|lll}\n",
       " TNAME & TABTYPE & CLUSTERID\\\\\n",
       "\\hline\n",
       "\t BIN\\$05pbGM4vQkClprOgdWIHaQ==\\$0 & TABLE                              & NA                                \\\\\n",
       "\t BIN\\$1vVoEovkSAm9ITNg4oNG5w==\\$0 & TABLE                              & NA                                \\\\\n",
       "\t BIN\\$CPccZdIxS/ys0dC/NWMeGw==\\$0 & TABLE                              & NA                                \\\\\n",
       "\t BIN\\$D3NxNBxiRz+7J1/uqSZehg==\\$0 & TABLE                              & NA                                \\\\\n",
       "\t BIN\\$E6HFxsX7RX+I6Et3JkGF2w==\\$0 & TABLE                              & NA                                \\\\\n",
       "\t BIN\\$Ecdo5CWHRGegfNIm1MjqYA==\\$0 & TABLE                              & NA                                \\\\\n",
       "\t BIN\\$F/0Clz1HTh20VD74el2fFw==\\$0 & TABLE                              & NA                                \\\\\n",
       "\t BIN\\$F0gB39fYQRiJf1ENHNYZ5w==\\$0 & TABLE                              & NA                                \\\\\n",
       "\t BIN\\$GeVE0gOURkywwdsr+uFadw==\\$0 & TABLE                              & NA                                \\\\\n",
       "\t BIN\\$HLLoHhcTQg+dVZKw50rFQA==\\$0 & TABLE                              & NA                                \\\\\n",
       "\t BIN\\$KEw9rSivQH+XxO3QNX+uaw==\\$0 & TABLE                              & NA                                \\\\\n",
       "\t BIN\\$OBrzNfxsRA6gKvvRpzvTuA==\\$0 & TABLE                              & NA                                \\\\\n",
       "\t BIN\\$PGC55lIDSEWTF/5gyTRZJg==\\$0 & TABLE                              & NA                                \\\\\n",
       "\t BIN\\$PYr0/uEiTVq7KsAFUaKRAQ==\\$0 & TABLE                              & NA                                \\\\\n",
       "\t BIN\\$RZYrBxyaQTuIb8pCQ/77Tw==\\$0 & TABLE                              & NA                                \\\\\n",
       "\t BIN\\$TXrClk74QhKgni7MqvY3CQ==\\$0 & TABLE                              & NA                                \\\\\n",
       "\t BIN\\$TqzVvxYlQJimQrSCb+DX4g==\\$0 & TABLE                              & NA                                \\\\\n",
       "\t BIN\\$UANlK5A1QYWM9NSQzy2DnA==\\$0 & TABLE                              & NA                                \\\\\n",
       "\t BIN\\$UWRnGrv4QXaH8KoYjQ8Fsg==\\$0 & TABLE                              & NA                                \\\\\n",
       "\t BIN\\$WW7MBPaPQbOfAZZlDod0Cw==\\$0 & TABLE                              & NA                                \\\\\n",
       "\t BIN\\$XHjH0gwpTX2kmU5l0nE2Pg==\\$0 & TABLE                              & NA                                \\\\\n",
       "\t BIN\\$Xbd3bmr0QVKapQ9XqO21CQ==\\$0 & TABLE                              & NA                                \\\\\n",
       "\t BIN\\$YMm6vPc6TDGXPmTXxEvLPA==\\$0 & TABLE                              & NA                                \\\\\n",
       "\t BIN\\$bCSh0u6WQDKz1iMGFP7uBg==\\$0 & TABLE                              & NA                                \\\\\n",
       "\t BIN\\$d8KMgZW4RMi8AOR1++YuHw==\\$0 & TABLE                              & NA                                \\\\\n",
       "\t BIN\\$ifcXVYdzQDWyyLw9CsEOvA==\\$0 & TABLE                              & NA                                \\\\\n",
       "\t BIN\\$j4/RHVMeQdyQwHshhXSvzg==\\$0 & TABLE                              & NA                                \\\\\n",
       "\t BIN\\$jq0CsRnLTcqqzNCBUf6ncw==\\$0 & TABLE                              & NA                                \\\\\n",
       "\t BIN\\$kNNRuV/3Qm6tINvGWmBi4Q==\\$0 & TABLE                              & NA                                \\\\\n",
       "\t BIN\\$o/QblShRQ9yPPakkfdaZtQ==\\$0 & TABLE                              & NA                                \\\\\n",
       "\t ... & ... & ...\\\\\n",
       "\t LOCATIONS       & TABLE           & NA             \\\\\n",
       "\t MEMBER          & TABLE           & NA             \\\\\n",
       "\t MEMO            & TABLE           & NA             \\\\\n",
       "\t MYDEPT          & TABLE           & NA             \\\\\n",
       "\t MYEMP           & TABLE           & NA             \\\\\n",
       "\t PANMAE          & TABLE           & NA             \\\\\n",
       "\t POINT           & TABLE           & NA             \\\\\n",
       "\t PRODUCT         & TABLE           & NA             \\\\\n",
       "\t PRODUCT\\_SALES   & TABLE             & NA               \\\\\n",
       "\t PROFESSOR       & TABLE           & NA             \\\\\n",
       "\t PT\\_01           & TABLE             & NA               \\\\\n",
       "\t PT\\_02           & TABLE             & NA               \\\\\n",
       "\t P\\_01            & TABLE             & NA               \\\\\n",
       "\t P\\_02            & TABLE             & NA               \\\\\n",
       "\t P\\_GRADE         & TABLE             & NA               \\\\\n",
       "\t P\\_TOTAL         & TABLE             & NA               \\\\\n",
       "\t REGIONS         & TABLE           & NA             \\\\\n",
       "\t REG\\_TEST        & TABLE             & NA               \\\\\n",
       "\t SALARY          & TABLE           & NA             \\\\\n",
       "\t SCORE           & TABLE           & NA             \\\\\n",
       "\t SCORE\\_V         & VIEW              & NA               \\\\\n",
       "\t STUDENT         & TABLE           & NA             \\\\\n",
       "\t STUDENT\\_V       & VIEW              & NA               \\\\\n",
       "\t SUBJECT         & TABLE           & NA             \\\\\n",
       "\t T1              & TABLE           & NA             \\\\\n",
       "\t TEST\\_ENABLE     & TABLE             & NA               \\\\\n",
       "\t TEST\\_NOVALIDATE & TABLE             & NA               \\\\\n",
       "\t TEST\\_VALIDATE   & TABLE             & NA               \\\\\n",
       "\t TEST\\_VIEW       & VIEW              & NA               \\\\\n",
       "\t T\\_EMP           & TABLE             & NA               \\\\\n",
       "\\end{tabular}\n"
      ],
      "text/markdown": [
       "\n",
       "| TNAME | TABTYPE | CLUSTERID |\n",
       "|---|---|---|\n",
       "| BIN$05pbGM4vQkClprOgdWIHaQ==$0 | TABLE                          | NA                             |\n",
       "| BIN$1vVoEovkSAm9ITNg4oNG5w==$0 | TABLE                          | NA                             |\n",
       "| BIN$CPccZdIxS/ys0dC/NWMeGw==$0 | TABLE                          | NA                             |\n",
       "| BIN$D3NxNBxiRz+7J1/uqSZehg==$0 | TABLE                          | NA                             |\n",
       "| BIN$E6HFxsX7RX+I6Et3JkGF2w==$0 | TABLE                          | NA                             |\n",
       "| BIN$Ecdo5CWHRGegfNIm1MjqYA==$0 | TABLE                          | NA                             |\n",
       "| BIN$F/0Clz1HTh20VD74el2fFw==$0 | TABLE                          | NA                             |\n",
       "| BIN$F0gB39fYQRiJf1ENHNYZ5w==$0 | TABLE                          | NA                             |\n",
       "| BIN$GeVE0gOURkywwdsr+uFadw==$0 | TABLE                          | NA                             |\n",
       "| BIN$HLLoHhcTQg+dVZKw50rFQA==$0 | TABLE                          | NA                             |\n",
       "| BIN$KEw9rSivQH+XxO3QNX+uaw==$0 | TABLE                          | NA                             |\n",
       "| BIN$OBrzNfxsRA6gKvvRpzvTuA==$0 | TABLE                          | NA                             |\n",
       "| BIN$PGC55lIDSEWTF/5gyTRZJg==$0 | TABLE                          | NA                             |\n",
       "| BIN$PYr0/uEiTVq7KsAFUaKRAQ==$0 | TABLE                          | NA                             |\n",
       "| BIN$RZYrBxyaQTuIb8pCQ/77Tw==$0 | TABLE                          | NA                             |\n",
       "| BIN$TXrClk74QhKgni7MqvY3CQ==$0 | TABLE                          | NA                             |\n",
       "| BIN$TqzVvxYlQJimQrSCb+DX4g==$0 | TABLE                          | NA                             |\n",
       "| BIN$UANlK5A1QYWM9NSQzy2DnA==$0 | TABLE                          | NA                             |\n",
       "| BIN$UWRnGrv4QXaH8KoYjQ8Fsg==$0 | TABLE                          | NA                             |\n",
       "| BIN$WW7MBPaPQbOfAZZlDod0Cw==$0 | TABLE                          | NA                             |\n",
       "| BIN$XHjH0gwpTX2kmU5l0nE2Pg==$0 | TABLE                          | NA                             |\n",
       "| BIN$Xbd3bmr0QVKapQ9XqO21CQ==$0 | TABLE                          | NA                             |\n",
       "| BIN$YMm6vPc6TDGXPmTXxEvLPA==$0 | TABLE                          | NA                             |\n",
       "| BIN$bCSh0u6WQDKz1iMGFP7uBg==$0 | TABLE                          | NA                             |\n",
       "| BIN$d8KMgZW4RMi8AOR1++YuHw==$0 | TABLE                          | NA                             |\n",
       "| BIN$ifcXVYdzQDWyyLw9CsEOvA==$0 | TABLE                          | NA                             |\n",
       "| BIN$j4/RHVMeQdyQwHshhXSvzg==$0 | TABLE                          | NA                             |\n",
       "| BIN$jq0CsRnLTcqqzNCBUf6ncw==$0 | TABLE                          | NA                             |\n",
       "| BIN$kNNRuV/3Qm6tINvGWmBi4Q==$0 | TABLE                          | NA                             |\n",
       "| BIN$o/QblShRQ9yPPakkfdaZtQ==$0 | TABLE                          | NA                             |\n",
       "| ... | ... | ... |\n",
       "| LOCATIONS       | TABLE           | NA              |\n",
       "| MEMBER          | TABLE           | NA              |\n",
       "| MEMO            | TABLE           | NA              |\n",
       "| MYDEPT          | TABLE           | NA              |\n",
       "| MYEMP           | TABLE           | NA              |\n",
       "| PANMAE          | TABLE           | NA              |\n",
       "| POINT           | TABLE           | NA              |\n",
       "| PRODUCT         | TABLE           | NA              |\n",
       "| PRODUCT_SALES   | TABLE           | NA              |\n",
       "| PROFESSOR       | TABLE           | NA              |\n",
       "| PT_01           | TABLE           | NA              |\n",
       "| PT_02           | TABLE           | NA              |\n",
       "| P_01            | TABLE           | NA              |\n",
       "| P_02            | TABLE           | NA              |\n",
       "| P_GRADE         | TABLE           | NA              |\n",
       "| P_TOTAL         | TABLE           | NA              |\n",
       "| REGIONS         | TABLE           | NA              |\n",
       "| REG_TEST        | TABLE           | NA              |\n",
       "| SALARY          | TABLE           | NA              |\n",
       "| SCORE           | TABLE           | NA              |\n",
       "| SCORE_V         | VIEW            | NA              |\n",
       "| STUDENT         | TABLE           | NA              |\n",
       "| STUDENT_V       | VIEW            | NA              |\n",
       "| SUBJECT         | TABLE           | NA              |\n",
       "| T1              | TABLE           | NA              |\n",
       "| TEST_ENABLE     | TABLE           | NA              |\n",
       "| TEST_NOVALIDATE | TABLE           | NA              |\n",
       "| TEST_VALIDATE   | TABLE           | NA              |\n",
       "| TEST_VIEW       | VIEW            | NA              |\n",
       "| T_EMP           | TABLE           | NA              |\n",
       "\n"
      ],
      "text/plain": [
       "    TNAME                          TABTYPE CLUSTERID\n",
       "1   BIN$05pbGM4vQkClprOgdWIHaQ==$0 TABLE   NA       \n",
       "2   BIN$1vVoEovkSAm9ITNg4oNG5w==$0 TABLE   NA       \n",
       "3   BIN$CPccZdIxS/ys0dC/NWMeGw==$0 TABLE   NA       \n",
       "4   BIN$D3NxNBxiRz+7J1/uqSZehg==$0 TABLE   NA       \n",
       "5   BIN$E6HFxsX7RX+I6Et3JkGF2w==$0 TABLE   NA       \n",
       "6   BIN$Ecdo5CWHRGegfNIm1MjqYA==$0 TABLE   NA       \n",
       "7   BIN$F/0Clz1HTh20VD74el2fFw==$0 TABLE   NA       \n",
       "8   BIN$F0gB39fYQRiJf1ENHNYZ5w==$0 TABLE   NA       \n",
       "9   BIN$GeVE0gOURkywwdsr+uFadw==$0 TABLE   NA       \n",
       "10  BIN$HLLoHhcTQg+dVZKw50rFQA==$0 TABLE   NA       \n",
       "11  BIN$KEw9rSivQH+XxO3QNX+uaw==$0 TABLE   NA       \n",
       "12  BIN$OBrzNfxsRA6gKvvRpzvTuA==$0 TABLE   NA       \n",
       "13  BIN$PGC55lIDSEWTF/5gyTRZJg==$0 TABLE   NA       \n",
       "14  BIN$PYr0/uEiTVq7KsAFUaKRAQ==$0 TABLE   NA       \n",
       "15  BIN$RZYrBxyaQTuIb8pCQ/77Tw==$0 TABLE   NA       \n",
       "16  BIN$TXrClk74QhKgni7MqvY3CQ==$0 TABLE   NA       \n",
       "17  BIN$TqzVvxYlQJimQrSCb+DX4g==$0 TABLE   NA       \n",
       "18  BIN$UANlK5A1QYWM9NSQzy2DnA==$0 TABLE   NA       \n",
       "19  BIN$UWRnGrv4QXaH8KoYjQ8Fsg==$0 TABLE   NA       \n",
       "20  BIN$WW7MBPaPQbOfAZZlDod0Cw==$0 TABLE   NA       \n",
       "21  BIN$XHjH0gwpTX2kmU5l0nE2Pg==$0 TABLE   NA       \n",
       "22  BIN$Xbd3bmr0QVKapQ9XqO21CQ==$0 TABLE   NA       \n",
       "23  BIN$YMm6vPc6TDGXPmTXxEvLPA==$0 TABLE   NA       \n",
       "24  BIN$bCSh0u6WQDKz1iMGFP7uBg==$0 TABLE   NA       \n",
       "25  BIN$d8KMgZW4RMi8AOR1++YuHw==$0 TABLE   NA       \n",
       "26  BIN$ifcXVYdzQDWyyLw9CsEOvA==$0 TABLE   NA       \n",
       "27  BIN$j4/RHVMeQdyQwHshhXSvzg==$0 TABLE   NA       \n",
       "28  BIN$jq0CsRnLTcqqzNCBUf6ncw==$0 TABLE   NA       \n",
       "29  BIN$kNNRuV/3Qm6tINvGWmBi4Q==$0 TABLE   NA       \n",
       "30  BIN$o/QblShRQ9yPPakkfdaZtQ==$0 TABLE   NA       \n",
       "... ...                            ...     ...      \n",
       "63  LOCATIONS                      TABLE   NA       \n",
       "64  MEMBER                         TABLE   NA       \n",
       "65  MEMO                           TABLE   NA       \n",
       "66  MYDEPT                         TABLE   NA       \n",
       "67  MYEMP                          TABLE   NA       \n",
       "68  PANMAE                         TABLE   NA       \n",
       "69  POINT                          TABLE   NA       \n",
       "70  PRODUCT                        TABLE   NA       \n",
       "71  PRODUCT_SALES                  TABLE   NA       \n",
       "72  PROFESSOR                      TABLE   NA       \n",
       "73  PT_01                          TABLE   NA       \n",
       "74  PT_02                          TABLE   NA       \n",
       "75  P_01                           TABLE   NA       \n",
       "76  P_02                           TABLE   NA       \n",
       "77  P_GRADE                        TABLE   NA       \n",
       "78  P_TOTAL                        TABLE   NA       \n",
       "79  REGIONS                        TABLE   NA       \n",
       "80  REG_TEST                       TABLE   NA       \n",
       "81  SALARY                         TABLE   NA       \n",
       "82  SCORE                          TABLE   NA       \n",
       "83  SCORE_V                        VIEW    NA       \n",
       "84  STUDENT                        TABLE   NA       \n",
       "85  STUDENT_V                      VIEW    NA       \n",
       "86  SUBJECT                        TABLE   NA       \n",
       "87  T1                             TABLE   NA       \n",
       "88  TEST_ENABLE                    TABLE   NA       \n",
       "89  TEST_NOVALIDATE                TABLE   NA       \n",
       "90  TEST_VALIDATE                  TABLE   NA       \n",
       "91  TEST_VIEW                      VIEW    NA       \n",
       "92  T_EMP                          TABLE   NA       "
      ]
     },
     "metadata": {},
     "output_type": "display_data"
    }
   ],
   "source": [
    "#오라클 서버에 접속\n",
    "conn<-dbConnect(drv,'jdbc:oracle:thin:@//127.0.0.1:1521/xe','hr','hr')\n",
    "#sql 명령어\n",
    "query <- 'select * from tab'\n",
    "#sql 명령어 실행됨\n",
    "dbGetQuery(conn,query)"
   ]
  },
  {
   "cell_type": "code",
   "execution_count": 10,
   "metadata": {},
   "outputs": [
    {
     "data": {
      "text/html": [
       "<table>\n",
       "<thead><tr><th scope=col>PRODUCT_ID</th><th scope=col>PRODUCT_NAME</th><th scope=col>PRICE</th><th scope=col>DESCRIPTION</th><th scope=col>PICTURE_URL</th></tr></thead>\n",
       "<tbody>\n",
       "\t<tr><td>1                                                  </td><td>레몬                                               </td><td>1500                                               </td><td>레몬에 포함된 구연산은 피로회복에 좋습니다         </td><td>lemon.jpg                                          </td></tr>\n",
       "\t<tr><td>2                                                  </td><td>오렌지                                             </td><td>2000                                               </td><td>비타민 C가 풍부합니다.                             </td><td>orange.jpg                                         </td></tr>\n",
       "\t<tr><td>3                                                  </td><td>키위                                               </td><td>3000                                               </td><td>다이어트나 미용에 좋습니다.                        </td><td>kiwi.jpg                                           </td></tr>\n",
       "\t<tr><td>4                                                  </td><td>포도                                               </td><td>5000                                               </td><td>폴리페놀을 다량 함유하고 있습니다.                 </td><td>grape.jpg                                          </td></tr>\n",
       "\t<tr><td>5                                                  </td><td>딸기                                               </td><td>8000                                               </td><td>비타민 C나 플라보노이드를 다량 함유하고 있습니다.  </td><td>strawberry.jpg                                     </td></tr>\n",
       "\t<tr><td>6                                                  </td><td>귤                                                 </td><td>7000                                               </td><td>시네피린을 함유하고 있어 감기 예방에 좋다고 합니다.</td><td>tangerine.jpg                                      </td></tr>\n",
       "</tbody>\n",
       "</table>\n"
      ],
      "text/latex": [
       "\\begin{tabular}{r|lllll}\n",
       " PRODUCT\\_ID & PRODUCT\\_NAME & PRICE & DESCRIPTION & PICTURE\\_URL\\\\\n",
       "\\hline\n",
       "\t 1                                                   & 레몬                                                & 1500                                                & 레몬에 포함된 구연산은 피로회복에 좋습니다          & lemon.jpg                                          \\\\\n",
       "\t 2                                                   & 오렌지                                              & 2000                                                & 비타민 C가 풍부합니다.                              & orange.jpg                                         \\\\\n",
       "\t 3                                                   & 키위                                                & 3000                                                & 다이어트나 미용에 좋습니다.                         & kiwi.jpg                                           \\\\\n",
       "\t 4                                                   & 포도                                                & 5000                                                & 폴리페놀을 다량 함유하고 있습니다.                  & grape.jpg                                          \\\\\n",
       "\t 5                                                   & 딸기                                                & 8000                                                & 비타민 C나 플라보노이드를 다량 함유하고 있습니다.   & strawberry.jpg                                     \\\\\n",
       "\t 6                                                   & 귤                                                  & 7000                                                & 시네피린을 함유하고 있어 감기 예방에 좋다고 합니다. & tangerine.jpg                                      \\\\\n",
       "\\end{tabular}\n"
      ],
      "text/markdown": [
       "\n",
       "| PRODUCT_ID | PRODUCT_NAME | PRICE | DESCRIPTION | PICTURE_URL |\n",
       "|---|---|---|---|---|\n",
       "| 1                                                   | 레몬                                                | 1500                                                | 레몬에 포함된 구연산은 피로회복에 좋습니다          | lemon.jpg                                           |\n",
       "| 2                                                   | 오렌지                                              | 2000                                                | 비타민 C가 풍부합니다.                              | orange.jpg                                          |\n",
       "| 3                                                   | 키위                                                | 3000                                                | 다이어트나 미용에 좋습니다.                         | kiwi.jpg                                            |\n",
       "| 4                                                   | 포도                                                | 5000                                                | 폴리페놀을 다량 함유하고 있습니다.                  | grape.jpg                                           |\n",
       "| 5                                                   | 딸기                                                | 8000                                                | 비타민 C나 플라보노이드를 다량 함유하고 있습니다.   | strawberry.jpg                                      |\n",
       "| 6                                                   | 귤                                                  | 7000                                                | 시네피린을 함유하고 있어 감기 예방에 좋다고 합니다. | tangerine.jpg                                       |\n",
       "\n"
      ],
      "text/plain": [
       "  PRODUCT_ID PRODUCT_NAME PRICE\n",
       "1 1          레몬         1500 \n",
       "2 2          오렌지       2000 \n",
       "3 3          키위         3000 \n",
       "4 4          포도         5000 \n",
       "5 5          딸기         8000 \n",
       "6 6          귤           7000 \n",
       "  DESCRIPTION                                         PICTURE_URL   \n",
       "1 레몬에 포함된 구연산은 피로회복에 좋습니다          lemon.jpg     \n",
       "2 비타민 C가 풍부합니다.                              orange.jpg    \n",
       "3 다이어트나 미용에 좋습니다.                         kiwi.jpg      \n",
       "4 폴리페놀을 다량 함유하고 있습니다.                  grape.jpg     \n",
       "5 비타민 C나 플라보노이드를 다량 함유하고 있습니다.   strawberry.jpg\n",
       "6 시네피린을 함유하고 있어 감기 예방에 좋다고 합니다. tangerine.jpg "
      ]
     },
     "metadata": {},
     "output_type": "display_data"
    }
   ],
   "source": [
    "#sql 명령어\n",
    "query<-'select * from product'\n",
    "#sql 명령어 실행됨\n",
    "head(dbGetQuery(conn,query))"
   ]
  },
  {
   "cell_type": "code",
   "execution_count": 18,
   "metadata": {},
   "outputs": [
    {
     "data": {
      "text/html": [
       "<table>\n",
       "<thead><tr><th scope=col>PRODUCT_ID</th><th scope=col>PRODUCT_NAME</th><th scope=col>PRICE</th><th scope=col>DESCRIPTION</th><th scope=col>PICTURE_URL</th></tr></thead>\n",
       "<tbody>\n",
       "</tbody>\n",
       "</table>\n"
      ],
      "text/latex": [
       "\\begin{tabular}{r|lllll}\n",
       " PRODUCT\\_ID & PRODUCT\\_NAME & PRICE & DESCRIPTION & PICTURE\\_URL\\\\\n",
       "\\hline\n",
       "\\end{tabular}\n"
      ],
      "text/markdown": [
       "\n",
       "| PRODUCT_ID | PRODUCT_NAME | PRICE | DESCRIPTION | PICTURE_URL |\n",
       "|---|---|---|---|---|\n",
       "\n"
      ],
      "text/plain": [
       "     PRODUCT_ID PRODUCT_NAME PRICE DESCRIPTION PICTURE_URL"
      ]
     },
     "metadata": {},
     "output_type": "display_data"
    }
   ],
   "source": [
    "#레코드 삭제(auto commit)\n",
    "query<-\"delete from product\"\n",
    "dbSendUpdate(conn,query) #레코드 추가 ,수정 삭제 함수\n",
    "query<-'select * from product'\n",
    "dbGetQuery(conn,query) #select 함수"
   ]
  },
  {
   "cell_type": "code",
   "execution_count": 19,
   "metadata": {},
   "outputs": [
    {
     "data": {
      "text/html": [
       "<table>\n",
       "<thead><tr><th scope=col>PRODUCT_ID</th><th scope=col>PRODUCT_NAME</th><th scope=col>PRICE</th><th scope=col>DESCRIPTION</th><th scope=col>PICTURE_URL</th></tr></thead>\n",
       "<tbody>\n",
       "\t<tr><td>3            </td><td>키위         </td><td>4500         </td><td>맛있는 키위  </td><td>kiwi.jpg     </td></tr>\n",
       "\t<tr><td>1            </td><td>레몬         </td><td>1500         </td><td>맛있는 레몬  </td><td>lemon.jpg    </td></tr>\n",
       "\t<tr><td>2            </td><td>오렌지       </td><td>3000         </td><td>맛있는 오렌지</td><td>orange.jpg   </td></tr>\n",
       "</tbody>\n",
       "</table>\n"
      ],
      "text/latex": [
       "\\begin{tabular}{r|lllll}\n",
       " PRODUCT\\_ID & PRODUCT\\_NAME & PRICE & DESCRIPTION & PICTURE\\_URL\\\\\n",
       "\\hline\n",
       "\t 3             & 키위          & 4500          & 맛있는 키위   & kiwi.jpg     \\\\\n",
       "\t 1             & 레몬          & 1500          & 맛있는 레몬   & lemon.jpg    \\\\\n",
       "\t 2             & 오렌지        & 3000          & 맛있는 오렌지 & orange.jpg   \\\\\n",
       "\\end{tabular}\n"
      ],
      "text/markdown": [
       "\n",
       "| PRODUCT_ID | PRODUCT_NAME | PRICE | DESCRIPTION | PICTURE_URL |\n",
       "|---|---|---|---|---|\n",
       "| 3             | 키위          | 4500          | 맛있는 키위   | kiwi.jpg      |\n",
       "| 1             | 레몬          | 1500          | 맛있는 레몬   | lemon.jpg     |\n",
       "| 2             | 오렌지        | 3000          | 맛있는 오렌지 | orange.jpg    |\n",
       "\n"
      ],
      "text/plain": [
       "  PRODUCT_ID PRODUCT_NAME PRICE DESCRIPTION   PICTURE_URL\n",
       "1 3          키위         4500  맛있는 키위   kiwi.jpg   \n",
       "2 1          레몬         1500  맛있는 레몬   lemon.jpg  \n",
       "3 2          오렌지       3000  맛있는 오렌지 orange.jpg "
      ]
     },
     "metadata": {},
     "output_type": "display_data"
    }
   ],
   "source": [
    "#레코드 추가\n",
    "query<-\"insert into product values (1,'레몬',1500,'맛있는 레몬','lemon.jpg')\"\n",
    "dbSendUpdate(conn,query)\n",
    "query<-\"insert into product values (2,'오렌지',3000,'맛있는 오렌지','orange.jpg')\"\n",
    "dbSendUpdate(conn,query)\n",
    "query<-\"insert into product values (3,'키위',4500,'맛있는 키위','kiwi.jpg')\"\n",
    "dbSendUpdate(conn,query)\n",
    "query<-'select * from product' #레코드 조회\n",
    "dbGetQuery(conn,query)"
   ]
  },
  {
   "cell_type": "code",
   "execution_count": 30,
   "metadata": {},
   "outputs": [
    {
     "data": {
      "text/html": [
       "<table>\n",
       "<thead><tr><th scope=col>PRODUCT_ID</th><th scope=col>PRODUCT_NAME</th><th scope=col>PRICE</th><th scope=col>DESCRIPTION</th><th scope=col>PICTURE_URL</th></tr></thead>\n",
       "<tbody>\n",
       "\t<tr><td>2            </td><td>오렌지       </td><td>3000         </td><td>맛있는 오렌지</td><td>orange.jpg   </td></tr>\n",
       "\t<tr><td>3            </td><td>키위         </td><td>8000         </td><td>맛있는 키위  </td><td>kiwi.jpg     </td></tr>\n",
       "</tbody>\n",
       "</table>\n"
      ],
      "text/latex": [
       "\\begin{tabular}{r|lllll}\n",
       " PRODUCT\\_ID & PRODUCT\\_NAME & PRICE & DESCRIPTION & PICTURE\\_URL\\\\\n",
       "\\hline\n",
       "\t 2             & 오렌지        & 3000          & 맛있는 오렌지 & orange.jpg   \\\\\n",
       "\t 3             & 키위          & 8000          & 맛있는 키위   & kiwi.jpg     \\\\\n",
       "\\end{tabular}\n"
      ],
      "text/markdown": [
       "\n",
       "| PRODUCT_ID | PRODUCT_NAME | PRICE | DESCRIPTION | PICTURE_URL |\n",
       "|---|---|---|---|---|\n",
       "| 2             | 오렌지        | 3000          | 맛있는 오렌지 | orange.jpg    |\n",
       "| 3             | 키위          | 8000          | 맛있는 키위   | kiwi.jpg      |\n",
       "\n"
      ],
      "text/plain": [
       "  PRODUCT_ID PRODUCT_NAME PRICE DESCRIPTION   PICTURE_URL\n",
       "1 2          오렌지       3000  맛있는 오렌지 orange.jpg \n",
       "2 3          키위         8000  맛있는 키위   kiwi.jpg   "
      ]
     },
     "metadata": {},
     "output_type": "display_data"
    }
   ],
   "source": [
    "query<-'select * from product where price >= 2000 order by price'\n",
    "result <- dbGetQuery(conn,query)\n",
    "result\n",
    "#class(result)\n",
    "write.xlsx(result,\"d:/data/product/product.xlsx\",row.names=F)"
   ]
  },
  {
   "cell_type": "code",
   "execution_count": 24,
   "metadata": {},
   "outputs": [
    {
     "data": {
      "text/html": [
       "<table>\n",
       "<thead><tr><th scope=col>PRODUCT_ID</th><th scope=col>PRODUCT_NAME</th><th scope=col>PRICE</th><th scope=col>DESCRIPTION</th><th scope=col>PICTURE_URL</th></tr></thead>\n",
       "<tbody>\n",
       "\t<tr><td>3            </td><td>키위         </td><td>8000         </td><td>맛있는 키위  </td><td>kiwi.jpg     </td></tr>\n",
       "\t<tr><td>1            </td><td>레몬         </td><td>1500         </td><td>맛있는 레몬  </td><td>lemon.jpg    </td></tr>\n",
       "\t<tr><td>2            </td><td>오렌지       </td><td>3000         </td><td>맛있는 오렌지</td><td>orange.jpg   </td></tr>\n",
       "</tbody>\n",
       "</table>\n"
      ],
      "text/latex": [
       "\\begin{tabular}{r|lllll}\n",
       " PRODUCT\\_ID & PRODUCT\\_NAME & PRICE & DESCRIPTION & PICTURE\\_URL\\\\\n",
       "\\hline\n",
       "\t 3             & 키위          & 8000          & 맛있는 키위   & kiwi.jpg     \\\\\n",
       "\t 1             & 레몬          & 1500          & 맛있는 레몬   & lemon.jpg    \\\\\n",
       "\t 2             & 오렌지        & 3000          & 맛있는 오렌지 & orange.jpg   \\\\\n",
       "\\end{tabular}\n"
      ],
      "text/markdown": [
       "\n",
       "| PRODUCT_ID | PRODUCT_NAME | PRICE | DESCRIPTION | PICTURE_URL |\n",
       "|---|---|---|---|---|\n",
       "| 3             | 키위          | 8000          | 맛있는 키위   | kiwi.jpg      |\n",
       "| 1             | 레몬          | 1500          | 맛있는 레몬   | lemon.jpg     |\n",
       "| 2             | 오렌지        | 3000          | 맛있는 오렌지 | orange.jpg    |\n",
       "\n"
      ],
      "text/plain": [
       "  PRODUCT_ID PRODUCT_NAME PRICE DESCRIPTION   PICTURE_URL\n",
       "1 3          키위         8000  맛있는 키위   kiwi.jpg   \n",
       "2 1          레몬         1500  맛있는 레몬   lemon.jpg  \n",
       "3 2          오렌지       3000  맛있는 오렌지 orange.jpg "
      ]
     },
     "metadata": {},
     "output_type": "display_data"
    }
   ],
   "source": [
    "#레코드 수정\n",
    "query = \"update product set price=8000 where product_name='키위'\"\n",
    "dbSendUpdate(conn,query)\n",
    "query<-\"select * from product\"\n",
    "dbGetQuery(conn,query)"
   ]
  },
  {
   "cell_type": "code",
   "execution_count": 31,
   "metadata": {},
   "outputs": [
    {
     "data": {
      "text/html": [
       "TRUE"
      ],
      "text/latex": [
       "TRUE"
      ],
      "text/markdown": [
       "TRUE"
      ],
      "text/plain": [
       "[1] TRUE"
      ]
     },
     "metadata": {},
     "output_type": "display_data"
    }
   ],
   "source": [
    "dbDisconnect(conn)"
   ]
  },
  {
   "cell_type": "code",
   "execution_count": null,
   "metadata": {},
   "outputs": [],
   "source": []
  }
 ],
 "metadata": {
  "kernelspec": {
   "display_name": "R",
   "language": "R",
   "name": "ir"
  },
  "language_info": {
   "codemirror_mode": "r",
   "file_extension": ".r",
   "mimetype": "text/x-r-source",
   "name": "R",
   "pygments_lexer": "r",
   "version": "3.6.1"
  }
 },
 "nbformat": 4,
 "nbformat_minor": 2
}
