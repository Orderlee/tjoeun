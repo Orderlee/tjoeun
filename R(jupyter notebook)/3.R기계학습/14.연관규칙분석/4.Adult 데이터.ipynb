{
 "cells": [
  {
   "cell_type": "code",
   "execution_count": 1,
   "metadata": {},
   "outputs": [
    {
     "name": "stderr",
     "output_type": "stream",
     "text": [
      "Warning message:\n",
      "\"package 'arules' was built under R version 3.6.2\"Loading required package: Matrix\n",
      "\n",
      "Attaching package: 'arules'\n",
      "\n",
      "The following objects are masked from 'package:base':\n",
      "\n",
      "    abbreviate, write\n",
      "\n"
     ]
    },
    {
     "data": {
      "text/plain": [
       "transactions in sparse format with\n",
       " 48842 transactions (rows) and\n",
       " 115 items (columns)"
      ]
     },
     "metadata": {},
     "output_type": "display_data"
    },
    {
     "data": {
      "text/html": [
       "'transactions'"
      ],
      "text/latex": [
       "'transactions'"
      ],
      "text/markdown": [
       "'transactions'"
      ],
      "text/plain": [
       "[1] \"transactions\"\n",
       "attr(,\"package\")\n",
       "[1] \"arules\""
      ]
     },
     "metadata": {},
     "output_type": "display_data"
    }
   ],
   "source": [
    "library(arules) #연관규칙 라이브러리\n",
    "data('Adult') #데이터로딩\n",
    "Adult #48842 트랜잭션,115 아이템\n",
    "class(Adult) #트랜잭션 자료형"
   ]
  },
  {
   "cell_type": "code",
   "execution_count": 2,
   "metadata": {},
   "outputs": [
    {
     "data": {
      "text/plain": [
       "transactions as itemMatrix in sparse format with\n",
       " 48842 rows (elements/itemsets/transactions) and\n",
       " 115 columns (items) and a density of 0.1089939 \n",
       "\n",
       "most frequent items:\n",
       "           capital-loss=None            capital-gain=None \n",
       "                       46560                        44807 \n",
       "native-country=United-States                   race=White \n",
       "                       43832                        41762 \n",
       "           workclass=Private                      (Other) \n",
       "                       33906                       401333 \n",
       "\n",
       "element (itemset/transaction) length distribution:\n",
       "sizes\n",
       "    9    10    11    12    13 \n",
       "   19   971  2067 15623 30162 \n",
       "\n",
       "   Min. 1st Qu.  Median    Mean 3rd Qu.    Max. \n",
       "   9.00   12.00   13.00   12.53   13.00   13.00 \n",
       "\n",
       "includes extended item information - examples:\n",
       "           labels variables      levels\n",
       "1       age=Young       age       Young\n",
       "2 age=Middle-aged       age Middle-aged\n",
       "3      age=Senior       age      Senior\n",
       "\n",
       "includes extended transaction information - examples:\n",
       "  transactionID\n",
       "1             1\n",
       "2             2\n",
       "3             3"
      ]
     },
     "metadata": {},
     "output_type": "display_data"
    }
   ],
   "source": [
    "summary(Adult)"
   ]
  },
  {
   "cell_type": "code",
   "execution_count": 4,
   "metadata": {},
   "outputs": [
    {
     "name": "stdout",
     "output_type": "stream",
     "text": [
      "Apriori\n",
      "\n",
      "Parameter specification:\n",
      " confidence minval smax arem  aval originalSupport maxtime support minlen\n",
      "        0.8    0.1    1 none FALSE            TRUE       5     0.5      1\n",
      " maxlen target   ext\n",
      "     10  rules FALSE\n",
      "\n",
      "Algorithmic control:\n",
      " filter tree heap memopt load sort verbose\n",
      "    0.1 TRUE TRUE  FALSE TRUE    2    TRUE\n",
      "\n",
      "Absolute minimum support count: 24421 \n",
      "\n",
      "set item appearances ...[0 item(s)] done [0.00s].\n",
      "set transactions ...[115 item(s), 48842 transaction(s)] done [0.03s].\n",
      "sorting and recoding items ... [9 item(s)] done [0.01s].\n",
      "creating transaction tree ... done [0.02s].\n",
      "checking subsets of size 1 2 3 4 done [0.00s].\n",
      "writing ... [84 rule(s)] done [0.00s].\n",
      "creating S4 object  ... done [0.00s].\n"
     ]
    },
    {
     "data": {
      "text/plain": [
       "set of 84 rules\n",
       "\n",
       "rule length distribution (lhs + rhs):sizes\n",
       " 1  2  3  4 \n",
       " 4 23 38 19 \n",
       "\n",
       "   Min. 1st Qu.  Median    Mean 3rd Qu.    Max. \n",
       "  1.000   2.000   3.000   2.857   3.000   4.000 \n",
       "\n",
       "summary of quality measures:\n",
       "    support         confidence          lift            count      \n",
       " Min.   :0.5084   Min.   :0.8504   Min.   :0.9789   Min.   :24832  \n",
       " 1st Qu.:0.5415   1st Qu.:0.8888   1st Qu.:0.9943   1st Qu.:26447  \n",
       " Median :0.5897   Median :0.9132   Median :0.9988   Median :28803  \n",
       " Mean   :0.6433   Mean   :0.9110   Mean   :1.0034   Mean   :31422  \n",
       " 3rd Qu.:0.7490   3rd Qu.:0.9422   3rd Qu.:1.0077   3rd Qu.:36585  \n",
       " Max.   :0.9533   Max.   :0.9583   Max.   :1.0586   Max.   :46560  \n",
       "\n",
       "mining info:\n",
       "  data ntransactions support confidence\n",
       " Adult         48842     0.5        0.8"
      ]
     },
     "metadata": {},
     "output_type": "display_data"
    }
   ],
   "source": [
    "# support(지지도),confidence(신뢰도)\n",
    "#rules<-apriori(Adult)\n",
    "#writing ... [6137 rule(s)] done [0.00s]. =>6137개의 규칙\n",
    "rules<-apriori(Adult, parameter=list(support=0.5,confidence=0.8,\n",
    "            target='rules'))\n",
    "#writing ... [84 rule(s)] done [0.00s]. =>84개의 규칙\n",
    "summary(rules) #84개의 규칙 발견"
   ]
  },
  {
   "cell_type": "code",
   "execution_count": 6,
   "metadata": {},
   "outputs": [
    {
     "data": {
      "text/html": [
       "<table>\n",
       "<thead><tr><th></th><th scope=col>rules</th><th scope=col>support</th><th scope=col>confidence</th><th scope=col>lift</th><th scope=col>count</th></tr></thead>\n",
       "<tbody>\n",
       "\t<tr><th scope=row>7</th><td><span style=white-space:pre-wrap>{hours-per-week=Full-time} =&gt; {capital-loss=None}                      </span></td><td>0.5606650                                                                                                         </td><td>0.9582531                                                                                                         </td><td>1.005219                                                                                                          </td><td>27384                                                                                                             </td></tr>\n",
       "\t<tr><th scope=row>15</th><td><span style=white-space:pre-wrap>{workclass=Private} =&gt; {capital-loss=None}                             </span></td><td>0.6639982                                                                                                         </td><td>0.9564974                                                                                                         </td><td>1.003377                                                                                                          </td><td>32431                                                                                                             </td></tr>\n",
       "\t<tr><th scope=row>50</th><td>{workclass=Private,native-country=United-States} =&gt; {capital-loss=None}</td><td>0.5897179                                                                 </td><td>0.9554818                                                                 </td><td>1.002312                                                                  </td><td>28803                                                                     </td></tr>\n",
       "</tbody>\n",
       "</table>\n"
      ],
      "text/latex": [
       "\\begin{tabular}{r|lllll}\n",
       "  & rules & support & confidence & lift & count\\\\\n",
       "\\hline\n",
       "\t7 & \\{hours-per-week=Full-time\\} => \\{capital-loss=None\\}                       & 0.5606650                                                                       & 0.9582531                                                                       & 1.005219                                                                        & 27384                                                                          \\\\\n",
       "\t15 & \\{workclass=Private\\} => \\{capital-loss=None\\}                              & 0.6639982                                                                       & 0.9564974                                                                       & 1.003377                                                                        & 32431                                                                          \\\\\n",
       "\t50 & \\{workclass=Private,native-country=United-States\\} => \\{capital-loss=None\\} & 0.5897179                                                                       & 0.9554818                                                                       & 1.002312                                                                        & 28803                                                                          \\\\\n",
       "\\end{tabular}\n"
      ],
      "text/markdown": [
       "\n",
       "| <!--/--> | rules | support | confidence | lift | count |\n",
       "|---|---|---|---|---|---|\n",
       "| 7 | {hours-per-week=Full-time} => {capital-loss=None}                       | 0.5606650                                                               | 0.9582531                                                               | 1.005219                                                                | 27384                                                                   |\n",
       "| 15 | {workclass=Private} => {capital-loss=None}                              | 0.6639982                                                               | 0.9564974                                                               | 1.003377                                                                | 32431                                                                   |\n",
       "| 50 | {workclass=Private,native-country=United-States} => {capital-loss=None} | 0.5897179                                                               | 0.9554818                                                               | 1.002312                                                                | 28803                                                                   |\n",
       "\n"
      ],
      "text/plain": [
       "   rules                                                                  \n",
       "7  {hours-per-week=Full-time} => {capital-loss=None}                      \n",
       "15 {workclass=Private} => {capital-loss=None}                             \n",
       "50 {workclass=Private,native-country=United-States} => {capital-loss=None}\n",
       "   support   confidence lift     count\n",
       "7  0.5606650 0.9582531  1.005219 27384\n",
       "15 0.6639982 0.9564974  1.003377 32431\n",
       "50 0.5897179 0.9554818  1.002312 28803"
      ]
     },
     "metadata": {},
     "output_type": "display_data"
    }
   ],
   "source": [
    "as(head(sort(rules,by=c('confidence','support')),n=3),\n",
    "       'data.frame')"
   ]
  },
  {
   "cell_type": "code",
   "execution_count": 7,
   "metadata": {},
   "outputs": [
    {
     "name": "stdout",
     "output_type": "stream",
     "text": [
      "     lhs                               rhs                              support confidence      lift count\n",
      "[1]  {}                             => {race=White}                   0.8550428  0.8550428 1.0000000 41762\n",
      "[2]  {}                             => {native-country=United-States} 0.8974243  0.8974243 1.0000000 43832\n",
      "[3]  {}                             => {capital-gain=None}            0.9173867  0.9173867 1.0000000 44807\n",
      "[4]  {}                             => {capital-loss=None}            0.9532779  0.9532779 1.0000000 46560\n",
      "[5]  {hours-per-week=Full-time}     => {native-country=United-States} 0.5179559  0.8852574 0.9864423 25298\n",
      "[6]  {hours-per-week=Full-time}     => {capital-gain=None}            0.5435895  0.9290688 1.0127342 26550\n",
      "[7]  {hours-per-week=Full-time}     => {capital-loss=None}            0.5606650  0.9582531 1.0052191 27384\n",
      "[8]  {sex=Male}                     => {race=White}                   0.5883256  0.8800919 1.0292957 28735\n",
      "[9]  {sex=Male}                     => {native-country=United-States} 0.5983170  0.8950383 0.9973412 29223\n",
      "[10] {sex=Male}                     => {capital-gain=None}            0.6050735  0.9051455 0.9866565 29553\n",
      "[11] {sex=Male}                     => {capital-loss=None}            0.6331027  0.9470750 0.9934931 30922\n",
      "[12] {workclass=Private}            => {race=White}                   0.5942427  0.8560137 1.0011355 29024\n",
      "[13] {workclass=Private}            => {native-country=United-States} 0.6171942  0.8890757 0.9906971 30145\n",
      "[14] {workclass=Private}            => {capital-gain=None}            0.6413742  0.9239073 1.0071078 31326\n",
      "[15] {workclass=Private}            => {capital-loss=None}            0.6639982  0.9564974 1.0033773 32431\n",
      "[16] {race=White}                   => {native-country=United-States} 0.7881127  0.9217231 1.0270761 38493\n",
      "[17] {native-country=United-States} => {race=White}                   0.7881127  0.8781940 1.0270761 38493\n",
      "[18] {race=White}                   => {capital-gain=None}            0.7817862  0.9143240 0.9966616 38184\n",
      "[19] {capital-gain=None}            => {race=White}                   0.7817862  0.8521883 0.9966616 38184\n",
      "[20] {race=White}                   => {capital-loss=None}            0.8136849  0.9516307 0.9982720 39742\n",
      "[21] {capital-loss=None}            => {race=White}                   0.8136849  0.8535653 0.9982720 39742\n",
      "[22] {native-country=United-States} => {capital-gain=None}            0.8219565  0.9159062 0.9983862 40146\n",
      "[23] {capital-gain=None}            => {native-country=United-States} 0.8219565  0.8959761 0.9983862 40146\n",
      "[24] {native-country=United-States} => {capital-loss=None}            0.8548380  0.9525461 0.9992323 41752\n",
      "[25] {capital-loss=None}            => {native-country=United-States} 0.8548380  0.8967354 0.9992323 41752\n",
      "[26] {capital-gain=None}            => {capital-loss=None}            0.8706646  0.9490705 0.9955863 42525\n",
      "[27] {capital-loss=None}            => {capital-gain=None}            0.8706646  0.9133376 0.9955863 42525\n",
      "[28] {capital-gain=None,                                                                                  \n",
      "      hours-per-week=Full-time}     => {capital-loss=None}            0.5191638  0.9550659 1.0018756 25357\n",
      "[29] {capital-loss=None,                                                                                  \n",
      "      hours-per-week=Full-time}     => {capital-gain=None}            0.5191638  0.9259787 1.0093657 25357\n",
      "[30] {race=White,                                                                                         \n",
      "      sex=Male}                     => {native-country=United-States} 0.5415421  0.9204803 1.0256912 26450\n",
      "[31] {sex=Male,                                                                                           \n",
      "      native-country=United-States} => {race=White}                   0.5415421  0.9051090 1.0585540 26450\n",
      "[32] {race=White,                                                                                         \n",
      "      sex=Male}                     => {capital-gain=None}            0.5313050  0.9030799 0.9844048 25950\n",
      "[33] {sex=Male,                                                                                           \n",
      "      capital-gain=None}            => {race=White}                   0.5313050  0.8780834 1.0269468 25950\n",
      "[34] {race=White,                                                                                         \n",
      "      sex=Male}                     => {capital-loss=None}            0.5564268  0.9457804 0.9921350 27177\n",
      "[35] {sex=Male,                                                                                           \n",
      "      capital-loss=None}            => {race=White}                   0.5564268  0.8788888 1.0278887 27177\n",
      "[36] {sex=Male,                                                                                           \n",
      "      native-country=United-States} => {capital-gain=None}            0.5406003  0.9035349 0.9849008 26404\n",
      "[37] {sex=Male,                                                                                           \n",
      "      capital-gain=None}            => {native-country=United-States} 0.5406003  0.8934457 0.9955666 26404\n",
      "[38] {sex=Male,                                                                                           \n",
      "      native-country=United-States} => {capital-loss=None}            0.5661316  0.9462068 0.9925823 27651\n",
      "[39] {sex=Male,                                                                                           \n",
      "      capital-loss=None}            => {native-country=United-States} 0.5661316  0.8942177 0.9964268 27651\n",
      "[40] {sex=Male,                                                                                           \n",
      "      capital-gain=None}            => {capital-loss=None}            0.5696941  0.9415288 0.9876750 27825\n",
      "[41] {sex=Male,                                                                                           \n",
      "      capital-loss=None}            => {capital-gain=None}            0.5696941  0.8998448 0.9808784 27825\n",
      "[42] {workclass=Private,                                                                                  \n",
      "      race=White}                   => {native-country=United-States} 0.5433848  0.9144157 1.0189334 26540\n",
      "[43] {workclass=Private,                                                                                  \n",
      "      native-country=United-States} => {race=White}                   0.5433848  0.8804113 1.0296693 26540\n",
      "[44] {workclass=Private,                                                                                  \n",
      "      race=White}                   => {capital-gain=None}            0.5472339  0.9208931 1.0038221 26728\n",
      "[45] {workclass=Private,                                                                                  \n",
      "      capital-gain=None}            => {race=White}                   0.5472339  0.8532210 0.9978693 26728\n",
      "[46] {workclass=Private,                                                                                  \n",
      "      race=White}                   => {capital-loss=None}            0.5674829  0.9549683 1.0017732 27717\n",
      "[47] {workclass=Private,                                                                                  \n",
      "      capital-loss=None}            => {race=White}                   0.5674829  0.8546452 0.9995351 27717\n",
      "[48] {workclass=Private,                                                                                  \n",
      "      native-country=United-States} => {capital-gain=None}            0.5689570  0.9218444 1.0048592 27789\n",
      "[49] {workclass=Private,                                                                                  \n",
      "      capital-gain=None}            => {native-country=United-States} 0.5689570  0.8870906 0.9884851 27789\n",
      "[50] {workclass=Private,                                                                                  \n",
      "      native-country=United-States} => {capital-loss=None}            0.5897179  0.9554818 1.0023119 28803\n",
      "[51] {workclass=Private,                                                                                  \n",
      "      capital-loss=None}            => {native-country=United-States} 0.5897179  0.8881317 0.9896452 28803\n",
      "[52] {workclass=Private,                                                                                  \n",
      "      capital-gain=None}            => {capital-loss=None}            0.6111748  0.9529145 0.9996188 29851\n",
      "[53] {workclass=Private,                                                                                  \n",
      "      capital-loss=None}            => {capital-gain=None}            0.6111748  0.9204465 1.0033354 29851\n",
      "[54] {race=White,                                                                                         \n",
      "      native-country=United-States} => {capital-gain=None}            0.7194628  0.9128933 0.9951019 35140\n",
      "[55] {race=White,                                                                                         \n",
      "      capital-gain=None}            => {native-country=United-States} 0.7194628  0.9202807 1.0254689 35140\n",
      "[56] {capital-gain=None,                                                                                  \n",
      "      native-country=United-States} => {race=White}                   0.7194628  0.8753051 1.0236975 35140\n",
      "[57] {race=White,                                                                                         \n",
      "      native-country=United-States} => {capital-loss=None}            0.7490480  0.9504325 0.9970152 36585\n",
      "[58] {race=White,                                                                                         \n",
      "      capital-loss=None}            => {native-country=United-States} 0.7490480  0.9205626 1.0257830 36585\n",
      "[59] {capital-loss=None,                                                                                  \n",
      "      native-country=United-States} => {race=White}                   0.7490480  0.8762454 1.0247972 36585\n",
      "[60] {race=White,                                                                                         \n",
      "      capital-gain=None}            => {capital-loss=None}            0.7404283  0.9470983 0.9935175 36164\n",
      "[61] {race=White,                                                                                         \n",
      "      capital-loss=None}            => {capital-gain=None}            0.7404283  0.9099693 0.9919147 36164\n",
      "[62] {capital-gain=None,                                                                                  \n",
      "      capital-loss=None}            => {race=White}                   0.7404283  0.8504174 0.9945905 36164\n",
      "[63] {capital-gain=None,                                                                                  \n",
      "      native-country=United-States} => {capital-loss=None}            0.7793702  0.9481891 0.9946618 38066\n",
      "[64] {capital-loss=None,                                                                                  \n",
      "      native-country=United-States} => {capital-gain=None}            0.7793702  0.9117168 0.9938195 38066\n",
      "[65] {capital-gain=None,                                                                                  \n",
      "      capital-loss=None}            => {native-country=United-States} 0.7793702  0.8951440 0.9974590 38066\n",
      "[66] {race=White,                                                                                         \n",
      "      sex=Male,                                                                                           \n",
      "      native-country=United-States} => {capital-loss=None}            0.5113632  0.9442722 0.9905529 24976\n",
      "[67] {race=White,                                                                                         \n",
      "      sex=Male,                                                                                           \n",
      "      capital-loss=None}            => {native-country=United-States} 0.5113632  0.9190124 1.0240556 24976\n",
      "[68] {sex=Male,                                                                                           \n",
      "      capital-loss=None,                                                                                  \n",
      "      native-country=United-States} => {race=White}                   0.5113632  0.9032585 1.0563898 24976\n",
      "[69] {sex=Male,                                                                                           \n",
      "      capital-gain=None,                                                                                  \n",
      "      native-country=United-States} => {capital-loss=None}            0.5084149  0.9404636 0.9865576 24832\n",
      "[70] {sex=Male,                                                                                           \n",
      "      capital-loss=None,                                                                                  \n",
      "      native-country=United-States} => {capital-gain=None}            0.5084149  0.8980507 0.9789228 24832\n",
      "[71] {sex=Male,                                                                                           \n",
      "      capital-gain=None,                                                                                  \n",
      "      capital-loss=None}            => {native-country=United-States} 0.5084149  0.8924349 0.9944402 24832\n",
      "[72] {workclass=Private,                                                                                  \n",
      "      race=White,                                                                                         \n",
      "      native-country=United-States} => {capital-loss=None}            0.5181401  0.9535418 1.0002768 25307\n",
      "[73] {workclass=Private,                                                                                  \n",
      "      race=White,                                                                                         \n",
      "      capital-loss=None}            => {native-country=United-States} 0.5181401  0.9130498 1.0174114 25307\n",
      "[74] {workclass=Private,                                                                                  \n",
      "      capital-loss=None,                                                                                  \n",
      "      native-country=United-States} => {race=White}                   0.5181401  0.8786238 1.0275787 25307\n",
      "[75] {workclass=Private,                                                                                  \n",
      "      race=White,                                                                                         \n",
      "      capital-gain=None}            => {capital-loss=None}            0.5204742  0.9511000 0.9977153 25421\n",
      "[76] {workclass=Private,                                                                                  \n",
      "      race=White,                                                                                         \n",
      "      capital-loss=None}            => {capital-gain=None}            0.5204742  0.9171628 0.9997559 25421\n",
      "[77] {workclass=Private,                                                                                  \n",
      "      capital-gain=None,                                                                                  \n",
      "      capital-loss=None}            => {race=White}                   0.5204742  0.8515963 0.9959692 25421\n",
      "[78] {workclass=Private,                                                                                  \n",
      "      capital-gain=None,                                                                                  \n",
      "      native-country=United-States} => {capital-loss=None}            0.5414807  0.9517075 0.9983526 26447\n",
      "[79] {workclass=Private,                                                                                  \n",
      "      capital-loss=None,                                                                                  \n",
      "      native-country=United-States} => {capital-gain=None}            0.5414807  0.9182030 1.0008898 26447\n",
      "[80] {workclass=Private,                                                                                  \n",
      "      capital-gain=None,                                                                                  \n",
      "      capital-loss=None}            => {native-country=United-States} 0.5414807  0.8859670 0.9872330 26447\n",
      "[81] {race=White,                                                                                         \n",
      "      capital-gain=None,                                                                                  \n",
      "      native-country=United-States} => {capital-loss=None}            0.6803980  0.9457029 0.9920537 33232\n",
      "[82] {race=White,                                                                                         \n",
      "      capital-loss=None,                                                                                  \n",
      "      native-country=United-States} => {capital-gain=None}            0.6803980  0.9083504 0.9901500 33232\n",
      "[83] {race=White,                                                                                         \n",
      "      capital-gain=None,                                                                                  \n",
      "      capital-loss=None}            => {native-country=United-States} 0.6803980  0.9189249 1.0239581 33232\n",
      "[84] {capital-gain=None,                                                                                  \n",
      "      capital-loss=None,                                                                                  \n",
      "      native-country=United-States} => {race=White}                   0.6803980  0.8730100 1.0210133 33232\n"
     ]
    }
   ],
   "source": [
    "inspect(rules)"
   ]
  },
  {
   "cell_type": "code",
   "execution_count": 16,
   "metadata": {},
   "outputs": [
    {
     "data": {
      "text/plain": [
       "set of 33 rules "
      ]
     },
     "metadata": {},
     "output_type": "display_data"
    },
    {
     "name": "stdout",
     "output_type": "stream",
     "text": [
      "     lhs                               rhs                              support confidence      lift count\n",
      "[1]  {capital-loss=None}            => {capital-gain=None}            0.8706646  0.9133376 0.9955863 42525\n",
      "[2]  {capital-loss=None}            => {native-country=United-States} 0.8548380  0.8967354 0.9992323 41752\n",
      "[3]  {capital-loss=None}            => {race=White}                   0.8136849  0.8535653 0.9982720 39742\n",
      "[4]  {capital-loss=None,                                                                                  \n",
      "      native-country=United-States} => {capital-gain=None}            0.7793702  0.9117168 0.9938195 38066\n",
      "[5]  {capital-gain=None,                                                                                  \n",
      "      capital-loss=None}            => {native-country=United-States} 0.7793702  0.8951440 0.9974590 38066\n",
      "[6]  {race=White,                                                                                         \n",
      "      capital-loss=None}            => {native-country=United-States} 0.7490480  0.9205626 1.0257830 36585\n",
      "[7]  {capital-loss=None,                                                                                  \n",
      "      native-country=United-States} => {race=White}                   0.7490480  0.8762454 1.0247972 36585\n",
      "[8]  {race=White,                                                                                         \n",
      "      capital-loss=None}            => {capital-gain=None}            0.7404283  0.9099693 0.9919147 36164\n",
      "[9]  {capital-gain=None,                                                                                  \n",
      "      capital-loss=None}            => {race=White}                   0.7404283  0.8504174 0.9945905 36164\n",
      "[10] {race=White,                                                                                         \n",
      "      capital-loss=None,                                                                                  \n",
      "      native-country=United-States} => {capital-gain=None}            0.6803980  0.9083504 0.9901500 33232\n",
      "[11] {race=White,                                                                                         \n",
      "      capital-gain=None,                                                                                  \n",
      "      capital-loss=None}            => {native-country=United-States} 0.6803980  0.9189249 1.0239581 33232\n",
      "[12] {capital-gain=None,                                                                                  \n",
      "      capital-loss=None,                                                                                  \n",
      "      native-country=United-States} => {race=White}                   0.6803980  0.8730100 1.0210133 33232\n",
      "[13] {workclass=Private,                                                                                  \n",
      "      capital-loss=None}            => {capital-gain=None}            0.6111748  0.9204465 1.0033354 29851\n",
      "[14] {workclass=Private,                                                                                  \n",
      "      capital-loss=None}            => {native-country=United-States} 0.5897179  0.8881317 0.9896452 28803\n",
      "[15] {sex=Male,                                                                                           \n",
      "      capital-loss=None}            => {capital-gain=None}            0.5696941  0.8998448 0.9808784 27825\n",
      "[16] {workclass=Private,                                                                                  \n",
      "      capital-loss=None}            => {race=White}                   0.5674829  0.8546452 0.9995351 27717\n",
      "[17] {sex=Male,                                                                                           \n",
      "      capital-loss=None}            => {native-country=United-States} 0.5661316  0.8942177 0.9964268 27651\n",
      "[18] {hours-per-week=Full-time}     => {capital-loss=None}            0.5606650  0.9582531 1.0052191 27384\n",
      "[19] {sex=Male,                                                                                           \n",
      "      capital-loss=None}            => {race=White}                   0.5564268  0.8788888 1.0278887 27177\n",
      "[20] {hours-per-week=Full-time}     => {capital-gain=None}            0.5435895  0.9290688 1.0127342 26550\n",
      "[21] {workclass=Private,                                                                                  \n",
      "      capital-loss=None,                                                                                  \n",
      "      native-country=United-States} => {capital-gain=None}            0.5414807  0.9182030 1.0008898 26447\n",
      "[22] {workclass=Private,                                                                                  \n",
      "      capital-gain=None,                                                                                  \n",
      "      capital-loss=None}            => {native-country=United-States} 0.5414807  0.8859670 0.9872330 26447\n",
      "[23] {workclass=Private,                                                                                  \n",
      "      race=White,                                                                                         \n",
      "      capital-loss=None}            => {capital-gain=None}            0.5204742  0.9171628 0.9997559 25421\n",
      "[24] {workclass=Private,                                                                                  \n",
      "      capital-gain=None,                                                                                  \n",
      "      capital-loss=None}            => {race=White}                   0.5204742  0.8515963 0.9959692 25421\n",
      "[25] {capital-gain=None,                                                                                  \n",
      "      hours-per-week=Full-time}     => {capital-loss=None}            0.5191638  0.9550659 1.0018756 25357\n",
      "[26] {capital-loss=None,                                                                                  \n",
      "      hours-per-week=Full-time}     => {capital-gain=None}            0.5191638  0.9259787 1.0093657 25357\n",
      "[27] {workclass=Private,                                                                                  \n",
      "      race=White,                                                                                         \n",
      "      capital-loss=None}            => {native-country=United-States} 0.5181401  0.9130498 1.0174114 25307\n",
      "[28] {workclass=Private,                                                                                  \n",
      "      capital-loss=None,                                                                                  \n",
      "      native-country=United-States} => {race=White}                   0.5181401  0.8786238 1.0275787 25307\n",
      "[29] {hours-per-week=Full-time}     => {native-country=United-States} 0.5179559  0.8852574 0.9864423 25298\n",
      "[30] {race=White,                                                                                         \n",
      "      sex=Male,                                                                                           \n",
      "      capital-loss=None}            => {native-country=United-States} 0.5113632  0.9190124 1.0240556 24976\n",
      "[31] {sex=Male,                                                                                           \n",
      "      capital-loss=None,                                                                                  \n",
      "      native-country=United-States} => {race=White}                   0.5113632  0.9032585 1.0563898 24976\n",
      "[32] {sex=Male,                                                                                           \n",
      "      capital-loss=None,                                                                                  \n",
      "      native-country=United-States} => {capital-gain=None}            0.5084149  0.8980507 0.9789228 24832\n",
      "[33] {sex=Male,                                                                                           \n",
      "      capital-gain=None,                                                                                  \n",
      "      capital-loss=None}            => {native-country=United-States} 0.5084149  0.8924349 0.9944402 24832\n"
     ]
    },
    {
     "data": {
      "image/png": "[encoded data removed]",
      "text/plain": [
       "Plot with title \"Graph for 33 rules\""
      ]
     },
     "metadata": {},
     "output_type": "display_data"
    }
   ],
   "source": [
    "library(arulesViz)\n",
    "#A=>B\n",
    "#왼쪽 아이템(A)이 beef or dessert\n",
    "rules2<- subset(rules, lhs %in% c('hours-per-week=Full-time',\n",
    "                                 'capital-loss=None'))\n",
    "rules2\n",
    "#거래수 내림차순 정렬\n",
    "inspect(sort(rules2,decreasing=T, by='count'))\n",
    "plot(rules2, method='graph')"
   ]
  },
  {
   "cell_type": "code",
   "execution_count": null,
   "metadata": {},
   "outputs": [],
   "source": []
  },
  {
   "cell_type": "code",
   "execution_count": null,
   "metadata": {},
   "outputs": [],
   "source": []
  },
  {
   "cell_type": "code",
   "execution_count": null,
   "metadata": {},
   "outputs": [],
   "source": []
  },
  {
   "cell_type": "code",
   "execution_count": null,
   "metadata": {},
   "outputs": [],
   "source": []
  },
  {
   "cell_type": "code",
   "execution_count": null,
   "metadata": {},
   "outputs": [],
   "source": []
  },
  {
   "cell_type": "code",
   "execution_count": null,
   "metadata": {},
   "outputs": [],
   "source": []
  },
  {
   "cell_type": "code",
   "execution_count": null,
   "metadata": {},
   "outputs": [],
   "source": []
  },
  {
   "cell_type": "code",
   "execution_count": null,
   "metadata": {},
   "outputs": [],
   "source": []
  },
  {
   "cell_type": "code",
   "execution_count": null,
   "metadata": {},
   "outputs": [],
   "source": []
  }
 ],
 "metadata": {
  "kernelspec": {
   "display_name": "R",
   "language": "R",
   "name": "ir"
  },
  "language_info": {
   "codemirror_mode": "r",
   "file_extension": ".r",
   "mimetype": "text/x-r-source",
   "name": "R",
   "pygments_lexer": "r",
   "version": "3.6.1"
  }
 },
 "nbformat": 4,
 "nbformat_minor": 2
}
