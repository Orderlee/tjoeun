{
 "cells": [
  {
   "cell_type": "code",
   "execution_count": 2,
   "metadata": {},
   "outputs": [
    {
     "data": {
      "text/html": [
       "<table>\n",
       "<thead><tr><th scope=col>beer</th><th scope=col>bread</th><th scope=col>cola</th><th scope=col>diapers</th><th scope=col>eggs</th><th scope=col>milk</th></tr></thead>\n",
       "<tbody>\n",
       "\t<tr><td>0</td><td>1</td><td>0</td><td>0</td><td>0</td><td>1</td></tr>\n",
       "\t<tr><td>1</td><td>1</td><td>0</td><td>1</td><td>1</td><td>0</td></tr>\n",
       "\t<tr><td>1</td><td>0</td><td>1</td><td>1</td><td>0</td><td>1</td></tr>\n",
       "\t<tr><td>1</td><td>1</td><td>0</td><td>1</td><td>0</td><td>1</td></tr>\n",
       "\t<tr><td>0</td><td>1</td><td>1</td><td>1</td><td>0</td><td>1</td></tr>\n",
       "</tbody>\n",
       "</table>\n"
      ],
      "text/latex": [
       "\\begin{tabular}{r|llllll}\n",
       " beer & bread & cola & diapers & eggs & milk\\\\\n",
       "\\hline\n",
       "\t 0 & 1 & 0 & 0 & 0 & 1\\\\\n",
       "\t 1 & 1 & 0 & 1 & 1 & 0\\\\\n",
       "\t 1 & 0 & 1 & 1 & 0 & 1\\\\\n",
       "\t 1 & 1 & 0 & 1 & 0 & 1\\\\\n",
       "\t 0 & 1 & 1 & 1 & 0 & 1\\\\\n",
       "\\end{tabular}\n"
      ],
      "text/markdown": [
       "\n",
       "| beer | bread | cola | diapers | eggs | milk |\n",
       "|---|---|---|---|---|---|\n",
       "| 0 | 1 | 0 | 0 | 0 | 1 |\n",
       "| 1 | 1 | 0 | 1 | 1 | 0 |\n",
       "| 1 | 0 | 1 | 1 | 0 | 1 |\n",
       "| 1 | 1 | 0 | 1 | 0 | 1 |\n",
       "| 0 | 1 | 1 | 1 | 0 | 1 |\n",
       "\n"
      ],
      "text/plain": [
       "  beer bread cola diapers eggs milk\n",
       "1 0    1     0    0       0    1   \n",
       "2 1    1     0    1       1    0   \n",
       "3 1    0     1    1       0    1   \n",
       "4 1    1     0    1       0    1   \n",
       "5 0    1     1    1       0    1   "
      ]
     },
     "metadata": {},
     "output_type": "display_data"
    },
    {
     "data": {
      "text/html": [
       "'data.frame'"
      ],
      "text/latex": [
       "'data.frame'"
      ],
      "text/markdown": [
       "'data.frame'"
      ],
      "text/plain": [
       "[1] \"data.frame\""
      ]
     },
     "metadata": {},
     "output_type": "display_data"
    }
   ],
   "source": [
    "x<-data.frame(beer=c(0,1,1,1,0),bread=c(1,1,0,1,1),cola=c(0,0,1,0,1),\n",
    "              diapers=c(0,1,1,1,1),eggs=c(0,1,0,0,0),milk=c(1,0,1,1,1))\n",
    "x\n",
    "class(x)"
   ]
  },
  {
   "cell_type": "code",
   "execution_count": 4,
   "metadata": {},
   "outputs": [
    {
     "name": "stderr",
     "output_type": "stream",
     "text": [
      "Installing package into 'C:/Users/tjoeun302-18/Documents/R/win-library/3.6'\n",
      "(as 'lib' is unspecified)\n"
     ]
    },
    {
     "name": "stdout",
     "output_type": "stream",
     "text": [
      "package 'arules' successfully unpacked and MD5 sums checked\n",
      "\n",
      "The downloaded binary packages are in\n",
      "\tC:\\Users\\tjoeun302-18\\AppData\\Local\\Temp\\Rtmp63AqSn\\downloaded_packages\n"
     ]
    }
   ],
   "source": [
    "#install.packages(\"arules\")"
   ]
  },
  {
   "cell_type": "code",
   "execution_count": 5,
   "metadata": {},
   "outputs": [
    {
     "name": "stderr",
     "output_type": "stream",
     "text": [
      "Warning message:\n",
      "\"package 'arules' was built under R version 3.6.2\"Loading required package: Matrix\n",
      "\n",
      "Attaching package: 'arules'\n",
      "\n",
      "The following objects are masked from 'package:base':\n",
      "\n",
      "    abbreviate, write\n",
      "\n"
     ]
    },
    {
     "data": {
      "text/html": [
       "<table>\n",
       "<thead><tr><th scope=col>beer</th><th scope=col>bread</th><th scope=col>cola</th><th scope=col>diapers</th><th scope=col>eggs</th><th scope=col>milk</th></tr></thead>\n",
       "<tbody>\n",
       "\t<tr><td>0</td><td>1</td><td>0</td><td>0</td><td>0</td><td>1</td></tr>\n",
       "\t<tr><td>1</td><td>1</td><td>0</td><td>1</td><td>1</td><td>0</td></tr>\n",
       "\t<tr><td>1</td><td>0</td><td>1</td><td>1</td><td>0</td><td>1</td></tr>\n",
       "\t<tr><td>1</td><td>1</td><td>0</td><td>1</td><td>0</td><td>1</td></tr>\n",
       "\t<tr><td>0</td><td>1</td><td>1</td><td>1</td><td>0</td><td>1</td></tr>\n",
       "</tbody>\n",
       "</table>\n"
      ],
      "text/latex": [
       "\\begin{tabular}{llllll}\n",
       " beer & bread & cola & diapers & eggs & milk\\\\\n",
       "\\hline\n",
       "\t 0 & 1 & 0 & 0 & 0 & 1\\\\\n",
       "\t 1 & 1 & 0 & 1 & 1 & 0\\\\\n",
       "\t 1 & 0 & 1 & 1 & 0 & 1\\\\\n",
       "\t 1 & 1 & 0 & 1 & 0 & 1\\\\\n",
       "\t 0 & 1 & 1 & 1 & 0 & 1\\\\\n",
       "\\end{tabular}\n"
      ],
      "text/markdown": [
       "\n",
       "| beer | bread | cola | diapers | eggs | milk |\n",
       "|---|---|---|---|---|---|\n",
       "| 0 | 1 | 0 | 0 | 0 | 1 |\n",
       "| 1 | 1 | 0 | 1 | 1 | 0 |\n",
       "| 1 | 0 | 1 | 1 | 0 | 1 |\n",
       "| 1 | 1 | 0 | 1 | 0 | 1 |\n",
       "| 0 | 1 | 1 | 1 | 0 | 1 |\n",
       "\n"
      ],
      "text/plain": [
       "     beer bread cola diapers eggs milk\n",
       "[1,] 0    1     0    0       0    1   \n",
       "[2,] 1    1     0    1       1    0   \n",
       "[3,] 1    0     1    1       0    1   \n",
       "[4,] 1    1     0    1       0    1   \n",
       "[5,] 0    1     1    1       0    1   "
      ]
     },
     "metadata": {},
     "output_type": "display_data"
    },
    {
     "data": {
      "text/html": [
       "'matrix'"
      ],
      "text/latex": [
       "'matrix'"
      ],
      "text/markdown": [
       "'matrix'"
      ],
      "text/plain": [
       "[1] \"matrix\""
      ]
     },
     "metadata": {},
     "output_type": "display_data"
    }
   ],
   "source": [
    "library(arules)\n",
    "trans<-as.matrix(x,\"Transaction\") #트랜잭션 타입으로 변환\n",
    "trans\n",
    "class(trans)"
   ]
  },
  {
   "cell_type": "code",
   "execution_count": 7,
   "metadata": {},
   "outputs": [
    {
     "name": "stdout",
     "output_type": "stream",
     "text": [
      "Apriori\n",
      "\n",
      "Parameter specification:\n",
      " confidence minval smax arem  aval originalSupport maxtime support minlen\n",
      "        0.6    0.1    1 none FALSE            TRUE       5     0.2      1\n",
      " maxlen target   ext\n",
      "     10  rules FALSE\n",
      "\n",
      "Algorithmic control:\n",
      " filter tree heap memopt load sort verbose\n",
      "    0.1 TRUE TRUE  FALSE TRUE    2    TRUE\n",
      "\n",
      "Absolute minimum support count: 1 \n",
      "\n",
      "set item appearances ...[0 item(s)] done [0.00s].\n",
      "set transactions ...[6 item(s), 5 transaction(s)] done [0.00s].\n",
      "sorting and recoding items ... [6 item(s)] done [0.00s].\n",
      "creating transaction tree ... done [0.00s].\n",
      "checking subsets of size 1 2 3 4 done [0.00s].\n",
      "writing ... [49 rule(s)] done [0.00s].\n",
      "creating S4 object  ... done [0.00s].\n"
     ]
    },
    {
     "data": {
      "text/plain": [
       "set of 49 rules "
      ]
     },
     "metadata": {},
     "output_type": "display_data"
    }
   ],
   "source": [
    "#연관규칙을 탐색하는 함수\n",
    "rules1<-apriori(trans,parameter=list(supp=0.2,conf=0.6,target='rules'))\n",
    "#rules1<-apriori(trans)\n",
    "rules1\n",
    "#set transactions ...[6 item(s), 5 transaction(s)] done [0.00s].\n",
    "#6개 아이템, 5개 트랜잭션\n",
    "#49개의 거래규칙이 발견됨"
   ]
  },
  {
   "cell_type": "code",
   "execution_count": 8,
   "metadata": {},
   "outputs": [
    {
     "data": {
      "text/plain": [
       "set of 49 rules\n",
       "\n",
       "rule length distribution (lhs + rhs):sizes\n",
       " 1  2  3  4 \n",
       " 4 15 22  8 \n",
       "\n",
       "   Min. 1st Qu.  Median    Mean 3rd Qu.    Max. \n",
       "  1.000   2.000   3.000   2.694   3.000   4.000 \n",
       "\n",
       "summary of quality measures:\n",
       "    support         confidence          lift            count      \n",
       " Min.   :0.2000   Min.   :0.6000   Min.   :0.8333   Min.   :1.000  \n",
       " 1st Qu.:0.2000   1st Qu.:0.7500   1st Qu.:0.9375   1st Qu.:1.000  \n",
       " Median :0.4000   Median :1.0000   Median :1.2500   Median :2.000  \n",
       " Mean   :0.3755   Mean   :0.8759   Mean   :1.1687   Mean   :1.878  \n",
       " 3rd Qu.:0.4000   3rd Qu.:1.0000   3rd Qu.:1.2500   3rd Qu.:2.000  \n",
       " Max.   :0.8000   Max.   :1.0000   Max.   :1.6667   Max.   :4.000  \n",
       "\n",
       "mining info:\n",
       "  data ntransactions support confidence\n",
       " trans             5     0.2        0.6"
      ]
     },
     "metadata": {},
     "output_type": "display_data"
    }
   ],
   "source": [
    "summary(rules1) #발견된 규칙 요약\n",
    "#set of 49 rules\n",
    "#1  2  3  4 \n",
    "#4 15 22  8 "
   ]
  },
  {
   "cell_type": "code",
   "execution_count": 11,
   "metadata": {},
   "outputs": [
    {
     "data": {
      "text/html": [
       "<table>\n",
       "<thead><tr><th></th><th scope=col>rules</th><th scope=col>support</th><th scope=col>confidence</th><th scope=col>lift</th><th scope=col>count</th></tr></thead>\n",
       "<tbody>\n",
       "\t<tr><th scope=row>12</th><td>{beer} =&gt; {diapers}</td><td>0.6                   </td><td>1                     </td><td>1.25                  </td><td>3                     </td></tr>\n",
       "\t<tr><th scope=row>8</th><td><span style=white-space:pre-wrap>{cola} =&gt; {milk}   </span></td><td>0.4                                                           </td><td>1                                                             </td><td>1.25                                                          </td><td>2                                                             </td></tr>\n",
       "\t<tr><th scope=row>9</th><td>{cola} =&gt; {diapers}</td><td>0.4                   </td><td>1                     </td><td>1.25                  </td><td>2                     </td></tr>\n",
       "</tbody>\n",
       "</table>\n"
      ],
      "text/latex": [
       "\\begin{tabular}{r|lllll}\n",
       "  & rules & support & confidence & lift & count\\\\\n",
       "\\hline\n",
       "\t12 & \\{beer\\} => \\{diapers\\} & 0.6                         & 1                           & 1.25                        & 3                          \\\\\n",
       "\t8 & \\{cola\\} => \\{milk\\}    & 0.4                         & 1                           & 1.25                        & 2                          \\\\\n",
       "\t9 & \\{cola\\} => \\{diapers\\} & 0.4                         & 1                           & 1.25                        & 2                          \\\\\n",
       "\\end{tabular}\n"
      ],
      "text/markdown": [
       "\n",
       "| <!--/--> | rules | support | confidence | lift | count |\n",
       "|---|---|---|---|---|---|\n",
       "| 12 | {beer} => {diapers} | 0.6                 | 1                   | 1.25                | 3                   |\n",
       "| 8 | {cola} => {milk}    | 0.4                 | 1                   | 1.25                | 2                   |\n",
       "| 9 | {cola} => {diapers} | 0.4                 | 1                   | 1.25                | 2                   |\n",
       "\n"
      ],
      "text/plain": [
       "   rules               support confidence lift count\n",
       "12 {beer} => {diapers} 0.6     1          1.25 3    \n",
       "8  {cola} => {milk}    0.4     1          1.25 2    \n",
       "9  {cola} => {diapers} 0.4     1          1.25 2    "
      ]
     },
     "metadata": {},
     "output_type": "display_data"
    }
   ],
   "source": [
    "#상위 3개의 규칙\n",
    "#n 규칙수\n",
    "as(head(sort(rules1,by=c('confidence','support')),n=3),\n",
    "  'data.frame')"
   ]
  },
  {
   "cell_type": "code",
   "execution_count": 12,
   "metadata": {},
   "outputs": [
    {
     "name": "stdout",
     "output_type": "stream",
     "text": [
      "     lhs                     rhs       support confidence lift      count\n",
      "[1]  {}                   => {milk}    0.8     0.8000000  1.0000000 4    \n",
      "[2]  {}                   => {bread}   0.8     0.8000000  1.0000000 4    \n",
      "[3]  {}                   => {diapers} 0.8     0.8000000  1.0000000 4    \n",
      "[4]  {}                   => {beer}    0.6     0.6000000  1.0000000 3    \n",
      "[5]  {beer}               => {diapers} 0.6     1.0000000  1.2500000 3    \n",
      "[6]  {diapers}            => {beer}    0.6     0.7500000  1.2500000 3    \n",
      "[7]  {milk}               => {bread}   0.6     0.7500000  0.9375000 3    \n",
      "[8]  {bread}              => {milk}    0.6     0.7500000  0.9375000 3    \n",
      "[9]  {milk}               => {diapers} 0.6     0.7500000  0.9375000 3    \n",
      "[10] {diapers}            => {milk}    0.6     0.7500000  0.9375000 3    \n",
      "[11] {bread}              => {diapers} 0.6     0.7500000  0.9375000 3    \n",
      "[12] {diapers}            => {bread}   0.6     0.7500000  0.9375000 3    \n",
      "[13] {cola}               => {milk}    0.4     1.0000000  1.2500000 2    \n",
      "[14] {cola}               => {diapers} 0.4     1.0000000  1.2500000 2    \n",
      "[15] {beer}               => {milk}    0.4     0.6666667  0.8333333 2    \n",
      "[16] {beer}               => {bread}   0.4     0.6666667  0.8333333 2    \n",
      "[17] {cola,milk}          => {diapers} 0.4     1.0000000  1.2500000 2    \n",
      "[18] {cola,diapers}       => {milk}    0.4     1.0000000  1.2500000 2    \n",
      "[19] {diapers,milk}       => {cola}    0.4     0.6666667  1.6666667 2    \n",
      "[20] {beer,milk}          => {diapers} 0.4     1.0000000  1.2500000 2    \n",
      "[21] {beer,diapers}       => {milk}    0.4     0.6666667  0.8333333 2    \n",
      "[22] {diapers,milk}       => {beer}    0.4     0.6666667  1.1111111 2    \n",
      "[23] {beer,bread}         => {diapers} 0.4     1.0000000  1.2500000 2    \n",
      "[24] {beer,diapers}       => {bread}   0.4     0.6666667  0.8333333 2    \n",
      "[25] {bread,diapers}      => {beer}    0.4     0.6666667  1.1111111 2    \n",
      "[26] {bread,milk}         => {diapers} 0.4     0.6666667  0.8333333 2    \n",
      "[27] {diapers,milk}       => {bread}   0.4     0.6666667  0.8333333 2    \n",
      "[28] {bread,diapers}      => {milk}    0.4     0.6666667  0.8333333 2    \n",
      "[29] {eggs}               => {beer}    0.2     1.0000000  1.6666667 1    \n",
      "[30] {eggs}               => {bread}   0.2     1.0000000  1.2500000 1    \n",
      "[31] {eggs}               => {diapers} 0.2     1.0000000  1.2500000 1    \n",
      "[32] {beer,eggs}          => {bread}   0.2     1.0000000  1.2500000 1    \n",
      "[33] {bread,eggs}         => {beer}    0.2     1.0000000  1.6666667 1    \n",
      "[34] {beer,eggs}          => {diapers} 0.2     1.0000000  1.2500000 1    \n",
      "[35] {diapers,eggs}       => {beer}    0.2     1.0000000  1.6666667 1    \n",
      "[36] {bread,eggs}         => {diapers} 0.2     1.0000000  1.2500000 1    \n",
      "[37] {diapers,eggs}       => {bread}   0.2     1.0000000  1.2500000 1    \n",
      "[38] {beer,cola}          => {milk}    0.2     1.0000000  1.2500000 1    \n",
      "[39] {beer,cola}          => {diapers} 0.2     1.0000000  1.2500000 1    \n",
      "[40] {bread,cola}         => {milk}    0.2     1.0000000  1.2500000 1    \n",
      "[41] {bread,cola}         => {diapers} 0.2     1.0000000  1.2500000 1    \n",
      "[42] {beer,bread,eggs}    => {diapers} 0.2     1.0000000  1.2500000 1    \n",
      "[43] {beer,diapers,eggs}  => {bread}   0.2     1.0000000  1.2500000 1    \n",
      "[44] {bread,diapers,eggs} => {beer}    0.2     1.0000000  1.6666667 1    \n",
      "[45] {beer,cola,milk}     => {diapers} 0.2     1.0000000  1.2500000 1    \n",
      "[46] {beer,cola,diapers}  => {milk}    0.2     1.0000000  1.2500000 1    \n",
      "[47] {bread,cola,milk}    => {diapers} 0.2     1.0000000  1.2500000 1    \n",
      "[48] {bread,cola,diapers} => {milk}    0.2     1.0000000  1.2500000 1    \n",
      "[49] {beer,bread,milk}    => {diapers} 0.2     1.0000000  1.2500000 1    \n"
     ]
    }
   ],
   "source": [
    "#규칙의 상세정보\n",
    "inspect(sort(rules1))"
   ]
  },
  {
   "cell_type": "code",
   "execution_count": 14,
   "metadata": {},
   "outputs": [
    {
     "name": "stderr",
     "output_type": "stream",
     "text": [
      "Installing package into 'C:/Users/tjoeun302-18/Documents/R/win-library/3.6'\n",
      "(as 'lib' is unspecified)\n",
      "also installing the dependencies 'bitops', 'gtools', 'gdata', 'caTools', 'TSP', 'qap', 'gclus', 'gplots', 'registry', 'vcd', 'seriation', 'igraph', 'plotly', 'visNetwork'\n",
      "\n"
     ]
    },
    {
     "name": "stdout",
     "output_type": "stream",
     "text": [
      "\n",
      "  There is a binary version available but the source version is later:\n",
      "       binary source needs_compilation\n",
      "plotly  4.9.1  4.9.2             FALSE\n",
      "\n",
      "package 'bitops' successfully unpacked and MD5 sums checked\n",
      "package 'gtools' successfully unpacked and MD5 sums checked\n",
      "package 'gdata' successfully unpacked and MD5 sums checked\n",
      "package 'caTools' successfully unpacked and MD5 sums checked\n",
      "package 'TSP' successfully unpacked and MD5 sums checked\n",
      "package 'qap' successfully unpacked and MD5 sums checked\n",
      "package 'gclus' successfully unpacked and MD5 sums checked\n",
      "package 'gplots' successfully unpacked and MD5 sums checked\n",
      "package 'registry' successfully unpacked and MD5 sums checked\n",
      "package 'vcd' successfully unpacked and MD5 sums checked\n",
      "package 'seriation' successfully unpacked and MD5 sums checked\n",
      "package 'igraph' successfully unpacked and MD5 sums checked\n",
      "package 'visNetwork' successfully unpacked and MD5 sums checked\n",
      "package 'arulesViz' successfully unpacked and MD5 sums checked\n",
      "\n",
      "The downloaded binary packages are in\n",
      "\tC:\\Users\\tjoeun302-18\\AppData\\Local\\Temp\\Rtmp63AqSn\\downloaded_packages\n"
     ]
    },
    {
     "name": "stderr",
     "output_type": "stream",
     "text": [
      "installing the source package 'plotly'\n",
      "\n"
     ]
    }
   ],
   "source": [
    "#install.packages('arulesViz')"
   ]
  },
  {
   "cell_type": "code",
   "execution_count": 15,
   "metadata": {},
   "outputs": [
    {
     "name": "stderr",
     "output_type": "stream",
     "text": [
      "Warning message:\n",
      "\"package 'arulesViz' was built under R version 3.6.2\"Loading required package: grid\n",
      "Registered S3 method overwritten by 'seriation':\n",
      "  method         from \n",
      "  reorder.hclust gclus\n"
     ]
    }
   ],
   "source": [
    "library(arulesViz)"
   ]
  },
  {
   "cell_type": "code",
   "execution_count": 16,
   "metadata": {},
   "outputs": [
    {
     "data": {
      "image/png": "[encoded data removed]",
      "text/plain": [
       "Plot with title \"Graph for 49 rules\""
      ]
     },
     "metadata": {},
     "output_type": "display_data"
    }
   ],
   "source": [
    "#연관규칙 그래프\n",
    "#노드: 물품집합\n",
    "#화살표의 두께: 지지도, 화살표의 진하기 :향상도(lift)\n",
    "plot(rules1,method='graph')"
   ]
  },
  {
   "cell_type": "code",
   "execution_count": 19,
   "metadata": {},
   "outputs": [
    {
     "data": {
      "text/plain": [
       "set of 18 rules "
      ]
     },
     "metadata": {},
     "output_type": "display_data"
    },
    {
     "name": "stdout",
     "output_type": "stream",
     "text": [
      "     lhs                  rhs       support confidence lift      count\n",
      "[1]  {}                => {diapers} 0.8     0.8000000  1.0000000 4    \n",
      "[2]  {eggs}            => {diapers} 0.2     1.0000000  1.2500000 1    \n",
      "[3]  {cola}            => {diapers} 0.4     1.0000000  1.2500000 2    \n",
      "[4]  {beer}            => {diapers} 0.6     1.0000000  1.2500000 3    \n",
      "[5]  {milk}            => {diapers} 0.6     0.7500000  0.9375000 3    \n",
      "[6]  {bread}           => {diapers} 0.6     0.7500000  0.9375000 3    \n",
      "[7]  {beer,eggs}       => {diapers} 0.2     1.0000000  1.2500000 1    \n",
      "[8]  {bread,eggs}      => {diapers} 0.2     1.0000000  1.2500000 1    \n",
      "[9]  {beer,cola}       => {diapers} 0.2     1.0000000  1.2500000 1    \n",
      "[10] {cola,milk}       => {diapers} 0.4     1.0000000  1.2500000 2    \n",
      "[11] {bread,cola}      => {diapers} 0.2     1.0000000  1.2500000 1    \n",
      "[12] {beer,milk}       => {diapers} 0.4     1.0000000  1.2500000 2    \n",
      "[13] {beer,bread}      => {diapers} 0.4     1.0000000  1.2500000 2    \n",
      "[14] {bread,milk}      => {diapers} 0.4     0.6666667  0.8333333 2    \n",
      "[15] {beer,bread,eggs} => {diapers} 0.2     1.0000000  1.2500000 1    \n",
      "[16] {beer,cola,milk}  => {diapers} 0.2     1.0000000  1.2500000 1    \n",
      "[17] {bread,cola,milk} => {diapers} 0.2     1.0000000  1.2500000 1    \n",
      "[18] {beer,bread,milk} => {diapers} 0.2     1.0000000  1.2500000 1    \n"
     ]
    },
    {
     "data": {
      "image/png": "[encoded data removed]",
      "text/plain": [
       "Plot with title \"Graph for 18 rules\""
      ]
     },
     "metadata": {},
     "output_type": "display_data"
    }
   ],
   "source": [
    "#특정 상품에 대한 연관규칙 그래프\n",
    "#A -> B\n",
    "# lhs(left-hands side), rhs(right-hands-side)\n",
    "# 오른쪽 아이템(B)이 기저귀 규칙들\n",
    "rules2<- subset(rules1, rhs %in% 'diapers')\n",
    "rules2\n",
    "inspect(rules2)\n",
    "plot(rules2, method='graph')"
   ]
  },
  {
   "cell_type": "code",
   "execution_count": 18,
   "metadata": {},
   "outputs": [
    {
     "data": {
      "text/plain": [
       "set of 24 rules "
      ]
     },
     "metadata": {},
     "output_type": "display_data"
    },
    {
     "name": "stdout",
     "output_type": "stream",
     "text": [
      "     lhs                     rhs       support confidence lift      count\n",
      "[1]  {beer}               => {diapers} 0.6     1.0000000  1.2500000 3    \n",
      "[2]  {cola}               => {milk}    0.4     1.0000000  1.2500000 2    \n",
      "[3]  {cola}               => {diapers} 0.4     1.0000000  1.2500000 2    \n",
      "[4]  {beer}               => {milk}    0.4     0.6666667  0.8333333 2    \n",
      "[5]  {beer}               => {bread}   0.4     0.6666667  0.8333333 2    \n",
      "[6]  {cola,milk}          => {diapers} 0.4     1.0000000  1.2500000 2    \n",
      "[7]  {cola,diapers}       => {milk}    0.4     1.0000000  1.2500000 2    \n",
      "[8]  {beer,milk}          => {diapers} 0.4     1.0000000  1.2500000 2    \n",
      "[9]  {beer,diapers}       => {milk}    0.4     0.6666667  0.8333333 2    \n",
      "[10] {beer,bread}         => {diapers} 0.4     1.0000000  1.2500000 2    \n",
      "[11] {beer,diapers}       => {bread}   0.4     0.6666667  0.8333333 2    \n",
      "[12] {beer,eggs}          => {bread}   0.2     1.0000000  1.2500000 1    \n",
      "[13] {beer,eggs}          => {diapers} 0.2     1.0000000  1.2500000 1    \n",
      "[14] {beer,cola}          => {milk}    0.2     1.0000000  1.2500000 1    \n",
      "[15] {beer,cola}          => {diapers} 0.2     1.0000000  1.2500000 1    \n",
      "[16] {bread,cola}         => {milk}    0.2     1.0000000  1.2500000 1    \n",
      "[17] {bread,cola}         => {diapers} 0.2     1.0000000  1.2500000 1    \n",
      "[18] {beer,bread,eggs}    => {diapers} 0.2     1.0000000  1.2500000 1    \n",
      "[19] {beer,diapers,eggs}  => {bread}   0.2     1.0000000  1.2500000 1    \n",
      "[20] {beer,cola,milk}     => {diapers} 0.2     1.0000000  1.2500000 1    \n",
      "[21] {beer,cola,diapers}  => {milk}    0.2     1.0000000  1.2500000 1    \n",
      "[22] {bread,cola,milk}    => {diapers} 0.2     1.0000000  1.2500000 1    \n",
      "[23] {bread,cola,diapers} => {milk}    0.2     1.0000000  1.2500000 1    \n",
      "[24] {beer,bread,milk}    => {diapers} 0.2     1.0000000  1.2500000 1    \n"
     ]
    },
    {
     "data": {
      "image/png": "[encoded data removed]",
      "text/plain": [
       "Plot with title \"Graph for 24 rules\""
      ]
     },
     "metadata": {},
     "output_type": "display_data"
    }
   ],
   "source": [
    "#왼쪽 아이템(A)이 맥주 또는 콜라인 규칙들\n",
    "rules3<- subset(rules1, lhs %in% c('beer','cola'))\n",
    "rules3\n",
    "#거래수 내림차순 정렬\n",
    "inspect(sort(rules3, descreasing=T, by='count'))\n",
    "plot(rules3, method='graph')"
   ]
  },
  {
   "cell_type": "code",
   "execution_count": null,
   "metadata": {},
   "outputs": [],
   "source": []
  },
  {
   "cell_type": "code",
   "execution_count": null,
   "metadata": {},
   "outputs": [],
   "source": []
  }
 ],
 "metadata": {
  "kernelspec": {
   "display_name": "R",
   "language": "R",
   "name": "ir"
  },
  "language_info": {
   "codemirror_mode": "r",
   "file_extension": ".r",
   "mimetype": "text/x-r-source",
   "name": "R",
   "pygments_lexer": "r",
   "version": "3.6.1"
  }
 },
 "nbformat": 4,
 "nbformat_minor": 2
}
