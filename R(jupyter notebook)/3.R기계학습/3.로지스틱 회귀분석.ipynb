{
 "cells": [
  {
   "cell_type": "code",
   "execution_count": 6,
   "metadata": {},
   "outputs": [
    {
     "data": {
      "text/html": [
       "<table>\n",
       "<thead><tr><th scope=col>Ozone</th><th scope=col>Solar.R</th><th scope=col>Wind</th><th scope=col>Temp</th><th scope=col>Month</th><th scope=col>Day</th><th scope=col>Ozone2</th><th scope=col>Result</th></tr></thead>\n",
       "<tbody>\n",
       "\t<tr><td>41      </td><td>190     </td><td> 7.4    </td><td>67      </td><td>5       </td><td>1       </td><td>41.00000</td><td>0       </td></tr>\n",
       "\t<tr><td>36      </td><td>118     </td><td> 8.0    </td><td>72      </td><td>5       </td><td>2       </td><td>36.00000</td><td>0       </td></tr>\n",
       "\t<tr><td>12      </td><td>149     </td><td>12.6    </td><td>74      </td><td>5       </td><td>3       </td><td>12.00000</td><td>0       </td></tr>\n",
       "\t<tr><td>18      </td><td>313     </td><td>11.5    </td><td>62      </td><td>5       </td><td>4       </td><td>18.00000</td><td>0       </td></tr>\n",
       "\t<tr><td>NA      </td><td> NA     </td><td>14.3    </td><td>56      </td><td>5       </td><td>5       </td><td>42.12931</td><td>0       </td></tr>\n",
       "\t<tr><td>28      </td><td> NA     </td><td>14.9    </td><td>66      </td><td>5       </td><td>6       </td><td>28.00000</td><td>0       </td></tr>\n",
       "</tbody>\n",
       "</table>\n"
      ],
      "text/latex": [
       "\\begin{tabular}{r|llllllll}\n",
       " Ozone & Solar.R & Wind & Temp & Month & Day & Ozone2 & Result\\\\\n",
       "\\hline\n",
       "\t 41       & 190      &  7.4     & 67       & 5        & 1        & 41.00000 & 0       \\\\\n",
       "\t 36       & 118      &  8.0     & 72       & 5        & 2        & 36.00000 & 0       \\\\\n",
       "\t 12       & 149      & 12.6     & 74       & 5        & 3        & 12.00000 & 0       \\\\\n",
       "\t 18       & 313      & 11.5     & 62       & 5        & 4        & 18.00000 & 0       \\\\\n",
       "\t NA       &  NA      & 14.3     & 56       & 5        & 5        & 42.12931 & 0       \\\\\n",
       "\t 28       &  NA      & 14.9     & 66       & 5        & 6        & 28.00000 & 0       \\\\\n",
       "\\end{tabular}\n"
      ],
      "text/markdown": [
       "\n",
       "| Ozone | Solar.R | Wind | Temp | Month | Day | Ozone2 | Result |\n",
       "|---|---|---|---|---|---|---|---|\n",
       "| 41       | 190      |  7.4     | 67       | 5        | 1        | 41.00000 | 0        |\n",
       "| 36       | 118      |  8.0     | 72       | 5        | 2        | 36.00000 | 0        |\n",
       "| 12       | 149      | 12.6     | 74       | 5        | 3        | 12.00000 | 0        |\n",
       "| 18       | 313      | 11.5     | 62       | 5        | 4        | 18.00000 | 0        |\n",
       "| NA       |  NA      | 14.3     | 56       | 5        | 5        | 42.12931 | 0        |\n",
       "| 28       |  NA      | 14.9     | 66       | 5        | 6        | 28.00000 | 0        |\n",
       "\n"
      ],
      "text/plain": [
       "  Ozone Solar.R Wind Temp Month Day Ozone2   Result\n",
       "1 41    190      7.4 67   5     1   41.00000 0     \n",
       "2 36    118      8.0 72   5     2   36.00000 0     \n",
       "3 12    149     12.6 74   5     3   12.00000 0     \n",
       "4 18    313     11.5 62   5     4   18.00000 0     \n",
       "5 NA     NA     14.3 56   5     5   42.12931 0     \n",
       "6 28     NA     14.9 66   5     6   28.00000 0     "
      ]
     },
     "metadata": {},
     "output_type": "display_data"
    }
   ],
   "source": [
    "df<-read.csv('d:/data/ozone/ozone3.csv')\n",
    "head(df)"
   ]
  },
  {
   "cell_type": "code",
   "execution_count": 7,
   "metadata": {},
   "outputs": [
    {
     "data": {
      "text/html": [
       "<table>\n",
       "<thead><tr><th scope=col>Solar.R</th><th scope=col>Wind</th><th scope=col>Temp</th><th scope=col>Result</th></tr></thead>\n",
       "<tbody>\n",
       "\t<tr><td>190 </td><td> 7.4</td><td>67  </td><td>0   </td></tr>\n",
       "\t<tr><td>118 </td><td> 8.0</td><td>72  </td><td>0   </td></tr>\n",
       "\t<tr><td>149 </td><td>12.6</td><td>74  </td><td>0   </td></tr>\n",
       "\t<tr><td>313 </td><td>11.5</td><td>62  </td><td>0   </td></tr>\n",
       "\t<tr><td> NA </td><td>14.3</td><td>56  </td><td>0   </td></tr>\n",
       "\t<tr><td> NA </td><td>14.9</td><td>66  </td><td>0   </td></tr>\n",
       "</tbody>\n",
       "</table>\n"
      ],
      "text/latex": [
       "\\begin{tabular}{r|llll}\n",
       " Solar.R & Wind & Temp & Result\\\\\n",
       "\\hline\n",
       "\t 190  &  7.4 & 67   & 0   \\\\\n",
       "\t 118  &  8.0 & 72   & 0   \\\\\n",
       "\t 149  & 12.6 & 74   & 0   \\\\\n",
       "\t 313  & 11.5 & 62   & 0   \\\\\n",
       "\t  NA  & 14.3 & 56   & 0   \\\\\n",
       "\t  NA  & 14.9 & 66   & 0   \\\\\n",
       "\\end{tabular}\n"
      ],
      "text/markdown": [
       "\n",
       "| Solar.R | Wind | Temp | Result |\n",
       "|---|---|---|---|\n",
       "| 190  |  7.4 | 67   | 0    |\n",
       "| 118  |  8.0 | 72   | 0    |\n",
       "| 149  | 12.6 | 74   | 0    |\n",
       "| 313  | 11.5 | 62   | 0    |\n",
       "|  NA  | 14.3 | 56   | 0    |\n",
       "|  NA  | 14.9 | 66   | 0    |\n",
       "\n"
      ],
      "text/plain": [
       "  Solar.R Wind Temp Result\n",
       "1 190      7.4 67   0     \n",
       "2 118      8.0 72   0     \n",
       "3 149     12.6 74   0     \n",
       "4 313     11.5 62   0     \n",
       "5  NA     14.3 56   0     \n",
       "6  NA     14.9 66   0     "
      ]
     },
     "metadata": {},
     "output_type": "display_data"
    }
   ],
   "source": [
    "#분석에 사용하지 않는 필드들을 제거\n",
    "library(dplyr)\n",
    "df<-df %>% select(-Ozone,-Month,-Day,-Ozone2)\n",
    "head(df)"
   ]
  },
  {
   "cell_type": "code",
   "execution_count": 8,
   "metadata": {},
   "outputs": [
    {
     "data": {
      "text/html": [
       "<table>\n",
       "<thead><tr><th></th><th scope=col>Solar.R</th><th scope=col>Wind</th><th scope=col>Temp</th><th scope=col>Result</th></tr></thead>\n",
       "<tbody>\n",
       "\t<tr><th scope=row>Solar.R</th><td> 1        </td><td>        NA</td><td>        NA</td><td>        NA</td></tr>\n",
       "\t<tr><th scope=row>Wind</th><td>NA        </td><td> 1.0000000</td><td>-0.4579879</td><td>-0.4343719</td></tr>\n",
       "\t<tr><th scope=row>Temp</th><td>NA        </td><td>-0.4579879</td><td> 1.0000000</td><td> 0.5742314</td></tr>\n",
       "\t<tr><th scope=row>Result</th><td>NA        </td><td>-0.4343719</td><td> 0.5742314</td><td> 1.0000000</td></tr>\n",
       "</tbody>\n",
       "</table>\n"
      ],
      "text/latex": [
       "\\begin{tabular}{r|llll}\n",
       "  & Solar.R & Wind & Temp & Result\\\\\n",
       "\\hline\n",
       "\tSolar.R &  1         &         NA &         NA &         NA\\\\\n",
       "\tWind & NA         &  1.0000000 & -0.4579879 & -0.4343719\\\\\n",
       "\tTemp & NA         & -0.4579879 &  1.0000000 &  0.5742314\\\\\n",
       "\tResult & NA         & -0.4343719 &  0.5742314 &  1.0000000\\\\\n",
       "\\end{tabular}\n"
      ],
      "text/markdown": [
       "\n",
       "| <!--/--> | Solar.R | Wind | Temp | Result |\n",
       "|---|---|---|---|---|\n",
       "| Solar.R |  1         |         NA |         NA |         NA |\n",
       "| Wind | NA         |  1.0000000 | -0.4579879 | -0.4343719 |\n",
       "| Temp | NA         | -0.4579879 |  1.0000000 |  0.5742314 |\n",
       "| Result | NA         | -0.4343719 |  0.5742314 |  1.0000000 |\n",
       "\n"
      ],
      "text/plain": [
       "        Solar.R Wind       Temp       Result    \n",
       "Solar.R  1              NA         NA         NA\n",
       "Wind    NA       1.0000000 -0.4579879 -0.4343719\n",
       "Temp    NA      -0.4579879  1.0000000  0.5742314\n",
       "Result  NA      -0.4343719  0.5742314  1.0000000"
      ]
     },
     "metadata": {},
     "output_type": "display_data"
    }
   ],
   "source": [
    "(corrmatrix<-cor(df)) #상관관계 행렬"
   ]
  },
  {
   "cell_type": "code",
   "execution_count": 10,
   "metadata": {},
   "outputs": [
    {
     "name": "stderr",
     "output_type": "stream",
     "text": [
      "Warning message:\n",
      "\"package 'corrplot' was built under R version 3.6.2\"corrplot 0.84 loaded\n"
     ]
    },
    {
     "data": {
      "image/png": "[encoded data removed]",
      "text/plain": [
       "Plot with title \"\""
      ]
     },
     "metadata": {},
     "output_type": "display_data"
    }
   ],
   "source": [
    "library(corrplot)\n",
    "corrplot(cor(df), method='circle')"
   ]
  },
  {
   "cell_type": "code",
   "execution_count": 11,
   "metadata": {},
   "outputs": [
    {
     "data": {
      "text/plain": [
       "\n",
       "  0   1 \n",
       "109  44 "
      ]
     },
     "metadata": {},
     "output_type": "display_data"
    },
    {
     "data": {
      "image/png": "[encoded data removed]",
      "text/plain": [
       "plot without title"
      ]
     },
     "metadata": {},
     "output_type": "display_data"
    }
   ],
   "source": [
    "tbl<-table(df$Result) #Result 필드 카운트\n",
    "tbl\n",
    "barplot(tbl, beside=TRUE, legend=TRUE, col=rainbow(2))"
   ]
  },
  {
   "cell_type": "code",
   "execution_count": 12,
   "metadata": {},
   "outputs": [
    {
     "name": "stderr",
     "output_type": "stream",
     "text": [
      "Installing package into 'C:/Users/tjoeun302-18/Documents/R/win-library/3.6'\n",
      "(as 'lib' is unspecified)\n"
     ]
    },
    {
     "name": "stdout",
     "output_type": "stream",
     "text": [
      "package 'ROSE' successfully unpacked and MD5 sums checked\n",
      "\n",
      "The downloaded binary packages are in\n",
      "\tC:\\Users\\tjoeun302-18\\AppData\\Local\\Temp\\Rtmpa409K2\\downloaded_packages\n"
     ]
    }
   ],
   "source": [
    "install.packages('ROSE')"
   ]
  },
  {
   "cell_type": "code",
   "execution_count": 16,
   "metadata": {},
   "outputs": [
    {
     "data": {
      "text/plain": [
       "\n",
       " 0  1 \n",
       "42 42 "
      ]
     },
     "metadata": {},
     "output_type": "display_data"
    }
   ],
   "source": [
    "library(ROSE)\n",
    "df_samp<-ovun.sample(Result ~ . ,data=df, seed=1, method='under',\n",
    "                    N=42*2)$data #p=0.5\n",
    "tbl<-table(df_samp$Result)\n",
    "tbl\n",
    "#df_samp"
   ]
  },
  {
   "cell_type": "code",
   "execution_count": 20,
   "metadata": {},
   "outputs": [
    {
     "data": {
      "text/html": [
       "<table>\n",
       "<thead><tr><th></th><th scope=col>Solar.R</th><th scope=col>Wind</th><th scope=col>Temp</th></tr></thead>\n",
       "<tbody>\n",
       "\t<tr><th scope=row>3</th><td>190 </td><td> 7.4</td><td>67  </td></tr>\n",
       "\t<tr><th scope=row>4</th><td>323 </td><td>11.5</td><td>87  </td></tr>\n",
       "\t<tr><th scope=row>5</th><td>259 </td><td>15.5</td><td>76  </td></tr>\n",
       "\t<tr><th scope=row>7</th><td>307 </td><td>12.0</td><td>66  </td></tr>\n",
       "\t<tr><th scope=row>8</th><td> 92 </td><td>15.5</td><td>84  </td></tr>\n",
       "\t<tr><th scope=row>9</th><td>264 </td><td>14.3</td><td>73  </td></tr>\n",
       "</tbody>\n",
       "</table>\n"
      ],
      "text/latex": [
       "\\begin{tabular}{r|lll}\n",
       "  & Solar.R & Wind & Temp\\\\\n",
       "\\hline\n",
       "\t3 & 190  &  7.4 & 67  \\\\\n",
       "\t4 & 323  & 11.5 & 87  \\\\\n",
       "\t5 & 259  & 15.5 & 76  \\\\\n",
       "\t7 & 307  & 12.0 & 66  \\\\\n",
       "\t8 &  92  & 15.5 & 84  \\\\\n",
       "\t9 & 264  & 14.3 & 73  \\\\\n",
       "\\end{tabular}\n"
      ],
      "text/markdown": [
       "\n",
       "| <!--/--> | Solar.R | Wind | Temp |\n",
       "|---|---|---|---|\n",
       "| 3 | 190  |  7.4 | 67   |\n",
       "| 4 | 323  | 11.5 | 87   |\n",
       "| 5 | 259  | 15.5 | 76   |\n",
       "| 7 | 307  | 12.0 | 66   |\n",
       "| 8 |  92  | 15.5 | 84   |\n",
       "| 9 | 264  | 14.3 | 73   |\n",
       "\n"
      ],
      "text/plain": [
       "  Solar.R Wind Temp\n",
       "3 190      7.4 67  \n",
       "4 323     11.5 87  \n",
       "5 259     15.5 76  \n",
       "7 307     12.0 66  \n",
       "8  92     15.5 84  \n",
       "9 264     14.3 73  "
      ]
     },
     "metadata": {},
     "output_type": "display_data"
    },
    {
     "data": {
      "text/html": [
       "<ol class=list-inline>\n",
       "\t<li>0</li>\n",
       "\t<li>0</li>\n",
       "\t<li>0</li>\n",
       "\t<li>0</li>\n",
       "\t<li>0</li>\n",
       "\t<li>0</li>\n",
       "</ol>\n"
      ],
      "text/latex": [
       "\\begin{enumerate*}\n",
       "\\item 0\n",
       "\\item 0\n",
       "\\item 0\n",
       "\\item 0\n",
       "\\item 0\n",
       "\\item 0\n",
       "\\end{enumerate*}\n"
      ],
      "text/markdown": [
       "1. 0\n",
       "2. 0\n",
       "3. 0\n",
       "4. 0\n",
       "5. 0\n",
       "6. 0\n",
       "\n",
       "\n"
      ],
      "text/plain": [
       "[1] 0 0 0 0 0 0"
      ]
     },
     "metadata": {},
     "output_type": "display_data"
    }
   ],
   "source": [
    "library(caret)\n",
    "set.seed(123) #랜덤시드고정\n",
    "# y종속변수, p 학습용 데이터셋의 비율, list=F 리스트를 반환하지 않음\n",
    "idx_train<-createDataPartition(y=df_samp$Result,p=0.8,list=FALSE)\n",
    "#idx_train\n",
    "#학습용 데이터셋 선택\n",
    "train<-df_samp[idx_train,]\n",
    "X_train<-train[,-4] #독립변수(4번 필드 제외)\n",
    "y_train<-train[,4] #종속변수(4번 필드)\n",
    "#검증용데이터셋 선택\n",
    "test<-df_samp[-idx_train,]\n",
    "X_test<-test[,-4]\n",
    "y_test<-test[,4]\n",
    "head(X_train)\n",
    "head(y_train)"
   ]
  },
  {
   "cell_type": "code",
   "execution_count": 21,
   "metadata": {},
   "outputs": [
    {
     "data": {
      "text/plain": [
       "\n",
       "Call:\n",
       "glm(formula = Result ~ ., family = binomial, data = train)\n",
       "\n",
       "Deviance Residuals: \n",
       "     Min        1Q    Median        3Q       Max  \n",
       "-2.13095  -0.57184   0.05447   0.62744   1.89999  \n",
       "\n",
       "Coefficients:\n",
       "              Estimate Std. Error z value Pr(>|z|)   \n",
       "(Intercept) -13.521560   5.708433  -2.369  0.01785 * \n",
       "Solar.R       0.004530   0.004979   0.910  0.36285   \n",
       "Wind         -0.309449   0.133393  -2.320  0.02035 * \n",
       "Temp          0.190591   0.067695   2.815  0.00487 **\n",
       "---\n",
       "Signif. codes:  0 '***' 0.001 '**' 0.01 '*' 0.05 '.' 0.1 ' ' 1\n",
       "\n",
       "(Dispersion parameter for binomial family taken to be 1)\n",
       "\n",
       "    Null deviance: 94.268  on 67  degrees of freedom\n",
       "Residual deviance: 54.238  on 64  degrees of freedom\n",
       "AIC: 62.238\n",
       "\n",
       "Number of Fisher Scoring iterations: 6\n"
      ]
     },
     "metadata": {},
     "output_type": "display_data"
    }
   ],
   "source": [
    "#로지스틱 회귀분석 모형, 학습용 데이터셋을 입력 binomial 2분류 ,glm: 2class 일 때 사용\n",
    "model<-glm(Result ~ . , data=train, family = binomial)\n",
    "summary(model)"
   ]
  },
  {
   "cell_type": "code",
   "execution_count": 22,
   "metadata": {},
   "outputs": [
    {
     "data": {
      "text/html": [
       "<dl class=dl-horizontal>\n",
       "\t<dt>(Intercept)</dt>\n",
       "\t\t<dd>-13.5215598537619</dd>\n",
       "\t<dt>Solar.R</dt>\n",
       "\t\t<dd>0.00453041736506294</dd>\n",
       "\t<dt>Wind</dt>\n",
       "\t\t<dd>-0.309449104082616</dd>\n",
       "\t<dt>Temp</dt>\n",
       "\t\t<dd>0.19059132940053</dd>\n",
       "</dl>\n"
      ],
      "text/latex": [
       "\\begin{description*}\n",
       "\\item[(Intercept)] -13.5215598537619\n",
       "\\item[Solar.R] 0.00453041736506294\n",
       "\\item[Wind] -0.309449104082616\n",
       "\\item[Temp] 0.19059132940053\n",
       "\\end{description*}\n"
      ],
      "text/markdown": [
       "(Intercept)\n",
       ":   -13.5215598537619Solar.R\n",
       ":   0.00453041736506294Wind\n",
       ":   -0.309449104082616Temp\n",
       ":   0.19059132940053\n",
       "\n"
      ],
      "text/plain": [
       "  (Intercept)       Solar.R          Wind          Temp \n",
       "-13.521559854   0.004530417  -0.309449104   0.190591329 "
      ]
     },
     "metadata": {},
     "output_type": "display_data"
    }
   ],
   "source": [
    "(coef1<-coef(model)) #회귀계수 확인\n",
    "#풍량이 증가하면 오존량이 감소\n",
    "#온도가 올라가면 오존량 증가"
   ]
  },
  {
   "cell_type": "code",
   "execution_count": 27,
   "metadata": {},
   "outputs": [
    {
     "data": {
      "text/html": [
       "<dl class=dl-horizontal>\n",
       "\t<dt>1</dt>\n",
       "\t\t<dd>1</dd>\n",
       "\t<dt>2</dt>\n",
       "\t\t<dd>0</dd>\n",
       "\t<dt>6</dt>\n",
       "\t\t<dd>0</dd>\n",
       "\t<dt>13</dt>\n",
       "\t\t<dd>1</dd>\n",
       "\t<dt>20</dt>\n",
       "\t\t<dd>0</dd>\n",
       "\t<dt>29</dt>\n",
       "\t\t<dd>0</dd>\n",
       "\t<dt>35</dt>\n",
       "\t\t<dd>0</dd>\n",
       "\t<dt>41</dt>\n",
       "\t\t<dd>0</dd>\n",
       "\t<dt>45</dt>\n",
       "\t\t<dd>1</dd>\n",
       "\t<dt>46</dt>\n",
       "\t\t<dd>1</dd>\n",
       "\t<dt>52</dt>\n",
       "\t\t<dd>1</dd>\n",
       "\t<dt>56</dt>\n",
       "\t\t<dd>1</dd>\n",
       "\t<dt>59</dt>\n",
       "\t\t<dd>0</dd>\n",
       "\t<dt>64</dt>\n",
       "\t\t<dd>1</dd>\n",
       "\t<dt>78</dt>\n",
       "\t\t<dd>1</dd>\n",
       "\t<dt>81</dt>\n",
       "\t\t<dd>1</dd>\n",
       "</dl>\n"
      ],
      "text/latex": [
       "\\begin{description*}\n",
       "\\item[1] 1\n",
       "\\item[2] 0\n",
       "\\item[6] 0\n",
       "\\item[13] 1\n",
       "\\item[20] 0\n",
       "\\item[29] 0\n",
       "\\item[35] 0\n",
       "\\item[41] 0\n",
       "\\item[45] 1\n",
       "\\item[46] 1\n",
       "\\item[52] 1\n",
       "\\item[56] 1\n",
       "\\item[59] 0\n",
       "\\item[64] 1\n",
       "\\item[78] 1\n",
       "\\item[81] 1\n",
       "\\end{description*}\n"
      ],
      "text/markdown": [
       "1\n",
       ":   12\n",
       ":   06\n",
       ":   013\n",
       ":   120\n",
       ":   029\n",
       ":   035\n",
       ":   041\n",
       ":   045\n",
       ":   146\n",
       ":   152\n",
       ":   156\n",
       ":   159\n",
       ":   064\n",
       ":   178\n",
       ":   181\n",
       ":   1\n",
       "\n"
      ],
      "text/plain": [
       " 1  2  6 13 20 29 35 41 45 46 52 56 59 64 78 81 \n",
       " 1  0  0  1  0  0  0  0  1  1  1  1  0  1  1  1 "
      ]
     },
     "metadata": {},
     "output_type": "display_data"
    }
   ],
   "source": [
    "#newdata 검증용데이터셋, 예측값이 0~1 사이로 출력됨\n",
    "pred<-predict(model,newdata=X_test,type='response')\n",
    "#pred\n",
    "#0.5보다 크면 1, 아니면 0\n",
    "result<-ifelse(pred>0.5,1,0)\n",
    "#result"
   ]
  },
  {
   "cell_type": "code",
   "execution_count": 28,
   "metadata": {},
   "outputs": [
    {
     "data": {
      "text/html": [
       "<dl class=dl-horizontal>\n",
       "\t<dt>1</dt>\n",
       "\t\t<dd>FALSE</dd>\n",
       "\t<dt>2</dt>\n",
       "\t\t<dd>TRUE</dd>\n",
       "\t<dt>6</dt>\n",
       "\t\t<dd>TRUE</dd>\n",
       "\t<dt>13</dt>\n",
       "\t\t<dd>FALSE</dd>\n",
       "\t<dt>20</dt>\n",
       "\t\t<dd>TRUE</dd>\n",
       "\t<dt>29</dt>\n",
       "\t\t<dd>TRUE</dd>\n",
       "\t<dt>35</dt>\n",
       "\t\t<dd>TRUE</dd>\n",
       "\t<dt>41</dt>\n",
       "\t\t<dd>TRUE</dd>\n",
       "\t<dt>45</dt>\n",
       "\t\t<dd>TRUE</dd>\n",
       "\t<dt>46</dt>\n",
       "\t\t<dd>TRUE</dd>\n",
       "\t<dt>52</dt>\n",
       "\t\t<dd>TRUE</dd>\n",
       "\t<dt>56</dt>\n",
       "\t\t<dd>TRUE</dd>\n",
       "\t<dt>59</dt>\n",
       "\t\t<dd>FALSE</dd>\n",
       "\t<dt>64</dt>\n",
       "\t\t<dd>TRUE</dd>\n",
       "\t<dt>78</dt>\n",
       "\t\t<dd>TRUE</dd>\n",
       "\t<dt>81</dt>\n",
       "\t\t<dd>TRUE</dd>\n",
       "</dl>\n"
      ],
      "text/latex": [
       "\\begin{description*}\n",
       "\\item[1] FALSE\n",
       "\\item[2] TRUE\n",
       "\\item[6] TRUE\n",
       "\\item[13] FALSE\n",
       "\\item[20] TRUE\n",
       "\\item[29] TRUE\n",
       "\\item[35] TRUE\n",
       "\\item[41] TRUE\n",
       "\\item[45] TRUE\n",
       "\\item[46] TRUE\n",
       "\\item[52] TRUE\n",
       "\\item[56] TRUE\n",
       "\\item[59] FALSE\n",
       "\\item[64] TRUE\n",
       "\\item[78] TRUE\n",
       "\\item[81] TRUE\n",
       "\\end{description*}\n"
      ],
      "text/markdown": [
       "1\n",
       ":   FALSE2\n",
       ":   TRUE6\n",
       ":   TRUE13\n",
       ":   FALSE20\n",
       ":   TRUE29\n",
       ":   TRUE35\n",
       ":   TRUE41\n",
       ":   TRUE45\n",
       ":   TRUE46\n",
       ":   TRUE52\n",
       ":   TRUE56\n",
       ":   TRUE59\n",
       ":   FALSE64\n",
       ":   TRUE78\n",
       ":   TRUE81\n",
       ":   TRUE\n",
       "\n"
      ],
      "text/plain": [
       "    1     2     6    13    20    29    35    41    45    46    52    56    59 \n",
       "FALSE  TRUE  TRUE FALSE  TRUE  TRUE  TRUE  TRUE  TRUE  TRUE  TRUE  TRUE FALSE \n",
       "   64    78    81 \n",
       " TRUE  TRUE  TRUE "
      ]
     },
     "metadata": {},
     "output_type": "display_data"
    }
   ],
   "source": [
    "y_test == result"
   ]
  },
  {
   "cell_type": "code",
   "execution_count": 24,
   "metadata": {},
   "outputs": [
    {
     "data": {
      "text/html": [
       "0.8125"
      ],
      "text/latex": [
       "0.8125"
      ],
      "text/markdown": [
       "0.8125"
      ],
      "text/plain": [
       "[1] 0.8125"
      ]
     },
     "metadata": {},
     "output_type": "display_data"
    }
   ],
   "source": [
    "mean(y_test==result) #예측정확도"
   ]
  },
  {
   "cell_type": "code",
   "execution_count": 25,
   "metadata": {},
   "outputs": [
    {
     "data": {
      "text/plain": [
       "      result\n",
       "y_test 0 1\n",
       "     0 6 2\n",
       "     1 1 7"
      ]
     },
     "metadata": {},
     "output_type": "display_data"
    }
   ],
   "source": [
    "table(y_test,result) #오분류표(confusion matrix, 혼동행렬)\n",
    "                     #81% 정확도"
   ]
  },
  {
   "cell_type": "code",
   "execution_count": null,
   "metadata": {},
   "outputs": [],
   "source": []
  },
  {
   "cell_type": "code",
   "execution_count": null,
   "metadata": {},
   "outputs": [],
   "source": []
  },
  {
   "cell_type": "code",
   "execution_count": null,
   "metadata": {},
   "outputs": [],
   "source": []
  },
  {
   "cell_type": "code",
   "execution_count": null,
   "metadata": {},
   "outputs": [],
   "source": []
  }
 ],
 "metadata": {
  "kernelspec": {
   "display_name": "R",
   "language": "R",
   "name": "ir"
  },
  "language_info": {
   "codemirror_mode": "r",
   "file_extension": ".r",
   "mimetype": "text/x-r-source",
   "name": "R",
   "pygments_lexer": "r",
   "version": "3.6.1"
  }
 },
 "nbformat": 4,
 "nbformat_minor": 2
}
