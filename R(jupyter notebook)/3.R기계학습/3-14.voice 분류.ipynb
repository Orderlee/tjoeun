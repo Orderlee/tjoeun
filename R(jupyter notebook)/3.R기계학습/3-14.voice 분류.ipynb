{
 "cells": [
  {
   "cell_type": "code",
   "execution_count": 17,
   "metadata": {},
   "outputs": [
    {
     "data": {
      "text/html": [
       "<table>\n",
       "<thead><tr><th scope=col>meanfreq</th><th scope=col>skew</th><th scope=col>kurt</th><th scope=col>sp.ent</th><th scope=col>sfm</th><th scope=col>mode</th><th scope=col>centroid</th><th scope=col>meanfun</th><th scope=col>minfun</th><th scope=col>maxfun</th><th scope=col>meandom</th><th scope=col>mindom</th><th scope=col>maxdom</th><th scope=col>dfrange</th><th scope=col>modindx</th><th scope=col>Label</th><th scope=col>target</th></tr></thead>\n",
       "<tbody>\n",
       "\t<tr><td>0.05978099 </td><td>12.863462  </td><td> 274.402905</td><td>0.8933694  </td><td>0.4919178  </td><td>0.00000000 </td><td>0.05978099 </td><td>0.08427911 </td><td>0.01570167 </td><td>0.2758621  </td><td>0.007812500</td><td>0.0078125  </td><td>0.0078125  </td><td>0.0000000  </td><td>0.00000000 </td><td>male       </td><td>1          </td></tr>\n",
       "\t<tr><td>0.06600874 </td><td>22.423285  </td><td> 634.613855</td><td>0.8921932  </td><td>0.5137238  </td><td>0.00000000 </td><td>0.06600874 </td><td>0.10793655 </td><td>0.01582591 </td><td>0.2500000  </td><td>0.009014423</td><td>0.0078125  </td><td>0.0546875  </td><td>0.0468750  </td><td>0.05263158 </td><td>male       </td><td>1          </td></tr>\n",
       "\t<tr><td>0.07731550 </td><td>30.757155  </td><td>1024.927705</td><td>0.8463891  </td><td>0.4789050  </td><td>0.00000000 </td><td>0.07731550 </td><td>0.09870626 </td><td>0.01565558 </td><td>0.2711864  </td><td>0.007990057</td><td>0.0078125  </td><td>0.0156250  </td><td>0.0078125  </td><td>0.04651163 </td><td>male       </td><td>1          </td></tr>\n",
       "\t<tr><td>0.15122809 </td><td> 1.232831  </td><td>   4.177296</td><td>0.9633225  </td><td>0.7272318  </td><td>0.08387818 </td><td>0.15122809 </td><td>0.08896485 </td><td>0.01779755 </td><td>0.2500000  </td><td>0.201497396</td><td>0.0078125  </td><td>0.5625000  </td><td>0.5546875  </td><td>0.24711908 </td><td>male       </td><td>1          </td></tr>\n",
       "\t<tr><td>0.13512039 </td><td> 1.101174  </td><td>   4.333713</td><td>0.9719551  </td><td>0.7835681  </td><td>0.10426140 </td><td>0.13512039 </td><td>0.10639785 </td><td>0.01693122 </td><td>0.2666667  </td><td>0.712812500</td><td>0.0078125  </td><td>5.4843750  </td><td>5.4765625  </td><td>0.20827389 </td><td>male       </td><td>1          </td></tr>\n",
       "\t<tr><td>0.13278641 </td><td> 1.932562  </td><td>   8.308895</td><td>0.9631813  </td><td>0.7383070  </td><td>0.11255543 </td><td>0.13278641 </td><td>0.11013192 </td><td>0.01711230 </td><td>0.2539683  </td><td>0.298221983</td><td>0.0078125  </td><td>2.7265625  </td><td>2.7187500  </td><td>0.12515964 </td><td>male       </td><td>1          </td></tr>\n",
       "</tbody>\n",
       "</table>\n"
      ],
      "text/latex": [
       "\\begin{tabular}{r|lllllllllllllllll}\n",
       " meanfreq & skew & kurt & sp.ent & sfm & mode & centroid & meanfun & minfun & maxfun & meandom & mindom & maxdom & dfrange & modindx & Label & target\\\\\n",
       "\\hline\n",
       "\t 0.05978099  & 12.863462   &  274.402905 & 0.8933694   & 0.4919178   & 0.00000000  & 0.05978099  & 0.08427911  & 0.01570167  & 0.2758621   & 0.007812500 & 0.0078125   & 0.0078125   & 0.0000000   & 0.00000000  & male        & 1          \\\\\n",
       "\t 0.06600874  & 22.423285   &  634.613855 & 0.8921932   & 0.5137238   & 0.00000000  & 0.06600874  & 0.10793655  & 0.01582591  & 0.2500000   & 0.009014423 & 0.0078125   & 0.0546875   & 0.0468750   & 0.05263158  & male        & 1          \\\\\n",
       "\t 0.07731550  & 30.757155   & 1024.927705 & 0.8463891   & 0.4789050   & 0.00000000  & 0.07731550  & 0.09870626  & 0.01565558  & 0.2711864   & 0.007990057 & 0.0078125   & 0.0156250   & 0.0078125   & 0.04651163  & male        & 1          \\\\\n",
       "\t 0.15122809  &  1.232831   &    4.177296 & 0.9633225   & 0.7272318   & 0.08387818  & 0.15122809  & 0.08896485  & 0.01779755  & 0.2500000   & 0.201497396 & 0.0078125   & 0.5625000   & 0.5546875   & 0.24711908  & male        & 1          \\\\\n",
       "\t 0.13512039  &  1.101174   &    4.333713 & 0.9719551   & 0.7835681   & 0.10426140  & 0.13512039  & 0.10639785  & 0.01693122  & 0.2666667   & 0.712812500 & 0.0078125   & 5.4843750   & 5.4765625   & 0.20827389  & male        & 1          \\\\\n",
       "\t 0.13278641  &  1.932562   &    8.308895 & 0.9631813   & 0.7383070   & 0.11255543  & 0.13278641  & 0.11013192  & 0.01711230  & 0.2539683   & 0.298221983 & 0.0078125   & 2.7265625   & 2.7187500   & 0.12515964  & male        & 1          \\\\\n",
       "\\end{tabular}\n"
      ],
      "text/markdown": [
       "\n",
       "| meanfreq | skew | kurt | sp.ent | sfm | mode | centroid | meanfun | minfun | maxfun | meandom | mindom | maxdom | dfrange | modindx | Label | target |\n",
       "|---|---|---|---|---|---|---|---|---|---|---|---|---|---|---|---|---|\n",
       "| 0.05978099  | 12.863462   |  274.402905 | 0.8933694   | 0.4919178   | 0.00000000  | 0.05978099  | 0.08427911  | 0.01570167  | 0.2758621   | 0.007812500 | 0.0078125   | 0.0078125   | 0.0000000   | 0.00000000  | male        | 1           |\n",
       "| 0.06600874  | 22.423285   |  634.613855 | 0.8921932   | 0.5137238   | 0.00000000  | 0.06600874  | 0.10793655  | 0.01582591  | 0.2500000   | 0.009014423 | 0.0078125   | 0.0546875   | 0.0468750   | 0.05263158  | male        | 1           |\n",
       "| 0.07731550  | 30.757155   | 1024.927705 | 0.8463891   | 0.4789050   | 0.00000000  | 0.07731550  | 0.09870626  | 0.01565558  | 0.2711864   | 0.007990057 | 0.0078125   | 0.0156250   | 0.0078125   | 0.04651163  | male        | 1           |\n",
       "| 0.15122809  |  1.232831   |    4.177296 | 0.9633225   | 0.7272318   | 0.08387818  | 0.15122809  | 0.08896485  | 0.01779755  | 0.2500000   | 0.201497396 | 0.0078125   | 0.5625000   | 0.5546875   | 0.24711908  | male        | 1           |\n",
       "| 0.13512039  |  1.101174   |    4.333713 | 0.9719551   | 0.7835681   | 0.10426140  | 0.13512039  | 0.10639785  | 0.01693122  | 0.2666667   | 0.712812500 | 0.0078125   | 5.4843750   | 5.4765625   | 0.20827389  | male        | 1           |\n",
       "| 0.13278641  |  1.932562   |    8.308895 | 0.9631813   | 0.7383070   | 0.11255543  | 0.13278641  | 0.11013192  | 0.01711230  | 0.2539683   | 0.298221983 | 0.0078125   | 2.7265625   | 2.7187500   | 0.12515964  | male        | 1           |\n",
       "\n"
      ],
      "text/plain": [
       "  meanfreq   skew      kurt        sp.ent    sfm       mode       centroid  \n",
       "1 0.05978099 12.863462  274.402905 0.8933694 0.4919178 0.00000000 0.05978099\n",
       "2 0.06600874 22.423285  634.613855 0.8921932 0.5137238 0.00000000 0.06600874\n",
       "3 0.07731550 30.757155 1024.927705 0.8463891 0.4789050 0.00000000 0.07731550\n",
       "4 0.15122809  1.232831    4.177296 0.9633225 0.7272318 0.08387818 0.15122809\n",
       "5 0.13512039  1.101174    4.333713 0.9719551 0.7835681 0.10426140 0.13512039\n",
       "6 0.13278641  1.932562    8.308895 0.9631813 0.7383070 0.11255543 0.13278641\n",
       "  meanfun    minfun     maxfun    meandom     mindom    maxdom    dfrange  \n",
       "1 0.08427911 0.01570167 0.2758621 0.007812500 0.0078125 0.0078125 0.0000000\n",
       "2 0.10793655 0.01582591 0.2500000 0.009014423 0.0078125 0.0546875 0.0468750\n",
       "3 0.09870626 0.01565558 0.2711864 0.007990057 0.0078125 0.0156250 0.0078125\n",
       "4 0.08896485 0.01779755 0.2500000 0.201497396 0.0078125 0.5625000 0.5546875\n",
       "5 0.10639785 0.01693122 0.2666667 0.712812500 0.0078125 5.4843750 5.4765625\n",
       "6 0.11013192 0.01711230 0.2539683 0.298221983 0.0078125 2.7265625 2.7187500\n",
       "  modindx    Label target\n",
       "1 0.00000000 male  1     \n",
       "2 0.05263158 male  1     \n",
       "3 0.04651163 male  1     \n",
       "4 0.24711908 male  1     \n",
       "5 0.20827389 male  1     \n",
       "6 0.12515964 male  1     "
      ]
     },
     "metadata": {},
     "output_type": "display_data"
    },
    {
     "data": {
      "text/html": [
       "<ol class=list-inline>\n",
       "\t<li>3168</li>\n",
       "\t<li>17</li>\n",
       "</ol>\n"
      ],
      "text/latex": [
       "\\begin{enumerate*}\n",
       "\\item 3168\n",
       "\\item 17\n",
       "\\end{enumerate*}\n"
      ],
      "text/markdown": [
       "1. 3168\n",
       "2. 17\n",
       "\n",
       "\n"
      ],
      "text/plain": [
       "[1] 3168   17"
      ]
     },
     "metadata": {},
     "output_type": "display_data"
    },
    {
     "data": {
      "text/plain": [
       "    meanfreq            skew              kurt              sp.ent      \n",
       " Min.   :0.03936   Min.   : 0.1417   Min.   :   2.068   Min.   :0.7387  \n",
       " 1st Qu.:0.16366   1st Qu.: 1.6496   1st Qu.:   5.670   1st Qu.:0.8618  \n",
       " Median :0.18484   Median : 2.1971   Median :   8.319   Median :0.9018  \n",
       " Mean   :0.18091   Mean   : 3.1402   Mean   :  36.569   Mean   :0.8951  \n",
       " 3rd Qu.:0.19915   3rd Qu.: 2.9317   3rd Qu.:  13.649   3rd Qu.:0.9287  \n",
       " Max.   :0.25112   Max.   :34.7255   Max.   :1309.613   Max.   :0.9820  \n",
       "      sfm               mode           centroid          meanfun       \n",
       " Min.   :0.03688   Min.   :0.0000   Min.   :0.03936   Min.   :0.05557  \n",
       " 1st Qu.:0.25804   1st Qu.:0.1180   1st Qu.:0.16366   1st Qu.:0.11700  \n",
       " Median :0.39634   Median :0.1866   Median :0.18484   Median :0.14052  \n",
       " Mean   :0.40822   Mean   :0.1653   Mean   :0.18091   Mean   :0.14281  \n",
       " 3rd Qu.:0.53368   3rd Qu.:0.2211   3rd Qu.:0.19915   3rd Qu.:0.16958  \n",
       " Max.   :0.84294   Max.   :0.2800   Max.   :0.25112   Max.   :0.23764  \n",
       "     minfun             maxfun          meandom             mindom        \n",
       " Min.   :0.009775   Min.   :0.1031   Min.   :0.007812   Min.   :0.004883  \n",
       " 1st Qu.:0.018223   1st Qu.:0.2540   1st Qu.:0.419828   1st Qu.:0.007812  \n",
       " Median :0.046110   Median :0.2712   Median :0.765795   Median :0.023438  \n",
       " Mean   :0.036802   Mean   :0.2588   Mean   :0.829211   Mean   :0.052647  \n",
       " 3rd Qu.:0.047904   3rd Qu.:0.2775   3rd Qu.:1.177166   3rd Qu.:0.070312  \n",
       " Max.   :0.204082   Max.   :0.2791   Max.   :2.957682   Max.   :0.458984  \n",
       "     maxdom             dfrange          modindx           Label     \n",
       " Min.   : 0.007812   Min.   : 0.000   Min.   :0.00000   female:1584  \n",
       " 1st Qu.: 2.070312   1st Qu.: 2.045   1st Qu.:0.09977   male  :1584  \n",
       " Median : 4.992188   Median : 4.945   Median :0.13936                \n",
       " Mean   : 5.047277   Mean   : 4.995   Mean   :0.17375                \n",
       " 3rd Qu.: 7.007812   3rd Qu.: 6.992   3rd Qu.:0.20918                \n",
       " Max.   :21.867188   Max.   :21.844   Max.   :0.93237                \n",
       "     target   \n",
       " Min.   :0.0  \n",
       " 1st Qu.:0.0  \n",
       " Median :0.5  \n",
       " Mean   :0.5  \n",
       " 3rd Qu.:1.0  \n",
       " Max.   :1.0  "
      ]
     },
     "metadata": {},
     "output_type": "display_data"
    }
   ],
   "source": [
    "df<-read.csv('d:/data/voice/voice2.csv')\n",
    "head(df)\n",
    "dim(df)\n",
    "summary(df)"
   ]
  },
  {
   "cell_type": "code",
   "execution_count": 18,
   "metadata": {},
   "outputs": [
    {
     "data": {
      "text/html": [
       "<ol class=list-inline>\n",
       "\t<li>3168</li>\n",
       "\t<li>16</li>\n",
       "</ol>\n"
      ],
      "text/latex": [
       "\\begin{enumerate*}\n",
       "\\item 3168\n",
       "\\item 16\n",
       "\\end{enumerate*}\n"
      ],
      "text/markdown": [
       "1. 3168\n",
       "2. 16\n",
       "\n",
       "\n"
      ],
      "text/plain": [
       "[1] 3168   16"
      ]
     },
     "metadata": {},
     "output_type": "display_data"
    }
   ],
   "source": [
    "library(dplyr)\n",
    "df<-df %>% select(-Label) #Label 필드 제외\n",
    "dim(df)"
   ]
  },
  {
   "cell_type": "code",
   "execution_count": 19,
   "metadata": {},
   "outputs": [
    {
     "data": {
      "text/html": [
       "<table>\n",
       "<thead><tr><th></th><th scope=col>meanfreq</th><th scope=col>skew</th><th scope=col>kurt</th><th scope=col>sp.ent</th><th scope=col>sfm</th><th scope=col>mode</th><th scope=col>centroid</th><th scope=col>meanfun</th><th scope=col>minfun</th><th scope=col>maxfun</th><th scope=col>meandom</th><th scope=col>mindom</th><th scope=col>maxdom</th><th scope=col>dfrange</th><th scope=col>modindx</th><th scope=col>target</th></tr></thead>\n",
       "<tbody>\n",
       "\t<tr><th scope=row>meanfreq</th><td> 1.0000000 </td><td>-0.32232693</td><td>-0.3160356 </td><td>-0.6012025 </td><td>-0.78433231</td><td> 0.6877152 </td><td> 1.0000000 </td><td> 0.4608444 </td><td> 0.3839368 </td><td> 0.27400407</td><td> 0.5366661 </td><td> 0.22926099</td><td> 0.5195277 </td><td> 0.5155699 </td><td>-0.2169787 </td><td>-0.33741455</td></tr>\n",
       "\t<tr><th scope=row>skew</th><td>-0.3223269 </td><td> 1.00000000</td><td> 0.9770205 </td><td>-0.1954592 </td><td> 0.07969407</td><td>-0.4348591 </td><td>-0.3223269 </td><td>-0.1676680 </td><td>-0.2169543 </td><td>-0.08086107</td><td>-0.3368484 </td><td>-0.06160765</td><td>-0.3056509 </td><td>-0.3046400 </td><td>-0.1693247 </td><td> 0.03662686</td></tr>\n",
       "\t<tr><th scope=row>kurt</th><td>-0.3160356 </td><td> 0.97702046</td><td> 1.0000000 </td><td>-0.1276436 </td><td> 0.10988403</td><td>-0.4067219 </td><td>-0.3160356 </td><td>-0.1945599 </td><td>-0.2032014 </td><td>-0.04566725</td><td>-0.3032336 </td><td>-0.10331264</td><td>-0.2745001 </td><td>-0.2727294 </td><td>-0.2055393 </td><td> 0.08719492</td></tr>\n",
       "\t<tr><th scope=row>sp.ent</th><td>-0.6012025 </td><td>-0.19545924</td><td>-0.1276436 </td><td> 1.0000000 </td><td> 0.86641084</td><td>-0.3252985 </td><td>-0.6012025 </td><td>-0.5131937 </td><td>-0.3058260 </td><td>-0.12073797</td><td>-0.2935624 </td><td>-0.29486887</td><td>-0.3242531 </td><td>-0.3190536 </td><td> 0.1980743 </td><td> 0.49055224</td></tr>\n",
       "\t<tr><th scope=row>sfm</th><td>-0.7843323 </td><td> 0.07969407</td><td> 0.1098840 </td><td> 0.8664108 </td><td> 1.00000000</td><td>-0.4859129 </td><td>-0.7843323 </td><td>-0.4210657 </td><td>-0.3621003 </td><td>-0.19236943</td><td>-0.4284425 </td><td>-0.28959288</td><td>-0.4366488 </td><td>-0.4315798 </td><td> 0.2114772 </td><td> 0.35749858</td></tr>\n",
       "\t<tr><th scope=row>mode</th><td> 0.6877152 </td><td>-0.43485906</td><td>-0.4067219 </td><td>-0.3252985 </td><td>-0.48591287</td><td> 1.0000000 </td><td> 0.6877152 </td><td> 0.3247713 </td><td> 0.3854673 </td><td> 0.17232879</td><td> 0.4914794 </td><td> 0.19814956</td><td> 0.4771867 </td><td> 0.4737750 </td><td>-0.1823435 </td><td>-0.17177465</td></tr>\n",
       "</tbody>\n",
       "</table>\n"
      ],
      "text/latex": [
       "\\begin{tabular}{r|llllllllllllllll}\n",
       "  & meanfreq & skew & kurt & sp.ent & sfm & mode & centroid & meanfun & minfun & maxfun & meandom & mindom & maxdom & dfrange & modindx & target\\\\\n",
       "\\hline\n",
       "\tmeanfreq &  1.0000000  & -0.32232693 & -0.3160356  & -0.6012025  & -0.78433231 &  0.6877152  &  1.0000000  &  0.4608444  &  0.3839368  &  0.27400407 &  0.5366661  &  0.22926099 &  0.5195277  &  0.5155699  & -0.2169787  & -0.33741455\\\\\n",
       "\tskew & -0.3223269  &  1.00000000 &  0.9770205  & -0.1954592  &  0.07969407 & -0.4348591  & -0.3223269  & -0.1676680  & -0.2169543  & -0.08086107 & -0.3368484  & -0.06160765 & -0.3056509  & -0.3046400  & -0.1693247  &  0.03662686\\\\\n",
       "\tkurt & -0.3160356  &  0.97702046 &  1.0000000  & -0.1276436  &  0.10988403 & -0.4067219  & -0.3160356  & -0.1945599  & -0.2032014  & -0.04566725 & -0.3032336  & -0.10331264 & -0.2745001  & -0.2727294  & -0.2055393  &  0.08719492\\\\\n",
       "\tsp.ent & -0.6012025  & -0.19545924 & -0.1276436  &  1.0000000  &  0.86641084 & -0.3252985  & -0.6012025  & -0.5131937  & -0.3058260  & -0.12073797 & -0.2935624  & -0.29486887 & -0.3242531  & -0.3190536  &  0.1980743  &  0.49055224\\\\\n",
       "\tsfm & -0.7843323  &  0.07969407 &  0.1098840  &  0.8664108  &  1.00000000 & -0.4859129  & -0.7843323  & -0.4210657  & -0.3621003  & -0.19236943 & -0.4284425  & -0.28959288 & -0.4366488  & -0.4315798  &  0.2114772  &  0.35749858\\\\\n",
       "\tmode &  0.6877152  & -0.43485906 & -0.4067219  & -0.3252985  & -0.48591287 &  1.0000000  &  0.6877152  &  0.3247713  &  0.3854673  &  0.17232879 &  0.4914794  &  0.19814956 &  0.4771867  &  0.4737750  & -0.1823435  & -0.17177465\\\\\n",
       "\\end{tabular}\n"
      ],
      "text/markdown": [
       "\n",
       "| <!--/--> | meanfreq | skew | kurt | sp.ent | sfm | mode | centroid | meanfun | minfun | maxfun | meandom | mindom | maxdom | dfrange | modindx | target |\n",
       "|---|---|---|---|---|---|---|---|---|---|---|---|---|---|---|---|---|\n",
       "| meanfreq |  1.0000000  | -0.32232693 | -0.3160356  | -0.6012025  | -0.78433231 |  0.6877152  |  1.0000000  |  0.4608444  |  0.3839368  |  0.27400407 |  0.5366661  |  0.22926099 |  0.5195277  |  0.5155699  | -0.2169787  | -0.33741455 |\n",
       "| skew | -0.3223269  |  1.00000000 |  0.9770205  | -0.1954592  |  0.07969407 | -0.4348591  | -0.3223269  | -0.1676680  | -0.2169543  | -0.08086107 | -0.3368484  | -0.06160765 | -0.3056509  | -0.3046400  | -0.1693247  |  0.03662686 |\n",
       "| kurt | -0.3160356  |  0.97702046 |  1.0000000  | -0.1276436  |  0.10988403 | -0.4067219  | -0.3160356  | -0.1945599  | -0.2032014  | -0.04566725 | -0.3032336  | -0.10331264 | -0.2745001  | -0.2727294  | -0.2055393  |  0.08719492 |\n",
       "| sp.ent | -0.6012025  | -0.19545924 | -0.1276436  |  1.0000000  |  0.86641084 | -0.3252985  | -0.6012025  | -0.5131937  | -0.3058260  | -0.12073797 | -0.2935624  | -0.29486887 | -0.3242531  | -0.3190536  |  0.1980743  |  0.49055224 |\n",
       "| sfm | -0.7843323  |  0.07969407 |  0.1098840  |  0.8664108  |  1.00000000 | -0.4859129  | -0.7843323  | -0.4210657  | -0.3621003  | -0.19236943 | -0.4284425  | -0.28959288 | -0.4366488  | -0.4315798  |  0.2114772  |  0.35749858 |\n",
       "| mode |  0.6877152  | -0.43485906 | -0.4067219  | -0.3252985  | -0.48591287 |  1.0000000  |  0.6877152  |  0.3247713  |  0.3854673  |  0.17232879 |  0.4914794  |  0.19814956 |  0.4771867  |  0.4737750  | -0.1823435  | -0.17177465 |\n",
       "\n"
      ],
      "text/plain": [
       "         meanfreq   skew        kurt       sp.ent     sfm         mode      \n",
       "meanfreq  1.0000000 -0.32232693 -0.3160356 -0.6012025 -0.78433231  0.6877152\n",
       "skew     -0.3223269  1.00000000  0.9770205 -0.1954592  0.07969407 -0.4348591\n",
       "kurt     -0.3160356  0.97702046  1.0000000 -0.1276436  0.10988403 -0.4067219\n",
       "sp.ent   -0.6012025 -0.19545924 -0.1276436  1.0000000  0.86641084 -0.3252985\n",
       "sfm      -0.7843323  0.07969407  0.1098840  0.8664108  1.00000000 -0.4859129\n",
       "mode      0.6877152 -0.43485906 -0.4067219 -0.3252985 -0.48591287  1.0000000\n",
       "         centroid   meanfun    minfun     maxfun      meandom    mindom     \n",
       "meanfreq  1.0000000  0.4608444  0.3839368  0.27400407  0.5366661  0.22926099\n",
       "skew     -0.3223269 -0.1676680 -0.2169543 -0.08086107 -0.3368484 -0.06160765\n",
       "kurt     -0.3160356 -0.1945599 -0.2032014 -0.04566725 -0.3032336 -0.10331264\n",
       "sp.ent   -0.6012025 -0.5131937 -0.3058260 -0.12073797 -0.2935624 -0.29486887\n",
       "sfm      -0.7843323 -0.4210657 -0.3621003 -0.19236943 -0.4284425 -0.28959288\n",
       "mode      0.6877152  0.3247713  0.3854673  0.17232879  0.4914794  0.19814956\n",
       "         maxdom     dfrange    modindx    target     \n",
       "meanfreq  0.5195277  0.5155699 -0.2169787 -0.33741455\n",
       "skew     -0.3056509 -0.3046400 -0.1693247  0.03662686\n",
       "kurt     -0.2745001 -0.2727294 -0.2055393  0.08719492\n",
       "sp.ent   -0.3242531 -0.3190536  0.1980743  0.49055224\n",
       "sfm      -0.4366488 -0.4315798  0.2114772  0.35749858\n",
       "mode      0.4771867  0.4737750 -0.1823435 -0.17177465"
      ]
     },
     "metadata": {},
     "output_type": "display_data"
    }
   ],
   "source": [
    "head(corrmatrix<-cor(df)) #상관계수 행렬"
   ]
  },
  {
   "cell_type": "code",
   "execution_count": 20,
   "metadata": {},
   "outputs": [
    {
     "data": {
      "image/png": "[encoded data removed]",
      "text/plain": [
       "Plot with title \"\""
      ]
     },
     "metadata": {},
     "output_type": "display_data"
    }
   ],
   "source": [
    "library(corrplot)\n",
    "corrplot(corrmatrix,method='circle') #상관계수 그래프"
   ]
  },
  {
   "cell_type": "code",
   "execution_count": 21,
   "metadata": {},
   "outputs": [
    {
     "data": {
      "text/plain": [
       "\n",
       "   0    1 \n",
       "1584 1584 "
      ]
     },
     "metadata": {},
     "output_type": "display_data"
    },
    {
     "data": {
      "image/png": "[encoded data removed]",
      "text/plain": [
       "plot without title"
      ]
     },
     "metadata": {},
     "output_type": "display_data"
    }
   ],
   "source": [
    "(tbl<-table(df$target))\n",
    "barplot(tbl,beside=T,legend=T,col=rainbow(2)) # target 카운트"
   ]
  },
  {
   "cell_type": "code",
   "execution_count": 22,
   "metadata": {},
   "outputs": [],
   "source": [
    "library(caret)\n",
    "set.seed(123)\n",
    "#학습용 80%\n",
    "idx_train<-createDataPartition(y=df$target, p=0.8, list=F)\n",
    "train<-df[idx_train,] #학습용\n",
    "X_train<-train[,-16] #독립변수\n",
    "y_train<-train[,16] #종속변수\n",
    "test<-df[-idx_train,] #검증용\n",
    "X_test<-test[,-16]\n",
    "y_test<-test[,16]"
   ]
  },
  {
   "cell_type": "code",
   "execution_count": 23,
   "metadata": {},
   "outputs": [
    {
     "data": {
      "text/html": [
       "2536"
      ],
      "text/latex": [
       "2536"
      ],
      "text/markdown": [
       "2536"
      ],
      "text/plain": [
       "[1] 2536"
      ]
     },
     "metadata": {},
     "output_type": "display_data"
    },
    {
     "data": {
      "text/html": [
       "632"
      ],
      "text/latex": [
       "632"
      ],
      "text/markdown": [
       "632"
      ],
      "text/plain": [
       "[1] 632"
      ]
     },
     "metadata": {},
     "output_type": "display_data"
    }
   ],
   "source": [
    "length(y_train)\n",
    "length(y_test)"
   ]
  },
  {
   "cell_type": "code",
   "execution_count": 24,
   "metadata": {},
   "outputs": [
    {
     "data": {
      "text/plain": [
       "\n",
       "Call:\n",
       "glm(formula = target ~ ., family = binomial, data = train)\n",
       "\n",
       "Deviance Residuals: \n",
       "    Min       1Q   Median       3Q      Max  \n",
       "-4.2360  -0.0710   0.0002   0.1370   3.8283  \n",
       "\n",
       "Coefficients: (1 not defined because of singularities)\n",
       "              Estimate Std. Error z value Pr(>|z|)    \n",
       "(Intercept)  4.519e+00  8.377e+00   0.539  0.58959    \n",
       "meanfreq    -2.161e+01  8.754e+00  -2.469  0.01355 *  \n",
       "skew        -3.065e-01  2.227e-01  -1.376  0.16871    \n",
       "kurt         9.860e-03  7.576e-03   1.301  0.19312    \n",
       "sp.ent       2.702e+01  9.249e+00   2.922  0.00348 ** \n",
       "sfm         -4.763e+00  1.950e+00  -2.442  0.01460 *  \n",
       "mode         4.773e+00  1.976e+00   2.415  0.01573 *  \n",
       "centroid            NA         NA      NA       NA    \n",
       "meanfun     -1.835e+02  9.705e+00 -18.904  < 2e-16 ***\n",
       "minfun       5.234e+01  8.224e+00   6.364 1.96e-10 ***\n",
       "maxfun       6.734e+00  5.750e+00   1.171  0.24160    \n",
       "meandom     -2.964e-01  3.576e-01  -0.829  0.40730    \n",
       "mindom      -6.503e+08  4.227e+08  -1.539  0.12392    \n",
       "maxdom       6.503e+08  4.227e+08   1.539  0.12392    \n",
       "dfrange     -6.503e+08  4.227e+08  -1.539  0.12392    \n",
       "modindx     -2.272e+00  1.501e+00  -1.514  0.13004    \n",
       "---\n",
       "Signif. codes:  0 '***' 0.001 '**' 0.01 '*' 0.05 '.' 0.1 ' ' 1\n",
       "\n",
       "(Dispersion parameter for binomial family taken to be 1)\n",
       "\n",
       "    Null deviance: 3515.64  on 2535  degrees of freedom\n",
       "Residual deviance:  621.76  on 2521  degrees of freedom\n",
       "AIC: 651.76\n",
       "\n",
       "Number of Fisher Scoring iterations: 8\n"
      ]
     },
     "metadata": {},
     "output_type": "display_data"
    }
   ],
   "source": [
    "model<-glm(target ~ . , data=train, family=binomial)\n",
    "summary(model) #로지스틱 회귀분석 모형"
   ]
  },
  {
   "cell_type": "code",
   "execution_count": 25,
   "metadata": {},
   "outputs": [
    {
     "data": {
      "text/html": [
       "<dl class=dl-horizontal>\n",
       "\t<dt>(Intercept)</dt>\n",
       "\t\t<dd>4.51866714101602</dd>\n",
       "\t<dt>meanfreq</dt>\n",
       "\t\t<dd>-21.6136685075779</dd>\n",
       "\t<dt>skew</dt>\n",
       "\t\t<dd>-0.306470289163484</dd>\n",
       "\t<dt>kurt</dt>\n",
       "\t\t<dd>0.00985956018630908</dd>\n",
       "\t<dt>sp.ent</dt>\n",
       "\t\t<dd>27.0213906860921</dd>\n",
       "\t<dt>sfm</dt>\n",
       "\t\t<dd>-4.76311906946488</dd>\n",
       "\t<dt>mode</dt>\n",
       "\t\t<dd>4.77307633960012</dd>\n",
       "\t<dt>centroid</dt>\n",
       "\t\t<dd>&lt;NA&gt;</dd>\n",
       "\t<dt>meanfun</dt>\n",
       "\t\t<dd>-183.472817002358</dd>\n",
       "\t<dt>minfun</dt>\n",
       "\t\t<dd>52.3399070926975</dd>\n",
       "\t<dt>maxfun</dt>\n",
       "\t\t<dd>6.73359966064383</dd>\n",
       "\t<dt>meandom</dt>\n",
       "\t\t<dd>-0.296358261808271</dd>\n",
       "\t<dt>mindom</dt>\n",
       "\t\t<dd>-650331236.662458</dd>\n",
       "\t<dt>maxdom</dt>\n",
       "\t\t<dd>650331232.418389</dd>\n",
       "\t<dt>dfrange</dt>\n",
       "\t\t<dd>-650331232.453771</dd>\n",
       "\t<dt>modindx</dt>\n",
       "\t\t<dd>-2.27214612186863</dd>\n",
       "</dl>\n"
      ],
      "text/latex": [
       "\\begin{description*}\n",
       "\\item[(Intercept)] 4.51866714101602\n",
       "\\item[meanfreq] -21.6136685075779\n",
       "\\item[skew] -0.306470289163484\n",
       "\\item[kurt] 0.00985956018630908\n",
       "\\item[sp.ent] 27.0213906860921\n",
       "\\item[sfm] -4.76311906946488\n",
       "\\item[mode] 4.77307633960012\n",
       "\\item[centroid] <NA>\n",
       "\\item[meanfun] -183.472817002358\n",
       "\\item[minfun] 52.3399070926975\n",
       "\\item[maxfun] 6.73359966064383\n",
       "\\item[meandom] -0.296358261808271\n",
       "\\item[mindom] -650331236.662458\n",
       "\\item[maxdom] 650331232.418389\n",
       "\\item[dfrange] -650331232.453771\n",
       "\\item[modindx] -2.27214612186863\n",
       "\\end{description*}\n"
      ],
      "text/markdown": [
       "(Intercept)\n",
       ":   4.51866714101602meanfreq\n",
       ":   -21.6136685075779skew\n",
       ":   -0.306470289163484kurt\n",
       ":   0.00985956018630908sp.ent\n",
       ":   27.0213906860921sfm\n",
       ":   -4.76311906946488mode\n",
       ":   4.77307633960012centroid\n",
       ":   &lt;NA&gt;meanfun\n",
       ":   -183.472817002358minfun\n",
       ":   52.3399070926975maxfun\n",
       ":   6.73359966064383meandom\n",
       ":   -0.296358261808271mindom\n",
       ":   -650331236.662458maxdom\n",
       ":   650331232.418389dfrange\n",
       ":   -650331232.453771modindx\n",
       ":   -2.27214612186863\n",
       "\n"
      ],
      "text/plain": [
       "  (Intercept)      meanfreq          skew          kurt        sp.ent \n",
       " 4.518667e+00 -2.161367e+01 -3.064703e-01  9.859560e-03  2.702139e+01 \n",
       "          sfm          mode      centroid       meanfun        minfun \n",
       "-4.763119e+00  4.773076e+00            NA -1.834728e+02  5.233991e+01 \n",
       "       maxfun       meandom        mindom        maxdom       dfrange \n",
       " 6.733600e+00 -2.963583e-01 -6.503312e+08  6.503312e+08 -6.503312e+08 \n",
       "      modindx \n",
       "-2.272146e+00 "
      ]
     },
     "metadata": {},
     "output_type": "display_data"
    }
   ],
   "source": [
    "coef(model) #회귀계수"
   ]
  },
  {
   "cell_type": "code",
   "execution_count": 26,
   "metadata": {},
   "outputs": [
    {
     "name": "stderr",
     "output_type": "stream",
     "text": [
      "Warning message in predict.lm(object, newdata, se.fit, scale = 1, type = if (type == :\n",
      "\"prediction from a rank-deficient fit may be misleading\""
     ]
    }
   ],
   "source": [
    "pred<-predict(model,newdata=X_test,type='response')\n",
    "result<-ifelse(pred>0.5,1,0) #0.5보다 크면 1, 아니면 0"
   ]
  },
  {
   "cell_type": "code",
   "execution_count": 27,
   "metadata": {},
   "outputs": [
    {
     "data": {
      "text/html": [
       "0.963607594936709"
      ],
      "text/latex": [
       "0.963607594936709"
      ],
      "text/markdown": [
       "0.963607594936709"
      ],
      "text/plain": [
       "[1] 0.9636076"
      ]
     },
     "metadata": {},
     "output_type": "display_data"
    }
   ],
   "source": [
    "mean(y_test==result) #예측정확도"
   ]
  },
  {
   "cell_type": "code",
   "execution_count": 28,
   "metadata": {},
   "outputs": [
    {
     "data": {
      "text/plain": [
       "      result\n",
       "y_test   0   1\n",
       "     0 301  15\n",
       "     1   8 308"
      ]
     },
     "metadata": {},
     "output_type": "display_data"
    }
   ],
   "source": [
    "table(y_test,result) #오분류표"
   ]
  },
  {
   "cell_type": "code",
   "execution_count": null,
   "metadata": {},
   "outputs": [],
   "source": []
  },
  {
   "cell_type": "code",
   "execution_count": null,
   "metadata": {},
   "outputs": [],
   "source": []
  },
  {
   "cell_type": "code",
   "execution_count": null,
   "metadata": {},
   "outputs": [],
   "source": []
  },
  {
   "cell_type": "code",
   "execution_count": null,
   "metadata": {},
   "outputs": [],
   "source": []
  }
 ],
 "metadata": {
  "kernelspec": {
   "display_name": "R",
   "language": "R",
   "name": "ir"
  },
  "language_info": {
   "codemirror_mode": "r",
   "file_extension": ".r",
   "mimetype": "text/x-r-source",
   "name": "R",
   "pygments_lexer": "r",
   "version": "3.6.1"
  }
 },
 "nbformat": 4,
 "nbformat_minor": 2
}
