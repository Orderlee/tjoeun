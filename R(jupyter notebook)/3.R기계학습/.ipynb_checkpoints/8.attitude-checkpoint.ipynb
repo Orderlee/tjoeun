{
 "cells": [
  {
   "cell_type": "code",
   "execution_count": 1,
   "metadata": {},
   "outputs": [
    {
     "data": {
      "text/html": [
       "<table>\n",
       "<thead><tr><th scope=col>rating</th><th scope=col>complaints</th><th scope=col>privileges</th><th scope=col>learning</th><th scope=col>raises</th><th scope=col>critical</th><th scope=col>advance</th></tr></thead>\n",
       "<tbody>\n",
       "\t<tr><td>43</td><td>51</td><td>30</td><td>39</td><td>61</td><td>92</td><td>45</td></tr>\n",
       "\t<tr><td>63</td><td>64</td><td>51</td><td>54</td><td>63</td><td>73</td><td>47</td></tr>\n",
       "\t<tr><td>71</td><td>70</td><td>68</td><td>69</td><td>76</td><td>86</td><td>48</td></tr>\n",
       "\t<tr><td>61</td><td>63</td><td>45</td><td>47</td><td>54</td><td>84</td><td>35</td></tr>\n",
       "\t<tr><td>81</td><td>78</td><td>56</td><td>66</td><td>71</td><td>83</td><td>47</td></tr>\n",
       "\t<tr><td>43</td><td>55</td><td>49</td><td>44</td><td>54</td><td>49</td><td>34</td></tr>\n",
       "</tbody>\n",
       "</table>\n"
      ],
      "text/latex": [
       "\\begin{tabular}{r|lllllll}\n",
       " rating & complaints & privileges & learning & raises & critical & advance\\\\\n",
       "\\hline\n",
       "\t 43 & 51 & 30 & 39 & 61 & 92 & 45\\\\\n",
       "\t 63 & 64 & 51 & 54 & 63 & 73 & 47\\\\\n",
       "\t 71 & 70 & 68 & 69 & 76 & 86 & 48\\\\\n",
       "\t 61 & 63 & 45 & 47 & 54 & 84 & 35\\\\\n",
       "\t 81 & 78 & 56 & 66 & 71 & 83 & 47\\\\\n",
       "\t 43 & 55 & 49 & 44 & 54 & 49 & 34\\\\\n",
       "\\end{tabular}\n"
      ],
      "text/markdown": [
       "\n",
       "| rating | complaints | privileges | learning | raises | critical | advance |\n",
       "|---|---|---|---|---|---|---|\n",
       "| 43 | 51 | 30 | 39 | 61 | 92 | 45 |\n",
       "| 63 | 64 | 51 | 54 | 63 | 73 | 47 |\n",
       "| 71 | 70 | 68 | 69 | 76 | 86 | 48 |\n",
       "| 61 | 63 | 45 | 47 | 54 | 84 | 35 |\n",
       "| 81 | 78 | 56 | 66 | 71 | 83 | 47 |\n",
       "| 43 | 55 | 49 | 44 | 54 | 49 | 34 |\n",
       "\n"
      ],
      "text/plain": [
       "  rating complaints privileges learning raises critical advance\n",
       "1 43     51         30         39       61     92       45     \n",
       "2 63     64         51         54       63     73       47     \n",
       "3 71     70         68         69       76     86       48     \n",
       "4 61     63         45         47       54     84       35     \n",
       "5 81     78         56         66       71     83       47     \n",
       "6 43     55         49         44       54     49       34     "
      ]
     },
     "metadata": {},
     "output_type": "display_data"
    },
    {
     "data": {
      "text/html": [
       "<table>\n",
       "<thead><tr><th></th><th scope=col>rating</th><th scope=col>complaints</th><th scope=col>privileges</th><th scope=col>learning</th><th scope=col>raises</th><th scope=col>critical</th><th scope=col>advance</th></tr></thead>\n",
       "<tbody>\n",
       "\t<tr><th scope=row>25</th><td>63</td><td>54</td><td>42</td><td>48</td><td>66</td><td>75</td><td>33</td></tr>\n",
       "\t<tr><th scope=row>26</th><td>66</td><td>77</td><td>66</td><td>63</td><td>88</td><td>76</td><td>72</td></tr>\n",
       "\t<tr><th scope=row>27</th><td>78</td><td>75</td><td>58</td><td>74</td><td>80</td><td>78</td><td>49</td></tr>\n",
       "\t<tr><th scope=row>28</th><td>48</td><td>57</td><td>44</td><td>45</td><td>51</td><td>83</td><td>38</td></tr>\n",
       "\t<tr><th scope=row>29</th><td>85</td><td>85</td><td>71</td><td>71</td><td>77</td><td>74</td><td>55</td></tr>\n",
       "\t<tr><th scope=row>30</th><td>82</td><td>82</td><td>39</td><td>59</td><td>64</td><td>78</td><td>39</td></tr>\n",
       "</tbody>\n",
       "</table>\n"
      ],
      "text/latex": [
       "\\begin{tabular}{r|lllllll}\n",
       "  & rating & complaints & privileges & learning & raises & critical & advance\\\\\n",
       "\\hline\n",
       "\t25 & 63 & 54 & 42 & 48 & 66 & 75 & 33\\\\\n",
       "\t26 & 66 & 77 & 66 & 63 & 88 & 76 & 72\\\\\n",
       "\t27 & 78 & 75 & 58 & 74 & 80 & 78 & 49\\\\\n",
       "\t28 & 48 & 57 & 44 & 45 & 51 & 83 & 38\\\\\n",
       "\t29 & 85 & 85 & 71 & 71 & 77 & 74 & 55\\\\\n",
       "\t30 & 82 & 82 & 39 & 59 & 64 & 78 & 39\\\\\n",
       "\\end{tabular}\n"
      ],
      "text/markdown": [
       "\n",
       "| <!--/--> | rating | complaints | privileges | learning | raises | critical | advance |\n",
       "|---|---|---|---|---|---|---|---|\n",
       "| 25 | 63 | 54 | 42 | 48 | 66 | 75 | 33 |\n",
       "| 26 | 66 | 77 | 66 | 63 | 88 | 76 | 72 |\n",
       "| 27 | 78 | 75 | 58 | 74 | 80 | 78 | 49 |\n",
       "| 28 | 48 | 57 | 44 | 45 | 51 | 83 | 38 |\n",
       "| 29 | 85 | 85 | 71 | 71 | 77 | 74 | 55 |\n",
       "| 30 | 82 | 82 | 39 | 59 | 64 | 78 | 39 |\n",
       "\n"
      ],
      "text/plain": [
       "   rating complaints privileges learning raises critical advance\n",
       "25 63     54         42         48       66     75       33     \n",
       "26 66     77         66         63       88     76       72     \n",
       "27 78     75         58         74       80     78       49     \n",
       "28 48     57         44         45       51     83       38     \n",
       "29 85     85         71         71       77     74       55     \n",
       "30 82     82         39         59       64     78       39     "
      ]
     },
     "metadata": {},
     "output_type": "display_data"
    }
   ],
   "source": [
    "data() #R에 내장된 데이터셋 목록\n",
    "head(attitude)\n",
    "tail(attitude)"
   ]
  },
  {
   "cell_type": "code",
   "execution_count": 3,
   "metadata": {},
   "outputs": [
    {
     "data": {
      "text/plain": [
       "\n",
       "Call:\n",
       "lm(formula = rating ~ ., data = attitude)\n",
       "\n",
       "Coefficients:\n",
       "(Intercept)   complaints   privileges     learning       raises     critical  \n",
       "   10.78708      0.61319     -0.07305      0.32033      0.08173      0.03838  \n",
       "    advance  \n",
       "   -0.21706  \n"
      ]
     },
     "metadata": {},
     "output_type": "display_data"
    }
   ],
   "source": [
    "#다중회귀분석 모형 만들기 종속변수 ~ 독립변수 . 모든 변수들\n",
    "(model <- lm(rating ~. ,data=attitude))\n",
    "#(model <- lm(rating ~complaints + privileges + learning + raises\n",
    "#            +critical + advance, data=attitude)"
   ]
  },
  {
   "cell_type": "code",
   "execution_count": 4,
   "metadata": {},
   "outputs": [
    {
     "data": {
      "text/plain": [
       "\n",
       "Call:\n",
       "lm(formula = rating ~ ., data = attitude)\n",
       "\n",
       "Residuals:\n",
       "     Min       1Q   Median       3Q      Max \n",
       "-10.9418  -4.3555   0.3158   5.5425  11.5990 \n",
       "\n",
       "Coefficients:\n",
       "            Estimate Std. Error t value Pr(>|t|)    \n",
       "(Intercept) 10.78708   11.58926   0.931 0.361634    \n",
       "complaints   0.61319    0.16098   3.809 0.000903 ***\n",
       "privileges  -0.07305    0.13572  -0.538 0.595594    \n",
       "learning     0.32033    0.16852   1.901 0.069925 .  \n",
       "raises       0.08173    0.22148   0.369 0.715480    \n",
       "critical     0.03838    0.14700   0.261 0.796334    \n",
       "advance     -0.21706    0.17821  -1.218 0.235577    \n",
       "---\n",
       "Signif. codes:  0 '***' 0.001 '**' 0.01 '*' 0.05 '.' 0.1 ' ' 1\n",
       "\n",
       "Residual standard error: 7.068 on 23 degrees of freedom\n",
       "Multiple R-squared:  0.7326,\tAdjusted R-squared:  0.6628 \n",
       "F-statistic:  10.5 on 6 and 23 DF,  p-value: 1.24e-05\n"
      ]
     },
     "metadata": {},
     "output_type": "display_data"
    }
   ],
   "source": [
    "summary(model) #p-vlues와 R제곱\n",
    "# p-value: 1.24e-05 0.05보다 작으므로 통계적으로 유의함\n",
    "# R-squared:  0.6628 모델 설명력 66.2%(예측정확도)"
   ]
  },
  {
   "cell_type": "code",
   "execution_count": 5,
   "metadata": {},
   "outputs": [
    {
     "name": "stdout",
     "output_type": "stream",
     "text": [
      "Start:  AIC=123.36\n",
      "rating ~ complaints + privileges + learning + raises + critical + \n",
      "    advance\n",
      "\n",
      "             Df Sum of Sq    RSS    AIC\n",
      "- critical    1      3.41 1152.4 121.45\n",
      "- raises      1      6.80 1155.8 121.54\n",
      "- privileges  1     14.47 1163.5 121.74\n",
      "- advance     1     74.11 1223.1 123.24\n",
      "<none>                    1149.0 123.36\n",
      "- learning    1    180.50 1329.5 125.74\n",
      "- complaints  1    724.80 1873.8 136.04\n",
      "\n",
      "Step:  AIC=121.45\n",
      "rating ~ complaints + privileges + learning + raises + advance\n",
      "\n",
      "             Df Sum of Sq    RSS    AIC\n",
      "- raises      1     10.61 1163.0 119.73\n",
      "- privileges  1     14.16 1166.6 119.82\n",
      "- advance     1     71.27 1223.7 121.25\n",
      "<none>                    1152.4 121.45\n",
      "- learning    1    177.74 1330.1 123.75\n",
      "- complaints  1    724.70 1877.1 134.09\n",
      "\n",
      "Step:  AIC=119.73\n",
      "rating ~ complaints + privileges + learning + advance\n",
      "\n",
      "             Df Sum of Sq    RSS    AIC\n",
      "- privileges  1     16.10 1179.1 118.14\n",
      "- advance     1     61.60 1224.6 119.28\n",
      "<none>                    1163.0 119.73\n",
      "- learning    1    197.03 1360.0 122.42\n",
      "- complaints  1   1165.94 2328.9 138.56\n",
      "\n",
      "Step:  AIC=118.14\n",
      "rating ~ complaints + learning + advance\n",
      "\n",
      "             Df Sum of Sq    RSS    AIC\n",
      "- advance     1     75.54 1254.7 118.00\n",
      "<none>                    1179.1 118.14\n",
      "- learning    1    186.12 1365.2 120.54\n",
      "- complaints  1   1259.91 2439.0 137.94\n",
      "\n",
      "Step:  AIC=118\n",
      "rating ~ complaints + learning\n",
      "\n",
      "             Df Sum of Sq    RSS    AIC\n",
      "<none>                    1254.7 118.00\n",
      "- learning    1    114.73 1369.4 118.63\n",
      "- complaints  1   1370.91 2625.6 138.16\n"
     ]
    }
   ],
   "source": [
    "#후진제거법, 기여도가 낮은 변수를 하나씩 제거하는 방식\n",
    "reduced<-step(model, direction='backward')\n",
    "#최종적으로 선택된 변수 확인"
   ]
  },
  {
   "cell_type": "code",
   "execution_count": 6,
   "metadata": {},
   "outputs": [
    {
     "data": {
      "text/plain": [
       "\n",
       "Call:\n",
       "lm(formula = rating ~ complaints + learning, data = attitude)\n",
       "\n",
       "Residuals:\n",
       "     Min       1Q   Median       3Q      Max \n",
       "-11.5568  -5.7331   0.6701   6.5341  10.3610 \n",
       "\n",
       "Coefficients:\n",
       "            Estimate Std. Error t value Pr(>|t|)    \n",
       "(Intercept)   9.8709     7.0612   1.398    0.174    \n",
       "complaints    0.6435     0.1185   5.432 9.57e-06 ***\n",
       "learning      0.2112     0.1344   1.571    0.128    \n",
       "---\n",
       "Signif. codes:  0 '***' 0.001 '**' 0.01 '*' 0.05 '.' 0.1 ' ' 1\n",
       "\n",
       "Residual standard error: 6.817 on 27 degrees of freedom\n",
       "Multiple R-squared:  0.708,\tAdjusted R-squared:  0.6864 \n",
       "F-statistic: 32.74 on 2 and 27 DF,  p-value: 6.058e-08\n"
      ]
     },
     "metadata": {},
     "output_type": "display_data"
    }
   ],
   "source": [
    "summary(reduced) #최종적으로 만들어진 모형, p-value와 R제곱\n",
    "#p-value: 6.058e-08\n",
    "#R-squared:  0.6864"
   ]
  },
  {
   "cell_type": "code",
   "execution_count": null,
   "metadata": {},
   "outputs": [],
   "source": []
  },
  {
   "cell_type": "code",
   "execution_count": null,
   "metadata": {},
   "outputs": [],
   "source": []
  },
  {
   "cell_type": "code",
   "execution_count": null,
   "metadata": {},
   "outputs": [],
   "source": []
  }
 ],
 "metadata": {
  "kernelspec": {
   "display_name": "R",
   "language": "R",
   "name": "ir"
  },
  "language_info": {
   "codemirror_mode": "r",
   "file_extension": ".r",
   "mimetype": "text/x-r-source",
   "name": "R",
   "pygments_lexer": "r",
   "version": "3.6.1"
  }
 },
 "nbformat": 4,
 "nbformat_minor": 2
}
