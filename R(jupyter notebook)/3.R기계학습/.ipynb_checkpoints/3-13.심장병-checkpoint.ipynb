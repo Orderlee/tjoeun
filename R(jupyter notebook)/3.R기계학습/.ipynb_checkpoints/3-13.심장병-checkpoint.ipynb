{
 "cells": [
  {
   "cell_type": "code",
   "execution_count": 19,
   "metadata": {},
   "outputs": [
    {
     "data": {
      "text/html": [
       "<table>\n",
       "<thead><tr><th scope=col>age</th><th scope=col>sex</th><th scope=col>cp</th><th scope=col>trestbps</th><th scope=col>chol</th><th scope=col>fbs</th><th scope=col>restecg</th><th scope=col>thalach</th><th scope=col>exang</th><th scope=col>oldpeak</th><th scope=col>slope</th><th scope=col>ca</th><th scope=col>thal</th><th scope=col>target</th></tr></thead>\n",
       "<tbody>\n",
       "\t<tr><td>63 </td><td>1  </td><td>3  </td><td>145</td><td>233</td><td>1  </td><td>0  </td><td>150</td><td>0  </td><td>2.3</td><td>0  </td><td>0  </td><td>1  </td><td>1  </td></tr>\n",
       "\t<tr><td>37 </td><td>1  </td><td>2  </td><td>130</td><td>250</td><td>0  </td><td>1  </td><td>187</td><td>0  </td><td>3.5</td><td>0  </td><td>0  </td><td>2  </td><td>1  </td></tr>\n",
       "\t<tr><td>41 </td><td>0  </td><td>1  </td><td>130</td><td>204</td><td>0  </td><td>0  </td><td>172</td><td>0  </td><td>1.4</td><td>2  </td><td>0  </td><td>2  </td><td>1  </td></tr>\n",
       "\t<tr><td>56 </td><td>1  </td><td>1  </td><td>120</td><td>236</td><td>0  </td><td>1  </td><td>178</td><td>0  </td><td>0.8</td><td>2  </td><td>0  </td><td>2  </td><td>1  </td></tr>\n",
       "\t<tr><td>57 </td><td>0  </td><td>0  </td><td>120</td><td>354</td><td>0  </td><td>1  </td><td>163</td><td>1  </td><td>0.6</td><td>2  </td><td>0  </td><td>2  </td><td>1  </td></tr>\n",
       "\t<tr><td>57 </td><td>1  </td><td>0  </td><td>140</td><td>192</td><td>0  </td><td>1  </td><td>148</td><td>0  </td><td>0.4</td><td>1  </td><td>0  </td><td>1  </td><td>1  </td></tr>\n",
       "</tbody>\n",
       "</table>\n"
      ],
      "text/latex": [
       "\\begin{tabular}{r|llllllllllllll}\n",
       " age & sex & cp & trestbps & chol & fbs & restecg & thalach & exang & oldpeak & slope & ca & thal & target\\\\\n",
       "\\hline\n",
       "\t 63  & 1   & 3   & 145 & 233 & 1   & 0   & 150 & 0   & 2.3 & 0   & 0   & 1   & 1  \\\\\n",
       "\t 37  & 1   & 2   & 130 & 250 & 0   & 1   & 187 & 0   & 3.5 & 0   & 0   & 2   & 1  \\\\\n",
       "\t 41  & 0   & 1   & 130 & 204 & 0   & 0   & 172 & 0   & 1.4 & 2   & 0   & 2   & 1  \\\\\n",
       "\t 56  & 1   & 1   & 120 & 236 & 0   & 1   & 178 & 0   & 0.8 & 2   & 0   & 2   & 1  \\\\\n",
       "\t 57  & 0   & 0   & 120 & 354 & 0   & 1   & 163 & 1   & 0.6 & 2   & 0   & 2   & 1  \\\\\n",
       "\t 57  & 1   & 0   & 140 & 192 & 0   & 1   & 148 & 0   & 0.4 & 1   & 0   & 1   & 1  \\\\\n",
       "\\end{tabular}\n"
      ],
      "text/markdown": [
       "\n",
       "| age | sex | cp | trestbps | chol | fbs | restecg | thalach | exang | oldpeak | slope | ca | thal | target |\n",
       "|---|---|---|---|---|---|---|---|---|---|---|---|---|---|\n",
       "| 63  | 1   | 3   | 145 | 233 | 1   | 0   | 150 | 0   | 2.3 | 0   | 0   | 1   | 1   |\n",
       "| 37  | 1   | 2   | 130 | 250 | 0   | 1   | 187 | 0   | 3.5 | 0   | 0   | 2   | 1   |\n",
       "| 41  | 0   | 1   | 130 | 204 | 0   | 0   | 172 | 0   | 1.4 | 2   | 0   | 2   | 1   |\n",
       "| 56  | 1   | 1   | 120 | 236 | 0   | 1   | 178 | 0   | 0.8 | 2   | 0   | 2   | 1   |\n",
       "| 57  | 0   | 0   | 120 | 354 | 0   | 1   | 163 | 1   | 0.6 | 2   | 0   | 2   | 1   |\n",
       "| 57  | 1   | 0   | 140 | 192 | 0   | 1   | 148 | 0   | 0.4 | 1   | 0   | 1   | 1   |\n",
       "\n"
      ],
      "text/plain": [
       "  age sex cp trestbps chol fbs restecg thalach exang oldpeak slope ca thal\n",
       "1 63  1   3  145      233  1   0       150     0     2.3     0     0  1   \n",
       "2 37  1   2  130      250  0   1       187     0     3.5     0     0  2   \n",
       "3 41  0   1  130      204  0   0       172     0     1.4     2     0  2   \n",
       "4 56  1   1  120      236  0   1       178     0     0.8     2     0  2   \n",
       "5 57  0   0  120      354  0   1       163     1     0.6     2     0  2   \n",
       "6 57  1   0  140      192  0   1       148     0     0.4     1     0  1   \n",
       "  target\n",
       "1 1     \n",
       "2 1     \n",
       "3 1     \n",
       "4 1     \n",
       "5 1     \n",
       "6 1     "
      ]
     },
     "metadata": {},
     "output_type": "display_data"
    },
    {
     "data": {
      "text/html": [
       "<ol class=list-inline>\n",
       "\t<li>303</li>\n",
       "\t<li>14</li>\n",
       "</ol>\n"
      ],
      "text/latex": [
       "\\begin{enumerate*}\n",
       "\\item 303\n",
       "\\item 14\n",
       "\\end{enumerate*}\n"
      ],
      "text/markdown": [
       "1. 303\n",
       "2. 14\n",
       "\n",
       "\n"
      ],
      "text/plain": [
       "[1] 303  14"
      ]
     },
     "metadata": {},
     "output_type": "display_data"
    },
    {
     "data": {
      "text/plain": [
       "      age             sex               cp           trestbps    \n",
       " Min.   :29.00   Min.   :0.0000   Min.   :0.000   Min.   : 94.0  \n",
       " 1st Qu.:47.50   1st Qu.:0.0000   1st Qu.:0.000   1st Qu.:120.0  \n",
       " Median :55.00   Median :1.0000   Median :1.000   Median :130.0  \n",
       " Mean   :54.37   Mean   :0.6832   Mean   :0.967   Mean   :131.6  \n",
       " 3rd Qu.:61.00   3rd Qu.:1.0000   3rd Qu.:2.000   3rd Qu.:140.0  \n",
       " Max.   :77.00   Max.   :1.0000   Max.   :3.000   Max.   :200.0  \n",
       "      chol            fbs            restecg          thalach     \n",
       " Min.   :126.0   Min.   :0.0000   Min.   :0.0000   Min.   : 71.0  \n",
       " 1st Qu.:211.0   1st Qu.:0.0000   1st Qu.:0.0000   1st Qu.:133.5  \n",
       " Median :240.0   Median :0.0000   Median :1.0000   Median :153.0  \n",
       " Mean   :246.3   Mean   :0.1485   Mean   :0.5281   Mean   :149.6  \n",
       " 3rd Qu.:274.5   3rd Qu.:0.0000   3rd Qu.:1.0000   3rd Qu.:166.0  \n",
       " Max.   :564.0   Max.   :1.0000   Max.   :2.0000   Max.   :202.0  \n",
       "     exang           oldpeak         slope             ca        \n",
       " Min.   :0.0000   Min.   :0.00   Min.   :0.000   Min.   :0.0000  \n",
       " 1st Qu.:0.0000   1st Qu.:0.00   1st Qu.:1.000   1st Qu.:0.0000  \n",
       " Median :0.0000   Median :0.80   Median :1.000   Median :0.0000  \n",
       " Mean   :0.3267   Mean   :1.04   Mean   :1.399   Mean   :0.7294  \n",
       " 3rd Qu.:1.0000   3rd Qu.:1.60   3rd Qu.:2.000   3rd Qu.:1.0000  \n",
       " Max.   :1.0000   Max.   :6.20   Max.   :2.000   Max.   :4.0000  \n",
       "      thal           target      \n",
       " Min.   :0.000   Min.   :0.0000  \n",
       " 1st Qu.:2.000   1st Qu.:0.0000  \n",
       " Median :2.000   Median :1.0000  \n",
       " Mean   :2.314   Mean   :0.5446  \n",
       " 3rd Qu.:3.000   3rd Qu.:1.0000  \n",
       " Max.   :3.000   Max.   :1.0000  "
      ]
     },
     "metadata": {},
     "output_type": "display_data"
    }
   ],
   "source": [
    "df<-read.csv('d:/data/heart/heart.csv') #데이터파일 로딩\n",
    "head(df)\n",
    "dim(df)\n",
    "summary(df) #기초통계량"
   ]
  },
  {
   "cell_type": "code",
   "execution_count": 7,
   "metadata": {},
   "outputs": [
    {
     "data": {
      "text/html": [
       "<table>\n",
       "<thead><tr><th></th><th scope=col>age</th><th scope=col>sex</th><th scope=col>cp</th><th scope=col>trestbps</th><th scope=col>chol</th><th scope=col>fbs</th><th scope=col>restecg</th><th scope=col>thalach</th><th scope=col>exang</th><th scope=col>oldpeak</th><th scope=col>slope</th><th scope=col>ca</th><th scope=col>thal</th><th scope=col>target</th></tr></thead>\n",
       "<tbody>\n",
       "\t<tr><th scope=row>age</th><td> 1.00000000 </td><td>-0.09844660 </td><td>-0.06865302 </td><td> 0.27935091 </td><td> 0.21367796 </td><td>0.12130765  </td><td>-0.11621090 </td><td>-0.398521938</td><td> 0.09680083 </td><td> 0.210012567</td><td>-0.16881424 </td><td> 0.27632624 </td><td> 0.06800138 </td><td>-0.22543872 </td></tr>\n",
       "\t<tr><th scope=row>sex</th><td>-0.09844660 </td><td> 1.00000000 </td><td>-0.04935288 </td><td>-0.05676882 </td><td>-0.19791217 </td><td>0.04503179  </td><td>-0.05819627 </td><td>-0.044019908</td><td> 0.14166381 </td><td> 0.096092877</td><td>-0.03071057 </td><td> 0.11826141 </td><td> 0.21004110 </td><td>-0.28093658 </td></tr>\n",
       "\t<tr><th scope=row>cp</th><td>-0.06865302 </td><td>-0.04935288 </td><td> 1.00000000 </td><td> 0.04760776 </td><td>-0.07690439 </td><td>0.09444403  </td><td> 0.04442059 </td><td> 0.295762125</td><td>-0.39428027 </td><td>-0.149230158</td><td> 0.11971659 </td><td>-0.18105303 </td><td>-0.16173557 </td><td> 0.43379826 </td></tr>\n",
       "\t<tr><th scope=row>trestbps</th><td> 0.27935091 </td><td>-0.05676882 </td><td> 0.04760776 </td><td> 1.00000000 </td><td> 0.12317421 </td><td>0.17753054  </td><td>-0.11410279 </td><td>-0.046697728</td><td> 0.06761612 </td><td> 0.193216472</td><td>-0.12147458 </td><td> 0.10138899 </td><td> 0.06220989 </td><td>-0.14493113 </td></tr>\n",
       "\t<tr><th scope=row>chol</th><td> 0.21367796 </td><td>-0.19791217 </td><td>-0.07690439 </td><td> 0.12317421 </td><td> 1.00000000 </td><td>0.01329360  </td><td>-0.15104008 </td><td>-0.009939839</td><td> 0.06702278 </td><td> 0.053951920</td><td>-0.00403777 </td><td> 0.07051093 </td><td> 0.09880299 </td><td>-0.08523911 </td></tr>\n",
       "\t<tr><th scope=row>fbs</th><td> 0.12130765 </td><td> 0.04503179 </td><td> 0.09444403 </td><td> 0.17753054 </td><td> 0.01329360 </td><td>1.00000000  </td><td>-0.08418905 </td><td>-0.008567107</td><td> 0.02566515 </td><td> 0.005747223</td><td>-0.05989418 </td><td> 0.13797933 </td><td>-0.03201934 </td><td>-0.02804576 </td></tr>\n",
       "</tbody>\n",
       "</table>\n"
      ],
      "text/latex": [
       "\\begin{tabular}{r|llllllllllllll}\n",
       "  & age & sex & cp & trestbps & chol & fbs & restecg & thalach & exang & oldpeak & slope & ca & thal & target\\\\\n",
       "\\hline\n",
       "\tage &  1.00000000  & -0.09844660  & -0.06865302  &  0.27935091  &  0.21367796  & 0.12130765   & -0.11621090  & -0.398521938 &  0.09680083  &  0.210012567 & -0.16881424  &  0.27632624  &  0.06800138  & -0.22543872 \\\\\n",
       "\tsex & -0.09844660  &  1.00000000  & -0.04935288  & -0.05676882  & -0.19791217  & 0.04503179   & -0.05819627  & -0.044019908 &  0.14166381  &  0.096092877 & -0.03071057  &  0.11826141  &  0.21004110  & -0.28093658 \\\\\n",
       "\tcp & -0.06865302  & -0.04935288  &  1.00000000  &  0.04760776  & -0.07690439  & 0.09444403   &  0.04442059  &  0.295762125 & -0.39428027  & -0.149230158 &  0.11971659  & -0.18105303  & -0.16173557  &  0.43379826 \\\\\n",
       "\ttrestbps &  0.27935091  & -0.05676882  &  0.04760776  &  1.00000000  &  0.12317421  & 0.17753054   & -0.11410279  & -0.046697728 &  0.06761612  &  0.193216472 & -0.12147458  &  0.10138899  &  0.06220989  & -0.14493113 \\\\\n",
       "\tchol &  0.21367796  & -0.19791217  & -0.07690439  &  0.12317421  &  1.00000000  & 0.01329360   & -0.15104008  & -0.009939839 &  0.06702278  &  0.053951920 & -0.00403777  &  0.07051093  &  0.09880299  & -0.08523911 \\\\\n",
       "\tfbs &  0.12130765  &  0.04503179  &  0.09444403  &  0.17753054  &  0.01329360  & 1.00000000   & -0.08418905  & -0.008567107 &  0.02566515  &  0.005747223 & -0.05989418  &  0.13797933  & -0.03201934  & -0.02804576 \\\\\n",
       "\\end{tabular}\n"
      ],
      "text/markdown": [
       "\n",
       "| <!--/--> | age | sex | cp | trestbps | chol | fbs | restecg | thalach | exang | oldpeak | slope | ca | thal | target |\n",
       "|---|---|---|---|---|---|---|---|---|---|---|---|---|---|---|\n",
       "| age |  1.00000000  | -0.09844660  | -0.06865302  |  0.27935091  |  0.21367796  | 0.12130765   | -0.11621090  | -0.398521938 |  0.09680083  |  0.210012567 | -0.16881424  |  0.27632624  |  0.06800138  | -0.22543872  |\n",
       "| sex | -0.09844660  |  1.00000000  | -0.04935288  | -0.05676882  | -0.19791217  | 0.04503179   | -0.05819627  | -0.044019908 |  0.14166381  |  0.096092877 | -0.03071057  |  0.11826141  |  0.21004110  | -0.28093658  |\n",
       "| cp | -0.06865302  | -0.04935288  |  1.00000000  |  0.04760776  | -0.07690439  | 0.09444403   |  0.04442059  |  0.295762125 | -0.39428027  | -0.149230158 |  0.11971659  | -0.18105303  | -0.16173557  |  0.43379826  |\n",
       "| trestbps |  0.27935091  | -0.05676882  |  0.04760776  |  1.00000000  |  0.12317421  | 0.17753054   | -0.11410279  | -0.046697728 |  0.06761612  |  0.193216472 | -0.12147458  |  0.10138899  |  0.06220989  | -0.14493113  |\n",
       "| chol |  0.21367796  | -0.19791217  | -0.07690439  |  0.12317421  |  1.00000000  | 0.01329360   | -0.15104008  | -0.009939839 |  0.06702278  |  0.053951920 | -0.00403777  |  0.07051093  |  0.09880299  | -0.08523911  |\n",
       "| fbs |  0.12130765  |  0.04503179  |  0.09444403  |  0.17753054  |  0.01329360  | 1.00000000   | -0.08418905  | -0.008567107 |  0.02566515  |  0.005747223 | -0.05989418  |  0.13797933  | -0.03201934  | -0.02804576  |\n",
       "\n"
      ],
      "text/plain": [
       "         age         sex         cp          trestbps    chol        fbs       \n",
       "age       1.00000000 -0.09844660 -0.06865302  0.27935091  0.21367796 0.12130765\n",
       "sex      -0.09844660  1.00000000 -0.04935288 -0.05676882 -0.19791217 0.04503179\n",
       "cp       -0.06865302 -0.04935288  1.00000000  0.04760776 -0.07690439 0.09444403\n",
       "trestbps  0.27935091 -0.05676882  0.04760776  1.00000000  0.12317421 0.17753054\n",
       "chol      0.21367796 -0.19791217 -0.07690439  0.12317421  1.00000000 0.01329360\n",
       "fbs       0.12130765  0.04503179  0.09444403  0.17753054  0.01329360 1.00000000\n",
       "         restecg     thalach      exang       oldpeak      slope      \n",
       "age      -0.11621090 -0.398521938  0.09680083  0.210012567 -0.16881424\n",
       "sex      -0.05819627 -0.044019908  0.14166381  0.096092877 -0.03071057\n",
       "cp        0.04442059  0.295762125 -0.39428027 -0.149230158  0.11971659\n",
       "trestbps -0.11410279 -0.046697728  0.06761612  0.193216472 -0.12147458\n",
       "chol     -0.15104008 -0.009939839  0.06702278  0.053951920 -0.00403777\n",
       "fbs      -0.08418905 -0.008567107  0.02566515  0.005747223 -0.05989418\n",
       "         ca          thal        target     \n",
       "age       0.27632624  0.06800138 -0.22543872\n",
       "sex       0.11826141  0.21004110 -0.28093658\n",
       "cp       -0.18105303 -0.16173557  0.43379826\n",
       "trestbps  0.10138899  0.06220989 -0.14493113\n",
       "chol      0.07051093  0.09880299 -0.08523911\n",
       "fbs       0.13797933 -0.03201934 -0.02804576"
      ]
     },
     "metadata": {},
     "output_type": "display_data"
    }
   ],
   "source": [
    "head(corrmatrix<-cor(df)) #상관계수 행렬"
   ]
  },
  {
   "cell_type": "code",
   "execution_count": 8,
   "metadata": {},
   "outputs": [
    {
     "data": {
      "image/png": "[encoded data removed]",
      "text/plain": [
       "Plot with title \"\""
      ]
     },
     "metadata": {},
     "output_type": "display_data"
    }
   ],
   "source": [
    "library(corrplot)\n",
    "corrplot(corrmatrix,method='circle') #상관계수 플롯"
   ]
  },
  {
   "cell_type": "code",
   "execution_count": 9,
   "metadata": {},
   "outputs": [
    {
     "data": {
      "text/plain": [
       "\n",
       "  0   1 \n",
       "138 165 "
      ]
     },
     "metadata": {},
     "output_type": "display_data"
    },
    {
     "data": {
      "image/png": "[encoded data removed]",
      "text/plain": [
       "plot without title"
      ]
     },
     "metadata": {},
     "output_type": "display_data"
    }
   ],
   "source": [
    "(tbl<-table(df$target)) # class 카운트\n",
    "barplot(tbl,beside=T, legend=T, col=rainbow(2)) #카운트플롯"
   ]
  },
  {
   "cell_type": "code",
   "execution_count": 26,
   "metadata": {},
   "outputs": [
    {
     "data": {
      "text/plain": [
       "\n",
       "  0   1 \n",
       "138 138 "
      ]
     },
     "metadata": {},
     "output_type": "display_data"
    }
   ],
   "source": [
    "library(ROSE)\n",
    "#언더샘플링\n",
    "df_samp<-ovun.sample(target ~ . , data=df, seed=1, method='under',\n",
    "                    N=138*2)$data\n",
    "(tbl<-table(df_samp$target))"
   ]
  },
  {
   "cell_type": "code",
   "execution_count": 27,
   "metadata": {},
   "outputs": [],
   "source": [
    "# # 오버 샘플링 - 과적합(overfitting) 문제가 발생할 수 있음\n",
    "# df_samp<-ovun.sample(target ~ . ,data=df, seed=1, method='over',\n",
    "#                     N=165*2)$data\n",
    "# (tbl<-table(df_samp$target))"
   ]
  },
  {
   "cell_type": "code",
   "execution_count": 28,
   "metadata": {},
   "outputs": [],
   "source": [
    "library(caret)\n",
    "set.seed(123) #랜덤시드 고정\n",
    "# 학습용 80%\n",
    "idx_train<-createDataPartition(y=df_samp$target,p=0.8,list=F)\n",
    "train<-df_samp[idx_train,] #학습용\n",
    "X_train<-train[,-14] #독립변수\n",
    "y_train<-train[,14] #종속변수\n",
    "test<-df_samp[-idx_train,] #검증용\n",
    "X_test<-test[,-14]\n",
    "y_test<-test[,14]"
   ]
  },
  {
   "cell_type": "code",
   "execution_count": 29,
   "metadata": {},
   "outputs": [
    {
     "data": {
      "text/plain": [
       "\n",
       "Call:\n",
       "glm(formula = target ~ ., family = binomial, data = train)\n",
       "\n",
       "Deviance Residuals: \n",
       "     Min        1Q    Median        3Q       Max  \n",
       "-2.44735  -0.37559   0.03674   0.53351   2.56803  \n",
       "\n",
       "Coefficients:\n",
       "             Estimate Std. Error z value Pr(>|z|)    \n",
       "(Intercept)  3.157414   2.953043   1.069 0.284976    \n",
       "age          0.010834   0.028112   0.385 0.699947    \n",
       "sex         -2.085126   0.561809  -3.711 0.000206 ***\n",
       "cp           0.814399   0.218286   3.731 0.000191 ***\n",
       "trestbps    -0.016788   0.012565  -1.336 0.181498    \n",
       "chol        -0.007014   0.005071  -1.383 0.166608    \n",
       "fbs          0.231823   0.667297   0.347 0.728286    \n",
       "restecg      0.764065   0.422650   1.808 0.070638 .  \n",
       "thalach      0.025982   0.011643   2.231 0.025648 *  \n",
       "exang       -0.886505   0.507436  -1.747 0.080633 .  \n",
       "oldpeak     -0.750826   0.274325  -2.737 0.006200 ** \n",
       "slope        0.256173   0.430730   0.595 0.552016    \n",
       "ca          -0.780877   0.231041  -3.380 0.000725 ***\n",
       "thal        -0.987573   0.352097  -2.805 0.005034 ** \n",
       "---\n",
       "Signif. codes:  0 '***' 0.001 '**' 0.01 '*' 0.05 '.' 0.1 ' ' 1\n",
       "\n",
       "(Dispersion parameter for binomial family taken to be 1)\n",
       "\n",
       "    Null deviance: 307.76  on 221  degrees of freedom\n",
       "Residual deviance: 148.41  on 208  degrees of freedom\n",
       "AIC: 176.41\n",
       "\n",
       "Number of Fisher Scoring iterations: 6\n"
      ]
     },
     "metadata": {},
     "output_type": "display_data"
    }
   ],
   "source": [
    "model<-glm(target ~. , data=train, family=binomial)\n",
    "summary(model) #로지스틱 회귀분석 모형"
   ]
  },
  {
   "cell_type": "code",
   "execution_count": 30,
   "metadata": {},
   "outputs": [
    {
     "data": {
      "text/html": [
       "<dl class=dl-horizontal>\n",
       "\t<dt>(Intercept)</dt>\n",
       "\t\t<dd>3.15741398598956</dd>\n",
       "\t<dt>age</dt>\n",
       "\t\t<dd>0.0108340596533049</dd>\n",
       "\t<dt>sex</dt>\n",
       "\t\t<dd>-2.08512648604359</dd>\n",
       "\t<dt>cp</dt>\n",
       "\t\t<dd>0.81439903430421</dd>\n",
       "\t<dt>trestbps</dt>\n",
       "\t\t<dd>-0.0167882442095389</dd>\n",
       "\t<dt>chol</dt>\n",
       "\t\t<dd>-0.00701356986666516</dd>\n",
       "\t<dt>fbs</dt>\n",
       "\t\t<dd>0.231823085055799</dd>\n",
       "\t<dt>restecg</dt>\n",
       "\t\t<dd>0.764064816523354</dd>\n",
       "\t<dt>thalach</dt>\n",
       "\t\t<dd>0.0259821160674288</dd>\n",
       "\t<dt>exang</dt>\n",
       "\t\t<dd>-0.886504822428398</dd>\n",
       "\t<dt>oldpeak</dt>\n",
       "\t\t<dd>-0.750826094976331</dd>\n",
       "\t<dt>slope</dt>\n",
       "\t\t<dd>0.256173272003257</dd>\n",
       "\t<dt>ca</dt>\n",
       "\t\t<dd>-0.780876754353915</dd>\n",
       "\t<dt>thal</dt>\n",
       "\t\t<dd>-0.987572730444532</dd>\n",
       "</dl>\n"
      ],
      "text/latex": [
       "\\begin{description*}\n",
       "\\item[(Intercept)] 3.15741398598956\n",
       "\\item[age] 0.0108340596533049\n",
       "\\item[sex] -2.08512648604359\n",
       "\\item[cp] 0.81439903430421\n",
       "\\item[trestbps] -0.0167882442095389\n",
       "\\item[chol] -0.00701356986666516\n",
       "\\item[fbs] 0.231823085055799\n",
       "\\item[restecg] 0.764064816523354\n",
       "\\item[thalach] 0.0259821160674288\n",
       "\\item[exang] -0.886504822428398\n",
       "\\item[oldpeak] -0.750826094976331\n",
       "\\item[slope] 0.256173272003257\n",
       "\\item[ca] -0.780876754353915\n",
       "\\item[thal] -0.987572730444532\n",
       "\\end{description*}\n"
      ],
      "text/markdown": [
       "(Intercept)\n",
       ":   3.15741398598956age\n",
       ":   0.0108340596533049sex\n",
       ":   -2.08512648604359cp\n",
       ":   0.81439903430421trestbps\n",
       ":   -0.0167882442095389chol\n",
       ":   -0.00701356986666516fbs\n",
       ":   0.231823085055799restecg\n",
       ":   0.764064816523354thalach\n",
       ":   0.0259821160674288exang\n",
       ":   -0.886504822428398oldpeak\n",
       ":   -0.750826094976331slope\n",
       ":   0.256173272003257ca\n",
       ":   -0.780876754353915thal\n",
       ":   -0.987572730444532\n",
       "\n"
      ],
      "text/plain": [
       "(Intercept)         age         sex          cp    trestbps        chol \n",
       " 3.15741399  0.01083406 -2.08512649  0.81439903 -0.01678824 -0.00701357 \n",
       "        fbs     restecg     thalach       exang     oldpeak       slope \n",
       " 0.23182309  0.76406482  0.02598212 -0.88650482 -0.75082609  0.25617327 \n",
       "         ca        thal \n",
       "-0.78087675 -0.98757273 "
      ]
     },
     "metadata": {},
     "output_type": "display_data"
    }
   ],
   "source": [
    "coef(model) #회귀계수"
   ]
  },
  {
   "cell_type": "code",
   "execution_count": 31,
   "metadata": {},
   "outputs": [],
   "source": [
    "pred<-predict(model,newdata=X_test,type='response')\n",
    "result<-ifelse(pred>0.5,1,0) #모형이 예측한 결과값 0.5를 기준으로"
   ]
  },
  {
   "cell_type": "code",
   "execution_count": 32,
   "metadata": {},
   "outputs": [
    {
     "data": {
      "text/html": [
       "0.796296296296296"
      ],
      "text/latex": [
       "0.796296296296296"
      ],
      "text/markdown": [
       "0.796296296296296"
      ],
      "text/plain": [
       "[1] 0.7962963"
      ]
     },
     "metadata": {},
     "output_type": "display_data"
    }
   ],
   "source": [
    "mean(y_test == result) #예측정확도\n",
    "#오버샘플링 90.9%\n",
    "#언더샘플링 79.6%"
   ]
  },
  {
   "cell_type": "code",
   "execution_count": 33,
   "metadata": {},
   "outputs": [
    {
     "data": {
      "text/plain": [
       "      result\n",
       "y_test  0  1\n",
       "     0 20  7\n",
       "     1  4 23"
      ]
     },
     "metadata": {},
     "output_type": "display_data"
    }
   ],
   "source": [
    "table(y_test,result) #오분류표(confusion matrix, 혼동행렬)"
   ]
  },
  {
   "cell_type": "code",
   "execution_count": null,
   "metadata": {},
   "outputs": [],
   "source": []
  }
 ],
 "metadata": {
  "kernelspec": {
   "display_name": "R",
   "language": "R",
   "name": "ir"
  },
  "language_info": {
   "codemirror_mode": "r",
   "file_extension": ".r",
   "mimetype": "text/x-r-source",
   "name": "R",
   "pygments_lexer": "r",
   "version": "3.6.1"
  }
 },
 "nbformat": 4,
 "nbformat_minor": 2
}
