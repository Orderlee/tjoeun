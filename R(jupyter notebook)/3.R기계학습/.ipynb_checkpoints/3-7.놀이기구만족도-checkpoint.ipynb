{
 "cells": [
  {
   "cell_type": "code",
   "execution_count": 1,
   "metadata": {},
   "outputs": [
    {
     "data": {
      "text/html": [
       "<table>\n",
       "<thead><tr><th scope=col>weekend</th><th scope=col>num.child</th><th scope=col>distance</th><th scope=col>rides</th><th scope=col>games</th><th scope=col>wait</th><th scope=col>clean</th><th scope=col>overall</th><th scope=col>class</th></tr></thead>\n",
       "<tbody>\n",
       "\t<tr><td>1        </td><td>0        </td><td>114.64826</td><td>87       </td><td>73       </td><td>60       </td><td>89       </td><td>47       </td><td>0        </td></tr>\n",
       "\t<tr><td>1        </td><td>2        </td><td> 27.01410</td><td>87       </td><td>78       </td><td>76       </td><td>87       </td><td>65       </td><td>1        </td></tr>\n",
       "\t<tr><td>0        </td><td>1        </td><td> 63.30098</td><td>85       </td><td>80       </td><td>70       </td><td>88       </td><td>61       </td><td>1        </td></tr>\n",
       "\t<tr><td>1        </td><td>0        </td><td> 25.90993</td><td>88       </td><td>72       </td><td>66       </td><td>89       </td><td>37       </td><td>0        </td></tr>\n",
       "\t<tr><td>0        </td><td>4        </td><td> 54.71831</td><td>84       </td><td>87       </td><td>74       </td><td>87       </td><td>68       </td><td>1        </td></tr>\n",
       "\t<tr><td>0        </td><td>5        </td><td> 22.67934</td><td>81       </td><td>79       </td><td>48       </td><td>79       </td><td>27       </td><td>0        </td></tr>\n",
       "</tbody>\n",
       "</table>\n"
      ],
      "text/latex": [
       "\\begin{tabular}{r|lllllllll}\n",
       " weekend & num.child & distance & rides & games & wait & clean & overall & class\\\\\n",
       "\\hline\n",
       "\t 1         & 0         & 114.64826 & 87        & 73        & 60        & 89        & 47        & 0        \\\\\n",
       "\t 1         & 2         &  27.01410 & 87        & 78        & 76        & 87        & 65        & 1        \\\\\n",
       "\t 0         & 1         &  63.30098 & 85        & 80        & 70        & 88        & 61        & 1        \\\\\n",
       "\t 1         & 0         &  25.90993 & 88        & 72        & 66        & 89        & 37        & 0        \\\\\n",
       "\t 0         & 4         &  54.71831 & 84        & 87        & 74        & 87        & 68        & 1        \\\\\n",
       "\t 0         & 5         &  22.67934 & 81        & 79        & 48        & 79        & 27        & 0        \\\\\n",
       "\\end{tabular}\n"
      ],
      "text/markdown": [
       "\n",
       "| weekend | num.child | distance | rides | games | wait | clean | overall | class |\n",
       "|---|---|---|---|---|---|---|---|---|\n",
       "| 1         | 0         | 114.64826 | 87        | 73        | 60        | 89        | 47        | 0         |\n",
       "| 1         | 2         |  27.01410 | 87        | 78        | 76        | 87        | 65        | 1         |\n",
       "| 0         | 1         |  63.30098 | 85        | 80        | 70        | 88        | 61        | 1         |\n",
       "| 1         | 0         |  25.90993 | 88        | 72        | 66        | 89        | 37        | 0         |\n",
       "| 0         | 4         |  54.71831 | 84        | 87        | 74        | 87        | 68        | 1         |\n",
       "| 0         | 5         |  22.67934 | 81        | 79        | 48        | 79        | 27        | 0         |\n",
       "\n"
      ],
      "text/plain": [
       "  weekend num.child distance  rides games wait clean overall class\n",
       "1 1       0         114.64826 87    73    60   89    47      0    \n",
       "2 1       2          27.01410 87    78    76   87    65      1    \n",
       "3 0       1          63.30098 85    80    70   88    61      1    \n",
       "4 1       0          25.90993 88    72    66   89    37      0    \n",
       "5 0       4          54.71831 84    87    74   87    68      1    \n",
       "6 0       5          22.67934 81    79    48   79    27      0    "
      ]
     },
     "metadata": {},
     "output_type": "display_data"
    }
   ],
   "source": [
    "df<-read.csv('d:/data/rides/rides2.csv')\n",
    "head(df)"
   ]
  },
  {
   "cell_type": "code",
   "execution_count": 2,
   "metadata": {},
   "outputs": [
    {
     "name": "stderr",
     "output_type": "stream",
     "text": [
      "Warning message:\n",
      "\"package 'dplyr' was built under R version 3.6.2\"\n",
      "Attaching package: 'dplyr'\n",
      "\n",
      "The following objects are masked from 'package:stats':\n",
      "\n",
      "    filter, lag\n",
      "\n",
      "The following objects are masked from 'package:base':\n",
      "\n",
      "    intersect, setdiff, setequal, union\n",
      "\n"
     ]
    }
   ],
   "source": [
    "library(dplyr)\n",
    "df <- df %>% select(-overall) #필드제거"
   ]
  },
  {
   "cell_type": "code",
   "execution_count": 3,
   "metadata": {},
   "outputs": [
    {
     "data": {
      "text/html": [
       "<ol class=list-inline>\n",
       "\t<li>500</li>\n",
       "\t<li>8</li>\n",
       "</ol>\n"
      ],
      "text/latex": [
       "\\begin{enumerate*}\n",
       "\\item 500\n",
       "\\item 8\n",
       "\\end{enumerate*}\n"
      ],
      "text/markdown": [
       "1. 500\n",
       "2. 8\n",
       "\n",
       "\n"
      ],
      "text/plain": [
       "[1] 500   8"
      ]
     },
     "metadata": {},
     "output_type": "display_data"
    },
    {
     "data": {
      "text/plain": [
       "    weekend        num.child        distance            rides       \n",
       " Min.   :0.000   Min.   :0.000   Min.   :  0.5267   Min.   : 72.00  \n",
       " 1st Qu.:0.000   1st Qu.:0.000   1st Qu.: 10.3181   1st Qu.: 82.00  \n",
       " Median :0.000   Median :2.000   Median : 19.0191   Median : 86.00  \n",
       " Mean   :0.482   Mean   :1.738   Mean   : 31.0475   Mean   : 85.85  \n",
       " 3rd Qu.:1.000   3rd Qu.:3.000   3rd Qu.: 39.5821   3rd Qu.: 90.00  \n",
       " Max.   :1.000   Max.   :5.000   Max.   :239.1921   Max.   :100.00  \n",
       "     games             wait           clean           class      \n",
       " Min.   : 57.00   Min.   : 40.0   Min.   : 74.0   Min.   :0.000  \n",
       " 1st Qu.: 73.00   1st Qu.: 62.0   1st Qu.: 84.0   1st Qu.:0.000  \n",
       " Median : 78.00   Median : 70.0   Median : 88.0   Median :0.000  \n",
       " Mean   : 78.67   Mean   : 69.9   Mean   : 87.9   Mean   :0.476  \n",
       " 3rd Qu.: 85.00   3rd Qu.: 77.0   3rd Qu.: 91.0   3rd Qu.:1.000  \n",
       " Max.   :100.00   Max.   :100.0   Max.   :100.0   Max.   :1.000  "
      ]
     },
     "metadata": {},
     "output_type": "display_data"
    }
   ],
   "source": [
    "dim(df) #데이터의 차원\n",
    "summary(df) #기초통계량"
   ]
  },
  {
   "cell_type": "code",
   "execution_count": 4,
   "metadata": {},
   "outputs": [],
   "source": [
    "corrmatrix<-cor(df) #상관계수 행렬"
   ]
  },
  {
   "cell_type": "code",
   "execution_count": 7,
   "metadata": {},
   "outputs": [
    {
     "data": {
      "image/png": "[encoded data removed]",
      "text/plain": [
       "Plot with title \"\""
      ]
     },
     "metadata": {},
     "output_type": "display_data"
    }
   ],
   "source": [
    "library(corrplot)\n",
    "corrplot(cor(df),method='circle') #상관계수 플로팅"
   ]
  },
  {
   "cell_type": "code",
   "execution_count": 8,
   "metadata": {},
   "outputs": [
    {
     "data": {
      "text/plain": [
       "\n",
       "  0   1 \n",
       "262 238 "
      ]
     },
     "metadata": {},
     "output_type": "display_data"
    },
    {
     "data": {
      "image/png": "[encoded data removed]",
      "text/plain": [
       "plot without title"
      ]
     },
     "metadata": {},
     "output_type": "display_data"
    }
   ],
   "source": [
    "tbl<-table(df$class)\n",
    "tbl\n",
    "barplot(tbl,beside=T,legend=T,col=rainbow(2)) #카운트 플롯"
   ]
  },
  {
   "cell_type": "code",
   "execution_count": 13,
   "metadata": {},
   "outputs": [
    {
     "data": {
      "text/plain": [
       "\n",
       "  0   1 \n",
       "238 238 "
      ]
     },
     "metadata": {},
     "output_type": "display_data"
    }
   ],
   "source": [
    "library(ROSE)\n",
    "df_samp<-ovun.sample(class ~. , data=df, seed=1, method='under',\n",
    "                    N=238*2)$data # 0 238, 1 238 언더샘플링\n",
    "tbl<-table(df_samp$class) \n",
    "tbl"
   ]
  },
  {
   "cell_type": "code",
   "execution_count": 14,
   "metadata": {},
   "outputs": [],
   "source": [
    "library(caret)\n",
    "set.seed(123) #랜덤시드 고정\n",
    "#학습용 80%\n",
    "idx_train<-createDataPartition(y=df_samp$class,p=0.8,list=F) #학습용 80%, 검증용 20%\n",
    "train<-df_samp[idx_train,] #학습용\n",
    "X_train<-train[,-8] #독립변수\n",
    "y_train<-train[,8] #종속변수\n",
    "test<-df_samp[-idx_train,] #검증용\n",
    "X_test<-test[,-8]\n",
    "y_test<-test[,8]"
   ]
  },
  {
   "cell_type": "code",
   "execution_count": 15,
   "metadata": {},
   "outputs": [
    {
     "data": {
      "text/plain": [
       "\n",
       "Call:\n",
       "glm(formula = class ~ ., family = binomial, data = train)\n",
       "\n",
       "Deviance Residuals: \n",
       "     Min        1Q    Median        3Q       Max  \n",
       "-2.38665  -0.63683   0.00288   0.62703   2.30608  \n",
       "\n",
       "Coefficients:\n",
       "             Estimate Std. Error z value Pr(>|z|)    \n",
       "(Intercept) -34.03513    3.83581  -8.873  < 2e-16 ***\n",
       "weekend      -0.04998    0.28488  -0.175  0.86075    \n",
       "num.child     0.83261    0.11386   7.313 2.62e-13 ***\n",
       "distance      0.01009    0.00470   2.146  0.03189 *  \n",
       "rides         0.13076    0.04334   3.017  0.00255 ** \n",
       "games         0.02499    0.02065   1.211  0.22607    \n",
       "wait          0.10080    0.01686   5.978 2.26e-09 ***\n",
       "clean         0.13662    0.05118   2.669  0.00760 ** \n",
       "---\n",
       "Signif. codes:  0 '***' 0.001 '**' 0.01 '*' 0.05 '.' 0.1 ' ' 1\n",
       "\n",
       "(Dispersion parameter for binomial family taken to be 1)\n",
       "\n",
       "    Null deviance: 529.56  on 381  degrees of freedom\n",
       "Residual deviance: 313.69  on 374  degrees of freedom\n",
       "AIC: 329.69\n",
       "\n",
       "Number of Fisher Scoring iterations: 5\n"
      ]
     },
     "metadata": {},
     "output_type": "display_data"
    }
   ],
   "source": [
    "model<-glm(class ~. , data=train, family=binomial) #로지스틱 회귀분석 모형\n",
    "summary(model)"
   ]
  },
  {
   "cell_type": "code",
   "execution_count": 16,
   "metadata": {},
   "outputs": [
    {
     "data": {
      "text/html": [
       "<dl class=dl-horizontal>\n",
       "\t<dt>(Intercept)</dt>\n",
       "\t\t<dd>-34.0351274173021</dd>\n",
       "\t<dt>weekend</dt>\n",
       "\t\t<dd>-0.0499756022957289</dd>\n",
       "\t<dt>num.child</dt>\n",
       "\t\t<dd>0.83261483000552</dd>\n",
       "\t<dt>distance</dt>\n",
       "\t\t<dd>0.0100846792708445</dd>\n",
       "\t<dt>rides</dt>\n",
       "\t\t<dd>0.130760707910654</dd>\n",
       "\t<dt>games</dt>\n",
       "\t\t<dd>0.0249945985126677</dd>\n",
       "\t<dt>wait</dt>\n",
       "\t\t<dd>0.1007967393879</dd>\n",
       "\t<dt>clean</dt>\n",
       "\t\t<dd>0.136615725330484</dd>\n",
       "</dl>\n"
      ],
      "text/latex": [
       "\\begin{description*}\n",
       "\\item[(Intercept)] -34.0351274173021\n",
       "\\item[weekend] -0.0499756022957289\n",
       "\\item[num.child] 0.83261483000552\n",
       "\\item[distance] 0.0100846792708445\n",
       "\\item[rides] 0.130760707910654\n",
       "\\item[games] 0.0249945985126677\n",
       "\\item[wait] 0.1007967393879\n",
       "\\item[clean] 0.136615725330484\n",
       "\\end{description*}\n"
      ],
      "text/markdown": [
       "(Intercept)\n",
       ":   -34.0351274173021weekend\n",
       ":   -0.0499756022957289num.child\n",
       ":   0.83261483000552distance\n",
       ":   0.0100846792708445rides\n",
       ":   0.130760707910654games\n",
       ":   0.0249945985126677wait\n",
       ":   0.1007967393879clean\n",
       ":   0.136615725330484\n",
       "\n"
      ],
      "text/plain": [
       " (Intercept)      weekend    num.child     distance        rides        games \n",
       "-34.03512742  -0.04997560   0.83261483   0.01008468   0.13076071   0.02499460 \n",
       "        wait        clean \n",
       "  0.10079674   0.13661573 "
      ]
     },
     "metadata": {},
     "output_type": "display_data"
    }
   ],
   "source": [
    "(coef1<-coef(model)) #상관계수"
   ]
  },
  {
   "cell_type": "code",
   "execution_count": 21,
   "metadata": {},
   "outputs": [],
   "source": [
    "pred<-predict(model,newdata=X_test,type='response')\n",
    "result<-ifelse(pred>0.5,1,0) #0.5보다 크면 1, 아니면 0"
   ]
  },
  {
   "cell_type": "code",
   "execution_count": 26,
   "metadata": {},
   "outputs": [
    {
     "data": {
      "text/html": [
       "<dl class=dl-horizontal>\n",
       "\t<dt>2</dt>\n",
       "\t\t<dd>TRUE</dd>\n",
       "\t<dt>3</dt>\n",
       "\t\t<dd>FALSE</dd>\n",
       "\t<dt>12</dt>\n",
       "\t\t<dd>FALSE</dd>\n",
       "\t<dt>15</dt>\n",
       "\t\t<dd>FALSE</dd>\n",
       "\t<dt>19</dt>\n",
       "\t\t<dd>FALSE</dd>\n",
       "\t<dt>28</dt>\n",
       "\t\t<dd>TRUE</dd>\n",
       "\t<dt>29</dt>\n",
       "\t\t<dd>TRUE</dd>\n",
       "\t<dt>31</dt>\n",
       "\t\t<dd>TRUE</dd>\n",
       "\t<dt>37</dt>\n",
       "\t\t<dd>TRUE</dd>\n",
       "\t<dt>47</dt>\n",
       "\t\t<dd>TRUE</dd>\n",
       "\t<dt>58</dt>\n",
       "\t\t<dd>FALSE</dd>\n",
       "\t<dt>62</dt>\n",
       "\t\t<dd>TRUE</dd>\n",
       "\t<dt>65</dt>\n",
       "\t\t<dd>TRUE</dd>\n",
       "\t<dt>80</dt>\n",
       "\t\t<dd>TRUE</dd>\n",
       "\t<dt>84</dt>\n",
       "\t\t<dd>TRUE</dd>\n",
       "\t<dt>95</dt>\n",
       "\t\t<dd>TRUE</dd>\n",
       "\t<dt>104</dt>\n",
       "\t\t<dd>TRUE</dd>\n",
       "\t<dt>114</dt>\n",
       "\t\t<dd>FALSE</dd>\n",
       "\t<dt>123</dt>\n",
       "\t\t<dd>TRUE</dd>\n",
       "\t<dt>124</dt>\n",
       "\t\t<dd>TRUE</dd>\n",
       "\t<dt>131</dt>\n",
       "\t\t<dd>TRUE</dd>\n",
       "\t<dt>147</dt>\n",
       "\t\t<dd>TRUE</dd>\n",
       "\t<dt>150</dt>\n",
       "\t\t<dd>TRUE</dd>\n",
       "\t<dt>154</dt>\n",
       "\t\t<dd>TRUE</dd>\n",
       "\t<dt>161</dt>\n",
       "\t\t<dd>TRUE</dd>\n",
       "\t<dt>162</dt>\n",
       "\t\t<dd>TRUE</dd>\n",
       "\t<dt>163</dt>\n",
       "\t\t<dd>TRUE</dd>\n",
       "\t<dt>165</dt>\n",
       "\t\t<dd>TRUE</dd>\n",
       "\t<dt>171</dt>\n",
       "\t\t<dd>TRUE</dd>\n",
       "\t<dt>173</dt>\n",
       "\t\t<dd>TRUE</dd>\n",
       "\t<dt>177</dt>\n",
       "\t\t<dd>TRUE</dd>\n",
       "\t<dt>178</dt>\n",
       "\t\t<dd>TRUE</dd>\n",
       "\t<dt>180</dt>\n",
       "\t\t<dd>TRUE</dd>\n",
       "\t<dt>182</dt>\n",
       "\t\t<dd>TRUE</dd>\n",
       "\t<dt>186</dt>\n",
       "\t\t<dd>FALSE</dd>\n",
       "\t<dt>187</dt>\n",
       "\t\t<dd>FALSE</dd>\n",
       "\t<dt>193</dt>\n",
       "\t\t<dd>TRUE</dd>\n",
       "\t<dt>199</dt>\n",
       "\t\t<dd>TRUE</dd>\n",
       "\t<dt>202</dt>\n",
       "\t\t<dd>TRUE</dd>\n",
       "\t<dt>204</dt>\n",
       "\t\t<dd>TRUE</dd>\n",
       "\t<dt>208</dt>\n",
       "\t\t<dd>TRUE</dd>\n",
       "\t<dt>209</dt>\n",
       "\t\t<dd>TRUE</dd>\n",
       "\t<dt>210</dt>\n",
       "\t\t<dd>FALSE</dd>\n",
       "\t<dt>212</dt>\n",
       "\t\t<dd>TRUE</dd>\n",
       "\t<dt>218</dt>\n",
       "\t\t<dd>FALSE</dd>\n",
       "\t<dt>220</dt>\n",
       "\t\t<dd>TRUE</dd>\n",
       "\t<dt>221</dt>\n",
       "\t\t<dd>TRUE</dd>\n",
       "\t<dt>239</dt>\n",
       "\t\t<dd>TRUE</dd>\n",
       "\t<dt>243</dt>\n",
       "\t\t<dd>TRUE</dd>\n",
       "\t<dt>247</dt>\n",
       "\t\t<dd>TRUE</dd>\n",
       "\t<dt>255</dt>\n",
       "\t\t<dd>TRUE</dd>\n",
       "\t<dt>270</dt>\n",
       "\t\t<dd>TRUE</dd>\n",
       "\t<dt>272</dt>\n",
       "\t\t<dd>TRUE</dd>\n",
       "\t<dt>275</dt>\n",
       "\t\t<dd>TRUE</dd>\n",
       "\t<dt>276</dt>\n",
       "\t\t<dd>TRUE</dd>\n",
       "\t<dt>296</dt>\n",
       "\t\t<dd>TRUE</dd>\n",
       "\t<dt>298</dt>\n",
       "\t\t<dd>TRUE</dd>\n",
       "\t<dt>303</dt>\n",
       "\t\t<dd>TRUE</dd>\n",
       "\t<dt>306</dt>\n",
       "\t\t<dd>TRUE</dd>\n",
       "\t<dt>308</dt>\n",
       "\t\t<dd>FALSE</dd>\n",
       "\t<dt>309</dt>\n",
       "\t\t<dd>TRUE</dd>\n",
       "\t<dt>310</dt>\n",
       "\t\t<dd>TRUE</dd>\n",
       "\t<dt>313</dt>\n",
       "\t\t<dd>TRUE</dd>\n",
       "\t<dt>324</dt>\n",
       "\t\t<dd>TRUE</dd>\n",
       "\t<dt>335</dt>\n",
       "\t\t<dd>TRUE</dd>\n",
       "\t<dt>337</dt>\n",
       "\t\t<dd>TRUE</dd>\n",
       "\t<dt>338</dt>\n",
       "\t\t<dd>FALSE</dd>\n",
       "\t<dt>341</dt>\n",
       "\t\t<dd>TRUE</dd>\n",
       "\t<dt>347</dt>\n",
       "\t\t<dd>TRUE</dd>\n",
       "\t<dt>358</dt>\n",
       "\t\t<dd>TRUE</dd>\n",
       "\t<dt>362</dt>\n",
       "\t\t<dd>TRUE</dd>\n",
       "\t<dt>365</dt>\n",
       "\t\t<dd>TRUE</dd>\n",
       "\t<dt>369</dt>\n",
       "\t\t<dd>FALSE</dd>\n",
       "\t<dt>370</dt>\n",
       "\t\t<dd>TRUE</dd>\n",
       "\t<dt>382</dt>\n",
       "\t\t<dd>TRUE</dd>\n",
       "\t<dt>409</dt>\n",
       "\t\t<dd>TRUE</dd>\n",
       "\t<dt>414</dt>\n",
       "\t\t<dd>TRUE</dd>\n",
       "\t<dt>415</dt>\n",
       "\t\t<dd>FALSE</dd>\n",
       "\t<dt>416</dt>\n",
       "\t\t<dd>TRUE</dd>\n",
       "\t<dt>417</dt>\n",
       "\t\t<dd>TRUE</dd>\n",
       "\t<dt>421</dt>\n",
       "\t\t<dd>TRUE</dd>\n",
       "\t<dt>425</dt>\n",
       "\t\t<dd>TRUE</dd>\n",
       "\t<dt>433</dt>\n",
       "\t\t<dd>TRUE</dd>\n",
       "\t<dt>434</dt>\n",
       "\t\t<dd>TRUE</dd>\n",
       "\t<dt>435</dt>\n",
       "\t\t<dd>TRUE</dd>\n",
       "\t<dt>436</dt>\n",
       "\t\t<dd>TRUE</dd>\n",
       "\t<dt>438</dt>\n",
       "\t\t<dd>TRUE</dd>\n",
       "\t<dt>447</dt>\n",
       "\t\t<dd>FALSE</dd>\n",
       "\t<dt>449</dt>\n",
       "\t\t<dd>TRUE</dd>\n",
       "\t<dt>456</dt>\n",
       "\t\t<dd>TRUE</dd>\n",
       "\t<dt>457</dt>\n",
       "\t\t<dd>TRUE</dd>\n",
       "\t<dt>461</dt>\n",
       "\t\t<dd>TRUE</dd>\n",
       "\t<dt>466</dt>\n",
       "\t\t<dd>TRUE</dd>\n",
       "\t<dt>469</dt>\n",
       "\t\t<dd>FALSE</dd>\n",
       "</dl>\n"
      ],
      "text/latex": [
       "\\begin{description*}\n",
       "\\item[2] TRUE\n",
       "\\item[3] FALSE\n",
       "\\item[12] FALSE\n",
       "\\item[15] FALSE\n",
       "\\item[19] FALSE\n",
       "\\item[28] TRUE\n",
       "\\item[29] TRUE\n",
       "\\item[31] TRUE\n",
       "\\item[37] TRUE\n",
       "\\item[47] TRUE\n",
       "\\item[58] FALSE\n",
       "\\item[62] TRUE\n",
       "\\item[65] TRUE\n",
       "\\item[80] TRUE\n",
       "\\item[84] TRUE\n",
       "\\item[95] TRUE\n",
       "\\item[104] TRUE\n",
       "\\item[114] FALSE\n",
       "\\item[123] TRUE\n",
       "\\item[124] TRUE\n",
       "\\item[131] TRUE\n",
       "\\item[147] TRUE\n",
       "\\item[150] TRUE\n",
       "\\item[154] TRUE\n",
       "\\item[161] TRUE\n",
       "\\item[162] TRUE\n",
       "\\item[163] TRUE\n",
       "\\item[165] TRUE\n",
       "\\item[171] TRUE\n",
       "\\item[173] TRUE\n",
       "\\item[177] TRUE\n",
       "\\item[178] TRUE\n",
       "\\item[180] TRUE\n",
       "\\item[182] TRUE\n",
       "\\item[186] FALSE\n",
       "\\item[187] FALSE\n",
       "\\item[193] TRUE\n",
       "\\item[199] TRUE\n",
       "\\item[202] TRUE\n",
       "\\item[204] TRUE\n",
       "\\item[208] TRUE\n",
       "\\item[209] TRUE\n",
       "\\item[210] FALSE\n",
       "\\item[212] TRUE\n",
       "\\item[218] FALSE\n",
       "\\item[220] TRUE\n",
       "\\item[221] TRUE\n",
       "\\item[239] TRUE\n",
       "\\item[243] TRUE\n",
       "\\item[247] TRUE\n",
       "\\item[255] TRUE\n",
       "\\item[270] TRUE\n",
       "\\item[272] TRUE\n",
       "\\item[275] TRUE\n",
       "\\item[276] TRUE\n",
       "\\item[296] TRUE\n",
       "\\item[298] TRUE\n",
       "\\item[303] TRUE\n",
       "\\item[306] TRUE\n",
       "\\item[308] FALSE\n",
       "\\item[309] TRUE\n",
       "\\item[310] TRUE\n",
       "\\item[313] TRUE\n",
       "\\item[324] TRUE\n",
       "\\item[335] TRUE\n",
       "\\item[337] TRUE\n",
       "\\item[338] FALSE\n",
       "\\item[341] TRUE\n",
       "\\item[347] TRUE\n",
       "\\item[358] TRUE\n",
       "\\item[362] TRUE\n",
       "\\item[365] TRUE\n",
       "\\item[369] FALSE\n",
       "\\item[370] TRUE\n",
       "\\item[382] TRUE\n",
       "\\item[409] TRUE\n",
       "\\item[414] TRUE\n",
       "\\item[415] FALSE\n",
       "\\item[416] TRUE\n",
       "\\item[417] TRUE\n",
       "\\item[421] TRUE\n",
       "\\item[425] TRUE\n",
       "\\item[433] TRUE\n",
       "\\item[434] TRUE\n",
       "\\item[435] TRUE\n",
       "\\item[436] TRUE\n",
       "\\item[438] TRUE\n",
       "\\item[447] FALSE\n",
       "\\item[449] TRUE\n",
       "\\item[456] TRUE\n",
       "\\item[457] TRUE\n",
       "\\item[461] TRUE\n",
       "\\item[466] TRUE\n",
       "\\item[469] FALSE\n",
       "\\end{description*}\n"
      ],
      "text/markdown": [
       "2\n",
       ":   TRUE3\n",
       ":   FALSE12\n",
       ":   FALSE15\n",
       ":   FALSE19\n",
       ":   FALSE28\n",
       ":   TRUE29\n",
       ":   TRUE31\n",
       ":   TRUE37\n",
       ":   TRUE47\n",
       ":   TRUE58\n",
       ":   FALSE62\n",
       ":   TRUE65\n",
       ":   TRUE80\n",
       ":   TRUE84\n",
       ":   TRUE95\n",
       ":   TRUE104\n",
       ":   TRUE114\n",
       ":   FALSE123\n",
       ":   TRUE124\n",
       ":   TRUE131\n",
       ":   TRUE147\n",
       ":   TRUE150\n",
       ":   TRUE154\n",
       ":   TRUE161\n",
       ":   TRUE162\n",
       ":   TRUE163\n",
       ":   TRUE165\n",
       ":   TRUE171\n",
       ":   TRUE173\n",
       ":   TRUE177\n",
       ":   TRUE178\n",
       ":   TRUE180\n",
       ":   TRUE182\n",
       ":   TRUE186\n",
       ":   FALSE187\n",
       ":   FALSE193\n",
       ":   TRUE199\n",
       ":   TRUE202\n",
       ":   TRUE204\n",
       ":   TRUE208\n",
       ":   TRUE209\n",
       ":   TRUE210\n",
       ":   FALSE212\n",
       ":   TRUE218\n",
       ":   FALSE220\n",
       ":   TRUE221\n",
       ":   TRUE239\n",
       ":   TRUE243\n",
       ":   TRUE247\n",
       ":   TRUE255\n",
       ":   TRUE270\n",
       ":   TRUE272\n",
       ":   TRUE275\n",
       ":   TRUE276\n",
       ":   TRUE296\n",
       ":   TRUE298\n",
       ":   TRUE303\n",
       ":   TRUE306\n",
       ":   TRUE308\n",
       ":   FALSE309\n",
       ":   TRUE310\n",
       ":   TRUE313\n",
       ":   TRUE324\n",
       ":   TRUE335\n",
       ":   TRUE337\n",
       ":   TRUE338\n",
       ":   FALSE341\n",
       ":   TRUE347\n",
       ":   TRUE358\n",
       ":   TRUE362\n",
       ":   TRUE365\n",
       ":   TRUE369\n",
       ":   FALSE370\n",
       ":   TRUE382\n",
       ":   TRUE409\n",
       ":   TRUE414\n",
       ":   TRUE415\n",
       ":   FALSE416\n",
       ":   TRUE417\n",
       ":   TRUE421\n",
       ":   TRUE425\n",
       ":   TRUE433\n",
       ":   TRUE434\n",
       ":   TRUE435\n",
       ":   TRUE436\n",
       ":   TRUE438\n",
       ":   TRUE447\n",
       ":   FALSE449\n",
       ":   TRUE456\n",
       ":   TRUE457\n",
       ":   TRUE461\n",
       ":   TRUE466\n",
       ":   TRUE469\n",
       ":   FALSE\n",
       "\n"
      ],
      "text/plain": [
       "    2     3    12    15    19    28    29    31    37    47    58    62    65 \n",
       " TRUE FALSE FALSE FALSE FALSE  TRUE  TRUE  TRUE  TRUE  TRUE FALSE  TRUE  TRUE \n",
       "   80    84    95   104   114   123   124   131   147   150   154   161   162 \n",
       " TRUE  TRUE  TRUE  TRUE FALSE  TRUE  TRUE  TRUE  TRUE  TRUE  TRUE  TRUE  TRUE \n",
       "  163   165   171   173   177   178   180   182   186   187   193   199   202 \n",
       " TRUE  TRUE  TRUE  TRUE  TRUE  TRUE  TRUE  TRUE FALSE FALSE  TRUE  TRUE  TRUE \n",
       "  204   208   209   210   212   218   220   221   239   243   247   255   270 \n",
       " TRUE  TRUE  TRUE FALSE  TRUE FALSE  TRUE  TRUE  TRUE  TRUE  TRUE  TRUE  TRUE \n",
       "  272   275   276   296   298   303   306   308   309   310   313   324   335 \n",
       " TRUE  TRUE  TRUE  TRUE  TRUE  TRUE  TRUE FALSE  TRUE  TRUE  TRUE  TRUE  TRUE \n",
       "  337   338   341   347   358   362   365   369   370   382   409   414   415 \n",
       " TRUE FALSE  TRUE  TRUE  TRUE  TRUE  TRUE FALSE  TRUE  TRUE  TRUE  TRUE FALSE \n",
       "  416   417   421   425   433   434   435   436   438   447   449   456   457 \n",
       " TRUE  TRUE  TRUE  TRUE  TRUE  TRUE  TRUE  TRUE  TRUE FALSE  TRUE  TRUE  TRUE \n",
       "  461   466   469 \n",
       " TRUE  TRUE FALSE "
      ]
     },
     "metadata": {},
     "output_type": "display_data"
    }
   ],
   "source": [
    "y_test == result"
   ]
  },
  {
   "cell_type": "code",
   "execution_count": 22,
   "metadata": {},
   "outputs": [
    {
     "data": {
      "text/html": [
       "0.829787234042553"
      ],
      "text/latex": [
       "0.829787234042553"
      ],
      "text/markdown": [
       "0.829787234042553"
      ],
      "text/plain": [
       "[1] 0.8297872"
      ]
     },
     "metadata": {},
     "output_type": "display_data"
    }
   ],
   "source": [
    "mean(y_test == result) #모형의 예측 정확도"
   ]
  },
  {
   "cell_type": "code",
   "execution_count": 24,
   "metadata": {
    "scrolled": false
   },
   "outputs": [
    {
     "data": {
      "text/plain": [
       "      result\n",
       "y_test  0  1\n",
       "     0 37 10\n",
       "     1  6 41"
      ]
     },
     "metadata": {},
     "output_type": "display_data"
    }
   ],
   "source": [
    "table(y_test,result) #오분류표"
   ]
  },
  {
   "cell_type": "code",
   "execution_count": null,
   "metadata": {},
   "outputs": [],
   "source": []
  }
 ],
 "metadata": {
  "kernelspec": {
   "display_name": "R",
   "language": "R",
   "name": "ir"
  },
  "language_info": {
   "codemirror_mode": "r",
   "file_extension": ".r",
   "mimetype": "text/x-r-source",
   "name": "R",
   "pygments_lexer": "r",
   "version": "3.6.1"
  }
 },
 "nbformat": 4,
 "nbformat_minor": 2
}
