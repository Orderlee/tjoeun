{
 "cells": [
  {
   "cell_type": "code",
   "execution_count": 72,
   "metadata": {},
   "outputs": [
    {
     "data": {
      "text/html": [
       "<table>\n",
       "<thead><tr><th scope=col>V1</th><th scope=col>V2</th><th scope=col>V3</th><th scope=col>V4</th><th scope=col>V5</th><th scope=col>V6</th><th scope=col>V7</th><th scope=col>V8</th><th scope=col>V9</th></tr></thead>\n",
       "<tbody>\n",
       "\t<tr><td>6    </td><td>148  </td><td>72   </td><td>35   </td><td>  0  </td><td>33.6 </td><td>0.627</td><td>50   </td><td>1    </td></tr>\n",
       "\t<tr><td>1    </td><td> 85  </td><td>66   </td><td>29   </td><td>  0  </td><td>26.6 </td><td>0.351</td><td>31   </td><td>0    </td></tr>\n",
       "\t<tr><td>8    </td><td>183  </td><td>64   </td><td> 0   </td><td>  0  </td><td>23.3 </td><td>0.672</td><td>32   </td><td>1    </td></tr>\n",
       "\t<tr><td>1    </td><td> 89  </td><td>66   </td><td>23   </td><td> 94  </td><td>28.1 </td><td>0.167</td><td>21   </td><td>0    </td></tr>\n",
       "\t<tr><td>0    </td><td>137  </td><td>40   </td><td>35   </td><td>168  </td><td>43.1 </td><td>2.288</td><td>33   </td><td>1    </td></tr>\n",
       "\t<tr><td>5    </td><td>116  </td><td>74   </td><td> 0   </td><td>  0  </td><td>25.6 </td><td>0.201</td><td>30   </td><td>0    </td></tr>\n",
       "</tbody>\n",
       "</table>\n"
      ],
      "text/latex": [
       "\\begin{tabular}{r|lllllllll}\n",
       " V1 & V2 & V3 & V4 & V5 & V6 & V7 & V8 & V9\\\\\n",
       "\\hline\n",
       "\t 6     & 148   & 72    & 35    &   0   & 33.6  & 0.627 & 50    & 1    \\\\\n",
       "\t 1     &  85   & 66    & 29    &   0   & 26.6  & 0.351 & 31    & 0    \\\\\n",
       "\t 8     & 183   & 64    &  0    &   0   & 23.3  & 0.672 & 32    & 1    \\\\\n",
       "\t 1     &  89   & 66    & 23    &  94   & 28.1  & 0.167 & 21    & 0    \\\\\n",
       "\t 0     & 137   & 40    & 35    & 168   & 43.1  & 2.288 & 33    & 1    \\\\\n",
       "\t 5     & 116   & 74    &  0    &   0   & 25.6  & 0.201 & 30    & 0    \\\\\n",
       "\\end{tabular}\n"
      ],
      "text/markdown": [
       "\n",
       "| V1 | V2 | V3 | V4 | V5 | V6 | V7 | V8 | V9 |\n",
       "|---|---|---|---|---|---|---|---|---|\n",
       "| 6     | 148   | 72    | 35    |   0   | 33.6  | 0.627 | 50    | 1     |\n",
       "| 1     |  85   | 66    | 29    |   0   | 26.6  | 0.351 | 31    | 0     |\n",
       "| 8     | 183   | 64    |  0    |   0   | 23.3  | 0.672 | 32    | 1     |\n",
       "| 1     |  89   | 66    | 23    |  94   | 28.1  | 0.167 | 21    | 0     |\n",
       "| 0     | 137   | 40    | 35    | 168   | 43.1  | 2.288 | 33    | 1     |\n",
       "| 5     | 116   | 74    |  0    |   0   | 25.6  | 0.201 | 30    | 0     |\n",
       "\n"
      ],
      "text/plain": [
       "  V1 V2  V3 V4 V5  V6   V7    V8 V9\n",
       "1 6  148 72 35   0 33.6 0.627 50 1 \n",
       "2 1   85 66 29   0 26.6 0.351 31 0 \n",
       "3 8  183 64  0   0 23.3 0.672 32 1 \n",
       "4 1   89 66 23  94 28.1 0.167 21 0 \n",
       "5 0  137 40 35 168 43.1 2.288 33 1 \n",
       "6 5  116 74  0   0 25.6 0.201 30 0 "
      ]
     },
     "metadata": {},
     "output_type": "display_data"
    }
   ],
   "source": [
    "#header=F 첫행이 헤더가 아님\n",
    "df<-read.csv('d:/data/pima/data.csv',header=F)\n",
    "head(df)"
   ]
  },
  {
   "cell_type": "code",
   "execution_count": 73,
   "metadata": {},
   "outputs": [
    {
     "data": {
      "text/html": [
       "<table>\n",
       "<thead><tr><th scope=col>pregnancies</th><th scope=col>glucose</th><th scope=col>blood_pressure</th><th scope=col>skin_thickness</th><th scope=col>insulin</th><th scope=col>bmi</th><th scope=col>Diabetes_Pedigree_Function</th><th scope=col>age</th><th scope=col>outcome</th></tr></thead>\n",
       "<tbody>\n",
       "\t<tr><td>6    </td><td>148  </td><td>72   </td><td>35   </td><td>  0  </td><td>33.6 </td><td>0.627</td><td>50   </td><td>1    </td></tr>\n",
       "\t<tr><td>1    </td><td> 85  </td><td>66   </td><td>29   </td><td>  0  </td><td>26.6 </td><td>0.351</td><td>31   </td><td>0    </td></tr>\n",
       "\t<tr><td>8    </td><td>183  </td><td>64   </td><td> 0   </td><td>  0  </td><td>23.3 </td><td>0.672</td><td>32   </td><td>1    </td></tr>\n",
       "\t<tr><td>1    </td><td> 89  </td><td>66   </td><td>23   </td><td> 94  </td><td>28.1 </td><td>0.167</td><td>21   </td><td>0    </td></tr>\n",
       "\t<tr><td>0    </td><td>137  </td><td>40   </td><td>35   </td><td>168  </td><td>43.1 </td><td>2.288</td><td>33   </td><td>1    </td></tr>\n",
       "\t<tr><td>5    </td><td>116  </td><td>74   </td><td> 0   </td><td>  0  </td><td>25.6 </td><td>0.201</td><td>30   </td><td>0    </td></tr>\n",
       "</tbody>\n",
       "</table>\n"
      ],
      "text/latex": [
       "\\begin{tabular}{r|lllllllll}\n",
       " pregnancies & glucose & blood\\_pressure & skin\\_thickness & insulin & bmi & Diabetes\\_Pedigree\\_Function & age & outcome\\\\\n",
       "\\hline\n",
       "\t 6     & 148   & 72    & 35    &   0   & 33.6  & 0.627 & 50    & 1    \\\\\n",
       "\t 1     &  85   & 66    & 29    &   0   & 26.6  & 0.351 & 31    & 0    \\\\\n",
       "\t 8     & 183   & 64    &  0    &   0   & 23.3  & 0.672 & 32    & 1    \\\\\n",
       "\t 1     &  89   & 66    & 23    &  94   & 28.1  & 0.167 & 21    & 0    \\\\\n",
       "\t 0     & 137   & 40    & 35    & 168   & 43.1  & 2.288 & 33    & 1    \\\\\n",
       "\t 5     & 116   & 74    &  0    &   0   & 25.6  & 0.201 & 30    & 0    \\\\\n",
       "\\end{tabular}\n"
      ],
      "text/markdown": [
       "\n",
       "| pregnancies | glucose | blood_pressure | skin_thickness | insulin | bmi | Diabetes_Pedigree_Function | age | outcome |\n",
       "|---|---|---|---|---|---|---|---|---|\n",
       "| 6     | 148   | 72    | 35    |   0   | 33.6  | 0.627 | 50    | 1     |\n",
       "| 1     |  85   | 66    | 29    |   0   | 26.6  | 0.351 | 31    | 0     |\n",
       "| 8     | 183   | 64    |  0    |   0   | 23.3  | 0.672 | 32    | 1     |\n",
       "| 1     |  89   | 66    | 23    |  94   | 28.1  | 0.167 | 21    | 0     |\n",
       "| 0     | 137   | 40    | 35    | 168   | 43.1  | 2.288 | 33    | 1     |\n",
       "| 5     | 116   | 74    |  0    |   0   | 25.6  | 0.201 | 30    | 0     |\n",
       "\n"
      ],
      "text/plain": [
       "  pregnancies glucose blood_pressure skin_thickness insulin bmi \n",
       "1 6           148     72             35               0     33.6\n",
       "2 1            85     66             29               0     26.6\n",
       "3 8           183     64              0               0     23.3\n",
       "4 1            89     66             23              94     28.1\n",
       "5 0           137     40             35             168     43.1\n",
       "6 5           116     74              0               0     25.6\n",
       "  Diabetes_Pedigree_Function age outcome\n",
       "1 0.627                      50  1      \n",
       "2 0.351                      31  0      \n",
       "3 0.672                      32  1      \n",
       "4 0.167                      21  0      \n",
       "5 2.288                      33  1      \n",
       "6 0.201                      30  0      "
      ]
     },
     "metadata": {},
     "output_type": "display_data"
    },
    {
     "data": {
      "text/html": [
       "<ol class=list-inline>\n",
       "\t<li>768</li>\n",
       "\t<li>9</li>\n",
       "</ol>\n"
      ],
      "text/latex": [
       "\\begin{enumerate*}\n",
       "\\item 768\n",
       "\\item 9\n",
       "\\end{enumerate*}\n"
      ],
      "text/markdown": [
       "1. 768\n",
       "2. 9\n",
       "\n",
       "\n"
      ],
      "text/plain": [
       "[1] 768   9"
      ]
     },
     "metadata": {},
     "output_type": "display_data"
    },
    {
     "data": {
      "text/plain": [
       "  pregnancies        glucose      blood_pressure   skin_thickness \n",
       " Min.   : 0.000   Min.   :  0.0   Min.   :  0.00   Min.   : 0.00  \n",
       " 1st Qu.: 1.000   1st Qu.: 99.0   1st Qu.: 62.00   1st Qu.: 0.00  \n",
       " Median : 3.000   Median :117.0   Median : 72.00   Median :23.00  \n",
       " Mean   : 3.845   Mean   :120.9   Mean   : 69.11   Mean   :20.54  \n",
       " 3rd Qu.: 6.000   3rd Qu.:140.2   3rd Qu.: 80.00   3rd Qu.:32.00  \n",
       " Max.   :17.000   Max.   :199.0   Max.   :122.00   Max.   :99.00  \n",
       "    insulin           bmi        Diabetes_Pedigree_Function      age       \n",
       " Min.   :  0.0   Min.   : 0.00   Min.   :0.0780             Min.   :21.00  \n",
       " 1st Qu.:  0.0   1st Qu.:27.30   1st Qu.:0.2437             1st Qu.:24.00  \n",
       " Median : 30.5   Median :32.00   Median :0.3725             Median :29.00  \n",
       " Mean   : 79.8   Mean   :31.99   Mean   :0.4719             Mean   :33.24  \n",
       " 3rd Qu.:127.2   3rd Qu.:36.60   3rd Qu.:0.6262             3rd Qu.:41.00  \n",
       " Max.   :846.0   Max.   :67.10   Max.   :2.4200             Max.   :81.00  \n",
       "    outcome     \n",
       " Min.   :0.000  \n",
       " 1st Qu.:0.000  \n",
       " Median :0.000  \n",
       " Mean   :0.349  \n",
       " 3rd Qu.:1.000  \n",
       " Max.   :1.000  "
      ]
     },
     "metadata": {},
     "output_type": "display_data"
    }
   ],
   "source": [
    "#데이터프레임에 필드명 추가\n",
    "names(df)<-c('pregnancies','glucose','blood_pressure',\n",
    "            'skin_thickness','insulin','bmi','Diabetes_Pedigree_Function',\n",
    "            'age','outcome')\n",
    "head(df)\n",
    "dim(df)\n",
    "summary(df)"
   ]
  },
  {
   "cell_type": "code",
   "execution_count": 74,
   "metadata": {},
   "outputs": [
    {
     "data": {
      "text/html": [
       "<table>\n",
       "<thead><tr><th></th><th scope=col>pregnancies</th><th scope=col>glucose</th><th scope=col>blood_pressure</th><th scope=col>skin_thickness</th><th scope=col>insulin</th><th scope=col>bmi</th><th scope=col>Diabetes_Pedigree_Function</th><th scope=col>age</th><th scope=col>outcome</th></tr></thead>\n",
       "<tbody>\n",
       "\t<tr><th scope=row>pregnancies</th><td> 1.00000000</td><td>0.12945867 </td><td>0.14128198 </td><td>-0.08167177</td><td>-0.07353461</td><td>0.01768309 </td><td>-0.03352267</td><td> 0.54434123</td><td>0.22189815 </td></tr>\n",
       "\t<tr><th scope=row>glucose</th><td> 0.12945867</td><td>1.00000000 </td><td>0.15258959 </td><td> 0.05732789</td><td> 0.33135711</td><td>0.22107107 </td><td> 0.13733730</td><td> 0.26351432</td><td>0.46658140 </td></tr>\n",
       "\t<tr><th scope=row>blood_pressure</th><td> 0.14128198</td><td>0.15258959 </td><td>1.00000000 </td><td> 0.20737054</td><td> 0.08893338</td><td>0.28180529 </td><td> 0.04126495</td><td> 0.23952795</td><td>0.06506836 </td></tr>\n",
       "\t<tr><th scope=row>skin_thickness</th><td>-0.08167177</td><td>0.05732789 </td><td>0.20737054 </td><td> 1.00000000</td><td> 0.43678257</td><td>0.39257320 </td><td> 0.18392757</td><td>-0.11397026</td><td>0.07475223 </td></tr>\n",
       "\t<tr><th scope=row>insulin</th><td>-0.07353461</td><td>0.33135711 </td><td>0.08893338 </td><td> 0.43678257</td><td> 1.00000000</td><td>0.19785906 </td><td> 0.18507093</td><td>-0.04216295</td><td>0.13054795 </td></tr>\n",
       "\t<tr><th scope=row>bmi</th><td> 0.01768309</td><td>0.22107107 </td><td>0.28180529 </td><td> 0.39257320</td><td> 0.19785906</td><td>1.00000000 </td><td> 0.14064695</td><td> 0.03624187</td><td>0.29269466 </td></tr>\n",
       "</tbody>\n",
       "</table>\n"
      ],
      "text/latex": [
       "\\begin{tabular}{r|lllllllll}\n",
       "  & pregnancies & glucose & blood\\_pressure & skin\\_thickness & insulin & bmi & Diabetes\\_Pedigree\\_Function & age & outcome\\\\\n",
       "\\hline\n",
       "\tpregnancies &  1.00000000 & 0.12945867  & 0.14128198  & -0.08167177 & -0.07353461 & 0.01768309  & -0.03352267 &  0.54434123 & 0.22189815 \\\\\n",
       "\tglucose &  0.12945867 & 1.00000000  & 0.15258959  &  0.05732789 &  0.33135711 & 0.22107107  &  0.13733730 &  0.26351432 & 0.46658140 \\\\\n",
       "\tblood\\_pressure &  0.14128198 & 0.15258959  & 1.00000000  &  0.20737054 &  0.08893338 & 0.28180529  &  0.04126495 &  0.23952795 & 0.06506836 \\\\\n",
       "\tskin\\_thickness & -0.08167177 & 0.05732789  & 0.20737054  &  1.00000000 &  0.43678257 & 0.39257320  &  0.18392757 & -0.11397026 & 0.07475223 \\\\\n",
       "\tinsulin & -0.07353461 & 0.33135711  & 0.08893338  &  0.43678257 &  1.00000000 & 0.19785906  &  0.18507093 & -0.04216295 & 0.13054795 \\\\\n",
       "\tbmi &  0.01768309 & 0.22107107  & 0.28180529  &  0.39257320 &  0.19785906 & 1.00000000  &  0.14064695 &  0.03624187 & 0.29269466 \\\\\n",
       "\\end{tabular}\n"
      ],
      "text/markdown": [
       "\n",
       "| <!--/--> | pregnancies | glucose | blood_pressure | skin_thickness | insulin | bmi | Diabetes_Pedigree_Function | age | outcome |\n",
       "|---|---|---|---|---|---|---|---|---|---|\n",
       "| pregnancies |  1.00000000 | 0.12945867  | 0.14128198  | -0.08167177 | -0.07353461 | 0.01768309  | -0.03352267 |  0.54434123 | 0.22189815  |\n",
       "| glucose |  0.12945867 | 1.00000000  | 0.15258959  |  0.05732789 |  0.33135711 | 0.22107107  |  0.13733730 |  0.26351432 | 0.46658140  |\n",
       "| blood_pressure |  0.14128198 | 0.15258959  | 1.00000000  |  0.20737054 |  0.08893338 | 0.28180529  |  0.04126495 |  0.23952795 | 0.06506836  |\n",
       "| skin_thickness | -0.08167177 | 0.05732789  | 0.20737054  |  1.00000000 |  0.43678257 | 0.39257320  |  0.18392757 | -0.11397026 | 0.07475223  |\n",
       "| insulin | -0.07353461 | 0.33135711  | 0.08893338  |  0.43678257 |  1.00000000 | 0.19785906  |  0.18507093 | -0.04216295 | 0.13054795  |\n",
       "| bmi |  0.01768309 | 0.22107107  | 0.28180529  |  0.39257320 |  0.19785906 | 1.00000000  |  0.14064695 |  0.03624187 | 0.29269466  |\n",
       "\n"
      ],
      "text/plain": [
       "               pregnancies glucose    blood_pressure skin_thickness insulin    \n",
       "pregnancies     1.00000000 0.12945867 0.14128198     -0.08167177    -0.07353461\n",
       "glucose         0.12945867 1.00000000 0.15258959      0.05732789     0.33135711\n",
       "blood_pressure  0.14128198 0.15258959 1.00000000      0.20737054     0.08893338\n",
       "skin_thickness -0.08167177 0.05732789 0.20737054      1.00000000     0.43678257\n",
       "insulin        -0.07353461 0.33135711 0.08893338      0.43678257     1.00000000\n",
       "bmi             0.01768309 0.22107107 0.28180529      0.39257320     0.19785906\n",
       "               bmi        Diabetes_Pedigree_Function age         outcome   \n",
       "pregnancies    0.01768309 -0.03352267                 0.54434123 0.22189815\n",
       "glucose        0.22107107  0.13733730                 0.26351432 0.46658140\n",
       "blood_pressure 0.28180529  0.04126495                 0.23952795 0.06506836\n",
       "skin_thickness 0.39257320  0.18392757                -0.11397026 0.07475223\n",
       "insulin        0.19785906  0.18507093                -0.04216295 0.13054795\n",
       "bmi            1.00000000  0.14064695                 0.03624187 0.29269466"
      ]
     },
     "metadata": {},
     "output_type": "display_data"
    }
   ],
   "source": [
    "head(corrmatrix<-cor(df)) #상관계수 행렬"
   ]
  },
  {
   "cell_type": "code",
   "execution_count": 75,
   "metadata": {},
   "outputs": [
    {
     "data": {
      "image/png": "[encoded data removed]",
      "text/plain": [
       "Plot with title \"\""
      ]
     },
     "metadata": {},
     "output_type": "display_data"
    }
   ],
   "source": [
    "library(corrplot)\n",
    "corrplot(corrmatrix,method='circle') #상관계수 그래프"
   ]
  },
  {
   "cell_type": "code",
   "execution_count": 76,
   "metadata": {},
   "outputs": [
    {
     "data": {
      "text/plain": [
       "\n",
       "  0   1 \n",
       "500 268 "
      ]
     },
     "metadata": {},
     "output_type": "display_data"
    },
    {
     "data": {
      "image/png": "[encoded data removed]",
      "text/plain": [
       "plot without title"
      ]
     },
     "metadata": {},
     "output_type": "display_data"
    }
   ],
   "source": [
    "(tbl<-table(df$outcome))\n",
    "barplot(tbl,beside=T,legend=T,col=rainbow(2)) #카운트 그래프"
   ]
  },
  {
   "cell_type": "code",
   "execution_count": 77,
   "metadata": {},
   "outputs": [
    {
     "data": {
      "text/plain": [
       "\n",
       "  0   1 \n",
       "268 268 "
      ]
     },
     "metadata": {},
     "output_type": "display_data"
    }
   ],
   "source": [
    "library(ROSE)\n",
    "#언더샘플링\n",
    "df_samp<-ovun.sample(outcome ~ . , data=df, seed=1,\n",
    "                    method='under', N=268*2)$data\n",
    "(tbl<-table(df_samp$outcome))"
   ]
  },
  {
   "cell_type": "code",
   "execution_count": 78,
   "metadata": {},
   "outputs": [
    {
     "data": {
      "text/plain": [
       "\n",
       "  0   1 \n",
       "500 500 "
      ]
     },
     "metadata": {},
     "output_type": "display_data"
    }
   ],
   "source": [
    "#오버샘플링\n",
    "df_samp<-ovun.sample(outcome ~ . , data=df, seed=1,\n",
    "                    method='over',N=500*2)$data\n",
    "(tbl<-table(df_samp$outcome))"
   ]
  },
  {
   "cell_type": "code",
   "execution_count": 79,
   "metadata": {},
   "outputs": [],
   "source": [
    "library(caret)\n",
    "set.seed(123)\n",
    "idx_train<-createDataPartition(y=df_samp$outcome,p=0.8,list=F)\n",
    "train<-df_samp[idx_train,]\n",
    "X_train<-train[,-9]\n",
    "y_train<-train[,9]\n",
    "test<-df_samp[-idx_train,]\n",
    "X_test<-test[,-9]\n",
    "y_test<-test[,9]"
   ]
  },
  {
   "cell_type": "code",
   "execution_count": 80,
   "metadata": {},
   "outputs": [
    {
     "name": "stderr",
     "output_type": "stream",
     "text": [
      "Using  as id variables\n"
     ]
    },
    {
     "data": {
      "image/png": "[encoded data removed]",
      "text/plain": [
       "plot without title"
      ]
     },
     "metadata": {},
     "output_type": "display_data"
    }
   ],
   "source": [
    "library(reshape)\n",
    "meltDown<-melt(X_train)\n",
    "boxplot(data=meltDown, value~variable) #변수 단위 확인"
   ]
  },
  {
   "cell_type": "code",
   "execution_count": 81,
   "metadata": {},
   "outputs": [
    {
     "data": {
      "text/html": [
       "<table>\n",
       "<thead><tr><th></th><th scope=col>pregnancies</th><th scope=col>glucose</th><th scope=col>blood_pressure</th><th scope=col>skin_thickness</th><th scope=col>insulin</th><th scope=col>bmi</th><th scope=col>Diabetes_Pedigree_Function</th><th scope=col>age</th><th scope=col>outcome</th></tr></thead>\n",
       "<tbody>\n",
       "\t<tr><th scope=row>2</th><td>0.001182033 </td><td>0.1052009   </td><td>0.07801418  </td><td>0.02718676  </td><td>0.11111111  </td><td>0.03321513  </td><td>0.0001973995</td><td>0.02482270  </td><td>0           </td></tr>\n",
       "\t<tr><th scope=row>3</th><td>0.005910165 </td><td>0.1371158   </td><td>0.08747045  </td><td>0.00000000  </td><td>0.00000000  </td><td>0.03026005  </td><td>0.0002375887</td><td>0.03546099  </td><td>0           </td></tr>\n",
       "\t<tr><th scope=row>4</th><td>0.011820331 </td><td>0.1359338   </td><td>0.00000000  </td><td>0.00000000  </td><td>0.00000000  </td><td>0.04172577  </td><td>0.0001583924</td><td>0.03427896  </td><td>0           </td></tr>\n",
       "\t<tr><th scope=row>5</th><td>0.004728132 </td><td>0.1300236   </td><td>0.10874704  </td><td>0.00000000  </td><td>0.00000000  </td><td>0.04444444  </td><td>0.0002257683</td><td>0.03546099  </td><td>0           </td></tr>\n",
       "\t<tr><th scope=row>6</th><td>0.011820331 </td><td>0.1643026   </td><td>0.09456265  </td><td>0.00000000  </td><td>0.00000000  </td><td>0.03203310  </td><td>0.0017033097</td><td>0.06737589  </td><td>0           </td></tr>\n",
       "\t<tr><th scope=row>7</th><td>0.001182033 </td><td>0.1217494   </td><td>0.03546099  </td><td>0.04491726  </td><td>0.09810875  </td><td>0.05118203  </td><td>0.0002163121</td><td>0.03900709  </td><td>0           </td></tr>\n",
       "</tbody>\n",
       "</table>\n"
      ],
      "text/latex": [
       "\\begin{tabular}{r|lllllllll}\n",
       "  & pregnancies & glucose & blood\\_pressure & skin\\_thickness & insulin & bmi & Diabetes\\_Pedigree\\_Function & age & outcome\\\\\n",
       "\\hline\n",
       "\t2 & 0.001182033  & 0.1052009    & 0.07801418   & 0.02718676   & 0.11111111   & 0.03321513   & 0.0001973995 & 0.02482270   & 0           \\\\\n",
       "\t3 & 0.005910165  & 0.1371158    & 0.08747045   & 0.00000000   & 0.00000000   & 0.03026005   & 0.0002375887 & 0.03546099   & 0           \\\\\n",
       "\t4 & 0.011820331  & 0.1359338    & 0.00000000   & 0.00000000   & 0.00000000   & 0.04172577   & 0.0001583924 & 0.03427896   & 0           \\\\\n",
       "\t5 & 0.004728132  & 0.1300236    & 0.10874704   & 0.00000000   & 0.00000000   & 0.04444444   & 0.0002257683 & 0.03546099   & 0           \\\\\n",
       "\t6 & 0.011820331  & 0.1643026    & 0.09456265   & 0.00000000   & 0.00000000   & 0.03203310   & 0.0017033097 & 0.06737589   & 0           \\\\\n",
       "\t7 & 0.001182033  & 0.1217494    & 0.03546099   & 0.04491726   & 0.09810875   & 0.05118203   & 0.0002163121 & 0.03900709   & 0           \\\\\n",
       "\\end{tabular}\n"
      ],
      "text/markdown": [
       "\n",
       "| <!--/--> | pregnancies | glucose | blood_pressure | skin_thickness | insulin | bmi | Diabetes_Pedigree_Function | age | outcome |\n",
       "|---|---|---|---|---|---|---|---|---|---|\n",
       "| 2 | 0.001182033  | 0.1052009    | 0.07801418   | 0.02718676   | 0.11111111   | 0.03321513   | 0.0001973995 | 0.02482270   | 0            |\n",
       "| 3 | 0.005910165  | 0.1371158    | 0.08747045   | 0.00000000   | 0.00000000   | 0.03026005   | 0.0002375887 | 0.03546099   | 0            |\n",
       "| 4 | 0.011820331  | 0.1359338    | 0.00000000   | 0.00000000   | 0.00000000   | 0.04172577   | 0.0001583924 | 0.03427896   | 0            |\n",
       "| 5 | 0.004728132  | 0.1300236    | 0.10874704   | 0.00000000   | 0.00000000   | 0.04444444   | 0.0002257683 | 0.03546099   | 0            |\n",
       "| 6 | 0.011820331  | 0.1643026    | 0.09456265   | 0.00000000   | 0.00000000   | 0.03203310   | 0.0017033097 | 0.06737589   | 0            |\n",
       "| 7 | 0.001182033  | 0.1217494    | 0.03546099   | 0.04491726   | 0.09810875   | 0.05118203   | 0.0002163121 | 0.03900709   | 0            |\n",
       "\n"
      ],
      "text/plain": [
       "  pregnancies glucose   blood_pressure skin_thickness insulin    bmi       \n",
       "2 0.001182033 0.1052009 0.07801418     0.02718676     0.11111111 0.03321513\n",
       "3 0.005910165 0.1371158 0.08747045     0.00000000     0.00000000 0.03026005\n",
       "4 0.011820331 0.1359338 0.00000000     0.00000000     0.00000000 0.04172577\n",
       "5 0.004728132 0.1300236 0.10874704     0.00000000     0.00000000 0.04444444\n",
       "6 0.011820331 0.1643026 0.09456265     0.00000000     0.00000000 0.03203310\n",
       "7 0.001182033 0.1217494 0.03546099     0.04491726     0.09810875 0.05118203\n",
       "  Diabetes_Pedigree_Function age        outcome\n",
       "2 0.0001973995               0.02482270 0      \n",
       "3 0.0002375887               0.03546099 0      \n",
       "4 0.0001583924               0.03427896 0      \n",
       "5 0.0002257683               0.03546099 0      \n",
       "6 0.0017033097               0.06737589 0      \n",
       "7 0.0002163121               0.03900709 0      "
      ]
     },
     "metadata": {},
     "output_type": "display_data"
    }
   ],
   "source": [
    "min_on_train<-min(X_train) #최소값\n",
    "range_on_train<-max(X_train - min_on_train) #최대값 - 최소값의 범위\n",
    "X_train_scaled<-(X_train - min_on_train)/range_on_train\n",
    "X_test_scaled<-(X_test - min_on_train)/range_on_train\n",
    "train_scaled<-cbind(X_train_scaled,outcome=y_train)\n",
    "test_scaled<-cbind(X_test_scaled,outcome=y_test)\n",
    "head(train_scaled) #0~1 사이로 조정된 값 확인"
   ]
  },
  {
   "cell_type": "code",
   "execution_count": 82,
   "metadata": {},
   "outputs": [
    {
     "name": "stderr",
     "output_type": "stream",
     "text": [
      "Using  as id variables\n"
     ]
    },
    {
     "data": {
      "image/png": "[encoded data removed]",
      "text/plain": [
       "plot without title"
      ]
     },
     "metadata": {},
     "output_type": "display_data"
    }
   ],
   "source": [
    "meltDown<-melt(X_train_scaled)\n",
    "boxplot(data=meltDown, value~variable)"
   ]
  },
  {
   "cell_type": "code",
   "execution_count": 83,
   "metadata": {},
   "outputs": [
    {
     "data": {
      "text/plain": [
       "\n",
       "Call:\n",
       "glm(formula = outcome ~ ., family = binomial, data = train_scaled)\n",
       "\n",
       "Deviance Residuals: \n",
       "     Min        1Q    Median        3Q       Max  \n",
       "-2.87249  -0.80717   0.04845   0.75930   2.76375  \n",
       "\n",
       "Coefficients:\n",
       "                           Estimate Std. Error z value Pr(>|z|)    \n",
       "(Intercept)                 -8.4393     0.7279 -11.594  < 2e-16 ***\n",
       "pregnancies                 81.9117    25.9782   3.153 0.001616 ** \n",
       "glucose                     30.7492     3.1204   9.854  < 2e-16 ***\n",
       "blood_pressure             -10.4738     4.2748  -2.450 0.014281 *  \n",
       "skin_thickness              -2.2092     5.6826  -0.389 0.697452    \n",
       "insulin                     -0.9006     0.7464  -1.207 0.227599    \n",
       "bmi                         84.4534    12.7635   6.617 3.67e-11 ***\n",
       "Diabetes_Pedigree_Function 830.7582   249.4400   3.330 0.000867 ***\n",
       "age                         18.2810     7.7958   2.345 0.019027 *  \n",
       "---\n",
       "Signif. codes:  0 '***' 0.001 '**' 0.01 '*' 0.05 '.' 0.1 ' ' 1\n",
       "\n",
       "(Dispersion parameter for binomial family taken to be 1)\n",
       "\n",
       "    Null deviance: 1109.04  on 799  degrees of freedom\n",
       "Residual deviance:  801.96  on 791  degrees of freedom\n",
       "AIC: 819.96\n",
       "\n",
       "Number of Fisher Scoring iterations: 5\n"
      ]
     },
     "metadata": {},
     "output_type": "display_data"
    }
   ],
   "source": [
    "model<-glm(outcome ~ . , data=train_scaled,family=binomial)\n",
    "summary(model)"
   ]
  },
  {
   "cell_type": "code",
   "execution_count": 84,
   "metadata": {},
   "outputs": [
    {
     "data": {
      "text/html": [
       "<dl class=dl-horizontal>\n",
       "\t<dt>(Intercept)</dt>\n",
       "\t\t<dd>-8.43927662523778</dd>\n",
       "\t<dt>pregnancies</dt>\n",
       "\t\t<dd>81.9116803615071</dd>\n",
       "\t<dt>glucose</dt>\n",
       "\t\t<dd>30.7491532169204</dd>\n",
       "\t<dt>blood_pressure</dt>\n",
       "\t\t<dd>-10.4738499784543</dd>\n",
       "\t<dt>skin_thickness</dt>\n",
       "\t\t<dd>-2.20917993603081</dd>\n",
       "\t<dt>insulin</dt>\n",
       "\t\t<dd>-0.90063621637013</dd>\n",
       "\t<dt>bmi</dt>\n",
       "\t\t<dd>84.4534088104134</dd>\n",
       "\t<dt>Diabetes_Pedigree_Function</dt>\n",
       "\t\t<dd>830.758196731166</dd>\n",
       "\t<dt>age</dt>\n",
       "\t\t<dd>18.2810350341904</dd>\n",
       "</dl>\n"
      ],
      "text/latex": [
       "\\begin{description*}\n",
       "\\item[(Intercept)] -8.43927662523778\n",
       "\\item[pregnancies] 81.9116803615071\n",
       "\\item[glucose] 30.7491532169204\n",
       "\\item[blood\\textbackslash{}\\_pressure] -10.4738499784543\n",
       "\\item[skin\\textbackslash{}\\_thickness] -2.20917993603081\n",
       "\\item[insulin] -0.90063621637013\n",
       "\\item[bmi] 84.4534088104134\n",
       "\\item[Diabetes\\textbackslash{}\\_Pedigree\\textbackslash{}\\_Function] 830.758196731166\n",
       "\\item[age] 18.2810350341904\n",
       "\\end{description*}\n"
      ],
      "text/markdown": [
       "(Intercept)\n",
       ":   -8.43927662523778pregnancies\n",
       ":   81.9116803615071glucose\n",
       ":   30.7491532169204blood_pressure\n",
       ":   -10.4738499784543skin_thickness\n",
       ":   -2.20917993603081insulin\n",
       ":   -0.90063621637013bmi\n",
       ":   84.4534088104134Diabetes_Pedigree_Function\n",
       ":   830.758196731166age\n",
       ":   18.2810350341904\n",
       "\n"
      ],
      "text/plain": [
       "               (Intercept)                pregnancies \n",
       "                -8.4392766                 81.9116804 \n",
       "                   glucose             blood_pressure \n",
       "                30.7491532                -10.4738500 \n",
       "            skin_thickness                    insulin \n",
       "                -2.2091799                 -0.9006362 \n",
       "                       bmi Diabetes_Pedigree_Function \n",
       "                84.4534088                830.7581967 \n",
       "                       age \n",
       "                18.2810350 "
      ]
     },
     "metadata": {},
     "output_type": "display_data"
    }
   ],
   "source": [
    "coef(model)"
   ]
  },
  {
   "cell_type": "code",
   "execution_count": 85,
   "metadata": {},
   "outputs": [],
   "source": [
    "pred<-predict(model,newdata=X_test_scaled,type='response')\n",
    "result<-ifelse(pred>0.5,1,0)"
   ]
  },
  {
   "cell_type": "code",
   "execution_count": 86,
   "metadata": {},
   "outputs": [
    {
     "data": {
      "text/html": [
       "0.785"
      ],
      "text/latex": [
       "0.785"
      ],
      "text/markdown": [
       "0.785"
      ],
      "text/plain": [
       "[1] 0.785"
      ]
     },
     "metadata": {},
     "output_type": "display_data"
    }
   ],
   "source": [
    "mean(y_test==result)\n",
    "#-스케일전\n",
    "#오버샘플링 78.5%\n",
    "#언더샘플링 75.4%\n",
    "#-스케일후\n",
    "#언더샘플링 75.4%\n",
    "#오버샘플링 78.5%"
   ]
  },
  {
   "cell_type": "code",
   "execution_count": 87,
   "metadata": {},
   "outputs": [
    {
     "data": {
      "text/plain": [
       "      result\n",
       "y_test  0  1\n",
       "     0 82 18\n",
       "     1 25 75"
      ]
     },
     "metadata": {},
     "output_type": "display_data"
    }
   ],
   "source": [
    "table(y_test,result)"
   ]
  },
  {
   "cell_type": "code",
   "execution_count": null,
   "metadata": {},
   "outputs": [],
   "source": []
  },
  {
   "cell_type": "code",
   "execution_count": null,
   "metadata": {},
   "outputs": [],
   "source": []
  }
 ],
 "metadata": {
  "kernelspec": {
   "display_name": "R",
   "language": "R",
   "name": "ir"
  },
  "language_info": {
   "codemirror_mode": "r",
   "file_extension": ".r",
   "mimetype": "text/x-r-source",
   "name": "R",
   "pygments_lexer": "r",
   "version": "3.6.1"
  }
 },
 "nbformat": 4,
 "nbformat_minor": 2
}
