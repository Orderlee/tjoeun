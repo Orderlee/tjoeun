{
 "cells": [
  {
   "cell_type": "code",
   "execution_count": 1,
   "metadata": {},
   "outputs": [
    {
     "data": {
      "text/html": [
       "<table>\n",
       "<thead><tr><th scope=col>age</th><th scope=col>height</th><th scope=col>weight</th></tr></thead>\n",
       "<tbody>\n",
       "\t<tr><td>0~3개월  </td><td>59.1     </td><td> 5.9     </td></tr>\n",
       "\t<tr><td>3~6개월  </td><td>66.7     </td><td> 8.0     </td></tr>\n",
       "\t<tr><td>6~9개월  </td><td>71.4     </td><td> 8.9     </td></tr>\n",
       "\t<tr><td>9~12개월 </td><td>75.0     </td><td>10.1     </td></tr>\n",
       "\t<tr><td>12~18개월</td><td>80.1     </td><td>10.9     </td></tr>\n",
       "\t<tr><td>2세      </td><td>87.8     </td><td>13.2     </td></tr>\n",
       "</tbody>\n",
       "</table>\n"
      ],
      "text/latex": [
       "\\begin{tabular}{r|lll}\n",
       " age & height & weight\\\\\n",
       "\\hline\n",
       "\t 0\\textasciitilde{}3개월   & 59.1                       &  5.9                      \\\\\n",
       "\t 3\\textasciitilde{}6개월   & 66.7                       &  8.0                      \\\\\n",
       "\t 6\\textasciitilde{}9개월   & 71.4                       &  8.9                      \\\\\n",
       "\t 9\\textasciitilde{}12개월  & 75.0                       & 10.1                      \\\\\n",
       "\t 12\\textasciitilde{}18개월 & 80.1                       & 10.9                      \\\\\n",
       "\t 2세       & 87.8      & 13.2     \\\\\n",
       "\\end{tabular}\n"
      ],
      "text/markdown": [
       "\n",
       "| age | height | weight |\n",
       "|---|---|---|\n",
       "| 0~3개월   | 59.1      |  5.9      |\n",
       "| 3~6개월   | 66.7      |  8.0      |\n",
       "| 6~9개월   | 71.4      |  8.9      |\n",
       "| 9~12개월  | 75.0      | 10.1      |\n",
       "| 12~18개월 | 80.1      | 10.9      |\n",
       "| 2세       | 87.8      | 13.2      |\n",
       "\n"
      ],
      "text/plain": [
       "  age       height weight\n",
       "1 0~3개월   59.1    5.9  \n",
       "2 3~6개월   66.7    8.0  \n",
       "3 6~9개월   71.4    8.9  \n",
       "4 9~12개월  75.0   10.1  \n",
       "5 12~18개월 80.1   10.9  \n",
       "6 2세       87.8   13.2  "
      ]
     },
     "metadata": {},
     "output_type": "display_data"
    },
    {
     "data": {
      "text/html": [
       "<table>\n",
       "<thead><tr><th></th><th scope=col>age</th><th scope=col>height</th><th scope=col>weight</th></tr></thead>\n",
       "<tbody>\n",
       "\t<tr><th scope=row>26</th><td>30~34세 </td><td>171.3   </td><td>71.5    </td></tr>\n",
       "\t<tr><th scope=row>27</th><td>35~39세 </td><td>170.7   </td><td>72.3    </td></tr>\n",
       "\t<tr><th scope=row>28</th><td>40~49세 </td><td>168.6   </td><td>70.6    </td></tr>\n",
       "\t<tr><th scope=row>29</th><td>50~59세 </td><td>166.1   </td><td>69.1    </td></tr>\n",
       "\t<tr><th scope=row>30</th><td>60~69세 </td><td>164.4   </td><td>65.9    </td></tr>\n",
       "\t<tr><th scope=row>31</th><td>70세이상</td><td>162.4   </td><td>61.1    </td></tr>\n",
       "</tbody>\n",
       "</table>\n"
      ],
      "text/latex": [
       "\\begin{tabular}{r|lll}\n",
       "  & age & height & weight\\\\\n",
       "\\hline\n",
       "\t26 & 30\\textasciitilde{}34세  & 171.3                     & 71.5                     \\\\\n",
       "\t27 & 35\\textasciitilde{}39세  & 170.7                     & 72.3                     \\\\\n",
       "\t28 & 40\\textasciitilde{}49세  & 168.6                     & 70.6                     \\\\\n",
       "\t29 & 50\\textasciitilde{}59세  & 166.1                     & 69.1                     \\\\\n",
       "\t30 & 60\\textasciitilde{}69세  & 164.4                     & 65.9                     \\\\\n",
       "\t31 & 70세이상 & 162.4    & 61.1    \\\\\n",
       "\\end{tabular}\n"
      ],
      "text/markdown": [
       "\n",
       "| <!--/--> | age | height | weight |\n",
       "|---|---|---|---|\n",
       "| 26 | 30~34세  | 171.3    | 71.5     |\n",
       "| 27 | 35~39세  | 170.7    | 72.3     |\n",
       "| 28 | 40~49세  | 168.6    | 70.6     |\n",
       "| 29 | 50~59세  | 166.1    | 69.1     |\n",
       "| 30 | 60~69세  | 164.4    | 65.9     |\n",
       "| 31 | 70세이상 | 162.4    | 61.1     |\n",
       "\n"
      ],
      "text/plain": [
       "   age      height weight\n",
       "26 30~34세  171.3  71.5  \n",
       "27 35~39세  170.7  72.3  \n",
       "28 40~49세  168.6  70.6  \n",
       "29 50~59세  166.1  69.1  \n",
       "30 60~69세  164.4  65.9  \n",
       "31 70세이상 162.4  61.1  "
      ]
     },
     "metadata": {},
     "output_type": "display_data"
    }
   ],
   "source": [
    "#귀무가설: 신장과 체중은 상관관계가 없다.\n",
    "#대립가설: 신장과 체중은 상관관계가 있다.\n",
    "regression<-read.csv('d:/data/regression/regression.csv')\n",
    "head(regression)\n",
    "tail(regression)"
   ]
  },
  {
   "cell_type": "code",
   "execution_count": 10,
   "metadata": {},
   "outputs": [
    {
     "data": {
      "text/plain": [
       "   Min. 1st Qu.  Median    Mean 3rd Qu.    Max. \n",
       "   59.1   105.7   150.7   135.8   169.8   173.8 "
      ]
     },
     "metadata": {},
     "output_type": "display_data"
    },
    {
     "data": {
      "text/plain": [
       "   Min. 1st Qu.  Median    Mean 3rd Qu.    Max. \n",
       "   5.90   17.90   45.20   42.62   66.65   72.30 "
      ]
     },
     "metadata": {},
     "output_type": "display_data"
    }
   ],
   "source": [
    "summary(regression$height) #기초통계량\n",
    "summary(regression$weight)"
   ]
  },
  {
   "cell_type": "code",
   "execution_count": 11,
   "metadata": {},
   "outputs": [
    {
     "data": {
      "image/png": "[encoded data removed]",
      "text/plain": [
       "Plot with title \"Histogram of regression$height\""
      ]
     },
     "metadata": {},
     "output_type": "display_data"
    },
    {
     "data": {
      "image/png": "[encoded data removed]",
      "text/plain": [
       "Plot with title \"Histogram of regression$weight\""
      ]
     },
     "metadata": {},
     "output_type": "display_data"
    }
   ],
   "source": [
    "hist(regression$height) #히스토그램\n",
    "hist(regression$weight)"
   ]
  },
  {
   "cell_type": "code",
   "execution_count": 5,
   "metadata": {},
   "outputs": [
    {
     "data": {
      "image/png": "[encoded data removed]",
      "text/plain": [
       "Plot with title \"평균키와 몸무게\""
      ]
     },
     "metadata": {},
     "output_type": "display_data"
    }
   ],
   "source": [
    "#plot (y~x)\n",
    "plot(regression$weight ~ regression$height, main='평균키와 몸무게',\n",
    "    xlab='height',ylab='weight')"
   ]
  },
  {
   "cell_type": "code",
   "execution_count": 12,
   "metadata": {},
   "outputs": [
    {
     "data": {
      "text/html": [
       "0.967210305922711"
      ],
      "text/latex": [
       "0.967210305922711"
      ],
      "text/markdown": [
       "0.967210305922711"
      ],
      "text/plain": [
       "[1] 0.9672103"
      ]
     },
     "metadata": {},
     "output_type": "display_data"
    }
   ],
   "source": [
    "cor(regression$height,regression$weight) #상관관계"
   ]
  },
  {
   "cell_type": "code",
   "execution_count": 13,
   "metadata": {},
   "outputs": [
    {
     "data": {
      "text/plain": [
       "\n",
       "Call:\n",
       "lm(formula = regression$weight ~ regression$height)\n",
       "\n",
       "Coefficients:\n",
       "      (Intercept)  regression$height  \n",
       "         -40.8659             0.6147  \n"
      ]
     },
     "metadata": {},
     "output_type": "display_data"
    }
   ],
   "source": [
    "#단순회귀분석 lm(종속변수 ~ 독립변수)\n",
    "r<-lm(regression$weight ~ regression$height)\n",
    "r #기울기와 절편 확인"
   ]
  },
  {
   "cell_type": "code",
   "execution_count": 16,
   "metadata": {},
   "outputs": [
    {
     "data": {
      "image/png": "[encoded data removed]",
      "text/plain": [
       "Plot with title \"평균키와 몸무게\""
      ]
     },
     "metadata": {},
     "output_type": "display_data"
    }
   ],
   "source": [
    "plot(regression$weight ~ regression$height, main='평균키와 몸무게',\n",
    "    xlab='height',ylab='weight')\n",
    "abline(r,col='red') #회귀선 그리기"
   ]
  },
  {
   "cell_type": "code",
   "execution_count": 9,
   "metadata": {},
   "outputs": [
    {
     "data": {
      "text/plain": [
       "\n",
       "Call:\n",
       "lm(formula = regression$weight ~ regression$height)\n",
       "\n",
       "Residuals:\n",
       "    Min      1Q  Median      3Q     Max \n",
       "-9.2327 -5.9811  0.0915  5.3125 10.4346 \n",
       "\n",
       "Coefficients:\n",
       "                   Estimate Std. Error t value Pr(>|t|)    \n",
       "(Intercept)       -40.86594    4.22768  -9.666 1.42e-10 ***\n",
       "regression$height   0.61474    0.02998  20.508  < 2e-16 ***\n",
       "---\n",
       "Signif. codes:  0 '***' 0.001 '**' 0.01 '*' 0.05 '.' 0.1 ' ' 1\n",
       "\n",
       "Residual standard error: 6.355 on 29 degrees of freedom\n",
       "Multiple R-squared:  0.9355,\tAdjusted R-squared:  0.9333 \n",
       "F-statistic: 420.6 on 1 and 29 DF,  p-value: < 2.2e-16\n"
      ]
     },
     "metadata": {},
     "output_type": "display_data"
    }
   ],
   "source": [
    "summary(r) #회귀분석 모형 요약(p-value, R제곱)\n",
    "#p-value < 2.2e-16: \n",
    "#R제곱: 93.3%의 설명력\n",
    "#p-value가 0.05보다 작으므로 95% 신뢰 수준하에서 유의\n",
    "# 99% 신뢰수준하에서도 유의함\n",
    "# 따라서 귀무가설을 기각하고 대립가설을 채택\n",
    "# 결론: 신장과 체중은 상관관계가 있다."
   ]
  },
  {
   "cell_type": "code",
   "execution_count": null,
   "metadata": {},
   "outputs": [],
   "source": []
  },
  {
   "cell_type": "code",
   "execution_count": null,
   "metadata": {},
   "outputs": [],
   "source": []
  },
  {
   "cell_type": "code",
   "execution_count": null,
   "metadata": {},
   "outputs": [],
   "source": []
  },
  {
   "cell_type": "code",
   "execution_count": null,
   "metadata": {},
   "outputs": [],
   "source": []
  },
  {
   "cell_type": "code",
   "execution_count": null,
   "metadata": {},
   "outputs": [],
   "source": []
  },
  {
   "cell_type": "code",
   "execution_count": null,
   "metadata": {},
   "outputs": [],
   "source": []
  },
  {
   "cell_type": "code",
   "execution_count": null,
   "metadata": {},
   "outputs": [],
   "source": []
  }
 ],
 "metadata": {
  "kernelspec": {
   "display_name": "R",
   "language": "R",
   "name": "ir"
  },
  "language_info": {
   "codemirror_mode": "r",
   "file_extension": ".r",
   "mimetype": "text/x-r-source",
   "name": "R",
   "pygments_lexer": "r",
   "version": "3.6.1"
  }
 },
 "nbformat": 4,
 "nbformat_minor": 2
}
