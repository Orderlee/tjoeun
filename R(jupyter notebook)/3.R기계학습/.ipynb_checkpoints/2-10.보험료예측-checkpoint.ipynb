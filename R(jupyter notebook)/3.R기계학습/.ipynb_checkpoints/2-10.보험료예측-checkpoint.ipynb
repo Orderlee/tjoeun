{
 "cells": [
  {
   "cell_type": "code",
   "execution_count": 1,
   "metadata": {},
   "outputs": [
    {
     "data": {
      "text/html": [
       "<table>\n",
       "<thead><tr><th scope=col>age</th><th scope=col>sex</th><th scope=col>bmi</th><th scope=col>children</th><th scope=col>smoker</th><th scope=col>region</th><th scope=col>charges</th></tr></thead>\n",
       "<tbody>\n",
       "\t<tr><td>19       </td><td>female   </td><td>27.900   </td><td>0        </td><td>yes      </td><td>southwest</td><td>16884.924</td></tr>\n",
       "\t<tr><td>18       </td><td>male     </td><td>33.770   </td><td>1        </td><td>no       </td><td>southeast</td><td> 1725.552</td></tr>\n",
       "\t<tr><td>28       </td><td>male     </td><td>33.000   </td><td>3        </td><td>no       </td><td>southeast</td><td> 4449.462</td></tr>\n",
       "\t<tr><td>33       </td><td>male     </td><td>22.705   </td><td>0        </td><td>no       </td><td>northwest</td><td>21984.471</td></tr>\n",
       "\t<tr><td>32       </td><td>male     </td><td>28.880   </td><td>0        </td><td>no       </td><td>northwest</td><td> 3866.855</td></tr>\n",
       "\t<tr><td>31       </td><td>female   </td><td>25.740   </td><td>0        </td><td>no       </td><td>southeast</td><td> 3756.622</td></tr>\n",
       "</tbody>\n",
       "</table>\n"
      ],
      "text/latex": [
       "\\begin{tabular}{r|lllllll}\n",
       " age & sex & bmi & children & smoker & region & charges\\\\\n",
       "\\hline\n",
       "\t 19        & female    & 27.900    & 0         & yes       & southwest & 16884.924\\\\\n",
       "\t 18        & male      & 33.770    & 1         & no        & southeast &  1725.552\\\\\n",
       "\t 28        & male      & 33.000    & 3         & no        & southeast &  4449.462\\\\\n",
       "\t 33        & male      & 22.705    & 0         & no        & northwest & 21984.471\\\\\n",
       "\t 32        & male      & 28.880    & 0         & no        & northwest &  3866.855\\\\\n",
       "\t 31        & female    & 25.740    & 0         & no        & southeast &  3756.622\\\\\n",
       "\\end{tabular}\n"
      ],
      "text/markdown": [
       "\n",
       "| age | sex | bmi | children | smoker | region | charges |\n",
       "|---|---|---|---|---|---|---|\n",
       "| 19        | female    | 27.900    | 0         | yes       | southwest | 16884.924 |\n",
       "| 18        | male      | 33.770    | 1         | no        | southeast |  1725.552 |\n",
       "| 28        | male      | 33.000    | 3         | no        | southeast |  4449.462 |\n",
       "| 33        | male      | 22.705    | 0         | no        | northwest | 21984.471 |\n",
       "| 32        | male      | 28.880    | 0         | no        | northwest |  3866.855 |\n",
       "| 31        | female    | 25.740    | 0         | no        | southeast |  3756.622 |\n",
       "\n"
      ],
      "text/plain": [
       "  age sex    bmi    children smoker region    charges  \n",
       "1 19  female 27.900 0        yes    southwest 16884.924\n",
       "2 18  male   33.770 1        no     southeast  1725.552\n",
       "3 28  male   33.000 3        no     southeast  4449.462\n",
       "4 33  male   22.705 0        no     northwest 21984.471\n",
       "5 32  male   28.880 0        no     northwest  3866.855\n",
       "6 31  female 25.740 0        no     southeast  3756.622"
      ]
     },
     "metadata": {},
     "output_type": "display_data"
    },
    {
     "data": {
      "text/html": [
       "<table>\n",
       "<thead><tr><th></th><th scope=col>age</th><th scope=col>sex</th><th scope=col>bmi</th><th scope=col>children</th><th scope=col>smoker</th><th scope=col>region</th><th scope=col>charges</th></tr></thead>\n",
       "<tbody>\n",
       "\t<tr><th scope=row>1333</th><td>52       </td><td>female   </td><td>44.70    </td><td>3        </td><td>no       </td><td>southwest</td><td>11411.685</td></tr>\n",
       "\t<tr><th scope=row>1334</th><td>50       </td><td>male     </td><td>30.97    </td><td>3        </td><td>no       </td><td>northwest</td><td>10600.548</td></tr>\n",
       "\t<tr><th scope=row>1335</th><td>18       </td><td>female   </td><td>31.92    </td><td>0        </td><td>no       </td><td>northeast</td><td> 2205.981</td></tr>\n",
       "\t<tr><th scope=row>1336</th><td>18       </td><td>female   </td><td>36.85    </td><td>0        </td><td>no       </td><td>southeast</td><td> 1629.833</td></tr>\n",
       "\t<tr><th scope=row>1337</th><td>21       </td><td>female   </td><td>25.80    </td><td>0        </td><td>no       </td><td>southwest</td><td> 2007.945</td></tr>\n",
       "\t<tr><th scope=row>1338</th><td>61       </td><td>female   </td><td>29.07    </td><td>0        </td><td>yes      </td><td>northwest</td><td>29141.360</td></tr>\n",
       "</tbody>\n",
       "</table>\n"
      ],
      "text/latex": [
       "\\begin{tabular}{r|lllllll}\n",
       "  & age & sex & bmi & children & smoker & region & charges\\\\\n",
       "\\hline\n",
       "\t1333 & 52        & female    & 44.70     & 3         & no        & southwest & 11411.685\\\\\n",
       "\t1334 & 50        & male      & 30.97     & 3         & no        & northwest & 10600.548\\\\\n",
       "\t1335 & 18        & female    & 31.92     & 0         & no        & northeast &  2205.981\\\\\n",
       "\t1336 & 18        & female    & 36.85     & 0         & no        & southeast &  1629.833\\\\\n",
       "\t1337 & 21        & female    & 25.80     & 0         & no        & southwest &  2007.945\\\\\n",
       "\t1338 & 61        & female    & 29.07     & 0         & yes       & northwest & 29141.360\\\\\n",
       "\\end{tabular}\n"
      ],
      "text/markdown": [
       "\n",
       "| <!--/--> | age | sex | bmi | children | smoker | region | charges |\n",
       "|---|---|---|---|---|---|---|---|\n",
       "| 1333 | 52        | female    | 44.70     | 3         | no        | southwest | 11411.685 |\n",
       "| 1334 | 50        | male      | 30.97     | 3         | no        | northwest | 10600.548 |\n",
       "| 1335 | 18        | female    | 31.92     | 0         | no        | northeast |  2205.981 |\n",
       "| 1336 | 18        | female    | 36.85     | 0         | no        | southeast |  1629.833 |\n",
       "| 1337 | 21        | female    | 25.80     | 0         | no        | southwest |  2007.945 |\n",
       "| 1338 | 61        | female    | 29.07     | 0         | yes       | northwest | 29141.360 |\n",
       "\n"
      ],
      "text/plain": [
       "     age sex    bmi   children smoker region    charges  \n",
       "1333 52  female 44.70 3        no     southwest 11411.685\n",
       "1334 50  male   30.97 3        no     northwest 10600.548\n",
       "1335 18  female 31.92 0        no     northeast  2205.981\n",
       "1336 18  female 36.85 0        no     southeast  1629.833\n",
       "1337 21  female 25.80 0        no     southwest  2007.945\n",
       "1338 61  female 29.07 0        yes    northwest 29141.360"
      ]
     },
     "metadata": {},
     "output_type": "display_data"
    }
   ],
   "source": [
    "df<-read.csv('d:/data/insurance/insurance.csv') #csv로딩\n",
    "head(df)\n",
    "tail(df)"
   ]
  },
  {
   "cell_type": "code",
   "execution_count": 2,
   "metadata": {},
   "outputs": [
    {
     "data": {
      "text/html": [
       "<ol class=list-inline>\n",
       "\t<li>1338</li>\n",
       "\t<li>7</li>\n",
       "</ol>\n"
      ],
      "text/latex": [
       "\\begin{enumerate*}\n",
       "\\item 1338\n",
       "\\item 7\n",
       "\\end{enumerate*}\n"
      ],
      "text/markdown": [
       "1. 1338\n",
       "2. 7\n",
       "\n",
       "\n"
      ],
      "text/plain": [
       "[1] 1338    7"
      ]
     },
     "metadata": {},
     "output_type": "display_data"
    },
    {
     "data": {
      "text/plain": [
       "      age            sex           bmi           children     smoker    \n",
       " Min.   :18.00   female:662   Min.   :15.96   Min.   :0.000   no :1064  \n",
       " 1st Qu.:27.00   male  :676   1st Qu.:26.30   1st Qu.:0.000   yes: 274  \n",
       " Median :39.00                Median :30.40   Median :1.000             \n",
       " Mean   :39.21                Mean   :30.66   Mean   :1.095             \n",
       " 3rd Qu.:51.00                3rd Qu.:34.69   3rd Qu.:2.000             \n",
       " Max.   :64.00                Max.   :53.13   Max.   :5.000             \n",
       "       region       charges     \n",
       " northeast:324   Min.   : 1122  \n",
       " northwest:325   1st Qu.: 4740  \n",
       " southeast:364   Median : 9382  \n",
       " southwest:325   Mean   :13270  \n",
       "                 3rd Qu.:16640  \n",
       "                 Max.   :63770  "
      ]
     },
     "metadata": {},
     "output_type": "display_data"
    }
   ],
   "source": [
    "dim(df) #데이터의 차원\n",
    "summary(df)"
   ]
  },
  {
   "cell_type": "code",
   "execution_count": 3,
   "metadata": {},
   "outputs": [
    {
     "data": {
      "image/png": "[encoded data removed]",
      "text/plain": [
       "plot without title"
      ]
     },
     "metadata": {},
     "output_type": "display_data"
    }
   ],
   "source": [
    "pairs(df)"
   ]
  },
  {
   "cell_type": "code",
   "execution_count": 4,
   "metadata": {},
   "outputs": [
    {
     "data": {
      "image/png": "[encoded data removed]",
      "text/plain": [
       "Plot with title \"나이와 보험료\""
      ]
     },
     "metadata": {},
     "output_type": "display_data"
    }
   ],
   "source": [
    "plot(charges ~ age, data=df, main='나이와 보험료', xlab='나이',\n",
    "    ylab='보험료')"
   ]
  },
  {
   "cell_type": "code",
   "execution_count": 5,
   "metadata": {},
   "outputs": [
    {
     "data": {
      "text/plain": [
       "\n",
       "Call:\n",
       "lm(formula = charges ~ ., data = df)\n",
       "\n",
       "Coefficients:\n",
       "    (Intercept)              age          sexmale              bmi  \n",
       "       -11938.5            256.9           -131.3            339.2  \n",
       "       children        smokeryes  regionnorthwest  regionsoutheast  \n",
       "          475.5          23848.5           -353.0          -1035.0  \n",
       "regionsouthwest  \n",
       "         -960.1  \n"
      ]
     },
     "metadata": {},
     "output_type": "display_data"
    }
   ],
   "source": [
    "(model<-lm(charges ~ . , data=df)) #다중회귀분석 모형"
   ]
  },
  {
   "cell_type": "code",
   "execution_count": 6,
   "metadata": {},
   "outputs": [
    {
     "data": {
      "text/plain": [
       "\n",
       "Call:\n",
       "lm(formula = charges ~ ., data = df)\n",
       "\n",
       "Residuals:\n",
       "     Min       1Q   Median       3Q      Max \n",
       "-11304.9  -2848.1   -982.1   1393.9  29992.8 \n",
       "\n",
       "Coefficients:\n",
       "                Estimate Std. Error t value Pr(>|t|)    \n",
       "(Intercept)     -11938.5      987.8 -12.086  < 2e-16 ***\n",
       "age                256.9       11.9  21.587  < 2e-16 ***\n",
       "sexmale           -131.3      332.9  -0.394 0.693348    \n",
       "bmi                339.2       28.6  11.860  < 2e-16 ***\n",
       "children           475.5      137.8   3.451 0.000577 ***\n",
       "smokeryes        23848.5      413.1  57.723  < 2e-16 ***\n",
       "regionnorthwest   -353.0      476.3  -0.741 0.458769    \n",
       "regionsoutheast  -1035.0      478.7  -2.162 0.030782 *  \n",
       "regionsouthwest   -960.0      477.9  -2.009 0.044765 *  \n",
       "---\n",
       "Signif. codes:  0 '***' 0.001 '**' 0.01 '*' 0.05 '.' 0.1 ' ' 1\n",
       "\n",
       "Residual standard error: 6062 on 1329 degrees of freedom\n",
       "Multiple R-squared:  0.7509,\tAdjusted R-squared:  0.7494 \n",
       "F-statistic: 500.8 on 8 and 1329 DF,  p-value: < 2.2e-16\n"
      ]
     },
     "metadata": {},
     "output_type": "display_data"
    }
   ],
   "source": [
    "summary(model) #모형요약\n",
    "#p-value: < 2.2e-16 0.05보다 작음 \n",
    "#Adjusted R-squared:  0.7494 모형의 설명력 (예측정확도)"
   ]
  },
  {
   "cell_type": "code",
   "execution_count": 7,
   "metadata": {},
   "outputs": [
    {
     "name": "stdout",
     "output_type": "stream",
     "text": [
      "Start:  AIC=23316.43\n",
      "charges ~ age + sex + bmi + children + smoker + region\n",
      "\n",
      "           Df  Sum of Sq        RSS   AIC\n",
      "- sex       1 5.7164e+06 4.8845e+10 23315\n",
      "<none>                   4.8840e+10 23316\n",
      "- region    3 2.3343e+08 4.9073e+10 23317\n",
      "- children  1 4.3755e+08 4.9277e+10 23326\n",
      "- bmi       1 5.1692e+09 5.4009e+10 23449\n",
      "- age       1 1.7124e+10 6.5964e+10 23717\n",
      "- smoker    1 1.2245e+11 1.7129e+11 24993\n",
      "\n",
      "Step:  AIC=23314.58\n",
      "charges ~ age + bmi + children + smoker + region\n",
      "\n",
      "           Df  Sum of Sq        RSS   AIC\n",
      "<none>                   4.8845e+10 23315\n",
      "- region    3 2.3320e+08 4.9078e+10 23315\n",
      "- children  1 4.3596e+08 4.9281e+10 23325\n",
      "- bmi       1 5.1645e+09 5.4010e+10 23447\n",
      "- age       1 1.7151e+10 6.5996e+10 23715\n",
      "- smoker    1 1.2301e+11 1.7186e+11 24996\n"
     ]
    }
   ],
   "source": [
    "reduced<-step(model,direction='backward') #후진제거법"
   ]
  },
  {
   "cell_type": "code",
   "execution_count": 8,
   "metadata": {},
   "outputs": [
    {
     "data": {
      "text/plain": [
       "\n",
       "Call:\n",
       "lm(formula = charges ~ age + bmi + children + smoker + region, \n",
       "    data = df)\n",
       "\n",
       "Residuals:\n",
       "     Min       1Q   Median       3Q      Max \n",
       "-11367.2  -2835.4   -979.7   1361.9  29935.5 \n",
       "\n",
       "Coefficients:\n",
       "                 Estimate Std. Error t value Pr(>|t|)    \n",
       "(Intercept)     -11990.27     978.76 -12.250  < 2e-16 ***\n",
       "age                256.97      11.89  21.610  < 2e-16 ***\n",
       "bmi                338.66      28.56  11.858  < 2e-16 ***\n",
       "children           474.57     137.74   3.445 0.000588 ***\n",
       "smokeryes        23836.30     411.86  57.875  < 2e-16 ***\n",
       "regionnorthwest   -352.18     476.12  -0.740 0.459618    \n",
       "regionsoutheast  -1034.36     478.54  -2.162 0.030834 *  \n",
       "regionsouthwest   -959.37     477.78  -2.008 0.044846 *  \n",
       "---\n",
       "Signif. codes:  0 '***' 0.001 '**' 0.01 '*' 0.05 '.' 0.1 ' ' 1\n",
       "\n",
       "Residual standard error: 6060 on 1330 degrees of freedom\n",
       "Multiple R-squared:  0.7509,\tAdjusted R-squared:  0.7496 \n",
       "F-statistic: 572.7 on 7 and 1330 DF,  p-value: < 2.2e-16\n"
      ]
     },
     "metadata": {},
     "output_type": "display_data"
    }
   ],
   "source": [
    "summary(reduced) #최종모형"
   ]
  },
  {
   "cell_type": "code",
   "execution_count": null,
   "metadata": {},
   "outputs": [],
   "source": []
  },
  {
   "cell_type": "code",
   "execution_count": null,
   "metadata": {},
   "outputs": [],
   "source": []
  },
  {
   "cell_type": "code",
   "execution_count": null,
   "metadata": {},
   "outputs": [],
   "source": []
  },
  {
   "cell_type": "code",
   "execution_count": null,
   "metadata": {},
   "outputs": [],
   "source": []
  }
 ],
 "metadata": {
  "kernelspec": {
   "display_name": "R",
   "language": "R",
   "name": "ir"
  },
  "language_info": {
   "codemirror_mode": "r",
   "file_extension": ".r",
   "mimetype": "text/x-r-source",
   "name": "R",
   "pygments_lexer": "r",
   "version": "3.6.1"
  }
 },
 "nbformat": 4,
 "nbformat_minor": 2
}
