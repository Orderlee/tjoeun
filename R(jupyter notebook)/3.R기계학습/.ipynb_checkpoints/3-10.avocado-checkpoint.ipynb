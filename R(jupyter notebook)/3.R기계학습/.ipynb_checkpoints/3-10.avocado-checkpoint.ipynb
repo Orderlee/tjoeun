{
 "cells": [
  {
   "cell_type": "code",
   "execution_count": 1,
   "metadata": {},
   "outputs": [
    {
     "data": {
      "text/html": [
       "<table>\n",
       "<thead><tr><th scope=col>Total.Volume</th><th scope=col>Total.Bags</th><th scope=col>Small.Bags</th><th scope=col>Large.Bags</th><th scope=col>XLarge.Bags</th><th scope=col>conventional</th><th scope=col>organic</th><th scope=col>AveragePrice</th><th scope=col>Label</th></tr></thead>\n",
       "<tbody>\n",
       "\t<tr><td>29913744 </td><td>9987522  </td><td>6837126.1</td><td>2911554.5</td><td>238841.36</td><td>1        </td><td>0        </td><td>1.41     </td><td>1        </td></tr>\n",
       "\t<tr><td>28785280 </td><td>8944923  </td><td>6592504.0</td><td>2117565.5</td><td>234853.10</td><td>1        </td><td>0        </td><td>1.47     </td><td>1        </td></tr>\n",
       "\t<tr><td>26808411 </td><td>7926179  </td><td>5851814.5</td><td>1855970.2</td><td>218394.57</td><td>1        </td><td>0        </td><td>1.57     </td><td>1        </td></tr>\n",
       "\t<tr><td>26385081 </td><td>8027435  </td><td>6035666.2</td><td>1818832.5</td><td>172936.77</td><td>1        </td><td>0        </td><td>1.56     </td><td>1        </td></tr>\n",
       "\t<tr><td> 3357719 </td><td>1256272  </td><td> 832554.7</td><td> 340048.8</td><td> 83668.14</td><td>1        </td><td>0        </td><td>1.42     </td><td>1        </td></tr>\n",
       "\t<tr><td>25394903 </td><td>7496232  </td><td>5494163.7</td><td>1923561.4</td><td> 78506.59</td><td>1        </td><td>0        </td><td>1.57     </td><td>1        </td></tr>\n",
       "</tbody>\n",
       "</table>\n"
      ],
      "text/latex": [
       "\\begin{tabular}{r|lllllllll}\n",
       " Total.Volume & Total.Bags & Small.Bags & Large.Bags & XLarge.Bags & conventional & organic & AveragePrice & Label\\\\\n",
       "\\hline\n",
       "\t 29913744  & 9987522   & 6837126.1 & 2911554.5 & 238841.36 & 1         & 0         & 1.41      & 1        \\\\\n",
       "\t 28785280  & 8944923   & 6592504.0 & 2117565.5 & 234853.10 & 1         & 0         & 1.47      & 1        \\\\\n",
       "\t 26808411  & 7926179   & 5851814.5 & 1855970.2 & 218394.57 & 1         & 0         & 1.57      & 1        \\\\\n",
       "\t 26385081  & 8027435   & 6035666.2 & 1818832.5 & 172936.77 & 1         & 0         & 1.56      & 1        \\\\\n",
       "\t  3357719  & 1256272   &  832554.7 &  340048.8 &  83668.14 & 1         & 0         & 1.42      & 1        \\\\\n",
       "\t 25394903  & 7496232   & 5494163.7 & 1923561.4 &  78506.59 & 1         & 0         & 1.57      & 1        \\\\\n",
       "\\end{tabular}\n"
      ],
      "text/markdown": [
       "\n",
       "| Total.Volume | Total.Bags | Small.Bags | Large.Bags | XLarge.Bags | conventional | organic | AveragePrice | Label |\n",
       "|---|---|---|---|---|---|---|---|---|\n",
       "| 29913744  | 9987522   | 6837126.1 | 2911554.5 | 238841.36 | 1         | 0         | 1.41      | 1         |\n",
       "| 28785280  | 8944923   | 6592504.0 | 2117565.5 | 234853.10 | 1         | 0         | 1.47      | 1         |\n",
       "| 26808411  | 7926179   | 5851814.5 | 1855970.2 | 218394.57 | 1         | 0         | 1.57      | 1         |\n",
       "| 26385081  | 8027435   | 6035666.2 | 1818832.5 | 172936.77 | 1         | 0         | 1.56      | 1         |\n",
       "|  3357719  | 1256272   |  832554.7 |  340048.8 |  83668.14 | 1         | 0         | 1.42      | 1         |\n",
       "| 25394903  | 7496232   | 5494163.7 | 1923561.4 |  78506.59 | 1         | 0         | 1.57      | 1         |\n",
       "\n"
      ],
      "text/plain": [
       "  Total.Volume Total.Bags Small.Bags Large.Bags XLarge.Bags conventional\n",
       "1 29913744     9987522    6837126.1  2911554.5  238841.36   1           \n",
       "2 28785280     8944923    6592504.0  2117565.5  234853.10   1           \n",
       "3 26808411     7926179    5851814.5  1855970.2  218394.57   1           \n",
       "4 26385081     8027435    6035666.2  1818832.5  172936.77   1           \n",
       "5  3357719     1256272     832554.7   340048.8   83668.14   1           \n",
       "6 25394903     7496232    5494163.7  1923561.4   78506.59   1           \n",
       "  organic AveragePrice Label\n",
       "1 0       1.41         1    \n",
       "2 0       1.47         1    \n",
       "3 0       1.57         1    \n",
       "4 0       1.56         1    \n",
       "5 0       1.42         1    \n",
       "6 0       1.57         1    "
      ]
     },
     "metadata": {},
     "output_type": "display_data"
    }
   ],
   "source": [
    "df<-read.csv('d:/data/avocado/avocado.csv')\n",
    "head(df)"
   ]
  },
  {
   "cell_type": "code",
   "execution_count": 2,
   "metadata": {},
   "outputs": [
    {
     "name": "stderr",
     "output_type": "stream",
     "text": [
      "Warning message:\n",
      "\"package 'dplyr' was built under R version 3.6.2\"\n",
      "Attaching package: 'dplyr'\n",
      "\n",
      "The following objects are masked from 'package:stats':\n",
      "\n",
      "    filter, lag\n",
      "\n",
      "The following objects are masked from 'package:base':\n",
      "\n",
      "    intersect, setdiff, setequal, union\n",
      "\n"
     ]
    },
    {
     "data": {
      "text/html": [
       "<ol class=list-inline>\n",
       "\t<li>18249</li>\n",
       "\t<li>8</li>\n",
       "</ol>\n"
      ],
      "text/latex": [
       "\\begin{enumerate*}\n",
       "\\item 18249\n",
       "\\item 8\n",
       "\\end{enumerate*}\n"
      ],
      "text/markdown": [
       "1. 18249\n",
       "2. 8\n",
       "\n",
       "\n"
      ],
      "text/plain": [
       "[1] 18249     8"
      ]
     },
     "metadata": {},
     "output_type": "display_data"
    },
    {
     "data": {
      "text/plain": [
       "  Total.Volume        Total.Bags         Small.Bags         Large.Bags     \n",
       " Min.   :      85   Min.   :       0   Min.   :       0   Min.   :      0  \n",
       " 1st Qu.:   10839   1st Qu.:    5089   1st Qu.:    2849   1st Qu.:    127  \n",
       " Median :  107377   Median :   39744   Median :   26363   Median :   2648  \n",
       " Mean   :  850644   Mean   :  239639   Mean   :  182195   Mean   :  54338  \n",
       " 3rd Qu.:  432962   3rd Qu.:  110783   3rd Qu.:   83338   3rd Qu.:  22029  \n",
       " Max.   :62505647   Max.   :19373134   Max.   :13384587   Max.   :5719097  \n",
       "  XLarge.Bags        conventional       organic           Label       \n",
       " Min.   :     0.0   Min.   :0.0000   Min.   :0.0000   Min.   :0.0000  \n",
       " 1st Qu.:     0.0   1st Qu.:0.0000   1st Qu.:0.0000   1st Qu.:0.0000  \n",
       " Median :     0.0   Median :1.0000   Median :0.0000   Median :0.0000  \n",
       " Mean   :  3106.4   Mean   :0.5001   Mean   :0.4999   Mean   :0.4705  \n",
       " 3rd Qu.:   132.5   3rd Qu.:1.0000   3rd Qu.:1.0000   3rd Qu.:1.0000  \n",
       " Max.   :551693.7   Max.   :1.0000   Max.   :1.0000   Max.   :1.0000  "
      ]
     },
     "metadata": {},
     "output_type": "display_data"
    }
   ],
   "source": [
    "library(dplyr)\n",
    "df <- df %>% select(-AveragePrice) #분석에 사용하지 않을 필드 제외\n",
    "dim(df)\n",
    "summary(df)"
   ]
  },
  {
   "cell_type": "code",
   "execution_count": 3,
   "metadata": {},
   "outputs": [
    {
     "data": {
      "text/html": [
       "<table>\n",
       "<thead><tr><th></th><th scope=col>Total.Volume</th><th scope=col>Total.Bags</th><th scope=col>Small.Bags</th><th scope=col>Large.Bags</th><th scope=col>XLarge.Bags</th><th scope=col>conventional</th><th scope=col>organic</th><th scope=col>Label</th></tr></thead>\n",
       "<tbody>\n",
       "\t<tr><th scope=row>Total.Volume</th><td> 1.0000000</td><td> 0.9630471</td><td> 0.9672382</td><td> 0.8806396</td><td> 0.7471574</td><td> 0.2324344</td><td>-0.2324344</td><td>-0.1798904</td></tr>\n",
       "\t<tr><th scope=row>Total.Bags</th><td> 0.9630471</td><td> 1.0000000</td><td> 0.9943346</td><td> 0.9430091</td><td> 0.8042326</td><td> 0.2177884</td><td>-0.2177884</td><td>-0.1676067</td></tr>\n",
       "\t<tr><th scope=row>Small.Bags</th><td> 0.9672382</td><td> 0.9943346</td><td> 1.0000000</td><td> 0.9025889</td><td> 0.8068446</td><td> 0.2205353</td><td>-0.2205353</td><td>-0.1674398</td></tr>\n",
       "\t<tr><th scope=row>Large.Bags</th><td> 0.8806396</td><td> 0.9430091</td><td> 0.9025889</td><td> 1.0000000</td><td> 0.7108584</td><td> 0.1931771</td><td>-0.1931771</td><td>-0.1565787</td></tr>\n",
       "\t<tr><th scope=row>XLarge.Bags</th><td> 0.7471574</td><td> 0.8042326</td><td> 0.8068446</td><td> 0.7108584</td><td> 1.0000000</td><td> 0.1754831</td><td>-0.1754831</td><td>-0.1221387</td></tr>\n",
       "\t<tr><th scope=row>conventional</th><td> 0.2324344</td><td> 0.2177884</td><td> 0.2205353</td><td> 0.1931771</td><td> 0.1754831</td><td> 1.0000000</td><td>-1.0000000</td><td>-0.5972794</td></tr>\n",
       "\t<tr><th scope=row>organic</th><td>-0.2324344</td><td>-0.2177884</td><td>-0.2205353</td><td>-0.1931771</td><td>-0.1754831</td><td>-1.0000000</td><td> 1.0000000</td><td> 0.5972794</td></tr>\n",
       "\t<tr><th scope=row>Label</th><td>-0.1798904</td><td>-0.1676067</td><td>-0.1674398</td><td>-0.1565787</td><td>-0.1221387</td><td>-0.5972794</td><td> 0.5972794</td><td> 1.0000000</td></tr>\n",
       "</tbody>\n",
       "</table>\n"
      ],
      "text/latex": [
       "\\begin{tabular}{r|llllllll}\n",
       "  & Total.Volume & Total.Bags & Small.Bags & Large.Bags & XLarge.Bags & conventional & organic & Label\\\\\n",
       "\\hline\n",
       "\tTotal.Volume &  1.0000000 &  0.9630471 &  0.9672382 &  0.8806396 &  0.7471574 &  0.2324344 & -0.2324344 & -0.1798904\\\\\n",
       "\tTotal.Bags &  0.9630471 &  1.0000000 &  0.9943346 &  0.9430091 &  0.8042326 &  0.2177884 & -0.2177884 & -0.1676067\\\\\n",
       "\tSmall.Bags &  0.9672382 &  0.9943346 &  1.0000000 &  0.9025889 &  0.8068446 &  0.2205353 & -0.2205353 & -0.1674398\\\\\n",
       "\tLarge.Bags &  0.8806396 &  0.9430091 &  0.9025889 &  1.0000000 &  0.7108584 &  0.1931771 & -0.1931771 & -0.1565787\\\\\n",
       "\tXLarge.Bags &  0.7471574 &  0.8042326 &  0.8068446 &  0.7108584 &  1.0000000 &  0.1754831 & -0.1754831 & -0.1221387\\\\\n",
       "\tconventional &  0.2324344 &  0.2177884 &  0.2205353 &  0.1931771 &  0.1754831 &  1.0000000 & -1.0000000 & -0.5972794\\\\\n",
       "\torganic & -0.2324344 & -0.2177884 & -0.2205353 & -0.1931771 & -0.1754831 & -1.0000000 &  1.0000000 &  0.5972794\\\\\n",
       "\tLabel & -0.1798904 & -0.1676067 & -0.1674398 & -0.1565787 & -0.1221387 & -0.5972794 &  0.5972794 &  1.0000000\\\\\n",
       "\\end{tabular}\n"
      ],
      "text/markdown": [
       "\n",
       "| <!--/--> | Total.Volume | Total.Bags | Small.Bags | Large.Bags | XLarge.Bags | conventional | organic | Label |\n",
       "|---|---|---|---|---|---|---|---|---|\n",
       "| Total.Volume |  1.0000000 |  0.9630471 |  0.9672382 |  0.8806396 |  0.7471574 |  0.2324344 | -0.2324344 | -0.1798904 |\n",
       "| Total.Bags |  0.9630471 |  1.0000000 |  0.9943346 |  0.9430091 |  0.8042326 |  0.2177884 | -0.2177884 | -0.1676067 |\n",
       "| Small.Bags |  0.9672382 |  0.9943346 |  1.0000000 |  0.9025889 |  0.8068446 |  0.2205353 | -0.2205353 | -0.1674398 |\n",
       "| Large.Bags |  0.8806396 |  0.9430091 |  0.9025889 |  1.0000000 |  0.7108584 |  0.1931771 | -0.1931771 | -0.1565787 |\n",
       "| XLarge.Bags |  0.7471574 |  0.8042326 |  0.8068446 |  0.7108584 |  1.0000000 |  0.1754831 | -0.1754831 | -0.1221387 |\n",
       "| conventional |  0.2324344 |  0.2177884 |  0.2205353 |  0.1931771 |  0.1754831 |  1.0000000 | -1.0000000 | -0.5972794 |\n",
       "| organic | -0.2324344 | -0.2177884 | -0.2205353 | -0.1931771 | -0.1754831 | -1.0000000 |  1.0000000 |  0.5972794 |\n",
       "| Label | -0.1798904 | -0.1676067 | -0.1674398 | -0.1565787 | -0.1221387 | -0.5972794 |  0.5972794 |  1.0000000 |\n",
       "\n"
      ],
      "text/plain": [
       "             Total.Volume Total.Bags Small.Bags Large.Bags XLarge.Bags\n",
       "Total.Volume  1.0000000    0.9630471  0.9672382  0.8806396  0.7471574 \n",
       "Total.Bags    0.9630471    1.0000000  0.9943346  0.9430091  0.8042326 \n",
       "Small.Bags    0.9672382    0.9943346  1.0000000  0.9025889  0.8068446 \n",
       "Large.Bags    0.8806396    0.9430091  0.9025889  1.0000000  0.7108584 \n",
       "XLarge.Bags   0.7471574    0.8042326  0.8068446  0.7108584  1.0000000 \n",
       "conventional  0.2324344    0.2177884  0.2205353  0.1931771  0.1754831 \n",
       "organic      -0.2324344   -0.2177884 -0.2205353 -0.1931771 -0.1754831 \n",
       "Label        -0.1798904   -0.1676067 -0.1674398 -0.1565787 -0.1221387 \n",
       "             conventional organic    Label     \n",
       "Total.Volume  0.2324344   -0.2324344 -0.1798904\n",
       "Total.Bags    0.2177884   -0.2177884 -0.1676067\n",
       "Small.Bags    0.2205353   -0.2205353 -0.1674398\n",
       "Large.Bags    0.1931771   -0.1931771 -0.1565787\n",
       "XLarge.Bags   0.1754831   -0.1754831 -0.1221387\n",
       "conventional  1.0000000   -1.0000000 -0.5972794\n",
       "organic      -1.0000000    1.0000000  0.5972794\n",
       "Label        -0.5972794    0.5972794  1.0000000"
      ]
     },
     "metadata": {},
     "output_type": "display_data"
    }
   ],
   "source": [
    "(corrmatrix <- cor(df))"
   ]
  },
  {
   "cell_type": "code",
   "execution_count": 4,
   "metadata": {},
   "outputs": [
    {
     "name": "stderr",
     "output_type": "stream",
     "text": [
      "Warning message:\n",
      "\"package 'corrplot' was built under R version 3.6.2\"corrplot 0.84 loaded\n"
     ]
    },
    {
     "data": {
      "image/png": "[encoded data removed]",
      "text/plain": [
       "Plot with title \"\""
      ]
     },
     "metadata": {},
     "output_type": "display_data"
    }
   ],
   "source": [
    "library(corrplot)\n",
    "corrplot(cor(df),method='circle')"
   ]
  },
  {
   "cell_type": "code",
   "execution_count": 5,
   "metadata": {},
   "outputs": [
    {
     "data": {
      "text/plain": [
       "\n",
       "   0    1 \n",
       "9662 8587 "
      ]
     },
     "metadata": {},
     "output_type": "display_data"
    },
    {
     "data": {
      "image/png": "[encoded data removed]",
      "text/plain": [
       "plot without title"
      ]
     },
     "metadata": {},
     "output_type": "display_data"
    }
   ],
   "source": [
    "(tbl<-table(df$Label))\n",
    "barplot(tbl,beside=T,legend=T,col=rainbow(2))"
   ]
  },
  {
   "cell_type": "code",
   "execution_count": 6,
   "metadata": {},
   "outputs": [
    {
     "name": "stderr",
     "output_type": "stream",
     "text": [
      "Warning message:\n",
      "\"package 'ROSE' was built under R version 3.6.2\"Loaded ROSE 0.0-3\n",
      "\n"
     ]
    },
    {
     "data": {
      "text/plain": [
       "\n",
       "   0    1 \n",
       "8587 8587 "
      ]
     },
     "metadata": {},
     "output_type": "display_data"
    }
   ],
   "source": [
    "library(ROSE)\n",
    "df_samp <- ovun.sample(Label ~ . , df, seed=1, method='under',\n",
    "                      N=8587*2)$data\n",
    "(tbl<-table(df_samp$Label))"
   ]
  },
  {
   "cell_type": "code",
   "execution_count": 24,
   "metadata": {},
   "outputs": [
    {
     "name": "stderr",
     "output_type": "stream",
     "text": [
      "Warning message:\n",
      "\"package 'reshape' was built under R version 3.6.2\"\n",
      "Attaching package: 'reshape'\n",
      "\n",
      "The following object is masked from 'package:dplyr':\n",
      "\n",
      "    rename\n",
      "\n",
      "Using  as id variables\n"
     ]
    },
    {
     "data": {
      "text/html": [
       "<table>\n",
       "<thead><tr><th scope=col>variable</th><th scope=col>value</th></tr></thead>\n",
       "<tbody>\n",
       "\t<tr><td>Total.Volume</td><td>6118107.22  </td></tr>\n",
       "\t<tr><td>Total.Volume</td><td> 218957.86  </td></tr>\n",
       "\t<tr><td>Total.Volume</td><td> 117941.49  </td></tr>\n",
       "\t<tr><td>Total.Volume</td><td>   4143.28  </td></tr>\n",
       "\t<tr><td>Total.Volume</td><td> 112192.95  </td></tr>\n",
       "\t<tr><td>Total.Volume</td><td> 133142.97  </td></tr>\n",
       "\t<tr><td>Total.Volume</td><td> 160413.49  </td></tr>\n",
       "\t<tr><td>Total.Volume</td><td>  86908.34  </td></tr>\n",
       "\t<tr><td>Total.Volume</td><td> 330371.24  </td></tr>\n",
       "\t<tr><td>Total.Volume</td><td>  49143.63  </td></tr>\n",
       "\t<tr><td>Total.Volume</td><td> 186723.32  </td></tr>\n",
       "\t<tr><td>Total.Volume</td><td> 311068.54  </td></tr>\n",
       "\t<tr><td>Total.Volume</td><td>   8323.19  </td></tr>\n",
       "\t<tr><td>Total.Volume</td><td>  17296.85  </td></tr>\n",
       "\t<tr><td>Total.Volume</td><td> 205954.04  </td></tr>\n",
       "\t<tr><td>Total.Volume</td><td> 339890.13  </td></tr>\n",
       "\t<tr><td>Total.Volume</td><td> 113578.24  </td></tr>\n",
       "\t<tr><td>Total.Volume</td><td> 600669.78  </td></tr>\n",
       "\t<tr><td>Total.Volume</td><td> 670051.41  </td></tr>\n",
       "\t<tr><td>Total.Volume</td><td> 411450.85  </td></tr>\n",
       "\t<tr><td>Total.Volume</td><td>  16296.42  </td></tr>\n",
       "\t<tr><td>Total.Volume</td><td>1560845.55  </td></tr>\n",
       "\t<tr><td>Total.Volume</td><td> 268328.36  </td></tr>\n",
       "\t<tr><td>Total.Volume</td><td> 102461.61  </td></tr>\n",
       "\t<tr><td>Total.Volume</td><td> 584480.72  </td></tr>\n",
       "\t<tr><td>Total.Volume</td><td> 311603.00  </td></tr>\n",
       "\t<tr><td>Total.Volume</td><td> 671667.78  </td></tr>\n",
       "\t<tr><td>Total.Volume</td><td> 116995.68  </td></tr>\n",
       "\t<tr><td>Total.Volume</td><td> 357813.41  </td></tr>\n",
       "\t<tr><td>Total.Volume</td><td> 173741.30  </td></tr>\n",
       "\t<tr><td>...</td><td>...</td></tr>\n",
       "\t<tr><td>organic</td><td>1      </td></tr>\n",
       "\t<tr><td>organic</td><td>1      </td></tr>\n",
       "\t<tr><td>organic</td><td>1      </td></tr>\n",
       "\t<tr><td>organic</td><td>1      </td></tr>\n",
       "\t<tr><td>organic</td><td>1      </td></tr>\n",
       "\t<tr><td>organic</td><td>1      </td></tr>\n",
       "\t<tr><td>organic</td><td>1      </td></tr>\n",
       "\t<tr><td>organic</td><td>1      </td></tr>\n",
       "\t<tr><td>organic</td><td>1      </td></tr>\n",
       "\t<tr><td>organic</td><td>1      </td></tr>\n",
       "\t<tr><td>organic</td><td>1      </td></tr>\n",
       "\t<tr><td>organic</td><td>1      </td></tr>\n",
       "\t<tr><td>organic</td><td>1      </td></tr>\n",
       "\t<tr><td>organic</td><td>1      </td></tr>\n",
       "\t<tr><td>organic</td><td>1      </td></tr>\n",
       "\t<tr><td>organic</td><td>1      </td></tr>\n",
       "\t<tr><td>organic</td><td>1      </td></tr>\n",
       "\t<tr><td>organic</td><td>1      </td></tr>\n",
       "\t<tr><td>organic</td><td>1      </td></tr>\n",
       "\t<tr><td>organic</td><td>1      </td></tr>\n",
       "\t<tr><td>organic</td><td>1      </td></tr>\n",
       "\t<tr><td>organic</td><td>1      </td></tr>\n",
       "\t<tr><td>organic</td><td>1      </td></tr>\n",
       "\t<tr><td>organic</td><td>1      </td></tr>\n",
       "\t<tr><td>organic</td><td>1      </td></tr>\n",
       "\t<tr><td>organic</td><td>1      </td></tr>\n",
       "\t<tr><td>organic</td><td>1      </td></tr>\n",
       "\t<tr><td>organic</td><td>1      </td></tr>\n",
       "\t<tr><td>organic</td><td>1      </td></tr>\n",
       "\t<tr><td>organic</td><td>1      </td></tr>\n",
       "</tbody>\n",
       "</table>\n"
      ],
      "text/latex": [
       "\\begin{tabular}{r|ll}\n",
       " variable & value\\\\\n",
       "\\hline\n",
       "\t Total.Volume & 6118107.22  \\\\\n",
       "\t Total.Volume &  218957.86  \\\\\n",
       "\t Total.Volume &  117941.49  \\\\\n",
       "\t Total.Volume &    4143.28  \\\\\n",
       "\t Total.Volume &  112192.95  \\\\\n",
       "\t Total.Volume &  133142.97  \\\\\n",
       "\t Total.Volume &  160413.49  \\\\\n",
       "\t Total.Volume &   86908.34  \\\\\n",
       "\t Total.Volume &  330371.24  \\\\\n",
       "\t Total.Volume &   49143.63  \\\\\n",
       "\t Total.Volume &  186723.32  \\\\\n",
       "\t Total.Volume &  311068.54  \\\\\n",
       "\t Total.Volume &    8323.19  \\\\\n",
       "\t Total.Volume &   17296.85  \\\\\n",
       "\t Total.Volume &  205954.04  \\\\\n",
       "\t Total.Volume &  339890.13  \\\\\n",
       "\t Total.Volume &  113578.24  \\\\\n",
       "\t Total.Volume &  600669.78  \\\\\n",
       "\t Total.Volume &  670051.41  \\\\\n",
       "\t Total.Volume &  411450.85  \\\\\n",
       "\t Total.Volume &   16296.42  \\\\\n",
       "\t Total.Volume & 1560845.55  \\\\\n",
       "\t Total.Volume &  268328.36  \\\\\n",
       "\t Total.Volume &  102461.61  \\\\\n",
       "\t Total.Volume &  584480.72  \\\\\n",
       "\t Total.Volume &  311603.00  \\\\\n",
       "\t Total.Volume &  671667.78  \\\\\n",
       "\t Total.Volume &  116995.68  \\\\\n",
       "\t Total.Volume &  357813.41  \\\\\n",
       "\t Total.Volume &  173741.30  \\\\\n",
       "\t ... & ...\\\\\n",
       "\t organic & 1      \\\\\n",
       "\t organic & 1      \\\\\n",
       "\t organic & 1      \\\\\n",
       "\t organic & 1      \\\\\n",
       "\t organic & 1      \\\\\n",
       "\t organic & 1      \\\\\n",
       "\t organic & 1      \\\\\n",
       "\t organic & 1      \\\\\n",
       "\t organic & 1      \\\\\n",
       "\t organic & 1      \\\\\n",
       "\t organic & 1      \\\\\n",
       "\t organic & 1      \\\\\n",
       "\t organic & 1      \\\\\n",
       "\t organic & 1      \\\\\n",
       "\t organic & 1      \\\\\n",
       "\t organic & 1      \\\\\n",
       "\t organic & 1      \\\\\n",
       "\t organic & 1      \\\\\n",
       "\t organic & 1      \\\\\n",
       "\t organic & 1      \\\\\n",
       "\t organic & 1      \\\\\n",
       "\t organic & 1      \\\\\n",
       "\t organic & 1      \\\\\n",
       "\t organic & 1      \\\\\n",
       "\t organic & 1      \\\\\n",
       "\t organic & 1      \\\\\n",
       "\t organic & 1      \\\\\n",
       "\t organic & 1      \\\\\n",
       "\t organic & 1      \\\\\n",
       "\t organic & 1      \\\\\n",
       "\\end{tabular}\n"
      ],
      "text/markdown": [
       "\n",
       "| variable | value |\n",
       "|---|---|\n",
       "| Total.Volume | 6118107.22   |\n",
       "| Total.Volume |  218957.86   |\n",
       "| Total.Volume |  117941.49   |\n",
       "| Total.Volume |    4143.28   |\n",
       "| Total.Volume |  112192.95   |\n",
       "| Total.Volume |  133142.97   |\n",
       "| Total.Volume |  160413.49   |\n",
       "| Total.Volume |   86908.34   |\n",
       "| Total.Volume |  330371.24   |\n",
       "| Total.Volume |   49143.63   |\n",
       "| Total.Volume |  186723.32   |\n",
       "| Total.Volume |  311068.54   |\n",
       "| Total.Volume |    8323.19   |\n",
       "| Total.Volume |   17296.85   |\n",
       "| Total.Volume |  205954.04   |\n",
       "| Total.Volume |  339890.13   |\n",
       "| Total.Volume |  113578.24   |\n",
       "| Total.Volume |  600669.78   |\n",
       "| Total.Volume |  670051.41   |\n",
       "| Total.Volume |  411450.85   |\n",
       "| Total.Volume |   16296.42   |\n",
       "| Total.Volume | 1560845.55   |\n",
       "| Total.Volume |  268328.36   |\n",
       "| Total.Volume |  102461.61   |\n",
       "| Total.Volume |  584480.72   |\n",
       "| Total.Volume |  311603.00   |\n",
       "| Total.Volume |  671667.78   |\n",
       "| Total.Volume |  116995.68   |\n",
       "| Total.Volume |  357813.41   |\n",
       "| Total.Volume |  173741.30   |\n",
       "| ... | ... |\n",
       "| organic | 1       |\n",
       "| organic | 1       |\n",
       "| organic | 1       |\n",
       "| organic | 1       |\n",
       "| organic | 1       |\n",
       "| organic | 1       |\n",
       "| organic | 1       |\n",
       "| organic | 1       |\n",
       "| organic | 1       |\n",
       "| organic | 1       |\n",
       "| organic | 1       |\n",
       "| organic | 1       |\n",
       "| organic | 1       |\n",
       "| organic | 1       |\n",
       "| organic | 1       |\n",
       "| organic | 1       |\n",
       "| organic | 1       |\n",
       "| organic | 1       |\n",
       "| organic | 1       |\n",
       "| organic | 1       |\n",
       "| organic | 1       |\n",
       "| organic | 1       |\n",
       "| organic | 1       |\n",
       "| organic | 1       |\n",
       "| organic | 1       |\n",
       "| organic | 1       |\n",
       "| organic | 1       |\n",
       "| organic | 1       |\n",
       "| organic | 1       |\n",
       "| organic | 1       |\n",
       "\n"
      ],
      "text/plain": [
       "      variable     value     \n",
       "1     Total.Volume 6118107.22\n",
       "2     Total.Volume  218957.86\n",
       "3     Total.Volume  117941.49\n",
       "4     Total.Volume    4143.28\n",
       "5     Total.Volume  112192.95\n",
       "6     Total.Volume  133142.97\n",
       "7     Total.Volume  160413.49\n",
       "8     Total.Volume   86908.34\n",
       "9     Total.Volume  330371.24\n",
       "10    Total.Volume   49143.63\n",
       "11    Total.Volume  186723.32\n",
       "12    Total.Volume  311068.54\n",
       "13    Total.Volume    8323.19\n",
       "14    Total.Volume   17296.85\n",
       "15    Total.Volume  205954.04\n",
       "16    Total.Volume  339890.13\n",
       "17    Total.Volume  113578.24\n",
       "18    Total.Volume  600669.78\n",
       "19    Total.Volume  670051.41\n",
       "20    Total.Volume  411450.85\n",
       "21    Total.Volume   16296.42\n",
       "22    Total.Volume 1560845.55\n",
       "23    Total.Volume  268328.36\n",
       "24    Total.Volume  102461.61\n",
       "25    Total.Volume  584480.72\n",
       "26    Total.Volume  311603.00\n",
       "27    Total.Volume  671667.78\n",
       "28    Total.Volume  116995.68\n",
       "29    Total.Volume  357813.41\n",
       "30    Total.Volume  173741.30\n",
       "...   ...          ...       \n",
       "96151 organic      1         \n",
       "96152 organic      1         \n",
       "96153 organic      1         \n",
       "96154 organic      1         \n",
       "96155 organic      1         \n",
       "96156 organic      1         \n",
       "96157 organic      1         \n",
       "96158 organic      1         \n",
       "96159 organic      1         \n",
       "96160 organic      1         \n",
       "96161 organic      1         \n",
       "96162 organic      1         \n",
       "96163 organic      1         \n",
       "96164 organic      1         \n",
       "96165 organic      1         \n",
       "96166 organic      1         \n",
       "96167 organic      1         \n",
       "96168 organic      1         \n",
       "96169 organic      1         \n",
       "96170 organic      1         \n",
       "96171 organic      1         \n",
       "96172 organic      1         \n",
       "96173 organic      1         \n",
       "96174 organic      1         \n",
       "96175 organic      1         \n",
       "96176 organic      1         \n",
       "96177 organic      1         \n",
       "96178 organic      1         \n",
       "96179 organic      1         \n",
       "96180 organic      1         "
      ]
     },
     "metadata": {},
     "output_type": "display_data"
    },
    {
     "data": {
      "image/png": "[encoded data removed]",
      "text/plain": [
       "plot without title"
      ]
     },
     "metadata": {},
     "output_type": "display_data"
    }
   ],
   "source": [
    "library(reshape)\n",
    "meltData <- melt(X_train)\n",
    "meltData\n",
    "boxplot(data=meltData, value~variable)"
   ]
  },
  {
   "cell_type": "code",
   "execution_count": 20,
   "metadata": {},
   "outputs": [],
   "source": [
    "library(caret)\n",
    "set.seed(123)\n",
    "idx_train<-createDataPartition(y=df_samp$Label,p=0.8,list=F)\n",
    "train<-df_samp[idx_train,] #학습용\n",
    "X_train<-train[,-8]\n",
    "y_train<-train[,8]\n",
    "test<-df_samp[-idx_train,] #검증용\n",
    "X_test<-test[,-8]\n",
    "y_test<-test[,8]"
   ]
  },
  {
   "cell_type": "code",
   "execution_count": 21,
   "metadata": {},
   "outputs": [],
   "source": [
    "model <-glm(Label ~. , data=train, family=binomial) #로지스틱회귀모형"
   ]
  },
  {
   "cell_type": "code",
   "execution_count": 22,
   "metadata": {},
   "outputs": [
    {
     "data": {
      "text/plain": [
       "\n",
       "Call:\n",
       "glm(formula = Label ~ ., family = binomial, data = train)\n",
       "\n",
       "Deviance Residuals: \n",
       "    Min       1Q   Median       3Q      Max  \n",
       "-1.8110  -0.6869   0.3060   0.6826   3.2876  \n",
       "\n",
       "Coefficients: (1 not defined because of singularities)\n",
       "               Estimate Std. Error z value Pr(>|z|)    \n",
       "(Intercept)   1.339e+00  2.941e-02  45.551  < 2e-16 ***\n",
       "Total.Volume -3.123e-07  6.125e-08  -5.099 3.42e-07 ***\n",
       "Total.Bags    2.391e-02  3.675e-01   0.065    0.948    \n",
       "Small.Bags   -2.390e-02  3.675e-01  -0.065    0.948    \n",
       "Large.Bags   -2.391e-02  3.675e-01  -0.065    0.948    \n",
       "XLarge.Bags  -2.389e-02  3.675e-01  -0.065    0.948    \n",
       "conventional -2.637e+00  4.574e-02 -57.646  < 2e-16 ***\n",
       "organic              NA         NA      NA       NA    \n",
       "---\n",
       "Signif. codes:  0 '***' 0.001 '**' 0.01 '*' 0.05 '.' 0.1 ' ' 1\n",
       "\n",
       "(Dispersion parameter for binomial family taken to be 1)\n",
       "\n",
       "    Null deviance: 19048  on 13739  degrees of freedom\n",
       "Residual deviance: 13650  on 13733  degrees of freedom\n",
       "AIC: 13664\n",
       "\n",
       "Number of Fisher Scoring iterations: 6\n"
      ]
     },
     "metadata": {},
     "output_type": "display_data"
    }
   ],
   "source": [
    "summary(model)"
   ]
  },
  {
   "cell_type": "code",
   "execution_count": 23,
   "metadata": {},
   "outputs": [
    {
     "data": {
      "text/html": [
       "<dl class=dl-horizontal>\n",
       "\t<dt>(Intercept)</dt>\n",
       "\t\t<dd>1.33947828443815</dd>\n",
       "\t<dt>Total.Volume</dt>\n",
       "\t\t<dd>-3.12311238338589e-07</dd>\n",
       "\t<dt>Total.Bags</dt>\n",
       "\t\t<dd>0.0239053655825836</dd>\n",
       "\t<dt>Small.Bags</dt>\n",
       "\t\t<dd>-0.0239045659054035</dd>\n",
       "\t<dt>Large.Bags</dt>\n",
       "\t\t<dd>-0.0239060238659606</dd>\n",
       "\t<dt>XLarge.Bags</dt>\n",
       "\t\t<dd>-0.023893345726905</dd>\n",
       "\t<dt>conventional</dt>\n",
       "\t\t<dd>-2.63663581921858</dd>\n",
       "\t<dt>organic</dt>\n",
       "\t\t<dd>&lt;NA&gt;</dd>\n",
       "</dl>\n"
      ],
      "text/latex": [
       "\\begin{description*}\n",
       "\\item[(Intercept)] 1.33947828443815\n",
       "\\item[Total.Volume] -3.12311238338589e-07\n",
       "\\item[Total.Bags] 0.0239053655825836\n",
       "\\item[Small.Bags] -0.0239045659054035\n",
       "\\item[Large.Bags] -0.0239060238659606\n",
       "\\item[XLarge.Bags] -0.023893345726905\n",
       "\\item[conventional] -2.63663581921858\n",
       "\\item[organic] <NA>\n",
       "\\end{description*}\n"
      ],
      "text/markdown": [
       "(Intercept)\n",
       ":   1.33947828443815Total.Volume\n",
       ":   -3.12311238338589e-07Total.Bags\n",
       ":   0.0239053655825836Small.Bags\n",
       ":   -0.0239045659054035Large.Bags\n",
       ":   -0.0239060238659606XLarge.Bags\n",
       ":   -0.023893345726905conventional\n",
       ":   -2.63663581921858organic\n",
       ":   &lt;NA&gt;\n",
       "\n"
      ],
      "text/plain": [
       "  (Intercept)  Total.Volume    Total.Bags    Small.Bags    Large.Bags \n",
       " 1.339478e+00 -3.123112e-07  2.390537e-02 -2.390457e-02 -2.390602e-02 \n",
       "  XLarge.Bags  conventional       organic \n",
       "-2.389335e-02 -2.636636e+00            NA "
      ]
     },
     "metadata": {},
     "output_type": "display_data"
    }
   ],
   "source": [
    " (coef1 <- coef(model)) #회귀계수"
   ]
  },
  {
   "cell_type": "code",
   "execution_count": 19,
   "metadata": {},
   "outputs": [
    {
     "name": "stderr",
     "output_type": "stream",
     "text": [
      "Warning message in predict.lm(object, newdata, se.fit, scale = 1, type = if (type == :\n",
      "\"prediction from a rank-deficient fit may be misleading\""
     ]
    },
    {
     "data": {
      "text/html": [
       "<dl class=dl-horizontal>\n",
       "\t<dt>12</dt>\n",
       "\t\t<dd>1</dd>\n",
       "\t<dt>24</dt>\n",
       "\t\t<dd>0</dd>\n",
       "\t<dt>29</dt>\n",
       "\t\t<dd>0</dd>\n",
       "\t<dt>33</dt>\n",
       "\t\t<dd>0</dd>\n",
       "\t<dt>37</dt>\n",
       "\t\t<dd>0</dd>\n",
       "\t<dt>40</dt>\n",
       "\t\t<dd>0</dd>\n",
       "</dl>\n"
      ],
      "text/latex": [
       "\\begin{description*}\n",
       "\\item[12] 1\n",
       "\\item[24] 0\n",
       "\\item[29] 0\n",
       "\\item[33] 0\n",
       "\\item[37] 0\n",
       "\\item[40] 0\n",
       "\\end{description*}\n"
      ],
      "text/markdown": [
       "12\n",
       ":   124\n",
       ":   029\n",
       ":   033\n",
       ":   037\n",
       ":   040\n",
       ":   0\n",
       "\n"
      ],
      "text/plain": [
       "12 24 29 33 37 40 \n",
       " 1  0  0  0  0  0 "
      ]
     },
     "metadata": {},
     "output_type": "display_data"
    },
    {
     "data": {
      "text/html": [
       "<ol class=list-inline>\n",
       "\t<li>0</li>\n",
       "\t<li>0</li>\n",
       "\t<li>0</li>\n",
       "\t<li>0</li>\n",
       "\t<li>0</li>\n",
       "\t<li>0</li>\n",
       "</ol>\n"
      ],
      "text/latex": [
       "\\begin{enumerate*}\n",
       "\\item 0\n",
       "\\item 0\n",
       "\\item 0\n",
       "\\item 0\n",
       "\\item 0\n",
       "\\item 0\n",
       "\\end{enumerate*}\n"
      ],
      "text/markdown": [
       "1. 0\n",
       "2. 0\n",
       "3. 0\n",
       "4. 0\n",
       "5. 0\n",
       "6. 0\n",
       "\n",
       "\n"
      ],
      "text/plain": [
       "[1] 0 0 0 0 0 0"
      ]
     },
     "metadata": {},
     "output_type": "display_data"
    }
   ],
   "source": [
    "pred <- predict(model, newdata=X_test, type='response')\n",
    "result<- ifelse(pred>0.5,1,0)\n",
    "head(result)\n",
    "head(y_test)"
   ]
  },
  {
   "cell_type": "code",
   "execution_count": 15,
   "metadata": {},
   "outputs": [
    {
     "data": {
      "text/html": [
       "0.80110658124636"
      ],
      "text/latex": [
       "0.80110658124636"
      ],
      "text/markdown": [
       "0.80110658124636"
      ],
      "text/plain": [
       "[1] 0.8011066"
      ]
     },
     "metadata": {},
     "output_type": "display_data"
    }
   ],
   "source": [
    "mean(y_test == result) #예측정확도"
   ]
  },
  {
   "cell_type": "code",
   "execution_count": 16,
   "metadata": {},
   "outputs": [
    {
     "data": {
      "text/plain": [
       "      result\n",
       "y_test    0    1\n",
       "     0 1326  391\n",
       "     1  292 1425"
      ]
     },
     "metadata": {},
     "output_type": "display_data"
    }
   ],
   "source": [
    "table(y_test,result) #오분류표"
   ]
  },
  {
   "cell_type": "code",
   "execution_count": null,
   "metadata": {},
   "outputs": [],
   "source": []
  },
  {
   "cell_type": "code",
   "execution_count": null,
   "metadata": {},
   "outputs": [],
   "source": []
  },
  {
   "cell_type": "code",
   "execution_count": null,
   "metadata": {},
   "outputs": [],
   "source": []
  },
  {
   "cell_type": "code",
   "execution_count": null,
   "metadata": {},
   "outputs": [],
   "source": []
  }
 ],
 "metadata": {
  "kernelspec": {
   "display_name": "R",
   "language": "R",
   "name": "ir"
  },
  "language_info": {
   "codemirror_mode": "r",
   "file_extension": ".r",
   "mimetype": "text/x-r-source",
   "name": "R",
   "pygments_lexer": "r",
   "version": "3.6.1"
  }
 },
 "nbformat": 4,
 "nbformat_minor": 2
}
