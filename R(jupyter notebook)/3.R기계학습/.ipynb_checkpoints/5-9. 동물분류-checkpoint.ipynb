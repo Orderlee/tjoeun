{
 "cells": [
  {
   "cell_type": "code",
   "execution_count": 2,
   "metadata": {},
   "outputs": [
    {
     "data": {
      "text/html": [
       "<table>\n",
       "<thead><tr><th scope=col>animal_name</th><th scope=col>hair</th><th scope=col>feathers</th><th scope=col>eggs</th><th scope=col>milk</th><th scope=col>airborne</th><th scope=col>aquatic</th><th scope=col>predator</th><th scope=col>toothed</th><th scope=col>backbone</th><th scope=col>breathes</th><th scope=col>venomous</th><th scope=col>fins</th><th scope=col>legs</th><th scope=col>tail</th><th scope=col>domestic</th><th scope=col>catsize</th><th scope=col>class_type</th></tr></thead>\n",
       "<tbody>\n",
       "\t<tr><td>calf   </td><td>1      </td><td>0      </td><td>0      </td><td>1      </td><td>0      </td><td>0      </td><td>0      </td><td>1      </td><td>1      </td><td>1      </td><td>0      </td><td>0      </td><td>4      </td><td>1      </td><td>1      </td><td>1      </td><td>1      </td></tr>\n",
       "\t<tr><td>carp   </td><td>0      </td><td>0      </td><td>1      </td><td>0      </td><td>0      </td><td>1      </td><td>0      </td><td>1      </td><td>1      </td><td>0      </td><td>0      </td><td>1      </td><td>0      </td><td>1      </td><td>1      </td><td>0      </td><td>4      </td></tr>\n",
       "\t<tr><td>cavy   </td><td>1      </td><td>0      </td><td>0      </td><td>1      </td><td>0      </td><td>0      </td><td>0      </td><td>1      </td><td>1      </td><td>1      </td><td>0      </td><td>0      </td><td>4      </td><td>0      </td><td>1      </td><td>0      </td><td>1      </td></tr>\n",
       "\t<tr><td>chicken</td><td>0      </td><td>1      </td><td>1      </td><td>0      </td><td>1      </td><td>0      </td><td>0      </td><td>0      </td><td>1      </td><td>1      </td><td>0      </td><td>0      </td><td>2      </td><td>1      </td><td>1      </td><td>0      </td><td>2      </td></tr>\n",
       "\t<tr><td>dove   </td><td>0      </td><td>1      </td><td>1      </td><td>0      </td><td>1      </td><td>0      </td><td>0      </td><td>0      </td><td>1      </td><td>1      </td><td>0      </td><td>0      </td><td>2      </td><td>1      </td><td>1      </td><td>0      </td><td>2      </td></tr>\n",
       "\t<tr><td>girl   </td><td>1      </td><td>0      </td><td>0      </td><td>1      </td><td>0      </td><td>0      </td><td>1      </td><td>1      </td><td>1      </td><td>1      </td><td>0      </td><td>0      </td><td>2      </td><td>0      </td><td>1      </td><td>1      </td><td>1      </td></tr>\n",
       "</tbody>\n",
       "</table>\n"
      ],
      "text/latex": [
       "\\begin{tabular}{r|llllllllllllllllll}\n",
       " animal\\_name & hair & feathers & eggs & milk & airborne & aquatic & predator & toothed & backbone & breathes & venomous & fins & legs & tail & domestic & catsize & class\\_type\\\\\n",
       "\\hline\n",
       "\t calf    & 1       & 0       & 0       & 1       & 0       & 0       & 0       & 1       & 1       & 1       & 0       & 0       & 4       & 1       & 1       & 1       & 1      \\\\\n",
       "\t carp    & 0       & 0       & 1       & 0       & 0       & 1       & 0       & 1       & 1       & 0       & 0       & 1       & 0       & 1       & 1       & 0       & 4      \\\\\n",
       "\t cavy    & 1       & 0       & 0       & 1       & 0       & 0       & 0       & 1       & 1       & 1       & 0       & 0       & 4       & 0       & 1       & 0       & 1      \\\\\n",
       "\t chicken & 0       & 1       & 1       & 0       & 1       & 0       & 0       & 0       & 1       & 1       & 0       & 0       & 2       & 1       & 1       & 0       & 2      \\\\\n",
       "\t dove    & 0       & 1       & 1       & 0       & 1       & 0       & 0       & 0       & 1       & 1       & 0       & 0       & 2       & 1       & 1       & 0       & 2      \\\\\n",
       "\t girl    & 1       & 0       & 0       & 1       & 0       & 0       & 1       & 1       & 1       & 1       & 0       & 0       & 2       & 0       & 1       & 1       & 1      \\\\\n",
       "\\end{tabular}\n"
      ],
      "text/markdown": [
       "\n",
       "| animal_name | hair | feathers | eggs | milk | airborne | aquatic | predator | toothed | backbone | breathes | venomous | fins | legs | tail | domestic | catsize | class_type |\n",
       "|---|---|---|---|---|---|---|---|---|---|---|---|---|---|---|---|---|---|\n",
       "| calf    | 1       | 0       | 0       | 1       | 0       | 0       | 0       | 1       | 1       | 1       | 0       | 0       | 4       | 1       | 1       | 1       | 1       |\n",
       "| carp    | 0       | 0       | 1       | 0       | 0       | 1       | 0       | 1       | 1       | 0       | 0       | 1       | 0       | 1       | 1       | 0       | 4       |\n",
       "| cavy    | 1       | 0       | 0       | 1       | 0       | 0       | 0       | 1       | 1       | 1       | 0       | 0       | 4       | 0       | 1       | 0       | 1       |\n",
       "| chicken | 0       | 1       | 1       | 0       | 1       | 0       | 0       | 0       | 1       | 1       | 0       | 0       | 2       | 1       | 1       | 0       | 2       |\n",
       "| dove    | 0       | 1       | 1       | 0       | 1       | 0       | 0       | 0       | 1       | 1       | 0       | 0       | 2       | 1       | 1       | 0       | 2       |\n",
       "| girl    | 1       | 0       | 0       | 1       | 0       | 0       | 1       | 1       | 1       | 1       | 0       | 0       | 2       | 0       | 1       | 1       | 1       |\n",
       "\n"
      ],
      "text/plain": [
       "  animal_name hair feathers eggs milk airborne aquatic predator toothed\n",
       "1 calf        1    0        0    1    0        0       0        1      \n",
       "2 carp        0    0        1    0    0        1       0        1      \n",
       "3 cavy        1    0        0    1    0        0       0        1      \n",
       "4 chicken     0    1        1    0    1        0       0        0      \n",
       "5 dove        0    1        1    0    1        0       0        0      \n",
       "6 girl        1    0        0    1    0        0       1        1      \n",
       "  backbone breathes venomous fins legs tail domestic catsize class_type\n",
       "1 1        1        0        0    4    1    1        1       1         \n",
       "2 1        0        0        1    0    1    1        0       4         \n",
       "3 1        1        0        0    4    0    1        0       1         \n",
       "4 1        1        0        0    2    1    1        0       2         \n",
       "5 1        1        0        0    2    1    1        0       2         \n",
       "6 1        1        0        0    2    0    1        1       1         "
      ]
     },
     "metadata": {},
     "output_type": "display_data"
    }
   ],
   "source": [
    "df<- read.csv('d:/data/zoo/zoo.csv')\n",
    "head(df)"
   ]
  },
  {
   "cell_type": "code",
   "execution_count": 3,
   "metadata": {},
   "outputs": [
    {
     "name": "stderr",
     "output_type": "stream",
     "text": [
      "Warning message:\n",
      "\"package 'dplyr' was built under R version 3.6.2\"\n",
      "Attaching package: 'dplyr'\n",
      "\n",
      "The following objects are masked from 'package:stats':\n",
      "\n",
      "    filter, lag\n",
      "\n",
      "The following objects are masked from 'package:base':\n",
      "\n",
      "    intersect, setdiff, setequal, union\n",
      "\n"
     ]
    },
    {
     "data": {
      "text/html": [
       "<ol class=list-inline>\n",
       "\t<li>101</li>\n",
       "\t<li>17</li>\n",
       "</ol>\n"
      ],
      "text/latex": [
       "\\begin{enumerate*}\n",
       "\\item 101\n",
       "\\item 17\n",
       "\\end{enumerate*}\n"
      ],
      "text/markdown": [
       "1. 101\n",
       "2. 17\n",
       "\n",
       "\n"
      ],
      "text/plain": [
       "[1] 101  17"
      ]
     },
     "metadata": {},
     "output_type": "display_data"
    },
    {
     "data": {
      "text/html": [
       "<table>\n",
       "<thead><tr><th scope=col>hair</th><th scope=col>feathers</th><th scope=col>eggs</th><th scope=col>milk</th><th scope=col>airborne</th><th scope=col>aquatic</th><th scope=col>predator</th><th scope=col>toothed</th><th scope=col>backbone</th><th scope=col>breathes</th><th scope=col>venomous</th><th scope=col>fins</th><th scope=col>legs</th><th scope=col>tail</th><th scope=col>domestic</th><th scope=col>catsize</th><th scope=col>class_type</th></tr></thead>\n",
       "<tbody>\n",
       "\t<tr><td>1</td><td>0</td><td>0</td><td>1</td><td>0</td><td>0</td><td>0</td><td>1</td><td>1</td><td>1</td><td>0</td><td>0</td><td>4</td><td>1</td><td>1</td><td>1</td><td>1</td></tr>\n",
       "\t<tr><td>0</td><td>0</td><td>1</td><td>0</td><td>0</td><td>1</td><td>0</td><td>1</td><td>1</td><td>0</td><td>0</td><td>1</td><td>0</td><td>1</td><td>1</td><td>0</td><td>4</td></tr>\n",
       "\t<tr><td>1</td><td>0</td><td>0</td><td>1</td><td>0</td><td>0</td><td>0</td><td>1</td><td>1</td><td>1</td><td>0</td><td>0</td><td>4</td><td>0</td><td>1</td><td>0</td><td>1</td></tr>\n",
       "\t<tr><td>0</td><td>1</td><td>1</td><td>0</td><td>1</td><td>0</td><td>0</td><td>0</td><td>1</td><td>1</td><td>0</td><td>0</td><td>2</td><td>1</td><td>1</td><td>0</td><td>2</td></tr>\n",
       "\t<tr><td>0</td><td>1</td><td>1</td><td>0</td><td>1</td><td>0</td><td>0</td><td>0</td><td>1</td><td>1</td><td>0</td><td>0</td><td>2</td><td>1</td><td>1</td><td>0</td><td>2</td></tr>\n",
       "\t<tr><td>1</td><td>0</td><td>0</td><td>1</td><td>0</td><td>0</td><td>1</td><td>1</td><td>1</td><td>1</td><td>0</td><td>0</td><td>2</td><td>0</td><td>1</td><td>1</td><td>1</td></tr>\n",
       "</tbody>\n",
       "</table>\n"
      ],
      "text/latex": [
       "\\begin{tabular}{r|lllllllllllllllll}\n",
       " hair & feathers & eggs & milk & airborne & aquatic & predator & toothed & backbone & breathes & venomous & fins & legs & tail & domestic & catsize & class\\_type\\\\\n",
       "\\hline\n",
       "\t 1 & 0 & 0 & 1 & 0 & 0 & 0 & 1 & 1 & 1 & 0 & 0 & 4 & 1 & 1 & 1 & 1\\\\\n",
       "\t 0 & 0 & 1 & 0 & 0 & 1 & 0 & 1 & 1 & 0 & 0 & 1 & 0 & 1 & 1 & 0 & 4\\\\\n",
       "\t 1 & 0 & 0 & 1 & 0 & 0 & 0 & 1 & 1 & 1 & 0 & 0 & 4 & 0 & 1 & 0 & 1\\\\\n",
       "\t 0 & 1 & 1 & 0 & 1 & 0 & 0 & 0 & 1 & 1 & 0 & 0 & 2 & 1 & 1 & 0 & 2\\\\\n",
       "\t 0 & 1 & 1 & 0 & 1 & 0 & 0 & 0 & 1 & 1 & 0 & 0 & 2 & 1 & 1 & 0 & 2\\\\\n",
       "\t 1 & 0 & 0 & 1 & 0 & 0 & 1 & 1 & 1 & 1 & 0 & 0 & 2 & 0 & 1 & 1 & 1\\\\\n",
       "\\end{tabular}\n"
      ],
      "text/markdown": [
       "\n",
       "| hair | feathers | eggs | milk | airborne | aquatic | predator | toothed | backbone | breathes | venomous | fins | legs | tail | domestic | catsize | class_type |\n",
       "|---|---|---|---|---|---|---|---|---|---|---|---|---|---|---|---|---|\n",
       "| 1 | 0 | 0 | 1 | 0 | 0 | 0 | 1 | 1 | 1 | 0 | 0 | 4 | 1 | 1 | 1 | 1 |\n",
       "| 0 | 0 | 1 | 0 | 0 | 1 | 0 | 1 | 1 | 0 | 0 | 1 | 0 | 1 | 1 | 0 | 4 |\n",
       "| 1 | 0 | 0 | 1 | 0 | 0 | 0 | 1 | 1 | 1 | 0 | 0 | 4 | 0 | 1 | 0 | 1 |\n",
       "| 0 | 1 | 1 | 0 | 1 | 0 | 0 | 0 | 1 | 1 | 0 | 0 | 2 | 1 | 1 | 0 | 2 |\n",
       "| 0 | 1 | 1 | 0 | 1 | 0 | 0 | 0 | 1 | 1 | 0 | 0 | 2 | 1 | 1 | 0 | 2 |\n",
       "| 1 | 0 | 0 | 1 | 0 | 0 | 1 | 1 | 1 | 1 | 0 | 0 | 2 | 0 | 1 | 1 | 1 |\n",
       "\n"
      ],
      "text/plain": [
       "  hair feathers eggs milk airborne aquatic predator toothed backbone breathes\n",
       "1 1    0        0    1    0        0       0        1       1        1       \n",
       "2 0    0        1    0    0        1       0        1       1        0       \n",
       "3 1    0        0    1    0        0       0        1       1        1       \n",
       "4 0    1        1    0    1        0       0        0       1        1       \n",
       "5 0    1        1    0    1        0       0        0       1        1       \n",
       "6 1    0        0    1    0        0       1        1       1        1       \n",
       "  venomous fins legs tail domestic catsize class_type\n",
       "1 0        0    4    1    1        1       1         \n",
       "2 0        1    0    1    1        0       4         \n",
       "3 0        0    4    0    1        0       1         \n",
       "4 0        0    2    1    1        0       2         \n",
       "5 0        0    2    1    1        0       2         \n",
       "6 0        0    2    0    1        1       1         "
      ]
     },
     "metadata": {},
     "output_type": "display_data"
    }
   ],
   "source": [
    "library(dplyr)\n",
    "df<-df %>% select(-animal_name)\n",
    "dim(df)\n",
    "head(df)"
   ]
  },
  {
   "cell_type": "code",
   "execution_count": 5,
   "metadata": {},
   "outputs": [
    {
     "data": {
      "text/plain": [
       "\n",
       " 1  2  3  4  5  6  7 \n",
       "41 20  5 13  4  8 10 "
      ]
     },
     "metadata": {},
     "output_type": "display_data"
    },
    {
     "data": {
      "image/png": "[encoded data removed]",
      "text/plain": [
       "plot without title"
      ]
     },
     "metadata": {},
     "output_type": "display_data"
    }
   ],
   "source": [
    "(tbl<-table(df$class_type))\n",
    "barplot(tbl,beside=T,legend=T,col=rainbow(7))"
   ]
  },
  {
   "cell_type": "code",
   "execution_count": 8,
   "metadata": {},
   "outputs": [],
   "source": [
    "library(caret)\n",
    "set.seed(123)\n",
    "#학습용:검증용 8:2로 구분\n",
    "idx_train<-createDataPartition(y=df$class_type,p=0.8,list=F)\n",
    "train<-df[idx_train,] #학습용\n",
    "X_train<-train[,-17]\n",
    "y_train<-train[,17]\n",
    "test<-df[-idx_train,] #검증용\n",
    "X_test<-test[,-17]\n",
    "y_test<-test[,17]"
   ]
  },
  {
   "cell_type": "code",
   "execution_count": 9,
   "metadata": {},
   "outputs": [
    {
     "name": "stderr",
     "output_type": "stream",
     "text": [
      "Warning message:\n",
      "\"package 'party' was built under R version 3.6.2\"Loading required package: grid\n",
      "Loading required package: mvtnorm\n",
      "Warning message:\n",
      "\"package 'mvtnorm' was built under R version 3.6.2\"Loading required package: modeltools\n",
      "Loading required package: stats4\n",
      "Loading required package: strucchange\n",
      "Warning message:\n",
      "\"package 'strucchange' was built under R version 3.6.2\"Loading required package: zoo\n",
      "Warning message:\n",
      "\"package 'zoo' was built under R version 3.6.2\"\n",
      "Attaching package: 'zoo'\n",
      "\n",
      "The following objects are masked from 'package:base':\n",
      "\n",
      "    as.Date, as.Date.numeric\n",
      "\n",
      "Loading required package: sandwich\n",
      "Warning message:\n",
      "\"package 'sandwich' was built under R version 3.6.2\""
     ]
    },
    {
     "data": {
      "text/plain": [
       "\n",
       "\t Conditional inference tree with 4 terminal nodes\n",
       "\n",
       "Response:  class_type \n",
       "Inputs:  hair, feathers, eggs, milk, airborne, aquatic, predator, toothed, backbone, breathes, venomous, fins, legs, tail, domestic, catsize \n",
       "Number of observations:  82 \n",
       "\n",
       "1) backbone <= 0; criterion = 1, statistic = 56.901\n",
       "  2)*  weights = 15 \n",
       "1) backbone > 0\n",
       "  3) milk <= 0; criterion = 1, statistic = 43.061\n",
       "    4) toothed <= 0; criterion = 1, statistic = 26.139\n",
       "      5)*  weights = 16 \n",
       "    4) toothed > 0\n",
       "      6)*  weights = 17 \n",
       "  3) milk > 0\n",
       "    7)*  weights = 34 "
      ]
     },
     "metadata": {},
     "output_type": "display_data"
    }
   ],
   "source": [
    "library(party)\n",
    "#의사결정나무 모형\n",
    "model<-ctree(class_type ~. , data=train)\n",
    "model"
   ]
  },
  {
   "cell_type": "code",
   "execution_count": 10,
   "metadata": {},
   "outputs": [
    {
     "data": {
      "image/png": "[encoded data removed]",
      "text/plain": [
       "plot without title"
      ]
     },
     "metadata": {},
     "output_type": "display_data"
    }
   ],
   "source": [
    "plot(model) #트리 그래프"
   ]
  },
  {
   "cell_type": "code",
   "execution_count": 11,
   "metadata": {},
   "outputs": [
    {
     "data": {
      "image/png": "[encoded data removed]",
      "text/plain": [
       "plot without title"
      ]
     },
     "metadata": {},
     "output_type": "display_data"
    }
   ],
   "source": [
    "plot(model,type='simple')"
   ]
  },
  {
   "cell_type": "code",
   "execution_count": 12,
   "metadata": {},
   "outputs": [
    {
     "data": {
      "text/html": [
       "0.853658536585366"
      ],
      "text/latex": [
       "0.853658536585366"
      ],
      "text/markdown": [
       "0.853658536585366"
      ],
      "text/plain": [
       "[1] 0.8536585"
      ]
     },
     "metadata": {},
     "output_type": "display_data"
    },
    {
     "data": {
      "text/plain": [
       "   y_train\n",
       "     1  2  3  4  5  6  7\n",
       "  1 34  0  0  0  0  0  0\n",
       "  2  0 15  1  0  0  0  0\n",
       "  4  0  0  3 11  3  0  0\n",
       "  7  0  0  0  0  0  5 10"
      ]
     },
     "metadata": {},
     "output_type": "display_data"
    }
   ],
   "source": [
    "#학습용 데이터셋의 예측 정확도\n",
    "pred<-predict(model,newdata=X_train)\n",
    "mean(round(pred) == y_train) # 85.3%\n",
    "#table(round(pred),y_train)"
   ]
  },
  {
   "cell_type": "code",
   "execution_count": 13,
   "metadata": {},
   "outputs": [
    {
     "data": {
      "text/html": [
       "0.736842105263158"
      ],
      "text/latex": [
       "0.736842105263158"
      ],
      "text/markdown": [
       "0.736842105263158"
      ],
      "text/plain": [
       "[1] 0.7368421"
      ]
     },
     "metadata": {},
     "output_type": "display_data"
    }
   ],
   "source": [
    "#검증용 데이터셋의 예측 정확도\n",
    "pred<-predict(model,newdata=X_test)\n",
    "mean(round(pred) == y_test) # 73.6%\n",
    "#table(round(pred),y_test)"
   ]
  },
  {
   "cell_type": "code",
   "execution_count": 14,
   "metadata": {},
   "outputs": [
    {
     "name": "stderr",
     "output_type": "stream",
     "text": [
      "randomForest 4.6-14\n",
      "Type rfNews() to see new features/changes/bug fixes.\n",
      "\n",
      "Attaching package: 'randomForest'\n",
      "\n",
      "The following object is masked from 'package:ggplot2':\n",
      "\n",
      "    margin\n",
      "\n",
      "The following object is masked from 'package:dplyr':\n",
      "\n",
      "    combine\n",
      "\n"
     ]
    },
    {
     "data": {
      "text/plain": [
       "\n",
       "Call:\n",
       " randomForest(formula = class_type ~ ., data = train, mtry = floor(sqrt(ncol(train))),      ntree = 10, importance = T) \n",
       "               Type of random forest: regression\n",
       "                     Number of trees: 10\n",
       "No. of variables tried at each split: 4\n",
       "\n",
       "          Mean of squared residuals: 0.5290487\n",
       "                    % Var explained: 88.51"
      ]
     },
     "metadata": {},
     "output_type": "display_data"
    }
   ],
   "source": [
    "#랜덤포레스트 모형 (트리갯수 10)\n",
    "library(randomForest)\n",
    "set.seed(1)\n",
    "model<-randomForest(class_type ~ . , data=train,\n",
    "                    mtry=floor(sqrt(ncol(train))),ntree=10,\n",
    "                    importance=T)\n",
    "model"
   ]
  },
  {
   "cell_type": "code",
   "execution_count": 15,
   "metadata": {},
   "outputs": [
    {
     "data": {
      "text/html": [
       "0.963414634146341"
      ],
      "text/latex": [
       "0.963414634146341"
      ],
      "text/markdown": [
       "0.963414634146341"
      ],
      "text/plain": [
       "[1] 0.9634146"
      ]
     },
     "metadata": {},
     "output_type": "display_data"
    }
   ],
   "source": [
    "#학습용 데이터셋의 예측 정확도\n",
    "pred<-predict(model,newdata=X_train)\n",
    "mean(round(pred) == y_train) # 96.3%"
   ]
  },
  {
   "cell_type": "code",
   "execution_count": 16,
   "metadata": {},
   "outputs": [
    {
     "data": {
      "text/html": [
       "0.947368421052632"
      ],
      "text/latex": [
       "0.947368421052632"
      ],
      "text/markdown": [
       "0.947368421052632"
      ],
      "text/plain": [
       "[1] 0.9473684"
      ]
     },
     "metadata": {},
     "output_type": "display_data"
    }
   ],
   "source": [
    "#검증용 데이터셋의 예측 정확도\n",
    "pred<-predict(model,newdata=X_test)\n",
    "mean(round(pred) == y_test) # 94.7%"
   ]
  },
  {
   "cell_type": "code",
   "execution_count": 17,
   "metadata": {},
   "outputs": [
    {
     "data": {
      "text/html": [
       "<table>\n",
       "<thead><tr><th></th><th scope=col>%IncMSE</th><th scope=col>IncNodePurity</th></tr></thead>\n",
       "<tbody>\n",
       "\t<tr><th scope=row>hair</th><td> 1.688047  </td><td> 24.9629810</td></tr>\n",
       "\t<tr><th scope=row>feathers</th><td> 1.741983  </td><td>  5.1062706</td></tr>\n",
       "\t<tr><th scope=row>eggs</th><td> 2.414366  </td><td> 50.8897846</td></tr>\n",
       "\t<tr><th scope=row>milk</th><td> 1.811382  </td><td> 39.3219657</td></tr>\n",
       "\t<tr><th scope=row>airborne</th><td> 1.194400  </td><td>  6.5638261</td></tr>\n",
       "\t<tr><th scope=row>aquatic</th><td> 1.075107  </td><td>  9.9782166</td></tr>\n",
       "\t<tr><th scope=row>predator</th><td> 2.182253  </td><td>  0.4322311</td></tr>\n",
       "\t<tr><th scope=row>toothed</th><td> 2.381841  </td><td>  9.0366524</td></tr>\n",
       "\t<tr><th scope=row>backbone</th><td> 4.889511  </td><td>119.8805797</td></tr>\n",
       "\t<tr><th scope=row>breathes</th><td> 1.629410  </td><td> 22.4057825</td></tr>\n",
       "\t<tr><th scope=row>venomous</th><td>-1.054093  </td><td>  0.7848936</td></tr>\n",
       "\t<tr><th scope=row>fins</th><td> 1.054093  </td><td>  0.9153409</td></tr>\n",
       "\t<tr><th scope=row>legs</th><td> 1.075353  </td><td> 22.4057818</td></tr>\n",
       "\t<tr><th scope=row>tail</th><td> 1.966629  </td><td> 34.8145539</td></tr>\n",
       "\t<tr><th scope=row>domestic</th><td>-1.575324  </td><td>  4.7389056</td></tr>\n",
       "\t<tr><th scope=row>catsize</th><td>-1.566817  </td><td> 10.0463690</td></tr>\n",
       "</tbody>\n",
       "</table>\n"
      ],
      "text/latex": [
       "\\begin{tabular}{r|ll}\n",
       "  & \\%IncMSE & IncNodePurity\\\\\n",
       "\\hline\n",
       "\thair &  1.688047   &  24.9629810\\\\\n",
       "\tfeathers &  1.741983   &   5.1062706\\\\\n",
       "\teggs &  2.414366   &  50.8897846\\\\\n",
       "\tmilk &  1.811382   &  39.3219657\\\\\n",
       "\tairborne &  1.194400   &   6.5638261\\\\\n",
       "\taquatic &  1.075107   &   9.9782166\\\\\n",
       "\tpredator &  2.182253   &   0.4322311\\\\\n",
       "\ttoothed &  2.381841   &   9.0366524\\\\\n",
       "\tbackbone &  4.889511   & 119.8805797\\\\\n",
       "\tbreathes &  1.629410   &  22.4057825\\\\\n",
       "\tvenomous & -1.054093   &   0.7848936\\\\\n",
       "\tfins &  1.054093   &   0.9153409\\\\\n",
       "\tlegs &  1.075353   &  22.4057818\\\\\n",
       "\ttail &  1.966629   &  34.8145539\\\\\n",
       "\tdomestic & -1.575324   &   4.7389056\\\\\n",
       "\tcatsize & -1.566817   &  10.0463690\\\\\n",
       "\\end{tabular}\n"
      ],
      "text/markdown": [
       "\n",
       "| <!--/--> | %IncMSE | IncNodePurity |\n",
       "|---|---|---|\n",
       "| hair |  1.688047   |  24.9629810 |\n",
       "| feathers |  1.741983   |   5.1062706 |\n",
       "| eggs |  2.414366   |  50.8897846 |\n",
       "| milk |  1.811382   |  39.3219657 |\n",
       "| airborne |  1.194400   |   6.5638261 |\n",
       "| aquatic |  1.075107   |   9.9782166 |\n",
       "| predator |  2.182253   |   0.4322311 |\n",
       "| toothed |  2.381841   |   9.0366524 |\n",
       "| backbone |  4.889511   | 119.8805797 |\n",
       "| breathes |  1.629410   |  22.4057825 |\n",
       "| venomous | -1.054093   |   0.7848936 |\n",
       "| fins |  1.054093   |   0.9153409 |\n",
       "| legs |  1.075353   |  22.4057818 |\n",
       "| tail |  1.966629   |  34.8145539 |\n",
       "| domestic | -1.575324   |   4.7389056 |\n",
       "| catsize | -1.566817   |  10.0463690 |\n",
       "\n"
      ],
      "text/plain": [
       "         %IncMSE   IncNodePurity\n",
       "hair      1.688047  24.9629810  \n",
       "feathers  1.741983   5.1062706  \n",
       "eggs      2.414366  50.8897846  \n",
       "milk      1.811382  39.3219657  \n",
       "airborne  1.194400   6.5638261  \n",
       "aquatic   1.075107   9.9782166  \n",
       "predator  2.182253   0.4322311  \n",
       "toothed   2.381841   9.0366524  \n",
       "backbone  4.889511 119.8805797  \n",
       "breathes  1.629410  22.4057825  \n",
       "venomous -1.054093   0.7848936  \n",
       "fins      1.054093   0.9153409  \n",
       "legs      1.075353  22.4057818  \n",
       "tail      1.966629  34.8145539  \n",
       "domestic -1.575324   4.7389056  \n",
       "catsize  -1.566817  10.0463690  "
      ]
     },
     "metadata": {},
     "output_type": "display_data"
    }
   ],
   "source": [
    "importance(model) #변수의 정확도,중요도"
   ]
  },
  {
   "cell_type": "code",
   "execution_count": 18,
   "metadata": {},
   "outputs": [
    {
     "data": {
      "image/png": "[encoded data removed]",
      "text/plain": [
       "plot without title"
      ]
     },
     "metadata": {},
     "output_type": "display_data"
    }
   ],
   "source": [
    "varImpPlot(model)"
   ]
  },
  {
   "cell_type": "code",
   "execution_count": null,
   "metadata": {},
   "outputs": [],
   "source": []
  }
 ],
 "metadata": {
  "kernelspec": {
   "display_name": "R",
   "language": "R",
   "name": "ir"
  },
  "language_info": {
   "codemirror_mode": "r",
   "file_extension": ".r",
   "mimetype": "text/x-r-source",
   "name": "R",
   "pygments_lexer": "r",
   "version": "3.6.1"
  }
 },
 "nbformat": 4,
 "nbformat_minor": 2
}
