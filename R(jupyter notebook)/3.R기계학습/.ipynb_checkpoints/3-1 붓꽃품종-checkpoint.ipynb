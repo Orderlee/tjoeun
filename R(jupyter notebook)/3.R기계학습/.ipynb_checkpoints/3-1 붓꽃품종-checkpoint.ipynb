{
 "cells": [
  {
   "cell_type": "code",
   "execution_count": 28,
   "metadata": {},
   "outputs": [
    {
     "data": {
      "text/html": [
       "<table>\n",
       "<thead><tr><th scope=col>sepal.length..cm.</th><th scope=col>sepal.width..cm.</th><th scope=col>petal.length..cm.</th><th scope=col>petal.width..cm.</th><th scope=col>target</th></tr></thead>\n",
       "<tbody>\n",
       "\t<tr><td>5.1   </td><td>3.5   </td><td>1.4   </td><td>0.2   </td><td>setosa</td></tr>\n",
       "\t<tr><td>4.9   </td><td>3.0   </td><td>1.4   </td><td>0.2   </td><td>setosa</td></tr>\n",
       "\t<tr><td>4.7   </td><td>3.2   </td><td>1.3   </td><td>0.2   </td><td>setosa</td></tr>\n",
       "\t<tr><td>4.6   </td><td>3.1   </td><td>1.5   </td><td>0.2   </td><td>setosa</td></tr>\n",
       "\t<tr><td>5.0   </td><td>3.6   </td><td>1.4   </td><td>0.2   </td><td>setosa</td></tr>\n",
       "\t<tr><td>5.4   </td><td>3.9   </td><td>1.7   </td><td>0.4   </td><td>setosa</td></tr>\n",
       "</tbody>\n",
       "</table>\n"
      ],
      "text/latex": [
       "\\begin{tabular}{r|lllll}\n",
       " sepal.length..cm. & sepal.width..cm. & petal.length..cm. & petal.width..cm. & target\\\\\n",
       "\\hline\n",
       "\t 5.1    & 3.5    & 1.4    & 0.2    & setosa\\\\\n",
       "\t 4.9    & 3.0    & 1.4    & 0.2    & setosa\\\\\n",
       "\t 4.7    & 3.2    & 1.3    & 0.2    & setosa\\\\\n",
       "\t 4.6    & 3.1    & 1.5    & 0.2    & setosa\\\\\n",
       "\t 5.0    & 3.6    & 1.4    & 0.2    & setosa\\\\\n",
       "\t 5.4    & 3.9    & 1.7    & 0.4    & setosa\\\\\n",
       "\\end{tabular}\n"
      ],
      "text/markdown": [
       "\n",
       "| sepal.length..cm. | sepal.width..cm. | petal.length..cm. | petal.width..cm. | target |\n",
       "|---|---|---|---|---|\n",
       "| 5.1    | 3.5    | 1.4    | 0.2    | setosa |\n",
       "| 4.9    | 3.0    | 1.4    | 0.2    | setosa |\n",
       "| 4.7    | 3.2    | 1.3    | 0.2    | setosa |\n",
       "| 4.6    | 3.1    | 1.5    | 0.2    | setosa |\n",
       "| 5.0    | 3.6    | 1.4    | 0.2    | setosa |\n",
       "| 5.4    | 3.9    | 1.7    | 0.4    | setosa |\n",
       "\n"
      ],
      "text/plain": [
       "  sepal.length..cm. sepal.width..cm. petal.length..cm. petal.width..cm. target\n",
       "1 5.1               3.5              1.4               0.2              setosa\n",
       "2 4.9               3.0              1.4               0.2              setosa\n",
       "3 4.7               3.2              1.3               0.2              setosa\n",
       "4 4.6               3.1              1.5               0.2              setosa\n",
       "5 5.0               3.6              1.4               0.2              setosa\n",
       "6 5.4               3.9              1.7               0.4              setosa"
      ]
     },
     "metadata": {},
     "output_type": "display_data"
    }
   ],
   "source": [
    "df<-read.csv('d:/data/iris/iris.csv')\n",
    "head(df)"
   ]
  },
  {
   "cell_type": "code",
   "execution_count": 29,
   "metadata": {},
   "outputs": [
    {
     "data": {
      "text/html": [
       "<ol class=list-inline>\n",
       "\t<li>150</li>\n",
       "\t<li>5</li>\n",
       "</ol>\n"
      ],
      "text/latex": [
       "\\begin{enumerate*}\n",
       "\\item 150\n",
       "\\item 5\n",
       "\\end{enumerate*}\n"
      ],
      "text/markdown": [
       "1. 150\n",
       "2. 5\n",
       "\n",
       "\n"
      ],
      "text/plain": [
       "[1] 150   5"
      ]
     },
     "metadata": {},
     "output_type": "display_data"
    },
    {
     "data": {
      "text/plain": [
       " sepal.length..cm. sepal.width..cm. petal.length..cm. petal.width..cm.\n",
       " Min.   :4.300     Min.   :2.000    Min.   :1.000     Min.   :0.100   \n",
       " 1st Qu.:5.100     1st Qu.:2.800    1st Qu.:1.600     1st Qu.:0.300   \n",
       " Median :5.800     Median :3.000    Median :4.350     Median :1.300   \n",
       " Mean   :5.843     Mean   :3.057    Mean   :3.758     Mean   :1.199   \n",
       " 3rd Qu.:6.400     3rd Qu.:3.300    3rd Qu.:5.100     3rd Qu.:1.800   \n",
       " Max.   :7.900     Max.   :4.400    Max.   :6.900     Max.   :2.500   \n",
       "        target  \n",
       " setosa    :50  \n",
       " versicolor:50  \n",
       " virginica :50  \n",
       "                \n",
       "                \n",
       "                "
      ]
     },
     "metadata": {},
     "output_type": "display_data"
    }
   ],
   "source": [
    "dim(df)\n",
    "summary(df)"
   ]
  },
  {
   "cell_type": "code",
   "execution_count": 30,
   "metadata": {},
   "outputs": [
    {
     "ename": "ERROR",
     "evalue": "Error in cor(df): 'x' must be numeric\n",
     "output_type": "error",
     "traceback": [
      "Error in cor(df): 'x' must be numeric\nTraceback:\n",
      "1. cor(df)",
      "2. stop(\"'x' must be numeric\")"
     ]
    }
   ],
   "source": [
    "(corrmatrix <- cor(df))"
   ]
  },
  {
   "cell_type": "code",
   "execution_count": 31,
   "metadata": {},
   "outputs": [
    {
     "ename": "ERROR",
     "evalue": "Error in cor(df): 'x' must be numeric\n",
     "output_type": "error",
     "traceback": [
      "Error in cor(df): 'x' must be numeric\nTraceback:\n",
      "1. corrplot(cor(df), method = \"circle\")",
      "2. cor(df)",
      "3. stop(\"'x' must be numeric\")"
     ]
    }
   ],
   "source": [
    "library(corrplot)\n",
    "corrplot(cor(df),method='circle') #텍스트 필드 제거"
   ]
  },
  {
   "cell_type": "code",
   "execution_count": 8,
   "metadata": {},
   "outputs": [
    {
     "ename": "ERROR",
     "evalue": "Error in createDataPartition(y = df$Species, p = 0.8, list = F): y must have at least 2 data points\n",
     "output_type": "error",
     "traceback": [
      "Error in createDataPartition(y = df$Species, p = 0.8, list = F): y must have at least 2 data points\nTraceback:\n",
      "1. createDataPartition(y = df$Species, p = 0.8, list = F)",
      "2. stop(\"y must have at least 2 data points\")"
     ]
    }
   ],
   "source": [
    "library(caret)\n",
    "set.seed(123) #랜덤 시드 고정\n",
    "#학습용:검즈용 = 8:2로 구분\n",
    "idx_train<-createDataPartition(y=df$Species,p=0.8,list=F)\n",
    "train<-df[idx_train,] #학습용 데이터셋\n",
    "X_train<-train[,-5] #독립변수\n",
    "y_train<-train[,5] #종속변수\n",
    "test<-df[-idx,train,] #검증용 데이터셋\n",
    "X_test<-test[,-5]\n",
    "y_test<-test[,5]"
   ]
  },
  {
   "cell_type": "code",
   "execution_count": null,
   "metadata": {},
   "outputs": [],
   "source": []
  },
  {
   "cell_type": "code",
   "execution_count": 13,
   "metadata": {},
   "outputs": [
    {
     "data": {
      "text/html": [
       "<table>\n",
       "<thead><tr><th scope=col>sepal.length..cm.</th><th scope=col>sepal.width..cm.</th><th scope=col>petal.length..cm.</th><th scope=col>petal.width..cm.</th><th scope=col>target</th><th scope=col>Result</th></tr></thead>\n",
       "<tbody>\n",
       "\t<tr><td>5.1   </td><td>3.5   </td><td>1.4   </td><td>0.2   </td><td>setosa</td><td>0     </td></tr>\n",
       "\t<tr><td>4.9   </td><td>3.0   </td><td>1.4   </td><td>0.2   </td><td>setosa</td><td>0     </td></tr>\n",
       "\t<tr><td>4.7   </td><td>3.2   </td><td>1.3   </td><td>0.2   </td><td>setosa</td><td>0     </td></tr>\n",
       "\t<tr><td>4.6   </td><td>3.1   </td><td>1.5   </td><td>0.2   </td><td>setosa</td><td>0     </td></tr>\n",
       "\t<tr><td>5.0   </td><td>3.6   </td><td>1.4   </td><td>0.2   </td><td>setosa</td><td>0     </td></tr>\n",
       "\t<tr><td>5.4   </td><td>3.9   </td><td>1.7   </td><td>0.4   </td><td>setosa</td><td>0     </td></tr>\n",
       "</tbody>\n",
       "</table>\n"
      ],
      "text/latex": [
       "\\begin{tabular}{r|llllll}\n",
       " sepal.length..cm. & sepal.width..cm. & petal.length..cm. & petal.width..cm. & target & Result\\\\\n",
       "\\hline\n",
       "\t 5.1    & 3.5    & 1.4    & 0.2    & setosa & 0     \\\\\n",
       "\t 4.9    & 3.0    & 1.4    & 0.2    & setosa & 0     \\\\\n",
       "\t 4.7    & 3.2    & 1.3    & 0.2    & setosa & 0     \\\\\n",
       "\t 4.6    & 3.1    & 1.5    & 0.2    & setosa & 0     \\\\\n",
       "\t 5.0    & 3.6    & 1.4    & 0.2    & setosa & 0     \\\\\n",
       "\t 5.4    & 3.9    & 1.7    & 0.4    & setosa & 0     \\\\\n",
       "\\end{tabular}\n"
      ],
      "text/markdown": [
       "\n",
       "| sepal.length..cm. | sepal.width..cm. | petal.length..cm. | petal.width..cm. | target | Result |\n",
       "|---|---|---|---|---|---|\n",
       "| 5.1    | 3.5    | 1.4    | 0.2    | setosa | 0      |\n",
       "| 4.9    | 3.0    | 1.4    | 0.2    | setosa | 0      |\n",
       "| 4.7    | 3.2    | 1.3    | 0.2    | setosa | 0      |\n",
       "| 4.6    | 3.1    | 1.5    | 0.2    | setosa | 0      |\n",
       "| 5.0    | 3.6    | 1.4    | 0.2    | setosa | 0      |\n",
       "| 5.4    | 3.9    | 1.7    | 0.4    | setosa | 0      |\n",
       "\n"
      ],
      "text/plain": [
       "  sepal.length..cm. sepal.width..cm. petal.length..cm. petal.width..cm. target\n",
       "1 5.1               3.5              1.4               0.2              setosa\n",
       "2 4.9               3.0              1.4               0.2              setosa\n",
       "3 4.7               3.2              1.3               0.2              setosa\n",
       "4 4.6               3.1              1.5               0.2              setosa\n",
       "5 5.0               3.6              1.4               0.2              setosa\n",
       "6 5.4               3.9              1.7               0.4              setosa\n",
       "  Result\n",
       "1 0     \n",
       "2 0     \n",
       "3 0     \n",
       "4 0     \n",
       "5 0     \n",
       "6 0     "
      ]
     },
     "metadata": {},
     "output_type": "display_data"
    }
   ],
   "source": [
    "df<-read.csv('d:/data/iris/iris2.csv')\n",
    "head(df)"
   ]
  },
  {
   "cell_type": "code",
   "execution_count": 14,
   "metadata": {},
   "outputs": [
    {
     "data": {
      "text/html": [
       "<ol class=list-inline>\n",
       "\t<li>150</li>\n",
       "\t<li>6</li>\n",
       "</ol>\n"
      ],
      "text/latex": [
       "\\begin{enumerate*}\n",
       "\\item 150\n",
       "\\item 6\n",
       "\\end{enumerate*}\n"
      ],
      "text/markdown": [
       "1. 150\n",
       "2. 6\n",
       "\n",
       "\n"
      ],
      "text/plain": [
       "[1] 150   6"
      ]
     },
     "metadata": {},
     "output_type": "display_data"
    },
    {
     "data": {
      "text/plain": [
       " sepal.length..cm. sepal.width..cm. petal.length..cm. petal.width..cm.\n",
       " Min.   :4.300     Min.   :2.000    Min.   :1.000     Min.   :0.100   \n",
       " 1st Qu.:5.100     1st Qu.:2.800    1st Qu.:1.600     1st Qu.:0.300   \n",
       " Median :5.800     Median :3.000    Median :4.350     Median :1.300   \n",
       " Mean   :5.843     Mean   :3.057    Mean   :3.758     Mean   :1.199   \n",
       " 3rd Qu.:6.400     3rd Qu.:3.300    3rd Qu.:5.100     3rd Qu.:1.800   \n",
       " Max.   :7.900     Max.   :4.400    Max.   :6.900     Max.   :2.500   \n",
       "        target       Result \n",
       " setosa    :50   Min.   :0  \n",
       " versicolor:50   1st Qu.:0  \n",
       " virginica :50   Median :1  \n",
       "                 Mean   :1  \n",
       "                 3rd Qu.:2  \n",
       "                 Max.   :2  "
      ]
     },
     "metadata": {},
     "output_type": "display_data"
    }
   ],
   "source": [
    "dim(df)\n",
    "summary(df)"
   ]
  },
  {
   "cell_type": "code",
   "execution_count": 15,
   "metadata": {},
   "outputs": [
    {
     "ename": "ERROR",
     "evalue": "Error in cor(df): 'x' must be numeric\n",
     "output_type": "error",
     "traceback": [
      "Error in cor(df): 'x' must be numeric\nTraceback:\n",
      "1. cor(df)",
      "2. stop(\"'x' must be numeric\")"
     ]
    }
   ],
   "source": [
    "(corrmatrix <-cor(df))"
   ]
  },
  {
   "cell_type": "code",
   "execution_count": 16,
   "metadata": {},
   "outputs": [
    {
     "ename": "ERROR",
     "evalue": "Error in cor(df): 'x' must be numeric\n",
     "output_type": "error",
     "traceback": [
      "Error in cor(df): 'x' must be numeric\nTraceback:\n",
      "1. corrplot(cor(df), method = \"circle\")",
      "2. cor(df)",
      "3. stop(\"'x' must be numeric\")"
     ]
    }
   ],
   "source": [
    "library(corrplot)\n",
    "corrplot(cor(df),method='circle') #텍스트 필드 제거"
   ]
  },
  {
   "cell_type": "code",
   "execution_count": 17,
   "metadata": {},
   "outputs": [
    {
     "ename": "ERROR",
     "evalue": "Error in x[j]: 유효하지 않은 첨자의 타입 'list'입니다\n",
     "output_type": "error",
     "traceback": [
      "Error in x[j]: 유효하지 않은 첨자의 타입 'list'입니다\nTraceback:\n",
      "1. df[-idx, train, ]",
      "2. `[.data.frame`(df, -idx, train, )"
     ]
    }
   ],
   "source": [
    "library(caret)\n",
    "set.seed(123) #랜덤 시드 고정\n",
    "#학습용:검즈용 = 8:2로 구분\n",
    "idx_train<-createDataPartition(y=df$Result,p=0.8,list=F)\n",
    "train<-df[idx_train,] #학습용 데이터셋\n",
    "X_train<-train[,-5] #독립변수\n",
    "y_train<-train[,5] #종속변수\n",
    "test<-df[-idx,train,] #검증용 데이터셋\n",
    "X_test<-test[,-5]\n",
    "y_test<-test[,5]"
   ]
  },
  {
   "cell_type": "code",
   "execution_count": 18,
   "metadata": {},
   "outputs": [
    {
     "name": "stdout",
     "output_type": "stream",
     "text": [
      "# weights:  24 (14 variable)\n",
      "initial  value 131.833475 \n",
      "iter  10 value 0.076705\n",
      "iter  20 value 0.011971\n",
      "iter  30 value 0.003008\n",
      "iter  40 value 0.001612\n",
      "iter  50 value 0.000107\n",
      "iter  50 value 0.000099\n",
      "iter  50 value 0.000099\n",
      "final  value 0.000099 \n",
      "converged\n"
     ]
    },
    {
     "data": {
      "text/plain": [
       "Call:\n",
       "multinom(formula = Result ~ ., data = train)\n",
       "\n",
       "Coefficients:\n",
       "  (Intercept) sepal.length..cm. sepal.width..cm. petal.length..cm.\n",
       "1  -1.9897055        -2.3703053        -3.884398          6.695635\n",
       "2   0.8547437        -0.9805315        -5.456095          3.427008\n",
       "  petal.width..cm. targetversicolor targetvirginica\n",
       "1         4.511137        -7.678559        9.447701\n",
       "2         4.734025        14.806317       -4.317089\n",
       "\n",
       "Std. Errors:\n",
       "  (Intercept) sepal.length..cm. sepal.width..cm. petal.length..cm.\n",
       "1    3301.764          890.3510         565.2782         1057.3971\n",
       "2    2627.206          757.3891         503.6191          792.2689\n",
       "  petal.width..cm. targetversicolor targetvirginica\n",
       "1         1979.445         2815.186        27392.85\n",
       "2         1546.493         1324.724        33072.08\n",
       "\n",
       "Residual Deviance: 0.0001974662 \n",
       "AIC: 28.0002 "
      ]
     },
     "metadata": {},
     "output_type": "display_data"
    }
   ],
   "source": [
    "library(nnet)\n",
    "# 3 class 이상인 경우 multinom 함수 사용\n",
    "model<-multinom(Result~., data=train)\n",
    "summary(model) #모형 요약"
   ]
  },
  {
   "cell_type": "code",
   "execution_count": 19,
   "metadata": {},
   "outputs": [
    {
     "data": {
      "text/html": [
       "<table>\n",
       "<thead><tr><th scope=col>(Intercept)</th><th scope=col>sepal.length..cm.</th><th scope=col>sepal.width..cm.</th><th scope=col>petal.length..cm.</th><th scope=col>petal.width..cm.</th><th scope=col>targetversicolor</th><th scope=col>targetvirginica</th></tr></thead>\n",
       "<tbody>\n",
       "\t<tr><td>-1.9897055</td><td>-2.3703053</td><td>-3.884398 </td><td>6.695635  </td><td>4.511137  </td><td>-7.678559 </td><td> 9.447701 </td></tr>\n",
       "\t<tr><td> 0.8547437</td><td>-0.9805315</td><td>-5.456095 </td><td>3.427008  </td><td>4.734025  </td><td>14.806317 </td><td>-4.317089 </td></tr>\n",
       "</tbody>\n",
       "</table>\n"
      ],
      "text/latex": [
       "\\begin{tabular}{r|lllllll}\n",
       " (Intercept) & sepal.length..cm. & sepal.width..cm. & petal.length..cm. & petal.width..cm. & targetversicolor & targetvirginica\\\\\n",
       "\\hline\n",
       "\t -1.9897055 & -2.3703053 & -3.884398  & 6.695635   & 4.511137   & -7.678559  &  9.447701 \\\\\n",
       "\t  0.8547437 & -0.9805315 & -5.456095  & 3.427008   & 4.734025   & 14.806317  & -4.317089 \\\\\n",
       "\\end{tabular}\n"
      ],
      "text/markdown": [
       "\n",
       "| (Intercept) | sepal.length..cm. | sepal.width..cm. | petal.length..cm. | petal.width..cm. | targetversicolor | targetvirginica |\n",
       "|---|---|---|---|---|---|---|\n",
       "| -1.9897055 | -2.3703053 | -3.884398  | 6.695635   | 4.511137   | -7.678559  |  9.447701  |\n",
       "|  0.8547437 | -0.9805315 | -5.456095  | 3.427008   | 4.734025   | 14.806317  | -4.317089  |\n",
       "\n"
      ],
      "text/plain": [
       "  (Intercept) sepal.length..cm. sepal.width..cm. petal.length..cm.\n",
       "1 -1.9897055  -2.3703053        -3.884398        6.695635         \n",
       "2  0.8547437  -0.9805315        -5.456095        3.427008         \n",
       "  petal.width..cm. targetversicolor targetvirginica\n",
       "1 4.511137         -7.678559         9.447701      \n",
       "2 4.734025         14.806317        -4.317089      "
      ]
     },
     "metadata": {},
     "output_type": "display_data"
    }
   ],
   "source": [
    "(coef1<-coef(model)) #회귀계수"
   ]
  },
  {
   "cell_type": "code",
   "execution_count": 20,
   "metadata": {},
   "outputs": [
    {
     "ename": "ERROR",
     "evalue": "Error in as.data.frame(newdata): 객체 'X_test'를 찾을 수 없습니다\n",
     "output_type": "error",
     "traceback": [
      "Error in as.data.frame(newdata): 객체 'X_test'를 찾을 수 없습니다\nTraceback:\n",
      "1. predict(model, newdata = X_test, type = \"probs\")",
      "2. predict.multinom(model, newdata = X_test, type = \"probs\")",
      "3. as.data.frame(newdata)"
     ]
    }
   ],
   "source": [
    "#검증용 데이터셋으로 모형 평가\n",
    "pred<-predict(model,newdata=X_test,type='probs')\n",
    "pred\n",
    "result<-ifelse(pred>0.5,1,0)\n",
    "head(result)\n",
    "#head(y_test)\n",
    "y_test"
   ]
  },
  {
   "cell_type": "code",
   "execution_count": null,
   "metadata": {},
   "outputs": [],
   "source": [
    "#3 class 와 맞지 않음\n",
    "mean(y_test == result)"
   ]
  },
  {
   "cell_type": "code",
   "execution_count": null,
   "metadata": {},
   "outputs": [],
   "source": []
  },
  {
   "cell_type": "code",
   "execution_count": null,
   "metadata": {},
   "outputs": [],
   "source": []
  },
  {
   "cell_type": "code",
   "execution_count": null,
   "metadata": {},
   "outputs": [],
   "source": []
  }
 ],
 "metadata": {
  "kernelspec": {
   "display_name": "R",
   "language": "R",
   "name": "ir"
  },
  "language_info": {
   "codemirror_mode": "r",
   "file_extension": ".r",
   "mimetype": "text/x-r-source",
   "name": "R",
   "pygments_lexer": "r",
   "version": "3.6.1"
  }
 },
 "nbformat": 4,
 "nbformat_minor": 2
}
