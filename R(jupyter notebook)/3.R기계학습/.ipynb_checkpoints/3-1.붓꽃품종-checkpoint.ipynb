{
 "cells": [
  {
   "cell_type": "code",
   "execution_count": 3,
   "metadata": {},
   "outputs": [
    {
     "data": {
      "text/html": [
       "<table>\n",
       "<thead><tr><th scope=col>sepal.length..cm.</th><th scope=col>sepal.width..cm.</th><th scope=col>petal.length..cm.</th><th scope=col>petal.width..cm.</th><th scope=col>target</th></tr></thead>\n",
       "<tbody>\n",
       "\t<tr><td>5.1   </td><td>3.5   </td><td>1.4   </td><td>0.2   </td><td>setosa</td></tr>\n",
       "\t<tr><td>4.9   </td><td>3.0   </td><td>1.4   </td><td>0.2   </td><td>setosa</td></tr>\n",
       "\t<tr><td>4.7   </td><td>3.2   </td><td>1.3   </td><td>0.2   </td><td>setosa</td></tr>\n",
       "\t<tr><td>4.6   </td><td>3.1   </td><td>1.5   </td><td>0.2   </td><td>setosa</td></tr>\n",
       "\t<tr><td>5.0   </td><td>3.6   </td><td>1.4   </td><td>0.2   </td><td>setosa</td></tr>\n",
       "\t<tr><td>5.4   </td><td>3.9   </td><td>1.7   </td><td>0.4   </td><td>setosa</td></tr>\n",
       "</tbody>\n",
       "</table>\n"
      ],
      "text/latex": [
       "\\begin{tabular}{r|lllll}\n",
       " sepal.length..cm. & sepal.width..cm. & petal.length..cm. & petal.width..cm. & target\\\\\n",
       "\\hline\n",
       "\t 5.1    & 3.5    & 1.4    & 0.2    & setosa\\\\\n",
       "\t 4.9    & 3.0    & 1.4    & 0.2    & setosa\\\\\n",
       "\t 4.7    & 3.2    & 1.3    & 0.2    & setosa\\\\\n",
       "\t 4.6    & 3.1    & 1.5    & 0.2    & setosa\\\\\n",
       "\t 5.0    & 3.6    & 1.4    & 0.2    & setosa\\\\\n",
       "\t 5.4    & 3.9    & 1.7    & 0.4    & setosa\\\\\n",
       "\\end{tabular}\n"
      ],
      "text/markdown": [
       "\n",
       "| sepal.length..cm. | sepal.width..cm. | petal.length..cm. | petal.width..cm. | target |\n",
       "|---|---|---|---|---|\n",
       "| 5.1    | 3.5    | 1.4    | 0.2    | setosa |\n",
       "| 4.9    | 3.0    | 1.4    | 0.2    | setosa |\n",
       "| 4.7    | 3.2    | 1.3    | 0.2    | setosa |\n",
       "| 4.6    | 3.1    | 1.5    | 0.2    | setosa |\n",
       "| 5.0    | 3.6    | 1.4    | 0.2    | setosa |\n",
       "| 5.4    | 3.9    | 1.7    | 0.4    | setosa |\n",
       "\n"
      ],
      "text/plain": [
       "  sepal.length..cm. sepal.width..cm. petal.length..cm. petal.width..cm. target\n",
       "1 5.1               3.5              1.4               0.2              setosa\n",
       "2 4.9               3.0              1.4               0.2              setosa\n",
       "3 4.7               3.2              1.3               0.2              setosa\n",
       "4 4.6               3.1              1.5               0.2              setosa\n",
       "5 5.0               3.6              1.4               0.2              setosa\n",
       "6 5.4               3.9              1.7               0.4              setosa"
      ]
     },
     "metadata": {},
     "output_type": "display_data"
    }
   ],
   "source": [
    "df<-read.csv('d:/data/iris/iris.csv')\n",
    "head(df)"
   ]
  },
  {
   "cell_type": "code",
   "execution_count": 4,
   "metadata": {},
   "outputs": [
    {
     "name": "stderr",
     "output_type": "stream",
     "text": [
      "Warning message:\n",
      "\"package 'dplyr' was built under R version 3.6.2\"\n",
      "Attaching package: 'dplyr'\n",
      "\n",
      "The following objects are masked from 'package:stats':\n",
      "\n",
      "    filter, lag\n",
      "\n",
      "The following objects are masked from 'package:base':\n",
      "\n",
      "    intersect, setdiff, setequal, union\n",
      "\n"
     ]
    }
   ],
   "source": [
    "library(dplyr)\n",
    "df<-df %>% select(-target) #텍스트필드 제거"
   ]
  },
  {
   "cell_type": "code",
   "execution_count": 5,
   "metadata": {},
   "outputs": [
    {
     "data": {
      "text/html": [
       "<ol class=list-inline>\n",
       "\t<li>150</li>\n",
       "\t<li>4</li>\n",
       "</ol>\n"
      ],
      "text/latex": [
       "\\begin{enumerate*}\n",
       "\\item 150\n",
       "\\item 4\n",
       "\\end{enumerate*}\n"
      ],
      "text/markdown": [
       "1. 150\n",
       "2. 4\n",
       "\n",
       "\n"
      ],
      "text/plain": [
       "[1] 150   4"
      ]
     },
     "metadata": {},
     "output_type": "display_data"
    },
    {
     "data": {
      "text/plain": [
       " sepal.length..cm. sepal.width..cm. petal.length..cm. petal.width..cm.\n",
       " Min.   :4.300     Min.   :2.000    Min.   :1.000     Min.   :0.100   \n",
       " 1st Qu.:5.100     1st Qu.:2.800    1st Qu.:1.600     1st Qu.:0.300   \n",
       " Median :5.800     Median :3.000    Median :4.350     Median :1.300   \n",
       " Mean   :5.843     Mean   :3.057    Mean   :3.758     Mean   :1.199   \n",
       " 3rd Qu.:6.400     3rd Qu.:3.300    3rd Qu.:5.100     3rd Qu.:1.800   \n",
       " Max.   :7.900     Max.   :4.400    Max.   :6.900     Max.   :2.500   "
      ]
     },
     "metadata": {},
     "output_type": "display_data"
    }
   ],
   "source": [
    "dim(df)#데이터의 차원\n",
    "summary(df) #기초통계량"
   ]
  },
  {
   "cell_type": "code",
   "execution_count": 6,
   "metadata": {},
   "outputs": [
    {
     "data": {
      "text/html": [
       "<table>\n",
       "<thead><tr><th></th><th scope=col>sepal.length..cm.</th><th scope=col>sepal.width..cm.</th><th scope=col>petal.length..cm.</th><th scope=col>petal.width..cm.</th></tr></thead>\n",
       "<tbody>\n",
       "\t<tr><th scope=row>sepal.length..cm.</th><td> 1.0000000</td><td>-0.1175698</td><td> 0.8717538</td><td> 0.8179411</td></tr>\n",
       "\t<tr><th scope=row>sepal.width..cm.</th><td>-0.1175698</td><td> 1.0000000</td><td>-0.4284401</td><td>-0.3661259</td></tr>\n",
       "\t<tr><th scope=row>petal.length..cm.</th><td> 0.8717538</td><td>-0.4284401</td><td> 1.0000000</td><td> 0.9628654</td></tr>\n",
       "\t<tr><th scope=row>petal.width..cm.</th><td> 0.8179411</td><td>-0.3661259</td><td> 0.9628654</td><td> 1.0000000</td></tr>\n",
       "</tbody>\n",
       "</table>\n"
      ],
      "text/latex": [
       "\\begin{tabular}{r|llll}\n",
       "  & sepal.length..cm. & sepal.width..cm. & petal.length..cm. & petal.width..cm.\\\\\n",
       "\\hline\n",
       "\tsepal.length..cm. &  1.0000000 & -0.1175698 &  0.8717538 &  0.8179411\\\\\n",
       "\tsepal.width..cm. & -0.1175698 &  1.0000000 & -0.4284401 & -0.3661259\\\\\n",
       "\tpetal.length..cm. &  0.8717538 & -0.4284401 &  1.0000000 &  0.9628654\\\\\n",
       "\tpetal.width..cm. &  0.8179411 & -0.3661259 &  0.9628654 &  1.0000000\\\\\n",
       "\\end{tabular}\n"
      ],
      "text/markdown": [
       "\n",
       "| <!--/--> | sepal.length..cm. | sepal.width..cm. | petal.length..cm. | petal.width..cm. |\n",
       "|---|---|---|---|---|\n",
       "| sepal.length..cm. |  1.0000000 | -0.1175698 |  0.8717538 |  0.8179411 |\n",
       "| sepal.width..cm. | -0.1175698 |  1.0000000 | -0.4284401 | -0.3661259 |\n",
       "| petal.length..cm. |  0.8717538 | -0.4284401 |  1.0000000 |  0.9628654 |\n",
       "| petal.width..cm. |  0.8179411 | -0.3661259 |  0.9628654 |  1.0000000 |\n",
       "\n"
      ],
      "text/plain": [
       "                  sepal.length..cm. sepal.width..cm. petal.length..cm.\n",
       "sepal.length..cm.  1.0000000        -0.1175698        0.8717538       \n",
       "sepal.width..cm.  -0.1175698         1.0000000       -0.4284401       \n",
       "petal.length..cm.  0.8717538        -0.4284401        1.0000000       \n",
       "petal.width..cm.   0.8179411        -0.3661259        0.9628654       \n",
       "                  petal.width..cm.\n",
       "sepal.length..cm.  0.8179411      \n",
       "sepal.width..cm.  -0.3661259      \n",
       "petal.length..cm.  0.9628654      \n",
       "petal.width..cm.   1.0000000      "
      ]
     },
     "metadata": {},
     "output_type": "display_data"
    }
   ],
   "source": [
    "(corrmatrix <- cor(df)) #상관계수 행렬"
   ]
  },
  {
   "cell_type": "code",
   "execution_count": 7,
   "metadata": {},
   "outputs": [
    {
     "name": "stderr",
     "output_type": "stream",
     "text": [
      "Warning message:\n",
      "\"package 'corrplot' was built under R version 3.6.2\"corrplot 0.84 loaded\n"
     ]
    },
    {
     "data": {
      "image/png": "[encoded data removed]",
      "text/plain": [
       "Plot with title \"\""
      ]
     },
     "metadata": {},
     "output_type": "display_data"
    }
   ],
   "source": [
    "library(corrplot)\n",
    "corrplot(cor(df),method='circle') #텍스트 필드 제거"
   ]
  },
  {
   "cell_type": "code",
   "execution_count": 8,
   "metadata": {},
   "outputs": [
    {
     "name": "stderr",
     "output_type": "stream",
     "text": [
      "Loading required package: lattice\n",
      "Warning message:\n",
      "\"package 'lattice' was built under R version 3.6.2\"Loading required package: ggplot2\n",
      "Warning message:\n",
      "\"package 'ggplot2' was built under R version 3.6.2\""
     ]
    },
    {
     "ename": "ERROR",
     "evalue": "Error in createDataPartition(y = df$Species, p = 0.8, list = F): y must have at least 2 data points\n",
     "output_type": "error",
     "traceback": [
      "Error in createDataPartition(y = df$Species, p = 0.8, list = F): y must have at least 2 data points\nTraceback:\n",
      "1. createDataPartition(y = df$Species, p = 0.8, list = F)",
      "2. stop(\"y must have at least 2 data points\")"
     ]
    }
   ],
   "source": [
    "library(caret)\n",
    "set.seed(123) #랜덤 시드 고정\n",
    "#학습용:검즈용 = 8:2로 구분\n",
    "idx_train<-createDataPartition(y=df$Species,p=0.8,list=F)\n",
    "train<-df[idx_train,] #학습용 데이터셋\n",
    "X_train<-train[,-5] #독립변수\n",
    "y_train<-train[,5] #종속변수\n",
    "test<-df[-idx,train,] #검증용 데이터셋\n",
    "X_test<-test[,-5]\n",
    "y_test<-test[,5]"
   ]
  },
  {
   "cell_type": "code",
   "execution_count": null,
   "metadata": {},
   "outputs": [],
   "source": []
  },
  {
   "cell_type": "code",
   "execution_count": 11,
   "metadata": {},
   "outputs": [
    {
     "data": {
      "text/html": [
       "<table>\n",
       "<thead><tr><th scope=col>sepal.length..cm.</th><th scope=col>sepal.width..cm.</th><th scope=col>petal.length..cm.</th><th scope=col>petal.width..cm.</th><th scope=col>target</th><th scope=col>Result</th></tr></thead>\n",
       "<tbody>\n",
       "\t<tr><td>5.1   </td><td>3.5   </td><td>1.4   </td><td>0.2   </td><td>setosa</td><td>0     </td></tr>\n",
       "\t<tr><td>4.9   </td><td>3.0   </td><td>1.4   </td><td>0.2   </td><td>setosa</td><td>0     </td></tr>\n",
       "\t<tr><td>4.7   </td><td>3.2   </td><td>1.3   </td><td>0.2   </td><td>setosa</td><td>0     </td></tr>\n",
       "\t<tr><td>4.6   </td><td>3.1   </td><td>1.5   </td><td>0.2   </td><td>setosa</td><td>0     </td></tr>\n",
       "\t<tr><td>5.0   </td><td>3.6   </td><td>1.4   </td><td>0.2   </td><td>setosa</td><td>0     </td></tr>\n",
       "\t<tr><td>5.4   </td><td>3.9   </td><td>1.7   </td><td>0.4   </td><td>setosa</td><td>0     </td></tr>\n",
       "</tbody>\n",
       "</table>\n"
      ],
      "text/latex": [
       "\\begin{tabular}{r|llllll}\n",
       " sepal.length..cm. & sepal.width..cm. & petal.length..cm. & petal.width..cm. & target & Result\\\\\n",
       "\\hline\n",
       "\t 5.1    & 3.5    & 1.4    & 0.2    & setosa & 0     \\\\\n",
       "\t 4.9    & 3.0    & 1.4    & 0.2    & setosa & 0     \\\\\n",
       "\t 4.7    & 3.2    & 1.3    & 0.2    & setosa & 0     \\\\\n",
       "\t 4.6    & 3.1    & 1.5    & 0.2    & setosa & 0     \\\\\n",
       "\t 5.0    & 3.6    & 1.4    & 0.2    & setosa & 0     \\\\\n",
       "\t 5.4    & 3.9    & 1.7    & 0.4    & setosa & 0     \\\\\n",
       "\\end{tabular}\n"
      ],
      "text/markdown": [
       "\n",
       "| sepal.length..cm. | sepal.width..cm. | petal.length..cm. | petal.width..cm. | target | Result |\n",
       "|---|---|---|---|---|---|\n",
       "| 5.1    | 3.5    | 1.4    | 0.2    | setosa | 0      |\n",
       "| 4.9    | 3.0    | 1.4    | 0.2    | setosa | 0      |\n",
       "| 4.7    | 3.2    | 1.3    | 0.2    | setosa | 0      |\n",
       "| 4.6    | 3.1    | 1.5    | 0.2    | setosa | 0      |\n",
       "| 5.0    | 3.6    | 1.4    | 0.2    | setosa | 0      |\n",
       "| 5.4    | 3.9    | 1.7    | 0.4    | setosa | 0      |\n",
       "\n"
      ],
      "text/plain": [
       "  sepal.length..cm. sepal.width..cm. petal.length..cm. petal.width..cm. target\n",
       "1 5.1               3.5              1.4               0.2              setosa\n",
       "2 4.9               3.0              1.4               0.2              setosa\n",
       "3 4.7               3.2              1.3               0.2              setosa\n",
       "4 4.6               3.1              1.5               0.2              setosa\n",
       "5 5.0               3.6              1.4               0.2              setosa\n",
       "6 5.4               3.9              1.7               0.4              setosa\n",
       "  Result\n",
       "1 0     \n",
       "2 0     \n",
       "3 0     \n",
       "4 0     \n",
       "5 0     \n",
       "6 0     "
      ]
     },
     "metadata": {},
     "output_type": "display_data"
    }
   ],
   "source": [
    "df<-read.csv('d:/data/iris/iris2.csv')\n",
    "head(df)"
   ]
  },
  {
   "cell_type": "code",
   "execution_count": 12,
   "metadata": {},
   "outputs": [],
   "source": [
    "library(dplyr)\n",
    "df<-df %>% select(-target) #텍스트필드 제거"
   ]
  },
  {
   "cell_type": "code",
   "execution_count": 13,
   "metadata": {},
   "outputs": [
    {
     "data": {
      "text/html": [
       "<ol class=list-inline>\n",
       "\t<li>150</li>\n",
       "\t<li>5</li>\n",
       "</ol>\n"
      ],
      "text/latex": [
       "\\begin{enumerate*}\n",
       "\\item 150\n",
       "\\item 5\n",
       "\\end{enumerate*}\n"
      ],
      "text/markdown": [
       "1. 150\n",
       "2. 5\n",
       "\n",
       "\n"
      ],
      "text/plain": [
       "[1] 150   5"
      ]
     },
     "metadata": {},
     "output_type": "display_data"
    },
    {
     "data": {
      "text/plain": [
       " sepal.length..cm. sepal.width..cm. petal.length..cm. petal.width..cm.\n",
       " Min.   :4.300     Min.   :2.000    Min.   :1.000     Min.   :0.100   \n",
       " 1st Qu.:5.100     1st Qu.:2.800    1st Qu.:1.600     1st Qu.:0.300   \n",
       " Median :5.800     Median :3.000    Median :4.350     Median :1.300   \n",
       " Mean   :5.843     Mean   :3.057    Mean   :3.758     Mean   :1.199   \n",
       " 3rd Qu.:6.400     3rd Qu.:3.300    3rd Qu.:5.100     3rd Qu.:1.800   \n",
       " Max.   :7.900     Max.   :4.400    Max.   :6.900     Max.   :2.500   \n",
       "     Result \n",
       " Min.   :0  \n",
       " 1st Qu.:0  \n",
       " Median :1  \n",
       " Mean   :1  \n",
       " 3rd Qu.:2  \n",
       " Max.   :2  "
      ]
     },
     "metadata": {},
     "output_type": "display_data"
    }
   ],
   "source": [
    "dim(df)\n",
    "summary(df)"
   ]
  },
  {
   "cell_type": "code",
   "execution_count": 14,
   "metadata": {},
   "outputs": [
    {
     "data": {
      "text/html": [
       "<table>\n",
       "<thead><tr><th></th><th scope=col>sepal.length..cm.</th><th scope=col>sepal.width..cm.</th><th scope=col>petal.length..cm.</th><th scope=col>petal.width..cm.</th><th scope=col>Result</th></tr></thead>\n",
       "<tbody>\n",
       "\t<tr><th scope=row>sepal.length..cm.</th><td> 1.0000000</td><td>-0.1175698</td><td> 0.8717538</td><td> 0.8179411</td><td> 0.4600392</td></tr>\n",
       "\t<tr><th scope=row>sepal.width..cm.</th><td>-0.1175698</td><td> 1.0000000</td><td>-0.4284401</td><td>-0.3661259</td><td>-0.6183715</td></tr>\n",
       "\t<tr><th scope=row>petal.length..cm.</th><td> 0.8717538</td><td>-0.4284401</td><td> 1.0000000</td><td> 0.9628654</td><td> 0.6492418</td></tr>\n",
       "\t<tr><th scope=row>petal.width..cm.</th><td> 0.8179411</td><td>-0.3661259</td><td> 0.9628654</td><td> 1.0000000</td><td> 0.5803770</td></tr>\n",
       "\t<tr><th scope=row>Result</th><td> 0.4600392</td><td>-0.6183715</td><td> 0.6492418</td><td> 0.5803770</td><td> 1.0000000</td></tr>\n",
       "</tbody>\n",
       "</table>\n"
      ],
      "text/latex": [
       "\\begin{tabular}{r|lllll}\n",
       "  & sepal.length..cm. & sepal.width..cm. & petal.length..cm. & petal.width..cm. & Result\\\\\n",
       "\\hline\n",
       "\tsepal.length..cm. &  1.0000000 & -0.1175698 &  0.8717538 &  0.8179411 &  0.4600392\\\\\n",
       "\tsepal.width..cm. & -0.1175698 &  1.0000000 & -0.4284401 & -0.3661259 & -0.6183715\\\\\n",
       "\tpetal.length..cm. &  0.8717538 & -0.4284401 &  1.0000000 &  0.9628654 &  0.6492418\\\\\n",
       "\tpetal.width..cm. &  0.8179411 & -0.3661259 &  0.9628654 &  1.0000000 &  0.5803770\\\\\n",
       "\tResult &  0.4600392 & -0.6183715 &  0.6492418 &  0.5803770 &  1.0000000\\\\\n",
       "\\end{tabular}\n"
      ],
      "text/markdown": [
       "\n",
       "| <!--/--> | sepal.length..cm. | sepal.width..cm. | petal.length..cm. | petal.width..cm. | Result |\n",
       "|---|---|---|---|---|---|\n",
       "| sepal.length..cm. |  1.0000000 | -0.1175698 |  0.8717538 |  0.8179411 |  0.4600392 |\n",
       "| sepal.width..cm. | -0.1175698 |  1.0000000 | -0.4284401 | -0.3661259 | -0.6183715 |\n",
       "| petal.length..cm. |  0.8717538 | -0.4284401 |  1.0000000 |  0.9628654 |  0.6492418 |\n",
       "| petal.width..cm. |  0.8179411 | -0.3661259 |  0.9628654 |  1.0000000 |  0.5803770 |\n",
       "| Result |  0.4600392 | -0.6183715 |  0.6492418 |  0.5803770 |  1.0000000 |\n",
       "\n"
      ],
      "text/plain": [
       "                  sepal.length..cm. sepal.width..cm. petal.length..cm.\n",
       "sepal.length..cm.  1.0000000        -0.1175698        0.8717538       \n",
       "sepal.width..cm.  -0.1175698         1.0000000       -0.4284401       \n",
       "petal.length..cm.  0.8717538        -0.4284401        1.0000000       \n",
       "petal.width..cm.   0.8179411        -0.3661259        0.9628654       \n",
       "Result             0.4600392        -0.6183715        0.6492418       \n",
       "                  petal.width..cm. Result    \n",
       "sepal.length..cm.  0.8179411        0.4600392\n",
       "sepal.width..cm.  -0.3661259       -0.6183715\n",
       "petal.length..cm.  0.9628654        0.6492418\n",
       "petal.width..cm.   1.0000000        0.5803770\n",
       "Result             0.5803770        1.0000000"
      ]
     },
     "metadata": {},
     "output_type": "display_data"
    }
   ],
   "source": [
    "(corrmatrix <-cor(df))"
   ]
  },
  {
   "cell_type": "code",
   "execution_count": 15,
   "metadata": {},
   "outputs": [
    {
     "data": {
      "image/png": "[encoded data removed]",
      "text/plain": [
       "Plot with title \"\""
      ]
     },
     "metadata": {},
     "output_type": "display_data"
    }
   ],
   "source": [
    "library(corrplot)\n",
    "corrplot(cor(df),method='circle') #텍스트 필드 제거"
   ]
  },
  {
   "cell_type": "code",
   "execution_count": 16,
   "metadata": {},
   "outputs": [],
   "source": [
    "library(caret)\n",
    "set.seed(123) #랜덤 시드 고정\n",
    "#학습용:검증용 = 8:2로 구분\n",
    "idx_train<-createDataPartition(y=df$Result,p=0.8,list=F)\n",
    "train<-df[idx_train,] #학습용 데이터셋\n",
    "X_train<-train[,-5] #독립변수\n",
    "y_train<-train[,5] #종속변수\n",
    "test<-df[-idx_train,] #검증용 데이터셋\n",
    "X_test<-test[,-5]\n",
    "y_test<-test[,5]"
   ]
  },
  {
   "cell_type": "code",
   "execution_count": 17,
   "metadata": {},
   "outputs": [
    {
     "name": "stdout",
     "output_type": "stream",
     "text": [
      "# weights:  18 (10 variable)\n",
      "initial  value 131.833475 \n",
      "iter  10 value 16.236754\n",
      "iter  20 value 6.608825\n",
      "iter  30 value 6.000470\n",
      "iter  40 value 5.910469\n",
      "iter  50 value 5.891683\n",
      "iter  60 value 5.886120\n",
      "iter  70 value 5.885162\n",
      "iter  80 value 5.884161\n",
      "final  value 5.884092 \n",
      "converged\n"
     ]
    },
    {
     "data": {
      "text/plain": [
       "Call:\n",
       "multinom(formula = Result ~ ., data = train)\n",
       "\n",
       "Coefficients:\n",
       "  (Intercept) sepal.length..cm. sepal.width..cm. petal.length..cm.\n",
       "1   -22.42764         -8.295312       -13.262933          22.41185\n",
       "2    18.04182         -5.750535        -7.048196          13.21622\n",
       "  petal.width..cm.\n",
       "1        14.460220\n",
       "2        -2.704411\n",
       "\n",
       "Std. Errors:\n",
       "  (Intercept) sepal.length..cm. sepal.width..cm. petal.length..cm.\n",
       "1    22.57508          49.56567         76.58838          41.37509\n",
       "2    21.32530          49.52981         76.41606          40.97516\n",
       "  petal.width..cm.\n",
       "1         23.52769\n",
       "2         22.60219\n",
       "\n",
       "Residual Deviance: 11.76818 \n",
       "AIC: 31.76818 "
      ]
     },
     "metadata": {},
     "output_type": "display_data"
    }
   ],
   "source": [
    "library(nnet)\n",
    "# 3 class 이상인 경우 multinom 함수 사용\n",
    "model<-multinom(Result~., data=train)\n",
    "summary(model) #모형 요약"
   ]
  },
  {
   "cell_type": "code",
   "execution_count": 18,
   "metadata": {},
   "outputs": [
    {
     "data": {
      "text/html": [
       "<table>\n",
       "<thead><tr><th scope=col>(Intercept)</th><th scope=col>sepal.length..cm.</th><th scope=col>sepal.width..cm.</th><th scope=col>petal.length..cm.</th><th scope=col>petal.width..cm.</th></tr></thead>\n",
       "<tbody>\n",
       "\t<tr><td>-22.42764 </td><td>-8.295312 </td><td>-13.262933</td><td>22.41185  </td><td>14.460220 </td></tr>\n",
       "\t<tr><td> 18.04182 </td><td>-5.750535 </td><td> -7.048196</td><td>13.21622  </td><td>-2.704411 </td></tr>\n",
       "</tbody>\n",
       "</table>\n"
      ],
      "text/latex": [
       "\\begin{tabular}{r|lllll}\n",
       " (Intercept) & sepal.length..cm. & sepal.width..cm. & petal.length..cm. & petal.width..cm.\\\\\n",
       "\\hline\n",
       "\t -22.42764  & -8.295312  & -13.262933 & 22.41185   & 14.460220 \\\\\n",
       "\t  18.04182  & -5.750535  &  -7.048196 & 13.21622   & -2.704411 \\\\\n",
       "\\end{tabular}\n"
      ],
      "text/markdown": [
       "\n",
       "| (Intercept) | sepal.length..cm. | sepal.width..cm. | petal.length..cm. | petal.width..cm. |\n",
       "|---|---|---|---|---|\n",
       "| -22.42764  | -8.295312  | -13.262933 | 22.41185   | 14.460220  |\n",
       "|  18.04182  | -5.750535  |  -7.048196 | 13.21622   | -2.704411  |\n",
       "\n"
      ],
      "text/plain": [
       "  (Intercept) sepal.length..cm. sepal.width..cm. petal.length..cm.\n",
       "1 -22.42764   -8.295312         -13.262933       22.41185         \n",
       "2  18.04182   -5.750535          -7.048196       13.21622         \n",
       "  petal.width..cm.\n",
       "1 14.460220       \n",
       "2 -2.704411       "
      ]
     },
     "metadata": {},
     "output_type": "display_data"
    }
   ],
   "source": [
    "(coef1<-coef(model)) #회귀계수"
   ]
  },
  {
   "cell_type": "code",
   "execution_count": 19,
   "metadata": {},
   "outputs": [
    {
     "data": {
      "text/html": [
       "<table>\n",
       "<thead><tr><th></th><th scope=col>0</th><th scope=col>1</th><th scope=col>2</th></tr></thead>\n",
       "<tbody>\n",
       "\t<tr><th scope=row>1</th><td>1</td><td>0</td><td>0</td></tr>\n",
       "\t<tr><th scope=row>2</th><td>1</td><td>0</td><td>0</td></tr>\n",
       "\t<tr><th scope=row>10</th><td>1</td><td>0</td><td>0</td></tr>\n",
       "\t<tr><th scope=row>11</th><td>1</td><td>0</td><td>0</td></tr>\n",
       "\t<tr><th scope=row>24</th><td>1</td><td>0</td><td>0</td></tr>\n",
       "\t<tr><th scope=row>28</th><td>1</td><td>0</td><td>0</td></tr>\n",
       "</tbody>\n",
       "</table>\n"
      ],
      "text/latex": [
       "\\begin{tabular}{r|lll}\n",
       "  & 0 & 1 & 2\\\\\n",
       "\\hline\n",
       "\t1 & 1 & 0 & 0\\\\\n",
       "\t2 & 1 & 0 & 0\\\\\n",
       "\t10 & 1 & 0 & 0\\\\\n",
       "\t11 & 1 & 0 & 0\\\\\n",
       "\t24 & 1 & 0 & 0\\\\\n",
       "\t28 & 1 & 0 & 0\\\\\n",
       "\\end{tabular}\n"
      ],
      "text/markdown": [
       "\n",
       "| <!--/--> | 0 | 1 | 2 |\n",
       "|---|---|---|---|\n",
       "| 1 | 1 | 0 | 0 |\n",
       "| 2 | 1 | 0 | 0 |\n",
       "| 10 | 1 | 0 | 0 |\n",
       "| 11 | 1 | 0 | 0 |\n",
       "| 24 | 1 | 0 | 0 |\n",
       "| 28 | 1 | 0 | 0 |\n",
       "\n"
      ],
      "text/plain": [
       "   0 1 2\n",
       "1  1 0 0\n",
       "2  1 0 0\n",
       "10 1 0 0\n",
       "11 1 0 0\n",
       "24 1 0 0\n",
       "28 1 0 0"
      ]
     },
     "metadata": {},
     "output_type": "display_data"
    },
    {
     "data": {
      "text/html": [
       "<ol class=list-inline>\n",
       "\t<li>0</li>\n",
       "\t<li>0</li>\n",
       "\t<li>0</li>\n",
       "\t<li>0</li>\n",
       "\t<li>0</li>\n",
       "\t<li>0</li>\n",
       "</ol>\n"
      ],
      "text/latex": [
       "\\begin{enumerate*}\n",
       "\\item 0\n",
       "\\item 0\n",
       "\\item 0\n",
       "\\item 0\n",
       "\\item 0\n",
       "\\item 0\n",
       "\\end{enumerate*}\n"
      ],
      "text/markdown": [
       "1. 0\n",
       "2. 0\n",
       "3. 0\n",
       "4. 0\n",
       "5. 0\n",
       "6. 0\n",
       "\n",
       "\n"
      ],
      "text/plain": [
       "[1] 0 0 0 0 0 0"
      ]
     },
     "metadata": {},
     "output_type": "display_data"
    }
   ],
   "source": [
    "#검증용 데이터셋으로 모형 평가\n",
    "pred<-predict(model,newdata=X_test,type='probs')\n",
    "#pred\n",
    "result<-ifelse(pred>0.5,1,0)\n",
    "head(result)\n",
    "head(y_test)\n",
    "#y_test"
   ]
  },
  {
   "cell_type": "code",
   "execution_count": 20,
   "metadata": {},
   "outputs": [
    {
     "data": {
      "text/html": [
       "0.344444444444444"
      ],
      "text/latex": [
       "0.344444444444444"
      ],
      "text/markdown": [
       "0.344444444444444"
      ],
      "text/plain": [
       "[1] 0.3444444"
      ]
     },
     "metadata": {},
     "output_type": "display_data"
    }
   ],
   "source": [
    "#3 class 와 맞지 않음\n",
    "mean(y_test == result)"
   ]
  },
  {
   "cell_type": "code",
   "execution_count": 24,
   "metadata": {},
   "outputs": [
    {
     "data": {
      "text/html": [
       "<ol class=list-inline>\n",
       "\t<li>0</li>\n",
       "\t<li>0</li>\n",
       "\t<li>0</li>\n",
       "\t<li>0</li>\n",
       "\t<li>0</li>\n",
       "\t<li>0</li>\n",
       "\t<li>0</li>\n",
       "\t<li>0</li>\n",
       "\t<li>0</li>\n",
       "\t<li>0</li>\n",
       "\t<li>0</li>\n",
       "\t<li>2</li>\n",
       "\t<li>2</li>\n",
       "\t<li>2</li>\n",
       "\t<li>2</li>\n",
       "\t<li>2</li>\n",
       "\t<li>2</li>\n",
       "\t<li>2</li>\n",
       "\t<li>2</li>\n",
       "\t<li>2</li>\n",
       "\t<li>2</li>\n",
       "\t<li>1</li>\n",
       "\t<li>1</li>\n",
       "\t<li>1</li>\n",
       "\t<li>1</li>\n",
       "\t<li>1</li>\n",
       "\t<li>1</li>\n",
       "\t<li>1</li>\n",
       "\t<li>1</li>\n",
       "\t<li>1</li>\n",
       "</ol>\n"
      ],
      "text/latex": [
       "\\begin{enumerate*}\n",
       "\\item 0\n",
       "\\item 0\n",
       "\\item 0\n",
       "\\item 0\n",
       "\\item 0\n",
       "\\item 0\n",
       "\\item 0\n",
       "\\item 0\n",
       "\\item 0\n",
       "\\item 0\n",
       "\\item 0\n",
       "\\item 2\n",
       "\\item 2\n",
       "\\item 2\n",
       "\\item 2\n",
       "\\item 2\n",
       "\\item 2\n",
       "\\item 2\n",
       "\\item 2\n",
       "\\item 2\n",
       "\\item 2\n",
       "\\item 1\n",
       "\\item 1\n",
       "\\item 1\n",
       "\\item 1\n",
       "\\item 1\n",
       "\\item 1\n",
       "\\item 1\n",
       "\\item 1\n",
       "\\item 1\n",
       "\\end{enumerate*}\n"
      ],
      "text/markdown": [
       "1. 0\n",
       "2. 0\n",
       "3. 0\n",
       "4. 0\n",
       "5. 0\n",
       "6. 0\n",
       "7. 0\n",
       "8. 0\n",
       "9. 0\n",
       "10. 0\n",
       "11. 0\n",
       "12. 2\n",
       "13. 2\n",
       "14. 2\n",
       "15. 2\n",
       "16. 2\n",
       "17. 2\n",
       "18. 2\n",
       "19. 2\n",
       "20. 2\n",
       "21. 2\n",
       "22. 1\n",
       "23. 1\n",
       "24. 1\n",
       "25. 1\n",
       "26. 1\n",
       "27. 1\n",
       "28. 1\n",
       "29. 1\n",
       "30. 1\n",
       "\n",
       "\n"
      ],
      "text/plain": [
       " [1] 0 0 0 0 0 0 0 0 0 0 0 2 2 2 2 2 2 2 2 2 2 1 1 1 1 1 1 1 1 1"
      ]
     },
     "metadata": {},
     "output_type": "display_data"
    }
   ],
   "source": [
    "#빈 벡터\n",
    "new_result=c()\n",
    "# nrow 행의 수 , ncol 컬럼수\n",
    "for(i in 1:nrow(result)){\n",
    "    for(j in 1:ncol(result)){\n",
    "        if(result[i,j]==1){\n",
    "            new_result[i]=j-1\n",
    "        }\n",
    "    }\n",
    "}\n",
    "new_result"
   ]
  },
  {
   "cell_type": "code",
   "execution_count": 25,
   "metadata": {},
   "outputs": [
    {
     "data": {
      "text/html": [
       "<ol class=list-inline>\n",
       "\t<li>TRUE</li>\n",
       "\t<li>TRUE</li>\n",
       "\t<li>TRUE</li>\n",
       "\t<li>TRUE</li>\n",
       "\t<li>TRUE</li>\n",
       "\t<li>TRUE</li>\n",
       "\t<li>TRUE</li>\n",
       "\t<li>TRUE</li>\n",
       "\t<li>TRUE</li>\n",
       "\t<li>TRUE</li>\n",
       "\t<li>TRUE</li>\n",
       "\t<li>TRUE</li>\n",
       "\t<li>TRUE</li>\n",
       "\t<li>TRUE</li>\n",
       "\t<li>TRUE</li>\n",
       "\t<li>TRUE</li>\n",
       "\t<li>TRUE</li>\n",
       "\t<li>TRUE</li>\n",
       "\t<li>TRUE</li>\n",
       "\t<li>TRUE</li>\n",
       "\t<li>TRUE</li>\n",
       "\t<li>TRUE</li>\n",
       "\t<li>TRUE</li>\n",
       "\t<li>TRUE</li>\n",
       "\t<li>TRUE</li>\n",
       "\t<li>TRUE</li>\n",
       "\t<li>TRUE</li>\n",
       "\t<li>TRUE</li>\n",
       "\t<li>TRUE</li>\n",
       "\t<li>TRUE</li>\n",
       "</ol>\n"
      ],
      "text/latex": [
       "\\begin{enumerate*}\n",
       "\\item TRUE\n",
       "\\item TRUE\n",
       "\\item TRUE\n",
       "\\item TRUE\n",
       "\\item TRUE\n",
       "\\item TRUE\n",
       "\\item TRUE\n",
       "\\item TRUE\n",
       "\\item TRUE\n",
       "\\item TRUE\n",
       "\\item TRUE\n",
       "\\item TRUE\n",
       "\\item TRUE\n",
       "\\item TRUE\n",
       "\\item TRUE\n",
       "\\item TRUE\n",
       "\\item TRUE\n",
       "\\item TRUE\n",
       "\\item TRUE\n",
       "\\item TRUE\n",
       "\\item TRUE\n",
       "\\item TRUE\n",
       "\\item TRUE\n",
       "\\item TRUE\n",
       "\\item TRUE\n",
       "\\item TRUE\n",
       "\\item TRUE\n",
       "\\item TRUE\n",
       "\\item TRUE\n",
       "\\item TRUE\n",
       "\\end{enumerate*}\n"
      ],
      "text/markdown": [
       "1. TRUE\n",
       "2. TRUE\n",
       "3. TRUE\n",
       "4. TRUE\n",
       "5. TRUE\n",
       "6. TRUE\n",
       "7. TRUE\n",
       "8. TRUE\n",
       "9. TRUE\n",
       "10. TRUE\n",
       "11. TRUE\n",
       "12. TRUE\n",
       "13. TRUE\n",
       "14. TRUE\n",
       "15. TRUE\n",
       "16. TRUE\n",
       "17. TRUE\n",
       "18. TRUE\n",
       "19. TRUE\n",
       "20. TRUE\n",
       "21. TRUE\n",
       "22. TRUE\n",
       "23. TRUE\n",
       "24. TRUE\n",
       "25. TRUE\n",
       "26. TRUE\n",
       "27. TRUE\n",
       "28. TRUE\n",
       "29. TRUE\n",
       "30. TRUE\n",
       "\n",
       "\n"
      ],
      "text/plain": [
       " [1] TRUE TRUE TRUE TRUE TRUE TRUE TRUE TRUE TRUE TRUE TRUE TRUE TRUE TRUE TRUE\n",
       "[16] TRUE TRUE TRUE TRUE TRUE TRUE TRUE TRUE TRUE TRUE TRUE TRUE TRUE TRUE TRUE"
      ]
     },
     "metadata": {},
     "output_type": "display_data"
    }
   ],
   "source": [
    "y_test == new_result\n"
   ]
  },
  {
   "cell_type": "code",
   "execution_count": 26,
   "metadata": {},
   "outputs": [
    {
     "data": {
      "text/html": [
       "1"
      ],
      "text/latex": [
       "1"
      ],
      "text/markdown": [
       "1"
      ],
      "text/plain": [
       "[1] 1"
      ]
     },
     "metadata": {},
     "output_type": "display_data"
    }
   ],
   "source": [
    "mean(y_test == new_result)"
   ]
  },
  {
   "cell_type": "code",
   "execution_count": 27,
   "metadata": {},
   "outputs": [
    {
     "data": {
      "text/plain": [
       "      new_result\n",
       "y_test  0  1  2\n",
       "     0 11  0  0\n",
       "     1  0  9  0\n",
       "     2  0  0 10"
      ]
     },
     "metadata": {},
     "output_type": "display_data"
    }
   ],
   "source": [
    "table(y_test,new_result)"
   ]
  },
  {
   "cell_type": "code",
   "execution_count": null,
   "metadata": {},
   "outputs": [],
   "source": []
  },
  {
   "cell_type": "code",
   "execution_count": null,
   "metadata": {},
   "outputs": [],
   "source": []
  },
  {
   "cell_type": "code",
   "execution_count": null,
   "metadata": {},
   "outputs": [],
   "source": []
  }
 ],
 "metadata": {
  "kernelspec": {
   "display_name": "R",
   "language": "R",
   "name": "ir"
  },
  "language_info": {
   "codemirror_mode": "r",
   "file_extension": ".r",
   "mimetype": "text/x-r-source",
   "name": "R",
   "pygments_lexer": "r",
   "version": "3.6.1"
  }
 },
 "nbformat": 4,
 "nbformat_minor": 2
}
