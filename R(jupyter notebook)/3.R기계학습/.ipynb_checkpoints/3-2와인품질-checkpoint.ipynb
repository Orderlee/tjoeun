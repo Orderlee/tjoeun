{
 "cells": [
  {
   "cell_type": "code",
   "execution_count": 1,
   "metadata": {},
   "outputs": [
    {
     "data": {
      "text/html": [
       "<table>\n",
       "<thead><tr><th scope=col>fixed.acidity</th><th scope=col>volatile.acidity</th><th scope=col>citric.acid</th><th scope=col>residual.sugar</th><th scope=col>chlorides</th><th scope=col>free.sulfur.dioxide</th><th scope=col>total.sulfur.dioxide</th><th scope=col>density</th><th scope=col>pH</th><th scope=col>sulphates</th><th scope=col>alcohol</th><th scope=col>quality</th><th scope=col>class</th></tr></thead>\n",
       "<tbody>\n",
       "\t<tr><td> 7.4  </td><td>0.70  </td><td>0.00  </td><td>1.9   </td><td>0.076 </td><td>11    </td><td>34    </td><td>0.9978</td><td>3.51  </td><td>0.56  </td><td>9.4   </td><td>5     </td><td>0     </td></tr>\n",
       "\t<tr><td> 7.8  </td><td>0.88  </td><td>0.00  </td><td>2.6   </td><td>0.098 </td><td>25    </td><td>67    </td><td>0.9968</td><td>3.20  </td><td>0.68  </td><td>9.8   </td><td>5     </td><td>0     </td></tr>\n",
       "\t<tr><td> 7.8  </td><td>0.76  </td><td>0.04  </td><td>2.3   </td><td>0.092 </td><td>15    </td><td>54    </td><td>0.9970</td><td>3.26  </td><td>0.65  </td><td>9.8   </td><td>5     </td><td>0     </td></tr>\n",
       "\t<tr><td>11.2  </td><td>0.28  </td><td>0.56  </td><td>1.9   </td><td>0.075 </td><td>17    </td><td>60    </td><td>0.9980</td><td>3.16  </td><td>0.58  </td><td>9.8   </td><td>6     </td><td>1     </td></tr>\n",
       "\t<tr><td> 7.4  </td><td>0.70  </td><td>0.00  </td><td>1.9   </td><td>0.076 </td><td>11    </td><td>34    </td><td>0.9978</td><td>3.51  </td><td>0.56  </td><td>9.4   </td><td>5     </td><td>0     </td></tr>\n",
       "\t<tr><td> 7.4  </td><td>0.66  </td><td>0.00  </td><td>1.8   </td><td>0.075 </td><td>13    </td><td>40    </td><td>0.9978</td><td>3.51  </td><td>0.56  </td><td>9.4   </td><td>5     </td><td>0     </td></tr>\n",
       "</tbody>\n",
       "</table>\n"
      ],
      "text/latex": [
       "\\begin{tabular}{r|lllllllllllll}\n",
       " fixed.acidity & volatile.acidity & citric.acid & residual.sugar & chlorides & free.sulfur.dioxide & total.sulfur.dioxide & density & pH & sulphates & alcohol & quality & class\\\\\n",
       "\\hline\n",
       "\t  7.4   & 0.70   & 0.00   & 1.9    & 0.076  & 11     & 34     & 0.9978 & 3.51   & 0.56   & 9.4    & 5      & 0     \\\\\n",
       "\t  7.8   & 0.88   & 0.00   & 2.6    & 0.098  & 25     & 67     & 0.9968 & 3.20   & 0.68   & 9.8    & 5      & 0     \\\\\n",
       "\t  7.8   & 0.76   & 0.04   & 2.3    & 0.092  & 15     & 54     & 0.9970 & 3.26   & 0.65   & 9.8    & 5      & 0     \\\\\n",
       "\t 11.2   & 0.28   & 0.56   & 1.9    & 0.075  & 17     & 60     & 0.9980 & 3.16   & 0.58   & 9.8    & 6      & 1     \\\\\n",
       "\t  7.4   & 0.70   & 0.00   & 1.9    & 0.076  & 11     & 34     & 0.9978 & 3.51   & 0.56   & 9.4    & 5      & 0     \\\\\n",
       "\t  7.4   & 0.66   & 0.00   & 1.8    & 0.075  & 13     & 40     & 0.9978 & 3.51   & 0.56   & 9.4    & 5      & 0     \\\\\n",
       "\\end{tabular}\n"
      ],
      "text/markdown": [
       "\n",
       "| fixed.acidity | volatile.acidity | citric.acid | residual.sugar | chlorides | free.sulfur.dioxide | total.sulfur.dioxide | density | pH | sulphates | alcohol | quality | class |\n",
       "|---|---|---|---|---|---|---|---|---|---|---|---|---|\n",
       "|  7.4   | 0.70   | 0.00   | 1.9    | 0.076  | 11     | 34     | 0.9978 | 3.51   | 0.56   | 9.4    | 5      | 0      |\n",
       "|  7.8   | 0.88   | 0.00   | 2.6    | 0.098  | 25     | 67     | 0.9968 | 3.20   | 0.68   | 9.8    | 5      | 0      |\n",
       "|  7.8   | 0.76   | 0.04   | 2.3    | 0.092  | 15     | 54     | 0.9970 | 3.26   | 0.65   | 9.8    | 5      | 0      |\n",
       "| 11.2   | 0.28   | 0.56   | 1.9    | 0.075  | 17     | 60     | 0.9980 | 3.16   | 0.58   | 9.8    | 6      | 1      |\n",
       "|  7.4   | 0.70   | 0.00   | 1.9    | 0.076  | 11     | 34     | 0.9978 | 3.51   | 0.56   | 9.4    | 5      | 0      |\n",
       "|  7.4   | 0.66   | 0.00   | 1.8    | 0.075  | 13     | 40     | 0.9978 | 3.51   | 0.56   | 9.4    | 5      | 0      |\n",
       "\n"
      ],
      "text/plain": [
       "  fixed.acidity volatile.acidity citric.acid residual.sugar chlorides\n",
       "1  7.4          0.70             0.00        1.9            0.076    \n",
       "2  7.8          0.88             0.00        2.6            0.098    \n",
       "3  7.8          0.76             0.04        2.3            0.092    \n",
       "4 11.2          0.28             0.56        1.9            0.075    \n",
       "5  7.4          0.70             0.00        1.9            0.076    \n",
       "6  7.4          0.66             0.00        1.8            0.075    \n",
       "  free.sulfur.dioxide total.sulfur.dioxide density pH   sulphates alcohol\n",
       "1 11                  34                   0.9978  3.51 0.56      9.4    \n",
       "2 25                  67                   0.9968  3.20 0.68      9.8    \n",
       "3 15                  54                   0.9970  3.26 0.65      9.8    \n",
       "4 17                  60                   0.9980  3.16 0.58      9.8    \n",
       "5 11                  34                   0.9978  3.51 0.56      9.4    \n",
       "6 13                  40                   0.9978  3.51 0.56      9.4    \n",
       "  quality class\n",
       "1 5       0    \n",
       "2 5       0    \n",
       "3 5       0    \n",
       "4 6       1    \n",
       "5 5       0    \n",
       "6 5       0    "
      ]
     },
     "metadata": {},
     "output_type": "display_data"
    }
   ],
   "source": [
    "#sep 필드 구분자 sep=',' 이미 처리를 했기 때문에 사용안함\n",
    "df<-read.csv('d:/data/wine/winequality-red2.csv')\n",
    "head(df)"
   ]
  },
  {
   "cell_type": "code",
   "execution_count": 2,
   "metadata": {},
   "outputs": [
    {
     "name": "stderr",
     "output_type": "stream",
     "text": [
      "Warning message:\n",
      "\"package 'dplyr' was built under R version 3.6.2\"\n",
      "Attaching package: 'dplyr'\n",
      "\n",
      "The following objects are masked from 'package:stats':\n",
      "\n",
      "    filter, lag\n",
      "\n",
      "The following objects are masked from 'package:base':\n",
      "\n",
      "    intersect, setdiff, setequal, union\n",
      "\n"
     ]
    }
   ],
   "source": [
    "library(dplyr)\n",
    "df<-df %>% select(-quality)"
   ]
  },
  {
   "cell_type": "code",
   "execution_count": 3,
   "metadata": {},
   "outputs": [
    {
     "data": {
      "text/html": [
       "<ol class=list-inline>\n",
       "\t<li>1599</li>\n",
       "\t<li>12</li>\n",
       "</ol>\n"
      ],
      "text/latex": [
       "\\begin{enumerate*}\n",
       "\\item 1599\n",
       "\\item 12\n",
       "\\end{enumerate*}\n"
      ],
      "text/markdown": [
       "1. 1599\n",
       "2. 12\n",
       "\n",
       "\n"
      ],
      "text/plain": [
       "[1] 1599   12"
      ]
     },
     "metadata": {},
     "output_type": "display_data"
    },
    {
     "data": {
      "text/plain": [
       " fixed.acidity   volatile.acidity  citric.acid    residual.sugar  \n",
       " Min.   : 4.60   Min.   :0.1200   Min.   :0.000   Min.   : 0.900  \n",
       " 1st Qu.: 7.10   1st Qu.:0.3900   1st Qu.:0.090   1st Qu.: 1.900  \n",
       " Median : 7.90   Median :0.5200   Median :0.260   Median : 2.200  \n",
       " Mean   : 8.32   Mean   :0.5278   Mean   :0.271   Mean   : 2.539  \n",
       " 3rd Qu.: 9.20   3rd Qu.:0.6400   3rd Qu.:0.420   3rd Qu.: 2.600  \n",
       " Max.   :15.90   Max.   :1.5800   Max.   :1.000   Max.   :15.500  \n",
       "   chlorides       free.sulfur.dioxide total.sulfur.dioxide    density      \n",
       " Min.   :0.01200   Min.   : 1.00       Min.   :  6.00       Min.   :0.9901  \n",
       " 1st Qu.:0.07000   1st Qu.: 7.00       1st Qu.: 22.00       1st Qu.:0.9956  \n",
       " Median :0.07900   Median :14.00       Median : 38.00       Median :0.9968  \n",
       " Mean   :0.08747   Mean   :15.87       Mean   : 46.47       Mean   :0.9967  \n",
       " 3rd Qu.:0.09000   3rd Qu.:21.00       3rd Qu.: 62.00       3rd Qu.:0.9978  \n",
       " Max.   :0.61100   Max.   :72.00       Max.   :289.00       Max.   :1.0037  \n",
       "       pH          sulphates         alcohol          class       \n",
       " Min.   :2.740   Min.   :0.3300   Min.   : 8.40   Min.   :0.0000  \n",
       " 1st Qu.:3.210   1st Qu.:0.5500   1st Qu.: 9.50   1st Qu.:0.0000  \n",
       " Median :3.310   Median :0.6200   Median :10.20   Median :1.0000  \n",
       " Mean   :3.311   Mean   :0.6581   Mean   :10.42   Mean   :0.5347  \n",
       " 3rd Qu.:3.400   3rd Qu.:0.7300   3rd Qu.:11.10   3rd Qu.:1.0000  \n",
       " Max.   :4.010   Max.   :2.0000   Max.   :14.90   Max.   :1.0000  "
      ]
     },
     "metadata": {},
     "output_type": "display_data"
    }
   ],
   "source": [
    "dim(df)\n",
    "summary(df)"
   ]
  },
  {
   "cell_type": "code",
   "execution_count": 4,
   "metadata": {},
   "outputs": [
    {
     "data": {
      "text/html": [
       "<table>\n",
       "<thead><tr><th></th><th scope=col>fixed.acidity</th><th scope=col>volatile.acidity</th><th scope=col>citric.acid</th><th scope=col>residual.sugar</th><th scope=col>chlorides</th><th scope=col>free.sulfur.dioxide</th><th scope=col>total.sulfur.dioxide</th><th scope=col>density</th><th scope=col>pH</th><th scope=col>sulphates</th><th scope=col>alcohol</th><th scope=col>class</th></tr></thead>\n",
       "<tbody>\n",
       "\t<tr><th scope=row>fixed.acidity</th><td> 1.00000000 </td><td>-0.256130895</td><td> 0.67170343 </td><td> 0.114776724</td><td> 0.093705186</td><td>-0.153794193</td><td>-0.11318144 </td><td> 0.66804729 </td><td>-0.682978195</td><td> 0.183005664</td><td>-0.06166827 </td><td> 0.095093490</td></tr>\n",
       "\t<tr><th scope=row>volatile.acidity</th><td>-0.25613089 </td><td> 1.000000000</td><td>-0.55249568 </td><td> 0.001917882</td><td> 0.061297772</td><td>-0.010503827</td><td> 0.07647000 </td><td> 0.02202623 </td><td> 0.234937294</td><td>-0.260986685</td><td>-0.20228803 </td><td>-0.321440854</td></tr>\n",
       "\t<tr><th scope=row>citric.acid</th><td> 0.67170343 </td><td>-0.552495685</td><td> 1.00000000 </td><td> 0.143577162</td><td> 0.203822914</td><td>-0.060978129</td><td> 0.03553302 </td><td> 0.36494718 </td><td>-0.541904145</td><td> 0.312770044</td><td> 0.10990325 </td><td> 0.159129408</td></tr>\n",
       "\t<tr><th scope=row>residual.sugar</th><td> 0.11477672 </td><td> 0.001917882</td><td> 0.14357716 </td><td> 1.000000000</td><td> 0.055609535</td><td> 0.187048995</td><td> 0.20302788 </td><td> 0.35528337 </td><td>-0.085652422</td><td> 0.005527121</td><td> 0.04207544 </td><td>-0.002160450</td></tr>\n",
       "\t<tr><th scope=row>chlorides</th><td> 0.09370519 </td><td> 0.061297772</td><td> 0.20382291 </td><td> 0.055609535</td><td> 1.000000000</td><td> 0.005562147</td><td> 0.04740047 </td><td> 0.20063233 </td><td>-0.265026131</td><td> 0.371260481</td><td>-0.22114054 </td><td>-0.109493996</td></tr>\n",
       "\t<tr><th scope=row>free.sulfur.dioxide</th><td>-0.15379419 </td><td>-0.010503827</td><td>-0.06097813 </td><td> 0.187048995</td><td> 0.005562147</td><td> 1.000000000</td><td> 0.66766645 </td><td>-0.02194583 </td><td> 0.070377499</td><td> 0.051657572</td><td>-0.06940835 </td><td>-0.061756744</td></tr>\n",
       "\t<tr><th scope=row>total.sulfur.dioxide</th><td>-0.11318144 </td><td> 0.076470005</td><td> 0.03553302 </td><td> 0.203027882</td><td> 0.047400468</td><td> 0.667666450</td><td> 1.00000000 </td><td> 0.07126948 </td><td>-0.066494559</td><td> 0.042946836</td><td>-0.20565394 </td><td>-0.231962976</td></tr>\n",
       "\t<tr><th scope=row>density</th><td> 0.66804729 </td><td> 0.022026232</td><td> 0.36494718 </td><td> 0.355283371</td><td> 0.200632327</td><td>-0.021945831</td><td> 0.07126948 </td><td> 1.00000000 </td><td>-0.341699335</td><td> 0.148506412</td><td>-0.49617977 </td><td>-0.159109969</td></tr>\n",
       "\t<tr><th scope=row>pH</th><td>-0.68297819 </td><td> 0.234937294</td><td>-0.54190414 </td><td>-0.085652422</td><td>-0.265026131</td><td> 0.070377499</td><td>-0.06649456 </td><td>-0.34169933 </td><td> 1.000000000</td><td>-0.196647602</td><td> 0.20563251 </td><td>-0.003263984</td></tr>\n",
       "\t<tr><th scope=row>sulphates</th><td> 0.18300566 </td><td>-0.260986685</td><td> 0.31277004 </td><td> 0.005527121</td><td> 0.371260481</td><td> 0.051657572</td><td> 0.04294684 </td><td> 0.14850641 </td><td>-0.196647602</td><td> 1.000000000</td><td> 0.09359475 </td><td> 0.218071663</td></tr>\n",
       "\t<tr><th scope=row>alcohol</th><td>-0.06166827 </td><td>-0.202288027</td><td> 0.10990325 </td><td> 0.042075437</td><td>-0.221140545</td><td>-0.069408354</td><td>-0.20565394 </td><td>-0.49617977 </td><td> 0.205632509</td><td> 0.093594750</td><td> 1.00000000 </td><td> 0.434751205</td></tr>\n",
       "\t<tr><th scope=row>class</th><td> 0.09509349 </td><td>-0.321440854</td><td> 0.15912941 </td><td>-0.002160450</td><td>-0.109493996</td><td>-0.061756744</td><td>-0.23196298 </td><td>-0.15910997 </td><td>-0.003263984</td><td> 0.218071663</td><td> 0.43475120 </td><td> 1.000000000</td></tr>\n",
       "</tbody>\n",
       "</table>\n"
      ],
      "text/latex": [
       "\\begin{tabular}{r|llllllllllll}\n",
       "  & fixed.acidity & volatile.acidity & citric.acid & residual.sugar & chlorides & free.sulfur.dioxide & total.sulfur.dioxide & density & pH & sulphates & alcohol & class\\\\\n",
       "\\hline\n",
       "\tfixed.acidity &  1.00000000  & -0.256130895 &  0.67170343  &  0.114776724 &  0.093705186 & -0.153794193 & -0.11318144  &  0.66804729  & -0.682978195 &  0.183005664 & -0.06166827  &  0.095093490\\\\\n",
       "\tvolatile.acidity & -0.25613089  &  1.000000000 & -0.55249568  &  0.001917882 &  0.061297772 & -0.010503827 &  0.07647000  &  0.02202623  &  0.234937294 & -0.260986685 & -0.20228803  & -0.321440854\\\\\n",
       "\tcitric.acid &  0.67170343  & -0.552495685 &  1.00000000  &  0.143577162 &  0.203822914 & -0.060978129 &  0.03553302  &  0.36494718  & -0.541904145 &  0.312770044 &  0.10990325  &  0.159129408\\\\\n",
       "\tresidual.sugar &  0.11477672  &  0.001917882 &  0.14357716  &  1.000000000 &  0.055609535 &  0.187048995 &  0.20302788  &  0.35528337  & -0.085652422 &  0.005527121 &  0.04207544  & -0.002160450\\\\\n",
       "\tchlorides &  0.09370519  &  0.061297772 &  0.20382291  &  0.055609535 &  1.000000000 &  0.005562147 &  0.04740047  &  0.20063233  & -0.265026131 &  0.371260481 & -0.22114054  & -0.109493996\\\\\n",
       "\tfree.sulfur.dioxide & -0.15379419  & -0.010503827 & -0.06097813  &  0.187048995 &  0.005562147 &  1.000000000 &  0.66766645  & -0.02194583  &  0.070377499 &  0.051657572 & -0.06940835  & -0.061756744\\\\\n",
       "\ttotal.sulfur.dioxide & -0.11318144  &  0.076470005 &  0.03553302  &  0.203027882 &  0.047400468 &  0.667666450 &  1.00000000  &  0.07126948  & -0.066494559 &  0.042946836 & -0.20565394  & -0.231962976\\\\\n",
       "\tdensity &  0.66804729  &  0.022026232 &  0.36494718  &  0.355283371 &  0.200632327 & -0.021945831 &  0.07126948  &  1.00000000  & -0.341699335 &  0.148506412 & -0.49617977  & -0.159109969\\\\\n",
       "\tpH & -0.68297819  &  0.234937294 & -0.54190414  & -0.085652422 & -0.265026131 &  0.070377499 & -0.06649456  & -0.34169933  &  1.000000000 & -0.196647602 &  0.20563251  & -0.003263984\\\\\n",
       "\tsulphates &  0.18300566  & -0.260986685 &  0.31277004  &  0.005527121 &  0.371260481 &  0.051657572 &  0.04294684  &  0.14850641  & -0.196647602 &  1.000000000 &  0.09359475  &  0.218071663\\\\\n",
       "\talcohol & -0.06166827  & -0.202288027 &  0.10990325  &  0.042075437 & -0.221140545 & -0.069408354 & -0.20565394  & -0.49617977  &  0.205632509 &  0.093594750 &  1.00000000  &  0.434751205\\\\\n",
       "\tclass &  0.09509349  & -0.321440854 &  0.15912941  & -0.002160450 & -0.109493996 & -0.061756744 & -0.23196298  & -0.15910997  & -0.003263984 &  0.218071663 &  0.43475120  &  1.000000000\\\\\n",
       "\\end{tabular}\n"
      ],
      "text/markdown": [
       "\n",
       "| <!--/--> | fixed.acidity | volatile.acidity | citric.acid | residual.sugar | chlorides | free.sulfur.dioxide | total.sulfur.dioxide | density | pH | sulphates | alcohol | class |\n",
       "|---|---|---|---|---|---|---|---|---|---|---|---|---|\n",
       "| fixed.acidity |  1.00000000  | -0.256130895 |  0.67170343  |  0.114776724 |  0.093705186 | -0.153794193 | -0.11318144  |  0.66804729  | -0.682978195 |  0.183005664 | -0.06166827  |  0.095093490 |\n",
       "| volatile.acidity | -0.25613089  |  1.000000000 | -0.55249568  |  0.001917882 |  0.061297772 | -0.010503827 |  0.07647000  |  0.02202623  |  0.234937294 | -0.260986685 | -0.20228803  | -0.321440854 |\n",
       "| citric.acid |  0.67170343  | -0.552495685 |  1.00000000  |  0.143577162 |  0.203822914 | -0.060978129 |  0.03553302  |  0.36494718  | -0.541904145 |  0.312770044 |  0.10990325  |  0.159129408 |\n",
       "| residual.sugar |  0.11477672  |  0.001917882 |  0.14357716  |  1.000000000 |  0.055609535 |  0.187048995 |  0.20302788  |  0.35528337  | -0.085652422 |  0.005527121 |  0.04207544  | -0.002160450 |\n",
       "| chlorides |  0.09370519  |  0.061297772 |  0.20382291  |  0.055609535 |  1.000000000 |  0.005562147 |  0.04740047  |  0.20063233  | -0.265026131 |  0.371260481 | -0.22114054  | -0.109493996 |\n",
       "| free.sulfur.dioxide | -0.15379419  | -0.010503827 | -0.06097813  |  0.187048995 |  0.005562147 |  1.000000000 |  0.66766645  | -0.02194583  |  0.070377499 |  0.051657572 | -0.06940835  | -0.061756744 |\n",
       "| total.sulfur.dioxide | -0.11318144  |  0.076470005 |  0.03553302  |  0.203027882 |  0.047400468 |  0.667666450 |  1.00000000  |  0.07126948  | -0.066494559 |  0.042946836 | -0.20565394  | -0.231962976 |\n",
       "| density |  0.66804729  |  0.022026232 |  0.36494718  |  0.355283371 |  0.200632327 | -0.021945831 |  0.07126948  |  1.00000000  | -0.341699335 |  0.148506412 | -0.49617977  | -0.159109969 |\n",
       "| pH | -0.68297819  |  0.234937294 | -0.54190414  | -0.085652422 | -0.265026131 |  0.070377499 | -0.06649456  | -0.34169933  |  1.000000000 | -0.196647602 |  0.20563251  | -0.003263984 |\n",
       "| sulphates |  0.18300566  | -0.260986685 |  0.31277004  |  0.005527121 |  0.371260481 |  0.051657572 |  0.04294684  |  0.14850641  | -0.196647602 |  1.000000000 |  0.09359475  |  0.218071663 |\n",
       "| alcohol | -0.06166827  | -0.202288027 |  0.10990325  |  0.042075437 | -0.221140545 | -0.069408354 | -0.20565394  | -0.49617977  |  0.205632509 |  0.093594750 |  1.00000000  |  0.434751205 |\n",
       "| class |  0.09509349  | -0.321440854 |  0.15912941  | -0.002160450 | -0.109493996 | -0.061756744 | -0.23196298  | -0.15910997  | -0.003263984 |  0.218071663 |  0.43475120  |  1.000000000 |\n",
       "\n"
      ],
      "text/plain": [
       "                     fixed.acidity volatile.acidity citric.acid residual.sugar\n",
       "fixed.acidity         1.00000000   -0.256130895      0.67170343  0.114776724  \n",
       "volatile.acidity     -0.25613089    1.000000000     -0.55249568  0.001917882  \n",
       "citric.acid           0.67170343   -0.552495685      1.00000000  0.143577162  \n",
       "residual.sugar        0.11477672    0.001917882      0.14357716  1.000000000  \n",
       "chlorides             0.09370519    0.061297772      0.20382291  0.055609535  \n",
       "free.sulfur.dioxide  -0.15379419   -0.010503827     -0.06097813  0.187048995  \n",
       "total.sulfur.dioxide -0.11318144    0.076470005      0.03553302  0.203027882  \n",
       "density               0.66804729    0.022026232      0.36494718  0.355283371  \n",
       "pH                   -0.68297819    0.234937294     -0.54190414 -0.085652422  \n",
       "sulphates             0.18300566   -0.260986685      0.31277004  0.005527121  \n",
       "alcohol              -0.06166827   -0.202288027      0.10990325  0.042075437  \n",
       "class                 0.09509349   -0.321440854      0.15912941 -0.002160450  \n",
       "                     chlorides    free.sulfur.dioxide total.sulfur.dioxide\n",
       "fixed.acidity         0.093705186 -0.153794193        -0.11318144         \n",
       "volatile.acidity      0.061297772 -0.010503827         0.07647000         \n",
       "citric.acid           0.203822914 -0.060978129         0.03553302         \n",
       "residual.sugar        0.055609535  0.187048995         0.20302788         \n",
       "chlorides             1.000000000  0.005562147         0.04740047         \n",
       "free.sulfur.dioxide   0.005562147  1.000000000         0.66766645         \n",
       "total.sulfur.dioxide  0.047400468  0.667666450         1.00000000         \n",
       "density               0.200632327 -0.021945831         0.07126948         \n",
       "pH                   -0.265026131  0.070377499        -0.06649456         \n",
       "sulphates             0.371260481  0.051657572         0.04294684         \n",
       "alcohol              -0.221140545 -0.069408354        -0.20565394         \n",
       "class                -0.109493996 -0.061756744        -0.23196298         \n",
       "                     density     pH           sulphates    alcohol    \n",
       "fixed.acidity         0.66804729 -0.682978195  0.183005664 -0.06166827\n",
       "volatile.acidity      0.02202623  0.234937294 -0.260986685 -0.20228803\n",
       "citric.acid           0.36494718 -0.541904145  0.312770044  0.10990325\n",
       "residual.sugar        0.35528337 -0.085652422  0.005527121  0.04207544\n",
       "chlorides             0.20063233 -0.265026131  0.371260481 -0.22114054\n",
       "free.sulfur.dioxide  -0.02194583  0.070377499  0.051657572 -0.06940835\n",
       "total.sulfur.dioxide  0.07126948 -0.066494559  0.042946836 -0.20565394\n",
       "density               1.00000000 -0.341699335  0.148506412 -0.49617977\n",
       "pH                   -0.34169933  1.000000000 -0.196647602  0.20563251\n",
       "sulphates             0.14850641 -0.196647602  1.000000000  0.09359475\n",
       "alcohol              -0.49617977  0.205632509  0.093594750  1.00000000\n",
       "class                -0.15910997 -0.003263984  0.218071663  0.43475120\n",
       "                     class       \n",
       "fixed.acidity         0.095093490\n",
       "volatile.acidity     -0.321440854\n",
       "citric.acid           0.159129408\n",
       "residual.sugar       -0.002160450\n",
       "chlorides            -0.109493996\n",
       "free.sulfur.dioxide  -0.061756744\n",
       "total.sulfur.dioxide -0.231962976\n",
       "density              -0.159109969\n",
       "pH                   -0.003263984\n",
       "sulphates             0.218071663\n",
       "alcohol               0.434751205\n",
       "class                 1.000000000"
      ]
     },
     "metadata": {},
     "output_type": "display_data"
    }
   ],
   "source": [
    "(corrmatrix<-cor(df))"
   ]
  },
  {
   "cell_type": "code",
   "execution_count": 5,
   "metadata": {},
   "outputs": [
    {
     "name": "stderr",
     "output_type": "stream",
     "text": [
      "Warning message:\n",
      "\"package 'corrplot' was built under R version 3.6.2\"corrplot 0.84 loaded\n"
     ]
    },
    {
     "data": {
      "image/png": "[encoded data removed]",
      "text/plain": [
       "Plot with title \"\""
      ]
     },
     "metadata": {},
     "output_type": "display_data"
    }
   ],
   "source": [
    "library(corrplot)\n",
    "corrplot(corrmatrix,method='circle') #상관계수 플로팅"
   ]
  },
  {
   "cell_type": "code",
   "execution_count": 6,
   "metadata": {},
   "outputs": [
    {
     "data": {
      "text/plain": [
       "\n",
       "  0   1 \n",
       "744 855 "
      ]
     },
     "metadata": {},
     "output_type": "display_data"
    },
    {
     "data": {
      "image/png": "[encoded data removed]",
      "text/plain": [
       "plot without title"
      ]
     },
     "metadata": {},
     "output_type": "display_data"
    }
   ],
   "source": [
    "tbl<-table(df$class) #class 샘플갯수 카운트\n",
    "tbl\n",
    "barplot(tbl,beside=T,legend=T,col=rainbow(2)) #카운트플롯"
   ]
  },
  {
   "cell_type": "code",
   "execution_count": 7,
   "metadata": {},
   "outputs": [
    {
     "name": "stderr",
     "output_type": "stream",
     "text": [
      "Warning message:\n",
      "\"package 'ROSE' was built under R version 3.6.2\"Loaded ROSE 0.0-3\n",
      "\n"
     ]
    },
    {
     "data": {
      "text/plain": [
       "\n",
       "  0   1 \n",
       "744 744 "
      ]
     },
     "metadata": {},
     "output_type": "display_data"
    }
   ],
   "source": [
    "library(ROSE)\n",
    "df_samp<-ovun.sample(class ~. , data=df, seed=1, method='under',\n",
    "                    N=744*2)$data\n",
    "tbl<-table(df_samp$class)\n",
    "tbl"
   ]
  },
  {
   "cell_type": "code",
   "execution_count": 8,
   "metadata": {},
   "outputs": [
    {
     "name": "stderr",
     "output_type": "stream",
     "text": [
      "Loading required package: lattice\n",
      "Warning message:\n",
      "\"package 'lattice' was built under R version 3.6.2\"Loading required package: ggplot2\n",
      "Warning message:\n",
      "\"package 'ggplot2' was built under R version 3.6.2\""
     ]
    }
   ],
   "source": [
    "library(caret)\n",
    "set.seed(123) #랜더시드 고정\n",
    "#학습용:검증용을 8:2로 구분\n",
    "idx_train<-createDataPartition(y=df_samp$class, p=0.8,list=F)\n",
    "train<-df_samp[idx_train,]#학습용\n",
    "X_train<-train[,-12] #독립변수\n",
    "y_train<-train[,12] #종속변수\n",
    "test<-df_samp[-idx_train,] #검증용\n",
    "X_test<-test[,-12]\n",
    "y_test<-test[,12]"
   ]
  },
  {
   "cell_type": "code",
   "execution_count": 9,
   "metadata": {},
   "outputs": [
    {
     "data": {
      "text/plain": [
       "\n",
       "Call:\n",
       "glm(formula = class ~ ., family = binomial, data = train)\n",
       "\n",
       "Deviance Residuals: \n",
       "    Min       1Q   Median       3Q      Max  \n",
       "-2.4199  -0.8292   0.0135   0.8239   2.2963  \n",
       "\n",
       "Coefficients:\n",
       "                       Estimate Std. Error z value Pr(>|z|)    \n",
       "(Intercept)           48.591638  90.567874   0.537   0.5916    \n",
       "fixed.acidity          0.201581   0.112879   1.786   0.0741 .  \n",
       "volatile.acidity      -3.684951   0.575885  -6.399 1.57e-10 ***\n",
       "citric.acid           -1.578891   0.658040  -2.399   0.0164 *  \n",
       "residual.sugar         0.087445   0.062126   1.408   0.1593    \n",
       "chlorides             -3.481900   1.936776  -1.798   0.0722 .  \n",
       "free.sulfur.dioxide    0.020494   0.009569   2.142   0.0322 *  \n",
       "total.sulfur.dioxide  -0.014708   0.003352  -4.388 1.14e-05 ***\n",
       "density              -59.237222  92.522157  -0.640   0.5220    \n",
       "pH                     0.350002   0.836034   0.419   0.6755    \n",
       "sulphates              2.727743   0.498480   5.472 4.45e-08 ***\n",
       "alcohol                0.837741   0.119579   7.006 2.46e-12 ***\n",
       "---\n",
       "Signif. codes:  0 '***' 0.001 '**' 0.01 '*' 0.05 '.' 0.1 ' ' 1\n",
       "\n",
       "(Dispersion parameter for binomial family taken to be 1)\n",
       "\n",
       "    Null deviance: 1652.5  on 1191  degrees of freedom\n",
       "Residual deviance: 1236.3  on 1180  degrees of freedom\n",
       "AIC: 1260.3\n",
       "\n",
       "Number of Fisher Scoring iterations: 4\n"
      ]
     },
     "metadata": {},
     "output_type": "display_data"
    }
   ],
   "source": [
    "model<-glm(class~., data=train, family=binomial) #이분류 모형\n",
    "summary(model)"
   ]
  },
  {
   "cell_type": "code",
   "execution_count": 10,
   "metadata": {},
   "outputs": [
    {
     "data": {
      "text/html": [
       "<dl class=dl-horizontal>\n",
       "\t<dt>(Intercept)</dt>\n",
       "\t\t<dd>48.5916376883379</dd>\n",
       "\t<dt>fixed.acidity</dt>\n",
       "\t\t<dd>0.201581488312335</dd>\n",
       "\t<dt>volatile.acidity</dt>\n",
       "\t\t<dd>-3.68495097280583</dd>\n",
       "\t<dt>citric.acid</dt>\n",
       "\t\t<dd>-1.57889099367036</dd>\n",
       "\t<dt>residual.sugar</dt>\n",
       "\t\t<dd>0.0874454648604589</dd>\n",
       "\t<dt>chlorides</dt>\n",
       "\t\t<dd>-3.4818997663387</dd>\n",
       "\t<dt>free.sulfur.dioxide</dt>\n",
       "\t\t<dd>0.0204942635254199</dd>\n",
       "\t<dt>total.sulfur.dioxide</dt>\n",
       "\t\t<dd>-0.0147077221034737</dd>\n",
       "\t<dt>density</dt>\n",
       "\t\t<dd>-59.2372215124025</dd>\n",
       "\t<dt>pH</dt>\n",
       "\t\t<dd>0.350002291008336</dd>\n",
       "\t<dt>sulphates</dt>\n",
       "\t\t<dd>2.7277432878364</dd>\n",
       "\t<dt>alcohol</dt>\n",
       "\t\t<dd>0.837741296266931</dd>\n",
       "</dl>\n"
      ],
      "text/latex": [
       "\\begin{description*}\n",
       "\\item[(Intercept)] 48.5916376883379\n",
       "\\item[fixed.acidity] 0.201581488312335\n",
       "\\item[volatile.acidity] -3.68495097280583\n",
       "\\item[citric.acid] -1.57889099367036\n",
       "\\item[residual.sugar] 0.0874454648604589\n",
       "\\item[chlorides] -3.4818997663387\n",
       "\\item[free.sulfur.dioxide] 0.0204942635254199\n",
       "\\item[total.sulfur.dioxide] -0.0147077221034737\n",
       "\\item[density] -59.2372215124025\n",
       "\\item[pH] 0.350002291008336\n",
       "\\item[sulphates] 2.7277432878364\n",
       "\\item[alcohol] 0.837741296266931\n",
       "\\end{description*}\n"
      ],
      "text/markdown": [
       "(Intercept)\n",
       ":   48.5916376883379fixed.acidity\n",
       ":   0.201581488312335volatile.acidity\n",
       ":   -3.68495097280583citric.acid\n",
       ":   -1.57889099367036residual.sugar\n",
       ":   0.0874454648604589chlorides\n",
       ":   -3.4818997663387free.sulfur.dioxide\n",
       ":   0.0204942635254199total.sulfur.dioxide\n",
       ":   -0.0147077221034737density\n",
       ":   -59.2372215124025pH\n",
       ":   0.350002291008336sulphates\n",
       ":   2.7277432878364alcohol\n",
       ":   0.837741296266931\n",
       "\n"
      ],
      "text/plain": [
       "         (Intercept)        fixed.acidity     volatile.acidity \n",
       "         48.59163769           0.20158149          -3.68495097 \n",
       "         citric.acid       residual.sugar            chlorides \n",
       "         -1.57889099           0.08744546          -3.48189977 \n",
       " free.sulfur.dioxide total.sulfur.dioxide              density \n",
       "          0.02049426          -0.01470772         -59.23722151 \n",
       "                  pH            sulphates              alcohol \n",
       "          0.35000229           2.72774329           0.83774130 "
      ]
     },
     "metadata": {},
     "output_type": "display_data"
    }
   ],
   "source": [
    "(coef1<-coef(model)) #회귀계수 확인"
   ]
  },
  {
   "cell_type": "code",
   "execution_count": 14,
   "metadata": {},
   "outputs": [],
   "source": [
    "#검증용 데이터셋으로 모형의 예측 정확도 평가\n",
    "pred<-predict(model,newdata=X_test,type='response')\n",
    "#pred\n",
    "result<-ifelse(pred>0.5,1,0) # 0.5보다 크면 1, 아니면 0\n",
    "#result"
   ]
  },
  {
   "cell_type": "code",
   "execution_count": 15,
   "metadata": {},
   "outputs": [
    {
     "data": {
      "text/html": [
       "0.77027027027027"
      ],
      "text/latex": [
       "0.77027027027027"
      ],
      "text/markdown": [
       "0.77027027027027"
      ],
      "text/plain": [
       "[1] 0.7702703"
      ]
     },
     "metadata": {},
     "output_type": "display_data"
    }
   ],
   "source": [
    "mean(y_test==result) #예측 정확도"
   ]
  },
  {
   "cell_type": "code",
   "execution_count": 16,
   "metadata": {},
   "outputs": [
    {
     "data": {
      "text/plain": [
       "      result\n",
       "y_test   0   1\n",
       "     0 117  31\n",
       "     1  37 111"
      ]
     },
     "metadata": {},
     "output_type": "display_data"
    }
   ],
   "source": [
    "table(y_test,result) #오분류표"
   ]
  },
  {
   "cell_type": "code",
   "execution_count": null,
   "metadata": {},
   "outputs": [],
   "source": []
  },
  {
   "cell_type": "code",
   "execution_count": null,
   "metadata": {},
   "outputs": [],
   "source": []
  },
  {
   "cell_type": "code",
   "execution_count": null,
   "metadata": {},
   "outputs": [],
   "source": []
  }
 ],
 "metadata": {
  "kernelspec": {
   "display_name": "R",
   "language": "R",
   "name": "ir"
  },
  "language_info": {
   "codemirror_mode": "r",
   "file_extension": ".r",
   "mimetype": "text/x-r-source",
   "name": "R",
   "pygments_lexer": "r",
   "version": "3.6.1"
  }
 },
 "nbformat": 4,
 "nbformat_minor": 2
}
