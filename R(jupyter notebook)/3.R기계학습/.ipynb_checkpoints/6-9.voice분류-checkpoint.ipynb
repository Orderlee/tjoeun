{
 "cells": [
  {
   "cell_type": "code",
   "execution_count": 1,
   "metadata": {},
   "outputs": [
    {
     "data": {
      "text/html": [
       "<table>\n",
       "<thead><tr><th scope=col>meanfreq</th><th scope=col>skew</th><th scope=col>kurt</th><th scope=col>sp.ent</th><th scope=col>sfm</th><th scope=col>mode</th><th scope=col>centroid</th><th scope=col>meanfun</th><th scope=col>minfun</th><th scope=col>maxfun</th><th scope=col>meandom</th><th scope=col>mindom</th><th scope=col>maxdom</th><th scope=col>dfrange</th><th scope=col>modindx</th><th scope=col>Label</th><th scope=col>target</th></tr></thead>\n",
       "<tbody>\n",
       "\t<tr><td>0.05978099 </td><td>12.863462  </td><td> 274.402905</td><td>0.8933694  </td><td>0.4919178  </td><td>0.00000000 </td><td>0.05978099 </td><td>0.08427911 </td><td>0.01570167 </td><td>0.2758621  </td><td>0.007812500</td><td>0.0078125  </td><td>0.0078125  </td><td>0.0000000  </td><td>0.00000000 </td><td>male       </td><td>1          </td></tr>\n",
       "\t<tr><td>0.06600874 </td><td>22.423285  </td><td> 634.613855</td><td>0.8921932  </td><td>0.5137238  </td><td>0.00000000 </td><td>0.06600874 </td><td>0.10793655 </td><td>0.01582591 </td><td>0.2500000  </td><td>0.009014423</td><td>0.0078125  </td><td>0.0546875  </td><td>0.0468750  </td><td>0.05263158 </td><td>male       </td><td>1          </td></tr>\n",
       "\t<tr><td>0.07731550 </td><td>30.757155  </td><td>1024.927705</td><td>0.8463891  </td><td>0.4789050  </td><td>0.00000000 </td><td>0.07731550 </td><td>0.09870626 </td><td>0.01565558 </td><td>0.2711864  </td><td>0.007990057</td><td>0.0078125  </td><td>0.0156250  </td><td>0.0078125  </td><td>0.04651163 </td><td>male       </td><td>1          </td></tr>\n",
       "\t<tr><td>0.15122809 </td><td> 1.232831  </td><td>   4.177296</td><td>0.9633225  </td><td>0.7272318  </td><td>0.08387818 </td><td>0.15122809 </td><td>0.08896485 </td><td>0.01779755 </td><td>0.2500000  </td><td>0.201497396</td><td>0.0078125  </td><td>0.5625000  </td><td>0.5546875  </td><td>0.24711908 </td><td>male       </td><td>1          </td></tr>\n",
       "\t<tr><td>0.13512039 </td><td> 1.101174  </td><td>   4.333713</td><td>0.9719551  </td><td>0.7835681  </td><td>0.10426140 </td><td>0.13512039 </td><td>0.10639785 </td><td>0.01693122 </td><td>0.2666667  </td><td>0.712812500</td><td>0.0078125  </td><td>5.4843750  </td><td>5.4765625  </td><td>0.20827389 </td><td>male       </td><td>1          </td></tr>\n",
       "\t<tr><td>0.13278641 </td><td> 1.932562  </td><td>   8.308895</td><td>0.9631813  </td><td>0.7383070  </td><td>0.11255543 </td><td>0.13278641 </td><td>0.11013192 </td><td>0.01711230 </td><td>0.2539683  </td><td>0.298221983</td><td>0.0078125  </td><td>2.7265625  </td><td>2.7187500  </td><td>0.12515964 </td><td>male       </td><td>1          </td></tr>\n",
       "</tbody>\n",
       "</table>\n"
      ],
      "text/latex": [
       "\\begin{tabular}{r|lllllllllllllllll}\n",
       " meanfreq & skew & kurt & sp.ent & sfm & mode & centroid & meanfun & minfun & maxfun & meandom & mindom & maxdom & dfrange & modindx & Label & target\\\\\n",
       "\\hline\n",
       "\t 0.05978099  & 12.863462   &  274.402905 & 0.8933694   & 0.4919178   & 0.00000000  & 0.05978099  & 0.08427911  & 0.01570167  & 0.2758621   & 0.007812500 & 0.0078125   & 0.0078125   & 0.0000000   & 0.00000000  & male        & 1          \\\\\n",
       "\t 0.06600874  & 22.423285   &  634.613855 & 0.8921932   & 0.5137238   & 0.00000000  & 0.06600874  & 0.10793655  & 0.01582591  & 0.2500000   & 0.009014423 & 0.0078125   & 0.0546875   & 0.0468750   & 0.05263158  & male        & 1          \\\\\n",
       "\t 0.07731550  & 30.757155   & 1024.927705 & 0.8463891   & 0.4789050   & 0.00000000  & 0.07731550  & 0.09870626  & 0.01565558  & 0.2711864   & 0.007990057 & 0.0078125   & 0.0156250   & 0.0078125   & 0.04651163  & male        & 1          \\\\\n",
       "\t 0.15122809  &  1.232831   &    4.177296 & 0.9633225   & 0.7272318   & 0.08387818  & 0.15122809  & 0.08896485  & 0.01779755  & 0.2500000   & 0.201497396 & 0.0078125   & 0.5625000   & 0.5546875   & 0.24711908  & male        & 1          \\\\\n",
       "\t 0.13512039  &  1.101174   &    4.333713 & 0.9719551   & 0.7835681   & 0.10426140  & 0.13512039  & 0.10639785  & 0.01693122  & 0.2666667   & 0.712812500 & 0.0078125   & 5.4843750   & 5.4765625   & 0.20827389  & male        & 1          \\\\\n",
       "\t 0.13278641  &  1.932562   &    8.308895 & 0.9631813   & 0.7383070   & 0.11255543  & 0.13278641  & 0.11013192  & 0.01711230  & 0.2539683   & 0.298221983 & 0.0078125   & 2.7265625   & 2.7187500   & 0.12515964  & male        & 1          \\\\\n",
       "\\end{tabular}\n"
      ],
      "text/markdown": [
       "\n",
       "| meanfreq | skew | kurt | sp.ent | sfm | mode | centroid | meanfun | minfun | maxfun | meandom | mindom | maxdom | dfrange | modindx | Label | target |\n",
       "|---|---|---|---|---|---|---|---|---|---|---|---|---|---|---|---|---|\n",
       "| 0.05978099  | 12.863462   |  274.402905 | 0.8933694   | 0.4919178   | 0.00000000  | 0.05978099  | 0.08427911  | 0.01570167  | 0.2758621   | 0.007812500 | 0.0078125   | 0.0078125   | 0.0000000   | 0.00000000  | male        | 1           |\n",
       "| 0.06600874  | 22.423285   |  634.613855 | 0.8921932   | 0.5137238   | 0.00000000  | 0.06600874  | 0.10793655  | 0.01582591  | 0.2500000   | 0.009014423 | 0.0078125   | 0.0546875   | 0.0468750   | 0.05263158  | male        | 1           |\n",
       "| 0.07731550  | 30.757155   | 1024.927705 | 0.8463891   | 0.4789050   | 0.00000000  | 0.07731550  | 0.09870626  | 0.01565558  | 0.2711864   | 0.007990057 | 0.0078125   | 0.0156250   | 0.0078125   | 0.04651163  | male        | 1           |\n",
       "| 0.15122809  |  1.232831   |    4.177296 | 0.9633225   | 0.7272318   | 0.08387818  | 0.15122809  | 0.08896485  | 0.01779755  | 0.2500000   | 0.201497396 | 0.0078125   | 0.5625000   | 0.5546875   | 0.24711908  | male        | 1           |\n",
       "| 0.13512039  |  1.101174   |    4.333713 | 0.9719551   | 0.7835681   | 0.10426140  | 0.13512039  | 0.10639785  | 0.01693122  | 0.2666667   | 0.712812500 | 0.0078125   | 5.4843750   | 5.4765625   | 0.20827389  | male        | 1           |\n",
       "| 0.13278641  |  1.932562   |    8.308895 | 0.9631813   | 0.7383070   | 0.11255543  | 0.13278641  | 0.11013192  | 0.01711230  | 0.2539683   | 0.298221983 | 0.0078125   | 2.7265625   | 2.7187500   | 0.12515964  | male        | 1           |\n",
       "\n"
      ],
      "text/plain": [
       "  meanfreq   skew      kurt        sp.ent    sfm       mode       centroid  \n",
       "1 0.05978099 12.863462  274.402905 0.8933694 0.4919178 0.00000000 0.05978099\n",
       "2 0.06600874 22.423285  634.613855 0.8921932 0.5137238 0.00000000 0.06600874\n",
       "3 0.07731550 30.757155 1024.927705 0.8463891 0.4789050 0.00000000 0.07731550\n",
       "4 0.15122809  1.232831    4.177296 0.9633225 0.7272318 0.08387818 0.15122809\n",
       "5 0.13512039  1.101174    4.333713 0.9719551 0.7835681 0.10426140 0.13512039\n",
       "6 0.13278641  1.932562    8.308895 0.9631813 0.7383070 0.11255543 0.13278641\n",
       "  meanfun    minfun     maxfun    meandom     mindom    maxdom    dfrange  \n",
       "1 0.08427911 0.01570167 0.2758621 0.007812500 0.0078125 0.0078125 0.0000000\n",
       "2 0.10793655 0.01582591 0.2500000 0.009014423 0.0078125 0.0546875 0.0468750\n",
       "3 0.09870626 0.01565558 0.2711864 0.007990057 0.0078125 0.0156250 0.0078125\n",
       "4 0.08896485 0.01779755 0.2500000 0.201497396 0.0078125 0.5625000 0.5546875\n",
       "5 0.10639785 0.01693122 0.2666667 0.712812500 0.0078125 5.4843750 5.4765625\n",
       "6 0.11013192 0.01711230 0.2539683 0.298221983 0.0078125 2.7265625 2.7187500\n",
       "  modindx    Label target\n",
       "1 0.00000000 male  1     \n",
       "2 0.05263158 male  1     \n",
       "3 0.04651163 male  1     \n",
       "4 0.24711908 male  1     \n",
       "5 0.20827389 male  1     \n",
       "6 0.12515964 male  1     "
      ]
     },
     "metadata": {},
     "output_type": "display_data"
    }
   ],
   "source": [
    "df<-read.csv('d:/data/voice/voice2.csv')\n",
    "head(df)"
   ]
  },
  {
   "cell_type": "code",
   "execution_count": 2,
   "metadata": {},
   "outputs": [
    {
     "name": "stderr",
     "output_type": "stream",
     "text": [
      "Warning message:\n",
      "\"package 'dplyr' was built under R version 3.6.2\"\n",
      "Attaching package: 'dplyr'\n",
      "\n",
      "The following objects are masked from 'package:stats':\n",
      "\n",
      "    filter, lag\n",
      "\n",
      "The following objects are masked from 'package:base':\n",
      "\n",
      "    intersect, setdiff, setequal, union\n",
      "\n"
     ]
    },
    {
     "data": {
      "text/html": [
       "<ol class=list-inline>\n",
       "\t<li>3168</li>\n",
       "\t<li>16</li>\n",
       "</ol>\n"
      ],
      "text/latex": [
       "\\begin{enumerate*}\n",
       "\\item 3168\n",
       "\\item 16\n",
       "\\end{enumerate*}\n"
      ],
      "text/markdown": [
       "1. 3168\n",
       "2. 16\n",
       "\n",
       "\n"
      ],
      "text/plain": [
       "[1] 3168   16"
      ]
     },
     "metadata": {},
     "output_type": "display_data"
    },
    {
     "data": {
      "text/html": [
       "<table>\n",
       "<thead><tr><th scope=col>meanfreq</th><th scope=col>skew</th><th scope=col>kurt</th><th scope=col>sp.ent</th><th scope=col>sfm</th><th scope=col>mode</th><th scope=col>centroid</th><th scope=col>meanfun</th><th scope=col>minfun</th><th scope=col>maxfun</th><th scope=col>meandom</th><th scope=col>mindom</th><th scope=col>maxdom</th><th scope=col>dfrange</th><th scope=col>modindx</th><th scope=col>target</th></tr></thead>\n",
       "<tbody>\n",
       "\t<tr><td>0.05978099 </td><td>12.863462  </td><td> 274.402905</td><td>0.8933694  </td><td>0.4919178  </td><td>0.00000000 </td><td>0.05978099 </td><td>0.08427911 </td><td>0.01570167 </td><td>0.2758621  </td><td>0.007812500</td><td>0.0078125  </td><td>0.0078125  </td><td>0.0000000  </td><td>0.00000000 </td><td>1          </td></tr>\n",
       "\t<tr><td>0.06600874 </td><td>22.423285  </td><td> 634.613855</td><td>0.8921932  </td><td>0.5137238  </td><td>0.00000000 </td><td>0.06600874 </td><td>0.10793655 </td><td>0.01582591 </td><td>0.2500000  </td><td>0.009014423</td><td>0.0078125  </td><td>0.0546875  </td><td>0.0468750  </td><td>0.05263158 </td><td>1          </td></tr>\n",
       "\t<tr><td>0.07731550 </td><td>30.757155  </td><td>1024.927705</td><td>0.8463891  </td><td>0.4789050  </td><td>0.00000000 </td><td>0.07731550 </td><td>0.09870626 </td><td>0.01565558 </td><td>0.2711864  </td><td>0.007990057</td><td>0.0078125  </td><td>0.0156250  </td><td>0.0078125  </td><td>0.04651163 </td><td>1          </td></tr>\n",
       "\t<tr><td>0.15122809 </td><td> 1.232831  </td><td>   4.177296</td><td>0.9633225  </td><td>0.7272318  </td><td>0.08387818 </td><td>0.15122809 </td><td>0.08896485 </td><td>0.01779755 </td><td>0.2500000  </td><td>0.201497396</td><td>0.0078125  </td><td>0.5625000  </td><td>0.5546875  </td><td>0.24711908 </td><td>1          </td></tr>\n",
       "\t<tr><td>0.13512039 </td><td> 1.101174  </td><td>   4.333713</td><td>0.9719551  </td><td>0.7835681  </td><td>0.10426140 </td><td>0.13512039 </td><td>0.10639785 </td><td>0.01693122 </td><td>0.2666667  </td><td>0.712812500</td><td>0.0078125  </td><td>5.4843750  </td><td>5.4765625  </td><td>0.20827389 </td><td>1          </td></tr>\n",
       "\t<tr><td>0.13278641 </td><td> 1.932562  </td><td>   8.308895</td><td>0.9631813  </td><td>0.7383070  </td><td>0.11255543 </td><td>0.13278641 </td><td>0.11013192 </td><td>0.01711230 </td><td>0.2539683  </td><td>0.298221983</td><td>0.0078125  </td><td>2.7265625  </td><td>2.7187500  </td><td>0.12515964 </td><td>1          </td></tr>\n",
       "</tbody>\n",
       "</table>\n"
      ],
      "text/latex": [
       "\\begin{tabular}{r|llllllllllllllll}\n",
       " meanfreq & skew & kurt & sp.ent & sfm & mode & centroid & meanfun & minfun & maxfun & meandom & mindom & maxdom & dfrange & modindx & target\\\\\n",
       "\\hline\n",
       "\t 0.05978099  & 12.863462   &  274.402905 & 0.8933694   & 0.4919178   & 0.00000000  & 0.05978099  & 0.08427911  & 0.01570167  & 0.2758621   & 0.007812500 & 0.0078125   & 0.0078125   & 0.0000000   & 0.00000000  & 1          \\\\\n",
       "\t 0.06600874  & 22.423285   &  634.613855 & 0.8921932   & 0.5137238   & 0.00000000  & 0.06600874  & 0.10793655  & 0.01582591  & 0.2500000   & 0.009014423 & 0.0078125   & 0.0546875   & 0.0468750   & 0.05263158  & 1          \\\\\n",
       "\t 0.07731550  & 30.757155   & 1024.927705 & 0.8463891   & 0.4789050   & 0.00000000  & 0.07731550  & 0.09870626  & 0.01565558  & 0.2711864   & 0.007990057 & 0.0078125   & 0.0156250   & 0.0078125   & 0.04651163  & 1          \\\\\n",
       "\t 0.15122809  &  1.232831   &    4.177296 & 0.9633225   & 0.7272318   & 0.08387818  & 0.15122809  & 0.08896485  & 0.01779755  & 0.2500000   & 0.201497396 & 0.0078125   & 0.5625000   & 0.5546875   & 0.24711908  & 1          \\\\\n",
       "\t 0.13512039  &  1.101174   &    4.333713 & 0.9719551   & 0.7835681   & 0.10426140  & 0.13512039  & 0.10639785  & 0.01693122  & 0.2666667   & 0.712812500 & 0.0078125   & 5.4843750   & 5.4765625   & 0.20827389  & 1          \\\\\n",
       "\t 0.13278641  &  1.932562   &    8.308895 & 0.9631813   & 0.7383070   & 0.11255543  & 0.13278641  & 0.11013192  & 0.01711230  & 0.2539683   & 0.298221983 & 0.0078125   & 2.7265625   & 2.7187500   & 0.12515964  & 1          \\\\\n",
       "\\end{tabular}\n"
      ],
      "text/markdown": [
       "\n",
       "| meanfreq | skew | kurt | sp.ent | sfm | mode | centroid | meanfun | minfun | maxfun | meandom | mindom | maxdom | dfrange | modindx | target |\n",
       "|---|---|---|---|---|---|---|---|---|---|---|---|---|---|---|---|\n",
       "| 0.05978099  | 12.863462   |  274.402905 | 0.8933694   | 0.4919178   | 0.00000000  | 0.05978099  | 0.08427911  | 0.01570167  | 0.2758621   | 0.007812500 | 0.0078125   | 0.0078125   | 0.0000000   | 0.00000000  | 1           |\n",
       "| 0.06600874  | 22.423285   |  634.613855 | 0.8921932   | 0.5137238   | 0.00000000  | 0.06600874  | 0.10793655  | 0.01582591  | 0.2500000   | 0.009014423 | 0.0078125   | 0.0546875   | 0.0468750   | 0.05263158  | 1           |\n",
       "| 0.07731550  | 30.757155   | 1024.927705 | 0.8463891   | 0.4789050   | 0.00000000  | 0.07731550  | 0.09870626  | 0.01565558  | 0.2711864   | 0.007990057 | 0.0078125   | 0.0156250   | 0.0078125   | 0.04651163  | 1           |\n",
       "| 0.15122809  |  1.232831   |    4.177296 | 0.9633225   | 0.7272318   | 0.08387818  | 0.15122809  | 0.08896485  | 0.01779755  | 0.2500000   | 0.201497396 | 0.0078125   | 0.5625000   | 0.5546875   | 0.24711908  | 1           |\n",
       "| 0.13512039  |  1.101174   |    4.333713 | 0.9719551   | 0.7835681   | 0.10426140  | 0.13512039  | 0.10639785  | 0.01693122  | 0.2666667   | 0.712812500 | 0.0078125   | 5.4843750   | 5.4765625   | 0.20827389  | 1           |\n",
       "| 0.13278641  |  1.932562   |    8.308895 | 0.9631813   | 0.7383070   | 0.11255543  | 0.13278641  | 0.11013192  | 0.01711230  | 0.2539683   | 0.298221983 | 0.0078125   | 2.7265625   | 2.7187500   | 0.12515964  | 1           |\n",
       "\n"
      ],
      "text/plain": [
       "  meanfreq   skew      kurt        sp.ent    sfm       mode       centroid  \n",
       "1 0.05978099 12.863462  274.402905 0.8933694 0.4919178 0.00000000 0.05978099\n",
       "2 0.06600874 22.423285  634.613855 0.8921932 0.5137238 0.00000000 0.06600874\n",
       "3 0.07731550 30.757155 1024.927705 0.8463891 0.4789050 0.00000000 0.07731550\n",
       "4 0.15122809  1.232831    4.177296 0.9633225 0.7272318 0.08387818 0.15122809\n",
       "5 0.13512039  1.101174    4.333713 0.9719551 0.7835681 0.10426140 0.13512039\n",
       "6 0.13278641  1.932562    8.308895 0.9631813 0.7383070 0.11255543 0.13278641\n",
       "  meanfun    minfun     maxfun    meandom     mindom    maxdom    dfrange  \n",
       "1 0.08427911 0.01570167 0.2758621 0.007812500 0.0078125 0.0078125 0.0000000\n",
       "2 0.10793655 0.01582591 0.2500000 0.009014423 0.0078125 0.0546875 0.0468750\n",
       "3 0.09870626 0.01565558 0.2711864 0.007990057 0.0078125 0.0156250 0.0078125\n",
       "4 0.08896485 0.01779755 0.2500000 0.201497396 0.0078125 0.5625000 0.5546875\n",
       "5 0.10639785 0.01693122 0.2666667 0.712812500 0.0078125 5.4843750 5.4765625\n",
       "6 0.11013192 0.01711230 0.2539683 0.298221983 0.0078125 2.7265625 2.7187500\n",
       "  modindx    target\n",
       "1 0.00000000 1     \n",
       "2 0.05263158 1     \n",
       "3 0.04651163 1     \n",
       "4 0.24711908 1     \n",
       "5 0.20827389 1     \n",
       "6 0.12515964 1     "
      ]
     },
     "metadata": {},
     "output_type": "display_data"
    }
   ],
   "source": [
    "library(dplyr)\n",
    "df<-df %>% select(-Label)\n",
    "dim(df)\n",
    "head(df)"
   ]
  },
  {
   "cell_type": "code",
   "execution_count": 3,
   "metadata": {},
   "outputs": [
    {
     "data": {
      "text/plain": [
       "\n",
       "   0    1 \n",
       "1584 1584 "
      ]
     },
     "metadata": {},
     "output_type": "display_data"
    },
    {
     "data": {
      "image/png": "[encoded data removed]",
      "text/plain": [
       "plot without title"
      ]
     },
     "metadata": {},
     "output_type": "display_data"
    }
   ],
   "source": [
    "(tbl<-table(df$target))\n",
    "barplot(tbl,beside=T,legend=T,col=rainbow(2))"
   ]
  },
  {
   "cell_type": "code",
   "execution_count": 6,
   "metadata": {},
   "outputs": [],
   "source": [
    "library(caret)\n",
    "set.seed(123)\n",
    "idx_train<-createDataPartition(y=df$target, p=0.8,list=F)\n",
    "train<-df[idx_train,]\n",
    "X_train<-train[,-16]\n",
    "y_train<-train[,16]\n",
    "test<-df[-idx_train,]\n",
    "X_test<-test[,-16]\n",
    "y_test<-test[,16]"
   ]
  },
  {
   "cell_type": "code",
   "execution_count": 7,
   "metadata": {},
   "outputs": [
    {
     "data": {
      "text/html": [
       "<table>\n",
       "<thead><tr><th scope=col>k</th><th scope=col>accuracy</th></tr></thead>\n",
       "<tbody>\n",
       "\t<tr><td>1        </td><td>0.9699367</td></tr>\n",
       "</tbody>\n",
       "</table>\n"
      ],
      "text/latex": [
       "\\begin{tabular}{r|ll}\n",
       " k & accuracy\\\\\n",
       "\\hline\n",
       "\t 1         & 0.9699367\\\\\n",
       "\\end{tabular}\n"
      ],
      "text/markdown": [
       "\n",
       "| k | accuracy |\n",
       "|---|---|\n",
       "| 1         | 0.9699367 |\n",
       "\n"
      ],
      "text/plain": [
       "  k accuracy \n",
       "1 1 0.9699367"
      ]
     },
     "metadata": {},
     "output_type": "display_data"
    },
    {
     "data": {
      "image/png": "[encoded data removed]",
      "text/plain": [
       "Plot with title \"최적의 k값\""
      ]
     },
     "metadata": {},
     "output_type": "display_data"
    }
   ],
   "source": [
    "library(class)\n",
    "acc<-NULL\n",
    "for ( i in c(1:10)){\n",
    "    set.seed(19000)\n",
    "    pred=knn(train=train,test=test,cl=y_train,k=i)\n",
    "    acc<-c(acc,mean(y_test == pred))\n",
    "}\n",
    "df<-data.frame(k=c(1:10), accuracy=acc)\n",
    "plot(accuracy ~ k , data=df, type='o',pch=20, main='최적의 k값',\n",
    "    ylim=c(0,1),col='red')\n",
    "with(df,text(accuracy ~ k, labels=c(1:10),pos=1,cex=0.7))\n",
    "n<-min(df[df$accuracy %in% max(acc),'k'])\n",
    "df[n,]"
   ]
  },
  {
   "cell_type": "code",
   "execution_count": 8,
   "metadata": {},
   "outputs": [
    {
     "data": {
      "text/plain": [
       "      pred\n",
       "y_test   0   1\n",
       "     0 308   8\n",
       "     1  11 305"
      ]
     },
     "metadata": {},
     "output_type": "display_data"
    },
    {
     "data": {
      "text/html": [
       "0.969936708860759"
      ],
      "text/latex": [
       "0.969936708860759"
      ],
      "text/markdown": [
       "0.969936708860759"
      ],
      "text/plain": [
       "[1] 0.9699367"
      ]
     },
     "metadata": {},
     "output_type": "display_data"
    }
   ],
   "source": [
    "library(class)\n",
    "set.seed(19000)\n",
    "pred<-knn(train=train, test=test, cl=y_train, k=n)\n",
    "table(y_test,pred)\n",
    "mean(y_test==pred)"
   ]
  },
  {
   "cell_type": "code",
   "execution_count": null,
   "metadata": {},
   "outputs": [],
   "source": []
  },
  {
   "cell_type": "code",
   "execution_count": null,
   "metadata": {},
   "outputs": [],
   "source": []
  },
  {
   "cell_type": "code",
   "execution_count": null,
   "metadata": {},
   "outputs": [],
   "source": []
  },
  {
   "cell_type": "code",
   "execution_count": null,
   "metadata": {},
   "outputs": [],
   "source": []
  },
  {
   "cell_type": "code",
   "execution_count": null,
   "metadata": {},
   "outputs": [],
   "source": []
  },
  {
   "cell_type": "code",
   "execution_count": null,
   "metadata": {},
   "outputs": [],
   "source": []
  }
 ],
 "metadata": {
  "kernelspec": {
   "display_name": "R",
   "language": "R",
   "name": "ir"
  },
  "language_info": {
   "codemirror_mode": "r",
   "file_extension": ".r",
   "mimetype": "text/x-r-source",
   "name": "R",
   "pygments_lexer": "r",
   "version": "3.6.1"
  }
 },
 "nbformat": 4,
 "nbformat_minor": 2
}
