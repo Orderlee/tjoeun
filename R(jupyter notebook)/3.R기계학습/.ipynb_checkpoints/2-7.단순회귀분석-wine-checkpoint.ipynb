{
 "cells": [
  {
   "cell_type": "code",
   "execution_count": 5,
   "metadata": {},
   "outputs": [
    {
     "data": {
      "text/html": [
       "<table>\n",
       "<thead><tr><th scope=col>fixed.acidity</th><th scope=col>volatile.acidity</th><th scope=col>citric.acid</th><th scope=col>residual.sugar</th><th scope=col>chlorides</th><th scope=col>free.sulfur.dioxide</th><th scope=col>total.sulfur.dioxide</th><th scope=col>density</th><th scope=col>pH</th><th scope=col>sulphates</th><th scope=col>alcohol</th><th scope=col>quality</th></tr></thead>\n",
       "<tbody>\n",
       "\t<tr><td> 7.4  </td><td>0.70  </td><td>0.00  </td><td>1.9   </td><td>0.076 </td><td>11    </td><td>34    </td><td>0.9978</td><td>3.51  </td><td>0.56  </td><td>9.4   </td><td>5     </td></tr>\n",
       "\t<tr><td> 7.8  </td><td>0.88  </td><td>0.00  </td><td>2.6   </td><td>0.098 </td><td>25    </td><td>67    </td><td>0.9968</td><td>3.20  </td><td>0.68  </td><td>9.8   </td><td>5     </td></tr>\n",
       "\t<tr><td> 7.8  </td><td>0.76  </td><td>0.04  </td><td>2.3   </td><td>0.092 </td><td>15    </td><td>54    </td><td>0.9970</td><td>3.26  </td><td>0.65  </td><td>9.8   </td><td>5     </td></tr>\n",
       "\t<tr><td>11.2  </td><td>0.28  </td><td>0.56  </td><td>1.9   </td><td>0.075 </td><td>17    </td><td>60    </td><td>0.9980</td><td>3.16  </td><td>0.58  </td><td>9.8   </td><td>6     </td></tr>\n",
       "\t<tr><td> 7.4  </td><td>0.70  </td><td>0.00  </td><td>1.9   </td><td>0.076 </td><td>11    </td><td>34    </td><td>0.9978</td><td>3.51  </td><td>0.56  </td><td>9.4   </td><td>5     </td></tr>\n",
       "\t<tr><td> 7.4  </td><td>0.66  </td><td>0.00  </td><td>1.8   </td><td>0.075 </td><td>13    </td><td>40    </td><td>0.9978</td><td>3.51  </td><td>0.56  </td><td>9.4   </td><td>5     </td></tr>\n",
       "</tbody>\n",
       "</table>\n"
      ],
      "text/latex": [
       "\\begin{tabular}{r|llllllllllll}\n",
       " fixed.acidity & volatile.acidity & citric.acid & residual.sugar & chlorides & free.sulfur.dioxide & total.sulfur.dioxide & density & pH & sulphates & alcohol & quality\\\\\n",
       "\\hline\n",
       "\t  7.4   & 0.70   & 0.00   & 1.9    & 0.076  & 11     & 34     & 0.9978 & 3.51   & 0.56   & 9.4    & 5     \\\\\n",
       "\t  7.8   & 0.88   & 0.00   & 2.6    & 0.098  & 25     & 67     & 0.9968 & 3.20   & 0.68   & 9.8    & 5     \\\\\n",
       "\t  7.8   & 0.76   & 0.04   & 2.3    & 0.092  & 15     & 54     & 0.9970 & 3.26   & 0.65   & 9.8    & 5     \\\\\n",
       "\t 11.2   & 0.28   & 0.56   & 1.9    & 0.075  & 17     & 60     & 0.9980 & 3.16   & 0.58   & 9.8    & 6     \\\\\n",
       "\t  7.4   & 0.70   & 0.00   & 1.9    & 0.076  & 11     & 34     & 0.9978 & 3.51   & 0.56   & 9.4    & 5     \\\\\n",
       "\t  7.4   & 0.66   & 0.00   & 1.8    & 0.075  & 13     & 40     & 0.9978 & 3.51   & 0.56   & 9.4    & 5     \\\\\n",
       "\\end{tabular}\n"
      ],
      "text/markdown": [
       "\n",
       "| fixed.acidity | volatile.acidity | citric.acid | residual.sugar | chlorides | free.sulfur.dioxide | total.sulfur.dioxide | density | pH | sulphates | alcohol | quality |\n",
       "|---|---|---|---|---|---|---|---|---|---|---|---|\n",
       "|  7.4   | 0.70   | 0.00   | 1.9    | 0.076  | 11     | 34     | 0.9978 | 3.51   | 0.56   | 9.4    | 5      |\n",
       "|  7.8   | 0.88   | 0.00   | 2.6    | 0.098  | 25     | 67     | 0.9968 | 3.20   | 0.68   | 9.8    | 5      |\n",
       "|  7.8   | 0.76   | 0.04   | 2.3    | 0.092  | 15     | 54     | 0.9970 | 3.26   | 0.65   | 9.8    | 5      |\n",
       "| 11.2   | 0.28   | 0.56   | 1.9    | 0.075  | 17     | 60     | 0.9980 | 3.16   | 0.58   | 9.8    | 6      |\n",
       "|  7.4   | 0.70   | 0.00   | 1.9    | 0.076  | 11     | 34     | 0.9978 | 3.51   | 0.56   | 9.4    | 5      |\n",
       "|  7.4   | 0.66   | 0.00   | 1.8    | 0.075  | 13     | 40     | 0.9978 | 3.51   | 0.56   | 9.4    | 5      |\n",
       "\n"
      ],
      "text/plain": [
       "  fixed.acidity volatile.acidity citric.acid residual.sugar chlorides\n",
       "1  7.4          0.70             0.00        1.9            0.076    \n",
       "2  7.8          0.88             0.00        2.6            0.098    \n",
       "3  7.8          0.76             0.04        2.3            0.092    \n",
       "4 11.2          0.28             0.56        1.9            0.075    \n",
       "5  7.4          0.70             0.00        1.9            0.076    \n",
       "6  7.4          0.66             0.00        1.8            0.075    \n",
       "  free.sulfur.dioxide total.sulfur.dioxide density pH   sulphates alcohol\n",
       "1 11                  34                   0.9978  3.51 0.56      9.4    \n",
       "2 25                  67                   0.9968  3.20 0.68      9.8    \n",
       "3 15                  54                   0.9970  3.26 0.65      9.8    \n",
       "4 17                  60                   0.9980  3.16 0.58      9.8    \n",
       "5 11                  34                   0.9978  3.51 0.56      9.4    \n",
       "6 13                  40                   0.9978  3.51 0.56      9.4    \n",
       "  quality\n",
       "1 5      \n",
       "2 5      \n",
       "3 5      \n",
       "4 6      \n",
       "5 5      \n",
       "6 5      "
      ]
     },
     "metadata": {},
     "output_type": "display_data"
    },
    {
     "data": {
      "text/html": [
       "<table>\n",
       "<thead><tr><th></th><th scope=col>fixed.acidity</th><th scope=col>volatile.acidity</th><th scope=col>citric.acid</th><th scope=col>residual.sugar</th><th scope=col>chlorides</th><th scope=col>free.sulfur.dioxide</th><th scope=col>total.sulfur.dioxide</th><th scope=col>density</th><th scope=col>pH</th><th scope=col>sulphates</th><th scope=col>alcohol</th><th scope=col>quality</th></tr></thead>\n",
       "<tbody>\n",
       "\t<tr><th scope=row>1594</th><td>6.8    </td><td>0.620  </td><td>0.08   </td><td>1.9    </td><td>0.068  </td><td>28     </td><td>38     </td><td>0.99651</td><td>3.42   </td><td>0.82   </td><td> 9.5   </td><td>6      </td></tr>\n",
       "\t<tr><th scope=row>1595</th><td>6.2    </td><td>0.600  </td><td>0.08   </td><td>2.0    </td><td>0.090  </td><td>32     </td><td>44     </td><td>0.99490</td><td>3.45   </td><td>0.58   </td><td>10.5   </td><td>5      </td></tr>\n",
       "\t<tr><th scope=row>1596</th><td>5.9    </td><td>0.550  </td><td>0.10   </td><td>2.2    </td><td>0.062  </td><td>39     </td><td>51     </td><td>0.99512</td><td>3.52   </td><td>0.76   </td><td>11.2   </td><td>6      </td></tr>\n",
       "\t<tr><th scope=row>1597</th><td>6.3    </td><td>0.510  </td><td>0.13   </td><td>2.3    </td><td>0.076  </td><td>29     </td><td>40     </td><td>0.99574</td><td>3.42   </td><td>0.75   </td><td>11.0   </td><td>6      </td></tr>\n",
       "\t<tr><th scope=row>1598</th><td>5.9    </td><td>0.645  </td><td>0.12   </td><td>2.0    </td><td>0.075  </td><td>32     </td><td>44     </td><td>0.99547</td><td>3.57   </td><td>0.71   </td><td>10.2   </td><td>5      </td></tr>\n",
       "\t<tr><th scope=row>1599</th><td>6.0    </td><td>0.310  </td><td>0.47   </td><td>3.6    </td><td>0.067  </td><td>18     </td><td>42     </td><td>0.99549</td><td>3.39   </td><td>0.66   </td><td>11.0   </td><td>6      </td></tr>\n",
       "</tbody>\n",
       "</table>\n"
      ],
      "text/latex": [
       "\\begin{tabular}{r|llllllllllll}\n",
       "  & fixed.acidity & volatile.acidity & citric.acid & residual.sugar & chlorides & free.sulfur.dioxide & total.sulfur.dioxide & density & pH & sulphates & alcohol & quality\\\\\n",
       "\\hline\n",
       "\t1594 & 6.8     & 0.620   & 0.08    & 1.9     & 0.068   & 28      & 38      & 0.99651 & 3.42    & 0.82    &  9.5    & 6      \\\\\n",
       "\t1595 & 6.2     & 0.600   & 0.08    & 2.0     & 0.090   & 32      & 44      & 0.99490 & 3.45    & 0.58    & 10.5    & 5      \\\\\n",
       "\t1596 & 5.9     & 0.550   & 0.10    & 2.2     & 0.062   & 39      & 51      & 0.99512 & 3.52    & 0.76    & 11.2    & 6      \\\\\n",
       "\t1597 & 6.3     & 0.510   & 0.13    & 2.3     & 0.076   & 29      & 40      & 0.99574 & 3.42    & 0.75    & 11.0    & 6      \\\\\n",
       "\t1598 & 5.9     & 0.645   & 0.12    & 2.0     & 0.075   & 32      & 44      & 0.99547 & 3.57    & 0.71    & 10.2    & 5      \\\\\n",
       "\t1599 & 6.0     & 0.310   & 0.47    & 3.6     & 0.067   & 18      & 42      & 0.99549 & 3.39    & 0.66    & 11.0    & 6      \\\\\n",
       "\\end{tabular}\n"
      ],
      "text/markdown": [
       "\n",
       "| <!--/--> | fixed.acidity | volatile.acidity | citric.acid | residual.sugar | chlorides | free.sulfur.dioxide | total.sulfur.dioxide | density | pH | sulphates | alcohol | quality |\n",
       "|---|---|---|---|---|---|---|---|---|---|---|---|---|\n",
       "| 1594 | 6.8     | 0.620   | 0.08    | 1.9     | 0.068   | 28      | 38      | 0.99651 | 3.42    | 0.82    |  9.5    | 6       |\n",
       "| 1595 | 6.2     | 0.600   | 0.08    | 2.0     | 0.090   | 32      | 44      | 0.99490 | 3.45    | 0.58    | 10.5    | 5       |\n",
       "| 1596 | 5.9     | 0.550   | 0.10    | 2.2     | 0.062   | 39      | 51      | 0.99512 | 3.52    | 0.76    | 11.2    | 6       |\n",
       "| 1597 | 6.3     | 0.510   | 0.13    | 2.3     | 0.076   | 29      | 40      | 0.99574 | 3.42    | 0.75    | 11.0    | 6       |\n",
       "| 1598 | 5.9     | 0.645   | 0.12    | 2.0     | 0.075   | 32      | 44      | 0.99547 | 3.57    | 0.71    | 10.2    | 5       |\n",
       "| 1599 | 6.0     | 0.310   | 0.47    | 3.6     | 0.067   | 18      | 42      | 0.99549 | 3.39    | 0.66    | 11.0    | 6       |\n",
       "\n"
      ],
      "text/plain": [
       "     fixed.acidity volatile.acidity citric.acid residual.sugar chlorides\n",
       "1594 6.8           0.620            0.08        1.9            0.068    \n",
       "1595 6.2           0.600            0.08        2.0            0.090    \n",
       "1596 5.9           0.550            0.10        2.2            0.062    \n",
       "1597 6.3           0.510            0.13        2.3            0.076    \n",
       "1598 5.9           0.645            0.12        2.0            0.075    \n",
       "1599 6.0           0.310            0.47        3.6            0.067    \n",
       "     free.sulfur.dioxide total.sulfur.dioxide density pH   sulphates alcohol\n",
       "1594 28                  38                   0.99651 3.42 0.82       9.5   \n",
       "1595 32                  44                   0.99490 3.45 0.58      10.5   \n",
       "1596 39                  51                   0.99512 3.52 0.76      11.2   \n",
       "1597 29                  40                   0.99574 3.42 0.75      11.0   \n",
       "1598 32                  44                   0.99547 3.57 0.71      10.2   \n",
       "1599 18                  42                   0.99549 3.39 0.66      11.0   \n",
       "     quality\n",
       "1594 6      \n",
       "1595 5      \n",
       "1596 6      \n",
       "1597 6      \n",
       "1598 5      \n",
       "1599 6      "
      ]
     },
     "metadata": {},
     "output_type": "display_data"
    }
   ],
   "source": [
    "#귀무가설: 알코올농도와 와인품질은 상관관계가 있다.\n",
    "#대립가설: 알코올농도와 와인품질은 상관관계가 없다.\n",
    "df<-read.csv('d:/data/wine/winequality-red.csv',sep=';')\n",
    "head(df)\n",
    "tail(df)"
   ]
  },
  {
   "cell_type": "code",
   "execution_count": 6,
   "metadata": {},
   "outputs": [
    {
     "data": {
      "text/html": [
       "<ol class=list-inline>\n",
       "\t<li>1599</li>\n",
       "\t<li>12</li>\n",
       "</ol>\n"
      ],
      "text/latex": [
       "\\begin{enumerate*}\n",
       "\\item 1599\n",
       "\\item 12\n",
       "\\end{enumerate*}\n"
      ],
      "text/markdown": [
       "1. 1599\n",
       "2. 12\n",
       "\n",
       "\n"
      ],
      "text/plain": [
       "[1] 1599   12"
      ]
     },
     "metadata": {},
     "output_type": "display_data"
    }
   ],
   "source": [
    "dim(df) #데이터의 차원"
   ]
  },
  {
   "cell_type": "code",
   "execution_count": 7,
   "metadata": {},
   "outputs": [],
   "source": [
    "X<-df$alcohol #독립변수\n",
    "y<-df$quality #종속변수"
   ]
  },
  {
   "cell_type": "code",
   "execution_count": 8,
   "metadata": {},
   "outputs": [
    {
     "data": {
      "text/html": [
       "0.476166324001136"
      ],
      "text/latex": [
       "0.476166324001136"
      ],
      "text/markdown": [
       "0.476166324001136"
      ],
      "text/plain": [
       "[1] 0.4761663"
      ]
     },
     "metadata": {},
     "output_type": "display_data"
    }
   ],
   "source": [
    "cor(X,y) #상관계수"
   ]
  },
  {
   "cell_type": "code",
   "execution_count": 9,
   "metadata": {},
   "outputs": [
    {
     "data": {
      "text/plain": [
       "\n",
       "Call:\n",
       "lm(formula = y ~ X)\n",
       "\n",
       "Coefficients:\n",
       "(Intercept)            X  \n",
       "     1.8750       0.3608  \n"
      ]
     },
     "metadata": {},
     "output_type": "display_data"
    }
   ],
   "source": [
    "(model<-lm(y~X)) #단순(선형)회귀분석 모형"
   ]
  },
  {
   "cell_type": "code",
   "execution_count": 10,
   "metadata": {},
   "outputs": [
    {
     "data": {
      "text/plain": [
       "\n",
       "Call:\n",
       "lm(formula = y ~ X)\n",
       "\n",
       "Residuals:\n",
       "    Min      1Q  Median      3Q     Max \n",
       "-2.8442 -0.4112 -0.1690  0.5166  2.5888 \n",
       "\n",
       "Coefficients:\n",
       "            Estimate Std. Error t value Pr(>|t|)    \n",
       "(Intercept)  1.87497    0.17471   10.73   <2e-16 ***\n",
       "X            0.36084    0.01668   21.64   <2e-16 ***\n",
       "---\n",
       "Signif. codes:  0 '***' 0.001 '**' 0.01 '*' 0.05 '.' 0.1 ' ' 1\n",
       "\n",
       "Residual standard error: 0.7104 on 1597 degrees of freedom\n",
       "Multiple R-squared:  0.2267,\tAdjusted R-squared:  0.2263 \n",
       "F-statistic: 468.3 on 1 and 1597 DF,  p-value: < 2.2e-16\n"
      ]
     },
     "metadata": {},
     "output_type": "display_data"
    }
   ],
   "source": [
    "summary(model) #p-value, R제곱\n",
    "#p-value: < 2.2e-16\n",
    "# 95%+99% 신뢰수준하에서 유의\n",
    "#결론: 알코올 농도와 와인품질은 상관관계가 있다.\n",
    "#R제곱:0.2263 22.3%의 설명력을 가지고 있다."
   ]
  },
  {
   "cell_type": "code",
   "execution_count": 11,
   "metadata": {},
   "outputs": [
    {
     "data": {
      "image/png": "[encoded data removed]",
      "text/plain": [
       "plot without title"
      ]
     },
     "metadata": {},
     "output_type": "display_data"
    }
   ],
   "source": [
    "plot(X,y,xlab='알코올',ylab='품질')\n",
    "abline(model,col='red') #회귀선"
   ]
  },
  {
   "cell_type": "code",
   "execution_count": 12,
   "metadata": {},
   "outputs": [
    {
     "data": {
      "text/html": [
       "<table>\n",
       "<thead><tr><th scope=col>fixed.acidity</th><th scope=col>volatile.acidity</th><th scope=col>citric.acid</th><th scope=col>residual.sugar</th><th scope=col>chlorides</th><th scope=col>free.sulfur.dioxide</th><th scope=col>total.sulfur.dioxide</th><th scope=col>density</th><th scope=col>pH</th><th scope=col>sulphates</th><th scope=col>alcohol</th><th scope=col>quality</th></tr></thead>\n",
       "<tbody>\n",
       "\t<tr><td> 7.4  </td><td>0.70  </td><td>0.00  </td><td>1.9   </td><td>0.076 </td><td>11    </td><td>34    </td><td>0.9978</td><td>3.51  </td><td>0.56  </td><td>9.4   </td><td>5     </td></tr>\n",
       "\t<tr><td> 7.8  </td><td>0.88  </td><td>0.00  </td><td>2.6   </td><td>0.098 </td><td>25    </td><td>67    </td><td>0.9968</td><td>3.20  </td><td>0.68  </td><td>9.8   </td><td>5     </td></tr>\n",
       "\t<tr><td> 7.8  </td><td>0.76  </td><td>0.04  </td><td>2.3   </td><td>0.092 </td><td>15    </td><td>54    </td><td>0.9970</td><td>3.26  </td><td>0.65  </td><td>9.8   </td><td>5     </td></tr>\n",
       "\t<tr><td>11.2  </td><td>0.28  </td><td>0.56  </td><td>1.9   </td><td>0.075 </td><td>17    </td><td>60    </td><td>0.9980</td><td>3.16  </td><td>0.58  </td><td>9.8   </td><td>6     </td></tr>\n",
       "\t<tr><td> 7.4  </td><td>0.70  </td><td>0.00  </td><td>1.9   </td><td>0.076 </td><td>11    </td><td>34    </td><td>0.9978</td><td>3.51  </td><td>0.56  </td><td>9.4   </td><td>5     </td></tr>\n",
       "\t<tr><td> 7.4  </td><td>0.66  </td><td>0.00  </td><td>1.8   </td><td>0.075 </td><td>13    </td><td>40    </td><td>0.9978</td><td>3.51  </td><td>0.56  </td><td>9.4   </td><td>5     </td></tr>\n",
       "</tbody>\n",
       "</table>\n"
      ],
      "text/latex": [
       "\\begin{tabular}{r|llllllllllll}\n",
       " fixed.acidity & volatile.acidity & citric.acid & residual.sugar & chlorides & free.sulfur.dioxide & total.sulfur.dioxide & density & pH & sulphates & alcohol & quality\\\\\n",
       "\\hline\n",
       "\t  7.4   & 0.70   & 0.00   & 1.9    & 0.076  & 11     & 34     & 0.9978 & 3.51   & 0.56   & 9.4    & 5     \\\\\n",
       "\t  7.8   & 0.88   & 0.00   & 2.6    & 0.098  & 25     & 67     & 0.9968 & 3.20   & 0.68   & 9.8    & 5     \\\\\n",
       "\t  7.8   & 0.76   & 0.04   & 2.3    & 0.092  & 15     & 54     & 0.9970 & 3.26   & 0.65   & 9.8    & 5     \\\\\n",
       "\t 11.2   & 0.28   & 0.56   & 1.9    & 0.075  & 17     & 60     & 0.9980 & 3.16   & 0.58   & 9.8    & 6     \\\\\n",
       "\t  7.4   & 0.70   & 0.00   & 1.9    & 0.076  & 11     & 34     & 0.9978 & 3.51   & 0.56   & 9.4    & 5     \\\\\n",
       "\t  7.4   & 0.66   & 0.00   & 1.8    & 0.075  & 13     & 40     & 0.9978 & 3.51   & 0.56   & 9.4    & 5     \\\\\n",
       "\\end{tabular}\n"
      ],
      "text/markdown": [
       "\n",
       "| fixed.acidity | volatile.acidity | citric.acid | residual.sugar | chlorides | free.sulfur.dioxide | total.sulfur.dioxide | density | pH | sulphates | alcohol | quality |\n",
       "|---|---|---|---|---|---|---|---|---|---|---|---|\n",
       "|  7.4   | 0.70   | 0.00   | 1.9    | 0.076  | 11     | 34     | 0.9978 | 3.51   | 0.56   | 9.4    | 5      |\n",
       "|  7.8   | 0.88   | 0.00   | 2.6    | 0.098  | 25     | 67     | 0.9968 | 3.20   | 0.68   | 9.8    | 5      |\n",
       "|  7.8   | 0.76   | 0.04   | 2.3    | 0.092  | 15     | 54     | 0.9970 | 3.26   | 0.65   | 9.8    | 5      |\n",
       "| 11.2   | 0.28   | 0.56   | 1.9    | 0.075  | 17     | 60     | 0.9980 | 3.16   | 0.58   | 9.8    | 6      |\n",
       "|  7.4   | 0.70   | 0.00   | 1.9    | 0.076  | 11     | 34     | 0.9978 | 3.51   | 0.56   | 9.4    | 5      |\n",
       "|  7.4   | 0.66   | 0.00   | 1.8    | 0.075  | 13     | 40     | 0.9978 | 3.51   | 0.56   | 9.4    | 5      |\n",
       "\n"
      ],
      "text/plain": [
       "  fixed.acidity volatile.acidity citric.acid residual.sugar chlorides\n",
       "1  7.4          0.70             0.00        1.9            0.076    \n",
       "2  7.8          0.88             0.00        2.6            0.098    \n",
       "3  7.8          0.76             0.04        2.3            0.092    \n",
       "4 11.2          0.28             0.56        1.9            0.075    \n",
       "5  7.4          0.70             0.00        1.9            0.076    \n",
       "6  7.4          0.66             0.00        1.8            0.075    \n",
       "  free.sulfur.dioxide total.sulfur.dioxide density pH   sulphates alcohol\n",
       "1 11                  34                   0.9978  3.51 0.56      9.4    \n",
       "2 25                  67                   0.9968  3.20 0.68      9.8    \n",
       "3 15                  54                   0.9970  3.26 0.65      9.8    \n",
       "4 17                  60                   0.9980  3.16 0.58      9.8    \n",
       "5 11                  34                   0.9978  3.51 0.56      9.4    \n",
       "6 13                  40                   0.9978  3.51 0.56      9.4    \n",
       "  quality\n",
       "1 5      \n",
       "2 5      \n",
       "3 5      \n",
       "4 6      \n",
       "5 5      \n",
       "6 5      "
      ]
     },
     "metadata": {},
     "output_type": "display_data"
    },
    {
     "data": {
      "text/html": [
       "<table>\n",
       "<thead><tr><th></th><th scope=col>fixed.acidity</th><th scope=col>volatile.acidity</th><th scope=col>citric.acid</th><th scope=col>residual.sugar</th><th scope=col>chlorides</th><th scope=col>free.sulfur.dioxide</th><th scope=col>total.sulfur.dioxide</th><th scope=col>density</th><th scope=col>pH</th><th scope=col>sulphates</th><th scope=col>alcohol</th><th scope=col>quality</th></tr></thead>\n",
       "<tbody>\n",
       "\t<tr><th scope=row>1594</th><td>6.8    </td><td>0.620  </td><td>0.08   </td><td>1.9    </td><td>0.068  </td><td>28     </td><td>38     </td><td>0.99651</td><td>3.42   </td><td>0.82   </td><td> 9.5   </td><td>6      </td></tr>\n",
       "\t<tr><th scope=row>1595</th><td>6.2    </td><td>0.600  </td><td>0.08   </td><td>2.0    </td><td>0.090  </td><td>32     </td><td>44     </td><td>0.99490</td><td>3.45   </td><td>0.58   </td><td>10.5   </td><td>5      </td></tr>\n",
       "\t<tr><th scope=row>1596</th><td>5.9    </td><td>0.550  </td><td>0.10   </td><td>2.2    </td><td>0.062  </td><td>39     </td><td>51     </td><td>0.99512</td><td>3.52   </td><td>0.76   </td><td>11.2   </td><td>6      </td></tr>\n",
       "\t<tr><th scope=row>1597</th><td>6.3    </td><td>0.510  </td><td>0.13   </td><td>2.3    </td><td>0.076  </td><td>29     </td><td>40     </td><td>0.99574</td><td>3.42   </td><td>0.75   </td><td>11.0   </td><td>6      </td></tr>\n",
       "\t<tr><th scope=row>1598</th><td>5.9    </td><td>0.645  </td><td>0.12   </td><td>2.0    </td><td>0.075  </td><td>32     </td><td>44     </td><td>0.99547</td><td>3.57   </td><td>0.71   </td><td>10.2   </td><td>5      </td></tr>\n",
       "\t<tr><th scope=row>1599</th><td>6.0    </td><td>0.310  </td><td>0.47   </td><td>3.6    </td><td>0.067  </td><td>18     </td><td>42     </td><td>0.99549</td><td>3.39   </td><td>0.66   </td><td>11.0   </td><td>6      </td></tr>\n",
       "</tbody>\n",
       "</table>\n"
      ],
      "text/latex": [
       "\\begin{tabular}{r|llllllllllll}\n",
       "  & fixed.acidity & volatile.acidity & citric.acid & residual.sugar & chlorides & free.sulfur.dioxide & total.sulfur.dioxide & density & pH & sulphates & alcohol & quality\\\\\n",
       "\\hline\n",
       "\t1594 & 6.8     & 0.620   & 0.08    & 1.9     & 0.068   & 28      & 38      & 0.99651 & 3.42    & 0.82    &  9.5    & 6      \\\\\n",
       "\t1595 & 6.2     & 0.600   & 0.08    & 2.0     & 0.090   & 32      & 44      & 0.99490 & 3.45    & 0.58    & 10.5    & 5      \\\\\n",
       "\t1596 & 5.9     & 0.550   & 0.10    & 2.2     & 0.062   & 39      & 51      & 0.99512 & 3.52    & 0.76    & 11.2    & 6      \\\\\n",
       "\t1597 & 6.3     & 0.510   & 0.13    & 2.3     & 0.076   & 29      & 40      & 0.99574 & 3.42    & 0.75    & 11.0    & 6      \\\\\n",
       "\t1598 & 5.9     & 0.645   & 0.12    & 2.0     & 0.075   & 32      & 44      & 0.99547 & 3.57    & 0.71    & 10.2    & 5      \\\\\n",
       "\t1599 & 6.0     & 0.310   & 0.47    & 3.6     & 0.067   & 18      & 42      & 0.99549 & 3.39    & 0.66    & 11.0    & 6      \\\\\n",
       "\\end{tabular}\n"
      ],
      "text/markdown": [
       "\n",
       "| <!--/--> | fixed.acidity | volatile.acidity | citric.acid | residual.sugar | chlorides | free.sulfur.dioxide | total.sulfur.dioxide | density | pH | sulphates | alcohol | quality |\n",
       "|---|---|---|---|---|---|---|---|---|---|---|---|---|\n",
       "| 1594 | 6.8     | 0.620   | 0.08    | 1.9     | 0.068   | 28      | 38      | 0.99651 | 3.42    | 0.82    |  9.5    | 6       |\n",
       "| 1595 | 6.2     | 0.600   | 0.08    | 2.0     | 0.090   | 32      | 44      | 0.99490 | 3.45    | 0.58    | 10.5    | 5       |\n",
       "| 1596 | 5.9     | 0.550   | 0.10    | 2.2     | 0.062   | 39      | 51      | 0.99512 | 3.52    | 0.76    | 11.2    | 6       |\n",
       "| 1597 | 6.3     | 0.510   | 0.13    | 2.3     | 0.076   | 29      | 40      | 0.99574 | 3.42    | 0.75    | 11.0    | 6       |\n",
       "| 1598 | 5.9     | 0.645   | 0.12    | 2.0     | 0.075   | 32      | 44      | 0.99547 | 3.57    | 0.71    | 10.2    | 5       |\n",
       "| 1599 | 6.0     | 0.310   | 0.47    | 3.6     | 0.067   | 18      | 42      | 0.99549 | 3.39    | 0.66    | 11.0    | 6       |\n",
       "\n"
      ],
      "text/plain": [
       "     fixed.acidity volatile.acidity citric.acid residual.sugar chlorides\n",
       "1594 6.8           0.620            0.08        1.9            0.068    \n",
       "1595 6.2           0.600            0.08        2.0            0.090    \n",
       "1596 5.9           0.550            0.10        2.2            0.062    \n",
       "1597 6.3           0.510            0.13        2.3            0.076    \n",
       "1598 5.9           0.645            0.12        2.0            0.075    \n",
       "1599 6.0           0.310            0.47        3.6            0.067    \n",
       "     free.sulfur.dioxide total.sulfur.dioxide density pH   sulphates alcohol\n",
       "1594 28                  38                   0.99651 3.42 0.82       9.5   \n",
       "1595 32                  44                   0.99490 3.45 0.58      10.5   \n",
       "1596 39                  51                   0.99512 3.52 0.76      11.2   \n",
       "1597 29                  40                   0.99574 3.42 0.75      11.0   \n",
       "1598 32                  44                   0.99547 3.57 0.71      10.2   \n",
       "1599 18                  42                   0.99549 3.39 0.66      11.0   \n",
       "     quality\n",
       "1594 6      \n",
       "1595 5      \n",
       "1596 6      \n",
       "1597 6      \n",
       "1598 5      \n",
       "1599 6      "
      ]
     },
     "metadata": {},
     "output_type": "display_data"
    }
   ],
   "source": [
    "#귀무가설: ph와 알콜농도는 와인품질은 상관관계가 있다.\n",
    "#대립가설: ph와 알코올농도 와인품질은 상관관계가 없다.\n",
    "df<-read.csv('d:/data/wine/winequality-red.csv',sep=';')\n",
    "head(df)\n",
    "tail(df)"
   ]
  },
  {
   "cell_type": "code",
   "execution_count": 13,
   "metadata": {},
   "outputs": [
    {
     "data": {
      "text/html": [
       "<ol class=list-inline>\n",
       "\t<li>1599</li>\n",
       "\t<li>12</li>\n",
       "</ol>\n"
      ],
      "text/latex": [
       "\\begin{enumerate*}\n",
       "\\item 1599\n",
       "\\item 12\n",
       "\\end{enumerate*}\n"
      ],
      "text/markdown": [
       "1. 1599\n",
       "2. 12\n",
       "\n",
       "\n"
      ],
      "text/plain": [
       "[1] 1599   12"
      ]
     },
     "metadata": {},
     "output_type": "display_data"
    }
   ],
   "source": [
    "dim(df) #데이터의 차원"
   ]
  },
  {
   "cell_type": "code",
   "execution_count": 14,
   "metadata": {},
   "outputs": [],
   "source": [
    "X<-df$pH #독립변수\n",
    "y<-df$alcohol #종속변수"
   ]
  },
  {
   "cell_type": "code",
   "execution_count": 15,
   "metadata": {},
   "outputs": [
    {
     "data": {
      "text/html": [
       "0.205632508505498"
      ],
      "text/latex": [
       "0.205632508505498"
      ],
      "text/markdown": [
       "0.205632508505498"
      ],
      "text/plain": [
       "[1] 0.2056325"
      ]
     },
     "metadata": {},
     "output_type": "display_data"
    }
   ],
   "source": [
    "cor(X,y) #상관계수"
   ]
  },
  {
   "cell_type": "code",
   "execution_count": 16,
   "metadata": {},
   "outputs": [
    {
     "data": {
      "text/plain": [
       "\n",
       "Call:\n",
       "lm(formula = y ~ X)\n",
       "\n",
       "Coefficients:\n",
       "(Intercept)            X  \n",
       "      5.723        1.419  \n"
      ]
     },
     "metadata": {},
     "output_type": "display_data"
    }
   ],
   "source": [
    "(model<-lm(y~X)) #단순(선형)회귀분석 모형"
   ]
  },
  {
   "cell_type": "code",
   "execution_count": 17,
   "metadata": {},
   "outputs": [
    {
     "data": {
      "text/plain": [
       "\n",
       "Call:\n",
       "lm(formula = y ~ X)\n",
       "\n",
       "Residuals:\n",
       "    Min      1Q  Median      3Q     Max \n",
       "-1.8085 -0.8378 -0.2253  0.6509  4.9470 \n",
       "\n",
       "Coefficients:\n",
       "            Estimate Std. Error t value Pr(>|t|)    \n",
       "(Intercept)   5.7232     0.5603  10.214   <2e-16 ***\n",
       "X             1.4194     0.1690   8.397   <2e-16 ***\n",
       "---\n",
       "Signif. codes:  0 '***' 0.001 '**' 0.01 '*' 0.05 '.' 0.1 ' ' 1\n",
       "\n",
       "Residual standard error: 1.043 on 1597 degrees of freedom\n",
       "Multiple R-squared:  0.04228,\tAdjusted R-squared:  0.04169 \n",
       "F-statistic: 70.51 on 1 and 1597 DF,  p-value: < 2.2e-16\n"
      ]
     },
     "metadata": {},
     "output_type": "display_data"
    }
   ],
   "source": [
    "summary(model) #p-value, R제곱\n",
    "#p-value: < 2.2e-16\n",
    "# 95%+99% 신뢰수준하에서 유의\n",
    "#결론: pH와 알코올농도는 상관관계가 있다.\n",
    "#R제곱:0.04169 4%의 설명력을 가지고 있다."
   ]
  },
  {
   "cell_type": "code",
   "execution_count": 18,
   "metadata": {},
   "outputs": [
    {
     "data": {
      "image/png": "[encoded data removed]",
      "text/plain": [
       "plot without title"
      ]
     },
     "metadata": {},
     "output_type": "display_data"
    }
   ],
   "source": [
    "plot(X,y,xlab='pH',ylab='알코올')\n",
    "abline(model,col='red') #회귀선"
   ]
  },
  {
   "cell_type": "code",
   "execution_count": null,
   "metadata": {},
   "outputs": [],
   "source": []
  },
  {
   "cell_type": "code",
   "execution_count": null,
   "metadata": {},
   "outputs": [],
   "source": []
  }
 ],
 "metadata": {
  "kernelspec": {
   "display_name": "R",
   "language": "R",
   "name": "ir"
  },
  "language_info": {
   "codemirror_mode": "r",
   "file_extension": ".r",
   "mimetype": "text/x-r-source",
   "name": "R",
   "pygments_lexer": "r",
   "version": "3.6.1"
  }
 },
 "nbformat": 4,
 "nbformat_minor": 2
}
