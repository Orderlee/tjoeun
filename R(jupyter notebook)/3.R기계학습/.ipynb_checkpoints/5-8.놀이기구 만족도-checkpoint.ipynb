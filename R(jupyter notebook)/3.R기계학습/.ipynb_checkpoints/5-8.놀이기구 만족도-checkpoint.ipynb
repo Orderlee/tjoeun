{
 "cells": [
  {
   "cell_type": "code",
   "execution_count": 1,
   "metadata": {},
   "outputs": [
    {
     "data": {
      "text/html": [
       "<table>\n",
       "<thead><tr><th scope=col>weekend</th><th scope=col>num.child</th><th scope=col>distance</th><th scope=col>rides</th><th scope=col>games</th><th scope=col>wait</th><th scope=col>clean</th><th scope=col>overall</th><th scope=col>class</th></tr></thead>\n",
       "<tbody>\n",
       "\t<tr><td>1        </td><td>0        </td><td>114.64826</td><td>87       </td><td>73       </td><td>60       </td><td>89       </td><td>47       </td><td>0        </td></tr>\n",
       "\t<tr><td>1        </td><td>2        </td><td> 27.01410</td><td>87       </td><td>78       </td><td>76       </td><td>87       </td><td>65       </td><td>1        </td></tr>\n",
       "\t<tr><td>0        </td><td>1        </td><td> 63.30098</td><td>85       </td><td>80       </td><td>70       </td><td>88       </td><td>61       </td><td>1        </td></tr>\n",
       "\t<tr><td>1        </td><td>0        </td><td> 25.90993</td><td>88       </td><td>72       </td><td>66       </td><td>89       </td><td>37       </td><td>0        </td></tr>\n",
       "\t<tr><td>0        </td><td>4        </td><td> 54.71831</td><td>84       </td><td>87       </td><td>74       </td><td>87       </td><td>68       </td><td>1        </td></tr>\n",
       "\t<tr><td>0        </td><td>5        </td><td> 22.67934</td><td>81       </td><td>79       </td><td>48       </td><td>79       </td><td>27       </td><td>0        </td></tr>\n",
       "</tbody>\n",
       "</table>\n"
      ],
      "text/latex": [
       "\\begin{tabular}{r|lllllllll}\n",
       " weekend & num.child & distance & rides & games & wait & clean & overall & class\\\\\n",
       "\\hline\n",
       "\t 1         & 0         & 114.64826 & 87        & 73        & 60        & 89        & 47        & 0        \\\\\n",
       "\t 1         & 2         &  27.01410 & 87        & 78        & 76        & 87        & 65        & 1        \\\\\n",
       "\t 0         & 1         &  63.30098 & 85        & 80        & 70        & 88        & 61        & 1        \\\\\n",
       "\t 1         & 0         &  25.90993 & 88        & 72        & 66        & 89        & 37        & 0        \\\\\n",
       "\t 0         & 4         &  54.71831 & 84        & 87        & 74        & 87        & 68        & 1        \\\\\n",
       "\t 0         & 5         &  22.67934 & 81        & 79        & 48        & 79        & 27        & 0        \\\\\n",
       "\\end{tabular}\n"
      ],
      "text/markdown": [
       "\n",
       "| weekend | num.child | distance | rides | games | wait | clean | overall | class |\n",
       "|---|---|---|---|---|---|---|---|---|\n",
       "| 1         | 0         | 114.64826 | 87        | 73        | 60        | 89        | 47        | 0         |\n",
       "| 1         | 2         |  27.01410 | 87        | 78        | 76        | 87        | 65        | 1         |\n",
       "| 0         | 1         |  63.30098 | 85        | 80        | 70        | 88        | 61        | 1         |\n",
       "| 1         | 0         |  25.90993 | 88        | 72        | 66        | 89        | 37        | 0         |\n",
       "| 0         | 4         |  54.71831 | 84        | 87        | 74        | 87        | 68        | 1         |\n",
       "| 0         | 5         |  22.67934 | 81        | 79        | 48        | 79        | 27        | 0         |\n",
       "\n"
      ],
      "text/plain": [
       "  weekend num.child distance  rides games wait clean overall class\n",
       "1 1       0         114.64826 87    73    60   89    47      0    \n",
       "2 1       2          27.01410 87    78    76   87    65      1    \n",
       "3 0       1          63.30098 85    80    70   88    61      1    \n",
       "4 1       0          25.90993 88    72    66   89    37      0    \n",
       "5 0       4          54.71831 84    87    74   87    68      1    \n",
       "6 0       5          22.67934 81    79    48   79    27      0    "
      ]
     },
     "metadata": {},
     "output_type": "display_data"
    }
   ],
   "source": [
    "df<-read.csv('d:/data/rides/rides2.csv')\n",
    "head(df)"
   ]
  },
  {
   "cell_type": "code",
   "execution_count": 2,
   "metadata": {},
   "outputs": [
    {
     "data": {
      "text/html": [
       "<ol class=list-inline>\n",
       "\t<li>500</li>\n",
       "\t<li>9</li>\n",
       "</ol>\n"
      ],
      "text/latex": [
       "\\begin{enumerate*}\n",
       "\\item 500\n",
       "\\item 9\n",
       "\\end{enumerate*}\n"
      ],
      "text/markdown": [
       "1. 500\n",
       "2. 9\n",
       "\n",
       "\n"
      ],
      "text/plain": [
       "[1] 500   9"
      ]
     },
     "metadata": {},
     "output_type": "display_data"
    },
    {
     "data": {
      "text/plain": [
       "    weekend        num.child        distance            rides       \n",
       " Min.   :0.000   Min.   :0.000   Min.   :  0.5267   Min.   : 72.00  \n",
       " 1st Qu.:0.000   1st Qu.:0.000   1st Qu.: 10.3181   1st Qu.: 82.00  \n",
       " Median :0.000   Median :2.000   Median : 19.0191   Median : 86.00  \n",
       " Mean   :0.482   Mean   :1.738   Mean   : 31.0475   Mean   : 85.85  \n",
       " 3rd Qu.:1.000   3rd Qu.:3.000   3rd Qu.: 39.5821   3rd Qu.: 90.00  \n",
       " Max.   :1.000   Max.   :5.000   Max.   :239.1921   Max.   :100.00  \n",
       "     games             wait           clean          overall      \n",
       " Min.   : 57.00   Min.   : 40.0   Min.   : 74.0   Min.   :  6.00  \n",
       " 1st Qu.: 73.00   1st Qu.: 62.0   1st Qu.: 84.0   1st Qu.: 40.00  \n",
       " Median : 78.00   Median : 70.0   Median : 88.0   Median : 50.00  \n",
       " Mean   : 78.67   Mean   : 69.9   Mean   : 87.9   Mean   : 51.26  \n",
       " 3rd Qu.: 85.00   3rd Qu.: 77.0   3rd Qu.: 91.0   3rd Qu.: 62.00  \n",
       " Max.   :100.00   Max.   :100.0   Max.   :100.0   Max.   :100.00  \n",
       "     class      \n",
       " Min.   :0.000  \n",
       " 1st Qu.:0.000  \n",
       " Median :0.000  \n",
       " Mean   :0.476  \n",
       " 3rd Qu.:1.000  \n",
       " Max.   :1.000  "
      ]
     },
     "metadata": {},
     "output_type": "display_data"
    }
   ],
   "source": [
    "dim(df)\n",
    "summary(df)"
   ]
  },
  {
   "cell_type": "code",
   "execution_count": 3,
   "metadata": {},
   "outputs": [
    {
     "name": "stderr",
     "output_type": "stream",
     "text": [
      "Warning message:\n",
      "\"package 'dplyr' was built under R version 3.6.2\"\n",
      "Attaching package: 'dplyr'\n",
      "\n",
      "The following objects are masked from 'package:stats':\n",
      "\n",
      "    filter, lag\n",
      "\n",
      "The following objects are masked from 'package:base':\n",
      "\n",
      "    intersect, setdiff, setequal, union\n",
      "\n"
     ]
    },
    {
     "data": {
      "text/html": [
       "<ol class=list-inline>\n",
       "\t<li>500</li>\n",
       "\t<li>8</li>\n",
       "</ol>\n"
      ],
      "text/latex": [
       "\\begin{enumerate*}\n",
       "\\item 500\n",
       "\\item 8\n",
       "\\end{enumerate*}\n"
      ],
      "text/markdown": [
       "1. 500\n",
       "2. 8\n",
       "\n",
       "\n"
      ],
      "text/plain": [
       "[1] 500   8"
      ]
     },
     "metadata": {},
     "output_type": "display_data"
    },
    {
     "data": {
      "text/html": [
       "<table>\n",
       "<thead><tr><th scope=col>weekend</th><th scope=col>num.child</th><th scope=col>distance</th><th scope=col>rides</th><th scope=col>games</th><th scope=col>wait</th><th scope=col>clean</th><th scope=col>class</th></tr></thead>\n",
       "<tbody>\n",
       "\t<tr><td>1        </td><td>0        </td><td>114.64826</td><td>87       </td><td>73       </td><td>60       </td><td>89       </td><td>0        </td></tr>\n",
       "\t<tr><td>1        </td><td>2        </td><td> 27.01410</td><td>87       </td><td>78       </td><td>76       </td><td>87       </td><td>1        </td></tr>\n",
       "\t<tr><td>0        </td><td>1        </td><td> 63.30098</td><td>85       </td><td>80       </td><td>70       </td><td>88       </td><td>1        </td></tr>\n",
       "\t<tr><td>1        </td><td>0        </td><td> 25.90993</td><td>88       </td><td>72       </td><td>66       </td><td>89       </td><td>0        </td></tr>\n",
       "\t<tr><td>0        </td><td>4        </td><td> 54.71831</td><td>84       </td><td>87       </td><td>74       </td><td>87       </td><td>1        </td></tr>\n",
       "\t<tr><td>0        </td><td>5        </td><td> 22.67934</td><td>81       </td><td>79       </td><td>48       </td><td>79       </td><td>0        </td></tr>\n",
       "</tbody>\n",
       "</table>\n"
      ],
      "text/latex": [
       "\\begin{tabular}{r|llllllll}\n",
       " weekend & num.child & distance & rides & games & wait & clean & class\\\\\n",
       "\\hline\n",
       "\t 1         & 0         & 114.64826 & 87        & 73        & 60        & 89        & 0        \\\\\n",
       "\t 1         & 2         &  27.01410 & 87        & 78        & 76        & 87        & 1        \\\\\n",
       "\t 0         & 1         &  63.30098 & 85        & 80        & 70        & 88        & 1        \\\\\n",
       "\t 1         & 0         &  25.90993 & 88        & 72        & 66        & 89        & 0        \\\\\n",
       "\t 0         & 4         &  54.71831 & 84        & 87        & 74        & 87        & 1        \\\\\n",
       "\t 0         & 5         &  22.67934 & 81        & 79        & 48        & 79        & 0        \\\\\n",
       "\\end{tabular}\n"
      ],
      "text/markdown": [
       "\n",
       "| weekend | num.child | distance | rides | games | wait | clean | class |\n",
       "|---|---|---|---|---|---|---|---|\n",
       "| 1         | 0         | 114.64826 | 87        | 73        | 60        | 89        | 0         |\n",
       "| 1         | 2         |  27.01410 | 87        | 78        | 76        | 87        | 1         |\n",
       "| 0         | 1         |  63.30098 | 85        | 80        | 70        | 88        | 1         |\n",
       "| 1         | 0         |  25.90993 | 88        | 72        | 66        | 89        | 0         |\n",
       "| 0         | 4         |  54.71831 | 84        | 87        | 74        | 87        | 1         |\n",
       "| 0         | 5         |  22.67934 | 81        | 79        | 48        | 79        | 0         |\n",
       "\n"
      ],
      "text/plain": [
       "  weekend num.child distance  rides games wait clean class\n",
       "1 1       0         114.64826 87    73    60   89    0    \n",
       "2 1       2          27.01410 87    78    76   87    1    \n",
       "3 0       1          63.30098 85    80    70   88    1    \n",
       "4 1       0          25.90993 88    72    66   89    0    \n",
       "5 0       4          54.71831 84    87    74   87    1    \n",
       "6 0       5          22.67934 81    79    48   79    0    "
      ]
     },
     "metadata": {},
     "output_type": "display_data"
    }
   ],
   "source": [
    "library(dplyr)\n",
    "df<-df %>% select(-overall)\n",
    "dim(df)\n",
    "head(df)"
   ]
  },
  {
   "cell_type": "code",
   "execution_count": 4,
   "metadata": {},
   "outputs": [
    {
     "data": {
      "text/plain": [
       "\n",
       "  0   1 \n",
       "262 238 "
      ]
     },
     "metadata": {},
     "output_type": "display_data"
    },
    {
     "data": {
      "image/png": "[encoded data removed]",
      "text/plain": [
       "plot without title"
      ]
     },
     "metadata": {},
     "output_type": "display_data"
    }
   ],
   "source": [
    "(tbl<-table(df$class))\n",
    "barplot(tbl,beside=T, legend=T, col=rainbow(2))\n",
    "# 0평균만족도 점수 평균미만 262, 평균이상 238"
   ]
  },
  {
   "cell_type": "code",
   "execution_count": 5,
   "metadata": {},
   "outputs": [
    {
     "name": "stderr",
     "output_type": "stream",
     "text": [
      "Warning message:\n",
      "\"package 'ROSE' was built under R version 3.6.2\"Loaded ROSE 0.0-3\n",
      "\n"
     ]
    },
    {
     "data": {
      "text/plain": [
       "\n",
       "  0   1 \n",
       "238 238 "
      ]
     },
     "metadata": {},
     "output_type": "display_data"
    }
   ],
   "source": [
    "library(ROSE)\n",
    "df_samp<-ovun.sample(class ~ . , data=df, seed=1, method='under',\n",
    "                    N=238*2)$data\n",
    "(tbl<-table(df_samp$class))"
   ]
  },
  {
   "cell_type": "code",
   "execution_count": 7,
   "metadata": {},
   "outputs": [],
   "source": [
    "library(caret)\n",
    "set.seed(123)\n",
    "idx_train<-createDataPartition(y=df_samp$class, p=0.8, list=F)\n",
    "train<-df_samp[idx_train,] #학습용\n",
    "X_train<-train[,-8]\n",
    "y_train<-train[,8]\n",
    "test<-df_samp[-idx_train,] #검증용\n",
    "X_test<-test[,-8]\n",
    "y_test<-test[,8]"
   ]
  },
  {
   "cell_type": "code",
   "execution_count": 20,
   "metadata": {},
   "outputs": [
    {
     "name": "stderr",
     "output_type": "stream",
     "text": [
      "Warning message:\n",
      "\"package 'reshape' was built under R version 3.6.2\"\n",
      "Attaching package: 'reshape'\n",
      "\n",
      "The following object is masked from 'package:dplyr':\n",
      "\n",
      "    rename\n",
      "\n",
      "Using  as id variables\n"
     ]
    },
    {
     "data": {
      "image/png": "[encoded data removed]",
      "text/plain": [
       "plot without title"
      ]
     },
     "metadata": {},
     "output_type": "display_data"
    }
   ],
   "source": [
    "library(reshape)\n",
    "#박스플롯(정규화 전)\n",
    "meltData<-melt(X_train)\n",
    "boxplot(data=meltData,value~variable)"
   ]
  },
  {
   "cell_type": "code",
   "execution_count": 21,
   "metadata": {},
   "outputs": [
    {
     "data": {
      "text/html": [
       "<table>\n",
       "<thead><tr><th></th><th scope=col>weekend</th><th scope=col>num.child</th><th scope=col>distance</th><th scope=col>rides</th><th scope=col>games</th><th scope=col>wait</th><th scope=col>clean</th></tr></thead>\n",
       "<tbody>\n",
       "\t<tr><th scope=row>1</th><td>0         </td><td>5         </td><td> 11.583172</td><td>90        </td><td>80        </td><td>67        </td><td>88        </td></tr>\n",
       "\t<tr><th scope=row>4</th><td>1         </td><td>2         </td><td>  9.911894</td><td>86        </td><td>68        </td><td>58        </td><td>82        </td></tr>\n",
       "\t<tr><th scope=row>5</th><td>1         </td><td>2         </td><td>  3.213038</td><td>82        </td><td>69        </td><td>60        </td><td>79        </td></tr>\n",
       "\t<tr><th scope=row>6</th><td>0         </td><td>1         </td><td> 52.916100</td><td>82        </td><td>78        </td><td>74        </td><td>81        </td></tr>\n",
       "\t<tr><th scope=row>7</th><td>1         </td><td>2         </td><td>121.614584</td><td>76        </td><td>62        </td><td>64        </td><td>81        </td></tr>\n",
       "\t<tr><th scope=row>8</th><td>1         </td><td>0         </td><td> 31.802904</td><td>84        </td><td>68        </td><td>76        </td><td>85        </td></tr>\n",
       "</tbody>\n",
       "</table>\n"
      ],
      "text/latex": [
       "\\begin{tabular}{r|lllllll}\n",
       "  & weekend & num.child & distance & rides & games & wait & clean\\\\\n",
       "\\hline\n",
       "\t1 & 0          & 5          &  11.583172 & 90         & 80         & 67         & 88        \\\\\n",
       "\t4 & 1          & 2          &   9.911894 & 86         & 68         & 58         & 82        \\\\\n",
       "\t5 & 1          & 2          &   3.213038 & 82         & 69         & 60         & 79        \\\\\n",
       "\t6 & 0          & 1          &  52.916100 & 82         & 78         & 74         & 81        \\\\\n",
       "\t7 & 1          & 2          & 121.614584 & 76         & 62         & 64         & 81        \\\\\n",
       "\t8 & 1          & 0          &  31.802904 & 84         & 68         & 76         & 85        \\\\\n",
       "\\end{tabular}\n"
      ],
      "text/markdown": [
       "\n",
       "| <!--/--> | weekend | num.child | distance | rides | games | wait | clean |\n",
       "|---|---|---|---|---|---|---|---|\n",
       "| 1 | 0          | 5          |  11.583172 | 90         | 80         | 67         | 88         |\n",
       "| 4 | 1          | 2          |   9.911894 | 86         | 68         | 58         | 82         |\n",
       "| 5 | 1          | 2          |   3.213038 | 82         | 69         | 60         | 79         |\n",
       "| 6 | 0          | 1          |  52.916100 | 82         | 78         | 74         | 81         |\n",
       "| 7 | 1          | 2          | 121.614584 | 76         | 62         | 64         | 81         |\n",
       "| 8 | 1          | 0          |  31.802904 | 84         | 68         | 76         | 85         |\n",
       "\n"
      ],
      "text/plain": [
       "  weekend num.child distance   rides games wait clean\n",
       "1 0       5          11.583172 90    80    67   88   \n",
       "4 1       2           9.911894 86    68    58   82   \n",
       "5 1       2           3.213038 82    69    60   79   \n",
       "6 0       1          52.916100 82    78    74   81   \n",
       "7 1       2         121.614584 76    62    64   81   \n",
       "8 1       0          31.802904 84    68    76   85   "
      ]
     },
     "metadata": {},
     "output_type": "display_data"
    },
    {
     "data": {
      "text/html": [
       "<table>\n",
       "<thead><tr><th></th><th scope=col>weekend</th><th scope=col>num.child</th><th scope=col>distance</th><th scope=col>rides</th><th scope=col>games</th><th scope=col>wait</th><th scope=col>clean</th></tr></thead>\n",
       "<tbody>\n",
       "\t<tr><th scope=row>2</th><td>1        </td><td>2        </td><td> 79.24873</td><td>82       </td><td>72       </td><td> 68      </td><td>81       </td></tr>\n",
       "\t<tr><th scope=row>3</th><td>1        </td><td>4        </td><td>103.12012</td><td>87       </td><td>77       </td><td> 57      </td><td>85       </td></tr>\n",
       "\t<tr><th scope=row>12</th><td>0        </td><td>0        </td><td> 44.54439</td><td>91       </td><td>85       </td><td> 76      </td><td>93       </td></tr>\n",
       "\t<tr><th scope=row>15</th><td>0        </td><td>0        </td><td> 66.99375</td><td>93       </td><td>83       </td><td> 71      </td><td>88       </td></tr>\n",
       "\t<tr><th scope=row>19</th><td>1        </td><td>0        </td><td> 27.85703</td><td>93       </td><td>89       </td><td>100      </td><td>94       </td></tr>\n",
       "\t<tr><th scope=row>28</th><td>0        </td><td>2        </td><td> 91.16716</td><td>79       </td><td>75       </td><td> 64      </td><td>84       </td></tr>\n",
       "</tbody>\n",
       "</table>\n"
      ],
      "text/latex": [
       "\\begin{tabular}{r|lllllll}\n",
       "  & weekend & num.child & distance & rides & games & wait & clean\\\\\n",
       "\\hline\n",
       "\t2 & 1         & 2         &  79.24873 & 82        & 72        &  68       & 81       \\\\\n",
       "\t3 & 1         & 4         & 103.12012 & 87        & 77        &  57       & 85       \\\\\n",
       "\t12 & 0         & 0         &  44.54439 & 91        & 85        &  76       & 93       \\\\\n",
       "\t15 & 0         & 0         &  66.99375 & 93        & 83        &  71       & 88       \\\\\n",
       "\t19 & 1         & 0         &  27.85703 & 93        & 89        & 100       & 94       \\\\\n",
       "\t28 & 0         & 2         &  91.16716 & 79        & 75        &  64       & 84       \\\\\n",
       "\\end{tabular}\n"
      ],
      "text/markdown": [
       "\n",
       "| <!--/--> | weekend | num.child | distance | rides | games | wait | clean |\n",
       "|---|---|---|---|---|---|---|---|\n",
       "| 2 | 1         | 2         |  79.24873 | 82        | 72        |  68       | 81        |\n",
       "| 3 | 1         | 4         | 103.12012 | 87        | 77        |  57       | 85        |\n",
       "| 12 | 0         | 0         |  44.54439 | 91        | 85        |  76       | 93        |\n",
       "| 15 | 0         | 0         |  66.99375 | 93        | 83        |  71       | 88        |\n",
       "| 19 | 1         | 0         |  27.85703 | 93        | 89        | 100       | 94        |\n",
       "| 28 | 0         | 2         |  91.16716 | 79        | 75        |  64       | 84        |\n",
       "\n"
      ],
      "text/plain": [
       "   weekend num.child distance  rides games wait clean\n",
       "2  1       2          79.24873 82    72     68  81   \n",
       "3  1       4         103.12012 87    77     57  85   \n",
       "12 0       0          44.54439 91    85     76  93   \n",
       "15 0       0          66.99375 93    83     71  88   \n",
       "19 1       0          27.85703 93    89    100  94   \n",
       "28 0       2          91.16716 79    75     64  84   "
      ]
     },
     "metadata": {},
     "output_type": "display_data"
    }
   ],
   "source": [
    "head(X_train)\n",
    "head(X_test)"
   ]
  },
  {
   "cell_type": "code",
   "execution_count": 22,
   "metadata": {},
   "outputs": [],
   "source": [
    "#scale 정규화 함수, 평균과 \n",
    "X_train_scaled<-as.data.frame(scale(X_train))\n",
    "X_test_scaled<-as.data.frame(scale(X_test))\n",
    "#X데이터와 y데이터 결합\n",
    "train_scaled<-cbind(X_train_scaled,class=y_train)\n",
    "test_scaled<-cbind(X_test_scaled,class=y_test)"
   ]
  },
  {
   "cell_type": "code",
   "execution_count": 24,
   "metadata": {},
   "outputs": [
    {
     "name": "stderr",
     "output_type": "stream",
     "text": [
      "Using  as id variables\n"
     ]
    },
    {
     "data": {
      "image/png": "[encoded data removed]",
      "text/plain": [
       "plot without title"
      ]
     },
     "metadata": {},
     "output_type": "display_data"
    }
   ],
   "source": [
    "#박스플롯(정규화후)\n",
    "meltData<-melt(X_train)\n",
    "boxplot(data=meltData,value~variable)\n"
   ]
  },
  {
   "cell_type": "code",
   "execution_count": 25,
   "metadata": {},
   "outputs": [],
   "source": [
    "library(party)\n",
    "model<-ctree(class ~ . , data=train_scaled) #의사결정나무 모형"
   ]
  },
  {
   "cell_type": "code",
   "execution_count": 26,
   "metadata": {},
   "outputs": [
    {
     "data": {
      "image/png": "[encoded data removed]",
      "text/plain": [
       "plot without title"
      ]
     },
     "metadata": {},
     "output_type": "display_data"
    }
   ],
   "source": [
    "plot(model)"
   ]
  },
  {
   "cell_type": "code",
   "execution_count": 27,
   "metadata": {},
   "outputs": [
    {
     "data": {
      "image/png": "[encoded data removed]",
      "text/plain": [
       "plot without title"
      ]
     },
     "metadata": {},
     "output_type": "display_data"
    }
   ],
   "source": [
    "plot(model,type='simple')"
   ]
  },
  {
   "cell_type": "code",
   "execution_count": 28,
   "metadata": {},
   "outputs": [
    {
     "data": {
      "text/html": [
       "0.871727748691099"
      ],
      "text/latex": [
       "0.871727748691099"
      ],
      "text/markdown": [
       "0.871727748691099"
      ],
      "text/plain": [
       "[1] 0.8717277"
      ]
     },
     "metadata": {},
     "output_type": "display_data"
    },
    {
     "data": {
      "text/plain": [
       "       result\n",
       "y_train   0   1\n",
       "      0 173  18\n",
       "      1  31 160"
      ]
     },
     "metadata": {},
     "output_type": "display_data"
    }
   ],
   "source": [
    "#학습용 데이터셋의 예측 정확도\n",
    "pred<-predict(model,newdata=X_train_scaled,type='response')\n",
    "result<-round(pred) #반올림\n",
    "mean(y_train == result) #87.1% 스케일 후 87.1\n",
    "table(y_train,result)"
   ]
  },
  {
   "cell_type": "code",
   "execution_count": 29,
   "metadata": {},
   "outputs": [
    {
     "data": {
      "text/html": [
       "0.776595744680851"
      ],
      "text/latex": [
       "0.776595744680851"
      ],
      "text/markdown": [
       "0.776595744680851"
      ],
      "text/plain": [
       "[1] 0.7765957"
      ]
     },
     "metadata": {},
     "output_type": "display_data"
    },
    {
     "data": {
      "text/plain": [
       "      result\n",
       "y_test  0  1\n",
       "     0 37 10\n",
       "     1 11 36"
      ]
     },
     "metadata": {},
     "output_type": "display_data"
    }
   ],
   "source": [
    "#검증용 데이터셋의 정확도\n",
    "pred<-predict(model,newdata=X_test_scaled,type='response')\n",
    "result<-round(pred)\n",
    "mean(y_test == result) #78.7%(과적합) 스케일 후  77.6\n",
    "table(y_test,result) "
   ]
  },
  {
   "cell_type": "code",
   "execution_count": 30,
   "metadata": {},
   "outputs": [
    {
     "name": "stderr",
     "output_type": "stream",
     "text": [
      "Warning message in randomForest.default(m, y, ...):\n",
      "\"The response has five or fewer unique values.  Are you sure you want to do regression?\""
     ]
    },
    {
     "data": {
      "text/plain": [
       "\n",
       "Call:\n",
       " randomForest(formula = class ~ ., data = train_scaled, mtry = floor(sqrt(ncol(train))),      ntree = 100, importance = T) \n",
       "               Type of random forest: regression\n",
       "                     Number of trees: 100\n",
       "No. of variables tried at each split: 2\n",
       "\n",
       "          Mean of squared residuals: 0.1241023\n",
       "                    % Var explained: 50.36"
      ]
     },
     "metadata": {},
     "output_type": "display_data"
    }
   ],
   "source": [
    "library(randomForest)\n",
    "set.seed(1)\n",
    "#랜덤포레스트 모형 (트리갯수 100)\n",
    "model<-randomForest(class ~ . , data=train_scaled,\n",
    "                   mtry=floor(sqrt(ncol(train))),ntree=100,\n",
    "                   importance=T)\n",
    "model"
   ]
  },
  {
   "cell_type": "code",
   "execution_count": 31,
   "metadata": {},
   "outputs": [
    {
     "data": {
      "text/html": [
       "0.992146596858639"
      ],
      "text/latex": [
       "0.992146596858639"
      ],
      "text/markdown": [
       "0.992146596858639"
      ],
      "text/plain": [
       "[1] 0.9921466"
      ]
     },
     "metadata": {},
     "output_type": "display_data"
    },
    {
     "data": {
      "text/plain": [
       "       result\n",
       "y_train   0   1\n",
       "      0 189   2\n",
       "      1   1 190"
      ]
     },
     "metadata": {},
     "output_type": "display_data"
    }
   ],
   "source": [
    "#학습용 데이터셋의 예측 정확도\n",
    "pred<-predict(model,newdata=X_train_scaled,type='response')\n",
    "result<-round(pred) #반올림\n",
    "mean(y_train == result) #98.6% 스케일후 99.2\n",
    "table(y_train,result)"
   ]
  },
  {
   "cell_type": "code",
   "execution_count": 32,
   "metadata": {},
   "outputs": [
    {
     "data": {
      "text/html": [
       "0.776595744680851"
      ],
      "text/latex": [
       "0.776595744680851"
      ],
      "text/markdown": [
       "0.776595744680851"
      ],
      "text/plain": [
       "[1] 0.7765957"
      ]
     },
     "metadata": {},
     "output_type": "display_data"
    },
    {
     "data": {
      "text/plain": [
       "      result\n",
       "y_test  0  1\n",
       "     0 38  9\n",
       "     1 12 35"
      ]
     },
     "metadata": {},
     "output_type": "display_data"
    }
   ],
   "source": [
    "#검증용 데이터셋의 정확도\n",
    "pred<-predict(model,newdata=X_test_scaled,type='response')\n",
    "result<-round(pred)\n",
    "mean(y_test == result) #79.7% 스케일 후 77.6\n",
    "table(y_test,result) "
   ]
  },
  {
   "cell_type": "code",
   "execution_count": 33,
   "metadata": {},
   "outputs": [
    {
     "data": {
      "text/html": [
       "<table>\n",
       "<thead><tr><th></th><th scope=col>%IncMSE</th><th scope=col>IncNodePurity</th></tr></thead>\n",
       "<tbody>\n",
       "\t<tr><th scope=row>weekend</th><td>-0.6262784</td><td> 1.258781 </td></tr>\n",
       "\t<tr><th scope=row>num.child</th><td>23.8901645</td><td>20.434856 </td></tr>\n",
       "\t<tr><th scope=row>distance</th><td> 0.2193242</td><td> 8.728671 </td></tr>\n",
       "\t<tr><th scope=row>rides</th><td>10.7761217</td><td>14.169941 </td></tr>\n",
       "\t<tr><th scope=row>games</th><td> 2.8080846</td><td>10.761549 </td></tr>\n",
       "\t<tr><th scope=row>wait</th><td>14.4061500</td><td>16.744366 </td></tr>\n",
       "\t<tr><th scope=row>clean</th><td>11.7359574</td><td>14.739824 </td></tr>\n",
       "</tbody>\n",
       "</table>\n"
      ],
      "text/latex": [
       "\\begin{tabular}{r|ll}\n",
       "  & \\%IncMSE & IncNodePurity\\\\\n",
       "\\hline\n",
       "\tweekend & -0.6262784 &  1.258781 \\\\\n",
       "\tnum.child & 23.8901645 & 20.434856 \\\\\n",
       "\tdistance &  0.2193242 &  8.728671 \\\\\n",
       "\trides & 10.7761217 & 14.169941 \\\\\n",
       "\tgames &  2.8080846 & 10.761549 \\\\\n",
       "\twait & 14.4061500 & 16.744366 \\\\\n",
       "\tclean & 11.7359574 & 14.739824 \\\\\n",
       "\\end{tabular}\n"
      ],
      "text/markdown": [
       "\n",
       "| <!--/--> | %IncMSE | IncNodePurity |\n",
       "|---|---|---|\n",
       "| weekend | -0.6262784 |  1.258781  |\n",
       "| num.child | 23.8901645 | 20.434856  |\n",
       "| distance |  0.2193242 |  8.728671  |\n",
       "| rides | 10.7761217 | 14.169941  |\n",
       "| games |  2.8080846 | 10.761549  |\n",
       "| wait | 14.4061500 | 16.744366  |\n",
       "| clean | 11.7359574 | 14.739824  |\n",
       "\n"
      ],
      "text/plain": [
       "          %IncMSE    IncNodePurity\n",
       "weekend   -0.6262784  1.258781    \n",
       "num.child 23.8901645 20.434856    \n",
       "distance   0.2193242  8.728671    \n",
       "rides     10.7761217 14.169941    \n",
       "games      2.8080846 10.761549    \n",
       "wait      14.4061500 16.744366    \n",
       "clean     11.7359574 14.739824    "
      ]
     },
     "metadata": {},
     "output_type": "display_data"
    }
   ],
   "source": [
    "importance(model)"
   ]
  },
  {
   "cell_type": "code",
   "execution_count": 34,
   "metadata": {},
   "outputs": [
    {
     "data": {
      "image/png": "[encoded data removed]",
      "text/plain": [
       "plot without title"
      ]
     },
     "metadata": {},
     "output_type": "display_data"
    }
   ],
   "source": [
    "varImpPlot(model)"
   ]
  },
  {
   "cell_type": "code",
   "execution_count": null,
   "metadata": {},
   "outputs": [],
   "source": []
  }
 ],
 "metadata": {
  "kernelspec": {
   "display_name": "R",
   "language": "R",
   "name": "ir"
  },
  "language_info": {
   "codemirror_mode": "r",
   "file_extension": ".r",
   "mimetype": "text/x-r-source",
   "name": "R",
   "pygments_lexer": "r",
   "version": "3.6.1"
  }
 },
 "nbformat": 4,
 "nbformat_minor": 2
}
