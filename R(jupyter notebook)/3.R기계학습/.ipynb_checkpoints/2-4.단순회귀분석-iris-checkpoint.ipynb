{
 "cells": [
  {
   "cell_type": "code",
   "execution_count": 13,
   "metadata": {},
   "outputs": [
    {
     "data": {
      "text/html": [
       "<table>\n",
       "<thead><tr><th scope=col>sepal.length..cm.</th><th scope=col>sepal.width..cm.</th><th scope=col>petal.length..cm.</th><th scope=col>petal.width..cm.</th><th scope=col>target</th></tr></thead>\n",
       "<tbody>\n",
       "\t<tr><td>5.1   </td><td>3.5   </td><td>1.4   </td><td>0.2   </td><td>setosa</td></tr>\n",
       "\t<tr><td>4.9   </td><td>3.0   </td><td>1.4   </td><td>0.2   </td><td>setosa</td></tr>\n",
       "\t<tr><td>4.7   </td><td>3.2   </td><td>1.3   </td><td>0.2   </td><td>setosa</td></tr>\n",
       "\t<tr><td>4.6   </td><td>3.1   </td><td>1.5   </td><td>0.2   </td><td>setosa</td></tr>\n",
       "\t<tr><td>5.0   </td><td>3.6   </td><td>1.4   </td><td>0.2   </td><td>setosa</td></tr>\n",
       "\t<tr><td>5.4   </td><td>3.9   </td><td>1.7   </td><td>0.4   </td><td>setosa</td></tr>\n",
       "</tbody>\n",
       "</table>\n"
      ],
      "text/latex": [
       "\\begin{tabular}{r|lllll}\n",
       " sepal.length..cm. & sepal.width..cm. & petal.length..cm. & petal.width..cm. & target\\\\\n",
       "\\hline\n",
       "\t 5.1    & 3.5    & 1.4    & 0.2    & setosa\\\\\n",
       "\t 4.9    & 3.0    & 1.4    & 0.2    & setosa\\\\\n",
       "\t 4.7    & 3.2    & 1.3    & 0.2    & setosa\\\\\n",
       "\t 4.6    & 3.1    & 1.5    & 0.2    & setosa\\\\\n",
       "\t 5.0    & 3.6    & 1.4    & 0.2    & setosa\\\\\n",
       "\t 5.4    & 3.9    & 1.7    & 0.4    & setosa\\\\\n",
       "\\end{tabular}\n"
      ],
      "text/markdown": [
       "\n",
       "| sepal.length..cm. | sepal.width..cm. | petal.length..cm. | petal.width..cm. | target |\n",
       "|---|---|---|---|---|\n",
       "| 5.1    | 3.5    | 1.4    | 0.2    | setosa |\n",
       "| 4.9    | 3.0    | 1.4    | 0.2    | setosa |\n",
       "| 4.7    | 3.2    | 1.3    | 0.2    | setosa |\n",
       "| 4.6    | 3.1    | 1.5    | 0.2    | setosa |\n",
       "| 5.0    | 3.6    | 1.4    | 0.2    | setosa |\n",
       "| 5.4    | 3.9    | 1.7    | 0.4    | setosa |\n",
       "\n"
      ],
      "text/plain": [
       "  sepal.length..cm. sepal.width..cm. petal.length..cm. petal.width..cm. target\n",
       "1 5.1               3.5              1.4               0.2              setosa\n",
       "2 4.9               3.0              1.4               0.2              setosa\n",
       "3 4.7               3.2              1.3               0.2              setosa\n",
       "4 4.6               3.1              1.5               0.2              setosa\n",
       "5 5.0               3.6              1.4               0.2              setosa\n",
       "6 5.4               3.9              1.7               0.4              setosa"
      ]
     },
     "metadata": {},
     "output_type": "display_data"
    },
    {
     "data": {
      "text/html": [
       "<table>\n",
       "<thead><tr><th></th><th scope=col>sepal.length..cm.</th><th scope=col>sepal.width..cm.</th><th scope=col>petal.length..cm.</th><th scope=col>petal.width..cm.</th><th scope=col>target</th></tr></thead>\n",
       "<tbody>\n",
       "\t<tr><th scope=row>145</th><td>6.7      </td><td>3.3      </td><td>5.7      </td><td>2.5      </td><td>virginica</td></tr>\n",
       "\t<tr><th scope=row>146</th><td>6.7      </td><td>3.0      </td><td>5.2      </td><td>2.3      </td><td>virginica</td></tr>\n",
       "\t<tr><th scope=row>147</th><td>6.3      </td><td>2.5      </td><td>5.0      </td><td>1.9      </td><td>virginica</td></tr>\n",
       "\t<tr><th scope=row>148</th><td>6.5      </td><td>3.0      </td><td>5.2      </td><td>2.0      </td><td>virginica</td></tr>\n",
       "\t<tr><th scope=row>149</th><td>6.2      </td><td>3.4      </td><td>5.4      </td><td>2.3      </td><td>virginica</td></tr>\n",
       "\t<tr><th scope=row>150</th><td>5.9      </td><td>3.0      </td><td>5.1      </td><td>1.8      </td><td>virginica</td></tr>\n",
       "</tbody>\n",
       "</table>\n"
      ],
      "text/latex": [
       "\\begin{tabular}{r|lllll}\n",
       "  & sepal.length..cm. & sepal.width..cm. & petal.length..cm. & petal.width..cm. & target\\\\\n",
       "\\hline\n",
       "\t145 & 6.7       & 3.3       & 5.7       & 2.5       & virginica\\\\\n",
       "\t146 & 6.7       & 3.0       & 5.2       & 2.3       & virginica\\\\\n",
       "\t147 & 6.3       & 2.5       & 5.0       & 1.9       & virginica\\\\\n",
       "\t148 & 6.5       & 3.0       & 5.2       & 2.0       & virginica\\\\\n",
       "\t149 & 6.2       & 3.4       & 5.4       & 2.3       & virginica\\\\\n",
       "\t150 & 5.9       & 3.0       & 5.1       & 1.8       & virginica\\\\\n",
       "\\end{tabular}\n"
      ],
      "text/markdown": [
       "\n",
       "| <!--/--> | sepal.length..cm. | sepal.width..cm. | petal.length..cm. | petal.width..cm. | target |\n",
       "|---|---|---|---|---|---|\n",
       "| 145 | 6.7       | 3.3       | 5.7       | 2.5       | virginica |\n",
       "| 146 | 6.7       | 3.0       | 5.2       | 2.3       | virginica |\n",
       "| 147 | 6.3       | 2.5       | 5.0       | 1.9       | virginica |\n",
       "| 148 | 6.5       | 3.0       | 5.2       | 2.0       | virginica |\n",
       "| 149 | 6.2       | 3.4       | 5.4       | 2.3       | virginica |\n",
       "| 150 | 5.9       | 3.0       | 5.1       | 1.8       | virginica |\n",
       "\n"
      ],
      "text/plain": [
       "    sepal.length..cm. sepal.width..cm. petal.length..cm. petal.width..cm.\n",
       "145 6.7               3.3              5.7               2.5             \n",
       "146 6.7               3.0              5.2               2.3             \n",
       "147 6.3               2.5              5.0               1.9             \n",
       "148 6.5               3.0              5.2               2.0             \n",
       "149 6.2               3.4              5.4               2.3             \n",
       "150 5.9               3.0              5.1               1.8             \n",
       "    target   \n",
       "145 virginica\n",
       "146 virginica\n",
       "147 virginica\n",
       "148 virginica\n",
       "149 virginica\n",
       "150 virginica"
      ]
     },
     "metadata": {},
     "output_type": "display_data"
    }
   ],
   "source": [
    "#귀무가설: 꽃받침의 길이와 너비는 상관관계가 없다.\n",
    "#대립가설: 꽃받침의 길이와 너비는 상관관계가 있다.\n",
    "df<-read.csv('d:/data/iris/iris.csv')\n",
    "head(df)\n",
    "tail(df)"
   ]
  },
  {
   "cell_type": "code",
   "execution_count": 9,
   "metadata": {},
   "outputs": [],
   "source": [
    "X<-df[,1] #모든행, 1번필드\n",
    "y<-df[,2] #모든행, 2번필드"
   ]
  },
  {
   "cell_type": "code",
   "execution_count": 10,
   "metadata": {},
   "outputs": [
    {
     "data": {
      "text/html": [
       "-0.117569784133002"
      ],
      "text/latex": [
       "-0.117569784133002"
      ],
      "text/markdown": [
       "-0.117569784133002"
      ],
      "text/plain": [
       "[1] -0.1175698"
      ]
     },
     "metadata": {},
     "output_type": "display_data"
    }
   ],
   "source": [
    "cor(X,y) #약한 음의 상관계수"
   ]
  },
  {
   "cell_type": "code",
   "execution_count": 11,
   "metadata": {},
   "outputs": [
    {
     "data": {
      "text/plain": [
       "\n",
       "Call:\n",
       "lm(formula = y ~ X)\n",
       "\n",
       "Coefficients:\n",
       "(Intercept)            X  \n",
       "    3.41895     -0.06188  \n"
      ]
     },
     "metadata": {},
     "output_type": "display_data"
    }
   ],
   "source": [
    "(model<-lm(y~X)) #회귀분석모형   종속변수~독립변수"
   ]
  },
  {
   "cell_type": "code",
   "execution_count": 12,
   "metadata": {},
   "outputs": [
    {
     "data": {
      "text/plain": [
       "\n",
       "Call:\n",
       "lm(formula = y ~ X)\n",
       "\n",
       "Residuals:\n",
       "    Min      1Q  Median      3Q     Max \n",
       "-1.1095 -0.2454 -0.0167  0.2763  1.3338 \n",
       "\n",
       "Coefficients:\n",
       "            Estimate Std. Error t value Pr(>|t|)    \n",
       "(Intercept)  3.41895    0.25356   13.48   <2e-16 ***\n",
       "X           -0.06188    0.04297   -1.44    0.152    \n",
       "---\n",
       "Signif. codes:  0 '***' 0.001 '**' 0.01 '*' 0.05 '.' 0.1 ' ' 1\n",
       "\n",
       "Residual standard error: 0.4343 on 148 degrees of freedom\n",
       "Multiple R-squared:  0.01382,\tAdjusted R-squared:  0.007159 \n",
       "F-statistic: 2.074 on 1 and 148 DF,  p-value: 0.1519\n"
      ]
     },
     "metadata": {},
     "output_type": "display_data"
    }
   ],
   "source": [
    "summary(model) # 모형요약\n",
    "#p-value: 0.1519 \n",
    "#귀무가설 채택,대립가설 기각\n",
    "#결론: 꽃받침의 길이와 너비는 상관관계가 없다.\n",
    "#R 제곱 0.007159 0.7%의 설명력"
   ]
  },
  {
   "cell_type": "code",
   "execution_count": 7,
   "metadata": {},
   "outputs": [
    {
     "data": {
      "image/png": "[encoded data removed]",
      "text/plain": [
       "plot without title"
      ]
     },
     "metadata": {},
     "output_type": "display_data"
    }
   ],
   "source": [
    "plot(X,y,xlab='꽃받침의 너비',ylab='꽃받침의 길이')\n",
    "abline(model,col='red') #회귀선"
   ]
  },
  {
   "cell_type": "code",
   "execution_count": 16,
   "metadata": {},
   "outputs": [],
   "source": [
    "#귀무가설: 꽃잎의 길이와 너비는 상관관계가 없다.\n",
    "#대립가설: 꽃잎의 길이와 너비는 상관관계가 있다.\n",
    "X<-df[,3]\n",
    "y<-df[,4]"
   ]
  },
  {
   "cell_type": "code",
   "execution_count": 17,
   "metadata": {},
   "outputs": [
    {
     "data": {
      "text/html": [
       "0.962865431402796"
      ],
      "text/latex": [
       "0.962865431402796"
      ],
      "text/markdown": [
       "0.962865431402796"
      ],
      "text/plain": [
       "[1] 0.9628654"
      ]
     },
     "metadata": {},
     "output_type": "display_data"
    }
   ],
   "source": [
    "cor(X,y) # 0.96 강한 양의 상관관계"
   ]
  },
  {
   "cell_type": "code",
   "execution_count": 18,
   "metadata": {},
   "outputs": [
    {
     "data": {
      "text/plain": [
       "\n",
       "Call:\n",
       "lm(formula = y ~ X)\n",
       "\n",
       "Coefficients:\n",
       "(Intercept)            X  \n",
       "    -0.3631       0.4158  \n"
      ]
     },
     "metadata": {},
     "output_type": "display_data"
    }
   ],
   "source": [
    "(model<-lm(y~X)) #회귀분석모형 종속변수~ 독립변수"
   ]
  },
  {
   "cell_type": "code",
   "execution_count": 19,
   "metadata": {},
   "outputs": [
    {
     "data": {
      "text/plain": [
       "\n",
       "Call:\n",
       "lm(formula = y ~ X)\n",
       "\n",
       "Residuals:\n",
       "     Min       1Q   Median       3Q      Max \n",
       "-0.56515 -0.12358 -0.01898  0.13288  0.64272 \n",
       "\n",
       "Coefficients:\n",
       "             Estimate Std. Error t value Pr(>|t|)    \n",
       "(Intercept) -0.363076   0.039762  -9.131  4.7e-16 ***\n",
       "X            0.415755   0.009582  43.387  < 2e-16 ***\n",
       "---\n",
       "Signif. codes:  0 '***' 0.001 '**' 0.01 '*' 0.05 '.' 0.1 ' ' 1\n",
       "\n",
       "Residual standard error: 0.2065 on 148 degrees of freedom\n",
       "Multiple R-squared:  0.9271,\tAdjusted R-squared:  0.9266 \n",
       "F-statistic:  1882 on 1 and 148 DF,  p-value: < 2.2e-16\n"
      ]
     },
     "metadata": {},
     "output_type": "display_data"
    }
   ],
   "source": [
    "summary(model) #모형 요약\n",
    "#p-value: < 2.2e-16\n",
    "#95%+99% 신뢰수준하에서 유의\n",
    "#결론 :  꽃잎의 길이와 너비는 상관관계가 있다.\n",
    "#R 제곱: 0.9266 92.6%의 설명력"
   ]
  },
  {
   "cell_type": "code",
   "execution_count": 20,
   "metadata": {},
   "outputs": [
    {
     "data": {
      "image/png": "[encoded data removed]",
      "text/plain": [
       "plot without title"
      ]
     },
     "metadata": {},
     "output_type": "display_data"
    }
   ],
   "source": [
    "plot(X,y,xlab='꽃받침의 길이',ylab='꽃받침의 너비')\n",
    "abline(model,col='red') #회귀선"
   ]
  },
  {
   "cell_type": "code",
   "execution_count": null,
   "metadata": {},
   "outputs": [],
   "source": []
  }
 ],
 "metadata": {
  "kernelspec": {
   "display_name": "R",
   "language": "R",
   "name": "ir"
  },
  "language_info": {
   "codemirror_mode": "r",
   "file_extension": ".r",
   "mimetype": "text/x-r-source",
   "name": "R",
   "pygments_lexer": "r",
   "version": "3.6.1"
  }
 },
 "nbformat": 4,
 "nbformat_minor": 2
}
