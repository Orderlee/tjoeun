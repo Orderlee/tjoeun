{
 "cells": [
  {
   "cell_type": "code",
   "execution_count": 38,
   "metadata": {},
   "outputs": [
    {
     "data": {
      "text/html": [
       "<table>\n",
       "<thead><tr><th scope=col>Ozone</th><th scope=col>Solar.R</th><th scope=col>Wind</th><th scope=col>Temp</th><th scope=col>Month</th><th scope=col>Day</th><th scope=col>Ozone2</th><th scope=col>Result</th></tr></thead>\n",
       "<tbody>\n",
       "\t<tr><td> 41      </td><td>190      </td><td> 7.4     </td><td>67       </td><td>5        </td><td> 1       </td><td> 41.00000</td><td>0        </td></tr>\n",
       "\t<tr><td> 36      </td><td>118      </td><td> 8.0     </td><td>72       </td><td>5        </td><td> 2       </td><td> 36.00000</td><td>0        </td></tr>\n",
       "\t<tr><td> 12      </td><td>149      </td><td>12.6     </td><td>74       </td><td>5        </td><td> 3       </td><td> 12.00000</td><td>0        </td></tr>\n",
       "\t<tr><td> 18      </td><td>313      </td><td>11.5     </td><td>62       </td><td>5        </td><td> 4       </td><td> 18.00000</td><td>0        </td></tr>\n",
       "\t<tr><td> NA      </td><td> NA      </td><td>14.3     </td><td>56       </td><td>5        </td><td> 5       </td><td> 42.12931</td><td>0        </td></tr>\n",
       "\t<tr><td> 28      </td><td> NA      </td><td>14.9     </td><td>66       </td><td>5        </td><td> 6       </td><td> 28.00000</td><td>0        </td></tr>\n",
       "\t<tr><td> 23      </td><td>299      </td><td> 8.6     </td><td>65       </td><td>5        </td><td> 7       </td><td> 23.00000</td><td>0        </td></tr>\n",
       "\t<tr><td> 19      </td><td> 99      </td><td>13.8     </td><td>59       </td><td>5        </td><td> 8       </td><td> 19.00000</td><td>0        </td></tr>\n",
       "\t<tr><td>  8      </td><td> 19      </td><td>20.1     </td><td>61       </td><td>5        </td><td> 9       </td><td>  8.00000</td><td>0        </td></tr>\n",
       "\t<tr><td> NA      </td><td>194      </td><td> 8.6     </td><td>69       </td><td>5        </td><td>10       </td><td> 42.12931</td><td>0        </td></tr>\n",
       "\t<tr><td>  7      </td><td> NA      </td><td> 6.9     </td><td>74       </td><td>5        </td><td>11       </td><td>  7.00000</td><td>0        </td></tr>\n",
       "\t<tr><td> 16      </td><td>256      </td><td> 9.7     </td><td>69       </td><td>5        </td><td>12       </td><td> 16.00000</td><td>0        </td></tr>\n",
       "\t<tr><td> 11      </td><td>290      </td><td> 9.2     </td><td>66       </td><td>5        </td><td>13       </td><td> 11.00000</td><td>0        </td></tr>\n",
       "\t<tr><td> 14      </td><td>274      </td><td>10.9     </td><td>68       </td><td>5        </td><td>14       </td><td> 14.00000</td><td>0        </td></tr>\n",
       "\t<tr><td> 18      </td><td> 65      </td><td>13.2     </td><td>58       </td><td>5        </td><td>15       </td><td> 18.00000</td><td>0        </td></tr>\n",
       "\t<tr><td> 14      </td><td>334      </td><td>11.5     </td><td>64       </td><td>5        </td><td>16       </td><td> 14.00000</td><td>0        </td></tr>\n",
       "\t<tr><td> 34      </td><td>307      </td><td>12.0     </td><td>66       </td><td>5        </td><td>17       </td><td> 34.00000</td><td>0        </td></tr>\n",
       "\t<tr><td>  6      </td><td> 78      </td><td>18.4     </td><td>57       </td><td>5        </td><td>18       </td><td>  6.00000</td><td>0        </td></tr>\n",
       "\t<tr><td> 30      </td><td>322      </td><td>11.5     </td><td>68       </td><td>5        </td><td>19       </td><td> 30.00000</td><td>0        </td></tr>\n",
       "\t<tr><td> 11      </td><td> 44      </td><td> 9.7     </td><td>62       </td><td>5        </td><td>20       </td><td> 11.00000</td><td>0        </td></tr>\n",
       "\t<tr><td>  1      </td><td>  8      </td><td> 9.7     </td><td>59       </td><td>5        </td><td>21       </td><td>  1.00000</td><td>0        </td></tr>\n",
       "\t<tr><td> 11      </td><td>320      </td><td>16.6     </td><td>73       </td><td>5        </td><td>22       </td><td> 11.00000</td><td>0        </td></tr>\n",
       "\t<tr><td>  4      </td><td> 25      </td><td> 9.7     </td><td>61       </td><td>5        </td><td>23       </td><td>  4.00000</td><td>0        </td></tr>\n",
       "\t<tr><td> 32      </td><td> 92      </td><td>12.0     </td><td>61       </td><td>5        </td><td>24       </td><td> 32.00000</td><td>0        </td></tr>\n",
       "\t<tr><td> NA      </td><td> 66      </td><td>16.6     </td><td>57       </td><td>5        </td><td>25       </td><td> 42.12931</td><td>0        </td></tr>\n",
       "\t<tr><td> NA      </td><td>266      </td><td>14.9     </td><td>58       </td><td>5        </td><td>26       </td><td> 42.12931</td><td>0        </td></tr>\n",
       "\t<tr><td> NA      </td><td> NA      </td><td> 8.0     </td><td>57       </td><td>5        </td><td>27       </td><td> 42.12931</td><td>0        </td></tr>\n",
       "\t<tr><td> 23      </td><td> 13      </td><td>12.0     </td><td>67       </td><td>5        </td><td>28       </td><td> 23.00000</td><td>0        </td></tr>\n",
       "\t<tr><td> 45      </td><td>252      </td><td>14.9     </td><td>81       </td><td>5        </td><td>29       </td><td> 45.00000</td><td>1        </td></tr>\n",
       "\t<tr><td>115      </td><td>223      </td><td> 5.7     </td><td>79       </td><td>5        </td><td>30       </td><td>115.00000</td><td>1        </td></tr>\n",
       "\t<tr><td>...</td><td>...</td><td>...</td><td>...</td><td>...</td><td>...</td><td>...</td><td>...</td></tr>\n",
       "\t<tr><td>96      </td><td>167     </td><td> 6.9    </td><td>91      </td><td>9       </td><td> 1      </td><td>96.00000</td><td>1       </td></tr>\n",
       "\t<tr><td>78      </td><td>197     </td><td> 5.1    </td><td>92      </td><td>9       </td><td> 2      </td><td>78.00000</td><td>1       </td></tr>\n",
       "\t<tr><td>73      </td><td>183     </td><td> 2.8    </td><td>93      </td><td>9       </td><td> 3      </td><td>73.00000</td><td>1       </td></tr>\n",
       "\t<tr><td>91      </td><td>189     </td><td> 4.6    </td><td>93      </td><td>9       </td><td> 4      </td><td>91.00000</td><td>1       </td></tr>\n",
       "\t<tr><td>47      </td><td> 95     </td><td> 7.4    </td><td>87      </td><td>9       </td><td> 5      </td><td>47.00000</td><td>1       </td></tr>\n",
       "\t<tr><td>32      </td><td> 92     </td><td>15.5    </td><td>84      </td><td>9       </td><td> 6      </td><td>32.00000</td><td>0       </td></tr>\n",
       "\t<tr><td>20      </td><td>252     </td><td>10.9    </td><td>80      </td><td>9       </td><td> 7      </td><td>20.00000</td><td>0       </td></tr>\n",
       "\t<tr><td>23      </td><td>220     </td><td>10.3    </td><td>78      </td><td>9       </td><td> 8      </td><td>23.00000</td><td>0       </td></tr>\n",
       "\t<tr><td>21      </td><td>230     </td><td>10.9    </td><td>75      </td><td>9       </td><td> 9      </td><td>21.00000</td><td>0       </td></tr>\n",
       "\t<tr><td>24      </td><td>259     </td><td> 9.7    </td><td>73      </td><td>9       </td><td>10      </td><td>24.00000</td><td>0       </td></tr>\n",
       "\t<tr><td>44      </td><td>236     </td><td>14.9    </td><td>81      </td><td>9       </td><td>11      </td><td>44.00000</td><td>1       </td></tr>\n",
       "\t<tr><td>21      </td><td>259     </td><td>15.5    </td><td>76      </td><td>9       </td><td>12      </td><td>21.00000</td><td>0       </td></tr>\n",
       "\t<tr><td>28      </td><td>238     </td><td> 6.3    </td><td>77      </td><td>9       </td><td>13      </td><td>28.00000</td><td>0       </td></tr>\n",
       "\t<tr><td> 9      </td><td> 24     </td><td>10.9    </td><td>71      </td><td>9       </td><td>14      </td><td> 9.00000</td><td>0       </td></tr>\n",
       "\t<tr><td>13      </td><td>112     </td><td>11.5    </td><td>71      </td><td>9       </td><td>15      </td><td>13.00000</td><td>0       </td></tr>\n",
       "\t<tr><td>46      </td><td>237     </td><td> 6.9    </td><td>78      </td><td>9       </td><td>16      </td><td>46.00000</td><td>1       </td></tr>\n",
       "\t<tr><td>18      </td><td>224     </td><td>13.8    </td><td>67      </td><td>9       </td><td>17      </td><td>18.00000</td><td>0       </td></tr>\n",
       "\t<tr><td>13      </td><td> 27     </td><td>10.3    </td><td>76      </td><td>9       </td><td>18      </td><td>13.00000</td><td>0       </td></tr>\n",
       "\t<tr><td>24      </td><td>238     </td><td>10.3    </td><td>68      </td><td>9       </td><td>19      </td><td>24.00000</td><td>0       </td></tr>\n",
       "\t<tr><td>16      </td><td>201     </td><td> 8.0    </td><td>82      </td><td>9       </td><td>20      </td><td>16.00000</td><td>0       </td></tr>\n",
       "\t<tr><td>13      </td><td>238     </td><td>12.6    </td><td>64      </td><td>9       </td><td>21      </td><td>13.00000</td><td>0       </td></tr>\n",
       "\t<tr><td>23      </td><td> 14     </td><td> 9.2    </td><td>71      </td><td>9       </td><td>22      </td><td>23.00000</td><td>0       </td></tr>\n",
       "\t<tr><td>36      </td><td>139     </td><td>10.3    </td><td>81      </td><td>9       </td><td>23      </td><td>36.00000</td><td>0       </td></tr>\n",
       "\t<tr><td> 7      </td><td> 49     </td><td>10.3    </td><td>69      </td><td>9       </td><td>24      </td><td> 7.00000</td><td>0       </td></tr>\n",
       "\t<tr><td>14      </td><td> 20     </td><td>16.6    </td><td>63      </td><td>9       </td><td>25      </td><td>14.00000</td><td>0       </td></tr>\n",
       "\t<tr><td>30      </td><td>193     </td><td> 6.9    </td><td>70      </td><td>9       </td><td>26      </td><td>30.00000</td><td>0       </td></tr>\n",
       "\t<tr><td>NA      </td><td>145     </td><td>13.2    </td><td>77      </td><td>9       </td><td>27      </td><td>42.12931</td><td>0       </td></tr>\n",
       "\t<tr><td>14      </td><td>191     </td><td>14.3    </td><td>75      </td><td>9       </td><td>28      </td><td>14.00000</td><td>0       </td></tr>\n",
       "\t<tr><td>18      </td><td>131     </td><td> 8.0    </td><td>76      </td><td>9       </td><td>29      </td><td>18.00000</td><td>0       </td></tr>\n",
       "\t<tr><td>20      </td><td>223     </td><td>11.5    </td><td>68      </td><td>9       </td><td>30      </td><td>20.00000</td><td>0       </td></tr>\n",
       "</tbody>\n",
       "</table>\n"
      ],
      "text/latex": [
       "\\begin{tabular}{r|llllllll}\n",
       " Ozone & Solar.R & Wind & Temp & Month & Day & Ozone2 & Result\\\\\n",
       "\\hline\n",
       "\t  41       & 190       &  7.4      & 67        & 5         &  1        &  41.00000 & 0        \\\\\n",
       "\t  36       & 118       &  8.0      & 72        & 5         &  2        &  36.00000 & 0        \\\\\n",
       "\t  12       & 149       & 12.6      & 74        & 5         &  3        &  12.00000 & 0        \\\\\n",
       "\t  18       & 313       & 11.5      & 62        & 5         &  4        &  18.00000 & 0        \\\\\n",
       "\t  NA       &  NA       & 14.3      & 56        & 5         &  5        &  42.12931 & 0        \\\\\n",
       "\t  28       &  NA       & 14.9      & 66        & 5         &  6        &  28.00000 & 0        \\\\\n",
       "\t  23       & 299       &  8.6      & 65        & 5         &  7        &  23.00000 & 0        \\\\\n",
       "\t  19       &  99       & 13.8      & 59        & 5         &  8        &  19.00000 & 0        \\\\\n",
       "\t   8       &  19       & 20.1      & 61        & 5         &  9        &   8.00000 & 0        \\\\\n",
       "\t  NA       & 194       &  8.6      & 69        & 5         & 10        &  42.12931 & 0        \\\\\n",
       "\t   7       &  NA       &  6.9      & 74        & 5         & 11        &   7.00000 & 0        \\\\\n",
       "\t  16       & 256       &  9.7      & 69        & 5         & 12        &  16.00000 & 0        \\\\\n",
       "\t  11       & 290       &  9.2      & 66        & 5         & 13        &  11.00000 & 0        \\\\\n",
       "\t  14       & 274       & 10.9      & 68        & 5         & 14        &  14.00000 & 0        \\\\\n",
       "\t  18       &  65       & 13.2      & 58        & 5         & 15        &  18.00000 & 0        \\\\\n",
       "\t  14       & 334       & 11.5      & 64        & 5         & 16        &  14.00000 & 0        \\\\\n",
       "\t  34       & 307       & 12.0      & 66        & 5         & 17        &  34.00000 & 0        \\\\\n",
       "\t   6       &  78       & 18.4      & 57        & 5         & 18        &   6.00000 & 0        \\\\\n",
       "\t  30       & 322       & 11.5      & 68        & 5         & 19        &  30.00000 & 0        \\\\\n",
       "\t  11       &  44       &  9.7      & 62        & 5         & 20        &  11.00000 & 0        \\\\\n",
       "\t   1       &   8       &  9.7      & 59        & 5         & 21        &   1.00000 & 0        \\\\\n",
       "\t  11       & 320       & 16.6      & 73        & 5         & 22        &  11.00000 & 0        \\\\\n",
       "\t   4       &  25       &  9.7      & 61        & 5         & 23        &   4.00000 & 0        \\\\\n",
       "\t  32       &  92       & 12.0      & 61        & 5         & 24        &  32.00000 & 0        \\\\\n",
       "\t  NA       &  66       & 16.6      & 57        & 5         & 25        &  42.12931 & 0        \\\\\n",
       "\t  NA       & 266       & 14.9      & 58        & 5         & 26        &  42.12931 & 0        \\\\\n",
       "\t  NA       &  NA       &  8.0      & 57        & 5         & 27        &  42.12931 & 0        \\\\\n",
       "\t  23       &  13       & 12.0      & 67        & 5         & 28        &  23.00000 & 0        \\\\\n",
       "\t  45       & 252       & 14.9      & 81        & 5         & 29        &  45.00000 & 1        \\\\\n",
       "\t 115       & 223       &  5.7      & 79        & 5         & 30        & 115.00000 & 1        \\\\\n",
       "\t ... & ... & ... & ... & ... & ... & ... & ...\\\\\n",
       "\t 96       & 167      &  6.9     & 91       & 9        &  1       & 96.00000 & 1       \\\\\n",
       "\t 78       & 197      &  5.1     & 92       & 9        &  2       & 78.00000 & 1       \\\\\n",
       "\t 73       & 183      &  2.8     & 93       & 9        &  3       & 73.00000 & 1       \\\\\n",
       "\t 91       & 189      &  4.6     & 93       & 9        &  4       & 91.00000 & 1       \\\\\n",
       "\t 47       &  95      &  7.4     & 87       & 9        &  5       & 47.00000 & 1       \\\\\n",
       "\t 32       &  92      & 15.5     & 84       & 9        &  6       & 32.00000 & 0       \\\\\n",
       "\t 20       & 252      & 10.9     & 80       & 9        &  7       & 20.00000 & 0       \\\\\n",
       "\t 23       & 220      & 10.3     & 78       & 9        &  8       & 23.00000 & 0       \\\\\n",
       "\t 21       & 230      & 10.9     & 75       & 9        &  9       & 21.00000 & 0       \\\\\n",
       "\t 24       & 259      &  9.7     & 73       & 9        & 10       & 24.00000 & 0       \\\\\n",
       "\t 44       & 236      & 14.9     & 81       & 9        & 11       & 44.00000 & 1       \\\\\n",
       "\t 21       & 259      & 15.5     & 76       & 9        & 12       & 21.00000 & 0       \\\\\n",
       "\t 28       & 238      &  6.3     & 77       & 9        & 13       & 28.00000 & 0       \\\\\n",
       "\t  9       &  24      & 10.9     & 71       & 9        & 14       &  9.00000 & 0       \\\\\n",
       "\t 13       & 112      & 11.5     & 71       & 9        & 15       & 13.00000 & 0       \\\\\n",
       "\t 46       & 237      &  6.9     & 78       & 9        & 16       & 46.00000 & 1       \\\\\n",
       "\t 18       & 224      & 13.8     & 67       & 9        & 17       & 18.00000 & 0       \\\\\n",
       "\t 13       &  27      & 10.3     & 76       & 9        & 18       & 13.00000 & 0       \\\\\n",
       "\t 24       & 238      & 10.3     & 68       & 9        & 19       & 24.00000 & 0       \\\\\n",
       "\t 16       & 201      &  8.0     & 82       & 9        & 20       & 16.00000 & 0       \\\\\n",
       "\t 13       & 238      & 12.6     & 64       & 9        & 21       & 13.00000 & 0       \\\\\n",
       "\t 23       &  14      &  9.2     & 71       & 9        & 22       & 23.00000 & 0       \\\\\n",
       "\t 36       & 139      & 10.3     & 81       & 9        & 23       & 36.00000 & 0       \\\\\n",
       "\t  7       &  49      & 10.3     & 69       & 9        & 24       &  7.00000 & 0       \\\\\n",
       "\t 14       &  20      & 16.6     & 63       & 9        & 25       & 14.00000 & 0       \\\\\n",
       "\t 30       & 193      &  6.9     & 70       & 9        & 26       & 30.00000 & 0       \\\\\n",
       "\t NA       & 145      & 13.2     & 77       & 9        & 27       & 42.12931 & 0       \\\\\n",
       "\t 14       & 191      & 14.3     & 75       & 9        & 28       & 14.00000 & 0       \\\\\n",
       "\t 18       & 131      &  8.0     & 76       & 9        & 29       & 18.00000 & 0       \\\\\n",
       "\t 20       & 223      & 11.5     & 68       & 9        & 30       & 20.00000 & 0       \\\\\n",
       "\\end{tabular}\n"
      ],
      "text/markdown": [
       "\n",
       "| Ozone | Solar.R | Wind | Temp | Month | Day | Ozone2 | Result |\n",
       "|---|---|---|---|---|---|---|---|\n",
       "|  41       | 190       |  7.4      | 67        | 5         |  1        |  41.00000 | 0         |\n",
       "|  36       | 118       |  8.0      | 72        | 5         |  2        |  36.00000 | 0         |\n",
       "|  12       | 149       | 12.6      | 74        | 5         |  3        |  12.00000 | 0         |\n",
       "|  18       | 313       | 11.5      | 62        | 5         |  4        |  18.00000 | 0         |\n",
       "|  NA       |  NA       | 14.3      | 56        | 5         |  5        |  42.12931 | 0         |\n",
       "|  28       |  NA       | 14.9      | 66        | 5         |  6        |  28.00000 | 0         |\n",
       "|  23       | 299       |  8.6      | 65        | 5         |  7        |  23.00000 | 0         |\n",
       "|  19       |  99       | 13.8      | 59        | 5         |  8        |  19.00000 | 0         |\n",
       "|   8       |  19       | 20.1      | 61        | 5         |  9        |   8.00000 | 0         |\n",
       "|  NA       | 194       |  8.6      | 69        | 5         | 10        |  42.12931 | 0         |\n",
       "|   7       |  NA       |  6.9      | 74        | 5         | 11        |   7.00000 | 0         |\n",
       "|  16       | 256       |  9.7      | 69        | 5         | 12        |  16.00000 | 0         |\n",
       "|  11       | 290       |  9.2      | 66        | 5         | 13        |  11.00000 | 0         |\n",
       "|  14       | 274       | 10.9      | 68        | 5         | 14        |  14.00000 | 0         |\n",
       "|  18       |  65       | 13.2      | 58        | 5         | 15        |  18.00000 | 0         |\n",
       "|  14       | 334       | 11.5      | 64        | 5         | 16        |  14.00000 | 0         |\n",
       "|  34       | 307       | 12.0      | 66        | 5         | 17        |  34.00000 | 0         |\n",
       "|   6       |  78       | 18.4      | 57        | 5         | 18        |   6.00000 | 0         |\n",
       "|  30       | 322       | 11.5      | 68        | 5         | 19        |  30.00000 | 0         |\n",
       "|  11       |  44       |  9.7      | 62        | 5         | 20        |  11.00000 | 0         |\n",
       "|   1       |   8       |  9.7      | 59        | 5         | 21        |   1.00000 | 0         |\n",
       "|  11       | 320       | 16.6      | 73        | 5         | 22        |  11.00000 | 0         |\n",
       "|   4       |  25       |  9.7      | 61        | 5         | 23        |   4.00000 | 0         |\n",
       "|  32       |  92       | 12.0      | 61        | 5         | 24        |  32.00000 | 0         |\n",
       "|  NA       |  66       | 16.6      | 57        | 5         | 25        |  42.12931 | 0         |\n",
       "|  NA       | 266       | 14.9      | 58        | 5         | 26        |  42.12931 | 0         |\n",
       "|  NA       |  NA       |  8.0      | 57        | 5         | 27        |  42.12931 | 0         |\n",
       "|  23       |  13       | 12.0      | 67        | 5         | 28        |  23.00000 | 0         |\n",
       "|  45       | 252       | 14.9      | 81        | 5         | 29        |  45.00000 | 1         |\n",
       "| 115       | 223       |  5.7      | 79        | 5         | 30        | 115.00000 | 1         |\n",
       "| ... | ... | ... | ... | ... | ... | ... | ... |\n",
       "| 96       | 167      |  6.9     | 91       | 9        |  1       | 96.00000 | 1        |\n",
       "| 78       | 197      |  5.1     | 92       | 9        |  2       | 78.00000 | 1        |\n",
       "| 73       | 183      |  2.8     | 93       | 9        |  3       | 73.00000 | 1        |\n",
       "| 91       | 189      |  4.6     | 93       | 9        |  4       | 91.00000 | 1        |\n",
       "| 47       |  95      |  7.4     | 87       | 9        |  5       | 47.00000 | 1        |\n",
       "| 32       |  92      | 15.5     | 84       | 9        |  6       | 32.00000 | 0        |\n",
       "| 20       | 252      | 10.9     | 80       | 9        |  7       | 20.00000 | 0        |\n",
       "| 23       | 220      | 10.3     | 78       | 9        |  8       | 23.00000 | 0        |\n",
       "| 21       | 230      | 10.9     | 75       | 9        |  9       | 21.00000 | 0        |\n",
       "| 24       | 259      |  9.7     | 73       | 9        | 10       | 24.00000 | 0        |\n",
       "| 44       | 236      | 14.9     | 81       | 9        | 11       | 44.00000 | 1        |\n",
       "| 21       | 259      | 15.5     | 76       | 9        | 12       | 21.00000 | 0        |\n",
       "| 28       | 238      |  6.3     | 77       | 9        | 13       | 28.00000 | 0        |\n",
       "|  9       |  24      | 10.9     | 71       | 9        | 14       |  9.00000 | 0        |\n",
       "| 13       | 112      | 11.5     | 71       | 9        | 15       | 13.00000 | 0        |\n",
       "| 46       | 237      |  6.9     | 78       | 9        | 16       | 46.00000 | 1        |\n",
       "| 18       | 224      | 13.8     | 67       | 9        | 17       | 18.00000 | 0        |\n",
       "| 13       |  27      | 10.3     | 76       | 9        | 18       | 13.00000 | 0        |\n",
       "| 24       | 238      | 10.3     | 68       | 9        | 19       | 24.00000 | 0        |\n",
       "| 16       | 201      |  8.0     | 82       | 9        | 20       | 16.00000 | 0        |\n",
       "| 13       | 238      | 12.6     | 64       | 9        | 21       | 13.00000 | 0        |\n",
       "| 23       |  14      |  9.2     | 71       | 9        | 22       | 23.00000 | 0        |\n",
       "| 36       | 139      | 10.3     | 81       | 9        | 23       | 36.00000 | 0        |\n",
       "|  7       |  49      | 10.3     | 69       | 9        | 24       |  7.00000 | 0        |\n",
       "| 14       |  20      | 16.6     | 63       | 9        | 25       | 14.00000 | 0        |\n",
       "| 30       | 193      |  6.9     | 70       | 9        | 26       | 30.00000 | 0        |\n",
       "| NA       | 145      | 13.2     | 77       | 9        | 27       | 42.12931 | 0        |\n",
       "| 14       | 191      | 14.3     | 75       | 9        | 28       | 14.00000 | 0        |\n",
       "| 18       | 131      |  8.0     | 76       | 9        | 29       | 18.00000 | 0        |\n",
       "| 20       | 223      | 11.5     | 68       | 9        | 30       | 20.00000 | 0        |\n",
       "\n"
      ],
      "text/plain": [
       "    Ozone Solar.R Wind Temp Month Day Ozone2    Result\n",
       "1    41   190      7.4 67   5      1   41.00000 0     \n",
       "2    36   118      8.0 72   5      2   36.00000 0     \n",
       "3    12   149     12.6 74   5      3   12.00000 0     \n",
       "4    18   313     11.5 62   5      4   18.00000 0     \n",
       "5    NA    NA     14.3 56   5      5   42.12931 0     \n",
       "6    28    NA     14.9 66   5      6   28.00000 0     \n",
       "7    23   299      8.6 65   5      7   23.00000 0     \n",
       "8    19    99     13.8 59   5      8   19.00000 0     \n",
       "9     8    19     20.1 61   5      9    8.00000 0     \n",
       "10   NA   194      8.6 69   5     10   42.12931 0     \n",
       "11    7    NA      6.9 74   5     11    7.00000 0     \n",
       "12   16   256      9.7 69   5     12   16.00000 0     \n",
       "13   11   290      9.2 66   5     13   11.00000 0     \n",
       "14   14   274     10.9 68   5     14   14.00000 0     \n",
       "15   18    65     13.2 58   5     15   18.00000 0     \n",
       "16   14   334     11.5 64   5     16   14.00000 0     \n",
       "17   34   307     12.0 66   5     17   34.00000 0     \n",
       "18    6    78     18.4 57   5     18    6.00000 0     \n",
       "19   30   322     11.5 68   5     19   30.00000 0     \n",
       "20   11    44      9.7 62   5     20   11.00000 0     \n",
       "21    1     8      9.7 59   5     21    1.00000 0     \n",
       "22   11   320     16.6 73   5     22   11.00000 0     \n",
       "23    4    25      9.7 61   5     23    4.00000 0     \n",
       "24   32    92     12.0 61   5     24   32.00000 0     \n",
       "25   NA    66     16.6 57   5     25   42.12931 0     \n",
       "26   NA   266     14.9 58   5     26   42.12931 0     \n",
       "27   NA    NA      8.0 57   5     27   42.12931 0     \n",
       "28   23    13     12.0 67   5     28   23.00000 0     \n",
       "29   45   252     14.9 81   5     29   45.00000 1     \n",
       "30  115   223      5.7 79   5     30  115.00000 1     \n",
       "... ...   ...     ...  ...  ...   ... ...       ...   \n",
       "124 96    167      6.9 91   9      1  96.00000  1     \n",
       "125 78    197      5.1 92   9      2  78.00000  1     \n",
       "126 73    183      2.8 93   9      3  73.00000  1     \n",
       "127 91    189      4.6 93   9      4  91.00000  1     \n",
       "128 47     95      7.4 87   9      5  47.00000  1     \n",
       "129 32     92     15.5 84   9      6  32.00000  0     \n",
       "130 20    252     10.9 80   9      7  20.00000  0     \n",
       "131 23    220     10.3 78   9      8  23.00000  0     \n",
       "132 21    230     10.9 75   9      9  21.00000  0     \n",
       "133 24    259      9.7 73   9     10  24.00000  0     \n",
       "134 44    236     14.9 81   9     11  44.00000  1     \n",
       "135 21    259     15.5 76   9     12  21.00000  0     \n",
       "136 28    238      6.3 77   9     13  28.00000  0     \n",
       "137  9     24     10.9 71   9     14   9.00000  0     \n",
       "138 13    112     11.5 71   9     15  13.00000  0     \n",
       "139 46    237      6.9 78   9     16  46.00000  1     \n",
       "140 18    224     13.8 67   9     17  18.00000  0     \n",
       "141 13     27     10.3 76   9     18  13.00000  0     \n",
       "142 24    238     10.3 68   9     19  24.00000  0     \n",
       "143 16    201      8.0 82   9     20  16.00000  0     \n",
       "144 13    238     12.6 64   9     21  13.00000  0     \n",
       "145 23     14      9.2 71   9     22  23.00000  0     \n",
       "146 36    139     10.3 81   9     23  36.00000  0     \n",
       "147  7     49     10.3 69   9     24   7.00000  0     \n",
       "148 14     20     16.6 63   9     25  14.00000  0     \n",
       "149 30    193      6.9 70   9     26  30.00000  0     \n",
       "150 NA    145     13.2 77   9     27  42.12931  0     \n",
       "151 14    191     14.3 75   9     28  14.00000  0     \n",
       "152 18    131      8.0 76   9     29  18.00000  0     \n",
       "153 20    223     11.5 68   9     30  20.00000  0     "
      ]
     },
     "metadata": {},
     "output_type": "display_data"
    }
   ],
   "source": [
    "df<-read.csv('d:/data/ozone/ozone3.csv')\n",
    "df"
   ]
  },
  {
   "cell_type": "code",
   "execution_count": 39,
   "metadata": {},
   "outputs": [
    {
     "data": {
      "text/html": [
       "<table>\n",
       "<thead><tr><th scope=col>Solar.R</th><th scope=col>Wind</th><th scope=col>Temp</th><th scope=col>Result</th></tr></thead>\n",
       "<tbody>\n",
       "\t<tr><td>190 </td><td> 7.4</td><td>67  </td><td>0   </td></tr>\n",
       "\t<tr><td>118 </td><td> 8.0</td><td>72  </td><td>0   </td></tr>\n",
       "\t<tr><td>149 </td><td>12.6</td><td>74  </td><td>0   </td></tr>\n",
       "\t<tr><td>313 </td><td>11.5</td><td>62  </td><td>0   </td></tr>\n",
       "\t<tr><td> NA </td><td>14.3</td><td>56  </td><td>0   </td></tr>\n",
       "\t<tr><td> NA </td><td>14.9</td><td>66  </td><td>0   </td></tr>\n",
       "</tbody>\n",
       "</table>\n"
      ],
      "text/latex": [
       "\\begin{tabular}{r|llll}\n",
       " Solar.R & Wind & Temp & Result\\\\\n",
       "\\hline\n",
       "\t 190  &  7.4 & 67   & 0   \\\\\n",
       "\t 118  &  8.0 & 72   & 0   \\\\\n",
       "\t 149  & 12.6 & 74   & 0   \\\\\n",
       "\t 313  & 11.5 & 62   & 0   \\\\\n",
       "\t  NA  & 14.3 & 56   & 0   \\\\\n",
       "\t  NA  & 14.9 & 66   & 0   \\\\\n",
       "\\end{tabular}\n"
      ],
      "text/markdown": [
       "\n",
       "| Solar.R | Wind | Temp | Result |\n",
       "|---|---|---|---|\n",
       "| 190  |  7.4 | 67   | 0    |\n",
       "| 118  |  8.0 | 72   | 0    |\n",
       "| 149  | 12.6 | 74   | 0    |\n",
       "| 313  | 11.5 | 62   | 0    |\n",
       "|  NA  | 14.3 | 56   | 0    |\n",
       "|  NA  | 14.9 | 66   | 0    |\n",
       "\n"
      ],
      "text/plain": [
       "  Solar.R Wind Temp Result\n",
       "1 190      7.4 67   0     \n",
       "2 118      8.0 72   0     \n",
       "3 149     12.6 74   0     \n",
       "4 313     11.5 62   0     \n",
       "5  NA     14.3 56   0     \n",
       "6  NA     14.9 66   0     "
      ]
     },
     "metadata": {},
     "output_type": "display_data"
    }
   ],
   "source": [
    "library(dplyr)\n",
    "df<-df %>% select(-Ozone,-Ozone2,-Day,-Month)\n",
    "head(df)"
   ]
  },
  {
   "cell_type": "code",
   "execution_count": 40,
   "metadata": {},
   "outputs": [
    {
     "data": {
      "text/html": [
       "<ol class=list-inline>\n",
       "\t<li>153</li>\n",
       "\t<li>4</li>\n",
       "</ol>\n"
      ],
      "text/latex": [
       "\\begin{enumerate*}\n",
       "\\item 153\n",
       "\\item 4\n",
       "\\end{enumerate*}\n"
      ],
      "text/markdown": [
       "1. 153\n",
       "2. 4\n",
       "\n",
       "\n"
      ],
      "text/plain": [
       "[1] 153   4"
      ]
     },
     "metadata": {},
     "output_type": "display_data"
    }
   ],
   "source": [
    "dim(df)"
   ]
  },
  {
   "cell_type": "code",
   "execution_count": 41,
   "metadata": {},
   "outputs": [
    {
     "data": {
      "text/plain": [
       "    Solar.R           Wind             Temp           Result      \n",
       " Min.   :  7.0   Min.   : 1.700   Min.   :56.00   Min.   :0.0000  \n",
       " 1st Qu.:115.8   1st Qu.: 7.400   1st Qu.:72.00   1st Qu.:0.0000  \n",
       " Median :205.0   Median : 9.700   Median :79.00   Median :0.0000  \n",
       " Mean   :185.9   Mean   : 9.958   Mean   :77.88   Mean   :0.2876  \n",
       " 3rd Qu.:258.8   3rd Qu.:11.500   3rd Qu.:85.00   3rd Qu.:1.0000  \n",
       " Max.   :334.0   Max.   :20.700   Max.   :97.00   Max.   :1.0000  \n",
       " NA's   :7                                                        "
      ]
     },
     "metadata": {},
     "output_type": "display_data"
    }
   ],
   "source": [
    "summary(df)"
   ]
  },
  {
   "cell_type": "code",
   "execution_count": 42,
   "metadata": {},
   "outputs": [
    {
     "data": {
      "text/plain": [
       "\n",
       "  0   1 \n",
       "109  44 "
      ]
     },
     "metadata": {},
     "output_type": "display_data"
    },
    {
     "data": {
      "image/png": "[encoded data removed]",
      "text/plain": [
       "plot without title"
      ]
     },
     "metadata": {},
     "output_type": "display_data"
    }
   ],
   "source": [
    "(tbl<-table(df$Result))\n",
    "barplot(tbl,beside=T,legend=T,col=rainbow(2)) #카운트 플롯"
   ]
  },
  {
   "cell_type": "code",
   "execution_count": 43,
   "metadata": {
    "scrolled": true
   },
   "outputs": [
    {
     "data": {
      "text/plain": [
       "\n",
       " 0  1 \n",
       "42 42 "
      ]
     },
     "metadata": {},
     "output_type": "display_data"
    }
   ],
   "source": [
    "library(ROSE)\n",
    "#언더샘플링\n",
    "df_samp<-ovun.sample(Result ~ . , data=df, seed=1, method='under',\n",
    "                    N=42*2)$data\n",
    "(tbl<-table(df_samp$Result))"
   ]
  },
  {
   "cell_type": "code",
   "execution_count": 44,
   "metadata": {},
   "outputs": [
    {
     "data": {
      "text/plain": [
       "\n",
       "  0   1 \n",
       "104 104 "
      ]
     },
     "metadata": {},
     "output_type": "display_data"
    }
   ],
   "source": [
    "#오버샘플링\n",
    "df_samp<-ovun.sample(Result ~ . , data=df, seed=1, method='over',\n",
    "                    N=104*2)$data\n",
    "(tbl<-table(df_samp$Result))"
   ]
  },
  {
   "cell_type": "code",
   "execution_count": 45,
   "metadata": {},
   "outputs": [],
   "source": [
    "library(caret)\n",
    "set.seed(123)\n",
    "#학습용 80% 검증용 20%\n",
    "idx_train<-createDataPartition(y=df_samp$Result,p=0.8,list=F)\n",
    "train<-df_samp[idx_train,] #학습용\n",
    "X_train<-train[,-4] #독립변수\n",
    "y_train<-train[,4] #종속변수\n",
    "test<-df_samp[-idx_train,] #검증용\n",
    "X_test<-test[,-4]\n",
    "y_test<-test[,4]"
   ]
  },
  {
   "cell_type": "code",
   "execution_count": 46,
   "metadata": {},
   "outputs": [
    {
     "name": "stderr",
     "output_type": "stream",
     "text": [
      "Using  as id variables\n"
     ]
    },
    {
     "data": {
      "image/png": "[encoded data removed]",
      "text/plain": [
       "plot without title"
      ]
     },
     "metadata": {},
     "output_type": "display_data"
    }
   ],
   "source": [
    "library(reshape)\n",
    "meltData<-melt(X_train)\n",
    "boxplot(data=meltData,value~variable) #박스플롯\n",
    "#변수마다 단위가 달라서 같은 기준으로 비교하기가 어려움"
   ]
  },
  {
   "cell_type": "code",
   "execution_count": 47,
   "metadata": {},
   "outputs": [
    {
     "data": {
      "text/html": [
       "<table>\n",
       "<thead><tr><th></th><th scope=col>Solar.R</th><th scope=col>Wind</th><th scope=col>Temp</th></tr></thead>\n",
       "<tbody>\n",
       "\t<tr><th scope=row>3</th><td>149 </td><td>12.6</td><td>74  </td></tr>\n",
       "\t<tr><th scope=row>4</th><td>313 </td><td>11.5</td><td>62  </td></tr>\n",
       "\t<tr><th scope=row>5</th><td>299 </td><td> 8.6</td><td>65  </td></tr>\n",
       "\t<tr><th scope=row>6</th><td> 99 </td><td>13.8</td><td>59  </td></tr>\n",
       "\t<tr><th scope=row>7</th><td> 19 </td><td>20.1</td><td>61  </td></tr>\n",
       "\t<tr><th scope=row>8</th><td>194 </td><td> 8.6</td><td>69  </td></tr>\n",
       "</tbody>\n",
       "</table>\n"
      ],
      "text/latex": [
       "\\begin{tabular}{r|lll}\n",
       "  & Solar.R & Wind & Temp\\\\\n",
       "\\hline\n",
       "\t3 & 149  & 12.6 & 74  \\\\\n",
       "\t4 & 313  & 11.5 & 62  \\\\\n",
       "\t5 & 299  &  8.6 & 65  \\\\\n",
       "\t6 &  99  & 13.8 & 59  \\\\\n",
       "\t7 &  19  & 20.1 & 61  \\\\\n",
       "\t8 & 194  &  8.6 & 69  \\\\\n",
       "\\end{tabular}\n"
      ],
      "text/markdown": [
       "\n",
       "| <!--/--> | Solar.R | Wind | Temp |\n",
       "|---|---|---|---|\n",
       "| 3 | 149  | 12.6 | 74   |\n",
       "| 4 | 313  | 11.5 | 62   |\n",
       "| 5 | 299  |  8.6 | 65   |\n",
       "| 6 |  99  | 13.8 | 59   |\n",
       "| 7 |  19  | 20.1 | 61   |\n",
       "| 8 | 194  |  8.6 | 69   |\n",
       "\n"
      ],
      "text/plain": [
       "  Solar.R Wind Temp\n",
       "3 149     12.6 74  \n",
       "4 313     11.5 62  \n",
       "5 299      8.6 65  \n",
       "6  99     13.8 59  \n",
       "7  19     20.1 61  \n",
       "8 194      8.6 69  "
      ]
     },
     "metadata": {},
     "output_type": "display_data"
    },
    {
     "data": {
      "text/html": [
       "<table>\n",
       "<thead><tr><th></th><th scope=col>Solar.R</th><th scope=col>Wind</th><th scope=col>Temp</th></tr></thead>\n",
       "<tbody>\n",
       "\t<tr><th scope=row>3</th><td>-0.58568259</td><td> 0.9369207 </td><td>-0.6867342 </td></tr>\n",
       "\t<tr><th scope=row>4</th><td> 1.48392453</td><td> 0.6337993 </td><td>-1.9674523 </td></tr>\n",
       "\t<tr><th scope=row>5</th><td> 1.30725075</td><td>-0.1653389 </td><td>-1.6472728 </td></tr>\n",
       "\t<tr><th scope=row>6</th><td>-1.21666037</td><td> 1.2675985 </td><td>-2.2876319 </td></tr>\n",
       "\t<tr><th scope=row>7</th><td>-2.22622481</td><td> 3.0036574 </td><td>-2.0741788 </td></tr>\n",
       "\t<tr><th scope=row>8</th><td>-0.01780259</td><td>-0.1653389 </td><td>-1.2203668 </td></tr>\n",
       "</tbody>\n",
       "</table>\n"
      ],
      "text/latex": [
       "\\begin{tabular}{r|lll}\n",
       "  & Solar.R & Wind & Temp\\\\\n",
       "\\hline\n",
       "\t3 & -0.58568259 &  0.9369207  & -0.6867342 \\\\\n",
       "\t4 &  1.48392453 &  0.6337993  & -1.9674523 \\\\\n",
       "\t5 &  1.30725075 & -0.1653389  & -1.6472728 \\\\\n",
       "\t6 & -1.21666037 &  1.2675985  & -2.2876319 \\\\\n",
       "\t7 & -2.22622481 &  3.0036574  & -2.0741788 \\\\\n",
       "\t8 & -0.01780259 & -0.1653389  & -1.2203668 \\\\\n",
       "\\end{tabular}\n"
      ],
      "text/markdown": [
       "\n",
       "| <!--/--> | Solar.R | Wind | Temp |\n",
       "|---|---|---|---|\n",
       "| 3 | -0.58568259 |  0.9369207  | -0.6867342  |\n",
       "| 4 |  1.48392453 |  0.6337993  | -1.9674523  |\n",
       "| 5 |  1.30725075 | -0.1653389  | -1.6472728  |\n",
       "| 6 | -1.21666037 |  1.2675985  | -2.2876319  |\n",
       "| 7 | -2.22622481 |  3.0036574  | -2.0741788  |\n",
       "| 8 | -0.01780259 | -0.1653389  | -1.2203668  |\n",
       "\n"
      ],
      "text/plain": [
       "  Solar.R     Wind       Temp      \n",
       "3 -0.58568259  0.9369207 -0.6867342\n",
       "4  1.48392453  0.6337993 -1.9674523\n",
       "5  1.30725075 -0.1653389 -1.6472728\n",
       "6 -1.21666037  1.2675985 -2.2876319\n",
       "7 -2.22622481  3.0036574 -2.0741788\n",
       "8 -0.01780259 -0.1653389 -1.2203668"
      ]
     },
     "metadata": {},
     "output_type": "display_data"
    }
   ],
   "source": [
    "head(X_train)\n",
    "head(X_train_scaled)"
   ]
  },
  {
   "cell_type": "code",
   "execution_count": 55,
   "metadata": {},
   "outputs": [
    {
     "data": {
      "text/html": [
       "<table>\n",
       "<thead><tr><th></th><th scope=col>Solar.R</th><th scope=col>Wind</th><th scope=col>Temp</th><th scope=col>Result</th></tr></thead>\n",
       "<tbody>\n",
       "\t<tr><th scope=row>3</th><td>-0.58568259</td><td> 0.9369207 </td><td>-0.6867342 </td><td>0          </td></tr>\n",
       "\t<tr><th scope=row>4</th><td> 1.48392453</td><td> 0.6337993 </td><td>-1.9674523 </td><td>0          </td></tr>\n",
       "\t<tr><th scope=row>5</th><td> 1.30725075</td><td>-0.1653389 </td><td>-1.6472728 </td><td>0          </td></tr>\n",
       "\t<tr><th scope=row>6</th><td>-1.21666037</td><td> 1.2675985 </td><td>-2.2876319 </td><td>0          </td></tr>\n",
       "\t<tr><th scope=row>7</th><td>-2.22622481</td><td> 3.0036574 </td><td>-2.0741788 </td><td>0          </td></tr>\n",
       "\t<tr><th scope=row>8</th><td>-0.01780259</td><td>-0.1653389 </td><td>-1.2203668 </td><td>0          </td></tr>\n",
       "</tbody>\n",
       "</table>\n"
      ],
      "text/latex": [
       "\\begin{tabular}{r|llll}\n",
       "  & Solar.R & Wind & Temp & Result\\\\\n",
       "\\hline\n",
       "\t3 & -0.58568259 &  0.9369207  & -0.6867342  & 0          \\\\\n",
       "\t4 &  1.48392453 &  0.6337993  & -1.9674523  & 0          \\\\\n",
       "\t5 &  1.30725075 & -0.1653389  & -1.6472728  & 0          \\\\\n",
       "\t6 & -1.21666037 &  1.2675985  & -2.2876319  & 0          \\\\\n",
       "\t7 & -2.22622481 &  3.0036574  & -2.0741788  & 0          \\\\\n",
       "\t8 & -0.01780259 & -0.1653389  & -1.2203668  & 0          \\\\\n",
       "\\end{tabular}\n"
      ],
      "text/markdown": [
       "\n",
       "| <!--/--> | Solar.R | Wind | Temp | Result |\n",
       "|---|---|---|---|---|\n",
       "| 3 | -0.58568259 |  0.9369207  | -0.6867342  | 0           |\n",
       "| 4 |  1.48392453 |  0.6337993  | -1.9674523  | 0           |\n",
       "| 5 |  1.30725075 | -0.1653389  | -1.6472728  | 0           |\n",
       "| 6 | -1.21666037 |  1.2675985  | -2.2876319  | 0           |\n",
       "| 7 | -2.22622481 |  3.0036574  | -2.0741788  | 0           |\n",
       "| 8 | -0.01780259 | -0.1653389  | -1.2203668  | 0           |\n",
       "\n"
      ],
      "text/plain": [
       "  Solar.R     Wind       Temp       Result\n",
       "3 -0.58568259  0.9369207 -0.6867342 0     \n",
       "4  1.48392453  0.6337993 -1.9674523 0     \n",
       "5  1.30725075 -0.1653389 -1.6472728 0     \n",
       "6 -1.21666037  1.2675985 -2.2876319 0     \n",
       "7 -2.22622481  3.0036574 -2.0741788 0     \n",
       "8 -0.01780259 -0.1653389 -1.2203668 0     "
      ]
     },
     "metadata": {},
     "output_type": "display_data"
    },
    {
     "data": {
      "text/html": [
       "<table>\n",
       "<thead><tr><th></th><th scope=col>Solar.R</th><th scope=col>Wind</th><th scope=col>Temp</th><th scope=col>Result</th></tr></thead>\n",
       "<tbody>\n",
       "\t<tr><th scope=row>1</th><td> 0.1491474 </td><td>-0.60002102</td><td>-1.769448  </td><td>0          </td></tr>\n",
       "\t<tr><th scope=row>2</th><td>-0.7765950 </td><td>-0.41492456</td><td>-1.160344  </td><td>0          </td></tr>\n",
       "\t<tr><th scope=row>10</th><td> 1.4349007 </td><td>-0.04473164</td><td>-1.891269  </td><td>0          </td></tr>\n",
       "\t<tr><th scope=row>11</th><td> 1.2291802 </td><td> 0.47970832</td><td>-1.647627  </td><td>0          </td></tr>\n",
       "\t<tr><th scope=row>19</th><td> 1.8206267 </td><td> 2.23812466</td><td>-1.038523  </td><td>0          </td></tr>\n",
       "\t<tr><th scope=row>24</th><td>-2.1266360 </td><td> 0.81905182</td><td>-1.769448  </td><td>0          </td></tr>\n",
       "</tbody>\n",
       "</table>\n"
      ],
      "text/latex": [
       "\\begin{tabular}{r|llll}\n",
       "  & Solar.R & Wind & Temp & Result\\\\\n",
       "\\hline\n",
       "\t1 &  0.1491474  & -0.60002102 & -1.769448   & 0          \\\\\n",
       "\t2 & -0.7765950  & -0.41492456 & -1.160344   & 0          \\\\\n",
       "\t10 &  1.4349007  & -0.04473164 & -1.891269   & 0          \\\\\n",
       "\t11 &  1.2291802  &  0.47970832 & -1.647627   & 0          \\\\\n",
       "\t19 &  1.8206267  &  2.23812466 & -1.038523   & 0          \\\\\n",
       "\t24 & -2.1266360  &  0.81905182 & -1.769448   & 0          \\\\\n",
       "\\end{tabular}\n"
      ],
      "text/markdown": [
       "\n",
       "| <!--/--> | Solar.R | Wind | Temp | Result |\n",
       "|---|---|---|---|---|\n",
       "| 1 |  0.1491474  | -0.60002102 | -1.769448   | 0           |\n",
       "| 2 | -0.7765950  | -0.41492456 | -1.160344   | 0           |\n",
       "| 10 |  1.4349007  | -0.04473164 | -1.891269   | 0           |\n",
       "| 11 |  1.2291802  |  0.47970832 | -1.647627   | 0           |\n",
       "| 19 |  1.8206267  |  2.23812466 | -1.038523   | 0           |\n",
       "| 24 | -2.1266360  |  0.81905182 | -1.769448   | 0           |\n",
       "\n"
      ],
      "text/plain": [
       "   Solar.R    Wind        Temp      Result\n",
       "1   0.1491474 -0.60002102 -1.769448 0     \n",
       "2  -0.7765950 -0.41492456 -1.160344 0     \n",
       "10  1.4349007 -0.04473164 -1.891269 0     \n",
       "11  1.2291802  0.47970832 -1.647627 0     \n",
       "19  1.8206267  2.23812466 -1.038523 0     \n",
       "24 -2.1266360  0.81905182 -1.769448 0     "
      ]
     },
     "metadata": {},
     "output_type": "display_data"
    }
   ],
   "source": [
    "# scale() 정규화 함수, 단위가 다른 변수들을 비교할 수 있도록\n",
    "# 평균, 표준편차를 비슷하게 조절하는 함수\n",
    "X_train_scaled<-scale(X_train) #데이터프레임이 행렬로 변환됨\n",
    "X_test_scaled<-scale(X_test)\n",
    "# as.data.frame(행렬) 행렬을 데이터프레임으로 변환\n",
    "X_train_scaled<-as.data.frame(X_train_scaled)\n",
    "X_test_scaled<-as.data.frame(X_test_scaled)\n",
    "# 종속변수를 연결시킴\n",
    "train_scaled<-cbind(X_train_scaled,Result=y_train)\n",
    "test_scaled<-cbind(X_test_scaled,Result=y_test)\n",
    "head(train_scaled)\n",
    "head(test_scaled)"
   ]
  },
  {
   "cell_type": "code",
   "execution_count": 56,
   "metadata": {},
   "outputs": [
    {
     "name": "stderr",
     "output_type": "stream",
     "text": [
      "Using  as id variables\n"
     ]
    },
    {
     "data": {
      "image/png": "[encoded data removed]",
      "text/plain": [
       "plot without title"
      ]
     },
     "metadata": {},
     "output_type": "display_data"
    }
   ],
   "source": [
    "#정규화 처리 후의 박스플롯\n",
    "library(reshape)\n",
    "meltData<-melt(X_train_scaled)\n",
    "boxplot(data=meltData,value~variable)"
   ]
  },
  {
   "cell_type": "code",
   "execution_count": 13,
   "metadata": {},
   "outputs": [
    {
     "name": "stderr",
     "output_type": "stream",
     "text": [
      "Installing package into 'C:/Users/tjoeun302-18/Documents/R/win-library/3.6'\n",
      "(as 'lib' is unspecified)\n",
      "also installing the dependencies 'TH.data', 'libcoin', 'matrixStats', 'multcomp', 'mvtnorm', 'modeltools', 'strucchange', 'coin', 'sandwich'\n",
      "\n"
     ]
    },
    {
     "name": "stdout",
     "output_type": "stream",
     "text": [
      "\n",
      "  There is a binary version available but the source version is later:\n",
      "        binary source needs_compilation\n",
      "mvtnorm 1.0-11 1.0-12              TRUE\n",
      "\n",
      "  Binaries will be installed\n",
      "package 'TH.data' successfully unpacked and MD5 sums checked\n",
      "package 'libcoin' successfully unpacked and MD5 sums checked\n",
      "package 'matrixStats' successfully unpacked and MD5 sums checked\n",
      "package 'multcomp' successfully unpacked and MD5 sums checked\n",
      "package 'mvtnorm' successfully unpacked and MD5 sums checked\n",
      "package 'modeltools' successfully unpacked and MD5 sums checked\n",
      "package 'strucchange' successfully unpacked and MD5 sums checked\n",
      "package 'coin' successfully unpacked and MD5 sums checked\n",
      "package 'sandwich' successfully unpacked and MD5 sums checked\n",
      "package 'party' successfully unpacked and MD5 sums checked\n",
      "\n",
      "The downloaded binary packages are in\n",
      "\tC:\\Users\\tjoeun302-18\\AppData\\Local\\Temp\\Rtmp0k9zxp\\downloaded_packages\n"
     ]
    }
   ],
   "source": [
    "#install.packages('party') #패키지 설치"
   ]
  },
  {
   "cell_type": "code",
   "execution_count": 57,
   "metadata": {},
   "outputs": [
    {
     "data": {
      "text/plain": [
       "\n",
       "\t Conditional inference tree with 3 terminal nodes\n",
       "\n",
       "Response:  Result \n",
       "Inputs:  Solar.R, Wind, Temp \n",
       "Number of observations:  168 \n",
       "\n",
       "1) Temp <= -0.3665547; criterion = 1, statistic = 69.301\n",
       "  2)*  weights = 52 \n",
       "1) Temp > -0.3665547\n",
       "  3) Wind <= -0.4960168; criterion = 1, statistic = 20.283\n",
       "    4)*  weights = 53 \n",
       "  3) Wind > -0.4960168\n",
       "    5)*  weights = 63 "
      ]
     },
     "metadata": {},
     "output_type": "display_data"
    }
   ],
   "source": [
    "library(party) #패키지 로딩\n",
    "#의사결정나무 모형 ctree(종속변수~독립변수, data=한습용데이터셋)\n",
    "model<-ctree(Result ~. , data=train_scaled)\n",
    "model"
   ]
  },
  {
   "cell_type": "code",
   "execution_count": 58,
   "metadata": {},
   "outputs": [
    {
     "data": {
      "image/png": "[encoded data removed]",
      "text/plain": [
       "plot without title"
      ]
     },
     "metadata": {},
     "output_type": "display_data"
    }
   ],
   "source": [
    "plot(model)"
   ]
  },
  {
   "cell_type": "code",
   "execution_count": 59,
   "metadata": {},
   "outputs": [
    {
     "data": {
      "text/html": [
       "<table>\n",
       "<thead><tr><th scope=col>Result</th></tr></thead>\n",
       "<tbody>\n",
       "\t<tr><td>0.0000000</td></tr>\n",
       "\t<tr><td>0.0000000</td></tr>\n",
       "\t<tr><td>0.0000000</td></tr>\n",
       "\t<tr><td>0.0000000</td></tr>\n",
       "\t<tr><td>0.0000000</td></tr>\n",
       "\t<tr><td>0.0000000</td></tr>\n",
       "\t<tr><td>0.0000000</td></tr>\n",
       "\t<tr><td>0.0000000</td></tr>\n",
       "\t<tr><td>0.0000000</td></tr>\n",
       "\t<tr><td>0.0000000</td></tr>\n",
       "\t<tr><td>0.0000000</td></tr>\n",
       "\t<tr><td>0.0000000</td></tr>\n",
       "\t<tr><td>0.0000000</td></tr>\n",
       "\t<tr><td>0.0000000</td></tr>\n",
       "\t<tr><td>0.0000000</td></tr>\n",
       "\t<tr><td>0.0000000</td></tr>\n",
       "\t<tr><td>0.0000000</td></tr>\n",
       "\t<tr><td>0.0000000</td></tr>\n",
       "\t<tr><td>0.0000000</td></tr>\n",
       "\t<tr><td>0.5396825</td></tr>\n",
       "\t<tr><td>0.0000000</td></tr>\n",
       "\t<tr><td>0.5396825</td></tr>\n",
       "\t<tr><td>0.5396825</td></tr>\n",
       "\t<tr><td>0.5396825</td></tr>\n",
       "\t<tr><td>0.5396825</td></tr>\n",
       "\t<tr><td>0.9433962</td></tr>\n",
       "\t<tr><td>0.5396825</td></tr>\n",
       "\t<tr><td>0.5396825</td></tr>\n",
       "\t<tr><td>0.5396825</td></tr>\n",
       "\t<tr><td>0.5396825</td></tr>\n",
       "\t<tr><td>...</td></tr>\n",
       "\t<tr><td>0.9433962</td></tr>\n",
       "\t<tr><td>0.9433962</td></tr>\n",
       "\t<tr><td>0.5396825</td></tr>\n",
       "\t<tr><td>0.9433962</td></tr>\n",
       "\t<tr><td>0.5396825</td></tr>\n",
       "\t<tr><td>0.5396825</td></tr>\n",
       "\t<tr><td>0.9433962</td></tr>\n",
       "\t<tr><td>0.5396825</td></tr>\n",
       "\t<tr><td>0.9433962</td></tr>\n",
       "\t<tr><td>0.9433962</td></tr>\n",
       "\t<tr><td>0.5396825</td></tr>\n",
       "\t<tr><td>0.5396825</td></tr>\n",
       "\t<tr><td>0.9433962</td></tr>\n",
       "\t<tr><td>0.9433962</td></tr>\n",
       "\t<tr><td>0.5396825</td></tr>\n",
       "\t<tr><td>0.9433962</td></tr>\n",
       "\t<tr><td>0.5396825</td></tr>\n",
       "\t<tr><td>0.9433962</td></tr>\n",
       "\t<tr><td>0.5396825</td></tr>\n",
       "\t<tr><td>0.5396825</td></tr>\n",
       "\t<tr><td>0.5396825</td></tr>\n",
       "\t<tr><td>0.5396825</td></tr>\n",
       "\t<tr><td>0.9433962</td></tr>\n",
       "\t<tr><td>0.9433962</td></tr>\n",
       "\t<tr><td>0.9433962</td></tr>\n",
       "\t<tr><td>0.5396825</td></tr>\n",
       "\t<tr><td>0.5396825</td></tr>\n",
       "\t<tr><td>0.9433962</td></tr>\n",
       "\t<tr><td>0.9433962</td></tr>\n",
       "\t<tr><td>0.9433962</td></tr>\n",
       "</tbody>\n",
       "</table>\n"
      ],
      "text/latex": [
       "\\begin{tabular}{l}\n",
       " Result\\\\\n",
       "\\hline\n",
       "\t 0.0000000\\\\\n",
       "\t 0.0000000\\\\\n",
       "\t 0.0000000\\\\\n",
       "\t 0.0000000\\\\\n",
       "\t 0.0000000\\\\\n",
       "\t 0.0000000\\\\\n",
       "\t 0.0000000\\\\\n",
       "\t 0.0000000\\\\\n",
       "\t 0.0000000\\\\\n",
       "\t 0.0000000\\\\\n",
       "\t 0.0000000\\\\\n",
       "\t 0.0000000\\\\\n",
       "\t 0.0000000\\\\\n",
       "\t 0.0000000\\\\\n",
       "\t 0.0000000\\\\\n",
       "\t 0.0000000\\\\\n",
       "\t 0.0000000\\\\\n",
       "\t 0.0000000\\\\\n",
       "\t 0.0000000\\\\\n",
       "\t 0.5396825\\\\\n",
       "\t 0.0000000\\\\\n",
       "\t 0.5396825\\\\\n",
       "\t 0.5396825\\\\\n",
       "\t 0.5396825\\\\\n",
       "\t 0.5396825\\\\\n",
       "\t 0.9433962\\\\\n",
       "\t 0.5396825\\\\\n",
       "\t 0.5396825\\\\\n",
       "\t 0.5396825\\\\\n",
       "\t 0.5396825\\\\\n",
       "\t ...\\\\\n",
       "\t 0.9433962\\\\\n",
       "\t 0.9433962\\\\\n",
       "\t 0.5396825\\\\\n",
       "\t 0.9433962\\\\\n",
       "\t 0.5396825\\\\\n",
       "\t 0.5396825\\\\\n",
       "\t 0.9433962\\\\\n",
       "\t 0.5396825\\\\\n",
       "\t 0.9433962\\\\\n",
       "\t 0.9433962\\\\\n",
       "\t 0.5396825\\\\\n",
       "\t 0.5396825\\\\\n",
       "\t 0.9433962\\\\\n",
       "\t 0.9433962\\\\\n",
       "\t 0.5396825\\\\\n",
       "\t 0.9433962\\\\\n",
       "\t 0.5396825\\\\\n",
       "\t 0.9433962\\\\\n",
       "\t 0.5396825\\\\\n",
       "\t 0.5396825\\\\\n",
       "\t 0.5396825\\\\\n",
       "\t 0.5396825\\\\\n",
       "\t 0.9433962\\\\\n",
       "\t 0.9433962\\\\\n",
       "\t 0.9433962\\\\\n",
       "\t 0.5396825\\\\\n",
       "\t 0.5396825\\\\\n",
       "\t 0.9433962\\\\\n",
       "\t 0.9433962\\\\\n",
       "\t 0.9433962\\\\\n",
       "\\end{tabular}\n"
      ],
      "text/markdown": [
       "\n",
       "| Result |\n",
       "|---|\n",
       "| 0.0000000 |\n",
       "| 0.0000000 |\n",
       "| 0.0000000 |\n",
       "| 0.0000000 |\n",
       "| 0.0000000 |\n",
       "| 0.0000000 |\n",
       "| 0.0000000 |\n",
       "| 0.0000000 |\n",
       "| 0.0000000 |\n",
       "| 0.0000000 |\n",
       "| 0.0000000 |\n",
       "| 0.0000000 |\n",
       "| 0.0000000 |\n",
       "| 0.0000000 |\n",
       "| 0.0000000 |\n",
       "| 0.0000000 |\n",
       "| 0.0000000 |\n",
       "| 0.0000000 |\n",
       "| 0.0000000 |\n",
       "| 0.5396825 |\n",
       "| 0.0000000 |\n",
       "| 0.5396825 |\n",
       "| 0.5396825 |\n",
       "| 0.5396825 |\n",
       "| 0.5396825 |\n",
       "| 0.9433962 |\n",
       "| 0.5396825 |\n",
       "| 0.5396825 |\n",
       "| 0.5396825 |\n",
       "| 0.5396825 |\n",
       "| ... |\n",
       "| 0.9433962 |\n",
       "| 0.9433962 |\n",
       "| 0.5396825 |\n",
       "| 0.9433962 |\n",
       "| 0.5396825 |\n",
       "| 0.5396825 |\n",
       "| 0.9433962 |\n",
       "| 0.5396825 |\n",
       "| 0.9433962 |\n",
       "| 0.9433962 |\n",
       "| 0.5396825 |\n",
       "| 0.5396825 |\n",
       "| 0.9433962 |\n",
       "| 0.9433962 |\n",
       "| 0.5396825 |\n",
       "| 0.9433962 |\n",
       "| 0.5396825 |\n",
       "| 0.9433962 |\n",
       "| 0.5396825 |\n",
       "| 0.5396825 |\n",
       "| 0.5396825 |\n",
       "| 0.5396825 |\n",
       "| 0.9433962 |\n",
       "| 0.9433962 |\n",
       "| 0.9433962 |\n",
       "| 0.5396825 |\n",
       "| 0.5396825 |\n",
       "| 0.9433962 |\n",
       "| 0.9433962 |\n",
       "| 0.9433962 |\n",
       "\n"
      ],
      "text/plain": [
       "      Result   \n",
       " [1,] 0.0000000\n",
       " [2,] 0.0000000\n",
       " [3,] 0.0000000\n",
       " [4,] 0.0000000\n",
       " [5,] 0.0000000\n",
       " [6,] 0.0000000\n",
       " [7,] 0.0000000\n",
       " [8,] 0.0000000\n",
       " [9,] 0.0000000\n",
       "[10,] 0.0000000\n",
       "[11,] 0.0000000\n",
       "[12,] 0.0000000\n",
       "[13,] 0.0000000\n",
       "[14,] 0.0000000\n",
       "[15,] 0.0000000\n",
       "[16,] 0.0000000\n",
       "[17,] 0.0000000\n",
       "[18,] 0.0000000\n",
       "[19,] 0.0000000\n",
       "[20,] 0.5396825\n",
       "[21,] 0.0000000\n",
       "[22,] 0.5396825\n",
       "[23,] 0.5396825\n",
       "[24,] 0.5396825\n",
       "[25,] 0.5396825\n",
       "[26,] 0.9433962\n",
       "[27,] 0.5396825\n",
       "[28,] 0.5396825\n",
       "[29,] 0.5396825\n",
       "[30,] 0.5396825\n",
       "[31,] ...      \n",
       "[32,] 0.9433962\n",
       "[33,] 0.9433962\n",
       "[34,] 0.5396825\n",
       "[35,] 0.9433962\n",
       "[36,] 0.5396825\n",
       "[37,] 0.5396825\n",
       "[38,] 0.9433962\n",
       "[39,] 0.5396825\n",
       "[40,] 0.9433962\n",
       "[41,] 0.9433962\n",
       "[42,] 0.5396825\n",
       "[43,] 0.5396825\n",
       "[44,] 0.9433962\n",
       "[45,] 0.9433962\n",
       "[46,] 0.5396825\n",
       "[47,] 0.9433962\n",
       "[48,] 0.5396825\n",
       "[49,] 0.9433962\n",
       "[50,] 0.5396825\n",
       "[51,] 0.5396825\n",
       "[52,] 0.5396825\n",
       "[53,] 0.5396825\n",
       "[54,] 0.9433962\n",
       "[55,] 0.9433962\n",
       "[56,] 0.9433962\n",
       "[57,] 0.5396825\n",
       "[58,] 0.5396825\n",
       "[59,] 0.9433962\n",
       "[60,] 0.9433962\n",
       "[61,] 0.9433962"
      ]
     },
     "metadata": {},
     "output_type": "display_data"
    },
    {
     "data": {
      "text/plain": [
       "       result\n",
       "y_train  0  1\n",
       "      0 52 32\n",
       "      1  0 84"
      ]
     },
     "metadata": {},
     "output_type": "display_data"
    },
    {
     "data": {
      "text/html": [
       "0.80952380952381"
      ],
      "text/latex": [
       "0.80952380952381"
      ],
      "text/markdown": [
       "0.80952380952381"
      ],
      "text/plain": [
       "[1] 0.8095238"
      ]
     },
     "metadata": {},
     "output_type": "display_data"
    }
   ],
   "source": [
    "#학습용 데이터셋\n",
    "pred<-predict(model,X_train_scaled)\n",
    "pred\n",
    "result<-ifelse(pred>0.5,1,0) #결과값이 0.5보다 크면 1, 아니면 0으로\n",
    "table(y_train,result) #오분류표\n",
    "mean(result==y_train) #예측정확도 80.9%"
   ]
  },
  {
   "cell_type": "code",
   "execution_count": 60,
   "metadata": {},
   "outputs": [
    {
     "data": {
      "text/plain": [
       "      result\n",
       "y_test  0  1\n",
       "     0 13  7\n",
       "     1  1 19"
      ]
     },
     "metadata": {},
     "output_type": "display_data"
    },
    {
     "data": {
      "text/html": [
       "0.8"
      ],
      "text/latex": [
       "0.8"
      ],
      "text/markdown": [
       "0.8"
      ],
      "text/plain": [
       "[1] 0.8"
      ]
     },
     "metadata": {},
     "output_type": "display_data"
    }
   ],
   "source": [
    "#검증용 데이터셋\n",
    "pred<-predict(model,X_test_scaled)\n",
    "result<-ifelse(pred>0.5,1,0)\n",
    "table(y_test,result)\n",
    "mean(result==y_test)"
   ]
  },
  {
   "cell_type": "code",
   "execution_count": 61,
   "metadata": {},
   "outputs": [
    {
     "name": "stderr",
     "output_type": "stream",
     "text": [
      "Warning message in randomForest.default(m, y, ...):\n",
      "\"The response has five or fewer unique values.  Are you sure you want to do regression?\""
     ]
    },
    {
     "data": {
      "text/plain": [
       "\n",
       "Call:\n",
       " randomForest(formula = Result ~ ., data = train_scaled, mtry = floor(sqrt(ncol(train))),      ntree = 100, importance = T) \n",
       "               Type of random forest: regression\n",
       "                     Number of trees: 100\n",
       "No. of variables tried at each split: 2\n",
       "\n",
       "          Mean of squared residuals: 0.08184074\n",
       "                    % Var explained: 67.26"
      ]
     },
     "metadata": {},
     "output_type": "display_data"
    }
   ],
   "source": [
    "#랜덤포레스트 모형\n",
    "library(randomForest)\n",
    "set.seed(1)\n",
    "#mtry 변수갯수, ntree 트리갯수, importance=T 변수의 중요도로 모델생성\n",
    "model<-randomForest(Result ~. , data=train_scaled,\n",
    "                   mtry=floor(sqrt(ncol(train))),ntree=100,importance=T)\n",
    "model"
   ]
  },
  {
   "cell_type": "code",
   "execution_count": 62,
   "metadata": {},
   "outputs": [
    {
     "data": {
      "text/plain": [
       "       result\n",
       "y_train  0  1\n",
       "      0 82  2\n",
       "      1  0 84"
      ]
     },
     "metadata": {},
     "output_type": "display_data"
    },
    {
     "data": {
      "text/html": [
       "0.988095238095238"
      ],
      "text/latex": [
       "0.988095238095238"
      ],
      "text/markdown": [
       "0.988095238095238"
      ],
      "text/plain": [
       "[1] 0.9880952"
      ]
     },
     "metadata": {},
     "output_type": "display_data"
    }
   ],
   "source": [
    "#학습용 데이터셋\n",
    "pred<-predict(model,X_train_scaled)\n",
    "result<-ifelse(pred>0.5,1,0) #결과값이 0.5보다 크면 1, 아니면 0으로\n",
    "table(y_train,result) #오분류표\n",
    "mean(result==y_train) #예측정확도"
   ]
  },
  {
   "cell_type": "code",
   "execution_count": 63,
   "metadata": {},
   "outputs": [
    {
     "data": {
      "text/plain": [
       "      result\n",
       "y_test  0  1\n",
       "     0 19  1\n",
       "     1  2 18"
      ]
     },
     "metadata": {},
     "output_type": "display_data"
    },
    {
     "data": {
      "text/html": [
       "0.925"
      ],
      "text/latex": [
       "0.925"
      ],
      "text/markdown": [
       "0.925"
      ],
      "text/plain": [
       "[1] 0.925"
      ]
     },
     "metadata": {},
     "output_type": "display_data"
    }
   ],
   "source": [
    "#검증용 데이터셋\n",
    "pred<-predict(model,X_test_scaled)\n",
    "result<-ifelse(pred>0.5,1,0)\n",
    "table(y_test,result)\n",
    "mean(result==y_test)"
   ]
  },
  {
   "cell_type": "code",
   "execution_count": 64,
   "metadata": {},
   "outputs": [
    {
     "data": {
      "text/html": [
       "<table>\n",
       "<thead><tr><th></th><th scope=col>%IncMSE</th><th scope=col>IncNodePurity</th></tr></thead>\n",
       "<tbody>\n",
       "\t<tr><th scope=row>Solar.R</th><td>17.82104 </td><td>11.913690</td></tr>\n",
       "\t<tr><th scope=row>Wind</th><td>15.49499 </td><td> 6.533059</td></tr>\n",
       "\t<tr><th scope=row>Temp</th><td>33.81010 </td><td>21.331489</td></tr>\n",
       "</tbody>\n",
       "</table>\n"
      ],
      "text/latex": [
       "\\begin{tabular}{r|ll}\n",
       "  & \\%IncMSE & IncNodePurity\\\\\n",
       "\\hline\n",
       "\tSolar.R & 17.82104  & 11.913690\\\\\n",
       "\tWind & 15.49499  &  6.533059\\\\\n",
       "\tTemp & 33.81010  & 21.331489\\\\\n",
       "\\end{tabular}\n"
      ],
      "text/markdown": [
       "\n",
       "| <!--/--> | %IncMSE | IncNodePurity |\n",
       "|---|---|---|\n",
       "| Solar.R | 17.82104  | 11.913690 |\n",
       "| Wind | 15.49499  |  6.533059 |\n",
       "| Temp | 33.81010  | 21.331489 |\n",
       "\n"
      ],
      "text/plain": [
       "        %IncMSE  IncNodePurity\n",
       "Solar.R 17.82104 11.913690    \n",
       "Wind    15.49499  6.533059    \n",
       "Temp    33.81010 21.331489    "
      ]
     },
     "metadata": {},
     "output_type": "display_data"
    }
   ],
   "source": [
    "importance(model) #특성의 중요도 %IncMSE 정확도, IncNodePurity 중요도\n",
    "#오존량에 영향을 미치는 변수 : 온도 > 풍량 > 일조량"
   ]
  },
  {
   "cell_type": "code",
   "execution_count": 65,
   "metadata": {},
   "outputs": [
    {
     "data": {
      "image/png": "[encoded data removed]",
      "text/plain": [
       "plot without title"
      ]
     },
     "metadata": {},
     "output_type": "display_data"
    }
   ],
   "source": [
    "varImpPlot(model)"
   ]
  },
  {
   "cell_type": "code",
   "execution_count": null,
   "metadata": {},
   "outputs": [],
   "source": []
  },
  {
   "cell_type": "code",
   "execution_count": null,
   "metadata": {},
   "outputs": [],
   "source": []
  },
  {
   "cell_type": "code",
   "execution_count": null,
   "metadata": {},
   "outputs": [],
   "source": []
  },
  {
   "cell_type": "code",
   "execution_count": null,
   "metadata": {},
   "outputs": [],
   "source": []
  },
  {
   "cell_type": "code",
   "execution_count": null,
   "metadata": {},
   "outputs": [],
   "source": []
  },
  {
   "cell_type": "code",
   "execution_count": null,
   "metadata": {},
   "outputs": [],
   "source": []
  },
  {
   "cell_type": "code",
   "execution_count": null,
   "metadata": {},
   "outputs": [],
   "source": []
  }
 ],
 "metadata": {
  "kernelspec": {
   "display_name": "R",
   "language": "R",
   "name": "ir"
  },
  "language_info": {
   "codemirror_mode": "r",
   "file_extension": ".r",
   "mimetype": "text/x-r-source",
   "name": "R",
   "pygments_lexer": "r",
   "version": "3.6.1"
  }
 },
 "nbformat": 4,
 "nbformat_minor": 2
}
