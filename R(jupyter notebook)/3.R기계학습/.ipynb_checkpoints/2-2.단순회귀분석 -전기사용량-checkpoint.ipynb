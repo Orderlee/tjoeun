{
 "cells": [
  {
   "cell_type": "code",
   "execution_count": 2,
   "metadata": {},
   "outputs": [
    {
     "data": {
      "image/png": "[encoded data removed]",
      "text/plain": [
       "plot without title"
      ]
     },
     "metadata": {},
     "output_type": "display_data"
    }
   ],
   "source": [
    "#귀무가설: 전기생산량과 전기소비량은 상관관계가 없다.\n",
    "#대립가설: 전기생산량과 전기소비량은 상관관계가 있다.\n",
    "#전기생산량\n",
    "X<-c(3.52,2.58,3.31,4.07,4.62,3.98,4.29,\n",
    "     4.83,3.71,4.61,3.90,3.20) #독립변수 (보통 대문자 사용)\n",
    "#전기소비량\n",
    "y<-c(2.48,2.27,2.47,2.77,2.98,3.05,3.18,3.46,3.03,3.25,2.67,2.53)\n",
    "plot(X,y)"
   ]
  },
  {
   "cell_type": "code",
   "execution_count": 3,
   "metadata": {},
   "outputs": [
    {
     "data": {
      "text/html": [
       "0.892923512538531"
      ],
      "text/latex": [
       "0.892923512538531"
      ],
      "text/markdown": [
       "0.892923512538531"
      ],
      "text/plain": [
       "[1] 0.8929235"
      ]
     },
     "metadata": {},
     "output_type": "display_data"
    }
   ],
   "source": [
    "cor(X,y) #상관관계 0.7이상 강한 양의 상관관계"
   ]
  },
  {
   "cell_type": "code",
   "execution_count": 4,
   "metadata": {},
   "outputs": [
    {
     "data": {
      "text/plain": [
       "\n",
       "Call:\n",
       "lm(formula = y ~ X)\n",
       "\n",
       "Coefficients:\n",
       "(Intercept)            X  \n",
       "     0.9196       0.4956  \n"
      ]
     },
     "metadata": {},
     "output_type": "display_data"
    }
   ],
   "source": [
    "model <- lm(y~X) #회귀분석함수   종속변수~독립변수\n",
    "model #절편, 기울기 확인"
   ]
  },
  {
   "cell_type": "code",
   "execution_count": 5,
   "metadata": {},
   "outputs": [
    {
     "data": {
      "text/plain": [
       "\n",
       "Call:\n",
       "lm(formula = y ~ X)\n",
       "\n",
       "Residuals:\n",
       "     Min       1Q   Median       3Q      Max \n",
       "-0.22927 -0.17062  0.03509  0.13737  0.27173 \n",
       "\n",
       "Coefficients:\n",
       "            Estimate Std. Error t value Pr(>|t|)    \n",
       "(Intercept)  0.91958    0.31106   2.956   0.0144 *  \n",
       "X            0.49560    0.07902   6.272 9.24e-05 ***\n",
       "---\n",
       "Signif. codes:  0 '***' 0.001 '**' 0.01 '*' 0.05 '.' 0.1 ' ' 1\n",
       "\n",
       "Residual standard error: 0.1737 on 10 degrees of freedom\n",
       "Multiple R-squared:  0.7973,\tAdjusted R-squared:  0.777 \n",
       "F-statistic: 39.34 on 1 and 10 DF,  p-value: 9.238e-05\n"
      ]
     },
     "metadata": {},
     "output_type": "display_data"
    }
   ],
   "source": [
    "summary(model) #모형 요약(p-value,R제곱)\n",
    "#p-value: 9.238e-05 95% 수준하에서 유의, 99%신뢰수준하에서 유의\n",
    "#귀무가설 기각, 대립가설 채택\n",
    "#결론: 전기생산량과 전기소비량은 상관관계가 있다.\n",
    "#R 제곱:0.777 77.7%의 설명력"
   ]
  },
  {
   "cell_type": "code",
   "execution_count": 6,
   "metadata": {},
   "outputs": [
    {
     "data": {
      "image/png": "[encoded data removed]",
      "text/plain": [
       "Plot with title \"전기생산량과 소비량\""
      ]
     },
     "metadata": {},
     "output_type": "display_data"
    }
   ],
   "source": [
    "plot(X,y,main='전기생산량과 소비량',xlab='생산량',ylab='소비량')\n",
    "abline(model,col='red') #회귀선 그리기"
   ]
  },
  {
   "cell_type": "code",
   "execution_count": 8,
   "metadata": {},
   "outputs": [
    {
     "data": {
      "text/html": [
       "2.9019943721421"
      ],
      "text/latex": [
       "2.9019943721421"
      ],
      "text/markdown": [
       "2.9019943721421"
      ],
      "text/plain": [
       "[1] 2.901994"
      ]
     },
     "metadata": {},
     "output_type": "display_data"
    }
   ],
   "source": [
    "# 전기생산량이 4일 때 소비량은?\n",
    "model$coefficients[[2]]*4 + model$coefficients[[1]]"
   ]
  },
  {
   "cell_type": "code",
   "execution_count": null,
   "metadata": {},
   "outputs": [],
   "source": []
  },
  {
   "cell_type": "code",
   "execution_count": null,
   "metadata": {},
   "outputs": [],
   "source": []
  },
  {
   "cell_type": "code",
   "execution_count": null,
   "metadata": {},
   "outputs": [],
   "source": []
  },
  {
   "cell_type": "code",
   "execution_count": null,
   "metadata": {},
   "outputs": [],
   "source": []
  }
 ],
 "metadata": {
  "kernelspec": {
   "display_name": "R",
   "language": "R",
   "name": "ir"
  },
  "language_info": {
   "codemirror_mode": "r",
   "file_extension": ".r",
   "mimetype": "text/x-r-source",
   "name": "R",
   "pygments_lexer": "r",
   "version": "3.6.1"
  }
 },
 "nbformat": 4,
 "nbformat_minor": 2
}
