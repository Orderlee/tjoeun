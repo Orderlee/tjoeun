{
 "cells": [
  {
   "cell_type": "code",
   "execution_count": 1,
   "metadata": {},
   "outputs": [
    {
     "data": {
      "text/html": [
       "<table>\n",
       "<thead><tr><th scope=col>X1</th><th scope=col>X2</th><th scope=col>X3</th><th scope=col>X4</th><th scope=col>X5</th><th scope=col>X6</th><th scope=col>X7</th><th scope=col>X8</th><th scope=col>Y1</th><th scope=col>Y2</th></tr></thead>\n",
       "<tbody>\n",
       "\t<tr><td>0.98  </td><td>514.5 </td><td>294.0 </td><td>110.25</td><td>7     </td><td>2     </td><td>0     </td><td>0     </td><td>15.55 </td><td>21.33 </td></tr>\n",
       "\t<tr><td>0.98  </td><td>514.5 </td><td>294.0 </td><td>110.25</td><td>7     </td><td>3     </td><td>0     </td><td>0     </td><td>15.55 </td><td>21.33 </td></tr>\n",
       "\t<tr><td>0.98  </td><td>514.5 </td><td>294.0 </td><td>110.25</td><td>7     </td><td>4     </td><td>0     </td><td>0     </td><td>15.55 </td><td>21.33 </td></tr>\n",
       "\t<tr><td>0.98  </td><td>514.5 </td><td>294.0 </td><td>110.25</td><td>7     </td><td>5     </td><td>0     </td><td>0     </td><td>15.55 </td><td>21.33 </td></tr>\n",
       "\t<tr><td>0.90  </td><td>563.5 </td><td>318.5 </td><td>122.50</td><td>7     </td><td>2     </td><td>0     </td><td>0     </td><td>20.84 </td><td>28.28 </td></tr>\n",
       "\t<tr><td>0.90  </td><td>563.5 </td><td>318.5 </td><td>122.50</td><td>7     </td><td>3     </td><td>0     </td><td>0     </td><td>21.46 </td><td>25.38 </td></tr>\n",
       "</tbody>\n",
       "</table>\n"
      ],
      "text/latex": [
       "\\begin{tabular}{r|llllllllll}\n",
       " X1 & X2 & X3 & X4 & X5 & X6 & X7 & X8 & Y1 & Y2\\\\\n",
       "\\hline\n",
       "\t 0.98   & 514.5  & 294.0  & 110.25 & 7      & 2      & 0      & 0      & 15.55  & 21.33 \\\\\n",
       "\t 0.98   & 514.5  & 294.0  & 110.25 & 7      & 3      & 0      & 0      & 15.55  & 21.33 \\\\\n",
       "\t 0.98   & 514.5  & 294.0  & 110.25 & 7      & 4      & 0      & 0      & 15.55  & 21.33 \\\\\n",
       "\t 0.98   & 514.5  & 294.0  & 110.25 & 7      & 5      & 0      & 0      & 15.55  & 21.33 \\\\\n",
       "\t 0.90   & 563.5  & 318.5  & 122.50 & 7      & 2      & 0      & 0      & 20.84  & 28.28 \\\\\n",
       "\t 0.90   & 563.5  & 318.5  & 122.50 & 7      & 3      & 0      & 0      & 21.46  & 25.38 \\\\\n",
       "\\end{tabular}\n"
      ],
      "text/markdown": [
       "\n",
       "| X1 | X2 | X3 | X4 | X5 | X6 | X7 | X8 | Y1 | Y2 |\n",
       "|---|---|---|---|---|---|---|---|---|---|\n",
       "| 0.98   | 514.5  | 294.0  | 110.25 | 7      | 2      | 0      | 0      | 15.55  | 21.33  |\n",
       "| 0.98   | 514.5  | 294.0  | 110.25 | 7      | 3      | 0      | 0      | 15.55  | 21.33  |\n",
       "| 0.98   | 514.5  | 294.0  | 110.25 | 7      | 4      | 0      | 0      | 15.55  | 21.33  |\n",
       "| 0.98   | 514.5  | 294.0  | 110.25 | 7      | 5      | 0      | 0      | 15.55  | 21.33  |\n",
       "| 0.90   | 563.5  | 318.5  | 122.50 | 7      | 2      | 0      | 0      | 20.84  | 28.28  |\n",
       "| 0.90   | 563.5  | 318.5  | 122.50 | 7      | 3      | 0      | 0      | 21.46  | 25.38  |\n",
       "\n"
      ],
      "text/plain": [
       "  X1   X2    X3    X4     X5 X6 X7 X8 Y1    Y2   \n",
       "1 0.98 514.5 294.0 110.25 7  2  0  0  15.55 21.33\n",
       "2 0.98 514.5 294.0 110.25 7  3  0  0  15.55 21.33\n",
       "3 0.98 514.5 294.0 110.25 7  4  0  0  15.55 21.33\n",
       "4 0.98 514.5 294.0 110.25 7  5  0  0  15.55 21.33\n",
       "5 0.90 563.5 318.5 122.50 7  2  0  0  20.84 28.28\n",
       "6 0.90 563.5 318.5 122.50 7  3  0  0  21.46 25.38"
      ]
     },
     "metadata": {},
     "output_type": "display_data"
    }
   ],
   "source": [
    "df<-read.csv('d:/data/energy/ENB2012_data.csv')\n",
    "head(df)"
   ]
  },
  {
   "cell_type": "code",
   "execution_count": 2,
   "metadata": {},
   "outputs": [
    {
     "name": "stderr",
     "output_type": "stream",
     "text": [
      "Warning message:\n",
      "\"package 'dplyr' was built under R version 3.6.2\"\n",
      "Attaching package: 'dplyr'\n",
      "\n",
      "The following objects are masked from 'package:stats':\n",
      "\n",
      "    filter, lag\n",
      "\n",
      "The following objects are masked from 'package:base':\n",
      "\n",
      "    intersect, setdiff, setequal, union\n",
      "\n"
     ]
    },
    {
     "data": {
      "text/html": [
       "<ol class=list-inline>\n",
       "\t<li>768</li>\n",
       "\t<li>9</li>\n",
       "</ol>\n"
      ],
      "text/latex": [
       "\\begin{enumerate*}\n",
       "\\item 768\n",
       "\\item 9\n",
       "\\end{enumerate*}\n"
      ],
      "text/markdown": [
       "1. 768\n",
       "2. 9\n",
       "\n",
       "\n"
      ],
      "text/plain": [
       "[1] 768   9"
      ]
     },
     "metadata": {},
     "output_type": "display_data"
    },
    {
     "data": {
      "text/plain": [
       "       X1               X2              X3              X4       \n",
       " Min.   :0.6200   Min.   :514.5   Min.   :245.0   Min.   :110.2  \n",
       " 1st Qu.:0.6825   1st Qu.:606.4   1st Qu.:294.0   1st Qu.:140.9  \n",
       " Median :0.7500   Median :673.8   Median :318.5   Median :183.8  \n",
       " Mean   :0.7642   Mean   :671.7   Mean   :318.5   Mean   :176.6  \n",
       " 3rd Qu.:0.8300   3rd Qu.:741.1   3rd Qu.:343.0   3rd Qu.:220.5  \n",
       " Max.   :0.9800   Max.   :808.5   Max.   :416.5   Max.   :220.5  \n",
       "       X5             X6             X7               X8              Y1       \n",
       " Min.   :3.50   Min.   :2.00   Min.   :0.0000   Min.   :0.000   Min.   : 6.01  \n",
       " 1st Qu.:3.50   1st Qu.:2.75   1st Qu.:0.1000   1st Qu.:1.750   1st Qu.:12.99  \n",
       " Median :5.25   Median :3.50   Median :0.2500   Median :3.000   Median :18.95  \n",
       " Mean   :5.25   Mean   :3.50   Mean   :0.2344   Mean   :2.812   Mean   :22.31  \n",
       " 3rd Qu.:7.00   3rd Qu.:4.25   3rd Qu.:0.4000   3rd Qu.:4.000   3rd Qu.:31.67  \n",
       " Max.   :7.00   Max.   :5.00   Max.   :0.4000   Max.   :5.000   Max.   :43.10  "
      ]
     },
     "metadata": {},
     "output_type": "display_data"
    }
   ],
   "source": [
    "library(dplyr)\n",
    "df<-df %>% select(-Y2) #Y2 필드는 제외\n",
    "dim(df) #데이터의 차원\n",
    "summary(df) #기초통계량"
   ]
  },
  {
   "cell_type": "code",
   "execution_count": 3,
   "metadata": {},
   "outputs": [
    {
     "data": {
      "text/html": [
       "<table>\n",
       "<thead><tr><th></th><th scope=col>X1</th><th scope=col>X2</th><th scope=col>X3</th><th scope=col>X4</th><th scope=col>X5</th><th scope=col>X6</th><th scope=col>X7</th><th scope=col>X8</th><th scope=col>Y1</th></tr></thead>\n",
       "<tbody>\n",
       "\t<tr><th scope=row>X1</th><td> 1.000000e+00</td><td>-9.919015e-01</td><td>-0.2037817   </td><td>-8.688234e-01</td><td> 0.8277473   </td><td> 0.000000000 </td><td> 7.617400e-20</td><td>0.00000000   </td><td> 0.622272179 </td></tr>\n",
       "\t<tr><th scope=row>X2</th><td>-9.919015e-01</td><td> 1.000000e+00</td><td> 0.1955016   </td><td> 8.807195e-01</td><td>-0.8581477   </td><td> 0.000000000 </td><td> 4.664140e-20</td><td>0.00000000   </td><td>-0.658120227 </td></tr>\n",
       "\t<tr><th scope=row>X3</th><td>-2.037817e-01</td><td> 1.955016e-01</td><td> 1.0000000   </td><td>-2.923165e-01</td><td> 0.2809757   </td><td> 0.000000000 </td><td> 0.000000e+00</td><td>0.00000000   </td><td> 0.455671157 </td></tr>\n",
       "\t<tr><th scope=row>X4</th><td>-8.688234e-01</td><td> 8.807195e-01</td><td>-0.2923165   </td><td> 1.000000e+00</td><td>-0.9725122   </td><td> 0.000000000 </td><td>-1.197187e-19</td><td>0.00000000   </td><td>-0.861828253 </td></tr>\n",
       "\t<tr><th scope=row>X5</th><td> 8.277473e-01</td><td>-8.581477e-01</td><td> 0.2809757   </td><td>-9.725122e-01</td><td> 1.0000000   </td><td> 0.000000000 </td><td> 0.000000e+00</td><td>0.00000000   </td><td> 0.889430674 </td></tr>\n",
       "\t<tr><th scope=row>X6</th><td> 0.000000e+00</td><td> 0.000000e+00</td><td> 0.0000000   </td><td> 0.000000e+00</td><td> 0.0000000   </td><td> 1.000000000 </td><td> 0.000000e+00</td><td>0.00000000   </td><td>-0.002586534 </td></tr>\n",
       "\t<tr><th scope=row>X7</th><td> 7.617400e-20</td><td> 4.664140e-20</td><td> 0.0000000   </td><td>-1.197187e-19</td><td> 0.0000000   </td><td> 0.000000000 </td><td> 1.000000e+00</td><td>0.21296422   </td><td> 0.269840996 </td></tr>\n",
       "\t<tr><th scope=row>X8</th><td> 0.000000e+00</td><td> 0.000000e+00</td><td> 0.0000000   </td><td> 0.000000e+00</td><td> 0.0000000   </td><td> 0.000000000 </td><td> 2.129642e-01</td><td>1.00000000   </td><td> 0.087367594 </td></tr>\n",
       "\t<tr><th scope=row>Y1</th><td> 6.222722e-01</td><td>-6.581202e-01</td><td> 0.4556712   </td><td>-8.618283e-01</td><td> 0.8894307   </td><td>-0.002586534 </td><td> 2.698410e-01</td><td>0.08736759   </td><td> 1.000000000 </td></tr>\n",
       "</tbody>\n",
       "</table>\n"
      ],
      "text/latex": [
       "\\begin{tabular}{r|lllllllll}\n",
       "  & X1 & X2 & X3 & X4 & X5 & X6 & X7 & X8 & Y1\\\\\n",
       "\\hline\n",
       "\tX1 &  1.000000e+00 & -9.919015e-01 & -0.2037817    & -8.688234e-01 &  0.8277473    &  0.000000000  &  7.617400e-20 & 0.00000000    &  0.622272179 \\\\\n",
       "\tX2 & -9.919015e-01 &  1.000000e+00 &  0.1955016    &  8.807195e-01 & -0.8581477    &  0.000000000  &  4.664140e-20 & 0.00000000    & -0.658120227 \\\\\n",
       "\tX3 & -2.037817e-01 &  1.955016e-01 &  1.0000000    & -2.923165e-01 &  0.2809757    &  0.000000000  &  0.000000e+00 & 0.00000000    &  0.455671157 \\\\\n",
       "\tX4 & -8.688234e-01 &  8.807195e-01 & -0.2923165    &  1.000000e+00 & -0.9725122    &  0.000000000  & -1.197187e-19 & 0.00000000    & -0.861828253 \\\\\n",
       "\tX5 &  8.277473e-01 & -8.581477e-01 &  0.2809757    & -9.725122e-01 &  1.0000000    &  0.000000000  &  0.000000e+00 & 0.00000000    &  0.889430674 \\\\\n",
       "\tX6 &  0.000000e+00 &  0.000000e+00 &  0.0000000    &  0.000000e+00 &  0.0000000    &  1.000000000  &  0.000000e+00 & 0.00000000    & -0.002586534 \\\\\n",
       "\tX7 &  7.617400e-20 &  4.664140e-20 &  0.0000000    & -1.197187e-19 &  0.0000000    &  0.000000000  &  1.000000e+00 & 0.21296422    &  0.269840996 \\\\\n",
       "\tX8 &  0.000000e+00 &  0.000000e+00 &  0.0000000    &  0.000000e+00 &  0.0000000    &  0.000000000  &  2.129642e-01 & 1.00000000    &  0.087367594 \\\\\n",
       "\tY1 &  6.222722e-01 & -6.581202e-01 &  0.4556712    & -8.618283e-01 &  0.8894307    & -0.002586534  &  2.698410e-01 & 0.08736759    &  1.000000000 \\\\\n",
       "\\end{tabular}\n"
      ],
      "text/markdown": [
       "\n",
       "| <!--/--> | X1 | X2 | X3 | X4 | X5 | X6 | X7 | X8 | Y1 |\n",
       "|---|---|---|---|---|---|---|---|---|---|\n",
       "| X1 |  1.000000e+00 | -9.919015e-01 | -0.2037817    | -8.688234e-01 |  0.8277473    |  0.000000000  |  7.617400e-20 | 0.00000000    |  0.622272179  |\n",
       "| X2 | -9.919015e-01 |  1.000000e+00 |  0.1955016    |  8.807195e-01 | -0.8581477    |  0.000000000  |  4.664140e-20 | 0.00000000    | -0.658120227  |\n",
       "| X3 | -2.037817e-01 |  1.955016e-01 |  1.0000000    | -2.923165e-01 |  0.2809757    |  0.000000000  |  0.000000e+00 | 0.00000000    |  0.455671157  |\n",
       "| X4 | -8.688234e-01 |  8.807195e-01 | -0.2923165    |  1.000000e+00 | -0.9725122    |  0.000000000  | -1.197187e-19 | 0.00000000    | -0.861828253  |\n",
       "| X5 |  8.277473e-01 | -8.581477e-01 |  0.2809757    | -9.725122e-01 |  1.0000000    |  0.000000000  |  0.000000e+00 | 0.00000000    |  0.889430674  |\n",
       "| X6 |  0.000000e+00 |  0.000000e+00 |  0.0000000    |  0.000000e+00 |  0.0000000    |  1.000000000  |  0.000000e+00 | 0.00000000    | -0.002586534  |\n",
       "| X7 |  7.617400e-20 |  4.664140e-20 |  0.0000000    | -1.197187e-19 |  0.0000000    |  0.000000000  |  1.000000e+00 | 0.21296422    |  0.269840996  |\n",
       "| X8 |  0.000000e+00 |  0.000000e+00 |  0.0000000    |  0.000000e+00 |  0.0000000    |  0.000000000  |  2.129642e-01 | 1.00000000    |  0.087367594  |\n",
       "| Y1 |  6.222722e-01 | -6.581202e-01 |  0.4556712    | -8.618283e-01 |  0.8894307    | -0.002586534  |  2.698410e-01 | 0.08736759    |  1.000000000  |\n",
       "\n"
      ],
      "text/plain": [
       "   X1            X2            X3         X4            X5         X6          \n",
       "X1  1.000000e+00 -9.919015e-01 -0.2037817 -8.688234e-01  0.8277473  0.000000000\n",
       "X2 -9.919015e-01  1.000000e+00  0.1955016  8.807195e-01 -0.8581477  0.000000000\n",
       "X3 -2.037817e-01  1.955016e-01  1.0000000 -2.923165e-01  0.2809757  0.000000000\n",
       "X4 -8.688234e-01  8.807195e-01 -0.2923165  1.000000e+00 -0.9725122  0.000000000\n",
       "X5  8.277473e-01 -8.581477e-01  0.2809757 -9.725122e-01  1.0000000  0.000000000\n",
       "X6  0.000000e+00  0.000000e+00  0.0000000  0.000000e+00  0.0000000  1.000000000\n",
       "X7  7.617400e-20  4.664140e-20  0.0000000 -1.197187e-19  0.0000000  0.000000000\n",
       "X8  0.000000e+00  0.000000e+00  0.0000000  0.000000e+00  0.0000000  0.000000000\n",
       "Y1  6.222722e-01 -6.581202e-01  0.4556712 -8.618283e-01  0.8894307 -0.002586534\n",
       "   X7            X8         Y1          \n",
       "X1  7.617400e-20 0.00000000  0.622272179\n",
       "X2  4.664140e-20 0.00000000 -0.658120227\n",
       "X3  0.000000e+00 0.00000000  0.455671157\n",
       "X4 -1.197187e-19 0.00000000 -0.861828253\n",
       "X5  0.000000e+00 0.00000000  0.889430674\n",
       "X6  0.000000e+00 0.00000000 -0.002586534\n",
       "X7  1.000000e+00 0.21296422  0.269840996\n",
       "X8  2.129642e-01 1.00000000  0.087367594\n",
       "Y1  2.698410e-01 0.08736759  1.000000000"
      ]
     },
     "metadata": {},
     "output_type": "display_data"
    }
   ],
   "source": [
    "(corrmatrix<-cor(df)) #상관계수 행렬"
   ]
  },
  {
   "cell_type": "code",
   "execution_count": 4,
   "metadata": {},
   "outputs": [
    {
     "name": "stderr",
     "output_type": "stream",
     "text": [
      "Warning message:\n",
      "\"package 'corrplot' was built under R version 3.6.2\"corrplot 0.84 loaded\n"
     ]
    },
    {
     "data": {
      "image/png": "[encoded data removed]",
      "text/plain": [
       "Plot with title \"\""
      ]
     },
     "metadata": {},
     "output_type": "display_data"
    }
   ],
   "source": [
    "library(corrplot)\n",
    "corrplot(cor(df), method='circle') #상관계수 플로팅"
   ]
  },
  {
   "cell_type": "code",
   "execution_count": 6,
   "metadata": {},
   "outputs": [
    {
     "data": {
      "text/plain": [
       "\n",
       "Call:\n",
       "lm(formula = Y1 ~ ., data = df)\n",
       "\n",
       "Coefficients:\n",
       "(Intercept)           X1           X2           X3           X4           X5  \n",
       "   84.01452    -64.77399     -0.08729      0.06081           NA      4.16994  \n",
       "         X6           X7           X8  \n",
       "   -0.02333     19.93268      0.20377  \n"
      ]
     },
     "metadata": {},
     "output_type": "display_data"
    }
   ],
   "source": [
    "(model<-lm(Y1 ~ . , data=df)) #다중회귀분석 모형"
   ]
  },
  {
   "cell_type": "code",
   "execution_count": 7,
   "metadata": {},
   "outputs": [
    {
     "data": {
      "text/plain": [
       "\n",
       "Call:\n",
       "lm(formula = Y1 ~ ., data = df)\n",
       "\n",
       "Residuals:\n",
       "    Min      1Q  Median      3Q     Max \n",
       "-9.8965 -1.3196 -0.0252  1.3532  7.7052 \n",
       "\n",
       "Coefficients: (1 not defined because of singularities)\n",
       "              Estimate Std. Error t value Pr(>|t|)    \n",
       "(Intercept)  84.014521  19.033607   4.414 1.16e-05 ***\n",
       "X1          -64.773991  10.289445  -6.295 5.19e-10 ***\n",
       "X2           -0.087290   0.017075  -5.112 4.04e-07 ***\n",
       "X3            0.060813   0.006648   9.148  < 2e-16 ***\n",
       "X4                  NA         NA      NA       NA    \n",
       "X5            4.169939   0.337990  12.337  < 2e-16 ***\n",
       "X6           -0.023328   0.094705  -0.246  0.80550    \n",
       "X7           19.932680   0.813986  24.488  < 2e-16 ***\n",
       "X8            0.203772   0.069918   2.914  0.00367 ** \n",
       "---\n",
       "Signif. codes:  0 '***' 0.001 '**' 0.01 '*' 0.05 '.' 0.1 ' ' 1\n",
       "\n",
       "Residual standard error: 2.934 on 760 degrees of freedom\n",
       "Multiple R-squared:  0.9162,\tAdjusted R-squared:  0.9154 \n",
       "F-statistic:  1187 on 7 and 760 DF,  p-value: < 2.2e-16\n"
      ]
     },
     "metadata": {},
     "output_type": "display_data"
    }
   ],
   "source": [
    "summary(model) #모형 요약 #X4 샘플갯수가 적어 NA 표시됨\n",
    "#Adjusted R-squared:  0.9154  91.5%\n",
    "#p-value: < 2.2e-16"
   ]
  },
  {
   "cell_type": "code",
   "execution_count": 8,
   "metadata": {},
   "outputs": [
    {
     "name": "stdout",
     "output_type": "stream",
     "text": [
      "Start:  AIC=1661.42\n",
      "Y1 ~ X1 + X2 + X3 + X4 + X5 + X6 + X7 + X8\n",
      "\n",
      "\n",
      "Step:  AIC=1661.42\n",
      "Y1 ~ X1 + X2 + X3 + X5 + X6 + X7 + X8\n",
      "\n",
      "       Df Sum of Sq     RSS    AIC\n",
      "- X6    1       0.5  6544.3 1659.5\n",
      "<none>               6543.8 1661.4\n",
      "- X8    1      73.1  6616.9 1668.0\n",
      "- X2    1     225.0  6768.8 1685.4\n",
      "- X1    1     341.2  6885.0 1698.5\n",
      "- X3    1     720.5  7264.3 1739.7\n",
      "- X5    1    1310.6  7854.4 1799.6\n",
      "- X7    1    5163.1 11706.9 2106.1\n",
      "\n",
      "Step:  AIC=1659.48\n",
      "Y1 ~ X1 + X2 + X3 + X5 + X7 + X8\n",
      "\n",
      "       Df Sum of Sq     RSS    AIC\n",
      "<none>               6544.3 1659.5\n",
      "- X8    1      73.1  6617.4 1666.0\n",
      "- X2    1     225.0  6769.3 1683.5\n",
      "- X1    1     341.2  6885.5 1696.5\n",
      "- X3    1     720.5  7264.8 1737.7\n",
      "- X5    1    1310.6  7854.9 1797.7\n",
      "- X7    1    5163.1 11707.4 2104.2\n"
     ]
    },
    {
     "data": {
      "text/plain": [
       "\n",
       "Call:\n",
       "lm(formula = Y1 ~ X1 + X2 + X3 + X5 + X7 + X8, data = df)\n",
       "\n",
       "Residuals:\n",
       "    Min      1Q  Median      3Q     Max \n",
       "-9.9315 -1.3189 -0.0263  1.3586  7.7169 \n",
       "\n",
       "Coefficients:\n",
       "              Estimate Std. Error t value Pr(>|t|)    \n",
       "(Intercept)  83.932873  19.018972   4.413 1.17e-05 ***\n",
       "X1          -64.773991  10.283093  -6.299 5.06e-10 ***\n",
       "X2           -0.087290   0.017065  -5.115 3.97e-07 ***\n",
       "X3            0.060813   0.006644   9.153  < 2e-16 ***\n",
       "X5            4.169939   0.337781  12.345  < 2e-16 ***\n",
       "X7           19.932680   0.813483  24.503  < 2e-16 ***\n",
       "X8            0.203772   0.069875   2.916  0.00365 ** \n",
       "---\n",
       "Signif. codes:  0 '***' 0.001 '**' 0.01 '*' 0.05 '.' 0.1 ' ' 1\n",
       "\n",
       "Residual standard error: 2.933 on 761 degrees of freedom\n",
       "Multiple R-squared:  0.9162,\tAdjusted R-squared:  0.9155 \n",
       "F-statistic:  1387 on 6 and 761 DF,  p-value: < 2.2e-16\n"
      ]
     },
     "metadata": {},
     "output_type": "display_data"
    }
   ],
   "source": [
    "reduced<-step(model,direction='backward') #후진제거법\n",
    "summary(reduced)#최종모형\n",
    "#Adjusted R-squared:  0.9155 \n",
    "#p-value: < 2.2e-16"
   ]
  },
  {
   "cell_type": "code",
   "execution_count": null,
   "metadata": {},
   "outputs": [],
   "source": []
  },
  {
   "cell_type": "code",
   "execution_count": null,
   "metadata": {},
   "outputs": [],
   "source": []
  },
  {
   "cell_type": "code",
   "execution_count": null,
   "metadata": {},
   "outputs": [],
   "source": []
  }
 ],
 "metadata": {
  "kernelspec": {
   "display_name": "R",
   "language": "R",
   "name": "ir"
  },
  "language_info": {
   "codemirror_mode": "r",
   "file_extension": ".r",
   "mimetype": "text/x-r-source",
   "name": "R",
   "pygments_lexer": "r",
   "version": "3.6.1"
  }
 },
 "nbformat": 4,
 "nbformat_minor": 2
}
