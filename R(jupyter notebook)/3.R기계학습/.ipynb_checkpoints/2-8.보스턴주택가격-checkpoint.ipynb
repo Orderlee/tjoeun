{
 "cells": [
  {
   "cell_type": "code",
   "execution_count": 1,
   "metadata": {},
   "outputs": [
    {
     "data": {
      "text/html": [
       "<table>\n",
       "<thead><tr><th scope=col>crim</th><th scope=col>zn</th><th scope=col>indus</th><th scope=col>chas</th><th scope=col>nox</th><th scope=col>rm</th><th scope=col>age</th><th scope=col>dis</th><th scope=col>rad</th><th scope=col>tax</th><th scope=col>ptratio</th><th scope=col>black</th><th scope=col>lstat</th><th scope=col>medv</th></tr></thead>\n",
       "<tbody>\n",
       "\t<tr><td>0.00632</td><td>18     </td><td>2.31   </td><td>0      </td><td>0.538  </td><td>6.575  </td><td>65.2   </td><td>4.0900 </td><td>1      </td><td>296    </td><td>15.3   </td><td>396.90 </td><td>4.98   </td><td>24.0   </td></tr>\n",
       "\t<tr><td>0.02731</td><td> 0     </td><td>7.07   </td><td>0      </td><td>0.469  </td><td>6.421  </td><td>78.9   </td><td>4.9671 </td><td>2      </td><td>242    </td><td>17.8   </td><td>396.90 </td><td>9.14   </td><td>21.6   </td></tr>\n",
       "\t<tr><td>0.02729</td><td> 0     </td><td>7.07   </td><td>0      </td><td>0.469  </td><td>7.185  </td><td>61.1   </td><td>4.9671 </td><td>2      </td><td>242    </td><td>17.8   </td><td>392.83 </td><td>4.03   </td><td>34.7   </td></tr>\n",
       "\t<tr><td>0.03237</td><td> 0     </td><td>2.18   </td><td>0      </td><td>0.458  </td><td>6.998  </td><td>45.8   </td><td>6.0622 </td><td>3      </td><td>222    </td><td>18.7   </td><td>394.63 </td><td>2.94   </td><td>33.4   </td></tr>\n",
       "\t<tr><td>0.06905</td><td> 0     </td><td>2.18   </td><td>0      </td><td>0.458  </td><td>7.147  </td><td>54.2   </td><td>6.0622 </td><td>3      </td><td>222    </td><td>18.7   </td><td>396.90 </td><td>5.33   </td><td>36.2   </td></tr>\n",
       "\t<tr><td>0.02985</td><td> 0     </td><td>2.18   </td><td>0      </td><td>0.458  </td><td>6.430  </td><td>58.7   </td><td>6.0622 </td><td>3      </td><td>222    </td><td>18.7   </td><td>394.12 </td><td>5.21   </td><td>28.7   </td></tr>\n",
       "</tbody>\n",
       "</table>\n"
      ],
      "text/latex": [
       "\\begin{tabular}{r|llllllllllllll}\n",
       " crim & zn & indus & chas & nox & rm & age & dis & rad & tax & ptratio & black & lstat & medv\\\\\n",
       "\\hline\n",
       "\t 0.00632 & 18      & 2.31    & 0       & 0.538   & 6.575   & 65.2    & 4.0900  & 1       & 296     & 15.3    & 396.90  & 4.98    & 24.0   \\\\\n",
       "\t 0.02731 &  0      & 7.07    & 0       & 0.469   & 6.421   & 78.9    & 4.9671  & 2       & 242     & 17.8    & 396.90  & 9.14    & 21.6   \\\\\n",
       "\t 0.02729 &  0      & 7.07    & 0       & 0.469   & 7.185   & 61.1    & 4.9671  & 2       & 242     & 17.8    & 392.83  & 4.03    & 34.7   \\\\\n",
       "\t 0.03237 &  0      & 2.18    & 0       & 0.458   & 6.998   & 45.8    & 6.0622  & 3       & 222     & 18.7    & 394.63  & 2.94    & 33.4   \\\\\n",
       "\t 0.06905 &  0      & 2.18    & 0       & 0.458   & 7.147   & 54.2    & 6.0622  & 3       & 222     & 18.7    & 396.90  & 5.33    & 36.2   \\\\\n",
       "\t 0.02985 &  0      & 2.18    & 0       & 0.458   & 6.430   & 58.7    & 6.0622  & 3       & 222     & 18.7    & 394.12  & 5.21    & 28.7   \\\\\n",
       "\\end{tabular}\n"
      ],
      "text/markdown": [
       "\n",
       "| crim | zn | indus | chas | nox | rm | age | dis | rad | tax | ptratio | black | lstat | medv |\n",
       "|---|---|---|---|---|---|---|---|---|---|---|---|---|---|\n",
       "| 0.00632 | 18      | 2.31    | 0       | 0.538   | 6.575   | 65.2    | 4.0900  | 1       | 296     | 15.3    | 396.90  | 4.98    | 24.0    |\n",
       "| 0.02731 |  0      | 7.07    | 0       | 0.469   | 6.421   | 78.9    | 4.9671  | 2       | 242     | 17.8    | 396.90  | 9.14    | 21.6    |\n",
       "| 0.02729 |  0      | 7.07    | 0       | 0.469   | 7.185   | 61.1    | 4.9671  | 2       | 242     | 17.8    | 392.83  | 4.03    | 34.7    |\n",
       "| 0.03237 |  0      | 2.18    | 0       | 0.458   | 6.998   | 45.8    | 6.0622  | 3       | 222     | 18.7    | 394.63  | 2.94    | 33.4    |\n",
       "| 0.06905 |  0      | 2.18    | 0       | 0.458   | 7.147   | 54.2    | 6.0622  | 3       | 222     | 18.7    | 396.90  | 5.33    | 36.2    |\n",
       "| 0.02985 |  0      | 2.18    | 0       | 0.458   | 6.430   | 58.7    | 6.0622  | 3       | 222     | 18.7    | 394.12  | 5.21    | 28.7    |\n",
       "\n"
      ],
      "text/plain": [
       "  crim    zn indus chas nox   rm    age  dis    rad tax ptratio black  lstat\n",
       "1 0.00632 18 2.31  0    0.538 6.575 65.2 4.0900 1   296 15.3    396.90 4.98 \n",
       "2 0.02731  0 7.07  0    0.469 6.421 78.9 4.9671 2   242 17.8    396.90 9.14 \n",
       "3 0.02729  0 7.07  0    0.469 7.185 61.1 4.9671 2   242 17.8    392.83 4.03 \n",
       "4 0.03237  0 2.18  0    0.458 6.998 45.8 6.0622 3   222 18.7    394.63 2.94 \n",
       "5 0.06905  0 2.18  0    0.458 7.147 54.2 6.0622 3   222 18.7    396.90 5.33 \n",
       "6 0.02985  0 2.18  0    0.458 6.430 58.7 6.0622 3   222 18.7    394.12 5.21 \n",
       "  medv\n",
       "1 24.0\n",
       "2 21.6\n",
       "3 34.7\n",
       "4 33.4\n",
       "5 36.2\n",
       "6 28.7"
      ]
     },
     "metadata": {},
     "output_type": "display_data"
    },
    {
     "data": {
      "text/html": [
       "<table>\n",
       "<thead><tr><th></th><th scope=col>crim</th><th scope=col>zn</th><th scope=col>indus</th><th scope=col>chas</th><th scope=col>nox</th><th scope=col>rm</th><th scope=col>age</th><th scope=col>dis</th><th scope=col>rad</th><th scope=col>tax</th><th scope=col>ptratio</th><th scope=col>black</th><th scope=col>lstat</th><th scope=col>medv</th></tr></thead>\n",
       "<tbody>\n",
       "\t<tr><th scope=row>501</th><td>0.22438</td><td>0      </td><td> 9.69  </td><td>0      </td><td>0.585  </td><td>6.027  </td><td>79.7   </td><td>2.4982 </td><td>6      </td><td>391    </td><td>19.2   </td><td>396.90 </td><td>14.33  </td><td>16.8   </td></tr>\n",
       "\t<tr><th scope=row>502</th><td>0.06263</td><td>0      </td><td>11.93  </td><td>0      </td><td>0.573  </td><td>6.593  </td><td>69.1   </td><td>2.4786 </td><td>1      </td><td>273    </td><td>21.0   </td><td>391.99 </td><td> 9.67  </td><td>22.4   </td></tr>\n",
       "\t<tr><th scope=row>503</th><td>0.04527</td><td>0      </td><td>11.93  </td><td>0      </td><td>0.573  </td><td>6.120  </td><td>76.7   </td><td>2.2875 </td><td>1      </td><td>273    </td><td>21.0   </td><td>396.90 </td><td> 9.08  </td><td>20.6   </td></tr>\n",
       "\t<tr><th scope=row>504</th><td>0.06076</td><td>0      </td><td>11.93  </td><td>0      </td><td>0.573  </td><td>6.976  </td><td>91.0   </td><td>2.1675 </td><td>1      </td><td>273    </td><td>21.0   </td><td>396.90 </td><td> 5.64  </td><td>23.9   </td></tr>\n",
       "\t<tr><th scope=row>505</th><td>0.10959</td><td>0      </td><td>11.93  </td><td>0      </td><td>0.573  </td><td>6.794  </td><td>89.3   </td><td>2.3889 </td><td>1      </td><td>273    </td><td>21.0   </td><td>393.45 </td><td> 6.48  </td><td>22.0   </td></tr>\n",
       "\t<tr><th scope=row>506</th><td>0.04741</td><td>0      </td><td>11.93  </td><td>0      </td><td>0.573  </td><td>6.030  </td><td>80.8   </td><td>2.5050 </td><td>1      </td><td>273    </td><td>21.0   </td><td>396.90 </td><td> 7.88  </td><td>11.9   </td></tr>\n",
       "</tbody>\n",
       "</table>\n"
      ],
      "text/latex": [
       "\\begin{tabular}{r|llllllllllllll}\n",
       "  & crim & zn & indus & chas & nox & rm & age & dis & rad & tax & ptratio & black & lstat & medv\\\\\n",
       "\\hline\n",
       "\t501 & 0.22438 & 0       &  9.69   & 0       & 0.585   & 6.027   & 79.7    & 2.4982  & 6       & 391     & 19.2    & 396.90  & 14.33   & 16.8   \\\\\n",
       "\t502 & 0.06263 & 0       & 11.93   & 0       & 0.573   & 6.593   & 69.1    & 2.4786  & 1       & 273     & 21.0    & 391.99  &  9.67   & 22.4   \\\\\n",
       "\t503 & 0.04527 & 0       & 11.93   & 0       & 0.573   & 6.120   & 76.7    & 2.2875  & 1       & 273     & 21.0    & 396.90  &  9.08   & 20.6   \\\\\n",
       "\t504 & 0.06076 & 0       & 11.93   & 0       & 0.573   & 6.976   & 91.0    & 2.1675  & 1       & 273     & 21.0    & 396.90  &  5.64   & 23.9   \\\\\n",
       "\t505 & 0.10959 & 0       & 11.93   & 0       & 0.573   & 6.794   & 89.3    & 2.3889  & 1       & 273     & 21.0    & 393.45  &  6.48   & 22.0   \\\\\n",
       "\t506 & 0.04741 & 0       & 11.93   & 0       & 0.573   & 6.030   & 80.8    & 2.5050  & 1       & 273     & 21.0    & 396.90  &  7.88   & 11.9   \\\\\n",
       "\\end{tabular}\n"
      ],
      "text/markdown": [
       "\n",
       "| <!--/--> | crim | zn | indus | chas | nox | rm | age | dis | rad | tax | ptratio | black | lstat | medv |\n",
       "|---|---|---|---|---|---|---|---|---|---|---|---|---|---|---|\n",
       "| 501 | 0.22438 | 0       |  9.69   | 0       | 0.585   | 6.027   | 79.7    | 2.4982  | 6       | 391     | 19.2    | 396.90  | 14.33   | 16.8    |\n",
       "| 502 | 0.06263 | 0       | 11.93   | 0       | 0.573   | 6.593   | 69.1    | 2.4786  | 1       | 273     | 21.0    | 391.99  |  9.67   | 22.4    |\n",
       "| 503 | 0.04527 | 0       | 11.93   | 0       | 0.573   | 6.120   | 76.7    | 2.2875  | 1       | 273     | 21.0    | 396.90  |  9.08   | 20.6    |\n",
       "| 504 | 0.06076 | 0       | 11.93   | 0       | 0.573   | 6.976   | 91.0    | 2.1675  | 1       | 273     | 21.0    | 396.90  |  5.64   | 23.9    |\n",
       "| 505 | 0.10959 | 0       | 11.93   | 0       | 0.573   | 6.794   | 89.3    | 2.3889  | 1       | 273     | 21.0    | 393.45  |  6.48   | 22.0    |\n",
       "| 506 | 0.04741 | 0       | 11.93   | 0       | 0.573   | 6.030   | 80.8    | 2.5050  | 1       | 273     | 21.0    | 396.90  |  7.88   | 11.9    |\n",
       "\n"
      ],
      "text/plain": [
       "    crim    zn indus chas nox   rm    age  dis    rad tax ptratio black  lstat\n",
       "501 0.22438 0   9.69 0    0.585 6.027 79.7 2.4982 6   391 19.2    396.90 14.33\n",
       "502 0.06263 0  11.93 0    0.573 6.593 69.1 2.4786 1   273 21.0    391.99  9.67\n",
       "503 0.04527 0  11.93 0    0.573 6.120 76.7 2.2875 1   273 21.0    396.90  9.08\n",
       "504 0.06076 0  11.93 0    0.573 6.976 91.0 2.1675 1   273 21.0    396.90  5.64\n",
       "505 0.10959 0  11.93 0    0.573 6.794 89.3 2.3889 1   273 21.0    393.45  6.48\n",
       "506 0.04741 0  11.93 0    0.573 6.030 80.8 2.5050 1   273 21.0    396.90  7.88\n",
       "    medv\n",
       "501 16.8\n",
       "502 22.4\n",
       "503 20.6\n",
       "504 23.9\n",
       "505 22.0\n",
       "506 11.9"
      ]
     },
     "metadata": {},
     "output_type": "display_data"
    }
   ],
   "source": [
    "library(MASS)\n",
    "head(Boston)\n",
    "tail(Boston)"
   ]
  },
  {
   "cell_type": "code",
   "execution_count": 2,
   "metadata": {},
   "outputs": [
    {
     "data": {
      "text/html": [
       "<ol class=list-inline>\n",
       "\t<li>506</li>\n",
       "\t<li>14</li>\n",
       "</ol>\n"
      ],
      "text/latex": [
       "\\begin{enumerate*}\n",
       "\\item 506\n",
       "\\item 14\n",
       "\\end{enumerate*}\n"
      ],
      "text/markdown": [
       "1. 506\n",
       "2. 14\n",
       "\n",
       "\n"
      ],
      "text/plain": [
       "[1] 506  14"
      ]
     },
     "metadata": {},
     "output_type": "display_data"
    }
   ],
   "source": [
    "dim(Boston) #데이터의 차원(형태) "
   ]
  },
  {
   "cell_type": "code",
   "execution_count": 3,
   "metadata": {},
   "outputs": [
    {
     "data": {
      "text/plain": [
       "      crim                zn             indus            chas        \n",
       " Min.   : 0.00632   Min.   :  0.00   Min.   : 0.46   Min.   :0.00000  \n",
       " 1st Qu.: 0.08204   1st Qu.:  0.00   1st Qu.: 5.19   1st Qu.:0.00000  \n",
       " Median : 0.25651   Median :  0.00   Median : 9.69   Median :0.00000  \n",
       " Mean   : 3.61352   Mean   : 11.36   Mean   :11.14   Mean   :0.06917  \n",
       " 3rd Qu.: 3.67708   3rd Qu.: 12.50   3rd Qu.:18.10   3rd Qu.:0.00000  \n",
       " Max.   :88.97620   Max.   :100.00   Max.   :27.74   Max.   :1.00000  \n",
       "      nox               rm             age              dis        \n",
       " Min.   :0.3850   Min.   :3.561   Min.   :  2.90   Min.   : 1.130  \n",
       " 1st Qu.:0.4490   1st Qu.:5.886   1st Qu.: 45.02   1st Qu.: 2.100  \n",
       " Median :0.5380   Median :6.208   Median : 77.50   Median : 3.207  \n",
       " Mean   :0.5547   Mean   :6.285   Mean   : 68.57   Mean   : 3.795  \n",
       " 3rd Qu.:0.6240   3rd Qu.:6.623   3rd Qu.: 94.08   3rd Qu.: 5.188  \n",
       " Max.   :0.8710   Max.   :8.780   Max.   :100.00   Max.   :12.127  \n",
       "      rad              tax           ptratio          black       \n",
       " Min.   : 1.000   Min.   :187.0   Min.   :12.60   Min.   :  0.32  \n",
       " 1st Qu.: 4.000   1st Qu.:279.0   1st Qu.:17.40   1st Qu.:375.38  \n",
       " Median : 5.000   Median :330.0   Median :19.05   Median :391.44  \n",
       " Mean   : 9.549   Mean   :408.2   Mean   :18.46   Mean   :356.67  \n",
       " 3rd Qu.:24.000   3rd Qu.:666.0   3rd Qu.:20.20   3rd Qu.:396.23  \n",
       " Max.   :24.000   Max.   :711.0   Max.   :22.00   Max.   :396.90  \n",
       "     lstat            medv      \n",
       " Min.   : 1.73   Min.   : 5.00  \n",
       " 1st Qu.: 6.95   1st Qu.:17.02  \n",
       " Median :11.36   Median :21.20  \n",
       " Mean   :12.65   Mean   :22.53  \n",
       " 3rd Qu.:16.95   3rd Qu.:25.00  \n",
       " Max.   :37.97   Max.   :50.00  "
      ]
     },
     "metadata": {},
     "output_type": "display_data"
    }
   ],
   "source": [
    "summary(Boston) #데이터의 기초통계량"
   ]
  },
  {
   "cell_type": "code",
   "execution_count": 4,
   "metadata": {},
   "outputs": [
    {
     "data": {
      "image/png": "[encoded data removed]",
      "text/plain": [
       "plot without title"
      ]
     },
     "metadata": {},
     "output_type": "display_data"
    }
   ],
   "source": [
    "pairs(Boston) #산점도 행렬"
   ]
  },
  {
   "cell_type": "code",
   "execution_count": 5,
   "metadata": {},
   "outputs": [
    {
     "data": {
      "image/png": "[encoded data removed]",
      "text/plain": [
       "Plot with title \"범죄율과 주택가격\""
      ]
     },
     "metadata": {},
     "output_type": "display_data"
    }
   ],
   "source": [
    "# plot(y ~ x)\n",
    "plot(crim ~ medv, data=Boston, main='범죄율과 주택가격',\n",
    "    xlab='주택가격', ylab='범죄율')"
   ]
  },
  {
   "cell_type": "code",
   "execution_count": 6,
   "metadata": {},
   "outputs": [
    {
     "data": {
      "text/html": [
       "<table>\n",
       "<thead><tr><th></th><th scope=col>crim</th><th scope=col>zn</th><th scope=col>indus</th><th scope=col>chas</th><th scope=col>nox</th><th scope=col>rm</th><th scope=col>age</th><th scope=col>dis</th><th scope=col>rad</th><th scope=col>tax</th><th scope=col>ptratio</th><th scope=col>black</th><th scope=col>lstat</th><th scope=col>medv</th></tr></thead>\n",
       "<tbody>\n",
       "\t<tr><th scope=row>crim</th><td> 1.00000000 </td><td>-0.20046922 </td><td> 0.40658341 </td><td>-0.055891582</td><td> 0.42097171 </td><td>-0.21924670 </td><td> 0.35273425 </td><td>-0.37967009 </td><td> 0.625505145</td><td> 0.58276431 </td><td> 0.2899456  </td><td>-0.38506394 </td><td> 0.4556215  </td><td>-0.3883046  </td></tr>\n",
       "\t<tr><th scope=row>zn</th><td>-0.20046922 </td><td> 1.00000000 </td><td>-0.53382819 </td><td>-0.042696719</td><td>-0.51660371 </td><td> 0.31199059 </td><td>-0.56953734 </td><td> 0.66440822 </td><td>-0.311947826</td><td>-0.31456332 </td><td>-0.3916785  </td><td> 0.17552032 </td><td>-0.4129946  </td><td> 0.3604453  </td></tr>\n",
       "\t<tr><th scope=row>indus</th><td> 0.40658341 </td><td>-0.53382819 </td><td> 1.00000000 </td><td> 0.062938027</td><td> 0.76365145 </td><td>-0.39167585 </td><td> 0.64477851 </td><td>-0.70802699 </td><td> 0.595129275</td><td> 0.72076018 </td><td> 0.3832476  </td><td>-0.35697654 </td><td> 0.6037997  </td><td>-0.4837252  </td></tr>\n",
       "\t<tr><th scope=row>chas</th><td>-0.05589158 </td><td>-0.04269672 </td><td> 0.06293803 </td><td> 1.000000000</td><td> 0.09120281 </td><td> 0.09125123 </td><td> 0.08651777 </td><td>-0.09917578 </td><td>-0.007368241</td><td>-0.03558652 </td><td>-0.1215152  </td><td> 0.04878848 </td><td>-0.0539293  </td><td> 0.1752602  </td></tr>\n",
       "\t<tr><th scope=row>nox</th><td> 0.42097171 </td><td>-0.51660371 </td><td> 0.76365145 </td><td> 0.091202807</td><td> 1.00000000 </td><td>-0.30218819 </td><td> 0.73147010 </td><td>-0.76923011 </td><td> 0.611440563</td><td> 0.66802320 </td><td> 0.1889327  </td><td>-0.38005064 </td><td> 0.5908789  </td><td>-0.4273208  </td></tr>\n",
       "\t<tr><th scope=row>rm</th><td>-0.21924670 </td><td> 0.31199059 </td><td>-0.39167585 </td><td> 0.091251225</td><td>-0.30218819 </td><td> 1.00000000 </td><td>-0.24026493 </td><td> 0.20524621 </td><td>-0.209846668</td><td>-0.29204783 </td><td>-0.3555015  </td><td> 0.12806864 </td><td>-0.6138083  </td><td> 0.6953599  </td></tr>\n",
       "\t<tr><th scope=row>age</th><td> 0.35273425 </td><td>-0.56953734 </td><td> 0.64477851 </td><td> 0.086517774</td><td> 0.73147010 </td><td>-0.24026493 </td><td> 1.00000000 </td><td>-0.74788054 </td><td> 0.456022452</td><td> 0.50645559 </td><td> 0.2615150  </td><td>-0.27353398 </td><td> 0.6023385  </td><td>-0.3769546  </td></tr>\n",
       "\t<tr><th scope=row>dis</th><td>-0.37967009 </td><td> 0.66440822 </td><td>-0.70802699 </td><td>-0.099175780</td><td>-0.76923011 </td><td> 0.20524621 </td><td>-0.74788054 </td><td> 1.00000000 </td><td>-0.494587930</td><td>-0.53443158 </td><td>-0.2324705  </td><td> 0.29151167 </td><td>-0.4969958  </td><td> 0.2499287  </td></tr>\n",
       "\t<tr><th scope=row>rad</th><td> 0.62550515 </td><td>-0.31194783 </td><td> 0.59512927 </td><td>-0.007368241</td><td> 0.61144056 </td><td>-0.20984667 </td><td> 0.45602245 </td><td>-0.49458793 </td><td> 1.000000000</td><td> 0.91022819 </td><td> 0.4647412  </td><td>-0.44441282 </td><td> 0.4886763  </td><td>-0.3816262  </td></tr>\n",
       "\t<tr><th scope=row>tax</th><td> 0.58276431 </td><td>-0.31456332 </td><td> 0.72076018 </td><td>-0.035586518</td><td> 0.66802320 </td><td>-0.29204783 </td><td> 0.50645559 </td><td>-0.53443158 </td><td> 0.910228189</td><td> 1.00000000 </td><td> 0.4608530  </td><td>-0.44180801 </td><td> 0.5439934  </td><td>-0.4685359  </td></tr>\n",
       "\t<tr><th scope=row>ptratio</th><td> 0.28994558 </td><td>-0.39167855 </td><td> 0.38324756 </td><td>-0.121515174</td><td> 0.18893268 </td><td>-0.35550149 </td><td> 0.26151501 </td><td>-0.23247054 </td><td> 0.464741179</td><td> 0.46085304 </td><td> 1.0000000  </td><td>-0.17738330 </td><td> 0.3740443  </td><td>-0.5077867  </td></tr>\n",
       "\t<tr><th scope=row>black</th><td>-0.38506394 </td><td> 0.17552032 </td><td>-0.35697654 </td><td> 0.048788485</td><td>-0.38005064 </td><td> 0.12806864 </td><td>-0.27353398 </td><td> 0.29151167 </td><td>-0.444412816</td><td>-0.44180801 </td><td>-0.1773833  </td><td> 1.00000000 </td><td>-0.3660869  </td><td> 0.3334608  </td></tr>\n",
       "\t<tr><th scope=row>lstat</th><td> 0.45562148 </td><td>-0.41299457 </td><td> 0.60379972 </td><td>-0.053929298</td><td> 0.59087892 </td><td>-0.61380827 </td><td> 0.60233853 </td><td>-0.49699583 </td><td> 0.488676335</td><td> 0.54399341 </td><td> 0.3740443  </td><td>-0.36608690 </td><td> 1.0000000  </td><td>-0.7376627  </td></tr>\n",
       "\t<tr><th scope=row>medv</th><td>-0.38830461 </td><td> 0.36044534 </td><td>-0.48372516 </td><td> 0.175260177</td><td>-0.42732077 </td><td> 0.69535995 </td><td>-0.37695457 </td><td> 0.24992873 </td><td>-0.381626231</td><td>-0.46853593 </td><td>-0.5077867  </td><td> 0.33346082 </td><td>-0.7376627  </td><td> 1.0000000  </td></tr>\n",
       "</tbody>\n",
       "</table>\n"
      ],
      "text/latex": [
       "\\begin{tabular}{r|llllllllllllll}\n",
       "  & crim & zn & indus & chas & nox & rm & age & dis & rad & tax & ptratio & black & lstat & medv\\\\\n",
       "\\hline\n",
       "\tcrim &  1.00000000  & -0.20046922  &  0.40658341  & -0.055891582 &  0.42097171  & -0.21924670  &  0.35273425  & -0.37967009  &  0.625505145 &  0.58276431  &  0.2899456   & -0.38506394  &  0.4556215   & -0.3883046  \\\\\n",
       "\tzn & -0.20046922  &  1.00000000  & -0.53382819  & -0.042696719 & -0.51660371  &  0.31199059  & -0.56953734  &  0.66440822  & -0.311947826 & -0.31456332  & -0.3916785   &  0.17552032  & -0.4129946   &  0.3604453  \\\\\n",
       "\tindus &  0.40658341  & -0.53382819  &  1.00000000  &  0.062938027 &  0.76365145  & -0.39167585  &  0.64477851  & -0.70802699  &  0.595129275 &  0.72076018  &  0.3832476   & -0.35697654  &  0.6037997   & -0.4837252  \\\\\n",
       "\tchas & -0.05589158  & -0.04269672  &  0.06293803  &  1.000000000 &  0.09120281  &  0.09125123  &  0.08651777  & -0.09917578  & -0.007368241 & -0.03558652  & -0.1215152   &  0.04878848  & -0.0539293   &  0.1752602  \\\\\n",
       "\tnox &  0.42097171  & -0.51660371  &  0.76365145  &  0.091202807 &  1.00000000  & -0.30218819  &  0.73147010  & -0.76923011  &  0.611440563 &  0.66802320  &  0.1889327   & -0.38005064  &  0.5908789   & -0.4273208  \\\\\n",
       "\trm & -0.21924670  &  0.31199059  & -0.39167585  &  0.091251225 & -0.30218819  &  1.00000000  & -0.24026493  &  0.20524621  & -0.209846668 & -0.29204783  & -0.3555015   &  0.12806864  & -0.6138083   &  0.6953599  \\\\\n",
       "\tage &  0.35273425  & -0.56953734  &  0.64477851  &  0.086517774 &  0.73147010  & -0.24026493  &  1.00000000  & -0.74788054  &  0.456022452 &  0.50645559  &  0.2615150   & -0.27353398  &  0.6023385   & -0.3769546  \\\\\n",
       "\tdis & -0.37967009  &  0.66440822  & -0.70802699  & -0.099175780 & -0.76923011  &  0.20524621  & -0.74788054  &  1.00000000  & -0.494587930 & -0.53443158  & -0.2324705   &  0.29151167  & -0.4969958   &  0.2499287  \\\\\n",
       "\trad &  0.62550515  & -0.31194783  &  0.59512927  & -0.007368241 &  0.61144056  & -0.20984667  &  0.45602245  & -0.49458793  &  1.000000000 &  0.91022819  &  0.4647412   & -0.44441282  &  0.4886763   & -0.3816262  \\\\\n",
       "\ttax &  0.58276431  & -0.31456332  &  0.72076018  & -0.035586518 &  0.66802320  & -0.29204783  &  0.50645559  & -0.53443158  &  0.910228189 &  1.00000000  &  0.4608530   & -0.44180801  &  0.5439934   & -0.4685359  \\\\\n",
       "\tptratio &  0.28994558  & -0.39167855  &  0.38324756  & -0.121515174 &  0.18893268  & -0.35550149  &  0.26151501  & -0.23247054  &  0.464741179 &  0.46085304  &  1.0000000   & -0.17738330  &  0.3740443   & -0.5077867  \\\\\n",
       "\tblack & -0.38506394  &  0.17552032  & -0.35697654  &  0.048788485 & -0.38005064  &  0.12806864  & -0.27353398  &  0.29151167  & -0.444412816 & -0.44180801  & -0.1773833   &  1.00000000  & -0.3660869   &  0.3334608  \\\\\n",
       "\tlstat &  0.45562148  & -0.41299457  &  0.60379972  & -0.053929298 &  0.59087892  & -0.61380827  &  0.60233853  & -0.49699583  &  0.488676335 &  0.54399341  &  0.3740443   & -0.36608690  &  1.0000000   & -0.7376627  \\\\\n",
       "\tmedv & -0.38830461  &  0.36044534  & -0.48372516  &  0.175260177 & -0.42732077  &  0.69535995  & -0.37695457  &  0.24992873  & -0.381626231 & -0.46853593  & -0.5077867   &  0.33346082  & -0.7376627   &  1.0000000  \\\\\n",
       "\\end{tabular}\n"
      ],
      "text/markdown": [
       "\n",
       "| <!--/--> | crim | zn | indus | chas | nox | rm | age | dis | rad | tax | ptratio | black | lstat | medv |\n",
       "|---|---|---|---|---|---|---|---|---|---|---|---|---|---|---|\n",
       "| crim |  1.00000000  | -0.20046922  |  0.40658341  | -0.055891582 |  0.42097171  | -0.21924670  |  0.35273425  | -0.37967009  |  0.625505145 |  0.58276431  |  0.2899456   | -0.38506394  |  0.4556215   | -0.3883046   |\n",
       "| zn | -0.20046922  |  1.00000000  | -0.53382819  | -0.042696719 | -0.51660371  |  0.31199059  | -0.56953734  |  0.66440822  | -0.311947826 | -0.31456332  | -0.3916785   |  0.17552032  | -0.4129946   |  0.3604453   |\n",
       "| indus |  0.40658341  | -0.53382819  |  1.00000000  |  0.062938027 |  0.76365145  | -0.39167585  |  0.64477851  | -0.70802699  |  0.595129275 |  0.72076018  |  0.3832476   | -0.35697654  |  0.6037997   | -0.4837252   |\n",
       "| chas | -0.05589158  | -0.04269672  |  0.06293803  |  1.000000000 |  0.09120281  |  0.09125123  |  0.08651777  | -0.09917578  | -0.007368241 | -0.03558652  | -0.1215152   |  0.04878848  | -0.0539293   |  0.1752602   |\n",
       "| nox |  0.42097171  | -0.51660371  |  0.76365145  |  0.091202807 |  1.00000000  | -0.30218819  |  0.73147010  | -0.76923011  |  0.611440563 |  0.66802320  |  0.1889327   | -0.38005064  |  0.5908789   | -0.4273208   |\n",
       "| rm | -0.21924670  |  0.31199059  | -0.39167585  |  0.091251225 | -0.30218819  |  1.00000000  | -0.24026493  |  0.20524621  | -0.209846668 | -0.29204783  | -0.3555015   |  0.12806864  | -0.6138083   |  0.6953599   |\n",
       "| age |  0.35273425  | -0.56953734  |  0.64477851  |  0.086517774 |  0.73147010  | -0.24026493  |  1.00000000  | -0.74788054  |  0.456022452 |  0.50645559  |  0.2615150   | -0.27353398  |  0.6023385   | -0.3769546   |\n",
       "| dis | -0.37967009  |  0.66440822  | -0.70802699  | -0.099175780 | -0.76923011  |  0.20524621  | -0.74788054  |  1.00000000  | -0.494587930 | -0.53443158  | -0.2324705   |  0.29151167  | -0.4969958   |  0.2499287   |\n",
       "| rad |  0.62550515  | -0.31194783  |  0.59512927  | -0.007368241 |  0.61144056  | -0.20984667  |  0.45602245  | -0.49458793  |  1.000000000 |  0.91022819  |  0.4647412   | -0.44441282  |  0.4886763   | -0.3816262   |\n",
       "| tax |  0.58276431  | -0.31456332  |  0.72076018  | -0.035586518 |  0.66802320  | -0.29204783  |  0.50645559  | -0.53443158  |  0.910228189 |  1.00000000  |  0.4608530   | -0.44180801  |  0.5439934   | -0.4685359   |\n",
       "| ptratio |  0.28994558  | -0.39167855  |  0.38324756  | -0.121515174 |  0.18893268  | -0.35550149  |  0.26151501  | -0.23247054  |  0.464741179 |  0.46085304  |  1.0000000   | -0.17738330  |  0.3740443   | -0.5077867   |\n",
       "| black | -0.38506394  |  0.17552032  | -0.35697654  |  0.048788485 | -0.38005064  |  0.12806864  | -0.27353398  |  0.29151167  | -0.444412816 | -0.44180801  | -0.1773833   |  1.00000000  | -0.3660869   |  0.3334608   |\n",
       "| lstat |  0.45562148  | -0.41299457  |  0.60379972  | -0.053929298 |  0.59087892  | -0.61380827  |  0.60233853  | -0.49699583  |  0.488676335 |  0.54399341  |  0.3740443   | -0.36608690  |  1.0000000   | -0.7376627   |\n",
       "| medv | -0.38830461  |  0.36044534  | -0.48372516  |  0.175260177 | -0.42732077  |  0.69535995  | -0.37695457  |  0.24992873  | -0.381626231 | -0.46853593  | -0.5077867   |  0.33346082  | -0.7376627   |  1.0000000   |\n",
       "\n"
      ],
      "text/plain": [
       "        crim        zn          indus       chas         nox        \n",
       "crim     1.00000000 -0.20046922  0.40658341 -0.055891582  0.42097171\n",
       "zn      -0.20046922  1.00000000 -0.53382819 -0.042696719 -0.51660371\n",
       "indus    0.40658341 -0.53382819  1.00000000  0.062938027  0.76365145\n",
       "chas    -0.05589158 -0.04269672  0.06293803  1.000000000  0.09120281\n",
       "nox      0.42097171 -0.51660371  0.76365145  0.091202807  1.00000000\n",
       "rm      -0.21924670  0.31199059 -0.39167585  0.091251225 -0.30218819\n",
       "age      0.35273425 -0.56953734  0.64477851  0.086517774  0.73147010\n",
       "dis     -0.37967009  0.66440822 -0.70802699 -0.099175780 -0.76923011\n",
       "rad      0.62550515 -0.31194783  0.59512927 -0.007368241  0.61144056\n",
       "tax      0.58276431 -0.31456332  0.72076018 -0.035586518  0.66802320\n",
       "ptratio  0.28994558 -0.39167855  0.38324756 -0.121515174  0.18893268\n",
       "black   -0.38506394  0.17552032 -0.35697654  0.048788485 -0.38005064\n",
       "lstat    0.45562148 -0.41299457  0.60379972 -0.053929298  0.59087892\n",
       "medv    -0.38830461  0.36044534 -0.48372516  0.175260177 -0.42732077\n",
       "        rm          age         dis         rad          tax         ptratio   \n",
       "crim    -0.21924670  0.35273425 -0.37967009  0.625505145  0.58276431  0.2899456\n",
       "zn       0.31199059 -0.56953734  0.66440822 -0.311947826 -0.31456332 -0.3916785\n",
       "indus   -0.39167585  0.64477851 -0.70802699  0.595129275  0.72076018  0.3832476\n",
       "chas     0.09125123  0.08651777 -0.09917578 -0.007368241 -0.03558652 -0.1215152\n",
       "nox     -0.30218819  0.73147010 -0.76923011  0.611440563  0.66802320  0.1889327\n",
       "rm       1.00000000 -0.24026493  0.20524621 -0.209846668 -0.29204783 -0.3555015\n",
       "age     -0.24026493  1.00000000 -0.74788054  0.456022452  0.50645559  0.2615150\n",
       "dis      0.20524621 -0.74788054  1.00000000 -0.494587930 -0.53443158 -0.2324705\n",
       "rad     -0.20984667  0.45602245 -0.49458793  1.000000000  0.91022819  0.4647412\n",
       "tax     -0.29204783  0.50645559 -0.53443158  0.910228189  1.00000000  0.4608530\n",
       "ptratio -0.35550149  0.26151501 -0.23247054  0.464741179  0.46085304  1.0000000\n",
       "black    0.12806864 -0.27353398  0.29151167 -0.444412816 -0.44180801 -0.1773833\n",
       "lstat   -0.61380827  0.60233853 -0.49699583  0.488676335  0.54399341  0.3740443\n",
       "medv     0.69535995 -0.37695457  0.24992873 -0.381626231 -0.46853593 -0.5077867\n",
       "        black       lstat      medv      \n",
       "crim    -0.38506394  0.4556215 -0.3883046\n",
       "zn       0.17552032 -0.4129946  0.3604453\n",
       "indus   -0.35697654  0.6037997 -0.4837252\n",
       "chas     0.04878848 -0.0539293  0.1752602\n",
       "nox     -0.38005064  0.5908789 -0.4273208\n",
       "rm       0.12806864 -0.6138083  0.6953599\n",
       "age     -0.27353398  0.6023385 -0.3769546\n",
       "dis      0.29151167 -0.4969958  0.2499287\n",
       "rad     -0.44441282  0.4886763 -0.3816262\n",
       "tax     -0.44180801  0.5439934 -0.4685359\n",
       "ptratio -0.17738330  0.3740443 -0.5077867\n",
       "black    1.00000000 -0.3660869  0.3334608\n",
       "lstat   -0.36608690  1.0000000 -0.7376627\n",
       "medv     0.33346082 -0.7376627  1.0000000"
      ]
     },
     "metadata": {},
     "output_type": "display_data"
    }
   ],
   "source": [
    "cor(Boston) #상관계수 행렬"
   ]
  },
  {
   "cell_type": "code",
   "execution_count": 7,
   "metadata": {},
   "outputs": [
    {
     "data": {
      "text/html": [
       "<dl class=dl-horizontal>\n",
       "\t<dt>crim</dt>\n",
       "\t\t<dd>1</dd>\n",
       "\t<dt>zn</dt>\n",
       "\t\t<dd>-0.200469219662547</dd>\n",
       "\t<dt>indus</dt>\n",
       "\t\t<dd>0.406583411406259</dd>\n",
       "\t<dt>chas</dt>\n",
       "\t\t<dd>-0.0558915822222415</dd>\n",
       "\t<dt>nox</dt>\n",
       "\t\t<dd>0.420971711392456</dd>\n",
       "\t<dt>rm</dt>\n",
       "\t\t<dd>-0.219246702862514</dd>\n",
       "\t<dt>age</dt>\n",
       "\t\t<dd>0.352734250901364</dd>\n",
       "\t<dt>dis</dt>\n",
       "\t\t<dd>-0.379670086951024</dd>\n",
       "\t<dt>rad</dt>\n",
       "\t\t<dd>0.625505145262602</dd>\n",
       "\t<dt>tax</dt>\n",
       "\t\t<dd>0.582764312032585</dd>\n",
       "\t<dt>ptratio</dt>\n",
       "\t\t<dd>0.28994557927952</dd>\n",
       "\t<dt>black</dt>\n",
       "\t\t<dd>-0.385063941994224</dd>\n",
       "\t<dt>lstat</dt>\n",
       "\t\t<dd>0.455621479447946</dd>\n",
       "\t<dt>medv</dt>\n",
       "\t\t<dd>-0.388304608586812</dd>\n",
       "</dl>\n"
      ],
      "text/latex": [
       "\\begin{description*}\n",
       "\\item[crim] 1\n",
       "\\item[zn] -0.200469219662547\n",
       "\\item[indus] 0.406583411406259\n",
       "\\item[chas] -0.0558915822222415\n",
       "\\item[nox] 0.420971711392456\n",
       "\\item[rm] -0.219246702862514\n",
       "\\item[age] 0.352734250901364\n",
       "\\item[dis] -0.379670086951024\n",
       "\\item[rad] 0.625505145262602\n",
       "\\item[tax] 0.582764312032585\n",
       "\\item[ptratio] 0.28994557927952\n",
       "\\item[black] -0.385063941994224\n",
       "\\item[lstat] 0.455621479447946\n",
       "\\item[medv] -0.388304608586812\n",
       "\\end{description*}\n"
      ],
      "text/markdown": [
       "crim\n",
       ":   1zn\n",
       ":   -0.200469219662547indus\n",
       ":   0.406583411406259chas\n",
       ":   -0.0558915822222415nox\n",
       ":   0.420971711392456rm\n",
       ":   -0.219246702862514age\n",
       ":   0.352734250901364dis\n",
       ":   -0.379670086951024rad\n",
       ":   0.625505145262602tax\n",
       ":   0.582764312032585ptratio\n",
       ":   0.28994557927952black\n",
       ":   -0.385063941994224lstat\n",
       ":   0.455621479447946medv\n",
       ":   -0.388304608586812\n",
       "\n"
      ],
      "text/plain": [
       "       crim          zn       indus        chas         nox          rm \n",
       " 1.00000000 -0.20046922  0.40658341 -0.05589158  0.42097171 -0.21924670 \n",
       "        age         dis         rad         tax     ptratio       black \n",
       " 0.35273425 -0.37967009  0.62550515  0.58276431  0.28994558 -0.38506394 \n",
       "      lstat        medv \n",
       " 0.45562148 -0.38830461 "
      ]
     },
     "metadata": {},
     "output_type": "display_data"
    }
   ],
   "source": [
    "(corrmatrix <- cor(Boston)[1,]) #상관계수 (범죄율)"
   ]
  },
  {
   "cell_type": "code",
   "execution_count": 8,
   "metadata": {},
   "outputs": [
    {
     "data": {
      "text/html": [
       "<dl class=dl-horizontal>\n",
       "\t<dt>crim</dt>\n",
       "\t\t<dd>1</dd>\n",
       "\t<dt>rad</dt>\n",
       "\t\t<dd>0.625505145262602</dd>\n",
       "\t<dt>tax</dt>\n",
       "\t\t<dd>0.582764312032585</dd>\n",
       "</dl>\n"
      ],
      "text/latex": [
       "\\begin{description*}\n",
       "\\item[crim] 1\n",
       "\\item[rad] 0.625505145262602\n",
       "\\item[tax] 0.582764312032585\n",
       "\\end{description*}\n"
      ],
      "text/markdown": [
       "crim\n",
       ":   1rad\n",
       ":   0.625505145262602tax\n",
       ":   0.582764312032585\n",
       "\n"
      ],
      "text/plain": [
       "     crim       rad       tax \n",
       "1.0000000 0.6255051 0.5827643 "
      ]
     },
     "metadata": {},
     "output_type": "display_data"
    }
   ],
   "source": [
    "#상관계수가 0.5보다 크거나 -0.5보다 작은 변수들\n",
    "corrmatrix[corrmatrix > 0.5 | corrmatrix < -0.5]"
   ]
  },
  {
   "cell_type": "code",
   "execution_count": 9,
   "metadata": {},
   "outputs": [
    {
     "data": {
      "text/html": [
       "<dl class=dl-horizontal>\n",
       "\t<dt>crim</dt>\n",
       "\t\t<dd>0.582764312032585</dd>\n",
       "\t<dt>zn</dt>\n",
       "\t\t<dd>-0.3145633246776</dd>\n",
       "\t<dt>indus</dt>\n",
       "\t\t<dd>0.720760179951542</dd>\n",
       "\t<dt>chas</dt>\n",
       "\t\t<dd>-0.0355865175859114</dd>\n",
       "\t<dt>nox</dt>\n",
       "\t\t<dd>0.668023200403023</dd>\n",
       "\t<dt>rm</dt>\n",
       "\t\t<dd>-0.29204783262322</dd>\n",
       "\t<dt>age</dt>\n",
       "\t\t<dd>0.506455593550706</dd>\n",
       "\t<dt>dis</dt>\n",
       "\t\t<dd>-0.534431584408457</dd>\n",
       "\t<dt>rad</dt>\n",
       "\t\t<dd>0.910228188533187</dd>\n",
       "\t<dt>tax</dt>\n",
       "\t\t<dd>1</dd>\n",
       "\t<dt>ptratio</dt>\n",
       "\t\t<dd>0.460853035065666</dd>\n",
       "\t<dt>black</dt>\n",
       "\t\t<dd>-0.441808006722814</dd>\n",
       "\t<dt>lstat</dt>\n",
       "\t\t<dd>0.54399341200157</dd>\n",
       "\t<dt>medv</dt>\n",
       "\t\t<dd>-0.468535933567767</dd>\n",
       "</dl>\n"
      ],
      "text/latex": [
       "\\begin{description*}\n",
       "\\item[crim] 0.582764312032585\n",
       "\\item[zn] -0.3145633246776\n",
       "\\item[indus] 0.720760179951542\n",
       "\\item[chas] -0.0355865175859114\n",
       "\\item[nox] 0.668023200403023\n",
       "\\item[rm] -0.29204783262322\n",
       "\\item[age] 0.506455593550706\n",
       "\\item[dis] -0.534431584408457\n",
       "\\item[rad] 0.910228188533187\n",
       "\\item[tax] 1\n",
       "\\item[ptratio] 0.460853035065666\n",
       "\\item[black] -0.441808006722814\n",
       "\\item[lstat] 0.54399341200157\n",
       "\\item[medv] -0.468535933567767\n",
       "\\end{description*}\n"
      ],
      "text/markdown": [
       "crim\n",
       ":   0.582764312032585zn\n",
       ":   -0.3145633246776indus\n",
       ":   0.720760179951542chas\n",
       ":   -0.0355865175859114nox\n",
       ":   0.668023200403023rm\n",
       ":   -0.29204783262322age\n",
       ":   0.506455593550706dis\n",
       ":   -0.534431584408457rad\n",
       ":   0.910228188533187tax\n",
       ":   1ptratio\n",
       ":   0.460853035065666black\n",
       ":   -0.441808006722814lstat\n",
       ":   0.54399341200157medv\n",
       ":   -0.468535933567767\n",
       "\n"
      ],
      "text/plain": [
       "       crim          zn       indus        chas         nox          rm \n",
       " 0.58276431 -0.31456332  0.72076018 -0.03558652  0.66802320 -0.29204783 \n",
       "        age         dis         rad         tax     ptratio       black \n",
       " 0.50645559 -0.53443158  0.91022819  1.00000000  0.46085304 -0.44180801 \n",
       "      lstat        medv \n",
       " 0.54399341 -0.46853593 "
      ]
     },
     "metadata": {},
     "output_type": "display_data"
    }
   ],
   "source": [
    "(corrmatrix<-cor(Boston)[10,]) #세율"
   ]
  },
  {
   "cell_type": "code",
   "execution_count": 10,
   "metadata": {},
   "outputs": [
    {
     "data": {
      "text/html": [
       "<dl class=dl-horizontal>\n",
       "\t<dt>crim</dt>\n",
       "\t\t<dd>0.582764312032585</dd>\n",
       "\t<dt>indus</dt>\n",
       "\t\t<dd>0.720760179951542</dd>\n",
       "\t<dt>nox</dt>\n",
       "\t\t<dd>0.668023200403023</dd>\n",
       "\t<dt>age</dt>\n",
       "\t\t<dd>0.506455593550706</dd>\n",
       "\t<dt>dis</dt>\n",
       "\t\t<dd>-0.534431584408457</dd>\n",
       "\t<dt>rad</dt>\n",
       "\t\t<dd>0.910228188533187</dd>\n",
       "\t<dt>tax</dt>\n",
       "\t\t<dd>1</dd>\n",
       "\t<dt>lstat</dt>\n",
       "\t\t<dd>0.54399341200157</dd>\n",
       "</dl>\n"
      ],
      "text/latex": [
       "\\begin{description*}\n",
       "\\item[crim] 0.582764312032585\n",
       "\\item[indus] 0.720760179951542\n",
       "\\item[nox] 0.668023200403023\n",
       "\\item[age] 0.506455593550706\n",
       "\\item[dis] -0.534431584408457\n",
       "\\item[rad] 0.910228188533187\n",
       "\\item[tax] 1\n",
       "\\item[lstat] 0.54399341200157\n",
       "\\end{description*}\n"
      ],
      "text/markdown": [
       "crim\n",
       ":   0.582764312032585indus\n",
       ":   0.720760179951542nox\n",
       ":   0.668023200403023age\n",
       ":   0.506455593550706dis\n",
       ":   -0.534431584408457rad\n",
       ":   0.910228188533187tax\n",
       ":   1lstat\n",
       ":   0.54399341200157\n",
       "\n"
      ],
      "text/plain": [
       "      crim      indus        nox        age        dis        rad        tax \n",
       " 0.5827643  0.7207602  0.6680232  0.5064556 -0.5344316  0.9102282  1.0000000 \n",
       "     lstat \n",
       " 0.5439934 "
      ]
     },
     "metadata": {},
     "output_type": "display_data"
    }
   ],
   "source": [
    "#상관계수가 0.5보다 크거나 -0.5보다 작은 변수들\n",
    "corrmatrix[corrmatrix > 0.5 | corrmatrix < -0.5]"
   ]
  },
  {
   "cell_type": "code",
   "execution_count": 11,
   "metadata": {},
   "outputs": [
    {
     "data": {
      "text/plain": [
       "\n",
       "  0   1 \n",
       "471  35 "
      ]
     },
     "metadata": {},
     "output_type": "display_data"
    }
   ],
   "source": [
    "table(Boston$chas) #찰스강 근처 1, 아니면 0"
   ]
  },
  {
   "cell_type": "code",
   "execution_count": 12,
   "metadata": {},
   "outputs": [
    {
     "data": {
      "text/html": [
       "50"
      ],
      "text/latex": [
       "50"
      ],
      "text/markdown": [
       "50"
      ],
      "text/plain": [
       "[1] 50"
      ]
     },
     "metadata": {},
     "output_type": "display_data"
    },
    {
     "data": {
      "text/html": [
       "5"
      ],
      "text/latex": [
       "5"
      ],
      "text/markdown": [
       "5"
      ],
      "text/plain": [
       "[1] 5"
      ]
     },
     "metadata": {},
     "output_type": "display_data"
    }
   ],
   "source": [
    "max(Boston$medv)\n",
    "min(Boston$medv)"
   ]
  },
  {
   "cell_type": "code",
   "execution_count": 13,
   "metadata": {},
   "outputs": [
    {
     "data": {
      "text/html": [
       "<table>\n",
       "<thead><tr><th></th><th scope=col>crim</th><th scope=col>zn</th><th scope=col>indus</th><th scope=col>chas</th><th scope=col>nox</th><th scope=col>rm</th><th scope=col>age</th><th scope=col>dis</th><th scope=col>rad</th><th scope=col>tax</th><th scope=col>ptratio</th><th scope=col>black</th><th scope=col>lstat</th><th scope=col>medv</th></tr></thead>\n",
       "<tbody>\n",
       "\t<tr><th scope=row>162</th><td>1.46336</td><td> 0     </td><td>19.58  </td><td>0      </td><td>0.6050 </td><td>7.489  </td><td> 90.8  </td><td>1.9709 </td><td> 5     </td><td>403    </td><td>14.7   </td><td>374.43 </td><td>1.73   </td><td>50     </td></tr>\n",
       "\t<tr><th scope=row>163</th><td>1.83377</td><td> 0     </td><td>19.58  </td><td>1      </td><td>0.6050 </td><td>7.802  </td><td> 98.2  </td><td>2.0407 </td><td> 5     </td><td>403    </td><td>14.7   </td><td>389.61 </td><td>1.92   </td><td>50     </td></tr>\n",
       "\t<tr><th scope=row>164</th><td>1.51902</td><td> 0     </td><td>19.58  </td><td>1      </td><td>0.6050 </td><td>8.375  </td><td> 93.9  </td><td>2.1620 </td><td> 5     </td><td>403    </td><td>14.7   </td><td>388.45 </td><td>3.32   </td><td>50     </td></tr>\n",
       "\t<tr><th scope=row>167</th><td>2.01019</td><td> 0     </td><td>19.58  </td><td>0      </td><td>0.6050 </td><td>7.929  </td><td> 96.2  </td><td>2.0459 </td><td> 5     </td><td>403    </td><td>14.7   </td><td>369.30 </td><td>3.70   </td><td>50     </td></tr>\n",
       "\t<tr><th scope=row>187</th><td>0.05602</td><td> 0     </td><td> 2.46  </td><td>0      </td><td>0.4880 </td><td>7.831  </td><td> 53.6  </td><td>3.1992 </td><td> 3     </td><td>193    </td><td>17.8   </td><td>392.63 </td><td>4.45   </td><td>50     </td></tr>\n",
       "\t<tr><th scope=row>196</th><td>0.01381</td><td>80     </td><td> 0.46  </td><td>0      </td><td>0.4220 </td><td>7.875  </td><td> 32.0  </td><td>5.6484 </td><td> 4     </td><td>255    </td><td>14.4   </td><td>394.23 </td><td>2.97   </td><td>50     </td></tr>\n",
       "\t<tr><th scope=row>205</th><td>0.02009</td><td>95     </td><td> 2.68  </td><td>0      </td><td>0.4161 </td><td>8.034  </td><td> 31.9  </td><td>5.1180 </td><td> 4     </td><td>224    </td><td>14.7   </td><td>390.55 </td><td>2.88   </td><td>50     </td></tr>\n",
       "\t<tr><th scope=row>226</th><td>0.52693</td><td> 0     </td><td> 6.20  </td><td>0      </td><td>0.5040 </td><td>8.725  </td><td> 83.0  </td><td>2.8944 </td><td> 8     </td><td>307    </td><td>17.4   </td><td>382.00 </td><td>4.63   </td><td>50     </td></tr>\n",
       "\t<tr><th scope=row>258</th><td>0.61154</td><td>20     </td><td> 3.97  </td><td>0      </td><td>0.6470 </td><td>8.704  </td><td> 86.9  </td><td>1.8010 </td><td> 5     </td><td>264    </td><td>13.0   </td><td>389.70 </td><td>5.12   </td><td>50     </td></tr>\n",
       "\t<tr><th scope=row>268</th><td>0.57834</td><td>20     </td><td> 3.97  </td><td>0      </td><td>0.5750 </td><td>8.297  </td><td> 67.0  </td><td>2.4216 </td><td> 5     </td><td>264    </td><td>13.0   </td><td>384.54 </td><td>7.44   </td><td>50     </td></tr>\n",
       "\t<tr><th scope=row>284</th><td>0.01501</td><td>90     </td><td> 1.21  </td><td>1      </td><td>0.4010 </td><td>7.923  </td><td> 24.8  </td><td>5.8850 </td><td> 1     </td><td>198    </td><td>13.6   </td><td>395.52 </td><td>3.16   </td><td>50     </td></tr>\n",
       "\t<tr><th scope=row>369</th><td>4.89822</td><td> 0     </td><td>18.10  </td><td>0      </td><td>0.6310 </td><td>4.970  </td><td>100.0  </td><td>1.3325 </td><td>24     </td><td>666    </td><td>20.2   </td><td>375.52 </td><td>3.26   </td><td>50     </td></tr>\n",
       "\t<tr><th scope=row>370</th><td>5.66998</td><td> 0     </td><td>18.10  </td><td>1      </td><td>0.6310 </td><td>6.683  </td><td> 96.8  </td><td>1.3567 </td><td>24     </td><td>666    </td><td>20.2   </td><td>375.33 </td><td>3.73   </td><td>50     </td></tr>\n",
       "\t<tr><th scope=row>371</th><td>6.53876</td><td> 0     </td><td>18.10  </td><td>1      </td><td>0.6310 </td><td>7.016  </td><td> 97.5  </td><td>1.2024 </td><td>24     </td><td>666    </td><td>20.2   </td><td>392.05 </td><td>2.96   </td><td>50     </td></tr>\n",
       "\t<tr><th scope=row>372</th><td>9.23230</td><td> 0     </td><td>18.10  </td><td>0      </td><td>0.6310 </td><td>6.216  </td><td>100.0  </td><td>1.1691 </td><td>24     </td><td>666    </td><td>20.2   </td><td>366.15 </td><td>9.53   </td><td>50     </td></tr>\n",
       "\t<tr><th scope=row>373</th><td>8.26725</td><td> 0     </td><td>18.10  </td><td>1      </td><td>0.6680 </td><td>5.875  </td><td> 89.6  </td><td>1.1296 </td><td>24     </td><td>666    </td><td>20.2   </td><td>347.88 </td><td>8.88   </td><td>50     </td></tr>\n",
       "</tbody>\n",
       "</table>\n"
      ],
      "text/latex": [
       "\\begin{tabular}{r|llllllllllllll}\n",
       "  & crim & zn & indus & chas & nox & rm & age & dis & rad & tax & ptratio & black & lstat & medv\\\\\n",
       "\\hline\n",
       "\t162 & 1.46336 &  0      & 19.58   & 0       & 0.6050  & 7.489   &  90.8   & 1.9709  &  5      & 403     & 14.7    & 374.43  & 1.73    & 50     \\\\\n",
       "\t163 & 1.83377 &  0      & 19.58   & 1       & 0.6050  & 7.802   &  98.2   & 2.0407  &  5      & 403     & 14.7    & 389.61  & 1.92    & 50     \\\\\n",
       "\t164 & 1.51902 &  0      & 19.58   & 1       & 0.6050  & 8.375   &  93.9   & 2.1620  &  5      & 403     & 14.7    & 388.45  & 3.32    & 50     \\\\\n",
       "\t167 & 2.01019 &  0      & 19.58   & 0       & 0.6050  & 7.929   &  96.2   & 2.0459  &  5      & 403     & 14.7    & 369.30  & 3.70    & 50     \\\\\n",
       "\t187 & 0.05602 &  0      &  2.46   & 0       & 0.4880  & 7.831   &  53.6   & 3.1992  &  3      & 193     & 17.8    & 392.63  & 4.45    & 50     \\\\\n",
       "\t196 & 0.01381 & 80      &  0.46   & 0       & 0.4220  & 7.875   &  32.0   & 5.6484  &  4      & 255     & 14.4    & 394.23  & 2.97    & 50     \\\\\n",
       "\t205 & 0.02009 & 95      &  2.68   & 0       & 0.4161  & 8.034   &  31.9   & 5.1180  &  4      & 224     & 14.7    & 390.55  & 2.88    & 50     \\\\\n",
       "\t226 & 0.52693 &  0      &  6.20   & 0       & 0.5040  & 8.725   &  83.0   & 2.8944  &  8      & 307     & 17.4    & 382.00  & 4.63    & 50     \\\\\n",
       "\t258 & 0.61154 & 20      &  3.97   & 0       & 0.6470  & 8.704   &  86.9   & 1.8010  &  5      & 264     & 13.0    & 389.70  & 5.12    & 50     \\\\\n",
       "\t268 & 0.57834 & 20      &  3.97   & 0       & 0.5750  & 8.297   &  67.0   & 2.4216  &  5      & 264     & 13.0    & 384.54  & 7.44    & 50     \\\\\n",
       "\t284 & 0.01501 & 90      &  1.21   & 1       & 0.4010  & 7.923   &  24.8   & 5.8850  &  1      & 198     & 13.6    & 395.52  & 3.16    & 50     \\\\\n",
       "\t369 & 4.89822 &  0      & 18.10   & 0       & 0.6310  & 4.970   & 100.0   & 1.3325  & 24      & 666     & 20.2    & 375.52  & 3.26    & 50     \\\\\n",
       "\t370 & 5.66998 &  0      & 18.10   & 1       & 0.6310  & 6.683   &  96.8   & 1.3567  & 24      & 666     & 20.2    & 375.33  & 3.73    & 50     \\\\\n",
       "\t371 & 6.53876 &  0      & 18.10   & 1       & 0.6310  & 7.016   &  97.5   & 1.2024  & 24      & 666     & 20.2    & 392.05  & 2.96    & 50     \\\\\n",
       "\t372 & 9.23230 &  0      & 18.10   & 0       & 0.6310  & 6.216   & 100.0   & 1.1691  & 24      & 666     & 20.2    & 366.15  & 9.53    & 50     \\\\\n",
       "\t373 & 8.26725 &  0      & 18.10   & 1       & 0.6680  & 5.875   &  89.6   & 1.1296  & 24      & 666     & 20.2    & 347.88  & 8.88    & 50     \\\\\n",
       "\\end{tabular}\n"
      ],
      "text/markdown": [
       "\n",
       "| <!--/--> | crim | zn | indus | chas | nox | rm | age | dis | rad | tax | ptratio | black | lstat | medv |\n",
       "|---|---|---|---|---|---|---|---|---|---|---|---|---|---|---|\n",
       "| 162 | 1.46336 |  0      | 19.58   | 0       | 0.6050  | 7.489   |  90.8   | 1.9709  |  5      | 403     | 14.7    | 374.43  | 1.73    | 50      |\n",
       "| 163 | 1.83377 |  0      | 19.58   | 1       | 0.6050  | 7.802   |  98.2   | 2.0407  |  5      | 403     | 14.7    | 389.61  | 1.92    | 50      |\n",
       "| 164 | 1.51902 |  0      | 19.58   | 1       | 0.6050  | 8.375   |  93.9   | 2.1620  |  5      | 403     | 14.7    | 388.45  | 3.32    | 50      |\n",
       "| 167 | 2.01019 |  0      | 19.58   | 0       | 0.6050  | 7.929   |  96.2   | 2.0459  |  5      | 403     | 14.7    | 369.30  | 3.70    | 50      |\n",
       "| 187 | 0.05602 |  0      |  2.46   | 0       | 0.4880  | 7.831   |  53.6   | 3.1992  |  3      | 193     | 17.8    | 392.63  | 4.45    | 50      |\n",
       "| 196 | 0.01381 | 80      |  0.46   | 0       | 0.4220  | 7.875   |  32.0   | 5.6484  |  4      | 255     | 14.4    | 394.23  | 2.97    | 50      |\n",
       "| 205 | 0.02009 | 95      |  2.68   | 0       | 0.4161  | 8.034   |  31.9   | 5.1180  |  4      | 224     | 14.7    | 390.55  | 2.88    | 50      |\n",
       "| 226 | 0.52693 |  0      |  6.20   | 0       | 0.5040  | 8.725   |  83.0   | 2.8944  |  8      | 307     | 17.4    | 382.00  | 4.63    | 50      |\n",
       "| 258 | 0.61154 | 20      |  3.97   | 0       | 0.6470  | 8.704   |  86.9   | 1.8010  |  5      | 264     | 13.0    | 389.70  | 5.12    | 50      |\n",
       "| 268 | 0.57834 | 20      |  3.97   | 0       | 0.5750  | 8.297   |  67.0   | 2.4216  |  5      | 264     | 13.0    | 384.54  | 7.44    | 50      |\n",
       "| 284 | 0.01501 | 90      |  1.21   | 1       | 0.4010  | 7.923   |  24.8   | 5.8850  |  1      | 198     | 13.6    | 395.52  | 3.16    | 50      |\n",
       "| 369 | 4.89822 |  0      | 18.10   | 0       | 0.6310  | 4.970   | 100.0   | 1.3325  | 24      | 666     | 20.2    | 375.52  | 3.26    | 50      |\n",
       "| 370 | 5.66998 |  0      | 18.10   | 1       | 0.6310  | 6.683   |  96.8   | 1.3567  | 24      | 666     | 20.2    | 375.33  | 3.73    | 50      |\n",
       "| 371 | 6.53876 |  0      | 18.10   | 1       | 0.6310  | 7.016   |  97.5   | 1.2024  | 24      | 666     | 20.2    | 392.05  | 2.96    | 50      |\n",
       "| 372 | 9.23230 |  0      | 18.10   | 0       | 0.6310  | 6.216   | 100.0   | 1.1691  | 24      | 666     | 20.2    | 366.15  | 9.53    | 50      |\n",
       "| 373 | 8.26725 |  0      | 18.10   | 1       | 0.6680  | 5.875   |  89.6   | 1.1296  | 24      | 666     | 20.2    | 347.88  | 8.88    | 50      |\n",
       "\n"
      ],
      "text/plain": [
       "    crim    zn indus chas nox    rm    age   dis    rad tax ptratio black \n",
       "162 1.46336  0 19.58 0    0.6050 7.489  90.8 1.9709  5  403 14.7    374.43\n",
       "163 1.83377  0 19.58 1    0.6050 7.802  98.2 2.0407  5  403 14.7    389.61\n",
       "164 1.51902  0 19.58 1    0.6050 8.375  93.9 2.1620  5  403 14.7    388.45\n",
       "167 2.01019  0 19.58 0    0.6050 7.929  96.2 2.0459  5  403 14.7    369.30\n",
       "187 0.05602  0  2.46 0    0.4880 7.831  53.6 3.1992  3  193 17.8    392.63\n",
       "196 0.01381 80  0.46 0    0.4220 7.875  32.0 5.6484  4  255 14.4    394.23\n",
       "205 0.02009 95  2.68 0    0.4161 8.034  31.9 5.1180  4  224 14.7    390.55\n",
       "226 0.52693  0  6.20 0    0.5040 8.725  83.0 2.8944  8  307 17.4    382.00\n",
       "258 0.61154 20  3.97 0    0.6470 8.704  86.9 1.8010  5  264 13.0    389.70\n",
       "268 0.57834 20  3.97 0    0.5750 8.297  67.0 2.4216  5  264 13.0    384.54\n",
       "284 0.01501 90  1.21 1    0.4010 7.923  24.8 5.8850  1  198 13.6    395.52\n",
       "369 4.89822  0 18.10 0    0.6310 4.970 100.0 1.3325 24  666 20.2    375.52\n",
       "370 5.66998  0 18.10 1    0.6310 6.683  96.8 1.3567 24  666 20.2    375.33\n",
       "371 6.53876  0 18.10 1    0.6310 7.016  97.5 1.2024 24  666 20.2    392.05\n",
       "372 9.23230  0 18.10 0    0.6310 6.216 100.0 1.1691 24  666 20.2    366.15\n",
       "373 8.26725  0 18.10 1    0.6680 5.875  89.6 1.1296 24  666 20.2    347.88\n",
       "    lstat medv\n",
       "162 1.73  50  \n",
       "163 1.92  50  \n",
       "164 3.32  50  \n",
       "167 3.70  50  \n",
       "187 4.45  50  \n",
       "196 2.97  50  \n",
       "205 2.88  50  \n",
       "226 4.63  50  \n",
       "258 5.12  50  \n",
       "268 7.44  50  \n",
       "284 3.16  50  \n",
       "369 3.26  50  \n",
       "370 3.73  50  \n",
       "371 2.96  50  \n",
       "372 9.53  50  \n",
       "373 8.88  50  "
      ]
     },
     "metadata": {},
     "output_type": "display_data"
    }
   ],
   "source": [
    "(seltown<-Boston[Boston$medv == max(Boston$medv),]) #최고가 주택"
   ]
  },
  {
   "cell_type": "code",
   "execution_count": 14,
   "metadata": {},
   "outputs": [
    {
     "data": {
      "text/html": [
       "<table>\n",
       "<thead><tr><th></th><th scope=col>crim</th><th scope=col>zn</th><th scope=col>indus</th><th scope=col>chas</th><th scope=col>nox</th><th scope=col>rm</th><th scope=col>age</th><th scope=col>dis</th><th scope=col>rad</th><th scope=col>tax</th><th scope=col>ptratio</th><th scope=col>black</th><th scope=col>lstat</th><th scope=col>medv</th></tr></thead>\n",
       "<tbody>\n",
       "\t<tr><th scope=row>399</th><td>38.3518</td><td>0      </td><td>18.1   </td><td>0      </td><td>0.693  </td><td>5.453  </td><td>100    </td><td>1.4896 </td><td>24     </td><td>666    </td><td>20.2   </td><td>396.90 </td><td>30.59  </td><td>5      </td></tr>\n",
       "\t<tr><th scope=row>406</th><td>67.9208</td><td>0      </td><td>18.1   </td><td>0      </td><td>0.693  </td><td>5.683  </td><td>100    </td><td>1.4254 </td><td>24     </td><td>666    </td><td>20.2   </td><td>384.97 </td><td>22.98  </td><td>5      </td></tr>\n",
       "</tbody>\n",
       "</table>\n"
      ],
      "text/latex": [
       "\\begin{tabular}{r|llllllllllllll}\n",
       "  & crim & zn & indus & chas & nox & rm & age & dis & rad & tax & ptratio & black & lstat & medv\\\\\n",
       "\\hline\n",
       "\t399 & 38.3518 & 0       & 18.1    & 0       & 0.693   & 5.453   & 100     & 1.4896  & 24      & 666     & 20.2    & 396.90  & 30.59   & 5      \\\\\n",
       "\t406 & 67.9208 & 0       & 18.1    & 0       & 0.693   & 5.683   & 100     & 1.4254  & 24      & 666     & 20.2    & 384.97  & 22.98   & 5      \\\\\n",
       "\\end{tabular}\n"
      ],
      "text/markdown": [
       "\n",
       "| <!--/--> | crim | zn | indus | chas | nox | rm | age | dis | rad | tax | ptratio | black | lstat | medv |\n",
       "|---|---|---|---|---|---|---|---|---|---|---|---|---|---|---|\n",
       "| 399 | 38.3518 | 0       | 18.1    | 0       | 0.693   | 5.453   | 100     | 1.4896  | 24      | 666     | 20.2    | 396.90  | 30.59   | 5       |\n",
       "| 406 | 67.9208 | 0       | 18.1    | 0       | 0.693   | 5.683   | 100     | 1.4254  | 24      | 666     | 20.2    | 384.97  | 22.98   | 5       |\n",
       "\n"
      ],
      "text/plain": [
       "    crim    zn indus chas nox   rm    age dis    rad tax ptratio black  lstat\n",
       "399 38.3518 0  18.1  0    0.693 5.453 100 1.4896 24  666 20.2    396.90 30.59\n",
       "406 67.9208 0  18.1  0    0.693 5.683 100 1.4254 24  666 20.2    384.97 22.98\n",
       "    medv\n",
       "399 5   \n",
       "406 5   "
      ]
     },
     "metadata": {},
     "output_type": "display_data"
    }
   ],
   "source": [
    "(seltown<-Boston[Boston$medv == min(Boston$medv),]) #최저가 주택"
   ]
  },
  {
   "cell_type": "code",
   "execution_count": 15,
   "metadata": {},
   "outputs": [
    {
     "data": {
      "text/plain": [
       "\n",
       "Call:\n",
       "lm(formula = medv ~ ., data = Boston)\n",
       "\n",
       "Coefficients:\n",
       "(Intercept)         crim           zn        indus         chas          nox  \n",
       "  3.646e+01   -1.080e-01    4.642e-02    2.056e-02    2.687e+00   -1.777e+01  \n",
       "         rm          age          dis          rad          tax      ptratio  \n",
       "  3.810e+00    6.922e-04   -1.476e+00    3.060e-01   -1.233e-02   -9.527e-01  \n",
       "      black        lstat  \n",
       "  9.312e-03   -5.248e-01  \n"
      ]
     },
     "metadata": {},
     "output_type": "display_data"
    }
   ],
   "source": [
    "#다중회귀분석 모형\n",
    "(model<-lm(medv ~ . , data=Boston))"
   ]
  },
  {
   "cell_type": "code",
   "execution_count": 16,
   "metadata": {},
   "outputs": [
    {
     "data": {
      "text/plain": [
       "\n",
       "Call:\n",
       "lm(formula = medv ~ ., data = Boston)\n",
       "\n",
       "Residuals:\n",
       "    Min      1Q  Median      3Q     Max \n",
       "-15.595  -2.730  -0.518   1.777  26.199 \n",
       "\n",
       "Coefficients:\n",
       "              Estimate Std. Error t value Pr(>|t|)    \n",
       "(Intercept)  3.646e+01  5.103e+00   7.144 3.28e-12 ***\n",
       "crim        -1.080e-01  3.286e-02  -3.287 0.001087 ** \n",
       "zn           4.642e-02  1.373e-02   3.382 0.000778 ***\n",
       "indus        2.056e-02  6.150e-02   0.334 0.738288    \n",
       "chas         2.687e+00  8.616e-01   3.118 0.001925 ** \n",
       "nox         -1.777e+01  3.820e+00  -4.651 4.25e-06 ***\n",
       "rm           3.810e+00  4.179e-01   9.116  < 2e-16 ***\n",
       "age          6.922e-04  1.321e-02   0.052 0.958229    \n",
       "dis         -1.476e+00  1.995e-01  -7.398 6.01e-13 ***\n",
       "rad          3.060e-01  6.635e-02   4.613 5.07e-06 ***\n",
       "tax         -1.233e-02  3.760e-03  -3.280 0.001112 ** \n",
       "ptratio     -9.527e-01  1.308e-01  -7.283 1.31e-12 ***\n",
       "black        9.312e-03  2.686e-03   3.467 0.000573 ***\n",
       "lstat       -5.248e-01  5.072e-02 -10.347  < 2e-16 ***\n",
       "---\n",
       "Signif. codes:  0 '***' 0.001 '**' 0.01 '*' 0.05 '.' 0.1 ' ' 1\n",
       "\n",
       "Residual standard error: 4.745 on 492 degrees of freedom\n",
       "Multiple R-squared:  0.7406,\tAdjusted R-squared:  0.7338 \n",
       "F-statistic: 108.1 on 13 and 492 DF,  p-value: < 2.2e-16\n"
      ]
     },
     "metadata": {},
     "output_type": "display_data"
    }
   ],
   "source": [
    "summary(model)\n",
    "#p-value: < 2.2e-16 \n",
    "#Adjusted R-squared:  0.7338 73.3%의 예측정확도"
   ]
  },
  {
   "cell_type": "code",
   "execution_count": 19,
   "metadata": {},
   "outputs": [
    {
     "name": "stdout",
     "output_type": "stream",
     "text": [
      "Start:  AIC=1589.64\n",
      "medv ~ crim + zn + indus + chas + nox + rm + age + dis + rad + \n",
      "    tax + ptratio + black + lstat\n",
      "\n",
      "          Df Sum of Sq   RSS    AIC\n",
      "- age      1      0.06 11079 1587.7\n",
      "- indus    1      2.52 11081 1587.8\n",
      "<none>                 11079 1589.6\n",
      "- chas     1    218.97 11298 1597.5\n",
      "- tax      1    242.26 11321 1598.6\n",
      "- crim     1    243.22 11322 1598.6\n",
      "- zn       1    257.49 11336 1599.3\n",
      "- black    1    270.63 11349 1599.8\n",
      "- rad      1    479.15 11558 1609.1\n",
      "- nox      1    487.16 11566 1609.4\n",
      "- ptratio  1   1194.23 12273 1639.4\n",
      "- dis      1   1232.41 12311 1641.0\n",
      "- rm       1   1871.32 12950 1666.6\n",
      "- lstat    1   2410.84 13490 1687.3\n",
      "\n",
      "Step:  AIC=1587.65\n",
      "medv ~ crim + zn + indus + chas + nox + rm + dis + rad + tax + \n",
      "    ptratio + black + lstat\n",
      "\n",
      "          Df Sum of Sq   RSS    AIC\n",
      "- indus    1      2.52 11081 1585.8\n",
      "<none>                 11079 1587.7\n",
      "- chas     1    219.91 11299 1595.6\n",
      "- tax      1    242.24 11321 1596.6\n",
      "- crim     1    243.20 11322 1596.6\n",
      "- zn       1    260.32 11339 1597.4\n",
      "- black    1    272.26 11351 1597.9\n",
      "- rad      1    481.09 11560 1607.2\n",
      "- nox      1    520.87 11600 1608.9\n",
      "- ptratio  1   1200.23 12279 1637.7\n",
      "- dis      1   1352.26 12431 1643.9\n",
      "- rm       1   1959.55 13038 1668.0\n",
      "- lstat    1   2718.88 13798 1696.7\n",
      "\n",
      "Step:  AIC=1585.76\n",
      "medv ~ crim + zn + chas + nox + rm + dis + rad + tax + ptratio + \n",
      "    black + lstat\n",
      "\n",
      "          Df Sum of Sq   RSS    AIC\n",
      "<none>                 11081 1585.8\n",
      "- chas     1    227.21 11309 1594.0\n",
      "- crim     1    245.37 11327 1594.8\n",
      "- zn       1    257.82 11339 1595.4\n",
      "- black    1    270.82 11352 1596.0\n",
      "- tax      1    273.62 11355 1596.1\n",
      "- rad      1    500.92 11582 1606.1\n",
      "- nox      1    541.91 11623 1607.9\n",
      "- ptratio  1   1206.45 12288 1636.0\n",
      "- dis      1   1448.94 12530 1645.9\n",
      "- rm       1   1963.66 13045 1666.3\n",
      "- lstat    1   2723.48 13805 1695.0\n"
     ]
    }
   ],
   "source": [
    "#후진제거법\n",
    "reduced<-step(model,direction='backward')"
   ]
  },
  {
   "cell_type": "code",
   "execution_count": 20,
   "metadata": {},
   "outputs": [
    {
     "data": {
      "text/plain": [
       "\n",
       "Call:\n",
       "lm(formula = medv ~ crim + zn + chas + nox + rm + dis + rad + \n",
       "    tax + ptratio + black + lstat, data = Boston)\n",
       "\n",
       "Residuals:\n",
       "     Min       1Q   Median       3Q      Max \n",
       "-15.5984  -2.7386  -0.5046   1.7273  26.2373 \n",
       "\n",
       "Coefficients:\n",
       "              Estimate Std. Error t value Pr(>|t|)    \n",
       "(Intercept)  36.341145   5.067492   7.171 2.73e-12 ***\n",
       "crim         -0.108413   0.032779  -3.307 0.001010 ** \n",
       "zn            0.045845   0.013523   3.390 0.000754 ***\n",
       "chas          2.718716   0.854240   3.183 0.001551 ** \n",
       "nox         -17.376023   3.535243  -4.915 1.21e-06 ***\n",
       "rm            3.801579   0.406316   9.356  < 2e-16 ***\n",
       "dis          -1.492711   0.185731  -8.037 6.84e-15 ***\n",
       "rad           0.299608   0.063402   4.726 3.00e-06 ***\n",
       "tax          -0.011778   0.003372  -3.493 0.000521 ***\n",
       "ptratio      -0.946525   0.129066  -7.334 9.24e-13 ***\n",
       "black         0.009291   0.002674   3.475 0.000557 ***\n",
       "lstat        -0.522553   0.047424 -11.019  < 2e-16 ***\n",
       "---\n",
       "Signif. codes:  0 '***' 0.001 '**' 0.01 '*' 0.05 '.' 0.1 ' ' 1\n",
       "\n",
       "Residual standard error: 4.736 on 494 degrees of freedom\n",
       "Multiple R-squared:  0.7406,\tAdjusted R-squared:  0.7348 \n",
       "F-statistic: 128.2 on 11 and 494 DF,  p-value: < 2.2e-16\n"
      ]
     },
     "metadata": {},
     "output_type": "display_data"
    }
   ],
   "source": [
    "summary(reduced)\n",
    "#p-value: < 2.2e-16\n",
    "#Adjusted R-squared:  0.7348 "
   ]
  },
  {
   "cell_type": "code",
   "execution_count": null,
   "metadata": {},
   "outputs": [],
   "source": []
  }
 ],
 "metadata": {
  "kernelspec": {
   "display_name": "R",
   "language": "R",
   "name": "ir"
  },
  "language_info": {
   "codemirror_mode": "r",
   "file_extension": ".r",
   "mimetype": "text/x-r-source",
   "name": "R",
   "pygments_lexer": "r",
   "version": "3.6.1"
  }
 },
 "nbformat": 4,
 "nbformat_minor": 2
}
