{
 "cells": [
  {
   "cell_type": "code",
   "execution_count": 1,
   "metadata": {},
   "outputs": [
    {
     "data": {
      "text/html": [
       "<table>\n",
       "<thead><tr><th scope=col>weekend</th><th scope=col>num.child</th><th scope=col>distance</th><th scope=col>rides</th><th scope=col>games</th><th scope=col>wait</th><th scope=col>clean</th><th scope=col>overall</th></tr></thead>\n",
       "<tbody>\n",
       "\t<tr><td>yes      </td><td>0        </td><td>114.64826</td><td>87       </td><td>73       </td><td>60       </td><td>89       </td><td>47       </td></tr>\n",
       "\t<tr><td>yes      </td><td>2        </td><td> 27.01410</td><td>87       </td><td>78       </td><td>76       </td><td>87       </td><td>65       </td></tr>\n",
       "\t<tr><td>no       </td><td>1        </td><td> 63.30098</td><td>85       </td><td>80       </td><td>70       </td><td>88       </td><td>61       </td></tr>\n",
       "\t<tr><td>yes      </td><td>0        </td><td> 25.90993</td><td>88       </td><td>72       </td><td>66       </td><td>89       </td><td>37       </td></tr>\n",
       "\t<tr><td>no       </td><td>4        </td><td> 54.71831</td><td>84       </td><td>87       </td><td>74       </td><td>87       </td><td>68       </td></tr>\n",
       "\t<tr><td>no       </td><td>5        </td><td> 22.67934</td><td>81       </td><td>79       </td><td>48       </td><td>79       </td><td>27       </td></tr>\n",
       "</tbody>\n",
       "</table>\n"
      ],
      "text/latex": [
       "\\begin{tabular}{r|llllllll}\n",
       " weekend & num.child & distance & rides & games & wait & clean & overall\\\\\n",
       "\\hline\n",
       "\t yes       & 0         & 114.64826 & 87        & 73        & 60        & 89        & 47       \\\\\n",
       "\t yes       & 2         &  27.01410 & 87        & 78        & 76        & 87        & 65       \\\\\n",
       "\t no        & 1         &  63.30098 & 85        & 80        & 70        & 88        & 61       \\\\\n",
       "\t yes       & 0         &  25.90993 & 88        & 72        & 66        & 89        & 37       \\\\\n",
       "\t no        & 4         &  54.71831 & 84        & 87        & 74        & 87        & 68       \\\\\n",
       "\t no        & 5         &  22.67934 & 81        & 79        & 48        & 79        & 27       \\\\\n",
       "\\end{tabular}\n"
      ],
      "text/markdown": [
       "\n",
       "| weekend | num.child | distance | rides | games | wait | clean | overall |\n",
       "|---|---|---|---|---|---|---|---|\n",
       "| yes       | 0         | 114.64826 | 87        | 73        | 60        | 89        | 47        |\n",
       "| yes       | 2         |  27.01410 | 87        | 78        | 76        | 87        | 65        |\n",
       "| no        | 1         |  63.30098 | 85        | 80        | 70        | 88        | 61        |\n",
       "| yes       | 0         |  25.90993 | 88        | 72        | 66        | 89        | 37        |\n",
       "| no        | 4         |  54.71831 | 84        | 87        | 74        | 87        | 68        |\n",
       "| no        | 5         |  22.67934 | 81        | 79        | 48        | 79        | 27        |\n",
       "\n"
      ],
      "text/plain": [
       "  weekend num.child distance  rides games wait clean overall\n",
       "1 yes     0         114.64826 87    73    60   89    47     \n",
       "2 yes     2          27.01410 87    78    76   87    65     \n",
       "3 no      1          63.30098 85    80    70   88    61     \n",
       "4 yes     0          25.90993 88    72    66   89    37     \n",
       "5 no      4          54.71831 84    87    74   87    68     \n",
       "6 no      5          22.67934 81    79    48   79    27     "
      ]
     },
     "metadata": {},
     "output_type": "display_data"
    },
    {
     "data": {
      "text/html": [
       "<table>\n",
       "<thead><tr><th></th><th scope=col>weekend</th><th scope=col>num.child</th><th scope=col>distance</th><th scope=col>rides</th><th scope=col>games</th><th scope=col>wait</th><th scope=col>clean</th><th scope=col>overall</th></tr></thead>\n",
       "<tbody>\n",
       "\t<tr><th scope=row>495</th><td>no      </td><td>5       </td><td>41.47010</td><td>83      </td><td>84      </td><td>77      </td><td>90      </td><td>55      </td></tr>\n",
       "\t<tr><th scope=row>496</th><td>no      </td><td>0       </td><td>11.05258</td><td>90      </td><td>72      </td><td>68      </td><td>90      </td><td>46      </td></tr>\n",
       "\t<tr><th scope=row>497</th><td>yes     </td><td>0       </td><td> 8.18774</td><td>91      </td><td>83      </td><td>82      </td><td>91      </td><td>47      </td></tr>\n",
       "\t<tr><th scope=row>498</th><td>no      </td><td>2       </td><td>45.17740</td><td>95      </td><td>92      </td><td>85      </td><td>93      </td><td>71      </td></tr>\n",
       "\t<tr><th scope=row>499</th><td>no      </td><td>3       </td><td>27.08838</td><td>83      </td><td>83      </td><td>80      </td><td>88      </td><td>54      </td></tr>\n",
       "\t<tr><th scope=row>500</th><td>no      </td><td>1       </td><td>38.40876</td><td>86      </td><td>88      </td><td>77      </td><td>85      </td><td>62      </td></tr>\n",
       "</tbody>\n",
       "</table>\n"
      ],
      "text/latex": [
       "\\begin{tabular}{r|llllllll}\n",
       "  & weekend & num.child & distance & rides & games & wait & clean & overall\\\\\n",
       "\\hline\n",
       "\t495 & no       & 5        & 41.47010 & 83       & 84       & 77       & 90       & 55      \\\\\n",
       "\t496 & no       & 0        & 11.05258 & 90       & 72       & 68       & 90       & 46      \\\\\n",
       "\t497 & yes      & 0        &  8.18774 & 91       & 83       & 82       & 91       & 47      \\\\\n",
       "\t498 & no       & 2        & 45.17740 & 95       & 92       & 85       & 93       & 71      \\\\\n",
       "\t499 & no       & 3        & 27.08838 & 83       & 83       & 80       & 88       & 54      \\\\\n",
       "\t500 & no       & 1        & 38.40876 & 86       & 88       & 77       & 85       & 62      \\\\\n",
       "\\end{tabular}\n"
      ],
      "text/markdown": [
       "\n",
       "| <!--/--> | weekend | num.child | distance | rides | games | wait | clean | overall |\n",
       "|---|---|---|---|---|---|---|---|---|\n",
       "| 495 | no       | 5        | 41.47010 | 83       | 84       | 77       | 90       | 55       |\n",
       "| 496 | no       | 0        | 11.05258 | 90       | 72       | 68       | 90       | 46       |\n",
       "| 497 | yes      | 0        |  8.18774 | 91       | 83       | 82       | 91       | 47       |\n",
       "| 498 | no       | 2        | 45.17740 | 95       | 92       | 85       | 93       | 71       |\n",
       "| 499 | no       | 3        | 27.08838 | 83       | 83       | 80       | 88       | 54       |\n",
       "| 500 | no       | 1        | 38.40876 | 86       | 88       | 77       | 85       | 62       |\n",
       "\n"
      ],
      "text/plain": [
       "    weekend num.child distance rides games wait clean overall\n",
       "495 no      5         41.47010 83    84    77   90    55     \n",
       "496 no      0         11.05258 90    72    68   90    46     \n",
       "497 yes     0          8.18774 91    83    82   91    47     \n",
       "498 no      2         45.17740 95    92    85   93    71     \n",
       "499 no      3         27.08838 83    83    80   88    54     \n",
       "500 no      1         38.40876 86    88    77   85    62     "
      ]
     },
     "metadata": {},
     "output_type": "display_data"
    }
   ],
   "source": [
    "df<-read.csv('d:/data/rides/rides.csv')\n",
    "head(df)\n",
    "tail(df)"
   ]
  },
  {
   "cell_type": "code",
   "execution_count": 2,
   "metadata": {},
   "outputs": [
    {
     "name": "stderr",
     "output_type": "stream",
     "text": [
      "Warning message:\n",
      "\"package 'dplyr' was built under R version 3.6.2\"\n",
      "Attaching package: 'dplyr'\n",
      "\n",
      "The following objects are masked from 'package:stats':\n",
      "\n",
      "    filter, lag\n",
      "\n",
      "The following objects are masked from 'package:base':\n",
      "\n",
      "    intersect, setdiff, setequal, union\n",
      "\n"
     ]
    }
   ],
   "source": [
    "library(dplyr)\n",
    "df<-df %>% select(-weekend)"
   ]
  },
  {
   "cell_type": "code",
   "execution_count": 3,
   "metadata": {},
   "outputs": [
    {
     "data": {
      "text/html": [
       "<table>\n",
       "<thead><tr><th scope=col>num.child</th><th scope=col>distance</th><th scope=col>rides</th><th scope=col>games</th><th scope=col>wait</th><th scope=col>clean</th><th scope=col>overall</th></tr></thead>\n",
       "<tbody>\n",
       "\t<tr><td>0        </td><td>114.64826</td><td>87       </td><td>73       </td><td>60       </td><td>89       </td><td>47       </td></tr>\n",
       "\t<tr><td>2        </td><td> 27.01410</td><td>87       </td><td>78       </td><td>76       </td><td>87       </td><td>65       </td></tr>\n",
       "\t<tr><td>1        </td><td> 63.30098</td><td>85       </td><td>80       </td><td>70       </td><td>88       </td><td>61       </td></tr>\n",
       "\t<tr><td>0        </td><td> 25.90993</td><td>88       </td><td>72       </td><td>66       </td><td>89       </td><td>37       </td></tr>\n",
       "\t<tr><td>4        </td><td> 54.71831</td><td>84       </td><td>87       </td><td>74       </td><td>87       </td><td>68       </td></tr>\n",
       "\t<tr><td>5        </td><td> 22.67934</td><td>81       </td><td>79       </td><td>48       </td><td>79       </td><td>27       </td></tr>\n",
       "</tbody>\n",
       "</table>\n"
      ],
      "text/latex": [
       "\\begin{tabular}{r|lllllll}\n",
       " num.child & distance & rides & games & wait & clean & overall\\\\\n",
       "\\hline\n",
       "\t 0         & 114.64826 & 87        & 73        & 60        & 89        & 47       \\\\\n",
       "\t 2         &  27.01410 & 87        & 78        & 76        & 87        & 65       \\\\\n",
       "\t 1         &  63.30098 & 85        & 80        & 70        & 88        & 61       \\\\\n",
       "\t 0         &  25.90993 & 88        & 72        & 66        & 89        & 37       \\\\\n",
       "\t 4         &  54.71831 & 84        & 87        & 74        & 87        & 68       \\\\\n",
       "\t 5         &  22.67934 & 81        & 79        & 48        & 79        & 27       \\\\\n",
       "\\end{tabular}\n"
      ],
      "text/markdown": [
       "\n",
       "| num.child | distance | rides | games | wait | clean | overall |\n",
       "|---|---|---|---|---|---|---|\n",
       "| 0         | 114.64826 | 87        | 73        | 60        | 89        | 47        |\n",
       "| 2         |  27.01410 | 87        | 78        | 76        | 87        | 65        |\n",
       "| 1         |  63.30098 | 85        | 80        | 70        | 88        | 61        |\n",
       "| 0         |  25.90993 | 88        | 72        | 66        | 89        | 37        |\n",
       "| 4         |  54.71831 | 84        | 87        | 74        | 87        | 68        |\n",
       "| 5         |  22.67934 | 81        | 79        | 48        | 79        | 27        |\n",
       "\n"
      ],
      "text/plain": [
       "  num.child distance  rides games wait clean overall\n",
       "1 0         114.64826 87    73    60   89    47     \n",
       "2 2          27.01410 87    78    76   87    65     \n",
       "3 1          63.30098 85    80    70   88    61     \n",
       "4 0          25.90993 88    72    66   89    37     \n",
       "5 4          54.71831 84    87    74   87    68     \n",
       "6 5          22.67934 81    79    48   79    27     "
      ]
     },
     "metadata": {},
     "output_type": "display_data"
    },
    {
     "data": {
      "text/html": [
       "<ol class=list-inline>\n",
       "\t<li>500</li>\n",
       "\t<li>7</li>\n",
       "</ol>\n"
      ],
      "text/latex": [
       "\\begin{enumerate*}\n",
       "\\item 500\n",
       "\\item 7\n",
       "\\end{enumerate*}\n"
      ],
      "text/markdown": [
       "1. 500\n",
       "2. 7\n",
       "\n",
       "\n"
      ],
      "text/plain": [
       "[1] 500   7"
      ]
     },
     "metadata": {},
     "output_type": "display_data"
    }
   ],
   "source": [
    "head(df)\n",
    "dim(df)"
   ]
  },
  {
   "cell_type": "code",
   "execution_count": 4,
   "metadata": {},
   "outputs": [
    {
     "data": {
      "text/plain": [
       "   num.child        distance            rides            games       \n",
       " Min.   :0.000   Min.   :  0.5267   Min.   : 72.00   Min.   : 57.00  \n",
       " 1st Qu.:0.000   1st Qu.: 10.3181   1st Qu.: 82.00   1st Qu.: 73.00  \n",
       " Median :2.000   Median : 19.0191   Median : 86.00   Median : 78.00  \n",
       " Mean   :1.738   Mean   : 31.0475   Mean   : 85.85   Mean   : 78.67  \n",
       " 3rd Qu.:3.000   3rd Qu.: 39.5821   3rd Qu.: 90.00   3rd Qu.: 85.00  \n",
       " Max.   :5.000   Max.   :239.1921   Max.   :100.00   Max.   :100.00  \n",
       "      wait           clean          overall      \n",
       " Min.   : 40.0   Min.   : 74.0   Min.   :  6.00  \n",
       " 1st Qu.: 62.0   1st Qu.: 84.0   1st Qu.: 40.00  \n",
       " Median : 70.0   Median : 88.0   Median : 50.00  \n",
       " Mean   : 69.9   Mean   : 87.9   Mean   : 51.26  \n",
       " 3rd Qu.: 77.0   3rd Qu.: 91.0   3rd Qu.: 62.00  \n",
       " Max.   :100.0   Max.   :100.0   Max.   :100.00  "
      ]
     },
     "metadata": {},
     "output_type": "display_data"
    }
   ],
   "source": [
    "summary(df)"
   ]
  },
  {
   "cell_type": "code",
   "execution_count": 5,
   "metadata": {},
   "outputs": [
    {
     "data": {
      "text/html": [
       "<table>\n",
       "<thead><tr><th></th><th scope=col>num.child</th><th scope=col>distance</th><th scope=col>rides</th><th scope=col>games</th><th scope=col>wait</th><th scope=col>clean</th><th scope=col>overall</th></tr></thead>\n",
       "<tbody>\n",
       "\t<tr><th scope=row>num.child</th><td> 1.000000000</td><td>-0.012136454</td><td>-0.040260243</td><td> 0.004658171</td><td>-0.020972921</td><td>-0.013451671</td><td>0.31948036  </td></tr>\n",
       "\t<tr><th scope=row>distance</th><td>-0.012136454</td><td> 1.000000000</td><td>-0.009525919</td><td>-0.006502585</td><td>-0.007391617</td><td> 0.003968523</td><td>0.08712602  </td></tr>\n",
       "\t<tr><th scope=row>rides</th><td>-0.040260243</td><td>-0.009525919</td><td> 1.000000000</td><td> 0.455185111</td><td> 0.314199509</td><td> 0.789565053</td><td>0.58598628  </td></tr>\n",
       "\t<tr><th scope=row>games</th><td> 0.004658171</td><td>-0.006502585</td><td> 0.455185111</td><td> 1.000000000</td><td> 0.299104980</td><td> 0.516979874</td><td>0.43746787  </td></tr>\n",
       "\t<tr><th scope=row>wait</th><td>-0.020972921</td><td>-0.007391617</td><td> 0.314199509</td><td> 0.299104980</td><td> 1.000000000</td><td> 0.367884670</td><td>0.57262166  </td></tr>\n",
       "\t<tr><th scope=row>clean</th><td>-0.013451671</td><td> 0.003968523</td><td> 0.789565053</td><td> 0.516979874</td><td> 0.367884670</td><td> 1.000000000</td><td>0.63939818  </td></tr>\n",
       "\t<tr><th scope=row>overall</th><td> 0.319480357</td><td> 0.087126019</td><td> 0.585986282</td><td> 0.437467872</td><td> 0.572621659</td><td> 0.639398176</td><td>1.00000000  </td></tr>\n",
       "</tbody>\n",
       "</table>\n"
      ],
      "text/latex": [
       "\\begin{tabular}{r|lllllll}\n",
       "  & num.child & distance & rides & games & wait & clean & overall\\\\\n",
       "\\hline\n",
       "\tnum.child &  1.000000000 & -0.012136454 & -0.040260243 &  0.004658171 & -0.020972921 & -0.013451671 & 0.31948036  \\\\\n",
       "\tdistance & -0.012136454 &  1.000000000 & -0.009525919 & -0.006502585 & -0.007391617 &  0.003968523 & 0.08712602  \\\\\n",
       "\trides & -0.040260243 & -0.009525919 &  1.000000000 &  0.455185111 &  0.314199509 &  0.789565053 & 0.58598628  \\\\\n",
       "\tgames &  0.004658171 & -0.006502585 &  0.455185111 &  1.000000000 &  0.299104980 &  0.516979874 & 0.43746787  \\\\\n",
       "\twait & -0.020972921 & -0.007391617 &  0.314199509 &  0.299104980 &  1.000000000 &  0.367884670 & 0.57262166  \\\\\n",
       "\tclean & -0.013451671 &  0.003968523 &  0.789565053 &  0.516979874 &  0.367884670 &  1.000000000 & 0.63939818  \\\\\n",
       "\toverall &  0.319480357 &  0.087126019 &  0.585986282 &  0.437467872 &  0.572621659 &  0.639398176 & 1.00000000  \\\\\n",
       "\\end{tabular}\n"
      ],
      "text/markdown": [
       "\n",
       "| <!--/--> | num.child | distance | rides | games | wait | clean | overall |\n",
       "|---|---|---|---|---|---|---|---|\n",
       "| num.child |  1.000000000 | -0.012136454 | -0.040260243 |  0.004658171 | -0.020972921 | -0.013451671 | 0.31948036   |\n",
       "| distance | -0.012136454 |  1.000000000 | -0.009525919 | -0.006502585 | -0.007391617 |  0.003968523 | 0.08712602   |\n",
       "| rides | -0.040260243 | -0.009525919 |  1.000000000 |  0.455185111 |  0.314199509 |  0.789565053 | 0.58598628   |\n",
       "| games |  0.004658171 | -0.006502585 |  0.455185111 |  1.000000000 |  0.299104980 |  0.516979874 | 0.43746787   |\n",
       "| wait | -0.020972921 | -0.007391617 |  0.314199509 |  0.299104980 |  1.000000000 |  0.367884670 | 0.57262166   |\n",
       "| clean | -0.013451671 |  0.003968523 |  0.789565053 |  0.516979874 |  0.367884670 |  1.000000000 | 0.63939818   |\n",
       "| overall |  0.319480357 |  0.087126019 |  0.585986282 |  0.437467872 |  0.572621659 |  0.639398176 | 1.00000000   |\n",
       "\n"
      ],
      "text/plain": [
       "          num.child    distance     rides        games        wait        \n",
       "num.child  1.000000000 -0.012136454 -0.040260243  0.004658171 -0.020972921\n",
       "distance  -0.012136454  1.000000000 -0.009525919 -0.006502585 -0.007391617\n",
       "rides     -0.040260243 -0.009525919  1.000000000  0.455185111  0.314199509\n",
       "games      0.004658171 -0.006502585  0.455185111  1.000000000  0.299104980\n",
       "wait      -0.020972921 -0.007391617  0.314199509  0.299104980  1.000000000\n",
       "clean     -0.013451671  0.003968523  0.789565053  0.516979874  0.367884670\n",
       "overall    0.319480357  0.087126019  0.585986282  0.437467872  0.572621659\n",
       "          clean        overall   \n",
       "num.child -0.013451671 0.31948036\n",
       "distance   0.003968523 0.08712602\n",
       "rides      0.789565053 0.58598628\n",
       "games      0.516979874 0.43746787\n",
       "wait       0.367884670 0.57262166\n",
       "clean      1.000000000 0.63939818\n",
       "overall    0.639398176 1.00000000"
      ]
     },
     "metadata": {},
     "output_type": "display_data"
    }
   ],
   "source": [
    "cor(df)"
   ]
  },
  {
   "cell_type": "code",
   "execution_count": 6,
   "metadata": {},
   "outputs": [
    {
     "data": {
      "text/html": [
       "<table>\n",
       "<thead><tr><th></th><th scope=col>num.child</th><th scope=col>distance</th><th scope=col>rides</th><th scope=col>games</th><th scope=col>wait</th><th scope=col>clean</th><th scope=col>overall</th></tr></thead>\n",
       "<tbody>\n",
       "\t<tr><th scope=row>num.child</th><td> 1.000000000</td><td>-0.012136454</td><td>-0.040260243</td><td> 0.004658171</td><td>-0.020972921</td><td>-0.013451671</td><td>0.31948036  </td></tr>\n",
       "\t<tr><th scope=row>distance</th><td>-0.012136454</td><td> 1.000000000</td><td>-0.009525919</td><td>-0.006502585</td><td>-0.007391617</td><td> 0.003968523</td><td>0.08712602  </td></tr>\n",
       "\t<tr><th scope=row>rides</th><td>-0.040260243</td><td>-0.009525919</td><td> 1.000000000</td><td> 0.455185111</td><td> 0.314199509</td><td> 0.789565053</td><td>0.58598628  </td></tr>\n",
       "\t<tr><th scope=row>games</th><td> 0.004658171</td><td>-0.006502585</td><td> 0.455185111</td><td> 1.000000000</td><td> 0.299104980</td><td> 0.516979874</td><td>0.43746787  </td></tr>\n",
       "\t<tr><th scope=row>wait</th><td>-0.020972921</td><td>-0.007391617</td><td> 0.314199509</td><td> 0.299104980</td><td> 1.000000000</td><td> 0.367884670</td><td>0.57262166  </td></tr>\n",
       "\t<tr><th scope=row>clean</th><td>-0.013451671</td><td> 0.003968523</td><td> 0.789565053</td><td> 0.516979874</td><td> 0.367884670</td><td> 1.000000000</td><td>0.63939818  </td></tr>\n",
       "\t<tr><th scope=row>overall</th><td> 0.319480357</td><td> 0.087126019</td><td> 0.585986282</td><td> 0.437467872</td><td> 0.572621659</td><td> 0.639398176</td><td>1.00000000  </td></tr>\n",
       "</tbody>\n",
       "</table>\n"
      ],
      "text/latex": [
       "\\begin{tabular}{r|lllllll}\n",
       "  & num.child & distance & rides & games & wait & clean & overall\\\\\n",
       "\\hline\n",
       "\tnum.child &  1.000000000 & -0.012136454 & -0.040260243 &  0.004658171 & -0.020972921 & -0.013451671 & 0.31948036  \\\\\n",
       "\tdistance & -0.012136454 &  1.000000000 & -0.009525919 & -0.006502585 & -0.007391617 &  0.003968523 & 0.08712602  \\\\\n",
       "\trides & -0.040260243 & -0.009525919 &  1.000000000 &  0.455185111 &  0.314199509 &  0.789565053 & 0.58598628  \\\\\n",
       "\tgames &  0.004658171 & -0.006502585 &  0.455185111 &  1.000000000 &  0.299104980 &  0.516979874 & 0.43746787  \\\\\n",
       "\twait & -0.020972921 & -0.007391617 &  0.314199509 &  0.299104980 &  1.000000000 &  0.367884670 & 0.57262166  \\\\\n",
       "\tclean & -0.013451671 &  0.003968523 &  0.789565053 &  0.516979874 &  0.367884670 &  1.000000000 & 0.63939818  \\\\\n",
       "\toverall &  0.319480357 &  0.087126019 &  0.585986282 &  0.437467872 &  0.572621659 &  0.639398176 & 1.00000000  \\\\\n",
       "\\end{tabular}\n"
      ],
      "text/markdown": [
       "\n",
       "| <!--/--> | num.child | distance | rides | games | wait | clean | overall |\n",
       "|---|---|---|---|---|---|---|---|\n",
       "| num.child |  1.000000000 | -0.012136454 | -0.040260243 |  0.004658171 | -0.020972921 | -0.013451671 | 0.31948036   |\n",
       "| distance | -0.012136454 |  1.000000000 | -0.009525919 | -0.006502585 | -0.007391617 |  0.003968523 | 0.08712602   |\n",
       "| rides | -0.040260243 | -0.009525919 |  1.000000000 |  0.455185111 |  0.314199509 |  0.789565053 | 0.58598628   |\n",
       "| games |  0.004658171 | -0.006502585 |  0.455185111 |  1.000000000 |  0.299104980 |  0.516979874 | 0.43746787   |\n",
       "| wait | -0.020972921 | -0.007391617 |  0.314199509 |  0.299104980 |  1.000000000 |  0.367884670 | 0.57262166   |\n",
       "| clean | -0.013451671 |  0.003968523 |  0.789565053 |  0.516979874 |  0.367884670 |  1.000000000 | 0.63939818   |\n",
       "| overall |  0.319480357 |  0.087126019 |  0.585986282 |  0.437467872 |  0.572621659 |  0.639398176 | 1.00000000   |\n",
       "\n"
      ],
      "text/plain": [
       "          num.child    distance     rides        games        wait        \n",
       "num.child  1.000000000 -0.012136454 -0.040260243  0.004658171 -0.020972921\n",
       "distance  -0.012136454  1.000000000 -0.009525919 -0.006502585 -0.007391617\n",
       "rides     -0.040260243 -0.009525919  1.000000000  0.455185111  0.314199509\n",
       "games      0.004658171 -0.006502585  0.455185111  1.000000000  0.299104980\n",
       "wait      -0.020972921 -0.007391617  0.314199509  0.299104980  1.000000000\n",
       "clean     -0.013451671  0.003968523  0.789565053  0.516979874  0.367884670\n",
       "overall    0.319480357  0.087126019  0.585986282  0.437467872  0.572621659\n",
       "          clean        overall   \n",
       "num.child -0.013451671 0.31948036\n",
       "distance   0.003968523 0.08712602\n",
       "rides      0.789565053 0.58598628\n",
       "games      0.516979874 0.43746787\n",
       "wait       0.367884670 0.57262166\n",
       "clean      1.000000000 0.63939818\n",
       "overall    0.639398176 1.00000000"
      ]
     },
     "metadata": {},
     "output_type": "display_data"
    }
   ],
   "source": [
    "(corrmatrix<-cor(df))"
   ]
  },
  {
   "cell_type": "code",
   "execution_count": 7,
   "metadata": {},
   "outputs": [
    {
     "data": {
      "text/html": [
       "<ol class=list-inline>\n",
       "\t<li>1</li>\n",
       "\t<li>-0.0121364536490361</li>\n",
       "\t<li>-0.0402602434866928</li>\n",
       "\t<li>0.00465817101679741</li>\n",
       "\t<li>-0.0209729206573092</li>\n",
       "\t<li>-0.0134516709576893</li>\n",
       "\t<li>0.319480356749572</li>\n",
       "\t<li>-0.0121364536490361</li>\n",
       "\t<li>1</li>\n",
       "\t<li>-0.00952591864769184</li>\n",
       "\t<li>-0.00650258510577331</li>\n",
       "\t<li>-0.00739161697044204</li>\n",
       "\t<li>0.00396852336372731</li>\n",
       "\t<li>0.0871260189921849</li>\n",
       "\t<li>-0.0402602434866928</li>\n",
       "\t<li>-0.00952591864769184</li>\n",
       "\t<li>1</li>\n",
       "\t<li>0.455185110798695</li>\n",
       "\t<li>0.314199509287104</li>\n",
       "\t<li>0.789565052946086</li>\n",
       "\t<li>0.585986282003428</li>\n",
       "\t<li>0.00465817101679741</li>\n",
       "\t<li>-0.00650258510577331</li>\n",
       "\t<li>0.455185110798695</li>\n",
       "\t<li>1</li>\n",
       "\t<li>0.299104980192037</li>\n",
       "\t<li>0.516979874131824</li>\n",
       "\t<li>0.437467871512666</li>\n",
       "\t<li>-0.0209729206573092</li>\n",
       "\t<li>-0.00739161697044204</li>\n",
       "\t<li>0.314199509287104</li>\n",
       "\t<li>0.299104980192037</li>\n",
       "\t<li>1</li>\n",
       "\t<li>0.367884670178212</li>\n",
       "\t<li>0.572621658681783</li>\n",
       "\t<li>-0.0134516709576893</li>\n",
       "\t<li>0.00396852336372731</li>\n",
       "\t<li>0.789565052946086</li>\n",
       "\t<li>0.516979874131824</li>\n",
       "\t<li>0.367884670178212</li>\n",
       "\t<li>1</li>\n",
       "\t<li>0.639398175971866</li>\n",
       "\t<li>0.319480356749572</li>\n",
       "\t<li>0.0871260189921849</li>\n",
       "\t<li>0.585986282003428</li>\n",
       "\t<li>0.437467871512666</li>\n",
       "\t<li>0.572621658681783</li>\n",
       "\t<li>0.639398175971866</li>\n",
       "\t<li>1</li>\n",
       "</ol>\n"
      ],
      "text/latex": [
       "\\begin{enumerate*}\n",
       "\\item 1\n",
       "\\item -0.0121364536490361\n",
       "\\item -0.0402602434866928\n",
       "\\item 0.00465817101679741\n",
       "\\item -0.0209729206573092\n",
       "\\item -0.0134516709576893\n",
       "\\item 0.319480356749572\n",
       "\\item -0.0121364536490361\n",
       "\\item 1\n",
       "\\item -0.00952591864769184\n",
       "\\item -0.00650258510577331\n",
       "\\item -0.00739161697044204\n",
       "\\item 0.00396852336372731\n",
       "\\item 0.0871260189921849\n",
       "\\item -0.0402602434866928\n",
       "\\item -0.00952591864769184\n",
       "\\item 1\n",
       "\\item 0.455185110798695\n",
       "\\item 0.314199509287104\n",
       "\\item 0.789565052946086\n",
       "\\item 0.585986282003428\n",
       "\\item 0.00465817101679741\n",
       "\\item -0.00650258510577331\n",
       "\\item 0.455185110798695\n",
       "\\item 1\n",
       "\\item 0.299104980192037\n",
       "\\item 0.516979874131824\n",
       "\\item 0.437467871512666\n",
       "\\item -0.0209729206573092\n",
       "\\item -0.00739161697044204\n",
       "\\item 0.314199509287104\n",
       "\\item 0.299104980192037\n",
       "\\item 1\n",
       "\\item 0.367884670178212\n",
       "\\item 0.572621658681783\n",
       "\\item -0.0134516709576893\n",
       "\\item 0.00396852336372731\n",
       "\\item 0.789565052946086\n",
       "\\item 0.516979874131824\n",
       "\\item 0.367884670178212\n",
       "\\item 1\n",
       "\\item 0.639398175971866\n",
       "\\item 0.319480356749572\n",
       "\\item 0.0871260189921849\n",
       "\\item 0.585986282003428\n",
       "\\item 0.437467871512666\n",
       "\\item 0.572621658681783\n",
       "\\item 0.639398175971866\n",
       "\\item 1\n",
       "\\end{enumerate*}\n"
      ],
      "text/markdown": [
       "1. 1\n",
       "2. -0.0121364536490361\n",
       "3. -0.0402602434866928\n",
       "4. 0.00465817101679741\n",
       "5. -0.0209729206573092\n",
       "6. -0.0134516709576893\n",
       "7. 0.319480356749572\n",
       "8. -0.0121364536490361\n",
       "9. 1\n",
       "10. -0.00952591864769184\n",
       "11. -0.00650258510577331\n",
       "12. -0.00739161697044204\n",
       "13. 0.00396852336372731\n",
       "14. 0.0871260189921849\n",
       "15. -0.0402602434866928\n",
       "16. -0.00952591864769184\n",
       "17. 1\n",
       "18. 0.455185110798695\n",
       "19. 0.314199509287104\n",
       "20. 0.789565052946086\n",
       "21. 0.585986282003428\n",
       "22. 0.00465817101679741\n",
       "23. -0.00650258510577331\n",
       "24. 0.455185110798695\n",
       "25. 1\n",
       "26. 0.299104980192037\n",
       "27. 0.516979874131824\n",
       "28. 0.437467871512666\n",
       "29. -0.0209729206573092\n",
       "30. -0.00739161697044204\n",
       "31. 0.314199509287104\n",
       "32. 0.299104980192037\n",
       "33. 1\n",
       "34. 0.367884670178212\n",
       "35. 0.572621658681783\n",
       "36. -0.0134516709576893\n",
       "37. 0.00396852336372731\n",
       "38. 0.789565052946086\n",
       "39. 0.516979874131824\n",
       "40. 0.367884670178212\n",
       "41. 1\n",
       "42. 0.639398175971866\n",
       "43. 0.319480356749572\n",
       "44. 0.0871260189921849\n",
       "45. 0.585986282003428\n",
       "46. 0.437467871512666\n",
       "47. 0.572621658681783\n",
       "48. 0.639398175971866\n",
       "49. 1\n",
       "\n",
       "\n"
      ],
      "text/plain": [
       " [1]  1.000000000 -0.012136454 -0.040260243  0.004658171 -0.020972921\n",
       " [6] -0.013451671  0.319480357 -0.012136454  1.000000000 -0.009525919\n",
       "[11] -0.006502585 -0.007391617  0.003968523  0.087126019 -0.040260243\n",
       "[16] -0.009525919  1.000000000  0.455185111  0.314199509  0.789565053\n",
       "[21]  0.585986282  0.004658171 -0.006502585  0.455185111  1.000000000\n",
       "[26]  0.299104980  0.516979874  0.437467872 -0.020972921 -0.007391617\n",
       "[31]  0.314199509  0.299104980  1.000000000  0.367884670  0.572621659\n",
       "[36] -0.013451671  0.003968523  0.789565053  0.516979874  0.367884670\n",
       "[41]  1.000000000  0.639398176  0.319480357  0.087126019  0.585986282\n",
       "[46]  0.437467872  0.572621659  0.639398176  1.000000000"
      ]
     },
     "metadata": {},
     "output_type": "display_data"
    }
   ],
   "source": [
    "corrmatrix[corrmatrix > 0.5 | corrmatrix < 0.5]"
   ]
  },
  {
   "cell_type": "code",
   "execution_count": 8,
   "metadata": {
    "scrolled": false
   },
   "outputs": [
    {
     "name": "stderr",
     "output_type": "stream",
     "text": [
      "Warning message:\n",
      "\"package 'corrplot' was built under R version 3.6.2\"corrplot 0.84 loaded\n"
     ]
    },
    {
     "data": {
      "image/png": "[encoded data removed]",
      "text/plain": [
       "Plot with title \"\""
      ]
     },
     "metadata": {},
     "output_type": "display_data"
    }
   ],
   "source": [
    "library(corrplot)\n",
    "corrplot(cor(df),method='circle')"
   ]
  },
  {
   "cell_type": "code",
   "execution_count": 9,
   "metadata": {},
   "outputs": [
    {
     "data": {
      "text/plain": [
       "\n",
       "Call:\n",
       "lm(formula = overall ~ ., data = df)\n",
       "\n",
       "Coefficients:\n",
       "(Intercept)    num.child     distance        rides        games         wait  \n",
       "  -141.2306       3.6185       0.0457       0.6177       0.1390       0.5642  \n",
       "      clean  \n",
       "     0.9259  \n"
      ]
     },
     "metadata": {},
     "output_type": "display_data"
    }
   ],
   "source": [
    "(model <-lm(overall ~ . , data=df))"
   ]
  },
  {
   "cell_type": "code",
   "execution_count": 10,
   "metadata": {},
   "outputs": [
    {
     "data": {
      "text/plain": [
       "\n",
       "Call:\n",
       "lm(formula = overall ~ ., data = df)\n",
       "\n",
       "Residuals:\n",
       "     Min       1Q   Median       3Q      Max \n",
       "-24.2531  -6.4008   0.0604   6.3579  26.7340 \n",
       "\n",
       "Coefficients:\n",
       "              Estimate Std. Error t value Pr(>|t|)    \n",
       "(Intercept) -141.23060    7.11832 -19.840  < 2e-16 ***\n",
       "num.child      3.61850    0.26973  13.415  < 2e-16 ***\n",
       "distance       0.04570    0.01216   3.759 0.000191 ***\n",
       "rides          0.61770    0.12087   5.110 4.61e-07 ***\n",
       "games          0.13898    0.05871   2.367 0.018295 *  \n",
       "wait           0.56421    0.04063  13.887  < 2e-16 ***\n",
       "clean          0.92590    0.13590   6.813 2.79e-11 ***\n",
       "---\n",
       "Signif. codes:  0 '***' 0.001 '**' 0.01 '*' 0.05 '.' 0.1 ' ' 1\n",
       "\n",
       "Residual standard error: 8.998 on 493 degrees of freedom\n",
       "Multiple R-squared:  0.6827,\tAdjusted R-squared:  0.6789 \n",
       "F-statistic: 176.8 on 6 and 493 DF,  p-value: < 2.2e-16\n"
      ]
     },
     "metadata": {},
     "output_type": "display_data"
    }
   ],
   "source": [
    "summary(model)"
   ]
  },
  {
   "cell_type": "code",
   "execution_count": 11,
   "metadata": {},
   "outputs": [
    {
     "name": "stdout",
     "output_type": "stream",
     "text": [
      "Start:  AIC=2204\n",
      "overall ~ num.child + distance + rides + games + wait + clean\n",
      "\n",
      "            Df Sum of Sq   RSS    AIC\n",
      "<none>                   39919 2204.0\n",
      "- games      1     453.8 40373 2207.7\n",
      "- distance   1    1144.1 41063 2216.1\n",
      "- rides      1    2114.7 42034 2227.8\n",
      "- clean      1    3758.8 43678 2247.0\n",
      "- num.child  1   14572.7 54492 2357.6\n",
      "- wait       1   15615.7 55535 2367.1\n"
     ]
    }
   ],
   "source": [
    "reduced<-step(model, direction='backward')"
   ]
  },
  {
   "cell_type": "code",
   "execution_count": 12,
   "metadata": {},
   "outputs": [
    {
     "data": {
      "text/plain": [
       "\n",
       "Call:\n",
       "lm(formula = overall ~ num.child + distance + rides + games + \n",
       "    wait + clean, data = df)\n",
       "\n",
       "Residuals:\n",
       "     Min       1Q   Median       3Q      Max \n",
       "-24.2531  -6.4008   0.0604   6.3579  26.7340 \n",
       "\n",
       "Coefficients:\n",
       "              Estimate Std. Error t value Pr(>|t|)    \n",
       "(Intercept) -141.23060    7.11832 -19.840  < 2e-16 ***\n",
       "num.child      3.61850    0.26973  13.415  < 2e-16 ***\n",
       "distance       0.04570    0.01216   3.759 0.000191 ***\n",
       "rides          0.61770    0.12087   5.110 4.61e-07 ***\n",
       "games          0.13898    0.05871   2.367 0.018295 *  \n",
       "wait           0.56421    0.04063  13.887  < 2e-16 ***\n",
       "clean          0.92590    0.13590   6.813 2.79e-11 ***\n",
       "---\n",
       "Signif. codes:  0 '***' 0.001 '**' 0.01 '*' 0.05 '.' 0.1 ' ' 1\n",
       "\n",
       "Residual standard error: 8.998 on 493 degrees of freedom\n",
       "Multiple R-squared:  0.6827,\tAdjusted R-squared:  0.6789 \n",
       "F-statistic: 176.8 on 6 and 493 DF,  p-value: < 2.2e-16\n"
      ]
     },
     "metadata": {},
     "output_type": "display_data"
    }
   ],
   "source": [
    "summary(reduced)"
   ]
  },
  {
   "cell_type": "code",
   "execution_count": null,
   "metadata": {},
   "outputs": [],
   "source": []
  }
 ],
 "metadata": {
  "kernelspec": {
   "display_name": "R",
   "language": "R",
   "name": "ir"
  },
  "language_info": {
   "codemirror_mode": "r",
   "file_extension": ".r",
   "mimetype": "text/x-r-source",
   "name": "R",
   "pygments_lexer": "r",
   "version": "3.6.1"
  }
 },
 "nbformat": 4,
 "nbformat_minor": 2
}
