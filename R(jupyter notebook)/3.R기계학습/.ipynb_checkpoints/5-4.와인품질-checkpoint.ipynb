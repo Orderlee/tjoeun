{
 "cells": [
  {
   "cell_type": "code",
   "execution_count": 7,
   "metadata": {
    "scrolled": false
   },
   "outputs": [
    {
     "data": {
      "text/html": [
       "<table>\n",
       "<thead><tr><th scope=col>fixed.acidity</th><th scope=col>volatile.acidity</th><th scope=col>citric.acid</th><th scope=col>residual.sugar</th><th scope=col>chlorides</th><th scope=col>free.sulfur.dioxide</th><th scope=col>total.sulfur.dioxide</th><th scope=col>density</th><th scope=col>pH</th><th scope=col>sulphates</th><th scope=col>alcohol</th><th scope=col>quality</th><th scope=col>class</th></tr></thead>\n",
       "<tbody>\n",
       "\t<tr><td> 7.4  </td><td>0.70  </td><td>0.00  </td><td>1.9   </td><td>0.076 </td><td>11    </td><td>34    </td><td>0.9978</td><td>3.51  </td><td>0.56  </td><td>9.4   </td><td>5     </td><td>0     </td></tr>\n",
       "\t<tr><td> 7.8  </td><td>0.88  </td><td>0.00  </td><td>2.6   </td><td>0.098 </td><td>25    </td><td>67    </td><td>0.9968</td><td>3.20  </td><td>0.68  </td><td>9.8   </td><td>5     </td><td>0     </td></tr>\n",
       "\t<tr><td> 7.8  </td><td>0.76  </td><td>0.04  </td><td>2.3   </td><td>0.092 </td><td>15    </td><td>54    </td><td>0.9970</td><td>3.26  </td><td>0.65  </td><td>9.8   </td><td>5     </td><td>0     </td></tr>\n",
       "\t<tr><td>11.2  </td><td>0.28  </td><td>0.56  </td><td>1.9   </td><td>0.075 </td><td>17    </td><td>60    </td><td>0.9980</td><td>3.16  </td><td>0.58  </td><td>9.8   </td><td>6     </td><td>1     </td></tr>\n",
       "\t<tr><td> 7.4  </td><td>0.70  </td><td>0.00  </td><td>1.9   </td><td>0.076 </td><td>11    </td><td>34    </td><td>0.9978</td><td>3.51  </td><td>0.56  </td><td>9.4   </td><td>5     </td><td>0     </td></tr>\n",
       "\t<tr><td> 7.4  </td><td>0.66  </td><td>0.00  </td><td>1.8   </td><td>0.075 </td><td>13    </td><td>40    </td><td>0.9978</td><td>3.51  </td><td>0.56  </td><td>9.4   </td><td>5     </td><td>0     </td></tr>\n",
       "</tbody>\n",
       "</table>\n"
      ],
      "text/latex": [
       "\\begin{tabular}{r|lllllllllllll}\n",
       " fixed.acidity & volatile.acidity & citric.acid & residual.sugar & chlorides & free.sulfur.dioxide & total.sulfur.dioxide & density & pH & sulphates & alcohol & quality & class\\\\\n",
       "\\hline\n",
       "\t  7.4   & 0.70   & 0.00   & 1.9    & 0.076  & 11     & 34     & 0.9978 & 3.51   & 0.56   & 9.4    & 5      & 0     \\\\\n",
       "\t  7.8   & 0.88   & 0.00   & 2.6    & 0.098  & 25     & 67     & 0.9968 & 3.20   & 0.68   & 9.8    & 5      & 0     \\\\\n",
       "\t  7.8   & 0.76   & 0.04   & 2.3    & 0.092  & 15     & 54     & 0.9970 & 3.26   & 0.65   & 9.8    & 5      & 0     \\\\\n",
       "\t 11.2   & 0.28   & 0.56   & 1.9    & 0.075  & 17     & 60     & 0.9980 & 3.16   & 0.58   & 9.8    & 6      & 1     \\\\\n",
       "\t  7.4   & 0.70   & 0.00   & 1.9    & 0.076  & 11     & 34     & 0.9978 & 3.51   & 0.56   & 9.4    & 5      & 0     \\\\\n",
       "\t  7.4   & 0.66   & 0.00   & 1.8    & 0.075  & 13     & 40     & 0.9978 & 3.51   & 0.56   & 9.4    & 5      & 0     \\\\\n",
       "\\end{tabular}\n"
      ],
      "text/markdown": [
       "\n",
       "| fixed.acidity | volatile.acidity | citric.acid | residual.sugar | chlorides | free.sulfur.dioxide | total.sulfur.dioxide | density | pH | sulphates | alcohol | quality | class |\n",
       "|---|---|---|---|---|---|---|---|---|---|---|---|---|\n",
       "|  7.4   | 0.70   | 0.00   | 1.9    | 0.076  | 11     | 34     | 0.9978 | 3.51   | 0.56   | 9.4    | 5      | 0      |\n",
       "|  7.8   | 0.88   | 0.00   | 2.6    | 0.098  | 25     | 67     | 0.9968 | 3.20   | 0.68   | 9.8    | 5      | 0      |\n",
       "|  7.8   | 0.76   | 0.04   | 2.3    | 0.092  | 15     | 54     | 0.9970 | 3.26   | 0.65   | 9.8    | 5      | 0      |\n",
       "| 11.2   | 0.28   | 0.56   | 1.9    | 0.075  | 17     | 60     | 0.9980 | 3.16   | 0.58   | 9.8    | 6      | 1      |\n",
       "|  7.4   | 0.70   | 0.00   | 1.9    | 0.076  | 11     | 34     | 0.9978 | 3.51   | 0.56   | 9.4    | 5      | 0      |\n",
       "|  7.4   | 0.66   | 0.00   | 1.8    | 0.075  | 13     | 40     | 0.9978 | 3.51   | 0.56   | 9.4    | 5      | 0      |\n",
       "\n"
      ],
      "text/plain": [
       "  fixed.acidity volatile.acidity citric.acid residual.sugar chlorides\n",
       "1  7.4          0.70             0.00        1.9            0.076    \n",
       "2  7.8          0.88             0.00        2.6            0.098    \n",
       "3  7.8          0.76             0.04        2.3            0.092    \n",
       "4 11.2          0.28             0.56        1.9            0.075    \n",
       "5  7.4          0.70             0.00        1.9            0.076    \n",
       "6  7.4          0.66             0.00        1.8            0.075    \n",
       "  free.sulfur.dioxide total.sulfur.dioxide density pH   sulphates alcohol\n",
       "1 11                  34                   0.9978  3.51 0.56      9.4    \n",
       "2 25                  67                   0.9968  3.20 0.68      9.8    \n",
       "3 15                  54                   0.9970  3.26 0.65      9.8    \n",
       "4 17                  60                   0.9980  3.16 0.58      9.8    \n",
       "5 11                  34                   0.9978  3.51 0.56      9.4    \n",
       "6 13                  40                   0.9978  3.51 0.56      9.4    \n",
       "  quality class\n",
       "1 5       0    \n",
       "2 5       0    \n",
       "3 5       0    \n",
       "4 6       1    \n",
       "5 5       0    \n",
       "6 5       0    "
      ]
     },
     "metadata": {},
     "output_type": "display_data"
    }
   ],
   "source": [
    "df<-read.csv('d:/data/wine/winequality-red2.csv')\n",
    "head(df)"
   ]
  },
  {
   "cell_type": "code",
   "execution_count": 8,
   "metadata": {},
   "outputs": [
    {
     "data": {
      "text/html": [
       "<table>\n",
       "<thead><tr><th scope=col>fixed.acidity</th><th scope=col>volatile.acidity</th><th scope=col>citric.acid</th><th scope=col>residual.sugar</th><th scope=col>chlorides</th><th scope=col>free.sulfur.dioxide</th><th scope=col>total.sulfur.dioxide</th><th scope=col>density</th><th scope=col>pH</th><th scope=col>sulphates</th><th scope=col>alcohol</th><th scope=col>class</th></tr></thead>\n",
       "<tbody>\n",
       "\t<tr><td> 7.4  </td><td>0.70  </td><td>0.00  </td><td>1.9   </td><td>0.076 </td><td>11    </td><td>34    </td><td>0.9978</td><td>3.51  </td><td>0.56  </td><td>9.4   </td><td>0     </td></tr>\n",
       "\t<tr><td> 7.8  </td><td>0.88  </td><td>0.00  </td><td>2.6   </td><td>0.098 </td><td>25    </td><td>67    </td><td>0.9968</td><td>3.20  </td><td>0.68  </td><td>9.8   </td><td>0     </td></tr>\n",
       "\t<tr><td> 7.8  </td><td>0.76  </td><td>0.04  </td><td>2.3   </td><td>0.092 </td><td>15    </td><td>54    </td><td>0.9970</td><td>3.26  </td><td>0.65  </td><td>9.8   </td><td>0     </td></tr>\n",
       "\t<tr><td>11.2  </td><td>0.28  </td><td>0.56  </td><td>1.9   </td><td>0.075 </td><td>17    </td><td>60    </td><td>0.9980</td><td>3.16  </td><td>0.58  </td><td>9.8   </td><td>1     </td></tr>\n",
       "\t<tr><td> 7.4  </td><td>0.70  </td><td>0.00  </td><td>1.9   </td><td>0.076 </td><td>11    </td><td>34    </td><td>0.9978</td><td>3.51  </td><td>0.56  </td><td>9.4   </td><td>0     </td></tr>\n",
       "\t<tr><td> 7.4  </td><td>0.66  </td><td>0.00  </td><td>1.8   </td><td>0.075 </td><td>13    </td><td>40    </td><td>0.9978</td><td>3.51  </td><td>0.56  </td><td>9.4   </td><td>0     </td></tr>\n",
       "</tbody>\n",
       "</table>\n"
      ],
      "text/latex": [
       "\\begin{tabular}{r|llllllllllll}\n",
       " fixed.acidity & volatile.acidity & citric.acid & residual.sugar & chlorides & free.sulfur.dioxide & total.sulfur.dioxide & density & pH & sulphates & alcohol & class\\\\\n",
       "\\hline\n",
       "\t  7.4   & 0.70   & 0.00   & 1.9    & 0.076  & 11     & 34     & 0.9978 & 3.51   & 0.56   & 9.4    & 0     \\\\\n",
       "\t  7.8   & 0.88   & 0.00   & 2.6    & 0.098  & 25     & 67     & 0.9968 & 3.20   & 0.68   & 9.8    & 0     \\\\\n",
       "\t  7.8   & 0.76   & 0.04   & 2.3    & 0.092  & 15     & 54     & 0.9970 & 3.26   & 0.65   & 9.8    & 0     \\\\\n",
       "\t 11.2   & 0.28   & 0.56   & 1.9    & 0.075  & 17     & 60     & 0.9980 & 3.16   & 0.58   & 9.8    & 1     \\\\\n",
       "\t  7.4   & 0.70   & 0.00   & 1.9    & 0.076  & 11     & 34     & 0.9978 & 3.51   & 0.56   & 9.4    & 0     \\\\\n",
       "\t  7.4   & 0.66   & 0.00   & 1.8    & 0.075  & 13     & 40     & 0.9978 & 3.51   & 0.56   & 9.4    & 0     \\\\\n",
       "\\end{tabular}\n"
      ],
      "text/markdown": [
       "\n",
       "| fixed.acidity | volatile.acidity | citric.acid | residual.sugar | chlorides | free.sulfur.dioxide | total.sulfur.dioxide | density | pH | sulphates | alcohol | class |\n",
       "|---|---|---|---|---|---|---|---|---|---|---|---|\n",
       "|  7.4   | 0.70   | 0.00   | 1.9    | 0.076  | 11     | 34     | 0.9978 | 3.51   | 0.56   | 9.4    | 0      |\n",
       "|  7.8   | 0.88   | 0.00   | 2.6    | 0.098  | 25     | 67     | 0.9968 | 3.20   | 0.68   | 9.8    | 0      |\n",
       "|  7.8   | 0.76   | 0.04   | 2.3    | 0.092  | 15     | 54     | 0.9970 | 3.26   | 0.65   | 9.8    | 0      |\n",
       "| 11.2   | 0.28   | 0.56   | 1.9    | 0.075  | 17     | 60     | 0.9980 | 3.16   | 0.58   | 9.8    | 1      |\n",
       "|  7.4   | 0.70   | 0.00   | 1.9    | 0.076  | 11     | 34     | 0.9978 | 3.51   | 0.56   | 9.4    | 0      |\n",
       "|  7.4   | 0.66   | 0.00   | 1.8    | 0.075  | 13     | 40     | 0.9978 | 3.51   | 0.56   | 9.4    | 0      |\n",
       "\n"
      ],
      "text/plain": [
       "  fixed.acidity volatile.acidity citric.acid residual.sugar chlorides\n",
       "1  7.4          0.70             0.00        1.9            0.076    \n",
       "2  7.8          0.88             0.00        2.6            0.098    \n",
       "3  7.8          0.76             0.04        2.3            0.092    \n",
       "4 11.2          0.28             0.56        1.9            0.075    \n",
       "5  7.4          0.70             0.00        1.9            0.076    \n",
       "6  7.4          0.66             0.00        1.8            0.075    \n",
       "  free.sulfur.dioxide total.sulfur.dioxide density pH   sulphates alcohol class\n",
       "1 11                  34                   0.9978  3.51 0.56      9.4     0    \n",
       "2 25                  67                   0.9968  3.20 0.68      9.8     0    \n",
       "3 15                  54                   0.9970  3.26 0.65      9.8     0    \n",
       "4 17                  60                   0.9980  3.16 0.58      9.8     1    \n",
       "5 11                  34                   0.9978  3.51 0.56      9.4     0    \n",
       "6 13                  40                   0.9978  3.51 0.56      9.4     0    "
      ]
     },
     "metadata": {},
     "output_type": "display_data"
    },
    {
     "data": {
      "text/html": [
       "<ol class=list-inline>\n",
       "\t<li>1599</li>\n",
       "\t<li>12</li>\n",
       "</ol>\n"
      ],
      "text/latex": [
       "\\begin{enumerate*}\n",
       "\\item 1599\n",
       "\\item 12\n",
       "\\end{enumerate*}\n"
      ],
      "text/markdown": [
       "1. 1599\n",
       "2. 12\n",
       "\n",
       "\n"
      ],
      "text/plain": [
       "[1] 1599   12"
      ]
     },
     "metadata": {},
     "output_type": "display_data"
    }
   ],
   "source": [
    "library(dplyr)\n",
    "df<-df %>% select(-quality)\n",
    "head(df)\n",
    "dim(df)"
   ]
  },
  {
   "cell_type": "code",
   "execution_count": 10,
   "metadata": {},
   "outputs": [
    {
     "data": {
      "text/plain": [
       "\n",
       "  0   1 \n",
       "744 855 "
      ]
     },
     "metadata": {},
     "output_type": "display_data"
    },
    {
     "data": {
      "image/png": "[encoded data removed]",
      "text/plain": [
       "plot without title"
      ]
     },
     "metadata": {},
     "output_type": "display_data"
    }
   ],
   "source": [
    "(tbl<-table(df$class))\n",
    "barplot(tbl,beside=T,legend=T, col=rainbow(2))"
   ]
  },
  {
   "cell_type": "code",
   "execution_count": 11,
   "metadata": {},
   "outputs": [
    {
     "name": "stderr",
     "output_type": "stream",
     "text": [
      "Warning message:\n",
      "\"package 'ROSE' was built under R version 3.6.2\"Loaded ROSE 0.0-3\n",
      "\n"
     ]
    },
    {
     "data": {
      "text/plain": [
       "\n",
       "  0   1 \n",
       "744 744 "
      ]
     },
     "metadata": {},
     "output_type": "display_data"
    }
   ],
   "source": [
    "library(ROSE)\n",
    "df_samp<-ovun.sample(class ~ . , data=df, seed=1, method='under',\n",
    "                    N=744*2)$data\n",
    "(tbl<-table(df_samp$class))"
   ]
  },
  {
   "cell_type": "code",
   "execution_count": 12,
   "metadata": {},
   "outputs": [
    {
     "name": "stderr",
     "output_type": "stream",
     "text": [
      "Loading required package: lattice\n",
      "Warning message:\n",
      "\"package 'lattice' was built under R version 3.6.2\"Loading required package: ggplot2\n",
      "Warning message:\n",
      "\"package 'ggplot2' was built under R version 3.6.2\""
     ]
    }
   ],
   "source": [
    "library(caret)\n",
    "set.seed(123)\n",
    "#학습용:검증용 8:2로 구분\n",
    "idx_train<-createDataPartition(y=df_samp$class,p=0.8,list=F)\n",
    "train<-df_samp[idx_train,] #학습용\n",
    "X_train<-train[,-12]\n",
    "y_train<-train[,12]\n",
    "test<-df_samp[-idx_train,] #검증용\n",
    "X_test<-test[,-12]\n",
    "y_test<-test[,12]"
   ]
  },
  {
   "cell_type": "code",
   "execution_count": 31,
   "metadata": {},
   "outputs": [
    {
     "name": "stderr",
     "output_type": "stream",
     "text": [
      "Using  as id variables\n"
     ]
    },
    {
     "data": {
      "image/png": "[encoded data removed]",
      "text/plain": [
       "plot without title"
      ]
     },
     "metadata": {},
     "output_type": "display_data"
    }
   ],
   "source": [
    "library(reshape)\n",
    "meltData<-melt(X_train)\n",
    "#head(X_train)\n",
    "#head(meltData)\n",
    "boxplot(data=meltData,value~variable)"
   ]
  },
  {
   "cell_type": "code",
   "execution_count": 36,
   "metadata": {},
   "outputs": [],
   "source": [
    "#정규화 작업\n",
    "X_train_scaled<-scale(X_train) #매트릭스가 리턴됨\n",
    "X_test_scaled<-scale(X_test)\n",
    "#매트릭스를 데이터프레임으로 변환\n",
    "X_train_scaled<-as.data.frame(X_train_scaled)\n",
    "X_test_scaled<-as.data.frame(X_test_scaled)\n",
    "#종속변수까지 추가한 데이터\n",
    "train_scaled<-cbind(X_train_scaled,class=y_train)\n",
    "test_scaled<-cbind(X_test_scaled,class=y_test)"
   ]
  },
  {
   "cell_type": "code",
   "execution_count": 37,
   "metadata": {},
   "outputs": [
    {
     "name": "stderr",
     "output_type": "stream",
     "text": [
      "Using  as id variables\n"
     ]
    },
    {
     "data": {
      "image/png": "[encoded data removed]",
      "text/plain": [
       "plot without title"
      ]
     },
     "metadata": {},
     "output_type": "display_data"
    }
   ],
   "source": [
    "meltData<-melt(X_train_scaled)\n",
    "boxplot(data=meltData,value~variable)"
   ]
  },
  {
   "cell_type": "code",
   "execution_count": 38,
   "metadata": {},
   "outputs": [
    {
     "data": {
      "text/plain": [
       "\n",
       "\t Conditional inference tree with 13 terminal nodes\n",
       "\n",
       "Response:  class \n",
       "Inputs:  fixed.acidity, volatile.acidity, citric.acid, residual.sugar, chlorides, free.sulfur.dioxide, total.sulfur.dioxide, density, pH, sulphates, alcohol \n",
       "Number of observations:  1192 \n",
       "\n",
       "1) alcohol <= -0.08204473; criterion = 1, statistic = 230.946\n",
       "  2) volatile.acidity <= 0.06720098; criterion = 1, statistic = 54.722\n",
       "    3) total.sulfur.dioxide <= 0.4126121; criterion = 1, statistic = 26.604\n",
       "      4) sulphates <= -0.08565302; criterion = 0.996, statistic = 12.499\n",
       "        5)*  weights = 112 \n",
       "      4) sulphates > -0.08565302\n",
       "        6) chlorides <= 0.1948625; criterion = 0.969, statistic = 8.916\n",
       "          7)*  weights = 69 \n",
       "        6) chlorides > 0.1948625\n",
       "          8)*  weights = 20 \n",
       "    3) total.sulfur.dioxide > 0.4126121\n",
       "      9) alcohol <= -0.5570965; criterion = 0.98, statistic = 9.694\n",
       "        10)*  weights = 78 \n",
       "      9) alcohol > -0.5570965\n",
       "        11)*  weights = 11 \n",
       "  2) volatile.acidity > 0.06720098\n",
       "    12)*  weights = 386 \n",
       "1) alcohol > -0.08204473\n",
       "  13) sulphates <= -0.08565302; criterion = 1, statistic = 45.966\n",
       "    14) volatile.acidity <= 1.762225; criterion = 0.999, statistic = 16.281\n",
       "      15) alcohol <= 0.9630691; criterion = 0.997, statistic = 13.434\n",
       "        16) free.sulfur.dioxide <= -0.5482337; criterion = 0.991, statistic = 11.17\n",
       "          17)*  weights = 59 \n",
       "        16) free.sulfur.dioxide > -0.5482337\n",
       "          18)*  weights = 76 \n",
       "      15) alcohol > 0.9630691\n",
       "        19)*  weights = 91 \n",
       "    14) volatile.acidity > 1.762225\n",
       "      20)*  weights = 20 \n",
       "  13) sulphates > -0.08565302\n",
       "    21) total.sulfur.dioxide <= 1.647391; criterion = 1, statistic = 26.419\n",
       "      22) alcohol <= 0.7730484; criterion = 0.997, statistic = 13.187\n",
       "        23)*  weights = 132 \n",
       "      22) alcohol > 0.7730484\n",
       "        24)*  weights = 129 \n",
       "    21) total.sulfur.dioxide > 1.647391\n",
       "      25)*  weights = 9 "
      ]
     },
     "metadata": {},
     "output_type": "display_data"
    }
   ],
   "source": [
    "#의사결정나무 모형\n",
    "library(party)\n",
    "model<-ctree(class ~ . , data=train_scaled)\n",
    "model"
   ]
  },
  {
   "cell_type": "code",
   "execution_count": 39,
   "metadata": {},
   "outputs": [
    {
     "data": {
      "image/png": "[encoded data removed]",
      "text/plain": [
       "plot without title"
      ]
     },
     "metadata": {},
     "output_type": "display_data"
    }
   ],
   "source": [
    "plot(model) #트리 그래프"
   ]
  },
  {
   "cell_type": "code",
   "execution_count": 40,
   "metadata": {},
   "outputs": [
    {
     "data": {
      "text/plain": [
       "       result\n",
       "y_train   0   1\n",
       "      0 513  83\n",
       "      1 171 425"
      ]
     },
     "metadata": {},
     "output_type": "display_data"
    },
    {
     "data": {
      "text/html": [
       "0.786912751677852"
      ],
      "text/latex": [
       "0.786912751677852"
      ],
      "text/markdown": [
       "0.786912751677852"
      ],
      "text/plain": [
       "[1] 0.7869128"
      ]
     },
     "metadata": {},
     "output_type": "display_data"
    }
   ],
   "source": [
    "#모형의 성능 평가 (학습용 데이터셋의 예측 정확도)\n",
    "pred<-predict(model,newdata=X_train_scaled,type='response')\n",
    "result<-round(pred)\n",
    "table(y_train,result)\n",
    "mean(y_train == result)"
   ]
  },
  {
   "cell_type": "code",
   "execution_count": 41,
   "metadata": {},
   "outputs": [
    {
     "data": {
      "text/plain": [
       "      result\n",
       "y_test   0   1\n",
       "     0 119  29\n",
       "     1  42 106"
      ]
     },
     "metadata": {},
     "output_type": "display_data"
    },
    {
     "data": {
      "text/html": [
       "0.760135135135135"
      ],
      "text/latex": [
       "0.760135135135135"
      ],
      "text/markdown": [
       "0.760135135135135"
      ],
      "text/plain": [
       "[1] 0.7601351"
      ]
     },
     "metadata": {},
     "output_type": "display_data"
    }
   ],
   "source": [
    "#모형의 성녕 평가 (검증용 데이터셋의 예측 정확도)\n",
    "pred<-predict(model, newdata=X_test_scaled,type='response')\n",
    "result<-round(pred)\n",
    "table(y_test,result)\n",
    "mean(y_test == result)"
   ]
  },
  {
   "cell_type": "code",
   "execution_count": 42,
   "metadata": {},
   "outputs": [
    {
     "name": "stderr",
     "output_type": "stream",
     "text": [
      "Warning message in randomForest.default(m, y, ...):\n",
      "\"The response has five or fewer unique values.  Are you sure you want to do regression?\""
     ]
    },
    {
     "data": {
      "text/plain": [
       "\n",
       "Call:\n",
       " randomForest(formula = class ~ ., data = train_scaled, mtry = floor(sqrt(ncol(train))),      ntree = 1000, importance = T) \n",
       "               Type of random forest: regression\n",
       "                     Number of trees: 1000\n",
       "No. of variables tried at each split: 3\n",
       "\n",
       "          Mean of squared residuals: 0.1392721\n",
       "                    % Var explained: 44.29"
      ]
     },
     "metadata": {},
     "output_type": "display_data"
    }
   ],
   "source": [
    "#랜덤포레스트 모형, 트리갯수 100개\n",
    "library(randomForest)\n",
    "set.seed(1)\n",
    "model<-randomForest(class ~ . , data=train_scaled,\n",
    "                   mtry=floor(sqrt(ncol(train))),ntree=1000,importance=T)\n",
    "model"
   ]
  },
  {
   "cell_type": "code",
   "execution_count": 43,
   "metadata": {},
   "outputs": [
    {
     "data": {
      "text/plain": [
       "       result\n",
       "y_train   0   1\n",
       "      0 596   0\n",
       "      1   0 596"
      ]
     },
     "metadata": {},
     "output_type": "display_data"
    },
    {
     "data": {
      "text/html": [
       "1"
      ],
      "text/latex": [
       "1"
      ],
      "text/markdown": [
       "1"
      ],
      "text/plain": [
       "[1] 1"
      ]
     },
     "metadata": {},
     "output_type": "display_data"
    }
   ],
   "source": [
    "#모형의 성능 평가 (학습용 데이터셋의 예측 정확도)\n",
    "pred<-predict(model,newdata=X_train_scaled,type='response')\n",
    "result<-round(pred)\n",
    "table(y_train,result)\n",
    "mean(y_train == result)"
   ]
  },
  {
   "cell_type": "code",
   "execution_count": 44,
   "metadata": {},
   "outputs": [
    {
     "data": {
      "text/plain": [
       "      result\n",
       "y_test   0   1\n",
       "     0 119  29\n",
       "     1  32 116"
      ]
     },
     "metadata": {},
     "output_type": "display_data"
    },
    {
     "data": {
      "text/html": [
       "0.793918918918919"
      ],
      "text/latex": [
       "0.793918918918919"
      ],
      "text/markdown": [
       "0.793918918918919"
      ],
      "text/plain": [
       "[1] 0.7939189"
      ]
     },
     "metadata": {},
     "output_type": "display_data"
    }
   ],
   "source": [
    "#모형의 성녕 평가 (검증용 데이터셋의 예측 정확도)\n",
    "pred<-predict(model, newdata=X_test_scaled,type='response')\n",
    "result<-round(pred)\n",
    "table(y_test,result)\n",
    "mean(y_test == result)"
   ]
  },
  {
   "cell_type": "code",
   "execution_count": 45,
   "metadata": {},
   "outputs": [
    {
     "data": {
      "text/html": [
       "<table>\n",
       "<thead><tr><th></th><th scope=col>%IncMSE</th><th scope=col>IncNodePurity</th></tr></thead>\n",
       "<tbody>\n",
       "\t<tr><th scope=row>fixed.acidity</th><td>37.92377</td><td>19.13587</td></tr>\n",
       "\t<tr><th scope=row>volatile.acidity</th><td>54.05738</td><td>31.92886</td></tr>\n",
       "\t<tr><th scope=row>citric.acid</th><td>33.74408</td><td>17.93249</td></tr>\n",
       "\t<tr><th scope=row>residual.sugar</th><td>28.35320</td><td>14.41595</td></tr>\n",
       "\t<tr><th scope=row>chlorides</th><td>33.90952</td><td>19.24138</td></tr>\n",
       "\t<tr><th scope=row>free.sulfur.dioxide</th><td>32.69579</td><td>15.59808</td></tr>\n",
       "\t<tr><th scope=row>total.sulfur.dioxide</th><td>49.16324</td><td>25.28903</td></tr>\n",
       "\t<tr><th scope=row>density</th><td>45.57860</td><td>25.05866</td></tr>\n",
       "\t<tr><th scope=row>pH</th><td>35.69774</td><td>17.91945</td></tr>\n",
       "\t<tr><th scope=row>sulphates</th><td>76.64301</td><td>38.45887</td></tr>\n",
       "\t<tr><th scope=row>alcohol</th><td>86.08984</td><td>52.23356</td></tr>\n",
       "</tbody>\n",
       "</table>\n"
      ],
      "text/latex": [
       "\\begin{tabular}{r|ll}\n",
       "  & \\%IncMSE & IncNodePurity\\\\\n",
       "\\hline\n",
       "\tfixed.acidity & 37.92377 & 19.13587\\\\\n",
       "\tvolatile.acidity & 54.05738 & 31.92886\\\\\n",
       "\tcitric.acid & 33.74408 & 17.93249\\\\\n",
       "\tresidual.sugar & 28.35320 & 14.41595\\\\\n",
       "\tchlorides & 33.90952 & 19.24138\\\\\n",
       "\tfree.sulfur.dioxide & 32.69579 & 15.59808\\\\\n",
       "\ttotal.sulfur.dioxide & 49.16324 & 25.28903\\\\\n",
       "\tdensity & 45.57860 & 25.05866\\\\\n",
       "\tpH & 35.69774 & 17.91945\\\\\n",
       "\tsulphates & 76.64301 & 38.45887\\\\\n",
       "\talcohol & 86.08984 & 52.23356\\\\\n",
       "\\end{tabular}\n"
      ],
      "text/markdown": [
       "\n",
       "| <!--/--> | %IncMSE | IncNodePurity |\n",
       "|---|---|---|\n",
       "| fixed.acidity | 37.92377 | 19.13587 |\n",
       "| volatile.acidity | 54.05738 | 31.92886 |\n",
       "| citric.acid | 33.74408 | 17.93249 |\n",
       "| residual.sugar | 28.35320 | 14.41595 |\n",
       "| chlorides | 33.90952 | 19.24138 |\n",
       "| free.sulfur.dioxide | 32.69579 | 15.59808 |\n",
       "| total.sulfur.dioxide | 49.16324 | 25.28903 |\n",
       "| density | 45.57860 | 25.05866 |\n",
       "| pH | 35.69774 | 17.91945 |\n",
       "| sulphates | 76.64301 | 38.45887 |\n",
       "| alcohol | 86.08984 | 52.23356 |\n",
       "\n"
      ],
      "text/plain": [
       "                     %IncMSE  IncNodePurity\n",
       "fixed.acidity        37.92377 19.13587     \n",
       "volatile.acidity     54.05738 31.92886     \n",
       "citric.acid          33.74408 17.93249     \n",
       "residual.sugar       28.35320 14.41595     \n",
       "chlorides            33.90952 19.24138     \n",
       "free.sulfur.dioxide  32.69579 15.59808     \n",
       "total.sulfur.dioxide 49.16324 25.28903     \n",
       "density              45.57860 25.05866     \n",
       "pH                   35.69774 17.91945     \n",
       "sulphates            76.64301 38.45887     \n",
       "alcohol              86.08984 52.23356     "
      ]
     },
     "metadata": {},
     "output_type": "display_data"
    }
   ],
   "source": [
    "importance(model) #변수의 정확도와 중요도"
   ]
  },
  {
   "cell_type": "code",
   "execution_count": 46,
   "metadata": {},
   "outputs": [
    {
     "data": {
      "image/png": "[encoded data removed]",
      "text/plain": [
       "plot without title"
      ]
     },
     "metadata": {},
     "output_type": "display_data"
    }
   ],
   "source": [
    "varImpPlot(model)"
   ]
  },
  {
   "cell_type": "code",
   "execution_count": null,
   "metadata": {},
   "outputs": [],
   "source": []
  }
 ],
 "metadata": {
  "kernelspec": {
   "display_name": "R",
   "language": "R",
   "name": "ir"
  },
  "language_info": {
   "codemirror_mode": "r",
   "file_extension": ".r",
   "mimetype": "text/x-r-source",
   "name": "R",
   "pygments_lexer": "r",
   "version": "3.6.1"
  }
 },
 "nbformat": 4,
 "nbformat_minor": 2
}
