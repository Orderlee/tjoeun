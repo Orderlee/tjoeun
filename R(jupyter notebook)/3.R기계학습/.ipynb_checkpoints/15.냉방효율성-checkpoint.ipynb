{
 "cells": [
  {
   "cell_type": "code",
   "execution_count": 8,
   "metadata": {},
   "outputs": [
    {
     "data": {
      "text/html": [
       "<table>\n",
       "<thead><tr><th scope=col>X1</th><th scope=col>X2</th><th scope=col>X3</th><th scope=col>X4</th><th scope=col>X5</th><th scope=col>X6</th><th scope=col>X7</th><th scope=col>X8</th><th scope=col>Y1</th><th scope=col>Y2</th></tr></thead>\n",
       "<tbody>\n",
       "\t<tr><td>0.98  </td><td>514.5 </td><td>294.0 </td><td>110.25</td><td>7     </td><td>2     </td><td>0     </td><td>0     </td><td>15.55 </td><td>21.33 </td></tr>\n",
       "\t<tr><td>0.98  </td><td>514.5 </td><td>294.0 </td><td>110.25</td><td>7     </td><td>3     </td><td>0     </td><td>0     </td><td>15.55 </td><td>21.33 </td></tr>\n",
       "\t<tr><td>0.98  </td><td>514.5 </td><td>294.0 </td><td>110.25</td><td>7     </td><td>4     </td><td>0     </td><td>0     </td><td>15.55 </td><td>21.33 </td></tr>\n",
       "\t<tr><td>0.98  </td><td>514.5 </td><td>294.0 </td><td>110.25</td><td>7     </td><td>5     </td><td>0     </td><td>0     </td><td>15.55 </td><td>21.33 </td></tr>\n",
       "\t<tr><td>0.90  </td><td>563.5 </td><td>318.5 </td><td>122.50</td><td>7     </td><td>2     </td><td>0     </td><td>0     </td><td>20.84 </td><td>28.28 </td></tr>\n",
       "\t<tr><td>0.90  </td><td>563.5 </td><td>318.5 </td><td>122.50</td><td>7     </td><td>3     </td><td>0     </td><td>0     </td><td>21.46 </td><td>25.38 </td></tr>\n",
       "</tbody>\n",
       "</table>\n"
      ],
      "text/latex": [
       "\\begin{tabular}{r|llllllllll}\n",
       " X1 & X2 & X3 & X4 & X5 & X6 & X7 & X8 & Y1 & Y2\\\\\n",
       "\\hline\n",
       "\t 0.98   & 514.5  & 294.0  & 110.25 & 7      & 2      & 0      & 0      & 15.55  & 21.33 \\\\\n",
       "\t 0.98   & 514.5  & 294.0  & 110.25 & 7      & 3      & 0      & 0      & 15.55  & 21.33 \\\\\n",
       "\t 0.98   & 514.5  & 294.0  & 110.25 & 7      & 4      & 0      & 0      & 15.55  & 21.33 \\\\\n",
       "\t 0.98   & 514.5  & 294.0  & 110.25 & 7      & 5      & 0      & 0      & 15.55  & 21.33 \\\\\n",
       "\t 0.90   & 563.5  & 318.5  & 122.50 & 7      & 2      & 0      & 0      & 20.84  & 28.28 \\\\\n",
       "\t 0.90   & 563.5  & 318.5  & 122.50 & 7      & 3      & 0      & 0      & 21.46  & 25.38 \\\\\n",
       "\\end{tabular}\n"
      ],
      "text/markdown": [
       "\n",
       "| X1 | X2 | X3 | X4 | X5 | X6 | X7 | X8 | Y1 | Y2 |\n",
       "|---|---|---|---|---|---|---|---|---|---|\n",
       "| 0.98   | 514.5  | 294.0  | 110.25 | 7      | 2      | 0      | 0      | 15.55  | 21.33  |\n",
       "| 0.98   | 514.5  | 294.0  | 110.25 | 7      | 3      | 0      | 0      | 15.55  | 21.33  |\n",
       "| 0.98   | 514.5  | 294.0  | 110.25 | 7      | 4      | 0      | 0      | 15.55  | 21.33  |\n",
       "| 0.98   | 514.5  | 294.0  | 110.25 | 7      | 5      | 0      | 0      | 15.55  | 21.33  |\n",
       "| 0.90   | 563.5  | 318.5  | 122.50 | 7      | 2      | 0      | 0      | 20.84  | 28.28  |\n",
       "| 0.90   | 563.5  | 318.5  | 122.50 | 7      | 3      | 0      | 0      | 21.46  | 25.38  |\n",
       "\n"
      ],
      "text/plain": [
       "  X1   X2    X3    X4     X5 X6 X7 X8 Y1    Y2   \n",
       "1 0.98 514.5 294.0 110.25 7  2  0  0  15.55 21.33\n",
       "2 0.98 514.5 294.0 110.25 7  3  0  0  15.55 21.33\n",
       "3 0.98 514.5 294.0 110.25 7  4  0  0  15.55 21.33\n",
       "4 0.98 514.5 294.0 110.25 7  5  0  0  15.55 21.33\n",
       "5 0.90 563.5 318.5 122.50 7  2  0  0  20.84 28.28\n",
       "6 0.90 563.5 318.5 122.50 7  3  0  0  21.46 25.38"
      ]
     },
     "metadata": {},
     "output_type": "display_data"
    }
   ],
   "source": [
    "df<-read.csv('d:/data/energy/ENB2012_data.csv')\n",
    "head(df)"
   ]
  },
  {
   "cell_type": "code",
   "execution_count": 9,
   "metadata": {},
   "outputs": [
    {
     "data": {
      "text/html": [
       "<ol class=list-inline>\n",
       "\t<li>768</li>\n",
       "\t<li>9</li>\n",
       "</ol>\n"
      ],
      "text/latex": [
       "\\begin{enumerate*}\n",
       "\\item 768\n",
       "\\item 9\n",
       "\\end{enumerate*}\n"
      ],
      "text/markdown": [
       "1. 768\n",
       "2. 9\n",
       "\n",
       "\n"
      ],
      "text/plain": [
       "[1] 768   9"
      ]
     },
     "metadata": {},
     "output_type": "display_data"
    },
    {
     "data": {
      "text/plain": [
       "       X1               X2              X3              X4       \n",
       " Min.   :0.6200   Min.   :514.5   Min.   :245.0   Min.   :110.2  \n",
       " 1st Qu.:0.6825   1st Qu.:606.4   1st Qu.:294.0   1st Qu.:140.9  \n",
       " Median :0.7500   Median :673.8   Median :318.5   Median :183.8  \n",
       " Mean   :0.7642   Mean   :671.7   Mean   :318.5   Mean   :176.6  \n",
       " 3rd Qu.:0.8300   3rd Qu.:741.1   3rd Qu.:343.0   3rd Qu.:220.5  \n",
       " Max.   :0.9800   Max.   :808.5   Max.   :416.5   Max.   :220.5  \n",
       "       X5             X6             X7               X8              Y2       \n",
       " Min.   :3.50   Min.   :2.00   Min.   :0.0000   Min.   :0.000   Min.   :10.90  \n",
       " 1st Qu.:3.50   1st Qu.:2.75   1st Qu.:0.1000   1st Qu.:1.750   1st Qu.:15.62  \n",
       " Median :5.25   Median :3.50   Median :0.2500   Median :3.000   Median :22.08  \n",
       " Mean   :5.25   Mean   :3.50   Mean   :0.2344   Mean   :2.812   Mean   :24.59  \n",
       " 3rd Qu.:7.00   3rd Qu.:4.25   3rd Qu.:0.4000   3rd Qu.:4.000   3rd Qu.:33.13  \n",
       " Max.   :7.00   Max.   :5.00   Max.   :0.4000   Max.   :5.000   Max.   :48.03  "
      ]
     },
     "metadata": {},
     "output_type": "display_data"
    }
   ],
   "source": [
    "library(dplyr)\n",
    "df<-df %>% select(-Y1) #Y1 필드는 제외\n",
    "dim(df) #데이터의 차원\n",
    "summary(df) #기초통계량"
   ]
  },
  {
   "cell_type": "code",
   "execution_count": 10,
   "metadata": {},
   "outputs": [
    {
     "data": {
      "text/html": [
       "<table>\n",
       "<thead><tr><th></th><th scope=col>X1</th><th scope=col>X2</th><th scope=col>X3</th><th scope=col>X4</th><th scope=col>X5</th><th scope=col>X6</th><th scope=col>X7</th><th scope=col>X8</th><th scope=col>Y2</th></tr></thead>\n",
       "<tbody>\n",
       "\t<tr><th scope=row>X1</th><td> 1.000000e+00</td><td>-9.919015e-01</td><td>-0.2037817   </td><td>-8.688234e-01</td><td> 0.8277473   </td><td>0.0000000    </td><td> 7.617400e-20</td><td>0.00000000   </td><td> 0.63433907  </td></tr>\n",
       "\t<tr><th scope=row>X2</th><td>-9.919015e-01</td><td> 1.000000e+00</td><td> 0.1955016   </td><td> 8.807195e-01</td><td>-0.8581477   </td><td>0.0000000    </td><td> 4.664140e-20</td><td>0.00000000   </td><td>-0.67299893  </td></tr>\n",
       "\t<tr><th scope=row>X3</th><td>-2.037817e-01</td><td> 1.955016e-01</td><td> 1.0000000   </td><td>-2.923165e-01</td><td> 0.2809757   </td><td>0.0000000    </td><td> 0.000000e+00</td><td>0.00000000   </td><td> 0.42711700  </td></tr>\n",
       "\t<tr><th scope=row>X4</th><td>-8.688234e-01</td><td> 8.807195e-01</td><td>-0.2923165   </td><td> 1.000000e+00</td><td>-0.9725122   </td><td>0.0000000    </td><td>-1.197187e-19</td><td>0.00000000   </td><td>-0.86254660  </td></tr>\n",
       "\t<tr><th scope=row>X5</th><td> 8.277473e-01</td><td>-8.581477e-01</td><td> 0.2809757   </td><td>-9.725122e-01</td><td> 1.0000000   </td><td>0.0000000    </td><td> 0.000000e+00</td><td>0.00000000   </td><td> 0.89578517  </td></tr>\n",
       "\t<tr><th scope=row>X6</th><td> 0.000000e+00</td><td> 0.000000e+00</td><td> 0.0000000   </td><td> 0.000000e+00</td><td> 0.0000000   </td><td>1.0000000    </td><td> 0.000000e+00</td><td>0.00000000   </td><td> 0.01428960  </td></tr>\n",
       "\t<tr><th scope=row>X7</th><td> 7.617400e-20</td><td> 4.664140e-20</td><td> 0.0000000   </td><td>-1.197187e-19</td><td> 0.0000000   </td><td>0.0000000    </td><td> 1.000000e+00</td><td>0.21296422   </td><td> 0.20750499  </td></tr>\n",
       "\t<tr><th scope=row>X8</th><td> 0.000000e+00</td><td> 0.000000e+00</td><td> 0.0000000   </td><td> 0.000000e+00</td><td> 0.0000000   </td><td>0.0000000    </td><td> 2.129642e-01</td><td>1.00000000   </td><td> 0.05052512  </td></tr>\n",
       "\t<tr><th scope=row>Y2</th><td> 6.343391e-01</td><td>-6.729989e-01</td><td> 0.4271170   </td><td>-8.625466e-01</td><td> 0.8957852   </td><td>0.0142896    </td><td> 2.075050e-01</td><td>0.05052512   </td><td> 1.00000000  </td></tr>\n",
       "</tbody>\n",
       "</table>\n"
      ],
      "text/latex": [
       "\\begin{tabular}{r|lllllllll}\n",
       "  & X1 & X2 & X3 & X4 & X5 & X6 & X7 & X8 & Y2\\\\\n",
       "\\hline\n",
       "\tX1 &  1.000000e+00 & -9.919015e-01 & -0.2037817    & -8.688234e-01 &  0.8277473    & 0.0000000     &  7.617400e-20 & 0.00000000    &  0.63433907  \\\\\n",
       "\tX2 & -9.919015e-01 &  1.000000e+00 &  0.1955016    &  8.807195e-01 & -0.8581477    & 0.0000000     &  4.664140e-20 & 0.00000000    & -0.67299893  \\\\\n",
       "\tX3 & -2.037817e-01 &  1.955016e-01 &  1.0000000    & -2.923165e-01 &  0.2809757    & 0.0000000     &  0.000000e+00 & 0.00000000    &  0.42711700  \\\\\n",
       "\tX4 & -8.688234e-01 &  8.807195e-01 & -0.2923165    &  1.000000e+00 & -0.9725122    & 0.0000000     & -1.197187e-19 & 0.00000000    & -0.86254660  \\\\\n",
       "\tX5 &  8.277473e-01 & -8.581477e-01 &  0.2809757    & -9.725122e-01 &  1.0000000    & 0.0000000     &  0.000000e+00 & 0.00000000    &  0.89578517  \\\\\n",
       "\tX6 &  0.000000e+00 &  0.000000e+00 &  0.0000000    &  0.000000e+00 &  0.0000000    & 1.0000000     &  0.000000e+00 & 0.00000000    &  0.01428960  \\\\\n",
       "\tX7 &  7.617400e-20 &  4.664140e-20 &  0.0000000    & -1.197187e-19 &  0.0000000    & 0.0000000     &  1.000000e+00 & 0.21296422    &  0.20750499  \\\\\n",
       "\tX8 &  0.000000e+00 &  0.000000e+00 &  0.0000000    &  0.000000e+00 &  0.0000000    & 0.0000000     &  2.129642e-01 & 1.00000000    &  0.05052512  \\\\\n",
       "\tY2 &  6.343391e-01 & -6.729989e-01 &  0.4271170    & -8.625466e-01 &  0.8957852    & 0.0142896     &  2.075050e-01 & 0.05052512    &  1.00000000  \\\\\n",
       "\\end{tabular}\n"
      ],
      "text/markdown": [
       "\n",
       "| <!--/--> | X1 | X2 | X3 | X4 | X5 | X6 | X7 | X8 | Y2 |\n",
       "|---|---|---|---|---|---|---|---|---|---|\n",
       "| X1 |  1.000000e+00 | -9.919015e-01 | -0.2037817    | -8.688234e-01 |  0.8277473    | 0.0000000     |  7.617400e-20 | 0.00000000    |  0.63433907   |\n",
       "| X2 | -9.919015e-01 |  1.000000e+00 |  0.1955016    |  8.807195e-01 | -0.8581477    | 0.0000000     |  4.664140e-20 | 0.00000000    | -0.67299893   |\n",
       "| X3 | -2.037817e-01 |  1.955016e-01 |  1.0000000    | -2.923165e-01 |  0.2809757    | 0.0000000     |  0.000000e+00 | 0.00000000    |  0.42711700   |\n",
       "| X4 | -8.688234e-01 |  8.807195e-01 | -0.2923165    |  1.000000e+00 | -0.9725122    | 0.0000000     | -1.197187e-19 | 0.00000000    | -0.86254660   |\n",
       "| X5 |  8.277473e-01 | -8.581477e-01 |  0.2809757    | -9.725122e-01 |  1.0000000    | 0.0000000     |  0.000000e+00 | 0.00000000    |  0.89578517   |\n",
       "| X6 |  0.000000e+00 |  0.000000e+00 |  0.0000000    |  0.000000e+00 |  0.0000000    | 1.0000000     |  0.000000e+00 | 0.00000000    |  0.01428960   |\n",
       "| X7 |  7.617400e-20 |  4.664140e-20 |  0.0000000    | -1.197187e-19 |  0.0000000    | 0.0000000     |  1.000000e+00 | 0.21296422    |  0.20750499   |\n",
       "| X8 |  0.000000e+00 |  0.000000e+00 |  0.0000000    |  0.000000e+00 |  0.0000000    | 0.0000000     |  2.129642e-01 | 1.00000000    |  0.05052512   |\n",
       "| Y2 |  6.343391e-01 | -6.729989e-01 |  0.4271170    | -8.625466e-01 |  0.8957852    | 0.0142896     |  2.075050e-01 | 0.05052512    |  1.00000000   |\n",
       "\n"
      ],
      "text/plain": [
       "   X1            X2            X3         X4            X5         X6       \n",
       "X1  1.000000e+00 -9.919015e-01 -0.2037817 -8.688234e-01  0.8277473 0.0000000\n",
       "X2 -9.919015e-01  1.000000e+00  0.1955016  8.807195e-01 -0.8581477 0.0000000\n",
       "X3 -2.037817e-01  1.955016e-01  1.0000000 -2.923165e-01  0.2809757 0.0000000\n",
       "X4 -8.688234e-01  8.807195e-01 -0.2923165  1.000000e+00 -0.9725122 0.0000000\n",
       "X5  8.277473e-01 -8.581477e-01  0.2809757 -9.725122e-01  1.0000000 0.0000000\n",
       "X6  0.000000e+00  0.000000e+00  0.0000000  0.000000e+00  0.0000000 1.0000000\n",
       "X7  7.617400e-20  4.664140e-20  0.0000000 -1.197187e-19  0.0000000 0.0000000\n",
       "X8  0.000000e+00  0.000000e+00  0.0000000  0.000000e+00  0.0000000 0.0000000\n",
       "Y2  6.343391e-01 -6.729989e-01  0.4271170 -8.625466e-01  0.8957852 0.0142896\n",
       "   X7            X8         Y2         \n",
       "X1  7.617400e-20 0.00000000  0.63433907\n",
       "X2  4.664140e-20 0.00000000 -0.67299893\n",
       "X3  0.000000e+00 0.00000000  0.42711700\n",
       "X4 -1.197187e-19 0.00000000 -0.86254660\n",
       "X5  0.000000e+00 0.00000000  0.89578517\n",
       "X6  0.000000e+00 0.00000000  0.01428960\n",
       "X7  1.000000e+00 0.21296422  0.20750499\n",
       "X8  2.129642e-01 1.00000000  0.05052512\n",
       "Y2  2.075050e-01 0.05052512  1.00000000"
      ]
     },
     "metadata": {},
     "output_type": "display_data"
    }
   ],
   "source": [
    "(corrmatrix<-cor(df)) #상관계수 행렬"
   ]
  },
  {
   "cell_type": "code",
   "execution_count": 11,
   "metadata": {},
   "outputs": [
    {
     "data": {
      "image/png": "[encoded data removed]",
      "text/plain": [
       "Plot with title \"\""
      ]
     },
     "metadata": {},
     "output_type": "display_data"
    }
   ],
   "source": [
    "library(corrplot)\n",
    "corrplot(cor(df), method='circle') #상관계수 플로팅"
   ]
  },
  {
   "cell_type": "code",
   "execution_count": 12,
   "metadata": {},
   "outputs": [
    {
     "data": {
      "text/plain": [
       "\n",
       "Call:\n",
       "lm(formula = Y2 ~ ., data = df)\n",
       "\n",
       "Coefficients:\n",
       "(Intercept)           X1           X2           X3           X4           X5  \n",
       "   97.24575    -70.78771     -0.08824      0.04468           NA      4.28384  \n",
       "         X6           X7           X8  \n",
       "    0.12151     14.71707      0.04070  \n"
      ]
     },
     "metadata": {},
     "output_type": "display_data"
    }
   ],
   "source": [
    "(model<-lm(Y2 ~ . , data=df)) #다중회귀분석 모형"
   ]
  },
  {
   "cell_type": "code",
   "execution_count": 13,
   "metadata": {},
   "outputs": [
    {
     "data": {
      "text/plain": [
       "\n",
       "Call:\n",
       "lm(formula = Y2 ~ ., data = df)\n",
       "\n",
       "Residuals:\n",
       "    Min      1Q  Median      3Q     Max \n",
       "-8.6940 -1.5606 -0.2668  1.3968 11.1775 \n",
       "\n",
       "Coefficients: (1 not defined because of singularities)\n",
       "              Estimate Std. Error t value Pr(>|t|)    \n",
       "(Intercept)  97.245749  20.764711   4.683 3.34e-06 ***\n",
       "X1          -70.787707  11.225269  -6.306 4.85e-10 ***\n",
       "X2           -0.088245   0.018628  -4.737 2.59e-06 ***\n",
       "X3            0.044682   0.007253   6.161 1.17e-09 ***\n",
       "X4                  NA         NA      NA       NA    \n",
       "X5            4.283843   0.368730  11.618  < 2e-16 ***\n",
       "X6            0.121510   0.103318   1.176    0.240    \n",
       "X7           14.717068   0.888018  16.573  < 2e-16 ***\n",
       "X8            0.040697   0.076277   0.534    0.594    \n",
       "---\n",
       "Signif. codes:  0 '***' 0.001 '**' 0.01 '*' 0.05 '.' 0.1 ' ' 1\n",
       "\n",
       "Residual standard error: 3.201 on 760 degrees of freedom\n",
       "Multiple R-squared:  0.8878,\tAdjusted R-squared:  0.8868 \n",
       "F-statistic: 859.1 on 7 and 760 DF,  p-value: < 2.2e-16\n"
      ]
     },
     "metadata": {},
     "output_type": "display_data"
    }
   ],
   "source": [
    "summary(model) #모형 요약 #X4 샘플갯수가 적어 NA 표시됨\n",
    "#Adjusted R-squared:   0.8868  88.6%\n",
    "#p-value: < 2.2e-16"
   ]
  },
  {
   "cell_type": "code",
   "execution_count": 14,
   "metadata": {},
   "outputs": [
    {
     "name": "stdout",
     "output_type": "stream",
     "text": [
      "Start:  AIC=1795.13\n",
      "Y2 ~ X1 + X2 + X3 + X4 + X5 + X6 + X7 + X8\n",
      "\n",
      "\n",
      "Step:  AIC=1795.13\n",
      "Y2 ~ X1 + X2 + X3 + X5 + X6 + X7 + X8\n",
      "\n",
      "       Df Sum of Sq     RSS    AIC\n",
      "- X8    1      2.92  7791.1 1793.4\n",
      "- X6    1     14.17  7802.4 1794.5\n",
      "<none>               7788.2 1795.1\n",
      "- X2    1    229.96  8018.2 1815.5\n",
      "- X3    1    388.96  8177.2 1830.6\n",
      "- X1    1    407.52  8195.7 1832.3\n",
      "- X5    1   1383.16  9171.4 1918.7\n",
      "- X7    1   2814.64 10602.8 2030.1\n",
      "\n",
      "Step:  AIC=1793.42\n",
      "Y2 ~ X1 + X2 + X3 + X5 + X6 + X7\n",
      "\n",
      "       Df Sum of Sq     RSS    AIC\n",
      "- X6    1     14.17  7805.3 1792.8\n",
      "<none>               7791.1 1793.4\n",
      "- X2    1    229.96  8021.1 1813.8\n",
      "- X3    1    388.96  8180.1 1828.8\n",
      "- X1    1    407.52  8198.6 1830.6\n",
      "- X5    1   1383.16  9174.3 1916.9\n",
      "- X7    1   2988.93 10780.0 2040.8\n",
      "\n",
      "Step:  AIC=1792.81\n",
      "Y2 ~ X1 + X2 + X3 + X5 + X7\n",
      "\n",
      "       Df Sum of Sq     RSS    AIC\n",
      "<none>               7805.3 1792.8\n",
      "- X2    1    229.96  8035.3 1813.1\n",
      "- X3    1    388.96  8194.3 1828.2\n",
      "- X1    1    407.52  8212.8 1829.9\n",
      "- X5    1   1383.16  9188.5 1916.1\n",
      "- X7    1   2988.93 10794.2 2039.8\n"
     ]
    },
    {
     "data": {
      "text/plain": [
       "\n",
       "Call:\n",
       "lm(formula = Y2 ~ X1 + X2 + X3 + X5 + X7, data = df)\n",
       "\n",
       "Residuals:\n",
       "    Min      1Q  Median      3Q     Max \n",
       "-8.7240 -1.6017 -0.2631  1.3417 11.3251 \n",
       "\n",
       "Coefficients:\n",
       "              Estimate Std. Error t value Pr(>|t|)    \n",
       "(Intercept)  97.761848  20.756339   4.710 2.94e-06 ***\n",
       "X1          -70.787707  11.222822  -6.307 4.80e-10 ***\n",
       "X2           -0.088245   0.018624  -4.738 2.57e-06 ***\n",
       "X3            0.044682   0.007251   6.162 1.16e-09 ***\n",
       "X5            4.283843   0.368650  11.620  < 2e-16 ***\n",
       "X7           14.817971   0.867458  17.082  < 2e-16 ***\n",
       "---\n",
       "Signif. codes:  0 '***' 0.001 '**' 0.01 '*' 0.05 '.' 0.1 ' ' 1\n",
       "\n",
       "Residual standard error: 3.2 on 762 degrees of freedom\n",
       "Multiple R-squared:  0.8876,\tAdjusted R-squared:  0.8868 \n",
       "F-statistic:  1203 on 5 and 762 DF,  p-value: < 2.2e-16\n"
      ]
     },
     "metadata": {},
     "output_type": "display_data"
    }
   ],
   "source": [
    "reduced<-step(model,direction='backward') #후진제거법\n",
    "summary(reduced)#최종모형\n",
    "#Adjusted R-squared:  0.8868 \n",
    "#p-value: < 2.2e-16"
   ]
  },
  {
   "cell_type": "code",
   "execution_count": null,
   "metadata": {},
   "outputs": [],
   "source": []
  },
  {
   "cell_type": "code",
   "execution_count": null,
   "metadata": {},
   "outputs": [],
   "source": []
  },
  {
   "cell_type": "code",
   "execution_count": null,
   "metadata": {},
   "outputs": [],
   "source": []
  }
 ],
 "metadata": {
  "kernelspec": {
   "display_name": "R",
   "language": "R",
   "name": "ir"
  },
  "language_info": {
   "codemirror_mode": "r",
   "file_extension": ".r",
   "mimetype": "text/x-r-source",
   "name": "R",
   "pygments_lexer": "r",
   "version": "3.6.1"
  }
 },
 "nbformat": 4,
 "nbformat_minor": 2
}
