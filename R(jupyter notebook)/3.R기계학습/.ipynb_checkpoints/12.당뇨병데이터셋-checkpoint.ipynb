{
 "cells": [
  {
   "cell_type": "code",
   "execution_count": 13,
   "metadata": {},
   "outputs": [
    {
     "data": {
      "text/html": [
       "<table>\n",
       "<thead><tr><th scope=col>age</th><th scope=col>sex</th><th scope=col>bmi</th><th scope=col>bp</th><th scope=col>s1</th><th scope=col>s2</th><th scope=col>s3</th><th scope=col>s4</th><th scope=col>s5</th><th scope=col>s6</th><th scope=col>target</th></tr></thead>\n",
       "<tbody>\n",
       "\t<tr><td> 0.038075906</td><td> 0.05068012 </td><td> 0.06169621 </td><td> 0.021872355</td><td>-0.044223498</td><td>-0.03482076 </td><td>-0.043400846</td><td>-0.002592262</td><td> 0.019908421</td><td>-0.017646125</td><td>151         </td></tr>\n",
       "\t<tr><td>-0.001882017</td><td>-0.04464164 </td><td>-0.05147406 </td><td>-0.026327835</td><td>-0.008448724</td><td>-0.01916334 </td><td> 0.074411564</td><td>-0.039493383</td><td>-0.068329744</td><td>-0.092204050</td><td> 75         </td></tr>\n",
       "\t<tr><td> 0.085298906</td><td> 0.05068012 </td><td> 0.04445121 </td><td>-0.005670611</td><td>-0.045599451</td><td>-0.03419447 </td><td>-0.032355932</td><td>-0.002592262</td><td> 0.002863771</td><td>-0.025930339</td><td>141         </td></tr>\n",
       "\t<tr><td>-0.089062939</td><td>-0.04464164 </td><td>-0.01159502 </td><td>-0.036656447</td><td> 0.012190569</td><td> 0.02499059 </td><td>-0.036037570</td><td> 0.034308859</td><td> 0.022692023</td><td>-0.009361911</td><td>206         </td></tr>\n",
       "\t<tr><td> 0.005383060</td><td>-0.04464164 </td><td>-0.03638469 </td><td> 0.021872355</td><td> 0.003934852</td><td> 0.01559614 </td><td> 0.008142084</td><td>-0.002592262</td><td>-0.031991445</td><td>-0.046640874</td><td>135         </td></tr>\n",
       "\t<tr><td>-0.092695478</td><td>-0.04464164 </td><td>-0.04069594 </td><td>-0.019442093</td><td>-0.068990650</td><td>-0.07928784 </td><td> 0.041276824</td><td>-0.076394504</td><td>-0.041180385</td><td>-0.096346157</td><td> 97         </td></tr>\n",
       "</tbody>\n",
       "</table>\n"
      ],
      "text/latex": [
       "\\begin{tabular}{r|lllllllllll}\n",
       " age & sex & bmi & bp & s1 & s2 & s3 & s4 & s5 & s6 & target\\\\\n",
       "\\hline\n",
       "\t  0.038075906 &  0.05068012  &  0.06169621  &  0.021872355 & -0.044223498 & -0.03482076  & -0.043400846 & -0.002592262 &  0.019908421 & -0.017646125 & 151         \\\\\n",
       "\t -0.001882017 & -0.04464164  & -0.05147406  & -0.026327835 & -0.008448724 & -0.01916334  &  0.074411564 & -0.039493383 & -0.068329744 & -0.092204050 &  75         \\\\\n",
       "\t  0.085298906 &  0.05068012  &  0.04445121  & -0.005670611 & -0.045599451 & -0.03419447  & -0.032355932 & -0.002592262 &  0.002863771 & -0.025930339 & 141         \\\\\n",
       "\t -0.089062939 & -0.04464164  & -0.01159502  & -0.036656447 &  0.012190569 &  0.02499059  & -0.036037570 &  0.034308859 &  0.022692023 & -0.009361911 & 206         \\\\\n",
       "\t  0.005383060 & -0.04464164  & -0.03638469  &  0.021872355 &  0.003934852 &  0.01559614  &  0.008142084 & -0.002592262 & -0.031991445 & -0.046640874 & 135         \\\\\n",
       "\t -0.092695478 & -0.04464164  & -0.04069594  & -0.019442093 & -0.068990650 & -0.07928784  &  0.041276824 & -0.076394504 & -0.041180385 & -0.096346157 &  97         \\\\\n",
       "\\end{tabular}\n"
      ],
      "text/markdown": [
       "\n",
       "| age | sex | bmi | bp | s1 | s2 | s3 | s4 | s5 | s6 | target |\n",
       "|---|---|---|---|---|---|---|---|---|---|---|\n",
       "|  0.038075906 |  0.05068012  |  0.06169621  |  0.021872355 | -0.044223498 | -0.03482076  | -0.043400846 | -0.002592262 |  0.019908421 | -0.017646125 | 151          |\n",
       "| -0.001882017 | -0.04464164  | -0.05147406  | -0.026327835 | -0.008448724 | -0.01916334  |  0.074411564 | -0.039493383 | -0.068329744 | -0.092204050 |  75          |\n",
       "|  0.085298906 |  0.05068012  |  0.04445121  | -0.005670611 | -0.045599451 | -0.03419447  | -0.032355932 | -0.002592262 |  0.002863771 | -0.025930339 | 141          |\n",
       "| -0.089062939 | -0.04464164  | -0.01159502  | -0.036656447 |  0.012190569 |  0.02499059  | -0.036037570 |  0.034308859 |  0.022692023 | -0.009361911 | 206          |\n",
       "|  0.005383060 | -0.04464164  | -0.03638469  |  0.021872355 |  0.003934852 |  0.01559614  |  0.008142084 | -0.002592262 | -0.031991445 | -0.046640874 | 135          |\n",
       "| -0.092695478 | -0.04464164  | -0.04069594  | -0.019442093 | -0.068990650 | -0.07928784  |  0.041276824 | -0.076394504 | -0.041180385 | -0.096346157 |  97          |\n",
       "\n"
      ],
      "text/plain": [
       "  age          sex         bmi         bp           s1           s2         \n",
       "1  0.038075906  0.05068012  0.06169621  0.021872355 -0.044223498 -0.03482076\n",
       "2 -0.001882017 -0.04464164 -0.05147406 -0.026327835 -0.008448724 -0.01916334\n",
       "3  0.085298906  0.05068012  0.04445121 -0.005670611 -0.045599451 -0.03419447\n",
       "4 -0.089062939 -0.04464164 -0.01159502 -0.036656447  0.012190569  0.02499059\n",
       "5  0.005383060 -0.04464164 -0.03638469  0.021872355  0.003934852  0.01559614\n",
       "6 -0.092695478 -0.04464164 -0.04069594 -0.019442093 -0.068990650 -0.07928784\n",
       "  s3           s4           s5           s6           target\n",
       "1 -0.043400846 -0.002592262  0.019908421 -0.017646125 151   \n",
       "2  0.074411564 -0.039493383 -0.068329744 -0.092204050  75   \n",
       "3 -0.032355932 -0.002592262  0.002863771 -0.025930339 141   \n",
       "4 -0.036037570  0.034308859  0.022692023 -0.009361911 206   \n",
       "5  0.008142084 -0.002592262 -0.031991445 -0.046640874 135   \n",
       "6  0.041276824 -0.076394504 -0.041180385 -0.096346157  97   "
      ]
     },
     "metadata": {},
     "output_type": "display_data"
    },
    {
     "data": {
      "text/html": [
       "<table>\n",
       "<thead><tr><th></th><th scope=col>age</th><th scope=col>sex</th><th scope=col>bmi</th><th scope=col>bp</th><th scope=col>s1</th><th scope=col>s2</th><th scope=col>s3</th><th scope=col>s4</th><th scope=col>s5</th><th scope=col>s6</th><th scope=col>target</th></tr></thead>\n",
       "<tbody>\n",
       "\t<tr><th scope=row>437</th><td>-0.056370093</td><td>-0.04464164 </td><td>-0.07410812 </td><td>-0.050427930</td><td>-0.024960158</td><td>-0.047033553</td><td> 0.09281975 </td><td>-0.076394504</td><td>-0.06117660 </td><td>-0.046640874</td><td> 48         </td></tr>\n",
       "\t<tr><th scope=row>438</th><td> 0.041708445</td><td> 0.05068012 </td><td> 0.01966154 </td><td> 0.059743933</td><td>-0.005696818</td><td>-0.002566471</td><td>-0.02867429 </td><td>-0.002592262</td><td> 0.03119299 </td><td> 0.007206516</td><td>178         </td></tr>\n",
       "\t<tr><th scope=row>439</th><td>-0.005514555</td><td> 0.05068012 </td><td>-0.01590626 </td><td>-0.067642283</td><td> 0.049341296</td><td> 0.079165277</td><td>-0.02867429 </td><td> 0.034308859</td><td>-0.01811827 </td><td> 0.044485479</td><td>104         </td></tr>\n",
       "\t<tr><th scope=row>440</th><td> 0.041708445</td><td> 0.05068012 </td><td>-0.01590626 </td><td> 0.017281861</td><td>-0.037343734</td><td>-0.013839816</td><td>-0.02499266 </td><td>-0.011079520</td><td>-0.04687948 </td><td> 0.015490730</td><td>132         </td></tr>\n",
       "\t<tr><th scope=row>441</th><td>-0.045472478</td><td>-0.04464164 </td><td> 0.03906215 </td><td> 0.001215131</td><td> 0.016318427</td><td> 0.015282991</td><td>-0.02867429 </td><td> 0.026559623</td><td> 0.04452837 </td><td>-0.025930339</td><td>220         </td></tr>\n",
       "\t<tr><th scope=row>442</th><td>-0.045472478</td><td>-0.04464164 </td><td>-0.07303030 </td><td>-0.081413766</td><td> 0.083740117</td><td> 0.027808930</td><td> 0.17381579 </td><td>-0.039493383</td><td>-0.00421986 </td><td> 0.003064409</td><td> 57         </td></tr>\n",
       "</tbody>\n",
       "</table>\n"
      ],
      "text/latex": [
       "\\begin{tabular}{r|lllllllllll}\n",
       "  & age & sex & bmi & bp & s1 & s2 & s3 & s4 & s5 & s6 & target\\\\\n",
       "\\hline\n",
       "\t437 & -0.056370093 & -0.04464164  & -0.07410812  & -0.050427930 & -0.024960158 & -0.047033553 &  0.09281975  & -0.076394504 & -0.06117660  & -0.046640874 &  48         \\\\\n",
       "\t438 &  0.041708445 &  0.05068012  &  0.01966154  &  0.059743933 & -0.005696818 & -0.002566471 & -0.02867429  & -0.002592262 &  0.03119299  &  0.007206516 & 178         \\\\\n",
       "\t439 & -0.005514555 &  0.05068012  & -0.01590626  & -0.067642283 &  0.049341296 &  0.079165277 & -0.02867429  &  0.034308859 & -0.01811827  &  0.044485479 & 104         \\\\\n",
       "\t440 &  0.041708445 &  0.05068012  & -0.01590626  &  0.017281861 & -0.037343734 & -0.013839816 & -0.02499266  & -0.011079520 & -0.04687948  &  0.015490730 & 132         \\\\\n",
       "\t441 & -0.045472478 & -0.04464164  &  0.03906215  &  0.001215131 &  0.016318427 &  0.015282991 & -0.02867429  &  0.026559623 &  0.04452837  & -0.025930339 & 220         \\\\\n",
       "\t442 & -0.045472478 & -0.04464164  & -0.07303030  & -0.081413766 &  0.083740117 &  0.027808930 &  0.17381579  & -0.039493383 & -0.00421986  &  0.003064409 &  57         \\\\\n",
       "\\end{tabular}\n"
      ],
      "text/markdown": [
       "\n",
       "| <!--/--> | age | sex | bmi | bp | s1 | s2 | s3 | s4 | s5 | s6 | target |\n",
       "|---|---|---|---|---|---|---|---|---|---|---|---|\n",
       "| 437 | -0.056370093 | -0.04464164  | -0.07410812  | -0.050427930 | -0.024960158 | -0.047033553 |  0.09281975  | -0.076394504 | -0.06117660  | -0.046640874 |  48          |\n",
       "| 438 |  0.041708445 |  0.05068012  |  0.01966154  |  0.059743933 | -0.005696818 | -0.002566471 | -0.02867429  | -0.002592262 |  0.03119299  |  0.007206516 | 178          |\n",
       "| 439 | -0.005514555 |  0.05068012  | -0.01590626  | -0.067642283 |  0.049341296 |  0.079165277 | -0.02867429  |  0.034308859 | -0.01811827  |  0.044485479 | 104          |\n",
       "| 440 |  0.041708445 |  0.05068012  | -0.01590626  |  0.017281861 | -0.037343734 | -0.013839816 | -0.02499266  | -0.011079520 | -0.04687948  |  0.015490730 | 132          |\n",
       "| 441 | -0.045472478 | -0.04464164  |  0.03906215  |  0.001215131 |  0.016318427 |  0.015282991 | -0.02867429  |  0.026559623 |  0.04452837  | -0.025930339 | 220          |\n",
       "| 442 | -0.045472478 | -0.04464164  | -0.07303030  | -0.081413766 |  0.083740117 |  0.027808930 |  0.17381579  | -0.039493383 | -0.00421986  |  0.003064409 |  57          |\n",
       "\n"
      ],
      "text/plain": [
       "    age          sex         bmi         bp           s1           s2          \n",
       "437 -0.056370093 -0.04464164 -0.07410812 -0.050427930 -0.024960158 -0.047033553\n",
       "438  0.041708445  0.05068012  0.01966154  0.059743933 -0.005696818 -0.002566471\n",
       "439 -0.005514555  0.05068012 -0.01590626 -0.067642283  0.049341296  0.079165277\n",
       "440  0.041708445  0.05068012 -0.01590626  0.017281861 -0.037343734 -0.013839816\n",
       "441 -0.045472478 -0.04464164  0.03906215  0.001215131  0.016318427  0.015282991\n",
       "442 -0.045472478 -0.04464164 -0.07303030 -0.081413766  0.083740117  0.027808930\n",
       "    s3          s4           s5          s6           target\n",
       "437  0.09281975 -0.076394504 -0.06117660 -0.046640874  48   \n",
       "438 -0.02867429 -0.002592262  0.03119299  0.007206516 178   \n",
       "439 -0.02867429  0.034308859 -0.01811827  0.044485479 104   \n",
       "440 -0.02499266 -0.011079520 -0.04687948  0.015490730 132   \n",
       "441 -0.02867429  0.026559623  0.04452837 -0.025930339 220   \n",
       "442  0.17381579 -0.039493383 -0.00421986  0.003064409  57   "
      ]
     },
     "metadata": {},
     "output_type": "display_data"
    }
   ],
   "source": [
    "df<-read.csv(\"d:/data/diabetes/data.csv\")\n",
    "head(df)\n",
    "tail(df)"
   ]
  },
  {
   "cell_type": "code",
   "execution_count": null,
   "metadata": {},
   "outputs": [],
   "source": [
    "library(dplyr)"
   ]
  },
  {
   "cell_type": "code",
   "execution_count": 10,
   "metadata": {},
   "outputs": [
    {
     "data": {
      "text/html": [
       "<ol class=list-inline>\n",
       "\t<li>442</li>\n",
       "\t<li>11</li>\n",
       "</ol>\n"
      ],
      "text/latex": [
       "\\begin{enumerate*}\n",
       "\\item 442\n",
       "\\item 11\n",
       "\\end{enumerate*}\n"
      ],
      "text/markdown": [
       "1. 442\n",
       "2. 11\n",
       "\n",
       "\n"
      ],
      "text/plain": [
       "[1] 442  11"
      ]
     },
     "metadata": {},
     "output_type": "display_data"
    },
    {
     "data": {
      "text/plain": [
       "      age                 sex                bmi                  bp           \n",
       " Min.   :-0.107226   Min.   :-0.04464   Min.   :-0.090275   Min.   :-0.112400  \n",
       " 1st Qu.:-0.037299   1st Qu.:-0.04464   1st Qu.:-0.034229   1st Qu.:-0.036656  \n",
       " Median : 0.005383   Median :-0.04464   Median :-0.007284   Median :-0.005671  \n",
       " Mean   : 0.000000   Mean   : 0.00000   Mean   : 0.000000   Mean   : 0.000000  \n",
       " 3rd Qu.: 0.038076   3rd Qu.: 0.05068   3rd Qu.: 0.031248   3rd Qu.: 0.035644  \n",
       " Max.   : 0.110727   Max.   : 0.05068   Max.   : 0.170555   Max.   : 0.132044  \n",
       "       s1                  s2                  s3           \n",
       " Min.   :-0.126781   Min.   :-0.115613   Min.   :-0.102307  \n",
       " 1st Qu.:-0.034248   1st Qu.:-0.030358   1st Qu.:-0.035117  \n",
       " Median :-0.004321   Median :-0.003819   Median :-0.006584  \n",
       " Mean   : 0.000000   Mean   : 0.000000   Mean   : 0.000000  \n",
       " 3rd Qu.: 0.028358   3rd Qu.: 0.029844   3rd Qu.: 0.029312  \n",
       " Max.   : 0.153914   Max.   : 0.198788   Max.   : 0.181179  \n",
       "       s4                  s5                  s6                target     \n",
       " Min.   :-0.076395   Min.   :-0.126097   Min.   :-0.137767   Min.   : 25.0  \n",
       " 1st Qu.:-0.039493   1st Qu.:-0.033249   1st Qu.:-0.033179   1st Qu.: 87.0  \n",
       " Median :-0.002592   Median :-0.001948   Median :-0.001078   Median :140.5  \n",
       " Mean   : 0.000000   Mean   : 0.000000   Mean   : 0.000000   Mean   :152.1  \n",
       " 3rd Qu.: 0.034309   3rd Qu.: 0.032433   3rd Qu.: 0.027917   3rd Qu.:211.5  \n",
       " Max.   : 0.185234   Max.   : 0.133599   Max.   : 0.135612   Max.   :346.0  "
      ]
     },
     "metadata": {},
     "output_type": "display_data"
    }
   ],
   "source": [
    "dim(df)\n",
    "summary(df)"
   ]
  },
  {
   "cell_type": "code",
   "execution_count": 11,
   "metadata": {},
   "outputs": [
    {
     "data": {
      "text/html": [
       "<table>\n",
       "<thead><tr><th></th><th scope=col>age</th><th scope=col>sex</th><th scope=col>bmi</th><th scope=col>bp</th><th scope=col>s1</th><th scope=col>s2</th><th scope=col>s3</th><th scope=col>s4</th><th scope=col>s5</th><th scope=col>s6</th><th scope=col>target</th></tr></thead>\n",
       "<tbody>\n",
       "\t<tr><th scope=row>age</th><td> 1.00000000</td><td> 0.17373710</td><td> 0.1850847 </td><td> 0.3354267 </td><td>0.26006082 </td><td> 0.2192431 </td><td>-0.07518097</td><td> 0.2038409 </td><td> 0.2707768 </td><td> 0.3017310 </td><td> 0.1878888 </td></tr>\n",
       "\t<tr><th scope=row>sex</th><td> 0.17373710</td><td> 1.00000000</td><td> 0.0881614 </td><td> 0.2410132 </td><td>0.03527682 </td><td> 0.1426373 </td><td>-0.37908963</td><td> 0.3321151 </td><td> 0.1499176 </td><td> 0.2081332 </td><td> 0.0430620 </td></tr>\n",
       "\t<tr><th scope=row>bmi</th><td> 0.18508467</td><td> 0.08816140</td><td> 1.0000000 </td><td> 0.3954153 </td><td>0.24977742 </td><td> 0.2611699 </td><td>-0.36681098</td><td> 0.4138066 </td><td> 0.4461586 </td><td> 0.3886800 </td><td> 0.5864501 </td></tr>\n",
       "\t<tr><th scope=row>bp</th><td> 0.33542671</td><td> 0.24101317</td><td> 0.3954153 </td><td> 1.0000000 </td><td>0.24246971 </td><td> 0.1855578 </td><td>-0.17876121</td><td> 0.2576534 </td><td> 0.3934781 </td><td> 0.3904294 </td><td> 0.4414838 </td></tr>\n",
       "\t<tr><th scope=row>s1</th><td> 0.26006082</td><td> 0.03527682</td><td> 0.2497774 </td><td> 0.2424697 </td><td>1.00000000 </td><td> 0.8966630 </td><td> 0.05151936</td><td> 0.5422073 </td><td> 0.5155008 </td><td> 0.3257168 </td><td> 0.2120225 </td></tr>\n",
       "\t<tr><th scope=row>s2</th><td> 0.21924314</td><td> 0.14263726</td><td> 0.2611699 </td><td> 0.1855578 </td><td>0.89666296 </td><td> 1.0000000 </td><td>-0.19645512</td><td> 0.6598169 </td><td> 0.3183534 </td><td> 0.2906004 </td><td> 0.1740536 </td></tr>\n",
       "\t<tr><th scope=row>s3</th><td>-0.07518097</td><td>-0.37908963</td><td>-0.3668110 </td><td>-0.1787612 </td><td>0.05151936 </td><td>-0.1964551 </td><td> 1.00000000</td><td>-0.7384927 </td><td>-0.3985770 </td><td>-0.2736973 </td><td>-0.3947893 </td></tr>\n",
       "\t<tr><th scope=row>s4</th><td> 0.20384090</td><td> 0.33211509</td><td> 0.4138066 </td><td> 0.2576534 </td><td>0.54220728 </td><td> 0.6598169 </td><td>-0.73849273</td><td> 1.0000000 </td><td> 0.6178574 </td><td> 0.4172121 </td><td> 0.4304529 </td></tr>\n",
       "\t<tr><th scope=row>s5</th><td> 0.27077678</td><td> 0.14991756</td><td> 0.4461586 </td><td> 0.3934781 </td><td>0.51550076 </td><td> 0.3183534 </td><td>-0.39857700</td><td> 0.6178574 </td><td> 1.0000000 </td><td> 0.4646705 </td><td> 0.5658834 </td></tr>\n",
       "\t<tr><th scope=row>s6</th><td> 0.30173101</td><td> 0.20813322</td><td> 0.3886800 </td><td> 0.3904294 </td><td>0.32571675 </td><td> 0.2906004 </td><td>-0.27369730</td><td> 0.4172121 </td><td> 0.4646705 </td><td> 1.0000000 </td><td> 0.3824835 </td></tr>\n",
       "\t<tr><th scope=row>target</th><td> 0.18788875</td><td> 0.04306200</td><td> 0.5864501 </td><td> 0.4414838 </td><td>0.21202248 </td><td> 0.1740536 </td><td>-0.39478925</td><td> 0.4304529 </td><td> 0.5658834 </td><td> 0.3824835 </td><td> 1.0000000 </td></tr>\n",
       "</tbody>\n",
       "</table>\n"
      ],
      "text/latex": [
       "\\begin{tabular}{r|lllllllllll}\n",
       "  & age & sex & bmi & bp & s1 & s2 & s3 & s4 & s5 & s6 & target\\\\\n",
       "\\hline\n",
       "\tage &  1.00000000 &  0.17373710 &  0.1850847  &  0.3354267  & 0.26006082  &  0.2192431  & -0.07518097 &  0.2038409  &  0.2707768  &  0.3017310  &  0.1878888 \\\\\n",
       "\tsex &  0.17373710 &  1.00000000 &  0.0881614  &  0.2410132  & 0.03527682  &  0.1426373  & -0.37908963 &  0.3321151  &  0.1499176  &  0.2081332  &  0.0430620 \\\\\n",
       "\tbmi &  0.18508467 &  0.08816140 &  1.0000000  &  0.3954153  & 0.24977742  &  0.2611699  & -0.36681098 &  0.4138066  &  0.4461586  &  0.3886800  &  0.5864501 \\\\\n",
       "\tbp &  0.33542671 &  0.24101317 &  0.3954153  &  1.0000000  & 0.24246971  &  0.1855578  & -0.17876121 &  0.2576534  &  0.3934781  &  0.3904294  &  0.4414838 \\\\\n",
       "\ts1 &  0.26006082 &  0.03527682 &  0.2497774  &  0.2424697  & 1.00000000  &  0.8966630  &  0.05151936 &  0.5422073  &  0.5155008  &  0.3257168  &  0.2120225 \\\\\n",
       "\ts2 &  0.21924314 &  0.14263726 &  0.2611699  &  0.1855578  & 0.89666296  &  1.0000000  & -0.19645512 &  0.6598169  &  0.3183534  &  0.2906004  &  0.1740536 \\\\\n",
       "\ts3 & -0.07518097 & -0.37908963 & -0.3668110  & -0.1787612  & 0.05151936  & -0.1964551  &  1.00000000 & -0.7384927  & -0.3985770  & -0.2736973  & -0.3947893 \\\\\n",
       "\ts4 &  0.20384090 &  0.33211509 &  0.4138066  &  0.2576534  & 0.54220728  &  0.6598169  & -0.73849273 &  1.0000000  &  0.6178574  &  0.4172121  &  0.4304529 \\\\\n",
       "\ts5 &  0.27077678 &  0.14991756 &  0.4461586  &  0.3934781  & 0.51550076  &  0.3183534  & -0.39857700 &  0.6178574  &  1.0000000  &  0.4646705  &  0.5658834 \\\\\n",
       "\ts6 &  0.30173101 &  0.20813322 &  0.3886800  &  0.3904294  & 0.32571675  &  0.2906004  & -0.27369730 &  0.4172121  &  0.4646705  &  1.0000000  &  0.3824835 \\\\\n",
       "\ttarget &  0.18788875 &  0.04306200 &  0.5864501  &  0.4414838  & 0.21202248  &  0.1740536  & -0.39478925 &  0.4304529  &  0.5658834  &  0.3824835  &  1.0000000 \\\\\n",
       "\\end{tabular}\n"
      ],
      "text/markdown": [
       "\n",
       "| <!--/--> | age | sex | bmi | bp | s1 | s2 | s3 | s4 | s5 | s6 | target |\n",
       "|---|---|---|---|---|---|---|---|---|---|---|---|\n",
       "| age |  1.00000000 |  0.17373710 |  0.1850847  |  0.3354267  | 0.26006082  |  0.2192431  | -0.07518097 |  0.2038409  |  0.2707768  |  0.3017310  |  0.1878888  |\n",
       "| sex |  0.17373710 |  1.00000000 |  0.0881614  |  0.2410132  | 0.03527682  |  0.1426373  | -0.37908963 |  0.3321151  |  0.1499176  |  0.2081332  |  0.0430620  |\n",
       "| bmi |  0.18508467 |  0.08816140 |  1.0000000  |  0.3954153  | 0.24977742  |  0.2611699  | -0.36681098 |  0.4138066  |  0.4461586  |  0.3886800  |  0.5864501  |\n",
       "| bp |  0.33542671 |  0.24101317 |  0.3954153  |  1.0000000  | 0.24246971  |  0.1855578  | -0.17876121 |  0.2576534  |  0.3934781  |  0.3904294  |  0.4414838  |\n",
       "| s1 |  0.26006082 |  0.03527682 |  0.2497774  |  0.2424697  | 1.00000000  |  0.8966630  |  0.05151936 |  0.5422073  |  0.5155008  |  0.3257168  |  0.2120225  |\n",
       "| s2 |  0.21924314 |  0.14263726 |  0.2611699  |  0.1855578  | 0.89666296  |  1.0000000  | -0.19645512 |  0.6598169  |  0.3183534  |  0.2906004  |  0.1740536  |\n",
       "| s3 | -0.07518097 | -0.37908963 | -0.3668110  | -0.1787612  | 0.05151936  | -0.1964551  |  1.00000000 | -0.7384927  | -0.3985770  | -0.2736973  | -0.3947893  |\n",
       "| s4 |  0.20384090 |  0.33211509 |  0.4138066  |  0.2576534  | 0.54220728  |  0.6598169  | -0.73849273 |  1.0000000  |  0.6178574  |  0.4172121  |  0.4304529  |\n",
       "| s5 |  0.27077678 |  0.14991756 |  0.4461586  |  0.3934781  | 0.51550076  |  0.3183534  | -0.39857700 |  0.6178574  |  1.0000000  |  0.4646705  |  0.5658834  |\n",
       "| s6 |  0.30173101 |  0.20813322 |  0.3886800  |  0.3904294  | 0.32571675  |  0.2906004  | -0.27369730 |  0.4172121  |  0.4646705  |  1.0000000  |  0.3824835  |\n",
       "| target |  0.18788875 |  0.04306200 |  0.5864501  |  0.4414838  | 0.21202248  |  0.1740536  | -0.39478925 |  0.4304529  |  0.5658834  |  0.3824835  |  1.0000000  |\n",
       "\n"
      ],
      "text/plain": [
       "       age         sex         bmi        bp         s1         s2        \n",
       "age     1.00000000  0.17373710  0.1850847  0.3354267 0.26006082  0.2192431\n",
       "sex     0.17373710  1.00000000  0.0881614  0.2410132 0.03527682  0.1426373\n",
       "bmi     0.18508467  0.08816140  1.0000000  0.3954153 0.24977742  0.2611699\n",
       "bp      0.33542671  0.24101317  0.3954153  1.0000000 0.24246971  0.1855578\n",
       "s1      0.26006082  0.03527682  0.2497774  0.2424697 1.00000000  0.8966630\n",
       "s2      0.21924314  0.14263726  0.2611699  0.1855578 0.89666296  1.0000000\n",
       "s3     -0.07518097 -0.37908963 -0.3668110 -0.1787612 0.05151936 -0.1964551\n",
       "s4      0.20384090  0.33211509  0.4138066  0.2576534 0.54220728  0.6598169\n",
       "s5      0.27077678  0.14991756  0.4461586  0.3934781 0.51550076  0.3183534\n",
       "s6      0.30173101  0.20813322  0.3886800  0.3904294 0.32571675  0.2906004\n",
       "target  0.18788875  0.04306200  0.5864501  0.4414838 0.21202248  0.1740536\n",
       "       s3          s4         s5         s6         target    \n",
       "age    -0.07518097  0.2038409  0.2707768  0.3017310  0.1878888\n",
       "sex    -0.37908963  0.3321151  0.1499176  0.2081332  0.0430620\n",
       "bmi    -0.36681098  0.4138066  0.4461586  0.3886800  0.5864501\n",
       "bp     -0.17876121  0.2576534  0.3934781  0.3904294  0.4414838\n",
       "s1      0.05151936  0.5422073  0.5155008  0.3257168  0.2120225\n",
       "s2     -0.19645512  0.6598169  0.3183534  0.2906004  0.1740536\n",
       "s3      1.00000000 -0.7384927 -0.3985770 -0.2736973 -0.3947893\n",
       "s4     -0.73849273  1.0000000  0.6178574  0.4172121  0.4304529\n",
       "s5     -0.39857700  0.6178574  1.0000000  0.4646705  0.5658834\n",
       "s6     -0.27369730  0.4172121  0.4646705  1.0000000  0.3824835\n",
       "target -0.39478925  0.4304529  0.5658834  0.3824835  1.0000000"
      ]
     },
     "metadata": {},
     "output_type": "display_data"
    }
   ],
   "source": [
    "(corrmatrix<-cor(df))"
   ]
  },
  {
   "cell_type": "code",
   "execution_count": 12,
   "metadata": {},
   "outputs": [
    {
     "name": "stderr",
     "output_type": "stream",
     "text": [
      "Warning message:\n",
      "\"package 'corrplot' was built under R version 3.6.2\"corrplot 0.84 loaded\n"
     ]
    },
    {
     "data": {
      "image/png": "[encoded data removed]",
      "text/plain": [
       "Plot with title \"\""
      ]
     },
     "metadata": {},
     "output_type": "display_data"
    }
   ],
   "source": [
    "library(corrplot)\n",
    "corrplot(cor(df),method='circle') #상관관계 플로팅"
   ]
  },
  {
   "cell_type": "code",
   "execution_count": 16,
   "metadata": {},
   "outputs": [
    {
     "data": {
      "text/plain": [
       "\n",
       "Call:\n",
       "lm(formula = target ~ ., data = df)\n",
       "\n",
       "Coefficients:\n",
       "(Intercept)          age          sex          bmi           bp           s1  \n",
       "     152.13       -10.01      -239.82       519.84       324.39      -792.18  \n",
       "         s2           s3           s4           s5           s6  \n",
       "     476.75       101.04       177.06       751.28        67.63  \n"
      ]
     },
     "metadata": {},
     "output_type": "display_data"
    }
   ],
   "source": [
    "(model <- lm(target ~ . , data=df)) #다중회귀분석 모형"
   ]
  },
  {
   "cell_type": "code",
   "execution_count": 17,
   "metadata": {},
   "outputs": [
    {
     "data": {
      "text/plain": [
       "\n",
       "Call:\n",
       "lm(formula = target ~ ., data = df)\n",
       "\n",
       "Residuals:\n",
       "     Min       1Q   Median       3Q      Max \n",
       "-155.829  -38.534   -0.227   37.806  151.355 \n",
       "\n",
       "Coefficients:\n",
       "            Estimate Std. Error t value Pr(>|t|)    \n",
       "(Intercept)  152.133      2.576  59.061  < 2e-16 ***\n",
       "age          -10.012     59.749  -0.168 0.867000    \n",
       "sex         -239.819     61.222  -3.917 0.000104 ***\n",
       "bmi          519.840     66.534   7.813 4.30e-14 ***\n",
       "bp           324.390     65.422   4.958 1.02e-06 ***\n",
       "s1          -792.184    416.684  -1.901 0.057947 .  \n",
       "s2           476.746    339.035   1.406 0.160389    \n",
       "s3           101.045    212.533   0.475 0.634721    \n",
       "s4           177.064    161.476   1.097 0.273456    \n",
       "s5           751.279    171.902   4.370 1.56e-05 ***\n",
       "s6            67.625     65.984   1.025 0.305998    \n",
       "---\n",
       "Signif. codes:  0 '***' 0.001 '**' 0.01 '*' 0.05 '.' 0.1 ' ' 1\n",
       "\n",
       "Residual standard error: 54.15 on 431 degrees of freedom\n",
       "Multiple R-squared:  0.5177,\tAdjusted R-squared:  0.5066 \n",
       "F-statistic: 46.27 on 10 and 431 DF,  p-value: < 2.2e-16\n"
      ]
     },
     "metadata": {},
     "output_type": "display_data"
    }
   ],
   "source": [
    "summary(model)\n",
    "# p-value: < 2.2e-16\n",
    "#Adjusted R-squared:  0.5066  모형의 설명력(예측정확도)"
   ]
  },
  {
   "cell_type": "code",
   "execution_count": 18,
   "metadata": {},
   "outputs": [
    {
     "name": "stdout",
     "output_type": "stream",
     "text": [
      "Start:  AIC=3539.64\n",
      "target ~ age + sex + bmi + bp + s1 + s2 + s3 + s4 + s5 + s6\n",
      "\n",
      "       Df Sum of Sq     RSS    AIC\n",
      "- age   1        82 1264066 3537.7\n",
      "- s3    1       663 1264646 3537.9\n",
      "- s6    1      3080 1267064 3538.7\n",
      "- s4    1      3526 1267509 3538.9\n",
      "<none>              1263983 3539.6\n",
      "- s2    1      5799 1269782 3539.7\n",
      "- s1    1     10600 1274583 3541.3\n",
      "- sex   1     45000 1308983 3553.1\n",
      "- s5    1     56015 1319998 3556.8\n",
      "- bp    1     72103 1336086 3562.2\n",
      "- bmi   1    179028 1443011 3596.2\n",
      "\n",
      "Step:  AIC=3537.67\n",
      "target ~ sex + bmi + bp + s1 + s2 + s3 + s4 + s5 + s6\n",
      "\n",
      "       Df Sum of Sq     RSS    AIC\n",
      "- s3    1       646 1264712 3535.9\n",
      "- s6    1      3001 1267067 3536.7\n",
      "- s4    1      3543 1267608 3536.9\n",
      "<none>              1264066 3537.7\n",
      "- s2    1      5751 1269817 3537.7\n",
      "- s1    1     10569 1274635 3539.4\n",
      "- sex   1     45831 1309896 3551.4\n",
      "- s5    1     55963 1320029 3554.8\n",
      "- bp    1     73850 1337915 3560.8\n",
      "- bmi   1    179079 1443144 3594.2\n",
      "\n",
      "Step:  AIC=3535.9\n",
      "target ~ sex + bmi + bp + s1 + s2 + s4 + s5 + s6\n",
      "\n",
      "       Df Sum of Sq     RSS    AIC\n",
      "- s6    1      3093 1267805 3535.0\n",
      "- s4    1      3247 1267959 3535.0\n",
      "<none>              1264712 3535.9\n",
      "- s2    1      7505 1272217 3536.5\n",
      "- s1    1     26840 1291552 3543.2\n",
      "- sex   1     46382 1311094 3549.8\n",
      "- bp    1     73536 1338248 3558.9\n",
      "- s5    1     97509 1362221 3566.7\n",
      "- bmi   1    178537 1443249 3592.3\n",
      "\n",
      "Step:  AIC=3534.98\n",
      "target ~ sex + bmi + bp + s1 + s2 + s4 + s5\n",
      "\n",
      "       Df Sum of Sq     RSS    AIC\n",
      "- s4    1      3686 1271491 3534.3\n",
      "<none>              1267805 3535.0\n",
      "- s2    1      7472 1275277 3535.6\n",
      "- s1    1     26378 1294183 3542.1\n",
      "- sex   1     44686 1312491 3548.3\n",
      "- bp    1     82154 1349959 3560.7\n",
      "- s5    1    102520 1370325 3567.3\n",
      "- bmi   1    189970 1457775 3594.7\n",
      "\n",
      "Step:  AIC=3534.26\n",
      "target ~ sex + bmi + bp + s1 + s2 + s5\n",
      "\n",
      "       Df Sum of Sq     RSS    AIC\n",
      "<none>              1271491 3534.3\n",
      "- s2    1     39378 1310869 3545.7\n",
      "- sex   1     41858 1313349 3546.6\n",
      "- s1    1     65237 1336728 3554.4\n",
      "- bp    1     79627 1351119 3559.1\n",
      "- bmi   1    190586 1462077 3594.0\n",
      "- s5    1    294094 1565585 3624.2\n"
     ]
    }
   ],
   "source": [
    "reduced<-step(model,direction='backward') #후진제거법"
   ]
  },
  {
   "cell_type": "code",
   "execution_count": 19,
   "metadata": {},
   "outputs": [
    {
     "data": {
      "text/plain": [
       "\n",
       "Call:\n",
       "lm(formula = target ~ sex + bmi + bp + s1 + s2 + s5, data = df)\n",
       "\n",
       "Residuals:\n",
       "     Min       1Q   Median       3Q      Max \n",
       "-158.277  -39.476   -2.068   37.221  148.693 \n",
       "\n",
       "Coefficients:\n",
       "            Estimate Std. Error t value Pr(>|t|)    \n",
       "(Intercept)  152.133      2.572  59.159  < 2e-16 ***\n",
       "sex         -226.511     59.857  -3.784 0.000176 ***\n",
       "bmi          529.873     65.620   8.075 6.69e-15 ***\n",
       "bp           327.220     62.693   5.219 2.79e-07 ***\n",
       "s1          -757.938    160.435  -4.724 3.12e-06 ***\n",
       "s2           538.586    146.738   3.670 0.000272 ***\n",
       "s5           804.192     80.173  10.031  < 2e-16 ***\n",
       "---\n",
       "Signif. codes:  0 '***' 0.001 '**' 0.01 '*' 0.05 '.' 0.1 ' ' 1\n",
       "\n",
       "Residual standard error: 54.06 on 435 degrees of freedom\n",
       "Multiple R-squared:  0.5149,\tAdjusted R-squared:  0.5082 \n",
       "F-statistic: 76.95 on 6 and 435 DF,  p-value: < 2.2e-16\n"
      ]
     },
     "metadata": {},
     "output_type": "display_data"
    }
   ],
   "source": [
    "summary(reduced) #최종 모형\n",
    "#p-value: < 2.2e-16\n",
    "#Adjusted R-squared:  0.5082 "
   ]
  },
  {
   "cell_type": "code",
   "execution_count": null,
   "metadata": {},
   "outputs": [],
   "source": []
  },
  {
   "cell_type": "code",
   "execution_count": null,
   "metadata": {},
   "outputs": [],
   "source": []
  },
  {
   "cell_type": "code",
   "execution_count": null,
   "metadata": {},
   "outputs": [],
   "source": []
  },
  {
   "cell_type": "code",
   "execution_count": null,
   "metadata": {},
   "outputs": [],
   "source": []
  },
  {
   "cell_type": "code",
   "execution_count": null,
   "metadata": {},
   "outputs": [],
   "source": []
  },
  {
   "cell_type": "code",
   "execution_count": null,
   "metadata": {},
   "outputs": [],
   "source": []
  },
  {
   "cell_type": "code",
   "execution_count": null,
   "metadata": {},
   "outputs": [],
   "source": []
  },
  {
   "cell_type": "code",
   "execution_count": null,
   "metadata": {},
   "outputs": [],
   "source": []
  }
 ],
 "metadata": {
  "kernelspec": {
   "display_name": "R",
   "language": "R",
   "name": "ir"
  },
  "language_info": {
   "codemirror_mode": "r",
   "file_extension": ".r",
   "mimetype": "text/x-r-source",
   "name": "R",
   "pygments_lexer": "r",
   "version": "3.6.1"
  }
 },
 "nbformat": 4,
 "nbformat_minor": 2
}
