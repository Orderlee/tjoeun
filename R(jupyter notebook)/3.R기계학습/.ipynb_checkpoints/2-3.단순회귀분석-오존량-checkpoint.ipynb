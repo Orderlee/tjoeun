{
 "cells": [
  {
   "cell_type": "code",
   "execution_count": 28,
   "metadata": {},
   "outputs": [
    {
     "data": {
      "text/html": [
       "<table>\n",
       "<thead><tr><th scope=col>Ozone</th><th scope=col>Solar.R</th><th scope=col>Wind</th><th scope=col>Temp</th><th scope=col>Month</th><th scope=col>Day</th><th scope=col>Ozone2</th></tr></thead>\n",
       "<tbody>\n",
       "\t<tr><td>41      </td><td>190     </td><td> 7.4    </td><td>67      </td><td>5       </td><td>1       </td><td>41.00000</td></tr>\n",
       "\t<tr><td>36      </td><td>118     </td><td> 8.0    </td><td>72      </td><td>5       </td><td>2       </td><td>36.00000</td></tr>\n",
       "\t<tr><td>12      </td><td>149     </td><td>12.6    </td><td>74      </td><td>5       </td><td>3       </td><td>12.00000</td></tr>\n",
       "\t<tr><td>18      </td><td>313     </td><td>11.5    </td><td>62      </td><td>5       </td><td>4       </td><td>18.00000</td></tr>\n",
       "\t<tr><td>NA      </td><td> NA     </td><td>14.3    </td><td>56      </td><td>5       </td><td>5       </td><td>42.12931</td></tr>\n",
       "\t<tr><td>28      </td><td> NA     </td><td>14.9    </td><td>66      </td><td>5       </td><td>6       </td><td>28.00000</td></tr>\n",
       "</tbody>\n",
       "</table>\n"
      ],
      "text/latex": [
       "\\begin{tabular}{r|lllllll}\n",
       " Ozone & Solar.R & Wind & Temp & Month & Day & Ozone2\\\\\n",
       "\\hline\n",
       "\t 41       & 190      &  7.4     & 67       & 5        & 1        & 41.00000\\\\\n",
       "\t 36       & 118      &  8.0     & 72       & 5        & 2        & 36.00000\\\\\n",
       "\t 12       & 149      & 12.6     & 74       & 5        & 3        & 12.00000\\\\\n",
       "\t 18       & 313      & 11.5     & 62       & 5        & 4        & 18.00000\\\\\n",
       "\t NA       &  NA      & 14.3     & 56       & 5        & 5        & 42.12931\\\\\n",
       "\t 28       &  NA      & 14.9     & 66       & 5        & 6        & 28.00000\\\\\n",
       "\\end{tabular}\n"
      ],
      "text/markdown": [
       "\n",
       "| Ozone | Solar.R | Wind | Temp | Month | Day | Ozone2 |\n",
       "|---|---|---|---|---|---|---|\n",
       "| 41       | 190      |  7.4     | 67       | 5        | 1        | 41.00000 |\n",
       "| 36       | 118      |  8.0     | 72       | 5        | 2        | 36.00000 |\n",
       "| 12       | 149      | 12.6     | 74       | 5        | 3        | 12.00000 |\n",
       "| 18       | 313      | 11.5     | 62       | 5        | 4        | 18.00000 |\n",
       "| NA       |  NA      | 14.3     | 56       | 5        | 5        | 42.12931 |\n",
       "| 28       |  NA      | 14.9     | 66       | 5        | 6        | 28.00000 |\n",
       "\n"
      ],
      "text/plain": [
       "  Ozone Solar.R Wind Temp Month Day Ozone2  \n",
       "1 41    190      7.4 67   5     1   41.00000\n",
       "2 36    118      8.0 72   5     2   36.00000\n",
       "3 12    149     12.6 74   5     3   12.00000\n",
       "4 18    313     11.5 62   5     4   18.00000\n",
       "5 NA     NA     14.3 56   5     5   42.12931\n",
       "6 28     NA     14.9 66   5     6   28.00000"
      ]
     },
     "metadata": {},
     "output_type": "display_data"
    },
    {
     "data": {
      "text/html": [
       "<table>\n",
       "<thead><tr><th></th><th scope=col>Ozone</th><th scope=col>Solar.R</th><th scope=col>Wind</th><th scope=col>Temp</th><th scope=col>Month</th><th scope=col>Day</th><th scope=col>Ozone2</th></tr></thead>\n",
       "<tbody>\n",
       "\t<tr><th scope=row>148</th><td>14      </td><td> 20     </td><td>16.6    </td><td>63      </td><td>9       </td><td>25      </td><td>14.00000</td></tr>\n",
       "\t<tr><th scope=row>149</th><td>30      </td><td>193     </td><td> 6.9    </td><td>70      </td><td>9       </td><td>26      </td><td>30.00000</td></tr>\n",
       "\t<tr><th scope=row>150</th><td>NA      </td><td>145     </td><td>13.2    </td><td>77      </td><td>9       </td><td>27      </td><td>42.12931</td></tr>\n",
       "\t<tr><th scope=row>151</th><td>14      </td><td>191     </td><td>14.3    </td><td>75      </td><td>9       </td><td>28      </td><td>14.00000</td></tr>\n",
       "\t<tr><th scope=row>152</th><td>18      </td><td>131     </td><td> 8.0    </td><td>76      </td><td>9       </td><td>29      </td><td>18.00000</td></tr>\n",
       "\t<tr><th scope=row>153</th><td>20      </td><td>223     </td><td>11.5    </td><td>68      </td><td>9       </td><td>30      </td><td>20.00000</td></tr>\n",
       "</tbody>\n",
       "</table>\n"
      ],
      "text/latex": [
       "\\begin{tabular}{r|lllllll}\n",
       "  & Ozone & Solar.R & Wind & Temp & Month & Day & Ozone2\\\\\n",
       "\\hline\n",
       "\t148 & 14       &  20      & 16.6     & 63       & 9        & 25       & 14.00000\\\\\n",
       "\t149 & 30       & 193      &  6.9     & 70       & 9        & 26       & 30.00000\\\\\n",
       "\t150 & NA       & 145      & 13.2     & 77       & 9        & 27       & 42.12931\\\\\n",
       "\t151 & 14       & 191      & 14.3     & 75       & 9        & 28       & 14.00000\\\\\n",
       "\t152 & 18       & 131      &  8.0     & 76       & 9        & 29       & 18.00000\\\\\n",
       "\t153 & 20       & 223      & 11.5     & 68       & 9        & 30       & 20.00000\\\\\n",
       "\\end{tabular}\n"
      ],
      "text/markdown": [
       "\n",
       "| <!--/--> | Ozone | Solar.R | Wind | Temp | Month | Day | Ozone2 |\n",
       "|---|---|---|---|---|---|---|---|\n",
       "| 148 | 14       |  20      | 16.6     | 63       | 9        | 25       | 14.00000 |\n",
       "| 149 | 30       | 193      |  6.9     | 70       | 9        | 26       | 30.00000 |\n",
       "| 150 | NA       | 145      | 13.2     | 77       | 9        | 27       | 42.12931 |\n",
       "| 151 | 14       | 191      | 14.3     | 75       | 9        | 28       | 14.00000 |\n",
       "| 152 | 18       | 131      |  8.0     | 76       | 9        | 29       | 18.00000 |\n",
       "| 153 | 20       | 223      | 11.5     | 68       | 9        | 30       | 20.00000 |\n",
       "\n"
      ],
      "text/plain": [
       "    Ozone Solar.R Wind Temp Month Day Ozone2  \n",
       "148 14     20     16.6 63   9     25  14.00000\n",
       "149 30    193      6.9 70   9     26  30.00000\n",
       "150 NA    145     13.2 77   9     27  42.12931\n",
       "151 14    191     14.3 75   9     28  14.00000\n",
       "152 18    131      8.0 76   9     29  18.00000\n",
       "153 20    223     11.5 68   9     30  20.00000"
      ]
     },
     "metadata": {},
     "output_type": "display_data"
    }
   ],
   "source": [
    "#귀무가설: 온도와 오존량은 상관관계가 없다.\n",
    "#대립가설: 온도와 오존량은 상관관계가 있다.\n",
    "df<-read.csv('d:/data/ozone/ozone.csv')\n",
    "head(df)\n",
    "tail(df)"
   ]
  },
  {
   "cell_type": "code",
   "execution_count": 29,
   "metadata": {},
   "outputs": [],
   "source": [
    "# df<-na.omit(df) #결측값이 있는 행을 제거\n",
    "# tail(df) "
   ]
  },
  {
   "cell_type": "code",
   "execution_count": 30,
   "metadata": {},
   "outputs": [],
   "source": [
    "X<-df$Temp #독립변수\n",
    "y<-df$Ozone2 #종속변수"
   ]
  },
  {
   "cell_type": "code",
   "execution_count": 31,
   "metadata": {},
   "outputs": [
    {
     "data": {
      "text/html": [
       "0.608742005973197"
      ],
      "text/latex": [
       "0.608742005973197"
      ],
      "text/markdown": [
       "0.608742005973197"
      ],
      "text/plain": [
       "[1] 0.608742"
      ]
     },
     "metadata": {},
     "output_type": "display_data"
    }
   ],
   "source": [
    "cor(X,y) #상관계수     0.6 강한 양의 상관관계"
   ]
  },
  {
   "cell_type": "code",
   "execution_count": 32,
   "metadata": {},
   "outputs": [
    {
     "data": {
      "text/plain": [
       "\n",
       "Call:\n",
       "lm(formula = y ~ X)\n",
       "\n",
       "Coefficients:\n",
       "(Intercept)            X  \n",
       "   -101.592        1.845  \n"
      ]
     },
     "metadata": {},
     "output_type": "display_data"
    }
   ],
   "source": [
    "(model<-lm(y~X)) #회귀분석모형 종속변수 ~ 독립변수\n",
    "#coefficients\n",
    "#[1]Intercept 절편, [2] 기울기\n",
    "#y=ax+b\n",
    "#종속변수 = 기울기 x 독립변수 +절편"
   ]
  },
  {
   "cell_type": "code",
   "execution_count": 33,
   "metadata": {},
   "outputs": [
    {
     "data": {
      "text/plain": [
       "\n",
       "Call:\n",
       "lm(formula = y ~ X)\n",
       "\n",
       "Residuals:\n",
       "    Min      1Q  Median      3Q     Max \n",
       "-39.037 -15.883  -2.062   8.437 120.117 \n",
       "\n",
       "Coefficients:\n",
       "             Estimate Std. Error t value Pr(>|t|)    \n",
       "(Intercept) -101.5919    15.3546  -6.616 6.02e-10 ***\n",
       "X              1.8454     0.1957   9.429  < 2e-16 ***\n",
       "---\n",
       "Signif. codes:  0 '***' 0.001 '**' 0.01 '*' 0.05 '.' 0.1 ' ' 1\n",
       "\n",
       "Residual standard error: 22.84 on 151 degrees of freedom\n",
       "Multiple R-squared:  0.3706,\tAdjusted R-squared:  0.3664 \n",
       "F-statistic:  88.9 on 1 and 151 DF,  p-value: < 2.2e-16\n"
      ]
     },
     "metadata": {},
     "output_type": "display_data"
    }
   ],
   "source": [
    "summary(model) #모형 요약, P-value,R제곱\n",
    "#p-value: < 2.2e-16    95%,99% 신뢰 수준하에서 유의\n",
    "#귀무가설 기각, 대립가설 채택\n",
    "#결론: 온도와 오존량은 상관관계가 있다.\n",
    "#R제곱:0.3664 36.6%의 설명력"
   ]
  },
  {
   "cell_type": "code",
   "execution_count": 34,
   "metadata": {},
   "outputs": [
    {
     "data": {
      "image/png": "[encoded data removed]",
      "text/plain": [
       "Plot with title \"온도와 오존량\""
      ]
     },
     "metadata": {},
     "output_type": "display_data"
    }
   ],
   "source": [
    "plot(X,y,main='온도와 오존량',xlab='온도',ylab='오존량')\n",
    "abline(model, col='blue') #회귀선"
   ]
  },
  {
   "cell_type": "code",
   "execution_count": 35,
   "metadata": {},
   "outputs": [
    {
     "data": {
      "text/html": [
       "<dl class=dl-horizontal>\n",
       "\t<dt>(Intercept)</dt>\n",
       "\t\t<dd>-101.591921701746</dd>\n",
       "\t<dt>X</dt>\n",
       "\t\t<dd>1.84536325133829</dd>\n",
       "</dl>\n"
      ],
      "text/latex": [
       "\\begin{description*}\n",
       "\\item[(Intercept)] -101.591921701746\n",
       "\\item[X] 1.84536325133829\n",
       "\\end{description*}\n"
      ],
      "text/markdown": [
       "(Intercept)\n",
       ":   -101.591921701746X\n",
       ":   1.84536325133829\n",
       "\n"
      ],
      "text/plain": [
       "(Intercept)           X \n",
       "-101.591922    1.845363 "
      ]
     },
     "metadata": {},
     "output_type": "display_data"
    }
   ],
   "source": [
    "model$coefficients\n",
    "#[1] 절편, [2] 기울기"
   ]
  },
  {
   "cell_type": "code",
   "execution_count": 26,
   "metadata": {},
   "outputs": [
    {
     "data": {
      "text/html": [
       "46.0371384053176"
      ],
      "text/latex": [
       "46.0371384053176"
      ],
      "text/markdown": [
       "46.0371384053176"
      ],
      "text/plain": [
       "[1] 46.03714"
      ]
     },
     "metadata": {},
     "output_type": "display_data"
    }
   ],
   "source": [
    "#온도가 화씨 80도일때의 오존량 예측\n",
    "#종속변수=기울기 x 독립변수 +절편\n",
    "model$coefficients[[2]]*80+model$coefficients[[1]]"
   ]
  },
  {
   "cell_type": "code",
   "execution_count": null,
   "metadata": {},
   "outputs": [],
   "source": []
  }
 ],
 "metadata": {
  "kernelspec": {
   "display_name": "R",
   "language": "R",
   "name": "ir"
  },
  "language_info": {
   "codemirror_mode": "r",
   "file_extension": ".r",
   "mimetype": "text/x-r-source",
   "name": "R",
   "pygments_lexer": "r",
   "version": "3.6.1"
  }
 },
 "nbformat": 4,
 "nbformat_minor": 2
}
