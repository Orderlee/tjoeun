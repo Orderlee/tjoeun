{
 "cells": [
  {
   "cell_type": "code",
   "execution_count": 9,
   "metadata": {},
   "outputs": [
    {
     "data": {
      "text/html": [
       "<table>\n",
       "<thead><tr><th scope=col>quality_of_education</th><th scope=col>alumni_employment</th><th scope=col>quality_of_faculty</th><th scope=col>publications</th><th scope=col>influence</th><th scope=col>citations</th><th scope=col>patents</th><th scope=col>score</th><th scope=col>class</th></tr></thead>\n",
       "<tbody>\n",
       "\t<tr><td> 7    </td><td> 9    </td><td>1     </td><td> 1    </td><td> 1    </td><td> 1    </td><td>  5   </td><td>100.00</td><td>1     </td></tr>\n",
       "\t<tr><td> 9    </td><td>17    </td><td>3     </td><td>12    </td><td> 4    </td><td> 4    </td><td>  1   </td><td> 91.67</td><td>1     </td></tr>\n",
       "\t<tr><td>17    </td><td>11    </td><td>5     </td><td> 4    </td><td> 2    </td><td> 2    </td><td> 15   </td><td> 89.50</td><td>1     </td></tr>\n",
       "\t<tr><td>10    </td><td>24    </td><td>4     </td><td>16    </td><td>16    </td><td>11    </td><td> 50   </td><td> 86.17</td><td>1     </td></tr>\n",
       "\t<tr><td> 2    </td><td>29    </td><td>7     </td><td>37    </td><td>22    </td><td>22    </td><td> 18   </td><td> 85.21</td><td>1     </td></tr>\n",
       "\t<tr><td> 8    </td><td>14    </td><td>2     </td><td>53    </td><td>33    </td><td>26    </td><td>101   </td><td> 82.50</td><td>1     </td></tr>\n",
       "</tbody>\n",
       "</table>\n"
      ],
      "text/latex": [
       "\\begin{tabular}{r|lllllllll}\n",
       " quality\\_of\\_education & alumni\\_employment & quality\\_of\\_faculty & publications & influence & citations & patents & score & class\\\\\n",
       "\\hline\n",
       "\t  7     &  9     & 1      &  1     &  1     &  1     &   5    & 100.00 & 1     \\\\\n",
       "\t  9     & 17     & 3      & 12     &  4     &  4     &   1    &  91.67 & 1     \\\\\n",
       "\t 17     & 11     & 5      &  4     &  2     &  2     &  15    &  89.50 & 1     \\\\\n",
       "\t 10     & 24     & 4      & 16     & 16     & 11     &  50    &  86.17 & 1     \\\\\n",
       "\t  2     & 29     & 7      & 37     & 22     & 22     &  18    &  85.21 & 1     \\\\\n",
       "\t  8     & 14     & 2      & 53     & 33     & 26     & 101    &  82.50 & 1     \\\\\n",
       "\\end{tabular}\n"
      ],
      "text/markdown": [
       "\n",
       "| quality_of_education | alumni_employment | quality_of_faculty | publications | influence | citations | patents | score | class |\n",
       "|---|---|---|---|---|---|---|---|---|\n",
       "|  7     |  9     | 1      |  1     |  1     |  1     |   5    | 100.00 | 1      |\n",
       "|  9     | 17     | 3      | 12     |  4     |  4     |   1    |  91.67 | 1      |\n",
       "| 17     | 11     | 5      |  4     |  2     |  2     |  15    |  89.50 | 1      |\n",
       "| 10     | 24     | 4      | 16     | 16     | 11     |  50    |  86.17 | 1      |\n",
       "|  2     | 29     | 7      | 37     | 22     | 22     |  18    |  85.21 | 1      |\n",
       "|  8     | 14     | 2      | 53     | 33     | 26     | 101    |  82.50 | 1      |\n",
       "\n"
      ],
      "text/plain": [
       "  quality_of_education alumni_employment quality_of_faculty publications\n",
       "1  7                    9                1                   1          \n",
       "2  9                   17                3                  12          \n",
       "3 17                   11                5                   4          \n",
       "4 10                   24                4                  16          \n",
       "5  2                   29                7                  37          \n",
       "6  8                   14                2                  53          \n",
       "  influence citations patents score  class\n",
       "1  1         1          5     100.00 1    \n",
       "2  4         4          1      91.67 1    \n",
       "3  2         2         15      89.50 1    \n",
       "4 16        11         50      86.17 1    \n",
       "5 22        22         18      85.21 1    \n",
       "6 33        26        101      82.50 1    "
      ]
     },
     "metadata": {},
     "output_type": "display_data"
    }
   ],
   "source": [
    "df<-read.csv('d:/data/university/data.csv')\n",
    "head(df)"
   ]
  },
  {
   "cell_type": "code",
   "execution_count": 10,
   "metadata": {},
   "outputs": [],
   "source": [
    "library(dplyr)\n",
    "df<-df %>% select(-score) #score 필드는 제외"
   ]
  },
  {
   "cell_type": "code",
   "execution_count": 11,
   "metadata": {},
   "outputs": [
    {
     "data": {
      "text/html": [
       "<ol class=list-inline>\n",
       "\t<li>2200</li>\n",
       "\t<li>8</li>\n",
       "</ol>\n"
      ],
      "text/latex": [
       "\\begin{enumerate*}\n",
       "\\item 2200\n",
       "\\item 8\n",
       "\\end{enumerate*}\n"
      ],
      "text/markdown": [
       "1. 2200\n",
       "2. 8\n",
       "\n",
       "\n"
      ],
      "text/plain": [
       "[1] 2200    8"
      ]
     },
     "metadata": {},
     "output_type": "display_data"
    },
    {
     "data": {
      "text/plain": [
       " quality_of_education alumni_employment quality_of_faculty  publications   \n",
       " Min.   :  1.0        Min.   :  1.0     Min.   :  1.0      Min.   :   1.0  \n",
       " 1st Qu.:175.8        1st Qu.:175.8     1st Qu.:175.8      1st Qu.: 175.8  \n",
       " Median :355.0        Median :450.5     Median :210.0      Median : 450.5  \n",
       " Mean   :275.1        Mean   :357.1     Mean   :178.9      Mean   : 459.9  \n",
       " 3rd Qu.:367.0        3rd Qu.:478.0     3rd Qu.:218.0      3rd Qu.: 725.0  \n",
       " Max.   :367.0        Max.   :567.0     Max.   :218.0      Max.   :1000.0  \n",
       "   influence       citations        patents          class       \n",
       " Min.   :  1.0   Min.   :  1.0   Min.   :  1.0   Min.   :0.0000  \n",
       " 1st Qu.:175.8   1st Qu.:161.0   1st Qu.:170.8   1st Qu.:0.0000  \n",
       " Median :450.5   Median :406.0   Median :426.0   Median :0.0000  \n",
       " Mean   :459.8   Mean   :413.4   Mean   :433.3   Mean   :0.2336  \n",
       " 3rd Qu.:725.2   3rd Qu.:645.0   3rd Qu.:714.2   3rd Qu.:0.0000  \n",
       " Max.   :991.0   Max.   :812.0   Max.   :871.0   Max.   :1.0000  "
      ]
     },
     "metadata": {},
     "output_type": "display_data"
    }
   ],
   "source": [
    "dim(df) #데이터의 차원\n",
    "summary(df) #기초통계량"
   ]
  },
  {
   "cell_type": "code",
   "execution_count": 12,
   "metadata": {},
   "outputs": [
    {
     "data": {
      "text/html": [
       "<table>\n",
       "<thead><tr><th></th><th scope=col>quality_of_education</th><th scope=col>alumni_employment</th><th scope=col>quality_of_faculty</th><th scope=col>publications</th><th scope=col>influence</th><th scope=col>citations</th><th scope=col>patents</th><th scope=col>class</th></tr></thead>\n",
       "<tbody>\n",
       "\t<tr><th scope=row>quality_of_education</th><td> 1.0000000</td><td> 0.6064206</td><td> 0.7861806</td><td> 0.6246568</td><td> 0.6456406</td><td> 0.6304553</td><td> 0.5281200</td><td>-0.6298041</td></tr>\n",
       "\t<tr><th scope=row>alumni_employment</th><td> 0.6064206</td><td> 1.0000000</td><td> 0.5586183</td><td> 0.5720960</td><td> 0.5273823</td><td> 0.5592002</td><td> 0.5282193</td><td>-0.5515769</td></tr>\n",
       "\t<tr><th scope=row>quality_of_faculty</th><td> 0.7861806</td><td> 0.5586183</td><td> 1.0000000</td><td> 0.6344229</td><td> 0.6564058</td><td> 0.6521864</td><td> 0.5551074</td><td>-0.6763612</td></tr>\n",
       "\t<tr><th scope=row>publications</th><td> 0.6246568</td><td> 0.5720960</td><td> 0.6344229</td><td> 1.0000000</td><td> 0.8749516</td><td> 0.8299117</td><td> 0.6715581</td><td>-0.6490623</td></tr>\n",
       "\t<tr><th scope=row>influence</th><td> 0.6456406</td><td> 0.5273823</td><td> 0.6564058</td><td> 0.8749516</td><td> 1.0000000</td><td> 0.8452068</td><td> 0.6118114</td><td>-0.6473828</td></tr>\n",
       "\t<tr><th scope=row>citations</th><td> 0.6304553</td><td> 0.5592002</td><td> 0.6521864</td><td> 0.8299117</td><td> 0.8452068</td><td> 1.0000000</td><td> 0.5987279</td><td>-0.6510523</td></tr>\n",
       "\t<tr><th scope=row>patents</th><td> 0.5281200</td><td> 0.5282193</td><td> 0.5551074</td><td> 0.6715581</td><td> 0.6118114</td><td> 0.5987279</td><td> 1.0000000</td><td>-0.5454657</td></tr>\n",
       "\t<tr><th scope=row>class</th><td>-0.6298041</td><td>-0.5515769</td><td>-0.6763612</td><td>-0.6490623</td><td>-0.6473828</td><td>-0.6510523</td><td>-0.5454657</td><td> 1.0000000</td></tr>\n",
       "</tbody>\n",
       "</table>\n"
      ],
      "text/latex": [
       "\\begin{tabular}{r|llllllll}\n",
       "  & quality\\_of\\_education & alumni\\_employment & quality\\_of\\_faculty & publications & influence & citations & patents & class\\\\\n",
       "\\hline\n",
       "\tquality\\_of\\_education &  1.0000000 &  0.6064206 &  0.7861806 &  0.6246568 &  0.6456406 &  0.6304553 &  0.5281200 & -0.6298041\\\\\n",
       "\talumni\\_employment &  0.6064206 &  1.0000000 &  0.5586183 &  0.5720960 &  0.5273823 &  0.5592002 &  0.5282193 & -0.5515769\\\\\n",
       "\tquality\\_of\\_faculty &  0.7861806 &  0.5586183 &  1.0000000 &  0.6344229 &  0.6564058 &  0.6521864 &  0.5551074 & -0.6763612\\\\\n",
       "\tpublications &  0.6246568 &  0.5720960 &  0.6344229 &  1.0000000 &  0.8749516 &  0.8299117 &  0.6715581 & -0.6490623\\\\\n",
       "\tinfluence &  0.6456406 &  0.5273823 &  0.6564058 &  0.8749516 &  1.0000000 &  0.8452068 &  0.6118114 & -0.6473828\\\\\n",
       "\tcitations &  0.6304553 &  0.5592002 &  0.6521864 &  0.8299117 &  0.8452068 &  1.0000000 &  0.5987279 & -0.6510523\\\\\n",
       "\tpatents &  0.5281200 &  0.5282193 &  0.5551074 &  0.6715581 &  0.6118114 &  0.5987279 &  1.0000000 & -0.5454657\\\\\n",
       "\tclass & -0.6298041 & -0.5515769 & -0.6763612 & -0.6490623 & -0.6473828 & -0.6510523 & -0.5454657 &  1.0000000\\\\\n",
       "\\end{tabular}\n"
      ],
      "text/markdown": [
       "\n",
       "| <!--/--> | quality_of_education | alumni_employment | quality_of_faculty | publications | influence | citations | patents | class |\n",
       "|---|---|---|---|---|---|---|---|---|\n",
       "| quality_of_education |  1.0000000 |  0.6064206 |  0.7861806 |  0.6246568 |  0.6456406 |  0.6304553 |  0.5281200 | -0.6298041 |\n",
       "| alumni_employment |  0.6064206 |  1.0000000 |  0.5586183 |  0.5720960 |  0.5273823 |  0.5592002 |  0.5282193 | -0.5515769 |\n",
       "| quality_of_faculty |  0.7861806 |  0.5586183 |  1.0000000 |  0.6344229 |  0.6564058 |  0.6521864 |  0.5551074 | -0.6763612 |\n",
       "| publications |  0.6246568 |  0.5720960 |  0.6344229 |  1.0000000 |  0.8749516 |  0.8299117 |  0.6715581 | -0.6490623 |\n",
       "| influence |  0.6456406 |  0.5273823 |  0.6564058 |  0.8749516 |  1.0000000 |  0.8452068 |  0.6118114 | -0.6473828 |\n",
       "| citations |  0.6304553 |  0.5592002 |  0.6521864 |  0.8299117 |  0.8452068 |  1.0000000 |  0.5987279 | -0.6510523 |\n",
       "| patents |  0.5281200 |  0.5282193 |  0.5551074 |  0.6715581 |  0.6118114 |  0.5987279 |  1.0000000 | -0.5454657 |\n",
       "| class | -0.6298041 | -0.5515769 | -0.6763612 | -0.6490623 | -0.6473828 | -0.6510523 | -0.5454657 |  1.0000000 |\n",
       "\n"
      ],
      "text/plain": [
       "                     quality_of_education alumni_employment quality_of_faculty\n",
       "quality_of_education  1.0000000            0.6064206         0.7861806        \n",
       "alumni_employment     0.6064206            1.0000000         0.5586183        \n",
       "quality_of_faculty    0.7861806            0.5586183         1.0000000        \n",
       "publications          0.6246568            0.5720960         0.6344229        \n",
       "influence             0.6456406            0.5273823         0.6564058        \n",
       "citations             0.6304553            0.5592002         0.6521864        \n",
       "patents               0.5281200            0.5282193         0.5551074        \n",
       "class                -0.6298041           -0.5515769        -0.6763612        \n",
       "                     publications influence  citations  patents    class     \n",
       "quality_of_education  0.6246568    0.6456406  0.6304553  0.5281200 -0.6298041\n",
       "alumni_employment     0.5720960    0.5273823  0.5592002  0.5282193 -0.5515769\n",
       "quality_of_faculty    0.6344229    0.6564058  0.6521864  0.5551074 -0.6763612\n",
       "publications          1.0000000    0.8749516  0.8299117  0.6715581 -0.6490623\n",
       "influence             0.8749516    1.0000000  0.8452068  0.6118114 -0.6473828\n",
       "citations             0.8299117    0.8452068  1.0000000  0.5987279 -0.6510523\n",
       "patents               0.6715581    0.6118114  0.5987279  1.0000000 -0.5454657\n",
       "class                -0.6490623   -0.6473828 -0.6510523 -0.5454657  1.0000000"
      ]
     },
     "metadata": {},
     "output_type": "display_data"
    }
   ],
   "source": [
    "(corrmatrix<-cor(df)) #상관계수 행렬"
   ]
  },
  {
   "cell_type": "code",
   "execution_count": 13,
   "metadata": {},
   "outputs": [
    {
     "data": {
      "image/png": "[encoded data removed]",
      "text/plain": [
       "Plot with title \"\""
      ]
     },
     "metadata": {},
     "output_type": "display_data"
    }
   ],
   "source": [
    "library(corrplot)\n",
    "corrplot(corrmatrix,method='circle')"
   ]
  },
  {
   "cell_type": "code",
   "execution_count": 14,
   "metadata": {},
   "outputs": [
    {
     "data": {
      "text/plain": [
       "\n",
       "   0    1 \n",
       "1686  514 "
      ]
     },
     "metadata": {},
     "output_type": "display_data"
    },
    {
     "data": {
      "image/png": "[encoded data removed]",
      "text/plain": [
       "plot without title"
      ]
     },
     "metadata": {},
     "output_type": "display_data"
    }
   ],
   "source": [
    "tbl<-table(df$class)\n",
    "tbl\n",
    "barplot(tbl,beside=T,legend=T,col=rainbow(2)) #카운트 플롯"
   ]
  },
  {
   "cell_type": "code",
   "execution_count": 15,
   "metadata": {},
   "outputs": [
    {
     "data": {
      "text/plain": [
       "\n",
       "  0   1 \n",
       "514 514 "
      ]
     },
     "metadata": {},
     "output_type": "display_data"
    }
   ],
   "source": [
    "library(ROSE)\n",
    "df_samp<-ovun.sample(class ~. , data=df,seed=1,method='under',\n",
    "                    N=514*2)$data # 0 514 1 514로 언더샘플링\n",
    "(tbl<-table(df_samp$class))"
   ]
  },
  {
   "cell_type": "code",
   "execution_count": 30,
   "metadata": {},
   "outputs": [],
   "source": [
    "library(caret)\n",
    "set.seed(123) #랜덤시드 고정\n",
    "#p=0,8 학습용 80% 검증용 20%\n",
    "idx_train<-createDataPartition(y=df_samp$class,p=0.8,list=F)\n",
    "train<-df_samp[idx_train,] #학습용\n",
    "X_train<-train[,-8] #독립변수\n",
    "y_train<-train[,8] #종속변수\n",
    "test<-df_samp[-idx_train,]#검증용\n",
    "X_test<-test[,-8]\n",
    "y_test<-test[,8]"
   ]
  },
  {
   "cell_type": "code",
   "execution_count": 31,
   "metadata": {},
   "outputs": [
    {
     "data": {
      "text/plain": [
       "\n",
       "Call:\n",
       "glm(formula = class ~ ., family = binomial, data = train)\n",
       "\n",
       "Deviance Residuals: \n",
       "    Min       1Q   Median       3Q      Max  \n",
       "-2.7718  -0.1684   0.0465   0.3294   3.5053  \n",
       "\n",
       "Coefficients:\n",
       "                       Estimate Std. Error z value Pr(>|z|)    \n",
       "(Intercept)           5.0110200  0.4461676  11.231  < 2e-16 ***\n",
       "quality_of_education -0.0010198  0.0014579  -0.699 0.484269    \n",
       "alumni_employment    -0.0030271  0.0007786  -3.888 0.000101 ***\n",
       "quality_of_faculty   -0.0048705  0.0028542  -1.706 0.087929 .  \n",
       "publications         -0.0040763  0.0014359  -2.839 0.004526 ** \n",
       "influence            -0.0028432  0.0014376  -1.978 0.047951 *  \n",
       "citations            -0.0036300  0.0014259  -2.546 0.010902 *  \n",
       "patents              -0.0007749  0.0006340  -1.222 0.221651    \n",
       "---\n",
       "Signif. codes:  0 '***' 0.001 '**' 0.01 '*' 0.05 '.' 0.1 ' ' 1\n",
       "\n",
       "(Dispersion parameter for binomial family taken to be 1)\n",
       "\n",
       "    Null deviance: 1142.31  on 823  degrees of freedom\n",
       "Residual deviance:  373.06  on 816  degrees of freedom\n",
       "AIC: 389.06\n",
       "\n",
       "Number of Fisher Scoring iterations: 7\n"
      ]
     },
     "metadata": {},
     "output_type": "display_data"
    }
   ],
   "source": [
    "model<-glm(class ~. , data=train, family=binomial) #로지스틱 회귀분석 모형\n",
    "summary(model)"
   ]
  },
  {
   "cell_type": "code",
   "execution_count": 32,
   "metadata": {},
   "outputs": [
    {
     "data": {
      "text/html": [
       "<dl class=dl-horizontal>\n",
       "\t<dt>(Intercept)</dt>\n",
       "\t\t<dd>5.01102004482405</dd>\n",
       "\t<dt>quality_of_education</dt>\n",
       "\t\t<dd>-0.00101975172252012</dd>\n",
       "\t<dt>alumni_employment</dt>\n",
       "\t\t<dd>-0.00302714465438703</dd>\n",
       "\t<dt>quality_of_faculty</dt>\n",
       "\t\t<dd>-0.00487052349303516</dd>\n",
       "\t<dt>publications</dt>\n",
       "\t\t<dd>-0.00407631765825213</dd>\n",
       "\t<dt>influence</dt>\n",
       "\t\t<dd>-0.00284323325300169</dd>\n",
       "\t<dt>citations</dt>\n",
       "\t\t<dd>-0.00363000703378295</dd>\n",
       "\t<dt>patents</dt>\n",
       "\t\t<dd>-0.000774903565636115</dd>\n",
       "</dl>\n"
      ],
      "text/latex": [
       "\\begin{description*}\n",
       "\\item[(Intercept)] 5.01102004482405\n",
       "\\item[quality\\textbackslash{}\\_of\\textbackslash{}\\_education] -0.00101975172252012\n",
       "\\item[alumni\\textbackslash{}\\_employment] -0.00302714465438703\n",
       "\\item[quality\\textbackslash{}\\_of\\textbackslash{}\\_faculty] -0.00487052349303516\n",
       "\\item[publications] -0.00407631765825213\n",
       "\\item[influence] -0.00284323325300169\n",
       "\\item[citations] -0.00363000703378295\n",
       "\\item[patents] -0.000774903565636115\n",
       "\\end{description*}\n"
      ],
      "text/markdown": [
       "(Intercept)\n",
       ":   5.01102004482405quality_of_education\n",
       ":   -0.00101975172252012alumni_employment\n",
       ":   -0.00302714465438703quality_of_faculty\n",
       ":   -0.00487052349303516publications\n",
       ":   -0.00407631765825213influence\n",
       ":   -0.00284323325300169citations\n",
       ":   -0.00363000703378295patents\n",
       ":   -0.000774903565636115\n",
       "\n"
      ],
      "text/plain": [
       "         (Intercept) quality_of_education    alumni_employment \n",
       "        5.0110200448        -0.0010197517        -0.0030271447 \n",
       "  quality_of_faculty         publications            influence \n",
       "       -0.0048705235        -0.0040763177        -0.0028432333 \n",
       "           citations              patents \n",
       "       -0.0036300070        -0.0007749036 "
      ]
     },
     "metadata": {},
     "output_type": "display_data"
    }
   ],
   "source": [
    "(coef1<-coef(model)) #상관계수"
   ]
  },
  {
   "cell_type": "code",
   "execution_count": 33,
   "metadata": {},
   "outputs": [],
   "source": [
    "pred<-predict(model,newdata=X_test,type='response') #검증용데이터셋\n",
    "result<-ifelse(pred>0.5,1,0)"
   ]
  },
  {
   "cell_type": "code",
   "execution_count": 34,
   "metadata": {},
   "outputs": [
    {
     "data": {
      "text/html": [
       "0.936274509803922"
      ],
      "text/latex": [
       "0.936274509803922"
      ],
      "text/markdown": [
       "0.936274509803922"
      ],
      "text/plain": [
       "[1] 0.9362745"
      ]
     },
     "metadata": {},
     "output_type": "display_data"
    }
   ],
   "source": [
    "mean(y_test==result) #예측정확도"
   ]
  },
  {
   "cell_type": "code",
   "execution_count": 35,
   "metadata": {},
   "outputs": [
    {
     "data": {
      "text/plain": [
       "      result\n",
       "y_test   0   1\n",
       "     0  90  12\n",
       "     1   1 101"
      ]
     },
     "metadata": {},
     "output_type": "display_data"
    }
   ],
   "source": [
    "table(y_test,result) #오분류표"
   ]
  },
  {
   "cell_type": "code",
   "execution_count": null,
   "metadata": {},
   "outputs": [],
   "source": []
  }
 ],
 "metadata": {
  "kernelspec": {
   "display_name": "R",
   "language": "R",
   "name": "ir"
  },
  "language_info": {
   "codemirror_mode": "r",
   "file_extension": ".r",
   "mimetype": "text/x-r-source",
   "name": "R",
   "pygments_lexer": "r",
   "version": "3.6.1"
  }
 },
 "nbformat": 4,
 "nbformat_minor": 2
}
