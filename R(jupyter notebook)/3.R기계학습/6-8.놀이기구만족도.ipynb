{
 "cells": [
  {
   "cell_type": "code",
   "execution_count": 2,
   "metadata": {},
   "outputs": [
    {
     "data": {
      "text/html": [
       "<table>\n",
       "<thead><tr><th scope=col>weekend</th><th scope=col>num.child</th><th scope=col>distance</th><th scope=col>rides</th><th scope=col>games</th><th scope=col>wait</th><th scope=col>clean</th><th scope=col>overall</th><th scope=col>class</th></tr></thead>\n",
       "<tbody>\n",
       "\t<tr><td>1        </td><td>0        </td><td>114.64826</td><td>87       </td><td>73       </td><td>60       </td><td>89       </td><td>47       </td><td>0        </td></tr>\n",
       "\t<tr><td>1        </td><td>2        </td><td> 27.01410</td><td>87       </td><td>78       </td><td>76       </td><td>87       </td><td>65       </td><td>1        </td></tr>\n",
       "\t<tr><td>0        </td><td>1        </td><td> 63.30098</td><td>85       </td><td>80       </td><td>70       </td><td>88       </td><td>61       </td><td>1        </td></tr>\n",
       "\t<tr><td>1        </td><td>0        </td><td> 25.90993</td><td>88       </td><td>72       </td><td>66       </td><td>89       </td><td>37       </td><td>0        </td></tr>\n",
       "\t<tr><td>0        </td><td>4        </td><td> 54.71831</td><td>84       </td><td>87       </td><td>74       </td><td>87       </td><td>68       </td><td>1        </td></tr>\n",
       "\t<tr><td>0        </td><td>5        </td><td> 22.67934</td><td>81       </td><td>79       </td><td>48       </td><td>79       </td><td>27       </td><td>0        </td></tr>\n",
       "</tbody>\n",
       "</table>\n"
      ],
      "text/latex": [
       "\\begin{tabular}{r|lllllllll}\n",
       " weekend & num.child & distance & rides & games & wait & clean & overall & class\\\\\n",
       "\\hline\n",
       "\t 1         & 0         & 114.64826 & 87        & 73        & 60        & 89        & 47        & 0        \\\\\n",
       "\t 1         & 2         &  27.01410 & 87        & 78        & 76        & 87        & 65        & 1        \\\\\n",
       "\t 0         & 1         &  63.30098 & 85        & 80        & 70        & 88        & 61        & 1        \\\\\n",
       "\t 1         & 0         &  25.90993 & 88        & 72        & 66        & 89        & 37        & 0        \\\\\n",
       "\t 0         & 4         &  54.71831 & 84        & 87        & 74        & 87        & 68        & 1        \\\\\n",
       "\t 0         & 5         &  22.67934 & 81        & 79        & 48        & 79        & 27        & 0        \\\\\n",
       "\\end{tabular}\n"
      ],
      "text/markdown": [
       "\n",
       "| weekend | num.child | distance | rides | games | wait | clean | overall | class |\n",
       "|---|---|---|---|---|---|---|---|---|\n",
       "| 1         | 0         | 114.64826 | 87        | 73        | 60        | 89        | 47        | 0         |\n",
       "| 1         | 2         |  27.01410 | 87        | 78        | 76        | 87        | 65        | 1         |\n",
       "| 0         | 1         |  63.30098 | 85        | 80        | 70        | 88        | 61        | 1         |\n",
       "| 1         | 0         |  25.90993 | 88        | 72        | 66        | 89        | 37        | 0         |\n",
       "| 0         | 4         |  54.71831 | 84        | 87        | 74        | 87        | 68        | 1         |\n",
       "| 0         | 5         |  22.67934 | 81        | 79        | 48        | 79        | 27        | 0         |\n",
       "\n"
      ],
      "text/plain": [
       "  weekend num.child distance  rides games wait clean overall class\n",
       "1 1       0         114.64826 87    73    60   89    47      0    \n",
       "2 1       2          27.01410 87    78    76   87    65      1    \n",
       "3 0       1          63.30098 85    80    70   88    61      1    \n",
       "4 1       0          25.90993 88    72    66   89    37      0    \n",
       "5 0       4          54.71831 84    87    74   87    68      1    \n",
       "6 0       5          22.67934 81    79    48   79    27      0    "
      ]
     },
     "metadata": {},
     "output_type": "display_data"
    }
   ],
   "source": [
    "df<-read.csv('d:/data/rides/rides2.csv')\n",
    "head(df)"
   ]
  },
  {
   "cell_type": "code",
   "execution_count": 3,
   "metadata": {},
   "outputs": [
    {
     "name": "stderr",
     "output_type": "stream",
     "text": [
      "Warning message:\n",
      "\"package 'dplyr' was built under R version 3.6.2\"\n",
      "Attaching package: 'dplyr'\n",
      "\n",
      "The following objects are masked from 'package:stats':\n",
      "\n",
      "    filter, lag\n",
      "\n",
      "The following objects are masked from 'package:base':\n",
      "\n",
      "    intersect, setdiff, setequal, union\n",
      "\n"
     ]
    },
    {
     "data": {
      "text/html": [
       "<ol class=list-inline>\n",
       "\t<li>500</li>\n",
       "\t<li>8</li>\n",
       "</ol>\n"
      ],
      "text/latex": [
       "\\begin{enumerate*}\n",
       "\\item 500\n",
       "\\item 8\n",
       "\\end{enumerate*}\n"
      ],
      "text/markdown": [
       "1. 500\n",
       "2. 8\n",
       "\n",
       "\n"
      ],
      "text/plain": [
       "[1] 500   8"
      ]
     },
     "metadata": {},
     "output_type": "display_data"
    },
    {
     "data": {
      "text/html": [
       "<table>\n",
       "<thead><tr><th scope=col>weekend</th><th scope=col>num.child</th><th scope=col>distance</th><th scope=col>rides</th><th scope=col>games</th><th scope=col>wait</th><th scope=col>clean</th><th scope=col>class</th></tr></thead>\n",
       "<tbody>\n",
       "\t<tr><td>1        </td><td>0        </td><td>114.64826</td><td>87       </td><td>73       </td><td>60       </td><td>89       </td><td>0        </td></tr>\n",
       "\t<tr><td>1        </td><td>2        </td><td> 27.01410</td><td>87       </td><td>78       </td><td>76       </td><td>87       </td><td>1        </td></tr>\n",
       "\t<tr><td>0        </td><td>1        </td><td> 63.30098</td><td>85       </td><td>80       </td><td>70       </td><td>88       </td><td>1        </td></tr>\n",
       "\t<tr><td>1        </td><td>0        </td><td> 25.90993</td><td>88       </td><td>72       </td><td>66       </td><td>89       </td><td>0        </td></tr>\n",
       "\t<tr><td>0        </td><td>4        </td><td> 54.71831</td><td>84       </td><td>87       </td><td>74       </td><td>87       </td><td>1        </td></tr>\n",
       "\t<tr><td>0        </td><td>5        </td><td> 22.67934</td><td>81       </td><td>79       </td><td>48       </td><td>79       </td><td>0        </td></tr>\n",
       "</tbody>\n",
       "</table>\n"
      ],
      "text/latex": [
       "\\begin{tabular}{r|llllllll}\n",
       " weekend & num.child & distance & rides & games & wait & clean & class\\\\\n",
       "\\hline\n",
       "\t 1         & 0         & 114.64826 & 87        & 73        & 60        & 89        & 0        \\\\\n",
       "\t 1         & 2         &  27.01410 & 87        & 78        & 76        & 87        & 1        \\\\\n",
       "\t 0         & 1         &  63.30098 & 85        & 80        & 70        & 88        & 1        \\\\\n",
       "\t 1         & 0         &  25.90993 & 88        & 72        & 66        & 89        & 0        \\\\\n",
       "\t 0         & 4         &  54.71831 & 84        & 87        & 74        & 87        & 1        \\\\\n",
       "\t 0         & 5         &  22.67934 & 81        & 79        & 48        & 79        & 0        \\\\\n",
       "\\end{tabular}\n"
      ],
      "text/markdown": [
       "\n",
       "| weekend | num.child | distance | rides | games | wait | clean | class |\n",
       "|---|---|---|---|---|---|---|---|\n",
       "| 1         | 0         | 114.64826 | 87        | 73        | 60        | 89        | 0         |\n",
       "| 1         | 2         |  27.01410 | 87        | 78        | 76        | 87        | 1         |\n",
       "| 0         | 1         |  63.30098 | 85        | 80        | 70        | 88        | 1         |\n",
       "| 1         | 0         |  25.90993 | 88        | 72        | 66        | 89        | 0         |\n",
       "| 0         | 4         |  54.71831 | 84        | 87        | 74        | 87        | 1         |\n",
       "| 0         | 5         |  22.67934 | 81        | 79        | 48        | 79        | 0         |\n",
       "\n"
      ],
      "text/plain": [
       "  weekend num.child distance  rides games wait clean class\n",
       "1 1       0         114.64826 87    73    60   89    0    \n",
       "2 1       2          27.01410 87    78    76   87    1    \n",
       "3 0       1          63.30098 85    80    70   88    1    \n",
       "4 1       0          25.90993 88    72    66   89    0    \n",
       "5 0       4          54.71831 84    87    74   87    1    \n",
       "6 0       5          22.67934 81    79    48   79    0    "
      ]
     },
     "metadata": {},
     "output_type": "display_data"
    }
   ],
   "source": [
    "library(dplyr)\n",
    "df<-df %>% select(-overall)\n",
    "dim(df)\n",
    "head(df)"
   ]
  },
  {
   "cell_type": "code",
   "execution_count": 6,
   "metadata": {},
   "outputs": [
    {
     "data": {
      "text/plain": [
       "\n",
       "  0   1 \n",
       "262 238 "
      ]
     },
     "metadata": {},
     "output_type": "display_data"
    },
    {
     "data": {
      "image/png": "[encoded data removed]",
      "text/plain": [
       "plot without title"
      ]
     },
     "metadata": {},
     "output_type": "display_data"
    }
   ],
   "source": [
    "(tbl<-table(df$class))\n",
    "barplot(tbl,beside=T,legend=T,col=rainbow(2)) #카운트 플롯"
   ]
  },
  {
   "cell_type": "code",
   "execution_count": 7,
   "metadata": {},
   "outputs": [
    {
     "name": "stderr",
     "output_type": "stream",
     "text": [
      "Warning message:\n",
      "\"package 'ROSE' was built under R version 3.6.2\"Loaded ROSE 0.0-3\n",
      "\n"
     ]
    },
    {
     "data": {
      "text/plain": [
       "\n",
       "  0   1 \n",
       "238 238 "
      ]
     },
     "metadata": {},
     "output_type": "display_data"
    }
   ],
   "source": [
    "library(ROSE)\n",
    "df_samp<-ovun.sample(class~ . , data=df, seed=1, method='under',\n",
    "                    N=238*2)$data\n",
    "(tbl<-table(df_samp$class))"
   ]
  },
  {
   "cell_type": "code",
   "execution_count": 11,
   "metadata": {},
   "outputs": [],
   "source": [
    "library(caret)\n",
    "set.seed(123)\n",
    "idx_train<-createDataPartition(y=df$class, p=0.8,list=F)\n",
    "train<-df[idx_train,]\n",
    "X_train<-train[,-8]\n",
    "y_train<-train[,8]\n",
    "test<-df_samp[-idx_train,]\n",
    "X_test<-test[,8]\n",
    "y_test<-test[,8]"
   ]
  },
  {
   "cell_type": "code",
   "execution_count": 14,
   "metadata": {},
   "outputs": [
    {
     "data": {
      "text/html": [
       "<table>\n",
       "<thead><tr><th scope=col>k</th><th scope=col>accuracy</th></tr></thead>\n",
       "<tbody>\n",
       "\t<tr><td> 1       </td><td>0.9139785</td></tr>\n",
       "\t<tr><td> 2       </td><td>0.8172043</td></tr>\n",
       "\t<tr><td> 3       </td><td>0.8064516</td></tr>\n",
       "\t<tr><td> 4       </td><td>0.8172043</td></tr>\n",
       "\t<tr><td> 5       </td><td>0.7526882</td></tr>\n",
       "\t<tr><td> 6       </td><td>0.7419355</td></tr>\n",
       "\t<tr><td> 7       </td><td>0.7419355</td></tr>\n",
       "\t<tr><td> 8       </td><td>0.7419355</td></tr>\n",
       "\t<tr><td> 9       </td><td>0.7526882</td></tr>\n",
       "\t<tr><td>10       </td><td>0.7526882</td></tr>\n",
       "</tbody>\n",
       "</table>\n"
      ],
      "text/latex": [
       "\\begin{tabular}{r|ll}\n",
       " k & accuracy\\\\\n",
       "\\hline\n",
       "\t  1        & 0.9139785\\\\\n",
       "\t  2        & 0.8172043\\\\\n",
       "\t  3        & 0.8064516\\\\\n",
       "\t  4        & 0.8172043\\\\\n",
       "\t  5        & 0.7526882\\\\\n",
       "\t  6        & 0.7419355\\\\\n",
       "\t  7        & 0.7419355\\\\\n",
       "\t  8        & 0.7419355\\\\\n",
       "\t  9        & 0.7526882\\\\\n",
       "\t 10        & 0.7526882\\\\\n",
       "\\end{tabular}\n"
      ],
      "text/markdown": [
       "\n",
       "| k | accuracy |\n",
       "|---|---|\n",
       "|  1        | 0.9139785 |\n",
       "|  2        | 0.8172043 |\n",
       "|  3        | 0.8064516 |\n",
       "|  4        | 0.8172043 |\n",
       "|  5        | 0.7526882 |\n",
       "|  6        | 0.7419355 |\n",
       "|  7        | 0.7419355 |\n",
       "|  8        | 0.7419355 |\n",
       "|  9        | 0.7526882 |\n",
       "| 10        | 0.7526882 |\n",
       "\n"
      ],
      "text/plain": [
       "   k  accuracy \n",
       "1   1 0.9139785\n",
       "2   2 0.8172043\n",
       "3   3 0.8064516\n",
       "4   4 0.8172043\n",
       "5   5 0.7526882\n",
       "6   6 0.7419355\n",
       "7   7 0.7419355\n",
       "8   8 0.7419355\n",
       "9   9 0.7526882\n",
       "10 10 0.7526882"
      ]
     },
     "metadata": {},
     "output_type": "display_data"
    },
    {
     "data": {
      "text/html": [
       "<table>\n",
       "<thead><tr><th scope=col>k</th><th scope=col>accuracy</th></tr></thead>\n",
       "<tbody>\n",
       "\t<tr><td>1        </td><td>0.9139785</td></tr>\n",
       "</tbody>\n",
       "</table>\n"
      ],
      "text/latex": [
       "\\begin{tabular}{r|ll}\n",
       " k & accuracy\\\\\n",
       "\\hline\n",
       "\t 1         & 0.9139785\\\\\n",
       "\\end{tabular}\n"
      ],
      "text/markdown": [
       "\n",
       "| k | accuracy |\n",
       "|---|---|\n",
       "| 1         | 0.9139785 |\n",
       "\n"
      ],
      "text/plain": [
       "  k accuracy \n",
       "1 1 0.9139785"
      ]
     },
     "metadata": {},
     "output_type": "display_data"
    },
    {
     "data": {
      "image/png": "[encoded data removed]",
      "text/plain": [
       "Plot with title \"최적의 k값\""
      ]
     },
     "metadata": {},
     "output_type": "display_data"
    }
   ],
   "source": [
    "library(class)\n",
    "acc<-NULL\n",
    "for ( i in c(1:10)){\n",
    "    set.seed(123)\n",
    "    pred=knn(train=train,test=test,cl=y_train,k=i)\n",
    "    acc<-c(acc,mean(y_test == pred))\n",
    "}\n",
    "df<-data.frame(k=c(1:10), accuracy=acc)\n",
    "plot(accuracy ~ k , data=df, type='o',pch=20, main='최적의 k값',\n",
    "    ylim=c(0,1),col='red')\n",
    "with(df,text(accuracy ~ k, labels=c(1:10),pos=1,cex=0.7))\n",
    "df\n",
    "n<-min(df[df$accuracy %in% max(acc),'k'])\n",
    "df[n,]"
   ]
  },
  {
   "cell_type": "code",
   "execution_count": 13,
   "metadata": {},
   "outputs": [
    {
     "data": {
      "text/plain": [
       "      pred\n",
       "y_test  0  1\n",
       "     0 44  3\n",
       "     1  5 41"
      ]
     },
     "metadata": {},
     "output_type": "display_data"
    },
    {
     "data": {
      "text/html": [
       "0.913978494623656"
      ],
      "text/latex": [
       "0.913978494623656"
      ],
      "text/markdown": [
       "0.913978494623656"
      ],
      "text/plain": [
       "[1] 0.9139785"
      ]
     },
     "metadata": {},
     "output_type": "display_data"
    }
   ],
   "source": [
    "library(class)\n",
    "set.seed(123)\n",
    "pred<-knn(train=train, test=test, cl=y_train, k=n)\n",
    "table(y_test,pred)\n",
    "mean(y_test==pred)"
   ]
  },
  {
   "cell_type": "code",
   "execution_count": null,
   "metadata": {},
   "outputs": [],
   "source": []
  }
 ],
 "metadata": {
  "kernelspec": {
   "display_name": "R",
   "language": "R",
   "name": "ir"
  },
  "language_info": {
   "codemirror_mode": "r",
   "file_extension": ".r",
   "mimetype": "text/x-r-source",
   "name": "R",
   "pygments_lexer": "r",
   "version": "3.6.1"
  }
 },
 "nbformat": 4,
 "nbformat_minor": 2
}
