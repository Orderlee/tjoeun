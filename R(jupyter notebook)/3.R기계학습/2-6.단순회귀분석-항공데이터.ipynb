{
 "cells": [
  {
   "cell_type": "code",
   "execution_count": 1,
   "metadata": {},
   "outputs": [
    {
     "data": {
      "text/html": [
       "<table>\n",
       "<thead><tr><th scope=col>Year</th><th scope=col>Month</th><th scope=col>DayofMonth</th><th scope=col>DayOfWeek</th><th scope=col>DepTime</th><th scope=col>CRSDepTime</th><th scope=col>ArrTime</th><th scope=col>CRSArrTime</th><th scope=col>UniqueCarrier</th><th scope=col>FlightNum</th><th scope=col>...</th><th scope=col>TaxiIn</th><th scope=col>TaxiOut</th><th scope=col>Cancelled</th><th scope=col>CancellationCode</th><th scope=col>Diverted</th><th scope=col>CarrierDelay</th><th scope=col>WeatherDelay</th><th scope=col>NASDelay</th><th scope=col>SecurityDelay</th><th scope=col>LateAircraftDelay</th></tr></thead>\n",
       "<tbody>\n",
       "\t<tr><td>2006</td><td>1   </td><td>11  </td><td>3   </td><td> 743</td><td> 745</td><td>1024</td><td>1018</td><td>US  </td><td>343 </td><td>... </td><td>45  </td><td>13  </td><td>0   </td><td>    </td><td>0   </td><td>0   </td><td>0   </td><td>0   </td><td>0   </td><td>0   </td></tr>\n",
       "\t<tr><td>2006</td><td>1   </td><td>11  </td><td>3   </td><td>1053</td><td>1053</td><td>1313</td><td>1318</td><td>US  </td><td>613 </td><td>... </td><td>27  </td><td>19  </td><td>0   </td><td>    </td><td>0   </td><td>0   </td><td>0   </td><td>0   </td><td>0   </td><td>0   </td></tr>\n",
       "\t<tr><td>2006</td><td>1   </td><td>11  </td><td>3   </td><td>1915</td><td>1915</td><td>2110</td><td>2133</td><td>US  </td><td>617 </td><td>... </td><td> 4  </td><td>11  </td><td>0   </td><td>    </td><td>0   </td><td>0   </td><td>0   </td><td>0   </td><td>0   </td><td>0   </td></tr>\n",
       "\t<tr><td>2006</td><td>1   </td><td>11  </td><td>3   </td><td>1753</td><td>1755</td><td>1925</td><td>1933</td><td>US  </td><td>300 </td><td>... </td><td>16  </td><td>10  </td><td>0   </td><td>    </td><td>0   </td><td>0   </td><td>0   </td><td>0   </td><td>0   </td><td>0   </td></tr>\n",
       "\t<tr><td>2006</td><td>1   </td><td>11  </td><td>3   </td><td> 824</td><td> 832</td><td>1015</td><td>1015</td><td>US  </td><td>765 </td><td>... </td><td>27  </td><td>12  </td><td>0   </td><td>    </td><td>0   </td><td>0   </td><td>0   </td><td>0   </td><td>0   </td><td>0   </td></tr>\n",
       "\t<tr><td>2006</td><td>1   </td><td>11  </td><td>3   </td><td> 627</td><td> 630</td><td> 834</td><td> 832</td><td>US  </td><td>295 </td><td>... </td><td> 6  </td><td>13  </td><td>0   </td><td>    </td><td>0   </td><td>0   </td><td>0   </td><td>0   </td><td>0   </td><td>0   </td></tr>\n",
       "</tbody>\n",
       "</table>\n"
      ],
      "text/latex": [
       "\\begin{tabular}{r|lllllllllllllllllllllllllllll}\n",
       " Year & Month & DayofMonth & DayOfWeek & DepTime & CRSDepTime & ArrTime & CRSArrTime & UniqueCarrier & FlightNum & ... & TaxiIn & TaxiOut & Cancelled & CancellationCode & Diverted & CarrierDelay & WeatherDelay & NASDelay & SecurityDelay & LateAircraftDelay\\\\\n",
       "\\hline\n",
       "\t 2006 & 1    & 11   & 3    &  743 &  745 & 1024 & 1018 & US   & 343  & ...  & 45   & 13   & 0    &      & 0    & 0    & 0    & 0    & 0    & 0   \\\\\n",
       "\t 2006 & 1    & 11   & 3    & 1053 & 1053 & 1313 & 1318 & US   & 613  & ...  & 27   & 19   & 0    &      & 0    & 0    & 0    & 0    & 0    & 0   \\\\\n",
       "\t 2006 & 1    & 11   & 3    & 1915 & 1915 & 2110 & 2133 & US   & 617  & ...  &  4   & 11   & 0    &      & 0    & 0    & 0    & 0    & 0    & 0   \\\\\n",
       "\t 2006 & 1    & 11   & 3    & 1753 & 1755 & 1925 & 1933 & US   & 300  & ...  & 16   & 10   & 0    &      & 0    & 0    & 0    & 0    & 0    & 0   \\\\\n",
       "\t 2006 & 1    & 11   & 3    &  824 &  832 & 1015 & 1015 & US   & 765  & ...  & 27   & 12   & 0    &      & 0    & 0    & 0    & 0    & 0    & 0   \\\\\n",
       "\t 2006 & 1    & 11   & 3    &  627 &  630 &  834 &  832 & US   & 295  & ...  &  6   & 13   & 0    &      & 0    & 0    & 0    & 0    & 0    & 0   \\\\\n",
       "\\end{tabular}\n"
      ],
      "text/markdown": [
       "\n",
       "| Year | Month | DayofMonth | DayOfWeek | DepTime | CRSDepTime | ArrTime | CRSArrTime | UniqueCarrier | FlightNum | ... | TaxiIn | TaxiOut | Cancelled | CancellationCode | Diverted | CarrierDelay | WeatherDelay | NASDelay | SecurityDelay | LateAircraftDelay |\n",
       "|---|---|---|---|---|---|---|---|---|---|---|---|---|---|---|---|---|---|---|---|---|\n",
       "| 2006 | 1    | 11   | 3    |  743 |  745 | 1024 | 1018 | US   | 343  | ...  | 45   | 13   | 0    |      | 0    | 0    | 0    | 0    | 0    | 0    |\n",
       "| 2006 | 1    | 11   | 3    | 1053 | 1053 | 1313 | 1318 | US   | 613  | ...  | 27   | 19   | 0    |      | 0    | 0    | 0    | 0    | 0    | 0    |\n",
       "| 2006 | 1    | 11   | 3    | 1915 | 1915 | 2110 | 2133 | US   | 617  | ...  |  4   | 11   | 0    |      | 0    | 0    | 0    | 0    | 0    | 0    |\n",
       "| 2006 | 1    | 11   | 3    | 1753 | 1755 | 1925 | 1933 | US   | 300  | ...  | 16   | 10   | 0    |      | 0    | 0    | 0    | 0    | 0    | 0    |\n",
       "| 2006 | 1    | 11   | 3    |  824 |  832 | 1015 | 1015 | US   | 765  | ...  | 27   | 12   | 0    |      | 0    | 0    | 0    | 0    | 0    | 0    |\n",
       "| 2006 | 1    | 11   | 3    |  627 |  630 |  834 |  832 | US   | 295  | ...  |  6   | 13   | 0    |      | 0    | 0    | 0    | 0    | 0    | 0    |\n",
       "\n"
      ],
      "text/plain": [
       "  Year Month DayofMonth DayOfWeek DepTime CRSDepTime ArrTime CRSArrTime\n",
       "1 2006 1     11         3          743     745       1024    1018      \n",
       "2 2006 1     11         3         1053    1053       1313    1318      \n",
       "3 2006 1     11         3         1915    1915       2110    2133      \n",
       "4 2006 1     11         3         1753    1755       1925    1933      \n",
       "5 2006 1     11         3          824     832       1015    1015      \n",
       "6 2006 1     11         3          627     630        834     832      \n",
       "  UniqueCarrier FlightNum ... TaxiIn TaxiOut Cancelled CancellationCode\n",
       "1 US            343       ... 45     13      0                         \n",
       "2 US            613       ... 27     19      0                         \n",
       "3 US            617       ...  4     11      0                         \n",
       "4 US            300       ... 16     10      0                         \n",
       "5 US            765       ... 27     12      0                         \n",
       "6 US            295       ...  6     13      0                         \n",
       "  Diverted CarrierDelay WeatherDelay NASDelay SecurityDelay LateAircraftDelay\n",
       "1 0        0            0            0        0             0                \n",
       "2 0        0            0            0        0             0                \n",
       "3 0        0            0            0        0             0                \n",
       "4 0        0            0            0        0             0                \n",
       "5 0        0            0            0        0             0                \n",
       "6 0        0            0            0        0             0                "
      ]
     },
     "metadata": {},
     "output_type": "display_data"
    },
    {
     "data": {
      "text/html": [
       "<table>\n",
       "<thead><tr><th></th><th scope=col>Year</th><th scope=col>Month</th><th scope=col>DayofMonth</th><th scope=col>DayOfWeek</th><th scope=col>DepTime</th><th scope=col>CRSDepTime</th><th scope=col>ArrTime</th><th scope=col>CRSArrTime</th><th scope=col>UniqueCarrier</th><th scope=col>FlightNum</th><th scope=col>...</th><th scope=col>TaxiIn</th><th scope=col>TaxiOut</th><th scope=col>Cancelled</th><th scope=col>CancellationCode</th><th scope=col>Diverted</th><th scope=col>CarrierDelay</th><th scope=col>WeatherDelay</th><th scope=col>NASDelay</th><th scope=col>SecurityDelay</th><th scope=col>LateAircraftDelay</th></tr></thead>\n",
       "<tbody>\n",
       "\t<tr><th scope=row>7141917</th><td>2006</td><td>12  </td><td>29  </td><td>5   </td><td>1151</td><td>1156</td><td>1706</td><td>1659</td><td>DL  </td><td>1674</td><td>... </td><td>25  </td><td>15  </td><td>0   </td><td>    </td><td>0   </td><td> 0  </td><td>0   </td><td> 0  </td><td>0   </td><td>0   </td></tr>\n",
       "\t<tr><th scope=row>7141918</th><td>2006</td><td>12  </td><td>29  </td><td>5   </td><td>1246</td><td>1249</td><td>1452</td><td>1459</td><td>DL  </td><td>1675</td><td>... </td><td> 6  </td><td>12  </td><td>0   </td><td>    </td><td>0   </td><td> 0  </td><td>0   </td><td> 0  </td><td>0   </td><td>0   </td></tr>\n",
       "\t<tr><th scope=row>7141919</th><td>2006</td><td>12  </td><td>29  </td><td>5   </td><td>1225</td><td>1155</td><td>2033</td><td>1931</td><td>DL  </td><td>1676</td><td>... </td><td>12  </td><td>35  </td><td>0   </td><td>    </td><td>0   </td><td>30  </td><td>0   </td><td>32  </td><td>0   </td><td>0   </td></tr>\n",
       "\t<tr><th scope=row>7141920</th><td>2006</td><td>12  </td><td>29  </td><td>5   </td><td>2118</td><td>2115</td><td>2254</td><td>2241</td><td>DL  </td><td>1676</td><td>... </td><td> 9  </td><td>27  </td><td>0   </td><td>    </td><td>0   </td><td> 0  </td><td>0   </td><td> 0  </td><td>0   </td><td>0   </td></tr>\n",
       "\t<tr><th scope=row>7141921</th><td>2006</td><td>12  </td><td>29  </td><td>5   </td><td>2122</td><td>2127</td><td>2209</td><td>2223</td><td>DL  </td><td>1677</td><td>... </td><td> 5  </td><td>21  </td><td>0   </td><td>    </td><td>0   </td><td> 0  </td><td>0   </td><td> 0  </td><td>0   </td><td>0   </td></tr>\n",
       "\t<tr><th scope=row>7141922</th><td>2006</td><td>12  </td><td>29  </td><td>5   </td><td>2042</td><td>2045</td><td>2213</td><td>2235</td><td>DL  </td><td>1678</td><td>... </td><td> 5  </td><td>15  </td><td>0   </td><td>    </td><td>0   </td><td> 0  </td><td>0   </td><td> 0  </td><td>0   </td><td>0   </td></tr>\n",
       "</tbody>\n",
       "</table>\n"
      ],
      "text/latex": [
       "\\begin{tabular}{r|lllllllllllllllllllllllllllll}\n",
       "  & Year & Month & DayofMonth & DayOfWeek & DepTime & CRSDepTime & ArrTime & CRSArrTime & UniqueCarrier & FlightNum & ... & TaxiIn & TaxiOut & Cancelled & CancellationCode & Diverted & CarrierDelay & WeatherDelay & NASDelay & SecurityDelay & LateAircraftDelay\\\\\n",
       "\\hline\n",
       "\t7141917 & 2006 & 12   & 29   & 5    & 1151 & 1156 & 1706 & 1659 & DL   & 1674 & ...  & 25   & 15   & 0    &      & 0    &  0   & 0    &  0   & 0    & 0   \\\\\n",
       "\t7141918 & 2006 & 12   & 29   & 5    & 1246 & 1249 & 1452 & 1459 & DL   & 1675 & ...  &  6   & 12   & 0    &      & 0    &  0   & 0    &  0   & 0    & 0   \\\\\n",
       "\t7141919 & 2006 & 12   & 29   & 5    & 1225 & 1155 & 2033 & 1931 & DL   & 1676 & ...  & 12   & 35   & 0    &      & 0    & 30   & 0    & 32   & 0    & 0   \\\\\n",
       "\t7141920 & 2006 & 12   & 29   & 5    & 2118 & 2115 & 2254 & 2241 & DL   & 1676 & ...  &  9   & 27   & 0    &      & 0    &  0   & 0    &  0   & 0    & 0   \\\\\n",
       "\t7141921 & 2006 & 12   & 29   & 5    & 2122 & 2127 & 2209 & 2223 & DL   & 1677 & ...  &  5   & 21   & 0    &      & 0    &  0   & 0    &  0   & 0    & 0   \\\\\n",
       "\t7141922 & 2006 & 12   & 29   & 5    & 2042 & 2045 & 2213 & 2235 & DL   & 1678 & ...  &  5   & 15   & 0    &      & 0    &  0   & 0    &  0   & 0    & 0   \\\\\n",
       "\\end{tabular}\n"
      ],
      "text/markdown": [
       "\n",
       "| <!--/--> | Year | Month | DayofMonth | DayOfWeek | DepTime | CRSDepTime | ArrTime | CRSArrTime | UniqueCarrier | FlightNum | ... | TaxiIn | TaxiOut | Cancelled | CancellationCode | Diverted | CarrierDelay | WeatherDelay | NASDelay | SecurityDelay | LateAircraftDelay |\n",
       "|---|---|---|---|---|---|---|---|---|---|---|---|---|---|---|---|---|---|---|---|---|---|\n",
       "| 7141917 | 2006 | 12   | 29   | 5    | 1151 | 1156 | 1706 | 1659 | DL   | 1674 | ...  | 25   | 15   | 0    |      | 0    |  0   | 0    |  0   | 0    | 0    |\n",
       "| 7141918 | 2006 | 12   | 29   | 5    | 1246 | 1249 | 1452 | 1459 | DL   | 1675 | ...  |  6   | 12   | 0    |      | 0    |  0   | 0    |  0   | 0    | 0    |\n",
       "| 7141919 | 2006 | 12   | 29   | 5    | 1225 | 1155 | 2033 | 1931 | DL   | 1676 | ...  | 12   | 35   | 0    |      | 0    | 30   | 0    | 32   | 0    | 0    |\n",
       "| 7141920 | 2006 | 12   | 29   | 5    | 2118 | 2115 | 2254 | 2241 | DL   | 1676 | ...  |  9   | 27   | 0    |      | 0    |  0   | 0    |  0   | 0    | 0    |\n",
       "| 7141921 | 2006 | 12   | 29   | 5    | 2122 | 2127 | 2209 | 2223 | DL   | 1677 | ...  |  5   | 21   | 0    |      | 0    |  0   | 0    |  0   | 0    | 0    |\n",
       "| 7141922 | 2006 | 12   | 29   | 5    | 2042 | 2045 | 2213 | 2235 | DL   | 1678 | ...  |  5   | 15   | 0    |      | 0    |  0   | 0    |  0   | 0    | 0    |\n",
       "\n"
      ],
      "text/plain": [
       "        Year Month DayofMonth DayOfWeek DepTime CRSDepTime ArrTime CRSArrTime\n",
       "7141917 2006 12    29         5         1151    1156       1706    1659      \n",
       "7141918 2006 12    29         5         1246    1249       1452    1459      \n",
       "7141919 2006 12    29         5         1225    1155       2033    1931      \n",
       "7141920 2006 12    29         5         2118    2115       2254    2241      \n",
       "7141921 2006 12    29         5         2122    2127       2209    2223      \n",
       "7141922 2006 12    29         5         2042    2045       2213    2235      \n",
       "        UniqueCarrier FlightNum ... TaxiIn TaxiOut Cancelled CancellationCode\n",
       "7141917 DL            1674      ... 25     15      0                         \n",
       "7141918 DL            1675      ...  6     12      0                         \n",
       "7141919 DL            1676      ... 12     35      0                         \n",
       "7141920 DL            1676      ...  9     27      0                         \n",
       "7141921 DL            1677      ...  5     21      0                         \n",
       "7141922 DL            1678      ...  5     15      0                         \n",
       "        Diverted CarrierDelay WeatherDelay NASDelay SecurityDelay\n",
       "7141917 0         0           0             0       0            \n",
       "7141918 0         0           0             0       0            \n",
       "7141919 0        30           0            32       0            \n",
       "7141920 0         0           0             0       0            \n",
       "7141921 0         0           0             0       0            \n",
       "7141922 0         0           0             0       0            \n",
       "        LateAircraftDelay\n",
       "7141917 0                \n",
       "7141918 0                \n",
       "7141919 0                \n",
       "7141920 0                \n",
       "7141921 0                \n",
       "7141922 0                "
      ]
     },
     "metadata": {},
     "output_type": "display_data"
    }
   ],
   "source": [
    "df<-read.csv('d:/data/ontime/2006.csv')\n",
    "head(df)\n",
    "tail(df)"
   ]
  },
  {
   "cell_type": "code",
   "execution_count": null,
   "metadata": {},
   "outputs": [],
   "source": [
    "df<-df[,c('Distance','DepDelay','ArrDelay')]\n",
    "head(df)"
   ]
  },
  {
   "cell_type": "code",
   "execution_count": 2,
   "metadata": {},
   "outputs": [
    {
     "name": "stderr",
     "output_type": "stream",
     "text": [
      "Warning message:\n",
      "\"package 'dplyr' was built under R version 3.6.2\"\n",
      "Attaching package: 'dplyr'\n",
      "\n",
      "The following objects are masked from 'package:stats':\n",
      "\n",
      "    filter, lag\n",
      "\n",
      "The following objects are masked from 'package:base':\n",
      "\n",
      "    intersect, setdiff, setequal, union\n",
      "\n"
     ]
    }
   ],
   "source": [
    "library(dplyr)\n",
    "#필드 선택 함수\n",
    "df<-df %>% select(Distance,DepDelay,ArrDelay)"
   ]
  },
  {
   "cell_type": "code",
   "execution_count": 3,
   "metadata": {},
   "outputs": [
    {
     "data": {
      "text/html": [
       "<ol class=list-inline>\n",
       "\t<li>7141922</li>\n",
       "\t<li>3</li>\n",
       "</ol>\n"
      ],
      "text/latex": [
       "\\begin{enumerate*}\n",
       "\\item 7141922\n",
       "\\item 3\n",
       "\\end{enumerate*}\n"
      ],
      "text/markdown": [
       "1. 7141922\n",
       "2. 3\n",
       "\n",
       "\n"
      ],
      "text/plain": [
       "[1] 7141922       3"
      ]
     },
     "metadata": {},
     "output_type": "display_data"
    }
   ],
   "source": [
    "dim(df)"
   ]
  },
  {
   "cell_type": "code",
   "execution_count": null,
   "metadata": {},
   "outputs": [],
   "source": [
    "install.packages('Hmisc')"
   ]
  },
  {
   "cell_type": "code",
   "execution_count": 4,
   "metadata": {},
   "outputs": [
    {
     "name": "stderr",
     "output_type": "stream",
     "text": [
      "Warning message:\n",
      "\"package 'Hmisc' was built under R version 3.6.2\"Loading required package: lattice\n",
      "Warning message:\n",
      "\"package 'lattice' was built under R version 3.6.2\"Loading required package: survival\n",
      "Loading required package: Formula\n",
      "Loading required package: ggplot2\n",
      "Warning message:\n",
      "\"package 'ggplot2' was built under R version 3.6.2\"\n",
      "Attaching package: 'Hmisc'\n",
      "\n",
      "The following objects are masked from 'package:dplyr':\n",
      "\n",
      "    src, summarize\n",
      "\n",
      "The following objects are masked from 'package:base':\n",
      "\n",
      "    format.pval, units\n",
      "\n"
     ]
    },
    {
     "data": {
      "text/plain": [
       "df \n",
       "\n",
       " 3  Variables      7141922  Observations\n",
       "--------------------------------------------------------------------------------\n",
       "Distance \n",
       "       n  missing distinct     Info     Mean      Gmd      .05      .10 \n",
       " 7141922        0     1395        1      728      590      142      197 \n",
       "     .25      .50      .75      .90      .95 \n",
       "     316      574      956     1541     1979 \n",
       "\n",
       "lowest :   11   16   21   24   25, highest: 4243 4431 4433 4502 4962\n",
       "--------------------------------------------------------------------------------\n",
       "DepDelay \n",
       "       n  missing distinct     Info     Mean      Gmd      .05      .10 \n",
       " 7019988   121934     1178    0.997    10.09    23.74       -9       -7 \n",
       "     .25      .50      .75      .90      .95 \n",
       "      -4        0       10       37       67 \n",
       "\n",
       "lowest : -1200 -1199 -1197 -1196 -1194, highest:  1462  1476  1648  1666  1752\n",
       "--------------------------------------------------------------------------------\n",
       "ArrDelay \n",
       "       n  missing distinct     Info     Mean      Gmd      .05      .10 \n",
       " 7003802   138120     1136        1    8.683    29.85      -20      -16 \n",
       "     .25      .50      .75      .90      .95 \n",
       "      -9       -1       13       41       72 \n",
       "\n",
       "lowest : -592 -590 -579 -575 -568, highest: 1445 1446 1642 1691 1779\n",
       "--------------------------------------------------------------------------------"
      ]
     },
     "metadata": {},
     "output_type": "display_data"
    }
   ],
   "source": [
    "library(Hmisc)\n",
    "describe(df) #데이터프레임에 대한 설명"
   ]
  },
  {
   "cell_type": "code",
   "execution_count": 5,
   "metadata": {},
   "outputs": [
    {
     "data": {
      "text/html": [
       "<table>\n",
       "<thead><tr><th></th><th scope=col>Distance</th><th scope=col>DepDelay</th><th scope=col>ArrDelay</th></tr></thead>\n",
       "<tbody>\n",
       "\t<tr><th scope=row>7141917</th><td>1282</td><td>-5  </td><td>  7 </td></tr>\n",
       "\t<tr><th scope=row>7141918</th><td> 745</td><td>-3  </td><td> -7 </td></tr>\n",
       "\t<tr><th scope=row>7141919</th><td>2182</td><td>30  </td><td> 62 </td></tr>\n",
       "\t<tr><th scope=row>7141920</th><td> 403</td><td> 3  </td><td> 13 </td></tr>\n",
       "\t<tr><th scope=row>7141921</th><td> 585</td><td>-5  </td><td>-14 </td></tr>\n",
       "\t<tr><th scope=row>7141922</th><td>1449</td><td>-3  </td><td>-22 </td></tr>\n",
       "</tbody>\n",
       "</table>\n"
      ],
      "text/latex": [
       "\\begin{tabular}{r|lll}\n",
       "  & Distance & DepDelay & ArrDelay\\\\\n",
       "\\hline\n",
       "\t7141917 & 1282 & -5   &   7 \\\\\n",
       "\t7141918 &  745 & -3   &  -7 \\\\\n",
       "\t7141919 & 2182 & 30   &  62 \\\\\n",
       "\t7141920 &  403 &  3   &  13 \\\\\n",
       "\t7141921 &  585 & -5   & -14 \\\\\n",
       "\t7141922 & 1449 & -3   & -22 \\\\\n",
       "\\end{tabular}\n"
      ],
      "text/markdown": [
       "\n",
       "| <!--/--> | Distance | DepDelay | ArrDelay |\n",
       "|---|---|---|---|\n",
       "| 7141917 | 1282 | -5   |   7  |\n",
       "| 7141918 |  745 | -3   |  -7  |\n",
       "| 7141919 | 2182 | 30   |  62  |\n",
       "| 7141920 |  403 |  3   |  13  |\n",
       "| 7141921 |  585 | -5   | -14  |\n",
       "| 7141922 | 1449 | -3   | -22  |\n",
       "\n"
      ],
      "text/plain": [
       "        Distance DepDelay ArrDelay\n",
       "7141917 1282     -5         7     \n",
       "7141918  745     -3        -7     \n",
       "7141919 2182     30        62     \n",
       "7141920  403      3        13     \n",
       "7141921  585     -5       -14     \n",
       "7141922 1449     -3       -22     "
      ]
     },
     "metadata": {},
     "output_type": "display_data"
    }
   ],
   "source": [
    "df<-na.omit(df) #결측값이 있는 행들을 제거\n",
    "tail(df)"
   ]
  },
  {
   "cell_type": "code",
   "execution_count": 6,
   "metadata": {},
   "outputs": [
    {
     "data": {
      "text/html": [
       "<ol class=list-inline>\n",
       "\t<li>7003802</li>\n",
       "\t<li>3</li>\n",
       "</ol>\n"
      ],
      "text/latex": [
       "\\begin{enumerate*}\n",
       "\\item 7003802\n",
       "\\item 3\n",
       "\\end{enumerate*}\n"
      ],
      "text/markdown": [
       "1. 7003802\n",
       "2. 3\n",
       "\n",
       "\n"
      ],
      "text/plain": [
       "[1] 7003802       3"
      ]
     },
     "metadata": {},
     "output_type": "display_data"
    }
   ],
   "source": [
    "dim(df)"
   ]
  },
  {
   "cell_type": "code",
   "execution_count": 7,
   "metadata": {},
   "outputs": [
    {
     "data": {
      "text/html": [
       "<ol class=list-inline>\n",
       "\t<li>1587</li>\n",
       "\t<li>1587</li>\n",
       "\t<li>1587</li>\n",
       "\t<li>872</li>\n",
       "\t<li>872</li>\n",
       "\t<li>644</li>\n",
       "</ol>\n"
      ],
      "text/latex": [
       "\\begin{enumerate*}\n",
       "\\item 1587\n",
       "\\item 1587\n",
       "\\item 1587\n",
       "\\item 872\n",
       "\\item 872\n",
       "\\item 644\n",
       "\\end{enumerate*}\n"
      ],
      "text/markdown": [
       "1. 1587\n",
       "2. 1587\n",
       "3. 1587\n",
       "4. 872\n",
       "5. 872\n",
       "6. 644\n",
       "\n",
       "\n"
      ],
      "text/plain": [
       "[1] 1587 1587 1587  872  872  644"
      ]
     },
     "metadata": {},
     "output_type": "display_data"
    },
    {
     "data": {
      "text/html": [
       "<ol class=list-inline>\n",
       "\t<li>-2</li>\n",
       "\t<li>0</li>\n",
       "\t<li>0</li>\n",
       "\t<li>-2</li>\n",
       "\t<li>-8</li>\n",
       "\t<li>-3</li>\n",
       "</ol>\n"
      ],
      "text/latex": [
       "\\begin{enumerate*}\n",
       "\\item -2\n",
       "\\item 0\n",
       "\\item 0\n",
       "\\item -2\n",
       "\\item -8\n",
       "\\item -3\n",
       "\\end{enumerate*}\n"
      ],
      "text/markdown": [
       "1. -2\n",
       "2. 0\n",
       "3. 0\n",
       "4. -2\n",
       "5. -8\n",
       "6. -3\n",
       "\n",
       "\n"
      ],
      "text/plain": [
       "[1] -2  0  0 -2 -8 -3"
      ]
     },
     "metadata": {},
     "output_type": "display_data"
    }
   ],
   "source": [
    "X<-df$Distance #독립변수 (운항거리)\n",
    "y<-df$DepDelay #종속변수(출발지연시간)\n",
    "head(X)\n",
    "head(y)"
   ]
  },
  {
   "cell_type": "code",
   "execution_count": 8,
   "metadata": {},
   "outputs": [
    {
     "data": {
      "text/html": [
       "0.00461414404828566"
      ],
      "text/latex": [
       "0.00461414404828566"
      ],
      "text/markdown": [
       "0.00461414404828566"
      ],
      "text/plain": [
       "[1] 0.004614144"
      ]
     },
     "metadata": {},
     "output_type": "display_data"
    }
   ],
   "source": [
    "cor(X,y)"
   ]
  },
  {
   "cell_type": "code",
   "execution_count": 9,
   "metadata": {},
   "outputs": [
    {
     "data": {
      "text/plain": [
       "\n",
       "Call:\n",
       "lm(formula = y ~ X)\n",
       "\n",
       "Coefficients:\n",
       "(Intercept)            X  \n",
       "  9.8634623    0.0002678  \n"
      ]
     },
     "metadata": {},
     "output_type": "display_data"
    }
   ],
   "source": [
    "(model<-lm(y~X))"
   ]
  },
  {
   "cell_type": "code",
   "execution_count": 10,
   "metadata": {},
   "outputs": [
    {
     "data": {
      "text/plain": [
       "\n",
       "Call:\n",
       "lm(formula = y ~ X)\n",
       "\n",
       "Residuals:\n",
       "     Min       1Q   Median       3Q      Max \n",
       "-1210.01   -14.01   -10.13    -0.89  1742.07 \n",
       "\n",
       "Coefficients:\n",
       "             Estimate Std. Error t value Pr(>|t|)    \n",
       "(Intercept) 9.863e+00  2.040e-02  483.61   <2e-16 ***\n",
       "X           2.678e-04  2.193e-05   12.21   <2e-16 ***\n",
       "---\n",
       "Signif. codes:  0 '***' 0.001 '**' 0.01 '*' 0.05 '.' 0.1 ' ' 1\n",
       "\n",
       "Residual standard error: 33.41 on 7003800 degrees of freedom\n",
       "Multiple R-squared:  2.129e-05,\tAdjusted R-squared:  2.115e-05 \n",
       "F-statistic: 149.1 on 1 and 7003800 DF,  p-value: < 2.2e-16\n"
      ]
     },
     "metadata": {},
     "output_type": "display_data"
    }
   ],
   "source": [
    "#귀무가설 :운항거리와 출발지연시간은 상관관계가 없다.\n",
    "#대립가설 :운항거리와 출발지연시간은 상관관계가 있다.\n",
    "summary(model)\n",
    "#p-value: <2.2e-16\n",
    "#결론:운항거리와 출발지연시간은 상관관계가 있다.\n",
    "#R-squared:  2.115e-05 설명력 0%"
   ]
  },
  {
   "cell_type": "code",
   "execution_count": null,
   "metadata": {},
   "outputs": [],
   "source": [
    "plot(X,y,xlab='운항거리',ylab='출발지연시간')\n",
    "abline(model,col='red')"
   ]
  },
  {
   "cell_type": "code",
   "execution_count": null,
   "metadata": {},
   "outputs": [],
   "source": [
    "X<-df$Distance #독립변수(운항거리)\n",
    "y<-df$ArrDelay #종속변수(도착지연시간)"
   ]
  },
  {
   "cell_type": "code",
   "execution_count": null,
   "metadata": {},
   "outputs": [],
   "source": [
    "cor(X,y)"
   ]
  },
  {
   "cell_type": "code",
   "execution_count": null,
   "metadata": {},
   "outputs": [],
   "source": [
    "(model<-lm(y~X))"
   ]
  },
  {
   "cell_type": "code",
   "execution_count": null,
   "metadata": {},
   "outputs": [],
   "source": [
    "summary(model)\n",
    "#p-value: < 2.2e-16\n",
    "#R-squared: 0.0001237 "
   ]
  },
  {
   "cell_type": "code",
   "execution_count": null,
   "metadata": {},
   "outputs": [],
   "source": [
    "plot(X,y,xlab='운항거리',ylab='도착지연시간')\n",
    "abline(model,col='red') #회귀선"
   ]
  },
  {
   "cell_type": "code",
   "execution_count": null,
   "metadata": {},
   "outputs": [],
   "source": []
  },
  {
   "cell_type": "code",
   "execution_count": null,
   "metadata": {},
   "outputs": [],
   "source": []
  },
  {
   "cell_type": "code",
   "execution_count": null,
   "metadata": {},
   "outputs": [],
   "source": []
  },
  {
   "cell_type": "code",
   "execution_count": null,
   "metadata": {},
   "outputs": [],
   "source": []
  },
  {
   "cell_type": "code",
   "execution_count": null,
   "metadata": {},
   "outputs": [],
   "source": []
  },
  {
   "cell_type": "code",
   "execution_count": null,
   "metadata": {},
   "outputs": [],
   "source": []
  },
  {
   "cell_type": "code",
   "execution_count": null,
   "metadata": {},
   "outputs": [],
   "source": []
  },
  {
   "cell_type": "code",
   "execution_count": null,
   "metadata": {},
   "outputs": [],
   "source": []
  },
  {
   "cell_type": "code",
   "execution_count": null,
   "metadata": {},
   "outputs": [],
   "source": []
  },
  {
   "cell_type": "code",
   "execution_count": null,
   "metadata": {},
   "outputs": [],
   "source": []
  }
 ],
 "metadata": {
  "kernelspec": {
   "display_name": "R",
   "language": "R",
   "name": "ir"
  },
  "language_info": {
   "codemirror_mode": "r",
   "file_extension": ".r",
   "mimetype": "text/x-r-source",
   "name": "R",
   "pygments_lexer": "r",
   "version": "3.6.1"
  }
 },
 "nbformat": 4,
 "nbformat_minor": 2
}
