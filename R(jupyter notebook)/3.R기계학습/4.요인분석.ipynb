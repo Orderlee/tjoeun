{
 "cells": [
  {
   "cell_type": "code",
   "execution_count": 9,
   "metadata": {},
   "outputs": [
    {
     "data": {
      "text/html": [
       "<table>\n",
       "<thead><tr><th scope=col>data1</th><th scope=col>data2</th><th scope=col>data3</th><th scope=col>data4</th><th scope=col>data5</th><th scope=col>data6</th></tr></thead>\n",
       "<tbody>\n",
       "\t<tr><td>1</td><td>1</td><td>3</td><td>1</td><td>1</td><td>1</td></tr>\n",
       "\t<tr><td>1</td><td>2</td><td>4</td><td>1</td><td>2</td><td>2</td></tr>\n",
       "\t<tr><td>1</td><td>1</td><td>3</td><td>1</td><td>3</td><td>2</td></tr>\n",
       "\t<tr><td>1</td><td>1</td><td>4</td><td>3</td><td>2</td><td>1</td></tr>\n",
       "\t<tr><td>1</td><td>1</td><td>4</td><td>4</td><td>1</td><td>1</td></tr>\n",
       "\t<tr><td>1</td><td>1</td><td>1</td><td>5</td><td>1</td><td>2</td></tr>\n",
       "</tbody>\n",
       "</table>\n"
      ],
      "text/latex": [
       "\\begin{tabular}{llllll}\n",
       " data1 & data2 & data3 & data4 & data5 & data6\\\\\n",
       "\\hline\n",
       "\t 1 & 1 & 3 & 1 & 1 & 1\\\\\n",
       "\t 1 & 2 & 4 & 1 & 2 & 2\\\\\n",
       "\t 1 & 1 & 3 & 1 & 3 & 2\\\\\n",
       "\t 1 & 1 & 4 & 3 & 2 & 1\\\\\n",
       "\t 1 & 1 & 4 & 4 & 1 & 1\\\\\n",
       "\t 1 & 1 & 1 & 5 & 1 & 2\\\\\n",
       "\\end{tabular}\n"
      ],
      "text/markdown": [
       "\n",
       "| data1 | data2 | data3 | data4 | data5 | data6 |\n",
       "|---|---|---|---|---|---|\n",
       "| 1 | 1 | 3 | 1 | 1 | 1 |\n",
       "| 1 | 2 | 4 | 1 | 2 | 2 |\n",
       "| 1 | 1 | 3 | 1 | 3 | 2 |\n",
       "| 1 | 1 | 4 | 3 | 2 | 1 |\n",
       "| 1 | 1 | 4 | 4 | 1 | 1 |\n",
       "| 1 | 1 | 1 | 5 | 1 | 2 |\n",
       "\n"
      ],
      "text/plain": [
       "     data1 data2 data3 data4 data5 data6\n",
       "[1,] 1     1     3     1     1     1    \n",
       "[2,] 1     2     4     1     2     2    \n",
       "[3,] 1     1     3     1     3     2    \n",
       "[4,] 1     1     4     3     2     1    \n",
       "[5,] 1     1     4     4     1     1    \n",
       "[6,] 1     1     1     5     1     2    "
      ]
     },
     "metadata": {},
     "output_type": "display_data"
    }
   ],
   "source": [
    "data1<-c(1,1,1,1,1,1,1,1,1,1,3,3,3,3,3,4,5,6)\n",
    "data2<-c(1,2,1,1,1,1,1,1,1,1,3,4,3,3,3,4,5,6)\n",
    "data3<-c(3,4,3,4,4,1,1,1,1,1,1,1,1,1,3,4,5,6)\n",
    "data4<-c(1,1,1,3,4,5,2,3,1,1,3,3,3,3,3,4,5,6)\n",
    "data5<-c(1,2,3,2,1,1,1,1,1,1,3,3,3,3,3,4,5,6)\n",
    "data6<-c(1,2,2,1,1,2,3,3,6,5,6,5,3,4,5,6,5,4)\n",
    "#1차원벡터를 2차원으로 변환\n",
    "testData<-cbind(data1,data2,data3,data4,data5,data6)\n",
    "head(testData)"
   ]
  },
  {
   "cell_type": "code",
   "execution_count": 11,
   "metadata": {},
   "outputs": [
    {
     "data": {
      "text/html": [
       "<table>\n",
       "<thead><tr><th></th><th scope=col>data1</th><th scope=col>data2</th><th scope=col>data3</th><th scope=col>data4</th><th scope=col>data5</th><th scope=col>data6</th></tr></thead>\n",
       "<tbody>\n",
       "\t<tr><th scope=row>data1</th><td>1.0000000 </td><td>0.9796428 </td><td> 0.4592549</td><td>0.6868827 </td><td>0.9388680 </td><td> 0.5320765</td></tr>\n",
       "\t<tr><th scope=row>data2</th><td>0.9796428 </td><td>1.0000000 </td><td> 0.4545923</td><td>0.6374148 </td><td>0.9320376 </td><td> 0.5244044</td></tr>\n",
       "\t<tr><th scope=row>data3</th><td>0.4592549 </td><td>0.4545923 </td><td> 1.0000000</td><td>0.4098089 </td><td>0.5789650 </td><td>-0.1946043</td></tr>\n",
       "\t<tr><th scope=row>data4</th><td>0.6868827 </td><td>0.6374148 </td><td> 0.4098089</td><td>1.0000000 </td><td>0.5853123 </td><td> 0.1098293</td></tr>\n",
       "\t<tr><th scope=row>data5</th><td>0.9388680 </td><td>0.9320376 </td><td> 0.5789650</td><td>0.5853123 </td><td>1.0000000 </td><td> 0.4055836</td></tr>\n",
       "\t<tr><th scope=row>data6</th><td>0.5320765 </td><td>0.5244044 </td><td>-0.1946043</td><td>0.1098293 </td><td>0.4055836 </td><td> 1.0000000</td></tr>\n",
       "</tbody>\n",
       "</table>\n"
      ],
      "text/latex": [
       "\\begin{tabular}{r|llllll}\n",
       "  & data1 & data2 & data3 & data4 & data5 & data6\\\\\n",
       "\\hline\n",
       "\tdata1 & 1.0000000  & 0.9796428  &  0.4592549 & 0.6868827  & 0.9388680  &  0.5320765\\\\\n",
       "\tdata2 & 0.9796428  & 1.0000000  &  0.4545923 & 0.6374148  & 0.9320376  &  0.5244044\\\\\n",
       "\tdata3 & 0.4592549  & 0.4545923  &  1.0000000 & 0.4098089  & 0.5789650  & -0.1946043\\\\\n",
       "\tdata4 & 0.6868827  & 0.6374148  &  0.4098089 & 1.0000000  & 0.5853123  &  0.1098293\\\\\n",
       "\tdata5 & 0.9388680  & 0.9320376  &  0.5789650 & 0.5853123  & 1.0000000  &  0.4055836\\\\\n",
       "\tdata6 & 0.5320765  & 0.5244044  & -0.1946043 & 0.1098293  & 0.4055836  &  1.0000000\\\\\n",
       "\\end{tabular}\n"
      ],
      "text/markdown": [
       "\n",
       "| <!--/--> | data1 | data2 | data3 | data4 | data5 | data6 |\n",
       "|---|---|---|---|---|---|---|\n",
       "| data1 | 1.0000000  | 0.9796428  |  0.4592549 | 0.6868827  | 0.9388680  |  0.5320765 |\n",
       "| data2 | 0.9796428  | 1.0000000  |  0.4545923 | 0.6374148  | 0.9320376  |  0.5244044 |\n",
       "| data3 | 0.4592549  | 0.4545923  |  1.0000000 | 0.4098089  | 0.5789650  | -0.1946043 |\n",
       "| data4 | 0.6868827  | 0.6374148  |  0.4098089 | 1.0000000  | 0.5853123  |  0.1098293 |\n",
       "| data5 | 0.9388680  | 0.9320376  |  0.5789650 | 0.5853123  | 1.0000000  |  0.4055836 |\n",
       "| data6 | 0.5320765  | 0.5244044  | -0.1946043 | 0.1098293  | 0.4055836  |  1.0000000 |\n",
       "\n"
      ],
      "text/plain": [
       "      data1     data2     data3      data4     data5     data6     \n",
       "data1 1.0000000 0.9796428  0.4592549 0.6868827 0.9388680  0.5320765\n",
       "data2 0.9796428 1.0000000  0.4545923 0.6374148 0.9320376  0.5244044\n",
       "data3 0.4592549 0.4545923  1.0000000 0.4098089 0.5789650 -0.1946043\n",
       "data4 0.6868827 0.6374148  0.4098089 1.0000000 0.5853123  0.1098293\n",
       "data5 0.9388680 0.9320376  0.5789650 0.5853123 1.0000000  0.4055836\n",
       "data6 0.5320765 0.5244044 -0.1946043 0.1098293 0.4055836  1.0000000"
      ]
     },
     "metadata": {},
     "output_type": "display_data"
    },
    {
     "data": {
      "text/plain": [
       "eigen() decomposition\n",
       "$values\n",
       "[1] 3.91341240 1.25871719 0.54753308 0.21405857 0.05117898 0.01509978\n",
       "\n",
       "$vectors\n",
       "           [,1]        [,2]        [,3]       [,4]        [,5]         [,6]\n",
       "[1,] -0.4974909  0.09646235 -0.01490673  0.1840957 -0.21357903  0.814535693\n",
       "[2,] -0.4911084  0.10344356  0.05315783  0.2864351 -0.61261683 -0.536602066\n",
       "[3,] -0.2870577 -0.62209408  0.48397528 -0.5370898 -0.08871781  0.005330931\n",
       "[4,] -0.3711749 -0.22629017 -0.82735131 -0.3089987  0.13846509 -0.108899036\n",
       "[5,] -0.4826337 -0.02832925  0.23064036  0.3754403  0.73480168 -0.179382942\n",
       "[6,] -0.2412615  0.73551588  0.15816064 -0.5993018  0.11003493 -0.067261941\n"
      ]
     },
     "metadata": {},
     "output_type": "display_data"
    }
   ],
   "source": [
    "EigenData<-cor(testData) #상관계수 행렬\n",
    "EigenData\n",
    "eigen(EigenData)"
   ]
  },
  {
   "cell_type": "code",
   "execution_count": 12,
   "metadata": {},
   "outputs": [
    {
     "data": {
      "text/plain": [
       "\n",
       "Call:\n",
       "factanal(x = testData, factors = 3)\n",
       "\n",
       "Uniquenesses:\n",
       "data1 data2 data3 data4 data5 data6 \n",
       "0.005 0.033 0.286 0.005 0.056 0.270 \n",
       "\n",
       "Loadings:\n",
       "      Factor1 Factor2 Factor3\n",
       "data1  0.723   0.515   0.455 \n",
       "data2  0.727   0.530   0.398 \n",
       "data3          0.814   0.213 \n",
       "data4  0.161   0.272   0.946 \n",
       "data5  0.609   0.687   0.318 \n",
       "data6  0.838  -0.163         \n",
       "\n",
       "               Factor1 Factor2 Factor3\n",
       "SS loadings      2.156   1.781   1.407\n",
       "Proportion Var   0.359   0.297   0.234\n",
       "Cumulative Var   0.359   0.656   0.891\n",
       "\n",
       "The degrees of freedom for the model is 0 and the fit was 0.008 "
      ]
     },
     "metadata": {},
     "output_type": "display_data"
    }
   ],
   "source": [
    "#6개의 변수가 3개의 변수로 차원이 축소됨\n",
    "factanal(testData,factors=3) #3개의 요인으로 분석"
   ]
  },
  {
   "cell_type": "code",
   "execution_count": null,
   "metadata": {},
   "outputs": [],
   "source": []
  }
 ],
 "metadata": {
  "kernelspec": {
   "display_name": "R",
   "language": "R",
   "name": "ir"
  },
  "language_info": {
   "codemirror_mode": "r",
   "file_extension": ".r",
   "mimetype": "text/x-r-source",
   "name": "R",
   "pygments_lexer": "r",
   "version": "3.6.1"
  }
 },
 "nbformat": 4,
 "nbformat_minor": 2
}
