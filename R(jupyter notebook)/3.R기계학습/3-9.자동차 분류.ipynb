{
 "cells": [
  {
   "cell_type": "code",
   "execution_count": 2,
   "metadata": {},
   "outputs": [
    {
     "data": {
      "text/html": [
       "<table>\n",
       "<thead><tr><th scope=col>wheels</th><th scope=col>chassis</th><th scope=col>pax</th><th scope=col>vtype</th><th scope=col>class</th></tr></thead>\n",
       "<tbody>\n",
       "\t<tr><td>1   </td><td>1   </td><td>1   </td><td>Bike</td><td>1   </td></tr>\n",
       "\t<tr><td>1   </td><td>1   </td><td>1   </td><td>Bike</td><td>1   </td></tr>\n",
       "\t<tr><td>1   </td><td>1   </td><td>1   </td><td>Bike</td><td>1   </td></tr>\n",
       "\t<tr><td>1   </td><td>1   </td><td>1   </td><td>Bike</td><td>1   </td></tr>\n",
       "\t<tr><td>1   </td><td>1   </td><td>1   </td><td>Bike</td><td>1   </td></tr>\n",
       "\t<tr><td>1   </td><td>1   </td><td>1   </td><td>Bike</td><td>1   </td></tr>\n",
       "</tbody>\n",
       "</table>\n"
      ],
      "text/latex": [
       "\\begin{tabular}{r|lllll}\n",
       " wheels & chassis & pax & vtype & class\\\\\n",
       "\\hline\n",
       "\t 1    & 1    & 1    & Bike & 1   \\\\\n",
       "\t 1    & 1    & 1    & Bike & 1   \\\\\n",
       "\t 1    & 1    & 1    & Bike & 1   \\\\\n",
       "\t 1    & 1    & 1    & Bike & 1   \\\\\n",
       "\t 1    & 1    & 1    & Bike & 1   \\\\\n",
       "\t 1    & 1    & 1    & Bike & 1   \\\\\n",
       "\\end{tabular}\n"
      ],
      "text/markdown": [
       "\n",
       "| wheels | chassis | pax | vtype | class |\n",
       "|---|---|---|---|---|\n",
       "| 1    | 1    | 1    | Bike | 1    |\n",
       "| 1    | 1    | 1    | Bike | 1    |\n",
       "| 1    | 1    | 1    | Bike | 1    |\n",
       "| 1    | 1    | 1    | Bike | 1    |\n",
       "| 1    | 1    | 1    | Bike | 1    |\n",
       "| 1    | 1    | 1    | Bike | 1    |\n",
       "\n"
      ],
      "text/plain": [
       "  wheels chassis pax vtype class\n",
       "1 1      1       1   Bike  1    \n",
       "2 1      1       1   Bike  1    \n",
       "3 1      1       1   Bike  1    \n",
       "4 1      1       1   Bike  1    \n",
       "5 1      1       1   Bike  1    \n",
       "6 1      1       1   Bike  1    "
      ]
     },
     "metadata": {},
     "output_type": "display_data"
    }
   ],
   "source": [
    "df<-read.csv('d:/data/car/v100k.csv')\n",
    "head(df)"
   ]
  },
  {
   "cell_type": "code",
   "execution_count": 3,
   "metadata": {},
   "outputs": [
    {
     "name": "stderr",
     "output_type": "stream",
     "text": [
      "Warning message:\n",
      "\"package 'dplyr' was built under R version 3.6.2\"\n",
      "Attaching package: 'dplyr'\n",
      "\n",
      "The following objects are masked from 'package:stats':\n",
      "\n",
      "    filter, lag\n",
      "\n",
      "The following objects are masked from 'package:base':\n",
      "\n",
      "    intersect, setdiff, setequal, union\n",
      "\n"
     ]
    },
    {
     "data": {
      "text/html": [
       "<ol class=list-inline>\n",
       "\t<li>100000</li>\n",
       "\t<li>4</li>\n",
       "</ol>\n"
      ],
      "text/latex": [
       "\\begin{enumerate*}\n",
       "\\item 100000\n",
       "\\item 4\n",
       "\\end{enumerate*}\n"
      ],
      "text/markdown": [
       "1. 100000\n",
       "2. 4\n",
       "\n",
       "\n"
      ],
      "text/plain": [
       "[1] 100000      4"
      ]
     },
     "metadata": {},
     "output_type": "display_data"
    },
    {
     "data": {
      "text/plain": [
       "     wheels          chassis           pax             class      \n",
       " Min.   : 1.000   Min.   : 1.00   Min.   : 1.000   Min.   :1.000  \n",
       " 1st Qu.: 4.000   1st Qu.: 1.00   1st Qu.: 1.000   1st Qu.:2.000  \n",
       " Median : 5.000   Median :12.00   Median : 2.000   Median :3.000  \n",
       " Mean   : 7.511   Mean   :11.39   Mean   : 7.391   Mean   :2.503  \n",
       " 3rd Qu.:18.000   3rd Qu.:21.00   3rd Qu.: 4.000   3rd Qu.:4.000  \n",
       " Max.   :18.000   Max.   :29.00   Max.   :39.000   Max.   :4.000  "
      ]
     },
     "metadata": {},
     "output_type": "display_data"
    }
   ],
   "source": [
    "library(dplyr)\n",
    "df<-df %>% select(-vtype) #분석에 사용하지 않을 필드 제외\n",
    "dim(df)\n",
    "summary(df)"
   ]
  },
  {
   "cell_type": "code",
   "execution_count": 4,
   "metadata": {},
   "outputs": [
    {
     "data": {
      "text/html": [
       "<table>\n",
       "<thead><tr><th></th><th scope=col>wheels</th><th scope=col>chassis</th><th scope=col>pax</th><th scope=col>class</th></tr></thead>\n",
       "<tbody>\n",
       "\t<tr><th scope=row>wheels</th><td> 1.00000000</td><td>0.8572987  </td><td>-0.08466927</td><td>0.9202212  </td></tr>\n",
       "\t<tr><th scope=row>chassis</th><td> 0.85729867</td><td>1.0000000  </td><td> 0.30932832</td><td>0.9354329  </td></tr>\n",
       "\t<tr><th scope=row>pax</th><td>-0.08466927</td><td>0.3093283  </td><td> 1.00000000</td><td>0.2413967  </td></tr>\n",
       "\t<tr><th scope=row>class</th><td> 0.92022124</td><td>0.9354329  </td><td> 0.24139671</td><td>1.0000000  </td></tr>\n",
       "</tbody>\n",
       "</table>\n"
      ],
      "text/latex": [
       "\\begin{tabular}{r|llll}\n",
       "  & wheels & chassis & pax & class\\\\\n",
       "\\hline\n",
       "\twheels &  1.00000000 & 0.8572987   & -0.08466927 & 0.9202212  \\\\\n",
       "\tchassis &  0.85729867 & 1.0000000   &  0.30932832 & 0.9354329  \\\\\n",
       "\tpax & -0.08466927 & 0.3093283   &  1.00000000 & 0.2413967  \\\\\n",
       "\tclass &  0.92022124 & 0.9354329   &  0.24139671 & 1.0000000  \\\\\n",
       "\\end{tabular}\n"
      ],
      "text/markdown": [
       "\n",
       "| <!--/--> | wheels | chassis | pax | class |\n",
       "|---|---|---|---|---|\n",
       "| wheels |  1.00000000 | 0.8572987   | -0.08466927 | 0.9202212   |\n",
       "| chassis |  0.85729867 | 1.0000000   |  0.30932832 | 0.9354329   |\n",
       "| pax | -0.08466927 | 0.3093283   |  1.00000000 | 0.2413967   |\n",
       "| class |  0.92022124 | 0.9354329   |  0.24139671 | 1.0000000   |\n",
       "\n"
      ],
      "text/plain": [
       "        wheels      chassis   pax         class    \n",
       "wheels   1.00000000 0.8572987 -0.08466927 0.9202212\n",
       "chassis  0.85729867 1.0000000  0.30932832 0.9354329\n",
       "pax     -0.08466927 0.3093283  1.00000000 0.2413967\n",
       "class    0.92022124 0.9354329  0.24139671 1.0000000"
      ]
     },
     "metadata": {},
     "output_type": "display_data"
    }
   ],
   "source": [
    "(corrmatrix<-cor(df)) #상관계수 행렬"
   ]
  },
  {
   "cell_type": "code",
   "execution_count": 5,
   "metadata": {},
   "outputs": [
    {
     "name": "stderr",
     "output_type": "stream",
     "text": [
      "Warning message:\n",
      "\"package 'corrplot' was built under R version 3.6.2\"corrplot 0.84 loaded\n"
     ]
    },
    {
     "data": {
      "image/png": "[encoded data removed]",
      "text/plain": [
       "Plot with title \"\""
      ]
     },
     "metadata": {},
     "output_type": "display_data"
    }
   ],
   "source": [
    "library(corrplot)\n",
    "corrplot(corrmatrix,method='circle')"
   ]
  },
  {
   "cell_type": "code",
   "execution_count": 6,
   "metadata": {},
   "outputs": [
    {
     "data": {
      "text/plain": [
       "\n",
       "    1     2     3     4 \n",
       "24894 25029 24975 25102 "
      ]
     },
     "metadata": {},
     "output_type": "display_data"
    },
    {
     "data": {
      "image/png": "[encoded data removed]",
      "text/plain": [
       "plot without title"
      ]
     },
     "metadata": {},
     "output_type": "display_data"
    }
   ],
   "source": [
    "(tbl<-table(df$class))\n",
    "barplot(tbl,beside=T,legend=T,col=rainbow(4)) #카운트 플롯"
   ]
  },
  {
   "cell_type": "code",
   "execution_count": 7,
   "metadata": {},
   "outputs": [
    {
     "name": "stderr",
     "output_type": "stream",
     "text": [
      "Loading required package: lattice\n",
      "Warning message:\n",
      "\"package 'lattice' was built under R version 3.6.2\"Loading required package: ggplot2\n",
      "Warning message:\n",
      "\"package 'ggplot2' was built under R version 3.6.2\""
     ]
    }
   ],
   "source": [
    "library(caret)\n",
    "set.seed(123)\n",
    "# class 필드를 기준으로 학습용:검증용=8:2로 구분\n",
    "idx_train<-createDataPartition(y=df$class,p=0.8,list=F)\n",
    "train<-df[idx_train,] #학습용 데이터셋\n",
    "X_train<-train[,4] #독립변수\n",
    "y_train<-train[,4] #종속변수\n",
    "test<-df[-idx_train,] #검증용 데이터셋\n",
    "X_test<-test[,-4]\n",
    "y_test<-test[,4]"
   ]
  },
  {
   "cell_type": "code",
   "execution_count": 8,
   "metadata": {},
   "outputs": [
    {
     "name": "stdout",
     "output_type": "stream",
     "text": [
      "# weights:  20 (12 variable)\n",
      "initial  value 110904.935184 \n",
      "iter  10 value 20776.199610\n",
      "iter  20 value 2479.446009\n",
      "iter  30 value 53.125014\n",
      "iter  40 value 1.336965\n",
      "iter  50 value 0.013563\n",
      "iter  60 value 0.002487\n",
      "iter  70 value 0.000142\n",
      "iter  70 value 0.000089\n",
      "iter  70 value 0.000088\n",
      "final  value 0.000088 \n",
      "converged\n"
     ]
    },
    {
     "data": {
      "text/plain": [
       "Call:\n",
       "multinom(formula = class ~ ., data = train)\n",
       "\n",
       "Coefficients:\n",
       "  (Intercept)   wheels    chassis        pax\n",
       "2   -39.52327 27.12506 -10.566928  0.4231048\n",
       "3   -62.05704 15.00332   1.177731  2.2494341\n",
       "4   -56.26192 15.77647   2.235226 -5.1597572\n",
       "\n",
       "Std. Errors:\n",
       "  (Intercept)   wheels  chassis      pax\n",
       "2    14769.62 19674.30 19673.18 19337.62\n",
       "3    22268.54 14451.13 10805.27 19340.56\n",
       "4    21661.95 14208.88 10832.27 19498.72\n",
       "\n",
       "Residual Deviance: 0.0001766467 \n",
       "AIC: 24.00018 "
      ]
     },
     "metadata": {},
     "output_type": "display_data"
    }
   ],
   "source": [
    "library(nnet)\n",
    "#로지스틱 회귀분석 모형\n",
    "model<-multinom(class ~. , data=train)\n",
    "summary(model)"
   ]
  },
  {
   "cell_type": "code",
   "execution_count": 9,
   "metadata": {},
   "outputs": [
    {
     "data": {
      "text/html": [
       "<table>\n",
       "<thead><tr><th></th><th scope=col>(Intercept)</th><th scope=col>wheels</th><th scope=col>chassis</th><th scope=col>pax</th></tr></thead>\n",
       "<tbody>\n",
       "\t<tr><th scope=row>2</th><td>-39.52327 </td><td>27.12506  </td><td>-10.566928</td><td> 0.4231048</td></tr>\n",
       "\t<tr><th scope=row>3</th><td>-62.05704 </td><td>15.00332  </td><td>  1.177731</td><td> 2.2494341</td></tr>\n",
       "\t<tr><th scope=row>4</th><td>-56.26192 </td><td>15.77647  </td><td>  2.235226</td><td>-5.1597572</td></tr>\n",
       "</tbody>\n",
       "</table>\n"
      ],
      "text/latex": [
       "\\begin{tabular}{r|llll}\n",
       "  & (Intercept) & wheels & chassis & pax\\\\\n",
       "\\hline\n",
       "\t2 & -39.52327  & 27.12506   & -10.566928 &  0.4231048\\\\\n",
       "\t3 & -62.05704  & 15.00332   &   1.177731 &  2.2494341\\\\\n",
       "\t4 & -56.26192  & 15.77647   &   2.235226 & -5.1597572\\\\\n",
       "\\end{tabular}\n"
      ],
      "text/markdown": [
       "\n",
       "| <!--/--> | (Intercept) | wheels | chassis | pax |\n",
       "|---|---|---|---|---|\n",
       "| 2 | -39.52327  | 27.12506   | -10.566928 |  0.4231048 |\n",
       "| 3 | -62.05704  | 15.00332   |   1.177731 |  2.2494341 |\n",
       "| 4 | -56.26192  | 15.77647   |   2.235226 | -5.1597572 |\n",
       "\n"
      ],
      "text/plain": [
       "  (Intercept) wheels   chassis    pax       \n",
       "2 -39.52327   27.12506 -10.566928  0.4231048\n",
       "3 -62.05704   15.00332   1.177731  2.2494341\n",
       "4 -56.26192   15.77647   2.235226 -5.1597572"
      ]
     },
     "metadata": {},
     "output_type": "display_data"
    }
   ],
   "source": [
    "(coef1<-coef(model)) #회귀계수 행렬"
   ]
  },
  {
   "cell_type": "code",
   "execution_count": 10,
   "metadata": {},
   "outputs": [
    {
     "data": {
      "text/html": [
       "<table>\n",
       "<thead><tr><th></th><th scope=col>1</th><th scope=col>2</th><th scope=col>3</th><th scope=col>4</th></tr></thead>\n",
       "<tbody>\n",
       "\t<tr><th scope=row>1</th><td>1           </td><td>1.62226e-10 </td><td>1.130388e-19</td><td>1.40373e-19 </td></tr>\n",
       "\t<tr><th scope=row>9</th><td>1           </td><td>1.62226e-10 </td><td>1.130388e-19</td><td>1.40373e-19 </td></tr>\n",
       "\t<tr><th scope=row>13</th><td>1           </td><td>1.62226e-10 </td><td>1.130388e-19</td><td>1.40373e-19 </td></tr>\n",
       "\t<tr><th scope=row>15</th><td>1           </td><td>1.62226e-10 </td><td>1.130388e-19</td><td>1.40373e-19 </td></tr>\n",
       "\t<tr><th scope=row>20</th><td>1           </td><td>1.62226e-10 </td><td>1.130388e-19</td><td>1.40373e-19 </td></tr>\n",
       "\t<tr><th scope=row>23</th><td>1           </td><td>1.62226e-10 </td><td>1.130388e-19</td><td>1.40373e-19 </td></tr>\n",
       "</tbody>\n",
       "</table>\n"
      ],
      "text/latex": [
       "\\begin{tabular}{r|llll}\n",
       "  & 1 & 2 & 3 & 4\\\\\n",
       "\\hline\n",
       "\t1 & 1            & 1.62226e-10  & 1.130388e-19 & 1.40373e-19 \\\\\n",
       "\t9 & 1            & 1.62226e-10  & 1.130388e-19 & 1.40373e-19 \\\\\n",
       "\t13 & 1            & 1.62226e-10  & 1.130388e-19 & 1.40373e-19 \\\\\n",
       "\t15 & 1            & 1.62226e-10  & 1.130388e-19 & 1.40373e-19 \\\\\n",
       "\t20 & 1            & 1.62226e-10  & 1.130388e-19 & 1.40373e-19 \\\\\n",
       "\t23 & 1            & 1.62226e-10  & 1.130388e-19 & 1.40373e-19 \\\\\n",
       "\\end{tabular}\n"
      ],
      "text/markdown": [
       "\n",
       "| <!--/--> | 1 | 2 | 3 | 4 |\n",
       "|---|---|---|---|---|\n",
       "| 1 | 1            | 1.62226e-10  | 1.130388e-19 | 1.40373e-19  |\n",
       "| 9 | 1            | 1.62226e-10  | 1.130388e-19 | 1.40373e-19  |\n",
       "| 13 | 1            | 1.62226e-10  | 1.130388e-19 | 1.40373e-19  |\n",
       "| 15 | 1            | 1.62226e-10  | 1.130388e-19 | 1.40373e-19  |\n",
       "| 20 | 1            | 1.62226e-10  | 1.130388e-19 | 1.40373e-19  |\n",
       "| 23 | 1            | 1.62226e-10  | 1.130388e-19 | 1.40373e-19  |\n",
       "\n"
      ],
      "text/plain": [
       "   1 2           3            4          \n",
       "1  1 1.62226e-10 1.130388e-19 1.40373e-19\n",
       "9  1 1.62226e-10 1.130388e-19 1.40373e-19\n",
       "13 1 1.62226e-10 1.130388e-19 1.40373e-19\n",
       "15 1 1.62226e-10 1.130388e-19 1.40373e-19\n",
       "20 1 1.62226e-10 1.130388e-19 1.40373e-19\n",
       "23 1 1.62226e-10 1.130388e-19 1.40373e-19"
      ]
     },
     "metadata": {},
     "output_type": "display_data"
    },
    {
     "data": {
      "text/html": [
       "<table>\n",
       "<thead><tr><th></th><th scope=col>1</th><th scope=col>2</th><th scope=col>3</th><th scope=col>4</th></tr></thead>\n",
       "<tbody>\n",
       "\t<tr><th scope=row>99945</th><td>0</td><td>0</td><td>0</td><td>1</td></tr>\n",
       "\t<tr><th scope=row>99946</th><td>0</td><td>0</td><td>0</td><td>1</td></tr>\n",
       "\t<tr><th scope=row>99950</th><td>0</td><td>0</td><td>0</td><td>1</td></tr>\n",
       "\t<tr><th scope=row>99958</th><td>0</td><td>0</td><td>0</td><td>1</td></tr>\n",
       "\t<tr><th scope=row>99968</th><td>0</td><td>0</td><td>0</td><td>1</td></tr>\n",
       "\t<tr><th scope=row>99979</th><td>0</td><td>0</td><td>0</td><td>1</td></tr>\n",
       "</tbody>\n",
       "</table>\n"
      ],
      "text/latex": [
       "\\begin{tabular}{r|llll}\n",
       "  & 1 & 2 & 3 & 4\\\\\n",
       "\\hline\n",
       "\t99945 & 0 & 0 & 0 & 1\\\\\n",
       "\t99946 & 0 & 0 & 0 & 1\\\\\n",
       "\t99950 & 0 & 0 & 0 & 1\\\\\n",
       "\t99958 & 0 & 0 & 0 & 1\\\\\n",
       "\t99968 & 0 & 0 & 0 & 1\\\\\n",
       "\t99979 & 0 & 0 & 0 & 1\\\\\n",
       "\\end{tabular}\n"
      ],
      "text/markdown": [
       "\n",
       "| <!--/--> | 1 | 2 | 3 | 4 |\n",
       "|---|---|---|---|---|\n",
       "| 99945 | 0 | 0 | 0 | 1 |\n",
       "| 99946 | 0 | 0 | 0 | 1 |\n",
       "| 99950 | 0 | 0 | 0 | 1 |\n",
       "| 99958 | 0 | 0 | 0 | 1 |\n",
       "| 99968 | 0 | 0 | 0 | 1 |\n",
       "| 99979 | 0 | 0 | 0 | 1 |\n",
       "\n"
      ],
      "text/plain": [
       "      1 2 3 4\n",
       "99945 0 0 0 1\n",
       "99946 0 0 0 1\n",
       "99950 0 0 0 1\n",
       "99958 0 0 0 1\n",
       "99968 0 0 0 1\n",
       "99979 0 0 0 1"
      ]
     },
     "metadata": {},
     "output_type": "display_data"
    },
    {
     "data": {
      "text/html": [
       "<ol class=list-inline>\n",
       "\t<li>1</li>\n",
       "\t<li>1</li>\n",
       "\t<li>1</li>\n",
       "\t<li>1</li>\n",
       "\t<li>1</li>\n",
       "\t<li>1</li>\n",
       "</ol>\n"
      ],
      "text/latex": [
       "\\begin{enumerate*}\n",
       "\\item 1\n",
       "\\item 1\n",
       "\\item 1\n",
       "\\item 1\n",
       "\\item 1\n",
       "\\item 1\n",
       "\\end{enumerate*}\n"
      ],
      "text/markdown": [
       "1. 1\n",
       "2. 1\n",
       "3. 1\n",
       "4. 1\n",
       "5. 1\n",
       "6. 1\n",
       "\n",
       "\n"
      ],
      "text/plain": [
       "[1] 1 1 1 1 1 1"
      ]
     },
     "metadata": {},
     "output_type": "display_data"
    }
   ],
   "source": [
    "#검증용 데이터셋을 모형에 입력하여 예측값 계산\n",
    "pred<-predict(model,newdata=X_test,type='probs')\n",
    "result<-ifelse(pred>0.5,1,0)\n",
    "head(pred) #예측값(실수형)\n",
    "tail(result) #예측값(정수형)\n",
    "head(y_test)"
   ]
  },
  {
   "cell_type": "code",
   "execution_count": 11,
   "metadata": {},
   "outputs": [
    {
     "data": {
      "text/html": [
       "<ol class=list-inline>\n",
       "\t<li>1</li>\n",
       "\t<li>1</li>\n",
       "\t<li>1</li>\n",
       "\t<li>1</li>\n",
       "\t<li>1</li>\n",
       "\t<li>1</li>\n",
       "</ol>\n"
      ],
      "text/latex": [
       "\\begin{enumerate*}\n",
       "\\item 1\n",
       "\\item 1\n",
       "\\item 1\n",
       "\\item 1\n",
       "\\item 1\n",
       "\\item 1\n",
       "\\end{enumerate*}\n"
      ],
      "text/markdown": [
       "1. 1\n",
       "2. 1\n",
       "3. 1\n",
       "4. 1\n",
       "5. 1\n",
       "6. 1\n",
       "\n",
       "\n"
      ],
      "text/plain": [
       "[1] 1 1 1 1 1 1"
      ]
     },
     "metadata": {},
     "output_type": "display_data"
    }
   ],
   "source": [
    "new_result=c()\n",
    "for(i in 1:nrow(result)){\n",
    "    for(j in 1:ncol(result)){\n",
    "        if(result[i,j]==1){\n",
    "            new_result[i]=j\n",
    "        }\n",
    "    }\n",
    "}\n",
    "head(new_result)"
   ]
  },
  {
   "cell_type": "code",
   "execution_count": 12,
   "metadata": {},
   "outputs": [
    {
     "data": {
      "text/html": [
       "1"
      ],
      "text/latex": [
       "1"
      ],
      "text/markdown": [
       "1"
      ],
      "text/plain": [
       "[1] 1"
      ]
     },
     "metadata": {},
     "output_type": "display_data"
    }
   ],
   "source": [
    "mean(y_test==new_result)"
   ]
  },
  {
   "cell_type": "code",
   "execution_count": 13,
   "metadata": {},
   "outputs": [
    {
     "data": {
      "text/plain": [
       "      new_result\n",
       "y_test    1    2    3    4\n",
       "     1 4969    0    0    0\n",
       "     2    0 5015    0    0\n",
       "     3    0    0 4995    0\n",
       "     4    0    0    0 5020"
      ]
     },
     "metadata": {},
     "output_type": "display_data"
    }
   ],
   "source": [
    "table(y_test,new_result)"
   ]
  },
  {
   "cell_type": "code",
   "execution_count": null,
   "metadata": {},
   "outputs": [],
   "source": []
  }
 ],
 "metadata": {
  "kernelspec": {
   "display_name": "R",
   "language": "R",
   "name": "ir"
  },
  "language_info": {
   "codemirror_mode": "r",
   "file_extension": ".r",
   "mimetype": "text/x-r-source",
   "name": "R",
   "pygments_lexer": "r",
   "version": "3.6.1"
  }
 },
 "nbformat": 4,
 "nbformat_minor": 2
}
