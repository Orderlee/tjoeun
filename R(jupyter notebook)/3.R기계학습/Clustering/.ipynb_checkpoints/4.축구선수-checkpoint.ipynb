{
 "cells": [
  {
   "cell_type": "code",
   "execution_count": 1,
   "metadata": {},
   "outputs": [
    {
     "data": {
      "text/html": [
       "<table>\n",
       "<thead><tr><th scope=col>id</th><th scope=col>player_name</th><th scope=col>birthday</th><th scope=col>preferred_foot</th><th scope=col>age</th><th scope=col>height</th><th scope=col>weight</th><th scope=col>potential</th><th scope=col>right_foot</th><th scope=col>left_foot</th><th scope=col>...</th><th scope=col>marking</th><th scope=col>standing_tackle</th><th scope=col>sliding_tackle</th><th scope=col>gk_diving</th><th scope=col>gk_handling</th><th scope=col>gk_kicking</th><th scope=col>gk_positioning</th><th scope=col>gk_reflexes</th><th scope=col>overall_rating</th><th scope=col>Label</th></tr></thead>\n",
       "<tbody>\n",
       "\t<tr><td>1                 </td><td>Aaron Appindangoye</td><td>1992-02-29        </td><td>right             </td><td>27                </td><td>183               </td><td>187               </td><td>71                </td><td>1                 </td><td>0                 </td><td>...               </td><td>65                </td><td>69                </td><td>69                </td><td> 6                </td><td>11                </td><td>10                </td><td>8                 </td><td> 8                </td><td>67                </td><td>0                 </td></tr>\n",
       "\t<tr><td>2                 </td><td>Aaron Cresswell   </td><td>1989-12-15        </td><td>right             </td><td>30                </td><td>170               </td><td>146               </td><td>71                </td><td>1                 </td><td>0                 </td><td>...               </td><td>65                </td><td>69                </td><td>69                </td><td> 6                </td><td>11                </td><td>10                </td><td>8                 </td><td> 8                </td><td>67                </td><td>0                 </td></tr>\n",
       "\t<tr><td>3                 </td><td>Aaron Doran       </td><td>1991-05-13        </td><td>right             </td><td>28                </td><td>170               </td><td>163               </td><td>66                </td><td>1                 </td><td>0                 </td><td>...               </td><td>65                </td><td>66                </td><td>69                </td><td> 6                </td><td>11                </td><td>10                </td><td>8                 </td><td> 8                </td><td>62                </td><td>0                 </td></tr>\n",
       "\t<tr><td>4                 </td><td>Aaron Galindo     </td><td>1982-05-08        </td><td>right             </td><td>37                </td><td>183               </td><td>198               </td><td>65                </td><td>1                 </td><td>0                 </td><td>...               </td><td>62                </td><td>63                </td><td>66                </td><td> 5                </td><td>10                </td><td> 9                </td><td>7                 </td><td> 7                </td><td>61                </td><td>0                 </td></tr>\n",
       "\t<tr><td>5                 </td><td>Aaron Hughes      </td><td>1979-11-08        </td><td>right             </td><td>40                </td><td>183               </td><td>154               </td><td>65                </td><td>1                 </td><td>0                 </td><td>...               </td><td>62                </td><td>63                </td><td>66                </td><td> 5                </td><td>10                </td><td> 9                </td><td>7                 </td><td> 7                </td><td>61                </td><td>0                 </td></tr>\n",
       "\t<tr><td>6                 </td><td>Aaron Hunt        </td><td>1986-09-04        </td><td>left              </td><td>33                </td><td>183               </td><td>161               </td><td>76                </td><td>0                 </td><td>1                 </td><td>...               </td><td>76                </td><td>75                </td><td>78                </td><td>14                </td><td> 7                </td><td> 9                </td><td>9                 </td><td>12                </td><td>74                </td><td>1                 </td></tr>\n",
       "</tbody>\n",
       "</table>\n"
      ],
      "text/latex": [
       "\\begin{tabular}{r|lllllllllllllllllllllllllllllllllllllllllllll}\n",
       " id & player\\_name & birthday & preferred\\_foot & age & height & weight & potential & right\\_foot & left\\_foot & ... & marking & standing\\_tackle & sliding\\_tackle & gk\\_diving & gk\\_handling & gk\\_kicking & gk\\_positioning & gk\\_reflexes & overall\\_rating & Label\\\\\n",
       "\\hline\n",
       "\t 1                  & Aaron Appindangoye & 1992-02-29         & right              & 27                 & 183                & 187                & 71                 & 1                  & 0                  & ...                & 65                 & 69                 & 69                 &  6                 & 11                 & 10                 & 8                  &  8                 & 67                 & 0                 \\\\\n",
       "\t 2                  & Aaron Cresswell    & 1989-12-15         & right              & 30                 & 170                & 146                & 71                 & 1                  & 0                  & ...                & 65                 & 69                 & 69                 &  6                 & 11                 & 10                 & 8                  &  8                 & 67                 & 0                 \\\\\n",
       "\t 3                  & Aaron Doran        & 1991-05-13         & right              & 28                 & 170                & 163                & 66                 & 1                  & 0                  & ...                & 65                 & 66                 & 69                 &  6                 & 11                 & 10                 & 8                  &  8                 & 62                 & 0                 \\\\\n",
       "\t 4                  & Aaron Galindo      & 1982-05-08         & right              & 37                 & 183                & 198                & 65                 & 1                  & 0                  & ...                & 62                 & 63                 & 66                 &  5                 & 10                 &  9                 & 7                  &  7                 & 61                 & 0                 \\\\\n",
       "\t 5                  & Aaron Hughes       & 1979-11-08         & right              & 40                 & 183                & 154                & 65                 & 1                  & 0                  & ...                & 62                 & 63                 & 66                 &  5                 & 10                 &  9                 & 7                  &  7                 & 61                 & 0                 \\\\\n",
       "\t 6                  & Aaron Hunt         & 1986-09-04         & left               & 33                 & 183                & 161                & 76                 & 0                  & 1                  & ...                & 76                 & 75                 & 78                 & 14                 &  7                 &  9                 & 9                  & 12                 & 74                 & 1                 \\\\\n",
       "\\end{tabular}\n"
      ],
      "text/markdown": [
       "\n",
       "| id | player_name | birthday | preferred_foot | age | height | weight | potential | right_foot | left_foot | ... | marking | standing_tackle | sliding_tackle | gk_diving | gk_handling | gk_kicking | gk_positioning | gk_reflexes | overall_rating | Label |\n",
       "|---|---|---|---|---|---|---|---|---|---|---|---|---|---|---|---|---|---|---|---|---|\n",
       "| 1                  | Aaron Appindangoye | 1992-02-29         | right              | 27                 | 183                | 187                | 71                 | 1                  | 0                  | ...                | 65                 | 69                 | 69                 |  6                 | 11                 | 10                 | 8                  |  8                 | 67                 | 0                  |\n",
       "| 2                  | Aaron Cresswell    | 1989-12-15         | right              | 30                 | 170                | 146                | 71                 | 1                  | 0                  | ...                | 65                 | 69                 | 69                 |  6                 | 11                 | 10                 | 8                  |  8                 | 67                 | 0                  |\n",
       "| 3                  | Aaron Doran        | 1991-05-13         | right              | 28                 | 170                | 163                | 66                 | 1                  | 0                  | ...                | 65                 | 66                 | 69                 |  6                 | 11                 | 10                 | 8                  |  8                 | 62                 | 0                  |\n",
       "| 4                  | Aaron Galindo      | 1982-05-08         | right              | 37                 | 183                | 198                | 65                 | 1                  | 0                  | ...                | 62                 | 63                 | 66                 |  5                 | 10                 |  9                 | 7                  |  7                 | 61                 | 0                  |\n",
       "| 5                  | Aaron Hughes       | 1979-11-08         | right              | 40                 | 183                | 154                | 65                 | 1                  | 0                  | ...                | 62                 | 63                 | 66                 |  5                 | 10                 |  9                 | 7                  |  7                 | 61                 | 0                  |\n",
       "| 6                  | Aaron Hunt         | 1986-09-04         | left               | 33                 | 183                | 161                | 76                 | 0                  | 1                  | ...                | 76                 | 75                 | 78                 | 14                 |  7                 |  9                 | 9                  | 12                 | 74                 | 1                  |\n",
       "\n"
      ],
      "text/plain": [
       "  id player_name        birthday   preferred_foot age height weight potential\n",
       "1 1  Aaron Appindangoye 1992-02-29 right          27  183    187    71       \n",
       "2 2  Aaron Cresswell    1989-12-15 right          30  170    146    71       \n",
       "3 3  Aaron Doran        1991-05-13 right          28  170    163    66       \n",
       "4 4  Aaron Galindo      1982-05-08 right          37  183    198    65       \n",
       "5 5  Aaron Hughes       1979-11-08 right          40  183    154    65       \n",
       "6 6  Aaron Hunt         1986-09-04 left           33  183    161    76       \n",
       "  right_foot left_foot ... marking standing_tackle sliding_tackle gk_diving\n",
       "1 1          0         ... 65      69              69              6       \n",
       "2 1          0         ... 65      69              69              6       \n",
       "3 1          0         ... 65      66              69              6       \n",
       "4 1          0         ... 62      63              66              5       \n",
       "5 1          0         ... 62      63              66              5       \n",
       "6 0          1         ... 76      75              78             14       \n",
       "  gk_handling gk_kicking gk_positioning gk_reflexes overall_rating Label\n",
       "1 11          10         8               8          67             0    \n",
       "2 11          10         8               8          67             0    \n",
       "3 11          10         8               8          62             0    \n",
       "4 10           9         7               7          61             0    \n",
       "5 10           9         7               7          61             0    \n",
       "6  7           9         9              12          74             1    "
      ]
     },
     "metadata": {},
     "output_type": "display_data"
    }
   ],
   "source": [
    "df<-read.csv('d:/data/soccer/player.csv')\n",
    "head(df)"
   ]
  },
  {
   "cell_type": "code",
   "execution_count": 2,
   "metadata": {},
   "outputs": [
    {
     "name": "stderr",
     "output_type": "stream",
     "text": [
      "Warning message:\n",
      "\"package 'dplyr' was built under R version 3.6.2\"\n",
      "Attaching package: 'dplyr'\n",
      "\n",
      "The following objects are masked from 'package:stats':\n",
      "\n",
      "    filter, lag\n",
      "\n",
      "The following objects are masked from 'package:base':\n",
      "\n",
      "    intersect, setdiff, setequal, union\n",
      "\n"
     ]
    },
    {
     "data": {
      "text/html": [
       "<ol class=list-inline>\n",
       "\t<li>10935</li>\n",
       "\t<li>40</li>\n",
       "</ol>\n"
      ],
      "text/latex": [
       "\\begin{enumerate*}\n",
       "\\item 10935\n",
       "\\item 40\n",
       "\\end{enumerate*}\n"
      ],
      "text/markdown": [
       "1. 10935\n",
       "2. 40\n",
       "\n",
       "\n"
      ],
      "text/plain": [
       "[1] 10935    40"
      ]
     },
     "metadata": {},
     "output_type": "display_data"
    },
    {
     "data": {
      "text/html": [
       "<table>\n",
       "<thead><tr><th scope=col>age</th><th scope=col>height</th><th scope=col>weight</th><th scope=col>potential</th><th scope=col>right_foot</th><th scope=col>left_foot</th><th scope=col>crossing</th><th scope=col>finishing</th><th scope=col>heading_accuracy</th><th scope=col>short_passing</th><th scope=col>...</th><th scope=col>penalties</th><th scope=col>marking</th><th scope=col>standing_tackle</th><th scope=col>sliding_tackle</th><th scope=col>gk_diving</th><th scope=col>gk_handling</th><th scope=col>gk_kicking</th><th scope=col>gk_positioning</th><th scope=col>gk_reflexes</th><th scope=col>Label</th></tr></thead>\n",
       "<tbody>\n",
       "\t<tr><td>27 </td><td>183</td><td>187</td><td>71 </td><td>1  </td><td>0  </td><td>49 </td><td>44 </td><td>71 </td><td>61 </td><td>...</td><td>48 </td><td>65 </td><td>69 </td><td>69 </td><td> 6 </td><td>11 </td><td>10 </td><td>8  </td><td> 8 </td><td>0  </td></tr>\n",
       "\t<tr><td>30 </td><td>170</td><td>146</td><td>71 </td><td>1  </td><td>0  </td><td>49 </td><td>44 </td><td>71 </td><td>61 </td><td>...</td><td>48 </td><td>65 </td><td>69 </td><td>69 </td><td> 6 </td><td>11 </td><td>10 </td><td>8  </td><td> 8 </td><td>0  </td></tr>\n",
       "\t<tr><td>28 </td><td>170</td><td>163</td><td>66 </td><td>1  </td><td>0  </td><td>49 </td><td>44 </td><td>71 </td><td>61 </td><td>...</td><td>48 </td><td>65 </td><td>66 </td><td>69 </td><td> 6 </td><td>11 </td><td>10 </td><td>8  </td><td> 8 </td><td>0  </td></tr>\n",
       "\t<tr><td>37 </td><td>183</td><td>198</td><td>65 </td><td>1  </td><td>0  </td><td>48 </td><td>43 </td><td>70 </td><td>60 </td><td>...</td><td>47 </td><td>62 </td><td>63 </td><td>66 </td><td> 5 </td><td>10 </td><td> 9 </td><td>7  </td><td> 7 </td><td>0  </td></tr>\n",
       "\t<tr><td>40 </td><td>183</td><td>154</td><td>65 </td><td>1  </td><td>0  </td><td>48 </td><td>43 </td><td>70 </td><td>60 </td><td>...</td><td>47 </td><td>62 </td><td>63 </td><td>66 </td><td> 5 </td><td>10 </td><td> 9 </td><td>7  </td><td> 7 </td><td>0  </td></tr>\n",
       "\t<tr><td>33 </td><td>183</td><td>161</td><td>76 </td><td>0  </td><td>1  </td><td>80 </td><td>53 </td><td>58 </td><td>71 </td><td>...</td><td>59 </td><td>76 </td><td>75 </td><td>78 </td><td>14 </td><td> 7 </td><td> 9 </td><td>9  </td><td>12 </td><td>1  </td></tr>\n",
       "</tbody>\n",
       "</table>\n"
      ],
      "text/latex": [
       "\\begin{tabular}{r|llllllllllllllllllllllllllllllllllllllll}\n",
       " age & height & weight & potential & right\\_foot & left\\_foot & crossing & finishing & heading\\_accuracy & short\\_passing & ... & penalties & marking & standing\\_tackle & sliding\\_tackle & gk\\_diving & gk\\_handling & gk\\_kicking & gk\\_positioning & gk\\_reflexes & Label\\\\\n",
       "\\hline\n",
       "\t 27  & 183 & 187 & 71  & 1   & 0   & 49  & 44  & 71  & 61  & ... & 48  & 65  & 69  & 69  &  6  & 11  & 10  & 8   &  8  & 0  \\\\\n",
       "\t 30  & 170 & 146 & 71  & 1   & 0   & 49  & 44  & 71  & 61  & ... & 48  & 65  & 69  & 69  &  6  & 11  & 10  & 8   &  8  & 0  \\\\\n",
       "\t 28  & 170 & 163 & 66  & 1   & 0   & 49  & 44  & 71  & 61  & ... & 48  & 65  & 66  & 69  &  6  & 11  & 10  & 8   &  8  & 0  \\\\\n",
       "\t 37  & 183 & 198 & 65  & 1   & 0   & 48  & 43  & 70  & 60  & ... & 47  & 62  & 63  & 66  &  5  & 10  &  9  & 7   &  7  & 0  \\\\\n",
       "\t 40  & 183 & 154 & 65  & 1   & 0   & 48  & 43  & 70  & 60  & ... & 47  & 62  & 63  & 66  &  5  & 10  &  9  & 7   &  7  & 0  \\\\\n",
       "\t 33  & 183 & 161 & 76  & 0   & 1   & 80  & 53  & 58  & 71  & ... & 59  & 76  & 75  & 78  & 14  &  7  &  9  & 9   & 12  & 1  \\\\\n",
       "\\end{tabular}\n"
      ],
      "text/markdown": [
       "\n",
       "| age | height | weight | potential | right_foot | left_foot | crossing | finishing | heading_accuracy | short_passing | ... | penalties | marking | standing_tackle | sliding_tackle | gk_diving | gk_handling | gk_kicking | gk_positioning | gk_reflexes | Label |\n",
       "|---|---|---|---|---|---|---|---|---|---|---|---|---|---|---|---|---|---|---|---|---|\n",
       "| 27  | 183 | 187 | 71  | 1   | 0   | 49  | 44  | 71  | 61  | ... | 48  | 65  | 69  | 69  |  6  | 11  | 10  | 8   |  8  | 0   |\n",
       "| 30  | 170 | 146 | 71  | 1   | 0   | 49  | 44  | 71  | 61  | ... | 48  | 65  | 69  | 69  |  6  | 11  | 10  | 8   |  8  | 0   |\n",
       "| 28  | 170 | 163 | 66  | 1   | 0   | 49  | 44  | 71  | 61  | ... | 48  | 65  | 66  | 69  |  6  | 11  | 10  | 8   |  8  | 0   |\n",
       "| 37  | 183 | 198 | 65  | 1   | 0   | 48  | 43  | 70  | 60  | ... | 47  | 62  | 63  | 66  |  5  | 10  |  9  | 7   |  7  | 0   |\n",
       "| 40  | 183 | 154 | 65  | 1   | 0   | 48  | 43  | 70  | 60  | ... | 47  | 62  | 63  | 66  |  5  | 10  |  9  | 7   |  7  | 0   |\n",
       "| 33  | 183 | 161 | 76  | 0   | 1   | 80  | 53  | 58  | 71  | ... | 59  | 76  | 75  | 78  | 14  |  7  |  9  | 9   | 12  | 1   |\n",
       "\n"
      ],
      "text/plain": [
       "  age height weight potential right_foot left_foot crossing finishing\n",
       "1 27  183    187    71        1          0         49       44       \n",
       "2 30  170    146    71        1          0         49       44       \n",
       "3 28  170    163    66        1          0         49       44       \n",
       "4 37  183    198    65        1          0         48       43       \n",
       "5 40  183    154    65        1          0         48       43       \n",
       "6 33  183    161    76        0          1         80       53       \n",
       "  heading_accuracy short_passing ... penalties marking standing_tackle\n",
       "1 71               61            ... 48        65      69             \n",
       "2 71               61            ... 48        65      69             \n",
       "3 71               61            ... 48        65      66             \n",
       "4 70               60            ... 47        62      63             \n",
       "5 70               60            ... 47        62      63             \n",
       "6 58               71            ... 59        76      75             \n",
       "  sliding_tackle gk_diving gk_handling gk_kicking gk_positioning gk_reflexes\n",
       "1 69              6        11          10         8               8         \n",
       "2 69              6        11          10         8               8         \n",
       "3 69              6        11          10         8               8         \n",
       "4 66              5        10           9         7               7         \n",
       "5 66              5        10           9         7               7         \n",
       "6 78             14         7           9         9              12         \n",
       "  Label\n",
       "1 0    \n",
       "2 0    \n",
       "3 0    \n",
       "4 0    \n",
       "5 0    \n",
       "6 1    "
      ]
     },
     "metadata": {},
     "output_type": "display_data"
    }
   ],
   "source": [
    "library(dplyr)\n",
    "df<- df %>% select(-id,-player_name,-birthday,-preferred_foot,\n",
    "                  -overall_rating)\n",
    "dim(df)\n",
    "head(df)"
   ]
  },
  {
   "cell_type": "code",
   "execution_count": 5,
   "metadata": {},
   "outputs": [
    {
     "data": {
      "image/png": "[encoded data removed]",
      "text/plain": [
       "plot without title"
      ]
     },
     "metadata": {},
     "output_type": "display_data"
    }
   ],
   "source": [
    "#1.wss\n",
    "set.seed(123)\n",
    "result<-NULL\n",
    "for(k in 1:10){\n",
    "    result[[k]]<-kmeans(df[,-40],k)\n",
    "}\n",
    "wss<-numeric(10)\n",
    "for (k in 1:10){\n",
    "    wss[k]<-result[[k]]$tot.withinss\n",
    "}\n",
    "plot(wss,type='l') #엘보우 포인트 확인"
   ]
  },
  {
   "cell_type": "code",
   "execution_count": 7,
   "metadata": {},
   "outputs": [
    {
     "data": {
      "text/html": [
       "0.144641325881049"
      ],
      "text/latex": [
       "0.144641325881049"
      ],
      "text/markdown": [
       "0.144641325881049"
      ],
      "text/plain": [
       "[1] 0.1446413"
      ]
     },
     "metadata": {},
     "output_type": "display_data"
    },
    {
     "data": {
      "image/png": "[encoded data removed]",
      "text/plain": [
       "plot without title"
      ]
     },
     "metadata": {},
     "output_type": "display_data"
    }
   ],
   "source": [
    "#2.실루엣포인트\n",
    "library(cluster)\n",
    "avgsil<-numeric(10)\n",
    "for(k in 2:10){\n",
    "    si<-summary(silhouette(result[[k]]$cluster,dist(df[,-40])))\n",
    "    avgsil<-si$avg.width\n",
    "}\n",
    "max(avgsil)\n",
    "plot(avgsil,type='l') #실루엣 포인트가 최대인 k값 확인"
   ]
  },
  {
   "cell_type": "code",
   "execution_count": null,
   "metadata": {},
   "outputs": [
    {
     "name": "stderr",
     "output_type": "stream",
     "text": [
      "Warning message:\n",
      "\"package 'factoextra' was built under R version 3.6.2\"Loading required package: ggplot2\n",
      "Warning message:\n",
      "\"package 'ggplot2' was built under R version 3.6.2\"Welcome! Want to learn more? See two factoextra-related books at https://goo.gl/ve3WBa\n"
     ]
    }
   ],
   "source": [
    "library(factoextra)\n",
    "fviz_nbclust(df[,-40],FUN=kmeans,method='wss')\n",
    "fviz_nbclust(df[,-40],FUN=kmeans,method='silhouette')"
   ]
  },
  {
   "cell_type": "code",
   "execution_count": null,
   "metadata": {},
   "outputs": [],
   "source": [
    "#군집 갯수 3일 때의 산점도 행렬\n",
    "plot(df[,-40],pch=result[[3]]$cluster,col=result[[3]]$cluster)"
   ]
  },
  {
   "cell_type": "code",
   "execution_count": null,
   "metadata": {},
   "outputs": [],
   "source": [
    "#군집 갯수 2일 때의 산점도 행렬\n",
    "plot(df[,-40],pch=result[[2]]$cluster,col=result[[2]]$cluster)"
   ]
  },
  {
   "cell_type": "code",
   "execution_count": null,
   "metadata": {},
   "outputs": [],
   "source": [
    "#k=2일 대의 군집 모형\n",
    "set.seed(123)\n",
    "model<-kmeans(df[,-40],centers=2)\n",
    "model\n",
    "model$centers"
   ]
  },
  {
   "cell_type": "code",
   "execution_count": null,
   "metadata": {},
   "outputs": [],
   "source": [
    "head(model$cluster-1)\n",
    "head(df$Label)"
   ]
  },
  {
   "cell_type": "code",
   "execution_count": null,
   "metadata": {},
   "outputs": [],
   "source": [
    "#model$cluster =>1,2 숫자를 팩터 타입으로 변환\n",
    "df$cluster<-as.factor(model$cluster - 1)"
   ]
  },
  {
   "cell_type": "code",
   "execution_count": null,
   "metadata": {},
   "outputs": [],
   "source": [
    "#군집모형에서 예측한 값과 실제값이 다른 경우 아래 함수 사용\n",
    "convert<-function(i){\n",
    "    if(i==0){\n",
    "        return(\"l\")\n",
    "    }else if{i==1}{\n",
    "        return(\"0\")\n",
    "    }\n",
    "}\n",
    "# sapply(필드,함수) 샘플의 각 필드에 함수를 호출한 값\n",
    "result<-sapply(df$cluster,convert)"
   ]
  },
  {
   "cell_type": "code",
   "execution_count": null,
   "metadata": {},
   "outputs": [],
   "source": [
    "head(df$cluster)\n",
    "head(result)"
   ]
  },
  {
   "cell_type": "code",
   "execution_count": null,
   "metadata": {},
   "outputs": [],
   "source": [
    "#실제값과 예측값 비교\n",
    "\n",
    "# table(df$Label,df$cluster)\n",
    "# mean(df$Label==df$cluster)\n",
    "table(df$Label,df$result)\n",
    "mean(df$Label==df$result)"
   ]
  },
  {
   "cell_type": "code",
   "execution_count": null,
   "metadata": {},
   "outputs": [],
   "source": []
  }
 ],
 "metadata": {
  "kernelspec": {
   "display_name": "R",
   "language": "R",
   "name": "ir"
  },
  "language_info": {
   "codemirror_mode": "r",
   "file_extension": ".r",
   "mimetype": "text/x-r-source",
   "name": "R",
   "pygments_lexer": "r",
   "version": "3.6.1"
  }
 },
 "nbformat": 4,
 "nbformat_minor": 2
}
