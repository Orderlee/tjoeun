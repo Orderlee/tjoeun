{
 "cells": [
  {
   "cell_type": "code",
   "execution_count": 6,
   "metadata": {},
   "outputs": [
    {
     "data": {
      "text/html": [
       "<table>\n",
       "<thead><tr><th scope=col>Total.Volume</th><th scope=col>Total.Bags</th><th scope=col>Small.Bags</th><th scope=col>Large.Bags</th><th scope=col>XLarge.Bags</th><th scope=col>conventional</th><th scope=col>organic</th><th scope=col>AveragePrice</th><th scope=col>Label</th></tr></thead>\n",
       "<tbody>\n",
       "\t<tr><td>29913744 </td><td>9987522  </td><td>6837126.1</td><td>2911554.5</td><td>238841.36</td><td>1        </td><td>0        </td><td>1.41     </td><td>1        </td></tr>\n",
       "\t<tr><td>28785280 </td><td>8944923  </td><td>6592504.0</td><td>2117565.5</td><td>234853.10</td><td>1        </td><td>0        </td><td>1.47     </td><td>1        </td></tr>\n",
       "\t<tr><td>26808411 </td><td>7926179  </td><td>5851814.5</td><td>1855970.2</td><td>218394.57</td><td>1        </td><td>0        </td><td>1.57     </td><td>1        </td></tr>\n",
       "\t<tr><td>26385081 </td><td>8027435  </td><td>6035666.2</td><td>1818832.5</td><td>172936.77</td><td>1        </td><td>0        </td><td>1.56     </td><td>1        </td></tr>\n",
       "\t<tr><td> 3357719 </td><td>1256272  </td><td> 832554.7</td><td> 340048.8</td><td> 83668.14</td><td>1        </td><td>0        </td><td>1.42     </td><td>1        </td></tr>\n",
       "\t<tr><td>25394903 </td><td>7496232  </td><td>5494163.7</td><td>1923561.4</td><td> 78506.59</td><td>1        </td><td>0        </td><td>1.57     </td><td>1        </td></tr>\n",
       "</tbody>\n",
       "</table>\n"
      ],
      "text/latex": [
       "\\begin{tabular}{r|lllllllll}\n",
       " Total.Volume & Total.Bags & Small.Bags & Large.Bags & XLarge.Bags & conventional & organic & AveragePrice & Label\\\\\n",
       "\\hline\n",
       "\t 29913744  & 9987522   & 6837126.1 & 2911554.5 & 238841.36 & 1         & 0         & 1.41      & 1        \\\\\n",
       "\t 28785280  & 8944923   & 6592504.0 & 2117565.5 & 234853.10 & 1         & 0         & 1.47      & 1        \\\\\n",
       "\t 26808411  & 7926179   & 5851814.5 & 1855970.2 & 218394.57 & 1         & 0         & 1.57      & 1        \\\\\n",
       "\t 26385081  & 8027435   & 6035666.2 & 1818832.5 & 172936.77 & 1         & 0         & 1.56      & 1        \\\\\n",
       "\t  3357719  & 1256272   &  832554.7 &  340048.8 &  83668.14 & 1         & 0         & 1.42      & 1        \\\\\n",
       "\t 25394903  & 7496232   & 5494163.7 & 1923561.4 &  78506.59 & 1         & 0         & 1.57      & 1        \\\\\n",
       "\\end{tabular}\n"
      ],
      "text/markdown": [
       "\n",
       "| Total.Volume | Total.Bags | Small.Bags | Large.Bags | XLarge.Bags | conventional | organic | AveragePrice | Label |\n",
       "|---|---|---|---|---|---|---|---|---|\n",
       "| 29913744  | 9987522   | 6837126.1 | 2911554.5 | 238841.36 | 1         | 0         | 1.41      | 1         |\n",
       "| 28785280  | 8944923   | 6592504.0 | 2117565.5 | 234853.10 | 1         | 0         | 1.47      | 1         |\n",
       "| 26808411  | 7926179   | 5851814.5 | 1855970.2 | 218394.57 | 1         | 0         | 1.57      | 1         |\n",
       "| 26385081  | 8027435   | 6035666.2 | 1818832.5 | 172936.77 | 1         | 0         | 1.56      | 1         |\n",
       "|  3357719  | 1256272   |  832554.7 |  340048.8 |  83668.14 | 1         | 0         | 1.42      | 1         |\n",
       "| 25394903  | 7496232   | 5494163.7 | 1923561.4 |  78506.59 | 1         | 0         | 1.57      | 1         |\n",
       "\n"
      ],
      "text/plain": [
       "  Total.Volume Total.Bags Small.Bags Large.Bags XLarge.Bags conventional\n",
       "1 29913744     9987522    6837126.1  2911554.5  238841.36   1           \n",
       "2 28785280     8944923    6592504.0  2117565.5  234853.10   1           \n",
       "3 26808411     7926179    5851814.5  1855970.2  218394.57   1           \n",
       "4 26385081     8027435    6035666.2  1818832.5  172936.77   1           \n",
       "5  3357719     1256272     832554.7   340048.8   83668.14   1           \n",
       "6 25394903     7496232    5494163.7  1923561.4   78506.59   1           \n",
       "  organic AveragePrice Label\n",
       "1 0       1.41         1    \n",
       "2 0       1.47         1    \n",
       "3 0       1.57         1    \n",
       "4 0       1.56         1    \n",
       "5 0       1.42         1    \n",
       "6 0       1.57         1    "
      ]
     },
     "metadata": {},
     "output_type": "display_data"
    }
   ],
   "source": [
    "df<-read.csv('d:/data/avocado/avocado.csv')\n",
    "head(df)"
   ]
  },
  {
   "cell_type": "code",
   "execution_count": 7,
   "metadata": {},
   "outputs": [
    {
     "data": {
      "text/html": [
       "<table>\n",
       "<thead><tr><th scope=col>Total.Volume</th><th scope=col>Total.Bags</th><th scope=col>Small.Bags</th><th scope=col>Large.Bags</th><th scope=col>XLarge.Bags</th><th scope=col>conventional</th><th scope=col>organic</th><th scope=col>Label</th></tr></thead>\n",
       "<tbody>\n",
       "\t<tr><td>29913744 </td><td>9987522  </td><td>6837126.1</td><td>2911554.5</td><td>238841.36</td><td>1        </td><td>0        </td><td>1        </td></tr>\n",
       "\t<tr><td>28785280 </td><td>8944923  </td><td>6592504.0</td><td>2117565.5</td><td>234853.10</td><td>1        </td><td>0        </td><td>1        </td></tr>\n",
       "\t<tr><td>26808411 </td><td>7926179  </td><td>5851814.5</td><td>1855970.2</td><td>218394.57</td><td>1        </td><td>0        </td><td>1        </td></tr>\n",
       "\t<tr><td>26385081 </td><td>8027435  </td><td>6035666.2</td><td>1818832.5</td><td>172936.77</td><td>1        </td><td>0        </td><td>1        </td></tr>\n",
       "\t<tr><td> 3357719 </td><td>1256272  </td><td> 832554.7</td><td> 340048.8</td><td> 83668.14</td><td>1        </td><td>0        </td><td>1        </td></tr>\n",
       "\t<tr><td>25394903 </td><td>7496232  </td><td>5494163.7</td><td>1923561.4</td><td> 78506.59</td><td>1        </td><td>0        </td><td>1        </td></tr>\n",
       "</tbody>\n",
       "</table>\n"
      ],
      "text/latex": [
       "\\begin{tabular}{r|llllllll}\n",
       " Total.Volume & Total.Bags & Small.Bags & Large.Bags & XLarge.Bags & conventional & organic & Label\\\\\n",
       "\\hline\n",
       "\t 29913744  & 9987522   & 6837126.1 & 2911554.5 & 238841.36 & 1         & 0         & 1        \\\\\n",
       "\t 28785280  & 8944923   & 6592504.0 & 2117565.5 & 234853.10 & 1         & 0         & 1        \\\\\n",
       "\t 26808411  & 7926179   & 5851814.5 & 1855970.2 & 218394.57 & 1         & 0         & 1        \\\\\n",
       "\t 26385081  & 8027435   & 6035666.2 & 1818832.5 & 172936.77 & 1         & 0         & 1        \\\\\n",
       "\t  3357719  & 1256272   &  832554.7 &  340048.8 &  83668.14 & 1         & 0         & 1        \\\\\n",
       "\t 25394903  & 7496232   & 5494163.7 & 1923561.4 &  78506.59 & 1         & 0         & 1        \\\\\n",
       "\\end{tabular}\n"
      ],
      "text/markdown": [
       "\n",
       "| Total.Volume | Total.Bags | Small.Bags | Large.Bags | XLarge.Bags | conventional | organic | Label |\n",
       "|---|---|---|---|---|---|---|---|\n",
       "| 29913744  | 9987522   | 6837126.1 | 2911554.5 | 238841.36 | 1         | 0         | 1         |\n",
       "| 28785280  | 8944923   | 6592504.0 | 2117565.5 | 234853.10 | 1         | 0         | 1         |\n",
       "| 26808411  | 7926179   | 5851814.5 | 1855970.2 | 218394.57 | 1         | 0         | 1         |\n",
       "| 26385081  | 8027435   | 6035666.2 | 1818832.5 | 172936.77 | 1         | 0         | 1         |\n",
       "|  3357719  | 1256272   |  832554.7 |  340048.8 |  83668.14 | 1         | 0         | 1         |\n",
       "| 25394903  | 7496232   | 5494163.7 | 1923561.4 |  78506.59 | 1         | 0         | 1         |\n",
       "\n"
      ],
      "text/plain": [
       "  Total.Volume Total.Bags Small.Bags Large.Bags XLarge.Bags conventional\n",
       "1 29913744     9987522    6837126.1  2911554.5  238841.36   1           \n",
       "2 28785280     8944923    6592504.0  2117565.5  234853.10   1           \n",
       "3 26808411     7926179    5851814.5  1855970.2  218394.57   1           \n",
       "4 26385081     8027435    6035666.2  1818832.5  172936.77   1           \n",
       "5  3357719     1256272     832554.7   340048.8   83668.14   1           \n",
       "6 25394903     7496232    5494163.7  1923561.4   78506.59   1           \n",
       "  organic Label\n",
       "1 0       1    \n",
       "2 0       1    \n",
       "3 0       1    \n",
       "4 0       1    \n",
       "5 0       1    \n",
       "6 0       1    "
      ]
     },
     "metadata": {},
     "output_type": "display_data"
    },
    {
     "data": {
      "text/html": [
       "<ol class=list-inline>\n",
       "\t<li>18249</li>\n",
       "\t<li>8</li>\n",
       "</ol>\n"
      ],
      "text/latex": [
       "\\begin{enumerate*}\n",
       "\\item 18249\n",
       "\\item 8\n",
       "\\end{enumerate*}\n"
      ],
      "text/markdown": [
       "1. 18249\n",
       "2. 8\n",
       "\n",
       "\n"
      ],
      "text/plain": [
       "[1] 18249     8"
      ]
     },
     "metadata": {},
     "output_type": "display_data"
    }
   ],
   "source": [
    "library(dplyr)\n",
    "df<-df %>% select(-AveragePrice)\n",
    "head(df)\n",
    "dim(df)"
   ]
  },
  {
   "cell_type": "code",
   "execution_count": 8,
   "metadata": {},
   "outputs": [
    {
     "data": {
      "text/plain": [
       "\n",
       "   0    1 \n",
       "9662 8587 "
      ]
     },
     "metadata": {},
     "output_type": "display_data"
    },
    {
     "data": {
      "image/png": "[encoded data removed]",
      "text/plain": [
       "plot without title"
      ]
     },
     "metadata": {},
     "output_type": "display_data"
    }
   ],
   "source": [
    "(tbl<-table(df$Label))\n",
    "barplot(tbl,beside=T,legend=T,col=rainbow(2)) #카운트 플롯"
   ]
  },
  {
   "cell_type": "code",
   "execution_count": 10,
   "metadata": {},
   "outputs": [
    {
     "data": {
      "text/plain": [
       "\n",
       "   0    1 \n",
       "8587 8587 "
      ]
     },
     "metadata": {},
     "output_type": "display_data"
    }
   ],
   "source": [
    "library(ROSE)\n",
    "df_samp<-ovun.sample(Label~., data=df, seed=1, method='under',\n",
    "                    N=8587*2)$data\n",
    "(tbl<-table(df_samp$Label))"
   ]
  },
  {
   "cell_type": "code",
   "execution_count": 12,
   "metadata": {},
   "outputs": [],
   "source": [
    "library(caret)\n",
    "set.seed(19000)\n",
    "idx_train<-createDataPartition(y=df$Label, p=0.8,list=F)\n",
    "train<-df[idx_train,]\n",
    "X_train<-train[,-8]\n",
    "y_train<-train[,8]\n",
    "test<-df[-idx_train,]\n",
    "X_test<-test[,-8]\n",
    "y_test<-test[,8]"
   ]
  },
  {
   "cell_type": "code",
   "execution_count": 16,
   "metadata": {},
   "outputs": [
    {
     "data": {
      "text/html": [
       "<table>\n",
       "<thead><tr><th></th><th scope=col>k</th><th scope=col>accuracy</th></tr></thead>\n",
       "<tbody>\n",
       "\t<tr><th scope=row>7</th><td>7        </td><td>0.7969307</td></tr>\n",
       "</tbody>\n",
       "</table>\n"
      ],
      "text/latex": [
       "\\begin{tabular}{r|ll}\n",
       "  & k & accuracy\\\\\n",
       "\\hline\n",
       "\t7 & 7         & 0.7969307\\\\\n",
       "\\end{tabular}\n"
      ],
      "text/markdown": [
       "\n",
       "| <!--/--> | k | accuracy |\n",
       "|---|---|---|\n",
       "| 7 | 7         | 0.7969307 |\n",
       "\n"
      ],
      "text/plain": [
       "  k accuracy \n",
       "7 7 0.7969307"
      ]
     },
     "metadata": {},
     "output_type": "display_data"
    },
    {
     "data": {
      "image/png": "[encoded data removed]",
      "text/plain": [
       "Plot with title \"최적의 k값\""
      ]
     },
     "metadata": {},
     "output_type": "display_data"
    }
   ],
   "source": [
    "library(class)\n",
    "acc<-NULL\n",
    "for ( i in c(1:10)){\n",
    "    set.seed(19000)\n",
    "    pred=knn(train=train,test=test,cl=y_train,k=i)\n",
    "    acc<-c(acc,mean(y_test == pred))\n",
    "}\n",
    "df<-data.frame(k=c(1:10), accuracy=acc)\n",
    "plot(accuracy ~ k , data=df, type='o',pch=20, main='최적의 k값',\n",
    "    ylim=c(0,1),col='red')\n",
    "with(df,text(accuracy ~ k, labels=c(1:10),pos=1,cex=0.7))\n",
    "n<-min(df[df$accuracy %in% max(acc),'k'])\n",
    "df[n,]"
   ]
  },
  {
   "cell_type": "code",
   "execution_count": 17,
   "metadata": {},
   "outputs": [
    {
     "data": {
      "text/plain": [
       "      pred\n",
       "y_test    0    1\n",
       "     0 1564  358\n",
       "     1  383 1344"
      ]
     },
     "metadata": {},
     "output_type": "display_data"
    },
    {
     "data": {
      "text/html": [
       "0.796930665935873"
      ],
      "text/latex": [
       "0.796930665935873"
      ],
      "text/markdown": [
       "0.796930665935873"
      ],
      "text/plain": [
       "[1] 0.7969307"
      ]
     },
     "metadata": {},
     "output_type": "display_data"
    }
   ],
   "source": [
    "library(class)\n",
    "set.seed(19000)\n",
    "pred<-knn(train=train, test=test, cl=y_train, k=n)\n",
    "table(y_test,pred)\n",
    "mean(y_test==pred)"
   ]
  },
  {
   "cell_type": "code",
   "execution_count": null,
   "metadata": {},
   "outputs": [],
   "source": []
  },
  {
   "cell_type": "code",
   "execution_count": null,
   "metadata": {},
   "outputs": [],
   "source": []
  },
  {
   "cell_type": "code",
   "execution_count": null,
   "metadata": {},
   "outputs": [],
   "source": []
  }
 ],
 "metadata": {
  "kernelspec": {
   "display_name": "R",
   "language": "R",
   "name": "ir"
  },
  "language_info": {
   "codemirror_mode": "r",
   "file_extension": ".r",
   "mimetype": "text/x-r-source",
   "name": "R",
   "pygments_lexer": "r",
   "version": "3.6.1"
  }
 },
 "nbformat": 4,
 "nbformat_minor": 2
}
