{
 "cells": [
  {
   "cell_type": "code",
   "execution_count": 8,
   "metadata": {},
   "outputs": [
    {
     "data": {
      "text/html": [
       "<table>\n",
       "<thead><tr><th scope=col>sepal.length..cm.</th><th scope=col>sepal.width..cm.</th><th scope=col>petal.length..cm.</th><th scope=col>petal.width..cm.</th><th scope=col>target</th><th scope=col>Result</th></tr></thead>\n",
       "<tbody>\n",
       "\t<tr><td>5.1   </td><td>3.5   </td><td>1.4   </td><td>0.2   </td><td>setosa</td><td>0     </td></tr>\n",
       "\t<tr><td>4.9   </td><td>3.0   </td><td>1.4   </td><td>0.2   </td><td>setosa</td><td>0     </td></tr>\n",
       "\t<tr><td>4.7   </td><td>3.2   </td><td>1.3   </td><td>0.2   </td><td>setosa</td><td>0     </td></tr>\n",
       "\t<tr><td>4.6   </td><td>3.1   </td><td>1.5   </td><td>0.2   </td><td>setosa</td><td>0     </td></tr>\n",
       "\t<tr><td>5.0   </td><td>3.6   </td><td>1.4   </td><td>0.2   </td><td>setosa</td><td>0     </td></tr>\n",
       "\t<tr><td>5.4   </td><td>3.9   </td><td>1.7   </td><td>0.4   </td><td>setosa</td><td>0     </td></tr>\n",
       "</tbody>\n",
       "</table>\n"
      ],
      "text/latex": [
       "\\begin{tabular}{r|llllll}\n",
       " sepal.length..cm. & sepal.width..cm. & petal.length..cm. & petal.width..cm. & target & Result\\\\\n",
       "\\hline\n",
       "\t 5.1    & 3.5    & 1.4    & 0.2    & setosa & 0     \\\\\n",
       "\t 4.9    & 3.0    & 1.4    & 0.2    & setosa & 0     \\\\\n",
       "\t 4.7    & 3.2    & 1.3    & 0.2    & setosa & 0     \\\\\n",
       "\t 4.6    & 3.1    & 1.5    & 0.2    & setosa & 0     \\\\\n",
       "\t 5.0    & 3.6    & 1.4    & 0.2    & setosa & 0     \\\\\n",
       "\t 5.4    & 3.9    & 1.7    & 0.4    & setosa & 0     \\\\\n",
       "\\end{tabular}\n"
      ],
      "text/markdown": [
       "\n",
       "| sepal.length..cm. | sepal.width..cm. | petal.length..cm. | petal.width..cm. | target | Result |\n",
       "|---|---|---|---|---|---|\n",
       "| 5.1    | 3.5    | 1.4    | 0.2    | setosa | 0      |\n",
       "| 4.9    | 3.0    | 1.4    | 0.2    | setosa | 0      |\n",
       "| 4.7    | 3.2    | 1.3    | 0.2    | setosa | 0      |\n",
       "| 4.6    | 3.1    | 1.5    | 0.2    | setosa | 0      |\n",
       "| 5.0    | 3.6    | 1.4    | 0.2    | setosa | 0      |\n",
       "| 5.4    | 3.9    | 1.7    | 0.4    | setosa | 0      |\n",
       "\n"
      ],
      "text/plain": [
       "  sepal.length..cm. sepal.width..cm. petal.length..cm. petal.width..cm. target\n",
       "1 5.1               3.5              1.4               0.2              setosa\n",
       "2 4.9               3.0              1.4               0.2              setosa\n",
       "3 4.7               3.2              1.3               0.2              setosa\n",
       "4 4.6               3.1              1.5               0.2              setosa\n",
       "5 5.0               3.6              1.4               0.2              setosa\n",
       "6 5.4               3.9              1.7               0.4              setosa\n",
       "  Result\n",
       "1 0     \n",
       "2 0     \n",
       "3 0     \n",
       "4 0     \n",
       "5 0     \n",
       "6 0     "
      ]
     },
     "metadata": {},
     "output_type": "display_data"
    }
   ],
   "source": [
    "df<-read.csv('d:/data/iris/iris2.csv')\n",
    "head(df)"
   ]
  },
  {
   "cell_type": "code",
   "execution_count": 9,
   "metadata": {},
   "outputs": [
    {
     "data": {
      "text/html": [
       "<table>\n",
       "<thead><tr><th scope=col>sepal.length..cm.</th><th scope=col>sepal.width..cm.</th><th scope=col>petal.length..cm.</th><th scope=col>petal.width..cm.</th><th scope=col>Result</th></tr></thead>\n",
       "<tbody>\n",
       "\t<tr><td>5.1</td><td>3.5</td><td>1.4</td><td>0.2</td><td>0  </td></tr>\n",
       "\t<tr><td>4.9</td><td>3.0</td><td>1.4</td><td>0.2</td><td>0  </td></tr>\n",
       "\t<tr><td>4.7</td><td>3.2</td><td>1.3</td><td>0.2</td><td>0  </td></tr>\n",
       "\t<tr><td>4.6</td><td>3.1</td><td>1.5</td><td>0.2</td><td>0  </td></tr>\n",
       "\t<tr><td>5.0</td><td>3.6</td><td>1.4</td><td>0.2</td><td>0  </td></tr>\n",
       "\t<tr><td>5.4</td><td>3.9</td><td>1.7</td><td>0.4</td><td>0  </td></tr>\n",
       "</tbody>\n",
       "</table>\n"
      ],
      "text/latex": [
       "\\begin{tabular}{r|lllll}\n",
       " sepal.length..cm. & sepal.width..cm. & petal.length..cm. & petal.width..cm. & Result\\\\\n",
       "\\hline\n",
       "\t 5.1 & 3.5 & 1.4 & 0.2 & 0  \\\\\n",
       "\t 4.9 & 3.0 & 1.4 & 0.2 & 0  \\\\\n",
       "\t 4.7 & 3.2 & 1.3 & 0.2 & 0  \\\\\n",
       "\t 4.6 & 3.1 & 1.5 & 0.2 & 0  \\\\\n",
       "\t 5.0 & 3.6 & 1.4 & 0.2 & 0  \\\\\n",
       "\t 5.4 & 3.9 & 1.7 & 0.4 & 0  \\\\\n",
       "\\end{tabular}\n"
      ],
      "text/markdown": [
       "\n",
       "| sepal.length..cm. | sepal.width..cm. | petal.length..cm. | petal.width..cm. | Result |\n",
       "|---|---|---|---|---|\n",
       "| 5.1 | 3.5 | 1.4 | 0.2 | 0   |\n",
       "| 4.9 | 3.0 | 1.4 | 0.2 | 0   |\n",
       "| 4.7 | 3.2 | 1.3 | 0.2 | 0   |\n",
       "| 4.6 | 3.1 | 1.5 | 0.2 | 0   |\n",
       "| 5.0 | 3.6 | 1.4 | 0.2 | 0   |\n",
       "| 5.4 | 3.9 | 1.7 | 0.4 | 0   |\n",
       "\n"
      ],
      "text/plain": [
       "  sepal.length..cm. sepal.width..cm. petal.length..cm. petal.width..cm. Result\n",
       "1 5.1               3.5              1.4               0.2              0     \n",
       "2 4.9               3.0              1.4               0.2              0     \n",
       "3 4.7               3.2              1.3               0.2              0     \n",
       "4 4.6               3.1              1.5               0.2              0     \n",
       "5 5.0               3.6              1.4               0.2              0     \n",
       "6 5.4               3.9              1.7               0.4              0     "
      ]
     },
     "metadata": {},
     "output_type": "display_data"
    }
   ],
   "source": [
    "library(dplyr)\n",
    "df<-df %>% select(-target)\n",
    "head(df)"
   ]
  },
  {
   "cell_type": "code",
   "execution_count": 15,
   "metadata": {},
   "outputs": [
    {
     "data": {
      "text/html": [
       "<table>\n",
       "<thead><tr><th></th><th scope=col>sepal.length..cm.</th><th scope=col>sepal.width..cm.</th><th scope=col>petal.length..cm.</th><th scope=col>petal.width..cm.</th><th scope=col>Result</th></tr></thead>\n",
       "<tbody>\n",
       "\t<tr><th scope=row>3</th><td>4.7</td><td>3.2</td><td>1.3</td><td>0.2</td><td>0  </td></tr>\n",
       "\t<tr><th scope=row>4</th><td>4.6</td><td>3.1</td><td>1.5</td><td>0.2</td><td>0  </td></tr>\n",
       "\t<tr><th scope=row>5</th><td>5.0</td><td>3.6</td><td>1.4</td><td>0.2</td><td>0  </td></tr>\n",
       "\t<tr><th scope=row>6</th><td>5.4</td><td>3.9</td><td>1.7</td><td>0.4</td><td>0  </td></tr>\n",
       "\t<tr><th scope=row>7</th><td>4.6</td><td>3.4</td><td>1.4</td><td>0.3</td><td>0  </td></tr>\n",
       "\t<tr><th scope=row>8</th><td>5.0</td><td>3.4</td><td>1.5</td><td>0.2</td><td>0  </td></tr>\n",
       "</tbody>\n",
       "</table>\n"
      ],
      "text/latex": [
       "\\begin{tabular}{r|lllll}\n",
       "  & sepal.length..cm. & sepal.width..cm. & petal.length..cm. & petal.width..cm. & Result\\\\\n",
       "\\hline\n",
       "\t3 & 4.7 & 3.2 & 1.3 & 0.2 & 0  \\\\\n",
       "\t4 & 4.6 & 3.1 & 1.5 & 0.2 & 0  \\\\\n",
       "\t5 & 5.0 & 3.6 & 1.4 & 0.2 & 0  \\\\\n",
       "\t6 & 5.4 & 3.9 & 1.7 & 0.4 & 0  \\\\\n",
       "\t7 & 4.6 & 3.4 & 1.4 & 0.3 & 0  \\\\\n",
       "\t8 & 5.0 & 3.4 & 1.5 & 0.2 & 0  \\\\\n",
       "\\end{tabular}\n"
      ],
      "text/markdown": [
       "\n",
       "| <!--/--> | sepal.length..cm. | sepal.width..cm. | petal.length..cm. | petal.width..cm. | Result |\n",
       "|---|---|---|---|---|---|\n",
       "| 3 | 4.7 | 3.2 | 1.3 | 0.2 | 0   |\n",
       "| 4 | 4.6 | 3.1 | 1.5 | 0.2 | 0   |\n",
       "| 5 | 5.0 | 3.6 | 1.4 | 0.2 | 0   |\n",
       "| 6 | 5.4 | 3.9 | 1.7 | 0.4 | 0   |\n",
       "| 7 | 4.6 | 3.4 | 1.4 | 0.3 | 0   |\n",
       "| 8 | 5.0 | 3.4 | 1.5 | 0.2 | 0   |\n",
       "\n"
      ],
      "text/plain": [
       "  sepal.length..cm. sepal.width..cm. petal.length..cm. petal.width..cm. Result\n",
       "3 4.7               3.2              1.3               0.2              0     \n",
       "4 4.6               3.1              1.5               0.2              0     \n",
       "5 5.0               3.6              1.4               0.2              0     \n",
       "6 5.4               3.9              1.7               0.4              0     \n",
       "7 4.6               3.4              1.4               0.3              0     \n",
       "8 5.0               3.4              1.5               0.2              0     "
      ]
     },
     "metadata": {},
     "output_type": "display_data"
    },
    {
     "data": {
      "text/html": [
       "<table>\n",
       "<thead><tr><th></th><th scope=col>sepal.length..cm.</th><th scope=col>sepal.width..cm.</th><th scope=col>petal.length..cm.</th><th scope=col>petal.width..cm.</th><th scope=col>Result</th></tr></thead>\n",
       "<tbody>\n",
       "\t<tr><th scope=row>1</th><td>5.1</td><td>3.5</td><td>1.4</td><td>0.2</td><td>0  </td></tr>\n",
       "\t<tr><th scope=row>2</th><td>4.9</td><td>3.0</td><td>1.4</td><td>0.2</td><td>0  </td></tr>\n",
       "\t<tr><th scope=row>10</th><td>4.9</td><td>3.1</td><td>1.5</td><td>0.1</td><td>0  </td></tr>\n",
       "\t<tr><th scope=row>11</th><td>5.4</td><td>3.7</td><td>1.5</td><td>0.2</td><td>0  </td></tr>\n",
       "\t<tr><th scope=row>24</th><td>5.1</td><td>3.3</td><td>1.7</td><td>0.5</td><td>0  </td></tr>\n",
       "\t<tr><th scope=row>28</th><td>5.2</td><td>3.5</td><td>1.5</td><td>0.2</td><td>0  </td></tr>\n",
       "</tbody>\n",
       "</table>\n"
      ],
      "text/latex": [
       "\\begin{tabular}{r|lllll}\n",
       "  & sepal.length..cm. & sepal.width..cm. & petal.length..cm. & petal.width..cm. & Result\\\\\n",
       "\\hline\n",
       "\t1 & 5.1 & 3.5 & 1.4 & 0.2 & 0  \\\\\n",
       "\t2 & 4.9 & 3.0 & 1.4 & 0.2 & 0  \\\\\n",
       "\t10 & 4.9 & 3.1 & 1.5 & 0.1 & 0  \\\\\n",
       "\t11 & 5.4 & 3.7 & 1.5 & 0.2 & 0  \\\\\n",
       "\t24 & 5.1 & 3.3 & 1.7 & 0.5 & 0  \\\\\n",
       "\t28 & 5.2 & 3.5 & 1.5 & 0.2 & 0  \\\\\n",
       "\\end{tabular}\n"
      ],
      "text/markdown": [
       "\n",
       "| <!--/--> | sepal.length..cm. | sepal.width..cm. | petal.length..cm. | petal.width..cm. | Result |\n",
       "|---|---|---|---|---|---|\n",
       "| 1 | 5.1 | 3.5 | 1.4 | 0.2 | 0   |\n",
       "| 2 | 4.9 | 3.0 | 1.4 | 0.2 | 0   |\n",
       "| 10 | 4.9 | 3.1 | 1.5 | 0.1 | 0   |\n",
       "| 11 | 5.4 | 3.7 | 1.5 | 0.2 | 0   |\n",
       "| 24 | 5.1 | 3.3 | 1.7 | 0.5 | 0   |\n",
       "| 28 | 5.2 | 3.5 | 1.5 | 0.2 | 0   |\n",
       "\n"
      ],
      "text/plain": [
       "   sepal.length..cm. sepal.width..cm. petal.length..cm. petal.width..cm. Result\n",
       "1  5.1               3.5              1.4               0.2              0     \n",
       "2  4.9               3.0              1.4               0.2              0     \n",
       "10 4.9               3.1              1.5               0.1              0     \n",
       "11 5.4               3.7              1.5               0.2              0     \n",
       "24 5.1               3.3              1.7               0.5              0     \n",
       "28 5.2               3.5              1.5               0.2              0     "
      ]
     },
     "metadata": {},
     "output_type": "display_data"
    }
   ],
   "source": [
    "library(caret)\n",
    "set.seed(123)\n",
    "#학습용 80% 검증용 20%로 구분\n",
    "idx_train<-createDataPartition(y=df$Result, p=0.8,list=F)\n",
    "head(df[idx_train,])\n",
    "head(df[-idx_train,])\n",
    "train<-df[idx_train,] #학습용 데이터셋\n",
    "X_train<-train[,-5]\n",
    "y_train<-train[,5]\n",
    "test<-df[-idx_train,] #검증용 데이터셋\n",
    "X_test<-test[,-5]\n",
    "y_test<-test[,5]"
   ]
  },
  {
   "cell_type": "code",
   "execution_count": 16,
   "metadata": {},
   "outputs": [
    {
     "data": {
      "text/html": [
       "<table>\n",
       "<thead><tr><th></th><th scope=col>sepal.length..cm.</th><th scope=col>sepal.width..cm.</th><th scope=col>petal.length..cm.</th><th scope=col>petal.width..cm.</th><th scope=col>Result</th></tr></thead>\n",
       "<tbody>\n",
       "\t<tr><th scope=row>3</th><td>4.7</td><td>3.2</td><td>1.3</td><td>0.2</td><td>0  </td></tr>\n",
       "\t<tr><th scope=row>4</th><td>4.6</td><td>3.1</td><td>1.5</td><td>0.2</td><td>0  </td></tr>\n",
       "\t<tr><th scope=row>5</th><td>5.0</td><td>3.6</td><td>1.4</td><td>0.2</td><td>0  </td></tr>\n",
       "\t<tr><th scope=row>6</th><td>5.4</td><td>3.9</td><td>1.7</td><td>0.4</td><td>0  </td></tr>\n",
       "\t<tr><th scope=row>7</th><td>4.6</td><td>3.4</td><td>1.4</td><td>0.3</td><td>0  </td></tr>\n",
       "\t<tr><th scope=row>8</th><td>5.0</td><td>3.4</td><td>1.5</td><td>0.2</td><td>0  </td></tr>\n",
       "</tbody>\n",
       "</table>\n"
      ],
      "text/latex": [
       "\\begin{tabular}{r|lllll}\n",
       "  & sepal.length..cm. & sepal.width..cm. & petal.length..cm. & petal.width..cm. & Result\\\\\n",
       "\\hline\n",
       "\t3 & 4.7 & 3.2 & 1.3 & 0.2 & 0  \\\\\n",
       "\t4 & 4.6 & 3.1 & 1.5 & 0.2 & 0  \\\\\n",
       "\t5 & 5.0 & 3.6 & 1.4 & 0.2 & 0  \\\\\n",
       "\t6 & 5.4 & 3.9 & 1.7 & 0.4 & 0  \\\\\n",
       "\t7 & 4.6 & 3.4 & 1.4 & 0.3 & 0  \\\\\n",
       "\t8 & 5.0 & 3.4 & 1.5 & 0.2 & 0  \\\\\n",
       "\\end{tabular}\n"
      ],
      "text/markdown": [
       "\n",
       "| <!--/--> | sepal.length..cm. | sepal.width..cm. | petal.length..cm. | petal.width..cm. | Result |\n",
       "|---|---|---|---|---|---|\n",
       "| 3 | 4.7 | 3.2 | 1.3 | 0.2 | 0   |\n",
       "| 4 | 4.6 | 3.1 | 1.5 | 0.2 | 0   |\n",
       "| 5 | 5.0 | 3.6 | 1.4 | 0.2 | 0   |\n",
       "| 6 | 5.4 | 3.9 | 1.7 | 0.4 | 0   |\n",
       "| 7 | 4.6 | 3.4 | 1.4 | 0.3 | 0   |\n",
       "| 8 | 5.0 | 3.4 | 1.5 | 0.2 | 0   |\n",
       "\n"
      ],
      "text/plain": [
       "  sepal.length..cm. sepal.width..cm. petal.length..cm. petal.width..cm. Result\n",
       "3 4.7               3.2              1.3               0.2              0     \n",
       "4 4.6               3.1              1.5               0.2              0     \n",
       "5 5.0               3.6              1.4               0.2              0     \n",
       "6 5.4               3.9              1.7               0.4              0     \n",
       "7 4.6               3.4              1.4               0.3              0     \n",
       "8 5.0               3.4              1.5               0.2              0     "
      ]
     },
     "metadata": {},
     "output_type": "display_data"
    }
   ],
   "source": [
    "head(train)"
   ]
  },
  {
   "cell_type": "code",
   "execution_count": 11,
   "metadata": {},
   "outputs": [
    {
     "name": "stderr",
     "output_type": "stream",
     "text": [
      "Warning message:\n",
      "\"package 'party' was built under R version 3.6.2\"Loading required package: grid\n",
      "Loading required package: mvtnorm\n",
      "Warning message:\n",
      "\"package 'mvtnorm' was built under R version 3.6.2\"Loading required package: modeltools\n",
      "Loading required package: stats4\n",
      "Loading required package: strucchange\n",
      "Warning message:\n",
      "\"package 'strucchange' was built under R version 3.6.2\"Loading required package: zoo\n",
      "Warning message:\n",
      "\"package 'zoo' was built under R version 3.6.2\"\n",
      "Attaching package: 'zoo'\n",
      "\n",
      "The following objects are masked from 'package:base':\n",
      "\n",
      "    as.Date, as.Date.numeric\n",
      "\n",
      "Loading required package: sandwich\n",
      "Warning message:\n",
      "\"package 'sandwich' was built under R version 3.6.2\""
     ]
    },
    {
     "data": {
      "text/plain": [
       "\n",
       "\t Conditional inference tree with 4 terminal nodes\n",
       "\n",
       "Response:  Result \n",
       "Inputs:  sepal.length..cm., sepal.width..cm., petal.length..cm., petal.width..cm. \n",
       "Number of observations:  120 \n",
       "\n",
       "1) petal.length..cm. <= 1.9; criterion = 1, statistic = 48.922\n",
       "  2)*  weights = 39 \n",
       "1) petal.length..cm. > 1.9\n",
       "  3) petal.width..cm. <= 1.7; criterion = 1, statistic = 53.222\n",
       "    4) petal.length..cm. <= 4.8; criterion = 0.998, statistic = 12.379\n",
       "      5)*  weights = 36 \n",
       "    4) petal.length..cm. > 4.8\n",
       "      6)*  weights = 8 \n",
       "  3) petal.width..cm. > 1.7\n",
       "    7)*  weights = 37 "
      ]
     },
     "metadata": {},
     "output_type": "display_data"
    }
   ],
   "source": [
    "library(party)\n",
    "model<-ctree(Result ~ . , data=train) #의사결정나무 모형\n",
    "model"
   ]
  },
  {
   "cell_type": "code",
   "execution_count": 17,
   "metadata": {},
   "outputs": [
    {
     "data": {
      "image/png": "[encoded data removed]",
      "text/plain": [
       "plot without title"
      ]
     },
     "metadata": {},
     "output_type": "display_data"
    }
   ],
   "source": [
    "plot(model) #트리 그래프"
   ]
  },
  {
   "cell_type": "code",
   "execution_count": 18,
   "metadata": {},
   "outputs": [
    {
     "data": {
      "text/plain": [
       "       \n",
       "y_train  0  1  2\n",
       "      0 39  0  0\n",
       "      1  0 36  5\n",
       "      2  0  1 39"
      ]
     },
     "metadata": {},
     "output_type": "display_data"
    },
    {
     "data": {
      "text/html": [
       "0.95"
      ],
      "text/latex": [
       "0.95"
      ],
      "text/markdown": [
       "0.95"
      ],
      "text/plain": [
       "[1] 0.95"
      ]
     },
     "metadata": {},
     "output_type": "display_data"
    }
   ],
   "source": [
    "#학습용 데이터셋의 예측 정확도\n",
    "pred<-predict(model,newdata=X_train) #모형에서 예측한 값 (실수형)\n",
    "table(y_train,round(pred)) #오분류표\n",
    "mean(round(pred)==y_train) #예측정확도(모형의 성능)"
   ]
  },
  {
   "cell_type": "code",
   "execution_count": 20,
   "metadata": {},
   "outputs": [
    {
     "data": {
      "text/plain": [
       "      \n",
       "y_test  0  1  2\n",
       "     0 11  0  0\n",
       "     1  0  9  0\n",
       "     2  0  0 10"
      ]
     },
     "metadata": {},
     "output_type": "display_data"
    },
    {
     "data": {
      "text/html": [
       "1"
      ],
      "text/latex": [
       "1"
      ],
      "text/markdown": [
       "1"
      ],
      "text/plain": [
       "[1] 1"
      ]
     },
     "metadata": {},
     "output_type": "display_data"
    }
   ],
   "source": [
    "#검증용 데이터셋의 예측 정확도\n",
    "pred<-predict(model,newdata=X_test)\n",
    "table(y_test,round(pred))\n",
    "mean(round(pred)==y_test)"
   ]
  },
  {
   "cell_type": "code",
   "execution_count": 21,
   "metadata": {},
   "outputs": [
    {
     "name": "stderr",
     "output_type": "stream",
     "text": [
      "randomForest 4.6-14\n",
      "Type rfNews() to see new features/changes/bug fixes.\n",
      "\n",
      "Attaching package: 'randomForest'\n",
      "\n",
      "The following object is masked from 'package:ggplot2':\n",
      "\n",
      "    margin\n",
      "\n",
      "The following object is masked from 'package:dplyr':\n",
      "\n",
      "    combine\n",
      "\n",
      "Warning message in randomForest.default(m, y, ...):\n",
      "\"The response has five or fewer unique values.  Are you sure you want to do regression?\""
     ]
    },
    {
     "data": {
      "text/plain": [
       "\n",
       "Call:\n",
       " randomForest(formula = Result ~ ., data = train, mtry = floor(sqrt(ncol(train))),      tree = 100, importance = T) \n",
       "               Type of random forest: regression\n",
       "                     Number of trees: 500\n",
       "No. of variables tried at each split: 2\n",
       "\n",
       "          Mean of squared residuals: 0.0425697\n",
       "                    % Var explained: 93.53"
      ]
     },
     "metadata": {},
     "output_type": "display_data"
    }
   ],
   "source": [
    "library(randomForest)\n",
    "set.seed(1)\n",
    "#랜덤포레스트 모형 mtry 변수갯수, tree 트리갯수,\n",
    "#importance=T 특성중요도 사용\n",
    "model<-randomForest(Result ~ . , data=train,\n",
    "                    mtry=floor(sqrt(ncol(train))),tree=100,importance=T)\n",
    "model"
   ]
  },
  {
   "cell_type": "code",
   "execution_count": 22,
   "metadata": {},
   "outputs": [
    {
     "data": {
      "text/plain": [
       "       \n",
       "y_train  0  1  2\n",
       "      0 39  0  0\n",
       "      1  0 41  0\n",
       "      2  0  2 38"
      ]
     },
     "metadata": {},
     "output_type": "display_data"
    },
    {
     "data": {
      "text/html": [
       "0.983333333333333"
      ],
      "text/latex": [
       "0.983333333333333"
      ],
      "text/markdown": [
       "0.983333333333333"
      ],
      "text/plain": [
       "[1] 0.9833333"
      ]
     },
     "metadata": {},
     "output_type": "display_data"
    }
   ],
   "source": [
    "#학습용 데이터셋의 예측 정확도\n",
    "pred<-predict(model,newdata=X_train) #모형에서 예측한 값 (실수형)\n",
    "table(y_train,round(pred)) #오분류표\n",
    "mean(round(pred)==y_train) #예측정확도(모형의 성능)"
   ]
  },
  {
   "cell_type": "code",
   "execution_count": 23,
   "metadata": {},
   "outputs": [
    {
     "data": {
      "text/plain": [
       "      \n",
       "y_test  0  1  2\n",
       "     0 11  0  0\n",
       "     1  0  9  0\n",
       "     2  0  0 10"
      ]
     },
     "metadata": {},
     "output_type": "display_data"
    },
    {
     "data": {
      "text/html": [
       "1"
      ],
      "text/latex": [
       "1"
      ],
      "text/markdown": [
       "1"
      ],
      "text/plain": [
       "[1] 1"
      ]
     },
     "metadata": {},
     "output_type": "display_data"
    }
   ],
   "source": [
    "#검증용 데이터셋의 예측 정확도\n",
    "pred<-predict(model,newdata=X_test)\n",
    "table(y_test,round(pred))\n",
    "mean(round(pred)==y_test)"
   ]
  },
  {
   "cell_type": "code",
   "execution_count": 24,
   "metadata": {},
   "outputs": [
    {
     "data": {
      "text/html": [
       "<table>\n",
       "<thead><tr><th></th><th scope=col>%IncMSE</th><th scope=col>IncNodePurity</th></tr></thead>\n",
       "<tbody>\n",
       "\t<tr><th scope=row>sepal.length..cm.</th><td> 7.366655</td><td> 6.701575</td></tr>\n",
       "\t<tr><th scope=row>sepal.width..cm.</th><td> 5.891324</td><td> 3.028026</td></tr>\n",
       "\t<tr><th scope=row>petal.length..cm.</th><td>24.704671</td><td>31.992303</td></tr>\n",
       "\t<tr><th scope=row>petal.width..cm.</th><td>26.416615</td><td>35.761889</td></tr>\n",
       "</tbody>\n",
       "</table>\n"
      ],
      "text/latex": [
       "\\begin{tabular}{r|ll}\n",
       "  & \\%IncMSE & IncNodePurity\\\\\n",
       "\\hline\n",
       "\tsepal.length..cm. &  7.366655 &  6.701575\\\\\n",
       "\tsepal.width..cm. &  5.891324 &  3.028026\\\\\n",
       "\tpetal.length..cm. & 24.704671 & 31.992303\\\\\n",
       "\tpetal.width..cm. & 26.416615 & 35.761889\\\\\n",
       "\\end{tabular}\n"
      ],
      "text/markdown": [
       "\n",
       "| <!--/--> | %IncMSE | IncNodePurity |\n",
       "|---|---|---|\n",
       "| sepal.length..cm. |  7.366655 |  6.701575 |\n",
       "| sepal.width..cm. |  5.891324 |  3.028026 |\n",
       "| petal.length..cm. | 24.704671 | 31.992303 |\n",
       "| petal.width..cm. | 26.416615 | 35.761889 |\n",
       "\n"
      ],
      "text/plain": [
       "                  %IncMSE   IncNodePurity\n",
       "sepal.length..cm.  7.366655  6.701575    \n",
       "sepal.width..cm.   5.891324  3.028026    \n",
       "petal.length..cm. 24.704671 31.992303    \n",
       "petal.width..cm.  26.416615 35.761889    "
      ]
     },
     "metadata": {},
     "output_type": "display_data"
    }
   ],
   "source": [
    "importance(model) #정확도와 중요도"
   ]
  },
  {
   "cell_type": "code",
   "execution_count": 25,
   "metadata": {},
   "outputs": [
    {
     "data": {
      "image/png": "[encoded data removed]",
      "text/plain": [
       "plot without title"
      ]
     },
     "metadata": {},
     "output_type": "display_data"
    }
   ],
   "source": [
    "varImpPlot(model)"
   ]
  },
  {
   "cell_type": "code",
   "execution_count": null,
   "metadata": {},
   "outputs": [],
   "source": []
  }
 ],
 "metadata": {
  "kernelspec": {
   "display_name": "R",
   "language": "R",
   "name": "ir"
  },
  "language_info": {
   "codemirror_mode": "r",
   "file_extension": ".r",
   "mimetype": "text/x-r-source",
   "name": "R",
   "pygments_lexer": "r",
   "version": "3.6.1"
  }
 },
 "nbformat": 4,
 "nbformat_minor": 2
}
