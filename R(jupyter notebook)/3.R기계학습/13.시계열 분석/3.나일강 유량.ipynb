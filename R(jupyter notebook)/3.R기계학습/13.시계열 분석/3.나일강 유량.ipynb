{
 "cells": [
  {
   "cell_type": "code",
   "execution_count": 1,
   "metadata": {},
   "outputs": [
    {
     "data": {
      "text/html": [
       "<ol class=list-inline>\n",
       "\t<li>1120</li>\n",
       "\t<li>1160</li>\n",
       "\t<li>963</li>\n",
       "\t<li>1210</li>\n",
       "\t<li>1160</li>\n",
       "\t<li>1160</li>\n",
       "\t<li>813</li>\n",
       "\t<li>1230</li>\n",
       "\t<li>1370</li>\n",
       "\t<li>1140</li>\n",
       "\t<li>995</li>\n",
       "\t<li>935</li>\n",
       "\t<li>1110</li>\n",
       "\t<li>994</li>\n",
       "\t<li>1020</li>\n",
       "\t<li>960</li>\n",
       "\t<li>1180</li>\n",
       "\t<li>799</li>\n",
       "\t<li>958</li>\n",
       "\t<li>1140</li>\n",
       "\t<li>1100</li>\n",
       "\t<li>1210</li>\n",
       "\t<li>1150</li>\n",
       "\t<li>1250</li>\n",
       "\t<li>1260</li>\n",
       "\t<li>1220</li>\n",
       "\t<li>1030</li>\n",
       "\t<li>1100</li>\n",
       "\t<li>774</li>\n",
       "\t<li>840</li>\n",
       "\t<li>874</li>\n",
       "\t<li>694</li>\n",
       "\t<li>940</li>\n",
       "\t<li>833</li>\n",
       "\t<li>701</li>\n",
       "\t<li>916</li>\n",
       "\t<li>692</li>\n",
       "\t<li>1020</li>\n",
       "\t<li>1050</li>\n",
       "\t<li>969</li>\n",
       "\t<li>831</li>\n",
       "\t<li>726</li>\n",
       "\t<li>456</li>\n",
       "\t<li>824</li>\n",
       "\t<li>702</li>\n",
       "\t<li>1120</li>\n",
       "\t<li>1100</li>\n",
       "\t<li>832</li>\n",
       "\t<li>764</li>\n",
       "\t<li>821</li>\n",
       "\t<li>768</li>\n",
       "\t<li>845</li>\n",
       "\t<li>864</li>\n",
       "\t<li>862</li>\n",
       "\t<li>698</li>\n",
       "\t<li>845</li>\n",
       "\t<li>744</li>\n",
       "\t<li>796</li>\n",
       "\t<li>1040</li>\n",
       "\t<li>759</li>\n",
       "\t<li>781</li>\n",
       "\t<li>865</li>\n",
       "\t<li>845</li>\n",
       "\t<li>944</li>\n",
       "\t<li>984</li>\n",
       "\t<li>897</li>\n",
       "\t<li>822</li>\n",
       "\t<li>1010</li>\n",
       "\t<li>771</li>\n",
       "\t<li>676</li>\n",
       "\t<li>649</li>\n",
       "\t<li>846</li>\n",
       "\t<li>812</li>\n",
       "\t<li>742</li>\n",
       "\t<li>801</li>\n",
       "\t<li>1040</li>\n",
       "\t<li>860</li>\n",
       "\t<li>874</li>\n",
       "\t<li>848</li>\n",
       "\t<li>890</li>\n",
       "\t<li>744</li>\n",
       "\t<li>749</li>\n",
       "\t<li>838</li>\n",
       "\t<li>1050</li>\n",
       "\t<li>918</li>\n",
       "\t<li>986</li>\n",
       "\t<li>797</li>\n",
       "\t<li>923</li>\n",
       "\t<li>975</li>\n",
       "\t<li>815</li>\n",
       "\t<li>1020</li>\n",
       "\t<li>906</li>\n",
       "\t<li>901</li>\n",
       "\t<li>1170</li>\n",
       "\t<li>912</li>\n",
       "\t<li>746</li>\n",
       "\t<li>919</li>\n",
       "\t<li>718</li>\n",
       "\t<li>714</li>\n",
       "\t<li>740</li>\n",
       "</ol>\n"
      ],
      "text/latex": [
       "\\begin{enumerate*}\n",
       "\\item 1120\n",
       "\\item 1160\n",
       "\\item 963\n",
       "\\item 1210\n",
       "\\item 1160\n",
       "\\item 1160\n",
       "\\item 813\n",
       "\\item 1230\n",
       "\\item 1370\n",
       "\\item 1140\n",
       "\\item 995\n",
       "\\item 935\n",
       "\\item 1110\n",
       "\\item 994\n",
       "\\item 1020\n",
       "\\item 960\n",
       "\\item 1180\n",
       "\\item 799\n",
       "\\item 958\n",
       "\\item 1140\n",
       "\\item 1100\n",
       "\\item 1210\n",
       "\\item 1150\n",
       "\\item 1250\n",
       "\\item 1260\n",
       "\\item 1220\n",
       "\\item 1030\n",
       "\\item 1100\n",
       "\\item 774\n",
       "\\item 840\n",
       "\\item 874\n",
       "\\item 694\n",
       "\\item 940\n",
       "\\item 833\n",
       "\\item 701\n",
       "\\item 916\n",
       "\\item 692\n",
       "\\item 1020\n",
       "\\item 1050\n",
       "\\item 969\n",
       "\\item 831\n",
       "\\item 726\n",
       "\\item 456\n",
       "\\item 824\n",
       "\\item 702\n",
       "\\item 1120\n",
       "\\item 1100\n",
       "\\item 832\n",
       "\\item 764\n",
       "\\item 821\n",
       "\\item 768\n",
       "\\item 845\n",
       "\\item 864\n",
       "\\item 862\n",
       "\\item 698\n",
       "\\item 845\n",
       "\\item 744\n",
       "\\item 796\n",
       "\\item 1040\n",
       "\\item 759\n",
       "\\item 781\n",
       "\\item 865\n",
       "\\item 845\n",
       "\\item 944\n",
       "\\item 984\n",
       "\\item 897\n",
       "\\item 822\n",
       "\\item 1010\n",
       "\\item 771\n",
       "\\item 676\n",
       "\\item 649\n",
       "\\item 846\n",
       "\\item 812\n",
       "\\item 742\n",
       "\\item 801\n",
       "\\item 1040\n",
       "\\item 860\n",
       "\\item 874\n",
       "\\item 848\n",
       "\\item 890\n",
       "\\item 744\n",
       "\\item 749\n",
       "\\item 838\n",
       "\\item 1050\n",
       "\\item 918\n",
       "\\item 986\n",
       "\\item 797\n",
       "\\item 923\n",
       "\\item 975\n",
       "\\item 815\n",
       "\\item 1020\n",
       "\\item 906\n",
       "\\item 901\n",
       "\\item 1170\n",
       "\\item 912\n",
       "\\item 746\n",
       "\\item 919\n",
       "\\item 718\n",
       "\\item 714\n",
       "\\item 740\n",
       "\\end{enumerate*}\n"
      ],
      "text/markdown": [
       "1. 1120\n",
       "2. 1160\n",
       "3. 963\n",
       "4. 1210\n",
       "5. 1160\n",
       "6. 1160\n",
       "7. 813\n",
       "8. 1230\n",
       "9. 1370\n",
       "10. 1140\n",
       "11. 995\n",
       "12. 935\n",
       "13. 1110\n",
       "14. 994\n",
       "15. 1020\n",
       "16. 960\n",
       "17. 1180\n",
       "18. 799\n",
       "19. 958\n",
       "20. 1140\n",
       "21. 1100\n",
       "22. 1210\n",
       "23. 1150\n",
       "24. 1250\n",
       "25. 1260\n",
       "26. 1220\n",
       "27. 1030\n",
       "28. 1100\n",
       "29. 774\n",
       "30. 840\n",
       "31. 874\n",
       "32. 694\n",
       "33. 940\n",
       "34. 833\n",
       "35. 701\n",
       "36. 916\n",
       "37. 692\n",
       "38. 1020\n",
       "39. 1050\n",
       "40. 969\n",
       "41. 831\n",
       "42. 726\n",
       "43. 456\n",
       "44. 824\n",
       "45. 702\n",
       "46. 1120\n",
       "47. 1100\n",
       "48. 832\n",
       "49. 764\n",
       "50. 821\n",
       "51. 768\n",
       "52. 845\n",
       "53. 864\n",
       "54. 862\n",
       "55. 698\n",
       "56. 845\n",
       "57. 744\n",
       "58. 796\n",
       "59. 1040\n",
       "60. 759\n",
       "61. 781\n",
       "62. 865\n",
       "63. 845\n",
       "64. 944\n",
       "65. 984\n",
       "66. 897\n",
       "67. 822\n",
       "68. 1010\n",
       "69. 771\n",
       "70. 676\n",
       "71. 649\n",
       "72. 846\n",
       "73. 812\n",
       "74. 742\n",
       "75. 801\n",
       "76. 1040\n",
       "77. 860\n",
       "78. 874\n",
       "79. 848\n",
       "80. 890\n",
       "81. 744\n",
       "82. 749\n",
       "83. 838\n",
       "84. 1050\n",
       "85. 918\n",
       "86. 986\n",
       "87. 797\n",
       "88. 923\n",
       "89. 975\n",
       "90. 815\n",
       "91. 1020\n",
       "92. 906\n",
       "93. 901\n",
       "94. 1170\n",
       "95. 912\n",
       "96. 746\n",
       "97. 919\n",
       "98. 718\n",
       "99. 714\n",
       "100. 740\n",
       "\n",
       "\n"
      ],
      "text/plain": [
       "  [1] 1120 1160  963 1210 1160 1160  813 1230 1370 1140  995  935 1110  994 1020\n",
       " [16]  960 1180  799  958 1140 1100 1210 1150 1250 1260 1220 1030 1100  774  840\n",
       " [31]  874  694  940  833  701  916  692 1020 1050  969  831  726  456  824  702\n",
       " [46] 1120 1100  832  764  821  768  845  864  862  698  845  744  796 1040  759\n",
       " [61]  781  865  845  944  984  897  822 1010  771  676  649  846  812  742  801\n",
       " [76] 1040  860  874  848  890  744  749  838 1050  918  986  797  923  975  815\n",
       " [91] 1020  906  901 1170  912  746  919  718  714  740"
      ]
     },
     "metadata": {},
     "output_type": "display_data"
    }
   ],
   "source": [
    "library(datasets) #데이터셋 로딩\n",
    "data<-as.vector(Nile) #나일강의 유량 데이터\n",
    "data"
   ]
  },
  {
   "cell_type": "code",
   "execution_count": 2,
   "metadata": {},
   "outputs": [
    {
     "name": "stderr",
     "output_type": "stream",
     "text": [
      "Warning message:\n",
      "\"package 'TTR' was built under R version 3.6.2\"Registered S3 method overwritten by 'xts':\n",
      "  method     from\n",
      "  as.zoo.xts zoo \n",
      "Warning message:\n",
      "\"package 'forecast' was built under R version 3.6.2\"Registered S3 method overwritten by 'quantmod':\n",
      "  method            from\n",
      "  as.zoo.data.frame zoo \n"
     ]
    }
   ],
   "source": [
    "library(TTR)\n",
    "library(forecast)"
   ]
  },
  {
   "cell_type": "code",
   "execution_count": 5,
   "metadata": {},
   "outputs": [
    {
     "data": {
      "text/html": [
       "'ts'"
      ],
      "text/latex": [
       "'ts'"
      ],
      "text/markdown": [
       "'ts'"
      ],
      "text/plain": [
       "[1] \"ts\""
      ]
     },
     "metadata": {},
     "output_type": "display_data"
    },
    {
     "data": {
      "text/html": [
       "'numeric'"
      ],
      "text/latex": [
       "'numeric'"
      ],
      "text/markdown": [
       "'numeric'"
      ],
      "text/plain": [
       "[1] \"numeric\""
      ]
     },
     "metadata": {},
     "output_type": "display_data"
    },
    {
     "data": {
      "image/png": "[encoded data removed]",
      "text/plain": [
       "plot without title"
      ]
     },
     "metadata": {},
     "output_type": "display_data"
    }
   ],
   "source": [
    "nile_ts<- ts(data) #시계열 타입으로 변환\n",
    "class(Nile)\n",
    "plot.ts(nile_ts) #시계열 그래프\n",
    "class(data)"
   ]
  },
  {
   "cell_type": "code",
   "execution_count": 6,
   "metadata": {},
   "outputs": [
    {
     "data": {
      "image/png": "[encoded data removed]",
      "text/plain": [
       "plot without title"
      ]
     },
     "metadata": {},
     "output_type": "display_data"
    }
   ],
   "source": [
    "nile_sma3<-SMA(nile_ts, n=3) #3차 이동 평균값\n",
    "plot.ts(nile_sma3) "
   ]
  },
  {
   "cell_type": "code",
   "execution_count": 7,
   "metadata": {},
   "outputs": [
    {
     "data": {
      "image/png": "[encoded data removed]",
      "text/plain": [
       "plot without title"
      ]
     },
     "metadata": {},
     "output_type": "display_data"
    }
   ],
   "source": [
    "nile_diff1<-diff(nile_ts, differneces=1) #1차 차분값\n",
    "plot.ts(nile_diff1)"
   ]
  },
  {
   "cell_type": "code",
   "execution_count": 8,
   "metadata": {},
   "outputs": [
    {
     "name": "stderr",
     "output_type": "stream",
     "text": [
      "Warning message:\n",
      "\"package 'tseries' was built under R version 3.6.2\"Warning message in adf.test(diff(log(nile_ts)), alternative = \"stationary\", k = 0):\n",
      "\"p-value smaller than printed p-value\""
     ]
    },
    {
     "data": {
      "text/plain": [
       "\n",
       "\tAugmented Dickey-Fuller Test\n",
       "\n",
       "data:  diff(log(nile_ts))\n",
       "Dickey-Fuller = -15.334, Lag order = 0, p-value = 0.01\n",
       "alternative hypothesis: stationary\n"
      ]
     },
     "metadata": {},
     "output_type": "display_data"
    }
   ],
   "source": [
    "library(tseries) #안정적인 시계열 데이터인지 검사\n",
    "adf.test(diff(log(nile_ts)),alternative='stationary',k=0)"
   ]
  },
  {
   "cell_type": "code",
   "execution_count": 10,
   "metadata": {},
   "outputs": [
    {
     "data": {
      "text/plain": [
       "Series: nile_ts \n",
       "ARIMA(1,1,1) \n",
       "\n",
       "Coefficients:\n",
       "         ar1      ma1\n",
       "      0.2544  -0.8741\n",
       "s.e.  0.1194   0.0605\n",
       "\n",
       "sigma^2 estimated as 20177:  log likelihood=-630.63\n",
       "AIC=1267.25   AICc=1267.51   BIC=1275.04"
      ]
     },
     "metadata": {},
     "output_type": "display_data"
    }
   ],
   "source": [
    "auto.arima(nile_ts) #최적의 아리마모형 파라미터 도출\n",
    "# arima(p,d,q)\n",
    "#ARIMA(1,1,1)"
   ]
  },
  {
   "cell_type": "code",
   "execution_count": 11,
   "metadata": {},
   "outputs": [
    {
     "data": {
      "text/plain": [
       "    Point Forecast    Lo 80     Hi 80    Lo 95    Hi 95\n",
       "101       816.1813 635.9909  996.3717 540.6039 1091.759\n",
       "102       835.5596 642.7830 1028.3363 540.7332 1130.386\n",
       "103       840.4889 643.5842 1037.3936 539.3492 1141.629\n",
       "104       841.7428 642.1115 1041.3741 536.4331 1147.053\n",
       "105       842.0617 640.0311 1044.0923 533.0826 1151.041"
      ]
     },
     "metadata": {},
     "output_type": "display_data"
    },
    {
     "data": {
      "image/png": "[encoded data removed]",
      "text/plain": [
       "Plot with title \"Forecasts from ARIMA(1,1,1)\""
      ]
     },
     "metadata": {},
     "output_type": "display_data"
    }
   ],
   "source": [
    "nile_arima<-arima(nile_ts, order=c(1,1,1)) #아리마 모형 생성\n",
    "nile_fcast<-forecast(nile_arima,h=5) #예측함수 실행\n",
    "nile_fcast\n",
    "plot(nile_fcast)"
   ]
  },
  {
   "cell_type": "code",
   "execution_count": null,
   "metadata": {},
   "outputs": [],
   "source": []
  }
 ],
 "metadata": {
  "kernelspec": {
   "display_name": "R",
   "language": "R",
   "name": "ir"
  },
  "language_info": {
   "codemirror_mode": "r",
   "file_extension": ".r",
   "mimetype": "text/x-r-source",
   "name": "R",
   "pygments_lexer": "r",
   "version": "3.6.1"
  }
 },
 "nbformat": 4,
 "nbformat_minor": 2
}
