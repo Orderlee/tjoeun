{
 "cells": [
  {
   "cell_type": "code",
   "execution_count": 1,
   "metadata": {},
   "outputs": [
    {
     "name": "stderr",
     "output_type": "stream",
     "text": [
      "Installing package into 'C:/Users/tjoeun302-18/Documents/R/win-library/3.6'\n",
      "(as 'lib' is unspecified)\n"
     ]
    },
    {
     "name": "stdout",
     "output_type": "stream",
     "text": [
      "package 'forecast' successfully unpacked and MD5 sums checked\n"
     ]
    },
    {
     "name": "stderr",
     "output_type": "stream",
     "text": [
      "Warning message:\n",
      "\"cannot remove prior installation of package 'forecast'\"Warning message in file.copy(savedcopy, lib, recursive = TRUE):\n",
      "\"C:\\Users\\tjoeun302-18\\Documents\\R\\win-library\\3.6\\00LOCK\\forecast\\libs\\x64\\forecast.dll를 C:\\Users\\tjoeun302-18\\Documents\\R\\win-library\\3.6\\forecast\\libs\\x64\\forecast.dll로 복사하는데 문제가 발생했습니다: Permission denied\"Warning message:\n",
      "\"restored 'forecast'\""
     ]
    },
    {
     "name": "stdout",
     "output_type": "stream",
     "text": [
      "\n",
      "The downloaded binary packages are in\n",
      "\tC:\\Users\\tjoeun302-18\\AppData\\Local\\Temp\\RtmpItZk2F\\downloaded_packages\n"
     ]
    }
   ],
   "source": [
    "#install.packages('forecast')"
   ]
  },
  {
   "cell_type": "code",
   "execution_count": 2,
   "metadata": {},
   "outputs": [
    {
     "name": "stderr",
     "output_type": "stream",
     "text": [
      "Warning message:\n",
      "\"package 'TTR' was built under R version 3.6.2\"Registered S3 method overwritten by 'xts':\n",
      "  method     from\n",
      "  as.zoo.xts zoo \n",
      "Warning message:\n",
      "\"package 'forecast' was built under R version 3.6.2\"Registered S3 method overwritten by 'quantmod':\n",
      "  method            from\n",
      "  as.zoo.data.frame zoo \n"
     ]
    }
   ],
   "source": [
    "#시계열 분석을 위한 라이브러리 로딩\n",
    "library(TTR)\n",
    "library(forecast)"
   ]
  },
  {
   "cell_type": "code",
   "execution_count": 4,
   "metadata": {},
   "outputs": [
    {
     "data": {
      "text/html": [
       "<ol class=list-inline>\n",
       "\t<li>60</li>\n",
       "\t<li>43</li>\n",
       "\t<li>67</li>\n",
       "\t<li>50</li>\n",
       "\t<li>56</li>\n",
       "\t<li>42</li>\n",
       "\t<li>50</li>\n",
       "\t<li>65</li>\n",
       "\t<li>68</li>\n",
       "\t<li>43</li>\n",
       "\t<li>65</li>\n",
       "\t<li>34</li>\n",
       "\t<li>47</li>\n",
       "\t<li>34</li>\n",
       "\t<li>49</li>\n",
       "\t<li>41</li>\n",
       "\t<li>13</li>\n",
       "\t<li>35</li>\n",
       "\t<li>53</li>\n",
       "\t<li>56</li>\n",
       "\t<li>16</li>\n",
       "\t<li>43</li>\n",
       "\t<li>69</li>\n",
       "\t<li>59</li>\n",
       "\t<li>48</li>\n",
       "\t<li>59</li>\n",
       "\t<li>86</li>\n",
       "\t<li>55</li>\n",
       "\t<li>68</li>\n",
       "\t<li>51</li>\n",
       "\t<li>33</li>\n",
       "\t<li>49</li>\n",
       "\t<li>67</li>\n",
       "\t<li>77</li>\n",
       "\t<li>81</li>\n",
       "\t<li>67</li>\n",
       "\t<li>71</li>\n",
       "\t<li>81</li>\n",
       "\t<li>68</li>\n",
       "\t<li>70</li>\n",
       "\t<li>77</li>\n",
       "\t<li>56</li>\n",
       "</ol>\n"
      ],
      "text/latex": [
       "\\begin{enumerate*}\n",
       "\\item 60\n",
       "\\item 43\n",
       "\\item 67\n",
       "\\item 50\n",
       "\\item 56\n",
       "\\item 42\n",
       "\\item 50\n",
       "\\item 65\n",
       "\\item 68\n",
       "\\item 43\n",
       "\\item 65\n",
       "\\item 34\n",
       "\\item 47\n",
       "\\item 34\n",
       "\\item 49\n",
       "\\item 41\n",
       "\\item 13\n",
       "\\item 35\n",
       "\\item 53\n",
       "\\item 56\n",
       "\\item 16\n",
       "\\item 43\n",
       "\\item 69\n",
       "\\item 59\n",
       "\\item 48\n",
       "\\item 59\n",
       "\\item 86\n",
       "\\item 55\n",
       "\\item 68\n",
       "\\item 51\n",
       "\\item 33\n",
       "\\item 49\n",
       "\\item 67\n",
       "\\item 77\n",
       "\\item 81\n",
       "\\item 67\n",
       "\\item 71\n",
       "\\item 81\n",
       "\\item 68\n",
       "\\item 70\n",
       "\\item 77\n",
       "\\item 56\n",
       "\\end{enumerate*}\n"
      ],
      "text/markdown": [
       "1. 60\n",
       "2. 43\n",
       "3. 67\n",
       "4. 50\n",
       "5. 56\n",
       "6. 42\n",
       "7. 50\n",
       "8. 65\n",
       "9. 68\n",
       "10. 43\n",
       "11. 65\n",
       "12. 34\n",
       "13. 47\n",
       "14. 34\n",
       "15. 49\n",
       "16. 41\n",
       "17. 13\n",
       "18. 35\n",
       "19. 53\n",
       "20. 56\n",
       "21. 16\n",
       "22. 43\n",
       "23. 69\n",
       "24. 59\n",
       "25. 48\n",
       "26. 59\n",
       "27. 86\n",
       "28. 55\n",
       "29. 68\n",
       "30. 51\n",
       "31. 33\n",
       "32. 49\n",
       "33. 67\n",
       "34. 77\n",
       "35. 81\n",
       "36. 67\n",
       "37. 71\n",
       "38. 81\n",
       "39. 68\n",
       "40. 70\n",
       "41. 77\n",
       "42. 56\n",
       "\n",
       "\n"
      ],
      "text/plain": [
       " [1] 60 43 67 50 56 42 50 65 68 43 65 34 47 34 49 41 13 35 53 56 16 43 69 59 48\n",
       "[26] 59 86 55 68 51 33 49 67 77 81 67 71 81 68 70 77 56"
      ]
     },
     "metadata": {},
     "output_type": "display_data"
    },
    {
     "data": {
      "text/html": [
       "'numeric'"
      ],
      "text/latex": [
       "'numeric'"
      ],
      "text/markdown": [
       "'numeric'"
      ],
      "text/plain": [
       "[1] \"numeric\""
      ]
     },
     "metadata": {},
     "output_type": "display_data"
    }
   ],
   "source": [
    "#skip 3 3행을 건너뛰고 일어옴\n",
    "kings<-scan('http://robjhyndman.com/tsdldata/misc/kings.dat',\n",
    "           skip=3)\n",
    "kings\n",
    "class(kings) #numeric 데이터"
   ]
  },
  {
   "cell_type": "code",
   "execution_count": 6,
   "metadata": {},
   "outputs": [
    {
     "data": {
      "text/html": [
       "'ts'"
      ],
      "text/latex": [
       "'ts'"
      ],
      "text/markdown": [
       "'ts'"
      ],
      "text/plain": [
       "[1] \"ts\""
      ]
     },
     "metadata": {},
     "output_type": "display_data"
    },
    {
     "data": {
      "image/png": "[encoded data removed]",
      "text/plain": [
       "plot without title"
      ]
     },
     "metadata": {},
     "output_type": "display_data"
    }
   ],
   "source": [
    "#숫자형 자료를 시계열 자료로 변환\n",
    "kings_ts <-ts(kings)\n",
    "class(kings_ts)\n",
    "#시계열 그래프\n",
    "plot.ts(kings_ts)"
   ]
  },
  {
   "cell_type": "code",
   "execution_count": null,
   "metadata": {},
   "outputs": [],
   "source": [
    "#n=3 3차 이동평균 MA(3) 모형으로 그린 그래프\n",
    "kings_sma3<- SMA(kings_ts, n=3)\n",
    "plot.ts(kings_sma3)"
   ]
  },
  {
   "cell_type": "code",
   "execution_count": null,
   "metadata": {},
   "outputs": [],
   "source": [
    "#1차 차분으로 그린 그래프\n",
    "kings_diff1<- diff(kings_ts, differences=1)\n",
    "plot.ts(kings_diff1)"
   ]
  },
  {
   "cell_type": "code",
   "execution_count": null,
   "metadata": {},
   "outputs": [],
   "source": [
    "library(tseries)\n",
    "# adf.test 함수를 이용하여 안정적인 시계열 자료인지 확인\n",
    "# p-value 확인\n",
    "adf.test(diff(log(kings_ts)),alternative='stationary',k=0)"
   ]
  },
  {
   "cell_type": "code",
   "execution_count": null,
   "metadata": {},
   "outputs": [],
   "source": [
    "#최적의 arima 모형을 도출\n",
    "auto.arima(ts(kings))\n",
    "#arima 모형으로 도출된 값\n",
    "kings_arima<- arima(kings_ts, order=c(0,1,1))\n",
    "#5대 후의 왕의 수명 예측\n",
    "kings_fcast<- forecast(kings_arima, h=5)\n",
    "kings_fcast\n",
    "plot(kings_fcast)"
   ]
  },
  {
   "cell_type": "code",
   "execution_count": null,
   "metadata": {},
   "outputs": [],
   "source": []
  },
  {
   "cell_type": "code",
   "execution_count": null,
   "metadata": {},
   "outputs": [],
   "source": []
  }
 ],
 "metadata": {
  "kernelspec": {
   "display_name": "R",
   "language": "R",
   "name": "ir"
  },
  "language_info": {
   "codemirror_mode": "r",
   "file_extension": ".r",
   "mimetype": "text/x-r-source",
   "name": "R",
   "pygments_lexer": "r",
   "version": "3.6.1"
  }
 },
 "nbformat": 4,
 "nbformat_minor": 2
}
