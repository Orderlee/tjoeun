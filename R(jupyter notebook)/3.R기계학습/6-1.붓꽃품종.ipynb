{
 "cells": [
  {
   "cell_type": "code",
   "execution_count": 20,
   "metadata": {},
   "outputs": [
    {
     "data": {
      "text/html": [
       "<table>\n",
       "<thead><tr><th scope=col>sepal.length..cm.</th><th scope=col>sepal.width..cm.</th><th scope=col>petal.length..cm.</th><th scope=col>petal.width..cm.</th><th scope=col>target</th><th scope=col>Result</th></tr></thead>\n",
       "<tbody>\n",
       "\t<tr><td>5.1   </td><td>3.5   </td><td>1.4   </td><td>0.2   </td><td>setosa</td><td>0     </td></tr>\n",
       "\t<tr><td>4.9   </td><td>3.0   </td><td>1.4   </td><td>0.2   </td><td>setosa</td><td>0     </td></tr>\n",
       "\t<tr><td>4.7   </td><td>3.2   </td><td>1.3   </td><td>0.2   </td><td>setosa</td><td>0     </td></tr>\n",
       "\t<tr><td>4.6   </td><td>3.1   </td><td>1.5   </td><td>0.2   </td><td>setosa</td><td>0     </td></tr>\n",
       "\t<tr><td>5.0   </td><td>3.6   </td><td>1.4   </td><td>0.2   </td><td>setosa</td><td>0     </td></tr>\n",
       "\t<tr><td>5.4   </td><td>3.9   </td><td>1.7   </td><td>0.4   </td><td>setosa</td><td>0     </td></tr>\n",
       "</tbody>\n",
       "</table>\n"
      ],
      "text/latex": [
       "\\begin{tabular}{r|llllll}\n",
       " sepal.length..cm. & sepal.width..cm. & petal.length..cm. & petal.width..cm. & target & Result\\\\\n",
       "\\hline\n",
       "\t 5.1    & 3.5    & 1.4    & 0.2    & setosa & 0     \\\\\n",
       "\t 4.9    & 3.0    & 1.4    & 0.2    & setosa & 0     \\\\\n",
       "\t 4.7    & 3.2    & 1.3    & 0.2    & setosa & 0     \\\\\n",
       "\t 4.6    & 3.1    & 1.5    & 0.2    & setosa & 0     \\\\\n",
       "\t 5.0    & 3.6    & 1.4    & 0.2    & setosa & 0     \\\\\n",
       "\t 5.4    & 3.9    & 1.7    & 0.4    & setosa & 0     \\\\\n",
       "\\end{tabular}\n"
      ],
      "text/markdown": [
       "\n",
       "| sepal.length..cm. | sepal.width..cm. | petal.length..cm. | petal.width..cm. | target | Result |\n",
       "|---|---|---|---|---|---|\n",
       "| 5.1    | 3.5    | 1.4    | 0.2    | setosa | 0      |\n",
       "| 4.9    | 3.0    | 1.4    | 0.2    | setosa | 0      |\n",
       "| 4.7    | 3.2    | 1.3    | 0.2    | setosa | 0      |\n",
       "| 4.6    | 3.1    | 1.5    | 0.2    | setosa | 0      |\n",
       "| 5.0    | 3.6    | 1.4    | 0.2    | setosa | 0      |\n",
       "| 5.4    | 3.9    | 1.7    | 0.4    | setosa | 0      |\n",
       "\n"
      ],
      "text/plain": [
       "  sepal.length..cm. sepal.width..cm. petal.length..cm. petal.width..cm. target\n",
       "1 5.1               3.5              1.4               0.2              setosa\n",
       "2 4.9               3.0              1.4               0.2              setosa\n",
       "3 4.7               3.2              1.3               0.2              setosa\n",
       "4 4.6               3.1              1.5               0.2              setosa\n",
       "5 5.0               3.6              1.4               0.2              setosa\n",
       "6 5.4               3.9              1.7               0.4              setosa\n",
       "  Result\n",
       "1 0     \n",
       "2 0     \n",
       "3 0     \n",
       "4 0     \n",
       "5 0     \n",
       "6 0     "
      ]
     },
     "metadata": {},
     "output_type": "display_data"
    }
   ],
   "source": [
    "df<-read.csv('d:/data/iris/iris2.csv')\n",
    "head(df)"
   ]
  },
  {
   "cell_type": "code",
   "execution_count": 21,
   "metadata": {},
   "outputs": [
    {
     "data": {
      "text/html": [
       "<table>\n",
       "<thead><tr><th scope=col>sepal.length..cm.</th><th scope=col>sepal.width..cm.</th><th scope=col>petal.length..cm.</th><th scope=col>petal.width..cm.</th><th scope=col>Result</th></tr></thead>\n",
       "<tbody>\n",
       "\t<tr><td>5.1</td><td>3.5</td><td>1.4</td><td>0.2</td><td>0  </td></tr>\n",
       "\t<tr><td>4.9</td><td>3.0</td><td>1.4</td><td>0.2</td><td>0  </td></tr>\n",
       "\t<tr><td>4.7</td><td>3.2</td><td>1.3</td><td>0.2</td><td>0  </td></tr>\n",
       "\t<tr><td>4.6</td><td>3.1</td><td>1.5</td><td>0.2</td><td>0  </td></tr>\n",
       "\t<tr><td>5.0</td><td>3.6</td><td>1.4</td><td>0.2</td><td>0  </td></tr>\n",
       "\t<tr><td>5.4</td><td>3.9</td><td>1.7</td><td>0.4</td><td>0  </td></tr>\n",
       "</tbody>\n",
       "</table>\n"
      ],
      "text/latex": [
       "\\begin{tabular}{r|lllll}\n",
       " sepal.length..cm. & sepal.width..cm. & petal.length..cm. & petal.width..cm. & Result\\\\\n",
       "\\hline\n",
       "\t 5.1 & 3.5 & 1.4 & 0.2 & 0  \\\\\n",
       "\t 4.9 & 3.0 & 1.4 & 0.2 & 0  \\\\\n",
       "\t 4.7 & 3.2 & 1.3 & 0.2 & 0  \\\\\n",
       "\t 4.6 & 3.1 & 1.5 & 0.2 & 0  \\\\\n",
       "\t 5.0 & 3.6 & 1.4 & 0.2 & 0  \\\\\n",
       "\t 5.4 & 3.9 & 1.7 & 0.4 & 0  \\\\\n",
       "\\end{tabular}\n"
      ],
      "text/markdown": [
       "\n",
       "| sepal.length..cm. | sepal.width..cm. | petal.length..cm. | petal.width..cm. | Result |\n",
       "|---|---|---|---|---|\n",
       "| 5.1 | 3.5 | 1.4 | 0.2 | 0   |\n",
       "| 4.9 | 3.0 | 1.4 | 0.2 | 0   |\n",
       "| 4.7 | 3.2 | 1.3 | 0.2 | 0   |\n",
       "| 4.6 | 3.1 | 1.5 | 0.2 | 0   |\n",
       "| 5.0 | 3.6 | 1.4 | 0.2 | 0   |\n",
       "| 5.4 | 3.9 | 1.7 | 0.4 | 0   |\n",
       "\n"
      ],
      "text/plain": [
       "  sepal.length..cm. sepal.width..cm. petal.length..cm. petal.width..cm. Result\n",
       "1 5.1               3.5              1.4               0.2              0     \n",
       "2 4.9               3.0              1.4               0.2              0     \n",
       "3 4.7               3.2              1.3               0.2              0     \n",
       "4 4.6               3.1              1.5               0.2              0     \n",
       "5 5.0               3.6              1.4               0.2              0     \n",
       "6 5.4               3.9              1.7               0.4              0     "
      ]
     },
     "metadata": {},
     "output_type": "display_data"
    }
   ],
   "source": [
    "library(dplyr)\n",
    "df<-df %>% select(-target)\n",
    "#Result 필드를 팩터 타입으로 변환\n",
    "df$Result <- as.factor(df$Result)\n",
    "head(df)"
   ]
  },
  {
   "cell_type": "code",
   "execution_count": 22,
   "metadata": {},
   "outputs": [],
   "source": [
    "library(caret)\n",
    "set.seed(123)\n",
    "idx_train<-createDataPartition(y=df$Result, p=0.8, list=F)\n",
    "train<-df[idx_train,]\n",
    "X_train<-train[,-5]\n",
    "y_train<-train[,5]\n",
    "test<-df[-idx_train,]\n",
    "X_test<-test[,-5]\n",
    "y_test<-test[,5]"
   ]
  },
  {
   "cell_type": "code",
   "execution_count": 28,
   "metadata": {},
   "outputs": [
    {
     "data": {
      "text/html": [
       "<table>\n",
       "<thead><tr><th scope=col>k</th><th scope=col>accuracy</th></tr></thead>\n",
       "<tbody>\n",
       "\t<tr><td>1</td><td>1</td></tr>\n",
       "</tbody>\n",
       "</table>\n"
      ],
      "text/latex": [
       "\\begin{tabular}{r|ll}\n",
       " k & accuracy\\\\\n",
       "\\hline\n",
       "\t 1 & 1\\\\\n",
       "\\end{tabular}\n"
      ],
      "text/markdown": [
       "\n",
       "| k | accuracy |\n",
       "|---|---|\n",
       "| 1 | 1 |\n",
       "\n"
      ],
      "text/plain": [
       "  k accuracy\n",
       "1 1 1       "
      ]
     },
     "metadata": {},
     "output_type": "display_data"
    },
    {
     "data": {
      "image/png": "[encoded data removed]",
      "text/plain": [
       "Plot with title \"최적의 값\""
      ]
     },
     "metadata": {},
     "output_type": "display_data"
    }
   ],
   "source": [
    "library(class)\n",
    "acc<-NULL\n",
    "for (i in c(1:10)){\n",
    "    set.seed(123)\n",
    "    pred = knn(train=train, test=test, cl=y_train, k=i)\n",
    "    acc<- c(acc,mean(y_test == pred))\n",
    "}\n",
    "df<-data.frame(k=c(1:10), accuracy=acc)\n",
    "plot(accuracy ~ k, data=df, type='o',pch=20,main='최적의 값',\n",
    "    ylim=c(0,1), col='red')\n",
    "with(df,text(accuracy ~ k, labels=c(1:10),pos=1, cex=0.7))\n",
    "n<-min(df[df$accuracy %in% max(acc), 'k'])\n",
    "df[n,]"
   ]
  },
  {
   "cell_type": "code",
   "execution_count": 31,
   "metadata": {},
   "outputs": [
    {
     "data": {
      "text/plain": [
       "      pred\n",
       "y_test  0  1  2\n",
       "     0 10  0  0\n",
       "     1  0 10  0\n",
       "     2  0  0 10"
      ]
     },
     "metadata": {},
     "output_type": "display_data"
    },
    {
     "data": {
      "text/html": [
       "1"
      ],
      "text/latex": [
       "1"
      ],
      "text/markdown": [
       "1"
      ],
      "text/plain": [
       "[1] 1"
      ]
     },
     "metadata": {},
     "output_type": "display_data"
    }
   ],
   "source": [
    "library(class)\n",
    "set.seed(100)\n",
    "pred<-knn(train=train, test=test, cl=y_train,k=n)\n",
    "table(y_test,pred)\n",
    "mean(y_test==pred)"
   ]
  },
  {
   "cell_type": "code",
   "execution_count": null,
   "metadata": {},
   "outputs": [],
   "source": []
  },
  {
   "cell_type": "code",
   "execution_count": null,
   "metadata": {},
   "outputs": [],
   "source": []
  },
  {
   "cell_type": "code",
   "execution_count": null,
   "metadata": {},
   "outputs": [],
   "source": []
  }
 ],
 "metadata": {
  "kernelspec": {
   "display_name": "R",
   "language": "R",
   "name": "ir"
  },
  "language_info": {
   "codemirror_mode": "r",
   "file_extension": ".r",
   "mimetype": "text/x-r-source",
   "name": "R",
   "pygments_lexer": "r",
   "version": "3.6.1"
  }
 },
 "nbformat": 4,
 "nbformat_minor": 2
}
