{
 "cells": [
  {
   "cell_type": "code",
   "execution_count": 55,
   "metadata": {},
   "outputs": [
    {
     "data": {
      "text/html": [
       "<table>\n",
       "<thead><tr><th scope=col>Ozone</th><th scope=col>Solar.R</th><th scope=col>Solar.R2</th><th scope=col>Wind</th><th scope=col>Temp</th><th scope=col>Month</th><th scope=col>Day</th><th scope=col>Ozone2</th><th scope=col>Result</th></tr></thead>\n",
       "<tbody>\n",
       "\t<tr><td>41      </td><td>190     </td><td>190.0000</td><td> 7.4    </td><td>67      </td><td>5       </td><td>1       </td><td>41.00000</td><td>0       </td></tr>\n",
       "\t<tr><td>36      </td><td>118     </td><td>118.0000</td><td> 8.0    </td><td>72      </td><td>5       </td><td>2       </td><td>36.00000</td><td>0       </td></tr>\n",
       "\t<tr><td>12      </td><td>149     </td><td>149.0000</td><td>12.6    </td><td>74      </td><td>5       </td><td>3       </td><td>12.00000</td><td>0       </td></tr>\n",
       "\t<tr><td>18      </td><td>313     </td><td>313.0000</td><td>11.5    </td><td>62      </td><td>5       </td><td>4       </td><td>18.00000</td><td>0       </td></tr>\n",
       "\t<tr><td>NA      </td><td> NA     </td><td>185.9315</td><td>14.3    </td><td>56      </td><td>5       </td><td>5       </td><td>42.12931</td><td>0       </td></tr>\n",
       "\t<tr><td>28      </td><td> NA     </td><td>185.9315</td><td>14.9    </td><td>66      </td><td>5       </td><td>6       </td><td>28.00000</td><td>0       </td></tr>\n",
       "</tbody>\n",
       "</table>\n"
      ],
      "text/latex": [
       "\\begin{tabular}{r|lllllllll}\n",
       " Ozone & Solar.R & Solar.R2 & Wind & Temp & Month & Day & Ozone2 & Result\\\\\n",
       "\\hline\n",
       "\t 41       & 190      & 190.0000 &  7.4     & 67       & 5        & 1        & 41.00000 & 0       \\\\\n",
       "\t 36       & 118      & 118.0000 &  8.0     & 72       & 5        & 2        & 36.00000 & 0       \\\\\n",
       "\t 12       & 149      & 149.0000 & 12.6     & 74       & 5        & 3        & 12.00000 & 0       \\\\\n",
       "\t 18       & 313      & 313.0000 & 11.5     & 62       & 5        & 4        & 18.00000 & 0       \\\\\n",
       "\t NA       &  NA      & 185.9315 & 14.3     & 56       & 5        & 5        & 42.12931 & 0       \\\\\n",
       "\t 28       &  NA      & 185.9315 & 14.9     & 66       & 5        & 6        & 28.00000 & 0       \\\\\n",
       "\\end{tabular}\n"
      ],
      "text/markdown": [
       "\n",
       "| Ozone | Solar.R | Solar.R2 | Wind | Temp | Month | Day | Ozone2 | Result |\n",
       "|---|---|---|---|---|---|---|---|---|\n",
       "| 41       | 190      | 190.0000 |  7.4     | 67       | 5        | 1        | 41.00000 | 0        |\n",
       "| 36       | 118      | 118.0000 |  8.0     | 72       | 5        | 2        | 36.00000 | 0        |\n",
       "| 12       | 149      | 149.0000 | 12.6     | 74       | 5        | 3        | 12.00000 | 0        |\n",
       "| 18       | 313      | 313.0000 | 11.5     | 62       | 5        | 4        | 18.00000 | 0        |\n",
       "| NA       |  NA      | 185.9315 | 14.3     | 56       | 5        | 5        | 42.12931 | 0        |\n",
       "| 28       |  NA      | 185.9315 | 14.9     | 66       | 5        | 6        | 28.00000 | 0        |\n",
       "\n"
      ],
      "text/plain": [
       "  Ozone Solar.R Solar.R2 Wind Temp Month Day Ozone2   Result\n",
       "1 41    190     190.0000  7.4 67   5     1   41.00000 0     \n",
       "2 36    118     118.0000  8.0 72   5     2   36.00000 0     \n",
       "3 12    149     149.0000 12.6 74   5     3   12.00000 0     \n",
       "4 18    313     313.0000 11.5 62   5     4   18.00000 0     \n",
       "5 NA     NA     185.9315 14.3 56   5     5   42.12931 0     \n",
       "6 28     NA     185.9315 14.9 66   5     6   28.00000 0     "
      ]
     },
     "metadata": {},
     "output_type": "display_data"
    }
   ],
   "source": [
    "df<-read.csv('d:/data/ozone/ozone4.csv')\n",
    "head(df)"
   ]
  },
  {
   "cell_type": "code",
   "execution_count": 56,
   "metadata": {},
   "outputs": [
    {
     "data": {
      "text/html": [
       "<table>\n",
       "<thead><tr><th scope=col>Solar.R2</th><th scope=col>Wind</th><th scope=col>Temp</th><th scope=col>Result</th></tr></thead>\n",
       "<tbody>\n",
       "\t<tr><td>190.0000</td><td> 7.4    </td><td>67      </td><td>0       </td></tr>\n",
       "\t<tr><td>118.0000</td><td> 8.0    </td><td>72      </td><td>0       </td></tr>\n",
       "\t<tr><td>149.0000</td><td>12.6    </td><td>74      </td><td>0       </td></tr>\n",
       "\t<tr><td>313.0000</td><td>11.5    </td><td>62      </td><td>0       </td></tr>\n",
       "\t<tr><td>185.9315</td><td>14.3    </td><td>56      </td><td>0       </td></tr>\n",
       "\t<tr><td>185.9315</td><td>14.9    </td><td>66      </td><td>0       </td></tr>\n",
       "</tbody>\n",
       "</table>\n"
      ],
      "text/latex": [
       "\\begin{tabular}{r|llll}\n",
       " Solar.R2 & Wind & Temp & Result\\\\\n",
       "\\hline\n",
       "\t 190.0000 &  7.4     & 67       & 0       \\\\\n",
       "\t 118.0000 &  8.0     & 72       & 0       \\\\\n",
       "\t 149.0000 & 12.6     & 74       & 0       \\\\\n",
       "\t 313.0000 & 11.5     & 62       & 0       \\\\\n",
       "\t 185.9315 & 14.3     & 56       & 0       \\\\\n",
       "\t 185.9315 & 14.9     & 66       & 0       \\\\\n",
       "\\end{tabular}\n"
      ],
      "text/markdown": [
       "\n",
       "| Solar.R2 | Wind | Temp | Result |\n",
       "|---|---|---|---|\n",
       "| 190.0000 |  7.4     | 67       | 0        |\n",
       "| 118.0000 |  8.0     | 72       | 0        |\n",
       "| 149.0000 | 12.6     | 74       | 0        |\n",
       "| 313.0000 | 11.5     | 62       | 0        |\n",
       "| 185.9315 | 14.3     | 56       | 0        |\n",
       "| 185.9315 | 14.9     | 66       | 0        |\n",
       "\n"
      ],
      "text/plain": [
       "  Solar.R2 Wind Temp Result\n",
       "1 190.0000  7.4 67   0     \n",
       "2 118.0000  8.0 72   0     \n",
       "3 149.0000 12.6 74   0     \n",
       "4 313.0000 11.5 62   0     \n",
       "5 185.9315 14.3 56   0     \n",
       "6 185.9315 14.9 66   0     "
      ]
     },
     "metadata": {},
     "output_type": "display_data"
    }
   ],
   "source": [
    "library(dplyr)\n",
    "df<-df %>% select(-Solar.R,-Month,-Day,-Ozone,-Ozone2)\n",
    "head(df)"
   ]
  },
  {
   "cell_type": "code",
   "execution_count": 57,
   "metadata": {},
   "outputs": [
    {
     "data": {
      "text/plain": [
       "\n",
       "  0   1 \n",
       "109  44 "
      ]
     },
     "metadata": {},
     "output_type": "display_data"
    },
    {
     "data": {
      "image/png": "[encoded data removed]",
      "text/plain": [
       "plot without title"
      ]
     },
     "metadata": {},
     "output_type": "display_data"
    }
   ],
   "source": [
    "(tbl<-table(df$Result))\n",
    "barplot(tbl,beside=T,legend=T,col=rainbow(2))"
   ]
  },
  {
   "cell_type": "code",
   "execution_count": 58,
   "metadata": {},
   "outputs": [
    {
     "data": {
      "text/plain": [
       "\n",
       " 0  1 \n",
       "44 44 "
      ]
     },
     "metadata": {},
     "output_type": "display_data"
    }
   ],
   "source": [
    "library(ROSE)\n",
    "#언더샘플링\n",
    "df_samp<-ovun.sample(Result ~., data=df, seed=1, method='under',\n",
    "                    N=44*2)$data\n",
    "(tbl<-table(df_samp$Result))"
   ]
  },
  {
   "cell_type": "code",
   "execution_count": 59,
   "metadata": {},
   "outputs": [
    {
     "data": {
      "text/plain": [
       "\n",
       "  0   1 \n",
       "109 109 "
      ]
     },
     "metadata": {},
     "output_type": "display_data"
    }
   ],
   "source": [
    "library(ROSE)\n",
    "#언더샘플링\n",
    "df_samp<-ovun.sample(Result ~., data=df, seed=1, method='over',\n",
    "                    N=109*2)$data\n",
    "(tbl<-table(df_samp$Result))"
   ]
  },
  {
   "cell_type": "code",
   "execution_count": 60,
   "metadata": {},
   "outputs": [],
   "source": [
    "library(caret)\n",
    "set.seed(123)\n",
    "#학습용:검증용 8:2로 구분\n",
    "idx_train<-createDataPartition(y=df_samp$Result,p=0.8,list=F)\n",
    "train<-df_samp[idx_train,]\n",
    "X_train<-train[,-4]\n",
    "y_train<-train[,4]\n",
    "test<-df_samp[-idx_train,]\n",
    "X_test<-test[,-4]\n",
    "y_test<-test[,4]"
   ]
  },
  {
   "cell_type": "code",
   "execution_count": 61,
   "metadata": {},
   "outputs": [
    {
     "data": {
      "text/html": [
       "<ol class=list-inline>\n",
       "\t<li>0.880952380952381</li>\n",
       "\t<li>0.80952380952381</li>\n",
       "\t<li>0.761904761904762</li>\n",
       "\t<li>0.761904761904762</li>\n",
       "\t<li>0.761904761904762</li>\n",
       "\t<li>0.80952380952381</li>\n",
       "\t<li>0.857142857142857</li>\n",
       "\t<li>0.761904761904762</li>\n",
       "\t<li>0.880952380952381</li>\n",
       "\t<li>0.761904761904762</li>\n",
       "</ol>\n"
      ],
      "text/latex": [
       "\\begin{enumerate*}\n",
       "\\item 0.880952380952381\n",
       "\\item 0.80952380952381\n",
       "\\item 0.761904761904762\n",
       "\\item 0.761904761904762\n",
       "\\item 0.761904761904762\n",
       "\\item 0.80952380952381\n",
       "\\item 0.857142857142857\n",
       "\\item 0.761904761904762\n",
       "\\item 0.880952380952381\n",
       "\\item 0.761904761904762\n",
       "\\end{enumerate*}\n"
      ],
      "text/markdown": [
       "1. 0.880952380952381\n",
       "2. 0.80952380952381\n",
       "3. 0.761904761904762\n",
       "4. 0.761904761904762\n",
       "5. 0.761904761904762\n",
       "6. 0.80952380952381\n",
       "7. 0.857142857142857\n",
       "8. 0.761904761904762\n",
       "9. 0.880952380952381\n",
       "10. 0.761904761904762\n",
       "\n",
       "\n"
      ],
      "text/plain": [
       " [1] 0.8809524 0.8095238 0.7619048 0.7619048 0.7619048 0.8095238 0.8571429\n",
       " [8] 0.7619048 0.8809524 0.7619048"
      ]
     },
     "metadata": {},
     "output_type": "display_data"
    },
    {
     "data": {
      "text/html": [
       "<table>\n",
       "<thead><tr><th scope=col>k</th><th scope=col>accuracy</th></tr></thead>\n",
       "<tbody>\n",
       "\t<tr><td> 1       </td><td>0.8809524</td></tr>\n",
       "\t<tr><td> 2       </td><td>0.8095238</td></tr>\n",
       "\t<tr><td> 3       </td><td>0.7619048</td></tr>\n",
       "\t<tr><td> 4       </td><td>0.7619048</td></tr>\n",
       "\t<tr><td> 5       </td><td>0.7619048</td></tr>\n",
       "\t<tr><td> 6       </td><td>0.8095238</td></tr>\n",
       "\t<tr><td> 7       </td><td>0.8571429</td></tr>\n",
       "\t<tr><td> 8       </td><td>0.7619048</td></tr>\n",
       "\t<tr><td> 9       </td><td>0.8809524</td></tr>\n",
       "\t<tr><td>10       </td><td>0.7619048</td></tr>\n",
       "</tbody>\n",
       "</table>\n"
      ],
      "text/latex": [
       "\\begin{tabular}{r|ll}\n",
       " k & accuracy\\\\\n",
       "\\hline\n",
       "\t  1        & 0.8809524\\\\\n",
       "\t  2        & 0.8095238\\\\\n",
       "\t  3        & 0.7619048\\\\\n",
       "\t  4        & 0.7619048\\\\\n",
       "\t  5        & 0.7619048\\\\\n",
       "\t  6        & 0.8095238\\\\\n",
       "\t  7        & 0.8571429\\\\\n",
       "\t  8        & 0.7619048\\\\\n",
       "\t  9        & 0.8809524\\\\\n",
       "\t 10        & 0.7619048\\\\\n",
       "\\end{tabular}\n"
      ],
      "text/markdown": [
       "\n",
       "| k | accuracy |\n",
       "|---|---|\n",
       "|  1        | 0.8809524 |\n",
       "|  2        | 0.8095238 |\n",
       "|  3        | 0.7619048 |\n",
       "|  4        | 0.7619048 |\n",
       "|  5        | 0.7619048 |\n",
       "|  6        | 0.8095238 |\n",
       "|  7        | 0.8571429 |\n",
       "|  8        | 0.7619048 |\n",
       "|  9        | 0.8809524 |\n",
       "| 10        | 0.7619048 |\n",
       "\n"
      ],
      "text/plain": [
       "   k  accuracy \n",
       "1   1 0.8809524\n",
       "2   2 0.8095238\n",
       "3   3 0.7619048\n",
       "4   4 0.7619048\n",
       "5   5 0.7619048\n",
       "6   6 0.8095238\n",
       "7   7 0.8571429\n",
       "8   8 0.7619048\n",
       "9   9 0.8809524\n",
       "10 10 0.7619048"
      ]
     },
     "metadata": {},
     "output_type": "display_data"
    },
    {
     "data": {
      "text/html": [
       "<table>\n",
       "<thead><tr><th scope=col>k</th><th scope=col>accuracy</th></tr></thead>\n",
       "<tbody>\n",
       "\t<tr><td>1        </td><td>0.8809524</td></tr>\n",
       "</tbody>\n",
       "</table>\n"
      ],
      "text/latex": [
       "\\begin{tabular}{r|ll}\n",
       " k & accuracy\\\\\n",
       "\\hline\n",
       "\t 1         & 0.8809524\\\\\n",
       "\\end{tabular}\n"
      ],
      "text/markdown": [
       "\n",
       "| k | accuracy |\n",
       "|---|---|\n",
       "| 1         | 0.8809524 |\n",
       "\n"
      ],
      "text/plain": [
       "  k accuracy \n",
       "1 1 0.8809524"
      ]
     },
     "metadata": {},
     "output_type": "display_data"
    },
    {
     "data": {
      "image/png": "[encoded data removed]",
      "text/plain": [
       "Plot with title \"최적의 k값\""
      ]
     },
     "metadata": {},
     "output_type": "display_data"
    }
   ],
   "source": [
    "library(class)\n",
    "acc<-NULL #비어있는 벡터 \n",
    "for ( i in c(1:10)){ #k값을 1~10까지 증가시키면서 예측정확도 비교\n",
    "    set.seed(123)\n",
    "    pred=knn(train=train,test=test,cl=y_train,k=i)\n",
    "    #벡터에 결과값 추가\n",
    "    acc<-c(acc,mean(y_test == pred))\n",
    "\n",
    "}\n",
    "acc\n",
    "df<-data.frame(k=c(1:10), accuracy=acc) #데이터프레임 생성\n",
    "plot(accuracy ~ k, data=df, type='o', pch=20, main='최적의 k값',\n",
    "    ylim=c(0,1),col='red')\n",
    "#그래프에 라벨 추가\n",
    "with(df,text(accuracy ~ k, labels = c(1:10), pos=1, cex=0.7))\n",
    "df\n",
    "#정확도가 가장 높은 k의 값 구하기\n",
    "n<-min(df[df$accuracy %in% max(acc), 'k'])\n",
    "df[n,]"
   ]
  },
  {
   "cell_type": "code",
   "execution_count": 62,
   "metadata": {
    "scrolled": false
   },
   "outputs": [
    {
     "data": {
      "text/html": [
       "<ol class=list-inline>\n",
       "\t<li>0</li>\n",
       "\t<li>0</li>\n",
       "\t<li>0</li>\n",
       "\t<li>0</li>\n",
       "\t<li>0</li>\n",
       "\t<li>0</li>\n",
       "\t<li>0</li>\n",
       "\t<li>0</li>\n",
       "\t<li>0</li>\n",
       "\t<li>1</li>\n",
       "\t<li>0</li>\n",
       "\t<li>0</li>\n",
       "\t<li>0</li>\n",
       "\t<li>0</li>\n",
       "\t<li>0</li>\n",
       "\t<li>0</li>\n",
       "\t<li>1</li>\n",
       "\t<li>0</li>\n",
       "\t<li>0</li>\n",
       "\t<li>1</li>\n",
       "\t<li>1</li>\n",
       "\t<li>1</li>\n",
       "\t<li>1</li>\n",
       "\t<li>1</li>\n",
       "\t<li>1</li>\n",
       "\t<li>1</li>\n",
       "\t<li>1</li>\n",
       "\t<li>1</li>\n",
       "\t<li>1</li>\n",
       "\t<li>1</li>\n",
       "\t<li>1</li>\n",
       "\t<li>1</li>\n",
       "\t<li>1</li>\n",
       "\t<li>1</li>\n",
       "\t<li>1</li>\n",
       "\t<li>0</li>\n",
       "\t<li>1</li>\n",
       "\t<li>1</li>\n",
       "\t<li>1</li>\n",
       "\t<li>1</li>\n",
       "\t<li>1</li>\n",
       "\t<li>1</li>\n",
       "</ol>\n",
       "\n",
       "<details>\n",
       "\t<summary style=display:list-item;cursor:pointer>\n",
       "\t\t<strong>Levels</strong>:\n",
       "\t</summary>\n",
       "\t<ol class=list-inline>\n",
       "\t\t<li>'0'</li>\n",
       "\t\t<li>'1'</li>\n",
       "\t</ol>\n",
       "</details>"
      ],
      "text/latex": [
       "\\begin{enumerate*}\n",
       "\\item 0\n",
       "\\item 0\n",
       "\\item 0\n",
       "\\item 0\n",
       "\\item 0\n",
       "\\item 0\n",
       "\\item 0\n",
       "\\item 0\n",
       "\\item 0\n",
       "\\item 1\n",
       "\\item 0\n",
       "\\item 0\n",
       "\\item 0\n",
       "\\item 0\n",
       "\\item 0\n",
       "\\item 0\n",
       "\\item 1\n",
       "\\item 0\n",
       "\\item 0\n",
       "\\item 1\n",
       "\\item 1\n",
       "\\item 1\n",
       "\\item 1\n",
       "\\item 1\n",
       "\\item 1\n",
       "\\item 1\n",
       "\\item 1\n",
       "\\item 1\n",
       "\\item 1\n",
       "\\item 1\n",
       "\\item 1\n",
       "\\item 1\n",
       "\\item 1\n",
       "\\item 1\n",
       "\\item 1\n",
       "\\item 0\n",
       "\\item 1\n",
       "\\item 1\n",
       "\\item 1\n",
       "\\item 1\n",
       "\\item 1\n",
       "\\item 1\n",
       "\\end{enumerate*}\n",
       "\n",
       "\\emph{Levels}: \\begin{enumerate*}\n",
       "\\item '0'\n",
       "\\item '1'\n",
       "\\end{enumerate*}\n"
      ],
      "text/markdown": [
       "1. 0\n",
       "2. 0\n",
       "3. 0\n",
       "4. 0\n",
       "5. 0\n",
       "6. 0\n",
       "7. 0\n",
       "8. 0\n",
       "9. 0\n",
       "10. 1\n",
       "11. 0\n",
       "12. 0\n",
       "13. 0\n",
       "14. 0\n",
       "15. 0\n",
       "16. 0\n",
       "17. 1\n",
       "18. 0\n",
       "19. 0\n",
       "20. 1\n",
       "21. 1\n",
       "22. 1\n",
       "23. 1\n",
       "24. 1\n",
       "25. 1\n",
       "26. 1\n",
       "27. 1\n",
       "28. 1\n",
       "29. 1\n",
       "30. 1\n",
       "31. 1\n",
       "32. 1\n",
       "33. 1\n",
       "34. 1\n",
       "35. 1\n",
       "36. 0\n",
       "37. 1\n",
       "38. 1\n",
       "39. 1\n",
       "40. 1\n",
       "41. 1\n",
       "42. 1\n",
       "\n",
       "\n",
       "\n",
       "**Levels**: 1. '0'\n",
       "2. '1'\n",
       "\n",
       "\n"
      ],
      "text/plain": [
       " [1] 0 0 0 0 0 0 0 0 0 1 0 0 0 0 0 0 1 0 0 1 1 1 1 1 1 1 1 1 1 1 1 1 1 1 1 0 1 1\n",
       "[39] 1 1 1 1\n",
       "Levels: 0 1"
      ]
     },
     "metadata": {},
     "output_type": "display_data"
    },
    {
     "data": {
      "text/html": [
       "<ol class=list-inline>\n",
       "\t<li>0</li>\n",
       "\t<li>0</li>\n",
       "\t<li>0</li>\n",
       "\t<li>0</li>\n",
       "\t<li>0</li>\n",
       "\t<li>0</li>\n",
       "\t<li>0</li>\n",
       "\t<li>0</li>\n",
       "\t<li>0</li>\n",
       "\t<li>0</li>\n",
       "\t<li>0</li>\n",
       "\t<li>0</li>\n",
       "\t<li>0</li>\n",
       "\t<li>0</li>\n",
       "\t<li>0</li>\n",
       "\t<li>0</li>\n",
       "\t<li>0</li>\n",
       "\t<li>0</li>\n",
       "\t<li>0</li>\n",
       "\t<li>0</li>\n",
       "\t<li>0</li>\n",
       "\t<li>1</li>\n",
       "\t<li>1</li>\n",
       "\t<li>1</li>\n",
       "\t<li>1</li>\n",
       "\t<li>1</li>\n",
       "\t<li>1</li>\n",
       "\t<li>1</li>\n",
       "\t<li>1</li>\n",
       "\t<li>1</li>\n",
       "\t<li>1</li>\n",
       "\t<li>1</li>\n",
       "\t<li>1</li>\n",
       "\t<li>1</li>\n",
       "\t<li>1</li>\n",
       "\t<li>1</li>\n",
       "\t<li>1</li>\n",
       "\t<li>1</li>\n",
       "\t<li>1</li>\n",
       "\t<li>1</li>\n",
       "\t<li>1</li>\n",
       "\t<li>1</li>\n",
       "</ol>\n"
      ],
      "text/latex": [
       "\\begin{enumerate*}\n",
       "\\item 0\n",
       "\\item 0\n",
       "\\item 0\n",
       "\\item 0\n",
       "\\item 0\n",
       "\\item 0\n",
       "\\item 0\n",
       "\\item 0\n",
       "\\item 0\n",
       "\\item 0\n",
       "\\item 0\n",
       "\\item 0\n",
       "\\item 0\n",
       "\\item 0\n",
       "\\item 0\n",
       "\\item 0\n",
       "\\item 0\n",
       "\\item 0\n",
       "\\item 0\n",
       "\\item 0\n",
       "\\item 0\n",
       "\\item 1\n",
       "\\item 1\n",
       "\\item 1\n",
       "\\item 1\n",
       "\\item 1\n",
       "\\item 1\n",
       "\\item 1\n",
       "\\item 1\n",
       "\\item 1\n",
       "\\item 1\n",
       "\\item 1\n",
       "\\item 1\n",
       "\\item 1\n",
       "\\item 1\n",
       "\\item 1\n",
       "\\item 1\n",
       "\\item 1\n",
       "\\item 1\n",
       "\\item 1\n",
       "\\item 1\n",
       "\\item 1\n",
       "\\end{enumerate*}\n"
      ],
      "text/markdown": [
       "1. 0\n",
       "2. 0\n",
       "3. 0\n",
       "4. 0\n",
       "5. 0\n",
       "6. 0\n",
       "7. 0\n",
       "8. 0\n",
       "9. 0\n",
       "10. 0\n",
       "11. 0\n",
       "12. 0\n",
       "13. 0\n",
       "14. 0\n",
       "15. 0\n",
       "16. 0\n",
       "17. 0\n",
       "18. 0\n",
       "19. 0\n",
       "20. 0\n",
       "21. 0\n",
       "22. 1\n",
       "23. 1\n",
       "24. 1\n",
       "25. 1\n",
       "26. 1\n",
       "27. 1\n",
       "28. 1\n",
       "29. 1\n",
       "30. 1\n",
       "31. 1\n",
       "32. 1\n",
       "33. 1\n",
       "34. 1\n",
       "35. 1\n",
       "36. 1\n",
       "37. 1\n",
       "38. 1\n",
       "39. 1\n",
       "40. 1\n",
       "41. 1\n",
       "42. 1\n",
       "\n",
       "\n"
      ],
      "text/plain": [
       " [1] 0 0 0 0 0 0 0 0 0 0 0 0 0 0 0 0 0 0 0 0 0 1 1 1 1 1 1 1 1 1 1 1 1 1 1 1 1 1\n",
       "[39] 1 1 1 1"
      ]
     },
     "metadata": {},
     "output_type": "display_data"
    }
   ],
   "source": [
    "library(class)\n",
    "set.seed(123) #랜덤시드 고정\n",
    "# knn 함수 knn(train=학습용데이터, test=검증용데이터,cl=분류라벨, k=이웃의 수)\n",
    "pred<-knn(train=train, test=test, cl=y_train, k=n)\n",
    "pred #모형이 예측한 값\n",
    "y_test #실제값"
   ]
  },
  {
   "cell_type": "code",
   "execution_count": 63,
   "metadata": {},
   "outputs": [
    {
     "data": {
      "text/plain": [
       "      pred\n",
       "y_test  0  1\n",
       "     0 17  4\n",
       "     1  1 20"
      ]
     },
     "metadata": {},
     "output_type": "display_data"
    },
    {
     "data": {
      "text/html": [
       "0.880952380952381"
      ],
      "text/latex": [
       "0.880952380952381"
      ],
      "text/markdown": [
       "0.880952380952381"
      ],
      "text/plain": [
       "[1] 0.8809524"
      ]
     },
     "metadata": {},
     "output_type": "display_data"
    }
   ],
   "source": [
    "table(y_test,pred) #오분류표\n",
    "mean(y_test==pred) #예측정확도"
   ]
  },
  {
   "cell_type": "code",
   "execution_count": null,
   "metadata": {},
   "outputs": [],
   "source": []
  },
  {
   "cell_type": "code",
   "execution_count": null,
   "metadata": {},
   "outputs": [],
   "source": []
  },
  {
   "cell_type": "code",
   "execution_count": null,
   "metadata": {},
   "outputs": [],
   "source": []
  },
  {
   "cell_type": "code",
   "execution_count": null,
   "metadata": {},
   "outputs": [],
   "source": []
  },
  {
   "cell_type": "code",
   "execution_count": null,
   "metadata": {},
   "outputs": [],
   "source": []
  },
  {
   "cell_type": "code",
   "execution_count": null,
   "metadata": {},
   "outputs": [],
   "source": []
  },
  {
   "cell_type": "code",
   "execution_count": null,
   "metadata": {},
   "outputs": [],
   "source": []
  }
 ],
 "metadata": {
  "kernelspec": {
   "display_name": "R",
   "language": "R",
   "name": "ir"
  },
  "language_info": {
   "codemirror_mode": "r",
   "file_extension": ".r",
   "mimetype": "text/x-r-source",
   "name": "R",
   "pygments_lexer": "r",
   "version": "3.6.1"
  }
 },
 "nbformat": 4,
 "nbformat_minor": 2
}
