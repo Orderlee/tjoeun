{
 "cells": [
  {
   "cell_type": "code",
   "execution_count": 18,
   "metadata": {},
   "outputs": [
    {
     "data": {
      "text/html": [
       "<table>\n",
       "<thead><tr><th scope=col>id</th><th scope=col>diagnosis</th><th scope=col>class</th><th scope=col>radius_mean</th><th scope=col>texture_mean</th><th scope=col>perimeter_mean</th><th scope=col>area_mean</th><th scope=col>smoothness_mean</th><th scope=col>compactness_mean</th><th scope=col>concavity_mean</th><th scope=col>...</th><th scope=col>radius_worst</th><th scope=col>texture_worst</th><th scope=col>perimeter_worst</th><th scope=col>area_worst</th><th scope=col>smoothness_worst</th><th scope=col>compactness_worst</th><th scope=col>concavity_worst</th><th scope=col>concave.points_worst</th><th scope=col>symmetry_worst</th><th scope=col>fractal_dimension_worst</th></tr></thead>\n",
       "<tbody>\n",
       "\t<tr><td>  842302</td><td>M       </td><td>1       </td><td>17.99   </td><td>10.38   </td><td>122.80  </td><td>1001.0  </td><td>0.11840 </td><td>0.27760 </td><td>0.3001  </td><td>...     </td><td>25.38   </td><td>17.33   </td><td>184.60  </td><td>2019.0  </td><td>0.1622  </td><td>0.6656  </td><td>0.7119  </td><td>0.2654  </td><td>0.4601  </td><td>0.11890 </td></tr>\n",
       "\t<tr><td>  842517</td><td>M       </td><td>1       </td><td>20.57   </td><td>17.77   </td><td>132.90  </td><td>1326.0  </td><td>0.08474 </td><td>0.07864 </td><td>0.0869  </td><td>...     </td><td>24.99   </td><td>23.41   </td><td>158.80  </td><td>1956.0  </td><td>0.1238  </td><td>0.1866  </td><td>0.2416  </td><td>0.1860  </td><td>0.2750  </td><td>0.08902 </td></tr>\n",
       "\t<tr><td>84300903</td><td>M       </td><td>1       </td><td>19.69   </td><td>21.25   </td><td>130.00  </td><td>1203.0  </td><td>0.10960 </td><td>0.15990 </td><td>0.1974  </td><td>...     </td><td>23.57   </td><td>25.53   </td><td>152.50  </td><td>1709.0  </td><td>0.1444  </td><td>0.4245  </td><td>0.4504  </td><td>0.2430  </td><td>0.3613  </td><td>0.08758 </td></tr>\n",
       "\t<tr><td>84348301</td><td>M       </td><td>1       </td><td>11.42   </td><td>20.38   </td><td> 77.58  </td><td> 386.1  </td><td>0.14250 </td><td>0.28390 </td><td>0.2414  </td><td>...     </td><td>14.91   </td><td>26.50   </td><td> 98.87  </td><td> 567.7  </td><td>0.2098  </td><td>0.8663  </td><td>0.6869  </td><td>0.2575  </td><td>0.6638  </td><td>0.17300 </td></tr>\n",
       "\t<tr><td>84358402</td><td>M       </td><td>1       </td><td>20.29   </td><td>14.34   </td><td>135.10  </td><td>1297.0  </td><td>0.10030 </td><td>0.13280 </td><td>0.1980  </td><td>...     </td><td>22.54   </td><td>16.67   </td><td>152.20  </td><td>1575.0  </td><td>0.1374  </td><td>0.2050  </td><td>0.4000  </td><td>0.1625  </td><td>0.2364  </td><td>0.07678 </td></tr>\n",
       "\t<tr><td>  843786</td><td>M       </td><td>1       </td><td>12.45   </td><td>15.70   </td><td> 82.57  </td><td> 477.1  </td><td>0.12780 </td><td>0.17000 </td><td>0.1578  </td><td>...     </td><td>15.47   </td><td>23.75   </td><td>103.40  </td><td> 741.6  </td><td>0.1791  </td><td>0.5249  </td><td>0.5355  </td><td>0.1741  </td><td>0.3985  </td><td>0.12440 </td></tr>\n",
       "</tbody>\n",
       "</table>\n"
      ],
      "text/latex": [
       "\\begin{tabular}{r|lllllllllllllllllllllllllllllllll}\n",
       " id & diagnosis & class & radius\\_mean & texture\\_mean & perimeter\\_mean & area\\_mean & smoothness\\_mean & compactness\\_mean & concavity\\_mean & ... & radius\\_worst & texture\\_worst & perimeter\\_worst & area\\_worst & smoothness\\_worst & compactness\\_worst & concavity\\_worst & concave.points\\_worst & symmetry\\_worst & fractal\\_dimension\\_worst\\\\\n",
       "\\hline\n",
       "\t   842302 & M        & 1        & 17.99    & 10.38    & 122.80   & 1001.0   & 0.11840  & 0.27760  & 0.3001   & ...      & 25.38    & 17.33    & 184.60   & 2019.0   & 0.1622   & 0.6656   & 0.7119   & 0.2654   & 0.4601   & 0.11890 \\\\\n",
       "\t   842517 & M        & 1        & 20.57    & 17.77    & 132.90   & 1326.0   & 0.08474  & 0.07864  & 0.0869   & ...      & 24.99    & 23.41    & 158.80   & 1956.0   & 0.1238   & 0.1866   & 0.2416   & 0.1860   & 0.2750   & 0.08902 \\\\\n",
       "\t 84300903 & M        & 1        & 19.69    & 21.25    & 130.00   & 1203.0   & 0.10960  & 0.15990  & 0.1974   & ...      & 23.57    & 25.53    & 152.50   & 1709.0   & 0.1444   & 0.4245   & 0.4504   & 0.2430   & 0.3613   & 0.08758 \\\\\n",
       "\t 84348301 & M        & 1        & 11.42    & 20.38    &  77.58   &  386.1   & 0.14250  & 0.28390  & 0.2414   & ...      & 14.91    & 26.50    &  98.87   &  567.7   & 0.2098   & 0.8663   & 0.6869   & 0.2575   & 0.6638   & 0.17300 \\\\\n",
       "\t 84358402 & M        & 1        & 20.29    & 14.34    & 135.10   & 1297.0   & 0.10030  & 0.13280  & 0.1980   & ...      & 22.54    & 16.67    & 152.20   & 1575.0   & 0.1374   & 0.2050   & 0.4000   & 0.1625   & 0.2364   & 0.07678 \\\\\n",
       "\t   843786 & M        & 1        & 12.45    & 15.70    &  82.57   &  477.1   & 0.12780  & 0.17000  & 0.1578   & ...      & 15.47    & 23.75    & 103.40   &  741.6   & 0.1791   & 0.5249   & 0.5355   & 0.1741   & 0.3985   & 0.12440 \\\\\n",
       "\\end{tabular}\n"
      ],
      "text/markdown": [
       "\n",
       "| id | diagnosis | class | radius_mean | texture_mean | perimeter_mean | area_mean | smoothness_mean | compactness_mean | concavity_mean | ... | radius_worst | texture_worst | perimeter_worst | area_worst | smoothness_worst | compactness_worst | concavity_worst | concave.points_worst | symmetry_worst | fractal_dimension_worst |\n",
       "|---|---|---|---|---|---|---|---|---|---|---|---|---|---|---|---|---|---|---|---|---|\n",
       "|   842302 | M        | 1        | 17.99    | 10.38    | 122.80   | 1001.0   | 0.11840  | 0.27760  | 0.3001   | ...      | 25.38    | 17.33    | 184.60   | 2019.0   | 0.1622   | 0.6656   | 0.7119   | 0.2654   | 0.4601   | 0.11890  |\n",
       "|   842517 | M        | 1        | 20.57    | 17.77    | 132.90   | 1326.0   | 0.08474  | 0.07864  | 0.0869   | ...      | 24.99    | 23.41    | 158.80   | 1956.0   | 0.1238   | 0.1866   | 0.2416   | 0.1860   | 0.2750   | 0.08902  |\n",
       "| 84300903 | M        | 1        | 19.69    | 21.25    | 130.00   | 1203.0   | 0.10960  | 0.15990  | 0.1974   | ...      | 23.57    | 25.53    | 152.50   | 1709.0   | 0.1444   | 0.4245   | 0.4504   | 0.2430   | 0.3613   | 0.08758  |\n",
       "| 84348301 | M        | 1        | 11.42    | 20.38    |  77.58   |  386.1   | 0.14250  | 0.28390  | 0.2414   | ...      | 14.91    | 26.50    |  98.87   |  567.7   | 0.2098   | 0.8663   | 0.6869   | 0.2575   | 0.6638   | 0.17300  |\n",
       "| 84358402 | M        | 1        | 20.29    | 14.34    | 135.10   | 1297.0   | 0.10030  | 0.13280  | 0.1980   | ...      | 22.54    | 16.67    | 152.20   | 1575.0   | 0.1374   | 0.2050   | 0.4000   | 0.1625   | 0.2364   | 0.07678  |\n",
       "|   843786 | M        | 1        | 12.45    | 15.70    |  82.57   |  477.1   | 0.12780  | 0.17000  | 0.1578   | ...      | 15.47    | 23.75    | 103.40   |  741.6   | 0.1791   | 0.5249   | 0.5355   | 0.1741   | 0.3985   | 0.12440  |\n",
       "\n"
      ],
      "text/plain": [
       "  id       diagnosis class radius_mean texture_mean perimeter_mean area_mean\n",
       "1   842302 M         1     17.99       10.38        122.80         1001.0   \n",
       "2   842517 M         1     20.57       17.77        132.90         1326.0   \n",
       "3 84300903 M         1     19.69       21.25        130.00         1203.0   \n",
       "4 84348301 M         1     11.42       20.38         77.58          386.1   \n",
       "5 84358402 M         1     20.29       14.34        135.10         1297.0   \n",
       "6   843786 M         1     12.45       15.70         82.57          477.1   \n",
       "  smoothness_mean compactness_mean concavity_mean ... radius_worst\n",
       "1 0.11840         0.27760          0.3001         ... 25.38       \n",
       "2 0.08474         0.07864          0.0869         ... 24.99       \n",
       "3 0.10960         0.15990          0.1974         ... 23.57       \n",
       "4 0.14250         0.28390          0.2414         ... 14.91       \n",
       "5 0.10030         0.13280          0.1980         ... 22.54       \n",
       "6 0.12780         0.17000          0.1578         ... 15.47       \n",
       "  texture_worst perimeter_worst area_worst smoothness_worst compactness_worst\n",
       "1 17.33         184.60          2019.0     0.1622           0.6656           \n",
       "2 23.41         158.80          1956.0     0.1238           0.1866           \n",
       "3 25.53         152.50          1709.0     0.1444           0.4245           \n",
       "4 26.50          98.87           567.7     0.2098           0.8663           \n",
       "5 16.67         152.20          1575.0     0.1374           0.2050           \n",
       "6 23.75         103.40           741.6     0.1791           0.5249           \n",
       "  concavity_worst concave.points_worst symmetry_worst fractal_dimension_worst\n",
       "1 0.7119          0.2654               0.4601         0.11890                \n",
       "2 0.2416          0.1860               0.2750         0.08902                \n",
       "3 0.4504          0.2430               0.3613         0.08758                \n",
       "4 0.6869          0.2575               0.6638         0.17300                \n",
       "5 0.4000          0.1625               0.2364         0.07678                \n",
       "6 0.5355          0.1741               0.3985         0.12440                "
      ]
     },
     "metadata": {},
     "output_type": "display_data"
    }
   ],
   "source": [
    "df<-read.csv('d:/data/cancer/data.csv')\n",
    "head(df)"
   ]
  },
  {
   "cell_type": "code",
   "execution_count": 19,
   "metadata": {},
   "outputs": [
    {
     "data": {
      "text/html": [
       "<ol class=list-inline>\n",
       "\t<li>569</li>\n",
       "\t<li>31</li>\n",
       "</ol>\n"
      ],
      "text/latex": [
       "\\begin{enumerate*}\n",
       "\\item 569\n",
       "\\item 31\n",
       "\\end{enumerate*}\n"
      ],
      "text/markdown": [
       "1. 569\n",
       "2. 31\n",
       "\n",
       "\n"
      ],
      "text/plain": [
       "[1] 569  31"
      ]
     },
     "metadata": {},
     "output_type": "display_data"
    },
    {
     "data": {
      "text/html": [
       "<table>\n",
       "<thead><tr><th scope=col>class</th><th scope=col>radius_mean</th><th scope=col>texture_mean</th><th scope=col>perimeter_mean</th><th scope=col>area_mean</th><th scope=col>smoothness_mean</th><th scope=col>compactness_mean</th><th scope=col>concavity_mean</th><th scope=col>concave.points_mean</th><th scope=col>symmetry_mean</th><th scope=col>...</th><th scope=col>radius_worst</th><th scope=col>texture_worst</th><th scope=col>perimeter_worst</th><th scope=col>area_worst</th><th scope=col>smoothness_worst</th><th scope=col>compactness_worst</th><th scope=col>concavity_worst</th><th scope=col>concave.points_worst</th><th scope=col>symmetry_worst</th><th scope=col>fractal_dimension_worst</th></tr></thead>\n",
       "<tbody>\n",
       "\t<tr><td>1      </td><td>17.99  </td><td>10.38  </td><td>122.80 </td><td>1001.0 </td><td>0.11840</td><td>0.27760</td><td>0.3001 </td><td>0.14710</td><td>0.2419 </td><td>...    </td><td>25.38  </td><td>17.33  </td><td>184.60 </td><td>2019.0 </td><td>0.1622 </td><td>0.6656 </td><td>0.7119 </td><td>0.2654 </td><td>0.4601 </td><td>0.11890</td></tr>\n",
       "\t<tr><td>1      </td><td>20.57  </td><td>17.77  </td><td>132.90 </td><td>1326.0 </td><td>0.08474</td><td>0.07864</td><td>0.0869 </td><td>0.07017</td><td>0.1812 </td><td>...    </td><td>24.99  </td><td>23.41  </td><td>158.80 </td><td>1956.0 </td><td>0.1238 </td><td>0.1866 </td><td>0.2416 </td><td>0.1860 </td><td>0.2750 </td><td>0.08902</td></tr>\n",
       "\t<tr><td>1      </td><td>19.69  </td><td>21.25  </td><td>130.00 </td><td>1203.0 </td><td>0.10960</td><td>0.15990</td><td>0.1974 </td><td>0.12790</td><td>0.2069 </td><td>...    </td><td>23.57  </td><td>25.53  </td><td>152.50 </td><td>1709.0 </td><td>0.1444 </td><td>0.4245 </td><td>0.4504 </td><td>0.2430 </td><td>0.3613 </td><td>0.08758</td></tr>\n",
       "\t<tr><td>1      </td><td>11.42  </td><td>20.38  </td><td> 77.58 </td><td> 386.1 </td><td>0.14250</td><td>0.28390</td><td>0.2414 </td><td>0.10520</td><td>0.2597 </td><td>...    </td><td>14.91  </td><td>26.50  </td><td> 98.87 </td><td> 567.7 </td><td>0.2098 </td><td>0.8663 </td><td>0.6869 </td><td>0.2575 </td><td>0.6638 </td><td>0.17300</td></tr>\n",
       "\t<tr><td>1      </td><td>20.29  </td><td>14.34  </td><td>135.10 </td><td>1297.0 </td><td>0.10030</td><td>0.13280</td><td>0.1980 </td><td>0.10430</td><td>0.1809 </td><td>...    </td><td>22.54  </td><td>16.67  </td><td>152.20 </td><td>1575.0 </td><td>0.1374 </td><td>0.2050 </td><td>0.4000 </td><td>0.1625 </td><td>0.2364 </td><td>0.07678</td></tr>\n",
       "\t<tr><td>1      </td><td>12.45  </td><td>15.70  </td><td> 82.57 </td><td> 477.1 </td><td>0.12780</td><td>0.17000</td><td>0.1578 </td><td>0.08089</td><td>0.2087 </td><td>...    </td><td>15.47  </td><td>23.75  </td><td>103.40 </td><td> 741.6 </td><td>0.1791 </td><td>0.5249 </td><td>0.5355 </td><td>0.1741 </td><td>0.3985 </td><td>0.12440</td></tr>\n",
       "</tbody>\n",
       "</table>\n"
      ],
      "text/latex": [
       "\\begin{tabular}{r|lllllllllllllllllllllllllllllll}\n",
       " class & radius\\_mean & texture\\_mean & perimeter\\_mean & area\\_mean & smoothness\\_mean & compactness\\_mean & concavity\\_mean & concave.points\\_mean & symmetry\\_mean & ... & radius\\_worst & texture\\_worst & perimeter\\_worst & area\\_worst & smoothness\\_worst & compactness\\_worst & concavity\\_worst & concave.points\\_worst & symmetry\\_worst & fractal\\_dimension\\_worst\\\\\n",
       "\\hline\n",
       "\t 1       & 17.99   & 10.38   & 122.80  & 1001.0  & 0.11840 & 0.27760 & 0.3001  & 0.14710 & 0.2419  & ...     & 25.38   & 17.33   & 184.60  & 2019.0  & 0.1622  & 0.6656  & 0.7119  & 0.2654  & 0.4601  & 0.11890\\\\\n",
       "\t 1       & 20.57   & 17.77   & 132.90  & 1326.0  & 0.08474 & 0.07864 & 0.0869  & 0.07017 & 0.1812  & ...     & 24.99   & 23.41   & 158.80  & 1956.0  & 0.1238  & 0.1866  & 0.2416  & 0.1860  & 0.2750  & 0.08902\\\\\n",
       "\t 1       & 19.69   & 21.25   & 130.00  & 1203.0  & 0.10960 & 0.15990 & 0.1974  & 0.12790 & 0.2069  & ...     & 23.57   & 25.53   & 152.50  & 1709.0  & 0.1444  & 0.4245  & 0.4504  & 0.2430  & 0.3613  & 0.08758\\\\\n",
       "\t 1       & 11.42   & 20.38   &  77.58  &  386.1  & 0.14250 & 0.28390 & 0.2414  & 0.10520 & 0.2597  & ...     & 14.91   & 26.50   &  98.87  &  567.7  & 0.2098  & 0.8663  & 0.6869  & 0.2575  & 0.6638  & 0.17300\\\\\n",
       "\t 1       & 20.29   & 14.34   & 135.10  & 1297.0  & 0.10030 & 0.13280 & 0.1980  & 0.10430 & 0.1809  & ...     & 22.54   & 16.67   & 152.20  & 1575.0  & 0.1374  & 0.2050  & 0.4000  & 0.1625  & 0.2364  & 0.07678\\\\\n",
       "\t 1       & 12.45   & 15.70   &  82.57  &  477.1  & 0.12780 & 0.17000 & 0.1578  & 0.08089 & 0.2087  & ...     & 15.47   & 23.75   & 103.40  &  741.6  & 0.1791  & 0.5249  & 0.5355  & 0.1741  & 0.3985  & 0.12440\\\\\n",
       "\\end{tabular}\n"
      ],
      "text/markdown": [
       "\n",
       "| class | radius_mean | texture_mean | perimeter_mean | area_mean | smoothness_mean | compactness_mean | concavity_mean | concave.points_mean | symmetry_mean | ... | radius_worst | texture_worst | perimeter_worst | area_worst | smoothness_worst | compactness_worst | concavity_worst | concave.points_worst | symmetry_worst | fractal_dimension_worst |\n",
       "|---|---|---|---|---|---|---|---|---|---|---|---|---|---|---|---|---|---|---|---|---|\n",
       "| 1       | 17.99   | 10.38   | 122.80  | 1001.0  | 0.11840 | 0.27760 | 0.3001  | 0.14710 | 0.2419  | ...     | 25.38   | 17.33   | 184.60  | 2019.0  | 0.1622  | 0.6656  | 0.7119  | 0.2654  | 0.4601  | 0.11890 |\n",
       "| 1       | 20.57   | 17.77   | 132.90  | 1326.0  | 0.08474 | 0.07864 | 0.0869  | 0.07017 | 0.1812  | ...     | 24.99   | 23.41   | 158.80  | 1956.0  | 0.1238  | 0.1866  | 0.2416  | 0.1860  | 0.2750  | 0.08902 |\n",
       "| 1       | 19.69   | 21.25   | 130.00  | 1203.0  | 0.10960 | 0.15990 | 0.1974  | 0.12790 | 0.2069  | ...     | 23.57   | 25.53   | 152.50  | 1709.0  | 0.1444  | 0.4245  | 0.4504  | 0.2430  | 0.3613  | 0.08758 |\n",
       "| 1       | 11.42   | 20.38   |  77.58  |  386.1  | 0.14250 | 0.28390 | 0.2414  | 0.10520 | 0.2597  | ...     | 14.91   | 26.50   |  98.87  |  567.7  | 0.2098  | 0.8663  | 0.6869  | 0.2575  | 0.6638  | 0.17300 |\n",
       "| 1       | 20.29   | 14.34   | 135.10  | 1297.0  | 0.10030 | 0.13280 | 0.1980  | 0.10430 | 0.1809  | ...     | 22.54   | 16.67   | 152.20  | 1575.0  | 0.1374  | 0.2050  | 0.4000  | 0.1625  | 0.2364  | 0.07678 |\n",
       "| 1       | 12.45   | 15.70   |  82.57  |  477.1  | 0.12780 | 0.17000 | 0.1578  | 0.08089 | 0.2087  | ...     | 15.47   | 23.75   | 103.40  |  741.6  | 0.1791  | 0.5249  | 0.5355  | 0.1741  | 0.3985  | 0.12440 |\n",
       "\n"
      ],
      "text/plain": [
       "  class radius_mean texture_mean perimeter_mean area_mean smoothness_mean\n",
       "1 1     17.99       10.38        122.80         1001.0    0.11840        \n",
       "2 1     20.57       17.77        132.90         1326.0    0.08474        \n",
       "3 1     19.69       21.25        130.00         1203.0    0.10960        \n",
       "4 1     11.42       20.38         77.58          386.1    0.14250        \n",
       "5 1     20.29       14.34        135.10         1297.0    0.10030        \n",
       "6 1     12.45       15.70         82.57          477.1    0.12780        \n",
       "  compactness_mean concavity_mean concave.points_mean symmetry_mean ...\n",
       "1 0.27760          0.3001         0.14710             0.2419        ...\n",
       "2 0.07864          0.0869         0.07017             0.1812        ...\n",
       "3 0.15990          0.1974         0.12790             0.2069        ...\n",
       "4 0.28390          0.2414         0.10520             0.2597        ...\n",
       "5 0.13280          0.1980         0.10430             0.1809        ...\n",
       "6 0.17000          0.1578         0.08089             0.2087        ...\n",
       "  radius_worst texture_worst perimeter_worst area_worst smoothness_worst\n",
       "1 25.38        17.33         184.60          2019.0     0.1622          \n",
       "2 24.99        23.41         158.80          1956.0     0.1238          \n",
       "3 23.57        25.53         152.50          1709.0     0.1444          \n",
       "4 14.91        26.50          98.87           567.7     0.2098          \n",
       "5 22.54        16.67         152.20          1575.0     0.1374          \n",
       "6 15.47        23.75         103.40           741.6     0.1791          \n",
       "  compactness_worst concavity_worst concave.points_worst symmetry_worst\n",
       "1 0.6656            0.7119          0.2654               0.4601        \n",
       "2 0.1866            0.2416          0.1860               0.2750        \n",
       "3 0.4245            0.4504          0.2430               0.3613        \n",
       "4 0.8663            0.6869          0.2575               0.6638        \n",
       "5 0.2050            0.4000          0.1625               0.2364        \n",
       "6 0.5249            0.5355          0.1741               0.3985        \n",
       "  fractal_dimension_worst\n",
       "1 0.11890                \n",
       "2 0.08902                \n",
       "3 0.08758                \n",
       "4 0.17300                \n",
       "5 0.07678                \n",
       "6 0.12440                "
      ]
     },
     "metadata": {},
     "output_type": "display_data"
    }
   ],
   "source": [
    "library(dplyr)\n",
    "df<-df %>% select(-id,-diagnosis)\n",
    "# 0양성, 1 악성\n",
    "dim(df)\n",
    "head(df)"
   ]
  },
  {
   "cell_type": "code",
   "execution_count": 20,
   "metadata": {},
   "outputs": [
    {
     "data": {
      "text/plain": [
       "\n",
       "  0   1 \n",
       "357 212 "
      ]
     },
     "metadata": {},
     "output_type": "display_data"
    },
    {
     "data": {
      "image/png": "[encoded data removed]",
      "text/plain": [
       "plot without title"
      ]
     },
     "metadata": {},
     "output_type": "display_data"
    }
   ],
   "source": [
    "(tbl<-table(df$class))\n",
    "barplot(tbl,beside=T,legend=T,col=rainbow(2))"
   ]
  },
  {
   "cell_type": "code",
   "execution_count": 21,
   "metadata": {},
   "outputs": [
    {
     "data": {
      "text/plain": [
       "\n",
       "  0   1 \n",
       "212 212 "
      ]
     },
     "metadata": {},
     "output_type": "display_data"
    }
   ],
   "source": [
    "library(ROSE)\n",
    "#언더샘플링\n",
    "df_samp<-ovun.sample(class~., data=df, seed=1, method='under',\n",
    "                    N=212*2)$data\n",
    "tbl<-table(df_samp$class)\n",
    "tbl"
   ]
  },
  {
   "cell_type": "code",
   "execution_count": 22,
   "metadata": {},
   "outputs": [],
   "source": [
    "library(caret)\n",
    "set.seed(123)\n",
    "#학습용:검증용 8:2로 구분\n",
    "idx_train <- createDataPartition(y=df_samp$class, p=0.8,\n",
    "                                list=F)\n",
    "train<-df_samp[idx_train,]\n",
    "X_train<-train[,-1]\n",
    "y_train<-train[,1]\n",
    "test<-df_samp[-idx_train,]\n",
    "X_test<-test[,-1]\n",
    "y_test<-test[,1]"
   ]
  },
  {
   "cell_type": "code",
   "execution_count": 25,
   "metadata": {},
   "outputs": [
    {
     "data": {
      "text/html": [
       "<table>\n",
       "<thead><tr><th scope=col>k</th><th scope=col>accuracy</th></tr></thead>\n",
       "<tbody>\n",
       "\t<tr><td> 1       </td><td>0.8452381</td></tr>\n",
       "\t<tr><td> 2       </td><td>0.8690476</td></tr>\n",
       "\t<tr><td> 3       </td><td>0.8452381</td></tr>\n",
       "\t<tr><td> 4       </td><td>0.8571429</td></tr>\n",
       "\t<tr><td> 5       </td><td>0.8928571</td></tr>\n",
       "\t<tr><td> 6       </td><td>0.8809524</td></tr>\n",
       "\t<tr><td> 7       </td><td>0.8928571</td></tr>\n",
       "\t<tr><td> 8       </td><td>0.8809524</td></tr>\n",
       "\t<tr><td> 9       </td><td>0.8928571</td></tr>\n",
       "\t<tr><td>10       </td><td>0.8928571</td></tr>\n",
       "</tbody>\n",
       "</table>\n"
      ],
      "text/latex": [
       "\\begin{tabular}{r|ll}\n",
       " k & accuracy\\\\\n",
       "\\hline\n",
       "\t  1        & 0.8452381\\\\\n",
       "\t  2        & 0.8690476\\\\\n",
       "\t  3        & 0.8452381\\\\\n",
       "\t  4        & 0.8571429\\\\\n",
       "\t  5        & 0.8928571\\\\\n",
       "\t  6        & 0.8809524\\\\\n",
       "\t  7        & 0.8928571\\\\\n",
       "\t  8        & 0.8809524\\\\\n",
       "\t  9        & 0.8928571\\\\\n",
       "\t 10        & 0.8928571\\\\\n",
       "\\end{tabular}\n"
      ],
      "text/markdown": [
       "\n",
       "| k | accuracy |\n",
       "|---|---|\n",
       "|  1        | 0.8452381 |\n",
       "|  2        | 0.8690476 |\n",
       "|  3        | 0.8452381 |\n",
       "|  4        | 0.8571429 |\n",
       "|  5        | 0.8928571 |\n",
       "|  6        | 0.8809524 |\n",
       "|  7        | 0.8928571 |\n",
       "|  8        | 0.8809524 |\n",
       "|  9        | 0.8928571 |\n",
       "| 10        | 0.8928571 |\n",
       "\n"
      ],
      "text/plain": [
       "   k  accuracy \n",
       "1   1 0.8452381\n",
       "2   2 0.8690476\n",
       "3   3 0.8452381\n",
       "4   4 0.8571429\n",
       "5   5 0.8928571\n",
       "6   6 0.8809524\n",
       "7   7 0.8928571\n",
       "8   8 0.8809524\n",
       "9   9 0.8928571\n",
       "10 10 0.8928571"
      ]
     },
     "metadata": {},
     "output_type": "display_data"
    },
    {
     "data": {
      "text/html": [
       "<table>\n",
       "<thead><tr><th></th><th scope=col>k</th><th scope=col>accuracy</th></tr></thead>\n",
       "<tbody>\n",
       "\t<tr><th scope=row>5</th><td>5        </td><td>0.8928571</td></tr>\n",
       "</tbody>\n",
       "</table>\n"
      ],
      "text/latex": [
       "\\begin{tabular}{r|ll}\n",
       "  & k & accuracy\\\\\n",
       "\\hline\n",
       "\t5 & 5         & 0.8928571\\\\\n",
       "\\end{tabular}\n"
      ],
      "text/markdown": [
       "\n",
       "| <!--/--> | k | accuracy |\n",
       "|---|---|---|\n",
       "| 5 | 5         | 0.8928571 |\n",
       "\n"
      ],
      "text/plain": [
       "  k accuracy \n",
       "5 5 0.8928571"
      ]
     },
     "metadata": {},
     "output_type": "display_data"
    },
    {
     "data": {
      "image/png": "[encoded data removed]",
      "text/plain": [
       "Plot with title \"최적의 k값\""
      ]
     },
     "metadata": {},
     "output_type": "display_data"
    }
   ],
   "source": [
    "library(class)\n",
    "acc<-NULL #비어있는 벡터\n",
    "for ( i in c(1:10)){ #k 값을 1~10 까지 증가시키면서 예측정확도 비교\n",
    "    set.seed(123)\n",
    "    pred=knn(train=train,test=test,cl=y_train,k=i)\n",
    "    #벡터에 결과값 추가\n",
    "    acc<-c(acc,mean(y_test == pred))\n",
    "}\n",
    "df<-data.frame(k=c(1:10), accuracy=acc) #데이터프레임 생성\n",
    "plot(accuracy ~ k , data=df, type='o',pch=20, main='최적의 k값',\n",
    "    ylim=c(0,1),col='red')\n",
    "#그래프에 라벨 추가\n",
    "with(df,text(accuracy ~ k, labels=c(1:10),pos=1,cex=0.7))\n",
    "df\n",
    "#정확도가 가장 높은 k의 값 구하기\n",
    "n<-min(df[df$accuracy %in% max(acc),'k'])\n",
    "df[n,]"
   ]
  },
  {
   "cell_type": "code",
   "execution_count": 24,
   "metadata": {},
   "outputs": [
    {
     "data": {
      "text/plain": [
       "      pred\n",
       "y_test  0  1\n",
       "     0 39  3\n",
       "     1  6 36"
      ]
     },
     "metadata": {},
     "output_type": "display_data"
    },
    {
     "data": {
      "text/html": [
       "0.892857142857143"
      ],
      "text/latex": [
       "0.892857142857143"
      ],
      "text/markdown": [
       "0.892857142857143"
      ],
      "text/plain": [
       "[1] 0.8928571"
      ]
     },
     "metadata": {},
     "output_type": "display_data"
    }
   ],
   "source": [
    "library(class)\n",
    "set.seed(123)\n",
    "#최적의 k 값으로 모형을 만들고 예측 정확도 확인\n",
    "pred<-knn(train=train, test=test, cl=y_train, k=n)\n",
    "table(y_test,pred)\n",
    "mean(y_test==pred)"
   ]
  },
  {
   "cell_type": "code",
   "execution_count": null,
   "metadata": {},
   "outputs": [],
   "source": []
  },
  {
   "cell_type": "code",
   "execution_count": null,
   "metadata": {},
   "outputs": [],
   "source": []
  },
  {
   "cell_type": "code",
   "execution_count": null,
   "metadata": {},
   "outputs": [],
   "source": []
  },
  {
   "cell_type": "code",
   "execution_count": null,
   "metadata": {},
   "outputs": [],
   "source": []
  }
 ],
 "metadata": {
  "kernelspec": {
   "display_name": "R",
   "language": "R",
   "name": "ir"
  },
  "language_info": {
   "codemirror_mode": "r",
   "file_extension": ".r",
   "mimetype": "text/x-r-source",
   "name": "R",
   "pygments_lexer": "r",
   "version": "3.6.1"
  }
 },
 "nbformat": 4,
 "nbformat_minor": 2
}
