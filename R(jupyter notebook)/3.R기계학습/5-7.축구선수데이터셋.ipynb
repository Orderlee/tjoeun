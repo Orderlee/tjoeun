{
 "cells": [
  {
   "cell_type": "code",
   "execution_count": 3,
   "metadata": {},
   "outputs": [
    {
     "data": {
      "text/html": [
       "<table>\n",
       "<thead><tr><th scope=col>id</th><th scope=col>player_name</th><th scope=col>birthday</th><th scope=col>preferred_foot</th><th scope=col>age</th><th scope=col>height</th><th scope=col>weight</th><th scope=col>potential</th><th scope=col>right_foot</th><th scope=col>left_foot</th><th scope=col>...</th><th scope=col>marking</th><th scope=col>standing_tackle</th><th scope=col>sliding_tackle</th><th scope=col>gk_diving</th><th scope=col>gk_handling</th><th scope=col>gk_kicking</th><th scope=col>gk_positioning</th><th scope=col>gk_reflexes</th><th scope=col>overall_rating</th><th scope=col>Label</th></tr></thead>\n",
       "<tbody>\n",
       "\t<tr><td>1                 </td><td>Aaron Appindangoye</td><td>1992-02-29        </td><td>right             </td><td>27                </td><td>183               </td><td>187               </td><td>71                </td><td>1                 </td><td>0                 </td><td>...               </td><td>65                </td><td>69                </td><td>69                </td><td> 6                </td><td>11                </td><td>10                </td><td>8                 </td><td> 8                </td><td>67                </td><td>0                 </td></tr>\n",
       "\t<tr><td>2                 </td><td>Aaron Cresswell   </td><td>1989-12-15        </td><td>right             </td><td>30                </td><td>170               </td><td>146               </td><td>71                </td><td>1                 </td><td>0                 </td><td>...               </td><td>65                </td><td>69                </td><td>69                </td><td> 6                </td><td>11                </td><td>10                </td><td>8                 </td><td> 8                </td><td>67                </td><td>0                 </td></tr>\n",
       "\t<tr><td>3                 </td><td>Aaron Doran       </td><td>1991-05-13        </td><td>right             </td><td>28                </td><td>170               </td><td>163               </td><td>66                </td><td>1                 </td><td>0                 </td><td>...               </td><td>65                </td><td>66                </td><td>69                </td><td> 6                </td><td>11                </td><td>10                </td><td>8                 </td><td> 8                </td><td>62                </td><td>0                 </td></tr>\n",
       "\t<tr><td>4                 </td><td>Aaron Galindo     </td><td>1982-05-08        </td><td>right             </td><td>37                </td><td>183               </td><td>198               </td><td>65                </td><td>1                 </td><td>0                 </td><td>...               </td><td>62                </td><td>63                </td><td>66                </td><td> 5                </td><td>10                </td><td> 9                </td><td>7                 </td><td> 7                </td><td>61                </td><td>0                 </td></tr>\n",
       "\t<tr><td>5                 </td><td>Aaron Hughes      </td><td>1979-11-08        </td><td>right             </td><td>40                </td><td>183               </td><td>154               </td><td>65                </td><td>1                 </td><td>0                 </td><td>...               </td><td>62                </td><td>63                </td><td>66                </td><td> 5                </td><td>10                </td><td> 9                </td><td>7                 </td><td> 7                </td><td>61                </td><td>0                 </td></tr>\n",
       "\t<tr><td>6                 </td><td>Aaron Hunt        </td><td>1986-09-04        </td><td>left              </td><td>33                </td><td>183               </td><td>161               </td><td>76                </td><td>0                 </td><td>1                 </td><td>...               </td><td>76                </td><td>75                </td><td>78                </td><td>14                </td><td> 7                </td><td> 9                </td><td>9                 </td><td>12                </td><td>74                </td><td>1                 </td></tr>\n",
       "</tbody>\n",
       "</table>\n"
      ],
      "text/latex": [
       "\\begin{tabular}{r|lllllllllllllllllllllllllllllllllllllllllllll}\n",
       " id & player\\_name & birthday & preferred\\_foot & age & height & weight & potential & right\\_foot & left\\_foot & ... & marking & standing\\_tackle & sliding\\_tackle & gk\\_diving & gk\\_handling & gk\\_kicking & gk\\_positioning & gk\\_reflexes & overall\\_rating & Label\\\\\n",
       "\\hline\n",
       "\t 1                  & Aaron Appindangoye & 1992-02-29         & right              & 27                 & 183                & 187                & 71                 & 1                  & 0                  & ...                & 65                 & 69                 & 69                 &  6                 & 11                 & 10                 & 8                  &  8                 & 67                 & 0                 \\\\\n",
       "\t 2                  & Aaron Cresswell    & 1989-12-15         & right              & 30                 & 170                & 146                & 71                 & 1                  & 0                  & ...                & 65                 & 69                 & 69                 &  6                 & 11                 & 10                 & 8                  &  8                 & 67                 & 0                 \\\\\n",
       "\t 3                  & Aaron Doran        & 1991-05-13         & right              & 28                 & 170                & 163                & 66                 & 1                  & 0                  & ...                & 65                 & 66                 & 69                 &  6                 & 11                 & 10                 & 8                  &  8                 & 62                 & 0                 \\\\\n",
       "\t 4                  & Aaron Galindo      & 1982-05-08         & right              & 37                 & 183                & 198                & 65                 & 1                  & 0                  & ...                & 62                 & 63                 & 66                 &  5                 & 10                 &  9                 & 7                  &  7                 & 61                 & 0                 \\\\\n",
       "\t 5                  & Aaron Hughes       & 1979-11-08         & right              & 40                 & 183                & 154                & 65                 & 1                  & 0                  & ...                & 62                 & 63                 & 66                 &  5                 & 10                 &  9                 & 7                  &  7                 & 61                 & 0                 \\\\\n",
       "\t 6                  & Aaron Hunt         & 1986-09-04         & left               & 33                 & 183                & 161                & 76                 & 0                  & 1                  & ...                & 76                 & 75                 & 78                 & 14                 &  7                 &  9                 & 9                  & 12                 & 74                 & 1                 \\\\\n",
       "\\end{tabular}\n"
      ],
      "text/markdown": [
       "\n",
       "| id | player_name | birthday | preferred_foot | age | height | weight | potential | right_foot | left_foot | ... | marking | standing_tackle | sliding_tackle | gk_diving | gk_handling | gk_kicking | gk_positioning | gk_reflexes | overall_rating | Label |\n",
       "|---|---|---|---|---|---|---|---|---|---|---|---|---|---|---|---|---|---|---|---|---|\n",
       "| 1                  | Aaron Appindangoye | 1992-02-29         | right              | 27                 | 183                | 187                | 71                 | 1                  | 0                  | ...                | 65                 | 69                 | 69                 |  6                 | 11                 | 10                 | 8                  |  8                 | 67                 | 0                  |\n",
       "| 2                  | Aaron Cresswell    | 1989-12-15         | right              | 30                 | 170                | 146                | 71                 | 1                  | 0                  | ...                | 65                 | 69                 | 69                 |  6                 | 11                 | 10                 | 8                  |  8                 | 67                 | 0                  |\n",
       "| 3                  | Aaron Doran        | 1991-05-13         | right              | 28                 | 170                | 163                | 66                 | 1                  | 0                  | ...                | 65                 | 66                 | 69                 |  6                 | 11                 | 10                 | 8                  |  8                 | 62                 | 0                  |\n",
       "| 4                  | Aaron Galindo      | 1982-05-08         | right              | 37                 | 183                | 198                | 65                 | 1                  | 0                  | ...                | 62                 | 63                 | 66                 |  5                 | 10                 |  9                 | 7                  |  7                 | 61                 | 0                  |\n",
       "| 5                  | Aaron Hughes       | 1979-11-08         | right              | 40                 | 183                | 154                | 65                 | 1                  | 0                  | ...                | 62                 | 63                 | 66                 |  5                 | 10                 |  9                 | 7                  |  7                 | 61                 | 0                  |\n",
       "| 6                  | Aaron Hunt         | 1986-09-04         | left               | 33                 | 183                | 161                | 76                 | 0                  | 1                  | ...                | 76                 | 75                 | 78                 | 14                 |  7                 |  9                 | 9                  | 12                 | 74                 | 1                  |\n",
       "\n"
      ],
      "text/plain": [
       "  id player_name        birthday   preferred_foot age height weight potential\n",
       "1 1  Aaron Appindangoye 1992-02-29 right          27  183    187    71       \n",
       "2 2  Aaron Cresswell    1989-12-15 right          30  170    146    71       \n",
       "3 3  Aaron Doran        1991-05-13 right          28  170    163    66       \n",
       "4 4  Aaron Galindo      1982-05-08 right          37  183    198    65       \n",
       "5 5  Aaron Hughes       1979-11-08 right          40  183    154    65       \n",
       "6 6  Aaron Hunt         1986-09-04 left           33  183    161    76       \n",
       "  right_foot left_foot ... marking standing_tackle sliding_tackle gk_diving\n",
       "1 1          0         ... 65      69              69              6       \n",
       "2 1          0         ... 65      69              69              6       \n",
       "3 1          0         ... 65      66              69              6       \n",
       "4 1          0         ... 62      63              66              5       \n",
       "5 1          0         ... 62      63              66              5       \n",
       "6 0          1         ... 76      75              78             14       \n",
       "  gk_handling gk_kicking gk_positioning gk_reflexes overall_rating Label\n",
       "1 11          10         8               8          67             0    \n",
       "2 11          10         8               8          67             0    \n",
       "3 11          10         8               8          62             0    \n",
       "4 10           9         7               7          61             0    \n",
       "5 10           9         7               7          61             0    \n",
       "6  7           9         9              12          74             1    "
      ]
     },
     "metadata": {},
     "output_type": "display_data"
    }
   ],
   "source": [
    "df<-read.csv('d:/data/soccer/player.csv')\n",
    "head(df)"
   ]
  },
  {
   "cell_type": "code",
   "execution_count": 4,
   "metadata": {},
   "outputs": [
    {
     "name": "stderr",
     "output_type": "stream",
     "text": [
      "Warning message:\n",
      "\"package 'dplyr' was built under R version 3.6.2\"\n",
      "Attaching package: 'dplyr'\n",
      "\n",
      "The following objects are masked from 'package:stats':\n",
      "\n",
      "    filter, lag\n",
      "\n",
      "The following objects are masked from 'package:base':\n",
      "\n",
      "    intersect, setdiff, setequal, union\n",
      "\n"
     ]
    },
    {
     "data": {
      "text/html": [
       "<ol class=list-inline>\n",
       "\t<li>10935</li>\n",
       "\t<li>40</li>\n",
       "</ol>\n"
      ],
      "text/latex": [
       "\\begin{enumerate*}\n",
       "\\item 10935\n",
       "\\item 40\n",
       "\\end{enumerate*}\n"
      ],
      "text/markdown": [
       "1. 10935\n",
       "2. 40\n",
       "\n",
       "\n"
      ],
      "text/plain": [
       "[1] 10935    40"
      ]
     },
     "metadata": {},
     "output_type": "display_data"
    },
    {
     "data": {
      "text/html": [
       "<table>\n",
       "<thead><tr><th scope=col>age</th><th scope=col>height</th><th scope=col>weight</th><th scope=col>potential</th><th scope=col>right_foot</th><th scope=col>left_foot</th><th scope=col>crossing</th><th scope=col>finishing</th><th scope=col>heading_accuracy</th><th scope=col>short_passing</th><th scope=col>...</th><th scope=col>penalties</th><th scope=col>marking</th><th scope=col>standing_tackle</th><th scope=col>sliding_tackle</th><th scope=col>gk_diving</th><th scope=col>gk_handling</th><th scope=col>gk_kicking</th><th scope=col>gk_positioning</th><th scope=col>gk_reflexes</th><th scope=col>Label</th></tr></thead>\n",
       "<tbody>\n",
       "\t<tr><td>27 </td><td>183</td><td>187</td><td>71 </td><td>1  </td><td>0  </td><td>49 </td><td>44 </td><td>71 </td><td>61 </td><td>...</td><td>48 </td><td>65 </td><td>69 </td><td>69 </td><td> 6 </td><td>11 </td><td>10 </td><td>8  </td><td> 8 </td><td>0  </td></tr>\n",
       "\t<tr><td>30 </td><td>170</td><td>146</td><td>71 </td><td>1  </td><td>0  </td><td>49 </td><td>44 </td><td>71 </td><td>61 </td><td>...</td><td>48 </td><td>65 </td><td>69 </td><td>69 </td><td> 6 </td><td>11 </td><td>10 </td><td>8  </td><td> 8 </td><td>0  </td></tr>\n",
       "\t<tr><td>28 </td><td>170</td><td>163</td><td>66 </td><td>1  </td><td>0  </td><td>49 </td><td>44 </td><td>71 </td><td>61 </td><td>...</td><td>48 </td><td>65 </td><td>66 </td><td>69 </td><td> 6 </td><td>11 </td><td>10 </td><td>8  </td><td> 8 </td><td>0  </td></tr>\n",
       "\t<tr><td>37 </td><td>183</td><td>198</td><td>65 </td><td>1  </td><td>0  </td><td>48 </td><td>43 </td><td>70 </td><td>60 </td><td>...</td><td>47 </td><td>62 </td><td>63 </td><td>66 </td><td> 5 </td><td>10 </td><td> 9 </td><td>7  </td><td> 7 </td><td>0  </td></tr>\n",
       "\t<tr><td>40 </td><td>183</td><td>154</td><td>65 </td><td>1  </td><td>0  </td><td>48 </td><td>43 </td><td>70 </td><td>60 </td><td>...</td><td>47 </td><td>62 </td><td>63 </td><td>66 </td><td> 5 </td><td>10 </td><td> 9 </td><td>7  </td><td> 7 </td><td>0  </td></tr>\n",
       "\t<tr><td>33 </td><td>183</td><td>161</td><td>76 </td><td>0  </td><td>1  </td><td>80 </td><td>53 </td><td>58 </td><td>71 </td><td>...</td><td>59 </td><td>76 </td><td>75 </td><td>78 </td><td>14 </td><td> 7 </td><td> 9 </td><td>9  </td><td>12 </td><td>1  </td></tr>\n",
       "</tbody>\n",
       "</table>\n"
      ],
      "text/latex": [
       "\\begin{tabular}{r|llllllllllllllllllllllllllllllllllllllll}\n",
       " age & height & weight & potential & right\\_foot & left\\_foot & crossing & finishing & heading\\_accuracy & short\\_passing & ... & penalties & marking & standing\\_tackle & sliding\\_tackle & gk\\_diving & gk\\_handling & gk\\_kicking & gk\\_positioning & gk\\_reflexes & Label\\\\\n",
       "\\hline\n",
       "\t 27  & 183 & 187 & 71  & 1   & 0   & 49  & 44  & 71  & 61  & ... & 48  & 65  & 69  & 69  &  6  & 11  & 10  & 8   &  8  & 0  \\\\\n",
       "\t 30  & 170 & 146 & 71  & 1   & 0   & 49  & 44  & 71  & 61  & ... & 48  & 65  & 69  & 69  &  6  & 11  & 10  & 8   &  8  & 0  \\\\\n",
       "\t 28  & 170 & 163 & 66  & 1   & 0   & 49  & 44  & 71  & 61  & ... & 48  & 65  & 66  & 69  &  6  & 11  & 10  & 8   &  8  & 0  \\\\\n",
       "\t 37  & 183 & 198 & 65  & 1   & 0   & 48  & 43  & 70  & 60  & ... & 47  & 62  & 63  & 66  &  5  & 10  &  9  & 7   &  7  & 0  \\\\\n",
       "\t 40  & 183 & 154 & 65  & 1   & 0   & 48  & 43  & 70  & 60  & ... & 47  & 62  & 63  & 66  &  5  & 10  &  9  & 7   &  7  & 0  \\\\\n",
       "\t 33  & 183 & 161 & 76  & 0   & 1   & 80  & 53  & 58  & 71  & ... & 59  & 76  & 75  & 78  & 14  &  7  &  9  & 9   & 12  & 1  \\\\\n",
       "\\end{tabular}\n"
      ],
      "text/markdown": [
       "\n",
       "| age | height | weight | potential | right_foot | left_foot | crossing | finishing | heading_accuracy | short_passing | ... | penalties | marking | standing_tackle | sliding_tackle | gk_diving | gk_handling | gk_kicking | gk_positioning | gk_reflexes | Label |\n",
       "|---|---|---|---|---|---|---|---|---|---|---|---|---|---|---|---|---|---|---|---|---|\n",
       "| 27  | 183 | 187 | 71  | 1   | 0   | 49  | 44  | 71  | 61  | ... | 48  | 65  | 69  | 69  |  6  | 11  | 10  | 8   |  8  | 0   |\n",
       "| 30  | 170 | 146 | 71  | 1   | 0   | 49  | 44  | 71  | 61  | ... | 48  | 65  | 69  | 69  |  6  | 11  | 10  | 8   |  8  | 0   |\n",
       "| 28  | 170 | 163 | 66  | 1   | 0   | 49  | 44  | 71  | 61  | ... | 48  | 65  | 66  | 69  |  6  | 11  | 10  | 8   |  8  | 0   |\n",
       "| 37  | 183 | 198 | 65  | 1   | 0   | 48  | 43  | 70  | 60  | ... | 47  | 62  | 63  | 66  |  5  | 10  |  9  | 7   |  7  | 0   |\n",
       "| 40  | 183 | 154 | 65  | 1   | 0   | 48  | 43  | 70  | 60  | ... | 47  | 62  | 63  | 66  |  5  | 10  |  9  | 7   |  7  | 0   |\n",
       "| 33  | 183 | 161 | 76  | 0   | 1   | 80  | 53  | 58  | 71  | ... | 59  | 76  | 75  | 78  | 14  |  7  |  9  | 9   | 12  | 1   |\n",
       "\n"
      ],
      "text/plain": [
       "  age height weight potential right_foot left_foot crossing finishing\n",
       "1 27  183    187    71        1          0         49       44       \n",
       "2 30  170    146    71        1          0         49       44       \n",
       "3 28  170    163    66        1          0         49       44       \n",
       "4 37  183    198    65        1          0         48       43       \n",
       "5 40  183    154    65        1          0         48       43       \n",
       "6 33  183    161    76        0          1         80       53       \n",
       "  heading_accuracy short_passing ... penalties marking standing_tackle\n",
       "1 71               61            ... 48        65      69             \n",
       "2 71               61            ... 48        65      69             \n",
       "3 71               61            ... 48        65      66             \n",
       "4 70               60            ... 47        62      63             \n",
       "5 70               60            ... 47        62      63             \n",
       "6 58               71            ... 59        76      75             \n",
       "  sliding_tackle gk_diving gk_handling gk_kicking gk_positioning gk_reflexes\n",
       "1 69              6        11          10         8               8         \n",
       "2 69              6        11          10         8               8         \n",
       "3 69              6        11          10         8               8         \n",
       "4 66              5        10           9         7               7         \n",
       "5 66              5        10           9         7               7         \n",
       "6 78             14         7           9         9              12         \n",
       "  Label\n",
       "1 0    \n",
       "2 0    \n",
       "3 0    \n",
       "4 0    \n",
       "5 0    \n",
       "6 1    "
      ]
     },
     "metadata": {},
     "output_type": "display_data"
    }
   ],
   "source": [
    "library(dplyr)\n",
    "#분석에 사용하지 않을 필드 제외\n",
    "df<-df %>% select(-id,-player_name,-birthday,-preferred_foot,\n",
    "                 -overall_rating)\n",
    "dim(df)\n",
    "head(df)"
   ]
  },
  {
   "cell_type": "code",
   "execution_count": 5,
   "metadata": {},
   "outputs": [
    {
     "data": {
      "text/plain": [
       "\n",
       "   0    1 \n",
       "5230 5705 "
      ]
     },
     "metadata": {},
     "output_type": "display_data"
    },
    {
     "data": {
      "image/png": "[encoded data removed]",
      "text/plain": [
       "plot without title"
      ]
     },
     "metadata": {},
     "output_type": "display_data"
    }
   ],
   "source": [
    "(tbl<-table(df$Label))\n",
    "barplot(tbl,beside=T,legend=T,col=rainbow(2))\n",
    "# 0종합평가점수 평균 미만 5230, 평균이상 5705\n",
    "#0:1=5230:5230 으로 1:1로 언더샘플링"
   ]
  },
  {
   "cell_type": "code",
   "execution_count": 6,
   "metadata": {},
   "outputs": [
    {
     "name": "stderr",
     "output_type": "stream",
     "text": [
      "Warning message:\n",
      "\"package 'ROSE' was built under R version 3.6.2\"Loaded ROSE 0.0-3\n",
      "\n"
     ]
    },
    {
     "data": {
      "text/plain": [
       "\n",
       "   0    1 \n",
       "5230 5230 "
      ]
     },
     "metadata": {},
     "output_type": "display_data"
    }
   ],
   "source": [
    "library(ROSE)\n",
    "df_samp<-ovun.sample(Label ~ . , data=df, seed=1, method='under',\n",
    "                    N=5230*2)$data\n",
    "(tbl<-table(df_samp$Label)) #언더샘플링"
   ]
  },
  {
   "cell_type": "code",
   "execution_count": 7,
   "metadata": {},
   "outputs": [
    {
     "name": "stderr",
     "output_type": "stream",
     "text": [
      "Loading required package: lattice\n",
      "Warning message:\n",
      "\"package 'lattice' was built under R version 3.6.2\"Loading required package: ggplot2\n",
      "Warning message:\n",
      "\"package 'ggplot2' was built under R version 3.6.2\""
     ]
    }
   ],
   "source": [
    "library(caret)\n",
    "set.seed(123) #학습용:검증용 7:3으로 구분\n",
    "idx_train<-createDataPartition(y=df_samp$Label,p=0.7,list=F)\n",
    "train<-df_samp[idx_train,] #학습용\n",
    "X_train<-train[,-40]\n",
    "y_train<-train[,40]\n",
    "test<-df_samp[-idx_train,] #검증용\n",
    "X_test<-test[,-40]\n",
    "y_test<-test[,40]"
   ]
  },
  {
   "cell_type": "code",
   "execution_count": 11,
   "metadata": {},
   "outputs": [
    {
     "data": {
      "text/plain": [
       "\n",
       "\t Conditional inference tree with 7 terminal nodes\n",
       "\n",
       "Response:  Label \n",
       "Inputs:  age, height, weight, potential, right_foot, left_foot, crossing, finishing, heading_accuracy, short_passing, volleys, dribbling, curve, free_kick_accuracy, long_passing, ball_control, acceleration, sprint_speed, agility, reactions, balance, shot_power, jumping, stamina, strength, long_shots, aggression, interceptions, positioning, vision, penalties, marking, standing_tackle, sliding_tackle, gk_diving, gk_handling, gk_kicking, gk_positioning, gk_reflexes \n",
       "Number of observations:  7322 \n",
       "\n",
       "1) potential <= 72; criterion = 1, statistic = 3015.41\n",
       "  2) potential <= 68; criterion = 1, statistic = 414.3\n",
       "    3)*  weights = 1632 \n",
       "  2) potential > 68\n",
       "    4) reactions <= 66; criterion = 1, statistic = 306.41\n",
       "      5)*  weights = 889 \n",
       "    4) reactions > 66\n",
       "      6)*  weights = 509 \n",
       "1) potential > 72\n",
       "  7) reactions <= 66; criterion = 1, statistic = 1540.695\n",
       "    8) strength <= 69; criterion = 1, statistic = 97.151\n",
       "      9)*  weights = 875 \n",
       "    8) strength > 69\n",
       "      10)*  weights = 431 \n",
       "  7) reactions > 66\n",
       "    11) reactions <= 70; criterion = 1, statistic = 237.125\n",
       "      12)*  weights = 852 \n",
       "    11) reactions > 70\n",
       "      13)*  weights = 2134 "
      ]
     },
     "metadata": {},
     "output_type": "display_data"
    }
   ],
   "source": [
    "library(party)\n",
    "#가지치기, 최대 단계 설정\n",
    "a<-ctree_control(maxdepth=3)\n",
    "\n",
    "model<-ctree(Label ~. , data=train, control=a) #의사결정 나무 모형\n",
    "model"
   ]
  },
  {
   "cell_type": "code",
   "execution_count": 12,
   "metadata": {},
   "outputs": [
    {
     "data": {
      "image/png": "[encoded data removed]",
      "text/plain": [
       "plot without title"
      ]
     },
     "metadata": {},
     "output_type": "display_data"
    }
   ],
   "source": [
    "plot(model) #트리 그래프"
   ]
  },
  {
   "cell_type": "code",
   "execution_count": 13,
   "metadata": {},
   "outputs": [
    {
     "data": {
      "image/png": "[encoded data removed]",
      "text/plain": [
       "plot without title"
      ]
     },
     "metadata": {},
     "output_type": "display_data"
    }
   ],
   "source": [
    "plot(model, type='simple')"
   ]
  },
  {
   "cell_type": "code",
   "execution_count": 14,
   "metadata": {},
   "outputs": [
    {
     "data": {
      "text/html": [
       "0.863561868341983"
      ],
      "text/latex": [
       "0.863561868341983"
      ],
      "text/markdown": [
       "0.863561868341983"
      ],
      "text/plain": [
       "[1] 0.8635619"
      ]
     },
     "metadata": {},
     "output_type": "display_data"
    },
    {
     "data": {
      "text/plain": [
       "       result\n",
       "y_train    0    1\n",
       "      0 3029  632\n",
       "      1  367 3294"
      ]
     },
     "metadata": {},
     "output_type": "display_data"
    }
   ],
   "source": [
    "#학습용 데이터셋의 예측정확도\n",
    "pred<-predict(model,newdata=X_train,type='response')\n",
    "result<-round(pred)\n",
    "mean(y_train==result) #93.9% 가지치기 후 정확도 86.3%\n",
    "table(y_train,result)"
   ]
  },
  {
   "cell_type": "code",
   "execution_count": 15,
   "metadata": {},
   "outputs": [
    {
     "data": {
      "text/html": [
       "0.85755258126195"
      ],
      "text/latex": [
       "0.85755258126195"
      ],
      "text/markdown": [
       "0.85755258126195"
      ],
      "text/plain": [
       "[1] 0.8575526"
      ]
     },
     "metadata": {},
     "output_type": "display_data"
    },
    {
     "data": {
      "text/plain": [
       "      result\n",
       "y_test    0    1\n",
       "     0 1292  277\n",
       "     1  170 1399"
      ]
     },
     "metadata": {},
     "output_type": "display_data"
    }
   ],
   "source": [
    "#검증용 데이터셋의 예측정확도\n",
    "pred<-predict(model,newdata=X_test,type='response')\n",
    "result<-round(pred)\n",
    "mean(y_test==result) #91.9% 가지치기 후 85.7\n",
    "table(y_test,result)"
   ]
  },
  {
   "cell_type": "code",
   "execution_count": 16,
   "metadata": {},
   "outputs": [
    {
     "name": "stderr",
     "output_type": "stream",
     "text": [
      "randomForest 4.6-14\n",
      "Type rfNews() to see new features/changes/bug fixes.\n",
      "\n",
      "Attaching package: 'randomForest'\n",
      "\n",
      "The following object is masked from 'package:ggplot2':\n",
      "\n",
      "    margin\n",
      "\n",
      "The following object is masked from 'package:dplyr':\n",
      "\n",
      "    combine\n",
      "\n",
      "Warning message in randomForest.default(m, y, ...):\n",
      "\"The response has five or fewer unique values.  Are you sure you want to do regression?\""
     ]
    },
    {
     "data": {
      "text/plain": [
       "\n",
       "Call:\n",
       " randomForest(formula = Label ~ ., data = train, mtry = floor(sqrt(ncol(train))),      ntree = 10, importance = T) \n",
       "               Type of random forest: regression\n",
       "                     Number of trees: 10\n",
       "No. of variables tried at each split: 6\n",
       "\n",
       "          Mean of squared residuals: 0.0347729\n",
       "                    % Var explained: 86.09"
      ]
     },
     "metadata": {},
     "output_type": "display_data"
    }
   ],
   "source": [
    "#랜덤포레스트 모형\n",
    "library(randomForest)\n",
    "set.seed(1)\n",
    "model<-randomForest(Label ~. , data=train,\n",
    "                   mtry=floor(sqrt(ncol(train))),ntree=10,\n",
    "                   importance=T)\n",
    "model"
   ]
  },
  {
   "cell_type": "code",
   "execution_count": 17,
   "metadata": {},
   "outputs": [
    {
     "data": {
      "text/html": [
       "0.996039333515433"
      ],
      "text/latex": [
       "0.996039333515433"
      ],
      "text/markdown": [
       "0.996039333515433"
      ],
      "text/plain": [
       "[1] 0.9960393"
      ]
     },
     "metadata": {},
     "output_type": "display_data"
    },
    {
     "data": {
      "text/plain": [
       "       result\n",
       "y_train    0    1\n",
       "      0 3645   16\n",
       "      1   13 3648"
      ]
     },
     "metadata": {},
     "output_type": "display_data"
    }
   ],
   "source": [
    "#학습용 데이터셋의 예측정확도\n",
    "pred<-predict(model,newdata=X_train,type='response')\n",
    "result<-round(pred)\n",
    "mean(y_train==result) #99.6%\n",
    "table(y_train,result)"
   ]
  },
  {
   "cell_type": "code",
   "execution_count": 18,
   "metadata": {},
   "outputs": [
    {
     "data": {
      "text/html": [
       "0.973231357552581"
      ],
      "text/latex": [
       "0.973231357552581"
      ],
      "text/markdown": [
       "0.973231357552581"
      ],
      "text/plain": [
       "[1] 0.9732314"
      ]
     },
     "metadata": {},
     "output_type": "display_data"
    },
    {
     "data": {
      "text/plain": [
       "      result\n",
       "y_test    0    1\n",
       "     0 1528   41\n",
       "     1   43 1526"
      ]
     },
     "metadata": {},
     "output_type": "display_data"
    }
   ],
   "source": [
    "#검증용 데이터셋의 예측정확도\n",
    "pred<-predict(model,newdata=X_test,type='response')\n",
    "result<-round(pred)\n",
    "mean(y_test==result) #97.3%\n",
    "table(y_test,result)"
   ]
  },
  {
   "cell_type": "code",
   "execution_count": 19,
   "metadata": {},
   "outputs": [
    {
     "data": {
      "text/html": [
       "<table>\n",
       "<thead><tr><th></th><th scope=col>%IncMSE</th><th scope=col>IncNodePurity</th></tr></thead>\n",
       "<tbody>\n",
       "\t<tr><th scope=row>age</th><td> 0.6990108 </td><td>  4.1797943</td></tr>\n",
       "\t<tr><th scope=row>height</th><td>-0.2238588 </td><td>  4.1264305</td></tr>\n",
       "\t<tr><th scope=row>weight</th><td> 0.9480836 </td><td>  6.4309798</td></tr>\n",
       "\t<tr><th scope=row>potential</th><td> 6.5529139 </td><td>139.9053659</td></tr>\n",
       "\t<tr><th scope=row>right_foot</th><td> 1.5705928 </td><td>  0.9076732</td></tr>\n",
       "\t<tr><th scope=row>left_foot</th><td> 2.5465248 </td><td>  1.4779675</td></tr>\n",
       "\t<tr><th scope=row>crossing</th><td> 4.4807173 </td><td> 35.5144978</td></tr>\n",
       "\t<tr><th scope=row>finishing</th><td> 3.8331142 </td><td> 36.6536319</td></tr>\n",
       "\t<tr><th scope=row>heading_accuracy</th><td> 4.3549849 </td><td> 41.8875199</td></tr>\n",
       "\t<tr><th scope=row>short_passing</th><td> 7.0637458 </td><td> 46.2918312</td></tr>\n",
       "\t<tr><th scope=row>volleys</th><td> 4.4392989 </td><td> 27.3661124</td></tr>\n",
       "\t<tr><th scope=row>dribbling</th><td> 6.4197758 </td><td>188.4603326</td></tr>\n",
       "\t<tr><th scope=row>curve</th><td> 2.5408295 </td><td> 14.3094241</td></tr>\n",
       "\t<tr><th scope=row>free_kick_accuracy</th><td> 4.1950292 </td><td> 10.2104589</td></tr>\n",
       "\t<tr><th scope=row>long_passing</th><td> 5.3272024 </td><td> 18.9074501</td></tr>\n",
       "\t<tr><th scope=row>ball_control</th><td> 5.7059216 </td><td>111.2054578</td></tr>\n",
       "\t<tr><th scope=row>acceleration</th><td> 5.5452865 </td><td> 10.5006100</td></tr>\n",
       "\t<tr><th scope=row>sprint_speed</th><td> 5.0808523 </td><td> 12.1234624</td></tr>\n",
       "\t<tr><th scope=row>agility</th><td> 3.7318141 </td><td> 15.5968868</td></tr>\n",
       "\t<tr><th scope=row>reactions</th><td> 9.4605839 </td><td>261.7140609</td></tr>\n",
       "\t<tr><th scope=row>balance</th><td> 7.0908713 </td><td>  8.4186033</td></tr>\n",
       "\t<tr><th scope=row>shot_power</th><td> 3.0493539 </td><td> 79.3266760</td></tr>\n",
       "\t<tr><th scope=row>jumping</th><td> 6.5328635 </td><td> 10.1038973</td></tr>\n",
       "\t<tr><th scope=row>stamina</th><td> 6.2664113 </td><td> 16.1185778</td></tr>\n",
       "\t<tr><th scope=row>strength</th><td> 4.8686711 </td><td> 20.3713432</td></tr>\n",
       "\t<tr><th scope=row>long_shots</th><td> 3.7333155 </td><td> 55.6606603</td></tr>\n",
       "\t<tr><th scope=row>aggression</th><td> 6.1933278 </td><td> 41.4842021</td></tr>\n",
       "\t<tr><th scope=row>interceptions</th><td> 5.0674315 </td><td> 46.0728666</td></tr>\n",
       "\t<tr><th scope=row>positioning</th><td> 4.3223107 </td><td> 47.2439060</td></tr>\n",
       "\t<tr><th scope=row>vision</th><td> 3.7528926 </td><td>101.1922432</td></tr>\n",
       "\t<tr><th scope=row>penalties</th><td> 4.2487374 </td><td> 18.0370750</td></tr>\n",
       "\t<tr><th scope=row>marking</th><td> 4.5933685 </td><td> 87.9881515</td></tr>\n",
       "\t<tr><th scope=row>standing_tackle</th><td> 4.8614963 </td><td> 83.4419925</td></tr>\n",
       "\t<tr><th scope=row>sliding_tackle</th><td> 3.0102680 </td><td> 60.6387568</td></tr>\n",
       "\t<tr><th scope=row>gk_diving</th><td> 6.0669844 </td><td> 41.4615512</td></tr>\n",
       "\t<tr><th scope=row>gk_handling</th><td> 5.9735007 </td><td> 35.9122167</td></tr>\n",
       "\t<tr><th scope=row>gk_kicking</th><td> 4.5885093 </td><td> 13.7968761</td></tr>\n",
       "\t<tr><th scope=row>gk_positioning</th><td> 2.5841859 </td><td> 31.4732492</td></tr>\n",
       "\t<tr><th scope=row>gk_reflexes</th><td> 4.4278748 </td><td> 16.5626104</td></tr>\n",
       "</tbody>\n",
       "</table>\n"
      ],
      "text/latex": [
       "\\begin{tabular}{r|ll}\n",
       "  & \\%IncMSE & IncNodePurity\\\\\n",
       "\\hline\n",
       "\tage &  0.6990108  &   4.1797943\\\\\n",
       "\theight & -0.2238588  &   4.1264305\\\\\n",
       "\tweight &  0.9480836  &   6.4309798\\\\\n",
       "\tpotential &  6.5529139  & 139.9053659\\\\\n",
       "\tright\\_foot &  1.5705928  &   0.9076732\\\\\n",
       "\tleft\\_foot &  2.5465248  &   1.4779675\\\\\n",
       "\tcrossing &  4.4807173  &  35.5144978\\\\\n",
       "\tfinishing &  3.8331142  &  36.6536319\\\\\n",
       "\theading\\_accuracy &  4.3549849  &  41.8875199\\\\\n",
       "\tshort\\_passing &  7.0637458  &  46.2918312\\\\\n",
       "\tvolleys &  4.4392989  &  27.3661124\\\\\n",
       "\tdribbling &  6.4197758  & 188.4603326\\\\\n",
       "\tcurve &  2.5408295  &  14.3094241\\\\\n",
       "\tfree\\_kick\\_accuracy &  4.1950292  &  10.2104589\\\\\n",
       "\tlong\\_passing &  5.3272024  &  18.9074501\\\\\n",
       "\tball\\_control &  5.7059216  & 111.2054578\\\\\n",
       "\tacceleration &  5.5452865  &  10.5006100\\\\\n",
       "\tsprint\\_speed &  5.0808523  &  12.1234624\\\\\n",
       "\tagility &  3.7318141  &  15.5968868\\\\\n",
       "\treactions &  9.4605839  & 261.7140609\\\\\n",
       "\tbalance &  7.0908713  &   8.4186033\\\\\n",
       "\tshot\\_power &  3.0493539  &  79.3266760\\\\\n",
       "\tjumping &  6.5328635  &  10.1038973\\\\\n",
       "\tstamina &  6.2664113  &  16.1185778\\\\\n",
       "\tstrength &  4.8686711  &  20.3713432\\\\\n",
       "\tlong\\_shots &  3.7333155  &  55.6606603\\\\\n",
       "\taggression &  6.1933278  &  41.4842021\\\\\n",
       "\tinterceptions &  5.0674315  &  46.0728666\\\\\n",
       "\tpositioning &  4.3223107  &  47.2439060\\\\\n",
       "\tvision &  3.7528926  & 101.1922432\\\\\n",
       "\tpenalties &  4.2487374  &  18.0370750\\\\\n",
       "\tmarking &  4.5933685  &  87.9881515\\\\\n",
       "\tstanding\\_tackle &  4.8614963  &  83.4419925\\\\\n",
       "\tsliding\\_tackle &  3.0102680  &  60.6387568\\\\\n",
       "\tgk\\_diving &  6.0669844  &  41.4615512\\\\\n",
       "\tgk\\_handling &  5.9735007  &  35.9122167\\\\\n",
       "\tgk\\_kicking &  4.5885093  &  13.7968761\\\\\n",
       "\tgk\\_positioning &  2.5841859  &  31.4732492\\\\\n",
       "\tgk\\_reflexes &  4.4278748  &  16.5626104\\\\\n",
       "\\end{tabular}\n"
      ],
      "text/markdown": [
       "\n",
       "| <!--/--> | %IncMSE | IncNodePurity |\n",
       "|---|---|---|\n",
       "| age |  0.6990108  |   4.1797943 |\n",
       "| height | -0.2238588  |   4.1264305 |\n",
       "| weight |  0.9480836  |   6.4309798 |\n",
       "| potential |  6.5529139  | 139.9053659 |\n",
       "| right_foot |  1.5705928  |   0.9076732 |\n",
       "| left_foot |  2.5465248  |   1.4779675 |\n",
       "| crossing |  4.4807173  |  35.5144978 |\n",
       "| finishing |  3.8331142  |  36.6536319 |\n",
       "| heading_accuracy |  4.3549849  |  41.8875199 |\n",
       "| short_passing |  7.0637458  |  46.2918312 |\n",
       "| volleys |  4.4392989  |  27.3661124 |\n",
       "| dribbling |  6.4197758  | 188.4603326 |\n",
       "| curve |  2.5408295  |  14.3094241 |\n",
       "| free_kick_accuracy |  4.1950292  |  10.2104589 |\n",
       "| long_passing |  5.3272024  |  18.9074501 |\n",
       "| ball_control |  5.7059216  | 111.2054578 |\n",
       "| acceleration |  5.5452865  |  10.5006100 |\n",
       "| sprint_speed |  5.0808523  |  12.1234624 |\n",
       "| agility |  3.7318141  |  15.5968868 |\n",
       "| reactions |  9.4605839  | 261.7140609 |\n",
       "| balance |  7.0908713  |   8.4186033 |\n",
       "| shot_power |  3.0493539  |  79.3266760 |\n",
       "| jumping |  6.5328635  |  10.1038973 |\n",
       "| stamina |  6.2664113  |  16.1185778 |\n",
       "| strength |  4.8686711  |  20.3713432 |\n",
       "| long_shots |  3.7333155  |  55.6606603 |\n",
       "| aggression |  6.1933278  |  41.4842021 |\n",
       "| interceptions |  5.0674315  |  46.0728666 |\n",
       "| positioning |  4.3223107  |  47.2439060 |\n",
       "| vision |  3.7528926  | 101.1922432 |\n",
       "| penalties |  4.2487374  |  18.0370750 |\n",
       "| marking |  4.5933685  |  87.9881515 |\n",
       "| standing_tackle |  4.8614963  |  83.4419925 |\n",
       "| sliding_tackle |  3.0102680  |  60.6387568 |\n",
       "| gk_diving |  6.0669844  |  41.4615512 |\n",
       "| gk_handling |  5.9735007  |  35.9122167 |\n",
       "| gk_kicking |  4.5885093  |  13.7968761 |\n",
       "| gk_positioning |  2.5841859  |  31.4732492 |\n",
       "| gk_reflexes |  4.4278748  |  16.5626104 |\n",
       "\n"
      ],
      "text/plain": [
       "                   %IncMSE    IncNodePurity\n",
       "age                 0.6990108   4.1797943  \n",
       "height             -0.2238588   4.1264305  \n",
       "weight              0.9480836   6.4309798  \n",
       "potential           6.5529139 139.9053659  \n",
       "right_foot          1.5705928   0.9076732  \n",
       "left_foot           2.5465248   1.4779675  \n",
       "crossing            4.4807173  35.5144978  \n",
       "finishing           3.8331142  36.6536319  \n",
       "heading_accuracy    4.3549849  41.8875199  \n",
       "short_passing       7.0637458  46.2918312  \n",
       "volleys             4.4392989  27.3661124  \n",
       "dribbling           6.4197758 188.4603326  \n",
       "curve               2.5408295  14.3094241  \n",
       "free_kick_accuracy  4.1950292  10.2104589  \n",
       "long_passing        5.3272024  18.9074501  \n",
       "ball_control        5.7059216 111.2054578  \n",
       "acceleration        5.5452865  10.5006100  \n",
       "sprint_speed        5.0808523  12.1234624  \n",
       "agility             3.7318141  15.5968868  \n",
       "reactions           9.4605839 261.7140609  \n",
       "balance             7.0908713   8.4186033  \n",
       "shot_power          3.0493539  79.3266760  \n",
       "jumping             6.5328635  10.1038973  \n",
       "stamina             6.2664113  16.1185778  \n",
       "strength            4.8686711  20.3713432  \n",
       "long_shots          3.7333155  55.6606603  \n",
       "aggression          6.1933278  41.4842021  \n",
       "interceptions       5.0674315  46.0728666  \n",
       "positioning         4.3223107  47.2439060  \n",
       "vision              3.7528926 101.1922432  \n",
       "penalties           4.2487374  18.0370750  \n",
       "marking             4.5933685  87.9881515  \n",
       "standing_tackle     4.8614963  83.4419925  \n",
       "sliding_tackle      3.0102680  60.6387568  \n",
       "gk_diving           6.0669844  41.4615512  \n",
       "gk_handling         5.9735007  35.9122167  \n",
       "gk_kicking          4.5885093  13.7968761  \n",
       "gk_positioning      2.5841859  31.4732492  \n",
       "gk_reflexes         4.4278748  16.5626104  "
      ]
     },
     "metadata": {},
     "output_type": "display_data"
    }
   ],
   "source": [
    "importance(model) #특성의 정확도, 중요도"
   ]
  },
  {
   "cell_type": "code",
   "execution_count": 20,
   "metadata": {},
   "outputs": [
    {
     "data": {
      "image/png": "[encoded data removed]",
      "text/plain": [
       "plot without title"
      ]
     },
     "metadata": {},
     "output_type": "display_data"
    }
   ],
   "source": [
    "varImpPlot(model)"
   ]
  },
  {
   "cell_type": "code",
   "execution_count": null,
   "metadata": {},
   "outputs": [],
   "source": []
  },
  {
   "cell_type": "code",
   "execution_count": null,
   "metadata": {},
   "outputs": [],
   "source": []
  }
 ],
 "metadata": {
  "kernelspec": {
   "display_name": "R",
   "language": "R",
   "name": "ir"
  },
  "language_info": {
   "codemirror_mode": "r",
   "file_extension": ".r",
   "mimetype": "text/x-r-source",
   "name": "R",
   "pygments_lexer": "r",
   "version": "3.6.1"
  }
 },
 "nbformat": 4,
 "nbformat_minor": 2
}
