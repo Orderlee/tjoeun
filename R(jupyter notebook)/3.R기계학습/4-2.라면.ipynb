{
 "cells": [
  {
   "cell_type": "code",
   "execution_count": 1,
   "metadata": {},
   "outputs": [
    {
     "data": {
      "text/html": [
       "<table>\n",
       "<thead><tr><th></th><th scope=col>면</th><th scope=col>그릇</th><th scope=col>국물</th></tr></thead>\n",
       "<tbody>\n",
       "\t<tr><th scope=row>쇠고기라면</th><td>2</td><td>4</td><td>5</td></tr>\n",
       "\t<tr><th scope=row>해물라면</th><td>1</td><td>5</td><td>1</td></tr>\n",
       "\t<tr><th scope=row>얼큰라면</th><td>5</td><td>3</td><td>4</td></tr>\n",
       "\t<tr><th scope=row>떡라면</th><td>2</td><td>2</td><td>3</td></tr>\n",
       "\t<tr><th scope=row>짬뽕라면</th><td>3</td><td>5</td><td>5</td></tr>\n",
       "\t<tr><th scope=row>만두라면</th><td>4</td><td>3</td><td>2</td></tr>\n",
       "\t<tr><th scope=row>치즈라면</th><td>4</td><td>4</td><td>3</td></tr>\n",
       "\t<tr><th scope=row>된장라면</th><td>1</td><td>2</td><td>1</td></tr>\n",
       "\t<tr><th scope=row>볶음라면</th><td>3</td><td>3</td><td>2</td></tr>\n",
       "\t<tr><th scope=row>김치라면</th><td>5</td><td>5</td><td>3</td></tr>\n",
       "</tbody>\n",
       "</table>\n"
      ],
      "text/latex": [
       "\\begin{tabular}{r|lll}\n",
       "  & 면 & 그릇 & 국물\\\\\n",
       "\\hline\n",
       "\t쇠고기라면 & 2 & 4 & 5\\\\\n",
       "\t해물라면 & 1 & 5 & 1\\\\\n",
       "\t얼큰라면 & 5 & 3 & 4\\\\\n",
       "\t떡라면 & 2 & 2 & 3\\\\\n",
       "\t짬뽕라면 & 3 & 5 & 5\\\\\n",
       "\t만두라면 & 4 & 3 & 2\\\\\n",
       "\t치즈라면 & 4 & 4 & 3\\\\\n",
       "\t된장라면 & 1 & 2 & 1\\\\\n",
       "\t볶음라면 & 3 & 3 & 2\\\\\n",
       "\t김치라면 & 5 & 5 & 3\\\\\n",
       "\\end{tabular}\n"
      ],
      "text/markdown": [
       "\n",
       "| <!--/--> | 면 | 그릇 | 국물 |\n",
       "|---|---|---|---|\n",
       "| 쇠고기라면 | 2 | 4 | 5 |\n",
       "| 해물라면 | 1 | 5 | 1 |\n",
       "| 얼큰라면 | 5 | 3 | 4 |\n",
       "| 떡라면 | 2 | 2 | 3 |\n",
       "| 짬뽕라면 | 3 | 5 | 5 |\n",
       "| 만두라면 | 4 | 3 | 2 |\n",
       "| 치즈라면 | 4 | 4 | 3 |\n",
       "| 된장라면 | 1 | 2 | 1 |\n",
       "| 볶음라면 | 3 | 3 | 2 |\n",
       "| 김치라면 | 5 | 5 | 3 |\n",
       "\n"
      ],
      "text/plain": [
       "           면 그릇 국물\n",
       "쇠고기라면 2  4    5   \n",
       "해물라면   1  5    1   \n",
       "얼큰라면   5  3    4   \n",
       "떡라면     2  2    3   \n",
       "짬뽕라면   3  5    5   \n",
       "만두라면   4  3    2   \n",
       "치즈라면   4  4    3   \n",
       "된장라면   1  2    1   \n",
       "볶음라면   3  3    2   \n",
       "김치라면   5  5    3   "
      ]
     },
     "metadata": {},
     "output_type": "display_data"
    }
   ],
   "source": [
    "data<-read.table('d:/data/noodle/noodle.txt') #텍스트 파일 로딩\n",
    "data"
   ]
  },
  {
   "cell_type": "code",
   "execution_count": 2,
   "metadata": {},
   "outputs": [
    {
     "data": {
      "text/plain": [
       "       면         그릇           국물     \n",
       " Min.   :1   Min.   :2.00   Min.   :1.00  \n",
       " 1st Qu.:2   1st Qu.:3.00   1st Qu.:2.00  \n",
       " Median :3   Median :3.50   Median :3.00  \n",
       " Mean   :3   Mean   :3.60   Mean   :2.90  \n",
       " 3rd Qu.:4   3rd Qu.:4.75   3rd Qu.:3.75  \n",
       " Max.   :5   Max.   :5.00   Max.   :5.00  "
      ]
     },
     "metadata": {},
     "output_type": "display_data"
    }
   ],
   "source": [
    "summary(data) #기초통계량"
   ]
  },
  {
   "cell_type": "code",
   "execution_count": 3,
   "metadata": {},
   "outputs": [
    {
     "data": {
      "text/html": [
       "<table>\n",
       "<thead><tr><th></th><th scope=col>면</th><th scope=col>그릇</th><th scope=col>국물</th></tr></thead>\n",
       "<tbody>\n",
       "\t<tr><th scope=row>쇠고기라면</th><td>-0.6708204 </td><td> 0.3407771 </td><td> 1.44913767</td></tr>\n",
       "\t<tr><th scope=row>해물라면</th><td>-1.3416408 </td><td> 1.1927199 </td><td>-1.31112456</td></tr>\n",
       "\t<tr><th scope=row>얼큰라면</th><td> 1.3416408 </td><td>-0.5111657 </td><td> 0.75907212</td></tr>\n",
       "\t<tr><th scope=row>떡라면</th><td>-0.6708204 </td><td>-1.3631084 </td><td> 0.06900656</td></tr>\n",
       "\t<tr><th scope=row>짬뽕라면</th><td> 0.0000000 </td><td> 1.1927199 </td><td> 1.44913767</td></tr>\n",
       "\t<tr><th scope=row>만두라면</th><td> 0.6708204 </td><td>-0.5111657 </td><td>-0.62105900</td></tr>\n",
       "\t<tr><th scope=row>치즈라면</th><td> 0.6708204 </td><td> 0.3407771 </td><td> 0.06900656</td></tr>\n",
       "\t<tr><th scope=row>된장라면</th><td>-1.3416408 </td><td>-1.3631084 </td><td>-1.31112456</td></tr>\n",
       "\t<tr><th scope=row>볶음라면</th><td> 0.0000000 </td><td>-0.5111657 </td><td>-0.62105900</td></tr>\n",
       "\t<tr><th scope=row>김치라면</th><td> 1.3416408 </td><td> 1.1927199 </td><td> 0.06900656</td></tr>\n",
       "</tbody>\n",
       "</table>\n"
      ],
      "text/latex": [
       "\\begin{tabular}{r|lll}\n",
       "  & 면 & 그릇 & 국물\\\\\n",
       "\\hline\n",
       "\t쇠고기라면 & -0.6708204  &  0.3407771  &  1.44913767\\\\\n",
       "\t해물라면 & -1.3416408  &  1.1927199  & -1.31112456\\\\\n",
       "\t얼큰라면 &  1.3416408  & -0.5111657  &  0.75907212\\\\\n",
       "\t떡라면 & -0.6708204  & -1.3631084  &  0.06900656\\\\\n",
       "\t짬뽕라면 &  0.0000000  &  1.1927199  &  1.44913767\\\\\n",
       "\t만두라면 &  0.6708204  & -0.5111657  & -0.62105900\\\\\n",
       "\t치즈라면 &  0.6708204  &  0.3407771  &  0.06900656\\\\\n",
       "\t된장라면 & -1.3416408  & -1.3631084  & -1.31112456\\\\\n",
       "\t볶음라면 &  0.0000000  & -0.5111657  & -0.62105900\\\\\n",
       "\t김치라면 &  1.3416408  &  1.1927199  &  0.06900656\\\\\n",
       "\\end{tabular}\n"
      ],
      "text/markdown": [
       "\n",
       "| <!--/--> | 면 | 그릇 | 국물 |\n",
       "|---|---|---|---|\n",
       "| 쇠고기라면 | -0.6708204  |  0.3407771  |  1.44913767 |\n",
       "| 해물라면 | -1.3416408  |  1.1927199  | -1.31112456 |\n",
       "| 얼큰라면 |  1.3416408  | -0.5111657  |  0.75907212 |\n",
       "| 떡라면 | -0.6708204  | -1.3631084  |  0.06900656 |\n",
       "| 짬뽕라면 |  0.0000000  |  1.1927199  |  1.44913767 |\n",
       "| 만두라면 |  0.6708204  | -0.5111657  | -0.62105900 |\n",
       "| 치즈라면 |  0.6708204  |  0.3407771  |  0.06900656 |\n",
       "| 된장라면 | -1.3416408  | -1.3631084  | -1.31112456 |\n",
       "| 볶음라면 |  0.0000000  | -0.5111657  | -0.62105900 |\n",
       "| 김치라면 |  1.3416408  |  1.1927199  |  0.06900656 |\n",
       "\n"
      ],
      "text/plain": [
       "           면         그릇       국물       \n",
       "쇠고기라면 -0.6708204  0.3407771  1.44913767\n",
       "해물라면   -1.3416408  1.1927199 -1.31112456\n",
       "얼큰라면    1.3416408 -0.5111657  0.75907212\n",
       "떡라면     -0.6708204 -1.3631084  0.06900656\n",
       "짬뽕라면    0.0000000  1.1927199  1.44913767\n",
       "만두라면    0.6708204 -0.5111657 -0.62105900\n",
       "치즈라면    0.6708204  0.3407771  0.06900656\n",
       "된장라면   -1.3416408 -1.3631084 -1.31112456\n",
       "볶음라면    0.0000000 -0.5111657 -0.62105900\n",
       "김치라면    1.3416408  1.1927199  0.06900656"
      ]
     },
     "metadata": {},
     "output_type": "display_data"
    }
   ],
   "source": [
    "scale(data) #데이터 표준화"
   ]
  },
  {
   "cell_type": "code",
   "execution_count": 4,
   "metadata": {},
   "outputs": [
    {
     "data": {
      "text/html": [
       "<table>\n",
       "<thead><tr><th></th><th scope=col>면</th><th scope=col>그릇</th><th scope=col>국물</th></tr></thead>\n",
       "<tbody>\n",
       "\t<tr><th scope=row>면</th><td>1.0000000</td><td>0.1905002</td><td>0.3600411</td></tr>\n",
       "\t<tr><th scope=row>그릇</th><td>0.1905002</td><td>1.0000000</td><td>0.3004804</td></tr>\n",
       "\t<tr><th scope=row>국물</th><td>0.3600411</td><td>0.3004804</td><td>1.0000000</td></tr>\n",
       "</tbody>\n",
       "</table>\n"
      ],
      "text/latex": [
       "\\begin{tabular}{r|lll}\n",
       "  & 면 & 그릇 & 국물\\\\\n",
       "\\hline\n",
       "\t면 & 1.0000000 & 0.1905002 & 0.3600411\\\\\n",
       "\t그릇 & 0.1905002 & 1.0000000 & 0.3004804\\\\\n",
       "\t국물 & 0.3600411 & 0.3004804 & 1.0000000\\\\\n",
       "\\end{tabular}\n"
      ],
      "text/markdown": [
       "\n",
       "| <!--/--> | 면 | 그릇 | 국물 |\n",
       "|---|---|---|---|\n",
       "| 면 | 1.0000000 | 0.1905002 | 0.3600411 |\n",
       "| 그릇 | 0.1905002 | 1.0000000 | 0.3004804 |\n",
       "| 국물 | 0.3600411 | 0.3004804 | 1.0000000 |\n",
       "\n"
      ],
      "text/plain": [
       "     면        그릇      국물     \n",
       "면   1.0000000 0.1905002 0.3600411\n",
       "그릇 0.1905002 1.0000000 0.3004804\n",
       "국물 0.3600411 0.3004804 1.0000000"
      ]
     },
     "metadata": {},
     "output_type": "display_data"
    }
   ],
   "source": [
    "cor(data) #상관계수 행렬"
   ]
  },
  {
   "cell_type": "code",
   "execution_count": 5,
   "metadata": {},
   "outputs": [
    {
     "data": {
      "text/plain": [
       "Standard deviations (1, .., p=3):\n",
       "[1] 1.2541347 0.9022241 0.7830312\n",
       "\n",
       "Rotation (n x k) = (3 x 3):\n",
       "           PC1        PC2        PC3\n",
       "면   0.5715110 -0.6044710  0.5549685\n",
       "그릇 0.5221161  0.7896069  0.3223595\n",
       "국물 0.6330639 -0.1055260 -0.7668731"
      ]
     },
     "metadata": {},
     "output_type": "display_data"
    }
   ],
   "source": [
    "p1=prcomp(data,scale=T) #주성분 분석\n",
    "p1 \n",
    "#라면의 종합평가에 영향을 미치는 변수 : 국물 > 면 > 그릇"
   ]
  },
  {
   "cell_type": "code",
   "execution_count": 8,
   "metadata": {},
   "outputs": [
    {
     "data": {
      "image/png": "[encoded data removed]",
      "text/plain": [
       "Plot with title \"p1\""
      ]
     },
     "metadata": {},
     "output_type": "display_data"
    }
   ],
   "source": [
    "plot(p1, type='l') #엘보우 차트"
   ]
  },
  {
   "cell_type": "code",
   "execution_count": 9,
   "metadata": {},
   "outputs": [
    {
     "data": {
      "text/plain": [
       "Importance of components:\n",
       "                          PC1    PC2    PC3\n",
       "Standard deviation     1.2541 0.9022 0.7830\n",
       "Proportion of Variance 0.5243 0.2713 0.2044\n",
       "Cumulative Proportion  0.5243 0.7956 1.0000"
      ]
     },
     "metadata": {},
     "output_type": "display_data"
    }
   ],
   "source": [
    "summary(p1)\n",
    "# Proportion of Variance : 기여도\n",
    "# Cumulative Proportion : 누적 기여도"
   ]
  },
  {
   "cell_type": "code",
   "execution_count": 10,
   "metadata": {
    "scrolled": true
   },
   "outputs": [
    {
     "data": {
      "text/html": [
       "<table>\n",
       "<thead><tr><th></th><th scope=col>PC1</th><th scope=col>PC2</th><th scope=col>PC3</th></tr></thead>\n",
       "<tbody>\n",
       "\t<tr><th scope=row>쇠고기라면</th><td> 0.7119408  </td><td> 0.5216497  </td><td>-1.373736133</td></tr>\n",
       "\t<tr><th scope=row>해물라면</th><td>-0.9740499  </td><td> 1.8911205  </td><td> 0.645382316</td></tr>\n",
       "\t<tr><th scope=row>얼큰라면</th><td> 0.9804158  </td><td>-1.2947047  </td><td>-0.002322692</td></tr>\n",
       "\t<tr><th scope=row>떡라면</th><td>-1.0513965  </td><td>-0.6781104  </td><td>-0.864614382</td></tr>\n",
       "\t<tr><th scope=row>짬뽕라면</th><td> 1.5401350  </td><td> 0.7888582  </td><td>-0.726820118</td></tr>\n",
       "\t<tr><th scope=row>만두라면</th><td>-0.2766766  </td><td>-0.7435735  </td><td> 0.683778524</td></tr>\n",
       "\t<tr><th scope=row>치즈라면</th><td> 0.6049920  </td><td>-0.1436935  </td><td> 0.429217649</td></tr>\n",
       "\t<tr><th scope=row>된장라면</th><td>-2.3084890  </td><td>-0.1269792  </td><td>-0.178513165</td></tr>\n",
       "\t<tr><th scope=row>볶음라면</th><td>-0.6600579  </td><td>-0.3380821  </td><td> 0.311494336</td></tr>\n",
       "\t<tr><th scope=row>김치라면</th><td> 1.4331863  </td><td> 0.1235150  </td><td> 1.076133664</td></tr>\n",
       "</tbody>\n",
       "</table>\n"
      ],
      "text/latex": [
       "\\begin{tabular}{r|lll}\n",
       "  & PC1 & PC2 & PC3\\\\\n",
       "\\hline\n",
       "\t쇠고기라면 &  0.7119408   &  0.5216497   & -1.373736133\\\\\n",
       "\t해물라면 & -0.9740499   &  1.8911205   &  0.645382316\\\\\n",
       "\t얼큰라면 &  0.9804158   & -1.2947047   & -0.002322692\\\\\n",
       "\t떡라면 & -1.0513965   & -0.6781104   & -0.864614382\\\\\n",
       "\t짬뽕라면 &  1.5401350   &  0.7888582   & -0.726820118\\\\\n",
       "\t만두라면 & -0.2766766   & -0.7435735   &  0.683778524\\\\\n",
       "\t치즈라면 &  0.6049920   & -0.1436935   &  0.429217649\\\\\n",
       "\t된장라면 & -2.3084890   & -0.1269792   & -0.178513165\\\\\n",
       "\t볶음라면 & -0.6600579   & -0.3380821   &  0.311494336\\\\\n",
       "\t김치라면 &  1.4331863   &  0.1235150   &  1.076133664\\\\\n",
       "\\end{tabular}\n"
      ],
      "text/markdown": [
       "\n",
       "| <!--/--> | PC1 | PC2 | PC3 |\n",
       "|---|---|---|---|\n",
       "| 쇠고기라면 |  0.7119408   |  0.5216497   | -1.373736133 |\n",
       "| 해물라면 | -0.9740499   |  1.8911205   |  0.645382316 |\n",
       "| 얼큰라면 |  0.9804158   | -1.2947047   | -0.002322692 |\n",
       "| 떡라면 | -1.0513965   | -0.6781104   | -0.864614382 |\n",
       "| 짬뽕라면 |  1.5401350   |  0.7888582   | -0.726820118 |\n",
       "| 만두라면 | -0.2766766   | -0.7435735   |  0.683778524 |\n",
       "| 치즈라면 |  0.6049920   | -0.1436935   |  0.429217649 |\n",
       "| 된장라면 | -2.3084890   | -0.1269792   | -0.178513165 |\n",
       "| 볶음라면 | -0.6600579   | -0.3380821   |  0.311494336 |\n",
       "| 김치라면 |  1.4331863   |  0.1235150   |  1.076133664 |\n",
       "\n"
      ],
      "text/plain": [
       "           PC1        PC2        PC3         \n",
       "쇠고기라면  0.7119408  0.5216497 -1.373736133\n",
       "해물라면   -0.9740499  1.8911205  0.645382316\n",
       "얼큰라면    0.9804158 -1.2947047 -0.002322692\n",
       "떡라면     -1.0513965 -0.6781104 -0.864614382\n",
       "짬뽕라면    1.5401350  0.7888582 -0.726820118\n",
       "만두라면   -0.2766766 -0.7435735  0.683778524\n",
       "치즈라면    0.6049920 -0.1436935  0.429217649\n",
       "된장라면   -2.3084890 -0.1269792 -0.178513165\n",
       "볶음라면   -0.6600579 -0.3380821  0.311494336\n",
       "김치라면    1.4331863  0.1235150  1.076133664"
      ]
     },
     "metadata": {},
     "output_type": "display_data"
    }
   ],
   "source": [
    "predict(p1) #주성분 점수"
   ]
  },
  {
   "cell_type": "code",
   "execution_count": 11,
   "metadata": {},
   "outputs": [
    {
     "data": {
      "image/png": "[encoded data removed]",
      "text/plain": [
       "plot without title"
      ]
     },
     "metadata": {},
     "output_type": "display_data"
    }
   ],
   "source": [
    "biplot(p1)"
   ]
  },
  {
   "cell_type": "code",
   "execution_count": null,
   "metadata": {},
   "outputs": [],
   "source": []
  },
  {
   "cell_type": "code",
   "execution_count": null,
   "metadata": {},
   "outputs": [],
   "source": []
  },
  {
   "cell_type": "code",
   "execution_count": null,
   "metadata": {},
   "outputs": [],
   "source": []
  },
  {
   "cell_type": "code",
   "execution_count": null,
   "metadata": {},
   "outputs": [],
   "source": []
  },
  {
   "cell_type": "code",
   "execution_count": null,
   "metadata": {},
   "outputs": [],
   "source": []
  }
 ],
 "metadata": {
  "kernelspec": {
   "display_name": "R",
   "language": "R",
   "name": "ir"
  },
  "language_info": {
   "codemirror_mode": "r",
   "file_extension": ".r",
   "mimetype": "text/x-r-source",
   "name": "R",
   "pygments_lexer": "r",
   "version": "3.6.1"
  }
 },
 "nbformat": 4,
 "nbformat_minor": 2
}
