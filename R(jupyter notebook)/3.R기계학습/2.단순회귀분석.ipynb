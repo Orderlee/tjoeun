{
 "cells": [
  {
   "cell_type": "code",
   "execution_count": 2,
   "metadata": {},
   "outputs": [
    {
     "data": {
      "image/png": "[encoded data removed]",
      "text/plain": [
       "plot without title"
      ]
     },
     "metadata": {},
     "output_type": "display_data"
    }
   ],
   "source": [
    "height<-c(179,166,175,172,173,167,169,172,172,179,161,174,166,176,182,175,177,167,176,177)\n",
    "weight<-c(113,84,99,103,102,83,85,113,84,99,51,90,77,112,150,128,133,85,112,85)\n",
    "plot(height,weight)"
   ]
  },
  {
   "cell_type": "code",
   "execution_count": 3,
   "metadata": {},
   "outputs": [
    {
     "data": {
      "text/html": [
       "0.800235051021387"
      ],
      "text/latex": [
       "0.800235051021387"
      ],
      "text/markdown": [
       "0.800235051021387"
      ],
      "text/plain": [
       "[1] 0.8002351"
      ]
     },
     "metadata": {},
     "output_type": "display_data"
    }
   ],
   "source": [
    "cor(height,weight) #상관계수"
   ]
  },
  {
   "cell_type": "code",
   "execution_count": 4,
   "metadata": {},
   "outputs": [
    {
     "data": {
      "text/plain": [
       "\n",
       "Call:\n",
       "lm(formula = weight ~ height)\n",
       "\n",
       "Coefficients:\n",
       "(Intercept)       height  \n",
       "   -478.816        3.347  \n"
      ]
     },
     "metadata": {},
     "output_type": "display_data"
    }
   ],
   "source": [
    "#단순회귀분석 함수 lm(y~x) x 독립변수, y 종속변수\n",
    "model<-lm(weight~height)\n",
    "model"
   ]
  },
  {
   "cell_type": "code",
   "execution_count": 5,
   "metadata": {},
   "outputs": [
    {
     "data": {
      "text/html": [
       "<dl class=dl-horizontal>\n",
       "\t<dt>(Intercept)</dt>\n",
       "\t\t<dd>-478.816091954023</dd>\n",
       "\t<dt>height</dt>\n",
       "\t\t<dd>3.34712643678161</dd>\n",
       "</dl>\n"
      ],
      "text/latex": [
       "\\begin{description*}\n",
       "\\item[(Intercept)] -478.816091954023\n",
       "\\item[height] 3.34712643678161\n",
       "\\end{description*}\n"
      ],
      "text/markdown": [
       "(Intercept)\n",
       ":   -478.816091954023height\n",
       ":   3.34712643678161\n",
       "\n"
      ],
      "text/plain": [
       "(Intercept)      height \n",
       "-478.816092    3.347126 "
      ]
     },
     "metadata": {},
     "output_type": "display_data"
    }
   ],
   "source": [
    "# y=ax+b (a기울기,b절편)\n",
    "model$coefficients"
   ]
  },
  {
   "cell_type": "code",
   "execution_count": 6,
   "metadata": {},
   "outputs": [
    {
     "data": {
      "text/html": [
       "123.666666666667"
      ],
      "text/latex": [
       "123.666666666667"
      ],
      "text/markdown": [
       "123.666666666667"
      ],
      "text/plain": [
       "[1] 123.6667"
      ]
     },
     "metadata": {},
     "output_type": "display_data"
    }
   ],
   "source": [
    "#키가 180이면 몸무게는?\n",
    "model$coefficients[[2]]*180 + model$coefficients[[1]]"
   ]
  },
  {
   "cell_type": "code",
   "execution_count": 7,
   "metadata": {},
   "outputs": [
    {
     "data": {
      "text/plain": [
       "\n",
       "Call:\n",
       "lm(formula = weight ~ height)\n",
       "\n",
       "Residuals:\n",
       "    Min      1Q  Median      3Q     Max \n",
       "-28.625  -8.216   1.722   6.381  21.069 \n",
       "\n",
       "Coefficients:\n",
       "             Estimate Std. Error t value Pr(>|t|)    \n",
       "(Intercept) -478.8161   102.1782  -4.686 0.000184 ***\n",
       "height         3.3471     0.5912   5.661 2.27e-05 ***\n",
       "---\n",
       "Signif. codes:  0 '***' 0.001 '**' 0.01 '*' 0.05 '.' 0.1 ' ' 1\n",
       "\n",
       "Residual standard error: 13.79 on 18 degrees of freedom\n",
       "Multiple R-squared:  0.6404,\tAdjusted R-squared:  0.6204 \n",
       "F-statistic: 32.05 on 1 and 18 DF,  p-value: 2.271e-05\n"
      ]
     },
     "metadata": {},
     "output_type": "display_data"
    }
   ],
   "source": [
    "summary(model)\n",
    "#p-value: 2.271e-05\n",
    "#귀무가설 기각, 대립가설 채택\n",
    "#결론 : 신장과 체중은 상관관계가 있다.\n",
    "#R-squared:  0.62 62%의 설명력이 있는 모형"
   ]
  },
  {
   "cell_type": "code",
   "execution_count": 8,
   "metadata": {},
   "outputs": [
    {
     "data": {
      "image/png": "[encoded data removed]",
      "text/plain": [
       "plot without title"
      ]
     },
     "metadata": {},
     "output_type": "display_data"
    }
   ],
   "source": [
    "plot(height,weight)\n",
    "abline(model) #회귀선 그리기"
   ]
  },
  {
   "cell_type": "code",
   "execution_count": null,
   "metadata": {},
   "outputs": [],
   "source": []
  }
 ],
 "metadata": {
  "kernelspec": {
   "display_name": "R",
   "language": "R",
   "name": "ir"
  },
  "language_info": {
   "codemirror_mode": "r",
   "file_extension": ".r",
   "mimetype": "text/x-r-source",
   "name": "R",
   "pygments_lexer": "r",
   "version": "3.6.1"
  }
 },
 "nbformat": 4,
 "nbformat_minor": 2
}
