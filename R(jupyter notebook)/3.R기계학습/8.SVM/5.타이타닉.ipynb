{
 "cells": [
  {
   "cell_type": "code",
   "execution_count": 1,
   "metadata": {},
   "outputs": [
    {
     "data": {
      "text/html": [
       "<table>\n",
       "<thead><tr><th scope=col>Survived</th><th scope=col>Pclass</th><th scope=col>pclass1</th><th scope=col>plclass2</th><th scope=col>plcass3</th><th scope=col>Sex</th><th scope=col>male</th><th scope=col>female</th><th scope=col>Age</th><th scope=col>SibSp</th><th scope=col>Parch</th><th scope=col>Fare</th></tr></thead>\n",
       "<tbody>\n",
       "\t<tr><td>0      </td><td>3      </td><td>0      </td><td>0      </td><td>1      </td><td>male   </td><td>1      </td><td>0      </td><td>22     </td><td>1      </td><td>0      </td><td> 7.2500</td></tr>\n",
       "\t<tr><td>1      </td><td>1      </td><td>1      </td><td>0      </td><td>0      </td><td>female </td><td>0      </td><td>1      </td><td>38     </td><td>1      </td><td>0      </td><td>71.2833</td></tr>\n",
       "\t<tr><td>1      </td><td>3      </td><td>0      </td><td>0      </td><td>1      </td><td>female </td><td>0      </td><td>1      </td><td>26     </td><td>0      </td><td>0      </td><td> 7.9250</td></tr>\n",
       "\t<tr><td>1      </td><td>1      </td><td>1      </td><td>0      </td><td>0      </td><td>female </td><td>0      </td><td>1      </td><td>35     </td><td>1      </td><td>0      </td><td>53.1000</td></tr>\n",
       "\t<tr><td>0      </td><td>3      </td><td>0      </td><td>0      </td><td>1      </td><td>male   </td><td>1      </td><td>0      </td><td>35     </td><td>0      </td><td>0      </td><td> 8.0500</td></tr>\n",
       "\t<tr><td>0      </td><td>3      </td><td>0      </td><td>0      </td><td>1      </td><td>male   </td><td>1      </td><td>0      </td><td>30     </td><td>0      </td><td>0      </td><td> 8.4583</td></tr>\n",
       "</tbody>\n",
       "</table>\n"
      ],
      "text/latex": [
       "\\begin{tabular}{r|llllllllllll}\n",
       " Survived & Pclass & pclass1 & plclass2 & plcass3 & Sex & male & female & Age & SibSp & Parch & Fare\\\\\n",
       "\\hline\n",
       "\t 0       & 3       & 0       & 0       & 1       & male    & 1       & 0       & 22      & 1       & 0       &  7.2500\\\\\n",
       "\t 1       & 1       & 1       & 0       & 0       & female  & 0       & 1       & 38      & 1       & 0       & 71.2833\\\\\n",
       "\t 1       & 3       & 0       & 0       & 1       & female  & 0       & 1       & 26      & 0       & 0       &  7.9250\\\\\n",
       "\t 1       & 1       & 1       & 0       & 0       & female  & 0       & 1       & 35      & 1       & 0       & 53.1000\\\\\n",
       "\t 0       & 3       & 0       & 0       & 1       & male    & 1       & 0       & 35      & 0       & 0       &  8.0500\\\\\n",
       "\t 0       & 3       & 0       & 0       & 1       & male    & 1       & 0       & 30      & 0       & 0       &  8.4583\\\\\n",
       "\\end{tabular}\n"
      ],
      "text/markdown": [
       "\n",
       "| Survived | Pclass | pclass1 | plclass2 | plcass3 | Sex | male | female | Age | SibSp | Parch | Fare |\n",
       "|---|---|---|---|---|---|---|---|---|---|---|---|\n",
       "| 0       | 3       | 0       | 0       | 1       | male    | 1       | 0       | 22      | 1       | 0       |  7.2500 |\n",
       "| 1       | 1       | 1       | 0       | 0       | female  | 0       | 1       | 38      | 1       | 0       | 71.2833 |\n",
       "| 1       | 3       | 0       | 0       | 1       | female  | 0       | 1       | 26      | 0       | 0       |  7.9250 |\n",
       "| 1       | 1       | 1       | 0       | 0       | female  | 0       | 1       | 35      | 1       | 0       | 53.1000 |\n",
       "| 0       | 3       | 0       | 0       | 1       | male    | 1       | 0       | 35      | 0       | 0       |  8.0500 |\n",
       "| 0       | 3       | 0       | 0       | 1       | male    | 1       | 0       | 30      | 0       | 0       |  8.4583 |\n",
       "\n"
      ],
      "text/plain": [
       "  Survived Pclass pclass1 plclass2 plcass3 Sex    male female Age SibSp Parch\n",
       "1 0        3      0       0        1       male   1    0      22  1     0    \n",
       "2 1        1      1       0        0       female 0    1      38  1     0    \n",
       "3 1        3      0       0        1       female 0    1      26  0     0    \n",
       "4 1        1      1       0        0       female 0    1      35  1     0    \n",
       "5 0        3      0       0        1       male   1    0      35  0     0    \n",
       "6 0        3      0       0        1       male   1    0      30  0     0    \n",
       "  Fare   \n",
       "1  7.2500\n",
       "2 71.2833\n",
       "3  7.9250\n",
       "4 53.1000\n",
       "5  8.0500\n",
       "6  8.4583"
      ]
     },
     "metadata": {},
     "output_type": "display_data"
    }
   ],
   "source": [
    "df<-read.csv('d:/data/titanic/train3.csv')\n",
    "head(df)"
   ]
  },
  {
   "cell_type": "code",
   "execution_count": 2,
   "metadata": {},
   "outputs": [
    {
     "name": "stderr",
     "output_type": "stream",
     "text": [
      "Warning message:\n",
      "\"package 'dplyr' was built under R version 3.6.2\"\n",
      "Attaching package: 'dplyr'\n",
      "\n",
      "The following objects are masked from 'package:stats':\n",
      "\n",
      "    filter, lag\n",
      "\n",
      "The following objects are masked from 'package:base':\n",
      "\n",
      "    intersect, setdiff, setequal, union\n",
      "\n"
     ]
    },
    {
     "data": {
      "text/html": [
       "<ol class=list-inline>\n",
       "\t<li>891</li>\n",
       "\t<li>10</li>\n",
       "</ol>\n"
      ],
      "text/latex": [
       "\\begin{enumerate*}\n",
       "\\item 891\n",
       "\\item 10\n",
       "\\end{enumerate*}\n"
      ],
      "text/markdown": [
       "1. 891\n",
       "2. 10\n",
       "\n",
       "\n"
      ],
      "text/plain": [
       "[1] 891  10"
      ]
     },
     "metadata": {},
     "output_type": "display_data"
    },
    {
     "data": {
      "text/html": [
       "<table>\n",
       "<thead><tr><th scope=col>Survived</th><th scope=col>pclass1</th><th scope=col>plclass2</th><th scope=col>plcass3</th><th scope=col>male</th><th scope=col>female</th><th scope=col>Age</th><th scope=col>SibSp</th><th scope=col>Parch</th><th scope=col>Fare</th></tr></thead>\n",
       "<tbody>\n",
       "\t<tr><td>0      </td><td>0      </td><td>0      </td><td>1      </td><td>1      </td><td>0      </td><td>22     </td><td>1      </td><td>0      </td><td> 7.2500</td></tr>\n",
       "\t<tr><td>1      </td><td>1      </td><td>0      </td><td>0      </td><td>0      </td><td>1      </td><td>38     </td><td>1      </td><td>0      </td><td>71.2833</td></tr>\n",
       "\t<tr><td>1      </td><td>0      </td><td>0      </td><td>1      </td><td>0      </td><td>1      </td><td>26     </td><td>0      </td><td>0      </td><td> 7.9250</td></tr>\n",
       "\t<tr><td>1      </td><td>1      </td><td>0      </td><td>0      </td><td>0      </td><td>1      </td><td>35     </td><td>1      </td><td>0      </td><td>53.1000</td></tr>\n",
       "\t<tr><td>0      </td><td>0      </td><td>0      </td><td>1      </td><td>1      </td><td>0      </td><td>35     </td><td>0      </td><td>0      </td><td> 8.0500</td></tr>\n",
       "\t<tr><td>0      </td><td>0      </td><td>0      </td><td>1      </td><td>1      </td><td>0      </td><td>30     </td><td>0      </td><td>0      </td><td> 8.4583</td></tr>\n",
       "</tbody>\n",
       "</table>\n"
      ],
      "text/latex": [
       "\\begin{tabular}{r|llllllllll}\n",
       " Survived & pclass1 & plclass2 & plcass3 & male & female & Age & SibSp & Parch & Fare\\\\\n",
       "\\hline\n",
       "\t 0       & 0       & 0       & 1       & 1       & 0       & 22      & 1       & 0       &  7.2500\\\\\n",
       "\t 1       & 1       & 0       & 0       & 0       & 1       & 38      & 1       & 0       & 71.2833\\\\\n",
       "\t 1       & 0       & 0       & 1       & 0       & 1       & 26      & 0       & 0       &  7.9250\\\\\n",
       "\t 1       & 1       & 0       & 0       & 0       & 1       & 35      & 1       & 0       & 53.1000\\\\\n",
       "\t 0       & 0       & 0       & 1       & 1       & 0       & 35      & 0       & 0       &  8.0500\\\\\n",
       "\t 0       & 0       & 0       & 1       & 1       & 0       & 30      & 0       & 0       &  8.4583\\\\\n",
       "\\end{tabular}\n"
      ],
      "text/markdown": [
       "\n",
       "| Survived | pclass1 | plclass2 | plcass3 | male | female | Age | SibSp | Parch | Fare |\n",
       "|---|---|---|---|---|---|---|---|---|---|\n",
       "| 0       | 0       | 0       | 1       | 1       | 0       | 22      | 1       | 0       |  7.2500 |\n",
       "| 1       | 1       | 0       | 0       | 0       | 1       | 38      | 1       | 0       | 71.2833 |\n",
       "| 1       | 0       | 0       | 1       | 0       | 1       | 26      | 0       | 0       |  7.9250 |\n",
       "| 1       | 1       | 0       | 0       | 0       | 1       | 35      | 1       | 0       | 53.1000 |\n",
       "| 0       | 0       | 0       | 1       | 1       | 0       | 35      | 0       | 0       |  8.0500 |\n",
       "| 0       | 0       | 0       | 1       | 1       | 0       | 30      | 0       | 0       |  8.4583 |\n",
       "\n"
      ],
      "text/plain": [
       "  Survived pclass1 plclass2 plcass3 male female Age SibSp Parch Fare   \n",
       "1 0        0       0        1       1    0      22  1     0      7.2500\n",
       "2 1        1       0        0       0    1      38  1     0     71.2833\n",
       "3 1        0       0        1       0    1      26  0     0      7.9250\n",
       "4 1        1       0        0       0    1      35  1     0     53.1000\n",
       "5 0        0       0        1       1    0      35  0     0      8.0500\n",
       "6 0        0       0        1       1    0      30  0     0      8.4583"
      ]
     },
     "metadata": {},
     "output_type": "display_data"
    }
   ],
   "source": [
    "library(dplyr)\n",
    "df<- df %>% select(-Pclass,-Sex) #분석에 사용하지 않을 필드 제외\n",
    "dim(df) #데이터의 차원\n",
    "head(df)"
   ]
  },
  {
   "cell_type": "code",
   "execution_count": 3,
   "metadata": {},
   "outputs": [
    {
     "data": {
      "text/plain": [
       "\n",
       "  0   1 \n",
       "549 342 "
      ]
     },
     "metadata": {},
     "output_type": "display_data"
    },
    {
     "data": {
      "image/png": "[encoded data removed]",
      "text/plain": [
       "plot without title"
      ]
     },
     "metadata": {},
     "output_type": "display_data"
    }
   ],
   "source": [
    "(tbl<-table(df$Survived))\n",
    "barplot(tbl, beside=T, legend=T, col=rainbow(2))"
   ]
  },
  {
   "cell_type": "code",
   "execution_count": 4,
   "metadata": {},
   "outputs": [
    {
     "name": "stderr",
     "output_type": "stream",
     "text": [
      "Warning message:\n",
      "\"package 'ROSE' was built under R version 3.6.2\"Loaded ROSE 0.0-3\n",
      "\n"
     ]
    },
    {
     "data": {
      "text/plain": [
       "\n",
       "  0   1 \n",
       "342 342 "
      ]
     },
     "metadata": {},
     "output_type": "display_data"
    }
   ],
   "source": [
    "library(ROSE)\n",
    "df_samp <- ovun.sample(Survived~ . , data=df, seed=1, method='under',\n",
    "                      N=342*2)$data\n",
    "(tbl<-table(df_samp$Survived))"
   ]
  },
  {
   "cell_type": "code",
   "execution_count": 5,
   "metadata": {},
   "outputs": [
    {
     "name": "stderr",
     "output_type": "stream",
     "text": [
      "Loading required package: lattice\n",
      "Warning message:\n",
      "\"package 'lattice' was built under R version 3.6.2\"Loading required package: ggplot2\n",
      "Warning message:\n",
      "\"package 'ggplot2' was built under R version 3.6.2\""
     ]
    }
   ],
   "source": [
    "library(caret)\n",
    "idx_train<-createDataPartition(y=df_samp$Survived,p=0.8,list=F)\n",
    "train<-df_samp[idx_train,]\n",
    "X_train<-train[,-1]\n",
    "y_train<-train[,1]\n",
    "test<-df_samp[-idx_train,]\n",
    "X_test<-test[,-1]\n",
    "y_test<-test[,1]"
   ]
  },
  {
   "cell_type": "code",
   "execution_count": 7,
   "metadata": {},
   "outputs": [
    {
     "data": {
      "text/plain": [
       "\n",
       "Call:\n",
       "glm(formula = Survived ~ ., family = binomial, data = train)\n",
       "\n",
       "Deviance Residuals: \n",
       "     Min        1Q    Median        3Q       Max  \n",
       "-2.82530  -0.70024   0.00139   0.67915   2.14762  \n",
       "\n",
       "Coefficients: (2 not defined because of singularities)\n",
       "             Estimate Std. Error z value Pr(>|z|)    \n",
       "(Intercept)  2.185686   0.364604   5.995 2.04e-09 ***\n",
       "pclass1      1.725605   0.338099   5.104 3.33e-07 ***\n",
       "plclass2     0.984541   0.282899   3.480 0.000501 ***\n",
       "plcass3            NA         NA      NA       NA    \n",
       "male        -2.613776   0.242053 -10.798  < 2e-16 ***\n",
       "female             NA         NA      NA       NA    \n",
       "Age         -0.040175   0.009343  -4.300 1.71e-05 ***\n",
       "SibSp       -0.330877   0.126971  -2.606 0.009163 ** \n",
       "Parch       -0.091209   0.141399  -0.645 0.518897    \n",
       "Fare         0.004321   0.003248   1.330 0.183431    \n",
       "---\n",
       "Signif. codes:  0 '***' 0.001 '**' 0.01 '*' 0.05 '.' 0.1 ' ' 1\n",
       "\n",
       "(Dispersion parameter for binomial family taken to be 1)\n",
       "\n",
       "    Null deviance: 759.69  on 547  degrees of freedom\n",
       "Residual deviance: 519.32  on 540  degrees of freedom\n",
       "AIC: 535.32\n",
       "\n",
       "Number of Fisher Scoring iterations: 5\n"
      ]
     },
     "metadata": {},
     "output_type": "display_data"
    }
   ],
   "source": [
    "#로지스틱 회귀분석 모형\n",
    "model<-glm(Survived ~ . , data=train, family=binomial)\n",
    "summary(model)"
   ]
  },
  {
   "cell_type": "code",
   "execution_count": 8,
   "metadata": {},
   "outputs": [
    {
     "name": "stdout",
     "output_type": "stream",
     "text": [
      "Start:  AIC=535.32\n",
      "Survived ~ pclass1 + plclass2 + plcass3 + male + female + Age + \n",
      "    SibSp + Parch + Fare\n",
      "\n",
      "\n",
      "Step:  AIC=535.32\n",
      "Survived ~ pclass1 + plclass2 + plcass3 + male + Age + SibSp + \n",
      "    Parch + Fare\n",
      "\n",
      "\n",
      "Step:  AIC=535.32\n",
      "Survived ~ pclass1 + plclass2 + male + Age + SibSp + Parch + \n",
      "    Fare\n",
      "\n",
      "           Df Deviance    AIC\n",
      "- Parch     1   519.74 533.74\n",
      "<none>          519.32 535.32\n",
      "- Fare      1   521.55 535.55\n",
      "- SibSp     1   527.32 541.32\n",
      "- plclass2  1   531.65 545.65\n",
      "- Age       1   539.33 553.33\n",
      "- pclass1   1   544.39 558.39\n",
      "- male      1   666.65 680.65\n",
      "\n",
      "Step:  AIC=533.74\n",
      "Survived ~ pclass1 + plclass2 + male + Age + SibSp + Fare\n",
      "\n",
      "           Df Deviance    AIC\n",
      "- Fare      1   521.64 533.64\n",
      "<none>          519.74 533.74\n",
      "- SibSp     1   529.81 541.81\n",
      "- plclass2  1   532.24 544.24\n",
      "- Age       1   539.40 551.40\n",
      "- pclass1   1   546.90 558.90\n",
      "- male      1   667.97 679.97\n",
      "\n",
      "Step:  AIC=533.64\n",
      "Survived ~ pclass1 + plclass2 + male + Age + SibSp\n",
      "\n",
      "           Df Deviance    AIC\n",
      "<none>          521.64 533.64\n",
      "- SibSp     1   530.31 540.31\n",
      "- plclass2  1   534.88 544.88\n",
      "- Age       1   541.92 551.92\n",
      "- pclass1   1   577.03 587.03\n",
      "- male      1   675.20 685.20\n"
     ]
    }
   ],
   "source": [
    "#후진제거법\n",
    "reduced<-step(model,direction='backward')"
   ]
  },
  {
   "cell_type": "code",
   "execution_count": 9,
   "metadata": {},
   "outputs": [
    {
     "name": "stderr",
     "output_type": "stream",
     "text": [
      "Warning message:\n",
      "\"package 'e1071' was built under R version 3.6.2\""
     ]
    },
    {
     "data": {
      "text/plain": [
       "\n",
       "Parameter tuning of 'svm':\n",
       "\n",
       "- sampling method: 10-fold cross validation \n",
       "\n",
       "- best parameters:\n",
       " cost gamma\n",
       "    1 0.001\n",
       "\n",
       "- best performance: 0.1692742 \n",
       "\n",
       "- Detailed performance results:\n",
       "    cost gamma     error dispersion\n",
       "1  1e-03 1e-04 0.4950942 0.04066829\n",
       "2  1e-02 1e-04 0.4945208 0.04067938\n",
       "3  1e-01 1e-04 0.4888230 0.04078943\n",
       "4  1e+00 1e-04 0.4345106 0.04181350\n",
       "5  1e+01 1e-04 0.1693955 0.04347333\n",
       "6  1e-03 1e-03 0.4945309 0.04067632\n",
       "7  1e-02 1e-03 0.4889005 0.04075017\n",
       "8  1e-01 1e-03 0.4353609 0.04150292\n",
       "9  1e+00 1e-03 0.1692742 0.04330724\n",
       "10 1e+01 1e-03 0.2134257 0.07371674\n",
       "11 1e-03 1e-02 0.4895777 0.04062319\n",
       "12 1e-02 1e-02 0.4414109 0.04040524\n",
       "13 1e-01 1e-02 0.1741354 0.04308422\n",
       "14 1e+00 1e-02 0.2069427 0.07263308\n",
       "15 1e+01 1e-02 0.2037635 0.07281455\n",
       "16 1e-03 1e-01 0.4663509 0.03989557\n",
       "17 1e-02 1e-01 0.2672997 0.03608783\n",
       "18 1e-01 1e-01 0.1842341 0.06532965\n",
       "19 1e+00 1e-01 0.1910069 0.06665861\n",
       "20 1e+01 1e-01 0.1923379 0.05961780\n"
      ]
     },
     "metadata": {},
     "output_type": "display_data"
    }
   ],
   "source": [
    "library(e1071)\n",
    "#최적의 파라미터를 도출하는 과정\n",
    "set.seed(123)\n",
    "tune.out <- tune(svm, Survived ~pclass1 + plclass2 + male + Age + SibSp,\n",
    "                data=train, range=list(cost=c(0.001,0.01,0.1,1,10),\n",
    "                                      gamma=c(0.0001,0.001,0.01,0.1)))\n",
    "summary(tune.out)\n",
    "#최적 파라미터 cost 1, gamma 0.001"
   ]
  },
  {
   "cell_type": "code",
   "execution_count": 10,
   "metadata": {},
   "outputs": [
    {
     "data": {
      "text/plain": [
       "\n",
       "Call:\n",
       "best.tune(method = svm, train.x = Survived ~ pclass1 + plclass2 + \n",
       "    male + Age + SibSp, data = train, ranges = list(cost = c(0.001, \n",
       "    0.01, 0.1, 1, 10), gamma = c(1e-04, 0.001, 0.01, 0.1)))\n",
       "\n",
       "\n",
       "Parameters:\n",
       "   SVM-Type:  eps-regression \n",
       " SVM-Kernel:  radial \n",
       "       cost:  1 \n",
       "      gamma:  0.001 \n",
       "    epsilon:  0.1 \n",
       "\n",
       "\n",
       "Number of Support Vectors:  534\n",
       "\n",
       "\n",
       "\n",
       "\n"
      ]
     },
     "metadata": {},
     "output_type": "display_data"
    }
   ],
   "source": [
    "#최적의 svn 모형\n",
    "bestmodel<-tune.out$best.model\n",
    "summary(bestmodel)"
   ]
  },
  {
   "cell_type": "code",
   "execution_count": 11,
   "metadata": {},
   "outputs": [
    {
     "data": {
      "text/plain": [
       "       result\n",
       "y_train   0   1\n",
       "      0 233  41\n",
       "      1  88 186"
      ]
     },
     "metadata": {},
     "output_type": "display_data"
    },
    {
     "data": {
      "text/html": [
       "0.764598540145985"
      ],
      "text/latex": [
       "0.764598540145985"
      ],
      "text/markdown": [
       "0.764598540145985"
      ],
      "text/plain": [
       "[1] 0.7645985"
      ]
     },
     "metadata": {},
     "output_type": "display_data"
    }
   ],
   "source": [
    "#학습용 데이터셋으로 모형의 성능 확인\n",
    "pred<-predict(bestmodel,X_train)\n",
    "result<-round(pred)\n",
    "table(y_train,result)\n",
    "mean(y_train==result)"
   ]
  },
  {
   "cell_type": "code",
   "execution_count": 12,
   "metadata": {},
   "outputs": [
    {
     "data": {
      "text/plain": [
       "      result\n",
       "y_test  0  1\n",
       "     0 63  5\n",
       "     1 21 47"
      ]
     },
     "metadata": {},
     "output_type": "display_data"
    },
    {
     "data": {
      "text/html": [
       "0.808823529411765"
      ],
      "text/latex": [
       "0.808823529411765"
      ],
      "text/markdown": [
       "0.808823529411765"
      ],
      "text/plain": [
       "[1] 0.8088235"
      ]
     },
     "metadata": {},
     "output_type": "display_data"
    }
   ],
   "source": [
    "#검증용 데이터셋으로 모형의 성능 확인\n",
    "pred<-predict(bestmodel,X_test)\n",
    "result<-round(pred)\n",
    "table(y_test,result)\n",
    "mean(y_test==result)"
   ]
  },
  {
   "cell_type": "code",
   "execution_count": null,
   "metadata": {},
   "outputs": [],
   "source": []
  }
 ],
 "metadata": {
  "kernelspec": {
   "display_name": "R",
   "language": "R",
   "name": "ir"
  },
  "language_info": {
   "codemirror_mode": "r",
   "file_extension": ".r",
   "mimetype": "text/x-r-source",
   "name": "R",
   "pygments_lexer": "r",
   "version": "3.6.1"
  }
 },
 "nbformat": 4,
 "nbformat_minor": 2
}
