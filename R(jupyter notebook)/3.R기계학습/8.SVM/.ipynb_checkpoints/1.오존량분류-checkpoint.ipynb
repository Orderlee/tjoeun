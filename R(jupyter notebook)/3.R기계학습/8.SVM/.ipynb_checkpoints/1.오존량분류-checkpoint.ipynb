{
 "cells": [
  {
   "cell_type": "code",
   "execution_count": 2,
   "metadata": {},
   "outputs": [
    {
     "data": {
      "text/html": [
       "<table>\n",
       "<thead><tr><th scope=col>Ozone</th><th scope=col>Solar.R</th><th scope=col>Solar.R2</th><th scope=col>Wind</th><th scope=col>Temp</th><th scope=col>Month</th><th scope=col>Day</th><th scope=col>Ozone2</th><th scope=col>Result</th></tr></thead>\n",
       "<tbody>\n",
       "\t<tr><td>41      </td><td>190     </td><td>190.0000</td><td> 7.4    </td><td>67      </td><td>5       </td><td>1       </td><td>41.00000</td><td>0       </td></tr>\n",
       "\t<tr><td>36      </td><td>118     </td><td>118.0000</td><td> 8.0    </td><td>72      </td><td>5       </td><td>2       </td><td>36.00000</td><td>0       </td></tr>\n",
       "\t<tr><td>12      </td><td>149     </td><td>149.0000</td><td>12.6    </td><td>74      </td><td>5       </td><td>3       </td><td>12.00000</td><td>0       </td></tr>\n",
       "\t<tr><td>18      </td><td>313     </td><td>313.0000</td><td>11.5    </td><td>62      </td><td>5       </td><td>4       </td><td>18.00000</td><td>0       </td></tr>\n",
       "\t<tr><td>NA      </td><td> NA     </td><td>185.9315</td><td>14.3    </td><td>56      </td><td>5       </td><td>5       </td><td>42.12931</td><td>0       </td></tr>\n",
       "\t<tr><td>28      </td><td> NA     </td><td>185.9315</td><td>14.9    </td><td>66      </td><td>5       </td><td>6       </td><td>28.00000</td><td>0       </td></tr>\n",
       "</tbody>\n",
       "</table>\n"
      ],
      "text/latex": [
       "\\begin{tabular}{r|lllllllll}\n",
       " Ozone & Solar.R & Solar.R2 & Wind & Temp & Month & Day & Ozone2 & Result\\\\\n",
       "\\hline\n",
       "\t 41       & 190      & 190.0000 &  7.4     & 67       & 5        & 1        & 41.00000 & 0       \\\\\n",
       "\t 36       & 118      & 118.0000 &  8.0     & 72       & 5        & 2        & 36.00000 & 0       \\\\\n",
       "\t 12       & 149      & 149.0000 & 12.6     & 74       & 5        & 3        & 12.00000 & 0       \\\\\n",
       "\t 18       & 313      & 313.0000 & 11.5     & 62       & 5        & 4        & 18.00000 & 0       \\\\\n",
       "\t NA       &  NA      & 185.9315 & 14.3     & 56       & 5        & 5        & 42.12931 & 0       \\\\\n",
       "\t 28       &  NA      & 185.9315 & 14.9     & 66       & 5        & 6        & 28.00000 & 0       \\\\\n",
       "\\end{tabular}\n"
      ],
      "text/markdown": [
       "\n",
       "| Ozone | Solar.R | Solar.R2 | Wind | Temp | Month | Day | Ozone2 | Result |\n",
       "|---|---|---|---|---|---|---|---|---|\n",
       "| 41       | 190      | 190.0000 |  7.4     | 67       | 5        | 1        | 41.00000 | 0        |\n",
       "| 36       | 118      | 118.0000 |  8.0     | 72       | 5        | 2        | 36.00000 | 0        |\n",
       "| 12       | 149      | 149.0000 | 12.6     | 74       | 5        | 3        | 12.00000 | 0        |\n",
       "| 18       | 313      | 313.0000 | 11.5     | 62       | 5        | 4        | 18.00000 | 0        |\n",
       "| NA       |  NA      | 185.9315 | 14.3     | 56       | 5        | 5        | 42.12931 | 0        |\n",
       "| 28       |  NA      | 185.9315 | 14.9     | 66       | 5        | 6        | 28.00000 | 0        |\n",
       "\n"
      ],
      "text/plain": [
       "  Ozone Solar.R Solar.R2 Wind Temp Month Day Ozone2   Result\n",
       "1 41    190     190.0000  7.4 67   5     1   41.00000 0     \n",
       "2 36    118     118.0000  8.0 72   5     2   36.00000 0     \n",
       "3 12    149     149.0000 12.6 74   5     3   12.00000 0     \n",
       "4 18    313     313.0000 11.5 62   5     4   18.00000 0     \n",
       "5 NA     NA     185.9315 14.3 56   5     5   42.12931 0     \n",
       "6 28     NA     185.9315 14.9 66   5     6   28.00000 0     "
      ]
     },
     "metadata": {},
     "output_type": "display_data"
    }
   ],
   "source": [
    "df<-read.csv('d:/data/ozone/ozone4.csv')\n",
    "head(df)"
   ]
  },
  {
   "cell_type": "code",
   "execution_count": 3,
   "metadata": {},
   "outputs": [
    {
     "name": "stderr",
     "output_type": "stream",
     "text": [
      "Warning message:\n",
      "\"package 'dplyr' was built under R version 3.6.2\"\n",
      "Attaching package: 'dplyr'\n",
      "\n",
      "The following objects are masked from 'package:stats':\n",
      "\n",
      "    filter, lag\n",
      "\n",
      "The following objects are masked from 'package:base':\n",
      "\n",
      "    intersect, setdiff, setequal, union\n",
      "\n"
     ]
    },
    {
     "data": {
      "text/html": [
       "<ol class=list-inline>\n",
       "\t<li>153</li>\n",
       "\t<li>4</li>\n",
       "</ol>\n"
      ],
      "text/latex": [
       "\\begin{enumerate*}\n",
       "\\item 153\n",
       "\\item 4\n",
       "\\end{enumerate*}\n"
      ],
      "text/markdown": [
       "1. 153\n",
       "2. 4\n",
       "\n",
       "\n"
      ],
      "text/plain": [
       "[1] 153   4"
      ]
     },
     "metadata": {},
     "output_type": "display_data"
    },
    {
     "data": {
      "text/html": [
       "<table>\n",
       "<thead><tr><th scope=col>Solar.R2</th><th scope=col>Wind</th><th scope=col>Temp</th><th scope=col>Result</th></tr></thead>\n",
       "<tbody>\n",
       "\t<tr><td>190.0000</td><td> 7.4    </td><td>67      </td><td>0       </td></tr>\n",
       "\t<tr><td>118.0000</td><td> 8.0    </td><td>72      </td><td>0       </td></tr>\n",
       "\t<tr><td>149.0000</td><td>12.6    </td><td>74      </td><td>0       </td></tr>\n",
       "\t<tr><td>313.0000</td><td>11.5    </td><td>62      </td><td>0       </td></tr>\n",
       "\t<tr><td>185.9315</td><td>14.3    </td><td>56      </td><td>0       </td></tr>\n",
       "\t<tr><td>185.9315</td><td>14.9    </td><td>66      </td><td>0       </td></tr>\n",
       "</tbody>\n",
       "</table>\n"
      ],
      "text/latex": [
       "\\begin{tabular}{r|llll}\n",
       " Solar.R2 & Wind & Temp & Result\\\\\n",
       "\\hline\n",
       "\t 190.0000 &  7.4     & 67       & 0       \\\\\n",
       "\t 118.0000 &  8.0     & 72       & 0       \\\\\n",
       "\t 149.0000 & 12.6     & 74       & 0       \\\\\n",
       "\t 313.0000 & 11.5     & 62       & 0       \\\\\n",
       "\t 185.9315 & 14.3     & 56       & 0       \\\\\n",
       "\t 185.9315 & 14.9     & 66       & 0       \\\\\n",
       "\\end{tabular}\n"
      ],
      "text/markdown": [
       "\n",
       "| Solar.R2 | Wind | Temp | Result |\n",
       "|---|---|---|---|\n",
       "| 190.0000 |  7.4     | 67       | 0        |\n",
       "| 118.0000 |  8.0     | 72       | 0        |\n",
       "| 149.0000 | 12.6     | 74       | 0        |\n",
       "| 313.0000 | 11.5     | 62       | 0        |\n",
       "| 185.9315 | 14.3     | 56       | 0        |\n",
       "| 185.9315 | 14.9     | 66       | 0        |\n",
       "\n"
      ],
      "text/plain": [
       "  Solar.R2 Wind Temp Result\n",
       "1 190.0000  7.4 67   0     \n",
       "2 118.0000  8.0 72   0     \n",
       "3 149.0000 12.6 74   0     \n",
       "4 313.0000 11.5 62   0     \n",
       "5 185.9315 14.3 56   0     \n",
       "6 185.9315 14.9 66   0     "
      ]
     },
     "metadata": {},
     "output_type": "display_data"
    }
   ],
   "source": [
    "library(dplyr)\n",
    "#분석에 사용하지 않을 필드 제거\n",
    "df<-df %>% select(-Ozone,-Solar.R,-Month,-Day,-Ozone2)\n",
    "dim(df)\n",
    "head(df)"
   ]
  },
  {
   "cell_type": "code",
   "execution_count": 6,
   "metadata": {},
   "outputs": [
    {
     "data": {
      "text/plain": [
       "\n",
       "  0   1 \n",
       "109  44 "
      ]
     },
     "metadata": {},
     "output_type": "display_data"
    },
    {
     "data": {
      "image/png": "[encoded data removed]",
      "text/plain": [
       "plot without title"
      ]
     },
     "metadata": {},
     "output_type": "display_data"
    }
   ],
   "source": [
    "(tbl<-table(df$Result))\n",
    "barplot(tbl,beside=T,legend=T,col=rainbow(2)) #카운트 플롯"
   ]
  },
  {
   "cell_type": "code",
   "execution_count": 8,
   "metadata": {},
   "outputs": [
    {
     "data": {
      "text/plain": [
       "\n",
       " 0  1 \n",
       "44 44 "
      ]
     },
     "metadata": {},
     "output_type": "display_data"
    }
   ],
   "source": [
    "library(ROSE)\n",
    "df_samp<-ovun.sample(Result ~. , data=df, seed=1, method='under',\n",
    "                     N=44*2)$data\n",
    "(tbl<-table(df_samp$Result))"
   ]
  },
  {
   "cell_type": "code",
   "execution_count": 9,
   "metadata": {},
   "outputs": [
    {
     "name": "stderr",
     "output_type": "stream",
     "text": [
      "Loading required package: lattice\n",
      "Warning message:\n",
      "\"package 'lattice' was built under R version 3.6.2\"Loading required package: ggplot2\n",
      "Warning message:\n",
      "\"package 'ggplot2' was built under R version 3.6.2\""
     ]
    }
   ],
   "source": [
    "library(caret)\n",
    "set.seed(123)\n",
    "#학습용:검증용 8:2로 구분\n",
    "idx_train<-createDataPartition(y=df_samp$Result, p=0.8,list=F)\n",
    "train <- df_samp[idx_train,]\n",
    "X_train <- train[,-4]\n",
    "y_train <- train[,4]\n",
    "test<- df_samp[-idx_train,]\n",
    "X_test<-test[,-4]\n",
    "y_test<-test[,4]"
   ]
  },
  {
   "cell_type": "code",
   "execution_count": 17,
   "metadata": {},
   "outputs": [
    {
     "name": "stderr",
     "output_type": "stream",
     "text": [
      "Warning message:\n",
      "\"package 'reshape' was built under R version 3.6.2\"\n",
      "Attaching package: 'reshape'\n",
      "\n",
      "The following object is masked from 'package:dplyr':\n",
      "\n",
      "    rename\n",
      "\n",
      "Using  as id variables\n"
     ]
    },
    {
     "data": {
      "image/png": "[encoded data removed]",
      "text/plain": [
       "plot without title"
      ]
     },
     "metadata": {},
     "output_type": "display_data"
    }
   ],
   "source": [
    "#스케일링 전의 박스플롯\n",
    "library(reshape)\n",
    "meltData<-melt(X_train)\n",
    "boxplot(data=meltData,value~variable)"
   ]
  },
  {
   "cell_type": "code",
   "execution_count": 18,
   "metadata": {},
   "outputs": [],
   "source": [
    "#scale() 함수로 정규화 후 다시 데이터 프레임으로 변환\n",
    "X_train_scaled<-as.data.frame(scale(X_train))\n",
    "X_test_scaled<-as.data.frame(scale(X_test))\n",
    "#X변수에 y변수를 붙여서 만든 데이터 프레임\n",
    "train_scaled<-cbind(X_train_scaled,Result=y_train)\n",
    "test_scaled<-cbind(X_test_scaled,Result=y_test)"
   ]
  },
  {
   "cell_type": "code",
   "execution_count": 19,
   "metadata": {},
   "outputs": [
    {
     "name": "stderr",
     "output_type": "stream",
     "text": [
      "Using  as id variables\n"
     ]
    },
    {
     "data": {
      "image/png": "[encoded data removed]",
      "text/plain": [
       "plot without title"
      ]
     },
     "metadata": {},
     "output_type": "display_data"
    }
   ],
   "source": [
    "#스케일링 후 의 박스플롯\n",
    "meltData<-melt(X_train_scaled)\n",
    "boxplot(data=meltData,value~variable)"
   ]
  },
  {
   "cell_type": "code",
   "execution_count": 10,
   "metadata": {},
   "outputs": [
    {
     "name": "stderr",
     "output_type": "stream",
     "text": [
      "Installing package into 'C:/Users/tjoeun302-18/Documents/R/win-library/3.6'\n",
      "(as 'lib' is unspecified)\n"
     ]
    },
    {
     "name": "stdout",
     "output_type": "stream",
     "text": [
      "package 'e1071' successfully unpacked and MD5 sums checked\n",
      "\n",
      "The downloaded binary packages are in\n",
      "\tC:\\Users\\tjoeun302-18\\AppData\\Local\\Temp\\RtmpiWHGCj\\downloaded_packages\n"
     ]
    }
   ],
   "source": [
    "#install.packages('e1071')"
   ]
  },
  {
   "cell_type": "code",
   "execution_count": 20,
   "metadata": {},
   "outputs": [
    {
     "data": {
      "text/plain": [
       "\n",
       "Parameter tuning of 'svm':\n",
       "\n",
       "- sampling method: 10-fold cross validation \n",
       "\n",
       "- best parameters:\n",
       " cost gamma\n",
       "    1   0.1\n",
       "\n",
       "- best performance: 0.1542039 \n",
       "\n",
       "- Detailed performance results:\n",
       "    cost gamma     error dispersion\n",
       "1  1e-03 1e-04 0.5870660 0.07544269\n",
       "2  1e-02 1e-04 0.5869078 0.07545081\n",
       "3  1e-01 1e-04 0.5853280 0.07553184\n",
       "4  1e+00 1e-04 0.5697182 0.07632944\n",
       "5  1e+01 1e-04 0.4311357 0.08043937\n",
       "6  1e-03 1e-03 0.5869096 0.07545038\n",
       "7  1e-02 1e-03 0.5853460 0.07552748\n",
       "8  1e-01 1e-03 0.5698944 0.07628658\n",
       "9  1e+00 1e-03 0.4324998 0.08016633\n",
       "10 1e+01 1e-03 0.1654579 0.06256274\n",
       "11 1e-03 1e-02 0.5855127 0.07548912\n",
       "12 1e-02 1e-02 0.5715253 0.07590889\n",
       "13 1e-01 1e-02 0.4453811 0.07765264\n",
       "14 1e+00 1e-02 0.1626118 0.06416091\n",
       "15 1e+01 1e-02 0.1664284 0.07351348\n",
       "16 1e-03 1e-01 0.5800318 0.07492764\n",
       "17 1e-02 1e-01 0.5191664 0.07033929\n",
       "18 1e-01 1e-01 0.1693963 0.05056926\n",
       "19 1e+00 1e-01 0.1542039 0.08373611\n",
       "20 1e+01 1e-01 0.1545189 0.08267717\n"
      ]
     },
     "metadata": {},
     "output_type": "display_data"
    }
   ],
   "source": [
    "library(e1071)\n",
    "set.seed(123)\n",
    "# svm:모형을 만들고 최적의 파라미터를 찾기 위한 과정\n",
    "# cost: 값이 커지면 자세하게 결정 경계를 찾아냄\n",
    "#값이 작아지면 이상치를 고려하여 일반적인 결정경계를 만들어냄\n",
    "# gamma : 값이 커지면 각각의 데이터 포인트가 영향력을 행사하는 거리가\n",
    "# 짧아지고 작아지면 영향력을 행사하는 거리가 길어짐\n",
    "tune.out<-tune(svm,Result ~ . , data=train_scaled,\n",
    "              range=list(cost=c(0.001,0.01,0.1,1,10),\n",
    "                        gamma=c(0.0001,0.001,0.01,0.1)))\n",
    "summary(tune.out)"
   ]
  },
  {
   "cell_type": "code",
   "execution_count": 21,
   "metadata": {},
   "outputs": [
    {
     "data": {
      "text/plain": [
       "\n",
       "Call:\n",
       "best.tune(method = svm, train.x = Result ~ ., data = train_scaled, \n",
       "    ranges = list(cost = c(0.001, 0.01, 0.1, 1, 10), gamma = c(1e-04, \n",
       "        0.001, 0.01, 0.1)))\n",
       "\n",
       "\n",
       "Parameters:\n",
       "   SVM-Type:  eps-regression \n",
       " SVM-Kernel:  radial \n",
       "       cost:  1 \n",
       "      gamma:  0.1 \n",
       "    epsilon:  0.1 \n",
       "\n",
       "\n",
       "Number of Support Vectors:  59\n",
       "\n",
       "\n",
       "\n",
       "\n"
      ]
     },
     "metadata": {},
     "output_type": "display_data"
    }
   ],
   "source": [
    "#실험을 통해 만들어진 최적의 svm 모형\n",
    "bestmodel<-tune.out$best.model\n",
    "summary(bestmodel)"
   ]
  },
  {
   "cell_type": "code",
   "execution_count": 22,
   "metadata": {},
   "outputs": [
    {
     "data": {
      "text/plain": [
       "       result\n",
       "y_train  0  1\n",
       "      0 30  6\n",
       "      1  6 30"
      ]
     },
     "metadata": {},
     "output_type": "display_data"
    },
    {
     "data": {
      "text/html": [
       "0.833333333333333"
      ],
      "text/latex": [
       "0.833333333333333"
      ],
      "text/markdown": [
       "0.833333333333333"
      ],
      "text/plain": [
       "[1] 0.8333333"
      ]
     },
     "metadata": {},
     "output_type": "display_data"
    }
   ],
   "source": [
    "#학습용 데이터셋의 예측 정확도\n",
    "pred<-predict(bestmodel,X_train_scaled)\n",
    "result<-round(pred)\n",
    "table(y_train,result)\n",
    "mean(y_train==result)"
   ]
  },
  {
   "cell_type": "code",
   "execution_count": 23,
   "metadata": {},
   "outputs": [
    {
     "data": {
      "text/plain": [
       "      result\n",
       "y_test 0 1\n",
       "     0 6 2\n",
       "     1 3 5"
      ]
     },
     "metadata": {},
     "output_type": "display_data"
    },
    {
     "data": {
      "text/html": [
       "0.6875"
      ],
      "text/latex": [
       "0.6875"
      ],
      "text/markdown": [
       "0.6875"
      ],
      "text/plain": [
       "[1] 0.6875"
      ]
     },
     "metadata": {},
     "output_type": "display_data"
    }
   ],
   "source": [
    "#검증용 데이터셋의 예측 정확도\n",
    "pred<-predict(bestmodel,X_test_scaled)\n",
    "result<-round(pred)\n",
    "table(y_test,result)\n",
    "mean(y_test==result)"
   ]
  },
  {
   "cell_type": "code",
   "execution_count": null,
   "metadata": {},
   "outputs": [],
   "source": []
  },
  {
   "cell_type": "code",
   "execution_count": null,
   "metadata": {},
   "outputs": [],
   "source": []
  },
  {
   "cell_type": "code",
   "execution_count": null,
   "metadata": {},
   "outputs": [],
   "source": []
  }
 ],
 "metadata": {
  "kernelspec": {
   "display_name": "R",
   "language": "R",
   "name": "ir"
  },
  "language_info": {
   "codemirror_mode": "r",
   "file_extension": ".r",
   "mimetype": "text/x-r-source",
   "name": "R",
   "pygments_lexer": "r",
   "version": "3.6.1"
  }
 },
 "nbformat": 4,
 "nbformat_minor": 2
}
