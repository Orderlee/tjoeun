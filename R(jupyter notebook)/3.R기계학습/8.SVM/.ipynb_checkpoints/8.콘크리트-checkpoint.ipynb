{
 "cells": [
  {
   "cell_type": "code",
   "execution_count": 1,
   "metadata": {},
   "outputs": [
    {
     "data": {
      "text/html": [
       "<table>\n",
       "<thead><tr><th scope=col>cement</th><th scope=col>flag</th><th scope=col>ash</th><th scope=col>water</th><th scope=col>superplastic</th><th scope=col>coarseagg</th><th scope=col>findagg</th><th scope=col>age</th><th scope=col>strength</th><th scope=col>class</th></tr></thead>\n",
       "<tbody>\n",
       "\t<tr><td>164.2 </td><td>  0   </td><td>200.1 </td><td>181.2 </td><td>12.6  </td><td> 849.3</td><td>846.0 </td><td>28    </td><td>15.09 </td><td>0     </td></tr>\n",
       "\t<tr><td>164.0 </td><td>  0   </td><td>200.0 </td><td>181.0 </td><td>13.0  </td><td> 849.0</td><td>846.0 </td><td>28    </td><td>15.09 </td><td>0     </td></tr>\n",
       "\t<tr><td>158.0 </td><td>  0   </td><td>195.0 </td><td>220.0 </td><td>11.0  </td><td> 898.0</td><td>713.0 </td><td>28    </td><td> 8.54 </td><td>0     </td></tr>\n",
       "\t<tr><td>144.0 </td><td> 15   </td><td>195.0 </td><td>176.0 </td><td> 6.0  </td><td>1021.0</td><td>709.0 </td><td>28    </td><td>15.34 </td><td>0     </td></tr>\n",
       "\t<tr><td>167.0 </td><td>187   </td><td>195.0 </td><td>185.0 </td><td> 7.0  </td><td> 898.0</td><td>636.0 </td><td>28    </td><td>23.89 </td><td>0     </td></tr>\n",
       "\t<tr><td>158.4 </td><td>  0   </td><td>194.9 </td><td>219.7 </td><td>11.0  </td><td> 897.7</td><td>712.9 </td><td>28    </td><td> 8.54 </td><td>0     </td></tr>\n",
       "</tbody>\n",
       "</table>\n"
      ],
      "text/latex": [
       "\\begin{tabular}{r|llllllllll}\n",
       " cement & flag & ash & water & superplastic & coarseagg & findagg & age & strength & class\\\\\n",
       "\\hline\n",
       "\t 164.2  &   0    & 200.1  & 181.2  & 12.6   &  849.3 & 846.0  & 28     & 15.09  & 0     \\\\\n",
       "\t 164.0  &   0    & 200.0  & 181.0  & 13.0   &  849.0 & 846.0  & 28     & 15.09  & 0     \\\\\n",
       "\t 158.0  &   0    & 195.0  & 220.0  & 11.0   &  898.0 & 713.0  & 28     &  8.54  & 0     \\\\\n",
       "\t 144.0  &  15    & 195.0  & 176.0  &  6.0   & 1021.0 & 709.0  & 28     & 15.34  & 0     \\\\\n",
       "\t 167.0  & 187    & 195.0  & 185.0  &  7.0   &  898.0 & 636.0  & 28     & 23.89  & 0     \\\\\n",
       "\t 158.4  &   0    & 194.9  & 219.7  & 11.0   &  897.7 & 712.9  & 28     &  8.54  & 0     \\\\\n",
       "\\end{tabular}\n"
      ],
      "text/markdown": [
       "\n",
       "| cement | flag | ash | water | superplastic | coarseagg | findagg | age | strength | class |\n",
       "|---|---|---|---|---|---|---|---|---|---|\n",
       "| 164.2  |   0    | 200.1  | 181.2  | 12.6   |  849.3 | 846.0  | 28     | 15.09  | 0      |\n",
       "| 164.0  |   0    | 200.0  | 181.0  | 13.0   |  849.0 | 846.0  | 28     | 15.09  | 0      |\n",
       "| 158.0  |   0    | 195.0  | 220.0  | 11.0   |  898.0 | 713.0  | 28     |  8.54  | 0      |\n",
       "| 144.0  |  15    | 195.0  | 176.0  |  6.0   | 1021.0 | 709.0  | 28     | 15.34  | 0      |\n",
       "| 167.0  | 187    | 195.0  | 185.0  |  7.0   |  898.0 | 636.0  | 28     | 23.89  | 0      |\n",
       "| 158.4  |   0    | 194.9  | 219.7  | 11.0   |  897.7 | 712.9  | 28     |  8.54  | 0      |\n",
       "\n"
      ],
      "text/plain": [
       "  cement flag ash   water superplastic coarseagg findagg age strength class\n",
       "1 164.2    0  200.1 181.2 12.6          849.3    846.0   28  15.09    0    \n",
       "2 164.0    0  200.0 181.0 13.0          849.0    846.0   28  15.09    0    \n",
       "3 158.0    0  195.0 220.0 11.0          898.0    713.0   28   8.54    0    \n",
       "4 144.0   15  195.0 176.0  6.0         1021.0    709.0   28  15.34    0    \n",
       "5 167.0  187  195.0 185.0  7.0          898.0    636.0   28  23.89    0    \n",
       "6 158.4    0  194.9 219.7 11.0          897.7    712.9   28   8.54    0    "
      ]
     },
     "metadata": {},
     "output_type": "display_data"
    }
   ],
   "source": [
    "df<-read.csv('d:/data/concrete/concrete.csv')\n",
    "head(df)"
   ]
  },
  {
   "cell_type": "code",
   "execution_count": 2,
   "metadata": {},
   "outputs": [
    {
     "name": "stderr",
     "output_type": "stream",
     "text": [
      "Warning message:\n",
      "\"package 'dplyr' was built under R version 3.6.2\"\n",
      "Attaching package: 'dplyr'\n",
      "\n",
      "The following objects are masked from 'package:stats':\n",
      "\n",
      "    filter, lag\n",
      "\n",
      "The following objects are masked from 'package:base':\n",
      "\n",
      "    intersect, setdiff, setequal, union\n",
      "\n"
     ]
    },
    {
     "data": {
      "text/html": [
       "<ol class=list-inline>\n",
       "\t<li>1030</li>\n",
       "\t<li>9</li>\n",
       "</ol>\n"
      ],
      "text/latex": [
       "\\begin{enumerate*}\n",
       "\\item 1030\n",
       "\\item 9\n",
       "\\end{enumerate*}\n"
      ],
      "text/markdown": [
       "1. 1030\n",
       "2. 9\n",
       "\n",
       "\n"
      ],
      "text/plain": [
       "[1] 1030    9"
      ]
     },
     "metadata": {},
     "output_type": "display_data"
    },
    {
     "data": {
      "text/html": [
       "<table>\n",
       "<thead><tr><th scope=col>cement</th><th scope=col>flag</th><th scope=col>ash</th><th scope=col>water</th><th scope=col>superplastic</th><th scope=col>coarseagg</th><th scope=col>findagg</th><th scope=col>age</th><th scope=col>class</th></tr></thead>\n",
       "<tbody>\n",
       "\t<tr><td>164.2 </td><td>  0   </td><td>200.1 </td><td>181.2 </td><td>12.6  </td><td> 849.3</td><td>846.0 </td><td>28    </td><td>0     </td></tr>\n",
       "\t<tr><td>164.0 </td><td>  0   </td><td>200.0 </td><td>181.0 </td><td>13.0  </td><td> 849.0</td><td>846.0 </td><td>28    </td><td>0     </td></tr>\n",
       "\t<tr><td>158.0 </td><td>  0   </td><td>195.0 </td><td>220.0 </td><td>11.0  </td><td> 898.0</td><td>713.0 </td><td>28    </td><td>0     </td></tr>\n",
       "\t<tr><td>144.0 </td><td> 15   </td><td>195.0 </td><td>176.0 </td><td> 6.0  </td><td>1021.0</td><td>709.0 </td><td>28    </td><td>0     </td></tr>\n",
       "\t<tr><td>167.0 </td><td>187   </td><td>195.0 </td><td>185.0 </td><td> 7.0  </td><td> 898.0</td><td>636.0 </td><td>28    </td><td>0     </td></tr>\n",
       "\t<tr><td>158.4 </td><td>  0   </td><td>194.9 </td><td>219.7 </td><td>11.0  </td><td> 897.7</td><td>712.9 </td><td>28    </td><td>0     </td></tr>\n",
       "</tbody>\n",
       "</table>\n"
      ],
      "text/latex": [
       "\\begin{tabular}{r|lllllllll}\n",
       " cement & flag & ash & water & superplastic & coarseagg & findagg & age & class\\\\\n",
       "\\hline\n",
       "\t 164.2  &   0    & 200.1  & 181.2  & 12.6   &  849.3 & 846.0  & 28     & 0     \\\\\n",
       "\t 164.0  &   0    & 200.0  & 181.0  & 13.0   &  849.0 & 846.0  & 28     & 0     \\\\\n",
       "\t 158.0  &   0    & 195.0  & 220.0  & 11.0   &  898.0 & 713.0  & 28     & 0     \\\\\n",
       "\t 144.0  &  15    & 195.0  & 176.0  &  6.0   & 1021.0 & 709.0  & 28     & 0     \\\\\n",
       "\t 167.0  & 187    & 195.0  & 185.0  &  7.0   &  898.0 & 636.0  & 28     & 0     \\\\\n",
       "\t 158.4  &   0    & 194.9  & 219.7  & 11.0   &  897.7 & 712.9  & 28     & 0     \\\\\n",
       "\\end{tabular}\n"
      ],
      "text/markdown": [
       "\n",
       "| cement | flag | ash | water | superplastic | coarseagg | findagg | age | class |\n",
       "|---|---|---|---|---|---|---|---|---|\n",
       "| 164.2  |   0    | 200.1  | 181.2  | 12.6   |  849.3 | 846.0  | 28     | 0      |\n",
       "| 164.0  |   0    | 200.0  | 181.0  | 13.0   |  849.0 | 846.0  | 28     | 0      |\n",
       "| 158.0  |   0    | 195.0  | 220.0  | 11.0   |  898.0 | 713.0  | 28     | 0      |\n",
       "| 144.0  |  15    | 195.0  | 176.0  |  6.0   | 1021.0 | 709.0  | 28     | 0      |\n",
       "| 167.0  | 187    | 195.0  | 185.0  |  7.0   |  898.0 | 636.0  | 28     | 0      |\n",
       "| 158.4  |   0    | 194.9  | 219.7  | 11.0   |  897.7 | 712.9  | 28     | 0      |\n",
       "\n"
      ],
      "text/plain": [
       "  cement flag ash   water superplastic coarseagg findagg age class\n",
       "1 164.2    0  200.1 181.2 12.6          849.3    846.0   28  0    \n",
       "2 164.0    0  200.0 181.0 13.0          849.0    846.0   28  0    \n",
       "3 158.0    0  195.0 220.0 11.0          898.0    713.0   28  0    \n",
       "4 144.0   15  195.0 176.0  6.0         1021.0    709.0   28  0    \n",
       "5 167.0  187  195.0 185.0  7.0          898.0    636.0   28  0    \n",
       "6 158.4    0  194.9 219.7 11.0          897.7    712.9   28  0    "
      ]
     },
     "metadata": {},
     "output_type": "display_data"
    }
   ],
   "source": [
    "library(dplyr)\n",
    "df<- df %>% select(-strength)\n",
    "dim(df)\n",
    "head(df)"
   ]
  },
  {
   "cell_type": "code",
   "execution_count": 3,
   "metadata": {},
   "outputs": [
    {
     "data": {
      "text/plain": [
       "\n",
       "  0   1 \n",
       "523 507 "
      ]
     },
     "metadata": {},
     "output_type": "display_data"
    },
    {
     "data": {
      "image/png": "[encoded data removed]",
      "text/plain": [
       "plot without title"
      ]
     },
     "metadata": {},
     "output_type": "display_data"
    }
   ],
   "source": [
    "(tbl<-table(df$class))\n",
    "barplot(tbl,beside=T,legend=T,col=rainbow(2))"
   ]
  },
  {
   "cell_type": "code",
   "execution_count": 4,
   "metadata": {},
   "outputs": [
    {
     "name": "stderr",
     "output_type": "stream",
     "text": [
      "Warning message:\n",
      "\"package 'ROSE' was built under R version 3.6.2\"Loaded ROSE 0.0-3\n",
      "\n"
     ]
    },
    {
     "data": {
      "text/plain": [
       "\n",
       "  0   1 \n",
       "507 507 "
      ]
     },
     "metadata": {},
     "output_type": "display_data"
    }
   ],
   "source": [
    "library(ROSE)\n",
    "df_samp<-ovun.sample(class ~ . , data=df, seed=1, method='under',\n",
    "                    N=507*2)$data\n",
    "table(df_samp$class)"
   ]
  },
  {
   "cell_type": "code",
   "execution_count": 5,
   "metadata": {},
   "outputs": [
    {
     "name": "stderr",
     "output_type": "stream",
     "text": [
      "Loading required package: lattice\n",
      "Warning message:\n",
      "\"package 'lattice' was built under R version 3.6.2\"Loading required package: ggplot2\n",
      "Warning message:\n",
      "\"package 'ggplot2' was built under R version 3.6.2\""
     ]
    }
   ],
   "source": [
    "#학습용:검증용 8:2로 구분\n",
    "library(caret)\n",
    "set.seed(123)\n",
    "idx_train<-createDataPartition(y=df_samp$class, p=0.8,list=F)\n",
    "train<-df_samp[idx_train,]\n",
    "X_train<-train[,-9]\n",
    "y_train<-train[,9]\n",
    "test<-df_samp[-idx_train,]\n",
    "X_test<-test[,-9]\n",
    "y_test<-test[,9]"
   ]
  },
  {
   "cell_type": "code",
   "execution_count": 6,
   "metadata": {},
   "outputs": [
    {
     "name": "stderr",
     "output_type": "stream",
     "text": [
      "Warning message:\n",
      "\"package 'e1071' was built under R version 3.6.2\""
     ]
    },
    {
     "data": {
      "text/plain": [
       "\n",
       "Parameter tuning of 'svm':\n",
       "\n",
       "- sampling method: 10-fold cross validation \n",
       "\n",
       "- best parameters:\n",
       " cost gamma\n",
       "   10   0.1\n",
       "\n",
       "- best performance: 0.1119331 \n",
       "\n",
       "- Detailed performance results:\n",
       "    cost gamma     error dispersion\n",
       "1  1e-03 1e-04 0.4822111 0.01948877\n",
       "2  1e-02 1e-04 0.4809911 0.01945677\n",
       "3  1e-01 1e-04 0.4688454 0.01926835\n",
       "4  1e+00 1e-04 0.3613375 0.02532688\n",
       "5  1e+01 1e-04 0.1690437 0.01776725\n",
       "6  1e-03 1e-03 0.4810307 0.01945271\n",
       "7  1e-02 1e-03 0.4691011 0.01925727\n",
       "8  1e-01 1e-03 0.3633300 0.02494200\n",
       "9  1e+00 1e-03 0.1685481 0.01785371\n",
       "10 1e+01 1e-03 0.1556143 0.01805373\n",
       "11 1e-03 1e-02 0.4713518 0.01919371\n",
       "12 1e-02 1e-02 0.3813574 0.02200171\n",
       "13 1e-01 1e-02 0.1645776 0.01685918\n",
       "14 1e+00 1e-02 0.1350248 0.02054514\n",
       "15 1e+01 1e-02 0.1264886 0.02724823\n",
       "16 1e-03 1e-01 0.4500198 0.01895021\n",
       "17 1e-02 1e-01 0.2363846 0.01537581\n",
       "18 1e-01 1e-01 0.1348065 0.01991789\n",
       "19 1e+00 1e-01 0.1177022 0.02661714\n",
       "20 1e+01 1e-01 0.1119331 0.03043139\n"
      ]
     },
     "metadata": {},
     "output_type": "display_data"
    }
   ],
   "source": [
    "#최적의 파라미터로 만들어진 svm 모형 \n",
    "library(e1071)\n",
    "set.seed(123)\n",
    "tune.out<-tune(svm, class ~ . , data=train,\n",
    "              range=list(cost=c(0.001,0.01,0.1,1,10),\n",
    "                        gamma=c(0.0001,0.001,0.01,0.1)))\n",
    "summary(tune.out)\n",
    "#cost 10 gamma 0.1"
   ]
  },
  {
   "cell_type": "code",
   "execution_count": 9,
   "metadata": {},
   "outputs": [
    {
     "data": {
      "text/plain": [
       "\n",
       "Call:\n",
       "best.tune(method = svm, train.x = class ~ ., data = train, ranges = list(cost = c(0.001, \n",
       "    0.01, 0.1, 1, 10), gamma = c(1e-04, 0.001, 0.01, 0.1)))\n",
       "\n",
       "\n",
       "Parameters:\n",
       "   SVM-Type:  eps-regression \n",
       " SVM-Kernel:  radial \n",
       "       cost:  10 \n",
       "      gamma:  0.1 \n",
       "    epsilon:  0.1 \n",
       "\n",
       "\n",
       "Number of Support Vectors:  596\n",
       "\n",
       "\n",
       "\n",
       "\n"
      ]
     },
     "metadata": {},
     "output_type": "display_data"
    }
   ],
   "source": [
    "bestmodel<-tune.out$best.model\n",
    "summary(bestmodel)"
   ]
  },
  {
   "cell_type": "code",
   "execution_count": 10,
   "metadata": {},
   "outputs": [
    {
     "data": {
      "text/plain": [
       "       result\n",
       "y_train   0   1\n",
       "      0 360  46\n",
       "      1  39 367"
      ]
     },
     "metadata": {},
     "output_type": "display_data"
    },
    {
     "data": {
      "text/html": [
       "0.895320197044335"
      ],
      "text/latex": [
       "0.895320197044335"
      ],
      "text/markdown": [
       "0.895320197044335"
      ],
      "text/plain": [
       "[1] 0.8953202"
      ]
     },
     "metadata": {},
     "output_type": "display_data"
    }
   ],
   "source": [
    "#학습용 데이터셋의 예측 정확도\n",
    "pred<-predict(bestmodel,X_train)\n",
    "result<-round(pred)\n",
    "table(y_train,result)\n",
    "mean(y_train==result)"
   ]
  },
  {
   "cell_type": "code",
   "execution_count": 12,
   "metadata": {},
   "outputs": [
    {
     "data": {
      "text/plain": [
       "      result\n",
       "y_test  0  1\n",
       "     0 86 15\n",
       "     1 14 87"
      ]
     },
     "metadata": {},
     "output_type": "display_data"
    },
    {
     "data": {
      "text/html": [
       "0.856435643564356"
      ],
      "text/latex": [
       "0.856435643564356"
      ],
      "text/markdown": [
       "0.856435643564356"
      ],
      "text/plain": [
       "[1] 0.8564356"
      ]
     },
     "metadata": {},
     "output_type": "display_data"
    }
   ],
   "source": [
    "#검증용 데이터셋의 예측 정확도\n",
    "pred<-predict(bestmodel,X_test)\n",
    "result<-round(pred)\n",
    "table(y_test,result)\n",
    "mean(y_test==result)"
   ]
  },
  {
   "cell_type": "code",
   "execution_count": null,
   "metadata": {},
   "outputs": [],
   "source": []
  },
  {
   "cell_type": "code",
   "execution_count": null,
   "metadata": {},
   "outputs": [],
   "source": []
  },
  {
   "cell_type": "code",
   "execution_count": null,
   "metadata": {},
   "outputs": [],
   "source": []
  },
  {
   "cell_type": "code",
   "execution_count": null,
   "metadata": {},
   "outputs": [],
   "source": []
  },
  {
   "cell_type": "code",
   "execution_count": null,
   "metadata": {},
   "outputs": [],
   "source": []
  }
 ],
 "metadata": {
  "kernelspec": {
   "display_name": "R",
   "language": "R",
   "name": "ir"
  },
  "language_info": {
   "codemirror_mode": "r",
   "file_extension": ".r",
   "mimetype": "text/x-r-source",
   "name": "R",
   "pygments_lexer": "r",
   "version": "3.6.1"
  }
 },
 "nbformat": 4,
 "nbformat_minor": 2
}
