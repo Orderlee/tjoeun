{
 "cells": [
  {
   "cell_type": "code",
   "execution_count": 10,
   "metadata": {},
   "outputs": [
    {
     "data": {
      "text/html": [
       "<table>\n",
       "<thead><tr><th scope=col>sepal.length..cm.</th><th scope=col>sepal.width..cm.</th><th scope=col>petal.length..cm.</th><th scope=col>petal.width..cm.</th><th scope=col>target</th><th scope=col>Result</th></tr></thead>\n",
       "<tbody>\n",
       "\t<tr><td>5.1   </td><td>3.5   </td><td>1.4   </td><td>0.2   </td><td>setosa</td><td>0     </td></tr>\n",
       "\t<tr><td>4.9   </td><td>3.0   </td><td>1.4   </td><td>0.2   </td><td>setosa</td><td>0     </td></tr>\n",
       "\t<tr><td>4.7   </td><td>3.2   </td><td>1.3   </td><td>0.2   </td><td>setosa</td><td>0     </td></tr>\n",
       "\t<tr><td>4.6   </td><td>3.1   </td><td>1.5   </td><td>0.2   </td><td>setosa</td><td>0     </td></tr>\n",
       "\t<tr><td>5.0   </td><td>3.6   </td><td>1.4   </td><td>0.2   </td><td>setosa</td><td>0     </td></tr>\n",
       "\t<tr><td>5.4   </td><td>3.9   </td><td>1.7   </td><td>0.4   </td><td>setosa</td><td>0     </td></tr>\n",
       "</tbody>\n",
       "</table>\n"
      ],
      "text/latex": [
       "\\begin{tabular}{r|llllll}\n",
       " sepal.length..cm. & sepal.width..cm. & petal.length..cm. & petal.width..cm. & target & Result\\\\\n",
       "\\hline\n",
       "\t 5.1    & 3.5    & 1.4    & 0.2    & setosa & 0     \\\\\n",
       "\t 4.9    & 3.0    & 1.4    & 0.2    & setosa & 0     \\\\\n",
       "\t 4.7    & 3.2    & 1.3    & 0.2    & setosa & 0     \\\\\n",
       "\t 4.6    & 3.1    & 1.5    & 0.2    & setosa & 0     \\\\\n",
       "\t 5.0    & 3.6    & 1.4    & 0.2    & setosa & 0     \\\\\n",
       "\t 5.4    & 3.9    & 1.7    & 0.4    & setosa & 0     \\\\\n",
       "\\end{tabular}\n"
      ],
      "text/markdown": [
       "\n",
       "| sepal.length..cm. | sepal.width..cm. | petal.length..cm. | petal.width..cm. | target | Result |\n",
       "|---|---|---|---|---|---|\n",
       "| 5.1    | 3.5    | 1.4    | 0.2    | setosa | 0      |\n",
       "| 4.9    | 3.0    | 1.4    | 0.2    | setosa | 0      |\n",
       "| 4.7    | 3.2    | 1.3    | 0.2    | setosa | 0      |\n",
       "| 4.6    | 3.1    | 1.5    | 0.2    | setosa | 0      |\n",
       "| 5.0    | 3.6    | 1.4    | 0.2    | setosa | 0      |\n",
       "| 5.4    | 3.9    | 1.7    | 0.4    | setosa | 0      |\n",
       "\n"
      ],
      "text/plain": [
       "  sepal.length..cm. sepal.width..cm. petal.length..cm. petal.width..cm. target\n",
       "1 5.1               3.5              1.4               0.2              setosa\n",
       "2 4.9               3.0              1.4               0.2              setosa\n",
       "3 4.7               3.2              1.3               0.2              setosa\n",
       "4 4.6               3.1              1.5               0.2              setosa\n",
       "5 5.0               3.6              1.4               0.2              setosa\n",
       "6 5.4               3.9              1.7               0.4              setosa\n",
       "  Result\n",
       "1 0     \n",
       "2 0     \n",
       "3 0     \n",
       "4 0     \n",
       "5 0     \n",
       "6 0     "
      ]
     },
     "metadata": {},
     "output_type": "display_data"
    }
   ],
   "source": [
    "df<-read.csv('d:/data/iris/iris2.csv')\n",
    "head(df)"
   ]
  },
  {
   "cell_type": "code",
   "execution_count": 11,
   "metadata": {},
   "outputs": [
    {
     "data": {
      "text/html": [
       "<ol class=list-inline>\n",
       "\t<li>150</li>\n",
       "\t<li>5</li>\n",
       "</ol>\n"
      ],
      "text/latex": [
       "\\begin{enumerate*}\n",
       "\\item 150\n",
       "\\item 5\n",
       "\\end{enumerate*}\n"
      ],
      "text/markdown": [
       "1. 150\n",
       "2. 5\n",
       "\n",
       "\n"
      ],
      "text/plain": [
       "[1] 150   5"
      ]
     },
     "metadata": {},
     "output_type": "display_data"
    },
    {
     "data": {
      "text/html": [
       "<table>\n",
       "<thead><tr><th scope=col>sepal.length..cm.</th><th scope=col>sepal.width..cm.</th><th scope=col>petal.length..cm.</th><th scope=col>petal.width..cm.</th><th scope=col>Result</th></tr></thead>\n",
       "<tbody>\n",
       "\t<tr><td>5.1</td><td>3.5</td><td>1.4</td><td>0.2</td><td>0  </td></tr>\n",
       "\t<tr><td>4.9</td><td>3.0</td><td>1.4</td><td>0.2</td><td>0  </td></tr>\n",
       "\t<tr><td>4.7</td><td>3.2</td><td>1.3</td><td>0.2</td><td>0  </td></tr>\n",
       "\t<tr><td>4.6</td><td>3.1</td><td>1.5</td><td>0.2</td><td>0  </td></tr>\n",
       "\t<tr><td>5.0</td><td>3.6</td><td>1.4</td><td>0.2</td><td>0  </td></tr>\n",
       "\t<tr><td>5.4</td><td>3.9</td><td>1.7</td><td>0.4</td><td>0  </td></tr>\n",
       "</tbody>\n",
       "</table>\n"
      ],
      "text/latex": [
       "\\begin{tabular}{r|lllll}\n",
       " sepal.length..cm. & sepal.width..cm. & petal.length..cm. & petal.width..cm. & Result\\\\\n",
       "\\hline\n",
       "\t 5.1 & 3.5 & 1.4 & 0.2 & 0  \\\\\n",
       "\t 4.9 & 3.0 & 1.4 & 0.2 & 0  \\\\\n",
       "\t 4.7 & 3.2 & 1.3 & 0.2 & 0  \\\\\n",
       "\t 4.6 & 3.1 & 1.5 & 0.2 & 0  \\\\\n",
       "\t 5.0 & 3.6 & 1.4 & 0.2 & 0  \\\\\n",
       "\t 5.4 & 3.9 & 1.7 & 0.4 & 0  \\\\\n",
       "\\end{tabular}\n"
      ],
      "text/markdown": [
       "\n",
       "| sepal.length..cm. | sepal.width..cm. | petal.length..cm. | petal.width..cm. | Result |\n",
       "|---|---|---|---|---|\n",
       "| 5.1 | 3.5 | 1.4 | 0.2 | 0   |\n",
       "| 4.9 | 3.0 | 1.4 | 0.2 | 0   |\n",
       "| 4.7 | 3.2 | 1.3 | 0.2 | 0   |\n",
       "| 4.6 | 3.1 | 1.5 | 0.2 | 0   |\n",
       "| 5.0 | 3.6 | 1.4 | 0.2 | 0   |\n",
       "| 5.4 | 3.9 | 1.7 | 0.4 | 0   |\n",
       "\n"
      ],
      "text/plain": [
       "  sepal.length..cm. sepal.width..cm. petal.length..cm. petal.width..cm. Result\n",
       "1 5.1               3.5              1.4               0.2              0     \n",
       "2 4.9               3.0              1.4               0.2              0     \n",
       "3 4.7               3.2              1.3               0.2              0     \n",
       "4 4.6               3.1              1.5               0.2              0     \n",
       "5 5.0               3.6              1.4               0.2              0     \n",
       "6 5.4               3.9              1.7               0.4              0     "
      ]
     },
     "metadata": {},
     "output_type": "display_data"
    },
    {
     "name": "stdout",
     "output_type": "stream",
     "text": [
      "'data.frame':\t150 obs. of  5 variables:\n",
      " $ sepal.length..cm.: num  5.1 4.9 4.7 4.6 5 5.4 4.6 5 4.4 4.9 ...\n",
      " $ sepal.width..cm. : num  3.5 3 3.2 3.1 3.6 3.9 3.4 3.4 2.9 3.1 ...\n",
      " $ petal.length..cm.: num  1.4 1.4 1.3 1.5 1.4 1.7 1.4 1.5 1.4 1.5 ...\n",
      " $ petal.width..cm. : num  0.2 0.2 0.2 0.2 0.2 0.4 0.3 0.2 0.2 0.1 ...\n",
      " $ Result           : int  0 0 0 0 0 0 0 0 0 0 ...\n",
      "'data.frame':\t150 obs. of  5 variables:\n",
      " $ sepal.length..cm.: num  5.1 4.9 4.7 4.6 5 5.4 4.6 5 4.4 4.9 ...\n",
      " $ sepal.width..cm. : num  3.5 3 3.2 3.1 3.6 3.9 3.4 3.4 2.9 3.1 ...\n",
      " $ petal.length..cm.: num  1.4 1.4 1.3 1.5 1.4 1.7 1.4 1.5 1.4 1.5 ...\n",
      " $ petal.width..cm. : num  0.2 0.2 0.2 0.2 0.2 0.4 0.3 0.2 0.2 0.1 ...\n",
      " $ Result           : Factor w/ 3 levels \"0\",\"1\",\"2\": 1 1 1 1 1 1 1 1 1 1 ...\n"
     ]
    }
   ],
   "source": [
    "library(dplyr)\n",
    "df<-df %>% select(-target)\n",
    "dim(df)\n",
    "head(df)\n",
    "\n",
    "str(df)\n",
    "#종속변수의 자료형을 int => factor로 변환\n",
    "df$Result <- as.factor(df$Result)\n",
    "str(df) #3가지 요소면 factor 처리"
   ]
  },
  {
   "cell_type": "code",
   "execution_count": 12,
   "metadata": {},
   "outputs": [
    {
     "name": "stderr",
     "output_type": "stream",
     "text": [
      "Loading required package: lattice\n",
      "Warning message:\n",
      "\"package 'lattice' was built under R version 3.6.2\"Loading required package: ggplot2\n",
      "Warning message:\n",
      "\"package 'ggplot2' was built under R version 3.6.2\""
     ]
    }
   ],
   "source": [
    "library(caret)\n",
    "idx_train<-createDataPartition(y=df$Result,p=0.8,list=F)\n",
    "train<-df[idx_train,]\n",
    "X_train<-train[,-5]\n",
    "y_train<-train[,5]\n",
    "test<-df[-idx_train,]\n",
    "X_test<-test[,-5]\n",
    "y_test<-test[,5]"
   ]
  },
  {
   "cell_type": "code",
   "execution_count": 23,
   "metadata": {},
   "outputs": [
    {
     "data": {
      "text/plain": [
       "\n",
       "Parameter tuning of 'svm':\n",
       "\n",
       "- sampling method: 10-fold cross validation \n",
       "\n",
       "- best parameters:\n",
       " cost gamma\n",
       "    1   0.1\n",
       "\n",
       "- best performance: 0.04166667 \n",
       "\n",
       "- Detailed performance results:\n",
       "    cost gamma      error dispersion\n",
       "1  1e-03 1e-04 0.60000000 0.23174060\n",
       "2  1e-02 1e-04 0.60000000 0.23174060\n",
       "3  1e-01 1e-04 0.60000000 0.23174060\n",
       "4  1e+00 1e-04 0.60000000 0.23174060\n",
       "5  1e+01 1e-04 0.43333333 0.17916128\n",
       "6  1e-03 1e-03 0.60000000 0.23174060\n",
       "7  1e-02 1e-03 0.60000000 0.23174060\n",
       "8  1e-01 1e-03 0.60000000 0.23174060\n",
       "9  1e+00 1e-03 0.43333333 0.17916128\n",
       "10 1e+01 1e-03 0.11666667 0.08050765\n",
       "11 1e-03 1e-02 0.60000000 0.23174060\n",
       "12 1e-02 1e-02 0.60000000 0.23174060\n",
       "13 1e-01 1e-02 0.46666667 0.17213259\n",
       "14 1e+00 1e-02 0.11666667 0.08050765\n",
       "15 1e+01 1e-02 0.05000000 0.07027284\n",
       "16 1e-03 1e-01 0.60000000 0.23174060\n",
       "17 1e-02 1e-01 0.60000000 0.23174060\n",
       "18 1e-01 1e-01 0.17500000 0.09170874\n",
       "19 1e+00 1e-01 0.04166667 0.04392052\n",
       "20 1e+01 1e-01 0.06666667 0.08606630\n"
      ]
     },
     "metadata": {},
     "output_type": "display_data"
    }
   ],
   "source": [
    "library(e1071)\n",
    "set.seed(123)\n",
    "# svm 모형의 최적의 파라미터를 찾는 과정\n",
    "tune.out<-tune(svm,Result ~. , data=train,\n",
    "              range=list(cost=c(0.001,0.01,0.1,1,10),\n",
    "                        gamma=c(0.0001,0.001,0.01,0.1)))\n",
    "summary(tune.out)\n",
    "#cost 1 gamma 0.01"
   ]
  },
  {
   "cell_type": "code",
   "execution_count": 24,
   "metadata": {},
   "outputs": [
    {
     "data": {
      "text/plain": [
       "\n",
       "Call:\n",
       "best.tune(method = svm, train.x = Result ~ ., data = train, ranges = list(cost = c(0.001, \n",
       "    0.01, 0.1, 1, 10), gamma = c(1e-04, 0.001, 0.01, 0.1)))\n",
       "\n",
       "\n",
       "Parameters:\n",
       "   SVM-Type:  C-classification \n",
       " SVM-Kernel:  radial \n",
       "       cost:  1 \n",
       "\n",
       "Number of Support Vectors:  52\n",
       "\n",
       " ( 5 25 22 )\n",
       "\n",
       "\n",
       "Number of Classes:  3 \n",
       "\n",
       "Levels: \n",
       " 0 1 2\n",
       "\n",
       "\n"
      ]
     },
     "metadata": {},
     "output_type": "display_data"
    }
   ],
   "source": [
    "#실험을 통해 얻은 최적의 svm 모형\n",
    "bestmodel<-tune.out$best.model\n",
    "summary(bestmodel)"
   ]
  },
  {
   "cell_type": "code",
   "execution_count": 25,
   "metadata": {},
   "outputs": [
    {
     "data": {
      "text/plain": [
       "       pred\n",
       "y_train  0  1  2\n",
       "      0 40  0  0\n",
       "      1  0 39  1\n",
       "      2  0  1 39"
      ]
     },
     "metadata": {},
     "output_type": "display_data"
    },
    {
     "data": {
      "text/html": [
       "0.983333333333333"
      ],
      "text/latex": [
       "0.983333333333333"
      ],
      "text/markdown": [
       "0.983333333333333"
      ],
      "text/plain": [
       "[1] 0.9833333"
      ]
     },
     "metadata": {},
     "output_type": "display_data"
    }
   ],
   "source": [
    "#학습용 데이터셋의 예측 정확도\n",
    "pred<-predict(bestmodel,X_train)\n",
    "table(y_train,pred)\n",
    "mean(y_train==pred)"
   ]
  },
  {
   "cell_type": "code",
   "execution_count": 26,
   "metadata": {},
   "outputs": [
    {
     "data": {
      "text/plain": [
       "      pred\n",
       "y_test  0  1  2\n",
       "     0 10  0  0\n",
       "     1  0 10  0\n",
       "     2  0  0 10"
      ]
     },
     "metadata": {},
     "output_type": "display_data"
    },
    {
     "data": {
      "text/html": [
       "1"
      ],
      "text/latex": [
       "1"
      ],
      "text/markdown": [
       "1"
      ],
      "text/plain": [
       "[1] 1"
      ]
     },
     "metadata": {},
     "output_type": "display_data"
    }
   ],
   "source": [
    "#검증용 데이터셋의 예측 정확도\n",
    "pred<-predict(bestmodel,X_test)\n",
    "table(y_test,pred)\n",
    "mean(y_test==pred)"
   ]
  },
  {
   "cell_type": "code",
   "execution_count": null,
   "metadata": {},
   "outputs": [],
   "source": []
  },
  {
   "cell_type": "code",
   "execution_count": null,
   "metadata": {},
   "outputs": [],
   "source": []
  },
  {
   "cell_type": "code",
   "execution_count": null,
   "metadata": {},
   "outputs": [],
   "source": []
  },
  {
   "cell_type": "code",
   "execution_count": null,
   "metadata": {},
   "outputs": [],
   "source": []
  },
  {
   "cell_type": "code",
   "execution_count": null,
   "metadata": {},
   "outputs": [],
   "source": []
  },
  {
   "cell_type": "code",
   "execution_count": null,
   "metadata": {},
   "outputs": [],
   "source": []
  },
  {
   "cell_type": "code",
   "execution_count": null,
   "metadata": {},
   "outputs": [],
   "source": []
  }
 ],
 "metadata": {
  "kernelspec": {
   "display_name": "R",
   "language": "R",
   "name": "ir"
  },
  "language_info": {
   "codemirror_mode": "r",
   "file_extension": ".r",
   "mimetype": "text/x-r-source",
   "name": "R",
   "pygments_lexer": "r",
   "version": "3.6.1"
  }
 },
 "nbformat": 4,
 "nbformat_minor": 2
}
