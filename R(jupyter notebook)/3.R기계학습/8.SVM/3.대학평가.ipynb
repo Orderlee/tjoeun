{
 "cells": [
  {
   "cell_type": "code",
   "execution_count": 1,
   "metadata": {},
   "outputs": [
    {
     "data": {
      "text/html": [
       "<table>\n",
       "<thead><tr><th scope=col>quality_of_education</th><th scope=col>alumni_employment</th><th scope=col>quality_of_faculty</th><th scope=col>publications</th><th scope=col>influence</th><th scope=col>citations</th><th scope=col>patents</th><th scope=col>score</th><th scope=col>class</th></tr></thead>\n",
       "<tbody>\n",
       "\t<tr><td> 7    </td><td> 9    </td><td>1     </td><td> 1    </td><td> 1    </td><td> 1    </td><td>  5   </td><td>100.00</td><td>1     </td></tr>\n",
       "\t<tr><td> 9    </td><td>17    </td><td>3     </td><td>12    </td><td> 4    </td><td> 4    </td><td>  1   </td><td> 91.67</td><td>1     </td></tr>\n",
       "\t<tr><td>17    </td><td>11    </td><td>5     </td><td> 4    </td><td> 2    </td><td> 2    </td><td> 15   </td><td> 89.50</td><td>1     </td></tr>\n",
       "\t<tr><td>10    </td><td>24    </td><td>4     </td><td>16    </td><td>16    </td><td>11    </td><td> 50   </td><td> 86.17</td><td>1     </td></tr>\n",
       "\t<tr><td> 2    </td><td>29    </td><td>7     </td><td>37    </td><td>22    </td><td>22    </td><td> 18   </td><td> 85.21</td><td>1     </td></tr>\n",
       "\t<tr><td> 8    </td><td>14    </td><td>2     </td><td>53    </td><td>33    </td><td>26    </td><td>101   </td><td> 82.50</td><td>1     </td></tr>\n",
       "</tbody>\n",
       "</table>\n"
      ],
      "text/latex": [
       "\\begin{tabular}{r|lllllllll}\n",
       " quality\\_of\\_education & alumni\\_employment & quality\\_of\\_faculty & publications & influence & citations & patents & score & class\\\\\n",
       "\\hline\n",
       "\t  7     &  9     & 1      &  1     &  1     &  1     &   5    & 100.00 & 1     \\\\\n",
       "\t  9     & 17     & 3      & 12     &  4     &  4     &   1    &  91.67 & 1     \\\\\n",
       "\t 17     & 11     & 5      &  4     &  2     &  2     &  15    &  89.50 & 1     \\\\\n",
       "\t 10     & 24     & 4      & 16     & 16     & 11     &  50    &  86.17 & 1     \\\\\n",
       "\t  2     & 29     & 7      & 37     & 22     & 22     &  18    &  85.21 & 1     \\\\\n",
       "\t  8     & 14     & 2      & 53     & 33     & 26     & 101    &  82.50 & 1     \\\\\n",
       "\\end{tabular}\n"
      ],
      "text/markdown": [
       "\n",
       "| quality_of_education | alumni_employment | quality_of_faculty | publications | influence | citations | patents | score | class |\n",
       "|---|---|---|---|---|---|---|---|---|\n",
       "|  7     |  9     | 1      |  1     |  1     |  1     |   5    | 100.00 | 1      |\n",
       "|  9     | 17     | 3      | 12     |  4     |  4     |   1    |  91.67 | 1      |\n",
       "| 17     | 11     | 5      |  4     |  2     |  2     |  15    |  89.50 | 1      |\n",
       "| 10     | 24     | 4      | 16     | 16     | 11     |  50    |  86.17 | 1      |\n",
       "|  2     | 29     | 7      | 37     | 22     | 22     |  18    |  85.21 | 1      |\n",
       "|  8     | 14     | 2      | 53     | 33     | 26     | 101    |  82.50 | 1      |\n",
       "\n"
      ],
      "text/plain": [
       "  quality_of_education alumni_employment quality_of_faculty publications\n",
       "1  7                    9                1                   1          \n",
       "2  9                   17                3                  12          \n",
       "3 17                   11                5                   4          \n",
       "4 10                   24                4                  16          \n",
       "5  2                   29                7                  37          \n",
       "6  8                   14                2                  53          \n",
       "  influence citations patents score  class\n",
       "1  1         1          5     100.00 1    \n",
       "2  4         4          1      91.67 1    \n",
       "3  2         2         15      89.50 1    \n",
       "4 16        11         50      86.17 1    \n",
       "5 22        22         18      85.21 1    \n",
       "6 33        26        101      82.50 1    "
      ]
     },
     "metadata": {},
     "output_type": "display_data"
    }
   ],
   "source": [
    "df<-read.csv('d:/data/university/data.csv')\n",
    "head(df)"
   ]
  },
  {
   "cell_type": "code",
   "execution_count": 2,
   "metadata": {},
   "outputs": [
    {
     "name": "stderr",
     "output_type": "stream",
     "text": [
      "Warning message:\n",
      "\"package 'dplyr' was built under R version 3.6.2\"\n",
      "Attaching package: 'dplyr'\n",
      "\n",
      "The following objects are masked from 'package:stats':\n",
      "\n",
      "    filter, lag\n",
      "\n",
      "The following objects are masked from 'package:base':\n",
      "\n",
      "    intersect, setdiff, setequal, union\n",
      "\n"
     ]
    },
    {
     "data": {
      "text/html": [
       "<ol class=list-inline>\n",
       "\t<li>2200</li>\n",
       "\t<li>8</li>\n",
       "</ol>\n"
      ],
      "text/latex": [
       "\\begin{enumerate*}\n",
       "\\item 2200\n",
       "\\item 8\n",
       "\\end{enumerate*}\n"
      ],
      "text/markdown": [
       "1. 2200\n",
       "2. 8\n",
       "\n",
       "\n"
      ],
      "text/plain": [
       "[1] 2200    8"
      ]
     },
     "metadata": {},
     "output_type": "display_data"
    },
    {
     "data": {
      "text/html": [
       "<table>\n",
       "<thead><tr><th scope=col>quality_of_education</th><th scope=col>alumni_employment</th><th scope=col>quality_of_faculty</th><th scope=col>publications</th><th scope=col>influence</th><th scope=col>citations</th><th scope=col>patents</th><th scope=col>class</th></tr></thead>\n",
       "<tbody>\n",
       "\t<tr><td> 7 </td><td> 9 </td><td>1  </td><td> 1 </td><td> 1 </td><td> 1 </td><td>  5</td><td>1  </td></tr>\n",
       "\t<tr><td> 9 </td><td>17 </td><td>3  </td><td>12 </td><td> 4 </td><td> 4 </td><td>  1</td><td>1  </td></tr>\n",
       "\t<tr><td>17 </td><td>11 </td><td>5  </td><td> 4 </td><td> 2 </td><td> 2 </td><td> 15</td><td>1  </td></tr>\n",
       "\t<tr><td>10 </td><td>24 </td><td>4  </td><td>16 </td><td>16 </td><td>11 </td><td> 50</td><td>1  </td></tr>\n",
       "\t<tr><td> 2 </td><td>29 </td><td>7  </td><td>37 </td><td>22 </td><td>22 </td><td> 18</td><td>1  </td></tr>\n",
       "\t<tr><td> 8 </td><td>14 </td><td>2  </td><td>53 </td><td>33 </td><td>26 </td><td>101</td><td>1  </td></tr>\n",
       "</tbody>\n",
       "</table>\n"
      ],
      "text/latex": [
       "\\begin{tabular}{r|llllllll}\n",
       " quality\\_of\\_education & alumni\\_employment & quality\\_of\\_faculty & publications & influence & citations & patents & class\\\\\n",
       "\\hline\n",
       "\t  7  &  9  & 1   &  1  &  1  &  1  &   5 & 1  \\\\\n",
       "\t  9  & 17  & 3   & 12  &  4  &  4  &   1 & 1  \\\\\n",
       "\t 17  & 11  & 5   &  4  &  2  &  2  &  15 & 1  \\\\\n",
       "\t 10  & 24  & 4   & 16  & 16  & 11  &  50 & 1  \\\\\n",
       "\t  2  & 29  & 7   & 37  & 22  & 22  &  18 & 1  \\\\\n",
       "\t  8  & 14  & 2   & 53  & 33  & 26  & 101 & 1  \\\\\n",
       "\\end{tabular}\n"
      ],
      "text/markdown": [
       "\n",
       "| quality_of_education | alumni_employment | quality_of_faculty | publications | influence | citations | patents | class |\n",
       "|---|---|---|---|---|---|---|---|\n",
       "|  7  |  9  | 1   |  1  |  1  |  1  |   5 | 1   |\n",
       "|  9  | 17  | 3   | 12  |  4  |  4  |   1 | 1   |\n",
       "| 17  | 11  | 5   |  4  |  2  |  2  |  15 | 1   |\n",
       "| 10  | 24  | 4   | 16  | 16  | 11  |  50 | 1   |\n",
       "|  2  | 29  | 7   | 37  | 22  | 22  |  18 | 1   |\n",
       "|  8  | 14  | 2   | 53  | 33  | 26  | 101 | 1   |\n",
       "\n"
      ],
      "text/plain": [
       "  quality_of_education alumni_employment quality_of_faculty publications\n",
       "1  7                    9                1                   1          \n",
       "2  9                   17                3                  12          \n",
       "3 17                   11                5                   4          \n",
       "4 10                   24                4                  16          \n",
       "5  2                   29                7                  37          \n",
       "6  8                   14                2                  53          \n",
       "  influence citations patents class\n",
       "1  1         1          5     1    \n",
       "2  4         4          1     1    \n",
       "3  2         2         15     1    \n",
       "4 16        11         50     1    \n",
       "5 22        22         18     1    \n",
       "6 33        26        101     1    "
      ]
     },
     "metadata": {},
     "output_type": "display_data"
    }
   ],
   "source": [
    "library(dplyr)\n",
    "df<-df %>% select(-score)\n",
    "dim(df)\n",
    "head(df)"
   ]
  },
  {
   "cell_type": "code",
   "execution_count": 3,
   "metadata": {},
   "outputs": [
    {
     "data": {
      "text/plain": [
       "\n",
       "   0    1 \n",
       "1686  514 "
      ]
     },
     "metadata": {},
     "output_type": "display_data"
    },
    {
     "data": {
      "image/png": "[encoded data removed]",
      "text/plain": [
       "plot without title"
      ]
     },
     "metadata": {},
     "output_type": "display_data"
    }
   ],
   "source": [
    "(tbl<-table(df$class))\n",
    "barplot(tbl,beside=T,legend=T, col=rainbow(2))"
   ]
  },
  {
   "cell_type": "code",
   "execution_count": 4,
   "metadata": {},
   "outputs": [
    {
     "name": "stderr",
     "output_type": "stream",
     "text": [
      "Warning message:\n",
      "\"package 'ROSE' was built under R version 3.6.2\"Loaded ROSE 0.0-3\n",
      "\n"
     ]
    },
    {
     "data": {
      "text/plain": [
       "\n",
       "  0   1 \n",
       "514 514 "
      ]
     },
     "metadata": {},
     "output_type": "display_data"
    }
   ],
   "source": [
    "library(ROSE)\n",
    "df_samp<-ovun.sample(class ~., data=df, seed=1, method='under',\n",
    "                     N=514*2)$data\n",
    "(tbl<-table(df_samp$class))"
   ]
  },
  {
   "cell_type": "code",
   "execution_count": null,
   "metadata": {},
   "outputs": [],
   "source": [
    "library(ROSE)\n",
    "df_samp<-ovun.sample(class ~., data=df, seed=1, method='over',\n",
    "                     N=1686*2)$data\n",
    "(tbl<-table(df_samp$class))"
   ]
  },
  {
   "cell_type": "code",
   "execution_count": 5,
   "metadata": {},
   "outputs": [
    {
     "name": "stderr",
     "output_type": "stream",
     "text": [
      "Loading required package: lattice\n",
      "Warning message:\n",
      "\"package 'lattice' was built under R version 3.6.2\"Loading required package: ggplot2\n",
      "Warning message:\n",
      "\"package 'ggplot2' was built under R version 3.6.2\""
     ]
    }
   ],
   "source": [
    "library(caret)\n",
    "set.seed(123)\n",
    "idx_train<-createDataPartition(y=df_samp$class, p=0.8, list=F)\n",
    "train <- df_samp[idx_train,]\n",
    "X_train <- train[,-8]\n",
    "y_train <- train[,8]\n",
    "test<-df_samp[-idx_train,]\n",
    "X_test<-test[,-8]\n",
    "y_test<-test[,8]"
   ]
  },
  {
   "cell_type": "code",
   "execution_count": 6,
   "metadata": {},
   "outputs": [
    {
     "data": {
      "text/plain": [
       "\n",
       "Call:\n",
       "glm(formula = class ~ ., family = binomial, data = train)\n",
       "\n",
       "Deviance Residuals: \n",
       "    Min       1Q   Median       3Q      Max  \n",
       "-2.7718  -0.1684   0.0465   0.3294   3.5053  \n",
       "\n",
       "Coefficients:\n",
       "                       Estimate Std. Error z value Pr(>|z|)    \n",
       "(Intercept)           5.0110200  0.4461676  11.231  < 2e-16 ***\n",
       "quality_of_education -0.0010198  0.0014579  -0.699 0.484269    \n",
       "alumni_employment    -0.0030271  0.0007786  -3.888 0.000101 ***\n",
       "quality_of_faculty   -0.0048705  0.0028542  -1.706 0.087929 .  \n",
       "publications         -0.0040763  0.0014359  -2.839 0.004526 ** \n",
       "influence            -0.0028432  0.0014376  -1.978 0.047951 *  \n",
       "citations            -0.0036300  0.0014259  -2.546 0.010902 *  \n",
       "patents              -0.0007749  0.0006340  -1.222 0.221651    \n",
       "---\n",
       "Signif. codes:  0 '***' 0.001 '**' 0.01 '*' 0.05 '.' 0.1 ' ' 1\n",
       "\n",
       "(Dispersion parameter for binomial family taken to be 1)\n",
       "\n",
       "    Null deviance: 1142.31  on 823  degrees of freedom\n",
       "Residual deviance:  373.06  on 816  degrees of freedom\n",
       "AIC: 389.06\n",
       "\n",
       "Number of Fisher Scoring iterations: 7\n"
      ]
     },
     "metadata": {},
     "output_type": "display_data"
    }
   ],
   "source": [
    "#로지스틱 회귀분석 모형\n",
    "model<-glm(class ~ . , data=train, family=binomial)\n",
    "summary(model)"
   ]
  },
  {
   "cell_type": "code",
   "execution_count": 7,
   "metadata": {},
   "outputs": [
    {
     "name": "stdout",
     "output_type": "stream",
     "text": [
      "Start:  AIC=389.06\n",
      "class ~ quality_of_education + alumni_employment + quality_of_faculty + \n",
      "    publications + influence + citations + patents\n",
      "\n",
      "                       Df Deviance    AIC\n",
      "- quality_of_education  1   373.55 387.55\n",
      "- patents               1   374.54 388.54\n",
      "<none>                      373.06 389.06\n",
      "- quality_of_faculty    1   376.02 390.02\n",
      "- influence             1   377.08 391.08\n",
      "- citations             1   380.24 394.24\n",
      "- publications          1   381.44 395.44\n",
      "- alumni_employment     1   388.41 402.41\n",
      "\n",
      "Step:  AIC=387.55\n",
      "class ~ alumni_employment + quality_of_faculty + publications + \n",
      "    influence + citations + patents\n",
      "\n",
      "                     Df Deviance    AIC\n",
      "- patents             1   374.95 386.95\n",
      "<none>                    373.55 387.55\n",
      "- influence           1   378.38 390.38\n",
      "- quality_of_faculty  1   379.84 391.84\n",
      "- citations           1   380.63 392.63\n",
      "- publications        1   381.72 393.72\n",
      "- alumni_employment   1   391.07 403.07\n",
      "\n",
      "Step:  AIC=386.95\n",
      "class ~ alumni_employment + quality_of_faculty + publications + \n",
      "    influence + citations\n",
      "\n",
      "                     Df Deviance    AIC\n",
      "<none>                    374.95 386.95\n",
      "- influence           1   380.00 390.00\n",
      "- quality_of_faculty  1   381.48 391.48\n",
      "- citations           1   382.65 392.65\n",
      "- publications        1   384.83 394.83\n",
      "- alumni_employment   1   395.62 405.62\n"
     ]
    }
   ],
   "source": [
    "#후진제거법\n",
    "reduced<-step(model,direction='backward')"
   ]
  },
  {
   "cell_type": "code",
   "execution_count": 8,
   "metadata": {},
   "outputs": [
    {
     "name": "stderr",
     "output_type": "stream",
     "text": [
      "Warning message:\n",
      "\"package 'e1071' was built under R version 3.6.2\""
     ]
    },
    {
     "data": {
      "text/plain": [
       "\n",
       "Parameter tuning of 'svm':\n",
       "\n",
       "- sampling method: 10-fold cross validation \n",
       "\n",
       "- best parameters:\n",
       " cost gamma\n",
       "   10   0.1\n",
       "\n",
       "- best performance: 0.05518016 \n",
       "\n",
       "- Detailed performance results:\n",
       "    cost gamma      error dispersion\n",
       "1  1e-03 1e-04 0.49665128 0.03182491\n",
       "2  1e-02 1e-04 0.49155261 0.03159146\n",
       "3  1e-01 1e-04 0.44235159 0.02940645\n",
       "4  1e+00 1e-04 0.12891695 0.01496512\n",
       "5  1e+01 1e-04 0.08407332 0.02257087\n",
       "6  1e-03 1e-03 0.49163042 0.03159330\n",
       "7  1e-02 1e-03 0.44307873 0.02942094\n",
       "8  1e-01 1e-03 0.13110008 0.01509795\n",
       "9  1e+00 1e-03 0.08366325 0.02260087\n",
       "10 1e+01 1e-03 0.08509260 0.02469118\n",
       "11 1e-03 1e-02 0.44970741 0.02957395\n",
       "12 1e-02 1e-02 0.15473095 0.01635502\n",
       "13 1e-01 1e-02 0.08004751 0.02272030\n",
       "14 1e+00 1e-02 0.07064973 0.02416098\n",
       "15 1e+01 1e-02 0.06458532 0.02500581\n",
       "16 1e-03 1e-01 0.34219032 0.02294132\n",
       "17 1e-02 1e-01 0.07236200 0.02374968\n",
       "18 1e-01 1e-01 0.06420042 0.02757458\n",
       "19 1e+00 1e-01 0.05926428 0.02777429\n",
       "20 1e+01 1e-01 0.05518016 0.02694054\n"
      ]
     },
     "metadata": {},
     "output_type": "display_data"
    }
   ],
   "source": [
    "library(e1071)\n",
    "set.seed(123)\n",
    "tune.out<-tune(svm,class ~alumni_employment + quality_of_faculty + publications + \n",
    "    influence + citations, data=train,\n",
    "              range=list(cost=c(0.001,0.01,0.1,1,10),\n",
    "                        gamma=c(0.0001,0.001,0.01,0.1)))\n",
    "summary(tune.out)\n",
    "#최적의 파라미터 : cost 10 gamma 0.1"
   ]
  },
  {
   "cell_type": "code",
   "execution_count": 9,
   "metadata": {},
   "outputs": [
    {
     "data": {
      "text/plain": [
       "\n",
       "Call:\n",
       "best.tune(method = svm, train.x = class ~ alumni_employment + quality_of_faculty + \n",
       "    publications + influence + citations, data = train, ranges = list(cost = c(0.001, \n",
       "    0.01, 0.1, 1, 10), gamma = c(1e-04, 0.001, 0.01, 0.1)))\n",
       "\n",
       "\n",
       "Parameters:\n",
       "   SVM-Type:  eps-regression \n",
       " SVM-Kernel:  radial \n",
       "       cost:  10 \n",
       "      gamma:  0.1 \n",
       "    epsilon:  0.1 \n",
       "\n",
       "\n",
       "Number of Support Vectors:  304\n",
       "\n",
       "\n",
       "\n",
       "\n"
      ]
     },
     "metadata": {},
     "output_type": "display_data"
    }
   ],
   "source": [
    "bestmodel<-tune.out$best.model\n",
    "summary(bestmodel)"
   ]
  },
  {
   "cell_type": "code",
   "execution_count": 10,
   "metadata": {},
   "outputs": [
    {
     "data": {
      "text/plain": [
       "       result\n",
       "y_train   0   1\n",
       "      0 371  41\n",
       "      1  12 400"
      ]
     },
     "metadata": {},
     "output_type": "display_data"
    },
    {
     "data": {
      "text/html": [
       "0.935679611650485"
      ],
      "text/latex": [
       "0.935679611650485"
      ],
      "text/markdown": [
       "0.935679611650485"
      ],
      "text/plain": [
       "[1] 0.9356796"
      ]
     },
     "metadata": {},
     "output_type": "display_data"
    }
   ],
   "source": [
    "pred<-predict(bestmodel,X_train)\n",
    "result<-round(pred)\n",
    "table(y_train,result)\n",
    "mean(y_train==result)"
   ]
  },
  {
   "cell_type": "code",
   "execution_count": 11,
   "metadata": {},
   "outputs": [
    {
     "data": {
      "text/plain": [
       "      result\n",
       "y_test   0   1\n",
       "     0  91  11\n",
       "     1   2 100"
      ]
     },
     "metadata": {},
     "output_type": "display_data"
    },
    {
     "data": {
      "text/html": [
       "0.936274509803922"
      ],
      "text/latex": [
       "0.936274509803922"
      ],
      "text/markdown": [
       "0.936274509803922"
      ],
      "text/plain": [
       "[1] 0.9362745"
      ]
     },
     "metadata": {},
     "output_type": "display_data"
    }
   ],
   "source": [
    "pred<-predict(bestmodel,X_test)\n",
    "result<-round(pred)\n",
    "table(y_test,result)\n",
    "mean(y_test==result)"
   ]
  },
  {
   "cell_type": "code",
   "execution_count": 14,
   "metadata": {},
   "outputs": [
    {
     "data": {
      "text/plain": [
       "\n",
       "\t Conditional inference tree with 12 terminal nodes\n",
       "\n",
       "Response:  class \n",
       "Inputs:  quality_of_education, alumni_employment, quality_of_faculty, publications, influence, citations, patents \n",
       "Number of observations:  824 \n",
       "\n",
       "1) citations <= 220; criterion = 1, statistic = 495.261\n",
       "  2) publications <= 195; criterion = 1, statistic = 67.567\n",
       "    3) publications <= 100; criterion = 0.993, statistic = 10.696\n",
       "      4)*  weights = 259 \n",
       "    3) publications > 100\n",
       "      5)*  weights = 108 \n",
       "  2) publications > 195\n",
       "    6) citations <= 115; criterion = 0.99, statistic = 10.136\n",
       "      7)*  weights = 13 \n",
       "    6) citations > 115\n",
       "      8) patents <= 128; criterion = 0.963, statistic = 7.748\n",
       "        9)*  weights = 8 \n",
       "      8) patents > 128\n",
       "        10) alumni_employment <= 124; criterion = 0.981, statistic = 8.949\n",
       "          11)*  weights = 7 \n",
       "        10) alumni_employment > 124\n",
       "          12)*  weights = 21 \n",
       "1) citations > 220\n",
       "  13) quality_of_education <= 98; criterion = 1, statistic = 93.4\n",
       "    14) influence <= 314; criterion = 0.998, statistic = 13.562\n",
       "      15)*  weights = 16 \n",
       "    14) influence > 314\n",
       "      16)*  weights = 8 \n",
       "  13) quality_of_education > 98\n",
       "    17) alumni_employment <= 49; criterion = 1, statistic = 113.929\n",
       "      18)*  weights = 16 \n",
       "    17) alumni_employment > 49\n",
       "      19) patents <= 61; criterion = 1, statistic = 42.566\n",
       "        20)*  weights = 9 \n",
       "      19) patents > 61\n",
       "        21) publications <= 184; criterion = 0.99, statistic = 10.083\n",
       "          22)*  weights = 7 \n",
       "        21) publications > 184\n",
       "          23)*  weights = 352 "
      ]
     },
     "metadata": {},
     "output_type": "display_data"
    }
   ],
   "source": [
    "library(party)\n",
    "set.seed(123)\n",
    "model<-ctree(class ~., data=train) #의사결정나무 모형\n",
    "model"
   ]
  },
  {
   "cell_type": "code",
   "execution_count": 15,
   "metadata": {},
   "outputs": [
    {
     "data": {
      "image/png": "[encoded data removed]",
      "text/plain": [
       "plot without title"
      ]
     },
     "metadata": {},
     "output_type": "display_data"
    }
   ],
   "source": [
    "plot(model,type='simple')"
   ]
  },
  {
   "cell_type": "code",
   "execution_count": null,
   "metadata": {},
   "outputs": [],
   "source": []
  }
 ],
 "metadata": {
  "kernelspec": {
   "display_name": "R",
   "language": "R",
   "name": "ir"
  },
  "language_info": {
   "codemirror_mode": "r",
   "file_extension": ".r",
   "mimetype": "text/x-r-source",
   "name": "R",
   "pygments_lexer": "r",
   "version": "3.6.1"
  }
 },
 "nbformat": 4,
 "nbformat_minor": 2
}
