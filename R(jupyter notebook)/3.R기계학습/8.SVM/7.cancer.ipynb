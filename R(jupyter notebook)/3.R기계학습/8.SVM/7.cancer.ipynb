{
 "cells": [
  {
   "cell_type": "code",
   "execution_count": 1,
   "metadata": {},
   "outputs": [
    {
     "data": {
      "text/html": [
       "<table>\n",
       "<thead><tr><th scope=col>id</th><th scope=col>diagnosis</th><th scope=col>class</th><th scope=col>radius_mean</th><th scope=col>texture_mean</th><th scope=col>perimeter_mean</th><th scope=col>area_mean</th><th scope=col>smoothness_mean</th><th scope=col>compactness_mean</th><th scope=col>concavity_mean</th><th scope=col>...</th><th scope=col>radius_worst</th><th scope=col>texture_worst</th><th scope=col>perimeter_worst</th><th scope=col>area_worst</th><th scope=col>smoothness_worst</th><th scope=col>compactness_worst</th><th scope=col>concavity_worst</th><th scope=col>concave.points_worst</th><th scope=col>symmetry_worst</th><th scope=col>fractal_dimension_worst</th></tr></thead>\n",
       "<tbody>\n",
       "\t<tr><td>  842302</td><td>M       </td><td>1       </td><td>17.99   </td><td>10.38   </td><td>122.80  </td><td>1001.0  </td><td>0.11840 </td><td>0.27760 </td><td>0.3001  </td><td>...     </td><td>25.38   </td><td>17.33   </td><td>184.60  </td><td>2019.0  </td><td>0.1622  </td><td>0.6656  </td><td>0.7119  </td><td>0.2654  </td><td>0.4601  </td><td>0.11890 </td></tr>\n",
       "\t<tr><td>  842517</td><td>M       </td><td>1       </td><td>20.57   </td><td>17.77   </td><td>132.90  </td><td>1326.0  </td><td>0.08474 </td><td>0.07864 </td><td>0.0869  </td><td>...     </td><td>24.99   </td><td>23.41   </td><td>158.80  </td><td>1956.0  </td><td>0.1238  </td><td>0.1866  </td><td>0.2416  </td><td>0.1860  </td><td>0.2750  </td><td>0.08902 </td></tr>\n",
       "\t<tr><td>84300903</td><td>M       </td><td>1       </td><td>19.69   </td><td>21.25   </td><td>130.00  </td><td>1203.0  </td><td>0.10960 </td><td>0.15990 </td><td>0.1974  </td><td>...     </td><td>23.57   </td><td>25.53   </td><td>152.50  </td><td>1709.0  </td><td>0.1444  </td><td>0.4245  </td><td>0.4504  </td><td>0.2430  </td><td>0.3613  </td><td>0.08758 </td></tr>\n",
       "\t<tr><td>84348301</td><td>M       </td><td>1       </td><td>11.42   </td><td>20.38   </td><td> 77.58  </td><td> 386.1  </td><td>0.14250 </td><td>0.28390 </td><td>0.2414  </td><td>...     </td><td>14.91   </td><td>26.50   </td><td> 98.87  </td><td> 567.7  </td><td>0.2098  </td><td>0.8663  </td><td>0.6869  </td><td>0.2575  </td><td>0.6638  </td><td>0.17300 </td></tr>\n",
       "\t<tr><td>84358402</td><td>M       </td><td>1       </td><td>20.29   </td><td>14.34   </td><td>135.10  </td><td>1297.0  </td><td>0.10030 </td><td>0.13280 </td><td>0.1980  </td><td>...     </td><td>22.54   </td><td>16.67   </td><td>152.20  </td><td>1575.0  </td><td>0.1374  </td><td>0.2050  </td><td>0.4000  </td><td>0.1625  </td><td>0.2364  </td><td>0.07678 </td></tr>\n",
       "\t<tr><td>  843786</td><td>M       </td><td>1       </td><td>12.45   </td><td>15.70   </td><td> 82.57  </td><td> 477.1  </td><td>0.12780 </td><td>0.17000 </td><td>0.1578  </td><td>...     </td><td>15.47   </td><td>23.75   </td><td>103.40  </td><td> 741.6  </td><td>0.1791  </td><td>0.5249  </td><td>0.5355  </td><td>0.1741  </td><td>0.3985  </td><td>0.12440 </td></tr>\n",
       "</tbody>\n",
       "</table>\n"
      ],
      "text/latex": [
       "\\begin{tabular}{r|lllllllllllllllllllllllllllllllll}\n",
       " id & diagnosis & class & radius\\_mean & texture\\_mean & perimeter\\_mean & area\\_mean & smoothness\\_mean & compactness\\_mean & concavity\\_mean & ... & radius\\_worst & texture\\_worst & perimeter\\_worst & area\\_worst & smoothness\\_worst & compactness\\_worst & concavity\\_worst & concave.points\\_worst & symmetry\\_worst & fractal\\_dimension\\_worst\\\\\n",
       "\\hline\n",
       "\t   842302 & M        & 1        & 17.99    & 10.38    & 122.80   & 1001.0   & 0.11840  & 0.27760  & 0.3001   & ...      & 25.38    & 17.33    & 184.60   & 2019.0   & 0.1622   & 0.6656   & 0.7119   & 0.2654   & 0.4601   & 0.11890 \\\\\n",
       "\t   842517 & M        & 1        & 20.57    & 17.77    & 132.90   & 1326.0   & 0.08474  & 0.07864  & 0.0869   & ...      & 24.99    & 23.41    & 158.80   & 1956.0   & 0.1238   & 0.1866   & 0.2416   & 0.1860   & 0.2750   & 0.08902 \\\\\n",
       "\t 84300903 & M        & 1        & 19.69    & 21.25    & 130.00   & 1203.0   & 0.10960  & 0.15990  & 0.1974   & ...      & 23.57    & 25.53    & 152.50   & 1709.0   & 0.1444   & 0.4245   & 0.4504   & 0.2430   & 0.3613   & 0.08758 \\\\\n",
       "\t 84348301 & M        & 1        & 11.42    & 20.38    &  77.58   &  386.1   & 0.14250  & 0.28390  & 0.2414   & ...      & 14.91    & 26.50    &  98.87   &  567.7   & 0.2098   & 0.8663   & 0.6869   & 0.2575   & 0.6638   & 0.17300 \\\\\n",
       "\t 84358402 & M        & 1        & 20.29    & 14.34    & 135.10   & 1297.0   & 0.10030  & 0.13280  & 0.1980   & ...      & 22.54    & 16.67    & 152.20   & 1575.0   & 0.1374   & 0.2050   & 0.4000   & 0.1625   & 0.2364   & 0.07678 \\\\\n",
       "\t   843786 & M        & 1        & 12.45    & 15.70    &  82.57   &  477.1   & 0.12780  & 0.17000  & 0.1578   & ...      & 15.47    & 23.75    & 103.40   &  741.6   & 0.1791   & 0.5249   & 0.5355   & 0.1741   & 0.3985   & 0.12440 \\\\\n",
       "\\end{tabular}\n"
      ],
      "text/markdown": [
       "\n",
       "| id | diagnosis | class | radius_mean | texture_mean | perimeter_mean | area_mean | smoothness_mean | compactness_mean | concavity_mean | ... | radius_worst | texture_worst | perimeter_worst | area_worst | smoothness_worst | compactness_worst | concavity_worst | concave.points_worst | symmetry_worst | fractal_dimension_worst |\n",
       "|---|---|---|---|---|---|---|---|---|---|---|---|---|---|---|---|---|---|---|---|---|\n",
       "|   842302 | M        | 1        | 17.99    | 10.38    | 122.80   | 1001.0   | 0.11840  | 0.27760  | 0.3001   | ...      | 25.38    | 17.33    | 184.60   | 2019.0   | 0.1622   | 0.6656   | 0.7119   | 0.2654   | 0.4601   | 0.11890  |\n",
       "|   842517 | M        | 1        | 20.57    | 17.77    | 132.90   | 1326.0   | 0.08474  | 0.07864  | 0.0869   | ...      | 24.99    | 23.41    | 158.80   | 1956.0   | 0.1238   | 0.1866   | 0.2416   | 0.1860   | 0.2750   | 0.08902  |\n",
       "| 84300903 | M        | 1        | 19.69    | 21.25    | 130.00   | 1203.0   | 0.10960  | 0.15990  | 0.1974   | ...      | 23.57    | 25.53    | 152.50   | 1709.0   | 0.1444   | 0.4245   | 0.4504   | 0.2430   | 0.3613   | 0.08758  |\n",
       "| 84348301 | M        | 1        | 11.42    | 20.38    |  77.58   |  386.1   | 0.14250  | 0.28390  | 0.2414   | ...      | 14.91    | 26.50    |  98.87   |  567.7   | 0.2098   | 0.8663   | 0.6869   | 0.2575   | 0.6638   | 0.17300  |\n",
       "| 84358402 | M        | 1        | 20.29    | 14.34    | 135.10   | 1297.0   | 0.10030  | 0.13280  | 0.1980   | ...      | 22.54    | 16.67    | 152.20   | 1575.0   | 0.1374   | 0.2050   | 0.4000   | 0.1625   | 0.2364   | 0.07678  |\n",
       "|   843786 | M        | 1        | 12.45    | 15.70    |  82.57   |  477.1   | 0.12780  | 0.17000  | 0.1578   | ...      | 15.47    | 23.75    | 103.40   |  741.6   | 0.1791   | 0.5249   | 0.5355   | 0.1741   | 0.3985   | 0.12440  |\n",
       "\n"
      ],
      "text/plain": [
       "  id       diagnosis class radius_mean texture_mean perimeter_mean area_mean\n",
       "1   842302 M         1     17.99       10.38        122.80         1001.0   \n",
       "2   842517 M         1     20.57       17.77        132.90         1326.0   \n",
       "3 84300903 M         1     19.69       21.25        130.00         1203.0   \n",
       "4 84348301 M         1     11.42       20.38         77.58          386.1   \n",
       "5 84358402 M         1     20.29       14.34        135.10         1297.0   \n",
       "6   843786 M         1     12.45       15.70         82.57          477.1   \n",
       "  smoothness_mean compactness_mean concavity_mean ... radius_worst\n",
       "1 0.11840         0.27760          0.3001         ... 25.38       \n",
       "2 0.08474         0.07864          0.0869         ... 24.99       \n",
       "3 0.10960         0.15990          0.1974         ... 23.57       \n",
       "4 0.14250         0.28390          0.2414         ... 14.91       \n",
       "5 0.10030         0.13280          0.1980         ... 22.54       \n",
       "6 0.12780         0.17000          0.1578         ... 15.47       \n",
       "  texture_worst perimeter_worst area_worst smoothness_worst compactness_worst\n",
       "1 17.33         184.60          2019.0     0.1622           0.6656           \n",
       "2 23.41         158.80          1956.0     0.1238           0.1866           \n",
       "3 25.53         152.50          1709.0     0.1444           0.4245           \n",
       "4 26.50          98.87           567.7     0.2098           0.8663           \n",
       "5 16.67         152.20          1575.0     0.1374           0.2050           \n",
       "6 23.75         103.40           741.6     0.1791           0.5249           \n",
       "  concavity_worst concave.points_worst symmetry_worst fractal_dimension_worst\n",
       "1 0.7119          0.2654               0.4601         0.11890                \n",
       "2 0.2416          0.1860               0.2750         0.08902                \n",
       "3 0.4504          0.2430               0.3613         0.08758                \n",
       "4 0.6869          0.2575               0.6638         0.17300                \n",
       "5 0.4000          0.1625               0.2364         0.07678                \n",
       "6 0.5355          0.1741               0.3985         0.12440                "
      ]
     },
     "metadata": {},
     "output_type": "display_data"
    }
   ],
   "source": [
    "df<-read.csv('d:/data/cancer/data.csv')\n",
    "head(df)"
   ]
  },
  {
   "cell_type": "code",
   "execution_count": 2,
   "metadata": {},
   "outputs": [
    {
     "name": "stderr",
     "output_type": "stream",
     "text": [
      "Warning message:\n",
      "\"package 'dplyr' was built under R version 3.6.2\"\n",
      "Attaching package: 'dplyr'\n",
      "\n",
      "The following objects are masked from 'package:stats':\n",
      "\n",
      "    filter, lag\n",
      "\n",
      "The following objects are masked from 'package:base':\n",
      "\n",
      "    intersect, setdiff, setequal, union\n",
      "\n"
     ]
    },
    {
     "data": {
      "text/html": [
       "<ol class=list-inline>\n",
       "\t<li>569</li>\n",
       "\t<li>32</li>\n",
       "</ol>\n"
      ],
      "text/latex": [
       "\\begin{enumerate*}\n",
       "\\item 569\n",
       "\\item 32\n",
       "\\end{enumerate*}\n"
      ],
      "text/markdown": [
       "1. 569\n",
       "2. 32\n",
       "\n",
       "\n"
      ],
      "text/plain": [
       "[1] 569  32"
      ]
     },
     "metadata": {},
     "output_type": "display_data"
    },
    {
     "data": {
      "text/html": [
       "<table>\n",
       "<thead><tr><th scope=col>diagnosis</th><th scope=col>class</th><th scope=col>radius_mean</th><th scope=col>texture_mean</th><th scope=col>perimeter_mean</th><th scope=col>area_mean</th><th scope=col>smoothness_mean</th><th scope=col>compactness_mean</th><th scope=col>concavity_mean</th><th scope=col>concave.points_mean</th><th scope=col>...</th><th scope=col>radius_worst</th><th scope=col>texture_worst</th><th scope=col>perimeter_worst</th><th scope=col>area_worst</th><th scope=col>smoothness_worst</th><th scope=col>compactness_worst</th><th scope=col>concavity_worst</th><th scope=col>concave.points_worst</th><th scope=col>symmetry_worst</th><th scope=col>fractal_dimension_worst</th></tr></thead>\n",
       "<tbody>\n",
       "\t<tr><td>M      </td><td>1      </td><td>17.99  </td><td>10.38  </td><td>122.80 </td><td>1001.0 </td><td>0.11840</td><td>0.27760</td><td>0.3001 </td><td>0.14710</td><td>...    </td><td>25.38  </td><td>17.33  </td><td>184.60 </td><td>2019.0 </td><td>0.1622 </td><td>0.6656 </td><td>0.7119 </td><td>0.2654 </td><td>0.4601 </td><td>0.11890</td></tr>\n",
       "\t<tr><td>M      </td><td>1      </td><td>20.57  </td><td>17.77  </td><td>132.90 </td><td>1326.0 </td><td>0.08474</td><td>0.07864</td><td>0.0869 </td><td>0.07017</td><td>...    </td><td>24.99  </td><td>23.41  </td><td>158.80 </td><td>1956.0 </td><td>0.1238 </td><td>0.1866 </td><td>0.2416 </td><td>0.1860 </td><td>0.2750 </td><td>0.08902</td></tr>\n",
       "\t<tr><td>M      </td><td>1      </td><td>19.69  </td><td>21.25  </td><td>130.00 </td><td>1203.0 </td><td>0.10960</td><td>0.15990</td><td>0.1974 </td><td>0.12790</td><td>...    </td><td>23.57  </td><td>25.53  </td><td>152.50 </td><td>1709.0 </td><td>0.1444 </td><td>0.4245 </td><td>0.4504 </td><td>0.2430 </td><td>0.3613 </td><td>0.08758</td></tr>\n",
       "\t<tr><td>M      </td><td>1      </td><td>11.42  </td><td>20.38  </td><td> 77.58 </td><td> 386.1 </td><td>0.14250</td><td>0.28390</td><td>0.2414 </td><td>0.10520</td><td>...    </td><td>14.91  </td><td>26.50  </td><td> 98.87 </td><td> 567.7 </td><td>0.2098 </td><td>0.8663 </td><td>0.6869 </td><td>0.2575 </td><td>0.6638 </td><td>0.17300</td></tr>\n",
       "\t<tr><td>M      </td><td>1      </td><td>20.29  </td><td>14.34  </td><td>135.10 </td><td>1297.0 </td><td>0.10030</td><td>0.13280</td><td>0.1980 </td><td>0.10430</td><td>...    </td><td>22.54  </td><td>16.67  </td><td>152.20 </td><td>1575.0 </td><td>0.1374 </td><td>0.2050 </td><td>0.4000 </td><td>0.1625 </td><td>0.2364 </td><td>0.07678</td></tr>\n",
       "\t<tr><td>M      </td><td>1      </td><td>12.45  </td><td>15.70  </td><td> 82.57 </td><td> 477.1 </td><td>0.12780</td><td>0.17000</td><td>0.1578 </td><td>0.08089</td><td>...    </td><td>15.47  </td><td>23.75  </td><td>103.40 </td><td> 741.6 </td><td>0.1791 </td><td>0.5249 </td><td>0.5355 </td><td>0.1741 </td><td>0.3985 </td><td>0.12440</td></tr>\n",
       "</tbody>\n",
       "</table>\n"
      ],
      "text/latex": [
       "\\begin{tabular}{r|llllllllllllllllllllllllllllllll}\n",
       " diagnosis & class & radius\\_mean & texture\\_mean & perimeter\\_mean & area\\_mean & smoothness\\_mean & compactness\\_mean & concavity\\_mean & concave.points\\_mean & ... & radius\\_worst & texture\\_worst & perimeter\\_worst & area\\_worst & smoothness\\_worst & compactness\\_worst & concavity\\_worst & concave.points\\_worst & symmetry\\_worst & fractal\\_dimension\\_worst\\\\\n",
       "\\hline\n",
       "\t M       & 1       & 17.99   & 10.38   & 122.80  & 1001.0  & 0.11840 & 0.27760 & 0.3001  & 0.14710 & ...     & 25.38   & 17.33   & 184.60  & 2019.0  & 0.1622  & 0.6656  & 0.7119  & 0.2654  & 0.4601  & 0.11890\\\\\n",
       "\t M       & 1       & 20.57   & 17.77   & 132.90  & 1326.0  & 0.08474 & 0.07864 & 0.0869  & 0.07017 & ...     & 24.99   & 23.41   & 158.80  & 1956.0  & 0.1238  & 0.1866  & 0.2416  & 0.1860  & 0.2750  & 0.08902\\\\\n",
       "\t M       & 1       & 19.69   & 21.25   & 130.00  & 1203.0  & 0.10960 & 0.15990 & 0.1974  & 0.12790 & ...     & 23.57   & 25.53   & 152.50  & 1709.0  & 0.1444  & 0.4245  & 0.4504  & 0.2430  & 0.3613  & 0.08758\\\\\n",
       "\t M       & 1       & 11.42   & 20.38   &  77.58  &  386.1  & 0.14250 & 0.28390 & 0.2414  & 0.10520 & ...     & 14.91   & 26.50   &  98.87  &  567.7  & 0.2098  & 0.8663  & 0.6869  & 0.2575  & 0.6638  & 0.17300\\\\\n",
       "\t M       & 1       & 20.29   & 14.34   & 135.10  & 1297.0  & 0.10030 & 0.13280 & 0.1980  & 0.10430 & ...     & 22.54   & 16.67   & 152.20  & 1575.0  & 0.1374  & 0.2050  & 0.4000  & 0.1625  & 0.2364  & 0.07678\\\\\n",
       "\t M       & 1       & 12.45   & 15.70   &  82.57  &  477.1  & 0.12780 & 0.17000 & 0.1578  & 0.08089 & ...     & 15.47   & 23.75   & 103.40  &  741.6  & 0.1791  & 0.5249  & 0.5355  & 0.1741  & 0.3985  & 0.12440\\\\\n",
       "\\end{tabular}\n"
      ],
      "text/markdown": [
       "\n",
       "| diagnosis | class | radius_mean | texture_mean | perimeter_mean | area_mean | smoothness_mean | compactness_mean | concavity_mean | concave.points_mean | ... | radius_worst | texture_worst | perimeter_worst | area_worst | smoothness_worst | compactness_worst | concavity_worst | concave.points_worst | symmetry_worst | fractal_dimension_worst |\n",
       "|---|---|---|---|---|---|---|---|---|---|---|---|---|---|---|---|---|---|---|---|---|\n",
       "| M       | 1       | 17.99   | 10.38   | 122.80  | 1001.0  | 0.11840 | 0.27760 | 0.3001  | 0.14710 | ...     | 25.38   | 17.33   | 184.60  | 2019.0  | 0.1622  | 0.6656  | 0.7119  | 0.2654  | 0.4601  | 0.11890 |\n",
       "| M       | 1       | 20.57   | 17.77   | 132.90  | 1326.0  | 0.08474 | 0.07864 | 0.0869  | 0.07017 | ...     | 24.99   | 23.41   | 158.80  | 1956.0  | 0.1238  | 0.1866  | 0.2416  | 0.1860  | 0.2750  | 0.08902 |\n",
       "| M       | 1       | 19.69   | 21.25   | 130.00  | 1203.0  | 0.10960 | 0.15990 | 0.1974  | 0.12790 | ...     | 23.57   | 25.53   | 152.50  | 1709.0  | 0.1444  | 0.4245  | 0.4504  | 0.2430  | 0.3613  | 0.08758 |\n",
       "| M       | 1       | 11.42   | 20.38   |  77.58  |  386.1  | 0.14250 | 0.28390 | 0.2414  | 0.10520 | ...     | 14.91   | 26.50   |  98.87  |  567.7  | 0.2098  | 0.8663  | 0.6869  | 0.2575  | 0.6638  | 0.17300 |\n",
       "| M       | 1       | 20.29   | 14.34   | 135.10  | 1297.0  | 0.10030 | 0.13280 | 0.1980  | 0.10430 | ...     | 22.54   | 16.67   | 152.20  | 1575.0  | 0.1374  | 0.2050  | 0.4000  | 0.1625  | 0.2364  | 0.07678 |\n",
       "| M       | 1       | 12.45   | 15.70   |  82.57  |  477.1  | 0.12780 | 0.17000 | 0.1578  | 0.08089 | ...     | 15.47   | 23.75   | 103.40  |  741.6  | 0.1791  | 0.5249  | 0.5355  | 0.1741  | 0.3985  | 0.12440 |\n",
       "\n"
      ],
      "text/plain": [
       "  diagnosis class radius_mean texture_mean perimeter_mean area_mean\n",
       "1 M         1     17.99       10.38        122.80         1001.0   \n",
       "2 M         1     20.57       17.77        132.90         1326.0   \n",
       "3 M         1     19.69       21.25        130.00         1203.0   \n",
       "4 M         1     11.42       20.38         77.58          386.1   \n",
       "5 M         1     20.29       14.34        135.10         1297.0   \n",
       "6 M         1     12.45       15.70         82.57          477.1   \n",
       "  smoothness_mean compactness_mean concavity_mean concave.points_mean ...\n",
       "1 0.11840         0.27760          0.3001         0.14710             ...\n",
       "2 0.08474         0.07864          0.0869         0.07017             ...\n",
       "3 0.10960         0.15990          0.1974         0.12790             ...\n",
       "4 0.14250         0.28390          0.2414         0.10520             ...\n",
       "5 0.10030         0.13280          0.1980         0.10430             ...\n",
       "6 0.12780         0.17000          0.1578         0.08089             ...\n",
       "  radius_worst texture_worst perimeter_worst area_worst smoothness_worst\n",
       "1 25.38        17.33         184.60          2019.0     0.1622          \n",
       "2 24.99        23.41         158.80          1956.0     0.1238          \n",
       "3 23.57        25.53         152.50          1709.0     0.1444          \n",
       "4 14.91        26.50          98.87           567.7     0.2098          \n",
       "5 22.54        16.67         152.20          1575.0     0.1374          \n",
       "6 15.47        23.75         103.40           741.6     0.1791          \n",
       "  compactness_worst concavity_worst concave.points_worst symmetry_worst\n",
       "1 0.6656            0.7119          0.2654               0.4601        \n",
       "2 0.1866            0.2416          0.1860               0.2750        \n",
       "3 0.4245            0.4504          0.2430               0.3613        \n",
       "4 0.8663            0.6869          0.2575               0.6638        \n",
       "5 0.2050            0.4000          0.1625               0.2364        \n",
       "6 0.5249            0.5355          0.1741               0.3985        \n",
       "  fractal_dimension_worst\n",
       "1 0.11890                \n",
       "2 0.08902                \n",
       "3 0.08758                \n",
       "4 0.17300                \n",
       "5 0.07678                \n",
       "6 0.12440                "
      ]
     },
     "metadata": {},
     "output_type": "display_data"
    }
   ],
   "source": [
    "library(dplyr)\n",
    "df<-df %>% select(-id,diagnosis)\n",
    "dim(df)\n",
    "head(df)"
   ]
  },
  {
   "cell_type": "code",
   "execution_count": 3,
   "metadata": {},
   "outputs": [
    {
     "data": {
      "text/plain": [
       "\n",
       "  0   1 \n",
       "357 212 "
      ]
     },
     "metadata": {},
     "output_type": "display_data"
    },
    {
     "data": {
      "image/png": "[encoded data removed]",
      "text/plain": [
       "plot without title"
      ]
     },
     "metadata": {},
     "output_type": "display_data"
    }
   ],
   "source": [
    "(tbl<-table(df$class))\n",
    "barplot(tbl, beside=T, legend=T, col=rainbow(2))\n",
    "#0 양성 , 1 음성"
   ]
  },
  {
   "cell_type": "code",
   "execution_count": 4,
   "metadata": {},
   "outputs": [
    {
     "name": "stderr",
     "output_type": "stream",
     "text": [
      "Warning message:\n",
      "\"package 'ROSE' was built under R version 3.6.2\"Loaded ROSE 0.0-3\n",
      "\n"
     ]
    },
    {
     "data": {
      "text/plain": [
       "\n",
       "  0   1 \n",
       "212 212 "
      ]
     },
     "metadata": {},
     "output_type": "display_data"
    }
   ],
   "source": [
    "#언더샘플링\n",
    "library(ROSE)\n",
    "df_samp<-ovun.sample(class~ ., data=df, seed=1, method='under',\n",
    "                    N=212*2)$data\n",
    "table(df_samp$class)"
   ]
  },
  {
   "cell_type": "code",
   "execution_count": 5,
   "metadata": {},
   "outputs": [
    {
     "data": {
      "text/plain": [
       "\n",
       "  0   1 \n",
       "357 357 "
      ]
     },
     "metadata": {},
     "output_type": "display_data"
    }
   ],
   "source": [
    "#오버샘플링\n",
    "library(ROSE)\n",
    "df_samp<-ovun.sample(class~ ., data=df, seed=1, method='over',\n",
    "                    N=357*2)$data\n",
    "table(df_samp$class)"
   ]
  },
  {
   "cell_type": "code",
   "execution_count": 6,
   "metadata": {},
   "outputs": [
    {
     "name": "stderr",
     "output_type": "stream",
     "text": [
      "Loading required package: lattice\n",
      "Warning message:\n",
      "\"package 'lattice' was built under R version 3.6.2\"Loading required package: ggplot2\n",
      "Warning message:\n",
      "\"package 'ggplot2' was built under R version 3.6.2\""
     ]
    }
   ],
   "source": [
    "library(caret)\n",
    "set.seed(123)\n",
    "idx_train<-createDataPartition(y=df_samp$class,p=0.8,list=F)\n",
    "train<-df_samp[idx_train,]\n",
    "X_train<-train[,-1]\n",
    "y_train<-train[,1]\n",
    "test<-df_samp[-idx_train,]\n",
    "X_test<-test[,-1]\n",
    "y_test<-test[,1]"
   ]
  },
  {
   "cell_type": "code",
   "execution_count": 7,
   "metadata": {},
   "outputs": [
    {
     "name": "stderr",
     "output_type": "stream",
     "text": [
      "Warning message:\n",
      "\"package 'reshape' was built under R version 3.6.2\"\n",
      "Attaching package: 'reshape'\n",
      "\n",
      "The following object is masked from 'package:dplyr':\n",
      "\n",
      "    rename\n",
      "\n",
      "Using  as id variables\n"
     ]
    },
    {
     "data": {
      "image/png": "[encoded data removed]",
      "text/plain": [
       "plot without title"
      ]
     },
     "metadata": {},
     "output_type": "display_data"
    }
   ],
   "source": [
    "#스케일링 전의 박스플롯\n",
    "library(reshape)\n",
    "meltData<-melt(X_train)\n",
    "boxplot(data=meltData,value~variable)"
   ]
  },
  {
   "cell_type": "code",
   "execution_count": 8,
   "metadata": {},
   "outputs": [],
   "source": [
    "X_train_scaled<-as.data.frame(scale(X_train))\n",
    "X_test_scaled<-as.data.frame(scale(X_test))\n",
    "train_scaled<-cbind(X_train_scaled,class=y_train)\n",
    "test_scaled<-cbind(X_test_scaled,class=y_test)"
   ]
  },
  {
   "cell_type": "code",
   "execution_count": 9,
   "metadata": {},
   "outputs": [
    {
     "name": "stderr",
     "output_type": "stream",
     "text": [
      "Using  as id variables\n"
     ]
    },
    {
     "data": {
      "image/png": "[encoded data removed]",
      "text/plain": [
       "plot without title"
      ]
     },
     "metadata": {},
     "output_type": "display_data"
    }
   ],
   "source": [
    "#스케일링 후의 박스플롯\n",
    "meltData<-melt(X_train_scaled)\n",
    "boxplot(data=meltData,value~variable)"
   ]
  },
  {
   "cell_type": "code",
   "execution_count": 16,
   "metadata": {},
   "outputs": [
    {
     "ename": "ERROR",
     "evalue": "Error in eval(family$initialize): y values must be 0 <= y <= 1\n",
     "output_type": "error",
     "traceback": [
      "Error in eval(family$initialize): y values must be 0 <= y <= 1\nTraceback:\n",
      "1. glm(class ~ ., data = train_scaled, family = binomial)",
      "2. eval(call(if (is.function(method)) \"method\" else method, x = X, \n .     y = Y, weights = weights, start = start, etastart = etastart, \n .     mustart = mustart, offset = offset, family = family, control = control, \n .     intercept = attr(mt, \"intercept\") > 0L, singular.ok = singular.ok))",
      "3. eval(call(if (is.function(method)) \"method\" else method, x = X, \n .     y = Y, weights = weights, start = start, etastart = etastart, \n .     mustart = mustart, offset = offset, family = family, control = control, \n .     intercept = attr(mt, \"intercept\") > 0L, singular.ok = singular.ok))",
      "4. glm.fit(x = structure(c(1, 1, 1, 1, 1, 1, 1, 1, 1, 1, 1, 1, 1, \n . 1, 1, 1, 1, 1, 1, 1, 1, 1, 1, 1, 1, 1, 1, 1, 1, 1, 1, 1, 1, 1, \n . 1, 1, 1, 1, 1, 1, 1, 1, 1, 1, 1, 1, 1, 1, 1, 1, 1, 1, 1, 1, 1, \n . 1, 1, 1, 1, 1, 1, 1, 1, 1, 1, 1, 1, 1, 1, 1, 1, 1, 1, 1, 1, 1, \n . 1, 1, 1, 1, 1, 1, 1, 1, 1, 1, 1, 1, 1, 1, 1, 1, 1, 1, 1, 1, 1, \n . 1, 1, 1, 1, 1, 1, 1, 1, 1, 1, 1, 1, 1, 1, 1, 1, 1, 1, 1, 1, 1, \n . 1, 1, 1, 1, 1, 1, 1, 1, 1, 1, 1, 1, 1, 1, 1, 1, 1, 1, 1, 1, 1, \n . 1, 1, 1, 1, 1, 1, 1, 1, 1, 1, 1, 1, 1, 1, 1, 1, 1, 1, 1, 1, 1, \n . 1, 1, 1, 1, 1, 1, 1, 1, 1, 1, 1, 1, 1, 1, 1, 1, 1, 1, 1, 1, 1, \n . 1, 1, 1, 1, 1, 1, 1, 1, 1, 1, 1, 1, 1, 1, 1, 1, 1, 1, 1, 1, 1, \n . 1, 1, 1, 1, 1, 1, 1, 1, 1, 1, 1, 1, 1, 1, 1, 1, 1, 1, 1, 1, 1, \n . 1, 1, 1, 1, 1, 1, 1, 1, 1, 1, 1, 1, 1, 1, 1, 1, 1, 1, 1, 1, 1, \n . 1, 1, 1, 1, 1, 1, 1, 1, 1, 1, 1, 1, 1, 1, 1, 1, 1, 1, 1, 1, 1, \n . 1, 1, 1, 1, 1, 1, 1, 1, 1, 1, 1, 1, 1, 1, 1, 1, 1, 1, 1, 1, 1, \n . 1, 1, 1, 1, 1, 1, 1, 1, 1, 1, 1, 1, 1, 1, 1, 1, 1, 1, 1, 1, 1, \n . 1, 1, 1, 1, 1, 1, 1, 1, 1, 1, 1, 1, 1, 1, 1, 1, 1, 1, 1, 1, 1, \n . 1, 1, 1, 1, 1, 1, 1, 1, 1, 1, 1, 1, 1, 1, 1, 1, 1, 1, 1, 1, 1, \n . 1, 1, 1, 1, 1, 1, 1, 1, 1, 1, 1, 1, 1, 1, 1, 1, 1, 1, 1, 1, 1, \n . 1, 1, 1, 1, 1, 1, 1, 1, 1, 1, 1, 1, 1, 1, 1, 1, 1, 1, 1, 1, 1, \n . 1, 1, 1, 1, 1, 1, 1, 1, 1, 1, 1, 1, 1, 1, 1, 1, 1, 1, 1, 1, 1, \n . 1, 1, 1, 1, 1, 1, 1, 1, 1, 1, 1, 1, 1, 1, 1, 1, 1, 1, 1, 1, 1, \n . 1, 1, 1, 1, 1, 1, 1, 1, 1, 1, 1, 1, 1, 1, 1, 1, 1, 1, 1, 1, 1, \n . 1, 1, 1, 1, 1, 1, 1, 1, 1, 1, 1, 1, 1, 1, 1, 1, 1, 1, 1, 1, 1, \n . 1, 1, 1, 1, 1, 1, 1, 1, 1, 1, 1, 1, 1, 1, 1, 1, 1, 1, 1, 1, 1, \n . 1, 1, 1, 1, 1, 1, 1, 1, 1, 1, 1, 1, 1, 1, 1, 1, 1, 1, 1, 1, 1, \n . 1, 1, 1, 1, 1, 1, 1, 1, 1, 1, 1, 1, 1, 1, 1, 1, 1, 1, 1, 1, 1, \n . 1, 1, 1, 1, 1, 1, 1, 1, 1, 1, 1, 1, 1, 1, 1, 1, 1, 1, 1, 1, 1, \n . 1, 1, 1, 1, 1, 1, 1, 1, 1, 1, 1, 1, 1, -0.344611471508329, -0.459388030652527, \n . -0.471863743602983, -1.6780156716531, -0.357087184458785, -0.319660045607416, \n . -0.743834285922931, -0.848630274706764, -0.4668734584228, -1.57272065435125, \n . -1.18547452436908, -1.43424024060118, -1.36138207697052, -0.534242308355265, \n . -1.50535180441878, -0.651514010089554, -0.34710661409842, -0.514281167634535, \n . -0.866096272837403, -0.394514323310154, -0.728863430382383, -0.0701457865982895, \n . -0.0751360717784724, -0.411980321440793, -0.36706775481915, -0.683950863760741, \n . -1.28103848556958, -0.828669133986034, -1.98117549634919, -0.683950863760741, \n . -1.25883171651777, -1.10562996148616, -0.818688563625669, -0.639038297139098, \n . -0.893542841328407, -1.28353362815967, -0.571669447206634, -0.164961205021758, \n . -1.10063967630598, -1.54577311437826, -0.746329428513022, -1.48988192036022, \n . -0.876076843197768, -0.105077782859567, -0.38702889553988, -0.2672620512155, \n . 0.0446307725459084, -0.681455721170649, -0.80122256549503, -0.908513696868955, \n . -0.871086558017585, -1.04075625414379, -0.753814856283296, -0.120048638400115, \n . -0.294708619706503, -1.67227684369589, -1.29501128407409, -0.940950550540141, \n . -0.441922032521888, -0.666484865630102, 0.478785583221788, -0.713892574841836, \n . -1.00332911529242, -0.791241995134665, -0.644028582319281, -1.02828054119333, \n . 0.0121939188747222, -0.649018867499463, -0.95841654867078, -1.06321253745461, \n . -1.55949639862377, -1.25184531726551, -0.476854028783166, -0.526756880584991, \n . -0.876076843197768, -1.20793080767991, -0.80122256549503, -0.654009152679645, \n . -0.536737450945356, -1.29775594092319, -0.501805454684078, -0.671475150810284, \n . -0.611591728648094, -1.25883171651777, -0.451902602882253, 0.0870481965774599, \n . -0.768785711823844, -1.17798909659881, -0.317164903017325, -0.339621186328146, \n . -1.18297938177899, -0.411980321440793, -0.145000064301028, -1.11810567443662, \n . 0.0196793466449959, -0.898533126508589, -1.33593162255159, -0.222349484593857, \n . -0.174941775382123, -0.319660045607416, -0.62406744159855, -0.903523411688772, \n . -0.292213477116412, -1.10812510407626, -1.0657076800447, -0.848630274706764, \n . -0.853620559886947, -0.332135758557872, -0.157475777251484, -0.906018554278863, \n . -1.29226662722499, -0.756309998873387, -0.896037983918498, -0.332135758557872, \n . -0.58414516015709, -0.743834285922931, -0.506795739864261, -0.886057413558133, \n . 0.00969877628463102, -0.28722319193623, -1.00083397270233, -0.164961205021758, \n . -1.10063967630598, -0.614086871238185, -1.10562996148616, -0.863601130247311, \n . -0.828669133986034, -0.429446319571432, -1.47740620740976, -0.354592041868694, \n . -0.4668734584228, -0.803717708085122, -0.0776312143685636, -0.539232593535447, \n . -0.843639989526582, -1.57796045379044, -0.606601443467911, -0.683950863760741, \n . -0.621572299008459, -1.16551338364835, -0.514281167634535, -0.678960578580558, \n . -0.561688876846269, -0.202388343873127, -0.72137800261211, -0.484339456553439, \n . -0.923484552409502, -0.915999124639228, -0.481844313963348, -1.21541623545018, \n . -0.125038923580297, -1.32620056645023, -0.963406833850962, -0.80122256549503, \n . -1.16301824105826, -0.713892574841836, -0.86110598765722, -0.943445693130232, \n . -0.589135445337272, -0.4668734584228, -0.262271766035317, -1.50784694700888, \n . -1.36861799048178, -0.594125730517455, -0.539232593535447, 0.393950735158686, \n . 0.0670870558567298, -0.30718433265696, -1.08566882076543, -0.364572612229059, \n . -0.314669760427233, -0.911008839459046, -0.968397119031145, -0.716387717431927, \n . -0.631552869368824, -0.676465435990467, -0.259776623445226, -0.911008839459046, \n . -1.16301824105826, -1.54377700030619, -0.214864056823583, -0.352096899278603, \n . -0.529252023175082, -0.963406833850962, -0.489329741733622, -0.494320026913805, \n . -0.644028582319281, -0.993348544932057, -0.516776310224626, -0.661494580449919, \n . -0.888552556148224, -1.37834904658314, -0.756309998873387, -0.554203449075995, \n . -0.93845540795005, -0.836154561756308, -0.0576700736478334, -1.29226662722499, \n . -1.22040652063036, -1.10812510407626, -1.02828054119333, -0.945940835720323, \n . -0.549213163895812, -0.629057726778733, -0.015252649616282, -0.511786025044444, \n . -0.219854342003766, -0.224844627183948, -0.985863117161783, -0.284728049346139, \n . -1.08566882076543, -0.731358572972475, -0.0302235051568292, -0.0975923550892937, \n . -0.76130028405357, -0.728863430382383, -0.0975923550892937, -0.574164589796725, \n . -0.384533752949789, -0.42695117698134, -0.479349171373257, -1.28902294185787, \n . -0.13002920876048, -0.828669133986034, -0.436931747341705, -0.419465749211067, \n . -0.444417175111979, -1.31073068239167, -0.823678848805852, -1.31098019665068, \n . -0.718882860022019, -0.000281794075734263, -1.0083194004726, \n . -0.521766595404808, -0.254786338265043, -0.856115702477038, -0.254786338265043, \n . -0.362077469638967, -0.304689190066869, 0.201824755721658, -0.616582013828277, \n . -0.808707993265304, -0.666484865630102, 0.730794984821007, -0.614086871238185, \n . -0.0127575070261908, -0.611591728648094, 0.0296599170053607, \n . -0.594125730517455, -1.41053638599532, -1.30873456831959, -0.673970293400375, \n . -0.793737137724756, -0.893542841328407, -0.509290882454352, -1.40379950100207, \n . -0.913503982049137, -0.302194047476777, -1.58444782452468, -0.364572612229059, \n . -0.644028582319281, -0.244805767904678, -0.711397432251744, -0.791241995134665, \n . -0.811203135855395, -0.988358259751875, -0.806212850675213, -1.79453883061036, \n . -1.80402037245271, -0.112563210629841, -0.42695117698134, -0.262271766035317, \n . -0.324650330787599, -1.14804738551772, -1.16301824105826, -1.30698796850653, \n . -0.945940835720323, -0.536737450945356, -1.39431795915972, -0.509290882454352, \n . -1.18796966695918, -1.3718616758489, -0.851125417296855, -0.217359199413674, \n . -0.928474837589685, -1.78680388858108, 1.83364800964134, 1.60908517653313, \n . 1.37703691565464, -0.436931747341705, 0.231766466802753, 1.29968749536181, \n . 0.538669005383978, 1.00276552714095, 1.06514409189324, 1.55668718214121, \n . 2.08815255383065, -0.32714547337769, 0.830600688424657, 2.32768624247942, \n . 0.880503540226482, -0.369562897409241, 0.653445564528177, 1.41196891191592, \n . 1.76877430229897, 2.08815255383065, 1.19988179175816, 0.635979566397538, \n . 0.141941333559468, 0.453834157320875, 0.688377560789455, 0.214300468672114, \n . -0.32714547337769, 0.930406392028307, 3.29081128225464, 1.28970692500145, \n . 0.960348103109402, 0.104514194708099, 0.823115260654383, 2.08316226865047, \n . 0.141941333559468, 0.920425821667942, 0.531183577613705, 0.134455905789194, \n . 1.38701748601501, 1.03520238081214, 0.930406392028307, 1.34460006198346, \n . -0.0851166421388372, 2.69696734581292, 1.15496922513652, -0.788746852544574, \n . 0.431377874010054, -0.162466062431667, 1.2173477898888, -0.117553495810024, \n . 0.214300468672114, 0.214300468672114, -0.117553495810024, 1.06264894930314, \n . 1.0177363826815, 1.65649288574486, 1.06015380671305, -0.409485178850702, \n . 0.0521162003161825, 0.635979566397538, 0.553639860924527, 1.41196891191592, \n . 1.06264894930314, -0.768785711823844, 0.750756125541736, 1.30717292313209, \n . 0.0496210577260908, -0.167456347611849, 0.453834157320875, 0.0446307725459084, \n . 0.823115260654383, 1.08510523261397, 0.329077027816312, 2.32768624247942, \n . 2.08316226865047, -0.521766595404808, -0.372058039999333, -0.167456347611849, \n . -0.277242621575864, 1.06264894930314, -0.11006806803975, 1.00276552714095, \n . -0.167456347611849, 0.566115573874983, -0.436931747341705, 0.538669005383978, \n . 0.094533624347734, 1.05765866412296, 1.16494979549689, -0.768785711823844, \n . 0.336562455586586, -0.0801263569586548, -0.167456347611849, 1.38452234342492, \n . 1.03520238081214, -0.234825197544313, -0.409485178850702, -0.778766282184209, \n . -0.372058039999333, 1.31715349349245, -0.436931747341705, 0.765726981082283, \n . -0.768785711823844, 0.309115887095583, 1.30717292313209, 0.214300468672114, \n . 0.925416106848125, 1.14997893995634, -0.369562897409241, 1.02272666786168, \n . 0.745765840361554, 1.41446405450601, 1.16494979549689, 0.755746410721919, \n . 1.41196891191592, -0.644028582319281, 1.00276552714095, 0.823115260654383, \n . -0.559193734256177, 0.653445564528177, -0.11006806803975, 0.705843558920094, \n . -0.559193734256177, -0.0352137903370121, 0.606037855316443, 3.29081128225464, \n . 2.06819141310992, 0.336562455586586, -0.279737764165956, 1.11754208628515, \n . 0.418902161059598, -0.015252649616282, 1.15496922513652, -0.167456347611849, \n . -0.125038923580297, 0.823115260654383, 1.06264894930314, 0.653445564528177, \n . 1.11754208628515, -0.174941775382123, 0.890484110586847, 1.21984293247889, \n . -0.0601652162379247, 1.37703691565464, 2.42250166090288, -0.644028582319281, \n . 0.745765840361554, 1.14997893995634, 1.0177363826815, -0.0950972124992025, \n . -0.409485178850702, -0.479349171373257, -0.0352137903370121, \n . 1.38701748601501, 0.336562455586586, 0.566115573874983, 0.0745724836270038, \n . 2.69696734581292, 1.76877430229897, 1.7039005949566, 1.19988179175816, \n . 0.231766466802753, -0.0950972124992025, -0.297203762296595, 1.15496922513652, \n . 1.41446405450601, 0.845571543965204, 0.788183264393105, -0.0601652162379247, \n . 1.4169591970961, 0.593562142365987, 0.151921903919833, -0.436931747341705, \n . 0.0496210577260908, 0.206815040901841, 0.206815040901841, 0.932901534618399, \n . -0.359582327048876, -0.436931747341705, 1.332124349033, -0.239815482724495, \n . 1.4169591970961, 2.08815255383065, 1.54171632660067, 0.463814727681241, \n . 0.206815040901841, 0.788183264393105, -0.0352137903370121, -0.536737450945356, \n . 3.06874359173652, 1.15496922513652, 0.309115887095583, 1.69392002459623, \n . 1.42693976745647, 1.76877430229897, -0.379543467769606, 1.14997893995634, \n . -0.015252649616282, -0.182427203152397, 2.06819141310992, 2.32768624247942, \n . -0.436931747341705, -0.297203762296595, 1.54171632660067, -0.990853402341966, \n . 0.111999622478372, 1.34460006198346, 0.184358757591019, 1.50179404515921, \n . -0.644028582319281, 0.134455905789194, 0.653445564528177, 1.08510523261397, \n . -0.369562897409241, 0.925416106848125, 0.111999622478372, 1.28970692500145, \n . -0.768785711823844, 0.770717266262467, 0.925416106848125, 0.309115887095583, \n . 1.08510523261397, 3.06874359173652, -0.536737450945356, 0.823115260654383, \n . 1.23980407319962, -0.174941775382123, 0.094533624347734, 0.453834157320875, \n . 0.184358757591019, -0.234825197544313, 0.206815040901841, 1.16494979549689, \n . -0.369562897409241, 0.0496210577260908, -0.297203762296595, 0.231766466802753, \n . 1.65649288574486, 0.296640174145126, 0.845571543965204, -0.279737764165956, \n . 1.31216320831227, -0.00527207925591669, 1.28970692500145, 3.06874359173652, \n . 1.0177363826815, 0.0995239095279164, 3.29081128225464, -0.297203762296595, \n . 0.960348103109402, 0.775707551442649, 2.03824970202883, 1.76877430229897, \n . 1.65649288574486, 0.765726981082283, 1.66896859869532, 0.845571543965204, \n . -0.778766282184209, 1.35208548975373, 1.83364800964134, 1.49680375997902, \n . 1.54171632660067, 1.06264894930314, 0.788183264393105, 1.49680375997902, \n . 1.31715349349245, -0.32714547337769, 3.11864644353835, 1.60908517653313, \n . 0.331572170406404, 0.039640487365726, 0.0171842040549047, 1.44939605076729, \n . -0.00527207925591669, 0.623503853447082, 1.42693976745647, 1.37703691565464, \n . 1.83364800964134, 1.31216320831227, 0.920425821667942, 2.32768624247942, \n . 1.66896859869532, 2.32768624247942, 2.42250166090288, 1.30717292313209, \n . -0.117553495810024, -1.30218367803166, -0.980898264397371, -0.33594754517595, \n . -0.711970473725708, 0.58745053252852, -0.830965071368037, -0.378785600327189, \n . -0.257411110732013, -0.124137161372606, -1.91381590991323, -1.17842929648364, \n . -1.42117827567399, 0.280444470611312, -0.795266692075339, -1.23554670335195, \n . -0.788127016216799, -2.11610672590519, -0.435903007195506, 0.270924902799925, \n . -0.945199885104673, -0.99517761611445, -1.09275318618116, 0.99679194841813, \n . -1.2069879999178, -0.364506248610109, -0.473981278441051, 0.025796031656729, \n . -1.66392725486434, -1.52351362964639, 0.16382976492183, -0.102718133796987, \n . -0.128896945278299, -0.35736657275157, -0.307388841741791, 0.339941769432476, \n . -0.67627209443301, 0.220947171790148, -0.0432208349758222, 0.0852933304778933, \n . -0.952339560963212, 0.404198852159334, -0.968998804633138, -2.14466542933934, \n . -2.12800618566942, -0.819065611603804, -0.623914471470385, -0.819065611603804, \n . -1.55683211698624, -0.7524286369241, -1.53303319745778, -0.60011555194192, \n . -1.15701026890802, -1.23316681139911, -1.10703253789824, -0.457322034771125, \n . 0.206667820073068, -1.06895426665269, -1.60680984799602, -1.06895426665269, \n . -0.450182358912585, -0.0884387820799065, -1.6877261743928, -1.63536855143018, \n . 0.0829134385250463, 0.568411396905747, -2.40883343610531, -0.685791662244396, \n . -1.77102239274243, -1.21888745968203, -1.11417221375678, -1.28076465045604, \n . -0.421623655478427, 0.568411396905747, -1.61156963190171, -1.16890972867225, \n . -1.12369178156817, -0.628674255376078, -0.935680317293286, 0.375640148725175, \n . -0.383545384232882, -0.833344963320884, -0.0646398625514413, \n . -0.293109490024712, -0.609635119753306, 0.644567939396837, -1.64726801119441, \n . -0.212193163627928, -0.559657388743528, -1.58777071237325, -1.4116587078626, \n . -0.547757928979295, -0.66913241857447, -1.513994061835, -1.04039556321854, \n . -1.0284961034543, 1.72503888598918, -0.93330042534044, 0.33756187747963, \n . 1.90829056635837, -1.00707707587868, -1.14035102523809, -0.390685060091421, \n . 0.937294649596965, 0.00675689603395597, 1.28237898275972, -1.1665298367194, \n . -0.328807869317411, 0.477975502697577, -0.716730257631402, -1.61632941580741, \n . -0.990417832208757, -0.588216092177687, -1.34978151708859, -0.473981278441051, \n . -0.340707329081644, 0.220947171790148, -1.59729028018463, -0.224092623392161, \n . -0.174114892382383, -1.56159190089193, -1.78054196055382, -0.395444843997114, \n . 0.775461996803399, 0.013896571892496, -0.290729598071865, -0.397824735949961, \n . 1.10864687020192, -0.954719452916059, -1.29266411022027, -1.69486585025134, \n . -1.42593805957968, -0.171735000429537, -0.985658048303064, -1.53779298136347, \n . -2.16846434886781, -0.293109490024712, -0.709590581772861, -1.36882065271136, \n . -0.673892202480163, -0.869043342613582, -1.5496924411277, -1.0998928620397, \n . -0.602495443894766, -1.65440768705295, -0.452562250865432, -0.114617593561219, \n . 0.00675689603395597, -1.2022282160121, -1.33312227341866, -0.547757928979295, \n . -0.783367232311106, -0.711970473725708, -1.15939016086086, -1.04277545517138, \n . -1.21888745968203, -0.221712731439315, -0.90474172190628, -1.37120054466421, \n . -0.181254568240923, -0.295489381977558, -0.861903666755042, -1.03325588736, \n . -0.359746464704416, -0.41924376352558, -0.235992083156394, -0.366886140562956, \n . -1.57587125260901, -0.895222154094894, 0.0924330063364324, 1.99396667666084, \n . -1.11417221375678, -1.63536855143018, -1.1665298367194, 0.687405994548075, \n . -0.559657388743528, -1.36644076075852, -0.873803126519275, -1.03087599540715, \n . -1.81148055594082, -0.711970473725708, -0.631054147328925, -0.224092623392161, \n . -0.564417172649221, -1.19032875624787, -0.366886140562956, -0.871423234566428, \n . -1.16177005281371, -0.295489381977558, 0.366120580913789, -0.454942142818278, \n . -0.538238361167909, 0.439897231452032, 0.318522741856857, -1.82338001570506, \n . 0.375640148725175, -0.188394244099463, -1.39261957223983, -0.16935510847669, \n . 0.344701553338169, -1.15463037695517, 0.511293990037429, -0.764328096688333, \n . -0.514439441639443, -0.512059549686597, -0.688171554197242, -0.0693996464571344, \n . -0.916641181670513, -0.992797724161604, -0.626294363423232, -0.961859128774599, \n . -0.359746464704416, 1.20384254831578, -0.516819333592289, -0.116997485514066, \n . 0.40657874411218, 1.99872646056654, -1.39261957223983, -0.638193823187465, \n . 2.59131955682533, 1.28951865861826, 1.2609599551841, 1.991586784708, \n . 1.70361985841356, -0.35022689689303, -0.383545384232882, 0.0710139787608133, \n . 0.216187387884454, -0.41210408766704, -0.393064952044268, -0.319288301506025, \n . 1.97730743299092, -1.1665298367194, -1.00231729197299, -0.976138480491678, \n . -0.764328096688333, -1.24744616311619, -0.140796405042532, -1.37358043661706, \n . -0.521579117497983, -2.0351903995084, -0.814305827698111, -0.871423234566428, \n . 0.620769019868372, -1.57111146870332, -1.66630714681718, 0.0900531143835863, \n . -0.60011555194192, -0.735769393254174, -0.83572485527373, -1.6567875790058, \n . -1.59253049627894, 0.0495949511851942, -1.22364724358772, -0.290729598071865, \n . -0.383545384232882, -1.4116587078626, -0.000382779824584016, \n . -0.274070354401939, -1.60205006409033, -0.257411110732013, -1.79958109617659, \n . -1.5853908204204, -1.52113373769354, -0.540618253120756, 0.0448351672795011, \n . -0.526338901403676, 1.09674741043769, 1.34663606548658, 1.33473660572234, \n . 1.22764146784425, 1.95826829736814, 0.206667820073068, 0.808780484143251, \n . -0.82858517941519, -0.77384766449972, -0.116997485514066, 0.620769019868372, \n . 2.28431349490812, 0.501774422226043, 2.16293900531295, -0.0575001866929014, \n . 1.91543024221691, 0.97537292084251, 1.74169812965911, 2.27003414319105, \n . 1.12054632996615, -0.0384610510701283, -1.12607167352101, 0.463696150980498, \n . -0.278830138307632, 0.980132704748204, 2.00348624447223, 1.74169812965911, \n . 0.351841229196709, -0.9261607494819, 0.763562537039166, 1.62746331592247, \n . 1.15624470925885, 0.0353155994681151, 0.0876732224307394, 0.494634746367503, \n . 0.416098311923566, -0.121757269419759, 0.549372261282974, 0.492254854414656, \n . 1.62746331592247, -0.00276267177743011, 1.153864817306, 0.0329357075152681, \n . 0.418478203876413, 0.216187387884454, 0.73262394165216, 1.15624470925885, \n . -0.531098685309369, -0.324048085411718, 0.958713677172584, 0.380399932630868, \n . -1.32598259756012, -0.269310570496246, 0.525573341754508, 0.0329357075152681, \n . 0.0995726821949724, -0.178874676288077, 0.980132704748204, 0.387539608489408, \n . 1.18480341269301, -0.531098685309369, 1.72027910208349, 0.404198852159334, \n . -0.564417172649221, 2.12724062602025, -0.402584519855654, 0.368500472866635, \n . 0.646947831349684, 0.411338528017873, 0.0924330063364324, 0.73262394165216, \n . 0.73262394165216, 0.0924330063364324, 0.632668479632604, -0.219332839486468, \n . 0.608869560104139, 1.18242352074016, 0.106712358053512, 2.37474938911629, \n . 1.153864817306, -0.816685719650958, 0.549372261282974, 0.632668479632604, \n . -0.269310570496246, 1.10626697824907, -0.0408409430229753, -0.750048744971254, \n . 0.551752153235821, 0.418478203876413, 0.520813557848815, -0.228852407297854, \n . 1.57986547686554, -0.25265132682632, 0.0876732224307394, 0.525573341754508, \n . 0.594590208387059, -0.0479806188815153, 0.551752153235821, 0.932534865691272, \n . 0.632668479632604, 0.387539608489408, 0.351841229196709, 0.449416799263418, \n . 0.532713017613048, -0.278830138307632, 1.74169812965911, 1.29427844252395, \n . 1.61080407225255, 1.23002135979709, -0.269310570496246, 0.209047712025915, \n . 0.82305983586033, 0.551752153235821, 0.199528144214529, 1.18480341269301, \n . -0.0503605108343614, 0.106712358053512, -0.77384766449972, -0.0479806188815153, \n . 1.66554158716802, -0.278830138307632, -2.24938067526459, -0.269310570496246, \n . 0.40657874411218, -0.0408409430229753, 0.73262394165216, 1.25620017127841, \n . 3.00780064857348, 0.416098311923566, 1.13244578973038, 0.282824362564158, \n . 0.335181985526783, -0.400204627902808, 0.042455275326655, 0.549372261282974, \n . 1.67268126302656, 0.351841229196709, -0.269310570496246, 0.953953893266891, \n . -0.121757269419759, 0.387539608489408, 1.95112862150961, 0.953953893266891, \n . 0.977752812795358, 0.768322320944859, -0.324048085411718, 1.69886007450787, \n . 0.209047712025915, -0.961859128774599, -0.393064952044268, 1.96302808127384, \n . 0.804020700237558, 2.12724062602025, 0.551752153235821, -0.0146621315416631, \n . -0.269310570496246, 0.632668479632604, -0.121757269419759, 0.873037566870108, \n . 0.782601672661939, -0.550137820932142, 0.551752153235821, 0.0710139787608133, \n . 0.463696150980498, 0.42085809582926, 1.67268126302656, 0.282824362564158, \n . -0.221712731439315, -0.219332839486468, 1.83451391582012, 0.106712358053512, \n . 0.473215718791884, 0.977752812795358, 0.387539608489408, 0.209047712025915, \n . 0.532713017613048, 2.56752063729687, -0.564417172649221, 0.492254854414656, \n . 0.275684686705618, -0.00276267177743011, 0.980132704748204, 1.83451391582012, \n . 0.661227183066763, 2.12724062602025, 0.335181985526783, 0.178109116638909, \n . 0.477975502697577, 0.0710139787608133, 2.26051457537966, -0.654853066857391, \n . 3.26720887143376, 0.470835826839037, -0.750048744971254, -0.145556188948225, \n . 0.0995726821949724, -0.645333499046004, 0.235226523507227, 0.470835826839037, \n . 0.761182645086319, -0.66199274271593, 2.26051457537966, 1.62746331592247, \n . 0.16382976492183, -0.24551165096778, 0.0995726821949724, 0.477975502697577, \n . 0.977752812795358, 0.627908695726911, 0.485115178556117, 2.12724062602025, \n . 0.40657874411218, -0.614394903658999, -0.590595984130533, 0.492254854414656, \n . 0.16382976492183, 3.00780064857348, 0.804020700237558, 0.946814217408351, \n . 1.69886007450787, 0.0876732224307394, 0.470835826839037, 0.661227183066763, \n . 0.16382976492183, 0.361360797008096, 0.696925562359462, 1.72027910208349, \n . 0.801640808284711, 0.887316918587187, 1.67268126302656, -0.0836789981742135, \n . -0.121757269419759, 1.57986547686554, 0.416098311923566, 1.25620017127841, \n . 0.696925562359462, 0.958713677172584, -0.269310570496246, 0.173349332733216, \n . 1.25620017127841, 0.40657874411218, 1.57986547686554, 0.485115178556117, \n . 0.627908695726911, -0.269310570496246, 0.101952574147819, 0.782601672661939, \n . 1.29427844252395, 0.418478203876413, 0.801640808284711, -0.0503605108343614, \n . 0.0995726821949724, -0.400204627902808, 0.416098311923566, -0.750048744971254, \n . 0.661227183066763, 0.980132704748204, 0.608869560104139, -0.424003547431273, \n . -0.297869273930405, -0.961859128774599, 0.984892488653897, 0.642188047443991, \n . 0.958713677172584, 0.485115178556117, -0.219332839486468, -0.609635119753306, \n . -0.324048085411718, 0.661227183066763, 0.380399932630868, -0.709590581772861, \n . -0.000382779824584016, 0.492254854414656, 0.608869560104139, \n . -2.24938067526459, 0.582690748622827, -0.297869273930405, -0.77384766449972, \n . 0.399439068253641, -0.0384610510701283, 1.25144038737271, 0.16382976492183, \n . 0.632668479632604, 0.477975502697577, 1.25144038737271, 1.66554158716802, \n . 1.15624470925885, 1.53226763780861, -1.12607167352101, -0.0765393223156735, \n . 1.40613336430774, 1.27761919885403, 2.6865152349392, 0.642188047443991, \n . 1.3632953091565, -0.590595984130533, 0.463696150980498, -0.0384610510701283, \n . 0.984892488653897, 0.0995726821949724, 0.0876732224307394, 0.582690748622827, \n . 0.0876732224307394, 0.42085809582926, -0.0408409430229753, 0.0924330063364324, \n . -0.366096193559846, -0.431866311119495, -0.540404975070392, -1.6509495830448, \n . -0.385863168782691, -0.375081182297503, -0.788390664229727, -0.873568357462716, \n . -0.540404975070392, -1.55642750152465, -1.18948056147874, -1.3817593204646, \n . -1.34905396145953, -0.584970519209171, -1.39649470199436, -0.663319621001541, \n . -0.349923213832063, -0.519559801199028, -0.856676578635921, -0.400957949861955, \n . -0.743825120090948, -0.0674351679201248, -0.110563113860879, \n . -0.463852871025554, -0.397004554817386, -0.71363555793242, -1.27717405155827, \n . -0.837628402512088, -1.93559402625378, -0.734121332254278, -1.21104453444911, \n . -1.08669229031994, -0.807798239903066, -0.669788812892654, -0.904476718720256, \n . -1.26315746912753, -0.556937354347681, 0.00660113927816939, -1.04248614573067, \n . -1.50251756909871, -0.758919901170212, -1.39829169974189, -0.873568357462716, \n . -0.120985700796561, -0.4149745322927, -0.33087503770823, 0.0694960604417688, \n . -0.66727301604611, -0.823971219630849, -0.885787942145929, -0.862067571878515, \n . -1.05614332861191, -0.702134772348219, -0.132127086831256, -0.34237582329243, \n . -1.59488325332182, -1.21715432679072, -0.962340046190768, -0.443367096703696, \n . -0.696384379556119, 0.38648646310631, -0.747778515135517, -1.04068914798314, \n . -0.774374081798982, -0.639599250734126, -1.03781395158709, -0.051262188192342, \n . -0.675539205684755, -0.986060416458183, -1.08381709392389, -1.5535523051286, \n . -1.18768356373121, -0.561968948040769, -0.587845715605221, -0.866739766022096, \n . -1.21787312588973, -0.825408817828874, -0.676258004783767, -0.561609548491263, \n . -1.32677118939014, -0.543280171466442, -0.686680591719449, -0.595033706595347, \n . -1.24806268804826, -0.381909773738122, 0.0188207239613831, -0.795578655219852, \n . -1.17151058400342, -0.351001412480582, -0.325484044465635, -1.16899478715688, \n . -0.470681462466174, -0.184599421059173, -1.11508485473094, -0.00705604360306917, \n . -0.930353486284708, -1.34545996596446, -0.282356098524881, -0.183161822861148, \n . -0.368971389955896, -0.684164794872905, -0.852363784041845, -0.327281042213167, \n . -1.11149085923587, -1.06512831734956, -0.854520181338883, -0.875724754759754, \n . -0.376878180045034, -0.264026721500061, -0.913461707457913, -1.29909742407815, \n . -0.770780086303919, -0.929275287636189, -0.409942938599612, -0.640318049833139, \n . -0.71076036153637, -0.566281742634845, -0.915618104754951, -0.0221508246823331, \n . -0.344532220589468, -1.02451616825535, -0.230961962945483, -1.10681866509229, \n . -0.618754076862762, -1.10645926554279, -0.864583368725059, -0.841581797556657, \n . -0.487932640842475, -1.48382879252438, -0.429709913822457, -0.53681097957533, \n . -0.837987802061594, -0.178489628717566, -0.551905760654593, -0.859551775031971, \n . -1.56541249026231, -0.663319621001541, -0.73304313360576, -0.684524194422412, \n . -1.118678850226, -0.53285758453076, -0.705728767843282, -0.589283313803247, \n . -0.273730509336731, -0.774733481348488, -0.471759661114692, -0.923884294393596, \n . -0.944010669165947, -0.487573241292969, -1.19451215517183, -0.125657894940142, \n . -1.29406583038507, -0.940057274121378, -0.812829833596154, -1.1301796358102, \n . -0.75424770702663, -0.885069143046917, -0.949042262859035, -0.565203543986326, \n . -0.451273886792834, -0.32799984131218, -1.47017160964314, -1.35947654839521, \n . -0.655053431362896, -0.567000541733857, 0.321794544195179, 0.000131947387056579, \n . -0.352439010678606, -0.98821681375522, -0.422521922832332, -0.336984830049837, \n . -0.880037549353829, -0.969528037180893, -0.679133201179817, -0.61120668632313, \n . -0.678055002531298, -0.333390834554773, -0.872130759264691, -1.14635261553798, \n . -1.52300334342057, -0.283793696722907, -0.343094622391443, -0.524591394892116, \n . -0.982466420963119, -0.483979245797906, -0.519919200748534, -0.695665580457106, \n . -0.979591224567069, -0.53968617597138, -0.691352785863031, -0.90411731917075, \n . -1.36199234524175, -0.7639514948633, -0.602581097134979, -0.959464849794717, \n . -0.842659996205176, 0.0206177217089144, -1.28364324344938, -1.23835890021159, \n . -1.08381709392389, -1.03709515248807, -0.976716028171019, -0.598987101639916, \n . -0.581376523714108, -0.0990623282766775, -0.538248577773354, \n . -0.282715498074388, -0.289544089515007, -0.931431684933227, -0.333390834554773, \n . -1.10789686374081, -0.720104749823533, -0.0634817728755558, -0.12206389944508, \n . -0.748137914685023, -0.750294311982061, -0.136080481875825, -0.611925485422142, \n . -0.406348943104549, -0.486854442193956, -0.540404975070392, -1.29262823218704, \n . -0.193943809346336, -0.854160781789377, -0.480385250302843, -0.387300766980716, \n . -0.419287326886775, -1.31491100425643, -0.764310894412806, -1.29945682362766, \n . -0.747419115586011, -0.0429959985536974, -0.978872425468057, \n . -0.530341787684216, -0.311826861584397, -0.850207386744808, -0.320452450772547, \n . -0.371127787252933, -0.355314207074657, 0.185222715382792, -0.531779385882242, \n . -0.796297454318865, -0.699618975501675, 0.609314183800205, -0.676258004783767, \n . -0.0548561836874047, -0.618035277763749, 0.038947098733735, -0.589283313803247, \n . -1.29945682362766, -1.20493474210751, -0.653256433615365, -0.76682669125935, \n . -0.89441353133408, -0.474275457961236, -1.35444495470212, -0.946885865561998, \n . -0.320452450772547, -1.54959891008403, -0.366814992658858, -0.672304609739198, \n . -0.263667321950555, -0.712197959734395, -0.781921472338614, -0.806360641705041, \n . -0.965215242586818, -0.764670293962312, -1.78500561501065, -1.77206723122842, \n . -0.0659975697220995, -0.458821277332466, -0.283074897623894, \n . -0.375799981396515, -1.16216619571626, -1.14275862004292, -1.31527040380594, \n . -0.940057274121378, -0.585689318308184, -1.38858791190522, -0.544358370114961, \n . -1.18301136958762, -1.37960292316756, -0.831159210620975, -0.225211570153383, \n . -0.969528037180893, -1.78716201230769, 1.9822204629142, 1.56891098098198, \n . 1.29936131885227, -0.419287326886775, 0.217568674838357, 1.20591743598063, \n . 0.487118336968069, 0.932773778355859, 1.02981165672256, 1.4215571656844, \n . 2.20145418811304, -0.355314207074657, 0.789013958553346, 2.46381585925262, \n . 0.810577931523723, -0.412099335896649, 0.627284161275519, 1.33170727830783, \n . 1.78095671519068, 2.20145418811304, 1.18794745850532, 0.663224116226147, \n . 0.170846733402541, 0.447584386522378, 0.709946057661964, 0.289448584739614, \n . -0.355314207074657, 0.936367773850922, 3.26527685465163, 1.33170727830783, \n . 0.907615809890419, 0.174440728897603, 0.814171927018786, 1.95706249444876, \n . 0.170846733402541, 0.878863845929916, 0.566186237859451, 0.22116267033342, \n . 1.25263937741645, 1.10169156662381, 0.936367773850922, 1.2670153593967, \n . -0.00849364180109452, 2.75133549885765, 1.29217332786214, -0.813908032244673, \n . 0.443990391027315, -0.139315077821381, 1.15200750355469, -0.113438310256929, \n . 0.289448584739614, 0.289448584739614, -0.113438310256929, 1.07293960266331, \n . 0.925585787365733, 1.59406894944742, 1.24904538192139, -0.371127787252933, \n . -0.0336516102665344, 0.663224116226147, 0.659630120731084, 1.33170727830783, \n . 1.07293960266331, -0.708603964239332, 0.630878156770582, 1.20232344048557, \n . 0.0407440964812663, -0.0440741972022163, 0.447584386522378, -0.0138846350436885, \n . 0.756667999097781, 1.08731558464356, 0.400862445086561, 2.46381585925262, \n . 1.95706249444876, -0.445164094451227, -0.424318920579863, -0.0440741972022163, \n . -0.218742378262269, 1.07293960266331, -0.12206389944508, 0.932773778355859, \n . -0.144346671514469, 0.50149431894832, -0.419287326886775, 0.487118336968069, \n . 0.170846733402541, 1.02621766122749, 1.08012759365343, -0.708603964239332, \n . 0.332576530680368, -0.132127086831256, -0.0440741972022163, 1.33170727830783, \n . 1.10169156662381, -0.234555958440546, -0.371127787252933, -0.670507611991667, \n . -0.424318920579863, 1.2957673233572, -0.419287326886775, 0.904021814395356, \n . -0.708603964239332, 0.307418562214928, 1.20232344048557, 0.289448584739614, \n . 0.975901724296613, 1.09090958013862, -0.412099335896649, 0.875269850434854, \n . 0.961525742316362, 1.44312113865478, 1.18794745850532, 0.594938201819954, \n . 1.33170727830783, -0.592877309298309, 0.932773778355859, 0.814171927018786, \n . -0.537529778674342, 0.627284161275519, -0.12206389944508, 0.706352062166901, \n . -0.537529778674342, -0.00885304135060048, 0.479930345977943, \n . 3.26527685465163, 2.00737843137964, 0.332576530680368, -0.259354527356479, \n . 1.06215761617812, 0.382892467611247, 0.0989668235012842, 1.29217332786214, \n . -0.0440741972022163, -0.113797709806435, 0.814171927018786, 1.07293960266331, \n . 0.627284161275519, 1.13044353058431, -0.117751104851004, 0.850111881969414, \n . 1.16278949003988, -0.104453321519272, 1.29936131885227, 2.43865789078718, \n . -0.592877309298309, 0.961525742316362, 1.14481951256457, 0.925585787365733, \n . -0.0329328111675215, -0.371127787252933, -0.36465859536182, -0.00885304135060048, \n . 1.25263937741645, 0.332576530680368, 0.50149431894832, 0.206786688353169, \n . 2.75133549885765, 1.78095671519068, 1.78455071068575, 1.18794745850532, \n . 0.217568674838357, -0.0329328111675215, -0.145424870162988, 1.29217332786214, \n . 1.44312113865478, 0.8321419044941, 0.709946057661964, -0.104453321519272, \n . 1.52578303504122, 0.5518102558792, 0.217568674838357, -0.439413701659127, \n . 0.0407440964812663, 0.339764521670493, 0.178034724392666, 0.853705877464477, \n . -0.332312635906255, -0.439413701659127, 1.24904538192139, -0.223414572405851, \n . 1.52578303504122, 2.20145418811304, 1.45390312513997, 0.418832422561875, \n . 0.178034724392666, 0.709946057661964, -0.00885304135060048, -0.572391534976451, \n . 3.03526114296761, 1.29217332786214, 0.307418562214928, 1.55453499900173, \n . 1.3353012738029, 1.78095671519068, -0.323687046718104, 1.09090958013862, \n . 0.0989668235012842, -0.171661037276946, 2.00737843137964, 2.46381585925262, \n . -0.439413701659127, -0.145424870162988, 1.45390312513997, -0.92532189259162, \n . 0.0917788325111585, 1.2670153593967, 0.451178382017441, 1.48265508910047, \n . -0.592877309298309, 0.145688764937101, 0.627284161275519, 1.08731558464356, \n . -0.412099335896649, 0.975901724296613, 0.0917788325111585, 1.33170727830783, \n . -0.708603964239332, 0.745886012612592, 0.975901724296613, 0.307418562214928, \n . 1.08731558464356, 3.03526114296761, -0.572391534976451, 0.814171927018786, \n . 1.18075946751519, -0.117751104851004, 0.170846733402541, 0.447584386522378, \n . 0.451178382017441, -0.234555958440546, 0.178034724392666, 1.18794745850532, \n . -0.412099335896649, 0.0407440964812663, -0.145424870162988, 0.217568674838357, \n . 1.59406894944742, 0.267884611769237, 0.753074003602718, -0.259354527356479, \n . 1.65516687286349, 0.160064746917352, 1.33170727830783, 3.03526114296761, \n . 0.925585787365733, 0.199598697363043, 3.26527685465163, -0.145424870162988, \n . 0.907615809890419, 0.713540053157027, 1.95706249444876, 1.78095671519068, \n . 1.59406894944742, 0.904021814395356, 1.68032484132893, 0.753074003602718, \n . -0.670507611991667, 1.37483522424859, 1.9822204629142, 1.63000890439805, \n . 1.45390312513997, 1.07293960266331, 0.709946057661964, 1.63000890439805, \n . 1.2957673233572, -0.355314207074657, 3.20777292673063, 1.56891098098198, \n . 0.436802400037189, 0.0127109316197763, -0.075701357558769, 1.36764723325846, \n . 0.160064746917352, 0.605720188305142, 1.3353012738029, 1.29936131885227, \n . 1.9822204629142, 1.65516687286349, 0.878863845929916, 2.46381585925262, \n . 1.68032484132893, 2.46381585925262, 2.43865789078718, 1.20232344048557, \n . -0.113438310256929, -0.412550690165577, -0.523707636547415, -0.514584604230979, \n . -1.28740147335223, -0.425274919449027, -0.399346301286524, -0.721533389935396, \n . -0.790196212106467, -0.506421891105747, -1.23314343904922, -1.02331369577119, \n . -1.14575439264967, -1.12534760983659, -0.565721601162581, -1.18632787847803, \n . -0.641586817267681, -0.429596355809444, -0.556598568846145, -0.808202196941538, \n . -0.523707636547415, -0.707848841460742, -0.207042383247965, -0.181113765085463, \n . -0.447602340644515, -0.439439627519283, -0.689122617232268, -1.06508758058855, \n . -0.781553339385633, -1.42760807526798, -0.670876552599396, -1.05596454827212, \n . -0.965214384703358, -0.781793419183434, -0.65167016877532, -0.820206186831586, \n . -1.07541101189399, -0.618779236476591, -0.259859938764174, -0.969775900861576, \n . -1.21777833198996, -0.719132591957387, -1.18344692090442, -0.803880760581121, \n . -0.233931320601671, -0.443280904284098, -0.358772815458164, -0.152784348944951, \n . -0.677838866735624, -0.755144561627529, -0.848295523174297, -0.816604989864572, \n . -0.919119063525576, -0.733057220229842, -0.235371799388477, -0.367655767976799, \n . -1.28259987739621, -1.0514030321139, -0.855257837310524, -0.478332554763036, \n . -0.667035275834581, 0.341059795131599, -0.695124612177292, -0.891509886778467, \n . -0.764267593943965, -0.656951924326941, -0.913597228176154, -0.125415251995643, \n . -0.657912243518145, -0.877345178708211, -0.93280361200023, -1.22666128450859, \n . -1.04612127656228, -0.508342529488155, -0.550596573901121, -0.807001797952534, \n . -1.00986922709433, -0.76306719495496, -0.658872562709349, -0.553957691070335, \n . -1.08045268764781, -0.532350509268249, -0.665354717249974, -0.615178039509576, \n . -1.06292686240834, -0.501140135554126, -0.0303436520664677, -0.744581050524287, \n . -1.0009862745757, -0.406308615422752, -0.424554680055624, -1.02043273819758, \n . -0.460326569927965, -0.232730921612667, -0.98081957156042, -0.128776369164856, \n . -0.822126825213993, -1.10085947046089, -0.323481085181425, -0.274264726632231, \n . -0.390943508363491, -0.628142348590828, -0.837251852475453, -0.355651778086752, \n . -0.961373107938543, -0.939045686743055, -0.796678366647093, -0.794037488871282, \n . -0.425274919449027, -0.253377784223548, -0.840612969644666, -1.0761312512874, \n . -0.726334985891415, -0.819966107033785, -0.39814590229752, -0.598132373865709, \n . -0.713370676810164, -0.533550908257254, -0.82140658582059, -0.12205413482643, \n . -0.373177603326221, -0.898952360510297, -0.252177385234543, -0.969775900861576, \n . -0.640626498076477, -0.969535821063775, -0.804360920176723, -0.77050966868679, \n . -0.482173831527851, -1.18080604312861, -0.412790769963377, -0.498259177980515, \n . -0.766908471719775, -0.175832009533842, -0.561880324397766, -0.789956132308666, \n . -1.24106607237665, -0.615898278902979, -0.664394398058771, -0.62622171020842, \n . -0.993783880641671, -0.560199765813159, -0.672797190981804, -0.595971655685501, \n . -0.292030631669501, -0.701366686920117, -0.538112424415472, -0.842293528229273, \n . -0.835811373688647, -0.537392185022069, -1.025954573547, -0.232730921612667, \n . -1.09869875228069, -0.8744642211346, -0.76306719495496, -1.0000259553845, \n . -0.703047245504723, -0.805321239367927, -0.848775682769898, -0.605814927395339, \n . -0.542914020371491, -0.346768825568117, -1.19353027241206, -1.1032602684389, \n . -0.591170059729482, -0.579886309232837, 0.239986200257399, -0.0632345843651977, \n . -0.381820476047055, -0.959932629151737, -0.422634041673216, -0.378219279080041, \n . -0.844694326207282, -0.877345178708211, -0.6970452505597, -0.660793201091757, \n . -0.662953919271965, -0.339806511431889, -0.831009777732628, -1.0000259553845, \n . -1.20961561886472, -0.309796536706771, -0.432237233585254, -0.551796972890126, \n . -0.864140789829159, -0.511223487061766, -0.553477531474733, -0.645908253628098, \n . -0.883827333248837, -0.536912025426467, -0.653110647562126, -0.812283553504154, \n . -1.1267880886234, -0.730656422251832, -0.583727585997652, -0.859099114075339, \n . -0.788515653521861, -0.196959031740325, -1.076611410883, -1.03435736647003, \n . -0.971216379648382, -0.908075392826733, -0.857178475692932, -0.568602558736192, \n . -0.64902929099951, -0.154704987327359, -0.549636254709918, -0.304754860952951, \n . -0.316038611449595, -0.880226136281823, -0.365495049796591, -0.953690554408913, \n . -0.712650437416761, -0.152064109551548, -0.188316159019491, -0.734977858612249, \n . -0.70976947984315, -0.225528527678638, -0.588769261751472, -0.434397951765463, \n . -0.480733352741046, -0.523227476951813, -1.07373045330939, -0.22096701152042, \n . -0.781313259587832, -0.482173831527851, -0.468729362850998, -0.483134150719055, \n . -1.08477412400823, -0.790676371702069, -1.0780518896698, -0.69200357480588, \n . -0.123014454017634, -0.910476190804742, -0.555158090059339, -0.333084277093463, \n . -0.800039483816306, -0.32468148417043, -0.460566649725766, -0.401026859871131, \n . 0.021753664056338, -0.627662188995226, -0.762587035359358, -0.652150328370922, \n . 0.609709088870859, -0.62622171020842, -0.13741924188569, -0.619499475869993, \n . -0.11701245907261, -0.628622508186429, -1.17504412798139, -1.11790513610476, \n . -0.684321021276249, -0.749382646480306, -0.832930416115036, -0.58828910215587, \n . -1.1531968663815, -0.840372889846865, -0.401266939668932, -1.24082599257885, \n . -0.449042819431321, -0.647348732414903, -0.345568426579112, -0.703287325302524, \n . -0.756825120212136, -0.772910466664799, -0.894390844352078, -0.796438286849292, \n . -1.34285990664425, -1.36302660965953, -0.196238792346923, -0.479532953752041, \n . -0.368135927572401, -0.395985184117311, -0.992103322057064, -1.0019465937669, \n . -1.08621460279504, -0.863660630233557, -0.55275729208133, -1.13831191891784, \n . -0.537392185022069, -1.02379385536679, -1.12078609367837, -0.803400600985519, \n . -0.330683479115453, -0.845414565600685, -1.33757815109263, 1.85068156370396, \n . 1.55538341240879, 1.33210920045391, -0.488655986068477, 0.106981992275674, \n . 1.25528366515761, 0.462780252616679, 0.940779130038366, 1.00560067544462, \n . 1.59859777601296, 2.27322200783363, -0.397425662904117, 0.724707312017513, \n . 2.45568265416235, 0.808735241247845, -0.420473323493008, 0.512476770761475, \n . 1.32490680651988, 1.7858600182977, 2.27322200783363, 1.12323977636709, \n . 0.591703104035788, 0.0157516691113144, 0.315371256766897, 0.54152642629539, \n . 0.106741912477873, -0.397425662904117, 0.811136039225854, 4.22747156193334, \n . 1.22167249346547, 0.849548806874006, -0.0810004894024677, 0.707901726171447, \n . 2.27562280581164, 0.0157516691113144, 0.854350402830025, 0.376591605206139, \n . -0.0164190237940129, 1.36331957416803, 0.878358382610119, 0.811136039225854, \n . 1.32010521056386, -0.224088048891833, 3.05348135068671, 1.1256405743451, \n . -0.737138576792458, 0.39963926579503, -0.260100018561975, 1.18085892783931, \n . -0.229129724645652, 0.106741912477873, 0.106741912477873, -0.229129724645652, \n . 0.983993493642536, 0.959985513862442, 1.77865762436367, 0.923973544192299, \n . -0.463207527501576, -0.0447484399345246, 0.591703104035788, 0.419085729416907, \n . 1.32490680651988, 0.983993493642536, -0.714330996001368, 0.626034515121323, \n . 1.28649403887173, -0.051710754070752, -0.221927330711624, 0.315371256766897, \n . -0.0608337863871882, 0.69349693830339, 1.01760466533467, 0.160759866983087, \n . 2.45568265416235, 2.27562280581164, -0.564041042577974, -0.414711408345785, \n . -0.221927330711624, -0.336925553858278, 0.983993493642536, -0.2159253357666, \n . 0.940779130038366, -0.252417465032344, 0.456538177873854, -0.488655986068477, \n . 0.462780252616679, -0.0137781460182024, 0.959985513862442, 1.08722780669694, \n . -0.714330996001368, 0.181406729593968, -0.176312169129444, -0.221927330711624, \n . 1.34651398832197, 0.878358382610119, -0.332844197295662, -0.463207527501576, \n . -0.734977858612249, -0.414711408345785, 1.19046211975135, -0.488655986068477, \n . 0.631076190875143, -0.714330996001368, 0.172043617479731, 1.28649403887173, \n . 0.106741912477873, 0.839945614961968, 1.16405334199325, -0.420473323493008, \n . 0.811136039225854, 0.614270605029077, 1.39693074586017, 1.14244616019116, \n . 0.585461029292963, 1.32490680651988, -0.625981630410619, 0.940779130038366, \n . 0.707901726171447, -0.574124394085614, 0.512476770761475, -0.2159253357666, \n . 0.58450071010176, -0.574124394085614, -0.16766929640861, 0.4680620081683, \n . 4.22747156193334, 2.23721003816348, 0.181406729593968, -0.369816486157008, \n . 0.976791099708508, 0.288002159817589, -0.16022682267678, 1.1256405743451, \n . -0.221927330711624, -0.229609884241254, 0.707901726171447, 0.983993493642536, \n . 0.512476770761475, 1.0007990794886, -0.307875898324363, 0.791929655401778, \n . 1.2528828671796, -0.128776369164856, 1.33210920045391, 2.6477464924031, \n . -0.625981630410619, 0.614270605029077, 1.14964855412519, 0.959985513862442, \n . -0.1904768771997, -0.463207527501576, -0.524187796143017, -0.16766929640861, \n . 1.36331957416803, 0.181406729593968, 0.456538177873854, -0.0509905146773493, \n . 3.05348135068671, 1.7858600182977, 1.80746720009979, 1.12323977636709, \n . 0.106981992275674, -0.1904768771997, -0.383741114429463, 1.1256405743451, \n . 1.39693074586017, 0.753516887753627, 0.686294544369361, -0.128776369164856, \n . 1.26488685706965, 0.456298098076053, 0.0162318287069161, -0.496098459800306, \n . -0.051710754070752, 0.049122761005646, 0.0556049155462715, 0.813536837203864, \n . -0.429596355809444, -0.496098459800306, 1.26248605909164, -0.325881883159434, \n . 1.26488685706965, 2.27322200783363, 1.55058181645277, 0.355704662797456, \n . 0.0556049155462715, 0.686294544369361, -0.16766929640861, -0.556598568846145, \n . 3.62967286540898, 1.1256405743451, 0.172043617479731, 1.93951108889031, \n . 1.43294271553031, 1.7858600182977, -0.435598350754467, 1.16405334199325, \n . -0.16022682267678, -0.305955259941956, 2.23721003816348, 2.45568265416235, \n . -0.496098459800306, -0.383741114429463, 1.55058181645277, -0.881186455473026, \n . -0.023861497525842, 1.32010521056386, 0.0848946508779872, 1.50256585689258, \n . -0.625981630410619, 0.025835020618954, 0.512476770761475, 1.01760466533467, \n . -0.420473323493008, 0.839945614961968, -0.023861497525842, 1.22167249346547, \n . -0.714330996001368, 0.6454809787432, 0.839945614961968, 0.172043617479731, \n . 1.01760466533467, 3.62967286540898, -0.556598568846145, 0.707901726171447, \n . 1.14244616019116, -0.307875898324363, -0.0137781460182024, 0.315371256766897, \n . 0.0848946508779872, -0.332844197295662, 0.0556049155462715, 1.14244616019116, \n . -0.420473323493008, -0.051710754070752, -0.383741114429463, 0.106981992275674, \n . 1.77865762436367, 0.179726171009362, 0.727108109995522, -0.369816486157008, \n . 1.21687089750946, -0.127575970175852, 1.22167249346547, 3.62967286540898, \n . 0.959985513862442, -0.0596333873981834, 4.22747156193334, -0.383741114429463, \n . 0.849548806874006, 0.604667413117039, 2.2660196138996, 1.7858600182977, \n . 1.77865762436367, 0.631076190875143, 1.60580016994699, 0.727108109995522, \n . -0.734977858612249, 1.26248605909164, 1.85068156370396, 1.46175229126642, \n . 1.55058181645277, 0.983993493642536, 0.686294544369361, 1.46175229126642, \n . 1.19046211975135, -0.397425662904117, 4.23227315788936, 1.55538341240879, \n . 0.186448405347788, -0.051710754070752, -0.0944449580793209, 1.6346097456831, \n . -0.127575970175852, 0.503833898040641, 1.43294271553031, 1.33210920045391, \n . 1.85068156370396, 1.21687089750946, 0.854350402830025, 2.45568265416235, \n . 1.60580016994699, 2.45568265416235, 2.6477464924031, 1.28649403887173, \n . -0.229129724645652, 0.0208713785626164, 0.696329606637407, -0.532851329519293, \n . -0.799278210418001, -0.693542215909897, -1.43578107209507, -1.03509730343278, \n . -0.156514664855583, -1.17491924353889, 0.00208932690657127, 1.10675221689912, \n . -1.41073833655368, 0.480683828364303, 0.0570442187890722, 0.0236539047338821, \n . -0.401376967926981, 2.19889373912098, 0.128694267699169, 0.884150123197854, \n . 0.717198552921902, -0.0180839878351062, 1.09283958604279, -0.539112013404641, \n . -1.6653394812245, 0.327644888944679, 0.487640143792467, 0.341557519801009, \n . -0.532851329519293, 1.35717957231305, -1.20761392605127, 0.20938752666588, \n . 0.166954002554075, 1.16240274032444, -0.884840890184426, -0.688672795110182, \n . 0.431989620367149, 0.127998636156353, -1.33004507758697, 1.02327643176115, \n . 1.21805326374976, 0.0132194315916353, -0.199643820510205, -0.261555027820871, \n . 0.87719380776969, -1.83229105150046, -0.670586374996954, 1.21805326374976, \n . 0.633722767783925, 0.529378036361455, 1.31544167974406, 0.814586968916208, \n . -1.36065286547089, 1.23196589460609, 0.153737003240562, -1.2556125025056, \n . -0.239294818450743, 0.675460660352914, 0.00348058999220463, -0.253903080849888, \n . -0.761714107105911, -1.60273264237102, -0.304684183475491, -1.55403843437387, \n . 0.793718022631713, 0.258081734663032, -0.107820456858431, 0.0737393758166678, \n . 0.369382781513667, 0.216343842094044, -0.665716954197239, -0.42502844038274, \n . -0.0347791448627008, -2.43331670449389, -0.702585425966512, -0.479983332265241, \n . -0.335291971359416, 0.0173932208485334, -1.16100661268256, -0.695629110538347, \n . -1.94707025606517, -1.25769939713405, -0.113385509200962, 0.15025884552648, \n . 0.793718022631713, 0.188518580381385, -1.09005219531528, -0.610762062314738, \n . -1.17909303279579, -0.0716476166319738, 0.529378036361455, 0.598941190643102, \n . -0.907101099554553, 0.109216584500307, 0.543290667217785, -0.958577833722971, \n . -1.99367756943388, -0.89388410024104, -0.47233138529426, -1.06153130205981, \n . -0.226773450680047, -1.2681338702763, -0.109211719944063, -1.18674497976677, \n . 0.661548029496584, -0.0639956696609928, 0.265038050091197, -0.281032711019731, \n . -1.24726492399181, -2.30949428987255, 0.0591311134175218, -0.495287226207203, \n . 1.73977692086211, -0.257381238563971, -1.25282997633434, -0.943273939781009, \n . -0.795800052703918, -1.94359209835109, -0.72067184607974, -0.526590645633945, \n . -0.383290547813752, -0.856319996928951, -2.20723645307853, 0.278950680947527, \n . -0.902927310297654, 0.647635398640255, -0.623283430085434, -1.58255932762934, \n . -0.861189417728666, -1.90881052121027, -1.65073121882536, -0.971794833036485, \n . -0.650413060255276, -1.48238838546377, -0.664325691111605, -0.80136510504645, \n . 0.689373291209243, -0.861189417728666, -1.40169512649706, -1.52482190957558, \n . 0.598941190643102, 1.10675221689912, -0.748497107792398, 0.369382781513667, \n . -0.306075446561124, -1.4371723351807, -0.118254930000678, 0.550246982645949, \n . -1.00379388400604, -0.199643820510205, 0.223300157522209, 0.00139369536375507, \n . -0.882058364013161, 0.404164358654491, 1.21805326374976, 0.0925214274727129, \n . -0.948143360580725, -0.468157596037362, -1.72168563619264, -0.687977163567366, \n . 0.745023814634561, -0.699802899795246, -1.01283709406266, 0.237212788378538, \n . -1.60899332625637, -0.0507786703474801, -0.0438223549193153, \n . -1.24239550319209, -1.00657641017731, -0.47024449066581, -1.55264717128824, \n . -1.03022788263307, 1.82325270600009, -1.2257003461645, -1.95750472920742, \n . 0.466771197507973, -1.1415289294837, -1.89420225881112, -0.962751622979871, \n . 0.17182342335379, 0.445902251223479, -1.18535371668114, 0.585028559786772, \n . -1.18604934822396, -1.39682570569735, -1.66812200739577, 0.0904345328442633, \n . -0.74223642390705, 0.202431211237715, -1.52899569883248, -0.740149529278601, \n . -0.619805272371351, -1.23822171393519, 0.0166975893057172, -0.670586374996954, \n . 0.29981962723202, -0.83684231373009, 0.390251727798161, 0.696329606637407, \n . -1.13526824559835, 0.0466097456468254, -0.65945627031189, -1.1116167731426, \n . -1.28900281656079, 0.550246982645949, -0.573893590545465, -0.426419703468373, \n . -0.898057889497939, -1.24030860856364, -0.580154274430813, -0.648326165626827, \n . -1.11787745702794, 0.383295412369996, -0.396507547127265, -0.946752097495092, \n . -2.18149808599432, -0.912666151897085, 0.86328117691336, -0.81110394664588, \n . -0.350595865301378, -0.666412585740055, -0.959969096808605, -1.22778724079295, \n . -1.91576683663843, -0.863276312357115, -1.58812437997188, -1.019097777948, \n . -0.747105844706766, -1.00031572629196, 1.39196114945388, -0.558589696603502, \n . -0.693542215909897, -1.14848524491187, 0.223300157522209, -0.493200331578755, \n . -2.03193730428878, 0.494596459220631, -1.22291781999323, 0.668504344924749, \n . 0.139824372384233, 0.473727512936138, -0.163470980283748, 1.06501432433014, \n . -1.08309587988712, -1.32934944604415, -1.65351374499662, -0.112689877658146, \n . -0.571111064374199, 0.0932170590155291, 1.27370378717508, 4.58490993098147, \n . 1.94846638370705, 0.842412230628866, -1.14778961336905, 0.515465405505125, \n . 1.69108271286496, 2.75539897337416, -0.861189417728666, 0.116172899928472, \n . 0.425033304938984, 0.696329606637407, -0.518938698662964, 1.8997721757099, \n . 0.870237492341525, 0.682416975781079, 0.285906996375691, -0.0431267233764991, \n . 1.81629639057192, -1.14848524491187, -0.751975265506481, -0.634413534770497, \n . -0.749888370878032, -0.118950561543494, -0.349900233758562, -0.219121503709066, \n . -0.606588273057839, -0.875102048584996, -0.127298140057292, -1.02466283029054, \n . -0.354074023015461, -1.13109445634146, 0.19547489580955, -1.13109445634146, \n . -0.339465760616315, 0.125216109985087, -1.59995011619976, -3.12060066879656, \n . 2.44236477910674, 0.18156226495322, -0.416680861868943, 1.27370378717508, \n . -0.937708887438478, 0.0215670101054326, 0.103651532157776, -0.514764909406065, \n . -0.733888845393252, -0.223295292965964, 1.15544642489628, -0.341552655244764, \n . -0.198948188967388, 3.28407894591467, -0.221904029880332, -1.10396482617161, \n . -0.54328580266154, -0.458418754437931, 0.612853821499432, 1.15544642489628, \n . 0.605897506071267, 0.515465405505125, 1.28761641803141, -0.0966903521733667, \n . 0.974582223763995, 1.25283484089058, -0.341552655244764, 0.86328117691336, \n . 1.16240274032444, 0.731111183778231, -0.440332334324702, 0.682416975781079, \n . 1.20414063289343, -0.911274888811452, 1.28761641803141, -0.214947714452167, \n . 1.15544642489628, 1.44761167287919, -0.969707938408035, -0.464679438323279, \n . 0.86328117691336, 0.174605949525056, 0.550246982645949, 1.21109694832159, \n . -0.340161392159131, 0.152345740154929, 1.01632011633298, 0.438945935795314, \n . -0.254598712392706, 0.085565112044548, 1.25283484089058, 1.25283484089058, \n . 0.085565112044548, -0.852841839214869, -1.06570509131671, 0.939800646623172, \n . -0.00625825160722602, 0.459814882079808, -0.994055042406612, \n . 0.515465405505125, 1.46848061916369, -0.458418754437931, -0.852841839214869, \n . 0.932844331195007, -0.621892166999801, -1.20274450525155, -0.607283904600655, \n . 0.515465405505125, -0.0966903521733667, -0.482070226893691, -0.00208446235032689, \n . -0.242077344622009, 0.633722767783925, 3.28407894591467, -0.911274888811452, \n . 0.786761707203548, -0.487635279236222, 0.515465405505125, 2.42149583282225, \n . -0.852841839214869, -0.212165188280901, -0.514764909406065, 0.0514791664465407, \n . -0.0159970932066567, 1.27370378717508, 0.103651532157776, 0.745023814634561, \n . 0.313732258088349, 0.397208043226326, 0.932844331195007, 1.35022325688489, \n . -0.74223642390705, 0.515465405505125, -0.412507072612044, -0.464679438323279, \n . 0.591984875214937, 0.459814882079808, 0.807630653488043, -0.487635279236222, \n . 0.108520952957491, 1.27370378717508, 1.45456798830736, 0.932844331195007, \n . 0.230256472950373, -1.20274450525155, 1.25283484089058, 0.619810136927596, \n . -0.924491888124965, -1.10396482617161, -0.500852278549736, 1.77455849800293, \n . 0.765892760919054, 1.00936380090482, -0.937013255895662, -0.458418754437931, \n . 0.411120674082656, -0.514764909406065, 1.20414063289343, 1.02327643176115, \n . -0.54328580266154, -0.212165188280901, 0.172519054896607, 1.02327643176115, \n . 1.37109220316938, -0.756149054763379, 1.16240274032444, -0.166949137997831, \n . 1.35022325688489, 0.223300157522209, 0.431989620367149, -0.900144784126389, \n . 0.480683828364303, -0.340161392159131, 0.515465405505125, 0.00208932690657127, \n . 1.20414063289343, -0.852841839214869, -0.54328580266154, 0.362426466085502, \n . 0.696329606637407, 0.258081734663032, 0.0570442187890722, 0.0820869543304651, \n . -0.416680861868943, 0.383295412369996, 0.411120674082656, 1.77455849800293, \n . 1.21805326374976, -1.06570509131671, 1.14153379403995, 0.459814882079808, \n . 2.07368006141402, 1.37109220316938, -0.969707938408035, 1.35022325688489, \n . -0.0159970932066567, 0.508509090076961, 1.21109694832159, 0.612853821499432, \n . -0.242077344622009, 0.605897506071267, -0.937708887438478, 1.14153379403995, \n . 1.08588327061463, -0.340161392159131, 0.765892760919054, 0.647635398640255, \n . -1.65420937653944, 0.0820869543304651, 1.41283009573837, 0.230256472950373, \n . 0.612853821499432, -0.024344671720454, -0.607283904600655, 1.86499059856907, \n . 0.348513835229173, 0.550246982645949, 0.285906996375691, -0.024344671720454, \n . -0.466766332951728, 0.842412230628866, 1.41283009573837, 1.15544642489628, \n . -0.0452136180049486, -0.614935851571636, 0.348513835229173, -1.65420937653944, \n . 1.37109220316938, -0.482765858436507, 0.828499599772536, -0.340161392159131, \n . 0.230256472950373, -0.253903080849888, -0.210773925195268, 0.612853821499432, \n . 0.911975384910513, -0.924491888124965, 0.480683828364303, -0.198948188967388, \n . -0.166949137997831, 3.28407894591467, -0.024344671720454, 1.08588327061463, \n . -0.0452136180049486, 1.75368955171844, -0.381899284728119, 0.174605949525056, \n . 0.932844331195007, 0.223300157522209, 0.411120674082656, 0.814586968916208, \n . -0.54328580266154, -0.242077344622009, -1.10396482617161, 0.619810136927596, \n . -0.381899284728119, 0.731111183778231, 0.932844331195007, 0.18156226495322, \n . 0.619810136927596, 0.230256472950373, -0.242077344622009, 0.828499599772536, \n . -0.482765858436507, 1.20414063289343, 0.431989620367149, 0.696329606637407, \n . 0.745023814634561, -0.0966903521733667, 0.932844331195007, 0.591984875214937, \n . 0.348513835229173, 1.00936380090482, -1.10396482617161, -0.607283904600655, \n . 1.08588327061463, -0.937708887438478, 0.939800646623172, -0.0194752509207386, \n . -0.807625788931798, 0.223300157522209, 2.16411216198016, 0.137737477755783, \n . 0.731111183778231, 0.828499599772536, -1.06570509131671, 2.50497161796023, \n . 1.16240274032444, 1.08588327061463, -0.440332334324702, -0.557894065060686, \n . -0.28311960564818, 0.612853821499432, 0.939800646623172, 1.45456798830736, \n . 1.33631062602856, -0.807625788931798, 0.807630653488043, 1.35717957231305, \n . 2.44236477910674, 0.86328117691336, -0.0452136180049486, -0.852841839214869, \n . -1.65420937653944, 0.86328117691336, 0.108520952957491, -0.341552655244764, \n . 0.758936445490889, 0.18156226495322, 0.355470150657338, 0.341557519801009, \n . -0.25181618622144, -0.194774399710489, 0.137737477755783, 0.216343842094044, \n . -0.210773925195268, -0.416680861868943, 2.44236477910674, 2.16411216198016, \n . -0.214947714452167, 3.28407894591467, 1.33631062602856, 3.28407894591467, \n . 0.383295412369996, -1.20274450525155, 0.085565112044548, -0.563883019821346, \n . 0.210678530536626, -1.30319871533914, -0.934303398093613, -0.636916497879602, \n . -0.914647055971205, -1.13628925852387, -1.0139454739344, -1.2993013371597, \n . -1.04800517019823, -0.575405703134482, -0.458484357751196, -0.624207655990115, \n . -1.05444431675557, 0.652946228290795, -0.784169612572465, -0.167197701644139, \n . -0.323770633722627, -0.35494965915817, 0.659724277298522, -0.727234000907561, \n . 0.327599875919912, -0.483054785404205, -1.08477608606515, -0.557782775714392, \n . -0.745534733228423, -1.04309108466763, -0.66623155983802, -0.658945157154714, \n . -1.2571079820866, -0.298183498718459, -0.487799419709614, -0.21803306920209, \n . -0.78654192972517, -0.82721022377153, -0.517283932893225, 0.107313283168793, \n . 1.84249382914684, 0.266597434850371, -0.551682531607438, -0.611329362875434, \n . 0.16492669973447, -0.808570589000281, -0.079083064543692, -0.700121804876654, \n . -0.901599311631331, 1.12063160982394, -0.330040329054774, -0.908546811864251, \n . -0.0163861112222196, -0.333937707234217, -1.07054218314892, 0.254735849086849, \n . -0.211255020194363, -0.860931017584971, 0.269986459354235, 0.768173061422149, \n . -1.07494791500394, -0.501355517725067, -0.809587296351441, -0.717405829846357, \n . -1.05325815817922, -1.31133237414841, -0.00791354996256141, -0.221422093705953, \n . -0.969379801708598, -0.60522911876848, -0.758413026343104, -0.968193643132246, \n . -1.2123728586356, -1.21677859049062, 0.251346824582986, -1.61295555499225, \n . -1.30184310553759, -0.559477287966324, -1.14577852713469, -0.900752055505365, \n . -0.712322293090562, -0.822804491916508, -1.54415835756383, -1.03207675503007, \n . -0.57099997127946, -0.148558066872891, -0.715880768819619, 0.571609640198074, \n . -0.885670896463173, -0.77213857558375, -0.940403642200566, -0.465262406758922, \n . 0.0785065748859546, -0.500677712824295, -1.09511261080193, -0.649455888543896, \n . -0.632849668474966, -0.084166601299487, -1.29523450775506, -1.24880487205213, \n . -0.764513270450058, -0.180753799659593, -0.817890406385906, -1.36640402233619, \n . 0.303876704392869, -0.787897539526715, -0.929558763788204, -0.715541866369232, \n . -0.618276863108354, -0.92616973928434, -0.541854360546235, -1.48807000202489, \n . -0.652167108146987, -1.14679523448585, -0.719608695773868, -1.28523688546866, \n . -1.25473566493389, -1.22694566400221, -0.22820014271368, -1.30946841067129, \n . -1.09274029364922, -0.276832644344119, -0.887195957489912, -1.14137279527966, \n . -1.05681663390827, -0.789592051778647, -0.223116605957885, -0.809756747576634, \n . -0.637594302780375, -0.97751346051787, -1.05156364592728, -1.4133420117147, \n . -1.3289553015685, -1.30845170332013, -1.0512247434769, -1.34573097286262, \n . -0.59455369158131, -0.92989766623859, -0.950570715712157, -1.291676032026, \n . -1.39707469409615, -1.35606749759941, -0.0587489175205117, -0.444419906060163, \n . -0.832293760527325, -0.64267783953617, -1.04224382854166, -1.2818478609648, \n . -0.0350257459934682, -0.792642173832124, -1.18593846750547, -0.252770570366689, \n . -0.699952353651461, -0.0113025744664246, -0.377656123334055, \n . -0.39985423383436, -0.707577658785153, -0.389348257872383, -0.959551630647395, \n . -0.943962117929623, -0.913799799845239, -0.182448311911525, 0.268291947102303, \n . -1.01072590065573, -0.636916497879602, -0.932100532166101, -1.49230628265472, \n . -0.593875886680537, -0.506439054480862, -0.766377233927183, -0.861269920035357, \n . 0.871538308789982, -1.1405255391537, -0.662334181658577, -0.0587489175205117, \n . -0.741806806274173, -0.123140383093916, 0.256430361338781, -0.615735094730456, \n . -1.12273316050842, -0.0536653807647167, -0.663350889009736, -0.682668328681758, \n . -1.03292401115604, 0.00225352354902875, -0.43408338132338, -1.13340858769559, \n . -0.602856801615775, -0.444081003609777, -1.16679047905864, -0.677245889475576, \n . -0.532195640710224, -0.835513333805995, -1.04105766996531, -0.915663763322364, \n . -0.565408080848085, -0.959551630647395, -0.928372605211851, -0.632849668474966, \n . 1.16977246512996, -0.52931496988194, -1.27845883646094, -0.224811118209817, \n . -0.968193643132246, -1.291676032026, -1.1750935890931, 0.288626094125483, \n . -0.742654062400139, -0.605568021218866, -0.942437056902884, -0.995644741613539, \n . -0.0553598930166485, -0.802978698568907, -1.18526066260469, -0.379350635585986, \n . -0.434930637449345, -0.619632472909899, -0.138390993361301, -0.848391626920676, \n . -0.37528380618135, -1.02123187661771, -0.683007231132144, -1.05935840228617, \n . -1.08172596401167, -1.15747066167302, -1.05630828023269, -0.949215105910611, \n . -0.925661385608761, 0.131036454695837, -0.0960281870630089, -1.02157077906809, \n . 0.571609640198074, -0.880926262157764, -0.924644678257602, -0.492713505240216, \n . -0.129918432101643, -0.540159848294303, -1.04004096261415, -0.547107348527223, \n . -1.0388548040378, 0.0158096215644824, -0.593028630554571, 0.259819385842644, \n . 0.619055983252162, -0.371725330452294, -1.06020565841214, -0.887873762390684, \n . -1.25626072596063, -0.527281555179622, -0.648439181192737, 0.369962682218204, \n . -0.102806236070736, 1.85266090265843, 1.79335297384082, 0.0107260848086872, \n . -0.304283742825413, -0.501186066499874, 0.873232821041914, 0.1344254791997, \n . -1.19356377263916, -0.128223919849711, -0.648100278742351, -0.0129970867183564, \n . -0.872623152123299, -0.288355327657255, -0.414765941651358, -0.295472279115368, \n . -0.339529597665592, -0.288863681332834, 0.68853098558136, -1.11476895292434, \n . 0.0903681606494764, 0.142898040459358, -0.776035953763193, -0.216338556950158, \n . -0.798064613038305, -1.09511261080193, -0.574558447008516, -1.08901236669498, \n . -0.552868690183791, -1.22389554194874, -0.991577912208903, -0.954468093891599, \n . -0.669790035567077, -1.09900998898137, -0.211255020194363, -0.0333312337415364, \n . -1.33844457017932, -1.20220578512401, 2.74905788393029, 0.625834032259888, \n . -0.024858672481878, 0.14459255271129, -0.243450752981065, -0.189226360919251, \n . -0.0604434297724434, -0.19769892217891, 0.0666449891224327, -0.209560507942432, \n . 1.59001150360902, -0.609126496947923, -0.0943336748110771, 2.91681459687152, \n . -0.296150084016141, -0.919391690276614, 0.0886736483975447, 0.342850486187297, \n . 1.3697249108579, 1.59001150360902, 1.19180112440507, 0.774951110429876, \n . 0.705476108100677, 0.322516339164117, 0.880010870049641, 1.0274334359677, \n . -0.609126496947923, 0.915595627340206, 0.62752854451182, 1.17316148963382, \n . 0.434354147791608, 1.67643162845753, 0.574998664701938, -0.00113550095483448, \n . 0.705476108100677, -0.135001968857438, 0.722421230619994, 1.22738588169564, \n . -0.526773201504043, 1.76962980231377, 0.915595627340206, -0.0977226993149406, \n . 1.22399685719177, 2.06278042189796, 1.55442674631845, -0.939217483624214, \n . 0.52755232164785, 0.0141151093125506, 0.271680971606166, 0.102229746412998, \n . 1.0274334359677, 1.0274334359677, 0.102229746412998, 0.478411466341832, \n . -0.580997593565856, 0.0225876705722091, 2.22375908583147, 0.491967564357285, \n . -1.16102913740207, 0.774951110429876, 1.9153578559799, 0.342850486187297, \n . 0.478411466341832, 0.62752854451182, -0.750618269984218, -0.490171736862318, \n . -0.316653682264514, 1.46122857246221, 0.322516339164117, -0.741467903823787, \n . -0.0485818440089218, 0.971514531653952, 1.11215904856428, 2.91681459687152, \n . -0.00113550095483448, 1.10707551180849, -0.875842725401969, 1.46122857246221, \n . 1.0545456319986, 0.478411466341832, -0.255820692420166, -0.19769892217891, \n . -0.0807775767956238, -0.417138258804063, 0.14459255271129, -0.0604434297724434, \n . 0.934235262111454, 0.520774272640124, -0.268698985534847, 0.62752854451182, \n . 0.293709630881278, -0.816873699034747, 1.46122857246221, 0.283542557369688, \n . 1.76962980231377, -0.0214696479780148, 0.491967564357285, 0.93931879886725, \n . -0.875842725401969, 0.886788919057367, 0.14459255271129, 2.76261398194574, \n . 0.62752854451182, 0.234401702063669, -0.490171736862318, 1.0274334359677, \n . 1.25619258997847, -0.0265531847338097, -0.919391690276614, 0.102229746412998, \n . 2.4237115315594, 0.844426112759075, 0.881705382301572, -0.802300893668134, \n . 0.342850486187297, 0.351323047446956, -0.19769892217891, 0.574998664701938, \n . 0.197122432521172, 0.0886736483975447, -0.255820692420166, 0.28523706962162, \n . 0.197122432521172, 0.564831591190348, -0.875503822951583, 0.62752854451182, \n . 0.908817578332479, 0.293709630881278, 0.227623653055943, 0.502134637868875, \n . -0.2078659956905, 1.41378222940812, 1.55442674631845, 1.46122857246221, \n . -0.00791354996256141, 0.574998664701938, 0.478411466341832, 0.0886736483975447, \n . 0.69869805909295, 2.14750603449454, 0.290320606377415, -0.201087946682773, \n . -0.7213032080258, -0.024858672481878, 1.62729077315151, 0.351323047446956, \n . 2.4237115315594, 0.841037088255212, -0.580997593565856, 0.761395012414423, \n . 0.491967564357285, 1.3324456413154, 0.564831591190348, -0.526773201504043, \n . 0.293709630881278, -0.417138258804063, 1.59509504036481, 2.06278042189796, \n . 1.3697249108579, 1.38158649662142, 1.19180112440507, -0.243450752981065, \n . 0.761395012414423, 1.94416456426274, 1.55442674631845, 0.844426112759075, \n . 0.173399260994129, -0.476954541297251, -0.7213032080258, 2.75244690843415, \n . -0.17736477515573, 0.835953551499417, -0.167197701644139, -0.316653682264514, \n . 2.06447493414989, 0.0988407219091346, -0.0773885522917603, 0.185260846757651, \n . -0.167197701644139, 0.283542557369688, 0.225929140804011, 2.75244690843415, \n . 1.59001150360902, 0.0496998666031158, -0.38545087969294, 0.0988407219091346, \n . -0.476954541297251, 0.564831591190348, -0.965143521078769, 1.30194442078063, \n . 1.55442674631845, 0.234401702063669, -0.490510639312705, -0.118056846338121, \n . 1.3697249108579, 0.547886468671031, -0.0265531847338097, 1.41378222940812, \n . 0.271680971606166, 0.908817578332479, 2.91681459687152, -0.167197701644139, \n . 1.94416456426274, 0.0496998666031158, 0.122563893436178, -0.185837336415388, \n . -0.0977226993149406, 3.33535912309865, 0.780034647185671, 0.351323047446956, \n . 0.131036454695837, 0.0886736483975447, 0.971514531653952, -0.919391690276614, \n . 1.25619258997847, -0.185837336415388, 1.17316148963382, 0.62752854451182, \n . 0.242874263323328, 1.25619258997847, 0.234401702063669, 0.971514531653952, \n . 1.30194442078063, -0.965143521078769, 0.574998664701938, 0.278459020613893, \n . 2.14750603449454, 0.934235262111454, 0.322516339164117, 3.33535912309865, \n . -0.0214696479780148, 0.0988407219091346, 0.881705382301572, -0.919391690276614, \n . -0.316653682264514, 1.94416456426274, -0.243450752981065, 0.0225876705722091, \n . -0.0146915989702881, -0.506439054480862, 0.227623653055943, 3.91149328875542, \n . 1.82893773113138, 1.17316148963382, 1.30194442078063, -0.580997593565856, \n . 1.92891395399535, 0.62752854451182, 1.94416456426274, 0.434354147791608, \n . 0.146287064963222, 0.219151091796284, 1.3697249108579, 0.0225876705722091, \n . 2.76261398194574, 1.59509504036481, -0.506439054480862, 0.93931879886725, \n . 1.23585844295529, 2.74905788393029, 1.84757736590263, 0.0496998666031158, \n . 0.478411466341832, -0.476954541297251, 1.84757736590263, 0.886788919057367, \n . -0.609126496947923, 1.42733832742357, 0.625834032259888, 1.26635966349006, \n . -0.28598301050455, -1.07189779295047, -0.00452452545869794, 1.82893773113138, \n . 0.000559011297097017, -0.118056846338121, -0.024858672481878, \n . 2.74905788393029, 3.91149328875542, -0.135001968857438, 2.91681459687152, \n . 1.59509504036481, 2.91681459687152, 1.62729077315151, -0.490171736862318, \n . 0.102229746412998, -0.436547700151441, -0.663138342412486, -0.879999424652781, \n . -0.985294885321798, -0.643354903703626, -0.956214311481997, -0.943782095899926, \n . -0.828757075210159, -1.14948661598309, -0.934160642101628, -1.039780421438, \n . -0.509627506529526, -0.922160851409369, -0.762055535956788, -0.226605416148125, \n . -0.792433384466022, -0.413521074768997, -0.73654246745793, -0.660651899296072, \n . 0.106794173896277, -0.708218637175299, -0.0795809536123316, -0.821622064528275, \n . -0.804433175158281, -0.727353438549443, -0.887783072669382, -1.08314182726382, \n . -0.703353857164924, -1.15696756657683, -0.89935043847183, -0.491681873602363, \n . -0.833189430330723, -0.392656573835608, -0.871242820634105, -0.602058326726661, \n . -0.688435198466439, -0.00563629745462395, 2.08946229368043, -0.456871669972565, \n . -0.710272655401902, -0.797190058253945, -0.155579627996642, -0.777298513322632, \n . -0.201092347649266, -0.282172014488858, -1.00345673069387, 0.073281244935912, \n . -0.848324301474114, -0.768650015526408, -0.655895225508149, -0.937403828775212, \n . -0.913620459835598, -0.755893481276979, -0.239470056620006, -0.845513539690341, \n . 0.271115632024516, 3.28403605178374, -0.942701033675399, -0.152336441323059, \n . -0.736974892347741, -0.600220520944963, -0.943782095899926, -1.12356274383891, \n . -0.417196686332391, -0.57643715200535, -0.883350717548817, -0.875675175754669, \n . -0.725948057657557, -0.901512562920886, -1.15696756657683, -1.15696756657683, \n . 0.255980760881125, -1.13972462409561, -1.05758551627598, -0.488763005596138, \n . -1.13970300285112, -0.745190965254153, -0.741407247468306, -0.820541002303747, \n . -1.15696756657683, -0.738272167017175, -0.704326813166999, -0.291577255842251, \n . -0.967133039949729, -0.215902900125298, -0.520005703884994, -0.868432058850333, \n . -0.532762238134423, -0.736650573680383, -0.307252658097905, -0.965835765280295, \n . -0.772758051979614, -0.538167549257062, -1.08515260300144, -0.453736589521434, \n . -0.980430105311422, -0.978376087084819, -0.998916269350849, 0.0354440670774358, \n . -0.648327789936454, -1.04313171433404, 0.516516756992347, -0.649192639716077, \n . -0.634706405907403, -0.899782863361641, -0.689083835801156, -0.871783351746369, \n . -0.71675902874907, -1.07859055529855, -0.80400075026847, -1.0377264032114, \n . -0.516005773654241, -1.1408921712981, -0.941079440338607, -1.13685980920061, \n . -0.446277260172192, -0.912647503833523, -0.897620738912586, -0.51481660520726, \n . -1.04205065210951, -1.02334827562518, -0.889404666006174, -0.887242541557118, \n . -0.418602067224278, -0.90864757360277, -0.7954603586947, -0.943565883455021, \n . -1.14117324747647, -1.11717366609195, -1.12715187042435, -1.1076819397606, \n . -0.985835416434061, -1.00053786268764, -0.718921153198125, -1.00918636048386, \n . -1.15696756657683, -1.10861165327369, -1.03556427876234, -1.01188901604518, \n . -0.429845114359368, -0.746163921256228, -0.941403759005965, -0.811784398285071, \n . -0.966160083947654, -1.14025434458563, -0.388656643604855, -1.10284959161696, \n . -1.1464412636966, -0.752866507048301, -0.885512841997873, -0.291361043397345, \n . -0.246496961079438, -0.573518283999124, -0.723894039430954, -0.769839183973389, \n . -1.07577979351478, -0.877296769091461, -0.669949034427012, -0.0434734753131001, \n . -0.118823512362694, -0.994592020452737, -0.64659809037721, -0.863999703729768, \n . -1.14405968361596, -0.86637804062373, -0.523248890558577, -0.790163153794513, \n . -0.880648061987498, 1.30785430534676, -1.01956455783933, -0.697624227374926, \n . -0.302928409199794, -0.773622901759237, -0.298279841634324, -0.520005703884994, \n . -0.417629111222203, -0.935890341660873, -0.0683379064772415, \n . -0.949079300800113, -1.15696756657683, -0.867134784180899, -0.229416177931897, \n . -0.358062582650716, -0.863783491284863, -0.718380622085861, -0.800649457372434, \n . -0.928971543423894, -0.622490402770238, -0.494708847831041, -0.809838486280921, \n . -0.856107949490715, -0.753190825715659, -0.880756168209951, -0.901836881588244, \n . -1.06015844437035, -0.564004936423279, 0.410572658988613, -1.0603854674375, \n . -1.13026532963099, -0.472114647338408, -0.766271678632447, -1.00897014803896, \n . -1.00540264269802, -0.320117298569787, -0.795244146249794, -0.962700684829165, \n . -0.77492017642867, -0.931349880317856, -0.134607020840801, -1.04291550188913, \n . -0.941511865228418, -0.568761610211202, -0.717083347416428, -0.203795003210586, \n . -0.208119252108698, -0.718596834530767, -0.411575162764847, -0.836324510781854, \n . -0.852216125482414, -0.857297117937695, -1.02659146229876, -0.990375877777079, \n . -0.781190337330932, -0.792973915578286, -0.631679431678725, -0.0650947198036578, \n . 0.0159849470359339, -0.997078463569152, -0.054284097558379, -0.838270422786005, \n . -0.901080138031075, -0.558167200410828, -0.604004238730811, -0.526167758564803, \n . -0.916539327841824, -0.583139737797423, -0.833189430330723, -0.531464963464989, \n . -0.665300466861542, 0.13057754283589, 0.512192508094235, -0.694381040701342, \n . -0.971673501292746, -0.676435407774179, -1.07942297321144, -0.419250704558995, \n . -0.766812209744711, -0.322279423018843, -0.516113879876693, -0.10509402211119, \n . 0.127334356162307, -0.273199198025277, -0.429845114359368, -0.691894597584928, \n . -0.63535504324212, -0.796757633364134, -1.10219014366, -0.574815558668558, \n . -0.879675105985423, -0.70281332605266, -0.837189360561477, -0.0650947198036578, \n . -0.748217939482831, -0.585950499581195, -0.702921432275113, -0.588004517807798, \n . -0.668867972202484, -1.15696756657683, -0.156768796443623, -0.0661757820281857, \n . -0.834054280110346, -0.758271818170941, -0.835459661002232, -1.0475640694546, \n . -0.685840649127572, -0.904323324704658, -0.635463149464572, -0.941079440338607, \n . -0.724975101655482, -0.487249518481799, -1.1026441897943, -1.15696756657683, \n . 0.0451736270981868, -0.674597601992482, -1.15696756657683, -1.15696756657683, \n . 3.45268175881009, 0.931644651211056, -0.0976346927619474, 0.168414720694366, \n . -0.0826079278410097, 0.399762036743335, -0.0683379064772415, \n . 0.0105796359132944, 0.132739667284946, 0.0289576937302686, 2.65161465043493, \n . -0.585626180913837, 0.0613895604661052, 3.45700600770821, 0.0894971783038304, \n . -0.820757214748653, -0.0369871019659327, 0.615974481648913, 1.48947275906745, \n . 2.65161465043493, 1.45595983010708, 1.17704577617889, 0.887321100005413, \n . 0.300304312086769, 0.848402859922409, 1.14893815834116, -0.585626180913837, \n . 0.977049264641228, 2.30351261413695, 1.31109749202035, -0.0110416085772634, \n . 1.0883986737676, 0.758674695286594, 0.274358818698099, 0.887321100005413, \n . 0.453815147969729, 0.907861282271443, 1.03758874921479, -0.179471103158709, \n . 1.12083054050344, 0.977049264641228, 0.485165952481038, 0.383546103375416, \n . 2.48405000563311, 0.771647441980929, -0.866702359291088, 0.491652325828205, \n . 0.424626467907476, 0.218143583022649, 0.118685858366083, 1.14893815834116, \n . 1.14893815834116, 0.118685858366083, 0.0473357515472427, -0.15471477821702, \n . 1.4797431990467, 1.07542592707327, -0.0924455940842134, -0.650381808163057, \n . 1.17704577617889, 1.25272013189584, 0.615974481648913, 0.0473357515472427, \n . 0.159766222898143, -0.540870204818382, 0.0916593027528862, -0.34076558705827, \n . 1.15110028279022, 0.300304312086769, -0.589085580032326, 0.0646327471396889, \n . 0.634352539465887, 0.948941646803503, 3.45700600770821, 0.274358818698099, \n . 0.675432903997947, -0.523681315448389, 1.15110028279022, 0.527327379237626, \n . 0.0473357515472427, 0.144631351754753, 0.0105796359132944, 0.26895350757546, \n . -0.177417084932106, 0.168414720694366, -0.0683379064772415, 0.662460157303612, \n . 0.91975296674125, 0.632190415016831, 0.159766222898143, 0.440842401275394, \n . -0.249956360197927, 1.15110028279022, 0.489490201379149, 1.12083054050344, \n . 0.0603084982415774, -0.0924455940842134, 0.636514663914942, -0.523681315448389, \n . 0.61705554387344, 0.168414720694366, 2.08730016923137, 0.159766222898143, \n . -0.0294196663942375, 0.0916593027528862, 1.14893815834116, 1.35001573210335, \n . 0.0808486805076073, -0.820757214748653, 0.430031779030116, 2.29053986744261, \n . 1.2083965806902, 1.55433649253912, -0.368548886228637, 0.615974481648913, \n . 0.0159849470359339, 0.0105796359132944, 0.758674695286594, 0.0624706226906331, \n . -0.0369871019659327, 0.144631351754753, 0.67867609067153, 0.0624706226906331, \n . 0.21273827190001, -0.844432477465813, 2.30351261413695, 0.951103771252558, \n . 0.440842401275394, -0.314928199892053, 0.600839610505522, -0.156876902666076, \n . 0.677595028447002, 0.771647441980929, 1.15110028279022, -0.142066350190044, \n . 0.758674695286594, 0.0473357515472427, -0.0369871019659327, 1.05812893148082, \n . 0.984616700212923, 0.454896210194257, 0.441923463499922, -0.357522051538452, \n . -0.0976346927619474, 1.3402861720826, 0.0159849470359339, 2.29053986744261, \n . 1.21812614071095, -0.15471477821702, 0.614893419424385, -0.0924455940842134, \n . 0.85272710882052, 0.21273827190001, -0.179471103158709, 0.440842401275394, \n . -0.177417084932106, 1.59974110596929, 2.48405000563311, 1.48947275906745, \n . 1.21596401626189, 1.45595983010708, -0.0826079278410097, 0.614893419424385, \n . 1.14353284721852, 0.771647441980929, 1.2083965806902, 0.539219063707433, \n . 0.0354440670774358, -0.357522051538452, 2.64188509041418, 0.211657209675482, \n . 0.735972388571508, -0.264118275339242, -0.34076558705827, 1.99324775569744, \n . 0.083010804956663, 0.418140094560309, -0.00779842190367964, -0.264118275339242, \n . 0.426788592356532, -0.0987157549864752, 2.64188509041418, 2.65161465043493, \n . 0.542462250381016, -0.246496961079438, 0.083010804956663, 0.0354440670774358, \n . 0.21273827190001, -0.647679152601738, 1.94676208004274, 0.771647441980929, \n . -0.0294196663942375, 0.105713111671749, 0.493814450277261, 1.48947275906745, \n . 0.405167347865974, 0.0808486805076073, 0.677595028447002, 0.0484168137717706, \n . 0.951103771252558, 3.45700600770821, -0.264118275339242, 1.14353284721852, \n . 0.542462250381016, -0.0283386041697095, 0.0559842493434657, 0.485165952481038, \n . 2.27648605852375, 1.77487318634281, 0.0159849470359339, 0.42786965458106, \n . -0.0369871019659327, 0.634352539465887, -0.820757214748653, 1.35001573210335, \n . 0.0559842493434657, 1.31109749202035, 0.159766222898143, 0.107875236120805, \n . 1.35001573210335, -0.0294196663942375, 0.634352539465887, 1.94676208004274, \n . -0.647679152601738, 0.758674695286594, 0.368411232232026, 0.984616700212923, \n . 0.662460157303612, 0.300304312086769, 2.27648605852375, 0.0603084982415774, \n . 0.083010804956663, 1.55433649253912, -0.820757214748653, -0.34076558705827, \n . 1.14353284721852, -0.0826079278410097, 1.4797431990467, -0.135688083065329, \n . -0.273847835359993, -0.314928199892053, 2.90134002430087, 1.7975754930579, \n . 1.31109749202035, 1.94676208004274, -0.15471477821702, 1.48947275906745, \n . 2.30351261413695, 1.14353284721852, -0.0110416085772634, 0.0213902581585733, \n . 0.654892721731917, 1.48947275906745, 1.4797431990467, 2.08730016923137, \n . 1.88081728434654, -0.273847835359993, 0.636514663914942, 1.61595703933721, \n . 3.45268175881009, 2.2743239340747, 0.542462250381016, 0.0473357515472427, \n . 0.0354440670774358, 2.2743239340747, 0.61705554387344, -0.585626180913837, \n . 2.77269361958205, 0.931644651211056, 1.26028756746753, 0.178144280715117, \n . -0.897728845135038, 0.320844494352799, 1.7975754930579, 0.661379095079084, \n . 0.493814450277261, -0.0976346927619474, 3.45268175881009, 2.90134002430087, \n . 0.453815147969729, 3.45700600770821, 1.88081728434654, 3.45700600770821, \n . 1.3402861720826, 0.0916593027528862, 0.118685858366083, -0.230047714765493, \n . -0.605353908864769, -0.64735406344081, -1.17096347714736, -0.5438135754218, \n . -0.916873771950164, -1.00087408110225, -0.792220906764588, -1.21026843463831, \n . -1.12869380286281, -1.01412546677062, -0.814231682959518, -0.966061118753121, \n . -0.660605449109186, -0.658808651052457, -0.793568505307134, 0.16861685407126, \n . -0.783910715752216, -0.802327895833688, 0.265419349377536, -0.885429805957406, \n . 0.282713530673553, -0.639717671699711, -0.70911899664087, -0.679471828704841, \n . -0.643311267813169, -1.12559432621495, -0.551449967162898, -1.30385915341818, \n . -0.906317583366881, -0.62354648918915, -1.03411484515173, -0.521128999955596, \n . -0.87240302004612, -0.877344214702125, -0.904520785310152, 0.0484559840275062, \n . 0.447569752378441, -0.614787098662596, -0.871729220774847, -0.852862841179192, \n . -0.785482914051854, -0.714733990568148, -0.00612175694563804, \n . -0.674979833563018, -1.0475908305772, 0.612875173597512, -0.656562653481546, \n . -0.719899784981244, -0.226678718409126, -0.885879005471588, -1.12698684470891, \n . -0.629386082873519, -0.0613732971900556, -1.00536607624407, -0.816926880044612, \n . 0.460821138046818, -0.902723987253423, -0.521578199469778, -0.780317119638758, \n . -0.681493226518661, -0.862969830248293, -1.15589283344654, -0.46430526141154, \n . -0.670038638907014, -0.922488765877442, -0.454647471856621, -0.472840052181003, \n . -0.723717980851794, -1.30385915341818, -1.30385915341818, -0.469246456067545, \n . -1.2622632784049, -1.00514147648698, -0.773579126926024, -1.24986537181347, \n . -0.576380540200013, -0.932371155189452, -0.660605449109186, -1.30385915341818, \n . -0.769985530812566, -0.381427951044914, -0.445663481572976, -0.865440427576295, \n . -0.157951192739241, -0.594797720281486, -0.990991691790236, -1.06331281357358, \n . -0.728209975993616, -0.304165634605565, -0.873750618588667, -0.752242150002367, \n . -0.270026471527714, -1.03074584879537, -0.454872071613713, -1.2336717293272, \n . -0.929451358347267, -0.878018013973399, -0.313823424160484, -0.465877459711178, \n . -1.05500262256121, -0.662851446680098, -0.777397322796573, -0.614337899148414, \n . -0.941130545716006, -0.646006464898263, -0.839162255996633, -0.822766473728981, \n . -1.16348430523622, -0.685086822632119, -0.98784729519096, 0.359077448084537, \n . -1.22900005437971, -1.02580465413936, -1.23818618444473, -0.45240147428571, \n . -1.04085283786447, -0.815803881259156, -0.22151292399603, -0.873301419074485, \n . -0.996382085960423, -0.995259087174968, -0.882734608872312, -0.607824506192771, \n . -0.904071585795969, -0.966510318267303, -1.00895967235753, -1.23061717263076, \n . -1.22587811775614, -1.20460852075961, -1.10556002788242, -1.04601863227756, \n . -0.88228540935813, -0.731578972349983, -1.10380814977711, -1.30385915341818, \n . -1.15959872943855, -1.19041381611145, -0.922264166120351, -0.413321116551854, \n . -0.540219979308341, -0.923836364419989, -0.830627465227171, -0.690028017288124, \n . -1.17826296925282, -0.641289869999349, -1.13354515761598, -1.23780436485768, \n . -0.832648863040991, -0.905194584581425, -0.355374379222343, -0.789076510165312, \n . -0.553471364976718, -0.573909942872011, -0.84634944822355, -1.11321887959923, \n . -0.782338517452578, -0.973472910737128, -0.317641620031033, -0.0454267144365854, \n . -0.834894860611902, -0.769087131784201, -0.988071894948052, -1.18147474577922, \n . -0.903846986038878, -0.217919327882572, -0.70709759882705, -0.847697046766096, \n . 0.0304880034602159, -1.05298122474739, -0.748873153646, -0.0573305015624153, \n . -0.838039257211178, -0.635001076800798, -0.657011852995728, -0.734723368949259, \n . -1.11279214006076, -0.684637623117937, -0.861846831462837, -1.30385915341818, \n . -0.57368534311492, -0.0952878605108161, -0.386818345215101, -1.14111416942995, \n . -0.880937810815583, -0.767065733970381, -0.842531252353001, -0.64533266562699, \n . -0.884531406929041, -0.707995997855414, -0.832199663526809, -1.18868439798185, \n . -0.814456282716609, -0.764370536885288, -1.06218981478812, -0.983130700292047, \n . 0.111119316255931, -0.862071431219929, -1.18798813873486, -0.805696892190055, \n . -0.988521094462234, -0.996157486203332, -0.891718599155958, -0.67520443332011, \n . -0.657685652267002, -0.83444566109772, -0.642637468541896, -0.708220597612506, \n . -0.492380231047931, -1.08067437479672, -1.05432882328993, -0.343919791610695, \n . -0.796263702392228, -0.646904863926627, -0.767964132998746, -0.867012625875933, \n . 0.154916268888701, -0.793568505307134, -0.570765546272735, -0.839386855753725, \n . -0.90811438142361, -1.06960160677213, -0.913729375350888, -0.904745385067243, \n . -0.65925785056664, -0.667568041579011, -0.515514006028317, -1.17428755355231, \n . -0.0541861049631394, -0.96381512118221, -0.769985530812566, -0.580423335827653, \n . -0.951012935028016, -0.612541101091685, -1.00312007867316, -0.861622231705746, \n . -0.838937656239542, -0.121116832576296, -0.594123921010212, 0.0911299378748206, \n . -0.21544873055457, -0.600412714208764, -1.02063885972627, -0.365481368291444, \n . -1.04579403252047, -0.191865756060001, -0.771782328869295, 0.0756325546355328, \n . -0.567396549916368, -0.124261229175572, 0.276873936989184, -0.817376079558794, \n . -0.71114039445469, -0.721247383523791, -0.112806641563924, -0.760103141500556, \n . -1.17664585100176, -0.454198272342439, -0.964713520210574, -0.595920719066941, \n . -0.709343596397961, 0.181868239739637, -0.675429033077201, -0.306636231933568, \n . -0.819397477372614, -0.677675030648112, -0.286197654038275, -1.30385915341818, \n . -0.997505084745879, -0.430166098333689, -0.568294948944733, -0.771782328869295, \n . -0.755161946844551, -1.1804415868966, -0.756284945630007, -1.08790648697506, \n . -0.796937501663501, -0.967184117538577, -1.01592226482735, -0.777621922553664, \n . -1.05320582450448, -1.30385915341818, -0.381877150559096, -0.337181798897961, \n . -1.30385915341818, -1.30385915341818, 2.79059441835309, 1.51486779807548, \n . 0.444649955536257, 0.344703063630705, -0.0991060563813652, 0.89519706826106, \n . 0.140541884434869, 0.481933515213384, 0.867346698381761, 0.634885949792443, \n . 2.3346569114581, -0.610968902792047, 0.358179049056172, 3.21508795925533, \n . 0.233975383384778, -0.847697046766096, 0.377943827680192, 0.843539124130101, \n . 2.06738320051966, 2.3346569114581, 0.883742480649413, 1.03871631304229, \n . 0.742918432953275, 0.0477821847562328, 1.06342228632232, 0.825121944048628, \n . -0.610968902792047, 0.962352395631308, 2.27850697218532, 1.57101773734827, \n . 0.0639533672667941, 0.887336076762871, 1.07689827174778, 0.87520768987995, \n . 0.742918432953275, 0.432521568653336, 1.14427819887512, 0.609730776998236, \n . 0.0486805837845974, 0.933379026966552, 0.962352395631308, 0.792330379513324, \n . 0.668800513113203, 2.99273419973511, 1.26556206770433, -0.514391007242862, \n . 0.75572061910747, 0.0749587553642594, 0.648137335460819, 0.0392473939867699, \n . 0.825121944048628, 0.825121944048628, 0.0392473939867699, 0.217130401602944, \n . -0.0400363202663984, 1.8158314725776, 1.20716613086064, 0.0792261507489909, \n . -0.688680418745577, 1.03871631304229, 1.84278344342853, 0.843539124130101, \n . 0.217130401602944, -0.139983212171951, -0.238357905777865, 0.43139856986788, \n . -0.387716744243465, 0.639602544691356, 0.0477821847562328, -0.555043563276356, \n . 0.481708915456293, 0.40152680217476, 0.729217847770717, 3.21508795925533, \n . 0.87520768987995, 0.237119779984054, -0.531685188538879, 0.639602544691356, \n . 0.757068217650016, 0.217130401602944, -0.194785552902186, 0.481933515213384, \n . -0.0465497132220411, 0.162103461115617, 0.344703063630705, 0.140541884434869, \n . 0.661613320886287, 0.866672899110487, 0.731688445098719, -0.139983212171951, \n . 0.60254358477132, -0.11999383379084, 0.639602544691356, 0.975828381056776, \n . 0.933379026966552, 0.147729076661785, 0.0792261507489909, 0.361548045412539, \n . -0.531685188538879, 1.5373277737846, 0.344703063630705, 2.00000327339232, \n . -0.139983212171951, -0.0431807168656742, 0.43139856986788, 0.825121944048628, \n . 1.49016182479546, 0.186809434395641, -0.847697046766096, 0.553805437482545, \n . 1.38684593653354, 1.21390412357337, 1.58449372277373, -0.0469989127362233, \n . 0.843539124130101, -0.27923506156845, 0.481933515213384, 1.07689827174778, \n . 0.239814977069148, 0.377943827680192, -0.194785552902186, 0.55874663213855, \n . 0.239814977069148, 0.72405205335762, -0.666669642550647, 2.27850697218532, \n . 1.47443984179908, 0.60254358477132, -0.165362984723248, 0.821752947692262, \n . -0.113031241321015, 0.69013749003686, 1.26556206770433, 0.639602544691356, \n . 0.00757882823692078, 1.07689827174778, 0.217130401602944, 0.377943827680192, \n . 0.691934288093589, 0.18254203901091, 0.758640415949654, 0.82938933943336, \n . -0.122689030875934, 0.444649955536257, 2.00000327339232, -0.27923506156845, \n . 1.38684593653354, 1.08139026688961, -0.0400363202663984, 0.350093457800892, \n . 0.0792261507489909, 0.796822374655146, 0.72405205335762, 0.0486805837845974, \n . 0.60254358477132, 0.162103461115617, 0.813891956194072, 2.99273419973511, \n . 2.06738320051966, 1.1397862037333, 0.883742480649413, -0.0991060563813652, \n . 0.350093457800892, 0.498553897238128, 1.26556206770433, 1.21390412357337, \n . 0.818833150850077, -0.00612175694563804, -0.122689030875934, \n . 2.11005715436697, 0.572222617564018, 0.58255420639021, -0.124261229175572, \n . -0.387716744243465, 1.48566982965364, 0.147504476904694, 0.64229774177645, \n . -0.0822610745995305, -0.124261229175572, 0.64634053740409, -0.125608827718118, \n . 2.11005715436697, 2.3346569114581, 1.29026804098436, 0.173108849213082, \n . 0.147504476904694, -0.00612175694563804, 0.72405205335762, -0.696541410243767, \n . 2.91412428475321, 1.26556206770433, -0.0431807168656742, 0.597377790358224, \n . 0.704287274733601, 2.06738320051966, 0.531570061530524, 0.186809434395641, \n . 0.69013749003686, 0.147504476904694, 1.47443984179908, 3.21508795925533, \n . -0.124261229175572, 0.498553897238128, 1.29026804098436, -0.0306031304685711, \n . 0.376820828894736, 0.792330379513324, 1.78887950172666, 1.6383976644756, \n . -0.27923506156845, 0.512479082177778, 0.377943827680192, 0.40152680217476, \n . -0.847697046766096, 1.49016182479546, 0.376820828894736, 1.57101773734827, \n . -0.139983212171951, 0.439484161123161, 1.49016182479546, -0.0431807168656742, \n . 0.40152680217476, 2.91412428475321, -0.696541410243767, 1.07689827174778, \n . 0.814341155708254, 0.18254203901091, 0.661613320886287, 0.0477821847562328, \n . 1.78887950172666, 0.147729076661785, 0.147504476904694, 1.58449372277373, \n . -0.847697046766096, -0.387716744243465, 0.498553897238128, -0.0991060563813652, \n . 1.8158314725776, 0.0309372029743981, 0.00196383430964256, -0.165362984723248, \n . 2.29872095032352, 0.87722908769377, 1.57101773734827, 2.91412428475321, \n . -0.0400363202663984, 1.48566982965364, 2.27850697218532, 0.498553897238128, \n . 0.0639533672667941, 0.100787727429739, 0.94887641020584, 2.06738320051966, \n . 1.8158314725776, 2.00000327339232, 2.20438905234525, 0.00196383430964256, \n . 0.361548045412539, 2.07412119323239, 2.79059441835309, 2.00674126610506, \n . 1.29026804098436, 0.217130401602944, -0.00612175694563804, 2.00674126610506, \n . 1.5373277737846, -0.610968902792047, 2.48963074385098, 1.51486779807548, \n . 0.761111013277657, 0.167943054799987, -0.652744457610997, 0.638030346391718, \n . 0.87722908769377, 0.177825444111996, 0.704287274733601, 0.444649955536257, \n . 2.79059441835309, 2.29872095032352, 0.432521568653336, 3.21508795925533, \n . 2.20438905234525, 3.21508795925533, 2.00000327339232, 0.43139856986788, \n . 0.0392473939867699, 0.175411052700086, 0.460938729807317, -1.28008369157823, \n . -0.228506149061361, -0.0892243553505171, -1.67703680365414, 0.116216290372977, \n . 0.297282622197075, -0.0544039069228061, -0.527962005539675, 3.16300552779769, \n . 1.76322350100371, -0.409572480885458, -0.851792175917387, 0.234605815027195, \n . -0.399126346357145, 1.97911028125551, -0.406090436042687, 0.025683124460929, \n . 0.373887608738039, 0.850927752197679, 0.97976341138021, -0.520997915854133, \n . -1.56212932384269, -0.684654023464375, 0.227641725341653, -1.68748293818245, \n . -0.747330830634254, 0.332103070624786, -0.332967494344494, 0.384333743266352, \n . 1.33144994050009, -0.117080714092686, -0.810007637804134, -1.21044279472281, \n . -0.872684444974014, -0.346895673715579, -0.454839063841483, 0.304246711882617, \n . -0.646351530193893, -0.51055178132582, -1.84417495610715, -0.583674723024013, \n . 0.0744317522597239, -1.43677570950293, -0.768223099690882, 0.579328254461533, \n . 0.158000828486231, -1.72578543145293, -0.221542059375819, -0.660279709564977, \n . -1.51686274088667, 0.558435985404907, -0.385198166986061, -1.25919142252161, \n . 1.34886016471395, 2.48400678345732, -0.0161014136523243, -0.043957772394493, \n . 0.47138486433563, 0.0326472141464714, -0.851792175917387, -1.36713481264751, \n . 0.551471895719365, -0.987591924785461, -1.57953954805655, -0.190203655790879, \n . 0.433082371065147, -0.935361252143894, 0.325138980939243, -0.392162256671603, \n . -0.576710633338471, -1.53079092025775, -1.283565736421, -2.32469714440956, \n . -0.458321108684253, -1.10946349428245, -0.583674723024013, -0.489659512269194, \n . -0.632423350822808, -0.0195834584950951, 0.502723267920569, 0.31469284641093, \n . 0.346031249995869, 0.0535394832030976, -1.65614453459751, -1.05026873195534, \n . 0.450492595279002, -1.65266248975474, 0.443528505593461, 0.262462173769364, \n . -1.17910439113787, 0.836999572826594, -0.162347297048711, 0.161482873329001, \n . 0.119698335215749, -0.987591924785461, -1.10598144943968, -1.71533929692462, \n . -0.409572480885458, -1.00500214899932, 0.763876631128401, -0.214577969690276, \n . -0.339931584030036, 0.21719559081334, 0.168446963014544, -0.00217323428123956, \n . -0.695100157992688, -1.13731985302462, -0.228506149061361, 0.857891841883221, \n . 0.628076882260329, 0.415672146851291, -0.910986938244496, -0.47921337774088, \n . -0.85875626560293, -1.73274952113847, 0.621112792574787, 0.15451878364346, \n . -0.844828086231845, -1.34276049874811, -0.695100157992688, -0.486177467426422, \n . -0.186721610948108, -1.22785301893667, -1.47507820277341, 0.349513294838641, \n . -0.705546292521001, -0.162347297048711, -1.63525226554088, -1.32883231937703, \n . 0.352995339681412, -0.705546292521001, -0.813489682646906, -0.00565527912401124, \n . 1.14341951899045, -2.15755899195655, -0.562782453967386, -1.26267346736438, \n . -0.319039314973409, -1.01544828352763, -0.684654023464375, -0.444392929313169, \n . -1.60739590679872, -1.57605750321378, -0.25636250780353, 0.366923519052497, \n . -0.214577969690276, -0.635905395665579, 0.192821276913942, 0.269426263454906, \n . 0.701199823958522, -0.204131835161963, 0.607184613203702, -0.70206424767823, \n . -0.973663745414376, -0.698582202835459, -0.503587691640277, -1.05026873195534, \n . 0.69771777911575, -1.42981161981739, 0.332103070624786, -1.14428394271016, \n . -1.0676789561692, -0.263326597489072, -1.18258643598064, -0.395644301514374, \n . 0.130144469744062, 1.23047064005973, -1.4402577543457, -0.148419117677626, \n . 0.638523016788642, 0.586292344147076, -2.1993435300698, -0.19368570063365, \n . -0.656797664722206, -0.792597413590278, -0.0857423105077463, \n . -0.120562758935457, 0.523615536977196, -0.674207888936062, -0.0996704898788302, \n . -0.907504893401725, -1.0433046422698, 0.137108559429604, -0.346895673715579, \n . -0.917951027930039, -1.21392483956558, -0.886612624345098, 0.457456684964545, \n . -0.813489682646906, -1.95211834623305, 0.642005061631413, -0.876166489816785, \n . -0.76474105484811, 0.683789599744666, 0.875302066097077, 2.44918633502961, \n . -0.712510382206543, 0.31469284641093, 0.6315589271031, -1.1268737184963, \n . -1.3079400503204, -0.0822602656649747, -0.910986938244496, 0.0918419764735794, \n . -0.420018615413772, -0.855274220760158, -1.20347870503727, -1.49597047183004, \n . 1.87116689112961, -0.0509218620800353, 0.203267411442255, -1.25919142252161, \n . -1.69096498302522, -0.76474105484811, -0.642869485351121, -0.124044803778228, \n . -1.60043181711317, -0.750812875477026, -0.583674723024013, -0.743848785791484, \n . -0.444392929313169, -1.10946349428245, -1.32535027453426, -0.813489682646906, \n . -0.949289431514978, -0.538408140067988, 0.426118281379606, 1.40457288219828, \n . 0.0674676625741824, -0.514033826168591, 0.0918419764735794, -0.451357018998711, \n . -0.0752961759794332, -0.19368570063365, -0.890094669187869, -0.19368570063365, \n . -0.357341808243892, -0.176275476419795, 0.861373886725992, 0.0639856177314108, \n . -1.01196623868486, -2.14014876774269, -0.771705144533652, -1.21044279472281, \n . -1.07464304585474, -0.580192678181242, 0.37736965358081, 1.89205916018624, \n . 0.774322765656715, 1.00761977012238, -1.16865825660956, 0.321656936096473, \n . -0.437428839627627, 1.26180904364467, -0.688136068307145, -0.420018615413772, \n . -0.545372229753531, -0.388680211828831, -0.507069736483049, 0.492277133392256, \n . -0.618495171451724, -0.823935817175219, 0.0848778867880379, -0.750812875477026, \n . 1.03199408402178, 0.12318038005852, 0.704681868801293, 0.130144469744062, \n . -0.719474471892086, -0.747330830634254, -0.594120857552326, 0.175411052700086, \n . -0.576710633338471, -0.886612624345098, 0.680307554901896, -1.02937646289871, \n . -0.496623601954736, -0.935361252143894, -0.151901162520397, -0.322521359816181, \n . -1.55516523415715, -1.03634055258426, -2.69727594258607, -0.8622383104457, \n . 2.51186314219949, 0.481830998863943, -0.754294920319797, 1.02154794949346, \n . 0.0430933486747845, -0.28770091138847, -0.144937072834855, -0.879648534659556, \n . -0.326003404658952, -0.228506149061361, 1.27225517817298, -0.25636250780353, \n . -0.141455027992084, 2.85658558163383, -0.496623601954736, -0.176275476419795, \n . -1.14428394271016, -0.242434328432446, -0.0369936827089506, 1.27225517817298, \n . -0.35385976340112, -1.03285850774148, 0.328621025782014, 0.213713545970568, \n . 0.4748669091784, 0.910122514524788, -0.25636250780353, 0.252016039241051, \n . -0.649833575036664, 1.44287537546876, 0.412190102008521, 2.3899915727025, \n . 0.896194335153703, -0.117080714092686, 0.328621025782014, -0.47921337774088, \n . 1.03199408402178, -0.0961884450360594, -1.28008369157823, 1.6552801108778, \n . 0.252016039241051, -0.0718141311366616, 1.45332150999708, 0.422636236536834, \n . 0.203267411442255, -0.750812875477026, 0.558435985404907, 0.318174891253701, \n . 0.903158424839245, 0.401743967480208, 0.910122514524788, 0.910122514524788, \n . 0.401743967480208, -0.235470238746903, 0.387815788109123, -0.378234077300518, \n . 1.95821801219889, 0.485313043706713, 0.06050357288864, -1.03285850774148, \n . 4.1971728461007, -0.242434328432446, -0.235470238746903, 1.62394170729286, \n . -1.03285850774148, 0.325138980939243, -0.837863996546304, 0.398261922637436, \n . 0.213713545970568, -0.761259010005339, -0.0961884450360594, 0.0639856177314108, \n . 0.144072649115146, 2.85658558163383, -0.117080714092686, 1.00413772527961, \n . -0.823935817175219, 0.398261922637436, 1.44983946515431, -0.235470238746903, \n . 0.836999572826594, -0.879648534659556, 0.175411052700086, 0.112734245530207, \n . 1.02154794949346, -0.144937072834855, 0.318174891253701, 0.234605815027195, \n . -0.597602902395097, 1.62394170729286, 0.394779877794665, -0.722956516734856, \n . 0.398261922637436, 1.15386565351876, 1.6552801108778, -0.576710633338471, \n . 0.485313043706713, 2.93667261301757, -0.823935817175219, 0.140590604272375, \n . 1.02154794949346, 2.03482299873985, 1.62394170729286, 1.13297338446214, \n . 0.325138980939243, 0.910122514524788, 1.21306041584587, -1.4158834404463, \n . -0.176275476419795, 0.412190102008521, 0.969317276851896, 0.0465753935175553, \n . 0.669861420373582, 1.02502999433623, -0.242434328432446, 0.37736965358081, \n . -0.879648534659556, 0.896194335153703, 0.245051949555508, -1.14428394271016, \n . 0.836999572826594, -0.423500660256542, 0.245051949555508, 0.412190102008521, \n . -0.942325341829436, -0.649833575036664, 0.258980128926592, 0.394779877794665, \n . -0.601084947237869, 0.203267411442255, -0.851792175917387, -0.339931584030036, \n . 0.203267411442255, 0.398261922637436, 0.15451878364346, 0.896194335153703, \n . -0.235470238746903, -1.14428394271016, 0.499241223077798, 1.91295142924286, \n . -0.00913732396678195, -0.879648534659556, -0.865720355288472, \n . -0.754294920319797, 0.544507806033822, 0.37736965358081, 0.969317276851896, \n . -0.148419117677626, 0.387815788109123, 1.6309057969784, 0.485313043706713, \n . 1.79456190458865, 0.412190102008521, -1.28008369157823, 0.394779877794665, \n . 0.112734245530207, 1.02154794949346, 0.422636236536834, -0.0369936827089506, \n . -0.395644301514374, -0.35385976340112, 0.0430933486747845, 1.6309057969784, \n . 0.816107303769968, 0.203267411442255, 0.0465753935175553, 0.0883599316308086, \n . -0.22502410421859, -0.865720355288472, 1.95821801219889, -0.0752961759794332, \n . 0.892712290310932, -0.308593180445096, -0.837863996546304, 1.88161302565792, \n . 0.349513294838641, 0.457456684964545, -0.399126346357145, -0.308593180445096, \n . 0.906640469682016, 0.255498084083821, 1.95821801219889, 1.27225517817298, \n . -0.977145790257147, 0.203267411442255, 0.349513294838641, -0.22502410421859, \n . 0.412190102008521, -0.869202400131243, -0.120562758935457, 0.203267411442255, \n . 1.13297338446214, -0.409572480885458, -0.917951027930039, -0.0369936827089506, \n . 0.97976341138021, -1.4158834404463, -0.339931584030036, 1.39412674766997, \n . 0.258980128926592, 2.85658558163383, -0.308593180445096, 0.816107303769968, \n . -0.977145790257147, 0.210231501127797, -0.409572480885458, -0.0718141311366616, \n . 2.29945840679046, 1.28966540238684, 0.37736965358081, 0.335585115467556, \n . -1.14428394271016, 0.0639856177314108, -0.176275476419795, 1.21306041584587, \n . -0.409572480885458, 1.44287537546876, 1.62394170729286, 0.97976341138021, \n . 1.21306041584587, 1.13297338446214, 0.0639856177314108, -0.120562758935457, \n . -0.869202400131243, 0.896194335153703, -0.113598669249915, 1.91295142924286, \n . 0.318174891253701, 0.213713545970568, 2.29945840679046, -0.576710633338471, \n . 0.349513294838641, 0.669861420373582, -0.176275476419795, -0.837863996546304, \n . 0.816107303769968, 0.0430933486747845, -0.378234077300518, 0.0918419764735794, \n . -0.743848785791484, -0.601084947237869, 3.73057883716938, 0.718610048172377, \n . 1.44287537546876, -0.120562758935457, 0.387815788109123, 1.96170005704166, \n . -0.649833575036664, 0.816107303769968, 0.412190102008521, -0.399126346357145, \n . -1.14776598755293, -0.0369936827089506, -0.378234077300518, 2.03482299873985, \n . 1.13993747414768, -0.743848785791484, 2.93667261301757, 2.55712972515552, \n . 2.51186314219949, 1.09467089119166, -0.977145790257147, -0.235470238746903, \n . -0.22502410421859, 1.09467089119166, 0.140590604272375, -0.25636250780353, \n . 0.788250945027799, 0.481830998863943, 1.1016349808772, -0.653315619879434, \n . -0.938843296986665, -0.228506149061361, 0.718610048172377, -1.83372882157884, \n . -0.917951027930039, -0.754294920319797, 2.51186314219949, 3.73057883716938, \n . -0.47921337774088, 2.85658558163383, 1.13993747414768, 2.85658558163383, \n . 0.544507806033822, 0.325138980939243, 0.401743967480208, -0.724659636000147, \n . 0.74465394229698, -0.588273590933333, 0.311593098167301, -0.792149637682695, \n . -0.461729837778556, -0.240981290608557, -0.526407756057665, -1.09726068695588, \n . 1.2733256221436, 0.95415415585322, 0.958372280958379, 0.868385612048316, \n . -0.883542348294478, 3.79435839332709, -0.516565464145626, 0.505626853004623, \n . -0.399864002902887, 1.01742603243061, 0.872603737153475, -0.440639212252761, \n . 0.0908445509973013, -0.584055465828174, -1.35456631837059, -0.803397971296453, \n . 0.497190602794306, 0.855731236732839, 0.42267039260316, 2.16053793592876, \n . -0.849797347453204, 0.057099550156027, 0.280660180729467, 0.335495807096535, \n . -0.302847125484226, 0.348150182412013, 1.10178853453379, 1.10881874304239, \n . 2.09164189254449, 2.10992043466685, 1.9004202211106, -0.122873787664099, \n . 1.23958062130233, -0.236763165503399, 0.169582886293605, -0.644515259002123, \n . -0.5503104649869, 0.26097559690539, 0.266599763712269, -0.472978171392314, \n . -0.294410875273907, 0.394549558568764, -0.834330888734287, 2.19006481166487, \n . -0.281756499958429, -0.986183392520018, 2.7834144097906, 4.23866757107053, \n . -0.248011499117156, -0.104595245541743, -0.0750683698056279, \n . -1.42486840345658, -0.526407756057665, -0.756998595139701, 0.241291013081314, \n . 0.674351857210993, 0.166770802890167, -0.887760473399637, -0.458917754375117, \n . 0.544996020652776, -0.430796920340722, 0.622328314247361, 2.57953836304124, \n . -1.47267382131505, -0.208642331469003, -0.0905348285245449, -0.328155876115181, \n . -0.262071916134354, -1.13522381290231, 0.0078880905958357, 0.232854762870994, \n . -0.863857764470402, -0.377367335675372, 0.128807676943733, 0.00507600719239731, \n . 1.44626875145513, -1.06210964441289, -0.315501500799704, 0.0472572582439887, \n . 0.0880324675938609, 0.0303847578233525, 0.881039987363794, -0.854015472558364, \n . -1.17178089714702, 0.237072887976154, -0.526407756057665, -0.918693390837472, \n . 0.170988927995327, -0.627642758581486, -0.214266498275883, -0.87370005638244, \n . -0.741532136420784, 1.95103772237251, -1.1984956894797, 0.223012470958956, \n . 0.0669418420680652, -0.159430871908813, -0.488444630111232, -0.593897757740211, \n . -1.27301589967085, -0.0160146183333984, 0.0430391331388292, -0.571401090512696, \n . -0.647327342405562, -1.0705458946232, -0.599521924547091, 0.681382065719591, \n . -0.984777350818299, -0.458917754375117, -0.60374004965225, -0.519377547549066, \n . -0.352058585044416, -0.9777471423097, 0.386113308358445, -0.0455414940695141, \n . 0.447979143234115, -0.0539777442798322, -0.567182965407537, -0.544686298180021, \n . 0.775586859734814, -1.33066360944135, -1.07335797802664, -0.215672539977602, \n . -1.44314694557893, -0.198800039556965, -0.255041707625755, 1.5151647948394, \n . -0.855421514260083, -0.889166515101357, -1.01289818485269, 1.40268145870182, \n . 0.273629972220867, -0.214266498275883, -0.418142545025245, -0.81745838831365, \n . -0.297222958677347, 0.36361664113093, -0.356276710149576, -0.281756499958429, \n . 1.34503374893131, 0.0697539254715056, 0.183643303310803, 1.18615103663698, \n . 0.879633945662075, 0.31581122327246, 1.01742603243061, -0.328155876115181, \n . 0.127401635242014, -0.27894441655499, -0.136934204681297, 0.30878101476386, \n . -0.560152756898938, 0.47750601897023, 0.952748114151501, -1.54156986469932, \n . -0.138340246383016, -0.967904850397662, -1.03680089378193, -0.861045681066962, \n . 3.04915629141563, -0.728877761105307, -0.540468173074862, 0.889476237574111, \n . -0.0497596191746727, 0.530935603635579, 0.431106642813477, -0.179115455732889, \n . -1.13522381290231, 1.36471833275538, 0.404391850480802, 1.14818791069054, \n . -0.727471719403587, -0.28456858336187, -0.747156303227663, -0.0947529536297045, \n . -0.537656089671422, -0.114437537453781, -0.806210054699892, 0.469069768759911, \n . -0.235357123801678, -0.962280683590783, -0.517971505847346, 0.622328314247361, \n . 0.0121062157009952, -0.00898440982480048, -0.193175872750086, \n . -0.0202327434385579, 1.58124875482022, 1.05117103327188, 0.221606429257237, \n . 0.890882279275833, -0.427984836937283, -0.187551705943207, -1.03680089378193, \n . 1.15381207749742, -0.813240263208491, 0.0922505926990205, -0.539062131373142, \n . -0.9777471423097, 0.504220811302904, -0.609364216459129, -0.721847552596708, \n . 0.79948956866405, -0.555934631793778, -0.752780470034543, 0.464851643654751, \n . -0.249417540818876, -0.22551483188964, -0.640297133896963, -0.373149210570213, \n . -0.98055922571314, -1.17037485544531, -0.463135879480276, -1.19287152267282, \n . -0.593897757740211, -1.02977068527333, 0.211764137345199, -0.367525043763334, \n . 0.183643303310803, 1.36893645786054, 0.185049345012524, -0.820270471717089, \n . -0.861045681066962, 0.781211026541693, -0.517971505847346, -1.04804922739569, \n . 0.411422058989402, -0.966498808695943, 0.502814769601185, -0.271914208046392, \n . -0.0314810770523154, 1.46735937698092, 0.168176844591886, -0.429390878639002, \n . -1.46001944599957, -0.377367335675372, -0.749968386631102, -0.330967959518621, \n . 0.826204360996724, 0.464851643654751, 4.52831216162479, 4.63095320585034, \n . 0.861355403539718, 0.670133732105833, -0.098971078734864, 1.3661243744571, \n . 1.98900084831895, 0.0866264258921417, 0.789647276752012, 1.1875570783387, \n . 0.0500693416474291, -0.665605884527918, 0.246915179888192, 0.459227476847872, \n . 0.556244354266534, 0.252539346695071, 0.178019136503924, 1.5798427131185, \n . 1.41111770891214, 2.06633314191353, 0.0838143424887014, -0.703569010474351, \n . 0.571710812985451, -0.675448176439957, -0.113031495752061, 0.608267897230165, \n . -0.0652260778935897, 0.380489141551566, -0.906039015521993, 0.414234142392841, \n . -0.806210054699892, 0.0697539254715056, -0.312689417396264, 0.405797892182522, \n . -0.155212746803653, -1.09585464525416, -0.558746715197218, 1.06523145028908, \n . -0.138340246383016, -1.01852235165957, 0.696848524438508, -1.3264454843362, \n . -1.05226735250085, -0.000548159614481417, -1.15350235502467, \n . -1.55422424001479, -1.41080798643938, -0.0736623281039087, -0.212860456574163, \n . -0.758404636841421, 0.837452694610482, -0.779495262367217, -0.97634110060798, \n . -1.11132110397308, -1.76794257867619, -0.198800039556965, -0.0736623281039087, \n . 0.584365188300929, 0.117559343329976, 0.650449148281757, -0.879324223189319, \n . -0.162242955312252, 1.47579562719124, -0.212860456574163, -0.326749834413461, \n . -1.0635156861146, 1.66982938202857, -0.27894441655499, 1.05538915837704, \n . 0.0402270497353908, -1.02414651846645, 0.650449148281757, -0.81886443001537, \n . 0.0613176752611865, 1.12709728516475, -1.55281819831307, 0.0866264258921417, \n . -0.326749834413461, -0.997431726133777, 0.903536654591309, -0.22551483188964, \n . -0.0694442029987492, 0.0078880905958357, 0.0683478837697844, \n . -0.420954628428684, -0.984777350818299, 0.259569555203669, 1.47579562719124, \n . 1.47579562719124, 0.259569555203669, -1.05789151930773, -1.7398217446418, \n . -0.92572359934607, 2.1352291852978, 0.703878732947108, -1.38831131921186, \n . 0.117559343329976, 1.59109104673226, -1.76794257867619, -1.05789151930773, \n . 2.13382314359608, -1.0846063116404, -1.66670757615237, -0.415330461621805, \n . 1.42096000082417, -0.879324223189319, -0.839955055541166, -0.86807588957556, \n . -0.028668993648877, 0.566086646178572, 0.837452694610482, -1.02414651846645, \n . 1.36753041615882, -0.858233597663522, 1.42096000082417, 1.60233938034602, \n . -1.05789151930773, -0.907445057223713, -1.15350235502467, -0.219890665082761, \n . -0.986183392520018, 0.696848524438508, -0.000548159614481417, \n . 0.36361664113093, -0.0863167034193864, -1.25192527414505, 2.13382314359608, \n . -0.00617232642136014, -1.21677423160206, 1.42096000082417, -1.2125561064969, \n . 0.0866264258921417, 0.369240807937809, 0.703878732947108, 1.53203729526003, \n . -0.858233597663522, -0.367525043763334, 0.696848524438508, 2.2350581461199, \n . 2.13382314359608, -0.548904423285181, -1.66670757615237, 1.47579562719124, \n . -0.118655662558941, -1.36159652687919, -0.97634110060798, -0.917287349135752, \n . 1.17209061961978, -0.083504620015947, -0.28035045825671, -1.76653653697447, \n . -1.76794257867619, 0.921815196713667, -1.15350235502467, 0.0402270497353908, \n . 0.433918726216917, -1.11132110397308, -0.907445057223713, -0.513753380742187, \n . 0.433918726216917, 0.523905395126981, -1.37003277708951, -1.0635156861146, \n . 0.0388210080336697, -0.00617232642136014, 0.400173725375643, \n . -0.54749838158346, -0.890572556803076, 0.549214145757936, -0.0694442029987492, \n . 1.42096000082417, 0.152710385872969, 0.0402270497353908, -1.05789151930773, \n . -1.11132110397308, -0.395645877797729, 1.77247042625411, 0.584365188300929, \n . -1.24630110733817, -0.505317130531868, -1.01852235165957, 0.643418939773159, \n . 0.921815196713667, 1.17209061961978, 0.380489141551566, -1.7398217446418, \n . 1.11866103495443, 0.703878732947108, 1.55734604589099, 0.523905395126981, \n . -1.55281819831307, -0.00617232642136014, -0.986183392520018, \n . 1.22411416258341, -0.22551483188964, -0.198800039556965, -0.122873787664099, \n . 0.584365188300929, -1.3264454843362, 1.11866103495443, 1.96931626449487, \n . -0.0694442029987492, -0.083504620015947, -0.478602338199194, \n . -1.32363340093276, -0.505317130531868, 1.03289249114953, -0.939784016363267, \n . 0.518281228320102, -0.146776496593335, -0.415330461621805, 1.85823897005901, \n . 0.0303847578233525, -0.0961589953314246, 0.193485595222841, -0.146776496593335, \n . -0.889166515101357, -0.212860456574163, 1.03289249114953, -0.0736623281039087, \n . -0.87229401468072, -1.05086131079913, 0.0303847578233525, -1.32363340093276, \n . 0.523905395126981, -0.304253167185945, -0.719035469193268, -0.0694442029987492, \n . -0.548904423285181, -1.7257613276246, -1.12959964609543, -0.198800039556965, \n . 1.46735937698092, -1.36159652687919, 0.549214145757936, 0.213170179046918, \n . 0.0388210080336697, 0.837452694610482, -0.146776496593335, 1.96931626449487, \n . -0.87229401468072, 0.827610402698444, -0.259259832730914, -0.997431726133777, \n . 2.5626658626206, -0.539062131373142, 0.921815196713667, -0.682478384948556, \n . -1.11132110397308, -0.028668993648877, -0.97634110060798, -0.118655662558941, \n . -0.259259832730914, 1.66982938202857, 2.13382314359608, -0.287380666765309, \n . -0.118655662558941, -0.548904423285181, -0.028668993648877, -0.719035469193268, \n . -0.304253167185945, 0.0402270497353908, -0.131310037874418, 1.77247042625411, \n . 0.36361664113093, -0.879324223189319, 2.5626658626206, 0.369240807937809, \n . 0.0303847578233525, -0.28035045825671, -0.97634110060798, -0.415330461621805, \n . 1.96931626449487, -1.3264454843362, -0.92572359934607, -0.0469475357712333, \n . -1.20411985628658, 0.400173725375643, 2.61609544728595, 0.866979570346597, \n . 1.66982938202857, -0.719035469193268, -1.7398217446418, 1.84839667814697, \n . -1.0635156861146, 1.96931626449487, -0.27894441655499, -0.704975052176071, \n . -1.12116339588511, -0.198800039556965, -0.92572359934607, 2.2350581461199, \n . 0.456415393444432, -1.20411985628658, 1.53203729526003, 0.546402062354496, \n . 1.06523145028908, 0.840264778013922, -0.87229401468072, -1.05789151930773, \n . -1.32363340093276, 0.840264778013922, -0.367525043763334, -0.212860456574163, \n . -0.92572359934607, -0.138340246383016, 0.417046225796281, 0.256757471800231, \n . -1.09304256185072, -0.854015472558364, 0.866979570346597, -0.584055465828174, \n . -1.12959964609543, -1.01852235165957, 1.06523145028908, 2.61609544728595, \n . -0.81886443001537, 0.837452694610482, 0.456415393444432, 0.837452694610482, \n . 0.643418939773159, -1.66670757615237, 0.259569555203669, -0.555627358143758, \n . -0.803802469312058, -0.807611532411453, -0.888480872060155, -0.66140211036543, \n . -0.797942372236065, -0.680447425862407, -0.394474688553953, -0.162707849198434, \n . -0.889652891475354, 0.16487157734957, -0.145713567678054, -0.657593047266035, \n . -0.652611964751441, 0.195344082144733, -0.612470299780889, -0.144834553116655, \n . -0.568519571710943, -0.393888678846354, -0.508453576682015, -0.681033435570006, \n . 0.152272368636185, -0.256176397560521, -0.15772676668384, -0.482083139840047, \n . -0.273756688788499, -0.364881198320189, -0.668141222002822, -0.689823581183996, \n . -0.782706119838483, -0.818159707148241, -0.30628022756026, -0.449852605922086, \n . -0.995134638843226, -0.659644081242632, -0.16563789773643, -0.343198839139015, \n . -0.283425848963888, -0.368983266273384, -0.858594376972591, -0.432858324401707, \n . -0.428756256448512, -0.9338966243991, -0.48823624176984, -0.866212503171382, \n . -0.706231852996776, -0.0838895435263292, -0.758972726680712, \n . -0.031148669842393, -0.354919033291001, -0.513434659196609, -0.606610202704897, \n . -0.185562227794806, -0.641477780307054, -0.613935324049888, -0.779483066446687, \n . 1.06937756102907, -0.686893532645999, -0.552404304751962, -0.701836780189781, \n . 0.0567527862975005, -0.812592614926047, -0.5207597805416, 0.123850897817619, \n . -0.482376144693847, -0.840135071183214, -0.551525290190563, -0.654956003581838, \n . -0.739048396622336, -0.376894397325975, -0.700664760774583, -0.08330353381873, \n . -0.839256056621815, -0.499956435921826, -0.366639227442987, -0.102641854169507, \n . -0.62829256188607, -0.648509896798246, 0.795711027580206, -0.309503280952056, \n . -0.77743203247009, -0.310968305221054, -0.185855232648606, -0.720296085979159, \n . -0.780655085861886, -0.721175100540558, -0.695390673406189, -0.301299145045666, \n . -0.730551255862147, -0.593717989137712, -0.623604484225276, -0.488822251477439, \n . 0.183037878285148, -0.78592917323028, -0.667262207441423, -0.99191158545143, \n . -0.715901013172164, -0.587857892061719, -0.363709178904991, -0.396525722530551, \n . -1.00861286211801, -0.635031673523462, -0.0727553590819428, -0.25676240726812, \n . -0.614814338611287, -0.59576902311431, -0.195817397677794, -0.3560910527062, \n . -0.964955138901863, -0.788566216914476, -0.560022430950753, 0.532299664014325, \n . -0.650560930774843, -0.590494935745916, -0.549767261067765, -0.543028149430373, \n . -0.897564022527944, -0.568226566857143, -0.503472494167421, -0.704473823873978, \n . -0.832809949838223, -0.672536294809817, -0.506109537851618, -0.279323781010693, \n . -0.911335250656528, -0.385977547793764, -0.610419265804292, -0.788859221768276, \n . -0.83486098381482, -0.688944566622597, -0.181753164695411, -0.877346687615769, \n . -0.420552120542122, -0.389786610893159, -0.962025090363866, -0.359607110951796, \n . -0.843651129428809, -0.72732820247035, -0.239475120893941, -0.269068611127705, \n . -0.698320721944185, -0.591959960014914, -0.731137265569746, -0.593131979430113, \n . -0.662281124926829, -0.560022430950753, -0.474465013641257, -0.718245052002561, \n . -0.814936653756444, -0.57906774644773, -0.323567513934439, -0.806146508142455, \n . -0.877346687615769, -0.336752732355423, -0.3560910527062, -0.634445663815863, \n . -0.846288173113006, -0.109380965806898, -0.291043975162678, -0.436374382647303, \n . -0.601336115336503, 0.230211659746891, 0.141724193899398, -0.317707416858446, \n . -0.698027717090386, -0.353454009022003, -0.824019804224233, -0.846874182820606, \n . -1.0197470465624, -0.8515622604814, -0.935654653521898, -0.59576902311431, \n . -0.865333488609983, -0.996599663112224, -0.582290799839526, -0.565296518319147, \n . -0.601922125044102, -0.378066416741173, -0.786515182937879, 0.168094630741366, \n . -0.905768158434334, -0.720589090832959, -0.280202795572092, -0.802923454750659, \n . -0.655835018143237, -0.919246381709118, -0.22335985393496, -0.234201033525547, \n . 0.116525776472628, -0.367225237150586, -0.785050158668881, -0.998943701942622, \n . -0.541563125161375, -0.6863075229384, -0.506988552413017, -0.507281557266817, \n . 0.253945052904662, 0.694331348165529, -0.804095474165857, -0.386563557501363, \n . -0.444871523407492, -0.931845590422503, -0.480911120424849, -0.828707881885028, \n . -0.459228761243675, -0.272584669373301, -0.206072567560781, -0.718831061710161, \n . -0.592252964868714, -0.302471164460865, -0.813764634341246, -0.577895727032531, \n . -0.700664760774583, -0.6036801541669, -0.596355032821909, -0.786222178084079, \n . -0.449852605922086, -0.850683245920001, -0.34788691679981, -0.73582534323054, \n . -0.578481736740131, -0.824605813931833, -0.668141222002822, -0.814350644048845, \n . -0.753698639312319, -0.523103819371998, -0.422896159372519, -0.345542877969412, \n . -0.144834553116655, -0.24006113060154, 0.429454960330649, -0.629757586155068, \n . -0.912214265217927, -0.907233182703333, -0.890824910890552, -0.750475585920522, \n . -0.374843363349377, -0.881155750715164, -0.634152658962063, -0.868849546855579, \n . -0.197575426800592, -0.258520436390918, -0.690409590891595, 0.0699380047184845, \n . -0.386563557501363, -0.665797183172425, -0.897564022527944, -0.25646940241432, \n . -0.591373950307315, -0.152159674461647, -0.542442139722774, -0.815815668317843, \n . -0.782706119838483, -0.634445663815863, -0.0496079756317708, \n . -0.309796285805856, -0.952648935042278, -0.411468970074333, -0.97521030878485, \n . -0.761023760657309, -1.00480379901861, 0.253652048050862, -0.610126260950492, \n . -0.0619141794913558, -0.740806425745134, -0.904889143872935, \n . -0.48003210586345, -0.239768125747741, -0.70300879960498, -0.601629120190303, \n . -0.657593047266035, -0.549474256213966, -0.332650664402228, -0.729965246154547, \n . -1.01124990580221, -0.48003210586345, -0.526033867909994, -0.640598765745655, \n . -0.46362383405067, -0.726449187908951, -0.631222610424067, 0.228453630624093, \n . -0.646751867675448, -0.278444766449294, -0.426119212764315, -0.216327737443769, \n . 2.21356151511669, -0.346128887677012, 0.347413601266749, -0.505230523290219, \n . -0.164758883175031, 0.896504697287284, 1.3758606381035, 0.964774828222601, \n . 1.58360107944745, 0.680267115183146, 0.276506426647234, -0.66960624627182, \n . -0.0375947766259853, 3.07499578528765, 0.399568465243085, -0.647630882236847, \n . -0.182925184110609, 1.17368728898175, 1.60704146775142, 0.276506426647234, \n . 0.898262726410082, 1.84144535079114, 0.549293945534704, 0.00576994173636227, \n . 1.03070092032752, 0.270939334425041, -0.66960624627182, 0.496260066996969, \n . 7.07158199111481, 1.7945645741832, 0.535229712552321, -0.0607421600761572, \n . 1.09633400757864, 0.599690780388243, 0.549293945534704, 1.15259093950817, \n . -0.47944609615585, -0.370448290542382, 0.667667906469761, 1.52822316207932, \n . 0.496260066996969, -0.181167154987812, -0.600750105628904, 1.56836482704987, \n . 1.12241143956681, 0.543433848458711, 1.01751570190654, -0.75252661989712, \n . 1.45262790979901, -0.733481304400143, 0.270939334425041, 0.270939334425041, \n . -0.733481304400143, -0.0698253105439463, 0.674114013253353, 2.09928962213483, \n . 1.45321391950661, -0.261157480075115, 0.0251082620871389, 1.84144535079114, \n . 1.71838331219529, 1.17368728898175, -0.0698253105439463, 0.0673009610342877, \n . -0.112311014344895, 0.389606300213898, -0.552111299898162, 0.715134692785304, \n . 0.00576994173636227, -0.436667387501102, -0.162414844344634, \n . 0.282073518869428, -0.50464451358262, 3.07499578528765, 0.599690780388243, \n . -0.449559601068287, 0.0297963397479331, 0.715134692785304, 0.308443955711396, \n . -0.0698253105439463, -0.114655053175292, 0.964774828222601, -0.508453576682015, \n . -0.114948058029092, -0.505230523290219, 1.3758606381035, -0.060156150368558, \n . 0.517356416470543, 0.0230572281105412, 0.0673009610342877, -0.0645512231755527, \n . -0.128426281303875, 0.715134692785304, 1.09604100272484, 1.52822316207932, \n . -0.699492741359384, -0.261157480075115, -0.409710940951535, 0.0297963397479331, \n . 1.51357291938934, -0.505230523290219, 1.86195569055712, 0.0673009610342877, \n . -0.0771504318889375, 0.389606300213898, 0.270939334425041, 1.08754386196465, \n . 0.819444420737977, -0.647630882236847, 0.26361421308005, -0.16563789773643, \n . 0.383453198284105, 0.811240284831587, 0.266837266471846, 1.17368728898175, \n . -0.158898786099038, 0.964774828222601, 1.09633400757864, -0.0997118056315101, \n . -0.182925184110609, -0.114655053175292, -0.204607543291783, -0.0997118056315101, \n . -0.29836909650767, -0.172377009373822, 7.07158199111481, 1.75354389465125, \n . -0.0645512231755527, -0.529842931009389, 0.0333123979935288, \n . -0.00917330580741978, -0.527205887325193, 1.12241143956681, 0.715134692785304, \n . -0.498198406799028, 1.09633400757864, -0.0698253105439463, -0.182925184110609, \n . 0.189776989922539, -0.508453576682015, 0.975029998105589, 0.87511534295991, \n . 0.0385864853619225, 0.347413601266749, 1.55869566687448, -0.158898786099038, \n . -0.16563789773643, 1.90883646716506, 0.674114013253353, -0.262329499490313, \n . -0.261157480075115, -0.448973591360687, -0.29836909650767, 0.667667906469761, \n . -0.0645512231755527, -0.114948058029092, -0.584048828962324, \n . 1.56836482704987, 1.60704146775142, 2.07291918529286, 0.898262726410082, \n . -0.164758883175031, -0.262329499490313, -0.724984163639953, 1.12241143956681, \n . 0.383453198284105, 0.250135989805267, 0.517649421324343, 0.0385864853619225, \n . 0.780767780036424, -0.440183445746698, -0.637668717207659, -0.778604051885288, \n . -0.552111299898162, 0.178349800624353, -0.328841601302833, 0.742091139334871, \n . -0.722347119955756, -0.778604051885288, 0.873357313837112, -0.101176829900508, \n . 0.780767780036424, 0.276506426647234, 0.599983785242043, 0.408651615710874, \n . -0.328841601302833, 0.517649421324343, -0.29836909650767, -0.65290496960524, \n . 1.10336612406983, 1.12241143956681, -0.0771504318889375, 2.19012112681272, \n . 0.451723329219422, 1.60704146775142, -0.201970499607586, 0.819444420737977, \n . -0.527205887325193, -0.113776038613893, 1.75354389465125, 3.07499578528765, \n . -0.778604051885288, -0.724984163639953, 0.599983785242043, -0.65319797445904, \n . -0.429635271009911, -0.181167154987812, 2.43917525254242, 1.59532127359944, \n . -0.158898786099038, 0.0432745630227168, -0.182925184110609, 0.282073518869428, \n . -0.647630882236847, 1.08754386196465, -0.429635271009911, 1.7945645741832, \n . 0.0673009610342877, 0.865153177930722, 1.08754386196465, -0.0771504318889375, \n . 0.282073518869428, 1.10336612406983, -0.65290496960524, 1.09633400757864, \n . 0.141724193899398, -0.508453576682015, -0.060156150368558, 0.00576994173636227, \n . 2.43917525254242, -0.699492741359384, -0.328841601302833, 0.811240284831587, \n . -0.647630882236847, -0.552111299898162, -0.724984163639953, -0.164758883175031, \n . 2.09928962213483, 0.718943755884699, -0.591373950307315, -0.529842931009389, \n . 1.38347876430229, -0.605145178435898, 1.7945645741832, 1.10336612406983, \n . 0.674114013253353, 0.585040537698261, 7.07158199111481, -0.724984163639953, \n . 0.535229712552321, -0.47153496510326, 2.43624520400442, 1.60704146775142, \n . 2.09928962213483, 1.86195569055712, 0.482488838868385, -0.591373950307315, \n . -0.409710940951535, 0.324266217816577, 2.21356151511669, 1.47284524471119, \n . 0.599983785242043, -0.0698253105439463, 0.517649421324343, 1.47284524471119, \n . 1.51357291938934, -0.66960624627182, 6.11638616772797, -0.346128887677012, \n . -0.424361183641517, 0.568046256177882, 2.21063146657869, 2.08756942798284, \n . -0.605145178435898, 0.205306247173921, 0.451723329219422, 0.347413601266749, \n . 2.21356151511669, 1.38347876430229, 1.15259093950817, 3.07499578528765, \n . 0.482488838868385, 3.07499578528765, 1.55869566687448, 0.389606300213898, \n . -0.733481304400143, -0.783642546832836, -0.859214320652266, 2.08660668180048, \n . -0.473040708714347, 0.259210977462672, -0.534569805736035, -1.07133264912343, \n . -0.468606179199271, 0.00237780971448716, -1.16981615877075, 0.42181039301548, \n . 1.94433219319177, 1.47501115284617, -0.627325381426386, -0.666127514683307, \n . -0.346841389597793, -0.367166316541894, -0.21750094540806, 1.77618961574512, \n . -0.36347087527933, 0.0781343555970452, -0.878615387280726, -0.187937415307549, \n . -0.110333148793709, 0.29616539008831, 0.551150837205213, 1.53413821304719, \n . -1.24464884433767, 0.545607675311368, 0.662014075082128, 0.0171595747647424, \n . 0.593648411724697, 0.820918049372372, -0.58815370404321, -0.418717722154659, \n . 0.390399142283687, 1.09068526153953, 0.512348703948293, 1.1960053375226, \n . -1.15725165847804, -0.535863210177932, -0.432021310699889, -1.38951014183017, \n . -0.657258455653153, -0.134353517000374, -0.658921404221307, -0.267389402452671, \n . -0.732460685346327, 2.39332830659327, 0.240733771149853, 1.28469592782413, \n . 0.0485708254965351, -1.03271528792964, -0.874550401891906, -0.841291430528831, \n . 1.38447284191335, 2.68157272507325, -0.796761363314937, -0.77606689224458, \n . -0.425739060553531, 1.56554946377898, -0.894690556772878, -0.833900548003704, \n . 0.887435992098521, 0.81907032874109, -1.48984137210878, 0.00792097160833309, \n . -1.01091218448051, 1.09438070280209, 1.31610717855592, -0.786044583653502, \n . 1.93694131066664, -0.13065807573781, -0.411696383755788, -0.193480577201395, \n . 0.10215472380371, -0.826324893415448, -0.696984449225714, 0.989060626819025, \n . 6.78536024715036, -0.561916071079007, 0.209322520418061, -0.311734697603437, \n . 0.238886050518571, -0.536602298430445, -1.57040199163267, -0.642107146476642, \n . 1.31056401666208, -1.43958337093791, -1.32040539022023, 0.00792097160833309, \n . -0.594990270378953, -0.740221111997711, -0.57281762280357, -1.32317697116715, \n . -0.591294829116389, -0.706962140634637, 0.536369072154958, 2.0533477104374, \n . -1.01904215525815, -0.994467470862101, 0.793202239903143, -0.287714329396772, \n . 2.58549125224659, 0.517891865842139, -0.322821021391128, -0.683311316554228, \n . 1.29947769287439, -0.910765726265031, -1.26275650652423, 0.362683332814459, \n . 1.99606837086766, 0.124327371379093, -0.0863127805870444, 0.253667815568827, \n . 0.327576640820103, -1.37417406059053, 1.40664548948874, -0.4891158782065, \n . -0.957328286173335, -0.343145948335229, -1.00462993433415, -0.128810355106528, \n . -0.319125580128564, 0.647232310031872, -0.284018888134208, 1.05927401080774, \n . -1.18108725462157, 0.170520387161141, -0.972479595349847, -0.709918493644688, \n . 0.401485466071379, -0.55655768124829, -1.02236805239446, -1.575206065274, \n . 2.89036515640811, -0.919450013232056, -1.13286174614512, 1.82423035215845, \n . 0.477242011953937, -0.315430138866001, -0.749090171027864, -0.484496576628295, \n . -0.243369034246006, -0.559883578384597, -1.19420607110368, 1.39186372443848, \n . -0.40024051584184, -1.05599656788379, 1.48240203537129, -0.81690151819591, \n . -0.498539253426038, -0.721004817432379, -0.874365629828777, 2.39517602722456, \n . -0.112180869424991, -0.833715775940576, -0.745579501828428, 0.49017605637291, \n . 0.549303116573931, 0.277688183775491, -0.0234902791234596, 0.0633525905467903, \n . -0.480431591239475, 0.133565974535502, 0.418114951752916, -1.47857027625796, \n . -1.30469976485433, 0.0337890604462798, -0.115876310687555, -1.23984477069634, \n . -0.419272038344044, -0.335755065810102, 0.408876348596507, -0.627694925552643, \n . -0.705483964129611, -1.09184234813066, -0.269237123083953, -1.22875844690865, \n . 1.60065615577334, 0.872654227048265, 0.220408844205752, 0.0966115619098643, \n . -0.969338470276667, 0.159434063373449, -0.568567865351622, -0.563394247584032, \n . 0.979822023662616, 1.08144665838312, 1.05003540765133, 0.632450544981617, \n . -0.0567492504865339, -0.0179471172296136, -1.04768182504302, \n . 0.859720182629292, 0.419962672384198, 0.551150837205213, 0.987212906187743, \n . 0.237038329887289, -0.158373885207039, 0.754400106646223, -0.453824414149016, \n . -0.608109086861055, 0.456917085009836, -1.00592333877605, -0.819303555016577, \n . -0.308039256340873, -1.03068279523523, 0.301708551982156, -1.3477516555632, \n . 2.45615080805686, -0.0160993965983319, -1.09128803194127, 0.261058698093954, \n . 0.630602824350335, 0.909608639673903, -0.907994145318108, -1.0075862873442, \n . 1.31425945792464, 0.253667815568827, 0.0356367810775615, 0.876349668310829, \n . -0.557111997437674, -0.82614012135232, -0.975066404233641, -0.737634303113916, \n . -0.784012090959092, 0.183454431580114, 0.97427886176877, 0.253667815568827, \n . 2.64277059181633, -1.43995291506417, -1.24668133703208, -1.33999122891182, \n . -1.17609840891711, -0.0863127805870444, -0.529026643842189, -1.18145679874783, \n . -0.492441775342807, -1.52550238029252, -0.010556234704486, -0.108485428162427, \n . -0.136201237631656, -0.308039256340873, 0.504957821423166, 0.782115916115452, \n . -0.797685223630578, -0.684419948932997, -0.21750094540806, -0.221196386670624, \n . 0.327576640820103, -0.770154186224478, -1.05507270756815, -0.374557199067022, \n . -0.0807696186931985, -0.152830723313193, -0.239673592983443, \n . 0.0670480318093541, -0.985598411831948, -1.11955815759989, -1.32483991973531, \n . 2.62798882676608, -1.30950383849567, 1.28284820719285, -0.62492334460572, \n . 0.684186722657511, 1.41403637201386, 0.4606125262724, 0.492023777004193, \n . -0.24706447550857, 0.710054811495457, -0.306191535709591, 0.22779972673088, \n . -0.454009186212144, -0.350536830860357, 0.277688183775491, 0.46985112942881, \n . 0.285079066300619, 1.23111202951696, 0.272145021881646, 1.62098108271744, \n . 3.16752325110039, 3.12502567658091, 0.516044145210857, 4.95796454281256, \n . 0.397790024808815, 0.613973338668798, 0.177911269686268, -0.546764761902495, \n . -0.589447108485107, -0.248912196139852, 2.31018087818559, -0.112180869424991, \n . -0.767197833214427, -1.07003924468153, -0.158373885207039, 0.641689148138027, \n . -0.383795802223431, -0.812097444554577, 3.5241333329378, -0.0197948378608957, \n . -0.713613934907252, -0.710472809834072, 0.493871497635474, -0.947535366827541, \n . 0.641689148138027, -0.79953294426186, 0.364531053445741, 0.21856112357447, \n . -0.541406372071778, 0.346053847132922, -0.259998519927543, -0.383795802223431, \n . -1.01516194193246, 0.486480615110347, 0.979822023662616, 0.58625752919957, \n . -0.929612476704106, 0.70266392897033, -0.658921404221307, 0.21856112357447, \n . 1.1756804105785, -0.986152728021333, 1.38262512128207, -0.317277859497283, \n . 0.837547535053909, -1.01516194193246, -0.332059624547538, -0.424076111985377, \n . -0.668529551503973, -0.0253379997547413, 1.64869689218667, -0.574665343434852, \n . 1.17937585184106, -0.0493583679614063, -1.03807367776035, -0.259998519927543, \n . -0.259998519927543, -1.03807367776035, -0.258150799296262, 0.238886050518571, \n . 0.0799820762283273, 4.3519121757521, -0.716570287917303, 0.765486430433915, \n . 0.364531053445741, -0.437379700530607, 0.493871497635474, -0.258150799296262, \n . -0.337602786441384, 0.407028627965225, -0.972664367412975, -1.57169539607457, \n . 0.10215472380371, -0.541406372071778, -0.699940802235765, -1.22395437326731, \n . -1.12066678997866, -0.545840901586854, 3.5241333329378, -0.658921404221307, \n . -0.265541681821389, -0.1214194725814, 0.10215472380371, 1.32534578171233, \n . -0.258150799296262, 1.86118476478409, -0.767197833214427, -0.357927713385485, \n . -0.876582894586316, -0.589447108485107, -0.112180869424991, -0.370861757804458, \n . -0.391186684748559, 0.299860831350874, -0.337602786441384, 0.0356367810775615, \n . 0.765486430433915, 0.10215472380371, 0.966887979243642, 0.837547535053909, \n . -0.479322958860706, -0.716570287917303, 0.394094583546251, -0.1214194725814, \n . 1.25513239772362, -0.589447108485107, -0.568013549162237, -0.337602786441384, \n . 0.0966115619098643, -0.972664367412975, -0.259998519927543, 0.468003408797528, \n . 0.200083917261651, -0.713613934907252, -1.01460762574307, -0.809325863607654, \n . 0.00607325097705097, -0.304343815078309, 0.00237780971448716, \n . 0.493871497635474, 1.10177158532722, -0.767197833214427, 0.70266392897033, \n . -0.0641401330116615, -0.710472809834072, 1.86118476478409, -0.250759916771134, \n . -0.0641401330116615, 0.126175092010375, 0.192693034736523, 0.486480615110347, \n . -0.46047620842163, 0.0356367810775615, -1.09424438495132, -0.402088236473122, \n . -0.254455358033698, -0.462878245242297, -0.0253379997547413, \n . 0.10215472380371, 1.17937585184106, 0.70266392897033, -0.258150799296262, \n . -0.710472809834072, 1.08883754090825, 1.65793549534308, -0.309886976972155, \n . -0.361623154648049, 0.0504185461278168, -0.546764761902495, -0.577067380255519, \n . 1.10177158532722, -0.809325863607654, -0.0955513837434538, 0.238886050518571, \n . -0.332059624547538, -0.716570287917303, -0.389338964117277, 0.126175092010375, \n . -0.317277859497283, 0.0356367810775615, -0.876582894586316, -0.0142516759670498, \n . -0.668529551503973, -0.947535366827541, 0.25736325683139, -0.79953294426186, \n . -0.248912196139852, -0.332059624547538, -0.0807696186931985, \n . -0.0253379997547413, 0.00607325097705097, -0.536232754304188, \n . 0.170520387161141, 0.0504185461278168, 0.706359370232894, -0.65762799977941, \n . 0.120631930116529, -1.10939569412784, -1.57169539607457, 0.205627079155497, \n . -0.539189107314239, 0.680491281394947, -1.14801305532163, -1.10939569412784, \n . 0.547455395942649, -0.744470869449659, 0.706359370232894, 0.641689148138027, \n . 0.273992742512927, 0.329424361451385, -0.539189107314239, 0.170520387161141, \n . 0.126175092010375, 0.309099434507283, 0.495719218266756, -0.0253379997547413, \n . 0.0966115619098643, -0.298800653184464, -1.02587872159389, -0.947535366827541, \n . -0.521266217190805, 0.200083917261651, -0.462878245242297, 1.16828952805337, \n . -0.46047620842163, 3.5241333329378, -1.10939569412784, -0.0807696186931985, \n . 0.273992742512927, 0.397790024808815, -0.686267669564279, -0.332059624547538, \n . 2.29355139250405, -0.724145942505558, 1.10177158532722, -0.788631392537297, \n . -0.710472809834072, -1.12066678997866, -0.713613934907252, 0.468003408797528, \n . -0.686267669564279, 0.979822023662616, -0.337602786441384, 0.139109136429348, \n . 0.468003408797528, 0.0966115619098643, -1.12066678997866, 0.495719218266756, \n . 0.309099434507283, 0.70266392897033, -0.626401521110745, 1.65793549534308, \n . -0.370861757804458, -0.541406372071778, 2.29355139250405, -0.479322958860706, \n . -0.539189107314239, -0.304343815078309, -0.713613934907252, -1.57169539607457, \n . -0.0807696186931985, -0.248912196139852, 0.0799820762283273, \n . 0.220408844205752, -1.36179433236094, -1.09424438495132, 1.24219835330465, \n . -0.624184256353207, 0.979822023662616, 0.495719218266756, 0.238886050518571, \n . -0.284018888134208, 0.486480615110347, -0.0807696186931985, 0.58625752919957, \n . -1.14949123182665, -0.863833622230471, -0.947535366827541, 0.0799820762283273, \n . -0.568013549162237, -0.539189107314239, -1.36179433236094, 0.394094583546251, \n . -0.350536830860357, 0.613973338668798, -0.344993668966511, 0.273992742512927, \n . -0.258150799296262, 0.170520387161141, -0.344993668966511, 1.25513239772362, \n . -0.383795802223431, 0.172368107792423, 0.177911269686268, -0.419456810407172, \n . 0.541912234048804, 1.80205770458306, 0.747009224121095, -0.624184256353207, \n . 0.839395255685191, -1.02587872159389, -0.546764761902495, 0.613973338668798, \n . 1.24219835330465, 1.1756804105785, 3.5241333329378, -0.539189107314239, \n . 3.5241333329378, -0.577067380255519, -0.972664367412975, -1.03807367776035, \n . -0.489332800074984, -0.75561836736977, -0.839646257493902, -0.869628039885611, \n . -0.616755375239748, -0.729581556345391, -0.701572259637346, -0.440020657983357, \n . -0.277487837649354, -0.888563902448796, 0.00536660938821778, \n . -0.272359374871825, -0.646342660494724, -0.720902619337264, -0.0514409783013364, \n . -0.614782889556083, -0.255001500855573, -0.599791998360228, -0.481837354477057, \n . -0.695654802586351, -0.732737533439255, 0.203404172028192, -0.402148932856988, \n . -0.235671141155655, -0.47315841746893, -0.350469807944962, -0.460140011956741, \n . -0.719324630790332, -0.688553854125157, -0.834517794716373, -0.698416282543482, \n . -0.393075498712128, -0.451066577811882, -0.96651653666724, -0.671195980108904, \n . -0.217524272865936, -0.231726169788325, 0.0396878602839902, -0.496039251399445, \n . -0.767058784335027, -0.512213634005499, -0.00725729898723874, \n . -0.866077565655014, -0.540617427850276, -0.818737909247052, -0.711434688055672, \n . -0.198193913166018, -0.52286505669729, -0.015936235995365, -0.570993707378718, \n . -0.537066953619679, -0.588746078531704, -0.10943205740109, -0.464873977597537, \n . -0.680663911390497, -0.810847966512392, 0.305578930442043, -0.737471499080051, \n . -0.583617615754175, -0.715774156559735, 0.0712476312226315, -0.839251760357169, \n . -0.587957084258238, 0.24758785134229, -0.529966005158485, -0.857004131510155, \n . -0.554424827635932, -0.642397689127394, -0.757985350190168, -0.451066577811882, \n . -0.735104516259653, -0.065642875223725, -0.86686655992848, -0.599791998360228, \n . -0.550874353405335, -0.243955581027048, -0.613993895282617, -0.635691237802933, \n . 0.717828438328045, -0.421479292556905, -0.712223682329138, -0.39070851589173, \n . -0.31614855704919, -0.702755751047546, -0.713012676602604, -0.699599773953681, \n . -0.731554042029056, -0.217524272865936, -0.752462390275906, -0.507874165501436, \n . -0.653838106092652, -0.494855759989246, 0.183284818054808, -0.824655366298047, \n . -0.403332424267187, -0.883435439671267, -0.821893886340916, -0.643581180537593, \n . -0.470791434648532, -0.513791622552431, -1.00257357496464, -0.366644190551016, \n . -0.185175507653829, -0.30825861431453, -0.710645693782206, -0.636085734939666, \n . -0.242377592480116, -0.279065826196287, -0.968291773782539, -0.8420132403143, \n . -0.610837918188753, 0.285065079331926, -0.683819888484361, -0.637269226349865, \n . -0.62227833515401, -0.039606064199346, -0.861343600014218, -0.530360502295218, \n . -0.444754623624153, -0.7177466422434, -0.801380035230799, -0.645948163357991, \n . -0.398203961489657, -0.283799791837083, -0.892903370952859, -0.324827494057316, \n . -0.527599022338087, -0.82623335484498, -0.84990318304896, -0.70591172814141, \n . -0.288533757477879, -0.863710582834616, -0.530360502295218, -0.375717624695875, \n . -0.864499577108082, -0.424635269650769, -0.888169405312063, -0.733921024849454, \n . -0.32009352841652, -0.671195980108904, -0.664489528784443, -0.528388016611553, \n . -0.683425391347628, -0.686581368441492, -0.722875105020929, -0.328772465424647, \n . -0.528388016611553, -0.698021785406749, -0.937520997117363, -0.599791998360228, \n . -0.245139072437247, -0.737471499080051, -0.766664287198294, -0.372167150465278, \n . -0.356781762132691, -0.686186871304759, -0.871206028432543, 0.0124675578494122, \n . -0.0340831042850837, -0.27946032333302, -0.615966380966282, 0.386056346335578, \n . -0.0123857617647679, -0.382424076020337, -0.695654802586351, \n . -0.376506618969342, -0.773370738522755, -0.759957835873833, -0.369011173371414, \n . -0.748911916045308, -0.86686655992848, -0.587562587121505, -0.795857075316537, \n . -0.599791998360228, -0.466057469007736, -0.473947411742396, -0.627012300794807, \n . -0.287744763204413, -0.769425767155425, -0.0518354754380695, \n . -0.81321494933279, -0.704333739594478, -0.248689546667844, -0.802958023777732, \n . -0.355598270722492, -0.907697013580347, -0.274726357692223, -0.110615548811289, \n . -0.294451214528874, -0.481048360203591, -0.765086298651362, -0.83806826894697, \n . -0.53982843357681, -0.698810779680215, -0.524837542380955, -0.430947223838498, \n . 0.59040586316328, 0.516240401457473, -0.83412329757964, -0.289717248888078, \n . -0.417534321189575, -0.919334679113971, -0.4692134461016, -0.431736218111964, \n . -0.665278523057909, -0.276698843375888, -0.258157477949437, -0.667645505878307, \n . -0.194248941798688, -0.41950680687324, -0.797435063863469, -0.565470747464456, \n . -0.716563150833201, -0.514580616825897, -0.529966005158485, -0.703150248184279, \n . -0.455800543452678, -0.860949102877485, -0.398992955763123, -0.782838669804348, \n . -0.647526151904923, -0.810847966512392, -0.619911352333612, -0.787178138308411, \n . -0.813609446469523, 0.0278529461819998, -0.389130527344798, -0.40372692140392, \n . -0.107065074580692, -0.287744763204413, 0.315835855997101, -0.580856135797044, \n . -0.787967132581877, -0.829783829075577, -0.752067893139173, -0.683030894210895, \n . -0.49012179434845, -0.866472062791747, -0.684214385621094, -0.850297680185694, \n . 0.67285576474048, -0.293662220255408, -0.679085922843565, -0.0534134639850016, \n . -0.469607943238333, -0.671590477245637, -0.806902995145062, -0.392286504438662, \n . -0.683425391347628, -0.112193537358221, -0.596241524129631, -0.912352079793797, \n . -0.770609258565624, -0.713012676602604, -0.0482850012074722, \n . -0.359148744953089, -0.914127316909095, -0.400176447173323, -0.879490468303937, \n . -0.731948539165789, -0.996892816195682, 0.312679878903237, -0.625039815111141, \n . -0.0589364238992637, -0.75167339600244, -0.841618743177567, -0.449883086401682, \n . -0.318121042732855, -0.731159544892323, -0.269597894914694, -0.694076814039419, \n . -0.48223185161379, -0.48617682298112, -0.766269790061561, -0.911168588383598, \n . -0.490910788621916, -0.514580616825897, -0.718535636516866, -0.464479480460804, \n . -0.708673208098541, -0.651076626135521, 0.126082733228521, -0.537461450756412, \n . -0.161900176586581, -0.496039251399445, -0.296029203075806, 2.66348831669528, \n . -0.351653299355161, 0.36278101526833, -0.552846839089, -0.155982719535586, \n . 0.751360694950351, 1.08589426689995, 0.863003384645794, 1.44883163269432, \n . 0.396313271890636, 0.539910229661454, -0.610048923915287, -0.0467070126605402, \n . 2.56762551246916, 0.184468309465007, -0.68105840852723, -0.0830007492399777, \n . 1.47171246662484, 1.6815849433668, 0.539910229661454, 0.32214781018483, \n . 1.59321758473861, 0.543066206755318, -0.114560520178619, 0.884306230029377, \n . 0.11819279049386, -0.610048923915287, 0.392368300523306, 7.36983915792016, \n . 1.77744774759292, 0.422350082915015, 0.0337704032329949, 0.622754628375388, \n . 0.514662412910541, 0.543066206755318, 0.920599966608814, -0.451855572085347, \n . -0.142569816886663, 0.728085363883103, 2.182201809881, 0.392368300523306, \n . -0.280643814743219, -0.468818948964867, 1.54785041401431, 1.5226025972634, \n . 0.331221244329689, 0.850773973407071, -0.553635833362466, 1.25789501851554, \n . -0.73076504775559, 0.11819279049386, 0.11819279049386, -0.73076504775559, \n . 0.210899617626119, 0.75648915772788, 1.7257686226809, 3.06587539616295, \n . -0.343763356620501, -0.100753120392963, 1.59321758473861, 1.56915325939789, \n . 1.47171246662484, 0.210899617626119, 0.0696696426756995, -0.210423324404742, \n . 0.224707017411775, -0.522470559560557, 0.818425208194964, -0.114560520178619, \n . -0.473947411742396, -0.296423700212539, 0.0905779909225493, -0.32916696256138, \n . 2.56762551246916, 0.514662412910541, -0.410827869865114, -0.0616979038563949, \n . 0.818425208194964, 0.240881400017828, 0.210899617626119, 0.00102714088415474, \n . 0.863003384645794, -0.253029015171908, -0.189120479021159, -0.552846839089, \n . 1.08589426689995, 0.0787430768205589, 0.403414220351831, -0.150854256758056, \n . 0.0696696426756995, -0.0112022703545688, -0.151643251031522, \n . 0.818425208194964, 0.737553295164695, 2.182201809881, -0.669223494425239, \n . -0.343763356620501, -0.401359938583521, -0.0616979038563949, \n . 1.51076768316141, -0.552846839089, 2.08712799992834, 0.0696696426756995, \n . -0.179258050602834, 0.224707017411775, 0.11819279049386, 0.8977191326783, \n . 0.56160757218177, -0.68105840852723, -0.0960191547521672, -0.0691933494543221, \n . 0.358047049627534, 0.589222371753081, 0.0231189805412036, 1.47171246662484, \n . -0.258946472222903, 0.863003384645794, 0.622754628375388, -0.146514788253993, \n . -0.0830007492399777, 0.00102714088415474, -0.167817633637576, \n . -0.146514788253993, -0.334689922475642, -0.284588786110549, 7.36983915792016, \n . 1.55771284243263, -0.0112022703545688, -0.529177010885019, -0.155982719535586, \n . 0.0499447858390486, 0.115431310536729, 1.5226025972634, 0.818425208194964, \n . -0.363882710593885, 0.622754628375388, 0.210899617626119, -0.0830007492399777, \n . 0.291377033519654, -0.468029954691401, 0.612497702820329, 1.01251779946761, \n . -0.0407895556095451, 0.36278101526833, 1.47999690649623, -0.258946472222903, \n . -0.0691933494543221, 1.5537678710653, 0.75648915772788, -0.165450650817178, \n . -0.343763356620501, -0.352047796491894, -0.334689922475642, 0.728085363883103, \n . -0.0112022703545688, -0.189120479021159, -0.369405670508147, \n . 1.54785041401431, 1.6815849433668, 2.19679820394012, 0.32214781018483, \n . -0.155982719535586, -0.165450650817178, -0.488149308664785, 1.5226025972634, \n . 0.358047049627534, -0.0317161214646857, 0.399863746121234, -0.0407895556095451, \n . 0.975829565751437, -0.436075686616027, -0.550479856268601, -0.774948727069687, \n . -0.522470559560557, 0.0704586369491654, -0.415956332642643, 0.629855576836582, \n . -0.691709831219021, -0.774948727069687, 0.495332053210624, -0.290111746024811, \n . 0.975829565751437, 0.539910229661454, 0.490598087569827, 0.327670770099092, \n . -0.415956332642643, 0.399863746121234, -0.334689922475642, -0.726425579251527, \n . 0.994765428314622, 1.5226025972634, -0.179258050602834, 1.74943845088488, \n . 0.323725798731761, 1.6815849433668, -0.0810282635563126, 0.56160757218177, \n . 0.115431310536729, 0.0929449737429473, 1.55771284243263, 2.56762551246916, \n . -0.774948727069687, -0.488149308664785, 0.490598087569827, -0.582434124343976, \n . -0.482626348750523, -0.280643814743219, 2.69110311626659, 1.21252784779125, \n . -0.258946472222903, -0.0806337664195797, -0.0830007492399777, \n . 0.0905779909225493, -0.68105840852723, 0.8977191326783, -0.482626348750523, \n . 1.77744774759292, 0.0696696426756995, 0.810535265460303, 0.8977191326783, \n . -0.179258050602834, 0.0905779909225493, 0.994765428314622, -0.726425579251527, \n . 0.622754628375388, 0.140284630150909, -0.468029954691401, 0.0787430768205589, \n . -0.114560520178619, 2.69110311626659, -0.669223494425239, -0.415956332642643, \n . 0.589222371753081, -0.68105840852723, -0.522470559560557, -0.488149308664785, \n . -0.155982719535586, 1.7257686226809, 0.48704761333923, -0.584406610027641, \n . -0.529177010885019, 2.11079782813232, 0.0661191684451024, 1.77744774759292, \n . 0.994765428314622, 0.75648915772788, 0.300844964801247, 7.36983915792016, \n . -0.488149308664785, 0.422350082915015, -0.543378907807407, 2.49977200495108, \n . 1.6815849433668, 1.7257686226809, 2.08712799992834, 0.339111187064349, \n . -0.584406610027641, -0.401359938583521, 0.281514605101329, 2.66348831669528, \n . 2.15379801603622, 0.490598087569827, 0.210899617626119, 0.399863746121234, \n . 2.15379801603622, 1.51076768316141, -0.610048923915287, 6.05616369259921, \n . -0.351653299355161, -0.090101697701172, 0.345423141252078, 1.88514546592104, \n . 1.75575040507261, 0.0661191684451024, 0.18486280660174, 0.323725798731761, \n . 0.36278101526833, 2.66348831669528, 2.11079782813232, 0.920599966608814, \n . 2.56762551246916, 0.339111187064349, 2.56762551246916, 1.47999690649623, \n . 0.224707017411775, -0.73076504775559, -0.448243830396406, -0.600894238039453, \n . -0.609651460525162, -0.711904911314177, -0.505938472655196, -0.602954760977267, \n . -0.552815369490462, -0.449789222599767, -0.286836200267651, -0.709895901449808, \n . -0.258332299627892, -0.448930671375678, -0.608964619545891, -0.538048288436129, \n . -0.415962304370655, -0.514867405385723, -0.292159217857004, -0.503362818982928, \n . -0.430042544445717, -0.630256689903301, -0.575309411561597, -0.118560160346183, \n . -0.273099380682225, -0.228626427274408, -0.419739929756648, -0.433133328852438, \n . -0.508514126327463, -0.582349531599128, -0.683950483457835, -0.600722527794635, \n . -0.650690209036622, -0.455627370923573, -0.498726642372847, -0.694356124293795, \n . -0.571016655441151, -0.460091837288836, -0.501130585800297, -0.350540701095064, \n . -0.510918069754912, -0.69883776168354, -0.427123470283814, -0.561916012465806, \n . -0.672497410128486, -0.437426084972883, -0.601065948284271, -0.545260118718478, \n . -0.168699551832988, -0.591106754084837, -0.262625055748338, -0.400680092581869, \n . -0.485676663766692, -0.548179192880381, -0.423002424408186, -0.488767448173413, \n . -0.484131271563332, -0.677477007228203, 0.00318240322965517, \n . -0.586985708209209, -0.461465519247379, -0.569299552992973, -0.0524517160913201, \n . -0.625277092803584, -0.534442373294955, -0.194456088555661, -0.482757589604789, \n . -0.655669806136339, -0.435880692769523, -0.553502210469733, -0.525170020074792, \n . -0.475374049077623, -0.657730329074153, -0.380933414427819, -0.606560676118441, \n . -0.478636543729161, -0.461808939737015, -0.398962990133691, -0.546118669942567, \n . -0.538219998680947, 0.0684322962604286, -0.48035364617734, -0.582349531599128, \n . -0.385054460303447, -0.33268283563401, -0.641074435326824, -0.593682407757104, \n . -0.509372677551552, -0.558825228059086, -0.461465519247379, -0.554017341204187, \n . -0.491686522335316, -0.594369248736375, -0.42901228297681, -0.0236043949619256, \n . -0.649144816833262, -0.511433200489366, -0.705036501521464, -0.635751417737471, \n . -0.473828656874262, -0.338349273712999, -0.385913011527536, -0.698150920704269, \n . -0.571360075930787, -0.167154159629627, -0.454081978720213, -0.567067319810341, \n . -0.533068691336412, -0.389347216423893, -0.393296552054702, -0.667861233518404, \n . -0.626650774762126, -0.571360075930787, -0.0141603314969451, \n . -0.559340358793539, -0.471253003201995, -0.467303667571185, -0.476576020791348, \n . -0.6350645767582, -0.552471949000826, -0.425749788325271, -0.548179192880381, \n . -0.662366505684234, -0.499756903841754, -0.499756903841754, -0.366509753863122, \n . -0.679709240410834, -0.459061575819929, -0.540108811373943, -0.586642287719573, \n . -0.684706008535033, -0.502675978003657, -0.285977649043562, -0.659104011032695, \n . -0.356550559663688, -0.420426770735919, -0.690733038128139, -0.546977221166656, \n . -0.634892866513382, -0.581147559885403, -0.31774404433486, -0.463354331940375, \n . -0.568269291524066, -0.526371991788517, -0.550411426063012, -0.442062261582965, \n . -0.561400881731353, -0.498211511638394, -0.515897666854629, -0.59402582824674, \n . -0.605358704404716, -0.563461404669167, -0.300916440342713, -0.645538901692087, \n . -0.667346102783951, -0.431587936649077, -0.520877263954346, -0.543371306025481, \n . -0.642448117285366, -0.357580821132595, -0.380761704183001, -0.482414169115154, \n . -0.496666119435033, -0.334571648327006, -0.329420340982472, -0.366853174352757, \n . -0.556421284631636, -0.276190165088946, -0.548522613370016, -0.612398824442247, \n . -0.728681002232878, -0.596773192163825, -0.657902039318971, -0.577369934499411, \n . -0.652235601239982, -0.688827054410661, -0.523109497136978, -0.510059518530823, \n . -0.455799081168391, -0.458374734840658, -0.648801396343626, -0.357409110887777, \n . -0.635236287003018, -0.521564104933618, -0.327874948779111, -0.629913269413665, \n . -0.505766762410378, -0.657730329074153, -0.33508677906146, -0.410124156046849, \n . -0.144660117558492, -0.409952445802032, -0.618236972766053, -0.735995858662117, \n . -0.51744305905799, -0.55453247193864, -0.526715412278152, -0.504221370207017, \n . -0.0036860065630578, -0.105510181740028, -0.653609283198525, \n . -0.49615098870058, -0.505938472655196, -0.686165545615985, -0.453738558230577, \n . -0.587844259433298, -0.442062261582965, -0.397761018419966, -0.290613825653643, \n . -0.522250945912889, -0.54113907284285, -0.348995308891704, -0.627509325986216, \n . -0.519847002485439, -0.513665433671998, -0.457172763126933, -0.505251631675924, \n . -0.614802767869697, -0.411497838005392, -0.624075121089859, -0.356035428929235, \n . -0.550926556797466, -0.488939158418231, -0.659104011032695, -0.500443744821025, \n . -0.631458661617026, -0.562774563689896, -0.443951074275961, -0.382307096386362, \n . -0.492545073559405, -0.37458013536956, -0.462495780716286, -0.0807839064862612, \n . -0.452536586516852, -0.688002845235535, -0.652922442219254, -0.611883693707794, \n . -0.606560676118441, -0.364964361659761, -0.632317212841115, -0.498383221883211, \n . -0.614631057624879, -0.334399938082189, -0.379388022224459, -0.543027885535846, \n . 0.0220705301596159, -0.430385964935353, -0.477777992505072, -0.648286265609172, \n . -0.2545546742419, -0.535300924519044, -0.508685836572281, -0.549381164594105, \n . -0.636781679206378, -0.628883007944758, -0.540452231863578, -0.262625055748338, \n . -0.515725956609812, -0.692553166723208, -0.398619569644055, -0.728234555596352, \n . -0.576854803764957, -0.69902664295284, -0.0845615318722533, -0.534442373294955, \n . -0.326329556575751, -0.589389651636659, -0.679537530166017, -0.493060204293859, \n . -0.524139758605885, -0.651377050015893, -0.455970791413209, -0.546290380187384, \n . -0.455799081168391, -0.316370362376317, -0.630084979658483, -0.726998241833663, \n . -0.539593680639489, -0.546290380187384, -0.530664747908962, -0.546118669942567, \n . -0.563804825158803, -0.564319955893256, -0.352944644522514, -0.561400881731353, \n . -0.340409796650812, -0.461122098757743, -0.523968048361067, 2.06628099471582, \n . -0.182092950928778, 0.391075846273122, -0.436395823503977, -0.224677091643599, \n . 0.847825097488536, 1.12530885311414, 0.796483734288006, 1.19571005348945, \n . 0.761111423855534, 0.57514922871783, -0.512291751713455, 0.072896762625692, \n . 3.14805553706812, 0.320846356142631, -0.500272034576207, -0.153417340044201, \n . 1.0652102674279, 1.38287422034088, 0.57514922871783, 0.740849614967031, \n . 1.2472231269348, 0.296120080888864, -0.0768345708554513, 0.759737741896992, \n . 0.153943998179705, -0.512291751713455, 0.375965344729153, 8.17229730043768, \n . 1.39317683502995, 0.662549743330103, -0.0816424577103504, 0.843875761857726, \n . 0.827391578355214, 0.296120080888864, 0.753384462838732, -0.303663804259798, \n . -0.294391451039635, 0.580987377041636, 0.948447300951781, 0.375965344729153, \n . 0.0459382541892936, -0.491343101845681, 1.7760906809737, 0.974203837674455, \n . -0.00952415488686391, 0.908953944643681, -0.534442373294955, \n . 1.28328227834654, -0.519331871750986, 0.153943998179705, 0.153943998179705, \n . -0.519331871750986, 0.0782197802150446, 0.54200915146799, 1.87224841807168, \n . 1.14247987759592, -0.314824970172957, -0.0735720762039125, 1.2472231269348, \n . 1.06005896008337, 1.0652102674279, 0.0782197802150446, -0.14878116343412, \n . -0.0661885356767461, 0.432458015274217, -0.398791279888873, 0.190861700815538, \n . -0.0768345708554513, -0.339207824937088, -0.0131300700280382, \n . 0.31775557173591, -0.370459089493932, 3.14805553706812, 0.827391578355214, \n . -0.421285321960008, -0.107570704677842, 0.190861700815538, 0.0524632434923709, \n . 0.0782197802150446, -0.185355445580317, 0.796483734288006, -0.425062947346, \n . -0.0728852352246412, -0.436395823503977, 1.12530885311414, -0.105853602229664, \n . 0.343168687968949, 0.111874988199338, -0.14878116343412, -0.0902279699512416, \n . -0.285977649043562, 0.190861700815538, 0.87117769078376, 0.948447300951781, \n . -0.529119355705602, -0.314824970172957, -0.428325441997539, -0.107570704677842, \n . 0.926124969125464, -0.436395823503977, 1.78124198831823, -0.14878116343412, \n . -0.102762817822943, 0.432458015274217, 0.153943998179705, 0.950164403399959, \n . 1.03430242336069, -0.500272034576207, 0.137116394187559, -0.140023940948411, \n . 0.436579061149845, 0.813998179259424, 0.0751289958083238, 1.0652102674279, \n . -0.261423084034613, 0.796483734288006, 0.843875761857726, -0.226737614581412, \n . -0.153417340044201, -0.185355445580317, -0.0981266412128615, \n . -0.226737614581412, -0.247686264449187, -0.0902279699512416, \n . 8.17229730043768, 1.82245244707451, -0.0902279699512416, -0.451849745537581, \n . 0.0600184942643551, -0.0191399285966621, -0.420083350246283, \n . 0.974203837674455, 0.190861700815538, -0.391751159851342, 0.843875761857726, \n . 0.0782197802150446, -0.153417340044201, 0.184508421757278, -0.308128270625061, \n . 0.791675847433107, 1.07722998456515, -0.0732286557142769, 0.391075846273122, \n . 1.54943315781417, -0.261423084034613, -0.140023940948411, 1.43095308888987, \n . 0.54200915146799, -0.293876320305182, -0.314824970172957, -0.435193851790252, \n . -0.247686264449187, 0.580987377041636, -0.0902279699512416, -0.0728852352246412, \n . -0.463869462674829, 1.7760906809737, 1.38287422034088, 1.83962347155629, \n . 0.740849614967031, -0.224677091643599, -0.293876320305182, -0.52293778689216, \n . 0.974203837674455, 0.436579061149845, 0.303847041905667, 0.458386262241709, \n . -0.0732286557142769, 0.627692563632084, -0.275331613864857, -0.457516183616569, \n . -0.603985022446174, -0.398791279888873, 0.0267067067696971, -0.300057889118624, \n . 0.70066941767966, -0.53478579378459, -0.603985022446174, 0.656024754027025, \n . -0.239100752208296, 0.627692563632084, 0.57514922871783, 0.553342027625966, \n . 0.303503621416031, -0.300057889118624, 0.458386262241709, -0.247686264449187, \n . -0.511604910734184, 1.3571176836182, 0.974203837674455, -0.102762817822943, \n . 2.99523341918025, 0.469719138399685, 1.38287422034088, -0.274644772885585, \n . 1.03430242336069, -0.420083350246283, -0.320491408251945, 1.82245244707451, \n . 3.14805553706812, -0.603985022446174, -0.52293778689216, 0.553342027625966, \n . -0.561400881731353, -0.347278206443525, 0.0459382541892936, 1.52539372353967, \n . 1.5150911088506, -0.261423084034613, -0.0232609744722898, -0.153417340044201, \n . 0.31775557173591, -0.500272034576207, 0.950164403399959, -0.347278206443525, \n . 1.39317683502995, -0.14878116343412, 0.688134569807959, 0.950164403399959, \n . -0.102762817822943, 0.31775557173591, 1.3571176836182, -0.511604910734184, \n . 0.843875761857726, 0.172316994375213, -0.308128270625061, -0.105853602229664, \n . -0.0768345708554513, 1.52539372353967, -0.529119355705602, -0.300057889118624, \n . 0.813998179259424, -0.500272034576207, -0.398791279888873, -0.52293778689216, \n . -0.224677091643599, 1.87224841807168, 0.419236326423245, -0.356207139174052, \n . -0.451849745537581, 1.14591408249228, -0.437426084972883, 1.39317683502995, \n . 1.3571176836182, 0.54200915146799, 0.168195948499585, 8.17229730043768, \n . -0.52293778689216, 0.662549743330103, -0.238585621473842, 2.24142544443, \n . 1.38287422034088, 1.87224841807168, 1.78124198831823, 0.537888105592362, \n . -0.356207139174052, -0.428325441997539, 0.333037783524697, 2.06628099471582, \n . 1.18712454124856, 0.553342027625966, 0.0782197802150446, 0.458386262241709, \n . 1.18712454124856, 0.926124969125464, -0.512291751713455, 8.45733630683526, \n . -0.182092950928778, -0.284088836350566, 0.235334654223354, 0.967335427881742, \n . 2.57626042182476, -0.437426084972883, 0.152226895731527, 0.469719138399685, \n . 0.391075846273122, 2.06628099471582, 1.14591408249228, 0.753384462838732, \n . 3.14805553706812, 0.537888105592362, 3.14805553706812, 1.54943315781417, \n . 0.432458015274217, -0.519331871750986, 0.433997554957232, -0.910409866933402, \n . -0.831870601737042, 0.589844096876283, -0.800146898540081, -0.793370961934905, \n . 0.0483851626990247, 0.392725941089341, 0.134932352974229, 0.941576806108609, \n . 0.142016286697822, 0.51900475964035, 1.06785562465962, 0.279998995748683, \n . 3.12835634687001, -0.677256048291659, 1.95488732570086, -0.542045313306553, \n . 1.02165605689706, -0.0797416385624883, -0.333839261256594, -0.475825932846877, \n . -0.672944088633819, -0.792138973461236, -0.360019016322048, -0.498925716728159, \n . 1.25573386689405, -0.277167791467848, 0.966216575581977, -0.607648699529394, \n . 0.617563837533822, 0.166964053289607, 0.458021330193765, -1.10752802272035, \n . 0.634503679046762, 2.09348602898856, 1.80396873767648, -0.540505327714467, \n . 1.48673170570687, 0.372090134155395, 0.231027453920364, 3.4794730618655, \n . -0.31197146584898, -0.996341062971772, -0.349239117177449, -0.755795313488019, \n . 0.601547987376133, -0.0862095780492472, -0.146269016140582, 1.29885346347244, \n . -0.119781263956711, -0.155816926811512, 0.960056633213635, -0.414842503400291, \n . -1.29817823902053, 1.65613012083628, 1.20645432794731, 0.605551949915555, \n . 0.471573203404117, -0.472745961662705, -1.11183998237818, -0.469665990478535, \n . -0.280555759770436, 0.733062756940234, 1.32041326176164, 0.232875436630866, \n . -0.607648699529394, 0.305562756577302, 2.43536283043154, 0.511304831679923, \n . 0.652675509033371, 1.78856888175563, -1.11953991033861, 0.456173347483263, \n . 0.0933527419879208, 2.25980447293379, -0.0455539584181904, -0.325523339059333, \n . -0.764419232803697, -1.64467499723976, -0.540505327714467, 0.142016286697822, \n . -0.0307700967341696, 0.821149932807524, -0.554981192280071, -0.850658425960485, \n . -0.473053958781123, -0.730847546896234, -0.899321970670386, -0.370182921229812, \n . 0.260595177288405, -0.314435442796317, 0.0111175113705557, -0.166288828837693, \n . -0.903633930328226, -1.04716058751059, 1.41281239728677, 0.103516646895685, \n . -0.229736235231615, -0.179532704929628, -1.16666346945643, -0.120089261075128, \n . -0.832178598855459, 2.767999718322, 0.0419172232122656, -0.120397258193545, \n . -0.207252445587167, -0.498001725372908, -1.09674812357575, -0.178916710692794, \n . 2.0780861730677, 2.1951250780662, 0.422909658694216, -1.02005684108989, \n . -0.206328454231916, -0.102841422443771, -0.715139693856962, -0.158588900877265, \n . -0.530033425688286, -0.83310259021071, -1.10106008323359, -1.19623119282447, \n . 0.960056633213635, -0.161052877824602, 0.561200364863493, -0.123477229377716, \n . -0.286715702138778, -1.05362852699735, 0.103516646895685, -1.14417967981198, \n . -0.89470201389413, -0.30457953500697, -0.622740558331832, -0.172140774087618, \n . -0.90209394473614, 4.21866614606653, -0.654464261528793, -0.526645457385698, \n . 0.093660739106338, 1.05861571110711, -0.352011091243203, -0.508165630280672, \n . -0.0751216817862318, -0.111157344641032, -0.715755688093796, \n . -0.408374563913532, 1.79780879530814, -0.442254246939413, -0.561141134648413, \n . 0.231027453920364, -0.762571250093195, -0.338459218032851, 0.111832569092947, \n . 0.764786460137195, 3.17455591463257, 0.0391452491465116, 0.658527454283296, \n . -0.465662027939112, 0.862421546675415, 0.232259442394032, -0.435786307452654, \n . 1.19413444321063, -0.0668057595889701, -0.391126725282175, -0.445026221005167, \n . 0.0628610272646283, -0.628592503581757, -0.869446250183928, 0.445393448338664, \n . -0.650152301870954, -0.566993079898338, -0.128713180390807, -0.541121321951301, \n . -0.619352590029244, -0.104073410917439, -0.815546754460936, -1.02406080362931, \n . 1.02473602808123, -0.422234434242301, 2.70024035227024, -0.518021538070019, \n . -0.496153742662405, -0.502621682149164, -0.860514333749832, -1.0545525183526, \n . -1.28308638021809, 0.199919744960237, 0.759550509124104, -0.320903382283076, \n . -0.358787027848379, -0.511861595701677, -0.473669953017957, 0.875357425648933, \n . -0.283943728073024, -0.044629967062939, 0.0693289667513872, 0.900305192240718, \n . 1.85324827662322, -0.409298555268783, 0.0958167189352577, -0.15704891528518, \n . -0.360327013440465, 0.087500796737996, 0.907697123082729, -0.399442647479436, \n . -0.352011091243203, 0.284310955406522, -0.682491999304749, 0.465721258154193, \n . -0.191236595429478, 1.12945504834304, 0.390261964142003, -0.69511988115985, \n . -0.895010011012547, -0.0612618114574624, 0.0865768053827449, \n . -0.28332773383619, -0.974781264682576, -0.373262892413983, -0.395746682058431, \n . -0.307659506191141, -0.14318904495641, -0.522641494846276, -0.105921393627942, \n . -0.333839261256594, -0.654156264410376, 0.074564917764478, 1.20953429913148, \n . 2.32140389661721, 0.1380123241584, 0.142940278053074, -1.16481548674593, \n . -0.794294953290156, -0.671404103041734, -1.15341959336449, -0.645532345094698, \n . -1.03145273447132, -0.801686884132166, -1.17282341182477, -0.313819448559483, \n . 0.055777093541035, 0.599084010428796, -0.602720745634721, -0.826634650723951, \n . 1.0278159992654, -0.504469664859667, -1.00311699957695, -0.902401941854558, \n . 0.815913981794433, 0.840861748386218, 4.53282320685197, -0.240516134376214, \n . -0.0218381803000737, 0.469417223575198, -0.548205255674895, 2.58936138964008, \n . -0.878686163736441, -0.0966814800754286, 0.259979183051571, -0.813082777513599, \n . -1.03853666819492, 0.920017007819413, 0.0844208255538251, -0.143497042074828, \n . -0.554981192280071, 0.754006560992597, 1.79472882412397, 1.72696945807221, \n . 2.59244136082426, 0.0262093701729936, -0.640604391200024, -0.232508209297369, \n . -0.364946970216721, 0.0101935200153045, 0.990856345055345, 0.119224499934957, \n . -1.0958241322205, 0.548880480126809, 1.1972144143948, 0.418597699036376, \n . 1.80396873767648, 1.39741254136591, 0.353302309931952, 0.0625530301462112, \n . 0.16665605617119, 0.0419172232122656, -0.165672834600859, -0.809078814974177, \n . -0.260227949954908, -0.160436883587768, 0.836549788728379, -0.395438684940014, \n . 0.519620753877185, -0.803534866842669, 0.724746834742972, -0.716063685212213, \n . 0.700415062388022, -0.913181840999156, -0.843574492236892, 5.01329871158265, \n . -0.323983353467247, -1.16204351268017, -0.296571609928125, 0.329894528932252, \n . -0.947061524025037, 0.700415062388022, 0.440157497325573, -0.270699851981089, \n . 0.0665569926856335, -0.393282705111094, 0.611095898047063, 0.506992872022084, \n . -0.913181840999156, -0.233740197771037, 1.97028718162172, 0.280614989985517, \n . 0.152488188724004, -0.0812816241545738, -0.971393296379988, -0.660008209660301, \n . 0.0665569926856335, 1.13869496189555, -0.468434002004866, 0.765402454374029, \n . 0.279075004393431, -0.155508929693094, -0.233740197771037, -0.619044592910827, \n . -0.801070889895332, -0.210640413889755, -0.214644376429177, -0.448722186426172, \n . -0.309507488901643, -0.289487676204532, -0.0766616673783172, \n . -0.926733714209508, 0.506992872022084, 0.506992872022084, -0.926733714209508, \n . -0.470897978952203, -0.808462820737343, 1.00009625860786, -1.20547110637698, \n . -0.610112676476731, -0.0683457451810555, -0.270699851981089, \n . 0.300634802682628, 0.329894528932252, -0.470897978952203, -0.462582056754941, \n . -0.495537748425571, -0.775199131948296, -0.486913829109892, 0.725054831861389, \n . -0.393282705111094, -0.732387532488319, -0.687419953199423, -0.627668512226506, \n . -0.766883209751034, 5.01329871158265, -0.660008209660301, -0.0215301831816568, \n . -0.323367359230413, 0.725054831861389, 0.545492511824221, -0.470897978952203, \n . 0.71335094136154, -0.803534866842669, -0.36186699903255, -0.788443008040231, \n . -0.160436883587768, 0.519620753877185, -0.560525140411579, 0.104440638250937, \n . 1.49289164807522, -0.462582056754941, -0.109617359048947, 0.387797987194667, \n . 0.725054831861389, -0.651384290344623, -0.155508929693094, -0.535577373819794, \n . -0.610112676476731, -0.500773699438661, -0.323367359230413, 0.426913621233638, \n . -0.160436883587768, -0.201400500337242, -0.462582056754941, -0.670172114568065, \n . -0.775199131948296, 0.506992872022084, -0.247908065218224, -0.466278022175947, \n . -1.16204351268017, -0.979709218577249, 0.0326773096597527, -0.119165269719877, \n . -0.922729751670086, -0.93289365657785, 0.329894528932252, 0.629883722270506, \n . -0.803534866842669, -0.971393296379988, 0.224251517315188, -0.296571609928125, \n . 0.71335094136154, -0.720375644870052, 0.224251517315188, -0.107769376338444, \n . -0.408682561031949, 1.97028718162172, -0.192468583903146, -0.109617359048947, \n . -0.719451653514801, -0.43085835355798, -0.354167071072123, 0.316650652840317, \n . -0.214644376429177, 0.725054831861389, 0.293242871840618, -0.971393296379988, \n . -0.470897978952203, -0.296571609928125, 1.09557536531716, 0.282462972696019, \n . 0.283694961169688, -0.172140774087618, -0.411146537979286, -0.260227949954908, \n . -0.63567643730535, 0.629883722270506, 0.0326773096597527, -0.307043511954307, \n . -0.808462820737343, -0.445334218123584, -0.610112676476731, -0.407142575439864, \n . -0.107769376338444, 0.279075004393431, -0.109617359048947, -0.788443008040231, \n . -0.747787388409174, -0.210640413889755, -0.947061524025037, -0.420694448650216, \n . 0.440157497325573, 0.836549788728379, -0.445334218123584, -0.192160586784729, \n . -0.214644376429177, -0.119165269719877, -0.270083857744255, -0.4690499962417, \n . -0.411146537979286, -0.163516854771939, -0.707131768778117, -0.526029463148864, \n . -1.14048371439097, -0.486913829109892, 0.701031056624856, -0.704359794712363, \n . 0.323118592327076, -0.519253526543687, -1.14048371439097, -0.319363396690991, \n . -0.216184362021263, -0.163516854771939, 0.700415062388022, -0.488453814701978, \n . -0.286407705020361, -0.704359794712363, -0.4690499962417, -0.107769376338444, \n . 0.137396329921566, -0.745939405698672, -0.214644376429177, -0.670172114568065, \n . -0.457346105741851, -0.259303958599656, -0.947061524025037, -0.504777661978084, \n . -0.466278022175947, 0.316650652840317, 1.17873458728978, -0.192468583903146, \n . 5.01329871158265, -1.14048371439097, -0.192160586784729, -0.488453814701978, \n . 0.311414701827226, 0.871353463109511, -0.619044592910827, 1.63457032254708, \n . -0.545125284490724, 0.629883722270506, -0.250372042165561, -0.296571609928125, \n . -0.627668512226506, -1.16204351268017, -0.247908065218224, 0.871353463109511, \n . 0.280614989985517, -0.462582056754941, 0.290778894893281, -0.247908065218224, \n . -0.670172114568065, -0.627668512226506, -0.745939405698672, 0.137396329921566, \n . -0.971393296379988, -0.604876725463641, 0.282462972696019, -0.560525140411579, \n . -0.393282705111094, 1.63457032254708, -0.535577373819794, -0.704359794712363, \n . -0.922729751670086, -1.16204351268017, -0.486913829109892, -0.192160586784729, \n . 0.836549788728379, 1.00009625860786, -0.0871335694044986, -1.28955431970485, \n . -0.719451653514801, 1.02473602808123, -0.0270741313131645, 0.280614989985517, \n . -0.745939405698672, -0.808462820737343, 0.953896690845293, 1.97028718162172, \n . -0.192160586784729, 0.152488188724004, -0.90424992456506, -0.400366638834687, \n . -0.947061524025037, 1.00009625860786, -0.201400500337242, -0.566069088543086, \n . -1.28955431970485, -0.500773699438661, -0.48290986657047, -0.165672834600859, \n . -0.201400500337242, -0.488453814701978, -0.470897978952203, -0.4690499962417, \n . -0.201400500337242, 0.426913621233638, -0.913181840999156, 0.183903894802548, \n . -0.809078814974177, 0.660375436993799, 1.06785562465962, -0.0523298950233664, \n . -0.770579175172039, -0.0270741313131645, 7.41567623523601, -0.259303958599656, \n . -0.260227949954908, -0.165672834600859, 1.02473602808123, 1.13869496189555, \n . 5.01329871158265, -0.566069088543086, 5.01329871158265, -0.63567643730535, \n . -0.775199131948296, -0.926733714209508, -0.659137109368297, -0.432783798059257, \n . -1.16047351873108, -0.563014470319253, -0.699446603163057, -0.805388221469799, \n . -0.980579482962412, -0.962905320298556, -0.969571890426151, -0.868436404071861, \n . -0.84569771526456, 0.621464501188324, -0.506684536682985, -1.12362650709561, \n . 3.42762541536203, -0.473610080236002, 0.0535140693877889, -0.555262644589491, \n . -0.532007167400206, 0.433870318528093, -0.47722759890989, 0.866422194248792, \n . -0.474126868617986, -0.87722180656559, -0.643116669526789, -0.804354644705831, \n . -0.657586744222344, -0.726319599026231, -0.853449540994321, -1.09851059173119, \n . -0.278780860227993, -0.266894727442358, -0.219866984681804, -0.872570711127733, \n . -0.609008636315838, 0.101575388912311, 0.675210492914671, 2.43435814518858, \n . 0.52275792022936, -0.269995457734263, -0.118059673430935, 2.07984131514748, \n . -0.623478711011393, -0.754226171653373, 0.27624986202294, -0.939804879623866, \n . 0.749111231538399, -0.144415880912125, -0.700480179927025, 0.394077613115316, \n . -0.517020304322667, -0.493248038751398, 1.03644557192156, -0.226585233647598, \n . -0.590921042946394, 1.38527772976084, 3.54028528263457, -0.949313785852374, \n . -0.371285980603148, -0.606424694405918, -0.0384742626053822, \n . -0.907763999940851, -1.09665015355604, -0.170772088393314, 0.227154965734449, \n . -0.906368671309494, -0.705648063746866, -0.803837856323847, -0.317539988876801, \n . -0.888074362587257, -0.999855689610419, 3.13822392145093, -1.29726740344227, \n . -1.08476402077041, 0.512938940971661, -0.793502088684165, -0.963835539386127, \n . -0.270512246116247, -0.488596943313541, -1.0655394929606, -0.593504984856315, \n . -0.494281615515366, -0.426065549093464, -0.768179457966944, 0.157905322548579, \n . -0.774897706932737, -0.52115461137854, 0.198731604725323, -0.537691839602031, \n . -0.217799831153868, -0.690144412287343, -0.843113773354639, -0.675674337591788, \n . -0.997065032347705, 0.243692193957941, -0.562497681937268, -0.876188229801622, \n . -0.698929814781073, 0.0566147996796936, -0.768696246348928, -1.15887147474693, \n . 1.64263834398892, -0.0353735323134777, -0.697379449635121, -0.878772171711543, \n . -0.77903201398861, -0.86326852025202, -0.17025530001133, -1.22191965734899, \n . -0.833811582478925, -0.862234943488051, -0.644150246290757, -0.948641960955794, \n . -1.14109395440668, -0.999804010772221, 1.25091275044497, -0.718567773296469, \n . -0.692728354197264, -0.320640719168706, -0.992310579233451, -0.782649532662499, \n . -0.702030545072978, -0.667922511862026, 0.327411911839366, -0.929830863851573, \n . -0.0431253580432394, -0.205913698368234, -1.00740079998739, -1.16130038014226, \n . -1.22005921917385, -1.17018914031238, -0.942853931077572, -1.10248986227246, \n . 0.0168220942669173, -0.72115171520639, -0.688594047141391, -1.25799148641148, \n . -1.11561628717486, -0.856033482904242, 0.790454302097128, -0.371802768985132, \n . -0.680842221411629, -0.921975680445414, -0.828643698659084, -1.05773598839264, \n . 0.268498036293178, -0.843113773354639, -1.04548810373962, -0.222450926591725, \n . -0.664821781570122, 0.164106783132388, 0.380124326801745, -0.443636354080923, \n . -0.846731292028528, 1.00027038518268, -0.847248080410512, -0.971897438145079, \n . 0.33671410271508, 0.774950650637604, 0.61836377089642, -1.00336985060791, \n . 0.0845213723068354, -0.949468822366969, -1.17111935939995, -0.563014470319253, \n . -0.480845117583779, -0.646217399818694, -0.593504984856315, 2.53616545643945, \n . -0.791951723538213, 0.128448384775485, -0.495315192279334, -0.430199856149337, \n . 0.94290687478244, 0.501052808186027, 0.150153496818817, -0.682392586557582, \n . 2.03281357238692, -0.708232005656787, -0.397642188084338, -0.755776536799325, \n . -0.402293283522195, 0.38322505709365, -0.65448601393044, 0.5051871152419, \n . -0.749575076215516, -0.974843131922389, -0.310821739911007, 0.901563804223711, \n . -0.219866984681804, -0.899598743505503, -0.0317560136395889, \n . 0.164106783132388, -0.760944420619166, -0.9256965567957, -0.355782329143625, \n . 1.29639012805957, -0.439502047025051, -1.11923380584875, 0.584772526067453, \n . -0.30358670256323, -1.08998358342845, -0.806938586615752, 0.289169571572542, \n . -0.553195491061554, -0.709782370802739, -0.744407192395675, -0.936239039788176, \n . 0.9832163685772, -0.816240777491466, -0.725802810644247, -0.367151673547275, \n . -0.808488951761704, -0.355265540761641, 1.71963981290456, -0.0756830261082381, \n . -0.767145881202975, -0.972362547688865, -0.769729823112896, -0.995979776745539, \n . -0.949882253072556, -0.757326901945277, -0.545960453713777, -0.534591109310126, \n . -0.642083092762821, 2.02661211180312, 0.229222119262386, -0.764045150911071, \n . 0.243175405575957, -0.385756055298703, -0.610042213079806, -0.498932710953223, \n . 0.184778318411753, -0.485496213021636, -0.734071424755992, -0.32115750755069, \n . -0.85448311775829, -0.66327141642417, -0.990605177572904, -0.473093291854018, \n . 2.44727785473818, -0.745957557541627, -0.790918146774244, -0.986057439811444, \n . -0.895309399935034, -0.705131275364882, -0.705131275364882, -0.473610080236002, \n . -0.603840752495997, 0.933604683906726, 1.11241346407323, -0.277747283464025, \n . 0.610095156784674, -0.565598412229173, -0.210048005424106, -0.101005656825459, \n . -1.10874300169447, -0.250357499218867, -0.503067018009096, -0.667922511862026, \n . -0.939804879623866, 0.264363729237305, -0.817791142637418, -0.475677233763938, \n . -0.52115461137854, 0.332063007277223, 0.392527247969364, -0.912776847246097, \n . 1.92325443540629, 0.990968194306962, -0.704614486982898, -0.291183781395611, \n . -0.328909333280451, -1.03913160664121, 0.180127222973896, -0.833294794096941, \n . 0.16307320636842, -0.776448072078689, -0.46585825450624, -0.301002760653309, \n . -0.265344362296406, -0.832778005714957, 0.127414808011517, -0.0296888601116524, \n . -0.954843421539604, -1.1728247610605, 3.06587354797316, -0.0312392252576048, \n . -0.428649491003384, -0.206430486750218, 0.201832335017228, -0.1614698975176, \n . -0.266894727442358, -0.559913740027348, 0.165140359896356, -0.763011574147102, \n . 1.23282515707552, -0.806938586615752, -0.699446603163057, 3.65397872667107, \n . -0.678775067883693, -0.844147350118607, -0.0860187937479202, \n . 0.452474700279521, 0.044211878512075, 1.23282515707552, 1.19975070062854, \n . 0.464360833065155, 0.0995082353843747, -0.122193980486808, 1.14652149728418, \n . 0.64110245970372, -0.806938586615752, 0.650404650579435, 0.0188892477948538, \n . 1.03179447648371, 0.600276177526976, 1.33980035214624, 0.11656225198985, \n . -0.098938503297523, 0.0995082353843747, -0.00695017130435163, \n . -0.375937076041005, 1.1392864599364, 0.205449853691117, 3.78524297569504, \n . 0.650404650579435, -0.598156080294172, 0.165140359896356, 0.779084957693478, \n . 1.04884849308918, -0.894275823171066, -0.441052412171003, -0.0787837564001428, \n . 0.224054235442545, -0.588337101036474, 0.64110245970372, 0.64110245970372, \n . -0.588337101036474, 0.497435289512138, -0.00229907586649466, \n . 0.0803870652509627, 2.87414505825705, -0.304103490945214, -0.676191125973772, \n . 0.464360833065155, 0.549630916092533, 0.452474700279521, 0.497435289512138, \n . 0.350667389028651, -0.809522528525672, -0.702547333454962, -0.421931242037591, \n . 2.23281067621477, -0.122193980486808, -0.881356113621463, -0.556296221353459, \n . 0.301055704358177, 0.385292210621587, 3.65397872667107, -0.098938503297523, \n . 0.580121430629596, -0.864302097015988, 2.23281067621477, 0.192530144141514, \n . 0.497435289512138, 0.127931596393501, -0.559913740027348, 0.13413305697731, \n . -0.79040135839226, -0.206430486750218, -0.266894727442358, 0.166173936660325, \n . -0.148033399586013, -0.41676335821775, 0.350667389028651, -0.337177947392197, \n . -0.513402785648778, 2.23281067621477, 0.182711164883816, 3.78524297569504, \n . -0.488080154931557, -0.304103490945214, 0.463844044683171, -0.864302097015988, \n . 1.00182075032863, -0.206430486750218, 1.12068207818497, 0.350667389028651, \n . -0.404877225432115, -0.702547333454962, 0.64110245970372, 0.329995853749287, \n . -0.0472596650991121, -0.844147350118607, -0.461723947450367, \n . 0.50777105715182, 0.0287082270525518, -0.23692100128728, -0.978408971758079, \n . 0.452474700279521, 0.573403181663802, -0.559913740027348, 0.11656225198985, \n . -0.0451925115711757, -0.0860187937479202, 0.127931596393501, \n . -0.372319557367116, -0.0451925115711757, -0.219866984681804, \n . -0.842080196590671, 0.0188892477948538, 0.0659169905554076, -0.337177947392197, \n . -0.346480138267911, -0.277230495082041, 0.514489306117614, 1.23334194545751, \n . 1.04884849308918, 2.23281067621477, 0.0824542187788991, 0.11656225198985, \n . 0.497435289512138, -0.0860187937479202, 0.266947671147226, 5.58366654499973, \n . 0.24730971263183, -0.435367739969178, -0.813140047199561, -0.428649491003384, \n . 0.246276135867862, 0.573403181663802, 0.50777105715182, 0.241625040430005, \n . -0.00229907586649466, 0.777534592547525, -0.304103490945214, \n . 0.396144766643253, -0.219866984681804, 0.205449853691117, -0.337177947392197, \n . -0.79040135839226, 1.08967477526593, 0.779084957693478, 0.044211878512075, \n . 1.14962222757608, 1.19975070062854, 0.201832335017228, 0.777534592547525, \n . 1.65400768839257, 1.04884849308918, 0.0287082270525518, -0.443636354080923, \n . 1.32326312392274, -0.813140047199561, 1.76873470919305, -0.63691520894298, \n . -0.0927370427137137, -0.698413026399089, -0.421931242037591, \n . 1.97596685036867, -0.186792528234821, -0.327875756516483, -0.256558959802676, \n . -0.698413026399089, 0.385808999003571, -0.0291720717296683, 1.76873470919305, \n . 1.23282515707552, -0.34131225444807, -0.137180843564347, -0.186792528234821, \n . 1.32326312392274, -0.219866984681804, -0.792468511920197, -0.102556021971412, \n . 1.04884849308918, -0.404877225432115, -0.838979466298767, -0.434334163205209, \n . 0.044211878512075, -0.243122461871089, -0.0472596650991121, 1.23334194545751, \n . 0.503636750095948, 0.0659169905554076, 3.65397872667107, -0.698413026399089, \n . 1.65400768839257, -0.34131225444807, -0.502033441245128, -0.150617341495934, \n . -0.598156080294172, 1.68449820292964, 0.605960849728801, 0.573403181663802, \n . -0.646734188200678, -0.0860187937479202, 0.301055704358177, -0.844147350118607, \n . 0.329995853749287, -0.150617341495934, 1.03179447648371, 0.350667389028651, \n . -0.0183195157080021, 0.329995853749287, -0.404877225432115, 0.301055704358177, \n . -0.102556021971412, -0.792468511920197, 0.11656225198985, -0.223484503355693, \n . 5.58366654499973, 0.166173936660325, -0.122193980486808, 1.68449820292964, \n . -0.488080154931557, -0.186792528234821, -0.23692100128728, -0.844147350118607, \n . -0.421931242037591, 1.65400768839257, 0.201832335017228, 0.0803870652509627, \n . -0.412112262779893, -0.939184733565485, -0.346480138267911, 2.11860044379629, \n . 1.79715807020217, 1.03179447648371, -0.102556021971412, -0.00229907586649466, \n . 0.957376949477995, 0.0188892477948538, 1.65400768839257, 0.600276177526976, \n . -0.607458271169886, 0.320693662873573, 0.044211878512075, 0.0803870652509627, \n . 1.12068207818497, 0.511905364207693, -0.939184733565485, 0.463844044683171, \n . -0.157335590461727, 3.06587354797316, 0.813709779286413, -0.34131225444807, \n . 0.497435289512138, 1.32326312392274, 0.813709779286413, 1.00182075032863, \n . -0.806938586615752, 1.3635726177175, -0.0312392252576048, 1.41318430238798, \n . -0.157335590461727, -0.84828165717448, -0.649834918492583, 1.79715807020217, \n . 3.00747646080895, -0.434334163205209, -0.428649491003384, 3.06587354797316, \n . 2.11860044379629, -0.00695017130435163, 3.65397872667107, 0.511905364207693, \n . 3.65397872667107, 0.246276135867862, -0.702547333454962, -0.588337101036474, \n . -0.353273653888486, -0.586767916947833, -0.707073379046625, -0.624045665767177, \n . -0.452229132572563, -0.796539976213052, -0.717917815066798, -0.705040047292843, \n . -1.13874971037463, -0.490862435894429, -0.902442671722552, 0.299086950450038, \n . -0.581345698937746, -0.625062331644068, 0.759636592681755, -0.543390172867141, \n . -0.768412220285728, -0.460362459587693, -0.285834817388036, 0.186575926740745, \n . -0.482051331628038, 0.341109140028208, -0.782306653936575, -0.701990049662169, \n . -0.527801296088143, -0.778917767680271, -0.982318720783638, -0.588462360075985, \n . -1.16220080326826, -0.799928862469356, -0.135707156233767, -0.186201561452697, \n . -0.164173800786721, -0.766717777157576, -0.334295890853183, -0.239745964302301, \n . 0.566470076072426, 3.70085097452801, 0.393636877000921, -0.0577627723387749, \n . -0.540340175236467, 1.97692453594616, -0.649123424063827, -0.185523784201437, \n . 0.517670113981648, -0.852897154655387, -0.076401646748447, -0.817212182376506, \n . -0.260079281840125, -0.421051379014566, -0.76976777478825, -0.478323556746104, \n . -0.217040426385064, -0.106901623055183, -0.55897904964614, 1.46520271124425, \n . 12.2577887716957, -0.756890007014295, -0.12960716097242, -0.486456883761234, \n . -0.126557163341747, -0.879499911767374, -1.10001474046508, 0.24994809973363, \n . -0.103173848173249, -0.789762203700443, -0.915625439259575, -0.591851246332289, \n . -0.669795630227281, -1.16220080326826, -1.16220080326826, 2.89429604552766, \n . -1.10814806748021, -0.952767632628667, 0.842325417335573, -1.10808028975508, \n . -0.49187910177132, -0.444773582808694, -0.4247791538965, -1.16220080326826, \n . -0.375640303180092, -0.687417838760062, -0.246862625440539, -0.89193712432801, \n . -0.30616813492586, -0.538306843482685, -0.469173563854083, 0.794542121121686, \n . -0.602356793726831, -0.300068139664512, -0.87299325015527, -0.396651397969177, \n . -0.362423646780506, -1.06673587742817, 0.0727093485289299, -0.608795677613809, \n . -0.760278893270598, -0.914744328832936, 0.142520405408793, -0.548812390877228, \n . -0.942160418646435, 1.84713019232972, -0.01980724626817, -0.530173516467556, \n . -0.795862198961791, -0.448840246316259, -0.740284464358405, -0.111984952439639, \n . -0.998653152539023, -0.72774558521008, -0.879330467454559, -0.732828914594536, \n . -1.11180806463701, -0.801284416971877, -1.099167518901, 0.324503597372319, \n . -0.602356793726831, -0.695890054400822, -0.641667874299958, -1.01742758239895, \n . -0.798912196592464, -0.796539976213052, -0.531529070970077, 0.434642400702199, \n . -0.549490168128488, -0.409529165743132, -0.621334556762134, -1.12397416629715, \n . -1.0374559001737, -1.09340641226528, -1.06626143335229, -0.809078855361376, \n . -0.981742610120066, -0.0991071846656839, -0.822295511760962, \n . -1.16220080326826, -1.07341198335309, -0.781628876685314, -0.824701621002938, \n . 0.194709253755875, -0.517634637319231, -0.806028857730703, -0.711817819805451, \n . -0.968458175995355, -1.12207638999362, 0.326536929126101, -1.05046922339791, \n . -1.12920321779062, -0.107240511680814, -0.589479025952876, 0.139131519152489, \n . 0.541731206401406, -0.227545973779606, -0.602695682352462, -0.277362601747275, \n . -0.964560956800605, -0.843645495175677, 0.364492455196706, 0.962969768059996, \n . 0.57019785095436, -0.984148719362042, -0.0730127604921429, -0.366490310288071, \n . -1.13533032414202, -0.644040094679371, -0.541356841113359, -0.636584544915502, \n . -0.766039999906315, 4.03973960015842, -0.90776322314495, -0.334295890853183, \n . -0.450195800818781, -0.578295701307073, 0.296714730070626, 0.449892388855568, \n . 0.309931386470211, -0.488490215515016, 2.04775225870291, -0.874281026932666, \n . -1.16220080326826, -0.77857887905464, -0.0425127841854068, 0.378048000221922, \n . -0.504756869545275, 0.00764273240789278, -0.615573450126417, \n . -0.71927336956932, -0.487812438263755, 0.591547834369075, -0.464429123095257, \n . -0.768073331660098, 0.103548213461297, -0.6098123434907, -0.854659375508666, \n . -0.925927653478739, 0.344836914910143, 0.626453362809007, -0.95815596177619, \n . -1.09191530231251, 0.621370033424551, -0.148584924007723, -0.843713272900803, \n . -0.97977705609141, 0.485136805921129, -0.667084521222238, -0.922742100397813, \n . -0.617267893254569, -0.849982712474966, 1.01685305953523, -0.899867118167761, \n . -0.486795772386864, -0.371234751046897, -0.566434599410009, -0.0170961372631266, \n . 1.09581410930711, -0.165529355289243, -0.614895672875156, -0.73655668947647, \n . -0.893258789967968, -0.650478978566348, -0.969678175047624, -0.670812296104172, \n . -0.494251322150733, -0.457312461957019, -0.632178992782306, 1.44148050745012, \n . 0.40177020401605, -0.812806630243311, 0.51902566848417, -0.242457073307344, \n . -0.665728966719716, -0.379368078062027, -0.227884862405237, -0.0377683434265811, \n . -0.826565508443905, 0.246220324851696, -0.64370120605374, -0.710123376677299, \n . -0.586767916947833, -0.0316683481652339, 2.61301848625442, -0.534917957226381, \n . -0.843306606550047, -0.771462217916402, -0.944769861063789, -0.432573592286, \n . -0.706056713169734, -0.485779106509973, -0.28956259226997, 0.0181482798024352, \n . 0.596292275127901, 0.181831485981919, 0.19911480588907, -0.450873578070041, \n . -0.68606228425754, -0.417662492758262, -1.0318642378508, -0.455279130203237, \n . -0.551862388507901, -0.650817867191979, -0.866283255367788, 0.45192572060935, \n . -0.552879054384792, -0.573551260548247, -0.538645732108316, 0.329248038131144, \n . -0.530173516467556, -1.16220080326826, 1.97319676106423, 0.135403744270554, \n . -0.654545642073913, -0.276007047244754, -0.477306890869213, -0.819245514130288, \n . -0.276684824496015, -0.370218085170006, 0.00527051202847995, \n . -0.712156708431081, 0.191998144750832, 0.158787059439052, -1.02074869093013, \n . -1.16220080326826, 0.782342130598992, -0.460362459587693, -1.16220080326826, \n . -1.16220080326826, 2.36224090328793, 0.0025594030234366, -0.35734031739605, \n . -0.177729345811937, 0.549525644790906, 0.176409267971833, -0.240084852927931, \n . -0.393262511712873, 0.309931386470211, -0.581006810312116, 1.87356350512889, \n . -0.553556831636053, -0.398345841097329, 3.16879583228828, -0.194673777093457, \n . -0.691145613641996, -0.242795961932974, 0.697958862817022, 0.0496649219860626, \n . 1.87356350512889, 1.14224185101848, 0.411597974159332, 0.522753443366104, \n . 0.0899926684360803, 0.602053381763618, 0.854186519232637, -0.553556831636053, \n . 0.719986623482998, 1.00295862588438, 1.42995829417869, 0.164209277449139, \n . 1.02227527754532, -0.207551544867413, -0.205857101739261, 0.522753443366104, \n . 0.559692303559818, -0.126896051967377, 0.877569834401135, 0.280448076040366, \n . 2.13281330373614, 0.719986623482998, -0.444773582808694, -0.253640397953147, \n . 0.28349807367104, 0.146925957541988, -0.731134471466384, -0.233307080415323, \n . 0.411936862784962, 0.00560940065411022, -0.484423552007451, 0.854186519232637, \n . 0.854186519232637, -0.484423552007451, -0.245168182312387, 0.206909244278569, \n . 0.599342272758575, 1.85051907858602, -0.421729156265827, -0.318707014074185, \n . 0.411597974159332, 0.102531547584405, 0.697958862817022, -0.245168182312387, \n . 0.262825867507585, -0.612523452495743, -0.265840388475842, -0.471206895607866, \n . 1.17579182495589, 0.0899926684360803, -0.618962336382721, -0.346156992750247, \n . 0.0228927205612608, 0.149975955172662, 3.16879583228828, -0.205857101739261, \n . 0.424814630558918, -0.43325136953726, 1.17579182495589, -0.107579400306444, \n . -0.245168182312387, 0.657970004992634, -0.393262511712873, 0.469547929142131, \n . -0.468156897977192, -0.177729345811937, -0.240084852927931, 0.0496649219860626, \n . 0.189287035745788, 0.500725682700128, 0.262825867507585, -0.0614905472207093, \n . -0.0137072510068225, 1.17579182495589, 0.224870341436981, 2.13281330373614, \n . -0.421729156265827, -0.421729156265827, 0.413292417287484, -0.43325136953726, \n . 0.838597642453639, -0.177729345811937, 0.658647782243895, 0.262825867507585, \n . -0.410206942994393, -0.265840388475842, 0.854186519232637, 0.598664495507314, \n . -0.259401504588864, -0.691145613641996, 0.0950759978205365, 0.927047573743174, \n . 0.214364794042438, 0.203181469396635, -0.385806961949004, 0.697958862817022, \n . 0.113037094978948, -0.393262511712873, -0.207551544867413, -0.15468491926907, \n . -0.242795961932974, 0.657970004992634, 0.0906704456873413, -0.15468491926907, \n . -0.377673634933875, -0.739945575732774, 1.00295862588438, 0.361781346191663, \n . -0.0614905472207093, -0.566095710784378, -0.125540497464855, \n . 0.440742395963547, 0.718969957606107, 0.146925957541988, 1.17579182495589, \n . -0.0367516775496899, -0.207551544867413, -0.245168182312387, \n . -0.242795961932974, 0.164548166074769, 2.78924057158223, 0.340770251402578, \n . -0.0130294737555617, -0.485101329258712, -0.35734031739605, 0.0479704788579105, \n . 0.113037094978948, 0.927047573743174, 0.748453268035952, 0.206909244278569, \n . 0.444470170845481, -0.421729156265827, 0.0418704835965633, -0.377673634933875, \n . 0.280448076040366, -0.0614905472207093, -0.468156897977192, 1.33168059274587, \n . 0.28349807367104, 0.0496649219860626, 0.98262530834656, 1.14224185101848, \n . 0.549525644790906, 0.444470170845481, 0.702025526324587, 0.146925957541988, \n . 0.214364794042438, -0.175018236806894, 0.908408699333502, -0.485101329258712, \n . 1.24966954534332, -0.371912528298158, -0.183151563822024, -0.670134518852912, \n . -0.471206895607866, 2.21075768763114, -0.354290319765377, -0.0296350164114516, \n . -0.128929383721159, -0.670134518852912, 0.271975860399606, -0.105207179927031, \n . 1.24966954534332, 1.87356350512889, -0.0828405306354245, -0.27227927236282, \n . -0.354290319765377, 0.908408699333502, -0.377673634933875, -0.371912528298158, \n . -0.108596066183335, 0.146925957541988, -0.410206942994393, -0.451890243946933, \n . -0.253640397953147, 0.0496649219860626, 0.00764273240789278, \n . -0.259401504588864, 0.718969957606107, 0.0876204480566677, 0.361781346191663, \n . 3.16879583228828, -0.670134518852912, 0.702025526324587, -0.0828405306354245, \n . -0.282784819757362, 0.373303559463097, -0.444773582808694, 1.62753036292122, \n . 2.06334113548191, 0.113037094978948, -0.208907099369934, -0.242795961932974, \n . 0.0228927205612608, -0.691145613641996, 0.598664495507314, 0.373303559463097, \n . 1.42995829417869, 0.262825867507585, 0.104225990712557, 0.598664495507314, \n . -0.410206942994393, 0.0228927205612608, -0.108596066183335, -0.371912528298158, \n . -0.207551544867413, -0.127912717844268, 2.78924057158223, 0.0496649219860626, \n . 0.0899926684360803, 1.62753036292122, -0.421729156265827, -0.354290319765377, \n . 0.203181469396635, -0.691145613641996, -0.471206895607866, 0.702025526324587, \n . 0.549525644790906, 0.599342272758575, -0.122829388459812, -0.683690063878128, \n . -0.566095710784378, 2.53507410235943, 1.52383044347831, 1.42995829417869, \n . -0.108596066183335, 0.206909244278569, 0.526481218248038, 1.00295862588438, \n . 0.702025526324587, 0.164209277449139, -0.154007142017809, 0.185220372238223, \n . 0.0496649219860626, 0.599342272758575, 0.658647782243895, 0.436675732455982, \n . -0.683690063878128, 0.413292417287484, -0.0811460875072727, 2.36224090328793, \n . 1.49638046480225, -0.0828405306354245, -0.245168182312387, 0.908408699333502, \n . 1.49638046480225, 0.838597642453639, -0.553556831636053, 1.56754707618463, \n . 0.0025594030234366, 1.57568040319976, 0.50242012582828, -0.546101281872184, \n . -0.435962478542304, 1.52383044347831, 3.71101763329693, -0.253640397953147, \n . -0.35734031739605, 2.36224090328793, 2.53507410235943, 0.559692303559818, \n . 3.16879583228828, 0.436675732455982, 3.16879583228828, 0.0479704788579105, \n . -0.265840388475842, -0.484423552007451, 0.153212007576234, -0.949262255620579, \n . -0.0967483734188394, -1.04411477105778, -0.0636410381877038, \n . -0.706585488376356, -0.699301874625506, -0.588392301601202, -1.33380395433022, \n . -1.07308368938503, -0.66735329612746, 0.558776864157644, -0.478641485309988, \n . -0.589716595010447, 0.899782417038339, -0.705095658290954, -0.659738609024299, \n . -0.669670809593639, -0.781076992646411, 0.265776947362095, -0.86036906052498, \n . 0.663064970135721, -0.598986648875165, -0.232488447866495, -0.47317877499685, \n . 0.490906826933816, -1.15452773405362, -0.884040805215242, -2.02359528387093, \n . -0.898442496040786, -0.182827445019792, -0.59766235546592, 0.290607448785446, \n . -1.10354243779767, -0.958366772809141, -0.330155086798345, 1.77547143390187, \n . 1.7705053336172, 0.532290995972736, -0.30201385185188, -0.747141974034497, \n . 1.79699120180211, -0.954228355905249, -0.0371551700027954, -0.305324585374993, \n . -1.22670172485749, 1.71422286372427, -0.683741427066872, 0.13996907348378, \n . 1.22920040258814, -0.447686126868876, -1.09460345728526, -0.186138178542905, \n . 0.44786729113334, -1.05884753523564, -0.331810453559902, 6.71508585038729, \n . -0.660897365757389, -0.445037540050385, -0.711882662013337, -0.186138178542905, \n . -0.985183714346361, -1.43163612993822, -0.116612774557521, -0.144754009503986, \n . -1.13896728649499, -0.521681021110464, 0.0307148672210323, 0.59685029967345, \n . -2.02359528387093, -2.02359528387093, 2.04860694955874, -1.71702135963061, \n . -0.797299586909667, 0.810392611914274, -1.62564511439268, -0.0619856714261471, \n . -0.958697846161452, 0.884884116184329, -2.02359528387093, -0.629776470640121, \n . -0.136477175696202, -0.30697995213655, -0.777600722447141, -0.64897872507418, \n . -0.803093370575116, -0.90671932984857, -0.250697482243619, -0.921286557350269, \n . -0.639708671209462, -0.761543664860041, -0.524329607928954, 0.105206371491087, \n . -1.2005469300249, -0.11164667427285, -1.50629317088443, -0.430635849224841, \n . -0.361607055267923, -0.350019487937026, -0.197725745873803, -1.40084630817327, \n . 0.151556640814677, -0.356640954983253, -0.148064743027099, -0.98981874127872, \n . -0.35829632174481, -0.504796280142584, -0.38163699308276, -1.42633895630124, \n . -0.558761236569336, -0.455631887324348, 1.13815523070252, -1.47186154224405, \n . -1.18862828934169, -1.53956604279173, 0.679618637751289, -1.04610121117165, \n . -0.380809309701982, -0.0586749379030334, -0.893145322403804, \n . -0.468709284740647, -1.15568649078671, 0.0456131680750435, 0.29888428259323, \n . -0.500823399914848, -0.731250453123552, -0.865169624133495, -1.62862477456348, \n . -1.44885194425841, -1.48692537977422, -1.2255429681244, -0.759226151393861, \n . -0.976741343862421, -0.254008215766733, -1.25103561625238, -2.02359528387093, \n . -1.46242595170318, -1.1874695326086, -0.169584510927337, 0.532290995972736, \n . -0.350019487937026, -1.17240569507843, -0.95191084243907, -0.926583730987251, \n . -1.36955987637984, -0.399514954107574, -1.20137461340568, -1.53675191929708, \n . -0.812694497792145, -0.692183797550812, 0.034025600744146, -0.61487816978611, \n . -0.351674854698583, -0.167929144165781, 0.121760039106655, -1.11397124839548, \n . -0.978231173947822, 0.411449222379091, 1.2308557693497, 1.08187276080958, \n . -1.02342268653832, 0.469387059033578, -0.936847004908903, -1.42484912621584, \n . -0.368725132342618, -0.313601419182777, -0.508107013665698, -0.974920440424709, \n . 2.8084202931133, -1.16628083806067, -0.640370817914084, -0.0967483734188394, \n . -0.87146001782741, 0.735901107644219, -0.283804817474755, -0.224211614058711, \n . -0.862189963962693, 1.36494047703579, -0.876591654788236, -2.02359528387093, \n . -0.508107013665698, 0.239291079177186, 0.267432314123651, -1.33363841765406, \n . -0.26062968281296, -0.813853254525235, -0.318567519467447, -0.11164667427285, \n . 0.19625154337671, -0.244076015197393, -1.05156392148479, -1.17472320854461, \n . -0.488077075850861, -0.661062902433544, -1.00405489542811, -0.567038070377119, \n . 0.59188419938878, -0.282149450713198, -1.43974742706985, 0.0687883027368383, \n . -0.293737018044096, -0.999088795143438, -1.09278255384755, -0.091782273134169, \n . -0.65278606862576, -0.947275815506711, -0.526150511366667, -0.242420648435836, \n . 0.903093150561454, -1.08715430685826, -0.184482811781348, 0.732590374121106, \n . -0.881888828425218, -0.558926773245491, 0.547189296826747, -0.506286110227986, \n . -0.143098642742429, -0.883378658510619, -0.512576503921901, -0.95571818599065, \n . -0.974754903748553, -1.01315941261667, -0.96912665675926, -0.782566822731812, \n . -0.622658393565427, 0.240946445938743, 0.0522346351212706, -1.37237399987449, \n . 1.0239349241551, -0.387596313424365, -0.0652964049492605, -0.63325274083939, \n . -0.915989383713288, -0.639708671209462, -1.22372206468669, -0.69301148093159, \n . -0.98485264099405, -0.568362363786365, -0.495195152925555, -0.257318949289846, \n . 2.48065767432506, -0.091782273134169, -1.27023787068644, -0.792499023301152, \n . -0.716683225621852, -0.0652964049492605, -0.848947029870238, \n . -0.361607055267923, -0.10171447370351, 1.5983471904153, 0.376686520386399, \n . -0.385775409986652, 0.505805127787827, -0.191104278827576, 0.0356809675057027, \n . 0.59188419938878, -1.3506886952981, 0.214460577753835, -0.811866814411367, \n . -0.803755517279738, -1.07341476273734, 2.69916608685056, -0.701619388091685, \n . 0.154867374337791, -1.14658197359815, 0.204528377184494, 0.899782417038339, \n . -2.02359528387093, 0.234324978892516, -0.100059106941953, -0.514397407359614, \n . -0.523667461224332, -0.523170851195865, -1.11397124839548, -0.207657946443143, \n . -0.431960142634086, -0.328499720036788, -0.483276512242346, 0.0985849044448602, \n . -0.762205811564663, -0.851264543336418, -2.02359528387093, 0.0737544030215087, \n . 0.668031070420391, -2.02359528387093, -2.02359528387093, 2.08171428478988, \n . 0.199562276899823, 0.394895554763523, -0.0123246685794439, 1.27389530515017, \n . 0.754110142021343, 0.389929454478853, 0.244257179461857, 2.60149944791871, \n . -0.305324585374993, 2.05688378336653, -0.884702951919865, -0.303669218613436, \n . 0.992482955685519, -0.509265770398788, -0.884537415243709, 0.202873010422937, \n . 2.55349381183356, 0.411449222379091, 2.05688378336653, 1.23913260315748, \n . 0.573675165011655, 0.689550838320629, -0.0454320038105792, 1.0239349241551, \n . 0.277364514692992, -0.884702951919865, 0.782251376967809, 0.305505749639457, \n . 1.18119476650299, 0.982550755116178, 1.70429066315493, -0.497016056363268, \n . 0.663064970135721, 0.689550838320629, 1.13981059746407, 0.267432314123651, \n . 1.35500827646645, 0.742522574690446, 2.34326223311585, 0.782251376967809, \n . -0.668677589536705, 0.214460577753835, 0.472697792556692, 0.490906826933816, \n . 0.346889918678376, -0.15303084331177, 0.0886527038755197, 0.810392611914274, \n . -0.814680937906013, 0.277364514692992, 0.277364514692992, -0.814680937906013, \n . -0.00239246801010304, 0.229358878607846, 2.0386747489894, 4.74685477089629, \n . -0.441064659822649, -0.519363507644284, 0.573675165011655, 1.94431884358067, \n . 2.55349381183356, -0.00239246801010304, -0.295392384805652, -0.612891729672242, \n . 0.0406470677903731, -0.65626233882503, 1.035522491486, -0.0454320038105792, \n . -0.497016056363268, -0.131511075411532, -0.427325115701727, -0.0222568691487844, \n . 0.992482955685519, 0.663064970135721, 0.457799491702681, -0.460432450932863, \n . 1.035522491486, 0.113483205298871, -0.00239246801010304, 0.891505583230556, \n . 0.244257179461857, -0.10171447370351, -0.38892060683361, -0.0123246685794439, \n . 0.389929454478853, -0.230833081104938, 0.116793938821985, 0.457799491702681, \n . -0.295392384805652, 0.280675248216106, 0.585262732342552, 1.035522491486, \n . 0.788872844014036, 2.34326223311585, -0.439905903089559, -0.441064659822649, \n . 1.02724565767821, -0.460432450932863, 2.17441482343706, -0.0123246685794439, \n . 0.603471766719677, -0.295392384805652, -0.495526226277867, 0.0406470677903731, \n . 0.277364514692992, -0.10668057398818, -0.239109914912722, -0.884537415243709, \n . -0.0371551700027954, -0.283804817474755, 0.424692156471545, 0.133347606437553, \n . -0.390907046947478, 2.55349381183356, 0.163144208145574, 0.244257179461857, \n . -0.497016056363268, 0.111827838537314, 0.202873010422937, 0.891505583230556, \n . -0.186138178542905, 0.111827838537314, -0.0636410381877038, -0.753763441080724, \n . 0.305505749639457, 0.817014078960501, 0.280675248216106, -0.499664643181758, \n . 0.457799491702681, 0.553810763872974, 1.09346032814048, 0.490906826933816, \n . 1.035522491486, 0.333646984585922, -0.497016056363268, -0.00239246801010304, \n . 0.202873010422937, 0.557121497396087, 0.734245740882662, 0.580296632057882, \n . 0.49421756045693, -0.187793545304462, 0.394895554763523, 0.620025434335245, \n . 0.163144208145574, -0.283804817474755, 0.845155313906966, 0.229358878607846, \n . -0.219245513774041, -0.441064659822649, 0.00588436579768079, \n . -0.0636410381877038, 0.742522574690446, 0.280675248216106, -0.38892060683361, \n . 0.638234468712369, 0.472697792556692, 0.411449222379091, 0.560432230919201, \n . 1.23913260315748, 1.27389530515017, -0.219245513774041, 0.671341803943505, \n . 0.490906826933816, 0.424692156471545, -0.292081651282539, 0.366754319817058, \n . -0.187793545304462, 0.730935007359548, 0.0654775692137246, -0.331810453559902, \n . -0.889172442176068, -0.65626233882503, 1.75560703276319, -0.593855011914339, \n . 0.626646901381472, 0.0654775692137246, -0.889172442176068, 0.0770651365446221, \n . 0.197906910138267, 0.730935007359548, 2.05688378336653, 0.403172388571307, \n . 0.631613001666142, -0.593855011914339, 0.366754319817058, -0.0636410381877038, \n . -0.547008132562282, 0.0307148672210323, 0.490906826933816, -0.495526226277867, \n . -0.0421212702874658, 0.0158165663670213, 0.411449222379091, 0.184663976045812, \n . -0.239109914912722, 1.09346032814048, 0.669686437181948, 0.817014078960501, \n . 0.992482955685519, -0.889172442176068, 0.671341803943505, 0.403172388571307, \n . -0.30697995213655, 0.894816316753669, -0.668677589536705, 2.98223380307676, \n . 1.0620083596709, 0.163144208145574, -0.21427941348937, 0.202873010422937, \n . -0.427325115701727, -0.884537415243709, -0.10668057398818, 0.894816316753669, \n . 1.18119476650299, -0.295392384805652, 0.70444913917464, -0.10668057398818, \n . -0.495526226277867, -0.427325115701727, 0.0307148672210323, -0.547008132562282, \n . -0.497016056363268, -0.0735732387570444, 0.734245740882662, -0.230833081104938, \n . -0.0454320038105792, 2.98223380307676, -0.439905903089559, -0.593855011914339, \n . 0.133347606437553, -0.884537415243709, -0.65626233882503, 0.671341803943505, \n . 1.27389530515017, 2.0386747489894, -0.091782273134169, -0.911354356780929, \n . -0.499664643181758, 2.26877072884579, 1.67449406144691, 1.18119476650299, \n . 0.0307148672210323, 0.229358878607846, 1.49736981796034, 0.305505749639457, \n . 0.671341803943505, 0.982550755116178, -0.409116081324603, 1.54537545404548, \n . 0.411449222379091, 2.0386747489894, 0.603471766719677, 0.108517105014201, \n . -0.911354356780929, 1.02724565767821, 0.2426018127003, 2.08171428478988, \n . 2.32008709845405, 0.403172388571307, -0.00239246801010304, 0.366754319817058, \n . 2.32008709845405, 2.17441482343706, -0.884702951919865, 2.27704756265358, \n . 0.199562276899823, 1.64304209297733, 0.866675081807204, 1.14974279803341, \n . -0.487414929146238, 1.67449406144691, 4.47702998876253, 0.0158165663670213, \n . 0.394895554763523, 2.08171428478988, 2.26877072884579, 1.13981059746407, \n . 0.992482955685519, 0.108517105014201, 0.992482955685519, 0.620025434335245, \n . 0.0406470677903731, -0.814680937906013, -0.0854100354475213, \n . -0.424266261409071, 0.689919938524104, 0.581082011642414, -0.465781759291777, \n . -0.820346552019756, -0.0674573877144594, 1.30367608289817, 0.15021846604892, \n . 0.0380144177172812, 2.38644514929848, 2.39654351364833, 0.250080069064079, \n . 0.222029056981169, 0.544054675692973, -0.751902082537456, 0.578837930675781, \n . -0.345723427576924, -0.269424674711409, 0.0873841989832027, -0.0943863593140524, \n . 0.416142060594905, 0.0324042153006995, -1.10758891574875, -0.193125921845895, \n . 0.183879680548412, -0.286255281961155, -0.454561354458613, 0.676455452724307, \n . -0.683457613055157, -0.501687054757902, 0.733679517373443, -0.551056836023823, \n . -0.903377547785169, -0.547690714573874, 1.3743646333471, 0.0986046038163665, \n . 0.572105687775883, 0.25905639293061, -0.390605046909579, -0.873082454735627, \n . 0.3678943198123, -0.799027782836745, -0.163952869279669, -0.951625288567774, \n . -0.907865709718435, 0.333111064829492, 0.679821574174256, -0.782197175586999, \n . -0.534226228774077, 0.253446190514028, -0.432120544792286, 1.20157039891638, \n . -0.675603329671942, -0.815858390086491, 0.283741283563571, 1.67170536142594, \n . 0.372382481745565, 0.79987990588911, -0.288499362927788, -0.60154865777306, \n . -0.663260884355462, -0.470269921225043, 1.5045213294118, -0.198736124262477, \n . -0.90001142633522, -0.792295539936847, -0.148244302513239, 1.15107857716714, \n . 1.35641198561404, 0.734801557856759, 2.04646688285362, -0.497198892824636, \n . -1.11207707768202, 0.12216745396601, 0.540688554243024, -0.178539395562782, \n . -0.0349182136982838, 1.47759235781221, 1.95558160370499, -0.227909176828703, \n . -0.620623345989439, -0.307574051144167, 0.172659275715248, 0.51375958264343, \n . -1.23673577537847, -0.493832771374687, 0.565373444875984, -0.768732689787202, \n . -0.240251622145183, 0.651770562091346, -0.644186196139083, 0.235493542780966, \n . -0.621745386472755, -0.746291880120875, -0.582473969556682, 0.366772279328983, \n . -0.889913061985372, -0.977432219684051, -0.177417355079465, -0.377140561109783, \n . -0.0685794281977757, 0.608010983242007, 1.5931625275938, 0.114313170582796, \n . -0.425388301892387, 0.264666595347192, -0.0293080112817021, -0.583596010039998, \n . -0.408557694642641, -0.289621403411104, 0.697774221907318, 0.338721267246074, \n . -0.799027782836745, 0.577715890192465, -0.206590407645691, -0.490466649924738, \n . 1.52584009859481, -0.599304576806428, 0.10982500864953, 0.992870869019528, \n . -1.06943953931599, 1.579698041794, 0.767340731872935, -0.297475686794319, \n . -0.181905517012731, 1.27674711129858, -0.799027782836745, 0.723581153023595, \n . -0.646430277105716, -0.711508625138067, 0.328622902896226, -0.630721710339287, \n . -0.364798115793302, -0.027063930315069, 4.58901061804856, -0.744047799154242, \n . -0.0887761568974707, 1.54491478681119, 0.74377788172329, -0.958357531467672, \n . -0.811370228153225, 0.000987081767840707, -0.718240868037965, \n . -0.662138843872145, 0.779683177189415, 2.45376757829747, -0.39958137077611, \n . -0.46802584025841, 0.0492348225504454, -0.205468367162375, -0.343479346610291, \n . 0.32750086241291, -0.115705128497064, 1.81644858377376, -0.0831659544808886, \n . -0.337869144193709, 1.17351938683347, 0.654014643057979, 0.901985589870901, \n . -0.574619686173467, 0.876178658754624, -0.128047573813544, -0.0147214849985889, \n . -0.165074909762985, -0.406313613676009, -0.459049516391879, -0.126925533330228, \n . -0.492710730891371, -0.689067815471739, -0.267180593744776, 0.0582111464169766, \n . -0.19761408377916, 0.464389801377509, -0.244739784078449, -0.151610423963188, \n . -0.459049516391879, -0.939282843251294, -0.13253573574681, -0.214444691028906, \n . -0.378262601593099, -0.83156695685292, -0.209956529095641, -0.970699976784152, \n . 0.646160359674764, -0.208834488612324, 1.0254100430357, 0.025671972400801, \n . 0.687675857557471, 0.585570173575679, -0.802393904286694, -0.117949209463697, \n . 0.226517218914435, -0.384994844492997, 0.71572686964038, -0.211078569578957, \n . 0.669723209824409, 1.17127530586683, -0.68570169402179, 0.117679292032745, \n . -0.23800754117855, -0.0528708614313461, -0.130291654780177, 0.146852344598971, \n . -0.566765402790252, 0.187245801998361, -0.0573590233646119, -0.99314078645048, \n . -0.606036819706326, -0.930306519384762, -0.380506682559732, 0.042502579650547, \n . 0.222029056981169, -0.742925758670926, 0.334233105312808, -0.349089549026873, \n . 0.169293154265299, -0.502809095241218, -0.552178876507139, -0.795661661386796, \n . -0.943771005184559, -0.540958471673975, -0.720484949004598, 0.0761637941500384, \n . -1.08065994414916, -0.594816414873162, -0.555544997957088, 0.714604829157064, \n . -0.279523039061257, -0.107850845113849, -0.0102333230653235, \n . -1.01894771756676, -0.947137126634508, -0.510663378624433, -0.830444916369604, \n . -0.239129581661867, -1.11544319913197, -0.401825451742743, -0.865228171352412, \n . -0.988652624517215, 1.3193846496646, 0.107580927682898, -0.502809095241218, \n . -0.846153483136033, 0.912083954220749, -0.108972885597166, -0.583596010039998, \n . -1.12329748251518, 0.835785201355234, 0.545176716176289, 0.646160359674764, \n . -0.825956754436338, 0.228761299881067, 0.423996343978119, -0.269424674711409, \n . 2.17774561940164, -0.638575993722501, -0.208834488612324, -0.52076174297428, \n . -0.787807378003581, -1.04026648674977, -0.382750763526365, -0.105606764147217, \n . -0.248105905528398, -0.681213532088524, -0.823712673469705, -0.556667038440405, \n . 0.926670480503861, 0.0548450249670271, 0.0133295270843209, -0.372652399176517, \n . -0.635209872272552, 0.0346482962673322, -0.556667038440405, 0.247835988097446, \n . 0.164804992332033, 0.960331695003353, -0.178539395562782, 1.91069998437233, \n . -0.405191573192692, 0.578837930675781, 1.06355941946846, -0.637453953239185, \n . 0.0267940128841174, -0.0753116710976738, 0.695530140940685, 1.18473979166663, \n . -0.42763238285902, -0.68570169402179, -0.351333629993506, 1.03775248835218, \n . -0.177417355079465, -0.0124774040319562, -0.751902082537456, \n . 1.23410957293255, -1.09188034898232, 0.133387858799174, -0.822590632986389, \n . -0.770976770753835, 2.79486788522565, -0.632965791305919, -0.758634325437355, \n . -0.518517662007648, 1.25655038259888, -0.603792738739693, 0.133387858799174, \n . -0.661016803388829, -1.02231383901671, -0.229031217312019, 0.822320715555438, \n . -0.312062213077432, -0.62959966985597, -0.822590632986389, 0.417264101078221, \n . 3.05966943928832, 0.762852569939669, 0.12553357541596, 1.81308246232381, \n . 0.693286059974053, -0.112339007047115, -0.229031217312019, 0.265788635830508, \n . -0.986408543550582, 0.0548450249670271, -0.802393904286694, 3.67679170511233, \n . 0.417264101078221, -0.868594292802361, -0.675603329671942, 0.312914336129797, \n . -0.134779816713443, -0.539836431190659, -0.659894762905513, -0.678969451121891, \n . -0.178539395562782, -0.599304576806428, -0.62959966985597, -0.62959966985597, \n . -0.599304576806428, -0.719362908521281, -0.0293080112817021, \n . -1.05709709399951, 2.72417933477672, -0.378262601593099, 1.22849937051597, \n . -1.02231383901671, 0.282619243080254, 1.25655038259888, -0.719362908521281, \n . 0.243347826164181, -0.714874746588016, 0.15358458749887, -0.598182536323111, \n . -0.39958137077611, 0.822320715555438, -1.07841586318253, -0.876448576185576, \n . -0.575741726656784, -0.749658001570824, 2.79486788522565, -0.112339007047115, \n . -0.422022180442438, -0.60154865777306, -0.39958137077611, -0.0652133067478263, \n . -0.719362908521281, 0.406043696245057, -0.751902082537456, -0.0315520922483348, \n . -1.02343587950002, -0.351333629993506, -0.0124774040319562, -0.323282617910596, \n . -0.696922098854954, -0.465781759291777, 0.243347826164181, -0.583596010039998, \n . -0.354699751443455, -0.39958137077611, 0.85261580860498, 3.67679170511233, \n . -0.934794681318028, -0.378262601593099, 4.00779364769067, -0.60154865777306, \n . 1.85572000068983, -0.351333629993506, 1.06243737898514, 0.243347826164181, \n . -0.584718050523314, 0.15358458749887, -0.62959966985597, -0.0551149423979788, \n . -0.812492268636542, -0.758634325437355, -0.103362683180584, -0.521883783457597, \n . -1.05373097254957, -0.41528993754254, 3.3188607909344, 1.25655038259888, \n . -0.199858164745793, -0.751902082537456, 0.693286059974053, -0.472514002191676, \n . -0.518517662007648, 0.406043696245057, -0.919086114551598, -0.472514002191676, \n . -0.175173274112833, -0.723851070454547, 3.05966943928832, -0.523005823940913, \n . -0.583596010039998, -0.938160802767977, -0.485978487991472, -0.828200835402971, \n . 0.548542837626239, -0.134779816713443, -0.39958137077611, -0.666627005805411, \n . 0.693286059974053, -0.719362908521281, -0.518517662007648, 0.145730304115655, \n . 3.42994279878273, -0.492710730891371, -0.785563297036948, -0.724973110937863, \n . -0.68570169402179, -0.198736124262477, -0.199858164745793, -0.521883783457597, \n . -0.193125921845895, -0.0293080112817021, -0.223421014895437, \n . -0.378262601593099, 0.0974825633330501, -0.175173274112833, -0.802393904286694, \n . -0.583596010039998, -1.02343587950002, 0.0907503204331517, 0.312914336129797, \n . -0.603792738739693, -0.148244302513239, -0.661016803388829, 1.03775248835218, \n . -0.223421014895437, -0.106728804630533, -0.134779816713443, -1.05373097254957, \n . -0.557789078923721, 0.0941164418831007, -0.724973110937863, 0.300571890813316, \n . -0.742925758670926, -1.19095652365916, -1.05821913448283, -0.598182536323111, \n . 3.91242020660877, -0.31879445597733, -0.0124774040319562, -0.762000446887304, \n . -1.05821913448283, 0.674211371757674, 0.00659728418442242, 0.300571890813316, \n . 0.133387858799174, -1.15247053508141, 0.0391364582005979, -0.31879445597733, \n . 0.0941164418831007, -0.175173274112833, -0.459049516391879, -0.539836431190659, \n . -0.134779816713443, -0.584718050523314, -0.889913061985372, -0.875326535702259, \n . -0.603792738739693, -0.393971168359529, -0.812492268636542, 0.548542837626239, \n . 2.74100994202646, -0.523005823940913, 2.79486788522565, -1.05821913448283, \n . -0.106728804630533, -1.15247053508141, -0.784441256553632, 0.465511841860826, \n . -0.868594292802361, 0.315158417096429, 0.386969008028678, -0.199858164745793, \n . -0.739559637220976, -0.518517662007648, -0.575741726656784, -0.758634325437355, \n . -0.0551149423979788, 0.465511841860826, 0.762852569939669, 0.243347826164181, \n . 0.943501087753607, -0.0551149423979788, -0.584718050523314, -0.575741726656784, \n . -0.539836431190659, -0.459049516391879, 0.693286059974053, -1.12105340154855, \n . 3.42994279878273, -0.323282617910596, 0.822320715555438, 0.315158417096429, \n . -0.934794681318028, -0.31879445597733, -0.41528993754254, -0.758634325437355, \n . -0.598182536323111, -0.106728804630533, 1.03775248835218, -1.05709709399951, \n . -0.203224286195742, -1.10758891574875, -0.938160802767977, 6.55145942336892, \n . -0.625111507922705, 0.762852569939669, -0.539836431190659, -0.0293080112817021, \n . -0.193125921845895, 3.05966943928832, -0.106728804630533, 0.12553357541596, \n . -0.854007766519248, 0.1625609113654, -0.603792738739693, -1.05709709399951, \n . 1.06243737898514, -0.0124774040319562, -1.10758891574875, 4.00779364769067, \n . 0.798757865405793, 1.18473979166663, 0.000987081767840707, -1.15247053508141, \n . -0.719362908521281, 0.0941164418831007, 0.000987081767840707, \n . 1.85572000068983, -0.822590632986389, -0.40294749222606, -0.42763238285902, \n . 0.804368067822375, 0.0716756322167731, -1.42265788346399, -0.773220851720468, \n . -0.625111507922705, 0.133387858799174, -0.875326535702259, -0.68570169402179, \n . 1.18473979166663, 6.55145942336892, 0.265788635830508, 2.79486788522565, \n . -0.0124774040319562, 2.79486788522565, -0.198736124262477, 0.15358458749887, \n . -0.599304576806428, -0.611817633172094, -0.56210667656765, -0.819808275605085, \n . -0.499669715072469, -0.748622185747522, -0.511998032310372, -0.478592269472185, \n . -0.577616495028237, -0.337413152715566, -0.417746058588347, 0.84093536263616, \n . 0.788838280114703, 0.158503350370361, -0.768506568389299, 7.1947909919897, \n . -0.610226882560752, 0.924847457384461, -0.393884799418214, 0.0547068729802834, \n . 0.304057031308171, -0.489727523751581, 0.398706692683031, -0.375988855040614, \n . -0.955817452874842, -0.803900769491663, -0.171179713830308, 0.727196693925194, \n . -0.511998032310372, 0.104020141931891, -0.917241750549794, -0.106754314070949, \n . -0.154079144758379, 0.000621352194648862, -0.98723477744885, \n . -0.541426918620202, 0.317976099157415, 0.816278728160356, 3.63548649911155, \n . 1.17459530336518, -0.0129000280017598, 0.0069843546400176, 0.700949308838047, \n . -0.649200272538635, -0.409792305531636, 0.0944756382638379, -0.847248723650738, \n . 0.455576027038515, 0.12112071100382, -0.052271105632479, -0.157658333633899, \n . -0.124252570795713, -0.587956374001961, 2.22091151797551, -0.521144848325589, \n . -0.740668432690811, 3.15826131570889, 10.3405003259189, -0.882642924753102, \n . -0.142943890478984, -0.538643105050353, -0.922411690036656, -0.520349473019918, \n . -0.466661639887119, 0.486197976306852, 0.600334332670654, -0.683401410682492, \n . -0.848044098956409, -0.632497391119542, 0.376436184124241, -1.12801620655263, \n . -0.174758902705827, 5.60006350411915, -1.14141828045319, -0.193847910041934, \n . 0.376038496471405, -0.146523079354504, -0.861963166805653, -0.840488033552533, \n . 0.809915725714987, -0.855202476707449, -0.670675405791755, -0.199017849528796, \n . -0.10039131162558, -0.54341535688438, 0.142993531909775, -0.867928481598186, \n . -0.364455913108383, 0.308033907836527, -0.438823504188631, -0.366046663719726, \n . -0.0307959723793594, -0.533870853216327, -0.944682198595447, \n . -0.404622366044774, -0.252307995008759, -0.71044417107531, -0.118684943656015, \n . -0.363262850149877, -0.0991982486670735, -0.813047585506881, \n . -0.985644026837508, 1.92344115365452, -0.298837450390518, -0.110731190599304, \n . -0.484955271917554, -0.419336809199689, -0.945477573901118, -0.329857087311691, \n . -0.977292586127962, -0.406213116656116, 0.168047854038414, -0.33264090088154, \n . -0.879461423530417, -1.07870293760103, -0.725158614230225, 1.66096730278306, \n . -0.698911229143079, -0.36206978719137, -0.407008491961787, -0.809866084284196, \n . -0.163225960773597, -0.748224498094686, -0.742656870954989, 0.323146038644277, \n . -0.207369290238342, -0.169986650871801, -0.647211834274458, -0.498476652113963, \n . -0.670277718138919, -0.903720370353386, -0.622555199798654, -0.865940043334008, \n . -1.1706483229366, 0.220144936559871, -0.750212936358864, 1.18573055764458, \n . -0.992007029282877, -1.14861642696952, -0.348946094647797, 1.49433617624496, \n . -0.290883697333807, -0.705274231588447, -0.817024462035236, -0.541824606273038, \n . -0.828557403967467, 0.291728714070269, -0.745838372177673, -0.719193299437692, \n . 0.740718074121602, -0.421722935116702, -0.185098781679552, 0.0765796938862383, \n . -0.366444351372561, -0.293667510903656, 1.16107392316878, -0.431267438784755, \n . -0.329857087311691, 0.394729816154676, 0.145777345479624, 0.7462857012613, \n . -0.696525103226065, 0.133449028241721, -0.447572632551013, -1.10574569799384, \n . -0.67823147119563, -0.730726241369922, -0.823785152133441, -0.660733214470866, \n . 3.32529012989982, -0.856793227318791, 0.409444259309591, -0.0467034784927813, \n . -0.754587500540055, 1.3996865148701, 1.21118256742605, 0.311613096712047, \n . -0.743054558607824, 3.37698952476844, -0.58358180982077, 1.15232479480639, \n . -0.952238263999322, -0.546596858107064, 0.0908964493883182, -0.119878006614522, \n . -0.0530664809381501, -0.742259183302153, -0.957010515833349, \n . -0.45234488438504, 1.54802400937776, -0.624941325715667, -0.86673541863968, \n . 0.29610327825146, -0.622952887451489, 0.228894064922253, -0.707262669852625, \n . -0.19862016187596, 0.638512347342867, 0.153731098536334, -0.567674303707348, \n . 0.394332128501841, -0.45671944856623, -0.581195683903757, -1.05722780434791, \n . 0.861615120583608, -0.664312403346386, -0.580797996250921, -0.401043177169254, \n . -0.689764413127861, 0.452394525815831, -0.506828092823509, 0.259913701843426, \n . -0.0653947981760519, -0.742656870954989, -0.601080066545534, \n . 2.02286306686341, 0.184353047804672, -0.109538127640798, -0.875086859349226, \n . -0.339401590979744, -0.799526205310472, -0.924400128300834, -0.624543638062831, \n . -0.774074195528997, -0.425699811645058, -0.861565479152818, 1.70789444581765, \n . -0.241968116035035, -0.341787716896757, 0.548237250149197, 0.0296525508516437, \n . 0.0177219212665774, -0.580400308598086, 0.331497479353824, -0.616192197353285, \n . -0.693343602003381, -0.0892560573461848, -0.644825708357444, \n . -0.418143746241182, -0.920423251772478, -0.629315889896858, 2.30203979915396, \n . -0.248728806133239, -0.572446555541375, -1.00592609713212, 0.390752939626321, \n . -0.805889207755841, -0.913662561674274, -0.239184302465186, -0.540233855661695, \n . 2.62933673743762, 3.03895501985823, -0.010116214431911, 1.18652593295025, \n . -1.04251336119299, -0.214527667989382, 0.0248802990176172, -0.613806071436272, \n . -0.0363635995190571, 0.0344248026856702, -0.81583139907673, -0.983257900920495, \n . 0.671918110181052, -0.63806501825924, -0.604659255421054, -0.464275513970106, \n . -0.121071069573029, 0.789633655420374, 1.20641031559203, 1.47644023186736, \n . 0.903770011784176, -0.992404716935713, -0.095221372138718, -0.499272027419634, \n . -0.490125211404416, 0.815881040507521, 0.125495275185011, 0.351779549648437, \n . -0.840090345899698, 0.312010784364882, -0.412576119101485, -0.620566761534476, \n . -0.204585476668493, 0.35774486444097, 0.58283607594589, -0.821399026216427, \n . -0.419734496852525, 0.476653472638799, 0.210202745238982, -0.768506568389299, \n . -0.077723115413954, -0.33264090088154, -0.533075477910656, 0.23008712788076, \n . -0.851225600179093, -0.189473345860743, -0.73629386850962, 0.539488121786815, \n . -0.943886823289776, -0.659937839165195, 2.40066633705718, -0.649597960191471, \n . -1.01507291314734, -0.469445453456968, -0.585967935737783, -0.0168769045301153, \n . 0.539488121786815, 1.36031543723938, 0.509661547824149, 0.156514912106183, \n . -0.466661639887119, 0.449213024593146, 0.853263679874062, -0.943886823289776, \n . -0.120673381920193, 0.253550699398057, 0.830993171315271, 0.241222382160155, \n . 0.220940311865542, 0.512047673741163, -0.039147413088906, 0.156514912106183, \n . 0.15054959731365, -0.597500877670014, 0.859626682319431, 0.0376063039083547, \n . 1.51422055888674, -0.120673381920193, -0.774074195528997, -0.0506803550211368, \n . -0.180326529845525, 0.562156317998441, -0.429676688173413, -0.412576119101485, \n . -0.0327844106435372, 0.082147321025936, -0.740668432690811, 0.853263679874062, \n . 0.853263679874062, -0.740668432690811, -0.175554278011499, -0.458310199177573, \n . 0.159298725676032, 3.57981022771457, -0.207369290238342, -0.830545842231645, \n . 0.509661547824149, 1.43388765301396, -0.585967935737783, -0.175554278011499, \n . 0.727196693925194, -0.432460501743262, -0.894573554338168, -0.380761106874641, \n . 0.904565387089848, -0.466661639887119, -0.878666048224746, -0.551766797593926, \n . 0.0228918607534395, 0.0964640765280159, 2.40066633705718, -0.039147413088906, \n . 0.707312311283416, -0.78361869919705, 0.904565387089848, 0.265481328983123, \n . -0.175554278011499, -0.234412050631159, -0.851225600179093, 0.0730005050107186, \n . -0.900141181477865, -0.077723115413954, 0.23008712788076, -0.346559968730784, \n . -0.156067583022557, -0.807877646020019, 0.727196693925194, -0.417348370935511, \n . -0.384737983402996, 0.904565387089848, -0.445186506634, 1.51422055888674, \n . -0.394680174723885, -0.207369290238342, 0.316783036198909, -0.78361869919705, \n . 0.177990045359303, -0.077723115413954, 0.936380399316691, 0.727196693925194, \n . -0.582786434515099, -0.894573554338168, 0.853263679874062, 0.286956462236243, \n . -0.629315889896858, -1.01507291314734, -0.199415537181631, 0.501310107114603, \n . -0.0443173525757681, -0.206971602585507, -0.770097319000642, \n . -0.585967935737783, 0.729185132189371, -0.851225600179093, 0.512047673741163, \n . -0.0944259968330469, -0.469445453456968, -0.234412050631159, \n . -0.510009594046194, -0.0944259968330469, -0.244354241952048, \n . -0.898948118519359, 0.253550699398057, -0.312358830586927, -0.417348370935511, \n . -0.28173688131859, -0.745042996872002, 0.0213011101420973, 0.188329924333027, \n . 0.562156317998441, 0.904565387089848, 0.244006195730004, 0.512047673741163, \n . -0.175554278011499, -0.469445453456968, 0.0439693063537236, 3.13440005653876, \n . 0.563349380956948, -0.732316991981265, -0.697320478531737, -0.768506568389299, \n . 0.366493992803352, 0.729185132189371, 0.501310107114603, 0.377231559429912, \n . -0.458310199177573, 0.647261475705249, -0.207369290238342, -0.0355682242133859, \n . -0.244354241952048, 0.0376063039083547, -0.417348370935511, -0.900141181477865, \n . 0.916098329022078, -0.180326529845525, -0.0168769045301153, 0.308431595489362, \n . 1.36031543723938, -0.33264090088154, 0.647261475705249, 1.69198693970423, \n . 0.562156317998441, -0.0443173525757681, -0.442800380716986, 0.476255784985963, \n . -0.697320478531737, 0.933198898094007, -0.58716099869629, -0.190666408819249, \n . -0.842476471816711, -0.380761106874641, 1.38855126059071, -0.281339193665754, \n . 0.290933338764598, -0.259068685106963, -0.842476471816711, 0.227701001963746, \n . -0.454731010302053, 0.933198898094007, 0.539488121786815, -0.649597960191471, \n . -0.137376263339286, -0.281339193665754, 0.476255784985963, -0.244354241952048, \n . -0.480978395389199, -0.434051252354604, 0.562156317998441, -0.582786434515099, \n . -0.809468396631361, -0.846055660692231, -0.0168769045301153, \n . 0.0662398149125141, -0.629315889896858, 0.188329924333027, 0.369675494026036, \n . -0.312358830586927, 2.40066633705718, -0.842476471816711, 1.69198693970423, \n . -0.649597960191471, -0.317528770073789, -0.67465228232011, -0.774074195528997, \n . 0.876329563738524, 0.462734404789555, 0.729185132189371, -0.547789921065571, \n . -0.469445453456968, 0.0228918607534395, -1.01507291314734, 0.286956462236243, \n . -0.67465228232011, 0.830993171315271, 0.727196693925194, 0.0626606260369943, \n . 0.286956462236243, -0.582786434515099, 0.0228918607534395, -0.434051252354604, \n . -0.480978395389199, 0.512047673741163, -0.177940403928512, 3.13440005653876, \n . -0.346559968730784, -0.466661639887119, 0.876329563738524, -0.394680174723885, \n . -0.281339193665754, -0.206971602585507, -1.01507291314734, -0.380761106874641, \n . 1.69198693970423, -0.33264090088154, 0.159298725676032, -0.160839834856583, \n . -1.09421275606161, -0.28173688131859, 0.854456742832569, 0.773726149306953, \n . 0.830993171315271, -0.434051252354604, -0.458310199177573, 1.91747583886199, \n . 0.253550699398057, 1.69198693970423, 0.241222382160155, -0.557732112386459, \n . -0.374398104429272, -0.0168769045301153, 0.159298725676032, 0.936380399316691, \n . 0.0753866309277318, -1.09421275606161, 0.316783036198909, -0.196234035958947, \n . 0.476653472638799, 0.944334152373402, -0.649597960191471, -0.175554278011499, \n . 0.476255784985963, 0.944334152373402, 0.177990045359303, -0.943886823289776, \n . 0.286161086930572, 0.210202745238982, 1.00080579907605, 0.409046571656756, \n . -0.828955091620303, -0.612215320824929, 0.773726149306953, 3.46845768492062, \n . -0.846055660692231, -0.768506568389299, 0.476653472638799, 0.854456742832569, \n . 0.15054959731365, 2.40066633705718, 0.0753866309277318, 2.40066633705718, \n . 0.366493992803352, -0.894573554338168, -0.740668432690811, -0.423401421155333, \n . -0.537111988448475, -0.760804907713671, -1.56908198932525, -0.41594499051316, \n . -0.505422158219239, -0.798087060924538, -0.846553860098664, -0.587442895283144, \n . -1.46786094335775, -1.18582145431755, -1.37409632803242, -1.29953202161069, \n . -0.730979185144978, -1.42573211022947, -0.609812187209664, -0.615404510191294, \n . -0.585578787622601, -0.796222953263994, -0.345108899412514, -0.691832924273569, \n . -0.194116178908507, -0.236990655101003, -0.19038796358742, -0.425265528815877, \n . -0.848417967759207, -1.20446253092298, -0.805543491566711, -1.76183072142543, \n . -0.753348477071498, -1.23428825349167, -1.08888785596929, -0.790630630282364, \n . -0.762669015374215, -0.814864029869427, -1.18022913133592, -0.755212584732042, \n . -0.38798337560501, -1.15972394706994, -1.44530524066517, -0.691832924273569, \n . -1.4851971446008, -0.85028207541975, -0.313419069183278, -0.581850572301514, \n . -0.352565330054688, -0.236990655101003, -0.753348477071498, -0.755212584732042, \n . -1.01805176486865, -0.857738506061923, -1.01245944188702, -0.788766522621821, \n . -0.285457454275129, -0.380526944962837, -1.54522141127029, -1.18582145431755, \n . -1.00500301124484, -0.486781081613806, -0.706745785557916, 0.156336061273635, \n . -0.790630630282364, -0.936031027804742, -0.757076692392585, -0.708609893218459, \n . -1.07770321000603, -0.236990655101003, -0.723522754502805, -1.12430590151962, \n . -1.08888785596929, -1.51353158104106, -1.14108287046451, -0.63031737147564, \n . -0.699289354915742, -0.934166920144199, -1.02737230317136, -0.814864029869427, \n . -0.751484369410955, -0.676920062989223, -1.3819255802067, -0.65268666340216, \n . -0.548296634411735, -0.449498928402939, -1.29766791395014, -0.527791450145758, \n . -0.000248982212003053, -0.760804907713671, -1.10007250193255, \n . -0.380526944962837, -0.447634820742396, -1.1578598394094, -0.417809098173703, \n . -0.113959549505145, -1.09261607129038, -0.181067425284703, -0.988226042299955, \n . -1.28089094500525, -0.38239105262338, -0.304098530880562, -0.471868220329459, \n . -0.779445984319105, -0.89502065927279, -0.442042497760766, -1.10007250193255, \n . -0.956536212070719, -0.881971905648986, -0.8223204605116, -0.481188758632176, \n . -0.460683574366199, -0.943487458446915, -1.23615236115221, -0.928574597162569, \n . -0.965856750373435, -0.350701222394144, -0.723522754502805, -0.771989553676931, \n . -0.701153462576286, -0.936031027804742, -0.210893147853396, -0.505422158219239, \n . -1.12057768619853, -0.216485470835027, -1.20259842326243, -0.730979185144978, \n . -1.17836502367537, -0.876379582667356, -0.921118166520396, -0.553888957393365, \n . -1.43207007627532, -0.449498928402939, -0.494237512255979, -0.88942833629116, \n . -0.171746886981987, -0.594899325925317, -0.939759243125829, -1.5713189185179, \n . -0.753348477071498, -0.84468975243812, -0.835369214135404, -1.13735465514342, \n . -0.622860940833467, -0.676920062989223, -0.684376493631396, -0.345108899412514, \n . -0.803679383906167, -0.552024849732821, -1.00686711890539, -0.86146672138301, \n . -0.682512385970853, -1.15972394706994, -0.132600626110577, -1.23615236115221, \n . -1.01805176486865, -0.805543491566711, -1.21191896156515, -0.697425247255199, \n . -0.908069412896593, -0.980769611657782, -0.747756154089869, -0.594899325925317, \n . -0.423401421155333, -1.37950224024799, -0.999410688263215, -0.682512385970853, \n . -0.676920062989223, 0.139559092328745, -0.220213686156113, -0.473732327990002, \n . -1.21751128454678, -0.501693942898152, -0.529655557806302, -0.846553860098664, \n . -0.986361934639411, -0.896884766933333, -0.596763433585861, -0.792494737942908, \n . -0.348837114733601, -0.995682472942128, -1.11871357853799, -1.34427060546373, \n . -0.458819466705656, -0.481188758632176, -0.678784170649766, -0.876379582667356, \n . -0.606083971888577, -0.656414878723246, -0.783174199640191, -0.928574597162569, \n . -0.555753065053908, -0.611676294870207, -0.807407599227254, -1.38248481250486, \n . -0.807407599227254, -0.695561139594656, -0.936031027804742, -0.803679383906167, \n . -0.171746886981987, -1.15040340876722, -1.16904448537266, -0.978905503997238, \n . -0.86146672138301, -1.06279034872169, -0.66387130936542, -0.83909742945649, \n . -0.199708501890137, -0.546432526751191, -0.320875499825451, -0.460683574366199, \n . -0.936031027804742, -0.39357569858664, -1.20073431560189, -0.820456352851057, \n . -0.177339209963617, -0.20157260955068, -0.85587439840138, -0.799951168585081, \n . -0.294777992577845, -0.566937711017168, -0.434586067118593, -0.565073603356624, \n . -0.566937711017168, -1.25106522243656, -0.369342298999577, -0.859602613722467, \n . -0.462547682026743, -0.361885868357404, -0.481188758632176, -1.16158805473048, \n . -0.749620261750412, -1.16345216239103, -0.704881677897372, -0.037531135422869, \n . -1.01432354954756, -0.61354040253075, -0.417809098173703, -0.928574597162569, \n . -0.181067425284703, -0.475596435650546, -0.451363036063483, -0.0692209656521049, \n . -0.671327740007593, -0.757076692392585, -0.598627541246404, 0.454593286960564, \n . -0.781310091979648, -0.255631731706435, -0.61913272551238, -0.115823657165688, \n . -0.710474000879002, -1.32376542119775, -1.26411397606036, -0.786902414961278, \n . -0.919254058859853, -0.915525843538766, -0.434586067118593, -1.26970629904199, \n . -1.0161876572081, -0.423401421155333, -1.47419890940359, -0.378662837302294, \n . -0.703017570236829, -0.514742696521955, -0.732843292805522, -0.723522754502805, \n . -0.751484369410955, -1.07397499468495, -0.820456352851057, -1.54801757276111, \n . -1.62239546841679, -0.216485470835027, -0.561345388035538, -0.434586067118593, \n . -0.378662837302294, -1.14294697812505, -1.22123949986787, -1.20259842326243, \n . -0.999410688263215, -0.654550771062703, -1.40485410443138, -0.650822555741616, \n . -1.25479343775765, -1.28461916032634, -0.913661735878222, -0.38798337560501, \n . -1.01805176486865, -1.47736789242652, 2.05399765970672, 0.989592185536493, \n . 1.29157762654451, -0.319011392164908, -0.100910795881341, 1.17600295159082, \n . 1.03992309237116, 1.39410354787439, 0.866561079940634, 2.19753394956855, \n . 1.44257034704852, -0.0915902575786247, 1.02501023108681, 1.61034003649741, \n . 0.957902355307256, -0.270544592990782, 0.566439746593162, 1.09211810686637, \n . 1.91605369282652, 1.44257034704852, 1.47239606961721, 1.07347703026094, \n . 0.71184014411554, 0.490011332510887, 0.575760284895878, 0.523565270400666, \n . -0.0915902575786247, 1.01382558512356, 1.99993853755096, 1.17413884393028, \n . 1.334452102737, 0.128374446365485, 0.599993684482942, 1.98129746094553, \n . 0.71184014411554, 0.732345328381516, 0.411718810768068, -0.0505798890466722, \n . 1.27480065759962, 1.25056725801256, 1.01382558512356, 1.29530584186559, \n . 0.0444896016410367, 2.9357205831437, 1.42952159342471, -0.749620261750412, \n . 1.69236077356132, -0.389847483265554, 1.55628091434166, 0.176841245539611, \n . 0.523565270400666, 0.523565270400666, 0.176841245539611, 1.11448739879289, \n . 0.92062020209639, 1.50408589984644, 0.667101560262501, -0.000248982212003053, \n . -0.0226182741385222, 1.07347703026094, 0.907571448472587, 1.09211810686637, \n . 1.11448739879289, -0.104639011202428, 0.659645129620328, 1.05856416897659, \n . 0.072451216549186, 0.0538101399437533, 0.490011332510887, 0.133966769347115, \n . 0.831143034390311, 1.26175190397581, 0.217851614071564, 1.61034003649741, \n . 1.98129746094553, -0.406624452210444, 0.111597477420596, 0.0538101399437533, \n . 0.339018612006879, 1.11448739879289, -0.218349578495569, 1.39410354787439, \n . -0.278001023632955, 0.782676235216185, -0.319011392164908, 1.03992309237116, \n . 0.538478131685012, 1.18159527457245, 0.756578727968579, -0.104639011202428, \n . 0.353931473291225, -0.296642100238389, 0.0538101399437533, 1.09025399920583, \n . 1.25056725801256, -0.0636286426704754, -0.000248982212003053, \n . -0.678784170649766, 0.111597477420596, 1.26920833461799, -0.319011392164908, \n . 1.49103714622264, -0.104639011202428, 0.389349518841548, 1.05856416897659, \n . 0.523565270400666, 1.07534113792148, 1.96079227667955, -0.270544592990782, \n . 1.33818031805809, 0.637275837693808, 1.20769278182006, 1.74269168039599, \n . 0.596265469161855, 1.09211810686637, -0.322739607485995, 1.39410354787439, \n . 0.599993684482942, -0.0543081043677587, 0.566439746593162, -0.218349578495569, \n . 0.773355696913469, -0.0543081043677587, -0.0132977358358062, \n . 0.460185609942194, 1.99993853755096, 2.54052975910852, 0.353931473291225, \n . -0.151241702716011, 1.19464402819626, 0.298008243474926, -0.242582978082633, \n . 1.42952159342471, 0.0538101399437533, -0.19598028656905, 0.599993684482942, \n . 1.11448739879289, 0.566439746593162, 0.795724988839988, -0.305962638541105, \n . 1.00077683149975, 1.85267403236804, 0.314785212419816, 1.29157762654451, \n . 2.3373420241093, -0.322739607485995, 0.637275837693808, 1.59356306755252, \n . 0.92062020209639, 0.0146638790723437, -0.000248982212003053, \n . -0.352565330054688, -0.0132977358358062, 1.27480065759962, 0.353931473291225, \n . 0.782676235216185, 0.0258485250356033, 2.9357205831437, 1.91605369282652, \n . 2.01485139883531, 1.47239606961721, -0.100910795881341, 0.0146638790723437, \n . -0.43831428243968, 1.42952159342471, 1.20769278182006, 0.834871249711398, \n . 0.443408640997304, 0.314785212419816, 1.5581450220022, 0.460185609942194, \n . 0.206666968108304, -0.214621363174483, 0.072451216549186, -0.00397719753308958, \n . 0.406126487786438, 0.907571448472587, -0.345108899412514, -0.214621363174483, \n . 1.27480065759962, -0.18479564060579, 1.5581450220022, 1.44257034704852, \n . 1.54696037603894, 0.49746776315306, 0.406126487786438, 0.443408640997304, \n . -0.0132977358358062, -0.538976096109018, 2.93385647548316, 1.42952159342471, \n . 0.389349518841548, 2.4920629599344, 1.4891730385621, 1.91605369282652, \n . -0.181067425284703, 1.96079227667955, -0.242582978082633, -0.0971825805602549, \n . 2.54052975910852, 1.61034003649741, -0.214621363174483, -0.43831428243968, \n . 1.54696037603894, -0.846553860098664, -0.177339209963617, 1.29530584186559, \n . 0.460185609942194, 1.52831929943351, -0.322739607485995, 0.350203257970139, \n . 0.566439746593162, 1.26175190397581, -0.270544592990782, 1.07534113792148, \n . -0.177339209963617, 1.17413884393028, -0.104639011202428, 0.773355696913469, \n . 1.07534113792148, 0.389349518841548, 1.26175190397581, 2.93385647548316, \n . -0.538976096109018, 0.599993684482942, 1.183459382233, -0.305962638541105, \n . 0.538478131685012, 0.490011332510887, 0.460185609942194, -0.0636286426704754, \n . 0.406126487786438, 1.74269168039599, -0.270544592990782, 0.072451216549186, \n . -0.43831428243968, -0.100910795881341, 1.50408589984644, 0.473234363565997, \n . 0.732345328381516, -0.151241702716011, 1.11635150645344, -0.192252071247963, \n . 1.17413884393028, 2.93385647548316, 0.92062020209639, 0.0649947859070129, \n . 1.99993853755096, -0.43831428243968, 1.334452102737, 0.558983315950989, \n . 2.49951939057657, 1.91605369282652, 1.50408589984644, 1.49103714622264, \n . 1.64948629736882, 0.732345328381516, -0.678784170649766, 1.4761242849383, \n . 2.05399765970672, 1.28784941122342, 1.54696037603894, 1.11448739879289, \n . 0.443408640997304, 1.28784941122342, 1.26920833461799, -0.0915902575786247, \n . 3.47817591236181, 0.989592185536493, 0.00161512544854054, 0.210395183429391, \n . -0.445770713081853, 2.81641769286893, -0.192252071247963, 0.128374446365485, \n . 1.4891730385621, 1.29157762654451, 2.05399765970672, 1.11635150645344, \n . 0.732345328381516, 1.61034003649741, 1.64948629736882, 1.61034003649741, \n . 2.3373420241093, 1.05856416897659, 0.176841245539611, -1.17016663622911, \n . -0.968188162106763, -0.587220633680876, -0.726799254009325, 0.892312741800697, \n . -0.52482077988698, -0.830251643193942, -0.643052081812256, -0.67917831295609, \n . -1.80401778266184, -1.46738699245793, -1.175092940476, 0.849618104994348, \n . -1.08806156544767, -1.75968104443986, -0.521536577055722, -2.28186929460982, \n . -0.257158249139481, 0.948144189932077, -0.52482077988698, -0.244021437814451, \n . -1.33766098062325, 0.447303258165285, -0.662757298799801, -0.0732428905890524, \n . -0.897577801234723, -0.0157693410420438, -1.51500793351116, -1.1241877965915, \n . 1.05980708619484, 0.0729041354019127, -0.505115562899434, 0.471934779399718, \n . 0.181282828833415, 0.4538716638278, -0.807262223375138, -0.150421657123608, \n . -0.436147303443023, -0.597073242174648, -1.11105098526647, -0.0387587608608475, \n . -1.52978684625182, -1.71041800197099, -1.70877590055536, -0.597073242174648, \n . -0.460778824677456, -1.32288206788259, -1.40827134149529, -0.148779555707979, \n . -1.74326003028357, 0.0614094254925114, -0.9304198295473, -1.62174452552704, \n . -1.07328265270701, -0.644694183227884, 0.547471444518644, -1.13239830366965, \n . -1.65622865525524, -0.966546060691134, -0.191474192514328, 0.276524710939887, \n . -1.30974525655756, -1.34422938628576, -0.0289061523670742, 0.376692897293246, \n . -2.35904806114438, -0.556020706783928, -1.76460734868674, -1.57083938164254, \n . -1.18001924472288, -1.53471315049871, -0.327768610011521, 0.432524345424626, \n . -1.68086017648967, -1.42633445706721, -0.854883164428374, -0.820399034700169, \n . -1.11597728951336, -0.473915636002486, -0.912356713975383, -0.72023084834681, \n . 0.324145651993123, -0.2867160746208, -0.519894475640094, 0.45551376524343, \n . -1.71862850904914, -0.229242525073791, -0.31463179868649, -1.6480181481771, \n . -1.51993423775805, -0.582294329433989, -0.457494621846198, -1.55770257031751, \n . -1.08149315978515, -1.16195612915096, 1.20923831501706, -1.1865876503854, \n . 0.639429123793858, 2.32422517622903, -1.20465076595731, -0.987893379094309, \n . 0.25846159536797, -0.00755883396389959, 0.504776807712294, 1.44570091886761, \n . -0.853241063012745, -0.644694183227884, 0.600018689818766, -0.941914539456702, \n . -1.67593387224279, -0.904146206897239, -1.21450337445109, -1.21450337445109, \n . -0.0469692679389912, -0.542883895458897, 0.148440800520839, -1.78102836284303, \n . -0.040400862276476, -0.0321903551983318, -1.55277626607063, -1.89925966476831, \n . -0.184905786851813, -0.355684334077211, -0.544525996874526, -0.303137088777088, \n . -0.784272803556335, 0.859470713488121, -0.974756567769278, -1.03715642156317, \n . -1.551134164655, -1.47559749953607, 0.0269252957643059, -0.761283383737531, \n . -1.63980764109895, -2.21946944081593, -0.647978386059142, -1.09627207252581, \n . -1.62831293118955, -1.01416700174437, -0.948482945119217, -0.871304178584663, \n . -0.822041136115798, -0.868019975753404, -1.37707141459834, -0.67917831295609, \n . -0.728441355424954, -0.0995165132391137, -0.710378239853037, \n . -1.55606046890188, 0.0745462368175417, -0.800693817712622, -0.544525996874526, \n . -1.06507214562886, -1.35079779194828, -1.13404040508527, 0.110672467961376, \n . -0.918925119637898, -1.73504952320542, -0.649620487474771, -0.252231944892594, \n . -0.132358541551691, -1.42633445706721, -0.224316220826905, -0.88772519274095, \n . -0.0650323835109087, -0.153705859954865, -1.74982843594608, -1.01416700174437, \n . -0.585578532265246, 1.51795338115528, -1.10776678243521, -0.961619756444247, \n . -0.912356713975383, 0.381619201540132, -0.534673388380753, -1.16524033198222, \n . -1.05357743571946, -1.22435598294486, -1.76296524727111, -0.588862735096504, \n . -0.171768975526782, 0.133661887780179, -0.87458838141592, -0.991177581925566, \n . -0.291642378867687, -0.55273650395267, -1.56591307739566, -0.132358541551691, \n . 0.102461960883232, 0.409534925605822, 1.63125837883367, 0.263387899614857, \n . 0.135303989195808, -1.55441836748625, 0.416103331268338, 0.0975356566363454, \n . -1.32123996646696, -0.528104982718237, 0.419387534099596, -0.79084120921885, \n . 0.928438972944531, -1.00103019041934, -0.891009395572208, -0.570799619524587, \n . -0.959977655028619, -0.32941071142715, -0.789199107803221, -1.16195612915096, \n . 0.0794725410644284, -1.45917648537978, -0.505115562899434, 0.652565935118888, \n . -0.598715343590277, 0.32907195624001, 0.294587826511804, 1.88742619967177, \n . -1.55277626607063, -0.695599327112378, 2.49993002770132, 1.28805918296724, \n . 0.90216535029447, 1.7297844637714, 0.918586364450759, -0.388526362389787, \n . -0.409873680792962, -0.145495352876721, -0.152063758539236, -0.290000277452058, \n . -0.161916367033009, -0.125790135889175, 1.14027005556065, -1.34094518345451, \n . -1.15538772348845, -1.15538772348845, -0.753072876659387, -0.736651862503099, \n . 0.00557797736113132, -1.32452416929822, -0.4689893317556, -2.0010699525373, \n . -0.879514685662806, -0.787557006387592, 0.920228465866387, -1.30810315514193, \n . -1.64637604676147, 0.343850868980669, -0.335979117089665, -0.978040770600536, \n . -0.81875693328454, -1.64309184393021, -1.37050300893583, -0.363894841155355, \n . -1.44275547122349, -0.551094402537041, -0.331052812842778, -1.4033450372484, \n . 0.00722007877675982, -0.124148034473546, -1.30317685089504, -0.201326801008101, \n . -1.16852453481348, -1.80730198549309, -1.74326003028357, 0.261745798199228, \n . 0.39804021569642, 0.0203568901017907, 0.953070494178964, 0.744523614394103, \n . 0.903807451710099, 0.877533829060038, 1.77083699916212, -0.268652959048883, \n . 0.444019055334028, -0.757999180906273, -0.713662442684295, -0.130716440136062, \n . 0.307724637836835, 1.57871113353355, -0.219389916580018, 1.5360164967272, \n . -0.575725923771474, 1.28970128438287, 1.76919489774649, 1.11399643291059, \n . 1.95639445912818, 0.654208036534518, 0.266672102446115, -0.746504470996871, \n . -0.00263252971701293, 0.256819493952341, 0.209198552899106, 1.94818395205003, \n . 1.33075381977359, 0.031851600011192, -1.40827134149529, 1.51138497549277, \n . 1.03353346354478, 1.51959548257091, 0.209198552899106, -0.393452666636674, \n . 0.821702380928658, 0.634502819546972, -0.0896639047453409, 0.238756378380424, \n . -0.0962323104078561, 1.03353346354478, -0.130716440136062, 0.976059913997767, \n . 0.49656630063415, 0.432524345424626, -0.209537308086245, 0.675555354937692, \n . 1.51959548257091, -0.83189374460957, -1.29989264806379, 0.499850503465408, \n . 1.31104860278605, -1.19972446171043, -0.37046324681787, 0.30115623217432, \n . 0.49656630063415, 0.143514496273953, -0.245663539230079, 1.6329004802493, \n . -0.0354745580295893, 1.11399643291059, -0.83189374460957, 2.09761518087226, \n . 1.1205648385731, -0.460778824677456, 1.62304787175553, -0.491978751574403, \n . 0.849618104994348, 1.29462758862976, 0.370124491630731, 0.613155501143797, \n . 0.675555354937692, 0.675555354937692, 0.613155501143797, 0.931723175775789, \n . -0.107727020317258, 0.00229377452987316, 0.583597675662478, 0.265030001030486, \n . 1.72814236235577, 0.976059913997767, -0.81875693328454, 0.238756378380424, \n . 0.931723175775789, 0.284735218018032, 1.36359584808617, -0.551094402537041, \n . -1.00924069749748, 0.512987314790439, 0.432524345424626, 0.870965423397523, \n . -0.227600423658162, 0.741239411562845, -0.212821510917503, -0.393452666636674, \n . 0.30115623217432, 0.618081805390683, 0.572102965753076, 0.512987314790439, \n . 2.53934046167641, 0.931723175775789, 0.470292677984089, 0.031851600011192, \n . 0.652565935118888, 0.483429489309119, 0.256819493952341, 1.33075381977359, \n . 1.69530033404319, 1.56229011937726, 0.751092020056618, 0.284735218018032, \n . 0.655850137950146, 0.87424962622878, 0.512987314790439, 0.125451380702035, \n . 1.11399643291059, 0.724818397406557, 0.265030001030486, -0.000990428301384426, \n . 0.572102965753076, 1.21909092351083, 0.256819493952341, -1.48709220944547, \n . 0.284735218018032, 0.869323321981894, -0.551094402537041, 0.675555354937692, \n . 1.25193295182341, 3.12392856564027, 0.634502819546972, 0.660776442197033, \n . 0.228903769886652, 0.718249991744042, 0.000651673114244657, 0.237114276964795, \n . 0.238756378380424, 2.12717300635358, 0.031851600011192, -0.37046324681787, \n . 1.16325947537945, -0.0896639047453409, 0.470292677984089, 1.99580489310327, \n . 1.16325947537945, 1.15012266405442, 0.834839192253688, -1.29989264806379, \n . 1.33403802260485, 0.655850137950146, -0.907430409728497, 0.371766593046359, \n . 1.26999606739533, 0.228903769886652, 1.62304787175553, 0.512987314790439, \n . 0.73467100590033, -0.37046324681787, 0.931723175775789, -0.0896639047453409, \n . 0.680481659184579, 1.77247910057775, -0.575725923771474, 0.737955208731587, \n . 0.737955208731587, -0.00263252971701293, 0.0893251495582011, \n . 2.12717300635358, 0.228903769886652, -0.0239798481201881, -0.107727020317258, \n . 1.7642685934996, 0.265030001030486, 0.713323687497155, 1.15012266405442, \n . -0.0354745580295893, 0.655850137950146, 0.483429489309119, 2.69369799474552, \n . -0.460778824677456, -0.0962323104078561, 0.294587826511804, -0.130716440136062, \n . 0.209198552899106, 1.7642685934996, 0.923512668697645, 1.62304787175553, \n . 0.718249991744042, -0.0305482537827033, -0.276863466127027, 0.737955208731587, \n . 2.14030981767861, -0.212821510917503, 3.80211645029498, 0.575387168584334, \n . -1.00924069749748, -0.363894841155355, 0.641071225209487, -0.244021437814451, \n . -0.0601060792640221, 0.575387168584334, 0.854544409241234, -0.708736138437408, \n . 2.14030981767861, 1.03353346354478, 0.933365277191418, -0.0141272396264148, \n . 0.641071225209487, -0.276863466127027, 1.15012266405442, 1.14683846122317, \n . 1.06144918761047, 1.62304787175553, 0.869323321981894, 0.00886218019238891, \n . -0.528104982718237, -0.0962323104078561, 0.537618836024871, 3.12392856564027, \n . 0.228903769886652, 1.38986947073623, 1.33403802260485, -0.393452666636674, \n . 0.575387168584334, 0.923512668697645, 0.933365277191418, 1.47033244010204, \n . -0.0896639047453409, 2.09761518087226, 0.862754916319379, 0.100819859467603, \n . 2.12717300635358, -0.0633902820952797, -0.0896639047453409, 0.741239411562845, \n . 0.634502819546972, 1.25193295182341, -0.0896639047453409, 0.499850503465408, \n . 0.284735218018032, -0.0535376736015069, 1.25193295182341, 0.869323321981894, \n . 0.741239411562845, 1.06144918761047, 1.14683846122317, -0.37046324681787, \n . -0.189832091098699, 1.77247910057775, 1.69530033404319, 0.432524345424626, \n . 0.862754916319379, 0.724818397406557, 0.641071225209487, 0.000651673114244657, \n . 0.634502819546972, -1.00924069749748, 0.923512668697645, 0.209198552899106, \n . 0.00229377452987316, -0.183263685436184, -0.00427463113264201, \n . -0.907430409728497, 0.875891727644409, 0.194419640158446, 0.499850503465408, \n . 1.06144918761047, -0.107727020317258, -0.611852154915308, -1.29989264806379, \n . 0.923512668697645, 1.31104860278605, -0.716946645515553, -0.41315788362422, \n . -0.0962323104078561, 0.00229377452987316, -1.48709220944547, \n . 0.386545505787019, -0.00427463113264201, -0.000990428301384426, \n . 0.898881147463212, 0.266672102446115, 0.49656630063415, 0.933365277191418, \n . 0.931723175775789, -0.276863466127027, 0.49656630063415, 1.21909092351083, \n . 1.51959548257091, 0.8184181780974, -0.746504470996871, -0.547810199705783, \n . 1.12220693998873, -0.194758395345586, 3.41129631337532, 0.194419640158446, \n . 0.276524710939887, -0.528104982718237, -0.00263252971701293, \n . 0.266672102446115, 0.875891727644409, 0.143514496273953, -0.393452666636674, \n . 0.386545505787019, -0.393452666636674, 0.0893251495582011, -0.551094402537041, \n . 0.613155501143797, -0.419554064851224, -0.514794134548005, -0.821620176258135, \n . -1.53921848533084, -0.438021668393536, -0.515057957455753, -0.842462185970173, \n . -0.891533246811174, -0.669130535580186, -1.46956923768554, -1.20680162156922, \n . -1.31945400317732, -1.28146350446171, -0.789697604420709, -1.39939234422476, \n . -0.683113149690794, -0.639582369912486, -0.625863578709626, -0.819773415903904, \n . -0.499756228806408, -0.734030970886026, -0.163645844336327, -0.335130734372083, \n . -0.292919069132512, -0.475220698385908, -0.882827090855512, -1.23450302688269, \n . -0.861193612420232, -1.71993717713775, -0.818454301365167, -1.14453941534085, \n . -1.09177483379139, -0.793918770944666, -0.79259965640593, -0.834019852922259, \n . -1.15878585235921, -0.701844576140853, -0.226963342195683, -1.13398649903096, \n . -1.34873834593727, -0.740362720671961, -1.37881415742047, -0.840615425615942, \n . -0.337768963449556, -0.622961526724405, -0.403724690386385, -0.255983862047888, \n . -0.639054724096992, -0.776770281941091, -1.03083174210176, -0.869108299652652, \n . -0.997590055725595, -0.774132052863618, -0.184751676956112, -0.485773614695801, \n . -1.51758500689556, -1.17567051845503, -1.03821878351868, -0.473110115123929, \n . -0.765162074000209, 0.123921125108248, -0.831645446752533, -0.99020301430867, \n . -0.704218982310579, -0.745111533011413, -1.10654891662524, -0.290280840055039, \n . -0.755400626413558, -1.15007969640354, -1.11868477038161, -1.51019796547863, \n . -1.12211446818233, -0.723478054576133, -0.762523844922736, -0.962501608995202, \n . -1.06090755358495, -0.822675467889124, -0.763842959461472, -0.700789284509864, \n . -1.40757085436493, -0.654092629838589, -0.618740360200448, -0.515849426178995, \n . -1.28014438992297, -0.425358168821665, -0.0502019940049806, -0.801569635269339, \n . -1.0606437306772, -0.419290241943477, -0.3826188577666, -1.15192645675778, \n . -0.442242834917493, -0.137263553561595, -1.11156155187244, -0.0370108486176147, \n . -0.94403400545289, -1.31549665956111, -0.45728074065909, -0.345683650681975, \n . -0.567031070281974, -0.837713373630721, -0.750387991166359, -0.464403959168268, \n . -1.10602127080974, -0.992577420478396, -0.916068777231674, -0.856972445896275, \n . -0.473373938031677, -0.558324914326313, -0.984926556153724, -1.25349827624049, \n . -0.953531630131793, -1.00867061785098, -0.440396074563262, -0.79259965640593, \n . -0.617421245661712, -0.744056241380423, -0.958016619563497, -0.171560531568747, \n . -0.56544813283549, -1.1392629571859, -0.258622091125361, -1.20046987178328, \n . -0.72479716911487, -1.18305755987196, -0.86831683092941, -0.902613808936561, \n . -0.622697703816658, -1.44318694691081, -0.530887331920592, -0.570988413898184, \n . -0.915013485600685, -0.314024901752297, -0.621642412185669, -0.906834975460518, \n . -1.55531168270342, -0.82109253044264, -0.897073527873868, -0.89285236134991, \n . -1.16274319597542, -0.601591871196873, -0.646177942606169, -0.709759263373272, \n . -0.453851042858375, -0.866997716390673, -0.432481387330843, -1.02080647160736, \n . -0.884410028301996, -0.744583887195918, -1.15087116512679, -0.110881262786863, \n . -1.17013023739234, -0.945616942899373, -0.829534863490554, -1.17962786207124, \n . -0.766745011446693, -0.947991349069099, -0.949310463607836, -0.701316930325358, \n . -0.564129018296754, -0.49764564554443, -1.32789633622524, -1.05035463727506, \n . -0.759357970029768, -0.732975679255036, 0.0421360237065803, -0.292919069132512, \n . -0.433800501869579, -1.03135938791725, -0.487884197957779, -0.465459250799257, \n . -0.809220499594011, -0.946408411622615, -0.745111533011413, -0.537482904614275, \n . -0.737460668686741, -0.420609356482213, -0.946408411622615, -1.11789330165837, \n . -1.3611380226014, -0.506087978592344, -0.482080093987338, -0.656467036008315, \n . -0.9184431834014, -0.508990030577564, -0.683640795506288, -0.830853978029291, \n . -0.866470070575178, -0.632459151403309, -0.701844576140853, -0.805526978885549, \n . -1.2925440665871, -0.804999333070054, -0.725060992022617, -0.958808088286739, \n . -0.769647063431913, -0.0396490776950881, -1.15588380037398, -1.20521868412273, \n . -0.902086163121066, -0.841934540154678, -1.08834513599067, -0.705274273941568, \n . -0.685751378768267, -0.350960108836922, -0.539857310784, -0.379980628689126, \n . -0.503185926607123, -0.671768764657659, -0.467042188245741, -1.22025658986433, \n . -0.82109253044264, -0.255983862047888, -0.197942822343478, -0.84668335249413, \n . -0.805526978885549, -0.329854276217137, -0.632722974311056, -0.498964760083166, \n . -0.641429130266717, -0.647497057144906, -1.25508121368698, -0.401086461308912, \n . -0.868580653837157, -0.54091260241499, -0.0159050159978295, -0.387895315921546, \n . -1.1738237581008, -0.724533346207122, -1.17989168497899, -0.748277407904381, \n . -0.0950518883220245, -0.918707006309147, -0.590511309071485, \n . -0.379980628689126, -0.885465319932985, -0.295557298209985, -0.545133768938947, \n . -0.522972644688172, -0.0818607429346587, -0.46915277150772, -0.765953542723451, \n . -0.603174808643357, 0.303320702376424, -0.853806571003308, -0.308748443597351, \n . -0.601064225381378, -0.155731157103907, -0.763315313645978, -1.22817127709675, \n . -1.21709071497136, -0.803944041439065, -0.906307329645023, -0.96171014027196, \n . -0.429843158253369, -1.26009384893418, -1.03478908571797, -0.426677283360401, \n . -1.37986944905146, -0.361513025146814, -0.748805053719875, -0.556214331064334, \n . -0.756719740952295, -0.714508075712724, -0.754609157690316, -1.03346997117923, \n . -0.77782557357208, -1.54159289150056, -1.61229743077684, -0.055478452159927, \n . -0.610034204244787, -0.433536678961832, -0.475484521293655, -1.17355993519306, \n . -1.17461522682404, -1.22685216255801, -0.997326232817848, -0.725588637838112, \n . -1.39147765699234, -0.70606574266481, -1.25903855730319, -1.29544611857232, \n . -0.87913357014705, -0.406362919463858, -1.0661840117399, -1.48909213285885, \n . 2.40598927712254, 0.962877971744715, 1.20295681779477, -0.337768963449556, \n . -0.0950518883220245, 1.03938661499144, 0.962877971744715, 1.32695358443601, \n . 0.817775372483691, 1.91000221055758, 1.61979701203553, -0.0633931393923464, \n . 0.99189849159692, 1.72268794605699, 0.79139308170896, -0.345683650681975, \n . 0.630461107983097, 1.12644817454805, 2.0946782459807, 1.61979701203553, \n . 1.16602161071015, 1.04730130222386, 0.699055063997399, 0.472167363334706, \n . 0.456337988869868, 0.387744032855565, -0.0633931393923464, 0.923304535582618, \n . 1.92319335594495, 1.13963931993542, 1.2003185887173, 0.25055612082696, \n . 0.514379028574277, 1.8097495056136, 0.699055063997399, 0.641014024292989, \n . 0.472167363334706, 0.0553271690939461, 1.21614796318214, 1.63034992834543, \n . 0.923304535582618, 1.23197733764698, 0.179323935735185, 2.999590819554, \n . 1.6620086772751, -0.804735510162307, 1.61979701203553, -0.298195527287458, \n . 1.44303566384483, 0.0606036272488925, 0.387744032855565, 0.387744032855565, \n . 0.0606036272488925, 1.34014472982338, 0.859987037723262, 1.33223004259096, \n . 0.952325055434823, -0.0660313684698198, -0.145178240794015, 1.04730130222386, \n . 0.970792658977135, 1.12644817454805, 1.34014472982338, 0.10017706341099, \n . 0.514379028574277, 0.912751619272725, 0.0553271690939461, 0.0922623761785702, \n . 0.472167363334706, 0.0553271690939461, 0.667396315067721, 1.20823327594972, \n . 0.298044244221478, 1.72268794605699, 1.8097495056136, -0.271813236512727, \n . 0.0263066492417411, 0.0922623761785702, 0.340255909461048, 1.34014472982338, \n . -0.190028135111058, 1.32695358443601, 0.0157537329318486, 0.656843398757828, \n . -0.337768963449556, 0.962877971744715, 0.889007557575467, 1.16602161071015, \n . 0.638375795215516, 0.10017706341099, 0.3745528874682, -0.353598337914395, \n . 0.0922623761785702, 0.960239742667242, 1.63034992834543, -0.0449255358500342, \n . -0.0660313684698198, -0.624544464170889, 0.0263066492417411, \n . 1.1712980688651, -0.337768963449556, 1.82030242192349, 0.10017706341099, \n . 0.371914658390726, 0.912751619272725, 0.387744032855565, 1.18448921425246, \n . 1.70422034251468, -0.345683650681975, 0.983983804364501, 0.896922244807886, \n . 1.25572139934424, 1.5643942014086, 0.35872351300336, 1.12644817454805, \n . -0.366789483301761, 1.32695358443601, 0.514379028574277, -0.100328346476971, \n . 0.630461107983097, -0.190028135111058, 0.786116623554014, -0.100328346476971, \n . -0.0264579323077223, 0.332341222228628, 1.92319335594495, 2.38488344450275, \n . 0.3745528874682, -0.139901782639068, 0.970792658977135, 0.292767786066531, \n . 0.0790712307912044, 1.6620086772751, 0.0922623761785702, -0.161007615258854, \n . 0.514379028574277, 1.34014472982338, 0.630461107983097, 0.772925478166648, \n . -0.242792716660522, 0.812498914328745, 1.8783434616279, 0.205706226509917, \n . 1.20295681779477, 2.37696875727033, -0.366789483301761, 0.896922244807886, \n . 1.46414149646462, 0.859987037723262, 0.224173830052229, -0.0660313684698198, \n . -0.248069174815468, -0.0264579323077223, 1.21614796318214, 0.3745528874682, \n . 0.656843398757828, 0.345532367615994, 2.999590819554, 2.0946782459807, \n . 2.11842230767796, 1.16602161071015, -0.0950518883220245, 0.224173830052229, \n . -0.179475218801166, 1.6620086772751, 1.25572139934424, 0.701693293074872, \n . 0.356085283925887, 0.205706226509917, 1.82030242192349, 0.403573407320404, \n . 0.282214869756638, -0.26653677835778, 0.0553271690939461, 0.10017706341099, \n . 0.271661953446746, 0.786116623554014, -0.219048654963263, -0.26653677835778, \n . 1.06840713484364, -0.197942822343478, 1.82030242192349, 1.61979701203553, \n . 1.3876328532179, 0.398296949165457, 0.271661953446746, 0.356085283925887, \n . -0.0264579323077223, -0.621642412185669, 2.77534134796878, 1.6620086772751, \n . 0.371914658390726, 2.213398554467, 1.35069764613327, 2.0946782459807, \n . -0.0607549103148734, 1.70422034251468, 0.0790712307912044, -0.0159050159978295, \n . 2.38488344450275, 1.72268794605699, -0.26653677835778, -0.179475218801166, \n . 1.3876328532179, -0.748805053719875, -0.213772196808317, 1.23197733764698, \n . 0.741266729236969, 1.31112420997117, -0.366789483301761, 0.245279662672014, \n . 0.630461107983097, 1.20823327594972, -0.345683650681975, 1.18448921425246, \n . -0.213772196808317, 1.13963931993542, 0.10017706341099, 0.73335204200455, \n . 1.18448921425246, 0.371914658390726, 1.20823327594972, 2.77534134796878, \n . -0.621642412185669, 0.514379028574277, 1.18448921425246, -0.242792716660522, \n . 0.889007557575467, 0.472167363334706, 0.741266729236969, -0.0449255358500342, \n . 0.271661953446746, 1.5643942014086, -0.345683650681975, 0.0553271690939461, \n . -0.179475218801166, -0.0950518883220245, 1.33223004259096, 0.353447054848414, \n . 0.622546420750677, -0.139901782639068, 1.44303566384483, 0.25847080805938, \n . 1.13963931993542, 2.77534134796878, 0.859987037723262, 0.110729979720882, \n . 1.92319335594495, -0.179475218801166, 1.2003185887173, 0.46689090517976, \n . 2.52998604376378, 2.0946782459807, 1.33223004259096, 1.82030242192349, \n . 1.48788555816188, 0.622546420750677, -0.624544464170889, 1.46414149646462, \n . 2.40598927712254, 1.67519982266247, 1.3876328532179, 1.34014472982338, \n . 0.356085283925887, 1.67519982266247, 1.1712980688651, -0.0633931393923464, \n . 3.57736298752062, 0.962877971744715, 0.171409248502765, 0.147665186805507, \n . -0.529304394474108, 2.59594177070061, 0.25847080805938, 0.126559354185722, \n . 1.35069764613327, 1.20295681779477, 2.40598927712254, 1.44303566384483, \n . 0.641014024292989, 1.72268794605699, 1.48788555816188, 1.72268794605699, \n . 2.37696875727033, 0.912751619272725, 0.0606036272488925, -0.464583274856952, \n . -0.589863243128292, -0.721197633658097, -1.19266636183661, -0.483833232806948, \n . -0.549189944879108, -0.750227812179461, -0.782828547417356, -0.599798705296031, \n . -1.14190235982331, -0.996440984023753, -1.08725731790075, -1.05527754904833, \n . -0.707225889984714, -1.12715440816807, -0.619980112824252, -0.628673642221024, \n . -0.60290353722345, -0.75348788570325, -0.614080932162157, -0.687044482456493, \n . -0.321140039810215, -0.320984798213844, -0.279224808790064, -0.482901783228722, \n . -0.799905123018158, -1.00032202393303, -0.773048326845987, -1.28115407176804, \n . -0.71824804332705, -1.0079288621552, -0.943348358064896, -0.758766099979862, \n . -0.723991982392774, -0.764354797449215, -0.998924849565688, -0.749917328986719, \n . -0.467998589977113, -0.987436971434239, -1.12715440816807, -0.663603001404483, \n . -1.14950919804549, -0.776153158773406, -0.411335407301724, -0.587379377586357, \n . -0.441762760190426, -0.384789094322295, -0.722284324832693, -0.71995570088713, \n . -0.894912979997166, -0.787796278501225, -0.883735585058459, -0.777550333140744, \n . -0.378113705678346, -0.441762760190426, -1.18086800051242, -0.977967234055612, \n . -0.884356551443943, -0.517210176026697, -0.692788421522217, 0.0334317663009855, \n . -0.741534282782689, -0.839026005303632, -0.724302465585516, -0.710175480315761, \n . -0.925961299271352, -0.336508957850937, -0.716229902574227, -0.953128578636264, \n . -0.934810070264494, -1.16627529045355, -0.962908799207632, -0.623550669540783, \n . -0.682697717758107, -0.843372770002018, -0.890255732106038, -0.759076583172604, \n . -0.71995570088713, -0.669036457277465, -1.09703753847211, -0.636280480443199, \n . -0.577599157014988, -0.516278726448472, -1.053880374681, -0.57620198264765, \n . -0.120723138895346, -0.720576667272613, -0.941951183697557, -0.472345354675499, \n . -0.502772707564201, -0.985574072277788, -0.468309073169855, -0.213091888736049, \n . -0.954836236196344, -0.313998926377152, -0.866503767861286, -1.04720498603705, \n . -0.457907886213003, -0.382615711973102, -0.507740438648071, -0.72507867356737, \n . -0.834523999008875, -0.472655837868241, -0.943348358064896, -0.861225553584674, \n . -0.805183337294769, -0.778637024315341, -0.541738348253304, -0.505877539491619, \n . -0.858431204849998, -1.01724335793746, -0.835300206990729, -0.857654996868143, \n . -0.421270869469464, -0.692943663118588, -0.720887150465355, -0.672917497186738, \n . -0.855636856115321, -0.311515060835217, -0.542359314638788, -0.959803967280214, \n . -0.296146142794495, -1.00560023820964, -0.712814587454067, -0.98588455547053, \n . -0.808288169222188, -0.828935301539521, -0.579927780960552, -1.12544675060799, \n . -0.483988474403318, -0.524817014248873, -0.81868935617904, -0.26339016596023, \n . -0.60802650990369, -0.842441320423792, -1.1959264353604, -0.723836740796403, \n . -0.772116877267761, -0.767770112569376, -0.962598316014891, -0.637988138003279, \n . -0.663447759808112, -0.676953778692382, -0.404504777061403, -0.756126992841556, \n . -0.583964062466196, -0.891652906473376, -0.803786162927431, -0.674469913150448, \n . -0.97253377818263, -0.230323705933222, -1.01972722347939, -0.88559848421491, \n . -0.766993904587521, -1.01429376760641, -0.695272287064152, -0.830021992714118, \n . -0.864640868704835, -0.718869009712533, -0.650873190502066, -0.490663863047269, \n . -1.09983188720679, -0.886219450600394, -0.659411478302467, -0.668725974084723, \n . -0.00227380086432803, -0.297077592372721, -0.527611362983549, \n . -1.0223663306177, -0.512087203346457, -0.548724220089996, -0.829556267925005, \n . -0.874576330872574, -0.810461551571381, -0.63643572203957, -0.746036289077446, \n . -0.411645890494466, -0.870074324577817, -0.956233410563682, -1.07654564775115, \n . -0.50603278108799, -0.520470249550487, -0.651183673694808, -0.797576499072594, \n . -0.603214020416192, -0.666863074928272, -0.741068557993576, -0.835300206990729, \n . -0.56611127888354, -0.62137728719159, -0.759387066365345, -1.1013843031705, \n . -0.756903200823411, -0.688596898420202, -0.857654996868143, -0.760628999136313, \n . -0.312446510413443, -0.977346267670129, -0.984487381103192, -0.884977517829426, \n . -0.808753894011301, -0.914939145929016, -0.657703820742387, -0.767925354165747, \n . -0.361658096463027, -0.595451940597645, -0.404349535465032, -0.49920215084767, \n . -0.829090543135892, -0.471724388290015, -1.00001154074028, -0.770874944496794, \n . -0.280932466350144, -0.279380050386435, -0.781276131453646, -0.755661268052443, \n . -0.404504777061403, -0.585205995237164, -0.473276804253724, -0.586137444815389, \n . -0.59296807505571, -1.02547116254512, -0.428256741306155, -0.800060364614529, \n . -0.501220291600492, -0.429964398866236, -0.498891667654928, -0.978432958844725, \n . -0.748830637812122, -0.970670879026179, -0.687510207245606, -0.161241195548159, \n . -0.896310154364504, -0.628207917431911, -0.452629671936391, -0.842751803616534, \n . -0.279380050386435, -0.543756489006126, -0.502927949160572, -0.242432550450154, \n . -0.667328799717385, -0.715143211399631, -0.601661604452482, 0.309761807841238, \n . -0.739671383626238, -0.3521883590844, -0.625879293486347, -0.23839626894451, \n . -0.71172789627947, -1.10262623594147, -1.05931383055398, -0.768701562147601, \n . -0.833126824641536, -0.825675228015732, -0.521246457532341, -1.06164245449954, \n . -0.891963389666118, -0.479020743319449, -1.14081566864872, -0.451232497569053, \n . -0.691701730347621, -0.55446815915572, -0.71498796980326, -0.711262171490358, \n . -0.713901278628663, -0.936052003035462, -0.811548242745977, -1.18366234924709, \n . -1.2215412987616, -0.312912235202556, -0.59126041749563, -0.499667875636782, \n . -0.43570833793196, -0.971136603815292, -1.0138280428173, -1.00327161426407, \n . -0.890876698491522, -0.645439734629084, -1.10945686618179, -0.643887318665375, \n . -1.02950744405076, -1.05543279064471, -0.832505858256053, -0.471569146693644, \n . -0.886219450600394, -1.15168258039468, 2.09504016610691, 0.814296996046755, \n . 1.19463890715553, -0.389756825406165, -0.207968916055808, 1.11857052493377, \n . 0.989719999945904, 1.32814668003453, 0.752200357498384, 2.49090623685278, \n . 1.51443659567964, -0.251126079846926, 0.924518529470114, 1.64949678452235, \n . 0.899679874050765, -0.345512970440451, 0.354781870788807, 1.00213932765558, \n . 1.88856884293358, 1.51443659567964, 1.43215854960305, 1.00834899151042, \n . 0.541071786433921, 0.339257711151714, 0.452584076502492, 0.406011597591213, \n . -0.251126079846926, 0.863974306885452, 2.3108259850625, 1.06423596620395, \n . 1.33901359178049, -0.0458966894445589, 0.482079979812968, 2.16179405254641, \n . 0.541071786433921, 0.60937808883713, 0.277161072603343, -0.156894430849773, \n . 1.14806642824425, 0.994377247837032, 0.863974306885452, 1.29399352883292, \n . -0.176299630396139, 3.45185171838883, 1.42129163785708, -0.709244030737536, \n . 1.86993985136907, -0.438036961877524, 1.55014216284495, 0.0520607578654969, \n . 0.406011597591213, 0.406011597591213, 0.0520607578654969, 1.05181663849428, \n . 0.818954243937883, 1.57808565019172, 0.49915655541377, -0.160309745969933, \n . -0.122741279648168, 1.00834899151042, 0.699418214732268, 1.00213932765558, \n . 1.05181663849428, -0.189029441298555, 0.480527563849259, 1.00369174361929, \n . -0.0325459121566591, -0.0791183910679376, 0.339257711151714, \n . 0.0303269343735669, 0.736676197861291, 1.24586863395794, 0.0318793503372762, \n . 1.64949678452235, 2.16179405254641, -0.472655837868241, -0.026181006705451, \n . -0.0791183910679376, 0.221274097909809, 1.05181663849428, -0.312912235202556, \n . 1.32814668003453, -0.327349703665052, 0.660607815639536, -0.389756825406165, \n . 0.989719999945904, 0.401354349700086, 1.10770361318781, 0.637321576183897, \n . -0.189029441298555, 0.171596787071112, -0.391619724562616, -0.0791183910679376, \n . 0.985062752054776, 0.994377247837032, -0.219146310994515, -0.160309745969933, \n . -0.650096982520212, -0.026181006705451, 1.02542556711122, -0.389756825406165, \n . 1.56566632248205, -0.189029441298555, 0.255427249111413, 1.00369174361929, \n . 0.406011597591213, 1.02387315114751, 2.2766728338609, -0.345512970440451, \n . 0.950909600853172, 0.45568890842991, 1.16359058788134, 1.89633092275213, \n . 0.388935021990411, 1.00213932765558, -0.375008873750927, 1.32814668003453, \n . 0.482079979812968, -0.189650407684039, 0.354781870788807, -0.312912235202556, \n . 0.662160231603245, -0.189650407684039, -0.132521500219537, 0.322181135550912, \n . 2.3108259850625, 3.00165108891313, 0.171596787071112, -0.307478779329573, \n . 0.958671680671718, 0.17625403496224, -0.35048070152432, 1.42129163785708, \n . -0.0791183910679376, -0.285744955837643, 0.482079979812968, 1.05181663849428, \n . 0.354781870788807, 0.631111912329059, -0.385099577515037, 0.915204033687858, \n . 2.15403197272787, 0.197987858454169, 1.19463890715553, 2.53282146787293, \n . -0.375008873750927, 0.45568890842991, 1.61844846524816, 0.818954243937883, \n . -0.104422771276399, -0.160309745969933, -0.420960386276722, -0.132521500219537, \n . 1.14806642824425, 0.171596787071112, 0.660607815639536, -0.148200901453001, \n . 3.45185171838883, 1.88856884293358, 2.13229814923594, 1.43215854960305, \n . -0.207968916055808, -0.104422771276399, -0.485540890367028, 1.42129163785708, \n . 1.16359058788134, 0.749095525570965, 0.337705295188005, 0.197987858454169, \n . 1.25828796166761, 0.328390799405749, 0.0380890141921133, -0.418787003927529, \n . -0.0325459121566591, -0.147735176663888, 0.120367060268705, 0.836030819538685, \n . -0.419252728716642, -0.418787003927529, 1.14806642824425, -0.286365922223127, \n . 1.25828796166761, 1.51443659567964, 1.57032357037318, 0.387382606026702, \n . 0.120367060268705, 0.337705295188005, -0.132521500219537, -0.554002434366607, \n . 3.42390823104206, 1.42129163785708, 0.255427249111413, 3.31058186569128, \n . 1.45233995713127, 1.88856884293358, -0.257801468490876, 2.2766728338609, \n . -0.35048070152432, -0.309186436889653, 3.00165108891313, 1.64949678452235, \n . -0.418787003927529, -0.485540890367028, 1.57032357037318, -0.770719702900423, \n . -0.278759084000951, 1.29399352883292, 0.334600463260586, 1.55169457880866, \n . -0.375008873750927, 0.225931345800937, 0.354781870788807, 1.24586863395794, \n . -0.345512970440451, 1.02387315114751, -0.278759084000951, 1.06423596620395, \n . -0.189029441298555, 0.645083656002443, 1.02387315114751, 0.255427249111413, \n . 1.24586863395794, 3.42390823104206, -0.554002434366607, 0.482079979812968, \n . 0.986615168018485, -0.385099577515037, 0.401354349700086, 0.339257711151714, \n . 0.334600463260586, -0.219146310994515, 0.120367060268705, 1.89633092275213, \n . -0.345512970440451, -0.0325459121566591, -0.485540890367028, \n . -0.207968916055808, 1.57808565019172, 0.345467375006551, 0.620245000583095, \n . -0.307478779329573, 0.950909600853172, -0.275964735266275, 1.06423596620395, \n . 3.42390823104206, 0.818954243937883, -0.126777561153813, 2.3108259850625, \n . -0.485540890367028, 1.33901359178049, 0.437059916865399, 2.75015970279223, \n . 1.88856884293358, 1.57808565019172, 1.56566632248205, 1.66191611223202, \n . 0.620245000583095, -0.650096982520212, 1.4399206294216, 2.09504016610691, \n . 1.25518312974019, 1.57032357037318, 1.05181663849428, 0.337705295188005, \n . 1.25518312974019, 1.02542556711122, -0.251126079846926, 5.0353160013723, \n . 0.814296996046755, -0.109856227149381, 0.0613752536477526, -0.483833232806948, \n . 3.75923007920327, -0.275964735266275, 0.0163551907001834, 1.45233995713127, \n . 1.19463890715553, 2.09504016610691, 0.950909600853172, 0.60937808883713, \n . 1.64949678452235, 1.66191611223202, 1.64949678452235, 2.53282146787293, \n . 1.00369174361929, 0.0520607578654969, 0.397562016354254, -0.156003242674266, \n . -1.63462794628248, -0.220874171466671, -0.804712530598315, -1.12041771738802, \n . -0.8825576451492, -0.428461143602367, -1.41449926124692, 1.66470749209923, \n . -0.316018200362198, -1.57624411036932, 0.864632703659568, -0.225198900052832, \n . -0.6100997442211, -0.74416633039207, 0.445134030802018, -0.255472000155955, \n . 0.903555260935012, 0.812735960625644, 0.125104115426154, -0.307368743189878, \n . -1.00797477414785, -1.47937019003932, -0.0392355708479384, -0.899856559493841, \n . -0.138704328329626, 0.358639459078812, 1.02032293276134, -0.973376945458567, \n . 0.912204718107333, -0.558203001187177, 1.47009470572201, -0.709568501702787, \n . 1.51766672016978, 0.514329688180583, -0.264121457328274, -1.95984753596174, \n . -0.20789998570819, 1.62578493482378, 0.657045731523873, -0.731192144633589, \n . 0.864632703659568, -0.151678514088106, -1.39720034690228, -0.826336173529116, \n . 0.164026672701597, 0.34134054473417, -0.33331711470684, 0.0818568295645504, \n . 0.280794344527926, -1.1766391890081, 0.328366358975689, -0.138704328329626, \n . -1.63030321769632, 1.21926044772472, -0.242497814397473, -0.0305861136756175, \n . 0.561901702628346, -0.566852458359497, -2.03553028621954, -0.316018200362198, \n . -0.765789973322872, 0.0429342722891082, 0.449458759388178, 0.380263102009613, \n . -0.571177186945657, 0.159701944115437, -0.571177186945657, -1.1766391890081, \n . -0.804712530598315, -0.20357525712203, -2.31620517146135, -0.804712530598315, \n . -0.982026402630887, 0.747865031833241, -0.108431228226503, -1.0901446172849, \n . -1.7699919510293, -2.75213781294631, -1.08581988869874, 0.349990001906491, \n . 0.33701581614801, 0.289443801700246, 0.00401171501366485, -0.545228815428695, \n . -0.294394557431397, -1.70987822368167, -0.160327971260427, 0.120779386839994, \n . 0.250521244424804, -0.311693471776039, -0.220874171466671, -0.0305861136756175, \n . -0.917155473838483, -1.84999942987326, 0.674344645868515, -0.264121457328274, \n . -1.1550155460773, -0.303044014603718, -1.34530360386835, -0.00463774215865603, \n . -1.77864140820162, 0.721916660316278, 0.652721002937713, 0.177000858460078, \n . -0.713893230288948, -1.48369491862548, -2.12505216795306, 0.0429342722891082, \n . 0.514329688180583, 0.0472590008752681, -0.385213857740763, -1.28908213224827, \n . -1.34097887528219, -1.00365004556169, -1.67138813926484, -0.995000588389369, \n . -0.151678514088106, -0.770114701909032, -1.80285988828412, -1.74534099808818, \n . -0.886882373735361, -1.28908213224827, 0.280794344527926, -0.8825576451492, \n . -1.70209371222658, -0.951753302527766, -1.56543228890391, -1.92784454442415, \n . -1.43612290417772, -0.540904086842535, -1.45774654710852, -0.666321215841184, \n . -1.10744353162954, -0.00463774215865603, -1.05554678859561, -1.50099383297013, \n . -2.19338287961439, 0.233222330080162, 0.860307975073409, -0.398188043499245, \n . 0.155377215529276, -0.290069828845237, -1.4490970899362, -0.259796728742114, \n . 0.328366358975689, -0.787413616253673, -0.891207102321521, 0.233222330080162, \n . -0.233848357225153, -0.497656800980932, 0.302417987458728, 0.48405658807746, \n . 0.0515837294614291, -0.255472000155955, 0.791112317694844, -1.9966077289441, \n . -1.0901446172849, -0.0219366565032966, -0.843635087873758, -1.44044763276388, \n . -0.0651839423648998, -1.81107687259782, -0.216549442880511, -0.0435602994340982, \n . -0.960402759700086, -1.05122206000945, -0.886882373735361, -1.03824787425097, \n . -0.316018200362198, 1.13276587600151, -1.09446934587106, -2.02471846475414, \n . 0.34134054473417, -1.39287561831612, -2.16094741521819, -1.06419624576793, \n . -0.0219366565032966, 0.48405658807746, -1.21988647486971, 0.345665273320331, \n . -1.70685091367136, -0.986351131217048, -1.79550784968764, -0.761465244736711, \n . -1.29773158942059, 0.0645579152199099, -1.76393733100867, -0.46738370087781, \n . 0.453783487974339, -1.1333919031465, 0.33701581614801, -0.147353785501946, \n . -0.285745100259076, -0.428461143602367, -0.156003242674266, 0.215923415735521, \n . -0.960402759700086, -0.0911323138818613, -0.19492579994971, -1.37557670397148, \n . -1.21123701769738, 0.440809302215857, -0.562527729773336, -0.579826644117978, \n . -0.661996487255024, -1.35827778962684, 0.185650315632399, -1.19393810335274, \n . -1.59440797043119, -0.160327971260427, -0.527929901084054, -1.12041771738802, \n . -1.74015132378479, -0.60577501563494, -0.00463774215865603, -0.532254629670215, \n . -0.761465244736711, -0.255472000155955, -0.562527729773336, -1.02959841707865, \n . -1.43179817559156, -0.0262613850894565, -0.285745100259076, -0.636048115738062, \n . 0.0126611721859857, 0.172676129873918, 1.86796973564876, -0.493332072394772, \n . -1.32800468952371, -1.22421120345587, -0.0695086709510597, -0.0954570424680223, \n . -1.77172184246376, 0.0169859007721456, -1.22853593204203, 0.19429977280472, \n . -0.644697572910382, 0.834359603556446, -0.748491058978231, 0.769488674764042, \n . -0.398188043499245, -1.5649998160453, -1.74793583523988, -0.571177186945657, \n . -0.311693471776039, -0.921480202424643, 1.0030240184167, 2.39558662316032, \n . 2.845358396121, 0.233222330080162, -1.18961337476658, 0.583525345559147, \n . 0.46675767373282, 2.17070073667999, -1.03824787425097, 0.332691087561849, \n . 1.26683246217248, 1.19331207620775, -0.242497814397473, 0.198624501390879, \n . 0.747865031833241, 0.00401171501366485, 0.873282160831889, 0.345665273320331, \n . 1.81607299261484, -0.398188043499245, 1.07221967579526, -0.0349108422617773, \n . -1.19393810335274, -0.363590214809961, -0.571177186945657, -0.272770914500595, \n . 0.488381316663621, -0.644697572910382, -1.12906717456034, -0.493332072394772, \n . -1.05987151718177, -0.523605172497894, -0.359265486223802, -1.18961337476658, \n . -0.216549442880511, -0.463058972291649, -1.82232116692184, -1.93952131160678, \n . 1.5263161773421, -0.674970673013505, -0.0911323138818613, 1.89391810716573, \n . -0.938779116769284, -0.787413616253673, 1.08951859013991, -0.670645944427344, \n . -0.969052216872407, 0.228897601494002, 0.812735960625644, 0.531628602525225, \n . 0.406211473526575, 1.5046925344113, 0.505680231008262, -1.09879407445722, \n . 0.142403029770795, -0.735516873219749, -0.233848357225153, 0.812735960625644, \n . 1.56523873461754, 0.120779386839994, 1.43982160561889, 0.929503632451973, \n . 0.302417987458728, 2.19232437961079, 0.531628602525225, 1.43117214844657, \n . -0.891207102321521, -0.00463774215865603, 0.648396274351552, \n . 0.181325587046239, -0.294394557431397, -0.519280443911733, 1.43982160561889, \n . -0.0435602994340982, 1.53496563451442, 1.66038276351307, -0.519280443911733, \n . -0.437110600774687, 1.43117214844657, 0.752189760419401, 0.765163946177881, \n . 0.786787589108683, -0.290069828845237, -0.912830745252323, 1.97608795030277, \n . 0.138078301184636, 0.0213106293583066, 0.88193161800421, 2.19232437961079, \n . 2.19232437961079, 0.88193161800421, -0.112755956812663, -1.41449926124692, \n . 0.267820158769444, -1.34530360386835, 0.786787589108683, -0.865258730804559, \n . 0.120779386839994, 0.851658517901088, -0.735516873219749, -0.112755956812663, \n . 1.24953354782784, -0.143029056915785, -1.27178321790363, 0.618123174248431, \n . 1.26250773358632, 0.929503632451973, 0.177000858460078, 0.371613644837292, \n . 0.695968288799317, 0.0732073723922308, 1.5046925344113, -0.519280443911733, \n . 1.85499554989028, 0.228897601494002, 1.26250773358632, 3.79679868507627, \n . -0.112755956812663, -0.181951614191229, -0.670645944427344, 0.423510387871216, \n . 0.907879989521172, 1.89391810716573, 1.08951859013991, 1.26683246217248, \n . 1.87661919282108, 0.778138131936362, 1.24953354782784, 1.0462713042783, \n . -0.156003242674266, 1.26250773358632, -1.08581988869874, -0.437110600774687, \n . 1.14574006175999, 0.786787589108683, 0.159701944115437, 0.228897601494002, \n . -0.303044014603718, 1.89391810716573, 1.18466261903543, 1.24953354782784, \n . 0.20294922997704, -1.27178321790363, 2.19232437961079, 0.618123174248431, \n . 0.259170701597124, -1.09879407445722, -0.428461143602367, 2.27016949416167, \n . 0.501355502422102, 0.388912559181934, -1.19393810335274, -0.735516873219749, \n . 1.88959337857956, -0.670645944427344, -0.294394557431397, 2.17502546526614, \n . 0.142403029770795, -0.181951614191229, 0.228897601494002, 2.17502546526614, \n . 1.2971055622756, -0.46738370087781, -0.891207102321521, 0.574875888386828, \n . 1.0462713042783, 0.272144887355605, 0.734890846074759, -0.904181288080002, \n . -0.138704328329626, -0.290069828845237, 1.26250773358632, 0.358639459078812, \n . -0.294394557431397, -0.112755956812663, 0.142403029770795, 0.497030773835942, \n . 0.799761774867164, 0.276469615941765, 0.708942474557797, 0.501355502422102, \n . -0.0911323138818613, -0.0262613850894565, 1.88959337857956, 2.27016949416167, \n . 0.635422088593072, -1.41449926124692, 1.42684741986041, 0.786787589108683, \n . 1.53496563451442, 1.2971055622756, -0.519280443911733, 1.0462713042783, \n . 0.907879989521172, 0.298093258872567, 0.786787589108683, -0.233848357225153, \n . -0.328992386120679, 1.56523873461754, -0.938779116769284, 1.42684741986041, \n . 1.31007974803408, -0.290069828845237, 0.501355502422102, 0.622447902834591, \n . -2.01477158900597, 0.501355502422102, 1.30575501944792, 0.293768530286407, \n . 2.31341678002328, 0.670019917282354, 0.618123174248431, 0.873282160831889, \n . 0.88193161800421, 0.670019917282354, 1.13276587600151, 0.670019917282354, \n . -0.683620130185826, 0.708942474557797, 1.30575501944792, 0.812735960625644, \n . 0.0861815581507115, -0.778764159081353, 0.88193161800421, -2.01477158900597, \n . 1.2971055622756, 0.306742716044888, 0.535953331111384, -0.290069828845237, \n . 0.20294922997704, 0.0645579152199099, 0.925178903865813, -0.233848357225153, \n . 0.977075646899738, 0.259170701597124, -0.138704328329626, 0.912204718107333, \n . 0.574875888386828, 1.5046925344113, 0.670019917282354, 1.31007974803408, \n . 0.0861815581507115, 2.42585972326344, -0.393863314913084, 0.752189760419401, \n . 0.674344645868515, -0.592800829876459, 1.88959337857956, 0.855983246487248, \n . 0.142403029770795, 0.695968288799317, -1.09879407445722, 0.618123174248431, \n . -0.393863314913084, -0.00463774215865603, 1.24953354782784, -0.168977428432748, \n . 0.618123174248431, 0.20294922997704, 0.695968288799317, 0.535953331111384, \n . 0.306742716044888, -0.294394557431397, 0.298093258872567, 0.799761774867164, \n . 1.26683246217248, 0.929503632451973, 0.674344645868515, 1.14574006175999, \n . 0.88193161800421, 0.388912559181934, -1.09879407445722, 0.618123174248431, \n . 1.31007974803408, -0.938779116769284, 0.267820158769444, -0.147353785501946, \n . -0.493332072394772, 0.272144887355605, 1.25818300500016, 0.306742716044888, \n . -0.00463774215865603, 0.535953331111384, -1.41449926124692, 1.80309880685636, \n . -0.891207102321521, 1.31007974803408, 0.648396274351552, -0.367914943396122, \n . -0.644697572910382, -0.233848357225153, 0.267820158769444, 1.18466261903543, \n . 0.665695188696194, -0.493332072394772, 0.159701944115437, 1.05492076145062, \n . 1.5263161773421, 0.254845973010963, 0.0861815581507115, -0.112755956812663, \n . -2.01477158900597, 0.254845973010963, -0.303044014603718, 0.531628602525225, \n . 0.0386095437029472, -0.674970673013505, 0.125104115426154, 1.34900230530953, \n . -1.77042442388791, 0.228897601494002, 0.306742716044888, -0.454409515119329, \n . 0.925178903865813, -0.0911323138818613, 1.5263161773421, 1.25818300500016, \n . -0.0435602994340982, 1.5046925344113, 0.665695188696194, 1.5046925344113, \n . -0.0262613850894565, -1.27178321790363, 0.88193161800421, -0.622656740535659, \n . -0.0294264816104535, -1.39811455955544, -0.868702391296263, -0.659327005793249, \n . -0.735624815764686, -1.14455741897594, -1.15555849855322, -1.30513769345071, \n . -0.938494186463934, -1.0877776534158, -0.678845050204547, -0.687125432682067, \n . -1.25368103091183, -0.230521484635947, -0.581254828148058, -0.855690361688731, \n . -0.405000972555125, -0.68002796198705, 1.16235713926122, -0.486621885547825, \n . 0.155699212351251, -0.626796931774419, -0.939085642355185, -0.635668770143191, \n . -1.11782361269137, -1.11102186994198, -0.576523181018046, -0.960378054440238, \n . -1.14715982489745, -0.309776574063642, -0.792404581324825, -0.0980353649956218, \n . -0.510280121197883, -0.372470898536295, -0.627388387665671, -0.340532280408717, \n . 0.808666516292853, -0.459414914550259, -0.273106308806051, -0.252405352612251, \n . -0.559962416063005, -0.257728455633514, -0.613784902166887, -0.174333174967059, \n . -0.872842582535023, 0.0338592987534517, -0.142394556839481, -1.06329137951799, \n . -0.593675401864338, -0.611419078601881, -0.947957480723957, -0.18261355744458, \n . -0.053676173151763, -0.592492490081835, 0.877866855569272, -0.0317923051754594, \n . -1.14071295568281, -0.336983545061208, -0.613784902166887, -0.6599184616845, \n . -0.942634377702694, -1.18075451952053, -0.552273489476736, -0.288484161978589, \n . -0.927847980421408, -0.703094741745856, -0.922524877400145, -1.18394838133329, \n . -1.26965033997562, -1.25391761326833, 0.0734868434672988, -1.46832037384698, \n . -1.34926030293807, -0.719064050809646, -1.06861448253925, -1.05619390882297, \n . -0.695405815159588, -1.14029893655893, -1.50989972300196, -0.780575463499796, \n . -0.463555105789019, -0.264825926328531, -0.933762539333922, 0.932280797564406, \n . -0.37838545744881, -0.559370960171754, -0.845044155646205, -0.208046160768392, \n . -0.0755600411280669, -0.819611552322392, -0.89590936229383, -0.769337801566019, \n . -0.989359393111559, 0.473902481844531, -0.824343199452404, -1.10853775519873, \n . -0.776435272261036, -0.236436043548461, -0.907738480118859, -1.21139193468735, \n . 1.19607012506255, -0.818428640539889, -1.06447429130049, -0.844452699754953, \n . -0.735624815764686, -1.05087080580171, -0.648089343859472, -1.37345084889025, \n . -0.779984007608545, -1.11711386562187, -1.17637774592527, -1.23670624683292, \n . -1.22050035541263, -1.27952765335952, -0.00754261363414994, -0.992908128459068, \n . -1.09712265649757, 0.120803314767415, -1.03726732030293, -1.22736124375114, \n . -0.389623119382587, -1.16182793100048, -0.39494622240385, -1.05382808525797, \n . -0.613193446275636, -0.866336567731257, -0.875208406100029, -1.36185831342172, \n . -1.32613437759014, -1.32548377610976, -1.02839548193415, -1.25214324559458, \n . -0.365373427841278, -0.709600756549622, -1.21192424498948, -1.37835993278764, \n . -1.35594375450921, -1.3926140197668, -0.275472132371057, -0.351769942342494, \n . -0.530981077391684, -0.954463495527723, -1.01538345232662, -1.23422213208966, \n . 0.252697978516488, -1.09942933447345, -1.09203613583281, -0.503182650502866, \n . -0.842086876189947, 0.32248977368416, 0.349105288790475, -0.364190516058775, \n . -1.01183471697911, -0.703686197637108, -0.87165967075252, -1.00887743752286, \n . -0.928439436312659, -0.487213341439077, -0.0992182767781249, \n . -1.07512049734302, -0.933171083442671, -1.05087080580171, -1.41538507157998, \n . -0.583620651713063, -0.678253594313295, -0.643949152620711, -0.43161648766144, \n . 0.46917083471452, -0.809556802171118, 0.164571050720022, -0.234661675874707, \n . -0.499042459264106, 0.229631198757682, 0.453792981541982, -0.233478764092204, \n . -0.942042921811443, -0.00990843719915581, -0.695405815159588, \n . -0.896500818185081, -0.943225833593946, -0.151266395208252, -0.599589960776852, \n . -0.559962416063005, -0.300313279803618, -0.513237400654141, -1.2724301826645, \n . -0.698954550507096, -0.526249430261673, -0.609644710928127, -0.711966580114628, \n . -0.555230768932994, -0.377794001557558, -0.7208384184834, -1.01597490821787, \n . -0.525657974370421, 0.478634128974543, -0.87165967075252, -1.2517292264707, \n . 0.100693814464866, -0.668198844162021, -1.3034816169552, -1.10321465217746, \n . -0.116370497624417, -0.754551404284733, -0.694222903377085, -0.930805259877665, \n . -1.06979739432176, 0.743014912363942, -1.03785877619418, -1.28437759166778, \n . -0.593675401864338, -0.558779504280502, -0.104541379799388, 0.3390505386392, \n . -0.573565901561789, -0.797136228454837, -0.774069448696031, -0.83084921425617, \n . -1.04259042332419, -1.02484674658665, -1.01538345232662, -0.807782434497363, \n . -0.601955784341858, -0.50909720941538, 1.66805192628121, 0.427768922326918, \n . -0.929030892203911, 0.0309020192971944, -0.759283051414744, -1.09605803589332, \n . -0.0205546432416817, 0.634187028373674, -0.127608159558194, -0.484847517874071, \n . -0.482481694309065, -0.834397949603679, -0.193259763487105, -0.875208406100029, \n . 0.090639064313591, 0.730594338647661, -0.797727684346089, -0.604321607906864, \n . -1.08127163861203, -1.28822205496092, -0.850367258667468, -0.189119572248345, \n . -0.384300016361324, -0.635668770143191, 0.363891686071761, 0.495194893929584, \n . -0.302087647477372, -0.019371731459179, -0.740356462894698, 0.0799928582710647, \n . -0.431025031770189, -1.21452665091099, -0.153632218773258, -0.349404118777489, \n . 0.176400168545051, -0.444628517268972, -0.864562200057503, -0.706052021202114, \n . -0.574748813344292, 0.0817672259448192, -0.18675374868334, 0.251515066733986, \n . -1.17803382242077, 0.140912815069964, 0.813989619314116, -0.854507449906228, \n . -0.466512385245276, -0.774069448696031, -1.14834273667995, -0.342898103973723, \n . -1.10670424193585, -0.617333637514396, -1.04199896743294, -1.18051793716403, \n . -0.713149491897131, -0.961560966222741, -1.24794390876669, -0.18261355744458, \n . -0.332251897931197, -1.34636216907093, -1.29017385940205, 2.46710883536192, \n . 0.00842669542963913, -0.266008838111034, 0.792697207229064, -0.53334690095669, \n . -0.534529812739193, -0.225789837505935, -0.289667073761092, -0.478932958961556, \n . -0.133522718470709, 0.793288663120315, 0.0344507546447031, -0.147717659860744, \n . 0.838830766746677, -0.325745883127431, -0.462963649897767, 0.351471112355481, \n . 0.0557431667297553, 0.626498101787406, 0.793288663120315, 1.85081179667791, \n . 0.593968027768576, 0.643058866742446, 0.596925307224833, 0.397604671873094, \n . 1.24161222868891, 0.0344507546447031, 1.3392024507454, -0.774660904587282, \n . 0.334318891509189, 1.18364955134627, 1.85022034078666, -0.312733853519899, \n . 0.447878422629467, 0.643058866742446, -0.41919591394516, 0.655479440458727, \n . 1.26645337612148, -0.304453471042378, 2.73148961875132, 1.3392024507454, \n . 0.0705295640110415, 2.25773344985891, 1.84016559063538, 1.4805604087545, \n . -1.19968110804057, 0.44492114317321, -0.0548590849342661, 0.242051772473963, \n . 0.727637059191404, 1.24161222868891, 1.24161222868891, 0.727637059191404, \n . 1.6414364111749, -0.332251897931197, -0.421561737510166, 0.637144307829932, \n . 0.531273703295922, -1.0877776534158, 0.593968027768576, 0.664351278827498, \n . 0.0557431667297553, 1.6414364111749, 1.74434973625265, -0.603138696124361, \n . -0.762240330871002, 0.298831538034102, 2.02351691692333, 0.596925307224833, \n . -0.454683267420247, -0.0371154081967225, 2.22638628762258, 1.11208338850485, \n . 0.838830766746677, 0.447878422629467, 1.48884079123202, -0.756917227849739, \n . 2.02351691692333, 1.40958570180433, 1.6414364111749, -0.502591194611615, \n . -0.289667073761092, 0.835282031399168, -0.153040762882007, 0.792697207229064, \n . -0.225789837505935, 1.94248745982188, 0.600474042572342, -0.580071916365555, \n . 1.74434973625265, 0.0717124757935446, -0.736216271655938, 2.02351691692333, \n . -0.172558807293305, 2.73148961875132, 0.439006584260696, 0.531273703295922, \n . 0.748929471276456, -0.756917227849739, 0.349105288790475, 0.792697207229064, \n . 2.26542237644518, 1.74434973625265, 0.135589712048701, -0.762240330871002, \n . 1.24161222868891, 0.846519693332946, 0.751886750732713, -0.462963649897767, \n . 0.22489955162767, 1.82833647281035, 0.456158805106988, 0.603431322028599, \n . -0.960378054440238, 0.0557431667297553, 1.11208338850485, -0.289667073761092, \n . -0.312733853519899, 0.730594338647661, 0.351471112355481, -0.502591194611615, \n . 0.553749027163477, 0.730594338647661, 0.349105288790475, -0.792404581324825, \n . -0.774660904587282, 0.769038971579006, 0.0717124757935446, 0.423628731088158, \n . 0.546060100577208, 0.158656491807508, 1.07777894681226, 1.4805604087545, \n . 2.02351691692333, 0.118437491202409, -0.312733853519899, 1.6414364111749, \n . 0.351471112355481, 0.0841330495098251, 3.8452010619778, 0.155699212351251, \n . 0.191778021717589, -0.564694063193017, -0.266008838111034, 0.805709236836595, \n . 1.11208338850485, 1.82833647281035, 0.763124412666491, -0.332251897931197, \n . 2.21869736103631, 0.531273703295922, 1.52314523292461, 0.349105288790475, \n . -0.304453471042378, 0.0717124757935446, -0.153040762882007, 3.01124825531326, \n . 1.84016559063538, 0.626498101787406, 1.12332105043862, 1.85081179667791, \n . -0.53334690095669, 2.21869736103631, 2.89768872419298, 1.4805604087545, \n . 0.456158805106988, -0.171375895510802, -0.510280121197883, -0.564694063193017, \n . 3.46312055622936, -0.248856617264742, 1.61955254319859, 0.637735763721183, \n . 0.298831538034102, 1.31317839153034, 0.978414357082019, -0.316282588867407, \n . 0.827593104812899, 0.637735763721183, 0.421854363414404, 0.258021081537752, \n . 3.46312055622936, 0.793288663120315, 0.162796683046268, -0.418013002162657, \n . 0.978414357082019, -0.510280121197883, 0.349105288790475, -0.770520713348522, \n . 0.714625029583872, 1.4805604087545, 0.135589712048701, -0.708417844767119, \n . 0.135589712048701, 0.626498101787406, 0.609345880941114, 0.751886750732713, \n . 1.07777894681226, 0.729411426865158, 0.769038971579006, 0.838830766746677, \n . 0.637735763721183, 2.89768872419298, 0.162796683046268, -0.0755600411280669, \n . -0.490170620895334, 0.0705295640110415, 1.38770183382802, 0.204790051325121, \n . 1.11208338850485, -0.255362632068508, 0.351471112355481, 2.22638628762258, \n . -0.462963649897767, 0.846519693332946, -0.490170620895334, 0.334318891509189, \n . 1.74434973625265, -0.294990176782355, 0.846519693332946, 0.135589712048701, \n . 2.22638628762258, 0.714625029583872, -0.770520713348522, -0.312733853519899, \n . 0.28581950842657, 3.8452010619778, 1.94248745982188, 0.596925307224833, \n . 1.38770183382802, 0.439006584260696, 0.978414357082019, 0.603431322028599, \n . -0.462963649897767, 0.298831538034102, 2.89768872419298, -0.53334690095669, \n . -0.421561737510166, -0.348812662886237, -0.225198381614684, 0.423628731088158, \n . 1.97442607794946, 2.52211423324831, 0.334318891509189, 0.714625029583872, \n . -0.332251897931197, 0.992017842580802, -0.774660904587282, 2.89768872419298, \n . 1.18364955134627, -0.0944866296481132, 0.472719570062028, 0.626498101787406, \n . -0.421561737510166, 2.26542237644518, 1.71004529456006, -0.225198381614684, \n . 0.748929471276456, 0.985511827777036, 2.46710883536192, 0.804526325054093, \n . 0.162796683046268, 1.6414364111749, -0.510280121197883, 0.804526325054093, \n . 0.349105288790475, 0.0344507546447031, 0.845928237441694, 0.00842669542963913, \n . 0.967768151039493, -0.277837955936063, -1.36783201792336, -0.107498659255645, \n . 2.52211423324831, -0.61082762271063, 0.135589712048701, -0.266008838111034, \n . 2.46710883536192, 1.97442607794946, -0.41919591394516, 0.838830766746677, \n . 1.71004529456006, 0.838830766746677, 0.805709236836595, -0.762240330871002, \n . 0.727637059191404, -0.331833539176184, -0.55785580546965, -1.19374684945969, \n . -1.10121333363914, -0.380654348695573, -0.937573212842672, -0.996203388719197, \n . -1.00194435428305, -1.40387975043272, -0.884231957997414, -1.3142167173941, \n . -0.780713760035007, -0.98675565798813, -0.942545702701128, -0.76398811232929, \n . -0.642388133063406, -1.02621914568297, -0.629730886150972, -0.618881817368886, \n . 0.783812367248362, -0.387435016684377, -0.235096009202581, -0.996836251064819, \n . -0.801959853066593, -0.787946472556398, -1.18710179483066, -1.31959604733189, \n . -0.543390380426868, -1.41221997205895, -0.894628982246913, -0.217014227899104, \n . -1.05117200388177, -0.113496029936697, -0.536609712438064, -0.00184103038772461, \n . -0.824562079695939, -0.41048928784631, 1.6539980924782, -0.826822302358874, \n . -0.301998600025447, -0.732797039580792, -0.714263213744728, -0.46202236456122, \n . -0.254985968636406, 0.0831433417386184, -1.04538583386465, -0.526212688188565, \n . -0.964017817999007, -0.93938139097302, -1.02034256675934, -1.06378404634094, \n . -0.971250530520398, -0.98639402236206, -0.00952578744170234, \n . -0.705222323092989, 1.02023165779133, 2.30177790767528, -1.09054508267009, \n . -0.052017973504874, -0.533897445242542, -0.561472161730345, -1.02183431371688, \n . -1.32841091571733, -0.528020866318912, -0.64916880105221, -0.938929346440433, \n . -1.11170076679516, -0.850780662585981, -1.23420483512622, -1.41221997205895, \n . -1.41221997205895, 0.163607268539092, -1.37616037969449, -1.28754608997147, \n . -0.667250582355687, -1.38093849040393, -0.724660237994227, -0.768960602187747, \n . -1.17778967745937, -1.41221997205895, -0.614813416575603, -0.789754650686745, \n . -0.204809025519257, -1.13136470396269, 0.0171448399809264, -0.0732640665364596, \n . -0.747262464623574, -0.542034246829107, -0.617073639238538, -0.247301211582428, \n . -1.11513630524282, -0.604868436858691, -0.674483294877078, -1.29292541990926, \n . 0.12563552780179, -0.919943476071782, -1.08851088227345, -1.13055102380403, \n . -0.0271555242125927, -0.719235703603184, -1.13000857036493, 1.94918317225747, \n . -0.79789145227331, -0.878355379073784, -0.903669872898652, -0.596731635272126, \n . -1.04583787839724, -0.755399266210139, -1.23745955576084, -0.835863193010612, \n . -1.22945836753405, -1.08887251789952, -1.38982116546927, -0.933052767516803, \n . -1.38700040758592, -0.343134652490858, -0.876095156410849, -1.07187564347425, \n . -0.596731635272126, -1.24351695249751, -1.28185032886088, -0.704770278560402, \n . -1.2242598554093, -0.551527182013433, -1.03146286226098, -0.858013375107372, \n . -1.08498493491927, -1.36159098440921, -1.34567901686215, -1.34988303101521, \n . -1.32976704931509, -1.05442672451639, -1.19767963689319, -0.612553193912668, \n . -1.03593810313359, -1.41221997205895, -1.3246137416436, -1.22615844244617, \n . -1.31109761011925, -0.554239449208954, -0.602608214195756, -0.884684002530001, \n . -0.95113454882028, -1.17231993861507, -1.37726788879933, 0.142361175507506, \n . -1.35187202695859, -1.3872761547508, -0.7567553998079, -0.935312990179737, \n . 0.285207247804977, 0.550105343900918, -0.372969591641595, -0.920847565136955, \n . -1.08846567782019, -1.20852870567528, -0.968176627698807, -0.869314488422045, \n . -0.332737628241358, -0.249109389712776, -1.17331443658676, -0.985444728843628, \n . -0.8950810267795, -1.39603225734701, -0.844904083662351, -0.660469914366883, \n . -0.796535318675549, -0.80376803119694, 1.31360855944024, -1.05356783990448, \n . -0.250917567843124, -0.396475907336115, -0.710194812951446, -0.0958662931658062, \n . 0.0370347994147514, -0.0217309898215496, -0.919039387006608, \n . -0.0465934391138309, -1.02278360723531, -1.41221997205895, -1.02979029749041, \n . 0.141909130974919, -0.552883315611194, -0.47241938881072, -0.687140541789512, \n . -0.594019368076604, -1.18976885757292, -0.773933092046203, -0.58136212116417, \n . -0.789754650686745, -0.593567323544017, -0.567800785186562, -0.886040136127762, \n . -0.987976178226115, -1.25029762048631, -0.254985968636406, 0.0429113783383817, \n . -1.31796868701457, -1.35639247228446, -0.0836610907859592, -0.541130157763933, \n . -1.20518357613413, -1.25540572370454, -0.325956960252554, -0.860725642302894, \n . -1.09004783368424, -0.907286229159348, -1.12924009465953, 0.748100849173994, \n . -1.25323590994813, -1.2320350213698, -0.684880319126577, -0.481008234929872, \n . 0.296056316587063, 0.0424593338057945, -0.593567323544017, -0.791562828817093, \n . -0.559211939067411, -1.09565318588832, -0.783878071763115, -1.21051770161866, \n . -1.08719995312895, -0.746810420090987, -0.571417141447258, -0.564184428925867, \n . 1.55138398358097, 0.623788602712588, -1.12250463112399, 0.0279939087630128, \n . -0.834959103945438, -1.16251057225793, 0.0121723501224702, 0.108909880096074, \n . 0.159086823213223, -0.786590338958637, -0.238712365463276, -0.655949469041014, \n . -0.576841675838301, -0.624758396292516, 0.397766336419122, 0.800990059486665, \n . -0.738673618504422, -0.856205196977024, -0.938477301907846, -1.3365477173039, \n . -0.643744266661167, -0.495473659972653, -0.573225319577605, -0.558307850002237, \n . -0.463378498158981, -0.0954142486332193, 0.185757450635852, -0.196220179400105, \n . -0.678099651137773, -0.848972484455633, -0.960356257285053, -1.29771709195468, \n . -0.537513801503238, -0.619333861901472, -0.212493782573234, -0.602608214195756, \n . -0.707482545755924, -0.679003740202947, -0.794727140545202, -0.165481151184194, \n . -0.452529429376895, -0.781617849100181, -1.41221997205895, 0.121567127008508, \n . 0.414039939592252, -0.932148678451629, -0.789754650686745, -0.938025257375259, \n . -1.21404364897284, -0.606224570456452, -0.989558334090169, -0.705222323092989, \n . -1.02106583801148, -1.05090077716222, -0.309683357079425, -1.36678949653396, \n . -1.41221997205895, 0.22870168123161, -0.812808921848679, -1.41221997205895, \n . -1.41221997205895, 2.93102389703628, 0.406807227070861, -0.190795645009062, \n . 0.850714958071228, -0.362572567392096, 0.0411032002080339, -0.219274450562038, \n . -0.197576312997866, -0.388791150282138, 0.013980528252818, 2.15531547911711, \n . 0.303741073641041, 0.298316539249998, 1.21099445054301, 0.380136599648232, \n . -0.469707121615198, 0.173552248256005, 0.333123968259191, 0.737703824924495, \n . 2.15531547911711, 2.42518606507151, 0.798277792291143, 1.09798331739628, \n . 1.03288890470376, 0.207455588200024, 1.91301960965052, 0.303741073641041, \n . 1.90804711979206, 0.0347745767518168, 0.817263662659795, 0.682554391948889, \n . 1.43792080590165, -0.226507163083429, 0.372451842594254, 1.09798331739628, \n . 0.145525487235615, 0.856139492462271, 1.2598152600624, 0.0153366618505789, \n . 1.8614865329356, 1.90804711979206, 0.300124717380345, 1.09165469394006, \n . 1.50391930765934, 0.509421335968094, -1.13556871811575, 0.710129108436692, \n . 0.501736578914117, 0.22282510230798, 0.833085221300337, 1.91301960965052, \n . 1.91301960965052, 0.833085221300337, 0.334932146389539, 0.0374868439473383, \n . 0.444326923275576, 0.232770082024893, 0.244071195339566, -0.712907080146967, \n . 0.798277792291143, 0.329507611998496, 0.333123968259191, 0.334932146389539, \n . 1.73220179661574, -0.471967344278133, -0.234191920137407, 0.0917321878577701, \n . 1.71683228250779, 1.03288890470376, -0.186275199683193, 0.329507611998496, \n . 1.34118327592805, 0.859755848722966, 1.21099445054301, 0.372451842594254, \n . 1.42752378165215, -0.217014227899104, 1.71683228250779, 0.687978926339932, \n . 0.334932146389539, 0.101677167574682, -0.197576312997866, 0.932082973936875, \n . 0.345781215171625, 0.850714958071228, -0.219274450562038, 1.45148214187926, \n . 1.18884426844625, 0.385561134039275, 1.73220179661574, 0.213784211656242, \n . -0.203000847388909, 1.71683228250779, -0.0144982773001588, 1.8614865329356, \n . 0.427149231037273, 0.244071195339566, 0.623788602712588, -0.217014227899104, \n . 0.261700932110456, 0.850714958071228, 1.80588505542741, 1.73220179661574, \n . -0.0597027305588517, -0.234191920137407, 1.91301960965052, 1.3601691462967, \n . 0.39369793562584, -0.469707121615198, 1.18929631297884, 2.67155033533139, \n . 0.928918662208767, 1.66620329485805, -0.395571818270942, 0.333123968259191, \n . 0.58807708463822, -0.197576312997866, -0.226507163083429, 0.406807227070861, \n . 0.173552248256005, 0.101677167574682, 1.48041299196482, 0.406807227070861, \n . -0.04523730551607, -0.864794043096176, 0.0347745767518168, 1.21867920759699, \n . 0.213784211656242, -0.155988215999868, 0.538804230586245, 0.126087572334377, \n . 0.662212387982477, 0.509421335968094, 1.71683228250779, 0.0316102650237084, \n . -0.226507163083429, 0.334932146389539, 0.173552248256005, 0.150950021626658, \n . 2.42473402053892, 0.184853361570678, 1.01616325699804, -0.0949622041006324, \n . -0.190795645009062, 0.693403460730975, 0.58807708463822, 2.67155033533139, \n . 1.35474461190566, 0.0374868439473383, 1.76384491389683, 0.244071195339566, \n . 1.02430005858461, -0.04523730551607, 0.0153366618505789, 0.213784211656242, \n . 0.345781215171625, 3.87670105920814, 1.50391930765934, 0.737703824924495, \n . 1.21280262867336, 2.42518606507151, -0.362572567392096, 1.76384491389683, \n . 1.72632521769211, 0.509421335968094, 0.928918662208767, 0.287015425935324, \n . -0.266287081951079, -0.0949622041006324, 2.83112205533457, 0.114786459019704, \n . 1.16578999728432, 0.27300204542513, 0.0917321878577701, 1.69423005587844, \n . 0.385109089506688, 0.0668697385654889, 0.861564026853314, 0.27300204542513, \n . 0.440258522482294, 0.0383909330125123, 2.83112205533457, 2.15531547911711, \n . 0.57632392679096, -0.364380745522443, 0.385109089506688, -0.266287081951079, \n . -0.04523730551607, -0.428119024617201, 1.00169783195526, 0.509421335968094, \n . -0.0597027305588517, -0.11892056432774, 0.467833238970097, 0.737703824924495, \n . 0.895919411329921, 0.39369793562584, 0.662212387982477, 0.28023475794652, \n . 1.21867920759699, 1.21099445054301, 0.27300204542513, 1.72632521769211, \n . 0.57632392679096, 0.406355182538274, -0.125701232316544, 0.300124717380345, \n . 1.38186728386087, 1.74802335525629, 0.58807708463822, 0.301480850978106, \n . 0.173552248256005, 1.34118327592805, -0.469707121615198, 1.3601691462967, \n . -0.125701232316544, 0.817263662659795, 1.73220179661574, -0.262218681157797, \n . 1.3601691462967, -0.0597027305588517, 1.34118327592805, 1.00169783195526, \n . -0.428119024617201, -0.226507163083429, 0.479586396817357, 2.42473402053892, \n . 1.45148214187926, 1.03288890470376, 1.38186728386087, 0.427149231037273, \n . 0.385109089506688, 1.66620329485805, -0.469707121615198, 0.0917321878577701, \n . 1.72632521769211, -0.362572567392096, 0.444326923275576, -0.145591191750369, \n . 0.187113584233613, -0.155988215999868, 2.05993408274127, 2.66476966734258, \n . 0.817263662659795, 1.00169783195526, 0.0374868439473383, 0.589885262768568, \n . 0.0347745767518168, 1.72632521769211, 0.682554391948889, 0.527051072738985, \n . 0.302836984575867, 0.737703824924495, 0.444326923275576, 1.80588505542741, \n . 1.77605011627668, 0.187113584233613, 0.623788602712588, 1.00350601008561, \n . 2.93102389703628, 1.57082189848221, 0.57632392679096, 0.334932146389539, \n . -0.266287081951079, 1.57082189848221, 0.261700932110456, 0.303741073641041, \n . 1.67660031910755, 0.406807227070861, 1.25348663660618, 0.409067449733796, \n . -1.3038196931446, 0.143717309105267, 2.66476966734258, -0.145139147217782, \n . 0.467833238970097, -0.190795645009062, 2.93102389703628, 2.05993408274127, \n . 0.145525487235615, 1.21099445054301, 1.77605011627668, 1.21099445054301, \n . 0.693403460730975, -0.234191920137407, 0.833085221300337, 0.00804934140682924, \n . -0.799810419415669, -1.12745766920432, -1.48094142018776, -0.000610938323267076, \n . -0.611738011277074, -0.942272020975756, -0.939385261065724, -1.69066452765159, \n . -1.21319443853227, -1.47877635025523, -1.1167766575372, -0.910373323969901, \n . -1.00202795111342, -1.16022239418318, -0.601056999609955, -0.78191250797347, \n . -0.707001088308135, -0.966665142215528, 0.614268922513582, -0.749436458985608, \n . 0.165377756503582, -0.848452323899711, -0.406200705682785, -0.70916615824066, \n . -1.00202795111342, -1.50735527336455, -0.631512316660795, -1.85102404065388, \n . -0.778448396081431, -0.443872922508705, -1.38870944106223, -0.0929872554442961, \n . -0.632522682629306, -0.656194113891569, -1.0811251726483, -0.256089190361113, \n . 0.321262791645318, -0.965366100256013, -0.335475087886997, -0.805006587253727, \n . -1.2959001099547, -0.558044276950476, -0.0886571155792479, -0.555157517040444, \n . -1.11432291161367, 0.202905635334, -0.669328871482216, -0.845276887998676, \n . -0.608129561389534, -0.926972193452586, -1.35839846200689, -0.978933871833164, \n . 0.456940507416829, -0.982253645729702, -0.713784974096711, 0.416525868676379, \n . -1.05629903742203, -0.447770048387248, -0.665864759590177, -0.633388710602315, \n . -0.837049622255084, -1.28045594443602, -0.709454834231663, -0.668318505513705, \n . -1.18663624735998, -0.626316148822737, -0.49554592489828, -1.22950463202396, \n . -1.85102404065388, -1.85102404065388, -0.420634505232946, -1.71738149061894, \n . -1.27511543860246, -0.942272020975756, -1.7006238493412, -0.264749470091209, \n . -1.15603659231364, -1.1620987881247, -1.85102404065388, -0.662400647698139, \n . -0.292173689236515, -0.38599338631256, -1.04446332179089, -0.225778211305775, \n . -0.357125787212238, -0.853215477751264, -1.33559305871764, -0.688237148892926, \n . -0.538991661544264, -1.04633971573242, -0.454120920189319, -0.282070029551402, \n . -1.2066992287347, 0.139396917313292, -1.55036799602403, -0.808615037141267, \n . -0.701660582474576, -0.664710055626164, -0.519939046138052, -1.26616648288136, \n . -0.0929872554442961, -0.969696240121061, -0.878763302955049, \n . -0.965366100256013, -0.464224579874431, -0.906476198091357, -0.957716186494428, \n . -1.36994550164702, -0.588066580014811, -1.10638432186108, -0.559776332896496, \n . -1.69066452765159, -1.10263153397804, -1.72441075099987, -0.183920192610309, \n . -1.07650635679225, -0.955695454557406, 0.298168712365061, -1.01357499075355, \n . -1.39000848302174, -0.764158934526772, -1.39996780471135, -0.750446824954119, \n . -0.908785606019383, -1.05586602343552, -1.15603659231364, -1.49017905189986, \n . -1.65053856490215, -1.53203707059533, -1.3412222405422, -1.02237960847915, \n . -1.01198727280303, -0.636997160489856, -1.1704703918638, -1.85102404065388, \n . -1.4491870611774, -1.5837100729849, -1.44225883739333, -0.444594612486213, \n . -0.183920192610309, -1.04908213764695, -1.04244258985387, -1.00087324714941, \n . -1.44745500523138, -0.428140080999029, -1.55917261374963, -1.6104126021527, \n . -1.00664676696947, -0.91297140788893, 0.189915215738855, -0.678999517180824, \n . -0.299390589011595, -0.715950044029235, -1.26299104698033, -1.11591062956419, \n . -0.905898846109351, -1.28493042229657, -0.513732512331483, -0.0352520572436531, \n . -1.04908213764695, -1.16368650607522, -1.12182848737976, -1.61503141800875, \n . -0.651286622044515, -0.534228507692711, -0.67062791344173, -0.842534466084145, \n . 0.263527593444675, -1.01660608865908, -0.329701568066933, 0.0513507400573116, \n . -0.87616521903602, -0.274853129776322, -0.435934332756116, -0.531774761769184, \n . -1.19616255506308, -0.657060141864579, -0.884536822775113, -1.85102404065388, \n . -0.70916615824066, 0.246207033984482, -0.653596029972541, -1.04908213764695, \n . -0.897238566379254, -0.640316934386393, -1.15921202821467, -0.712630270132698, \n . -1.04258692784937, -0.475194267532553, -0.595572155780894, -1.48094142018776, \n . -0.658359183824094, -0.663988365648656, -1.22950463202396, -0.889155638631164, \n . -0.251759050496065, -1.188656979297, -1.47877635025523, -0.50723730253391, \n . -0.770654144324345, -1.26732118684538, -1.32967520090207, -0.787253013807029, \n . -0.700505878510563, -0.929570277371615, -0.775272960180396, -0.665143069612669, \n . 0.393431789396122, -1.37297659955255, -1.53030501464931, -0.116081334724553, \n . -0.651863974026521, -0.466245311811454, -0.588066580014811, -0.823914864664438, \n . -0.308050868741692, -0.429150446967541, -0.730528181574898, -0.984274377666724, \n . -0.996398769288859, -1.14867535454306, -1.04807177167843, -0.654750733936554, \n . -0.342691987662078, 0.107642558302938, -0.146392313779891, -1.49017905189986, \n . 0.192801975648887, -0.904166790163332, -1.05038117960646, -0.195467232250438, \n . -0.701227568488071, -0.43896543066165, -0.952953032642875, -0.778448396081431, \n . -0.674669377315775, 0.075888199292585, -0.540868055485785, 0.244763654029466, \n . 0.0859918589776976, -0.434346614805598, -0.936642839151193, -0.647100820174968, \n . -1.46419821270957, -0.383106626402528, -0.331144948021949, -0.381663246447512, \n . -0.636997160489856, -0.371559586762399, -0.299390589011595, -0.683618333036875, \n . -0.326814808156901, -0.618088883079145, -0.269079609956258, -0.802841517321203, \n . -1.44225883739333, 0.00227582158676476, -0.622419022944193, 0.208679155154064, \n . -0.306607488786676, -0.38599338631256, -0.783933239910492, -0.39321028608764, \n . -0.678999517180824, -0.427707067012524, 0.0369169405071508, -1.85102404065388, \n . -1.12933406314584, -0.111751194859505, -0.702382272452084, -0.863030461445373, \n . -0.815543260925344, -1.50735527336455, -0.648255524138981, -1.2959001099547, \n . -0.925384475502068, -0.913115745884431, -1.48094142018776, -0.913837435861939, \n . -1.52886163469429, -1.85102404065388, -0.457729370076859, -0.338361847797029, \n . -1.85102404065388, -1.85102404065388, 2.34921162844291, 0.98666095090773, \n . 0.696541579949498, 1.16275330541969, -0.235881870990888, 0.498798526112296, \n . 0.393431789396122, 0.731182698869884, 0.713862139409691, 1.04872628897342, \n . 2.09373337640506, 0.0672279195624883, 0.937586032437183, 1.39369409822226, \n . 0.139396917313292, -0.245985530676, 0.947689692122295, 0.92026547297699, \n . 1.65927600994522, 2.09373337640506, 1.76752950657143, 0.633032861928791, \n . 1.21038484393522, 0.76582381779027, 0.335696591195479, 1.08481078784882, \n . 0.0672279195624883, 1.58133349237435, 0.451166987596765, 0.924595612842038, \n . 1.10501810721905, 1.6029841916996, 0.0614543997424242, 1.53514533381384, \n . 1.21038484393522, 0.299612092320077, 1.81949118495201, 1.2710068020459, \n . 0.234659994344353, 1.7473221872012, 1.58133349237435, 0.598391743008405, \n . 2.04754521784455, 2.12693111537043, 0.950576452032328, -0.817563992862367, \n . 1.1728569651048, 0.114859458078019, 0.775927477475382, 0.801908316665672, \n . 1.08481078784882, 1.08481078784882, 0.801908316665672, 0.614268922513582, \n . -0.0929872554442961, 1.34750593966175, 0.69942833985953, 0.302498852230109, \n . -0.902001720230807, 0.633032861928791, 1.82959484463712, 0.92026547297699, \n . 0.614268922513582, 0.380441369800977, -0.211344411755614, 0.205792395244032, \n . -0.0439123369737494, 0.72540917904982, 0.76582381779027, 0.35734729052072, \n . 0.712418759454675, 0.72540917904982, 0.648910041433968, 1.39369409822226, \n . 1.53514533381384, 1.00253813041291, -0.176703292835229, 0.72540917904982, \n . 1.05449980879349, 0.614268922513582, -0.0828835957591836, 0.731182698869884, \n . 0.237546754254386, 1.01264179009802, 1.16275330541969, 0.393431789396122, \n . 1.07037698829866, 0.850983235136219, 0.264970973399691, 0.380441369800977, \n . 0.433846428136572, 0.110529318212971, 0.72540917904982, 0.477147826787054, \n . 1.7473221872012, 0.786031137160495, 0.302498852230109, 0.840879575451106, \n . -0.176703292835229, 1.25512962254072, 1.16275330541969, 1.97970635995879, \n . 0.380441369800977, 0.0426904603272153, 0.205792395244032, 1.08481078784882, \n . 0.816342116215833, 0.494468386247247, -0.245985530676, 0.972227151357569, \n . 0.983774190997697, 1.19883780429509, 1.39225071826725, -0.140618793959827, \n . 0.92026547297699, 0.254867313714579, 0.731182698869884, 0.0614543997424242, \n . 0.62581596215371, 0.947689692122295, -0.0828835957591836, 0.992434470727794, \n . 0.62581596215371, 0.47859120674207, -0.662400647698139, 0.451166987596765, \n . 1.89166018270281, 0.433846428136572, 0.145170437133357, 1.39946761804233, \n . 0.195688735558919, 0.641693141658887, 0.950576452032328, 0.72540917904982, \n . 0.407865588946283, 0.0614543997424242, 0.614268922513582, 0.947689692122295, \n . 0.406422208991267, 0.706645239634611, 0.549316824537858, 1.59576729192451, \n . 0.47137430696699, 0.696541579949498, 1.72134134801091, 0.254867313714579, \n . 0.983774190997697, 1.00686827027796, -0.0929872554442961, 0.620042442333646, \n . 0.302498852230109, 1.12233866667924, 0.47859120674207, 0.234659994344353, \n . 0.433846428136572, 1.01264179009802, 1.549579133364, 2.12693111537043, \n . 1.65927600994522, 0.80623845653072, 1.76752950657143, -0.235881870990888, \n . 0.620042442333646, 1.33595890002162, 0.950576452032328, 1.19883780429509, \n . 0.328479691420398, -0.525856903953618, 0.47137430696699, 1.97393284013873, \n . 0.829332535810977, 1.0559431887485, 0.468487547056958, -0.0439123369737494, \n . 1.23059216330545, 0.2837349128149, 0.565194004043035, 1.40812789777242, \n . 0.468487547056958, 0.419412628586411, 0.132180017538212, 1.97393284013873, \n . 2.09373337640506, 1.43988225678278, 0.27651801303982, 0.2837349128149, \n . -0.525856903953618, 0.47859120674207, -0.504206204628377, 2.02878127842934, \n . 0.950576452032328, 0.0426904603272153, 0.775927477475382, 1.19739442434008, \n . 1.65927600994522, 1.1093482470841, 0.494468386247247, 0.641693141658887, \n . 0.706645239634611, 1.89166018270281, 1.39369409822226, 0.468487547056958, \n . 1.33595890002162, 1.43988225678278, 0.204349015289016, 0.279404772949852, \n . 0.598391743008405, 1.7025774085957, 1.18729076465496, 0.254867313714579, \n . 0.334253211240463, 0.947689692122295, 0.72540917904982, -0.245985530676, \n . 0.816342116215833, 0.279404772949852, 0.924595612842038, 0.380441369800977, \n . 0.298168712365061, 0.816342116215833, 0.0426904603272153, 0.72540917904982, \n . 2.02878127842934, -0.504206204628377, 0.0614543997424242, 0.477147826787054, \n . 0.706645239634611, 1.07037698829866, 0.76582381779027, 1.7025774085957, \n . 0.786031137160495, 0.2837349128149, 1.39225071826725, -0.245985530676, \n . -0.0439123369737494, 1.33595890002162, -0.235881870990888, 1.34750593966175, \n . -0.0958740153543283, 0.416525868676379, 0.145170437133357, 1.76897288652644, \n . 1.72134134801091, 0.924595612842038, 2.02878127842934, -0.0929872554442961, \n . 1.36626987907696, 0.451166987596765, 1.33595890002162, 1.10501810721905, \n . 0.3645641902958, 1.41678817750252, 1.65927600994522, 1.34750593966175, \n . 1.97970635995879, 1.64484221039506, 0.416525868676379, 0.840879575451106, \n . 2.02445113856429, 2.34921162844291, 1.81804780499699, 1.43988225678278, \n . 0.614268922513582, -0.525856903953618, 1.81804780499699, 1.25512962254072, \n . 0.0672279195624883, 1.93784834126332, 0.98666095090773, 0.710975379499659, \n . 0.351573770700656, -1.43258819169472, 0.543543304717794, 1.72134134801091, \n . -0.264749470091209, 1.19739442434008, 0.696541579949498, 2.34921162844291, \n . 1.76897288652644, 0.299612092320077, 1.39369409822226, 1.64484221039506, \n . 1.39369409822226, 1.72134134801091, 0.205792395244032, 0.801908316665672, \n . 0.026505061148635, 0.339615433316943, -1.47097932748241, 0.220119204325173, \n . -0.133831651169436, -0.927952160291957, -0.263916153616173, 0.524153913532081, \n . -0.787279384390253, 0.394069411085345, 0.903819147417325, 0.48785126168648, \n . -0.123243377714469, -0.871985572029989, -1.06711232570009, -0.516522106041813, \n . -0.377361940633676, -0.272991816577573, -0.298706194968207, 0.858440832610324, \n . 0.63457447956245, 0.289699287029242, -0.661732713424217, -1.41047490773974, \n . -0.425765476427811, -1.1079528090264, -1.55114768364144, -0.28358009003254, \n . -0.0415624110618669, -0.401563708530744, -0.510471664067546, \n . -0.201899123379938, -0.232151333251272, 0.0355807241100351, -0.197361291899238, \n . -0.645093997994983, -1.10946541951996, -0.849296414626488, -0.871985572029989, \n . -0.0506380740232669, -0.78879199488382, -1.97770384282725, 0.0854968703977359, \n . -0.106604662285236, -1.37871008737484, -0.900725171407756, -0.558875199861681, \n . 0.770709423983454, -1.88694721321325, -1.29702912072223, -0.567950862823081, \n . -0.997532242996025, -0.351647562243042, -0.406101540011443, -0.921901718317691, \n . 0.548355681429148, 0.224657035805874, -0.151982977092237, 1.3455014115388, \n . 0.232220088273707, -0.654169660956384, -0.67383359737275, -0.335008846813808, \n . 0.315413665419876, -1.04593577879016, -1.31518044664503, -0.840220751665088, \n . -0.200386512886371, -1.59955121943557, -0.377361940633676, -0.555849978874548, \n . -0.522572548016079, -1.00509529546386, -1.77955186817001, -1.73719877435015, \n . -0.0400498005683003, -0.586102188745882, -0.722237133166885, \n . -1.1805581127176, -1.58896294598061, 0.0975977543462699, -0.440891581363478, \n . 0.0824716494106029, 0.0446563870714352, 1.76751973924391, -0.967280033124691, \n . -0.64206877700785, -0.138369482650136, -0.876523403510689, 0.159614784582505, \n . 0.144488679646838, -0.685934481321284, 0.155076953101805, -0.521059937522513, \n . -0.00828498020339962, -0.167109082027904, -0.306269247436041, \n . -1.10946541951996, -1.61770254535838, -0.649631829475683, -0.0884533363624346, \n . 0.527179134519214, -0.448454633831311, -0.115680325246636, 0.679952794369452, \n . -0.446942023337744, -0.331983625826674, -0.776691110935286, -0.758539785012486, \n . -0.342571899281642, -0.179209965976437, -1.11854108248136, -0.304756636942474, \n . -0.944590875721191, -0.687447091814851, -0.747951511557519, -0.983918748553925, \n . 0.465162104282979, 0.00381590374513438, -0.206436954860638, -1.235012090486, \n . -0.489295117157612, -1.1079528090264, -0.415177202972843, -1.12912935593633, \n . -1.13669240840416, 0.430372062930946, -0.466605959754112, 0.0476816080585682, \n . -1.04744838928373, -1.2894660682544, 0.797936412867655, -0.649631829475683, \n . -0.598203072694415, 0.651213194991685, 0.276085792587141, -1.57686206203207, \n . -1.00812051645099, -1.60106382992914, -0.53164821097748, -0.873498182523556, \n . -0.451479854818445, -0.410639371492144, -1.30005434170937, -1.19265899666613, \n . 0.962810956666426, 0.502977366622147, -0.218537838809172, -0.79786765784522, \n . -0.0990416098174021, 0.141463458659705, 0.0340681136164685, 0.516590861064248, \n . -0.294168363487507, -0.794842436858087, -0.120218156727336, -0.16408386104077, \n . -0.580051746771615, -1.26828952134447, 0.232220088273707, -0.90375039239489, \n . -0.794842436858087, -0.764590226986753, -1.098877146065, -0.325933183852408, \n . -0.855346856600755, -0.714674080699051, 0.549868291922715, -0.548286926406714, \n . -0.401563708530744, 0.646675363510984, 0.580120501794049, 0.366842422201143, \n . -1.1624067867948, -0.212487396834905, -0.427278086921377, -0.631480503552883, \n . -1.21383554357606, -0.0339993585940333, -0.778203721428853, -0.66022010293065, \n . -0.443916802350611, -1.46946671698884, -0.558875199861681, 0.374405474668977, \n . 0.510540419089981, -1.00055746398316, -1.07165015718079, -0.713161470205485, \n . 0.74953287707352, 0.020454619174368, -0.882573845484956, 0.174740889518172, \n . -0.27904225855184, 0.0249924506550676, 0.114236469775504, -0.200386512886371, \n . 0.357766759239743, -0.923414328811257, 0.0915473123720029, 0.008353735225834, \n . -0.871985572029989, -1.20173465962753, -0.610303956642949, -0.657194881943517, \n . 0.534742186987048, -0.354672783230175, -1.24560036394097, -0.634505724540016, \n . -1.66459347065894, -0.39400065606291, -0.54526170541958, 0.968861398640693, \n . -0.738875848596119, -0.989969190528192, -0.77517850044172, -0.534673431964613, \n . 0.46969993576368, -1.15484373432696, -0.77971633192242, -0.988456580034625, \n . -0.965767422631125, -0.929464770785524, 0.378943306149677, -1.09585192507786, \n . -0.173159524002171, -0.599715683187982, 0.147513900633972, -0.452992465312011, \n . 0.324489328381276, -0.840220751665088, -0.410639371492144, -0.572488694303781, \n . 0.0703707654620689, -0.424252865934243, -0.0279489166197672, \n . -0.91282605535629, 0.404657684540311, -0.667783155398483, -0.608791346149382, \n . 0.410708126514578, -0.235176554238406, 0.21255615185734, -1.77955186817001, \n . -1.02778445286736, -0.893162118939923, 0.114236469775504, -1.18358333370473, \n . 0.295749729003508, 0.118774301256204, -0.16862169252147, -0.378874551127243, \n . -0.537698652951747, 0.152051732114671, -0.570976083810215, 1.0913828486196, \n . -0.608791346149382, -0.167109082027904, 0.0355807241100351, 0.844827338168223, \n . 0.227682256793007, -1.20929771209536, -0.26996659559044, -0.728287575141152, \n . 0.37289286417541, -1.01417095842526, -0.236689164731972, 0.149026511127538, \n . -0.256353101148339, 0.344153264797643, -0.735850627608986, -1.07467537816793, \n . -0.480219454196212, -0.42122764494711, -0.406101540011443, -0.616354398617216, \n . 0.316926275913443, -0.835682920184388, -0.79332982636452, -0.888624287459223, \n . -1.05501144175156, -0.732825406621852, -1.28190301578657, -1.07316276767436, \n . -2.10778834527399, -0.133831651169436, 1.65709917321354, -0.347109730762342, \n . -0.530135600483913, 1.42264454671071, -0.227613501770572, -0.586102188745882, \n . 0.0764212074363359, -0.617867009110782, -0.781228942415987, -0.207949565354205, \n . 0.360791980226876, 0.772222034477021, 0.156589563595372, 0.397094632072478, \n . 0.22616964629944, 0.0522194395392687, -0.0476128530361339, -0.0763524524139015, \n . -0.330471015333108, 0.360791980226876, -0.318370131384575, -1.20929771209536, \n . 0.344153264797643, 2.87928845201544, -0.750976732544653, 0.475750377737947, \n . 0.772222034477021, 1.26987088686047, -1.98375428480152, 0.506002587609281, \n . 1.08835762763246, 2.58281679527637, 0.0930599228655695, 0.952222683211459, \n . 0.344153264797643, -0.935515212759791, 0.22616964629944, 0.0809590389170363, \n . -1.09131409359716, 2.58735462675707, 1.26987088686047, 0.289699287029242, \n . 1.97323476636899, 1.1049963430617, -0.214000007328472, -1.48459282192451, \n . 0.98852533505706, -0.395513266556477, 0.167177837050338, 2.71290129772311, \n . 0.475750377737947, 0.475750377737947, 2.71290129772311, 0.353228927759043, \n . -0.179209965976437, -1.36055876145204, 0.327514549368409, 1.17911425724647, \n . 0.413733347501711, -1.20929771209536, 1.67373788864278, -0.0763524524139015, \n . 0.353228927759043, 2.72500218167164, -0.688959702308417, 0.144488679646838, \n . 0.689028457330853, -0.174672134495737, 2.87928845201544, -0.43030330790851, \n . -0.223075670289872, 1.0777693541775, -0.286605311019673, 0.397094632072478, \n . 0.952222683211459, 0.676927573382319, -0.114167714753069, -0.174672134495737, \n . 2.22735332928819, 0.353228927759043, 0.0915473123720029, -0.617867009110782, \n . 0.955247904198592, 0.388018969111078, 1.42264454671071, 0.0764212074363359, \n . 1.61474607939368, 0.451548609840879, -1.00812051645099, 2.72500218167164, \n . 0.21709398333804, -0.729800185634719, -0.174672134495737, 0.394069411085345, \n . 2.58735462675707, 0.33205238084911, 1.17911425724647, 4.25727661165471, \n . -0.114167714753069, 0.471212546257246, 1.42264454671071, 2.48298450270097, \n . 2.72500218167164, 0.787348139412688, 0.144488679646838, 0.475750377737947, \n . 0.732894161644286, -0.372824109152976, 0.0522194395392687, 1.50735073435044, \n . 0.431884673424512, -0.725262354154019, 1.03390364986406, 2.90802805139321, \n . -0.0763524524139015, 0.386506358617511, -0.617867009110782, 0.0930599228655695, \n . 0.640624921536717, -0.0476128530361339, 0.0915473123720029, 0.0189420086808015, \n . 0.640624921536717, 0.546843070935582, -0.767615447973886, -1.98375428480152, \n . 0.21709398333804, 0.21709398333804, -0.560387810355247, 0.953735293705026, \n . -1.1215663034685, 0.0612951025006688, -0.214000007328472, -0.174672134495737, \n . -0.365261056685143, 0.0930599228655695, 0.353228927759043, -0.0476128530361339, \n . -0.0597137369846679, 3.33760943156615, -0.679884039347017, -0.289630532006807, \n . 0.105160806814103, -0.530135600483913, 0.298774949990642, 0.386506358617511, \n . 0.431884673424512, 0.0128915667065345, -0.179209965976437, 1.90365468366492, \n . 1.17911425724647, 2.14567236263559, 0.546843070935582, -1.09131409359716, \n . 0.21709398333804, 0.388018969111078, 1.70852792999481, 1.1049963430617, \n . -0.330471015333108, -0.191310849924971, -0.318370131384575, -0.227613501770572, \n . 1.90365468366492, 0.962810956666426, -0.214000007328472, -0.725262354154019, \n . 0.173228279024605, -0.893162118939923, 0.105160806814103, 1.70550270900768, \n . 0.270035350612875, 0.835751675206823, 1.1095341745424, 0.689028457330853, \n . 1.94449516699122, 1.56331732261241, -0.0990416098174021, -0.230638722757705, \n . 1.1095341745424, 1.10348373256813, 0.164152616063205, 1.70550270900768, \n . 0.360791980226876, -1.04593577879016, -0.226100891277005, 1.56331732261241, \n . -0.893162118939923, 0.546843070935582, -0.197361291899238, -0.156520808572936, \n . -0.214000007328472, 0.787348139412688, -0.679884039347017, -0.409126760998577, \n . -0.330471015333108, 0.946172241237192, -0.372824109152976, 0.0612951025006688, \n . 2.66903559340967, 0.21709398333804, 0.397094632072478, 1.1095341745424, \n . 0.962810956666426, -1.04593577879016, 0.00684112473226746, -0.610303956642949, \n . 0.289699287029242, 0.480288209218647, 0.251884024690074, 0.386506358617511, \n . -0.185260407950704, -0.0476128530361339, 1.0777693541775, 0.0522194395392687, \n . 0.732894161644286, -0.610303956642949, 0.506002587609281, 2.72500218167164, \n . 0.440960336385912, 0.732894161644286, 0.787348139412688, 1.0777693541775, \n . -0.156520808572936, -0.197361291899238, 0.0930599228655695, -0.620892230097915, \n . 3.33760943156615, 1.61474607939368, 2.87928845201544, 0.480288209218647, \n . 0.33205238084911, 1.56331732261241, 1.03390364986406, 0.0522194395392687, \n . 0.689028457330853, 0.962810956666426, -0.227613501770572, -1.36055876145204, \n . -0.253327880161206, 0.37289286417541, -0.560387810355247, 3.75206470680343, \n . -0.141394703637269, 0.506002587609281, -0.156520808572936, -0.179209965976437, \n . 0.451548609840879, -1.98375428480152, 0.962810956666426, 1.08835762763246, \n . -0.177697355482871, -0.077865062907468, -0.330471015333108, -1.36055876145204, \n . 2.48298450270097, 1.3137365911739, 0.37289286417541, 4.25727661165471, \n . 3.9305527450443, 1.65709917321354, -0.0461002425425673, -1.04593577879016, \n . 0.353228927759043, -0.893162118939923, -0.0461002425425673, 0.471212546257246, \n . 0.772222034477021, -0.481732064689779, -0.347109730762342, 0.542305239454881, \n . -0.462068128273411, -2.10930095576756, -0.138369482650136, -0.141394703637269, \n . -2.05182175701202, -0.409126760998577, -0.530135600483913, 1.65709917321354, \n . 3.75206470680343, -0.935515212759791, 0.397094632072478, 1.3137365911739, \n . 0.397094632072478, 0.298774949990642, 0.144488679646838, 2.71290129772311, \n . -0.695155244569296, -0.187767631343127, -1.29369690952225, -0.612787125539074, \n . -0.882954555958204, -0.274528716721627, -0.613336246332609, -0.81760918152756, \n . -1.22780241429807, 0.275141197606724, -0.277274320689302, -0.0191875477279379, \n . 0.376728544410664, -1.16135879828036, 1.27124631707888, -0.502962966832111, \n . -0.732495458529664, -0.333284641629853, 0.179045058738131, 0.897844177475204, \n . -0.329989916868644, -0.02852260121803, -0.702293814885249, -1.27337944016146, \n . -1.05537848512814, -0.630908111725723, 0.2542746074524, 0.126878583352323, \n . 0.470628200105118, -0.904370266906062, -0.0191875477279379, -0.534262852063595, \n . 0.314128773947695, -0.735790183290873, 0.168611763660969, -0.0312682051857037, \n . -0.0213840309020771, 1.26026390120818, 0.275141197606724, 0.903335385410553, \n . 0.00881761274233753, -0.440912317162677, -0.00106656154128914, \n . -0.284962011798789, -0.492529671754949, -0.737437545671478, -0.409612431931192, \n . 0.393202168216709, -0.649029097912372, -0.955987621498334, -0.235541140380655, \n . -0.964224433401356, 1.00766833618217, -0.462328028110535, -0.829689838985327, \n . 3.47871190708884, 2.23220770576481, -0.962577071020752, 0.0593367257475408, \n . -0.215772791813402, -1.4018737058486, -0.344267057500549, -0.461229786523465, \n . -0.295395306875951, 0.305891962044673, -0.453542095413977, -1.15147462399673, \n . -0.963126191814286, -0.665502721718416, -1.29644251348992, -0.37172309717729, \n . 1.69956053603604, -1.4727102882146, -0.662207996957207, -0.602902951255447, \n . -0.454640337001047, -0.784112813121936, -1.21846736080798, -0.908214112460805, \n . -1.07953980004367, -0.86538269056509, -0.19270971848494, 0.123583858591114, \n . -0.628711628551584, 1.22731665359609, -0.577094273959311, -0.292100582114742, \n . -0.393138808125147, 0.106011993198, -0.191062356104336, 0.149392535887251, \n . -0.495275275722623, -1.34696162649512, -0.140543243099132, -0.0894750093003945, \n . -0.789604021057285, -0.1905132353108, -0.498570000483832, -0.4002773784411, \n . -1.10644671892687, -0.956536742291869, 2.44087360730804, -1.21023054890495, \n . -0.426635176530772, -0.20753597991038, -0.393138808125147, -1.11907649717817, \n . -0.824198631049978, -1.32060382840545, -0.276176079102232, -0.192160597691405, \n . -1.36837733744298, -1.17453769732519, -1.24207955492997, -1.14982726161612, \n . 0.799551555432472, -0.884052797545273, -0.840672254856023, -0.0290717220115646, \n . -0.950496413562986, -1.03341365338674, -0.466171873665279, -0.959831467053078, \n . -0.417849243834214, -0.375017821938499, -0.487038463819601, -0.977403332446192, \n . -0.0768452310490941, -0.395884412092822, -1.28106713127094, -1.06800826337944, \n . -0.860440603423276, -1.55398016565775, -0.149329175795689, -0.599059105700704, \n . -0.224558724509959, -1.29095130555457, -1.36618085426884, -1.42383853759, \n . 0.646346854036259, 0.015407062264755, -0.309672447507856, -0.898879058970713, \n . -0.791800504231424, -0.817060060734025, 0.352018108701598, -1.09985726940446, \n . -0.607845038397261, 0.859405721927768, -0.472761323187696, 0.131271549700601, \n . 0.713888711641041, 0.304793720457604, -0.394786170505752, -0.0202857893150079, \n . -0.242679710696608, 0.130722428907067, -0.827493355811187, -0.734142820910269, \n . -0.114185445009462, -0.77532688042538, -0.600706468081308, -0.213576308639263, \n . -1.64952718373281, -0.706686781233528, -1.1289606714618, -0.965871795781961, \n . -0.452443853826908, 1.90822643757927, -0.80388116168919, 0.61120312325003, \n . 0.378925027584803, -0.679779862350321, 0.452507213918469, 1.45794738688072, \n . 0.16421879731269, -1.04439606925744, 1.0461067917296, -0.440912317162677, \n . 0.186732749847618, -1.05208376036693, -0.46068066572993, -0.808274128037469, \n . 0.347625142353319, -0.701744694091714, -0.379410788286777, -1.40077546426153, \n . -0.435421109227329, -0.205339496736241, -0.894486092622435, -0.428282538911376, \n . 0.37398294044299, -0.644636131564093, 0.515656105174973, -0.769835672490031, \n . -0.13230643119611, 0.37508118203006, -0.283314649418185, -0.254760368154374, \n . 0.615596089598309, -0.473859564774766, -0.791800504231424, -1.37277030379126, \n . 0.457998421853817, -0.932375427376337, -0.433773746846724, -0.708883264407667, \n . -0.99662256021991, 0.55299631913534, -0.941710480866429, -0.982345419588005, \n . -0.150427417382759, -0.680878103937391, -0.583134602688194, 0.783627052419963, \n . -0.181727302614244, -0.392589687331613, -0.656167668228324, -0.466720994458813, \n . -0.953791138324195, -1.226704172711, -0.721513042658968, -1.13170627542948, \n . -0.363486285274267, -0.878561589609925, 2.17729562641133, -0.19270971848494, \n . -0.35689683575185, 0.409126671229219, -0.000517440747754537, \n . -1.03561013656088, -0.138346759924993, 1.24928148533749, -0.396982653679891, \n . -0.454091216207512, 0.359705799811085, -0.50625769159332, 0.439877435667168, \n . -0.859342361836207, -0.188865872930197, 0.996685920311472, -0.275077837515162, \n . -0.17678521547243, -1.45733490599562, -0.822002147875839, -1.05757496830228, \n . -0.474408685568301, 0.0132105790906159, -0.541950543173083, 2.19376925021737, \n . 2.80878453897636, 0.172455609215712, 0.743541234491921, -0.956536742291869, \n . 0.202108132066592, 0.250979882691191, -0.500766483657971, 0.277886801574397, \n . 1.07905403934169, 0.076908591140655, -0.512298020322203, -0.698449969330506, \n . -0.259702455296188, -0.421693089388958, 0.233408017298077, -0.135601155957319, \n . 0.793511226703589, 0.775939361310475, 1.17240457424261, 0.936282633022642, \n . -1.14323781209371, -0.0180893061408687, -0.863186207390951, -0.618278333474422, \n . 0.523892917077995, -0.332186400042783, -0.270684871166884, -1.12072385955878, \n . -0.621573058235631, -0.704490298059388, -0.979050694826797, -0.854400274694393, \n . 0.113699684307487, -0.111988961835322, -1.43866479901544, -0.815961819146956, \n . 0.694120363073788, 0.0774577119341896, -0.98289454038154, 1.79291107093695, \n . -1.22890065588514, -1.03670837814795, 0.293811304586907, -1.06306617623762, \n . -1.24866900445239, -0.548539992695501, 0.130173308113532, -0.343168815913479, \n . -0.0861802845391854, -0.283314649418185, -0.502413846038576, \n . -0.757205894238731, -0.361289802100128, -1.46062963075683, 0.0269385989289863, \n . 0.130173308113532, 2.44087360730804, 0.425600295035263, 0.914317801281249, \n . 0.0593367257475408, -0.432126384466119, 2.19376925021737, -0.343168815913479, \n . 0.362451403778759, -1.64733070055867, 0.518401709142646, 0.738599147350108, \n . 0.780332327658754, -0.295395306875951, 0.363549645365828, 0.914317801281249, \n . -0.606197676016656, 0.294360425380442, 1.17789578217796, -0.767639189315892, \n . 1.01865075205286, 0.362451403778759, -0.288805857353532, 2.32006703273038, \n . 0.159276710170877, 0.837440890186375, -0.884052797545273, 0.570568184528454, \n . -0.0955153380292774, -0.14823093420862, 0.88137055366916, 2.19376925021737, \n . 2.19376925021737, 0.88137055366916, 0.382219752346012, -1.08942397432729, \n . -0.77422863883831, 0.936282633022642, 0.958247464764034, -1.29589339269638, \n . 0.425600295035263, 1.13396611869518, -1.46062963075683, 0.382219752346012, \n . 3.01745044051959, -0.316811017823809, -1.42328941679646, 0.667213444190582, \n . 1.53482429797559, 0.0593367257475408, -0.35799507733892, -0.179530819440104, \n . 1.48540342655746, 1.15593095043657, -0.283314649418185, 0.363549645365828, \n . 2.14434837879924, -0.633653715693397, 1.53482429797559, 1.28222873294958, \n . 0.382219752346012, -0.921942132299176, -1.06306617623762, 0.886861761604508, \n . -0.524378677779969, 1.79291107093695, 0.293811304586907, 0.741893872111317, \n . 0.656231028319885, -1.33652833141796, 3.01745044051959, -0.178432577853035, \n . -0.927433340234523, 1.53482429797559, -1.17453769732519, 1.01865075205286, \n . 1.11200128695378, 0.958247464764034, 0.974721088570078, -0.633653715693397, \n . -0.49033318858081, 1.79291107093695, 1.84782315029044, 3.01745044051959, \n . -0.497471758896763, -1.42328941679646, 2.19376925021737, 0.690276517519044, \n . -0.525476919367039, -0.757205894238731, 0.419010845512845, 1.89724402170857, \n . 0.260314936181283, 0.383317993933082, -1.32554591554727, -1.46062963075683, \n . 1.93568247725601, -1.06306617623762, -0.295395306875951, 0.980212296505427, \n . -0.361289802100128, -0.921942132299176, 0.302048116489929, 0.980212296505427, \n . 0.211992306350219, -1.1037011149592, -1.64733070055867, 0.0834980406630725, \n . -0.178432577853035, 0.974721088570078, -0.405219465582914, -0.387098479396264, \n . 0.0966769397079083, 0.837440890186375, 1.53482429797559, 0.454703697092608, \n . -0.295395306875951, 0.382219752346012, -0.361289802100128, -0.500217362864437, \n . 3.25906358967491, 0.505222810097811, -0.499668242070902, -0.169646645156478, \n . -0.98289454038154, 0.62932410943668, 1.93568247725601, 1.89724402170857, \n . 0.770997274168662, -1.08942397432729, 2.68248675646336, 0.958247464764034, \n . 1.2053518218547, 0.211992306350219, -0.767639189315892, -0.178432577853035, \n . -0.524378677779969, 3.05588889606703, 0.159276710170877, 0.0269385989289863, \n . 0.182888904292875, 2.44087360730804, -1.22890065588514, 2.68248675646336, \n . 3.17669547064469, 0.837440890186375, 0.260314936181283, -0.363486285274267, \n . -1.0800889208372, -0.169646645156478, 2.12787475499319, -0.226206086890564, \n . 1.93019126932066, 0.600220707379334, 0.667213444190582, 1.08454524727704, \n . 1.16142215837192, -0.037857654708122, 1.19986061391935, 0.600220707379334, \n . -0.0861802845391854, -0.311868930681995, 2.12787475499319, 0.130173308113532, \n . -0.604001192842517, -0.712177989168876, 1.16142215837192, -1.0800889208372, \n . 0.211992306350219, -0.251465643393165, -0.243228831490143, 0.837440890186375, \n . -0.497471758896763, -1.11523265162343, -0.807175886450399, 0.0269385989289863, \n . 1.40852651546258, -0.525476919367039, 0.0966769397079083, 0.952756256828686, \n . 0.0834980406630725, -0.283314649418185, 0.600220707379334, 3.17669547064469, \n . -0.604001192842517, 0.593631257856917, -0.931826306582803, -0.288805857353532, \n . 0.914317801281249, -0.371173976383755, 1.93568247725601, -0.277823441482837, \n . -0.361289802100128, 1.48540342655746, -0.757205894238731, 0.690276517519044, \n . -0.931826306582803, 0.518401709142646, 3.01745044051959, -0.494177034135554, \n . 0.690276517519044, -0.497471758896763, 1.48540342655746, -0.243228831490143, \n . -0.251465643393165, -0.295395306875951, 0.335544484895553, 3.25906358967491, \n . 0.741893872111317, 0.0593367257475408, 0.914317801281249, 1.11200128695378, \n . 1.16142215837192, 0.383317993933082, -0.757205894238731, 0.667213444190582, \n . 3.17669547064469, -1.22890065588514, -0.77422863883831, -0.201495651181497, \n . -0.871423019293973, 0.974721088570078, 0.790216501942381, 1.6611220804886, \n . 0.518401709142646, -0.243228831490143, -1.08942397432729, 1.85880556616113, \n . -1.64733070055867, 3.17669547064469, 0.738599147350108, -0.164704558014664, \n . -0.68527107028567, 0.0269385989289863, -0.77422863883831, 1.84782315029044, \n . 0.848423306057071, -0.871423019293973, 0.974721088570078, 0.94177384095799, \n . 0.694120363073788, 0.740246509730712, -0.604001192842517, 0.382219752346012, \n . -1.0800889208372, 0.740246509730712, -0.49033318858081, -0.343168815913479, \n . -0.602902951255447, 0.0774577119341896, 0.335544484895553, 0.501378964543068, \n . -1.6588622372229, -0.168548403569408, 1.6611220804886, -0.93731751451815, \n . -0.807175886450399, -0.98289454038154, 0.694120363073788, 0.790216501942381, \n . -0.606197676016656, -0.283314649418185, 0.848423306057071, -0.283314649418185, \n . 0.62932410943668, -1.42328941679646, 0.88137055366916), .Dim = c(572L, \n . 31L), .Dimnames = list(c(\"1\", \"2\", \"4\", \"5\", \"7\", \"9\", \"10\", \n . \"11\", \"12\", \"13\", \"14\", \"16\", \"17\", \"20\", \"21\", \"22\", \"23\", \"24\", \n . \"25\", \"26\", \"27\", \"29\", \"30\", \"31\", \"32\", \"33\", \"34\", \"35\", \"36\", \n . \"37\", \"38\", \"39\", \"40\", \"41\", \"42\", \"43\", \"44\", \"45\", \"46\", \"47\", \n . \"48\", \"49\", \"50\", \"51\", \"52\", \"53\", \"54\", \"55\", \"57\", \"59\", \"61\", \n . \"63\", \"64\", \"66\", \"67\", \"69\", \"70\", \"71\", \"72\", \"73\", \"74\", \"75\", \n . \"76\", \"77\", \"78\", \"80\", \"81\", \"82\", \"83\", \"84\", \"85\", \"86\", \"87\", \n . \"88\", \"89\", \"90\", \"91\", \"93\", \"94\", \"95\", \"96\", \"97\", \"98\", \"99\", \n . \"100\", \"101\", \"102\", \"104\", \"105\", \"106\", \"107\", \"108\", \"109\", \n . \"110\", \"111\", \"113\", \"115\", \"116\", \"117\", \"118\", \"119\", \"120\", \n . \"121\", \"122\", \"125\", \"126\", \"127\", \"129\", \"132\", \"133\", \"134\", \n . \"135\", \"136\", \"137\", \"141\", \"142\", \"143\", \"145\", \"147\", \"151\", \n . \"152\", \"153\", \"154\", \"155\", \"156\", \"157\", \"158\", \"159\", \"160\", \n . \"161\", \"162\", \"163\", \"164\", \"165\", \"166\", \"167\", \"168\", \"169\", \n . \"171\", \"172\", \"173\", \"174\", \"175\", \"176\", \"177\", \"178\", \"179\", \n . \"180\", \"182\", \"183\", \"184\", \"185\", \"186\", \"187\", \"188\", \"189\", \n . \"191\", \"194\", \"195\", \"196\", \"197\", \"198\", \"199\", \"200\", \"202\", \n . \"203\", \"206\", \"207\", \"209\", \"210\", \"211\", \"212\", \"213\", \"214\", \n . \"215\", \"217\", \"218\", \"219\", \"220\", \"221\", \"223\", \"224\", \"225\", \n . \"226\", \"229\", \"230\", \"231\", \"232\", \"234\", \"235\", \"236\", \"238\", \n . \"240\", \"242\", \"243\", \"244\", \"245\", \"248\", \"249\", \"250\", \"251\", \n . \"252\", \"253\", \"254\", \"255\", \"256\", \"257\", \"259\", \"260\", \"261\", \n . \"262\", \"263\", \"264\", \"265\", \"266\", \"267\", \"268\", \"269\", \"270\", \n . \"272\", \"273\", \"274\", \"275\", \"276\", \"277\", \"278\", \"279\", \"280\", \n . \"281\", \"282\", \"283\", \"284\", \"286\", \"287\", \"289\", \"290\", \"292\", \n . \"293\", \"294\", \"295\", \"296\", \"298\", \"299\", \"300\", \"301\", \"303\", \n . \"305\", \"306\", \"307\", \"308\", \"309\", \"310\", \"313\", \"316\", \"317\", \n . \"319\", \"320\", \"321\", \"323\", \"324\", \"325\", \"326\", \"327\", \"328\", \n . \"329\", \"331\", \"332\", \"333\", \"334\", \"336\", \"338\", \"339\", \"340\", \n . \"341\", \"342\", \"343\", \"346\", \"347\", \"348\", \"349\", \"351\", \"352\", \n . \"354\", \"355\", \"356\", \"357\", \"358\", \"359\", \"361\", \"362\", \"363\", \n . \"364\", \"365\", \"366\", \"367\", \"368\", \"369\", \"371\", \"372\", \"373\", \n . \"374\", \"375\", \"376\", \"377\", \"378\", \"380\", \"381\", \"382\", \"383\", \n . \"385\", \"386\", \"388\", \"389\", \"390\", \"392\", \"393\", \"394\", \"395\", \n . \"396\", \"398\", \"402\", \"403\", \"404\", \"405\", \"406\", \"407\", \"409\", \n . \"410\", \"411\", \"412\", \"414\", \"416\", \"417\", \"418\", \"420\", \"421\", \n . \"422\", \"423\", \"424\", \"425\", \"426\", \"427\", \"428\", \"429\", \"430\", \n . \"431\", \"432\", \"433\", \"435\", \"436\", \"437\", \"438\", \"440\", \"441\", \n . \"442\", \"443\", \"444\", \"445\", \"447\", \"448\", \"449\", \"451\", \"452\", \n . \"453\", \"454\", \"456\", \"457\", \"458\", \"459\", \"460\", \"462\", \"463\", \n . \"464\", \"465\", \"466\", \"467\", \"468\", \"469\", \"470\", \"471\", \"472\", \n . \"474\", \"475\", \"476\", \"477\", \"478\", \"479\", \"480\", \"481\", \"482\", \n . \"483\", \"484\", \"485\", \"486\", \"487\", \"488\", \"489\", \"491\", \"492\", \n . \"493\", \"494\", \"495\", \"496\", \"497\", \"498\", \"499\", \"500\", \"501\", \n . \"502\", \"503\", \"504\", \"505\", \"507\", \"508\", \"510\", \"511\", \"512\", \n . \"513\", \"514\", \"515\", \"516\", \"517\", \"518\", \"519\", \"520\", \"522\", \n . \"523\", \"524\", \"525\", \"526\", \"527\", \"530\", \"531\", \"532\", \"533\", \n . \"534\", \"535\", \"536\", \"537\", \"539\", \"540\", \"541\", \"542\", \"543\", \n . \"545\", \"546\", \"547\", \"548\", \"550\", \"551\", \"552\", \"554\", \"555\", \n . \"556\", \"557\", \"558\", \"559\", \"560\", \"561\", \"562\", \"563\", \"564\", \n . \"565\", \"566\", \"568\", \"570\", \"571\", \"573\", \"574\", \"575\", \"576\", \n . \"577\", \"579\", \"580\", \"581\", \"583\", \"584\", \"587\", \"588\", \"589\", \n . \"590\", \"593\", \"594\", \"595\", \"596\", \"597\", \"598\", \"600\", \"601\", \n . \"602\", \"603\", \"604\", \"605\", \"606\", \"608\", \"609\", \"610\", \"611\", \n . \"615\", \"616\", \"617\", \"618\", \"619\", \"620\", \"624\", \"625\", \"626\", \n . \"627\", \"629\", \"630\", \"631\", \"632\", \"633\", \"634\", \"635\", \"636\", \n . \"637\", \"638\", \"639\", \"641\", \"642\", \"643\", \"644\", \"645\", \"646\", \n . \"647\", \"649\", \"650\", \"652\", \"654\", \"657\", \"658\", \"661\", \"662\", \n . \"664\", \"665\", \"666\", \"667\", \"669\", \"671\", \"672\", \"673\", \"674\", \n . \"675\", \"676\", \"677\", \"678\", \"679\", \"680\", \"682\", \"684\", \"686\", \n . \"687\", \"689\", \"690\", \"692\", \"693\", \"694\", \"695\", \"697\", \"701\", \n . \"702\", \"703\", \"704\", \"705\", \"706\", \"709\", \"710\", \"711\", \"712\", \n . \"713\", \"714\"), c(\"(Intercept)\", \"radius_mean\", \"texture_mean\", \n . \"perimeter_mean\", \"area_mean\", \"smoothness_mean\", \"compactness_mean\", \n . \"concavity_mean\", \"concave.points_mean\", \"symmetry_mean\", \"fractal_dimension_mean\", \n . \"radius_se\", \"texture_se\", \"perimeter_se\", \"area_se\", \"smoothness_se\", \n . \"compactness_se\", \"concavity_se\", \"concave.points_se\", \"symmetry_se\", \n . \"fractal_dimension_se\", \"radius_worst\", \"texture_worst\", \"perimeter_worst\", \n . \"area_worst\", \"smoothness_worst\", \"compactness_worst\", \"concavity_worst\", \n . \"concave.points_worst\", \"symmetry_worst\", \"fractal_dimension_worst\"\n . )), assign = 0:30), y = c(`1` = -0.999125491743529, `2` = -0.999125491743529, \n . `4` = -0.999125491743529, `5` = -0.999125491743529, `7` = -0.999125491743529, \n . `9` = -0.999125491743529, `10` = -0.999125491743529, `11` = -0.999125491743529, \n . `12` = -0.999125491743529, `13` = -0.999125491743529, `14` = -0.999125491743529, \n . `16` = -0.999125491743529, `17` = -0.999125491743529, `20` = -0.999125491743529, \n . `21` = -0.999125491743529, `22` = -0.999125491743529, `23` = -0.999125491743529, \n . `24` = -0.999125491743529, `25` = -0.999125491743529, `26` = -0.999125491743529, \n . `27` = -0.999125491743529, `29` = -0.999125491743529, `30` = -0.999125491743529, \n . `31` = -0.999125491743529, `32` = -0.999125491743529, `33` = -0.999125491743529, \n . `34` = -0.999125491743529, `35` = -0.999125491743529, `36` = -0.999125491743529, \n . `37` = -0.999125491743529, `38` = -0.999125491743529, `39` = -0.999125491743529, \n . `40` = -0.999125491743529, `41` = -0.999125491743529, `42` = -0.999125491743529, \n . `43` = -0.999125491743529, `44` = -0.999125491743529, `45` = -0.999125491743529, \n . `46` = -0.999125491743529, `47` = -0.999125491743529, `48` = -0.999125491743529, \n . `49` = -0.999125491743529, `50` = -0.999125491743529, `51` = -0.999125491743529, \n . `52` = -0.999125491743529, `53` = -0.999125491743529, `54` = -0.999125491743529, \n . `55` = -0.999125491743529, `57` = -0.999125491743529, `59` = -0.999125491743529, \n . `61` = -0.999125491743529, `63` = -0.999125491743529, `64` = -0.999125491743529, \n . `66` = -0.999125491743529, `67` = -0.999125491743529, `69` = -0.999125491743529, \n . `70` = -0.999125491743529, `71` = -0.999125491743529, `72` = -0.999125491743529, \n . `73` = -0.999125491743529, `74` = -0.999125491743529, `75` = -0.999125491743529, \n . `76` = -0.999125491743529, `77` = -0.999125491743529, `78` = -0.999125491743529, \n . `80` = -0.999125491743529, `81` = -0.999125491743529, `82` = -0.999125491743529, \n . `83` = -0.999125491743529, `84` = -0.999125491743529, `85` = -0.999125491743529, \n . `86` = -0.999125491743529, `87` = -0.999125491743529, `88` = -0.999125491743529, \n . `89` = -0.999125491743529, `90` = -0.999125491743529, `91` = -0.999125491743529, \n . `93` = -0.999125491743529, `94` = -0.999125491743529, `95` = -0.999125491743529, \n . `96` = -0.999125491743529, `97` = -0.999125491743529, `98` = -0.999125491743529, \n . `99` = -0.999125491743529, `100` = -0.999125491743529, `101` = -0.999125491743529, \n . `102` = -0.999125491743529, `104` = -0.999125491743529, `105` = -0.999125491743529, \n . `106` = -0.999125491743529, `107` = -0.999125491743529, `108` = -0.999125491743529, \n . `109` = -0.999125491743529, `110` = -0.999125491743529, `111` = -0.999125491743529, \n . `113` = -0.999125491743529, `115` = -0.999125491743529, `116` = -0.999125491743529, \n . `117` = -0.999125491743529, `118` = -0.999125491743529, `119` = -0.999125491743529, \n . `120` = -0.999125491743529, `121` = -0.999125491743529, `122` = -0.999125491743529, \n . `125` = -0.999125491743529, `126` = -0.999125491743529, `127` = -0.999125491743529, \n . `129` = -0.999125491743529, `132` = -0.999125491743529, `133` = -0.999125491743529, \n . `134` = -0.999125491743529, `135` = -0.999125491743529, `136` = -0.999125491743529, \n . `137` = -0.999125491743529, `141` = -0.999125491743529, `142` = -0.999125491743529, \n . `143` = -0.999125491743529, `145` = -0.999125491743529, `147` = -0.999125491743529, \n . `151` = -0.999125491743529, `152` = -0.999125491743529, `153` = -0.999125491743529, \n . `154` = -0.999125491743529, `155` = -0.999125491743529, `156` = -0.999125491743529, \n . `157` = -0.999125491743529, `158` = -0.999125491743529, `159` = -0.999125491743529, \n . `160` = -0.999125491743529, `161` = -0.999125491743529, `162` = -0.999125491743529, \n . `163` = -0.999125491743529, `164` = -0.999125491743529, `165` = -0.999125491743529, \n . `166` = -0.999125491743529, `167` = -0.999125491743529, `168` = -0.999125491743529, \n . `169` = -0.999125491743529, `171` = -0.999125491743529, `172` = -0.999125491743529, \n . `173` = -0.999125491743529, `174` = -0.999125491743529, `175` = -0.999125491743529, \n . `176` = -0.999125491743529, `177` = -0.999125491743529, `178` = -0.999125491743529, \n . `179` = -0.999125491743529, `180` = -0.999125491743529, `182` = -0.999125491743529, \n . `183` = -0.999125491743529, `184` = -0.999125491743529, `185` = -0.999125491743529, \n . `186` = -0.999125491743529, `187` = -0.999125491743529, `188` = -0.999125491743529, \n . `189` = -0.999125491743529, `191` = -0.999125491743529, `194` = -0.999125491743529, \n . `195` = -0.999125491743529, `196` = -0.999125491743529, `197` = -0.999125491743529, \n . `198` = -0.999125491743529, `199` = -0.999125491743529, `200` = -0.999125491743529, \n . `202` = -0.999125491743529, `203` = -0.999125491743529, `206` = -0.999125491743529, \n . `207` = -0.999125491743529, `209` = -0.999125491743529, `210` = -0.999125491743529, \n . `211` = -0.999125491743529, `212` = -0.999125491743529, `213` = -0.999125491743529, \n . `214` = -0.999125491743529, `215` = -0.999125491743529, `217` = -0.999125491743529, \n . `218` = -0.999125491743529, `219` = -0.999125491743529, `220` = -0.999125491743529, \n . `221` = -0.999125491743529, `223` = -0.999125491743529, `224` = -0.999125491743529, \n . `225` = -0.999125491743529, `226` = -0.999125491743529, `229` = -0.999125491743529, \n . `230` = -0.999125491743529, `231` = -0.999125491743529, `232` = -0.999125491743529, \n . `234` = -0.999125491743529, `235` = -0.999125491743529, `236` = -0.999125491743529, \n . `238` = -0.999125491743529, `240` = -0.999125491743529, `242` = -0.999125491743529, \n . `243` = -0.999125491743529, `244` = -0.999125491743529, `245` = -0.999125491743529, \n . `248` = -0.999125491743529, `249` = -0.999125491743529, `250` = -0.999125491743529, \n . `251` = -0.999125491743529, `252` = -0.999125491743529, `253` = -0.999125491743529, \n . `254` = -0.999125491743529, `255` = -0.999125491743529, `256` = -0.999125491743529, \n . `257` = -0.999125491743529, `259` = -0.999125491743529, `260` = -0.999125491743529, \n . `261` = -0.999125491743529, `262` = -0.999125491743529, `263` = -0.999125491743529, \n . `264` = -0.999125491743529, `265` = -0.999125491743529, `266` = -0.999125491743529, \n . `267` = -0.999125491743529, `268` = -0.999125491743529, `269` = -0.999125491743529, \n . `270` = -0.999125491743529, `272` = -0.999125491743529, `273` = -0.999125491743529, \n . `274` = -0.999125491743529, `275` = -0.999125491743529, `276` = -0.999125491743529, \n . `277` = -0.999125491743529, `278` = -0.999125491743529, `279` = -0.999125491743529, \n . `280` = -0.999125491743529, `281` = -0.999125491743529, `282` = -0.999125491743529, \n . `283` = -0.999125491743529, `284` = -0.999125491743529, `286` = -0.999125491743529, \n . `287` = -0.999125491743529, `289` = -0.999125491743529, `290` = -0.999125491743529, \n . `292` = -0.999125491743529, `293` = -0.999125491743529, `294` = -0.999125491743529, \n . `295` = -0.999125491743529, `296` = -0.999125491743529, `298` = -0.999125491743529, \n . `299` = -0.999125491743529, `300` = -0.999125491743529, `301` = -0.999125491743529, \n . `303` = -0.999125491743529, `305` = -0.999125491743529, `306` = -0.999125491743529, \n . `307` = -0.999125491743529, `308` = -0.999125491743529, `309` = -0.999125491743529, \n . `310` = -0.999125491743529, `313` = -0.999125491743529, `316` = -0.999125491743529, \n . `317` = -0.999125491743529, `319` = -0.999125491743529, `320` = -0.999125491743529, \n . `321` = -0.999125491743529, `323` = -0.999125491743529, `324` = -0.999125491743529, \n . `325` = -0.999125491743529, `326` = -0.999125491743529, `327` = -0.999125491743529, \n . `328` = -0.999125491743529, `329` = -0.999125491743529, `331` = -0.999125491743529, \n . `332` = -0.999125491743529, `333` = -0.999125491743529, `334` = -0.999125491743529, \n . `336` = -0.999125491743529, `338` = -0.999125491743529, `339` = -0.999125491743529, \n . `340` = -0.999125491743529, `341` = -0.999125491743529, `342` = -0.999125491743529, \n . `343` = -0.999125491743529, `346` = -0.999125491743529, `347` = -0.999125491743529, \n . `348` = -0.999125491743529, `349` = -0.999125491743529, `351` = -0.999125491743529, \n . `352` = -0.999125491743529, `354` = -0.999125491743529, `355` = -0.999125491743529, \n . `356` = -0.999125491743529, `357` = -0.999125491743529, `358` = 0.999125491743529, \n . `359` = 0.999125491743529, `361` = 0.999125491743529, `362` = 0.999125491743529, \n . `363` = 0.999125491743529, `364` = 0.999125491743529, `365` = 0.999125491743529, \n . `366` = 0.999125491743529, `367` = 0.999125491743529, `368` = 0.999125491743529, \n . `369` = 0.999125491743529, `371` = 0.999125491743529, `372` = 0.999125491743529, \n . `373` = 0.999125491743529, `374` = 0.999125491743529, `375` = 0.999125491743529, \n . `376` = 0.999125491743529, `377` = 0.999125491743529, `378` = 0.999125491743529, \n . `380` = 0.999125491743529, `381` = 0.999125491743529, `382` = 0.999125491743529, \n . `383` = 0.999125491743529, `385` = 0.999125491743529, `386` = 0.999125491743529, \n . `388` = 0.999125491743529, `389` = 0.999125491743529, `390` = 0.999125491743529, \n . `392` = 0.999125491743529, `393` = 0.999125491743529, `394` = 0.999125491743529, \n . `395` = 0.999125491743529, `396` = 0.999125491743529, `398` = 0.999125491743529, \n . `402` = 0.999125491743529, `403` = 0.999125491743529, `404` = 0.999125491743529, \n . `405` = 0.999125491743529, `406` = 0.999125491743529, `407` = 0.999125491743529, \n . `409` = 0.999125491743529, `410` = 0.999125491743529, `411` = 0.999125491743529, \n . `412` = 0.999125491743529, `414` = 0.999125491743529, `416` = 0.999125491743529, \n . `417` = 0.999125491743529, `418` = 0.999125491743529, `420` = 0.999125491743529, \n . `421` = 0.999125491743529, `422` = 0.999125491743529, `423` = 0.999125491743529, \n . `424` = 0.999125491743529, `425` = 0.999125491743529, `426` = 0.999125491743529, \n . `427` = 0.999125491743529, `428` = 0.999125491743529, `429` = 0.999125491743529, \n . `430` = 0.999125491743529, `431` = 0.999125491743529, `432` = 0.999125491743529, \n . `433` = 0.999125491743529, `435` = 0.999125491743529, `436` = 0.999125491743529, \n . `437` = 0.999125491743529, `438` = 0.999125491743529, `440` = 0.999125491743529, \n . `441` = 0.999125491743529, `442` = 0.999125491743529, `443` = 0.999125491743529, \n . `444` = 0.999125491743529, `445` = 0.999125491743529, `447` = 0.999125491743529, \n . `448` = 0.999125491743529, `449` = 0.999125491743529, `451` = 0.999125491743529, \n . `452` = 0.999125491743529, `453` = 0.999125491743529, `454` = 0.999125491743529, \n . `456` = 0.999125491743529, `457` = 0.999125491743529, `458` = 0.999125491743529, \n . `459` = 0.999125491743529, `460` = 0.999125491743529, `462` = 0.999125491743529, \n . `463` = 0.999125491743529, `464` = 0.999125491743529, `465` = 0.999125491743529, \n . `466` = 0.999125491743529, `467` = 0.999125491743529, `468` = 0.999125491743529, \n . `469` = 0.999125491743529, `470` = 0.999125491743529, `471` = 0.999125491743529, \n . `472` = 0.999125491743529, `474` = 0.999125491743529, `475` = 0.999125491743529, \n . `476` = 0.999125491743529, `477` = 0.999125491743529, `478` = 0.999125491743529, \n . `479` = 0.999125491743529, `480` = 0.999125491743529, `481` = 0.999125491743529, \n . `482` = 0.999125491743529, `483` = 0.999125491743529, `484` = 0.999125491743529, \n . `485` = 0.999125491743529, `486` = 0.999125491743529, `487` = 0.999125491743529, \n . `488` = 0.999125491743529, `489` = 0.999125491743529, `491` = 0.999125491743529, \n . `492` = 0.999125491743529, `493` = 0.999125491743529, `494` = 0.999125491743529, \n . `495` = 0.999125491743529, `496` = 0.999125491743529, `497` = 0.999125491743529, \n . `498` = 0.999125491743529, `499` = 0.999125491743529, `500` = 0.999125491743529, \n . `501` = 0.999125491743529, `502` = 0.999125491743529, `503` = 0.999125491743529, \n . `504` = 0.999125491743529, `505` = 0.999125491743529, `507` = 0.999125491743529, \n . `508` = 0.999125491743529, `510` = 0.999125491743529, `511` = 0.999125491743529, \n . `512` = 0.999125491743529, `513` = 0.999125491743529, `514` = 0.999125491743529, \n . `515` = 0.999125491743529, `516` = 0.999125491743529, `517` = 0.999125491743529, \n . `518` = 0.999125491743529, `519` = 0.999125491743529, `520` = 0.999125491743529, \n . `522` = 0.999125491743529, `523` = 0.999125491743529, `524` = 0.999125491743529, \n . `525` = 0.999125491743529, `526` = 0.999125491743529, `527` = 0.999125491743529, \n . `530` = 0.999125491743529, `531` = 0.999125491743529, `532` = 0.999125491743529, \n . `533` = 0.999125491743529, `534` = 0.999125491743529, `535` = 0.999125491743529, \n . `536` = 0.999125491743529, `537` = 0.999125491743529, `539` = 0.999125491743529, \n . `540` = 0.999125491743529, `541` = 0.999125491743529, `542` = 0.999125491743529, \n . `543` = 0.999125491743529, `545` = 0.999125491743529, `546` = 0.999125491743529, \n . `547` = 0.999125491743529, `548` = 0.999125491743529, `550` = 0.999125491743529, \n . `551` = 0.999125491743529, `552` = 0.999125491743529, `554` = 0.999125491743529, \n . `555` = 0.999125491743529, `556` = 0.999125491743529, `557` = 0.999125491743529, \n . `558` = 0.999125491743529, `559` = 0.999125491743529, `560` = 0.999125491743529, \n . `561` = 0.999125491743529, `562` = 0.999125491743529, `563` = 0.999125491743529, \n . `564` = 0.999125491743529, `565` = 0.999125491743529, `566` = 0.999125491743529, \n . `568` = 0.999125491743529, `570` = 0.999125491743529, `571` = 0.999125491743529, \n . `573` = 0.999125491743529, `574` = 0.999125491743529, `575` = 0.999125491743529, \n . `576` = 0.999125491743529, `577` = 0.999125491743529, `579` = 0.999125491743529, \n . `580` = 0.999125491743529, `581` = 0.999125491743529, `583` = 0.999125491743529, \n . `584` = 0.999125491743529, `587` = 0.999125491743529, `588` = 0.999125491743529, \n . `589` = 0.999125491743529, `590` = 0.999125491743529, `593` = 0.999125491743529, \n . `594` = 0.999125491743529, `595` = 0.999125491743529, `596` = 0.999125491743529, \n . `597` = 0.999125491743529, `598` = 0.999125491743529, `600` = 0.999125491743529, \n . `601` = 0.999125491743529, `602` = 0.999125491743529, `603` = 0.999125491743529, \n . `604` = 0.999125491743529, `605` = 0.999125491743529, `606` = 0.999125491743529, \n . `608` = 0.999125491743529, `609` = 0.999125491743529, `610` = 0.999125491743529, \n . `611` = 0.999125491743529, `615` = 0.999125491743529, `616` = 0.999125491743529, \n . `617` = 0.999125491743529, `618` = 0.999125491743529, `619` = 0.999125491743529, \n . `620` = 0.999125491743529, `624` = 0.999125491743529, `625` = 0.999125491743529, \n . `626` = 0.999125491743529, `627` = 0.999125491743529, `629` = 0.999125491743529, \n . `630` = 0.999125491743529, `631` = 0.999125491743529, `632` = 0.999125491743529, \n . `633` = 0.999125491743529, `634` = 0.999125491743529, `635` = 0.999125491743529, \n . `636` = 0.999125491743529, `637` = 0.999125491743529, `638` = 0.999125491743529, \n . `639` = 0.999125491743529, `641` = 0.999125491743529, `642` = 0.999125491743529, \n . `643` = 0.999125491743529, `644` = 0.999125491743529, `645` = 0.999125491743529, \n . `646` = 0.999125491743529, `647` = 0.999125491743529, `649` = 0.999125491743529, \n . `650` = 0.999125491743529, `652` = 0.999125491743529, `654` = 0.999125491743529, \n . `657` = 0.999125491743529, `658` = 0.999125491743529, `661` = 0.999125491743529, \n . `662` = 0.999125491743529, `664` = 0.999125491743529, `665` = 0.999125491743529, \n . `666` = 0.999125491743529, `667` = 0.999125491743529, `669` = 0.999125491743529, \n . `671` = 0.999125491743529, `672` = 0.999125491743529, `673` = 0.999125491743529, \n . `674` = 0.999125491743529, `675` = 0.999125491743529, `676` = 0.999125491743529, \n . `677` = 0.999125491743529, `678` = 0.999125491743529, `679` = 0.999125491743529, \n . `680` = 0.999125491743529, `682` = 0.999125491743529, `684` = 0.999125491743529, \n . `686` = 0.999125491743529, `687` = 0.999125491743529, `689` = 0.999125491743529, \n . `690` = 0.999125491743529, `692` = 0.999125491743529, `693` = 0.999125491743529, \n . `694` = 0.999125491743529, `695` = 0.999125491743529, `697` = 0.999125491743529, \n . `701` = 0.999125491743529, `702` = 0.999125491743529, `703` = 0.999125491743529, \n . `704` = 0.999125491743529, `705` = 0.999125491743529, `706` = 0.999125491743529, \n . `709` = 0.999125491743529, `710` = 0.999125491743529, `711` = 0.999125491743529, \n . `712` = 0.999125491743529, `713` = 0.999125491743529, `714` = 0.999125491743529\n . ), weights = NULL, start = NULL, etastart = NULL, mustart = NULL, \n .     offset = NULL, family = structure(list(family = \"binomial\", \n .         link = \"logit\", linkfun = function (mu) \n .         .Call(C_logit_link, mu), linkinv = function (eta) \n .         .Call(C_logit_linkinv, eta), variance = function (mu) \n .         mu * (1 - mu), dev.resids = function (y, mu, wt) \n .         .Call(C_binomial_dev_resids, y, mu, wt), aic = function (y, \n .             n, mu, wt, dev) \n .         {\n .             m <- if (any(n > 1)) \n .                 n\n .             else wt\n .             -2 * sum(ifelse(m > 0, (wt/m), 0) * dbinom(round(m * \n .                 y), round(m), mu, log = TRUE))\n .         }, mu.eta = function (eta) \n .         .Call(C_logit_mu_eta, eta), initialize = expression({\n .             if (NCOL(y) == 1) {\n .                 if (is.factor(y)) \n .                   y <- y != levels(y)[1L]\n .                 n <- rep.int(1, nobs)\n .                 y[weights == 0] <- 0\n .                 if (any(y < 0 | y > 1)) \n .                   stop(\"y values must be 0 <= y <= 1\")\n .                 mustart <- (weights * y + 0.5)/(weights + 1)\n .                 m <- weights * y\n .                 if (any(abs(m - round(m)) > 0.001)) \n .                   warning(\"non-integer #successes in a binomial glm!\")\n .             }\n .             else if (NCOL(y) == 2) {\n .                 if (any(abs(y - round(y)) > 0.001)) \n .                   warning(\"non-integer counts in a binomial glm!\")\n .                 n <- y[, 1] + y[, 2]\n .                 y <- ifelse(n == 0, 0, y[, 1]/n)\n .                 weights <- weights * n\n .                 mustart <- (n * y + 0.5)/(n + 1)\n .             }\n .             else stop(\"for the 'binomial' family, y must be a vector of 0 and 1's\\nor a 2 column matrix where col 1 is no. successes and col 2 is no. failures\")\n .         }), validmu = function (mu) \n .         all(is.finite(mu)) && all(mu > 0 & mu < 1), valideta = function (eta) \n .         TRUE, simulate = function (object, nsim) \n .         {\n .             ftd <- fitted(object)\n .             n <- length(ftd)\n .             ntot <- n * nsim\n .             wts <- object$prior.weights\n .             if (any(wts%%1 != 0)) \n .                 stop(\"cannot simulate from non-integer prior.weights\")\n .             if (!is.null(m <- object$model)) {\n .                 y <- model.response(m)\n .                 if (is.factor(y)) {\n .                   yy <- factor(1 + rbinom(ntot, size = 1, prob = ftd), \n .                     labels = levels(y))\n .                   split(yy, rep(seq_len(nsim), each = n))\n .                 }\n .                 else if (is.matrix(y) && ncol(y) == 2) {\n .                   yy <- vector(\"list\", nsim)\n .                   for (i in seq_len(nsim)) {\n .                     Y <- rbinom(n, size = wts, prob = ftd)\n .                     YY <- cbind(Y, wts - Y)\n .                     colnames(YY) <- colnames(y)\n .                     yy[[i]] <- YY\n .                   }\n .                   yy\n .                 }\n .                 else rbinom(ntot, size = wts, prob = ftd)/wts\n .             }\n .             else rbinom(ntot, size = wts, prob = ftd)/wts\n .         }), class = \"family\"), control = list(epsilon = 1e-08, \n .         maxit = 25, trace = FALSE), intercept = TRUE, singular.ok = TRUE)",
      "5. eval(family$initialize)",
      "6. eval(family$initialize)",
      "7. stop(\"y values must be 0 <= y <= 1\")"
     ]
    }
   ],
   "source": [
    "#로지스틱 회귀분석 모형으로 변수 선택\n",
    "model<-glm(class~ . , data=train, family=binomial)\n",
    "summary(model)"
   ]
  },
  {
   "cell_type": "code",
   "execution_count": 17,
   "metadata": {},
   "outputs": [
    {
     "name": "stdout",
     "output_type": "stream",
     "text": [
      "Start:  AIC=64\n",
      "class ~ diagnosis + radius_mean + texture_mean + perimeter_mean + \n",
      "    area_mean + smoothness_mean + compactness_mean + concavity_mean + \n",
      "    concave.points_mean + symmetry_mean + fractal_dimension_mean + \n",
      "    radius_se + texture_se + perimeter_se + area_se + smoothness_se + \n",
      "    compactness_se + concavity_se + concave.points_se + symmetry_se + \n",
      "    fractal_dimension_se + radius_worst + texture_worst + perimeter_worst + \n",
      "    area_worst + smoothness_worst + compactness_worst + concavity_worst + \n",
      "    concave.points_worst + symmetry_worst + fractal_dimension_worst\n",
      "\n"
     ]
    },
    {
     "name": "stderr",
     "output_type": "stream",
     "text": [
      "Warning message:\n",
      "\"glm.fit: algorithm did not converge\"Warning message:\n",
      "\"glm.fit: fitted probabilities numerically 0 or 1 occurred\"Warning message:\n",
      "\"glm.fit: algorithm did not converge\"Warning message:\n",
      "\"glm.fit: algorithm did not converge\"Warning message:\n",
      "\"glm.fit: algorithm did not converge\"Warning message:\n",
      "\"glm.fit: algorithm did not converge\"Warning message:\n",
      "\"glm.fit: algorithm did not converge\"Warning message:\n",
      "\"glm.fit: algorithm did not converge\"Warning message:\n",
      "\"glm.fit: algorithm did not converge\"Warning message:\n",
      "\"glm.fit: algorithm did not converge\"Warning message:\n",
      "\"glm.fit: algorithm did not converge\"Warning message:\n",
      "\"glm.fit: algorithm did not converge\"Warning message:\n",
      "\"glm.fit: algorithm did not converge\"Warning message:\n",
      "\"glm.fit: algorithm did not converge\"Warning message:\n",
      "\"glm.fit: algorithm did not converge\"Warning message:\n",
      "\"glm.fit: algorithm did not converge\"Warning message:\n",
      "\"glm.fit: algorithm did not converge\"Warning message:\n",
      "\"glm.fit: algorithm did not converge\"Warning message:\n",
      "\"glm.fit: algorithm did not converge\"Warning message:\n",
      "\"glm.fit: algorithm did not converge\"Warning message:\n",
      "\"glm.fit: algorithm did not converge\"Warning message:\n",
      "\"glm.fit: algorithm did not converge\"Warning message:\n",
      "\"glm.fit: algorithm did not converge\"Warning message:\n",
      "\"glm.fit: algorithm did not converge\"Warning message:\n",
      "\"glm.fit: algorithm did not converge\"Warning message:\n",
      "\"glm.fit: algorithm did not converge\"Warning message:\n",
      "\"glm.fit: algorithm did not converge\"Warning message:\n",
      "\"glm.fit: algorithm did not converge\"Warning message:\n",
      "\"glm.fit: algorithm did not converge\"Warning message:\n",
      "\"glm.fit: algorithm did not converge\"Warning message:\n",
      "\"glm.fit: algorithm did not converge\"Warning message:\n",
      "\"glm.fit: algorithm did not converge\""
     ]
    },
    {
     "name": "stdout",
     "output_type": "stream",
     "text": [
      "                          Df   Deviance AIC\n",
      "- radius_mean              1 3.3200e-09  62\n",
      "- texture_mean             1 3.3200e-09  62\n",
      "- perimeter_mean           1 3.3200e-09  62\n",
      "- area_mean                1 3.3200e-09  62\n",
      "- smoothness_mean          1 3.3200e-09  62\n",
      "- compactness_mean         1 3.3200e-09  62\n",
      "- concavity_mean           1 3.3200e-09  62\n",
      "- concave.points_mean      1 3.3200e-09  62\n",
      "- symmetry_mean            1 3.3200e-09  62\n",
      "- fractal_dimension_mean   1 3.3200e-09  62\n",
      "- radius_se                1 3.3200e-09  62\n",
      "- texture_se               1 3.3200e-09  62\n",
      "- perimeter_se             1 3.3200e-09  62\n",
      "- area_se                  1 3.3200e-09  62\n",
      "- smoothness_se            1 3.3200e-09  62\n",
      "- compactness_se           1 3.3200e-09  62\n",
      "- concavity_se             1 3.3200e-09  62\n",
      "- concave.points_se        1 3.3200e-09  62\n",
      "- symmetry_se              1 3.3200e-09  62\n",
      "- fractal_dimension_se     1 3.3200e-09  62\n",
      "- radius_worst             1 3.3200e-09  62\n",
      "- texture_worst            1 3.3200e-09  62\n",
      "- perimeter_worst          1 3.3200e-09  62\n",
      "- area_worst               1 3.3200e-09  62\n",
      "- smoothness_worst         1 3.3200e-09  62\n",
      "- compactness_worst        1 3.3200e-09  62\n",
      "- concavity_worst          1 3.3200e-09  62\n",
      "- concave.points_worst     1 3.3200e-09  62\n",
      "- symmetry_worst           1 3.3200e-09  62\n",
      "- fractal_dimension_worst  1 3.3200e-09  62\n",
      "- diagnosis                1 1.9769e-06  62\n",
      "<none>                       3.3200e-09  64\n"
     ]
    },
    {
     "name": "stderr",
     "output_type": "stream",
     "text": [
      "Warning message:\n",
      "\"glm.fit: algorithm did not converge\""
     ]
    },
    {
     "name": "stdout",
     "output_type": "stream",
     "text": [
      "\n",
      "Step:  AIC=62\n",
      "class ~ diagnosis + texture_mean + perimeter_mean + area_mean + \n",
      "    smoothness_mean + compactness_mean + concavity_mean + concave.points_mean + \n",
      "    symmetry_mean + fractal_dimension_mean + radius_se + texture_se + \n",
      "    perimeter_se + area_se + smoothness_se + compactness_se + \n",
      "    concavity_se + concave.points_se + symmetry_se + fractal_dimension_se + \n",
      "    radius_worst + texture_worst + perimeter_worst + area_worst + \n",
      "    smoothness_worst + compactness_worst + concavity_worst + \n",
      "    concave.points_worst + symmetry_worst + fractal_dimension_worst\n",
      "\n"
     ]
    },
    {
     "name": "stderr",
     "output_type": "stream",
     "text": [
      "Warning message:\n",
      "\"glm.fit: algorithm did not converge\"Warning message:\n",
      "\"glm.fit: fitted probabilities numerically 0 or 1 occurred\"Warning message:\n",
      "\"glm.fit: algorithm did not converge\"Warning message:\n",
      "\"glm.fit: algorithm did not converge\"Warning message:\n",
      "\"glm.fit: algorithm did not converge\"Warning message:\n",
      "\"glm.fit: algorithm did not converge\"Warning message:\n",
      "\"glm.fit: algorithm did not converge\"Warning message:\n",
      "\"glm.fit: algorithm did not converge\"Warning message:\n",
      "\"glm.fit: algorithm did not converge\"Warning message:\n",
      "\"glm.fit: algorithm did not converge\"Warning message:\n",
      "\"glm.fit: algorithm did not converge\"Warning message:\n",
      "\"glm.fit: algorithm did not converge\"Warning message:\n",
      "\"glm.fit: algorithm did not converge\"Warning message:\n",
      "\"glm.fit: algorithm did not converge\"Warning message:\n",
      "\"glm.fit: algorithm did not converge\"Warning message:\n",
      "\"glm.fit: algorithm did not converge\"Warning message:\n",
      "\"glm.fit: algorithm did not converge\"Warning message:\n",
      "\"glm.fit: algorithm did not converge\"Warning message:\n",
      "\"glm.fit: algorithm did not converge\"Warning message:\n",
      "\"glm.fit: algorithm did not converge\"Warning message:\n",
      "\"glm.fit: algorithm did not converge\"Warning message:\n",
      "\"glm.fit: algorithm did not converge\"Warning message:\n",
      "\"glm.fit: algorithm did not converge\"Warning message:\n",
      "\"glm.fit: algorithm did not converge\"Warning message:\n",
      "\"glm.fit: algorithm did not converge\"Warning message:\n",
      "\"glm.fit: algorithm did not converge\"Warning message:\n",
      "\"glm.fit: algorithm did not converge\"Warning message:\n",
      "\"glm.fit: algorithm did not converge\"Warning message:\n",
      "\"glm.fit: algorithm did not converge\"Warning message:\n",
      "\"glm.fit: algorithm did not converge\"Warning message:\n",
      "\"glm.fit: algorithm did not converge\""
     ]
    },
    {
     "name": "stdout",
     "output_type": "stream",
     "text": [
      "                          Df   Deviance AIC\n",
      "- texture_mean             1 3.3200e-09  60\n",
      "- perimeter_mean           1 3.3200e-09  60\n",
      "- area_mean                1 3.3200e-09  60\n",
      "- smoothness_mean          1 3.3200e-09  60\n",
      "- compactness_mean         1 3.3200e-09  60\n",
      "- concavity_mean           1 3.3200e-09  60\n",
      "- concave.points_mean      1 3.3200e-09  60\n",
      "- symmetry_mean            1 3.3200e-09  60\n",
      "- fractal_dimension_mean   1 3.3200e-09  60\n",
      "- radius_se                1 3.3200e-09  60\n",
      "- texture_se               1 3.3200e-09  60\n",
      "- perimeter_se             1 3.3200e-09  60\n",
      "- area_se                  1 3.3200e-09  60\n",
      "- smoothness_se            1 3.3200e-09  60\n",
      "- compactness_se           1 3.3200e-09  60\n",
      "- concavity_se             1 3.3200e-09  60\n",
      "- concave.points_se        1 3.3200e-09  60\n",
      "- symmetry_se              1 3.3200e-09  60\n",
      "- fractal_dimension_se     1 3.3200e-09  60\n",
      "- radius_worst             1 3.3200e-09  60\n",
      "- texture_worst            1 3.3200e-09  60\n",
      "- perimeter_worst          1 3.3200e-09  60\n",
      "- area_worst               1 3.3200e-09  60\n",
      "- smoothness_worst         1 3.3200e-09  60\n",
      "- compactness_worst        1 3.3200e-09  60\n",
      "- concavity_worst          1 3.3200e-09  60\n",
      "- concave.points_worst     1 3.3200e-09  60\n",
      "- symmetry_worst           1 3.3200e-09  60\n",
      "- fractal_dimension_worst  1 3.3200e-09  60\n",
      "- diagnosis                1 1.9534e-06  60\n",
      "<none>                       3.3200e-09  62\n"
     ]
    },
    {
     "name": "stderr",
     "output_type": "stream",
     "text": [
      "Warning message:\n",
      "\"glm.fit: algorithm did not converge\""
     ]
    },
    {
     "name": "stdout",
     "output_type": "stream",
     "text": [
      "\n",
      "Step:  AIC=60\n",
      "class ~ diagnosis + perimeter_mean + area_mean + smoothness_mean + \n",
      "    compactness_mean + concavity_mean + concave.points_mean + \n",
      "    symmetry_mean + fractal_dimension_mean + radius_se + texture_se + \n",
      "    perimeter_se + area_se + smoothness_se + compactness_se + \n",
      "    concavity_se + concave.points_se + symmetry_se + fractal_dimension_se + \n",
      "    radius_worst + texture_worst + perimeter_worst + area_worst + \n",
      "    smoothness_worst + compactness_worst + concavity_worst + \n",
      "    concave.points_worst + symmetry_worst + fractal_dimension_worst\n",
      "\n"
     ]
    },
    {
     "name": "stderr",
     "output_type": "stream",
     "text": [
      "Warning message:\n",
      "\"glm.fit: algorithm did not converge\"Warning message:\n",
      "\"glm.fit: fitted probabilities numerically 0 or 1 occurred\"Warning message:\n",
      "\"glm.fit: algorithm did not converge\"Warning message:\n",
      "\"glm.fit: algorithm did not converge\"Warning message:\n",
      "\"glm.fit: algorithm did not converge\"Warning message:\n",
      "\"glm.fit: algorithm did not converge\"Warning message:\n",
      "\"glm.fit: algorithm did not converge\"Warning message:\n",
      "\"glm.fit: algorithm did not converge\"Warning message:\n",
      "\"glm.fit: algorithm did not converge\"Warning message:\n",
      "\"glm.fit: algorithm did not converge\"Warning message:\n",
      "\"glm.fit: algorithm did not converge\"Warning message:\n",
      "\"glm.fit: algorithm did not converge\"Warning message:\n",
      "\"glm.fit: algorithm did not converge\"Warning message:\n",
      "\"glm.fit: algorithm did not converge\"Warning message:\n",
      "\"glm.fit: algorithm did not converge\"Warning message:\n",
      "\"glm.fit: algorithm did not converge\"Warning message:\n",
      "\"glm.fit: algorithm did not converge\"Warning message:\n",
      "\"glm.fit: algorithm did not converge\"Warning message:\n",
      "\"glm.fit: algorithm did not converge\"Warning message:\n",
      "\"glm.fit: algorithm did not converge\"Warning message:\n",
      "\"glm.fit: algorithm did not converge\"Warning message:\n",
      "\"glm.fit: algorithm did not converge\"Warning message:\n",
      "\"glm.fit: algorithm did not converge\"Warning message:\n",
      "\"glm.fit: algorithm did not converge\"Warning message:\n",
      "\"glm.fit: algorithm did not converge\"Warning message:\n",
      "\"glm.fit: algorithm did not converge\"Warning message:\n",
      "\"glm.fit: algorithm did not converge\"Warning message:\n",
      "\"glm.fit: algorithm did not converge\"Warning message:\n",
      "\"glm.fit: algorithm did not converge\"Warning message:\n",
      "\"glm.fit: algorithm did not converge\""
     ]
    },
    {
     "name": "stdout",
     "output_type": "stream",
     "text": [
      "                          Df   Deviance AIC\n",
      "- perimeter_mean           1 3.3000e-09  58\n",
      "- area_mean                1 3.3000e-09  58\n",
      "- smoothness_mean          1 3.3000e-09  58\n",
      "- compactness_mean         1 3.3000e-09  58\n",
      "- concavity_mean           1 3.3000e-09  58\n",
      "- concave.points_mean      1 3.3000e-09  58\n",
      "- symmetry_mean            1 3.3000e-09  58\n",
      "- fractal_dimension_mean   1 3.3000e-09  58\n",
      "- radius_se                1 3.3000e-09  58\n",
      "- texture_se               1 3.3000e-09  58\n",
      "- perimeter_se             1 3.3000e-09  58\n",
      "- area_se                  1 3.3000e-09  58\n",
      "- smoothness_se            1 3.3000e-09  58\n",
      "- compactness_se           1 3.3000e-09  58\n",
      "- concavity_se             1 3.3000e-09  58\n",
      "- concave.points_se        1 3.3000e-09  58\n",
      "- symmetry_se              1 3.3000e-09  58\n",
      "- fractal_dimension_se     1 3.3000e-09  58\n",
      "- radius_worst             1 3.3000e-09  58\n",
      "- texture_worst            1 3.3000e-09  58\n",
      "- perimeter_worst          1 3.3000e-09  58\n",
      "- area_worst               1 3.3000e-09  58\n",
      "- smoothness_worst         1 3.3000e-09  58\n",
      "- compactness_worst        1 3.3000e-09  58\n",
      "- concavity_worst          1 3.3000e-09  58\n",
      "- concave.points_worst     1 3.3000e-09  58\n",
      "- symmetry_worst           1 3.3000e-09  58\n",
      "- fractal_dimension_worst  1 3.3000e-09  58\n",
      "- diagnosis                1 3.6317e-06  58\n",
      "<none>                       3.3000e-09  60\n"
     ]
    },
    {
     "name": "stderr",
     "output_type": "stream",
     "text": [
      "Warning message:\n",
      "\"glm.fit: algorithm did not converge\""
     ]
    },
    {
     "name": "stdout",
     "output_type": "stream",
     "text": [
      "\n",
      "Step:  AIC=58\n",
      "class ~ diagnosis + area_mean + smoothness_mean + compactness_mean + \n",
      "    concavity_mean + concave.points_mean + symmetry_mean + fractal_dimension_mean + \n",
      "    radius_se + texture_se + perimeter_se + area_se + smoothness_se + \n",
      "    compactness_se + concavity_se + concave.points_se + symmetry_se + \n",
      "    fractal_dimension_se + radius_worst + texture_worst + perimeter_worst + \n",
      "    area_worst + smoothness_worst + compactness_worst + concavity_worst + \n",
      "    concave.points_worst + symmetry_worst + fractal_dimension_worst\n",
      "\n"
     ]
    },
    {
     "name": "stderr",
     "output_type": "stream",
     "text": [
      "Warning message:\n",
      "\"glm.fit: algorithm did not converge\"Warning message:\n",
      "\"glm.fit: fitted probabilities numerically 0 or 1 occurred\"Warning message:\n",
      "\"glm.fit: algorithm did not converge\"Warning message:\n",
      "\"glm.fit: algorithm did not converge\"Warning message:\n",
      "\"glm.fit: algorithm did not converge\"Warning message:\n",
      "\"glm.fit: algorithm did not converge\"Warning message:\n",
      "\"glm.fit: algorithm did not converge\"Warning message:\n",
      "\"glm.fit: algorithm did not converge\"Warning message:\n",
      "\"glm.fit: algorithm did not converge\"Warning message:\n",
      "\"glm.fit: algorithm did not converge\"Warning message:\n",
      "\"glm.fit: algorithm did not converge\"Warning message:\n",
      "\"glm.fit: algorithm did not converge\"Warning message:\n",
      "\"glm.fit: algorithm did not converge\"Warning message:\n",
      "\"glm.fit: algorithm did not converge\"Warning message:\n",
      "\"glm.fit: algorithm did not converge\"Warning message:\n",
      "\"glm.fit: algorithm did not converge\"Warning message:\n",
      "\"glm.fit: algorithm did not converge\"Warning message:\n",
      "\"glm.fit: algorithm did not converge\"Warning message:\n",
      "\"glm.fit: algorithm did not converge\"Warning message:\n",
      "\"glm.fit: algorithm did not converge\"Warning message:\n",
      "\"glm.fit: algorithm did not converge\"Warning message:\n",
      "\"glm.fit: algorithm did not converge\"Warning message:\n",
      "\"glm.fit: algorithm did not converge\"Warning message:\n",
      "\"glm.fit: algorithm did not converge\"Warning message:\n",
      "\"glm.fit: algorithm did not converge\"Warning message:\n",
      "\"glm.fit: algorithm did not converge\"Warning message:\n",
      "\"glm.fit: algorithm did not converge\"Warning message:\n",
      "\"glm.fit: algorithm did not converge\"Warning message:\n",
      "\"glm.fit: algorithm did not converge\""
     ]
    },
    {
     "name": "stdout",
     "output_type": "stream",
     "text": [
      "                          Df   Deviance AIC\n",
      "- area_mean                1 3.3000e-09  56\n",
      "- smoothness_mean          1 3.3000e-09  56\n",
      "- compactness_mean         1 3.3000e-09  56\n",
      "- concavity_mean           1 3.3000e-09  56\n",
      "- concave.points_mean      1 3.3000e-09  56\n",
      "- symmetry_mean            1 3.3000e-09  56\n",
      "- fractal_dimension_mean   1 3.3000e-09  56\n",
      "- radius_se                1 3.3000e-09  56\n",
      "- texture_se               1 3.3000e-09  56\n",
      "- perimeter_se             1 3.3000e-09  56\n",
      "- area_se                  1 3.3000e-09  56\n",
      "- smoothness_se            1 3.3000e-09  56\n",
      "- compactness_se           1 3.3000e-09  56\n",
      "- concavity_se             1 3.3000e-09  56\n",
      "- concave.points_se        1 3.3000e-09  56\n",
      "- symmetry_se              1 3.3000e-09  56\n",
      "- fractal_dimension_se     1 3.3000e-09  56\n",
      "- radius_worst             1 3.3000e-09  56\n",
      "- texture_worst            1 3.3000e-09  56\n",
      "- perimeter_worst          1 3.3000e-09  56\n",
      "- area_worst               1 3.3000e-09  56\n",
      "- smoothness_worst         1 3.3000e-09  56\n",
      "- compactness_worst        1 3.3000e-09  56\n",
      "- concavity_worst          1 3.3000e-09  56\n",
      "- concave.points_worst     1 3.3000e-09  56\n",
      "- symmetry_worst           1 3.3000e-09  56\n",
      "- fractal_dimension_worst  1 3.3000e-09  56\n",
      "- diagnosis                1 4.3721e-06  56\n",
      "<none>                       3.3000e-09  58\n"
     ]
    },
    {
     "name": "stderr",
     "output_type": "stream",
     "text": [
      "Warning message:\n",
      "\"glm.fit: algorithm did not converge\""
     ]
    },
    {
     "name": "stdout",
     "output_type": "stream",
     "text": [
      "\n",
      "Step:  AIC=56\n",
      "class ~ diagnosis + smoothness_mean + compactness_mean + concavity_mean + \n",
      "    concave.points_mean + symmetry_mean + fractal_dimension_mean + \n",
      "    radius_se + texture_se + perimeter_se + area_se + smoothness_se + \n",
      "    compactness_se + concavity_se + concave.points_se + symmetry_se + \n",
      "    fractal_dimension_se + radius_worst + texture_worst + perimeter_worst + \n",
      "    area_worst + smoothness_worst + compactness_worst + concavity_worst + \n",
      "    concave.points_worst + symmetry_worst + fractal_dimension_worst\n",
      "\n"
     ]
    },
    {
     "name": "stderr",
     "output_type": "stream",
     "text": [
      "Warning message:\n",
      "\"glm.fit: algorithm did not converge\"Warning message:\n",
      "\"glm.fit: fitted probabilities numerically 0 or 1 occurred\"Warning message:\n",
      "\"glm.fit: algorithm did not converge\"Warning message:\n",
      "\"glm.fit: algorithm did not converge\"Warning message:\n",
      "\"glm.fit: algorithm did not converge\"Warning message:\n",
      "\"glm.fit: algorithm did not converge\"Warning message:\n",
      "\"glm.fit: algorithm did not converge\"Warning message:\n",
      "\"glm.fit: algorithm did not converge\"Warning message:\n",
      "\"glm.fit: algorithm did not converge\"Warning message:\n",
      "\"glm.fit: algorithm did not converge\"Warning message:\n",
      "\"glm.fit: algorithm did not converge\"Warning message:\n",
      "\"glm.fit: algorithm did not converge\"Warning message:\n",
      "\"glm.fit: algorithm did not converge\"Warning message:\n",
      "\"glm.fit: algorithm did not converge\"Warning message:\n",
      "\"glm.fit: algorithm did not converge\"Warning message:\n",
      "\"glm.fit: algorithm did not converge\"Warning message:\n",
      "\"glm.fit: algorithm did not converge\"Warning message:\n",
      "\"glm.fit: algorithm did not converge\"Warning message:\n",
      "\"glm.fit: algorithm did not converge\"Warning message:\n",
      "\"glm.fit: algorithm did not converge\"Warning message:\n",
      "\"glm.fit: algorithm did not converge\"Warning message:\n",
      "\"glm.fit: algorithm did not converge\"Warning message:\n",
      "\"glm.fit: algorithm did not converge\"Warning message:\n",
      "\"glm.fit: algorithm did not converge\"Warning message:\n",
      "\"glm.fit: algorithm did not converge\"Warning message:\n",
      "\"glm.fit: algorithm did not converge\"Warning message:\n",
      "\"glm.fit: algorithm did not converge\"Warning message:\n",
      "\"glm.fit: algorithm did not converge\""
     ]
    },
    {
     "name": "stdout",
     "output_type": "stream",
     "text": [
      "                          Df  Deviance AIC\n",
      "- smoothness_mean          1 3.300e-09  54\n",
      "- compactness_mean         1 3.300e-09  54\n",
      "- concavity_mean           1 3.300e-09  54\n",
      "- concave.points_mean      1 3.300e-09  54\n",
      "- symmetry_mean            1 3.300e-09  54\n",
      "- fractal_dimension_mean   1 3.300e-09  54\n",
      "- radius_se                1 3.300e-09  54\n",
      "- texture_se               1 3.300e-09  54\n",
      "- perimeter_se             1 3.300e-09  54\n",
      "- area_se                  1 3.300e-09  54\n",
      "- smoothness_se            1 3.300e-09  54\n",
      "- compactness_se           1 3.300e-09  54\n",
      "- concavity_se             1 3.300e-09  54\n",
      "- concave.points_se        1 3.300e-09  54\n",
      "- symmetry_se              1 3.300e-09  54\n",
      "- fractal_dimension_se     1 3.300e-09  54\n",
      "- radius_worst             1 3.300e-09  54\n",
      "- texture_worst            1 3.300e-09  54\n",
      "- perimeter_worst          1 3.300e-09  54\n",
      "- area_worst               1 3.300e-09  54\n",
      "- smoothness_worst         1 3.300e-09  54\n",
      "- compactness_worst        1 3.300e-09  54\n",
      "- concavity_worst          1 3.300e-09  54\n",
      "- concave.points_worst     1 3.300e-09  54\n",
      "- symmetry_worst           1 3.300e-09  54\n",
      "- fractal_dimension_worst  1 3.300e-09  54\n",
      "- diagnosis                1 5.042e-06  54\n",
      "<none>                       3.300e-09  56\n"
     ]
    },
    {
     "name": "stderr",
     "output_type": "stream",
     "text": [
      "Warning message:\n",
      "\"glm.fit: algorithm did not converge\""
     ]
    },
    {
     "name": "stdout",
     "output_type": "stream",
     "text": [
      "\n",
      "Step:  AIC=54\n",
      "class ~ diagnosis + compactness_mean + concavity_mean + concave.points_mean + \n",
      "    symmetry_mean + fractal_dimension_mean + radius_se + texture_se + \n",
      "    perimeter_se + area_se + smoothness_se + compactness_se + \n",
      "    concavity_se + concave.points_se + symmetry_se + fractal_dimension_se + \n",
      "    radius_worst + texture_worst + perimeter_worst + area_worst + \n",
      "    smoothness_worst + compactness_worst + concavity_worst + \n",
      "    concave.points_worst + symmetry_worst + fractal_dimension_worst\n",
      "\n"
     ]
    },
    {
     "name": "stderr",
     "output_type": "stream",
     "text": [
      "Warning message:\n",
      "\"glm.fit: algorithm did not converge\"Warning message:\n",
      "\"glm.fit: fitted probabilities numerically 0 or 1 occurred\"Warning message:\n",
      "\"glm.fit: algorithm did not converge\"Warning message:\n",
      "\"glm.fit: algorithm did not converge\"Warning message:\n",
      "\"glm.fit: algorithm did not converge\"Warning message:\n",
      "\"glm.fit: algorithm did not converge\"Warning message:\n",
      "\"glm.fit: algorithm did not converge\"Warning message:\n",
      "\"glm.fit: algorithm did not converge\"Warning message:\n",
      "\"glm.fit: algorithm did not converge\"Warning message:\n",
      "\"glm.fit: algorithm did not converge\"Warning message:\n",
      "\"glm.fit: algorithm did not converge\"Warning message:\n",
      "\"glm.fit: algorithm did not converge\"Warning message:\n",
      "\"glm.fit: algorithm did not converge\"Warning message:\n",
      "\"glm.fit: algorithm did not converge\"Warning message:\n",
      "\"glm.fit: algorithm did not converge\"Warning message:\n",
      "\"glm.fit: algorithm did not converge\"Warning message:\n",
      "\"glm.fit: algorithm did not converge\"Warning message:\n",
      "\"glm.fit: algorithm did not converge\"Warning message:\n",
      "\"glm.fit: algorithm did not converge\"Warning message:\n",
      "\"glm.fit: algorithm did not converge\"Warning message:\n",
      "\"glm.fit: algorithm did not converge\"Warning message:\n",
      "\"glm.fit: algorithm did not converge\"Warning message:\n",
      "\"glm.fit: algorithm did not converge\"Warning message:\n",
      "\"glm.fit: algorithm did not converge\"Warning message:\n",
      "\"glm.fit: algorithm did not converge\"Warning message:\n",
      "\"glm.fit: algorithm did not converge\"Warning message:\n",
      "\"glm.fit: algorithm did not converge\""
     ]
    },
    {
     "name": "stdout",
     "output_type": "stream",
     "text": [
      "                          Df   Deviance AIC\n",
      "- compactness_mean         1 3.3000e-09  52\n",
      "- concavity_mean           1 3.3000e-09  52\n",
      "- concave.points_mean      1 3.3000e-09  52\n",
      "- symmetry_mean            1 3.3000e-09  52\n",
      "- fractal_dimension_mean   1 3.3000e-09  52\n",
      "- radius_se                1 3.3000e-09  52\n",
      "- texture_se               1 3.3000e-09  52\n",
      "- perimeter_se             1 3.3000e-09  52\n",
      "- area_se                  1 3.3000e-09  52\n",
      "- smoothness_se            1 3.3000e-09  52\n",
      "- compactness_se           1 3.3000e-09  52\n",
      "- concavity_se             1 3.3000e-09  52\n",
      "- concave.points_se        1 3.3000e-09  52\n",
      "- symmetry_se              1 3.3000e-09  52\n",
      "- fractal_dimension_se     1 3.3000e-09  52\n",
      "- radius_worst             1 3.3000e-09  52\n",
      "- texture_worst            1 3.3000e-09  52\n",
      "- perimeter_worst          1 3.3000e-09  52\n",
      "- area_worst               1 3.3000e-09  52\n",
      "- smoothness_worst         1 3.3000e-09  52\n",
      "- compactness_worst        1 3.3000e-09  52\n",
      "- concavity_worst          1 3.3000e-09  52\n",
      "- concave.points_worst     1 3.3000e-09  52\n",
      "- symmetry_worst           1 3.3000e-09  52\n",
      "- fractal_dimension_worst  1 3.3000e-09  52\n",
      "- diagnosis                1 1.6552e-05  52\n",
      "<none>                       3.3000e-09  54\n"
     ]
    },
    {
     "name": "stderr",
     "output_type": "stream",
     "text": [
      "Warning message:\n",
      "\"glm.fit: algorithm did not converge\""
     ]
    },
    {
     "name": "stdout",
     "output_type": "stream",
     "text": [
      "\n",
      "Step:  AIC=52\n",
      "class ~ diagnosis + concavity_mean + concave.points_mean + symmetry_mean + \n",
      "    fractal_dimension_mean + radius_se + texture_se + perimeter_se + \n",
      "    area_se + smoothness_se + compactness_se + concavity_se + \n",
      "    concave.points_se + symmetry_se + fractal_dimension_se + \n",
      "    radius_worst + texture_worst + perimeter_worst + area_worst + \n",
      "    smoothness_worst + compactness_worst + concavity_worst + \n",
      "    concave.points_worst + symmetry_worst + fractal_dimension_worst\n",
      "\n"
     ]
    },
    {
     "name": "stderr",
     "output_type": "stream",
     "text": [
      "Warning message:\n",
      "\"glm.fit: fitted probabilities numerically 0 or 1 occurred\"Warning message:\n",
      "\"glm.fit: algorithm did not converge\"Warning message:\n",
      "\"glm.fit: algorithm did not converge\"Warning message:\n",
      "\"glm.fit: algorithm did not converge\"Warning message:\n",
      "\"glm.fit: algorithm did not converge\"Warning message:\n",
      "\"glm.fit: algorithm did not converge\"Warning message:\n",
      "\"glm.fit: algorithm did not converge\"Warning message:\n",
      "\"glm.fit: algorithm did not converge\"Warning message:\n",
      "\"glm.fit: algorithm did not converge\"Warning message:\n",
      "\"glm.fit: algorithm did not converge\"Warning message:\n",
      "\"glm.fit: algorithm did not converge\"Warning message:\n",
      "\"glm.fit: algorithm did not converge\"Warning message:\n",
      "\"glm.fit: algorithm did not converge\"Warning message:\n",
      "\"glm.fit: algorithm did not converge\"Warning message:\n",
      "\"glm.fit: algorithm did not converge\"Warning message:\n",
      "\"glm.fit: algorithm did not converge\"Warning message:\n",
      "\"glm.fit: algorithm did not converge\"Warning message:\n",
      "\"glm.fit: algorithm did not converge\"Warning message:\n",
      "\"glm.fit: algorithm did not converge\"Warning message:\n",
      "\"glm.fit: algorithm did not converge\"Warning message:\n",
      "\"glm.fit: algorithm did not converge\"Warning message:\n",
      "\"glm.fit: algorithm did not converge\"Warning message:\n",
      "\"glm.fit: algorithm did not converge\"Warning message:\n",
      "\"glm.fit: algorithm did not converge\"Warning message:\n",
      "\"glm.fit: algorithm did not converge\""
     ]
    },
    {
     "name": "stdout",
     "output_type": "stream",
     "text": [
      "                          Df Deviance    AIC\n",
      "- concavity_mean           1      0.0   50.0\n",
      "- concave.points_mean      1      0.0   50.0\n",
      "- symmetry_mean            1      0.0   50.0\n",
      "- fractal_dimension_mean   1      0.0   50.0\n",
      "- radius_se                1      0.0   50.0\n",
      "- texture_se               1      0.0   50.0\n",
      "- perimeter_se             1      0.0   50.0\n",
      "- area_se                  1      0.0   50.0\n",
      "- smoothness_se            1      0.0   50.0\n",
      "- compactness_se           1      0.0   50.0\n",
      "- concavity_se             1      0.0   50.0\n",
      "- concave.points_se        1      0.0   50.0\n",
      "- symmetry_se              1      0.0   50.0\n",
      "- fractal_dimension_se     1      0.0   50.0\n",
      "- radius_worst             1      0.0   50.0\n",
      "- texture_worst            1      0.0   50.0\n",
      "- perimeter_worst          1      0.0   50.0\n",
      "- area_worst               1      0.0   50.0\n",
      "- smoothness_worst         1      0.0   50.0\n",
      "- compactness_worst        1      0.0   50.0\n",
      "- concavity_worst          1      0.0   50.0\n",
      "- concave.points_worst     1      0.0   50.0\n",
      "- symmetry_worst           1      0.0   50.0\n",
      "- fractal_dimension_worst  1      0.0   50.0\n",
      "<none>                            0.0   52.0\n",
      "- diagnosis                1   1081.3 1131.3\n"
     ]
    },
    {
     "name": "stderr",
     "output_type": "stream",
     "text": [
      "Warning message:\n",
      "\"glm.fit: algorithm did not converge\""
     ]
    },
    {
     "name": "stdout",
     "output_type": "stream",
     "text": [
      "\n",
      "Step:  AIC=50\n",
      "class ~ diagnosis + concave.points_mean + symmetry_mean + fractal_dimension_mean + \n",
      "    radius_se + texture_se + perimeter_se + area_se + smoothness_se + \n",
      "    compactness_se + concavity_se + concave.points_se + symmetry_se + \n",
      "    fractal_dimension_se + radius_worst + texture_worst + perimeter_worst + \n",
      "    area_worst + smoothness_worst + compactness_worst + concavity_worst + \n",
      "    concave.points_worst + symmetry_worst + fractal_dimension_worst\n",
      "\n"
     ]
    },
    {
     "name": "stderr",
     "output_type": "stream",
     "text": [
      "Warning message:\n",
      "\"glm.fit: algorithm did not converge\"Warning message:\n",
      "\"glm.fit: fitted probabilities numerically 0 or 1 occurred\"Warning message:\n",
      "\"glm.fit: algorithm did not converge\"Warning message:\n",
      "\"glm.fit: algorithm did not converge\"Warning message:\n",
      "\"glm.fit: algorithm did not converge\"Warning message:\n",
      "\"glm.fit: algorithm did not converge\"Warning message:\n",
      "\"glm.fit: algorithm did not converge\"Warning message:\n",
      "\"glm.fit: algorithm did not converge\"Warning message:\n",
      "\"glm.fit: algorithm did not converge\"Warning message:\n",
      "\"glm.fit: algorithm did not converge\"Warning message:\n",
      "\"glm.fit: algorithm did not converge\"Warning message:\n",
      "\"glm.fit: algorithm did not converge\"Warning message:\n",
      "\"glm.fit: algorithm did not converge\"Warning message:\n",
      "\"glm.fit: algorithm did not converge\"Warning message:\n",
      "\"glm.fit: algorithm did not converge\"Warning message:\n",
      "\"glm.fit: algorithm did not converge\"Warning message:\n",
      "\"glm.fit: algorithm did not converge\"Warning message:\n",
      "\"glm.fit: algorithm did not converge\"Warning message:\n",
      "\"glm.fit: algorithm did not converge\"Warning message:\n",
      "\"glm.fit: algorithm did not converge\"Warning message:\n",
      "\"glm.fit: algorithm did not converge\"Warning message:\n",
      "\"glm.fit: algorithm did not converge\"Warning message:\n",
      "\"glm.fit: algorithm did not converge\"Warning message:\n",
      "\"glm.fit: algorithm did not converge\"Warning message:\n",
      "\"glm.fit: algorithm did not converge\""
     ]
    },
    {
     "name": "stdout",
     "output_type": "stream",
     "text": [
      "                          Df   Deviance AIC\n",
      "- concave.points_mean      1 3.3000e-09  48\n",
      "- symmetry_mean            1 3.3000e-09  48\n",
      "- fractal_dimension_mean   1 3.3000e-09  48\n",
      "- radius_se                1 3.3000e-09  48\n",
      "- texture_se               1 3.3000e-09  48\n",
      "- perimeter_se             1 3.3000e-09  48\n",
      "- area_se                  1 3.3000e-09  48\n",
      "- smoothness_se            1 3.3000e-09  48\n",
      "- compactness_se           1 3.3000e-09  48\n",
      "- concavity_se             1 3.3000e-09  48\n",
      "- concave.points_se        1 3.3000e-09  48\n",
      "- symmetry_se              1 3.3000e-09  48\n",
      "- fractal_dimension_se     1 3.3000e-09  48\n",
      "- radius_worst             1 3.3000e-09  48\n",
      "- texture_worst            1 3.3000e-09  48\n",
      "- perimeter_worst          1 3.3000e-09  48\n",
      "- area_worst               1 3.3000e-09  48\n",
      "- smoothness_worst         1 3.3000e-09  48\n",
      "- compactness_worst        1 3.3000e-09  48\n",
      "- concavity_worst          1 3.3000e-09  48\n",
      "- concave.points_worst     1 3.3000e-09  48\n",
      "- symmetry_worst           1 3.3000e-09  48\n",
      "- fractal_dimension_worst  1 3.3000e-09  48\n",
      "- diagnosis                1 2.0926e-05  48\n",
      "<none>                       3.3000e-09  50\n"
     ]
    },
    {
     "name": "stderr",
     "output_type": "stream",
     "text": [
      "Warning message:\n",
      "\"glm.fit: algorithm did not converge\""
     ]
    },
    {
     "name": "stdout",
     "output_type": "stream",
     "text": [
      "\n",
      "Step:  AIC=48\n",
      "class ~ diagnosis + symmetry_mean + fractal_dimension_mean + \n",
      "    radius_se + texture_se + perimeter_se + area_se + smoothness_se + \n",
      "    compactness_se + concavity_se + concave.points_se + symmetry_se + \n",
      "    fractal_dimension_se + radius_worst + texture_worst + perimeter_worst + \n",
      "    area_worst + smoothness_worst + compactness_worst + concavity_worst + \n",
      "    concave.points_worst + symmetry_worst + fractal_dimension_worst\n",
      "\n"
     ]
    },
    {
     "name": "stderr",
     "output_type": "stream",
     "text": [
      "Warning message:\n",
      "\"glm.fit: fitted probabilities numerically 0 or 1 occurred\"Warning message:\n",
      "\"glm.fit: algorithm did not converge\"Warning message:\n",
      "\"glm.fit: algorithm did not converge\"Warning message:\n",
      "\"glm.fit: algorithm did not converge\"Warning message:\n",
      "\"glm.fit: algorithm did not converge\"Warning message:\n",
      "\"glm.fit: algorithm did not converge\"Warning message:\n",
      "\"glm.fit: algorithm did not converge\"Warning message:\n",
      "\"glm.fit: algorithm did not converge\"Warning message:\n",
      "\"glm.fit: algorithm did not converge\"Warning message:\n",
      "\"glm.fit: algorithm did not converge\"Warning message:\n",
      "\"glm.fit: algorithm did not converge\"Warning message:\n",
      "\"glm.fit: algorithm did not converge\"Warning message:\n",
      "\"glm.fit: algorithm did not converge\"Warning message:\n",
      "\"glm.fit: algorithm did not converge\"Warning message:\n",
      "\"glm.fit: algorithm did not converge\"Warning message:\n",
      "\"glm.fit: algorithm did not converge\"Warning message:\n",
      "\"glm.fit: algorithm did not converge\"Warning message:\n",
      "\"glm.fit: algorithm did not converge\"Warning message:\n",
      "\"glm.fit: algorithm did not converge\"Warning message:\n",
      "\"glm.fit: algorithm did not converge\"Warning message:\n",
      "\"glm.fit: algorithm did not converge\"Warning message:\n",
      "\"glm.fit: algorithm did not converge\"Warning message:\n",
      "\"glm.fit: algorithm did not converge\""
     ]
    },
    {
     "name": "stdout",
     "output_type": "stream",
     "text": [
      "                          Df Deviance    AIC\n",
      "- symmetry_mean            1    0.000 46.000\n",
      "- fractal_dimension_mean   1    0.000 46.000\n",
      "- radius_se                1    0.000 46.000\n",
      "- texture_se               1    0.000 46.000\n",
      "- perimeter_se             1    0.000 46.000\n",
      "- area_se                  1    0.000 46.000\n",
      "- smoothness_se            1    0.000 46.000\n",
      "- compactness_se           1    0.000 46.000\n",
      "- concavity_se             1    0.000 46.000\n",
      "- concave.points_se        1    0.000 46.000\n",
      "- symmetry_se              1    0.000 46.000\n",
      "- fractal_dimension_se     1    0.000 46.000\n",
      "- radius_worst             1    0.000 46.000\n",
      "- texture_worst            1    0.000 46.000\n",
      "- perimeter_worst          1    0.000 46.000\n",
      "- area_worst               1    0.000 46.000\n",
      "- smoothness_worst         1    0.000 46.000\n",
      "- compactness_worst        1    0.000 46.000\n",
      "- concavity_worst          1    0.000 46.000\n",
      "- concave.points_worst     1    0.000 46.000\n",
      "- symmetry_worst           1    0.000 46.000\n",
      "- fractal_dimension_worst  1    0.000 46.000\n",
      "<none>                          0.000 48.000\n",
      "- diagnosis                1   37.198 83.198\n"
     ]
    },
    {
     "name": "stderr",
     "output_type": "stream",
     "text": [
      "Warning message:\n",
      "\"glm.fit: algorithm did not converge\""
     ]
    },
    {
     "name": "stdout",
     "output_type": "stream",
     "text": [
      "\n",
      "Step:  AIC=46\n",
      "class ~ diagnosis + fractal_dimension_mean + radius_se + texture_se + \n",
      "    perimeter_se + area_se + smoothness_se + compactness_se + \n",
      "    concavity_se + concave.points_se + symmetry_se + fractal_dimension_se + \n",
      "    radius_worst + texture_worst + perimeter_worst + area_worst + \n",
      "    smoothness_worst + compactness_worst + concavity_worst + \n",
      "    concave.points_worst + symmetry_worst + fractal_dimension_worst\n",
      "\n"
     ]
    },
    {
     "name": "stderr",
     "output_type": "stream",
     "text": [
      "Warning message:\n",
      "\"glm.fit: fitted probabilities numerically 0 or 1 occurred\"Warning message:\n",
      "\"glm.fit: algorithm did not converge\"Warning message:\n",
      "\"glm.fit: algorithm did not converge\"Warning message:\n",
      "\"glm.fit: algorithm did not converge\"Warning message:\n",
      "\"glm.fit: algorithm did not converge\"Warning message:\n",
      "\"glm.fit: algorithm did not converge\"Warning message:\n",
      "\"glm.fit: algorithm did not converge\"Warning message:\n",
      "\"glm.fit: algorithm did not converge\"Warning message:\n",
      "\"glm.fit: algorithm did not converge\"Warning message:\n",
      "\"glm.fit: algorithm did not converge\"Warning message:\n",
      "\"glm.fit: algorithm did not converge\"Warning message:\n",
      "\"glm.fit: algorithm did not converge\"Warning message:\n",
      "\"glm.fit: algorithm did not converge\"Warning message:\n",
      "\"glm.fit: algorithm did not converge\"Warning message:\n",
      "\"glm.fit: algorithm did not converge\"Warning message:\n",
      "\"glm.fit: algorithm did not converge\"Warning message:\n",
      "\"glm.fit: algorithm did not converge\"Warning message:\n",
      "\"glm.fit: algorithm did not converge\"Warning message:\n",
      "\"glm.fit: algorithm did not converge\"Warning message:\n",
      "\"glm.fit: algorithm did not converge\"Warning message:\n",
      "\"glm.fit: algorithm did not converge\"Warning message:\n",
      "\"glm.fit: algorithm did not converge\""
     ]
    },
    {
     "name": "stdout",
     "output_type": "stream",
     "text": [
      "                          Df Deviance    AIC\n",
      "- fractal_dimension_mean   1    0.000 44.000\n",
      "- radius_se                1    0.000 44.000\n",
      "- texture_se               1    0.000 44.000\n",
      "- perimeter_se             1    0.000 44.000\n",
      "- area_se                  1    0.000 44.000\n",
      "- smoothness_se            1    0.000 44.000\n",
      "- compactness_se           1    0.000 44.000\n",
      "- concavity_se             1    0.000 44.000\n",
      "- concave.points_se        1    0.000 44.000\n",
      "- symmetry_se              1    0.000 44.000\n",
      "- fractal_dimension_se     1    0.000 44.000\n",
      "- radius_worst             1    0.000 44.000\n",
      "- texture_worst            1    0.000 44.000\n",
      "- perimeter_worst          1    0.000 44.000\n",
      "- area_worst               1    0.000 44.000\n",
      "- smoothness_worst         1    0.000 44.000\n",
      "- compactness_worst        1    0.000 44.000\n",
      "- concavity_worst          1    0.000 44.000\n",
      "- concave.points_worst     1    0.000 44.000\n",
      "- symmetry_worst           1    0.000 44.000\n",
      "- fractal_dimension_worst  1    0.000 44.000\n",
      "<none>                          0.000 46.000\n",
      "- diagnosis                1   37.905 81.905\n"
     ]
    },
    {
     "name": "stderr",
     "output_type": "stream",
     "text": [
      "Warning message:\n",
      "\"glm.fit: algorithm did not converge\""
     ]
    },
    {
     "name": "stdout",
     "output_type": "stream",
     "text": [
      "\n",
      "Step:  AIC=44\n",
      "class ~ diagnosis + radius_se + texture_se + perimeter_se + area_se + \n",
      "    smoothness_se + compactness_se + concavity_se + concave.points_se + \n",
      "    symmetry_se + fractal_dimension_se + radius_worst + texture_worst + \n",
      "    perimeter_worst + area_worst + smoothness_worst + compactness_worst + \n",
      "    concavity_worst + concave.points_worst + symmetry_worst + \n",
      "    fractal_dimension_worst\n",
      "\n"
     ]
    },
    {
     "name": "stderr",
     "output_type": "stream",
     "text": [
      "Warning message:\n",
      "\"glm.fit: fitted probabilities numerically 0 or 1 occurred\"Warning message:\n",
      "\"glm.fit: algorithm did not converge\"Warning message:\n",
      "\"glm.fit: algorithm did not converge\"Warning message:\n",
      "\"glm.fit: algorithm did not converge\"Warning message:\n",
      "\"glm.fit: algorithm did not converge\"Warning message:\n",
      "\"glm.fit: algorithm did not converge\"Warning message:\n",
      "\"glm.fit: algorithm did not converge\"Warning message:\n",
      "\"glm.fit: algorithm did not converge\"Warning message:\n",
      "\"glm.fit: algorithm did not converge\"Warning message:\n",
      "\"glm.fit: algorithm did not converge\"Warning message:\n",
      "\"glm.fit: algorithm did not converge\"Warning message:\n",
      "\"glm.fit: algorithm did not converge\"Warning message:\n",
      "\"glm.fit: algorithm did not converge\"Warning message:\n",
      "\"glm.fit: algorithm did not converge\"Warning message:\n",
      "\"glm.fit: algorithm did not converge\"Warning message:\n",
      "\"glm.fit: algorithm did not converge\"Warning message:\n",
      "\"glm.fit: algorithm did not converge\"Warning message:\n",
      "\"glm.fit: algorithm did not converge\"Warning message:\n",
      "\"glm.fit: algorithm did not converge\"Warning message:\n",
      "\"glm.fit: algorithm did not converge\"Warning message:\n",
      "\"glm.fit: algorithm did not converge\""
     ]
    },
    {
     "name": "stdout",
     "output_type": "stream",
     "text": [
      "                          Df Deviance    AIC\n",
      "- radius_se                1    0.000 42.000\n",
      "- texture_se               1    0.000 42.000\n",
      "- perimeter_se             1    0.000 42.000\n",
      "- area_se                  1    0.000 42.000\n",
      "- smoothness_se            1    0.000 42.000\n",
      "- compactness_se           1    0.000 42.000\n",
      "- concavity_se             1    0.000 42.000\n",
      "- concave.points_se        1    0.000 42.000\n",
      "- symmetry_se              1    0.000 42.000\n",
      "- fractal_dimension_se     1    0.000 42.000\n",
      "- radius_worst             1    0.000 42.000\n",
      "- texture_worst            1    0.000 42.000\n",
      "- perimeter_worst          1    0.000 42.000\n",
      "- area_worst               1    0.000 42.000\n",
      "- smoothness_worst         1    0.000 42.000\n",
      "- compactness_worst        1    0.000 42.000\n",
      "- concavity_worst          1    0.000 42.000\n",
      "- concave.points_worst     1    0.000 42.000\n",
      "- symmetry_worst           1    0.000 42.000\n",
      "- fractal_dimension_worst  1    0.000 42.000\n",
      "<none>                          0.000 44.000\n",
      "- diagnosis                1   39.803 81.803\n"
     ]
    },
    {
     "name": "stderr",
     "output_type": "stream",
     "text": [
      "Warning message:\n",
      "\"glm.fit: algorithm did not converge\""
     ]
    },
    {
     "name": "stdout",
     "output_type": "stream",
     "text": [
      "\n",
      "Step:  AIC=42\n",
      "class ~ diagnosis + texture_se + perimeter_se + area_se + smoothness_se + \n",
      "    compactness_se + concavity_se + concave.points_se + symmetry_se + \n",
      "    fractal_dimension_se + radius_worst + texture_worst + perimeter_worst + \n",
      "    area_worst + smoothness_worst + compactness_worst + concavity_worst + \n",
      "    concave.points_worst + symmetry_worst + fractal_dimension_worst\n",
      "\n"
     ]
    },
    {
     "name": "stderr",
     "output_type": "stream",
     "text": [
      "Warning message:\n",
      "\"glm.fit: fitted probabilities numerically 0 or 1 occurred\"Warning message:\n",
      "\"glm.fit: algorithm did not converge\"Warning message:\n",
      "\"glm.fit: algorithm did not converge\"Warning message:\n",
      "\"glm.fit: algorithm did not converge\"Warning message:\n",
      "\"glm.fit: algorithm did not converge\"Warning message:\n",
      "\"glm.fit: algorithm did not converge\"Warning message:\n",
      "\"glm.fit: algorithm did not converge\"Warning message:\n",
      "\"glm.fit: algorithm did not converge\"Warning message:\n",
      "\"glm.fit: algorithm did not converge\"Warning message:\n",
      "\"glm.fit: algorithm did not converge\"Warning message:\n",
      "\"glm.fit: algorithm did not converge\"Warning message:\n",
      "\"glm.fit: algorithm did not converge\"Warning message:\n",
      "\"glm.fit: algorithm did not converge\"Warning message:\n",
      "\"glm.fit: algorithm did not converge\"Warning message:\n",
      "\"glm.fit: algorithm did not converge\"Warning message:\n",
      "\"glm.fit: algorithm did not converge\"Warning message:\n",
      "\"glm.fit: algorithm did not converge\"Warning message:\n",
      "\"glm.fit: algorithm did not converge\"Warning message:\n",
      "\"glm.fit: algorithm did not converge\"Warning message:\n",
      "\"glm.fit: algorithm did not converge\""
     ]
    },
    {
     "name": "stdout",
     "output_type": "stream",
     "text": [
      "                          Df Deviance    AIC\n",
      "- texture_se               1    0.000 40.000\n",
      "- perimeter_se             1    0.000 40.000\n",
      "- area_se                  1    0.000 40.000\n",
      "- smoothness_se            1    0.000 40.000\n",
      "- compactness_se           1    0.000 40.000\n",
      "- concavity_se             1    0.000 40.000\n",
      "- concave.points_se        1    0.000 40.000\n",
      "- symmetry_se              1    0.000 40.000\n",
      "- fractal_dimension_se     1    0.000 40.000\n",
      "- radius_worst             1    0.000 40.000\n",
      "- texture_worst            1    0.000 40.000\n",
      "- perimeter_worst          1    0.000 40.000\n",
      "- area_worst               1    0.000 40.000\n",
      "- smoothness_worst         1    0.000 40.000\n",
      "- compactness_worst        1    0.000 40.000\n",
      "- concavity_worst          1    0.000 40.000\n",
      "- concave.points_worst     1    0.000 40.000\n",
      "- symmetry_worst           1    0.000 40.000\n",
      "- fractal_dimension_worst  1    0.000 40.000\n",
      "<none>                          0.000 42.000\n",
      "- diagnosis                1   40.902 80.902\n"
     ]
    },
    {
     "name": "stderr",
     "output_type": "stream",
     "text": [
      "Warning message:\n",
      "\"glm.fit: algorithm did not converge\""
     ]
    },
    {
     "name": "stdout",
     "output_type": "stream",
     "text": [
      "\n",
      "Step:  AIC=40\n",
      "class ~ diagnosis + perimeter_se + area_se + smoothness_se + \n",
      "    compactness_se + concavity_se + concave.points_se + symmetry_se + \n",
      "    fractal_dimension_se + radius_worst + texture_worst + perimeter_worst + \n",
      "    area_worst + smoothness_worst + compactness_worst + concavity_worst + \n",
      "    concave.points_worst + symmetry_worst + fractal_dimension_worst\n",
      "\n"
     ]
    },
    {
     "name": "stderr",
     "output_type": "stream",
     "text": [
      "Warning message:\n",
      "\"glm.fit: fitted probabilities numerically 0 or 1 occurred\"Warning message:\n",
      "\"glm.fit: algorithm did not converge\"Warning message:\n",
      "\"glm.fit: algorithm did not converge\"Warning message:\n",
      "\"glm.fit: algorithm did not converge\"Warning message:\n",
      "\"glm.fit: algorithm did not converge\"Warning message:\n",
      "\"glm.fit: algorithm did not converge\"Warning message:\n",
      "\"glm.fit: algorithm did not converge\"Warning message:\n",
      "\"glm.fit: algorithm did not converge\"Warning message:\n",
      "\"glm.fit: algorithm did not converge\"Warning message:\n",
      "\"glm.fit: algorithm did not converge\"Warning message:\n",
      "\"glm.fit: algorithm did not converge\"Warning message:\n",
      "\"glm.fit: algorithm did not converge\"Warning message:\n",
      "\"glm.fit: algorithm did not converge\"Warning message:\n",
      "\"glm.fit: algorithm did not converge\"Warning message:\n",
      "\"glm.fit: algorithm did not converge\"Warning message:\n",
      "\"glm.fit: algorithm did not converge\"Warning message:\n",
      "\"glm.fit: algorithm did not converge\"Warning message:\n",
      "\"glm.fit: algorithm did not converge\"Warning message:\n",
      "\"glm.fit: algorithm did not converge\""
     ]
    },
    {
     "name": "stdout",
     "output_type": "stream",
     "text": [
      "                          Df Deviance    AIC\n",
      "- perimeter_se             1    0.000 38.000\n",
      "- area_se                  1    0.000 38.000\n",
      "- smoothness_se            1    0.000 38.000\n",
      "- compactness_se           1    0.000 38.000\n",
      "- concavity_se             1    0.000 38.000\n",
      "- concave.points_se        1    0.000 38.000\n",
      "- symmetry_se              1    0.000 38.000\n",
      "- fractal_dimension_se     1    0.000 38.000\n",
      "- radius_worst             1    0.000 38.000\n",
      "- texture_worst            1    0.000 38.000\n",
      "- perimeter_worst          1    0.000 38.000\n",
      "- area_worst               1    0.000 38.000\n",
      "- smoothness_worst         1    0.000 38.000\n",
      "- compactness_worst        1    0.000 38.000\n",
      "- concavity_worst          1    0.000 38.000\n",
      "- concave.points_worst     1    0.000 38.000\n",
      "- symmetry_worst           1    0.000 38.000\n",
      "- fractal_dimension_worst  1    0.000 38.000\n",
      "<none>                          0.000 40.000\n",
      "- diagnosis                1   46.389 84.389\n"
     ]
    },
    {
     "name": "stderr",
     "output_type": "stream",
     "text": [
      "Warning message:\n",
      "\"glm.fit: algorithm did not converge\""
     ]
    },
    {
     "name": "stdout",
     "output_type": "stream",
     "text": [
      "\n",
      "Step:  AIC=38\n",
      "class ~ diagnosis + area_se + smoothness_se + compactness_se + \n",
      "    concavity_se + concave.points_se + symmetry_se + fractal_dimension_se + \n",
      "    radius_worst + texture_worst + perimeter_worst + area_worst + \n",
      "    smoothness_worst + compactness_worst + concavity_worst + \n",
      "    concave.points_worst + symmetry_worst + fractal_dimension_worst\n",
      "\n"
     ]
    },
    {
     "name": "stderr",
     "output_type": "stream",
     "text": [
      "Warning message:\n",
      "\"glm.fit: fitted probabilities numerically 0 or 1 occurred\"Warning message:\n",
      "\"glm.fit: algorithm did not converge\"Warning message:\n",
      "\"glm.fit: algorithm did not converge\"Warning message:\n",
      "\"glm.fit: algorithm did not converge\"Warning message:\n",
      "\"glm.fit: algorithm did not converge\"Warning message:\n",
      "\"glm.fit: algorithm did not converge\"Warning message:\n",
      "\"glm.fit: algorithm did not converge\"Warning message:\n",
      "\"glm.fit: algorithm did not converge\"Warning message:\n",
      "\"glm.fit: algorithm did not converge\"Warning message:\n",
      "\"glm.fit: algorithm did not converge\"Warning message:\n",
      "\"glm.fit: algorithm did not converge\"Warning message:\n",
      "\"glm.fit: algorithm did not converge\"Warning message:\n",
      "\"glm.fit: algorithm did not converge\"Warning message:\n",
      "\"glm.fit: algorithm did not converge\"Warning message:\n",
      "\"glm.fit: algorithm did not converge\"Warning message:\n",
      "\"glm.fit: algorithm did not converge\"Warning message:\n",
      "\"glm.fit: algorithm did not converge\"Warning message:\n",
      "\"glm.fit: algorithm did not converge\""
     ]
    },
    {
     "name": "stdout",
     "output_type": "stream",
     "text": [
      "                          Df Deviance   AIC\n",
      "- area_se                  1     0.00 36.00\n",
      "- smoothness_se            1     0.00 36.00\n",
      "- compactness_se           1     0.00 36.00\n",
      "- concavity_se             1     0.00 36.00\n",
      "- concave.points_se        1     0.00 36.00\n",
      "- symmetry_se              1     0.00 36.00\n",
      "- fractal_dimension_se     1     0.00 36.00\n",
      "- radius_worst             1     0.00 36.00\n",
      "- texture_worst            1     0.00 36.00\n",
      "- perimeter_worst          1     0.00 36.00\n",
      "- area_worst               1     0.00 36.00\n",
      "- smoothness_worst         1     0.00 36.00\n",
      "- compactness_worst        1     0.00 36.00\n",
      "- concavity_worst          1     0.00 36.00\n",
      "- concave.points_worst     1     0.00 36.00\n",
      "- symmetry_worst           1     0.00 36.00\n",
      "- fractal_dimension_worst  1     0.00 36.00\n",
      "<none>                           0.00 38.00\n",
      "- diagnosis                1    46.94 82.94\n"
     ]
    },
    {
     "name": "stderr",
     "output_type": "stream",
     "text": [
      "Warning message:\n",
      "\"glm.fit: algorithm did not converge\""
     ]
    },
    {
     "name": "stdout",
     "output_type": "stream",
     "text": [
      "\n",
      "Step:  AIC=36\n",
      "class ~ diagnosis + smoothness_se + compactness_se + concavity_se + \n",
      "    concave.points_se + symmetry_se + fractal_dimension_se + \n",
      "    radius_worst + texture_worst + perimeter_worst + area_worst + \n",
      "    smoothness_worst + compactness_worst + concavity_worst + \n",
      "    concave.points_worst + symmetry_worst + fractal_dimension_worst\n",
      "\n"
     ]
    },
    {
     "name": "stderr",
     "output_type": "stream",
     "text": [
      "Warning message:\n",
      "\"glm.fit: fitted probabilities numerically 0 or 1 occurred\"Warning message:\n",
      "\"glm.fit: algorithm did not converge\"Warning message:\n",
      "\"glm.fit: algorithm did not converge\"Warning message:\n",
      "\"glm.fit: algorithm did not converge\"Warning message:\n",
      "\"glm.fit: algorithm did not converge\"Warning message:\n",
      "\"glm.fit: algorithm did not converge\"Warning message:\n",
      "\"glm.fit: algorithm did not converge\"Warning message:\n",
      "\"glm.fit: algorithm did not converge\"Warning message:\n",
      "\"glm.fit: algorithm did not converge\"Warning message:\n",
      "\"glm.fit: algorithm did not converge\"Warning message:\n",
      "\"glm.fit: algorithm did not converge\"Warning message:\n",
      "\"glm.fit: algorithm did not converge\"Warning message:\n",
      "\"glm.fit: algorithm did not converge\"Warning message:\n",
      "\"glm.fit: algorithm did not converge\"Warning message:\n",
      "\"glm.fit: algorithm did not converge\"Warning message:\n",
      "\"glm.fit: algorithm did not converge\"Warning message:\n",
      "\"glm.fit: algorithm did not converge\""
     ]
    },
    {
     "name": "stdout",
     "output_type": "stream",
     "text": [
      "                          Df Deviance    AIC\n",
      "- smoothness_se            1    0.000 34.000\n",
      "- compactness_se           1    0.000 34.000\n",
      "- concavity_se             1    0.000 34.000\n",
      "- concave.points_se        1    0.000 34.000\n",
      "- symmetry_se              1    0.000 34.000\n",
      "- fractal_dimension_se     1    0.000 34.000\n",
      "- radius_worst             1    0.000 34.000\n",
      "- texture_worst            1    0.000 34.000\n",
      "- perimeter_worst          1    0.000 34.000\n",
      "- area_worst               1    0.000 34.000\n",
      "- smoothness_worst         1    0.000 34.000\n",
      "- compactness_worst        1    0.000 34.000\n",
      "- concavity_worst          1    0.000 34.000\n",
      "- concave.points_worst     1    0.000 34.000\n",
      "- symmetry_worst           1    0.000 34.000\n",
      "- fractal_dimension_worst  1    0.000 34.000\n",
      "<none>                          0.000 36.000\n",
      "- diagnosis                1   59.805 93.805\n"
     ]
    },
    {
     "name": "stderr",
     "output_type": "stream",
     "text": [
      "Warning message:\n",
      "\"glm.fit: algorithm did not converge\""
     ]
    },
    {
     "name": "stdout",
     "output_type": "stream",
     "text": [
      "\n",
      "Step:  AIC=34\n",
      "class ~ diagnosis + compactness_se + concavity_se + concave.points_se + \n",
      "    symmetry_se + fractal_dimension_se + radius_worst + texture_worst + \n",
      "    perimeter_worst + area_worst + smoothness_worst + compactness_worst + \n",
      "    concavity_worst + concave.points_worst + symmetry_worst + \n",
      "    fractal_dimension_worst\n",
      "\n"
     ]
    },
    {
     "name": "stderr",
     "output_type": "stream",
     "text": [
      "Warning message:\n",
      "\"glm.fit: fitted probabilities numerically 0 or 1 occurred\"Warning message:\n",
      "\"glm.fit: algorithm did not converge\"Warning message:\n",
      "\"glm.fit: algorithm did not converge\"Warning message:\n",
      "\"glm.fit: algorithm did not converge\"Warning message:\n",
      "\"glm.fit: algorithm did not converge\"Warning message:\n",
      "\"glm.fit: algorithm did not converge\"Warning message:\n",
      "\"glm.fit: algorithm did not converge\"Warning message:\n",
      "\"glm.fit: algorithm did not converge\"Warning message:\n",
      "\"glm.fit: algorithm did not converge\"Warning message:\n",
      "\"glm.fit: algorithm did not converge\"Warning message:\n",
      "\"glm.fit: algorithm did not converge\"Warning message:\n",
      "\"glm.fit: algorithm did not converge\"Warning message:\n",
      "\"glm.fit: algorithm did not converge\"Warning message:\n",
      "\"glm.fit: algorithm did not converge\"Warning message:\n",
      "\"glm.fit: algorithm did not converge\"Warning message:\n",
      "\"glm.fit: algorithm did not converge\""
     ]
    },
    {
     "name": "stdout",
     "output_type": "stream",
     "text": [
      "                          Df Deviance    AIC\n",
      "- compactness_se           1    0.000 32.000\n",
      "- concavity_se             1    0.000 32.000\n",
      "- concave.points_se        1    0.000 32.000\n",
      "- symmetry_se              1    0.000 32.000\n",
      "- fractal_dimension_se     1    0.000 32.000\n",
      "- radius_worst             1    0.000 32.000\n",
      "- texture_worst            1    0.000 32.000\n",
      "- perimeter_worst          1    0.000 32.000\n",
      "- area_worst               1    0.000 32.000\n",
      "- smoothness_worst         1    0.000 32.000\n",
      "- compactness_worst        1    0.000 32.000\n",
      "- concavity_worst          1    0.000 32.000\n",
      "- concave.points_worst     1    0.000 32.000\n",
      "- symmetry_worst           1    0.000 32.000\n",
      "- fractal_dimension_worst  1    0.000 32.000\n",
      "<none>                          0.000 34.000\n",
      "- diagnosis                1   60.771 92.771\n"
     ]
    },
    {
     "name": "stderr",
     "output_type": "stream",
     "text": [
      "Warning message:\n",
      "\"glm.fit: algorithm did not converge\""
     ]
    },
    {
     "name": "stdout",
     "output_type": "stream",
     "text": [
      "\n",
      "Step:  AIC=32\n",
      "class ~ diagnosis + concavity_se + concave.points_se + symmetry_se + \n",
      "    fractal_dimension_se + radius_worst + texture_worst + perimeter_worst + \n",
      "    area_worst + smoothness_worst + compactness_worst + concavity_worst + \n",
      "    concave.points_worst + symmetry_worst + fractal_dimension_worst\n",
      "\n"
     ]
    },
    {
     "name": "stderr",
     "output_type": "stream",
     "text": [
      "Warning message:\n",
      "\"glm.fit: fitted probabilities numerically 0 or 1 occurred\"Warning message:\n",
      "\"glm.fit: algorithm did not converge\"Warning message:\n",
      "\"glm.fit: algorithm did not converge\"Warning message:\n",
      "\"glm.fit: algorithm did not converge\"Warning message:\n",
      "\"glm.fit: algorithm did not converge\"Warning message:\n",
      "\"glm.fit: algorithm did not converge\"Warning message:\n",
      "\"glm.fit: algorithm did not converge\"Warning message:\n",
      "\"glm.fit: algorithm did not converge\"Warning message:\n",
      "\"glm.fit: algorithm did not converge\"Warning message:\n",
      "\"glm.fit: algorithm did not converge\"Warning message:\n",
      "\"glm.fit: algorithm did not converge\"Warning message:\n",
      "\"glm.fit: algorithm did not converge\"Warning message:\n",
      "\"glm.fit: algorithm did not converge\"Warning message:\n",
      "\"glm.fit: algorithm did not converge\"Warning message:\n",
      "\"glm.fit: algorithm did not converge\""
     ]
    },
    {
     "name": "stdout",
     "output_type": "stream",
     "text": [
      "                          Df Deviance    AIC\n",
      "- concavity_se             1    0.000 30.000\n",
      "- concave.points_se        1    0.000 30.000\n",
      "- symmetry_se              1    0.000 30.000\n",
      "- fractal_dimension_se     1    0.000 30.000\n",
      "- radius_worst             1    0.000 30.000\n",
      "- texture_worst            1    0.000 30.000\n",
      "- perimeter_worst          1    0.000 30.000\n",
      "- area_worst               1    0.000 30.000\n",
      "- smoothness_worst         1    0.000 30.000\n",
      "- compactness_worst        1    0.000 30.000\n",
      "- concavity_worst          1    0.000 30.000\n",
      "- concave.points_worst     1    0.000 30.000\n",
      "- symmetry_worst           1    0.000 30.000\n",
      "- fractal_dimension_worst  1    0.000 30.000\n",
      "<none>                          0.000 32.000\n",
      "- diagnosis                1   60.947 90.947\n"
     ]
    },
    {
     "name": "stderr",
     "output_type": "stream",
     "text": [
      "Warning message:\n",
      "\"glm.fit: algorithm did not converge\""
     ]
    },
    {
     "name": "stdout",
     "output_type": "stream",
     "text": [
      "\n",
      "Step:  AIC=30\n",
      "class ~ diagnosis + concave.points_se + symmetry_se + fractal_dimension_se + \n",
      "    radius_worst + texture_worst + perimeter_worst + area_worst + \n",
      "    smoothness_worst + compactness_worst + concavity_worst + \n",
      "    concave.points_worst + symmetry_worst + fractal_dimension_worst\n",
      "\n"
     ]
    },
    {
     "name": "stderr",
     "output_type": "stream",
     "text": [
      "Warning message:\n",
      "\"glm.fit: fitted probabilities numerically 0 or 1 occurred\"Warning message:\n",
      "\"glm.fit: algorithm did not converge\"Warning message:\n",
      "\"glm.fit: algorithm did not converge\"Warning message:\n",
      "\"glm.fit: algorithm did not converge\"Warning message:\n",
      "\"glm.fit: algorithm did not converge\"Warning message:\n",
      "\"glm.fit: algorithm did not converge\"Warning message:\n",
      "\"glm.fit: algorithm did not converge\"Warning message:\n",
      "\"glm.fit: algorithm did not converge\"Warning message:\n",
      "\"glm.fit: algorithm did not converge\"Warning message:\n",
      "\"glm.fit: algorithm did not converge\"Warning message:\n",
      "\"glm.fit: algorithm did not converge\"Warning message:\n",
      "\"glm.fit: algorithm did not converge\"Warning message:\n",
      "\"glm.fit: algorithm did not converge\"Warning message:\n",
      "\"glm.fit: algorithm did not converge\""
     ]
    },
    {
     "name": "stdout",
     "output_type": "stream",
     "text": [
      "                          Df Deviance    AIC\n",
      "- concave.points_se        1    0.000 28.000\n",
      "- symmetry_se              1    0.000 28.000\n",
      "- fractal_dimension_se     1    0.000 28.000\n",
      "- radius_worst             1    0.000 28.000\n",
      "- texture_worst            1    0.000 28.000\n",
      "- perimeter_worst          1    0.000 28.000\n",
      "- area_worst               1    0.000 28.000\n",
      "- smoothness_worst         1    0.000 28.000\n",
      "- compactness_worst        1    0.000 28.000\n",
      "- concavity_worst          1    0.000 28.000\n",
      "- concave.points_worst     1    0.000 28.000\n",
      "- symmetry_worst           1    0.000 28.000\n",
      "- fractal_dimension_worst  1    0.000 28.000\n",
      "<none>                          0.000 30.000\n",
      "- diagnosis                1   61.419 89.419\n"
     ]
    },
    {
     "name": "stderr",
     "output_type": "stream",
     "text": [
      "Warning message:\n",
      "\"glm.fit: algorithm did not converge\""
     ]
    },
    {
     "name": "stdout",
     "output_type": "stream",
     "text": [
      "\n",
      "Step:  AIC=28\n",
      "class ~ diagnosis + symmetry_se + fractal_dimension_se + radius_worst + \n",
      "    texture_worst + perimeter_worst + area_worst + smoothness_worst + \n",
      "    compactness_worst + concavity_worst + concave.points_worst + \n",
      "    symmetry_worst + fractal_dimension_worst\n",
      "\n"
     ]
    },
    {
     "name": "stderr",
     "output_type": "stream",
     "text": [
      "Warning message:\n",
      "\"glm.fit: fitted probabilities numerically 0 or 1 occurred\"Warning message:\n",
      "\"glm.fit: algorithm did not converge\"Warning message:\n",
      "\"glm.fit: algorithm did not converge\"Warning message:\n",
      "\"glm.fit: algorithm did not converge\"Warning message:\n",
      "\"glm.fit: algorithm did not converge\"Warning message:\n",
      "\"glm.fit: algorithm did not converge\"Warning message:\n",
      "\"glm.fit: algorithm did not converge\"Warning message:\n",
      "\"glm.fit: algorithm did not converge\"Warning message:\n",
      "\"glm.fit: algorithm did not converge\"Warning message:\n",
      "\"glm.fit: algorithm did not converge\"Warning message:\n",
      "\"glm.fit: algorithm did not converge\"Warning message:\n",
      "\"glm.fit: algorithm did not converge\"Warning message:\n",
      "\"glm.fit: algorithm did not converge\""
     ]
    },
    {
     "name": "stdout",
     "output_type": "stream",
     "text": [
      "                          Df Deviance    AIC\n",
      "- symmetry_se              1    0.000  26.00\n",
      "- fractal_dimension_se     1    0.000  26.00\n",
      "- radius_worst             1    0.000  26.00\n",
      "- texture_worst            1    0.000  26.00\n",
      "- perimeter_worst          1    0.000  26.00\n",
      "- area_worst               1    0.000  26.00\n",
      "- smoothness_worst         1    0.000  26.00\n",
      "- compactness_worst        1    0.000  26.00\n",
      "- concavity_worst          1    0.000  26.00\n",
      "- concave.points_worst     1    0.000  26.00\n",
      "- symmetry_worst           1    0.000  26.00\n",
      "- fractal_dimension_worst  1    0.000  26.00\n",
      "<none>                          0.000  28.00\n",
      "- diagnosis                1   86.478 112.48\n"
     ]
    },
    {
     "name": "stderr",
     "output_type": "stream",
     "text": [
      "Warning message:\n",
      "\"glm.fit: algorithm did not converge\""
     ]
    },
    {
     "name": "stdout",
     "output_type": "stream",
     "text": [
      "\n",
      "Step:  AIC=26\n",
      "class ~ diagnosis + fractal_dimension_se + radius_worst + texture_worst + \n",
      "    perimeter_worst + area_worst + smoothness_worst + compactness_worst + \n",
      "    concavity_worst + concave.points_worst + symmetry_worst + \n",
      "    fractal_dimension_worst\n",
      "\n"
     ]
    },
    {
     "name": "stderr",
     "output_type": "stream",
     "text": [
      "Warning message:\n",
      "\"glm.fit: fitted probabilities numerically 0 or 1 occurred\"Warning message:\n",
      "\"glm.fit: algorithm did not converge\"Warning message:\n",
      "\"glm.fit: algorithm did not converge\"Warning message:\n",
      "\"glm.fit: algorithm did not converge\"Warning message:\n",
      "\"glm.fit: algorithm did not converge\"Warning message:\n",
      "\"glm.fit: algorithm did not converge\"Warning message:\n",
      "\"glm.fit: algorithm did not converge\"Warning message:\n",
      "\"glm.fit: algorithm did not converge\"Warning message:\n",
      "\"glm.fit: algorithm did not converge\"Warning message:\n",
      "\"glm.fit: algorithm did not converge\"Warning message:\n",
      "\"glm.fit: algorithm did not converge\"Warning message:\n",
      "\"glm.fit: algorithm did not converge\""
     ]
    },
    {
     "name": "stdout",
     "output_type": "stream",
     "text": [
      "                          Df Deviance    AIC\n",
      "- fractal_dimension_se     1    0.000  24.00\n",
      "- radius_worst             1    0.000  24.00\n",
      "- texture_worst            1    0.000  24.00\n",
      "- perimeter_worst          1    0.000  24.00\n",
      "- area_worst               1    0.000  24.00\n",
      "- smoothness_worst         1    0.000  24.00\n",
      "- compactness_worst        1    0.000  24.00\n",
      "- concavity_worst          1    0.000  24.00\n",
      "- concave.points_worst     1    0.000  24.00\n",
      "- symmetry_worst           1    0.000  24.00\n",
      "- fractal_dimension_worst  1    0.000  24.00\n",
      "<none>                          0.000  26.00\n",
      "- diagnosis                1   88.094 112.09\n"
     ]
    },
    {
     "name": "stderr",
     "output_type": "stream",
     "text": [
      "Warning message:\n",
      "\"glm.fit: algorithm did not converge\""
     ]
    },
    {
     "name": "stdout",
     "output_type": "stream",
     "text": [
      "\n",
      "Step:  AIC=24\n",
      "class ~ diagnosis + radius_worst + texture_worst + perimeter_worst + \n",
      "    area_worst + smoothness_worst + compactness_worst + concavity_worst + \n",
      "    concave.points_worst + symmetry_worst + fractal_dimension_worst\n",
      "\n"
     ]
    },
    {
     "name": "stderr",
     "output_type": "stream",
     "text": [
      "Warning message:\n",
      "\"glm.fit: fitted probabilities numerically 0 or 1 occurred\"Warning message:\n",
      "\"glm.fit: algorithm did not converge\"Warning message:\n",
      "\"glm.fit: algorithm did not converge\"Warning message:\n",
      "\"glm.fit: algorithm did not converge\"Warning message:\n",
      "\"glm.fit: algorithm did not converge\"Warning message:\n",
      "\"glm.fit: algorithm did not converge\"Warning message:\n",
      "\"glm.fit: algorithm did not converge\"Warning message:\n",
      "\"glm.fit: algorithm did not converge\"Warning message:\n",
      "\"glm.fit: algorithm did not converge\"Warning message:\n",
      "\"glm.fit: algorithm did not converge\"Warning message:\n",
      "\"glm.fit: algorithm did not converge\""
     ]
    },
    {
     "name": "stdout",
     "output_type": "stream",
     "text": [
      "                          Df Deviance    AIC\n",
      "- radius_worst             1    0.000  22.00\n",
      "- texture_worst            1    0.000  22.00\n",
      "- perimeter_worst          1    0.000  22.00\n",
      "- area_worst               1    0.000  22.00\n",
      "- smoothness_worst         1    0.000  22.00\n",
      "- compactness_worst        1    0.000  22.00\n",
      "- concavity_worst          1    0.000  22.00\n",
      "- concave.points_worst     1    0.000  22.00\n",
      "- symmetry_worst           1    0.000  22.00\n",
      "- fractal_dimension_worst  1    0.000  22.00\n",
      "<none>                          0.000  24.00\n",
      "- diagnosis                1   88.642 110.64\n"
     ]
    },
    {
     "name": "stderr",
     "output_type": "stream",
     "text": [
      "Warning message:\n",
      "\"glm.fit: algorithm did not converge\""
     ]
    },
    {
     "name": "stdout",
     "output_type": "stream",
     "text": [
      "\n",
      "Step:  AIC=22\n",
      "class ~ diagnosis + texture_worst + perimeter_worst + area_worst + \n",
      "    smoothness_worst + compactness_worst + concavity_worst + \n",
      "    concave.points_worst + symmetry_worst + fractal_dimension_worst\n",
      "\n"
     ]
    },
    {
     "name": "stderr",
     "output_type": "stream",
     "text": [
      "Warning message:\n",
      "\"glm.fit: fitted probabilities numerically 0 or 1 occurred\"Warning message:\n",
      "\"glm.fit: algorithm did not converge\"Warning message:\n",
      "\"glm.fit: algorithm did not converge\"Warning message:\n",
      "\"glm.fit: algorithm did not converge\"Warning message:\n",
      "\"glm.fit: algorithm did not converge\"Warning message:\n",
      "\"glm.fit: algorithm did not converge\"Warning message:\n",
      "\"glm.fit: algorithm did not converge\"Warning message:\n",
      "\"glm.fit: algorithm did not converge\"Warning message:\n",
      "\"glm.fit: algorithm did not converge\"Warning message:\n",
      "\"glm.fit: algorithm did not converge\""
     ]
    },
    {
     "name": "stdout",
     "output_type": "stream",
     "text": [
      "                          Df Deviance    AIC\n",
      "- texture_worst            1    0.000  20.00\n",
      "- perimeter_worst          1    0.000  20.00\n",
      "- area_worst               1    0.000  20.00\n",
      "- smoothness_worst         1    0.000  20.00\n",
      "- compactness_worst        1    0.000  20.00\n",
      "- concavity_worst          1    0.000  20.00\n",
      "- concave.points_worst     1    0.000  20.00\n",
      "- symmetry_worst           1    0.000  20.00\n",
      "- fractal_dimension_worst  1    0.000  20.00\n",
      "<none>                          0.000  22.00\n",
      "- diagnosis                1   88.645 108.64\n"
     ]
    },
    {
     "name": "stderr",
     "output_type": "stream",
     "text": [
      "Warning message:\n",
      "\"glm.fit: algorithm did not converge\""
     ]
    },
    {
     "name": "stdout",
     "output_type": "stream",
     "text": [
      "\n",
      "Step:  AIC=20\n",
      "class ~ diagnosis + perimeter_worst + area_worst + smoothness_worst + \n",
      "    compactness_worst + concavity_worst + concave.points_worst + \n",
      "    symmetry_worst + fractal_dimension_worst\n",
      "\n"
     ]
    },
    {
     "name": "stderr",
     "output_type": "stream",
     "text": [
      "Warning message:\n",
      "\"glm.fit: fitted probabilities numerically 0 or 1 occurred\"Warning message:\n",
      "\"glm.fit: algorithm did not converge\"Warning message:\n",
      "\"glm.fit: algorithm did not converge\"Warning message:\n",
      "\"glm.fit: algorithm did not converge\"Warning message:\n",
      "\"glm.fit: algorithm did not converge\"Warning message:\n",
      "\"glm.fit: algorithm did not converge\"Warning message:\n",
      "\"glm.fit: algorithm did not converge\"Warning message:\n",
      "\"glm.fit: algorithm did not converge\"Warning message:\n",
      "\"glm.fit: algorithm did not converge\""
     ]
    },
    {
     "name": "stdout",
     "output_type": "stream",
     "text": [
      "                          Df Deviance    AIC\n",
      "- perimeter_worst          1     0.00  18.00\n",
      "- area_worst               1     0.00  18.00\n",
      "- smoothness_worst         1     0.00  18.00\n",
      "- compactness_worst        1     0.00  18.00\n",
      "- concavity_worst          1     0.00  18.00\n",
      "- concave.points_worst     1     0.00  18.00\n",
      "- symmetry_worst           1     0.00  18.00\n",
      "- fractal_dimension_worst  1     0.00  18.00\n",
      "<none>                           0.00  20.00\n",
      "- diagnosis                1   121.95 139.95\n"
     ]
    },
    {
     "name": "stderr",
     "output_type": "stream",
     "text": [
      "Warning message:\n",
      "\"glm.fit: algorithm did not converge\""
     ]
    },
    {
     "name": "stdout",
     "output_type": "stream",
     "text": [
      "\n",
      "Step:  AIC=18\n",
      "class ~ diagnosis + area_worst + smoothness_worst + compactness_worst + \n",
      "    concavity_worst + concave.points_worst + symmetry_worst + \n",
      "    fractal_dimension_worst\n",
      "\n"
     ]
    },
    {
     "name": "stderr",
     "output_type": "stream",
     "text": [
      "Warning message:\n",
      "\"glm.fit: fitted probabilities numerically 0 or 1 occurred\"Warning message:\n",
      "\"glm.fit: algorithm did not converge\"Warning message:\n",
      "\"glm.fit: algorithm did not converge\"Warning message:\n",
      "\"glm.fit: algorithm did not converge\"Warning message:\n",
      "\"glm.fit: algorithm did not converge\"Warning message:\n",
      "\"glm.fit: algorithm did not converge\"Warning message:\n",
      "\"glm.fit: algorithm did not converge\"Warning message:\n",
      "\"glm.fit: algorithm did not converge\""
     ]
    },
    {
     "name": "stdout",
     "output_type": "stream",
     "text": [
      "                          Df Deviance    AIC\n",
      "- area_worst               1     0.00  16.00\n",
      "- smoothness_worst         1     0.00  16.00\n",
      "- compactness_worst        1     0.00  16.00\n",
      "- concavity_worst          1     0.00  16.00\n",
      "- concave.points_worst     1     0.00  16.00\n",
      "- symmetry_worst           1     0.00  16.00\n",
      "- fractal_dimension_worst  1     0.00  16.00\n",
      "<none>                           0.00  18.00\n",
      "- diagnosis                1   123.09 139.09\n"
     ]
    },
    {
     "name": "stderr",
     "output_type": "stream",
     "text": [
      "Warning message:\n",
      "\"glm.fit: algorithm did not converge\""
     ]
    },
    {
     "name": "stdout",
     "output_type": "stream",
     "text": [
      "\n",
      "Step:  AIC=16\n",
      "class ~ diagnosis + smoothness_worst + compactness_worst + concavity_worst + \n",
      "    concave.points_worst + symmetry_worst + fractal_dimension_worst\n",
      "\n"
     ]
    },
    {
     "name": "stderr",
     "output_type": "stream",
     "text": [
      "Warning message:\n",
      "\"glm.fit: algorithm did not converge\"Warning message:\n",
      "\"glm.fit: algorithm did not converge\"Warning message:\n",
      "\"glm.fit: algorithm did not converge\"Warning message:\n",
      "\"glm.fit: algorithm did not converge\"Warning message:\n",
      "\"glm.fit: algorithm did not converge\"Warning message:\n",
      "\"glm.fit: algorithm did not converge\""
     ]
    },
    {
     "name": "stdout",
     "output_type": "stream",
     "text": [
      "                          Df Deviance    AIC\n",
      "- smoothness_worst         1     0.00  14.00\n",
      "- compactness_worst        1     0.00  14.00\n",
      "- concavity_worst          1     0.00  14.00\n",
      "- concave.points_worst     1     0.00  14.00\n",
      "- symmetry_worst           1     0.00  14.00\n",
      "- fractal_dimension_worst  1     0.00  14.00\n",
      "<none>                           0.00  16.00\n",
      "- diagnosis                1   207.14 221.14\n"
     ]
    },
    {
     "name": "stderr",
     "output_type": "stream",
     "text": [
      "Warning message:\n",
      "\"glm.fit: algorithm did not converge\""
     ]
    },
    {
     "name": "stdout",
     "output_type": "stream",
     "text": [
      "\n",
      "Step:  AIC=14\n",
      "class ~ diagnosis + compactness_worst + concavity_worst + concave.points_worst + \n",
      "    symmetry_worst + fractal_dimension_worst\n",
      "\n"
     ]
    },
    {
     "name": "stderr",
     "output_type": "stream",
     "text": [
      "Warning message:\n",
      "\"glm.fit: algorithm did not converge\"Warning message:\n",
      "\"glm.fit: algorithm did not converge\"Warning message:\n",
      "\"glm.fit: algorithm did not converge\"Warning message:\n",
      "\"glm.fit: algorithm did not converge\"Warning message:\n",
      "\"glm.fit: algorithm did not converge\""
     ]
    },
    {
     "name": "stdout",
     "output_type": "stream",
     "text": [
      "                          Df Deviance    AIC\n",
      "- compactness_worst        1     0.00  12.00\n",
      "- concavity_worst          1     0.00  12.00\n",
      "- concave.points_worst     1     0.00  12.00\n",
      "- symmetry_worst           1     0.00  12.00\n",
      "- fractal_dimension_worst  1     0.00  12.00\n",
      "<none>                           0.00  14.00\n",
      "- diagnosis                1   207.24 219.24\n"
     ]
    },
    {
     "name": "stderr",
     "output_type": "stream",
     "text": [
      "Warning message:\n",
      "\"glm.fit: algorithm did not converge\""
     ]
    },
    {
     "name": "stdout",
     "output_type": "stream",
     "text": [
      "\n",
      "Step:  AIC=12\n",
      "class ~ diagnosis + concavity_worst + concave.points_worst + \n",
      "    symmetry_worst + fractal_dimension_worst\n",
      "\n"
     ]
    },
    {
     "name": "stderr",
     "output_type": "stream",
     "text": [
      "Warning message:\n",
      "\"glm.fit: algorithm did not converge\"Warning message:\n",
      "\"glm.fit: algorithm did not converge\"Warning message:\n",
      "\"glm.fit: algorithm did not converge\"Warning message:\n",
      "\"glm.fit: algorithm did not converge\""
     ]
    },
    {
     "name": "stdout",
     "output_type": "stream",
     "text": [
      "                          Df Deviance    AIC\n",
      "- concavity_worst          1     0.00  10.00\n",
      "- concave.points_worst     1     0.00  10.00\n",
      "- symmetry_worst           1     0.00  10.00\n",
      "- fractal_dimension_worst  1     0.00  10.00\n",
      "<none>                           0.00  12.00\n",
      "- diagnosis                1   207.27 217.27\n"
     ]
    },
    {
     "name": "stderr",
     "output_type": "stream",
     "text": [
      "Warning message:\n",
      "\"glm.fit: algorithm did not converge\""
     ]
    },
    {
     "name": "stdout",
     "output_type": "stream",
     "text": [
      "\n",
      "Step:  AIC=10\n",
      "class ~ diagnosis + concave.points_worst + symmetry_worst + fractal_dimension_worst\n",
      "\n"
     ]
    },
    {
     "name": "stderr",
     "output_type": "stream",
     "text": [
      "Warning message:\n",
      "\"glm.fit: algorithm did not converge\"Warning message:\n",
      "\"glm.fit: algorithm did not converge\"Warning message:\n",
      "\"glm.fit: algorithm did not converge\""
     ]
    },
    {
     "name": "stdout",
     "output_type": "stream",
     "text": [
      "                          Df Deviance    AIC\n",
      "- concave.points_worst     1     0.00   8.00\n",
      "- symmetry_worst           1     0.00   8.00\n",
      "- fractal_dimension_worst  1     0.00   8.00\n",
      "<none>                           0.00  10.00\n",
      "- diagnosis                1   212.26 220.26\n"
     ]
    },
    {
     "name": "stderr",
     "output_type": "stream",
     "text": [
      "Warning message:\n",
      "\"glm.fit: algorithm did not converge\""
     ]
    },
    {
     "name": "stdout",
     "output_type": "stream",
     "text": [
      "\n",
      "Step:  AIC=8\n",
      "class ~ diagnosis + symmetry_worst + fractal_dimension_worst\n",
      "\n"
     ]
    },
    {
     "name": "stderr",
     "output_type": "stream",
     "text": [
      "Warning message:\n",
      "\"glm.fit: algorithm did not converge\"Warning message:\n",
      "\"glm.fit: algorithm did not converge\""
     ]
    },
    {
     "name": "stdout",
     "output_type": "stream",
     "text": [
      "                          Df Deviance    AIC\n",
      "- symmetry_worst           1     0.00   6.00\n",
      "- fractal_dimension_worst  1     0.00   6.00\n",
      "<none>                           0.00   8.00\n",
      "- diagnosis                1   662.93 668.93\n"
     ]
    },
    {
     "name": "stderr",
     "output_type": "stream",
     "text": [
      "Warning message:\n",
      "\"glm.fit: algorithm did not converge\""
     ]
    },
    {
     "name": "stdout",
     "output_type": "stream",
     "text": [
      "\n",
      "Step:  AIC=6\n",
      "class ~ diagnosis + fractal_dimension_worst\n",
      "\n"
     ]
    },
    {
     "name": "stderr",
     "output_type": "stream",
     "text": [
      "Warning message:\n",
      "\"glm.fit: algorithm did not converge\""
     ]
    },
    {
     "name": "stdout",
     "output_type": "stream",
     "text": [
      "                          Df Deviance   AIC\n",
      "- fractal_dimension_worst  1      0.0   4.0\n",
      "<none>                            0.0   6.0\n",
      "- diagnosis                1    735.4 739.4\n"
     ]
    },
    {
     "name": "stderr",
     "output_type": "stream",
     "text": [
      "Warning message:\n",
      "\"glm.fit: algorithm did not converge\""
     ]
    },
    {
     "name": "stdout",
     "output_type": "stream",
     "text": [
      "\n",
      "Step:  AIC=4\n",
      "class ~ diagnosis\n",
      "\n",
      "            Df Deviance    AIC\n",
      "<none>             0.00   4.00\n",
      "- diagnosis  1   792.96 794.96\n"
     ]
    }
   ],
   "source": [
    "reduced<-step(model,direction='backward')"
   ]
  },
  {
   "cell_type": "code",
   "execution_count": 18,
   "metadata": {},
   "outputs": [
    {
     "data": {
      "text/plain": [
       "\n",
       "Parameter tuning of 'svm':\n",
       "\n",
       "- sampling method: 10-fold cross validation \n",
       "\n",
       "- best parameters:\n",
       " cost gamma\n",
       "    1   0.1\n",
       "\n",
       "- best performance: 0.1274275 \n",
       "\n",
       "- Detailed performance results:\n",
       "    cost gamma     error dispersion\n",
       "1  1e-03 1e-04 1.9155297 0.34153147\n",
       "2  1e-02 1e-04 1.8674916 0.32941004\n",
       "3  1e-01 1e-04 1.4315346 0.22909835\n",
       "4  1e+00 1e-04 0.4096879 0.05686958\n",
       "5  1e+01 1e-04 0.2914513 0.05983261\n",
       "6  1e-03 1e-03 1.8728172 0.33078106\n",
       "7  1e-02 1e-03 1.4757983 0.23785198\n",
       "8  1e-01 1e-03 0.3947108 0.05368449\n",
       "9  1e+00 1e-03 0.2634206 0.05693184\n",
       "10 1e+01 1e-03 0.2142809 0.05976821\n",
       "11 1e-03 1e-02 1.6951287 0.28874904\n",
       "12 1e-02 1e-02 0.4405683 0.05314506\n",
       "13 1e-01 1e-02 0.2184944 0.05944775\n",
       "14 1e+00 1e-02 0.1673344 0.05876854\n",
       "15 1e+01 1e-02 0.1350076 0.05051871\n",
       "16 1e-03 1e-01 1.7807430 0.31137577\n",
       "17 1e-02 1e-01 0.8246192 0.12469557\n",
       "18 1e-01 1e-01 0.2399329 0.06264034\n",
       "19 1e+00 1e-01 0.1274275 0.04815712\n",
       "20 1e+01 1e-01 0.1302346 0.06022986\n"
      ]
     },
     "metadata": {},
     "output_type": "display_data"
    }
   ],
   "source": [
    "#svm 모형\n",
    "library(e1071)\n",
    "set.seed(123)\n",
    "tune.out<-tune(svm, class ~. ,data=train_scaled,\n",
    "               range=list(cost=c(0.001,0.01,0.1,1,10),\n",
    "                          gamma=c(0.0001,0.001,0.01,0.1)))\n",
    "summary(tune.out)"
   ]
  },
  {
   "cell_type": "code",
   "execution_count": 19,
   "metadata": {},
   "outputs": [
    {
     "data": {
      "text/plain": [
       "\n",
       "Call:\n",
       "best.tune(method = svm, train.x = class ~ ., data = train_scaled, \n",
       "    ranges = list(cost = c(0.001, 0.01, 0.1, 1, 10), gamma = c(1e-04, \n",
       "        0.001, 0.01, 0.1)))\n",
       "\n",
       "\n",
       "Parameters:\n",
       "   SVM-Type:  eps-regression \n",
       " SVM-Kernel:  radial \n",
       "       cost:  1 \n",
       "      gamma:  0.1 \n",
       "    epsilon:  0.1 \n",
       "\n",
       "\n",
       "Number of Support Vectors:  319\n",
       "\n",
       "\n",
       "\n",
       "\n"
      ]
     },
     "metadata": {},
     "output_type": "display_data"
    }
   ],
   "source": [
    "bestmodel<-tune.out$best.model\n",
    "summary(bestmodel)"
   ]
  },
  {
   "cell_type": "code",
   "execution_count": 20,
   "metadata": {},
   "outputs": [
    {
     "data": {
      "text/plain": [
       "       result\n",
       "y_train  -1   0   1\n",
       "      B 278   8   0\n",
       "      M   3  10 273"
      ]
     },
     "metadata": {},
     "output_type": "display_data"
    },
    {
     "data": {
      "text/html": [
       "0"
      ],
      "text/latex": [
       "0"
      ],
      "text/markdown": [
       "0"
      ],
      "text/plain": [
       "[1] 0"
      ]
     },
     "metadata": {},
     "output_type": "display_data"
    }
   ],
   "source": [
    "#학습용 데이터셋의 예측 정확도\n",
    "pred<-predict(bestmodel,X_train_scaled)\n",
    "result<-round(pred)\n",
    "table(y_train,result)\n",
    "mean(y_train==result)"
   ]
  },
  {
   "cell_type": "code",
   "execution_count": 21,
   "metadata": {},
   "outputs": [
    {
     "data": {
      "text/plain": [
       "      result\n",
       "y_test -1  0  1\n",
       "     B 59 12  0\n",
       "     M  0 11 60"
      ]
     },
     "metadata": {},
     "output_type": "display_data"
    },
    {
     "data": {
      "text/html": [
       "0"
      ],
      "text/latex": [
       "0"
      ],
      "text/markdown": [
       "0"
      ],
      "text/plain": [
       "[1] 0"
      ]
     },
     "metadata": {},
     "output_type": "display_data"
    }
   ],
   "source": [
    "#검증용 데이터셋의 예측 정확도\n",
    "pred<-predict(bestmodel,X_test_scaled)\n",
    "result<-round(pred)\n",
    "table(y_test,result)\n",
    "mean(y_test==result)"
   ]
  },
  {
   "cell_type": "code",
   "execution_count": null,
   "metadata": {},
   "outputs": [],
   "source": []
  },
  {
   "cell_type": "code",
   "execution_count": null,
   "metadata": {},
   "outputs": [],
   "source": []
  },
  {
   "cell_type": "code",
   "execution_count": null,
   "metadata": {},
   "outputs": [],
   "source": []
  }
 ],
 "metadata": {
  "kernelspec": {
   "display_name": "R",
   "language": "R",
   "name": "ir"
  },
  "language_info": {
   "codemirror_mode": "r",
   "file_extension": ".r",
   "mimetype": "text/x-r-source",
   "name": "R",
   "pygments_lexer": "r",
   "version": "3.6.1"
  }
 },
 "nbformat": 4,
 "nbformat_minor": 2
}
