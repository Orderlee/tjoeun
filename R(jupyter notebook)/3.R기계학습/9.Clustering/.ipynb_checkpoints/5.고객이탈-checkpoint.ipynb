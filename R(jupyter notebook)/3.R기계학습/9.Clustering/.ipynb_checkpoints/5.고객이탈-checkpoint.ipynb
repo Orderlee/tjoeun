{
 "cells": [
  {
   "cell_type": "code",
   "execution_count": 1,
   "metadata": {},
   "outputs": [
    {
     "data": {
      "text/html": [
       "<table>\n",
       "<thead><tr><th scope=col>Int.l.Plan</th><th scope=col>VMail.Plan</th><th scope=col>VMail.Message</th><th scope=col>Day.Mins</th><th scope=col>Day.Calls</th><th scope=col>Day.Charge</th><th scope=col>Eve.Mins</th><th scope=col>Eve.Calls</th><th scope=col>Eve.Charge</th><th scope=col>Night.Mins</th><th scope=col>Night.Calls</th><th scope=col>Night.Charge</th><th scope=col>Intl.Mins</th><th scope=col>Intl.Calls</th><th scope=col>Intl.Charge</th><th scope=col>CustServ.Calls</th><th scope=col>Churn</th></tr></thead>\n",
       "<tbody>\n",
       "\t<tr><td>0    </td><td>1    </td><td>25   </td><td>265.1</td><td>110  </td><td>45.07</td><td>197.4</td><td> 99  </td><td>16.78</td><td>244.7</td><td> 91  </td><td>11.01</td><td>10.0 </td><td>3    </td><td>2.70 </td><td>1    </td><td>0    </td></tr>\n",
       "\t<tr><td>0    </td><td>1    </td><td>26   </td><td>161.6</td><td>123  </td><td>27.47</td><td>195.5</td><td>103  </td><td>16.62</td><td>254.4</td><td>103  </td><td>11.45</td><td>13.7 </td><td>3    </td><td>3.70 </td><td>1    </td><td>0    </td></tr>\n",
       "\t<tr><td>0    </td><td>0    </td><td> 0   </td><td>243.4</td><td>114  </td><td>41.38</td><td>121.2</td><td>110  </td><td>10.30</td><td>162.6</td><td>104  </td><td> 7.32</td><td>12.2 </td><td>5    </td><td>3.29 </td><td>0    </td><td>0    </td></tr>\n",
       "\t<tr><td>1    </td><td>0    </td><td> 0   </td><td>299.4</td><td> 71  </td><td>50.90</td><td> 61.9</td><td> 88  </td><td> 5.26</td><td>196.9</td><td> 89  </td><td> 8.86</td><td> 6.6 </td><td>7    </td><td>1.78 </td><td>2    </td><td>0    </td></tr>\n",
       "\t<tr><td>1    </td><td>0    </td><td> 0   </td><td>166.7</td><td>113  </td><td>28.34</td><td>148.3</td><td>122  </td><td>12.61</td><td>186.9</td><td>121  </td><td> 8.41</td><td>10.1 </td><td>3    </td><td>2.73 </td><td>3    </td><td>0    </td></tr>\n",
       "\t<tr><td>1    </td><td>0    </td><td> 0   </td><td>223.4</td><td> 98  </td><td>37.98</td><td>220.6</td><td>101  </td><td>18.75</td><td>203.9</td><td>118  </td><td> 9.18</td><td> 6.3 </td><td>6    </td><td>1.70 </td><td>0    </td><td>0    </td></tr>\n",
       "</tbody>\n",
       "</table>\n"
      ],
      "text/latex": [
       "\\begin{tabular}{r|lllllllllllllllll}\n",
       " Int.l.Plan & VMail.Plan & VMail.Message & Day.Mins & Day.Calls & Day.Charge & Eve.Mins & Eve.Calls & Eve.Charge & Night.Mins & Night.Calls & Night.Charge & Intl.Mins & Intl.Calls & Intl.Charge & CustServ.Calls & Churn\\\\\n",
       "\\hline\n",
       "\t 0     & 1     & 25    & 265.1 & 110   & 45.07 & 197.4 &  99   & 16.78 & 244.7 &  91   & 11.01 & 10.0  & 3     & 2.70  & 1     & 0    \\\\\n",
       "\t 0     & 1     & 26    & 161.6 & 123   & 27.47 & 195.5 & 103   & 16.62 & 254.4 & 103   & 11.45 & 13.7  & 3     & 3.70  & 1     & 0    \\\\\n",
       "\t 0     & 0     &  0    & 243.4 & 114   & 41.38 & 121.2 & 110   & 10.30 & 162.6 & 104   &  7.32 & 12.2  & 5     & 3.29  & 0     & 0    \\\\\n",
       "\t 1     & 0     &  0    & 299.4 &  71   & 50.90 &  61.9 &  88   &  5.26 & 196.9 &  89   &  8.86 &  6.6  & 7     & 1.78  & 2     & 0    \\\\\n",
       "\t 1     & 0     &  0    & 166.7 & 113   & 28.34 & 148.3 & 122   & 12.61 & 186.9 & 121   &  8.41 & 10.1  & 3     & 2.73  & 3     & 0    \\\\\n",
       "\t 1     & 0     &  0    & 223.4 &  98   & 37.98 & 220.6 & 101   & 18.75 & 203.9 & 118   &  9.18 &  6.3  & 6     & 1.70  & 0     & 0    \\\\\n",
       "\\end{tabular}\n"
      ],
      "text/markdown": [
       "\n",
       "| Int.l.Plan | VMail.Plan | VMail.Message | Day.Mins | Day.Calls | Day.Charge | Eve.Mins | Eve.Calls | Eve.Charge | Night.Mins | Night.Calls | Night.Charge | Intl.Mins | Intl.Calls | Intl.Charge | CustServ.Calls | Churn |\n",
       "|---|---|---|---|---|---|---|---|---|---|---|---|---|---|---|---|---|\n",
       "| 0     | 1     | 25    | 265.1 | 110   | 45.07 | 197.4 |  99   | 16.78 | 244.7 |  91   | 11.01 | 10.0  | 3     | 2.70  | 1     | 0     |\n",
       "| 0     | 1     | 26    | 161.6 | 123   | 27.47 | 195.5 | 103   | 16.62 | 254.4 | 103   | 11.45 | 13.7  | 3     | 3.70  | 1     | 0     |\n",
       "| 0     | 0     |  0    | 243.4 | 114   | 41.38 | 121.2 | 110   | 10.30 | 162.6 | 104   |  7.32 | 12.2  | 5     | 3.29  | 0     | 0     |\n",
       "| 1     | 0     |  0    | 299.4 |  71   | 50.90 |  61.9 |  88   |  5.26 | 196.9 |  89   |  8.86 |  6.6  | 7     | 1.78  | 2     | 0     |\n",
       "| 1     | 0     |  0    | 166.7 | 113   | 28.34 | 148.3 | 122   | 12.61 | 186.9 | 121   |  8.41 | 10.1  | 3     | 2.73  | 3     | 0     |\n",
       "| 1     | 0     |  0    | 223.4 |  98   | 37.98 | 220.6 | 101   | 18.75 | 203.9 | 118   |  9.18 |  6.3  | 6     | 1.70  | 0     | 0     |\n",
       "\n"
      ],
      "text/plain": [
       "  Int.l.Plan VMail.Plan VMail.Message Day.Mins Day.Calls Day.Charge Eve.Mins\n",
       "1 0          1          25            265.1    110       45.07      197.4   \n",
       "2 0          1          26            161.6    123       27.47      195.5   \n",
       "3 0          0           0            243.4    114       41.38      121.2   \n",
       "4 1          0           0            299.4     71       50.90       61.9   \n",
       "5 1          0           0            166.7    113       28.34      148.3   \n",
       "6 1          0           0            223.4     98       37.98      220.6   \n",
       "  Eve.Calls Eve.Charge Night.Mins Night.Calls Night.Charge Intl.Mins Intl.Calls\n",
       "1  99       16.78      244.7       91         11.01        10.0      3         \n",
       "2 103       16.62      254.4      103         11.45        13.7      3         \n",
       "3 110       10.30      162.6      104          7.32        12.2      5         \n",
       "4  88        5.26      196.9       89          8.86         6.6      7         \n",
       "5 122       12.61      186.9      121          8.41        10.1      3         \n",
       "6 101       18.75      203.9      118          9.18         6.3      6         \n",
       "  Intl.Charge CustServ.Calls Churn\n",
       "1 2.70        1              0    \n",
       "2 3.70        1              0    \n",
       "3 3.29        0              0    \n",
       "4 1.78        2              0    \n",
       "5 2.73        3              0    \n",
       "6 1.70        0              0    "
      ]
     },
     "metadata": {},
     "output_type": "display_data"
    }
   ],
   "source": [
    "df<-read.csv('d:/data/customer/customer.csv')\n",
    "dim(df)\n",
    "head(df)"
   ]
  },
  {
   "cell_type": "code",
   "execution_count": 2,
   "metadata": {},
   "outputs": [
    {
     "data": {
      "image/png": "[encoded data removed]",
      "text/plain": [
       "plot without title"
      ]
     },
     "metadata": {},
     "output_type": "display_data"
    }
   ],
   "source": [
    "#1.wss\n",
    "result<-NULL\n",
    "for(k in 1:10){\n",
    "    result[[k]]<-kmeans(df[,-17],k)\n",
    "}\n",
    "wss<-numeric(10)\n",
    "for(k in 1:10){\n",
    "    wss[k]<-result[[k]]$tot.withinss\n",
    "}\n",
    "plot(wss,type='l') #기울기가 크게 꺾이는 k값"
   ]
  },
  {
   "cell_type": "code",
   "execution_count": 3,
   "metadata": {},
   "outputs": [
    {
     "data": {
      "text/html": [
       "0.1861685537123"
      ],
      "text/latex": [
       "0.1861685537123"
      ],
      "text/markdown": [
       "0.1861685537123"
      ],
      "text/plain": [
       "[1] 0.1861686"
      ]
     },
     "metadata": {},
     "output_type": "display_data"
    },
    {
     "data": {
      "image/png": "[encoded data removed]",
      "text/plain": [
       "plot without title"
      ]
     },
     "metadata": {},
     "output_type": "display_data"
    }
   ],
   "source": [
    "#2.실루엣 포인트\n",
    "library(cluster)\n",
    "avgsil<-numeric(10)\n",
    "for(k in 2:10){\n",
    "    si<-summary(silhouette(result[[k]]$cluster,dist(df[,-17])))\n",
    "    avgsil[k]<-si$avg.width\n",
    "}\n",
    "max(avgsil)\n",
    "plot(avgsil,type='l') #실루엣 포인트가 최대인 k 값"
   ]
  },
  {
   "cell_type": "code",
   "execution_count": null,
   "metadata": {},
   "outputs": [],
   "source": [
    "library(factoextra)\n",
    "set.seed(123)\n",
    "fviz_nbclust(df[,-17],FUN=kmeans,method='wss')\n",
    "fviz_nbclust(df[,-17],FUN=kmeans,method='silhouette')"
   ]
  },
  {
   "cell_type": "code",
   "execution_count": null,
   "metadata": {},
   "outputs": [],
   "source": [
    "#산점도 행렬(군집갯수 2)\n",
    "plot(df[,-17],pch=result[[2]]$cluster,col=result[[2]]$cluster)"
   ]
  },
  {
   "cell_type": "code",
   "execution_count": null,
   "metadata": {},
   "outputs": [],
   "source": [
    "#군집갯수 2를 적용한 kmeans 모형\n",
    "set.seed(123)\n",
    "model<-kmeans(df[,-17],centers=2)\n",
    "model\n",
    "model$centers"
   ]
  },
  {
   "cell_type": "code",
   "execution_count": null,
   "metadata": {},
   "outputs": [],
   "source": [
    "#모형에서 예측한 값 숫자형 1,2를 0,1 캍고리형으로 변환\n",
    "df$cluster<- as.factor(model$cluster -1)"
   ]
  },
  {
   "cell_type": "code",
   "execution_count": null,
   "metadata": {},
   "outputs": [],
   "source": [
    "#예측정확도 확인\n",
    "table(df$churn, df$cluster)\n",
    "mean(df$Churn, df$cluster)"
   ]
  },
  {
   "cell_type": "code",
   "execution_count": null,
   "metadata": {},
   "outputs": [],
   "source": []
  },
  {
   "cell_type": "code",
   "execution_count": null,
   "metadata": {},
   "outputs": [],
   "source": []
  },
  {
   "cell_type": "code",
   "execution_count": null,
   "metadata": {},
   "outputs": [],
   "source": []
  },
  {
   "cell_type": "code",
   "execution_count": null,
   "metadata": {},
   "outputs": [],
   "source": []
  },
  {
   "cell_type": "code",
   "execution_count": null,
   "metadata": {},
   "outputs": [],
   "source": []
  },
  {
   "cell_type": "code",
   "execution_count": null,
   "metadata": {},
   "outputs": [],
   "source": []
  },
  {
   "cell_type": "code",
   "execution_count": null,
   "metadata": {},
   "outputs": [],
   "source": []
  },
  {
   "cell_type": "code",
   "execution_count": null,
   "metadata": {},
   "outputs": [],
   "source": []
  },
  {
   "cell_type": "code",
   "execution_count": null,
   "metadata": {},
   "outputs": [],
   "source": []
  },
  {
   "cell_type": "code",
   "execution_count": null,
   "metadata": {},
   "outputs": [],
   "source": []
  },
  {
   "cell_type": "code",
   "execution_count": null,
   "metadata": {},
   "outputs": [],
   "source": []
  },
  {
   "cell_type": "code",
   "execution_count": null,
   "metadata": {},
   "outputs": [],
   "source": []
  },
  {
   "cell_type": "code",
   "execution_count": null,
   "metadata": {},
   "outputs": [],
   "source": []
  },
  {
   "cell_type": "code",
   "execution_count": null,
   "metadata": {},
   "outputs": [],
   "source": []
  },
  {
   "cell_type": "code",
   "execution_count": null,
   "metadata": {},
   "outputs": [],
   "source": []
  },
  {
   "cell_type": "code",
   "execution_count": null,
   "metadata": {},
   "outputs": [],
   "source": []
  }
 ],
 "metadata": {
  "kernelspec": {
   "display_name": "R",
   "language": "R",
   "name": "ir"
  },
  "language_info": {
   "codemirror_mode": "r",
   "file_extension": ".r",
   "mimetype": "text/x-r-source",
   "name": "R",
   "pygments_lexer": "r",
   "version": "3.6.1"
  }
 },
 "nbformat": 4,
 "nbformat_minor": 2
}
