{
 "cells": [
  {
   "cell_type": "code",
   "execution_count": 1,
   "metadata": {},
   "outputs": [
    {
     "data": {
      "text/html": [
       "<table>\n",
       "<thead><tr><th scope=col>Survived</th><th scope=col>Pclass</th><th scope=col>pclass1</th><th scope=col>plclass2</th><th scope=col>plcass3</th><th scope=col>Sex</th><th scope=col>male</th><th scope=col>female</th><th scope=col>Age</th><th scope=col>SibSp</th><th scope=col>Parch</th><th scope=col>Fare</th></tr></thead>\n",
       "<tbody>\n",
       "\t<tr><td>0      </td><td>3      </td><td>0      </td><td>0      </td><td>1      </td><td>male   </td><td>1      </td><td>0      </td><td>22     </td><td>1      </td><td>0      </td><td> 7.2500</td></tr>\n",
       "\t<tr><td>1      </td><td>1      </td><td>1      </td><td>0      </td><td>0      </td><td>female </td><td>0      </td><td>1      </td><td>38     </td><td>1      </td><td>0      </td><td>71.2833</td></tr>\n",
       "\t<tr><td>1      </td><td>3      </td><td>0      </td><td>0      </td><td>1      </td><td>female </td><td>0      </td><td>1      </td><td>26     </td><td>0      </td><td>0      </td><td> 7.9250</td></tr>\n",
       "\t<tr><td>1      </td><td>1      </td><td>1      </td><td>0      </td><td>0      </td><td>female </td><td>0      </td><td>1      </td><td>35     </td><td>1      </td><td>0      </td><td>53.1000</td></tr>\n",
       "\t<tr><td>0      </td><td>3      </td><td>0      </td><td>0      </td><td>1      </td><td>male   </td><td>1      </td><td>0      </td><td>35     </td><td>0      </td><td>0      </td><td> 8.0500</td></tr>\n",
       "\t<tr><td>0      </td><td>3      </td><td>0      </td><td>0      </td><td>1      </td><td>male   </td><td>1      </td><td>0      </td><td>30     </td><td>0      </td><td>0      </td><td> 8.4583</td></tr>\n",
       "</tbody>\n",
       "</table>\n"
      ],
      "text/latex": [
       "\\begin{tabular}{r|llllllllllll}\n",
       " Survived & Pclass & pclass1 & plclass2 & plcass3 & Sex & male & female & Age & SibSp & Parch & Fare\\\\\n",
       "\\hline\n",
       "\t 0       & 3       & 0       & 0       & 1       & male    & 1       & 0       & 22      & 1       & 0       &  7.2500\\\\\n",
       "\t 1       & 1       & 1       & 0       & 0       & female  & 0       & 1       & 38      & 1       & 0       & 71.2833\\\\\n",
       "\t 1       & 3       & 0       & 0       & 1       & female  & 0       & 1       & 26      & 0       & 0       &  7.9250\\\\\n",
       "\t 1       & 1       & 1       & 0       & 0       & female  & 0       & 1       & 35      & 1       & 0       & 53.1000\\\\\n",
       "\t 0       & 3       & 0       & 0       & 1       & male    & 1       & 0       & 35      & 0       & 0       &  8.0500\\\\\n",
       "\t 0       & 3       & 0       & 0       & 1       & male    & 1       & 0       & 30      & 0       & 0       &  8.4583\\\\\n",
       "\\end{tabular}\n"
      ],
      "text/markdown": [
       "\n",
       "| Survived | Pclass | pclass1 | plclass2 | plcass3 | Sex | male | female | Age | SibSp | Parch | Fare |\n",
       "|---|---|---|---|---|---|---|---|---|---|---|---|\n",
       "| 0       | 3       | 0       | 0       | 1       | male    | 1       | 0       | 22      | 1       | 0       |  7.2500 |\n",
       "| 1       | 1       | 1       | 0       | 0       | female  | 0       | 1       | 38      | 1       | 0       | 71.2833 |\n",
       "| 1       | 3       | 0       | 0       | 1       | female  | 0       | 1       | 26      | 0       | 0       |  7.9250 |\n",
       "| 1       | 1       | 1       | 0       | 0       | female  | 0       | 1       | 35      | 1       | 0       | 53.1000 |\n",
       "| 0       | 3       | 0       | 0       | 1       | male    | 1       | 0       | 35      | 0       | 0       |  8.0500 |\n",
       "| 0       | 3       | 0       | 0       | 1       | male    | 1       | 0       | 30      | 0       | 0       |  8.4583 |\n",
       "\n"
      ],
      "text/plain": [
       "  Survived Pclass pclass1 plclass2 plcass3 Sex    male female Age SibSp Parch\n",
       "1 0        3      0       0        1       male   1    0      22  1     0    \n",
       "2 1        1      1       0        0       female 0    1      38  1     0    \n",
       "3 1        3      0       0        1       female 0    1      26  0     0    \n",
       "4 1        1      1       0        0       female 0    1      35  1     0    \n",
       "5 0        3      0       0        1       male   1    0      35  0     0    \n",
       "6 0        3      0       0        1       male   1    0      30  0     0    \n",
       "  Fare   \n",
       "1  7.2500\n",
       "2 71.2833\n",
       "3  7.9250\n",
       "4 53.1000\n",
       "5  8.0500\n",
       "6  8.4583"
      ]
     },
     "metadata": {},
     "output_type": "display_data"
    }
   ],
   "source": [
    "df<-read.csv('d:/data/titanic/train3.csv')\n",
    "head(df)"
   ]
  },
  {
   "cell_type": "code",
   "execution_count": 2,
   "metadata": {},
   "outputs": [
    {
     "name": "stderr",
     "output_type": "stream",
     "text": [
      "Warning message:\n",
      "\"package 'dplyr' was built under R version 3.6.2\"\n",
      "Attaching package: 'dplyr'\n",
      "\n",
      "The following objects are masked from 'package:stats':\n",
      "\n",
      "    filter, lag\n",
      "\n",
      "The following objects are masked from 'package:base':\n",
      "\n",
      "    intersect, setdiff, setequal, union\n",
      "\n"
     ]
    },
    {
     "data": {
      "text/html": [
       "<ol class=list-inline>\n",
       "\t<li>891</li>\n",
       "\t<li>10</li>\n",
       "</ol>\n"
      ],
      "text/latex": [
       "\\begin{enumerate*}\n",
       "\\item 891\n",
       "\\item 10\n",
       "\\end{enumerate*}\n"
      ],
      "text/markdown": [
       "1. 891\n",
       "2. 10\n",
       "\n",
       "\n"
      ],
      "text/plain": [
       "[1] 891  10"
      ]
     },
     "metadata": {},
     "output_type": "display_data"
    },
    {
     "data": {
      "text/html": [
       "<table>\n",
       "<thead><tr><th scope=col>Survived</th><th scope=col>pclass1</th><th scope=col>plclass2</th><th scope=col>plcass3</th><th scope=col>male</th><th scope=col>female</th><th scope=col>Age</th><th scope=col>SibSp</th><th scope=col>Parch</th><th scope=col>Fare</th></tr></thead>\n",
       "<tbody>\n",
       "\t<tr><td>0      </td><td>0      </td><td>0      </td><td>1      </td><td>1      </td><td>0      </td><td>22     </td><td>1      </td><td>0      </td><td> 7.2500</td></tr>\n",
       "\t<tr><td>1      </td><td>1      </td><td>0      </td><td>0      </td><td>0      </td><td>1      </td><td>38     </td><td>1      </td><td>0      </td><td>71.2833</td></tr>\n",
       "\t<tr><td>1      </td><td>0      </td><td>0      </td><td>1      </td><td>0      </td><td>1      </td><td>26     </td><td>0      </td><td>0      </td><td> 7.9250</td></tr>\n",
       "\t<tr><td>1      </td><td>1      </td><td>0      </td><td>0      </td><td>0      </td><td>1      </td><td>35     </td><td>1      </td><td>0      </td><td>53.1000</td></tr>\n",
       "\t<tr><td>0      </td><td>0      </td><td>0      </td><td>1      </td><td>1      </td><td>0      </td><td>35     </td><td>0      </td><td>0      </td><td> 8.0500</td></tr>\n",
       "\t<tr><td>0      </td><td>0      </td><td>0      </td><td>1      </td><td>1      </td><td>0      </td><td>30     </td><td>0      </td><td>0      </td><td> 8.4583</td></tr>\n",
       "</tbody>\n",
       "</table>\n"
      ],
      "text/latex": [
       "\\begin{tabular}{r|llllllllll}\n",
       " Survived & pclass1 & plclass2 & plcass3 & male & female & Age & SibSp & Parch & Fare\\\\\n",
       "\\hline\n",
       "\t 0       & 0       & 0       & 1       & 1       & 0       & 22      & 1       & 0       &  7.2500\\\\\n",
       "\t 1       & 1       & 0       & 0       & 0       & 1       & 38      & 1       & 0       & 71.2833\\\\\n",
       "\t 1       & 0       & 0       & 1       & 0       & 1       & 26      & 0       & 0       &  7.9250\\\\\n",
       "\t 1       & 1       & 0       & 0       & 0       & 1       & 35      & 1       & 0       & 53.1000\\\\\n",
       "\t 0       & 0       & 0       & 1       & 1       & 0       & 35      & 0       & 0       &  8.0500\\\\\n",
       "\t 0       & 0       & 0       & 1       & 1       & 0       & 30      & 0       & 0       &  8.4583\\\\\n",
       "\\end{tabular}\n"
      ],
      "text/markdown": [
       "\n",
       "| Survived | pclass1 | plclass2 | plcass3 | male | female | Age | SibSp | Parch | Fare |\n",
       "|---|---|---|---|---|---|---|---|---|---|\n",
       "| 0       | 0       | 0       | 1       | 1       | 0       | 22      | 1       | 0       |  7.2500 |\n",
       "| 1       | 1       | 0       | 0       | 0       | 1       | 38      | 1       | 0       | 71.2833 |\n",
       "| 1       | 0       | 0       | 1       | 0       | 1       | 26      | 0       | 0       |  7.9250 |\n",
       "| 1       | 1       | 0       | 0       | 0       | 1       | 35      | 1       | 0       | 53.1000 |\n",
       "| 0       | 0       | 0       | 1       | 1       | 0       | 35      | 0       | 0       |  8.0500 |\n",
       "| 0       | 0       | 0       | 1       | 1       | 0       | 30      | 0       | 0       |  8.4583 |\n",
       "\n"
      ],
      "text/plain": [
       "  Survived pclass1 plclass2 plcass3 male female Age SibSp Parch Fare   \n",
       "1 0        0       0        1       1    0      22  1     0      7.2500\n",
       "2 1        1       0        0       0    1      38  1     0     71.2833\n",
       "3 1        0       0        1       0    1      26  0     0      7.9250\n",
       "4 1        1       0        0       0    1      35  1     0     53.1000\n",
       "5 0        0       0        1       1    0      35  0     0      8.0500\n",
       "6 0        0       0        1       1    0      30  0     0      8.4583"
      ]
     },
     "metadata": {},
     "output_type": "display_data"
    }
   ],
   "source": [
    "library(dplyr)\n",
    "df<-df %>% select(-Pclass,-Sex)\n",
    "dim(df)\n",
    "head(df)"
   ]
  },
  {
   "cell_type": "code",
   "execution_count": 4,
   "metadata": {},
   "outputs": [
    {
     "data": {
      "text/plain": [
       "\n",
       "  0   1 \n",
       "549 342 "
      ]
     },
     "metadata": {},
     "output_type": "display_data"
    },
    {
     "data": {
      "image/png": "[encoded data removed]",
      "text/plain": [
       "plot without title"
      ]
     },
     "metadata": {},
     "output_type": "display_data"
    }
   ],
   "source": [
    "(tbl<-table(df$Survived))\n",
    "barplot(tbl,beside=T,legend=T,col=rainbow(2))"
   ]
  },
  {
   "cell_type": "code",
   "execution_count": 5,
   "metadata": {},
   "outputs": [
    {
     "name": "stderr",
     "output_type": "stream",
     "text": [
      "Warning message:\n",
      "\"package 'ROSE' was built under R version 3.6.2\"Loaded ROSE 0.0-3\n",
      "\n"
     ]
    },
    {
     "data": {
      "text/plain": [
       "\n",
       "  0   1 \n",
       "342 342 "
      ]
     },
     "metadata": {},
     "output_type": "display_data"
    }
   ],
   "source": [
    "library(ROSE)\n",
    "df_samp<-ovun.sample(Survived ~. , data=df, seed=1, method='under',\n",
    "                    N=342*2)$data\n",
    "table(df_samp$Survived)"
   ]
  },
  {
   "cell_type": "code",
   "execution_count": 6,
   "metadata": {},
   "outputs": [
    {
     "name": "stderr",
     "output_type": "stream",
     "text": [
      "Loading required package: lattice\n",
      "Warning message:\n",
      "\"package 'lattice' was built under R version 3.6.2\"Loading required package: ggplot2\n",
      "Warning message:\n",
      "\"package 'ggplot2' was built under R version 3.6.2\""
     ]
    }
   ],
   "source": [
    "library(caret)\n",
    "set.seed(123)\n",
    "idx_train<-createDataPartition(y=df_samp$Survived,p=0.8,list=F)\n",
    "train<-df_samp[idx_train,]\n",
    "X_train<-train[,-1]\n",
    "y_train<-train[,1]\n",
    "test<-df_samp[-idx_train,]\n",
    "X_test<-test[,-1]\n",
    "y_test<-test[,1]"
   ]
  },
  {
   "cell_type": "code",
   "execution_count": 29,
   "metadata": {},
   "outputs": [
    {
     "name": "stdout",
     "output_type": "stream",
     "text": [
      "# weights:  111\n",
      "initial  value 139.741514 \n",
      "iter  10 value 111.694045\n",
      "iter  20 value 84.992935\n",
      "iter  30 value 76.759579\n",
      "iter  40 value 71.594956\n",
      "iter  50 value 69.195212\n",
      "iter  60 value 64.891526\n",
      "iter  70 value 61.900992\n",
      "iter  80 value 61.280937\n",
      "iter  90 value 61.042448\n",
      "iter 100 value 60.488928\n",
      "final  value 60.488928 \n",
      "stopped after 100 iterations\n"
     ]
    },
    {
     "data": {
      "text/plain": [
       "a 9-10-1 network with 111 weights\n",
       "options were -\n",
       " b->h1 i1->h1 i2->h1 i3->h1 i4->h1 i5->h1 i6->h1 i7->h1 i8->h1 i9->h1 \n",
       "  3.98 -26.34  14.00  17.44  25.16 -20.90   0.06  -0.42   0.56  -0.02 \n",
       " b->h2 i1->h2 i2->h2 i3->h2 i4->h2 i5->h2 i6->h2 i7->h2 i8->h2 i9->h2 \n",
       "-24.63  21.44 -43.56  -2.87 -36.87  11.61  -3.84  20.07  29.56   9.43 \n",
       " b->h3 i1->h3 i2->h3 i3->h3 i4->h3 i5->h3 i6->h3 i7->h3 i8->h3 i9->h3 \n",
       " 53.17  24.39   5.50  23.89  23.75  29.38  -6.59 -26.85  -1.35   0.15 \n",
       " b->h4 i1->h4 i2->h4 i3->h4 i4->h4 i5->h4 i6->h4 i7->h4 i8->h4 i9->h4 \n",
       " 23.27  26.86  -7.86   4.88  26.21  -4.28   0.10  -6.64  12.24  -3.09 \n",
       " b->h5 i1->h5 i2->h5 i3->h5 i4->h5 i5->h5 i6->h5 i7->h5 i8->h5 i9->h5 \n",
       "  0.26  -0.13   0.07   0.40  -0.14  -0.09  22.61   0.19  -0.37   9.32 \n",
       " b->h6 i1->h6 i2->h6 i3->h6 i4->h6 i5->h6 i6->h6 i7->h6 i8->h6 i9->h6 \n",
       " -1.49  -0.06  -0.34  -0.65  -0.49  -0.69  -2.62   0.60  -0.43 -13.89 \n",
       " b->h7 i1->h7 i2->h7 i3->h7 i4->h7 i5->h7 i6->h7 i7->h7 i8->h7 i9->h7 \n",
       " -6.54  -6.89   0.51  -1.43 -17.10  10.70  -1.86  -2.23   4.23  14.23 \n",
       " b->h8 i1->h8 i2->h8 i3->h8 i4->h8 i5->h8 i6->h8 i7->h8 i8->h8 i9->h8 \n",
       "  0.12   0.56   0.40  -1.41   0.01  -0.67  -0.20   0.25  -0.11  -1.55 \n",
       " b->h9 i1->h9 i2->h9 i3->h9 i4->h9 i5->h9 i6->h9 i7->h9 i8->h9 i9->h9 \n",
       " -5.93 -10.62   7.58  -2.01   3.17  -9.40  -5.06  10.40   8.56   1.32 \n",
       " b->h10 i1->h10 i2->h10 i3->h10 i4->h10 i5->h10 i6->h10 i7->h10 i8->h10 i9->h10 \n",
       "  -3.15   -0.41   -2.72    0.71    0.16   -3.48    0.44   -3.60   -2.21   -0.02 \n",
       "  b->o  h1->o  h2->o  h3->o  h4->o  h5->o  h6->o  h7->o  h8->o  h9->o h10->o \n",
       " -2.95 -25.55  11.22  56.56  10.36  -6.83  -2.32  16.94   0.35 -15.14   6.46 "
      ]
     },
     "metadata": {},
     "output_type": "display_data"
    }
   ],
   "source": [
    "library(nnet)\n",
    "set.seed(123)\n",
    "model<-nnet(Survived ~. , data=train, size=10) #은닉층  노드 10개\n",
    "summary(model)"
   ]
  },
  {
   "cell_type": "code",
   "execution_count": 30,
   "metadata": {},
   "outputs": [
    {
     "name": "stderr",
     "output_type": "stream",
     "text": [
      "SHA-1 hash of file is bf3c7b8ac910823b729e3ce73bb6ab5e6955ad3d\n"
     ]
    },
    {
     "data": {
      "image/png": "[encoded data removed]",
      "text/plain": [
       "plot without title"
      ]
     },
     "metadata": {},
     "output_type": "display_data"
    }
   ],
   "source": [
    "#인공신경망 그래프\n",
    "library(devtools)\n",
    "\n",
    "source_url('https://gist.githubusercontent.com/Peque/41a9e20d6687f2f3108d/raw/85e14f3a292e126f1454864427e3a189c2fe33f3/nnet_plot_update.r')\n",
    "\n",
    "plot.nnet(model)"
   ]
  },
  {
   "cell_type": "code",
   "execution_count": 31,
   "metadata": {},
   "outputs": [
    {
     "data": {
      "image/png": "[encoded data removed]",
      "text/plain": [
       "plot without title"
      ]
     },
     "metadata": {},
     "output_type": "display_data"
    }
   ],
   "source": [
    "library(NeuralNetTools)\n",
    "garson(model)#변수 중요도 그래프\n"
   ]
  },
  {
   "cell_type": "code",
   "execution_count": 32,
   "metadata": {},
   "outputs": [
    {
     "data": {
      "text/plain": [
       "       result\n",
       "y_train   0   1\n",
       "      0 248  26\n",
       "      1  52 222"
      ]
     },
     "metadata": {},
     "output_type": "display_data"
    },
    {
     "data": {
      "text/html": [
       "0.857664233576642"
      ],
      "text/latex": [
       "0.857664233576642"
      ],
      "text/markdown": [
       "0.857664233576642"
      ],
      "text/plain": [
       "[1] 0.8576642"
      ]
     },
     "metadata": {},
     "output_type": "display_data"
    }
   ],
   "source": [
    "#학습용 데이터셋의 예측 정확도\n",
    "pred<-predict(model,X_train)\n",
    "result<-round(pred)\n",
    "table(y_train,result)\n",
    "mean(y_train == result)"
   ]
  },
  {
   "cell_type": "code",
   "execution_count": 33,
   "metadata": {},
   "outputs": [
    {
     "data": {
      "text/plain": [
       "      result\n",
       "y_test  0  1\n",
       "     0 59  9\n",
       "     1 16 52"
      ]
     },
     "metadata": {},
     "output_type": "display_data"
    },
    {
     "data": {
      "text/html": [
       "0.816176470588235"
      ],
      "text/latex": [
       "0.816176470588235"
      ],
      "text/markdown": [
       "0.816176470588235"
      ],
      "text/plain": [
       "[1] 0.8161765"
      ]
     },
     "metadata": {},
     "output_type": "display_data"
    }
   ],
   "source": [
    "#검증용 데이터셋의 예측 정확도\n",
    "pred<-predict(model,X_test)\n",
    "result<-round(pred)\n",
    "table(y_test,result)\n",
    "mean(y_test == result)"
   ]
  },
  {
   "cell_type": "code",
   "execution_count": null,
   "metadata": {},
   "outputs": [],
   "source": []
  },
  {
   "cell_type": "code",
   "execution_count": null,
   "metadata": {},
   "outputs": [],
   "source": []
  },
  {
   "cell_type": "code",
   "execution_count": null,
   "metadata": {},
   "outputs": [],
   "source": []
  }
 ],
 "metadata": {
  "kernelspec": {
   "display_name": "R",
   "language": "R",
   "name": "ir"
  },
  "language_info": {
   "codemirror_mode": "r",
   "file_extension": ".r",
   "mimetype": "text/x-r-source",
   "name": "R",
   "pygments_lexer": "r",
   "version": "3.6.1"
  }
 },
 "nbformat": 4,
 "nbformat_minor": 2
}
