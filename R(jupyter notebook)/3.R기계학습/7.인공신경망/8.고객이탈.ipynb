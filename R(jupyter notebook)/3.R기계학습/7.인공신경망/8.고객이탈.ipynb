{
 "cells": [
  {
   "cell_type": "code",
   "execution_count": null,
   "metadata": {},
   "outputs": [],
   "source": [
    "df<-read.csv('d:/data/customer/customer.csv')\n",
    "head(df)\n",
    "dim(df)"
   ]
  },
  {
   "cell_type": "code",
   "execution_count": null,
   "metadata": {},
   "outputs": [],
   "source": [
    "(tbl<-table(df$Churn))\n",
    "barplot(tbl,beside=T,legend=T,col=rainbow(2))"
   ]
  },
  {
   "cell_type": "code",
   "execution_count": null,
   "metadata": {},
   "outputs": [],
   "source": [
    "library(ROSE)\n",
    "df_samp<-ovun.sample(Churn ~. , data=df, seed=1, method='under',\n",
    "                    N=483*2)$data\n",
    "(tbl<-table(df_samp$Churn))"
   ]
  },
  {
   "cell_type": "code",
   "execution_count": null,
   "metadata": {},
   "outputs": [],
   "source": [
    "library(caret)\n",
    "set.seed(123)\n",
    "idx_train <- createDataPartition(y=df$Churn, p=0.8, list=F)\n",
    "train<-df[idx_train,]\n",
    "X_train<-train[,-17]\n",
    "y_train<-train[,17]\n",
    "test<-df[-idx_train,]\n",
    "X_test<-test[,-17]\n",
    "y_test<-test[,17]"
   ]
  },
  {
   "cell_type": "code",
   "execution_count": null,
   "metadata": {},
   "outputs": [],
   "source": [
    "library(reshape)\n",
    "#scaling 전의 박스플롯\n",
    "meltData<-melt(X_train)\n",
    "boxplot(data=meltData,value~variable)"
   ]
  },
  {
   "cell_type": "code",
   "execution_count": null,
   "metadata": {},
   "outputs": [],
   "source": [
    "#scale() 변수들의 평균,표준편차들 비슷하게 맞추고 데이터프레임으로 변환\n",
    "X_train_scaled<-as.data.frame(scale(X_train))\n",
    "X_test_scaled<-as.data.frame(scale(X_test))\n",
    "#스케일링된 독립변수들과 종속변수 연결\n",
    "train_scaled<-cbind(X_train_scaled,Churn=y_train)\n",
    "test_scaled<-cbind(X_test_scaled,Churn=y_test)"
   ]
  },
  {
   "cell_type": "code",
   "execution_count": null,
   "metadata": {},
   "outputs": [],
   "source": [
    "#scaling 후의 박스플롯\n",
    "meltData<-melt(X_train_scaled)\n",
    "boxplot(data=meltData,value~variable)"
   ]
  },
  {
   "cell_type": "code",
   "execution_count": null,
   "metadata": {
    "scrolled": false
   },
   "outputs": [],
   "source": [
    "#인공신경망 모형 생성\n",
    "library(nnet)\n",
    "model<-nnet(Churn ~ ., data=train_scaled, size=20)\n",
    "summary(model)"
   ]
  },
  {
   "cell_type": "code",
   "execution_count": null,
   "metadata": {},
   "outputs": [],
   "source": [
    "#인공신경망 그래프\n",
    "library(devtools)\n",
    "\n",
    "source_url('https://gist.githubusercontent.com/Peque/41a9e20d6687f2f3108d/raw/85e14f3a292e126f1454864427e3a189c2fe33f3/nnet_plot_update.r')\n",
    "\n",
    "plot.nnet(model)"
   ]
  },
  {
   "cell_type": "code",
   "execution_count": null,
   "metadata": {},
   "outputs": [],
   "source": [
    "#로지스틱 회귀분석 모형\n",
    "model<-glm(Churn ~ . , data=train_scaled, family=binomial)\n",
    "summary(model)"
   ]
  },
  {
   "cell_type": "code",
   "execution_count": null,
   "metadata": {},
   "outputs": [],
   "source": [
    "#후진제거법\n",
    "reduced<-step(model,direction='backward')"
   ]
  },
  {
   "cell_type": "code",
   "execution_count": null,
   "metadata": {},
   "outputs": [],
   "source": [
    "library(NeuralNetTools)\n",
    "garson(model)#변수 중요도 그래프\n",
    "#변수의 중요도 : int.l.plan > custServ.Calls> Day.Charge"
   ]
  },
  {
   "cell_type": "code",
   "execution_count": null,
   "metadata": {},
   "outputs": [],
   "source": [
    "#학습용 데이터셋의 예측 정확도\n",
    "pred<-predict(model,X_train_scaled)\n",
    "result<-round(pred)\n",
    "table(y_train,result)\n",
    "mean(y_train == result)"
   ]
  },
  {
   "cell_type": "code",
   "execution_count": null,
   "metadata": {},
   "outputs": [],
   "source": [
    "#검증용 데이터셋의 예측 정확도\n",
    "pred<-predict(model,X_test_scaled)\n",
    "result<-round(pred)\n",
    "table(y_test,result)\n",
    "mean(y_test == result)"
   ]
  },
  {
   "cell_type": "code",
   "execution_count": null,
   "metadata": {},
   "outputs": [],
   "source": []
  }
 ],
 "metadata": {
  "kernelspec": {
   "display_name": "R",
   "language": "R",
   "name": "ir"
  },
  "language_info": {
   "codemirror_mode": "r",
   "file_extension": ".r",
   "mimetype": "text/x-r-source",
   "name": "R",
   "pygments_lexer": "r",
   "version": "3.6.1"
  }
 },
 "nbformat": 4,
 "nbformat_minor": 2
}
