{
 "cells": [
  {
   "cell_type": "code",
   "execution_count": 1,
   "metadata": {},
   "outputs": [
    {
     "data": {
      "text/html": [
       "<table>\n",
       "<thead><tr><th scope=col>Ozone</th><th scope=col>Solar.R</th><th scope=col>Solar.R2</th><th scope=col>Wind</th><th scope=col>Temp</th><th scope=col>Month</th><th scope=col>Day</th><th scope=col>Ozone2</th><th scope=col>Result</th></tr></thead>\n",
       "<tbody>\n",
       "\t<tr><td>41      </td><td>190     </td><td>190.0000</td><td> 7.4    </td><td>67      </td><td>5       </td><td>1       </td><td>41.00000</td><td>0       </td></tr>\n",
       "\t<tr><td>36      </td><td>118     </td><td>118.0000</td><td> 8.0    </td><td>72      </td><td>5       </td><td>2       </td><td>36.00000</td><td>0       </td></tr>\n",
       "\t<tr><td>12      </td><td>149     </td><td>149.0000</td><td>12.6    </td><td>74      </td><td>5       </td><td>3       </td><td>12.00000</td><td>0       </td></tr>\n",
       "\t<tr><td>18      </td><td>313     </td><td>313.0000</td><td>11.5    </td><td>62      </td><td>5       </td><td>4       </td><td>18.00000</td><td>0       </td></tr>\n",
       "\t<tr><td>NA      </td><td> NA     </td><td>185.9315</td><td>14.3    </td><td>56      </td><td>5       </td><td>5       </td><td>42.12931</td><td>0       </td></tr>\n",
       "\t<tr><td>28      </td><td> NA     </td><td>185.9315</td><td>14.9    </td><td>66      </td><td>5       </td><td>6       </td><td>28.00000</td><td>0       </td></tr>\n",
       "</tbody>\n",
       "</table>\n"
      ],
      "text/latex": [
       "\\begin{tabular}{r|lllllllll}\n",
       " Ozone & Solar.R & Solar.R2 & Wind & Temp & Month & Day & Ozone2 & Result\\\\\n",
       "\\hline\n",
       "\t 41       & 190      & 190.0000 &  7.4     & 67       & 5        & 1        & 41.00000 & 0       \\\\\n",
       "\t 36       & 118      & 118.0000 &  8.0     & 72       & 5        & 2        & 36.00000 & 0       \\\\\n",
       "\t 12       & 149      & 149.0000 & 12.6     & 74       & 5        & 3        & 12.00000 & 0       \\\\\n",
       "\t 18       & 313      & 313.0000 & 11.5     & 62       & 5        & 4        & 18.00000 & 0       \\\\\n",
       "\t NA       &  NA      & 185.9315 & 14.3     & 56       & 5        & 5        & 42.12931 & 0       \\\\\n",
       "\t 28       &  NA      & 185.9315 & 14.9     & 66       & 5        & 6        & 28.00000 & 0       \\\\\n",
       "\\end{tabular}\n"
      ],
      "text/markdown": [
       "\n",
       "| Ozone | Solar.R | Solar.R2 | Wind | Temp | Month | Day | Ozone2 | Result |\n",
       "|---|---|---|---|---|---|---|---|---|\n",
       "| 41       | 190      | 190.0000 |  7.4     | 67       | 5        | 1        | 41.00000 | 0        |\n",
       "| 36       | 118      | 118.0000 |  8.0     | 72       | 5        | 2        | 36.00000 | 0        |\n",
       "| 12       | 149      | 149.0000 | 12.6     | 74       | 5        | 3        | 12.00000 | 0        |\n",
       "| 18       | 313      | 313.0000 | 11.5     | 62       | 5        | 4        | 18.00000 | 0        |\n",
       "| NA       |  NA      | 185.9315 | 14.3     | 56       | 5        | 5        | 42.12931 | 0        |\n",
       "| 28       |  NA      | 185.9315 | 14.9     | 66       | 5        | 6        | 28.00000 | 0        |\n",
       "\n"
      ],
      "text/plain": [
       "  Ozone Solar.R Solar.R2 Wind Temp Month Day Ozone2   Result\n",
       "1 41    190     190.0000  7.4 67   5     1   41.00000 0     \n",
       "2 36    118     118.0000  8.0 72   5     2   36.00000 0     \n",
       "3 12    149     149.0000 12.6 74   5     3   12.00000 0     \n",
       "4 18    313     313.0000 11.5 62   5     4   18.00000 0     \n",
       "5 NA     NA     185.9315 14.3 56   5     5   42.12931 0     \n",
       "6 28     NA     185.9315 14.9 66   5     6   28.00000 0     "
      ]
     },
     "metadata": {},
     "output_type": "display_data"
    }
   ],
   "source": [
    "df<-read.csv('d:/data/ozone/ozone4.csv')\n",
    "head(df)"
   ]
  },
  {
   "cell_type": "code",
   "execution_count": 2,
   "metadata": {},
   "outputs": [
    {
     "name": "stderr",
     "output_type": "stream",
     "text": [
      "Warning message:\n",
      "\"package 'dplyr' was built under R version 3.6.2\"\n",
      "Attaching package: 'dplyr'\n",
      "\n",
      "The following objects are masked from 'package:stats':\n",
      "\n",
      "    filter, lag\n",
      "\n",
      "The following objects are masked from 'package:base':\n",
      "\n",
      "    intersect, setdiff, setequal, union\n",
      "\n"
     ]
    },
    {
     "data": {
      "text/html": [
       "<ol class=list-inline>\n",
       "\t<li>153</li>\n",
       "\t<li>4</li>\n",
       "</ol>\n"
      ],
      "text/latex": [
       "\\begin{enumerate*}\n",
       "\\item 153\n",
       "\\item 4\n",
       "\\end{enumerate*}\n"
      ],
      "text/markdown": [
       "1. 153\n",
       "2. 4\n",
       "\n",
       "\n"
      ],
      "text/plain": [
       "[1] 153   4"
      ]
     },
     "metadata": {},
     "output_type": "display_data"
    },
    {
     "data": {
      "text/html": [
       "<table>\n",
       "<thead><tr><th scope=col>Solar.R2</th><th scope=col>Wind</th><th scope=col>Temp</th><th scope=col>Result</th></tr></thead>\n",
       "<tbody>\n",
       "\t<tr><td>190.0000</td><td> 7.4    </td><td>67      </td><td>0       </td></tr>\n",
       "\t<tr><td>118.0000</td><td> 8.0    </td><td>72      </td><td>0       </td></tr>\n",
       "\t<tr><td>149.0000</td><td>12.6    </td><td>74      </td><td>0       </td></tr>\n",
       "\t<tr><td>313.0000</td><td>11.5    </td><td>62      </td><td>0       </td></tr>\n",
       "\t<tr><td>185.9315</td><td>14.3    </td><td>56      </td><td>0       </td></tr>\n",
       "\t<tr><td>185.9315</td><td>14.9    </td><td>66      </td><td>0       </td></tr>\n",
       "</tbody>\n",
       "</table>\n"
      ],
      "text/latex": [
       "\\begin{tabular}{r|llll}\n",
       " Solar.R2 & Wind & Temp & Result\\\\\n",
       "\\hline\n",
       "\t 190.0000 &  7.4     & 67       & 0       \\\\\n",
       "\t 118.0000 &  8.0     & 72       & 0       \\\\\n",
       "\t 149.0000 & 12.6     & 74       & 0       \\\\\n",
       "\t 313.0000 & 11.5     & 62       & 0       \\\\\n",
       "\t 185.9315 & 14.3     & 56       & 0       \\\\\n",
       "\t 185.9315 & 14.9     & 66       & 0       \\\\\n",
       "\\end{tabular}\n"
      ],
      "text/markdown": [
       "\n",
       "| Solar.R2 | Wind | Temp | Result |\n",
       "|---|---|---|---|\n",
       "| 190.0000 |  7.4     | 67       | 0        |\n",
       "| 118.0000 |  8.0     | 72       | 0        |\n",
       "| 149.0000 | 12.6     | 74       | 0        |\n",
       "| 313.0000 | 11.5     | 62       | 0        |\n",
       "| 185.9315 | 14.3     | 56       | 0        |\n",
       "| 185.9315 | 14.9     | 66       | 0        |\n",
       "\n"
      ],
      "text/plain": [
       "  Solar.R2 Wind Temp Result\n",
       "1 190.0000  7.4 67   0     \n",
       "2 118.0000  8.0 72   0     \n",
       "3 149.0000 12.6 74   0     \n",
       "4 313.0000 11.5 62   0     \n",
       "5 185.9315 14.3 56   0     \n",
       "6 185.9315 14.9 66   0     "
      ]
     },
     "metadata": {},
     "output_type": "display_data"
    }
   ],
   "source": [
    "library(dplyr)\n",
    "df<-df %>% select(-Ozone,-Solar.R,-Month,-Day,-Ozone2)\n",
    "dim(df)\n",
    "head(df)"
   ]
  },
  {
   "cell_type": "code",
   "execution_count": 3,
   "metadata": {},
   "outputs": [
    {
     "data": {
      "text/plain": [
       "\n",
       "  0   1 \n",
       "109  44 "
      ]
     },
     "metadata": {},
     "output_type": "display_data"
    },
    {
     "data": {
      "image/png": "[encoded data removed]",
      "text/plain": [
       "plot without title"
      ]
     },
     "metadata": {},
     "output_type": "display_data"
    }
   ],
   "source": [
    "(tbl<-table(df$Result))\n",
    "barplot(tbl,beside=T,legend=T,col=rainbow(2))"
   ]
  },
  {
   "cell_type": "code",
   "execution_count": 4,
   "metadata": {},
   "outputs": [
    {
     "name": "stderr",
     "output_type": "stream",
     "text": [
      "Warning message:\n",
      "\"package 'ROSE' was built under R version 3.6.2\"Loaded ROSE 0.0-3\n",
      "\n"
     ]
    },
    {
     "data": {
      "text/plain": [
       "\n",
       " 0  1 \n",
       "44 44 "
      ]
     },
     "metadata": {},
     "output_type": "display_data"
    }
   ],
   "source": [
    "library(ROSE)\n",
    "df_samp<-ovun.sample(Result ~. , data=df, seed=1, method='under',\n",
    "                    N=44*2)$data\n",
    "(tbl<-table(df_samp$Result))"
   ]
  },
  {
   "cell_type": "code",
   "execution_count": 5,
   "metadata": {},
   "outputs": [
    {
     "name": "stderr",
     "output_type": "stream",
     "text": [
      "Loading required package: lattice\n",
      "Warning message:\n",
      "\"package 'lattice' was built under R version 3.6.2\"Loading required package: ggplot2\n",
      "Warning message:\n",
      "\"package 'ggplot2' was built under R version 3.6.2\""
     ]
    }
   ],
   "source": [
    "library(caret)\n",
    "set.seed(123)\n",
    "#학습용,검증용 8:2로 구분\n",
    "idx_train<-createDataPartition(y=df$Result, p=0.8,list=F)\n",
    "train<-df[idx_train,]\n",
    "X_train<-train[,-4]\n",
    "y_train<-train[,4]\n",
    "test<-df[-idx_train,]\n",
    "X_test<-test[,-4]\n",
    "y_test<-test[,4]"
   ]
  },
  {
   "cell_type": "code",
   "execution_count": 6,
   "metadata": {},
   "outputs": [
    {
     "name": "stderr",
     "output_type": "stream",
     "text": [
      "Warning message:\n",
      "\"package 'reshape' was built under R version 3.6.2\"\n",
      "Attaching package: 'reshape'\n",
      "\n",
      "The following object is masked from 'package:dplyr':\n",
      "\n",
      "    rename\n",
      "\n",
      "Using  as id variables\n"
     ]
    },
    {
     "data": {
      "image/png": "[encoded data removed]",
      "text/plain": [
       "plot without title"
      ]
     },
     "metadata": {},
     "output_type": "display_data"
    }
   ],
   "source": [
    "library(reshape)\n",
    "#정규화를 하지 않은 상태의 박스플롯\n",
    "meltData<-melt(X_train)\n",
    "boxplot(data=meltData,value~variable)"
   ]
  },
  {
   "cell_type": "code",
   "execution_count": 7,
   "metadata": {},
   "outputs": [],
   "source": [
    "#정규화 작업(변수들의 상호비교가 가능하도록 평균, 표준편차를 맞추는 과정)\n",
    "X_train_scaled<-as.data.frame(scale(X_train))\n",
    "X_test_scaled<-as.data.frame(scale(X_test))\n",
    "#종속변수를 붙인 데이터프레임\n",
    "train_scaled<-cbind(X_train_scaled,Result=y_train)\n",
    "test_scaled<-cbind(X_test_scaled,Result=y_test)"
   ]
  },
  {
   "cell_type": "code",
   "execution_count": 8,
   "metadata": {},
   "outputs": [
    {
     "name": "stderr",
     "output_type": "stream",
     "text": [
      "Using  as id variables\n"
     ]
    },
    {
     "data": {
      "image/png": "[encoded data removed]",
      "text/plain": [
       "plot without title"
      ]
     },
     "metadata": {},
     "output_type": "display_data"
    }
   ],
   "source": [
    "#정규화 이후의 박스플롯\n",
    "meltData<-melt(X_train_scaled)\n",
    "boxplot(data=meltData,value~variable)"
   ]
  },
  {
   "cell_type": "code",
   "execution_count": 9,
   "metadata": {},
   "outputs": [
    {
     "name": "stdout",
     "output_type": "stream",
     "text": [
      "# weights:  101\n",
      "initial  value 36.703961 \n",
      "final  value 36.000000 \n",
      "converged\n"
     ]
    },
    {
     "data": {
      "text/plain": [
       "a 3-20-1 network with 101 weights\n",
       "options were -\n",
       " b->h1 i1->h1 i2->h1 i3->h1 \n",
       "  2.08  -0.53   1.24  -0.93 \n",
       " b->h2 i1->h2 i2->h2 i3->h2 \n",
       "  0.64   0.44   0.04  -0.09 \n",
       " b->h3 i1->h3 i2->h3 i3->h3 \n",
       " -0.16   0.11   0.08  -0.46 \n",
       " b->h4 i1->h4 i2->h4 i3->h4 \n",
       " -1.73   1.11  -0.47   1.05 \n",
       " b->h5 i1->h5 i2->h5 i3->h5 \n",
       " -2.23   0.54  -1.20   2.09 \n",
       " b->h6 i1->h6 i2->h6 i3->h6 \n",
       " -2.21   0.13  -0.97   0.99 \n",
       " b->h7 i1->h7 i2->h7 i3->h7 \n",
       " -0.84  -0.29   0.14   0.87 \n",
       " b->h8 i1->h8 i2->h8 i3->h8 \n",
       " -2.50   0.15  -0.76   1.61 \n",
       " b->h9 i1->h9 i2->h9 i3->h9 \n",
       " -0.38  -0.44  -0.51   0.05 \n",
       " b->h10 i1->h10 i2->h10 i3->h10 \n",
       "  -0.77   -0.36    0.03   -0.36 \n",
       " b->h11 i1->h11 i2->h11 i3->h11 \n",
       "   1.24   -0.36    0.45   -0.27 \n",
       " b->h12 i1->h12 i2->h12 i3->h12 \n",
       "   1.34   -0.36    1.05   -0.34 \n",
       " b->h13 i1->h13 i2->h13 i3->h13 \n",
       "   2.75   -0.74    1.59   -2.10 \n",
       " b->h14 i1->h14 i2->h14 i3->h14 \n",
       "   0.07    0.28    0.57    0.18 \n",
       " b->h15 i1->h15 i2->h15 i3->h15 \n",
       "  -2.16    0.41   -1.87    1.38 \n",
       " b->h16 i1->h16 i2->h16 i3->h16 \n",
       "   2.53   -0.51    1.71   -2.16 \n",
       " b->h17 i1->h17 i2->h17 i3->h17 \n",
       "   2.56   -0.35    1.46   -1.93 \n",
       " b->h18 i1->h18 i2->h18 i3->h18 \n",
       "   2.05   -0.42    1.40   -1.56 \n",
       " b->h19 i1->h19 i2->h19 i3->h19 \n",
       "  -0.51    1.26   -0.41    0.61 \n",
       " b->h20 i1->h20 i2->h20 i3->h20 \n",
       "  -1.66    0.29   -1.08    1.06 \n",
       "  b->o  h1->o  h2->o  h3->o  h4->o  h5->o  h6->o  h7->o  h8->o  h9->o h10->o \n",
       "-16.84  -8.27  -7.33  -8.22 -10.37  -5.37 -10.12 -10.19 -10.14  -6.68  -9.89 \n",
       "h11->o h12->o h13->o h14->o h15->o h16->o h17->o h18->o h19->o h20->o \n",
       " -8.34 -11.87 -10.40  -9.74  -7.13 -11.54 -12.89 -11.33 -11.87  -5.59 "
      ]
     },
     "metadata": {},
     "output_type": "display_data"
    }
   ],
   "source": [
    "library(nnet)\n",
    "#인공신경망 모형 size 은닉층의 노드 갯수\n",
    "model<-nnet(Result ~ . , data=train_scaled, size=20)\n",
    "summary(model)\n",
    "# 3-10-1\n",
    "# input layer(입력층) 노드수 : 3 (독립변수의 갯수)\n",
    "# hidden layer(은닉층) 노드수 : 10\n",
    "# output layer(출력층) 노드수 : 1\n",
    "# weights : 가중치"
   ]
  },
  {
   "cell_type": "code",
   "execution_count": 10,
   "metadata": {},
   "outputs": [
    {
     "data": {
      "text/html": [
       "<ol class=list-inline>\n",
       "\t<li>'n'</li>\n",
       "\t<li>'nunits'</li>\n",
       "\t<li>'nconn'</li>\n",
       "\t<li>'conn'</li>\n",
       "\t<li>'nsunits'</li>\n",
       "\t<li>'decay'</li>\n",
       "\t<li>'entropy'</li>\n",
       "\t<li>'softmax'</li>\n",
       "\t<li>'censored'</li>\n",
       "\t<li>'value'</li>\n",
       "\t<li>'wts'</li>\n",
       "\t<li>'convergence'</li>\n",
       "\t<li>'fitted.values'</li>\n",
       "\t<li>'residuals'</li>\n",
       "\t<li>'call'</li>\n",
       "\t<li>'terms'</li>\n",
       "\t<li>'coefnames'</li>\n",
       "\t<li>'xlevels'</li>\n",
       "</ol>\n"
      ],
      "text/latex": [
       "\\begin{enumerate*}\n",
       "\\item 'n'\n",
       "\\item 'nunits'\n",
       "\\item 'nconn'\n",
       "\\item 'conn'\n",
       "\\item 'nsunits'\n",
       "\\item 'decay'\n",
       "\\item 'entropy'\n",
       "\\item 'softmax'\n",
       "\\item 'censored'\n",
       "\\item 'value'\n",
       "\\item 'wts'\n",
       "\\item 'convergence'\n",
       "\\item 'fitted.values'\n",
       "\\item 'residuals'\n",
       "\\item 'call'\n",
       "\\item 'terms'\n",
       "\\item 'coefnames'\n",
       "\\item 'xlevels'\n",
       "\\end{enumerate*}\n"
      ],
      "text/markdown": [
       "1. 'n'\n",
       "2. 'nunits'\n",
       "3. 'nconn'\n",
       "4. 'conn'\n",
       "5. 'nsunits'\n",
       "6. 'decay'\n",
       "7. 'entropy'\n",
       "8. 'softmax'\n",
       "9. 'censored'\n",
       "10. 'value'\n",
       "11. 'wts'\n",
       "12. 'convergence'\n",
       "13. 'fitted.values'\n",
       "14. 'residuals'\n",
       "15. 'call'\n",
       "16. 'terms'\n",
       "17. 'coefnames'\n",
       "18. 'xlevels'\n",
       "\n",
       "\n"
      ],
      "text/plain": [
       " [1] \"n\"             \"nunits\"        \"nconn\"         \"conn\"         \n",
       " [5] \"nsunits\"       \"decay\"         \"entropy\"       \"softmax\"      \n",
       " [9] \"censored\"      \"value\"         \"wts\"           \"convergence\"  \n",
       "[13] \"fitted.values\" \"residuals\"     \"call\"          \"terms\"        \n",
       "[17] \"coefnames\"     \"xlevels\"      "
      ]
     },
     "metadata": {},
     "output_type": "display_data"
    },
    {
     "data": {
      "text/html": [
       "<ol class=list-inline>\n",
       "\t<li>2.08474347070213</li>\n",
       "\t<li>-0.525357874906729</li>\n",
       "\t<li>1.2441865755482</li>\n",
       "\t<li>-0.932697545219109</li>\n",
       "\t<li>0.64333842953526</li>\n",
       "\t<li>0.43879138763159</li>\n",
       "</ol>\n"
      ],
      "text/latex": [
       "\\begin{enumerate*}\n",
       "\\item 2.08474347070213\n",
       "\\item -0.525357874906729\n",
       "\\item 1.2441865755482\n",
       "\\item -0.932697545219109\n",
       "\\item 0.64333842953526\n",
       "\\item 0.43879138763159\n",
       "\\end{enumerate*}\n"
      ],
      "text/markdown": [
       "1. 2.08474347070213\n",
       "2. -0.525357874906729\n",
       "3. 1.2441865755482\n",
       "4. -0.932697545219109\n",
       "5. 0.64333842953526\n",
       "6. 0.43879138763159\n",
       "\n",
       "\n"
      ],
      "text/plain": [
       "[1]  2.0847435 -0.5253579  1.2441866 -0.9326975  0.6433384  0.4387914"
      ]
     },
     "metadata": {},
     "output_type": "display_data"
    }
   ],
   "source": [
    "names(model) #신경망 모형의 정보\n",
    "head(model$wts) #최적의 가중치 집합"
   ]
  },
  {
   "cell_type": "code",
   "execution_count": 11,
   "metadata": {},
   "outputs": [],
   "source": [
    "#install.packages(\"devtools\")"
   ]
  },
  {
   "cell_type": "code",
   "execution_count": 12,
   "metadata": {},
   "outputs": [
    {
     "name": "stderr",
     "output_type": "stream",
     "text": [
      "Warning message:\n",
      "\"package 'devtools' was built under R version 3.6.2\"Loading required package: usethis\n",
      "Warning message:\n",
      "\"package 'usethis' was built under R version 3.6.2\"SHA-1 hash of file is bf3c7b8ac910823b729e3ce73bb6ab5e6955ad3d\n",
      "Loading required package: scales\n",
      "Warning message:\n",
      "\"package 'scales' was built under R version 3.6.2\""
     ]
    },
    {
     "data": {
      "image/png": "[encoded data removed]",
      "text/plain": [
       "plot without title"
      ]
     },
     "metadata": {},
     "output_type": "display_data"
    }
   ],
   "source": [
    "#인공신경망 그래프\n",
    "library(devtools)\n",
    "\n",
    "source_url('https://gist.githubusercontent.com/Peque/41a9e20d6687f2f3108d/raw/85e14f3a292e126f1454864427e3a189c2fe33f3/nnet_plot_update.r')\n",
    "\n",
    "plot.nnet(model)"
   ]
  },
  {
   "cell_type": "code",
   "execution_count": 13,
   "metadata": {},
   "outputs": [],
   "source": [
    "#install.packages(\"NeuralNetTools\")"
   ]
  },
  {
   "cell_type": "code",
   "execution_count": 14,
   "metadata": {},
   "outputs": [
    {
     "name": "stderr",
     "output_type": "stream",
     "text": [
      "Warning message:\n",
      "\"package 'NeuralNetTools' was built under R version 3.6.2\""
     ]
    },
    {
     "data": {
      "image/png": "[encoded data removed]",
      "text/plain": [
       "plot without title"
      ]
     },
     "metadata": {},
     "output_type": "display_data"
    }
   ],
   "source": [
    "library(NeuralNetTools)\n",
    "garson(model) #변수의 중요도 그래프"
   ]
  },
  {
   "cell_type": "code",
   "execution_count": 15,
   "metadata": {},
   "outputs": [
    {
     "data": {
      "text/plain": [
       "       result\n",
       "y_train  0\n",
       "      0 87\n",
       "      1 36"
      ]
     },
     "metadata": {},
     "output_type": "display_data"
    },
    {
     "data": {
      "text/html": [
       "0.707317073170732"
      ],
      "text/latex": [
       "0.707317073170732"
      ],
      "text/markdown": [
       "0.707317073170732"
      ],
      "text/plain": [
       "[1] 0.7073171"
      ]
     },
     "metadata": {},
     "output_type": "display_data"
    }
   ],
   "source": [
    "#학습용 데이터셋의 예측 정확도\n",
    "pred<-predict(model,X_train_scaled) #모형이 예측한 값\n",
    "result<-round(pred) #반올림 처리\n",
    "#result\n",
    "table(y_train,result) #오분류표\n",
    "mean(y_train==result) #예측정확도"
   ]
  },
  {
   "cell_type": "code",
   "execution_count": 17,
   "metadata": {},
   "outputs": [
    {
     "data": {
      "text/plain": [
       "      result\n",
       "y_test  0\n",
       "     0 22\n",
       "     1  8"
      ]
     },
     "metadata": {},
     "output_type": "display_data"
    },
    {
     "data": {
      "text/html": [
       "0.733333333333333"
      ],
      "text/latex": [
       "0.733333333333333"
      ],
      "text/markdown": [
       "0.733333333333333"
      ],
      "text/plain": [
       "[1] 0.7333333"
      ]
     },
     "metadata": {},
     "output_type": "display_data"
    }
   ],
   "source": [
    "#검증용 데이터셋의 예측 정확도\n",
    "pred<-predict(model,X_test_scaled)\n",
    "result<-round(pred)\n",
    "table(y_test,result)\n",
    "mean(y_test==result)"
   ]
  },
  {
   "cell_type": "code",
   "execution_count": null,
   "metadata": {},
   "outputs": [],
   "source": []
  }
 ],
 "metadata": {
  "kernelspec": {
   "display_name": "R",
   "language": "R",
   "name": "ir"
  },
  "language_info": {
   "codemirror_mode": "r",
   "file_extension": ".r",
   "mimetype": "text/x-r-source",
   "name": "R",
   "pygments_lexer": "r",
   "version": "3.6.1"
  }
 },
 "nbformat": 4,
 "nbformat_minor": 2
}
