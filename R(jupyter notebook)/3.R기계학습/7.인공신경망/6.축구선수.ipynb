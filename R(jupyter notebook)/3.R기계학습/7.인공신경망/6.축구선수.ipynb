{
 "cells": [
  {
   "cell_type": "code",
   "execution_count": 1,
   "metadata": {},
   "outputs": [
    {
     "data": {
      "text/html": [
       "<table>\n",
       "<thead><tr><th scope=col>id</th><th scope=col>player_name</th><th scope=col>birthday</th><th scope=col>preferred_foot</th><th scope=col>age</th><th scope=col>height</th><th scope=col>weight</th><th scope=col>potential</th><th scope=col>right_foot</th><th scope=col>left_foot</th><th scope=col>...</th><th scope=col>marking</th><th scope=col>standing_tackle</th><th scope=col>sliding_tackle</th><th scope=col>gk_diving</th><th scope=col>gk_handling</th><th scope=col>gk_kicking</th><th scope=col>gk_positioning</th><th scope=col>gk_reflexes</th><th scope=col>overall_rating</th><th scope=col>Label</th></tr></thead>\n",
       "<tbody>\n",
       "\t<tr><td>1                 </td><td>Aaron Appindangoye</td><td>1992-02-29        </td><td>right             </td><td>27                </td><td>183               </td><td>187               </td><td>71                </td><td>1                 </td><td>0                 </td><td>...               </td><td>65                </td><td>69                </td><td>69                </td><td> 6                </td><td>11                </td><td>10                </td><td>8                 </td><td> 8                </td><td>67                </td><td>0                 </td></tr>\n",
       "\t<tr><td>2                 </td><td>Aaron Cresswell   </td><td>1989-12-15        </td><td>right             </td><td>30                </td><td>170               </td><td>146               </td><td>71                </td><td>1                 </td><td>0                 </td><td>...               </td><td>65                </td><td>69                </td><td>69                </td><td> 6                </td><td>11                </td><td>10                </td><td>8                 </td><td> 8                </td><td>67                </td><td>0                 </td></tr>\n",
       "\t<tr><td>3                 </td><td>Aaron Doran       </td><td>1991-05-13        </td><td>right             </td><td>28                </td><td>170               </td><td>163               </td><td>66                </td><td>1                 </td><td>0                 </td><td>...               </td><td>65                </td><td>66                </td><td>69                </td><td> 6                </td><td>11                </td><td>10                </td><td>8                 </td><td> 8                </td><td>62                </td><td>0                 </td></tr>\n",
       "\t<tr><td>4                 </td><td>Aaron Galindo     </td><td>1982-05-08        </td><td>right             </td><td>37                </td><td>183               </td><td>198               </td><td>65                </td><td>1                 </td><td>0                 </td><td>...               </td><td>62                </td><td>63                </td><td>66                </td><td> 5                </td><td>10                </td><td> 9                </td><td>7                 </td><td> 7                </td><td>61                </td><td>0                 </td></tr>\n",
       "\t<tr><td>5                 </td><td>Aaron Hughes      </td><td>1979-11-08        </td><td>right             </td><td>40                </td><td>183               </td><td>154               </td><td>65                </td><td>1                 </td><td>0                 </td><td>...               </td><td>62                </td><td>63                </td><td>66                </td><td> 5                </td><td>10                </td><td> 9                </td><td>7                 </td><td> 7                </td><td>61                </td><td>0                 </td></tr>\n",
       "\t<tr><td>6                 </td><td>Aaron Hunt        </td><td>1986-09-04        </td><td>left              </td><td>33                </td><td>183               </td><td>161               </td><td>76                </td><td>0                 </td><td>1                 </td><td>...               </td><td>76                </td><td>75                </td><td>78                </td><td>14                </td><td> 7                </td><td> 9                </td><td>9                 </td><td>12                </td><td>74                </td><td>1                 </td></tr>\n",
       "</tbody>\n",
       "</table>\n"
      ],
      "text/latex": [
       "\\begin{tabular}{r|lllllllllllllllllllllllllllllllllllllllllllll}\n",
       " id & player\\_name & birthday & preferred\\_foot & age & height & weight & potential & right\\_foot & left\\_foot & ... & marking & standing\\_tackle & sliding\\_tackle & gk\\_diving & gk\\_handling & gk\\_kicking & gk\\_positioning & gk\\_reflexes & overall\\_rating & Label\\\\\n",
       "\\hline\n",
       "\t 1                  & Aaron Appindangoye & 1992-02-29         & right              & 27                 & 183                & 187                & 71                 & 1                  & 0                  & ...                & 65                 & 69                 & 69                 &  6                 & 11                 & 10                 & 8                  &  8                 & 67                 & 0                 \\\\\n",
       "\t 2                  & Aaron Cresswell    & 1989-12-15         & right              & 30                 & 170                & 146                & 71                 & 1                  & 0                  & ...                & 65                 & 69                 & 69                 &  6                 & 11                 & 10                 & 8                  &  8                 & 67                 & 0                 \\\\\n",
       "\t 3                  & Aaron Doran        & 1991-05-13         & right              & 28                 & 170                & 163                & 66                 & 1                  & 0                  & ...                & 65                 & 66                 & 69                 &  6                 & 11                 & 10                 & 8                  &  8                 & 62                 & 0                 \\\\\n",
       "\t 4                  & Aaron Galindo      & 1982-05-08         & right              & 37                 & 183                & 198                & 65                 & 1                  & 0                  & ...                & 62                 & 63                 & 66                 &  5                 & 10                 &  9                 & 7                  &  7                 & 61                 & 0                 \\\\\n",
       "\t 5                  & Aaron Hughes       & 1979-11-08         & right              & 40                 & 183                & 154                & 65                 & 1                  & 0                  & ...                & 62                 & 63                 & 66                 &  5                 & 10                 &  9                 & 7                  &  7                 & 61                 & 0                 \\\\\n",
       "\t 6                  & Aaron Hunt         & 1986-09-04         & left               & 33                 & 183                & 161                & 76                 & 0                  & 1                  & ...                & 76                 & 75                 & 78                 & 14                 &  7                 &  9                 & 9                  & 12                 & 74                 & 1                 \\\\\n",
       "\\end{tabular}\n"
      ],
      "text/markdown": [
       "\n",
       "| id | player_name | birthday | preferred_foot | age | height | weight | potential | right_foot | left_foot | ... | marking | standing_tackle | sliding_tackle | gk_diving | gk_handling | gk_kicking | gk_positioning | gk_reflexes | overall_rating | Label |\n",
       "|---|---|---|---|---|---|---|---|---|---|---|---|---|---|---|---|---|---|---|---|---|\n",
       "| 1                  | Aaron Appindangoye | 1992-02-29         | right              | 27                 | 183                | 187                | 71                 | 1                  | 0                  | ...                | 65                 | 69                 | 69                 |  6                 | 11                 | 10                 | 8                  |  8                 | 67                 | 0                  |\n",
       "| 2                  | Aaron Cresswell    | 1989-12-15         | right              | 30                 | 170                | 146                | 71                 | 1                  | 0                  | ...                | 65                 | 69                 | 69                 |  6                 | 11                 | 10                 | 8                  |  8                 | 67                 | 0                  |\n",
       "| 3                  | Aaron Doran        | 1991-05-13         | right              | 28                 | 170                | 163                | 66                 | 1                  | 0                  | ...                | 65                 | 66                 | 69                 |  6                 | 11                 | 10                 | 8                  |  8                 | 62                 | 0                  |\n",
       "| 4                  | Aaron Galindo      | 1982-05-08         | right              | 37                 | 183                | 198                | 65                 | 1                  | 0                  | ...                | 62                 | 63                 | 66                 |  5                 | 10                 |  9                 | 7                  |  7                 | 61                 | 0                  |\n",
       "| 5                  | Aaron Hughes       | 1979-11-08         | right              | 40                 | 183                | 154                | 65                 | 1                  | 0                  | ...                | 62                 | 63                 | 66                 |  5                 | 10                 |  9                 | 7                  |  7                 | 61                 | 0                  |\n",
       "| 6                  | Aaron Hunt         | 1986-09-04         | left               | 33                 | 183                | 161                | 76                 | 0                  | 1                  | ...                | 76                 | 75                 | 78                 | 14                 |  7                 |  9                 | 9                  | 12                 | 74                 | 1                  |\n",
       "\n"
      ],
      "text/plain": [
       "  id player_name        birthday   preferred_foot age height weight potential\n",
       "1 1  Aaron Appindangoye 1992-02-29 right          27  183    187    71       \n",
       "2 2  Aaron Cresswell    1989-12-15 right          30  170    146    71       \n",
       "3 3  Aaron Doran        1991-05-13 right          28  170    163    66       \n",
       "4 4  Aaron Galindo      1982-05-08 right          37  183    198    65       \n",
       "5 5  Aaron Hughes       1979-11-08 right          40  183    154    65       \n",
       "6 6  Aaron Hunt         1986-09-04 left           33  183    161    76       \n",
       "  right_foot left_foot ... marking standing_tackle sliding_tackle gk_diving\n",
       "1 1          0         ... 65      69              69              6       \n",
       "2 1          0         ... 65      69              69              6       \n",
       "3 1          0         ... 65      66              69              6       \n",
       "4 1          0         ... 62      63              66              5       \n",
       "5 1          0         ... 62      63              66              5       \n",
       "6 0          1         ... 76      75              78             14       \n",
       "  gk_handling gk_kicking gk_positioning gk_reflexes overall_rating Label\n",
       "1 11          10         8               8          67             0    \n",
       "2 11          10         8               8          67             0    \n",
       "3 11          10         8               8          62             0    \n",
       "4 10           9         7               7          61             0    \n",
       "5 10           9         7               7          61             0    \n",
       "6  7           9         9              12          74             1    "
      ]
     },
     "metadata": {},
     "output_type": "display_data"
    }
   ],
   "source": [
    "df<-read.csv('d:/data/soccer/player.csv')\n",
    "head(df)"
   ]
  },
  {
   "cell_type": "code",
   "execution_count": 2,
   "metadata": {},
   "outputs": [
    {
     "name": "stderr",
     "output_type": "stream",
     "text": [
      "Warning message:\n",
      "\"package 'dplyr' was built under R version 3.6.2\"\n",
      "Attaching package: 'dplyr'\n",
      "\n",
      "The following objects are masked from 'package:stats':\n",
      "\n",
      "    filter, lag\n",
      "\n",
      "The following objects are masked from 'package:base':\n",
      "\n",
      "    intersect, setdiff, setequal, union\n",
      "\n"
     ]
    },
    {
     "data": {
      "text/html": [
       "<ol class=list-inline>\n",
       "\t<li>10935</li>\n",
       "\t<li>40</li>\n",
       "</ol>\n"
      ],
      "text/latex": [
       "\\begin{enumerate*}\n",
       "\\item 10935\n",
       "\\item 40\n",
       "\\end{enumerate*}\n"
      ],
      "text/markdown": [
       "1. 10935\n",
       "2. 40\n",
       "\n",
       "\n"
      ],
      "text/plain": [
       "[1] 10935    40"
      ]
     },
     "metadata": {},
     "output_type": "display_data"
    },
    {
     "data": {
      "text/html": [
       "<table>\n",
       "<thead><tr><th scope=col>age</th><th scope=col>height</th><th scope=col>weight</th><th scope=col>potential</th><th scope=col>right_foot</th><th scope=col>left_foot</th><th scope=col>crossing</th><th scope=col>finishing</th><th scope=col>heading_accuracy</th><th scope=col>short_passing</th><th scope=col>...</th><th scope=col>penalties</th><th scope=col>marking</th><th scope=col>standing_tackle</th><th scope=col>sliding_tackle</th><th scope=col>gk_diving</th><th scope=col>gk_handling</th><th scope=col>gk_kicking</th><th scope=col>gk_positioning</th><th scope=col>gk_reflexes</th><th scope=col>Label</th></tr></thead>\n",
       "<tbody>\n",
       "\t<tr><td>27 </td><td>183</td><td>187</td><td>71 </td><td>1  </td><td>0  </td><td>49 </td><td>44 </td><td>71 </td><td>61 </td><td>...</td><td>48 </td><td>65 </td><td>69 </td><td>69 </td><td> 6 </td><td>11 </td><td>10 </td><td>8  </td><td> 8 </td><td>0  </td></tr>\n",
       "\t<tr><td>30 </td><td>170</td><td>146</td><td>71 </td><td>1  </td><td>0  </td><td>49 </td><td>44 </td><td>71 </td><td>61 </td><td>...</td><td>48 </td><td>65 </td><td>69 </td><td>69 </td><td> 6 </td><td>11 </td><td>10 </td><td>8  </td><td> 8 </td><td>0  </td></tr>\n",
       "\t<tr><td>28 </td><td>170</td><td>163</td><td>66 </td><td>1  </td><td>0  </td><td>49 </td><td>44 </td><td>71 </td><td>61 </td><td>...</td><td>48 </td><td>65 </td><td>66 </td><td>69 </td><td> 6 </td><td>11 </td><td>10 </td><td>8  </td><td> 8 </td><td>0  </td></tr>\n",
       "\t<tr><td>37 </td><td>183</td><td>198</td><td>65 </td><td>1  </td><td>0  </td><td>48 </td><td>43 </td><td>70 </td><td>60 </td><td>...</td><td>47 </td><td>62 </td><td>63 </td><td>66 </td><td> 5 </td><td>10 </td><td> 9 </td><td>7  </td><td> 7 </td><td>0  </td></tr>\n",
       "\t<tr><td>40 </td><td>183</td><td>154</td><td>65 </td><td>1  </td><td>0  </td><td>48 </td><td>43 </td><td>70 </td><td>60 </td><td>...</td><td>47 </td><td>62 </td><td>63 </td><td>66 </td><td> 5 </td><td>10 </td><td> 9 </td><td>7  </td><td> 7 </td><td>0  </td></tr>\n",
       "\t<tr><td>33 </td><td>183</td><td>161</td><td>76 </td><td>0  </td><td>1  </td><td>80 </td><td>53 </td><td>58 </td><td>71 </td><td>...</td><td>59 </td><td>76 </td><td>75 </td><td>78 </td><td>14 </td><td> 7 </td><td> 9 </td><td>9  </td><td>12 </td><td>1  </td></tr>\n",
       "</tbody>\n",
       "</table>\n"
      ],
      "text/latex": [
       "\\begin{tabular}{r|llllllllllllllllllllllllllllllllllllllll}\n",
       " age & height & weight & potential & right\\_foot & left\\_foot & crossing & finishing & heading\\_accuracy & short\\_passing & ... & penalties & marking & standing\\_tackle & sliding\\_tackle & gk\\_diving & gk\\_handling & gk\\_kicking & gk\\_positioning & gk\\_reflexes & Label\\\\\n",
       "\\hline\n",
       "\t 27  & 183 & 187 & 71  & 1   & 0   & 49  & 44  & 71  & 61  & ... & 48  & 65  & 69  & 69  &  6  & 11  & 10  & 8   &  8  & 0  \\\\\n",
       "\t 30  & 170 & 146 & 71  & 1   & 0   & 49  & 44  & 71  & 61  & ... & 48  & 65  & 69  & 69  &  6  & 11  & 10  & 8   &  8  & 0  \\\\\n",
       "\t 28  & 170 & 163 & 66  & 1   & 0   & 49  & 44  & 71  & 61  & ... & 48  & 65  & 66  & 69  &  6  & 11  & 10  & 8   &  8  & 0  \\\\\n",
       "\t 37  & 183 & 198 & 65  & 1   & 0   & 48  & 43  & 70  & 60  & ... & 47  & 62  & 63  & 66  &  5  & 10  &  9  & 7   &  7  & 0  \\\\\n",
       "\t 40  & 183 & 154 & 65  & 1   & 0   & 48  & 43  & 70  & 60  & ... & 47  & 62  & 63  & 66  &  5  & 10  &  9  & 7   &  7  & 0  \\\\\n",
       "\t 33  & 183 & 161 & 76  & 0   & 1   & 80  & 53  & 58  & 71  & ... & 59  & 76  & 75  & 78  & 14  &  7  &  9  & 9   & 12  & 1  \\\\\n",
       "\\end{tabular}\n"
      ],
      "text/markdown": [
       "\n",
       "| age | height | weight | potential | right_foot | left_foot | crossing | finishing | heading_accuracy | short_passing | ... | penalties | marking | standing_tackle | sliding_tackle | gk_diving | gk_handling | gk_kicking | gk_positioning | gk_reflexes | Label |\n",
       "|---|---|---|---|---|---|---|---|---|---|---|---|---|---|---|---|---|---|---|---|---|\n",
       "| 27  | 183 | 187 | 71  | 1   | 0   | 49  | 44  | 71  | 61  | ... | 48  | 65  | 69  | 69  |  6  | 11  | 10  | 8   |  8  | 0   |\n",
       "| 30  | 170 | 146 | 71  | 1   | 0   | 49  | 44  | 71  | 61  | ... | 48  | 65  | 69  | 69  |  6  | 11  | 10  | 8   |  8  | 0   |\n",
       "| 28  | 170 | 163 | 66  | 1   | 0   | 49  | 44  | 71  | 61  | ... | 48  | 65  | 66  | 69  |  6  | 11  | 10  | 8   |  8  | 0   |\n",
       "| 37  | 183 | 198 | 65  | 1   | 0   | 48  | 43  | 70  | 60  | ... | 47  | 62  | 63  | 66  |  5  | 10  |  9  | 7   |  7  | 0   |\n",
       "| 40  | 183 | 154 | 65  | 1   | 0   | 48  | 43  | 70  | 60  | ... | 47  | 62  | 63  | 66  |  5  | 10  |  9  | 7   |  7  | 0   |\n",
       "| 33  | 183 | 161 | 76  | 0   | 1   | 80  | 53  | 58  | 71  | ... | 59  | 76  | 75  | 78  | 14  |  7  |  9  | 9   | 12  | 1   |\n",
       "\n"
      ],
      "text/plain": [
       "  age height weight potential right_foot left_foot crossing finishing\n",
       "1 27  183    187    71        1          0         49       44       \n",
       "2 30  170    146    71        1          0         49       44       \n",
       "3 28  170    163    66        1          0         49       44       \n",
       "4 37  183    198    65        1          0         48       43       \n",
       "5 40  183    154    65        1          0         48       43       \n",
       "6 33  183    161    76        0          1         80       53       \n",
       "  heading_accuracy short_passing ... penalties marking standing_tackle\n",
       "1 71               61            ... 48        65      69             \n",
       "2 71               61            ... 48        65      69             \n",
       "3 71               61            ... 48        65      66             \n",
       "4 70               60            ... 47        62      63             \n",
       "5 70               60            ... 47        62      63             \n",
       "6 58               71            ... 59        76      75             \n",
       "  sliding_tackle gk_diving gk_handling gk_kicking gk_positioning gk_reflexes\n",
       "1 69              6        11          10         8               8         \n",
       "2 69              6        11          10         8               8         \n",
       "3 69              6        11          10         8               8         \n",
       "4 66              5        10           9         7               7         \n",
       "5 66              5        10           9         7               7         \n",
       "6 78             14         7           9         9              12         \n",
       "  Label\n",
       "1 0    \n",
       "2 0    \n",
       "3 0    \n",
       "4 0    \n",
       "5 0    \n",
       "6 1    "
      ]
     },
     "metadata": {},
     "output_type": "display_data"
    }
   ],
   "source": [
    "library(dplyr)\n",
    "df<-df %>% select(-id, -player_name,-birthday,-preferred_foot,-overall_rating)\n",
    "dim(df)\n",
    "head(df)"
   ]
  },
  {
   "cell_type": "code",
   "execution_count": 3,
   "metadata": {},
   "outputs": [
    {
     "data": {
      "text/plain": [
       "\n",
       "   0    1 \n",
       "5230 5705 "
      ]
     },
     "metadata": {},
     "output_type": "display_data"
    },
    {
     "data": {
      "image/png": "[encoded data removed]",
      "text/plain": [
       "plot without title"
      ]
     },
     "metadata": {},
     "output_type": "display_data"
    }
   ],
   "source": [
    "(tbl<-table(df$Label))\n",
    "barplot(tbl,beside=T,legend=T,col=rainbow(2))"
   ]
  },
  {
   "cell_type": "code",
   "execution_count": 4,
   "metadata": {},
   "outputs": [
    {
     "name": "stderr",
     "output_type": "stream",
     "text": [
      "Warning message:\n",
      "\"package 'ROSE' was built under R version 3.6.2\"Loaded ROSE 0.0-3\n",
      "\n"
     ]
    },
    {
     "data": {
      "text/plain": [
       "\n",
       "   0    1 \n",
       "5230 5230 "
      ]
     },
     "metadata": {},
     "output_type": "display_data"
    }
   ],
   "source": [
    "#언더샘플링\n",
    "library(ROSE)\n",
    "df_samp<-ovun.sample(Label ~ . , data=df, seed=1, method='under',\n",
    "                    N=5230*2)$data\n",
    "table(df_samp$Label)"
   ]
  },
  {
   "cell_type": "code",
   "execution_count": 5,
   "metadata": {},
   "outputs": [
    {
     "name": "stderr",
     "output_type": "stream",
     "text": [
      "Loading required package: lattice\n",
      "Warning message:\n",
      "\"package 'lattice' was built under R version 3.6.2\"Loading required package: ggplot2\n",
      "Warning message:\n",
      "\"package 'ggplot2' was built under R version 3.6.2\""
     ]
    }
   ],
   "source": [
    "#학습용:검증용 8:2 구분\n",
    "library(caret)\n",
    "set.seed(123)\n",
    "idx_train<-createDataPartition(y=df_samp$Label, p=0.8, list=F)\n",
    "train<-df_samp[idx_train,]\n",
    "X_train<-train[,-40]\n",
    "y_train<-train[,40]\n",
    "test<-df_samp[-idx_train,]\n",
    "X_test<-test[,-40]\n",
    "y_test<-test[,40]"
   ]
  },
  {
   "cell_type": "code",
   "execution_count": 6,
   "metadata": {},
   "outputs": [
    {
     "name": "stderr",
     "output_type": "stream",
     "text": [
      "Warning message:\n",
      "\"package 'reshape' was built under R version 3.6.2\"\n",
      "Attaching package: 'reshape'\n",
      "\n",
      "The following object is masked from 'package:dplyr':\n",
      "\n",
      "    rename\n",
      "\n",
      "Using  as id variables\n"
     ]
    },
    {
     "data": {
      "image/png": "[encoded data removed]",
      "text/plain": [
       "plot without title"
      ]
     },
     "metadata": {},
     "output_type": "display_data"
    }
   ],
   "source": [
    "library(reshape)\n",
    "#scaling 전의 박스플롯\n",
    "meltData<-melt(X_train)\n",
    "boxplot(data=meltData,value~variable)"
   ]
  },
  {
   "cell_type": "code",
   "execution_count": 7,
   "metadata": {},
   "outputs": [],
   "source": [
    "#scale() 변수들의 평균,표준편차들 비슷하게 맞추고 데이터프레임으로 변환\n",
    "X_train_scaled<-as.data.frame(scale(X_train))\n",
    "X_test_scaled<-as.data.frame(scale(X_test))\n",
    "#스케일링된 독립변수들과 종속변수 연결\n",
    "train_scaled<-cbind(X_train_scaled,Label=y_train)\n",
    "test_scaled<-cbind(X_test_scaled,Label=y_test)"
   ]
  },
  {
   "cell_type": "code",
   "execution_count": 8,
   "metadata": {},
   "outputs": [
    {
     "name": "stderr",
     "output_type": "stream",
     "text": [
      "Using  as id variables\n"
     ]
    },
    {
     "data": {
      "image/png": "[encoded data removed]",
      "text/plain": [
       "plot without title"
      ]
     },
     "metadata": {},
     "output_type": "display_data"
    }
   ],
   "source": [
    "#scaling 후의 박스플롯\n",
    "meltData<-melt(X_train_scaled)\n",
    "boxplot(data=meltData,value~variable)"
   ]
  },
  {
   "cell_type": "code",
   "execution_count": 9,
   "metadata": {},
   "outputs": [
    {
     "data": {
      "text/plain": [
       "\n",
       "Call:\n",
       "glm(formula = Label ~ ., family = binomial, data = train_scaled)\n",
       "\n",
       "Deviance Residuals: \n",
       "    Min       1Q   Median       3Q      Max  \n",
       "-3.2104  -0.2405   0.0004   0.2444   3.5104  \n",
       "\n",
       "Coefficients: (1 not defined because of singularities)\n",
       "                   Estimate Std. Error z value Pr(>|z|)    \n",
       "(Intercept)        -0.14918    0.04255  -3.506 0.000455 ***\n",
       "age                -0.02232    0.04195  -0.532 0.594653    \n",
       "height             -0.03815    0.06388  -0.597 0.550426    \n",
       "weight              0.06859    0.06497   1.056 0.291100    \n",
       "potential           1.88091    0.07382  25.478  < 2e-16 ***\n",
       "right_foot          0.08062    0.04239   1.902 0.057212 .  \n",
       "left_foot                NA         NA      NA       NA    \n",
       "crossing            0.26013    0.09301   2.797 0.005160 ** \n",
       "finishing           0.29694    0.11409   2.603 0.009248 ** \n",
       "heading_accuracy    0.95502    0.08600  11.105  < 2e-16 ***\n",
       "short_passing       0.26581    0.13378   1.987 0.046929 *  \n",
       "volleys            -0.28084    0.09723  -2.888 0.003872 ** \n",
       "dribbling           0.03882    0.14522   0.267 0.789233    \n",
       "curve               0.40248    0.09031   4.457 8.33e-06 ***\n",
       "free_kick_accuracy  0.46267    0.08296   5.577 2.45e-08 ***\n",
       "long_passing        0.14516    0.08535   1.701 0.088983 .  \n",
       "ball_control        1.59983    0.16329   9.797  < 2e-16 ***\n",
       "acceleration       -0.51548    0.12073  -4.270 1.96e-05 ***\n",
       "sprint_speed        0.54797    0.10265   5.338 9.40e-08 ***\n",
       "agility            -0.10308    0.08908  -1.157 0.247190    \n",
       "reactions           1.64558    0.07784  21.140  < 2e-16 ***\n",
       "balance             0.03227    0.07328   0.440 0.659723    \n",
       "shot_power          0.39303    0.08745   4.494 6.98e-06 ***\n",
       "jumping             0.14805    0.05030   2.943 0.003250 ** \n",
       "stamina            -0.15268    0.06858  -2.226 0.025993 *  \n",
       "strength            0.40833    0.07297   5.596 2.19e-08 ***\n",
       "long_shots         -0.59319    0.10410  -5.698 1.21e-08 ***\n",
       "aggression          0.37459    0.07026   5.331 9.75e-08 ***\n",
       "interceptions       0.13775    0.10217   1.348 0.177584    \n",
       "positioning        -0.33862    0.09939  -3.407 0.000656 ***\n",
       "vision              0.28535    0.09059   3.150 0.001633 ** \n",
       "penalties           0.05631    0.07330   0.768 0.442303    \n",
       "marking             0.71998    0.15361   4.687 2.77e-06 ***\n",
       "standing_tackle    -0.07233    0.17477  -0.414 0.678997    \n",
       "sliding_tackle     -0.70135    0.15752  -4.452 8.49e-06 ***\n",
       "gk_diving           1.60520    0.15942  10.069  < 2e-16 ***\n",
       "gk_handling         0.53053    0.17995   2.948 0.003197 ** \n",
       "gk_kicking         -0.43456    0.08803  -4.936 7.96e-07 ***\n",
       "gk_positioning      1.43734    0.20389   7.050 1.79e-12 ***\n",
       "gk_reflexes        -0.48465    0.18668  -2.596 0.009428 ** \n",
       "---\n",
       "Signif. codes:  0 '***' 0.001 '**' 0.01 '*' 0.05 '.' 0.1 ' ' 1\n",
       "\n",
       "(Dispersion parameter for binomial family taken to be 1)\n",
       "\n",
       "    Null deviance: 11600.5  on 8367  degrees of freedom\n",
       "Residual deviance:  3911.6  on 8329  degrees of freedom\n",
       "AIC: 3989.6\n",
       "\n",
       "Number of Fisher Scoring iterations: 7\n"
      ]
     },
     "metadata": {},
     "output_type": "display_data"
    }
   ],
   "source": [
    "#로지스틱 회귀분석 모형\n",
    "model<-glm(Label ~ . , data=train_scaled, family=binomial)\n",
    "summary(model)"
   ]
  },
  {
   "cell_type": "code",
   "execution_count": 10,
   "metadata": {},
   "outputs": [
    {
     "name": "stdout",
     "output_type": "stream",
     "text": [
      "Start:  AIC=3989.61\n",
      "Label ~ age + height + weight + potential + right_foot + left_foot + \n",
      "    crossing + finishing + heading_accuracy + short_passing + \n",
      "    volleys + dribbling + curve + free_kick_accuracy + long_passing + \n",
      "    ball_control + acceleration + sprint_speed + agility + reactions + \n",
      "    balance + shot_power + jumping + stamina + strength + long_shots + \n",
      "    aggression + interceptions + positioning + vision + penalties + \n",
      "    marking + standing_tackle + sliding_tackle + gk_diving + \n",
      "    gk_handling + gk_kicking + gk_positioning + gk_reflexes\n",
      "\n",
      "\n",
      "Step:  AIC=3989.61\n",
      "Label ~ age + height + weight + potential + right_foot + crossing + \n",
      "    finishing + heading_accuracy + short_passing + volleys + \n",
      "    dribbling + curve + free_kick_accuracy + long_passing + ball_control + \n",
      "    acceleration + sprint_speed + agility + reactions + balance + \n",
      "    shot_power + jumping + stamina + strength + long_shots + \n",
      "    aggression + interceptions + positioning + vision + penalties + \n",
      "    marking + standing_tackle + sliding_tackle + gk_diving + \n",
      "    gk_handling + gk_kicking + gk_positioning + gk_reflexes\n",
      "\n",
      "                     Df Deviance    AIC\n",
      "- dribbling           1   3911.7 3987.7\n",
      "- standing_tackle     1   3911.8 3987.8\n",
      "- balance             1   3911.8 3987.8\n",
      "- age                 1   3911.9 3987.9\n",
      "- height              1   3912.0 3988.0\n",
      "- penalties           1   3912.2 3988.2\n",
      "- weight              1   3912.7 3988.7\n",
      "- agility             1   3912.9 3988.9\n",
      "- interceptions       1   3913.4 3989.4\n",
      "<none>                    3911.6 3989.6\n",
      "- long_passing        1   3914.5 3990.5\n",
      "- right_foot          1   3915.2 3991.2\n",
      "- short_passing       1   3915.6 3991.6\n",
      "- stamina             1   3916.6 3992.6\n",
      "- gk_reflexes         1   3918.3 3994.3\n",
      "- finishing           1   3918.4 3994.4\n",
      "- crossing            1   3919.5 3995.5\n",
      "- volleys             1   3920.0 3996.0\n",
      "- jumping             1   3920.3 3996.3\n",
      "- gk_handling         1   3920.3 3996.3\n",
      "- vision              1   3921.5 3997.5\n",
      "- positioning         1   3923.3 3999.3\n",
      "- acceleration        1   3930.1 4006.1\n",
      "- curve               1   3931.4 4007.4\n",
      "- sliding_tackle      1   3931.7 4007.7\n",
      "- shot_power          1   3931.9 4007.9\n",
      "- marking             1   3934.0 4010.0\n",
      "- gk_kicking          1   3936.1 4012.1\n",
      "- aggression          1   3940.5 4016.5\n",
      "- sprint_speed        1   3940.7 4016.7\n",
      "- free_kick_accuracy  1   3943.1 4019.1\n",
      "- strength            1   3943.5 4019.5\n",
      "- long_shots          1   3944.5 4020.5\n",
      "- gk_positioning      1   3962.9 4038.9\n",
      "- ball_control        1   4013.2 4089.2\n",
      "- gk_diving           1   4017.8 4093.8\n",
      "- heading_accuracy    1   4042.9 4118.9\n",
      "- reactions           1   4481.6 4557.6\n",
      "- potential           1   4760.2 4836.2\n",
      "\n",
      "Step:  AIC=3987.68\n",
      "Label ~ age + height + weight + potential + right_foot + crossing + \n",
      "    finishing + heading_accuracy + short_passing + volleys + \n",
      "    curve + free_kick_accuracy + long_passing + ball_control + \n",
      "    acceleration + sprint_speed + agility + reactions + balance + \n",
      "    shot_power + jumping + stamina + strength + long_shots + \n",
      "    aggression + interceptions + positioning + vision + penalties + \n",
      "    marking + standing_tackle + sliding_tackle + gk_diving + \n",
      "    gk_handling + gk_kicking + gk_positioning + gk_reflexes\n",
      "\n",
      "                     Df Deviance    AIC\n",
      "- standing_tackle     1   3911.9 3985.9\n",
      "- balance             1   3911.9 3985.9\n",
      "- age                 1   3912.0 3986.0\n",
      "- height              1   3912.0 3986.0\n",
      "- penalties           1   3912.2 3986.2\n",
      "- weight              1   3912.8 3986.8\n",
      "- agility             1   3913.0 3987.0\n",
      "- interceptions       1   3913.6 3987.6\n",
      "<none>                    3911.7 3987.7\n",
      "- long_passing        1   3914.6 3988.6\n",
      "- right_foot          1   3915.3 3989.3\n",
      "- short_passing       1   3915.8 3989.8\n",
      "- stamina             1   3916.8 3990.8\n",
      "- gk_reflexes         1   3918.4 3992.4\n",
      "- finishing           1   3918.8 3992.8\n",
      "- volleys             1   3920.0 3994.0\n",
      "- crossing            1   3920.2 3994.2\n",
      "- jumping             1   3920.3 3994.3\n",
      "- gk_handling         1   3920.4 3994.4\n",
      "- vision              1   3921.6 3995.6\n",
      "- positioning         1   3923.3 3997.3\n",
      "- acceleration        1   3930.1 4004.1\n",
      "- sliding_tackle      1   3931.7 4005.7\n",
      "- curve               1   3932.0 4006.0\n",
      "- shot_power          1   3932.2 4006.2\n",
      "- marking             1   3934.0 4008.0\n",
      "- gk_kicking          1   3936.7 4010.7\n",
      "- aggression          1   3940.6 4014.6\n",
      "- sprint_speed        1   3940.9 4014.9\n",
      "- free_kick_accuracy  1   3943.2 4017.2\n",
      "- strength            1   3943.5 4017.5\n",
      "- long_shots          1   3944.5 4018.5\n",
      "- gk_positioning      1   3963.2 4037.2\n",
      "- gk_diving           1   4018.1 4092.1\n",
      "- ball_control        1   4033.6 4107.6\n",
      "- heading_accuracy    1   4042.9 4116.9\n",
      "- reactions           1   4482.4 4556.4\n",
      "- potential           1   4762.9 4836.9\n",
      "\n",
      "Step:  AIC=3985.87\n",
      "Label ~ age + height + weight + potential + right_foot + crossing + \n",
      "    finishing + heading_accuracy + short_passing + volleys + \n",
      "    curve + free_kick_accuracy + long_passing + ball_control + \n",
      "    acceleration + sprint_speed + agility + reactions + balance + \n",
      "    shot_power + jumping + stamina + strength + long_shots + \n",
      "    aggression + interceptions + positioning + vision + penalties + \n",
      "    marking + sliding_tackle + gk_diving + gk_handling + gk_kicking + \n",
      "    gk_positioning + gk_reflexes\n",
      "\n",
      "                     Df Deviance    AIC\n",
      "- balance             1   3912.0 3984.0\n",
      "- age                 1   3912.1 3984.1\n",
      "- height              1   3912.2 3984.2\n",
      "- penalties           1   3912.4 3984.4\n",
      "- weight              1   3913.0 3985.0\n",
      "- agility             1   3913.1 3985.1\n",
      "- interceptions       1   3913.6 3985.6\n",
      "<none>                    3911.9 3985.9\n",
      "- long_passing        1   3914.7 3986.7\n",
      "- right_foot          1   3915.5 3987.5\n",
      "- short_passing       1   3915.9 3987.9\n",
      "- stamina             1   3917.2 3989.2\n",
      "- gk_reflexes         1   3918.6 3990.6\n",
      "- finishing           1   3919.4 3991.4\n",
      "- volleys             1   3920.3 3992.3\n",
      "- jumping             1   3920.6 3992.6\n",
      "- crossing            1   3920.6 3992.6\n",
      "- gk_handling         1   3920.8 3992.8\n",
      "- vision              1   3921.7 3993.7\n",
      "- positioning         1   3923.6 3995.6\n",
      "- acceleration        1   3930.2 4002.2\n",
      "- curve               1   3932.2 4004.2\n",
      "- shot_power          1   3932.4 4004.4\n",
      "- gk_kicking          1   3936.8 4008.8\n",
      "- marking             1   3937.0 4009.0\n",
      "- sliding_tackle      1   3940.3 4012.3\n",
      "- aggression          1   3940.6 4012.6\n",
      "- sprint_speed        1   3941.0 4013.0\n",
      "- free_kick_accuracy  1   3943.3 4015.3\n",
      "- strength            1   3943.6 4015.6\n",
      "- long_shots          1   3945.3 4017.3\n",
      "- gk_positioning      1   3963.2 4035.2\n",
      "- gk_diving           1   4018.6 4090.6\n",
      "- ball_control        1   4034.2 4106.2\n",
      "- heading_accuracy    1   4043.6 4115.6\n",
      "- reactions           1   4482.6 4554.6\n",
      "- potential           1   4764.0 4836.0\n",
      "\n",
      "Step:  AIC=3984.05\n",
      "Label ~ age + height + weight + potential + right_foot + crossing + \n",
      "    finishing + heading_accuracy + short_passing + volleys + \n",
      "    curve + free_kick_accuracy + long_passing + ball_control + \n",
      "    acceleration + sprint_speed + agility + reactions + shot_power + \n",
      "    jumping + stamina + strength + long_shots + aggression + \n",
      "    interceptions + positioning + vision + penalties + marking + \n",
      "    sliding_tackle + gk_diving + gk_handling + gk_kicking + gk_positioning + \n",
      "    gk_reflexes\n",
      "\n",
      "                     Df Deviance    AIC\n",
      "- age                 1   3912.3 3982.3\n",
      "- height              1   3912.4 3982.4\n",
      "- penalties           1   3912.7 3982.7\n",
      "- agility             1   3913.1 3983.1\n",
      "- weight              1   3913.2 3983.2\n",
      "- interceptions       1   3913.7 3983.7\n",
      "<none>                    3912.0 3984.0\n",
      "- long_passing        1   3914.8 3984.8\n",
      "- right_foot          1   3915.6 3985.6\n",
      "- short_passing       1   3916.2 3986.2\n",
      "- stamina             1   3917.6 3987.6\n",
      "- gk_reflexes         1   3918.7 3988.7\n",
      "- finishing           1   3919.6 3989.6\n",
      "- volleys             1   3920.5 3990.5\n",
      "- crossing            1   3920.7 3990.7\n",
      "- gk_handling         1   3921.0 3991.0\n",
      "- jumping             1   3921.9 3991.9\n",
      "- vision              1   3922.4 3992.4\n",
      "- positioning         1   3923.6 3993.6\n",
      "- acceleration        1   3930.6 4000.6\n",
      "- curve               1   3932.4 4002.4\n",
      "- shot_power          1   3932.5 4002.5\n",
      "- marking             1   3937.5 4007.5\n",
      "- gk_kicking          1   3937.6 4007.6\n",
      "- sliding_tackle      1   3940.5 4010.5\n",
      "- sprint_speed        1   3941.1 4011.1\n",
      "- aggression          1   3941.9 4011.9\n",
      "- free_kick_accuracy  1   3943.5 4013.5\n",
      "- strength            1   3944.5 4014.5\n",
      "- long_shots          1   3945.9 4015.9\n",
      "- gk_positioning      1   3963.4 4033.4\n",
      "- gk_diving           1   4018.6 4088.6\n",
      "- ball_control        1   4034.2 4104.2\n",
      "- heading_accuracy    1   4043.8 4113.8\n",
      "- reactions           1   4483.7 4553.7\n",
      "- potential           1   4767.7 4837.7\n",
      "\n",
      "Step:  AIC=3982.32\n",
      "Label ~ height + weight + potential + right_foot + crossing + \n",
      "    finishing + heading_accuracy + short_passing + volleys + \n",
      "    curve + free_kick_accuracy + long_passing + ball_control + \n",
      "    acceleration + sprint_speed + agility + reactions + shot_power + \n",
      "    jumping + stamina + strength + long_shots + aggression + \n",
      "    interceptions + positioning + vision + penalties + marking + \n",
      "    sliding_tackle + gk_diving + gk_handling + gk_kicking + gk_positioning + \n",
      "    gk_reflexes\n",
      "\n",
      "                     Df Deviance    AIC\n",
      "- height              1   3912.6 3980.6\n",
      "- penalties           1   3913.0 3981.0\n",
      "- weight              1   3913.3 3981.3\n",
      "- agility             1   3913.4 3981.4\n",
      "- interceptions       1   3914.0 3982.0\n",
      "<none>                    3912.3 3982.3\n",
      "- long_passing        1   3915.1 3983.1\n",
      "- right_foot          1   3915.9 3983.9\n",
      "- short_passing       1   3916.5 3984.5\n",
      "- stamina             1   3917.8 3985.8\n",
      "- gk_reflexes         1   3918.9 3986.9\n",
      "- finishing           1   3919.9 3987.9\n",
      "- volleys             1   3920.7 3988.7\n",
      "- crossing            1   3921.0 3989.0\n",
      "- gk_handling         1   3921.3 3989.3\n",
      "- jumping             1   3922.3 3990.3\n",
      "- vision              1   3922.7 3990.7\n",
      "- positioning         1   3923.9 3991.9\n",
      "- acceleration        1   3930.9 3998.9\n",
      "- shot_power          1   3932.6 4000.6\n",
      "- curve               1   3932.7 4000.7\n",
      "- gk_kicking          1   3937.8 4005.8\n",
      "- marking             1   3938.0 4006.0\n",
      "- sliding_tackle      1   3940.9 4008.9\n",
      "- sprint_speed        1   3941.4 4009.4\n",
      "- aggression          1   3942.2 4010.2\n",
      "- free_kick_accuracy  1   3943.9 4011.9\n",
      "- strength            1   3944.7 4012.7\n",
      "- long_shots          1   3946.2 4014.2\n",
      "- gk_positioning      1   3963.7 4031.7\n",
      "- gk_diving           1   4018.9 4086.9\n",
      "- ball_control        1   4034.3 4102.3\n",
      "- heading_accuracy    1   4044.0 4112.0\n",
      "- reactions           1   4484.4 4552.4\n",
      "- potential           1   4768.1 4836.1\n",
      "\n",
      "Step:  AIC=3980.6\n",
      "Label ~ weight + potential + right_foot + crossing + finishing + \n",
      "    heading_accuracy + short_passing + volleys + curve + free_kick_accuracy + \n",
      "    long_passing + ball_control + acceleration + sprint_speed + \n",
      "    agility + reactions + shot_power + jumping + stamina + strength + \n",
      "    long_shots + aggression + interceptions + positioning + vision + \n",
      "    penalties + marking + sliding_tackle + gk_diving + gk_handling + \n",
      "    gk_kicking + gk_positioning + gk_reflexes\n",
      "\n",
      "                     Df Deviance    AIC\n",
      "- penalties           1   3913.3 3979.3\n",
      "- weight              1   3913.4 3979.4\n",
      "- agility             1   3913.7 3979.7\n",
      "- interceptions       1   3914.3 3980.3\n",
      "<none>                    3912.6 3980.6\n",
      "- long_passing        1   3915.4 3981.4\n",
      "- right_foot          1   3916.2 3982.2\n",
      "- short_passing       1   3916.8 3982.8\n",
      "- stamina             1   3918.1 3984.1\n",
      "- gk_reflexes         1   3919.3 3985.3\n",
      "- finishing           1   3920.1 3986.1\n",
      "- volleys             1   3921.0 3987.0\n",
      "- crossing            1   3921.4 3987.4\n",
      "- gk_handling         1   3921.6 3987.6\n",
      "- jumping             1   3922.6 3988.6\n",
      "- vision              1   3922.9 3988.9\n",
      "- positioning         1   3924.2 3990.2\n",
      "- acceleration        1   3931.3 3997.3\n",
      "- shot_power          1   3932.8 3998.8\n",
      "- curve               1   3932.9 3998.9\n",
      "- gk_kicking          1   3938.0 4004.0\n",
      "- marking             1   3938.3 4004.3\n",
      "- sliding_tackle      1   3941.2 4007.2\n",
      "- sprint_speed        1   3941.8 4007.8\n",
      "- aggression          1   3942.3 4008.3\n",
      "- free_kick_accuracy  1   3944.1 4010.1\n",
      "- strength            1   3945.1 4011.1\n",
      "- long_shots          1   3946.4 4012.4\n",
      "- gk_positioning      1   3964.0 4030.0\n",
      "- gk_diving           1   4019.0 4085.0\n",
      "- ball_control        1   4034.7 4100.7\n",
      "- heading_accuracy    1   4044.2 4110.2\n",
      "- reactions           1   4484.4 4550.4\n",
      "- potential           1   4768.1 4834.1\n",
      "\n",
      "Step:  AIC=3979.25\n",
      "Label ~ weight + potential + right_foot + crossing + finishing + \n",
      "    heading_accuracy + short_passing + volleys + curve + free_kick_accuracy + \n",
      "    long_passing + ball_control + acceleration + sprint_speed + \n",
      "    agility + reactions + shot_power + jumping + stamina + strength + \n",
      "    long_shots + aggression + interceptions + positioning + vision + \n",
      "    marking + sliding_tackle + gk_diving + gk_handling + gk_kicking + \n",
      "    gk_positioning + gk_reflexes\n",
      "\n",
      "                     Df Deviance    AIC\n",
      "- weight              1   3914.0 3978.0\n",
      "- agility             1   3914.4 3978.4\n",
      "- interceptions       1   3914.9 3978.9\n",
      "<none>                    3913.3 3979.3\n",
      "- long_passing        1   3916.1 3980.1\n",
      "- right_foot          1   3917.1 3981.1\n",
      "- short_passing       1   3917.4 3981.4\n",
      "- stamina             1   3919.0 3983.0\n",
      "- gk_reflexes         1   3919.8 3983.8\n",
      "- finishing           1   3921.4 3985.4\n",
      "- crossing            1   3921.6 3985.6\n",
      "- volleys             1   3921.7 3985.7\n",
      "- gk_handling         1   3922.1 3986.1\n",
      "- jumping             1   3923.6 3987.6\n",
      "- vision              1   3924.0 3988.0\n",
      "- positioning         1   3924.2 3988.2\n",
      "- acceleration        1   3932.0 3996.0\n",
      "- shot_power          1   3933.5 3997.5\n",
      "- curve               1   3933.6 3997.6\n",
      "- gk_kicking          1   3938.0 4002.0\n",
      "- marking             1   3939.0 4003.0\n",
      "- sprint_speed        1   3942.3 4006.3\n",
      "- sliding_tackle      1   3942.8 4006.8\n",
      "- aggression          1   3943.7 4007.7\n",
      "- strength            1   3945.9 4009.9\n",
      "- long_shots          1   3946.7 4010.7\n",
      "- free_kick_accuracy  1   3949.8 4013.8\n",
      "- gk_positioning      1   3964.6 4028.6\n",
      "- gk_diving           1   4019.5 4083.5\n",
      "- ball_control        1   4037.3 4101.3\n",
      "- heading_accuracy    1   4048.8 4112.8\n",
      "- reactions           1   4485.5 4549.5\n",
      "- potential           1   4772.4 4836.4\n",
      "\n",
      "Step:  AIC=3978.03\n",
      "Label ~ potential + right_foot + crossing + finishing + heading_accuracy + \n",
      "    short_passing + volleys + curve + free_kick_accuracy + long_passing + \n",
      "    ball_control + acceleration + sprint_speed + agility + reactions + \n",
      "    shot_power + jumping + stamina + strength + long_shots + \n",
      "    aggression + interceptions + positioning + vision + marking + \n",
      "    sliding_tackle + gk_diving + gk_handling + gk_kicking + gk_positioning + \n",
      "    gk_reflexes\n",
      "\n",
      "                     Df Deviance    AIC\n",
      "- agility             1   3915.1 3977.1\n",
      "- interceptions       1   3915.7 3977.7\n",
      "<none>                    3914.0 3978.0\n",
      "- long_passing        1   3916.8 3978.8\n",
      "- right_foot          1   3917.9 3979.9\n",
      "- short_passing       1   3918.1 3980.1\n",
      "- stamina             1   3919.9 3981.9\n",
      "- gk_reflexes         1   3920.6 3982.6\n",
      "- finishing           1   3922.2 3984.2\n",
      "- crossing            1   3922.5 3984.5\n",
      "- volleys             1   3922.5 3984.5\n",
      "- gk_handling         1   3922.7 3984.7\n",
      "- jumping             1   3924.4 3986.4\n",
      "- vision              1   3924.8 3986.8\n",
      "- positioning         1   3924.8 3986.8\n",
      "- acceleration        1   3932.7 3994.7\n",
      "- curve               1   3934.2 3996.2\n",
      "- shot_power          1   3934.3 3996.3\n",
      "- gk_kicking          1   3939.2 4001.2\n",
      "- marking             1   3939.6 4001.6\n",
      "- sprint_speed        1   3942.9 4004.9\n",
      "- sliding_tackle      1   3943.5 4005.5\n",
      "- aggression          1   3944.7 4006.7\n",
      "- strength            1   3947.1 4009.1\n",
      "- long_shots          1   3947.8 4009.8\n",
      "- free_kick_accuracy  1   3950.8 4012.8\n",
      "- gk_positioning      1   3965.9 4027.9\n",
      "- gk_diving           1   4019.9 4081.9\n",
      "- ball_control        1   4038.0 4100.0\n",
      "- heading_accuracy    1   4049.7 4111.7\n",
      "- reactions           1   4486.4 4548.4\n",
      "- potential           1   4774.6 4836.6\n",
      "\n",
      "Step:  AIC=3977.13\n",
      "Label ~ potential + right_foot + crossing + finishing + heading_accuracy + \n",
      "    short_passing + volleys + curve + free_kick_accuracy + long_passing + \n",
      "    ball_control + acceleration + sprint_speed + reactions + \n",
      "    shot_power + jumping + stamina + strength + long_shots + \n",
      "    aggression + interceptions + positioning + vision + marking + \n",
      "    sliding_tackle + gk_diving + gk_handling + gk_kicking + gk_positioning + \n",
      "    gk_reflexes\n",
      "\n",
      "                     Df Deviance    AIC\n",
      "- interceptions       1   3916.7 3976.7\n",
      "<none>                    3915.1 3977.1\n",
      "- long_passing        1   3917.9 3977.9\n",
      "- right_foot          1   3918.9 3978.9\n",
      "- short_passing       1   3918.9 3978.9\n",
      "- stamina             1   3921.2 3981.2\n",
      "- gk_reflexes         1   3921.7 3981.7\n",
      "- finishing           1   3923.1 3983.1\n",
      "- crossing            1   3923.7 3983.7\n",
      "- gk_handling         1   3924.0 3984.0\n",
      "- volleys             1   3924.3 3984.3\n",
      "- jumping             1   3924.7 3984.7\n",
      "- vision              1   3925.2 3985.2\n",
      "- positioning         1   3925.4 3985.4\n",
      "- curve               1   3934.5 3994.5\n",
      "- shot_power          1   3935.8 3995.8\n",
      "- acceleration        1   3939.4 3999.4\n",
      "- gk_kicking          1   3940.4 4000.4\n",
      "- marking             1   3941.2 4001.2\n",
      "- sprint_speed        1   3943.2 4003.2\n",
      "- sliding_tackle      1   3944.6 4004.6\n",
      "- aggression          1   3945.9 4005.9\n",
      "- long_shots          1   3948.5 4008.5\n",
      "- free_kick_accuracy  1   3951.8 4011.8\n",
      "- strength            1   3953.9 4013.9\n",
      "- gk_positioning      1   3966.9 4026.9\n",
      "- gk_diving           1   4019.9 4079.9\n",
      "- ball_control        1   4038.0 4098.0\n",
      "- heading_accuracy    1   4052.1 4112.1\n",
      "- reactions           1   4486.8 4546.8\n",
      "- potential           1   4780.2 4840.2\n",
      "\n",
      "Step:  AIC=3976.74\n",
      "Label ~ potential + right_foot + crossing + finishing + heading_accuracy + \n",
      "    short_passing + volleys + curve + free_kick_accuracy + long_passing + \n",
      "    ball_control + acceleration + sprint_speed + reactions + \n",
      "    shot_power + jumping + stamina + strength + long_shots + \n",
      "    aggression + positioning + vision + marking + sliding_tackle + \n",
      "    gk_diving + gk_handling + gk_kicking + gk_positioning + gk_reflexes\n",
      "\n",
      "                     Df Deviance    AIC\n",
      "<none>                    3916.7 3976.7\n",
      "- right_foot          1   3920.2 3978.2\n",
      "- short_passing       1   3920.5 3978.5\n",
      "- long_passing        1   3920.6 3978.6\n",
      "- stamina             1   3922.5 3980.5\n",
      "- gk_reflexes         1   3922.7 3980.7\n",
      "- finishing           1   3924.0 3982.0\n",
      "- crossing            1   3925.0 3983.0\n",
      "- gk_handling         1   3925.8 3983.8\n",
      "- volleys             1   3926.2 3984.2\n",
      "- jumping             1   3926.6 3984.6\n",
      "- positioning         1   3927.6 3985.6\n",
      "- vision              1   3927.7 3985.7\n",
      "- curve               1   3936.2 3994.2\n",
      "- shot_power          1   3937.3 3995.3\n",
      "- gk_kicking          1   3941.1 3999.1\n",
      "- acceleration        1   3941.4 3999.4\n",
      "- sliding_tackle      1   3944.7 4002.7\n",
      "- sprint_speed        1   3944.8 4002.8\n",
      "- marking             1   3948.8 4006.8\n",
      "- long_shots          1   3949.8 4007.8\n",
      "- aggression          1   3950.6 4008.6\n",
      "- free_kick_accuracy  1   3953.1 4011.1\n",
      "- strength            1   3955.9 4013.9\n",
      "- gk_positioning      1   3967.6 4025.6\n",
      "- gk_diving           1   4019.9 4077.9\n",
      "- ball_control        1   4040.3 4098.3\n",
      "- heading_accuracy    1   4053.8 4111.8\n",
      "- reactions           1   4494.8 4552.8\n",
      "- potential           1   4781.8 4839.8\n"
     ]
    }
   ],
   "source": [
    "#후진제거법\n",
    "reduced<-step(model,direction='backward')"
   ]
  },
  {
   "cell_type": "code",
   "execution_count": 11,
   "metadata": {},
   "outputs": [
    {
     "name": "stdout",
     "output_type": "stream",
     "text": [
      "# weights:  401\n",
      "initial  value 2216.927489 \n",
      "iter  10 value 1762.928237\n",
      "iter  20 value 1395.690705\n",
      "iter  30 value 1308.876070\n",
      "iter  40 value 1215.717268\n",
      "iter  50 value 1159.767005\n",
      "iter  60 value 1141.926349\n",
      "iter  70 value 1125.255953\n",
      "iter  80 value 1118.500270\n",
      "iter  90 value 1113.377683\n",
      "iter 100 value 1109.072542\n",
      "final  value 1109.072542 \n",
      "stopped after 100 iterations\n"
     ]
    },
    {
     "data": {
      "text/plain": [
       "a 38-10-1 network with 401 weights\n",
       "options were -\n",
       "  b->h1  i1->h1  i2->h1  i3->h1  i4->h1  i5->h1  i6->h1  i7->h1  i8->h1  i9->h1 \n",
       "  -0.18    0.59    0.46   -0.33   -0.04   -0.33   -0.53   -0.01   -0.03   -0.47 \n",
       "i10->h1 i11->h1 i12->h1 i13->h1 i14->h1 i15->h1 i16->h1 i17->h1 i18->h1 i19->h1 \n",
       "   0.48    0.48    0.42   -0.17    0.23    0.52    0.10    0.33    0.25    0.40 \n",
       "i20->h1 i21->h1 i22->h1 i23->h1 i24->h1 i25->h1 i26->h1 i27->h1 i28->h1 i29->h1 \n",
       "   0.07   -0.60   -0.24   -0.64    0.41    0.03    0.23   -0.20    0.68   -0.19 \n",
       "i30->h1 i31->h1 i32->h1 i33->h1 i34->h1 i35->h1 i36->h1 i37->h1 i38->h1 \n",
       "   0.14   -0.06    0.10    0.62    0.57   -0.25   -0.56   -0.32    0.47 \n",
       "  b->h2  i1->h2  i2->h2  i3->h2  i4->h2  i5->h2  i6->h2  i7->h2  i8->h2  i9->h2 \n",
       "   0.63   -0.54    0.12    0.49    0.13    0.28   -0.56    0.27    0.38   -0.65 \n",
       "i10->h2 i11->h2 i12->h2 i13->h2 i14->h2 i15->h2 i16->h2 i17->h2 i18->h2 i19->h2 \n",
       "   0.53   -0.53    0.37    0.67   -0.52   -0.01    0.60   -0.63   -0.16   -0.11 \n",
       "i20->h2 i21->h2 i22->h2 i23->h2 i24->h2 i25->h2 i26->h2 i27->h2 i28->h2 i29->h2 \n",
       "   0.65   -0.18    0.25    0.65    0.23    0.01    0.67    0.66    0.54    0.19 \n",
       "i30->h2 i31->h2 i32->h2 i33->h2 i34->h2 i35->h2 i36->h2 i37->h2 i38->h2 \n",
       "   0.25   -0.52   -0.40    0.16    0.44   -0.24    0.39    0.38   -0.27 \n",
       "  b->h3  i1->h3  i2->h3  i3->h3  i4->h3  i5->h3  i6->h3  i7->h3  i8->h3  i9->h3 \n",
       "  -0.06   -5.66  -31.08  -27.27  -11.35   -0.81   -5.11   -4.21   -4.37   -5.43 \n",
       "i10->h3 i11->h3 i12->h3 i13->h3 i14->h3 i15->h3 i16->h3 i17->h3 i18->h3 i19->h3 \n",
       "  -4.81   -4.13   -5.16   -4.44   -5.98   -4.10   -7.64   -7.34   -8.31   -8.62 \n",
       "i20->h3 i21->h3 i22->h3 i23->h3 i24->h3 i25->h3 i26->h3 i27->h3 i28->h3 i29->h3 \n",
       "  -7.86   -6.23  -10.88   -5.99   -8.41   -4.04   -5.07   -4.18   -4.98   -5.06 \n",
       "i30->h3 i31->h3 i32->h3 i33->h3 i34->h3 i35->h3 i36->h3 i37->h3 i38->h3 \n",
       "  -6.32   -4.45   -4.68   -4.95  -10.35  -10.06   -8.81   -9.31  -10.58 \n",
       "  b->h4  i1->h4  i2->h4  i3->h4  i4->h4  i5->h4  i6->h4  i7->h4  i8->h4  i9->h4 \n",
       "  -0.70   -0.61   -0.15    0.52   -0.24   -0.32    0.38   -0.13    0.23   -0.01 \n",
       "i10->h4 i11->h4 i12->h4 i13->h4 i14->h4 i15->h4 i16->h4 i17->h4 i18->h4 i19->h4 \n",
       "  -0.58   -0.55    0.60    0.38    0.50   -0.11    0.59    0.04   -0.47   -0.23 \n",
       "i20->h4 i21->h4 i22->h4 i23->h4 i24->h4 i25->h4 i26->h4 i27->h4 i28->h4 i29->h4 \n",
       "   0.66    0.26    0.54    0.22    0.53    0.48   -0.54   -0.34   -0.04    0.56 \n",
       "i30->h4 i31->h4 i32->h4 i33->h4 i34->h4 i35->h4 i36->h4 i37->h4 i38->h4 \n",
       "   0.10    0.02   -0.58   -0.61   -0.11   -0.36    0.39    0.30    0.17 \n",
       "  b->h5  i1->h5  i2->h5  i3->h5  i4->h5  i5->h5  i6->h5  i7->h5  i8->h5  i9->h5 \n",
       "  -0.47    1.51    6.46    6.96    2.97   -0.34    0.17    0.81    0.46    0.49 \n",
       "i10->h5 i11->h5 i12->h5 i13->h5 i14->h5 i15->h5 i16->h5 i17->h5 i18->h5 i19->h5 \n",
       "   0.16   -0.27    0.37   -0.24    0.65    0.33    0.95    0.54    0.66    2.57 \n",
       "i20->h5 i21->h5 i22->h5 i23->h5 i24->h5 i25->h5 i26->h5 i27->h5 i28->h5 i29->h5 \n",
       "   1.49    0.61    2.56    0.33    2.24   -0.45   -0.17   -0.16    1.11    0.93 \n",
       "i30->h5 i31->h5 i32->h5 i33->h5 i34->h5 i35->h5 i36->h5 i37->h5 i38->h5 \n",
       "   1.41   -0.28   -0.68   -1.48    4.43    4.83    4.59    5.40    4.23 \n",
       "  b->h6  i1->h6  i2->h6  i3->h6  i4->h6  i5->h6  i6->h6  i7->h6  i8->h6  i9->h6 \n",
       "  -0.18   -0.36    0.08   -0.62   -0.50   -0.45    0.00   -0.18   -0.20    0.67 \n",
       "i10->h6 i11->h6 i12->h6 i13->h6 i14->h6 i15->h6 i16->h6 i17->h6 i18->h6 i19->h6 \n",
       "  -0.38    0.01    0.31   -0.12   -0.42   -0.32   -0.61   -0.41    0.41   -0.24 \n",
       "i20->h6 i21->h6 i22->h6 i23->h6 i24->h6 i25->h6 i26->h6 i27->h6 i28->h6 i29->h6 \n",
       "   0.11    0.53   -0.63    0.52   -0.36   -0.17    0.42    0.05   -0.48    0.13 \n",
       "i30->h6 i31->h6 i32->h6 i33->h6 i34->h6 i35->h6 i36->h6 i37->h6 i38->h6 \n",
       "   0.39   -0.22   -0.18   -0.08   -0.59    0.01    0.25    0.51   -0.69 \n",
       "  b->h7  i1->h7  i2->h7  i3->h7  i4->h7  i5->h7  i6->h7  i7->h7  i8->h7  i9->h7 \n",
       "   0.06   -0.34    0.41   -0.05    0.64    0.14   -0.28    0.14    0.37    0.06 \n",
       "i10->h7 i11->h7 i12->h7 i13->h7 i14->h7 i15->h7 i16->h7 i17->h7 i18->h7 i19->h7 \n",
       "  -0.31    0.58   -0.66    0.64   -0.58    0.65    0.00   -0.57    0.42   -0.41 \n",
       "i20->h7 i21->h7 i22->h7 i23->h7 i24->h7 i25->h7 i26->h7 i27->h7 i28->h7 i29->h7 \n",
       "   0.08   -0.55    0.30   -0.23    0.67    0.17   -0.62    0.10    0.64   -0.13 \n",
       "i30->h7 i31->h7 i32->h7 i33->h7 i34->h7 i35->h7 i36->h7 i37->h7 i38->h7 \n",
       "   0.40   -0.09    0.28   -0.23   -0.08   -0.43    0.25   -0.38    0.61 \n",
       "  b->h8  i1->h8  i2->h8  i3->h8  i4->h8  i5->h8  i6->h8  i7->h8  i8->h8  i9->h8 \n",
       "  -0.43    1.83   -5.48   -0.96   -3.40    0.19   -1.93   -3.53   -1.15   -6.56 \n",
       "i10->h8 i11->h8 i12->h8 i13->h8 i14->h8 i15->h8 i16->h8 i17->h8 i18->h8 i19->h8 \n",
       "  -4.06   -4.15   -1.45   -4.70   -5.80   -5.14   -1.90   -2.13   -3.59   -2.64 \n",
       "i20->h8 i21->h8 i22->h8 i23->h8 i24->h8 i25->h8 i26->h8 i27->h8 i28->h8 i29->h8 \n",
       "  -2.60   -5.86    1.52   -2.41   -4.36   -3.18   -5.39   -4.98   -5.52   -5.14 \n",
       "i30->h8 i31->h8 i32->h8 i33->h8 i34->h8 i35->h8 i36->h8 i37->h8 i38->h8 \n",
       "  -2.42   -3.75   -3.95   -3.23   -0.60    0.47   -2.88    0.99   -0.93 \n",
       "  b->h9  i1->h9  i2->h9  i3->h9  i4->h9  i5->h9  i6->h9  i7->h9  i8->h9  i9->h9 \n",
       "  -0.54    3.01   18.40   17.49    6.74   -0.29    0.20    1.68   -0.56    3.48 \n",
       "i10->h9 i11->h9 i12->h9 i13->h9 i14->h9 i15->h9 i16->h9 i17->h9 i18->h9 i19->h9 \n",
       "   0.89    0.09    2.16    1.18    1.08   -0.83    6.17    5.43    4.83    7.89 \n",
       "i20->h9 i21->h9 i22->h9 i23->h9 i24->h9 i25->h9 i26->h9 i27->h9 i28->h9 i29->h9 \n",
       "   8.84   -1.36    3.14    4.43    1.95    0.64    0.94   -0.50   -1.75    4.17 \n",
       "i30->h9 i31->h9 i32->h9 i33->h9 i34->h9 i35->h9 i36->h9 i37->h9 i38->h9 \n",
       "  -1.82   -1.74    0.46    0.04    6.50    4.88    7.58    7.50    6.28 \n",
       "  b->h10  i1->h10  i2->h10  i3->h10  i4->h10  i5->h10  i6->h10  i7->h10 \n",
       "    1.04     4.60    21.27    -3.64   -19.03     3.17    -2.43    -6.57 \n",
       " i8->h10  i9->h10 i10->h10 i11->h10 i12->h10 i13->h10 i14->h10 i15->h10 \n",
       "   -1.52    10.83     1.10    -6.60     2.38    -2.38    -6.96   -11.73 \n",
       "i16->h10 i17->h10 i18->h10 i19->h10 i20->h10 i21->h10 i22->h10 i23->h10 \n",
       "    4.64    -0.22     3.60   -16.38     6.11    -8.79    -2.10    -2.44 \n",
       "i24->h10 i25->h10 i26->h10 i27->h10 i28->h10 i29->h10 i30->h10 i31->h10 \n",
       "    8.09     9.82    -7.56    -3.81     3.76    -4.27    -3.23    -0.82 \n",
       "i32->h10 i33->h10 i34->h10 i35->h10 i36->h10 i37->h10 i38->h10 \n",
       "    3.77    -0.93     6.43    -0.80     0.42     7.13     1.74 \n",
       "  b->o  h1->o  h2->o  h3->o  h4->o  h5->o  h6->o  h7->o  h8->o  h9->o h10->o \n",
       "  1.31   1.24   1.70   0.64   2.01   0.15  -0.27   0.82  -2.06  -5.02  -3.60 "
      ]
     },
     "metadata": {},
     "output_type": "display_data"
    }
   ],
   "source": [
    "#인공신경망 모형 생성\n",
    "library(nnet)\n",
    "model<-nnet(Label ~ age + height + weight + potential + right_foot + crossing + \n",
    "    finishing + heading_accuracy + short_passing + volleys + \n",
    "    dribbling + curve + free_kick_accuracy + long_passing + ball_control + \n",
    "    acceleration + sprint_speed + agility + reactions + balance + \n",
    "    shot_power + jumping + stamina + strength + long_shots + \n",
    "    aggression + interceptions + positioning + vision + penalties + \n",
    "    marking + standing_tackle + sliding_tackle + gk_diving + \n",
    "    gk_handling + gk_kicking + gk_positioning + gk_reflexes  , data=train_scaled, size=10)\n",
    "summary(model)"
   ]
  },
  {
   "cell_type": "code",
   "execution_count": 12,
   "metadata": {},
   "outputs": [
    {
     "name": "stderr",
     "output_type": "stream",
     "text": [
      "Warning message:\n",
      "\"package 'devtools' was built under R version 3.6.2\"Loading required package: usethis\n",
      "Warning message:\n",
      "\"package 'usethis' was built under R version 3.6.2\"SHA-1 hash of file is bf3c7b8ac910823b729e3ce73bb6ab5e6955ad3d\n",
      "Loading required package: scales\n",
      "Warning message:\n",
      "\"package 'scales' was built under R version 3.6.2\""
     ]
    },
    {
     "data": {
      "image/png": "[encoded data removed]",
      "text/plain": [
       "plot without title"
      ]
     },
     "metadata": {},
     "output_type": "display_data"
    }
   ],
   "source": [
    "#인공신경망 그래프\n",
    "library(devtools)\n",
    "\n",
    "source_url('https://gist.githubusercontent.com/Peque/41a9e20d6687f2f3108d/raw/85e14f3a292e126f1454864427e3a189c2fe33f3/nnet_plot_update.r')\n",
    "\n",
    "plot.nnet(model)"
   ]
  },
  {
   "cell_type": "code",
   "execution_count": 13,
   "metadata": {},
   "outputs": [
    {
     "name": "stderr",
     "output_type": "stream",
     "text": [
      "Warning message:\n",
      "\"package 'NeuralNetTools' was built under R version 3.6.2\""
     ]
    },
    {
     "data": {
      "image/png": "[encoded data removed]",
      "text/plain": [
       "plot without title"
      ]
     },
     "metadata": {},
     "output_type": "display_data"
    }
   ],
   "source": [
    "library(NeuralNetTools)\n",
    "garson(model)#변수 중요도 그래프"
   ]
  },
  {
   "cell_type": "code",
   "execution_count": 14,
   "metadata": {},
   "outputs": [
    {
     "data": {
      "text/plain": [
       "       result\n",
       "y_train    0    1\n",
       "      0 3118 1066\n",
       "      1 1465 2719"
      ]
     },
     "metadata": {},
     "output_type": "display_data"
    },
    {
     "data": {
      "text/html": [
       "0.697538240917782"
      ],
      "text/latex": [
       "0.697538240917782"
      ],
      "text/markdown": [
       "0.697538240917782"
      ],
      "text/plain": [
       "[1] 0.6975382"
      ]
     },
     "metadata": {},
     "output_type": "display_data"
    }
   ],
   "source": [
    "#학습용 데이터셋의 예측 정확도\n",
    "pred<-predict(model,X_train_scaled)\n",
    "result<-round(pred)\n",
    "table(y_train,result)\n",
    "mean(y_train == result)"
   ]
  },
  {
   "cell_type": "code",
   "execution_count": 15,
   "metadata": {},
   "outputs": [
    {
     "data": {
      "text/plain": [
       "      result\n",
       "y_test   0   1\n",
       "     0 790 256\n",
       "     1 375 671"
      ]
     },
     "metadata": {},
     "output_type": "display_data"
    },
    {
     "data": {
      "text/html": [
       "0.698374760994264"
      ],
      "text/latex": [
       "0.698374760994264"
      ],
      "text/markdown": [
       "0.698374760994264"
      ],
      "text/plain": [
       "[1] 0.6983748"
      ]
     },
     "metadata": {},
     "output_type": "display_data"
    }
   ],
   "source": [
    "#검증용 데이터셋의 예측 정확도\n",
    "pred<-predict(model,X_test_scaled)\n",
    "result<-round(pred)\n",
    "table(y_test,result)\n",
    "mean(y_test == result)"
   ]
  },
  {
   "cell_type": "code",
   "execution_count": null,
   "metadata": {},
   "outputs": [],
   "source": []
  }
 ],
 "metadata": {
  "kernelspec": {
   "display_name": "R",
   "language": "R",
   "name": "ir"
  },
  "language_info": {
   "codemirror_mode": "r",
   "file_extension": ".r",
   "mimetype": "text/x-r-source",
   "name": "R",
   "pygments_lexer": "r",
   "version": "3.6.1"
  }
 },
 "nbformat": 4,
 "nbformat_minor": 2
}
