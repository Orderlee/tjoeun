{
 "cells": [
  {
   "cell_type": "code",
   "execution_count": 1,
   "metadata": {},
   "outputs": [
    {
     "data": {
      "text/html": [
       "<table>\n",
       "<thead><tr><th scope=col>Rank</th><th scope=col>Name</th><th scope=col>Genre</th><th scope=col>Action</th><th scope=col>Adventure</th><th scope=col>Fighting</th><th scope=col>Misc</th><th scope=col>Platform</th><th scope=col>Puzzle</th><th scope=col>Racing</th><th scope=col>...</th><th scope=col>Simulation</th><th scope=col>Sports</th><th scope=col>Strategy</th><th scope=col>Years</th><th scope=col>NA_Sales</th><th scope=col>EU_Sales</th><th scope=col>JP_Sales</th><th scope=col>Other_Sales</th><th scope=col>Global_Sales</th><th scope=col>Label</th></tr></thead>\n",
       "<tbody>\n",
       "\t<tr><td>11594                        </td><td>Samurai Warriors 2           </td><td>Action                       </td><td>1                            </td><td>0                            </td><td>0                            </td><td>0                            </td><td>0                            </td><td>0                            </td><td>0                            </td><td>...                          </td><td>0                            </td><td>0                            </td><td>0                            </td><td>13                           </td><td>0.07                         </td><td>0.01                         </td><td>0.00                         </td><td>0.01                         </td><td>0.08                         </td><td>0                            </td></tr>\n",
       "\t<tr><td>11593                        </td><td>P.N.03 - Product Number Three</td><td>Shooter                      </td><td>0                            </td><td>0                            </td><td>0                            </td><td>0                            </td><td>0                            </td><td>0                            </td><td>0                            </td><td>...                          </td><td>0                            </td><td>0                            </td><td>0                            </td><td>16                           </td><td>0.06                         </td><td>0.02                         </td><td>0.00                         </td><td>0.00                         </td><td>0.08                         </td><td>0                            </td></tr>\n",
       "\t<tr><td>11592                        </td><td>Minecraft: Story Mode        </td><td>Adventure                    </td><td>0                            </td><td>1                            </td><td>0                            </td><td>0                            </td><td>0                            </td><td>0                            </td><td>0                            </td><td>...                          </td><td>0                            </td><td>0                            </td><td>0                            </td><td> 4                           </td><td>0.02                         </td><td>0.05                         </td><td>0.00                         </td><td>0.01                         </td><td>0.08                         </td><td>0                            </td></tr>\n",
       "\t<tr><td>11591                        </td><td>Real Robots Final Attack     </td><td>Shooter                      </td><td>0                            </td><td>0                            </td><td>0                            </td><td>0                            </td><td>0                            </td><td>0                            </td><td>0                            </td><td>...                          </td><td>0                            </td><td>0                            </td><td>0                            </td><td>21                           </td><td>0.00                         </td><td>0.00                         </td><td>0.07                         </td><td>0.01                         </td><td>0.08                         </td><td>0                            </td></tr>\n",
       "\t<tr><td>11590                        </td><td>Pocket Dogs                  </td><td>Misc                         </td><td>0                            </td><td>0                            </td><td>0                            </td><td>1                            </td><td>0                            </td><td>0                            </td><td>0                            </td><td>...                          </td><td>0                            </td><td>0                            </td><td>0                            </td><td>15                           </td><td>0.06                         </td><td>0.02                         </td><td>0.00                         </td><td>0.00                         </td><td>0.08                         </td><td>0                            </td></tr>\n",
       "\t<tr><td>11589                        </td><td>Bleach: Heat the Soul 4      </td><td>Fighting                     </td><td>0                            </td><td>0                            </td><td>1                            </td><td>0                            </td><td>0                            </td><td>0                            </td><td>0                            </td><td>...                          </td><td>0                            </td><td>0                            </td><td>0                            </td><td>12                           </td><td>0.00                         </td><td>0.00                         </td><td>0.08                         </td><td>0.00                         </td><td>0.08                         </td><td>0                            </td></tr>\n",
       "</tbody>\n",
       "</table>\n"
      ],
      "text/latex": [
       "\\begin{tabular}{r|llllllllllllllllllllll}\n",
       " Rank & Name & Genre & Action & Adventure & Fighting & Misc & Platform & Puzzle & Racing & ... & Simulation & Sports & Strategy & Years & NA\\_Sales & EU\\_Sales & JP\\_Sales & Other\\_Sales & Global\\_Sales & Label\\\\\n",
       "\\hline\n",
       "\t 11594                         & Samurai Warriors 2            & Action                        & 1                             & 0                             & 0                             & 0                             & 0                             & 0                             & 0                             & ...                           & 0                             & 0                             & 0                             & 13                            & 0.07                          & 0.01                          & 0.00                          & 0.01                          & 0.08                          & 0                            \\\\\n",
       "\t 11593                         & P.N.03 - Product Number Three & Shooter                       & 0                             & 0                             & 0                             & 0                             & 0                             & 0                             & 0                             & ...                           & 0                             & 0                             & 0                             & 16                            & 0.06                          & 0.02                          & 0.00                          & 0.00                          & 0.08                          & 0                            \\\\\n",
       "\t 11592                         & Minecraft: Story Mode         & Adventure                     & 0                             & 1                             & 0                             & 0                             & 0                             & 0                             & 0                             & ...                           & 0                             & 0                             & 0                             &  4                            & 0.02                          & 0.05                          & 0.00                          & 0.01                          & 0.08                          & 0                            \\\\\n",
       "\t 11591                         & Real Robots Final Attack      & Shooter                       & 0                             & 0                             & 0                             & 0                             & 0                             & 0                             & 0                             & ...                           & 0                             & 0                             & 0                             & 21                            & 0.00                          & 0.00                          & 0.07                          & 0.01                          & 0.08                          & 0                            \\\\\n",
       "\t 11590                         & Pocket Dogs                   & Misc                          & 0                             & 0                             & 0                             & 1                             & 0                             & 0                             & 0                             & ...                           & 0                             & 0                             & 0                             & 15                            & 0.06                          & 0.02                          & 0.00                          & 0.00                          & 0.08                          & 0                            \\\\\n",
       "\t 11589                         & Bleach: Heat the Soul 4       & Fighting                      & 0                             & 0                             & 1                             & 0                             & 0                             & 0                             & 0                             & ...                           & 0                             & 0                             & 0                             & 12                            & 0.00                          & 0.00                          & 0.08                          & 0.00                          & 0.08                          & 0                            \\\\\n",
       "\\end{tabular}\n"
      ],
      "text/markdown": [
       "\n",
       "| Rank | Name | Genre | Action | Adventure | Fighting | Misc | Platform | Puzzle | Racing | ... | Simulation | Sports | Strategy | Years | NA_Sales | EU_Sales | JP_Sales | Other_Sales | Global_Sales | Label |\n",
       "|---|---|---|---|---|---|---|---|---|---|---|---|---|---|---|---|---|---|---|---|---|\n",
       "| 11594                         | Samurai Warriors 2            | Action                        | 1                             | 0                             | 0                             | 0                             | 0                             | 0                             | 0                             | ...                           | 0                             | 0                             | 0                             | 13                            | 0.07                          | 0.01                          | 0.00                          | 0.01                          | 0.08                          | 0                             |\n",
       "| 11593                         | P.N.03 - Product Number Three | Shooter                       | 0                             | 0                             | 0                             | 0                             | 0                             | 0                             | 0                             | ...                           | 0                             | 0                             | 0                             | 16                            | 0.06                          | 0.02                          | 0.00                          | 0.00                          | 0.08                          | 0                             |\n",
       "| 11592                         | Minecraft: Story Mode         | Adventure                     | 0                             | 1                             | 0                             | 0                             | 0                             | 0                             | 0                             | ...                           | 0                             | 0                             | 0                             |  4                            | 0.02                          | 0.05                          | 0.00                          | 0.01                          | 0.08                          | 0                             |\n",
       "| 11591                         | Real Robots Final Attack      | Shooter                       | 0                             | 0                             | 0                             | 0                             | 0                             | 0                             | 0                             | ...                           | 0                             | 0                             | 0                             | 21                            | 0.00                          | 0.00                          | 0.07                          | 0.01                          | 0.08                          | 0                             |\n",
       "| 11590                         | Pocket Dogs                   | Misc                          | 0                             | 0                             | 0                             | 1                             | 0                             | 0                             | 0                             | ...                           | 0                             | 0                             | 0                             | 15                            | 0.06                          | 0.02                          | 0.00                          | 0.00                          | 0.08                          | 0                             |\n",
       "| 11589                         | Bleach: Heat the Soul 4       | Fighting                      | 0                             | 0                             | 1                             | 0                             | 0                             | 0                             | 0                             | ...                           | 0                             | 0                             | 0                             | 12                            | 0.00                          | 0.00                          | 0.08                          | 0.00                          | 0.08                          | 0                             |\n",
       "\n"
      ],
      "text/plain": [
       "  Rank  Name                          Genre     Action Adventure Fighting Misc\n",
       "1 11594 Samurai Warriors 2            Action    1      0         0        0   \n",
       "2 11593 P.N.03 - Product Number Three Shooter   0      0         0        0   \n",
       "3 11592 Minecraft: Story Mode         Adventure 0      1         0        0   \n",
       "4 11591 Real Robots Final Attack      Shooter   0      0         0        0   \n",
       "5 11590 Pocket Dogs                   Misc      0      0         0        1   \n",
       "6 11589 Bleach: Heat the Soul 4       Fighting  0      0         1        0   \n",
       "  Platform Puzzle Racing ... Simulation Sports Strategy Years NA_Sales EU_Sales\n",
       "1 0        0      0      ... 0          0      0        13    0.07     0.01    \n",
       "2 0        0      0      ... 0          0      0        16    0.06     0.02    \n",
       "3 0        0      0      ... 0          0      0         4    0.02     0.05    \n",
       "4 0        0      0      ... 0          0      0        21    0.00     0.00    \n",
       "5 0        0      0      ... 0          0      0        15    0.06     0.02    \n",
       "6 0        0      0      ... 0          0      0        12    0.00     0.00    \n",
       "  JP_Sales Other_Sales Global_Sales Label\n",
       "1 0.00     0.01        0.08         0    \n",
       "2 0.00     0.00        0.08         0    \n",
       "3 0.00     0.01        0.08         0    \n",
       "4 0.07     0.01        0.08         0    \n",
       "5 0.00     0.00        0.08         0    \n",
       "6 0.08     0.00        0.08         0    "
      ]
     },
     "metadata": {},
     "output_type": "display_data"
    },
    {
     "data": {
      "text/html": [
       "<ol class=list-inline>\n",
       "\t<li>16324</li>\n",
       "\t<li>22</li>\n",
       "</ol>\n"
      ],
      "text/latex": [
       "\\begin{enumerate*}\n",
       "\\item 16324\n",
       "\\item 22\n",
       "\\end{enumerate*}\n"
      ],
      "text/markdown": [
       "1. 16324\n",
       "2. 22\n",
       "\n",
       "\n"
      ],
      "text/plain": [
       "[1] 16324    22"
      ]
     },
     "metadata": {},
     "output_type": "display_data"
    }
   ],
   "source": [
    "df<-read.csv('d:/data/game/vgsales2.csv')\n",
    "head(df)\n",
    "dim(df)"
   ]
  },
  {
   "cell_type": "code",
   "execution_count": 2,
   "metadata": {},
   "outputs": [
    {
     "name": "stderr",
     "output_type": "stream",
     "text": [
      "Warning message:\n",
      "\"package 'dplyr' was built under R version 3.6.2\"\n",
      "Attaching package: 'dplyr'\n",
      "\n",
      "The following objects are masked from 'package:stats':\n",
      "\n",
      "    filter, lag\n",
      "\n",
      "The following objects are masked from 'package:base':\n",
      "\n",
      "    intersect, setdiff, setequal, union\n",
      "\n"
     ]
    },
    {
     "data": {
      "text/html": [
       "<ol class=list-inline>\n",
       "\t<li>16324</li>\n",
       "\t<li>18</li>\n",
       "</ol>\n"
      ],
      "text/latex": [
       "\\begin{enumerate*}\n",
       "\\item 16324\n",
       "\\item 18\n",
       "\\end{enumerate*}\n"
      ],
      "text/markdown": [
       "1. 16324\n",
       "2. 18\n",
       "\n",
       "\n"
      ],
      "text/plain": [
       "[1] 16324    18"
      ]
     },
     "metadata": {},
     "output_type": "display_data"
    },
    {
     "data": {
      "text/html": [
       "<table>\n",
       "<thead><tr><th scope=col>Action</th><th scope=col>Adventure</th><th scope=col>Fighting</th><th scope=col>Misc</th><th scope=col>Platform</th><th scope=col>Puzzle</th><th scope=col>Racing</th><th scope=col>Role.Playing</th><th scope=col>Shooter</th><th scope=col>Simulation</th><th scope=col>Sports</th><th scope=col>Strategy</th><th scope=col>Years</th><th scope=col>NA_Sales</th><th scope=col>EU_Sales</th><th scope=col>JP_Sales</th><th scope=col>Other_Sales</th><th scope=col>Label</th></tr></thead>\n",
       "<tbody>\n",
       "\t<tr><td>1   </td><td>0   </td><td>0   </td><td>0   </td><td>0   </td><td>0   </td><td>0   </td><td>0   </td><td>0   </td><td>0   </td><td>0   </td><td>0   </td><td>13  </td><td>0.07</td><td>0.01</td><td>0.00</td><td>0.01</td><td>0   </td></tr>\n",
       "\t<tr><td>0   </td><td>0   </td><td>0   </td><td>0   </td><td>0   </td><td>0   </td><td>0   </td><td>0   </td><td>1   </td><td>0   </td><td>0   </td><td>0   </td><td>16  </td><td>0.06</td><td>0.02</td><td>0.00</td><td>0.00</td><td>0   </td></tr>\n",
       "\t<tr><td>0   </td><td>1   </td><td>0   </td><td>0   </td><td>0   </td><td>0   </td><td>0   </td><td>0   </td><td>0   </td><td>0   </td><td>0   </td><td>0   </td><td> 4  </td><td>0.02</td><td>0.05</td><td>0.00</td><td>0.01</td><td>0   </td></tr>\n",
       "\t<tr><td>0   </td><td>0   </td><td>0   </td><td>0   </td><td>0   </td><td>0   </td><td>0   </td><td>0   </td><td>1   </td><td>0   </td><td>0   </td><td>0   </td><td>21  </td><td>0.00</td><td>0.00</td><td>0.07</td><td>0.01</td><td>0   </td></tr>\n",
       "\t<tr><td>0   </td><td>0   </td><td>0   </td><td>1   </td><td>0   </td><td>0   </td><td>0   </td><td>0   </td><td>0   </td><td>0   </td><td>0   </td><td>0   </td><td>15  </td><td>0.06</td><td>0.02</td><td>0.00</td><td>0.00</td><td>0   </td></tr>\n",
       "\t<tr><td>0   </td><td>0   </td><td>1   </td><td>0   </td><td>0   </td><td>0   </td><td>0   </td><td>0   </td><td>0   </td><td>0   </td><td>0   </td><td>0   </td><td>12  </td><td>0.00</td><td>0.00</td><td>0.08</td><td>0.00</td><td>0   </td></tr>\n",
       "</tbody>\n",
       "</table>\n"
      ],
      "text/latex": [
       "\\begin{tabular}{r|llllllllllllllllll}\n",
       " Action & Adventure & Fighting & Misc & Platform & Puzzle & Racing & Role.Playing & Shooter & Simulation & Sports & Strategy & Years & NA\\_Sales & EU\\_Sales & JP\\_Sales & Other\\_Sales & Label\\\\\n",
       "\\hline\n",
       "\t 1    & 0    & 0    & 0    & 0    & 0    & 0    & 0    & 0    & 0    & 0    & 0    & 13   & 0.07 & 0.01 & 0.00 & 0.01 & 0   \\\\\n",
       "\t 0    & 0    & 0    & 0    & 0    & 0    & 0    & 0    & 1    & 0    & 0    & 0    & 16   & 0.06 & 0.02 & 0.00 & 0.00 & 0   \\\\\n",
       "\t 0    & 1    & 0    & 0    & 0    & 0    & 0    & 0    & 0    & 0    & 0    & 0    &  4   & 0.02 & 0.05 & 0.00 & 0.01 & 0   \\\\\n",
       "\t 0    & 0    & 0    & 0    & 0    & 0    & 0    & 0    & 1    & 0    & 0    & 0    & 21   & 0.00 & 0.00 & 0.07 & 0.01 & 0   \\\\\n",
       "\t 0    & 0    & 0    & 1    & 0    & 0    & 0    & 0    & 0    & 0    & 0    & 0    & 15   & 0.06 & 0.02 & 0.00 & 0.00 & 0   \\\\\n",
       "\t 0    & 0    & 1    & 0    & 0    & 0    & 0    & 0    & 0    & 0    & 0    & 0    & 12   & 0.00 & 0.00 & 0.08 & 0.00 & 0   \\\\\n",
       "\\end{tabular}\n"
      ],
      "text/markdown": [
       "\n",
       "| Action | Adventure | Fighting | Misc | Platform | Puzzle | Racing | Role.Playing | Shooter | Simulation | Sports | Strategy | Years | NA_Sales | EU_Sales | JP_Sales | Other_Sales | Label |\n",
       "|---|---|---|---|---|---|---|---|---|---|---|---|---|---|---|---|---|---|\n",
       "| 1    | 0    | 0    | 0    | 0    | 0    | 0    | 0    | 0    | 0    | 0    | 0    | 13   | 0.07 | 0.01 | 0.00 | 0.01 | 0    |\n",
       "| 0    | 0    | 0    | 0    | 0    | 0    | 0    | 0    | 1    | 0    | 0    | 0    | 16   | 0.06 | 0.02 | 0.00 | 0.00 | 0    |\n",
       "| 0    | 1    | 0    | 0    | 0    | 0    | 0    | 0    | 0    | 0    | 0    | 0    |  4   | 0.02 | 0.05 | 0.00 | 0.01 | 0    |\n",
       "| 0    | 0    | 0    | 0    | 0    | 0    | 0    | 0    | 1    | 0    | 0    | 0    | 21   | 0.00 | 0.00 | 0.07 | 0.01 | 0    |\n",
       "| 0    | 0    | 0    | 1    | 0    | 0    | 0    | 0    | 0    | 0    | 0    | 0    | 15   | 0.06 | 0.02 | 0.00 | 0.00 | 0    |\n",
       "| 0    | 0    | 1    | 0    | 0    | 0    | 0    | 0    | 0    | 0    | 0    | 0    | 12   | 0.00 | 0.00 | 0.08 | 0.00 | 0    |\n",
       "\n"
      ],
      "text/plain": [
       "  Action Adventure Fighting Misc Platform Puzzle Racing Role.Playing Shooter\n",
       "1 1      0         0        0    0        0      0      0            0      \n",
       "2 0      0         0        0    0        0      0      0            1      \n",
       "3 0      1         0        0    0        0      0      0            0      \n",
       "4 0      0         0        0    0        0      0      0            1      \n",
       "5 0      0         0        1    0        0      0      0            0      \n",
       "6 0      0         1        0    0        0      0      0            0      \n",
       "  Simulation Sports Strategy Years NA_Sales EU_Sales JP_Sales Other_Sales Label\n",
       "1 0          0      0        13    0.07     0.01     0.00     0.01        0    \n",
       "2 0          0      0        16    0.06     0.02     0.00     0.00        0    \n",
       "3 0          0      0         4    0.02     0.05     0.00     0.01        0    \n",
       "4 0          0      0        21    0.00     0.00     0.07     0.01        0    \n",
       "5 0          0      0        15    0.06     0.02     0.00     0.00        0    \n",
       "6 0          0      0        12    0.00     0.00     0.08     0.00        0    "
      ]
     },
     "metadata": {},
     "output_type": "display_data"
    }
   ],
   "source": [
    "library(dplyr)\n",
    "df<-df %>% select(-Rank,-Name,-Genre,-Global_Sales)\n",
    "dim(df)\n",
    "head(df)"
   ]
  },
  {
   "cell_type": "code",
   "execution_count": 3,
   "metadata": {},
   "outputs": [
    {
     "data": {
      "text/plain": [
       "\n",
       "    0     1 \n",
       "12619  3705 "
      ]
     },
     "metadata": {},
     "output_type": "display_data"
    },
    {
     "data": {
      "image/png": "[encoded data removed]",
      "text/plain": [
       "plot without title"
      ]
     },
     "metadata": {},
     "output_type": "display_data"
    }
   ],
   "source": [
    "(tbl<-table(df$Label))\n",
    "barplot(tbl,beside=T,legend=T,col=rainbow(2))"
   ]
  },
  {
   "cell_type": "code",
   "execution_count": 4,
   "metadata": {},
   "outputs": [
    {
     "name": "stderr",
     "output_type": "stream",
     "text": [
      "Warning message:\n",
      "\"package 'ROSE' was built under R version 3.6.2\"Loaded ROSE 0.0-3\n",
      "\n"
     ]
    },
    {
     "data": {
      "text/plain": [
       "\n",
       "   0    1 \n",
       "3705 3705 "
      ]
     },
     "metadata": {},
     "output_type": "display_data"
    }
   ],
   "source": [
    "library(ROSE)\n",
    "df_samp<-ovun.sample(Label ~ . , data=df, seed=1, method='under',\n",
    "                    N=3705*2)$data\n",
    "(tbl<-table(df_samp$Label))"
   ]
  },
  {
   "cell_type": "code",
   "execution_count": 12,
   "metadata": {},
   "outputs": [],
   "source": [
    "library(caret)\n",
    "set.seed(123)\n",
    "idx_train<-createDataPartition(y=df$Label, p=0.8, list=F)\n",
    "train<-df[idx_train,]\n",
    "X_train<-train[,-18]\n",
    "y_train<-train[,18]\n",
    "test<-df[-idx_train,]\n",
    "X_test<-test[,-18]\n",
    "y_test<-test[,18]"
   ]
  },
  {
   "cell_type": "code",
   "execution_count": 19,
   "metadata": {},
   "outputs": [
    {
     "name": "stdout",
     "output_type": "stream",
     "text": [
      "# weights:  381\n",
      "initial  value 2446.325240 \n",
      "iter  10 value 611.527885\n",
      "iter  20 value 143.937646\n",
      "iter  30 value 39.217952\n",
      "iter  40 value 26.789951\n",
      "iter  50 value 15.722786\n",
      "iter  60 value 9.801918\n",
      "iter  70 value 6.862928\n",
      "iter  80 value 4.631243\n",
      "iter  90 value 3.247312\n",
      "iter 100 value 3.021857\n",
      "final  value 3.021857 \n",
      "stopped after 100 iterations\n"
     ]
    },
    {
     "data": {
      "text/plain": [
       "a 17-20-1 network with 381 weights\n",
       "options were -\n",
       "  b->h1  i1->h1  i2->h1  i3->h1  i4->h1  i5->h1  i6->h1  i7->h1  i8->h1  i9->h1 \n",
       "   3.41    0.78   -0.38    0.20    0.56    0.55    0.18   -0.15   -0.13    0.89 \n",
       "i10->h1 i11->h1 i12->h1 i13->h1 i14->h1 i15->h1 i16->h1 i17->h1 \n",
       "  -0.56    0.85   -0.05   32.47    7.01    4.87    1.23    1.12 \n",
       "  b->h2  i1->h2  i2->h2  i3->h2  i4->h2  i5->h2  i6->h2  i7->h2  i8->h2  i9->h2 \n",
       "  -5.16   10.58   -0.63   -3.31   -5.22    0.80   -1.08    1.35   -3.87   -5.08 \n",
       "i10->h2 i11->h2 i12->h2 i13->h2 i14->h2 i15->h2 i16->h2 i17->h2 \n",
       "   1.58   -0.66    0.09   19.38   -1.86   -2.44   -1.14    0.20 \n",
       "  b->h3  i1->h3  i2->h3  i3->h3  i4->h3  i5->h3  i6->h3  i7->h3  i8->h3  i9->h3 \n",
       "  -1.38   -0.41   -0.66    0.36   -0.20   -0.14   -0.67   -0.08    0.36    0.67 \n",
       "i10->h3 i11->h3 i12->h3 i13->h3 i14->h3 i15->h3 i16->h3 i17->h3 \n",
       "   0.07    0.33    0.28  -13.85    2.96    1.84    1.42    0.14 \n",
       "  b->h4  i1->h4  i2->h4  i3->h4  i4->h4  i5->h4  i6->h4  i7->h4  i8->h4  i9->h4 \n",
       "   3.31   -4.23   -0.33   -0.57   -6.36   -8.01   -0.01    8.39    7.26    0.63 \n",
       "i10->h4 i11->h4 i12->h4 i13->h4 i14->h4 i15->h4 i16->h4 i17->h4 \n",
       "  -0.95    6.00   -0.32   -1.15   -2.98   -1.55   12.91   -0.71 \n",
       "  b->h5  i1->h5  i2->h5  i3->h5  i4->h5  i5->h5  i6->h5  i7->h5  i8->h5  i9->h5 \n",
       "   9.65   -7.98   -0.36    0.02   10.83   -6.96   -2.11    7.70    5.38    0.37 \n",
       "i10->h5 i11->h5 i12->h5 i13->h5 i14->h5 i15->h5 i16->h5 i17->h5 \n",
       "  -0.08    2.87    2.23   -0.54  -26.09  -28.62    2.28  -11.62 \n",
       "  b->h6  i1->h6  i2->h6  i3->h6  i4->h6  i5->h6  i6->h6  i7->h6  i8->h6  i9->h6 \n",
       "   1.54    1.93   -0.40   -0.44   -0.72    0.51   -0.36    0.50   -0.54   -0.74 \n",
       "i10->h6 i11->h6 i12->h6 i13->h6 i14->h6 i15->h6 i16->h6 i17->h6 \n",
       "   0.55   -0.66    0.42   -0.45    0.91    1.87    0.26    0.41 \n",
       "  b->h7  i1->h7  i2->h7  i3->h7  i4->h7  i5->h7  i6->h7  i7->h7  i8->h7  i9->h7 \n",
       "  -0.12   -0.16   -0.36    0.17    0.23    0.06   -0.58   -0.41   -0.55   -0.25 \n",
       "i10->h7 i11->h7 i12->h7 i13->h7 i14->h7 i15->h7 i16->h7 i17->h7 \n",
       "   0.31   -0.43   -0.44   -1.24    2.47    1.46    0.41    0.60 \n",
       "  b->h8  i1->h8  i2->h8  i3->h8  i4->h8  i5->h8  i6->h8  i7->h8  i8->h8  i9->h8 \n",
       "   3.92    5.17   -0.25   -0.30   -1.58    0.33    0.58   -0.21    0.52   -0.72 \n",
       "i10->h8 i11->h8 i12->h8 i13->h8 i14->h8 i15->h8 i16->h8 i17->h8 \n",
       "   0.75    0.08   -0.17   22.13    1.54    1.95    1.53    1.32 \n",
       "  b->h9  i1->h9  i2->h9  i3->h9  i4->h9  i5->h9  i6->h9  i7->h9  i8->h9  i9->h9 \n",
       "  -3.18   -3.52   -0.62   -0.34   -0.44    0.20    0.09    0.82   -0.82   -1.16 \n",
       "i10->h9 i11->h9 i12->h9 i13->h9 i14->h9 i15->h9 i16->h9 i17->h9 \n",
       "  -0.46    2.12   -0.20  -14.51   -1.06   -1.37   -0.32   -0.28 \n",
       "  b->h10  i1->h10  i2->h10  i3->h10  i4->h10  i5->h10  i6->h10  i7->h10 \n",
       "   -0.64     0.50    -0.61    -0.16    -0.68     0.60     0.36     0.01 \n",
       " i8->h10  i9->h10 i10->h10 i11->h10 i12->h10 i13->h10 i14->h10 i15->h10 \n",
       "    0.27    -0.46    -0.56     0.80    -0.49    -2.40    -0.49     0.16 \n",
       "i16->h10 i17->h10 \n",
       "    0.53     0.30 \n",
       "  b->h11  i1->h11  i2->h11  i3->h11  i4->h11  i5->h11  i6->h11  i7->h11 \n",
       "    0.30    -0.42    -0.21     0.17    -0.45     0.37     0.65     0.25 \n",
       " i8->h11  i9->h11 i10->h11 i11->h11 i12->h11 i13->h11 i14->h11 i15->h11 \n",
       "    0.37    -0.52    -0.62     0.13    -0.52    -2.74     0.17    -0.16 \n",
       "i16->h11 i17->h11 \n",
       "   -0.09     0.18 \n",
       "  b->h12  i1->h12  i2->h12  i3->h12  i4->h12  i5->h12  i6->h12  i7->h12 \n",
       "   -3.26    -1.31     1.97    -0.37     0.57    -0.90     0.30    -0.64 \n",
       " i8->h12  i9->h12 i10->h12 i11->h12 i12->h12 i13->h12 i14->h12 i15->h12 \n",
       "   -0.48    -1.04    -0.23    -0.91     0.82   -40.93   -17.95   -12.50 \n",
       "i16->h12 i17->h12 \n",
       "   -5.15    -3.25 \n",
       "  b->h13  i1->h13  i2->h13  i3->h13  i4->h13  i5->h13  i6->h13  i7->h13 \n",
       "    1.69     1.92    -0.93     0.49    -0.92     0.57    -0.63    -0.25 \n",
       " i8->h13  i9->h13 i10->h13 i11->h13 i12->h13 i13->h13 i14->h13 i15->h13 \n",
       "    0.18     1.97    -0.79     0.49     0.10    -8.98    16.02    12.08 \n",
       "i16->h13 i17->h13 \n",
       "    3.12     3.55 \n",
       "  b->h14  i1->h14  i2->h14  i3->h14  i4->h14  i5->h14  i6->h14  i7->h14 \n",
       "    1.98     1.18    -1.95     0.32    -0.36     1.44    -0.38    -0.69 \n",
       " i8->h14  i9->h14 i10->h14 i11->h14 i12->h14 i13->h14 i14->h14 i15->h14 \n",
       "    0.78     2.44    -0.41     0.11    -2.07    -0.13    18.79    14.16 \n",
       "i16->h14 i17->h14 \n",
       "    4.63     4.36 \n",
       "  b->h15  i1->h15  i2->h15  i3->h15  i4->h15  i5->h15  i6->h15  i7->h15 \n",
       "   -0.66     1.93    -3.74    -2.82     0.85     4.09    -6.48     1.85 \n",
       " i8->h15  i9->h15 i10->h15 i11->h15 i12->h15 i13->h15 i14->h15 i15->h15 \n",
       "    0.28     0.53     4.38    -2.52     1.75     0.30    -9.18     3.97 \n",
       "i16->h15 i17->h15 \n",
       "   -3.51     1.47 \n",
       "  b->h16  i1->h16  i2->h16  i3->h16  i4->h16  i5->h16  i6->h16  i7->h16 \n",
       "  -12.94   -11.29    -6.27     0.29     1.63     6.64    -0.47    -2.91 \n",
       " i8->h16  i9->h16 i10->h16 i11->h16 i12->h16 i13->h16 i14->h16 i15->h16 \n",
       "   -4.66    -0.62     3.55    -0.49    -1.38     1.41    22.06    13.21 \n",
       "i16->h16 i17->h16 \n",
       "   -5.16     4.26 \n",
       "  b->h17  i1->h17  i2->h17  i3->h17  i4->h17  i5->h17  i6->h17  i7->h17 \n",
       "   -0.41    -5.98     2.13    11.03    -3.06   -13.53    11.66     2.78 \n",
       " i8->h17  i9->h17 i10->h17 i11->h17 i12->h17 i13->h17 i14->h17 i15->h17 \n",
       "   -3.34    -2.41    -9.90     9.49     2.06    -1.02    37.82    25.41 \n",
       "i16->h17 i17->h17 \n",
       "   23.73     0.27 \n",
       "  b->h18  i1->h18  i2->h18  i3->h18  i4->h18  i5->h18  i6->h18  i7->h18 \n",
       "    0.83     0.65    -0.03     0.07     0.24    -0.28    -0.32    -0.31 \n",
       " i8->h18  i9->h18 i10->h18 i11->h18 i12->h18 i13->h18 i14->h18 i15->h18 \n",
       "   -0.63     0.80    -0.67    -0.22    -0.72    -0.83     2.62     1.72 \n",
       "i16->h18 i17->h18 \n",
       "    0.34    -0.09 \n",
       "  b->h19  i1->h19  i2->h19  i3->h19  i4->h19  i5->h19  i6->h19  i7->h19 \n",
       "   -1.96    -0.44     1.35    -0.15    -0.32     0.13     0.83    -0.73 \n",
       " i8->h19  i9->h19 i10->h19 i11->h19 i12->h19 i13->h19 i14->h19 i15->h19 \n",
       "    0.16    -1.19     0.18    -1.02     0.15   -28.24   -11.10    -6.94 \n",
       "i16->h19 i17->h19 \n",
       "   -1.55    -2.80 \n",
       "  b->h20  i1->h20  i2->h20  i3->h20  i4->h20  i5->h20  i6->h20  i7->h20 \n",
       "   26.42     2.17     1.01     1.31     2.23     2.37     1.11     3.02 \n",
       " i8->h20  i9->h20 i10->h20 i11->h20 i12->h20 i13->h20 i14->h20 i15->h20 \n",
       "    2.04     2.22     2.87     1.82     2.23     0.01   -53.66   -51.18 \n",
       "i16->h20 i17->h20 \n",
       "  -52.59   -52.10 \n",
       "   b->o   h1->o   h2->o   h3->o   h4->o   h5->o   h6->o   h7->o   h8->o   h9->o \n",
       "  -9.22  -22.80   36.92   -3.05    8.94    9.27   -5.06   -0.17  -13.89  -10.60 \n",
       " h10->o  h11->o  h12->o  h13->o  h14->o  h15->o  h16->o  h17->o  h18->o  h19->o \n",
       "  -9.12   -6.46   32.90   17.71   32.36   60.19   -2.74   23.52   -3.12   10.68 \n",
       " h20->o \n",
       "-125.51 "
      ]
     },
     "metadata": {},
     "output_type": "display_data"
    }
   ],
   "source": [
    "library(nnet)\n",
    "model<-nnet(Label ~ . , data=train, size=20)\n",
    "summary(model)\n",
    "#17-20-1"
   ]
  },
  {
   "cell_type": "code",
   "execution_count": 20,
   "metadata": {},
   "outputs": [
    {
     "data": {
      "text/html": [
       "<ol class=list-inline>\n",
       "\t<li>'n'</li>\n",
       "\t<li>'nunits'</li>\n",
       "\t<li>'nconn'</li>\n",
       "\t<li>'conn'</li>\n",
       "\t<li>'nsunits'</li>\n",
       "\t<li>'decay'</li>\n",
       "\t<li>'entropy'</li>\n",
       "\t<li>'softmax'</li>\n",
       "\t<li>'censored'</li>\n",
       "\t<li>'value'</li>\n",
       "\t<li>'wts'</li>\n",
       "\t<li>'convergence'</li>\n",
       "\t<li>'fitted.values'</li>\n",
       "\t<li>'residuals'</li>\n",
       "\t<li>'call'</li>\n",
       "\t<li>'terms'</li>\n",
       "\t<li>'coefnames'</li>\n",
       "\t<li>'xlevels'</li>\n",
       "</ol>\n"
      ],
      "text/latex": [
       "\\begin{enumerate*}\n",
       "\\item 'n'\n",
       "\\item 'nunits'\n",
       "\\item 'nconn'\n",
       "\\item 'conn'\n",
       "\\item 'nsunits'\n",
       "\\item 'decay'\n",
       "\\item 'entropy'\n",
       "\\item 'softmax'\n",
       "\\item 'censored'\n",
       "\\item 'value'\n",
       "\\item 'wts'\n",
       "\\item 'convergence'\n",
       "\\item 'fitted.values'\n",
       "\\item 'residuals'\n",
       "\\item 'call'\n",
       "\\item 'terms'\n",
       "\\item 'coefnames'\n",
       "\\item 'xlevels'\n",
       "\\end{enumerate*}\n"
      ],
      "text/markdown": [
       "1. 'n'\n",
       "2. 'nunits'\n",
       "3. 'nconn'\n",
       "4. 'conn'\n",
       "5. 'nsunits'\n",
       "6. 'decay'\n",
       "7. 'entropy'\n",
       "8. 'softmax'\n",
       "9. 'censored'\n",
       "10. 'value'\n",
       "11. 'wts'\n",
       "12. 'convergence'\n",
       "13. 'fitted.values'\n",
       "14. 'residuals'\n",
       "15. 'call'\n",
       "16. 'terms'\n",
       "17. 'coefnames'\n",
       "18. 'xlevels'\n",
       "\n",
       "\n"
      ],
      "text/plain": [
       " [1] \"n\"             \"nunits\"        \"nconn\"         \"conn\"         \n",
       " [5] \"nsunits\"       \"decay\"         \"entropy\"       \"softmax\"      \n",
       " [9] \"censored\"      \"value\"         \"wts\"           \"convergence\"  \n",
       "[13] \"fitted.values\" \"residuals\"     \"call\"          \"terms\"        \n",
       "[17] \"coefnames\"     \"xlevels\"      "
      ]
     },
     "metadata": {},
     "output_type": "display_data"
    },
    {
     "data": {
      "text/html": [
       "<ol class=list-inline>\n",
       "\t<li>3.40862270727286</li>\n",
       "\t<li>0.778042624448387</li>\n",
       "\t<li>-0.381311687555054</li>\n",
       "\t<li>0.195042473465104</li>\n",
       "\t<li>0.561659030701197</li>\n",
       "\t<li>0.551098165167085</li>\n",
       "</ol>\n"
      ],
      "text/latex": [
       "\\begin{enumerate*}\n",
       "\\item 3.40862270727286\n",
       "\\item 0.778042624448387\n",
       "\\item -0.381311687555054\n",
       "\\item 0.195042473465104\n",
       "\\item 0.561659030701197\n",
       "\\item 0.551098165167085\n",
       "\\end{enumerate*}\n"
      ],
      "text/markdown": [
       "1. 3.40862270727286\n",
       "2. 0.778042624448387\n",
       "3. -0.381311687555054\n",
       "4. 0.195042473465104\n",
       "5. 0.561659030701197\n",
       "6. 0.551098165167085\n",
       "\n",
       "\n"
      ],
      "text/plain": [
       "[1]  3.4086227  0.7780426 -0.3813117  0.1950425  0.5616590  0.5510982"
      ]
     },
     "metadata": {},
     "output_type": "display_data"
    }
   ],
   "source": [
    "names(model)\n",
    "head(model$wts)"
   ]
  },
  {
   "cell_type": "code",
   "execution_count": 21,
   "metadata": {},
   "outputs": [
    {
     "name": "stderr",
     "output_type": "stream",
     "text": [
      "SHA-1 hash of file is bf3c7b8ac910823b729e3ce73bb6ab5e6955ad3d\n"
     ]
    },
    {
     "data": {
      "image/png": "[encoded data removed]",
      "text/plain": [
       "plot without title"
      ]
     },
     "metadata": {},
     "output_type": "display_data"
    }
   ],
   "source": [
    "#인공신경망 그래프\n",
    "library(devtools)\n",
    "\n",
    "source_url('https://gist.githubusercontent.com/Peque/41a9e20d6687f2f3108d/raw/85e14f3a292e126f1454864427e3a189c2fe33f3/nnet_plot_update.r')\n",
    "\n",
    "plot.nnet(model)"
   ]
  },
  {
   "cell_type": "code",
   "execution_count": 22,
   "metadata": {},
   "outputs": [
    {
     "data": {
      "image/png": "[encoded data removed]",
      "text/plain": [
       "plot without title"
      ]
     },
     "metadata": {},
     "output_type": "display_data"
    }
   ],
   "source": [
    "library(NeuralNetTools)\n",
    "garson(model)\n",
    "#변수의 중요도 #year > National > "
   ]
  },
  {
   "cell_type": "code",
   "execution_count": 23,
   "metadata": {},
   "outputs": [
    {
     "data": {
      "text/plain": [
       "       result\n",
       "y_train     0     1\n",
       "      0 10079     3\n",
       "      1     0  2978"
      ]
     },
     "metadata": {},
     "output_type": "display_data"
    },
    {
     "data": {
      "text/html": [
       "0.999770290964778"
      ],
      "text/latex": [
       "0.999770290964778"
      ],
      "text/markdown": [
       "0.999770290964778"
      ],
      "text/plain": [
       "[1] 0.9997703"
      ]
     },
     "metadata": {},
     "output_type": "display_data"
    }
   ],
   "source": [
    "#학습용 데이터셋의 예측 정확도\n",
    "pred<-predict(model,X_train) #모형이 예측한 값\n",
    "result<-round(pred) #반올림 처리\n",
    "#result\n",
    "table(y_train,result) #오분류표\n",
    "mean(y_train==result) #예측정확도"
   ]
  },
  {
   "cell_type": "code",
   "execution_count": 24,
   "metadata": {},
   "outputs": [
    {
     "data": {
      "text/plain": [
       "      result\n",
       "y_test    0    1\n",
       "     0 2537    0\n",
       "     1    5  722"
      ]
     },
     "metadata": {},
     "output_type": "display_data"
    },
    {
     "data": {
      "text/html": [
       "0.998468137254902"
      ],
      "text/latex": [
       "0.998468137254902"
      ],
      "text/markdown": [
       "0.998468137254902"
      ],
      "text/plain": [
       "[1] 0.9984681"
      ]
     },
     "metadata": {},
     "output_type": "display_data"
    }
   ],
   "source": [
    "#검증용 데이터셋의 예측 정확도\n",
    "pred<-predict(model,X_test)\n",
    "result<-round(pred)\n",
    "table(y_test,result)\n",
    "mean(y_test==result)"
   ]
  },
  {
   "cell_type": "code",
   "execution_count": null,
   "metadata": {},
   "outputs": [],
   "source": []
  }
 ],
 "metadata": {
  "kernelspec": {
   "display_name": "R",
   "language": "R",
   "name": "ir"
  },
  "language_info": {
   "codemirror_mode": "r",
   "file_extension": ".r",
   "mimetype": "text/x-r-source",
   "name": "R",
   "pygments_lexer": "r",
   "version": "3.6.1"
  }
 },
 "nbformat": 4,
 "nbformat_minor": 2
}
