{
 "cells": [
  {
   "cell_type": "code",
   "execution_count": 9,
   "metadata": {},
   "outputs": [
    {
     "data": {
      "text/html": [
       "<table>\n",
       "<thead><tr><th scope=col>Suburb</th><th scope=col>Address</th><th scope=col>Rooms</th><th scope=col>Type</th><th scope=col>Price</th><th scope=col>Method</th><th scope=col>SellerG</th><th scope=col>Date</th><th scope=col>Distance</th><th scope=col>Postcode</th><th scope=col>...</th><th scope=col>Bathroom</th><th scope=col>Car</th><th scope=col>Landsize</th><th scope=col>BuildingArea</th><th scope=col>YearBuilt</th><th scope=col>CouncilArea</th><th scope=col>Lattitude</th><th scope=col>Longtitude</th><th scope=col>Regionname</th><th scope=col>Propertycount</th></tr></thead>\n",
       "<tbody>\n",
       "\t<tr><td>Abbotsford           </td><td>68 Studley St        </td><td>2                    </td><td>h                    </td><td>     NA              </td><td>SS                   </td><td>Jellis               </td><td>3/09/2016            </td><td>2.5                  </td><td>3067                 </td><td>...                  </td><td>1                    </td><td>1                    </td><td>126                  </td><td> NA                  </td><td>  NA                 </td><td>Yarra                </td><td>-37.8014             </td><td>144.9958             </td><td>Northern Metropolitan</td><td>4019                 </td></tr>\n",
       "\t<tr><td>Abbotsford           </td><td>85 Turner St         </td><td>2                    </td><td>h                    </td><td>1480000              </td><td>S                    </td><td>Biggin               </td><td>3/12/2016            </td><td>2.5                  </td><td>3067                 </td><td>...                  </td><td>1                    </td><td>1                    </td><td>202                  </td><td> NA                  </td><td>  NA                 </td><td>Yarra                </td><td>-37.7996             </td><td>144.9984             </td><td>Northern Metropolitan</td><td>4019                 </td></tr>\n",
       "\t<tr><td>Abbotsford           </td><td>25 Bloomburg St      </td><td>2                    </td><td>h                    </td><td>1035000              </td><td>S                    </td><td>Biggin               </td><td>4/02/2016            </td><td>2.5                  </td><td>3067                 </td><td>...                  </td><td>1                    </td><td>0                    </td><td>156                  </td><td> 79                  </td><td>1900                 </td><td>Yarra                </td><td>-37.8079             </td><td>144.9934             </td><td>Northern Metropolitan</td><td>4019                 </td></tr>\n",
       "\t<tr><td>Abbotsford           </td><td>18/659 Victoria St   </td><td>3                    </td><td>u                    </td><td>     NA              </td><td>VB                   </td><td>Rounds               </td><td>4/02/2016            </td><td>2.5                  </td><td>3067                 </td><td>...                  </td><td>2                    </td><td>1                    </td><td>  0                  </td><td> NA                  </td><td>  NA                 </td><td>Yarra                </td><td>-37.8114             </td><td>145.0116             </td><td>Northern Metropolitan</td><td>4019                 </td></tr>\n",
       "\t<tr><td>Abbotsford           </td><td>5 Charles St         </td><td>3                    </td><td>h                    </td><td>1465000              </td><td>SP                   </td><td>Biggin               </td><td>4/03/2017            </td><td>2.5                  </td><td>3067                 </td><td>...                  </td><td>2                    </td><td>0                    </td><td>134                  </td><td>150                  </td><td>1900                 </td><td>Yarra                </td><td>-37.8093             </td><td>144.9944             </td><td>Northern Metropolitan</td><td>4019                 </td></tr>\n",
       "\t<tr><td>Abbotsford           </td><td>40 Federation La     </td><td>3                    </td><td>h                    </td><td> 850000              </td><td>PI                   </td><td>Biggin               </td><td>4/03/2017            </td><td>2.5                  </td><td>3067                 </td><td>...                  </td><td>2                    </td><td>1                    </td><td> 94                  </td><td> NA                  </td><td>  NA                 </td><td>Yarra                </td><td>-37.7969             </td><td>144.9969             </td><td>Northern Metropolitan</td><td>4019                 </td></tr>\n",
       "</tbody>\n",
       "</table>\n"
      ],
      "text/latex": [
       "\\begin{tabular}{r|lllllllllllllllllllll}\n",
       " Suburb & Address & Rooms & Type & Price & Method & SellerG & Date & Distance & Postcode & ... & Bathroom & Car & Landsize & BuildingArea & YearBuilt & CouncilArea & Lattitude & Longtitude & Regionname & Propertycount\\\\\n",
       "\\hline\n",
       "\t Abbotsford            & 68 Studley St         & 2                     & h                     &      NA               & SS                    & Jellis                & 3/09/2016             & 2.5                   & 3067                  & ...                   & 1                     & 1                     & 126                   &  NA                   &   NA                  & Yarra                 & -37.8014              & 144.9958              & Northern Metropolitan & 4019                 \\\\\n",
       "\t Abbotsford            & 85 Turner St          & 2                     & h                     & 1480000               & S                     & Biggin                & 3/12/2016             & 2.5                   & 3067                  & ...                   & 1                     & 1                     & 202                   &  NA                   &   NA                  & Yarra                 & -37.7996              & 144.9984              & Northern Metropolitan & 4019                 \\\\\n",
       "\t Abbotsford            & 25 Bloomburg St       & 2                     & h                     & 1035000               & S                     & Biggin                & 4/02/2016             & 2.5                   & 3067                  & ...                   & 1                     & 0                     & 156                   &  79                   & 1900                  & Yarra                 & -37.8079              & 144.9934              & Northern Metropolitan & 4019                 \\\\\n",
       "\t Abbotsford            & 18/659 Victoria St    & 3                     & u                     &      NA               & VB                    & Rounds                & 4/02/2016             & 2.5                   & 3067                  & ...                   & 2                     & 1                     &   0                   &  NA                   &   NA                  & Yarra                 & -37.8114              & 145.0116              & Northern Metropolitan & 4019                 \\\\\n",
       "\t Abbotsford            & 5 Charles St          & 3                     & h                     & 1465000               & SP                    & Biggin                & 4/03/2017             & 2.5                   & 3067                  & ...                   & 2                     & 0                     & 134                   & 150                   & 1900                  & Yarra                 & -37.8093              & 144.9944              & Northern Metropolitan & 4019                 \\\\\n",
       "\t Abbotsford            & 40 Federation La      & 3                     & h                     &  850000               & PI                    & Biggin                & 4/03/2017             & 2.5                   & 3067                  & ...                   & 2                     & 1                     &  94                   &  NA                   &   NA                  & Yarra                 & -37.7969              & 144.9969              & Northern Metropolitan & 4019                 \\\\\n",
       "\\end{tabular}\n"
      ],
      "text/markdown": [
       "\n",
       "| Suburb | Address | Rooms | Type | Price | Method | SellerG | Date | Distance | Postcode | ... | Bathroom | Car | Landsize | BuildingArea | YearBuilt | CouncilArea | Lattitude | Longtitude | Regionname | Propertycount |\n",
       "|---|---|---|---|---|---|---|---|---|---|---|---|---|---|---|---|---|---|---|---|---|\n",
       "| Abbotsford            | 68 Studley St         | 2                     | h                     |      NA               | SS                    | Jellis                | 3/09/2016             | 2.5                   | 3067                  | ...                   | 1                     | 1                     | 126                   |  NA                   |   NA                  | Yarra                 | -37.8014              | 144.9958              | Northern Metropolitan | 4019                  |\n",
       "| Abbotsford            | 85 Turner St          | 2                     | h                     | 1480000               | S                     | Biggin                | 3/12/2016             | 2.5                   | 3067                  | ...                   | 1                     | 1                     | 202                   |  NA                   |   NA                  | Yarra                 | -37.7996              | 144.9984              | Northern Metropolitan | 4019                  |\n",
       "| Abbotsford            | 25 Bloomburg St       | 2                     | h                     | 1035000               | S                     | Biggin                | 4/02/2016             | 2.5                   | 3067                  | ...                   | 1                     | 0                     | 156                   |  79                   | 1900                  | Yarra                 | -37.8079              | 144.9934              | Northern Metropolitan | 4019                  |\n",
       "| Abbotsford            | 18/659 Victoria St    | 3                     | u                     |      NA               | VB                    | Rounds                | 4/02/2016             | 2.5                   | 3067                  | ...                   | 2                     | 1                     |   0                   |  NA                   |   NA                  | Yarra                 | -37.8114              | 145.0116              | Northern Metropolitan | 4019                  |\n",
       "| Abbotsford            | 5 Charles St          | 3                     | h                     | 1465000               | SP                    | Biggin                | 4/03/2017             | 2.5                   | 3067                  | ...                   | 2                     | 0                     | 134                   | 150                   | 1900                  | Yarra                 | -37.8093              | 144.9944              | Northern Metropolitan | 4019                  |\n",
       "| Abbotsford            | 40 Federation La      | 3                     | h                     |  850000               | PI                    | Biggin                | 4/03/2017             | 2.5                   | 3067                  | ...                   | 2                     | 1                     |  94                   |  NA                   |   NA                  | Yarra                 | -37.7969              | 144.9969              | Northern Metropolitan | 4019                  |\n",
       "\n"
      ],
      "text/plain": [
       "  Suburb     Address            Rooms Type Price   Method SellerG Date     \n",
       "1 Abbotsford 68 Studley St      2     h         NA SS     Jellis  3/09/2016\n",
       "2 Abbotsford 85 Turner St       2     h    1480000 S      Biggin  3/12/2016\n",
       "3 Abbotsford 25 Bloomburg St    2     h    1035000 S      Biggin  4/02/2016\n",
       "4 Abbotsford 18/659 Victoria St 3     u         NA VB     Rounds  4/02/2016\n",
       "5 Abbotsford 5 Charles St       3     h    1465000 SP     Biggin  4/03/2017\n",
       "6 Abbotsford 40 Federation La   3     h     850000 PI     Biggin  4/03/2017\n",
       "  Distance Postcode ... Bathroom Car Landsize BuildingArea YearBuilt\n",
       "1 2.5      3067     ... 1        1   126       NA            NA     \n",
       "2 2.5      3067     ... 1        1   202       NA            NA     \n",
       "3 2.5      3067     ... 1        0   156       79          1900     \n",
       "4 2.5      3067     ... 2        1     0       NA            NA     \n",
       "5 2.5      3067     ... 2        0   134      150          1900     \n",
       "6 2.5      3067     ... 2        1    94       NA            NA     \n",
       "  CouncilArea Lattitude Longtitude Regionname            Propertycount\n",
       "1 Yarra       -37.8014  144.9958   Northern Metropolitan 4019         \n",
       "2 Yarra       -37.7996  144.9984   Northern Metropolitan 4019         \n",
       "3 Yarra       -37.8079  144.9934   Northern Metropolitan 4019         \n",
       "4 Yarra       -37.8114  145.0116   Northern Metropolitan 4019         \n",
       "5 Yarra       -37.8093  144.9944   Northern Metropolitan 4019         \n",
       "6 Yarra       -37.7969  144.9969   Northern Metropolitan 4019         "
      ]
     },
     "metadata": {},
     "output_type": "display_data"
    },
    {
     "data": {
      "text/html": [
       "<table>\n",
       "<thead><tr><th></th><th scope=col>Suburb</th><th scope=col>Address</th><th scope=col>Rooms</th><th scope=col>Type</th><th scope=col>Price</th><th scope=col>Method</th><th scope=col>SellerG</th><th scope=col>Date</th><th scope=col>Distance</th><th scope=col>Postcode</th><th scope=col>...</th><th scope=col>Bathroom</th><th scope=col>Car</th><th scope=col>Landsize</th><th scope=col>BuildingArea</th><th scope=col>YearBuilt</th><th scope=col>CouncilArea</th><th scope=col>Lattitude</th><th scope=col>Longtitude</th><th scope=col>Regionname</th><th scope=col>Propertycount</th></tr></thead>\n",
       "<tbody>\n",
       "\t<tr><th scope=row>19735</th><td>Williamstown         </td><td>87 Pasco St          </td><td>3                    </td><td>h                    </td><td>1285000              </td><td>S                    </td><td>Jas                  </td><td>29/07/2017           </td><td> 6.8                 </td><td>3016                 </td><td>...                  </td><td>1                    </td><td>1                    </td><td>2010                 </td><td>140                  </td><td> 78.00               </td><td>Whittlesea           </td><td>-37.68199            </td><td>145.0174             </td><td>Western Metropolitan </td><td>6380                 </td></tr>\n",
       "\t<tr><th scope=row>19736</th><td>Windsor              </td><td>201/152 Peel St      </td><td>2                    </td><td>u                    </td><td> 560000              </td><td>PI                   </td><td>hockingstuart        </td><td>29/07/2017           </td><td> 4.6                 </td><td>3181                 </td><td>...                  </td><td>1                    </td><td>1                    </td><td>  NA                 </td><td>585                  </td><td>    NA               </td><td>Whittlesea           </td><td>-37.67681            </td><td>145.0032             </td><td>Southern Metropolitan</td><td>4380                 </td></tr>\n",
       "\t<tr><th scope=row>19737</th><td>Wollert              </td><td>60 Saltlake Bvd      </td><td>3                    </td><td>h                    </td><td> 525300              </td><td>S                    </td><td>Stockdale            </td><td>29/07/2017           </td><td>25.5                 </td><td>3750                 </td><td>...                  </td><td>2                    </td><td>2                    </td><td>  NA                 </td><td>333                  </td><td>    NA               </td><td>Darebin              </td><td>-37.75884            </td><td>145.0026             </td><td>Northern Metropolitan</td><td>2940                 </td></tr>\n",
       "\t<tr><th scope=row>19738</th><td>Yarraville           </td><td>2 Adeney St          </td><td>2                    </td><td>h                    </td><td> 750000              </td><td>SP                   </td><td>hockingstuart        </td><td>29/07/2017           </td><td> 6.3                 </td><td>3013                 </td><td>...                  </td><td>2                    </td><td>2                    </td><td>1999                 </td><td>199                  </td><td>140.00               </td><td>Darebin              </td><td>-37.75948            </td><td>144.9962             </td><td>Western Metropolitan </td><td>6543                 </td></tr>\n",
       "\t<tr><th scope=row>19739</th><td>Yarraville           </td><td>54 Pentland Pde      </td><td>6                    </td><td>h                    </td><td>2450000              </td><td>VB                   </td><td>Village              </td><td>29/07/2017           </td><td> 6.3                 </td><td>3013                 </td><td>...                  </td><td>2                    </td><td>1                    </td><td>2011                 </td><td>238                  </td><td>118.00               </td><td>Hume                 </td><td>-37.70322            </td><td>144.8824             </td><td>Western Metropolitan </td><td>6543                 </td></tr>\n",
       "\t<tr><th scope=row>19740</th><td>Yarraville           </td><td>10/127 Somerville Rd </td><td>3                    </td><td>t                    </td><td> 645000              </td><td>SP                   </td><td>Jas                  </td><td>29/07/2017           </td><td> 6.3                 </td><td>3013                 </td><td>...                  </td><td>1                    </td><td>1                    </td><td>1980                 </td><td>  0                  </td><td> 66.32               </td><td>Hume                 </td><td>-37.69815            </td><td>144.8802             </td><td>Western Metropolitan </td><td>6543                 </td></tr>\n",
       "</tbody>\n",
       "</table>\n"
      ],
      "text/latex": [
       "\\begin{tabular}{r|lllllllllllllllllllll}\n",
       "  & Suburb & Address & Rooms & Type & Price & Method & SellerG & Date & Distance & Postcode & ... & Bathroom & Car & Landsize & BuildingArea & YearBuilt & CouncilArea & Lattitude & Longtitude & Regionname & Propertycount\\\\\n",
       "\\hline\n",
       "\t19735 & Williamstown          & 87 Pasco St           & 3                     & h                     & 1285000               & S                     & Jas                   & 29/07/2017            &  6.8                  & 3016                  & ...                   & 1                     & 1                     & 2010                  & 140                   &  78.00                & Whittlesea            & -37.68199             & 145.0174              & Western Metropolitan  & 6380                 \\\\\n",
       "\t19736 & Windsor               & 201/152 Peel St       & 2                     & u                     &  560000               & PI                    & hockingstuart         & 29/07/2017            &  4.6                  & 3181                  & ...                   & 1                     & 1                     &   NA                  & 585                   &     NA                & Whittlesea            & -37.67681             & 145.0032              & Southern Metropolitan & 4380                 \\\\\n",
       "\t19737 & Wollert               & 60 Saltlake Bvd       & 3                     & h                     &  525300               & S                     & Stockdale             & 29/07/2017            & 25.5                  & 3750                  & ...                   & 2                     & 2                     &   NA                  & 333                   &     NA                & Darebin               & -37.75884             & 145.0026              & Northern Metropolitan & 2940                 \\\\\n",
       "\t19738 & Yarraville            & 2 Adeney St           & 2                     & h                     &  750000               & SP                    & hockingstuart         & 29/07/2017            &  6.3                  & 3013                  & ...                   & 2                     & 2                     & 1999                  & 199                   & 140.00                & Darebin               & -37.75948             & 144.9962              & Western Metropolitan  & 6543                 \\\\\n",
       "\t19739 & Yarraville            & 54 Pentland Pde       & 6                     & h                     & 2450000               & VB                    & Village               & 29/07/2017            &  6.3                  & 3013                  & ...                   & 2                     & 1                     & 2011                  & 238                   & 118.00                & Hume                  & -37.70322             & 144.8824              & Western Metropolitan  & 6543                 \\\\\n",
       "\t19740 & Yarraville            & 10/127 Somerville Rd  & 3                     & t                     &  645000               & SP                    & Jas                   & 29/07/2017            &  6.3                  & 3013                  & ...                   & 1                     & 1                     & 1980                  &   0                   &  66.32                & Hume                  & -37.69815             & 144.8802              & Western Metropolitan  & 6543                 \\\\\n",
       "\\end{tabular}\n"
      ],
      "text/markdown": [
       "\n",
       "| <!--/--> | Suburb | Address | Rooms | Type | Price | Method | SellerG | Date | Distance | Postcode | ... | Bathroom | Car | Landsize | BuildingArea | YearBuilt | CouncilArea | Lattitude | Longtitude | Regionname | Propertycount |\n",
       "|---|---|---|---|---|---|---|---|---|---|---|---|---|---|---|---|---|---|---|---|---|---|\n",
       "| 19735 | Williamstown          | 87 Pasco St           | 3                     | h                     | 1285000               | S                     | Jas                   | 29/07/2017            |  6.8                  | 3016                  | ...                   | 1                     | 1                     | 2010                  | 140                   |  78.00                | Whittlesea            | -37.68199             | 145.0174              | Western Metropolitan  | 6380                  |\n",
       "| 19736 | Windsor               | 201/152 Peel St       | 2                     | u                     |  560000               | PI                    | hockingstuart         | 29/07/2017            |  4.6                  | 3181                  | ...                   | 1                     | 1                     |   NA                  | 585                   |     NA                | Whittlesea            | -37.67681             | 145.0032              | Southern Metropolitan | 4380                  |\n",
       "| 19737 | Wollert               | 60 Saltlake Bvd       | 3                     | h                     |  525300               | S                     | Stockdale             | 29/07/2017            | 25.5                  | 3750                  | ...                   | 2                     | 2                     |   NA                  | 333                   |     NA                | Darebin               | -37.75884             | 145.0026              | Northern Metropolitan | 2940                  |\n",
       "| 19738 | Yarraville            | 2 Adeney St           | 2                     | h                     |  750000               | SP                    | hockingstuart         | 29/07/2017            |  6.3                  | 3013                  | ...                   | 2                     | 2                     | 1999                  | 199                   | 140.00                | Darebin               | -37.75948             | 144.9962              | Western Metropolitan  | 6543                  |\n",
       "| 19739 | Yarraville            | 54 Pentland Pde       | 6                     | h                     | 2450000               | VB                    | Village               | 29/07/2017            |  6.3                  | 3013                  | ...                   | 2                     | 1                     | 2011                  | 238                   | 118.00                | Hume                  | -37.70322             | 144.8824              | Western Metropolitan  | 6543                  |\n",
       "| 19740 | Yarraville            | 10/127 Somerville Rd  | 3                     | t                     |  645000               | SP                    | Jas                   | 29/07/2017            |  6.3                  | 3013                  | ...                   | 1                     | 1                     | 1980                  |   0                   |  66.32                | Hume                  | -37.69815             | 144.8802              | Western Metropolitan  | 6543                  |\n",
       "\n"
      ],
      "text/plain": [
       "      Suburb       Address              Rooms Type Price   Method SellerG      \n",
       "19735 Williamstown 87 Pasco St          3     h    1285000 S      Jas          \n",
       "19736 Windsor      201/152 Peel St      2     u     560000 PI     hockingstuart\n",
       "19737 Wollert      60 Saltlake Bvd      3     h     525300 S      Stockdale    \n",
       "19738 Yarraville   2 Adeney St          2     h     750000 SP     hockingstuart\n",
       "19739 Yarraville   54 Pentland Pde      6     h    2450000 VB     Village      \n",
       "19740 Yarraville   10/127 Somerville Rd 3     t     645000 SP     Jas          \n",
       "      Date       Distance Postcode ... Bathroom Car Landsize BuildingArea\n",
       "19735 29/07/2017  6.8     3016     ... 1        1   2010     140         \n",
       "19736 29/07/2017  4.6     3181     ... 1        1     NA     585         \n",
       "19737 29/07/2017 25.5     3750     ... 2        2     NA     333         \n",
       "19738 29/07/2017  6.3     3013     ... 2        2   1999     199         \n",
       "19739 29/07/2017  6.3     3013     ... 2        1   2011     238         \n",
       "19740 29/07/2017  6.3     3013     ... 1        1   1980       0         \n",
       "      YearBuilt CouncilArea Lattitude Longtitude Regionname           \n",
       "19735  78.00    Whittlesea  -37.68199 145.0174   Western Metropolitan \n",
       "19736     NA    Whittlesea  -37.67681 145.0032   Southern Metropolitan\n",
       "19737     NA    Darebin     -37.75884 145.0026   Northern Metropolitan\n",
       "19738 140.00    Darebin     -37.75948 144.9962   Western Metropolitan \n",
       "19739 118.00    Hume        -37.70322 144.8824   Western Metropolitan \n",
       "19740  66.32    Hume        -37.69815 144.8802   Western Metropolitan \n",
       "      Propertycount\n",
       "19735 6380         \n",
       "19736 4380         \n",
       "19737 2940         \n",
       "19738 6543         \n",
       "19739 6543         \n",
       "19740 6543         "
      ]
     },
     "metadata": {},
     "output_type": "display_data"
    },
    {
     "data": {
      "text/html": [
       "<ol class=list-inline>\n",
       "\t<li>19740</li>\n",
       "\t<li>21</li>\n",
       "</ol>\n"
      ],
      "text/latex": [
       "\\begin{enumerate*}\n",
       "\\item 19740\n",
       "\\item 21\n",
       "\\end{enumerate*}\n"
      ],
      "text/markdown": [
       "1. 19740\n",
       "2. 21\n",
       "\n",
       "\n"
      ],
      "text/plain": [
       "[1] 19740    21"
      ]
     },
     "metadata": {},
     "output_type": "display_data"
    }
   ],
   "source": [
    "df<-read.csv('d:/data/house_regress/data.csv')\n",
    "head(df) #첫 6행\n",
    "tail(df) #끝 6행\n",
    "dim(df)"
   ]
  },
  {
   "cell_type": "code",
   "execution_count": 10,
   "metadata": {},
   "outputs": [],
   "source": [
    "library(dplyr) #라이브러리 로딩\n",
    "# 기계학습에 사용할 수 없는 필드들을 제거, '-' 필드 제거\n",
    "df<-df %>% select(-Suburb,-Address,-Type,-Method,-SellerG,\n",
    "                 -Date,-CouncilArea,-Regionname)"
   ]
  },
  {
   "cell_type": "code",
   "execution_count": 11,
   "metadata": {},
   "outputs": [
    {
     "data": {
      "text/html": [
       "<ol class=list-inline>\n",
       "\t<li>19740</li>\n",
       "\t<li>13</li>\n",
       "</ol>\n"
      ],
      "text/latex": [
       "\\begin{enumerate*}\n",
       "\\item 19740\n",
       "\\item 13\n",
       "\\end{enumerate*}\n"
      ],
      "text/markdown": [
       "1. 19740\n",
       "2. 13\n",
       "\n",
       "\n"
      ],
      "text/plain": [
       "[1] 19740    13"
      ]
     },
     "metadata": {},
     "output_type": "display_data"
    }
   ],
   "source": [
    "dim(df) #데이터의 차원"
   ]
  },
  {
   "cell_type": "code",
   "execution_count": 12,
   "metadata": {},
   "outputs": [
    {
     "data": {
      "text/html": [
       "<table>\n",
       "<thead><tr><th></th><th scope=col>Rooms</th><th scope=col>Price</th><th scope=col>Distance</th><th scope=col>Postcode</th><th scope=col>Bedroom2</th><th scope=col>Bathroom</th><th scope=col>Car</th><th scope=col>Landsize</th><th scope=col>BuildingArea</th><th scope=col>YearBuilt</th><th scope=col>Lattitude</th><th scope=col>Longtitude</th><th scope=col>Propertycount</th></tr></thead>\n",
       "<tbody>\n",
       "\t<tr><th scope=row>19727</th><td>4        </td><td> 821000  </td><td>16.5     </td><td>3049     </td><td>3        </td><td>2        </td><td>2        </td><td>2004     </td><td>662      </td><td>232.00   </td><td>-37.70525</td><td>144.7570 </td><td>2474     </td></tr>\n",
       "\t<tr><th scope=row>19732</th><td>3        </td><td> 601000  </td><td>35.5     </td><td>3757     </td><td>3        </td><td>2        </td><td>2        </td><td>1970     </td><td>779      </td><td>135.00   </td><td>-37.76311</td><td>145.1049 </td><td>2170     </td></tr>\n",
       "\t<tr><th scope=row>19735</th><td>3        </td><td>1285000  </td><td> 6.8     </td><td>3016     </td><td>2        </td><td>1        </td><td>1        </td><td>2010     </td><td>140      </td><td> 78.00   </td><td>-37.68199</td><td>145.0174 </td><td>6380     </td></tr>\n",
       "\t<tr><th scope=row>19738</th><td>2        </td><td> 750000  </td><td> 6.3     </td><td>3013     </td><td>3        </td><td>2        </td><td>2        </td><td>1999     </td><td>199      </td><td>140.00   </td><td>-37.75948</td><td>144.9962 </td><td>6543     </td></tr>\n",
       "\t<tr><th scope=row>19739</th><td>6        </td><td>2450000  </td><td> 6.3     </td><td>3013     </td><td>3        </td><td>2        </td><td>1        </td><td>2011     </td><td>238      </td><td>118.00   </td><td>-37.70322</td><td>144.8824 </td><td>6543     </td></tr>\n",
       "\t<tr><th scope=row>19740</th><td>3        </td><td> 645000  </td><td> 6.3     </td><td>3013     </td><td>2        </td><td>1        </td><td>1        </td><td>1980     </td><td>  0      </td><td> 66.32   </td><td>-37.69815</td><td>144.8802 </td><td>6543     </td></tr>\n",
       "</tbody>\n",
       "</table>\n"
      ],
      "text/latex": [
       "\\begin{tabular}{r|lllllllllllll}\n",
       "  & Rooms & Price & Distance & Postcode & Bedroom2 & Bathroom & Car & Landsize & BuildingArea & YearBuilt & Lattitude & Longtitude & Propertycount\\\\\n",
       "\\hline\n",
       "\t19727 & 4         &  821000   & 16.5      & 3049      & 3         & 2         & 2         & 2004      & 662       & 232.00    & -37.70525 & 144.7570  & 2474     \\\\\n",
       "\t19732 & 3         &  601000   & 35.5      & 3757      & 3         & 2         & 2         & 1970      & 779       & 135.00    & -37.76311 & 145.1049  & 2170     \\\\\n",
       "\t19735 & 3         & 1285000   &  6.8      & 3016      & 2         & 1         & 1         & 2010      & 140       &  78.00    & -37.68199 & 145.0174  & 6380     \\\\\n",
       "\t19738 & 2         &  750000   &  6.3      & 3013      & 3         & 2         & 2         & 1999      & 199       & 140.00    & -37.75948 & 144.9962  & 6543     \\\\\n",
       "\t19739 & 6         & 2450000   &  6.3      & 3013      & 3         & 2         & 1         & 2011      & 238       & 118.00    & -37.70322 & 144.8824  & 6543     \\\\\n",
       "\t19740 & 3         &  645000   &  6.3      & 3013      & 2         & 1         & 1         & 1980      &   0       &  66.32    & -37.69815 & 144.8802  & 6543     \\\\\n",
       "\\end{tabular}\n"
      ],
      "text/markdown": [
       "\n",
       "| <!--/--> | Rooms | Price | Distance | Postcode | Bedroom2 | Bathroom | Car | Landsize | BuildingArea | YearBuilt | Lattitude | Longtitude | Propertycount |\n",
       "|---|---|---|---|---|---|---|---|---|---|---|---|---|---|\n",
       "| 19727 | 4         |  821000   | 16.5      | 3049      | 3         | 2         | 2         | 2004      | 662       | 232.00    | -37.70525 | 144.7570  | 2474      |\n",
       "| 19732 | 3         |  601000   | 35.5      | 3757      | 3         | 2         | 2         | 1970      | 779       | 135.00    | -37.76311 | 145.1049  | 2170      |\n",
       "| 19735 | 3         | 1285000   |  6.8      | 3016      | 2         | 1         | 1         | 2010      | 140       |  78.00    | -37.68199 | 145.0174  | 6380      |\n",
       "| 19738 | 2         |  750000   |  6.3      | 3013      | 3         | 2         | 2         | 1999      | 199       | 140.00    | -37.75948 | 144.9962  | 6543      |\n",
       "| 19739 | 6         | 2450000   |  6.3      | 3013      | 3         | 2         | 1         | 2011      | 238       | 118.00    | -37.70322 | 144.8824  | 6543      |\n",
       "| 19740 | 3         |  645000   |  6.3      | 3013      | 2         | 1         | 1         | 1980      |   0       |  66.32    | -37.69815 | 144.8802  | 6543      |\n",
       "\n"
      ],
      "text/plain": [
       "      Rooms Price   Distance Postcode Bedroom2 Bathroom Car Landsize\n",
       "19727 4      821000 16.5     3049     3        2        2   2004    \n",
       "19732 3      601000 35.5     3757     3        2        2   1970    \n",
       "19735 3     1285000  6.8     3016     2        1        1   2010    \n",
       "19738 2      750000  6.3     3013     3        2        2   1999    \n",
       "19739 6     2450000  6.3     3013     3        2        1   2011    \n",
       "19740 3      645000  6.3     3013     2        1        1   1980    \n",
       "      BuildingArea YearBuilt Lattitude Longtitude Propertycount\n",
       "19727 662          232.00    -37.70525 144.7570   2474         \n",
       "19732 779          135.00    -37.76311 145.1049   2170         \n",
       "19735 140           78.00    -37.68199 145.0174   6380         \n",
       "19738 199          140.00    -37.75948 144.9962   6543         \n",
       "19739 238          118.00    -37.70322 144.8824   6543         \n",
       "19740   0           66.32    -37.69815 144.8802   6543         "
      ]
     },
     "metadata": {},
     "output_type": "display_data"
    },
    {
     "data": {
      "text/html": [
       "<ol class=list-inline>\n",
       "\t<li>6050</li>\n",
       "\t<li>13</li>\n",
       "</ol>\n"
      ],
      "text/latex": [
       "\\begin{enumerate*}\n",
       "\\item 6050\n",
       "\\item 13\n",
       "\\end{enumerate*}\n"
      ],
      "text/markdown": [
       "1. 6050\n",
       "2. 13\n",
       "\n",
       "\n"
      ],
      "text/plain": [
       "[1] 6050   13"
      ]
     },
     "metadata": {},
     "output_type": "display_data"
    }
   ],
   "source": [
    "df <-na.omit(df) #결측값이 있는 행들을 제거\n",
    "tail(df)\n",
    "dim(df)"
   ]
  },
  {
   "cell_type": "code",
   "execution_count": 13,
   "metadata": {},
   "outputs": [
    {
     "data": {
      "text/plain": [
       "     Rooms           Price            Distance        Postcode   \n",
       " Min.   :1.000   Min.   : 131000   Min.   : 0.00   Min.   :3000  \n",
       " 1st Qu.:2.000   1st Qu.: 625000   1st Qu.: 5.90   1st Qu.:3044  \n",
       " Median :3.000   Median : 884250   Median : 9.00   Median :3081  \n",
       " Mean   :2.925   Mean   :1071520   Mean   : 9.66   Mean   :3102  \n",
       " 3rd Qu.:4.000   3rd Qu.:1330000   3rd Qu.:12.40   3rd Qu.:3146  \n",
       " Max.   :8.000   Max.   :9000000   Max.   :47.40   Max.   :3977  \n",
       "    Bedroom2        Bathroom          Car            Landsize      \n",
       " Min.   :0.000   Min.   :1.000   Min.   : 0.000   Min.   :    0.0  \n",
       " 1st Qu.:2.000   1st Qu.:1.000   1st Qu.: 1.000   1st Qu.:  158.0  \n",
       " Median :3.000   Median :1.000   Median : 1.000   Median :  401.0  \n",
       " Mean   :2.899   Mean   :1.574   Mean   : 1.571   Mean   :  556.2  \n",
       " 3rd Qu.:3.000   3rd Qu.:2.000   3rd Qu.: 2.000   3rd Qu.:  661.0  \n",
       " Max.   :9.000   Max.   :8.000   Max.   :10.000   Max.   :37000.0  \n",
       "  BuildingArea       YearBuilt      Lattitude        Longtitude   \n",
       " Min.   :    0.0   Min.   :   1   Min.   :-38.16   Min.   :144.6  \n",
       " 1st Qu.:   91.0   1st Qu.:1930   1st Qu.:-37.86   1st Qu.:144.9  \n",
       " Median :  126.3   Median :1965   Median :-37.80   Median :145.0  \n",
       " Mean   :  165.9   Mean   :1858   Mean   :-37.81   Mean   :145.0  \n",
       " 3rd Qu.:  180.0   3rd Qu.:1997   3rd Qu.:-37.76   3rd Qu.:145.1  \n",
       " Max.   :16000.0   Max.   :2018   Max.   :-37.46   Max.   :145.5  \n",
       " Propertycount  \n",
       " Min.   :  389  \n",
       " 1st Qu.: 4407  \n",
       " Median : 6567  \n",
       " Mean   : 7440  \n",
       " 3rd Qu.: 9758  \n",
       " Max.   :21650  "
      ]
     },
     "metadata": {},
     "output_type": "display_data"
    }
   ],
   "source": [
    "summary(df) #기초통계량"
   ]
  },
  {
   "cell_type": "code",
   "execution_count": 14,
   "metadata": {},
   "outputs": [
    {
     "data": {
      "text/html": [
       "<table>\n",
       "<thead><tr><th></th><th scope=col>Rooms</th><th scope=col>Price</th><th scope=col>Distance</th><th scope=col>Postcode</th><th scope=col>Bedroom2</th><th scope=col>Bathroom</th><th scope=col>Car</th><th scope=col>Landsize</th><th scope=col>BuildingArea</th><th scope=col>YearBuilt</th><th scope=col>Lattitude</th><th scope=col>Longtitude</th><th scope=col>Propertycount</th></tr></thead>\n",
       "<tbody>\n",
       "\t<tr><th scope=row>Rooms</th><td> 1.00000000 </td><td> 0.53463030 </td><td> 0.27962928 </td><td> 0.05119844 </td><td> 0.84157314 </td><td> 0.54644647 </td><td> 0.37255092 </td><td> 0.096887269</td><td> 0.19752555 </td><td>-0.01920178 </td><td> 0.020388497</td><td> 0.07405989 </td><td>-0.122694325</td></tr>\n",
       "\t<tr><th scope=row>Price</th><td> 0.53463030 </td><td> 1.00000000 </td><td>-0.14427829 </td><td> 0.12347889 </td><td> 0.48373602 </td><td> 0.47642527 </td><td> 0.24907287 </td><td> 0.045285947</td><td> 0.13186511 </td><td> 0.06273046 </td><td>-0.180191782</td><td> 0.18149425 </td><td>-0.048600450</td></tr>\n",
       "\t<tr><th scope=row>Distance</th><td> 0.27962928 </td><td>-0.14427829 </td><td> 1.00000000 </td><td> 0.41096484 </td><td> 0.24201879 </td><td> 0.10087610 </td><td> 0.23838671 </td><td> 0.138506471</td><td> 0.14595136 </td><td>-0.19322456 </td><td>-0.055143454</td><td> 0.15149058 </td><td>-0.093605142</td></tr>\n",
       "\t<tr><th scope=row>Postcode</th><td> 0.05119844 </td><td> 0.12347889 </td><td> 0.41096484 </td><td> 1.00000000 </td><td> 0.04771559 </td><td> 0.08920162 </td><td> 0.04007828 </td><td> 0.052856923</td><td> 0.12433363 </td><td>-0.09197304 </td><td>-0.352366531</td><td> 0.36161329 </td><td> 0.063322631</td></tr>\n",
       "\t<tr><th scope=row>Bedroom2</th><td> 0.84157314 </td><td> 0.48373602 </td><td> 0.24201879 </td><td> 0.04771559 </td><td> 1.00000000 </td><td> 0.61732399 </td><td> 0.42739817 </td><td> 0.095387324</td><td> 0.21737907 </td><td>-0.03936692 </td><td> 0.016208178</td><td> 0.08884506 </td><td>-0.116920801</td></tr>\n",
       "\t<tr><th scope=row>Bathroom</th><td> 0.54644647 </td><td> 0.47642527 </td><td> 0.10087610 </td><td> 0.08920162 </td><td> 0.61732399 </td><td> 1.00000000 </td><td> 0.33725941 </td><td> 0.067456177</td><td> 0.17704432 </td><td> 0.01569730 </td><td>-0.074521265</td><td> 0.11455666 </td><td>-0.071313157</td></tr>\n",
       "\t<tr><th scope=row>Car</th><td> 0.37255092 </td><td> 0.24907287 </td><td> 0.23838671 </td><td> 0.04007828 </td><td> 0.42739817 </td><td> 0.33725941 </td><td> 1.00000000 </td><td> 0.121483886</td><td> 0.13310930 </td><td>-0.03190382 </td><td> 0.015516643</td><td> 0.05777626 </td><td>-0.049488823</td></tr>\n",
       "\t<tr><th scope=row>Landsize</th><td> 0.09688727 </td><td> 0.04528595 </td><td> 0.13850647 </td><td> 0.05285692 </td><td> 0.09538732 </td><td> 0.06745618 </td><td> 0.12148389 </td><td> 1.000000000</td><td> 0.15835091 </td><td>-0.35960473 </td><td>-0.002857585</td><td> 0.03257416 </td><td>-0.003747242</td></tr>\n",
       "\t<tr><th scope=row>BuildingArea</th><td> 0.19752555 </td><td> 0.13186511 </td><td> 0.14595136 </td><td> 0.12433363 </td><td> 0.21737907 </td><td> 0.17704432 </td><td> 0.13310930 </td><td> 0.158350906</td><td> 1.00000000 </td><td>-0.36175583 </td><td>-0.016167515</td><td> 0.04613018 </td><td>-0.018124988</td></tr>\n",
       "\t<tr><th scope=row>YearBuilt</th><td>-0.01920178 </td><td> 0.06273046 </td><td>-0.19322456 </td><td>-0.09197304 </td><td>-0.03936692 </td><td> 0.01569730 </td><td>-0.03190382 </td><td>-0.359604732</td><td>-0.36175583 </td><td> 1.00000000 </td><td> 0.023724995</td><td>-0.02259983 </td><td>-0.028540783</td></tr>\n",
       "\t<tr><th scope=row>Lattitude</th><td> 0.02038850 </td><td>-0.18019178 </td><td>-0.05514345 </td><td>-0.35236653 </td><td> 0.01620818 </td><td>-0.07452127 </td><td> 0.01551664 </td><td>-0.002857585</td><td>-0.01616752 </td><td> 0.02372500 </td><td> 1.000000000</td><td>-0.36623508 </td><td> 0.057980593</td></tr>\n",
       "\t<tr><th scope=row>Longtitude</th><td> 0.07405989 </td><td> 0.18149425 </td><td> 0.15149058 </td><td> 0.36161329 </td><td> 0.08884506 </td><td> 0.11455666 </td><td> 0.05777626 </td><td> 0.032574164</td><td> 0.04613018 </td><td>-0.02259983 </td><td>-0.366235084</td><td> 1.00000000 </td><td> 0.097286663</td></tr>\n",
       "\t<tr><th scope=row>Propertycount</th><td>-0.12269432 </td><td>-0.04860045 </td><td>-0.09360514 </td><td> 0.06332263 </td><td>-0.11692080 </td><td>-0.07131316 </td><td>-0.04948882 </td><td>-0.003747242</td><td>-0.01812499 </td><td>-0.02854078 </td><td> 0.057980593</td><td> 0.09728666 </td><td> 1.000000000</td></tr>\n",
       "</tbody>\n",
       "</table>\n"
      ],
      "text/latex": [
       "\\begin{tabular}{r|lllllllllllll}\n",
       "  & Rooms & Price & Distance & Postcode & Bedroom2 & Bathroom & Car & Landsize & BuildingArea & YearBuilt & Lattitude & Longtitude & Propertycount\\\\\n",
       "\\hline\n",
       "\tRooms &  1.00000000  &  0.53463030  &  0.27962928  &  0.05119844  &  0.84157314  &  0.54644647  &  0.37255092  &  0.096887269 &  0.19752555  & -0.01920178  &  0.020388497 &  0.07405989  & -0.122694325\\\\\n",
       "\tPrice &  0.53463030  &  1.00000000  & -0.14427829  &  0.12347889  &  0.48373602  &  0.47642527  &  0.24907287  &  0.045285947 &  0.13186511  &  0.06273046  & -0.180191782 &  0.18149425  & -0.048600450\\\\\n",
       "\tDistance &  0.27962928  & -0.14427829  &  1.00000000  &  0.41096484  &  0.24201879  &  0.10087610  &  0.23838671  &  0.138506471 &  0.14595136  & -0.19322456  & -0.055143454 &  0.15149058  & -0.093605142\\\\\n",
       "\tPostcode &  0.05119844  &  0.12347889  &  0.41096484  &  1.00000000  &  0.04771559  &  0.08920162  &  0.04007828  &  0.052856923 &  0.12433363  & -0.09197304  & -0.352366531 &  0.36161329  &  0.063322631\\\\\n",
       "\tBedroom2 &  0.84157314  &  0.48373602  &  0.24201879  &  0.04771559  &  1.00000000  &  0.61732399  &  0.42739817  &  0.095387324 &  0.21737907  & -0.03936692  &  0.016208178 &  0.08884506  & -0.116920801\\\\\n",
       "\tBathroom &  0.54644647  &  0.47642527  &  0.10087610  &  0.08920162  &  0.61732399  &  1.00000000  &  0.33725941  &  0.067456177 &  0.17704432  &  0.01569730  & -0.074521265 &  0.11455666  & -0.071313157\\\\\n",
       "\tCar &  0.37255092  &  0.24907287  &  0.23838671  &  0.04007828  &  0.42739817  &  0.33725941  &  1.00000000  &  0.121483886 &  0.13310930  & -0.03190382  &  0.015516643 &  0.05777626  & -0.049488823\\\\\n",
       "\tLandsize &  0.09688727  &  0.04528595  &  0.13850647  &  0.05285692  &  0.09538732  &  0.06745618  &  0.12148389  &  1.000000000 &  0.15835091  & -0.35960473  & -0.002857585 &  0.03257416  & -0.003747242\\\\\n",
       "\tBuildingArea &  0.19752555  &  0.13186511  &  0.14595136  &  0.12433363  &  0.21737907  &  0.17704432  &  0.13310930  &  0.158350906 &  1.00000000  & -0.36175583  & -0.016167515 &  0.04613018  & -0.018124988\\\\\n",
       "\tYearBuilt & -0.01920178  &  0.06273046  & -0.19322456  & -0.09197304  & -0.03936692  &  0.01569730  & -0.03190382  & -0.359604732 & -0.36175583  &  1.00000000  &  0.023724995 & -0.02259983  & -0.028540783\\\\\n",
       "\tLattitude &  0.02038850  & -0.18019178  & -0.05514345  & -0.35236653  &  0.01620818  & -0.07452127  &  0.01551664  & -0.002857585 & -0.01616752  &  0.02372500  &  1.000000000 & -0.36623508  &  0.057980593\\\\\n",
       "\tLongtitude &  0.07405989  &  0.18149425  &  0.15149058  &  0.36161329  &  0.08884506  &  0.11455666  &  0.05777626  &  0.032574164 &  0.04613018  & -0.02259983  & -0.366235084 &  1.00000000  &  0.097286663\\\\\n",
       "\tPropertycount & -0.12269432  & -0.04860045  & -0.09360514  &  0.06332263  & -0.11692080  & -0.07131316  & -0.04948882  & -0.003747242 & -0.01812499  & -0.02854078  &  0.057980593 &  0.09728666  &  1.000000000\\\\\n",
       "\\end{tabular}\n"
      ],
      "text/markdown": [
       "\n",
       "| <!--/--> | Rooms | Price | Distance | Postcode | Bedroom2 | Bathroom | Car | Landsize | BuildingArea | YearBuilt | Lattitude | Longtitude | Propertycount |\n",
       "|---|---|---|---|---|---|---|---|---|---|---|---|---|---|\n",
       "| Rooms |  1.00000000  |  0.53463030  |  0.27962928  |  0.05119844  |  0.84157314  |  0.54644647  |  0.37255092  |  0.096887269 |  0.19752555  | -0.01920178  |  0.020388497 |  0.07405989  | -0.122694325 |\n",
       "| Price |  0.53463030  |  1.00000000  | -0.14427829  |  0.12347889  |  0.48373602  |  0.47642527  |  0.24907287  |  0.045285947 |  0.13186511  |  0.06273046  | -0.180191782 |  0.18149425  | -0.048600450 |\n",
       "| Distance |  0.27962928  | -0.14427829  |  1.00000000  |  0.41096484  |  0.24201879  |  0.10087610  |  0.23838671  |  0.138506471 |  0.14595136  | -0.19322456  | -0.055143454 |  0.15149058  | -0.093605142 |\n",
       "| Postcode |  0.05119844  |  0.12347889  |  0.41096484  |  1.00000000  |  0.04771559  |  0.08920162  |  0.04007828  |  0.052856923 |  0.12433363  | -0.09197304  | -0.352366531 |  0.36161329  |  0.063322631 |\n",
       "| Bedroom2 |  0.84157314  |  0.48373602  |  0.24201879  |  0.04771559  |  1.00000000  |  0.61732399  |  0.42739817  |  0.095387324 |  0.21737907  | -0.03936692  |  0.016208178 |  0.08884506  | -0.116920801 |\n",
       "| Bathroom |  0.54644647  |  0.47642527  |  0.10087610  |  0.08920162  |  0.61732399  |  1.00000000  |  0.33725941  |  0.067456177 |  0.17704432  |  0.01569730  | -0.074521265 |  0.11455666  | -0.071313157 |\n",
       "| Car |  0.37255092  |  0.24907287  |  0.23838671  |  0.04007828  |  0.42739817  |  0.33725941  |  1.00000000  |  0.121483886 |  0.13310930  | -0.03190382  |  0.015516643 |  0.05777626  | -0.049488823 |\n",
       "| Landsize |  0.09688727  |  0.04528595  |  0.13850647  |  0.05285692  |  0.09538732  |  0.06745618  |  0.12148389  |  1.000000000 |  0.15835091  | -0.35960473  | -0.002857585 |  0.03257416  | -0.003747242 |\n",
       "| BuildingArea |  0.19752555  |  0.13186511  |  0.14595136  |  0.12433363  |  0.21737907  |  0.17704432  |  0.13310930  |  0.158350906 |  1.00000000  | -0.36175583  | -0.016167515 |  0.04613018  | -0.018124988 |\n",
       "| YearBuilt | -0.01920178  |  0.06273046  | -0.19322456  | -0.09197304  | -0.03936692  |  0.01569730  | -0.03190382  | -0.359604732 | -0.36175583  |  1.00000000  |  0.023724995 | -0.02259983  | -0.028540783 |\n",
       "| Lattitude |  0.02038850  | -0.18019178  | -0.05514345  | -0.35236653  |  0.01620818  | -0.07452127  |  0.01551664  | -0.002857585 | -0.01616752  |  0.02372500  |  1.000000000 | -0.36623508  |  0.057980593 |\n",
       "| Longtitude |  0.07405989  |  0.18149425  |  0.15149058  |  0.36161329  |  0.08884506  |  0.11455666  |  0.05777626  |  0.032574164 |  0.04613018  | -0.02259983  | -0.366235084 |  1.00000000  |  0.097286663 |\n",
       "| Propertycount | -0.12269432  | -0.04860045  | -0.09360514  |  0.06332263  | -0.11692080  | -0.07131316  | -0.04948882  | -0.003747242 | -0.01812499  | -0.02854078  |  0.057980593 |  0.09728666  |  1.000000000 |\n",
       "\n"
      ],
      "text/plain": [
       "              Rooms       Price       Distance    Postcode    Bedroom2   \n",
       "Rooms          1.00000000  0.53463030  0.27962928  0.05119844  0.84157314\n",
       "Price          0.53463030  1.00000000 -0.14427829  0.12347889  0.48373602\n",
       "Distance       0.27962928 -0.14427829  1.00000000  0.41096484  0.24201879\n",
       "Postcode       0.05119844  0.12347889  0.41096484  1.00000000  0.04771559\n",
       "Bedroom2       0.84157314  0.48373602  0.24201879  0.04771559  1.00000000\n",
       "Bathroom       0.54644647  0.47642527  0.10087610  0.08920162  0.61732399\n",
       "Car            0.37255092  0.24907287  0.23838671  0.04007828  0.42739817\n",
       "Landsize       0.09688727  0.04528595  0.13850647  0.05285692  0.09538732\n",
       "BuildingArea   0.19752555  0.13186511  0.14595136  0.12433363  0.21737907\n",
       "YearBuilt     -0.01920178  0.06273046 -0.19322456 -0.09197304 -0.03936692\n",
       "Lattitude      0.02038850 -0.18019178 -0.05514345 -0.35236653  0.01620818\n",
       "Longtitude     0.07405989  0.18149425  0.15149058  0.36161329  0.08884506\n",
       "Propertycount -0.12269432 -0.04860045 -0.09360514  0.06332263 -0.11692080\n",
       "              Bathroom    Car         Landsize     BuildingArea YearBuilt  \n",
       "Rooms          0.54644647  0.37255092  0.096887269  0.19752555  -0.01920178\n",
       "Price          0.47642527  0.24907287  0.045285947  0.13186511   0.06273046\n",
       "Distance       0.10087610  0.23838671  0.138506471  0.14595136  -0.19322456\n",
       "Postcode       0.08920162  0.04007828  0.052856923  0.12433363  -0.09197304\n",
       "Bedroom2       0.61732399  0.42739817  0.095387324  0.21737907  -0.03936692\n",
       "Bathroom       1.00000000  0.33725941  0.067456177  0.17704432   0.01569730\n",
       "Car            0.33725941  1.00000000  0.121483886  0.13310930  -0.03190382\n",
       "Landsize       0.06745618  0.12148389  1.000000000  0.15835091  -0.35960473\n",
       "BuildingArea   0.17704432  0.13310930  0.158350906  1.00000000  -0.36175583\n",
       "YearBuilt      0.01569730 -0.03190382 -0.359604732 -0.36175583   1.00000000\n",
       "Lattitude     -0.07452127  0.01551664 -0.002857585 -0.01616752   0.02372500\n",
       "Longtitude     0.11455666  0.05777626  0.032574164  0.04613018  -0.02259983\n",
       "Propertycount -0.07131316 -0.04948882 -0.003747242 -0.01812499  -0.02854078\n",
       "              Lattitude    Longtitude  Propertycount\n",
       "Rooms          0.020388497  0.07405989 -0.122694325 \n",
       "Price         -0.180191782  0.18149425 -0.048600450 \n",
       "Distance      -0.055143454  0.15149058 -0.093605142 \n",
       "Postcode      -0.352366531  0.36161329  0.063322631 \n",
       "Bedroom2       0.016208178  0.08884506 -0.116920801 \n",
       "Bathroom      -0.074521265  0.11455666 -0.071313157 \n",
       "Car            0.015516643  0.05777626 -0.049488823 \n",
       "Landsize      -0.002857585  0.03257416 -0.003747242 \n",
       "BuildingArea  -0.016167515  0.04613018 -0.018124988 \n",
       "YearBuilt      0.023724995 -0.02259983 -0.028540783 \n",
       "Lattitude      1.000000000 -0.36623508  0.057980593 \n",
       "Longtitude    -0.366235084  1.00000000  0.097286663 \n",
       "Propertycount  0.057980593  0.09728666  1.000000000 "
      ]
     },
     "metadata": {},
     "output_type": "display_data"
    }
   ],
   "source": [
    "cor(df)"
   ]
  },
  {
   "cell_type": "code",
   "execution_count": 15,
   "metadata": {},
   "outputs": [
    {
     "data": {
      "text/html": [
       "<table>\n",
       "<thead><tr><th></th><th scope=col>Rooms</th><th scope=col>Price</th><th scope=col>Distance</th><th scope=col>Postcode</th><th scope=col>Bedroom2</th><th scope=col>Bathroom</th><th scope=col>Car</th><th scope=col>Landsize</th><th scope=col>BuildingArea</th><th scope=col>YearBuilt</th><th scope=col>Lattitude</th><th scope=col>Longtitude</th><th scope=col>Propertycount</th></tr></thead>\n",
       "<tbody>\n",
       "\t<tr><th scope=row>Rooms</th><td> 1.00000000 </td><td> 0.53463030 </td><td> 0.27962928 </td><td> 0.05119844 </td><td> 0.84157314 </td><td> 0.54644647 </td><td> 0.37255092 </td><td> 0.096887269</td><td> 0.19752555 </td><td>-0.01920178 </td><td> 0.020388497</td><td> 0.07405989 </td><td>-0.122694325</td></tr>\n",
       "\t<tr><th scope=row>Price</th><td> 0.53463030 </td><td> 1.00000000 </td><td>-0.14427829 </td><td> 0.12347889 </td><td> 0.48373602 </td><td> 0.47642527 </td><td> 0.24907287 </td><td> 0.045285947</td><td> 0.13186511 </td><td> 0.06273046 </td><td>-0.180191782</td><td> 0.18149425 </td><td>-0.048600450</td></tr>\n",
       "\t<tr><th scope=row>Distance</th><td> 0.27962928 </td><td>-0.14427829 </td><td> 1.00000000 </td><td> 0.41096484 </td><td> 0.24201879 </td><td> 0.10087610 </td><td> 0.23838671 </td><td> 0.138506471</td><td> 0.14595136 </td><td>-0.19322456 </td><td>-0.055143454</td><td> 0.15149058 </td><td>-0.093605142</td></tr>\n",
       "\t<tr><th scope=row>Postcode</th><td> 0.05119844 </td><td> 0.12347889 </td><td> 0.41096484 </td><td> 1.00000000 </td><td> 0.04771559 </td><td> 0.08920162 </td><td> 0.04007828 </td><td> 0.052856923</td><td> 0.12433363 </td><td>-0.09197304 </td><td>-0.352366531</td><td> 0.36161329 </td><td> 0.063322631</td></tr>\n",
       "\t<tr><th scope=row>Bedroom2</th><td> 0.84157314 </td><td> 0.48373602 </td><td> 0.24201879 </td><td> 0.04771559 </td><td> 1.00000000 </td><td> 0.61732399 </td><td> 0.42739817 </td><td> 0.095387324</td><td> 0.21737907 </td><td>-0.03936692 </td><td> 0.016208178</td><td> 0.08884506 </td><td>-0.116920801</td></tr>\n",
       "\t<tr><th scope=row>Bathroom</th><td> 0.54644647 </td><td> 0.47642527 </td><td> 0.10087610 </td><td> 0.08920162 </td><td> 0.61732399 </td><td> 1.00000000 </td><td> 0.33725941 </td><td> 0.067456177</td><td> 0.17704432 </td><td> 0.01569730 </td><td>-0.074521265</td><td> 0.11455666 </td><td>-0.071313157</td></tr>\n",
       "\t<tr><th scope=row>Car</th><td> 0.37255092 </td><td> 0.24907287 </td><td> 0.23838671 </td><td> 0.04007828 </td><td> 0.42739817 </td><td> 0.33725941 </td><td> 1.00000000 </td><td> 0.121483886</td><td> 0.13310930 </td><td>-0.03190382 </td><td> 0.015516643</td><td> 0.05777626 </td><td>-0.049488823</td></tr>\n",
       "\t<tr><th scope=row>Landsize</th><td> 0.09688727 </td><td> 0.04528595 </td><td> 0.13850647 </td><td> 0.05285692 </td><td> 0.09538732 </td><td> 0.06745618 </td><td> 0.12148389 </td><td> 1.000000000</td><td> 0.15835091 </td><td>-0.35960473 </td><td>-0.002857585</td><td> 0.03257416 </td><td>-0.003747242</td></tr>\n",
       "\t<tr><th scope=row>BuildingArea</th><td> 0.19752555 </td><td> 0.13186511 </td><td> 0.14595136 </td><td> 0.12433363 </td><td> 0.21737907 </td><td> 0.17704432 </td><td> 0.13310930 </td><td> 0.158350906</td><td> 1.00000000 </td><td>-0.36175583 </td><td>-0.016167515</td><td> 0.04613018 </td><td>-0.018124988</td></tr>\n",
       "\t<tr><th scope=row>YearBuilt</th><td>-0.01920178 </td><td> 0.06273046 </td><td>-0.19322456 </td><td>-0.09197304 </td><td>-0.03936692 </td><td> 0.01569730 </td><td>-0.03190382 </td><td>-0.359604732</td><td>-0.36175583 </td><td> 1.00000000 </td><td> 0.023724995</td><td>-0.02259983 </td><td>-0.028540783</td></tr>\n",
       "\t<tr><th scope=row>Lattitude</th><td> 0.02038850 </td><td>-0.18019178 </td><td>-0.05514345 </td><td>-0.35236653 </td><td> 0.01620818 </td><td>-0.07452127 </td><td> 0.01551664 </td><td>-0.002857585</td><td>-0.01616752 </td><td> 0.02372500 </td><td> 1.000000000</td><td>-0.36623508 </td><td> 0.057980593</td></tr>\n",
       "\t<tr><th scope=row>Longtitude</th><td> 0.07405989 </td><td> 0.18149425 </td><td> 0.15149058 </td><td> 0.36161329 </td><td> 0.08884506 </td><td> 0.11455666 </td><td> 0.05777626 </td><td> 0.032574164</td><td> 0.04613018 </td><td>-0.02259983 </td><td>-0.366235084</td><td> 1.00000000 </td><td> 0.097286663</td></tr>\n",
       "\t<tr><th scope=row>Propertycount</th><td>-0.12269432 </td><td>-0.04860045 </td><td>-0.09360514 </td><td> 0.06332263 </td><td>-0.11692080 </td><td>-0.07131316 </td><td>-0.04948882 </td><td>-0.003747242</td><td>-0.01812499 </td><td>-0.02854078 </td><td> 0.057980593</td><td> 0.09728666 </td><td> 1.000000000</td></tr>\n",
       "</tbody>\n",
       "</table>\n"
      ],
      "text/latex": [
       "\\begin{tabular}{r|lllllllllllll}\n",
       "  & Rooms & Price & Distance & Postcode & Bedroom2 & Bathroom & Car & Landsize & BuildingArea & YearBuilt & Lattitude & Longtitude & Propertycount\\\\\n",
       "\\hline\n",
       "\tRooms &  1.00000000  &  0.53463030  &  0.27962928  &  0.05119844  &  0.84157314  &  0.54644647  &  0.37255092  &  0.096887269 &  0.19752555  & -0.01920178  &  0.020388497 &  0.07405989  & -0.122694325\\\\\n",
       "\tPrice &  0.53463030  &  1.00000000  & -0.14427829  &  0.12347889  &  0.48373602  &  0.47642527  &  0.24907287  &  0.045285947 &  0.13186511  &  0.06273046  & -0.180191782 &  0.18149425  & -0.048600450\\\\\n",
       "\tDistance &  0.27962928  & -0.14427829  &  1.00000000  &  0.41096484  &  0.24201879  &  0.10087610  &  0.23838671  &  0.138506471 &  0.14595136  & -0.19322456  & -0.055143454 &  0.15149058  & -0.093605142\\\\\n",
       "\tPostcode &  0.05119844  &  0.12347889  &  0.41096484  &  1.00000000  &  0.04771559  &  0.08920162  &  0.04007828  &  0.052856923 &  0.12433363  & -0.09197304  & -0.352366531 &  0.36161329  &  0.063322631\\\\\n",
       "\tBedroom2 &  0.84157314  &  0.48373602  &  0.24201879  &  0.04771559  &  1.00000000  &  0.61732399  &  0.42739817  &  0.095387324 &  0.21737907  & -0.03936692  &  0.016208178 &  0.08884506  & -0.116920801\\\\\n",
       "\tBathroom &  0.54644647  &  0.47642527  &  0.10087610  &  0.08920162  &  0.61732399  &  1.00000000  &  0.33725941  &  0.067456177 &  0.17704432  &  0.01569730  & -0.074521265 &  0.11455666  & -0.071313157\\\\\n",
       "\tCar &  0.37255092  &  0.24907287  &  0.23838671  &  0.04007828  &  0.42739817  &  0.33725941  &  1.00000000  &  0.121483886 &  0.13310930  & -0.03190382  &  0.015516643 &  0.05777626  & -0.049488823\\\\\n",
       "\tLandsize &  0.09688727  &  0.04528595  &  0.13850647  &  0.05285692  &  0.09538732  &  0.06745618  &  0.12148389  &  1.000000000 &  0.15835091  & -0.35960473  & -0.002857585 &  0.03257416  & -0.003747242\\\\\n",
       "\tBuildingArea &  0.19752555  &  0.13186511  &  0.14595136  &  0.12433363  &  0.21737907  &  0.17704432  &  0.13310930  &  0.158350906 &  1.00000000  & -0.36175583  & -0.016167515 &  0.04613018  & -0.018124988\\\\\n",
       "\tYearBuilt & -0.01920178  &  0.06273046  & -0.19322456  & -0.09197304  & -0.03936692  &  0.01569730  & -0.03190382  & -0.359604732 & -0.36175583  &  1.00000000  &  0.023724995 & -0.02259983  & -0.028540783\\\\\n",
       "\tLattitude &  0.02038850  & -0.18019178  & -0.05514345  & -0.35236653  &  0.01620818  & -0.07452127  &  0.01551664  & -0.002857585 & -0.01616752  &  0.02372500  &  1.000000000 & -0.36623508  &  0.057980593\\\\\n",
       "\tLongtitude &  0.07405989  &  0.18149425  &  0.15149058  &  0.36161329  &  0.08884506  &  0.11455666  &  0.05777626  &  0.032574164 &  0.04613018  & -0.02259983  & -0.366235084 &  1.00000000  &  0.097286663\\\\\n",
       "\tPropertycount & -0.12269432  & -0.04860045  & -0.09360514  &  0.06332263  & -0.11692080  & -0.07131316  & -0.04948882  & -0.003747242 & -0.01812499  & -0.02854078  &  0.057980593 &  0.09728666  &  1.000000000\\\\\n",
       "\\end{tabular}\n"
      ],
      "text/markdown": [
       "\n",
       "| <!--/--> | Rooms | Price | Distance | Postcode | Bedroom2 | Bathroom | Car | Landsize | BuildingArea | YearBuilt | Lattitude | Longtitude | Propertycount |\n",
       "|---|---|---|---|---|---|---|---|---|---|---|---|---|---|\n",
       "| Rooms |  1.00000000  |  0.53463030  |  0.27962928  |  0.05119844  |  0.84157314  |  0.54644647  |  0.37255092  |  0.096887269 |  0.19752555  | -0.01920178  |  0.020388497 |  0.07405989  | -0.122694325 |\n",
       "| Price |  0.53463030  |  1.00000000  | -0.14427829  |  0.12347889  |  0.48373602  |  0.47642527  |  0.24907287  |  0.045285947 |  0.13186511  |  0.06273046  | -0.180191782 |  0.18149425  | -0.048600450 |\n",
       "| Distance |  0.27962928  | -0.14427829  |  1.00000000  |  0.41096484  |  0.24201879  |  0.10087610  |  0.23838671  |  0.138506471 |  0.14595136  | -0.19322456  | -0.055143454 |  0.15149058  | -0.093605142 |\n",
       "| Postcode |  0.05119844  |  0.12347889  |  0.41096484  |  1.00000000  |  0.04771559  |  0.08920162  |  0.04007828  |  0.052856923 |  0.12433363  | -0.09197304  | -0.352366531 |  0.36161329  |  0.063322631 |\n",
       "| Bedroom2 |  0.84157314  |  0.48373602  |  0.24201879  |  0.04771559  |  1.00000000  |  0.61732399  |  0.42739817  |  0.095387324 |  0.21737907  | -0.03936692  |  0.016208178 |  0.08884506  | -0.116920801 |\n",
       "| Bathroom |  0.54644647  |  0.47642527  |  0.10087610  |  0.08920162  |  0.61732399  |  1.00000000  |  0.33725941  |  0.067456177 |  0.17704432  |  0.01569730  | -0.074521265 |  0.11455666  | -0.071313157 |\n",
       "| Car |  0.37255092  |  0.24907287  |  0.23838671  |  0.04007828  |  0.42739817  |  0.33725941  |  1.00000000  |  0.121483886 |  0.13310930  | -0.03190382  |  0.015516643 |  0.05777626  | -0.049488823 |\n",
       "| Landsize |  0.09688727  |  0.04528595  |  0.13850647  |  0.05285692  |  0.09538732  |  0.06745618  |  0.12148389  |  1.000000000 |  0.15835091  | -0.35960473  | -0.002857585 |  0.03257416  | -0.003747242 |\n",
       "| BuildingArea |  0.19752555  |  0.13186511  |  0.14595136  |  0.12433363  |  0.21737907  |  0.17704432  |  0.13310930  |  0.158350906 |  1.00000000  | -0.36175583  | -0.016167515 |  0.04613018  | -0.018124988 |\n",
       "| YearBuilt | -0.01920178  |  0.06273046  | -0.19322456  | -0.09197304  | -0.03936692  |  0.01569730  | -0.03190382  | -0.359604732 | -0.36175583  |  1.00000000  |  0.023724995 | -0.02259983  | -0.028540783 |\n",
       "| Lattitude |  0.02038850  | -0.18019178  | -0.05514345  | -0.35236653  |  0.01620818  | -0.07452127  |  0.01551664  | -0.002857585 | -0.01616752  |  0.02372500  |  1.000000000 | -0.36623508  |  0.057980593 |\n",
       "| Longtitude |  0.07405989  |  0.18149425  |  0.15149058  |  0.36161329  |  0.08884506  |  0.11455666  |  0.05777626  |  0.032574164 |  0.04613018  | -0.02259983  | -0.366235084 |  1.00000000  |  0.097286663 |\n",
       "| Propertycount | -0.12269432  | -0.04860045  | -0.09360514  |  0.06332263  | -0.11692080  | -0.07131316  | -0.04948882  | -0.003747242 | -0.01812499  | -0.02854078  |  0.057980593 |  0.09728666  |  1.000000000 |\n",
       "\n"
      ],
      "text/plain": [
       "              Rooms       Price       Distance    Postcode    Bedroom2   \n",
       "Rooms          1.00000000  0.53463030  0.27962928  0.05119844  0.84157314\n",
       "Price          0.53463030  1.00000000 -0.14427829  0.12347889  0.48373602\n",
       "Distance       0.27962928 -0.14427829  1.00000000  0.41096484  0.24201879\n",
       "Postcode       0.05119844  0.12347889  0.41096484  1.00000000  0.04771559\n",
       "Bedroom2       0.84157314  0.48373602  0.24201879  0.04771559  1.00000000\n",
       "Bathroom       0.54644647  0.47642527  0.10087610  0.08920162  0.61732399\n",
       "Car            0.37255092  0.24907287  0.23838671  0.04007828  0.42739817\n",
       "Landsize       0.09688727  0.04528595  0.13850647  0.05285692  0.09538732\n",
       "BuildingArea   0.19752555  0.13186511  0.14595136  0.12433363  0.21737907\n",
       "YearBuilt     -0.01920178  0.06273046 -0.19322456 -0.09197304 -0.03936692\n",
       "Lattitude      0.02038850 -0.18019178 -0.05514345 -0.35236653  0.01620818\n",
       "Longtitude     0.07405989  0.18149425  0.15149058  0.36161329  0.08884506\n",
       "Propertycount -0.12269432 -0.04860045 -0.09360514  0.06332263 -0.11692080\n",
       "              Bathroom    Car         Landsize     BuildingArea YearBuilt  \n",
       "Rooms          0.54644647  0.37255092  0.096887269  0.19752555  -0.01920178\n",
       "Price          0.47642527  0.24907287  0.045285947  0.13186511   0.06273046\n",
       "Distance       0.10087610  0.23838671  0.138506471  0.14595136  -0.19322456\n",
       "Postcode       0.08920162  0.04007828  0.052856923  0.12433363  -0.09197304\n",
       "Bedroom2       0.61732399  0.42739817  0.095387324  0.21737907  -0.03936692\n",
       "Bathroom       1.00000000  0.33725941  0.067456177  0.17704432   0.01569730\n",
       "Car            0.33725941  1.00000000  0.121483886  0.13310930  -0.03190382\n",
       "Landsize       0.06745618  0.12148389  1.000000000  0.15835091  -0.35960473\n",
       "BuildingArea   0.17704432  0.13310930  0.158350906  1.00000000  -0.36175583\n",
       "YearBuilt      0.01569730 -0.03190382 -0.359604732 -0.36175583   1.00000000\n",
       "Lattitude     -0.07452127  0.01551664 -0.002857585 -0.01616752   0.02372500\n",
       "Longtitude     0.11455666  0.05777626  0.032574164  0.04613018  -0.02259983\n",
       "Propertycount -0.07131316 -0.04948882 -0.003747242 -0.01812499  -0.02854078\n",
       "              Lattitude    Longtitude  Propertycount\n",
       "Rooms          0.020388497  0.07405989 -0.122694325 \n",
       "Price         -0.180191782  0.18149425 -0.048600450 \n",
       "Distance      -0.055143454  0.15149058 -0.093605142 \n",
       "Postcode      -0.352366531  0.36161329  0.063322631 \n",
       "Bedroom2       0.016208178  0.08884506 -0.116920801 \n",
       "Bathroom      -0.074521265  0.11455666 -0.071313157 \n",
       "Car            0.015516643  0.05777626 -0.049488823 \n",
       "Landsize      -0.002857585  0.03257416 -0.003747242 \n",
       "BuildingArea  -0.016167515  0.04613018 -0.018124988 \n",
       "YearBuilt      0.023724995 -0.02259983 -0.028540783 \n",
       "Lattitude      1.000000000 -0.36623508  0.057980593 \n",
       "Longtitude    -0.366235084  1.00000000  0.097286663 \n",
       "Propertycount  0.057980593  0.09728666  1.000000000 "
      ]
     },
     "metadata": {},
     "output_type": "display_data"
    }
   ],
   "source": [
    "(corrmatrix<-cor(df)) #상관계수 행렬"
   ]
  },
  {
   "cell_type": "code",
   "execution_count": 16,
   "metadata": {},
   "outputs": [
    {
     "data": {
      "text/html": [
       "<ol class=list-inline>\n",
       "\t<li>1</li>\n",
       "\t<li>0.534630302289287</li>\n",
       "\t<li>0.841573138788812</li>\n",
       "\t<li>0.546446472071477</li>\n",
       "\t<li>0.534630302289287</li>\n",
       "\t<li>1</li>\n",
       "\t<li>1</li>\n",
       "\t<li>1</li>\n",
       "\t<li>0.841573138788812</li>\n",
       "\t<li>1</li>\n",
       "\t<li>0.617323985828596</li>\n",
       "\t<li>0.546446472071477</li>\n",
       "\t<li>0.617323985828596</li>\n",
       "\t<li>1</li>\n",
       "\t<li>1</li>\n",
       "\t<li>1</li>\n",
       "\t<li>1</li>\n",
       "\t<li>1</li>\n",
       "\t<li>1</li>\n",
       "\t<li>1</li>\n",
       "\t<li>1</li>\n",
       "</ol>\n"
      ],
      "text/latex": [
       "\\begin{enumerate*}\n",
       "\\item 1\n",
       "\\item 0.534630302289287\n",
       "\\item 0.841573138788812\n",
       "\\item 0.546446472071477\n",
       "\\item 0.534630302289287\n",
       "\\item 1\n",
       "\\item 1\n",
       "\\item 1\n",
       "\\item 0.841573138788812\n",
       "\\item 1\n",
       "\\item 0.617323985828596\n",
       "\\item 0.546446472071477\n",
       "\\item 0.617323985828596\n",
       "\\item 1\n",
       "\\item 1\n",
       "\\item 1\n",
       "\\item 1\n",
       "\\item 1\n",
       "\\item 1\n",
       "\\item 1\n",
       "\\item 1\n",
       "\\end{enumerate*}\n"
      ],
      "text/markdown": [
       "1. 1\n",
       "2. 0.534630302289287\n",
       "3. 0.841573138788812\n",
       "4. 0.546446472071477\n",
       "5. 0.534630302289287\n",
       "6. 1\n",
       "7. 1\n",
       "8. 1\n",
       "9. 0.841573138788812\n",
       "10. 1\n",
       "11. 0.617323985828596\n",
       "12. 0.546446472071477\n",
       "13. 0.617323985828596\n",
       "14. 1\n",
       "15. 1\n",
       "16. 1\n",
       "17. 1\n",
       "18. 1\n",
       "19. 1\n",
       "20. 1\n",
       "21. 1\n",
       "\n",
       "\n"
      ],
      "text/plain": [
       " [1] 1.0000000 0.5346303 0.8415731 0.5464465 0.5346303 1.0000000 1.0000000\n",
       " [8] 1.0000000 0.8415731 1.0000000 0.6173240 0.5464465 0.6173240 1.0000000\n",
       "[15] 1.0000000 1.0000000 1.0000000 1.0000000 1.0000000 1.0000000 1.0000000"
      ]
     },
     "metadata": {},
     "output_type": "display_data"
    }
   ],
   "source": [
    "#강한 양의 상관관계, 강한 음의 상관관계\n",
    "#강한 양의 상관관계만 출력\n",
    "corrmatrix[corrmatrix > 0.5 | corrmatrix < -0.5]"
   ]
  },
  {
   "cell_type": "code",
   "execution_count": 18,
   "metadata": {},
   "outputs": [
    {
     "name": "stderr",
     "output_type": "stream",
     "text": [
      "Installing package into 'C:/Users/tjoeun302-18/Documents/R/win-library/3.6'\n",
      "(as 'lib' is unspecified)\n"
     ]
    },
    {
     "name": "stdout",
     "output_type": "stream",
     "text": [
      "package 'corrplot' successfully unpacked and MD5 sums checked\n",
      "\n",
      "The downloaded binary packages are in\n",
      "\tC:\\Users\\tjoeun302-18\\AppData\\Local\\Temp\\RtmpoPMdfD\\downloaded_packages\n"
     ]
    },
    {
     "name": "stderr",
     "output_type": "stream",
     "text": [
      "Warning message:\n",
      "\"package 'corrplot' was built under R version 3.6.2\"corrplot 0.84 loaded\n"
     ]
    },
    {
     "data": {
      "image/png": "[encoded data removed]",
      "text/plain": [
       "Plot with title \"\""
      ]
     },
     "metadata": {},
     "output_type": "display_data"
    }
   ],
   "source": [
    "install.packages('corrplot')\n",
    "library(corrplot)\n",
    "corrplot(cor(df), method='circle') #상관관계 플롯"
   ]
  },
  {
   "cell_type": "code",
   "execution_count": 19,
   "metadata": {},
   "outputs": [
    {
     "data": {
      "text/plain": [
       "\n",
       "Call:\n",
       "lm(formula = Price ~ ., data = df)\n",
       "\n",
       "Coefficients:\n",
       "  (Intercept)          Rooms       Distance       Postcode       Bedroom2  \n",
       "   -1.197e+08      3.583e+05     -5.151e+04      1.435e+03     -1.391e+04  \n",
       "     Bathroom            Car       Landsize   BuildingArea      YearBuilt  \n",
       "    1.681e+05      6.363e+04      1.867e+01      7.899e+01      5.109e+01  \n",
       "    Lattitude     Longtitude  Propertycount  \n",
       "   -9.760e+05      5.410e+05     -3.330e+00  \n"
      ]
     },
     "metadata": {},
     "output_type": "display_data"
    }
   ],
   "source": [
    "(model<-lm(Price ~ . , data=df)) #다중회귀분석 모형"
   ]
  },
  {
   "cell_type": "code",
   "execution_count": 20,
   "metadata": {},
   "outputs": [
    {
     "data": {
      "text/plain": [
       "\n",
       "Call:\n",
       "lm(formula = Price ~ ., data = df)\n",
       "\n",
       "Residuals:\n",
       "     Min       1Q   Median       3Q      Max \n",
       "-2522464  -267094   -50095   185895  8543276 \n",
       "\n",
       "Coefficients:\n",
       "                Estimate Std. Error t value Pr(>|t|)    \n",
       "(Intercept)   -1.197e+08  9.868e+06 -12.130  < 2e-16 ***\n",
       "Rooms          3.583e+05  1.195e+04  29.986  < 2e-16 ***\n",
       "Distance      -5.151e+04  1.342e+03 -38.374  < 2e-16 ***\n",
       "Postcode       1.435e+03  8.729e+01  16.441  < 2e-16 ***\n",
       "Bedroom2      -1.391e+04  1.279e+04  -1.087  0.27701    \n",
       "Bathroom       1.681e+05  1.131e+04  14.865  < 2e-16 ***\n",
       "Car            6.363e+04  7.447e+03   8.544  < 2e-16 ***\n",
       "Landsize       1.867e+01  6.892e+00   2.709  0.00677 ** \n",
       "BuildingArea   7.899e+01  2.540e+01   3.109  0.00188 ** \n",
       "YearBuilt      5.109e+01  1.667e+01   3.064  0.00219 ** \n",
       "Lattitude     -9.760e+05  9.405e+04 -10.378  < 2e-16 ***\n",
       "Longtitude     5.410e+05  7.154e+04   7.563 4.54e-14 ***\n",
       "Propertycount -3.330e+00  1.457e+00  -2.285  0.02235 *  \n",
       "---\n",
       "Signif. codes:  0 '***' 0.001 '**' 0.01 '*' 0.05 '.' 0.1 ' ' 1\n",
       "\n",
       "Residual standard error: 478600 on 6037 degrees of freedom\n",
       "Multiple R-squared:  0.4975,\tAdjusted R-squared:  0.4965 \n",
       "F-statistic:   498 on 12 and 6037 DF,  p-value: < 2.2e-16\n"
      ]
     },
     "metadata": {},
     "output_type": "display_data"
    }
   ],
   "source": [
    "summary(model) #모형요약\n",
    "# p-value: < 2.2e-16\n",
    "#Adjusted R-squared:  0.4965"
   ]
  },
  {
   "cell_type": "code",
   "execution_count": 21,
   "metadata": {},
   "outputs": [
    {
     "name": "stdout",
     "output_type": "stream",
     "text": [
      "Start:  AIC=158264.7\n",
      "Price ~ Rooms + Distance + Postcode + Bedroom2 + Bathroom + Car + \n",
      "    Landsize + BuildingArea + YearBuilt + Lattitude + Longtitude + \n",
      "    Propertycount\n",
      "\n",
      "                Df  Sum of Sq        RSS    AIC\n",
      "- Bedroom2       1 2.7075e+11 1.3832e+15 158264\n",
      "<none>                        1.3829e+15 158265\n",
      "- Propertycount  1 1.1959e+12 1.3841e+15 158268\n",
      "- Landsize       1 1.6811e+12 1.3846e+15 158270\n",
      "- YearBuilt      1 2.1504e+12 1.3851e+15 158272\n",
      "- BuildingArea   1 2.2149e+12 1.3851e+15 158272\n",
      "- Longtitude     1 1.3101e+13 1.3960e+15 158320\n",
      "- Car            1 1.6723e+13 1.3996e+15 158335\n",
      "- Lattitude      1 2.4672e+13 1.4076e+15 158370\n",
      "- Bathroom       1 5.0620e+13 1.4335e+15 158480\n",
      "- Postcode       1 6.1920e+13 1.4448e+15 158528\n",
      "- Rooms          1 2.0597e+14 1.5889e+15 159103\n",
      "- Distance       1 3.3732e+14 1.7202e+15 159583\n",
      "\n",
      "Step:  AIC=158263.9\n",
      "Price ~ Rooms + Distance + Postcode + Bathroom + Car + Landsize + \n",
      "    BuildingArea + YearBuilt + Lattitude + Longtitude + Propertycount\n",
      "\n",
      "                Df  Sum of Sq        RSS    AIC\n",
      "<none>                        1.3832e+15 158264\n",
      "- Propertycount  1 1.1622e+12 1.3843e+15 158267\n",
      "- Landsize       1 1.7036e+12 1.3849e+15 158269\n",
      "- BuildingArea   1 2.1441e+12 1.3853e+15 158271\n",
      "- YearBuilt      1 2.2096e+12 1.3854e+15 158272\n",
      "- Longtitude     1 1.2975e+13 1.3962e+15 158318\n",
      "- Car            1 1.6489e+13 1.3997e+15 158334\n",
      "- Lattitude      1 2.4898e+13 1.4081e+15 158370\n",
      "- Bathroom       1 5.3735e+13 1.4369e+15 158492\n",
      "- Postcode       1 6.2159e+13 1.4453e+15 158528\n",
      "- Distance       1 3.3741e+14 1.7206e+15 159582\n",
      "- Rooms          1 4.2073e+14 1.8039e+15 159869\n"
     ]
    }
   ],
   "source": [
    "#후진제거법으로 기여도가 낮은 변수들을 하나씩 제거하여 모형의 겅능 개선\n",
    "reduced <-step(model,direction='backward')"
   ]
  },
  {
   "cell_type": "code",
   "execution_count": 22,
   "metadata": {},
   "outputs": [
    {
     "data": {
      "text/plain": [
       "\n",
       "Call:\n",
       "lm(formula = Price ~ Rooms + Distance + Postcode + Bathroom + \n",
       "    Car + Landsize + BuildingArea + YearBuilt + Lattitude + Longtitude + \n",
       "    Propertycount, data = df)\n",
       "\n",
       "Residuals:\n",
       "     Min       1Q   Median       3Q      Max \n",
       "-2531696  -266614   -50757   185042  8552752 \n",
       "\n",
       "Coefficients:\n",
       "                Estimate Std. Error t value Pr(>|t|)    \n",
       "(Intercept)   -1.194e+08  9.865e+06 -12.105  < 2e-16 ***\n",
       "Rooms          3.488e+05  8.138e+03  42.856  < 2e-16 ***\n",
       "Distance      -5.152e+04  1.342e+03 -38.378  < 2e-16 ***\n",
       "Postcode       1.438e+03  8.727e+01  16.473  < 2e-16 ***\n",
       "Bathroom       1.642e+05  1.072e+04  15.316  < 2e-16 ***\n",
       "Car            6.222e+04  7.334e+03   8.484  < 2e-16 ***\n",
       "Landsize       1.879e+01  6.892e+00   2.727  0.00641 ** \n",
       "BuildingArea   7.763e+01  2.537e+01   3.059  0.00223 ** \n",
       "YearBuilt      5.175e+01  1.666e+01   3.106  0.00191 ** \n",
       "Lattitude     -9.798e+05  9.398e+04 -10.425  < 2e-16 ***\n",
       "Longtitude     5.380e+05  7.149e+04   7.526    6e-14 ***\n",
       "Propertycount -3.281e+00  1.457e+00  -2.252  0.02433 *  \n",
       "---\n",
       "Signif. codes:  0 '***' 0.001 '**' 0.01 '*' 0.05 '.' 0.1 ' ' 1\n",
       "\n",
       "Residual standard error: 478600 on 6038 degrees of freedom\n",
       "Multiple R-squared:  0.4974,\tAdjusted R-squared:  0.4964 \n",
       "F-statistic: 543.2 on 11 and 6038 DF,  p-value: < 2.2e-16\n"
      ]
     },
     "metadata": {},
     "output_type": "display_data"
    }
   ],
   "source": [
    "summary(reduced) #최종 모형\n",
    "# Adjusted R-squared:  0.4964 "
   ]
  },
  {
   "cell_type": "code",
   "execution_count": null,
   "metadata": {},
   "outputs": [],
   "source": []
  },
  {
   "cell_type": "code",
   "execution_count": null,
   "metadata": {},
   "outputs": [],
   "source": []
  },
  {
   "cell_type": "code",
   "execution_count": null,
   "metadata": {},
   "outputs": [],
   "source": []
  },
  {
   "cell_type": "code",
   "execution_count": null,
   "metadata": {},
   "outputs": [],
   "source": []
  },
  {
   "cell_type": "code",
   "execution_count": null,
   "metadata": {},
   "outputs": [],
   "source": []
  },
  {
   "cell_type": "code",
   "execution_count": null,
   "metadata": {},
   "outputs": [],
   "source": []
  }
 ],
 "metadata": {
  "kernelspec": {
   "display_name": "R",
   "language": "R",
   "name": "ir"
  },
  "language_info": {
   "codemirror_mode": "r",
   "file_extension": ".r",
   "mimetype": "text/x-r-source",
   "name": "R",
   "pygments_lexer": "r",
   "version": "3.6.1"
  }
 },
 "nbformat": 4,
 "nbformat_minor": 2
}
