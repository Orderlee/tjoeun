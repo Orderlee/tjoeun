{
 "cells": [
  {
   "cell_type": "code",
   "execution_count": 2,
   "metadata": {},
   "outputs": [
    {
     "name": "stdout",
     "output_type": "stream",
     "text": [
      "10\n",
      "1020\n",
      "102030\n"
     ]
    }
   ],
   "source": [
    "#가변 사이즈 매개변수\n",
    "def myprint(*a):\n",
    "    for i in a:\n",
    "        print(i,end='')\n",
    "    print()\n",
    "        \n",
    "myprint(10)\n",
    "myprint(10,20)\n",
    "myprint(10,20,30)"
   ]
  },
  {
   "cell_type": "code",
   "execution_count": 3,
   "metadata": {},
   "outputs": [
    {
     "name": "stdout",
     "output_type": "stream",
     "text": [
      "age=>20 \n",
      "name=>김철수 age=>20 \n",
      "name=>김철수 age=>20 tel=>02-888-8888 \n"
     ]
    }
   ],
   "source": [
    "def myprint(**a): #매개변수에 딕셔너리 타입으로 전달\n",
    "    for key,value in a.items():\n",
    "        print('{}=>{}'.format(key,value),end=' ')\n",
    "    print()\n",
    "        \n",
    "myprint(age=20)\n",
    "myprint(name='김철수',age=20)\n",
    "myprint(name='김철수',age=20,tel='02-888-8888')"
   ]
  },
  {
   "cell_type": "code",
   "execution_count": null,
   "metadata": {},
   "outputs": [],
   "source": []
  }
 ],
 "metadata": {
  "kernelspec": {
   "display_name": "Python 3",
   "language": "python",
   "name": "python3"
  },
  "language_info": {
   "codemirror_mode": {
    "name": "ipython",
    "version": 3
   },
   "file_extension": ".py",
   "mimetype": "text/x-python",
   "name": "python",
   "nbconvert_exporter": "python",
   "pygments_lexer": "ipython3",
   "version": "3.7.4"
  }
 },
 "nbformat": 4,
 "nbformat_minor": 2
}
