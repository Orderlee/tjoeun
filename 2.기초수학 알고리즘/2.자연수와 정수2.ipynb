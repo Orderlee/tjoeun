{
 "cells": [
  {
   "cell_type": "code",
   "execution_count": 1,
   "metadata": {},
   "outputs": [
    {
     "name": "stdout",
     "output_type": "stream",
     "text": [
      "5 ==>소수\n"
     ]
    }
   ],
   "source": [
    "#소수 판별 문제\n",
    "#1과 자기 자신만으로만 나누어지는 숫자\n",
    "a = 5\n",
    "prime = True\n",
    "for i in range(2,a):\n",
    "    if a%i ==0: # i로 나눈 나머지가 0이면 소수가 아님\n",
    "        prime=False\n",
    "if prime ==True:\n",
    "    print(a,\"==>소수\")\n",
    "else:\n",
    "    print(a,\"==>소수가 아님\")"
   ]
  },
  {
   "cell_type": "code",
   "execution_count": 2,
   "metadata": {},
   "outputs": [
    {
     "name": "stdout",
     "output_type": "stream",
     "text": [
      "7 ==>소수\n",
      "8 ==>소수가 아님\n"
     ]
    }
   ],
   "source": [
    "def prime_num(a):\n",
    "    prime = True\n",
    "    for i in range(2,a):\n",
    "        if a%i ==0: \n",
    "            prime=False\n",
    "    if prime ==True:\n",
    "        print(a,\"==>소수\")\n",
    "    else:\n",
    "        print(a,\"==>소수가 아님\")    \n",
    "prime_num(7)\n",
    "prime_num(8)"
   ]
  },
  {
   "cell_type": "code",
   "execution_count": 3,
   "metadata": {},
   "outputs": [
    {
     "name": "stdout",
     "output_type": "stream",
     "text": [
      "[3, 5, 7, 9, 11, 13, 15, 17, 19, 21, 23, 25, 27, 29, 31, 33, 35, 37, 39, 41, 43, 45, 47, 49, 51, 53, 55, 57, 59, 61, 63, 65, 67, 69, 71, 73, 75, 77, 79, 81, 83, 85, 87, 89, 91, 93, 95, 97, 99]\n"
     ]
    }
   ],
   "source": [
    "def prime_num(a):\n",
    "    b=range(2,a) # 2~a-1\n",
    "    c=0\n",
    "    for i in b:\n",
    "        if a%i ==0: # a를i로 나눈 나머지가 0이면(소수 아님)\n",
    "            c+=1\n",
    "        if c>0:\n",
    "            d=False\n",
    "        else:\n",
    "            d=True\n",
    "        return d\n",
    "    \n",
    "a=range(1,101) # 1~100\n",
    "numbers=[] #소수들을 저장할 리스트\n",
    "for i in a:\n",
    "    c = prime_num(i)\n",
    "    #print(i,c)\n",
    "    if c == True: #함수의 리턴값이 True이면 리스트에 추가\n",
    "        numbers.append(i)\n",
    "        \n",
    "print(numbers)"
   ]
  },
  {
   "cell_type": "code",
   "execution_count": 4,
   "metadata": {},
   "outputs": [
    {
     "name": "stdout",
     "output_type": "stream",
     "text": [
      "[1, 2, 5, 10]\n"
     ]
    }
   ],
   "source": [
    "#약수구하기\n",
    "a=10\n",
    "nums=[]\n",
    "for i in range(1,a): #1~a-1\n",
    "    if a% i ==0: #a를 i로 나눈 나머지가 0 이면 추가(약수)\n",
    "        nums.append(i)\n",
    "\n",
    "nums.append(a)\n",
    "print(nums)\n"
   ]
  },
  {
   "cell_type": "code",
   "execution_count": 5,
   "metadata": {},
   "outputs": [
    {
     "name": "stdout",
     "output_type": "stream",
     "text": [
      "[1, 2, 5, 10]\n",
      "[1, 2, 7, 14]\n"
     ]
    }
   ],
   "source": [
    "def factor_nums(a):\n",
    "    nums=[]\n",
    "    for i in range(1,a):\n",
    "        if a%i ==0: #a를 i로 나눈 나머지가 0이면 추가 (약수)\n",
    "            nums.append(i)\n",
    "            \n",
    "    nums.append(a)\n",
    "    return nums #약수 리스트를 리턴\n",
    "\n",
    "print(factor_nums(10))\n",
    "print(factor_nums(14))"
   ]
  },
  {
   "cell_type": "code",
   "execution_count": 6,
   "metadata": {},
   "outputs": [
    {
     "name": "stdout",
     "output_type": "stream",
     "text": [
      "[2, 2, 2, 3]\n",
      "[2, 3]\n"
     ]
    }
   ],
   "source": [
    "#소인수분해\n",
    "a=24\n",
    "primes=[]\n",
    "for i in range(2,a): # 2~a-1\n",
    "    while a%i ==0: #a를i로 나눈 나머지가 0이 될때까지 반복\n",
    "        primes.append(i)\n",
    "        a/=i #(a=a/i)\n",
    "        \n",
    "if primes ==[]:\n",
    "    primes.append(a)\n",
    "    \n",
    "print(primes) #소인수분해 결과\n",
    "print(list(set(primes))) #중복값을 제거할 경우 set() 사용"
   ]
  },
  {
   "cell_type": "code",
   "execution_count": 7,
   "metadata": {},
   "outputs": [
    {
     "name": "stdout",
     "output_type": "stream",
     "text": [
      "5\n",
      "4\n"
     ]
    }
   ],
   "source": [
    "#교집합 함수\n",
    "def intersection(a,b):\n",
    "    c=[]\n",
    "    for i in a:\n",
    "        if i in b: # i가 b집합의 원소이면 추가\n",
    "            c.append(i)\n",
    "    return c\n",
    "\n",
    "#최대 공약수\n",
    "def max_common_factor(a,b):\n",
    "    c=factor_nums(a) #a의 약수\n",
    "    d=factor_nums(b) #b의 약수\n",
    "    #print(c)\n",
    "    #print(d)\n",
    "    \n",
    "    e=intersection(c,d) #공약수\n",
    "    #print(e) \n",
    "    return max(e) #가장 큰값 리턴\n",
    "\n",
    "print(max_common_factor(10,15))\n",
    "print(max_common_factor(8,20))"
   ]
  },
  {
   "cell_type": "code",
   "execution_count": 8,
   "metadata": {},
   "outputs": [
    {
     "name": "stdout",
     "output_type": "stream",
     "text": [
      "[2, 3, 5, 6, 10, 15, 30]\n",
      "[2, 4, 5, 10, 20, 25, 50, 100]\n"
     ]
    }
   ],
   "source": [
    "def multiple_nums(n):\n",
    "    nums=[]\n",
    "    i=2 #곱하기 2부터 시작\n",
    "    while i<=n:\n",
    "        if n%i ==0: #n을 i로 나눈 나머지가 0이면 추가\n",
    "            nums.append(i)\n",
    "        i+= 1 #곱하는 수를 1증가시킴\n",
    "    #print(nums)\n",
    "    return nums\n",
    "\n",
    "print(multiple_nums(30))\n",
    "print(multiple_nums(100))"
   ]
  },
  {
   "cell_type": "code",
   "execution_count": 9,
   "metadata": {},
   "outputs": [
    {
     "name": "stdout",
     "output_type": "stream",
     "text": [
      "2\n",
      "3\n"
     ]
    }
   ],
   "source": [
    "def min_common(a,b):\n",
    "    c=multiple_nums(a)\n",
    "    d=multiple_nums(b)\n",
    "    #print(c)\n",
    "    #print(d)\n",
    "    e=intersection(c,d)\n",
    "    #print(e)\n",
    "    return min(e)\n",
    "\n",
    "print(min_common(10,20))\n",
    "print(min_common(30,45))"
   ]
  },
  {
   "cell_type": "code",
   "execution_count": 10,
   "metadata": {},
   "outputs": [
    {
     "name": "stdout",
     "output_type": "stream",
     "text": [
      "15\n",
      "100\n"
     ]
    }
   ],
   "source": [
    "#최소공배수\n",
    "def myfunc(a,b):\n",
    "    t=0\n",
    "    if a>b:\n",
    "        t=a\n",
    "    else:\n",
    "        t=b\n",
    "        \n",
    "    result=0\n",
    "    while t: #t가 0이 아니면 반복 처리됨\n",
    "        if t % a ==0 and t%b ==0: #최소공배수이면\n",
    "            result =t #결과를 저장하고\n",
    "            break #반복문 종료\n",
    "        t+= 1 #t를 증가시킴\n",
    "    return result\n",
    "\n",
    "print(myfunc(3,5))\n",
    "print(myfunc(100,25))"
   ]
  },
  {
   "cell_type": "code",
   "execution_count": 11,
   "metadata": {},
   "outputs": [
    {
     "name": "stdout",
     "output_type": "stream",
     "text": [
      "1234\n"
     ]
    }
   ],
   "source": [
    "a=['1','2','3','4']\n",
    "b=''.join(a)\n",
    "print(b)"
   ]
  },
  {
   "cell_type": "code",
   "execution_count": 12,
   "metadata": {},
   "outputs": [
    {
     "name": "stdout",
     "output_type": "stream",
     "text": [
      "<class 'str'> 1234\n",
      "<class 'int'> 1234\n"
     ]
    }
   ],
   "source": [
    "a=[1,2,3,4]\n",
    "b=''\n",
    "for i in range(len(a)):\n",
    "    b+=''.join(str(a[i]))\n",
    "\n",
    "print(type(b),b)\n",
    "c=int(b)\n",
    "print(type(c),c)"
   ]
  },
  {
   "cell_type": "code",
   "execution_count": 13,
   "metadata": {},
   "outputs": [
    {
     "name": "stdout",
     "output_type": "stream",
     "text": [
      "<class 'str'> 1234\n",
      "<class 'str'> 1234\n",
      "1234\n"
     ]
    }
   ],
   "source": [
    "#숫자리스트를 숫자변수 1개로\n",
    "a=[1,2,3,4]\n",
    "nums=\"\"\n",
    "for i in range(len(a)): # range(4) 0~3\n",
    "    nums=nums + str(a[i]) #숫자를 문자열로 바꾼 후 연결시킴\n",
    "    \n",
    "print(type(nums),nums)\n",
    "number = int(nums) #문자열을 숫자로 변경\n",
    "print(type(nums),nums)\n",
    "print(nums)"
   ]
  },
  {
   "cell_type": "code",
   "execution_count": 14,
   "metadata": {},
   "outputs": [
    {
     "data": {
      "text/plain": [
       "1245891"
      ]
     },
     "execution_count": 14,
     "metadata": {},
     "output_type": "execute_result"
    }
   ],
   "source": [
    "def list_to_num(a):\n",
    "    nums=''\n",
    "    for i in range(len(a)):\n",
    "        nums=nums+str(a[i])\n",
    "    nums=int(nums)\n",
    "    return nums\n",
    "\n",
    "list_to_num([1,2,4,5,8,91])"
   ]
  },
  {
   "cell_type": "code",
   "execution_count": 15,
   "metadata": {},
   "outputs": [
    {
     "name": "stdout",
     "output_type": "stream",
     "text": [
      "[1, 2, 3, 5, 8]\n",
      "[1, 2, 3, 5, 8, 13, 21, 34, 55, 89]\n",
      "[1, 2, 3, 5, 8, 13, 21, 34, 55, 89, 144, 233, 377, 610, 987, 1597, 2584, 4181, 6765, 10946, 17711, 28657, 46368, 75025, 121393, 196418, 317811, 514229, 832040, 1346269]\n"
     ]
    }
   ],
   "source": [
    "def pibonacci(n):\n",
    "    nums=[1,2] #1,2부터 시작\n",
    "    for i in range(2,n): #2~n-1\n",
    "        nums.append(nums[-1]+nums[-2])\n",
    "    #print(nums)\n",
    "    return nums\n",
    "\n",
    "print(pibonacci(5)) #숫자 5개\n",
    "print(pibonacci(10)) #숫자 10개\n",
    "print(pibonacci(30)) #숫자 30개"
   ]
  },
  {
   "cell_type": "code",
   "execution_count": 16,
   "metadata": {},
   "outputs": [
    {
     "name": "stdout",
     "output_type": "stream",
     "text": [
      "61448768\n",
      "\n",
      " 768\n"
     ]
    }
   ],
   "source": [
    "import numpy as np #넘파이 로딩\n",
    "\n",
    "#랜덤 시드를 고정시키면 같은 값이 출력됨(재현성)\n",
    "np.random.seed(0)\n",
    "n = 1 \n",
    "for i in  range(5):\n",
    "    #1~10까지의 정수난수\n",
    "    temp =np.random.randint(1,11)\n",
    "    print(temp,end='')\n",
    "    n*=temp\n",
    "    \n",
    "print(n)\n",
    "print('\\n',n)"
   ]
  },
  {
   "cell_type": "code",
   "execution_count": 17,
   "metadata": {},
   "outputs": [
    {
     "name": "stdout",
     "output_type": "stream",
     "text": [
      "5/2\n",
      "5/2\n",
      "5/2\n"
     ]
    }
   ],
   "source": [
    "from fractions import Fraction\n",
    "\n",
    "print(Fraction(5/2))\n",
    "print(Fraction(2.5))\n",
    "print(Fraction(5,2)) #분자,분모"
   ]
  },
  {
   "cell_type": "code",
   "execution_count": 18,
   "metadata": {},
   "outputs": [
    {
     "name": "stdout",
     "output_type": "stream",
     "text": [
      "7\n",
      "9\n",
      "1/2\n"
     ]
    }
   ],
   "source": [
    "print(Fraction(7,9).numerator) #분자\n",
    "print(Fraction(7,9).denominator) #분모\n",
    "print(Fraction(2,4)) #기약분수로 출력됨"
   ]
  },
  {
   "cell_type": "code",
   "execution_count": 19,
   "metadata": {},
   "outputs": [
    {
     "name": "stdout",
     "output_type": "stream",
     "text": [
      "1/7\n",
      "7/16\n",
      "23/28\n",
      "-9/28\n"
     ]
    }
   ],
   "source": [
    "#분수의 사칙연산\n",
    "print(Fraction(1,4)*Fraction(4,7))\n",
    "print(Fraction(1,4)/Fraction(4,7))\n",
    "print(Fraction(1,4)+Fraction(4,7))\n",
    "print(Fraction(1,4)-Fraction(4,7))"
   ]
  },
  {
   "cell_type": "code",
   "execution_count": 20,
   "metadata": {},
   "outputs": [
    {
     "name": "stdout",
     "output_type": "stream",
     "text": [
      "1/16\n",
      "1/16\n",
      "9/16\n",
      "0.5625\n",
      "0.31640625\n"
     ]
    }
   ],
   "source": [
    "#분수의 제곱연산\n",
    "print(Fraction(1,4)*Fraction(1,4))\n",
    "print(Fraction(1,4)**2)\n",
    "#분수를 소수로 변환\n",
    "a=Fraction(9,16)\n",
    "print(a)\n",
    "b=float(a)\n",
    "print(b)\n",
    "print(b**2)"
   ]
  },
  {
   "cell_type": "code",
   "execution_count": 21,
   "metadata": {},
   "outputs": [
    {
     "name": "stdout",
     "output_type": "stream",
     "text": [
      "1.7320508075688772\n",
      "3.141592653589793\n",
      "3.141592653589793\n",
      "5.441398092702653\n"
     ]
    }
   ],
   "source": [
    "import math\n",
    "\n",
    "print(np.sqrt(3)) #제곱근\n",
    "print(np.pi) #원주율\n",
    "print(math.pi) #원주율(math 모듈)\n",
    "print(np.pi*np.sqrt(3))"
   ]
  },
  {
   "cell_type": "code",
   "execution_count": 22,
   "metadata": {},
   "outputs": [
    {
     "name": "stdout",
     "output_type": "stream",
     "text": [
      "1.0\n",
      "7.0\n",
      "(2+3j)\n"
     ]
    }
   ],
   "source": [
    "c1=1+7j # j허수부\n",
    "print(c1.real) #실수부\n",
    "print(c1.imag) #허수부\n",
    "c2=complex(2,3) #실수부 2, 허수부 3인 복소수\n",
    "print(c2)"
   ]
  },
  {
   "cell_type": "code",
   "execution_count": null,
   "metadata": {},
   "outputs": [],
   "source": []
  },
  {
   "cell_type": "code",
   "execution_count": null,
   "metadata": {},
   "outputs": [],
   "source": []
  },
  {
   "cell_type": "code",
   "execution_count": null,
   "metadata": {},
   "outputs": [],
   "source": []
  },
  {
   "cell_type": "code",
   "execution_count": null,
   "metadata": {},
   "outputs": [],
   "source": []
  }
 ],
 "metadata": {
  "kernelspec": {
   "display_name": "Python 3",
   "language": "python",
   "name": "python3"
  },
  "language_info": {
   "codemirror_mode": {
    "name": "ipython",
    "version": 3
   },
   "file_extension": ".py",
   "mimetype": "text/x-python",
   "name": "python",
   "nbconvert_exporter": "python",
   "pygments_lexer": "ipython3",
   "version": "3.7.4"
  }
 },
 "nbformat": 4,
 "nbformat_minor": 2
}
