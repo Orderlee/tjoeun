{
 "cells": [
  {
   "cell_type": "code",
   "execution_count": null,
   "metadata": {},
   "outputs": [],
   "source": [
    "import numpy as np\n",
    "weight=[22,24,26,30,32,40,35,45,20,29,34,36,36,38,39,48,43,37,33,31,29,39,26,29]\n",
    "hist = np.zeros(6) #1차원 넘파이 배열에 0을 채움\n",
    "print(hist)\n",
    "for i in weight:\n",
    "    if i//5 ==4: #i를 나눈 정수몫이 4이면(/ 실수몫)\n",
    "        hist[0] +=1 #카운트를 증가시킴\n",
    "    elif i//5 == 5:\n",
    "        hist[1] +=1\n",
    "    elif i//5 ==6:\n",
    "        hist[2] +=1\n",
    "    elif i//5 ==7:\n",
    "        hist[3] +=1\n",
    "    elif i//5 ==8:\n",
    "        hist[4] += 1\n",
    "    elif i//5 ==9:\n",
    "        hist[5] += 1\n",
    "        \n",
    "print(hist)"
   ]
  },
  {
   "cell_type": "code",
   "execution_count": null,
   "metadata": {},
   "outputs": [],
   "source": [
    "import pandas as pd\n",
    "\n",
    "#시리즈(1차원), 데이터프레임(2차원 - 표형식)\n",
    "\n",
    "index = ['20~25','25~30','30~35','35~40','40~45','45~50']\n",
    "# 시리즈: 판다스에서 지원하는 1차원 자료형\n",
    "# series(1차원배열) 1차원배열을 시리즈 자료형으로 변환\n",
    "# index 행 인덱스(숫자 대신 문자열 사용 가능)\n",
    "a = pd.Series(hist,index=index)\n",
    "#a=pd.Series(hist)\n",
    "print(a)\n",
    "\n",
    "print(type(a))\n",
    "\n",
    "#시리즈의 이름\n",
    "a.name='A반의 체중 도수분포표'\n",
    "print(a)"
   ]
  },
  {
   "cell_type": "code",
   "execution_count": 7,
   "metadata": {},
   "outputs": [
    {
     "name": "stdout",
     "output_type": "stream",
     "text": [
      "{'weight': [22, 24, 26, 30, 32, 40, 35, 45, 20, 29, 34, 36, 36, 38, 39, 48, 43, 37, 33, 31, 29, 39, 26, 29], 'height': [124, 125, 128, 130, 134, 140, 131, 143, 122, 129, 136, 139, 141, 135, 142, 150, 149, 141, 127, 131, 130, 125, 135, 126]}\n",
      "   weight  height\n",
      "0      22     124\n",
      "1      24     125\n",
      "2      26     128\n",
      "3      30     130\n",
      "4      32     134\n",
      "    weight  height\n",
      "19      31     131\n",
      "20      29     130\n",
      "21      39     125\n",
      "22      26     135\n",
      "23      29     126\n",
      "          weight      height\n",
      "count  24.000000   24.000000\n",
      "mean   33.375000  133.875000\n",
      "std     7.167636    7.859154\n",
      "min    20.000000  122.000000\n",
      "25%    29.000000  127.750000\n",
      "50%    33.500000  132.500000\n",
      "75%    38.250000  140.250000\n",
      "max    48.000000  150.000000\n"
     ]
    }
   ],
   "source": [
    "import pandas as pd\n",
    "#print(len(weight))\n",
    "#print(weight[:5])\n",
    "weight=[22,24,26,30,32,40,35,45,20,29,34,36,36,38,39,48,43,37,33,31,29,39,26,29]\n",
    "height=[124,125,128,130,134,140,131,143,122,129,136,139,141,135,142,150,149,141,127,131,130,125,135,126]\n",
    "d={'weight':weight, 'height':height}\n",
    "print(d)\n",
    "#데이터프레임 표 형식의 2차원 데이터\n",
    "e=pd.DataFrame(d)\n",
    "print(e.head()) #첫 5행\n",
    "#print(e['weight'])\n",
    "print(e.tail()) #마지막 5행\n",
    "print(e.describe()) #기초통계량\n"
   ]
  },
  {
   "cell_type": "code",
   "execution_count": 21,
   "metadata": {},
   "outputs": [
    {
     "name": "stdout",
     "output_type": "stream",
     "text": [
      "24\n",
      "A반의 몸무게와 키\n"
     ]
    },
    {
     "data": {
      "text/html": [
       "<div>\n",
       "<style scoped>\n",
       "    .dataframe tbody tr th:only-of-type {\n",
       "        vertical-align: middle;\n",
       "    }\n",
       "\n",
       "    .dataframe tbody tr th {\n",
       "        vertical-align: top;\n",
       "    }\n",
       "\n",
       "    .dataframe thead th {\n",
       "        text-align: right;\n",
       "    }\n",
       "</style>\n",
       "<table border=\"1\" class=\"dataframe\">\n",
       "  <thead>\n",
       "    <tr style=\"text-align: right;\">\n",
       "      <th></th>\n",
       "      <th>체중</th>\n",
       "      <th>신장</th>\n",
       "    </tr>\n",
       "  </thead>\n",
       "  <tbody>\n",
       "    <tr>\n",
       "      <td>김철수</td>\n",
       "      <td>22.0</td>\n",
       "      <td>124.0</td>\n",
       "    </tr>\n",
       "    <tr>\n",
       "      <td>박철호</td>\n",
       "      <td>24.0</td>\n",
       "      <td>125.0</td>\n",
       "    </tr>\n",
       "    <tr>\n",
       "      <td>송민희</td>\n",
       "      <td>26.0</td>\n",
       "      <td>128.0</td>\n",
       "    </tr>\n",
       "    <tr>\n",
       "      <td>정철수</td>\n",
       "      <td>30.0</td>\n",
       "      <td>130.0</td>\n",
       "    </tr>\n",
       "    <tr>\n",
       "      <td>이철민</td>\n",
       "      <td>32.0</td>\n",
       "      <td>134.0</td>\n",
       "    </tr>\n",
       "    <tr>\n",
       "      <td>조윤희</td>\n",
       "      <td>40.0</td>\n",
       "      <td>140.0</td>\n",
       "    </tr>\n",
       "    <tr>\n",
       "      <td>김철수</td>\n",
       "      <td>35.0</td>\n",
       "      <td>131.0</td>\n",
       "    </tr>\n",
       "    <tr>\n",
       "      <td>박철호</td>\n",
       "      <td>45.0</td>\n",
       "      <td>143.0</td>\n",
       "    </tr>\n",
       "    <tr>\n",
       "      <td>송민희</td>\n",
       "      <td>20.0</td>\n",
       "      <td>122.0</td>\n",
       "    </tr>\n",
       "    <tr>\n",
       "      <td>정철수</td>\n",
       "      <td>29.0</td>\n",
       "      <td>129.0</td>\n",
       "    </tr>\n",
       "    <tr>\n",
       "      <td>이철민</td>\n",
       "      <td>34.0</td>\n",
       "      <td>136.0</td>\n",
       "    </tr>\n",
       "    <tr>\n",
       "      <td>조윤희</td>\n",
       "      <td>36.0</td>\n",
       "      <td>139.0</td>\n",
       "    </tr>\n",
       "    <tr>\n",
       "      <td>김철수</td>\n",
       "      <td>36.0</td>\n",
       "      <td>141.0</td>\n",
       "    </tr>\n",
       "    <tr>\n",
       "      <td>박철호</td>\n",
       "      <td>38.0</td>\n",
       "      <td>135.0</td>\n",
       "    </tr>\n",
       "    <tr>\n",
       "      <td>송민희</td>\n",
       "      <td>39.0</td>\n",
       "      <td>142.0</td>\n",
       "    </tr>\n",
       "    <tr>\n",
       "      <td>정철수</td>\n",
       "      <td>48.0</td>\n",
       "      <td>150.0</td>\n",
       "    </tr>\n",
       "    <tr>\n",
       "      <td>이철민</td>\n",
       "      <td>43.0</td>\n",
       "      <td>149.0</td>\n",
       "    </tr>\n",
       "    <tr>\n",
       "      <td>조윤희</td>\n",
       "      <td>37.0</td>\n",
       "      <td>141.0</td>\n",
       "    </tr>\n",
       "    <tr>\n",
       "      <td>김철수</td>\n",
       "      <td>33.0</td>\n",
       "      <td>127.0</td>\n",
       "    </tr>\n",
       "    <tr>\n",
       "      <td>박철호</td>\n",
       "      <td>31.0</td>\n",
       "      <td>131.0</td>\n",
       "    </tr>\n",
       "    <tr>\n",
       "      <td>송민희</td>\n",
       "      <td>29.0</td>\n",
       "      <td>130.0</td>\n",
       "    </tr>\n",
       "    <tr>\n",
       "      <td>정철수</td>\n",
       "      <td>39.0</td>\n",
       "      <td>125.0</td>\n",
       "    </tr>\n",
       "    <tr>\n",
       "      <td>이철민</td>\n",
       "      <td>26.0</td>\n",
       "      <td>135.0</td>\n",
       "    </tr>\n",
       "    <tr>\n",
       "      <td>조윤희</td>\n",
       "      <td>29.0</td>\n",
       "      <td>126.0</td>\n",
       "    </tr>\n",
       "  </tbody>\n",
       "</table>\n",
       "</div>"
      ],
      "text/plain": [
       "       체중     신장\n",
       "김철수  22.0  124.0\n",
       "박철호  24.0  125.0\n",
       "송민희  26.0  128.0\n",
       "정철수  30.0  130.0\n",
       "이철민  32.0  134.0\n",
       "조윤희  40.0  140.0\n",
       "김철수  35.0  131.0\n",
       "박철호  45.0  143.0\n",
       "송민희  20.0  122.0\n",
       "정철수  29.0  129.0\n",
       "이철민  34.0  136.0\n",
       "조윤희  36.0  139.0\n",
       "김철수  36.0  141.0\n",
       "박철호  38.0  135.0\n",
       "송민희  39.0  142.0\n",
       "정철수  48.0  150.0\n",
       "이철민  43.0  149.0\n",
       "조윤희  37.0  141.0\n",
       "김철수  33.0  127.0\n",
       "박철호  31.0  131.0\n",
       "송민희  29.0  130.0\n",
       "정철수  39.0  125.0\n",
       "이철민  26.0  135.0\n",
       "조윤희  29.0  126.0"
      ]
     },
     "execution_count": 21,
     "metadata": {},
     "output_type": "execute_result"
    }
   ],
   "source": [
    "import numpy as np\n",
    "import pandas as pd\n",
    "#2차원 넘파이 배열을 만들고 0으로 채움\n",
    "print(len(weight))\n",
    "f=np.zeros((len(weight),2)) #15행 2열\n",
    "#print(f)\n",
    "#[행의범위,열의범위]\n",
    "f[:,0]=weight #모든행, 0열에 weight 입력\n",
    "#print(f)\n",
    "f[:,1]=height #모든행, 1열에 height 입력\n",
    "#print(f)\n",
    "# columns 필드명\n",
    "# index 행의 이름\n",
    "idx=['김철수','박철호','송민희','정철수','이철민','조윤희','김철수','박철호','송민희','정철수','이철민','조윤희','김철수','박철호','송민희','정철수','이철민','조윤희','김철수','박철호','송민희','정철수','이철민','조윤희']\n",
    "g=pd.DataFrame(f, columns=['체중','신장'],index=idx)\n",
    "#print(g.head())\n",
    "g.name='A반의 몸무게와 키'\n",
    "print(g.name)\n",
    "g"
   ]
  },
  {
   "cell_type": "code",
   "execution_count": 30,
   "metadata": {},
   "outputs": [
    {
     "name": "stdout",
     "output_type": "stream",
     "text": [
      "       체중     신장\n",
      "김철수  22.0  124.0\n",
      "박철호  24.0  125.0\n",
      "송민희  26.0  128.0\n",
      "정철수  30.0  130.0\n",
      "이철민  32.0  134.0\n",
      "조윤희  40.0  140.0\n",
      "김철수  35.0  131.0\n",
      "박철호  45.0  143.0\n",
      "송민희  20.0  122.0\n",
      "정철수  29.0  129.0\n",
      "이철민  34.0  136.0\n",
      "조윤희  36.0  139.0\n",
      "김철수  36.0  141.0\n",
      "박철호  38.0  135.0\n",
      "송민희  39.0  142.0\n",
      "정철수  48.0  150.0\n",
      "이철민  43.0  149.0\n",
      "조윤희  37.0  141.0\n",
      "김철수  33.0  127.0\n",
      "박철호  31.0  131.0\n",
      "송민희  29.0  130.0\n",
      "정철수  39.0  125.0\n",
      "이철민  26.0  135.0\n",
      "조윤희  29.0  126.0\n",
      "저장되었습니다.\n"
     ]
    }
   ],
   "source": [
    "#데이터프레임의 내용을 csv 파일로 저장\n",
    "print(g)\n",
    "g.to_csv('d:/data/person.csv',mode='w',encoding='ms949')\n",
    "print('저장되었습니다.')"
   ]
  },
  {
   "cell_type": "code",
   "execution_count": 34,
   "metadata": {},
   "outputs": [
    {
     "data": {
      "text/html": [
       "<div>\n",
       "<style scoped>\n",
       "    .dataframe tbody tr th:only-of-type {\n",
       "        vertical-align: middle;\n",
       "    }\n",
       "\n",
       "    .dataframe tbody tr th {\n",
       "        vertical-align: top;\n",
       "    }\n",
       "\n",
       "    .dataframe thead th {\n",
       "        text-align: right;\n",
       "    }\n",
       "</style>\n",
       "<table border=\"1\" class=\"dataframe\">\n",
       "  <thead>\n",
       "    <tr style=\"text-align: right;\">\n",
       "      <th></th>\n",
       "      <th>체중</th>\n",
       "      <th>신장</th>\n",
       "    </tr>\n",
       "  </thead>\n",
       "  <tbody>\n",
       "    <tr>\n",
       "      <td>김철수</td>\n",
       "      <td>22.0</td>\n",
       "      <td>124.0</td>\n",
       "    </tr>\n",
       "    <tr>\n",
       "      <td>박철호</td>\n",
       "      <td>24.0</td>\n",
       "      <td>125.0</td>\n",
       "    </tr>\n",
       "    <tr>\n",
       "      <td>송민희</td>\n",
       "      <td>26.0</td>\n",
       "      <td>128.0</td>\n",
       "    </tr>\n",
       "    <tr>\n",
       "      <td>정철수</td>\n",
       "      <td>30.0</td>\n",
       "      <td>130.0</td>\n",
       "    </tr>\n",
       "    <tr>\n",
       "      <td>이철민</td>\n",
       "      <td>32.0</td>\n",
       "      <td>134.0</td>\n",
       "    </tr>\n",
       "    <tr>\n",
       "      <td>조윤희</td>\n",
       "      <td>40.0</td>\n",
       "      <td>140.0</td>\n",
       "    </tr>\n",
       "    <tr>\n",
       "      <td>김철수</td>\n",
       "      <td>35.0</td>\n",
       "      <td>131.0</td>\n",
       "    </tr>\n",
       "    <tr>\n",
       "      <td>박철호</td>\n",
       "      <td>45.0</td>\n",
       "      <td>143.0</td>\n",
       "    </tr>\n",
       "    <tr>\n",
       "      <td>송민희</td>\n",
       "      <td>20.0</td>\n",
       "      <td>122.0</td>\n",
       "    </tr>\n",
       "    <tr>\n",
       "      <td>정철수</td>\n",
       "      <td>29.0</td>\n",
       "      <td>129.0</td>\n",
       "    </tr>\n",
       "    <tr>\n",
       "      <td>이철민</td>\n",
       "      <td>34.0</td>\n",
       "      <td>136.0</td>\n",
       "    </tr>\n",
       "    <tr>\n",
       "      <td>조윤희</td>\n",
       "      <td>36.0</td>\n",
       "      <td>139.0</td>\n",
       "    </tr>\n",
       "    <tr>\n",
       "      <td>김철수</td>\n",
       "      <td>36.0</td>\n",
       "      <td>141.0</td>\n",
       "    </tr>\n",
       "    <tr>\n",
       "      <td>박철호</td>\n",
       "      <td>38.0</td>\n",
       "      <td>135.0</td>\n",
       "    </tr>\n",
       "    <tr>\n",
       "      <td>송민희</td>\n",
       "      <td>39.0</td>\n",
       "      <td>142.0</td>\n",
       "    </tr>\n",
       "    <tr>\n",
       "      <td>정철수</td>\n",
       "      <td>48.0</td>\n",
       "      <td>150.0</td>\n",
       "    </tr>\n",
       "    <tr>\n",
       "      <td>이철민</td>\n",
       "      <td>43.0</td>\n",
       "      <td>149.0</td>\n",
       "    </tr>\n",
       "    <tr>\n",
       "      <td>조윤희</td>\n",
       "      <td>37.0</td>\n",
       "      <td>141.0</td>\n",
       "    </tr>\n",
       "    <tr>\n",
       "      <td>김철수</td>\n",
       "      <td>33.0</td>\n",
       "      <td>127.0</td>\n",
       "    </tr>\n",
       "    <tr>\n",
       "      <td>박철호</td>\n",
       "      <td>31.0</td>\n",
       "      <td>131.0</td>\n",
       "    </tr>\n",
       "    <tr>\n",
       "      <td>송민희</td>\n",
       "      <td>29.0</td>\n",
       "      <td>130.0</td>\n",
       "    </tr>\n",
       "    <tr>\n",
       "      <td>정철수</td>\n",
       "      <td>39.0</td>\n",
       "      <td>125.0</td>\n",
       "    </tr>\n",
       "    <tr>\n",
       "      <td>이철민</td>\n",
       "      <td>26.0</td>\n",
       "      <td>135.0</td>\n",
       "    </tr>\n",
       "    <tr>\n",
       "      <td>조윤희</td>\n",
       "      <td>29.0</td>\n",
       "      <td>126.0</td>\n",
       "    </tr>\n",
       "  </tbody>\n",
       "</table>\n",
       "</div>"
      ],
      "text/plain": [
       "       체중     신장\n",
       "김철수  22.0  124.0\n",
       "박철호  24.0  125.0\n",
       "송민희  26.0  128.0\n",
       "정철수  30.0  130.0\n",
       "이철민  32.0  134.0\n",
       "조윤희  40.0  140.0\n",
       "김철수  35.0  131.0\n",
       "박철호  45.0  143.0\n",
       "송민희  20.0  122.0\n",
       "정철수  29.0  129.0\n",
       "이철민  34.0  136.0\n",
       "조윤희  36.0  139.0\n",
       "김철수  36.0  141.0\n",
       "박철호  38.0  135.0\n",
       "송민희  39.0  142.0\n",
       "정철수  48.0  150.0\n",
       "이철민  43.0  149.0\n",
       "조윤희  37.0  141.0\n",
       "김철수  33.0  127.0\n",
       "박철호  31.0  131.0\n",
       "송민희  29.0  130.0\n",
       "정철수  39.0  125.0\n",
       "이철민  26.0  135.0\n",
       "조윤희  29.0  126.0"
      ]
     },
     "execution_count": 34,
     "metadata": {},
     "output_type": "execute_result"
    }
   ],
   "source": [
    "# csv 파일을 읽어서 데이터프레임으로 출력\n",
    "# index_col=0 인덱스컬럼을 표시하지 않음\n",
    "#df=pd.read_csv('d:/data/person.csv')\n",
    "df=pd.read_csv('d:/data/person.csv',index_col=0, encoding='ms949')\n",
    "df"
   ]
  },
  {
   "cell_type": "code",
   "execution_count": 3,
   "metadata": {},
   "outputs": [
    {
     "name": "stdout",
     "output_type": "stream",
     "text": [
      "도수: [3 5 4 7 3 2]\n",
      "구간: [20 25 30 35 40 45 50]\n",
      "[20 25 30 35 40 45 50]\n",
      "[3 5 4 7 3 2]\n"
     ]
    }
   ],
   "source": [
    "import numpy as np\n",
    "weight = [22,24,26,40,32,40,35,45,20,29,34,36,36,38,39,48,43,37,33,31,29,39,26,29]\n",
    "bins = np.arange(20,55,5) #20~54 step5\n",
    "#빈도수,구간 = np.histrogram(데이터,구간데이터)\n",
    "\n",
    "hist, bins = np.histogram(weight,bins)\n",
    "print('도수:',hist)\n",
    "print('구간:',bins)\n",
    "print(bins)\n",
    "print(hist)"
   ]
  },
  {
   "cell_type": "code",
   "execution_count": 4,
   "metadata": {},
   "outputs": [
    {
     "data": {
      "text/plain": [
       "(array([3., 5., 4., 7., 3., 2.]),\n",
       " array([20, 25, 30, 35, 40, 45, 50]),\n",
       " <a list of 6 Patch objects>)"
      ]
     },
     "execution_count": 4,
     "metadata": {},
     "output_type": "execute_result"
    },
    {
     "data": {
      "image/png": "[encoded data removed]",
      "text/plain": [
       "<Figure size 432x288 with 1 Axes>"
      ]
     },
     "metadata": {
      "needs_background": "light"
     },
     "output_type": "display_data"
    }
   ],
   "source": [
    "%matplotlib inline\n",
    "import matplotlib.pyplot as plt\n",
    "#히스토그램(도수분포표)\n",
    "plt.hist(weight,bins)"
   ]
  },
  {
   "cell_type": "code",
   "execution_count": 6,
   "metadata": {},
   "outputs": [
    {
     "data": {
      "text/plain": [
       "(array([3., 5., 4., 7., 3., 2.]),\n",
       " array([20, 25, 30, 35, 40, 45, 50]),\n",
       " <a list of 6 Patch objects>)"
      ]
     },
     "execution_count": 6,
     "metadata": {},
     "output_type": "execute_result"
    },
    {
     "data": {
      "image/png": "[encoded data removed]",
      "text/plain": [
       "<Figure size 432x288 with 1 Axes>"
      ]
     },
     "metadata": {
      "needs_background": "light"
     },
     "output_type": "display_data"
    }
   ],
   "source": [
    "# rdwith 막대 간격 조절\n",
    "# color 막대 색상\n",
    "# alpha 투명도 0.0 완전투영 ~1.0 완전불투명\n",
    "plt.hist(weight,bins,rwidth=0.8,color='red',alpha=0.5)"
   ]
  },
  {
   "cell_type": "code",
   "execution_count": 7,
   "metadata": {},
   "outputs": [
    {
     "name": "stdout",
     "output_type": "stream",
     "text": [
      "30\n",
      "[(1, 2), (1, 3), (1, 4), (1, 5), (1, 6), (2, 1), (2, 3), (2, 4), (2, 5), (2, 6), (3, 1), (3, 2), (3, 4), (3, 5), (3, 6), (4, 1), (4, 2), (4, 3), (4, 5), (4, 6), (5, 1), (5, 2), (5, 3), (5, 4), (5, 6), (6, 1), (6, 2), (6, 3), (6, 4), (6, 5)]\n"
     ]
    }
   ],
   "source": [
    "import itertools\n",
    "#1~6까지 2회\n",
    "#순서가 중요하고 중복이 허용되지 않음\n",
    "#permutations(범위,횟수)\n",
    "event = list(itertools.permutations(range(1,7),2))\n",
    "print(len(event)) #경우의 수\n",
    "print(event)"
   ]
  },
  {
   "cell_type": "code",
   "execution_count": 10,
   "metadata": {},
   "outputs": [
    {
     "name": "stdout",
     "output_type": "stream",
     "text": [
      "36\n",
      "[(1, 1), (1, 2), (1, 3), (1, 4), (1, 5), (1, 6), (2, 1), (2, 2), (2, 3), (2, 4), (2, 5), (2, 6), (3, 1), (3, 2), (3, 3), (3, 4), (3, 5), (3, 6), (4, 1), (4, 2), (4, 3), (4, 4), (4, 5), (4, 6), (5, 1), (5, 2), (5, 3), (5, 4), (5, 5), (5, 6), (6, 1), (6, 2), (6, 3), (6, 4), (6, 5), (6, 6)]\n"
     ]
    }
   ],
   "source": [
    "#순서가 중요하고 중복이 허용됨\n",
    "event = list(itertools.product(range(1,7),range(1,7)))\n",
    "print(len(event))\n",
    "print(event)"
   ]
  },
  {
   "cell_type": "code",
   "execution_count": 13,
   "metadata": {},
   "outputs": [
    {
     "name": "stdout",
     "output_type": "stream",
     "text": [
      "6\n",
      "[(1, 2), (1, 3), (1, 4), (2, 3), (2, 4), (3, 4)]\n"
     ]
    }
   ],
   "source": [
    "#순서없음,중복 허용하지 않음\n",
    "# (1,2)(2,1) -> 하나로 처리\n",
    "\n",
    "event=list(itertools.combinations([1,2,3,4],2))\n",
    "print(len(event))\n",
    "print(event)"
   ]
  },
  {
   "cell_type": "code",
   "execution_count": 16,
   "metadata": {},
   "outputs": [
    {
     "name": "stdout",
     "output_type": "stream",
     "text": [
      "21\n",
      "[(1, 1), (1, 2), (1, 3), (1, 4), (1, 5), (1, 6), (2, 2), (2, 3), (2, 4), (2, 5), (2, 6), (3, 3), (3, 4), (3, 5), (3, 6), (4, 4), (4, 5), (4, 6), (5, 5), (5, 6), (6, 6)]\n"
     ]
    }
   ],
   "source": [
    "#순서없음,중복허용\n",
    "event=list(itertools.combinations_with_replacement([1,2,3,4,5,6],2))\n",
    "print(len(event))\n",
    "print(event)"
   ]
  },
  {
   "cell_type": "code",
   "execution_count": 19,
   "metadata": {},
   "outputs": [
    {
     "name": "stdout",
     "output_type": "stream",
     "text": [
      "[(1, 4), (2, 3), (3, 2), (4, 1), (4, 6), (5, 5), (6, 4)]\n",
      "7\n",
      "7/36\n",
      "0.19444444444444445\n"
     ]
    }
   ],
   "source": [
    "#주사위 두번 던져 합이 5의 배수가 될 경우의 수 와 확률\n",
    "from fractions import Fraction\n",
    "\n",
    "nums=[]\n",
    "for i in range(1,7): #첫번째 주사위\n",
    "    for j in range(1,7): #두번째 주사위\n",
    "        if(i+j)%5==0: #합이 5의 배수이면 추가\n",
    "            nums.append((i,j))\n",
    "print(nums)\n",
    "\n",
    "n=len(nums) #경우의 수\n",
    "p=Fraction(n,36) #확률 : 횟수/모든경우의수\n",
    "print(n)\n",
    "print(p)\n",
    "print(float(p)) #float 함수를 이용하여 소수로 변환"
   ]
  },
  {
   "cell_type": "code",
   "execution_count": 20,
   "metadata": {},
   "outputs": [
    {
     "name": "stdout",
     "output_type": "stream",
     "text": [
      "234168\n"
     ]
    }
   ],
   "source": [
    "#1~1000까지의 정수에서 3과 5의 배수들의 합계\n",
    "x = np.arange(3,1001,3)\n",
    "y = np.arange(5,1001,5)\n",
    "z = np.arange(15,1001,15) #15의 배수는 빼야 함\n",
    "total = sum(x)+sum(y)-sum(z)\n",
    "print(total)"
   ]
  },
  {
   "cell_type": "code",
   "execution_count": 19,
   "metadata": {},
   "outputs": [
    {
     "name": "stdout",
     "output_type": "stream",
     "text": [
      "[   0  500 1000] [  0 100 200 300] [  0  50 100 150 200] [ 0 10 20 30 40 50 60 70 80 90]\n"
     ]
    },
    {
     "ename": "AttributeError",
     "evalue": "'set' object has no attribute 'append'",
     "output_type": "error",
     "traceback": [
      "\u001b[1;31m---------------------------------------------------------------------------\u001b[0m",
      "\u001b[1;31mAttributeError\u001b[0m                            Traceback (most recent call last)",
      "\u001b[1;32m<ipython-input-19-3e19d97a388e>\u001b[0m in \u001b[0;36m<module>\u001b[1;34m\u001b[0m\n\u001b[0;32m     27\u001b[0m             \u001b[1;32mfor\u001b[0m \u001b[0ml\u001b[0m \u001b[1;32min\u001b[0m \u001b[0mrange\u001b[0m\u001b[1;33m(\u001b[0m\u001b[1;36m0\u001b[0m\u001b[1;33m,\u001b[0m\u001b[1;36m91\u001b[0m\u001b[1;33m,\u001b[0m\u001b[1;36m10\u001b[0m\u001b[1;33m)\u001b[0m\u001b[1;33m:\u001b[0m\u001b[1;33m\u001b[0m\u001b[1;33m\u001b[0m\u001b[0m\n\u001b[0;32m     28\u001b[0m                 \u001b[1;32mif\u001b[0m\u001b[1;33m(\u001b[0m\u001b[0mi\u001b[0m\u001b[1;33m+\u001b[0m\u001b[0mj\u001b[0m\u001b[1;33m+\u001b[0m\u001b[0mk\u001b[0m\u001b[1;33m+\u001b[0m\u001b[0ml\u001b[0m\u001b[1;33m)\u001b[0m \u001b[1;33m!=\u001b[0m\u001b[1;36m0\u001b[0m\u001b[1;33m:\u001b[0m\u001b[1;33m\u001b[0m\u001b[1;33m\u001b[0m\u001b[0m\n\u001b[1;32m---> 29\u001b[1;33m                     \u001b[0mtotal1\u001b[0m\u001b[1;33m.\u001b[0m\u001b[0mappend\u001b[0m\u001b[1;33m(\u001b[0m\u001b[1;33m(\u001b[0m\u001b[0mi\u001b[0m\u001b[1;33m,\u001b[0m\u001b[0mj\u001b[0m\u001b[1;33m,\u001b[0m\u001b[0mk\u001b[0m\u001b[1;33m,\u001b[0m\u001b[0ml\u001b[0m\u001b[1;33m)\u001b[0m\u001b[1;33m)\u001b[0m\u001b[1;33m\u001b[0m\u001b[1;33m\u001b[0m\u001b[0m\n\u001b[0m\u001b[0;32m     30\u001b[0m \u001b[0mprint\u001b[0m\u001b[1;33m(\u001b[0m\u001b[0mtotal\u001b[0m\u001b[1;33m)\u001b[0m\u001b[1;33m\u001b[0m\u001b[1;33m\u001b[0m\u001b[0m\n\u001b[0;32m     31\u001b[0m \u001b[0mprint\u001b[0m\u001b[1;33m(\u001b[0m\u001b[0mlen\u001b[0m\u001b[1;33m(\u001b[0m\u001b[0mtotal\u001b[0m\u001b[1;33m)\u001b[0m\u001b[1;33m)\u001b[0m\u001b[1;33m\u001b[0m\u001b[1;33m\u001b[0m\u001b[0m\n",
      "\u001b[1;31mAttributeError\u001b[0m: 'set' object has no attribute 'append'"
     ]
    }
   ],
   "source": [
    "import numpy as np\n",
    "total=[]\n",
    "a500=np.arange(0,1100,500)\n",
    "a100=np.arange(0,310,100)\n",
    "a50=np.arange(0,210,50)\n",
    "a10=np.arange(0,91,10)\n",
    "\n",
    "\n",
    "print(a500,a100,a50,a10)\n",
    "\n",
    "result=set()\n",
    "for a in a10:\n",
    "    for b in a50:\n",
    "        for c in a100:\n",
    "            for d in a500:\n",
    "                if(a+b+c+d) !=0:\n",
    "                    result.add(a+b+c+d)\n",
    "print(len(result))\n",
    "r=list(result)\n",
    "r.sort()\n",
    "print(r)\n",
    "\n",
    "# for i in range(0,1100,500):\n",
    "#     for j in range(0,310,100):\n",
    "#         for k in range(0,210,50):\n",
    "#             for l in range(0,91,10):\n",
    "#                 if(i+j+k+l) !=0:\n",
    "#                     total.append((i,j,k,l))\n",
    "# print(total)\n",
    "# print(len(total))"
   ]
  },
  {
   "cell_type": "code",
   "execution_count": 25,
   "metadata": {},
   "outputs": [
    {
     "name": "stdout",
     "output_type": "stream",
     "text": [
      "5/12 0.4166666666666667\n",
      "1/12 0.08333333333333333\n",
      "1/18 0.05555555555555555\n"
     ]
    }
   ],
   "source": [
    "event1 = 0\n",
    "event2 = 0\n",
    "event3 = 0\n",
    "for x in range(1,7):\n",
    "    for y in range(1,7):\n",
    "        if x+y<=6:\n",
    "            event1 += 1\n",
    "        if x-y ==3:\n",
    "            event2 += 1\n",
    "        if (y==x-2) and (y>-x+7):\n",
    "            event3 += 1\n",
    "            \n",
    "a = Fraction(event1,36) # x=y <= 6이 될 확률\n",
    "b = Fraction(event2,36) # x-y=3이 될 확률\n",
    "c = Fraction(event3,36) # y=x-2, y>-x+7 을 둘 다 만족할 확률\n",
    "print(a,float(a))\n",
    "print(b,float(b))\n",
    "print(c,float(c))"
   ]
  },
  {
   "cell_type": "code",
   "execution_count": 28,
   "metadata": {},
   "outputs": [
    {
     "name": "stdout",
     "output_type": "stream",
     "text": [
      "6.666666666666667\n",
      "6.666666666666667\n",
      "6.666666666666667\n"
     ]
    }
   ],
   "source": [
    "#평균\n",
    "import numpy as np\n",
    "\n",
    "x = [2,6,6,8,8,10]\n",
    "def average(x):\n",
    "    return sum(x)/len(x) #합계를 갯수로 나눔\n",
    "print(average(x))\n",
    "\n",
    "# lambda 입력값:출력값\n",
    "average2 = lambda a:sum(a)/len(a)\n",
    "print(average2(x))\n",
    "\n",
    "#넘파이의 평균 계산 함수\n",
    "print(np.average(x))"
   ]
  },
  {
   "cell_type": "code",
   "execution_count": 27,
   "metadata": {},
   "outputs": [
    {
     "name": "stdout",
     "output_type": "stream",
     "text": [
      "[2, 2, 3, 5, 6, 6, 7, 7, 7, 8, 8, 9, 10]\n",
      "원소갯수:13\n",
      "median index:6번\n",
      "중앙값:7\n",
      "7.0\n"
     ]
    }
   ],
   "source": [
    "#중앙값(중위수)\n",
    "x =[9,3,5,2,7,2,6,6,7,7,8,8,10]\n",
    "x.sort() #정렬\n",
    "print(x)\n",
    "\n",
    "n=len(x) #갯수\n",
    "middle_number =n//2 #정수몫\n",
    "\n",
    "print('원소갯수:{}'.format(n))\n",
    "print('median index:{}번'.format(middle_number))\n",
    "print('중앙값:{}'.format(x[middle_number]))\n",
    "print(np.median(x)) #넘파이의 중위수 계산 함수"
   ]
  },
  {
   "cell_type": "code",
   "execution_count": 38,
   "metadata": {},
   "outputs": [
    {
     "name": "stdout",
     "output_type": "stream",
     "text": [
      "10\n",
      "-9\n",
      "12\n",
      "0\n",
      "10\n",
      "-9\n"
     ]
    }
   ],
   "source": [
    "x=np.array([-9,3,5,2,7,2,6,6,7,7,8,8,10])\n",
    "\n",
    "print(np.max(x)) #최대값\n",
    "print(np.min(x)) #최소값\n",
    "\n",
    "print(x.argmax()) #가장 큰 값의 인덱스\n",
    "print(x.argmin()) #가장 작은 값의 인덱스\n",
    "print(x[x.argmax()]) #최대값\n",
    "print(x[x.argmin()]) #최소값"
   ]
  },
  {
   "cell_type": "code",
   "execution_count": 32,
   "metadata": {},
   "outputs": [
    {
     "name": "stdout",
     "output_type": "stream",
     "text": [
      "[0 0 2 1 0 1 2 3 2 1 1]\n",
      "7\n",
      "6\n"
     ]
    }
   ],
   "source": [
    "x=[9,3,5,2,7,2,6,6,7,7,8,8,10]\n",
    "# bincount(x) 0~ max(x)까지의 빈도수\n",
    "print(np.bincount(x))\n",
    "# 빈도수가 가장 높은 인덱스 값\n",
    "idx=np.bincount(x).argmax()\n",
    "print(idx)\n",
    "print(x[idx])"
   ]
  },
  {
   "cell_type": "code",
   "execution_count": 39,
   "metadata": {},
   "outputs": [
    {
     "name": "stdout",
     "output_type": "stream",
     "text": [
      "{9: 1, 3: 1, 5: 1, 2: 2, 7: 3, 6: 2, 8: 2, 10: 1}\n",
      "최빈도수: 7\n"
     ]
    }
   ],
   "source": [
    "x = [9,3,5,2,7,2,6,6,7,7,8,8,10]\n",
    "frequency={}\n",
    "max_n=0\n",
    "for i in x:\n",
    "    frequency[i] = x.count(i)\n",
    "    \n",
    "print(frequency)\n",
    "    \n",
    "for j in frequency:\n",
    "    if frequency[j] > max_n:\n",
    "        max_n = frequency[j]\n",
    "        max_key=j\n",
    "    \n",
    "print('최빈도수:',max_key)"
   ]
  },
  {
   "cell_type": "code",
   "execution_count": 40,
   "metadata": {},
   "outputs": [
    {
     "name": "stdout",
     "output_type": "stream",
     "text": [
      "5.8\n",
      "19.759999999999998\n",
      "4.445222154178573\n"
     ]
    }
   ],
   "source": [
    "x = [0,1,3,6,12,13,10,7,5,1]\n",
    "\n",
    "mean = np.average(x) \n",
    "print(mean) #평균\n",
    "print(np.var(x)) #분산\n",
    "print(np.std(x)) #표준편차"
   ]
  },
  {
   "cell_type": "code",
   "execution_count": 47,
   "metadata": {},
   "outputs": [
    {
     "name": "stdout",
     "output_type": "stream",
     "text": [
      "분산: 19.759999999999998\n",
      "표준편차: 4.445222154178573\n"
     ]
    }
   ],
   "source": [
    "x = [0,1,3,6,12,13,10,7,5,1]\n",
    "mean=np.average(x)\n",
    "\n",
    "variance=0\n",
    "for i in x:\n",
    "    #variance += i-mean #제곱을 하지 않으면 0 이 됨\n",
    "    variance += (i-mean)**2 #(변량-평균)의 제곱\n",
    "    \n",
    "variance = variance / len(x) #편차를 제곱한 값들의 평균값\n",
    "\n",
    "st=np.sqrt(variance) #분산의 제곱근\n",
    "print('분산:',variance)\n",
    "print('표준편차:',st)"
   ]
  },
  {
   "cell_type": "code",
   "execution_count": 50,
   "metadata": {},
   "outputs": [
    {
     "name": "stdout",
     "output_type": "stream",
     "text": [
      "분산: 19.759999999999998\n",
      "표준편차: 4.445222154178573\n"
     ]
    }
   ],
   "source": [
    "variance = 0\n",
    "for i in range(len(x)):\n",
    "    variance += (x[i]-mean)**2  #(변량=평균)의 제곱\n",
    "    \n",
    "variance /= len(x) #편차를 제곱한 값들의 평균값\n",
    "std = np.sqrt(variance) #분산의 제곱근\n",
    "\n",
    "print('분산:',variance)\n",
    "print('표준편차:',std)"
   ]
  },
  {
   "cell_type": "code",
   "execution_count": 53,
   "metadata": {},
   "outputs": [
    {
     "name": "stdout",
     "output_type": "stream",
     "text": [
      "0.0\n",
      "5.833333333333333\n"
     ]
    }
   ],
   "source": [
    "#x-y 분산 구하기\n",
    "x=np.arange(1,7)\n",
    "y=np.arange(1,7)\n",
    "\n",
    "x_minus_y = []\n",
    "for i in x:\n",
    "    for j in y:\n",
    "        x_minus_y.append(i-j)\n",
    "        \n",
    "print(np.mean(x_minus_y)) #평균\n",
    "print(np.var(x_minus_y)) #분산"
   ]
  },
  {
   "cell_type": "code",
   "execution_count": 61,
   "metadata": {},
   "outputs": [
    {
     "name": "stdout",
     "output_type": "stream",
     "text": [
      "[-0.42475691 -0.51769829 -0.28008603  1.89991686  0.28238642]\n",
      "[[-1.29246783  0.17810273  0.44785118 -0.58181607]\n",
      " [-1.31012391 -1.75138076 -0.30154338  1.16480783]\n",
      " [ 0.82159609  1.47219818  0.4759281  -1.11346901]\n",
      " [-1.21307942  0.10298648 -1.19957041 -0.16859116]\n",
      " [-1.09477172  0.7216336   1.06141783  0.59918667]]\n"
     ]
    }
   ],
   "source": [
    "a = np.random.normal(size=5) #1차원 5개\n",
    "print(a) \n",
    "b=np.random.normal(size=(5,4)) #2차원 5행 4열\n",
    "print(b)"
   ]
  },
  {
   "cell_type": "code",
   "execution_count": 63,
   "metadata": {},
   "outputs": [
    {
     "name": "stdout",
     "output_type": "stream",
     "text": [
      "[-120 -110 -100  -90  -80  -70  -60  -50  -40  -30  -20  -10    0   10\n",
      "   20   30   40   50   60   70   80   90  100  110]\n",
      "0.4962020777187099\n",
      "9.509297357549137\n",
      "29.603022870441812\n",
      "19.842726456451917\n"
     ]
    },
    {
     "data": {
      "image/png": "[encoded data removed]",
      "text/plain": [
       "<Figure size 432x288 with 1 Axes>"
      ]
     },
     "metadata": {
      "needs_background": "light"
     },
     "output_type": "display_data"
    }
   ],
   "source": [
    "%matplotlib inline\n",
    "import matplotlib.pyplot as plt\n",
    "\n",
    "bin=np.arange(-120,120,10)\n",
    "print(bin)\n",
    "# normal(평균,표준편차,샘플갯수)\n",
    "hist1 = np.random.normal(0,30,1000)\n",
    "hist2 = np.random.normal(10,20,1000)\n",
    "plt.hist(hist1,bin,alpha=0.5, rwidth=0.8,color='blue')\n",
    "plt.hist(hist2,bin,alpha=0.5, rwidth=0.8,color='yellow')\n",
    "plt.grid()\n",
    "\n",
    "print(np.mean(hist1)) #평균\n",
    "print(np.mean(hist2))\n",
    "print(np.std(hist1)) #표준편차\n",
    "print(np.std(hist2))\n",
    "# yellow 평균이 더 큼\n",
    "# blue 표준편차가 더 큼"
   ]
  },
  {
   "cell_type": "code",
   "execution_count": null,
   "metadata": {},
   "outputs": [],
   "source": []
  }
 ],
 "metadata": {
  "kernelspec": {
   "display_name": "Python 3",
   "language": "python",
   "name": "python3"
  },
  "language_info": {
   "codemirror_mode": {
    "name": "ipython",
    "version": 3
   },
   "file_extension": ".py",
   "mimetype": "text/x-python",
   "name": "python",
   "nbconvert_exporter": "python",
   "pygments_lexer": "ipython3",
   "version": "3.7.4"
  }
 },
 "nbformat": 4,
 "nbformat_minor": 2
}
