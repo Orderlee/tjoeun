{
 "cells": [
  {
   "cell_type": "code",
   "execution_count": 2,
   "metadata": {},
   "outputs": [
    {
     "name": "stdout",
     "output_type": "stream",
     "text": [
      "[-1, 5, 8, 11, 55, 77, 88, 90]\n",
      "(3, 11)\n",
      "(0, -1)\n"
     ]
    }
   ],
   "source": [
    "def binary_search(a,x):\n",
    "    start=0 #탐색범위 start\n",
    "    end=len(a)-1 #탐색범위 end\n",
    "    while start <= end:\n",
    "        mid=(start+end)//2 #중간지점을 찾음\n",
    "        if x==a[mid]: #찾는 값과 일치하면 그 값을 리턴\n",
    "            return mid,a[mid]\n",
    "        elif x>a[mid]: #찾는 값이 더 크면 탐색지점 이동\n",
    "            start=mid+1\n",
    "        else: #찾는 값이 더 작으면 end 이동\n",
    "            end=mid-1\n",
    "    return -1\n",
    "\n",
    "d=[5,8,-1,90,88,77,55,11]\n",
    "d.sort() #이진탐색 하기 전에 정렬을 해야 함\n",
    "print(d)\n",
    "print(binary_search(d,11)) #11은 인덱스 3에 위치함\n",
    "print(binary_search(d,-1)) #-1은 인덱스 0에 위치함\n",
    "        "
   ]
  },
  {
   "cell_type": "code",
   "execution_count": 8,
   "metadata": {},
   "outputs": [
    {
     "name": "stdout",
     "output_type": "stream",
     "text": [
      "5\n",
      "4\n",
      "3\n",
      "2\n",
      "1\n"
     ]
    }
   ],
   "source": [
    "a=[1,2,3,4,5]\n",
    "idx=len(a)-1\n",
    "while a: #리스트의 원소가 있으면 반복\n",
    "    print(a[idx])\n",
    "    idx-=1\n",
    "    if idx<0:\n",
    "        break"
   ]
  },
  {
   "cell_type": "code",
   "execution_count": 10,
   "metadata": {},
   "outputs": [
    {
     "name": "stdout",
     "output_type": "stream",
     "text": [
      "[1, 2, 3, 4]\n",
      "5\n",
      "[2, 3, 4, 5]\n",
      "1\n"
     ]
    }
   ],
   "source": [
    "a=[1,2,3,4,5]\n",
    "b=a.pop() #마지막 요소를 뽑아서 b에 저장\n",
    "print(a)\n",
    "print(b)\n",
    "a=[1,2,3,4,5]\n",
    "b=a.pop(0) #인덱스 0번 요소를 뽑아서 b에 저장\n",
    "print(a)\n",
    "print(b)"
   ]
  },
  {
   "cell_type": "code",
   "execution_count": 15,
   "metadata": {},
   "outputs": [
    {
     "name": "stdout",
     "output_type": "stream",
     "text": [
      "[] []\n",
      "['s'] ['s']\n",
      "['s', 't'] ['s', 't']\n",
      "['s', 't', 'u'] ['s', 't', 'u']\n",
      "['s', 't', 'u', 'd'] ['s', 't', 'u', 'd']\n",
      "False\n",
      "[] []\n",
      "['w'] ['w']\n",
      "['w', 'o'] ['w', 'o']\n",
      "True\n",
      "[] []\n",
      "['나'] ['나']\n",
      "['나', '는'] ['나', '는']\n",
      "['나', '는'] ['나', '는']\n",
      "['나', '는', '학'] ['나', '는', '학']\n",
      "['나', '는', '학', '교'] ['나', '는', '학', '교']\n",
      "['나', '는', '학', '교', '에'] ['나', '는', '학', '교', '에']\n",
      "['나', '는', '학', '교', '에'] ['나', '는', '학', '교', '에']\n",
      "['나', '는', '학', '교', '에', '간'] ['나', '는', '학', '교', '에', '간']\n",
      "['나', '는', '학', '교', '에', '간', '다'] ['나', '는', '학', '교', '에', '간', '다']\n",
      "False\n",
      "[] []\n",
      "['기'] ['기']\n",
      "['기', '러'] ['기', '러']\n",
      "True\n"
     ]
    }
   ],
   "source": [
    "def palindrome(s):\n",
    "    qu=[]\n",
    "    st=[]\n",
    "    for x in s:\n",
    "        print(qu,st)\n",
    "        if x.isalpha(): #알파벳이면\n",
    "            qu.append(x.lower()) #소문자로 바꾼 후 저장\n",
    "            st.append(x.lower())\n",
    "    while qu: #qu 리스트에 내용이 있을 동안 반복 처리\n",
    "        #qu의 맨 앞 요소를 뽑아내고, st의 마지막 요소를 뽑아냄\n",
    "        if qu.pop(0) != st.pop():\n",
    "            return False\n",
    "    return True\n",
    "\n",
    "print(palindrome(\"study\"))\n",
    "print(palindrome(\"wow\"))\n",
    "print(palindrome('나는 학교에 간다.'))\n",
    "print(palindrome('기러기'))"
   ]
  },
  {
   "cell_type": "code",
   "execution_count": 13,
   "metadata": {},
   "outputs": [
    {
     "name": "stdout",
     "output_type": "stream",
     "text": [
      "True\n"
     ]
    }
   ],
   "source": [
    "a=[10,15,20,25,30]\n",
    "if 10 in a:\n",
    "    print(True)\n",
    "else:\n",
    "    print(False)"
   ]
  },
  {
   "cell_type": "code",
   "execution_count": 17,
   "metadata": {},
   "outputs": [
    {
     "name": "stdout",
     "output_type": "stream",
     "text": [
      "Tom {}\n",
      "Jerry {'Tom': 1}\n",
      "Mike {'Tom': 1, 'Jerry': 1}\n",
      "Tom {'Tom': 1, 'Jerry': 1, 'Mike': 1}\n",
      "딕셔너리: {'Tom': 2, 'Jerry': 1, 'Mike': 1}\n",
      "{'Tom'}\n",
      "김철수 {}\n",
      "이혜진 {'김철수': 1}\n",
      "송민호 {'김철수': 1, '이혜진': 1}\n",
      "이혜진 {'김철수': 1, '이혜진': 1, '송민호': 1}\n",
      "김철수 {'김철수': 1, '이혜진': 2, '송민호': 1}\n",
      "딕셔너리: {'김철수': 2, '이혜진': 2, '송민호': 1}\n",
      "{'김철수', '이혜진'}\n"
     ]
    }
   ],
   "source": [
    "#딕셔너리를 이용하여 동명이인 찾기\n",
    "def find_same_name(a):\n",
    "    name_dict={} #딕셔너리 자료형\n",
    "    for name in a:\n",
    "        print(name,name_dict)\n",
    "        if name in name_dict: # A in B (A가 B집합의 원소이면)\n",
    "            name_dict[name] +=1 #카운트 증가\n",
    "        else:\n",
    "            name_dict[name]=1\n",
    "    \n",
    "    print('딕셔너리:',name_dict)\n",
    "    \n",
    "    result= set() #집합 자료형 #result=list()\n",
    "    for name in name_dict:\n",
    "        if name_dict[name] >=2: #카운트가 2이상인 값들만 집합에 추가\n",
    "            result.add(name) #result.append(name)\n",
    "    return result\n",
    "\n",
    "name=[\"Tom\",\"Jerry\",\"Mike\",\"Tom\"]\n",
    "print(find_same_name(name))\n",
    "name2=['김철수','이혜진','송민호','이혜진','김철수']\n",
    "print(find_same_name(name2))"
   ]
  },
  {
   "cell_type": "code",
   "execution_count": 21,
   "metadata": {},
   "outputs": [
    {
     "name": "stdout",
     "output_type": "stream",
     "text": [
      "{'name': '김철수', 'age': 20, 'blood': 'A'}\n",
      "dict_keys(['name', 'age', 'blood'])\n",
      "dict_values(['김철수', 20, 'A'])\n",
      "dict_items([('name', '김철수'), ('age', 20), ('blood', 'A')])\n",
      "김철수\n",
      "김철수\n",
      "1990-02-01\n",
      "{'name': '김철수', 'age': 20, 'blood': 'A', 'birth': '2000-01-01'}\n"
     ]
    }
   ],
   "source": [
    "#딕셔너리:key,value로 짝지어진 자료형\n",
    "m={'name':'김철수','age':20,'blood':'A'}\n",
    "print(m)\n",
    "print(m.keys()) #key 집합\n",
    "print(m.values()) #value 집합\n",
    "print(m.items()) #(key,value) 집합\n",
    "print(m['name']) # 딕셔너리[key] => value\n",
    "print(m.get('name')) #딕셔너리.get(key) => value\n",
    "#print(m['birth']) #존재하지 않는 key를 조회하면 에러\n",
    "#get('key','기본값') key가 존재하지 않을 경우의 기본값\n",
    "print(m.get('birth','1990-02-01'))\n",
    "m['birth']='2000-01-01'\n",
    "print(m)"
   ]
  },
  {
   "cell_type": "code",
   "execution_count": 18,
   "metadata": {},
   "outputs": [
    {
     "name": "stdout",
     "output_type": "stream",
     "text": [
      "송미진\n",
      "?\n"
     ]
    }
   ],
   "source": [
    "def get_name(s_info, find_no):\n",
    "    if find_no in s_info: # find_no 가 s_info 딕셔너리의 원소이면\n",
    "        return s_info[find_no]\n",
    "    else: #없으면 ? 리턴\n",
    "        return \"?\"\n",
    "\n",
    "    # {key:value}\n",
    "sample_info ={\n",
    "    39:\"김철수\",\n",
    "    14:\"홍명수\",\n",
    "    67:\"이혜성\",\n",
    "    105:\"송미진\"\n",
    "}\n",
    "\n",
    "print(get_name(sample_info,105))\n",
    "print(get_name(sample_info, 777))"
   ]
  },
  {
   "cell_type": "code",
   "execution_count": null,
   "metadata": {},
   "outputs": [],
   "source": []
  },
  {
   "cell_type": "code",
   "execution_count": null,
   "metadata": {},
   "outputs": [],
   "source": []
  },
  {
   "cell_type": "code",
   "execution_count": null,
   "metadata": {},
   "outputs": [],
   "source": []
  },
  {
   "cell_type": "code",
   "execution_count": null,
   "metadata": {},
   "outputs": [],
   "source": []
  },
  {
   "cell_type": "code",
   "execution_count": null,
   "metadata": {},
   "outputs": [],
   "source": []
  },
  {
   "cell_type": "code",
   "execution_count": null,
   "metadata": {},
   "outputs": [],
   "source": []
  },
  {
   "cell_type": "code",
   "execution_count": null,
   "metadata": {},
   "outputs": [],
   "source": []
  },
  {
   "cell_type": "code",
   "execution_count": null,
   "metadata": {},
   "outputs": [],
   "source": []
  },
  {
   "cell_type": "code",
   "execution_count": null,
   "metadata": {},
   "outputs": [],
   "source": []
  },
  {
   "cell_type": "code",
   "execution_count": null,
   "metadata": {},
   "outputs": [],
   "source": []
  },
  {
   "cell_type": "code",
   "execution_count": null,
   "metadata": {},
   "outputs": [],
   "source": []
  },
  {
   "cell_type": "code",
   "execution_count": null,
   "metadata": {},
   "outputs": [],
   "source": []
  },
  {
   "cell_type": "code",
   "execution_count": null,
   "metadata": {},
   "outputs": [],
   "source": []
  },
  {
   "cell_type": "code",
   "execution_count": null,
   "metadata": {},
   "outputs": [],
   "source": []
  }
 ],
 "metadata": {
  "kernelspec": {
   "display_name": "Python 3",
   "language": "python",
   "name": "python3"
  },
  "language_info": {
   "codemirror_mode": {
    "name": "ipython",
    "version": 3
   },
   "file_extension": ".py",
   "mimetype": "text/x-python",
   "name": "python",
   "nbconvert_exporter": "python",
   "pygments_lexer": "ipython3",
   "version": "3.7.4"
  }
 },
 "nbformat": 4,
 "nbformat_minor": 2
}
