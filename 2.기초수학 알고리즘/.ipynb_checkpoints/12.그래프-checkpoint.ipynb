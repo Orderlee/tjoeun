{
 "cells": [
  {
   "cell_type": "code",
   "execution_count": 6,
   "metadata": {},
   "outputs": [
    {
     "name": "stdout",
     "output_type": "stream",
     "text": [
      "한도훈 이미리 김철수 김순기 설진수 이미영 홍수찬 최진우 qu: ['한도훈', '이미리', '김철수', '김순기', '설진수', '이미영', '홍수찬', '최진우']\n",
      "\n",
      "김철수 홍수찬 김순기 이미영 이미리 최진우 한도훈 설진수 qu: ['김철수', '홍수찬', '김순기', '이미영', '이미리', '최진우', '한도훈', '설진수']\n"
     ]
    }
   ],
   "source": [
    "def print_all_friends(g,start):\n",
    "    qu=[] #친구목록\n",
    "    #done=set() #중복값을 제거하기 위한 집합\n",
    "    done=[]\n",
    "    qu.append(start)\n",
    "    #done.add(start)\n",
    "    done.append(start)\n",
    "    while qu:\n",
    "        p=qu.pop(0) #첫번째 값을 뽑아서\n",
    "        print(p,end=' ') #출력\n",
    "        for x in g[p]: #딕셔너리에서 조회\n",
    "            if x not in done: #집합의 원소가 아니면 추가\n",
    "                qu.append(x)\n",
    "                #done.add(x)\n",
    "                done.append(x)\n",
    "    print('qu:',done)            \n",
    "                \n",
    "fr_info={'김철수':['홍수찬','김순기','이미영'],\n",
    "        '김순기':['김철수','한도훈'],\n",
    "        '한도훈':['이미리','김철수','김순기','설진수'],\n",
    "        '홍수찬':['이미리','최진우'],\n",
    "        '이미영':['홍수찬','이미리'],\n",
    "        '설진수':['한도훈'],\n",
    "        '최진우':['설진수'],\n",
    "        '이미리':['이미영']}\n",
    "\n",
    "print_all_friends(fr_info,'한도훈')\n",
    "print()\n",
    "print_all_friends(fr_info,'김철수')"
   ]
  },
  {
   "cell_type": "code",
   "execution_count": 8,
   "metadata": {},
   "outputs": [
    {
     "name": "stdout",
     "output_type": "stream",
     "text": [
      "('한도훈', 0) ('이미리', 1) ('김철수', 1) ('김순기', 1) ('설진수', 1) ('이미영', 2) ('홍수찬', 2) ('최진우', 3) \n",
      "('김철수', 0) ('홍수찬', 1) ('김순기', 1) ('이미영', 1) ('이미리', 2) ('최진우', 2) ('한도훈', 2) ('설진수', 3) "
     ]
    }
   ],
   "source": [
    "def print_all_friends(g,start):\n",
    "    qu=[] #친구목록\n",
    "    done=set() #중복값을 제거하기 위한 집합\n",
    "    qu.append((start,0))\n",
    "    done.add(start)\n",
    "    \n",
    "    while qu:\n",
    "        (p,d)=qu.pop(0) #(친구이름,친밀도)\n",
    "        print((p,d),end=' ') #출력\n",
    "        for x in g[p]: #딕셔너리에서 조회\n",
    "            if x not in done: #집합의 원소가 아니면 추가\n",
    "                qu.append((x,d+1)) #친밀도 증가\n",
    "                done.add(x)\n",
    "                            \n",
    "                \n",
    "fr_info={'김철수':['홍수찬','김순기','이미영'],\n",
    "        '김순기':['김철수','한도훈'],\n",
    "        '한도훈':['이미리','김철수','김순기','설진수'],\n",
    "        '홍수찬':['이미리','최진우'],\n",
    "        '이미영':['홍수찬','이미리'],\n",
    "        '설진수':['한도훈'],\n",
    "        '최진우':['설진수'],\n",
    "        '이미리':['이미영']}\n",
    "\n",
    "print_all_friends(fr_info,'한도훈')\n",
    "print()\n",
    "print_all_friends(fr_info,'김철수')"
   ]
  },
  {
   "cell_type": "code",
   "execution_count": null,
   "metadata": {},
   "outputs": [],
   "source": []
  }
 ],
 "metadata": {
  "kernelspec": {
   "display_name": "Python 3",
   "language": "python",
   "name": "python3"
  },
  "language_info": {
   "codemirror_mode": {
    "name": "ipython",
    "version": 3
   },
   "file_extension": ".py",
   "mimetype": "text/x-python",
   "name": "python",
   "nbconvert_exporter": "python",
   "pygments_lexer": "ipython3",
   "version": "3.7.4"
  }
 },
 "nbformat": 4,
 "nbformat_minor": 2
}
