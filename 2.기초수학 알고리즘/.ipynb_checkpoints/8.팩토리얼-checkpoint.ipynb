{
 "cells": [
  {
   "cell_type": "code",
   "execution_count": null,
   "metadata": {},
   "outputs": [],
   "source": [
    "def fact(n):\n",
    "    f=1\n",
    "    for i in range(1,n+1):\n",
    "        f=f*i\n",
    "    return f\n",
    "\n",
    "print(fact(1))\n",
    "print(fact(5))\n",
    "print(fact(10))\n",
    "print(fact(100))"
   ]
  },
  {
   "cell_type": "code",
   "execution_count": null,
   "metadata": {},
   "outputs": [],
   "source": [
    "import time\n",
    "\n",
    "def fact(n):\n",
    "    f=1\n",
    "    for i in range (1,n+1):\n",
    "        f=f*i\n",
    "    return f\n",
    "\n",
    "print(fact(1))\n",
    "print(fact(5))\n",
    "print(fact(10))\n",
    "print(fact(100))\n"
   ]
  },
  {
   "cell_type": "code",
   "execution_count": null,
   "metadata": {},
   "outputs": [],
   "source": [
    "def fact(n):\n",
    "    if n<=1:\n",
    "        return 1\n",
    "    return n*fact(n-1)\n",
    "\n",
    "print(fact(1)) #1\n",
    "print(fact(5)) #5x4x3x2x1\n",
    "print(fact(10)) #10x9x8x7x6x5x4x3x2x1\n",
    "print(fact(100))"
   ]
  },
  {
   "cell_type": "code",
   "execution_count": null,
   "metadata": {},
   "outputs": [],
   "source": [
    "# 1~n 의 합계(재귀호출)\n",
    "def sum_n(n):\n",
    "    if n==0:\n",
    "        return 0\n",
    "    return sum_n(n-1)+n\n",
    "\n",
    "print(sum_n(10))\n",
    "print(sum_n(100))"
   ]
  },
  {
   "cell_type": "code",
   "execution_count": null,
   "metadata": {},
   "outputs": [],
   "source": [
    "#최대값 구하기 (재귀호출)\n",
    "# find_max([100,200],2)\n",
    "# => find_max([100,200],1)\n",
    "#   => 100\n",
    "# max_n_1 : 100\n",
    "\n",
    "def find_max(a,n): #리스트 원소 갯수\n",
    "    print(a,n)\n",
    "    if n==1: #원소갯수가 1이면 첫번째 값을 리턴함\n",
    "        return a[0]\n",
    "    max_n_1 = find_max(a,n-1) #재귀 호출\n",
    "    if max_n_1 > a[n-1]: #더 큰 값이면 최대값을 변경함\n",
    "        return max_n_1\n",
    "    else:\n",
    "        return a[n-1]\n",
    "\n",
    "v=[100,200]   \n",
    "#v=[100,200,300,-500,0,50,70,90,150]\n",
    "print(find_max(v,len(v)))"
   ]
  },
  {
   "cell_type": "code",
   "execution_count": null,
   "metadata": {},
   "outputs": [],
   "source": [
    "#최대공약수\n",
    "def gcd(a,b):\n",
    "    i = min(a,b) # 더 작은 값을 구하고\n",
    "    while True:\n",
    "        # a를 i로 나눈 나머지와 b를 i로 나눈 나머지가 0 이면 (공약수)\n",
    "        if a%i == 0 and b % i ==0:\n",
    "            return i #리턴\n",
    "        i=i-1 #공약수가 아니면 i를 감수\n",
    "\n",
    "print(gcd(1,5))\n",
    "print(gcd(3,6))\n",
    "print(gcd(4,6))\n",
    "print(gcd(60,24))\n",
    "print(gcd(81,27))\n"
   ]
  },
  {
   "cell_type": "code",
   "execution_count": null,
   "metadata": {},
   "outputs": [],
   "source": [
    "# 최대공약수 구하기(재귀호출)\n",
    "# 유클리드가 밝견한 최대공약수의 특징\n",
    "# a,b의 최대공약수는 b,a%b의 최대공약수와 같다.\n",
    "# gcd(a,b) == gcd(b,a%b)\n",
    "# gcd(n,0) => n (어떤 수와 0이 최대공약수는 자기 자신)\n",
    "# gcd(10,5) => gcd(5, 10%5) => gcd(5,0) => 5\n",
    "\n",
    "def gcd(a,b):\n",
    "    if b==0:\n",
    "        return a\n",
    "    return gcd(b,a%b)\n",
    "\n",
    "print(gcd(1,5))\n",
    "print(gcd(3,6))\n",
    "print(gcd(10,5))\n",
    "print(gcd(20,4))\n",
    "print(gcd(60,24))\n",
    "print(gcd(81,27))"
   ]
  },
  {
   "cell_type": "code",
   "execution_count": null,
   "metadata": {},
   "outputs": [],
   "source": [
    "# n번쨰 피보나치 수를 구하는 코드(재귀호출)\n",
    "#0,1,1,2,3,5,8\n",
    "\n",
    "def fibo(n):\n",
    "    if n<=1:\n",
    "        return n\n",
    "    # 전전값 + 전값 n=(n-2) +(n-1)\n",
    "    return fibo(n-2)+fibo(n-1)\n",
    "\n",
    "print(fibo(0))\n",
    "print(fibo(1))\n",
    "print(fibo(2))\n",
    "print(fibo(3))\n",
    "print(fibo(7))\n",
    "print(fibo(10))"
   ]
  },
  {
   "cell_type": "code",
   "execution_count": null,
   "metadata": {},
   "outputs": [],
   "source": []
  },
  {
   "cell_type": "code",
   "execution_count": null,
   "metadata": {},
   "outputs": [],
   "source": []
  },
  {
   "cell_type": "code",
   "execution_count": null,
   "metadata": {},
   "outputs": [],
   "source": []
  }
 ],
 "metadata": {
  "kernelspec": {
   "display_name": "Python 3",
   "language": "python",
   "name": "python3"
  },
  "language_info": {
   "codemirror_mode": {
    "name": "ipython",
    "version": 3
   },
   "file_extension": ".py",
   "mimetype": "text/x-python",
   "name": "python",
   "nbconvert_exporter": "python",
   "pygments_lexer": "ipython3",
   "version": "3.7.4"
  }
 },
 "nbformat": 4,
 "nbformat_minor": 2
}
