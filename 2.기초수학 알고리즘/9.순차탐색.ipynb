{
 "cells": [
  {
   "cell_type": "code",
   "execution_count": 4,
   "metadata": {},
   "outputs": [
    {
     "name": "stdout",
     "output_type": "stream",
     "text": [
      "2\n",
      "3\n",
      "-1\n"
     ]
    }
   ],
   "source": [
    "def search_list(a,x):\n",
    "    n=len(a) #리스트의 원소 갯수\n",
    "    for i in range(0,n): #0~n-1\n",
    "        if x==a[i]: #찾는 값이면\n",
    "            return i #인덱스값(위치값)을 리턴\n",
    "    return -1 #찾는 값이 없으면 -1을 리턴\n",
    "\n",
    "v=[17,92,18,33,58,7,33,42,49,77,55,44,33,22]\n",
    "print(search_list(v,18))\n",
    "print(search_list(v,33))\n",
    "print(search_list(v,900))"
   ]
  },
  {
   "cell_type": "code",
   "execution_count": 6,
   "metadata": {},
   "outputs": [
    {
     "name": "stdout",
     "output_type": "stream",
     "text": [
      "8\n",
      "존재하지 않는 값입니다.\n",
      "프로그램 종료\n"
     ]
    }
   ],
   "source": [
    "print(v.index(49))\n",
    "try: #예외가 발생할 가능성이 있는 코드\n",
    "    print(v.index(100)) #없으면 에러 발생\n",
    "except: #예외가 발생했을 때의 처리\n",
    "    print('존재하지 않는 값입니다.')\n",
    "print('프로그램 종료')"
   ]
  },
  {
   "cell_type": "code",
   "execution_count": 9,
   "metadata": {},
   "outputs": [
    {
     "name": "stdout",
     "output_type": "stream",
     "text": [
      "[0, 5, 8]\n",
      "[]\n"
     ]
    }
   ],
   "source": [
    "#찾는 값이 여러개일 경우 인덱스의 리스트를 리턴\n",
    "def search_list(a,x):\n",
    "    n=len(a)\n",
    "    result=[]\n",
    "    for i in range(0,n):\n",
    "        if x==a[i]:\n",
    "            result.append(i)\n",
    "    return result\n",
    "\n",
    "v=[17,92,18,33,58,17,33,42,17,49,77,55,44,33,22]\n",
    "print(search_list(v,17))\n",
    "print(search_list(v,100))"
   ]
  },
  {
   "cell_type": "code",
   "execution_count": 10,
   "metadata": {},
   "outputs": [
    {
     "name": "stdout",
     "output_type": "stream",
     "text": [
      "이미영\n",
      "?\n"
     ]
    }
   ],
   "source": [
    "def get_name(s_no,s_name,find_no):\n",
    "    n=len(s_no)\n",
    "    for i in range(0,n):\n",
    "        if find_no == s_no[i]:\n",
    "            return s_name[i]\n",
    "    return '?'\n",
    "nums=[39,14,67,105]\n",
    "names=['김철수','최상호','이미영','한선영']\n",
    "#학생번호에 맞는 학생이름을 출력\n",
    "print(get_name(nums, names, 67))\n",
    "# 없으면 ? 출력\n",
    "print(get_name(nums,names,70))"
   ]
  },
  {
   "cell_type": "code",
   "execution_count": null,
   "metadata": {},
   "outputs": [],
   "source": []
  }
 ],
 "metadata": {
  "kernelspec": {
   "display_name": "Python 3",
   "language": "python",
   "name": "python3"
  },
  "language_info": {
   "codemirror_mode": {
    "name": "ipython",
    "version": 3
   },
   "file_extension": ".py",
   "mimetype": "text/x-python",
   "name": "python",
   "nbconvert_exporter": "python",
   "pygments_lexer": "ipython3",
   "version": "3.7.4"
  }
 },
 "nbformat": 4,
 "nbformat_minor": 2
}
